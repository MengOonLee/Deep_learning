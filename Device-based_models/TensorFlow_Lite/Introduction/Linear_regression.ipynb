{
  "nbformat": 4,
  "nbformat_minor": 0,
  "metadata": {
    "accelerator": "GPU",
    "colab": {
      "name": "TFLite_Week1_Linear_Regression.ipynb",
      "provenance": [],
      "collapsed_sections": [],
      "include_colab_link": true
    },
    "kernelspec": {
      "display_name": "Python 3",
      "language": "python",
      "name": "python3"
    },
    "language_info": {
      "codemirror_mode": {
        "name": "ipython",
        "version": 3
      },
      "file_extension": ".py",
      "mimetype": "text/x-python",
      "name": "python",
      "nbconvert_exporter": "python",
      "pygments_lexer": "ipython3",
      "version": "3.7.4"
    }
  },
  "cells": [
    {
      "cell_type": "markdown",
      "metadata": {
        "id": "view-in-github",
        "colab_type": "text"
      },
      "source": [
        "<a href=\"https://colab.research.google.com/github/MengOonLee/Deep_learning/blob/master/Device-based_models/TensorFlow_Lite/Introduction/Linear_regression.ipynb\" target=\"_parent\"><img src=\"https://colab.research.google.com/assets/colab-badge.svg\" alt=\"Open In Colab\"/></a>"
      ]
    },
    {
      "cell_type": "code",
      "metadata": {
        "id": "zX4Kg8DUTKWO"
      },
      "source": [
        "#@title Licensed under the Apache License, Version 2.0 (the \"License\");\n",
        "# you may not use this file except in compliance with the License.\n",
        "# You may obtain a copy of the License at\n",
        "#\n",
        "# https://www.apache.org/licenses/LICENSE-2.0\n",
        "#\n",
        "# Unless required by applicable law or agreed to in writing, software\n",
        "# distributed under the License is distributed on an \"AS IS\" BASIS,\n",
        "# WITHOUT WARRANTIES OR CONDITIONS OF ANY KIND, either express or implied.\n",
        "# See the License for the specific language governing permissions and\n",
        "# limitations under the License."
      ],
      "execution_count": null,
      "outputs": []
    },
    {
      "cell_type": "markdown",
      "metadata": {
        "id": "Za8-Nr5k11fh"
      },
      "source": [
        "##### Copyright 2018 The TensorFlow Authors."
      ]
    },
    {
      "cell_type": "code",
      "metadata": {
        "cellView": "form",
        "id": "Eq10uEbw0E4l"
      },
      "source": [
        "#@title Licensed under the Apache License, Version 2.0 (the \"License\");\n",
        "# you may not use this file except in compliance with the License.\n",
        "# You may obtain a copy of the License at\n",
        "#\n",
        "# https://www.apache.org/licenses/LICENSE-2.0\n",
        "#\n",
        "# Unless required by applicable law or agreed to in writing, software\n",
        "# distributed under the License is distributed on an \"AS IS\" BASIS,\n",
        "# WITHOUT WARRANTIES OR CONDITIONS OF ANY KIND, either express or implied.\n",
        "# See the License for the specific language governing permissions and\n",
        "# limitations under the License."
      ],
      "execution_count": null,
      "outputs": []
    },
    {
      "cell_type": "markdown",
      "metadata": {
        "id": "UysiGN3tGQHY"
      },
      "source": [
        "# Running TFLite models"
      ]
    },
    {
      "cell_type": "markdown",
      "metadata": {
        "id": "W-VhTkyTGcaQ"
      },
      "source": [
        "## Setup"
      ]
    },
    {
      "cell_type": "code",
      "metadata": {
        "id": "Ll4ii2J9Fea_"
      },
      "source": [
        "try:\n",
        "    %tensorflow_version 2.x\n",
        "except:\n",
        "    pass"
      ],
      "execution_count": 1,
      "outputs": []
    },
    {
      "cell_type": "code",
      "metadata": {
        "id": "dy4BcTjBFTWx",
        "outputId": "f57eb403-758b-464d-a704-b80d0b4782a3",
        "colab": {
          "base_uri": "https://localhost:8080/"
        }
      },
      "source": [
        "import pathlib\n",
        "import numpy as np\n",
        "import matplotlib.pyplot as plt\n",
        "\n",
        "import tensorflow as tf\n",
        "\n",
        "print('\\u2022 Using TensorFlow Version:', tf.__version__)"
      ],
      "execution_count": 2,
      "outputs": [
        {
          "output_type": "stream",
          "text": [
            "• Using TensorFlow Version: 2.4.0\n"
          ],
          "name": "stdout"
        }
      ]
    },
    {
      "cell_type": "markdown",
      "metadata": {
        "id": "ceibQLDeGhI4"
      },
      "source": [
        "## Create a Basic Model of the Form y = mx + c"
      ]
    },
    {
      "cell_type": "code",
      "metadata": {
        "id": "YIBCsjQNF46Z",
        "outputId": "8ce8ba3d-76ad-47f1-f96f-9ecab792cdf0",
        "colab": {
          "base_uri": "https://localhost:8080/"
        }
      },
      "source": [
        "# Create a simple Keras model.\n",
        "x = [-1, 0, 1, 2, 3, 4]\n",
        "y = [-3, -1, 1, 3, 5, 7]\n",
        "\n",
        "model = tf.keras.models.Sequential([\n",
        "        tf.keras.layers.Dense(units=1, input_shape=[1])\n",
        "])\n",
        "\n",
        "model.compile(optimizer='sgd',\n",
        "              loss='mean_squared_error')\n",
        "\n",
        "model.fit(x, y, epochs=200)"
      ],
      "execution_count": 3,
      "outputs": [
        {
          "output_type": "stream",
          "text": [
            "Epoch 1/200\n",
            "1/1 [==============================] - 1s 528ms/step - loss: 27.9262\n",
            "Epoch 2/200\n",
            "1/1 [==============================] - 0s 3ms/step - loss: 22.2747\n",
            "Epoch 3/200\n",
            "1/1 [==============================] - 0s 3ms/step - loss: 17.8221\n",
            "Epoch 4/200\n",
            "1/1 [==============================] - 0s 3ms/step - loss: 14.3129\n",
            "Epoch 5/200\n",
            "1/1 [==============================] - 0s 3ms/step - loss: 11.5461\n",
            "Epoch 6/200\n",
            "1/1 [==============================] - 0s 3ms/step - loss: 9.3634\n",
            "Epoch 7/200\n",
            "1/1 [==============================] - 0s 3ms/step - loss: 7.6404\n",
            "Epoch 8/200\n",
            "1/1 [==============================] - 0s 3ms/step - loss: 6.2792\n",
            "Epoch 9/200\n",
            "1/1 [==============================] - 0s 3ms/step - loss: 5.2028\n",
            "Epoch 10/200\n",
            "1/1 [==============================] - 0s 3ms/step - loss: 4.3505\n",
            "Epoch 11/200\n",
            "1/1 [==============================] - 0s 3ms/step - loss: 3.6747\n",
            "Epoch 12/200\n",
            "1/1 [==============================] - 0s 3ms/step - loss: 3.1379\n",
            "Epoch 13/200\n",
            "1/1 [==============================] - 0s 3ms/step - loss: 2.7104\n",
            "Epoch 14/200\n",
            "1/1 [==============================] - 0s 5ms/step - loss: 2.3692\n",
            "Epoch 15/200\n",
            "1/1 [==============================] - 0s 7ms/step - loss: 2.0958\n",
            "Epoch 16/200\n",
            "1/1 [==============================] - 0s 3ms/step - loss: 1.8760\n",
            "Epoch 17/200\n",
            "1/1 [==============================] - 0s 3ms/step - loss: 1.6984\n",
            "Epoch 18/200\n",
            "1/1 [==============================] - 0s 5ms/step - loss: 1.5541\n",
            "Epoch 19/200\n",
            "1/1 [==============================] - 0s 3ms/step - loss: 1.4361\n",
            "Epoch 20/200\n",
            "1/1 [==============================] - 0s 6ms/step - loss: 1.3388\n",
            "Epoch 21/200\n",
            "1/1 [==============================] - 0s 5ms/step - loss: 1.2581\n",
            "Epoch 22/200\n",
            "1/1 [==============================] - 0s 3ms/step - loss: 1.1903\n",
            "Epoch 23/200\n",
            "1/1 [==============================] - 0s 3ms/step - loss: 1.1329\n",
            "Epoch 24/200\n",
            "1/1 [==============================] - 0s 3ms/step - loss: 1.0836\n",
            "Epoch 25/200\n",
            "1/1 [==============================] - 0s 4ms/step - loss: 1.0410\n",
            "Epoch 26/200\n",
            "1/1 [==============================] - 0s 4ms/step - loss: 1.0035\n",
            "Epoch 27/200\n",
            "1/1 [==============================] - 0s 3ms/step - loss: 0.9703\n",
            "Epoch 28/200\n",
            "1/1 [==============================] - 0s 3ms/step - loss: 0.9404\n",
            "Epoch 29/200\n",
            "1/1 [==============================] - 0s 3ms/step - loss: 0.9133\n",
            "Epoch 30/200\n",
            "1/1 [==============================] - 0s 3ms/step - loss: 0.8884\n",
            "Epoch 31/200\n",
            "1/1 [==============================] - 0s 3ms/step - loss: 0.8653\n",
            "Epoch 32/200\n",
            "1/1 [==============================] - 0s 3ms/step - loss: 0.8437\n",
            "Epoch 33/200\n",
            "1/1 [==============================] - 0s 3ms/step - loss: 0.8234\n",
            "Epoch 34/200\n",
            "1/1 [==============================] - 0s 5ms/step - loss: 0.8041\n",
            "Epoch 35/200\n",
            "1/1 [==============================] - 0s 3ms/step - loss: 0.7857\n",
            "Epoch 36/200\n",
            "1/1 [==============================] - 0s 3ms/step - loss: 0.7681\n",
            "Epoch 37/200\n",
            "1/1 [==============================] - 0s 5ms/step - loss: 0.7512\n",
            "Epoch 38/200\n",
            "1/1 [==============================] - 0s 4ms/step - loss: 0.7349\n",
            "Epoch 39/200\n",
            "1/1 [==============================] - 0s 12ms/step - loss: 0.7191\n",
            "Epoch 40/200\n",
            "1/1 [==============================] - 0s 5ms/step - loss: 0.7037\n",
            "Epoch 41/200\n",
            "1/1 [==============================] - 0s 3ms/step - loss: 0.6888\n",
            "Epoch 42/200\n",
            "1/1 [==============================] - 0s 3ms/step - loss: 0.6743\n",
            "Epoch 43/200\n",
            "1/1 [==============================] - 0s 5ms/step - loss: 0.6602\n",
            "Epoch 44/200\n",
            "1/1 [==============================] - 0s 5ms/step - loss: 0.6464\n",
            "Epoch 45/200\n",
            "1/1 [==============================] - 0s 3ms/step - loss: 0.6330\n",
            "Epoch 46/200\n",
            "1/1 [==============================] - 0s 5ms/step - loss: 0.6199\n",
            "Epoch 47/200\n",
            "1/1 [==============================] - 0s 5ms/step - loss: 0.6070\n",
            "Epoch 48/200\n",
            "1/1 [==============================] - 0s 3ms/step - loss: 0.5945\n",
            "Epoch 49/200\n",
            "1/1 [==============================] - 0s 5ms/step - loss: 0.5822\n",
            "Epoch 50/200\n",
            "1/1 [==============================] - 0s 3ms/step - loss: 0.5702\n",
            "Epoch 51/200\n",
            "1/1 [==============================] - 0s 3ms/step - loss: 0.5584\n",
            "Epoch 52/200\n",
            "1/1 [==============================] - 0s 3ms/step - loss: 0.5469\n",
            "Epoch 53/200\n",
            "1/1 [==============================] - 0s 3ms/step - loss: 0.5357\n",
            "Epoch 54/200\n",
            "1/1 [==============================] - 0s 3ms/step - loss: 0.5246\n",
            "Epoch 55/200\n",
            "1/1 [==============================] - 0s 5ms/step - loss: 0.5139\n",
            "Epoch 56/200\n",
            "1/1 [==============================] - 0s 3ms/step - loss: 0.5033\n",
            "Epoch 57/200\n",
            "1/1 [==============================] - 0s 3ms/step - loss: 0.4929\n",
            "Epoch 58/200\n",
            "1/1 [==============================] - 0s 3ms/step - loss: 0.4828\n",
            "Epoch 59/200\n",
            "1/1 [==============================] - 0s 6ms/step - loss: 0.4729\n",
            "Epoch 60/200\n",
            "1/1 [==============================] - 0s 3ms/step - loss: 0.4632\n",
            "Epoch 61/200\n",
            "1/1 [==============================] - 0s 3ms/step - loss: 0.4536\n",
            "Epoch 62/200\n",
            "1/1 [==============================] - 0s 3ms/step - loss: 0.4443\n",
            "Epoch 63/200\n",
            "1/1 [==============================] - 0s 3ms/step - loss: 0.4352\n",
            "Epoch 64/200\n",
            "1/1 [==============================] - 0s 3ms/step - loss: 0.4263\n",
            "Epoch 65/200\n",
            "1/1 [==============================] - 0s 3ms/step - loss: 0.4175\n",
            "Epoch 66/200\n",
            "1/1 [==============================] - 0s 3ms/step - loss: 0.4089\n",
            "Epoch 67/200\n",
            "1/1 [==============================] - 0s 4ms/step - loss: 0.4005\n",
            "Epoch 68/200\n",
            "1/1 [==============================] - 0s 7ms/step - loss: 0.3923\n",
            "Epoch 69/200\n",
            "1/1 [==============================] - 0s 3ms/step - loss: 0.3842\n",
            "Epoch 70/200\n",
            "1/1 [==============================] - 0s 5ms/step - loss: 0.3763\n",
            "Epoch 71/200\n",
            "1/1 [==============================] - 0s 3ms/step - loss: 0.3686\n",
            "Epoch 72/200\n",
            "1/1 [==============================] - 0s 4ms/step - loss: 0.3610\n",
            "Epoch 73/200\n",
            "1/1 [==============================] - 0s 3ms/step - loss: 0.3536\n",
            "Epoch 74/200\n",
            "1/1 [==============================] - 0s 3ms/step - loss: 0.3464\n",
            "Epoch 75/200\n",
            "1/1 [==============================] - 0s 3ms/step - loss: 0.3392\n",
            "Epoch 76/200\n",
            "1/1 [==============================] - 0s 3ms/step - loss: 0.3323\n",
            "Epoch 77/200\n",
            "1/1 [==============================] - 0s 6ms/step - loss: 0.3255\n",
            "Epoch 78/200\n",
            "1/1 [==============================] - 0s 3ms/step - loss: 0.3188\n",
            "Epoch 79/200\n",
            "1/1 [==============================] - 0s 4ms/step - loss: 0.3122\n",
            "Epoch 80/200\n",
            "1/1 [==============================] - 0s 3ms/step - loss: 0.3058\n",
            "Epoch 81/200\n",
            "1/1 [==============================] - 0s 4ms/step - loss: 0.2995\n",
            "Epoch 82/200\n",
            "1/1 [==============================] - 0s 4ms/step - loss: 0.2934\n",
            "Epoch 83/200\n",
            "1/1 [==============================] - 0s 4ms/step - loss: 0.2873\n",
            "Epoch 84/200\n",
            "1/1 [==============================] - 0s 4ms/step - loss: 0.2814\n",
            "Epoch 85/200\n",
            "1/1 [==============================] - 0s 3ms/step - loss: 0.2757\n",
            "Epoch 86/200\n",
            "1/1 [==============================] - 0s 6ms/step - loss: 0.2700\n",
            "Epoch 87/200\n",
            "1/1 [==============================] - 0s 6ms/step - loss: 0.2645\n",
            "Epoch 88/200\n",
            "1/1 [==============================] - 0s 6ms/step - loss: 0.2590\n",
            "Epoch 89/200\n",
            "1/1 [==============================] - 0s 4ms/step - loss: 0.2537\n",
            "Epoch 90/200\n",
            "1/1 [==============================] - 0s 5ms/step - loss: 0.2485\n",
            "Epoch 91/200\n",
            "1/1 [==============================] - 0s 6ms/step - loss: 0.2434\n",
            "Epoch 92/200\n",
            "1/1 [==============================] - 0s 4ms/step - loss: 0.2384\n",
            "Epoch 93/200\n",
            "1/1 [==============================] - 0s 4ms/step - loss: 0.2335\n",
            "Epoch 94/200\n",
            "1/1 [==============================] - 0s 7ms/step - loss: 0.2287\n",
            "Epoch 95/200\n",
            "1/1 [==============================] - 0s 6ms/step - loss: 0.2240\n",
            "Epoch 96/200\n",
            "1/1 [==============================] - 0s 6ms/step - loss: 0.2194\n",
            "Epoch 97/200\n",
            "1/1 [==============================] - 0s 5ms/step - loss: 0.2149\n",
            "Epoch 98/200\n",
            "1/1 [==============================] - 0s 5ms/step - loss: 0.2105\n",
            "Epoch 99/200\n",
            "1/1 [==============================] - 0s 6ms/step - loss: 0.2062\n",
            "Epoch 100/200\n",
            "1/1 [==============================] - 0s 5ms/step - loss: 0.2019\n",
            "Epoch 101/200\n",
            "1/1 [==============================] - 0s 5ms/step - loss: 0.1978\n",
            "Epoch 102/200\n",
            "1/1 [==============================] - 0s 3ms/step - loss: 0.1937\n",
            "Epoch 103/200\n",
            "1/1 [==============================] - 0s 3ms/step - loss: 0.1897\n",
            "Epoch 104/200\n",
            "1/1 [==============================] - 0s 6ms/step - loss: 0.1858\n",
            "Epoch 105/200\n",
            "1/1 [==============================] - 0s 6ms/step - loss: 0.1820\n",
            "Epoch 106/200\n",
            "1/1 [==============================] - 0s 4ms/step - loss: 0.1783\n",
            "Epoch 107/200\n",
            "1/1 [==============================] - 0s 4ms/step - loss: 0.1746\n",
            "Epoch 108/200\n",
            "1/1 [==============================] - 0s 3ms/step - loss: 0.1710\n",
            "Epoch 109/200\n",
            "1/1 [==============================] - 0s 3ms/step - loss: 0.1675\n",
            "Epoch 110/200\n",
            "1/1 [==============================] - 0s 3ms/step - loss: 0.1641\n",
            "Epoch 111/200\n",
            "1/1 [==============================] - 0s 3ms/step - loss: 0.1607\n",
            "Epoch 112/200\n",
            "1/1 [==============================] - 0s 7ms/step - loss: 0.1574\n",
            "Epoch 113/200\n",
            "1/1 [==============================] - 0s 4ms/step - loss: 0.1542\n",
            "Epoch 114/200\n",
            "1/1 [==============================] - 0s 4ms/step - loss: 0.1510\n",
            "Epoch 115/200\n",
            "1/1 [==============================] - 0s 5ms/step - loss: 0.1479\n",
            "Epoch 116/200\n",
            "1/1 [==============================] - 0s 4ms/step - loss: 0.1449\n",
            "Epoch 117/200\n",
            "1/1 [==============================] - 0s 4ms/step - loss: 0.1419\n",
            "Epoch 118/200\n",
            "1/1 [==============================] - 0s 6ms/step - loss: 0.1390\n",
            "Epoch 119/200\n",
            "1/1 [==============================] - 0s 3ms/step - loss: 0.1361\n",
            "Epoch 120/200\n",
            "1/1 [==============================] - 0s 3ms/step - loss: 0.1333\n",
            "Epoch 121/200\n",
            "1/1 [==============================] - 0s 3ms/step - loss: 0.1306\n",
            "Epoch 122/200\n",
            "1/1 [==============================] - 0s 3ms/step - loss: 0.1279\n",
            "Epoch 123/200\n",
            "1/1 [==============================] - 0s 3ms/step - loss: 0.1253\n",
            "Epoch 124/200\n",
            "1/1 [==============================] - 0s 4ms/step - loss: 0.1227\n",
            "Epoch 125/200\n",
            "1/1 [==============================] - 0s 6ms/step - loss: 0.1202\n",
            "Epoch 126/200\n",
            "1/1 [==============================] - 0s 3ms/step - loss: 0.1177\n",
            "Epoch 127/200\n",
            "1/1 [==============================] - 0s 7ms/step - loss: 0.1153\n",
            "Epoch 128/200\n",
            "1/1 [==============================] - 0s 4ms/step - loss: 0.1129\n",
            "Epoch 129/200\n",
            "1/1 [==============================] - 0s 4ms/step - loss: 0.1106\n",
            "Epoch 130/200\n",
            "1/1 [==============================] - 0s 4ms/step - loss: 0.1083\n",
            "Epoch 131/200\n",
            "1/1 [==============================] - 0s 4ms/step - loss: 0.1061\n",
            "Epoch 132/200\n",
            "1/1 [==============================] - 0s 4ms/step - loss: 0.1039\n",
            "Epoch 133/200\n",
            "1/1 [==============================] - 0s 3ms/step - loss: 0.1018\n",
            "Epoch 134/200\n",
            "1/1 [==============================] - 0s 3ms/step - loss: 0.0997\n",
            "Epoch 135/200\n",
            "1/1 [==============================] - 0s 6ms/step - loss: 0.0977\n",
            "Epoch 136/200\n",
            "1/1 [==============================] - 0s 6ms/step - loss: 0.0957\n",
            "Epoch 137/200\n",
            "1/1 [==============================] - 0s 8ms/step - loss: 0.0937\n",
            "Epoch 138/200\n",
            "1/1 [==============================] - 0s 5ms/step - loss: 0.0918\n",
            "Epoch 139/200\n",
            "1/1 [==============================] - 0s 6ms/step - loss: 0.0899\n",
            "Epoch 140/200\n",
            "1/1 [==============================] - 0s 4ms/step - loss: 0.0880\n",
            "Epoch 141/200\n",
            "1/1 [==============================] - 0s 4ms/step - loss: 0.0862\n",
            "Epoch 142/200\n",
            "1/1 [==============================] - 0s 3ms/step - loss: 0.0845\n",
            "Epoch 143/200\n",
            "1/1 [==============================] - 0s 3ms/step - loss: 0.0827\n",
            "Epoch 144/200\n",
            "1/1 [==============================] - 0s 4ms/step - loss: 0.0810\n",
            "Epoch 145/200\n",
            "1/1 [==============================] - 0s 3ms/step - loss: 0.0794\n",
            "Epoch 146/200\n",
            "1/1 [==============================] - 0s 4ms/step - loss: 0.0777\n",
            "Epoch 147/200\n",
            "1/1 [==============================] - 0s 10ms/step - loss: 0.0761\n",
            "Epoch 148/200\n",
            "1/1 [==============================] - 0s 5ms/step - loss: 0.0746\n",
            "Epoch 149/200\n",
            "1/1 [==============================] - 0s 4ms/step - loss: 0.0730\n",
            "Epoch 150/200\n",
            "1/1 [==============================] - 0s 3ms/step - loss: 0.0715\n",
            "Epoch 151/200\n",
            "1/1 [==============================] - 0s 4ms/step - loss: 0.0701\n",
            "Epoch 152/200\n",
            "1/1 [==============================] - 0s 5ms/step - loss: 0.0686\n",
            "Epoch 153/200\n",
            "1/1 [==============================] - 0s 3ms/step - loss: 0.0672\n",
            "Epoch 154/200\n",
            "1/1 [==============================] - 0s 4ms/step - loss: 0.0658\n",
            "Epoch 155/200\n",
            "1/1 [==============================] - 0s 3ms/step - loss: 0.0645\n",
            "Epoch 156/200\n",
            "1/1 [==============================] - 0s 3ms/step - loss: 0.0632\n",
            "Epoch 157/200\n",
            "1/1 [==============================] - 0s 3ms/step - loss: 0.0619\n",
            "Epoch 158/200\n",
            "1/1 [==============================] - 0s 3ms/step - loss: 0.0606\n",
            "Epoch 159/200\n",
            "1/1 [==============================] - 0s 3ms/step - loss: 0.0593\n",
            "Epoch 160/200\n",
            "1/1 [==============================] - 0s 3ms/step - loss: 0.0581\n",
            "Epoch 161/200\n",
            "1/1 [==============================] - 0s 3ms/step - loss: 0.0569\n",
            "Epoch 162/200\n",
            "1/1 [==============================] - 0s 4ms/step - loss: 0.0558\n",
            "Epoch 163/200\n",
            "1/1 [==============================] - 0s 4ms/step - loss: 0.0546\n",
            "Epoch 164/200\n",
            "1/1 [==============================] - 0s 3ms/step - loss: 0.0535\n",
            "Epoch 165/200\n",
            "1/1 [==============================] - 0s 3ms/step - loss: 0.0524\n",
            "Epoch 166/200\n",
            "1/1 [==============================] - 0s 4ms/step - loss: 0.0513\n",
            "Epoch 167/200\n",
            "1/1 [==============================] - 0s 4ms/step - loss: 0.0503\n",
            "Epoch 168/200\n",
            "1/1 [==============================] - 0s 3ms/step - loss: 0.0492\n",
            "Epoch 169/200\n",
            "1/1 [==============================] - 0s 3ms/step - loss: 0.0482\n",
            "Epoch 170/200\n",
            "1/1 [==============================] - 0s 4ms/step - loss: 0.0472\n",
            "Epoch 171/200\n",
            "1/1 [==============================] - 0s 3ms/step - loss: 0.0463\n",
            "Epoch 172/200\n",
            "1/1 [==============================] - 0s 3ms/step - loss: 0.0453\n",
            "Epoch 173/200\n",
            "1/1 [==============================] - 0s 3ms/step - loss: 0.0444\n",
            "Epoch 174/200\n",
            "1/1 [==============================] - 0s 3ms/step - loss: 0.0435\n",
            "Epoch 175/200\n",
            "1/1 [==============================] - 0s 5ms/step - loss: 0.0426\n",
            "Epoch 176/200\n",
            "1/1 [==============================] - 0s 4ms/step - loss: 0.0417\n",
            "Epoch 177/200\n",
            "1/1 [==============================] - 0s 3ms/step - loss: 0.0408\n",
            "Epoch 178/200\n",
            "1/1 [==============================] - 0s 3ms/step - loss: 0.0400\n",
            "Epoch 179/200\n",
            "1/1 [==============================] - 0s 4ms/step - loss: 0.0392\n",
            "Epoch 180/200\n",
            "1/1 [==============================] - 0s 6ms/step - loss: 0.0384\n",
            "Epoch 181/200\n",
            "1/1 [==============================] - 0s 3ms/step - loss: 0.0376\n",
            "Epoch 182/200\n",
            "1/1 [==============================] - 0s 3ms/step - loss: 0.0368\n",
            "Epoch 183/200\n",
            "1/1 [==============================] - 0s 5ms/step - loss: 0.0361\n",
            "Epoch 184/200\n",
            "1/1 [==============================] - 0s 3ms/step - loss: 0.0353\n",
            "Epoch 185/200\n",
            "1/1 [==============================] - 0s 3ms/step - loss: 0.0346\n",
            "Epoch 186/200\n",
            "1/1 [==============================] - 0s 3ms/step - loss: 0.0339\n",
            "Epoch 187/200\n",
            "1/1 [==============================] - 0s 4ms/step - loss: 0.0332\n",
            "Epoch 188/200\n",
            "1/1 [==============================] - 0s 3ms/step - loss: 0.0325\n",
            "Epoch 189/200\n",
            "1/1 [==============================] - 0s 10ms/step - loss: 0.0318\n",
            "Epoch 190/200\n",
            "1/1 [==============================] - 0s 3ms/step - loss: 0.0312\n",
            "Epoch 191/200\n",
            "1/1 [==============================] - 0s 3ms/step - loss: 0.0305\n",
            "Epoch 192/200\n",
            "1/1 [==============================] - 0s 6ms/step - loss: 0.0299\n",
            "Epoch 193/200\n",
            "1/1 [==============================] - 0s 3ms/step - loss: 0.0293\n",
            "Epoch 194/200\n",
            "1/1 [==============================] - 0s 3ms/step - loss: 0.0287\n",
            "Epoch 195/200\n",
            "1/1 [==============================] - 0s 5ms/step - loss: 0.0281\n",
            "Epoch 196/200\n",
            "1/1 [==============================] - 0s 4ms/step - loss: 0.0275\n",
            "Epoch 197/200\n",
            "1/1 [==============================] - 0s 3ms/step - loss: 0.0270\n",
            "Epoch 198/200\n",
            "1/1 [==============================] - 0s 3ms/step - loss: 0.0264\n",
            "Epoch 199/200\n",
            "1/1 [==============================] - 0s 3ms/step - loss: 0.0259\n",
            "Epoch 200/200\n",
            "1/1 [==============================] - 0s 3ms/step - loss: 0.0253\n"
          ],
          "name": "stdout"
        },
        {
          "output_type": "execute_result",
          "data": {
            "text/plain": [
              "<tensorflow.python.keras.callbacks.History at 0x7f32e354a940>"
            ]
          },
          "metadata": {
            "tags": []
          },
          "execution_count": 3
        }
      ]
    },
    {
      "cell_type": "markdown",
      "metadata": {
        "id": "EjsB-QICGt6L"
      },
      "source": [
        "## Generate a SavedModel"
      ]
    },
    {
      "cell_type": "code",
      "metadata": {
        "id": "a9xcbK7QHOfm",
        "outputId": "dcc9a3dc-f5a6-4926-bdd9-1bb5fbb070e7",
        "colab": {
          "base_uri": "https://localhost:8080/"
        }
      },
      "source": [
        "export_dir = 'saved_model/1'\n",
        "tf.saved_model.save(model, export_dir)"
      ],
      "execution_count": 4,
      "outputs": [
        {
          "output_type": "stream",
          "text": [
            "INFO:tensorflow:Assets written to: saved_model/1/assets\n"
          ],
          "name": "stdout"
        }
      ]
    },
    {
      "cell_type": "markdown",
      "metadata": {
        "id": "RRtsNwkiGxcO"
      },
      "source": [
        "## Convert the SavedModel to TFLite"
      ]
    },
    {
      "cell_type": "code",
      "metadata": {
        "id": "TtM8yKTVTpD3"
      },
      "source": [
        "# Convert the model.\n",
        "converter = tf.lite.TFLiteConverter.from_saved_model(export_dir)\n",
        "tflite_model = converter.convert()"
      ],
      "execution_count": 5,
      "outputs": []
    },
    {
      "cell_type": "code",
      "metadata": {
        "id": "4idYulcNHTdO",
        "outputId": "f9d61ddd-9fa8-42a7-ec38-aeca40931ab2",
        "colab": {
          "base_uri": "https://localhost:8080/"
        }
      },
      "source": [
        "tflite_model_file = pathlib.Path('model.tflite')\n",
        "tflite_model_file.write_bytes(tflite_model)"
      ],
      "execution_count": 6,
      "outputs": [
        {
          "output_type": "execute_result",
          "data": {
            "text/plain": [
              "896"
            ]
          },
          "metadata": {
            "tags": []
          },
          "execution_count": 6
        }
      ]
    },
    {
      "cell_type": "markdown",
      "metadata": {
        "id": "HgGvp2yBG25Q"
      },
      "source": [
        "## Initialize the TFLite Interpreter To Try It Out"
      ]
    },
    {
      "cell_type": "code",
      "metadata": {
        "id": "DOt94wIWF8m7"
      },
      "source": [
        "# Load TFLite model and allocate tensors.\n",
        "interpreter = tf.lite.Interpreter(model_content=tflite_model)\n",
        "interpreter.allocate_tensors()\n",
        "\n",
        "# Get input and output tensors.\n",
        "input_details = interpreter.get_input_details()\n",
        "output_details = interpreter.get_output_details()"
      ],
      "execution_count": 7,
      "outputs": []
    },
    {
      "cell_type": "code",
      "metadata": {
        "id": "JGYkEK08F8qK"
      },
      "source": [
        "# Test the TensorFlow Lite model on random input data.\n",
        "input_shape = input_details[0]['shape']\n",
        "inputs, outputs = [], []\n",
        "for _ in range(100):\n",
        "    input_data = np.array(np.random.random_sample(input_shape), dtype=np.float32)\n",
        "    interpreter.set_tensor(input_details[0]['index'], input_data)\n",
        "    \n",
        "    interpreter.invoke()\n",
        "    tflite_results = interpreter.get_tensor(output_details[0]['index'])\n",
        "    \n",
        "    # Test the TensorFlow model on random input data.\n",
        "    output_data = np.array(tflite_results)\n",
        "    \n",
        "    inputs.append(input_data[0][0])\n",
        "    outputs.append(output_data[0][0])"
      ],
      "execution_count": 8,
      "outputs": []
    },
    {
      "cell_type": "markdown",
      "metadata": {
        "id": "t1gQGH1KWAgW"
      },
      "source": [
        "## Visualize the Model"
      ]
    },
    {
      "cell_type": "code",
      "metadata": {
        "id": "ccvQ1mEJVrqo",
        "outputId": "faa52611-c698-4c53-ab1d-f67f800df804",
        "colab": {
          "base_uri": "https://localhost:8080/",
          "height": 265
        }
      },
      "source": [
        "%matplotlib inline\n",
        "\n",
        "plt.plot(inputs, outputs, 'r')\n",
        "plt.show()"
      ],
      "execution_count": 9,
      "outputs": [
        {
          "output_type": "display_data",
          "data": {
            "image/png": "[encoded data removed]",
            "text/plain": [
              "<Figure size 432x288 with 1 Axes>"
            ]
          },
          "metadata": {
            "tags": [],
            "needs_background": "light"
          }
        }
      ]
    },
    {
      "cell_type": "markdown",
      "metadata": {
        "id": "WbugMH6yKvtd"
      },
      "source": [
        "## Download the TFLite Model File\n",
        "\n",
        "If you are running this notebook in a Colab, you can run the cell below to download the tflite model to your local disk. \n",
        "\n",
        "**Note**: If the file does not download when you run the cell, try running the cell a second time."
      ]
    },
    {
      "cell_type": "code",
      "metadata": {
        "id": "FOAIMETeJmkc",
        "outputId": "71985891-67a7-4e88-f357-6515a4943d36",
        "colab": {
          "base_uri": "https://localhost:8080/",
          "height": 17
        }
      },
      "source": [
        "try:\n",
        "    from google.colab import files\n",
        "    files.download(tflite_model_file)\n",
        "except:\n",
        "    pass"
      ],
      "execution_count": 12,
      "outputs": [
        {
          "output_type": "display_data",
          "data": {
            "application/javascript": [
              "\n",
              "    async function download(id, filename, size) {\n",
              "      if (!google.colab.kernel.accessAllowed) {\n",
              "        return;\n",
              "      }\n",
              "      const div = document.createElement('div');\n",
              "      const label = document.createElement('label');\n",
              "      label.textContent = `Downloading \"${filename}\": `;\n",
              "      div.appendChild(label);\n",
              "      const progress = document.createElement('progress');\n",
              "      progress.max = size;\n",
              "      div.appendChild(progress);\n",
              "      document.body.appendChild(div);\n",
              "\n",
              "      const buffers = [];\n",
              "      let downloaded = 0;\n",
              "\n",
              "      const channel = await google.colab.kernel.comms.open(id);\n",
              "      // Send a message to notify the kernel that we're ready.\n",
              "      channel.send({})\n",
              "\n",
              "      for await (const message of channel.messages) {\n",
              "        // Send a message to notify the kernel that we're ready.\n",
              "        channel.send({})\n",
              "        if (message.buffers) {\n",
              "          for (const buffer of message.buffers) {\n",
              "            buffers.push(buffer);\n",
              "            downloaded += buffer.byteLength;\n",
              "            progress.value = downloaded;\n",
              "          }\n",
              "        }\n",
              "      }\n",
              "      const blob = new Blob(buffers, {type: 'application/binary'});\n",
              "      const a = document.createElement('a');\n",
              "      a.href = window.URL.createObjectURL(blob);\n",
              "      a.download = filename;\n",
              "      div.appendChild(a);\n",
              "      a.click();\n",
              "      div.remove();\n",
              "    }\n",
              "  "
            ],
            "text/plain": [
              "<IPython.core.display.Javascript object>"
            ]
          },
          "metadata": {
            "tags": []
          }
        },
        {
          "output_type": "display_data",
          "data": {
            "application/javascript": [
              "download(\"download_8e18b556-5838-45c6-afa2-c0ad8341a063\", \"model.tflite\", 896)"
            ],
            "text/plain": [
              "<IPython.core.display.Javascript object>"
            ]
          },
          "metadata": {
            "tags": []
          }
        }
      ]
    }
  ]
}