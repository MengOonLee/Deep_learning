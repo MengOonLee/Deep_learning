{
  "nbformat": 4,
  "nbformat_minor": 0,
  "metadata": {
    "kernelspec": {
      "display_name": "Python 3",
      "name": "python3"
    },
    "language_info": {
      "codemirror_mode": {
        "name": "ipython",
        "version": 3
      },
      "file_extension": ".py",
      "mimetype": "text/x-python",
      "name": "python",
      "nbconvert_exporter": "python",
      "pygments_lexer": "ipython3",
      "version": "3.7.1"
    },
    "colab": {
      "name": "Tracking metrics in custom training loops.ipynb",
      "provenance": [],
      "include_colab_link": true
    }
  },
  "cells": [
    {
      "cell_type": "markdown",
      "metadata": {
        "id": "view-in-github",
        "colab_type": "text"
      },
      "source": [
        "<a href=\"https://colab.research.google.com/github/MengOonLee/Deep_learning/blob/master/TensorFlow2/Customise/SubclassCustom/Tracking_metrics_custom_training.ipynb\" target=\"_parent\"><img src=\"https://colab.research.google.com/assets/colab-badge.svg\" alt=\"Open In Colab\"/></a>"
      ]
    },
    {
      "cell_type": "markdown",
      "metadata": {
        "id": "712m5DgzoDac"
      },
      "source": [
        "# Tracking metrics in custom training loops\n",
        "In this reading you will learn how to track metrics such as accuracy within custom training loops."
      ]
    },
    {
      "cell_type": "markdown",
      "metadata": {
        "id": "IS_Bznn0oDas"
      },
      "source": [
        "Tracking performance metrics is useful to check the performance of your model during and after training. Previously, we have passed in a list of metrics to the `model.fit` or `model.evaluate` methods when using the higher level APIs. However, we would still like to be able to evaluate our model on performance metrics in a custom training loop."
      ]
    },
    {
      "cell_type": "markdown",
      "metadata": {
        "id": "ZTa0hLlSoDaw"
      },
      "source": [
        "## Load the dataset\n",
        "For this reading notebook we will use the Reuters dataset. The cells below load and process the dataset, and prepare it as `tf.data.Dataset` objects."
      ]
    },
    {
      "cell_type": "code",
      "metadata": {
        "id": "mhQly-y5oDax",
        "colab": {
          "base_uri": "https://localhost:8080/"
        },
        "outputId": "791fc0f9-8a8e-4ee5-e783-dae4b84fa93c"
      },
      "source": [
        "import tensorflow as tf\n",
        "tf.keras.utils.set_random_seed(seed=42)\n",
        "tf.get_logger().setLevel(\"ERROR\")\n",
        "from sklearn import model_selection\n",
        "\n",
        "# Load the dataset\n",
        "(train_data, train_labels), (test_data, test_labels) = \\\n",
        "    tf.keras.datasets.reuters.load_data(num_words=10000, skip_top=50)\n",
        "\n",
        "# Define the class names\n",
        "class_names = [\n",
        "    'cocoa', 'grain', 'veg-oil', 'earn', 'acq', 'wheat', 'copper', 'housing',\n",
        "    'money-supply', 'coffee', 'sugar', 'trade', 'reserves', 'ship', 'cotton',\n",
        "    'carcass', 'crude', 'nat-gas', 'cpi', 'money-fx', 'interest', 'gnp',\n",
        "    'meal-feed', 'alum', 'oilseed', 'gold', 'tin', 'strategic-metal',\n",
        "    'livestock', 'retail', 'ipi', 'iron-steel', 'rubber', 'heat', 'jobs',\n",
        "    'lei', 'bop', 'zinc', 'orange', 'pet-chem', 'dlr', 'gas', 'silver',\n",
        "    'wpi', 'hog', 'lead'\n",
        "]\n",
        "\n",
        "# Pad and truncate the train and test inputs\n",
        "padded_train_data = tf.keras.utils.pad_sequences(\n",
        "    sequences=train_data, maxlen=100, truncating='post')\n",
        "padded_test_data = tf.keras.utils.pad_sequences(\n",
        "    sequences=test_data, maxlen=100, truncating='post')\n",
        "\n",
        "# Split the training data into training and validation sets\n",
        "train_data, valid_data, train_labels, valid_labels = \\\n",
        "    model_selection.train_test_split(\n",
        "        padded_train_data, train_labels, test_size=0.3)\n",
        "\n",
        "# Create Datasets for training, validation and test data\n",
        "train_dataset = tf.data.Dataset.from_tensor_slices(\n",
        "    tensors=(train_data, train_labels))\n",
        "train_dataset = train_dataset.shuffle(buffer_size=train_labels.shape[0])\n",
        "train_dataset = train_dataset.batch(batch_size=32)\n",
        "\n",
        "valid_dataset = tf.data.Dataset.from_tensor_slices(\n",
        "    tensors=(valid_data, valid_labels))\n",
        "valid_dataset = valid_dataset.shuffle(buffer_size=valid_labels.shape[0])\n",
        "valid_dataset = valid_dataset.batch(batch_size=32)\n",
        "\n",
        "test_dataset = tf.data.Dataset.from_tensor_slices(\n",
        "    tensors=(padded_test_data, test_labels))\n",
        "test_dataset = test_dataset.batch(batch_size=32)"
      ],
      "execution_count": null,
      "outputs": [
        {
          "output_type": "stream",
          "name": "stdout",
          "text": [
            "Downloading data from https://storage.googleapis.com/tensorflow/tf-keras-datasets/reuters.npz\n",
            "2110848/2110848 [==============================] - 0s 0us/step\n"
          ]
        }
      ]
    },
    {
      "cell_type": "markdown",
      "metadata": {
        "id": "UUVFjw8_oDbO"
      },
      "source": [
        "## Define the model, optimizer and loss function"
      ]
    },
    {
      "cell_type": "markdown",
      "metadata": {
        "id": "7hVbXQw8oDbP"
      },
      "source": [
        "Before getting to the custom training loop, we first define the model. We will use the model subclassing API to build a recurrent neural network for this example."
      ]
    },
    {
      "cell_type": "code",
      "metadata": {
        "id": "zxJEbRbDoDbQ"
      },
      "source": [
        "import tensorflow as tf\n",
        "tf.keras.utils.set_random_seed(seed=42)\n",
        "tf.get_logger().setLevel(\"ERROR\")\n",
        "\n",
        "# Build the model\n",
        "class RNNModel(tf.keras.Model):\n",
        "    def __init__(self, units_1, units_2, num_classes, **kwargs):\n",
        "        super().__init__(**kwargs)\n",
        "        self.embedding = tf.keras.layers.Embedding(\n",
        "            input_dim=10000, output_dim=16, input_length=100)\n",
        "        self.gru_1 = tf.keras.layers.Bidirectional(\n",
        "            tf.keras.layers.GRU(units=units_1, return_sequences=True),\n",
        "            merge_mode=\"sum\")\n",
        "        self.gru_2 = tf.keras.layers.GRU(units=units_2)\n",
        "        self.dense = tf.keras.layers.Dense(units=num_classes,\n",
        "            activation=tf.keras.activations.softmax)\n",
        "\n",
        "    def call(self, inputs):\n",
        "        h = self.embedding(inputs)\n",
        "        h = self.gru_1(h)\n",
        "        h = self.gru_2(h)\n",
        "        return self.dense(h)\n",
        "\n",
        "# Instantiate the model\n",
        "model = RNNModel(units_1=32, units_2=16, num_classes=46, name='rnn_model')"
      ],
      "execution_count": null,
      "outputs": []
    },
    {
      "cell_type": "markdown",
      "metadata": {
        "id": "k_4MmfpZoDbj"
      },
      "source": [
        "## Build the custom training loop"
      ]
    },
    {
      "cell_type": "markdown",
      "metadata": {
        "id": "Jn9apYNHoDbk"
      },
      "source": [
        "The following function computes the model predictions, loss and gradients, for use in the custom training loop."
      ]
    },
    {
      "cell_type": "code",
      "metadata": {
        "id": "H2QX-c73oDbl"
      },
      "source": [
        "import tensorflow as tf\n",
        "tf.keras.utils.set_random_seed(seed=42)\n",
        "tf.get_logger().setLevel(\"ERROR\")\n",
        "\n",
        "# Define a function to compute the loss and gradients\n",
        "@tf.function\n",
        "def get_preds_loss_grads(model, inputs, targets, loss_object):\n",
        "    with tf.GradientTape() as tape:\n",
        "        preds = model(inputs=inputs)\n",
        "        loss = loss_object(y_true=targets, y_pred=preds)\n",
        "        grads = tape.gradient(target=loss,\n",
        "            sources=model.trainable_variables)\n",
        "    return preds, loss, grads"
      ],
      "execution_count": null,
      "outputs": []
    },
    {
      "cell_type": "markdown",
      "metadata": {
        "id": "BIdv-_ApoDbs"
      },
      "source": [
        "Metric objects can be created and used to track performance measures in the custom training loop. We will set up our custom training loop to track the average loss, and area under the [ROC curve](https://en.wikipedia.org/wiki/Receiver_operating_characteristic) (ROC AUC). Of course there are many more metrics that you could use."
      ]
    },
    {
      "cell_type": "markdown",
      "metadata": {
        "id": "q1s0i71LoDbw"
      },
      "source": [
        "In the following custom training loop, we define an outer loop for the epochs, and an inner loop for the batches in the training dataset. At the end of each epoch we run a validation loop for a number of iterations.\n",
        "\n",
        "Inside the inner loop we use the metric objects to calculate the metric evaluation values. These values are then appended to the empty lists. The metric objects are re-initialised at the start of each epoch.\n",
        "\n",
        "The following training loop may take a while to run. Feel free to reduce the number of epochs if you want."
      ]
    },
    {
      "cell_type": "code",
      "metadata": {
        "id": "Ew3uJz9woDbx",
        "colab": {
          "base_uri": "https://localhost:8080/"
        },
        "outputId": "b4aae2c9-9296-4ec1-dba1-de25631391eb"
      },
      "source": [
        "import tensorflow as tf\n",
        "tf.keras.utils.set_random_seed(seed=42)\n",
        "tf.get_logger().setLevel(\"ERROR\")\n",
        "import pandas as pd\n",
        "%matplotlib inline\n",
        "import matplotlib.pyplot as plt\n",
        "import seaborn as sns\n",
        "\n",
        "# Run the custom training loop\n",
        "# Create lists to accumulate the metric values\n",
        "avg_loss = tf.keras.metrics.Mean()\n",
        "auc_roc = tf.keras.metrics.AUC(curve=\"ROC\")\n",
        "train_loss_results = []\n",
        "train_auc_roc_results = []\n",
        "valid_loss_results = []\n",
        "valid_auc_roc_results = []\n",
        "\n",
        "# The loss function for our model should be the sparse categorical\n",
        "# cross entropy, since the labels are in sparse form:\n",
        "# Define the loss\n",
        "loss_object = tf.keras.losses.SparseCategoricalCrossentropy()\n",
        "\n",
        "# We will use the SGD optimizer with Nesterov momentum,\n",
        "# and a learning rate of 0.005:\n",
        "# Define the optimizer\n",
        "optimizer = tf.keras.optimizers.SGD(learning_rate=0.005,\n",
        "    momentum=0.9, nesterov=True)\n",
        "\n",
        "num_epochs = 5\n",
        "valid_steps = 10\n",
        "for epoch in range(num_epochs):\n",
        "    for inputs, labels in train_dataset:\n",
        "        preds, loss, grads = get_preds_loss_grads(model=model,\n",
        "            inputs=inputs, targets=labels, loss_object=loss_object)\n",
        "        optimizer.apply_gradients(grads_and_vars=\\\n",
        "            zip(grads, model.trainable_variables))\n",
        "        avg_loss(values=loss)\n",
        "        auc_roc(y_true=tf.keras.utils.to_categorical(\n",
        "                y=labels, num_classes=46),\n",
        "            y_pred=preds)\n",
        "    train_loss_results.append(avg_loss.result().numpy())\n",
        "    train_auc_roc_results.append(auc_roc.result().numpy())\n",
        "    print(\"Epoch {:03d}: Training loss: {:.3f}, ROC AUC: {:.3%}\"\\\n",
        "        .format(epoch, avg_loss.result(), roc_auc.result()))\n",
        "\n",
        "    for inputs, labels in valid_dataset.take(count=valid_steps):\n",
        "        preds = model(inputs=inputs)\n",
        "        avg_loss(values=loss_object(y_true=labels, y_pred=preds))\n",
        "        auc_roc(y_true=tf.keras.utils.to_categorical(\n",
        "                y=labels, num_classes=46),\n",
        "            y_pred=preds)\n",
        "    valid_loss_results.append(avg_loss.result().numpy())\n",
        "    valid_auc_roc_results.append(auc_roc.result().numpy())\n",
        "    print(\"           Validation loss: {:.3f}, ROC AUC {:.3%}\"\\\n",
        "        .format(avg_loss.result(), roc_auc.result()))\n",
        "\n",
        "# Plot the learning curves\n",
        "df_history = pd.DataFrame"
      ],
      "execution_count": null,
      "outputs": [
        {
          "output_type": "stream",
          "text": [
            "Epoch 000: Training loss: 2.763, ROC AUC: 85.084%\n",
            "              Validation loss: 2.471, ROC AUC 86.226%\n",
            "Epoch 001: Training loss: 2.419, ROC AUC: 88.776%\n",
            "              Validation loss: 2.496, ROC AUC 87.262%\n",
            "Epoch 002: Training loss: 2.405, ROC AUC: 89.019%\n",
            "              Validation loss: 2.482, ROC AUC 87.294%\n",
            "Epoch 003: Training loss: 2.395, ROC AUC: 89.262%\n",
            "              Validation loss: 2.408, ROC AUC 88.141%\n",
            "Epoch 004: Training loss: 2.381, ROC AUC: 89.404%\n",
            "              Validation loss: 2.341, ROC AUC 89.258%\n"
          ],
          "name": "stdout"
        }
      ]
    },
    {
      "cell_type": "markdown",
      "metadata": {
        "id": "2QBsNdA4oDb1"
      },
      "source": [
        "#### Plot the learning curves"
      ]
    },
    {
      "cell_type": "code",
      "metadata": {
        "id": "j8QEUN8eoDb2",
        "colab": {
          "base_uri": "https://localhost:8080/",
          "height": 318
        },
        "outputId": "32f0cfc0-bde3-4d7f-a7e9-921feb36070e"
      },
      "source": [
        "import matplotlib.pyplot as plt\n",
        "\n",
        "fig = plt.figure(figsize=(15, 5))\n",
        "\n",
        "fig.add_subplot(121)\n",
        "plt.plot(train_loss_results)\n",
        "plt.plot(val_loss_results)\n",
        "plt.title('Loss vs. epochs')\n",
        "plt.ylabel('Loss')\n",
        "plt.xlabel('Epoch')\n",
        "plt.legend(['Training', 'Validation'], loc='upper right')\n",
        "\n",
        "fig.add_subplot(122)\n",
        "plt.plot(train_roc_auc_results)\n",
        "plt.plot(val_roc_auc_results)\n",
        "plt.title('ROC AUC vs. epochs')\n",
        "plt.ylabel('ROC AUC')\n",
        "plt.xlabel('Epoch')\n",
        "plt.legend(['Training', 'Validation'], loc='lower right')\n",
        "plt.show()"
      ],
      "execution_count": null,
      "outputs": [
        {
          "output_type": "display_data",
          "data": {
            "image/png": "[encoded data removed]",
            "text/plain": [
              "<Figure size 1080x360 with 2 Axes>"
            ]
          },
          "metadata": {
            "tags": [],
            "needs_background": "light"
          }
        }
      ]
    },
    {
      "cell_type": "markdown",
      "metadata": {
        "id": "qn7tESHnoDb6"
      },
      "source": [
        "## Test the model\n",
        "Similarly, we can calculate the loss and metric values on the test dataset."
      ]
    },
    {
      "cell_type": "code",
      "metadata": {
        "id": "IsVJycadoDb7"
      },
      "source": [
        "# Create metric objects for testing\n",
        "\n",
        "test_epoch_loss_avg = tf.keras.metrics.Mean()\n",
        "test_epoch_roc_auc = tf.keras.metrics.AUC(curve='ROC')"
      ],
      "execution_count": null,
      "outputs": []
    },
    {
      "cell_type": "code",
      "metadata": {
        "id": "3jXQ3E0LoDb_",
        "colab": {
          "base_uri": "https://localhost:8080/"
        },
        "outputId": "7835ae63-df91-4687-a2f0-67ecd64325c9"
      },
      "source": [
        "# Calculate metrics on the test set\n",
        "\n",
        "for inputs, labels in test_dataset:\n",
        "    model_pred = model(inputs)\n",
        "    test_epoch_loss_avg(loss(labels, model_pred))\n",
        "    test_epoch_roc_auc(to_categorical(labels, num_classes=46), model_pred)\n",
        "\n",
        "print(\"Test loss: {:.3f}\".format(\n",
        "    test_epoch_loss_avg.result().numpy()))\n",
        "print(\"Test ROC AUC: {:.3%}\".format(\n",
        "    test_epoch_roc_auc.result().numpy()))"
      ],
      "execution_count": null,
      "outputs": [
        {
          "output_type": "stream",
          "text": [
            "Test loss: 2.380\n",
            "Test ROC AUC: 88.949%\n"
          ],
          "name": "stdout"
        }
      ]
    },
    {
      "cell_type": "markdown",
      "metadata": {
        "id": "_RJdlhcUoDcD"
      },
      "source": [
        "## Further reading and resources\n",
        "* https://www.tensorflow.org/tutorials/customization/custom_training_walkthrough#training_loop\n",
        "* https://www.tensorflow.org/api_docs/python/tf/keras/metrics\n",
        "* https://en.wikipedia.org/wiki/Receiver_operating_characteristic#Area_under_the_curve"
      ]
    }
  ]
}