{
  "nbformat": 4,
  "nbformat_minor": 0,
  "metadata": {
    "kernelspec": {
      "display_name": "Python 3",
      "name": "python3"
    },
    "language_info": {
      "codemirror_mode": {
        "name": "ipython",
        "version": 3
      },
      "file_extension": ".py",
      "mimetype": "text/x-python",
      "name": "python",
      "nbconvert_exporter": "python",
      "pygments_lexer": "ipython3",
      "version": "3.7.1"
    },
    "colab": {
      "name": "Coding Tutorial.ipynb",
      "provenance": [],
      "gpuType": "T4",
      "include_colab_link": true
    },
    "accelerator": "GPU"
  },
  "cells": [
    {
      "cell_type": "markdown",
      "metadata": {
        "id": "view-in-github",
        "colab_type": "text"
      },
      "source": [
        "<a href=\"https://colab.research.google.com/github/MengOonLee/Deep_learning/blob/master/TensorFlow2/Customise/SubclassCustom/Subclassing_custom_training.ipynb\" target=\"_parent\"><img src=\"https://colab.research.google.com/assets/colab-badge.svg\" alt=\"Open In Colab\"/></a>"
      ]
    },
    {
      "cell_type": "markdown",
      "metadata": {
        "id": "y-63p30Tr1qo"
      },
      "source": [
        "# Model subclassing and custom training loops"
      ]
    },
    {
      "cell_type": "markdown",
      "metadata": {
        "id": "Y1vsuhMJr1qp"
      },
      "source": [
        " ## Coding tutorials\n",
        " #### [1. Model subclassing](#coding_tutorial_1)\n",
        " #### [2. Custom layers](#coding_tutorial_2)\n",
        " #### [3. Automatic differentiation](#coding_tutorial_3)\n",
        " #### [4. Custom training loops](#coding_tutorial_4)\n",
        " #### [5. tf.function decorator](#coding_tutorial_5)"
      ]
    },
    {
      "cell_type": "markdown",
      "metadata": {
        "id": "ygIPKcLbr1qt"
      },
      "source": [
        "***\n",
        "<a id=\"coding_tutorial_1\"></a>\n",
        "## Model subclassing"
      ]
    },
    {
      "cell_type": "markdown",
      "metadata": {
        "id": "EROzuT5cr1q5"
      },
      "source": [
        "#### Create a simple model using the model subclassing API"
      ]
    },
    {
      "cell_type": "code",
      "metadata": {
        "id": "aI0B1hY4r1q7",
        "colab": {
          "base_uri": "https://localhost:8080/"
        },
        "outputId": "aaba5bd2-0d3b-49ac-ccf7-d93df50e7ffb"
      },
      "source": [
        "import tensorflow as tf\n",
        "tf.keras.utils.set_random_seed(seed=42)\n",
        "\n",
        "# Build the model\n",
        "class MyModel(tf.keras.Model):\n",
        "    def __init__(self, num_classes, **kwargs):\n",
        "        super().__init__(**kwargs)\n",
        "        self.dense_1 = tf.keras.layers.Dense(units=64,\n",
        "            activation=tf.keras.activations.relu)\n",
        "        self.dense_2 = tf.keras.layers.Dense(units=10,\n",
        "            activation=tf.keras.activations.relu)\n",
        "        self.dense_3 = tf.keras.layers.Dense(units=num_classes,\n",
        "            activation=tf.keras.activations.softmax)\n",
        "        self.dropout = tf.keras.layers.Dropout(rate=0.4)\n",
        "\n",
        "    def call(self, inputs, training=True):\n",
        "        x1 = self.dense_1(inputs)\n",
        "        x2 = self.dense_2(inputs)\n",
        "        concat = tf.keras.layers.Concatenate()([x1, x2])\n",
        "        concat = self.dropout(concat, training=training)\n",
        "        return self.dense_3(concat)\n",
        "\n",
        "# Print the model summary\n",
        "my_model = MyModel(num_classes=5, name=\"my_model\")\n",
        "my_model(inputs=tf.random.normal(shape=(1, 10)))\n",
        "my_model.summary()"
      ],
      "execution_count": null,
      "outputs": [
        {
          "output_type": "stream",
          "name": "stdout",
          "text": [
            "Model: \"my_model\"\n",
            "_________________________________________________________________\n",
            " Layer (type)                Output Shape              Param #   \n",
            "=================================================================\n",
            " dense (Dense)               multiple                  704       \n",
            "                                                                 \n",
            " dense_1 (Dense)             multiple                  110       \n",
            "                                                                 \n",
            " dense_2 (Dense)             multiple                  375       \n",
            "                                                                 \n",
            " dropout (Dropout)           multiple                  0         \n",
            "                                                                 \n",
            "=================================================================\n",
            "Total params: 1189 (4.64 KB)\n",
            "Trainable params: 1189 (4.64 KB)\n",
            "Non-trainable params: 0 (0.00 Byte)\n",
            "_________________________________________________________________\n"
          ]
        }
      ]
    },
    {
      "cell_type": "markdown",
      "metadata": {
        "id": "PH9r-6CSr1rG"
      },
      "source": [
        "***\n",
        "<a id=\"coding_tutorial_2\"></a>\n",
        "## Custom layers"
      ]
    },
    {
      "cell_type": "markdown",
      "metadata": {
        "id": "xIPDZjqpr1rO"
      },
      "source": [
        "#### Create custom layers"
      ]
    },
    {
      "cell_type": "code",
      "metadata": {
        "id": "h2GIDoAhr1rb",
        "outputId": "26bf535a-18e7-4367-aa73-89739aa7b947",
        "colab": {
          "base_uri": "https://localhost:8080/"
        }
      },
      "source": [
        "import tensorflow as tf\n",
        "tf.keras.utils.set_random_seed(seed=42)\n",
        "\n",
        "# Create a custom layer to accumulate means of output values\n",
        "class MyLayerMean(tf.keras.layers.Layer):\n",
        "    def __init__(self, units, **kwargs):\n",
        "        super().__init__(**kwargs)\n",
        "        self.units = units\n",
        "        # Specify trainable weights\n",
        "        self.b = self.add_weight(shape=(units,),\n",
        "            initializer=tf.keras.initializers.Zeros())\n",
        "        self.sum_activation = tf.Variable(\n",
        "            initial_value=tf.zeros(shape=(units,)),\n",
        "            trainable=False)\n",
        "        self.number_call = tf.Variable(initial_value=0,\n",
        "            trainable=False)\n",
        "\n",
        "    def build(self, input_shape):\n",
        "        self.w = self.add_weight(shape=(input_shape[-1], self.units),\n",
        "            initializer=tf.keras.initializers.RandomNormal())\n",
        "\n",
        "    def call(self, inputs):\n",
        "        activations = tf.linalg.matmul(a=inputs, b=self.w) + self.b\n",
        "        self.sum_activation.assign_add(delta=tf.math.reduce_sum(\n",
        "            input_tensor=activations, axis=0))\n",
        "        self.number_call.assign_add(delta=inputs.shape[0])\n",
        "        return activations, self.sum_activation / tf.cast(\n",
        "                x=self.number_call, dtype=tf.float32)\n",
        "\n",
        "dense_layer = MyLayerMean(units=3)\n",
        "\n",
        "# Test the layer\n",
        "x = tf.ones(shape=(2, 5))\n",
        "y, activation_means = dense_layer(inputs=x)\n",
        "print(\"trainable weights:\", len(dense_layer.trainable_weights))\n",
        "print(\"non-trainable weights:\", len(dense_layer.non_trainable_weights))\n",
        "print(f\"activation_means: {activation_means.numpy()}\")\n",
        "print(f\"weights: {dense_layer.weights}\")"
      ],
      "execution_count": null,
      "outputs": [
        {
          "output_type": "stream",
          "name": "stdout",
          "text": [
            "trainable weights: 2\n",
            "non-trainable weights: 2\n",
            "activation_means: [ 0.01885552 -0.07703885 -0.2915517 ]\n",
            "weights: [<tf.Variable 'Variable:0' shape=(3,) dtype=float32, numpy=array([0., 0., 0.], dtype=float32)>, <tf.Variable 'my_layer_mean/Variable:0' shape=(5, 3) dtype=float32, numpy=\n",
            "array([[-0.02358919, -0.01442928, -0.0221293 ],\n",
            "       [ 0.06809177, -0.09231842, -0.06502789],\n",
            "       [ 0.01064425,  0.0060349 , -0.04163619],\n",
            "       [-0.0387267 ,  0.03659106, -0.10442163],\n",
            "       [ 0.00243539, -0.01291711, -0.05833671]], dtype=float32)>, <tf.Variable 'Variable:0' shape=(3,) dtype=float32, numpy=array([ 0.03771103, -0.1540777 , -0.5831034 ], dtype=float32)>, <tf.Variable 'Variable:0' shape=() dtype=int32, numpy=2>]\n"
          ]
        }
      ]
    },
    {
      "cell_type": "markdown",
      "metadata": {
        "id": "e5s7lbEqr1rq"
      },
      "source": [
        "#### Implement the custom layers into a model"
      ]
    },
    {
      "cell_type": "code",
      "metadata": {
        "id": "kwLPdbngr1rq",
        "outputId": "9c17db7d-8bde-47b8-96d5-df3371a4d460",
        "colab": {
          "base_uri": "https://localhost:8080/"
        }
      },
      "source": [
        "import tensorflow as tf\n",
        "tf.keras.utils.set_random_seed(seed=42)\n",
        "\n",
        "# Build the model using custom layers with the model subclassing API\n",
        "class MyModel(tf.keras.Model):\n",
        "    def __init__(self, units_1, units_2, units_3, **kwargs):\n",
        "        super().__init__(**kwargs)\n",
        "        # Define layers\n",
        "        self.layer_1 = MyLayer(units=units_1)\n",
        "        self.layer_2 = MyLayer(units=units_2)\n",
        "        self.layer_3 = MyLayer(units=units_3)\n",
        "        self.dropout = MyDropout(rate=0.5)\n",
        "\n",
        "    def call(self, inputs):\n",
        "        # Define forward pass\n",
        "        x = self.layer_1(inputs=inputs)\n",
        "        x = tf.nn.relu(features=x)\n",
        "        x = self.dropout(inputs=x)\n",
        "        x = self.layer_2(inputs=x)\n",
        "        x = tf.nn.relu(features=x)\n",
        "        x = self.dropout(inputs=x)\n",
        "        x = self.layer_3(inputs=x)\n",
        "        return tf.nn.softmax(logits=x)\n",
        "\n",
        "# Create a custom layer\n",
        "class MyLayer(tf.keras.layers.Layer):\n",
        "  def __init__(self, units, **kwargs):\n",
        "      super().__init__(**kwargs)\n",
        "      self.units = units\n",
        "      self.b = self.add_weight(shape=(units,),\n",
        "          initializer=tf.keras.initializers.Zeros())\n",
        "\n",
        "  def build(self, input_shape):\n",
        "      self.w = self.add_weight(shape=(input_shape[-1], self.units),\n",
        "          initializer=tf.keras.initializers.RandomNormal())\n",
        "\n",
        "  def call(self, inputs):\n",
        "      return tf.linalg.matmul(a=inputs, b=self.w) + self.b\n",
        "\n",
        "# Create a Dropout layer as a custom layer\n",
        "class MyDropout(tf.keras.layers.Layer):\n",
        "    def __init__(self, rate, **kwargs):\n",
        "        super().__init__(**kwargs)\n",
        "        self.rate = rate\n",
        "\n",
        "    def call(self, inputs):\n",
        "        # Define forward pass for dropout layer\n",
        "        return tf.nn.dropout(x=inputs, rate=self.rate)\n",
        "\n",
        "# Instantiate a model object\n",
        "my_model = MyModel(units_1=64, units_2=64, units_3=46, name=\"my_model\")\n",
        "print(my_model(inputs=tf.random.normal(shape=(1, 10000))))\n",
        "my_model.summary()"
      ],
      "execution_count": null,
      "outputs": [
        {
          "output_type": "stream",
          "name": "stdout",
          "text": [
            "tf.Tensor(\n",
            "[[0.03964709 0.01326959 0.02763752 0.01076229 0.00946367 0.03262108\n",
            "  0.01824417 0.00908988 0.06717899 0.0657099  0.01522712 0.01349179\n",
            "  0.02473041 0.0173228  0.01864109 0.03071251 0.01356732 0.01164669\n",
            "  0.03300928 0.00993308 0.01679035 0.01374916 0.06827163 0.02038475\n",
            "  0.00887606 0.01661217 0.01125773 0.0161174  0.02482517 0.01127255\n",
            "  0.00647558 0.01062837 0.01034763 0.00456736 0.05896313 0.00457546\n",
            "  0.00695589 0.01401419 0.02193612 0.03387663 0.02122179 0.0189374\n",
            "  0.02321724 0.03404636 0.02700518 0.01316846]], shape=(1, 46), dtype=float32)\n",
            "Model: \"my_model\"\n",
            "_________________________________________________________________\n",
            " Layer (type)                Output Shape              Param #   \n",
            "=================================================================\n",
            " my_layer (MyLayer)          multiple                  640064    \n",
            "                                                                 \n",
            " my_dropout (MyDropout)      multiple                  0         \n",
            "                                                                 \n",
            " my_layer_1 (MyLayer)        multiple                  4160      \n",
            "                                                                 \n",
            " my_dropout_1 (MyDropout)    multiple                  0         \n",
            "                                                                 \n",
            " my_layer_2 (MyLayer)        multiple                  2990      \n",
            "                                                                 \n",
            " softmax (Softmax)           multiple                  0 (unused)\n",
            "                                                                 \n",
            "=================================================================\n",
            "Total params: 647214 (2.47 MB)\n",
            "Trainable params: 647214 (2.47 MB)\n",
            "Non-trainable params: 0 (0.00 Byte)\n",
            "_________________________________________________________________\n"
          ]
        }
      ]
    },
    {
      "cell_type": "markdown",
      "metadata": {
        "id": "AoDMC-nBr1r0"
      },
      "source": [
        "***\n",
        "<a id=\"coding_tutorial_3\"></a>\n",
        "## Automatic differentiation"
      ]
    },
    {
      "cell_type": "code",
      "metadata": {
        "id": "dwERUPc0uuWn",
        "colab": {
          "base_uri": "https://localhost:8080/"
        },
        "outputId": "6c73da53-de4a-4e45-e0c6-6ca24eb71666"
      },
      "source": [
        "import tensorflow as tf\n",
        "tf.keras.utils.set_random_seed(seed=42)\n",
        "\n",
        "x = tf.constant(value=[0, 1, 2, 3], dtype=tf.float32)\n",
        "\n",
        "with tf.GradientTape() as tape:\n",
        "    tape.watch(tensor=x)\n",
        "    y = tf.math.reduce_sum(input_tensor=x**2)\n",
        "    z = tf.math.sin(x=y)\n",
        "    dz_dy, dz_dx = tape.gradient(target=z, sources=[y, x])\n",
        "\n",
        "print(f\"dz_dy: {dz_dy}\")\n",
        "print(f\"dz_dx: {dz_dx}\")"
      ],
      "execution_count": null,
      "outputs": [
        {
          "output_type": "stream",
          "name": "stdout",
          "text": [
            "dz_dy: 0.13673721253871918\n",
            "dz_dx: [0.         0.27347443 0.54694885 0.82042325]\n"
          ]
        }
      ]
    },
    {
      "cell_type": "markdown",
      "metadata": {
        "id": "8bQg5xCkr1r6"
      },
      "source": [
        "#### Create synthetic data"
      ]
    },
    {
      "cell_type": "code",
      "metadata": {
        "id": "1pIJI0SOr1r7",
        "colab": {
          "base_uri": "https://localhost:8080/",
          "height": 295
        },
        "outputId": "03eb4772-439e-4efd-e01c-218939fb4143"
      },
      "source": [
        "import tensorflow as tf\n",
        "tf.keras.utils.set_random_seed(seed=42)\n",
        "%matplotlib inline\n",
        "import matplotlib.pyplot as plt\n",
        "\n",
        "# Create data from a noise contaminated linear model\n",
        "def MakeNoisyData(w, b, n=20):\n",
        "    x = tf.random.uniform(shape=(n,))\n",
        "    noise = tf.random.normal(shape=(len(x),), stddev=0.1)\n",
        "    y = w * x + b + noise\n",
        "    return x, y\n",
        "\n",
        "w, b = 1, 2\n",
        "x_train, y_train = MakeNoisyData(w=w, b=b)\n",
        "\n",
        "plt.figure(figsize=(5, 3))\n",
        "plt.plot(x_train, y_train, 'b.')\n",
        "plt.show()"
      ],
      "execution_count": null,
      "outputs": [
        {
          "output_type": "display_data",
          "data": {
            "text/plain": [
              "<Figure size 500x300 with 1 Axes>"
            ],
            "image/png": "[encoded data removed]"
          },
          "metadata": {}
        }
      ]
    },
    {
      "cell_type": "markdown",
      "metadata": {
        "id": "OQi4BqY1r1sL"
      },
      "source": [
        "#### Build, train and plot the linear regression model"
      ]
    },
    {
      "cell_type": "code",
      "metadata": {
        "id": "vBJiU2Lfr1sM",
        "colab": {
          "base_uri": "https://localhost:8080/",
          "height": 912
        },
        "outputId": "2e66ca87-b98c-4107-cd30-93f0bbb3c34c"
      },
      "source": [
        "import numpy as np\n",
        "import tensorflow as tf\n",
        "tf.keras.utils.set_random_seed(seed=42)\n",
        "%matplotlib inline\n",
        "import matplotlib.pyplot as plt\n",
        "\n",
        "# Build a custom layer for the linear regression model\n",
        "class LinearLayer(tf.keras.layers.Layer):\n",
        "    def __init__(self, units, **kwargs):\n",
        "        super().__init__(**kwargs)\n",
        "        self.w = self.add_weight(shape=(units,),\n",
        "            initializer=tf.keras.initializers.RandomNormal())\n",
        "        self.b = self.add_weight(shape=(units,),\n",
        "            initializer=tf.keras.initializers.Zeros())\n",
        "\n",
        "    def call(self, inputs):\n",
        "        return self.w*inputs + self.b\n",
        "\n",
        "linear_regression = LinearLayer(units=1)\n",
        "\n",
        "y_pred = linear_regression(inputs=x_train)\n",
        "plt.figure(figsize=(5, 3))\n",
        "plt.plot(x_train, y_pred, 'b.')\n",
        "plt.show()\n",
        "\n",
        "print(f\"Weights: {linear_regression.w}\")\n",
        "print(f\"Bias: {linear_regression.b}\")\n",
        "\n",
        "# Define the mean squared error loss function\n",
        "def SquaredError(y_pred, y_true):\n",
        "    return tf.math.reduce_mean(input_tensor=\\\n",
        "        tf.math.square(x=(y_pred-y_true)))\n",
        "\n",
        "# Implement a gradient descent training loop for the linear regression model\n",
        "learning_rate = 0.05\n",
        "steps = 25\n",
        "\n",
        "losses = []\n",
        "for i in range(steps):\n",
        "\n",
        "    with tf.GradientTape() as tape:\n",
        "        y_pred = linear_regression(inputs=x_train)\n",
        "        loss = SquaredError(y_pred=y_pred, y_true=y_train)\n",
        "        losses.append(loss.numpy())\n",
        "\n",
        "        gradients = tape.gradient(target=loss,\n",
        "            sources=linear_regression.trainable_variables)\n",
        "\n",
        "    linear_regression.w.assign_sub(delta=learning_rate*gradients[0])\n",
        "    linear_regression.b.assign_sub(delta=learning_rate*gradients[1])\n",
        "\n",
        "plt.figure(figsize=(5, 3))\n",
        "plt.plot(losses)\n",
        "plt.show()\n",
        "\n",
        "# Plot the learned regression model\n",
        "print(\"w:{},  trained w:{}\".format(w, linear_regression.w.numpy()))\n",
        "print(\"b:{},  trained b:{}\".format(b, linear_regression.b.numpy()))\n",
        "\n",
        "plt.figure(figsize=(5, 3))\n",
        "plt.plot(x_train, y_train, 'b.')\n",
        "\n",
        "x_linear_regression = np.linspace(start=min(x_train),\n",
        "    stop=max(x_train), num=50)\n",
        "y_linear_regression = linear_regression.w * x_linear_regression \\\n",
        "    + linear_regression.b\n",
        "plt.plot(x_linear_regression, y_linear_regression, 'r.')\n",
        "plt.show()"
      ],
      "execution_count": null,
      "outputs": [
        {
          "output_type": "display_data",
          "data": {
            "text/plain": [
              "<Figure size 500x300 with 1 Axes>"
            ],
            "image/png": "[encoded data removed]"
          },
          "metadata": {}
        },
        {
          "output_type": "stream",
          "name": "stdout",
          "text": [
            "Weights: <tf.Variable 'Variable:0' shape=(1,) dtype=float32, numpy=array([-0.02358919], dtype=float32)>\n",
            "Bias: <tf.Variable 'Variable:0' shape=(1,) dtype=float32, numpy=array([0.], dtype=float32)>\n"
          ]
        },
        {
          "output_type": "display_data",
          "data": {
            "text/plain": [
              "<Figure size 500x300 with 1 Axes>"
            ],
            "image/png": "[encoded data removed]"
          },
          "metadata": {}
        },
        {
          "output_type": "stream",
          "name": "stdout",
          "text": [
            "w:1,  trained w:[0.9241711]\n",
            "b:2,  trained b:[1.9197015]\n"
          ]
        },
        {
          "output_type": "display_data",
          "data": {
            "text/plain": [
              "<Figure size 500x300 with 1 Axes>"
            ],
            "image/png": "[encoded data removed]"
          },
          "metadata": {}
        }
      ]
    },
    {
      "cell_type": "markdown",
      "metadata": {
        "id": "zfVr4Cg9r1sZ"
      },
      "source": [
        "***\n",
        "<a id=\"coding_tutorial_4\"></a>\n",
        "## Custom training loops"
      ]
    },
    {
      "cell_type": "code",
      "metadata": {
        "id": "Rqrs9WVHva51"
      },
      "source": [
        "import tensorflow as tf\n",
        "tf.keras.utils.set_random_seed(seed=42)\n",
        "import numpy as np\n",
        "\n",
        "my_model = MyModel()\n",
        "\n",
        "def loss(y_hat, y):\n",
        "    return tf.math.reduce_mean(input_tensor=tf.math.square(x=(y_hat - y)))\n",
        "\n",
        "loss = tf.keras.losses.MeanSquaredError()\n",
        "optimizer = tf.keras.optimizers.SGD(\n",
        "    learning_rate=0.05, momentum=0.9)\n",
        "\n",
        "epoch_losses = []\n",
        "\n",
        "for epoch in range(num_epochs):\n",
        "    batch_losses = []\n",
        "\n",
        "    for inputs, outputs in training_datasets:\n",
        "        with tf.GradientTape() as tape:\n",
        "            current_loss = loss(y_pred=my_model(inputs), y_true=outputs)\n",
        "            grads = tape.gradient(target=current_loss,\n",
        "                sources=my_model.trainable_variables)\n",
        "\n",
        "        optimizer.apply_gradients(grads_and_vars=\\\n",
        "            zip(grads, my_model.trainable_variables))\n",
        "        batch_losses.append(current_loss)\n",
        "\n",
        "    epoch_losses.append(np.mean(a=batch_losses))"
      ],
      "execution_count": null,
      "outputs": []
    },
    {
      "cell_type": "markdown",
      "metadata": {
        "id": "cCz9DmHfr1sl"
      },
      "source": [
        "#### Load the reuters dataset and define the class_names"
      ]
    },
    {
      "cell_type": "code",
      "metadata": {
        "id": "ZwPBT8tXr1sm",
        "colab": {
          "base_uri": "https://localhost:8080/"
        },
        "outputId": "9c2db9f6-17fe-46ff-9972-daf03ea15bb6"
      },
      "source": [
        "import tensorflow as tf\n",
        "tf.keras.utils.set_random_seed(seed=42)\n",
        "\n",
        "# Load the dataset\n",
        "(train_data, train_labels), (test_data, test_labels) = \\\n",
        "    tf.keras.datasets.reuters.load_data(num_words=10000)\n",
        "\n",
        "class_names = [\n",
        "    'cocoa', 'grain', 'veg-oil', 'earn', 'acq', 'wheat', 'copper', 'housing',\n",
        "    'money-supply', 'coffee', 'sugar', 'trade', 'reserves', 'ship', 'cotton',\n",
        "    'carcass', 'crude', 'nat-gas', 'cpi', 'money-fx', 'interest', 'gnp',\n",
        "    'meal-feed', 'alum', 'oilseed', 'gold', 'tin', 'strategic-metal',\n",
        "    'livestock', 'retail', 'ipi', 'iron-steel', 'rubber', 'heat', 'jobs',\n",
        "    'lei', 'bop', 'zinc', 'orange', 'pet-chem', 'dlr', 'gas', 'silver',\n",
        "    'wpi', 'hog', 'lead'\n",
        "]\n",
        "\n",
        "# Print the class of the first sample\n",
        "print(\"Label: {}\".format(class_names[train_labels[0]]))"
      ],
      "execution_count": 1,
      "outputs": [
        {
          "output_type": "stream",
          "name": "stdout",
          "text": [
            "Label: earn\n"
          ]
        }
      ]
    },
    {
      "cell_type": "markdown",
      "metadata": {
        "id": "wkoNiPVxr1s3"
      },
      "source": [
        "#### Get the dataset word index"
      ]
    },
    {
      "cell_type": "code",
      "metadata": {
        "id": "ZrvnPh8Lr1s3",
        "colab": {
          "base_uri": "https://localhost:8080/"
        },
        "outputId": "6837b236-0b36-4733-adea-90b5c7a87287"
      },
      "source": [
        "import tensorflow as tf\n",
        "tf.keras.utils.set_random_seed(seed=42)\n",
        "\n",
        "# Load the Reuters word index\n",
        "word_to_index = tf.keras.datasets.reuters.get_word_index()\n",
        "invert_word_index = dict([(value, key)\n",
        "    for (key, value) in word_to_index.items()])\n",
        "\n",
        "# Print the first data example sentence\n",
        "text_news = ' '.join([invert_word_index.get(i - 3, '?')\n",
        "    for i in train_data[0]])\n",
        "print(text_news)"
      ],
      "execution_count": 2,
      "outputs": [
        {
          "output_type": "stream",
          "name": "stdout",
          "text": [
            "? ? ? said as a result of its december acquisition of space co it expects earnings per share in 1987 of 1 15 to 1 30 dlrs per share up from 70 cts in 1986 the company said pretax net should rise to nine to 10 mln dlrs from six mln dlrs in 1986 and rental operation revenues to 19 to 22 mln dlrs from 12 5 mln dlrs it said cash flow per share this year should be 2 50 to three dlrs reuter 3\n"
          ]
        }
      ]
    },
    {
      "cell_type": "markdown",
      "metadata": {
        "id": "OD1Wq-0rr1s8"
      },
      "source": [
        "#### Preprocess the data"
      ]
    },
    {
      "cell_type": "code",
      "metadata": {
        "id": "YCOXWQ3Xr1s9",
        "colab": {
          "base_uri": "https://localhost:8080/"
        },
        "outputId": "b9713406-da4b-41f6-dc5a-d6fc8c717fed"
      },
      "source": [
        "import numpy as np\n",
        "\n",
        "# Define a function that encodes the data into a 'bag of words' representation\n",
        "def bag_of_words(text_samples, elements=10000):\n",
        "    output = np.zeros(shape=(len(text_samples), elements))\n",
        "    for i, word in enumerate(text_samples):\n",
        "        output[i, word] = 1.\n",
        "    return output\n",
        "\n",
        "x_train = bag_of_words(text_samples=train_data)\n",
        "x_test = bag_of_words(text_samples=test_data)\n",
        "\n",
        "print(\"Shape of x_train:\", x_train.shape)\n",
        "print(\"Shape of x_test:\", x_test.shape)"
      ],
      "execution_count": 3,
      "outputs": [
        {
          "output_type": "stream",
          "name": "stdout",
          "text": [
            "Shape of x_train: (8982, 10000)\n",
            "Shape of x_test: (2246, 10000)\n"
          ]
        }
      ]
    },
    {
      "cell_type": "markdown",
      "metadata": {
        "id": "atSr-agDr1se"
      },
      "source": [
        "#### Build the model"
      ]
    },
    {
      "cell_type": "code",
      "metadata": {
        "id": "WGI4u73Pr1si",
        "colab": {
          "base_uri": "https://localhost:8080/"
        },
        "outputId": "bdcf5c94-caf0-4291-efa9-1b7bd956efd6"
      },
      "source": [
        "import tensorflow as tf\n",
        "tf.keras.utils.set_random_seed(seed=42)\n",
        "\n",
        "# Define the custom layers and model\n",
        "class MyModel(tf.keras.Model):\n",
        "    def __init__(self, units_1, units_2, units_3, **kwargs):\n",
        "        super().__init__(**kwargs)\n",
        "        # Define layers\n",
        "        self.layer_1 = MyLayer(units=units_1)\n",
        "        self.layer_2 = MyLayer(units=units_2)\n",
        "        self.layer_3 = MyLayer(units=units_3)\n",
        "        self.dropout = MyDropout(rate=0.5)\n",
        "\n",
        "    def call(self, inputs):\n",
        "        # Define forward pass\n",
        "        x = self.layer_1(inputs=inputs)\n",
        "        x = tf.nn.relu(features=x)\n",
        "        x = self.dropout(inputs=x)\n",
        "        x = self.layer_2(inputs=x)\n",
        "        x = tf.nn.relu(features=x)\n",
        "        x = self.dropout(inputs=x)\n",
        "        x = self.layer_3(inputs=x)\n",
        "        return tf.nn.softmax(logits=x)\n",
        "\n",
        "class MyLayer(tf.keras.layers.Layer):\n",
        "    def __init__(self, units, **kwargs):\n",
        "        super().__init__(**kwargs)\n",
        "        self.units = units\n",
        "        self.b = self.add_weight(shape=(units,),\n",
        "            initializer=tf.keras.initializers.Zeros(),\n",
        "            name=\"bias\")\n",
        "\n",
        "    def build(self, input_shape):\n",
        "        self.w = self.add_weight(shape=(input_shape[-1], self.units),\n",
        "            initializer=tf.keras.initializers.RandomNormal(),\n",
        "            name=\"kernel\")\n",
        "\n",
        "    def call(self, inputs):\n",
        "        return tf.linalg.matmul(a=inputs, b=self.w) + self.b\n",
        "\n",
        "class MyDropout(tf.keras.layers.Layer):\n",
        "    def __init__(self, rate, **kwargs):\n",
        "        super().__init__(**kwargs)\n",
        "        self.rate = rate\n",
        "\n",
        "    def call(self, inputs):\n",
        "        # Define forwared pass for dropout layer\n",
        "        return tf.nn.dropout(x=inputs, rate=self.rate)\n",
        "\n",
        "# Instantiate the model object\n",
        "model = MyModel(units_1=64, units_2=64, units_3=46)\n",
        "print(model(inputs=tf.random.normal(shape=(1, 10000))))\n",
        "model.summary()"
      ],
      "execution_count": 4,
      "outputs": [
        {
          "output_type": "stream",
          "name": "stdout",
          "text": [
            "tf.Tensor(\n",
            "[[0.03964711 0.01326958 0.02763753 0.01076229 0.00946367 0.03262109\n",
            "  0.01824417 0.00908988 0.06717901 0.06570987 0.01522713 0.01349179\n",
            "  0.02473041 0.01732281 0.01864108 0.03071251 0.01356731 0.01164669\n",
            "  0.03300926 0.00993308 0.01679034 0.01374915 0.06827164 0.02038475\n",
            "  0.00887607 0.01661218 0.01125773 0.01611739 0.02482517 0.01127254\n",
            "  0.00647558 0.01062837 0.01034763 0.00456736 0.05896316 0.00457546\n",
            "  0.00695589 0.01401417 0.02193612 0.03387661 0.02122178 0.0189374\n",
            "  0.02321725 0.03404637 0.02700517 0.01316846]], shape=(1, 46), dtype=float32)\n",
            "Model: \"my_model\"\n",
            "_________________________________________________________________\n",
            " Layer (type)                Output Shape              Param #   \n",
            "=================================================================\n",
            " my_layer (MyLayer)          multiple                  640064    \n",
            "                                                                 \n",
            " my_layer_1 (MyLayer)        multiple                  4160      \n",
            "                                                                 \n",
            " my_layer_2 (MyLayer)        multiple                  2990      \n",
            "                                                                 \n",
            " my_dropout (MyDropout)      multiple                  0         \n",
            "                                                                 \n",
            "=================================================================\n",
            "Total params: 647214 (2.47 MB)\n",
            "Trainable params: 647214 (2.47 MB)\n",
            "Non-trainable params: 0 (0.00 Byte)\n",
            "_________________________________________________________________\n"
          ]
        }
      ]
    },
    {
      "cell_type": "markdown",
      "metadata": {
        "id": "_D8Hqo95r1tB"
      },
      "source": [
        "#### Define the loss function and optimizer\n",
        "\n"
      ]
    },
    {
      "cell_type": "code",
      "metadata": {
        "id": "hyaEBVH8r1tB"
      },
      "source": [
        "import tensorflow as tf\n",
        "tf.keras.utils.set_random_seed(seed=42)\n",
        "\n",
        "# Define the categorical cross entropy loss and Adam optimizer\n",
        "loss_object = tf.keras.losses.SparseCategoricalCrossentropy()\n",
        "optimizer = tf.keras.optimizers.Adam(learning_rate=0.001)\n",
        "\n",
        "def loss(model, x, y, wd):\n",
        "    kernel_variables = []\n",
        "    for l in model.layers:\n",
        "        for w in l.weights:\n",
        "            if 'kernel' in w.name:\n",
        "             kernel_variables.append(w)\n",
        "    wd_penalty = wd * tf.math.reduce_sum([tf.math.reduce_sum(\n",
        "        tf.math.square(x=k)) for k in kernel_variables])\n",
        "    y_ = model(x)\n",
        "    return loss_object(y_true=y, y_pred=y_) + wd_penalty\n",
        "\n",
        "# Define a function to compute the forward and backward pass\n",
        "def grad(model, inputs, targets, wd):\n",
        "    with tf.GradientTape() as tape:\n",
        "        loss_value = loss(model=model, x=inputs,\n",
        "            y=targets, wd=wd)\n",
        "    return loss_value, tape.gradient(target=loss_value,\n",
        "        sources=model.trainable_variables)"
      ],
      "execution_count": 5,
      "outputs": []
    },
    {
      "cell_type": "markdown",
      "metadata": {
        "id": "LbSqeUASr1tD"
      },
      "source": [
        "#### Train the model"
      ]
    },
    {
      "cell_type": "code",
      "metadata": {
        "id": "GsBCnNF8r1tG",
        "colab": {
          "base_uri": "https://localhost:8080/",
          "height": 722
        },
        "outputId": "63265bff-d642-4652-a96e-249d2b24963d"
      },
      "source": [
        "import tensorflow as tf\n",
        "tf.keras.utils.set_random_seed(seed=42)\n",
        "import numpy as np\n",
        "import time\n",
        "%matplotlib inline\n",
        "import matplotlib.pyplot as plt\n",
        "\n",
        "# Implement the training loop\n",
        "start_time = time.time()\n",
        "\n",
        "# Create a Dataset object for the train set\n",
        "train_dataset = tf.data.Dataset.from_tensor_slices(\n",
        "    tensors=(x_train, train_labels))\n",
        "train_dataset = train_dataset.batch(batch_size=32)\n",
        "\n",
        "# Create a Dataset object for the test set\n",
        "test_dataset = tf.data.Dataset.from_tensor_slices(\n",
        "    tensors=(x_test, test_labels))\n",
        "test_dataset = test_dataset.batch(batch_size=32)\n",
        "\n",
        "# Collect average loss and accuracy\n",
        "epoch_loss_avg = tf.keras.metrics.Mean()\n",
        "epoch_accuracy = tf.keras.metrics.CategoricalAccuracy()\n",
        "\n",
        "# Keep results for plotting\n",
        "train_loss_results, test_loss_results = [], []\n",
        "train_accuracy_results, test_accuracy_results = [], []\n",
        "num_epochs = 10\n",
        "weight_decay = 0.005\n",
        "\n",
        "for epoch in range(num_epochs):\n",
        "\n",
        "    # Training loop\n",
        "    for x, y in train_dataset:\n",
        "        # Compute current loss\n",
        "        loss_value, grads = grad(model=model, inputs=x,\n",
        "            targets=y, wd=weight_decay)\n",
        "        # Optimize the model\n",
        "        optimizer.apply_gradients(grads_and_vars=\\\n",
        "            zip(grads, model.trainable_variables))\n",
        "\n",
        "        epoch_loss_avg(values=loss_value)\n",
        "        # Compare predicted label to actual label\n",
        "        epoch_accuracy(y_true=tf.keras.utils.to_categorical(y=y),\n",
        "            y_pred=model(x))\n",
        "\n",
        "    train_loss_results.append(epoch_loss_avg.result())\n",
        "    train_accuracy_results.append(epoch_accuracy.result())\n",
        "\n",
        "    # Evaluate the model\n",
        "    # Loop over the test set and print scores\n",
        "    for x, y in test_dataset:\n",
        "        # Compute current loss\n",
        "        loss_value = loss(model=model, x=x,\n",
        "            y=y, wd=weight_decay)\n",
        "\n",
        "        epoch_loss_avg(values=loss_value)\n",
        "        # Compare predicted label to actual label\n",
        "        epoch_accuracy(y_true=tf.keras.utils.to_categorical(y=y),\n",
        "            y_pred=model(x))\n",
        "\n",
        "    test_loss_results.append(epoch_loss_avg.result())\n",
        "    test_accuracy_results.append(epoch_accuracy.result())\n",
        "\n",
        "# End epoch\n",
        "print(\"Duration :{:.3f}\".format(time.time() - start_time))\n",
        "\n",
        "# Plot the learning curves\n",
        "# Plot the training loss and accuracy\n",
        "fig, axes = plt.subplots(nrows=2, sharex=True, figsize=(12, 8))\n",
        "fig.suptitle('Training Metrics')\n",
        "\n",
        "axes[0].plot(train_loss_results, label=\"train\")\n",
        "axes[0].plot(test_loss_results, label=\"test\")\n",
        "axes[0].set_ylabel(\"Loss\", fontsize=14)\n",
        "\n",
        "axes[1].plot(train_accuracy_results, label=\"train\")\n",
        "axes[1].plot(test_accuracy_results, label=\"test\")\n",
        "axes[1].set_ylabel(\"Accuracy\", fontsize=14)\n",
        "axes[1].set_xlabel(\"Epoch\", fontsize=14)\n",
        "plt.show()\n",
        "\n",
        "# Predict from the model\n",
        "# Get the model prediction for an example input\n",
        "predicted_label = np.argmax(model(x_train[np.newaxis, 0]), axis=1)[0]\n",
        "print(\"Prediction: {}\".format(class_names[predicted_label]))\n",
        "print(\"     Label: {}\".format(class_names[train_labels[0]]))"
      ],
      "execution_count": 6,
      "outputs": [
        {
          "output_type": "stream",
          "name": "stderr",
          "text": [
            "WARNING:tensorflow:5 out of the last 5 calls to <function _BaseOptimizer._update_step_xla at 0x7bdd08b02170> triggered tf.function retracing. Tracing is expensive and the excessive number of tracings could be due to (1) creating @tf.function repeatedly in a loop, (2) passing tensors with different shapes, (3) passing Python objects instead of tensors. For (1), please define your @tf.function outside of the loop. For (2), @tf.function has reduce_retracing=True option that can avoid unnecessary retracing. For (3), please refer to https://www.tensorflow.org/guide/function#controlling_retracing and https://www.tensorflow.org/api_docs/python/tf/function for  more details.\n",
            "WARNING:tensorflow:6 out of the last 6 calls to <function _BaseOptimizer._update_step_xla at 0x7bdd08b02170> triggered tf.function retracing. Tracing is expensive and the excessive number of tracings could be due to (1) creating @tf.function repeatedly in a loop, (2) passing tensors with different shapes, (3) passing Python objects instead of tensors. For (1), please define your @tf.function outside of the loop. For (2), @tf.function has reduce_retracing=True option that can avoid unnecessary retracing. For (3), please refer to https://www.tensorflow.org/guide/function#controlling_retracing and https://www.tensorflow.org/api_docs/python/tf/function for  more details.\n"
          ]
        },
        {
          "output_type": "stream",
          "name": "stdout",
          "text": [
            "Duration :203.476\n"
          ]
        },
        {
          "output_type": "display_data",
          "data": {
            "text/plain": [
              "<Figure size 1200x800 with 2 Axes>"
            ],
            "image/png": "[encoded data removed]"
          },
          "metadata": {}
        },
        {
          "output_type": "stream",
          "name": "stdout",
          "text": [
            "Prediction: earn\n",
            "     Label: earn\n"
          ]
        }
      ]
    },
    {
      "cell_type": "markdown",
      "metadata": {
        "id": "G7Cn-8F4r1ta"
      },
      "source": [
        "***\n",
        "<a id=\"coding_tutorial_5\"></a>\n",
        "## tf.function decorator"
      ]
    },
    {
      "cell_type": "code",
      "metadata": {
        "id": "aTWqQM-0xo6N"
      },
      "source": [
        "import tensorflow as tf\n",
        "from tensorflow.keras.losses import MeanSquaredError\n",
        "from tensorflow.keras.optimizers import SGD\n",
        "\n",
        "my_model = MyModel()\n",
        "loss = MeanSquaredError()\n",
        "optimizer = SGD(learning_rate=0.05, momentum=0.9)\n",
        "\n",
        "@tf.function\n",
        "def get_loss_and_grads(inputs, outputs):\n",
        "    with tf.GradientTape() as tape:\n",
        "        current_loss = loss(my_model(inputs), outputs)\n",
        "        grads = tape.gradient(current_loss,\n",
        "            my_model.trainable_variables)\n",
        "    return current_loss, grads\n",
        "\n",
        "for epoch in range(num_epochs):\n",
        "    for inputs, outputs in training_dataset:\n",
        "        current_loss, grads = get_loss_and_grads(inputs, outputs)\n",
        "        optimizer.apply_gradients(zip(grads,\n",
        "            my_model.trainable_variables))"
      ],
      "execution_count": null,
      "outputs": []
    },
    {
      "cell_type": "code",
      "metadata": {
        "id": "k_uI0tTjr1tb"
      },
      "source": [
        "import tensorflow as tf\n",
        "from tensorflow.keras.models import Model\n",
        "from tensorflow.keras.layers import Layer, Softmax\n",
        "from tensorflow.keras.utils import to_categorical\n",
        "from tensorflow.keras.datasets import reuters\n",
        "import numpy as np\n",
        "%matplotlib inline\n",
        "import matplotlib.pyplot as plt\n",
        "import time"
      ],
      "execution_count": null,
      "outputs": []
    },
    {
      "cell_type": "markdown",
      "metadata": {
        "id": "UASAY4rgr1tc"
      },
      "source": [
        "#### Build the model"
      ]
    },
    {
      "cell_type": "code",
      "metadata": {
        "id": "uklVa1fYyAtF",
        "colab": {
          "base_uri": "https://localhost:8080/"
        },
        "outputId": "fe09b621-06d0-4f88-a27a-0bb8efce1f5e"
      },
      "source": [
        "# Define the custom layers and model\n",
        "\n",
        "class MyLayer(Layer):\n",
        "\n",
        "    def __init__(self, units):\n",
        "        super(MyLayer, self).__init__()\n",
        "        self.units = units\n",
        "\n",
        "    def build(self, input_shape):\n",
        "        self.w = self.add_weight(shape=(input_shape[-1], self.units),\n",
        "            initializer='random_normal', name='kernel')\n",
        "        self.b = self.add_weight(shape=(self.units, ),\n",
        "            initializer='zeros', name='bias')\n",
        "\n",
        "    def call(self, inputs):\n",
        "        return tf.matmul(inputs, self.w) + self.b\n",
        "\n",
        "class MyDropout(Layer):\n",
        "\n",
        "    def __init__(self, rate):\n",
        "        super(MyDropout, self).__init__()\n",
        "        self.rate = rate\n",
        "\n",
        "    def call(self, inputs):\n",
        "        # Define forwared pass for dropout layer\n",
        "        return tf.nn.dropout(inputs, rate=self.rate)\n",
        "\n",
        "class MyModel(Model):\n",
        "\n",
        "    def __init__(self, units_1, units_2, units_3):\n",
        "        super(MyModel, self).__init__()\n",
        "        # Define layers\n",
        "        self.layer_1 = MyLayer(units_1)\n",
        "        self.dropout_1 = MyDropout(0.5)\n",
        "        self.layer_2 = MyLayer(units_2)\n",
        "        self.dropout_2 = MyDropout(0.5)\n",
        "        self.layer_3 = MyLayer(units_3)\n",
        "        self.softmax = Softmax()\n",
        "\n",
        "    def call(self, inputs):\n",
        "        # Define forward pass\n",
        "        x = self.layer_1(inputs)\n",
        "        x = tf.nn.relu(x)\n",
        "        x = self.dropout_1(x)\n",
        "        x = self.layer_2(x)\n",
        "        x = tf.nn.relu(x)\n",
        "        x = self.dropout_2(x)\n",
        "        x = self.layer_3(x)\n",
        "        return self.softmax(x)\n",
        "\n",
        "# Initialize a new model\n",
        "\n",
        "model = MyModel(64, 64, 46)\n",
        "print(model(tf.ones((1, 10000))))\n",
        "model.summary()"
      ],
      "execution_count": null,
      "outputs": [
        {
          "output_type": "stream",
          "text": [
            "tf.Tensor(\n",
            "[[0.01971349 0.0128117  0.01281833 0.01806461 0.02666165 0.01890017\n",
            "  0.03147139 0.00964301 0.01691275 0.0289935  0.01865787 0.02058025\n",
            "  0.01223264 0.02273865 0.00546703 0.02286484 0.0150119  0.01376886\n",
            "  0.00987451 0.02398963 0.02541195 0.04581803 0.01048673 0.03026778\n",
            "  0.01948599 0.0414695  0.04172915 0.01312426 0.01371575 0.02741901\n",
            "  0.01029295 0.02534913 0.04003927 0.01897906 0.01478054 0.0186229\n",
            "  0.01920601 0.01592984 0.02524102 0.0527998  0.0153937  0.015901\n",
            "  0.03862935 0.03238732 0.01285238 0.01349079]], shape=(1, 46), dtype=float32)\n",
            "Model: \"my_model_4\"\n",
            "_________________________________________________________________\n",
            "Layer (type)                 Output Shape              Param #   \n",
            "=================================================================\n",
            "my_layer_11 (MyLayer)        multiple                  640064    \n",
            "_________________________________________________________________\n",
            "my_dropout_6 (MyDropout)     multiple                  0         \n",
            "_________________________________________________________________\n",
            "my_layer_12 (MyLayer)        multiple                  4160      \n",
            "_________________________________________________________________\n",
            "my_dropout_7 (MyDropout)     multiple                  0         \n",
            "_________________________________________________________________\n",
            "my_layer_13 (MyLayer)        multiple                  2990      \n",
            "_________________________________________________________________\n",
            "softmax_4 (Softmax)          multiple                  0         \n",
            "=================================================================\n",
            "Total params: 647,214\n",
            "Trainable params: 647,214\n",
            "Non-trainable params: 0\n",
            "_________________________________________________________________\n"
          ],
          "name": "stdout"
        }
      ]
    },
    {
      "cell_type": "markdown",
      "metadata": {
        "id": "P5dTotyVyI_j"
      },
      "source": [
        "#### Load the reuters dataset and define the class_names"
      ]
    },
    {
      "cell_type": "code",
      "metadata": {
        "id": "x_7J8dSVyGes"
      },
      "source": [
        "# Load the dataset\n",
        "\n",
        "from tensorflow.keras.datasets import reuters\n",
        "\n",
        "(train_data, train_labels), (test_data, test_labels) = \\\n",
        "    reuters.load_data(num_words=10000)\n",
        "\n",
        "class_names = ['cocoa','grain','veg-oil','earn','acq','wheat',\n",
        "    'copper','housing','money-supply','coffee','sugar','trade',\n",
        "    'reserves','ship','cotton','carcass','crude','nat-gas','cpi',\n",
        "    'money-fx','interest','gnp','meal-feed','alum','oilseed','gold',\n",
        "    'tin','strategic-metal','livestock','retail','ipi','iron-steel',\n",
        "    'rubber','heat','jobs','lei','bop','zinc','orange','pet-chem',\n",
        "    'dlr','gas','silver','wpi','hog','lead']"
      ],
      "execution_count": null,
      "outputs": []
    },
    {
      "cell_type": "code",
      "metadata": {
        "id": "ev3yXr8byTIi",
        "colab": {
          "base_uri": "https://localhost:8080/"
        },
        "outputId": "2ecf0210-e350-4d60-c3f9-546f8ae23091"
      },
      "source": [
        "# Print the class of the first sample\n",
        "\n",
        "print(\"Label: {}\".format(class_names[train_labels[0]]))"
      ],
      "execution_count": null,
      "outputs": [
        {
          "output_type": "stream",
          "text": [
            "Label: earn\n"
          ],
          "name": "stdout"
        }
      ]
    },
    {
      "cell_type": "markdown",
      "metadata": {
        "id": "8aGUS42tyXti"
      },
      "source": [
        "#### Get the dataset word index"
      ]
    },
    {
      "cell_type": "code",
      "metadata": {
        "id": "wopzgI7vyWgx"
      },
      "source": [
        "# Load the Reuters word index\n",
        "\n",
        "word_to_index = reuters.get_word_index()\n",
        "\n",
        "invert_word_index = dict([(value, key) for (key, value)\n",
        "    in word_to_index.items()])"
      ],
      "execution_count": null,
      "outputs": []
    },
    {
      "cell_type": "code",
      "metadata": {
        "id": "huB2kCnpyhsZ",
        "colab": {
          "base_uri": "https://localhost:8080/"
        },
        "outputId": "5d55f9e2-b3f9-4c22-8edb-3ed1401cf64b"
      },
      "source": [
        "# Print the first data example sentence\n",
        "\n",
        "text_news = ' '.join([invert_word_index.get(i - 3, '?')\n",
        "    for i in train_data[0]])\n",
        "print(text_news)"
      ],
      "execution_count": null,
      "outputs": [
        {
          "output_type": "stream",
          "text": [
            "? ? ? said as a result of its december acquisition of space co it expects earnings per share in 1987 of 1 15 to 1 30 dlrs per share up from 70 cts in 1986 the company said pretax net should rise to nine to 10 mln dlrs from six mln dlrs in 1986 and rental operation revenues to 19 to 22 mln dlrs from 12 5 mln dlrs it said cash flow per share this year should be 2 50 to three dlrs reuter 3\n"
          ],
          "name": "stdout"
        }
      ]
    },
    {
      "cell_type": "markdown",
      "metadata": {
        "id": "hPcPqYdpylHe"
      },
      "source": [
        "#### Preprocess the data"
      ]
    },
    {
      "cell_type": "code",
      "metadata": {
        "id": "fvq4ooZ2yoqM",
        "colab": {
          "base_uri": "https://localhost:8080/"
        },
        "outputId": "ac0afa64-24c4-4c76-96be-9124256ccd6d"
      },
      "source": [
        "# Define a function that encodes the data into a 'bag of words' representation\n",
        "\n",
        "def bag_of_words(text_samples, elements=10000):\n",
        "    output = np.zeros((len(text_samples), elements))\n",
        "    for i, word in enumerate(text_samples):\n",
        "        output[i, word] = 1.\n",
        "    return output\n",
        "\n",
        "x_train = bag_of_words(train_data)\n",
        "x_test = bag_of_words(test_data)\n",
        "\n",
        "print(\"Shape of x_train:\", x_train.shape)\n",
        "print(\"Shape of x_test:\", x_test.shape)"
      ],
      "execution_count": null,
      "outputs": [
        {
          "output_type": "stream",
          "text": [
            "Shape of x_train: (8982, 10000)\n",
            "Shape of x_test: (2246, 10000)\n"
          ],
          "name": "stdout"
        }
      ]
    },
    {
      "cell_type": "markdown",
      "metadata": {
        "id": "G9bbZtOUyth3"
      },
      "source": [
        "#### Define the loss function and optimizer"
      ]
    },
    {
      "cell_type": "code",
      "metadata": {
        "id": "PBIF4-15y9RO"
      },
      "source": [
        "# Define the categorical cross entropy loss and Adam optimizer\n",
        "\n",
        "loss_object = tf.keras.losses.SparseCategoricalCrossentropy()\n",
        "\n",
        "def loss(model, x, y, wd):\n",
        "    kernel_variables = []\n",
        "    for l in model.layers:\n",
        "        for w in l.weights:\n",
        "            if 'kernel' in w.name:\n",
        "                kernel_variables.append(w)\n",
        "    wd_penalty = wd * tf.reduce_sum([tf.reduce_sum(tf.square(k))\n",
        "        for k in kernel_variables])\n",
        "    y_ = model(x)\n",
        "    return loss_object(y_true=y, y_pred=y_) + wd_penalty\n",
        "\n",
        "optimizer = tf.keras.optimizers.Adam(learning_rate=0.001)"
      ],
      "execution_count": null,
      "outputs": []
    },
    {
      "cell_type": "markdown",
      "metadata": {
        "id": "__RuGE21r1tf"
      },
      "source": [
        "#### Redefine the grad function using the @tf.function decorator"
      ]
    },
    {
      "cell_type": "code",
      "metadata": {
        "id": "77hBTup9r1tg"
      },
      "source": [
        "# Use the @tf.function decorator\n",
        "\n",
        "@tf.function\n",
        "def grad(model, inputs, targets, wd):\n",
        "    with tf.GradientTape() as tape:\n",
        "        loss_value = loss(model, inputs, targets, wd)\n",
        "    return loss_value, tape.gradient(loss_value,\n",
        "        model.trainable_variables)"
      ],
      "execution_count": null,
      "outputs": []
    },
    {
      "cell_type": "markdown",
      "metadata": {
        "id": "WhN1yZC8r1tj"
      },
      "source": [
        "#### Train the model"
      ]
    },
    {
      "cell_type": "code",
      "metadata": {
        "id": "FUMMtppxr1tj",
        "colab": {
          "base_uri": "https://localhost:8080/"
        },
        "outputId": "adb48fc6-9ecb-4633-8dfb-9f74812f66d8"
      },
      "source": [
        "# Re-run the training loop\n",
        "\n",
        "from tensorflow.keras.utils import to_categorical\n",
        "\n",
        "start_time = time.time()\n",
        "\n",
        "train_dataset = tf.data.Dataset.from_tensor_slices(\n",
        "    (x_train, train_labels))\n",
        "train_dataset = train_dataset.batch(32)\n",
        "\n",
        "# Keep results for plotting\n",
        "train_loss_results = []\n",
        "train_accuracy_results = []\n",
        "\n",
        "num_epochs = 10\n",
        "weight_decay = 0.005\n",
        "\n",
        "for epoch in range(num_epochs):\n",
        "\n",
        "    epoch_loss_avg = tf.keras.metrics.Mean()\n",
        "    epoch_accuracy = tf.keras.metrics.CategoricalAccuracy()\n",
        "\n",
        "    # Training loop\n",
        "    for x, y in train_dataset:\n",
        "        # Optimize the model\n",
        "        loss_value, grads = grad(model, x, y, weight_decay)\n",
        "        optimizer.apply_gradients(zip(grads,\n",
        "            model.trainable_variables))\n",
        "\n",
        "        # Compute current loss\n",
        "        epoch_loss_avg(loss_value)\n",
        "        # Compare predicted label to actual label\n",
        "        epoch_accuracy(to_categorical(y), model(x))\n",
        "\n",
        "    # End epoch\n",
        "    train_loss_results.append(epoch_loss_avg.result())\n",
        "    train_accuracy_results.append(epoch_accuracy.result())\n",
        "\n",
        "    print(\"Epoch {:03d}: Loss: {:.3f}, Accuracy: {:.3%}\".format(\n",
        "        epoch, epoch_loss_avg.result(), epoch_accuracy.result()))\n",
        "\n",
        "print(\"Duration :{:.3f}\".format(time.time() - start_time))"
      ],
      "execution_count": null,
      "outputs": [
        {
          "output_type": "stream",
          "text": [
            "WARNING:tensorflow:Layer my_model_4 is casting an input tensor from dtype float64 to the layer's dtype of float32, which is new behavior in TensorFlow 2.  The layer has dtype float32 because its dtype defaults to floatx.\n",
            "\n",
            "If you intended to run this layer in float32, you can safely ignore this warning. If in doubt, this warning is likely only an issue if you are porting a TensorFlow 1.X model to TensorFlow 2.\n",
            "\n",
            "To change all layers to have dtype float64 by default, call `tf.keras.backend.set_floatx('float64')`. To change just this layer, pass dtype='float64' to the layer constructor. If you are the author of this layer, you can disable autocasting by passing autocast=False to the base Layer constructor.\n",
            "\n",
            "Epoch 000: Loss: 3.318, Accuracy: 47.874%\n",
            "Epoch 001: Loss: 1.906, Accuracy: 61.701%\n",
            "Epoch 002: Loss: 1.816, Accuracy: 65.442%\n",
            "Epoch 003: Loss: 1.771, Accuracy: 67.491%\n",
            "Epoch 004: Loss: 1.754, Accuracy: 68.470%\n",
            "Epoch 005: Loss: 1.737, Accuracy: 69.472%\n",
            "Epoch 006: Loss: 1.730, Accuracy: 69.695%\n",
            "Epoch 007: Loss: 1.705, Accuracy: 70.196%\n",
            "Epoch 008: Loss: 1.705, Accuracy: 70.463%\n",
            "Epoch 009: Loss: 1.706, Accuracy: 70.385%\n",
            "Duration :29.538\n"
          ],
          "name": "stdout"
        }
      ]
    },
    {
      "cell_type": "markdown",
      "metadata": {
        "id": "EwfclNSur1tl"
      },
      "source": [
        "#### Print the autograph code"
      ]
    },
    {
      "cell_type": "code",
      "metadata": {
        "id": "GcLZqDt-r1tn",
        "colab": {
          "base_uri": "https://localhost:8080/"
        },
        "outputId": "7206f428-a2b0-4b28-ffcf-a38a38754ca4"
      },
      "source": [
        "# Use tf.autograph.to_code to see the generated code\n",
        "\n",
        "print(tf.autograph.to_code(grad.python_function))"
      ],
      "execution_count": null,
      "outputs": [
        {
          "output_type": "stream",
          "text": [
            "def tf__grad(model, inputs, targets, wd):\n",
            "    with ag__.FunctionScope('grad', 'fscope', ag__.ConversionOptions(recursive=True, user_requested=True, optional_features=(), internal_convert_user_code=True)) as fscope:\n",
            "        do_return = False\n",
            "        retval_ = ag__.UndefinedReturnValue()\n",
            "        with ag__.ld(tf).GradientTape() as tape:\n",
            "            loss_value = ag__.converted_call(ag__.ld(loss), (ag__.ld(model), ag__.ld(inputs), ag__.ld(targets), ag__.ld(wd)), None, fscope)\n",
            "        try:\n",
            "            do_return = True\n",
            "            retval_ = (ag__.ld(loss_value), ag__.converted_call(ag__.ld(tape).gradient, (ag__.ld(loss_value), ag__.ld(model).trainable_variables), None, fscope))\n",
            "        except:\n",
            "            do_return = False\n",
            "            raise\n",
            "        return fscope.ret(retval_, do_return)\n",
            "\n"
          ],
          "name": "stdout"
        }
      ]
    }
  ]
}