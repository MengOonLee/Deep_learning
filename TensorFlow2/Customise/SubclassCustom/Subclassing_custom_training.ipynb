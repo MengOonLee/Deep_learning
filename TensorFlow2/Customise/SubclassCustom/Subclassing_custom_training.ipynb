{
  "nbformat": 4,
  "nbformat_minor": 0,
  "metadata": {
    "kernelspec": {
      "display_name": "Python 3",
      "name": "python3"
    },
    "language_info": {
      "codemirror_mode": {
        "name": "ipython",
        "version": 3
      },
      "file_extension": ".py",
      "mimetype": "text/x-python",
      "name": "python",
      "nbconvert_exporter": "python",
      "pygments_lexer": "ipython3",
      "version": "3.7.1"
    },
    "colab": {
      "name": "Coding Tutorial.ipynb",
      "provenance": [],
      "gpuType": "T4",
      "include_colab_link": true
    },
    "accelerator": "GPU"
  },
  "cells": [
    {
      "cell_type": "markdown",
      "metadata": {
        "id": "view-in-github",
        "colab_type": "text"
      },
      "source": [
        "<a href=\"https://colab.research.google.com/github/MengOonLee/Deep_learning/blob/master/TensorFlow2/Customise/SubclassCustom/Subclassing_custom_training.ipynb\" target=\"_parent\"><img src=\"https://colab.research.google.com/assets/colab-badge.svg\" alt=\"Open In Colab\"/></a>"
      ]
    },
    {
      "cell_type": "markdown",
      "metadata": {
        "id": "y-63p30Tr1qo"
      },
      "source": [
        "# Model subclassing and custom training loops"
      ]
    },
    {
      "cell_type": "markdown",
      "metadata": {
        "id": "Y1vsuhMJr1qp"
      },
      "source": [
        " ## Coding tutorials\n",
        " #### [1. Model subclassing](#coding_tutorial_1)\n",
        " #### [2. Custom layers](#coding_tutorial_2)\n",
        " #### [3. Automatic differentiation](#coding_tutorial_3)\n",
        " #### [4. Custom training loops](#coding_tutorial_4)\n",
        " #### [5. tf.function decorator](#coding_tutorial_5)"
      ]
    },
    {
      "cell_type": "markdown",
      "metadata": {
        "id": "ygIPKcLbr1qt"
      },
      "source": [
        "***\n",
        "<a id=\"coding_tutorial_1\"></a>\n",
        "## Model subclassing"
      ]
    },
    {
      "cell_type": "markdown",
      "metadata": {
        "id": "EROzuT5cr1q5"
      },
      "source": [
        "#### Create a simple model using the model subclassing API"
      ]
    },
    {
      "cell_type": "code",
      "metadata": {
        "id": "aI0B1hY4r1q7",
        "colab": {
          "base_uri": "https://localhost:8080/"
        },
        "outputId": "bca8b8d5-55c3-4c8a-c345-2e464fc5a4dc"
      },
      "source": [
        "import tensorflow as tf\n",
        "tf.keras.utils.set_random_seed(seed=42)\n",
        "tf.get_logger().setLevel(\"ERROR\")\n",
        "\n",
        "# Build the model\n",
        "class MyModel(tf.keras.Model):\n",
        "    def __init__(self, num_classes, **kwargs):\n",
        "        super().__init__(**kwargs)\n",
        "        self.dense_1 = tf.keras.layers.Dense(units=64,\n",
        "            activation=tf.keras.activations.relu)\n",
        "        self.dense_2 = tf.keras.layers.Dense(units=10,\n",
        "            activation=tf.keras.activations.relu)\n",
        "        self.dense_3 = tf.keras.layers.Dense(units=num_classes,\n",
        "            activation=tf.keras.activations.softmax)\n",
        "        self.dropout = tf.keras.layers.Dropout(rate=0.4)\n",
        "\n",
        "    def call(self, inputs, training=True):\n",
        "        x1 = self.dense_1(inputs=inputs)\n",
        "        x2 = self.dense_2(inputs=inputs)\n",
        "        concat = tf.keras.layers.Concatenate()([x1, x2])\n",
        "        concat = self.dropout(inputs=concat, training=training)\n",
        "        return self.dense_3(inputs=concat)\n",
        "\n",
        "# Print the model summary\n",
        "my_model = MyModel(num_classes=5, name=\"my_model\")\n",
        "my_model(inputs=tf.random.normal(shape=(1, 10)))\n",
        "my_model.summary()"
      ],
      "execution_count": null,
      "outputs": [
        {
          "output_type": "stream",
          "name": "stdout",
          "text": [
            "Model: \"my_model\"\n",
            "_________________________________________________________________\n",
            " Layer (type)                Output Shape              Param #   \n",
            "=================================================================\n",
            " dense (Dense)               multiple                  704       \n",
            "                                                                 \n",
            " dense_1 (Dense)             multiple                  110       \n",
            "                                                                 \n",
            " dense_2 (Dense)             multiple                  375       \n",
            "                                                                 \n",
            " dropout (Dropout)           multiple                  0         \n",
            "                                                                 \n",
            "=================================================================\n",
            "Total params: 1189 (4.64 KB)\n",
            "Trainable params: 1189 (4.64 KB)\n",
            "Non-trainable params: 0 (0.00 Byte)\n",
            "_________________________________________________________________\n"
          ]
        }
      ]
    },
    {
      "cell_type": "markdown",
      "metadata": {
        "id": "PH9r-6CSr1rG"
      },
      "source": [
        "***\n",
        "<a id=\"coding_tutorial_2\"></a>\n",
        "## Custom layers"
      ]
    },
    {
      "cell_type": "markdown",
      "metadata": {
        "id": "xIPDZjqpr1rO"
      },
      "source": [
        "#### Create custom layers"
      ]
    },
    {
      "cell_type": "code",
      "metadata": {
        "id": "h2GIDoAhr1rb",
        "outputId": "26bf535a-18e7-4367-aa73-89739aa7b947",
        "colab": {
          "base_uri": "https://localhost:8080/"
        }
      },
      "source": [
        "import tensorflow as tf\n",
        "tf.keras.utils.set_random_seed(seed=42)\n",
        "tf.get_logger().setLevel(\"ERROR\")\n",
        "\n",
        "# Create a custom layer to accumulate means of output values\n",
        "class MyLayerMean(tf.keras.layers.Layer):\n",
        "    def __init__(self, units, **kwargs):\n",
        "        super().__init__(**kwargs)\n",
        "        self.units = units\n",
        "        # Specify trainable weights\n",
        "        self.b = self.add_weight(shape=(units,),\n",
        "            initializer=tf.keras.initializers.Zeros())\n",
        "        self.sum_activation = tf.Variable(\n",
        "            initial_value=tf.zeros(shape=(units,)),\n",
        "            trainable=False)\n",
        "        self.number_call = tf.Variable(initial_value=0,\n",
        "            trainable=False)\n",
        "\n",
        "    def build(self, input_shape):\n",
        "        self.w = self.add_weight(shape=(input_shape[-1], self.units),\n",
        "            initializer=tf.keras.initializers.RandomNormal())\n",
        "\n",
        "    def call(self, inputs):\n",
        "        activations = tf.linalg.matmul(a=inputs, b=self.w) + self.b\n",
        "        self.sum_activation.assign_add(delta=tf.math.reduce_sum(\n",
        "            input_tensor=activations, axis=0))\n",
        "        self.number_call.assign_add(delta=inputs.shape[0])\n",
        "        return activations, self.sum_activation / tf.cast(\n",
        "                x=self.number_call, dtype=tf.float32)\n",
        "\n",
        "dense_layer = MyLayerMean(units=3)\n",
        "\n",
        "# Test the layer\n",
        "x = tf.ones(shape=(2, 5))\n",
        "y, activation_means = dense_layer(inputs=x)\n",
        "print(\"trainable weights:\", len(dense_layer.trainable_weights))\n",
        "print(\"non-trainable weights:\", len(dense_layer.non_trainable_weights))\n",
        "print(f\"activation_means: {activation_means.numpy()}\")\n",
        "print(f\"weights: {dense_layer.weights}\")"
      ],
      "execution_count": null,
      "outputs": [
        {
          "output_type": "stream",
          "name": "stdout",
          "text": [
            "trainable weights: 2\n",
            "non-trainable weights: 2\n",
            "activation_means: [ 0.01885552 -0.07703885 -0.2915517 ]\n",
            "weights: [<tf.Variable 'Variable:0' shape=(3,) dtype=float32, numpy=array([0., 0., 0.], dtype=float32)>, <tf.Variable 'my_layer_mean/Variable:0' shape=(5, 3) dtype=float32, numpy=\n",
            "array([[-0.02358919, -0.01442928, -0.0221293 ],\n",
            "       [ 0.06809177, -0.09231842, -0.06502789],\n",
            "       [ 0.01064425,  0.0060349 , -0.04163619],\n",
            "       [-0.0387267 ,  0.03659106, -0.10442163],\n",
            "       [ 0.00243539, -0.01291711, -0.05833671]], dtype=float32)>, <tf.Variable 'Variable:0' shape=(3,) dtype=float32, numpy=array([ 0.03771103, -0.1540777 , -0.5831034 ], dtype=float32)>, <tf.Variable 'Variable:0' shape=() dtype=int32, numpy=2>]\n"
          ]
        }
      ]
    },
    {
      "cell_type": "markdown",
      "metadata": {
        "id": "e5s7lbEqr1rq"
      },
      "source": [
        "#### Implement the custom layers into a model"
      ]
    },
    {
      "cell_type": "code",
      "metadata": {
        "id": "kwLPdbngr1rq",
        "outputId": "fff07307-4d9a-49c6-dbc0-010a7c0197f2",
        "colab": {
          "base_uri": "https://localhost:8080/"
        }
      },
      "source": [
        "import tensorflow as tf\n",
        "tf.keras.utils.set_random_seed(seed=42)\n",
        "tf.get_logger().setLevel(\"ERROR\")\n",
        "\n",
        "# Build the model using custom layers with the model subclassing API\n",
        "class MyModel(tf.keras.Model):\n",
        "    def __init__(self, units_1, units_2, units_3, **kwargs):\n",
        "        super().__init__(**kwargs)\n",
        "        # Define layers\n",
        "        self.layer_1 = MyLayer(units=units_1)\n",
        "        self.layer_2 = MyLayer(units=units_2)\n",
        "        self.layer_3 = MyLayer(units=units_3)\n",
        "        self.dropout = MyDropout(rate=0.5)\n",
        "\n",
        "    def call(self, inputs):\n",
        "        # Define forward pass\n",
        "        x = self.layer_1(inputs=inputs)\n",
        "        x = tf.nn.relu(features=x)\n",
        "        x = self.dropout(inputs=x)\n",
        "        x = self.layer_2(inputs=x)\n",
        "        x = tf.nn.relu(features=x)\n",
        "        x = self.dropout(inputs=x)\n",
        "        x = self.layer_3(inputs=x)\n",
        "        return tf.nn.softmax(logits=x)\n",
        "\n",
        "# Create a custom layer\n",
        "class MyLayer(tf.keras.layers.Layer):\n",
        "  def __init__(self, units, **kwargs):\n",
        "      super().__init__(**kwargs)\n",
        "      self.units = units\n",
        "      self.b = self.add_weight(shape=(units,),\n",
        "          initializer=tf.keras.initializers.Zeros())\n",
        "\n",
        "  def build(self, input_shape):\n",
        "      self.w = self.add_weight(shape=(input_shape[-1], self.units),\n",
        "          initializer=tf.keras.initializers.RandomNormal())\n",
        "\n",
        "  def call(self, inputs):\n",
        "      return tf.linalg.matmul(a=inputs, b=self.w) + self.b\n",
        "\n",
        "# Create a Dropout layer as a custom layer\n",
        "class MyDropout(tf.keras.layers.Layer):\n",
        "    def __init__(self, rate, **kwargs):\n",
        "        super().__init__(**kwargs)\n",
        "        self.rate = rate\n",
        "\n",
        "    def call(self, inputs):\n",
        "        # Define forward pass for dropout layer\n",
        "        return tf.nn.dropout(x=inputs, rate=self.rate)\n",
        "\n",
        "# Instantiate a model object\n",
        "my_model = MyModel(units_1=64, units_2=64, units_3=46, name=\"my_model\")\n",
        "print(my_model(inputs=tf.random.normal(shape=(1, 10000))))\n",
        "my_model.summary()"
      ],
      "execution_count": null,
      "outputs": [
        {
          "output_type": "stream",
          "name": "stdout",
          "text": [
            "tf.Tensor(\n",
            "[[0.03964711 0.01326958 0.02763753 0.01076229 0.00946367 0.03262109\n",
            "  0.01824417 0.00908988 0.06717901 0.06570987 0.01522713 0.01349179\n",
            "  0.02473041 0.01732281 0.01864108 0.03071251 0.01356731 0.01164669\n",
            "  0.03300926 0.00993308 0.01679034 0.01374915 0.06827164 0.02038475\n",
            "  0.00887607 0.01661218 0.01125773 0.01611739 0.02482517 0.01127254\n",
            "  0.00647558 0.01062837 0.01034763 0.00456736 0.05896316 0.00457546\n",
            "  0.00695589 0.01401417 0.02193612 0.03387661 0.02122178 0.0189374\n",
            "  0.02321725 0.03404637 0.02700517 0.01316846]], shape=(1, 46), dtype=float32)\n",
            "Model: \"my_model\"\n",
            "_________________________________________________________________\n",
            " Layer (type)                Output Shape              Param #   \n",
            "=================================================================\n",
            " my_layer (MyLayer)          multiple                  640064    \n",
            "                                                                 \n",
            " my_layer_1 (MyLayer)        multiple                  4160      \n",
            "                                                                 \n",
            " my_layer_2 (MyLayer)        multiple                  2990      \n",
            "                                                                 \n",
            " my_dropout (MyDropout)      multiple                  0         \n",
            "                                                                 \n",
            "=================================================================\n",
            "Total params: 647214 (2.47 MB)\n",
            "Trainable params: 647214 (2.47 MB)\n",
            "Non-trainable params: 0 (0.00 Byte)\n",
            "_________________________________________________________________\n"
          ]
        }
      ]
    },
    {
      "cell_type": "markdown",
      "metadata": {
        "id": "AoDMC-nBr1r0"
      },
      "source": [
        "***\n",
        "<a id=\"coding_tutorial_3\"></a>\n",
        "## Automatic differentiation"
      ]
    },
    {
      "cell_type": "code",
      "metadata": {
        "id": "dwERUPc0uuWn",
        "colab": {
          "base_uri": "https://localhost:8080/"
        },
        "outputId": "f55152fc-bccd-4dfc-9ac2-da58d2b2c63b"
      },
      "source": [
        "import tensorflow as tf\n",
        "tf.keras.utils.set_random_seed(seed=42)\n",
        "tf.get_logger().setLevel(\"ERROR\")\n",
        "\n",
        "x = tf.constant(value=[0, 1, 2, 3], dtype=tf.float32)\n",
        "\n",
        "with tf.GradientTape() as tape:\n",
        "    tape.watch(tensor=x)\n",
        "    y = tf.math.reduce_sum(input_tensor=x**2)\n",
        "    z = tf.math.sin(x=y)\n",
        "    dz_dy, dz_dx = tape.gradient(target=z, sources=[y, x])\n",
        "\n",
        "print(f\"dz_dy: {dz_dy}\")\n",
        "print(f\"dz_dx: {dz_dx}\")"
      ],
      "execution_count": null,
      "outputs": [
        {
          "output_type": "stream",
          "name": "stdout",
          "text": [
            "dz_dy: 0.13673722743988037\n",
            "dz_dx: [0.         0.27347445 0.5469489  0.82042336]\n"
          ]
        }
      ]
    },
    {
      "cell_type": "markdown",
      "metadata": {
        "id": "OQi4BqY1r1sL"
      },
      "source": [
        "#### Build, train and plot the linear regression model"
      ]
    },
    {
      "cell_type": "code",
      "metadata": {
        "id": "vBJiU2Lfr1sM",
        "colab": {
          "base_uri": "https://localhost:8080/",
          "height": 646
        },
        "outputId": "a9419441-4186-475d-9ed9-62807e8e9287"
      },
      "source": [
        "import numpy as np\n",
        "import tensorflow as tf\n",
        "tf.keras.utils.set_random_seed(seed=42)\n",
        "tf.get_logger().setLevel(\"ERROR\")\n",
        "%matplotlib inline\n",
        "import matplotlib.pyplot as plt\n",
        "\n",
        "# Create data from a noise contaminated linear model\n",
        "@tf.function\n",
        "def MakeNoisyData(w, b, n=20):\n",
        "    x = tf.random.uniform(shape=(n,))\n",
        "    noise = tf.random.normal(shape=(len(x),), stddev=0.1)\n",
        "    y = w * x + b + noise\n",
        "    return x, y\n",
        "\n",
        "w, b = 1, 2\n",
        "x_train, y_train = MakeNoisyData(w=w, b=b)\n",
        "\n",
        "# Build a custom layer for the linear regression model\n",
        "class LinearLayer(tf.keras.layers.Layer):\n",
        "    def __init__(self, units, **kwargs):\n",
        "        super().__init__(**kwargs)\n",
        "        self.w = self.add_weight(shape=(units,),\n",
        "            initializer=tf.keras.initializers.RandomNormal())\n",
        "        self.b = self.add_weight(shape=(units,),\n",
        "            initializer=tf.keras.initializers.Zeros())\n",
        "\n",
        "    def call(self, inputs):\n",
        "        return self.w*inputs + self.b\n",
        "\n",
        "linear_regression = LinearLayer(units=1)\n",
        "\n",
        "# Define the mean squared error loss function & gradients\n",
        "@tf.function\n",
        "def get_loss_and_grads(x, y):\n",
        "    with tf.GradientTape() as tape:\n",
        "        y_pred = linear_regression(inputs=x_train)\n",
        "        loss = tf.math.reduce_mean(\n",
        "            input_tensor=tf.math.square(x=(y_pred-y)))\n",
        "        grads = tape.gradient(target=loss,\n",
        "            sources=linear_regression.trainable_variables)\n",
        "    return loss, grads\n",
        "\n",
        "# Implement a gradient descent training loop for the linear regression model\n",
        "lr = 0.05\n",
        "steps = 25\n",
        "\n",
        "losses = []\n",
        "for i in range(steps):\n",
        "    loss, grad = get_loss_and_grads(x=x_train, y=y_train)\n",
        "    losses.append(loss.numpy())\n",
        "    linear_regression.w.assign_sub(delta=lr*grad[0])\n",
        "    linear_regression.b.assign_sub(delta=lr*grad[1])\n",
        "\n",
        "plt.figure(figsize=(5, 3))\n",
        "plt.title(label=\"Losses\")\n",
        "plt.plot(losses)\n",
        "plt.show()\n",
        "\n",
        "# Plot the learned regression model\n",
        "print(\"w:{},  trained w:{}\".format(w, linear_regression.w.numpy()))\n",
        "print(\"b:{},  trained b:{}\".format(b, linear_regression.b.numpy()))\n",
        "\n",
        "plt.figure(figsize=(5, 3))\n",
        "plt.title(label=\"Learned regression\")\n",
        "plt.plot(x_train, y_train, 'b.')\n",
        "x_linear_regression = np.linspace(start=min(x_train),\n",
        "    stop=max(x_train), num=50)\n",
        "y_linear_regression = linear_regression.w * x_linear_regression \\\n",
        "    + linear_regression.b\n",
        "plt.plot(x_linear_regression, y_linear_regression, 'r.')\n",
        "plt.show()"
      ],
      "execution_count": 1,
      "outputs": [
        {
          "output_type": "display_data",
          "data": {
            "text/plain": [
              "<Figure size 500x300 with 1 Axes>"
            ],
            "image/png": "[encoded data removed]"
          },
          "metadata": {}
        },
        {
          "output_type": "stream",
          "name": "stdout",
          "text": [
            "w:1,  trained w:[0.8987737]\n",
            "b:2,  trained b:[1.9256457]\n"
          ]
        },
        {
          "output_type": "display_data",
          "data": {
            "text/plain": [
              "<Figure size 500x300 with 1 Axes>"
            ],
            "image/png": "[encoded data removed]"
          },
          "metadata": {}
        }
      ]
    },
    {
      "cell_type": "markdown",
      "metadata": {
        "id": "zfVr4Cg9r1sZ"
      },
      "source": [
        "***\n",
        "<a id=\"coding_tutorial_4\"></a>\n",
        "## Custom training loops"
      ]
    },
    {
      "cell_type": "markdown",
      "metadata": {
        "id": "cCz9DmHfr1sl"
      },
      "source": [
        "#### Load the reuters dataset and define the class_names"
      ]
    },
    {
      "cell_type": "code",
      "metadata": {
        "id": "ZwPBT8tXr1sm",
        "colab": {
          "base_uri": "https://localhost:8080/"
        },
        "outputId": "55c35ead-95c4-4520-fbf8-31c01bff4d2a"
      },
      "source": [
        "import numpy as np\n",
        "import tensorflow as tf\n",
        "tf.keras.utils.set_random_seed(seed=42)\n",
        "tf.get_logger().setLevel(\"ERROR\")\n",
        "\n",
        "# Load the dataset\n",
        "(train_data, train_labels), (test_data, test_labels) = \\\n",
        "    tf.keras.datasets.reuters.load_data(num_words=10000)\n",
        "\n",
        "class_names = [\n",
        "    'cocoa', 'grain', 'veg-oil', 'earn', 'acq', 'wheat', 'copper', 'housing',\n",
        "    'money-supply', 'coffee', 'sugar', 'trade', 'reserves', 'ship', 'cotton',\n",
        "    'carcass', 'crude', 'nat-gas', 'cpi', 'money-fx', 'interest', 'gnp',\n",
        "    'meal-feed', 'alum', 'oilseed', 'gold', 'tin', 'strategic-metal',\n",
        "    'livestock', 'retail', 'ipi', 'iron-steel', 'rubber', 'heat', 'jobs',\n",
        "    'lei', 'bop', 'zinc', 'orange', 'pet-chem', 'dlr', 'gas', 'silver',\n",
        "    'wpi', 'hog', 'lead'\n",
        "]\n",
        "\n",
        "# Print the class of the first sample\n",
        "print(\"Label: {}\".format(class_names[train_labels[0]]))\n",
        "print(\"Shape of train labels:\", train_labels.shape)\n",
        "\n",
        "# Get the dataset word index\n",
        "# Load the Reuters word index\n",
        "word_to_index = tf.keras.datasets.reuters.get_word_index()\n",
        "invert_word_index = dict([(value, key)\n",
        "    for (key, value) in word_to_index.items()])\n",
        "\n",
        "# Print the first data example sentence\n",
        "text_news = ' '.join([invert_word_index.get(i - 3, '?')\n",
        "    for i in train_data[0]])\n",
        "print(\"First sample:\", text_news)\n",
        "\n",
        "# Preprocess the data\n",
        "# Define a function that encodes the data\n",
        "# into a 'bag of words' representation\n",
        "def bag_of_words(text_samples, elements=10000):\n",
        "    output = np.zeros(shape=(len(text_samples), elements))\n",
        "    for i, word in enumerate(text_samples):\n",
        "        output[i, word] = 1.\n",
        "    return output\n",
        "\n",
        "x_train = bag_of_words(text_samples=train_data)\n",
        "print(\"Shape of x_train:\", x_train.shape)\n",
        "# Create a Dataset object for the train set\n",
        "train_dataset = tf.data.Dataset.from_tensor_slices(\n",
        "    tensors=(x_train, train_labels))\n",
        "train_dataset = train_dataset.batch(batch_size=32)\n",
        "print(\"Train dataset element spec:\", train_dataset.element_spec)\n",
        "\n",
        "x_test = bag_of_words(text_samples=test_data)\n",
        "print(\"Shape of x_test:\", x_test.shape)\n",
        "# Create a Dataset object for the test set\n",
        "test_dataset = tf.data.Dataset.from_tensor_slices(\n",
        "    tensors=(x_test, test_labels))\n",
        "test_dataset = test_dataset.batch(batch_size=32)\n",
        "print(\"Test dataset element spec:\", test_dataset.element_spec)"
      ],
      "execution_count": 1,
      "outputs": [
        {
          "output_type": "stream",
          "name": "stdout",
          "text": [
            "Downloading data from https://storage.googleapis.com/tensorflow/tf-keras-datasets/reuters.npz\n",
            "2110848/2110848 [==============================] - 0s 0us/step\n",
            "Label: earn\n",
            "Shape of train labels: (8982,)\n",
            "Downloading data from https://storage.googleapis.com/tensorflow/tf-keras-datasets/reuters_word_index.json\n",
            "550378/550378 [==============================] - 0s 0us/step\n",
            "First sample: ? ? ? said as a result of its december acquisition of space co it expects earnings per share in 1987 of 1 15 to 1 30 dlrs per share up from 70 cts in 1986 the company said pretax net should rise to nine to 10 mln dlrs from six mln dlrs in 1986 and rental operation revenues to 19 to 22 mln dlrs from 12 5 mln dlrs it said cash flow per share this year should be 2 50 to three dlrs reuter 3\n",
            "Shape of x_train: (8982, 10000)\n",
            "Train dataset element spec: (TensorSpec(shape=(None, 10000), dtype=tf.float64, name=None), TensorSpec(shape=(None,), dtype=tf.int64, name=None))\n",
            "Shape of x_test: (2246, 10000)\n",
            "Test dataset element spec: (TensorSpec(shape=(None, 10000), dtype=tf.float64, name=None), TensorSpec(shape=(None,), dtype=tf.int64, name=None))\n"
          ]
        }
      ]
    },
    {
      "cell_type": "markdown",
      "metadata": {
        "id": "atSr-agDr1se"
      },
      "source": [
        "#### Build the model"
      ]
    },
    {
      "cell_type": "code",
      "metadata": {
        "id": "WGI4u73Pr1si",
        "colab": {
          "base_uri": "https://localhost:8080/"
        },
        "outputId": "2ad7995c-b6b2-475d-ebdc-bd3aa0d0c2ed"
      },
      "source": [
        "import tensorflow as tf\n",
        "tf.keras.utils.set_random_seed(seed=42)\n",
        "tf.get_logger().setLevel(\"ERROR\")\n",
        "\n",
        "# Define the custom layers and model\n",
        "class MyModel(tf.keras.Model):\n",
        "    def __init__(self, units_1, units_2, units_3, **kwargs):\n",
        "        super().__init__(**kwargs)\n",
        "        # Define layers\n",
        "        self.layer_1 = MyLayer(units=units_1)\n",
        "        self.layer_2 = MyLayer(units=units_2)\n",
        "        self.layer_3 = MyLayer(units=units_3)\n",
        "        self.dropout = MyDropout(rate=0.5)\n",
        "\n",
        "    def call(self, inputs):\n",
        "        # Define forward pass\n",
        "        x = self.layer_1(inputs=inputs)\n",
        "        x = tf.nn.relu(features=x)\n",
        "        x = self.dropout(inputs=x)\n",
        "        x = self.layer_2(inputs=x)\n",
        "        x = tf.nn.relu(features=x)\n",
        "        x = self.dropout(inputs=x)\n",
        "        x = self.layer_3(inputs=x)\n",
        "        return tf.nn.softmax(logits=x)\n",
        "\n",
        "class MyLayer(tf.keras.layers.Layer):\n",
        "    def __init__(self, units, **kwargs):\n",
        "        super().__init__(**kwargs)\n",
        "        self.units = units\n",
        "        self.b = self.add_weight(shape=(units,),\n",
        "            initializer=tf.keras.initializers.Zeros(),\n",
        "            name=\"bias\")\n",
        "\n",
        "    def build(self, input_shape):\n",
        "        self.w = self.add_weight(shape=(input_shape[-1], self.units),\n",
        "            initializer=tf.keras.initializers.RandomNormal(),\n",
        "            name=\"kernel\")\n",
        "\n",
        "    def call(self, inputs):\n",
        "        return tf.linalg.matmul(a=inputs, b=self.w) + self.b\n",
        "\n",
        "class MyDropout(tf.keras.layers.Layer):\n",
        "    def __init__(self, rate, **kwargs):\n",
        "        super().__init__(**kwargs)\n",
        "        self.rate = rate\n",
        "\n",
        "    def call(self, inputs):\n",
        "        # Define forwared pass for dropout layer\n",
        "        return tf.nn.dropout(x=inputs, rate=self.rate)\n",
        "\n",
        "# Instantiate the model object\n",
        "model = MyModel(units_1=64, units_2=64, units_3=46)\n",
        "model(inputs=tf.keras.Input(shape=(1, 10000)))\n",
        "model.summary()"
      ],
      "execution_count": 2,
      "outputs": [
        {
          "output_type": "stream",
          "name": "stdout",
          "text": [
            "Model: \"my_model\"\n",
            "_________________________________________________________________\n",
            " Layer (type)                Output Shape              Param #   \n",
            "=================================================================\n",
            " my_layer (MyLayer)          multiple                  640064    \n",
            "                                                                 \n",
            " my_layer_1 (MyLayer)        multiple                  4160      \n",
            "                                                                 \n",
            " my_layer_2 (MyLayer)        multiple                  2990      \n",
            "                                                                 \n",
            " my_dropout (MyDropout)      multiple                  0         \n",
            "                                                                 \n",
            "=================================================================\n",
            "Total params: 647214 (2.47 MB)\n",
            "Trainable params: 647214 (2.47 MB)\n",
            "Non-trainable params: 0 (0.00 Byte)\n",
            "_________________________________________________________________\n"
          ]
        }
      ]
    },
    {
      "cell_type": "markdown",
      "metadata": {
        "id": "_D8Hqo95r1tB"
      },
      "source": [
        "#### Define the loss function and optimizer\n",
        "\n"
      ]
    },
    {
      "cell_type": "code",
      "metadata": {
        "id": "hyaEBVH8r1tB"
      },
      "source": [
        "import tensorflow as tf\n",
        "tf.keras.utils.set_random_seed(seed=42)\n",
        "tf.get_logger().setLevel(\"ERROR\")\n",
        "\n",
        "# Define the categorical cross entropy loss\n",
        "loss_fn = tf.keras.losses.SparseCategoricalCrossentropy()\n",
        "# Define the Adam optimizer\n",
        "optimizer = tf.keras.optimizers.Adam(learning_rate=0.001)\n",
        "# Collect average loss and accuracy\n",
        "metric_loss = tf.keras.metrics.Mean()\n",
        "metric_acc = tf.keras.metrics.SparseCategoricalAccuracy()\n",
        "\n",
        "# Use the @tf.function decorator\n",
        "@tf.function\n",
        "def get_loss_wd(model, y, yhat, wd):\n",
        "    kernel_variables = []\n",
        "    for l in model.layers:\n",
        "        for w in l.weights:\n",
        "            if 'kernel' in w.name:\n",
        "                kernel_variables.append(w)\n",
        "    wd_penalty = wd * tf.math.reduce_sum([tf.math.reduce_sum(\n",
        "        tf.math.square(x=k)) for k in kernel_variables])\n",
        "    return loss_fn(y_true=y, y_pred=yhat) + wd_penalty\n",
        "\n",
        "# Define a function to compute the training and validation\n",
        "@tf.function\n",
        "def train(model, x, y, wd):\n",
        "    with tf.GradientTape() as tape:\n",
        "        pred = model(inputs=x, training=True)\n",
        "        metric_acc(y_true=y, y_pred=pred)\n",
        "        loss = get_loss_wd(model=model, y=y,\n",
        "            yhat=pred, wd=wd)\n",
        "        metric_loss(values=loss)\n",
        "        grads = tape.gradient(target=loss,\n",
        "            sources=model.trainable_variables)\n",
        "    optimizer.apply_gradients(grads_and_vars=zip(\n",
        "        grads, model.trainable_weights))\n",
        "    return metric_loss.result(), metric_acc.result()\n",
        "\n",
        "@tf.function\n",
        "def valid(model, x, y):\n",
        "    pred = model(inputs=x, training=False)\n",
        "    metric_acc(y_true=y, y_pred=pred)\n",
        "    loss = loss_fn(y_true=y, y_pred=pred)\n",
        "    metric_loss(values=loss)\n",
        "    return metric_loss.result(), metric_acc.result()"
      ],
      "execution_count": 3,
      "outputs": []
    },
    {
      "cell_type": "markdown",
      "source": [
        "***\n",
        "<a id=\"coding_tutorial_5\"></a>\n",
        "## tf.function decorator"
      ],
      "metadata": {
        "id": "I21wOE-wEhZD"
      }
    },
    {
      "cell_type": "markdown",
      "metadata": {
        "id": "EwfclNSur1tl"
      },
      "source": [
        "#### Print the autograph code"
      ]
    },
    {
      "cell_type": "code",
      "metadata": {
        "id": "GcLZqDt-r1tn",
        "colab": {
          "base_uri": "https://localhost:8080/"
        },
        "outputId": "38e291f2-6a81-4c8b-e9eb-db9232a85cf1"
      },
      "source": [
        "import tensorflow as tf\n",
        "tf.keras.utils.set_random_seed(seed=42)\n",
        "tf.get_logger().setLevel(\"ERROR\")\n",
        "\n",
        "# Use tf.autograph.to_code to see the generated code\n",
        "print(tf.autograph.to_code(entity=train.python_function))"
      ],
      "execution_count": 4,
      "outputs": [
        {
          "output_type": "stream",
          "name": "stdout",
          "text": [
            "def tf__train(model, x, y, wd):\n",
            "    with ag__.FunctionScope('train', 'fscope', ag__.ConversionOptions(recursive=True, user_requested=True, optional_features=(), internal_convert_user_code=True)) as fscope:\n",
            "        do_return = False\n",
            "        retval_ = ag__.UndefinedReturnValue()\n",
            "        with ag__.ld(tf).GradientTape() as tape:\n",
            "            pred = ag__.converted_call(ag__.ld(model), (), dict(inputs=ag__.ld(x), training=True), fscope)\n",
            "            ag__.converted_call(ag__.ld(metric_acc), (), dict(y_true=ag__.ld(y), y_pred=ag__.ld(pred)), fscope)\n",
            "            loss = ag__.converted_call(ag__.ld(get_loss_wd), (), dict(model=ag__.ld(model), y=ag__.ld(y), yhat=ag__.ld(pred), wd=ag__.ld(wd)), fscope)\n",
            "            ag__.converted_call(ag__.ld(metric_loss), (), dict(values=ag__.ld(loss)), fscope)\n",
            "            grads = ag__.converted_call(ag__.ld(tape).gradient, (), dict(target=ag__.ld(loss), sources=ag__.ld(model).trainable_variables), fscope)\n",
            "        ag__.converted_call(ag__.ld(optimizer).apply_gradients, (), dict(grads_and_vars=ag__.converted_call(ag__.ld(zip), (ag__.ld(grads), ag__.ld(model).trainable_weights), None, fscope)), fscope)\n",
            "        try:\n",
            "            do_return = True\n",
            "            retval_ = (ag__.converted_call(ag__.ld(metric_loss).result, (), None, fscope), ag__.converted_call(ag__.ld(metric_acc).result, (), None, fscope))\n",
            "        except:\n",
            "            do_return = False\n",
            "            raise\n",
            "        return fscope.ret(retval_, do_return)\n",
            "\n"
          ]
        }
      ]
    },
    {
      "cell_type": "markdown",
      "metadata": {
        "id": "LbSqeUASr1tD"
      },
      "source": [
        "#### Train the model"
      ]
    },
    {
      "cell_type": "code",
      "metadata": {
        "id": "GsBCnNF8r1tG",
        "colab": {
          "base_uri": "https://localhost:8080/",
          "height": 617
        },
        "outputId": "ceb0d0a7-9a43-42bf-cc30-eab8514f3991"
      },
      "source": [
        "import tensorflow as tf\n",
        "tf.keras.utils.set_random_seed(seed=42)\n",
        "tf.get_logger().setLevel(\"ERROR\")\n",
        "import numpy as np\n",
        "import pandas as pd\n",
        "import time\n",
        "%matplotlib inline\n",
        "import matplotlib.pyplot as plt\n",
        "import seaborn as sns\n",
        "\n",
        "# Implement the training loop\n",
        "start_time = time.time()\n",
        "\n",
        "# Keep results for plotting\n",
        "history = {\n",
        "    \"train_loss\": [], \"train_accuracy\": [],\n",
        "    \"valid_loss\": [], \"valid_accuracy\": []\n",
        "}\n",
        "for _ in range(10):\n",
        "    # Training loop\n",
        "    for x, y in train_dataset:\n",
        "        # Optimize the model\n",
        "        train_loss, train_acc = train(model=model, x=x,\n",
        "            y=y, wd=0.005)\n",
        "    # Compute current loss\n",
        "    history[\"train_loss\"].append(train_loss.numpy())\n",
        "    # Compare predicted label to actual label\n",
        "    history[\"train_accuracy\"].append(train_acc.numpy())\n",
        "\n",
        "    # Evaluate the model\n",
        "    # Loop over the test set and print scores\n",
        "    for x, y in test_dataset:\n",
        "        valid_loss, valid_acc = valid(model=model, x=x, y=y)\n",
        "    # Compute current loss\n",
        "    history[\"valid_loss\"].append(valid_loss.numpy())\n",
        "    # Compare predicted label to actual label\n",
        "    history[\"valid_accuracy\"].append(valid_acc.numpy())\n",
        "\n",
        "# End epoch\n",
        "print(\"Duration :{:.3f}\".format(time.time() - start_time))\n",
        "df_history = pd.DataFrame(history)\n",
        "\n",
        "# Plot the learning curves\n",
        "# Plot the training loss and accuracy\n",
        "fig, axes = plt.subplots(nrows=2, sharex=True, figsize=(12, 8))\n",
        "fig.suptitle(t=\"Training Metrics\")\n",
        "axes[1].set_xlabel(xlabel=\"epoch\")\n",
        "for ax, metric in zip(axes, [\"loss\", \"accuracy\"]):\n",
        "    sns.lineplot(ax=ax, label=\"train\", data=df_history,\n",
        "        x=df_history.index, y=f\"train_{metric}\")\n",
        "    sns.lineplot(ax=ax, label=\"valid\", data=df_history,\n",
        "        x=df_history.index, y=f\"valid_{metric}\")\n",
        "    ax.legend(loc=\"best\")\n",
        "    ax.set_ylabel(ylabel=f\"{metric}\")\n",
        "    ax.set_title(label=f\"{metric} vs. epoch\")\n",
        "fig.tight_layout()\n",
        "plt.show()\n",
        "\n",
        "# # Get the model prediction for an example input\n",
        "predicted_label = np.argmax(model(\n",
        "    inputs=x_train[np.newaxis, 0]), axis=1)[0]\n",
        "print(\"Prediction from the model\")\n",
        "print(\"Predict: {}\".format(class_names[predicted_label]))\n",
        "print(\"  Label: {}\".format(class_names[train_labels[0]]))"
      ],
      "execution_count": 5,
      "outputs": [
        {
          "output_type": "stream",
          "name": "stdout",
          "text": [
            "Duration :17.761\n"
          ]
        },
        {
          "output_type": "display_data",
          "data": {
            "text/plain": [
              "<Figure size 1200x800 with 2 Axes>"
            ],
            "image/png": "[encoded data removed]"
          },
          "metadata": {}
        },
        {
          "output_type": "stream",
          "name": "stdout",
          "text": [
            "Prediction from the model\n",
            "Predict: earn\n",
            "  Label: earn\n"
          ]
        }
      ]
    }
  ]
}