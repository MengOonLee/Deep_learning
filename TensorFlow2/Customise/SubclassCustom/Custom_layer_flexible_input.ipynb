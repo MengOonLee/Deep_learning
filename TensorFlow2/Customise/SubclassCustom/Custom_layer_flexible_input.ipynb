{
  "nbformat": 4,
  "nbformat_minor": 0,
  "metadata": {
    "kernelspec": {
      "display_name": "Python 3",
      "name": "python3"
    },
    "language_info": {
      "codemirror_mode": {
        "name": "ipython",
        "version": 3
      },
      "file_extension": ".py",
      "mimetype": "text/x-python",
      "name": "python",
      "nbconvert_exporter": "python",
      "pygments_lexer": "ipython3",
      "version": "3.7.1"
    },
    "colab": {
      "name": "The build method.ipynb",
      "provenance": [],
      "include_colab_link": true
    }
  },
  "cells": [
    {
      "cell_type": "markdown",
      "metadata": {
        "id": "view-in-github",
        "colab_type": "text"
      },
      "source": [
        "<a href=\"https://colab.research.google.com/github/MengOonLee/Deep_learning/blob/master/TensorFlow2/Customise/SubclassCustom/Custom_layer_flexible_input.ipynb\" target=\"_parent\"><img src=\"https://colab.research.google.com/assets/colab-badge.svg\" alt=\"Open In Colab\"/></a>"
      ]
    },
    {
      "cell_type": "markdown",
      "metadata": {
        "id": "wbgDGOj4zc6I"
      },
      "source": [
        "# Flexible input shapes for custom layers\n",
        "In this reading you will learn how to use the build method to allow custom layers to work with flexible sized inputs."
      ]
    },
    {
      "cell_type": "markdown",
      "metadata": {
        "id": "s3aFlLWFzc6V"
      },
      "source": [
        "## Fix the input shape in the custom layer"
      ]
    },
    {
      "cell_type": "markdown",
      "metadata": {
        "id": "aP8gpeIyzc6Y"
      },
      "source": [
        "Previously, you have created custom layers by initialising all variables in the `__init__` method. For instance, you defined a dense layer called `MyLayer` as follows:"
      ]
    },
    {
      "cell_type": "code",
      "metadata": {
        "id": "CVmVoYf6zc6a"
      },
      "source": [
        "# Create a custom layer\n",
        "import tensorflow as tf\n",
        "tf.keras.utils.set_random_seed(seed=42)\n",
        "\n",
        "class MyLayer(tf.keras.layers.Layer):\n",
        "    def __init__(self, units, input_dim, **kwargs):\n",
        "        super().__init__(**kwargs)\n",
        "        self.w = self.add_weight(shape=(input_dim, units),\n",
        "            initializer=tf.keras.initializers.RandomNormal())\n",
        "        self.b = self.add_weight(shape=(units,),\n",
        "            initializer=tf.keras.initializers.Zeros())\n",
        "\n",
        "    def call(self, inputs):\n",
        "        return tf.linalg.matmul(a=inputs, b=self.w) + self.b"
      ],
      "execution_count": 1,
      "outputs": []
    },
    {
      "cell_type": "markdown",
      "metadata": {
        "id": "WNg5yOJ-zc6g"
      },
      "source": [
        "Notice that the required arguments for the `__init__` method are the number of units in the dense layer (`units`) and the input size (`input_dim`). This means that you need to fix these two arguments when you instantiate the layer."
      ]
    },
    {
      "cell_type": "code",
      "metadata": {
        "id": "W3rCt5owzc6h"
      },
      "source": [
        "#  Create a custom layer with 3 units and input dimension of 5\n",
        "dense_layer = MyLayer(units=3, input_dim=5)"
      ],
      "execution_count": 2,
      "outputs": []
    },
    {
      "cell_type": "markdown",
      "metadata": {
        "id": "RcMU1h7vzc6o"
      },
      "source": [
        "Since the input size has been fixed to be 5, this custom layer can only take inputs of that size. For example, we can call the layer as follows:"
      ]
    },
    {
      "cell_type": "code",
      "metadata": {
        "id": "VxrD939mzc6p",
        "colab": {
          "base_uri": "https://localhost:8080/"
        },
        "outputId": "b8c09e48-52e9-4eff-e009-9d1d5dbc16c0"
      },
      "source": [
        "# Call the custom layer on a Tensor input of ones\n",
        "x = tf.ones(shape=(1, 5))\n",
        "print(dense_layer(inputs=x))"
      ],
      "execution_count": 3,
      "outputs": [
        {
          "output_type": "stream",
          "name": "stdout",
          "text": [
            "tf.Tensor([[ 0.01885552 -0.07703885 -0.2915517 ]], shape=(1, 3), dtype=float32)\n"
          ]
        }
      ]
    },
    {
      "cell_type": "markdown",
      "metadata": {
        "id": "m4PLLnLZzc6u"
      },
      "source": [
        "However, forcing the input shape (and therefore the shape of the weights) to be fixed when the layer is instantiated is unnecessary, and it may be more convenient to only do this later on, after the model has been defined.\n",
        "\n",
        "For example, in some cases you may not know the input shape at the model building time. We have come across this concept before when building models with the Sequential API. If the `input_shape` argument is omitted, the weights will only be created when an input is passed into the model."
      ]
    },
    {
      "cell_type": "markdown",
      "metadata": {
        "id": "6Xue2PBVzc6v"
      },
      "source": [
        "## Allow a flexible input shape in the custom layer"
      ]
    },
    {
      "cell_type": "markdown",
      "metadata": {
        "id": "QOq5kmTxzc6x"
      },
      "source": [
        "You can delay the weight creation by using the `build` method to define the weights. The `build` method is executed when the `__call__` method is called, meaning the weights are only created only the layer is called with a specific input.\n",
        "\n",
        "The `build` method has a required argument `input_shape`, which can be used to define the shapes of the layer weights."
      ]
    },
    {
      "cell_type": "code",
      "metadata": {
        "id": "oNEmkW1Ozc6y"
      },
      "source": [
        "import tensorflow as tf\n",
        "tf.keras.utils.set_random_seed(seed=42)\n",
        "\n",
        "# Rewrite the custom layer with lazy weight creation\n",
        "class MyLayer(tf.keras.layers.Layer):\n",
        "    def __init__(self, units, **kwargs):\n",
        "        super().__init__(**kwargs)\n",
        "        self.units = units\n",
        "\n",
        "    def build(self, input_shape):\n",
        "        self.w = self.add_weight(shape=(input_shape[-1], self.units),\n",
        "            initializer=tf.keras.initializers.RandomNormal())\n",
        "        self.b = self.add_weight(shape=(self.units,),\n",
        "            initializer=tf.keras.initializers.Zeros())\n",
        "\n",
        "    def call(self, inputs):\n",
        "        return tf.linalg.matmul(a=inputs, b=self.w) + self.b"
      ],
      "execution_count": 4,
      "outputs": []
    },
    {
      "cell_type": "markdown",
      "metadata": {
        "id": "FksGSfbSzc68"
      },
      "source": [
        "Now, when you instantiate the layer, you only need to specify the number of units in the dense layer (`units`), and not the input size (`input_dim`)."
      ]
    },
    {
      "cell_type": "markdown",
      "metadata": {
        "id": "FOJUU0Xwzc69"
      },
      "source": [
        "### Create a custom layer with flexible input size"
      ]
    },
    {
      "cell_type": "code",
      "metadata": {
        "id": "WC97saRgzc6-"
      },
      "source": [
        "#  Create a custom layer with 3 units\n",
        "dense_layer = MyLayer(units=3)"
      ],
      "execution_count": 5,
      "outputs": []
    },
    {
      "cell_type": "markdown",
      "metadata": {
        "id": "ADDLYNQkzc7C"
      },
      "source": [
        "This layer can now be called on an input of any size, at which point the layer weights will be created and the input size will be fixed."
      ]
    },
    {
      "cell_type": "code",
      "metadata": {
        "id": "116iK_gazc7D",
        "colab": {
          "base_uri": "https://localhost:8080/"
        },
        "outputId": "cf7bb0c2-6b03-43ba-f80a-612c3ba2691d"
      },
      "source": [
        "# Call the custom layer on a Tensor input of ones of size 5\n",
        "x = tf.ones(shape=(1, 5))\n",
        "print(dense_layer(inputs=x))"
      ],
      "execution_count": 6,
      "outputs": [
        {
          "output_type": "stream",
          "name": "stdout",
          "text": [
            "tf.Tensor([[ 0.01885552 -0.07703885 -0.2915517 ]], shape=(1, 3), dtype=float32)\n"
          ]
        }
      ]
    },
    {
      "cell_type": "code",
      "metadata": {
        "id": "CMcB2Bs1zc7H",
        "colab": {
          "base_uri": "https://localhost:8080/"
        },
        "outputId": "6734e1e5-0c60-4706-fd1d-f27a8732d7b5"
      },
      "source": [
        "# Print the layer weights\n",
        "dense_layer.weights"
      ],
      "execution_count": 7,
      "outputs": [
        {
          "output_type": "execute_result",
          "data": {
            "text/plain": [
              "[<tf.Variable 'my_layer_1/Variable:0' shape=(5, 3) dtype=float32, numpy=\n",
              " array([[-0.02358919, -0.01442928, -0.0221293 ],\n",
              "        [ 0.06809177, -0.09231842, -0.06502789],\n",
              "        [ 0.01064425,  0.0060349 , -0.04163619],\n",
              "        [-0.0387267 ,  0.03659106, -0.10442163],\n",
              "        [ 0.00243539, -0.01291711, -0.05833671]], dtype=float32)>,\n",
              " <tf.Variable 'my_layer_1/Variable:0' shape=(3,) dtype=float32, numpy=array([0., 0., 0.], dtype=float32)>]"
            ]
          },
          "metadata": {},
          "execution_count": 7
        }
      ]
    },
    {
      "cell_type": "markdown",
      "metadata": {
        "id": "ZD5cNHtNzc7M"
      },
      "source": [
        "### Create a new custom layer and pass in a different sized input"
      ]
    },
    {
      "cell_type": "code",
      "metadata": {
        "id": "E5dQXCNyzc7M"
      },
      "source": [
        "#  Create a new custom layer with 3 units\n",
        "dense_layer = MyLayer(units=3)"
      ],
      "execution_count": 8,
      "outputs": []
    },
    {
      "cell_type": "code",
      "metadata": {
        "id": "in6JQxjzzc7R",
        "colab": {
          "base_uri": "https://localhost:8080/"
        },
        "outputId": "20fe7fbe-db55-451e-f245-2575a35d58b7"
      },
      "source": [
        "# Call the custom layer on a Tensor input of ones of size 4\n",
        "\n",
        "x = tf.ones(shape=(1, 4))\n",
        "print(dense_layer(inputs=x))"
      ],
      "execution_count": 9,
      "outputs": [
        {
          "output_type": "stream",
          "name": "stdout",
          "text": [
            "tf.Tensor([[-0.05020215 -0.03926111  0.00775199]], shape=(1, 3), dtype=float32)\n"
          ]
        }
      ]
    },
    {
      "cell_type": "code",
      "metadata": {
        "id": "yVDgnP2Qzc7V",
        "colab": {
          "base_uri": "https://localhost:8080/"
        },
        "outputId": "6f8bf17b-960c-4fd8-a739-1633ba433528"
      },
      "source": [
        "# Print the layer weights\n",
        "dense_layer.weights"
      ],
      "execution_count": 10,
      "outputs": [
        {
          "output_type": "execute_result",
          "data": {
            "text/plain": [
              "[<tf.Variable 'my_layer_2/Variable:0' shape=(4, 3) dtype=float32, numpy=\n",
              " array([[ 0.00115706, -0.01019722, -0.03646309],\n",
              "        [-0.00163399,  0.02163368,  0.0234242 ],\n",
              "        [-0.00770746, -0.04124987,  0.10678913],\n",
              "        [-0.04201776, -0.0094477 , -0.08599825]], dtype=float32)>,\n",
              " <tf.Variable 'my_layer_2/Variable:0' shape=(3,) dtype=float32, numpy=array([0., 0., 0.], dtype=float32)>]"
            ]
          },
          "metadata": {},
          "execution_count": 10
        }
      ]
    },
    {
      "cell_type": "markdown",
      "metadata": {
        "id": "lG-zx72Rzc7c"
      },
      "source": [
        "Note that the code for creating a custom layer object is identical, but the shape of the weights in the layer depend on the size of the input passed to the layer."
      ]
    },
    {
      "cell_type": "markdown",
      "metadata": {
        "id": "EA-D7p-Vzc7c"
      },
      "source": [
        "## Flexible input shapes in models"
      ]
    },
    {
      "cell_type": "markdown",
      "metadata": {
        "id": "3Tjc_s6Tzc7d"
      },
      "source": [
        "Deferring the weight creation until the layer is called is also useful when using the custom layer as an intermediate layer inside a larger model. In this case you may want to create several custom layer objects in the model, and it is tedious to keep track of the input shape that each of the custom layers needs.\n",
        "\n",
        "By deferring the weight creation as above, the input shape can be inferred from the output of the previous layer."
      ]
    },
    {
      "cell_type": "code",
      "metadata": {
        "id": "aQIJCVt2zc7e"
      },
      "source": [
        "import tensorflow as tf\n",
        "tf.keras.utils.set_random_seed(seed=42)\n",
        "\n",
        "# Create a model using the custom layer\n",
        "class MyModel(tf.keras.Model):\n",
        "    def __init__(self, units_1, units_2, **kwargs):\n",
        "        super().__init__(**kwargs)\n",
        "        self.layer_1 = MyLayer(units=units_1)\n",
        "        self.layer_2 = MyLayer(units=units_2)\n",
        "\n",
        "    def call(self, inputs):\n",
        "        x = self.layer_1(inputs=inputs)\n",
        "        x = tf.nn.relu(features=x)\n",
        "        x = self.layer_2(inputs=x)\n",
        "        return tf.nn.softmax(logits=x)"
      ],
      "execution_count": 11,
      "outputs": []
    },
    {
      "cell_type": "markdown",
      "metadata": {
        "id": "mfTKC7y4zc7i"
      },
      "source": [
        "In the above model definition, the custom layer `MyLayer` is used twice. Notice that each instance of the custom layer object can have a different input size, depending on the arguments used to create the model and the inputs passed into the model"
      ]
    },
    {
      "cell_type": "code",
      "metadata": {
        "id": "PAZmEqI0zc7j"
      },
      "source": [
        "# Create a custom model object\n",
        "model = MyModel(units_1=32, units_2=10)"
      ],
      "execution_count": 12,
      "outputs": []
    },
    {
      "cell_type": "markdown",
      "metadata": {
        "id": "fmL72O_izc7u"
      },
      "source": [
        "We can create and initialise all of the weights of the model by passing in an example Tensor input."
      ]
    },
    {
      "cell_type": "code",
      "metadata": {
        "id": "OEvCSnoFzc7v",
        "colab": {
          "base_uri": "https://localhost:8080/"
        },
        "outputId": "6af3a70c-00c9-462d-d9cc-1ed83f9ac75b"
      },
      "source": [
        "# Create and initialize all of the model weights\n",
        "model(inputs=tf.ones(shape=(1, 100)))"
      ],
      "execution_count": 13,
      "outputs": [
        {
          "output_type": "execute_result",
          "data": {
            "text/plain": [
              "<tf.Tensor: shape=(1, 10), dtype=float32, numpy=\n",
              "array([[0.10205036, 0.09214664, 0.09341586, 0.09067744, 0.10480271,\n",
              "        0.11248916, 0.09477128, 0.09895068, 0.1138147 , 0.09688118]],\n",
              "      dtype=float32)>"
            ]
          },
          "metadata": {},
          "execution_count": 13
        }
      ]
    },
    {
      "cell_type": "code",
      "metadata": {
        "id": "HLzNKkJQzc7z",
        "colab": {
          "base_uri": "https://localhost:8080/"
        },
        "outputId": "f52ed3a6-9d6e-4f6c-c7cc-a2cadf622784"
      },
      "source": [
        "# Print the model summary\n",
        "model.summary()"
      ],
      "execution_count": 14,
      "outputs": [
        {
          "output_type": "stream",
          "name": "stdout",
          "text": [
            "Model: \"my_model\"\n",
            "_________________________________________________________________\n",
            " Layer (type)                Output Shape              Param #   \n",
            "=================================================================\n",
            " my_layer_3 (MyLayer)        multiple                  3232      \n",
            "                                                                 \n",
            " my_layer_4 (MyLayer)        multiple                  330       \n",
            "                                                                 \n",
            "=================================================================\n",
            "Total params: 3562 (13.91 KB)\n",
            "Trainable params: 3562 (13.91 KB)\n",
            "Non-trainable params: 0 (0.00 Byte)\n",
            "_________________________________________________________________\n"
          ]
        }
      ]
    },
    {
      "cell_type": "markdown",
      "metadata": {
        "id": "hMRaI2wVzc72"
      },
      "source": [
        "## Further reading and resources\n",
        "* https://www.tensorflow.org/guide/keras/custom_layers_and_models#best_practice_deferring_weight_creation_until_the_shape_of_the_inputs_is_known"
      ]
    }
  ]
}