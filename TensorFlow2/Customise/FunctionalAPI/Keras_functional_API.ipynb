{
 "cells": [
  {
   "cell_type": "code",
   "execution_count": null,
   "metadata": {},
   "outputs": [],
   "source": [
    "%%bash\n",
    "pip install --no-cache-dir -q pip wheel\n",
    "pip install --no-cache-dir -q numpy==1.23.0 pandas matplotlib seaborn scikit-learn\n",
    "pip install --no-cache-dir -q tensorflow pydot\n",
    "pip check"
   ]
  },
  {
   "cell_type": "code",
   "execution_count": null,
   "metadata": {
    "id": "3foMAI-camhn"
   },
   "outputs": [],
   "source": [
    "import os\n",
    "import numpy as np\n",
    "import pandas as pd\n",
    "\n",
    "%matplotlib inline\n",
    "%config InlineBackend.figure_format = 'retina'\n",
    "import matplotlib.pyplot as plt\n",
    "\n",
    "import seaborn as sns\n",
    "sns.set_style(\"whitegrid\")\n",
    "sns.set(font=\"DejaVu Sans\")\n",
    "\n",
    "from sklearn.model_selection import train_test_split\n",
    "\n",
    "import tensorflow as tf\n",
    "tf.keras.utils.set_random_seed(42)\n",
    "tf.get_logger().setLevel('ERROR')"
   ]
  },
  {
   "cell_type": "markdown",
   "metadata": {
    "id": "PS6ukkkxamhg"
   },
   "source": [
    "# The Keras functional API"
   ]
  },
  {
   "cell_type": "code",
   "execution_count": null,
   "metadata": {},
   "outputs": [],
   "source": [
    "# model = tf.keras.Sequential([\n",
    "#     tf.keras.layers.Conv1D(filters=16, kernel_size=5,\n",
    "#         activation='relu', input_shape=(32, 1)),\n",
    "#     tf.keras.layers.AveragePooling1D(pool_size=3),\n",
    "#     tf.keras.layers.Flatten(),\n",
    "#     tf.keras.layers.Dense(units=20, activation='sigmoid')\n",
    "# ])\n",
    "\n",
    "inputs = tf.keras.Input(shape=(32, 1))\n",
    "h = tf.keras.layers.Conv1D(filters=16, kernel_size=5, activation=\"relu\")(inputs)\n",
    "h = tf.keras.layers.AveragePooling1D(pool_size=3)(h)\n",
    "h = tf.keras.layers.Flatten()(h)\n",
    "outputs = tf.keras.layers.Dense(units=20, activation=\"sigmoid\")(h)\n",
    "\n",
    "model = tf.keras.Model(\n",
    "    inputs=inputs, outputs=outputs\n",
    ")\n",
    "model.compile(\n",
    "    loss=tf.keras.losses.BinaryCrossentropy(),\n",
    "    optimizer=tf.keras.optimizers.RMSprop(),\n",
    "    metrics=[tf.keras.metrics.BinaryAccuracy()]\n",
    ")\n",
    "history = model.fit(x=X_train, y=y_train,\n",
    "    validation_data=[X_Val, y_val], epochs=20,\n",
    "    verbose=0\n",
    ")\n",
    "test_loss, test_acc = model.evaluate(\n",
    "    x=X_test, y=y_test,\n",
    "    verbose=0\n",
    ")\n",
    "preds = model.predict(\n",
    "    x=X_sample,\n",
    "    verbose=0\n",
    ")"
   ]
  },
  {
   "cell_type": "markdown",
   "metadata": {
    "id": "ef-9QkXsamhh"
   },
   "source": [
    " ## Coding tutorials\n",
    " #### [1. Multiple inputs and outputs](#coding_tutorial_1)\n",
    " #### [2. Tensors and Variables](#coding_tutorial_2)\n",
    " #### [3. Accessing model layers](#coding_tutorial_3)\n",
    " #### [4. Freezing layers](#coding_tutorial_4)"
   ]
  },
  {
   "cell_type": "markdown",
   "metadata": {
    "id": "jJWzJiKBamhl"
   },
   "source": [
    "***\n",
    "<a id=\"coding_tutorial_1\"></a>\n",
    "## Multiple inputs and outputs"
   ]
  },
  {
   "cell_type": "code",
   "execution_count": null,
   "metadata": {},
   "outputs": [],
   "source": [
    "inputs = tf.keras.Input(shape=(32, 1))\n",
    "h = tf.keras.layers.Conv1D(filters=16, kernel_size=5, activation=\"relu\")(inputs)\n",
    "h = tf.keras.layers.AveragePooling1D(pool_size=3)(h)\n",
    "h = tf.keras.layers.Flatten()(h)\n",
    "aux_inputs = tf.keras.Input(shape=(12,))\n",
    "h = tf.keras.layers.Concatenate()([h, aux_inputs])\n",
    "outputs = tf.keras.layers.Dense(units=20, activation=\"sigmoid\")(h)\n",
    "aux_outputs = tf.keras.layers.Dense(units=1, activation=\"linear\")(h)\n",
    "\n",
    "model = tf.keras.Model(\n",
    "    inputs=[inputs, aux_inputs],\n",
    "    outputs=[outputs, aux_outputs]\n",
    ")\n",
    "model.compile(\n",
    "    loss=[tf.keras.losses.BinaryCrossentropy(),\n",
    "        tf.keras.losses.MeanSquareError()],\n",
    "    loss_weights=[1, 0.4],\n",
    "    metrics=[tf.keras.metrics.BinaryAccuracy()]\n",
    ")\n",
    "history = model.fit(\n",
    "    x=[X_train, X_aux], y=[y_train, y_aux],\n",
    "    validation_split=0.2,\n",
    "    epochs=20, verbose=0\n",
    ")"
   ]
  },
  {
   "cell_type": "code",
   "execution_count": null,
   "metadata": {},
   "outputs": [],
   "source": [
    "inputs = tf.keras.Input(shape=(32, 1), name=\"inputs\")\n",
    "h = tf.keras.layers.Conv1D(filters=16, kernel_size=5, activation=\"relu\")(inputs)\n",
    "h = tf.keras.layers.AveragePooling1D(pool_size=3)(h)\n",
    "h = tf.keras.layers.Flatten()(h)\n",
    "aux_inputs = tf.keras.Input(shape=(12,), name=\"aux_inputs\")\n",
    "h = tf.keras.layers.Concatenate()([h, aux_inputs])\n",
    "outputs = tf.keras.layers.Dense(units=20, activation=\"sigmoid\", name=\"outputs\")(h)\n",
    "aux_outputs = tf.keras.layers.Dense(units=1, activation=\"linear\", name=\"aux_outputs\")(h)\n",
    "\n",
    "model = tf.keras.Model(\n",
    "    inputs=[inputs, aux_inputs],\n",
    "    outputs=[outputs, aux_outputs]\n",
    ")\n",
    "model.compile(\n",
    "    loss={\"outputs\": tf.keras.losses.BinaryCrossentropy(),\n",
    "        \"aux_outputs\": tf.keras.losses.MeanSquareError()},\n",
    "    loss_weights={\"outputs\": 1, \"aux_outputs\": 0.4},\n",
    "    metrics=[tf.keras.metrics.BinaryAccuracy()]\n",
    ")\n",
    "history = model.fit(\n",
    "    x={\"inputs\": X_train, \"aux_inputs\": X_aux},\n",
    "    y={\"outputs\": y_train, \"aux_outputs\": y_aux},\n",
    "    validation_split=0.2, epochs=20\n",
    ")"
   ]
  },
  {
   "cell_type": "markdown",
   "metadata": {
    "id": "ydgsnJSUamht"
   },
   "source": [
    "#### Load the acute inflammations dataset\n",
    "\n",
    "The `acute inflammations` was created by a medical expert as a data set to test the expert system, which will perform the presumptive diagnosis of two diseases of the urinary system. You can find out more about the dataset [here](https://archive.ics.uci.edu/ml/datasets/Acute+Inflammations).\n",
    "\n",
    "Attribute information:\n",
    "\n",
    "Inputs:\n",
    "- Temperature of patient : 35C-42C\n",
    "- Occurrence of nausea : yes/no\n",
    "- Lumbar pain : yes/no\n",
    "- Urine pushing (continuous need for urination) : yes/no\n",
    "- Micturition pains : yes/no\n",
    "- Burning of urethra, itch, swelling of urethra outlet : yes/no\n",
    "\n",
    "Outputs:\n",
    "- decision 1: Inflammation of urinary bladder : yes/no\n",
    "- decision 2: Nephritis of renal pelvis origin : yes/no"
   ]
  },
  {
   "cell_type": "markdown",
   "metadata": {
    "id": "4ge8y5WOamhv"
   },
   "source": [
    "#### Load the data"
   ]
  },
  {
   "cell_type": "code",
   "execution_count": 2,
   "metadata": {
    "id": "Px-aFCuadgrf"
   },
   "outputs": [],
   "source": [
    "os.makedirs(\"./data\", exist_ok=True)"
   ]
  },
  {
   "cell_type": "code",
   "execution_count": 3,
   "metadata": {
    "colab": {
     "base_uri": "https://localhost:8080/"
    },
    "id": "JVd1R4Avamhx",
    "outputId": "5622b4ac-4751-400f-a100-b26c9c784bee",
    "tags": []
   },
   "outputs": [
    {
     "data": {
      "text/plain": [
       "array([[35.5,  0. ,  1. ,  0. ,  0. ,  0. ,  0. ,  0. ],\n",
       "       [35.9,  0. ,  0. ,  1. ,  1. ,  1. ,  1. ,  0. ],\n",
       "       [35.9,  0. ,  1. ,  0. ,  0. ,  0. ,  0. ,  0. ],\n",
       "       [36. ,  0. ,  0. ,  1. ,  1. ,  1. ,  1. ,  0. ],\n",
       "       [36. ,  0. ,  1. ,  0. ,  0. ,  0. ,  0. ,  0. ]])"
      ]
     },
     "execution_count": 3,
     "metadata": {},
     "output_type": "execute_result"
    }
   ],
   "source": [
    "# Load the dataset\n",
    "\n",
    "pd_dat = pd.read_csv(\"./data/diagnosis.csv\")\n",
    "dataset = pd_dat.values\n",
    "\n",
    "dataset[:5, :]"
   ]
  },
  {
   "cell_type": "code",
   "execution_count": 4,
   "metadata": {
    "colab": {
     "base_uri": "https://localhost:8080/"
    },
    "id": "rluqieR6amh7",
    "outputId": "266ab433-7a10-400c-f789-af522196955c",
    "tags": []
   },
   "outputs": [
    {
     "name": "stdout",
     "output_type": "stream",
     "text": [
      "X_train shape: (80, 6)\n",
      "Y_test shape: (40, 2)\n"
     ]
    }
   ],
   "source": [
    "# Build train and test data splits\n",
    "\n",
    "X_train, X_test, Y_train, Y_test = train_test_split(\n",
    "    dataset[:, :6], dataset[:, 6:], test_size=0.33)\n",
    "print(f\"X_train shape: {X_train.shape}\")\n",
    "print(f\"Y_test shape: {Y_test.shape}\")"
   ]
  },
  {
   "cell_type": "code",
   "execution_count": 5,
   "metadata": {
    "id": "lD1rDc8CamiB"
   },
   "outputs": [
    {
     "name": "stdout",
     "output_type": "stream",
     "text": [
      "temp_train shape: (80,)\n",
      "nephr_test shape: (40,)\n"
     ]
    }
   ],
   "source": [
    "# Assign training and testing inputs/outputs\n",
    "\n",
    "temp_train, nocc_train, lumbp_train, up_train, mict_train, bis_train = \\\n",
    "    np.transpose(X_train)\n",
    "temp_test, nocc_test, lumbp_test, up_test, mict_test, bis_test = \\\n",
    "    np.transpose(X_test)\n",
    "\n",
    "inflam_train, nephr_train = Y_train[:, 0], Y_train[:, 1]\n",
    "inflam_test, nephr_test = Y_test[:, 0], Y_test[:, 1]\n",
    "\n",
    "print(f\"temp_train shape: {temp_train.shape}\")\n",
    "print(f\"nephr_test shape: {nephr_test.shape}\")"
   ]
  },
  {
   "cell_type": "markdown",
   "metadata": {
    "id": "LQ0WM4P9amiI"
   },
   "source": [
    "#### Build the model"
   ]
  },
  {
   "cell_type": "code",
   "execution_count": 6,
   "metadata": {
    "id": "6aelHq2qamiJ"
   },
   "outputs": [],
   "source": [
    "# Build the input layers\n",
    "\n",
    "shape_inputs = (1, )\n",
    "temperature = tf.keras.Input(shape=shape_inputs, name=\"temp\")\n",
    "nausea_occurence = tf.keras.Input(shape=shape_inputs, name=\"nocc\")\n",
    "lumbar_pain = tf.keras.Input(shape=shape_inputs, name=\"lumbp\")\n",
    "urine_pushing = tf.keras.Input(shape=shape_inputs, name=\"up\")\n",
    "micturition_pains = tf.keras.Input(shape=shape_inputs, name=\"mict\")\n",
    "bis = tf.keras.Input(shape=shape_inputs, name=\"bis\")"
   ]
  },
  {
   "cell_type": "code",
   "execution_count": 7,
   "metadata": {
    "id": "Qh_PtPNfamiN",
    "scrolled": true
   },
   "outputs": [],
   "source": [
    "# Create a list of all the inputs\n",
    "\n",
    "list_inputs = [\n",
    "    temperature, nausea_occurence, lumbar_pain, \n",
    "    urine_pushing, micturition_pains, bis\n",
    "]"
   ]
  },
  {
   "cell_type": "code",
   "execution_count": 8,
   "metadata": {
    "id": "Ivz3SlpGamiQ"
   },
   "outputs": [],
   "source": [
    "# Merge all input features into a single large vector\n",
    "\n",
    "x = tf.keras.layers.concatenate(list_inputs)"
   ]
  },
  {
   "cell_type": "code",
   "execution_count": null,
   "metadata": {
    "id": "u255lt-camiW",
    "tags": []
   },
   "outputs": [],
   "source": [
    "# Use a logistic regression classifier for disease prediction\n",
    "\n",
    "inflammation_pred = tf.keras.layers.Dense(\n",
    "    units=1, activation=\"sigmoid\", name=\"inflam\")(x)\n",
    "nephritis_pred = tf.keras.layers.Dense(\n",
    "    units=1, activation=\"sigmoid\", name=\"nephr\")(x)"
   ]
  },
  {
   "cell_type": "code",
   "execution_count": 10,
   "metadata": {
    "id": "hxPdX28Eamia",
    "scrolled": true
   },
   "outputs": [],
   "source": [
    "# Create a list of all the outputs\n",
    "\n",
    "list_outputs = [\n",
    "    inflammation_pred, nephritis_pred\n",
    "]"
   ]
  },
  {
   "cell_type": "markdown",
   "metadata": {
    "id": "2ak5Ocmyamiq"
   },
   "source": [
    "#### Build and Compile the model"
   ]
  },
  {
   "cell_type": "code",
   "execution_count": 11,
   "metadata": {
    "id": "gnScqZOEamir",
    "scrolled": true
   },
   "outputs": [],
   "source": [
    "# Create & compile the model object\n",
    "\n",
    "model = tf.keras.Model(\n",
    "    inputs=list_inputs,\n",
    "    outputs=list_outputs\n",
    ")\n",
    "model.compile(\n",
    "    optimizer=tf.keras.optimizers.RMSprop(learning_rate=1e-3),\n",
    "    loss={\"inflam\": tf.keras.losses.BinaryCrossentropy(), \n",
    "        \"nephr\": tf.keras.losses.BinaryCrossentropy()},\n",
    "    metrics={\"inflam\": [tf.keras.metrics.BinaryAccuracy()],\n",
    "        \"nephr\": [tf.keras.metrics.BinaryAccuracy()]},\n",
    "    loss_weights=[1., 0.2]\n",
    ")"
   ]
  },
  {
   "cell_type": "markdown",
   "metadata": {
    "id": "nx0ekcg1amij"
   },
   "source": [
    "#### Plot the model"
   ]
  },
  {
   "cell_type": "code",
   "execution_count": 14,
   "metadata": {
    "colab": {
     "base_uri": "https://localhost:8080/",
     "height": 139
    },
    "id": "eRWagR1yamil",
    "outputId": "b83ecafc-7b9c-4101-b6d7-517ca2b53f71",
    "tags": []
   },
   "outputs": [
    {
     "data": {
      "image/png": "[encoded data removed]",
      "text/plain": [
       "<IPython.core.display.Image object>"
      ]
     },
     "execution_count": 14,
     "metadata": {},
     "output_type": "execute_result"
    }
   ],
   "source": [
    "# Display the multiple input/output model\n",
    "tf.keras.utils.plot_model(\n",
    "    model=model, \n",
    "    to_file='multi_input_output_model.png',\n",
    "    show_shapes=True\n",
    ")"
   ]
  },
  {
   "cell_type": "markdown",
   "metadata": {
    "id": "XSD2NXZmamiv"
   },
   "source": [
    "#### Fit the model "
   ]
  },
  {
   "cell_type": "code",
   "execution_count": 15,
   "metadata": {
    "id": "r3VQd15jamix"
   },
   "outputs": [],
   "source": [
    "# Define training inputs and outputs\n",
    "\n",
    "# inputs_train = [temp_train, nocc_train, lumbp_train, up_train, mict_train, bis_train]\n",
    "# outputs_train = [inflam_train, nephr_train]\n",
    "\n",
    "inputs_train = {\n",
    "    \"temp\": temp_train, \"nocc\": nocc_train, \"lumbp\": lumbp_train,\n",
    "    \"up\": up_train, \"mict\": mict_train, \"bis\": bis_train\n",
    "}\n",
    "\n",
    "outputs_train = {\n",
    "    \"inflam\": inflam_train, \"nephr\": nephr_train\n",
    "}"
   ]
  },
  {
   "cell_type": "code",
   "execution_count": null,
   "metadata": {
    "id": "Idn21ONGami0"
   },
   "outputs": [],
   "source": [
    "# Train the model\n",
    "history = model.fit(x=inputs_train, y=outputs_train,\n",
    "    epochs=1000, batch_size=128, verbose=0)"
   ]
  },
  {
   "cell_type": "markdown",
   "metadata": {
    "id": "7lUl6CSgami5"
   },
   "source": [
    "#### Plot the learning curves"
   ]
  },
  {
   "cell_type": "code",
   "execution_count": 17,
   "metadata": {},
   "outputs": [],
   "source": [
    "class PlotHistory():\n",
    "    plt_nrows = 1\n",
    "    plt_ncols = 2\n",
    "    plt_figsize = (15, 5)\n",
    "    \n",
    "    def __init__(self, history, metrics=['loss']):\n",
    "        super().__init__()\n",
    "        self.history = history\n",
    "        self.metrics = metrics\n",
    "        \n",
    "    @classmethod\n",
    "    def _create_plot(cls):\n",
    "        return plt.subplots(nrows=cls.plt_nrows,\n",
    "            ncols=cls.plt_ncols, figsize=cls.plt_figsize)\n",
    "    \n",
    "    def plot(self):\n",
    "        df_history = pd.DataFrame(self.history.history,\n",
    "            index=self.history.epoch)\n",
    "        fig, axes = self._create_plot()\n",
    "        for ax, key in zip(axes, self.metrics):\n",
    "            metrics = [s for s in self.history.history.keys() if key in s]\n",
    "            for m in metrics:\n",
    "                sns.lineplot(ax=ax, data=df_history,\n",
    "                    x=df_history.index+1, y=m, label=f'train_{m}')\n",
    "                try:\n",
    "                    sns.lineplot(ax=ax, data=df_history,\n",
    "                        x=df_history.index+1, y=f'val_{m}', label=f'valid_{m}')\n",
    "                except Exception:\n",
    "                    pass\n",
    "                ax.legend(loc='best')\n",
    "                ax.set_xlabel('epoch')\n",
    "                ax.set_ylabel(f'{key}')\n",
    "                ax.set_title(f'{key} vs. epoch')\n",
    "        fig.tight_layout()\n",
    "        plt.show()"
   ]
  },
  {
   "cell_type": "code",
   "execution_count": 18,
   "metadata": {},
   "outputs": [
    {
     "data": {
      "image/png": "[encoded data removed]",
      "text/plain": [
       "<Figure size 1500x500 with 2 Axes>"
      ]
     },
     "metadata": {
      "image/png": {
       "height": 481,
       "width": 1482
      }
     },
     "output_type": "display_data"
    }
   ],
   "source": [
    "# Plot the training accuracy\n",
    "PlotHistory(history, metrics=['loss', 'accuracy']).plot()"
   ]
  },
  {
   "cell_type": "code",
   "execution_count": 19,
   "metadata": {
    "colab": {
     "base_uri": "https://localhost:8080/"
    },
    "id": "HOP3u9SiamjG",
    "outputId": "e6d2356e-eb9c-45d8-cc34-7c1dd8cfcd87"
   },
   "outputs": [
    {
     "name": "stdout",
     "output_type": "stream",
     "text": [
      "loss: 0.78, inflam_loss: 0.62, nephr_loss: 0.81\n",
      "inflam_acc: 0.60, nephr_acc: 0.32\n"
     ]
    }
   ],
   "source": [
    "# Evaluate the model\n",
    "\n",
    "# Define testing inputs and outputs\n",
    "\n",
    "inputs_test = {\n",
    "    \"temp\": temp_test, \"nocc\": nocc_test, \"lumbp\": lumbp_test,\n",
    "    \"up\": up_test, \"mict\": mict_test, \"bis\": bis_test\n",
    "}\n",
    "\n",
    "outputs_test = {\n",
    "    \"inflam\": inflam_test, \"nephr\": nephr_test\n",
    "}\n",
    "\n",
    "loss, inflam_loss, nephr_loss, inflam_acc, nephr_acc = \\\n",
    "    model.evaluate(inputs_test, outputs_test, verbose=0)\n",
    "print(f\"loss: {loss:.2f}, inflam_loss: {inflam_loss:.2f}, nephr_loss: {nephr_loss:.2f}\")\n",
    "print(f\"inflam_acc: {inflam_acc:.2f}, nephr_acc: {nephr_acc:.2f}\")"
   ]
  },
  {
   "cell_type": "code",
   "execution_count": 20,
   "metadata": {
    "colab": {
     "base_uri": "https://localhost:8080/"
    },
    "id": "oo7eyMauamjK",
    "outputId": "006578dd-a854-4fd2-be21-b6361554b35f"
   },
   "outputs": [
    {
     "name": "stdout",
     "output_type": "stream",
     "text": [
      "inflam_pred: 0.81, nephr_pred: 0.30\n"
     ]
    }
   ],
   "source": [
    "# Model's prediction\n",
    "\n",
    "# Define inputs sample\n",
    "\n",
    "X_sample = np.array([[38.8, 1., 0., 1., 0., 1.]])\n",
    "X_sample = np.transpose(X_sample)\n",
    "inputs_sample = {\n",
    "    \"temp\": X_sample[0], \"nocc\": X_sample[1], \"lumbp\": X_sample[2],\n",
    "    \"up\": X_sample[3], \"mict\": X_sample[4], \"bis\": X_sample[5]\n",
    "}\n",
    "\n",
    "inflam_pred, nephr_pred = np.squeeze(model.predict(\n",
    "    inputs_sample, verbose=0))\n",
    "print(f\"inflam_pred: {inflam_pred:.2f}, nephr_pred: {nephr_pred:.2f}\")"
   ]
  },
  {
   "cell_type": "code",
   "execution_count": 21,
   "metadata": {},
   "outputs": [],
   "source": [
    "%%bash\n",
    "rm -rf 'multi_input_output_model.png'"
   ]
  },
  {
   "cell_type": "markdown",
   "metadata": {
    "id": "MHiBZOYKamjP"
   },
   "source": [
    "***\n",
    "<a id=\"coding_tutorial_2\"></a>\n",
    "## Tensors and Variables"
   ]
  },
  {
   "cell_type": "code",
   "execution_count": 22,
   "metadata": {
    "tags": []
   },
   "outputs": [
    {
     "name": "stdout",
     "output_type": "stream",
     "text": [
      "[<tf.Variable 'dense/kernel:0' shape=(4, 1) dtype=float32, numpy=\n",
      "array([[ 0.75114405],\n",
      "       [-0.05059242],\n",
      "       [-0.25792938],\n",
      "       [-0.6872323 ]], dtype=float32)>, <tf.Variable 'dense/bias:0' shape=(1,) dtype=float32, numpy=array([0.], dtype=float32)>]\n"
     ]
    }
   ],
   "source": [
    "model = tf.keras.Sequential([\n",
    "    tf.keras.layers.Dense(units=1, input_shape=(4,))\n",
    "])\n",
    "\n",
    "print(model.weights)"
   ]
  },
  {
   "cell_type": "code",
   "execution_count": 23,
   "metadata": {
    "tags": []
   },
   "outputs": [
    {
     "name": "stdout",
     "output_type": "stream",
     "text": [
      "<tf.Variable 'my_var:0' shape=(2,) dtype=float32, numpy=array([-1.,  2.], dtype=float32)>\n",
      "[ 3.5 -1. ]\n"
     ]
    }
   ],
   "source": [
    "my_var = tf.Variable(initial_value=[-1, 2],\n",
    "    dtype=tf.float32, name='my_var')\n",
    "print(my_var)\n",
    "\n",
    "my_var.assign([3.5, -1.])\n",
    "x = my_var.numpy()\n",
    "print(x)"
   ]
  },
  {
   "cell_type": "code",
   "execution_count": 24,
   "metadata": {},
   "outputs": [
    {
     "name": "stdout",
     "output_type": "stream",
     "text": [
      "tf.Tensor([4. 6.], shape=(2,), dtype=float32)\n"
     ]
    }
   ],
   "source": [
    "my_var = tf.Variable(initial_value=[-1, 2],\n",
    "    dtype=tf.float32, name='my_var')\n",
    "h = my_var + [5, 4]\n",
    "print(h)"
   ]
  },
  {
   "cell_type": "code",
   "execution_count": 25,
   "metadata": {
    "tags": []
   },
   "outputs": [
    {
     "name": "stdout",
     "output_type": "stream",
     "text": [
      "KerasTensor(type_spec=TensorSpec(shape=(None, 16), dtype=tf.float32, name=None), name='dense_1/Sigmoid:0', description=\"created by layer 'dense_1'\")\n",
      "KerasTensor(type_spec=TensorSpec(shape=(None, 10), dtype=tf.float32, name=None), name='dense_2/Softmax:0', description=\"created by layer 'dense_2'\")\n",
      "KerasTensor(type_spec=TensorSpec(shape=(None, 5), dtype=tf.float32, name='input_1'), name='input_1', description=\"created by layer 'input_1'\")\n",
      "KerasTensor(type_spec=TensorSpec(shape=(None, 10), dtype=tf.float32, name=None), name='dense_2/Softmax:0', description=\"created by layer 'dense_2'\")\n"
     ]
    }
   ],
   "source": [
    "inputs = tf.keras.Input(shape=(5,))\n",
    "h = tf.keras.layers.Dense(units=16, activation='sigmoid')(inputs)\n",
    "print(h)\n",
    "\n",
    "outputs = tf.keras.layers.Dense(units=10, activation='softmax')(h)\n",
    "print(outputs)\n",
    "\n",
    "model = tf.keras.Model(inputs=inputs, outputs=outputs)\n",
    "print(model.input)\n",
    "print(model.output)"
   ]
  },
  {
   "cell_type": "code",
   "execution_count": 28,
   "metadata": {
    "tags": []
   },
   "outputs": [
    {
     "name": "stdout",
     "output_type": "stream",
     "text": [
      "tf.Tensor(\n",
      "[[5 2]\n",
      " [1 3]], shape=(2, 2), dtype=int32)\n",
      "[[5 2]\n",
      " [1 3]]\n"
     ]
    }
   ],
   "source": [
    "x = tf.constant(value=[[5, 2], [1, 3]])\n",
    "print(x)\n",
    "\n",
    "x_arr = x.numpy()\n",
    "print(x_arr)"
   ]
  },
  {
   "cell_type": "code",
   "execution_count": 29,
   "metadata": {
    "tags": []
   },
   "outputs": [
    {
     "name": "stdout",
     "output_type": "stream",
     "text": [
      "tf.Tensor(\n",
      "[[1.]\n",
      " [1.]], shape=(2, 1), dtype=float32)\n",
      "tf.Tensor(\n",
      "[[0.]\n",
      " [0.]], shape=(2, 1), dtype=float32)\n"
     ]
    }
   ],
   "source": [
    "x = tf.ones(shape=(2, 1))\n",
    "print(x)\n",
    "\n",
    "y = tf.zeros(shape=(2, 1))\n",
    "print(y)"
   ]
  },
  {
   "cell_type": "code",
   "execution_count": 37,
   "metadata": {},
   "outputs": [
    {
     "name": "stdout",
     "output_type": "stream",
     "text": [
      "KerasTensor(type_spec=TensorSpec(shape=(None, 512), dtype=tf.float32, name=None), name='flatten_6/Reshape:0', description=\"created by layer 'flatten_6'\")\n"
     ]
    }
   ],
   "source": [
    "inputs = tf.keras.Input(shape=(16, 16, 3))\n",
    "h = tf.keras.layers.Conv2D(filters=32, kernel_size=(3, 3),\n",
    "    activation='relu')(inputs)\n",
    "h = tf.keras.layers.AveragePooling2D(pool_size=(3, 3))(h)\n",
    "outputs = tf.keras.layers.Flatten()(h)\n",
    "model = tf.keras.Model(\n",
    "    inputs=inputs, outputs=outputs\n",
    ")\n",
    "\n",
    "print(model.output)"
   ]
  },
  {
   "cell_type": "markdown",
   "metadata": {
    "id": "yireweqVamjY"
   },
   "source": [
    "#### Create Variable objects"
   ]
  },
  {
   "cell_type": "code",
   "execution_count": 40,
   "metadata": {
    "id": "bnAyof50amjZ"
   },
   "outputs": [
    {
     "name": "stdout",
     "output_type": "stream",
     "text": [
      "<tf.Variable 'Variable:0' shape=(1,) dtype=string, numpy=array([b'Hello world!'], dtype=object)>\n",
      "<tf.Variable 'Variable:0' shape=(2,) dtype=float64, numpy=array([3.14159, 2.71828])>\n",
      "<tf.Variable 'Variable:0' shape=(3,) dtype=int32, numpy=array([1, 2, 3], dtype=int32)>\n",
      "<tf.Variable 'Variable:0' shape=(2,) dtype=complex128, numpy=array([25.9 -7.39j,  1.23-4.91j])>\n"
     ]
    }
   ],
   "source": [
    "# Create Variable objects of different type with tf.Variable\n",
    "\n",
    "strings = tf.Variable(initial_value=[\"Hello world!\"], dtype=tf.string)\n",
    "print(strings)\n",
    "floats  = tf.Variable(initial_value=[3.14159, 2.71828], dtype=tf.float64)\n",
    "print(floats)\n",
    "ints = tf.Variable(initial_value=[1, 2, 3], dtype=tf.int32)\n",
    "print(ints)\n",
    "complexs = tf.Variable(initial_value=[25.9 - 7.39j, 1.23 - 4.91j], dtype=tf.complex128)\n",
    "print(complexs)"
   ]
  },
  {
   "cell_type": "code",
   "execution_count": 39,
   "metadata": {
    "colab": {
     "base_uri": "https://localhost:8080/"
    },
    "id": "vz6JvUGHamjc",
    "outputId": "09640787-309c-4a77-99bf-ebebcc757dbb",
    "tags": []
   },
   "outputs": [
    {
     "data": {
      "text/plain": [
       "<tf.Variable 'Variable:0' shape=(3, 3) dtype=float32, numpy=\n",
       "array([[4.2, 4.2, 4.2],\n",
       "       [4.2, 4.2, 4.2],\n",
       "       [4.2, 4.2, 4.2]], dtype=float32)>"
      ]
     },
     "execution_count": 39,
     "metadata": {},
     "output_type": "execute_result"
    }
   ],
   "source": [
    "# Initialise a Variable value\n",
    "\n",
    "tf.Variable(initial_value=tf.constant(4.2, shape=(3, 3)))"
   ]
  },
  {
   "cell_type": "markdown",
   "metadata": {
    "id": "0usCvNpKamjh"
   },
   "source": [
    "#### Use and modify Variable values"
   ]
  },
  {
   "cell_type": "code",
   "execution_count": 42,
   "metadata": {
    "colab": {
     "base_uri": "https://localhost:8080/"
    },
    "id": "B_zypE9oamji",
    "outputId": "762916eb-6f88-4e7c-b2c7-2d5555502c27"
   },
   "outputs": [
    {
     "name": "stdout",
     "output_type": "stream",
     "text": [
      "tf.Tensor(1.0, shape=(), dtype=float32)\n",
      "<class 'tensorflow.python.framework.ops.EagerTensor'>\n"
     ]
    }
   ],
   "source": [
    "# Use the value of a Variable\n",
    "\n",
    "v = tf.Variable(initial_value=0.0)\n",
    "w = v + 1  # w is a tf.Tensor which is computed based on the value of v.\n",
    "\n",
    "print(w)\n",
    "print(type(w))"
   ]
  },
  {
   "cell_type": "code",
   "execution_count": 43,
   "metadata": {
    "colab": {
     "base_uri": "https://localhost:8080/"
    },
    "id": "0QGPngZnamjm",
    "outputId": "dfc14ed8-d31d-4ccf-e9ed-c10e8cd61907"
   },
   "outputs": [
    {
     "name": "stdout",
     "output_type": "stream",
     "text": [
      "<tf.Variable 'Variable:0' shape=() dtype=float32, numpy=1.0>\n"
     ]
    }
   ],
   "source": [
    "# Increment the value of a Variable\n",
    "\n",
    "v.assign_add(1)\n",
    "print(v)"
   ]
  },
  {
   "cell_type": "code",
   "execution_count": 44,
   "metadata": {
    "colab": {
     "base_uri": "https://localhost:8080/"
    },
    "id": "InXpOQdjamjp",
    "outputId": "9122816d-1659-43e6-af1f-63654c9d1856"
   },
   "outputs": [
    {
     "name": "stdout",
     "output_type": "stream",
     "text": [
      "<tf.Variable 'Variable:0' shape=() dtype=float32, numpy=0.0>\n"
     ]
    }
   ],
   "source": [
    "# Decrement the value of a Variable\n",
    "\n",
    "v.assign_sub(1)\n",
    "print(v)"
   ]
  },
  {
   "cell_type": "markdown",
   "metadata": {
    "id": "rG_Rf_OCamjt"
   },
   "source": [
    "#### Create Tensor objects"
   ]
  },
  {
   "cell_type": "markdown",
   "metadata": {
    "id": "XjwOdS5Vamju"
   },
   "source": [
    "Create a constant tensor and print its type as well as its shape:"
   ]
  },
  {
   "cell_type": "code",
   "execution_count": 45,
   "metadata": {
    "colab": {
     "base_uri": "https://localhost:8080/"
    },
    "id": "oY47UG-iamju",
    "outputId": "40a074c8-4cde-4696-f301-54bf208d9e61",
    "tags": []
   },
   "outputs": [
    {
     "name": "stdout",
     "output_type": "stream",
     "text": [
      "tf.Tensor(\n",
      "[[1 2 3]\n",
      " [4 5 6]\n",
      " [7 8 9]], shape=(3, 3), dtype=int32)\n",
      "dtype: <dtype: 'int32'>\n",
      "shape: (3, 3)\n"
     ]
    }
   ],
   "source": [
    "# Create a constant Tensor\n",
    "\n",
    "x = tf.constant(value=[[1, 2, 3], [4, 5, 6], [7, 8, 9]])\n",
    "print(x)\n",
    "print(\"dtype:\", x.dtype)\n",
    "print(\"shape:\", x.shape)"
   ]
  },
  {
   "cell_type": "code",
   "execution_count": 46,
   "metadata": {
    "colab": {
     "base_uri": "https://localhost:8080/"
    },
    "id": "HNlgKXl4amjy",
    "outputId": "1cf664fe-b169-4e57-c2df-02e08e7bca03"
   },
   "outputs": [
    {
     "data": {
      "text/plain": [
       "array([[1, 2, 3],\n",
       "       [4, 5, 6],\n",
       "       [7, 8, 9]], dtype=int32)"
      ]
     },
     "execution_count": 46,
     "metadata": {},
     "output_type": "execute_result"
    }
   ],
   "source": [
    "# Obtain the value as a numpy array\n",
    "\n",
    "x.numpy()"
   ]
  },
  {
   "cell_type": "code",
   "execution_count": 50,
   "metadata": {
    "colab": {
     "base_uri": "https://localhost:8080/"
    },
    "id": "8CTwkEcOamj0",
    "outputId": "4c20a402-769a-48e5-b3fa-d67dd1660788"
   },
   "outputs": [
    {
     "name": "stdout",
     "output_type": "stream",
     "text": [
      "dtype: <dtype: 'float32'>\n"
     ]
    }
   ],
   "source": [
    "# Create a Tensor of type float32\n",
    "\n",
    "x = tf.constant(value=[[1, 2, 3], [4, 5, 6], [7, 8, 9]], \n",
    "    dtype=tf.float32)\n",
    "print('dtype:',x.dtype)"
   ]
  },
  {
   "cell_type": "code",
   "execution_count": 48,
   "metadata": {
    "id": "A9_tArlgamj2"
   },
   "outputs": [],
   "source": [
    "# Create coefficients\n",
    "\n",
    "coeffs = np.arange(16)"
   ]
  },
  {
   "cell_type": "code",
   "execution_count": 49,
   "metadata": {
    "id": "SFdVF01Aamj6"
   },
   "outputs": [],
   "source": [
    "# Initialise shapes\n",
    "\n",
    "shape1 = (8, 2)\n",
    "shape2 = (4, 4)\n",
    "shape3 = (2, 2, 2, 2)"
   ]
  },
  {
   "cell_type": "code",
   "execution_count": 51,
   "metadata": {
    "colab": {
     "base_uri": "https://localhost:8080/"
    },
    "id": "CA_-V6T8amj9",
    "outputId": "ef4398c3-6e1b-49d6-8281-df5d38a06d73",
    "tags": []
   },
   "outputs": [
    {
     "name": "stdout",
     "output_type": "stream",
     "text": [
      "\n",
      " a:\n",
      "  tf.Tensor(\n",
      "[[ 0  1]\n",
      " [ 2  3]\n",
      " [ 4  5]\n",
      " [ 6  7]\n",
      " [ 8  9]\n",
      " [10 11]\n",
      " [12 13]\n",
      " [14 15]], shape=(8, 2), dtype=int64)\n",
      "\n",
      " b:\n",
      "  tf.Tensor(\n",
      "[[ 0  1  2  3]\n",
      " [ 4  5  6  7]\n",
      " [ 8  9 10 11]\n",
      " [12 13 14 15]], shape=(4, 4), dtype=int64)\n",
      "\n",
      " c:\n",
      "  tf.Tensor(\n",
      "[[[[ 0  1]\n",
      "   [ 2  3]]\n",
      "\n",
      "  [[ 4  5]\n",
      "   [ 6  7]]]\n",
      "\n",
      "\n",
      " [[[ 8  9]\n",
      "   [10 11]]\n",
      "\n",
      "  [[12 13]\n",
      "   [14 15]]]], shape=(2, 2, 2, 2), dtype=int64)\n"
     ]
    }
   ],
   "source": [
    "# Create Tensors of different shape\n",
    "\n",
    "a = tf.constant(value=coeffs, shape=shape1)\n",
    "print(\"\\n a:\\n \", a)\n",
    "\n",
    "b = tf.constant(value=coeffs, shape=shape2)\n",
    "print(\"\\n b:\\n \", b)\n",
    "\n",
    "c = tf.constant(value=coeffs, shape=shape3)\n",
    "print(\"\\n c:\\n \", c)"
   ]
  },
  {
   "cell_type": "markdown",
   "metadata": {
    "id": "-9RJgo_YamkC"
   },
   "source": [
    "#### Useful Tensor operations"
   ]
  },
  {
   "cell_type": "code",
   "execution_count": 52,
   "metadata": {
    "id": "aSolfUjBamkD"
   },
   "outputs": [],
   "source": [
    "# Create a constant Tensor\n",
    "\n",
    "t = tf.constant(value=np.arange(80), shape=(5, 2, 8))"
   ]
  },
  {
   "cell_type": "code",
   "execution_count": 53,
   "metadata": {
    "id": "pQlM9B4samkG"
   },
   "outputs": [],
   "source": [
    "# Get the rank of a Tensor\n",
    "\n",
    "rank = tf.rank(t)"
   ]
  },
  {
   "cell_type": "code",
   "execution_count": 54,
   "metadata": {
    "colab": {
     "base_uri": "https://localhost:8080/"
    },
    "id": "DyDC4ouNamkJ",
    "outputId": "c249e067-e05f-403d-dd98-5d5681a0c60f"
   },
   "outputs": [
    {
     "name": "stdout",
     "output_type": "stream",
     "text": [
      "rank:  tf.Tensor(3, shape=(), dtype=int32)\n"
     ]
    }
   ],
   "source": [
    "# Display the rank\n",
    "\n",
    "print(\"rank: \", rank)"
   ]
  },
  {
   "cell_type": "code",
   "execution_count": 55,
   "metadata": {
    "id": "Cs9fCNOeamkN"
   },
   "outputs": [],
   "source": [
    "# Reshape a Tensor\n",
    "\n",
    "t2 =  tf.reshape(t, [8, 10])"
   ]
  },
  {
   "cell_type": "code",
   "execution_count": 56,
   "metadata": {
    "colab": {
     "base_uri": "https://localhost:8080/"
    },
    "id": "6dXP-QGPamkP",
    "outputId": "89916d54-4eec-4bab-d61b-5591d4755c6d"
   },
   "outputs": [
    {
     "name": "stdout",
     "output_type": "stream",
     "text": [
      "t2.shape:  (8, 10)\n"
     ]
    }
   ],
   "source": [
    "# Display the new shape\n",
    "\n",
    "print(\"t2.shape: \", t2.shape)"
   ]
  },
  {
   "cell_type": "code",
   "execution_count": 63,
   "metadata": {
    "id": "g5Rf0e0TamkR"
   },
   "outputs": [],
   "source": [
    "# Create ones, zeros, identity and constant Tensors\n",
    "\n",
    "ones = tf.ones(shape=(2, 3))\n",
    "zeros = tf.zeros(shape=(2, 4))\n",
    "eye = tf.eye(num_rows=3, num_columns=3)\n",
    "tensor7 =  tf.constant(value=7.0, shape=(2, 2))"
   ]
  },
  {
   "cell_type": "code",
   "execution_count": 64,
   "metadata": {
    "colab": {
     "base_uri": "https://localhost:8080/"
    },
    "id": "ILrngtjuamkT",
    "outputId": "7a4c9240-e9b8-426b-8add-e164958225f4",
    "tags": []
   },
   "outputs": [
    {
     "name": "stdout",
     "output_type": "stream",
     "text": [
      "\n",
      " Ones:\n",
      "  tf.Tensor(\n",
      "[[1. 1. 1.]\n",
      " [1. 1. 1.]], shape=(2, 3), dtype=float32)\n",
      "\n",
      " Zeros:\n",
      "  tf.Tensor(\n",
      "[[0. 0. 0. 0.]\n",
      " [0. 0. 0. 0.]], shape=(2, 4), dtype=float32)\n",
      "\n",
      " Identity:\n",
      "  tf.Tensor(\n",
      "[[1. 0. 0.]\n",
      " [0. 1. 0.]\n",
      " [0. 0. 1.]], shape=(3, 3), dtype=float32)\n",
      "\n",
      " Tensor filled with 7:  tf.Tensor(\n",
      "[[7. 7.]\n",
      " [7. 7.]], shape=(2, 2), dtype=float32)\n"
     ]
    }
   ],
   "source": [
    "# Display the created tensors\n",
    "\n",
    "print(\"\\n Ones:\\n \", ones)\n",
    "print(\"\\n Zeros:\\n \", zeros)\n",
    "print(\"\\n Identity:\\n \", eye)\n",
    "print(\"\\n Tensor filled with 7: \", tensor7)"
   ]
  },
  {
   "cell_type": "code",
   "execution_count": 65,
   "metadata": {
    "id": "-sjbVqSBamkW"
   },
   "outputs": [],
   "source": [
    "# Create a ones Tensor and a zeros Tensor\n",
    "\n",
    "t1 = tf.ones(shape=(2, 2))\n",
    "t2 = tf.zeros(shape=(2, 2))"
   ]
  },
  {
   "cell_type": "code",
   "execution_count": 66,
   "metadata": {
    "id": "tanfXXAramkY"
   },
   "outputs": [],
   "source": [
    "# Concatentate two Tensors\n",
    "\n",
    "concat0 = tf.concat(values=[t1, t2], axis=0)\n",
    "concat1 = tf.concat(values=[t1, t2], axis=1)"
   ]
  },
  {
   "cell_type": "code",
   "execution_count": 67,
   "metadata": {
    "colab": {
     "base_uri": "https://localhost:8080/"
    },
    "id": "EbtQpxzNamka",
    "outputId": "52b5dd3f-a65e-4515-d186-680a896d160d",
    "tags": []
   },
   "outputs": [
    {
     "name": "stdout",
     "output_type": "stream",
     "text": [
      "tf.Tensor(\n",
      "[[1. 1.]\n",
      " [1. 1.]\n",
      " [0. 0.]\n",
      " [0. 0.]], shape=(4, 2), dtype=float32)\n",
      "tf.Tensor(\n",
      "[[1. 1. 0. 0.]\n",
      " [1. 1. 0. 0.]], shape=(2, 4), dtype=float32)\n"
     ]
    }
   ],
   "source": [
    "# Display the concatenated tensors\n",
    "\n",
    "print(concat0)\n",
    "print(concat1)"
   ]
  },
  {
   "cell_type": "code",
   "execution_count": 68,
   "metadata": {
    "colab": {
     "base_uri": "https://localhost:8080/"
    },
    "id": "nV2E1zdVamkc",
    "outputId": "a211ef27-4d03-4b78-92e6-ad42851a2a80"
   },
   "outputs": [
    {
     "name": "stdout",
     "output_type": "stream",
     "text": [
      "\n",
      " t shape:  (3, 2, 4)\n"
     ]
    }
   ],
   "source": [
    "# Create a constant Tensor\n",
    "\n",
    "t = tf.constant(value=np.arange(24), shape=(3, 2, 4))\n",
    "print(\"\\n t shape: \", t.shape)"
   ]
  },
  {
   "cell_type": "code",
   "execution_count": 74,
   "metadata": {
    "id": "vbwkYuxsamkf"
   },
   "outputs": [],
   "source": [
    "# Expanding the rank of Tensors\n",
    "\n",
    "t1 = tf.expand_dims(input=t, axis=0)\n",
    "t2 = tf.expand_dims(input=t, axis=1)\n",
    "t3 = tf.expand_dims(input=t, axis=3)"
   ]
  },
  {
   "cell_type": "code",
   "execution_count": 76,
   "metadata": {
    "colab": {
     "base_uri": "https://localhost:8080/"
    },
    "id": "l2PZ9tu7amki",
    "outputId": "6f7d09db-ac42-4803-9586-fb09179a08de",
    "tags": []
   },
   "outputs": [
    {
     "name": "stdout",
     "output_type": "stream",
     "text": [
      "\n",
      " After expanding dims:\n",
      " t1 shape:  (1, 3, 2, 4) \n",
      " t2 shape:  (3, 1, 2, 4) \n",
      " t3 shape:  (3, 2, 4, 1)\n"
     ]
    }
   ],
   "source": [
    "# Display the shapes after tf.expand_dims\n",
    "\n",
    "print(\"\\n After expanding dims:\\n t1 shape: \", t1.shape,\n",
    "    \"\\n t2 shape: \", t2.shape, \"\\n t3 shape: \", t3.shape)"
   ]
  },
  {
   "cell_type": "code",
   "execution_count": 77,
   "metadata": {
    "id": "W_2w0-xnamkl"
   },
   "outputs": [],
   "source": [
    "# Squeezing redundant dimensions\n",
    "\n",
    "t1 = tf.squeeze(input=t1, axis=0)\n",
    "t2 = tf.squeeze(input=t2, axis=1)\n",
    "t3 = tf.squeeze(input=t3, axis=3)"
   ]
  },
  {
   "cell_type": "code",
   "execution_count": 78,
   "metadata": {
    "colab": {
     "base_uri": "https://localhost:8080/"
    },
    "id": "KlkvUNLDamkn",
    "outputId": "125cafd4-239f-4fa5-b663-df229e29b416",
    "tags": []
   },
   "outputs": [
    {
     "name": "stdout",
     "output_type": "stream",
     "text": [
      "\n",
      " After squeezing:\n",
      " t1 shape:  (3, 2, 4) \n",
      " t2 shape:  (3, 2, 4) \n",
      " t3 shape:  (3, 2, 4)\n"
     ]
    }
   ],
   "source": [
    "# Display the shapes after tf.squeeze\n",
    "\n",
    "print(\"\\n After squeezing:\\n t1 shape: \", t1.shape,\n",
    "    \"\\n t2 shape: \", t2.shape, \"\\n t3 shape: \", t3.shape)"
   ]
  },
  {
   "cell_type": "code",
   "execution_count": 79,
   "metadata": {
    "colab": {
     "base_uri": "https://localhost:8080/"
    },
    "id": "V13oeX_Uamkq",
    "outputId": "8f1c8624-60cd-4531-c30d-d9f32e86fe6a"
   },
   "outputs": [
    {
     "name": "stdout",
     "output_type": "stream",
     "text": [
      "tf.Tensor([2 3 4], shape=(3,), dtype=int32)\n"
     ]
    }
   ],
   "source": [
    "# Slicing a Tensor\n",
    "\n",
    "x = tf.constant(value=[1, 2, 3, 4, 5, 6, 7])\n",
    "\n",
    "print(x[1:4])"
   ]
  },
  {
   "cell_type": "markdown",
   "metadata": {
    "id": "oxhWJt-lamkr"
   },
   "source": [
    "#### Doing maths with Tensors"
   ]
  },
  {
   "cell_type": "code",
   "execution_count": 80,
   "metadata": {
    "id": "0U5kVSt0amks"
   },
   "outputs": [],
   "source": [
    "# Create two constant Tensors\n",
    "\n",
    "c = tf.constant(value=[[1.0, 2.0], [3.0, 4.0]])\n",
    "d = tf.constant(value=[[1.0, 1.0], [0.0, 1.0]])"
   ]
  },
  {
   "cell_type": "code",
   "execution_count": 82,
   "metadata": {
    "id": "7naoOLxSamkx"
   },
   "outputs": [],
   "source": [
    "# Matrix multiplication\n",
    "\n",
    "matmul_cd = tf.matmul(c, d)"
   ]
  },
  {
   "cell_type": "code",
   "execution_count": 83,
   "metadata": {
    "colab": {
     "base_uri": "https://localhost:8080/"
    },
    "id": "tjTRMdd6amky",
    "outputId": "83c85cd9-7828-4166-d647-9b4f0e3c46c9",
    "tags": []
   },
   "outputs": [
    {
     "name": "stdout",
     "output_type": "stream",
     "text": [
      "\n",
      " tf.matmul(c, d):\n",
      " tf.Tensor(\n",
      "[[1. 3.]\n",
      " [3. 7.]], shape=(2, 2), dtype=float32)\n"
     ]
    }
   ],
   "source": [
    "# Display the result\n",
    "\n",
    "print(\"\\n tf.matmul(c, d):\\n\", matmul_cd)"
   ]
  },
  {
   "cell_type": "code",
   "execution_count": 84,
   "metadata": {
    "id": "GFRtH6W4amk2"
   },
   "outputs": [],
   "source": [
    "# Elementwise operations\n",
    "\n",
    "c_times_d = c*d\n",
    "c_plus_d = c+d\n",
    "c_minus_d = c-d\n",
    "c_div_c = c/c"
   ]
  },
  {
   "cell_type": "code",
   "execution_count": 85,
   "metadata": {
    "colab": {
     "base_uri": "https://localhost:8080/"
    },
    "id": "iC1_beA4amk3",
    "outputId": "553fe502-9d21-43fd-cad1-df9f0e0a1d2a",
    "tags": []
   },
   "outputs": [
    {
     "name": "stdout",
     "output_type": "stream",
     "text": [
      "\n",
      " c*d:\n",
      " tf.Tensor(\n",
      "[[1. 2.]\n",
      " [0. 4.]], shape=(2, 2), dtype=float32)\n",
      "\n",
      " c+d:\n",
      " tf.Tensor(\n",
      "[[2. 3.]\n",
      " [3. 5.]], shape=(2, 2), dtype=float32)\n",
      "\n",
      " c-d:\n",
      " tf.Tensor(\n",
      "[[0. 1.]\n",
      " [3. 3.]], shape=(2, 2), dtype=float32)\n",
      "\n",
      " c/c:\n",
      " tf.Tensor(\n",
      "[[1. 1.]\n",
      " [1. 1.]], shape=(2, 2), dtype=float32)\n"
     ]
    }
   ],
   "source": [
    "# Display the results\n",
    "\n",
    "print(\"\\n c*d:\\n\", c_times_d)\n",
    "print(\"\\n c+d:\\n\", c_plus_d)\n",
    "print(\"\\n c-d:\\n\", c_minus_d)\n",
    "print(\"\\n c/c:\\n\", c_div_c)"
   ]
  },
  {
   "cell_type": "code",
   "execution_count": 94,
   "metadata": {
    "id": "OOWqMkNoamk7"
   },
   "outputs": [],
   "source": [
    "# Create Tensors\n",
    "\n",
    "a = tf.constant(value=[[2, 3], [3, 3]])\n",
    "b = tf.constant(value=[[8, 7], [2, 3]])\n",
    "x = tf.constant(value=[[-6.89 + 1.78j], [-2.54 + 2.15j]])"
   ]
  },
  {
   "cell_type": "code",
   "execution_count": 95,
   "metadata": {
    "id": "_BvLwkjUamk-"
   },
   "outputs": [],
   "source": [
    "# Absolute value of a Tensor\n",
    "\n",
    "absx = tf.math.abs(x=x)"
   ]
  },
  {
   "cell_type": "code",
   "execution_count": 101,
   "metadata": {
    "id": "jxoXNWs1amlB"
   },
   "outputs": [],
   "source": [
    "# Power of a Tensor\n",
    "\n",
    "powab = tf.math.pow(x=a, y=b)"
   ]
  },
  {
   "cell_type": "code",
   "execution_count": 102,
   "metadata": {
    "colab": {
     "base_uri": "https://localhost:8080/"
    },
    "id": "VGq4cBFNamlC",
    "outputId": "ce3c818c-3b8f-403f-c706-b43634f66aba",
    "tags": []
   },
   "outputs": [
    {
     "name": "stdout",
     "output_type": "stream",
     "text": [
      "\n",
      "  tf.Tensor(\n",
      "[[7.11621388]\n",
      " [3.32777704]], shape=(2, 1), dtype=float64)\n",
      "\n",
      "  tf.Tensor(\n",
      "[[ 256 2187]\n",
      " [   9   27]], shape=(2, 2), dtype=int32)\n"
     ]
    }
   ],
   "source": [
    "# Display the results\n",
    "\n",
    "print(\"\\n \", absx)\n",
    "print(\"\\n \", powab)"
   ]
  },
  {
   "cell_type": "markdown",
   "metadata": {
    "id": "pu4r4KKdamlE"
   },
   "source": [
    "#### Randomly sampled constant tensors"
   ]
  },
  {
   "cell_type": "code",
   "execution_count": 103,
   "metadata": {
    "colab": {
     "base_uri": "https://localhost:8080/"
    },
    "id": "0B65JV6jamlF",
    "outputId": "364b2a48-af39-4249-9eaf-027fa43c172a",
    "tags": []
   },
   "outputs": [
    {
     "name": "stdout",
     "output_type": "stream",
     "text": [
      "tf.Tensor(\n",
      "[[ 0.3274685 -0.8426258]\n",
      " [ 0.3194337 -1.4075519]], shape=(2, 2), dtype=float32)\n"
     ]
    }
   ],
   "source": [
    "# Create a Tensor with samples from a Normal distribution\n",
    "\n",
    "tn = tf.random.normal(shape=(2, 2), mean=0, stddev=1.)\n",
    "print(tn)"
   ]
  },
  {
   "cell_type": "code",
   "execution_count": 104,
   "metadata": {
    "colab": {
     "base_uri": "https://localhost:8080/"
    },
    "id": "d-0v2aBLamlG",
    "outputId": "cd281765-5734-40ba-c246-d082983673c4",
    "tags": []
   },
   "outputs": [
    {
     "name": "stdout",
     "output_type": "stream",
     "text": [
      "tf.Tensor(\n",
      "[[8]\n",
      " [3]], shape=(2, 1), dtype=int32)\n"
     ]
    }
   ],
   "source": [
    "# Create a Tensor with samples from a Uniform distribution\n",
    "\n",
    "tu = tf.random.uniform(shape=(2, 1), minval=0, maxval=10, \n",
    "    dtype='int32')\n",
    "print(tu)"
   ]
  },
  {
   "cell_type": "code",
   "execution_count": 105,
   "metadata": {
    "colab": {
     "base_uri": "https://localhost:8080/"
    },
    "id": "ibkj75B7amlJ",
    "outputId": "ed5294e3-a3db-43e2-ae32-19aede512782",
    "tags": []
   },
   "outputs": [
    {
     "name": "stdout",
     "output_type": "stream",
     "text": [
      "tf.Tensor(\n",
      "[[3. 7.]\n",
      " [7. 6.]], shape=(2, 2), dtype=float32)\n"
     ]
    }
   ],
   "source": [
    "# Create a Tensor with samples from a Poisson distribution\n",
    "\n",
    "tp = tf.random.poisson(shape=(2, 2), lam=5)\n",
    "print(tp)"
   ]
  },
  {
   "cell_type": "code",
   "execution_count": 106,
   "metadata": {
    "colab": {
     "base_uri": "https://localhost:8080/"
    },
    "id": "_yvQv8uAamlL",
    "outputId": "575e13d1-0eee-47a5-f581-0e35b329b177",
    "tags": []
   },
   "outputs": [
    {
     "name": "stdout",
     "output_type": "stream",
     "text": [
      "\n",
      "  tf.Tensor(\n",
      "[[0.10723563 0.7100182 ]\n",
      " [0.10203788 1.9812024 ]], shape=(2, 2), dtype=float32)\n",
      "\n",
      "  tf.Tensor(\n",
      "[[1.1131965 2.0340283]\n",
      " [1.1074255 7.2514563]], shape=(2, 2), dtype=float32)\n",
      "\n",
      "  tf.Tensor(\n",
      "[[ 0.5403023  -0.4161468 ]\n",
      " [-0.9899925  -0.65364367]], shape=(2, 2), dtype=float32)\n"
     ]
    }
   ],
   "source": [
    "# More maths operations\n",
    "\n",
    "d = tf.math.square(x=tn)\n",
    "e = tf.math.exp(x=d)\n",
    "f = tf.math.cos(x=c)\n",
    "\n",
    "print(\"\\n \", d)\n",
    "print(\"\\n \", e)\n",
    "print(\"\\n \", f)"
   ]
  },
  {
   "cell_type": "markdown",
   "metadata": {
    "id": "NsHbwaAhamlQ"
   },
   "source": [
    "***\n",
    "<a id=\"coding_tutorial_3\"></a>\n",
    "## Accessing model layers"
   ]
  },
  {
   "cell_type": "code",
   "execution_count": 107,
   "metadata": {
    "collapsed": true,
    "jupyter": {
     "outputs_hidden": true
    },
    "scrolled": true,
    "tags": []
   },
   "outputs": [
    {
     "name": "stdout",
     "output_type": "stream",
     "text": [
      "[<keras.engine.input_layer.InputLayer object at 0x7effa3a997c0>, <keras.layers.convolutional.conv1d.Conv1D object at 0x7effa3a99c70>, <keras.layers.pooling.average_pooling1d.AveragePooling1D object at 0x7effa3aac250>, <keras.layers.reshaping.flatten.Flatten object at 0x7effa3f9dd90>, <keras.layers.core.dense.Dense object at 0x7effa3f80640>]\n",
      "[<tf.Variable 'conv1d_layer/kernel:0' shape=(5, 1, 3) dtype=float32, numpy=\n",
      "array([[[ 0.39540076,  0.21023369, -0.3093754 ]],\n",
      "\n",
      "       [[-0.4643173 , -0.21935523,  0.415784  ]],\n",
      "\n",
      "       [[-0.20007089, -0.10089001, -0.3557835 ]],\n",
      "\n",
      "       [[-0.52717376,  0.5466198 , -0.18549028]],\n",
      "\n",
      "       [[ 0.39416623,  0.27215493,  0.07253051]]], dtype=float32)>, <tf.Variable 'conv1d_layer/bias:0' shape=(3,) dtype=float32, numpy=array([0., 0., 0.], dtype=float32)>]\n",
      "[array([[[ 0.39540076,  0.21023369, -0.3093754 ]],\n",
      "\n",
      "       [[-0.4643173 , -0.21935523,  0.415784  ]],\n",
      "\n",
      "       [[-0.20007089, -0.10089001, -0.3557835 ]],\n",
      "\n",
      "       [[-0.52717376,  0.5466198 , -0.18549028]],\n",
      "\n",
      "       [[ 0.39416623,  0.27215493,  0.07253051]]], dtype=float32), array([0., 0., 0.], dtype=float32)]\n",
      "<tf.Variable 'conv1d_layer/kernel:0' shape=(5, 1, 3) dtype=float32, numpy=\n",
      "array([[[ 0.39540076,  0.21023369, -0.3093754 ]],\n",
      "\n",
      "       [[-0.4643173 , -0.21935523,  0.415784  ]],\n",
      "\n",
      "       [[-0.20007089, -0.10089001, -0.3557835 ]],\n",
      "\n",
      "       [[-0.52717376,  0.5466198 , -0.18549028]],\n",
      "\n",
      "       [[ 0.39416623,  0.27215493,  0.07253051]]], dtype=float32)>\n",
      "<tf.Variable 'conv1d_layer/bias:0' shape=(3,) dtype=float32, numpy=array([0., 0., 0.], dtype=float32)>\n",
      "<tf.Variable 'conv1d_layer/bias:0' shape=(3,) dtype=float32, numpy=array([0., 0., 0.], dtype=float32)>\n"
     ]
    }
   ],
   "source": [
    "inputs = tf.keras.Input(shape=(32, 1), name='input_layer')\n",
    "h = tf.keras.layers.Conv1D(filters=3, kernel_size=5,\n",
    "    activation='relu', name='conv1d_layer')(inputs)\n",
    "h = tf.keras.layers.AveragePooling1D(pool_size=3, name='avg_pool1d_layer')(h)\n",
    "h = tf.keras.layers.Flatten(name='flatten_layer')(h)\n",
    "outputs = tf.keras.layers.Dense(units=20, activation='sigmoid',\n",
    "    name='dense_layer')(h)\n",
    "\n",
    "model = tf.keras.Model(\n",
    "    inputs=inputs, outputs=outputs\n",
    ")\n",
    "\n",
    "print(model.layers)\n",
    "\n",
    "print(model.layers[1].weights)\n",
    "\n",
    "print(model.layers[1].get_weights())\n",
    "\n",
    "print(model.layers[1].kernel)\n",
    "\n",
    "print(model.layers[1].bias)\n",
    "\n",
    "print(model.get_layer('conv1d_layer').bias)"
   ]
  },
  {
   "cell_type": "code",
   "execution_count": 109,
   "metadata": {
    "scrolled": true,
    "tags": []
   },
   "outputs": [
    {
     "name": "stdout",
     "output_type": "stream",
     "text": [
      "KerasTensor(type_spec=TensorSpec(shape=(None, 32, 1), dtype=tf.float32, name='input_layer'), name='input_layer', description=\"created by layer 'input_layer'\")\n",
      "KerasTensor(type_spec=TensorSpec(shape=(None, 28, 3), dtype=tf.float32, name=None), name='conv1d_layer/Relu:0', description=\"created by layer 'conv1d_layer'\")\n",
      "Model: \"model_12\"\n",
      "_________________________________________________________________\n",
      " Layer (type)                Output Shape              Param #   \n",
      "=================================================================\n",
      " input_layer (InputLayer)    [(None, 32, 1)]           0         \n",
      "                                                                 \n",
      " conv1d_layer (Conv1D)       (None, 28, 3)             18        \n",
      "                                                                 \n",
      " avg_pool1d_layer (AveragePo  (None, 9, 3)             0         \n",
      " oling1D)                                                        \n",
      "                                                                 \n",
      " flatten_layer (Flatten)     (None, 27)                0         \n",
      "                                                                 \n",
      " dense_4 (Dense)             (None, 10)                280       \n",
      "                                                                 \n",
      "=================================================================\n",
      "Total params: 298\n",
      "Trainable params: 298\n",
      "Non-trainable params: 0\n",
      "_________________________________________________________________\n",
      "None\n"
     ]
    }
   ],
   "source": [
    "inputs = tf.keras.Input(shape=(32, 1), name='input_layer')\n",
    "h = tf.keras.layers.Conv1D(filters=3, kernel_size=5,\n",
    "    activation='relu', name='conv1d_layer')(inputs)\n",
    "h = tf.keras.layers.AveragePooling1D(pool_size=3, name='avg_pool1d_layer')(h)\n",
    "h = tf.keras.layers.Flatten(name='flatten_layer')(h)\n",
    "outputs = tf.keras.layers.Dense(units=1, activation='sigmoid',\n",
    "    name='dense_layer')(h)\n",
    "\n",
    "model = tf.keras.Model(\n",
    "    inputs=inputs, outputs=outputs\n",
    ")\n",
    "\n",
    "print(model.get_layer('conv1d_layer').input)\n",
    "print(model.get_layer('conv1d_layer').output)\n",
    "\n",
    "# flatten_output = model.layers[3].output\n",
    "flatten_output = model.get_layer('flatten_layer').output\n",
    "\n",
    "# model2 = Model(inputs=model.input, outputs=flatten_output)\n",
    "\n",
    "# model3 = tf.keras.Sequential([\n",
    "#     model2,\n",
    "#     tf.keras.layers.Dense(units=10, activation='softmax',\n",
    "#         name='new_dense_layer')\n",
    "# ])\n",
    "\n",
    "# new_outputs = tf.keras.layers.Dense(units=10,\n",
    "    # activation='softmax')(model2.output)\n",
    "# model3 = Model(inputs=model2.input, outputs=new_outputs)\n",
    "\n",
    "new_outputs = tf.keras.layers.Dense(units=10,\n",
    "    activation='softmax')(flatten_output)\n",
    "model3 = tf.keras.Model(inputs=model.input, outputs=new_outputs)\n",
    "\n",
    "print(model3.summary())"
   ]
  },
  {
   "cell_type": "markdown",
   "metadata": {
    "id": "EK5buHnVamlS"
   },
   "source": [
    "#### Load the pre-trained model"
   ]
  },
  {
   "cell_type": "markdown",
   "metadata": {
    "id": "TjXFoEHFamlS"
   },
   "source": [
    "In this section, we aim to demonstrate accessing layer attributes within a model.\n",
    "\n",
    "Let's get started by loading the `VGG19` pre-trained model from the `keras.applications` library, which is a very deep network trained on more than a million images from the ImageNet database. The network is trained to classify images into 1000 object categories."
   ]
  },
  {
   "cell_type": "code",
   "execution_count": null,
   "metadata": {
    "scrolled": true,
    "tags": []
   },
   "outputs": [],
   "source": [
    "from tensorflow.keras.applications import VGG19\n",
    "\n",
    "os.makedirs(\"./models\", exist_ok=True)\n",
    "vgg_model = VGG19()\n",
    "vgg_model.save(\"./models/Vgg19.h5\")\n",
    "del vgg_model"
   ]
  },
  {
   "cell_type": "code",
   "execution_count": null,
   "metadata": {
    "colab": {
     "base_uri": "https://localhost:8080/"
    },
    "id": "ehaj1buoamlT",
    "outputId": "fb278737-74f2-425e-ed1a-65bd721c133b"
   },
   "outputs": [],
   "source": [
    "# Load the VGG19 model\n",
    "\n",
    "from tensorflow.keras.models import load_model\n",
    "vgg_model = load_model(\"./models/Vgg19.h5\")"
   ]
  },
  {
   "cell_type": "code",
   "execution_count": null,
   "metadata": {
    "colab": {
     "base_uri": "https://localhost:8080/"
    },
    "id": "JAhY1iuZamlV",
    "outputId": "d08681b5-8f2f-4f28-974f-8daa0321b5a2",
    "scrolled": true
   },
   "outputs": [],
   "source": [
    "# Get the inputs, layers and display the summary\n",
    "\n",
    "vgg_input = vgg_model.input\n",
    "vgg_layers = vgg_model.layers\n",
    "vgg_model.summary()"
   ]
  },
  {
   "cell_type": "markdown",
   "metadata": {
    "id": "LjvfjMEbamld"
   },
   "source": [
    "#### Build a model to access the layer outputs"
   ]
  },
  {
   "cell_type": "code",
   "execution_count": null,
   "metadata": {
    "id": "BMv6VdXSamls"
   },
   "outputs": [],
   "source": [
    "# Build a model that returns the layer outputs\n",
    "from tensorflow.keras.models import Model\n",
    "\n",
    "layer_outputs = [layer.output for layer in vgg_layers]\n",
    "features = Model(inputs=vgg_input, outputs=layer_outputs)"
   ]
  },
  {
   "cell_type": "code",
   "execution_count": null,
   "metadata": {
    "colab": {
     "base_uri": "https://localhost:8080/",
     "height": 1000
    },
    "id": "qfQgOKK6amlw",
    "outputId": "3dd6e2fe-ab77-4470-9322-b21e3874b88b",
    "scrolled": true
   },
   "outputs": [],
   "source": [
    "# Plot the model\n",
    "\n",
    "tf.keras.utils.plot_model(features, 'vgg19_model.png', \n",
    "    show_shapes=True)"
   ]
  },
  {
   "cell_type": "code",
   "execution_count": null,
   "metadata": {
    "id": "rEMt7t_3aml0",
    "scrolled": true,
    "tags": []
   },
   "outputs": [],
   "source": [
    "# Test the model on a random input\n",
    "\n",
    "img = np.random.random((1, 224, 224, 3)).astype('float32')\n",
    "extracted_features = features(img)\n",
    "extracted_features[0].shape"
   ]
  },
  {
   "cell_type": "markdown",
   "metadata": {
    "id": "YZmwJjhKaml2"
   },
   "source": [
    "#### Load the 'cool cat' picture"
   ]
  },
  {
   "cell_type": "markdown",
   "metadata": {
    "id": "aX7xwmADaml2"
   },
   "source": [
    "In Zambia’s South Luangwa National Park, a photographer had been watching a pride of lions while they slept off a feast from a buffalo kill. When this female walked away, he anticipated that she might be going for a drink and so he positioned his vehicle on the opposite side of the waterhole. The `cool cat` picture is one of the highly commended 2018 Image from Wildlife Photographer of the Year."
   ]
  },
  {
   "cell_type": "code",
   "execution_count": null,
   "metadata": {
    "colab": {
     "base_uri": "https://localhost:8080/",
     "height": 552
    },
    "id": "JgI019zAaml3",
    "outputId": "d4ec3dba-0dc6-4a7a-a157-e5c2140e9f79",
    "scrolled": true,
    "tags": []
   },
   "outputs": [],
   "source": [
    "# Display the original image\n",
    "\n",
    "import IPython.display as display\n",
    "from PIL import Image\n",
    "\n",
    "display.display(Image.open(\"./data/cool_cat.jpg\"))"
   ]
  },
  {
   "cell_type": "markdown",
   "metadata": {
    "id": "esv-OBwmaml6"
   },
   "source": [
    "#### Visualise network features from the input image"
   ]
  },
  {
   "cell_type": "code",
   "execution_count": null,
   "metadata": {
    "id": "15e00Mj7aml6"
   },
   "outputs": [],
   "source": [
    "# Preprocess the image\n",
    "\n",
    "from tensorflow.keras.applications.vgg19 import preprocess_input\n",
    "from tensorflow.keras.preprocessing import image\n",
    "\n",
    "img_path = \"./data/cool_cat.jpg\"\n",
    "img = image.load_img(img_path, target_size=(224, 224))\n",
    "x = image.img_to_array(img)\n",
    "x = np.expand_dims(x, axis=0)\n",
    "x = preprocess_input(x)"
   ]
  },
  {
   "cell_type": "code",
   "execution_count": null,
   "metadata": {
    "id": "XWJVu5Kkaml9"
   },
   "outputs": [],
   "source": [
    "# Extract the features\n",
    "\n",
    "extracted_features = features(x)"
   ]
  },
  {
   "cell_type": "code",
   "execution_count": null,
   "metadata": {
    "colab": {
     "base_uri": "https://localhost:8080/",
     "height": 326
    },
    "id": "gwifmsagaml_",
    "outputId": "1bc50c5a-1099-4ead-8a6d-83c298c02b85",
    "scrolled": true,
    "tags": []
   },
   "outputs": [],
   "source": [
    "# Visualise the input channels\n",
    "\n",
    "f1 = extracted_features[0]\n",
    "print(\"\\n f1.shape:\", f1.shape)\n",
    "\n",
    "imgs = f1[0, :, :]\n",
    "plt.figure(figsize=(15, 15))\n",
    "for n in range(3):\n",
    "    ax = plt.subplot(1, 3, n+1)\n",
    "    plt.imshow(imgs[:, :, n], cmap='viridis')\n",
    "    plt.axis('off')\n",
    "plt.subplots_adjust(wspace=0.01, hspace=0.01)\n",
    "plt.show()"
   ]
  },
  {
   "cell_type": "code",
   "execution_count": null,
   "metadata": {
    "colab": {
     "base_uri": "https://localhost:8080/",
     "height": 838
    },
    "id": "NqqJP6sUammB",
    "outputId": "ea62a25a-feed-45fb-a032-756ef99ff98b",
    "scrolled": true,
    "tags": []
   },
   "outputs": [],
   "source": [
    "# Visualise some features in the first hidden layer\n",
    "\n",
    "f2 = extracted_features[1]\n",
    "print(\"\\n f2.shape:\", f2.shape)\n",
    "\n",
    "imgs = f2[0, :, :]\n",
    "plt.figure(figsize=(15, 15))\n",
    "for n in range(16):\n",
    "    ax = plt.subplot(4, 4, n+1)\n",
    "    plt.imshow(imgs[:, :, n], cmap='viridis')\n",
    "    plt.axis('off')\n",
    "plt.subplots_adjust(wspace=0.01, hspace=0.01)\n",
    "plt.show()"
   ]
  },
  {
   "cell_type": "code",
   "execution_count": null,
   "metadata": {
    "id": "EDMsNhRTammD"
   },
   "outputs": [],
   "source": [
    "# Build a model to extract features by layer name\n",
    "\n",
    "extracted_features_block1_pool = Model(inputs=features.input,\n",
    "    outputs=features.get_layer('block1_pool').output)\n",
    "block1_pool_features = extracted_features_block1_pool.predict(x)"
   ]
  },
  {
   "cell_type": "code",
   "execution_count": null,
   "metadata": {
    "colab": {
     "base_uri": "https://localhost:8080/",
     "height": 803
    },
    "id": "e9CRNWbSammF",
    "outputId": "23d58c1a-12e7-4552-b449-9d0d02455f96",
    "scrolled": true,
    "tags": []
   },
   "outputs": [],
   "source": [
    "# Visualise some features from the extracted layer output\n",
    "\n",
    "imgs = block1_pool_features[0, :, :]\n",
    "plt.figure(figsize=(15, 15))\n",
    "for n in range(16):\n",
    "    ax = plt.subplot(4, 4, n+1)\n",
    "    plt.imshow(imgs[:, :, n], cmap='viridis')\n",
    "    plt.axis('off')\n",
    "plt.subplots_adjust(wspace=0.01, hspace=0.01)\n",
    "plt.show()"
   ]
  },
  {
   "cell_type": "code",
   "execution_count": null,
   "metadata": {
    "id": "9M9stdFLammH"
   },
   "outputs": [],
   "source": [
    "# Extract features from a layer deeper in the network\n",
    "\n",
    "extracted_features_block5_conv4 = Model(inputs=features.input,\n",
    "    outputs=features.get_layer('block5_conv4').output)\n",
    "block5_conv4_features = extracted_features_block5_conv4.predict(x)"
   ]
  },
  {
   "cell_type": "code",
   "execution_count": null,
   "metadata": {
    "colab": {
     "base_uri": "https://localhost:8080/",
     "height": 803
    },
    "id": "A5Gn54bWammJ",
    "outputId": "ed9d1762-3d88-47b6-9c0a-c08e13ae5c2f",
    "scrolled": true,
    "tags": []
   },
   "outputs": [],
   "source": [
    "# Visualise some features from the extracted layer output\n",
    "\n",
    "imgs = block5_conv4_features[0, :, :]\n",
    "plt.figure(figsize=(15, 15))\n",
    "for n in range(16):\n",
    "    ax = plt.subplot(4, 4, n+1)\n",
    "    plt.imshow(imgs[:, :, n], cmap='viridis')\n",
    "    plt.axis('off')\n",
    "plt.subplots_adjust(wspace=0.01, hspace=0.01)\n",
    "plt.show()"
   ]
  },
  {
   "cell_type": "markdown",
   "metadata": {
    "id": "jqKJc5DqammM"
   },
   "source": [
    "***\n",
    "<a id=\"coding_tutorial_4\"></a>\n",
    "## Freezing layers"
   ]
  },
  {
   "cell_type": "code",
   "execution_count": null,
   "metadata": {},
   "outputs": [],
   "source": [
    "from tensorflow.keras.models import Model\n",
    "from tensorflow.keras.layers import Input, Dense, Flatten, Conv2D, MaxPooling2D\n",
    "\n",
    "inputs = Input(shape=(8, 8, 1), name='input_layer')\n",
    "h = Conv2D(16, 3, activation='relu', name='conv2d_layer', trainable=False)(inputs)\n",
    "h = MaxPooling2D(3, name='max_pool2d_layer')(h)\n",
    "h = Flatten(name='flatten_layer')(h)\n",
    "outputs = Dense(10, activation='softmax', name='softmax_layer')(h)\n",
    "\n",
    "model = Model(inputs=inputs, outputs=outputs)"
   ]
  },
  {
   "cell_type": "code",
   "execution_count": null,
   "metadata": {},
   "outputs": [],
   "source": [
    "from tensorflow.keras.models import Model\n",
    "from tensorflow.keras.layers import Input, Dense, Flatten, Conv2D, MaxPooling2D\n",
    "\n",
    "inputs = Input(shape=(8, 8, 1), name='input_layer')\n",
    "h = Conv2D(16, 3, activation='relu', name='conv2d_layer')(inputs)\n",
    "h = MaxPooling2D(3, name='max_pool2d_layer')(h)\n",
    "h = Flatten(name='flatten_layer')(h)\n",
    "outputs = Dense(10, activation='softmax', name='softmax_layer')(h)\n",
    "\n",
    "model = Model(inputs=inputs, outputs=outputs)\n",
    "\n",
    "model.get_layer('conv2d_layer').trainable = False\n",
    "\n",
    "model.compile(loss='sparse_categorical_crossentropy')"
   ]
  },
  {
   "cell_type": "code",
   "execution_count": null,
   "metadata": {
    "tags": []
   },
   "outputs": [],
   "source": [
    "from tensorflow.keras.models import Model, load_model\n",
    "from tensorflow.keras.layers import Input, Dense, Flatten, Conv2D, MaxPooling2D\n",
    "\n",
    "model = load_model('my_pretrained_model')\n",
    "\n",
    "model.trainable = False\n",
    "\n",
    "flatten_output = model.get_layer('flatten_layer').output\n",
    "new_outputs = Dense(5, activation='softmax', name='new_softmax_layer')(flatten_output)\n",
    "\n",
    "new_model = Model(inputs=model.input, outputs=new_outputs)\n",
    "\n",
    "new_model.compile(loss='sparse_categorical_crossentropy')\n",
    "new_model.fit(X_train, y_train, epochs=10)"
   ]
  },
  {
   "cell_type": "markdown",
   "metadata": {
    "id": "UpjxrEBmammN"
   },
   "source": [
    "#### Build the model"
   ]
  },
  {
   "cell_type": "code",
   "execution_count": null,
   "metadata": {
    "id": "hGuBHnNQammO"
   },
   "outputs": [],
   "source": [
    "# Build a small Sequential model\n",
    "\n",
    "from tensorflow.keras.models import Sequential\n",
    "from tensorflow.keras import layers\n",
    "\n",
    "model = Sequential([\n",
    "    layers.Dense(4, input_shape=(4,), activation='relu', \n",
    "        kernel_initializer='random_uniform', bias_initializer='ones'),\n",
    "    layers.Dense(2, activation='relu', \n",
    "        kernel_initializer='lecun_normal', bias_initializer='ones'),\n",
    "    layers.Dense(4, activation='softmax')\n",
    "])"
   ]
  },
  {
   "cell_type": "code",
   "execution_count": null,
   "metadata": {
    "colab": {
     "base_uri": "https://localhost:8080/"
    },
    "id": "Y_7E8ixxammP",
    "outputId": "84198021-06c6-4c84-d219-65bd33f57065",
    "scrolled": true,
    "tags": []
   },
   "outputs": [],
   "source": [
    "# Display the model summary\n",
    "\n",
    "model.summary()"
   ]
  },
  {
   "cell_type": "markdown",
   "metadata": {
    "id": "AGExEGMfammS"
   },
   "source": [
    "#### Examine the weight matrix variation over training"
   ]
  },
  {
   "cell_type": "code",
   "execution_count": null,
   "metadata": {
    "id": "mUKPIIlCammS"
   },
   "outputs": [],
   "source": [
    "def get_weights(model):\n",
    "    return [e.weights[0].numpy() for e in model.layers]\n",
    "\n",
    "def get_biases(model):\n",
    "    return [e.bias.numpy() for e in model.layers]\n",
    "\n",
    "def plot_delta_weights(W0_layers, W1_layers, b0_layers, b1_layers):\n",
    "    plt.figure(figsize=(8, 8))\n",
    "    for n in range(3):\n",
    "        delta_l = W1_layers[n] - W0_layers[n]\n",
    "        print('Layer ' + str(n) + ': bias variation: ', \n",
    "            np.linalg.norm(b1_layers[n] - b0_layers[n]))\n",
    "        ax = plt.subplot(1, 3, n+1)\n",
    "        plt.imshow(delta_l, cmap='viridis')\n",
    "        plt.title('Layer '+ str(n))\n",
    "        plt.axis('off')\n",
    "    plt.colorbar()\n",
    "    plt.suptitle('Weight matrices variation')\n",
    "    plt.show()"
   ]
  },
  {
   "cell_type": "code",
   "execution_count": null,
   "metadata": {
    "id": "kAkiUk_7ammT"
   },
   "outputs": [],
   "source": [
    "# Retrieve the weights and biases\n",
    "\n",
    "W0_layers = get_weights(model)\n",
    "b0_layers = get_biases(model)"
   ]
  },
  {
   "cell_type": "code",
   "execution_count": null,
   "metadata": {
    "id": "PdUPOrLkammV"
   },
   "outputs": [],
   "source": [
    "# Construct a synthetic dataset\n",
    "\n",
    "x_train = np.random.random((100, 4))\n",
    "y_train = x_train\n",
    "\n",
    "x_test = np.random.random((20, 4))\n",
    "y_test = x_test"
   ]
  },
  {
   "cell_type": "code",
   "execution_count": null,
   "metadata": {
    "id": "crmmxodYammY"
   },
   "outputs": [],
   "source": [
    "# Compile and fit the model\n",
    "\n",
    "model.compile(optimizer='adam',\n",
    "    loss='mse', metrics=['acc'])\n",
    "\n",
    "model.fit(x_train, y_train, epochs=50, verbose=False);"
   ]
  },
  {
   "cell_type": "code",
   "execution_count": null,
   "metadata": {
    "id": "0egXAGAIamma"
   },
   "outputs": [],
   "source": [
    "# Retrieve weights and biases\n",
    "\n",
    "W1_layers = get_weights(model)\n",
    "b1_layers = get_biases(model)"
   ]
  },
  {
   "cell_type": "code",
   "execution_count": null,
   "metadata": {
    "colab": {
     "base_uri": "https://localhost:8080/",
     "height": 555
    },
    "id": "oXutEvDDammg",
    "outputId": "0ee03890-ac5c-47ac-da5f-72285101411a",
    "scrolled": true,
    "tags": []
   },
   "outputs": [],
   "source": [
    "# Plot the variation\n",
    "\n",
    "plot_delta_weights(W0_layers, W1_layers, b0_layers, b1_layers)"
   ]
  },
  {
   "cell_type": "markdown",
   "metadata": {
    "id": "Dvd-eySfammi"
   },
   "source": [
    "#### Freeze layers at build time"
   ]
  },
  {
   "cell_type": "code",
   "execution_count": null,
   "metadata": {
    "id": "Xwhw8VtOammj"
   },
   "outputs": [],
   "source": [
    "# Count the trainable and non trainable variables before the freezing\n",
    "\n",
    "n_trainable_variables = len(model.trainable_variables)\n",
    "n_non_trainable_variables = len(model.non_trainable_variables)"
   ]
  },
  {
   "cell_type": "code",
   "execution_count": null,
   "metadata": {
    "colab": {
     "base_uri": "https://localhost:8080/"
    },
    "id": "r5kUtu-cammk",
    "outputId": "bbb4c91b-0216-463d-ab33-18e7b883eefd",
    "scrolled": true,
    "tags": []
   },
   "outputs": [],
   "source": [
    "# Display the number of trainable and non trainable variables before the freezing\n",
    "\n",
    "print(\"\\n Before freezing:\\n\\t Number of trainable variables: \", n_trainable_variables,\n",
    "    \"\\n\\t Number of non trainable variables: \", n_non_trainable_variables)"
   ]
  },
  {
   "cell_type": "code",
   "execution_count": null,
   "metadata": {
    "id": "eyiLMHbyammn"
   },
   "outputs": [],
   "source": [
    "# Build the model\n",
    "\n",
    "model = Sequential([\n",
    "    layers.Dense(4, input_shape=(4,), activation='relu', \n",
    "        kernel_initializer='random_uniform', bias_initializer='ones',\n",
    "        trainable=False),\n",
    "    layers.Dense(2, activation='relu', \n",
    "        kernel_initializer='lecun_normal', bias_initializer='ones'),\n",
    "    layers.Dense(4, activation='softmax')\n",
    "])"
   ]
  },
  {
   "cell_type": "code",
   "execution_count": null,
   "metadata": {
    "id": "5jiNFk32ammp"
   },
   "outputs": [],
   "source": [
    "# Count the trainable and non trainable variables after the freezing\n",
    "\n",
    "n_trainable_variables = len(model.trainable_variables)\n",
    "n_non_trainable_variables = len(model.non_trainable_variables)"
   ]
  },
  {
   "cell_type": "code",
   "execution_count": null,
   "metadata": {
    "colab": {
     "base_uri": "https://localhost:8080/"
    },
    "id": "XOAOg9Efamms",
    "outputId": "5ad8b2ac-bcfb-4669-e49a-84d26a8bb371",
    "scrolled": true,
    "tags": []
   },
   "outputs": [],
   "source": [
    "# Display the number of trainable and non trainable variables after \n",
    "# the freezing\n",
    "\n",
    "print(\"\\n After freezing:\\n\\t Number of trainable variables: \", n_trainable_variables,\n",
    "    \"\\n\\t Number of non trainable variables: \", n_non_trainable_variables)"
   ]
  },
  {
   "cell_type": "code",
   "execution_count": null,
   "metadata": {
    "id": "g7M0zRIiammw"
   },
   "outputs": [],
   "source": [
    "# Retrieve weights and biases\n",
    "\n",
    "W0_layers = get_weights(model)\n",
    "b0_layers = get_biases(model)"
   ]
  },
  {
   "cell_type": "code",
   "execution_count": null,
   "metadata": {
    "id": "vw3PqoGJammz"
   },
   "outputs": [],
   "source": [
    "# Compile and fit the model\n",
    "\n",
    "model.compile(optimizer='adam',\n",
    "    loss='mse', metrics=['acc'])\n",
    "\n",
    "model.fit(x_train, y_train, epochs=50, verbose=False);"
   ]
  },
  {
   "cell_type": "code",
   "execution_count": null,
   "metadata": {
    "id": "iztIIUHNamm1"
   },
   "outputs": [],
   "source": [
    "# Retrieve weights and biases\n",
    "\n",
    "W1_layers = get_weights(model)\n",
    "b1_layers = get_biases(model)"
   ]
  },
  {
   "cell_type": "code",
   "execution_count": null,
   "metadata": {
    "colab": {
     "base_uri": "https://localhost:8080/",
     "height": 555
    },
    "id": "fOD-DEMIamm3",
    "outputId": "90a644eb-d3b6-45b4-a0a1-9fb3b507b4cd",
    "scrolled": true,
    "tags": []
   },
   "outputs": [],
   "source": [
    "# Plot the variation\n",
    "\n",
    "plot_delta_weights(W0_layers, W1_layers, b0_layers, b1_layers)"
   ]
  },
  {
   "cell_type": "markdown",
   "metadata": {
    "id": "3-tyHYtuamm5"
   },
   "source": [
    "#### Freeze layers of a pre-built model"
   ]
  },
  {
   "cell_type": "code",
   "execution_count": null,
   "metadata": {
    "colab": {
     "base_uri": "https://localhost:8080/"
    },
    "id": "gIQ4j4NGamm5",
    "outputId": "dbe24586-1548-4a3b-9a9c-588621630ef6",
    "scrolled": true,
    "tags": []
   },
   "outputs": [],
   "source": [
    "# Count the trainable and non trainable variables before the freezing\n",
    "\n",
    "print(\"\\n Before freezing:\\n\\t Number of trainable variables: \", \n",
    "    len(model.trainable_variables), \"\\n\\t Number of non trainable variables: \", \n",
    "    len(model.non_trainable_variables))"
   ]
  },
  {
   "cell_type": "code",
   "execution_count": null,
   "metadata": {
    "id": "pxonVZsoamm7"
   },
   "outputs": [],
   "source": [
    "# Freeze the second layer\n",
    "\n",
    "model.layers[1].trainable = False"
   ]
  },
  {
   "cell_type": "code",
   "execution_count": null,
   "metadata": {
    "colab": {
     "base_uri": "https://localhost:8080/"
    },
    "id": "5qZDvXSJamm9",
    "outputId": "6ff8e13f-c1df-45f3-f77e-c5526ad52987",
    "scrolled": true,
    "tags": []
   },
   "outputs": [],
   "source": [
    "# Count the trainable and non trainable variables after the freezing\n",
    "\n",
    "print(\"\\n After freezing:\\n\\t Number of trainable variables: \", \n",
    "    len(model.trainable_variables), \"\\n\\t Number of non trainable variables: \", \n",
    "    len(model.non_trainable_variables))"
   ]
  },
  {
   "cell_type": "code",
   "execution_count": null,
   "metadata": {
    "id": "lPCdjqCUamm-"
   },
   "outputs": [],
   "source": [
    "# Compile and fit the model\n",
    "\n",
    "model.compile(optimizer='adam',\n",
    "    loss='mse', metrics=['acc'])\n",
    "\n",
    "model.fit(x_train, y_train, epochs=50, verbose=False);"
   ]
  },
  {
   "cell_type": "code",
   "execution_count": null,
   "metadata": {
    "id": "zK7AzJd7amnB"
   },
   "outputs": [],
   "source": [
    "# Retrieve weights and biases\n",
    "\n",
    "W2_layers = get_weights(model)\n",
    "b2_layers = get_biases(model)"
   ]
  },
  {
   "cell_type": "code",
   "execution_count": null,
   "metadata": {
    "colab": {
     "base_uri": "https://localhost:8080/",
     "height": 555
    },
    "id": "l0cloyxaamnD",
    "outputId": "7a0ba33c-40df-4870-b1aa-c77e3879d815",
    "scrolled": true,
    "tags": []
   },
   "outputs": [],
   "source": [
    "# Plot the variation\n",
    "\n",
    "plot_delta_weights(W1_layers, W2_layers, b1_layers, b2_layers)"
   ]
  }
 ],
 "metadata": {
  "accelerator": "GPU",
  "colab": {
   "include_colab_link": true,
   "name": "Keras_functional_API.ipynb",
   "provenance": []
  },
  "kernelspec": {
   "display_name": "Python 3 (ipykernel)",
   "language": "python",
   "name": "python3"
  },
  "language_info": {
   "codemirror_mode": {
    "name": "ipython",
    "version": 3
   },
   "file_extension": ".py",
   "mimetype": "text/x-python",
   "name": "python",
   "nbconvert_exporter": "python",
   "pygments_lexer": "ipython3",
   "version": "3.8.10"
  }
 },
 "nbformat": 4,
 "nbformat_minor": 4
}
