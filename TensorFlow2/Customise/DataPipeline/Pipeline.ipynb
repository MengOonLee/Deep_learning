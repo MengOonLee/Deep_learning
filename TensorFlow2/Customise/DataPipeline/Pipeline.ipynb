{
  "cells": [
    {
      "cell_type": "markdown",
      "metadata": {
        "id": "view-in-github",
        "colab_type": "text"
      },
      "source": [
        "<a href=\"https://colab.research.google.com/github/MengOonLee/Deep_learning/blob/master/TensorFlow2/Customise/DataPipeline/Pipeline.ipynb\" target=\"_parent\"><img src=\"https://colab.research.google.com/assets/colab-badge.svg\" alt=\"Open In Colab\"/></a>"
      ]
    },
    {
      "cell_type": "markdown",
      "metadata": {
        "id": "xwp-WlWbhZ__"
      },
      "source": [
        "# Data Pipeline"
      ]
    },
    {
      "cell_type": "markdown",
      "metadata": {
        "id": "4cBJq_RLhaAB"
      },
      "source": [
        " ## Coding tutorials\n",
        " #### [1. Keras datasets](#coding_tutorial_1)\n",
        " #### [2. Dataset generators](#coding_tutorial_2)\n",
        " #### [3. Keras image data augmentation](#coding_tutorial_3)\n",
        " #### [4. The Dataset class](#coding_tutorial_4)\n",
        " #### [5. Training with Datasets](#coding_tutorial_5)"
      ]
    },
    {
      "cell_type": "markdown",
      "metadata": {
        "id": "PWJ8FsVQhaAE"
      },
      "source": [
        "***\n",
        "<a id=\"coding_tutorial_1\"></a>\n",
        "## Keras datasets\n",
        "\n",
        "For a list of Keras datasets and documentation on recommended usage, see [this link](https://keras.io/datasets/)."
      ]
    },
    {
      "cell_type": "markdown",
      "metadata": {
        "id": "AgnvqE4bhaAM"
      },
      "source": [
        "#### Load the CIFAR-100 Dataset"
      ]
    },
    {
      "cell_type": "code",
      "execution_count": null,
      "metadata": {
        "id": "UvgpO_ithaAS",
        "tags": [],
        "outputId": "e45f0cda-513b-4743-852b-273f25ba45b9",
        "colab": {
          "base_uri": "https://localhost:8080/"
        }
      },
      "outputs": [
        {
          "output_type": "stream",
          "name": "stdout",
          "text": [
            "Downloading data from https://www.cs.toronto.edu/~kriz/cifar-100-python.tar.gz\n",
            "169001437/169001437 [==============================] - 2s 0us/step\n",
            "(TensorSpec(shape=(32, 32, 3), dtype=tf.uint8, name=None), TensorSpec(shape=(1,), dtype=tf.int64, name=None))\n"
          ]
        }
      ],
      "source": [
        "import tensorflow as tf\n",
        "tf.keras.utils.set_random_seed(seed=42)\n",
        "tf.get_logger().setLevel(\"ERROR\")\n",
        "\n",
        "# Load the CIFAR-100 dataset\n",
        "(train_images, train_labels), (test_images, test_labels) = \\\n",
        "    tf.keras.datasets.cifar100.load_data(label_mode=\"fine\")\n",
        "\n",
        "dataset = tf.data.Dataset.from_tensor_slices(\n",
        "    tensors=(train_images, train_labels))\n",
        "\n",
        "# Inspect the dataset.\n",
        "print(dataset.element_spec)"
      ]
    },
    {
      "cell_type": "markdown",
      "metadata": {
        "id": "Rf61wNi8haAg"
      },
      "source": [
        "#### Examine the Dataset"
      ]
    },
    {
      "cell_type": "markdown",
      "metadata": {
        "id": "638jOdbUhaAu"
      },
      "source": [
        "The list of labels for the CIFAR-100 dataset are available [here](https://www.cs.toronto.edu/~kriz/cifar.html)."
      ]
    },
    {
      "cell_type": "code",
      "execution_count": null,
      "metadata": {
        "id": "CaZS2ZqRhaAp",
        "outputId": "cae63ad2-7be0-49aa-c4de-ea945fe7bb8b",
        "colab": {
          "base_uri": "https://localhost:8080/",
          "height": 301
        }
      },
      "outputs": [
        {
          "output_type": "display_data",
          "data": {
            "text/plain": [
              "<Figure size 1000x1000 with 3 Axes>"
            ],
            "image/png": "[encoded data removed]"
          },
          "metadata": {}
        }
      ],
      "source": [
        "import os\n",
        "import json\n",
        "%matplotlib inline\n",
        "import matplotlib.pyplot as plt\n",
        "import tensorflow as tf\n",
        "tf.keras.utils.set_random_seed(seed=42)\n",
        "tf.get_logger().setLevel(\"ERROR\")\n",
        "\n",
        "os.makedirs(\"./data\", exist_ok=True)\n",
        "\n",
        "# Load the list of labels from a JSON file\n",
        "with open(\"./data/cifar100_fine_labels.json\", \"r\") as fine_labels:\n",
        "    cifar100_fine_labels = json.load(fine_labels)\n",
        "\n",
        "# Display a few examples\n",
        "fig, axes = plt.subplots(nrows=1, ncols=3, figsize=(10, 10))\n",
        "fig.subplots_adjust(hspace=0.2, wspace=0.1)\n",
        "\n",
        "for (elem, ax) in zip(dataset, axes.flat):\n",
        "    image, label = elem[0], tf.squeeze(input=elem[1])\n",
        "    ax.imshow(X=image)\n",
        "    ax.set_title(label=cifar100_fine_labels[label])\n",
        "    ax.axis(\"off\")\n",
        "plt.show()"
      ]
    },
    {
      "cell_type": "markdown",
      "metadata": {
        "id": "7sa08-SVhaBY"
      },
      "source": [
        "#### Load the IMDB Dataset"
      ]
    },
    {
      "cell_type": "code",
      "execution_count": null,
      "metadata": {
        "id": "Jm1b7aw6haBb"
      },
      "outputs": [],
      "source": [
        "import numpy as np\n",
        "import tensorflow as tf\n",
        "tf.keras.utils.set_random_seed(seed=42)\n",
        "tf.get_logger().setLevel(\"ERROR\")\n",
        "\n",
        "# Load the IMDB dataset\n",
        "(train_data, train_labels), (test_data, test_labels) = \\\n",
        "    tf.keras.datasets.imdb.load_data()\n",
        "\n",
        "# dataset = tf.data.Dataset.from_tensor_slices(\n",
        "#     tensors=(train_data, train_labels))\n",
        "\n",
        "# # Inspect the dataset\n",
        "# print(dataset.element_spec)\n",
        "\n",
        "# Print the shape of the training dataset, along with its corresponding label\n",
        "print(f\"train data shape: {train_data.shape}\")\n",
        "print(f\"train labels shape: {train_labels.shape}\")\n",
        "\n",
        "train_data[0]\n",
        "# # Get the lengths of the input sequences\n",
        "# sequence_lengths = [len(seq) for seq in train_data]\n",
        "\n",
        "# # Determine the maximum and minimum sequence length\n",
        "# print(f\"Max sequence length: {np.max(sequence_lengths)}\")\n",
        "# print(f\"Min sequence length: {np.min(sequence_lengths)}\")"
      ]
    },
    {
      "cell_type": "markdown",
      "metadata": {
        "id": "q76xgLEHhaBt"
      },
      "source": [
        "#### Using Keyword Arguments"
      ]
    },
    {
      "cell_type": "code",
      "execution_count": null,
      "metadata": {
        "id": "seXXALxPhaBu"
      },
      "outputs": [],
      "source": [
        "import numpy as np\n",
        "import tensorflow as tf\n",
        "tf.keras.utils.set_random_seed(seed=42)\n",
        "tf.get_logger().setLevel(\"ERROR\")\n",
        "\n",
        "# Load the data ignoring the 50 most frequent words,\n",
        "# use oov_char=2 (this is the default)\n",
        "(train_data, train_labels), (test_data, test_labels) = \\\n",
        "    tf.keras.datasets.imdb.load_data(skip_top=50, oov_char=2)\n",
        "\n",
        "print(f\"train data shape: {train_data.shape}\")\n",
        "print(f\"train labels shape: {train_labels.shape}\")\n",
        "\n",
        "# Get the lengths of the input sequences\n",
        "sequence_lengths = [len(seq) for seq in train_data]\n",
        "\n",
        "# Determine the maximum and minimum sequence length\n",
        "print(f\"Max sequence length: {np.max(sequence_lengths)}\")\n",
        "print(f\"Min sequence length: {np.min(sequence_lengths)}\")"
      ]
    },
    {
      "cell_type": "code",
      "execution_count": null,
      "metadata": {
        "id": "bVAxwvpNhaB5"
      },
      "outputs": [],
      "source": [
        "import numpy as np\n",
        "\n",
        "# Define functions for filtering the sequences\n",
        "def remove_oov_char(element):\n",
        "    \"\"\" Filter function for removing the oov_char. \"\"\"\n",
        "    return [word for word in element if word!=2]\n",
        "\n",
        "def filter_list(lst):\n",
        "    \"\"\" Run remove_oov_char on elements in a list. \"\"\"\n",
        "    return [remove_oov_char(element) for element in lst]\n",
        "\n",
        "# Remove the oov_char from the sequences using the filter_list function\n",
        "train_data = filter_list(train_data)\n",
        "\n",
        "# Get the lengths of the input sequences\n",
        "sequence_lengths = [len(seq) for seq in train_data]\n",
        "\n",
        "# Determine the maximum and minimum sequence length\n",
        "print(f\"Max sequence length: {np.max(sequence_lengths)}\")\n",
        "print(f\"Min sequence length: {np.min(sequence_lengths)}\")"
      ]
    },
    {
      "cell_type": "markdown",
      "metadata": {
        "id": "9jdrQ2I6haCG"
      },
      "source": [
        "***\n",
        "<a id=\"coding_tutorial_2\"></a>\n",
        "## Dataset generators"
      ]
    },
    {
      "cell_type": "code",
      "execution_count": null,
      "metadata": {
        "id": "Li0tJhkQhaCH"
      },
      "outputs": [],
      "source": [
        "def text_file_reader(filepath):\n",
        "    with open(filepath, 'r') as f:\n",
        "        for row in f:\n",
        "            yield row\n",
        "\n",
        "text_datagen = text_file_reader('data_file.txt')\n",
        "\n",
        "next(text_datagen) # 'A line of text\\n'\n",
        "next(text_datagen) # 'Another line of text\\n'"
      ]
    },
    {
      "cell_type": "code",
      "execution_count": null,
      "metadata": {
        "id": "LFE86mgluqYX",
        "tags": []
      },
      "outputs": [],
      "source": [
        "import numpy as np\n",
        "\n",
        "def get_data(batch_size):\n",
        "    while True:\n",
        "        y_train = np.random.choice([0, 1], (batch_size, 1))\n",
        "        x_train = np.random.randn(batch_size, 1) + (2 * y_train - 1)\n",
        "        yield x_train, y_train\n",
        "\n",
        "datagen = get_data(32)\n",
        "\n",
        "x, y = next(datagen)\n",
        "print(f\"x train shape: {x.shape}\")\n",
        "print(f\"y train shape: {y.shape}\")"
      ]
    },
    {
      "cell_type": "code",
      "execution_count": null,
      "metadata": {
        "id": "TEHNIf43VrMY",
        "scrolled": true,
        "tags": []
      },
      "outputs": [],
      "source": [
        "model = tf.keras.Sequential(\n",
        "    tf.keras.layers.Dense(units=1, activation='sigmoid')\n",
        ")\n",
        "model.compile(\n",
        "    loss=tf.keras.losses.BinaryCrossentropy(),\n",
        "    optimizer=tf.keras.optimizers.SGD()\n",
        ")\n",
        "history = model.fit(datagen,\n",
        "    steps_per_epoch=1000, epochs=10,\n",
        "    verbose=0\n",
        ")\n",
        "\n",
        "fig = plt.figure(figsize=(12, 4))\n",
        "ax = fig.add_subplot(111)\n",
        "ax.plot(history.epoch, history.history['loss'], label='Train')\n",
        "ax.set_title('Loss vs. Epoch')\n",
        "ax.set_ylabel('Loss')\n",
        "ax.set_xlabel('Epoch')\n",
        "ax.legend()\n",
        "plt.show()\n",
        "\n",
        "datagen_eval = get_data(32)\n",
        "model.evaluate(datagen_eval, steps=100, verbose=2)\n",
        "\n",
        "datagen_test = get_data(32)\n",
        "model.predict(datagen_test, steps=100, verbose=2)"
      ]
    },
    {
      "cell_type": "code",
      "execution_count": null,
      "metadata": {
        "id": "4fKVUVRGc_my"
      },
      "outputs": [],
      "source": [
        "model = tf.keras.Sequential(\n",
        "    tf.keras.layers.Dense(units=1, activation='sigmoid')\n",
        ")\n",
        "model.compile(\n",
        "    loss=tf.keras.losses.BinaryCrossentropy(),\n",
        "    optimizer=tf.keras.optimizers.SGD()\n",
        ")\n",
        "\n",
        "losses = []\n",
        "for _ in range(10000):\n",
        "    x_train, y_train = next(datagen)\n",
        "    loss = model.train_on_batch(x=x_train, y=y_train)\n",
        "    losses.append(loss)\n",
        "\n",
        "fig = plt.figure(figsize=(12, 4))\n",
        "ax = fig.add_subplot(111)\n",
        "ax.plot(losses, label='Train')\n",
        "ax.set_title('Loss vs. Batch')\n",
        "ax.set_ylabel('Loss')\n",
        "ax.set_xlabel('Batch')\n",
        "ax.legend()\n",
        "plt.show()"
      ]
    },
    {
      "cell_type": "markdown",
      "metadata": {
        "id": "-GVfDxrvhaCK"
      },
      "source": [
        "#### Load the UCI Fertility Dataset\n",
        "\n",
        "We will be using a dataset available at https://archive.ics.uci.edu/ml/datasets/Fertility from UC Irvine."
      ]
    },
    {
      "cell_type": "code",
      "execution_count": null,
      "metadata": {
        "id": "cH5sTyYUbfic"
      },
      "outputs": [],
      "source": [
        "os.makedirs('./data', exist_ok=True)"
      ]
    },
    {
      "cell_type": "code",
      "execution_count": null,
      "metadata": {
        "id": "XIlGWFwohaCL"
      },
      "outputs": [],
      "source": [
        "# Load the fertility dataset\n",
        "\n",
        "headers = ['Season', 'Age', 'Diseases', 'Trauma', 'Surgery', 'Fever',\n",
        "    'Alcohol', 'Smoking', 'Sitting', 'Output']\n",
        "fertility = pd.read_csv('./data/fertility_diagnosis.txt', delimiter=',',\n",
        "    header=None, names=headers)"
      ]
    },
    {
      "cell_type": "code",
      "execution_count": null,
      "metadata": {
        "id": "0ynOs8o8haCO"
      },
      "outputs": [],
      "source": [
        "# Print the shape of the DataFrame\n",
        "\n",
        "print(fertility.shape)"
      ]
    },
    {
      "cell_type": "code",
      "execution_count": null,
      "metadata": {
        "id": "M9xM_0JhhaCR"
      },
      "outputs": [],
      "source": [
        "# Show the head of the DataFrame\n",
        "\n",
        "fertility.head()"
      ]
    },
    {
      "cell_type": "markdown",
      "metadata": {
        "id": "kpewphL7haCX"
      },
      "source": [
        "#### Process the data"
      ]
    },
    {
      "cell_type": "code",
      "execution_count": null,
      "metadata": {
        "id": "AaKHnUrfhaCY"
      },
      "outputs": [],
      "source": [
        "# Map the 'Output' feature from 'N' to 0 and from 'O' to 1\n",
        "\n",
        "fertility['Output'] = fertility['Output'].map(lambda x : 0.0 if x=='N' else 1.0)"
      ]
    },
    {
      "cell_type": "code",
      "execution_count": null,
      "metadata": {
        "id": "l2wRf1ufhaCc"
      },
      "outputs": [],
      "source": [
        "# Show the head of the DataFrame\n",
        "\n",
        "fertility.head()"
      ]
    },
    {
      "cell_type": "code",
      "execution_count": null,
      "metadata": {
        "id": "AXVN-S0NhaCh"
      },
      "outputs": [],
      "source": [
        "# Convert the DataFrame so that the features are mapped to floats\n",
        "\n",
        "fertility = fertility.astype('float32')"
      ]
    },
    {
      "cell_type": "code",
      "execution_count": null,
      "metadata": {
        "id": "ZyqlEHm8haCj"
      },
      "outputs": [],
      "source": [
        "# Shuffle the DataFrame\n",
        "\n",
        "fertility = fertility.sample(frac=1).reset_index(drop=True)"
      ]
    },
    {
      "cell_type": "code",
      "execution_count": null,
      "metadata": {
        "id": "ZwQxZk0thaCl",
        "tags": []
      },
      "outputs": [],
      "source": [
        "# Show the head of the DataFrame\n",
        "\n",
        "fertility.head()"
      ]
    },
    {
      "cell_type": "code",
      "execution_count": null,
      "metadata": {
        "id": "nRJDa_FNhaCp"
      },
      "outputs": [],
      "source": [
        "# Convert the field Season to a one-hot encoded vector\n",
        "\n",
        "fertility = pd.get_dummies(fertility, prefix='Season', columns=['Season'])"
      ]
    },
    {
      "cell_type": "code",
      "execution_count": null,
      "metadata": {
        "id": "69RqZRfhhaCr"
      },
      "outputs": [],
      "source": [
        "# Show the head of the DataFrame\n",
        "\n",
        "fertility.head()"
      ]
    },
    {
      "cell_type": "code",
      "execution_count": null,
      "metadata": {
        "id": "1zB6FM2EhaCt"
      },
      "outputs": [],
      "source": [
        "# Move the Output column such that it is the last column in the DataFrame\n",
        "\n",
        "fertility.columns = [col for col in fertility.columns if col != 'Output'] + ['Output']"
      ]
    },
    {
      "cell_type": "code",
      "execution_count": null,
      "metadata": {
        "id": "GMivX3lGhaCw"
      },
      "outputs": [],
      "source": [
        "# Show the head of the DataFrame\n",
        "\n",
        "fertility.head()"
      ]
    },
    {
      "cell_type": "code",
      "execution_count": null,
      "metadata": {
        "id": "BhZ1-N2ihaCz"
      },
      "outputs": [],
      "source": [
        "# Convert the DataFrame to a numpy array.\n",
        "\n",
        "fertility = fertility.to_numpy()\n",
        "fertility"
      ]
    },
    {
      "cell_type": "markdown",
      "metadata": {
        "id": "5qaw2BjYhaC1"
      },
      "source": [
        "#### Split the Data"
      ]
    },
    {
      "cell_type": "code",
      "execution_count": null,
      "metadata": {
        "id": "e612AYyahaC3"
      },
      "outputs": [],
      "source": [
        "# Split the dataset into training and validation set\n",
        "\n",
        "training = fertility[0:70]\n",
        "validation = fertility[70:100]"
      ]
    },
    {
      "cell_type": "code",
      "execution_count": null,
      "metadata": {
        "id": "Z8vBQHLqhaC7"
      },
      "outputs": [],
      "source": [
        "# Verify the shape of the training data\n",
        "\n",
        "print(training.shape)\n",
        "print(validation.shape)"
      ]
    },
    {
      "cell_type": "code",
      "execution_count": null,
      "metadata": {
        "id": "0GlYDYVohaC9"
      },
      "outputs": [],
      "source": [
        "# Separate the features and labels for the validation and training data\n",
        "\n",
        "training_features = training[:,0:-1]\n",
        "training_labels = training[:,-1]\n",
        "validation_features = validation[:,0:-1]\n",
        "validation_labels = validation[:,-1]"
      ]
    },
    {
      "cell_type": "markdown",
      "metadata": {
        "id": "ttEpRpcwhaC_"
      },
      "source": [
        "#### Create the Generator"
      ]
    },
    {
      "cell_type": "code",
      "execution_count": null,
      "metadata": {
        "id": "lSjVXicihaC_"
      },
      "outputs": [],
      "source": [
        "# Create a function that returns a generator producing inputs and labels\n",
        "\n",
        "def get_generator(features, labels, batch_size=1):\n",
        "    for n in range(int(len(features)/batch_size)):\n",
        "        yield (\n",
        "            features[n*batch_size: (n+1)*batch_size],\n",
        "            labels[n*batch_size: (n+1)*batch_size]\n",
        "        )"
      ]
    },
    {
      "cell_type": "code",
      "execution_count": null,
      "metadata": {
        "id": "VMiEgHFuhaDC"
      },
      "outputs": [],
      "source": [
        "# Apply the function to our training features and labels with a batch size of 10\n",
        "\n",
        "train_generator = get_generator(training_features, training_labels, batch_size=10)"
      ]
    },
    {
      "cell_type": "code",
      "execution_count": null,
      "metadata": {
        "id": "3qqfSAXWhaDG",
        "tags": []
      },
      "outputs": [],
      "source": [
        "# Test the generator using the next() function\n",
        "\n",
        "x, y = next(train_generator)\n",
        "print(f\"x train shape: {x.shape}\")\n",
        "print(f\"y train shape: {y.shape}\")"
      ]
    },
    {
      "cell_type": "markdown",
      "metadata": {
        "id": "rm2ffnGVhaDJ"
      },
      "source": [
        "#### Build the model"
      ]
    },
    {
      "cell_type": "code",
      "execution_count": null,
      "metadata": {
        "id": "Tr6Du-4KhaDJ"
      },
      "outputs": [],
      "source": [
        "# Create a model using Keras with 3 layers\n",
        "\n",
        "input_shape = (12,)\n",
        "output_shape = (1,)\n",
        "\n",
        "def get_model(\n",
        "    input_shape=input_shape,\n",
        "    output_shape=output_shape\n",
        "):\n",
        "    model_input = tf.keras.Input(shape=input_shape)\n",
        "    batch_1 = tf.keras.layers.BatchNormalization(momentum=0.8)(model_input)\n",
        "    dense_1 = tf.keras.layers.Dense(units=100, activation='relu')(batch_1)\n",
        "    batch_2 = tf.keras.layers.BatchNormalization(momentum=0.8)(dense_1)\n",
        "    output = tf.keras.layers.Dense(units=1, activation='sigmoid')(batch_2)\n",
        "\n",
        "    model = tf.keras.Model(inputs=model_input, outputs=output)\n",
        "\n",
        "    return model"
      ]
    },
    {
      "cell_type": "code",
      "execution_count": null,
      "metadata": {
        "id": "IfgcKE8UhaDN",
        "tags": []
      },
      "outputs": [],
      "source": [
        "# Display the model summary to show the resultant structure\n",
        "\n",
        "model = get_model()\n",
        "model.summary()"
      ]
    },
    {
      "cell_type": "markdown",
      "metadata": {
        "id": "kUYrDLaAhaDY"
      },
      "source": [
        "#### Compile the model"
      ]
    },
    {
      "cell_type": "code",
      "execution_count": null,
      "metadata": {
        "id": "t2Fn78YchaDb"
      },
      "outputs": [],
      "source": [
        "# Compile the model with optimizer object, loss function and metric\n",
        "\n",
        "def compile_model(model):\n",
        "    model.compile(\n",
        "        optimizer=tf.keras.optimizers.Adam(learning_rate=1e-2),\n",
        "        loss=tf.keras.losses.BinaryCrossentropy(),\n",
        "        metrics=[tf.keras.metrics.BinaryAccuracy()])"
      ]
    },
    {
      "cell_type": "markdown",
      "metadata": {
        "id": "09uEqTpEhaDg"
      },
      "source": [
        "#### Train and evaluate the model using the generator"
      ]
    },
    {
      "cell_type": "code",
      "execution_count": null,
      "metadata": {
        "id": "gXwGCGeIhaDh"
      },
      "outputs": [],
      "source": [
        "# Calculate the number of training steps per epoch for the given batch size.\n",
        "\n",
        "batch_size = 5\n",
        "train_steps = len(training) // batch_size\n",
        "print(f\"train steps: {train_steps:0d}\")"
      ]
    },
    {
      "cell_type": "code",
      "execution_count": null,
      "metadata": {
        "id": "rszYL-_EhaDj"
      },
      "outputs": [],
      "source": [
        "# Set the epochs to 3\n",
        "\n",
        "epochs = 3"
      ]
    },
    {
      "cell_type": "code",
      "execution_count": null,
      "metadata": {
        "id": "u0iYqScZhaDm",
        "tags": []
      },
      "outputs": [],
      "source": [
        "# Train the model\n",
        "\n",
        "model = get_model()\n",
        "compile_model(model)\n",
        "\n",
        "dfs_history = []\n",
        "for epoch in range(epochs):\n",
        "    train_generator = get_generator(training_features,\n",
        "        training_labels, batch_size=batch_size)\n",
        "    validation_generator = get_generator(validation_features,\n",
        "        validation_labels, batch_size=30)\n",
        "    history = model.fit(train_generator, steps_per_epoch=train_steps,\n",
        "        validation_data=validation_generator, validation_steps=1,\n",
        "        verbose=2)\n",
        "    dfs_history.append(pd.DataFrame(history.history))\n",
        "\n",
        "df_history = pd.concat(dfs_history)\\\n",
        "    .reset_index().drop(labels='index', axis=1)\n",
        "fig, axes = plt.subplots(nrows=1, ncols=2, figsize=(15, 5))\n",
        "for ax, metric in zip(axes, ['loss', 'binary_accuracy']):\n",
        "    sns.lineplot(ax=ax, data=df_history,\n",
        "        x=df_history.index+1, y=metric, label='train')\n",
        "    try:\n",
        "        sns.lineplot(ax=ax, data=df_history,\n",
        "            x=df_history.index+1, y=f'val_{metric}', label='valid')\n",
        "    except Exception:\n",
        "        pass\n",
        "    ax.legend(loc='best')\n",
        "    ax.set_xlabel('epoch')\n",
        "    ax.set_ylabel(f'{metric}')\n",
        "    ax.set_title(f'{metric} vs. epoch')\n",
        "fig.tight_layout()\n",
        "plt.show()"
      ]
    },
    {
      "cell_type": "code",
      "execution_count": null,
      "metadata": {
        "id": "P0kQUErOhaDn",
        "scrolled": true,
        "tags": [],
        "collapsed": true
      },
      "outputs": [],
      "source": [
        "# Try to run the fit_generator function once more; observe what happens\n",
        "\n",
        "model = get_model()\n",
        "compile_model(model)\n",
        "\n",
        "model.fit(train_generator, steps_per_epoch=train_steps,\n",
        "    validation_data=validation_generator, validation_steps=1,\n",
        "    verbose=2)"
      ]
    },
    {
      "cell_type": "markdown",
      "metadata": {
        "id": "3-fqtd11haDq"
      },
      "source": [
        "#### Make an infinitely looping generator"
      ]
    },
    {
      "cell_type": "code",
      "execution_count": null,
      "metadata": {
        "id": "EMVW0cn6haDr"
      },
      "outputs": [],
      "source": [
        "# Create a function that returns an infinitely looping generator\n",
        "\n",
        "def get_generator_cyclic(features, labels, batch_size=1):\n",
        "    while True:\n",
        "        for n in range(int(len(features)/batch_size)):\n",
        "            yield (\n",
        "                features[n*batch_size: (n+1)*batch_size],\n",
        "                labels[n*batch_size: (n+1)*batch_size]\n",
        "            )\n",
        "        permuted = np.random.permutation(len(features))\n",
        "        features = features[permuted]\n",
        "        labels = labels[permuted]"
      ]
    },
    {
      "cell_type": "code",
      "execution_count": null,
      "metadata": {
        "id": "SlWgTbiMhaDv"
      },
      "outputs": [],
      "source": [
        "# Create a generator using this function.\n",
        "\n",
        "train_generator_cyclic = get_generator_cyclic(\n",
        "    training_features, training_labels, batch_size=batch_size)"
      ]
    },
    {
      "cell_type": "code",
      "execution_count": null,
      "metadata": {
        "id": "eLH7308FhaDz",
        "scrolled": true,
        "tags": []
      },
      "outputs": [],
      "source": [
        "# Assert that the new cyclic generator does not raise a StopIteration\n",
        "\n",
        "for i in range(2*train_steps):\n",
        "    x, y = next(train_generator_cyclic)\n",
        "    print(f\"{i}, x shape: {x.shape}, y shape: {y.shape}\")"
      ]
    },
    {
      "cell_type": "code",
      "execution_count": null,
      "metadata": {
        "id": "pcu6MbjwhaD2"
      },
      "outputs": [],
      "source": [
        "# Generate a cyclic validation generator\n",
        "\n",
        "validation_generator_cyclic = get_generator_cyclic(\n",
        "    validation_features, validation_labels, batch_size=batch_size)"
      ]
    },
    {
      "cell_type": "code",
      "execution_count": null,
      "metadata": {
        "id": "7d-hqzGThaD4",
        "tags": []
      },
      "outputs": [],
      "source": [
        "# Train the model\n",
        "\n",
        "model = get_model()\n",
        "compile_model(model)\n",
        "\n",
        "history = model.fit(train_generator_cyclic, steps_per_epoch=train_steps,\n",
        "    validation_data=validation_generator_cyclic, validation_steps=1,\n",
        "    epochs=3, verbose=2)\n",
        "\n",
        "df_history = pd.DataFrame(history.history,\n",
        "    index=history.epoch)\n",
        "fig, axes = plt.subplots(nrows=1, ncols=2, figsize=(15, 5))\n",
        "for ax, metric in zip(axes, ['loss', 'binary_accuracy']):\n",
        "    sns.lineplot(ax=ax, data=df_history,\n",
        "        x=df_history.index+1, y=metric, label='train')\n",
        "    try:\n",
        "        sns.lineplot(ax=ax, data=df_history,\n",
        "            x=df_history.index+1, y=f'val_{metric}', label='valid')\n",
        "    except Exception:\n",
        "        pass\n",
        "    ax.legend(loc='best')\n",
        "    ax.set_xlabel('epoch')\n",
        "    ax.set_ylabel(f'{metric}')\n",
        "    ax.set_title(f'{metric} vs. epoch')\n",
        "fig.tight_layout()\n",
        "plt.show()"
      ]
    },
    {
      "cell_type": "markdown",
      "metadata": {
        "id": "uX3wHyf-haD7"
      },
      "source": [
        "#### Evaluate the model and get predictions"
      ]
    },
    {
      "cell_type": "code",
      "execution_count": null,
      "metadata": {
        "id": "AZPnBbc4haD7"
      },
      "outputs": [],
      "source": [
        "# Let's obtain a validation data generator.\n",
        "\n",
        "validation_generator_cyclic = get_generator_cyclic(\n",
        "    validation_features, validation_labels, batch_size=30)"
      ]
    },
    {
      "cell_type": "code",
      "execution_count": null,
      "metadata": {
        "id": "OH7FnT8nhaD9"
      },
      "outputs": [],
      "source": [
        "# Get predictions on the validation data\n",
        "\n",
        "predictions = model.predict(validation_generator_cyclic,\n",
        "    steps=1, verbose=0)\n",
        "print(np.round(predictions.T[0]))"
      ]
    },
    {
      "cell_type": "code",
      "execution_count": null,
      "metadata": {
        "id": "MfDxaO80haD_",
        "tags": []
      },
      "outputs": [],
      "source": [
        "# Print the corresponding validation labels\n",
        "\n",
        "print(validation_labels)"
      ]
    },
    {
      "cell_type": "code",
      "execution_count": null,
      "metadata": {
        "id": "EaJi2CvghaEE"
      },
      "outputs": [],
      "source": [
        "# Evaluate the model\n",
        "\n",
        "evaluation = model.evaluate(\n",
        "    validation_generator_cyclic, steps=1, verbose=0)\n",
        "print(evaluation)"
      ]
    },
    {
      "cell_type": "markdown",
      "metadata": {
        "id": "MulkCc1FhaEN"
      },
      "source": [
        "***\n",
        "<a id=\"coding_tutorial_3\"></a>\n",
        "## Keras image data augmentation"
      ]
    },
    {
      "cell_type": "code",
      "execution_count": null,
      "metadata": {
        "id": "o8G8N_88haEQ"
      },
      "outputs": [],
      "source": [
        "(x_train, y_train), (x_test, y_test) = tf.keras.datasets.cifar10.load_data()\n",
        "\n",
        "image_data_gen = tf.keras.preprocessing.image.ImageDataGenerator(\n",
        "    rescale=1/255., horizontal_flip=True, height_shift_range=0.2,\n",
        "    fill_mode='nearest',featurewise_center=True) # aaaa|abcd|dddd\n",
        "\n",
        "image_data_gen.fit(x_train)\n",
        "\n",
        "train_datagen = image_data_gen.flow(\n",
        "    x_train, y_train, batch_size=16)\n",
        "\n",
        "model.fit(train_datagen, epochs=20)"
      ]
    },
    {
      "cell_type": "markdown",
      "metadata": {
        "id": "Awp0hKRDhaER"
      },
      "source": [
        "#### Load the CIFAR-10 Dataset"
      ]
    },
    {
      "cell_type": "code",
      "execution_count": null,
      "metadata": {
        "id": "GOd1YbsJhaEU"
      },
      "outputs": [],
      "source": [
        "# Load the CIFAR-10 dataset\n",
        "\n",
        "(training_features, training_labels), (test_features, test_labels) = \\\n",
        "    tf.keras.datasets.cifar10.load_data()"
      ]
    },
    {
      "cell_type": "code",
      "execution_count": null,
      "metadata": {
        "id": "KsAjqqnjhaEV"
      },
      "outputs": [],
      "source": [
        "# Convert the labels to a one-hot encoding\n",
        "\n",
        "num_classes = 10\n",
        "\n",
        "training_labels = tf.keras.utils.to_categorical(\n",
        "    y=training_labels, num_classes=num_classes)\n",
        "test_labels = tf.keras.utils.to_categorical(\n",
        "    y=test_labels, num_classes=num_classes)"
      ]
    },
    {
      "cell_type": "markdown",
      "metadata": {
        "id": "GNrlxnRlhaEX"
      },
      "source": [
        "#### Create a generator function"
      ]
    },
    {
      "cell_type": "code",
      "execution_count": null,
      "metadata": {
        "id": "Ieho8OrohaEY"
      },
      "outputs": [],
      "source": [
        "# Create a function that returns a data generator\n",
        "\n",
        "def get_generator(features, labels, batch_size=1):\n",
        "    for n in range(int(len(features)/batch_size)):\n",
        "        yield (\n",
        "            features[n*batch_size: (n+1)*batch_size],\n",
        "            labels[n*batch_size: (n+1)*batch_size]\n",
        "        )"
      ]
    },
    {
      "cell_type": "code",
      "execution_count": null,
      "metadata": {
        "id": "4Kk4Z87MhaEa"
      },
      "outputs": [],
      "source": [
        "# Use the function we created to get a training data generator with a batch size of 1\n",
        "\n",
        "training_generator = get_generator(\n",
        "    training_features, training_labels)"
      ]
    },
    {
      "cell_type": "code",
      "execution_count": null,
      "metadata": {
        "id": "uUgGGmjOhaEb"
      },
      "outputs": [],
      "source": [
        "# Assess the shape of the items generated by training_generator using the\n",
        "# `next` function to yield an item.\n",
        "\n",
        "image, label = next(training_generator)\n",
        "print(f\"image shape: {image.shape}\")\n",
        "print(f\"label shape: {label.shape}\")"
      ]
    },
    {
      "cell_type": "code",
      "execution_count": null,
      "metadata": {
        "id": "uEqA1uDAhaEd"
      },
      "outputs": [],
      "source": [
        "# Test the training generator by obtaining an image using the\n",
        "# `next` generator function, and then using imshow to plot it.\n",
        "# Print the corresponding label\n",
        "\n",
        "image, label = next(training_generator)\n",
        "image_unbatched = np.squeeze(image)\n",
        "plt.imshow(image_unbatched)\n",
        "plt.title(str(label))\n",
        "plt.grid(visible=None)\n",
        "plt.show()"
      ]
    },
    {
      "cell_type": "code",
      "execution_count": null,
      "metadata": {
        "id": "lhNS0N5khaEf"
      },
      "outputs": [],
      "source": [
        "# Reset the generator by re-running the `get_generator` function.\n",
        "\n",
        "train_generator = get_generator(\n",
        "    training_features, training_labels)"
      ]
    },
    {
      "cell_type": "markdown",
      "metadata": {
        "id": "yh41TDl2haEh"
      },
      "source": [
        "#### Create a data augmention generator"
      ]
    },
    {
      "cell_type": "code",
      "execution_count": null,
      "metadata": {
        "id": "oKyZQms7haEk"
      },
      "outputs": [],
      "source": [
        "# Create a function to convert an image to monochrome\n",
        "\n",
        "def monochrome(x):\n",
        "    def func_bw(a):\n",
        "        average_colour = np.mean(a)\n",
        "        return [average_colour, average_colour, average_colour]\n",
        "    x = np.apply_along_axis(func_bw, -1, x)\n",
        "    return x"
      ]
    },
    {
      "cell_type": "code",
      "execution_count": null,
      "metadata": {
        "id": "mxuo_9aAhaEn"
      },
      "outputs": [],
      "source": [
        "# Create an ImageDataGenerator object\n",
        "\n",
        "image_generator = tf.keras.preprocessing.image.ImageDataGenerator(\n",
        "    preprocessing_function=monochrome,\n",
        "    rotation_range=180, rescale=1/255.0)\n",
        "\n",
        "image_generator.fit(training_features)"
      ]
    },
    {
      "cell_type": "markdown",
      "metadata": {
        "id": "MRwjDb69haEq"
      },
      "source": [
        "Check [the documentation](https://keras.io/preprocessing/image/) for the full list of image data augmentation options."
      ]
    },
    {
      "cell_type": "code",
      "execution_count": null,
      "metadata": {
        "id": "mRnwugLChaEr"
      },
      "outputs": [],
      "source": [
        "# Create an iterable generator using the `flow` function\n",
        "\n",
        "image_generator_iterable = image_generator.flow(\n",
        "    training_features, training_labels,\n",
        "    batch_size=1, shuffle=False)"
      ]
    },
    {
      "cell_type": "code",
      "execution_count": null,
      "metadata": {
        "id": "m2bR1hpHhaEs"
      },
      "outputs": [],
      "source": [
        "# Show a sample from the generator and compare with the original\n",
        "\n",
        "image, label = next(image_generator_iterable)\n",
        "image_orig, label_orig = next(train_generator)\n",
        "fig, ax = plt.subplots(1, 2)\n",
        "ax[0].imshow(np.squeeze(image))\n",
        "ax[0].set_title('Transformed')\n",
        "ax[0].grid(visible=None)\n",
        "ax[1].imshow(np.squeeze(image_orig))\n",
        "ax[1].set_title('Original')\n",
        "ax[1].grid(visible=None)\n",
        "plt.show()"
      ]
    },
    {
      "cell_type": "markdown",
      "metadata": {
        "id": "AZN3SD04haEt"
      },
      "source": [
        "#### Flow from directory"
      ]
    },
    {
      "cell_type": "code",
      "execution_count": null,
      "metadata": {
        "id": "dW7NZ379eczt"
      },
      "outputs": [],
      "source": [
        "os.makedirs('./data', exist_ok=True)"
      ]
    },
    {
      "cell_type": "code",
      "execution_count": null,
      "metadata": {
        "id": "hS8Aj9o7haEu"
      },
      "outputs": [],
      "source": [
        "# Inspect the directory structure\n",
        "\n",
        "train_path = 'data/flowers-recognition-split/train'\n",
        "val_path = 'data/flowers-recognition-split/val'"
      ]
    },
    {
      "cell_type": "code",
      "execution_count": null,
      "metadata": {
        "id": "u0teFy5XhaEw"
      },
      "outputs": [],
      "source": [
        "# Create an ImageDataGenerator object\n",
        "\n",
        "datagenerator = tf.keras.preprocessing.image.ImageDataGenerator(\n",
        "    rescale=1/255.)"
      ]
    },
    {
      "cell_type": "code",
      "execution_count": null,
      "metadata": {
        "id": "O8F4Hv6OhaEy"
      },
      "outputs": [],
      "source": [
        "classes = ['daisy', 'dandelion', 'rose', 'sunflower', 'tulip']"
      ]
    },
    {
      "cell_type": "code",
      "execution_count": null,
      "metadata": {
        "id": "43SCIXOohaEz"
      },
      "outputs": [],
      "source": [
        "# Create a training data generator\n",
        "\n",
        "train_generator = datagenerator.flow_from_directory(\n",
        "    directory=train_path, batch_size=64, classes=classes,\n",
        "    target_size=(16, 16))"
      ]
    },
    {
      "cell_type": "code",
      "execution_count": null,
      "metadata": {
        "id": "oNduitYAhaE1"
      },
      "outputs": [],
      "source": [
        "# Create a validation data generator\n",
        "\n",
        "val_generator = datagenerator.flow_from_directory(\n",
        "    directory=val_path, batch_size=64, classes=classes,\n",
        "    target_size=(16,16))"
      ]
    },
    {
      "cell_type": "code",
      "execution_count": null,
      "metadata": {
        "id": "eUzYyqoVhaE8"
      },
      "outputs": [],
      "source": [
        "# Get and display an image and label from the training generator\n",
        "\n",
        "x = next(train_generator)\n",
        "plt.imshow(x[0][8])\n",
        "plt.title(str(x[1][8]))\n",
        "plt.grid(visible=None)\n",
        "plt.show()"
      ]
    },
    {
      "cell_type": "code",
      "execution_count": null,
      "metadata": {
        "id": "hawvnO6-haE9"
      },
      "outputs": [],
      "source": [
        "# Reset the training generator\n",
        "\n",
        "train_generator = datagenerator.flow_from_directory(\n",
        "    directory=train_path, batch_size=64, classes=classes,\n",
        "    target_size=(16, 16))"
      ]
    },
    {
      "cell_type": "markdown",
      "metadata": {
        "id": "OSWrrJRGhaE_"
      },
      "source": [
        "#### Create a model to train"
      ]
    },
    {
      "cell_type": "code",
      "execution_count": null,
      "metadata": {
        "id": "YLteymJqhaE_"
      },
      "outputs": [],
      "source": [
        "# Build a CNN model\n",
        "\n",
        "model = tf.keras.Sequential()\n",
        "model.add(tf.keras.Input(shape=(16, 16, 3)))\n",
        "model.add(tf.keras.layers.Conv2D(filters=8, kernel_size=(8, 8),\n",
        "    padding='same', activation='relu'))\n",
        "model.add(tf.keras.layers.MaxPooling2D(pool_size=(4, 4)))\n",
        "model.add(tf.keras.layers.Conv2D(filters=8, kernel_size=(8, 8),\n",
        "    padding='same', activation='relu'))\n",
        "model.add(tf.keras.layers.MaxPooling2D(pool_size=(2, 2)))\n",
        "model.add(tf.keras.layers.Conv2D(filters=4, kernel_size=(4, 4),\n",
        "    padding='same', activation='relu'))\n",
        "model.add(tf.keras.layers.Flatten())\n",
        "model.add(tf.keras.layers.Dense(units=16, activation='relu'))\n",
        "model.add(tf.keras.layers.Dense(units=8, activation='relu'))\n",
        "model.add(tf.keras.layers.Dense(units=5, activation='softmax'))"
      ]
    },
    {
      "cell_type": "code",
      "execution_count": null,
      "metadata": {
        "id": "a9ScUILYhaFB"
      },
      "outputs": [],
      "source": [
        "# Create an optimizer object\n",
        "\n",
        "optimizer = tf.keras.optimizers.Adam(learning_rate=1e-3)"
      ]
    },
    {
      "cell_type": "code",
      "execution_count": null,
      "metadata": {
        "id": "TxqLi4jrhaFC"
      },
      "outputs": [],
      "source": [
        "# Compile the model\n",
        "\n",
        "model.compile(\n",
        "    optimizer=optimizer,\n",
        "    loss=tf.keras.losses.CategoricalCrossentropy(),\n",
        "    metrics=[tf.keras.metrics.CategoricalAccuracy()])"
      ]
    },
    {
      "cell_type": "code",
      "execution_count": null,
      "metadata": {
        "id": "1KogBiFshaFE"
      },
      "outputs": [],
      "source": [
        "# Print the model summary\n",
        "\n",
        "model.summary()"
      ]
    },
    {
      "cell_type": "markdown",
      "metadata": {
        "id": "Aqwr_ORZhaFG"
      },
      "source": [
        "#### Train the model"
      ]
    },
    {
      "cell_type": "code",
      "execution_count": null,
      "metadata": {
        "id": "HDyE8_XchaFH"
      },
      "outputs": [],
      "source": [
        "# Calculate the training generator and test generator steps per epoch\n",
        "\n",
        "train_steps_per_epoch = train_generator.n // train_generator.batch_size\n",
        "val_steps = val_generator.n // val_generator.batch_size\n",
        "print(f\"train steps per epoch: {train_steps_per_epoch}\\\n",
        "    \\nvalid steps: {val_steps}\")"
      ]
    },
    {
      "cell_type": "code",
      "execution_count": null,
      "metadata": {
        "id": "yRmd7ZDDhaFI",
        "collapsed": true
      },
      "outputs": [],
      "source": [
        "# Fit the model\n",
        "\n",
        "history = model.fit(train_generator,\n",
        "    steps_per_epoch=train_steps_per_epoch, epochs=5,\n",
        "    verbose=2)\n",
        "\n",
        "df_history = pd.DataFrame(history.history, index=history.epoch)\n",
        "fig, axes = plt.subplots(nrows=1, ncols=2, figsize=(15, 5))\n",
        "for ax, metric in zip(axes, ['loss', 'categorical_accuracy']):\n",
        "    sns.lineplot(ax=ax, data=df_history,\n",
        "        x=df_history.index+1, y=metric, label='train')\n",
        "    ax.legend(loc='best')\n",
        "    ax.set_xlabel('epoch')\n",
        "    ax.set_ylabel(f'{metric}')\n",
        "    ax.set_title(f'{metric} vs. epoch')\n",
        "fig.tight_layout()\n",
        "plt.show()"
      ]
    },
    {
      "cell_type": "markdown",
      "metadata": {
        "id": "Da9gQT5BhaFL"
      },
      "source": [
        "#### Evaluate the model"
      ]
    },
    {
      "cell_type": "code",
      "execution_count": null,
      "metadata": {
        "id": "wWkUOT4fhaFM"
      },
      "outputs": [],
      "source": [
        "# Evaluate the model\n",
        "\n",
        "loss, accuracy = model.evaluate(\n",
        "    val_generator, steps=val_steps, verbose=0)\n",
        "print(f\"loss: {loss:.2f}, accuracy: {accuracy:.2f}\")"
      ]
    },
    {
      "cell_type": "markdown",
      "metadata": {
        "id": "yQRD2u5UhaFN"
      },
      "source": [
        "#### Predict using the generator"
      ]
    },
    {
      "cell_type": "code",
      "execution_count": null,
      "metadata": {
        "id": "de5vOjAjhaFN",
        "tags": []
      },
      "outputs": [],
      "source": [
        "# Predict labels with the model\n",
        "\n",
        "predictions = model.predict(val_generator, steps=1, verbose=0)\n",
        "print([classes[i] for i in np.argmax(predictions, axis=1)])"
      ]
    },
    {
      "cell_type": "markdown",
      "metadata": {
        "id": "3b7sr3v1haFP"
      },
      "source": [
        "***\n",
        "<a id=\"coding_tutorial_4\"></a>\n",
        "## The Dataset Class"
      ]
    },
    {
      "cell_type": "code",
      "source": [
        "import tensorflow as tf\n",
        "tf.keras.utils.set_random_seed(seed=42)\n",
        "tf.get_logger().setLevel(\"ERROR\")\n",
        "\n",
        "dataset = tf.data.Dataset.from_tensor_slices(tensors=(\n",
        "    tf.random.uniform(shape=(256, 4), minval=1, maxval=10, dtype=tf.int32),\n",
        "    tf.random.normal(shape=(256,))\n",
        "))\n",
        "print(dataset.element_spec)\n",
        "\n",
        "for x, y in dataset.take(count=2):\n",
        "    print(x.numpy(), y.numpy())"
      ],
      "metadata": {
        "colab": {
          "base_uri": "https://localhost:8080/"
        },
        "id": "5yj9PF9WFCu2",
        "outputId": "9b7b675d-8c21-4af9-c598-f0d2e8e82cb5"
      },
      "execution_count": null,
      "outputs": [
        {
          "output_type": "stream",
          "name": "stdout",
          "text": [
            "(TensorSpec(shape=(4,), dtype=tf.int32, name=None), TensorSpec(shape=(), dtype=tf.float32, name=None))\n",
            "[8 6 9 4] 0.08422458\n",
            "[8 3 8 8] -0.86090374\n"
          ]
        }
      ]
    },
    {
      "cell_type": "code",
      "execution_count": null,
      "metadata": {
        "colab": {
          "base_uri": "https://localhost:8080/"
        },
        "id": "DM8-2uhNeXcc",
        "outputId": "a098acf7-2253-4cde-fc62-df0de9eac71d"
      },
      "outputs": [
        {
          "output_type": "execute_result",
          "data": {
            "text/plain": [
              "(TensorSpec(shape=(32, 32, 32, 3), dtype=tf.float32, name=None),\n",
              " TensorSpec(shape=(32, 1), dtype=tf.int32, name=None))"
            ]
          },
          "metadata": {},
          "execution_count": 6
        }
      ],
      "source": [
        "import tensorflow as tf\n",
        "tf.keras.utils.set_random_seed(seed=42)\n",
        "tf.get_logger().setLevel(\"ERROR\")\n",
        "\n",
        "(x_train, y_train), (x_test, y_test) = \\\n",
        "    tf.keras.datasets.cifar10.load_data()\n",
        "\n",
        "img_datagen = tf.keras.preprocessing.image.ImageDataGenerator(\n",
        "    width_shift_range=0.2, horizontal_flip=True)\n",
        "dataset = tf.data.Dataset.from_generator(\n",
        "    generator=img_datagen.flow, args=[x_train, y_train],\n",
        "    output_types=(tf.float32, tf.int32),\n",
        "    output_shapes=([32, 32, 32, 3], [32, 1])\n",
        ")\n",
        "dataset.element_spec"
      ]
    },
    {
      "cell_type": "markdown",
      "metadata": {
        "id": "T5_eojOchaFu"
      },
      "source": [
        "#### Create a zipped dataset"
      ]
    },
    {
      "cell_type": "code",
      "execution_count": null,
      "metadata": {
        "id": "6tuzoM-ehaFg",
        "colab": {
          "base_uri": "https://localhost:8080/"
        },
        "outputId": "c153a024-c4f8-482b-9aec-5557532ab372"
      },
      "outputs": [
        {
          "output_type": "stream",
          "name": "stdout",
          "text": [
            "(TensorSpec(shape=(10, 2, 2), dtype=tf.float64, name=None), (TensorSpec(shape=(2, 2), dtype=tf.float64, name=None), TensorSpec(shape=(1,), dtype=tf.float64, name=None)))\n",
            "Number of batches: 10\n"
          ]
        }
      ],
      "source": [
        "import numpy as np\n",
        "import tensorflow as tf\n",
        "tf.keras.utils.set_random_seed(seed=42)\n",
        "tf.get_logger().setLevel(\"ERROR\")\n",
        "\n",
        "# Create a dataset from the tensor x\n",
        "dataset1 = tf.data.Dataset.from_tensor_slices(\n",
        "    tensors=np.zeros(shape=(100, 10, 2, 2)))\n",
        "\n",
        "# Create another dataset from the tensor x2\n",
        "# and inspect the Dataset object\n",
        "dataset2 = tf.data.Dataset.from_tensor_slices(tensors=(\n",
        "    np.zeros(shape=(10, 2, 2)), np.zeros(shape=(10, 1))\n",
        "))\n",
        "\n",
        "# Combine the two datasets into one larger dataset\n",
        "dataset_zipped = tf.data.Dataset.zip(\n",
        "    datasets=(dataset1, dataset2))\n",
        "# Inspect the dataset object\n",
        "print(dataset_zipped.element_spec)\n",
        "\n",
        "# Define a function to find the number of batches in a dataset\n",
        "def get_batches(dataset):\n",
        "    iter_dataset = iter(dataset)\n",
        "    i = 0\n",
        "    try:\n",
        "        while next(iter_dataset):\n",
        "            i = i+1\n",
        "    except:\n",
        "        return i\n",
        "\n",
        "# Find the number of batches in the zipped Dataset\n",
        "print(f\"Number of batches: {get_batches(dataset_zipped)}\")"
      ]
    },
    {
      "cell_type": "markdown",
      "metadata": {
        "id": "SBmSO5lJhaF1"
      },
      "source": [
        "#### Create a dataset from numpy arrays"
      ]
    },
    {
      "cell_type": "code",
      "execution_count": null,
      "metadata": {
        "colab": {
          "base_uri": "https://localhost:8080/"
        },
        "id": "Za9ynOokhaF5",
        "outputId": "e48748e8-5851-4d64-e510-f649e8698b17"
      },
      "outputs": [
        {
          "output_type": "stream",
          "name": "stdout",
          "text": [
            "Downloading data from https://storage.googleapis.com/tensorflow/tf-keras-datasets/mnist.npz\n",
            "11490434/11490434 [==============================] - 0s 0us/step\n",
            "(TensorSpec(shape=(28, 28), dtype=tf.uint8, name=None), TensorSpec(shape=(), dtype=tf.uint8, name=None))\n",
            "Length of an element: 2\n",
            "x train shape: (28, 28)\n",
            "y train shape: ()\n"
          ]
        }
      ],
      "source": [
        "import tensorflow as tf\n",
        "tf.keras.utils.set_random_seed(seed=42)\n",
        "tf.get_logger().setLevel(\"ERROR\")\n",
        "\n",
        "# Load the MNIST dataset\n",
        "(train_features, train_labels), (test_features, test_labels) = \\\n",
        "    tf.keras.datasets.mnist.load_data()\n",
        "\n",
        "# Create a Dataset from the MNIST data\n",
        "mnist_dataset = tf.data.Dataset.from_tensor_slices(\n",
        "    tensors=(train_features, train_labels))\n",
        "# Inspect the Dataset object\n",
        "print(mnist_dataset.element_spec)\n",
        "\n",
        "# Inspect the length of an element using the take method\n",
        "element = next(iter(mnist_dataset.take(count=1)))\n",
        "print(f\"Length of an element: {len(element)}\")\n",
        "\n",
        "# Examine the shapes of the data\n",
        "print(f\"x train shape: {element[0].shape}\")\n",
        "print(f\"y train shape: {element[1].shape}\")"
      ]
    },
    {
      "cell_type": "markdown",
      "metadata": {
        "id": "SzJe1CIvhaGB"
      },
      "source": [
        "#### Create a dataset from text data"
      ]
    },
    {
      "cell_type": "code",
      "execution_count": null,
      "metadata": {
        "id": "8zSGZUSrh1Y5",
        "colab": {
          "base_uri": "https://localhost:8080/"
        },
        "outputId": "a5e37532-ccfa-426b-e1ea-727389c7dd08"
      },
      "outputs": [
        {
          "output_type": "stream",
          "name": "stdout",
          "text": [
            "tf.Tensor(b'SCENE I. On a ship at sea: a tempestuous noise', shape=(), dtype=string)\n",
            "tf.Tensor(b'of thunder and lightning heard.', shape=(), dtype=string)\n",
            "tf.Tensor(b'Enter a Master and a Boatswain', shape=(), dtype=string)\n",
            "tf.Tensor(b'', shape=(), dtype=string)\n",
            "tf.Tensor(b'Master', shape=(), dtype=string)\n",
            "Number of lines: 3134\n"
          ]
        }
      ],
      "source": [
        "import os\n",
        "import tensorflow as tf\n",
        "tf.keras.utils.set_random_seed(seed=42)\n",
        "tf.get_logger().setLevel(\"ERROR\")\n",
        "\n",
        "# Print the list of text files\n",
        "text_files = sorted([f.path for f in os.scandir(path=\"data/shakespeare\")])\n",
        "\n",
        "# Load the lines from the files into a dataset using TextLineDataset\n",
        "shakespeare_dataset = tf.data.TextLineDataset(filenames=text_files)\n",
        "\n",
        "# Use the take method to get and print the first 5 lines of the dataset\n",
        "for line in shakespeare_dataset.take(count=5):\n",
        "    print(line)\n",
        "\n",
        "# Compute the number of lines in the shakespeare dataset we created\n",
        "shakespeare_dataset_iterator = shakespeare_dataset.as_numpy_iterator()\n",
        "lines = list(shakespeare_dataset_iterator)\n",
        "print(f\"Number of lines: {len(lines)}\")"
      ]
    },
    {
      "cell_type": "markdown",
      "metadata": {
        "id": "lrXEQqa3haGK"
      },
      "source": [
        "#### Interleave lines from the text data files"
      ]
    },
    {
      "cell_type": "code",
      "execution_count": null,
      "metadata": {
        "id": "Xv7HQG9_haGK",
        "scrolled": true,
        "colab": {
          "base_uri": "https://localhost:8080/"
        },
        "outputId": "6da20d09-3d89-45aa-c933-2d5c59ca0e8d"
      },
      "outputs": [
        {
          "output_type": "stream",
          "name": "stdout",
          "text": [
            "Number of lines: 3134\n",
            "tf.Tensor(b'SCENE I. On a ship at sea: a tempestuous noise', shape=(), dtype=string)\n",
            "tf.Tensor(b\"SCENE II. The island. Before PROSPERO'S cell.\", shape=(), dtype=string)\n",
            "tf.Tensor(b'SCENE I. Another part of the island.', shape=(), dtype=string)\n",
            "tf.Tensor(b'SCENE II. Another part of the island.', shape=(), dtype=string)\n",
            "tf.Tensor(b\"SCENE I. Before PROSPERO'S Cell.\", shape=(), dtype=string)\n"
          ]
        }
      ],
      "source": [
        "import os\n",
        "import tensorflow as tf\n",
        "tf.keras.utils.set_random_seed(seed=42)\n",
        "tf.get_logger().setLevel(\"ERROR\")\n",
        "\n",
        "# Print the list of text files\n",
        "text_files = sorted([f.path for f in os.scandir(path=\"data/shakespeare\")])\n",
        "\n",
        "# Create a dataset of the text file strings\n",
        "text_files_dataset = tf.data.Dataset.from_tensor_slices(\n",
        "    tensors=text_files)\n",
        "\n",
        "# Interleave the lines from the text files\n",
        "interleaved_shakespeare_dataset = text_files_dataset.interleave(\n",
        "    map_func=tf.data.TextLineDataset, cycle_length=9)\n",
        "lines = list(interleaved_shakespeare_dataset.as_numpy_iterator())\n",
        "print(f\"Number of lines: {len(lines)}\")\n",
        "\n",
        "# Print the first 5 elements of the interleaved dataset\n",
        "for line in interleaved_shakespeare_dataset.take(count=5):\n",
        "    print(line)"
      ]
    },
    {
      "cell_type": "markdown",
      "metadata": {
        "id": "c5CRpW_whaGQ"
      },
      "source": [
        "***\n",
        "<a id=\"coding_tutorial_5\"></a>\n",
        "## Training with Datasets"
      ]
    },
    {
      "cell_type": "code",
      "execution_count": null,
      "metadata": {
        "id": "mDN2uIRWwxc5",
        "colab": {
          "base_uri": "https://localhost:8080/"
        },
        "outputId": "17d9019f-2828-413c-d07d-9f49e2571de6"
      },
      "outputs": [
        {
          "output_type": "execute_result",
          "data": {
            "text/plain": [
              "(TensorSpec(shape=(16, 32, 32, 3), dtype=tf.float32, name=None),\n",
              " TensorSpec(shape=(16, 1), dtype=tf.uint8, name=None))"
            ]
          },
          "metadata": {},
          "execution_count": 2
        }
      ],
      "source": [
        "import tensorflow as tf\n",
        "tf.keras.utils.set_random_seed(seed=42)\n",
        "tf.get_logger().setLevel(\"ERROR\")\n",
        "\n",
        "(x_train, y_train), (x_test, y_test) = \\\n",
        "    tf.keras.datasets.cifar10.load_data()\n",
        "\n",
        "dataset = tf.data.Dataset.from_tensor_slices(\n",
        "    tensors=(x_train, y_train))\n",
        "\n",
        "def rescale(image, label):\n",
        "    image = tf.cast(image, tf.float32)\n",
        "    return image/255., label\n",
        "dataset = dataset.map(map_func=rescale)\n",
        "\n",
        "def label_filter(image, label):\n",
        "    return tf.squeeze(label)!=9\n",
        "dataset = dataset.filter(predicate=label_filter)\n",
        "\n",
        "dataset = dataset.shuffle(buffer_size=100)\n",
        "dataset = dataset.batch(batch_size=16, drop_remainder=True)\n",
        "dataset = dataset.repeat(count=10)\n",
        "dataset.element_spec"
      ]
    },
    {
      "cell_type": "markdown",
      "metadata": {
        "id": "sImBVH74haGR"
      },
      "source": [
        "#### Load the UCI Bank Marketing Dataset"
      ]
    },
    {
      "cell_type": "code",
      "execution_count": 1,
      "metadata": {
        "id": "cRt2GoekhaGS",
        "colab": {
          "base_uri": "https://localhost:8080/",
          "height": 244
        },
        "outputId": "8a89bbcb-df20-41a2-ee30-85d57f1c0e4b"
      },
      "outputs": [
        {
          "output_type": "stream",
          "name": "stdout",
          "text": [
            "data shape: (45211, 13)\n"
          ]
        },
        {
          "output_type": "execute_result",
          "data": {
            "text/plain": [
              "   age           job  marital  education default  balance housing loan  \\\n",
              "0   58    management  married   tertiary      no     2143     yes   no   \n",
              "1   44    technician   single  secondary      no       29     yes   no   \n",
              "2   33  entrepreneur  married  secondary      no        2     yes  yes   \n",
              "3   47   blue-collar  married    unknown      no     1506     yes   no   \n",
              "4   33       unknown   single    unknown      no        1      no   no   \n",
              "\n",
              "   contact  campaign  pdays poutcome   y  \n",
              "0  unknown         1     -1  unknown  no  \n",
              "1  unknown         1     -1  unknown  no  \n",
              "2  unknown         1     -1  unknown  no  \n",
              "3  unknown         1     -1  unknown  no  \n",
              "4  unknown         1     -1  unknown  no  "
            ],
            "text/html": [
              "\n",
              "  <div id=\"df-1c5006eb-092c-46fd-956a-b597a1756601\" class=\"colab-df-container\">\n",
              "    <div>\n",
              "<style scoped>\n",
              "    .dataframe tbody tr th:only-of-type {\n",
              "        vertical-align: middle;\n",
              "    }\n",
              "\n",
              "    .dataframe tbody tr th {\n",
              "        vertical-align: top;\n",
              "    }\n",
              "\n",
              "    .dataframe thead th {\n",
              "        text-align: right;\n",
              "    }\n",
              "</style>\n",
              "<table border=\"1\" class=\"dataframe\">\n",
              "  <thead>\n",
              "    <tr style=\"text-align: right;\">\n",
              "      <th></th>\n",
              "      <th>age</th>\n",
              "      <th>job</th>\n",
              "      <th>marital</th>\n",
              "      <th>education</th>\n",
              "      <th>default</th>\n",
              "      <th>balance</th>\n",
              "      <th>housing</th>\n",
              "      <th>loan</th>\n",
              "      <th>contact</th>\n",
              "      <th>campaign</th>\n",
              "      <th>pdays</th>\n",
              "      <th>poutcome</th>\n",
              "      <th>y</th>\n",
              "    </tr>\n",
              "  </thead>\n",
              "  <tbody>\n",
              "    <tr>\n",
              "      <th>0</th>\n",
              "      <td>58</td>\n",
              "      <td>management</td>\n",
              "      <td>married</td>\n",
              "      <td>tertiary</td>\n",
              "      <td>no</td>\n",
              "      <td>2143</td>\n",
              "      <td>yes</td>\n",
              "      <td>no</td>\n",
              "      <td>unknown</td>\n",
              "      <td>1</td>\n",
              "      <td>-1</td>\n",
              "      <td>unknown</td>\n",
              "      <td>no</td>\n",
              "    </tr>\n",
              "    <tr>\n",
              "      <th>1</th>\n",
              "      <td>44</td>\n",
              "      <td>technician</td>\n",
              "      <td>single</td>\n",
              "      <td>secondary</td>\n",
              "      <td>no</td>\n",
              "      <td>29</td>\n",
              "      <td>yes</td>\n",
              "      <td>no</td>\n",
              "      <td>unknown</td>\n",
              "      <td>1</td>\n",
              "      <td>-1</td>\n",
              "      <td>unknown</td>\n",
              "      <td>no</td>\n",
              "    </tr>\n",
              "    <tr>\n",
              "      <th>2</th>\n",
              "      <td>33</td>\n",
              "      <td>entrepreneur</td>\n",
              "      <td>married</td>\n",
              "      <td>secondary</td>\n",
              "      <td>no</td>\n",
              "      <td>2</td>\n",
              "      <td>yes</td>\n",
              "      <td>yes</td>\n",
              "      <td>unknown</td>\n",
              "      <td>1</td>\n",
              "      <td>-1</td>\n",
              "      <td>unknown</td>\n",
              "      <td>no</td>\n",
              "    </tr>\n",
              "    <tr>\n",
              "      <th>3</th>\n",
              "      <td>47</td>\n",
              "      <td>blue-collar</td>\n",
              "      <td>married</td>\n",
              "      <td>unknown</td>\n",
              "      <td>no</td>\n",
              "      <td>1506</td>\n",
              "      <td>yes</td>\n",
              "      <td>no</td>\n",
              "      <td>unknown</td>\n",
              "      <td>1</td>\n",
              "      <td>-1</td>\n",
              "      <td>unknown</td>\n",
              "      <td>no</td>\n",
              "    </tr>\n",
              "    <tr>\n",
              "      <th>4</th>\n",
              "      <td>33</td>\n",
              "      <td>unknown</td>\n",
              "      <td>single</td>\n",
              "      <td>unknown</td>\n",
              "      <td>no</td>\n",
              "      <td>1</td>\n",
              "      <td>no</td>\n",
              "      <td>no</td>\n",
              "      <td>unknown</td>\n",
              "      <td>1</td>\n",
              "      <td>-1</td>\n",
              "      <td>unknown</td>\n",
              "      <td>no</td>\n",
              "    </tr>\n",
              "  </tbody>\n",
              "</table>\n",
              "</div>\n",
              "    <div class=\"colab-df-buttons\">\n",
              "\n",
              "  <div class=\"colab-df-container\">\n",
              "    <button class=\"colab-df-convert\" onclick=\"convertToInteractive('df-1c5006eb-092c-46fd-956a-b597a1756601')\"\n",
              "            title=\"Convert this dataframe to an interactive table.\"\n",
              "            style=\"display:none;\">\n",
              "\n",
              "  <svg xmlns=\"http://www.w3.org/2000/svg\" height=\"24px\" viewBox=\"0 -960 960 960\">\n",
              "    <path d=\"M120-120v-720h720v720H120Zm60-500h600v-160H180v160Zm220 220h160v-160H400v160Zm0 220h160v-160H400v160ZM180-400h160v-160H180v160Zm440 0h160v-160H620v160ZM180-180h160v-160H180v160Zm440 0h160v-160H620v160Z\"/>\n",
              "  </svg>\n",
              "    </button>\n",
              "\n",
              "  <style>\n",
              "    .colab-df-container {\n",
              "      display:flex;\n",
              "      gap: 12px;\n",
              "    }\n",
              "\n",
              "    .colab-df-convert {\n",
              "      background-color: #E8F0FE;\n",
              "      border: none;\n",
              "      border-radius: 50%;\n",
              "      cursor: pointer;\n",
              "      display: none;\n",
              "      fill: #1967D2;\n",
              "      height: 32px;\n",
              "      padding: 0 0 0 0;\n",
              "      width: 32px;\n",
              "    }\n",
              "\n",
              "    .colab-df-convert:hover {\n",
              "      background-color: #E2EBFA;\n",
              "      box-shadow: 0px 1px 2px rgba(60, 64, 67, 0.3), 0px 1px 3px 1px rgba(60, 64, 67, 0.15);\n",
              "      fill: #174EA6;\n",
              "    }\n",
              "\n",
              "    .colab-df-buttons div {\n",
              "      margin-bottom: 4px;\n",
              "    }\n",
              "\n",
              "    [theme=dark] .colab-df-convert {\n",
              "      background-color: #3B4455;\n",
              "      fill: #D2E3FC;\n",
              "    }\n",
              "\n",
              "    [theme=dark] .colab-df-convert:hover {\n",
              "      background-color: #434B5C;\n",
              "      box-shadow: 0px 1px 3px 1px rgba(0, 0, 0, 0.15);\n",
              "      filter: drop-shadow(0px 1px 2px rgba(0, 0, 0, 0.3));\n",
              "      fill: #FFFFFF;\n",
              "    }\n",
              "  </style>\n",
              "\n",
              "    <script>\n",
              "      const buttonEl =\n",
              "        document.querySelector('#df-1c5006eb-092c-46fd-956a-b597a1756601 button.colab-df-convert');\n",
              "      buttonEl.style.display =\n",
              "        google.colab.kernel.accessAllowed ? 'block' : 'none';\n",
              "\n",
              "      async function convertToInteractive(key) {\n",
              "        const element = document.querySelector('#df-1c5006eb-092c-46fd-956a-b597a1756601');\n",
              "        const dataTable =\n",
              "          await google.colab.kernel.invokeFunction('convertToInteractive',\n",
              "                                                    [key], {});\n",
              "        if (!dataTable) return;\n",
              "\n",
              "        const docLinkHtml = 'Like what you see? Visit the ' +\n",
              "          '<a target=\"_blank\" href=https://colab.research.google.com/notebooks/data_table.ipynb>data table notebook</a>'\n",
              "          + ' to learn more about interactive tables.';\n",
              "        element.innerHTML = '';\n",
              "        dataTable['output_type'] = 'display_data';\n",
              "        await google.colab.output.renderOutput(dataTable, element);\n",
              "        const docLink = document.createElement('div');\n",
              "        docLink.innerHTML = docLinkHtml;\n",
              "        element.appendChild(docLink);\n",
              "      }\n",
              "    </script>\n",
              "  </div>\n",
              "\n",
              "\n",
              "<div id=\"df-9855a589-5c52-497f-8b27-7fcb55a16539\">\n",
              "  <button class=\"colab-df-quickchart\" onclick=\"quickchart('df-9855a589-5c52-497f-8b27-7fcb55a16539')\"\n",
              "            title=\"Suggest charts\"\n",
              "            style=\"display:none;\">\n",
              "\n",
              "<svg xmlns=\"http://www.w3.org/2000/svg\" height=\"24px\"viewBox=\"0 0 24 24\"\n",
              "     width=\"24px\">\n",
              "    <g>\n",
              "        <path d=\"M19 3H5c-1.1 0-2 .9-2 2v14c0 1.1.9 2 2 2h14c1.1 0 2-.9 2-2V5c0-1.1-.9-2-2-2zM9 17H7v-7h2v7zm4 0h-2V7h2v10zm4 0h-2v-4h2v4z\"/>\n",
              "    </g>\n",
              "</svg>\n",
              "  </button>\n",
              "\n",
              "<style>\n",
              "  .colab-df-quickchart {\n",
              "      --bg-color: #E8F0FE;\n",
              "      --fill-color: #1967D2;\n",
              "      --hover-bg-color: #E2EBFA;\n",
              "      --hover-fill-color: #174EA6;\n",
              "      --disabled-fill-color: #AAA;\n",
              "      --disabled-bg-color: #DDD;\n",
              "  }\n",
              "\n",
              "  [theme=dark] .colab-df-quickchart {\n",
              "      --bg-color: #3B4455;\n",
              "      --fill-color: #D2E3FC;\n",
              "      --hover-bg-color: #434B5C;\n",
              "      --hover-fill-color: #FFFFFF;\n",
              "      --disabled-bg-color: #3B4455;\n",
              "      --disabled-fill-color: #666;\n",
              "  }\n",
              "\n",
              "  .colab-df-quickchart {\n",
              "    background-color: var(--bg-color);\n",
              "    border: none;\n",
              "    border-radius: 50%;\n",
              "    cursor: pointer;\n",
              "    display: none;\n",
              "    fill: var(--fill-color);\n",
              "    height: 32px;\n",
              "    padding: 0;\n",
              "    width: 32px;\n",
              "  }\n",
              "\n",
              "  .colab-df-quickchart:hover {\n",
              "    background-color: var(--hover-bg-color);\n",
              "    box-shadow: 0 1px 2px rgba(60, 64, 67, 0.3), 0 1px 3px 1px rgba(60, 64, 67, 0.15);\n",
              "    fill: var(--button-hover-fill-color);\n",
              "  }\n",
              "\n",
              "  .colab-df-quickchart-complete:disabled,\n",
              "  .colab-df-quickchart-complete:disabled:hover {\n",
              "    background-color: var(--disabled-bg-color);\n",
              "    fill: var(--disabled-fill-color);\n",
              "    box-shadow: none;\n",
              "  }\n",
              "\n",
              "  .colab-df-spinner {\n",
              "    border: 2px solid var(--fill-color);\n",
              "    border-color: transparent;\n",
              "    border-bottom-color: var(--fill-color);\n",
              "    animation:\n",
              "      spin 1s steps(1) infinite;\n",
              "  }\n",
              "\n",
              "  @keyframes spin {\n",
              "    0% {\n",
              "      border-color: transparent;\n",
              "      border-bottom-color: var(--fill-color);\n",
              "      border-left-color: var(--fill-color);\n",
              "    }\n",
              "    20% {\n",
              "      border-color: transparent;\n",
              "      border-left-color: var(--fill-color);\n",
              "      border-top-color: var(--fill-color);\n",
              "    }\n",
              "    30% {\n",
              "      border-color: transparent;\n",
              "      border-left-color: var(--fill-color);\n",
              "      border-top-color: var(--fill-color);\n",
              "      border-right-color: var(--fill-color);\n",
              "    }\n",
              "    40% {\n",
              "      border-color: transparent;\n",
              "      border-right-color: var(--fill-color);\n",
              "      border-top-color: var(--fill-color);\n",
              "    }\n",
              "    60% {\n",
              "      border-color: transparent;\n",
              "      border-right-color: var(--fill-color);\n",
              "    }\n",
              "    80% {\n",
              "      border-color: transparent;\n",
              "      border-right-color: var(--fill-color);\n",
              "      border-bottom-color: var(--fill-color);\n",
              "    }\n",
              "    90% {\n",
              "      border-color: transparent;\n",
              "      border-bottom-color: var(--fill-color);\n",
              "    }\n",
              "  }\n",
              "</style>\n",
              "\n",
              "  <script>\n",
              "    async function quickchart(key) {\n",
              "      const quickchartButtonEl =\n",
              "        document.querySelector('#' + key + ' button');\n",
              "      quickchartButtonEl.disabled = true;  // To prevent multiple clicks.\n",
              "      quickchartButtonEl.classList.add('colab-df-spinner');\n",
              "      try {\n",
              "        const charts = await google.colab.kernel.invokeFunction(\n",
              "            'suggestCharts', [key], {});\n",
              "      } catch (error) {\n",
              "        console.error('Error during call to suggestCharts:', error);\n",
              "      }\n",
              "      quickchartButtonEl.classList.remove('colab-df-spinner');\n",
              "      quickchartButtonEl.classList.add('colab-df-quickchart-complete');\n",
              "    }\n",
              "    (() => {\n",
              "      let quickchartButtonEl =\n",
              "        document.querySelector('#df-9855a589-5c52-497f-8b27-7fcb55a16539 button');\n",
              "      quickchartButtonEl.style.display =\n",
              "        google.colab.kernel.accessAllowed ? 'block' : 'none';\n",
              "    })();\n",
              "  </script>\n",
              "</div>\n",
              "\n",
              "    </div>\n",
              "  </div>\n"
            ],
            "application/vnd.google.colaboratory.intrinsic+json": {
              "type": "dataframe",
              "variable_name": "bank_dataframe",
              "summary": "{\n  \"name\": \"bank_dataframe\",\n  \"rows\": 45211,\n  \"fields\": [\n    {\n      \"column\": \"age\",\n      \"properties\": {\n        \"dtype\": \"number\",\n        \"std\": 10,\n        \"min\": 18,\n        \"max\": 95,\n        \"num_unique_values\": 77,\n        \"samples\": [\n          35,\n          34,\n          53\n        ],\n        \"semantic_type\": \"\",\n        \"description\": \"\"\n      }\n    },\n    {\n      \"column\": \"job\",\n      \"properties\": {\n        \"dtype\": \"category\",\n        \"num_unique_values\": 12,\n        \"samples\": [\n          \"housemaid\",\n          \"unemployed\",\n          \"management\"\n        ],\n        \"semantic_type\": \"\",\n        \"description\": \"\"\n      }\n    },\n    {\n      \"column\": \"marital\",\n      \"properties\": {\n        \"dtype\": \"category\",\n        \"num_unique_values\": 3,\n        \"samples\": [\n          \"married\",\n          \"single\",\n          \"divorced\"\n        ],\n        \"semantic_type\": \"\",\n        \"description\": \"\"\n      }\n    },\n    {\n      \"column\": \"education\",\n      \"properties\": {\n        \"dtype\": \"category\",\n        \"num_unique_values\": 4,\n        \"samples\": [\n          \"secondary\",\n          \"primary\",\n          \"tertiary\"\n        ],\n        \"semantic_type\": \"\",\n        \"description\": \"\"\n      }\n    },\n    {\n      \"column\": \"default\",\n      \"properties\": {\n        \"dtype\": \"category\",\n        \"num_unique_values\": 2,\n        \"samples\": [\n          \"yes\",\n          \"no\"\n        ],\n        \"semantic_type\": \"\",\n        \"description\": \"\"\n      }\n    },\n    {\n      \"column\": \"balance\",\n      \"properties\": {\n        \"dtype\": \"number\",\n        \"std\": 3044,\n        \"min\": -8019,\n        \"max\": 102127,\n        \"num_unique_values\": 7168,\n        \"samples\": [\n          3276,\n          43\n        ],\n        \"semantic_type\": \"\",\n        \"description\": \"\"\n      }\n    },\n    {\n      \"column\": \"housing\",\n      \"properties\": {\n        \"dtype\": \"category\",\n        \"num_unique_values\": 2,\n        \"samples\": [\n          \"no\",\n          \"yes\"\n        ],\n        \"semantic_type\": \"\",\n        \"description\": \"\"\n      }\n    },\n    {\n      \"column\": \"loan\",\n      \"properties\": {\n        \"dtype\": \"category\",\n        \"num_unique_values\": 2,\n        \"samples\": [\n          \"yes\",\n          \"no\"\n        ],\n        \"semantic_type\": \"\",\n        \"description\": \"\"\n      }\n    },\n    {\n      \"column\": \"contact\",\n      \"properties\": {\n        \"dtype\": \"category\",\n        \"num_unique_values\": 3,\n        \"samples\": [\n          \"unknown\",\n          \"cellular\"\n        ],\n        \"semantic_type\": \"\",\n        \"description\": \"\"\n      }\n    },\n    {\n      \"column\": \"campaign\",\n      \"properties\": {\n        \"dtype\": \"number\",\n        \"std\": 3,\n        \"min\": 1,\n        \"max\": 63,\n        \"num_unique_values\": 48,\n        \"samples\": [\n          41,\n          27\n        ],\n        \"semantic_type\": \"\",\n        \"description\": \"\"\n      }\n    },\n    {\n      \"column\": \"pdays\",\n      \"properties\": {\n        \"dtype\": \"number\",\n        \"std\": 100,\n        \"min\": -1,\n        \"max\": 871,\n        \"num_unique_values\": 559,\n        \"samples\": [\n          249,\n          551\n        ],\n        \"semantic_type\": \"\",\n        \"description\": \"\"\n      }\n    },\n    {\n      \"column\": \"poutcome\",\n      \"properties\": {\n        \"dtype\": \"category\",\n        \"num_unique_values\": 4,\n        \"samples\": [\n          \"failure\",\n          \"success\"\n        ],\n        \"semantic_type\": \"\",\n        \"description\": \"\"\n      }\n    },\n    {\n      \"column\": \"y\",\n      \"properties\": {\n        \"dtype\": \"category\",\n        \"num_unique_values\": 2,\n        \"samples\": [\n          \"yes\",\n          \"no\"\n        ],\n        \"semantic_type\": \"\",\n        \"description\": \"\"\n      }\n    }\n  ]\n}"
            }
          },
          "metadata": {},
          "execution_count": 1
        }
      ],
      "source": [
        "import pandas as pd\n",
        "\n",
        "# Load the CSV file into a pandas DataFrame\n",
        "bank_dataframe = pd.read_csv(\"data/bank/bank-full.csv\", delimiter=\";\")\n",
        "\n",
        "# Select features from the DataFrame\n",
        "features = [\n",
        "    \"age\", \"job\", \"marital\", \"education\", \"default\", \"balance\",\n",
        "    \"housing\", \"loan\", \"contact\", \"campaign\", \"pdays\", \"poutcome\"\n",
        "]\n",
        "labels = [\"y\"]\n",
        "bank_dataframe = bank_dataframe.filter(items=features+labels)\n",
        "\n",
        "# Print the shape of the DataFrame\n",
        "print(f\"data shape: {bank_dataframe.shape}\")\n",
        "\n",
        "# Show the head of the DataFrame\n",
        "bank_dataframe.head()"
      ]
    },
    {
      "cell_type": "markdown",
      "metadata": {
        "id": "uMOyO0aZhaGa"
      },
      "source": [
        "#### Preprocess the data"
      ]
    },
    {
      "cell_type": "code",
      "execution_count": 2,
      "metadata": {
        "id": "dIwMmt9KhaGa",
        "colab": {
          "base_uri": "https://localhost:8080/",
          "height": 1000
        },
        "outputId": "679f373e-84c4-4be3-b876-e102a43d3443"
      },
      "outputs": [
        {
          "output_type": "stream",
          "name": "stdout",
          "text": [
            "data shape: (45211, 13)\n"
          ]
        },
        {
          "output_type": "execute_result",
          "data": {
            "text/plain": [
              "   age                                   job  marital     education default  \\\n",
              "0   33  [0, 0, 0, 0, 0, 0, 0, 0, 0, 1, 0, 0]   single  [0, 1, 0, 0]     [0]   \n",
              "1   34  [1, 0, 0, 0, 0, 0, 0, 0, 0, 0, 0, 0]  married  [0, 1, 0, 0]     [0]   \n",
              "2   34  [0, 1, 0, 0, 0, 0, 0, 0, 0, 0, 0, 0]   single  [0, 1, 0, 0]     [0]   \n",
              "3   33  [1, 0, 0, 0, 0, 0, 0, 0, 0, 0, 0, 0]   single  [0, 1, 0, 0]     [0]   \n",
              "4   31  [0, 1, 0, 0, 0, 0, 0, 0, 0, 0, 0, 0]  married  [0, 1, 0, 0]     [0]   \n",
              "\n",
              "   balance housing loan    contact  campaign  pdays      poutcome   y  \n",
              "0     4240     [1]  [0]  [1, 0, 0]         1     -1  [0, 0, 0, 1]  no  \n",
              "1     1655     [1]  [0]  [1, 0, 0]         2     -1  [0, 0, 0, 1]  no  \n",
              "2     1423     [1]  [0]  [1, 0, 0]         2     -1  [0, 0, 0, 1]  no  \n",
              "3      585     [1]  [0]  [1, 0, 0]         5     -1  [0, 0, 0, 1]  no  \n",
              "4     1660     [1]  [0]  [1, 0, 0]         1     -1  [0, 0, 0, 1]  no  "
            ],
            "text/html": [
              "\n",
              "  <div id=\"df-5a5a7b43-a552-423d-ae01-547df8080915\" class=\"colab-df-container\">\n",
              "    <div>\n",
              "<style scoped>\n",
              "    .dataframe tbody tr th:only-of-type {\n",
              "        vertical-align: middle;\n",
              "    }\n",
              "\n",
              "    .dataframe tbody tr th {\n",
              "        vertical-align: top;\n",
              "    }\n",
              "\n",
              "    .dataframe thead th {\n",
              "        text-align: right;\n",
              "    }\n",
              "</style>\n",
              "<table border=\"1\" class=\"dataframe\">\n",
              "  <thead>\n",
              "    <tr style=\"text-align: right;\">\n",
              "      <th></th>\n",
              "      <th>age</th>\n",
              "      <th>job</th>\n",
              "      <th>marital</th>\n",
              "      <th>education</th>\n",
              "      <th>default</th>\n",
              "      <th>balance</th>\n",
              "      <th>housing</th>\n",
              "      <th>loan</th>\n",
              "      <th>contact</th>\n",
              "      <th>campaign</th>\n",
              "      <th>pdays</th>\n",
              "      <th>poutcome</th>\n",
              "      <th>y</th>\n",
              "    </tr>\n",
              "  </thead>\n",
              "  <tbody>\n",
              "    <tr>\n",
              "      <th>0</th>\n",
              "      <td>33</td>\n",
              "      <td>[0, 0, 0, 0, 0, 0, 0, 0, 0, 1, 0, 0]</td>\n",
              "      <td>single</td>\n",
              "      <td>[0, 1, 0, 0]</td>\n",
              "      <td>[0]</td>\n",
              "      <td>4240</td>\n",
              "      <td>[1]</td>\n",
              "      <td>[0]</td>\n",
              "      <td>[1, 0, 0]</td>\n",
              "      <td>1</td>\n",
              "      <td>-1</td>\n",
              "      <td>[0, 0, 0, 1]</td>\n",
              "      <td>no</td>\n",
              "    </tr>\n",
              "    <tr>\n",
              "      <th>1</th>\n",
              "      <td>34</td>\n",
              "      <td>[1, 0, 0, 0, 0, 0, 0, 0, 0, 0, 0, 0]</td>\n",
              "      <td>married</td>\n",
              "      <td>[0, 1, 0, 0]</td>\n",
              "      <td>[0]</td>\n",
              "      <td>1655</td>\n",
              "      <td>[1]</td>\n",
              "      <td>[0]</td>\n",
              "      <td>[1, 0, 0]</td>\n",
              "      <td>2</td>\n",
              "      <td>-1</td>\n",
              "      <td>[0, 0, 0, 1]</td>\n",
              "      <td>no</td>\n",
              "    </tr>\n",
              "    <tr>\n",
              "      <th>2</th>\n",
              "      <td>34</td>\n",
              "      <td>[0, 1, 0, 0, 0, 0, 0, 0, 0, 0, 0, 0]</td>\n",
              "      <td>single</td>\n",
              "      <td>[0, 1, 0, 0]</td>\n",
              "      <td>[0]</td>\n",
              "      <td>1423</td>\n",
              "      <td>[1]</td>\n",
              "      <td>[0]</td>\n",
              "      <td>[1, 0, 0]</td>\n",
              "      <td>2</td>\n",
              "      <td>-1</td>\n",
              "      <td>[0, 0, 0, 1]</td>\n",
              "      <td>no</td>\n",
              "    </tr>\n",
              "    <tr>\n",
              "      <th>3</th>\n",
              "      <td>33</td>\n",
              "      <td>[1, 0, 0, 0, 0, 0, 0, 0, 0, 0, 0, 0]</td>\n",
              "      <td>single</td>\n",
              "      <td>[0, 1, 0, 0]</td>\n",
              "      <td>[0]</td>\n",
              "      <td>585</td>\n",
              "      <td>[1]</td>\n",
              "      <td>[0]</td>\n",
              "      <td>[1, 0, 0]</td>\n",
              "      <td>5</td>\n",
              "      <td>-1</td>\n",
              "      <td>[0, 0, 0, 1]</td>\n",
              "      <td>no</td>\n",
              "    </tr>\n",
              "    <tr>\n",
              "      <th>4</th>\n",
              "      <td>31</td>\n",
              "      <td>[0, 1, 0, 0, 0, 0, 0, 0, 0, 0, 0, 0]</td>\n",
              "      <td>married</td>\n",
              "      <td>[0, 1, 0, 0]</td>\n",
              "      <td>[0]</td>\n",
              "      <td>1660</td>\n",
              "      <td>[1]</td>\n",
              "      <td>[0]</td>\n",
              "      <td>[1, 0, 0]</td>\n",
              "      <td>1</td>\n",
              "      <td>-1</td>\n",
              "      <td>[0, 0, 0, 1]</td>\n",
              "      <td>no</td>\n",
              "    </tr>\n",
              "  </tbody>\n",
              "</table>\n",
              "</div>\n",
              "    <div class=\"colab-df-buttons\">\n",
              "\n",
              "  <div class=\"colab-df-container\">\n",
              "    <button class=\"colab-df-convert\" onclick=\"convertToInteractive('df-5a5a7b43-a552-423d-ae01-547df8080915')\"\n",
              "            title=\"Convert this dataframe to an interactive table.\"\n",
              "            style=\"display:none;\">\n",
              "\n",
              "  <svg xmlns=\"http://www.w3.org/2000/svg\" height=\"24px\" viewBox=\"0 -960 960 960\">\n",
              "    <path d=\"M120-120v-720h720v720H120Zm60-500h600v-160H180v160Zm220 220h160v-160H400v160Zm0 220h160v-160H400v160ZM180-400h160v-160H180v160Zm440 0h160v-160H620v160ZM180-180h160v-160H180v160Zm440 0h160v-160H620v160Z\"/>\n",
              "  </svg>\n",
              "    </button>\n",
              "\n",
              "  <style>\n",
              "    .colab-df-container {\n",
              "      display:flex;\n",
              "      gap: 12px;\n",
              "    }\n",
              "\n",
              "    .colab-df-convert {\n",
              "      background-color: #E8F0FE;\n",
              "      border: none;\n",
              "      border-radius: 50%;\n",
              "      cursor: pointer;\n",
              "      display: none;\n",
              "      fill: #1967D2;\n",
              "      height: 32px;\n",
              "      padding: 0 0 0 0;\n",
              "      width: 32px;\n",
              "    }\n",
              "\n",
              "    .colab-df-convert:hover {\n",
              "      background-color: #E2EBFA;\n",
              "      box-shadow: 0px 1px 2px rgba(60, 64, 67, 0.3), 0px 1px 3px 1px rgba(60, 64, 67, 0.15);\n",
              "      fill: #174EA6;\n",
              "    }\n",
              "\n",
              "    .colab-df-buttons div {\n",
              "      margin-bottom: 4px;\n",
              "    }\n",
              "\n",
              "    [theme=dark] .colab-df-convert {\n",
              "      background-color: #3B4455;\n",
              "      fill: #D2E3FC;\n",
              "    }\n",
              "\n",
              "    [theme=dark] .colab-df-convert:hover {\n",
              "      background-color: #434B5C;\n",
              "      box-shadow: 0px 1px 3px 1px rgba(0, 0, 0, 0.15);\n",
              "      filter: drop-shadow(0px 1px 2px rgba(0, 0, 0, 0.3));\n",
              "      fill: #FFFFFF;\n",
              "    }\n",
              "  </style>\n",
              "\n",
              "    <script>\n",
              "      const buttonEl =\n",
              "        document.querySelector('#df-5a5a7b43-a552-423d-ae01-547df8080915 button.colab-df-convert');\n",
              "      buttonEl.style.display =\n",
              "        google.colab.kernel.accessAllowed ? 'block' : 'none';\n",
              "\n",
              "      async function convertToInteractive(key) {\n",
              "        const element = document.querySelector('#df-5a5a7b43-a552-423d-ae01-547df8080915');\n",
              "        const dataTable =\n",
              "          await google.colab.kernel.invokeFunction('convertToInteractive',\n",
              "                                                    [key], {});\n",
              "        if (!dataTable) return;\n",
              "\n",
              "        const docLinkHtml = 'Like what you see? Visit the ' +\n",
              "          '<a target=\"_blank\" href=https://colab.research.google.com/notebooks/data_table.ipynb>data table notebook</a>'\n",
              "          + ' to learn more about interactive tables.';\n",
              "        element.innerHTML = '';\n",
              "        dataTable['output_type'] = 'display_data';\n",
              "        await google.colab.output.renderOutput(dataTable, element);\n",
              "        const docLink = document.createElement('div');\n",
              "        docLink.innerHTML = docLinkHtml;\n",
              "        element.appendChild(docLink);\n",
              "      }\n",
              "    </script>\n",
              "  </div>\n",
              "\n",
              "\n",
              "<div id=\"df-0a065e10-2ef1-466b-9133-46908e415cf8\">\n",
              "  <button class=\"colab-df-quickchart\" onclick=\"quickchart('df-0a065e10-2ef1-466b-9133-46908e415cf8')\"\n",
              "            title=\"Suggest charts\"\n",
              "            style=\"display:none;\">\n",
              "\n",
              "<svg xmlns=\"http://www.w3.org/2000/svg\" height=\"24px\"viewBox=\"0 0 24 24\"\n",
              "     width=\"24px\">\n",
              "    <g>\n",
              "        <path d=\"M19 3H5c-1.1 0-2 .9-2 2v14c0 1.1.9 2 2 2h14c1.1 0 2-.9 2-2V5c0-1.1-.9-2-2-2zM9 17H7v-7h2v7zm4 0h-2V7h2v10zm4 0h-2v-4h2v4z\"/>\n",
              "    </g>\n",
              "</svg>\n",
              "  </button>\n",
              "\n",
              "<style>\n",
              "  .colab-df-quickchart {\n",
              "      --bg-color: #E8F0FE;\n",
              "      --fill-color: #1967D2;\n",
              "      --hover-bg-color: #E2EBFA;\n",
              "      --hover-fill-color: #174EA6;\n",
              "      --disabled-fill-color: #AAA;\n",
              "      --disabled-bg-color: #DDD;\n",
              "  }\n",
              "\n",
              "  [theme=dark] .colab-df-quickchart {\n",
              "      --bg-color: #3B4455;\n",
              "      --fill-color: #D2E3FC;\n",
              "      --hover-bg-color: #434B5C;\n",
              "      --hover-fill-color: #FFFFFF;\n",
              "      --disabled-bg-color: #3B4455;\n",
              "      --disabled-fill-color: #666;\n",
              "  }\n",
              "\n",
              "  .colab-df-quickchart {\n",
              "    background-color: var(--bg-color);\n",
              "    border: none;\n",
              "    border-radius: 50%;\n",
              "    cursor: pointer;\n",
              "    display: none;\n",
              "    fill: var(--fill-color);\n",
              "    height: 32px;\n",
              "    padding: 0;\n",
              "    width: 32px;\n",
              "  }\n",
              "\n",
              "  .colab-df-quickchart:hover {\n",
              "    background-color: var(--hover-bg-color);\n",
              "    box-shadow: 0 1px 2px rgba(60, 64, 67, 0.3), 0 1px 3px 1px rgba(60, 64, 67, 0.15);\n",
              "    fill: var(--button-hover-fill-color);\n",
              "  }\n",
              "\n",
              "  .colab-df-quickchart-complete:disabled,\n",
              "  .colab-df-quickchart-complete:disabled:hover {\n",
              "    background-color: var(--disabled-bg-color);\n",
              "    fill: var(--disabled-fill-color);\n",
              "    box-shadow: none;\n",
              "  }\n",
              "\n",
              "  .colab-df-spinner {\n",
              "    border: 2px solid var(--fill-color);\n",
              "    border-color: transparent;\n",
              "    border-bottom-color: var(--fill-color);\n",
              "    animation:\n",
              "      spin 1s steps(1) infinite;\n",
              "  }\n",
              "\n",
              "  @keyframes spin {\n",
              "    0% {\n",
              "      border-color: transparent;\n",
              "      border-bottom-color: var(--fill-color);\n",
              "      border-left-color: var(--fill-color);\n",
              "    }\n",
              "    20% {\n",
              "      border-color: transparent;\n",
              "      border-left-color: var(--fill-color);\n",
              "      border-top-color: var(--fill-color);\n",
              "    }\n",
              "    30% {\n",
              "      border-color: transparent;\n",
              "      border-left-color: var(--fill-color);\n",
              "      border-top-color: var(--fill-color);\n",
              "      border-right-color: var(--fill-color);\n",
              "    }\n",
              "    40% {\n",
              "      border-color: transparent;\n",
              "      border-right-color: var(--fill-color);\n",
              "      border-top-color: var(--fill-color);\n",
              "    }\n",
              "    60% {\n",
              "      border-color: transparent;\n",
              "      border-right-color: var(--fill-color);\n",
              "    }\n",
              "    80% {\n",
              "      border-color: transparent;\n",
              "      border-right-color: var(--fill-color);\n",
              "      border-bottom-color: var(--fill-color);\n",
              "    }\n",
              "    90% {\n",
              "      border-color: transparent;\n",
              "      border-bottom-color: var(--fill-color);\n",
              "    }\n",
              "  }\n",
              "</style>\n",
              "\n",
              "  <script>\n",
              "    async function quickchart(key) {\n",
              "      const quickchartButtonEl =\n",
              "        document.querySelector('#' + key + ' button');\n",
              "      quickchartButtonEl.disabled = true;  // To prevent multiple clicks.\n",
              "      quickchartButtonEl.classList.add('colab-df-spinner');\n",
              "      try {\n",
              "        const charts = await google.colab.kernel.invokeFunction(\n",
              "            'suggestCharts', [key], {});\n",
              "      } catch (error) {\n",
              "        console.error('Error during call to suggestCharts:', error);\n",
              "      }\n",
              "      quickchartButtonEl.classList.remove('colab-df-spinner');\n",
              "      quickchartButtonEl.classList.add('colab-df-quickchart-complete');\n",
              "    }\n",
              "    (() => {\n",
              "      let quickchartButtonEl =\n",
              "        document.querySelector('#df-0a065e10-2ef1-466b-9133-46908e415cf8 button');\n",
              "      quickchartButtonEl.style.display =\n",
              "        google.colab.kernel.accessAllowed ? 'block' : 'none';\n",
              "    })();\n",
              "  </script>\n",
              "</div>\n",
              "\n",
              "    </div>\n",
              "  </div>\n"
            ],
            "application/vnd.google.colaboratory.intrinsic+json": {
              "type": "dataframe",
              "variable_name": "bank_dataframe",
              "summary": "{\n  \"name\": \"bank_dataframe\",\n  \"rows\": 45211,\n  \"fields\": [\n    {\n      \"column\": \"age\",\n      \"properties\": {\n        \"dtype\": \"number\",\n        \"std\": 10,\n        \"min\": 18,\n        \"max\": 95,\n        \"num_unique_values\": 77,\n        \"samples\": [\n          27,\n          44,\n          56\n        ],\n        \"semantic_type\": \"\",\n        \"description\": \"\"\n      }\n    },\n    {\n      \"column\": \"job\",\n      \"properties\": {\n        \"dtype\": \"object\",\n        \"semantic_type\": \"\",\n        \"description\": \"\"\n      }\n    },\n    {\n      \"column\": \"marital\",\n      \"properties\": {\n        \"dtype\": \"category\",\n        \"num_unique_values\": 3,\n        \"samples\": [\n          \"single\",\n          \"married\",\n          \"divorced\"\n        ],\n        \"semantic_type\": \"\",\n        \"description\": \"\"\n      }\n    },\n    {\n      \"column\": \"education\",\n      \"properties\": {\n        \"dtype\": \"object\",\n        \"semantic_type\": \"\",\n        \"description\": \"\"\n      }\n    },\n    {\n      \"column\": \"default\",\n      \"properties\": {\n        \"dtype\": \"object\",\n        \"semantic_type\": \"\",\n        \"description\": \"\"\n      }\n    },\n    {\n      \"column\": \"balance\",\n      \"properties\": {\n        \"dtype\": \"number\",\n        \"std\": 3044,\n        \"min\": -8019,\n        \"max\": 102127,\n        \"num_unique_values\": 7168,\n        \"samples\": [\n          2392,\n          459,\n          5349\n        ],\n        \"semantic_type\": \"\",\n        \"description\": \"\"\n      }\n    },\n    {\n      \"column\": \"housing\",\n      \"properties\": {\n        \"dtype\": \"object\",\n        \"semantic_type\": \"\",\n        \"description\": \"\"\n      }\n    },\n    {\n      \"column\": \"loan\",\n      \"properties\": {\n        \"dtype\": \"object\",\n        \"semantic_type\": \"\",\n        \"description\": \"\"\n      }\n    },\n    {\n      \"column\": \"contact\",\n      \"properties\": {\n        \"dtype\": \"object\",\n        \"semantic_type\": \"\",\n        \"description\": \"\"\n      }\n    },\n    {\n      \"column\": \"campaign\",\n      \"properties\": {\n        \"dtype\": \"number\",\n        \"std\": 3,\n        \"min\": 1,\n        \"max\": 63,\n        \"num_unique_values\": 48,\n        \"samples\": [\n          25,\n          35,\n          51\n        ],\n        \"semantic_type\": \"\",\n        \"description\": \"\"\n      }\n    },\n    {\n      \"column\": \"pdays\",\n      \"properties\": {\n        \"dtype\": \"number\",\n        \"std\": 100,\n        \"min\": -1,\n        \"max\": 871,\n        \"num_unique_values\": 559,\n        \"samples\": [\n          29,\n          592,\n          200\n        ],\n        \"semantic_type\": \"\",\n        \"description\": \"\"\n      }\n    },\n    {\n      \"column\": \"poutcome\",\n      \"properties\": {\n        \"dtype\": \"object\",\n        \"semantic_type\": \"\",\n        \"description\": \"\"\n      }\n    },\n    {\n      \"column\": \"y\",\n      \"properties\": {\n        \"dtype\": \"category\",\n        \"num_unique_values\": 2,\n        \"samples\": [\n          \"yes\",\n          \"no\"\n        ],\n        \"semantic_type\": \"\",\n        \"description\": \"\"\n      }\n    }\n  ]\n}"
            }
          },
          "metadata": {},
          "execution_count": 2
        }
      ],
      "source": [
        "from sklearn import preprocessing\n",
        "\n",
        "# Convert the categorical features in the DataFrame to one-hot encodings\n",
        "encoder = preprocessing.LabelBinarizer()\n",
        "categorical_features = [\n",
        "    \"default\", \"housing\", \"job\", \"loan\",\n",
        "    \"education\", \"contact\", \"poutcome\"\n",
        "]\n",
        "for feature in categorical_features:\n",
        "    bank_dataframe[feature] = tuple(encoder\n",
        "        .fit_transform(bank_dataframe[feature]))\n",
        "\n",
        "# Shuffle the DataFrame\n",
        "bank_dataframe = bank_dataframe.sample(frac=1)\\\n",
        "    .reset_index(drop=True)\n",
        "\n",
        "# Print the shape of the DataFrame\n",
        "print(f\"data shape: {bank_dataframe.shape}\")\n",
        "\n",
        "# Show the head of the DataFrame\n",
        "bank_dataframe.head()"
      ]
    },
    {
      "cell_type": "markdown",
      "metadata": {
        "id": "jrI8QPAghaGe"
      },
      "source": [
        "#### Create the Dataset object"
      ]
    },
    {
      "cell_type": "code",
      "execution_count": 3,
      "metadata": {
        "id": "RyWS07bghaGf",
        "colab": {
          "base_uri": "https://localhost:8080/"
        },
        "outputId": "893ca2fb-4713-41b6-d5a2-67dc43cc5f24"
      },
      "outputs": [
        {
          "output_type": "stream",
          "name": "stdout",
          "text": [
            "Found a person with marital status: b'single'\n",
            "No non-divorced people were found!\n"
          ]
        },
        {
          "output_type": "execute_result",
          "data": {
            "text/plain": [
              "{'age': TensorSpec(shape=(), dtype=tf.int32, name=None),\n",
              " 'job': TensorSpec(shape=(12,), dtype=tf.int64, name=None),\n",
              " 'education': TensorSpec(shape=(4,), dtype=tf.int64, name=None),\n",
              " 'default': TensorSpec(shape=(1,), dtype=tf.int64, name=None),\n",
              " 'balance': TensorSpec(shape=(), dtype=tf.int32, name=None),\n",
              " 'housing': TensorSpec(shape=(1,), dtype=tf.int64, name=None),\n",
              " 'loan': TensorSpec(shape=(1,), dtype=tf.int64, name=None),\n",
              " 'contact': TensorSpec(shape=(3,), dtype=tf.int64, name=None),\n",
              " 'campaign': TensorSpec(shape=(), dtype=tf.int32, name=None),\n",
              " 'pdays': TensorSpec(shape=(), dtype=tf.int32, name=None),\n",
              " 'poutcome': TensorSpec(shape=(4,), dtype=tf.int64, name=None),\n",
              " 'y': TensorSpec(shape=(), dtype=tf.int32, name=None)}"
            ]
          },
          "metadata": {},
          "execution_count": 3
        }
      ],
      "source": [
        "import tensorflow as tf\n",
        "tf.keras.utils.set_random_seed(seed=42)\n",
        "tf.get_logger().setLevel(\"ERROR\")\n",
        "\n",
        "# Convert the DataFrame to a Dataset\n",
        "dict_bank = dict(bank_dataframe)\n",
        "bank_dataset = tf.data.Dataset.from_tensor_slices(\n",
        "    tensors={k: dict_bank[k].tolist() for k in dict_bank})\n",
        "\n",
        "# First check that there are records in the dataset\n",
        "# for non-married individuals\n",
        "def check_divorced():\n",
        "    bank_dataset_iterable = iter(bank_dataset)\n",
        "    for x in bank_dataset_iterable:\n",
        "        if x[\"marital\"] != \"divorced\":\n",
        "            print(\"Found a person with marital status: {}\"\n",
        "                .format(x[\"marital\"]))\n",
        "            return\n",
        "    print(\"No non-divorced people were found!\")\n",
        "check_divorced()\n",
        "\n",
        "# Filter the Dataset to retain only entries\n",
        "# with a 'divorced' marital status\n",
        "bank_dataset = bank_dataset.filter(predicate=lambda x:\n",
        "    tf.equal(x[\"marital\"], tf.constant([b\"divorced\"]))[0])\n",
        "# Check the records in the dataset again\n",
        "check_divorced()\n",
        "\n",
        "# Convert the label ('y') to an integer\n",
        "# instead of 'yes' or 'no'\n",
        "# Map a function over the dataset\n",
        "def map_label(x):\n",
        "    x[\"y\"] = 0 if (x[\"y\"]==tf.constant([b\"no\"], dtype=tf.string)) else 1\n",
        "    return x\n",
        "bank_dataset = bank_dataset.map(map_func=map_label)\n",
        "\n",
        "# Remove the 'marital' column\n",
        "bank_dataset = bank_dataset.map(map_func=lambda x:\n",
        "    {key: val for key, val in x.items() if key!=\"marital\"})\n",
        "# Inspect the Dataset object\n",
        "bank_dataset.element_spec"
      ]
    },
    {
      "cell_type": "markdown",
      "metadata": {
        "id": "HlYUoVylhaG1"
      },
      "source": [
        "#### Create input and output data tuples"
      ]
    },
    {
      "cell_type": "code",
      "execution_count": 4,
      "metadata": {
        "id": "RIsxi_u0haG1",
        "colab": {
          "base_uri": "https://localhost:8080/"
        },
        "outputId": "18a146af-7608-4dcf-f3c3-97ff53b21dae"
      },
      "outputs": [
        {
          "output_type": "stream",
          "name": "stdout",
          "text": [
            "dataset length: 5207\n",
            "Train dataset element spec: (TensorSpec(shape=(20, 30), dtype=tf.int64, name=None), TensorSpec(shape=(20,), dtype=tf.int32, name=None))\n",
            "Valid dataset element spec: (TensorSpec(shape=(None, 30), dtype=tf.int64, name=None), TensorSpec(shape=(None,), dtype=tf.int32, name=None))\n"
          ]
        }
      ],
      "source": [
        "import tensorflow as tf\n",
        "tf.keras.utils.set_random_seed(seed=42)\n",
        "tf.get_logger().setLevel(\"ERROR\")\n",
        "\n",
        "# Create an input and output tuple for the dataset\n",
        "def map_feature_label(x):\n",
        "    features = [\n",
        "        [x[\"age\"]], [x[\"balance\"]], [x[\"campaign\"]], x[\"contact\"],\n",
        "        x[\"default\"], x[\"education\"], x[\"housing\"], x[\"job\"], x[\"loan\"],\n",
        "        [x[\"pdays\"]], x[\"poutcome\"]]\n",
        "    return (tf.concat(features, axis=0), x[\"y\"])\n",
        "# Map this function over the dataset\n",
        "bank_dataset = bank_dataset.map(map_func=map_feature_label)\n",
        "\n",
        "# Split into a training and a validation set\n",
        "# Determine the length of the Dataset\n",
        "dataset_length = len(list(bank_dataset.as_numpy_iterator()))\n",
        "print(f\"dataset length: {dataset_length}\")\n",
        "\n",
        "# Create batched training and validation datasets\n",
        "train_dataset_length = int(dataset_length * 0.7)\n",
        "train_dataset = bank_dataset.take(count=train_dataset_length)\n",
        "train_dataset = train_dataset.batch(batch_size=20,\n",
        "    drop_remainder=True)\n",
        "# Shuffle the training data\n",
        "train_dataset = train_dataset.shuffle(buffer_size=1000)\n",
        "print(f\"Train dataset element spec: {train_dataset.element_spec}\")\n",
        "\n",
        "valid_dataset = bank_dataset.skip(count=train_dataset_length)\n",
        "valid_dataset = valid_dataset.batch(batch_size=100)\n",
        "print(f\"Valid dataset element spec: {valid_dataset.element_spec}\")"
      ]
    },
    {
      "cell_type": "markdown",
      "metadata": {
        "id": "Aj7Zs8yhhaHG"
      },
      "source": [
        "#### Build a classification model\n",
        "\n",
        "Now let's build a model to classify the features."
      ]
    },
    {
      "cell_type": "code",
      "source": [
        "import tensorflow as tf\n",
        "tf.keras.utils.set_random_seed(seed=42)\n",
        "tf.get_logger().setLevel(\"ERROR\")\n",
        "\n",
        "# Build a classifier model\n",
        "class DepositSubscribeModel(tf.keras.Model):\n",
        "    def __init__(self, *args, **kwargs):\n",
        "        super().__init__(*args, **kwargs)\n",
        "        self.batch_norm01 = tf.keras.layers.BatchNormalization(\n",
        "            momentum=0.8)\n",
        "        self.dense01 = tf.keras.layers.Dense(units=400,\n",
        "            activation=tf.keras.activations.relu)\n",
        "        self.batch_norm02 = tf.keras.layers.BatchNormalization(\n",
        "            momentum=0.8)\n",
        "        self.dense02 = tf.keras.layers.Dense(units=400,\n",
        "            activation=tf.keras.activations.relu)\n",
        "        self.batch_norm03 = tf.keras.layers.BatchNormalization(\n",
        "            momentum=0.8)\n",
        "        self.out = tf.keras.layers.Dense(units=1,\n",
        "            activation=tf.keras.activations.sigmoid)\n",
        "\n",
        "    def call(self, inputs):\n",
        "        h = self.batch_norm01(inputs=inputs)\n",
        "        h = self.dense01(inputs=h)\n",
        "        h = self.batch_norm02(inputs=h)\n",
        "        h = self.dense02(inputs=h)\n",
        "        h = self.batch_norm03(inputs=h)\n",
        "        return self.out(inputs=h)\n",
        "\n",
        "# Show the model summary\n",
        "inputs = tf.keras.Input(shape=(30,))\n",
        "model = DepositSubscribeModel()\n",
        "model(inputs=inputs, training=True)\n",
        "model.summary()"
      ],
      "metadata": {
        "id": "zXUSyCl-nD68",
        "outputId": "798101a5-af63-4059-a8ac-171795c8e7ec",
        "colab": {
          "base_uri": "https://localhost:8080/"
        }
      },
      "execution_count": 8,
      "outputs": [
        {
          "output_type": "stream",
          "name": "stdout",
          "text": [
            "Model: \"deposit_subscribe_model_1\"\n",
            "_________________________________________________________________\n",
            " Layer (type)                Output Shape              Param #   \n",
            "=================================================================\n",
            " batch_normalization_3 (Bat  multiple                  120       \n",
            " chNormalization)                                                \n",
            "                                                                 \n",
            " dense_3 (Dense)             multiple                  12400     \n",
            "                                                                 \n",
            " batch_normalization_4 (Bat  multiple                  1600      \n",
            " chNormalization)                                                \n",
            "                                                                 \n",
            " dense_4 (Dense)             multiple                  160400    \n",
            "                                                                 \n",
            " batch_normalization_5 (Bat  multiple                  1600      \n",
            " chNormalization)                                                \n",
            "                                                                 \n",
            " dense_5 (Dense)             multiple                  401       \n",
            "                                                                 \n",
            "=================================================================\n",
            "Total params: 176521 (689.54 KB)\n",
            "Trainable params: 174861 (683.05 KB)\n",
            "Non-trainable params: 1660 (6.48 KB)\n",
            "_________________________________________________________________\n"
          ]
        }
      ]
    },
    {
      "cell_type": "markdown",
      "metadata": {
        "id": "aALufpk6haHL"
      },
      "source": [
        "#### Train the model"
      ]
    },
    {
      "cell_type": "code",
      "source": [
        "import numpy as np\n",
        "import pandas as pd\n",
        "import tensorflow as tf\n",
        "tf.keras.utils.set_random_seed(seed=42)\n",
        "tf.get_logger().setLevel(\"ERROR\")\n",
        "%matplotlib inline\n",
        "import matplotlib.pyplot as plt\n",
        "import seaborn as sns\n",
        "\n",
        "# Define the binary cross entropy loss\n",
        "# and the Adam optimizer\n",
        "loss_fn = tf.keras.losses.BinaryCrossentropy()\n",
        "optimizer = tf.keras.optimizers.Adam(learning_rate=0.0001)\n",
        "metric_loss = tf.keras.metrics.Mean()\n",
        "metric_acc = tf.keras.metrics.BinaryAccuracy()\n",
        "\n",
        "@tf.function\n",
        "def train(model, x, y):\n",
        "    with tf.GradientTape() as tape:\n",
        "        pred = model(inputs=x, training=True)\n",
        "        metric_acc(y_true=y, y_pred=pred)\n",
        "        loss = loss_fn(y_true=y, y_pred=pred)\n",
        "        metric_loss(values=loss)\n",
        "        grads = tape.gradient(target=loss,\n",
        "            sources=model.trainable_variables)\n",
        "    optimizer.apply_gradients(grads_and_vars=\\\n",
        "        zip(grads, model.trainable_weights))\n",
        "    return metric_loss.result(), metric_acc.result()\n",
        "\n",
        "@tf.function\n",
        "def valid(model, x, y):\n",
        "    pred = model(inputs=x, training=False)\n",
        "    metric_acc(y_true=y, y_pred=pred)\n",
        "    loss = loss_fn(y_true=y, y_pred=pred)\n",
        "    metric_loss(values=loss)\n",
        "    return metric_loss.result(), metric_acc.result()\n",
        "\n",
        "history = {\n",
        "    \"train_loss\": [], \"train_accuracy\": [],\n",
        "    \"valid_loss\": [], \"valid_accuracy\": []\n",
        "}\n",
        "\n",
        "for epoch in range(10):\n",
        "    for x, y in train_dataset:\n",
        "        # Fit the model\n",
        "        train_loss, train_acc = train(\n",
        "            model=model, x=x, y=y)\n",
        "    history[\"train_loss\"].append(train_loss.numpy())\n",
        "    history[\"train_accuracy\"].append(train_acc.numpy())\n",
        "\n",
        "    for x, y in valid_dataset:\n",
        "        valid_loss, valid_acc = valid(\n",
        "            model=model, x=x, y=y)\n",
        "    history[\"valid_loss\"].append(valid_loss.numpy())\n",
        "    history[\"valid_accuracy\"].append(valid_acc.numpy())\n",
        "\n",
        "# Plot the training and validation accuracy\n",
        "df_history = pd.DataFrame(history)\n",
        "fig, axes = plt.subplots(nrows=2, sharex=True, figsize=(12, 8))\n",
        "fig.suptitle(t=\"Training Metrics\")\n",
        "axes[1].set_xlabel(xlabel=\"epoch\")\n",
        "for ax, metric in zip(axes, [\"loss\", \"accuracy\"]):\n",
        "    sns.lineplot(ax=ax, label=\"train\", data=df_history,\n",
        "        x=df_history.index, y=f\"train_{metric}\")\n",
        "    sns.lineplot(ax=ax, label=\"valid\", data=df_history,\n",
        "        x=df_history.index, y=f\"valid_{metric}\")\n",
        "    ax.legend(loc=\"best\")\n",
        "    ax.set_ylabel(ylabel=f\"{metric}\")\n",
        "    ax.set_title(label=f\"{metric} vs. epoch\")\n",
        "fig.tight_layout()\n",
        "plt.show()"
      ],
      "metadata": {
        "id": "QY57QAPR6xYA",
        "outputId": "8d943dd9-fce6-4179-eb82-4722cfcd2c41",
        "colab": {
          "base_uri": "https://localhost:8080/",
          "height": 548
        }
      },
      "execution_count": 9,
      "outputs": [
        {
          "output_type": "display_data",
          "data": {
            "text/plain": [
              "<Figure size 1200x800 with 2 Axes>"
            ],
            "image/png": "[encoded data removed]"
          },
          "metadata": {}
        }
      ]
    }
  ],
  "metadata": {
    "colab": {
      "name": "Data_pipeline.ipynb",
      "provenance": [],
      "gpuType": "T4",
      "include_colab_link": true
    },
    "kernelspec": {
      "display_name": "Python 3",
      "name": "python3"
    },
    "language_info": {
      "codemirror_mode": {
        "name": "ipython",
        "version": 3
      },
      "file_extension": ".py",
      "mimetype": "text/x-python",
      "name": "python",
      "nbconvert_exporter": "python",
      "pygments_lexer": "ipython3",
      "version": "3.8.10"
    },
    "accelerator": "GPU"
  },
  "nbformat": 4,
  "nbformat_minor": 0
}