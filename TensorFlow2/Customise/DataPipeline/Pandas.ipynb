{
  "cells": [
    {
      "cell_type": "markdown",
      "metadata": {
        "id": "view-in-github",
        "colab_type": "text"
      },
      "source": [
        "<a href=\"https://colab.research.google.com/github/MengOonLee/Deep_learning/blob/master/TensorFlow2/Customise/DataPipeline/Pandas.ipynb\" target=\"_parent\"><img src=\"https://colab.research.google.com/assets/colab-badge.svg\" alt=\"Open In Colab\"/></a>"
      ]
    },
    {
      "cell_type": "markdown",
      "metadata": {
        "id": "h5f8-rto_3Qf"
      },
      "source": [
        "# Creating Datasets from different sources\n",
        "\n",
        "In this reading notebook, we will explore a few of the ways in which we can load data into a `tf.data.Dataset` object."
      ]
    },
    {
      "cell_type": "markdown",
      "metadata": {
        "id": "ROrVHlBg_3Qr"
      },
      "source": [
        "## The `from_tensor_slices` and `from_tensors` methods\n",
        "\n",
        "We will start by looking at the `from_tensor_slices` and the `from_tensors` methods.\n",
        "\n",
        "Both static methods are used to create datasets from Tensors or Tensor-like objects, such as numpy arrays or python lists. We can also pass in tuples and dicts of arrays or lists. The main distinction between the `from_tensor_slices` function and the `from_tensors` function is that the `from_tensor_slices` method will interpret the first dimension of the input data as the number of elements in the dataset, whereas the `from_tensors` method always results in a Dataset with a single element, containing the Tensor or tuple of Tensors passed."
      ]
    },
    {
      "cell_type": "code",
      "execution_count": null,
      "metadata": {
        "colab": {
          "base_uri": "https://localhost:8080/"
        },
        "id": "1e0L-kIg_3Qv",
        "outputId": "592ad990-2582-49fb-b660-8ba5658d784a"
      },
      "outputs": [
        {
          "output_type": "stream",
          "name": "stdout",
          "text": [
            "TensorSpec(shape=(2,), dtype=tf.float32, name=None)\n",
            "tf.Tensor([0.6645621  0.44100678], shape=(2,), dtype=float32)\n",
            "tf.Tensor([0.3528825  0.46448255], shape=(2,), dtype=float32)\n",
            "tf.Tensor([0.03366041 0.68467236], shape=(2,), dtype=float32)\n",
            "TensorSpec(shape=(3, 2), dtype=tf.float32, name=None)\n",
            "tf.Tensor(\n",
            "[[0.6645621  0.44100678]\n",
            " [0.3528825  0.46448255]\n",
            " [0.03366041 0.68467236]], shape=(3, 2), dtype=float32)\n"
          ]
        }
      ],
      "source": [
        "import tensorflow as tf\n",
        "tf.keras.utils.set_random_seed(seed=42)\n",
        "tf.get_logger().setLevel(\"ERROR\")\n",
        "\n",
        "# Create a random tensor with shape (3, 2)\n",
        "example_tensor = tf.random.uniform(shape=(3, 2))\n",
        "\n",
        "# Create two Datasets, using each static method\n",
        "# Print the element_spec for each\n",
        "dataset1 = tf.data.Dataset.from_tensor_slices(\n",
        "    tensors=example_tensor)\n",
        "print(dataset1.element_spec)\n",
        "for elem in dataset1:\n",
        "    print(elem)\n",
        "\n",
        "dataset2 = tf.data.Dataset.from_tensors(\n",
        "    tensors=example_tensor)\n",
        "print(dataset2.element_spec)\n",
        "for elem in dataset2:\n",
        "    print(elem)"
      ]
    },
    {
      "cell_type": "markdown",
      "metadata": {
        "id": "nu-GIIvC_3RE"
      },
      "source": [
        "As seen above, creating the Dataset using the `from_tensor_slices` method slices the given array or Tensor along the first dimension to produce a set of elements for the Dataset.\n",
        "\n",
        "This means that although we could pass any Tensor - or tuple of Tensors - to the `from_tensors` method, the same cannot be said of the `from_tensor_slices` method, which has the additional requirement that each Tensor in the list has the same size in the zeroth dimension."
      ]
    },
    {
      "cell_type": "code",
      "execution_count": null,
      "metadata": {
        "id": "A4VOx4yX_3RG"
      },
      "outputs": [],
      "source": [
        "import tensorflow as tf\n",
        "tf.keras.utils.set_random_seed(seed=42)\n",
        "tf.get_logger().setLevel(\"ERROR\")\n",
        "\n",
        "# Create three Tensors with different shapes\n",
        "tensor1 = tf.random.uniform(shape=(10, 2, 2))\n",
        "tensor2 = tf.random.uniform(shape=(10, 1))\n",
        "tensor3 = tf.random.uniform(shape=(9, 2, 2))"
      ]
    },
    {
      "cell_type": "markdown",
      "metadata": {
        "id": "W-zKj2KI_3RP"
      },
      "source": [
        "We cannot create a Dataset using the `from_tensor_slices` method from a list of `tensor1` and `tensor3` since they do not have the same size in the first dimension:"
      ]
    },
    {
      "cell_type": "markdown",
      "metadata": {
        "id": "4q779VFd_3RW"
      },
      "source": [
        "However, we can of course create a Dataset from this tuple using the `from_tensors` method, which interprets the tuple as a single element."
      ]
    },
    {
      "cell_type": "code",
      "execution_count": null,
      "metadata": {
        "colab": {
          "base_uri": "https://localhost:8080/"
        },
        "id": "0C26468e_3RX",
        "outputId": "8ccb2a13-9ff0-44c3-8313-a602b571fe30",
        "tags": []
      },
      "outputs": [
        {
          "output_type": "execute_result",
          "data": {
            "text/plain": [
              "(TensorSpec(shape=(10, 2, 2), dtype=tf.float32, name=None),\n",
              " TensorSpec(shape=(9, 2, 2), dtype=tf.float32, name=None))"
            ]
          },
          "metadata": {},
          "execution_count": 4
        }
      ],
      "source": [
        "import tensorflow as tf\n",
        "tf.keras.utils.set_random_seed(seed=42)\n",
        "tf.get_logger().setLevel(\"ERROR\")\n",
        "\n",
        "# Create a Dataset from tensor1 and tensor3 using from_tensors\n",
        "dataset = tf.data.Dataset.from_tensors(\n",
        "    tensors=(tensor1, tensor3))\n",
        "dataset.element_spec"
      ]
    },
    {
      "cell_type": "markdown",
      "metadata": {
        "id": "HG031o_Q_3Rc"
      },
      "source": [
        "Although `tensor1` and `tensor2` do not have the same shape, or even same rank (number of dimensions), we can still use the `from_tensor_slices` method to form a dataset from a list of these tensors, since they have the same size in the first dimension."
      ]
    },
    {
      "cell_type": "code",
      "execution_count": null,
      "metadata": {
        "colab": {
          "base_uri": "https://localhost:8080/"
        },
        "id": "Cocsbny6_3Rc",
        "outputId": "bb80c71c-f299-42e2-bb2d-6da4cf0753f4"
      },
      "outputs": [
        {
          "output_type": "execute_result",
          "data": {
            "text/plain": [
              "(TensorSpec(shape=(2, 2), dtype=tf.float32, name=None),\n",
              " TensorSpec(shape=(1,), dtype=tf.float32, name=None))"
            ]
          },
          "metadata": {},
          "execution_count": 5
        }
      ],
      "source": [
        "import tensorflow as tf\n",
        "tf.keras.utils.set_random_seed(seed=42)\n",
        "tf.get_logger().setLevel(\"ERROR\")\n",
        "\n",
        "# Create a Dataset from tensor1 and tensor2\n",
        "dataset = tf.data.Dataset.from_tensor_slices(\n",
        "    tensors=(tensor1, tensor2))\n",
        "dataset.element_spec"
      ]
    },
    {
      "cell_type": "markdown",
      "metadata": {
        "id": "YmS2-pWM_3Ri"
      },
      "source": [
        "In the above, the first dimension was interpreted as the number of elements in the Dataset, as expected."
      ]
    },
    {
      "cell_type": "markdown",
      "metadata": {
        "id": "tE2tys74_3Rj"
      },
      "source": [
        "### Creating Datasets from numpy arrays"
      ]
    },
    {
      "cell_type": "markdown",
      "metadata": {
        "id": "sLgmebmD_3Rk"
      },
      "source": [
        "We can also use the `from_tensor_slices` and `from_tensors` methods to create Datasets from numpy arrays. In fact, behind the scenes, the numpy array is converted to a set of `tf.constant` operations to populate the Tensor in the TensorFlow graph."
      ]
    },
    {
      "cell_type": "code",
      "execution_count": null,
      "metadata": {
        "colab": {
          "base_uri": "https://localhost:8080/"
        },
        "id": "6d5blPTp_3Rl",
        "outputId": "1078703a-1f38-40e1-f6c4-6718ee19fafd"
      },
      "outputs": [
        {
          "output_type": "stream",
          "name": "stdout",
          "text": [
            "(3, 2, 2)\n",
            "TensorSpec(shape=(2, 2), dtype=tf.int64, name=None)\n",
            "TensorSpec(shape=(3, 2, 2), dtype=tf.int64, name=None)\n"
          ]
        }
      ],
      "source": [
        "import numpy as np\n",
        "import tensorflow as tf\n",
        "tf.keras.utils.set_random_seed(seed=42)\n",
        "tf.get_logger().setLevel(\"ERROR\")\n",
        "\n",
        "# Create a numpy array dataset\n",
        "numpy_array = np.array([\n",
        "    [[1, 2], [3, 4]],\n",
        "    [[5, 6], [7, 8]],\n",
        "    [[9, 10], [11, 12]]\n",
        "])\n",
        "print(numpy_array.shape)\n",
        "\n",
        "# Create two Datasets, using each static method\n",
        "dataset1 = tf.data.Dataset.from_tensor_slices(\n",
        "    tensors=numpy_array)\n",
        "print(dataset1.element_spec)\n",
        "\n",
        "dataset2 = tf.data.Dataset.from_tensors(\n",
        "    tensors=numpy_array)\n",
        "print(dataset2.element_spec)"
      ]
    },
    {
      "cell_type": "markdown",
      "metadata": {
        "id": "uPD2u3fu_3Rw"
      },
      "source": [
        "As before, `from_tensors` interprets the entire array as a single element, whereas `from_tensor_slices` slices the array along the first dimension to form the elements."
      ]
    },
    {
      "cell_type": "markdown",
      "metadata": {
        "id": "w3xlPlXd_3Rw"
      },
      "source": [
        "### Creating Datasets from pandas DataFrames\n",
        "A pandas DataFrame can be easily converted to a Dataset using the `from_tensor_slices` method.\n",
        "#### The Balloons dataset\n",
        "A pandas DataFrame can be loaded from a CSV file. We will use the [Balloons dataset](https://archive.ics.uci.edu/ml/datasets/Balloons) to demonstrate. This dataset is stored in a CSV file, and contains a list of attributes describing instances of a balloon inflation experiment, such as the colour and size of the balloon, the age of the person who performed the attempted inflation, and the way in which they did it. Finally, there is the target column \"Inflated\", which is either `T` for True, or `F` for False, indicating whether or not the person managed to inflate the balloon."
      ]
    },
    {
      "cell_type": "code",
      "execution_count": 1,
      "metadata": {
        "id": "IhjqVibO_3Rx",
        "colab": {
          "base_uri": "https://localhost:8080/",
          "height": 206
        },
        "outputId": "68ed3380-383b-4a99-c87b-83a8cc1f9812"
      },
      "outputs": [
        {
          "output_type": "execute_result",
          "data": {
            "text/plain": [
              "   Colour   Size      Act    Age Inflated\n",
              "0  YELLOW  SMALL  STRETCH  ADULT        T\n",
              "1  YELLOW  SMALL  STRETCH  ADULT        T\n",
              "2  YELLOW  SMALL  STRETCH  CHILD        F\n",
              "3  YELLOW  SMALL      DIP  ADULT        F\n",
              "4  YELLOW  SMALL      DIP  CHILD        F"
            ],
            "text/html": [
              "\n",
              "  <div id=\"df-603b6698-40e7-4f42-b68a-f5f6090b0580\" class=\"colab-df-container\">\n",
              "    <div>\n",
              "<style scoped>\n",
              "    .dataframe tbody tr th:only-of-type {\n",
              "        vertical-align: middle;\n",
              "    }\n",
              "\n",
              "    .dataframe tbody tr th {\n",
              "        vertical-align: top;\n",
              "    }\n",
              "\n",
              "    .dataframe thead th {\n",
              "        text-align: right;\n",
              "    }\n",
              "</style>\n",
              "<table border=\"1\" class=\"dataframe\">\n",
              "  <thead>\n",
              "    <tr style=\"text-align: right;\">\n",
              "      <th></th>\n",
              "      <th>Colour</th>\n",
              "      <th>Size</th>\n",
              "      <th>Act</th>\n",
              "      <th>Age</th>\n",
              "      <th>Inflated</th>\n",
              "    </tr>\n",
              "  </thead>\n",
              "  <tbody>\n",
              "    <tr>\n",
              "      <th>0</th>\n",
              "      <td>YELLOW</td>\n",
              "      <td>SMALL</td>\n",
              "      <td>STRETCH</td>\n",
              "      <td>ADULT</td>\n",
              "      <td>T</td>\n",
              "    </tr>\n",
              "    <tr>\n",
              "      <th>1</th>\n",
              "      <td>YELLOW</td>\n",
              "      <td>SMALL</td>\n",
              "      <td>STRETCH</td>\n",
              "      <td>ADULT</td>\n",
              "      <td>T</td>\n",
              "    </tr>\n",
              "    <tr>\n",
              "      <th>2</th>\n",
              "      <td>YELLOW</td>\n",
              "      <td>SMALL</td>\n",
              "      <td>STRETCH</td>\n",
              "      <td>CHILD</td>\n",
              "      <td>F</td>\n",
              "    </tr>\n",
              "    <tr>\n",
              "      <th>3</th>\n",
              "      <td>YELLOW</td>\n",
              "      <td>SMALL</td>\n",
              "      <td>DIP</td>\n",
              "      <td>ADULT</td>\n",
              "      <td>F</td>\n",
              "    </tr>\n",
              "    <tr>\n",
              "      <th>4</th>\n",
              "      <td>YELLOW</td>\n",
              "      <td>SMALL</td>\n",
              "      <td>DIP</td>\n",
              "      <td>CHILD</td>\n",
              "      <td>F</td>\n",
              "    </tr>\n",
              "  </tbody>\n",
              "</table>\n",
              "</div>\n",
              "    <div class=\"colab-df-buttons\">\n",
              "\n",
              "  <div class=\"colab-df-container\">\n",
              "    <button class=\"colab-df-convert\" onclick=\"convertToInteractive('df-603b6698-40e7-4f42-b68a-f5f6090b0580')\"\n",
              "            title=\"Convert this dataframe to an interactive table.\"\n",
              "            style=\"display:none;\">\n",
              "\n",
              "  <svg xmlns=\"http://www.w3.org/2000/svg\" height=\"24px\" viewBox=\"0 -960 960 960\">\n",
              "    <path d=\"M120-120v-720h720v720H120Zm60-500h600v-160H180v160Zm220 220h160v-160H400v160Zm0 220h160v-160H400v160ZM180-400h160v-160H180v160Zm440 0h160v-160H620v160ZM180-180h160v-160H180v160Zm440 0h160v-160H620v160Z\"/>\n",
              "  </svg>\n",
              "    </button>\n",
              "\n",
              "  <style>\n",
              "    .colab-df-container {\n",
              "      display:flex;\n",
              "      gap: 12px;\n",
              "    }\n",
              "\n",
              "    .colab-df-convert {\n",
              "      background-color: #E8F0FE;\n",
              "      border: none;\n",
              "      border-radius: 50%;\n",
              "      cursor: pointer;\n",
              "      display: none;\n",
              "      fill: #1967D2;\n",
              "      height: 32px;\n",
              "      padding: 0 0 0 0;\n",
              "      width: 32px;\n",
              "    }\n",
              "\n",
              "    .colab-df-convert:hover {\n",
              "      background-color: #E2EBFA;\n",
              "      box-shadow: 0px 1px 2px rgba(60, 64, 67, 0.3), 0px 1px 3px 1px rgba(60, 64, 67, 0.15);\n",
              "      fill: #174EA6;\n",
              "    }\n",
              "\n",
              "    .colab-df-buttons div {\n",
              "      margin-bottom: 4px;\n",
              "    }\n",
              "\n",
              "    [theme=dark] .colab-df-convert {\n",
              "      background-color: #3B4455;\n",
              "      fill: #D2E3FC;\n",
              "    }\n",
              "\n",
              "    [theme=dark] .colab-df-convert:hover {\n",
              "      background-color: #434B5C;\n",
              "      box-shadow: 0px 1px 3px 1px rgba(0, 0, 0, 0.15);\n",
              "      filter: drop-shadow(0px 1px 2px rgba(0, 0, 0, 0.3));\n",
              "      fill: #FFFFFF;\n",
              "    }\n",
              "  </style>\n",
              "\n",
              "    <script>\n",
              "      const buttonEl =\n",
              "        document.querySelector('#df-603b6698-40e7-4f42-b68a-f5f6090b0580 button.colab-df-convert');\n",
              "      buttonEl.style.display =\n",
              "        google.colab.kernel.accessAllowed ? 'block' : 'none';\n",
              "\n",
              "      async function convertToInteractive(key) {\n",
              "        const element = document.querySelector('#df-603b6698-40e7-4f42-b68a-f5f6090b0580');\n",
              "        const dataTable =\n",
              "          await google.colab.kernel.invokeFunction('convertToInteractive',\n",
              "                                                    [key], {});\n",
              "        if (!dataTable) return;\n",
              "\n",
              "        const docLinkHtml = 'Like what you see? Visit the ' +\n",
              "          '<a target=\"_blank\" href=https://colab.research.google.com/notebooks/data_table.ipynb>data table notebook</a>'\n",
              "          + ' to learn more about interactive tables.';\n",
              "        element.innerHTML = '';\n",
              "        dataTable['output_type'] = 'display_data';\n",
              "        await google.colab.output.renderOutput(dataTable, element);\n",
              "        const docLink = document.createElement('div');\n",
              "        docLink.innerHTML = docLinkHtml;\n",
              "        element.appendChild(docLink);\n",
              "      }\n",
              "    </script>\n",
              "  </div>\n",
              "\n",
              "\n",
              "<div id=\"df-f16fee75-9fef-4a60-b01d-bdf0a4724a01\">\n",
              "  <button class=\"colab-df-quickchart\" onclick=\"quickchart('df-f16fee75-9fef-4a60-b01d-bdf0a4724a01')\"\n",
              "            title=\"Suggest charts\"\n",
              "            style=\"display:none;\">\n",
              "\n",
              "<svg xmlns=\"http://www.w3.org/2000/svg\" height=\"24px\"viewBox=\"0 0 24 24\"\n",
              "     width=\"24px\">\n",
              "    <g>\n",
              "        <path d=\"M19 3H5c-1.1 0-2 .9-2 2v14c0 1.1.9 2 2 2h14c1.1 0 2-.9 2-2V5c0-1.1-.9-2-2-2zM9 17H7v-7h2v7zm4 0h-2V7h2v10zm4 0h-2v-4h2v4z\"/>\n",
              "    </g>\n",
              "</svg>\n",
              "  </button>\n",
              "\n",
              "<style>\n",
              "  .colab-df-quickchart {\n",
              "      --bg-color: #E8F0FE;\n",
              "      --fill-color: #1967D2;\n",
              "      --hover-bg-color: #E2EBFA;\n",
              "      --hover-fill-color: #174EA6;\n",
              "      --disabled-fill-color: #AAA;\n",
              "      --disabled-bg-color: #DDD;\n",
              "  }\n",
              "\n",
              "  [theme=dark] .colab-df-quickchart {\n",
              "      --bg-color: #3B4455;\n",
              "      --fill-color: #D2E3FC;\n",
              "      --hover-bg-color: #434B5C;\n",
              "      --hover-fill-color: #FFFFFF;\n",
              "      --disabled-bg-color: #3B4455;\n",
              "      --disabled-fill-color: #666;\n",
              "  }\n",
              "\n",
              "  .colab-df-quickchart {\n",
              "    background-color: var(--bg-color);\n",
              "    border: none;\n",
              "    border-radius: 50%;\n",
              "    cursor: pointer;\n",
              "    display: none;\n",
              "    fill: var(--fill-color);\n",
              "    height: 32px;\n",
              "    padding: 0;\n",
              "    width: 32px;\n",
              "  }\n",
              "\n",
              "  .colab-df-quickchart:hover {\n",
              "    background-color: var(--hover-bg-color);\n",
              "    box-shadow: 0 1px 2px rgba(60, 64, 67, 0.3), 0 1px 3px 1px rgba(60, 64, 67, 0.15);\n",
              "    fill: var(--button-hover-fill-color);\n",
              "  }\n",
              "\n",
              "  .colab-df-quickchart-complete:disabled,\n",
              "  .colab-df-quickchart-complete:disabled:hover {\n",
              "    background-color: var(--disabled-bg-color);\n",
              "    fill: var(--disabled-fill-color);\n",
              "    box-shadow: none;\n",
              "  }\n",
              "\n",
              "  .colab-df-spinner {\n",
              "    border: 2px solid var(--fill-color);\n",
              "    border-color: transparent;\n",
              "    border-bottom-color: var(--fill-color);\n",
              "    animation:\n",
              "      spin 1s steps(1) infinite;\n",
              "  }\n",
              "\n",
              "  @keyframes spin {\n",
              "    0% {\n",
              "      border-color: transparent;\n",
              "      border-bottom-color: var(--fill-color);\n",
              "      border-left-color: var(--fill-color);\n",
              "    }\n",
              "    20% {\n",
              "      border-color: transparent;\n",
              "      border-left-color: var(--fill-color);\n",
              "      border-top-color: var(--fill-color);\n",
              "    }\n",
              "    30% {\n",
              "      border-color: transparent;\n",
              "      border-left-color: var(--fill-color);\n",
              "      border-top-color: var(--fill-color);\n",
              "      border-right-color: var(--fill-color);\n",
              "    }\n",
              "    40% {\n",
              "      border-color: transparent;\n",
              "      border-right-color: var(--fill-color);\n",
              "      border-top-color: var(--fill-color);\n",
              "    }\n",
              "    60% {\n",
              "      border-color: transparent;\n",
              "      border-right-color: var(--fill-color);\n",
              "    }\n",
              "    80% {\n",
              "      border-color: transparent;\n",
              "      border-right-color: var(--fill-color);\n",
              "      border-bottom-color: var(--fill-color);\n",
              "    }\n",
              "    90% {\n",
              "      border-color: transparent;\n",
              "      border-bottom-color: var(--fill-color);\n",
              "    }\n",
              "  }\n",
              "</style>\n",
              "\n",
              "  <script>\n",
              "    async function quickchart(key) {\n",
              "      const quickchartButtonEl =\n",
              "        document.querySelector('#' + key + ' button');\n",
              "      quickchartButtonEl.disabled = true;  // To prevent multiple clicks.\n",
              "      quickchartButtonEl.classList.add('colab-df-spinner');\n",
              "      try {\n",
              "        const charts = await google.colab.kernel.invokeFunction(\n",
              "            'suggestCharts', [key], {});\n",
              "      } catch (error) {\n",
              "        console.error('Error during call to suggestCharts:', error);\n",
              "      }\n",
              "      quickchartButtonEl.classList.remove('colab-df-spinner');\n",
              "      quickchartButtonEl.classList.add('colab-df-quickchart-complete');\n",
              "    }\n",
              "    (() => {\n",
              "      let quickchartButtonEl =\n",
              "        document.querySelector('#df-f16fee75-9fef-4a60-b01d-bdf0a4724a01 button');\n",
              "      quickchartButtonEl.style.display =\n",
              "        google.colab.kernel.accessAllowed ? 'block' : 'none';\n",
              "    })();\n",
              "  </script>\n",
              "</div>\n",
              "\n",
              "    </div>\n",
              "  </div>\n"
            ]
          },
          "metadata": {},
          "execution_count": 1
        }
      ],
      "source": [
        "import pandas as pd\n",
        "\n",
        "# Load the CSV file into a Dataframe\n",
        "pandas_dataframe = pd.read_csv(\"data/balloon_dataset.csv\")\n",
        "# Inspect the data\n",
        "pandas_dataframe.head()"
      ]
    },
    {
      "cell_type": "markdown",
      "metadata": {
        "id": "-Ref4oYh_3R8"
      },
      "source": [
        "To convert the DataFrame to a Dataset, we first convert the DataFrame to a dictionary. By doing this, we preserve the column names as the dictionary labels.\n",
        "\n",
        "**Note**: A Dataset can be formed from either a tuple or a dict of Tensors. We saw above a number of Datasets being formed from a tuple. The only distinction for a Dataset formed from a dict is that the Dataset items will be dicts accessed by key, rather than tuples accessed by index."
      ]
    },
    {
      "cell_type": "code",
      "execution_count": 2,
      "metadata": {
        "colab": {
          "base_uri": "https://localhost:8080/"
        },
        "id": "E3AEisUD_3R9",
        "outputId": "6d556d89-8db1-4649-d450-7c162f32bff4"
      },
      "outputs": [
        {
          "output_type": "stream",
          "name": "stdout",
          "text": [
            "dict_keys(['Colour', 'Size', 'Act', 'Age', 'Inflated'])\n"
          ]
        }
      ],
      "source": [
        "# Convert the DataFrame to a dict\n",
        "dataframe_dict = dict(pandas_dataframe)\n",
        "print(dataframe_dict.keys())"
      ]
    },
    {
      "cell_type": "markdown",
      "metadata": {
        "id": "IjAE6O05_3SC"
      },
      "source": [
        "We can now run the `from_tensor_slices` method on this `dict` and print the resulting Dataset `element_spec`, as well as an example element. Note that since we formed the Dataset from a `dict`, we see the column (dictionary) names in the `element_spec`."
      ]
    },
    {
      "cell_type": "code",
      "execution_count": 3,
      "metadata": {
        "id": "dswbxybY_3SD",
        "outputId": "a0b85ca8-4d63-45c2-8dce-e9f0e8c3db17",
        "colab": {
          "base_uri": "https://localhost:8080/"
        }
      },
      "outputs": [
        {
          "output_type": "stream",
          "name": "stdout",
          "text": [
            "{'Colour': TensorSpec(shape=(), dtype=tf.string, name=None), 'Size': TensorSpec(shape=(), dtype=tf.string, name=None), 'Act': TensorSpec(shape=(), dtype=tf.string, name=None), 'Age': TensorSpec(shape=(), dtype=tf.string, name=None), 'Inflated': TensorSpec(shape=(), dtype=tf.string, name=None)}\n"
          ]
        },
        {
          "output_type": "execute_result",
          "data": {
            "text/plain": [
              "{'Colour': <tf.Tensor: shape=(), dtype=string, numpy=b'YELLOW'>,\n",
              " 'Size': <tf.Tensor: shape=(), dtype=string, numpy=b'SMALL'>,\n",
              " 'Act': <tf.Tensor: shape=(), dtype=string, numpy=b'STRETCH'>,\n",
              " 'Age': <tf.Tensor: shape=(), dtype=string, numpy=b'ADULT'>,\n",
              " 'Inflated': <tf.Tensor: shape=(), dtype=string, numpy=b'T'>}"
            ]
          },
          "metadata": {},
          "execution_count": 3
        }
      ],
      "source": [
        "import tensorflow as tf\n",
        "tf.keras.utils.set_random_seed(seed=42)\n",
        "tf.get_logger().setLevel(\"ERROR\")\n",
        "\n",
        "# Create the Dataset\n",
        "pandas_dataset = tf.data.Dataset.from_tensor_slices(\n",
        "    tensors=dataframe_dict)\n",
        "\n",
        "# View the Dataset element_spec\n",
        "print(pandas_dataset.element_spec)\n",
        "\n",
        "# Iterate the Dataset\n",
        "next(iter(pandas_dataset))"
      ]
    },
    {
      "cell_type": "markdown",
      "metadata": {
        "id": "LB40lKzN_3SQ"
      },
      "source": [
        "## Creating Datasets directly from CSV Files\n",
        "\n",
        "The TensorFlow experimental library contains a variety of functions and classes contributed by the community that may not be ready for release into the main TensorFlow library in their immediate form, but which may be included in TensorFlow in the future. One such useful experimental function is the `tf.data.experimental.make_csv_dataset` function. This allows us to read CSV data from the disk directly into a Dataset object.\n",
        "\n",
        "We will run the function on the example CSV file from disk, and specify the batch size and the name of the target column, which is used to structure the Dataset into an `(input, target)` tuple.\n",
        "\n",
        "**Note:** Because of the ephemeral nature of the `experimental` package, you may well get warnings printed in the console when using a function or class contained in the package for the first time."
      ]
    },
    {
      "cell_type": "code",
      "execution_count": 4,
      "metadata": {
        "id": "hd1Pnu0C_3SR"
      },
      "outputs": [],
      "source": [
        "import tensorflow as tf\n",
        "tf.keras.utils.set_random_seed(seed=42)\n",
        "tf.get_logger().setLevel(\"ERROR\")\n",
        "\n",
        "# Create the Dataset from the CSV file\n",
        "csv_dataset = tf.data.experimental.make_csv_dataset(\n",
        "    file_pattern=\"data/balloon_dataset.csv\",\n",
        "    batch_size=1, label_name='Inflated')"
      ]
    },
    {
      "cell_type": "markdown",
      "metadata": {
        "id": "IS5gTcja_3SV"
      },
      "source": [
        "To check that we've loaded our Dataset correctly, let's print the `element_spec`:"
      ]
    },
    {
      "cell_type": "code",
      "execution_count": 6,
      "metadata": {
        "colab": {
          "base_uri": "https://localhost:8080/"
        },
        "id": "rSNITKfJ_3SW",
        "outputId": "eaf43a02-5639-451e-f200-3287be100abb"
      },
      "outputs": [
        {
          "output_type": "stream",
          "name": "stdout",
          "text": [
            "(OrderedDict([('Colour', TensorSpec(shape=(1,), dtype=tf.string, name=None)), ('Size', TensorSpec(shape=(1,), dtype=tf.string, name=None)), ('Act', TensorSpec(shape=(1,), dtype=tf.string, name=None)), ('Age', TensorSpec(shape=(1,), dtype=tf.string, name=None))]), TensorSpec(shape=(1,), dtype=tf.string, name=None))\n"
          ]
        },
        {
          "output_type": "execute_result",
          "data": {
            "text/plain": [
              "(OrderedDict([('Colour',\n",
              "               <tf.Tensor: shape=(1,), dtype=string, numpy=array([b'YELLOW'], dtype=object)>),\n",
              "              ('Size',\n",
              "               <tf.Tensor: shape=(1,), dtype=string, numpy=array([b'SMALL'], dtype=object)>),\n",
              "              ('Act',\n",
              "               <tf.Tensor: shape=(1,), dtype=string, numpy=array([b'STRETCH'], dtype=object)>),\n",
              "              ('Age',\n",
              "               <tf.Tensor: shape=(1,), dtype=string, numpy=array([b'ADULT'], dtype=object)>)]),\n",
              " <tf.Tensor: shape=(1,), dtype=string, numpy=array([b'T'], dtype=object)>)"
            ]
          },
          "metadata": {},
          "execution_count": 6
        }
      ],
      "source": [
        "# View the Dataset element_spec\n",
        "print(csv_dataset.element_spec)\n",
        "\n",
        "# Iterate the Dataset\n",
        "next(iter(csv_dataset))"
      ]
    },
    {
      "cell_type": "markdown",
      "metadata": {
        "id": "ox-YVNZf_3Sf"
      },
      "source": [
        "Note that in the above Dataset, the target column `Inflated` does not have a key, since it is uniquely accessible as the second element of the tuple, whereas the attributes which reside as a dictionary of Tensors in the first element retain their labels so we can distinguish them."
      ]
    },
    {
      "cell_type": "markdown",
      "metadata": {
        "id": "U2sHapSj_3Sg"
      },
      "source": [
        "## Further reading and resources\n",
        "\n",
        "* https://www.tensorflow.org/guide/data\n",
        "* https://www.tensorflow.org/tutorials/load_data/csv\n",
        "* https://www.tensorflow.org/tutorials/load_data/pandas_dataframe\n",
        "* https://www.tensorflow.org/api_docs/python/tf/data/Dataset"
      ]
    }
  ],
  "metadata": {
    "colab": {
      "name": "TFDataset_pandas_dataframe.ipynb",
      "provenance": [],
      "include_colab_link": true
    },
    "kernelspec": {
      "display_name": "Python 3",
      "name": "python3"
    },
    "language_info": {
      "codemirror_mode": {
        "name": "ipython",
        "version": 3
      },
      "file_extension": ".py",
      "mimetype": "text/x-python",
      "name": "python",
      "nbconvert_exporter": "python",
      "pygments_lexer": "ipython3",
      "version": "3.8.10"
    }
  },
  "nbformat": 4,
  "nbformat_minor": 0
}