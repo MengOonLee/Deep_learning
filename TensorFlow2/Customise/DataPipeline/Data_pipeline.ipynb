{
  "cells": [
    {
      "cell_type": "markdown",
      "metadata": {
        "id": "view-in-github",
        "colab_type": "text"
      },
      "source": [
        "<a href=\"https://colab.research.google.com/github/MengOonLee/Deep_learning/blob/master/TensorFlow2/Customise/DataPipeline/Data_pipeline.ipynb\" target=\"_parent\"><img src=\"https://colab.research.google.com/assets/colab-badge.svg\" alt=\"Open In Colab\"/></a>"
      ]
    },
    {
      "cell_type": "code",
      "execution_count": null,
      "metadata": {
        "id": "VqozXePCuqX_",
        "outputId": "5c520888-b75a-495d-dfc9-c8f518b16d02"
      },
      "outputs": [
        {
          "name": "stdout",
          "output_type": "stream",
          "text": [
            "No broken requirements found.\n"
          ]
        }
      ],
      "source": [
        "%%bash\n",
        "pip install --no-cache-dir -qU pip wheel\n",
        "pip install --no-cache-dir -qU numpy pandas matplotlib seaborn scikit-learn\n",
        "pip install --no-cache-dir -qU tensorflow pydot\n",
        "pip check"
      ]
    },
    {
      "cell_type": "code",
      "execution_count": 23,
      "metadata": {
        "id": "j0Oi8mZVhZ_z",
        "scrolled": true,
        "tags": []
      },
      "outputs": [],
      "source": [
        "import os\n",
        "import numpy as np\n",
        "import pandas as pd\n",
        "import json\n",
        "\n",
        "%matplotlib inline\n",
        "%config InlineBackend.figure_format = 'retina'\n",
        "import matplotlib.pyplot as plt\n",
        "\n",
        "import seaborn as sns\n",
        "sns.set_style('whitegrid')\n",
        "sns.set(font='DejaVu Sans')\n",
        "\n",
        "import tensorflow as tf\n",
        "tf.keras.utils.set_random_seed(42)\n",
        "tf.get_logger().setLevel('ERROR')"
      ]
    },
    {
      "cell_type": "markdown",
      "metadata": {
        "id": "xwp-WlWbhZ__"
      },
      "source": [
        "# Data Pipeline"
      ]
    },
    {
      "cell_type": "markdown",
      "metadata": {
        "id": "4cBJq_RLhaAB"
      },
      "source": [
        " ## Coding tutorials\n",
        " #### [1. Keras datasets](#coding_tutorial_1)\n",
        " #### [2. Dataset generators](#coding_tutorial_2)\n",
        " #### [3. Keras image data augmentation](#coding_tutorial_3)\n",
        " #### [4. The Dataset class](#coding_tutorial_4)\n",
        " #### [5. Training with Datasets](#coding_tutorial_5)"
      ]
    },
    {
      "cell_type": "markdown",
      "metadata": {
        "id": "PWJ8FsVQhaAE"
      },
      "source": [
        "***\n",
        "<a id=\"coding_tutorial_1\"></a>\n",
        "## Keras datasets\n",
        "\n",
        "For a list of Keras datasets and documentation on recommended usage, see [this link](https://keras.io/datasets/)."
      ]
    },
    {
      "cell_type": "code",
      "execution_count": 2,
      "metadata": {
        "colab": {
          "base_uri": "https://localhost:8080/"
        },
        "id": "RwSFosLquqYJ",
        "outputId": "f163b5f5-2e86-478e-c366-edafb9b4f57b"
      },
      "outputs": [
        {
          "output_type": "stream",
          "name": "stdout",
          "text": [
            "Downloading data from https://storage.googleapis.com/tensorflow/tf-keras-datasets/mnist.npz\n",
            "11490434/11490434 [==============================] - 0s 0us/step\n",
            "x train shape: (60000, 28, 28)\n",
            "y train shape: (60000,)\n"
          ]
        }
      ],
      "source": [
        "(x_train, y_train), (x_test, y_test) = tf.keras.datasets.mnist.load_data()\n",
        "\n",
        "print(f\"x train shape: {x_train.shape}\")\n",
        "print(f\"y train shape: {y_train.shape}\")"
      ]
    },
    {
      "cell_type": "code",
      "execution_count": 3,
      "metadata": {
        "colab": {
          "base_uri": "https://localhost:8080/"
        },
        "id": "9bhdvEh9uqYK",
        "outputId": "87e36ae3-27d0-43cf-d5f0-506987fe21da"
      },
      "outputs": [
        {
          "output_type": "stream",
          "name": "stdout",
          "text": [
            "Downloading data from https://www.cs.toronto.edu/~kriz/cifar-10-python.tar.gz\n",
            "170498071/170498071 [==============================] - 2s 0us/step\n",
            "x test shape: (10000, 32, 32, 3)\n",
            "y test shape: (10000, 1)\n"
          ]
        }
      ],
      "source": [
        "(x_train, y_train), (x_test, y_test) = tf.keras.datasets.cifar10.load_data()\n",
        "\n",
        "print(f\"x test shape: {x_test.shape}\")\n",
        "print(f\"y test shape: {y_test.shape}\")"
      ]
    },
    {
      "cell_type": "code",
      "execution_count": 4,
      "metadata": {
        "colab": {
          "base_uri": "https://localhost:8080/"
        },
        "id": "oCKta5QKuqYK",
        "outputId": "6d4f7475-edce-4cd8-e5d8-a0f789dca14a"
      },
      "outputs": [
        {
          "output_type": "stream",
          "name": "stdout",
          "text": [
            "Downloading data from https://storage.googleapis.com/tensorflow/tf-keras-datasets/imdb.npz\n",
            "17464789/17464789 [==============================] - 0s 0us/step\n",
            "x train shape: (2773,)\n",
            "y train shape: (2773,)\n"
          ]
        }
      ],
      "source": [
        "(x_train, y_train), (x_test, y_test) = tf.keras.datasets.imdb.load_data(\n",
        "    num_words=1000, maxlen=100)\n",
        "\n",
        "print(f\"x train shape: {x_train.shape}\")\n",
        "print(f\"y train shape: {y_train.shape}\")"
      ]
    },
    {
      "cell_type": "markdown",
      "metadata": {
        "id": "AgnvqE4bhaAM"
      },
      "source": [
        "#### Load the CIFAR-100 Dataset"
      ]
    },
    {
      "cell_type": "code",
      "execution_count": 5,
      "metadata": {
        "colab": {
          "base_uri": "https://localhost:8080/"
        },
        "id": "UvgpO_ithaAS",
        "outputId": "15a48de2-7afd-4a45-c6c8-8e4446749dff",
        "scrolled": true
      },
      "outputs": [
        {
          "output_type": "stream",
          "name": "stdout",
          "text": [
            "Downloading data from https://www.cs.toronto.edu/~kriz/cifar-100-python.tar.gz\n",
            "169001437/169001437 [==============================] - 2s 0us/step\n"
          ]
        }
      ],
      "source": [
        "# Load the CIFAR-100 dataset\n",
        "\n",
        "(train_images, train_labels), (test_images, test_labels) = \\\n",
        "    tf.keras.datasets.cifar100.load_data(label_mode='fine')"
      ]
    },
    {
      "cell_type": "code",
      "execution_count": 6,
      "metadata": {
        "id": "gUkc2wWUhaAZ"
      },
      "outputs": [],
      "source": [
        "# Confirm that reloading the dataset does not require a download\n",
        "\n",
        "(train_images, train_labels), (test_images, test_labels) = \\\n",
        "    tf.keras.datasets.cifar100.load_data(label_mode='fine')"
      ]
    },
    {
      "cell_type": "markdown",
      "metadata": {
        "id": "Rf61wNi8haAg"
      },
      "source": [
        "#### Examine the Dataset"
      ]
    },
    {
      "cell_type": "code",
      "execution_count": 7,
      "metadata": {
        "colab": {
          "base_uri": "https://localhost:8080/"
        },
        "id": "GqECp0NVhaAg",
        "outputId": "360927af-5e05-48a8-80a5-f1ccbb261f62",
        "scrolled": true,
        "tags": []
      },
      "outputs": [
        {
          "output_type": "stream",
          "name": "stdout",
          "text": [
            "train images shape: (50000, 32, 32, 3)\n",
            "train labels shape: (50000, 1)\n",
            "test images shape: (10000, 32, 32, 3)\n",
            "test labels shape: (10000, 1)\n"
          ]
        }
      ],
      "source": [
        "# Examine the shape of the data.\n",
        "\n",
        "print(f\"train images shape: {train_images.shape}\")\n",
        "print(f\"train labels shape: {train_labels.shape}\")\n",
        "print(f\"test images shape: {test_images.shape}\")\n",
        "print(f\"test labels shape: {test_labels.shape}\")"
      ]
    },
    {
      "cell_type": "code",
      "execution_count": 8,
      "metadata": {
        "id": "xRT2bTXkuqYQ"
      },
      "outputs": [],
      "source": [
        "os.makedirs('./data', exist_ok=True)"
      ]
    },
    {
      "cell_type": "code",
      "execution_count": 9,
      "metadata": {
        "id": "CaZS2ZqRhaAp"
      },
      "outputs": [],
      "source": [
        "# Load the list of labels from a JSON file\n",
        "\n",
        "with open('./data/cifar100_fine_labels.json', 'r') as fine_labels:\n",
        "    cifar100_fine_labels = json.load(fine_labels)"
      ]
    },
    {
      "cell_type": "markdown",
      "metadata": {
        "id": "638jOdbUhaAu"
      },
      "source": [
        "The list of labels for the CIFAR-100 dataset are available [here](https://www.cs.toronto.edu/~kriz/cifar.html)."
      ]
    },
    {
      "cell_type": "code",
      "execution_count": 10,
      "metadata": {
        "colab": {
          "base_uri": "https://localhost:8080/"
        },
        "id": "hLAtBSiAhaAv",
        "outputId": "80b259a6-274c-48fc-dfd1-12aa6a7bce18",
        "scrolled": true,
        "tags": []
      },
      "outputs": [
        {
          "output_type": "execute_result",
          "data": {
            "text/plain": [
              "['apple',\n",
              " 'aquarium_fish',\n",
              " 'baby',\n",
              " 'bear',\n",
              " 'beaver',\n",
              " 'bed',\n",
              " 'bee',\n",
              " 'beetle',\n",
              " 'bicycle',\n",
              " 'bottle']"
            ]
          },
          "metadata": {},
          "execution_count": 10
        }
      ],
      "source": [
        "# Print a few of the labels\n",
        "\n",
        "cifar100_fine_labels[0:10]"
      ]
    },
    {
      "cell_type": "code",
      "execution_count": 11,
      "metadata": {
        "colab": {
          "base_uri": "https://localhost:8080/"
        },
        "id": "EA-0YZVZhaAz",
        "outputId": "c8322224-5401-4aa4-977e-c5a0bff0de67"
      },
      "outputs": [
        {
          "output_type": "stream",
          "name": "stdout",
          "text": [
            "lawn_mower\n"
          ]
        }
      ],
      "source": [
        "# Print the corresponding label for the example above\n",
        "\n",
        "print(cifar100_fine_labels[41])"
      ]
    },
    {
      "cell_type": "code",
      "execution_count": 12,
      "metadata": {
        "colab": {
          "base_uri": "https://localhost:8080/",
          "height": 155
        },
        "id": "gGJe--0AhaAk",
        "outputId": "b0da9719-852b-4602-885b-e6493b0c428a",
        "scrolled": true,
        "tags": []
      },
      "outputs": [
        {
          "output_type": "display_data",
          "data": {
            "text/plain": [
              "<Figure size 144x144 with 1 Axes>"
            ],
            "image/png": "[encoded data removed]"
          },
          "metadata": {
            "image/png": {
              "width": 123,
              "height": 138
            }
          }
        }
      ],
      "source": [
        "# Examine one of the images and its corresponding label\n",
        "\n",
        "plt.figure(figsize=(2, 2))\n",
        "plt.imshow(train_images[500])\n",
        "plt.title(cifar100_fine_labels[train_labels[500].squeeze()])\n",
        "plt.axis('off')\n",
        "plt.show()"
      ]
    },
    {
      "cell_type": "code",
      "execution_count": 13,
      "metadata": {
        "colab": {
          "base_uri": "https://localhost:8080/",
          "height": 211
        },
        "id": "VMfLUaBKhaA4",
        "outputId": "8f63f449-909e-4ddd-860c-a73205dffd45"
      },
      "outputs": [
        {
          "output_type": "display_data",
          "data": {
            "text/plain": [
              "<Figure size 720x360 with 3 Axes>"
            ],
            "image/png": "[encoded data removed]"
          },
          "metadata": {
            "image/png": {
              "width": 572,
              "height": 194
            }
          }
        }
      ],
      "source": [
        "# Display a few examples from category 87 (index 86) \n",
        "# and the list of labels\n",
        "\n",
        "examples = train_images[(train_labels.T == 86)[0]][:3]\n",
        "fig, ax = plt.subplots(1, 3, figsize=(10, 5))\n",
        "for i, img in enumerate(examples):\n",
        "    ax[i].imshow(img)\n",
        "    ax[i].set_title(cifar100_fine_labels[86])\n",
        "    ax[i].axis('off')\n",
        "plt.show()"
      ]
    },
    {
      "cell_type": "markdown",
      "metadata": {
        "id": "aTVd9oefhaA4"
      },
      "source": [
        "#### Load the data using different label modes"
      ]
    },
    {
      "cell_type": "code",
      "execution_count": 14,
      "metadata": {
        "id": "wuXemjRYhaA-",
        "outputId": "7ecc25f3-07e4-47ee-c5a8-c81cff675d7f",
        "colab": {
          "base_uri": "https://localhost:8080/"
        }
      },
      "outputs": [
        {
          "output_type": "stream",
          "name": "stdout",
          "text": [
            "train images shape: (50000, 32, 32, 3)\n",
            "train labels shape: (50000, 1)\n"
          ]
        }
      ],
      "source": [
        "# Reload the data using the 'coarse' label mode\n",
        "\n",
        "(train_images, train_labels), (test_images, test_labels) = \\\n",
        "    tf.keras.datasets.cifar100.load_data(label_mode='coarse')\n",
        "\n",
        "print(f\"train images shape: {train_images.shape}\")\n",
        "print(f\"train labels shape: {train_labels.shape}\")"
      ]
    },
    {
      "cell_type": "code",
      "execution_count": 15,
      "metadata": {
        "id": "D9cNRdPYhaBL"
      },
      "outputs": [],
      "source": [
        "# Load the list of coarse labels from a JSON file\n",
        "\n",
        "with open('./data/cifar100_coarse_labels.json', 'r') as coarse_labels:\n",
        "    cifar100_coarse_labels = json.load(coarse_labels)"
      ]
    },
    {
      "cell_type": "code",
      "execution_count": 16,
      "metadata": {
        "colab": {
          "base_uri": "https://localhost:8080/"
        },
        "id": "goHyipcjhaBQ",
        "outputId": "cdbf87b6-b263-451a-f28f-9b35e814a69d",
        "scrolled": true
      },
      "outputs": [
        {
          "output_type": "execute_result",
          "data": {
            "text/plain": [
              "['aquatic mammals',\n",
              " 'fish',\n",
              " 'flowers',\n",
              " 'food containers',\n",
              " 'fruit and vegetables',\n",
              " 'household electrical device',\n",
              " 'household furniture',\n",
              " 'insects',\n",
              " 'large carnivores',\n",
              " 'large man-made outdoor things']"
            ]
          },
          "metadata": {},
          "execution_count": 16
        }
      ],
      "source": [
        "# Print a few of the labels\n",
        "\n",
        "cifar100_coarse_labels[0:10]"
      ]
    },
    {
      "cell_type": "code",
      "execution_count": 17,
      "metadata": {
        "colab": {
          "base_uri": "https://localhost:8080/"
        },
        "id": "64amm6m3haBT",
        "outputId": "040d2d5b-502c-499c-c7d4-22730269fa32"
      },
      "outputs": [
        {
          "output_type": "stream",
          "name": "stdout",
          "text": [
            "telephone\n",
            "household electrical device\n"
          ]
        }
      ],
      "source": [
        "# Print the corresponding label for the example above\n",
        "\n",
        "print(cifar100_fine_labels[86])\n",
        "print(cifar100_coarse_labels[5])"
      ]
    },
    {
      "cell_type": "code",
      "execution_count": 18,
      "metadata": {
        "colab": {
          "base_uri": "https://localhost:8080/",
          "height": 211
        },
        "id": "qIp_vgFShaBG",
        "outputId": "cf0b5121-9343-4974-d296-a02965034d31"
      },
      "outputs": [
        {
          "output_type": "display_data",
          "data": {
            "text/plain": [
              "<Figure size 720x360 with 3 Axes>"
            ],
            "image/png": "[encoded data removed]"
          },
          "metadata": {
            "image/png": {
              "width": 572,
              "height": 194
            }
          }
        }
      ],
      "source": [
        "# Display three images from the dataset with the label 6 (index 5)\n",
        "\n",
        "examples = train_images[(train_labels.T == 5)[0]][:3]\n",
        "fig, ax = plt.subplots(1, 3, figsize=(10, 5))\n",
        "for i, img in enumerate(examples):\n",
        "    ax[i].imshow(img)\n",
        "    ax[i].set_title(cifar100_coarse_labels[5])\n",
        "    ax[i].axis('off')\n",
        "plt.show()"
      ]
    },
    {
      "cell_type": "markdown",
      "metadata": {
        "id": "7sa08-SVhaBY"
      },
      "source": [
        "#### Load the IMDB Dataset"
      ]
    },
    {
      "cell_type": "code",
      "execution_count": 19,
      "metadata": {
        "id": "Jm1b7aw6haBb"
      },
      "outputs": [],
      "source": [
        "# Load the IMDB dataset\n",
        "\n",
        "(train_data, train_labels), (test_data, test_labels) = \\\n",
        "    tf.keras.datasets.imdb.load_data()"
      ]
    },
    {
      "cell_type": "code",
      "execution_count": 20,
      "metadata": {
        "colab": {
          "base_uri": "https://localhost:8080/"
        },
        "id": "Tpxc1o0chaBf",
        "outputId": "a491dbbe-c971-493d-b8d0-56de6be6b0c0"
      },
      "outputs": [
        {
          "output_type": "stream",
          "name": "stdout",
          "text": [
            "[1, 14, 22, 16, 43, 530, 973, 1622, 1385, 65, 458, 4468, 66, 3941, 4, 173, 36, 256, 5, 25, 100, 43, 838, 112, 50, 670, 22665, 9, 35, 480, 284, 5, 150, 4, 172, 112, 167, 21631, 336, 385, 39, 4, 172, 4536, 1111, 17, 546, 38, 13, 447, 4, 192, 50, 16, 6, 147, 2025, 19, 14, 22, 4, 1920, 4613, 469, 4, 22, 71, 87, 12, 16, 43, 530, 38, 76, 15, 13, 1247, 4, 22, 17, 515, 17, 12, 16, 626, 18, 19193, 5, 62, 386, 12, 8, 316, 8, 106, 5, 4, 2223, 5244, 16, 480, 66, 3785, 33, 4, 130, 12, 16, 38, 619, 5, 25, 124, 51, 36, 135, 48, 25, 1415, 33, 6, 22, 12, 215, 28, 77, 52, 5, 14, 407, 16, 82, 10311, 8, 4, 107, 117, 5952, 15, 256, 4, 31050, 7, 3766, 5, 723, 36, 71, 43, 530, 476, 26, 400, 317, 46, 7, 4, 12118, 1029, 13, 104, 88, 4, 381, 15, 297, 98, 32, 2071, 56, 26, 141, 6, 194, 7486, 18, 4, 226, 22, 21, 134, 476, 26, 480, 5, 144, 30, 5535, 18, 51, 36, 28, 224, 92, 25, 104, 4, 226, 65, 16, 38, 1334, 88, 12, 16, 283, 5, 16, 4472, 113, 103, 32, 15, 16, 5345, 19, 178, 32]\n",
            "1\n"
          ]
        }
      ],
      "source": [
        "# Print an example from the training dataset, \n",
        "# along with its corresponding label\n",
        "\n",
        "print(train_data[0])\n",
        "print(train_labels[0])"
      ]
    },
    {
      "cell_type": "code",
      "execution_count": 21,
      "metadata": {
        "id": "Xsfmd_QqhaBk"
      },
      "outputs": [],
      "source": [
        "# Get the lengths of the input sequences\n",
        "\n",
        "sequence_lengths = [len(seq) for seq in train_data]"
      ]
    },
    {
      "cell_type": "code",
      "execution_count": 22,
      "metadata": {
        "colab": {
          "base_uri": "https://localhost:8080/"
        },
        "id": "HxTg_K9lhaBo",
        "outputId": "8f8c33d4-46fb-497d-c0aa-46f2b93a81e2"
      },
      "outputs": [
        {
          "output_type": "stream",
          "name": "stdout",
          "text": [
            "2494\n",
            "11\n"
          ]
        }
      ],
      "source": [
        "# Determine the maximum and minimum sequence length\n",
        "\n",
        "print(np.max(sequence_lengths))\n",
        "print(np.min(sequence_lengths))"
      ]
    },
    {
      "cell_type": "markdown",
      "metadata": {
        "id": "q76xgLEHhaBt"
      },
      "source": [
        "#### Using Keyword Arguments"
      ]
    },
    {
      "cell_type": "code",
      "execution_count": null,
      "metadata": {
        "id": "seXXALxPhaBu"
      },
      "outputs": [],
      "source": [
        "# Load the data ignoring the 50 most frequent words, \n",
        "# use oov_char=2 (this is the default)\n",
        "\n",
        "(train_data, train_labels), (test_data, test_labels) = \\\n",
        "    tf.keras.datasets.imdb.load_data(skip_top=50, oov_char=2)"
      ]
    },
    {
      "cell_type": "code",
      "execution_count": null,
      "metadata": {
        "id": "E_7RK-yuhaBx"
      },
      "outputs": [],
      "source": [
        "# Get the lengths of the input sequences\n",
        "\n",
        "sequence_lengths = [len(seq) for seq in train_data]"
      ]
    },
    {
      "cell_type": "code",
      "execution_count": null,
      "metadata": {
        "colab": {
          "base_uri": "https://localhost:8080/"
        },
        "id": "d6Kzx3nEhaB2",
        "outputId": "749c53a6-4623-4cf9-8824-7e7df5d80f29"
      },
      "outputs": [
        {
          "name": "stdout",
          "output_type": "stream",
          "text": [
            "2494\n",
            "11\n"
          ]
        }
      ],
      "source": [
        "# Determine the maximum and minimum sequence length\n",
        "\n",
        "print(np.max(sequence_lengths))\n",
        "print(np.min(sequence_lengths))"
      ]
    },
    {
      "cell_type": "code",
      "execution_count": null,
      "metadata": {
        "id": "bVAxwvpNhaB5"
      },
      "outputs": [],
      "source": [
        "# Define functions for filtering the sequences\n",
        "\n",
        "def remove_oov_char(element):\n",
        "    ''' Filter function for removing the oov_char. '''\n",
        "    return [word for word in element if word!=2]\n",
        "\n",
        "def filter_list(lst):\n",
        "    ''' Run remove_oov_char on elements in a list. '''\n",
        "    return [remove_oov_char(element) for element in lst]"
      ]
    },
    {
      "cell_type": "code",
      "execution_count": null,
      "metadata": {
        "id": "03mSP1BQhaB9"
      },
      "outputs": [],
      "source": [
        "# Remove the oov_char from the sequences using \n",
        "# the filter_list function\n",
        "\n",
        "train_data = filter_list(train_data)"
      ]
    },
    {
      "cell_type": "code",
      "execution_count": null,
      "metadata": {
        "id": "Li56msGRhaCA"
      },
      "outputs": [],
      "source": [
        "# Get the lengths of the input sequences\n",
        "\n",
        "sequence_lengths = [len(seq) for seq in train_data]"
      ]
    },
    {
      "cell_type": "code",
      "execution_count": null,
      "metadata": {
        "colab": {
          "base_uri": "https://localhost:8080/"
        },
        "id": "7bK8yBTfhaCD",
        "outputId": "8b315985-6b25-4289-95e6-6c6f9d37e089"
      },
      "outputs": [
        {
          "name": "stdout",
          "output_type": "stream",
          "text": [
            "1648\n",
            "3\n"
          ]
        }
      ],
      "source": [
        "# Determine the maximum and minimum sequence length\n",
        "\n",
        "print(np.max(sequence_lengths))\n",
        "print(np.min(sequence_lengths))"
      ]
    },
    {
      "cell_type": "markdown",
      "metadata": {
        "id": "9jdrQ2I6haCG"
      },
      "source": [
        "***\n",
        "<a id=\"coding_tutorial_2\"></a>\n",
        "## Dataset generators"
      ]
    },
    {
      "cell_type": "code",
      "execution_count": null,
      "metadata": {
        "id": "Li0tJhkQhaCH"
      },
      "outputs": [],
      "source": [
        "def text_file_reader(filepath):\n",
        "    with open(filepath, 'r') as f:\n",
        "        for row in f:\n",
        "            yield row\n",
        "            \n",
        "text_datagen = text_file_reader('data_file.txt')\n",
        "\n",
        "next(text_datagen) # 'A line of text\\n'\n",
        "next(text_datagen) # 'Another line of text\\n'"
      ]
    },
    {
      "cell_type": "code",
      "execution_count": null,
      "metadata": {
        "scrolled": true,
        "tags": [],
        "id": "LFE86mgluqYX",
        "outputId": "249acad0-fd27-44a3-8731-13707643c5a6"
      },
      "outputs": [
        {
          "name": "stdout",
          "output_type": "stream",
          "text": [
            "[0.9455716] [1]\n",
            "[-0.01436574] [1]\n",
            "[-0.38447078] [1]\n",
            "[1.70750341] [1]\n",
            "[0.35515607] [1]\n",
            "[0.26230633] [0]\n",
            "[-1.64544476] [0]\n",
            "[1.10386206] [1]\n",
            "[0.94684232] [1]\n",
            "[1.16943274] [1]\n",
            "[0.73662998] [1]\n",
            "[-0.39931175] [0]\n",
            "[-1.01485673] [0]\n",
            "[1.79247383] [1]\n",
            "[-1.03362635] [0]\n",
            "[2.76554881] [1]\n",
            "[0.7871554] [1]\n",
            "[-1.22615825] [0]\n",
            "[-0.86118921] [1]\n",
            "[3.14480565] [1]\n",
            "[-0.98091368] [0]\n",
            "[-0.56353457] [0]\n",
            "[-1.42038854] [1]\n",
            "[-0.13387891] [1]\n",
            "[0.79976492] [1]\n",
            "[2.80686659] [1]\n",
            "[-0.27042601] [0]\n",
            "[2.69129775] [1]\n",
            "[-3.04562021] [0]\n",
            "[-0.64030199] [0]\n",
            "[2.99762212] [1]\n",
            "[-2.70741372] [0]\n"
          ]
        }
      ],
      "source": [
        "import numpy as np\n",
        "\n",
        "def get_data(batch_size):\n",
        "    while True:\n",
        "        y_train = np.random.choice([0, 1], (batch_size, 1))\n",
        "        x_train = np.random.randn(batch_size, 1) + (2*y_train - 1)\n",
        "        yield x_train, y_train\n",
        "        \n",
        "datagen = get_data(32)\n",
        "\n",
        "x, y = next(datagen)\n",
        "\n",
        "for e in zip(x, y):\n",
        "    print(e[0], e[1])"
      ]
    },
    {
      "cell_type": "markdown",
      "metadata": {
        "id": "-GVfDxrvhaCK"
      },
      "source": [
        "#### Load the UCI Fertility Dataset\n",
        "\n",
        "We will be using a dataset available at https://archive.ics.uci.edu/ml/datasets/Fertility from UC Irvine."
      ]
    },
    {
      "cell_type": "markdown",
      "metadata": {
        "id": "NOLlI9Y3a9_4"
      },
      "source": [
        "#### Import the data\n",
        "\n",
        "The dataset required for this tutorial can be downloaded from the following link:\n",
        "\n",
        "https://drive.google.com/open?id=1OA0lwa5YLDs1njS377jbqPpMSlH5TzQV\n",
        "\n",
        "You should store this file for use in this Colab notebook."
      ]
    },
    {
      "cell_type": "code",
      "execution_count": null,
      "metadata": {
        "id": "cH5sTyYUbfic"
      },
      "outputs": [],
      "source": [
        "data_dir = \"./data\"\n",
        "if not os.path.exists(data_dir):\n",
        "    os.makedirs(data_dir)"
      ]
    },
    {
      "cell_type": "code",
      "execution_count": null,
      "metadata": {
        "colab": {
          "base_uri": "https://localhost:8080/"
        },
        "id": "d5p23aarbHC_",
        "outputId": "b650da54-66fc-412e-9bc2-98c4f3695dea"
      },
      "outputs": [
        {
          "name": "stderr",
          "output_type": "stream",
          "text": [
            "  % Total    % Received % Xferd  Average Speed   Time    Time     Time  Current\n",
            "                                 Dload  Upload   Total   Spent    Left  Speed\n",
            "100   408    0   408    0     0   3517      0 --:--:-- --:--:-- --:--:--  3547\n",
            "  0     0    0     0    0     0      0      0 --:--:-- --:--:-- --:--:--     0\n",
            "  0     0    0     0    0     0      0      0 --:--:-- --:--:-- --:--:--     0\n",
            "100  2941  100  2941    0     0  10772      0 --:--:-- --:--:-- --:--:-- 10772\n"
          ]
        }
      ],
      "source": [
        "%%bash\n",
        "\n",
        "fileid=\"1OA0lwa5YLDs1njS377jbqPpMSlH5TzQV\"\n",
        "filename=\"./data/fertility_diagnosis.txt\"\n",
        "curl -c ./cookie -s -L \"https://drive.google.com/uc?export=download&id=${fileid}\" > /dev/null\n",
        "curl -Lb ./cookie \"https://drive.google.com/uc?export=download&confirm=`awk '/download/ {print $NF}' ./cookie`&id=${fileid}\" -o ${filename}\n",
        "\n",
        "rm ./cookie"
      ]
    },
    {
      "cell_type": "code",
      "execution_count": null,
      "metadata": {
        "id": "XIlGWFwohaCL"
      },
      "outputs": [],
      "source": [
        "# Load the fertility dataset\n",
        "\n",
        "headers = ['Season', 'Age', 'Diseases', 'Trauma', 'Surgery', 'Fever', \n",
        "    'Alcohol', 'Smoking', 'Sitting', 'Output']\n",
        "fertility = pd.read_csv('data/fertility_diagnosis.txt', delimiter=',', \n",
        "    header=None, names=headers)"
      ]
    },
    {
      "cell_type": "code",
      "execution_count": null,
      "metadata": {
        "colab": {
          "base_uri": "https://localhost:8080/"
        },
        "id": "0ynOs8o8haCO",
        "outputId": "56ba796f-d0e2-4a33-9593-373294eaf083"
      },
      "outputs": [
        {
          "name": "stdout",
          "output_type": "stream",
          "text": [
            "(100, 10)\n"
          ]
        }
      ],
      "source": [
        "# Print the shape of the DataFrame\n",
        "\n",
        "print(fertility.shape)"
      ]
    },
    {
      "cell_type": "code",
      "execution_count": null,
      "metadata": {
        "colab": {
          "base_uri": "https://localhost:8080/",
          "height": 206
        },
        "id": "M9xM_0JhhaCR",
        "outputId": "7d3a525f-225c-40e1-c691-dc9f7dcb5ae9"
      },
      "outputs": [
        {
          "data": {
            "text/html": [
              "<div>\n",
              "<style scoped>\n",
              "    .dataframe tbody tr th:only-of-type {\n",
              "        vertical-align: middle;\n",
              "    }\n",
              "\n",
              "    .dataframe tbody tr th {\n",
              "        vertical-align: top;\n",
              "    }\n",
              "\n",
              "    .dataframe thead th {\n",
              "        text-align: right;\n",
              "    }\n",
              "</style>\n",
              "<table border=\"1\" class=\"dataframe\">\n",
              "  <thead>\n",
              "    <tr style=\"text-align: right;\">\n",
              "      <th></th>\n",
              "      <th>Season</th>\n",
              "      <th>Age</th>\n",
              "      <th>Diseases</th>\n",
              "      <th>Trauma</th>\n",
              "      <th>Surgery</th>\n",
              "      <th>Fever</th>\n",
              "      <th>Alcohol</th>\n",
              "      <th>Smoking</th>\n",
              "      <th>Sitting</th>\n",
              "      <th>Output</th>\n",
              "    </tr>\n",
              "  </thead>\n",
              "  <tbody>\n",
              "    <tr>\n",
              "      <th>0</th>\n",
              "      <td>-0.33</td>\n",
              "      <td>0.69</td>\n",
              "      <td>0</td>\n",
              "      <td>1</td>\n",
              "      <td>1</td>\n",
              "      <td>0</td>\n",
              "      <td>0.8</td>\n",
              "      <td>0</td>\n",
              "      <td>0.88</td>\n",
              "      <td>N</td>\n",
              "    </tr>\n",
              "    <tr>\n",
              "      <th>1</th>\n",
              "      <td>-0.33</td>\n",
              "      <td>0.94</td>\n",
              "      <td>1</td>\n",
              "      <td>0</td>\n",
              "      <td>1</td>\n",
              "      <td>0</td>\n",
              "      <td>0.8</td>\n",
              "      <td>1</td>\n",
              "      <td>0.31</td>\n",
              "      <td>O</td>\n",
              "    </tr>\n",
              "    <tr>\n",
              "      <th>2</th>\n",
              "      <td>-0.33</td>\n",
              "      <td>0.50</td>\n",
              "      <td>1</td>\n",
              "      <td>0</td>\n",
              "      <td>0</td>\n",
              "      <td>0</td>\n",
              "      <td>1.0</td>\n",
              "      <td>-1</td>\n",
              "      <td>0.50</td>\n",
              "      <td>N</td>\n",
              "    </tr>\n",
              "    <tr>\n",
              "      <th>3</th>\n",
              "      <td>-0.33</td>\n",
              "      <td>0.75</td>\n",
              "      <td>0</td>\n",
              "      <td>1</td>\n",
              "      <td>1</td>\n",
              "      <td>0</td>\n",
              "      <td>1.0</td>\n",
              "      <td>-1</td>\n",
              "      <td>0.38</td>\n",
              "      <td>N</td>\n",
              "    </tr>\n",
              "    <tr>\n",
              "      <th>4</th>\n",
              "      <td>-0.33</td>\n",
              "      <td>0.67</td>\n",
              "      <td>1</td>\n",
              "      <td>1</td>\n",
              "      <td>0</td>\n",
              "      <td>0</td>\n",
              "      <td>0.8</td>\n",
              "      <td>-1</td>\n",
              "      <td>0.50</td>\n",
              "      <td>O</td>\n",
              "    </tr>\n",
              "  </tbody>\n",
              "</table>\n",
              "</div>"
            ],
            "text/plain": [
              "   Season   Age  Diseases  Trauma  ...  Alcohol  Smoking  Sitting  Output\n",
              "0   -0.33  0.69         0       1  ...      0.8        0     0.88       N\n",
              "1   -0.33  0.94         1       0  ...      0.8        1     0.31       O\n",
              "2   -0.33  0.50         1       0  ...      1.0       -1     0.50       N\n",
              "3   -0.33  0.75         0       1  ...      1.0       -1     0.38       N\n",
              "4   -0.33  0.67         1       1  ...      0.8       -1     0.50       O\n",
              "\n",
              "[5 rows x 10 columns]"
            ]
          },
          "execution_count": 36,
          "metadata": {
            "tags": []
          },
          "output_type": "execute_result"
        }
      ],
      "source": [
        "# Show the head of the DataFrame\n",
        "\n",
        "fertility.head()"
      ]
    },
    {
      "cell_type": "markdown",
      "metadata": {
        "id": "kpewphL7haCX"
      },
      "source": [
        "#### Process the data"
      ]
    },
    {
      "cell_type": "code",
      "execution_count": null,
      "metadata": {
        "id": "AaKHnUrfhaCY"
      },
      "outputs": [],
      "source": [
        "# Map the 'Output' feature from 'N' to 0 and from 'O' to 1\n",
        "\n",
        "fertility['Output'] = fertility['Output'].map(lambda x : 0.0 if x=='N' else 1.0)"
      ]
    },
    {
      "cell_type": "code",
      "execution_count": null,
      "metadata": {
        "colab": {
          "base_uri": "https://localhost:8080/",
          "height": 206
        },
        "id": "l2wRf1ufhaCc",
        "outputId": "c563b440-e1ba-4635-9585-5b5f3661c15b"
      },
      "outputs": [
        {
          "data": {
            "text/html": [
              "<div>\n",
              "<style scoped>\n",
              "    .dataframe tbody tr th:only-of-type {\n",
              "        vertical-align: middle;\n",
              "    }\n",
              "\n",
              "    .dataframe tbody tr th {\n",
              "        vertical-align: top;\n",
              "    }\n",
              "\n",
              "    .dataframe thead th {\n",
              "        text-align: right;\n",
              "    }\n",
              "</style>\n",
              "<table border=\"1\" class=\"dataframe\">\n",
              "  <thead>\n",
              "    <tr style=\"text-align: right;\">\n",
              "      <th></th>\n",
              "      <th>Season</th>\n",
              "      <th>Age</th>\n",
              "      <th>Diseases</th>\n",
              "      <th>Trauma</th>\n",
              "      <th>Surgery</th>\n",
              "      <th>Fever</th>\n",
              "      <th>Alcohol</th>\n",
              "      <th>Smoking</th>\n",
              "      <th>Sitting</th>\n",
              "      <th>Output</th>\n",
              "    </tr>\n",
              "  </thead>\n",
              "  <tbody>\n",
              "    <tr>\n",
              "      <th>0</th>\n",
              "      <td>-0.33</td>\n",
              "      <td>0.69</td>\n",
              "      <td>0</td>\n",
              "      <td>1</td>\n",
              "      <td>1</td>\n",
              "      <td>0</td>\n",
              "      <td>0.8</td>\n",
              "      <td>0</td>\n",
              "      <td>0.88</td>\n",
              "      <td>0.0</td>\n",
              "    </tr>\n",
              "    <tr>\n",
              "      <th>1</th>\n",
              "      <td>-0.33</td>\n",
              "      <td>0.94</td>\n",
              "      <td>1</td>\n",
              "      <td>0</td>\n",
              "      <td>1</td>\n",
              "      <td>0</td>\n",
              "      <td>0.8</td>\n",
              "      <td>1</td>\n",
              "      <td>0.31</td>\n",
              "      <td>1.0</td>\n",
              "    </tr>\n",
              "    <tr>\n",
              "      <th>2</th>\n",
              "      <td>-0.33</td>\n",
              "      <td>0.50</td>\n",
              "      <td>1</td>\n",
              "      <td>0</td>\n",
              "      <td>0</td>\n",
              "      <td>0</td>\n",
              "      <td>1.0</td>\n",
              "      <td>-1</td>\n",
              "      <td>0.50</td>\n",
              "      <td>0.0</td>\n",
              "    </tr>\n",
              "    <tr>\n",
              "      <th>3</th>\n",
              "      <td>-0.33</td>\n",
              "      <td>0.75</td>\n",
              "      <td>0</td>\n",
              "      <td>1</td>\n",
              "      <td>1</td>\n",
              "      <td>0</td>\n",
              "      <td>1.0</td>\n",
              "      <td>-1</td>\n",
              "      <td>0.38</td>\n",
              "      <td>0.0</td>\n",
              "    </tr>\n",
              "    <tr>\n",
              "      <th>4</th>\n",
              "      <td>-0.33</td>\n",
              "      <td>0.67</td>\n",
              "      <td>1</td>\n",
              "      <td>1</td>\n",
              "      <td>0</td>\n",
              "      <td>0</td>\n",
              "      <td>0.8</td>\n",
              "      <td>-1</td>\n",
              "      <td>0.50</td>\n",
              "      <td>1.0</td>\n",
              "    </tr>\n",
              "  </tbody>\n",
              "</table>\n",
              "</div>"
            ],
            "text/plain": [
              "   Season   Age  Diseases  Trauma  ...  Alcohol  Smoking  Sitting  Output\n",
              "0   -0.33  0.69         0       1  ...      0.8        0     0.88     0.0\n",
              "1   -0.33  0.94         1       0  ...      0.8        1     0.31     1.0\n",
              "2   -0.33  0.50         1       0  ...      1.0       -1     0.50     0.0\n",
              "3   -0.33  0.75         0       1  ...      1.0       -1     0.38     0.0\n",
              "4   -0.33  0.67         1       1  ...      0.8       -1     0.50     1.0\n",
              "\n",
              "[5 rows x 10 columns]"
            ]
          },
          "execution_count": 38,
          "metadata": {
            "tags": []
          },
          "output_type": "execute_result"
        }
      ],
      "source": [
        "# Show the head of the DataFrame\n",
        "\n",
        "fertility.head()"
      ]
    },
    {
      "cell_type": "code",
      "execution_count": null,
      "metadata": {
        "id": "AXVN-S0NhaCh"
      },
      "outputs": [],
      "source": [
        "# Convert the DataFrame so that the features are mapped to floats\n",
        "\n",
        "fertility = fertility.astype('float32')"
      ]
    },
    {
      "cell_type": "code",
      "execution_count": null,
      "metadata": {
        "id": "ZyqlEHm8haCj"
      },
      "outputs": [],
      "source": [
        "# Shuffle the DataFrame\n",
        "\n",
        "fertility = fertility.sample(frac=1).reset_index(drop=True)"
      ]
    },
    {
      "cell_type": "code",
      "execution_count": null,
      "metadata": {
        "colab": {
          "base_uri": "https://localhost:8080/",
          "height": 206
        },
        "id": "ZwQxZk0thaCl",
        "outputId": "3910e0a6-7601-4c10-e11a-960966257dc2",
        "scrolled": true
      },
      "outputs": [
        {
          "data": {
            "text/html": [
              "<div>\n",
              "<style scoped>\n",
              "    .dataframe tbody tr th:only-of-type {\n",
              "        vertical-align: middle;\n",
              "    }\n",
              "\n",
              "    .dataframe tbody tr th {\n",
              "        vertical-align: top;\n",
              "    }\n",
              "\n",
              "    .dataframe thead th {\n",
              "        text-align: right;\n",
              "    }\n",
              "</style>\n",
              "<table border=\"1\" class=\"dataframe\">\n",
              "  <thead>\n",
              "    <tr style=\"text-align: right;\">\n",
              "      <th></th>\n",
              "      <th>Season</th>\n",
              "      <th>Age</th>\n",
              "      <th>Diseases</th>\n",
              "      <th>Trauma</th>\n",
              "      <th>Surgery</th>\n",
              "      <th>Fever</th>\n",
              "      <th>Alcohol</th>\n",
              "      <th>Smoking</th>\n",
              "      <th>Sitting</th>\n",
              "      <th>Output</th>\n",
              "    </tr>\n",
              "  </thead>\n",
              "  <tbody>\n",
              "    <tr>\n",
              "      <th>0</th>\n",
              "      <td>-1.0</td>\n",
              "      <td>0.53</td>\n",
              "      <td>1.0</td>\n",
              "      <td>1.0</td>\n",
              "      <td>1.0</td>\n",
              "      <td>0.0</td>\n",
              "      <td>0.8</td>\n",
              "      <td>1.0</td>\n",
              "      <td>0.50</td>\n",
              "      <td>0.0</td>\n",
              "    </tr>\n",
              "    <tr>\n",
              "      <th>1</th>\n",
              "      <td>1.0</td>\n",
              "      <td>0.58</td>\n",
              "      <td>1.0</td>\n",
              "      <td>0.0</td>\n",
              "      <td>0.0</td>\n",
              "      <td>0.0</td>\n",
              "      <td>0.6</td>\n",
              "      <td>1.0</td>\n",
              "      <td>0.50</td>\n",
              "      <td>0.0</td>\n",
              "    </tr>\n",
              "    <tr>\n",
              "      <th>2</th>\n",
              "      <td>1.0</td>\n",
              "      <td>0.58</td>\n",
              "      <td>1.0</td>\n",
              "      <td>1.0</td>\n",
              "      <td>1.0</td>\n",
              "      <td>0.0</td>\n",
              "      <td>0.8</td>\n",
              "      <td>0.0</td>\n",
              "      <td>0.44</td>\n",
              "      <td>0.0</td>\n",
              "    </tr>\n",
              "    <tr>\n",
              "      <th>3</th>\n",
              "      <td>1.0</td>\n",
              "      <td>0.67</td>\n",
              "      <td>0.0</td>\n",
              "      <td>0.0</td>\n",
              "      <td>1.0</td>\n",
              "      <td>0.0</td>\n",
              "      <td>0.8</td>\n",
              "      <td>-1.0</td>\n",
              "      <td>0.25</td>\n",
              "      <td>0.0</td>\n",
              "    </tr>\n",
              "    <tr>\n",
              "      <th>4</th>\n",
              "      <td>1.0</td>\n",
              "      <td>0.67</td>\n",
              "      <td>1.0</td>\n",
              "      <td>0.0</td>\n",
              "      <td>0.0</td>\n",
              "      <td>0.0</td>\n",
              "      <td>0.8</td>\n",
              "      <td>1.0</td>\n",
              "      <td>0.38</td>\n",
              "      <td>1.0</td>\n",
              "    </tr>\n",
              "  </tbody>\n",
              "</table>\n",
              "</div>"
            ],
            "text/plain": [
              "   Season   Age  Diseases  Trauma  ...  Alcohol  Smoking  Sitting  Output\n",
              "0    -1.0  0.53       1.0     1.0  ...      0.8      1.0     0.50     0.0\n",
              "1     1.0  0.58       1.0     0.0  ...      0.6      1.0     0.50     0.0\n",
              "2     1.0  0.58       1.0     1.0  ...      0.8      0.0     0.44     0.0\n",
              "3     1.0  0.67       0.0     0.0  ...      0.8     -1.0     0.25     0.0\n",
              "4     1.0  0.67       1.0     0.0  ...      0.8      1.0     0.38     1.0\n",
              "\n",
              "[5 rows x 10 columns]"
            ]
          },
          "execution_count": 41,
          "metadata": {
            "tags": []
          },
          "output_type": "execute_result"
        }
      ],
      "source": [
        "# Show the head of the DataFrame\n",
        "\n",
        "fertility.head()"
      ]
    },
    {
      "cell_type": "code",
      "execution_count": null,
      "metadata": {
        "id": "nRJDa_FNhaCp"
      },
      "outputs": [],
      "source": [
        "# Convert the field Season to a one-hot encoded vector\n",
        "\n",
        "fertility = pd.get_dummies(fertility, prefix='Season', columns=['Season'])"
      ]
    },
    {
      "cell_type": "code",
      "execution_count": null,
      "metadata": {
        "colab": {
          "base_uri": "https://localhost:8080/",
          "height": 244
        },
        "id": "69RqZRfhhaCr",
        "outputId": "dbb67874-c208-4146-f368-3a96350130bc"
      },
      "outputs": [
        {
          "data": {
            "text/html": [
              "<div>\n",
              "<style scoped>\n",
              "    .dataframe tbody tr th:only-of-type {\n",
              "        vertical-align: middle;\n",
              "    }\n",
              "\n",
              "    .dataframe tbody tr th {\n",
              "        vertical-align: top;\n",
              "    }\n",
              "\n",
              "    .dataframe thead th {\n",
              "        text-align: right;\n",
              "    }\n",
              "</style>\n",
              "<table border=\"1\" class=\"dataframe\">\n",
              "  <thead>\n",
              "    <tr style=\"text-align: right;\">\n",
              "      <th></th>\n",
              "      <th>Age</th>\n",
              "      <th>Diseases</th>\n",
              "      <th>Trauma</th>\n",
              "      <th>Surgery</th>\n",
              "      <th>Fever</th>\n",
              "      <th>Alcohol</th>\n",
              "      <th>Smoking</th>\n",
              "      <th>Sitting</th>\n",
              "      <th>Output</th>\n",
              "      <th>Season_-1.0</th>\n",
              "      <th>Season_-0.33000001311302185</th>\n",
              "      <th>Season_0.33000001311302185</th>\n",
              "      <th>Season_1.0</th>\n",
              "    </tr>\n",
              "  </thead>\n",
              "  <tbody>\n",
              "    <tr>\n",
              "      <th>0</th>\n",
              "      <td>0.53</td>\n",
              "      <td>1.0</td>\n",
              "      <td>1.0</td>\n",
              "      <td>1.0</td>\n",
              "      <td>0.0</td>\n",
              "      <td>0.8</td>\n",
              "      <td>1.0</td>\n",
              "      <td>0.50</td>\n",
              "      <td>0.0</td>\n",
              "      <td>1</td>\n",
              "      <td>0</td>\n",
              "      <td>0</td>\n",
              "      <td>0</td>\n",
              "    </tr>\n",
              "    <tr>\n",
              "      <th>1</th>\n",
              "      <td>0.58</td>\n",
              "      <td>1.0</td>\n",
              "      <td>0.0</td>\n",
              "      <td>0.0</td>\n",
              "      <td>0.0</td>\n",
              "      <td>0.6</td>\n",
              "      <td>1.0</td>\n",
              "      <td>0.50</td>\n",
              "      <td>0.0</td>\n",
              "      <td>0</td>\n",
              "      <td>0</td>\n",
              "      <td>0</td>\n",
              "      <td>1</td>\n",
              "    </tr>\n",
              "    <tr>\n",
              "      <th>2</th>\n",
              "      <td>0.58</td>\n",
              "      <td>1.0</td>\n",
              "      <td>1.0</td>\n",
              "      <td>1.0</td>\n",
              "      <td>0.0</td>\n",
              "      <td>0.8</td>\n",
              "      <td>0.0</td>\n",
              "      <td>0.44</td>\n",
              "      <td>0.0</td>\n",
              "      <td>0</td>\n",
              "      <td>0</td>\n",
              "      <td>0</td>\n",
              "      <td>1</td>\n",
              "    </tr>\n",
              "    <tr>\n",
              "      <th>3</th>\n",
              "      <td>0.67</td>\n",
              "      <td>0.0</td>\n",
              "      <td>0.0</td>\n",
              "      <td>1.0</td>\n",
              "      <td>0.0</td>\n",
              "      <td>0.8</td>\n",
              "      <td>-1.0</td>\n",
              "      <td>0.25</td>\n",
              "      <td>0.0</td>\n",
              "      <td>0</td>\n",
              "      <td>0</td>\n",
              "      <td>0</td>\n",
              "      <td>1</td>\n",
              "    </tr>\n",
              "    <tr>\n",
              "      <th>4</th>\n",
              "      <td>0.67</td>\n",
              "      <td>1.0</td>\n",
              "      <td>0.0</td>\n",
              "      <td>0.0</td>\n",
              "      <td>0.0</td>\n",
              "      <td>0.8</td>\n",
              "      <td>1.0</td>\n",
              "      <td>0.38</td>\n",
              "      <td>1.0</td>\n",
              "      <td>0</td>\n",
              "      <td>0</td>\n",
              "      <td>0</td>\n",
              "      <td>1</td>\n",
              "    </tr>\n",
              "  </tbody>\n",
              "</table>\n",
              "</div>"
            ],
            "text/plain": [
              "    Age  Diseases  ...  Season_0.33000001311302185  Season_1.0\n",
              "0  0.53       1.0  ...                           0           0\n",
              "1  0.58       1.0  ...                           0           1\n",
              "2  0.58       1.0  ...                           0           1\n",
              "3  0.67       0.0  ...                           0           1\n",
              "4  0.67       1.0  ...                           0           1\n",
              "\n",
              "[5 rows x 13 columns]"
            ]
          },
          "execution_count": 43,
          "metadata": {
            "tags": []
          },
          "output_type": "execute_result"
        }
      ],
      "source": [
        "# Show the head of the DataFrame\n",
        "\n",
        "fertility.head()"
      ]
    },
    {
      "cell_type": "code",
      "execution_count": null,
      "metadata": {
        "id": "1zB6FM2EhaCt"
      },
      "outputs": [],
      "source": [
        "# Move the Output column such that it is the last column in the DataFrame\n",
        "\n",
        "fertility.columns = [col for col in fertility.columns if col != 'Output'] + ['Output']"
      ]
    },
    {
      "cell_type": "code",
      "execution_count": null,
      "metadata": {
        "colab": {
          "base_uri": "https://localhost:8080/",
          "height": 244
        },
        "id": "GMivX3lGhaCw",
        "outputId": "a80cffde-4cd0-4814-94a0-7625c6dd1cae"
      },
      "outputs": [
        {
          "data": {
            "text/html": [
              "<div>\n",
              "<style scoped>\n",
              "    .dataframe tbody tr th:only-of-type {\n",
              "        vertical-align: middle;\n",
              "    }\n",
              "\n",
              "    .dataframe tbody tr th {\n",
              "        vertical-align: top;\n",
              "    }\n",
              "\n",
              "    .dataframe thead th {\n",
              "        text-align: right;\n",
              "    }\n",
              "</style>\n",
              "<table border=\"1\" class=\"dataframe\">\n",
              "  <thead>\n",
              "    <tr style=\"text-align: right;\">\n",
              "      <th></th>\n",
              "      <th>Age</th>\n",
              "      <th>Diseases</th>\n",
              "      <th>Trauma</th>\n",
              "      <th>Surgery</th>\n",
              "      <th>Fever</th>\n",
              "      <th>Alcohol</th>\n",
              "      <th>Smoking</th>\n",
              "      <th>Sitting</th>\n",
              "      <th>Season_-1.0</th>\n",
              "      <th>Season_-0.33000001311302185</th>\n",
              "      <th>Season_0.33000001311302185</th>\n",
              "      <th>Season_1.0</th>\n",
              "      <th>Output</th>\n",
              "    </tr>\n",
              "  </thead>\n",
              "  <tbody>\n",
              "    <tr>\n",
              "      <th>0</th>\n",
              "      <td>0.53</td>\n",
              "      <td>1.0</td>\n",
              "      <td>1.0</td>\n",
              "      <td>1.0</td>\n",
              "      <td>0.0</td>\n",
              "      <td>0.8</td>\n",
              "      <td>1.0</td>\n",
              "      <td>0.50</td>\n",
              "      <td>0.0</td>\n",
              "      <td>1</td>\n",
              "      <td>0</td>\n",
              "      <td>0</td>\n",
              "      <td>0</td>\n",
              "    </tr>\n",
              "    <tr>\n",
              "      <th>1</th>\n",
              "      <td>0.58</td>\n",
              "      <td>1.0</td>\n",
              "      <td>0.0</td>\n",
              "      <td>0.0</td>\n",
              "      <td>0.0</td>\n",
              "      <td>0.6</td>\n",
              "      <td>1.0</td>\n",
              "      <td>0.50</td>\n",
              "      <td>0.0</td>\n",
              "      <td>0</td>\n",
              "      <td>0</td>\n",
              "      <td>0</td>\n",
              "      <td>1</td>\n",
              "    </tr>\n",
              "    <tr>\n",
              "      <th>2</th>\n",
              "      <td>0.58</td>\n",
              "      <td>1.0</td>\n",
              "      <td>1.0</td>\n",
              "      <td>1.0</td>\n",
              "      <td>0.0</td>\n",
              "      <td>0.8</td>\n",
              "      <td>0.0</td>\n",
              "      <td>0.44</td>\n",
              "      <td>0.0</td>\n",
              "      <td>0</td>\n",
              "      <td>0</td>\n",
              "      <td>0</td>\n",
              "      <td>1</td>\n",
              "    </tr>\n",
              "    <tr>\n",
              "      <th>3</th>\n",
              "      <td>0.67</td>\n",
              "      <td>0.0</td>\n",
              "      <td>0.0</td>\n",
              "      <td>1.0</td>\n",
              "      <td>0.0</td>\n",
              "      <td>0.8</td>\n",
              "      <td>-1.0</td>\n",
              "      <td>0.25</td>\n",
              "      <td>0.0</td>\n",
              "      <td>0</td>\n",
              "      <td>0</td>\n",
              "      <td>0</td>\n",
              "      <td>1</td>\n",
              "    </tr>\n",
              "    <tr>\n",
              "      <th>4</th>\n",
              "      <td>0.67</td>\n",
              "      <td>1.0</td>\n",
              "      <td>0.0</td>\n",
              "      <td>0.0</td>\n",
              "      <td>0.0</td>\n",
              "      <td>0.8</td>\n",
              "      <td>1.0</td>\n",
              "      <td>0.38</td>\n",
              "      <td>1.0</td>\n",
              "      <td>0</td>\n",
              "      <td>0</td>\n",
              "      <td>0</td>\n",
              "      <td>1</td>\n",
              "    </tr>\n",
              "  </tbody>\n",
              "</table>\n",
              "</div>"
            ],
            "text/plain": [
              "    Age  Diseases  Trauma  ...  Season_0.33000001311302185  Season_1.0  Output\n",
              "0  0.53       1.0     1.0  ...                           0           0       0\n",
              "1  0.58       1.0     0.0  ...                           0           0       1\n",
              "2  0.58       1.0     1.0  ...                           0           0       1\n",
              "3  0.67       0.0     0.0  ...                           0           0       1\n",
              "4  0.67       1.0     0.0  ...                           0           0       1\n",
              "\n",
              "[5 rows x 13 columns]"
            ]
          },
          "execution_count": 45,
          "metadata": {
            "tags": []
          },
          "output_type": "execute_result"
        }
      ],
      "source": [
        "# Show the head of the DataFrame\n",
        "\n",
        "fertility.head()"
      ]
    },
    {
      "cell_type": "code",
      "execution_count": null,
      "metadata": {
        "colab": {
          "base_uri": "https://localhost:8080/"
        },
        "id": "BhZ1-N2ihaCz",
        "outputId": "17d18f93-fe9c-4445-cf81-55c1b742a323"
      },
      "outputs": [
        {
          "data": {
            "text/plain": [
              "array([[0.53, 1.  , 1.  , ..., 0.  , 0.  , 0.  ],\n",
              "       [0.58, 1.  , 0.  , ..., 0.  , 0.  , 1.  ],\n",
              "       [0.58, 1.  , 1.  , ..., 0.  , 0.  , 1.  ],\n",
              "       ...,\n",
              "       [0.69, 1.  , 0.  , ..., 0.  , 1.  , 0.  ],\n",
              "       [0.75, 1.  , 1.  , ..., 0.  , 0.  , 1.  ],\n",
              "       [0.67, 0.  , 0.  , ..., 0.  , 0.  , 0.  ]], dtype=float32)"
            ]
          },
          "execution_count": 46,
          "metadata": {
            "tags": []
          },
          "output_type": "execute_result"
        }
      ],
      "source": [
        "# Convert the DataFrame to a numpy array.\n",
        "\n",
        "fertility = fertility.to_numpy()\n",
        "fertility"
      ]
    },
    {
      "cell_type": "markdown",
      "metadata": {
        "id": "5qaw2BjYhaC1"
      },
      "source": [
        "#### Split the Data"
      ]
    },
    {
      "cell_type": "code",
      "execution_count": null,
      "metadata": {
        "id": "e612AYyahaC3"
      },
      "outputs": [],
      "source": [
        "# Split the dataset into training and validation set\n",
        "\n",
        "training = fertility[0:70]\n",
        "validation = fertility[70:100]"
      ]
    },
    {
      "cell_type": "code",
      "execution_count": null,
      "metadata": {
        "colab": {
          "base_uri": "https://localhost:8080/"
        },
        "id": "Z8vBQHLqhaC7",
        "outputId": "a08c95cf-d2af-4064-bb6f-ae3feb0c9f03"
      },
      "outputs": [
        {
          "name": "stdout",
          "output_type": "stream",
          "text": [
            "(70, 13)\n",
            "(30, 13)\n"
          ]
        }
      ],
      "source": [
        "# Verify the shape of the training data\n",
        "\n",
        "print(training.shape)\n",
        "print(validation.shape)"
      ]
    },
    {
      "cell_type": "code",
      "execution_count": null,
      "metadata": {
        "id": "0GlYDYVohaC9"
      },
      "outputs": [],
      "source": [
        "# Separate the features and labels for the validation and training data\n",
        "\n",
        "training_features = training[:,0:-1]\n",
        "training_labels = training[:,-1]\n",
        "validation_features = validation[:,0:-1]\n",
        "validation_labels = validation[:,-1]"
      ]
    },
    {
      "cell_type": "markdown",
      "metadata": {
        "id": "ttEpRpcwhaC_"
      },
      "source": [
        "#### Create the Generator"
      ]
    },
    {
      "cell_type": "code",
      "execution_count": null,
      "metadata": {
        "id": "lSjVXicihaC_"
      },
      "outputs": [],
      "source": [
        "# Create a function that returns a generator producing inputs and labels\n",
        "\n",
        "def get_generator(features, labels, batch_size=1):\n",
        "    for n in range(int(len(features)/batch_size)):\n",
        "        yield (features[n*batch_size: (n+1)*batch_size], \n",
        "            labels[n*batch_size: (n+1)*batch_size])"
      ]
    },
    {
      "cell_type": "code",
      "execution_count": null,
      "metadata": {
        "id": "VMiEgHFuhaDC"
      },
      "outputs": [],
      "source": [
        "# Apply the function to our training features and labels with a batch size of 10\n",
        "\n",
        "train_generator = get_generator(training_features, training_labels, batch_size=10)"
      ]
    },
    {
      "cell_type": "code",
      "execution_count": null,
      "metadata": {
        "colab": {
          "base_uri": "https://localhost:8080/"
        },
        "id": "3qqfSAXWhaDG",
        "outputId": "fe9a237b-1acd-44c1-a46a-1f2abbad8108",
        "scrolled": true
      },
      "outputs": [
        {
          "data": {
            "text/plain": [
              "(array([[ 0.53,  1.  ,  1.  ,  1.  ,  0.  ,  0.8 ,  1.  ,  0.5 ,  0.  ,\n",
              "          1.  ,  0.  ,  0.  ],\n",
              "        [ 0.58,  1.  ,  0.  ,  0.  ,  0.  ,  0.6 ,  1.  ,  0.5 ,  0.  ,\n",
              "          0.  ,  0.  ,  0.  ],\n",
              "        [ 0.58,  1.  ,  1.  ,  1.  ,  0.  ,  0.8 ,  0.  ,  0.44,  0.  ,\n",
              "          0.  ,  0.  ,  0.  ],\n",
              "        [ 0.67,  0.  ,  0.  ,  1.  ,  0.  ,  0.8 , -1.  ,  0.25,  0.  ,\n",
              "          0.  ,  0.  ,  0.  ],\n",
              "        [ 0.67,  1.  ,  0.  ,  0.  ,  0.  ,  0.8 ,  1.  ,  0.38,  1.  ,\n",
              "          0.  ,  0.  ,  0.  ],\n",
              "        [ 0.67,  1.  ,  0.  ,  1.  ,  0.  ,  0.8 ,  0.  ,  0.5 ,  0.  ,\n",
              "          0.  ,  1.  ,  0.  ],\n",
              "        [ 0.56,  1.  ,  0.  ,  0.  ,  0.  ,  1.  , -1.  ,  0.44,  0.  ,\n",
              "          0.  ,  0.  ,  0.  ],\n",
              "        [ 0.56,  1.  ,  0.  ,  1.  ,  0.  ,  1.  , -1.  ,  0.63,  0.  ,\n",
              "          0.  ,  0.  ,  0.  ],\n",
              "        [ 0.61,  1.  ,  0.  ,  0.  ,  0.  ,  0.8 ,  0.  ,  0.5 ,  0.  ,\n",
              "          1.  ,  0.  ,  0.  ],\n",
              "        [ 0.56,  1.  ,  0.  ,  0.  ,  1.  ,  1.  , -1.  ,  0.5 ,  0.  ,\n",
              "          1.  ,  0.  ,  0.  ]], dtype=float32),\n",
              " array([0., 1., 1., 1., 1., 0., 1., 1., 0., 0.], dtype=float32))"
            ]
          },
          "execution_count": 52,
          "metadata": {
            "tags": []
          },
          "output_type": "execute_result"
        }
      ],
      "source": [
        "# Test the generator using the next() function\n",
        "\n",
        "next(train_generator)"
      ]
    },
    {
      "cell_type": "markdown",
      "metadata": {
        "id": "rm2ffnGVhaDJ"
      },
      "source": [
        "#### Build the model"
      ]
    },
    {
      "cell_type": "code",
      "execution_count": null,
      "metadata": {
        "id": "Tr6Du-4KhaDJ"
      },
      "outputs": [],
      "source": [
        "# Create a model using Keras with 3 layers\n",
        "\n",
        "from tensorflow.keras import Model\n",
        "from tensorflow.keras.layers import Dense, Input, BatchNormalization\n",
        "\n",
        "input_shape = (12,)\n",
        "output_shape = (1,)\n",
        "\n",
        "model_input = Input(input_shape)\n",
        "batch_1 = BatchNormalization(momentum=0.8)(model_input)\n",
        "dense_1 = Dense(100, activation='relu')(batch_1)\n",
        "batch_2 = BatchNormalization(momentum=0.8)(dense_1)\n",
        "output = Dense(1, activation='sigmoid')(batch_2)\n",
        "\n",
        "model = Model([model_input], output)"
      ]
    },
    {
      "cell_type": "code",
      "execution_count": null,
      "metadata": {
        "colab": {
          "base_uri": "https://localhost:8080/"
        },
        "id": "IfgcKE8UhaDN",
        "outputId": "5acc8b30-63ba-4a52-cc32-d54d1076771b"
      },
      "outputs": [
        {
          "name": "stdout",
          "output_type": "stream",
          "text": [
            "Model: \"functional_1\"\n",
            "_________________________________________________________________\n",
            "Layer (type)                 Output Shape              Param #   \n",
            "=================================================================\n",
            "input_1 (InputLayer)         [(None, 12)]              0         \n",
            "_________________________________________________________________\n",
            "batch_normalization (BatchNo (None, 12)                48        \n",
            "_________________________________________________________________\n",
            "dense (Dense)                (None, 100)               1300      \n",
            "_________________________________________________________________\n",
            "batch_normalization_1 (Batch (None, 100)               400       \n",
            "_________________________________________________________________\n",
            "dense_1 (Dense)              (None, 1)                 101       \n",
            "=================================================================\n",
            "Total params: 1,849\n",
            "Trainable params: 1,625\n",
            "Non-trainable params: 224\n",
            "_________________________________________________________________\n"
          ]
        }
      ],
      "source": [
        "# Display the model summary to show the resultant structure\n",
        "\n",
        "model.summary()"
      ]
    },
    {
      "cell_type": "markdown",
      "metadata": {
        "id": "kUYrDLaAhaDY"
      },
      "source": [
        "#### Compile the model"
      ]
    },
    {
      "cell_type": "code",
      "execution_count": null,
      "metadata": {
        "id": "pUdmAnRZhaDZ"
      },
      "outputs": [],
      "source": [
        "# Create the optimizer object\n",
        "\n",
        "optimizer = tf.keras.optimizers.Adam(learning_rate=1e-2)"
      ]
    },
    {
      "cell_type": "code",
      "execution_count": null,
      "metadata": {
        "id": "t2Fn78YchaDb"
      },
      "outputs": [],
      "source": [
        "# Compile the model with loss function and metric\n",
        "\n",
        "model.compile(optimizer=optimizer, \n",
        "    loss='binary_crossentropy', metrics=['accuracy'])"
      ]
    },
    {
      "cell_type": "markdown",
      "metadata": {
        "id": "09uEqTpEhaDg"
      },
      "source": [
        "#### Train and evaluate the model using the generator"
      ]
    },
    {
      "cell_type": "code",
      "execution_count": null,
      "metadata": {
        "id": "gXwGCGeIhaDh"
      },
      "outputs": [],
      "source": [
        "# Calculate the number of training steps per epoch for the given batch size.\n",
        "\n",
        "batch_size = 5\n",
        "train_steps = len(training) // batch_size"
      ]
    },
    {
      "cell_type": "code",
      "execution_count": null,
      "metadata": {
        "id": "rszYL-_EhaDj"
      },
      "outputs": [],
      "source": [
        "# Set the epochs to 3\n",
        "\n",
        "epochs = 3"
      ]
    },
    {
      "cell_type": "code",
      "execution_count": null,
      "metadata": {
        "colab": {
          "base_uri": "https://localhost:8080/"
        },
        "id": "u0iYqScZhaDm",
        "outputId": "56b078b3-9ce0-427f-9b88-e4e602f549df"
      },
      "outputs": [
        {
          "name": "stdout",
          "output_type": "stream",
          "text": [
            "WARNING:tensorflow:From <ipython-input-59-7fd7817c798f>:9: Model.fit_generator (from tensorflow.python.keras.engine.training) is deprecated and will be removed in a future version.\n",
            "Instructions for updating:\n",
            "Please use Model.fit, which supports generators.\n",
            "14/14 [==============================] - 0s 27ms/step - loss: 0.6618 - accuracy: 0.6000 - val_loss: 0.3650 - val_accuracy: 0.8667\n",
            "14/14 [==============================] - 0s 6ms/step - loss: 0.2647 - accuracy: 0.9000 - val_loss: 0.1882 - val_accuracy: 0.9333\n",
            "14/14 [==============================] - 0s 6ms/step - loss: 0.1471 - accuracy: 0.9571 - val_loss: 0.0687 - val_accuracy: 0.9667\n"
          ]
        }
      ],
      "source": [
        "# Train the model\n",
        "\n",
        "for epoch in range(epochs):\n",
        "    train_generator = get_generator(training_features, \n",
        "        training_labels, batch_size=batch_size)\n",
        "    validation_generator = get_generator(validation_features, \n",
        "        validation_labels, batch_size=30)\n",
        "    model.fit_generator(train_generator, steps_per_epoch=train_steps, \n",
        "        validation_data=validation_generator, validation_steps=1)"
      ]
    },
    {
      "cell_type": "code",
      "execution_count": null,
      "metadata": {
        "colab": {
          "base_uri": "https://localhost:8080/",
          "height": 365
        },
        "id": "P0kQUErOhaDn",
        "outputId": "e05cf281-15e6-40c1-cf91-e7d8850c3cbe",
        "scrolled": true
      },
      "outputs": [
        {
          "ename": "StopIteration",
          "evalue": "ignored",
          "output_type": "error",
          "traceback": [
            "\u001b[0;31m---------------------------------------------------------------------------\u001b[0m",
            "\u001b[0;31mStopIteration\u001b[0m                             Traceback (most recent call last)",
            "\u001b[0;32m<ipython-input-60-6009e73e3e9e>\u001b[0m in \u001b[0;36m<module>\u001b[0;34m()\u001b[0m\n\u001b[1;32m      1\u001b[0m \u001b[0;31m# Try to run the fit_generator function once more; observe what happens\u001b[0m\u001b[0;34m\u001b[0m\u001b[0;34m\u001b[0m\u001b[0;34m\u001b[0m\u001b[0m\n\u001b[1;32m      2\u001b[0m \u001b[0;34m\u001b[0m\u001b[0m\n\u001b[0;32m----> 3\u001b[0;31m \u001b[0mmodel\u001b[0m\u001b[0;34m.\u001b[0m\u001b[0mfit_generator\u001b[0m\u001b[0;34m(\u001b[0m\u001b[0mtrain_generator\u001b[0m\u001b[0;34m,\u001b[0m \u001b[0msteps_per_epoch\u001b[0m\u001b[0;34m=\u001b[0m\u001b[0mtrain_steps\u001b[0m\u001b[0;34m)\u001b[0m\u001b[0;34m\u001b[0m\u001b[0;34m\u001b[0m\u001b[0m\n\u001b[0m",
            "\u001b[0;32m/usr/local/lib/python3.6/dist-packages/tensorflow/python/util/deprecation.py\u001b[0m in \u001b[0;36mnew_func\u001b[0;34m(*args, **kwargs)\u001b[0m\n\u001b[1;32m    322\u001b[0m               \u001b[0;34m'in a future version'\u001b[0m \u001b[0;32mif\u001b[0m \u001b[0mdate\u001b[0m \u001b[0;32mis\u001b[0m \u001b[0;32mNone\u001b[0m \u001b[0;32melse\u001b[0m \u001b[0;34m(\u001b[0m\u001b[0;34m'after %s'\u001b[0m \u001b[0;34m%\u001b[0m \u001b[0mdate\u001b[0m\u001b[0;34m)\u001b[0m\u001b[0;34m,\u001b[0m\u001b[0;34m\u001b[0m\u001b[0;34m\u001b[0m\u001b[0m\n\u001b[1;32m    323\u001b[0m               instructions)\n\u001b[0;32m--> 324\u001b[0;31m       \u001b[0;32mreturn\u001b[0m \u001b[0mfunc\u001b[0m\u001b[0;34m(\u001b[0m\u001b[0;34m*\u001b[0m\u001b[0margs\u001b[0m\u001b[0;34m,\u001b[0m \u001b[0;34m**\u001b[0m\u001b[0mkwargs\u001b[0m\u001b[0;34m)\u001b[0m\u001b[0;34m\u001b[0m\u001b[0;34m\u001b[0m\u001b[0m\n\u001b[0m\u001b[1;32m    325\u001b[0m     return tf_decorator.make_decorator(\n\u001b[1;32m    326\u001b[0m         \u001b[0mfunc\u001b[0m\u001b[0;34m,\u001b[0m \u001b[0mnew_func\u001b[0m\u001b[0;34m,\u001b[0m \u001b[0;34m'deprecated'\u001b[0m\u001b[0;34m,\u001b[0m\u001b[0;34m\u001b[0m\u001b[0;34m\u001b[0m\u001b[0m\n",
            "\u001b[0;32m/usr/local/lib/python3.6/dist-packages/tensorflow/python/keras/engine/training.py\u001b[0m in \u001b[0;36mfit_generator\u001b[0;34m(self, generator, steps_per_epoch, epochs, verbose, callbacks, validation_data, validation_steps, validation_freq, class_weight, max_queue_size, workers, use_multiprocessing, shuffle, initial_epoch)\u001b[0m\n\u001b[1;32m   1827\u001b[0m         \u001b[0muse_multiprocessing\u001b[0m\u001b[0;34m=\u001b[0m\u001b[0muse_multiprocessing\u001b[0m\u001b[0;34m,\u001b[0m\u001b[0;34m\u001b[0m\u001b[0;34m\u001b[0m\u001b[0m\n\u001b[1;32m   1828\u001b[0m         \u001b[0mshuffle\u001b[0m\u001b[0;34m=\u001b[0m\u001b[0mshuffle\u001b[0m\u001b[0;34m,\u001b[0m\u001b[0;34m\u001b[0m\u001b[0;34m\u001b[0m\u001b[0m\n\u001b[0;32m-> 1829\u001b[0;31m         initial_epoch=initial_epoch)\n\u001b[0m\u001b[1;32m   1830\u001b[0m \u001b[0;34m\u001b[0m\u001b[0m\n\u001b[1;32m   1831\u001b[0m   @deprecation.deprecated(\n",
            "\u001b[0;32m/usr/local/lib/python3.6/dist-packages/tensorflow/python/keras/engine/training.py\u001b[0m in \u001b[0;36m_method_wrapper\u001b[0;34m(self, *args, **kwargs)\u001b[0m\n\u001b[1;32m    106\u001b[0m   \u001b[0;32mdef\u001b[0m \u001b[0m_method_wrapper\u001b[0m\u001b[0;34m(\u001b[0m\u001b[0mself\u001b[0m\u001b[0;34m,\u001b[0m \u001b[0;34m*\u001b[0m\u001b[0margs\u001b[0m\u001b[0;34m,\u001b[0m \u001b[0;34m**\u001b[0m\u001b[0mkwargs\u001b[0m\u001b[0;34m)\u001b[0m\u001b[0;34m:\u001b[0m\u001b[0;34m\u001b[0m\u001b[0;34m\u001b[0m\u001b[0m\n\u001b[1;32m    107\u001b[0m     \u001b[0;32mif\u001b[0m \u001b[0;32mnot\u001b[0m \u001b[0mself\u001b[0m\u001b[0;34m.\u001b[0m\u001b[0m_in_multi_worker_mode\u001b[0m\u001b[0;34m(\u001b[0m\u001b[0;34m)\u001b[0m\u001b[0;34m:\u001b[0m  \u001b[0;31m# pylint: disable=protected-access\u001b[0m\u001b[0;34m\u001b[0m\u001b[0;34m\u001b[0m\u001b[0m\n\u001b[0;32m--> 108\u001b[0;31m       \u001b[0;32mreturn\u001b[0m \u001b[0mmethod\u001b[0m\u001b[0;34m(\u001b[0m\u001b[0mself\u001b[0m\u001b[0;34m,\u001b[0m \u001b[0;34m*\u001b[0m\u001b[0margs\u001b[0m\u001b[0;34m,\u001b[0m \u001b[0;34m**\u001b[0m\u001b[0mkwargs\u001b[0m\u001b[0;34m)\u001b[0m\u001b[0;34m\u001b[0m\u001b[0;34m\u001b[0m\u001b[0m\n\u001b[0m\u001b[1;32m    109\u001b[0m \u001b[0;34m\u001b[0m\u001b[0m\n\u001b[1;32m    110\u001b[0m     \u001b[0;31m# Running inside `run_distribute_coordinator` already.\u001b[0m\u001b[0;34m\u001b[0m\u001b[0;34m\u001b[0m\u001b[0;34m\u001b[0m\u001b[0m\n",
            "\u001b[0;32m/usr/local/lib/python3.6/dist-packages/tensorflow/python/keras/engine/training.py\u001b[0m in \u001b[0;36mfit\u001b[0;34m(self, x, y, batch_size, epochs, verbose, callbacks, validation_split, validation_data, shuffle, class_weight, sample_weight, initial_epoch, steps_per_epoch, validation_steps, validation_batch_size, validation_freq, max_queue_size, workers, use_multiprocessing)\u001b[0m\n\u001b[1;32m   1061\u001b[0m           \u001b[0muse_multiprocessing\u001b[0m\u001b[0;34m=\u001b[0m\u001b[0muse_multiprocessing\u001b[0m\u001b[0;34m,\u001b[0m\u001b[0;34m\u001b[0m\u001b[0;34m\u001b[0m\u001b[0m\n\u001b[1;32m   1062\u001b[0m           \u001b[0mmodel\u001b[0m\u001b[0;34m=\u001b[0m\u001b[0mself\u001b[0m\u001b[0;34m,\u001b[0m\u001b[0;34m\u001b[0m\u001b[0;34m\u001b[0m\u001b[0m\n\u001b[0;32m-> 1063\u001b[0;31m           steps_per_execution=self._steps_per_execution)\n\u001b[0m\u001b[1;32m   1064\u001b[0m \u001b[0;34m\u001b[0m\u001b[0m\n\u001b[1;32m   1065\u001b[0m       \u001b[0;31m# Container that configures and calls `tf.keras.Callback`s.\u001b[0m\u001b[0;34m\u001b[0m\u001b[0;34m\u001b[0m\u001b[0;34m\u001b[0m\u001b[0m\n",
            "\u001b[0;32m/usr/local/lib/python3.6/dist-packages/tensorflow/python/keras/engine/data_adapter.py\u001b[0m in \u001b[0;36m__init__\u001b[0;34m(self, x, y, sample_weight, batch_size, steps_per_epoch, initial_epoch, epochs, shuffle, class_weight, max_queue_size, workers, use_multiprocessing, model, steps_per_execution)\u001b[0m\n\u001b[1;32m   1115\u001b[0m         \u001b[0muse_multiprocessing\u001b[0m\u001b[0;34m=\u001b[0m\u001b[0muse_multiprocessing\u001b[0m\u001b[0;34m,\u001b[0m\u001b[0;34m\u001b[0m\u001b[0;34m\u001b[0m\u001b[0m\n\u001b[1;32m   1116\u001b[0m         \u001b[0mdistribution_strategy\u001b[0m\u001b[0;34m=\u001b[0m\u001b[0mds_context\u001b[0m\u001b[0;34m.\u001b[0m\u001b[0mget_strategy\u001b[0m\u001b[0;34m(\u001b[0m\u001b[0;34m)\u001b[0m\u001b[0;34m,\u001b[0m\u001b[0;34m\u001b[0m\u001b[0;34m\u001b[0m\u001b[0m\n\u001b[0;32m-> 1117\u001b[0;31m         model=model)\n\u001b[0m\u001b[1;32m   1118\u001b[0m \u001b[0;34m\u001b[0m\u001b[0m\n\u001b[1;32m   1119\u001b[0m     \u001b[0mstrategy\u001b[0m \u001b[0;34m=\u001b[0m \u001b[0mds_context\u001b[0m\u001b[0;34m.\u001b[0m\u001b[0mget_strategy\u001b[0m\u001b[0;34m(\u001b[0m\u001b[0;34m)\u001b[0m\u001b[0;34m\u001b[0m\u001b[0;34m\u001b[0m\u001b[0m\n",
            "\u001b[0;32m/usr/local/lib/python3.6/dist-packages/tensorflow/python/keras/engine/data_adapter.py\u001b[0m in \u001b[0;36m__init__\u001b[0;34m(self, x, y, sample_weights, workers, use_multiprocessing, max_queue_size, model, **kwargs)\u001b[0m\n\u001b[1;32m    784\u001b[0m     \u001b[0;31m# Since we have to know the dtype of the python generator when we build the\u001b[0m\u001b[0;34m\u001b[0m\u001b[0;34m\u001b[0m\u001b[0;34m\u001b[0m\u001b[0m\n\u001b[1;32m    785\u001b[0m     \u001b[0;31m# dataset, we have to look at a batch to infer the structure.\u001b[0m\u001b[0;34m\u001b[0m\u001b[0;34m\u001b[0m\u001b[0;34m\u001b[0m\u001b[0m\n\u001b[0;32m--> 786\u001b[0;31m     \u001b[0mpeek\u001b[0m\u001b[0;34m,\u001b[0m \u001b[0mx\u001b[0m \u001b[0;34m=\u001b[0m \u001b[0mself\u001b[0m\u001b[0;34m.\u001b[0m\u001b[0m_peek_and_restore\u001b[0m\u001b[0;34m(\u001b[0m\u001b[0mx\u001b[0m\u001b[0;34m)\u001b[0m\u001b[0;34m\u001b[0m\u001b[0;34m\u001b[0m\u001b[0m\n\u001b[0m\u001b[1;32m    787\u001b[0m     \u001b[0mpeek\u001b[0m \u001b[0;34m=\u001b[0m \u001b[0mself\u001b[0m\u001b[0;34m.\u001b[0m\u001b[0m_standardize_batch\u001b[0m\u001b[0;34m(\u001b[0m\u001b[0mpeek\u001b[0m\u001b[0;34m)\u001b[0m\u001b[0;34m\u001b[0m\u001b[0;34m\u001b[0m\u001b[0m\n\u001b[1;32m    788\u001b[0m     \u001b[0mpeek\u001b[0m \u001b[0;34m=\u001b[0m \u001b[0m_process_tensorlike\u001b[0m\u001b[0;34m(\u001b[0m\u001b[0mpeek\u001b[0m\u001b[0;34m)\u001b[0m\u001b[0;34m\u001b[0m\u001b[0;34m\u001b[0m\u001b[0m\n",
            "\u001b[0;32m/usr/local/lib/python3.6/dist-packages/tensorflow/python/keras/engine/data_adapter.py\u001b[0m in \u001b[0;36m_peek_and_restore\u001b[0;34m(x)\u001b[0m\n\u001b[1;32m    841\u001b[0m   \u001b[0;34m@\u001b[0m\u001b[0mstaticmethod\u001b[0m\u001b[0;34m\u001b[0m\u001b[0;34m\u001b[0m\u001b[0m\n\u001b[1;32m    842\u001b[0m   \u001b[0;32mdef\u001b[0m \u001b[0m_peek_and_restore\u001b[0m\u001b[0;34m(\u001b[0m\u001b[0mx\u001b[0m\u001b[0;34m)\u001b[0m\u001b[0;34m:\u001b[0m\u001b[0;34m\u001b[0m\u001b[0;34m\u001b[0m\u001b[0m\n\u001b[0;32m--> 843\u001b[0;31m     \u001b[0mpeek\u001b[0m \u001b[0;34m=\u001b[0m \u001b[0mnext\u001b[0m\u001b[0;34m(\u001b[0m\u001b[0mx\u001b[0m\u001b[0;34m)\u001b[0m\u001b[0;34m\u001b[0m\u001b[0;34m\u001b[0m\u001b[0m\n\u001b[0m\u001b[1;32m    844\u001b[0m     \u001b[0;32mreturn\u001b[0m \u001b[0mpeek\u001b[0m\u001b[0;34m,\u001b[0m \u001b[0mitertools\u001b[0m\u001b[0;34m.\u001b[0m\u001b[0mchain\u001b[0m\u001b[0;34m(\u001b[0m\u001b[0;34m[\u001b[0m\u001b[0mpeek\u001b[0m\u001b[0;34m]\u001b[0m\u001b[0;34m,\u001b[0m \u001b[0mx\u001b[0m\u001b[0;34m)\u001b[0m\u001b[0;34m\u001b[0m\u001b[0;34m\u001b[0m\u001b[0m\n\u001b[1;32m    845\u001b[0m \u001b[0;34m\u001b[0m\u001b[0m\n",
            "\u001b[0;31mStopIteration\u001b[0m: "
          ]
        }
      ],
      "source": [
        "# Try to run the fit_generator function once more; observe what happens\n",
        "\n",
        "model.fit_generator(train_generator, steps_per_epoch=train_steps)"
      ]
    },
    {
      "cell_type": "markdown",
      "metadata": {
        "id": "3-fqtd11haDq"
      },
      "source": [
        "#### Make an infinitely looping generator"
      ]
    },
    {
      "cell_type": "code",
      "execution_count": null,
      "metadata": {
        "id": "EMVW0cn6haDr"
      },
      "outputs": [],
      "source": [
        "# Create a function that returns an infinitely looping generator\n",
        "\n",
        "def get_generator_cyclic(features, labels, batch_size=1):\n",
        "    while True:\n",
        "        for n in range(int(len(features)/batch_size)):\n",
        "            yield (features[n*batch_size: (n+1)*batch_size], \n",
        "                labels[n*batch_size: (n+1)*batch_size])\n",
        "        permuted = np.random.permutation(len(features))\n",
        "        features = features[permuted]\n",
        "        labels = labels[permuted]"
      ]
    },
    {
      "cell_type": "code",
      "execution_count": null,
      "metadata": {
        "id": "SlWgTbiMhaDv"
      },
      "outputs": [],
      "source": [
        "# Create a generator using this function.\n",
        "\n",
        "train_generator_cyclic = get_generator_cyclic(training_features, \n",
        "    training_labels, batch_size=batch_size)"
      ]
    },
    {
      "cell_type": "code",
      "execution_count": null,
      "metadata": {
        "id": "eLH7308FhaDz"
      },
      "outputs": [],
      "source": [
        "# Assert that the new cyclic generator does not raise a StopIteration\n",
        "\n",
        "for i in range(2*train_steps):\n",
        "    next(train_generator_cyclic)"
      ]
    },
    {
      "cell_type": "code",
      "execution_count": null,
      "metadata": {
        "id": "pcu6MbjwhaD2"
      },
      "outputs": [],
      "source": [
        "# Generate a cyclic validation generator\n",
        "\n",
        "validation_generator_cyclic = get_generator_cyclic(validation_features, \n",
        "    validation_labels, batch_size=batch_size)"
      ]
    },
    {
      "cell_type": "code",
      "execution_count": null,
      "metadata": {
        "colab": {
          "base_uri": "https://localhost:8080/"
        },
        "id": "7d-hqzGThaD4",
        "outputId": "31c26df6-6132-42a2-8e00-09e25a4f0bf3",
        "scrolled": true
      },
      "outputs": [
        {
          "name": "stdout",
          "output_type": "stream",
          "text": [
            "Epoch 1/3\n",
            "14/14 [==============================] - 0s 5ms/step - loss: 0.0862 - accuracy: 0.9714 - val_loss: 0.0286 - val_accuracy: 1.0000\n",
            "Epoch 2/3\n",
            "14/14 [==============================] - 0s 4ms/step - loss: 0.1078 - accuracy: 0.9571 - val_loss: 0.0168 - val_accuracy: 1.0000\n",
            "Epoch 3/3\n",
            "14/14 [==============================] - 0s 4ms/step - loss: 0.0747 - accuracy: 0.9714 - val_loss: 0.0019 - val_accuracy: 1.0000\n"
          ]
        },
        {
          "data": {
            "text/plain": [
              "<tensorflow.python.keras.callbacks.History at 0x7fbb689a1860>"
            ]
          },
          "execution_count": 65,
          "metadata": {
            "tags": []
          },
          "output_type": "execute_result"
        }
      ],
      "source": [
        "# Train the model\n",
        "\n",
        "model.fit_generator(train_generator_cyclic, steps_per_epoch=train_steps, \n",
        "    validation_data=validation_generator_cyclic, validation_steps=1, epochs=3)"
      ]
    },
    {
      "cell_type": "markdown",
      "metadata": {
        "id": "3IrooDuXhaD7"
      },
      "source": [
        "for _ in range(10000):\n",
        "\n",
        "    x_train, y_train = next(datagen)\n",
        "    \n",
        "    model.train_on_batch(x_train, y_train)"
      ]
    },
    {
      "cell_type": "markdown",
      "metadata": {
        "id": "uX3wHyf-haD7"
      },
      "source": [
        "#### Evaluate the model and get predictions"
      ]
    },
    {
      "cell_type": "code",
      "execution_count": null,
      "metadata": {
        "id": "AZPnBbc4haD7"
      },
      "outputs": [],
      "source": [
        "# Let's obtain a validation data generator.\n",
        "\n",
        "validation_generator = get_generator(validation_features, \n",
        "    validation_labels, batch_size=30)"
      ]
    },
    {
      "cell_type": "code",
      "execution_count": null,
      "metadata": {
        "colab": {
          "base_uri": "https://localhost:8080/"
        },
        "id": "OH7FnT8nhaD9",
        "outputId": "a5a650f3-8845-4068-bd1f-6b893dfc95a8"
      },
      "outputs": [
        {
          "name": "stdout",
          "output_type": "stream",
          "text": [
            "WARNING:tensorflow:From <ipython-input-67-e04c5607c16c>:3: Model.predict_generator (from tensorflow.python.keras.engine.training) is deprecated and will be removed in a future version.\n",
            "Instructions for updating:\n",
            "Please use Model.predict, which supports generators.\n",
            "[0. 0. 0. 1. 1. 0. 0. 0. 0. 1. 0. 0. 0. 1. 1. 1. 1. 0. 1. 0. 0. 0. 0. 1.\n",
            " 0. 1. 0. 0. 1. 0.]\n"
          ]
        }
      ],
      "source": [
        "# Get predictions on the validation data\n",
        "\n",
        "predictions = model.predict_generator(validation_generator, steps=1)\n",
        "print(np.round(predictions.T[0]))"
      ]
    },
    {
      "cell_type": "code",
      "execution_count": null,
      "metadata": {
        "colab": {
          "base_uri": "https://localhost:8080/"
        },
        "id": "MfDxaO80haD_",
        "outputId": "ed36379b-3ee9-4186-b4be-f04c187de79e",
        "scrolled": true
      },
      "outputs": [
        {
          "name": "stdout",
          "output_type": "stream",
          "text": [
            "[0. 0. 0. 1. 1. 0. 0. 0. 0. 1. 0. 0. 0. 1. 1. 1. 1. 0. 1. 0. 0. 0. 0. 1.\n",
            " 0. 1. 0. 0. 1. 0.]\n"
          ]
        }
      ],
      "source": [
        "# Print the corresponding validation labels\n",
        "\n",
        "print(validation_labels)"
      ]
    },
    {
      "cell_type": "code",
      "execution_count": null,
      "metadata": {
        "id": "JYO0ctK8haEB"
      },
      "outputs": [],
      "source": [
        "# Obtain a validation data generator\n",
        "\n",
        "validation_generator = get_generator(validation_features, \n",
        "    validation_labels, batch_size=30)"
      ]
    },
    {
      "cell_type": "code",
      "execution_count": null,
      "metadata": {
        "colab": {
          "base_uri": "https://localhost:8080/"
        },
        "id": "EaJi2CvghaEE",
        "outputId": "794ddba3-c2ad-43ab-8911-29ea66baf4d0"
      },
      "outputs": [
        {
          "name": "stdout",
          "output_type": "stream",
          "text": [
            "1/1 [==============================] - 0s 32ms/step - loss: 0.0040 - accuracy: 1.0000\n",
            "[0.003959147725254297, 1.0]\n"
          ]
        }
      ],
      "source": [
        "# Evaluate the model\n",
        "\n",
        "print(model.evaluate(validation_generator))"
      ]
    },
    {
      "cell_type": "code",
      "execution_count": null,
      "metadata": {
        "colab": {
          "base_uri": "https://localhost:8080/"
        },
        "id": "IlldBcsghaEG",
        "outputId": "a2a15e6b-1ea3-46cb-d1db-b6905e1ff51a"
      },
      "outputs": [
        {
          "name": "stdout",
          "output_type": "stream",
          "text": [
            "WARNING:tensorflow:From <ipython-input-71-9401967d2385>:6: Model.evaluate_generator (from tensorflow.python.keras.engine.training) is deprecated and will be removed in a future version.\n",
            "Instructions for updating:\n",
            "Please use Model.evaluate, which supports generators.\n"
          ]
        },
        {
          "data": {
            "text/plain": [
              "[0.0039591481909155846, 1.0]"
            ]
          },
          "execution_count": 71,
          "metadata": {
            "tags": []
          },
          "output_type": "execute_result"
        }
      ],
      "source": [
        "batch_size = 5\n",
        "steps = len(validation) // batch_size\n",
        "\n",
        "validation_generator = get_generator(validation_features, \n",
        "    validation_labels, batch_size=batch_size)\n",
        "model.evaluate_generator(validation_generator, steps=steps)"
      ]
    },
    {
      "cell_type": "markdown",
      "metadata": {
        "id": "MulkCc1FhaEN"
      },
      "source": [
        "***\n",
        "<a id=\"coding_tutorial_3\"></a>\n",
        "## Keras image data augmentation"
      ]
    },
    {
      "cell_type": "code",
      "execution_count": null,
      "metadata": {
        "id": "XpcAwaiChaEO"
      },
      "outputs": [],
      "source": [
        "%matplotlib inline\n",
        "import matplotlib.pyplot as plt\n",
        "import numpy as np\n",
        "import os"
      ]
    },
    {
      "cell_type": "markdown",
      "metadata": {
        "id": "o8G8N_88haEQ"
      },
      "source": [
        "### Reference\n",
        "\n",
        "from tensorflow.keras.datasets import cifar10\n",
        "\n",
        "from tensorflow.keras.preprocessing.image import ImageDataGenerator\n",
        "\n",
        "(x_train, y_train), (x_test, y_test) = cifar10.load_data()\n",
        "\n",
        "image_data_gen = ImageDataGenerator(rescale=None, \n",
        "    horizontal_flip=True, height_shift_range=0.2, fill_mode='nearest',\n",
        "    featurewise_center=True)\n",
        "\n",
        "image_data_gen.fit(x_train)\n",
        "\n",
        "train_datagen = image_data_gen.flow(x_train, y_train, batch_size=16)\n",
        "\n",
        "model.fit_generator(train_datagen, epochs=20)"
      ]
    },
    {
      "cell_type": "markdown",
      "metadata": {
        "id": "Awp0hKRDhaER"
      },
      "source": [
        "#### Load the CIFAR-10 Dataset"
      ]
    },
    {
      "cell_type": "code",
      "execution_count": null,
      "metadata": {
        "id": "jhtPGirVhaES"
      },
      "outputs": [],
      "source": [
        "from tensorflow.keras.datasets import cifar10"
      ]
    },
    {
      "cell_type": "code",
      "execution_count": null,
      "metadata": {
        "colab": {
          "base_uri": "https://localhost:8080/"
        },
        "id": "GOd1YbsJhaEU",
        "outputId": "28304b38-9dc1-45d4-8ec5-0806e1d3dde1"
      },
      "outputs": [
        {
          "name": "stdout",
          "output_type": "stream",
          "text": [
            "Downloading data from https://www.cs.toronto.edu/~kriz/cifar-10-python.tar.gz\n",
            "170500096/170498071 [==============================] - 3s 0us/step\n"
          ]
        }
      ],
      "source": [
        "# Load the CIFAR-10 dataset\n",
        "\n",
        "(training_features, training_labels), (test_features, test_labels) = \\\n",
        "    cifar10.load_data()"
      ]
    },
    {
      "cell_type": "code",
      "execution_count": null,
      "metadata": {
        "id": "KsAjqqnjhaEV"
      },
      "outputs": [],
      "source": [
        "# Convert the labels to a one-hot encoding\n",
        "\n",
        "num_classes = 10\n",
        "\n",
        "training_labels = tf.keras.utils.to_categorical(training_labels, num_classes)\n",
        "test_labels = tf.keras.utils.to_categorical(test_labels, num_classes)"
      ]
    },
    {
      "cell_type": "markdown",
      "metadata": {
        "id": "GNrlxnRlhaEX"
      },
      "source": [
        "#### Create a generator function"
      ]
    },
    {
      "cell_type": "code",
      "execution_count": null,
      "metadata": {
        "id": "Ieho8OrohaEY"
      },
      "outputs": [],
      "source": [
        "# Create a function that returns a data generator\n",
        "\n",
        "def get_generator(features, labels, batch_size=1):\n",
        "    for n in range(int(len(features)/batch_size)):\n",
        "        yield (features[n*batch_size:(n+1)*batch_size], \n",
        "            labels[n*batch_size:(n+1)*batch_size])"
      ]
    },
    {
      "cell_type": "code",
      "execution_count": null,
      "metadata": {
        "id": "4Kk4Z87MhaEa"
      },
      "outputs": [],
      "source": [
        "# Use the function we created to get a training data generator with a batch size of 1\n",
        "\n",
        "training_generator = get_generator(training_features, training_labels)"
      ]
    },
    {
      "cell_type": "code",
      "execution_count": null,
      "metadata": {
        "colab": {
          "base_uri": "https://localhost:8080/"
        },
        "id": "uUgGGmjOhaEb",
        "outputId": "4c3f1ecd-3b70-47c7-b705-a6cebfc31684"
      },
      "outputs": [
        {
          "name": "stdout",
          "output_type": "stream",
          "text": [
            "(1, 32, 32, 3)\n",
            "(1, 10)\n"
          ]
        }
      ],
      "source": [
        "# Assess the shape of the items generated by training_generator using the `next` function to yield an item.\n",
        "\n",
        "image, label = next(training_generator)\n",
        "print(image.shape)\n",
        "print(label.shape)"
      ]
    },
    {
      "cell_type": "code",
      "execution_count": null,
      "metadata": {
        "colab": {
          "base_uri": "https://localhost:8080/",
          "height": 283
        },
        "id": "uEqA1uDAhaEd",
        "outputId": "fa7b4d20-0a1f-42a7-81f1-183c08873772"
      },
      "outputs": [
        {
          "name": "stdout",
          "output_type": "stream",
          "text": [
            "[[0. 0. 0. 0. 0. 0. 0. 0. 0. 1.]]\n"
          ]
        },
        {
          "data": {
            "image/png": "[encoded data removed]",
            "text/plain": [
              "<Figure size 432x288 with 1 Axes>"
            ]
          },
          "metadata": {
            "needs_background": "light",
            "tags": []
          },
          "output_type": "display_data"
        }
      ],
      "source": [
        "# Test the training generator by obtaining an image using the `next` generator function, and then using imshow to plot it.\n",
        "# Print the corresponding label\n",
        "\n",
        "from matplotlib.pyplot import imshow\n",
        "\n",
        "image, label = next(training_generator)\n",
        "image_unbatched = image[0,:,:,:]\n",
        "imshow(image_unbatched)\n",
        "print(label)"
      ]
    },
    {
      "cell_type": "code",
      "execution_count": null,
      "metadata": {
        "id": "lhNS0N5khaEf"
      },
      "outputs": [],
      "source": [
        "# Reset the generator by re-running the `get_generator` function.\n",
        "\n",
        "train_generator = get_generator(training_features, training_labels)"
      ]
    },
    {
      "cell_type": "markdown",
      "metadata": {
        "id": "yh41TDl2haEh"
      },
      "source": [
        "#### Create a data augmention generator"
      ]
    },
    {
      "cell_type": "code",
      "execution_count": null,
      "metadata": {
        "id": "h1yMmgIPhaEh"
      },
      "outputs": [],
      "source": [
        "from tensorflow.keras.preprocessing.image import ImageDataGenerator"
      ]
    },
    {
      "cell_type": "code",
      "execution_count": null,
      "metadata": {
        "id": "oKyZQms7haEk"
      },
      "outputs": [],
      "source": [
        "# Create a function to convert an image to monochrome\n",
        "\n",
        "def monochrome(x):\n",
        "    def func_bw(a):\n",
        "        average_colour = np.mean(a)\n",
        "        return [average_colour, average_colour, average_colour]\n",
        "    x = np.apply_along_axis(func_bw, -1, x)\n",
        "    return x"
      ]
    },
    {
      "cell_type": "code",
      "execution_count": null,
      "metadata": {
        "id": "mxuo_9aAhaEn"
      },
      "outputs": [],
      "source": [
        "# Create an ImageDataGenerator object\n",
        "\n",
        "image_generator = ImageDataGenerator(\n",
        "    preprocessing_function=monochrome,\n",
        "    rotation_range=180,\n",
        "    rescale=(1/255.0))\n",
        "\n",
        "image_generator.fit(training_features)"
      ]
    },
    {
      "cell_type": "markdown",
      "metadata": {
        "id": "MRwjDb69haEq"
      },
      "source": [
        "Check [the documentation](https://keras.io/preprocessing/image/) for the full list of image data augmentation options. "
      ]
    },
    {
      "cell_type": "code",
      "execution_count": null,
      "metadata": {
        "id": "mRnwugLChaEr"
      },
      "outputs": [],
      "source": [
        "# Create an iterable generator using the `flow` function\n",
        "\n",
        "image_generator_iterable = image_generator.flow(training_features,\n",
        "    training_labels, batch_size=1, shuffle=False)"
      ]
    },
    {
      "cell_type": "code",
      "execution_count": null,
      "metadata": {
        "colab": {
          "base_uri": "https://localhost:8080/",
          "height": 216
        },
        "id": "m2bR1hpHhaEs",
        "outputId": "d0c728d8-dfb1-40bd-84de-cc636450f7c3"
      },
      "outputs": [
        {
          "data": {
            "image/png": "[encoded data removed]",
            "text/plain": [
              "<Figure size 432x288 with 2 Axes>"
            ]
          },
          "metadata": {
            "needs_background": "light",
            "tags": []
          },
          "output_type": "display_data"
        }
      ],
      "source": [
        "# Show a sample from the generator and compare with the original\n",
        "\n",
        "image, label = next(image_generator_iterable)\n",
        "image_orig, label_orig = next(train_generator)\n",
        "figs, axes = plt.subplots(1,2)\n",
        "axes[0].imshow(image[0,:,:,:])\n",
        "axes[0].set_title('Transformed')\n",
        "axes[1].imshow(image_orig[0,:,:,:])\n",
        "axes[1].set_title('Original')\n",
        "plt.show()"
      ]
    },
    {
      "cell_type": "markdown",
      "metadata": {
        "id": "AZN3SD04haEt"
      },
      "source": [
        "#### Flow from directory"
      ]
    },
    {
      "cell_type": "markdown",
      "metadata": {
        "id": "00kewhH1d-Yw"
      },
      "source": [
        "#### Import the data\n",
        "\n",
        "The dataset required for this tutorial can be downloaded from the following link:\n",
        "\n",
        "https://drive.google.com/open?id=11Y43ta5gT672L3sfJFR2DvPs-ralY5Pd\n",
        "\n",
        "You should store these files for use in this Colab notebook."
      ]
    },
    {
      "cell_type": "code",
      "execution_count": null,
      "metadata": {
        "id": "dW7NZ379eczt"
      },
      "outputs": [],
      "source": [
        "data_dir = \"./data\"\n",
        "if not os.path.exists(data_dir):\n",
        "    os.makedirs(data_dir)"
      ]
    },
    {
      "cell_type": "code",
      "execution_count": null,
      "metadata": {
        "colab": {
          "base_uri": "https://localhost:8080/"
        },
        "id": "ZVokfPRQecz-",
        "outputId": "6aacd8a0-1e61-433d-b145-6f9080950448"
      },
      "outputs": [
        {
          "name": "stderr",
          "output_type": "stream",
          "text": [
            "  % Total    % Received % Xferd  Average Speed   Time    Time     Time  Current\n",
            "                                 Dload  Upload   Total   Spent    Left  Speed\n",
            "100   408    0   408    0     0   4483      0 --:--:-- --:--:-- --:--:--  4483\n",
            "  0     0    0     0    0     0      0      0 --:--:-- --:--:-- --:--:--     0\n",
            "  0     0    0     0    0     0      0      0 --:--:-- --:--:-- --:--:--     0\n",
            "100  226M    0  226M    0     0  33.1M      0 --:--:--  0:00:06 --:--:-- 53.8M\n"
          ]
        }
      ],
      "source": [
        "%%bash\n",
        "\n",
        "fileid=\"11Y43ta5gT672L3sfJFR2DvPs-ralY5Pd\"\n",
        "filename=\"./data/flowers-recognition-split.zip\"\n",
        "curl -c ./cookie -s -L \"https://drive.google.com/uc?export=download&id=${fileid}\" > /dev/null\n",
        "curl -Lb ./cookie \"https://drive.google.com/uc?export=download&confirm=`awk '/download/ {print $NF}' ./cookie`&id=${fileid}\" -o ${filename}\n",
        "\n",
        "unzip -qq ./data/flowers-recognition-split.zip -d ./data\n",
        "rm -rf ./cookie ./data/flowers-recognition-split.zip"
      ]
    },
    {
      "cell_type": "code",
      "execution_count": null,
      "metadata": {
        "id": "hS8Aj9o7haEu"
      },
      "outputs": [],
      "source": [
        "# Inspect the directory structure\n",
        "\n",
        "train_path = 'data/flowers-recognition-split/train'\n",
        "val_path = 'data/flowers-recognition-split/val'"
      ]
    },
    {
      "cell_type": "code",
      "execution_count": null,
      "metadata": {
        "id": "u0teFy5XhaEw"
      },
      "outputs": [],
      "source": [
        "# Create an ImageDataGenerator object\n",
        "\n",
        "datagenerator = ImageDataGenerator(rescale=(1/255.0))"
      ]
    },
    {
      "cell_type": "code",
      "execution_count": null,
      "metadata": {
        "id": "O8F4Hv6OhaEy"
      },
      "outputs": [],
      "source": [
        "classes = ['daisy', 'dandelion', 'rose', 'sunflower', 'tulip']"
      ]
    },
    {
      "cell_type": "code",
      "execution_count": null,
      "metadata": {
        "colab": {
          "base_uri": "https://localhost:8080/"
        },
        "id": "43SCIXOohaEz",
        "outputId": "e52ac20c-41cc-4b74-fc01-441b5cc508f6"
      },
      "outputs": [
        {
          "name": "stdout",
          "output_type": "stream",
          "text": [
            "Found 3027 images belonging to 5 classes.\n"
          ]
        }
      ],
      "source": [
        "# Create a training data generator\n",
        "\n",
        "train_generator = datagenerator.flow_from_directory(train_path,\n",
        "    batch_size=64, classes=classes, target_size=(16, 16))"
      ]
    },
    {
      "cell_type": "code",
      "execution_count": null,
      "metadata": {
        "colab": {
          "base_uri": "https://localhost:8080/"
        },
        "id": "oNduitYAhaE1",
        "outputId": "98458496-0f62-45a9-b384-9668d759ba6f"
      },
      "outputs": [
        {
          "name": "stdout",
          "output_type": "stream",
          "text": [
            "Found 1296 images belonging to 5 classes.\n"
          ]
        }
      ],
      "source": [
        "# Create a validation data generator\n",
        "\n",
        "val_generator = datagenerator.flow_from_directory(val_path,\n",
        "    batch_size=64, classes=classes, target_size=(16,16))"
      ]
    },
    {
      "cell_type": "code",
      "execution_count": null,
      "metadata": {
        "colab": {
          "base_uri": "https://localhost:8080/",
          "height": 282
        },
        "id": "eUzYyqoVhaE8",
        "outputId": "c20f4159-a8e3-4f4f-ea65-2d4a9161451f"
      },
      "outputs": [
        {
          "name": "stdout",
          "output_type": "stream",
          "text": [
            "[1. 0. 0. 0. 0.]\n"
          ]
        },
        {
          "data": {
            "image/png": "[encoded data removed]",
            "text/plain": [
              "<Figure size 432x288 with 1 Axes>"
            ]
          },
          "metadata": {
            "needs_background": "light",
            "tags": []
          },
          "output_type": "display_data"
        }
      ],
      "source": [
        "# Get and display an image and label from the training generator\n",
        "\n",
        "x = next(train_generator)\n",
        "imshow(x[0][4])\n",
        "print(x[1][4])"
      ]
    },
    {
      "cell_type": "code",
      "execution_count": null,
      "metadata": {
        "colab": {
          "base_uri": "https://localhost:8080/"
        },
        "id": "hawvnO6-haE9",
        "outputId": "4001dd15-d68f-4749-f60c-a128b9e6a3c0"
      },
      "outputs": [
        {
          "name": "stdout",
          "output_type": "stream",
          "text": [
            "Found 3027 images belonging to 5 classes.\n"
          ]
        }
      ],
      "source": [
        "# Reset the training generator\n",
        "\n",
        "train_generator = datagenerator.flow_from_directory(train_path,\n",
        "    batch_size=64, classes=classes, target_size=(16, 16))"
      ]
    },
    {
      "cell_type": "markdown",
      "metadata": {
        "id": "OSWrrJRGhaE_"
      },
      "source": [
        "#### Create a model to train"
      ]
    },
    {
      "cell_type": "code",
      "execution_count": null,
      "metadata": {
        "id": "YLteymJqhaE_"
      },
      "outputs": [],
      "source": [
        "# Build a CNN model\n",
        "\n",
        "from tensorflow.keras.layers import Conv2D, MaxPooling2D, Input, Flatten, Dense\n",
        "\n",
        "model = tf.keras.Sequential()\n",
        "model.add(Input((16,16,3)))\n",
        "model.add(Conv2D(8, (8, 8), padding='same', activation='relu'))\n",
        "model.add(MaxPooling2D((4,4)))\n",
        "model.add(Conv2D(8, (8, 8), padding='same', activation='relu'))\n",
        "model.add(MaxPooling2D((2,2)))\n",
        "model.add(Conv2D(4, (4, 4), padding='same', activation='relu'))\n",
        "model.add(Flatten())\n",
        "model.add(Dense(16, activation='relu'))\n",
        "model.add(Dense(8, activation='relu'))\n",
        "model.add(Dense(5, activation='softmax'))"
      ]
    },
    {
      "cell_type": "code",
      "execution_count": null,
      "metadata": {
        "id": "a9ScUILYhaFB"
      },
      "outputs": [],
      "source": [
        "# Create an optimizer object\n",
        "\n",
        "optimizer = tf.keras.optimizers.Adam(1e-3)"
      ]
    },
    {
      "cell_type": "code",
      "execution_count": null,
      "metadata": {
        "id": "TxqLi4jrhaFC"
      },
      "outputs": [],
      "source": [
        "# Compile the model\n",
        "\n",
        "model.compile(optimizer=optimizer, \n",
        "    loss='categorical_crossentropy', metrics=['accuracy'])"
      ]
    },
    {
      "cell_type": "code",
      "execution_count": null,
      "metadata": {
        "colab": {
          "base_uri": "https://localhost:8080/"
        },
        "id": "1KogBiFshaFE",
        "outputId": "8f84f851-8853-4315-c247-3689dc0a197c"
      },
      "outputs": [
        {
          "name": "stdout",
          "output_type": "stream",
          "text": [
            "Model: \"sequential\"\n",
            "_________________________________________________________________\n",
            "Layer (type)                 Output Shape              Param #   \n",
            "=================================================================\n",
            "conv2d (Conv2D)              (None, 16, 16, 8)         1544      \n",
            "_________________________________________________________________\n",
            "max_pooling2d (MaxPooling2D) (None, 4, 4, 8)           0         \n",
            "_________________________________________________________________\n",
            "conv2d_1 (Conv2D)            (None, 4, 4, 8)           4104      \n",
            "_________________________________________________________________\n",
            "max_pooling2d_1 (MaxPooling2 (None, 2, 2, 8)           0         \n",
            "_________________________________________________________________\n",
            "conv2d_2 (Conv2D)            (None, 2, 2, 4)           516       \n",
            "_________________________________________________________________\n",
            "flatten (Flatten)            (None, 16)                0         \n",
            "_________________________________________________________________\n",
            "dense_2 (Dense)              (None, 16)                272       \n",
            "_________________________________________________________________\n",
            "dense_3 (Dense)              (None, 8)                 136       \n",
            "_________________________________________________________________\n",
            "dense_4 (Dense)              (None, 5)                 45        \n",
            "=================================================================\n",
            "Total params: 6,617\n",
            "Trainable params: 6,617\n",
            "Non-trainable params: 0\n",
            "_________________________________________________________________\n"
          ]
        }
      ],
      "source": [
        "# Print the model summary\n",
        "\n",
        "model.summary()"
      ]
    },
    {
      "cell_type": "markdown",
      "metadata": {
        "id": "Aqwr_ORZhaFG"
      },
      "source": [
        "#### Train the model"
      ]
    },
    {
      "cell_type": "code",
      "execution_count": null,
      "metadata": {
        "colab": {
          "base_uri": "https://localhost:8080/"
        },
        "id": "HDyE8_XchaFH",
        "outputId": "582a6514-7690-4661-a085-258c9402603a"
      },
      "outputs": [
        {
          "name": "stdout",
          "output_type": "stream",
          "text": [
            "47 20\n"
          ]
        }
      ],
      "source": [
        "# Calculate the training generator and test generator steps per epoch\n",
        "\n",
        "train_steps_per_epoch = train_generator.n // train_generator.batch_size\n",
        "val_steps = val_generator.n // val_generator.batch_size\n",
        "print(train_steps_per_epoch, val_steps)"
      ]
    },
    {
      "cell_type": "code",
      "execution_count": null,
      "metadata": {
        "colab": {
          "base_uri": "https://localhost:8080/"
        },
        "id": "yRmd7ZDDhaFI",
        "outputId": "4a214bd4-f0e0-480e-be2a-c9b609725276"
      },
      "outputs": [
        {
          "name": "stdout",
          "output_type": "stream",
          "text": [
            "Epoch 1/5\n",
            "47/47 [==============================] - 7s 139ms/step - loss: 1.5928 - accuracy: 0.2383\n",
            "Epoch 2/5\n",
            "47/47 [==============================] - 7s 140ms/step - loss: 1.5423 - accuracy: 0.2994\n",
            "Epoch 3/5\n",
            "47/47 [==============================] - 7s 139ms/step - loss: 1.4935 - accuracy: 0.3156\n",
            "Epoch 4/5\n",
            "47/47 [==============================] - 7s 140ms/step - loss: 1.4610 - accuracy: 0.3307\n",
            "Epoch 5/5\n",
            "47/47 [==============================] - 7s 140ms/step - loss: 1.4393 - accuracy: 0.3480\n"
          ]
        },
        {
          "data": {
            "text/plain": [
              "<tensorflow.python.keras.callbacks.History at 0x7fbb6b9abc50>"
            ]
          },
          "execution_count": 100,
          "metadata": {
            "tags": []
          },
          "output_type": "execute_result"
        }
      ],
      "source": [
        "# Fit the model\n",
        "\n",
        "model.fit_generator(train_generator, \n",
        "    steps_per_epoch=train_steps_per_epoch, epochs=5)"
      ]
    },
    {
      "cell_type": "markdown",
      "metadata": {
        "id": "Da9gQT5BhaFL"
      },
      "source": [
        "#### Evaluate the model"
      ]
    },
    {
      "cell_type": "code",
      "execution_count": null,
      "metadata": {
        "colab": {
          "base_uri": "https://localhost:8080/"
        },
        "id": "wWkUOT4fhaFM",
        "outputId": "bc189e14-e10b-4970-fb97-4544c391d1f6"
      },
      "outputs": [
        {
          "data": {
            "text/plain": [
              "[1.425450086593628, 0.37031251192092896]"
            ]
          },
          "execution_count": 101,
          "metadata": {
            "tags": []
          },
          "output_type": "execute_result"
        }
      ],
      "source": [
        "# Evaluate the model\n",
        "\n",
        "model.evaluate_generator(val_generator, steps=val_steps)"
      ]
    },
    {
      "cell_type": "markdown",
      "metadata": {
        "id": "yQRD2u5UhaFN"
      },
      "source": [
        "#### Predict using the generator"
      ]
    },
    {
      "cell_type": "code",
      "execution_count": null,
      "metadata": {
        "colab": {
          "base_uri": "https://localhost:8080/"
        },
        "id": "de5vOjAjhaFN",
        "outputId": "f4b41817-e995-4ecc-8980-03aa39a30b55",
        "scrolled": true
      },
      "outputs": [
        {
          "name": "stdout",
          "output_type": "stream",
          "text": [
            "[[0.17 0.25 0.22 0.1  0.26]\n",
            " [0.29 0.32 0.16 0.05 0.19]\n",
            " [0.04 0.11 0.17 0.36 0.32]\n",
            " [0.2  0.29 0.2  0.07 0.24]\n",
            " [0.17 0.27 0.22 0.08 0.26]\n",
            " [0.05 0.17 0.36 0.1  0.32]\n",
            " [0.11 0.17 0.18 0.26 0.29]\n",
            " [0.18 0.24 0.21 0.11 0.25]\n",
            " [0.21 0.25 0.19 0.12 0.23]\n",
            " [0.25 0.26 0.19 0.1  0.2 ]\n",
            " [0.29 0.39 0.14 0.02 0.16]\n",
            " [0.01 0.06 0.13 0.44 0.36]\n",
            " [0.06 0.12 0.14 0.4  0.28]\n",
            " [0.05 0.12 0.14 0.36 0.33]\n",
            " [0.23 0.25 0.19 0.12 0.21]\n",
            " [0.03 0.09 0.11 0.46 0.3 ]\n",
            " [0.13 0.17 0.18 0.26 0.25]\n",
            " [0.19 0.22 0.2  0.15 0.23]\n",
            " [0.06 0.13 0.16 0.33 0.32]\n",
            " [0.28 0.31 0.17 0.06 0.19]\n",
            " [0.27 0.3  0.17 0.06 0.2 ]\n",
            " [0.12 0.17 0.18 0.25 0.29]\n",
            " [0.23 0.27 0.19 0.09 0.22]\n",
            " [0.08 0.15 0.18 0.29 0.3 ]\n",
            " [0.24 0.35 0.17 0.04 0.2 ]\n",
            " [0.15 0.21 0.19 0.17 0.28]\n",
            " [0.28 0.31 0.16 0.05 0.19]\n",
            " [0.07 0.15 0.18 0.29 0.31]\n",
            " [0.27 0.3  0.18 0.07 0.18]\n",
            " [0.05 0.12 0.16 0.34 0.33]\n",
            " [0.16 0.2  0.18 0.21 0.26]\n",
            " [0.03 0.08 0.11 0.47 0.3 ]\n",
            " [0.04 0.11 0.18 0.34 0.33]\n",
            " [0.15 0.2  0.2  0.18 0.27]\n",
            " [0.16 0.23 0.18 0.13 0.3 ]\n",
            " [0.21 0.23 0.2  0.14 0.22]\n",
            " [0.08 0.15 0.18 0.3  0.3 ]\n",
            " [0.11 0.17 0.17 0.25 0.3 ]\n",
            " [0.09 0.15 0.16 0.27 0.32]\n",
            " [0.12 0.18 0.19 0.22 0.29]\n",
            " [0.28 0.33 0.17 0.05 0.18]\n",
            " [0.08 0.17 0.23 0.2  0.31]\n",
            " [0.05 0.12 0.16 0.35 0.32]\n",
            " [0.19 0.24 0.21 0.13 0.24]\n",
            " [0.12 0.18 0.18 0.21 0.31]\n",
            " [0.28 0.33 0.17 0.04 0.17]\n",
            " [0.05 0.11 0.15 0.42 0.27]\n",
            " [0.15 0.2  0.19 0.17 0.28]\n",
            " [0.26 0.26 0.18 0.1  0.2 ]\n",
            " [0.27 0.31 0.18 0.06 0.18]\n",
            " [0.14 0.19 0.19 0.2  0.28]\n",
            " [0.25 0.27 0.18 0.09 0.21]\n",
            " [0.11 0.16 0.17 0.27 0.28]\n",
            " [0.22 0.26 0.19 0.1  0.23]\n",
            " [0.03 0.08 0.11 0.5  0.28]\n",
            " [0.08 0.16 0.17 0.23 0.36]\n",
            " [0.28 0.3  0.16 0.06 0.19]\n",
            " [0.08 0.15 0.17 0.3  0.3 ]\n",
            " [0.04 0.15 0.34 0.14 0.33]\n",
            " [0.1  0.17 0.18 0.26 0.3 ]\n",
            " [0.03 0.11 0.28 0.22 0.36]\n",
            " [0.1  0.17 0.17 0.27 0.3 ]\n",
            " [0.27 0.29 0.17 0.07 0.19]\n",
            " [0.24 0.28 0.19 0.08 0.22]]\n"
          ]
        }
      ],
      "source": [
        "# Predict labels with the model\n",
        "\n",
        "predictions = model.predict_generator(val_generator, steps=1)\n",
        "print(np.round(predictions, 2))"
      ]
    },
    {
      "cell_type": "markdown",
      "metadata": {
        "id": "3b7sr3v1haFP"
      },
      "source": [
        "***\n",
        "<a id=\"coding_tutorial_4\"></a>\n",
        "## The Dataset Class"
      ]
    },
    {
      "cell_type": "code",
      "execution_count": null,
      "metadata": {
        "id": "9EfjjJTihaFP"
      },
      "outputs": [],
      "source": [
        "%matplotlib inline\n",
        "import matplotlib.pyplot as plt\n",
        "import numpy as np\n",
        "import os"
      ]
    },
    {
      "cell_type": "markdown",
      "metadata": {
        "id": "uhejCLoBhaFR"
      },
      "source": [
        "#### Create a simple dataset"
      ]
    },
    {
      "cell_type": "code",
      "execution_count": null,
      "metadata": {
        "colab": {
          "base_uri": "https://localhost:8080/"
        },
        "id": "cdIiKePqhaFR",
        "outputId": "4f70c232-87be-4840-9c73-aa96f5e12060"
      },
      "outputs": [
        {
          "name": "stdout",
          "output_type": "stream",
          "text": [
            "<TensorSliceDataset shapes: (2,), types: tf.int32>\n",
            "[1 2]\n",
            "[3 4]\n",
            "[5 6]\n"
          ]
        }
      ],
      "source": [
        "dataset = tf.data.Dataset.from_tensor_slices(\n",
        "    [[1,2],[3,4],[5,6]])\n",
        "print(dataset)\n",
        "\n",
        "for elem in dataset:\n",
        "    print(elem.numpy())"
      ]
    },
    {
      "cell_type": "code",
      "execution_count": null,
      "metadata": {
        "colab": {
          "base_uri": "https://localhost:8080/"
        },
        "id": "_2S9ceMKhaFc",
        "outputId": "cbd67758-6a15-4079-b76c-e34318ad5981"
      },
      "outputs": [
        {
          "name": "stdout",
          "output_type": "stream",
          "text": [
            "(TensorSpec(shape=(4,), dtype=tf.int32, name=None), TensorSpec(shape=(), dtype=tf.float32, name=None))\n",
            "(<tf.Tensor: shape=(4,), dtype=int32, numpy=array([7, 3, 4, 6], dtype=int32)>, <tf.Tensor: shape=(), dtype=float32, numpy=-0.08878488>)\n",
            "(<tf.Tensor: shape=(4,), dtype=int32, numpy=array([2, 5, 8, 5], dtype=int32)>, <tf.Tensor: shape=(), dtype=float32, numpy=0.30734274>)\n"
          ]
        }
      ],
      "source": [
        "dataset = tf.data.Dataset.from_tensor_slices(\n",
        "    (tf.random.uniform([256,4], minval=1, maxval=10, dtype=tf.int32),\n",
        "    tf.random.normal([256])))\n",
        "\n",
        "print(dataset.element_spec)\n",
        "\n",
        "for elem in dataset.take(2):\n",
        "    print(elem)"
      ]
    },
    {
      "cell_type": "code",
      "execution_count": null,
      "metadata": {
        "id": "NuY8FBxLhaFd"
      },
      "outputs": [],
      "source": [
        "x = np.zeros((100,10,2,2))"
      ]
    },
    {
      "cell_type": "code",
      "execution_count": null,
      "metadata": {
        "id": "6tuzoM-ehaFg"
      },
      "outputs": [],
      "source": [
        "# Create a dataset from the tensor x\n",
        "\n",
        "dataset1 = tf.data.Dataset.from_tensor_slices(x)"
      ]
    },
    {
      "cell_type": "code",
      "execution_count": null,
      "metadata": {
        "colab": {
          "base_uri": "https://localhost:8080/"
        },
        "id": "AEjYys1ThaFh",
        "outputId": "3835557e-0453-4b97-8096-01fd7932a4b4"
      },
      "outputs": [
        {
          "name": "stdout",
          "output_type": "stream",
          "text": [
            "<TensorSliceDataset shapes: (10, 2, 2), types: tf.float64>\n",
            "TensorSpec(shape=(10, 2, 2), dtype=tf.float64, name=None)\n"
          ]
        }
      ],
      "source": [
        "# Inspect the Dataset object\n",
        "\n",
        "print(dataset1)\n",
        "print(dataset1.element_spec)"
      ]
    },
    {
      "cell_type": "code",
      "execution_count": null,
      "metadata": {
        "id": "keCXj3smhaFj"
      },
      "outputs": [],
      "source": [
        "x2 = [np.zeros((10,2,2)), np.zeros((5,2,2))]"
      ]
    },
    {
      "cell_type": "code",
      "execution_count": null,
      "metadata": {
        "colab": {
          "base_uri": "https://localhost:8080/",
          "height": 365
        },
        "id": "WzzwP_FfhaFo",
        "outputId": "fc4300c3-b412-4271-9ce9-47b5f8d933ac"
      },
      "outputs": [
        {
          "ename": "ValueError",
          "evalue": "ignored",
          "output_type": "error",
          "traceback": [
            "\u001b[0;31m---------------------------------------------------------------------------\u001b[0m",
            "\u001b[0;31mValueError\u001b[0m                                Traceback (most recent call last)",
            "\u001b[0;32m<ipython-input-110-e4370cf142de>\u001b[0m in \u001b[0;36m<module>\u001b[0;34m()\u001b[0m\n\u001b[1;32m      1\u001b[0m \u001b[0;31m# Try creating a dataset from the tensor x2\u001b[0m\u001b[0;34m\u001b[0m\u001b[0;34m\u001b[0m\u001b[0;34m\u001b[0m\u001b[0m\n\u001b[1;32m      2\u001b[0m \u001b[0;34m\u001b[0m\u001b[0m\n\u001b[0;32m----> 3\u001b[0;31m \u001b[0mdataset2\u001b[0m \u001b[0;34m=\u001b[0m \u001b[0mtf\u001b[0m\u001b[0;34m.\u001b[0m\u001b[0mdata\u001b[0m\u001b[0;34m.\u001b[0m\u001b[0mDataset\u001b[0m\u001b[0;34m.\u001b[0m\u001b[0mfrom_tensor_slices\u001b[0m\u001b[0;34m(\u001b[0m\u001b[0mx2\u001b[0m\u001b[0;34m)\u001b[0m\u001b[0;34m\u001b[0m\u001b[0;34m\u001b[0m\u001b[0m\n\u001b[0m",
            "\u001b[0;32m/usr/local/lib/python3.6/dist-packages/tensorflow/python/data/ops/dataset_ops.py\u001b[0m in \u001b[0;36mfrom_tensor_slices\u001b[0;34m(tensors)\u001b[0m\n\u001b[1;32m    680\u001b[0m       \u001b[0mDataset\u001b[0m\u001b[0;34m:\u001b[0m \u001b[0mA\u001b[0m\u001b[0;31m \u001b[0m\u001b[0;31m`\u001b[0m\u001b[0mDataset\u001b[0m\u001b[0;31m`\u001b[0m\u001b[0;34m.\u001b[0m\u001b[0;34m\u001b[0m\u001b[0;34m\u001b[0m\u001b[0m\n\u001b[1;32m    681\u001b[0m     \"\"\"\n\u001b[0;32m--> 682\u001b[0;31m     \u001b[0;32mreturn\u001b[0m \u001b[0mTensorSliceDataset\u001b[0m\u001b[0;34m(\u001b[0m\u001b[0mtensors\u001b[0m\u001b[0;34m)\u001b[0m\u001b[0;34m\u001b[0m\u001b[0;34m\u001b[0m\u001b[0m\n\u001b[0m\u001b[1;32m    683\u001b[0m \u001b[0;34m\u001b[0m\u001b[0m\n\u001b[1;32m    684\u001b[0m   \u001b[0;32mclass\u001b[0m \u001b[0m_GeneratorState\u001b[0m\u001b[0;34m(\u001b[0m\u001b[0mobject\u001b[0m\u001b[0;34m)\u001b[0m\u001b[0;34m:\u001b[0m\u001b[0;34m\u001b[0m\u001b[0;34m\u001b[0m\u001b[0m\n",
            "\u001b[0;32m/usr/local/lib/python3.6/dist-packages/tensorflow/python/data/ops/dataset_ops.py\u001b[0m in \u001b[0;36m__init__\u001b[0;34m(self, element)\u001b[0m\n\u001b[1;32m   2999\u001b[0m   \u001b[0;32mdef\u001b[0m \u001b[0m__init__\u001b[0m\u001b[0;34m(\u001b[0m\u001b[0mself\u001b[0m\u001b[0;34m,\u001b[0m \u001b[0melement\u001b[0m\u001b[0;34m)\u001b[0m\u001b[0;34m:\u001b[0m\u001b[0;34m\u001b[0m\u001b[0;34m\u001b[0m\u001b[0m\n\u001b[1;32m   3000\u001b[0m     \u001b[0;34m\"\"\"See `Dataset.from_tensor_slices()` for details.\"\"\"\u001b[0m\u001b[0;34m\u001b[0m\u001b[0;34m\u001b[0m\u001b[0m\n\u001b[0;32m-> 3001\u001b[0;31m     \u001b[0melement\u001b[0m \u001b[0;34m=\u001b[0m \u001b[0mstructure\u001b[0m\u001b[0;34m.\u001b[0m\u001b[0mnormalize_element\u001b[0m\u001b[0;34m(\u001b[0m\u001b[0melement\u001b[0m\u001b[0;34m)\u001b[0m\u001b[0;34m\u001b[0m\u001b[0;34m\u001b[0m\u001b[0m\n\u001b[0m\u001b[1;32m   3002\u001b[0m     \u001b[0mbatched_spec\u001b[0m \u001b[0;34m=\u001b[0m \u001b[0mstructure\u001b[0m\u001b[0;34m.\u001b[0m\u001b[0mtype_spec_from_value\u001b[0m\u001b[0;34m(\u001b[0m\u001b[0melement\u001b[0m\u001b[0;34m)\u001b[0m\u001b[0;34m\u001b[0m\u001b[0;34m\u001b[0m\u001b[0m\n\u001b[1;32m   3003\u001b[0m     \u001b[0mself\u001b[0m\u001b[0;34m.\u001b[0m\u001b[0m_tensors\u001b[0m \u001b[0;34m=\u001b[0m \u001b[0mstructure\u001b[0m\u001b[0;34m.\u001b[0m\u001b[0mto_batched_tensor_list\u001b[0m\u001b[0;34m(\u001b[0m\u001b[0mbatched_spec\u001b[0m\u001b[0;34m,\u001b[0m \u001b[0melement\u001b[0m\u001b[0;34m)\u001b[0m\u001b[0;34m\u001b[0m\u001b[0;34m\u001b[0m\u001b[0m\n",
            "\u001b[0;32m/usr/local/lib/python3.6/dist-packages/tensorflow/python/data/util/structure.py\u001b[0m in \u001b[0;36mnormalize_element\u001b[0;34m(element)\u001b[0m\n\u001b[1;32m    113\u001b[0m         \u001b[0;32melse\u001b[0m\u001b[0;34m:\u001b[0m\u001b[0;34m\u001b[0m\u001b[0;34m\u001b[0m\u001b[0m\n\u001b[1;32m    114\u001b[0m           normalized_components.append(\n\u001b[0;32m--> 115\u001b[0;31m               ops.convert_to_tensor(t, name=\"component_%d\" % i))\n\u001b[0m\u001b[1;32m    116\u001b[0m   \u001b[0;32mreturn\u001b[0m \u001b[0mnest\u001b[0m\u001b[0;34m.\u001b[0m\u001b[0mpack_sequence_as\u001b[0m\u001b[0;34m(\u001b[0m\u001b[0melement\u001b[0m\u001b[0;34m,\u001b[0m \u001b[0mnormalized_components\u001b[0m\u001b[0;34m)\u001b[0m\u001b[0;34m\u001b[0m\u001b[0;34m\u001b[0m\u001b[0m\n\u001b[1;32m    117\u001b[0m \u001b[0;34m\u001b[0m\u001b[0m\n",
            "\u001b[0;32m/usr/local/lib/python3.6/dist-packages/tensorflow/python/framework/ops.py\u001b[0m in \u001b[0;36mconvert_to_tensor\u001b[0;34m(value, dtype, name, as_ref, preferred_dtype, dtype_hint, ctx, accepted_result_types)\u001b[0m\n\u001b[1;32m   1497\u001b[0m \u001b[0;34m\u001b[0m\u001b[0m\n\u001b[1;32m   1498\u001b[0m     \u001b[0;32mif\u001b[0m \u001b[0mret\u001b[0m \u001b[0;32mis\u001b[0m \u001b[0;32mNone\u001b[0m\u001b[0;34m:\u001b[0m\u001b[0;34m\u001b[0m\u001b[0;34m\u001b[0m\u001b[0m\n\u001b[0;32m-> 1499\u001b[0;31m       \u001b[0mret\u001b[0m \u001b[0;34m=\u001b[0m \u001b[0mconversion_func\u001b[0m\u001b[0;34m(\u001b[0m\u001b[0mvalue\u001b[0m\u001b[0;34m,\u001b[0m \u001b[0mdtype\u001b[0m\u001b[0;34m=\u001b[0m\u001b[0mdtype\u001b[0m\u001b[0;34m,\u001b[0m \u001b[0mname\u001b[0m\u001b[0;34m=\u001b[0m\u001b[0mname\u001b[0m\u001b[0;34m,\u001b[0m \u001b[0mas_ref\u001b[0m\u001b[0;34m=\u001b[0m\u001b[0mas_ref\u001b[0m\u001b[0;34m)\u001b[0m\u001b[0;34m\u001b[0m\u001b[0;34m\u001b[0m\u001b[0m\n\u001b[0m\u001b[1;32m   1500\u001b[0m \u001b[0;34m\u001b[0m\u001b[0m\n\u001b[1;32m   1501\u001b[0m     \u001b[0;32mif\u001b[0m \u001b[0mret\u001b[0m \u001b[0;32mis\u001b[0m \u001b[0mNotImplemented\u001b[0m\u001b[0;34m:\u001b[0m\u001b[0;34m\u001b[0m\u001b[0;34m\u001b[0m\u001b[0m\n",
            "\u001b[0;32m/usr/local/lib/python3.6/dist-packages/tensorflow/python/framework/constant_op.py\u001b[0m in \u001b[0;36m_constant_tensor_conversion_function\u001b[0;34m(v, dtype, name, as_ref)\u001b[0m\n\u001b[1;32m    336\u001b[0m                                          as_ref=False):\n\u001b[1;32m    337\u001b[0m   \u001b[0m_\u001b[0m \u001b[0;34m=\u001b[0m \u001b[0mas_ref\u001b[0m\u001b[0;34m\u001b[0m\u001b[0;34m\u001b[0m\u001b[0m\n\u001b[0;32m--> 338\u001b[0;31m   \u001b[0;32mreturn\u001b[0m \u001b[0mconstant\u001b[0m\u001b[0;34m(\u001b[0m\u001b[0mv\u001b[0m\u001b[0;34m,\u001b[0m \u001b[0mdtype\u001b[0m\u001b[0;34m=\u001b[0m\u001b[0mdtype\u001b[0m\u001b[0;34m,\u001b[0m \u001b[0mname\u001b[0m\u001b[0;34m=\u001b[0m\u001b[0mname\u001b[0m\u001b[0;34m)\u001b[0m\u001b[0;34m\u001b[0m\u001b[0;34m\u001b[0m\u001b[0m\n\u001b[0m\u001b[1;32m    339\u001b[0m \u001b[0;34m\u001b[0m\u001b[0m\n\u001b[1;32m    340\u001b[0m \u001b[0;34m\u001b[0m\u001b[0m\n",
            "\u001b[0;32m/usr/local/lib/python3.6/dist-packages/tensorflow/python/framework/constant_op.py\u001b[0m in \u001b[0;36mconstant\u001b[0;34m(value, dtype, shape, name)\u001b[0m\n\u001b[1;32m    262\u001b[0m   \"\"\"\n\u001b[1;32m    263\u001b[0m   return _constant_impl(value, dtype, shape, name, verify_shape=False,\n\u001b[0;32m--> 264\u001b[0;31m                         allow_broadcast=True)\n\u001b[0m\u001b[1;32m    265\u001b[0m \u001b[0;34m\u001b[0m\u001b[0m\n\u001b[1;32m    266\u001b[0m \u001b[0;34m\u001b[0m\u001b[0m\n",
            "\u001b[0;32m/usr/local/lib/python3.6/dist-packages/tensorflow/python/framework/constant_op.py\u001b[0m in \u001b[0;36m_constant_impl\u001b[0;34m(value, dtype, shape, name, verify_shape, allow_broadcast)\u001b[0m\n\u001b[1;32m    273\u001b[0m       \u001b[0;32mwith\u001b[0m \u001b[0mtrace\u001b[0m\u001b[0;34m.\u001b[0m\u001b[0mTrace\u001b[0m\u001b[0;34m(\u001b[0m\u001b[0;34m\"tf.constant\"\u001b[0m\u001b[0;34m)\u001b[0m\u001b[0;34m:\u001b[0m\u001b[0;34m\u001b[0m\u001b[0;34m\u001b[0m\u001b[0m\n\u001b[1;32m    274\u001b[0m         \u001b[0;32mreturn\u001b[0m \u001b[0m_constant_eager_impl\u001b[0m\u001b[0;34m(\u001b[0m\u001b[0mctx\u001b[0m\u001b[0;34m,\u001b[0m \u001b[0mvalue\u001b[0m\u001b[0;34m,\u001b[0m \u001b[0mdtype\u001b[0m\u001b[0;34m,\u001b[0m \u001b[0mshape\u001b[0m\u001b[0;34m,\u001b[0m \u001b[0mverify_shape\u001b[0m\u001b[0;34m)\u001b[0m\u001b[0;34m\u001b[0m\u001b[0;34m\u001b[0m\u001b[0m\n\u001b[0;32m--> 275\u001b[0;31m     \u001b[0;32mreturn\u001b[0m \u001b[0m_constant_eager_impl\u001b[0m\u001b[0;34m(\u001b[0m\u001b[0mctx\u001b[0m\u001b[0;34m,\u001b[0m \u001b[0mvalue\u001b[0m\u001b[0;34m,\u001b[0m \u001b[0mdtype\u001b[0m\u001b[0;34m,\u001b[0m \u001b[0mshape\u001b[0m\u001b[0;34m,\u001b[0m \u001b[0mverify_shape\u001b[0m\u001b[0;34m)\u001b[0m\u001b[0;34m\u001b[0m\u001b[0;34m\u001b[0m\u001b[0m\n\u001b[0m\u001b[1;32m    276\u001b[0m \u001b[0;34m\u001b[0m\u001b[0m\n\u001b[1;32m    277\u001b[0m   \u001b[0mg\u001b[0m \u001b[0;34m=\u001b[0m \u001b[0mops\u001b[0m\u001b[0;34m.\u001b[0m\u001b[0mget_default_graph\u001b[0m\u001b[0;34m(\u001b[0m\u001b[0;34m)\u001b[0m\u001b[0;34m\u001b[0m\u001b[0;34m\u001b[0m\u001b[0m\n",
            "\u001b[0;32m/usr/local/lib/python3.6/dist-packages/tensorflow/python/framework/constant_op.py\u001b[0m in \u001b[0;36m_constant_eager_impl\u001b[0;34m(ctx, value, dtype, shape, verify_shape)\u001b[0m\n\u001b[1;32m    298\u001b[0m \u001b[0;32mdef\u001b[0m \u001b[0m_constant_eager_impl\u001b[0m\u001b[0;34m(\u001b[0m\u001b[0mctx\u001b[0m\u001b[0;34m,\u001b[0m \u001b[0mvalue\u001b[0m\u001b[0;34m,\u001b[0m \u001b[0mdtype\u001b[0m\u001b[0;34m,\u001b[0m \u001b[0mshape\u001b[0m\u001b[0;34m,\u001b[0m \u001b[0mverify_shape\u001b[0m\u001b[0;34m)\u001b[0m\u001b[0;34m:\u001b[0m\u001b[0;34m\u001b[0m\u001b[0;34m\u001b[0m\u001b[0m\n\u001b[1;32m    299\u001b[0m   \u001b[0;34m\"\"\"Implementation of eager constant.\"\"\"\u001b[0m\u001b[0;34m\u001b[0m\u001b[0;34m\u001b[0m\u001b[0m\n\u001b[0;32m--> 300\u001b[0;31m   \u001b[0mt\u001b[0m \u001b[0;34m=\u001b[0m \u001b[0mconvert_to_eager_tensor\u001b[0m\u001b[0;34m(\u001b[0m\u001b[0mvalue\u001b[0m\u001b[0;34m,\u001b[0m \u001b[0mctx\u001b[0m\u001b[0;34m,\u001b[0m \u001b[0mdtype\u001b[0m\u001b[0;34m)\u001b[0m\u001b[0;34m\u001b[0m\u001b[0;34m\u001b[0m\u001b[0m\n\u001b[0m\u001b[1;32m    301\u001b[0m   \u001b[0;32mif\u001b[0m \u001b[0mshape\u001b[0m \u001b[0;32mis\u001b[0m \u001b[0;32mNone\u001b[0m\u001b[0;34m:\u001b[0m\u001b[0;34m\u001b[0m\u001b[0;34m\u001b[0m\u001b[0m\n\u001b[1;32m    302\u001b[0m     \u001b[0;32mreturn\u001b[0m \u001b[0mt\u001b[0m\u001b[0;34m\u001b[0m\u001b[0;34m\u001b[0m\u001b[0m\n",
            "\u001b[0;32m/usr/local/lib/python3.6/dist-packages/tensorflow/python/framework/constant_op.py\u001b[0m in \u001b[0;36mconvert_to_eager_tensor\u001b[0;34m(value, ctx, dtype)\u001b[0m\n\u001b[1;32m     96\u001b[0m       \u001b[0mdtype\u001b[0m \u001b[0;34m=\u001b[0m \u001b[0mdtypes\u001b[0m\u001b[0;34m.\u001b[0m\u001b[0mas_dtype\u001b[0m\u001b[0;34m(\u001b[0m\u001b[0mdtype\u001b[0m\u001b[0;34m)\u001b[0m\u001b[0;34m.\u001b[0m\u001b[0mas_datatype_enum\u001b[0m\u001b[0;34m\u001b[0m\u001b[0;34m\u001b[0m\u001b[0m\n\u001b[1;32m     97\u001b[0m   \u001b[0mctx\u001b[0m\u001b[0;34m.\u001b[0m\u001b[0mensure_initialized\u001b[0m\u001b[0;34m(\u001b[0m\u001b[0;34m)\u001b[0m\u001b[0;34m\u001b[0m\u001b[0;34m\u001b[0m\u001b[0m\n\u001b[0;32m---> 98\u001b[0;31m   \u001b[0;32mreturn\u001b[0m \u001b[0mops\u001b[0m\u001b[0;34m.\u001b[0m\u001b[0mEagerTensor\u001b[0m\u001b[0;34m(\u001b[0m\u001b[0mvalue\u001b[0m\u001b[0;34m,\u001b[0m \u001b[0mctx\u001b[0m\u001b[0;34m.\u001b[0m\u001b[0mdevice_name\u001b[0m\u001b[0;34m,\u001b[0m \u001b[0mdtype\u001b[0m\u001b[0;34m)\u001b[0m\u001b[0;34m\u001b[0m\u001b[0;34m\u001b[0m\u001b[0m\n\u001b[0m\u001b[1;32m     99\u001b[0m \u001b[0;34m\u001b[0m\u001b[0m\n\u001b[1;32m    100\u001b[0m \u001b[0;34m\u001b[0m\u001b[0m\n",
            "\u001b[0;31mValueError\u001b[0m: Can't convert non-rectangular Python sequence to Tensor."
          ]
        }
      ],
      "source": [
        "# Try creating a dataset from the tensor x2\n",
        "\n",
        "dataset2 = tf.data.Dataset.from_tensor_slices(x2)"
      ]
    },
    {
      "cell_type": "code",
      "execution_count": null,
      "metadata": {
        "id": "sSib04SBhaFp"
      },
      "outputs": [],
      "source": [
        "x2 = [np.zeros((10,1)), np.zeros((10,1)), np.zeros((10,1))]"
      ]
    },
    {
      "cell_type": "code",
      "execution_count": null,
      "metadata": {
        "id": "ICxvC8UQhaFr"
      },
      "outputs": [],
      "source": [
        "# Create another dataset from the new x2 and inspect the Dataset object\n",
        "\n",
        "dataset2 = tf.data.Dataset.from_tensor_slices(x2)"
      ]
    },
    {
      "cell_type": "code",
      "execution_count": null,
      "metadata": {
        "colab": {
          "base_uri": "https://localhost:8080/"
        },
        "id": "8ZBAJa7chaFt",
        "outputId": "5fc827ad-d433-4baa-fdc3-0249c60de277"
      },
      "outputs": [
        {
          "name": "stdout",
          "output_type": "stream",
          "text": [
            "TensorSpec(shape=(10, 1), dtype=tf.float64, name=None)\n"
          ]
        }
      ],
      "source": [
        "# Print the element_spec\n",
        "\n",
        "print(dataset2.element_spec)"
      ]
    },
    {
      "cell_type": "markdown",
      "metadata": {
        "id": "T5_eojOchaFu"
      },
      "source": [
        "#### Create a zipped dataset"
      ]
    },
    {
      "cell_type": "code",
      "execution_count": null,
      "metadata": {
        "id": "oSu4cNAXhaFu"
      },
      "outputs": [],
      "source": [
        "# Combine the two datasets into one larger dataset\n",
        "\n",
        "dataset_zipped = tf.data.Dataset.zip((dataset1, dataset2))"
      ]
    },
    {
      "cell_type": "code",
      "execution_count": null,
      "metadata": {
        "colab": {
          "base_uri": "https://localhost:8080/"
        },
        "id": "YLIYKRWXhaFw",
        "outputId": "89ca2ba9-c035-4290-c0d3-b3c3e5979a72"
      },
      "outputs": [
        {
          "name": "stdout",
          "output_type": "stream",
          "text": [
            "(TensorSpec(shape=(10, 2, 2), dtype=tf.float64, name=None), TensorSpec(shape=(10, 1), dtype=tf.float64, name=None))\n"
          ]
        }
      ],
      "source": [
        "# Print the element_spec\n",
        "\n",
        "print(dataset_zipped.element_spec)"
      ]
    },
    {
      "cell_type": "code",
      "execution_count": null,
      "metadata": {
        "id": "a3CGxehQhaFy"
      },
      "outputs": [],
      "source": [
        "# Define a function to find the number of batches in a dataset\n",
        "\n",
        "def get_batches(dataset):\n",
        "    iter_dataset = iter(dataset)\n",
        "    i = 0\n",
        "    try:\n",
        "        while next(iter_dataset):\n",
        "            i = i+1\n",
        "    except:\n",
        "        return i"
      ]
    },
    {
      "cell_type": "code",
      "execution_count": null,
      "metadata": {
        "colab": {
          "base_uri": "https://localhost:8080/"
        },
        "id": "Tq-gZKADhaFz",
        "outputId": "d2e0abc5-bc14-4cbb-9ed7-1f89fa2115bb"
      },
      "outputs": [
        {
          "data": {
            "text/plain": [
              "3"
            ]
          },
          "execution_count": 117,
          "metadata": {
            "tags": []
          },
          "output_type": "execute_result"
        }
      ],
      "source": [
        "# Find the number of batches in the zipped Dataset\n",
        "\n",
        "get_batches(dataset_zipped)"
      ]
    },
    {
      "cell_type": "markdown",
      "metadata": {
        "id": "SBmSO5lJhaF1"
      },
      "source": [
        "#### Create a dataset from numpy arrays"
      ]
    },
    {
      "cell_type": "code",
      "execution_count": null,
      "metadata": {
        "colab": {
          "base_uri": "https://localhost:8080/"
        },
        "id": "KOSpfv_WhaF1",
        "outputId": "253f8f3e-cac0-4eeb-d1ef-3b5318ca901a"
      },
      "outputs": [
        {
          "name": "stdout",
          "output_type": "stream",
          "text": [
            "(TensorSpec(shape=(32, 32, 3), dtype=tf.uint8, name=None), TensorSpec(shape=(1,), dtype=tf.uint8, name=None))\n"
          ]
        }
      ],
      "source": [
        "from tensorflow.keras.datasets import cifar10\n",
        "\n",
        "(x_train, y_train), (x_test, y_test) = cifar10.load_data()\n",
        "\n",
        "dataset = tf.data.Dataset.from_tensor_slices((x_train, y_train))\n",
        "\n",
        "print(dataset.element_spec)"
      ]
    },
    {
      "cell_type": "code",
      "execution_count": null,
      "metadata": {
        "colab": {
          "base_uri": "https://localhost:8080/"
        },
        "id": "U5QbOUgwhaF3",
        "outputId": "7cabb1b1-6e36-4b6f-886d-94b5d8d0b7b7",
        "scrolled": true,
        "tags": []
      },
      "outputs": [
        {
          "name": "stdout",
          "output_type": "stream",
          "text": [
            "(TensorSpec(shape=(32, 32, 32, 3), dtype=tf.float32, name=None), TensorSpec(shape=(32, 1), dtype=tf.int32, name=None))\n",
            "(<tf.Tensor: shape=(32, 32, 32, 3), dtype=float32, numpy=\n",
            "array([[[[0.6313726 , 0.61960787, 0.69411767],\n",
            "         [0.6313726 , 0.61960787, 0.69411767],\n",
            "         [0.6208105 , 0.6069334 , 0.6835556 ],\n",
            "         ...,\n",
            "         [0.7272994 , 0.7176471 , 0.75867194],\n",
            "         [0.72971505, 0.7197595 , 0.7589752 ],\n",
            "         [0.7354458 , 0.7236811 , 0.76500916]],\n",
            "\n",
            "        [[0.6       , 0.58431375, 0.6666667 ],\n",
            "         [0.6       , 0.58431375, 0.6666667 ],\n",
            "         [0.5809883 , 0.565302  , 0.64765495],\n",
            "         ...,\n",
            "         [0.69652295, 0.669072  , 0.71794   ],\n",
            "         [0.65941966, 0.6340811 , 0.6874772 ],\n",
            "         [0.672711  , 0.65129405, 0.71856725]],\n",
            "\n",
            "        [[0.60784316, 0.58431375, 0.6745098 ],\n",
            "         [0.60784316, 0.58431375, 0.6745098 ],\n",
            "         [0.58249426, 0.55896485, 0.6491609 ],\n",
            "         ...,\n",
            "         [0.7840105 , 0.7390641 , 0.7794824 ],\n",
            "         [0.7085702 , 0.67177016, 0.7158172 ],\n",
            "         [0.6512837 , 0.624136  , 0.6959372 ]],\n",
            "\n",
            "        ...,\n",
            "\n",
            "        [[0.3372549 , 0.31764707, 0.34117648],\n",
            "         [0.3372549 , 0.31764707, 0.34117648],\n",
            "         [0.34359217, 0.32398432, 0.34962615],\n",
            "         ...,\n",
            "         [0.33574903, 0.3004549 , 0.32971504],\n",
            "         [0.33906406, 0.29954514, 0.32699612],\n",
            "         [0.34359217, 0.2983425 , 0.32579347]],\n",
            "\n",
            "        [[0.30588236, 0.28627452, 0.31764707],\n",
            "         [0.30588236, 0.28627452, 0.31764707],\n",
            "         [0.32066923, 0.29894897, 0.33243394],\n",
            "         ...,\n",
            "         [0.34359217, 0.3004549 , 0.33182746],\n",
            "         [0.33634517, 0.2953203 , 0.32458046],\n",
            "         [0.3212654 , 0.2820497 , 0.30738828]],\n",
            "\n",
            "        [[0.28235295, 0.26666668, 0.29803923],\n",
            "         [0.28235295, 0.26666668, 0.29803923],\n",
            "         [0.29713982, 0.27934113, 0.3128261 ],\n",
            "         ...,\n",
            "         [0.33424312, 0.2968366 , 0.32639998],\n",
            "         [0.34298563, 0.30588236, 0.3330301 ],\n",
            "         [0.34962615, 0.31644446, 0.33786145]]],\n",
            "\n",
            "\n",
            "       [[[0.48627454, 0.7411765 , 0.98823535],\n",
            "         [0.48627454, 0.7411765 , 0.98823535],\n",
            "         [0.4823777 , 0.74897015, 0.98823535],\n",
            "         ...,\n",
            "         [0.60752165, 0.7449497 , 0.9488218 ],\n",
            "         [0.63512105, 0.7645822 , 0.96071017],\n",
            "         [0.63529414, 0.76080906, 0.945197  ]],\n",
            "\n",
            "        [[0.5019608 , 0.75294125, 0.9921569 ],\n",
            "         [0.5019608 , 0.75294125, 0.9921569 ],\n",
            "         [0.5019608 , 0.76073486, 0.99605376],\n",
            "         ...,\n",
            "         [0.60357535, 0.7449497 , 0.9527928 ],\n",
            "         [0.63899314, 0.77237594, 0.96852857],\n",
            "         [0.61973155, 0.74916804, 0.9413496 ]],\n",
            "\n",
            "        [[0.5137255 , 0.76470596, 0.9921569 ],\n",
            "         [0.5137255 , 0.76470596, 0.9921569 ],\n",
            "         [0.5137255 , 0.77249956, 0.99605376],\n",
            "         ...,\n",
            "         [0.58421487, 0.7412507 , 0.945197  ],\n",
            "         [0.5765201 , 0.729486  , 0.9295107 ],\n",
            "         [0.5764706 , 0.7177213 , 0.91382444]],\n",
            "\n",
            "        ...,\n",
            "\n",
            "        [[0.13333334, 0.3921569 , 0.6156863 ],\n",
            "         [0.13333334, 0.3921569 , 0.6156863 ],\n",
            "         [0.12943651, 0.39995056, 0.6312737 ],\n",
            "         ...,\n",
            "         [0.08232821, 0.4156863 , 0.6313479 ],\n",
            "         [0.08235294, 0.41178948, 0.6196821 ],\n",
            "         [0.09014662, 0.41176474, 0.60791737]],\n",
            "\n",
            "        [[0.13333334, 0.40000004, 0.62352943],\n",
            "         [0.13333334, 0.40000004, 0.62352943],\n",
            "         [0.117746  , 0.41169053, 0.6391168 ],\n",
            "         ...,\n",
            "         [0.08230348, 0.42347997, 0.63524467],\n",
            "         [0.08235294, 0.41183892, 0.62360364],\n",
            "         [0.08235294, 0.4078679 , 0.6040453 ]],\n",
            "\n",
            "        [[0.09803922, 0.38431376, 0.6039216 ],\n",
            "         [0.09803922, 0.38431376, 0.6039216 ],\n",
            "         [0.08634871, 0.3999011 , 0.619509  ],\n",
            "         ...,\n",
            "         [0.06272037, 0.40000004, 0.6117647 ],\n",
            "         [0.05884827, 0.3961032 , 0.60007423],\n",
            "         [0.07051404, 0.39607847, 0.5961032 ]]],\n",
            "\n",
            "\n",
            "       [[[0.8941177 , 0.8745099 , 0.8117648 ],\n",
            "         [0.894912  , 0.872127  , 0.80938184],\n",
            "         [0.88691926, 0.85480225, 0.80397147],\n",
            "         ...,\n",
            "         [0.47520438, 0.38813558, 0.3755766 ],\n",
            "         [0.40416735, 0.3346227 , 0.31893644],\n",
            "         [0.24085413, 0.2510303 , 0.240904  ]],\n",
            "\n",
            "        [[0.86666673, 0.8313726 , 0.8745099 ],\n",
            "         [0.87063813, 0.8321669 , 0.86894983],\n",
            "         [0.87833166, 0.83291125, 0.84308743],\n",
            "         ...,\n",
            "         [0.40307745, 0.2838418 , 0.27282152],\n",
            "         [0.36683944, 0.26358926, 0.237677  ],\n",
            "         [0.29645067, 0.2807644 , 0.25182456]],\n",
            "\n",
            "        [[0.89019614, 0.85098046, 0.8313726 ],\n",
            "         [0.89337325, 0.8493919 , 0.82660687],\n",
            "         [0.9066767 , 0.847903  , 0.8134032 ],\n",
            "         ...,\n",
            "         [0.4439814 , 0.3427152 , 0.3246461 ],\n",
            "         [0.43891653, 0.32618475, 0.30032235],\n",
            "         [0.3371552 , 0.29565638, 0.28081423]],\n",
            "\n",
            "        ...,\n",
            "\n",
            "        [[0.9960785 , 0.9960785 , 0.9960785 ],\n",
            "         [0.9921071 , 0.9921071 , 0.9921071 ],\n",
            "         [0.97726494, 0.97726494, 0.97726494],\n",
            "         ...,\n",
            "         [0.2477534 , 0.22735126, 0.26656696],\n",
            "         [0.21643071, 0.1929013 , 0.23211698],\n",
            "         [0.20789301, 0.18118645, 0.21801928]],\n",
            "\n",
            "        [[1.        , 1.        , 1.        ],\n",
            "         [0.9952344 , 0.9952344 , 0.9952344 ],\n",
            "         [0.9788535 , 0.9788535 , 0.9788535 ],\n",
            "         ...,\n",
            "         [0.40848786, 0.40138915, 0.4217913 ],\n",
            "         [0.3599402 , 0.33953807, 0.36306748],\n",
            "         [0.33243933, 0.30732134, 0.33085075]],\n",
            "\n",
            "        [[0.97647065, 0.97647065, 0.97647065],\n",
            "         [0.97170496, 0.97170496, 0.97170496],\n",
            "         [0.9577069 , 0.9577069 , 0.9577069 ],\n",
            "         ...,\n",
            "         [0.36306748, 0.35750747, 0.35909602],\n",
            "         [0.3356165 , 0.3073712 , 0.31521434],\n",
            "         [0.30419406, 0.27202722, 0.28225324]]],\n",
            "\n",
            "\n",
            "       ...,\n",
            "\n",
            "\n",
            "       [[[0.26569974, 0.12720926, 0.12720926],\n",
            "         [0.2998926 , 0.13223207, 0.1378727 ],\n",
            "         [0.3239055 , 0.13897397, 0.1468171 ],\n",
            "         ...,\n",
            "         [0.13333334, 0.09019608, 0.09019608],\n",
            "         [0.13333334, 0.09019608, 0.09019608],\n",
            "         [0.13333334, 0.09019608, 0.09019608]],\n",
            "\n",
            "        [[0.27464417, 0.12941177, 0.1283105 ],\n",
            "         [0.30209514, 0.1350524 , 0.1378727 ],\n",
            "         [0.3239055 , 0.1400752 , 0.1468171 ],\n",
            "         ...,\n",
            "         [0.0509804 , 0.03921569, 0.03529412],\n",
            "         [0.0509804 , 0.03921569, 0.03529412],\n",
            "         [0.0509804 , 0.03921569, 0.03529412]],\n",
            "\n",
            "        [[0.27856573, 0.13333334, 0.13223207],\n",
            "         [0.3060167 , 0.13897397, 0.14179426],\n",
            "         [0.3334677 , 0.1468171 , 0.15073867],\n",
            "         ...,\n",
            "         [0.03137255, 0.03137255, 0.03137255],\n",
            "         [0.03137255, 0.03137255, 0.03137255],\n",
            "         [0.03137255, 0.03137255, 0.03137255]],\n",
            "\n",
            "        ...,\n",
            "\n",
            "        [[0.7732473 , 0.6199032 , 0.5553047 ],\n",
            "         [0.6897931 , 0.47101787, 0.38522682],\n",
            "         [0.5256512 , 0.31856015, 0.236825  ],\n",
            "         ...,\n",
            "         [0.62352943, 0.6666667 , 0.39607847],\n",
            "         [0.62352943, 0.6666667 , 0.39607847],\n",
            "         [0.62352943, 0.6666667 , 0.39607847]],\n",
            "\n",
            "        [[0.7109857 , 0.5375502 , 0.4622883 ],\n",
            "         [0.6174858 , 0.39430556, 0.30803105],\n",
            "         [0.4793445 , 0.27789408, 0.20572111],\n",
            "         ...,\n",
            "         [0.5686275 , 0.48627454, 0.3803922 ],\n",
            "         [0.5686275 , 0.48627454, 0.3803922 ],\n",
            "         [0.5686275 , 0.48627454, 0.3803922 ]],\n",
            "\n",
            "        [[0.79188824, 0.6964007 , 0.62898195],\n",
            "         [0.6551973 , 0.4805262 , 0.3936339 ],\n",
            "         [0.5542573 , 0.3373354 , 0.25560027],\n",
            "         ...,\n",
            "         [0.37647063, 0.26666668, 0.2392157 ],\n",
            "         [0.37647063, 0.26666668, 0.2392157 ],\n",
            "         [0.37647063, 0.26666668, 0.2392157 ]]],\n",
            "\n",
            "\n",
            "       [[[0.4666667 , 0.4784314 , 0.5176471 ],\n",
            "         [0.4666667 , 0.4784314 , 0.5176471 ],\n",
            "         [0.4666667 , 0.4784314 , 0.5176471 ],\n",
            "         ...,\n",
            "         [0.5433135 , 0.6069775 , 0.66251   ],\n",
            "         [0.44139552, 0.5159053 , 0.5495539 ],\n",
            "         [0.588759  , 0.6490358 , 0.7049529 ]],\n",
            "\n",
            "        [[0.40784317, 0.42352945, 0.44705886],\n",
            "         [0.40784317, 0.42352945, 0.44705886],\n",
            "         [0.40784317, 0.42352945, 0.44705886],\n",
            "         ...,\n",
            "         [0.5353742 , 0.5707645 , 0.6192765 ],\n",
            "         [0.46366408, 0.5115457 , 0.5507614 ],\n",
            "         [0.6287013 , 0.6678209 , 0.7307583 ]],\n",
            "\n",
            "        [[0.3529412 , 0.36862746, 0.3803922 ],\n",
            "         [0.3529412 , 0.36862746, 0.3803922 ],\n",
            "         [0.3529412 , 0.36862746, 0.3803922 ],\n",
            "         ...,\n",
            "         [0.5234171 , 0.5329058 , 0.57512414],\n",
            "         [0.47179577, 0.49697074, 0.54020417],\n",
            "         [0.6529574 , 0.6748412 , 0.744799  ]],\n",
            "\n",
            "        ...,\n",
            "\n",
            "        [[0.95294124, 1.        , 0.98823535],\n",
            "         [0.95294124, 1.        , 0.98823535],\n",
            "         [0.95294124, 1.        , 0.98823535],\n",
            "         ...,\n",
            "         [0.31086192, 0.5026769 , 0.40570617],\n",
            "         [0.4743603 , 0.7326496 , 0.519485  ],\n",
            "         [0.5207459 , 0.8062938 , 0.5198269 ]],\n",
            "\n",
            "        [[1.        , 1.        , 1.        ],\n",
            "         [1.        , 1.        , 1.        ],\n",
            "         [1.        , 1.        , 1.        ],\n",
            "         ...,\n",
            "         [0.31212276, 0.5235456 , 0.43214202],\n",
            "         [0.4484587 , 0.7216115 , 0.5510499 ],\n",
            "         [0.5122723 , 0.809585  , 0.5811188 ]],\n",
            "\n",
            "        [[1.        , 1.        , 1.        ],\n",
            "         [1.        , 1.        , 1.        ],\n",
            "         [1.        , 1.        , 1.        ],\n",
            "         ...,\n",
            "         [0.2892238 , 0.47164625, 0.39283013],\n",
            "         [0.38944283, 0.65174985, 0.50399107],\n",
            "         [0.45436776, 0.7564247 , 0.5435487 ]]],\n",
            "\n",
            "\n",
            "       [[[0.890099  , 0.8972273 , 0.8619332 ],\n",
            "         [0.809523  , 0.80676055, 0.77378464],\n",
            "         [0.7896858 , 0.7908449 , 0.7703486 ],\n",
            "         ...,\n",
            "         [0.7411765 , 0.77647066, 0.64705884],\n",
            "         [0.7411765 , 0.77647066, 0.64705884],\n",
            "         [0.7411765 , 0.77647066, 0.64705884]],\n",
            "\n",
            "        [[0.8080932 , 0.82814527, 0.73242426],\n",
            "         [0.7360194 , 0.746625  , 0.66917914],\n",
            "         [0.85420775, 0.8620509 , 0.8277424 ],\n",
            "         ...,\n",
            "         [0.627451  , 0.6666667 , 0.46274513],\n",
            "         [0.627451  , 0.6666667 , 0.46274513],\n",
            "         [0.627451  , 0.6666667 , 0.46274513]],\n",
            "\n",
            "        [[0.76594144, 0.7938367 , 0.6552491 ],\n",
            "         [0.75207347, 0.76936305, 0.67650163],\n",
            "         [0.9099011 , 0.9228249 , 0.89243793],\n",
            "         ...,\n",
            "         [0.5411765 , 0.5647059 , 0.3254902 ],\n",
            "         [0.5411765 , 0.5647059 , 0.3254902 ],\n",
            "         [0.5411765 , 0.5647059 , 0.3254902 ]],\n",
            "\n",
            "        ...,\n",
            "\n",
            "        [[0.18520218, 0.24955063, 0.04794727],\n",
            "         [0.17790037, 0.23092833, 0.03832724],\n",
            "         [0.20000002, 0.24153394, 0.05490196],\n",
            "         ...,\n",
            "         [0.49411768, 0.4784314 , 0.43921572],\n",
            "         [0.49411768, 0.4784314 , 0.43921572],\n",
            "         [0.49411768, 0.4784314 , 0.43921572]],\n",
            "\n",
            "        [[0.18591708, 0.25374284, 0.0466146 ],\n",
            "         [0.17923306, 0.24518484, 0.05722019],\n",
            "         [0.17878883, 0.23137257, 0.06390422],\n",
            "         ...,\n",
            "         [0.30588236, 0.28235295, 0.21960786],\n",
            "         [0.30588236, 0.28235295, 0.21960786],\n",
            "         [0.30588236, 0.28235295, 0.21960786]],\n",
            "\n",
            "        [[0.1684539 , 0.23396146, 0.04251948],\n",
            "         [0.19144198, 0.25302795, 0.07495403],\n",
            "         [0.18155128, 0.23573835, 0.06550755],\n",
            "         ...,\n",
            "         [0.5137255 , 0.4784314 , 0.41176474],\n",
            "         [0.5137255 , 0.4784314 , 0.41176474],\n",
            "         [0.5137255 , 0.4784314 , 0.41176474]]]], dtype=float32)>, <tf.Tensor: shape=(32, 1), dtype=int32, numpy=\n",
            "array([[4],\n",
            "       [8],\n",
            "       [9],\n",
            "       [7],\n",
            "       [0],\n",
            "       [1],\n",
            "       [4],\n",
            "       [6],\n",
            "       [6],\n",
            "       [2],\n",
            "       [2],\n",
            "       [8],\n",
            "       [0],\n",
            "       [7],\n",
            "       [0],\n",
            "       [9],\n",
            "       [5],\n",
            "       [1],\n",
            "       [8],\n",
            "       [5],\n",
            "       [1],\n",
            "       [9],\n",
            "       [5],\n",
            "       [0],\n",
            "       [4],\n",
            "       [0],\n",
            "       [7],\n",
            "       [3],\n",
            "       [8],\n",
            "       [2],\n",
            "       [2],\n",
            "       [6]], dtype=int32)>)\n",
            "(<tf.Tensor: shape=(32, 32, 32, 3), dtype=float32, numpy=\n",
            "array([[[[1.        , 1.        , 0.98572314],\n",
            "         [1.        , 0.9983916 , 0.9748622 ],\n",
            "         [1.        , 0.99447006, 0.975766  ],\n",
            "         ...,\n",
            "         [1.        , 1.        , 1.        ],\n",
            "         [1.        , 1.        , 1.        ],\n",
            "         [1.        , 1.        , 1.        ]],\n",
            "\n",
            "        [[1.        , 1.        , 0.99517477],\n",
            "         [1.        , 1.        , 0.9866269 ],\n",
            "         [0.9983916 , 0.99678314, 0.9730547 ],\n",
            "         ...,\n",
            "         [1.        , 1.        , 1.        ],\n",
            "         [1.        , 1.        , 1.        ],\n",
            "         [1.        , 1.        , 1.        ]],\n",
            "\n",
            "        [[1.        , 1.        , 1.        ],\n",
            "         [1.        , 1.        , 0.99678314],\n",
            "         [0.9823072 , 0.98069876, 0.9503374 ],\n",
            "         ...,\n",
            "         [1.        , 1.        , 1.        ],\n",
            "         [1.        , 1.        , 1.        ],\n",
            "         [1.        , 1.        , 1.        ]],\n",
            "\n",
            "        ...,\n",
            "\n",
            "        [[1.        , 1.        , 1.        ],\n",
            "         [1.        , 1.        , 1.        ],\n",
            "         [0.99517477, 0.99517477, 0.99678314],\n",
            "         ...,\n",
            "         [1.        , 1.        , 1.        ],\n",
            "         [1.        , 1.        , 1.        ],\n",
            "         [1.        , 1.        , 1.        ]],\n",
            "\n",
            "        [[1.        , 1.        , 1.        ],\n",
            "         [1.        , 1.        , 1.        ],\n",
            "         [0.99517477, 0.99517477, 0.99517477],\n",
            "         ...,\n",
            "         [1.        , 1.        , 1.        ],\n",
            "         [1.        , 1.        , 1.        ],\n",
            "         [1.        , 1.        , 1.        ]],\n",
            "\n",
            "        [[1.        , 1.        , 1.        ],\n",
            "         [1.        , 1.        , 1.        ],\n",
            "         [0.99678314, 0.99678314, 0.99678314],\n",
            "         ...,\n",
            "         [1.        , 1.        , 1.        ],\n",
            "         [1.        , 1.        , 1.        ],\n",
            "         [1.        , 1.        , 1.        ]]],\n",
            "\n",
            "\n",
            "       [[[0.4678988 , 0.22806704, 0.16444187],\n",
            "         [0.3133242 , 0.12394481, 0.11103602],\n",
            "         [0.30980393, 0.11773507, 0.10213681],\n",
            "         ...,\n",
            "         [0.76470596, 0.6313726 , 0.6862745 ],\n",
            "         [0.76470596, 0.6313726 , 0.6862745 ],\n",
            "         [0.76470596, 0.6313726 , 0.6862745 ]],\n",
            "\n",
            "        [[0.4972472 , 0.30848384, 0.31161335],\n",
            "         [0.38303238, 0.23696625, 0.283057  ],\n",
            "         [0.33438945, 0.17779069, 0.22484952],\n",
            "         ...,\n",
            "         [0.7058824 , 0.5803922 , 0.627451  ],\n",
            "         [0.7058824 , 0.5803922 , 0.627451  ],\n",
            "         [0.7058824 , 0.5803922 , 0.627451  ]],\n",
            "\n",
            "        [[0.49624038, 0.39392757, 0.47967404],\n",
            "         [0.6936389 , 0.63001376, 0.74695677],\n",
            "         [0.5753653 , 0.504953  , 0.63026726],\n",
            "         ...,\n",
            "         [0.6431373 , 0.5254902 , 0.5803922 ],\n",
            "         [0.6431373 , 0.5254902 , 0.5803922 ],\n",
            "         [0.6431373 , 0.5254902 , 0.5803922 ]],\n",
            "\n",
            "        ...,\n",
            "\n",
            "        [[0.5872673 , 0.46177706, 0.544306  ],\n",
            "         [0.62273735, 0.4972472 , 0.5680995 ],\n",
            "         [0.6426972 , 0.54020846, 0.599296  ],\n",
            "         ...,\n",
            "         [0.5803922 , 0.4784314 , 0.58431375],\n",
            "         [0.5803922 , 0.4784314 , 0.58431375],\n",
            "         [0.5803922 , 0.4784314 , 0.58431375]],\n",
            "\n",
            "        [[0.5913648 , 0.46195307, 0.5640899 ],\n",
            "         [0.6266589 , 0.50108075, 0.5915409 ],\n",
            "         [0.63128453, 0.5211286 , 0.60749114],\n",
            "         ...,\n",
            "         [0.6       , 0.5019608 , 0.6039216 ],\n",
            "         [0.6       , 0.5019608 , 0.6039216 ],\n",
            "         [0.6       , 0.5019608 , 0.6039216 ]],\n",
            "\n",
            "        [[0.57942414, 0.45010033, 0.55999225],\n",
            "         [0.6033936 , 0.4739818 , 0.57228506],\n",
            "         [0.63075656, 0.51667905, 0.6070511 ],\n",
            "         ...,\n",
            "         [0.60784316, 0.5137255 , 0.6117647 ],\n",
            "         [0.60784316, 0.5137255 , 0.6117647 ],\n",
            "         [0.60784316, 0.5137255 , 0.6117647 ]]],\n",
            "\n",
            "\n",
            "       [[[0.90196085, 0.91372555, 0.8980393 ],\n",
            "         [0.93727535, 0.94904006, 0.9333538 ],\n",
            "         [0.9486092 , 0.9568424 , 0.94115615],\n",
            "         ...,\n",
            "         [0.48489895, 0.4927421 , 0.4784314 ],\n",
            "         [0.3777851 , 0.38562822, 0.38131654],\n",
            "         [0.20193022, 0.20800763, 0.2133048 ]],\n",
            "\n",
            "        [[0.77647066, 0.78823537, 0.7686275 ],\n",
            "         [0.81178516, 0.8253156 , 0.8004105 ],\n",
            "         [0.79839885, 0.8105536 , 0.7809468 ],\n",
            "         ...,\n",
            "         [0.4051327 , 0.41297585, 0.3986652 ],\n",
            "         [0.346002  , 0.35384515, 0.34776774],\n",
            "         [0.15782785, 0.16390526, 0.16528088]],\n",
            "\n",
            "        [[0.7725491 , 0.78823537, 0.76470596],\n",
            "         [0.7884406 , 0.8058926 , 0.77706605],\n",
            "         [0.7071969 , 0.7215075 , 0.6879791 ],\n",
            "         ...,\n",
            "         [0.35078534, 0.35862848, 0.34647366],\n",
            "         [0.26995212, 0.27779526, 0.27171785],\n",
            "         [0.14390731, 0.14998472, 0.15312606]],\n",
            "\n",
            "        ...,\n",
            "\n",
            "        [[0.37254903, 0.3647059 , 0.34901962],\n",
            "         [0.23305675, 0.22874507, 0.21482453],\n",
            "         [0.03802495, 0.03625923, 0.02802597],\n",
            "         ...,\n",
            "         [0.41412583, 0.38628474, 0.33746016],\n",
            "         [0.47551572, 0.45904917, 0.40453732],\n",
            "         [0.56296057, 0.55688316, 0.49805963]],\n",
            "\n",
            "        [[0.00784314, 0.        , 0.        ],\n",
            "         [0.02550039, 0.01942298, 0.01589153],\n",
            "         [0.0452931 , 0.03960581, 0.03176267],\n",
            "         ...,\n",
            "         [0.51039934, 0.48824552, 0.41373572],\n",
            "         [0.5413818 , 0.5309927 , 0.4529514 ],\n",
            "         [0.60316175, 0.6010059 , 0.518653  ]],\n",
            "\n",
            "        [[0.10588236, 0.08627451, 0.07450981],\n",
            "         [0.11117954, 0.0915717 , 0.07980698],\n",
            "         [0.11058417, 0.09097633, 0.07568017],\n",
            "         ...,\n",
            "         [0.48547393, 0.46724167, 0.37920144],\n",
            "         [0.45980904, 0.4515758 , 0.36137968],\n",
            "         [0.5306229 , 0.52846706, 0.43650526]]],\n",
            "\n",
            "\n",
            "       ...,\n",
            "\n",
            "\n",
            "       [[[0.2784314 , 0.31764707, 0.43137258],\n",
            "         [0.2784314 , 0.31764707, 0.43137258],\n",
            "         [0.2784314 , 0.31764707, 0.43137258],\n",
            "         ...,\n",
            "         [0.2687232 , 0.31962928, 0.4405645 ],\n",
            "         [0.4398882 , 0.5225774 , 0.7475261 ],\n",
            "         [0.4336129 , 0.51671267, 0.7285517 ]],\n",
            "\n",
            "        [[0.15686275, 0.15294118, 0.1764706 ],\n",
            "         [0.15686275, 0.15294118, 0.1764706 ],\n",
            "         [0.15686275, 0.15294118, 0.1764706 ],\n",
            "         ...,\n",
            "         [0.18842296, 0.21262485, 0.29848883],\n",
            "         [0.2509804 , 0.2859383 , 0.38614354],\n",
            "         [0.22543354, 0.24578817, 0.32321084]],\n",
            "\n",
            "        [[0.13333334, 0.16078432, 0.16862746],\n",
            "         [0.13333334, 0.16078432, 0.16862746],\n",
            "         [0.13333334, 0.16078432, 0.16862746],\n",
            "         ...,\n",
            "         [0.12474342, 0.14901961, 0.20358533],\n",
            "         [0.14151272, 0.15469669, 0.19465917],\n",
            "         [0.14618108, 0.16328661, 0.19499542]],\n",
            "\n",
            "        ...,\n",
            "\n",
            "        [[0.2509804 , 0.29803923, 0.21176472],\n",
            "         [0.2509804 , 0.29803923, 0.21176472],\n",
            "         [0.2509804 , 0.29803923, 0.21176472],\n",
            "         ...,\n",
            "         [0.24739508, 0.2944539 , 0.2081794 ],\n",
            "         [0.25490198, 0.3019608 , 0.21426702],\n",
            "         [0.25632125, 0.30338007, 0.213184  ]],\n",
            "\n",
            "        [[0.2392157 , 0.2901961 , 0.20392159],\n",
            "         [0.2392157 , 0.2901961 , 0.20392159],\n",
            "         [0.2392157 , 0.2901961 , 0.20392159],\n",
            "         ...,\n",
            "         [0.24739508, 0.29837546, 0.21210097],\n",
            "         [0.25490198, 0.3044631 , 0.21818858],\n",
            "         [0.25206342, 0.30054152, 0.21426702]],\n",
            "\n",
            "        [[0.3019608 , 0.34901962, 0.27058825],\n",
            "         [0.3019608 , 0.34901962, 0.27058825],\n",
            "         [0.3019608 , 0.34901962, 0.27058825],\n",
            "         ...,\n",
            "         [0.2784314 , 0.3162278 , 0.23671341],\n",
            "         [0.2741736 , 0.31088695, 0.23495789],\n",
            "         [0.2652474 , 0.3044631 , 0.227451  ]]],\n",
            "\n",
            "\n",
            "       [[[0.14534025, 0.1481161 , 0.14672817],\n",
            "         [0.1654325 , 0.1774394 , 0.17351784],\n",
            "         [0.17851985, 0.19673976, 0.1928182 ],\n",
            "         ...,\n",
            "         [0.10980393, 0.10980393, 0.10980393],\n",
            "         [0.10980393, 0.10980393, 0.10980393],\n",
            "         [0.10980393, 0.10980393, 0.10980393]],\n",
            "\n",
            "        [[0.14534025, 0.15203767, 0.15064976],\n",
            "         [0.1654325 , 0.17858513, 0.17466356],\n",
            "         [0.18407154, 0.19975781, 0.19583625],\n",
            "         ...,\n",
            "         [0.10980393, 0.10980393, 0.10980393],\n",
            "         [0.10980393, 0.10980393, 0.10980393],\n",
            "         [0.10980393, 0.10980393, 0.10980393]],\n",
            "\n",
            "        [[0.13888504, 0.15457132, 0.15064976],\n",
            "         [0.16151093, 0.1771972 , 0.17327563],\n",
            "         [0.18570165, 0.20138793, 0.19746636],\n",
            "         ...,\n",
            "         [0.10980393, 0.10980393, 0.10980393],\n",
            "         [0.10980393, 0.10980393, 0.10980393],\n",
            "         [0.10980393, 0.10980393, 0.10980393]],\n",
            "\n",
            "        ...,\n",
            "\n",
            "        [[0.31650135, 0.3307997 , 0.32663593],\n",
            "         [0.31601697, 0.3291696 , 0.31324112],\n",
            "         [0.29755485, 0.3118532 , 0.2897117 ],\n",
            "         ...,\n",
            "         [0.24313727, 0.24705884, 0.24705884],\n",
            "         [0.24313727, 0.24705884, 0.24705884],\n",
            "         [0.24313727, 0.24705884, 0.24705884]],\n",
            "\n",
            "        [[0.31119186, 0.3257324 , 0.3201807 ],\n",
            "         [0.31233758, 0.33194542, 0.31348333],\n",
            "         [0.308416  , 0.32663593, 0.30310652],\n",
            "         ...,\n",
            "         [0.20392159, 0.20392159, 0.20392159],\n",
            "         [0.20392159, 0.20392159, 0.20392159],\n",
            "         [0.20392159, 0.20392159, 0.20392159]],\n",
            "\n",
            "        [[0.3086582 , 0.3257324 , 0.31764707],\n",
            "         [0.31650135, 0.33749712, 0.31764707],\n",
            "         [0.32295656, 0.34371012, 0.31764707],\n",
            "         ...,\n",
            "         [0.15686275, 0.15686275, 0.15686275],\n",
            "         [0.15686275, 0.15686275, 0.15686275],\n",
            "         [0.15686275, 0.15686275, 0.15686275]]],\n",
            "\n",
            "\n",
            "       [[[0.7372549 , 0.82745105, 0.8352942 ],\n",
            "         [0.7372549 , 0.82745105, 0.8352942 ],\n",
            "         [0.7372549 , 0.82745105, 0.8352942 ],\n",
            "         ...,\n",
            "         [0.9110979 , 0.89712346, 0.9036727 ],\n",
            "         [0.69139147, 0.5891325 , 0.5991454 ],\n",
            "         [0.6975015 , 0.6381402 , 0.63163084]],\n",
            "\n",
            "        [[0.86274517, 0.96470594, 0.9843138 ],\n",
            "         [0.86274517, 0.96470594, 0.9843138 ],\n",
            "         [0.86274517, 0.96470594, 0.9843138 ],\n",
            "         ...,\n",
            "         [0.9433463 , 0.93416935, 0.9398427 ],\n",
            "         [0.73190105, 0.63051796, 0.64357656],\n",
            "         [0.67363393, 0.61427265, 0.6086392 ]],\n",
            "\n",
            "        [[0.7843138 , 0.86666673, 0.8980393 ],\n",
            "         [0.7843138 , 0.86666673, 0.8980393 ],\n",
            "         [0.7843138 , 0.86666673, 0.8980393 ],\n",
            "         ...,\n",
            "         [0.97864044, 0.97905844, 0.98385584],\n",
            "         [0.79156053, 0.6980206 , 0.7110792 ],\n",
            "         [0.5666973 , 0.5090878 , 0.5034544 ]],\n",
            "\n",
            "        ...,\n",
            "\n",
            "        [[0.4666667 , 0.5372549 , 0.54509807],\n",
            "         [0.4666667 , 0.5372549 , 0.54509807],\n",
            "         [0.4666667 , 0.5372549 , 0.54509807],\n",
            "         ...,\n",
            "         [0.35686275, 0.3494376 , 0.31631327],\n",
            "         [0.3416344 , 0.34380418, 0.31852296],\n",
            "         [0.3311636 , 0.3381308 , 0.31155574]],\n",
            "\n",
            "        [[0.47058827, 0.5411765 , 0.54901963],\n",
            "         [0.47058827, 0.5411765 , 0.54901963],\n",
            "         [0.47058827, 0.5411765 , 0.54901963],\n",
            "         ...,\n",
            "         [0.36078432, 0.35206532, 0.3267841 ],\n",
            "         [0.35773864, 0.3559869 , 0.33245748],\n",
            "         [0.3629541 , 0.3629541 , 0.34247038]],\n",
            "\n",
            "        [[0.46274513, 0.5294118 , 0.5372549 ],\n",
            "         [0.46274513, 0.5294118 , 0.5372549 ],\n",
            "         [0.46274513, 0.5294118 , 0.5372549 ],\n",
            "         ...,\n",
            "         [0.35511097, 0.34726784, 0.3267841 ],\n",
            "         [0.3720911 , 0.36424798, 0.34464014],\n",
            "         [0.391699  , 0.38385585, 0.36424798]]]], dtype=float32)>, <tf.Tensor: shape=(32, 1), dtype=int32, numpy=\n",
            "array([[6],\n",
            "       [1],\n",
            "       [9],\n",
            "       [1],\n",
            "       [2],\n",
            "       [7],\n",
            "       [3],\n",
            "       [9],\n",
            "       [1],\n",
            "       [5],\n",
            "       [3],\n",
            "       [9],\n",
            "       [8],\n",
            "       [5],\n",
            "       [2],\n",
            "       [7],\n",
            "       [3],\n",
            "       [1],\n",
            "       [1],\n",
            "       [1],\n",
            "       [8],\n",
            "       [9],\n",
            "       [5],\n",
            "       [8],\n",
            "       [9],\n",
            "       [8],\n",
            "       [6],\n",
            "       [8],\n",
            "       [7],\n",
            "       [0],\n",
            "       [5],\n",
            "       [1]], dtype=int32)>)\n"
          ]
        }
      ],
      "source": [
        "from tensorflow.keras.preprocessing.image import ImageDataGenerator\n",
        "\n",
        "img_datagen = ImageDataGenerator(rescale=1/255., \n",
        "    width_shift_range=0.2, horizontal_flip=True)\n",
        "\n",
        "dataset = tf.data.Dataset.from_generator(img_datagen.flow, \n",
        "    args=[x_train, y_train], output_types=(tf.float32, tf.int32),\n",
        "    output_shapes=([32,32,32,3], [32,1]))\n",
        "\n",
        "print(dataset.element_spec)\n",
        "\n",
        "for elem in dataset.take(2):\n",
        "    print(elem)"
      ]
    },
    {
      "cell_type": "code",
      "execution_count": null,
      "metadata": {
        "colab": {
          "base_uri": "https://localhost:8080/"
        },
        "id": "Za9ynOokhaF5",
        "outputId": "76235d90-d57d-4470-d783-91a4edd08ccd"
      },
      "outputs": [
        {
          "name": "stdout",
          "output_type": "stream",
          "text": [
            "Downloading data from https://storage.googleapis.com/tensorflow/tf-keras-datasets/mnist.npz\n",
            "11493376/11490434 [==============================] - 0s 0us/step\n",
            "<class 'numpy.ndarray'> <class 'numpy.ndarray'>\n"
          ]
        }
      ],
      "source": [
        "# Load the MNIST dataset\n",
        "\n",
        "(train_features, train_labels), (test_features, test_labels) = \\\n",
        "    tf.keras.datasets.mnist.load_data()\n",
        "\n",
        "print(type(train_features), type(train_labels))"
      ]
    },
    {
      "cell_type": "code",
      "execution_count": null,
      "metadata": {
        "id": "38iTcPe_haF6"
      },
      "outputs": [],
      "source": [
        "# Create a Dataset from the MNIST data\n",
        "\n",
        "mnist_dataset = tf.data.Dataset.from_tensor_slices(\n",
        "    (train_features, train_labels))"
      ]
    },
    {
      "cell_type": "code",
      "execution_count": null,
      "metadata": {
        "colab": {
          "base_uri": "https://localhost:8080/"
        },
        "id": "wG5zUdlNhaF7",
        "outputId": "53440bec-6466-40dd-9c36-c40bf59a41d2"
      },
      "outputs": [
        {
          "name": "stdout",
          "output_type": "stream",
          "text": [
            "(TensorSpec(shape=(28, 28), dtype=tf.uint8, name=None), TensorSpec(shape=(), dtype=tf.uint8, name=None))\n"
          ]
        }
      ],
      "source": [
        "# Inspect the Dataset object\n",
        "\n",
        "print(mnist_dataset.element_spec)"
      ]
    },
    {
      "cell_type": "code",
      "execution_count": null,
      "metadata": {
        "colab": {
          "base_uri": "https://localhost:8080/"
        },
        "id": "fyzdKnHOhaF-",
        "outputId": "94abf95a-67ef-420d-cb94-a20ba9e85a93"
      },
      "outputs": [
        {
          "name": "stdout",
          "output_type": "stream",
          "text": [
            "2\n"
          ]
        }
      ],
      "source": [
        "# Inspect the length of an element using the take method\n",
        "\n",
        "element = next(iter(mnist_dataset.take(1)))\n",
        "print(len(element))"
      ]
    },
    {
      "cell_type": "code",
      "execution_count": null,
      "metadata": {
        "colab": {
          "base_uri": "https://localhost:8080/"
        },
        "id": "e9RXjXFghaF_",
        "outputId": "18e23a2a-f6a1-40da-f636-84049b350366"
      },
      "outputs": [
        {
          "name": "stdout",
          "output_type": "stream",
          "text": [
            "(28, 28)\n",
            "()\n"
          ]
        }
      ],
      "source": [
        "# Examine the shapes of the data\n",
        "\n",
        "print(element[0].shape)\n",
        "print(element[1].shape)"
      ]
    },
    {
      "cell_type": "markdown",
      "metadata": {
        "id": "SzJe1CIvhaGB"
      },
      "source": [
        "#### Create a dataset from text data"
      ]
    },
    {
      "cell_type": "markdown",
      "metadata": {
        "id": "mW20P2KVhMsU"
      },
      "source": [
        "#### Import the data\n",
        "\n",
        "The dataset required for this tutorial can be downloaded from the following link:\n",
        "\n",
        "https://drive.google.com/open?id=1BAjGPFlpqsDdWof50Ng3Fmju5O8F1_uZ\n",
        "\n",
        "You should store these files for use in this Colab notebook."
      ]
    },
    {
      "cell_type": "code",
      "execution_count": null,
      "metadata": {
        "id": "8zSGZUSrh1Y5"
      },
      "outputs": [],
      "source": [
        "data_dir = \"./data/shakespeare/\"\n",
        "if not os.path.exists(data_dir):\n",
        "    os.makedirs(data_dir)"
      ]
    },
    {
      "cell_type": "code",
      "execution_count": null,
      "metadata": {
        "colab": {
          "base_uri": "https://localhost:8080/"
        },
        "id": "LDKKcm0Wh1ZE",
        "outputId": "2f820649-3d52-4515-c227-69335293dcd4",
        "scrolled": true,
        "tags": []
      },
      "outputs": [
        {
          "name": "stderr",
          "output_type": "stream",
          "text": [
            "  % Total    % Received % Xferd  Average Speed   Time    Time     Time  Current\n",
            "                                 Dload  Upload   Total   Spent    Left  Speed\n",
            "100   408    0   408    0     0   1320      0 --:--:-- --:--:-- --:--:--  1316\n",
            "  0     0    0     0    0     0      0      0 --:--:-- --:--:-- --:--:--     0\n",
            "  0     0    0     0    0     0      0      0 --:--:-- --:--:-- --:--:--     0\n",
            "100  3304  100  3304    0     0   6812      0 --:--:-- --:--:-- --:--:--  6812\n",
            "  % Total    % Received % Xferd  Average Speed   Time    Time     Time  Current\n",
            "                                 Dload  Upload   Total   Spent    Left  Speed\n",
            "100   408    0   408    0     0   1275      0 --:--:-- --:--:-- --:--:--  1275\n",
            "  0     0    0     0    0     0      0      0 --:--:-- --:--:-- --:--:--     0\n",
            "  0     0    0     0    0     0      0      0 --:--:-- --:--:-- --:--:--     0\n",
            "100 23402  100 23402    0     0  48451      0 --:--:-- --:--:-- --:--:-- 48451\n",
            "  % Total    % Received % Xferd  Average Speed   Time    Time     Time  Current\n",
            "                                 Dload  Upload   Total   Spent    Left  Speed\n",
            "100   408    0   408    0     0   3138      0 --:--:-- --:--:-- --:--:--  3138\n",
            "  0     0    0     0    0     0      0      0 --:--:-- --:--:-- --:--:--     0\n",
            "  0     0    0     0    0     0      0      0 --:--:-- --:--:-- --:--:--     0\n",
            "100 14469  100 14469    0     0  44520      0 --:--:-- --:--:-- --:--:-- 44520\n",
            "  % Total    % Received % Xferd  Average Speed   Time    Time     Time  Current\n",
            "                                 Dload  Upload   Total   Spent    Left  Speed\n",
            "100   408    0   408    0     0   1316      0 --:--:-- --:--:-- --:--:--  1316\n",
            "  0     0    0     0    0     0      0      0 --:--:-- --:--:-- --:--:--     0\n",
            "  0     0    0     0    0     0      0      0 --:--:-- --:--:-- --:--:--     0\n",
            "100  8516  100  8516    0     0  17238      0 --:--:-- --:--:-- --:--:-- 17238\n",
            "  % Total    % Received % Xferd  Average Speed   Time    Time     Time  Current\n",
            "                                 Dload  Upload   Total   Spent    Left  Speed\n",
            "100   408    0   408    0     0   1397      0 --:--:-- --:--:-- --:--:--  1397\n",
            "  0     0    0     0    0     0      0      0 --:--:-- --:--:-- --:--:--     0\n",
            "  0     0    0     0    0     0      0      0 --:--:-- --:--:-- --:--:--     0\n",
            "100  4573  100  4573    0     0   9257      0 --:--:-- --:--:-- --:--:--  9257\n",
            "  % Total    % Received % Xferd  Average Speed   Time    Time     Time  Current\n",
            "                                 Dload  Upload   Total   Spent    Left  Speed\n",
            "100   408    0   408    0     0   1350      0 --:--:-- --:--:-- --:--:--  1350\n",
            "  0     0    0     0    0     0      0      0 --:--:-- --:--:-- --:--:--     0\n",
            "  0     0    0     0    0     0      0      0 --:--:-- --:--:-- --:--:--     0\n",
            "100  6614  100  6614    0     0  14254      0 --:--:-- --:--:-- --:--:--     0\n",
            "  % Total    % Received % Xferd  Average Speed   Time    Time     Time  Current\n",
            "                                 Dload  Upload   Total   Spent    Left  Speed\n",
            "100   408    0   408    0     0   2503      0 --:--:-- --:--:-- --:--:--  2503\n",
            "  0     0    0     0    0     0      0      0 --:--:-- --:--:-- --:--:--     0\n",
            "  0     0    0     0    0     0      0      0 --:--:-- --:--:-- --:--:--     0\n",
            "100  5962  100  5962    0     0  16334      0 --:--:-- --:--:-- --:--:-- 16334\n",
            "  % Total    % Received % Xferd  Average Speed   Time    Time     Time  Current\n",
            "                                 Dload  Upload   Total   Spent    Left  Speed\n",
            "100   408    0   408    0     0   1175      0 --:--:-- --:--:-- --:--:--  1179\n",
            "  0     0    0     0    0     0      0      0 --:--:-- --:--:-- --:--:--     0\n",
            "  0     0    0     0    0     0      0      0 --:--:-- --:--:-- --:--:--     0\n",
            "100 12407  100 12407    0     0  23365      0 --:--:-- --:--:-- --:--:-- 23365\n",
            "  % Total    % Received % Xferd  Average Speed   Time    Time     Time  Current\n",
            "                                 Dload  Upload   Total   Spent    Left  Speed\n",
            "100   408    0   408    0     0   1392      0 --:--:-- --:--:-- --:--:--  1392\n",
            "  0     0    0     0    0     0      0      0 --:--:-- --:--:-- --:--:--     0\n",
            "  0     0    0     0    0     0      0      0 --:--:-- --:--:-- --:--:--     0\n",
            "100 15972  100 15972    0     0  33767      0 --:--:-- --:--:-- --:--:-- 33767\n"
          ]
        }
      ],
      "source": [
        "%%bash\n",
        "\n",
        "fileid=\"1mJh2gG4wvu0Xpc9izupXio4W1eAvEFBY\"\n",
        "filename=\"./data/shakespeare/tempest.1.1.txt\"\n",
        "curl -c ./cookie -s -L \"https://drive.google.com/uc?export=download&id=${fileid}\" > /dev/null\n",
        "curl -Lb ./cookie \"https://drive.google.com/uc?export=download&confirm=`awk '/download/ {print $NF}' ./cookie`&id=${fileid}\" -o ${filename}\n",
        "\n",
        "fileid=\"14RDC57HJud936KU0yS5JTjtbsVC5Bw2m\"\n",
        "filename=\"./data/shakespeare/tempest.1.2.txt\"\n",
        "curl -c ./cookie -s -L \"https://drive.google.com/uc?export=download&id=${fileid}\" > /dev/null\n",
        "curl -Lb ./cookie \"https://drive.google.com/uc?export=download&confirm=`awk '/download/ {print $NF}' ./cookie`&id=${fileid}\" -o ${filename}\n",
        "\n",
        "fileid=\"1aMOc8j4l1qKMEOtXv7pQDl16kYhCeqYc\"\n",
        "filename=\"./data/shakespeare/tempest.2.1.txt\"\n",
        "curl -c ./cookie -s -L \"https://drive.google.com/uc?export=download&id=${fileid}\" > /dev/null\n",
        "curl -Lb ./cookie \"https://drive.google.com/uc?export=download&confirm=`awk '/download/ {print $NF}' ./cookie`&id=${fileid}\" -o ${filename}\n",
        "\n",
        "fileid=\"17Jm_sZu_ps81WiGKCCWmrfU5XADwDw--\"\n",
        "filename=\"./data/shakespeare/tempest.2.2.txt\"\n",
        "curl -c ./cookie -s -L \"https://drive.google.com/uc?export=download&id=${fileid}\" > /dev/null\n",
        "curl -Lb ./cookie \"https://drive.google.com/uc?export=download&confirm=`awk '/download/ {print $NF}' ./cookie`&id=${fileid}\" -o ${filename}\n",
        "\n",
        "fileid=\"1XeIYfj6VDmKamMduanCIAD0tydmnWjlP\"\n",
        "filename=\"./data/shakespeare/tempest.3.1.txt\"\n",
        "curl -c ./cookie -s -L \"https://drive.google.com/uc?export=download&id=${fileid}\" > /dev/null\n",
        "curl -Lb ./cookie \"https://drive.google.com/uc?export=download&confirm=`awk '/download/ {print $NF}' ./cookie`&id=${fileid}\" -o ${filename}\n",
        "\n",
        "fileid=\"1v30JPWBvWfOiQvzAwfKG9p8-mrQP5g3l\"\n",
        "filename=\"./data/shakespeare/tempest.3.2.txt\"\n",
        "curl -c ./cookie -s -L \"https://drive.google.com/uc?export=download&id=${fileid}\" > /dev/null\n",
        "curl -Lb ./cookie \"https://drive.google.com/uc?export=download&confirm=`awk '/download/ {print $NF}' ./cookie`&id=${fileid}\" -o ${filename}\n",
        "\n",
        "fileid=\"1-GJTQ5DD3AFQ9NDkgOAHd3JIK9akTKLC\"\n",
        "filename=\"./data/shakespeare/tempest.3.3.txt\"\n",
        "curl -c ./cookie -s -L \"https://drive.google.com/uc?export=download&id=${fileid}\" > /dev/null\n",
        "curl -Lb ./cookie \"https://drive.google.com/uc?export=download&confirm=`awk '/download/ {print $NF}' ./cookie`&id=${fileid}\" -o ${filename}\n",
        "\n",
        "fileid=\"19J-8dYnKHqUsIEzPnTL-6ZiP8e-j8-Ha\"\n",
        "filename=\"./data/shakespeare/tempest.4.1.txt\"\n",
        "curl -c ./cookie -s -L \"https://drive.google.com/uc?export=download&id=${fileid}\" > /dev/null\n",
        "curl -Lb ./cookie \"https://drive.google.com/uc?export=download&confirm=`awk '/download/ {print $NF}' ./cookie`&id=${fileid}\" -o ${filename}\n",
        "\n",
        "fileid=\"1mNYhA47xl5zHQBDXd7fqDlvwtB-OEFvp\"\n",
        "filename=\"./data/shakespeare/tempest.5.1.txt\"\n",
        "curl -c ./cookie -s -L \"https://drive.google.com/uc?export=download&id=${fileid}\" > /dev/null\n",
        "curl -Lb ./cookie \"https://drive.google.com/uc?export=download&confirm=`awk '/download/ {print $NF}' ./cookie`&id=${fileid}\" -o ${filename}\n",
        "\n",
        "rm -rf ./cookie"
      ]
    },
    {
      "cell_type": "code",
      "execution_count": null,
      "metadata": {
        "colab": {
          "base_uri": "https://localhost:8080/"
        },
        "id": "EKK73IjhhaGB",
        "outputId": "97df5733-903c-42dd-ddc9-1a414c475a0c"
      },
      "outputs": [
        {
          "name": "stdout",
          "output_type": "stream",
          "text": [
            "['data/shakespeare/tempest.1.1.txt', 'data/shakespeare/tempest.1.2.txt', 'data/shakespeare/tempest.2.1.txt', 'data/shakespeare/tempest.2.2.txt', 'data/shakespeare/tempest.3.1.txt', 'data/shakespeare/tempest.3.2.txt', 'data/shakespeare/tempest.3.3.txt', 'data/shakespeare/tempest.4.1.txt', 'data/shakespeare/tempest.5.1.txt']\n"
          ]
        }
      ],
      "source": [
        "# Print the list of text files\n",
        "\n",
        "text_files = sorted([f.path for f in os.scandir('data/shakespeare')])\n",
        "\n",
        "print(text_files)"
      ]
    },
    {
      "cell_type": "code",
      "execution_count": null,
      "metadata": {
        "colab": {
          "base_uri": "https://localhost:8080/"
        },
        "id": "56Jwc9dEhaGD",
        "outputId": "c75a9d97-a642-4dac-f29d-8b62225174ac"
      },
      "outputs": [
        {
          "name": "stdout",
          "output_type": "stream",
          "text": [
            "SCENE I. On a ship at sea: a tempestuous noise\n",
            "\n",
            "of thunder and lightning heard.\n",
            "\n",
            "Enter a Master and a Boatswain\n",
            "\n",
            "\n",
            "\n",
            "Master\n",
            "\n"
          ]
        }
      ],
      "source": [
        "# Load the first file using python and print the first 5 lines.\n",
        "\n",
        "with open(text_files[0], 'r') as fil:\n",
        "    contents = [fil.readline() for i in range(5)]\n",
        "    for line in contents:\n",
        "        print(line)"
      ]
    },
    {
      "cell_type": "code",
      "execution_count": null,
      "metadata": {
        "id": "tZkNIUYnhaGE"
      },
      "outputs": [],
      "source": [
        "# Load the lines from the files into a dataset using TextLineDataset\n",
        "\n",
        "shakespeare_dataset = tf.data.TextLineDataset(text_files)"
      ]
    },
    {
      "cell_type": "code",
      "execution_count": null,
      "metadata": {
        "colab": {
          "base_uri": "https://localhost:8080/"
        },
        "id": "DbK2AV4WhaGG",
        "outputId": "3d421b1a-e62f-4a5f-89b3-55c3f66dd314"
      },
      "outputs": [
        {
          "name": "stdout",
          "output_type": "stream",
          "text": [
            "tf.Tensor(b'SCENE I. On a ship at sea: a tempestuous noise', shape=(), dtype=string)\n",
            "tf.Tensor(b'of thunder and lightning heard.', shape=(), dtype=string)\n",
            "tf.Tensor(b'Enter a Master and a Boatswain', shape=(), dtype=string)\n",
            "tf.Tensor(b'', shape=(), dtype=string)\n",
            "tf.Tensor(b'Master', shape=(), dtype=string)\n"
          ]
        }
      ],
      "source": [
        "# Use the take method to get and print the first 5 lines of the dataset\n",
        "\n",
        "first_5_lines_dataset = iter(shakespeare_dataset.take(5))\n",
        "lines = [line for line in first_5_lines_dataset]\n",
        "for line in lines:\n",
        "    print(line)"
      ]
    },
    {
      "cell_type": "code",
      "execution_count": null,
      "metadata": {
        "colab": {
          "base_uri": "https://localhost:8080/"
        },
        "id": "Dxr_d64jhaGH",
        "outputId": "0f514251-d0d3-4e28-d3a3-b54d953c52ae"
      },
      "outputs": [
        {
          "name": "stdout",
          "output_type": "stream",
          "text": [
            "121\n"
          ]
        }
      ],
      "source": [
        "# Compute the number of lines in the first file\n",
        "\n",
        "lines = []\n",
        "with open(text_files[0], 'r') as fil:\n",
        "    line = fil.readline()\n",
        "    while line:\n",
        "        lines.append(line)\n",
        "        line = fil.readline()\n",
        "    print(len(lines))"
      ]
    },
    {
      "cell_type": "code",
      "execution_count": null,
      "metadata": {
        "colab": {
          "base_uri": "https://localhost:8080/"
        },
        "id": "4xj3mOiUhaGJ",
        "outputId": "e229a47c-1e6f-481e-c9c0-5583e0aee10a"
      },
      "outputs": [
        {
          "name": "stdout",
          "output_type": "stream",
          "text": [
            "3134\n"
          ]
        }
      ],
      "source": [
        "# Compute the number of lines in the shakespeare dataset we created\n",
        "\n",
        "shakespeare_dataset_iterator = iter(shakespeare_dataset)\n",
        "lines = [line for line in shakespeare_dataset_iterator]\n",
        "print(len(lines))"
      ]
    },
    {
      "cell_type": "markdown",
      "metadata": {
        "id": "lrXEQqa3haGK"
      },
      "source": [
        "#### Interleave lines from the text data files"
      ]
    },
    {
      "cell_type": "code",
      "execution_count": null,
      "metadata": {
        "colab": {
          "base_uri": "https://localhost:8080/"
        },
        "id": "Xv7HQG9_haGK",
        "outputId": "006ec910-b968-4f49-dba3-6c3af6beb02a",
        "scrolled": true
      },
      "outputs": [
        {
          "name": "stdout",
          "output_type": "stream",
          "text": [
            "tf.Tensor(b'data/shakespeare/tempest.1.1.txt', shape=(), dtype=string)\n",
            "tf.Tensor(b'data/shakespeare/tempest.1.2.txt', shape=(), dtype=string)\n",
            "tf.Tensor(b'data/shakespeare/tempest.2.1.txt', shape=(), dtype=string)\n",
            "tf.Tensor(b'data/shakespeare/tempest.2.2.txt', shape=(), dtype=string)\n",
            "tf.Tensor(b'data/shakespeare/tempest.3.1.txt', shape=(), dtype=string)\n",
            "tf.Tensor(b'data/shakespeare/tempest.3.2.txt', shape=(), dtype=string)\n",
            "tf.Tensor(b'data/shakespeare/tempest.3.3.txt', shape=(), dtype=string)\n",
            "tf.Tensor(b'data/shakespeare/tempest.4.1.txt', shape=(), dtype=string)\n",
            "tf.Tensor(b'data/shakespeare/tempest.5.1.txt', shape=(), dtype=string)\n"
          ]
        }
      ],
      "source": [
        "# Create a dataset of the text file strings\n",
        "\n",
        "text_files_dataset = tf.data.Dataset.from_tensor_slices(text_files)\n",
        "files = [file for file in text_files_dataset]\n",
        "for file in files:\n",
        "    print(file)"
      ]
    },
    {
      "cell_type": "code",
      "execution_count": null,
      "metadata": {
        "colab": {
          "base_uri": "https://localhost:8080/"
        },
        "id": "rXEK2VNQhaGM",
        "outputId": "e56814df-ba41-4dfe-cac4-1ae273ad9c1c"
      },
      "outputs": [
        {
          "name": "stdout",
          "output_type": "stream",
          "text": [
            "TensorSpec(shape=(), dtype=tf.string, name=None)\n"
          ]
        }
      ],
      "source": [
        "# Interleave the lines from the text files\n",
        "\n",
        "interleaved_shakespeare_dataset = text_files_dataset.interleave(\n",
        "    tf.data.TextLineDataset, cycle_length=9)\n",
        "print(interleaved_shakespeare_dataset.element_spec)"
      ]
    },
    {
      "cell_type": "code",
      "execution_count": null,
      "metadata": {
        "colab": {
          "base_uri": "https://localhost:8080/"
        },
        "id": "ywdbkvVJhaGO",
        "outputId": "552a4ce5-29a2-41d5-fbb9-b9fbd9a80b51"
      },
      "outputs": [
        {
          "name": "stdout",
          "output_type": "stream",
          "text": [
            "tf.Tensor(b'SCENE I. On a ship at sea: a tempestuous noise', shape=(), dtype=string)\n",
            "tf.Tensor(b\"SCENE II. The island. Before PROSPERO'S cell.\", shape=(), dtype=string)\n",
            "tf.Tensor(b'SCENE I. Another part of the island.', shape=(), dtype=string)\n",
            "tf.Tensor(b'SCENE II. Another part of the island.', shape=(), dtype=string)\n",
            "tf.Tensor(b\"SCENE I. Before PROSPERO'S Cell.\", shape=(), dtype=string)\n",
            "tf.Tensor(b'SCENE II. Another part of the island.', shape=(), dtype=string)\n",
            "tf.Tensor(b'SCENE III. Another part of the island.', shape=(), dtype=string)\n",
            "tf.Tensor(b\"SCENE I. Before PROSPERO'S cell.\", shape=(), dtype=string)\n",
            "tf.Tensor(b\"SCENE I. Before PROSPERO'S cell.\", shape=(), dtype=string)\n",
            "tf.Tensor(b'of thunder and lightning heard.', shape=(), dtype=string)\n"
          ]
        }
      ],
      "source": [
        "# Print the first 10 elements of the interleaved dataset\n",
        "\n",
        "lines = [line for line in iter(interleaved_shakespeare_dataset.take(10))]\n",
        "for line in lines:\n",
        "    print(line)"
      ]
    },
    {
      "cell_type": "markdown",
      "metadata": {
        "id": "c5CRpW_whaGQ"
      },
      "source": [
        "***\n",
        "<a id=\"coding_tutorial_5\"></a>\n",
        "## Training with Datasets"
      ]
    },
    {
      "cell_type": "code",
      "execution_count": null,
      "metadata": {
        "id": "KGob3se4haGQ"
      },
      "outputs": [],
      "source": [
        "%matplotlib inline\n",
        "import matplotlib.pyplot as plt\n",
        "import numpy as np\n",
        "import os\n",
        "import pandas as pd"
      ]
    },
    {
      "cell_type": "markdown",
      "metadata": {
        "id": "sImBVH74haGR"
      },
      "source": [
        "#### Load the UCI Bank Marketing Dataset"
      ]
    },
    {
      "cell_type": "markdown",
      "metadata": {
        "id": "yR-nK0HDkuXe"
      },
      "source": [
        "#### Import the data\n",
        "\n",
        "The dataset required for this tutorial can be downloaded from the following link:\n",
        "\n",
        "https://drive.google.com/open?id=1cNtP4iDyGhF620ZbmJdmJWYQrRgJTCum\n",
        "\n",
        "You should store these files for use in this Colab notebook."
      ]
    },
    {
      "cell_type": "code",
      "execution_count": null,
      "metadata": {
        "id": "9jwLM9ijlgYY"
      },
      "outputs": [],
      "source": [
        "data_dir = \"./data\"\n",
        "if not os.path.exists(data_dir):\n",
        "    os.makedirs(data_dir)"
      ]
    },
    {
      "cell_type": "code",
      "execution_count": null,
      "metadata": {
        "colab": {
          "base_uri": "https://localhost:8080/"
        },
        "id": "OLdBJHSzlgYp",
        "outputId": "c14aba2e-2839-45b0-f4df-d88467eff068"
      },
      "outputs": [
        {
          "name": "stderr",
          "output_type": "stream",
          "text": [
            "  % Total    % Received % Xferd  Average Speed   Time    Time     Time  Current\n",
            "                                 Dload  Upload   Total   Spent    Left  Speed\n",
            "100   408    0   408    0     0    474      0 --:--:-- --:--:-- --:--:--   474\n",
            "  0     0    0     0    0     0      0      0 --:--:-- --:--:-- --:--:--     0\n",
            "  0     0    0     0    0     0      0      0 --:--:-- --:--:-- --:--:--     0\n",
            "100 4502k    0 4502k    0     0  3935k      0 --:--:--  0:00:01 --:--:-- 3935k\n"
          ]
        }
      ],
      "source": [
        "%%bash\n",
        "\n",
        "fileid=\"1nKvYzcXlEds31FCVaT9INPrbJbn3dVz-\"\n",
        "filename=\"./data/bank-full.csv\"\n",
        "curl -c ./cookie -s -L \"https://drive.google.com/uc?export=download&id=${fileid}\" > /dev/null\n",
        "curl -Lb ./cookie \"https://drive.google.com/uc?export=download&confirm=`awk '/download/ {print $NF}' ./cookie`&id=${fileid}\" -o ${filename}\n",
        "\n",
        "rm -rf ./cookie"
      ]
    },
    {
      "cell_type": "code",
      "execution_count": null,
      "metadata": {
        "id": "cRt2GoekhaGS"
      },
      "outputs": [],
      "source": [
        "# Load the CSV file into a pandas DataFrame\n",
        "\n",
        "bank_dataframe = pd.read_csv('data/bank-full.csv', delimiter=';')"
      ]
    },
    {
      "cell_type": "code",
      "execution_count": null,
      "metadata": {
        "colab": {
          "base_uri": "https://localhost:8080/",
          "height": 226
        },
        "id": "OKUSID04haGT",
        "outputId": "0e639a9f-dc93-4bfc-a2d6-c36dd6214365",
        "scrolled": true
      },
      "outputs": [
        {
          "data": {
            "text/html": [
              "<div>\n",
              "<style scoped>\n",
              "    .dataframe tbody tr th:only-of-type {\n",
              "        vertical-align: middle;\n",
              "    }\n",
              "\n",
              "    .dataframe tbody tr th {\n",
              "        vertical-align: top;\n",
              "    }\n",
              "\n",
              "    .dataframe thead th {\n",
              "        text-align: right;\n",
              "    }\n",
              "</style>\n",
              "<table border=\"1\" class=\"dataframe\">\n",
              "  <thead>\n",
              "    <tr style=\"text-align: right;\">\n",
              "      <th></th>\n",
              "      <th>age</th>\n",
              "      <th>job</th>\n",
              "      <th>marital</th>\n",
              "      <th>education</th>\n",
              "      <th>default</th>\n",
              "      <th>balance</th>\n",
              "      <th>housing</th>\n",
              "      <th>loan</th>\n",
              "      <th>contact</th>\n",
              "      <th>day</th>\n",
              "      <th>month</th>\n",
              "      <th>duration</th>\n",
              "      <th>campaign</th>\n",
              "      <th>pdays</th>\n",
              "      <th>previous</th>\n",
              "      <th>poutcome</th>\n",
              "      <th>y</th>\n",
              "    </tr>\n",
              "  </thead>\n",
              "  <tbody>\n",
              "    <tr>\n",
              "      <th>0</th>\n",
              "      <td>58</td>\n",
              "      <td>management</td>\n",
              "      <td>married</td>\n",
              "      <td>tertiary</td>\n",
              "      <td>no</td>\n",
              "      <td>2143</td>\n",
              "      <td>yes</td>\n",
              "      <td>no</td>\n",
              "      <td>unknown</td>\n",
              "      <td>5</td>\n",
              "      <td>may</td>\n",
              "      <td>261</td>\n",
              "      <td>1</td>\n",
              "      <td>-1</td>\n",
              "      <td>0</td>\n",
              "      <td>unknown</td>\n",
              "      <td>no</td>\n",
              "    </tr>\n",
              "    <tr>\n",
              "      <th>1</th>\n",
              "      <td>44</td>\n",
              "      <td>technician</td>\n",
              "      <td>single</td>\n",
              "      <td>secondary</td>\n",
              "      <td>no</td>\n",
              "      <td>29</td>\n",
              "      <td>yes</td>\n",
              "      <td>no</td>\n",
              "      <td>unknown</td>\n",
              "      <td>5</td>\n",
              "      <td>may</td>\n",
              "      <td>151</td>\n",
              "      <td>1</td>\n",
              "      <td>-1</td>\n",
              "      <td>0</td>\n",
              "      <td>unknown</td>\n",
              "      <td>no</td>\n",
              "    </tr>\n",
              "    <tr>\n",
              "      <th>2</th>\n",
              "      <td>33</td>\n",
              "      <td>entrepreneur</td>\n",
              "      <td>married</td>\n",
              "      <td>secondary</td>\n",
              "      <td>no</td>\n",
              "      <td>2</td>\n",
              "      <td>yes</td>\n",
              "      <td>yes</td>\n",
              "      <td>unknown</td>\n",
              "      <td>5</td>\n",
              "      <td>may</td>\n",
              "      <td>76</td>\n",
              "      <td>1</td>\n",
              "      <td>-1</td>\n",
              "      <td>0</td>\n",
              "      <td>unknown</td>\n",
              "      <td>no</td>\n",
              "    </tr>\n",
              "    <tr>\n",
              "      <th>3</th>\n",
              "      <td>47</td>\n",
              "      <td>blue-collar</td>\n",
              "      <td>married</td>\n",
              "      <td>unknown</td>\n",
              "      <td>no</td>\n",
              "      <td>1506</td>\n",
              "      <td>yes</td>\n",
              "      <td>no</td>\n",
              "      <td>unknown</td>\n",
              "      <td>5</td>\n",
              "      <td>may</td>\n",
              "      <td>92</td>\n",
              "      <td>1</td>\n",
              "      <td>-1</td>\n",
              "      <td>0</td>\n",
              "      <td>unknown</td>\n",
              "      <td>no</td>\n",
              "    </tr>\n",
              "    <tr>\n",
              "      <th>4</th>\n",
              "      <td>33</td>\n",
              "      <td>unknown</td>\n",
              "      <td>single</td>\n",
              "      <td>unknown</td>\n",
              "      <td>no</td>\n",
              "      <td>1</td>\n",
              "      <td>no</td>\n",
              "      <td>no</td>\n",
              "      <td>unknown</td>\n",
              "      <td>5</td>\n",
              "      <td>may</td>\n",
              "      <td>198</td>\n",
              "      <td>1</td>\n",
              "      <td>-1</td>\n",
              "      <td>0</td>\n",
              "      <td>unknown</td>\n",
              "      <td>no</td>\n",
              "    </tr>\n",
              "  </tbody>\n",
              "</table>\n",
              "</div>"
            ],
            "text/plain": [
              "   age           job  marital  education  ... pdays  previous poutcome   y\n",
              "0   58    management  married   tertiary  ...    -1         0  unknown  no\n",
              "1   44    technician   single  secondary  ...    -1         0  unknown  no\n",
              "2   33  entrepreneur  married  secondary  ...    -1         0  unknown  no\n",
              "3   47   blue-collar  married    unknown  ...    -1         0  unknown  no\n",
              "4   33       unknown   single    unknown  ...    -1         0  unknown  no\n",
              "\n",
              "[5 rows x 17 columns]"
            ]
          },
          "execution_count": 140,
          "metadata": {
            "tags": []
          },
          "output_type": "execute_result"
        }
      ],
      "source": [
        "# Show the head of the DataFrame\n",
        "\n",
        "bank_dataframe.head()"
      ]
    },
    {
      "cell_type": "code",
      "execution_count": null,
      "metadata": {
        "colab": {
          "base_uri": "https://localhost:8080/"
        },
        "id": "faNobGyshaGW",
        "outputId": "98f6f4eb-43a8-471e-f086-663207da0046"
      },
      "outputs": [
        {
          "name": "stdout",
          "output_type": "stream",
          "text": [
            "(45211, 17)\n"
          ]
        }
      ],
      "source": [
        "# Print the shape of the DataFrame\n",
        "\n",
        "print(bank_dataframe.shape)"
      ]
    },
    {
      "cell_type": "code",
      "execution_count": null,
      "metadata": {
        "id": "rV-zDyNdhaGX"
      },
      "outputs": [],
      "source": [
        "# Select features from the DataFrame\n",
        "\n",
        "features = ['age', 'job', 'marital', 'education', 'default', 'balance', 'housing',\n",
        "            'loan', 'contact', 'campaign', 'pdays', 'poutcome']\n",
        "labels = ['y']\n",
        "\n",
        "bank_dataframe = bank_dataframe.filter(features + labels)"
      ]
    },
    {
      "cell_type": "code",
      "execution_count": null,
      "metadata": {
        "colab": {
          "base_uri": "https://localhost:8080/",
          "height": 226
        },
        "id": "7qxNd34thaGY",
        "outputId": "70a441f8-7cab-4980-80a3-7424ad01c5f6",
        "scrolled": true
      },
      "outputs": [
        {
          "data": {
            "text/html": [
              "<div>\n",
              "<style scoped>\n",
              "    .dataframe tbody tr th:only-of-type {\n",
              "        vertical-align: middle;\n",
              "    }\n",
              "\n",
              "    .dataframe tbody tr th {\n",
              "        vertical-align: top;\n",
              "    }\n",
              "\n",
              "    .dataframe thead th {\n",
              "        text-align: right;\n",
              "    }\n",
              "</style>\n",
              "<table border=\"1\" class=\"dataframe\">\n",
              "  <thead>\n",
              "    <tr style=\"text-align: right;\">\n",
              "      <th></th>\n",
              "      <th>age</th>\n",
              "      <th>job</th>\n",
              "      <th>marital</th>\n",
              "      <th>education</th>\n",
              "      <th>default</th>\n",
              "      <th>balance</th>\n",
              "      <th>housing</th>\n",
              "      <th>loan</th>\n",
              "      <th>contact</th>\n",
              "      <th>campaign</th>\n",
              "      <th>pdays</th>\n",
              "      <th>poutcome</th>\n",
              "      <th>y</th>\n",
              "    </tr>\n",
              "  </thead>\n",
              "  <tbody>\n",
              "    <tr>\n",
              "      <th>0</th>\n",
              "      <td>58</td>\n",
              "      <td>management</td>\n",
              "      <td>married</td>\n",
              "      <td>tertiary</td>\n",
              "      <td>no</td>\n",
              "      <td>2143</td>\n",
              "      <td>yes</td>\n",
              "      <td>no</td>\n",
              "      <td>unknown</td>\n",
              "      <td>1</td>\n",
              "      <td>-1</td>\n",
              "      <td>unknown</td>\n",
              "      <td>no</td>\n",
              "    </tr>\n",
              "    <tr>\n",
              "      <th>1</th>\n",
              "      <td>44</td>\n",
              "      <td>technician</td>\n",
              "      <td>single</td>\n",
              "      <td>secondary</td>\n",
              "      <td>no</td>\n",
              "      <td>29</td>\n",
              "      <td>yes</td>\n",
              "      <td>no</td>\n",
              "      <td>unknown</td>\n",
              "      <td>1</td>\n",
              "      <td>-1</td>\n",
              "      <td>unknown</td>\n",
              "      <td>no</td>\n",
              "    </tr>\n",
              "    <tr>\n",
              "      <th>2</th>\n",
              "      <td>33</td>\n",
              "      <td>entrepreneur</td>\n",
              "      <td>married</td>\n",
              "      <td>secondary</td>\n",
              "      <td>no</td>\n",
              "      <td>2</td>\n",
              "      <td>yes</td>\n",
              "      <td>yes</td>\n",
              "      <td>unknown</td>\n",
              "      <td>1</td>\n",
              "      <td>-1</td>\n",
              "      <td>unknown</td>\n",
              "      <td>no</td>\n",
              "    </tr>\n",
              "    <tr>\n",
              "      <th>3</th>\n",
              "      <td>47</td>\n",
              "      <td>blue-collar</td>\n",
              "      <td>married</td>\n",
              "      <td>unknown</td>\n",
              "      <td>no</td>\n",
              "      <td>1506</td>\n",
              "      <td>yes</td>\n",
              "      <td>no</td>\n",
              "      <td>unknown</td>\n",
              "      <td>1</td>\n",
              "      <td>-1</td>\n",
              "      <td>unknown</td>\n",
              "      <td>no</td>\n",
              "    </tr>\n",
              "    <tr>\n",
              "      <th>4</th>\n",
              "      <td>33</td>\n",
              "      <td>unknown</td>\n",
              "      <td>single</td>\n",
              "      <td>unknown</td>\n",
              "      <td>no</td>\n",
              "      <td>1</td>\n",
              "      <td>no</td>\n",
              "      <td>no</td>\n",
              "      <td>unknown</td>\n",
              "      <td>1</td>\n",
              "      <td>-1</td>\n",
              "      <td>unknown</td>\n",
              "      <td>no</td>\n",
              "    </tr>\n",
              "  </tbody>\n",
              "</table>\n",
              "</div>"
            ],
            "text/plain": [
              "   age           job  marital  education  ... campaign  pdays poutcome   y\n",
              "0   58    management  married   tertiary  ...        1     -1  unknown  no\n",
              "1   44    technician   single  secondary  ...        1     -1  unknown  no\n",
              "2   33  entrepreneur  married  secondary  ...        1     -1  unknown  no\n",
              "3   47   blue-collar  married    unknown  ...        1     -1  unknown  no\n",
              "4   33       unknown   single    unknown  ...        1     -1  unknown  no\n",
              "\n",
              "[5 rows x 13 columns]"
            ]
          },
          "execution_count": 143,
          "metadata": {
            "tags": []
          },
          "output_type": "execute_result"
        }
      ],
      "source": [
        "# Show the head of the DataFrame\n",
        "\n",
        "bank_dataframe.head()"
      ]
    },
    {
      "cell_type": "markdown",
      "metadata": {
        "id": "uMOyO0aZhaGa"
      },
      "source": [
        "#### Preprocess the data"
      ]
    },
    {
      "cell_type": "code",
      "execution_count": null,
      "metadata": {
        "id": "dIwMmt9KhaGa"
      },
      "outputs": [],
      "source": [
        "# Convert the categorical features in the DataFrame to one-hot encodings\n",
        "\n",
        "from sklearn.preprocessing import LabelBinarizer\n",
        "\n",
        "encoder = LabelBinarizer()\n",
        "categorical_features = ['default', 'housing', 'job', 'loan', 'education', \n",
        "    'contact', 'poutcome']\n",
        "\n",
        "for feature in categorical_features:\n",
        "    bank_dataframe[feature] = tuple(encoder.fit_transform(\n",
        "        bank_dataframe[feature]))"
      ]
    },
    {
      "cell_type": "code",
      "execution_count": null,
      "metadata": {
        "colab": {
          "base_uri": "https://localhost:8080/",
          "height": 1000
        },
        "id": "vbwWaUKEhaGb",
        "outputId": "b9cead32-65dc-458d-d36d-5606a9e09fc5",
        "scrolled": true
      },
      "outputs": [
        {
          "data": {
            "text/html": [
              "<div>\n",
              "<style scoped>\n",
              "    .dataframe tbody tr th:only-of-type {\n",
              "        vertical-align: middle;\n",
              "    }\n",
              "\n",
              "    .dataframe tbody tr th {\n",
              "        vertical-align: top;\n",
              "    }\n",
              "\n",
              "    .dataframe thead th {\n",
              "        text-align: right;\n",
              "    }\n",
              "</style>\n",
              "<table border=\"1\" class=\"dataframe\">\n",
              "  <thead>\n",
              "    <tr style=\"text-align: right;\">\n",
              "      <th></th>\n",
              "      <th>age</th>\n",
              "      <th>job</th>\n",
              "      <th>marital</th>\n",
              "      <th>education</th>\n",
              "      <th>default</th>\n",
              "      <th>balance</th>\n",
              "      <th>housing</th>\n",
              "      <th>loan</th>\n",
              "      <th>contact</th>\n",
              "      <th>campaign</th>\n",
              "      <th>pdays</th>\n",
              "      <th>poutcome</th>\n",
              "      <th>y</th>\n",
              "    </tr>\n",
              "  </thead>\n",
              "  <tbody>\n",
              "    <tr>\n",
              "      <th>0</th>\n",
              "      <td>58</td>\n",
              "      <td>(0, 0, 0, 0, 1, 0, 0, 0, 0, 0, 0, 0)</td>\n",
              "      <td>married</td>\n",
              "      <td>(0, 0, 1, 0)</td>\n",
              "      <td>(0,)</td>\n",
              "      <td>2143</td>\n",
              "      <td>(1,)</td>\n",
              "      <td>(0,)</td>\n",
              "      <td>(0, 0, 1)</td>\n",
              "      <td>1</td>\n",
              "      <td>-1</td>\n",
              "      <td>(0, 0, 0, 1)</td>\n",
              "      <td>no</td>\n",
              "    </tr>\n",
              "    <tr>\n",
              "      <th>1</th>\n",
              "      <td>44</td>\n",
              "      <td>(0, 0, 0, 0, 0, 0, 0, 0, 0, 1, 0, 0)</td>\n",
              "      <td>single</td>\n",
              "      <td>(0, 1, 0, 0)</td>\n",
              "      <td>(0,)</td>\n",
              "      <td>29</td>\n",
              "      <td>(1,)</td>\n",
              "      <td>(0,)</td>\n",
              "      <td>(0, 0, 1)</td>\n",
              "      <td>1</td>\n",
              "      <td>-1</td>\n",
              "      <td>(0, 0, 0, 1)</td>\n",
              "      <td>no</td>\n",
              "    </tr>\n",
              "    <tr>\n",
              "      <th>2</th>\n",
              "      <td>33</td>\n",
              "      <td>(0, 0, 1, 0, 0, 0, 0, 0, 0, 0, 0, 0)</td>\n",
              "      <td>married</td>\n",
              "      <td>(0, 1, 0, 0)</td>\n",
              "      <td>(0,)</td>\n",
              "      <td>2</td>\n",
              "      <td>(1,)</td>\n",
              "      <td>(1,)</td>\n",
              "      <td>(0, 0, 1)</td>\n",
              "      <td>1</td>\n",
              "      <td>-1</td>\n",
              "      <td>(0, 0, 0, 1)</td>\n",
              "      <td>no</td>\n",
              "    </tr>\n",
              "    <tr>\n",
              "      <th>3</th>\n",
              "      <td>47</td>\n",
              "      <td>(0, 1, 0, 0, 0, 0, 0, 0, 0, 0, 0, 0)</td>\n",
              "      <td>married</td>\n",
              "      <td>(0, 0, 0, 1)</td>\n",
              "      <td>(0,)</td>\n",
              "      <td>1506</td>\n",
              "      <td>(1,)</td>\n",
              "      <td>(0,)</td>\n",
              "      <td>(0, 0, 1)</td>\n",
              "      <td>1</td>\n",
              "      <td>-1</td>\n",
              "      <td>(0, 0, 0, 1)</td>\n",
              "      <td>no</td>\n",
              "    </tr>\n",
              "    <tr>\n",
              "      <th>4</th>\n",
              "      <td>33</td>\n",
              "      <td>(0, 0, 0, 0, 0, 0, 0, 0, 0, 0, 0, 1)</td>\n",
              "      <td>single</td>\n",
              "      <td>(0, 0, 0, 1)</td>\n",
              "      <td>(0,)</td>\n",
              "      <td>1</td>\n",
              "      <td>(0,)</td>\n",
              "      <td>(0,)</td>\n",
              "      <td>(0, 0, 1)</td>\n",
              "      <td>1</td>\n",
              "      <td>-1</td>\n",
              "      <td>(0, 0, 0, 1)</td>\n",
              "      <td>no</td>\n",
              "    </tr>\n",
              "  </tbody>\n",
              "</table>\n",
              "</div>"
            ],
            "text/plain": [
              "   age                                   job  marital  ... pdays      poutcome   y\n",
              "0   58  (0, 0, 0, 0, 1, 0, 0, 0, 0, 0, 0, 0)  married  ...    -1  (0, 0, 0, 1)  no\n",
              "1   44  (0, 0, 0, 0, 0, 0, 0, 0, 0, 1, 0, 0)   single  ...    -1  (0, 0, 0, 1)  no\n",
              "2   33  (0, 0, 1, 0, 0, 0, 0, 0, 0, 0, 0, 0)  married  ...    -1  (0, 0, 0, 1)  no\n",
              "3   47  (0, 1, 0, 0, 0, 0, 0, 0, 0, 0, 0, 0)  married  ...    -1  (0, 0, 0, 1)  no\n",
              "4   33  (0, 0, 0, 0, 0, 0, 0, 0, 0, 0, 0, 1)   single  ...    -1  (0, 0, 0, 1)  no\n",
              "\n",
              "[5 rows x 13 columns]"
            ]
          },
          "execution_count": 145,
          "metadata": {
            "tags": []
          },
          "output_type": "execute_result"
        }
      ],
      "source": [
        "# Show the head of the DataFrame\n",
        "\n",
        "bank_dataframe.head()"
      ]
    },
    {
      "cell_type": "code",
      "execution_count": null,
      "metadata": {
        "id": "CXIuiANFhaGc"
      },
      "outputs": [],
      "source": [
        "# Shuffle the DataFrame\n",
        "\n",
        "bank_dataframe = bank_dataframe.sample(frac=1).reset_index(drop=True)"
      ]
    },
    {
      "cell_type": "markdown",
      "metadata": {
        "id": "jrI8QPAghaGe"
      },
      "source": [
        "#### Create the Dataset object"
      ]
    },
    {
      "cell_type": "code",
      "execution_count": null,
      "metadata": {
        "id": "RyWS07bghaGf"
      },
      "outputs": [],
      "source": [
        "# Convert the DataFrame to a Dataset\n",
        "\n",
        "dict_bank = dict(bank_dataframe)\n",
        "bank_dataset = tf.data.Dataset.from_tensor_slices(\n",
        "    {k: dict_bank[k].tolist() for k in dict_bank})"
      ]
    },
    {
      "cell_type": "code",
      "execution_count": null,
      "metadata": {
        "colab": {
          "base_uri": "https://localhost:8080/"
        },
        "id": "_Ykb1yAlhaGn",
        "outputId": "ccfe07a8-ccf5-4358-abde-70118fc369a8"
      },
      "outputs": [
        {
          "data": {
            "text/plain": [
              "{'age': TensorSpec(shape=(), dtype=tf.int32, name=None),\n",
              " 'balance': TensorSpec(shape=(), dtype=tf.int32, name=None),\n",
              " 'campaign': TensorSpec(shape=(), dtype=tf.int32, name=None),\n",
              " 'contact': TensorSpec(shape=(3,), dtype=tf.int32, name=None),\n",
              " 'default': TensorSpec(shape=(1,), dtype=tf.int32, name=None),\n",
              " 'education': TensorSpec(shape=(4,), dtype=tf.int32, name=None),\n",
              " 'housing': TensorSpec(shape=(1,), dtype=tf.int32, name=None),\n",
              " 'job': TensorSpec(shape=(12,), dtype=tf.int32, name=None),\n",
              " 'loan': TensorSpec(shape=(1,), dtype=tf.int32, name=None),\n",
              " 'marital': TensorSpec(shape=(), dtype=tf.string, name=None),\n",
              " 'pdays': TensorSpec(shape=(), dtype=tf.int32, name=None),\n",
              " 'poutcome': TensorSpec(shape=(4,), dtype=tf.int32, name=None),\n",
              " 'y': TensorSpec(shape=(), dtype=tf.string, name=None)}"
            ]
          },
          "execution_count": 150,
          "metadata": {
            "tags": []
          },
          "output_type": "execute_result"
        }
      ],
      "source": [
        "# Inspect the Dataset object\n",
        "\n",
        "bank_dataset.element_spec"
      ]
    },
    {
      "cell_type": "markdown",
      "metadata": {
        "id": "_OULr3jShaGq"
      },
      "source": [
        "#### Filter the Dataset"
      ]
    },
    {
      "cell_type": "code",
      "execution_count": null,
      "metadata": {
        "colab": {
          "base_uri": "https://localhost:8080/"
        },
        "id": "HJwAeSuwhaGr",
        "outputId": "031973c7-e221-40a9-882b-69fb159c77c7"
      },
      "outputs": [
        {
          "name": "stdout",
          "output_type": "stream",
          "text": [
            "Found a person with marital status: b'married'\n"
          ]
        }
      ],
      "source": [
        "# First check that there are records in the dataset for non-married individuals\n",
        "\n",
        "def check_divorced():\n",
        "    bank_dataset_iterable = iter(bank_dataset)\n",
        "    for x in bank_dataset_iterable:\n",
        "        if x['marital'] != 'divorced':\n",
        "            print('Found a person with marital status: {}'.format(x['marital']))\n",
        "            return\n",
        "    print('No non-divorced people were found!')\n",
        "\n",
        "check_divorced()"
      ]
    },
    {
      "cell_type": "code",
      "execution_count": null,
      "metadata": {
        "id": "ixTiUgcShaGt"
      },
      "outputs": [],
      "source": [
        "# Filter the Dataset to retain only entries with a 'divorced' marital status\n",
        "\n",
        "bank_dataset = bank_dataset.filter(lambda x : tf.equal(x['marital'], \n",
        "    tf.constant([b'divorced']))[0])"
      ]
    },
    {
      "cell_type": "code",
      "execution_count": null,
      "metadata": {
        "colab": {
          "base_uri": "https://localhost:8080/"
        },
        "id": "ATDI5_73haGu",
        "outputId": "9de77b8f-7ae1-476d-984d-4579543155b0"
      },
      "outputs": [
        {
          "name": "stdout",
          "output_type": "stream",
          "text": [
            "No non-divorced people were found!\n"
          ]
        }
      ],
      "source": [
        "# Check the records in the dataset again\n",
        "\n",
        "check_divorced()"
      ]
    },
    {
      "cell_type": "markdown",
      "metadata": {
        "id": "DZQjW6MGhaGv"
      },
      "source": [
        "#### Map a function over the dataset"
      ]
    },
    {
      "cell_type": "code",
      "execution_count": null,
      "metadata": {
        "id": "__3Jjfl7haGw"
      },
      "outputs": [],
      "source": [
        "# Convert the label ('y') to an integer instead of 'yes' or 'no'\n",
        "\n",
        "def map_label(x):\n",
        "    x['y'] = 0 if (x['y'] == tf.constant([b'no'], dtype=tf.string)) else 1\n",
        "    return x\n",
        "\n",
        "bank_dataset = bank_dataset.map(map_label)"
      ]
    },
    {
      "cell_type": "code",
      "execution_count": null,
      "metadata": {
        "colab": {
          "base_uri": "https://localhost:8080/"
        },
        "id": "60G0f9YGhaGx",
        "outputId": "44560a17-877c-40fc-89a4-419263672acb"
      },
      "outputs": [
        {
          "data": {
            "text/plain": [
              "{'age': TensorSpec(shape=(), dtype=tf.int32, name=None),\n",
              " 'balance': TensorSpec(shape=(), dtype=tf.int32, name=None),\n",
              " 'campaign': TensorSpec(shape=(), dtype=tf.int32, name=None),\n",
              " 'contact': TensorSpec(shape=(3,), dtype=tf.int32, name=None),\n",
              " 'default': TensorSpec(shape=(1,), dtype=tf.int32, name=None),\n",
              " 'education': TensorSpec(shape=(4,), dtype=tf.int32, name=None),\n",
              " 'housing': TensorSpec(shape=(1,), dtype=tf.int32, name=None),\n",
              " 'job': TensorSpec(shape=(12,), dtype=tf.int32, name=None),\n",
              " 'loan': TensorSpec(shape=(1,), dtype=tf.int32, name=None),\n",
              " 'marital': TensorSpec(shape=(), dtype=tf.string, name=None),\n",
              " 'pdays': TensorSpec(shape=(), dtype=tf.int32, name=None),\n",
              " 'poutcome': TensorSpec(shape=(4,), dtype=tf.int32, name=None),\n",
              " 'y': TensorSpec(shape=(), dtype=tf.int32, name=None)}"
            ]
          },
          "execution_count": 155,
          "metadata": {
            "tags": []
          },
          "output_type": "execute_result"
        }
      ],
      "source": [
        "# Inspect the Dataset object\n",
        "\n",
        "bank_dataset.element_spec"
      ]
    },
    {
      "cell_type": "code",
      "execution_count": null,
      "metadata": {
        "id": "tGpolkUJhaGy"
      },
      "outputs": [],
      "source": [
        "# Remove the 'marital' column\n",
        "\n",
        "bank_dataset = bank_dataset.map(lambda x: \n",
        "    {key: val for key, val in x.items() if key != 'marital'})"
      ]
    },
    {
      "cell_type": "code",
      "execution_count": null,
      "metadata": {
        "colab": {
          "base_uri": "https://localhost:8080/"
        },
        "id": "FTbrVE7chaG0",
        "outputId": "ec51b967-9abd-4cc3-bd80-c293ea8c2acc"
      },
      "outputs": [
        {
          "data": {
            "text/plain": [
              "{'age': TensorSpec(shape=(), dtype=tf.int32, name=None),\n",
              " 'balance': TensorSpec(shape=(), dtype=tf.int32, name=None),\n",
              " 'campaign': TensorSpec(shape=(), dtype=tf.int32, name=None),\n",
              " 'contact': TensorSpec(shape=(3,), dtype=tf.int32, name=None),\n",
              " 'default': TensorSpec(shape=(1,), dtype=tf.int32, name=None),\n",
              " 'education': TensorSpec(shape=(4,), dtype=tf.int32, name=None),\n",
              " 'housing': TensorSpec(shape=(1,), dtype=tf.int32, name=None),\n",
              " 'job': TensorSpec(shape=(12,), dtype=tf.int32, name=None),\n",
              " 'loan': TensorSpec(shape=(1,), dtype=tf.int32, name=None),\n",
              " 'pdays': TensorSpec(shape=(), dtype=tf.int32, name=None),\n",
              " 'poutcome': TensorSpec(shape=(4,), dtype=tf.int32, name=None),\n",
              " 'y': TensorSpec(shape=(), dtype=tf.int32, name=None)}"
            ]
          },
          "execution_count": 157,
          "metadata": {
            "tags": []
          },
          "output_type": "execute_result"
        }
      ],
      "source": [
        "# Inspect the Dataset object\n",
        "\n",
        "bank_dataset.element_spec"
      ]
    },
    {
      "cell_type": "markdown",
      "metadata": {
        "id": "HlYUoVylhaG1"
      },
      "source": [
        "#### Create input and output data tuples"
      ]
    },
    {
      "cell_type": "code",
      "execution_count": null,
      "metadata": {
        "id": "RIsxi_u0haG1"
      },
      "outputs": [],
      "source": [
        "# Create an input and output tuple for the dataset\n",
        "\n",
        "def map_feature_label(x):\n",
        "    features = [[x['age']], [x['balance']], [x['campaign']], x['contact'], \n",
        "        x['default'], x['education'], x['housing'], x['job'], x['loan'], \n",
        "        [x['pdays']], x['poutcome']]\n",
        "    return (tf.concat(features, axis=0), x['y'])"
      ]
    },
    {
      "cell_type": "code",
      "execution_count": null,
      "metadata": {
        "id": "gIzfxziMhaG3",
        "scrolled": true
      },
      "outputs": [],
      "source": [
        "# Map this function over the dataset\n",
        "\n",
        "bank_dataset = bank_dataset.map(map_feature_label)"
      ]
    },
    {
      "cell_type": "code",
      "execution_count": null,
      "metadata": {
        "colab": {
          "base_uri": "https://localhost:8080/"
        },
        "id": "8JKhkqaEhaHB",
        "outputId": "6820793d-b91f-4155-d813-45f6f4ed47c5"
      },
      "outputs": [
        {
          "data": {
            "text/plain": [
              "(TensorSpec(shape=(30,), dtype=tf.int32, name=None),\n",
              " TensorSpec(shape=(), dtype=tf.int32, name=None))"
            ]
          },
          "execution_count": 160,
          "metadata": {
            "tags": []
          },
          "output_type": "execute_result"
        }
      ],
      "source": [
        "# Inspect the Dataset object\n",
        "\n",
        "bank_dataset.element_spec"
      ]
    },
    {
      "cell_type": "markdown",
      "metadata": {
        "id": "lTg7cxYVhaHC"
      },
      "source": [
        "#### Split into a training and a validation set"
      ]
    },
    {
      "cell_type": "code",
      "execution_count": null,
      "metadata": {
        "colab": {
          "base_uri": "https://localhost:8080/"
        },
        "id": "rpa2OGmxhaHC",
        "outputId": "7c499e2d-a9e6-42e5-d472-4f6fc0c15525"
      },
      "outputs": [
        {
          "name": "stdout",
          "output_type": "stream",
          "text": [
            "5207\n"
          ]
        }
      ],
      "source": [
        "# Determine the length of the Dataset\n",
        "\n",
        "dataset_length = 0\n",
        "for _ in bank_dataset:\n",
        "    dataset_length += 1\n",
        "print(dataset_length)"
      ]
    },
    {
      "cell_type": "code",
      "execution_count": null,
      "metadata": {
        "id": "aiBen_r1haHD"
      },
      "outputs": [],
      "source": [
        "# Make training and validation sets from the dataset\n",
        "\n",
        "training_elements = int(dataset_length*0.7)\n",
        "train_dataset = bank_dataset.take(training_elements)\n",
        "validation_dataset = bank_dataset.skip(training_elements)"
      ]
    },
    {
      "cell_type": "markdown",
      "metadata": {
        "id": "Aj7Zs8yhhaHG"
      },
      "source": [
        "#### Build a classification model\n",
        "\n",
        "Now let's build a model to classify the features."
      ]
    },
    {
      "cell_type": "code",
      "execution_count": null,
      "metadata": {
        "id": "RFJN8PaUhaHG"
      },
      "outputs": [],
      "source": [
        "# Build a classifier model\n",
        "\n",
        "from tensorflow.keras.layers import Dense, Input, Concatenate, BatchNormalization\n",
        "from tensorflow.keras import Sequential\n",
        "\n",
        "model = Sequential()\n",
        "model.add(Input(shape=(30,)))\n",
        "model.add(BatchNormalization(momentum=0.8))\n",
        "model.add(Dense(400, activation='relu'))\n",
        "model.add(BatchNormalization(momentum=0.8))\n",
        "model.add(Dense(400, activation='relu'))\n",
        "model.add(BatchNormalization(momentum=0.8))\n",
        "model.add(Dense(1, activation='sigmoid'))"
      ]
    },
    {
      "cell_type": "code",
      "execution_count": null,
      "metadata": {
        "id": "uY92bQT-haHJ"
      },
      "outputs": [],
      "source": [
        "# Compile the model\n",
        "\n",
        "optimizer = tf.keras.optimizers.Adam(1e-4)\n",
        "model.compile(optimizer=optimizer, \n",
        "    loss='binary_crossentropy', metrics=['accuracy'])"
      ]
    },
    {
      "cell_type": "code",
      "execution_count": null,
      "metadata": {
        "colab": {
          "base_uri": "https://localhost:8080/"
        },
        "id": "g_p0gJvVhaHK",
        "outputId": "7d19d854-5e3d-43d6-e1e2-8a266b79e26a",
        "scrolled": true
      },
      "outputs": [
        {
          "name": "stdout",
          "output_type": "stream",
          "text": [
            "Model: \"sequential_1\"\n",
            "_________________________________________________________________\n",
            "Layer (type)                 Output Shape              Param #   \n",
            "=================================================================\n",
            "batch_normalization_2 (Batch (None, 30)                120       \n",
            "_________________________________________________________________\n",
            "dense_5 (Dense)              (None, 400)               12400     \n",
            "_________________________________________________________________\n",
            "batch_normalization_3 (Batch (None, 400)               1600      \n",
            "_________________________________________________________________\n",
            "dense_6 (Dense)              (None, 400)               160400    \n",
            "_________________________________________________________________\n",
            "batch_normalization_4 (Batch (None, 400)               1600      \n",
            "_________________________________________________________________\n",
            "dense_7 (Dense)              (None, 1)                 401       \n",
            "=================================================================\n",
            "Total params: 176,521\n",
            "Trainable params: 174,861\n",
            "Non-trainable params: 1,660\n",
            "_________________________________________________________________\n"
          ]
        }
      ],
      "source": [
        "# Show the model summary\n",
        "\n",
        "model.summary()"
      ]
    },
    {
      "cell_type": "markdown",
      "metadata": {
        "id": "aALufpk6haHL"
      },
      "source": [
        "#### Train the model"
      ]
    },
    {
      "cell_type": "code",
      "execution_count": null,
      "metadata": {
        "id": "fIJanyhDhaHL"
      },
      "outputs": [],
      "source": [
        "# Create batched training and validation datasets\n",
        "\n",
        "train_dataset = train_dataset.batch(20, drop_remainder=True)\n",
        "validation_dataset = validation_dataset.batch(100)"
      ]
    },
    {
      "cell_type": "code",
      "execution_count": null,
      "metadata": {
        "id": "9xNHeIlthaHN"
      },
      "outputs": [],
      "source": [
        "# Shuffle the training data\n",
        "\n",
        "train_dataset = train_dataset.shuffle(1000)"
      ]
    },
    {
      "cell_type": "code",
      "execution_count": null,
      "metadata": {
        "colab": {
          "base_uri": "https://localhost:8080/"
        },
        "id": "p7daJ6eOhaHO",
        "outputId": "69885ce6-7f16-4100-8445-bda7fff1fedc",
        "scrolled": true
      },
      "outputs": [
        {
          "name": "stdout",
          "output_type": "stream",
          "text": [
            "Epoch 1/5\n",
            "182/182 [==============================] - 2s 10ms/step - loss: 0.6621 - accuracy: 0.6412 - val_loss: 0.6690 - val_accuracy: 0.7287\n",
            "Epoch 2/5\n",
            "182/182 [==============================] - 2s 9ms/step - loss: 0.4805 - accuracy: 0.8220 - val_loss: 0.5674 - val_accuracy: 0.7978\n",
            "Epoch 3/5\n",
            "182/182 [==============================] - 2s 12ms/step - loss: 0.3761 - accuracy: 0.8967 - val_loss: 0.4623 - val_accuracy: 0.8439\n",
            "Epoch 4/5\n",
            "182/182 [==============================] - 2s 10ms/step - loss: 0.3047 - accuracy: 0.9173 - val_loss: 0.4082 - val_accuracy: 0.8720\n",
            "Epoch 5/5\n",
            "182/182 [==============================] - 2s 9ms/step - loss: 0.2575 - accuracy: 0.9247 - val_loss: 0.3935 - val_accuracy: 0.8733\n"
          ]
        }
      ],
      "source": [
        "# Fit the model\n",
        "\n",
        "history = model.fit(train_dataset, validation_data=validation_dataset,\n",
        "    epochs=5)"
      ]
    },
    {
      "cell_type": "code",
      "execution_count": null,
      "metadata": {
        "colab": {
          "base_uri": "https://localhost:8080/",
          "height": 279
        },
        "id": "nE7zoUwLhaHQ",
        "outputId": "1d5ea837-2945-443c-c5ce-1e1f663f0c42"
      },
      "outputs": [
        {
          "data": {
            "image/png": "[encoded data removed]",
            "text/plain": [
              "<Figure size 432x288 with 1 Axes>"
            ]
          },
          "metadata": {
            "needs_background": "light",
            "tags": []
          },
          "output_type": "display_data"
        }
      ],
      "source": [
        "# Plot the training and validation accuracy\n",
        "\n",
        "plt.plot(history.epoch, history.history['accuracy'], label='training')\n",
        "plt.plot(history.epoch, history.history['val_accuracy'], label='validation')\n",
        "plt.legend()\n",
        "plt.xlabel('Epoch')\n",
        "plt.ylabel('Accuracy')\n",
        "plt.show()"
      ]
    },
    {
      "cell_type": "markdown",
      "metadata": {
        "id": "3EZoFyMshaHR"
      },
      "source": [
        "### Reference\n",
        "\n",
        "import tensorflow as tf\n",
        "from tensorflow.keras.datasets import cifar10\n",
        "\n",
        "(x_train, y_train), (x_test, y_test) = cifar10.load_data()\n",
        "\n",
        "dataset = tf.data.Dataset.from_tensor_slices((x_train, y_train))\n",
        "\n",
        "def rescale(image, label):\n",
        "    return image/255, label\n",
        "\n",
        "dataset = dataset.map(rescale)\n",
        "\n",
        "def label_filter(image, label):\n",
        "    return tf.squeeze(label) != 9\n",
        "\n",
        "dataset = dataset.filter(label_filter)\n",
        "\n",
        "dataset = dataset.shuffle(100)\n",
        "\n",
        "dataset = dataset.batch(16, drop_remainder=True)\n",
        "\n",
        "dataset = dataset.repeat(10)\n",
        "\n",
        "print(dataset.element_spec)\n",
        "\n",
        "history = model.fit(dataset)"
      ]
    }
  ],
  "metadata": {
    "colab": {
      "name": "Data_pipeline.ipynb",
      "provenance": [],
      "include_colab_link": true
    },
    "kernelspec": {
      "display_name": "Python 3 (ipykernel)",
      "language": "python",
      "name": "python3"
    },
    "language_info": {
      "codemirror_mode": {
        "name": "ipython",
        "version": 3
      },
      "file_extension": ".py",
      "mimetype": "text/x-python",
      "name": "python",
      "nbconvert_exporter": "python",
      "pygments_lexer": "ipython3",
      "version": "3.8.10"
    },
    "gpuClass": "standard"
  },
  "nbformat": 4,
  "nbformat_minor": 0
}