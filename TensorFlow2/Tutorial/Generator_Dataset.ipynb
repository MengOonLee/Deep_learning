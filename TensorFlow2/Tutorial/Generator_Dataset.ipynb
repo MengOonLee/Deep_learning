{
  "nbformat": 4,
  "nbformat_minor": 0,
  "metadata": {
    "coursera": {
      "course_slug": "tensor-flow-2-2",
      "graded_item_id": "3hWzU",
      "launcher_item_id": "AStQh"
    },
    "kernelspec": {
      "display_name": "Python 3",
      "language": "python",
      "name": "python3"
    },
    "language_info": {
      "codemirror_mode": {
        "name": "ipython",
        "version": 3
      },
      "file_extension": ".py",
      "mimetype": "text/x-python",
      "name": "python",
      "nbconvert_exporter": "python",
      "pygments_lexer": "ipython3",
      "version": "3.8.5"
    },
    "colab": {
      "name": "Generator_Dataset.ipynb",
      "provenance": [],
      "include_colab_link": true
    }
  },
  "cells": [
    {
      "cell_type": "markdown",
      "metadata": {
        "id": "view-in-github",
        "colab_type": "text"
      },
      "source": [
        "<a href=\"https://colab.research.google.com/github/MengOonLee/Deep_learning/blob/master/TensorFlow2/Tutorial/Generator_Dataset.ipynb\" target=\"_parent\"><img src=\"https://colab.research.google.com/assets/colab-badge.svg\" alt=\"Open In Colab\"/></a>"
      ]
    },
    {
      "cell_type": "markdown",
      "metadata": {
        "id": "l8AjrThfyW3a"
      },
      "source": [
        "# Programming Assignment"
      ]
    },
    {
      "cell_type": "markdown",
      "metadata": {
        "id": "5G-qNCFLyW3b"
      },
      "source": [
        "## Data pipeline with Keras and tf.data"
      ]
    },
    {
      "cell_type": "markdown",
      "metadata": {
        "id": "yDd9uxh_yW3e"
      },
      "source": [
        "### Instructions\n",
        "\n",
        "In this notebook, you will implement a data processing pipeline using tools from both Keras and the tf.data module. You will use the `ImageDataGenerator` class in the tf.keras module to feed a network with training and test images from a local directory containing a subset of the LSUN dataset, and train the model both with and without data augmentation. You will then use the `map` and `filter` functions of the `Dataset` class with the CIFAR-100 dataset to train a network to classify a processed subset of the images.\n",
        "\n",
        "Some code cells are provided you in the notebook. You should avoid editing provided code, and make sure to execute the cells in order to avoid unexpected errors. Some cells begin with the line:\n",
        "\n",
        "`#### GRADED CELL ####`\n",
        "\n",
        "Don't move or edit this first line - this is what the automatic grader looks for to recognise graded cells. These cells require you to write your own code to complete them, and are automatically graded when you submit the notebook. Don't edit the function name or signature provided in these cells, otherwise the automatic grader might not function properly. Inside these graded cells, you can use any functions or classes that are imported below, but make sure you don't use any variables that are outside the scope of the function.\n",
        "\n",
        "### How to submit\n",
        "\n",
        "Complete all the tasks you are asked for in the worksheet. When you have finished and are happy with your code, press the **Submit Assignment** button at the top of this notebook.\n",
        "\n",
        "### Let's get started!\n",
        "\n",
        "We'll start running some imports, and loading the dataset. Do not edit the existing imports in the following cell. If you would like to make further Tensorflow imports, you should add them here."
      ]
    },
    {
      "cell_type": "code",
      "metadata": {
        "id": "SdVWQVJtyW3f"
      },
      "source": [
        "#### PACKAGE IMPORTS ####\n",
        "\n",
        "# Run this cell first to import all required packages. Do not make any imports elsewhere in the notebook\n",
        "\n",
        "import tensorflow as tf\n",
        "from tensorflow.keras.datasets import cifar100\n",
        "import numpy as np\n",
        "import matplotlib.pyplot as plt\n",
        "import json\n",
        "%matplotlib inline\n",
        "\n",
        "# If you would like to make further imports from tensorflow, add them here\n",
        "\n",
        "from tensorflow.keras.preprocessing.image import ImageDataGenerator\n",
        "from tensorflow.keras.models import Model\n",
        "from tensorflow.keras.layers import Input, Conv2D, MaxPooling2D, \\\n",
        "  Flatten, Dense\n",
        "from tensorflow.keras.optimizers import Adam\n",
        "from tensorflow.keras.callbacks import EarlyStopping, ReduceLROnPlateau"
      ],
      "execution_count": null,
      "outputs": []
    },
    {
      "cell_type": "code",
      "metadata": {
        "id": "pNzfOZAGyW3r"
      },
      "source": [
        "# Enable GPU dynamic memory allocation\n",
        "gpus = tf.config.experimental.list_physical_devices('GPU')\n",
        "for gpu in gpus:\n",
        "    tf.config.experimental.set_memory_growth(gpu, True)"
      ],
      "execution_count": null,
      "outputs": []
    },
    {
      "cell_type": "markdown",
      "metadata": {
        "id": "yZCqHJmqyW3y"
      },
      "source": [
        "### Part 1: tf.keras\n",
        "<table><tr>\n",
        "<td> <img src=\"https://github.com/MengOonLee/Deep_learning/blob/master/TensorFlow2/Tutorial/image/lsun/church.jpeg?raw=1\" alt=\"Church\" style=\"height: 210px;\"/></td>\n",
        "<td> <img src=\"https://github.com/MengOonLee/Deep_learning/blob/master/TensorFlow2/Tutorial/image/lsun/classroom.jpeg?raw=1\" alt=\"Classroom\" style=\"height: 210px;\"/></td>\n",
        "<td> <img src=\"https://github.com/MengOonLee/Deep_learning/blob/master/TensorFlow2/Tutorial/image/lsun/conference_room.jpeg?raw=1\" alt=\"Conference Room\" style=\"height: 210px;\"/></td>\n",
        "</tr></table>\n",
        "  \n",
        "#### The LSUN Dataset\n",
        "\n",
        "In the first part of this assignment, you will use a subset of the [LSUN dataset](https://www.yf.io/p/lsun). This is a large-scale image dataset with 10 scene and 20 object categories. A subset of the LSUN dataset has been provided, and has already been split into training and test sets. The three classes included in the subset are `church_outdoor`, `classroom` and `conference_room`.\n",
        "\n",
        "* F. Yu, A. Seff, Y. Zhang, S. Song, T. Funkhouser and J. Xia. \"LSUN: Construction of a Large-scale Image Dataset using Deep Learning with Humans in the Loop\". arXiv:1506.03365, 10 Jun 2015 \n",
        "\n",
        "Your goal is to use the Keras preprocessing tools to construct a data ingestion and augmentation pipeline to train a neural network to classify the images into the three classes."
      ]
    },
    {
      "cell_type": "markdown",
      "metadata": {
        "id": "bk_C8dmKyW3z"
      },
      "source": [
        "#### Import the data\n",
        "\n",
        "The dataset is available for download as a zip file at the following link:\n",
        "\n",
        "https://drive.google.com/open?id=1T4jFYYLHSuG5zjo1dF3btCLzgS2R2AU-\n",
        "\n",
        "You should store the unzipped folder in local drive for use in this notebook."
      ]
    },
    {
      "cell_type": "code",
      "metadata": {
        "id": "39eLcyNgyW31"
      },
      "source": [
        "import os\n",
        "\n",
        "if not os.path.exists(\"./data\"):\n",
        "    os.makedirs(\"./data\")"
      ],
      "execution_count": null,
      "outputs": []
    },
    {
      "cell_type": "code",
      "metadata": {
        "id": "Pb9nIMjkyW36"
      },
      "source": [
        "%%bash\n",
        "\n",
        "fileid=\"1T4jFYYLHSuG5zjo1dF3btCLzgS2R2AU-\"\n",
        "filename=\"./data/lsun.zip\"\n",
        "curl -c ./cookie -s -L \"https://drive.google.com/uc?export=download&id=${fileid}\" > /dev/null\n",
        "curl -Lb ./cookie \"https://drive.google.com/uc?export=download&confirm=`awk '/download/ {print $NF}' ./cookie`&id=${fileid}\" -o ${filename}\n",
        "\n",
        "unzip -qq ./data/lsun.zip -d ./data\n",
        "rm ./data/lsun.zip"
      ],
      "execution_count": null,
      "outputs": []
    },
    {
      "cell_type": "code",
      "metadata": {
        "id": "SOtzVBTSyW4A"
      },
      "source": [
        "# Save the directory locations for the training, validation and test sets\n",
        "\n",
        "train_dir = 'data/lsun/train'\n",
        "valid_dir = 'data/lsun/valid'\n",
        "test_dir = 'data/lsun/test'"
      ],
      "execution_count": null,
      "outputs": []
    },
    {
      "cell_type": "markdown",
      "metadata": {
        "id": "By1bGlmzyW4H"
      },
      "source": [
        "#### Create a data generator using the ImageDataGenerator class"
      ]
    },
    {
      "cell_type": "markdown",
      "metadata": {
        "id": "fyBgl9DTyW4I"
      },
      "source": [
        "You should first write a function that creates an `ImageDataGenerator` object, which rescales the image pixel values by a factor of 1/255."
      ]
    },
    {
      "cell_type": "code",
      "metadata": {
        "id": "ZBnFGIw7yW4J"
      },
      "source": [
        "#### GRADED CELL ####\n",
        "\n",
        "# Complete the following function. \n",
        "# Make sure to not change the function name or arguments.\n",
        "\n",
        "def get_ImageDataGenerator():\n",
        "    \"\"\"\n",
        "    This function should return an instance of the ImageDataGenerator class.\n",
        "    This instance should be set up to rescale the data with the above scaling factor.\n",
        "    \"\"\"\n",
        "    \n",
        "    return ImageDataGenerator(rescale=1/255.)"
      ],
      "execution_count": null,
      "outputs": []
    },
    {
      "cell_type": "code",
      "metadata": {
        "id": "BczIJaztyW4O"
      },
      "source": [
        "# Call the function to get an ImageDataGenerator as specified\n",
        "\n",
        "image_gen = get_ImageDataGenerator()"
      ],
      "execution_count": null,
      "outputs": []
    },
    {
      "cell_type": "markdown",
      "metadata": {
        "id": "O-F9hwvVyW4R"
      },
      "source": [
        "You should now write a function that returns a generator object that will yield batches of images and labels from the training and test set directories. The generators should:\n",
        "\n",
        "* Generate batches of size 20.\n",
        "* Resize the images to 64 x 64 x 3.\n",
        "* Return one-hot vectors for labels. These should be encoded as follows:\n",
        "    * `classroom` $\\rightarrow$ `[1., 0., 0.]`\n",
        "    * `conference_room` $\\rightarrow$ `[0., 1., 0.]`\n",
        "    * `church_outdoor` $\\rightarrow$ `[0., 0., 1.]`\n",
        "* Pass in an optional random `seed` for shuffling (this should be passed into the `flow_from_directory` method).\n",
        "\n",
        "**Hint:** you may need to refer to the [documentation](https://keras.io/preprocessing/image/#imagedatagenerator-class) for the `ImageDataGenerator`."
      ]
    },
    {
      "cell_type": "code",
      "metadata": {
        "id": "W7GVW4tTyW4S"
      },
      "source": [
        "#### GRADED CELL ####\n",
        "\n",
        "# Complete the following function.\n",
        "# Make sure not to change the function name or arguments.\n",
        "\n",
        "def get_generator(image_data_generator, directory, seed=None):\n",
        "    \"\"\"\n",
        "    This function takes an ImageDataGenerator object in the first argument and a \n",
        "    directory path in the second argument.\n",
        "    It should use the ImageDataGenerator to return a generator object according \n",
        "    to the above specifications. \n",
        "    The seed argument should be passed to the flow_from_directory method.\n",
        "    \"\"\"\n",
        "    \n",
        "    classes = ['classroom', 'conference_room', 'church_outdoor']\n",
        "\n",
        "    return image_data_generator.flow_from_directory(\n",
        "        directory, batch_size=20, target_size=(64, 64), \n",
        "        classes=classes, class_mode=\"categorical\", \n",
        "        shuffle=True, seed=seed)"
      ],
      "execution_count": null,
      "outputs": []
    },
    {
      "cell_type": "code",
      "metadata": {
        "scrolled": true,
        "id": "Vy_O-4wQyW4X"
      },
      "source": [
        "# Run this cell to define training and validation generators\n",
        "\n",
        "train_generator = get_generator(image_gen, train_dir)\n",
        "valid_generator = get_generator(image_gen, valid_dir)"
      ],
      "execution_count": null,
      "outputs": []
    },
    {
      "cell_type": "markdown",
      "metadata": {
        "id": "fdKWTsSqyW4c"
      },
      "source": [
        "We are using a small subset of the dataset for demonstrative purposes in this assignment."
      ]
    },
    {
      "cell_type": "markdown",
      "metadata": {
        "id": "JaxwahWTyW4c"
      },
      "source": [
        "#### Display sample images and labels from the training set\n",
        "\n",
        "The following cell depends on your function `get_generator` to be implemented correctly. If it raises an error, go back and check the function specifications carefully."
      ]
    },
    {
      "cell_type": "code",
      "metadata": {
        "scrolled": false,
        "id": "arbU6bgbyW4d"
      },
      "source": [
        "# Display a few images and labels from the training set\n",
        "\n",
        "batch = next(train_generator)\n",
        "batch_images = np.array(batch[0])\n",
        "batch_labels = np.array(batch[1])\n",
        "lsun_classes = ['classroom', 'conference_room', 'church_outdoor']\n",
        "\n",
        "plt.figure(figsize=(16,10))\n",
        "for i in range(20):\n",
        "    ax = plt.subplot(4, 5, i+1)\n",
        "    plt.imshow(batch_images[i])\n",
        "    plt.title(lsun_classes[np.where(batch_labels[i] == 1.)[0][0]])\n",
        "    plt.axis('off')"
      ],
      "execution_count": null,
      "outputs": []
    },
    {
      "cell_type": "code",
      "metadata": {
        "id": "mKwhj4KkyW4i"
      },
      "source": [
        "# Reset the training generator\n",
        "\n",
        "train_generator = get_generator(image_gen, train_dir)"
      ],
      "execution_count": null,
      "outputs": []
    },
    {
      "cell_type": "markdown",
      "metadata": {
        "id": "CPkjucjfyW4o"
      },
      "source": [
        "#### Build the neural network model\n",
        "\n",
        "You will now build and compile a convolutional neural network classifier. Using the functional API, build your model according to the following specifications:\n",
        "\n",
        "* The model should use the `input_shape` in the function argument to define the Input layer.\n",
        "* The first hidden layer should be a Conv2D layer with 8 filters, a 8x8 kernel size.\n",
        "* The second hidden layer should be a MaxPooling2D layer with a 2x2 pooling window size.\n",
        "* The third hidden layer should be a Conv2D layer with 4 filters, a 4x4 kernel size.\n",
        "* The fourth hidden layer should be a MaxPooling2D layer with a 2x2 pooling window size.\n",
        "* This should be followed by a Flatten layer, and then a Dense layer with 16 units and ReLU activation.\n",
        "* The final layer should be a Dense layer with 3 units and softmax activation.\n",
        "* All Conv2D layers should use `\"SAME\"` padding and a ReLU activation function.\n",
        "\n",
        "In total, the network should have 8 layers. The model should then be compiled with the Adam optimizer with learning rate 0.0005, categorical cross entropy loss, and categorical accuracy metric."
      ]
    },
    {
      "cell_type": "code",
      "metadata": {
        "id": "1fE3jbHYyW4p"
      },
      "source": [
        "#### GRADED CELL ####\n",
        "\n",
        "# Complete the following function.\n",
        "# Make sure not to change the function name or arguments.\n",
        "\n",
        "def get_model(input_shape):\n",
        "    \"\"\"\n",
        "    This function should build and compile a CNN model according to the above specification,\n",
        "    using the functional API. Your function should return the model.\n",
        "    \"\"\"\n",
        "    \n",
        "    inputs = Input(shape=input_shape)\n",
        "    conv2d_01 = Conv2D(8, (8, 8), activation='relu', \n",
        "        padding='same')(inputs)\n",
        "    maxpool2d_01 = MaxPooling2D((2, 2))(conv2d_01)\n",
        "    conv2d_02 = Conv2D(4, (4, 4), activation='relu', \n",
        "        padding='same')(maxpool2d_01)\n",
        "    maxpool2d_02 = MaxPooling2D((2, 2))(conv2d_02)\n",
        "    flatten_01 = Flatten()(maxpool2d_02)\n",
        "    dense_01 = Dense(16, activation='relu')(flatten_01)\n",
        "    outputs = Dense(3, activation='softmax')(dense_01)\n",
        "\n",
        "    model = Model(inputs=inputs, outputs=outputs)\n",
        "\n",
        "    model.compile(optimizer=Adam(5e-4), \n",
        "        loss='categorical_crossentropy', metrics=['accuracy'])\n",
        "    \n",
        "    return model"
      ],
      "execution_count": null,
      "outputs": []
    },
    {
      "cell_type": "code",
      "metadata": {
        "id": "BN7gVfobyW4s"
      },
      "source": [
        "# Build and compile the model, print the model summary\n",
        "\n",
        "lsun_model = get_model((64, 64, 3))\n",
        "lsun_model.summary()"
      ],
      "execution_count": null,
      "outputs": []
    },
    {
      "cell_type": "markdown",
      "metadata": {
        "id": "RsKeOkJiyW4x"
      },
      "source": [
        "#### Train the neural network model\n",
        "\n",
        "You should now write a function to train the model for a specified number of epochs (specified in the `epochs` argument). The function takes a `model` argument, as well as `train_gen` and `valid_gen` arguments for the training and validation generators respectively, which you should use for training and validation data in the training run. You should also use the following callbacks:\n",
        "\n",
        "* An `EarlyStopping` callback that monitors the validation accuracy and has patience set to 10. \n",
        "* A `ReduceLROnPlateau` callback that monitors the validation loss and has the factor set to 0.5 and minimum learning set to 0.0001\n",
        "\n",
        "Your function should return the training history."
      ]
    },
    {
      "cell_type": "code",
      "metadata": {
        "scrolled": true,
        "id": "uZdMH9nyyW4y"
      },
      "source": [
        "#### GRADED CELL ####\n",
        "\n",
        "# Complete the following function.\n",
        "# Make sure not to change the function name or arguments.\n",
        "\n",
        "def train_model(model, train_gen, valid_gen, epochs):\n",
        "    \"\"\"\n",
        "    This function should define the callback objects specified above, and then use the\n",
        "    train_gen and valid_gen generator object arguments to train the model for the (maximum) \n",
        "    number of epochs specified in the function argument, using the defined callbacks.\n",
        "    The function should return the training history.\n",
        "    \"\"\"\n",
        "    \n",
        "    earlystopping = EarlyStopping(monitor='val_accuracy', patience=10)\n",
        "    reduce_lr = ReduceLROnPlateau(monitor='val_loss', factor=0.5, \n",
        "        min_lr=1e-4)\n",
        "    \n",
        "    train_steps_per_epoch = train_gen.n // train_gen.batch_size\n",
        "    val_steps = valid_gen.n // valid_gen.batch_size\n",
        "\n",
        "    return model.fit_generator(train_gen, validation_data=valid_gen,\n",
        "        steps_per_epoch=train_steps_per_epoch, \n",
        "        validation_steps=val_steps, epochs=epochs, \n",
        "        callbacks=[earlystopping, reduce_lr])"
      ],
      "execution_count": null,
      "outputs": []
    },
    {
      "cell_type": "code",
      "metadata": {
        "scrolled": true,
        "id": "ngrlFVs2yW40"
      },
      "source": [
        "# Train the model for (maximum) 50 epochs\n",
        "\n",
        "history = train_model(lsun_model, train_generator, valid_generator, \n",
        "    epochs=50)"
      ],
      "execution_count": null,
      "outputs": []
    },
    {
      "cell_type": "markdown",
      "metadata": {
        "id": "EVfwgc7TyW45"
      },
      "source": [
        "#### Plot the learning curves"
      ]
    },
    {
      "cell_type": "code",
      "metadata": {
        "id": "XQdtODtqyW45"
      },
      "source": [
        "# Run this cell to plot accuracy vs epoch and loss vs epoch\n",
        "\n",
        "plt.figure(figsize=(15,5))\n",
        "plt.subplot(121)\n",
        "try:\n",
        "    plt.plot(history.history['accuracy'])\n",
        "    plt.plot(history.history['val_accuracy'])\n",
        "except KeyError:\n",
        "    try:\n",
        "        plt.plot(history.history['acc'])\n",
        "        plt.plot(history.history['val_acc'])\n",
        "    except KeyError:\n",
        "        plt.plot(history.history['categorical_accuracy'])\n",
        "        plt.plot(history.history['val_categorical_accuracy'])\n",
        "plt.title('Accuracy vs. epochs')\n",
        "plt.ylabel('Accuracy')\n",
        "plt.xlabel('Epoch')\n",
        "plt.legend(['Training', 'Validation'], loc='lower right')\n",
        "\n",
        "plt.subplot(122)\n",
        "plt.plot(history.history['loss'])\n",
        "plt.plot(history.history['val_loss'])\n",
        "plt.title('Loss vs. epochs')\n",
        "plt.ylabel('Loss')\n",
        "plt.xlabel('Epoch')\n",
        "plt.legend(['Training', 'Validation'], loc='upper right')\n",
        "plt.show() "
      ],
      "execution_count": null,
      "outputs": []
    },
    {
      "cell_type": "markdown",
      "metadata": {
        "id": "z4jAKGgmyW49"
      },
      "source": [
        "You may notice overfitting in the above plots, through a growing discrepancy between the training and validation loss and accuracy. We will aim to mitigate this using data augmentation. Given our limited dataset, we may be able to improve the performance by applying random modifications to the images in the training data, effectively increasing the size of the dataset."
      ]
    },
    {
      "cell_type": "markdown",
      "metadata": {
        "id": "ZTiA9A20yW4-"
      },
      "source": [
        "#### Create a new data generator with data augmentation\n",
        "\n",
        "You should now write a function to create a new `ImageDataGenerator` object, which performs the following data preprocessing and augmentation:\n",
        "\n",
        "* Scales the image pixel values by a factor of 1/255.\n",
        "* Randomly rotates images by up to 30 degrees\n",
        "* Randomly alters the brightness (picks a brightness shift value) from the range (0.5, 1.5)\n",
        "* Randomly flips images horizontally\n",
        "\n",
        "Hint: you may need to refer to the [documentation](https://keras.io/preprocessing/image/#imagedatagenerator-class) for the `ImageDataGenerator`."
      ]
    },
    {
      "cell_type": "code",
      "metadata": {
        "id": "F7LSNvrLyW4_"
      },
      "source": [
        "#### GRADED CELL ####\n",
        "\n",
        "# Complete the following function. \n",
        "# Make sure to not change the function name or arguments.\n",
        "\n",
        "def get_ImageDataGenerator_augmented():\n",
        "    \"\"\"\n",
        "    This function should return an instance of the ImageDataGenerator class \n",
        "    with the above specifications.\n",
        "    \"\"\"\n",
        "    \n",
        "    return ImageDataGenerator(rescale=1/255., rotation_range=30, \n",
        "        brightness_range=[0.5, 1.5], horizontal_flip=True)"
      ],
      "execution_count": null,
      "outputs": []
    },
    {
      "cell_type": "code",
      "metadata": {
        "id": "oA-d8wy-yW5B"
      },
      "source": [
        "# Call the function to get an ImageDataGenerator as specified\n",
        "\n",
        "image_gen_aug = get_ImageDataGenerator_augmented()"
      ],
      "execution_count": null,
      "outputs": []
    },
    {
      "cell_type": "code",
      "metadata": {
        "id": "v61VMxK5yW5F"
      },
      "source": [
        "# Run this cell to define training and validation generators \n",
        "\n",
        "valid_generator_aug = get_generator(image_gen_aug, valid_dir)\n",
        "train_generator_aug = get_generator(image_gen_aug, train_dir, seed=10)"
      ],
      "execution_count": null,
      "outputs": []
    },
    {
      "cell_type": "code",
      "metadata": {
        "id": "cwSpgsw3yW5K"
      },
      "source": [
        "# Reset the original train_generator with the same random seed\n",
        "\n",
        "train_generator = get_generator(image_gen, train_dir, seed=10)"
      ],
      "execution_count": null,
      "outputs": []
    },
    {
      "cell_type": "markdown",
      "metadata": {
        "id": "GDkacx-xyW5M"
      },
      "source": [
        "#### Display sample augmented images and labels from the training set\n",
        "\n",
        "The following cell depends on your function `get_generator` to be implemented correctly. If it raises an error, go back and check the function specifications carefully. \n",
        "\n",
        "The cell will display augmented and non-augmented images (and labels) from the training dataset, using the `train_generator_aug` and `train_generator` objects defined above (if the images do not correspond to each other, check you have implemented the `seed` argument correctly)."
      ]
    },
    {
      "cell_type": "code",
      "metadata": {
        "scrolled": false,
        "id": "aR9vvOlyyW5O"
      },
      "source": [
        "# Display a few images and labels from the non-augmented and augmented generators\n",
        "\n",
        "batch = next(train_generator)\n",
        "batch_images = np.array(batch[0])\n",
        "batch_labels = np.array(batch[1])\n",
        "\n",
        "aug_batch = next(train_generator_aug)\n",
        "aug_batch_images = np.array(aug_batch[0])\n",
        "aug_batch_labels = np.array(aug_batch[1])\n",
        "\n",
        "plt.figure(figsize=(16,5))\n",
        "plt.suptitle(\"Unaugmented images\", fontsize=16)\n",
        "for n, i in enumerate(np.arange(10)):\n",
        "    ax = plt.subplot(2, 5, n+1)\n",
        "    plt.imshow(batch_images[i])\n",
        "    plt.title(lsun_classes[np.where(batch_labels[i] == 1.)[0][0]])\n",
        "    plt.axis('off')\n",
        "plt.figure(figsize=(16,5))\n",
        "plt.suptitle(\"Augmented images\", fontsize=16)\n",
        "for n, i in enumerate(np.arange(10)):\n",
        "    ax = plt.subplot(2, 5, n+1)\n",
        "    plt.imshow(aug_batch_images[i])\n",
        "    plt.title(lsun_classes[np.where(aug_batch_labels[i] == 1.)[0][0]])\n",
        "    plt.axis('off')"
      ],
      "execution_count": null,
      "outputs": []
    },
    {
      "cell_type": "code",
      "metadata": {
        "id": "nMPwzDJSyW5X"
      },
      "source": [
        "# Reset the augmented data generator\n",
        "\n",
        "train_generator_aug = get_generator(image_gen_aug, train_dir)"
      ],
      "execution_count": null,
      "outputs": []
    },
    {
      "cell_type": "markdown",
      "metadata": {
        "id": "U99VDj61yW5a"
      },
      "source": [
        "#### Train a new model on the augmented dataset"
      ]
    },
    {
      "cell_type": "code",
      "metadata": {
        "id": "XVFnYTdGyW5b"
      },
      "source": [
        "# Build and compile a new model\n",
        "\n",
        "lsun_new_model = get_model((64, 64, 3))"
      ],
      "execution_count": null,
      "outputs": []
    },
    {
      "cell_type": "code",
      "metadata": {
        "scrolled": true,
        "id": "1ddg5oOVyW5f"
      },
      "source": [
        "# Train the model\n",
        "\n",
        "history_augmented = train_model(lsun_new_model, train_generator_aug, \n",
        "    valid_generator_aug, epochs=50)"
      ],
      "execution_count": null,
      "outputs": []
    },
    {
      "cell_type": "markdown",
      "metadata": {
        "id": "kLAGcqGYyW5h"
      },
      "source": [
        "#### Plot the learning curves"
      ]
    },
    {
      "cell_type": "code",
      "metadata": {
        "scrolled": true,
        "id": "wxLuPwQ8yW5s"
      },
      "source": [
        "# Run this cell to plot accuracy vs epoch and loss vs epoch\n",
        "\n",
        "plt.figure(figsize=(15,5))\n",
        "plt.subplot(121)\n",
        "try:\n",
        "    plt.plot(history_augmented.history['accuracy'])\n",
        "    plt.plot(history_augmented.history['val_accuracy'])\n",
        "except KeyError:\n",
        "    try:\n",
        "        plt.plot(history_augmented.history['acc'])\n",
        "        plt.plot(history_augmented.history['val_acc'])\n",
        "    except KeyError:\n",
        "        plt.plot(history_augmented.history['categorical_accuracy'])\n",
        "        plt.plot(history_augmented.history['val_categorical_accuracy'])\n",
        "plt.title('Accuracy vs. epochs')\n",
        "plt.ylabel('Accuracy')\n",
        "plt.xlabel('Epoch')\n",
        "plt.legend(['Training', 'Validation'], loc='lower right')\n",
        "\n",
        "plt.subplot(122)\n",
        "plt.plot(history_augmented.history['loss'])\n",
        "plt.plot(history_augmented.history['val_loss'])\n",
        "plt.title('Loss vs. epochs')\n",
        "plt.ylabel('Loss')\n",
        "plt.xlabel('Epoch')\n",
        "plt.legend(['Training', 'Validation'], loc='upper right')\n",
        "plt.show() "
      ],
      "execution_count": null,
      "outputs": []
    },
    {
      "cell_type": "markdown",
      "metadata": {
        "id": "2Lfo2zq2yW5w"
      },
      "source": [
        "Do you see an improvement in the overfitting? This will of course vary based on your particular run and whether you have altered the hyperparameters."
      ]
    },
    {
      "cell_type": "markdown",
      "metadata": {
        "id": "pUSpanL2yW5w"
      },
      "source": [
        "#### Get predictions using the trained model"
      ]
    },
    {
      "cell_type": "code",
      "metadata": {
        "id": "Za49mIOryW5x"
      },
      "source": [
        "# Get model predictions for the first 3 batches of test data\n",
        "\n",
        "num_batches = 3\n",
        "seed = 25\n",
        "test_generator = get_generator(image_gen_aug, test_dir, seed=seed)\n",
        "predictions = lsun_new_model.predict_generator(\n",
        "    test_generator, steps=num_batches)"
      ],
      "execution_count": null,
      "outputs": []
    },
    {
      "cell_type": "code",
      "metadata": {
        "id": "AtZcwg6eyW5z"
      },
      "source": [
        "# Run this cell to view randomly selected images and model predictions\n",
        "\n",
        "# Get images and ground truth labels\n",
        "test_generator = get_generator(image_gen_aug, test_dir, seed=seed)\n",
        "batches = []\n",
        "for i in range(num_batches):\n",
        "    batches.append(next(test_generator))\n",
        "    \n",
        "batch_images = np.vstack([b[0] for b in batches])\n",
        "batch_labels = np.concatenate([b[1].astype(np.int32) for b in batches])\n",
        "\n",
        "# Randomly select images from the batch\n",
        "inx = np.random.choice(predictions.shape[0], 4, replace=False)\n",
        "print(inx)\n",
        "\n",
        "fig, axes = plt.subplots(4, 2, figsize=(16, 12))\n",
        "fig.subplots_adjust(hspace=0.4, wspace=-0.2)\n",
        "\n",
        "for n, i in enumerate(inx):\n",
        "    axes[n, 0].imshow(batch_images[i])\n",
        "    axes[n, 0].get_xaxis().set_visible(False)\n",
        "    axes[n, 0].get_yaxis().set_visible(False)\n",
        "    axes[n, 0].text(30., -3.5, \n",
        "        lsun_classes[np.where(batch_labels[i] == 1.)[0][0]], \n",
        "        horizontalalignment='center')\n",
        "    axes[n, 1].bar(np.arange(len(predictions[i])), predictions[i])\n",
        "    axes[n, 1].set_xticks(np.arange(len(predictions[i])))\n",
        "    axes[n, 1].set_xticklabels(lsun_classes)\n",
        "    axes[n, 1].set_title(f\"Categorical distribution. Model prediction: {lsun_classes[np.argmax(predictions[i])]}\")\n",
        "    \n",
        "plt.show()"
      ],
      "execution_count": null,
      "outputs": []
    },
    {
      "cell_type": "markdown",
      "metadata": {
        "id": "LGbKnclHyW52"
      },
      "source": [
        "Congratulations! This completes the first part of the programming assignment using the tf.keras image data processing tools."
      ]
    },
    {
      "cell_type": "markdown",
      "metadata": {
        "id": "p9HuvITayW54"
      },
      "source": [
        "### Part 2: tf.data\n",
        "\n",
        "![CIFAR-100 overview image](https://github.com/MengOonLee/Deep_learning/blob/master/TensorFlow2/Tutorial/image/cifar100/cifar100.png?raw=1)\n",
        "\n",
        "#### The CIFAR-100 Dataset"
      ]
    },
    {
      "cell_type": "markdown",
      "metadata": {
        "id": "0EuTxW41yW56"
      },
      "source": [
        "In the second part of this assignment, you will use the [CIFAR-100 dataset](https://www.cs.toronto.edu/~kriz/cifar.html). This image dataset has 100 classes with 500 training images and 100 test images per class. \n",
        "\n",
        "* A. Krizhevsky. \"Learning Multiple Layers of Features from Tiny Images\". April 2009 \n",
        "\n",
        "Your goal is to use the tf.data module preprocessing tools to construct a data ingestion pipeline including filtering and function mapping over the dataset to train a neural network to classify the images."
      ]
    },
    {
      "cell_type": "markdown",
      "metadata": {
        "id": "oYP5zMs6yW56"
      },
      "source": [
        "#### Load the dataset"
      ]
    },
    {
      "cell_type": "code",
      "metadata": {
        "scrolled": true,
        "id": "nedJNIREyW56"
      },
      "source": [
        "# Load the data, along with the labels\n",
        "\n",
        "(train_data, train_labels), (test_data, test_labels) = \\\n",
        "    cifar100.load_data(label_mode='fine')\n",
        "with open('./label/cifar100/cifar100_labels.json', 'r') as j:\n",
        "    cifar_labels = json.load(j)"
      ],
      "execution_count": null,
      "outputs": []
    },
    {
      "cell_type": "markdown",
      "metadata": {
        "id": "cUY9IKqgyW58"
      },
      "source": [
        "#### Display sample images and labels from the training set"
      ]
    },
    {
      "cell_type": "code",
      "metadata": {
        "scrolled": false,
        "id": "u31HVpdayW59"
      },
      "source": [
        "# Display a few images and labels\n",
        "\n",
        "plt.figure(figsize=(15,8))\n",
        "inx = np.random.choice(train_data.shape[0], 32, replace=False)\n",
        "for n, i in enumerate(inx):\n",
        "    ax = plt.subplot(4, 8, n+1)\n",
        "    plt.imshow(train_data[i])\n",
        "    plt.title(cifar_labels[int(train_labels[i])])\n",
        "    plt.axis('off')"
      ],
      "execution_count": null,
      "outputs": []
    },
    {
      "cell_type": "markdown",
      "metadata": {
        "id": "9vM-CmFZyW6A"
      },
      "source": [
        "#### Create Dataset objects for the train and test images\n",
        "\n",
        "You should now write a function to create a `tf.data.Dataset` object for each of the training and test images and labels. This function should take a numpy array of images in the first argument and a numpy array of labels in the second argument, and create a `Dataset` object. \n",
        "\n",
        "Your function should then return the `Dataset` object. Do not batch or shuffle the `Dataset` (this will be done later)."
      ]
    },
    {
      "cell_type": "code",
      "metadata": {
        "id": "OSKEkV61yW6A"
      },
      "source": [
        "#### GRADED CELL ####\n",
        "\n",
        "# Complete the following function. \n",
        "# Make sure to not change the function name or arguments.\n",
        "\n",
        "def create_dataset(data, labels):\n",
        "    \"\"\"\n",
        "    This function takes a numpy array batch of images in the first argument, and\n",
        "    a corresponding array containing the labels in the second argument.\n",
        "    The function should then create a tf.data.Dataset object with these inputs\n",
        "    and outputs, and return it.\n",
        "    \"\"\"\n",
        "\n",
        "    return tf.data.Dataset.from_tensor_slices((data, labels))"
      ],
      "execution_count": null,
      "outputs": []
    },
    {
      "cell_type": "code",
      "metadata": {
        "id": "K4a1G3GHyW6E"
      },
      "source": [
        "# Run the below cell to convert the training and test data and labels into datasets\n",
        "\n",
        "train_dataset = create_dataset(train_data, train_labels)\n",
        "test_dataset = create_dataset(test_data, test_labels)"
      ],
      "execution_count": null,
      "outputs": []
    },
    {
      "cell_type": "code",
      "metadata": {
        "id": "J3xGV5bWyW6H"
      },
      "source": [
        "# Check the element_spec of your datasets\n",
        "\n",
        "print(train_dataset.element_spec)\n",
        "print(test_dataset.element_spec)"
      ],
      "execution_count": null,
      "outputs": []
    },
    {
      "cell_type": "markdown",
      "metadata": {
        "id": "Y0UPSYNHyW6J"
      },
      "source": [
        "#### Filter the Dataset\n",
        "\n",
        "Write a function to filter the train and test datasets so that they only generate images that belong to a specified set of classes. \n",
        "\n",
        "The function should take a `Dataset` object in the first argument, and a list of integer class indices in the second argument. Inside your function you should define an auxiliary function that you will use with the `filter` method of the `Dataset` object. This auxiliary function should take image and label arguments (as in the `element_spec`) for a single element in the batch, and return a boolean indicating if the label is one of the allowed classes. \n",
        "\n",
        "Your function should then return the filtered dataset.\n",
        "\n",
        "**Hint:** you may need to use the [`tf.equal`](https://www.tensorflow.org/api_docs/python/tf/math/equal), [`tf.cast`](https://www.tensorflow.org/api_docs/python/tf/dtypes/cast) and [`tf.math.reduce_any`](https://www.tensorflow.org/api_docs/python/tf/math/reduce_any) functions in your auxiliary function. "
      ]
    },
    {
      "cell_type": "code",
      "metadata": {
        "id": "y73DozELyW6J"
      },
      "source": [
        "#### GRADED CELL ####\n",
        "\n",
        "# Complete the following function. \n",
        "# Make sure to not change the function name or arguments.\n",
        "\n",
        "def filter_classes(dataset, classes):\n",
        "    \"\"\"\n",
        "    This function should filter the dataset by only retaining dataset elements whose\n",
        "    label belongs to one of the integers in the classes list.\n",
        "    The function should then return the filtered Dataset object.\n",
        "    \"\"\"\n",
        "    \n",
        "    def filter_fn(image, label):\n",
        "        label = tf.cast(label, tf.int32)\n",
        "        allowed_label = tf.cast(classes, tf.int32)\n",
        "        isallowed = tf.equal(label, allowed_label)\n",
        "        return tf.math.reduce_any(isallowed)\n",
        "    \n",
        "    return dataset.filter(filter_fn)"
      ],
      "execution_count": null,
      "outputs": []
    },
    {
      "cell_type": "code",
      "metadata": {
        "id": "4okyA-_RyW6M"
      },
      "source": [
        "# Run the below cell to filter the datasets using your function\n",
        "\n",
        "cifar_classes = [0, 29, 99] # Your datasets should contain only classes in this list\n",
        "\n",
        "train_dataset = filter_classes(train_dataset, cifar_classes)\n",
        "test_dataset = filter_classes(test_dataset, cifar_classes)"
      ],
      "execution_count": null,
      "outputs": []
    },
    {
      "cell_type": "markdown",
      "metadata": {
        "id": "Zfb_US8oyW6N"
      },
      "source": [
        "#### Apply map functions to the Dataset\n",
        "\n",
        "You should now write two functions that use the `map` method to process the images and labels in the filtered dataset. \n",
        "\n",
        "The first function should one-hot encode the remaining labels so that we can train the network using a categorical cross entropy loss. \n",
        "\n",
        "The function should take a `Dataset` object as an argument. Inside your function you should define an auxiliary function that you will use with the `map` method of the `Dataset` object. This auxiliary function should take image and label arguments (as in the `element_spec`) for a single element in the batch, and return a tuple of two elements, with the unmodified image in the first element, and a one-hot vector in the second element. The labels should be encoded according to the following:\n",
        "\n",
        "* Class 0 maps to `[1., 0., 0.]`\n",
        "* Class 29 maps to `[0., 1., 0.]`\n",
        "* Class 99 maps to `[0., 0., 1.]`\n",
        "\n",
        "Your function should then return the mapped dataset."
      ]
    },
    {
      "cell_type": "code",
      "metadata": {
        "id": "nW6qleFByW6O"
      },
      "source": [
        "#### GRADED CELL ####\n",
        "\n",
        "# Complete the following function. \n",
        "# Make sure to not change the function name or arguments.\n",
        "\n",
        "def map_labels(dataset):\n",
        "    \"\"\"\n",
        "    This function should map over the dataset to convert the label to a \n",
        "    one-hot vector. The encoding should be done according to the above specification.\n",
        "    The function should then return the mapped Dataset object.\n",
        "    \"\"\"\n",
        "    \n",
        "    def map_fn(image, label):\n",
        "        label = tf.cast(label, dtype=tf.int32)\n",
        "        classes = tf.cast([0, 29, 99], dtype=tf.int32)\n",
        "        if label == classes[0]:\n",
        "            label = tf.one_hot(indices=0, depth=3)\n",
        "        elif label == classes[1]:\n",
        "            label = tf.one_hot(indices=1, depth=3)\n",
        "        else:\n",
        "            label = tf.one_hot(indices=2, depth=3)\n",
        "        return (image, label)\n",
        "    \n",
        "    return dataset.map(map_fn)"
      ],
      "execution_count": null,
      "outputs": []
    },
    {
      "cell_type": "code",
      "metadata": {
        "id": "Y9OFSqSPyW6Q"
      },
      "source": [
        "# Run the below cell to one-hot encode the training and test labels.\n",
        "\n",
        "train_dataset = map_labels(train_dataset)\n",
        "test_dataset = map_labels(test_dataset)"
      ],
      "execution_count": null,
      "outputs": []
    },
    {
      "cell_type": "markdown",
      "metadata": {
        "id": "nynP-bqMyW6S"
      },
      "source": [
        "The second function should process the images according to the following specification:\n",
        "\n",
        "* Rescale the image pixel values by a factor of 1/255.\n",
        "* Convert the colour images (3 channels) to black and white images (single channel) by computing the average pixel value across all channels. \n",
        "\n",
        "The function should take a `Dataset` object as an argument. Inside your function you should again define an auxiliary function that you will use with the `map` method of the `Dataset` object. This auxiliary function should take image and label arguments (as in the `element_spec`) for a single element in the batch, and return a tuple of two elements, with the processed image in the first element, and the unmodified label in the second argument.\n",
        "\n",
        "Your function should then return the mapped dataset.\n",
        "\n",
        "**Hint:** you may find it useful to use [`tf.reduce_mean`](https://www.tensorflow.org/api_docs/python/tf/math/reduce_mean?version=stable) since the black and white image is the colour-average of the colour images. You can also use the `keepdims` keyword in `tf.reduce_mean` to retain the single colour channel."
      ]
    },
    {
      "cell_type": "code",
      "metadata": {
        "id": "n6uksEWgyW6T"
      },
      "source": [
        "#### GRADED CELL ####\n",
        "\n",
        "# Complete the following function. \n",
        "# Make sure to not change the function name or arguments.\n",
        "\n",
        "def map_images(dataset):\n",
        "    \"\"\"\n",
        "    This function should map over the dataset to process the image according to the \n",
        "    above specification. The function should then return the mapped Dataset object.\n",
        "    \"\"\"\n",
        "    \n",
        "    def map_fn(image, label):\n",
        "        image = tf.cast(image, dtype=tf.float32)/255.\n",
        "        image = tf.reduce_mean(image, axis=-1, keepdims=True)\n",
        "        return (image, label)\n",
        "        \n",
        "    return dataset.map(map_fn)"
      ],
      "execution_count": null,
      "outputs": []
    },
    {
      "cell_type": "code",
      "metadata": {
        "id": "d6GVeFOsyW6V"
      },
      "source": [
        "# Run the below cell to apply your mapping function to the datasets\n",
        "\n",
        "train_dataset_bw = map_images(train_dataset)\n",
        "test_dataset_bw = map_images(test_dataset)"
      ],
      "execution_count": null,
      "outputs": []
    },
    {
      "cell_type": "markdown",
      "metadata": {
        "id": "avqPYRTTyW6X"
      },
      "source": [
        "#### Display a batch of processed images"
      ]
    },
    {
      "cell_type": "code",
      "metadata": {
        "id": "PRknCe2WyW6Y"
      },
      "source": [
        "# Run this cell to view a selection of images before and after processing\n",
        "\n",
        "plt.figure(figsize=(16,5))\n",
        "plt.suptitle(\"Unprocessed images\", fontsize=16)\n",
        "for n, elem in enumerate(train_dataset.take(10)):\n",
        "    images, labels = elem\n",
        "    ax = plt.subplot(2, 5, n+1)\n",
        "    plt.title(cifar_labels[cifar_classes[np.where(labels == 1.)[0][0]]])\n",
        "    plt.imshow(np.squeeze(images), cmap='gray')\n",
        "    plt.axis('off')\n",
        "    \n",
        "plt.figure(figsize=(16,5))\n",
        "plt.suptitle(\"Processed images\", fontsize=16)\n",
        "for n, elem in enumerate(train_dataset_bw.take(10)):\n",
        "    images_bw, labels_bw = elem\n",
        "    ax = plt.subplot(2, 5, n+1)\n",
        "    plt.title(cifar_labels[cifar_classes[np.where(labels_bw == 1.)[0][0]]])\n",
        "    plt.imshow(np.squeeze(images_bw), cmap='gray')\n",
        "    plt.axis('off')"
      ],
      "execution_count": null,
      "outputs": []
    },
    {
      "cell_type": "markdown",
      "metadata": {
        "id": "lTnR4qCDyW6Z"
      },
      "source": [
        "We will now batch and shuffle the Dataset objects."
      ]
    },
    {
      "cell_type": "code",
      "metadata": {
        "id": "6p6zTn0LyW6a"
      },
      "source": [
        "# Run the below cell to batch the training dataset and expand the final dimensinos\n",
        "\n",
        "train_dataset_bw = train_dataset_bw.batch(10)\n",
        "train_dataset_bw = train_dataset_bw.shuffle(100)\n",
        "\n",
        "test_dataset_bw = test_dataset_bw.batch(10)\n",
        "test_dataset_bw = test_dataset_bw.shuffle(100)"
      ],
      "execution_count": null,
      "outputs": []
    },
    {
      "cell_type": "markdown",
      "metadata": {
        "id": "vzRJZ-YSyW6d"
      },
      "source": [
        "#### Train a neural network model\n",
        "\n",
        "Now we will train a model using the `Dataset` objects. We will use the model specification and function from the first part of this assignment, only modifying the size of the input images."
      ]
    },
    {
      "cell_type": "code",
      "metadata": {
        "id": "tA_P6FsYyW6e"
      },
      "source": [
        "# Build and compile a new model with our original spec, using the new image size\n",
        "    \n",
        "cifar_model = get_model((32, 32, 1))"
      ],
      "execution_count": null,
      "outputs": []
    },
    {
      "cell_type": "code",
      "metadata": {
        "scrolled": true,
        "id": "rbcH6TJeyW6g"
      },
      "source": [
        "# Train the model for 15 epochs\n",
        "\n",
        "history = cifar_model.fit(train_dataset_bw, validation_data=test_dataset_bw, epochs=15)"
      ],
      "execution_count": null,
      "outputs": []
    },
    {
      "cell_type": "markdown",
      "metadata": {
        "id": "MGYBPAlkyW6j"
      },
      "source": [
        "#### Plot the learning curves"
      ]
    },
    {
      "cell_type": "code",
      "metadata": {
        "id": "_6hM-Eh8yW6j"
      },
      "source": [
        "# Run this cell to plot accuracy vs epoch and loss vs epoch\n",
        "\n",
        "plt.figure(figsize=(15,5))\n",
        "plt.subplot(121)\n",
        "try:\n",
        "    plt.plot(history.history['accuracy'])\n",
        "    plt.plot(history.history['val_accuracy'])\n",
        "except KeyError:\n",
        "    try:\n",
        "        plt.plot(history.history['acc'])\n",
        "        plt.plot(history.history['val_acc'])\n",
        "    except KeyError:\n",
        "        plt.plot(history.history['categorical_accuracy'])\n",
        "        plt.plot(history.history['val_categorical_accuracy'])\n",
        "plt.title('Accuracy vs. epochs')\n",
        "plt.ylabel('Accuracy')\n",
        "plt.xlabel('Epoch')\n",
        "plt.legend(['Training', 'Validation'], loc='lower right')\n",
        "\n",
        "plt.subplot(122)\n",
        "plt.plot(history.history['loss'])\n",
        "plt.plot(history.history['val_loss'])\n",
        "plt.title('Loss vs. epochs')\n",
        "plt.ylabel('Loss')\n",
        "plt.xlabel('Epoch')\n",
        "plt.legend(['Training', 'Validation'], loc='upper right')\n",
        "plt.show() "
      ],
      "execution_count": null,
      "outputs": []
    },
    {
      "cell_type": "code",
      "metadata": {
        "id": "CEPcOOwoyW6n"
      },
      "source": [
        "# Create an iterable from the batched test dataset\n",
        "\n",
        "test_dataset = test_dataset.batch(10)\n",
        "iter_test_dataset = iter(test_dataset)"
      ],
      "execution_count": null,
      "outputs": []
    },
    {
      "cell_type": "code",
      "metadata": {
        "id": "NM1NlFjRyW6o"
      },
      "source": [
        "# Display model predictions for a sample of test images\n",
        "\n",
        "plt.figure(figsize=(15,8))\n",
        "inx = np.random.choice(test_data.shape[0], 18, replace=False)\n",
        "images, labels = next(iter_test_dataset)\n",
        "probs = cifar_model(tf.reduce_mean(tf.cast(images, tf.float32), axis=-1, keepdims=True) / 255.)\n",
        "preds = np.argmax(probs, axis=1)\n",
        "for n in range(10):\n",
        "    ax = plt.subplot(2, 5, n+1)\n",
        "    plt.imshow(images[n])\n",
        "    plt.title(cifar_labels[cifar_classes[np.where(labels[n].numpy() == 1.0)[0][0]]])\n",
        "    plt.text(0, 35, \"Model prediction: {}\".format(cifar_labels[cifar_classes[preds[n]]]))\n",
        "    plt.axis('off')"
      ],
      "execution_count": null,
      "outputs": []
    },
    {
      "cell_type": "markdown",
      "metadata": {
        "id": "eXXyfUMxyW6s"
      },
      "source": [
        "Congratulations for completing this programming assignment! In the next week of the course we will learn to develop models for sequential data."
      ]
    }
  ]
}