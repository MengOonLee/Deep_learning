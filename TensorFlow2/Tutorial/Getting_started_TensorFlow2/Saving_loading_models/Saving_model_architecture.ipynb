{
 "cells": [
  {
   "cell_type": "markdown",
   "metadata": {
    "colab_type": "text",
    "id": "view-in-github"
   },
   "source": [
    "<a href=\"https://colab.research.google.com/github/MengOonLee/Deep_learning/blob/master/TensorFlow2/Tutorial/Getting_started_TensorFlow2/Saving_loading_models/Saving_model_architecture.ipynb\" target=\"_parent\"><img src=\"https://colab.research.google.com/assets/colab-badge.svg\" alt=\"Open In Colab\"/></a>"
   ]
  },
  {
   "cell_type": "markdown",
   "metadata": {
    "id": "YiJFHhDF9Ucx"
   },
   "source": [
    "# Saving model architecture only\n",
    "\n",
    "In this reading you will learn how to save a model's architecture, but not its weights."
   ]
  },
  {
   "cell_type": "code",
   "execution_count": null,
   "metadata": {
    "colab": {
     "base_uri": "https://localhost:8080/"
    },
    "id": "xaW4tp7Z9Ucz",
    "outputId": "722ffddd-b3db-444c-9bf5-ab182025a9ef"
   },
   "outputs": [
    {
     "name": "stdout",
     "output_type": "stream",
     "text": [
      "2.3.0\n"
     ]
    }
   ],
   "source": [
    "import json\n",
    "import numpy as np\n",
    "\n",
    "import tensorflow as tf\n",
    "print(tf.__version__)\n",
    "\n",
    "from tensorflow.keras.models import Sequential, model_from_json\n",
    "from tensorflow.keras.layers import Dense"
   ]
  },
  {
   "cell_type": "markdown",
   "metadata": {
    "id": "Z_4WHJ8F9Uc9"
   },
   "source": [
    "In previous videos and notebooks you have learned how to save a model's weights, as well as the entire model - weights and architecture."
   ]
  },
  {
   "cell_type": "markdown",
   "metadata": {
    "id": "zP2lw9x89UdC"
   },
   "source": [
    "### Accessing a model's configuration\n",
    "\n",
    "A model's *configuration* refers to its architecture. TensorFlow has a convenient way to retrieve a model's architecture as a dictionary. We start by creating a simple fully connected feedforward neural network with 1 hidden layer."
   ]
  },
  {
   "cell_type": "code",
   "execution_count": null,
   "metadata": {
    "id": "lgXNgVZH9UdD"
   },
   "outputs": [],
   "source": [
    "# Build the model\n",
    "model = Sequential([\n",
    "    Dense(units=32, input_shape=(32, 32, 3), activation='relu', \n",
    "        name='dense_1'),\n",
    "    Dense(units=10, activation='softmax', name='dense_2')])"
   ]
  },
  {
   "cell_type": "markdown",
   "metadata": {
    "id": "TJcAEJZT9UdJ"
   },
   "source": [
    "A TensorFlow model has an inbuilt method `get_config` which returns the model's architecture as a dictionary:"
   ]
  },
  {
   "cell_type": "code",
   "execution_count": null,
   "metadata": {
    "colab": {
     "base_uri": "https://localhost:8080/"
    },
    "id": "Jgtuygvm9UdL",
    "outputId": "c88697de-555b-4f99-c4ec-fe2a6d9c000e"
   },
   "outputs": [
    {
     "name": "stdout",
     "output_type": "stream",
     "text": [
      "{'name': 'sequential', 'layers': [{'class_name': 'InputLayer', 'config': {'batch_input_shape': (None, 32, 32, 3), 'dtype': 'float32', 'sparse': False, 'ragged': False, 'name': 'dense_1_input'}}, {'class_name': 'Dense', 'config': {'name': 'dense_1', 'trainable': True, 'batch_input_shape': (None, 32, 32, 3), 'dtype': 'float32', 'units': 32, 'activation': 'relu', 'use_bias': True, 'kernel_initializer': {'class_name': 'GlorotUniform', 'config': {'seed': None}}, 'bias_initializer': {'class_name': 'Zeros', 'config': {}}, 'kernel_regularizer': None, 'bias_regularizer': None, 'activity_regularizer': None, 'kernel_constraint': None, 'bias_constraint': None}}, {'class_name': 'Dense', 'config': {'name': 'dense_2', 'trainable': True, 'dtype': 'float32', 'units': 10, 'activation': 'softmax', 'use_bias': True, 'kernel_initializer': {'class_name': 'GlorotUniform', 'config': {'seed': None}}, 'bias_initializer': {'class_name': 'Zeros', 'config': {}}, 'kernel_regularizer': None, 'bias_regularizer': None, 'activity_regularizer': None, 'kernel_constraint': None, 'bias_constraint': None}}]}\n"
     ]
    }
   ],
   "source": [
    "# Get the model config\n",
    "config_dict = model.get_config()\n",
    "print(config_dict)"
   ]
  },
  {
   "cell_type": "markdown",
   "metadata": {
    "id": "hxiJ_t6N9UdQ"
   },
   "source": [
    "### Creating a new model from the config\n",
    "\n",
    "A new TensorFlow model can be created from this config dictionary. This model will have reinitialized weights, which are not the same as the original model."
   ]
  },
  {
   "cell_type": "code",
   "execution_count": null,
   "metadata": {
    "id": "gm1f2gAa9UdR"
   },
   "outputs": [],
   "source": [
    "# Create a model from the config dictionary\n",
    "model_same_config = tf.keras.Sequential.from_config(config_dict)"
   ]
  },
  {
   "cell_type": "markdown",
   "metadata": {
    "id": "OuHyoj3l9UdX"
   },
   "source": [
    "We can check explicitly that the config of both models is the same, but the weights are not: "
   ]
  },
  {
   "cell_type": "code",
   "execution_count": null,
   "metadata": {
    "colab": {
     "base_uri": "https://localhost:8080/"
    },
    "id": "gd6zl8dD9UdY",
    "outputId": "2e8a5d59-ab4b-448a-e46c-88c3b42b287d"
   },
   "outputs": [
    {
     "name": "stdout",
     "output_type": "stream",
     "text": [
      "Same config: True\n",
      "Same value for first weight matrix: False\n"
     ]
    }
   ],
   "source": [
    "# Check the new model is the same architecture\n",
    "print('Same config:', model.get_config()['layers'] == \\\n",
    "    model_same_config.get_config()['layers'])\n",
    "print('Same value for first weight matrix:', \n",
    "    np.allclose(model.weights[0].numpy(), model_same_config.weights[0].numpy()))"
   ]
  },
  {
   "cell_type": "markdown",
   "metadata": {
    "id": "gnNzZDlO9Udf"
   },
   "source": [
    "For models that are not `Sequential` models, use `tf.keras.Model.from_config` instead of `tf.keras.Sequential.from_config`."
   ]
  },
  {
   "cell_type": "markdown",
   "metadata": {
    "id": "8dnaexx69Udg"
   },
   "source": [
    "### Other file formats: JSON and YAML\n",
    "It is also possible to obtain a model's config in JSON or YAML formats. This follows the same pattern:"
   ]
  },
  {
   "cell_type": "code",
   "execution_count": null,
   "metadata": {
    "colab": {
     "base_uri": "https://localhost:8080/"
    },
    "id": "81NDCq_B9Udg",
    "outputId": "32dd083a-413e-471e-c895-bbd505239435"
   },
   "outputs": [
    {
     "name": "stdout",
     "output_type": "stream",
     "text": [
      "{\"class_name\": \"Sequential\", \"config\": {\"name\": \"sequential\", \"layers\": [{\"class_name\": \"InputLayer\", \"config\": {\"batch_input_shape\": [null, 32, 32, 3], \"dtype\": \"float32\", \"sparse\": false, \"ragged\": false, \"name\": \"dense_1_input\"}}, {\"class_name\": \"Dense\", \"config\": {\"name\": \"dense_1\", \"trainable\": true, \"batch_input_shape\": [null, 32, 32, 3], \"dtype\": \"float32\", \"units\": 32, \"activation\": \"relu\", \"use_bias\": true, \"kernel_initializer\": {\"class_name\": \"GlorotUniform\", \"config\": {\"seed\": null}}, \"bias_initializer\": {\"class_name\": \"Zeros\", \"config\": {}}, \"kernel_regularizer\": null, \"bias_regularizer\": null, \"activity_regularizer\": null, \"kernel_constraint\": null, \"bias_constraint\": null}}, {\"class_name\": \"Dense\", \"config\": {\"name\": \"dense_2\", \"trainable\": true, \"dtype\": \"float32\", \"units\": 10, \"activation\": \"softmax\", \"use_bias\": true, \"kernel_initializer\": {\"class_name\": \"GlorotUniform\", \"config\": {\"seed\": null}}, \"bias_initializer\": {\"class_name\": \"Zeros\", \"config\": {}}, \"kernel_regularizer\": null, \"bias_regularizer\": null, \"activity_regularizer\": null, \"kernel_constraint\": null, \"bias_constraint\": null}}]}, \"keras_version\": \"2.4.0\", \"backend\": \"tensorflow\"}\n"
     ]
    }
   ],
   "source": [
    "# Convert the model to JSON\n",
    "json_string = model.to_json()\n",
    "print(json_string)"
   ]
  },
  {
   "cell_type": "markdown",
   "metadata": {
    "id": "uZ51Mlkl9Udl"
   },
   "source": [
    "The JSON format can easily be written out and saved as a file:"
   ]
  },
  {
   "cell_type": "code",
   "execution_count": null,
   "metadata": {
    "id": "SSyz1zpd9Udm"
   },
   "outputs": [],
   "source": [
    "# Write out JSON config file\n",
    "with open('config.json', 'w') as f:\n",
    "    json.dump(json_string, f)\n",
    "del json_string"
   ]
  },
  {
   "cell_type": "code",
   "execution_count": null,
   "metadata": {
    "id": "-yUkIuyN9Udr"
   },
   "outputs": [],
   "source": [
    "# Read in JSON config file again\n",
    "with open('config.json', 'r') as f:\n",
    "    json_string = json.load(f)"
   ]
  },
  {
   "cell_type": "code",
   "execution_count": null,
   "metadata": {
    "id": "8apJPNlj9Udv"
   },
   "outputs": [],
   "source": [
    "# Reinitialize the model\n",
    "model_same_config = model_from_json(json_string)"
   ]
  },
  {
   "cell_type": "code",
   "execution_count": null,
   "metadata": {
    "colab": {
     "base_uri": "https://localhost:8080/"
    },
    "id": "e-OpX9a19Udz",
    "outputId": "be16787e-52a1-43c6-aefa-5d5613a99111"
   },
   "outputs": [
    {
     "name": "stdout",
     "output_type": "stream",
     "text": [
      "Same config: True\n",
      "Same value for first weight matrix: False\n"
     ]
    }
   ],
   "source": [
    "# Check the new model is the same architecture, but different weights\n",
    "print('Same config:', model.get_config()['layers'] == \\\n",
    "    model_same_config.get_config()['layers'])\n",
    "print('Same value for first weight matrix:', np.allclose(\n",
    "    model.weights[0].numpy(), model_same_config.weights[0].numpy()))"
   ]
  },
  {
   "cell_type": "code",
   "execution_count": null,
   "metadata": {
    "id": "kfXyCKTE9Ud4"
   },
   "outputs": [],
   "source": [
    "# Clear file\n",
    "! rm config.json"
   ]
  },
  {
   "cell_type": "markdown",
   "metadata": {
    "id": "fij9utMX9Ud-"
   },
   "source": [
    "The YAML format is similar. The details of writing out YAML files, loading them and using them to create a new model are similar as for the JSON files, so we won't show it here."
   ]
  },
  {
   "cell_type": "code",
   "execution_count": null,
   "metadata": {
    "colab": {
     "base_uri": "https://localhost:8080/"
    },
    "id": "PemDLTWo9Ud_",
    "outputId": "06a5e45a-3573-4e2a-ba9c-00d4afc2e8e5",
    "scrolled": true
   },
   "outputs": [
    {
     "name": "stdout",
     "output_type": "stream",
     "text": [
      "backend: tensorflow\n",
      "class_name: Sequential\n",
      "config:\n",
      "  layers:\n",
      "  - class_name: InputLayer\n",
      "    config:\n",
      "      batch_input_shape: !!python/tuple [null, 32, 32, 3]\n",
      "      dtype: float32\n",
      "      name: dense_1_input\n",
      "      ragged: false\n",
      "      sparse: false\n",
      "  - class_name: Dense\n",
      "    config:\n",
      "      activation: relu\n",
      "      activity_regularizer: null\n",
      "      batch_input_shape: !!python/tuple [null, 32, 32, 3]\n",
      "      bias_constraint: null\n",
      "      bias_initializer:\n",
      "        class_name: Zeros\n",
      "        config: {}\n",
      "      bias_regularizer: null\n",
      "      dtype: float32\n",
      "      kernel_constraint: null\n",
      "      kernel_initializer:\n",
      "        class_name: GlorotUniform\n",
      "        config: {seed: null}\n",
      "      kernel_regularizer: null\n",
      "      name: dense_1\n",
      "      trainable: true\n",
      "      units: 32\n",
      "      use_bias: true\n",
      "  - class_name: Dense\n",
      "    config:\n",
      "      activation: softmax\n",
      "      activity_regularizer: null\n",
      "      bias_constraint: null\n",
      "      bias_initializer:\n",
      "        class_name: Zeros\n",
      "        config: {}\n",
      "      bias_regularizer: null\n",
      "      dtype: float32\n",
      "      kernel_constraint: null\n",
      "      kernel_initializer:\n",
      "        class_name: GlorotUniform\n",
      "        config: {seed: null}\n",
      "      kernel_regularizer: null\n",
      "      name: dense_2\n",
      "      trainable: true\n",
      "      units: 10\n",
      "      use_bias: true\n",
      "  name: sequential\n",
      "keras_version: 2.4.0\n",
      "\n"
     ]
    }
   ],
   "source": [
    "# Convert the model to YAML\n",
    "yaml_string = model.to_yaml()\n",
    "print(yaml_string)"
   ]
  },
  {
   "cell_type": "markdown",
   "metadata": {
    "id": "YB9kPPTG9UeC"
   },
   "source": [
    "Writing out, reading in and using YAML files to create models is similar to JSON files. "
   ]
  },
  {
   "cell_type": "markdown",
   "metadata": {
    "id": "_vdL07rz9UeE"
   },
   "source": [
    "### Further reading and resources\n",
    "* https://www.tensorflow.org/guide/keras/save_and_serialize#architecture-only_saving\n",
    "* https://keras.io/getting-started/faq/#how-can-i-save-a-keras-model"
   ]
  }
 ],
 "metadata": {
  "accelerator": "GPU",
  "colab": {
   "include_colab_link": true,
   "name": "Saving_model_architecture.ipynb",
   "provenance": []
  },
  "kernelspec": {
   "display_name": "Python 3 (ipykernel)",
   "language": "python",
   "name": "python3"
  },
  "language_info": {
   "codemirror_mode": {
    "name": "ipython",
    "version": 3
   },
   "file_extension": ".py",
   "mimetype": "text/x-python",
   "name": "python",
   "nbconvert_exporter": "python",
   "pygments_lexer": "ipython3",
   "version": "3.8.10"
  }
 },
 "nbformat": 4,
 "nbformat_minor": 4
}
