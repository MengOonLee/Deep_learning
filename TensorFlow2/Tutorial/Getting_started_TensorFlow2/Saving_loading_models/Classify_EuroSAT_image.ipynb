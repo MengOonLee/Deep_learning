{
 "cells": [
  {
   "cell_type": "markdown",
   "metadata": {
    "colab_type": "text",
    "id": "view-in-github"
   },
   "source": [
    "<a href=\"https://colab.research.google.com/github/MengOonLee/Deep_learning/blob/master/TensorFlow2/Tutorial/Getting_started_TensorFlow2/Saving_loading_models/Classify_EuroSAT_image.ipynb\" target=\"_parent\"><img src=\"https://colab.research.google.com/assets/colab-badge.svg\" alt=\"Open In Colab\"/></a>"
   ]
  },
  {
   "cell_type": "markdown",
   "metadata": {
    "id": "225TULRb9BIf"
   },
   "source": [
    "# Programming Assignment\n",
    "\n",
    "## Saving and loading models, with application to the EuroSat dataset\n",
    "\n",
    "### Instructions\n",
    "\n",
    "In this notebook, you will create a neural network that classifies land uses and land covers from satellite imagery. You will save your model using Tensorflow's callbacks and reload it later. You will also load in a pre-trained neural network classifier and compare performance with it. \n",
    "\n",
    "Some code cells are provided for you in the notebook. You should avoid editing provided code, and make sure to execute the cells in order to avoid unexpected errors. Some cells begin with the line: \n",
    "\n",
    "`#### GRADED CELL ####`\n",
    "\n",
    "Don't move or edit this first line - this is what the automatic grader looks for to recognise graded cells. These cells require you to write your own code to complete them, and are automatically graded when you submit the notebook. Don't edit the function name or signature provided in these cells, otherwise the automatic grader might not function properly. Inside these graded cells, you can use any functions or classes that are imported below, but make sure you don't use any variables that are outside the scope of the function.\n",
    "\n",
    "### How to submit\n",
    "\n",
    "Complete all the tasks you are asked for in the worksheet. When you have finished and are happy with your code, press the **Submit Assignment** button at the top of this notebook.\n",
    "\n",
    "### Let's get started!\n",
    "\n",
    "We'll start running some imports, and loading the dataset. Do not edit the existing imports in the following cell. If you would like to make further Tensorflow imports, you should add them here."
   ]
  },
  {
   "cell_type": "code",
   "execution_count": 1,
   "metadata": {},
   "outputs": [
    {
     "name": "stdout",
     "output_type": "stream",
     "text": [
      "No broken requirements found.\n"
     ]
    }
   ],
   "source": [
    "%%bash\n",
    "pip install --no-cache-dir -qU pip wheel\n",
    "pip install --no-cache-dir -qU tensorflow-gpu tensorflow_hub\n",
    "pip install --no-cache-dir -qU pandas matplotlib seaborn scikit-learn\n",
    "pip check"
   ]
  },
  {
   "cell_type": "code",
   "execution_count": 1,
   "metadata": {
    "colab": {
     "base_uri": "https://localhost:8080/"
    },
    "id": "r59z_IJ39BIi",
    "outputId": "0e342cdf-753e-41be-e223-c9da79c67986"
   },
   "outputs": [
    {
     "name": "stdout",
     "output_type": "stream",
     "text": [
      "2.9.1\n"
     ]
    }
   ],
   "source": [
    "#### PACKAGE IMPORTS ####\n",
    "\n",
    "# Run this cell first to import all required packages. \n",
    "# Do not make any imports elsewhere in the notebook.\n",
    "import os\n",
    "import numpy as np\n",
    "import pandas as pd\n",
    "\n",
    "%matplotlib inline\n",
    "%config InlineBackend.figure_format = \"retina\"\n",
    "import matplotlib.pyplot as plt\n",
    "\n",
    "import seaborn as sns\n",
    "sns.set_style(\"whitegrid\")\n",
    "sns.set(font=\"DejaVu Sans\")\n",
    "\n",
    "import tensorflow as tf\n",
    "print(tf.__version__)\n",
    "\n",
    "# If you would like to make further imports from tensorflow, \n",
    "# add them here\n",
    "from tensorflow.keras.preprocessing.image import load_img, img_to_array\n",
    "from tensorflow.keras.models import Sequential, load_model\n",
    "from tensorflow.keras.layers import Dense, Flatten, Conv2D, MaxPooling2D\n",
    "from tensorflow.keras.callbacks import ModelCheckpoint, EarlyStopping"
   ]
  },
  {
   "cell_type": "markdown",
   "metadata": {
    "id": "pGfJDwsd9BIr"
   },
   "source": [
    "![EuroSAT overview image](https://github.com/MengOonLee/Deep_learning/blob/master/TensorFlow2/Tutorial/image/eurosat/eurosat_overview.jpg?raw=1)\n",
    "\n",
    "#### The EuroSAT dataset\n",
    "\n",
    "In this assignment, you will use the [EuroSAT dataset](https://github.com/phelber/EuroSAT). It consists of 27000 labelled Sentinel-2 satellite images of different land uses: residential, industrial, highway, river, forest, pasture, herbaceous vegetation, annual crop, permanent crop and sea/lake. For a reference, see the following papers:\n",
    "- Eurosat: A novel dataset and deep learning benchmark for land use and land cover classification. Patrick Helber, Benjamin Bischke, Andreas Dengel, Damian Borth. IEEE Journal of Selected Topics in Applied Earth Observations and Remote Sensing, 2019.\n",
    "- Introducing EuroSAT: A Novel Dataset and Deep Learning Benchmark for Land Use and Land Cover Classification. Patrick Helber, Benjamin Bischke, Andreas Dengel. 2018 IEEE International Geoscience and Remote Sensing Symposium, 2018.\n",
    "\n",
    "Your goal is to construct a neural network that classifies a satellite image into one of these 10 classes, as well as applying some of the saving and loading techniques you have learned in the previous sessions."
   ]
  },
  {
   "cell_type": "markdown",
   "metadata": {
    "id": "_vmtr5lY9BIw"
   },
   "source": [
    "#### Import the data\n",
    "\n",
    "The dataset you will train your model on is a subset of the total data, with 4000 training images and 1000 testing images, with roughly equal numbers of each class. The code to import the data is provided below."
   ]
  },
  {
   "cell_type": "code",
   "execution_count": 2,
   "metadata": {
    "id": "85KlTo9R_MbZ"
   },
   "outputs": [],
   "source": [
    "# Retrieve the image files\n",
    "os.makedirs('./data', exist_ok=True)"
   ]
  },
  {
   "cell_type": "code",
   "execution_count": 3,
   "metadata": {
    "colab": {
     "base_uri": "https://localhost:8080/"
    },
    "id": "hspfDc9M9BI4",
    "outputId": "7cf8c3d5-a207-4db9-b66a-cd841c18951b",
    "scrolled": true,
    "tags": []
   },
   "outputs": [
    {
     "name": "stdout",
     "output_type": "stream",
     "text": [
      "x_train shape:  (4000, 64, 64, 3)\n",
      "y_train shape:  (4000, 1)\n",
      "x_test shape:  (1000, 64, 64, 3)\n",
      "y_test shape:  (1000, 1)\n"
     ]
    }
   ],
   "source": [
    "# Run this cell to import the Eurosat data\n",
    "def load_eurosat_data():\n",
    "    data_dir = './data'\n",
    "    x_train = np.load(os.path.join(data_dir, 'x_train.npy'))\n",
    "    y_train = np.load(os.path.join(data_dir, 'y_train.npy'))\n",
    "    x_test  = np.load(os.path.join(data_dir, 'x_test.npy'))\n",
    "    y_test  = np.load(os.path.join(data_dir, 'y_test.npy'))\n",
    "    return (x_train, y_train), (x_test, y_test)\n",
    "\n",
    "(x_train, y_train), (x_test, y_test) = load_eurosat_data()\n",
    "x_train = x_train / 255.0\n",
    "x_test = x_test / 255.0\n",
    "\n",
    "print(\"x_train shape: \", x_train.shape)\n",
    "print(\"y_train shape: \", y_train.shape)\n",
    "print(\"x_test shape: \", x_test.shape)\n",
    "print(\"y_test shape: \", y_test.shape)"
   ]
  },
  {
   "cell_type": "markdown",
   "metadata": {
    "id": "RchTyajg9BI-"
   },
   "source": [
    "#### Build the neural network model"
   ]
  },
  {
   "cell_type": "markdown",
   "metadata": {
    "id": "g3ntzoSt9BI_"
   },
   "source": [
    "You can now construct a model to fit to the data. Using the Sequential API, build your model according to the following specifications:\n",
    "\n",
    "* The model should use the input_shape in the function argument to set the input size in the first layer.\n",
    "* The first layer should be a Conv2D layer with 16 filters, a 3x3 kernel size, a ReLU activation function and 'SAME' padding. Name this layer 'conv_1'.\n",
    "* The second layer should also be a Conv2D layer with 8 filters, a 3x3 kernel size, a ReLU activation function and 'SAME' padding. Name this layer 'conv_2'.\n",
    "* The third layer should be a MaxPooling2D layer with a pooling window size of 8x8. Name this layer 'pool_1'.\n",
    "* The fourth layer should be a Flatten layer, named 'flatten'.\n",
    "* The fifth layer should be a Dense layer with 32 units, a ReLU activation. Name this layer 'dense_1'.\n",
    "* The sixth and final layer should be a Dense layer with 10 units and softmax activation. Name this layer 'dense_2'.\n",
    "\n",
    "In total, the network should have 6 layers."
   ]
  },
  {
   "cell_type": "code",
   "execution_count": 4,
   "metadata": {
    "id": "C-Z4Dz7e9BJB"
   },
   "outputs": [],
   "source": [
    "#### GRADED CELL ####\n",
    "\n",
    "# Complete the following function. \n",
    "# Make sure to not change the function name or arguments.\n",
    "\n",
    "def get_new_model(input_shape):\n",
    "    \"\"\"\n",
    "    This function should build a Sequential model according to the above specification. \n",
    "    Ensure the weights are initialised by providing the input_shape argument in the \n",
    "    first layer, given by the function argument.\n",
    "    Your function should also compile the model with the Adam optimiser, \n",
    "    sparse categorical cross entropy loss function, and a single accuracy metric.\n",
    "    \"\"\"\n",
    "    \n",
    "    model = Sequential([\n",
    "      Conv2D(16, kernel_size=(3, 3), activation='relu', padding='SAME', \n",
    "             input_shape=input_shape, name='conv_1'),\n",
    "      Conv2D(8, kernel_size=(3, 3), activation='relu', padding='SAME', \n",
    "             name='conv_2'),\n",
    "      MaxPooling2D(pool_size=(8, 8), name='pool_1'),\n",
    "      Flatten(name='flatten'),\n",
    "      Dense(units=32, activation='relu', name='dense_1'),\n",
    "      Dense(units=10, activation='softmax', name='dense_2')\n",
    "    ])\n",
    "    \n",
    "    model.compile(optimizer='adam', \n",
    "        loss='sparse_categorical_crossentropy', \n",
    "        metrics=['accuracy'])\n",
    "    \n",
    "    return model"
   ]
  },
  {
   "cell_type": "markdown",
   "metadata": {
    "id": "lKbfU4Ug9BJG"
   },
   "source": [
    "#### Compile and evaluate the model"
   ]
  },
  {
   "cell_type": "code",
   "execution_count": 6,
   "metadata": {
    "id": "y4ZP06Do9BJI",
    "scrolled": true,
    "tags": []
   },
   "outputs": [],
   "source": [
    "# Run your function to create the model\n",
    "\n",
    "model = get_new_model(x_train[0].shape)"
   ]
  },
  {
   "cell_type": "code",
   "execution_count": 7,
   "metadata": {
    "id": "tCrDIufk9BJO"
   },
   "outputs": [],
   "source": [
    "# Run this cell to define a function to evaluate a model's test accuracy\n",
    "\n",
    "def get_test_accuracy(model, x_test, y_test):\n",
    "    \"\"\"Test model classification accuracy\"\"\"\n",
    "    test_loss, test_acc = model.evaluate(x=x_test, y=y_test, verbose=0)\n",
    "    print('accuracy: {acc:0.3f}'.format(acc=test_acc))"
   ]
  },
  {
   "cell_type": "code",
   "execution_count": 8,
   "metadata": {
    "colab": {
     "base_uri": "https://localhost:8080/"
    },
    "id": "VpEG95iX9BJR",
    "outputId": "db8561bf-7835-4b63-e21f-ba12c332206d",
    "scrolled": true,
    "tags": []
   },
   "outputs": [
    {
     "name": "stdout",
     "output_type": "stream",
     "text": [
      "Model: \"sequential_1\"\n",
      "_________________________________________________________________\n",
      " Layer (type)                Output Shape              Param #   \n",
      "=================================================================\n",
      " conv_1 (Conv2D)             (None, 64, 64, 16)        448       \n",
      "                                                                 \n",
      " conv_2 (Conv2D)             (None, 64, 64, 8)         1160      \n",
      "                                                                 \n",
      " pool_1 (MaxPooling2D)       (None, 8, 8, 8)           0         \n",
      "                                                                 \n",
      " flatten (Flatten)           (None, 512)               0         \n",
      "                                                                 \n",
      " dense_1 (Dense)             (None, 32)                16416     \n",
      "                                                                 \n",
      " dense_2 (Dense)             (None, 10)                330       \n",
      "                                                                 \n",
      "=================================================================\n",
      "Total params: 18,354\n",
      "Trainable params: 18,354\n",
      "Non-trainable params: 0\n",
      "_________________________________________________________________\n"
     ]
    },
    {
     "name": "stderr",
     "output_type": "stream",
     "text": [
      "2022-08-01 14:10:34.405846: I tensorflow/stream_executor/cuda/cuda_dnn.cc:384] Loaded cuDNN version 8401\n"
     ]
    },
    {
     "name": "stdout",
     "output_type": "stream",
     "text": [
      "accuracy: 0.118\n"
     ]
    }
   ],
   "source": [
    "# Print the model summary and calculate its initialised test accuracy\n",
    "\n",
    "model.summary()\n",
    "get_test_accuracy(model, x_test, y_test)"
   ]
  },
  {
   "cell_type": "markdown",
   "metadata": {
    "id": "thvbfDr09BJW"
   },
   "source": [
    "#### Create checkpoints to save model during training, with a criterion\n",
    "\n",
    "You will now create three callbacks:\n",
    "- `checkpoint_every_epoch`: checkpoint that saves the model weights every epoch during training\n",
    "- `checkpoint_best_only`: checkpoint that saves only the weights with the highest validation accuracy. Use the testing data as the validation data.\n",
    "- `early_stopping`: early stopping object that ends training if the validation accuracy has not improved in 3 epochs."
   ]
  },
  {
   "cell_type": "code",
   "execution_count": 9,
   "metadata": {
    "id": "2Utlz8-M9BJX"
   },
   "outputs": [],
   "source": [
    "#### GRADED CELL ####\n",
    "\n",
    "# Complete the following functions. \n",
    "# Make sure to not change the function names or arguments.\n",
    "\n",
    "def get_checkpoint_every_epoch():\n",
    "    \"\"\"\n",
    "    This function should return a ModelCheckpoint object that:\n",
    "    - saves the weights only at the end of every epoch\n",
    "    - saves into a directory called 'checkpoints_every_epoch' inside \n",
    "      the current working directory\n",
    "    - generates filenames in that directory like 'checkpoint_XXX' where\n",
    "      XXX is the epoch number formatted to have three digits, e.g. 001, 002, 003, etc.\n",
    "    \"\"\"\n",
    "    \n",
    "    checkpoint_every_epoch_path = \\\n",
    "        \"checkpoints_every_epoch/checkpoint_{epoch:03d}\"\n",
    "\n",
    "    return ModelCheckpoint(filepath=checkpoint_every_epoch_path, \n",
    "        frequency='epoch', save_weights_only=True, verbose=1)\n",
    "\n",
    "def get_checkpoint_best_only():\n",
    "    \"\"\"\n",
    "    This function should return a ModelCheckpoint object that:\n",
    "    - saves only the weights that generate the highest validation (testing) accuracy\n",
    "    - saves into a directory called 'checkpoints_best_only' inside \n",
    "      the current working directory\n",
    "    - generates a file called 'checkpoints_best_only/checkpoint' \n",
    "    \"\"\"\n",
    "    \n",
    "    checkpoint_best_path = \"checkpoints_best_only/checkpoint\"\n",
    "\n",
    "    return ModelCheckpoint(filepath=checkpoint_best_path, \n",
    "        save_weights_only=True, save_freq='epoch', \n",
    "        monitor='val_accuracy', save_best_only=True, verbose=1)"
   ]
  },
  {
   "cell_type": "code",
   "execution_count": 10,
   "metadata": {
    "id": "jUqWny7G9BJc"
   },
   "outputs": [],
   "source": [
    "#### GRADED CELL ####\n",
    "\n",
    "# Complete the following function. \n",
    "# Make sure to not change the function name or arguments.\n",
    "\n",
    "def get_early_stopping():\n",
    "    \"\"\"\n",
    "    This function should return an EarlyStopping callback that stops training when\n",
    "    the validation (testing) accuracy has not improved in the last 3 epochs.\n",
    "    HINT: use the EarlyStopping callback with the correct 'monitor' and 'patience'\n",
    "    \"\"\"\n",
    "    \n",
    "    return EarlyStopping(monitor='val_accuracy', patience=3)"
   ]
  },
  {
   "cell_type": "code",
   "execution_count": 11,
   "metadata": {
    "id": "zxPRDKwX9BJg"
   },
   "outputs": [],
   "source": [
    "# Run this cell to create the callbacks\n",
    "\n",
    "checkpoint_every_epoch = get_checkpoint_every_epoch()\n",
    "checkpoint_best_only = get_checkpoint_best_only()\n",
    "early_stopping = get_early_stopping()"
   ]
  },
  {
   "cell_type": "markdown",
   "metadata": {
    "id": "UQu7sLsy9BJl"
   },
   "source": [
    "#### Train model using the callbacks\n",
    "\n",
    "Now, you will train the model using the three callbacks you created. If you created the callbacks correctly, three things should happen:\n",
    "- At the end of every epoch, the model weights are saved into a directory called `checkpoints_every_epoch`\n",
    "- At the end of every epoch, the model weights are saved into a directory called `checkpoints_best_only` **only** if those weights lead to the highest test accuracy\n",
    "- Training stops when the testing accuracy has not improved in three epochs.\n",
    "\n",
    "You should then have two directories:\n",
    "- A directory called `checkpoints_every_epoch` containing filenames that include `checkpoint_001`, `checkpoint_002`, etc with the `001`, `002` corresponding to the epoch\n",
    "- A directory called `checkpoints_best_only` containing filenames that include `checkpoint`, which contain only the weights leading to the highest testing accuracy"
   ]
  },
  {
   "cell_type": "code",
   "execution_count": 12,
   "metadata": {
    "colab": {
     "base_uri": "https://localhost:8080/"
    },
    "id": "jJMzIa3L9BJm",
    "outputId": "5a5cbcdc-4e3c-4755-e072-ebcc237c17e9",
    "scrolled": true,
    "tags": []
   },
   "outputs": [
    {
     "name": "stdout",
     "output_type": "stream",
     "text": [
      "Epoch 1/50\n",
      "123/125 [============================>.] - ETA: 0s - loss: 1.9905 - accuracy: 0.2495\n",
      "Epoch 1: saving model to checkpoints_every_epoch/checkpoint_001\n",
      "\n",
      "Epoch 1: val_accuracy improved from -inf to 0.37800, saving model to checkpoints_best_only/checkpoint\n",
      "125/125 [==============================] - 2s 8ms/step - loss: 1.9870 - accuracy: 0.2510 - val_loss: 1.6902 - val_accuracy: 0.3780\n",
      "Epoch 2/50\n",
      "122/125 [============================>.] - ETA: 0s - loss: 1.4593 - accuracy: 0.4618\n",
      "Epoch 2: saving model to checkpoints_every_epoch/checkpoint_002\n",
      "\n",
      "Epoch 2: val_accuracy improved from 0.37800 to 0.44700, saving model to checkpoints_best_only/checkpoint\n",
      "125/125 [==============================] - 1s 7ms/step - loss: 1.4583 - accuracy: 0.4633 - val_loss: 1.4325 - val_accuracy: 0.4470\n",
      "Epoch 3/50\n",
      "116/125 [==========================>...] - ETA: 0s - loss: 1.2870 - accuracy: 0.5048\n",
      "Epoch 3: saving model to checkpoints_every_epoch/checkpoint_003\n",
      "\n",
      "Epoch 3: val_accuracy improved from 0.44700 to 0.49100, saving model to checkpoints_best_only/checkpoint\n",
      "125/125 [==============================] - 1s 7ms/step - loss: 1.2852 - accuracy: 0.5065 - val_loss: 1.3079 - val_accuracy: 0.4910\n",
      "Epoch 4/50\n",
      "119/125 [===========================>..] - ETA: 0s - loss: 1.2096 - accuracy: 0.5441\n",
      "Epoch 4: saving model to checkpoints_every_epoch/checkpoint_004\n",
      "\n",
      "Epoch 4: val_accuracy improved from 0.49100 to 0.53100, saving model to checkpoints_best_only/checkpoint\n",
      "125/125 [==============================] - 1s 7ms/step - loss: 1.2070 - accuracy: 0.5447 - val_loss: 1.2477 - val_accuracy: 0.5310\n",
      "Epoch 5/50\n",
      "116/125 [==========================>...] - ETA: 0s - loss: 1.1489 - accuracy: 0.5752\n",
      "Epoch 5: saving model to checkpoints_every_epoch/checkpoint_005\n",
      "\n",
      "Epoch 5: val_accuracy improved from 0.53100 to 0.56100, saving model to checkpoints_best_only/checkpoint\n",
      "125/125 [==============================] - 1s 7ms/step - loss: 1.1500 - accuracy: 0.5745 - val_loss: 1.2799 - val_accuracy: 0.5610\n",
      "Epoch 6/50\n",
      "118/125 [===========================>..] - ETA: 0s - loss: 1.1138 - accuracy: 0.5964\n",
      "Epoch 6: saving model to checkpoints_every_epoch/checkpoint_006\n",
      "\n",
      "Epoch 6: val_accuracy improved from 0.56100 to 0.58200, saving model to checkpoints_best_only/checkpoint\n",
      "125/125 [==============================] - 1s 6ms/step - loss: 1.1134 - accuracy: 0.5980 - val_loss: 1.1847 - val_accuracy: 0.5820\n",
      "Epoch 7/50\n",
      "122/125 [============================>.] - ETA: 0s - loss: 1.0428 - accuracy: 0.6327\n",
      "Epoch 7: saving model to checkpoints_every_epoch/checkpoint_007\n",
      "\n",
      "Epoch 7: val_accuracy improved from 0.58200 to 0.60400, saving model to checkpoints_best_only/checkpoint\n",
      "125/125 [==============================] - 1s 7ms/step - loss: 1.0440 - accuracy: 0.6305 - val_loss: 1.0996 - val_accuracy: 0.6040\n",
      "Epoch 8/50\n",
      "123/125 [============================>.] - ETA: 0s - loss: 1.0224 - accuracy: 0.6347\n",
      "Epoch 8: saving model to checkpoints_every_epoch/checkpoint_008\n",
      "\n",
      "Epoch 8: val_accuracy improved from 0.60400 to 0.60700, saving model to checkpoints_best_only/checkpoint\n",
      "125/125 [==============================] - 1s 7ms/step - loss: 1.0225 - accuracy: 0.6355 - val_loss: 1.0926 - val_accuracy: 0.6070\n",
      "Epoch 9/50\n",
      "117/125 [===========================>..] - ETA: 0s - loss: 0.9496 - accuracy: 0.6576\n",
      "Epoch 9: saving model to checkpoints_every_epoch/checkpoint_009\n",
      "\n",
      "Epoch 9: val_accuracy improved from 0.60700 to 0.62700, saving model to checkpoints_best_only/checkpoint\n",
      "125/125 [==============================] - 1s 7ms/step - loss: 0.9503 - accuracy: 0.6580 - val_loss: 1.0529 - val_accuracy: 0.6270\n",
      "Epoch 10/50\n",
      "117/125 [===========================>..] - ETA: 0s - loss: 0.8894 - accuracy: 0.6832\n",
      "Epoch 10: saving model to checkpoints_every_epoch/checkpoint_010\n",
      "\n",
      "Epoch 10: val_accuracy improved from 0.62700 to 0.66700, saving model to checkpoints_best_only/checkpoint\n",
      "125/125 [==============================] - 1s 7ms/step - loss: 0.8893 - accuracy: 0.6835 - val_loss: 0.9386 - val_accuracy: 0.6670\n",
      "Epoch 11/50\n",
      "118/125 [===========================>..] - ETA: 0s - loss: 0.8510 - accuracy: 0.6931\n",
      "Epoch 11: saving model to checkpoints_every_epoch/checkpoint_011\n",
      "\n",
      "Epoch 11: val_accuracy did not improve from 0.66700\n",
      "125/125 [==============================] - 1s 7ms/step - loss: 0.8473 - accuracy: 0.6970 - val_loss: 0.9463 - val_accuracy: 0.6620\n",
      "Epoch 12/50\n",
      "120/125 [===========================>..] - ETA: 0s - loss: 0.7950 - accuracy: 0.7193\n",
      "Epoch 12: saving model to checkpoints_every_epoch/checkpoint_012\n",
      "\n",
      "Epoch 12: val_accuracy did not improve from 0.66700\n",
      "125/125 [==============================] - 1s 7ms/step - loss: 0.7935 - accuracy: 0.7195 - val_loss: 0.9203 - val_accuracy: 0.6450\n",
      "Epoch 13/50\n",
      "120/125 [===========================>..] - ETA: 0s - loss: 0.8433 - accuracy: 0.6945\n",
      "Epoch 13: saving model to checkpoints_every_epoch/checkpoint_013\n",
      "\n",
      "Epoch 13: val_accuracy did not improve from 0.66700\n",
      "125/125 [==============================] - 1s 7ms/step - loss: 0.8391 - accuracy: 0.6963 - val_loss: 0.9071 - val_accuracy: 0.6610\n"
     ]
    },
    {
     "data": {
      "text/plain": [
       "<keras.callbacks.History at 0x7f3af06fcbb0>"
      ]
     },
     "execution_count": 12,
     "metadata": {},
     "output_type": "execute_result"
    }
   ],
   "source": [
    "# Train model using the callbacks you just created\n",
    "\n",
    "callbacks = [checkpoint_every_epoch, checkpoint_best_only, \n",
    "    early_stopping]\n",
    "model.fit(x_train, y_train, epochs=50, \n",
    "    validation_data=(x_test, y_test), callbacks=callbacks)"
   ]
  },
  {
   "cell_type": "markdown",
   "metadata": {
    "id": "HLoJL-dA9BJ2"
   },
   "source": [
    "#### Create new instance of model and load on both sets of weights\n",
    "\n",
    "Now you will use the weights you just saved in a fresh model. You should create two functions, both of which take a freshly instantiated model instance:\n",
    "- `model_last_epoch` should contain the weights from the latest saved epoch\n",
    "- `model_best_epoch` should contain the weights from the saved epoch with the highest testing accuracy\n",
    "\n",
    "_Hint: use the_ `tf.train.latest_checkpoint` _function to get the filename of the latest saved checkpoint file. Check the docs_ [_here_](https://www.tensorflow.org/api_docs/python/tf/train/latest_checkpoint)."
   ]
  },
  {
   "cell_type": "code",
   "execution_count": 13,
   "metadata": {
    "id": "We-cU1MD9BJ4"
   },
   "outputs": [],
   "source": [
    "#### GRADED CELL ####\n",
    "\n",
    "# Complete the following functions. \n",
    "# Make sure to not change the function name or arguments.\n",
    "\n",
    "def get_model_last_epoch(model):\n",
    "    \"\"\"\n",
    "    This function should create a new instance of the CNN you created earlier,\n",
    "    load on the weights from the last training epoch, \n",
    "    and return this model.\n",
    "    \"\"\"\n",
    "    \n",
    "    model.load_weights(\n",
    "        tf.train.latest_checkpoint(\"./checkpoints_every_epoch\"))\n",
    "    \n",
    "    return model\n",
    "    \n",
    "def get_model_best_epoch(model):\n",
    "    \"\"\"\n",
    "    This function should create a new instance of the CNN you created earlier, \n",
    "    load on the weights leading to the highest validation accuracy, \n",
    "    and return this model.\n",
    "    \"\"\"\n",
    "    \n",
    "    model.load_weights(\n",
    "        tf.train.latest_checkpoint(\"./checkpoints_best_only\"))\n",
    "    \n",
    "    return model"
   ]
  },
  {
   "cell_type": "code",
   "execution_count": 14,
   "metadata": {
    "colab": {
     "base_uri": "https://localhost:8080/"
    },
    "id": "u1cwlsW69BJ7",
    "outputId": "36587703-271d-447d-e312-421689f1a359",
    "scrolled": true,
    "tags": []
   },
   "outputs": [
    {
     "name": "stdout",
     "output_type": "stream",
     "text": [
      "Model with last epoch weights:\n",
      "accuracy: 0.661\n",
      "\n",
      "Model with best epoch weights:\n",
      "accuracy: 0.667\n"
     ]
    }
   ],
   "source": [
    "# Run this cell to create two models: one with the weights from the last training\n",
    "# epoch, and one with the weights leading to the highest validation (testing) accuracy.\n",
    "# Verify that the second has a higher validation (testing) accuarcy.\n",
    "\n",
    "model_last_epoch = get_model_last_epoch(\n",
    "    get_new_model(x_train[0].shape))\n",
    "model_best_epoch = get_model_best_epoch(\n",
    "    get_new_model(x_train[0].shape))\n",
    "print('Model with last epoch weights:')\n",
    "get_test_accuracy(model_last_epoch, x_test, y_test)\n",
    "print('')\n",
    "print('Model with best epoch weights:')\n",
    "get_test_accuracy(model_best_epoch, x_test, y_test)"
   ]
  },
  {
   "cell_type": "markdown",
   "metadata": {
    "id": "RPwubdSB9BKA"
   },
   "source": [
    "#### Load, from scratch, a model trained on the EuroSat dataset.\n",
    "\n",
    "In your workspace, you will find another model trained on the `EuroSAT` dataset in `.h5` format. This model is trained on a larger subset of the EuroSAT dataset and has a more complex architecture. The path to the model is `models/EuroSatNet.h5`. See how its testing accuracy compares to your model!"
   ]
  },
  {
   "cell_type": "code",
   "execution_count": 15,
   "metadata": {
    "id": "ii1vGCxbGqiL"
   },
   "outputs": [],
   "source": [
    "os.makedirs('./models', exist_ok=True)"
   ]
  },
  {
   "cell_type": "code",
   "execution_count": 16,
   "metadata": {
    "id": "v_thdPOY9BKB"
   },
   "outputs": [],
   "source": [
    "#### GRADED CELL ####\n",
    "\n",
    "# Complete the following functions. \n",
    "# Make sure to not change the function name or arguments.\n",
    "\n",
    "def get_model_eurosatnet():\n",
    "    \"\"\"\n",
    "    This function should return the pretrained EuroSatNet.h5 model.\n",
    "    \"\"\"\n",
    "    model = load_model('./models/EuroSatNet.h5')\n",
    "    return model"
   ]
  },
  {
   "cell_type": "code",
   "execution_count": 17,
   "metadata": {
    "colab": {
     "base_uri": "https://localhost:8080/"
    },
    "id": "E11GgGPC9BKE",
    "outputId": "0c6f7618-ddeb-4893-ef7a-eae1237efbf9",
    "scrolled": true,
    "tags": []
   },
   "outputs": [
    {
     "name": "stdout",
     "output_type": "stream",
     "text": [
      "Model: \"sequential_21\"\n",
      "_________________________________________________________________\n",
      " Layer (type)                Output Shape              Param #   \n",
      "=================================================================\n",
      " conv_1 (Conv2D)             (None, 64, 64, 16)        448       \n",
      "                                                                 \n",
      " conv_2 (Conv2D)             (None, 64, 64, 16)        6416      \n",
      "                                                                 \n",
      " pool_1 (MaxPooling2D)       (None, 32, 32, 16)        0         \n",
      "                                                                 \n",
      " conv_3 (Conv2D)             (None, 32, 32, 16)        2320      \n",
      "                                                                 \n",
      " conv_4 (Conv2D)             (None, 32, 32, 16)        6416      \n",
      "                                                                 \n",
      " pool_2 (MaxPooling2D)       (None, 16, 16, 16)        0         \n",
      "                                                                 \n",
      " conv_5 (Conv2D)             (None, 16, 16, 16)        2320      \n",
      "                                                                 \n",
      " conv_6 (Conv2D)             (None, 16, 16, 16)        6416      \n",
      "                                                                 \n",
      " pool_3 (MaxPooling2D)       (None, 8, 8, 16)          0         \n",
      "                                                                 \n",
      " conv_7 (Conv2D)             (None, 8, 8, 16)          2320      \n",
      "                                                                 \n",
      " conv_8 (Conv2D)             (None, 8, 8, 16)          6416      \n",
      "                                                                 \n",
      " pool_4 (MaxPooling2D)       (None, 4, 4, 16)          0         \n",
      "                                                                 \n",
      " flatten (Flatten)           (None, 256)               0         \n",
      "                                                                 \n",
      " dense_1 (Dense)             (None, 32)                8224      \n",
      "                                                                 \n",
      " dense_2 (Dense)             (None, 10)                330       \n",
      "                                                                 \n",
      "=================================================================\n",
      "Total params: 41,626\n",
      "Trainable params: 41,626\n",
      "Non-trainable params: 0\n",
      "_________________________________________________________________\n",
      "accuracy: 0.080\n"
     ]
    }
   ],
   "source": [
    "# Run this cell to print a summary of the EuroSatNet model, \n",
    "# along with its validation accuracy.\n",
    "\n",
    "model_eurosatnet = get_model_eurosatnet()\n",
    "model_eurosatnet.summary()\n",
    "get_test_accuracy(model_eurosatnet, x_test, y_test)"
   ]
  },
  {
   "cell_type": "code",
   "execution_count": 19,
   "metadata": {
    "id": "uutxc3e69BKI"
   },
   "outputs": [],
   "source": [
    "%%bash\n",
    "# Clear directory\n",
    "rm -rf checkpoints_every_epoch checkpoints_best_only\n",
    "rm -rf data models"
   ]
  },
  {
   "cell_type": "markdown",
   "metadata": {
    "id": "muyCKmvY9BKL"
   },
   "source": [
    "Congratulations for completing this programming assignment! You're now ready to move on to the capstone project for this course."
   ]
  }
 ],
 "metadata": {
  "accelerator": "GPU",
  "colab": {
   "include_colab_link": true,
   "name": "Classify_EuroSAT_image.ipynb",
   "provenance": []
  },
  "coursera": {
   "course_slug": "tensor-flow-2-1",
   "graded_item_id": "JaRY0",
   "launcher_item_id": "mJ8fg"
  },
  "kernelspec": {
   "display_name": "Python 3 (ipykernel)",
   "language": "python",
   "name": "python3"
  },
  "language_info": {
   "codemirror_mode": {
    "name": "ipython",
    "version": 3
   },
   "file_extension": ".py",
   "mimetype": "text/x-python",
   "name": "python",
   "nbconvert_exporter": "python",
   "pygments_lexer": "ipython3",
   "version": "3.8.10"
  }
 },
 "nbformat": 4,
 "nbformat_minor": 4
}
