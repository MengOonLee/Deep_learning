{
  "nbformat": 4,
  "nbformat_minor": 0,
  "metadata": {
    "kernelspec": {
      "display_name": "Python 3",
      "language": "python",
      "name": "python3"
    },
    "language_info": {
      "codemirror_mode": {
        "name": "ipython",
        "version": 3
      },
      "file_extension": ".py",
      "mimetype": "text/x-python",
      "name": "python",
      "nbconvert_exporter": "python",
      "pygments_lexer": "ipython3",
      "version": "3.8.5"
    },
    "colab": {
      "name": "Introduction.ipynb",
      "provenance": [],
      "include_colab_link": true
    },
    "accelerator": "GPU"
  },
  "cells": [
    {
      "cell_type": "markdown",
      "metadata": {
        "id": "view-in-github",
        "colab_type": "text"
      },
      "source": [
        "<a href=\"https://colab.research.google.com/github/MengOonLee/Deep_learning/blob/master/TensorFlow2/Tutorial/Introduction.ipynb\" target=\"_parent\"><img src=\"https://colab.research.google.com/assets/colab-badge.svg\" alt=\"Open In Colab\"/></a>"
      ]
    },
    {
      "cell_type": "markdown",
      "metadata": {
        "id": "juxNknyiLVQH"
      },
      "source": [
        "# Introduction to TensorFlow 2\n",
        "\n",
        "\n",
        "## Coding tutorials\n",
        "\n",
        "#### [1. Hello TensorFlow!](#coding_tutorial_1)"
      ]
    },
    {
      "cell_type": "markdown",
      "metadata": {
        "id": "x0w1kiXGLVQK"
      },
      "source": [
        "---\n",
        "<a id='coding_tutorial_1'></a>\n",
        "## Hello TensorFlow!"
      ]
    },
    {
      "cell_type": "code",
      "metadata": {
        "id": "gJM80ikqLVQM",
        "outputId": "d1867f40-9e5f-4e0f-fb6e-e6e5bef67fad",
        "colab": {
          "base_uri": "https://localhost:8080/"
        }
      },
      "source": [
        "# Import TensorFlow\n",
        "\n",
        "import tensorflow as tf\n",
        "print(tf.__version__)"
      ],
      "execution_count": 1,
      "outputs": [
        {
          "output_type": "stream",
          "text": [
            "2.3.0\n"
          ],
          "name": "stdout"
        }
      ]
    },
    {
      "cell_type": "code",
      "metadata": {
        "id": "AuM0jDHzLVQa"
      },
      "source": [
        "import os\n",
        "\n",
        "if not os.path.exists('./data/mnist'):\n",
        "    os.makedirs('./data/mnist')\n",
        "\n",
        "! wget -qO ./data/mnist/mnist_train.csv \"https://www.python-course.eu/data/mnist/mnist_train.csv\"\n",
        "! wget -qO ./data/mnist/mnist_test.csv \"https://www.python-course.eu/data/mnist/mnist_test.csv\""
      ],
      "execution_count": 2,
      "outputs": []
    },
    {
      "cell_type": "code",
      "metadata": {
        "id": "WKTz7LqHLVQg",
        "outputId": "b8863c61-f042-43c3-d0ee-b553883fcf45",
        "colab": {
          "base_uri": "https://localhost:8080/"
        }
      },
      "source": [
        "# Load MNIST dataset\n",
        "\n",
        "import numpy as np\n",
        "\n",
        "print('Loading train data...\\n')\n",
        "data = np.loadtxt('./data/mnist/mnist_train.csv', delimiter=',')\n",
        "print ('MNIST dataset loaded.\\n')\n",
        "\n",
        "x_train = data[:, 1:]\n",
        "x_train = x_train/x_train.max()\n",
        "y_train = data[:, 0]\n",
        "\n",
        "print('x train data size: {}'.format(x_train.shape))\n",
        "print('y train data size: {}'.format(y_train.shape))\n",
        "\n",
        "# Scale data to (0, 1)\n",
        "print('Min: ', x_train.min())\n",
        "print('Max: ', x_train.max())"
      ],
      "execution_count": 3,
      "outputs": [
        {
          "output_type": "stream",
          "text": [
            "Loading train data...\n",
            "\n",
            "MNIST dataset loaded.\n",
            "\n",
            "x train data size: (60000, 784)\n",
            "y train data size: (60000,)\n",
            "Min:  0.0\n",
            "Max:  1.0\n"
          ],
          "name": "stdout"
        }
      ]
    },
    {
      "cell_type": "code",
      "metadata": {
        "id": "w9EqmxYNLVQn",
        "outputId": "168c5b2f-7a9d-46e3-a43d-cee0f775c50b",
        "colab": {
          "base_uri": "https://localhost:8080/"
        }
      },
      "source": [
        "# Train a feedforward neural network for image classification\n",
        "\n",
        "model = tf.keras.models.Sequential([\n",
        "    tf.keras.layers.Dense(16, activation='relu'),\n",
        "    tf.keras.layers.Dense(10, activation='softmax')\n",
        "])\n",
        "\n",
        "model.compile(\n",
        "    optimizer='adam',\n",
        "    loss='sparse_categorical_crossentropy',\n",
        "    metrics=['accuracy']\n",
        ")\n",
        "\n",
        "print('Training model...\\n')\n",
        "model.fit(x_train, y_train, epochs=3, batch_size=32)\n",
        "\n",
        "print('Model trained successfully')"
      ],
      "execution_count": 4,
      "outputs": [
        {
          "output_type": "stream",
          "text": [
            "Training model...\n",
            "\n",
            "Epoch 1/3\n",
            "1875/1875 [==============================] - 3s 2ms/step - loss: 0.4276 - accuracy: 0.8799\n",
            "Epoch 2/3\n",
            "1875/1875 [==============================] - 3s 2ms/step - loss: 0.2573 - accuracy: 0.9272\n",
            "Epoch 3/3\n",
            "1875/1875 [==============================] - 3s 2ms/step - loss: 0.2227 - accuracy: 0.9369\n",
            "Model trained successfully\n"
          ],
          "name": "stdout"
        }
      ]
    }
  ]
}