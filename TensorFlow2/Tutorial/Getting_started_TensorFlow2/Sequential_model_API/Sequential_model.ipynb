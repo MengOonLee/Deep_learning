{
  "nbformat": 4,
  "nbformat_minor": 0,
  "metadata": {
    "kernelspec": {
      "display_name": "Python 3",
      "language": "python",
      "name": "python3"
    },
    "language_info": {
      "codemirror_mode": {
        "name": "ipython",
        "version": 3
      },
      "file_extension": ".py",
      "mimetype": "text/x-python",
      "name": "python",
      "nbconvert_exporter": "python",
      "pygments_lexer": "ipython3",
      "version": "3.8.5"
    },
    "colab": {
      "name": "Sequential_model.ipynb",
      "provenance": [],
      "include_colab_link": true
    },
    "accelerator": "GPU"
  },
  "cells": [
    {
      "cell_type": "markdown",
      "metadata": {
        "id": "view-in-github",
        "colab_type": "text"
      },
      "source": [
        "<a href=\"https://colab.research.google.com/github/MengOonLee/Deep_learning/blob/master/TensorFlow2/Tutorial/Getting_started_TensorFlow2/Sequential_model_API/Sequential_model.ipynb\" target=\"_parent\"><img src=\"https://colab.research.google.com/assets/colab-badge.svg\" alt=\"Open In Colab\"/></a>"
      ]
    },
    {
      "cell_type": "markdown",
      "metadata": {
        "id": "Hq_7tgQdAXLB"
      },
      "source": [
        "# The Sequential model API\n",
        "\n",
        "## Coding tutorials\n",
        "#### [1. Building a Sequential model](#coding_tutorial_1)\n",
        "#### [2. Convolutional and pooling layers](#coding_tutorial_2)\n",
        "#### [3. The compile method](#coding_tutorial_3)\n",
        "#### [4. The fit method](#coding_tutorial_4)\n",
        "#### [5. The evaluate and predict methods](#coding_tutorial_5)"
      ]
    },
    {
      "cell_type": "code",
      "metadata": {
        "id": "Bqyxh2ekAXLB",
        "colab": {
          "base_uri": "https://localhost:8080/"
        },
        "outputId": "c6e760b9-6620-4296-816d-e50e666ae842"
      },
      "source": [
        "import tensorflow as tf\n",
        "print(tf.__version__)"
      ],
      "execution_count": null,
      "outputs": [
        {
          "output_type": "stream",
          "text": [
            "2.3.0\n"
          ],
          "name": "stdout"
        }
      ]
    },
    {
      "cell_type": "markdown",
      "metadata": {
        "id": "HUS7ZDBuAXLF"
      },
      "source": [
        "***\n",
        "## Load the data"
      ]
    },
    {
      "cell_type": "code",
      "metadata": {
        "id": "1mx6ab8YAXLG",
        "colab": {
          "base_uri": "https://localhost:8080/"
        },
        "outputId": "d1b03b7a-40f4-47fd-959a-e5001381565c"
      },
      "source": [
        "from tensorflow.keras.preprocessing import image\n",
        "\n",
        "# Load the Fashion-MNIST data\n",
        "fashion_mnist_data = tf.keras.datasets.fashion_mnist\n",
        "(train_images, train_labels), (test_images, test_labels) = \\\n",
        "    fashion_mnist_data.load_data()\n",
        "\n",
        "# Print the shape of the training data\n",
        "print(\"Train data shape: {}\".format(train_images.shape))\n",
        "\n",
        "# Define the labels\n",
        "labels = ['T-shirt/top', 'Trouser', 'Pullover', 'Dress', 'Coat', \n",
        "    'Sandal', 'Shirt', 'Sneaker', 'Bag', 'Ankle boot']\n",
        "print(\"Train label at 0:\", train_labels[0])"
      ],
      "execution_count": null,
      "outputs": [
        {
          "output_type": "stream",
          "text": [
            "Downloading data from https://storage.googleapis.com/tensorflow/tf-keras-datasets/train-labels-idx1-ubyte.gz\n",
            "32768/29515 [=================================] - 0s 0us/step\n",
            "Downloading data from https://storage.googleapis.com/tensorflow/tf-keras-datasets/train-images-idx3-ubyte.gz\n",
            "26427392/26421880 [==============================] - 0s 0us/step\n",
            "Downloading data from https://storage.googleapis.com/tensorflow/tf-keras-datasets/t10k-labels-idx1-ubyte.gz\n",
            "8192/5148 [===============================================] - 0s 0us/step\n",
            "Downloading data from https://storage.googleapis.com/tensorflow/tf-keras-datasets/t10k-images-idx3-ubyte.gz\n",
            "4423680/4422102 [==============================] - 0s 0us/step\n",
            "Train data shape: (60000, 28, 28)\n",
            "Train label at 0: 9\n"
          ],
          "name": "stdout"
        }
      ]
    },
    {
      "cell_type": "code",
      "metadata": {
        "id": "poxD8ub_AXLI"
      },
      "source": [
        "# Rescale the image values so that they lie in between 0 and 1\n",
        "train_images = train_images / 255.\n",
        "test_images = test_images / 255."
      ],
      "execution_count": null,
      "outputs": []
    },
    {
      "cell_type": "code",
      "metadata": {
        "id": "h4xrduj-AXLL",
        "colab": {
          "base_uri": "https://localhost:8080/",
          "height": 282
        },
        "outputId": "f352fdcb-b575-4570-a489-6d3d50b46338"
      },
      "source": [
        "import matplotlib.pyplot as plt\n",
        "%matplotlib inline\n",
        "\n",
        "# Display one of the images\n",
        "i = 24\n",
        "img = train_images[i,:,:]\n",
        "print(f\"label: {labels[train_labels[i]]}\")\n",
        "plt.imshow(img)\n",
        "plt.show()"
      ],
      "execution_count": null,
      "outputs": [
        {
          "output_type": "stream",
          "text": [
            "label: Coat\n"
          ],
          "name": "stdout"
        },
        {
          "output_type": "display_data",
          "data": {
            "image/png": "[encoded data removed]",
            "text/plain": [
              "<Figure size 432x288 with 1 Axes>"
            ]
          },
          "metadata": {
            "tags": [],
            "needs_background": "light"
          }
        }
      ]
    },
    {
      "cell_type": "markdown",
      "metadata": {
        "id": "PKaVJT8BAXLP"
      },
      "source": [
        "***\n",
        "<a id=\"coding_tutorial_1\"></a>\n",
        "## Building a Sequential model\n",
        "\n",
        "#### Build a feedforward neural network model"
      ]
    },
    {
      "cell_type": "code",
      "metadata": {
        "id": "S1f_GFVyAXLP",
        "colab": {
          "base_uri": "https://localhost:8080/"
        },
        "outputId": "9b487999-940e-430b-bb88-680697658485"
      },
      "source": [
        "from tensorflow.keras.models import Sequential\n",
        "from tensorflow.keras.layers import Dense, Flatten\n",
        "\n",
        "# Build the sequential feedforward neural network model\n",
        "\n",
        "model = Sequential()\n",
        "model.add(Flatten(input_shape=(28,28)))\n",
        "model.add(Dense(16, activation='relu', name='layer_1'))\n",
        "model.add(Dense(16, activation='sigmoid'))\n",
        "model.add(Dense(10, activation='softmax'))\n",
        "\n",
        "# Print the model summary\n",
        "model.summary()"
      ],
      "execution_count": null,
      "outputs": [
        {
          "output_type": "stream",
          "text": [
            "Model: \"sequential\"\n",
            "_________________________________________________________________\n",
            "Layer (type)                 Output Shape              Param #   \n",
            "=================================================================\n",
            "flatten (Flatten)            (None, 784)               0         \n",
            "_________________________________________________________________\n",
            "layer_1 (Dense)              (None, 16)                12560     \n",
            "_________________________________________________________________\n",
            "dense (Dense)                (None, 16)                272       \n",
            "_________________________________________________________________\n",
            "dense_1 (Dense)              (None, 10)                170       \n",
            "=================================================================\n",
            "Total params: 13,002\n",
            "Trainable params: 13,002\n",
            "Non-trainable params: 0\n",
            "_________________________________________________________________\n"
          ],
          "name": "stdout"
        }
      ]
    },
    {
      "cell_type": "code",
      "metadata": {
        "id": "kRkOunAAAXLS",
        "colab": {
          "base_uri": "https://localhost:8080/"
        },
        "outputId": "5a95f474-09e5-4e8e-809a-45cecb2f1ffa"
      },
      "source": [
        "model.weights"
      ],
      "execution_count": null,
      "outputs": [
        {
          "output_type": "execute_result",
          "data": {
            "text/plain": [
              "[<tf.Variable 'layer_1/kernel:0' shape=(784, 16) dtype=float32, numpy=\n",
              " array([[-0.07623756,  0.06418069, -0.05637813, ..., -0.00584909,\n",
              "         -0.06777211, -0.03286308],\n",
              "        [-0.00639053, -0.0575102 , -0.04040531, ..., -0.06794938,\n",
              "          0.00469057, -0.06428798],\n",
              "        [-0.05716452,  0.02114917, -0.02707843, ...,  0.04712299,\n",
              "         -0.08001825, -0.062967  ],\n",
              "        ...,\n",
              "        [-0.08056416,  0.03121634, -0.08107314, ...,  0.05348615,\n",
              "         -0.00350116, -0.01646799],\n",
              "        [-0.03601038, -0.08047215, -0.0713885 , ...,  0.0289145 ,\n",
              "          0.0302598 ,  0.08324154],\n",
              "        [-0.06882937,  0.05886206, -0.04378562, ...,  0.08516805,\n",
              "          0.06946594, -0.04688221]], dtype=float32)>,\n",
              " <tf.Variable 'layer_1/bias:0' shape=(16,) dtype=float32, numpy=\n",
              " array([0., 0., 0., 0., 0., 0., 0., 0., 0., 0., 0., 0., 0., 0., 0., 0.],\n",
              "       dtype=float32)>,\n",
              " <tf.Variable 'dense/kernel:0' shape=(16, 16) dtype=float32, numpy=\n",
              " array([[-0.42807686,  0.3267583 , -0.18568653,  0.27595547, -0.06499788,\n",
              "         -0.03397489,  0.00907269, -0.06592405, -0.17418951, -0.05840075,\n",
              "         -0.23156808, -0.0630984 ,  0.26897112, -0.09837586, -0.07301506,\n",
              "         -0.31928614],\n",
              "        [-0.03066725,  0.20275822,  0.297237  ,  0.1309692 , -0.08777091,\n",
              "          0.32304636, -0.09187266, -0.05509031,  0.2656813 , -0.10062036,\n",
              "         -0.1976093 ,  0.20251104, -0.3121661 ,  0.28232136,  0.08567104,\n",
              "         -0.3341125 ],\n",
              "        [-0.3654068 ,  0.25242582,  0.24529949, -0.06629178,  0.42174515,\n",
              "          0.18994507,  0.15119019, -0.40924817, -0.40475368, -0.37175298,\n",
              "         -0.32054234, -0.37315133,  0.18690917,  0.07315567,  0.02171668,\n",
              "         -0.4095743 ],\n",
              "        [-0.43232068, -0.32874843, -0.36189133,  0.02649507,  0.22048476,\n",
              "         -0.05923659, -0.07793137,  0.32875672,  0.33286628,  0.4093252 ,\n",
              "         -0.3655984 , -0.13292319,  0.40359887,  0.08768025, -0.02730611,\n",
              "         -0.40514094],\n",
              "        [-0.41117325,  0.10113779,  0.23555484, -0.14100367,  0.1691117 ,\n",
              "         -0.03096107,  0.24658504,  0.36782673,  0.39782402, -0.05593038,\n",
              "         -0.24115789, -0.15800029, -0.0027768 , -0.36058795,  0.4251028 ,\n",
              "         -0.16458657],\n",
              "        [ 0.41202858, -0.12029096,  0.12699392, -0.3345843 ,  0.3721715 ,\n",
              "          0.1201736 ,  0.29049626, -0.25815865, -0.10402164, -0.42135274,\n",
              "          0.01732719,  0.02979693, -0.28183243, -0.18105868,  0.39857653,\n",
              "          0.2622827 ],\n",
              "        [ 0.36932757, -0.3228051 ,  0.3232254 , -0.10624528, -0.40786356,\n",
              "          0.2427971 , -0.08923513,  0.40467432, -0.03848484,  0.32947513,\n",
              "         -0.36783805, -0.3613801 ,  0.30858025,  0.15854654,  0.15856758,\n",
              "          0.1975176 ],\n",
              "        [ 0.36389902,  0.10973504,  0.36208895, -0.2990056 ,  0.40427747,\n",
              "         -0.32199398,  0.0148856 ,  0.2634271 , -0.11755154,  0.20118001,\n",
              "          0.0945107 , -0.28037873, -0.30491805, -0.14409173, -0.24896911,\n",
              "         -0.3920853 ],\n",
              "        [ 0.04992333,  0.32845762, -0.3580076 ,  0.32392588, -0.3924569 ,\n",
              "          0.00213745, -0.34099105,  0.18529114,  0.251519  ,  0.1908944 ,\n",
              "         -0.09943405, -0.4253559 ,  0.332181  , -0.42418912,  0.30365083,\n",
              "          0.18858877],\n",
              "        [ 0.19759771,  0.2043778 , -0.1443046 ,  0.42241755, -0.25372273,\n",
              "          0.12025586, -0.2784303 ,  0.4178569 ,  0.20800355, -0.41609535,\n",
              "         -0.2972613 ,  0.30476817,  0.1534423 , -0.33762103, -0.27266186,\n",
              "          0.05142897],\n",
              "        [-0.28732532, -0.27981442, -0.13840854, -0.2744028 , -0.29826427,\n",
              "          0.35352513, -0.02467105, -0.33412716,  0.02093166,  0.09905693,\n",
              "         -0.35855776, -0.01470155, -0.25254455,  0.4172214 , -0.42955482,\n",
              "         -0.02516392],\n",
              "        [ 0.42392078,  0.09516928,  0.34498057, -0.19116342,  0.00297564,\n",
              "         -0.25380334, -0.08333775, -0.3760744 , -0.3455547 ,  0.07670322,\n",
              "         -0.10483104, -0.42181805, -0.35285002, -0.3054423 , -0.3030926 ,\n",
              "         -0.30807197],\n",
              "        [ 0.07744852, -0.12538928, -0.06392369,  0.2513378 ,  0.4111329 ,\n",
              "          0.21831271,  0.2461609 ,  0.08329561, -0.40292317,  0.2704111 ,\n",
              "          0.04331115, -0.3914436 , -0.00266343,  0.00678471, -0.16992286,\n",
              "          0.33793923],\n",
              "        [-0.08727351,  0.07316527,  0.36532155, -0.28571916,  0.40440163,\n",
              "          0.22571728,  0.3679503 , -0.12490591, -0.3715184 , -0.36582005,\n",
              "         -0.40555814, -0.02396441,  0.22195867,  0.25257656, -0.17380348,\n",
              "          0.23613068],\n",
              "        [ 0.13491169, -0.01698908, -0.05639318,  0.07441345,  0.04316857,\n",
              "         -0.23276132, -0.060682  , -0.18036148, -0.0771867 , -0.07564825,\n",
              "         -0.14431152, -0.05734855,  0.04387161, -0.26468003,  0.40157786,\n",
              "          0.40815666],\n",
              "        [-0.28789148,  0.15347585, -0.08258525, -0.42141202, -0.1040875 ,\n",
              "          0.4103674 ,  0.21231082, -0.11163175, -0.09825796, -0.34439316,\n",
              "         -0.25246167, -0.11603382,  0.36134115, -0.11222363,  0.04848295,\n",
              "          0.0558227 ]], dtype=float32)>,\n",
              " <tf.Variable 'dense/bias:0' shape=(16,) dtype=float32, numpy=\n",
              " array([0., 0., 0., 0., 0., 0., 0., 0., 0., 0., 0., 0., 0., 0., 0., 0.],\n",
              "       dtype=float32)>,\n",
              " <tf.Variable 'dense_1/kernel:0' shape=(16, 10) dtype=float32, numpy=\n",
              " array([[-0.33983582,  0.16150528,  0.1650964 , -0.05463296,  0.0898304 ,\n",
              "          0.12502134,  0.05378532,  0.289218  , -0.4220379 , -0.2249121 ],\n",
              "        [ 0.4730507 ,  0.15926445,  0.1054759 , -0.0690313 ,  0.24954236,\n",
              "         -0.26658157,  0.18762279, -0.34835118,  0.30826503, -0.06252587],\n",
              "        [-0.03890914, -0.35543606,  0.14047742, -0.30621237,  0.39452547,\n",
              "         -0.4441324 , -0.18072349, -0.29670823,  0.32725465, -0.41177177],\n",
              "        [ 0.20142937,  0.46754557,  0.04779583, -0.22333086, -0.21453911,\n",
              "          0.17459178,  0.05358601, -0.19101205, -0.24724285,  0.12269408],\n",
              "        [ 0.4421    , -0.1644176 ,  0.3946064 , -0.07081869, -0.13660896,\n",
              "          0.09369314, -0.0670988 , -0.24203347, -0.21244499,  0.30363792],\n",
              "        [ 0.31116408, -0.21050552, -0.24338003,  0.06708747, -0.4370948 ,\n",
              "          0.35522622, -0.13707215,  0.03989172, -0.34022397,  0.2654928 ],\n",
              "        [ 0.19649911,  0.19574112,  0.19817197,  0.2432158 , -0.3802809 ,\n",
              "         -0.1283901 ,  0.1521104 ,  0.4333126 ,  0.23528266, -0.19792363],\n",
              "        [-0.47586992, -0.15542233, -0.36457437, -0.22566193,  0.35470718,\n",
              "         -0.3775058 , -0.3001775 , -0.09918156, -0.15296194, -0.2177214 ],\n",
              "        [ 0.07743192, -0.0114252 , -0.23531578,  0.06233114, -0.04512721,\n",
              "         -0.35835263, -0.23166037, -0.22064313, -0.3692329 , -0.17143169],\n",
              "        [ 0.43632138, -0.23151651, -0.4410565 ,  0.02586102, -0.1930741 ,\n",
              "          0.12433624,  0.00595191, -0.11787602, -0.4202544 , -0.2944998 ],\n",
              "        [-0.25932866,  0.19199187,  0.30510414, -0.13314265, -0.1057649 ,\n",
              "         -0.10390165, -0.3247521 ,  0.00314599, -0.18520561,  0.1831637 ],\n",
              "        [-0.06505564,  0.38312018, -0.13647896,  0.19769478,  0.35541558,\n",
              "         -0.02800414,  0.0107412 , -0.30422866, -0.35242203, -0.2375542 ],\n",
              "        [-0.1173352 , -0.00795063,  0.01291996,  0.09286702,  0.396192  ,\n",
              "          0.3057586 , -0.2548815 , -0.29754257, -0.2219308 , -0.20907843],\n",
              "        [-0.38952988,  0.3361727 , -0.17059171,  0.12042677,  0.09879041,\n",
              "          0.26654607, -0.2344513 ,  0.43858784, -0.15830567,  0.09016865],\n",
              "        [-0.3635264 ,  0.2622872 , -0.24689274,  0.24831659,  0.1455512 ,\n",
              "          0.37822837, -0.0011822 , -0.41291332,  0.4123978 , -0.0743683 ],\n",
              "        [-0.01532307, -0.00730878, -0.39213425, -0.4489234 , -0.28027076,\n",
              "          0.2075203 ,  0.21493816,  0.01135635,  0.19227624,  0.21484661]],\n",
              "       dtype=float32)>,\n",
              " <tf.Variable 'dense_1/bias:0' shape=(10,) dtype=float32, numpy=array([0., 0., 0., 0., 0., 0., 0., 0., 0., 0.], dtype=float32)>]"
            ]
          },
          "metadata": {
            "tags": []
          },
          "execution_count": 6
        }
      ]
    },
    {
      "cell_type": "markdown",
      "metadata": {
        "id": "5s0nTcKrAXLU"
      },
      "source": [
        "***\n",
        "<a id=\"coding_tutorial_3\"></a>\n",
        "## The compile method\n",
        "\n",
        "#### Compile the model"
      ]
    },
    {
      "cell_type": "code",
      "metadata": {
        "id": "bkjjz7_qAXLV",
        "colab": {
          "base_uri": "https://localhost:8080/"
        },
        "outputId": "b7fb4110-211c-4661-f62d-567929c30b22"
      },
      "source": [
        "# Define the model optimizer, loss function and metrics\n",
        "model.compile(optimizer='sgd',\n",
        "    loss='sparse_categorical_crossentropy',\n",
        "    metrics=['accuracy', 'top_k_categorical_accuracy'])\n",
        "\n",
        "# Print the resulting model attributes\n",
        "print(model.loss)\n",
        "print(model.optimizer)\n",
        "print(model.metrics)\n",
        "print(model.optimizer.lr)"
      ],
      "execution_count": null,
      "outputs": [
        {
          "output_type": "stream",
          "text": [
            "sparse_categorical_crossentropy\n",
            "<tensorflow.python.keras.optimizer_v2.gradient_descent.SGD object at 0x7ff6904ceb70>\n",
            "[]\n",
            "<tf.Variable 'learning_rate:0' shape=() dtype=float32, numpy=0.01>\n"
          ],
          "name": "stdout"
        }
      ]
    },
    {
      "cell_type": "code",
      "metadata": {
        "scrolled": true,
        "id": "jAW2tGegAXLX",
        "colab": {
          "base_uri": "https://localhost:8080/"
        },
        "outputId": "4ec2bea9-8456-4e7b-ec28-4debf20d05fa"
      },
      "source": [
        "import numpy as np \n",
        "\n",
        "# Fit the model\n",
        "history = model.fit(train_images, train_labels,\n",
        "    epochs=8, batch_size=32, verbose=2)"
      ],
      "execution_count": null,
      "outputs": [
        {
          "output_type": "stream",
          "text": [
            "Epoch 1/8\n",
            "1875/1875 - 3s - loss: 1.6286 - accuracy: 0.5227 - top_k_categorical_accuracy: 0.6919\n",
            "Epoch 2/8\n",
            "1875/1875 - 3s - loss: 1.0496 - accuracy: 0.6917 - top_k_categorical_accuracy: 0.5646\n",
            "Epoch 3/8\n",
            "1875/1875 - 3s - loss: 0.8403 - accuracy: 0.7368 - top_k_categorical_accuracy: 0.4730\n",
            "Epoch 4/8\n",
            "1875/1875 - 3s - loss: 0.7301 - accuracy: 0.7623 - top_k_categorical_accuracy: 0.4264\n",
            "Epoch 5/8\n",
            "1875/1875 - 3s - loss: 0.6568 - accuracy: 0.7845 - top_k_categorical_accuracy: 0.4239\n",
            "Epoch 6/8\n",
            "1875/1875 - 3s - loss: 0.6022 - accuracy: 0.8015 - top_k_categorical_accuracy: 0.4599\n",
            "Epoch 7/8\n",
            "1875/1875 - 3s - loss: 0.5631 - accuracy: 0.8127 - top_k_categorical_accuracy: 0.4799\n",
            "Epoch 8/8\n",
            "1875/1875 - 3s - loss: 0.5351 - accuracy: 0.8210 - top_k_categorical_accuracy: 0.4938\n"
          ],
          "name": "stdout"
        }
      ]
    },
    {
      "cell_type": "code",
      "metadata": {
        "id": "aLonidzqAXLa",
        "colab": {
          "base_uri": "https://localhost:8080/",
          "height": 941
        },
        "outputId": "64d0b4e2-d0ce-4061-8b35-9d3bc9c805e3"
      },
      "source": [
        "# Plot training history\n",
        "import pandas as pd\n",
        "\n",
        "# Load the history into a pandas Dataframe\n",
        "df = pd.DataFrame(history.history)\n",
        "print(df.head())\n",
        "\n",
        "# Make a plot for the loss\n",
        "loss_plot = df.plot(y=\"loss\", title=\"Loss vs Epochs\", legend=False)\n",
        "loss_plot.set(xlabel=\"Epochs\", ylabel=\"Loss\")\n",
        "plt.show()\n",
        "\n",
        "# Make a plot for the accuracy\n",
        "acc_plot = df.plot(y=\"accuracy\",\n",
        "    title=\"Accuracy vs Epochs\", legend=False)\n",
        "acc_plot.set(xlabel=\"Epochs\", ylabel=\"Accuracy\")\n",
        "plt.show()\n",
        "\n",
        "# Make a plot for the topK\n",
        "topk_plot = df.plot(y=\"top_k_categorical_accuracy\",\n",
        "    title=\"TopK vs Epochs\", legend=False)\n",
        "acc_plot.set(xlabel=\"Epochs\", ylabel=\"TopK\")\n",
        "plt.show()"
      ],
      "execution_count": null,
      "outputs": [
        {
          "output_type": "stream",
          "text": [
            "       loss  accuracy  top_k_categorical_accuracy\n",
            "0  1.628568  0.522733                    0.691883\n",
            "1  1.049626  0.691667                    0.564617\n",
            "2  0.840317  0.736833                    0.473017\n",
            "3  0.730062  0.762267                    0.426367\n",
            "4  0.656832  0.784467                    0.423867\n"
          ],
          "name": "stdout"
        },
        {
          "output_type": "display_data",
          "data": {
            "image/png": "[encoded data removed]",
            "text/plain": [
              "<Figure size 432x288 with 1 Axes>"
            ]
          },
          "metadata": {
            "tags": [],
            "needs_background": "light"
          }
        },
        {
          "output_type": "display_data",
          "data": {
            "image/png": "[encoded data removed]",
            "text/plain": [
              "<Figure size 432x288 with 1 Axes>"
            ]
          },
          "metadata": {
            "tags": [],
            "needs_background": "light"
          }
        },
        {
          "output_type": "display_data",
          "data": {
            "image/png": "[encoded data removed]",
            "text/plain": [
              "<Figure size 432x288 with 1 Axes>"
            ]
          },
          "metadata": {
            "tags": [],
            "needs_background": "light"
          }
        }
      ]
    },
    {
      "cell_type": "markdown",
      "metadata": {
        "id": "ZLQkGOTmAXLc"
      },
      "source": [
        "***\n",
        "<a id=\"coding_tutorial_5\"></a>\n",
        "## The evaluate and predict methods\n",
        "#### Evaluate the model on the test set"
      ]
    },
    {
      "cell_type": "code",
      "metadata": {
        "id": "CxVJl3hIAXLd",
        "colab": {
          "base_uri": "https://localhost:8080/"
        },
        "outputId": "a659036d-4f39-46f5-9c45-e0e7e2525fa3"
      },
      "source": [
        "# Evaluate the model\n",
        "test_loss, test_acc, test_topk = model.evaluate(test_images, \n",
        "    test_labels, verbose=2)"
      ],
      "execution_count": null,
      "outputs": [
        {
          "output_type": "stream",
          "text": [
            "313/313 - 1s - loss: 0.5502 - accuracy: 0.8107 - top_k_categorical_accuracy: 0.5122\n"
          ],
          "name": "stdout"
        }
      ]
    },
    {
      "cell_type": "markdown",
      "metadata": {
        "id": "H47XBgvzAXLf"
      },
      "source": [
        "#### Make predictions from the model"
      ]
    },
    {
      "cell_type": "code",
      "metadata": {
        "id": "mrKbqih_AXLf",
        "colab": {
          "base_uri": "https://localhost:8080/",
          "height": 300
        },
        "outputId": "90108bab-b566-49c0-fccf-97bace7d9f40"
      },
      "source": [
        "# Choose a random test image\n",
        "\n",
        "random_idx = np.random.choice(test_images.shape[0])\n",
        "test_image = test_images[random_idx]\n",
        "plt.imshow(test_image)\n",
        "plt.show()\n",
        "print(f\"Label: {labels[test_labels[random_idx]]}\")\n",
        "\n",
        "# Get the model predictions\n",
        "pred = model.predict(test_image[np.newaxis,...])\n",
        "print(f\"Model predictions: {labels[np.argmax(pred)]}\")"
      ],
      "execution_count": null,
      "outputs": [
        {
          "output_type": "display_data",
          "data": {
            "image/png": "[encoded data removed]",
            "text/plain": [
              "<Figure size 432x288 with 1 Axes>"
            ]
          },
          "metadata": {
            "tags": [],
            "needs_background": "light"
          }
        },
        {
          "output_type": "stream",
          "text": [
            "Label: Bag\n",
            "Model predictions: Bag\n"
          ],
          "name": "stdout"
        }
      ]
    },
    {
      "cell_type": "markdown",
      "metadata": {
        "id": "LvhdyNYjAXLi"
      },
      "source": [
        "***\n",
        "<a id=\"coding_tutorial_2\"></a>\n",
        "## Convolution and pooling layers\n",
        "#### Build a convolutional neural network model"
      ]
    },
    {
      "cell_type": "code",
      "metadata": {
        "id": "oCbHDn-hAXLi",
        "colab": {
          "base_uri": "https://localhost:8080/"
        },
        "outputId": "7ac800bc-e285-45af-f7f6-55e09a6890d7"
      },
      "source": [
        "from tensorflow.keras.models import Sequential\n",
        "from tensorflow.keras.layers import Conv2D, MaxPooling2D, Dense, Flatten\n",
        "\n",
        "# Build the Sequential convolutional neural network model\n",
        "\n",
        "model = Sequential([\n",
        "    Conv2D(16, kernel_size=3, padding='SAME', strides=2, \n",
        "        activation='relu', input_shape=(28,28,1), \n",
        "        data_format='channels_last'),\n",
        "    MaxPooling2D(pool_size=3, data_format='channels_last'),\n",
        "    Flatten(),\n",
        "    Dense(64, activation='relu'),\n",
        "    Dense(10, activation='softmax')])\n",
        "\n",
        "# Print the model summary\n",
        "model.summary()"
      ],
      "execution_count": null,
      "outputs": [
        {
          "output_type": "stream",
          "text": [
            "Model: \"sequential_1\"\n",
            "_________________________________________________________________\n",
            "Layer (type)                 Output Shape              Param #   \n",
            "=================================================================\n",
            "conv2d (Conv2D)              (None, 14, 14, 16)        160       \n",
            "_________________________________________________________________\n",
            "max_pooling2d (MaxPooling2D) (None, 4, 4, 16)          0         \n",
            "_________________________________________________________________\n",
            "flatten_1 (Flatten)          (None, 256)               0         \n",
            "_________________________________________________________________\n",
            "dense_2 (Dense)              (None, 64)                16448     \n",
            "_________________________________________________________________\n",
            "dense_3 (Dense)              (None, 10)                650       \n",
            "=================================================================\n",
            "Total params: 17,258\n",
            "Trainable params: 17,258\n",
            "Non-trainable params: 0\n",
            "_________________________________________________________________\n"
          ],
          "name": "stdout"
        }
      ]
    },
    {
      "cell_type": "markdown",
      "metadata": {
        "id": "8FHC-BiRAXLm"
      },
      "source": [
        "***\n",
        "<a id=\"coding_tutorial_3\"></a>\n",
        "## The compile method\n",
        "\n",
        "#### Compile the model"
      ]
    },
    {
      "cell_type": "code",
      "metadata": {
        "id": "-Z77GwMeAXLm",
        "colab": {
          "base_uri": "https://localhost:8080/"
        },
        "outputId": "cefbbd03-8824-4e2d-bdc8-b59f931d9445"
      },
      "source": [
        "# Define the model optimizer, loss function and metrics\n",
        "from tensorflow.keras.optimizers import Adam\n",
        "from tensorflow.keras.losses import SparseCategoricalCrossentropy\n",
        "from tensorflow.keras.metrics import SparseCategoricalAccuracy, \\\n",
        "    SparseTopKCategoricalAccuracy\n",
        "\n",
        "model.compile(optimizer=Adam(learning_rate=1e-3),\n",
        "    loss=SparseCategoricalCrossentropy(),\n",
        "    metrics=[SparseCategoricalAccuracy(),\n",
        "        SparseTopKCategoricalAccuracy()])\n",
        "\n",
        "# Print the resulting model attributes\n",
        "print(model.loss)\n",
        "print(model.optimizer)\n",
        "print(model.metrics)\n",
        "print(model.optimizer.lr)"
      ],
      "execution_count": null,
      "outputs": [
        {
          "output_type": "stream",
          "text": [
            "<tensorflow.python.keras.losses.SparseCategoricalCrossentropy object at 0x7ff6900f0198>\n",
            "<tensorflow.python.keras.optimizer_v2.adam.Adam object at 0x7ff6900f0400>\n",
            "[]\n",
            "<tf.Variable 'learning_rate:0' shape=() dtype=float32, numpy=0.001>\n"
          ],
          "name": "stdout"
        }
      ]
    },
    {
      "cell_type": "code",
      "metadata": {
        "id": "LrndiMgdAXLo",
        "colab": {
          "base_uri": "https://localhost:8080/"
        },
        "outputId": "8028b1ff-88d6-4b4c-d21f-a92fb6d68c65"
      },
      "source": [
        "import numpy as np \n",
        "\n",
        "# Fit the model\n",
        "history = model.fit(train_images[...,np.newaxis], train_labels,\n",
        "    epochs=8, batch_size=32)"
      ],
      "execution_count": null,
      "outputs": [
        {
          "output_type": "stream",
          "text": [
            "Epoch 1/8\n",
            "1875/1875 [==============================] - 4s 2ms/step - loss: 0.5860 - sparse_categorical_accuracy: 0.7945 - sparse_top_k_categorical_accuracy: 0.9911\n",
            "Epoch 2/8\n",
            "1875/1875 [==============================] - 4s 2ms/step - loss: 0.4177 - sparse_categorical_accuracy: 0.8500 - sparse_top_k_categorical_accuracy: 0.9972\n",
            "Epoch 3/8\n",
            "1875/1875 [==============================] - 4s 2ms/step - loss: 0.3858 - sparse_categorical_accuracy: 0.8595 - sparse_top_k_categorical_accuracy: 0.9974\n",
            "Epoch 4/8\n",
            "1875/1875 [==============================] - 4s 2ms/step - loss: 0.3621 - sparse_categorical_accuracy: 0.8680 - sparse_top_k_categorical_accuracy: 0.9979\n",
            "Epoch 5/8\n",
            "1875/1875 [==============================] - 4s 2ms/step - loss: 0.3430 - sparse_categorical_accuracy: 0.8738 - sparse_top_k_categorical_accuracy: 0.9982\n",
            "Epoch 6/8\n",
            "1875/1875 [==============================] - 4s 2ms/step - loss: 0.3295 - sparse_categorical_accuracy: 0.8794 - sparse_top_k_categorical_accuracy: 0.9983\n",
            "Epoch 7/8\n",
            "1875/1875 [==============================] - 4s 2ms/step - loss: 0.3175 - sparse_categorical_accuracy: 0.8825 - sparse_top_k_categorical_accuracy: 0.9985\n",
            "Epoch 8/8\n",
            "1875/1875 [==============================] - 4s 2ms/step - loss: 0.3062 - sparse_categorical_accuracy: 0.8878 - sparse_top_k_categorical_accuracy: 0.9987\n"
          ],
          "name": "stdout"
        }
      ]
    },
    {
      "cell_type": "code",
      "metadata": {
        "id": "qws6zw7TAXLr",
        "colab": {
          "base_uri": "https://localhost:8080/",
          "height": 941
        },
        "outputId": "30f2515e-5558-4a78-d920-49afde01ae70"
      },
      "source": [
        "# Plot training history\n",
        "import pandas as pd\n",
        "\n",
        "# Load the history into a pandas Dataframe\n",
        "df = pd.DataFrame(history.history)\n",
        "print(df.head())\n",
        "\n",
        "# Make a plot for the loss\n",
        "loss_plot = df.plot(y=\"loss\", title=\"Loss vs Epochs\", legend=False)\n",
        "loss_plot.set(xlabel=\"Epochs\", ylabel=\"Loss\")\n",
        "plt.show()\n",
        "\n",
        "# Make a plot for the accuracy\n",
        "acc_plot = df.plot(y=\"sparse_categorical_accuracy\",\n",
        "    title=\"Accuracy vs Epochs\", legend=False)\n",
        "acc_plot.set(xlabel=\"Epochs\", ylabel=\"Accuracy\")\n",
        "plt.show()\n",
        "\n",
        "# Make a plot for the topK\n",
        "topk_plot = df.plot(y=\"sparse_top_k_categorical_accuracy\",\n",
        "    title=\"TopK vs Epochs\", legend=False)\n",
        "acc_plot.set(xlabel=\"Epochs\", ylabel=\"TopK\")\n",
        "plt.show()"
      ],
      "execution_count": null,
      "outputs": [
        {
          "output_type": "stream",
          "text": [
            "       loss  sparse_categorical_accuracy  sparse_top_k_categorical_accuracy\n",
            "0  0.586043                     0.794467                           0.991050\n",
            "1  0.417718                     0.850017                           0.997233\n",
            "2  0.385778                     0.859483                           0.997433\n",
            "3  0.362130                     0.867967                           0.997933\n",
            "4  0.342981                     0.873767                           0.998183\n"
          ],
          "name": "stdout"
        },
        {
          "output_type": "display_data",
          "data": {
            "image/png": "[encoded data removed]",
            "text/plain": [
              "<Figure size 432x288 with 1 Axes>"
            ]
          },
          "metadata": {
            "tags": [],
            "needs_background": "light"
          }
        },
        {
          "output_type": "display_data",
          "data": {
            "image/png": "[encoded data removed]",
            "text/plain": [
              "<Figure size 432x288 with 1 Axes>"
            ]
          },
          "metadata": {
            "tags": [],
            "needs_background": "light"
          }
        },
        {
          "output_type": "display_data",
          "data": {
            "image/png": "[encoded data removed]",
            "text/plain": [
              "<Figure size 432x288 with 1 Axes>"
            ]
          },
          "metadata": {
            "tags": [],
            "needs_background": "light"
          }
        }
      ]
    },
    {
      "cell_type": "markdown",
      "metadata": {
        "id": "iIIocr2OAXLt"
      },
      "source": [
        "***\n",
        "<a id=\"coding_tutorial_5\"></a>\n",
        "## The evaluate and predict methods\n",
        "#### Evaluate the model on the test set"
      ]
    },
    {
      "cell_type": "code",
      "metadata": {
        "id": "RX56m1KXAXLt",
        "colab": {
          "base_uri": "https://localhost:8080/"
        },
        "outputId": "bdbd82b8-399d-43d1-a89c-aa98cdadac77"
      },
      "source": [
        "# Evaluate the model\n",
        "test_loss, test_acc, test_topk = model.evaluate(test_images[...,np.newaxis], \n",
        "    test_labels, verbose=2)"
      ],
      "execution_count": null,
      "outputs": [
        {
          "output_type": "stream",
          "text": [
            "313/313 - 1s - loss: 0.3530 - sparse_categorical_accuracy: 0.8703 - sparse_top_k_categorical_accuracy: 0.9978\n"
          ],
          "name": "stdout"
        }
      ]
    },
    {
      "cell_type": "markdown",
      "metadata": {
        "id": "04OC9qGiAXLv"
      },
      "source": [
        "#### Make predictions from the model"
      ]
    },
    {
      "cell_type": "code",
      "metadata": {
        "id": "9pcG97pbAXLw",
        "colab": {
          "base_uri": "https://localhost:8080/",
          "height": 300
        },
        "outputId": "c8b85b17-7c01-4d86-ea53-6e9132373dad"
      },
      "source": [
        "# Choose a random test image\n",
        "\n",
        "test_image = test_images[random_idx]\n",
        "plt.imshow(test_image)\n",
        "plt.show()\n",
        "print(f\"Label: {labels[test_labels[random_idx]]}\")\n",
        "\n",
        "# Get the model predictions\n",
        "pred = model.predict(test_image[np.newaxis,...,np.newaxis])\n",
        "print(f\"Model predictions: {labels[np.argmax(pred)]}\")"
      ],
      "execution_count": null,
      "outputs": [
        {
          "output_type": "display_data",
          "data": {
            "image/png": "[encoded data removed]",
            "text/plain": [
              "<Figure size 432x288 with 1 Axes>"
            ]
          },
          "metadata": {
            "tags": [],
            "needs_background": "light"
          }
        },
        {
          "output_type": "stream",
          "text": [
            "Label: Bag\n",
            "Model predictions: Bag\n"
          ],
          "name": "stdout"
        }
      ]
    }
  ]
}