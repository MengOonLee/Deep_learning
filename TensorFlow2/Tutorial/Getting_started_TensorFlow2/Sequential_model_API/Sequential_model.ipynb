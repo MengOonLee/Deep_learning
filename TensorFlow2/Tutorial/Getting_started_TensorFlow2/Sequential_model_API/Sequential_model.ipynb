{
 "cells": [
  {
   "cell_type": "markdown",
   "metadata": {
    "colab_type": "text",
    "id": "view-in-github"
   },
   "source": [
    "<a href=\"https://colab.research.google.com/github/MengOonLee/Deep_learning/blob/master/TensorFlow2/Tutorial/Getting_started_TensorFlow2/Sequential_model_API/Sequential_model.ipynb\" target=\"_parent\"><img src=\"https://colab.research.google.com/assets/colab-badge.svg\" alt=\"Open In Colab\"/></a>"
   ]
  },
  {
   "cell_type": "code",
   "execution_count": null,
   "metadata": {},
   "outputs": [],
   "source": [
    "%%bash\n",
    "pip install -qU pip\n",
    "pip install -qU numpy pandas matplotlib"
   ]
  },
  {
   "cell_type": "markdown",
   "metadata": {},
   "source": [
    "# The Sequential model API"
   ]
  },
  {
   "cell_type": "code",
   "execution_count": 1,
   "metadata": {
    "colab": {
     "base_uri": "https://localhost:8080/"
    },
    "id": "Bqyxh2ekAXLB",
    "outputId": "c6e760b9-6620-4296-816d-e50e666ae842"
   },
   "outputs": [
    {
     "name": "stdout",
     "output_type": "stream",
     "text": [
      "2.9.1\n"
     ]
    }
   ],
   "source": [
    "import tensorflow as tf\n",
    "print(tf.__version__)"
   ]
  },
  {
   "cell_type": "markdown",
   "metadata": {
    "id": "Hq_7tgQdAXLB",
    "tags": []
   },
   "source": [
    "## Coding tutorials\n",
    "#### [1. Building a Sequential model](#coding_tutorial_1)\n",
    "#### [2. Convolutional and pooling layers](#coding_tutorial_2)\n",
    "#### [3. The compile method](#coding_tutorial_3)\n",
    "#### [4. The fit method](#coding_tutorial_4)\n",
    "#### [5. The evaluate and predict methods](#coding_tutorial_5)"
   ]
  },
  {
   "cell_type": "markdown",
   "metadata": {
    "id": "PKaVJT8BAXLP"
   },
   "source": [
    "***\n",
    "<a id=\"coding_tutorial_1\"></a>\n",
    "## Building a Sequential model"
   ]
  },
  {
   "cell_type": "code",
   "execution_count": 8,
   "metadata": {
    "scrolled": true,
    "tags": []
   },
   "outputs": [
    {
     "name": "stdout",
     "output_type": "stream",
     "text": [
      "Model: \"sequential_6\"\n",
      "_________________________________________________________________\n",
      " Layer (type)                Output Shape              Param #   \n",
      "=================================================================\n",
      " dense_16 (Dense)            (None, 64)                50240     \n",
      "                                                                 \n",
      " dense_17 (Dense)            (None, 10)                650       \n",
      "                                                                 \n",
      "=================================================================\n",
      "Total params: 50,890\n",
      "Trainable params: 50,890\n",
      "Non-trainable params: 0\n",
      "_________________________________________________________________\n",
      "None\n",
      "Model: \"sequential_7\"\n",
      "_________________________________________________________________\n",
      " Layer (type)                Output Shape              Param #   \n",
      "=================================================================\n",
      " dense_18 (Dense)            (None, 64)                50240     \n",
      "                                                                 \n",
      " dense_19 (Dense)            (None, 10)                650       \n",
      "                                                                 \n",
      "=================================================================\n",
      "Total params: 50,890\n",
      "Trainable params: 50,890\n",
      "Non-trainable params: 0\n",
      "_________________________________________________________________\n",
      "None\n"
     ]
    }
   ],
   "source": [
    "from tensorflow.keras.models import Sequential\n",
    "from tensorflow.keras.layers import Dense\n",
    "\n",
    "model = Sequential([\n",
    "    Dense(64, activation='relu', input_shape=(784,)),\n",
    "    Dense(10, activation='softmax')\n",
    "])\n",
    "print(model.summary())\n",
    "\n",
    "# Alternative way\n",
    "model = Sequential()\n",
    "model.add(Dense(64, activation='relu', input_shape=(784,)))\n",
    "model.add(Dense(10, activation='softmax'))\n",
    "print(model.summary())"
   ]
  },
  {
   "cell_type": "code",
   "execution_count": 10,
   "metadata": {
    "scrolled": true,
    "tags": []
   },
   "outputs": [
    {
     "name": "stdout",
     "output_type": "stream",
     "text": [
      "Model: \"sequential_8\"\n",
      "_________________________________________________________________\n",
      " Layer (type)                Output Shape              Param #   \n",
      "=================================================================\n",
      " flatten_6 (Flatten)         (None, 784)               0         \n",
      "                                                                 \n",
      " dense_20 (Dense)            (None, 64)                50240     \n",
      "                                                                 \n",
      " dense_21 (Dense)            (None, 10)                650       \n",
      "                                                                 \n",
      "=================================================================\n",
      "Total params: 50,890\n",
      "Trainable params: 50,890\n",
      "Non-trainable params: 0\n",
      "_________________________________________________________________\n",
      "None\n"
     ]
    }
   ],
   "source": [
    "from tensorflow.keras.models import Sequential\n",
    "from tensorflow.keras.layers import Flatten, Dense\n",
    "\n",
    "model = Sequential([\n",
    "    Flatten(input_shape=(28, 28)), # (784, )\n",
    "    Dense(64, activation='relu'),\n",
    "    Dense(10, activation='softmax')\n",
    "])\n",
    "print(model.summary())"
   ]
  },
  {
   "cell_type": "markdown",
   "metadata": {},
   "source": [
    "#### Build a feedforward neural network model"
   ]
  },
  {
   "cell_type": "code",
   "execution_count": 6,
   "metadata": {
    "scrolled": true,
    "tags": []
   },
   "outputs": [
    {
     "name": "stdout",
     "output_type": "stream",
     "text": [
      "Model: \"sequential_4\"\n",
      "_________________________________________________________________\n",
      " Layer (type)                Output Shape              Param #   \n",
      "=================================================================\n",
      " flatten_4 (Flatten)         (None, 784)               0         \n",
      "                                                                 \n",
      " layer_1 (Dense)             (None, 16)                12560     \n",
      "                                                                 \n",
      " dense_12 (Dense)            (None, 16)                272       \n",
      "                                                                 \n",
      " dense_13 (Dense)            (None, 10)                170       \n",
      "                                                                 \n",
      " softmax_1 (Softmax)         (None, 10)                0         \n",
      "                                                                 \n",
      "=================================================================\n",
      "Total params: 13,002\n",
      "Trainable params: 13,002\n",
      "Non-trainable params: 0\n",
      "_________________________________________________________________\n"
     ]
    }
   ],
   "source": [
    "from tensorflow.keras.models import Sequential\n",
    "from tensorflow.keras.layers import Dense, Flatten, Softmax\n",
    "\n",
    "# Build the Sequential feeforward neural network model\n",
    "model = Sequential([\n",
    "    Flatten(input_shape=(28, 28)),\n",
    "    Dense(16, activation='relu', name='layer_1'),\n",
    "    Dense(16, activation='relu'),\n",
    "    Dense(10),\n",
    "    Softmax()\n",
    "])\n",
    "\n",
    "# Print the model summary\n",
    "model.summary()"
   ]
  },
  {
   "cell_type": "code",
   "execution_count": 3,
   "metadata": {
    "colab": {
     "base_uri": "https://localhost:8080/"
    },
    "id": "S1f_GFVyAXLP",
    "outputId": "9b487999-940e-430b-bb88-680697658485",
    "scrolled": true,
    "tags": []
   },
   "outputs": [
    {
     "name": "stdout",
     "output_type": "stream",
     "text": [
      "Model: \"sequential_1\"\n",
      "_________________________________________________________________\n",
      " Layer (type)                Output Shape              Param #   \n",
      "=================================================================\n",
      " flatten_1 (Flatten)         (None, 784)               0         \n",
      "                                                                 \n",
      " layer_1 (Dense)             (None, 16)                12560     \n",
      "                                                                 \n",
      " dense_2 (Dense)             (None, 16)                272       \n",
      "                                                                 \n",
      " dense_3 (Dense)             (None, 10)                170       \n",
      "                                                                 \n",
      "=================================================================\n",
      "Total params: 13,002\n",
      "Trainable params: 13,002\n",
      "Non-trainable params: 0\n",
      "_________________________________________________________________\n",
      "None\n"
     ]
    },
    {
     "data": {
      "text/plain": [
       "[<tf.Variable 'layer_1/kernel:0' shape=(784, 16) dtype=float32, numpy=\n",
       " array([[ 0.06988077,  0.04167448, -0.04498854, ..., -0.05995205,\n",
       "         -0.01521076, -0.03278366],\n",
       "        [-0.06164915,  0.02189834, -0.04033286, ..., -0.04096825,\n",
       "         -0.08574174, -0.02629537],\n",
       "        [-0.01463673, -0.00435697, -0.00212774, ..., -0.03189784,\n",
       "         -0.08409759, -0.0580669 ],\n",
       "        ...,\n",
       "        [-0.07372784, -0.06149036, -0.04459856, ...,  0.02388866,\n",
       "         -0.02399786, -0.05040024],\n",
       "        [-0.04193243,  0.01795562,  0.08446984, ...,  0.04633577,\n",
       "         -0.009927  , -0.01267826],\n",
       "        [-0.01067325,  0.0205898 , -0.04310035, ..., -0.03811445,\n",
       "         -0.00579937, -0.02952833]], dtype=float32)>,\n",
       " <tf.Variable 'layer_1/bias:0' shape=(16,) dtype=float32, numpy=\n",
       " array([0., 0., 0., 0., 0., 0., 0., 0., 0., 0., 0., 0., 0., 0., 0., 0.],\n",
       "       dtype=float32)>,\n",
       " <tf.Variable 'dense_2/kernel:0' shape=(16, 16) dtype=float32, numpy=\n",
       " array([[-0.00084791, -0.294695  , -0.05413175, -0.3914401 , -0.25794142,\n",
       "          0.3731539 , -0.3792711 , -0.27614307,  0.39937744, -0.21223053,\n",
       "          0.10620657, -0.19088736,  0.21988401,  0.00798032, -0.39049464,\n",
       "          0.05296659],\n",
       "        [-0.23203163, -0.21687657, -0.24358925,  0.34527567, -0.0022949 ,\n",
       "         -0.04559839, -0.2794019 ,  0.07146731,  0.2767541 , -0.06840321,\n",
       "          0.11030236, -0.24467346,  0.05797231,  0.21020189, -0.33644393,\n",
       "         -0.25328684],\n",
       "        [-0.29285115,  0.40364757,  0.3748379 , -0.4053179 ,  0.3945082 ,\n",
       "         -0.31388122,  0.358492  , -0.35171163,  0.40109387,  0.03876618,\n",
       "         -0.36649132, -0.12063247,  0.18793425,  0.14010516, -0.40630734,\n",
       "         -0.19923376],\n",
       "        [-0.3409349 , -0.34708303,  0.25826362, -0.26729855, -0.31583613,\n",
       "          0.41946688,  0.10480139, -0.27827513, -0.01676506,  0.20777413,\n",
       "          0.3755444 ,  0.26798096,  0.2366859 , -0.36709505, -0.4194731 ,\n",
       "         -0.03454736],\n",
       "        [ 0.17519578, -0.25607604,  0.01090083,  0.2958679 , -0.2309912 ,\n",
       "          0.10535237, -0.18216765, -0.3230239 , -0.02071157,  0.260412  ,\n",
       "         -0.08237019,  0.03614649, -0.13471046,  0.01135838, -0.23505227,\n",
       "          0.32752457],\n",
       "        [-0.2990852 , -0.22101466,  0.39036372, -0.3467311 ,  0.06709322,\n",
       "          0.28284052, -0.06458628, -0.06799272,  0.41113266,  0.37690982,\n",
       "         -0.2467409 , -0.01504183, -0.17320243, -0.17387009, -0.2004341 ,\n",
       "          0.20171252],\n",
       "        [-0.09862053,  0.26049557, -0.2726818 ,  0.03085357, -0.15837607,\n",
       "         -0.1502248 ,  0.39844844,  0.33454868, -0.27746978,  0.41026363,\n",
       "          0.21675286, -0.16525525,  0.39192942, -0.3503745 , -0.15389708,\n",
       "         -0.12996656],\n",
       "        [-0.10103476, -0.02240539, -0.38388407,  0.35346463,  0.14965823,\n",
       "         -0.3512736 ,  0.08481863, -0.40138358,  0.3070239 , -0.27109978,\n",
       "          0.3477929 , -0.39733633,  0.29196826, -0.30091417,  0.23847821,\n",
       "          0.39565405],\n",
       "        [ 0.27797434, -0.30807716, -0.03117341, -0.04363263, -0.09500337,\n",
       "         -0.2690597 , -0.4138275 ,  0.06616262, -0.30400687, -0.19052479,\n",
       "          0.3801141 , -0.26585877, -0.04342017,  0.02159724,  0.3830646 ,\n",
       "          0.36258665],\n",
       "        [-0.3303851 , -0.10719374, -0.03485385,  0.09644315,  0.31149164,\n",
       "         -0.0835273 , -0.19977131,  0.29661986,  0.2698476 , -0.38368276,\n",
       "         -0.35002512,  0.22142163, -0.03563157, -0.20667817, -0.12917295,\n",
       "          0.31355777],\n",
       "        [-0.23178282, -0.15891477, -0.13621297,  0.17422101,  0.27077737,\n",
       "         -0.00544694, -0.369363  ,  0.3116652 ,  0.06392863,  0.13171676,\n",
       "          0.00937712,  0.42113099, -0.40701532,  0.34126028, -0.14943844,\n",
       "          0.25567135],\n",
       "        [-0.42042753,  0.08003423, -0.12525281, -0.22133759, -0.4008197 ,\n",
       "          0.06268865,  0.3275111 ,  0.07091507,  0.24217394, -0.19199625,\n",
       "         -0.342867  , -0.16159609,  0.34912995,  0.31874374,  0.29990986,\n",
       "          0.34896186],\n",
       "        [ 0.17933765, -0.3010784 , -0.05152652,  0.42156705, -0.14577967,\n",
       "         -0.3589313 ,  0.18815503,  0.15091637, -0.26414472, -0.05540147,\n",
       "         -0.1454046 ,  0.08640787,  0.4256898 ,  0.00810257,  0.33241472,\n",
       "          0.06777057],\n",
       "        [ 0.03920144, -0.34218037, -0.07053155,  0.14056167, -0.39068243,\n",
       "         -0.27406734, -0.0874739 ,  0.26412264, -0.26215583,  0.00118518,\n",
       "          0.13772461, -0.2807539 , -0.3087072 , -0.03427428,  0.02864614,\n",
       "         -0.3982413 ],\n",
       "        [ 0.26826075, -0.06753063, -0.24741589,  0.18912402,  0.21695885,\n",
       "         -0.32672703,  0.12592241,  0.1172758 ,  0.04006594,  0.01567829,\n",
       "         -0.2686335 , -0.33245468,  0.13657889, -0.08287048,  0.13552389,\n",
       "          0.41907677],\n",
       "        [ 0.01556027, -0.04867128,  0.35467526, -0.00334224, -0.18798822,\n",
       "         -0.06240731, -0.21635862,  0.32813373,  0.00627628, -0.0599353 ,\n",
       "         -0.20283832, -0.08005282, -0.14762762,  0.3284156 , -0.21976486,\n",
       "          0.15977362]], dtype=float32)>,\n",
       " <tf.Variable 'dense_2/bias:0' shape=(16,) dtype=float32, numpy=\n",
       " array([0., 0., 0., 0., 0., 0., 0., 0., 0., 0., 0., 0., 0., 0., 0., 0.],\n",
       "       dtype=float32)>,\n",
       " <tf.Variable 'dense_3/kernel:0' shape=(16, 10) dtype=float32, numpy=\n",
       " array([[ 0.42108488,  0.26627815,  0.16458905,  0.01235005,  0.09056962,\n",
       "          0.08440524, -0.19970885, -0.08372617,  0.05811018, -0.06734151],\n",
       "        [ 0.34349626,  0.04144543,  0.43773806,  0.22457528, -0.30540687,\n",
       "          0.30442786,  0.13045478, -0.094257  , -0.46493012, -0.37433624],\n",
       "        [ 0.36297733,  0.04146928,  0.44013244,  0.35658163, -0.2638629 ,\n",
       "          0.19438988,  0.06410128, -0.388421  , -0.3658599 ,  0.21861798],\n",
       "        [-0.37093142, -0.05899608, -0.10169268,  0.3319422 , -0.1558091 ,\n",
       "          0.17289275,  0.34241426,  0.40116882, -0.10895851,  0.1996302 ],\n",
       "        [ 0.11387908,  0.04235107, -0.27365738, -0.07261732, -0.30633825,\n",
       "         -0.42326385, -0.04618388,  0.46781808, -0.19975913,  0.42083716],\n",
       "        [ 0.10649663, -0.22773108,  0.2694748 ,  0.41833848,  0.32577753,\n",
       "         -0.18803993,  0.4522996 ,  0.27496892,  0.07446104, -0.26262105],\n",
       "        [-0.16368848,  0.4078883 ,  0.3192234 ,  0.33881295, -0.05896035,\n",
       "          0.07426625,  0.31685704, -0.21215889, -0.23103341,  0.4194513 ],\n",
       "        [ 0.34950376,  0.20684081,  0.20066428, -0.21954384,  0.14647448,\n",
       "          0.2827049 ,  0.04142904, -0.11323115,  0.24748075, -0.1306481 ],\n",
       "        [-0.449754  ,  0.32245684,  0.0618754 , -0.45936328, -0.46897268,\n",
       "         -0.05107626, -0.39103577,  0.30021638, -0.4422015 , -0.2786935 ],\n",
       "        [-0.02453998, -0.38508683, -0.34935954,  0.0854466 , -0.17816997,\n",
       "         -0.3149566 ,  0.31387943,  0.21424681, -0.22266084,  0.44381917],\n",
       "        [ 0.19712144,  0.41125834, -0.23143576,  0.46862334, -0.18186456,\n",
       "          0.44759083,  0.32638645,  0.43997967,  0.04999095, -0.3839525 ],\n",
       "        [ 0.4269666 ,  0.1336788 ,  0.3938535 ,  0.20022333, -0.24916025,\n",
       "         -0.34304708, -0.13064891, -0.28929007,  0.42500007,  0.02521724],\n",
       "        [ 0.03216761, -0.20622474, -0.02838242, -0.46117002, -0.2413213 ,\n",
       "          0.1830988 ,  0.08487332, -0.3500772 ,  0.36348814,  0.02211052],\n",
       "        [ 0.31431246, -0.19554812,  0.3246928 , -0.40299505, -0.47278318,\n",
       "         -0.33237094,  0.3209138 ,  0.14590406, -0.00833374, -0.37797928],\n",
       "        [ 0.19068348, -0.4417935 ,  0.33816433, -0.09621802, -0.00458956,\n",
       "          0.30599278,  0.32306927,  0.34446788,  0.01136586, -0.10523289],\n",
       "        [ 0.35848355,  0.04782134,  0.07229549, -0.26154262,  0.22394544,\n",
       "          0.27329946,  0.4414763 ,  0.28460658, -0.15846363,  0.00101131]],\n",
       "       dtype=float32)>,\n",
       " <tf.Variable 'dense_3/bias:0' shape=(10,) dtype=float32, numpy=array([0., 0., 0., 0., 0., 0., 0., 0., 0., 0.], dtype=float32)>]"
      ]
     },
     "execution_count": 3,
     "metadata": {},
     "output_type": "execute_result"
    }
   ],
   "source": [
    "from tensorflow.keras.models import Sequential\n",
    "from tensorflow.keras.layers import Dense, Flatten\n",
    "\n",
    "# Build the sequential feedforward neural network model\n",
    "\n",
    "model = Sequential()\n",
    "model.add(Flatten(input_shape=(28,28)))\n",
    "model.add(Dense(16, activation='relu', name='layer_1'))\n",
    "model.add(Dense(16, activation='sigmoid'))\n",
    "model.add(Dense(10, activation='softmax'))\n",
    "\n",
    "# Print the model summary\n",
    "print(model.summary())\n",
    "\n",
    "model.weights"
   ]
  },
  {
   "cell_type": "markdown",
   "metadata": {
    "id": "LvhdyNYjAXLi"
   },
   "source": [
    "***\n",
    "<a id=\"coding_tutorial_2\"></a>\n",
    "## Convolution and pooling layers"
   ]
  },
  {
   "cell_type": "code",
   "execution_count": 11,
   "metadata": {
    "scrolled": true,
    "tags": []
   },
   "outputs": [
    {
     "name": "stdout",
     "output_type": "stream",
     "text": [
      "Model: \"sequential_9\"\n",
      "_________________________________________________________________\n",
      " Layer (type)                Output Shape              Param #   \n",
      "=================================================================\n",
      " conv2d (Conv2D)             (None, 30, 30, 16)        448       \n",
      "                                                                 \n",
      " max_pooling2d (MaxPooling2D  (None, 10, 10, 16)       0         \n",
      " )                                                               \n",
      "                                                                 \n",
      " flatten_7 (Flatten)         (None, 1600)              0         \n",
      "                                                                 \n",
      " dense_22 (Dense)            (None, 64)                102464    \n",
      "                                                                 \n",
      " dense_23 (Dense)            (None, 10)                650       \n",
      "                                                                 \n",
      "=================================================================\n",
      "Total params: 103,562\n",
      "Trainable params: 103,562\n",
      "Non-trainable params: 0\n",
      "_________________________________________________________________\n",
      "None\n"
     ]
    }
   ],
   "source": [
    "from tensorflow.keras.models import Sequential\n",
    "from tensorflow.keras.layers import Flatten, Dense, Conv2D, MaxPooling2D\n",
    "\n",
    "model = Sequential([\n",
    "    Conv2D(16, (3, 3), activation='relu', input_shape=(32, 32, 3)),\n",
    "    MaxPooling2D((3, 3)),\n",
    "    Flatten(),\n",
    "    Dense(64, activation='relu'),\n",
    "    Dense(10, activation='softmax')\n",
    "])\n",
    "\n",
    "print(model.summary())"
   ]
  },
  {
   "cell_type": "code",
   "execution_count": 4,
   "metadata": {
    "scrolled": true,
    "tags": []
   },
   "outputs": [
    {
     "name": "stdout",
     "output_type": "stream",
     "text": [
      "Model: \"sequential_2\"\n",
      "_________________________________________________________________\n",
      " Layer (type)                Output Shape              Param #   \n",
      "=================================================================\n",
      " conv2d_2 (Conv2D)           (None, 32, 32, 16)        448       \n",
      "                                                                 \n",
      " max_pooling2d_2 (MaxPooling  (None, 10, 10, 16)       0         \n",
      " 2D)                                                             \n",
      "                                                                 \n",
      " flatten_2 (Flatten)         (None, 1600)              0         \n",
      "                                                                 \n",
      " dense_2 (Dense)             (None, 64)                102464    \n",
      "                                                                 \n",
      " dense_3 (Dense)             (None, 10)                650       \n",
      "                                                                 \n",
      "=================================================================\n",
      "Total params: 103,562\n",
      "Trainable params: 103,562\n",
      "Non-trainable params: 0\n",
      "_________________________________________________________________\n",
      "None\n"
     ]
    }
   ],
   "source": [
    "from tensorflow.keras.models import Sequential\n",
    "from tensorflow.keras.layers import Flatten, Dense, Conv2D, MaxPooling2D\n",
    "\n",
    "model = Sequential([\n",
    "    Conv2D(16, kernel_size=3, padding='SAME', activation='relu',\n",
    "        input_shape=(32, 32, 3)),\n",
    "    MaxPooling2D(pool_size=3),\n",
    "    Flatten(),\n",
    "    Dense(64, activation='relu'),\n",
    "    Dense(10, activation='softmax')\n",
    "])\n",
    "\n",
    "print(model.summary())"
   ]
  },
  {
   "cell_type": "markdown",
   "metadata": {},
   "source": [
    "#### Build a convolutional neural network model"
   ]
  },
  {
   "cell_type": "code",
   "execution_count": 3,
   "metadata": {
    "colab": {
     "base_uri": "https://localhost:8080/"
    },
    "id": "oCbHDn-hAXLi",
    "outputId": "7ac800bc-e285-45af-f7f6-55e09a6890d7",
    "scrolled": true,
    "tags": []
   },
   "outputs": [
    {
     "name": "stdout",
     "output_type": "stream",
     "text": [
      "Model: \"sequential_1\"\n",
      "_________________________________________________________________\n",
      " Layer (type)                Output Shape              Param #   \n",
      "=================================================================\n",
      " conv2d_1 (Conv2D)           (None, 16, 14, 14)        160       \n",
      "                                                                 \n",
      " max_pooling2d_1 (MaxPooling  (None, 16, 4, 4)         0         \n",
      " 2D)                                                             \n",
      "                                                                 \n",
      " flatten_1 (Flatten)         (None, 256)               0         \n",
      "                                                                 \n",
      " dense_1 (Dense)             (None, 10)                2570      \n",
      "                                                                 \n",
      "=================================================================\n",
      "Total params: 2,730\n",
      "Trainable params: 2,730\n",
      "Non-trainable params: 0\n",
      "_________________________________________________________________\n"
     ]
    }
   ],
   "source": [
    "from tensorflow.keras.models import Sequential\n",
    "from tensorflow.keras.layers import Dense, Flatten, Conv2D, MaxPooling2D\n",
    "\n",
    "# Build the Sequential convolutional neural network model\n",
    "\n",
    "model = Sequential([\n",
    "    Conv2D(16, kernel_size=(3, 3), padding='SAME', strides=2, \n",
    "        activation='relu', input_shape=(1, 28, 28), \n",
    "        data_format='channels_first'),\n",
    "    MaxPooling2D(pool_size=(3, 3), data_format='channels_first'),\n",
    "    Flatten(),\n",
    "    Dense(10, activation='softmax')])\n",
    "\n",
    "# Print the model summary\n",
    "model.summary()"
   ]
  },
  {
   "cell_type": "markdown",
   "metadata": {
    "id": "8FHC-BiRAXLm"
   },
   "source": [
    "***\n",
    "<a id=\"coding_tutorial_3\"></a>\n",
    "## The compile method"
   ]
  },
  {
   "cell_type": "code",
   "execution_count": 4,
   "metadata": {},
   "outputs": [
    {
     "name": "stdout",
     "output_type": "stream",
     "text": [
      "Model: \"sequential_2\"\n",
      "_________________________________________________________________\n",
      " Layer (type)                Output Shape              Param #   \n",
      "=================================================================\n",
      " dense_4 (Dense)             (None, 64)                2112      \n",
      "                                                                 \n",
      " dense_5 (Dense)             (None, 1)                 65        \n",
      "                                                                 \n",
      "=================================================================\n",
      "Total params: 2,177\n",
      "Trainable params: 2,177\n",
      "Non-trainable params: 0\n",
      "_________________________________________________________________\n"
     ]
    }
   ],
   "source": [
    "import tensorflow as tf\n",
    "from tensorflow.keras.models import Sequential\n",
    "from tensorflow.keras.layers import Dense\n",
    "\n",
    "model = Sequential([\n",
    "    Dense(64, activation='elu', input_shape=(32,)),\n",
    "    Dense(1, activation='sigmoid')\n",
    "])\n",
    "\n",
    "model.compile(\n",
    "    optimizer='sgd', # 'adam', 'rmsprop', 'adadelta'\n",
    "    loss='binary_crossentropy', # 'mean_squared_error', 'categorical_crossentropy'\n",
    "    metrics=['accuracy', 'mae']\n",
    ")\n",
    "\n",
    "model.summary()"
   ]
  },
  {
   "cell_type": "code",
   "execution_count": 5,
   "metadata": {},
   "outputs": [
    {
     "name": "stdout",
     "output_type": "stream",
     "text": [
      "Model: \"sequential_3\"\n",
      "_________________________________________________________________\n",
      " Layer (type)                Output Shape              Param #   \n",
      "=================================================================\n",
      " dense_6 (Dense)             (None, 64)                2112      \n",
      "                                                                 \n",
      " dense_7 (Dense)             (None, 1)                 65        \n",
      "                                                                 \n",
      "=================================================================\n",
      "Total params: 2,177\n",
      "Trainable params: 2,177\n",
      "Non-trainable params: 0\n",
      "_________________________________________________________________\n"
     ]
    }
   ],
   "source": [
    "import tensorflow as tf\n",
    "from tensorflow.keras.models import Sequential\n",
    "from tensorflow.keras.layers import Dense\n",
    "\n",
    "model = Sequential([\n",
    "    Dense(64, activation='elu', input_shape=(32,)),\n",
    "    Dense(1, activation='linear')\n",
    "])\n",
    "\n",
    "model.compile(\n",
    "    optimizer=tf.keras.optimizers.SGD(learning_rate=0.001, momentum=0.9, nesterov=True),\n",
    "    loss=tf.keras.losses.BinaryCrossentropy(from_logits=True),\n",
    "    metrics=[tf.keras.metrics.BinaryAccuracy(threshold=0.7), \n",
    "        tf.keras.metrics.MeanAbsoluteError()]\n",
    ")\n",
    "\n",
    "model.summary()"
   ]
  },
  {
   "cell_type": "markdown",
   "metadata": {},
   "source": [
    "#### Compile the model"
   ]
  },
  {
   "cell_type": "code",
   "execution_count": 4,
   "metadata": {},
   "outputs": [
    {
     "name": "stdout",
     "output_type": "stream",
     "text": [
      "sparse_categorical_crossentropy\n",
      "<keras.optimizers.optimizer_v2.adam.Adam object at 0x7fd1002aa0d0>\n",
      "[]\n"
     ]
    }
   ],
   "source": [
    "# Define the model optimizer, loss function and metrics\n",
    "model.compile(optimizer='adam',\n",
    "    loss='sparse_categorical_crossentropy',\n",
    "    metrics=['accuracy'])\n",
    "\n",
    "# Print the resulting model attributes\n",
    "print(model.loss)\n",
    "print(model.optimizer)\n",
    "print(model.metrics)"
   ]
  },
  {
   "cell_type": "code",
   "execution_count": 8,
   "metadata": {},
   "outputs": [
    {
     "name": "stdout",
     "output_type": "stream",
     "text": [
      "categorical_crossentropy\n",
      "<keras.optimizers.optimizer_v2.gradient_descent.SGD object at 0x7fd1002cd6a0>\n",
      "<tf.Variable 'learning_rate:0' shape=() dtype=float32, numpy=0.005>\n",
      "[]\n"
     ]
    }
   ],
   "source": [
    "# Define the model optimizer, loss function and metrics\n",
    "\n",
    "opt = tf.keras.optimizers.SGD(learning_rate=0.005)\n",
    "acc = tf.keras.metrics.SparseCategoricalAccuracy()\n",
    "mae = tf.keras.metrics.MeanAbsoluteError()\n",
    "\n",
    "model.compile(optimizer=opt,\n",
    "    loss='categorical_crossentropy',\n",
    "    metrics=[acc, mae])\n",
    "\n",
    "# Print the resulting model attributes\n",
    "print(model.loss)\n",
    "print(model.optimizer)\n",
    "print(model.optimizer.lr)\n",
    "print(model.metrics)"
   ]
  },
  {
   "cell_type": "markdown",
   "metadata": {
    "id": "8FHC-BiRAXLm"
   },
   "source": [
    "***\n",
    "<a id=\"coding_tutorial_3\"></a>\n",
    "## The fit method"
   ]
  },
  {
   "cell_type": "code",
   "execution_count": null,
   "metadata": {},
   "outputs": [],
   "source": [
    "import tensorflow as tf\n",
    "from tensorflow.keras.models import Sequential\n",
    "from tensorflow.keras.layers import Dense\n",
    "\n",
    "model = Sequential([\n",
    "    Dense(64, activation='elu', input_shape=(32,)),\n",
    "    Dense(100, activation='softmax')\n",
    "])\n",
    "\n",
    "model.compile(\n",
    "    optimizer='rmsprop',\n",
    "    loss='categorical_crossentropy',\n",
    "    metrics=['accuracy']\n",
    ")\n",
    "\n",
    "# X_train: (num_samples, num_features)\n",
    "# y_train: (num_samples, num_classes(one-hot encoded))\n",
    "model.fit(X_train, y_train)"
   ]
  },
  {
   "cell_type": "code",
   "execution_count": null,
   "metadata": {},
   "outputs": [],
   "source": [
    "import tensorflow as tf\n",
    "from tensorflow.keras.models import Sequential\n",
    "from tensorflow.keras.layers import Dense\n",
    "\n",
    "model = Sequential([\n",
    "    Dense(64, activation='elu', input_shape=(32,)),\n",
    "    Dense(100, activation='softmax')\n",
    "])\n",
    "\n",
    "model.compile(\n",
    "    optimizer='rmsprop',\n",
    "    loss='sparse_categorical_crossentropy',\n",
    "    metrics=['accuracy']\n",
    ")\n",
    "\n",
    "# X_train: (num_samples, num_features)\n",
    "# y_train: (num_samples,) (single integer for each label)\n",
    "history = model.fit(X_train, y_train, epochs=10, batch_size=16)"
   ]
  },
  {
   "cell_type": "markdown",
   "metadata": {},
   "source": [
    "#### Load the data"
   ]
  },
  {
   "cell_type": "code",
   "execution_count": 2,
   "metadata": {},
   "outputs": [],
   "source": [
    "%matplotlib inline\n",
    "import matplotlib.pyplot as plt\n",
    "import numpy as np\n",
    "import pandas as pd\n",
    "\n",
    "import tensorflow as tf\n",
    "from tensorflow.keras.preprocessing import image"
   ]
  },
  {
   "cell_type": "code",
   "execution_count": 6,
   "metadata": {
    "scrolled": true,
    "tags": []
   },
   "outputs": [
    {
     "name": "stdout",
     "output_type": "stream",
     "text": [
      "Downloading data from https://storage.googleapis.com/tensorflow/tf-keras-datasets/train-labels-idx1-ubyte.gz\n",
      "29515/29515 [==============================] - 0s 0us/step\n",
      "Downloading data from https://storage.googleapis.com/tensorflow/tf-keras-datasets/train-images-idx3-ubyte.gz\n",
      "26421880/26421880 [==============================] - 5s 0us/step\n",
      "Downloading data from https://storage.googleapis.com/tensorflow/tf-keras-datasets/t10k-labels-idx1-ubyte.gz\n",
      "5148/5148 [==============================] - 0s 0us/step\n",
      "Downloading data from https://storage.googleapis.com/tensorflow/tf-keras-datasets/t10k-images-idx3-ubyte.gz\n",
      "4422102/4422102 [==============================] - 0s 0us/step\n"
     ]
    }
   ],
   "source": [
    "# Load the Fashion-MNIST dataset\n",
    "\n",
    "fashion_mnist_data = tf.keras.datasets.fashion_mnist\n",
    "(train_images, train_labels), (test_images, test_labels) = fashion_mnist_data.load_data()"
   ]
  },
  {
   "cell_type": "code",
   "execution_count": 7,
   "metadata": {},
   "outputs": [
    {
     "data": {
      "text/plain": [
       "(60000, 28, 28)"
      ]
     },
     "execution_count": 7,
     "metadata": {},
     "output_type": "execute_result"
    }
   ],
   "source": [
    "# Print the shape of the training data\n",
    "train_images.shape"
   ]
  },
  {
   "cell_type": "code",
   "execution_count": 8,
   "metadata": {},
   "outputs": [
    {
     "name": "stdout",
     "output_type": "stream",
     "text": [
      "9\n"
     ]
    }
   ],
   "source": [
    "# Define the labels\n",
    "\n",
    "labels = [\n",
    "    'T-shirt/top',\n",
    "    'Trouser',\n",
    "    'Pullover',\n",
    "    'Dress',\n",
    "    'Coat',\n",
    "    'Sandal',\n",
    "    'Shirt',\n",
    "    'Sneaker',\n",
    "    'Bag',\n",
    "    'Ankle boot'\n",
    "]\n",
    "\n",
    "print(train_labels[0])"
   ]
  },
  {
   "cell_type": "code",
   "execution_count": 9,
   "metadata": {},
   "outputs": [],
   "source": [
    "# Rescale the image values so that they lie in between 0 and 1.\n",
    "\n",
    "train_images = train_images / 255.\n",
    "test_images = test_images / 255."
   ]
  },
  {
   "cell_type": "code",
   "execution_count": 10,
   "metadata": {},
   "outputs": [
    {
     "data": {
      "image/png": "[encoded data removed]",
      "text/plain": [
       "<Figure size 432x288 with 1 Axes>"
      ]
     },
     "metadata": {
      "needs_background": "light"
     },
     "output_type": "display_data"
    },
    {
     "name": "stdout",
     "output_type": "stream",
     "text": [
      "label: Ankle boot\n"
     ]
    }
   ],
   "source": [
    "# Display one of the images\n",
    "\n",
    "i = 0\n",
    "img = train_images[i,:,:]\n",
    "plt.imshow(img)\n",
    "plt.show()\n",
    "print(f\"label: {labels[train_labels[i]]}\")"
   ]
  },
  {
   "cell_type": "markdown",
   "metadata": {},
   "source": [
    "#### Build a convolutional neural network model"
   ]
  },
  {
   "cell_type": "code",
   "execution_count": 24,
   "metadata": {
    "scrolled": true,
    "tags": []
   },
   "outputs": [
    {
     "name": "stdout",
     "output_type": "stream",
     "text": [
      "Model: \"sequential_4\"\n",
      "_________________________________________________________________\n",
      " Layer (type)                Output Shape              Param #   \n",
      "=================================================================\n",
      " conv2d_4 (Conv2D)           (None, 26, 26, 16)        160       \n",
      "                                                                 \n",
      " max_pooling2d_4 (MaxPooling  (None, 8, 8, 16)         0         \n",
      " 2D)                                                             \n",
      "                                                                 \n",
      " flatten_4 (Flatten)         (None, 1024)              0         \n",
      "                                                                 \n",
      " dense_4 (Dense)             (None, 10)                10250     \n",
      "                                                                 \n",
      "=================================================================\n",
      "Total params: 10,410\n",
      "Trainable params: 10,410\n",
      "Non-trainable params: 0\n",
      "_________________________________________________________________\n"
     ]
    }
   ],
   "source": [
    "# Build the sequential convolutional neural network model\n",
    "import tensorflow as tf\n",
    "from tensorflow.keras.models import Sequential\n",
    "from tensorflow.keras.layers import Dense, Flatten, Conv2D, MaxPooling2D\n",
    "\n",
    "model = Sequential([\n",
    "    Conv2D(16, (3, 3), activation='relu', input_shape=(28, 28, 1)),\n",
    "    MaxPooling2D((3, 3)),\n",
    "    Flatten(),\n",
    "    Dense(10, activation='softmax')\n",
    "])\n",
    "\n",
    "# Print the model summary\n",
    "model.summary()"
   ]
  },
  {
   "cell_type": "markdown",
   "metadata": {},
   "source": [
    "#### Compile the model"
   ]
  },
  {
   "cell_type": "code",
   "execution_count": 16,
   "metadata": {},
   "outputs": [
    {
     "name": "stdout",
     "output_type": "stream",
     "text": [
      "sparse_categorical_crossentropy\n",
      "<keras.optimizers.optimizer_v2.adam.Adam object at 0x7f50107335e0>\n",
      "<tf.Variable 'learning_rate:0' shape=() dtype=float32, numpy=0.005>\n",
      "[]\n"
     ]
    }
   ],
   "source": [
    "# Define the model optimizer, loss function and metrics\n",
    "opt = tf.keras.optimizers.Adam(learning_rate=0.005)\n",
    "acc = tf.keras.metrics.SparseCategoricalAccuracy()\n",
    "mae = tf.keras.metrics.MeanAbsoluteError()\n",
    "\n",
    "model.compile(optimizer=opt,\n",
    "    loss='sparse_categorical_crossentropy',\n",
    "    metrics=[acc, mae])\n",
    "\n",
    "# Print the resulting model attributes\n",
    "print(model.loss)\n",
    "print(model.optimizer)\n",
    "print(model.optimizer.lr)\n",
    "print(model.metrics)"
   ]
  },
  {
   "cell_type": "markdown",
   "metadata": {},
   "source": [
    "#### Fit the model"
   ]
  },
  {
   "cell_type": "code",
   "execution_count": 17,
   "metadata": {
    "scrolled": true,
    "tags": []
   },
   "outputs": [
    {
     "name": "stdout",
     "output_type": "stream",
     "text": [
      "Epoch 1/8\n",
      "235/235 - 1s - loss: 0.5739 - sparse_categorical_accuracy: 0.8006 - mean_absolute_error: 4.4200 - 1s/epoch - 4ms/step\n",
      "Epoch 2/8\n",
      "235/235 - 1s - loss: 0.3811 - sparse_categorical_accuracy: 0.8652 - mean_absolute_error: 4.4200 - 786ms/epoch - 3ms/step\n",
      "Epoch 3/8\n",
      "235/235 - 1s - loss: 0.3444 - sparse_categorical_accuracy: 0.8785 - mean_absolute_error: 4.4200 - 784ms/epoch - 3ms/step\n",
      "Epoch 4/8\n",
      "235/235 - 1s - loss: 0.3236 - sparse_categorical_accuracy: 0.8861 - mean_absolute_error: 4.4200 - 785ms/epoch - 3ms/step\n",
      "Epoch 5/8\n",
      "235/235 - 1s - loss: 0.3096 - sparse_categorical_accuracy: 0.8902 - mean_absolute_error: 4.4200 - 773ms/epoch - 3ms/step\n",
      "Epoch 6/8\n",
      "235/235 - 1s - loss: 0.3002 - sparse_categorical_accuracy: 0.8935 - mean_absolute_error: 4.4200 - 760ms/epoch - 3ms/step\n",
      "Epoch 7/8\n",
      "235/235 - 1s - loss: 0.2900 - sparse_categorical_accuracy: 0.8966 - mean_absolute_error: 4.4200 - 779ms/epoch - 3ms/step\n",
      "Epoch 8/8\n",
      "235/235 - 1s - loss: 0.2826 - sparse_categorical_accuracy: 0.8994 - mean_absolute_error: 4.4200 - 805ms/epoch - 3ms/step\n"
     ]
    }
   ],
   "source": [
    "# Fit the model\n",
    "\n",
    "history = model.fit(train_images[..., np.newaxis], train_labels, \n",
    "    epochs=8, batch_size=256, verbose=2)"
   ]
  },
  {
   "cell_type": "markdown",
   "metadata": {},
   "source": [
    "#### Plot training history"
   ]
  },
  {
   "cell_type": "code",
   "execution_count": 18,
   "metadata": {},
   "outputs": [
    {
     "data": {
      "text/html": [
       "<div>\n",
       "<style scoped>\n",
       "    .dataframe tbody tr th:only-of-type {\n",
       "        vertical-align: middle;\n",
       "    }\n",
       "\n",
       "    .dataframe tbody tr th {\n",
       "        vertical-align: top;\n",
       "    }\n",
       "\n",
       "    .dataframe thead th {\n",
       "        text-align: right;\n",
       "    }\n",
       "</style>\n",
       "<table border=\"1\" class=\"dataframe\">\n",
       "  <thead>\n",
       "    <tr style=\"text-align: right;\">\n",
       "      <th></th>\n",
       "      <th>loss</th>\n",
       "      <th>sparse_categorical_accuracy</th>\n",
       "      <th>mean_absolute_error</th>\n",
       "    </tr>\n",
       "  </thead>\n",
       "  <tbody>\n",
       "    <tr>\n",
       "      <th>0</th>\n",
       "      <td>0.573942</td>\n",
       "      <td>0.800567</td>\n",
       "      <td>4.419999</td>\n",
       "    </tr>\n",
       "    <tr>\n",
       "      <th>1</th>\n",
       "      <td>0.381136</td>\n",
       "      <td>0.865167</td>\n",
       "      <td>4.420000</td>\n",
       "    </tr>\n",
       "    <tr>\n",
       "      <th>2</th>\n",
       "      <td>0.344405</td>\n",
       "      <td>0.878467</td>\n",
       "      <td>4.420001</td>\n",
       "    </tr>\n",
       "    <tr>\n",
       "      <th>3</th>\n",
       "      <td>0.323580</td>\n",
       "      <td>0.886133</td>\n",
       "      <td>4.420000</td>\n",
       "    </tr>\n",
       "    <tr>\n",
       "      <th>4</th>\n",
       "      <td>0.309551</td>\n",
       "      <td>0.890167</td>\n",
       "      <td>4.420001</td>\n",
       "    </tr>\n",
       "  </tbody>\n",
       "</table>\n",
       "</div>"
      ],
      "text/plain": [
       "       loss  sparse_categorical_accuracy  mean_absolute_error\n",
       "0  0.573942                     0.800567             4.419999\n",
       "1  0.381136                     0.865167             4.420000\n",
       "2  0.344405                     0.878467             4.420001\n",
       "3  0.323580                     0.886133             4.420000\n",
       "4  0.309551                     0.890167             4.420001"
      ]
     },
     "execution_count": 18,
     "metadata": {},
     "output_type": "execute_result"
    }
   ],
   "source": [
    "# Load the history into a pandas Dataframe\n",
    "\n",
    "df = pd.DataFrame(history.history)\n",
    "df.head()"
   ]
  },
  {
   "cell_type": "code",
   "execution_count": 22,
   "metadata": {
    "scrolled": true,
    "tags": []
   },
   "outputs": [
    {
     "data": {
      "image/png": "[encoded data removed]",
      "text/plain": [
       "<Figure size 432x288 with 1 Axes>"
      ]
     },
     "metadata": {
      "needs_background": "light"
     },
     "output_type": "display_data"
    }
   ],
   "source": [
    "# Make a plot for the loss\n",
    "\n",
    "loss_plot = df.plot(y=\"loss\", title=\"Loss vs. Epochs\", legend=False)\n",
    "loss_plot.set(xlabel=\"Epochs\", ylabel=\"Loss\")\n",
    "plt.show()"
   ]
  },
  {
   "cell_type": "markdown",
   "metadata": {
    "id": "iIIocr2OAXLt"
   },
   "source": [
    "***\n",
    "<a id=\"coding_tutorial_5\"></a>\n",
    "## The evaluate and predict methods"
   ]
  },
  {
   "cell_type": "code",
   "execution_count": null,
   "metadata": {},
   "outputs": [],
   "source": [
    "import tensorflow as tf\n",
    "from tensorflow.keras.models import Sequential\n",
    "from tensorflow.keras.layers import Dense\n",
    "\n",
    "model = Sequential([\n",
    "    Dense(1, activation='sigmoid', input_shape=(12,))\n",
    "])\n",
    "model.compile(optimizer='sgd', loss='binary_crossentropy',\n",
    "    metrics=['accuracy', 'mae'])\n",
    "model.fit(X_train, y_train)\n",
    "\n",
    "loss, accuracy, mae = model.evaluate(X_test, y_test)\n",
    "\n",
    "# X_sample: (num_samples, 12)\n",
    "pred = model.predict(X_sample) # (num_samples, 1)"
   ]
  },
  {
   "cell_type": "code",
   "execution_count": null,
   "metadata": {},
   "outputs": [],
   "source": [
    "import tensorflow as tf\n",
    "from tensorflow.keras.models import Sequential\n",
    "from tensorflow.keras.layers import Dense\n",
    "\n",
    "model = Sequential([\n",
    "    Dense(3, activation='softmax', input_shape=(12,))\n",
    "])\n",
    "model.compile(optimizer='sgd', loss='categorical_crossentropy',\n",
    "    metrics=['accuracy', 'mae'])\n",
    "model.fit(X_train, y_train)\n",
    "\n",
    "loss, accuracy, mae = model.evaluate(X_test, y_test)\n",
    "\n",
    "# X_sample: (num_samples, 12)\n",
    "pred = model.predict(X_sample) # (num_samples, 3)"
   ]
  },
  {
   "cell_type": "markdown",
   "metadata": {},
   "source": [
    "#### Load the data"
   ]
  },
  {
   "cell_type": "code",
   "execution_count": 1,
   "metadata": {},
   "outputs": [],
   "source": [
    "%matplotlib inline\n",
    "import matplotlib.pyplot as plt\n",
    "import numpy as np\n",
    "\n",
    "import tensorflow as tf\n",
    "from tensorflow.keras.preprocessing import image"
   ]
  },
  {
   "cell_type": "code",
   "execution_count": 2,
   "metadata": {
    "scrolled": true,
    "tags": []
   },
   "outputs": [],
   "source": [
    "# Load the Fashion-MNIST dataset\n",
    "\n",
    "fashion_mnist_data = tf.keras.datasets.fashion_mnist\n",
    "(train_images, train_labels), (test_images, test_labels) = fashion_mnist_data.load_data()"
   ]
  },
  {
   "cell_type": "code",
   "execution_count": 3,
   "metadata": {},
   "outputs": [
    {
     "data": {
      "text/plain": [
       "(60000, 28, 28)"
      ]
     },
     "execution_count": 3,
     "metadata": {},
     "output_type": "execute_result"
    }
   ],
   "source": [
    "# Print the shape of the training data\n",
    "train_images.shape"
   ]
  },
  {
   "cell_type": "code",
   "execution_count": 4,
   "metadata": {},
   "outputs": [
    {
     "name": "stdout",
     "output_type": "stream",
     "text": [
      "9\n"
     ]
    }
   ],
   "source": [
    "# Define the labels\n",
    "\n",
    "labels = [\n",
    "    'T-shirt/top',\n",
    "    'Trouser',\n",
    "    'Pullover',\n",
    "    'Dress',\n",
    "    'Coat',\n",
    "    'Sandal',\n",
    "    'Shirt',\n",
    "    'Sneaker',\n",
    "    'Bag',\n",
    "    'Ankle boot'\n",
    "]\n",
    "\n",
    "print(train_labels[0])"
   ]
  },
  {
   "cell_type": "code",
   "execution_count": 5,
   "metadata": {},
   "outputs": [],
   "source": [
    "# Rescale the image values so that they lie in between 0 and 1.\n",
    "\n",
    "train_images = train_images / 255.\n",
    "test_images = test_images / 255."
   ]
  },
  {
   "cell_type": "markdown",
   "metadata": {},
   "source": [
    "#### Build a convolutional neural network model"
   ]
  },
  {
   "cell_type": "code",
   "execution_count": 7,
   "metadata": {
    "scrolled": true,
    "tags": []
   },
   "outputs": [
    {
     "name": "stdout",
     "output_type": "stream",
     "text": [
      "Model: \"sequential_1\"\n",
      "_________________________________________________________________\n",
      " Layer (type)                Output Shape              Param #   \n",
      "=================================================================\n",
      " conv2d_1 (Conv2D)           (None, 26, 26, 16)        160       \n",
      "                                                                 \n",
      " max_pooling2d_1 (MaxPooling  (None, 8, 8, 16)         0         \n",
      " 2D)                                                             \n",
      "                                                                 \n",
      " flatten_1 (Flatten)         (None, 1024)              0         \n",
      "                                                                 \n",
      " dense_1 (Dense)             (None, 10)                10250     \n",
      "                                                                 \n",
      "=================================================================\n",
      "Total params: 10,410\n",
      "Trainable params: 10,410\n",
      "Non-trainable params: 0\n",
      "_________________________________________________________________\n"
     ]
    }
   ],
   "source": [
    "# Build the sequential convolutional neural network model\n",
    "import tensorflow as tf\n",
    "from tensorflow.keras.models import Sequential\n",
    "from tensorflow.keras.layers import Dense, Flatten, Conv2D, MaxPooling2D\n",
    "\n",
    "model = Sequential([\n",
    "    Conv2D(16, (3, 3), activation='relu', input_shape=(28, 28, 1)),\n",
    "    MaxPooling2D((3, 3)),\n",
    "    Flatten(),\n",
    "    Dense(10, activation='softmax')\n",
    "])\n",
    "\n",
    "# Print the model summary\n",
    "model.summary()"
   ]
  },
  {
   "cell_type": "markdown",
   "metadata": {},
   "source": [
    "#### Compile the model"
   ]
  },
  {
   "cell_type": "code",
   "execution_count": 8,
   "metadata": {},
   "outputs": [
    {
     "name": "stdout",
     "output_type": "stream",
     "text": [
      "sparse_categorical_crossentropy\n",
      "<keras.optimizers.optimizer_v2.adam.Adam object at 0x7f204fb3f3a0>\n",
      "<tf.Variable 'learning_rate:0' shape=() dtype=float32, numpy=0.005>\n",
      "[]\n"
     ]
    }
   ],
   "source": [
    "# Define the model optimizer, loss function and metrics\n",
    "opt = tf.keras.optimizers.Adam(learning_rate=0.005)\n",
    "acc = tf.keras.metrics.SparseCategoricalAccuracy()\n",
    "mae = tf.keras.metrics.MeanAbsoluteError()\n",
    "\n",
    "model.compile(optimizer=opt,\n",
    "    loss='sparse_categorical_crossentropy',\n",
    "    metrics=[acc, mae])\n",
    "\n",
    "# Print the resulting model attributes\n",
    "print(model.loss)\n",
    "print(model.optimizer)\n",
    "print(model.optimizer.lr)\n",
    "print(model.metrics)"
   ]
  },
  {
   "cell_type": "markdown",
   "metadata": {},
   "source": [
    "#### Fit the model"
   ]
  },
  {
   "cell_type": "code",
   "execution_count": 9,
   "metadata": {
    "scrolled": true,
    "tags": []
   },
   "outputs": [
    {
     "name": "stdout",
     "output_type": "stream",
     "text": [
      "Epoch 1/8\n",
      "235/235 - 4s - loss: 0.5580 - sparse_categorical_accuracy: 0.8062 - mean_absolute_error: 4.4200 - 4s/epoch - 15ms/step\n",
      "Epoch 2/8\n",
      "235/235 - 3s - loss: 0.3671 - sparse_categorical_accuracy: 0.8709 - mean_absolute_error: 4.4200 - 3s/epoch - 14ms/step\n",
      "Epoch 3/8\n",
      "235/235 - 3s - loss: 0.3364 - sparse_categorical_accuracy: 0.8804 - mean_absolute_error: 4.4200 - 3s/epoch - 14ms/step\n",
      "Epoch 4/8\n",
      "235/235 - 4s - loss: 0.3182 - sparse_categorical_accuracy: 0.8860 - mean_absolute_error: 4.4200 - 4s/epoch - 15ms/step\n",
      "Epoch 5/8\n",
      "235/235 - 4s - loss: 0.3031 - sparse_categorical_accuracy: 0.8915 - mean_absolute_error: 4.4200 - 4s/epoch - 15ms/step\n",
      "Epoch 6/8\n",
      "235/235 - 4s - loss: 0.2966 - sparse_categorical_accuracy: 0.8939 - mean_absolute_error: 4.4200 - 4s/epoch - 15ms/step\n",
      "Epoch 7/8\n",
      "235/235 - 4s - loss: 0.2879 - sparse_categorical_accuracy: 0.8964 - mean_absolute_error: 4.4200 - 4s/epoch - 15ms/step\n",
      "Epoch 8/8\n",
      "235/235 - 4s - loss: 0.2817 - sparse_categorical_accuracy: 0.8980 - mean_absolute_error: 4.4200 - 4s/epoch - 15ms/step\n"
     ]
    }
   ],
   "source": [
    "# Fit the model\n",
    "\n",
    "history = model.fit(train_images[..., np.newaxis], train_labels, \n",
    "    epochs=8, batch_size=256, verbose=2)"
   ]
  },
  {
   "cell_type": "markdown",
   "metadata": {},
   "source": [
    "#### Evaluate the model on the test set"
   ]
  },
  {
   "cell_type": "code",
   "execution_count": 10,
   "metadata": {
    "colab": {
     "base_uri": "https://localhost:8080/"
    },
    "id": "RX56m1KXAXLt",
    "outputId": "bdbd82b8-399d-43d1-a89c-aa98cdadac77"
   },
   "outputs": [
    {
     "name": "stdout",
     "output_type": "stream",
     "text": [
      "313/313 - 1s - loss: 0.3270 - sparse_categorical_accuracy: 0.8829 - mean_absolute_error: 4.4200 - 695ms/epoch - 2ms/step\n"
     ]
    }
   ],
   "source": [
    "# Evaluate the model\n",
    "test_loss, test_accuracy, test_mae = model.evaluate(test_images[..., np.newaxis], \n",
    "    test_labels, verbose=2)"
   ]
  },
  {
   "cell_type": "markdown",
   "metadata": {
    "id": "04OC9qGiAXLv"
   },
   "source": [
    "#### Make predictions from the model"
   ]
  },
  {
   "cell_type": "code",
   "execution_count": 11,
   "metadata": {
    "colab": {
     "base_uri": "https://localhost:8080/",
     "height": 300
    },
    "id": "9pcG97pbAXLw",
    "outputId": "c8b85b17-7c01-4d86-ea53-6e9132373dad"
   },
   "outputs": [
    {
     "data": {
      "image/png": "[encoded data removed]",
      "text/plain": [
       "<Figure size 432x288 with 1 Axes>"
      ]
     },
     "metadata": {
      "needs_background": "light"
     },
     "output_type": "display_data"
    },
    {
     "name": "stdout",
     "output_type": "stream",
     "text": [
      "Label: T-shirt/top\n"
     ]
    }
   ],
   "source": [
    "# Choose a random test image\n",
    "\n",
    "random_inx = np.random.choice(test_images.shape[0])\n",
    "\n",
    "test_image = test_images[random_inx]\n",
    "plt.imshow(test_image)\n",
    "plt.show()\n",
    "print(f\"Label: {labels[test_labels[random_inx]]}\")"
   ]
  },
  {
   "cell_type": "code",
   "execution_count": 12,
   "metadata": {},
   "outputs": [
    {
     "name": "stdout",
     "output_type": "stream",
     "text": [
      "1/1 [==============================] - 0s 75ms/step\n",
      "Model predictions: T-shirt/top\n"
     ]
    }
   ],
   "source": [
    "# Get the model predictions\n",
    "\n",
    "predictions = model.predict(test_image[np.newaxis, ..., np.newaxis])\n",
    "print(f\"Model predictions: {labels[np.argmax(predictions)]}\")"
   ]
  }
 ],
 "metadata": {
  "accelerator": "GPU",
  "colab": {
   "include_colab_link": true,
   "name": "Sequential_model.ipynb",
   "provenance": []
  },
  "kernelspec": {
   "display_name": "Python 3 (ipykernel)",
   "language": "python",
   "name": "python3"
  },
  "language_info": {
   "codemirror_mode": {
    "name": "ipython",
    "version": 3
   },
   "file_extension": ".py",
   "mimetype": "text/x-python",
   "name": "python",
   "nbconvert_exporter": "python",
   "pygments_lexer": "ipython3",
   "version": "3.8.10"
  }
 },
 "nbformat": 4,
 "nbformat_minor": 4
}
