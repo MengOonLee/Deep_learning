{
  "nbformat": 4,
  "nbformat_minor": 0,
  "metadata": {
    "kernelspec": {
      "display_name": "Python 3",
      "language": "python",
      "name": "python3"
    },
    "language_info": {
      "codemirror_mode": {
        "name": "ipython",
        "version": 3
      },
      "file_extension": ".py",
      "mimetype": "text/x-python",
      "name": "python",
      "nbconvert_exporter": "python",
      "pygments_lexer": "ipython3",
      "version": "3.8.5"
    },
    "colab": {
      "name": "CNN_classifier_MNIST.ipynb",
      "provenance": [],
      "include_colab_link": true
    },
    "accelerator": "GPU"
  },
  "cells": [
    {
      "cell_type": "markdown",
      "metadata": {
        "id": "view-in-github",
        "colab_type": "text"
      },
      "source": [
        "<a href=\"https://colab.research.google.com/github/MengOonLee/Deep_learning/blob/master/TensorFlow2/Tutorial/CNN_classifier_MNIST.ipynb\" target=\"_parent\"><img src=\"https://colab.research.google.com/assets/colab-badge.svg\" alt=\"Open In Colab\"/></a>"
      ]
    },
    {
      "cell_type": "markdown",
      "metadata": {
        "id": "vF6gUxgU1smJ"
      },
      "source": [
        "# CNN classifier for the MNIST dataset\n",
        "\n",
        "### Instructions\n",
        "\n",
        "In this notebook, you will write code to build, compile and fit a convolutional neural network (CNN) model to the MNIST dataset of images of handwritten digits."
      ]
    },
    {
      "cell_type": "code",
      "metadata": {
        "id": "DhUIzEBY1smL",
        "outputId": "ae7ef80a-69d9-4783-a334-6b5b12d7c41f",
        "colab": {
          "base_uri": "https://localhost:8080/"
        }
      },
      "source": [
        "#### Package imports ####\n",
        "# Run this cell first to import all required packages.\n",
        "\n",
        "import numpy as np\n",
        "import pandas as pd\n",
        "import matplotlib.pyplot as plt\n",
        "%matplotlib inline\n",
        "\n",
        "import tensorflow as tf\n",
        "print(tf.__version__)"
      ],
      "execution_count": 1,
      "outputs": [
        {
          "output_type": "stream",
          "text": [
            "2.3.0\n"
          ],
          "name": "stdout"
        }
      ]
    },
    {
      "cell_type": "markdown",
      "metadata": {
        "id": "3kGiiPoT1smU"
      },
      "source": [
        "![MNIST_overview_image](https://github.com/MengOonLee/Deep_learning/blob/master/TensorFlow2/Tutorial/image/mnist/mnist.png?raw=1)\n",
        "\n",
        "#### The MNIST dataset\n",
        "\n",
        "In this assignment, you will use the [MNIST dataset] (http://yann.lecun.com/exdb/mnist/). It consists of a training set of 60,000 handwritten digits with corresponding labels, and a test set of 10,000 images. The images have been normalised and centered. The dataset is frequently used in machine learning research, and has become a standard benchmerk for image classification models.\n",
        "\n",
        "- Y. LeCun, L. Bottou, Y. Bengio, and P. Haffner. \"Gradient-based learning applied to document recognition.\" Proceedings of the IEEE, 86(11):2278-2324, November 1998.\n",
        "\n",
        "Your goal is to construct a neural network that classifies images of handwritten digits into one of 10 classes."
      ]
    },
    {
      "cell_type": "markdown",
      "metadata": {
        "id": "A3grVb9h1smY"
      },
      "source": [
        "#### Load and preprocess the data"
      ]
    },
    {
      "cell_type": "code",
      "metadata": {
        "id": "oDZritxf1sma",
        "outputId": "9cf47557-ea95-4e82-d7e0-0a3fb05627f2",
        "colab": {
          "base_uri": "https://localhost:8080/"
        }
      },
      "source": [
        "# Load the MNIST data\n",
        "mnist_data = tf.keras.datasets.mnist\n",
        "(train_images, train_labels), (test_images, test_labels) = mnist_data.load_data()"
      ],
      "execution_count": 2,
      "outputs": [
        {
          "output_type": "stream",
          "text": [
            "Downloading data from https://storage.googleapis.com/tensorflow/tf-keras-datasets/mnist.npz\n",
            "11493376/11490434 [==============================] - 0s 0us/step\n"
          ],
          "name": "stdout"
        }
      ]
    },
    {
      "cell_type": "code",
      "metadata": {
        "id": "GlLGJSlk1smg"
      },
      "source": [
        "# First, preprocess the data by scaling the training and test images\n",
        "# so their values lie in the range from 0 to 1.\n",
        "\n",
        "def scale_mnist_data(train_images, test_images):\n",
        "    \"\"\"\n",
        "    This function takes in the training and test images as loaded in \n",
        "    the cell above, and scales them so that they have minimum and\n",
        "    maximum values equal to 0 and 1 respectively. Your function should\n",
        "    return a tuple (train_images, test_images) of scaled training and\n",
        "    test images.\n",
        "    \"\"\"\n",
        "    scaled_train_images = train_images / np.amax(train_images)\n",
        "    scaled_test_images = test_images / np.amax(test_images)\n",
        "    return (scaled_train_images, scaled_test_images)\n",
        "\n",
        "# Run your function on the input data\n",
        "scaled_train_images, scaled_test_images = \\\n",
        "    scale_mnist_data(train_images, test_images)\n",
        "\n",
        "# Add a dummy channel dimension\n",
        "scaled_train_images = scaled_train_images[..., np.newaxis]\n",
        "scaled_test_images = scaled_test_images[...,np.newaxis]"
      ],
      "execution_count": 3,
      "outputs": []
    },
    {
      "cell_type": "markdown",
      "metadata": {
        "id": "2_l7BIEg1smm"
      },
      "source": [
        "We are ready to construct a model to fit to the data. Using the Sequential API, build your CNN model according to the following spec:\n",
        "\n",
        "* The model should use the `input_shape` in the function argument to set the input size in the first layer.\n",
        "* A 2D convolutional layer with a 3x3 kernel and 8 filters. Use 'SAME' zero padding and ReLU activation functions. Make sure to provide the `input_shape` keyword argument in this first layer.\n",
        "* A max pooling layer, with a 2x2 window, and default strides.\n",
        "* A flatten layer, which unrolls the input into a one-dimensional tensor.\n",
        "* Two dense hidden layers, each with 64 units and ReLU activation functions.\n",
        "* A dense output layer with 10 units and the softmax activation function.\n",
        "\n",
        "In particular, your neural network should have six layers."
      ]
    },
    {
      "cell_type": "code",
      "metadata": {
        "id": "6eNS6l1F1smn"
      },
      "source": [
        "from tensorflow.keras.models import Sequential\n",
        "from tensorflow.keras.layers import Dense, Flatten, \\\n",
        "    Conv2D, MaxPooling2D\n",
        "\n",
        "def get_model(input_shape):\n",
        "    \"\"\"\n",
        "    This function should build a Sequential model according to the\n",
        "    above specification. Ensure the weights are initialised by \n",
        "    providing the input_shape argument in the first layer, given by \n",
        "    the function argument. Your function should return the model.\n",
        "    \"\"\"\n",
        "    model = Sequential([\n",
        "        Conv2D(8, kernel_size=3, padding='SAME', activation='relu',\n",
        "            input_shape=input_shape, name='conv_1'),\n",
        "        MaxPooling2D(pool_size=2, name='pool_1'),\n",
        "        Flatten(),\n",
        "        Dense(64, activation='relu', name='fc_1'),\n",
        "        Dense(64, activation='relu', name='fc_2'),\n",
        "        Dense(10, activation='softmax', name='output')\n",
        "    ])\n",
        "    return model\n",
        "\n",
        "# Run function to get the model\n",
        "model = get_model(scaled_train_images[0].shape)"
      ],
      "execution_count": 4,
      "outputs": []
    },
    {
      "cell_type": "markdown",
      "metadata": {
        "id": "e0T4K2LS1smt"
      },
      "source": [
        "#### Compile the model\n",
        "\n",
        "We should now compile the model using the `compile` method. To do so, we need to specify an optimizer, a loss function and a metric to judge the performance of the model."
      ]
    },
    {
      "cell_type": "code",
      "metadata": {
        "id": "go9sZAGm1smt"
      },
      "source": [
        "def compile_model(model):\n",
        "    \"\"\"\n",
        "    This function takes in the model returned from the get_model \n",
        "    function, and compiles it with an optimiser, loss function and \n",
        "    metric. Compile the model using the Adam optimiser (with default\n",
        "    settings), the cross-entropy loss function and accuracy as the \n",
        "    only metric. Your function doesn't need to return anything; the\n",
        "    model will be compiled in-place.\n",
        "    \"\"\"\n",
        "    model.compile(\n",
        "        optimizer='adam',\n",
        "        loss='sparse_categorical_crossentropy',\n",
        "        metrics=['accuracy']\n",
        "    )\n",
        "    \n",
        "# Run the function to compile the model\n",
        "compile_model(model)"
      ],
      "execution_count": 5,
      "outputs": []
    },
    {
      "cell_type": "markdown",
      "metadata": {
        "id": "SMGun7Cb1sm0"
      },
      "source": [
        "#### Fit the model to the training data\n",
        "\n",
        "Now you should train the model on the MNIST dataset, using the model's `fit` method. Set the training to run for 5 epochs, and return the training history to be used for plotting the learning curves."
      ]
    },
    {
      "cell_type": "code",
      "metadata": {
        "id": "DPNmnUot1sm1",
        "outputId": "fbd062d2-1a4c-4ab0-e1bc-e83eb7094ee5",
        "colab": {
          "base_uri": "https://localhost:8080/"
        }
      },
      "source": [
        "def train_model(model, scaled_train_images, train_labels):\n",
        "    \"\"\"\n",
        "    This function should train the model for 5 epochs on the scaled\n",
        "    train_images and train_labels. Your function should return the\n",
        "    training history, as returned by model.fit.\n",
        "    \"\"\"\n",
        "    history = model.fit(scaled_train_images, train_labels, epochs=5)\n",
        "    return history\n",
        "\n",
        "# Run function to train the model\n",
        "history = train_model(model, scaled_train_images, train_labels)"
      ],
      "execution_count": 6,
      "outputs": [
        {
          "output_type": "stream",
          "text": [
            "Epoch 1/5\n",
            "1875/1875 [==============================] - 4s 2ms/step - loss: 0.2299 - accuracy: 0.9324\n",
            "Epoch 2/5\n",
            "1875/1875 [==============================] - 4s 2ms/step - loss: 0.0837 - accuracy: 0.9744\n",
            "Epoch 3/5\n",
            "1875/1875 [==============================] - 4s 2ms/step - loss: 0.0564 - accuracy: 0.9824\n",
            "Epoch 4/5\n",
            "1875/1875 [==============================] - 4s 2ms/step - loss: 0.0434 - accuracy: 0.9861\n",
            "Epoch 5/5\n",
            "1875/1875 [==============================] - 4s 2ms/step - loss: 0.0342 - accuracy: 0.9891\n"
          ],
          "name": "stdout"
        }
      ]
    },
    {
      "cell_type": "markdown",
      "metadata": {
        "id": "udEgxcDH1sm8"
      },
      "source": [
        "#### Plot the learning curves\n",
        "\n",
        "We will now plot two graphs:\n",
        "* Epoch vs accuracy\n",
        "* Epoch vs loss\n",
        "\n",
        "We will load the model history into a pandas `DataFrame` and use the `plot` method to output the required graphs."
      ]
    },
    {
      "cell_type": "code",
      "metadata": {
        "id": "jVt9boJd1sm8",
        "outputId": "b48c2658-7599-4824-dfc2-de7b41317053",
        "colab": {
          "base_uri": "https://localhost:8080/",
          "height": 573
        }
      },
      "source": [
        "# Load the model history into a pandas DataFrame\n",
        "frame = pd.DataFrame(history.history)\n",
        "\n",
        "# Make the Accuracy vs Epochs plot\n",
        "acc_plot = frame.plot(y='accuracy', title='Accuracy vs Epochs', \n",
        "    legend=False)\n",
        "acc_plot.set(xlabel='Epochs', ylabel='Accuracy')\n",
        "plt.show()\n",
        "\n",
        "# Make the Loss vs Epochs plot\n",
        "loss_plot = frame.plot(y='loss', title='Loss vs Epochs', legend=False)\n",
        "loss_plot.set(xlabel='Epochs', ylabel='Loss')\n",
        "plt.show()"
      ],
      "execution_count": 7,
      "outputs": [
        {
          "output_type": "display_data",
          "data": {
            "image/png": "[encoded data removed]",
            "text/plain": [
              "<Figure size 432x288 with 1 Axes>"
            ]
          },
          "metadata": {
            "tags": [],
            "needs_background": "light"
          }
        },
        {
          "output_type": "display_data",
          "data": {
            "image/png": "[encoded data removed]",
            "text/plain": [
              "<Figure size 432x288 with 1 Axes>"
            ]
          },
          "metadata": {
            "tags": [],
            "needs_background": "light"
          }
        }
      ]
    },
    {
      "cell_type": "markdown",
      "metadata": {
        "id": "fhfKt_s31snB"
      },
      "source": [
        "#### Evaluate the model\n",
        "\n",
        "Finally, we should evaluate the performance of our model on the test set, by calling the model's `evaluate` method."
      ]
    },
    {
      "cell_type": "code",
      "metadata": {
        "id": "X_gx0WH51snC",
        "outputId": "ae90e52e-c4c1-4831-b98c-0476dd728cbe",
        "colab": {
          "base_uri": "https://localhost:8080/"
        }
      },
      "source": [
        "def evaluate_model(model, scaled_test_images, test_labels):\n",
        "    \"\"\"\n",
        "    This function should evaluate the model on the scaled_test_images\n",
        "    and test_labels. This function should return a tuple (test_loss,\n",
        "    test_accuracy).\n",
        "    \"\"\"\n",
        "    test_loss, test_accuracy = model.evaluate(scaled_test_images,\n",
        "        test_labels, verbose=2)\n",
        "    return (test_loss, test_accuracy)\n",
        "\n",
        "# Evaluate the model\n",
        "test_loss, test_accuracy = evaluate_model(model, scaled_test_images,\n",
        "    test_labels)\n",
        "print(f\"Test loss: {test_loss}\")\n",
        "print(f\"Test accuracy: {test_accuracy}\")"
      ],
      "execution_count": 8,
      "outputs": [
        {
          "output_type": "stream",
          "text": [
            "313/313 - 1s - loss: 0.0467 - accuracy: 0.9846\n",
            "Test loss: 0.04674466699361801\n",
            "Test accuracy: 0.9846000075340271\n"
          ],
          "name": "stdout"
        }
      ]
    },
    {
      "cell_type": "markdown",
      "metadata": {
        "id": "Zd1ifcw01snH"
      },
      "source": [
        "#### Model predictions\n",
        "\n",
        "Let's see some model predictions! We will randomly select four images from the test data, and display the image and label for each.\n",
        "\n",
        "For each test image, model's prediction (the label with maximum probability) is shown, together with a plot showing the model's categorical distribution."
      ]
    },
    {
      "cell_type": "code",
      "metadata": {
        "id": "LF0ZHb3y1snI",
        "outputId": "8fa0f4d2-2814-42bc-ea62-9227a6c2d6a3",
        "colab": {
          "base_uri": "https://localhost:8080/",
          "height": 716
        }
      },
      "source": [
        "# Model predictions on randomly selected test images\n",
        "num_test_images = scaled_test_images.shape[0]\n",
        "\n",
        "random_inx = np.random.choice(num_test_images, 4)\n",
        "random_test_images = scaled_test_images[random_inx, ...]\n",
        "random_test_labels = test_labels[random_inx, ...]\n",
        "\n",
        "predictions = model.predict(random_test_images)\n",
        "\n",
        "fig, axes = plt.subplots(4, 2, figsize=(16, 12))\n",
        "fig.subplots_adjust(hspace=0.4, wspace=-0.2)\n",
        "\n",
        "for i, (prediction, image, label) in enumerate(\n",
        "    zip(predictions, random_test_images, random_test_labels)):\n",
        "    axes[i, 0].imshow(np.squeeze(image))\n",
        "    axes[i, 0].get_xaxis().set_visible(False)\n",
        "    axes[i, 0].get_yaxis().set_visible(False)\n",
        "    axes[i, 0].text(10., -1.5, f\"Digit {label}\")\n",
        "    axes[i, 1].bar(np.arange(len(prediction)), prediction)\n",
        "    axes[i, 1].set_xticks(np.arange(len(prediction)))\n",
        "    axes[i, 1].set_title(\n",
        "        f\"Categorical distribution. Model prediction: \\\n",
        "        {np.argmax(prediction)}\")\n",
        "                         \n",
        "plt.show()"
      ],
      "execution_count": 9,
      "outputs": [
        {
          "output_type": "display_data",
          "data": {
            "image/png": "[encoded data removed]",
            "text/plain": [
              "<Figure size 1152x864 with 8 Axes>"
            ]
          },
          "metadata": {
            "tags": [],
            "needs_background": "light"
          }
        }
      ]
    }
  ]
}