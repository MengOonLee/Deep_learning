{
  "nbformat": 4,
  "nbformat_minor": 0,
  "metadata": {
    "kernelspec": {
      "display_name": "Python 3",
      "language": "python",
      "name": "python3"
    },
    "language_info": {
      "codemirror_mode": {
        "name": "ipython",
        "version": 3
      },
      "file_extension": ".py",
      "mimetype": "text/x-python",
      "name": "python",
      "nbconvert_exporter": "python",
      "pygments_lexer": "ipython3",
      "version": "3.8.5"
    },
    "colab": {
      "name": "Regularisation.ipynb",
      "provenance": [],
      "include_colab_link": true
    },
    "accelerator": "GPU"
  },
  "cells": [
    {
      "cell_type": "markdown",
      "metadata": {
        "id": "view-in-github",
        "colab_type": "text"
      },
      "source": [
        "<a href=\"https://colab.research.google.com/github/MengOonLee/Deep_learning/blob/master/TensorFlow2/Tutorial/Getting_started_TensorFlow2/Validation_regularisation_callbacks/Regularisation.ipynb\" target=\"_parent\"><img src=\"https://colab.research.google.com/assets/colab-badge.svg\" alt=\"Open In Colab\"/></a>"
      ]
    },
    {
      "cell_type": "markdown",
      "metadata": {
        "id": "eONqDx8oZaqK"
      },
      "source": [
        "# Validation, Regularisation and Callbacks\n",
        "\n",
        "## Coding tutorials\n",
        "#### [1. Validation sets](#coding_tutorial_1)\n",
        "#### [2. Model regularisation](#coding_tutorial_2)\n",
        "#### [3. Introduction to callbacks](#coding_tutorial_3)\n",
        "#### [4. Early stopping / patience](#coding_tutorial_4)"
      ]
    },
    {
      "cell_type": "code",
      "metadata": {
        "id": "kuLE3xTnZaqM",
        "colab": {
          "base_uri": "https://localhost:8080/"
        },
        "outputId": "642cd01b-406a-4bf2-d5f4-5dbd16f9e82e"
      },
      "source": [
        "#### Package imports ####\n",
        "\n",
        "import numpy as np\n",
        "import pandas as pd\n",
        "import matplotlib.pyplot as plt\n",
        "%matplotlib inline\n",
        "import seaborn as sns\n",
        "\n",
        "from sklearn.datasets import load_diabetes\n",
        "from sklearn.model_selection import train_test_split\n",
        "\n",
        "import tensorflow as tf\n",
        "print(tf.__version__)\n",
        "        \n",
        "from tensorflow.keras.models import Sequential\n",
        "from tensorflow.keras.layers import Dense, Dropout\n",
        "from tensorflow.keras import regularizers\n",
        "from tensorflow.keras.callbacks import Callback, EarlyStopping"
      ],
      "execution_count": null,
      "outputs": [
        {
          "output_type": "stream",
          "text": [
            "2.3.0\n"
          ],
          "name": "stdout"
        }
      ]
    },
    {
      "cell_type": "markdown",
      "metadata": {
        "id": "XyKiW0O3ZaqW"
      },
      "source": [
        "***\n",
        "<a id=\"coding_tutorial_1\"></a>\n",
        "## Validation sets\n",
        "\n",
        "#### Load the data"
      ]
    },
    {
      "cell_type": "code",
      "metadata": {
        "scrolled": true,
        "id": "Icwu7s86Zaqb",
        "colab": {
          "base_uri": "https://localhost:8080/"
        },
        "outputId": "3481eaab-b588-49f9-b16f-a8b9ed63a49b"
      },
      "source": [
        "# Load the diabetes dataset\n",
        "diabetes_dataset = load_diabetes()\n",
        "print(diabetes_dataset[\"DESCR\"])\n",
        "print(\"\\n\", diabetes_dataset.keys())"
      ],
      "execution_count": null,
      "outputs": [
        {
          "output_type": "stream",
          "text": [
            ".. _diabetes_dataset:\n",
            "\n",
            "Diabetes dataset\n",
            "----------------\n",
            "\n",
            "Ten baseline variables, age, sex, body mass index, average blood\n",
            "pressure, and six blood serum measurements were obtained for each of n =\n",
            "442 diabetes patients, as well as the response of interest, a\n",
            "quantitative measure of disease progression one year after baseline.\n",
            "\n",
            "**Data Set Characteristics:**\n",
            "\n",
            "  :Number of Instances: 442\n",
            "\n",
            "  :Number of Attributes: First 10 columns are numeric predictive values\n",
            "\n",
            "  :Target: Column 11 is a quantitative measure of disease progression one year after baseline\n",
            "\n",
            "  :Attribute Information:\n",
            "      - Age\n",
            "      - Sex\n",
            "      - Body mass index\n",
            "      - Average blood pressure\n",
            "      - S1\n",
            "      - S2\n",
            "      - S3\n",
            "      - S4\n",
            "      - S5\n",
            "      - S6\n",
            "\n",
            "Note: Each of these 10 feature variables have been mean centered and scaled by the standard deviation times `n_samples` (i.e. the sum of squares of each column totals 1).\n",
            "\n",
            "Source URL:\n",
            "https://www4.stat.ncsu.edu/~boos/var.select/diabetes.html\n",
            "\n",
            "For more information see:\n",
            "Bradley Efron, Trevor Hastie, Iain Johnstone and Robert Tibshirani (2004) \"Least Angle Regression,\" Annals of Statistics (with discussion), 407-499.\n",
            "(https://web.stanford.edu/~hastie/Papers/LARS/LeastAngle_2002.pdf)\n",
            "\n",
            " dict_keys(['data', 'target', 'DESCR', 'feature_names', 'data_filename', 'target_filename'])\n"
          ],
          "name": "stdout"
        }
      ]
    },
    {
      "cell_type": "code",
      "metadata": {
        "id": "FUB-iqOuZaqg",
        "colab": {
          "base_uri": "https://localhost:8080/",
          "height": 457
        },
        "outputId": "3313d53c-3d1c-42c0-fc4a-49b2ebbd0519"
      },
      "source": [
        "# Save the input and target variables\n",
        "data = diabetes_dataset[\"data\"]\n",
        "target = diabetes_dataset[\"target\"]\n",
        "\n",
        "fig, ax = plt.subplots(figsize=(20,5))\n",
        "sns.histplot(ax=ax, data=target)\n",
        "plt.title(\"Distribution of target before normalise\")\n",
        "plt.show()\n",
        "\n",
        "# Normalise the target data will make clearer training curves\n",
        "target = (target - target.mean()) / target.std()\n",
        "\n",
        "fig, ax = plt.subplots(figsize=(20,5))\n",
        "sns.histplot(ax=ax, data=target)\n",
        "plt.title(\"Distribution of target after normalise\")\n",
        "plt.show()"
      ],
      "execution_count": null,
      "outputs": [
        {
          "output_type": "display_data",
          "data": {
            "image/png": "[encoded data removed]",
            "text/plain": [
              "<Figure size 1440x360 with 1 Axes>"
            ]
          },
          "metadata": {
            "tags": [],
            "needs_background": "light"
          }
        },
        {
          "output_type": "display_data",
          "data": {
            "image/png": "[encoded data removed]",
            "text/plain": [
              "<Figure size 1440x360 with 1 Axes>"
            ]
          },
          "metadata": {
            "tags": [],
            "needs_background": "light"
          }
        }
      ]
    },
    {
      "cell_type": "code",
      "metadata": {
        "id": "IArkKoXtZaqn",
        "colab": {
          "base_uri": "https://localhost:8080/"
        },
        "outputId": "6e9e0b5a-69c5-4a4b-fe12-ea1d760a6049"
      },
      "source": [
        "# Split the data into train and test sets\n",
        "train_data, test_data, train_target, test_target = train_test_split(\n",
        "    data, target, test_size=0.1)\n",
        "\n",
        "print(train_data.shape)\n",
        "print(test_data.shape)\n",
        "print(train_target.shape)\n",
        "print(test_target.shape)"
      ],
      "execution_count": null,
      "outputs": [
        {
          "output_type": "stream",
          "text": [
            "(397, 10)\n",
            "(45, 10)\n",
            "(397,)\n",
            "(45,)\n"
          ],
          "name": "stdout"
        }
      ]
    },
    {
      "cell_type": "markdown",
      "metadata": {
        "id": "etSKZH0KZaqt"
      },
      "source": [
        "#### Train a feedforward neural network model"
      ]
    },
    {
      "cell_type": "code",
      "metadata": {
        "scrolled": true,
        "id": "aA7pbIlBZaqt",
        "colab": {
          "base_uri": "https://localhost:8080/"
        },
        "outputId": "77295ad4-f5a5-478f-d234-71724fcce437"
      },
      "source": [
        "# Build the model\n",
        "def get_model():\n",
        "    model = Sequential([\n",
        "        Dense(128, activation='relu', \n",
        "            input_shape=(train_data.shape[1],)),\n",
        "        Dense(128, activation='relu'),\n",
        "        Dense(128, activation='relu'),\n",
        "        Dense(128, activation='relu'),\n",
        "        Dense(128, activation='relu'),\n",
        "        Dense(128, activation='relu'),\n",
        "        Dense(1)])\n",
        "    return model\n",
        "\n",
        "model = get_model()\n",
        "\n",
        "# Print the model summary\n",
        "model.summary()"
      ],
      "execution_count": null,
      "outputs": [
        {
          "output_type": "stream",
          "text": [
            "Model: \"sequential\"\n",
            "_________________________________________________________________\n",
            "Layer (type)                 Output Shape              Param #   \n",
            "=================================================================\n",
            "dense (Dense)                (None, 128)               1408      \n",
            "_________________________________________________________________\n",
            "dense_1 (Dense)              (None, 128)               16512     \n",
            "_________________________________________________________________\n",
            "dense_2 (Dense)              (None, 128)               16512     \n",
            "_________________________________________________________________\n",
            "dense_3 (Dense)              (None, 128)               16512     \n",
            "_________________________________________________________________\n",
            "dense_4 (Dense)              (None, 128)               16512     \n",
            "_________________________________________________________________\n",
            "dense_5 (Dense)              (None, 128)               16512     \n",
            "_________________________________________________________________\n",
            "dense_6 (Dense)              (None, 1)                 129       \n",
            "=================================================================\n",
            "Total params: 84,097\n",
            "Trainable params: 84,097\n",
            "Non-trainable params: 0\n",
            "_________________________________________________________________\n"
          ],
          "name": "stdout"
        }
      ]
    },
    {
      "cell_type": "code",
      "metadata": {
        "id": "DvLh-M7zZaq0",
        "colab": {
          "base_uri": "https://localhost:8080/",
          "height": 330
        },
        "outputId": "fd9bc4a6-91ed-42d6-fa74-2c5bfa4c2c47"
      },
      "source": [
        "# Compile the model\n",
        "model.compile(\n",
        "    optimizer='adam',\n",
        "    loss='mse',\n",
        "    metrics=['mae'])\n",
        "\n",
        "# Train the model, with some of the data reserved for validation\n",
        "history = model.fit(train_data, train_target, epochs=100,\n",
        "    validation_split=0.15, batch_size=64, verbose=False)\n",
        "# Plot the training and validation loss\n",
        "plt.plot(history.history['loss'])\n",
        "plt.plot(history.history['val_loss'])\n",
        "plt.title(\"Loss vs. epochs\")\n",
        "plt.ylabel('Loss')\n",
        "plt.xlabel('Epoch')\n",
        "plt.legend(['Training', 'Validation'], loc=\"upper right\")\n",
        "plt.show()\n",
        "\n",
        "# Evaluate the model on the test set\n",
        "model.evaluate(test_data, test_target, verbose=2)"
      ],
      "execution_count": null,
      "outputs": [
        {
          "output_type": "display_data",
          "data": {
            "image/png": "[encoded data removed]",
            "text/plain": [
              "<Figure size 432x288 with 1 Axes>"
            ]
          },
          "metadata": {
            "tags": [],
            "needs_background": "light"
          }
        },
        {
          "output_type": "stream",
          "text": [
            "2/2 - 0s - loss: 0.8577 - mae: 0.6667\n"
          ],
          "name": "stdout"
        },
        {
          "output_type": "execute_result",
          "data": {
            "text/plain": [
              "[0.8577241897583008, 0.6667376756668091]"
            ]
          },
          "metadata": {
            "tags": []
          },
          "execution_count": 6
        }
      ]
    },
    {
      "cell_type": "markdown",
      "metadata": {
        "id": "V9PDe83fZaq6"
      },
      "source": [
        "***\n",
        "<a id=\"coding_tutorial_2\"></a>\n",
        "## Model regularisation\n",
        "\n",
        "#### Adding regularisation with weight decay and dropout"
      ]
    },
    {
      "cell_type": "code",
      "metadata": {
        "scrolled": true,
        "id": "CqxSfM6sZaq6",
        "colab": {
          "base_uri": "https://localhost:8080/"
        },
        "outputId": "191bebe8-e590-4265-909e-e3d7a6f7d71c"
      },
      "source": [
        "# Build the model\n",
        "def get_regularised_model(l1, l2, rate):\n",
        "    model = Sequential([\n",
        "        Dense(128, activation='relu', \n",
        "            kernel_regularizer=regularizers.l1_l2(l1=l1, l2=l2),\n",
        "            bias_regularizer=regularizers.l2(l2),\n",
        "            input_shape=(train_data.shape[1],)),\n",
        "        Dropout(rate),\n",
        "        Dense(128, activation='relu', \n",
        "            kernel_regularizer=regularizers.l1_l2(l1=l1, l2=l2),\n",
        "            bias_regularizer=regularizers.l2(l2)),\n",
        "        Dropout(rate),\n",
        "        Dense(128, activation='relu', \n",
        "            kernel_regularizer=regularizers.l1_l2(l1=l1, l2=l2),\n",
        "            bias_regularizer=regularizers.l2(l2)),\n",
        "        Dropout(rate),\n",
        "        Dense(128, activation='relu', \n",
        "            kernel_regularizer=regularizers.l1_l2(l1=l1, l2=l2),\n",
        "            bias_regularizer=regularizers.l2(l2)),\n",
        "        Dropout(rate),\n",
        "        Dense(128, activation='relu', \n",
        "            kernel_regularizer=regularizers.l1_l2(l1=l1, l2=l2),\n",
        "            bias_regularizer=regularizers.l2(l2)),\n",
        "        Dropout(rate),\n",
        "        Dense(128, activation='relu', \n",
        "            kernel_regularizer=regularizers.l1_l2(l1=l1, l2=l2),\n",
        "            bias_regularizer=regularizers.l2(l2)),\n",
        "        Dropout(rate),\n",
        "        Dense(1)])\n",
        "    return model\n",
        "\n",
        "# Re-build the model with weight decay and dropout layers\n",
        "model = get_regularised_model(l1=3e-4, l2=1e-5, rate=0.3)\n",
        "\n",
        "# Print the model summary\n",
        "model.summary()"
      ],
      "execution_count": null,
      "outputs": [
        {
          "output_type": "stream",
          "text": [
            "Model: \"sequential_1\"\n",
            "_________________________________________________________________\n",
            "Layer (type)                 Output Shape              Param #   \n",
            "=================================================================\n",
            "dense_7 (Dense)              (None, 128)               1408      \n",
            "_________________________________________________________________\n",
            "dropout (Dropout)            (None, 128)               0         \n",
            "_________________________________________________________________\n",
            "dense_8 (Dense)              (None, 128)               16512     \n",
            "_________________________________________________________________\n",
            "dropout_1 (Dropout)          (None, 128)               0         \n",
            "_________________________________________________________________\n",
            "dense_9 (Dense)              (None, 128)               16512     \n",
            "_________________________________________________________________\n",
            "dropout_2 (Dropout)          (None, 128)               0         \n",
            "_________________________________________________________________\n",
            "dense_10 (Dense)             (None, 128)               16512     \n",
            "_________________________________________________________________\n",
            "dropout_3 (Dropout)          (None, 128)               0         \n",
            "_________________________________________________________________\n",
            "dense_11 (Dense)             (None, 128)               16512     \n",
            "_________________________________________________________________\n",
            "dropout_4 (Dropout)          (None, 128)               0         \n",
            "_________________________________________________________________\n",
            "dense_12 (Dense)             (None, 128)               16512     \n",
            "_________________________________________________________________\n",
            "dropout_5 (Dropout)          (None, 128)               0         \n",
            "_________________________________________________________________\n",
            "dense_13 (Dense)             (None, 1)                 129       \n",
            "=================================================================\n",
            "Total params: 84,097\n",
            "Trainable params: 84,097\n",
            "Non-trainable params: 0\n",
            "_________________________________________________________________\n"
          ],
          "name": "stdout"
        }
      ]
    },
    {
      "cell_type": "code",
      "metadata": {
        "id": "jjGE7NbHZaq-",
        "colab": {
          "base_uri": "https://localhost:8080/",
          "height": 330
        },
        "outputId": "f8e2877e-9bbb-403a-ce3f-8a566a35916c"
      },
      "source": [
        "# Compile the model\n",
        "model.compile(\n",
        "    optimizer='adam',\n",
        "    loss='mse',\n",
        "    metrics=['mae'])\n",
        "\n",
        "# Train the model, with some of the data reserved for validation\n",
        "history = model.fit(train_data, train_target, epochs=100,\n",
        "    validation_split=0.15, batch_size=64, verbose=False)\n",
        "# Plot the training and validation loss\n",
        "plt.plot(history.history['loss'])\n",
        "plt.plot(history.history['val_loss'])\n",
        "plt.title(\"Loss vs. epochs\")\n",
        "plt.ylabel('Loss')\n",
        "plt.xlabel('Epoch')\n",
        "plt.legend(['Training', 'Validation'], loc=\"upper right\")\n",
        "plt.show()\n",
        "\n",
        "# Evaluate the model on the test set\n",
        "model.evaluate(test_data, test_target, verbose=2)"
      ],
      "execution_count": null,
      "outputs": [
        {
          "output_type": "display_data",
          "data": {
            "image/png": "[encoded data removed]",
            "text/plain": [
              "<Figure size 432x288 with 1 Axes>"
            ]
          },
          "metadata": {
            "tags": [],
            "needs_background": "light"
          }
        },
        {
          "output_type": "stream",
          "text": [
            "2/2 - 0s - loss: 0.9296 - mae: 0.6785\n"
          ],
          "name": "stdout"
        },
        {
          "output_type": "execute_result",
          "data": {
            "text/plain": [
              "[0.9295716881752014, 0.6784543991088867]"
            ]
          },
          "metadata": {
            "tags": []
          },
          "execution_count": 8
        }
      ]
    },
    {
      "cell_type": "markdown",
      "metadata": {
        "id": "zglJ2RHVZarE"
      },
      "source": [
        "***\n",
        "<a id=\"coding_tutorial_3\"></a>\n",
        "## Introduction to callbacks\n",
        "\n",
        "#### Example training callback"
      ]
    },
    {
      "cell_type": "code",
      "metadata": {
        "id": "jbSAioeSZarF"
      },
      "source": [
        "# Write a custom callback\n",
        "class TrainingCallback(Callback):\n",
        "    \n",
        "    def on_train_begin(self, logs=None):\n",
        "        print(\"Starting training....\")\n",
        "        \n",
        "    def on_epoch_begin(self, epoch, logs=None):\n",
        "        print(f\"Starting epoch {epoch}\")\n",
        "        \n",
        "    def on_train_batch_begin(self, batch, logs=None):\n",
        "        print(f\"Training: Starting batch {batch}\")\n",
        "        \n",
        "    def on_train_batch_end(self, batch, logs=None):\n",
        "        print(f\"Training: Finished batch {batch}\")\n",
        "        \n",
        "    def on_epoch_end(self, epoch, logs=None):\n",
        "        print(f\"Finished epoch {epoch}\")\n",
        "        \n",
        "    def on_train_end(self, logs=None):\n",
        "        print(\"Finished training!\")\n",
        "        \n",
        "# Re-build the model\n",
        "model = get_regularised_model(l1=3e-4, l2=1e-5, rate=0.3)"
      ],
      "execution_count": null,
      "outputs": []
    },
    {
      "cell_type": "code",
      "metadata": {
        "scrolled": true,
        "id": "Nk_ghaUBZarJ",
        "colab": {
          "base_uri": "https://localhost:8080/"
        },
        "outputId": "df52ec7f-a884-422c-a8f6-872dd107474e"
      },
      "source": [
        "# Compile the model\n",
        "model.compile(\n",
        "    optimizer='adam',\n",
        "    loss='mse',\n",
        "    metrics=['mae'])\n",
        "\n",
        "# Train the model with the callback\n",
        "model.fit(train_data, train_target, epochs=3, batch_size=128,\n",
        "    verbose=False, callbacks=[TrainingCallback()])"
      ],
      "execution_count": null,
      "outputs": [
        {
          "output_type": "stream",
          "text": [
            "Starting training....\n",
            "Starting epoch 0\n",
            "Training: Starting batch 0\n",
            "Training: Finished batch 0\n",
            "Training: Starting batch 1\n",
            "Training: Finished batch 1\n",
            "Training: Starting batch 2\n",
            "Training: Finished batch 2\n",
            "Training: Starting batch 3\n",
            "Training: Finished batch 3\n",
            "Finished epoch 0\n",
            "Starting epoch 1\n",
            "Training: Starting batch 0\n",
            "Training: Finished batch 0\n",
            "Training: Starting batch 1\n",
            "Training: Finished batch 1\n",
            "Training: Starting batch 2\n",
            "Training: Finished batch 2\n",
            "Training: Starting batch 3\n",
            "Training: Finished batch 3\n",
            "Finished epoch 1\n",
            "Starting epoch 2\n",
            "Training: Starting batch 0\n",
            "Training: Finished batch 0\n",
            "Training: Starting batch 1\n",
            "Training: Finished batch 1\n",
            "Training: Starting batch 2\n",
            "Training: Finished batch 2\n",
            "Training: Starting batch 3\n",
            "Training: Finished batch 3\n",
            "Finished epoch 2\n",
            "Finished training!\n"
          ],
          "name": "stdout"
        },
        {
          "output_type": "execute_result",
          "data": {
            "text/plain": [
              "<tensorflow.python.keras.callbacks.History at 0x7ffaf061ae80>"
            ]
          },
          "metadata": {
            "tags": []
          },
          "execution_count": 10
        }
      ]
    },
    {
      "cell_type": "code",
      "metadata": {
        "id": "S6t6iHQvZarO",
        "colab": {
          "base_uri": "https://localhost:8080/"
        },
        "outputId": "25c50e01-2818-40e7-e590-39af3d4751ca"
      },
      "source": [
        "# Write a custom callback\n",
        "class TestingCallback(Callback):\n",
        "    \n",
        "    def on_test_begin(self, logs=None):\n",
        "        print(\"Starting testing....\")\n",
        "        \n",
        "    def on_test_batch_begin(self, batch, logs=None):\n",
        "        print(f\"Testing: Starting batch {batch}\")\n",
        "        \n",
        "    def on_test_batch_end(self, batch, logs=None):\n",
        "        print(f\"Testing: Finished batch {batch}\")\n",
        "        \n",
        "    def on_test_end(self, logs=None):\n",
        "        print(\"Finished testing!\")\n",
        "        \n",
        "# Evaluate the model\n",
        "model.evaluate(test_data, test_target, verbose=False,\n",
        "    callbacks=[TestingCallback()])"
      ],
      "execution_count": null,
      "outputs": [
        {
          "output_type": "stream",
          "text": [
            "Starting testing....\n",
            "Testing: Starting batch 0\n",
            "Testing: Finished batch 0\n",
            "Testing: Starting batch 1\n",
            "Testing: Finished batch 1\n",
            "Finished testing!\n"
          ],
          "name": "stdout"
        },
        {
          "output_type": "execute_result",
          "data": {
            "text/plain": [
              "[2.85793399810791, 0.9766377210617065]"
            ]
          },
          "metadata": {
            "tags": []
          },
          "execution_count": 11
        }
      ]
    },
    {
      "cell_type": "code",
      "metadata": {
        "scrolled": true,
        "id": "jQmQton9ZarS",
        "colab": {
          "base_uri": "https://localhost:8080/"
        },
        "outputId": "9bdaff95-657a-4151-88d6-150ca13dafd1"
      },
      "source": [
        "# Write a custom callback\n",
        "class PredictionCallback(Callback):\n",
        "    \n",
        "    def on_predict_begin(self, logs=None):\n",
        "        print(\"Starting prediction...\")\n",
        "        \n",
        "    def on_predict_batch_begin(self, batch, logs=None):\n",
        "        print(f\"Prediction: Starting batch {batch}\")\n",
        "        \n",
        "    def on_predict_batch_end(self, batch, logs=None):\n",
        "        print(f\"Prediction: Finished batch {batch}\")\n",
        "        \n",
        "    def on_predict_end(self, logs=None):\n",
        "        print(\"Finished prediction!\")\n",
        "        \n",
        "# Make predictions with the model\n",
        "model.predict(test_data, verbose=False, \n",
        "    callbacks=[PredictionCallback()])"
      ],
      "execution_count": null,
      "outputs": [
        {
          "output_type": "stream",
          "text": [
            "Starting prediction...\n",
            "Prediction: Starting batch 0\n",
            "Prediction: Finished batch 0\n",
            "Prediction: Starting batch 1\n",
            "Prediction: Finished batch 1\n",
            "Finished prediction!\n"
          ],
          "name": "stdout"
        },
        {
          "output_type": "execute_result",
          "data": {
            "text/plain": [
              "array([[ 0.079643  ],\n",
              "       [ 0.09545845],\n",
              "       [ 0.08527519],\n",
              "       [ 0.0687821 ],\n",
              "       [ 0.07400074],\n",
              "       [ 0.06265103],\n",
              "       [ 0.03146616],\n",
              "       [ 0.05631804],\n",
              "       [ 0.07499036],\n",
              "       [ 0.09024923],\n",
              "       [ 0.07958161],\n",
              "       [-0.00645809],\n",
              "       [ 0.11299005],\n",
              "       [ 0.07079986],\n",
              "       [ 0.06986285],\n",
              "       [ 0.08650937],\n",
              "       [ 0.12446415],\n",
              "       [ 0.08417393],\n",
              "       [-0.00469402],\n",
              "       [ 0.05053021],\n",
              "       [ 0.09383311],\n",
              "       [ 0.07927956],\n",
              "       [ 0.05113357],\n",
              "       [ 0.04478163],\n",
              "       [ 0.11843307],\n",
              "       [ 0.04496048],\n",
              "       [-0.0027866 ],\n",
              "       [ 0.07806625],\n",
              "       [ 0.10397156],\n",
              "       [ 0.08162671],\n",
              "       [-0.01384097],\n",
              "       [ 0.05283517],\n",
              "       [ 0.03234737],\n",
              "       [ 0.13730516],\n",
              "       [ 0.04700422],\n",
              "       [-0.01146705],\n",
              "       [ 0.03953916],\n",
              "       [ 0.0724186 ],\n",
              "       [ 0.05365843],\n",
              "       [ 0.0046098 ],\n",
              "       [ 0.0690291 ],\n",
              "       [-0.00349865],\n",
              "       [ 0.06055015],\n",
              "       [-0.00475267],\n",
              "       [-0.00323217]], dtype=float32)"
            ]
          },
          "metadata": {
            "tags": []
          },
          "execution_count": 12
        }
      ]
    },
    {
      "cell_type": "markdown",
      "metadata": {
        "id": "mdZhlVwWZarY"
      },
      "source": [
        "***\n",
        "<a id=\"coding_tutorial_4\"></a>\n",
        "## Early stopping / patience\n",
        "\n",
        "#### Re-train the models with early stopping"
      ]
    },
    {
      "cell_type": "code",
      "metadata": {
        "id": "Efs0wqUZZarY",
        "colab": {
          "base_uri": "https://localhost:8080/"
        },
        "outputId": "b29f4efe-c01a-4296-a6e4-0bd91a4b3bb5"
      },
      "source": [
        "# Re-train the unregularised model\n",
        "unregularised_model = get_model()\n",
        "unregularised_model.compile(optimizer='adam', \n",
        "    loss='mse', metrics=['mae'])\n",
        "unreg_history = unregularised_model.fit(train_data, train_target,\n",
        "    epochs=100, validation_split=0.15, batch_size=64, verbose=False,\n",
        "    callbacks=[EarlyStopping(monitor='val_loss', patience=2, \n",
        "         min_delta=0.001)])\n",
        "\n",
        "# Evaluate the model on the test set\n",
        "unregularised_model.evaluate(test_data, test_target, verbose=2)"
      ],
      "execution_count": null,
      "outputs": [
        {
          "output_type": "stream",
          "text": [
            "2/2 - 0s - loss: 0.9630 - mae: 0.8021\n"
          ],
          "name": "stdout"
        },
        {
          "output_type": "execute_result",
          "data": {
            "text/plain": [
              "[0.9630253911018372, 0.8021224737167358]"
            ]
          },
          "metadata": {
            "tags": []
          },
          "execution_count": 13
        }
      ]
    },
    {
      "cell_type": "code",
      "metadata": {
        "id": "QMWTX663Zard",
        "colab": {
          "base_uri": "https://localhost:8080/"
        },
        "outputId": "0b31c41a-d66c-47fe-c89a-ddce48f2329e"
      },
      "source": [
        "# Re-train the regularised model\n",
        "regularised_model = get_regularised_model(l1=3e-4, l2=1e-5, rate=0.3)\n",
        "regularised_model.compile(optimizer='adam', \n",
        "    loss='mse', metrics=['mae'])\n",
        "reg_history = regularised_model.fit(train_data, train_target,\n",
        "    epochs=100, validation_split=0.15, batch_size=64, verbose=False,\n",
        "    callbacks=[EarlyStopping(monitor='val_loss', patience=2, \n",
        "         min_delta=0.001)])\n",
        "\n",
        "# Evaluate the model on the test set\n",
        "regularised_model.evaluate(test_data, test_target, verbose=2)"
      ],
      "execution_count": null,
      "outputs": [
        {
          "output_type": "stream",
          "text": [
            "2/2 - 0s - loss: 1.0259 - mae: 0.6913\n"
          ],
          "name": "stdout"
        },
        {
          "output_type": "execute_result",
          "data": {
            "text/plain": [
              "[1.0259044170379639, 0.6913084387779236]"
            ]
          },
          "metadata": {
            "tags": []
          },
          "execution_count": 14
        }
      ]
    },
    {
      "cell_type": "code",
      "metadata": {
        "id": "f44DDf8UZarh",
        "colab": {
          "base_uri": "https://localhost:8080/",
          "height": 350
        },
        "outputId": "bb7b4c35-3bf4-4869-f8e2-a76b4ea8e067"
      },
      "source": [
        "# Plot the training and validation loss\n",
        "fig = plt.figure(figsize=(12, 5))\n",
        "\n",
        "fig.add_subplot(121)\n",
        "plt.plot(unreg_history.history['loss'])\n",
        "plt.plot(unreg_history.history['val_loss'])\n",
        "plt.title('Unregularised model: loss vs. epochs')\n",
        "plt.ylabel('Loss')\n",
        "plt.xlabel('Epoch')\n",
        "plt.legend(['Training', 'Validation'], loc='upper right')\n",
        "\n",
        "fig.add_subplot(122)\n",
        "plt.plot(reg_history.history['loss'])\n",
        "plt.plot(reg_history.history['val_loss'])\n",
        "plt.title('Regularised model: loss vs. epochs')\n",
        "plt.ylabel('Loss')\n",
        "plt.xlabel('Epoch')\n",
        "plt.legend(['Training', 'Validation'], loc='upper right')\n",
        "\n",
        "plt.show()"
      ],
      "execution_count": null,
      "outputs": [
        {
          "output_type": "display_data",
          "data": {
            "image/png": "[encoded data removed]",
            "text/plain": [
              "<Figure size 864x360 with 2 Axes>"
            ]
          },
          "metadata": {
            "tags": [],
            "needs_background": "light"
          }
        }
      ]
    }
  ]
}