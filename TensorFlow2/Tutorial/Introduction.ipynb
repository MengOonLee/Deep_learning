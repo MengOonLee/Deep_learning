{
 "cells": [
  {
   "cell_type": "markdown",
   "metadata": {},
   "source": [
    "# Introduction to TensorFlow 2\n",
    "\n",
    "\n",
    "## Coding tutorials\n",
    "\n",
    "#### [1. Hello TensorFlow!](#coding_tutorial_1)"
   ]
  },
  {
   "cell_type": "markdown",
   "metadata": {},
   "source": [
    "---\n",
    "<a id='coding_tutorial_1'></a>\n",
    "## Hello TensorFlow!"
   ]
  },
  {
   "cell_type": "code",
   "execution_count": 1,
   "metadata": {},
   "outputs": [
    {
     "name": "stdout",
     "output_type": "stream",
     "text": [
      "2.2.0\n"
     ]
    }
   ],
   "source": [
    "# Import TensorFlow\n",
    "\n",
    "import tensorflow as tf\n",
    "print(tf.__version__)\n",
    "# Check GPU available\n",
    "gpus = tf.config.list_physical_devices('GPU')\n",
    "if gpus:\n",
    "    try:\n",
    "        for gpu in gpus:\n",
    "            tf.config.experimental.set_memory_growth(gpu, True)\n",
    "    except RuntimeError as e:\n",
    "        print(e)"
   ]
  },
  {
   "cell_type": "code",
   "execution_count": 2,
   "metadata": {},
   "outputs": [],
   "source": [
    "import os\n",
    "\n",
    "if not os.path.exists('./data/mnist'):\n",
    "    os.makedirs('./data/mnist')\n",
    "\n",
    "!wget -qO ./data/mnist/mnist_train.csv \"https://www.python-course.eu/data/mnist/mnist_train.csv\"\n",
    "!wget -qO ./data/mnist/mnist_test.csv \"https://www.python-course.eu/data/mnist/mnist_test.csv\""
   ]
  },
  {
   "cell_type": "code",
   "execution_count": 3,
   "metadata": {},
   "outputs": [
    {
     "name": "stdout",
     "output_type": "stream",
     "text": [
      "Loading train data...\n",
      "\n",
      "MNIST dataset loaded.\n",
      "\n",
      "x train data size: (60000, 784)\n",
      "y train data size: (60000,)\n",
      "Min:  0.0\n",
      "Max:  1.0\n"
     ]
    }
   ],
   "source": [
    "# Load MNIST dataset\n",
    "\n",
    "import numpy as np\n",
    "\n",
    "print('Loading train data...\\n')\n",
    "data = np.loadtxt('./data/mnist/mnist_train.csv', delimiter=',')\n",
    "print ('MNIST dataset loaded.\\n')\n",
    "\n",
    "x_train = data[:, 1:]\n",
    "x_train = x_train/x_train.max()\n",
    "y_train = data[:, 0]\n",
    "\n",
    "print('x train data size: {}'.format(x_train.shape))\n",
    "print('y train data size: {}'.format(y_train.shape))\n",
    "\n",
    "# Scale data to (0, 1)\n",
    "print('Min: ', x_train.min())\n",
    "print('Max: ', x_train.max())"
   ]
  },
  {
   "cell_type": "code",
   "execution_count": 4,
   "metadata": {},
   "outputs": [
    {
     "name": "stdout",
     "output_type": "stream",
     "text": [
      "Training model...\n",
      "\n",
      "Epoch 1/3\n",
      "1875/1875 [==============================] - 3s 2ms/step - loss: 0.4344 - accuracy: 0.8770\n",
      "Epoch 2/3\n",
      "1875/1875 [==============================] - 3s 2ms/step - loss: 0.2500 - accuracy: 0.9279\n",
      "Epoch 3/3\n",
      "1875/1875 [==============================] - 3s 2ms/step - loss: 0.2109 - accuracy: 0.9403\n",
      "Model trained successfully\n"
     ]
    }
   ],
   "source": [
    "# Train a feedforward neural network for image classification\n",
    "\n",
    "model = tf.keras.models.Sequential([\n",
    "    tf.keras.layers.Dense(16, activation='relu'),\n",
    "    tf.keras.layers.Dense(10, activation='softmax')\n",
    "])\n",
    "\n",
    "model.compile(\n",
    "    optimizer='adam',\n",
    "    loss='sparse_categorical_crossentropy',\n",
    "    metrics=['accuracy']\n",
    ")\n",
    "\n",
    "print('Training model...\\n')\n",
    "model.fit(x_train, y_train, epochs=3, batch_size=32)\n",
    "\n",
    "print('Model trained successfully')"
   ]
  }
 ],
 "metadata": {
  "kernelspec": {
   "display_name": "Python 3",
   "language": "python",
   "name": "python3"
  },
  "language_info": {
   "codemirror_mode": {
    "name": "ipython",
    "version": 3
   },
   "file_extension": ".py",
   "mimetype": "text/x-python",
   "name": "python",
   "nbconvert_exporter": "python",
   "pygments_lexer": "ipython3",
   "version": "3.8.5"
  }
 },
 "nbformat": 4,
 "nbformat_minor": 4
}
