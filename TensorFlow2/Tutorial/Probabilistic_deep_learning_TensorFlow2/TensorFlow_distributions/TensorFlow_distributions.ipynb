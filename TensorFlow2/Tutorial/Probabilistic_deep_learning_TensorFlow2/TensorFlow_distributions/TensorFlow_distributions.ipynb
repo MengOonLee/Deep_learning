{
  "nbformat": 4,
  "nbformat_minor": 0,
  "metadata": {
    "kernelspec": {
      "display_name": "Python 3",
      "language": "python",
      "name": "python3"
    },
    "language_info": {
      "codemirror_mode": {
        "name": "ipython",
        "version": 3
      },
      "file_extension": ".py",
      "mimetype": "text/x-python",
      "name": "python",
      "nbconvert_exporter": "python",
      "pygments_lexer": "ipython3",
      "version": "3.7.1"
    },
    "colab": {
      "name": "TensorFlow_distributions.ipynb",
      "provenance": [],
      "include_colab_link": true
    }
  },
  "cells": [
    {
      "cell_type": "markdown",
      "metadata": {
        "id": "view-in-github",
        "colab_type": "text"
      },
      "source": [
        "<a href=\"https://colab.research.google.com/github/MengOonLee/Deep_learning/blob/master/TensorFlow2/Tutorial/Probabilistic_deep_learning_TensorFlow2/TensorFlow_distributions/TensorFlow_distributions.ipynb\" target=\"_parent\"><img src=\"https://colab.research.google.com/assets/colab-badge.svg\" alt=\"Open In Colab\"/></a>"
      ]
    },
    {
      "cell_type": "code",
      "metadata": {
        "id": "bHvmVk2QJLKn",
        "colab": {
          "base_uri": "https://localhost:8080/"
        },
        "outputId": "926b648d-1246-4c97-a108-4f34795dd481"
      },
      "source": [
        "import tensorflow as tf\n",
        "import tensorflow_probability as tfp\n",
        "tfd = tfp.distributions\n",
        "\n",
        "print(\"TF version:\", tf.__version__)\n",
        "print(\"TFP version:\", tfp.__version__)"
      ],
      "execution_count": 1,
      "outputs": [
        {
          "output_type": "stream",
          "name": "stdout",
          "text": [
            "TF version: 2.8.0\n",
            "TFP version: 0.16.0\n"
          ]
        }
      ]
    },
    {
      "cell_type": "code",
      "metadata": {
        "id": "qtwQEWmUJLKp"
      },
      "source": [
        "# Additional imports and setting fixed random seed to have reproducibility\n",
        "\n",
        "%matplotlib inline\n",
        "%config InlineBackend.figure_format = 'retina'\n",
        "import matplotlib.pyplot as plt\n",
        "\n",
        "import seaborn as sns\n",
        "sns.set_style('whitegrid')\n",
        "sns.set(font='DejaVu Sans')\n",
        "\n",
        "import numpy as np\n",
        "tf.random.set_seed(123)"
      ],
      "execution_count": 2,
      "outputs": []
    },
    {
      "cell_type": "markdown",
      "metadata": {
        "id": "pw4DfEfnJLKp"
      },
      "source": [
        "# Tensorflow Distributions"
      ]
    },
    {
      "cell_type": "markdown",
      "metadata": {
        "id": "AMCzcN1-JLKp"
      },
      "source": [
        "## Coding Tutorials\n",
        "#### 1. [Univariate Distributions](#univariate_distributions)\n",
        "#### 2. [Multivariate Distributions](#multivariate_distributions)\n",
        "#### 3. [The Independent Distribution](#the_independent_distribution)\n",
        "#### 4. [Sampling and log probs](#sampling_and_log_probs)\n",
        "#### 5. [Trainable Distributions](#trainable_distributions)"
      ]
    },
    {
      "cell_type": "markdown",
      "metadata": {
        "id": "qM53TAYMJLKp"
      },
      "source": [
        "***\n",
        "## Univariate distributions\n",
        "<a id='univariate_distributions'></a>"
      ]
    },
    {
      "cell_type": "code",
      "metadata": {
        "id": "DQOqFgpSJLKp",
        "colab": {
          "base_uri": "https://localhost:8080/"
        },
        "outputId": "a89d0429-7b7b-424a-b9bf-ef66ad89a74a"
      },
      "source": [
        "import tensorflow as tf\n",
        "import tensorflow_probability as tfp\n",
        "tfd = tfp.distributions\n",
        "\n",
        "normal = tfd.Normal(loc=0., scale=1.)\n",
        "print(normal)\n",
        "print(normal.sample())\n",
        "print(normal.sample(3))\n",
        "print(normal.prob(0.5))\n",
        "print(normal.log_prob(0.5))"
      ],
      "execution_count": null,
      "outputs": [
        {
          "output_type": "stream",
          "name": "stdout",
          "text": [
            "tfp.distributions.Normal(\"Normal\", batch_shape=[], event_shape=[], dtype=float32)\n",
            "tf.Tensor(0.2548821, shape=(), dtype=float32)\n",
            "tf.Tensor([-0.15900978  1.14447     1.91564   ], shape=(3,), dtype=float32)\n",
            "tf.Tensor(0.35206532, shape=(), dtype=float32)\n",
            "tf.Tensor(-1.0439385, shape=(), dtype=float32)\n"
          ]
        }
      ]
    },
    {
      "cell_type": "code",
      "source": [
        "import tensorflow_probability as tfp\n",
        "tfd = tfp.distributions\n",
        "batched_normal = tfd.Normal(loc=[-0.8, 0., 1.9], scale=[1.25, 0.6, 2.8])\n",
        "batched_normal.sample(2)"
      ],
      "metadata": {
        "colab": {
          "base_uri": "https://localhost:8080/"
        },
        "id": "GhsgKsVjmVBx",
        "outputId": "8642f6c7-20bf-41bc-962b-1b6dec7923d6"
      },
      "execution_count": null,
      "outputs": [
        {
          "output_type": "execute_result",
          "data": {
            "text/plain": [
              "<tf.Tensor: shape=(2, 3), dtype=float32, numpy=\n",
              "array([[-2.4914215 , -0.18018919, -0.18525994],\n",
              "       [-2.7171965 , -0.9568408 ,  0.9292603 ]], dtype=float32)>"
            ]
          },
          "metadata": {},
          "execution_count": 7
        }
      ]
    },
    {
      "cell_type": "code",
      "metadata": {
        "id": "o3L4oQTWJLKq",
        "colab": {
          "base_uri": "https://localhost:8080/"
        },
        "outputId": "d8ea2c19-3404-4d6c-f915-7cff7feca544"
      },
      "source": [
        "bernoulli = tfd.Bernoulli(probs=0.7)\n",
        "print(bernoulli)\n",
        "\n",
        "bernouli = tfd.Bernoulli(logits=0.847)\n",
        "print(\"\\n\", bernouli)\n",
        "print(bernoulli.sample(3))\n",
        "print(bernoulli.prob(1))\n",
        "print(bernoulli.log_prob(1))\n",
        "\n",
        "batched_bernoulli = tfd.Bernoulli(probs=[0.4, 0.5])\n",
        "print(\"\\n\", batched_bernoulli)\n",
        "print(batched_bernoulli.batch_shape)\n",
        "print(batched_bernoulli.sample(3))\n",
        "print(batched_bernoulli.prob([1, 1]))\n",
        "print(batched_bernoulli.log_prob([1, 1]))"
      ],
      "execution_count": null,
      "outputs": [
        {
          "output_type": "stream",
          "name": "stdout",
          "text": [
            "tfp.distributions.Bernoulli(\"Bernoulli\", batch_shape=[], event_shape=[], dtype=int32)\n",
            "\n",
            " tfp.distributions.Bernoulli(\"Bernoulli\", batch_shape=[], event_shape=[], dtype=int32)\n",
            "tf.Tensor([1 1 1], shape=(3,), dtype=int32)\n",
            "tf.Tensor(0.7, shape=(), dtype=float32)\n",
            "tf.Tensor(-0.35667497, shape=(), dtype=float32)\n",
            "\n",
            " tfp.distributions.Bernoulli(\"Bernoulli\", batch_shape=[2], event_shape=[], dtype=int32)\n",
            "(2,)\n",
            "tf.Tensor(\n",
            "[[0 0]\n",
            " [0 0]\n",
            " [1 0]], shape=(3, 2), dtype=int32)\n",
            "tf.Tensor([0.4 0.5], shape=(2,), dtype=float32)\n",
            "tf.Tensor([-0.9162907 -0.6931472], shape=(2,), dtype=float32)\n"
          ]
        }
      ]
    },
    {
      "cell_type": "code",
      "metadata": {
        "id": "sjA3baBaJLKq",
        "colab": {
          "base_uri": "https://localhost:8080/"
        },
        "outputId": "84bfd6b6-2133-48cd-9e3f-c667120278e3"
      },
      "source": [
        "# Create a normal distribution from Tensorflow Distributions\n",
        "\n",
        "normal = tfd.Normal(loc=0, scale=1)\n",
        "normal"
      ],
      "execution_count": null,
      "outputs": [
        {
          "output_type": "execute_result",
          "data": {
            "text/plain": [
              "<tfp.distributions.Normal 'Normal' batch_shape=[] event_shape=[] dtype=float32>"
            ]
          },
          "metadata": {},
          "execution_count": 3
        }
      ]
    },
    {
      "cell_type": "code",
      "metadata": {
        "id": "IYMy8zX0JLKq",
        "colab": {
          "base_uri": "https://localhost:8080/"
        },
        "outputId": "66c80ae9-4576-4414-99b4-f9864210d258"
      },
      "source": [
        "# Sample from the chosen distribution...\n",
        "\n",
        "normal.sample()"
      ],
      "execution_count": null,
      "outputs": [
        {
          "output_type": "execute_result",
          "data": {
            "text/plain": [
              "<tf.Tensor: shape=(), dtype=float32, numpy=-0.8980837>"
            ]
          },
          "metadata": {},
          "execution_count": 4
        }
      ]
    },
    {
      "cell_type": "code",
      "metadata": {
        "id": "SIrclC_VJLKq",
        "colab": {
          "base_uri": "https://localhost:8080/"
        },
        "outputId": "0bca3ca3-8061-4142-b547-d144e9d3a8e7"
      },
      "source": [
        "# ... or sample multiple times\n",
        "\n",
        "normal.sample(10)"
      ],
      "execution_count": null,
      "outputs": [
        {
          "output_type": "execute_result",
          "data": {
            "text/plain": [
              "<tf.Tensor: shape=(10,), dtype=float32, numpy=\n",
              "array([ 0.33875433,  0.3449861 , -0.6605785 , -0.2854994 ,  0.43852386,\n",
              "        0.8288566 , -0.53591555, -0.5353483 , -1.0324248 , -2.942705  ],\n",
              "      dtype=float32)>"
            ]
          },
          "metadata": {},
          "execution_count": 5
        }
      ]
    },
    {
      "cell_type": "code",
      "metadata": {
        "id": "tSev8sB1JLKq",
        "colab": {
          "base_uri": "https://localhost:8080/"
        },
        "outputId": "63361f17-cffc-4a67-f910-5f5c0096c166"
      },
      "source": [
        "# Obtain value of probability's density\n",
        "\n",
        "normal.prob(0)"
      ],
      "execution_count": null,
      "outputs": [
        {
          "output_type": "execute_result",
          "data": {
            "text/plain": [
              "<tf.Tensor: shape=(), dtype=float32, numpy=0.3989423>"
            ]
          },
          "metadata": {},
          "execution_count": 6
        }
      ]
    },
    {
      "cell_type": "code",
      "metadata": {
        "id": "aJ8BUG8YJLKq",
        "colab": {
          "base_uri": "https://localhost:8080/"
        },
        "outputId": "ce4a1270-86a8-4b02-c456-717e413eb229"
      },
      "source": [
        "# Obtain value of logprobability\n",
        "\n",
        "normal.log_prob(0)"
      ],
      "execution_count": null,
      "outputs": [
        {
          "output_type": "execute_result",
          "data": {
            "text/plain": [
              "<tf.Tensor: shape=(), dtype=float32, numpy=-0.9189385>"
            ]
          },
          "metadata": {},
          "execution_count": 7
        }
      ]
    },
    {
      "cell_type": "code",
      "metadata": {
        "id": "VTpnQHYPJLKr",
        "colab": {
          "base_uri": "https://localhost:8080/"
        },
        "outputId": "e7afc6c2-8f27-44f4-8d66-2d11b57774f8"
      },
      "source": [
        "# Verify that this really is the log of the probability\n",
        "\n",
        "np.log(normal.prob(0))"
      ],
      "execution_count": null,
      "outputs": [
        {
          "output_type": "execute_result",
          "data": {
            "text/plain": [
              "-0.9189385"
            ]
          },
          "metadata": {},
          "execution_count": 8
        }
      ]
    },
    {
      "cell_type": "code",
      "metadata": {
        "id": "QxD0yv7uJLKr",
        "colab": {
          "base_uri": "https://localhost:8080/",
          "height": 268
        },
        "outputId": "438ea982-dcfb-4ba3-e40a-b4b17724721e"
      },
      "source": [
        "# Plot a histogram, approximating the density\n",
        "\n",
        "plt.hist(normal.sample(10000), bins=50, density=True)\n",
        "plt.show()"
      ],
      "execution_count": null,
      "outputs": [
        {
          "output_type": "display_data",
          "data": {
            "image/png": "[encoded data removed]",
            "text/plain": [
              "<Figure size 432x288 with 1 Axes>"
            ]
          },
          "metadata": {
            "image/png": {
              "width": 383,
              "height": 251
            }
          }
        }
      ]
    },
    {
      "cell_type": "code",
      "metadata": {
        "id": "XjLYUyZcJLKr",
        "colab": {
          "base_uri": "https://localhost:8080/",
          "height": 268
        },
        "outputId": "c98596a5-d696-4160-89fd-a28a55111f12"
      },
      "source": [
        "# Do the same for the exponential distribution\n",
        "\n",
        "exponential = tfd.Exponential(rate=1)\n",
        "plt.hist(exponential.sample(10000), bins=50, density=True)\n",
        "plt.show()"
      ],
      "execution_count": null,
      "outputs": [
        {
          "output_type": "display_data",
          "data": {
            "image/png": "[encoded data removed]",
            "text/plain": [
              "<Figure size 432x288 with 1 Axes>"
            ]
          },
          "metadata": {
            "image/png": {
              "width": 376,
              "height": 251
            }
          }
        }
      ]
    },
    {
      "cell_type": "code",
      "metadata": {
        "id": "FOnOgBUJJLKr",
        "colab": {
          "base_uri": "https://localhost:8080/"
        },
        "outputId": "b26f7075-d539-4b3d-a2c2-111f64adf237"
      },
      "source": [
        "# Sample as before\n",
        "\n",
        "exponential.sample(10)"
      ],
      "execution_count": null,
      "outputs": [
        {
          "output_type": "execute_result",
          "data": {
            "text/plain": [
              "<tf.Tensor: shape=(10,), dtype=float32, numpy=\n",
              "array([0.31796157, 0.9595855 , 0.6190708 , 1.3738598 , 1.6796894 ,\n",
              "       0.40142855, 1.6830153 , 1.78942   , 0.38126466, 0.55283946],\n",
              "      dtype=float32)>"
            ]
          },
          "metadata": {},
          "execution_count": 11
        }
      ]
    },
    {
      "cell_type": "code",
      "metadata": {
        "id": "ARyFsl2CJLKr",
        "colab": {
          "base_uri": "https://localhost:8080/"
        },
        "outputId": "0a1077fd-b073-4450-f798-63027eb8bc5d"
      },
      "source": [
        "# Create a Bernoulli distribution (discrete)\n",
        "\n",
        "bernoulli = tfd.Bernoulli(probs=0.8)\n",
        "bernoulli.sample(20)"
      ],
      "execution_count": null,
      "outputs": [
        {
          "output_type": "execute_result",
          "data": {
            "text/plain": [
              "<tf.Tensor: shape=(20,), dtype=int32, numpy=\n",
              "array([0, 1, 1, 0, 0, 1, 1, 0, 1, 1, 1, 0, 1, 1, 1, 0, 1, 0, 1, 1],\n",
              "      dtype=int32)>"
            ]
          },
          "metadata": {},
          "execution_count": 12
        }
      ]
    },
    {
      "cell_type": "code",
      "source": [
        "# Plot a histogram, approximating the density\n",
        "\n",
        "plt.hist(bernoulli.sample(10000), bins=50, density=True)\n",
        "plt.show()"
      ],
      "metadata": {
        "id": "zrjXtOrfO3Oh",
        "outputId": "7048086d-e7c5-4c70-cdf5-bfd35afc523c",
        "colab": {
          "base_uri": "https://localhost:8080/",
          "height": 268
        }
      },
      "execution_count": null,
      "outputs": [
        {
          "output_type": "display_data",
          "data": {
            "image/png": "[encoded data removed]",
            "text/plain": [
              "<Figure size 432x288 with 1 Axes>"
            ]
          },
          "metadata": {
            "image/png": {
              "width": 372,
              "height": 251
            }
          }
        }
      ]
    },
    {
      "cell_type": "markdown",
      "metadata": {
        "id": "qEl7Xg7kJLKr"
      },
      "source": [
        "#### A word of caution on discrete distributions"
      ]
    },
    {
      "cell_type": "code",
      "metadata": {
        "id": "7hywU7hWJLKr",
        "colab": {
          "base_uri": "https://localhost:8080/"
        },
        "outputId": "e558e69e-2434-40d8-868e-ef5c87111d4e"
      },
      "source": [
        "# Calculate Bernoulli prob and see that 0.5 and -1 do not give the correct probability!\n",
        "\n",
        "for k in [0,0.5,1,-1]:\n",
        "    print('prob result {} for k = {} '.format(bernoulli.prob(k), k))"
      ],
      "execution_count": null,
      "outputs": [
        {
          "output_type": "stream",
          "name": "stdout",
          "text": [
            "prob result 0.19999998807907104 for k = 0 \n",
            "prob result 0.3999999761581421 for k = 0.5 \n",
            "prob result 0.800000011920929 for k = 1 \n",
            "prob result 0.04999999701976776 for k = -1 \n"
          ]
        }
      ]
    },
    {
      "cell_type": "code",
      "metadata": {
        "id": "TpP6ZsAIJLKs"
      },
      "source": [
        "# Replicate the scores to see what is occurring under the hood\n",
        "\n",
        "def my_bernoulli(p_success, k):\n",
        "    return np.power(p_success,k)*np.power((1-p_success),(1-k))"
      ],
      "execution_count": null,
      "outputs": []
    },
    {
      "cell_type": "code",
      "metadata": {
        "id": "2b6BBy20JLKs",
        "colab": {
          "base_uri": "https://localhost:8080/"
        },
        "outputId": "6ab80bdd-51c6-4fa9-fc03-e58736fcd16c"
      },
      "source": [
        "# Evaluate it as before\n",
        "\n",
        "for k in [0,0.5,1,-1]:\n",
        "    print('prob result {} for k = {} '.format(my_bernoulli(p_success=0.8, k=k), k))"
      ],
      "execution_count": null,
      "outputs": [
        {
          "output_type": "stream",
          "name": "stdout",
          "text": [
            "prob result 0.19999999999999996 for k = 0 \n",
            "prob result 0.3999999999999999 for k = 0.5 \n",
            "prob result 0.8 for k = 1 \n",
            "prob result 0.049999999999999975 for k = -1 \n"
          ]
        }
      ]
    },
    {
      "cell_type": "markdown",
      "metadata": {
        "id": "G_wifaAqJLKs"
      },
      "source": [
        "#### Work with batch distributions"
      ]
    },
    {
      "cell_type": "code",
      "metadata": {
        "id": "6TTiltetJLKs",
        "colab": {
          "base_uri": "https://localhost:8080/"
        },
        "outputId": "79812a4e-73c8-45ab-bd9e-cbd131d9310d"
      },
      "source": [
        "# Create a batched Bernoulli distribution\n",
        "\n",
        "bernoulli_batch = tfd.Bernoulli(probs=[0.1, 0.25, 0.5, 0.75, 0.9])\n",
        "bernoulli_batch"
      ],
      "execution_count": null,
      "outputs": [
        {
          "output_type": "execute_result",
          "data": {
            "text/plain": [
              "<tfp.distributions.Bernoulli 'Bernoulli' batch_shape=[5] event_shape=[] dtype=int32>"
            ]
          },
          "metadata": {},
          "execution_count": 10
        }
      ]
    },
    {
      "cell_type": "code",
      "metadata": {
        "id": "EYSE0QPmJLKs",
        "colab": {
          "base_uri": "https://localhost:8080/"
        },
        "outputId": "310a00d8-98bd-4c8c-d642-c214e18cd565"
      },
      "source": [
        "# Sample from it, noting the shape\n",
        "\n",
        "bernoulli_batch.sample(5)"
      ],
      "execution_count": null,
      "outputs": [
        {
          "output_type": "execute_result",
          "data": {
            "text/plain": [
              "<tf.Tensor: shape=(5, 5), dtype=int32, numpy=\n",
              "array([[0, 1, 0, 0, 1],\n",
              "       [0, 0, 0, 1, 1],\n",
              "       [0, 0, 0, 1, 1],\n",
              "       [0, 0, 1, 1, 1],\n",
              "       [0, 0, 0, 1, 1]], dtype=int32)>"
            ]
          },
          "metadata": {},
          "execution_count": 11
        }
      ]
    },
    {
      "cell_type": "code",
      "metadata": {
        "id": "M5wSGXOsJLKs",
        "colab": {
          "base_uri": "https://localhost:8080/"
        },
        "outputId": "affd1cdf-c27f-4b1f-ecf6-605cb8e7c923"
      },
      "source": [
        "# Use a batch shape with higher rank\n",
        "\n",
        "probs = [[[0.5, 0.5], \n",
        "          [0.8, 0.3], \n",
        "          [0.25, 0.75]]]\n",
        "bernoulli_batch_2D = tfd.Bernoulli(probs=probs)\n",
        "bernoulli_batch_2D"
      ],
      "execution_count": null,
      "outputs": [
        {
          "output_type": "execute_result",
          "data": {
            "text/plain": [
              "<tfp.distributions.Bernoulli 'Bernoulli' batch_shape=[1, 3, 2] event_shape=[] dtype=int32>"
            ]
          },
          "metadata": {},
          "execution_count": 12
        }
      ]
    },
    {
      "cell_type": "code",
      "metadata": {
        "id": "whMhG6NLJLKs",
        "colab": {
          "base_uri": "https://localhost:8080/"
        },
        "outputId": "ef2fb64c-71fc-43a8-8521-a7c5ea628b6e"
      },
      "source": [
        "# Sample from this batch of distributions\n",
        "\n",
        "bernoulli_batch_2D.sample(5)"
      ],
      "execution_count": null,
      "outputs": [
        {
          "output_type": "execute_result",
          "data": {
            "text/plain": [
              "<tf.Tensor: shape=(5, 1, 3, 2), dtype=int32, numpy=\n",
              "array([[[[0, 0],\n",
              "         [1, 1],\n",
              "         [1, 1]]],\n",
              "\n",
              "\n",
              "       [[[0, 0],\n",
              "         [1, 0],\n",
              "         [0, 1]]],\n",
              "\n",
              "\n",
              "       [[[0, 0],\n",
              "         [1, 0],\n",
              "         [0, 1]]],\n",
              "\n",
              "\n",
              "       [[[0, 0],\n",
              "         [1, 1],\n",
              "         [0, 1]]],\n",
              "\n",
              "\n",
              "       [[[0, 1],\n",
              "         [1, 0],\n",
              "         [1, 1]]]], dtype=int32)>"
            ]
          },
          "metadata": {},
          "execution_count": 13
        }
      ]
    },
    {
      "cell_type": "code",
      "metadata": {
        "id": "kGA0tAB9JLKs",
        "colab": {
          "base_uri": "https://localhost:8080/"
        },
        "outputId": "224da2b3-3a6e-4f88-e310-4f42dbbcd27e"
      },
      "source": [
        "# Determine probabilities from this batch distribution\n",
        "\n",
        "bernoulli_batch_2D.prob([[[1, 0], \n",
        "                         [0, 0], \n",
        "                         [1, 1]]])"
      ],
      "execution_count": null,
      "outputs": [
        {
          "output_type": "execute_result",
          "data": {
            "text/plain": [
              "<tf.Tensor: shape=(1, 3, 2), dtype=float32, numpy=\n",
              "array([[[0.5       , 0.5       ],\n",
              "        [0.19999999, 0.7       ],\n",
              "        [0.25      , 0.75      ]]], dtype=float32)>"
            ]
          },
          "metadata": {},
          "execution_count": 14
        }
      ]
    },
    {
      "cell_type": "markdown",
      "metadata": {
        "id": "AQ2MT5mfJLKs"
      },
      "source": [
        "***\n",
        "<a id='multivariate_distributions'></a>\n",
        "## Multivariate Distributions\n"
      ]
    },
    {
      "cell_type": "code",
      "metadata": {
        "id": "koA2XJm2JLKs",
        "colab": {
          "base_uri": "https://localhost:8080/"
        },
        "outputId": "cc91ec52-50a7-48ef-c001-ee96041147c6"
      },
      "source": [
        "import tensorflow as tf\n",
        "import tensorflow_probability as tfp\n",
        "tfd = tfp.distributions\n",
        "\n",
        "mv_normal = tfd.MultivariateNormalDiag(\n",
        "    loc=[-1., 0.5], scale_diag=[1., 1.5])\n",
        "print(mv_normal)\n",
        "print(mv_normal.event_shape)\n",
        "print(mv_normal.sample(3))\n",
        "print(mv_normal.log_prob([-0.2, 1.8]))"
      ],
      "execution_count": null,
      "outputs": [
        {
          "output_type": "stream",
          "name": "stdout",
          "text": [
            "tfp.distributions.MultivariateNormalDiag(\"MultivariateNormalDiag\", batch_shape=[], event_shape=[2], dtype=float32)\n",
            "(2,)\n",
            "tf.Tensor(\n",
            "[[-2.5527053  -0.37686348]\n",
            " [-1.2047702   0.9566108 ]\n",
            " [-2.666495    1.5396085 ]], shape=(3, 2), dtype=float32)\n",
            "tf.Tensor(-2.9388978, shape=(), dtype=float32)\n"
          ]
        }
      ]
    },
    {
      "cell_type": "code",
      "metadata": {
        "id": "Ns1OEyCtJLKs",
        "colab": {
          "base_uri": "https://localhost:8080/"
        },
        "outputId": "27552552-f015-4900-e18f-bd72a8ff5d92"
      },
      "source": [
        "batched_normal = tfd.Normal(loc=[-1., 0.5], scale=[1., 1.5])\n",
        "print(batched_normal)\n",
        "print(batched_normal.sample(3))\n",
        "print(batched_normal.log_prob([-0.2, 1.8]))"
      ],
      "execution_count": null,
      "outputs": [
        {
          "output_type": "stream",
          "name": "stdout",
          "text": [
            "tfp.distributions.Normal(\"Normal\", batch_shape=[2], event_shape=[], dtype=float32)\n",
            "tf.Tensor(\n",
            "[[-1.7114489  -1.2469982 ]\n",
            " [-0.5888289   0.87927115]\n",
            " [-2.4869425   1.2380619 ]], shape=(3, 2), dtype=float32)\n",
            "tf.Tensor([-1.2389386 -1.699959 ], shape=(2,), dtype=float32)\n"
          ]
        }
      ]
    },
    {
      "cell_type": "code",
      "metadata": {
        "id": "2kKZZGuzJLKt",
        "colab": {
          "base_uri": "https://localhost:8080/"
        },
        "outputId": "805a564e-48ba-4b1d-cd00-a67eda523a31"
      },
      "source": [
        "batched_mv_normal = tfd.MultivariateNormalDiag(\n",
        "    loc=[[-1., 0.5], [2., 0.], [-0.5, 1.5]],\n",
        "    scale_diag=[[1., 1.5], [2., 0.5], [1., 1.]])\n",
        "print(batched_mv_normal)\n",
        "print(batched_mv_normal.sample(2))"
      ],
      "execution_count": null,
      "outputs": [
        {
          "output_type": "stream",
          "name": "stdout",
          "text": [
            "tfp.distributions.MultivariateNormalDiag(\"MultivariateNormalDiag\", batch_shape=[3], event_shape=[2], dtype=float32)\n",
            "tf.Tensor(\n",
            "[[[-2.0040107   0.07609653]\n",
            "  [ 5.974818   -0.6994035 ]\n",
            "  [ 0.05347824  0.63103175]]\n",
            "\n",
            " [[-2.4489522   1.3019043 ]\n",
            "  [ 0.95407605 -0.7685489 ]\n",
            "  [-0.8493643   2.0287406 ]]], shape=(2, 3, 2), dtype=float32)\n"
          ]
        }
      ]
    },
    {
      "cell_type": "code",
      "source": [
        "import tensorflow as tf\n",
        "import tensorflow_probability as tfp\n",
        "tfd = tfp.distributions\n",
        "\n",
        "batched_mv_normal = tfd.MultivariateNormalDiag(\n",
        "    loc=[[0.3, 0.8, 1.1], [2.3, -0.3, -1.]],\n",
        "    scale_diag=[[1.5, 1., 0.4], [2.5, 1.5, 0.5]])\n",
        "print(batched_mv_normal)\n",
        "print(batched_mv_normal.log_prob([0., -1., 1.]))"
      ],
      "metadata": {
        "id": "9qSOZ_s8823I",
        "outputId": "84a477c9-b897-4290-fcca-0a118a5fd741",
        "colab": {
          "base_uri": "https://localhost:8080/"
        }
      },
      "execution_count": null,
      "outputs": [
        {
          "output_type": "stream",
          "name": "stdout",
          "text": [
            "tfp.distributions.MultivariateNormalDiag(\"MultivariateNormalDiag\", batch_shape=[2], event_shape=[3], dtype=float32)\n",
            "tf.Tensor([ -3.9172401 -11.917513 ], shape=(2,), dtype=float32)\n"
          ]
        }
      ]
    },
    {
      "cell_type": "markdown",
      "metadata": {
        "id": "RtmUT-aiJLKt"
      },
      "source": [
        "#### Basic multivariate distributions"
      ]
    },
    {
      "cell_type": "code",
      "metadata": {
        "id": "Wx17KA4RJLKt",
        "colab": {
          "base_uri": "https://localhost:8080/"
        },
        "outputId": "364b0d9b-541f-4359-fb0e-88bd5c819ff0"
      },
      "source": [
        "# Define 2D multivariate Gaussian with diagonal covariance matrix\n",
        "\n",
        "normal_diag = tfd.MultivariateNormalDiag(\n",
        "    loc=[0, 1], scale_diag=[1, 2])\n",
        "normal_diag"
      ],
      "execution_count": null,
      "outputs": [
        {
          "output_type": "execute_result",
          "data": {
            "text/plain": [
              "<tfp.distributions.MultivariateNormalDiag 'MultivariateNormalDiag' batch_shape=[] event_shape=[2] dtype=float32>"
            ]
          },
          "metadata": {},
          "execution_count": 5
        }
      ]
    },
    {
      "cell_type": "code",
      "metadata": {
        "id": "ohd8UT8bJLKt",
        "colab": {
          "base_uri": "https://localhost:8080/"
        },
        "outputId": "b95c67b3-2238-48c3-8501-ad511df4947f"
      },
      "source": [
        "# Sample from it\n",
        "\n",
        "normal_diag.sample(10)"
      ],
      "execution_count": null,
      "outputs": [
        {
          "output_type": "execute_result",
          "data": {
            "text/plain": [
              "<tf.Tensor: shape=(10, 2), dtype=float32, numpy=\n",
              "array([[-0.30583796,  2.373655  ],\n",
              "       [ 0.1505477 , -1.0007048 ],\n",
              "       [ 0.3320727 , -1.0498343 ],\n",
              "       [-0.29854062,  4.028576  ],\n",
              "       [ 0.5110671 , -0.14100456],\n",
              "       [-1.5528204 ,  2.3301203 ],\n",
              "       [ 0.3162822 ,  0.06013983],\n",
              "       [-0.81161356,  3.261205  ],\n",
              "       [ 0.10818883,  1.7148066 ],\n",
              "       [-0.32564807, -1.331557  ]], dtype=float32)>"
            ]
          },
          "metadata": {},
          "execution_count": 6
        }
      ]
    },
    {
      "cell_type": "code",
      "metadata": {
        "id": "y0LGjSIpJLKt",
        "colab": {
          "base_uri": "https://localhost:8080/",
          "height": 268
        },
        "outputId": "5f3aa490-927f-49ec-d8ed-5a72117dd2d7"
      },
      "source": [
        "# Make a plot\n",
        "\n",
        "plt_sample = normal_diag.sample(10000)\n",
        "plt.scatter(plt_sample[:, 0], plt_sample[:, 1], marker='.', alpha=0.05)\n",
        "plt.axis('equal')\n",
        "plt.show()"
      ],
      "execution_count": null,
      "outputs": [
        {
          "output_type": "display_data",
          "data": {
            "image/png": "[encoded data removed]",
            "text/plain": [
              "<Figure size 432x288 with 1 Axes>"
            ]
          },
          "metadata": {
            "image/png": {
              "width": 385,
              "height": 251
            }
          }
        }
      ]
    },
    {
      "cell_type": "code",
      "metadata": {
        "id": "JE26RDwoJLKt",
        "colab": {
          "base_uri": "https://localhost:8080/",
          "height": 268
        },
        "outputId": "b65a65a4-56f4-4211-a2d0-99837e5c6d97"
      },
      "source": [
        "normal_diag = tfd.MultivariateNormalDiag(\n",
        "    loc=[0, 1], scale_diag=[1, 20])\n",
        "plt_sample = normal_diag.sample(10000)\n",
        "plt.scatter(plt_sample[:, 0], plt_sample[:, 1], marker='.', alpha=0.05)\n",
        "plt.axis('equal')\n",
        "plt.show()"
      ],
      "execution_count": null,
      "outputs": [
        {
          "output_type": "display_data",
          "data": {
            "image/png": "[encoded data removed]",
            "text/plain": [
              "<Figure size 432x288 with 1 Axes>"
            ]
          },
          "metadata": {
            "image/png": {
              "width": 381,
              "height": 251
            }
          }
        }
      ]
    },
    {
      "cell_type": "markdown",
      "metadata": {
        "id": "dgR0w3M1JLKt"
      },
      "source": [
        "#### Batches of multivariate distributions"
      ]
    },
    {
      "cell_type": "code",
      "metadata": {
        "id": "KXIyKemKJLKt",
        "colab": {
          "base_uri": "https://localhost:8080/"
        },
        "outputId": "a943ad61-7ed0-4a63-f6c0-ae62a1e8e75d"
      },
      "source": [
        "# Create three \"batches\" of multivariate normals\n",
        "\n",
        "normal_diag_batch = tfd.MultivariateNormalDiag(\n",
        "    loc=[[0, 0], [0, 0], [0, 0]],\n",
        "    scale_diag=[[1, 2], [2, 1], [2, 2]])\n",
        "normal_diag_batch"
      ],
      "execution_count": null,
      "outputs": [
        {
          "output_type": "execute_result",
          "data": {
            "text/plain": [
              "<tfp.distributions.MultivariateNormalDiag 'MultivariateNormalDiag' batch_shape=[3] event_shape=[2] dtype=float32>"
            ]
          },
          "metadata": {},
          "execution_count": 17
        }
      ]
    },
    {
      "cell_type": "code",
      "metadata": {
        "id": "tgvfW-WhJLKt",
        "colab": {
          "base_uri": "https://localhost:8080/"
        },
        "outputId": "2ac784c0-bd85-4e77-8e5d-39dc69a25224"
      },
      "source": [
        "# Sample from it\n",
        "\n",
        "samples = normal_diag_batch.sample(5)\n",
        "samples"
      ],
      "execution_count": null,
      "outputs": [
        {
          "output_type": "execute_result",
          "data": {
            "text/plain": [
              "<tf.Tensor: shape=(5, 3, 2), dtype=float32, numpy=\n",
              "array([[[-0.25055045,  3.20367   ],\n",
              "        [-0.16129418,  1.6900092 ],\n",
              "        [ 1.3925455 ,  0.8765621 ]],\n",
              "\n",
              "       [[-0.02178756,  1.4314214 ],\n",
              "        [-1.6163409 ,  1.4445796 ],\n",
              "        [ 0.6375263 , -0.30178973]],\n",
              "\n",
              "       [[-1.0427645 , -0.7854517 ],\n",
              "        [-2.2349977 , -0.5531866 ],\n",
              "        [ 2.1859207 ,  1.9198587 ]],\n",
              "\n",
              "       [[-1.836093  ,  3.6875417 ],\n",
              "        [ 2.9774365 , -0.3327268 ],\n",
              "        [ 3.6215873 ,  2.954134  ]],\n",
              "\n",
              "       [[-0.8985954 , -3.751107  ],\n",
              "        [ 1.9368321 , -0.7125852 ],\n",
              "        [ 0.73187786,  3.1459255 ]]], dtype=float32)>"
            ]
          },
          "metadata": {},
          "execution_count": 18
        }
      ]
    },
    {
      "cell_type": "code",
      "metadata": {
        "id": "7VAHptl9JLKt",
        "colab": {
          "base_uri": "https://localhost:8080/"
        },
        "outputId": "67662b1f-c721-4e62-e72c-491c363c19c6"
      },
      "source": [
        "# Compute log probs\n",
        "\n",
        "normal_diag_batch.log_prob(samples)"
      ],
      "execution_count": null,
      "outputs": [
        {
          "output_type": "execute_result",
          "data": {
            "text/plain": [
              "<tf.Tensor: shape=(5, 3), dtype=float32, numpy=\n",
              "array([[-3.8453496, -3.9623418, -3.5626144],\n",
              "       [-2.7873826, -3.900999 , -3.286361 ],\n",
              "       [-3.15182  , -3.308434 , -4.2821846],\n",
              "       [-5.916388 , -3.6945188, -5.9545217],\n",
              "       [-4.6936116, -3.253828 , -4.528233 ]], dtype=float32)>"
            ]
          },
          "metadata": {},
          "execution_count": 19
        }
      ]
    },
    {
      "cell_type": "code",
      "metadata": {
        "id": "hZD0qvQAJLKt",
        "colab": {
          "base_uri": "https://localhost:8080/"
        },
        "outputId": "16048bf2-c314-4206-88fd-0e4de20af118"
      },
      "source": [
        "# Create a sample for a plot -- notice the shape\n",
        "\n",
        "plt_sample_batch =normal_diag_batch.sample(10000)\n",
        "plt_sample_batch.shape"
      ],
      "execution_count": null,
      "outputs": [
        {
          "output_type": "execute_result",
          "data": {
            "text/plain": [
              "TensorShape([10000, 3, 2])"
            ]
          },
          "metadata": {},
          "execution_count": 20
        }
      ]
    },
    {
      "cell_type": "code",
      "metadata": {
        "id": "pLfbrjV7JLKt",
        "colab": {
          "base_uri": "https://localhost:8080/",
          "height": 229
        },
        "outputId": "0296cabf-4690-4e7f-fb31-a490f9f1b2db"
      },
      "source": [
        "# Plot samples from the batched multivariate Gaussian\n",
        "\n",
        "fig, axs = (plt.subplots(1, 3, sharex=True, sharey=True, figsize=(10, 3)))\n",
        "titles = ['cov_diag=[1, 2]', 'cov_diag=[2, 1]', 'cov_diag=[2, 2]']\n",
        "\n",
        "for i, (ax, title) in enumerate(zip(axs, titles)):\n",
        "    samples = plt_sample_batch[:, i, :] # take the ith batch [samples x event_shape]\n",
        "    ax.scatter(samples[:, 0], samples[:, 1], marker='.', alpha=0.05)\n",
        "    ax.set_title(title)\n",
        "plt.show()"
      ],
      "execution_count": null,
      "outputs": [
        {
          "output_type": "display_data",
          "data": {
            "image/png": "[encoded data removed]",
            "text/plain": [
              "<Figure size 720x216 with 3 Axes>"
            ]
          },
          "metadata": {
            "image/png": {
              "width": 608,
              "height": 212
            }
          }
        }
      ]
    },
    {
      "cell_type": "markdown",
      "metadata": {
        "id": "XFiLf_F6JLKu"
      },
      "source": [
        "\n",
        "\n",
        "***\n",
        "<a id='the_independent_distribution'></a>\n",
        "## The Independent Distribution"
      ]
    },
    {
      "cell_type": "code",
      "metadata": {
        "id": "0f0S6VwuJLKu",
        "colab": {
          "base_uri": "https://localhost:8080/"
        },
        "outputId": "c0dfd21d-e1f0-40a9-b60b-37eda3d54b8e"
      },
      "source": [
        "import tensorflow as tf\n",
        "import tensorflow_probability as tfp\n",
        "tfd = tfp.distributions\n",
        "\n",
        "mv_normal = tfd.MultivariateNormalDiag(\n",
        "    loc=[-1., 0.5], scale_diag=[1., 1.5])\n",
        "print(mv_normal)\n",
        "print(mv_normal.log_prob([-0.2, 1.8]))"
      ],
      "execution_count": 3,
      "outputs": [
        {
          "output_type": "stream",
          "name": "stdout",
          "text": [
            "tfp.distributions.MultivariateNormalDiag(\"MultivariateNormalDiag\", batch_shape=[], event_shape=[2], dtype=float32)\n",
            "tf.Tensor(-2.9388978, shape=(), dtype=float32)\n"
          ]
        }
      ]
    },
    {
      "cell_type": "code",
      "metadata": {
        "id": "nQlSsGDuJLKu",
        "colab": {
          "base_uri": "https://localhost:8080/"
        },
        "outputId": "e3dd262e-b77b-4349-d99c-236d43b4c6f1"
      },
      "source": [
        "batched_normal = tfd.Normal(\n",
        "    loc=[-1., 0.5], scale=[1., 1.5])\n",
        "print(batched_normal)\n",
        "print(batched_normal.log_prob([-0.2, 1.8]))"
      ],
      "execution_count": 4,
      "outputs": [
        {
          "output_type": "stream",
          "name": "stdout",
          "text": [
            "tfp.distributions.Normal(\"Normal\", batch_shape=[2], event_shape=[], dtype=float32)\n",
            "tf.Tensor([-1.2389386 -1.699959 ], shape=(2,), dtype=float32)\n"
          ]
        }
      ]
    },
    {
      "cell_type": "code",
      "metadata": {
        "id": "fwV0oMBYJLKu",
        "colab": {
          "base_uri": "https://localhost:8080/"
        },
        "outputId": "fa8897a0-02a5-40f0-da70-57aa01acb36d"
      },
      "source": [
        "batched_normal = tfd.Normal(loc=[-1., 0.5], scale=[1., 1.5])\n",
        "\n",
        "independent_normal = tfd.Independent(batched_normal, \n",
        "    reinterpreted_batch_ndims=1)\n",
        "print(independent_normal)\n",
        "print(independent_normal.log_prob([-0.2, 1.8]))"
      ],
      "execution_count": 5,
      "outputs": [
        {
          "output_type": "stream",
          "name": "stdout",
          "text": [
            "tfp.distributions.Independent(\"IndependentNormal\", batch_shape=[], event_shape=[2], dtype=float32)\n",
            "tf.Tensor(-2.9388976, shape=(), dtype=float32)\n"
          ]
        }
      ]
    },
    {
      "cell_type": "code",
      "metadata": {
        "id": "wwHzPjQPJLKu",
        "colab": {
          "base_uri": "https://localhost:8080/"
        },
        "outputId": "4ac99781-a0cb-440a-a304-4a78ce469bd5"
      },
      "source": [
        "batched_normal = tfd.Normal(\n",
        "    loc=[[-1., 0.5], [0., 1.], [0.3, -0.1]],\n",
        "    scale=[[1., 1.5], [0.2, 0.8], [2., 1.]])\n",
        "print(batched_normal)\n",
        "\n",
        "independent_normal = tfd.Independent(batched_normal, \n",
        "    reinterpreted_batch_ndims=1)\n",
        "print(independent_normal)"
      ],
      "execution_count": 6,
      "outputs": [
        {
          "output_type": "stream",
          "name": "stdout",
          "text": [
            "tfp.distributions.Normal(\"Normal\", batch_shape=[3, 2], event_shape=[], dtype=float32)\n",
            "tfp.distributions.Independent(\"IndependentNormal\", batch_shape=[3], event_shape=[2], dtype=float32)\n"
          ]
        }
      ]
    },
    {
      "cell_type": "code",
      "source": [
        "independent_normal = tfd.Independent(batched_normal, \n",
        "    reinterpreted_batch_ndims=2)\n",
        "print(independent_normal)"
      ],
      "metadata": {
        "colab": {
          "base_uri": "https://localhost:8080/"
        },
        "id": "4uumISd-KgG_",
        "outputId": "1a1c3cb7-bc9d-4818-cc0e-9a48b0cf38f7"
      },
      "execution_count": 7,
      "outputs": [
        {
          "output_type": "stream",
          "name": "stdout",
          "text": [
            "tfp.distributions.Independent(\"IndependentNormal\", batch_shape=[], event_shape=[3, 2], dtype=float32)\n"
          ]
        }
      ]
    },
    {
      "cell_type": "code",
      "source": [
        "import tensorflow_probability as tfp\n",
        "tfd = tfp.distributions\n",
        "\n",
        "probs = 0.5 * tf.ones((2, 4, 5))\n",
        "print(probs.shape)\n",
        "dist = tfd.Independent(tfd.Bernoulli(probs=probs))\n",
        "dist.log_prob(np.zeros((4, 5)))"
      ],
      "metadata": {
        "colab": {
          "base_uri": "https://localhost:8080/"
        },
        "id": "GUOiBj8zK24d",
        "outputId": "b57e3bce-3cc4-49cf-e7ec-68fdf1eb28c7"
      },
      "execution_count": 10,
      "outputs": [
        {
          "output_type": "stream",
          "name": "stdout",
          "text": [
            "(2, 4, 5)\n"
          ]
        },
        {
          "output_type": "execute_result",
          "data": {
            "text/plain": [
              "<tf.Tensor: shape=(2,), dtype=float32, numpy=array([-13.862944, -13.862944], dtype=float32)>"
            ]
          },
          "metadata": {},
          "execution_count": 10
        }
      ]
    },
    {
      "cell_type": "code",
      "metadata": {
        "id": "3-3-NQsgJLKu"
      },
      "source": [
        "# Start by defining a batch of two univariate Gaussians, then\n",
        "# combine them into a bivariate Gaussian with independent components\n",
        "\n",
        "locs = [-1., 1]\n",
        "scales = [0.5, 1.]\n",
        "batch_of_normals = tfd.Normal(loc=locs, scale=scales)"
      ],
      "execution_count": null,
      "outputs": []
    },
    {
      "cell_type": "code",
      "metadata": {
        "id": "N49F__eJJLKu",
        "colab": {
          "base_uri": "https://localhost:8080/",
          "height": 368
        },
        "outputId": "b42fff5f-3297-4b36-ded0-afc5b6da6f49"
      },
      "source": [
        "# Univariate density functions\n",
        "\n",
        "import seaborn as sns\n",
        "\n",
        "t = np.linspace(-4, 4, 10000)\n",
        "# each column is a vector of densities for one distn\n",
        "densities = batch_of_normals.prob(np.repeat(t[:, np.newaxis], 2, axis=1))\n",
        "\n",
        "sns.lineplot(t, densities[:, 0], label='loc={}, scale={}'.format(locs[0], scales[0]))\n",
        "sns.lineplot(t, densities[:, 1], label='loc={}, scale={}'.format(locs[1], scales[1]))\n",
        "plt.ylabel('Probability density')\n",
        "plt.xlabel('Value')\n",
        "plt.legend()\n",
        "plt.show()"
      ],
      "execution_count": null,
      "outputs": [
        {
          "output_type": "stream",
          "text": [
            "/usr/local/lib/python3.6/dist-packages/seaborn/_decorators.py:43: FutureWarning: Pass the following variables as keyword args: x, y. From version 0.12, the only valid positional argument will be `data`, and passing other arguments without an explicit keyword will result in an error or misinterpretation.\n",
            "  FutureWarning\n",
            "/usr/local/lib/python3.6/dist-packages/seaborn/_decorators.py:43: FutureWarning: Pass the following variables as keyword args: x, y. From version 0.12, the only valid positional argument will be `data`, and passing other arguments without an explicit keyword will result in an error or misinterpretation.\n",
            "  FutureWarning\n"
          ],
          "name": "stderr"
        },
        {
          "output_type": "display_data",
          "data": {
            "image/png": "[encoded data removed]",
            "text/plain": [
              "<Figure size 432x288 with 1 Axes>"
            ]
          },
          "metadata": {
            "tags": [],
            "needs_background": "light"
          }
        }
      ]
    },
    {
      "cell_type": "code",
      "metadata": {
        "id": "zcg_x2w-JLKu",
        "colab": {
          "base_uri": "https://localhost:8080/"
        },
        "outputId": "600a78eb-9a41-4d1e-e0d5-b28112af51b2"
      },
      "source": [
        "# Check their batch_shape and event_shape\n",
        "\n",
        "batch_of_normals"
      ],
      "execution_count": null,
      "outputs": [
        {
          "output_type": "execute_result",
          "data": {
            "text/plain": [
              "<tfp.distributions.Normal 'Normal' batch_shape=[2] event_shape=[] dtype=float32>"
            ]
          },
          "metadata": {
            "tags": []
          },
          "execution_count": 41
        }
      ]
    },
    {
      "cell_type": "code",
      "metadata": {
        "id": "XH3S__mNJLKv"
      },
      "source": [
        "# Use Independent to convert the batch shape to the event shape\n",
        "\n",
        "bivariate_normal_from_Independent = tfd.Independent(batch_of_normals,\n",
        "    reinterpreted_batch_ndims=1)"
      ],
      "execution_count": null,
      "outputs": []
    },
    {
      "cell_type": "code",
      "metadata": {
        "id": "bPeQQqwbJLKv",
        "colab": {
          "base_uri": "https://localhost:8080/"
        },
        "outputId": "0b8e3fdb-8745-413e-910c-92f91d322367"
      },
      "source": [
        "# Note that dimension from batch_shape has shifted to event_shape\n",
        "\n",
        "bivariate_normal_from_Independent"
      ],
      "execution_count": null,
      "outputs": [
        {
          "output_type": "execute_result",
          "data": {
            "text/plain": [
              "<tfp.distributions.Independent 'IndependentNormal' batch_shape=[] event_shape=[2] dtype=float32>"
            ]
          },
          "metadata": {
            "tags": []
          },
          "execution_count": 43
        }
      ]
    },
    {
      "cell_type": "code",
      "metadata": {
        "id": "N8gc6_e6JLKv",
        "colab": {
          "base_uri": "https://localhost:8080/",
          "height": 496
        },
        "outputId": "2cc4763e-9085-40f8-a231-9978cadaf0ce"
      },
      "source": [
        "# Create a plot showing joint density contours and marginal density functions\n",
        "\n",
        "samples = bivariate_normal_from_Independent.sample(10000)\n",
        "x1 = samples[:, 0]\n",
        "x2 = samples[:, 1]\n",
        "sns.jointplot(x1, x2, kind=\"kde\", space=0, color='b', xlim=[-4, 4], ylim=[-4, 4])\n",
        "plt.show()"
      ],
      "execution_count": null,
      "outputs": [
        {
          "output_type": "stream",
          "text": [
            "/usr/local/lib/python3.6/dist-packages/seaborn/_decorators.py:43: FutureWarning: Pass the following variables as keyword args: x, y. From version 0.12, the only valid positional argument will be `data`, and passing other arguments without an explicit keyword will result in an error or misinterpretation.\n",
            "  FutureWarning\n"
          ],
          "name": "stderr"
        },
        {
          "output_type": "display_data",
          "data": {
            "image/png": "[encoded data removed]",
            "text/plain": [
              "<Figure size 432x432 with 3 Axes>"
            ]
          },
          "metadata": {
            "tags": [],
            "needs_background": "light"
          }
        }
      ]
    },
    {
      "cell_type": "code",
      "metadata": {
        "id": "0E-JyYGqJLKv",
        "colab": {
          "base_uri": "https://localhost:8080/"
        },
        "outputId": "0225521e-677d-451f-c425-5cde87c3c0d3"
      },
      "source": [
        "# Use MultivariateNormalDiag to create the equivalent distribution\n",
        "# Note that diagonal covariance matrix => no correlation => independence (for the multivariate normal distribution)\n",
        "\n",
        "bivariate_normal_from_Multivariate = tfd.MultivariateNormalDiag(\n",
        "    loc=locs, scale_diag=scales)\n",
        "bivariate_normal_from_Multivariate"
      ],
      "execution_count": null,
      "outputs": [
        {
          "output_type": "execute_result",
          "data": {
            "text/plain": [
              "<tfp.distributions.MultivariateNormalDiag 'MultivariateNormalDiag' batch_shape=[] event_shape=[2] dtype=float32>"
            ]
          },
          "metadata": {
            "tags": []
          },
          "execution_count": 45
        }
      ]
    },
    {
      "cell_type": "code",
      "metadata": {
        "id": "QYxc2F5zJLKv",
        "colab": {
          "base_uri": "https://localhost:8080/",
          "height": 496
        },
        "outputId": "28ef7578-96b0-4a6a-89f5-b553dd342fdb"
      },
      "source": [
        "# Plot the joint density function of bivariate_normal_from_Multivariate\n",
        "# Refer back to bivariate_normal_from_Independent to show that the plot is the same\n",
        "# Summarise how Independent has been used\n",
        "\n",
        "samples = bivariate_normal_from_Multivariate.sample(10000)\n",
        "x1 = samples[:, 0]\n",
        "x2 = samples[:, 1]\n",
        "sns.jointplot(x1, x2, kind=\"kde\", space=0, color='b', xlim=[-4, 4], ylim=[-4, 4])\n",
        "plt.show()"
      ],
      "execution_count": null,
      "outputs": [
        {
          "output_type": "stream",
          "text": [
            "/usr/local/lib/python3.6/dist-packages/seaborn/_decorators.py:43: FutureWarning: Pass the following variables as keyword args: x, y. From version 0.12, the only valid positional argument will be `data`, and passing other arguments without an explicit keyword will result in an error or misinterpretation.\n",
            "  FutureWarning\n"
          ],
          "name": "stderr"
        },
        {
          "output_type": "display_data",
          "data": {
            "image/png": "[encoded data removed]",
            "text/plain": [
              "<Figure size 432x432 with 3 Axes>"
            ]
          },
          "metadata": {
            "tags": [],
            "needs_background": "light"
          }
        }
      ]
    },
    {
      "cell_type": "markdown",
      "metadata": {
        "id": "hpYsXt25JLKv"
      },
      "source": [
        "#### Shifting batch dimensions to event dimensions using \n",
        "`reinterpreted_batch_ndims`"
      ]
    },
    {
      "cell_type": "code",
      "metadata": {
        "id": "jxK0I0IJJLKv"
      },
      "source": [
        "# Demonstrate use of reinterpreted_batch_ndims\n",
        "# By default all batch dims except the first are transferred to event dims\n",
        "\n",
        "loc_grid = [[-100., -100.],\n",
        "            [100., 100.],\n",
        "            [0., 0.]]\n",
        "scale_grid = [[1., 10.],\n",
        "              [1., 10.],\n",
        "              [1., 1.]]\n",
        "\n",
        "normals_batch_3by2_event_1 = tfd.Normal(loc=loc_grid, scale=scale_grid)"
      ],
      "execution_count": null,
      "outputs": []
    },
    {
      "cell_type": "code",
      "metadata": {
        "id": "rsPqQEsEJLKv",
        "colab": {
          "base_uri": "https://localhost:8080/"
        },
        "outputId": "2104111d-05cd-4f93-a0cf-4a27f4cfc1ed"
      },
      "source": [
        "# Highlight batch_shape\n",
        "\n",
        "normals_batch_3by2_event_1"
      ],
      "execution_count": null,
      "outputs": [
        {
          "output_type": "execute_result",
          "data": {
            "text/plain": [
              "<tfp.distributions.Normal 'Normal' batch_shape=[3, 2] event_shape=[] dtype=float32>"
            ]
          },
          "metadata": {
            "tags": []
          },
          "execution_count": 48
        }
      ]
    },
    {
      "cell_type": "code",
      "metadata": {
        "id": "zu31K4EmJLKw",
        "colab": {
          "base_uri": "https://localhost:8080/"
        },
        "outputId": "f46ebba8-5392-4f2c-b0bb-ea4b53846326"
      },
      "source": [
        "# We now have a batch of 3 bivariate normal distributions,\n",
        "# each parametrised by a column of our original parameter grid\n",
        "\n",
        "normals_batch_3_event_2 = tfd.Independent(normals_batch_3by2_event_1)\n",
        "normals_batch_3_event_2"
      ],
      "execution_count": null,
      "outputs": [
        {
          "output_type": "execute_result",
          "data": {
            "text/plain": [
              "<tfp.distributions.Independent 'IndependentNormal' batch_shape=[3] event_shape=[2] dtype=float32>"
            ]
          },
          "metadata": {
            "tags": []
          },
          "execution_count": 49
        }
      ]
    },
    {
      "cell_type": "code",
      "metadata": {
        "id": "kWNHGimoJLKw",
        "colab": {
          "base_uri": "https://localhost:8080/"
        },
        "outputId": "9ce3a488-b8c5-4b1b-a16c-bd398b628b74"
      },
      "source": [
        "# Evaluate log_prob\n",
        "\n",
        "normals_batch_3_event_2.log_prob(\n",
        "    value=[[-10., 10], [100., 100.], [1., 1.]])"
      ],
      "execution_count": null,
      "outputs": [
        {
          "output_type": "execute_result",
          "data": {
            "text/plain": [
              "<tf.Tensor: shape=(3,), dtype=float32, numpy=array([-4.1146406e+03, -4.1404624e+00, -2.8378770e+00], dtype=float32)>"
            ]
          },
          "metadata": {
            "tags": []
          },
          "execution_count": 50
        }
      ]
    },
    {
      "cell_type": "code",
      "metadata": {
        "id": "o4NIrNCCJLKw",
        "colab": {
          "base_uri": "https://localhost:8080/"
        },
        "outputId": "cd0bea01-c9bd-431a-af32-2bb63a8cf7c5"
      },
      "source": [
        "# Can reinterpret _all_ batch dimensions as event dimensions\n",
        "\n",
        "normals_batch_1_event_3by2 = tfd.Independent(\n",
        "    normals_batch_3by2_event_1, reinterpreted_batch_ndims=2)\n",
        "normals_batch_1_event_3by2"
      ],
      "execution_count": null,
      "outputs": [
        {
          "output_type": "execute_result",
          "data": {
            "text/plain": [
              "<tfp.distributions.Independent 'IndependentNormal' batch_shape=[] event_shape=[3, 2] dtype=float32>"
            ]
          },
          "metadata": {
            "tags": []
          },
          "execution_count": 51
        }
      ]
    },
    {
      "cell_type": "code",
      "metadata": {
        "id": "y-GEWs29JLKw",
        "colab": {
          "base_uri": "https://localhost:8080/"
        },
        "outputId": "86110643-91f3-4b81-ae97-bed897af6389"
      },
      "source": [
        "# Take log_probs \n",
        "\n",
        "normals_batch_1_event_3by2.log_prob(\n",
        "    value=[[-10., 10], [100., 100.], [1., 1.]])"
      ],
      "execution_count": null,
      "outputs": [
        {
          "output_type": "execute_result",
          "data": {
            "text/plain": [
              "<tf.Tensor: shape=(), dtype=float32, numpy=-4121.619>"
            ]
          },
          "metadata": {
            "tags": []
          },
          "execution_count": 52
        }
      ]
    },
    {
      "cell_type": "markdown",
      "metadata": {
        "id": "2f4oTJO6JLKw"
      },
      "source": [
        "#### Using `Independent` to build a Naive Bayes classifier"
      ]
    },
    {
      "cell_type": "markdown",
      "metadata": {
        "id": "seJ_RFmUJLKw"
      },
      "source": [
        "#### Introduction to `newsgroups` data set"
      ]
    },
    {
      "cell_type": "markdown",
      "metadata": {
        "id": "y8VFr04FJLKw"
      },
      "source": [
        "In this tutorial, just load the dataset, fetch train/test splits, probably choose a subset of the data.\n",
        "\n",
        "Construct the class conditional feature distribution (with Independent, using the Naive Bayes assumption) and sample from it.\n",
        "\n",
        "We can just use the ML estimates for parameters, in later tutorials we will learn them."
      ]
    },
    {
      "cell_type": "code",
      "metadata": {
        "id": "5dnZlRsHJLKw"
      },
      "source": [
        "# Convenience function for retrieving the 20 newsgroups data set\n",
        "\n",
        "# Usenet was a forerunner to modern internet forums\n",
        "# Users could post and read articles\n",
        "# Newsgroup corresponded to a topic\n",
        "# Example topics in this data set: IBM computer hardware, baseball\n",
        "# Our objective is to use an article's contents to predict its newsgroup,\n",
        "# a 20-class classification problem.\n",
        "\n",
        "# 18000 newsgroups, posts on 20 topics\n",
        "from sklearn.datasets import fetch_20newsgroups\n",
        "from sklearn.feature_extraction.text import CountVectorizer\n"
      ],
      "execution_count": null,
      "outputs": []
    },
    {
      "cell_type": "code",
      "metadata": {
        "id": "1wc3dMgcJLKw",
        "colab": {
          "base_uri": "https://localhost:8080/"
        },
        "outputId": "8b62b582-0c16-4527-90d8-dfb640f008f8"
      },
      "source": [
        "# Get the train data\n",
        "\n",
        "newsgroups_data = fetch_20newsgroups(data_home='20_Newsgroup_Data/',\n",
        "    subset='train')"
      ],
      "execution_count": null,
      "outputs": [
        {
          "output_type": "stream",
          "text": [
            "Downloading 20news dataset. This may take a few minutes.\n",
            "Downloading dataset from https://ndownloader.figshare.com/files/5975967 (14 MB)\n"
          ],
          "name": "stderr"
        }
      ]
    },
    {
      "cell_type": "code",
      "metadata": {
        "id": "fVa9dFbKJLKw",
        "colab": {
          "base_uri": "https://localhost:8080/"
        },
        "outputId": "0aad762a-e0d5-4dc6-ea45-0084f2938d94"
      },
      "source": [
        "# More information about the data set\n",
        "\n",
        "print(newsgroups_data['DESCR'])"
      ],
      "execution_count": null,
      "outputs": [
        {
          "output_type": "stream",
          "text": [
            ".. _20newsgroups_dataset:\n",
            "\n",
            "The 20 newsgroups text dataset\n",
            "------------------------------\n",
            "\n",
            "The 20 newsgroups dataset comprises around 18000 newsgroups posts on\n",
            "20 topics split in two subsets: one for training (or development)\n",
            "and the other one for testing (or for performance evaluation). The split\n",
            "between the train and test set is based upon a messages posted before\n",
            "and after a specific date.\n",
            "\n",
            "This module contains two loaders. The first one,\n",
            ":func:`sklearn.datasets.fetch_20newsgroups`,\n",
            "returns a list of the raw texts that can be fed to text feature\n",
            "extractors such as :class:`sklearn.feature_extraction.text.CountVectorizer`\n",
            "with custom parameters so as to extract feature vectors.\n",
            "The second one, :func:`sklearn.datasets.fetch_20newsgroups_vectorized`,\n",
            "returns ready-to-use features, i.e., it is not necessary to use a feature\n",
            "extractor.\n",
            "\n",
            "**Data Set Characteristics:**\n",
            "\n",
            "    =================   ==========\n",
            "    Classes                     20\n",
            "    Samples total            18846\n",
            "    Dimensionality               1\n",
            "    Features                  text\n",
            "    =================   ==========\n",
            "\n",
            "Usage\n",
            "~~~~~\n",
            "\n",
            "The :func:`sklearn.datasets.fetch_20newsgroups` function is a data\n",
            "fetching / caching functions that downloads the data archive from\n",
            "the original `20 newsgroups website`_, extracts the archive contents\n",
            "in the ``~/scikit_learn_data/20news_home`` folder and calls the\n",
            ":func:`sklearn.datasets.load_files` on either the training or\n",
            "testing set folder, or both of them::\n",
            "\n",
            "  >>> from sklearn.datasets import fetch_20newsgroups\n",
            "  >>> newsgroups_train = fetch_20newsgroups(subset='train')\n",
            "\n",
            "  >>> from pprint import pprint\n",
            "  >>> pprint(list(newsgroups_train.target_names))\n",
            "  ['alt.atheism',\n",
            "   'comp.graphics',\n",
            "   'comp.os.ms-windows.misc',\n",
            "   'comp.sys.ibm.pc.hardware',\n",
            "   'comp.sys.mac.hardware',\n",
            "   'comp.windows.x',\n",
            "   'misc.forsale',\n",
            "   'rec.autos',\n",
            "   'rec.motorcycles',\n",
            "   'rec.sport.baseball',\n",
            "   'rec.sport.hockey',\n",
            "   'sci.crypt',\n",
            "   'sci.electronics',\n",
            "   'sci.med',\n",
            "   'sci.space',\n",
            "   'soc.religion.christian',\n",
            "   'talk.politics.guns',\n",
            "   'talk.politics.mideast',\n",
            "   'talk.politics.misc',\n",
            "   'talk.religion.misc']\n",
            "\n",
            "The real data lies in the ``filenames`` and ``target`` attributes. The target\n",
            "attribute is the integer index of the category::\n",
            "\n",
            "  >>> newsgroups_train.filenames.shape\n",
            "  (11314,)\n",
            "  >>> newsgroups_train.target.shape\n",
            "  (11314,)\n",
            "  >>> newsgroups_train.target[:10]\n",
            "  array([ 7,  4,  4,  1, 14, 16, 13,  3,  2,  4])\n",
            "\n",
            "It is possible to load only a sub-selection of the categories by passing the\n",
            "list of the categories to load to the\n",
            ":func:`sklearn.datasets.fetch_20newsgroups` function::\n",
            "\n",
            "  >>> cats = ['alt.atheism', 'sci.space']\n",
            "  >>> newsgroups_train = fetch_20newsgroups(subset='train', categories=cats)\n",
            "\n",
            "  >>> list(newsgroups_train.target_names)\n",
            "  ['alt.atheism', 'sci.space']\n",
            "  >>> newsgroups_train.filenames.shape\n",
            "  (1073,)\n",
            "  >>> newsgroups_train.target.shape\n",
            "  (1073,)\n",
            "  >>> newsgroups_train.target[:10]\n",
            "  array([0, 1, 1, 1, 0, 1, 1, 0, 0, 0])\n",
            "\n",
            "Converting text to vectors\n",
            "~~~~~~~~~~~~~~~~~~~~~~~~~~\n",
            "\n",
            "In order to feed predictive or clustering models with the text data,\n",
            "one first need to turn the text into vectors of numerical values suitable\n",
            "for statistical analysis. This can be achieved with the utilities of the\n",
            "``sklearn.feature_extraction.text`` as demonstrated in the following\n",
            "example that extract `TF-IDF`_ vectors of unigram tokens\n",
            "from a subset of 20news::\n",
            "\n",
            "  >>> from sklearn.feature_extraction.text import TfidfVectorizer\n",
            "  >>> categories = ['alt.atheism', 'talk.religion.misc',\n",
            "  ...               'comp.graphics', 'sci.space']\n",
            "  >>> newsgroups_train = fetch_20newsgroups(subset='train',\n",
            "  ...                                       categories=categories)\n",
            "  >>> vectorizer = TfidfVectorizer()\n",
            "  >>> vectors = vectorizer.fit_transform(newsgroups_train.data)\n",
            "  >>> vectors.shape\n",
            "  (2034, 34118)\n",
            "\n",
            "The extracted TF-IDF vectors are very sparse, with an average of 159 non-zero\n",
            "components by sample in a more than 30000-dimensional space\n",
            "(less than .5% non-zero features)::\n",
            "\n",
            "  >>> vectors.nnz / float(vectors.shape[0])\n",
            "  159.01327...\n",
            "\n",
            ":func:`sklearn.datasets.fetch_20newsgroups_vectorized` is a function which \n",
            "returns ready-to-use token counts features instead of file names.\n",
            "\n",
            ".. _`20 newsgroups website`: http://people.csail.mit.edu/jrennie/20Newsgroups/\n",
            ".. _`TF-IDF`: https://en.wikipedia.org/wiki/Tf-idf\n",
            "\n",
            "\n",
            "Filtering text for more realistic training\n",
            "~~~~~~~~~~~~~~~~~~~~~~~~~~~~~~~~~~~~~~~~~~\n",
            "\n",
            "It is easy for a classifier to overfit on particular things that appear in the\n",
            "20 Newsgroups data, such as newsgroup headers. Many classifiers achieve very\n",
            "high F-scores, but their results would not generalize to other documents that\n",
            "aren't from this window of time.\n",
            "\n",
            "For example, let's look at the results of a multinomial Naive Bayes classifier,\n",
            "which is fast to train and achieves a decent F-score::\n",
            "\n",
            "  >>> from sklearn.naive_bayes import MultinomialNB\n",
            "  >>> from sklearn import metrics\n",
            "  >>> newsgroups_test = fetch_20newsgroups(subset='test',\n",
            "  ...                                      categories=categories)\n",
            "  >>> vectors_test = vectorizer.transform(newsgroups_test.data)\n",
            "  >>> clf = MultinomialNB(alpha=.01)\n",
            "  >>> clf.fit(vectors, newsgroups_train.target)\n",
            "  MultinomialNB(alpha=0.01, class_prior=None, fit_prior=True)\n",
            "\n",
            "  >>> pred = clf.predict(vectors_test)\n",
            "  >>> metrics.f1_score(newsgroups_test.target, pred, average='macro')\n",
            "  0.88213...\n",
            "\n",
            "(The example :ref:`sphx_glr_auto_examples_text_plot_document_classification_20newsgroups.py` shuffles\n",
            "the training and test data, instead of segmenting by time, and in that case\n",
            "multinomial Naive Bayes gets a much higher F-score of 0.88. Are you suspicious\n",
            "yet of what's going on inside this classifier?)\n",
            "\n",
            "Let's take a look at what the most informative features are:\n",
            "\n",
            "  >>> import numpy as np\n",
            "  >>> def show_top10(classifier, vectorizer, categories):\n",
            "  ...     feature_names = np.asarray(vectorizer.get_feature_names())\n",
            "  ...     for i, category in enumerate(categories):\n",
            "  ...         top10 = np.argsort(classifier.coef_[i])[-10:]\n",
            "  ...         print(\"%s: %s\" % (category, \" \".join(feature_names[top10])))\n",
            "  ...\n",
            "  >>> show_top10(clf, vectorizer, newsgroups_train.target_names)\n",
            "  alt.atheism: edu it and in you that is of to the\n",
            "  comp.graphics: edu in graphics it is for and of to the\n",
            "  sci.space: edu it that is in and space to of the\n",
            "  talk.religion.misc: not it you in is that and to of the\n",
            "\n",
            "\n",
            "You can now see many things that these features have overfit to:\n",
            "\n",
            "- Almost every group is distinguished by whether headers such as\n",
            "  ``NNTP-Posting-Host:`` and ``Distribution:`` appear more or less often.\n",
            "- Another significant feature involves whether the sender is affiliated with\n",
            "  a university, as indicated either by their headers or their signature.\n",
            "- The word \"article\" is a significant feature, based on how often people quote\n",
            "  previous posts like this: \"In article [article ID], [name] <[e-mail address]>\n",
            "  wrote:\"\n",
            "- Other features match the names and e-mail addresses of particular people who\n",
            "  were posting at the time.\n",
            "\n",
            "With such an abundance of clues that distinguish newsgroups, the classifiers\n",
            "barely have to identify topics from text at all, and they all perform at the\n",
            "same high level.\n",
            "\n",
            "For this reason, the functions that load 20 Newsgroups data provide a\n",
            "parameter called **remove**, telling it what kinds of information to strip out\n",
            "of each file. **remove** should be a tuple containing any subset of\n",
            "``('headers', 'footers', 'quotes')``, telling it to remove headers, signature\n",
            "blocks, and quotation blocks respectively.\n",
            "\n",
            "  >>> newsgroups_test = fetch_20newsgroups(subset='test',\n",
            "  ...                                      remove=('headers', 'footers', 'quotes'),\n",
            "  ...                                      categories=categories)\n",
            "  >>> vectors_test = vectorizer.transform(newsgroups_test.data)\n",
            "  >>> pred = clf.predict(vectors_test)\n",
            "  >>> metrics.f1_score(pred, newsgroups_test.target, average='macro')\n",
            "  0.77310...\n",
            "\n",
            "This classifier lost over a lot of its F-score, just because we removed\n",
            "metadata that has little to do with topic classification.\n",
            "It loses even more if we also strip this metadata from the training data:\n",
            "\n",
            "  >>> newsgroups_train = fetch_20newsgroups(subset='train',\n",
            "  ...                                       remove=('headers', 'footers', 'quotes'),\n",
            "  ...                                       categories=categories)\n",
            "  >>> vectors = vectorizer.fit_transform(newsgroups_train.data)\n",
            "  >>> clf = MultinomialNB(alpha=.01)\n",
            "  >>> clf.fit(vectors, newsgroups_train.target)\n",
            "  MultinomialNB(alpha=0.01, class_prior=None, fit_prior=True)\n",
            "\n",
            "  >>> vectors_test = vectorizer.transform(newsgroups_test.data)\n",
            "  >>> pred = clf.predict(vectors_test)\n",
            "  >>> metrics.f1_score(newsgroups_test.target, pred, average='macro')\n",
            "  0.76995...\n",
            "\n",
            "Some other classifiers cope better with this harder version of the task. Try\n",
            "running :ref:`sphx_glr_auto_examples_model_selection_grid_search_text_feature_extraction.py` with and without\n",
            "the ``--filter`` option to compare the results.\n",
            "\n",
            ".. topic:: Recommendation\n",
            "\n",
            "  When evaluating text classifiers on the 20 Newsgroups data, you\n",
            "  should strip newsgroup-related metadata. In scikit-learn, you can do this by\n",
            "  setting ``remove=('headers', 'footers', 'quotes')``. The F-score will be\n",
            "  lower because it is more realistic.\n",
            "\n",
            ".. topic:: Examples\n",
            "\n",
            "   * :ref:`sphx_glr_auto_examples_model_selection_grid_search_text_feature_extraction.py`\n",
            "\n",
            "   * :ref:`sphx_glr_auto_examples_text_plot_document_classification_20newsgroups.py`\n",
            "\n"
          ],
          "name": "stdout"
        }
      ]
    },
    {
      "cell_type": "code",
      "metadata": {
        "id": "m2ht8jdRJLKx",
        "colab": {
          "base_uri": "https://localhost:8080/"
        },
        "outputId": "5290d0f9-3ecc-4299-9419-2908e162dee0"
      },
      "source": [
        "# Example article\n",
        "\n",
        "print(newsgroups_data['data'][0])"
      ],
      "execution_count": null,
      "outputs": [
        {
          "output_type": "stream",
          "text": [
            "From: lerxst@wam.umd.edu (where's my thing)\n",
            "Subject: WHAT car is this!?\n",
            "Nntp-Posting-Host: rac3.wam.umd.edu\n",
            "Organization: University of Maryland, College Park\n",
            "Lines: 15\n",
            "\n",
            " I was wondering if anyone out there could enlighten me on this car I saw\n",
            "the other day. It was a 2-door sports car, looked to be from the late 60s/\n",
            "early 70s. It was called a Bricklin. The doors were really small. In addition,\n",
            "the front bumper was separate from the rest of the body. This is \n",
            "all I know. If anyone can tellme a model name, engine specs, years\n",
            "of production, where this car is made, history, or whatever info you\n",
            "have on this funky looking car, please e-mail.\n",
            "\n",
            "Thanks,\n",
            "- IL\n",
            "   ---- brought to you by your neighborhood Lerxst ----\n",
            "\n",
            "\n",
            "\n",
            "\n",
            "\n"
          ],
          "name": "stdout"
        }
      ]
    },
    {
      "cell_type": "code",
      "metadata": {
        "id": "5bLeiU40JLKx",
        "colab": {
          "base_uri": "https://localhost:8080/"
        },
        "outputId": "3cb585f4-ad1c-4b2a-8e76-68ab16fb1887"
      },
      "source": [
        "# Associated label\n",
        "\n",
        "newsgroups_data['target'][0]"
      ],
      "execution_count": null,
      "outputs": [
        {
          "output_type": "execute_result",
          "data": {
            "text/plain": [
              "7"
            ]
          },
          "metadata": {
            "tags": []
          },
          "execution_count": 57
        }
      ]
    },
    {
      "cell_type": "code",
      "metadata": {
        "id": "GqJOdud6JLKx",
        "colab": {
          "base_uri": "https://localhost:8080/",
          "height": 35
        },
        "outputId": "d6719a05-0b51-4a17-ee94-6cceb68eac66"
      },
      "source": [
        "# Name of label\n",
        "\n",
        "newsgroups_data['target_names'][7]"
      ],
      "execution_count": null,
      "outputs": [
        {
          "output_type": "execute_result",
          "data": {
            "application/vnd.google.colaboratory.intrinsic+json": {
              "type": "string"
            },
            "text/plain": [
              "'rec.autos'"
            ]
          },
          "metadata": {
            "tags": []
          },
          "execution_count": 58
        }
      ]
    },
    {
      "cell_type": "code",
      "metadata": {
        "id": "dA0O87AQJLKx"
      },
      "source": [
        "# Preprocessing boilerplate\n",
        "\n",
        "n_documents = len(newsgroups_data['data'])\n",
        "\n",
        "count_vectorizer = CountVectorizer(input='content', binary=True,\n",
        "                                   max_df=0.25, min_df=1.01/n_documents) # ignore common words, words that appear once\n",
        "binary_bag_of_words = count_vectorizer.fit_transform(newsgroups_data['data']) # input is a list of strings\n"
      ],
      "execution_count": null,
      "outputs": []
    },
    {
      "cell_type": "code",
      "metadata": {
        "id": "f8wprfRHJLKx",
        "colab": {
          "base_uri": "https://localhost:8080/"
        },
        "outputId": "ed06d597-1df9-46eb-cc28-ae790cff6f7d"
      },
      "source": [
        "# Check shape\n",
        "\n",
        "binary_bag_of_words.shape"
      ],
      "execution_count": null,
      "outputs": [
        {
          "output_type": "execute_result",
          "data": {
            "text/plain": [
              "(11314, 56365)"
            ]
          },
          "metadata": {
            "tags": []
          },
          "execution_count": 60
        }
      ]
    },
    {
      "cell_type": "code",
      "metadata": {
        "id": "k5lW2N1oJLKx",
        "colab": {
          "base_uri": "https://localhost:8080/"
        },
        "outputId": "ab7d4f78-348d-474d-c3aa-c119d873a9ad"
      },
      "source": [
        "# Check that the fit has been successful\n",
        "\n",
        "count_vectorizer.inverse_transform(binary_bag_of_words[0, :])"
      ],
      "execution_count": null,
      "outputs": [
        {
          "output_type": "execute_result",
          "data": {
            "text/plain": [
              "[array(['lerxst', 'wam', 'umd', 'where', 'thing', 'car', 'rac3',\n",
              "        'maryland', 'college', 'park', '15', 'wondering', 'anyone',\n",
              "        'could', 'enlighten', 'saw', 'day', 'door', 'sports', 'looked',\n",
              "        'late', '60s', 'early', '70s', 'called', 'bricklin', 'doors',\n",
              "        'were', 'really', 'small', 'addition', 'front', 'bumper',\n",
              "        'separate', 'rest', 'body', 'tellme', 'model', 'name', 'engine',\n",
              "        'specs', 'years', 'production', 'made', 'history', 'whatever',\n",
              "        'info', 'funky', 'looking', 'please', 'mail', 'thanks', 'il',\n",
              "        'brought', 'neighborhood'], dtype='<U80')]"
            ]
          },
          "metadata": {
            "tags": []
          },
          "execution_count": 61
        }
      ]
    },
    {
      "cell_type": "code",
      "metadata": {
        "id": "8jEPKUlgJLKx"
      },
      "source": [
        "# Dict that will be useful later \n",
        "\n",
        "inv_vocabulary = {value:key for key, value in count_vectorizer.vocabulary_.items()}"
      ],
      "execution_count": null,
      "outputs": []
    },
    {
      "cell_type": "markdown",
      "metadata": {
        "id": "IYN-2mTSJLKx"
      },
      "source": [
        "#### A Naive Bayes classifier for `newsgroup`"
      ]
    },
    {
      "cell_type": "markdown",
      "metadata": {
        "id": "atwOvIyLJLKx"
      },
      "source": [
        "Each feature vector $x$ is a list of indicators for whether a word appears in the article. $x_i$ is 1 if the $i$th word appears, and 0 otherwise. `inv_vocabulary` matches word indices $i$ to words.\n",
        "\n",
        "Each label $y$ is a value in $0, 1, \\ldots, 19$.\n",
        "\n",
        "The parts of a naive Bayes classifier for this problem can be summarised as:  \n",
        "\n",
        "\n",
        "- A probability distribution for the feature vector by class, $p(x|y = j)$ for each $j = 0, 1, \\ldots, 19$. These probability distributions are assumed to have independent components: we can factorize the joint probability as a product of marginal probabilities\n",
        "\\begin{equation}\n",
        "    p(x|y = j) = \\prod_{i=1}^d p(x_i|y = j)\n",
        "\\end{equation}\n",
        "These marginal probability distributions are Bernoulli distributions, each of which has a single parameter $\\theta_{ji} := p(x_i = 1|y = j)$. This parameter is the probability of observing word $i$ in an article of class $j$. \n",
        "\n",
        "- We will use the Laplace smoothed maximum likelihood estimate to compute these parameters. Laplace smoothing involves adding small counts to every feature for each class. Else, if a feature did not appear in the training set of a class, but then we observed it in our test data the log probability would be undefined.\n",
        "\n",
        "- A collection of class prior probabilities $p(y = j)$. These will be set by computing the class base rates in the training set.  \n",
        "\n",
        "\n",
        "- A function for computing the probability of class membership via Bayes' theorem:  \n",
        "\n",
        "\\begin{equation}\n",
        "    p(y = j|x) = \\frac{p(x|y = j)p(y = j)}{p(x)}\n",
        "\\end{equation}"
      ]
    },
    {
      "cell_type": "code",
      "metadata": {
        "id": "h_0oDNvIJLKx"
      },
      "source": [
        "# Compute the parameter estimates (adjusted fraction of documents in class that contain word)\n",
        "\n",
        "n_classes = newsgroups_data['target'].max() + 1\n",
        "y = newsgroups_data['target']\n",
        "n_words = binary_bag_of_words.shape[1]\n",
        "\n",
        "alpha = 1e-6 # parameters for Laplace smoothing\n",
        "\n",
        "theta = np.zeros([n_classes, n_words]) # stores parameter values - prob. word given class\n",
        "for c_k in range(n_classes): # 0, 1, ..., 19\n",
        "    class_mask = (y == c_k)\n",
        "    N = class_mask.sum() # number of articles in class\n",
        "    theta[c_k, :] = (binary_bag_of_words[class_mask, :].sum(axis=0) + alpha)/(N + alpha*2)"
      ],
      "execution_count": null,
      "outputs": []
    },
    {
      "cell_type": "code",
      "metadata": {
        "id": "E_27dheOJLKx",
        "colab": {
          "base_uri": "https://localhost:8080/"
        },
        "outputId": "8a5a4189-780d-4d5d-91f7-ba20735bd99e"
      },
      "source": [
        "# Check whether the most probable word in each class is reasonable\n",
        "\n",
        "most_probable_word_ix = theta.argmax(axis=1) # most probable word for each class\n",
        "\n",
        "for j, ix in enumerate(most_probable_word_ix):\n",
        "    print('Most probable word in class {} is \"{}\".'.format(newsgroups_data['target_names'][j],\n",
        "                                                           inv_vocabulary[ix]))"
      ],
      "execution_count": null,
      "outputs": [
        {
          "output_type": "stream",
          "text": [
            "Most probable word in class alt.atheism is \"people\".\n",
            "Most probable word in class comp.graphics is \"graphics\".\n",
            "Most probable word in class comp.os.ms-windows.misc is \"windows\".\n",
            "Most probable word in class comp.sys.ibm.pc.hardware is \"thanks\".\n",
            "Most probable word in class comp.sys.mac.hardware is \"mac\".\n",
            "Most probable word in class comp.windows.x is \"window\".\n",
            "Most probable word in class misc.forsale is \"sale\".\n",
            "Most probable word in class rec.autos is \"car\".\n",
            "Most probable word in class rec.motorcycles is \"dod\".\n",
            "Most probable word in class rec.sport.baseball is \"he\".\n",
            "Most probable word in class rec.sport.hockey is \"ca\".\n",
            "Most probable word in class sci.crypt is \"clipper\".\n",
            "Most probable word in class sci.electronics is \"use\".\n",
            "Most probable word in class sci.med is \"reply\".\n",
            "Most probable word in class sci.space is \"space\".\n",
            "Most probable word in class soc.religion.christian is \"god\".\n",
            "Most probable word in class talk.politics.guns is \"people\".\n",
            "Most probable word in class talk.politics.mideast is \"people\".\n",
            "Most probable word in class talk.politics.misc is \"people\".\n",
            "Most probable word in class talk.religion.misc is \"he\".\n"
          ],
          "name": "stdout"
        }
      ]
    },
    {
      "cell_type": "code",
      "metadata": {
        "id": "VP2SyLmnJLKx",
        "colab": {
          "base_uri": "https://localhost:8080/"
        },
        "outputId": "50b6dd04-7d18-4388-c840-54ea0480c140"
      },
      "source": [
        "# Define a distribution for each class\n",
        "\n",
        "batch_of_bernoullis = tfd.Bernoulli(probs=theta)\n",
        "p_x_given_y = tfd.Independent(batch_of_bernoullis,\n",
        "    reinterpreted_batch_ndims=1)\n",
        "p_x_given_y"
      ],
      "execution_count": null,
      "outputs": [
        {
          "output_type": "execute_result",
          "data": {
            "text/plain": [
              "<tfp.distributions.Independent 'IndependentBernoulli' batch_shape=[20] event_shape=[56365] dtype=int32>"
            ]
          },
          "metadata": {
            "tags": []
          },
          "execution_count": 65
        }
      ]
    },
    {
      "cell_type": "code",
      "metadata": {
        "id": "M3kgbflSJLKx",
        "colab": {
          "base_uri": "https://localhost:8080/"
        },
        "outputId": "3a3091f3-154e-49ce-a2f1-eac9a62e0005"
      },
      "source": [
        "# Take a sample of words from each class\n",
        "\n",
        "n_samples = 10\n",
        "sample = p_x_given_y.sample(n_samples)\n",
        "sample.shape"
      ],
      "execution_count": null,
      "outputs": [
        {
          "output_type": "execute_result",
          "data": {
            "text/plain": [
              "TensorShape([10, 20, 56365])"
            ]
          },
          "metadata": {
            "tags": []
          },
          "execution_count": 66
        }
      ]
    },
    {
      "cell_type": "code",
      "metadata": {
        "id": "_HPY3tJKJLKx",
        "colab": {
          "base_uri": "https://localhost:8080/",
          "height": 35
        },
        "outputId": "0cedbb10-2b4d-43e4-ea08-5b80fa385abe"
      },
      "source": [
        "# Choose a class\n",
        "\n",
        "chosen_class = 15\n",
        "newsgroups_data['target_names'][chosen_class]"
      ],
      "execution_count": null,
      "outputs": [
        {
          "output_type": "execute_result",
          "data": {
            "application/vnd.google.colaboratory.intrinsic+json": {
              "type": "string"
            },
            "text/plain": [
              "'soc.religion.christian'"
            ]
          },
          "metadata": {
            "tags": []
          },
          "execution_count": 67
        }
      ]
    },
    {
      "cell_type": "code",
      "metadata": {
        "id": "lRl9u_8-JLKx",
        "colab": {
          "base_uri": "https://localhost:8080/"
        },
        "outputId": "301e43cd-704f-4da9-ed90-a26c7cb2146a"
      },
      "source": [
        "# Indicators for words that appear in the sample\n",
        "\n",
        "class_sample = sample[:, chosen_class, :]\n",
        "class_sample"
      ],
      "execution_count": null,
      "outputs": [
        {
          "output_type": "execute_result",
          "data": {
            "text/plain": [
              "<tf.Tensor: shape=(10, 56365), dtype=int32, numpy=\n",
              "array([[1, 0, 0, ..., 0, 0, 0],\n",
              "       [0, 0, 0, ..., 0, 0, 0],\n",
              "       [1, 0, 0, ..., 0, 0, 0],\n",
              "       ...,\n",
              "       [0, 0, 0, ..., 0, 0, 0],\n",
              "       [0, 0, 0, ..., 0, 0, 0],\n",
              "       [0, 0, 0, ..., 0, 0, 0]], dtype=int32)>"
            ]
          },
          "metadata": {
            "tags": []
          },
          "execution_count": 68
        }
      ]
    },
    {
      "cell_type": "code",
      "metadata": {
        "id": "4NtdUvCNJLKx",
        "colab": {
          "base_uri": "https://localhost:8080/"
        },
        "outputId": "5a5bb3e1-713d-4a92-f0b6-1adcb2d8a689"
      },
      "source": [
        "# Perform inverse transform to test quality of fit\n",
        "\n",
        "count_vectorizer.inverse_transform(class_sample)"
      ],
      "execution_count": null,
      "outputs": [
        {
          "output_type": "execute_result",
          "data": {
            "text/plain": [
              "[array(['00', '15', '2231', '31', 'across', 'admissions', 'after',\n",
              "        'aisun3', 'almost', 'among', 'another', 'anyone', 'assistance',\n",
              "        'atheism', 'audience', 'bear', 'because', 'become', 'been',\n",
              "        'bible', 'biblical', 'both', 'california', 'cardinal', 'certain',\n",
              "        'certainly', 'charge', 'christ', 'christian', 'complicated',\n",
              "        'concerned', 'conviction', 'couple', 'cows', 'cultural', 'dale',\n",
              "        'definitions', 'diverge', 'ease', 'easier', 'eternity',\n",
              "        'explanation', 'expressing', 'fault', 'fisher', 'forgiveness',\n",
              "        'fsu', 'give', 'god', 'happend', 'his', 'instead',\n",
              "        'interpretations', 'journey', 'justly', 'kitchen', 'leave', 'leo',\n",
              "        'lewis', 'likely', 'little', 'look', 'ly', 'mail', 'many',\n",
              "        'marriage', 'mary', 'misleading', 'missed', 'negate', 'negative',\n",
              "        'newsgroup', 'nj', 'nothing', 'notice', 'off', 'offer', 'oriented',\n",
              "        'pacifist', 'part', 'people', 'phone', 'potter', 'prediction',\n",
              "        'reacts', 'reading', 'relations', 'resurection', 'rock', 'romans',\n",
              "        'says', 'scriptures', 'see', 'seems', 'self', 'seven', 'shadow',\n",
              "        'shell', 'show', 'sin', 'span', 'sri', 'state', 'stops', 'such',\n",
              "        'suppose', 'symbol', 'teaches', 'technology', 'text', 'thief',\n",
              "        'tyrant', 'ulysses', 'us', 'use', 'well', 'western', 'wrath',\n",
              "        'write', 'yes', 'za'], dtype='<U80'),\n",
              " array(['14', '18', '22102', '30602', '4423', '5402', '63', 'absence',\n",
              "        'absolute', 'act', 'admit', 'advancement', 'after', 'again',\n",
              "        'also', 'although', 'anybody', 'appear', 'apr', 'area', 'aren',\n",
              "        'argument', 'assumed', 'basis', 'being', 'biblical', 'bunnies',\n",
              "        'called', 'center', 'change', 'choices', 'christian', 'clear',\n",
              "        'colorado', 'commonwealth', 'company', 'conceal', 'concerned',\n",
              "        'condemnation', 'definition', 'descent', 'desert', 'desk',\n",
              "        'determining', 'down', 'ds3', 'duty', 'edged', 'else', 'epidemic',\n",
              "        'ever', 'explanatory', 'extremely', 'failure', 'faith', 'falsely',\n",
              "        'find', 'finished', 'freenet', 'geologists', 'gigantic', 'grace',\n",
              "        'grafted', 'guided', 'guilty', 'had', 'hammer', 'he', 'hell',\n",
              "        'here', 'holocaust', 'implicit', 'imply', 'impressions',\n",
              "        'including', 'intelligence', 'interested', 'interzone',\n",
              "        'irrelevant', 'isaac', 'jek', 'jewish', 'jews', 'joseph',\n",
              "        'learned', 'lifetime', 'live', 'los', 'lost', 'lowe', 'mailing',\n",
              "        'man', 'management', 'marida', 'mean', 'might', 'misleading',\n",
              "        'much', 'must', 'myself', 'nature', 'negate', 'nice', 'non',\n",
              "        'obeyed', 'obviously', 'okay', 'oriental', 'own', 'part',\n",
              "        'participating', 'people', 'person', 'physical', 'plague',\n",
              "        'please', 'point', 'possible', 'power', 'primary', 'protect',\n",
              "        'queensu', 'ran', 'references', 'rene', 'reply', 'reserve',\n",
              "        'respect', 'revelation', 'roman', 'same', 'sections', 'self',\n",
              "        'someone', 'sowing', 'spiritual', 'suppose', 'take', 'talk',\n",
              "        'their', 'think', 'though', 'tired', 'turned', 'two', 'under',\n",
              "        'univ', 'use', 'various', 'wary', 'way', 'well', 'were', 'where',\n",
              "        'whether', 'within', 'worthy', 'written'], dtype='<U80'),\n",
              " array(['00', '01', '13', '14', '30', '518', '5402', '706', '7415', 'am',\n",
              "        'answer', 'application', 'apr', 'argument', 'bear', 'become',\n",
              "        'been', 'belief', 'book', 'bothers', 'canada', 'christian', 'cia',\n",
              "        'claimed', 'contradiction', 'contradictory', 'cor', 'couple',\n",
              "        'covered', 'cs', 'darius_lecointe', 'divine', 'doing', 'due',\n",
              "        'easterners', 'english', 'eternity', 'evil', 'examples',\n",
              "        'exchange', 'fermi', 'free', 'future', 'garden', 'general',\n",
              "        'gonna', 'got', 'grown', 'hatred', 'he', 'hungry', 'ideas',\n",
              "        'issue', 'john', 'kepler', 'knows', 'ky', 'landed', 'late',\n",
              "        'least', 'left', 'let', 'long', 'lowe', 'mail', 'make', 'man',\n",
              "        'mateo', 'mmalt', 'moral', 'movement', 'mr', 'myself', 'never',\n",
              "        'obligation', 'once', 'openly', 'order', 'our', 'parents',\n",
              "        'people', 'person', 'peter', 'play', 'point', 'psalmist', 'quite',\n",
              "        'reasons', 'religion', 'reproduce', 'sake', 'salvation', 'saying',\n",
              "        'scripture', 'see', 'seem', 'seems', 'since', 'sleep', 'someone',\n",
              "        'spent', 'spiritual', 'stable', 'statement', 'striking', 'study',\n",
              "        'surely', 'take', 'talks', 'their', 'them', 'thereby', 'these',\n",
              "        'things', 'think', 'thus', 'trait', 'tried', 'typing',\n",
              "        'understanding', 'us', 'uth', 'uttered', 've', 'very', 'week',\n",
              "        'whom'], dtype='<U80'),\n",
              " array(['1266', 'abuse', 'acts', 'advance', 'also', 'always', 'am',\n",
              "        'anger', 'another', 'apple', 'applied', 'apr', 'aquinas',\n",
              "        'argument', 'athos', 'bc', 'bears', 'beautiful', 'been', 'belief',\n",
              "        'beliefs', 'bible', 'bio', 'both', 'buy', 'cause', 'christ',\n",
              "        'christian', 'claim', 'clh', 'come', 'commitment', 'commonly',\n",
              "        'concerned', 'conflict', 'constant', 'content', 'continuous',\n",
              "        'criticism', 'darius_lecointe', 'demand', 'depart', 'did',\n",
              "        'distinguish', 'end', 'everyone', 'exist', 'fertility', 'festival',\n",
              "        'flame', 'following', 'forced', 'god', 'graduate', 'group', 'had',\n",
              "        'hand', 'handbook', 'he', 'heart', 'her', 'him', 'hopeless',\n",
              "        'humans', 'ibm', 'inappropriately', 'intentional',\n",
              "        'interpretation', 'issue', 'ivan', 'judgment', 'jurisdiction',\n",
              "        'king', 'lake', 'life', 'lincoln', 'live', 'llo', 'looking',\n",
              "        'love', 'lunch', 'make', 'manipulation', 'maybe', 'message',\n",
              "        'messy', 'might', 'netters', 'norman', 'obeyed', 'off', 'often',\n",
              "        'opposition', 'order', 'ot', 'own', 'parishes', 'people',\n",
              "        'physical', 'placed', 'possible', 'power', 'presbyterian',\n",
              "        'pretty', 'providence', 'question', 'return', 'revealed', 'rights',\n",
              "        'robert', 'romans', 'rush', 'rutgers', 'safe', 'scripture', 'see',\n",
              "        'senses', 'shalom', 'she', 'sin', 'sleep', 'stortek', 'strange',\n",
              "        'stumbled', 'substatiation', 'such', 'sure', 'tend', 'terms',\n",
              "        'their', 'them', 'thing', 'tim', 'tom', 'trump', 'trusted', 'ucs',\n",
              "        'us', 'usenet', 'verse', 'very', 'vessel', 'way', 'well',\n",
              "        'whether', 'word', 'world', 'yours'], dtype='<U80'),\n",
              " array(['14391', '34', '4263', 'admit', 'affiliated', 'aimed', 'almost',\n",
              "        'along', 'also', 'although', 'animals', 'answer', 'apologizing',\n",
              "        'approved', 'approves', 'argument', 'aversion', 'begin', 'being',\n",
              "        'bible', 'biblical', 'british', 'caltech', 'cardenas', 'claim',\n",
              "        'clergy', 'commented', 'company', 'completely', 'context', 'could',\n",
              "        'cup', 'dealt', 'department', 'discussion', 'does', 'done',\n",
              "        'doubt', 'easily', 'ecn', 'elizabeth', 'etc', 'even', 'events',\n",
              "        'examples', 'excuses', 'expect', 'faqs', 'few', 'finally', 'food',\n",
              "        'freedom', 'given', 'hancock', 'here', 'his', 'inevitably', 'je',\n",
              "        'least', 'live', 'logically', 'look', 'man', 'manfred', 'many',\n",
              "        'medical', 'mohamed', 'moreover', 'n7101', 'nature', 'news', 'nus',\n",
              "        'nusunix', 'occurs', 'often', 'omaha', 'org', 'our', 'paul',\n",
              "        'people', 'person', 'peter', 'physically', 'potent', 'presence',\n",
              "        'probably', 'prophecy', 'purposes', 'quebec', 'raise', 'reason',\n",
              "        'reasons', 'redwoods', 'relevant', 'religion', 'removing',\n",
              "        'repeat', 'rest', 'revelation', 'right', 'robertson', 'rutgers',\n",
              "        'said', 'satan', 'says', 'see', 'seems', 'serious', 'shalt',\n",
              "        'shame', 'shaped', 'should', 'sig', 'silent', 'sinai', 'somebody',\n",
              "        'soon', 'sorry', 'state', 'suffix', 'suppose', 'talks', 'tend',\n",
              "        'their', 'theologians', 'tread', 'tremendous', 'ttttttt', 'unlike',\n",
              "        'use', 'vatican', 'viewed', 'vm', 'where', 'why', 'within', 'wont'],\n",
              "       dtype='<U80'),\n",
              " array(['01', '05', '10', '12', '60', 'academia', 'actually',\n",
              "        'admonitions', 'again', 'almost', 'also', 'always', 'annuls',\n",
              "        'anyone', 'apple', 'argument', 'authority', 'available', 'barred',\n",
              "        'base', 'because', 'been', 'body', 'breach', 'bride', 'brunel',\n",
              "        'canada', 'case', 'certain', 'champions', 'christ', 'christianity',\n",
              "        'christians', 'cleansing', 'clearly', 'complete', 'constant',\n",
              "        'cosponsored', 'days', 'despite', 'did', 'directly', 'doing',\n",
              "        'dominated', 'dreams', 'dt', 'each', 'encounter', 'entrust',\n",
              "        'exact', 'exactly', 'example', 'excuse', 'existing', 'feeling',\n",
              "        'figure', 'fine', 'florida', 'fnal', 'found', 'fully', 'given',\n",
              "        'gla', 'glory', 'god', 'great', 'growing', 'he', 'heads', 'heaven',\n",
              "        'help', 'heres', 'him', 'hurt', 'intends', 'internet', 'isn',\n",
              "        'knew', 'live', 'lose', 'married', 'media', 'melinda', 'milk',\n",
              "        'most', 'mot', 'movement', 'moving', 'much', 'myth', 'neighbour',\n",
              "        'never', 'origin', 'orst', 'own', 'past', 'people', 'perhaps',\n",
              "        'physics', 'praying', 'precious', 'prism', 'probability',\n",
              "        'promises', 'real', 'relate', 'relativism', 'religion', 'return',\n",
              "        'right', 'scale', 'scholarship', 'seem', 'shall', 'shatters',\n",
              "        'should', 'sin', 'something', 'sorry', 'speaking', 'specific',\n",
              "        'supernatural', 'swears', 'their', 'them', 'those', 'time',\n",
              "        'towards', 'try', 'trying', 'understand', 'very', 'ways', 'well',\n",
              "        'whether', 'without', 'witnessed', 'wonder', 'work', 'years'],\n",
              "       dtype='<U80'),\n",
              " array(['01', '1993', '21', '34', '46', '601', '703', '9760', 'able',\n",
              "        'acts', 'ad', 'against', 'agree', 'apr', 'arizona', 'back', 'bad',\n",
              "        'basically', 'because', 'belief', 'believed', 'besides', 'bigger',\n",
              "        'btw', 'buckley', 'call', 'case', 'certainty', 'christ',\n",
              "        'christian', 'clanging', 'classical', 'conquer', 'counting',\n",
              "        'cover', 'cristo', 'cult', 'custom', 'destroy', 'didn',\n",
              "        'discussion', 'discussions', 'dissent', 'done', 'drove',\n",
              "        'elements', 'ever', 'far', 'fears', 'feeble', 'female', 'find',\n",
              "        'first', 'friend', 'getting', 'give', 'given', 'go', 'god', 'good',\n",
              "        'gospel', 'had', 'hard', 'he', 'healing', 'heard', 'here', 'his',\n",
              "        'hole', 'holy', 'honolulu', 'hosts', 'humanist', 'including',\n",
              "        'infallible', 'jesuit', 'judaism', 'knew', 'lab', 'large', 'law',\n",
              "        'legitimate', 'line', 'll', 'lot', 'loves', 'made', 'man',\n",
              "        'manner', 'mass', 'material', 'may', 'message', 'mike', 'mls',\n",
              "        'moment', 'moses', 'must', 'mutation', 'nearly', 'never', 'new',\n",
              "        'non', 'northern', 'notion', 'opposed', 'others', 'passages',\n",
              "        'peace', 'peers', 'persecuted', 'phew', 'planning', 'position',\n",
              "        'precede', 'promised', 'quit', 'radical', 'reaching', 'realize',\n",
              "        'reason', 'romans', 'rutgers', 'say', 'signs', 'since', 'specify',\n",
              "        'spy', 'squished', 'stanford', 'stronger', 'subtle', 'sword',\n",
              "        'take', 'taught', 'than', 'their', 'through', 'time', 'tours',\n",
              "        'tr', 'tragic', 'translation', 'trappings', 'truth', 'twist',\n",
              "        'unto', 'upset', 'vulgata', 'were', 'whether', 'witness', 'world',\n",
              "        'written', 'yeh', 'yell', 'yes'], dtype='<U80'),\n",
              " array(['08', '10000', '11', '5of5', '601', 'abram', 'actually', 'adopted',\n",
              "        'aesthetics', 'afraid', 'although', 'always', 'am', 'andy',\n",
              "        'another', 'athena', 'baptism', 'beacause', 'because', 'been',\n",
              "        'bodies', 'bodily', 'cannot', 'celebrate', 'christianity',\n",
              "        'christians', 'claim', 'cleansing', 'consciously', 'cu', 'date',\n",
              "        'days', 'department', 'disagree', 'discussion', 'disease', 'does',\n",
              "        'down', 'ethnic', 'everyone', 'exactly', 'exhort', 'faithfully',\n",
              "        'first', 'gave', 'generally', 'give', 'given', 'good', 'granted',\n",
              "        'great', 'gsu0033', 'he', 'headbangers', 'hinduism', 'home',\n",
              "        'interactions', 'issue', 'itself', 'keep', 'lab', 'less', 'life',\n",
              "        'likewise', 'lord', 'made', 'mail', 'make', 'marida', 'mean',\n",
              "        'members', 'moral', 'nature', 'neighbor', 'neither', 'news',\n",
              "        'ones', 'people', 'perseverance', 'perspective', 'quest',\n",
              "        'questions', 'randy', 'rather', 'religion', 'roman', 'rpi', 'rule',\n",
              "        'saddened', 'second', 'seems', 'sense', 'show', 'sin', 'sinners',\n",
              "        'spiritually', 'statements', 'ten', 'their', 'these', 'thought',\n",
              "        'thus', 'tom', 'trading', 'troubling', 'trustworthy', 'truth',\n",
              "        'uk', 'ultimate', 'upbringing', 'very', 'way', 'well', 'where',\n",
              "        'while', 'why', 'witch', 'world', 'write'], dtype='<U80'),\n",
              " array(['10', '113', '12', '1st', '30', '31', 'accept', 'actually',\n",
              "        'agreement', 'allowed', 'always', 'another', 'area', 'basic',\n",
              "        'best', 'blessed', 'boxes', 'bradley', 'chaos', 'chemical',\n",
              "        'christian', 'christianity', 'compassion', 'conception', 'convert',\n",
              "        'created', 'culture', 'didn', 'differences', 'difficult', 'elicit',\n",
              "        'emphasis', 'entirety', 'eventually', 'exists', 'expect', 'fear',\n",
              "        'friends', 'gave', 'gays', 'geneva', 'gentiles', 'god', 'golded',\n",
              "        'guy', 'gvg47', 'had', 'having', 'heavens', 'here', 'hesitations',\n",
              "        'him', 'his', 'honor', 'investigate', 'james', 'justification',\n",
              "        'learn', 'likely', 'little', 'll', 'lord', 'made', 'make', 'many',\n",
              "        'may', 'meeting', 'mere', 'monks', 'net', 'nothing', 'originally',\n",
              "        'our', 'over', 'parents', 'part', 'people', 'person', 'points',\n",
              "        'pops', 'praying', 'precious', 'priests', 'prudent', 'purely',\n",
              "        'rather', 'reading', 'rebel', 'refutation', 'rejected', 'respect',\n",
              "        'reviewed', 'rob', 'root', 'rushed', 'rutgers', 'said', 'salaris',\n",
              "        'sects', 'should', 'shouldn', 'sins', 'slight', 'state', 'strong',\n",
              "        'study', 'suicidal', 'then', 'things', 'think', 'those', 'though',\n",
              "        'time', 'today', 'topic', 'understand', 'unfortunately', 'us',\n",
              "        'use', 'used', 'voted', 'vowed', 'wall', 'were', 'without',\n",
              "        'working'], dtype='<U80'),\n",
              " array(['12', '16937', '365', '90', 'alive', 'another', 'answered', 'apr',\n",
              "        'back', 'because', 'before', 'belief', 'believe', 'believes',\n",
              "        'biblical', 'bit', 'body', 'boss', 'bothered', 'brethren',\n",
              "        'catholics', 'century', 'challenge', 'changes', 'chosen',\n",
              "        'christian', 'city', 'claim', 'claiming', 'closed', 'come',\n",
              "        'comes', 'concepts', 'cs', 'cult', 'cyril', 'darius_lecointe',\n",
              "        'dead', 'dean', 'did', 'die', 'disclaimer', 'dr', 'driving',\n",
              "        'earth', 'energies', 'enough', 'escape', 'especially', 'espouse',\n",
              "        'event', 'everything', 'example', 'excuse', 'exist', 'face',\n",
              "        'fact', 'faith', 'federal', 'few', 'find', 'followed', 'follows',\n",
              "        'forming', 'freedom', 'friend', 'given', 'go', 'god', 'gods',\n",
              "        'grace', 'great', 'greek', 'greg', 'guards', 'hell', 'hello',\n",
              "        'history', 'iii', 'jerry', 'jews', 'jim', 'johnsd2', 'keeps',\n",
              "        'ken', 'knew', 'last', 'laws', 'leather', 'left', 'let', 'life',\n",
              "        'man', 'mellon', 'men', 'might', 'miss', 'modern', 'move',\n",
              "        'mystery', 'natures', 'need', 'now', 'nyc', 'our', 'own', 'paul',\n",
              "        'peace', 'people', 'pictures', 'r2d2', 'realization', 'really',\n",
              "        'reid', 'reply', 'righteous', 'rutgers', 'sacrifices', 'scientist',\n",
              "        'serbian', 'show', 'similar', 'sins', 'someone', 'son', 'standing',\n",
              "        'sysops', 'tall', 'tektronix', 'tel', 'texts', 'thanks', 'them',\n",
              "        'theology', 'third', 'those', 'throne', 'tithe', 'today', 'trajan',\n",
              "        'truly', 'two', 'vbv', 'vulgata', 'where', 'whole', 'whom',\n",
              "        'witch', 'witness', 'writer', 'years'], dtype='<U80')]"
            ]
          },
          "metadata": {
            "tags": []
          },
          "execution_count": 69
        }
      ]
    },
    {
      "cell_type": "markdown",
      "metadata": {
        "id": "5psJI4WqJLKx"
      },
      "source": [
        "***\n",
        "<a id='sampling_and_log_probs'></a>\n",
        "## Sampling and log probs"
      ]
    },
    {
      "cell_type": "code",
      "metadata": {
        "id": "eRtRs0UIJLKx",
        "colab": {
          "base_uri": "https://localhost:8080/"
        },
        "outputId": "0bab9e27-a59e-42bd-ab55-ff1281cdf634"
      },
      "source": [
        "import tensorflow as tf\n",
        "import tensorflow_probability as tfp\n",
        "tfd = tfp.distributions\n",
        "\n",
        "exp = tfd.Exponential(rate=[[1., 1.5, 0.8], \n",
        "    [0.3, 0.4, 1.8]])\n",
        "print(exp)"
      ],
      "execution_count": null,
      "outputs": [
        {
          "output_type": "stream",
          "text": [
            "tfp.distributions.Exponential(\"Exponential\", batch_shape=[2, 3], event_shape=[], dtype=float32)\n"
          ],
          "name": "stdout"
        }
      ]
    },
    {
      "cell_type": "code",
      "metadata": {
        "id": "xVzZa6rUJLKy",
        "colab": {
          "base_uri": "https://localhost:8080/"
        },
        "outputId": "47cb7c56-0e96-44e8-8eb7-bca562fb6b29"
      },
      "source": [
        "ind_exp = tfd.Independent(exp)\n",
        "print(ind_exp)\n",
        "ind_exp.sample(4)"
      ],
      "execution_count": null,
      "outputs": [
        {
          "output_type": "stream",
          "text": [
            "tfp.distributions.Independent(\"IndependentExponential\", batch_shape=[2], event_shape=[3], dtype=float32)\n"
          ],
          "name": "stdout"
        },
        {
          "output_type": "execute_result",
          "data": {
            "text/plain": [
              "<tf.Tensor: shape=(4, 2, 3), dtype=float32, numpy=\n",
              "array([[[ 0.3344745 ,  0.41106844,  1.2628942 ],\n",
              "        [11.623068  ,  0.3852263 ,  1.2509961 ]],\n",
              "\n",
              "       [[ 0.88249695,  0.10482776,  2.0638363 ],\n",
              "        [ 4.4133115 ,  0.9246728 ,  0.09395008]],\n",
              "\n",
              "       [[ 1.2097594 ,  0.66057134,  1.5085471 ],\n",
              "        [ 0.82436156,  0.52144   ,  1.280305  ]],\n",
              "\n",
              "       [[ 0.4360864 ,  0.321803  ,  0.9252472 ],\n",
              "        [ 3.0192287 ,  1.9424533 ,  0.39774966]]], dtype=float32)>"
            ]
          },
          "metadata": {
            "tags": []
          },
          "execution_count": 71
        }
      ]
    },
    {
      "cell_type": "code",
      "metadata": {
        "scrolled": true,
        "id": "15s2N9ZdJLKy",
        "colab": {
          "base_uri": "https://localhost:8080/"
        },
        "outputId": "d455cb0f-be28-428c-8f3a-8ea14bebec4e"
      },
      "source": [
        "rates = [[[[1., 1.5, 0.8], [0.3, 0.4, 1.8]]],\n",
        "    [[[0.2, 0.4, 1.4], [0.4, 1.1, 0.9]]]]\n",
        "exp = tfd.Exponential(rate=rates)\n",
        "print(exp)\n",
        "\n",
        "ind_exp = tfd.Independent(exp, reinterpreted_batch_ndims=2)\n",
        "print(ind_exp)\n",
        "\n",
        "ind_exp.sample([4, 2])"
      ],
      "execution_count": null,
      "outputs": [
        {
          "output_type": "stream",
          "text": [
            "tfp.distributions.Exponential(\"Exponential\", batch_shape=[2, 1, 2, 3], event_shape=[], dtype=float32)\n",
            "tfp.distributions.Independent(\"IndependentExponential\", batch_shape=[2, 1], event_shape=[2, 3], dtype=float32)\n"
          ],
          "name": "stdout"
        },
        {
          "output_type": "execute_result",
          "data": {
            "text/plain": [
              "<tf.Tensor: shape=(4, 2, 2, 1, 2, 3), dtype=float32, numpy=\n",
              "array([[[[[[ 1.1920577 ,  0.47450218,  0.9526066 ],\n",
              "           [ 2.537029  ,  1.5201153 ,  2.5715563 ]]],\n",
              "\n",
              "\n",
              "         [[[ 0.47735628,  0.88925356,  0.3958501 ],\n",
              "           [ 1.9704156 ,  1.1133701 ,  0.04678833]]]],\n",
              "\n",
              "\n",
              "\n",
              "        [[[[ 1.1072893 ,  0.5328472 ,  1.9514979 ],\n",
              "           [ 6.349839  ,  5.327229  ,  0.1366389 ]]],\n",
              "\n",
              "\n",
              "         [[[14.369898  ,  0.71495384,  0.05320774],\n",
              "           [ 1.653852  ,  0.5846029 ,  4.843376  ]]]]],\n",
              "\n",
              "\n",
              "\n",
              "\n",
              "       [[[[[ 0.4921351 ,  1.3080262 ,  0.95226026],\n",
              "           [ 0.57653   ,  0.3619977 ,  0.05593786]]],\n",
              "\n",
              "\n",
              "         [[[ 8.401334  ,  7.1434627 ,  1.3406405 ],\n",
              "           [ 0.8339038 ,  0.9092554 ,  0.650188  ]]]],\n",
              "\n",
              "\n",
              "\n",
              "        [[[[ 1.8017017 ,  1.1254373 ,  0.33404937],\n",
              "           [ 3.5862603 ,  5.053144  ,  0.5820204 ]]],\n",
              "\n",
              "\n",
              "         [[[ 0.23175569,  0.38577533,  0.07837863],\n",
              "           [ 0.07101922,  0.5827852 ,  0.40478548]]]]],\n",
              "\n",
              "\n",
              "\n",
              "\n",
              "       [[[[[ 1.6246628 ,  2.2637637 ,  5.455222  ],\n",
              "           [ 5.6248245 ,  0.6069465 ,  0.16987723]]],\n",
              "\n",
              "\n",
              "         [[[ 0.5260445 , 11.08706   ,  0.47250456],\n",
              "           [ 0.70507044,  0.05910994,  0.5757868 ]]]],\n",
              "\n",
              "\n",
              "\n",
              "        [[[[ 2.5166514 ,  0.87941283,  1.0896082 ],\n",
              "           [ 1.2378681 ,  9.165287  ,  0.18043548]]],\n",
              "\n",
              "\n",
              "         [[[ 6.7111835 ,  2.8035812 ,  0.25737286],\n",
              "           [ 2.0680218 ,  0.9677644 ,  0.07637162]]]]],\n",
              "\n",
              "\n",
              "\n",
              "\n",
              "       [[[[[ 1.4383576 ,  0.18484072,  3.6402671 ],\n",
              "           [ 3.4238675 ,  1.9224911 ,  0.20623899]]],\n",
              "\n",
              "\n",
              "         [[[16.982319  ,  2.1110692 ,  0.0851237 ],\n",
              "           [ 3.0864885 ,  0.7255153 ,  0.23431888]]]],\n",
              "\n",
              "\n",
              "\n",
              "        [[[[ 0.06224128,  0.02134466,  0.6063537 ],\n",
              "           [ 1.713088  ,  1.2109798 ,  0.20891869]]],\n",
              "\n",
              "\n",
              "         [[[ 1.3517559 ,  2.612875  ,  0.50814474],\n",
              "           [ 0.95948225,  0.10368899,  0.6825373 ]]]]]], dtype=float32)>"
            ]
          },
          "metadata": {
            "tags": []
          },
          "execution_count": 72
        }
      ]
    },
    {
      "cell_type": "code",
      "metadata": {
        "id": "IUQDRZ23JLKy",
        "colab": {
          "base_uri": "https://localhost:8080/"
        },
        "outputId": "903def42-4cc1-41e8-e6b4-0f22da229a8f"
      },
      "source": [
        "ind_exp.log_prob(0.5)"
      ],
      "execution_count": null,
      "outputs": [
        {
          "output_type": "execute_result",
          "data": {
            "text/plain": [
              "<tf.Tensor: shape=(2, 1), dtype=float32, numpy=\n",
              "array([[-4.2501554],\n",
              "       [-5.3155975]], dtype=float32)>"
            ]
          },
          "metadata": {
            "tags": []
          },
          "execution_count": 73
        }
      ]
    },
    {
      "cell_type": "code",
      "metadata": {
        "id": "9S6qjMjYJLKy",
        "colab": {
          "base_uri": "https://localhost:8080/"
        },
        "outputId": "c1a7ea34-5114-4cd3-8c9d-19d1f21a8bee"
      },
      "source": [
        "ind_exp.log_prob([[0.3, 0.5, 0.8]])"
      ],
      "execution_count": null,
      "outputs": [
        {
          "output_type": "execute_result",
          "data": {
            "text/plain": [
              "<tf.Tensor: shape=(2, 1), dtype=float32, numpy=\n",
              "array([[-4.770155],\n",
              "       [-5.885597]], dtype=float32)>"
            ]
          },
          "metadata": {
            "tags": []
          },
          "execution_count": 74
        }
      ]
    },
    {
      "cell_type": "code",
      "metadata": {
        "id": "fJpVlZ7WJLKy",
        "colab": {
          "base_uri": "https://localhost:8080/"
        },
        "outputId": "36b1612b-969d-41fd-944d-a65e891d4228"
      },
      "source": [
        "ind_exp.log_prob(tf.random.uniform((5, 1, 1, 2, 1)))"
      ],
      "execution_count": null,
      "outputs": [
        {
          "output_type": "execute_result",
          "data": {
            "text/plain": [
              "<tf.Tensor: shape=(5, 2, 1), dtype=float32, numpy=\n",
              "array([[[-5.4226217],\n",
              "        [-6.0185933]],\n",
              "\n",
              "       [[-1.5347023],\n",
              "        [-3.2323928]],\n",
              "\n",
              "       [[-4.1921744],\n",
              "        [-5.0031986]],\n",
              "\n",
              "       [[-3.9441292],\n",
              "        [-5.2007027]],\n",
              "\n",
              "       [[-4.517727 ],\n",
              "        [-5.2621627]]], dtype=float32)>"
            ]
          },
          "metadata": {
            "tags": []
          },
          "execution_count": 75
        }
      ]
    },
    {
      "cell_type": "code",
      "metadata": {
        "id": "B5KSTZ4wJLKy",
        "colab": {
          "base_uri": "https://localhost:8080/"
        },
        "outputId": "28eda39d-0e44-45b6-8de3-6ea195975a73"
      },
      "source": [
        "# Make Multivariate Distribution\n",
        "\n",
        "normal_distributions = tfd.MultivariateNormalDiag(\n",
        "    loc=[[0.5, 1], [0.1, 0], [0, 0.2]],\n",
        "    scale_diag=[[2, 3], [1, 3], [4, 4]])\n",
        "normal_distributions"
      ],
      "execution_count": null,
      "outputs": [
        {
          "output_type": "execute_result",
          "data": {
            "text/plain": [
              "<tfp.distributions.MultivariateNormalDiag 'MultivariateNormalDiag' batch_shape=[3] event_shape=[2] dtype=float32>"
            ]
          },
          "metadata": {
            "tags": []
          },
          "execution_count": 76
        }
      ]
    },
    {
      "cell_type": "code",
      "metadata": {
        "id": "cARi0qAyJLKy",
        "colab": {
          "base_uri": "https://localhost:8080/"
        },
        "outputId": "719499bd-d81b-4460-e8e8-4b9fa75398c4"
      },
      "source": [
        "# Sample\n",
        "\n",
        "normal_distributions.sample(5)"
      ],
      "execution_count": null,
      "outputs": [
        {
          "output_type": "execute_result",
          "data": {
            "text/plain": [
              "<tf.Tensor: shape=(5, 3, 2), dtype=float32, numpy=\n",
              "array([[[-3.2117293e+00, -4.0981417e+00],\n",
              "        [-1.5832579e-01, -2.4438751e-01],\n",
              "        [ 3.7233257e+00,  1.1097547e+00]],\n",
              "\n",
              "       [[-2.8046741e+00,  5.8940592e+00],\n",
              "        [ 1.4537493e+00,  4.7539740e+00],\n",
              "        [ 3.8831493e-01, -8.8039036e+00]],\n",
              "\n",
              "       [[ 1.4209880e+00, -9.1480732e-02],\n",
              "        [-9.5269382e-01, -2.9693398e+00],\n",
              "        [ 3.5595521e-01, -4.3668976e+00]],\n",
              "\n",
              "       [[ 2.2573552e+00, -9.6925235e-01],\n",
              "        [-2.0811811e-01,  1.9865129e+00],\n",
              "        [-1.8871306e+00,  2.5842643e+00]],\n",
              "\n",
              "       [[-3.4797788e-03, -2.6640084e+00],\n",
              "        [-3.3263373e-01,  2.9362515e-01],\n",
              "        [ 7.2007732e+00, -1.5212833e+00]]], dtype=float32)>"
            ]
          },
          "metadata": {
            "tags": []
          },
          "execution_count": 77
        }
      ]
    },
    {
      "cell_type": "code",
      "metadata": {
        "id": "BoXkKiOMJLKy",
        "colab": {
          "base_uri": "https://localhost:8080/"
        },
        "outputId": "43f9fb80-f3be-4198-9105-61a6a1ce4b0e"
      },
      "source": [
        "# Multivariate Normal batched Distribution\n",
        "# We are broadcasting batch shapes of `loc` and `scal_diag` \n",
        "# against each other\n",
        "\n",
        "loc = [[[0.3, 1.5, 1.], [0.2, 0.4, 2.8]],\n",
        "        [[2., 2.3, 8], [1.4, 1, 1.3]]]\n",
        "scale_diag = [0.4, 1., 0.7]\n",
        "normal_distributions = tfd.MultivariateNormalDiag(\n",
        "    loc=loc, scale_diag=scale_diag)\n",
        "normal_distributions"
      ],
      "execution_count": null,
      "outputs": [
        {
          "output_type": "execute_result",
          "data": {
            "text/plain": [
              "<tfp.distributions.MultivariateNormalDiag 'MultivariateNormalDiag' batch_shape=[2, 2] event_shape=[3] dtype=float32>"
            ]
          },
          "metadata": {
            "tags": []
          },
          "execution_count": 78
        }
      ]
    },
    {
      "cell_type": "code",
      "metadata": {
        "id": "m6HQ0xLjJLKz",
        "colab": {
          "base_uri": "https://localhost:8080/"
        },
        "outputId": "8d9ed46b-04e8-4bf0-9b6d-d243fcc90c91"
      },
      "source": [
        "# Use independent to move part of the batch shape\n",
        "\n",
        "ind_normal_distributions = tfd.Independent(normal_distributions,\n",
        "    reinterpreted_batch_ndims=1)\n",
        "ind_normal_distributions"
      ],
      "execution_count": null,
      "outputs": [
        {
          "output_type": "execute_result",
          "data": {
            "text/plain": [
              "<tfp.distributions.Independent 'IndependentMultivariateNormalDiag' batch_shape=[2] event_shape=[2, 3] dtype=float32>"
            ]
          },
          "metadata": {
            "tags": []
          },
          "execution_count": 79
        }
      ]
    },
    {
      "cell_type": "code",
      "metadata": {
        "id": "GiSB2njrJLKz",
        "colab": {
          "base_uri": "https://localhost:8080/"
        },
        "outputId": "86533aba-1459-4049-ceb9-f0cdcf374dea"
      },
      "source": [
        "# Draw some samples\n",
        "\n",
        "samples = ind_normal_distributions.sample(5)\n",
        "samples.shape"
      ],
      "execution_count": null,
      "outputs": [
        {
          "output_type": "execute_result",
          "data": {
            "text/plain": [
              "TensorShape([5, 2, 2, 3])"
            ]
          },
          "metadata": {
            "tags": []
          },
          "execution_count": 80
        }
      ]
    },
    {
      "cell_type": "code",
      "metadata": {
        "id": "teW-jV5pJLKz",
        "colab": {
          "base_uri": "https://localhost:8080/"
        },
        "outputId": "b29ed3d4-063c-4793-9650-cac306e2350e"
      },
      "source": [
        "# `[B, E]` shaped input\n",
        "\n",
        "inp = tf.random.uniform((2, 2, 3))\n",
        "ind_normal_distributions.log_prob(inp)"
      ],
      "execution_count": null,
      "outputs": [
        {
          "output_type": "execute_result",
          "data": {
            "text/plain": [
              "<tf.Tensor: shape=(2,), dtype=float32, numpy=array([ -9.972503, -79.31763 ], dtype=float32)>"
            ]
          },
          "metadata": {
            "tags": []
          },
          "execution_count": 81
        }
      ]
    },
    {
      "cell_type": "code",
      "metadata": {
        "id": "-LocUCT8JLKz",
        "colab": {
          "base_uri": "https://localhost:8080/"
        },
        "outputId": "006bfbab-8656-4a64-9949-22551c6c2052"
      },
      "source": [
        "# `[E]` shaped input (broadcasting over batch size)\n",
        "\n",
        "inp = tf.random.uniform((2, 3))\n",
        "ind_normal_distributions.log_prob(inp)"
      ],
      "execution_count": null,
      "outputs": [
        {
          "output_type": "execute_result",
          "data": {
            "text/plain": [
              "<tf.Tensor: shape=(2,), dtype=float32, numpy=array([-10.361068, -62.800606], dtype=float32)>"
            ]
          },
          "metadata": {
            "tags": []
          },
          "execution_count": 82
        }
      ]
    },
    {
      "cell_type": "code",
      "metadata": {
        "id": "N6b8ZCvpJLKz",
        "colab": {
          "base_uri": "https://localhost:8080/"
        },
        "outputId": "5636caa4-829e-4bb0-f537-32769b2b9ca7"
      },
      "source": [
        "#`[S, B, E]` shaped input (broadcasting over samples)\n",
        "\n",
        "inp = tf.random.uniform((9, 2, 2, 3))\n",
        "ind_normal_distributions.log_prob(inp)"
      ],
      "execution_count": null,
      "outputs": [
        {
          "output_type": "execute_result",
          "data": {
            "text/plain": [
              "<tf.Tensor: shape=(9, 2), dtype=float32, numpy=\n",
              "array([[-13.950086 , -68.69079  ],\n",
              "       [ -9.906842 , -71.77283  ],\n",
              "       [ -8.142899 , -82.05882  ],\n",
              "       [-10.432753 , -77.95     ],\n",
              "       [-11.895942 , -76.499794 ],\n",
              "       [ -7.7473826, -81.03106  ],\n",
              "       [-11.761821 , -72.116394 ],\n",
              "       [ -7.7904015, -63.01294  ],\n",
              "       [-12.579253 , -65.729385 ]], dtype=float32)>"
            ]
          },
          "metadata": {
            "tags": []
          },
          "execution_count": 83
        }
      ]
    },
    {
      "cell_type": "code",
      "metadata": {
        "id": "Ryrf_It7JLKz",
        "colab": {
          "base_uri": "https://localhost:8080/"
        },
        "outputId": "a547642f-74a4-448a-ec28-f1cb1c43af7f"
      },
      "source": [
        "# `[S, b, e]` shaped input, where [b, e] is broadcastable over [B, E]\n",
        "\n",
        "inp = tf.random.uniform((5, 1, 2, 1))\n",
        "ind_normal_distributions.log_prob(inp)"
      ],
      "execution_count": null,
      "outputs": [
        {
          "output_type": "execute_result",
          "data": {
            "text/plain": [
              "<tf.Tensor: shape=(5, 2), dtype=float32, numpy=\n",
              "array([[-12.767345, -89.82634 ],\n",
              "       [ -9.550746, -72.755264],\n",
              "       [-10.905896, -74.463196],\n",
              "       [ -9.349633, -70.987366],\n",
              "       [-10.192288, -81.21526 ]], dtype=float32)>"
            ]
          },
          "metadata": {
            "tags": []
          },
          "execution_count": 84
        }
      ]
    },
    {
      "cell_type": "markdown",
      "metadata": {
        "id": "YVcqtYoWJLK0"
      },
      "source": [
        "#### Naive Bayes example\n",
        "\n",
        "Lets now use what we have learned and continue the Naive Bayes classifier we were building last tutorial."
      ]
    },
    {
      "cell_type": "code",
      "metadata": {
        "id": "CnXUsSdfJLK0"
      },
      "source": [
        "from sklearn.datasets import fetch_20newsgroups\n",
        "from sklearn.feature_extraction.text import CountVectorizer\n",
        "from sklearn.naive_bayes import BernoulliNB\n",
        "from sklearn.metrics import f1_score"
      ],
      "execution_count": null,
      "outputs": []
    },
    {
      "cell_type": "code",
      "metadata": {
        "id": "yIsjVMI8JLK0"
      },
      "source": [
        "# Making a function get_data which:\n",
        "#   1) Fetches the 20 newsgroup dataset\n",
        "#   2) Performs a word count on the articles and binarizes the result\n",
        "#   3) Returns the data as a numpy matrix with the labels\n",
        "\n",
        "def get_data(categories):\n",
        "    \n",
        "    newsgroups_train_data = fetch_20newsgroups(\n",
        "        data_home='20_Newsgroup_Data/',\n",
        "        subset='train', categories=categories)\n",
        "    newsgroups_test_data = fetch_20newsgroups(\n",
        "        data_home='20_Newsgroup_Data/',\n",
        "        subset='test', categories=categories)\n",
        "\n",
        "    n_documents = len(newsgroups_train_data['data'])\n",
        "    count_vectorizer = CountVectorizer(input='content', \n",
        "        binary=True, max_df=0.25, min_df=1.01/n_documents)\n",
        "    \n",
        "    train_binary_bag_of_words = count_vectorizer.fit_transform(\n",
        "        newsgroups_train_data['data'])\n",
        "    test_binary_bag_of_words = count_vectorizer.transform(\n",
        "        newsgroups_test_data['data']) \n",
        "\n",
        "    return (train_binary_bag_of_words.todense(), \n",
        "            newsgroups_train_data['target']), \\\n",
        "        (test_binary_bag_of_words.todense(), \n",
        "            newsgroups_test_data['target'])"
      ],
      "execution_count": null,
      "outputs": []
    },
    {
      "cell_type": "code",
      "metadata": {
        "id": "onf8ZtxWJLK0"
      },
      "source": [
        "# Defining a function to conduct Laplace smoothing. This adds a base \n",
        "# level of probability for a given feature to occur in every class.\n",
        "\n",
        "def laplace_smoothing(labels, binary_data, n_classes):\n",
        "    # Compute the parameter estimates (adjusted fraction of documents \n",
        "    # in class that contain word)\n",
        "    n_words = binary_data.shape[1]\n",
        "    alpha = 1 # parameters for Laplace smoothing\n",
        "    # stores parameter values - prob. word given class\n",
        "    theta = np.zeros([n_classes, n_words])\n",
        "    for c_k in range(n_classes): # 0, 1, ..., 19\n",
        "        class_mask = (labels == c_k)\n",
        "        N = class_mask.sum() # number of articles in class\n",
        "        theta[c_k, :] = (binary_data[class_mask, :].sum(axis=0) \n",
        "            + alpha)/(N + alpha*2)\n",
        "\n",
        "    return theta"
      ],
      "execution_count": null,
      "outputs": []
    },
    {
      "cell_type": "code",
      "metadata": {
        "id": "qIA2vpaUJLK0"
      },
      "source": [
        "# Getting a subset of the 20 newsgroup dataset\n",
        "\n",
        "categories = ['alt.atheism', 'talk.religion.misc', 'comp.graphics', \n",
        "    'sci.space']\n",
        "\n",
        "(train_data, train_labels), (test_data, test_labels) = get_data(\n",
        "    categories=categories)\n",
        "smoothed_counts = laplace_smoothing(labels=train_labels, \n",
        "    binary_data=train_data, n_classes=len(categories))"
      ],
      "execution_count": null,
      "outputs": []
    },
    {
      "cell_type": "markdown",
      "metadata": {
        "id": "NGn2-shtJLK0"
      },
      "source": [
        "To now make our NB classifier we need to build three functions:\n",
        "* Compute the class priors\n",
        "* Build our class conditional distributions\n",
        "* Put it all together and classify our data"
      ]
    },
    {
      "cell_type": "code",
      "metadata": {
        "id": "9hcV-kivJLK0"
      },
      "source": [
        "# Function which computes the prior probability of every class \n",
        "# based on frequency of occurence in the dataset\n",
        "\n",
        "def class_priors(n_classes, labels):\n",
        "    counts = np.zeros(n_classes)\n",
        "    for c_k in range(n_classes):\n",
        "        counts[c_k] = np.sum(np.where(labels==c_k, 1, 0))\n",
        "    priors = counts / np.sum(counts)\n",
        "    print('The class priors are {}'.format(priors))\n",
        "    return priors"
      ],
      "execution_count": null,
      "outputs": []
    },
    {
      "cell_type": "code",
      "metadata": {
        "id": "h01029SdJLK0",
        "colab": {
          "base_uri": "https://localhost:8080/"
        },
        "outputId": "8bfac4d2-7490-4db7-9f6d-4f68fffd3580"
      },
      "source": [
        "# Run the function \n",
        "\n",
        "priors = class_priors(n_classes=len(categories), labels=train_labels)"
      ],
      "execution_count": null,
      "outputs": [
        {
          "output_type": "stream",
          "text": [
            "The class priors are [0.2359882  0.28711898 0.29154376 0.18534907]\n"
          ],
          "name": "stdout"
        }
      ]
    },
    {
      "cell_type": "code",
      "metadata": {
        "id": "HkIjtvYZJLK0",
        "colab": {
          "base_uri": "https://localhost:8080/"
        },
        "outputId": "ca05cf2c-f9f5-4725-f047-55ca83ee59d6"
      },
      "source": [
        "# Now we will do a function that given the feature occurence counts \n",
        "# returns a Bernoulli distribution of batch_shape=number of classes \n",
        "# and event_shape=number of features.\n",
        "\n",
        "def make_distribution(probs):\n",
        "    batch_of_bernoullis = tfd.Bernoulli(probs=probs)\n",
        "    dist = tfd.Independent(batch_of_bernoullis,\n",
        "        reinterpreted_batch_ndims=1)\n",
        "    \n",
        "    return dist\n",
        "\n",
        "tf_dist = make_distribution(smoothed_counts)\n",
        "tf_dist"
      ],
      "execution_count": null,
      "outputs": [
        {
          "output_type": "execute_result",
          "data": {
            "text/plain": [
              "<tfp.distributions.Independent 'IndependentBernoulli' batch_shape=[4] event_shape=[17495] dtype=int32>"
            ]
          },
          "metadata": {
            "tags": []
          },
          "execution_count": 91
        }
      ]
    },
    {
      "cell_type": "code",
      "metadata": {
        "id": "_1Mg4hfqJLK0"
      },
      "source": [
        "# The final function predict_sample which given the distribution, \n",
        "#  a test sample, and the class priors:\n",
        "#   1) Computes the class conditional probabilities given the sample\n",
        "#   2) Forms the joint likelihood\n",
        "#   3) Normalises the joint likelihood and returns the log prob\n",
        "\n",
        "def predict_sample(dist, sample, priors):\n",
        "    cond_probs = dist.log_prob(sample)\n",
        "    joint_likelihood = tf.add(np.log(priors), cond_probs)\n",
        "    norm_factor = tf.math.reduce_logsumexp(joint_likelihood, \n",
        "        axis=-1, keepdims=True)\n",
        "    log_prob = joint_likelihood - norm_factor\n",
        "    \n",
        "    return log_prob"
      ],
      "execution_count": null,
      "outputs": []
    },
    {
      "cell_type": "markdown",
      "metadata": {
        "id": "MUXTlNViJLK0"
      },
      "source": [
        "#### Computing log_probs"
      ]
    },
    {
      "cell_type": "code",
      "metadata": {
        "id": "wraE9panJLK0",
        "colab": {
          "base_uri": "https://localhost:8080/"
        },
        "outputId": "dd61fe45-b829-4250-cd97-69fe6ccdfa8b"
      },
      "source": [
        "# Predicting one example from our test data\n",
        "\n",
        "log_probs = predict_sample(tf_dist, test_data[0], priors)\n",
        "log_probs"
      ],
      "execution_count": null,
      "outputs": [
        {
          "output_type": "execute_result",
          "data": {
            "text/plain": [
              "<tf.Tensor: shape=(4,), dtype=float32, numpy=\n",
              "array([-6.1736343e+01, -1.5258789e-05, -1.1620026e+01, -6.3327866e+01],\n",
              "      dtype=float32)>"
            ]
          },
          "metadata": {
            "tags": []
          },
          "execution_count": 93
        }
      ]
    },
    {
      "cell_type": "code",
      "metadata": {
        "id": "QsU1CugjJLK1",
        "colab": {
          "base_uri": "https://localhost:8080/"
        },
        "outputId": "4638672e-1a5b-4218-88aa-662f211fc176"
      },
      "source": [
        "# Loop over our test data and classify.\n",
        "\n",
        "probabilities = []\n",
        "for sample, label in zip(test_data, test_labels):\n",
        "    probabilities.append(tf.exp(\n",
        "        predict_sample(tf_dist, sample, priors)))\n",
        "\n",
        "probabilities = np.asarray(probabilities)\n",
        "predicted_classes = np.argmax(probabilities, axis =-1)\n",
        "print('f1 ', f1_score(\n",
        "    test_labels, predicted_classes, average='macro'))"
      ],
      "execution_count": null,
      "outputs": [
        {
          "output_type": "stream",
          "text": [
            "f1  0.7848499112849504\n"
          ],
          "name": "stdout"
        }
      ]
    },
    {
      "cell_type": "code",
      "metadata": {
        "id": "fbOOfz0lJLK1",
        "colab": {
          "base_uri": "https://localhost:8080/"
        },
        "outputId": "8637c1ac-6fbe-478a-8ec2-b23d502abae8"
      },
      "source": [
        "# Make a Bernoulli Naive Bayes classifier using \n",
        "# sklearn with the same level of alpha smoothing. \n",
        "\n",
        "clf = BernoulliNB(alpha=1)\n",
        "clf.fit(train_data, train_labels)\n",
        "pred = clf.predict(test_data)\n",
        "print('f1 from sklean ', f1_score(test_labels, pred, average='macro'))"
      ],
      "execution_count": null,
      "outputs": [
        {
          "output_type": "stream",
          "text": [
            "f1 from sklean  0.7848499112849504\n"
          ],
          "name": "stdout"
        }
      ]
    },
    {
      "cell_type": "markdown",
      "metadata": {
        "id": "6Z7qN8c-JLK1"
      },
      "source": [
        "***\n",
        "<a id='trainable_distributions'></a>\n",
        "## Trainable Distributions"
      ]
    },
    {
      "cell_type": "code",
      "metadata": {
        "id": "9qthEY0wJLK1",
        "colab": {
          "base_uri": "https://localhost:8080/"
        },
        "outputId": "3ee5dcb6-8641-4e02-e68e-e5be78e53599"
      },
      "source": [
        "import tensorflow as tf\n",
        "import tensorflow_probability as tfp\n",
        "tfd = tfp.distributions\n",
        "\n",
        "normal = tfd.Normal(loc=tf.Variable(0., name='loc'), scale=1.)\n",
        "print(normal.trainable_variables)\n",
        "\n",
        "def nll(x_train):\n",
        "    return -tf.reduce_mean(normal.log_prob(x_train))\n",
        "\n",
        "@tf.function\n",
        "def get_loss_and_grads(x_train):\n",
        "    with tf.GradientTape() as tape:\n",
        "        tape.watch(normal.trainable_variables)\n",
        "        loss = nll(x_train)\n",
        "    grads = tape.gradient(loss, normal.trainable_variables)\n",
        "    return loss, grads\n",
        "\n",
        "optimizer = tf.keras.optimizers.SGD(learning_rate=0.05)\n",
        "\n",
        "num_steps = 10\n",
        "x_samples = tf.random.uniform((1, 100))\n",
        "\n",
        "for _ in range(num_steps):\n",
        "    loss, grads = get_loss_and_grads(x_samples)\n",
        "    optimizer.apply_gradients(zip(grads, normal.trainable_variables))\n",
        "    print(loss.numpy())"
      ],
      "execution_count": null,
      "outputs": [
        {
          "output_type": "stream",
          "text": [
            "(<tf.Variable 'loc:0' shape=() dtype=float32, numpy=0.0>,)\n",
            "1.0584911\n",
            "1.0486425\n",
            "1.0397542\n",
            "1.0317324\n",
            "1.0244929\n",
            "1.0179591\n",
            "1.0120624\n",
            "1.0067407\n",
            "1.0019377\n",
            "0.9976032\n"
          ],
          "name": "stdout"
        }
      ]
    },
    {
      "cell_type": "code",
      "metadata": {
        "id": "Eej3ee7HJLK1"
      },
      "source": [
        "from sklearn.datasets import fetch_20newsgroups\n",
        "from sklearn.feature_extraction.text import CountVectorizer\n",
        "from sklearn.naive_bayes import BernoulliNB\n",
        "from sklearn.metrics import f1_score"
      ],
      "execution_count": null,
      "outputs": []
    },
    {
      "cell_type": "code",
      "metadata": {
        "id": "_s0QgnP0JLK1"
      },
      "source": [
        "# Define an exponential distribution\n",
        "\n",
        "exponential = tfd.Exponential(rate=0.3, name='exp')"
      ],
      "execution_count": null,
      "outputs": []
    },
    {
      "cell_type": "code",
      "metadata": {
        "id": "H1TcnqhaJLK1",
        "colab": {
          "base_uri": "https://localhost:8080/",
          "height": 265
        },
        "outputId": "1ab7bb61-26ef-40cc-90de-525972846b07"
      },
      "source": [
        "# Plot\n",
        "\n",
        "plt.hist(exponential.sample(5000), bins=100, density=True)\n",
        "plt.show()"
      ],
      "execution_count": null,
      "outputs": [
        {
          "output_type": "display_data",
          "data": {
            "image/png": "[encoded data removed]",
            "text/plain": [
              "<Figure size 432x288 with 1 Axes>"
            ]
          },
          "metadata": {
            "tags": [],
            "needs_background": "light"
          }
        }
      ]
    },
    {
      "cell_type": "code",
      "metadata": {
        "id": "lFUmDFKRJLK1",
        "colab": {
          "base_uri": "https://localhost:8080/"
        },
        "outputId": "2aa3a1db-f4e2-4948-dda1-1fff9dc7f209"
      },
      "source": [
        "# Define an exponential distribution with a trainable rate parameter\n",
        "\n",
        "exp_train = tfd.Exponential(rate=tf.Variable(1., name='rate'),\n",
        "    name='exp_train')\n",
        "exp_train.trainable_variables"
      ],
      "execution_count": null,
      "outputs": [
        {
          "output_type": "execute_result",
          "data": {
            "text/plain": [
              "(<tf.Variable 'rate:0' shape=() dtype=float32, numpy=1.0>,)"
            ]
          },
          "metadata": {
            "tags": []
          },
          "execution_count": 100
        }
      ]
    },
    {
      "cell_type": "code",
      "metadata": {
        "id": "4lzIjnCvJLK1"
      },
      "source": [
        "# Define the negative log likelihood\n",
        "\n",
        "def nll(x_train, distribution):\n",
        "    return -tf.reduce_mean(distribution.log_prob(x_train))"
      ],
      "execution_count": null,
      "outputs": []
    },
    {
      "cell_type": "code",
      "metadata": {
        "id": "Xe2cHl_iJLK1"
      },
      "source": [
        "# Define a function to compute the loss and gradients\n",
        "\n",
        "@tf.function\n",
        "def get_loss_and_grads(x_train, distribution):\n",
        "    with tf.GradientTape() as tape:\n",
        "        tape.watch(distribution.trainable_variables)\n",
        "        loss = nll(x_train, distribution)\n",
        "        grads = tape.gradient(loss, distribution.trainable_variables)\n",
        "    return loss, grads"
      ],
      "execution_count": null,
      "outputs": []
    },
    {
      "cell_type": "code",
      "metadata": {
        "id": "irDLjfGqJLK1"
      },
      "source": [
        "# Optimize\n",
        "\n",
        "def exponential_dist_optimisation(data, distribution):\n",
        "\n",
        "    # Keep results for plotting\n",
        "    train_loss_results = []\n",
        "    train_rate_results = []\n",
        "    \n",
        "    optimizer = tf.keras.optimizers.SGD(learning_rate=0.05)\n",
        "\n",
        "    num_steps = 10\n",
        "\n",
        "    for i in range(num_steps):\n",
        "        loss, grads = get_loss_and_grads(data, distribution)\n",
        "        optimizer.apply_gradients(\n",
        "            zip(grads, distribution.trainable_variables))\n",
        "        \n",
        "        rate_value = distribution.rate.value()\n",
        "        train_loss_results.append(loss)\n",
        "        train_rate_results.append(rate_value)\n",
        "        \n",
        "        print(\"Step {:03d}: Loss: {:.3f}: Rate: {:.3f}\".format(\n",
        "            i, loss, rate_value))\n",
        "        \n",
        "    return train_loss_results, train_rate_results"
      ],
      "execution_count": null,
      "outputs": []
    },
    {
      "cell_type": "code",
      "metadata": {
        "id": "9yc-G3FVJLK1",
        "colab": {
          "base_uri": "https://localhost:8080/"
        },
        "outputId": "137ad3e0-fa2a-480f-8291-5a58145d1d73"
      },
      "source": [
        "# Get some data and train\n",
        "\n",
        "sampled_data = exponential.sample(5000)\n",
        "train_loss_results, train_rate_results = exponential_dist_optimisation(\n",
        "    data=sampled_data, distribution=exp_train)"
      ],
      "execution_count": null,
      "outputs": [
        {
          "output_type": "stream",
          "text": [
            "Step 000: Loss: 3.385: Rate: 0.881\n",
            "Step 001: Loss: 3.108: Rate: 0.768\n",
            "Step 002: Loss: 2.864: Rate: 0.664\n",
            "Step 003: Loss: 2.657: Rate: 0.570\n",
            "Step 004: Loss: 2.492: Rate: 0.489\n",
            "Step 005: Loss: 2.370: Rate: 0.422\n",
            "Step 006: Loss: 2.291: Rate: 0.371\n",
            "Step 007: Loss: 2.247: Rate: 0.337\n",
            "Step 008: Loss: 2.228: Rate: 0.316\n",
            "Step 009: Loss: 2.222: Rate: 0.305\n"
          ],
          "name": "stdout"
        }
      ]
    },
    {
      "cell_type": "code",
      "metadata": {
        "id": "_tP7oL4qJLK1",
        "colab": {
          "base_uri": "https://localhost:8080/"
        },
        "outputId": "27668164-5423-4b50-ff37-2115e66354b0"
      },
      "source": [
        "# Predicted value for the rate parameter\n",
        "\n",
        "pred_value = exp_train.rate.numpy()\n",
        "exact_value = exponential.rate.numpy()\n",
        "\n",
        "print(\"Exact rate: \", exact_value)\n",
        "print(\"Pred rate:  \", pred_value)"
      ],
      "execution_count": null,
      "outputs": [
        {
          "output_type": "stream",
          "text": [
            "Exact rate:  0.3\n",
            "Pred rate:   0.30490255\n"
          ],
          "name": "stdout"
        }
      ]
    },
    {
      "cell_type": "code",
      "metadata": {
        "id": "9GKaAO4YJLK1",
        "colab": {
          "base_uri": "https://localhost:8080/",
          "height": 558
        },
        "outputId": "4b85b087-5dc4-4149-f8fe-6faee6726ab1"
      },
      "source": [
        "# Plot to see the convergence of the estimated and true parameters\n",
        "\n",
        "tensor_exact_value = tf.constant(exact_value, shape=[len(train_rate_results)])\n",
        "\n",
        "fig, axes = plt.subplots(2, sharex=True, figsize=(12, 8))\n",
        "fig.suptitle('Convergence')\n",
        "\n",
        "axes[0].set_ylabel(\"Loss\", fontsize=14)\n",
        "axes[0].plot(train_loss_results)\n",
        "\n",
        "axes[1].set_ylabel(\"Rate\", fontsize=14)\n",
        "axes[1].set_xlabel(\"Epoch\", fontsize=14)\n",
        "axes[1].plot(train_rate_results, label='trainable rate variable')\n",
        "axes[1].plot(tensor_exact_value, label='exact rate')\n",
        "axes[1].legend()\n",
        "plt.show()"
      ],
      "execution_count": null,
      "outputs": [
        {
          "output_type": "display_data",
          "data": {
            "image/png": "[encoded data removed]",
            "text/plain": [
              "<Figure size 864x576 with 2 Axes>"
            ]
          },
          "metadata": {
            "tags": [],
            "needs_background": "light"
          }
        }
      ]
    },
    {
      "cell_type": "code",
      "metadata": {
        "id": "7XH7EXK2JLK2"
      },
      "source": [
        "# Making a function get_data which:\n",
        "#   1) Fetches the 20 newsgroup dataset\n",
        "#   2) Performs a word count on the articles and binarizes the result\n",
        "#   3) Returns the data as a numpy matrix with the labels\n",
        "\n",
        "def get_data(categories):\n",
        "\n",
        "    newsgroups_train_data = fetch_20newsgroups(\n",
        "        data_home='20_Newsgroup_Data/', subset='train', \n",
        "        categories=categories)\n",
        "    newsgroups_test_data = fetch_20newsgroups(\n",
        "        data_home='20_Newsgroup_Data/', subset='test', \n",
        "        categories=categories)\n",
        "\n",
        "    n_documents = len(newsgroups_train_data['data'])\n",
        "    count_vectorizer = CountVectorizer(input='content', binary=True, \n",
        "        max_df=0.25, min_df=1.01/n_documents) \n",
        "    train_binary_bag_of_words = count_vectorizer.fit_transform(\n",
        "        newsgroups_train_data['data']) \n",
        "    test_binary_bag_of_words = count_vectorizer.transform(\n",
        "        newsgroups_test_data['data']) \n",
        "\n",
        "    return (train_binary_bag_of_words.todense(), \n",
        "            newsgroups_train_data['target']), \\\n",
        "        (test_binary_bag_of_words.todense(), \n",
        "             newsgroups_test_data['target'])"
      ],
      "execution_count": null,
      "outputs": []
    },
    {
      "cell_type": "code",
      "metadata": {
        "id": "mg2az00_JLK2"
      },
      "source": [
        "# Defining a function to conduct laplace smoothing. This adds a base \n",
        "# level of probability for a given feature to occur in every class.\n",
        "\n",
        "def laplace_smoothing(labels, binary_data, n_classes):\n",
        "    # Compute the parameter estimates (adjusted fraction of documents \n",
        "    # in class that contain word)\n",
        "    n_words = binary_data.shape[1]\n",
        "    alpha = 1 # parameters for Laplace smoothing\n",
        "    theta = np.zeros([n_classes, n_words]) # stores parameter values - prob. word given class\n",
        "    for c_k in range(n_classes): # 0, 1, ..., 19\n",
        "        class_mask = (labels == c_k)\n",
        "        N = class_mask.sum() # number of articles in class\n",
        "        theta[c_k, :] = (binary_data[class_mask, :].sum(axis=0) \n",
        "            + alpha)/(N + alpha*2)\n",
        "\n",
        "    return theta"
      ],
      "execution_count": null,
      "outputs": []
    },
    {
      "cell_type": "code",
      "metadata": {
        "id": "elqEeSxBJLK2"
      },
      "source": [
        "# Now we will do a function that given the feature occurence counts \n",
        "# returns a Bernoulli distribution of batch_shape=number of classes \n",
        "# and event_shape=number of features.\n",
        "\n",
        "def make_distributions(probs):\n",
        "    # shape (n_classes, n_words)\n",
        "    batch_of_bernoullis = tfd.Bernoulli(probs=probs)\n",
        "    dist = tfd.Independent(batch_of_bernoullis, \n",
        "        reinterpreted_batch_ndims=1)\n",
        "    return dist"
      ],
      "execution_count": null,
      "outputs": []
    },
    {
      "cell_type": "code",
      "metadata": {
        "id": "v3hnXUNRJLK2"
      },
      "source": [
        "# Function which computes the prior probability of every class \n",
        "# based on frequency of occurence in the dataset\n",
        "\n",
        "def class_priors(n_classes, labels):\n",
        "    counts = np.zeros(n_classes)\n",
        "    for c_k in range(n_classes):\n",
        "        counts[c_k] = np.sum(np.where(labels==c_k, 1, 0))\n",
        "    priors = counts / np.sum(counts)\n",
        "    print('The class priors are {}'.format(priors))\n",
        "    return priors"
      ],
      "execution_count": null,
      "outputs": []
    },
    {
      "cell_type": "code",
      "metadata": {
        "id": "JwDcgouFJLK2"
      },
      "source": [
        "# The final function predict_sample which given the distribution, \n",
        "# a test sample, and the class priors:\n",
        "#   1) Computes the class conditional probabilities given the sample\n",
        "#   2) Forms the joint likelihood\n",
        "#   3) Normalises the joint likelihood and returns the log prob\n",
        "\n",
        "def predict_sample(dist, sample, priors):\n",
        "    cond_probs = dist.log_prob(sample)\n",
        "    joint_likelihood = tf.add(np.log(priors), cond_probs)\n",
        "    norm_factor = tf.math.reduce_logsumexp(joint_likelihood, \n",
        "        axis=-1, keepdims=True)\n",
        "    log_prob = joint_likelihood - norm_factor\n",
        "\n",
        "    return log_prob"
      ],
      "execution_count": null,
      "outputs": []
    },
    {
      "cell_type": "code",
      "metadata": {
        "id": "7iRIpHceJLK2"
      },
      "source": [
        "# Now we learn the distribution using gradient tape\n",
        "\n",
        "def make_distribution_withGT(data, labels, nb_classes):\n",
        "\n",
        "    class_data = []\n",
        "    train_vars = []\n",
        "    distributions = []\n",
        "    for c in range(nb_classes):\n",
        "        train_vars.append(tf.Variable(initial_value=np.random.uniform(\n",
        "            low=0.01, high=0.1, size=data.shape[-1])))\n",
        "        distributions.append(tfd.Bernoulli(probs=train_vars[c]))\n",
        "        class_mask = (labels == c)\n",
        "        class_data.append(data[class_mask, :])\n",
        "\n",
        "    for c_num in range(0,nb_classes):\n",
        "        optimizer = tf.keras.optimizers.Adam()\n",
        "        print('\\n%-------------------%')\n",
        "        print('Class ', c_num)\n",
        "        print('%-------------------%')\n",
        "\n",
        "        for i in range(0,100):\n",
        "            loss, grads = get_loss_and_grads(class_data[c_num],\n",
        "                distributions[c_num])\n",
        "            if(i%10==0):\n",
        "                print(\"iter: {} loss: {}\".format(i, loss))\n",
        "            optimizer.apply_gradients(zip(grads, \n",
        "                distributions[c_num].trainable_variables))\n",
        "            eta = 1e-3\n",
        "            clipped_probs = tf.clip_by_value(\n",
        "                distributions[c_num].trainable_variables, \n",
        "                clip_value_min=eta, clip_value_max=1)\n",
        "            train_vars[c_num] = tf.squeeze(clipped_probs)\n",
        "            \n",
        "    dist = tfd.Bernoulli(probs=train_vars)\n",
        "    dist = tfd.Independent(dist,reinterpreted_batch_ndims=1)\n",
        "\n",
        "    print(dist)\n",
        "\n",
        "    return dist"
      ],
      "execution_count": null,
      "outputs": []
    },
    {
      "cell_type": "code",
      "metadata": {
        "id": "aqtk2Zm6JLK2",
        "colab": {
          "base_uri": "https://localhost:8080/"
        },
        "outputId": "b134ecce-e526-455a-b7e3-ea5818e4209b"
      },
      "source": [
        "# Make the same Naive Bayes classifier we did last tutorial\n",
        "\n",
        "categories = ['alt.atheism', 'talk.religion.misc', \n",
        "    'comp.graphics', 'sci.space']\n",
        "\n",
        "(train_data, train_labels), (test_data, test_labels) = get_data(\n",
        "    categories)\n",
        "\n",
        "smoothed_counts = laplace_smoothing(labels=train_labels, \n",
        "    binary_data=train_data, n_classes=len(categories))\n",
        "\n",
        "priors = class_priors(n_classes=len(categories), labels=train_labels)\n",
        "tf_dist = make_distributions(smoothed_counts)"
      ],
      "execution_count": null,
      "outputs": [
        {
          "output_type": "stream",
          "text": [
            "The class priors are [0.2359882  0.28711898 0.29154376 0.18534907]\n"
          ],
          "name": "stdout"
        }
      ]
    },
    {
      "cell_type": "code",
      "metadata": {
        "id": "C5xEZDrWJLK2",
        "colab": {
          "base_uri": "https://localhost:8080/"
        },
        "outputId": "d2ce64e6-1d43-45f0-f5da-973d532cfdb2"
      },
      "source": [
        "# Now train the distributions with gradient tape\n",
        "\n",
        "GT_dist = make_distribution_withGT(data=train_data, \n",
        "    labels=train_labels, nb_classes=4)"
      ],
      "execution_count": null,
      "outputs": [
        {
          "output_type": "stream",
          "text": [
            "\n",
            "%-------------------%\n",
            "Class  0\n",
            "%-------------------%\n",
            "iter: 0 loss: 0.07902118553995806\n",
            "iter: 10 loss: 0.06963405523435504\n",
            "iter: 20 loss: 0.0608918949856193\n",
            "iter: 30 loss: 0.05280232907149842\n",
            "iter: 40 loss: 0.04531444360073686\n",
            "iter: 50 loss: 0.038378888070808095\n",
            "iter: 60 loss: 0.031958745063159995\n",
            "iter: 70 loss: 0.026020157848342787\n",
            "iter: 80 loss: 0.020530468789498553\n",
            "iter: 90 loss: 0.015433514738799906\n",
            "\n",
            "%-------------------%\n",
            "Class  1\n",
            "%-------------------%\n",
            "iter: 0 loss: 0.07153375532236596\n",
            "iter: 10 loss: 0.06221416573349597\n",
            "iter: 20 loss: 0.05343760927299277\n",
            "iter: 30 loss: 0.04527117494789355\n",
            "iter: 40 loss: 0.03769632026771998\n",
            "iter: 50 loss: 0.030690184418246468\n",
            "iter: 60 loss: 0.02422364519361238\n",
            "iter: 70 loss: 0.018255199269862615\n",
            "iter: 80 loss: 0.012753119626395833\n",
            "iter: 90 loss: 0.007662130580477463\n",
            "\n",
            "%-------------------%\n",
            "Class  2\n",
            "%-------------------%\n",
            "iter: 0 loss: 0.0786312311779793\n",
            "iter: 10 loss: 0.06951153062442243\n",
            "iter: 20 loss: 0.06110314541587953\n",
            "iter: 30 loss: 0.05342565583629309\n",
            "iter: 40 loss: 0.046438346240193\n",
            "iter: 50 loss: 0.040084629936340606\n",
            "iter: 60 loss: 0.034356973409932566\n",
            "iter: 70 loss: 0.029225191220468055\n",
            "iter: 80 loss: 0.02461574858119787\n",
            "iter: 90 loss: 0.020472846529098702\n",
            "\n",
            "%-------------------%\n",
            "Class  3\n",
            "%-------------------%\n",
            "iter: 0 loss: 0.07955792482290645\n",
            "iter: 10 loss: 0.07030623933463814\n",
            "iter: 20 loss: 0.061701889559887625\n",
            "iter: 30 loss: 0.05373139867204619\n",
            "iter: 40 loss: 0.046338181659233445\n",
            "iter: 50 loss: 0.03949233395070636\n",
            "iter: 60 loss: 0.033150770160246396\n",
            "iter: 70 loss: 0.02727274974649232\n",
            "iter: 80 loss: 0.02180244980636655\n",
            "iter: 90 loss: 0.016688894935262523\n",
            "tfp.distributions.Independent(\"IndependentBernoulli\", batch_shape=[4], event_shape=[17495], dtype=int32)\n"
          ],
          "name": "stdout"
        }
      ]
    },
    {
      "cell_type": "code",
      "metadata": {
        "id": "d100cO00JLK2",
        "colab": {
          "base_uri": "https://localhost:8080/"
        },
        "outputId": "3b877236-c19d-411c-a6e2-1deb470efa39"
      },
      "source": [
        "# Compare the two results\n",
        "\n",
        "for dist in [GT_dist,tf_dist]:\n",
        "    probabilities = []\n",
        "    for sample, label in zip(test_data, test_labels):\n",
        "        probabilities.append(predict_sample(dist, sample, priors))\n",
        "\n",
        "    probabilities = np.asarray(probabilities)\n",
        "    predicted_classes = np.argmax(probabilities, axis =-1)\n",
        "    print('f1 ', f1_score(test_labels, predicted_classes, average='macro'))"
      ],
      "execution_count": null,
      "outputs": [
        {
          "output_type": "stream",
          "text": [
            "f1  0.8261879834832313\n",
            "f1  0.7848499112849504\n"
          ],
          "name": "stdout"
        }
      ]
    }
  ]
}