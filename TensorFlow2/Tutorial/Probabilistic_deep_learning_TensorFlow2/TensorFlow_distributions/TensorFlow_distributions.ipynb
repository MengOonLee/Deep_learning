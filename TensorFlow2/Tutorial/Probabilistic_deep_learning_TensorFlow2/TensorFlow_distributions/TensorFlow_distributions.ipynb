{
  "nbformat": 4,
  "nbformat_minor": 0,
  "metadata": {
    "kernelspec": {
      "display_name": "Python 3",
      "language": "python",
      "name": "python3"
    },
    "language_info": {
      "codemirror_mode": {
        "name": "ipython",
        "version": 3
      },
      "file_extension": ".py",
      "mimetype": "text/x-python",
      "name": "python",
      "nbconvert_exporter": "python",
      "pygments_lexer": "ipython3",
      "version": "3.7.1"
    },
    "colab": {
      "name": "TensorFlow_distributions.ipynb",
      "provenance": [],
      "include_colab_link": true
    }
  },
  "cells": [
    {
      "cell_type": "markdown",
      "metadata": {
        "id": "view-in-github",
        "colab_type": "text"
      },
      "source": [
        "<a href=\"https://colab.research.google.com/github/MengOonLee/Deep_learning/blob/master/TensorFlow2/Tutorial/Probabilistic_deep_learning_TensorFlow2/TensorFlow_distributions/TensorFlow_distributions.ipynb\" target=\"_parent\"><img src=\"https://colab.research.google.com/assets/colab-badge.svg\" alt=\"Open In Colab\"/></a>"
      ]
    },
    {
      "cell_type": "code",
      "metadata": {
        "id": "bHvmVk2QJLKn",
        "colab": {
          "base_uri": "https://localhost:8080/"
        },
        "outputId": "1e3fdea1-55bb-4424-bf92-7750d5a5d4cd"
      },
      "source": [
        "import tensorflow as tf\n",
        "import tensorflow_probability as tfp\n",
        "tfd = tfp.distributions\n",
        "\n",
        "print(\"TF version:\", tf.__version__)\n",
        "print(\"TFP version:\", tfp.__version__)"
      ],
      "execution_count": 1,
      "outputs": [
        {
          "output_type": "stream",
          "name": "stdout",
          "text": [
            "TF version: 2.8.0\n",
            "TFP version: 0.16.0\n"
          ]
        }
      ]
    },
    {
      "cell_type": "code",
      "metadata": {
        "id": "qtwQEWmUJLKp"
      },
      "source": [
        "# Additional imports and setting fixed random seed to have reproducibility\n",
        "\n",
        "import warnings\n",
        "warnings.filterwarnings('ignore')\n",
        "\n",
        "%matplotlib inline\n",
        "%config InlineBackend.figure_format = 'retina'\n",
        "import matplotlib.pyplot as plt\n",
        "\n",
        "import seaborn as sns\n",
        "sns.set_style('whitegrid')\n",
        "sns.set(font='DejaVu Sans')\n",
        "\n",
        "import numpy as np\n",
        "tf.random.set_seed(123)"
      ],
      "execution_count": 2,
      "outputs": []
    },
    {
      "cell_type": "markdown",
      "metadata": {
        "id": "pw4DfEfnJLKp"
      },
      "source": [
        "# Tensorflow Distributions"
      ]
    },
    {
      "cell_type": "markdown",
      "metadata": {
        "id": "AMCzcN1-JLKp"
      },
      "source": [
        "## Coding Tutorials\n",
        "#### 1. [Univariate Distributions](#univariate_distributions)\n",
        "#### 2. [Multivariate Distributions](#multivariate_distributions)\n",
        "#### 3. [The Independent Distribution](#the_independent_distribution)\n",
        "#### 4. [Sampling and log probs](#sampling_and_log_probs)\n",
        "#### 5. [Trainable Distributions](#trainable_distributions)"
      ]
    },
    {
      "cell_type": "markdown",
      "metadata": {
        "id": "qM53TAYMJLKp"
      },
      "source": [
        "***\n",
        "## Univariate distributions\n",
        "<a id='univariate_distributions'></a>"
      ]
    },
    {
      "cell_type": "code",
      "metadata": {
        "id": "DQOqFgpSJLKp",
        "colab": {
          "base_uri": "https://localhost:8080/"
        },
        "outputId": "a89d0429-7b7b-424a-b9bf-ef66ad89a74a"
      },
      "source": [
        "import tensorflow as tf\n",
        "import tensorflow_probability as tfp\n",
        "tfd = tfp.distributions\n",
        "\n",
        "normal = tfd.Normal(loc=0., scale=1.)\n",
        "print(normal)\n",
        "print(normal.sample())\n",
        "print(normal.sample(3))\n",
        "print(normal.prob(0.5))\n",
        "print(normal.log_prob(0.5))"
      ],
      "execution_count": null,
      "outputs": [
        {
          "output_type": "stream",
          "name": "stdout",
          "text": [
            "tfp.distributions.Normal(\"Normal\", batch_shape=[], event_shape=[], dtype=float32)\n",
            "tf.Tensor(0.2548821, shape=(), dtype=float32)\n",
            "tf.Tensor([-0.15900978  1.14447     1.91564   ], shape=(3,), dtype=float32)\n",
            "tf.Tensor(0.35206532, shape=(), dtype=float32)\n",
            "tf.Tensor(-1.0439385, shape=(), dtype=float32)\n"
          ]
        }
      ]
    },
    {
      "cell_type": "code",
      "source": [
        "import tensorflow_probability as tfp\n",
        "tfd = tfp.distributions\n",
        "batched_normal = tfd.Normal(loc=[-0.8, 0., 1.9], scale=[1.25, 0.6, 2.8])\n",
        "batched_normal.sample(2)"
      ],
      "metadata": {
        "colab": {
          "base_uri": "https://localhost:8080/"
        },
        "id": "GhsgKsVjmVBx",
        "outputId": "8642f6c7-20bf-41bc-962b-1b6dec7923d6"
      },
      "execution_count": null,
      "outputs": [
        {
          "output_type": "execute_result",
          "data": {
            "text/plain": [
              "<tf.Tensor: shape=(2, 3), dtype=float32, numpy=\n",
              "array([[-2.4914215 , -0.18018919, -0.18525994],\n",
              "       [-2.7171965 , -0.9568408 ,  0.9292603 ]], dtype=float32)>"
            ]
          },
          "metadata": {},
          "execution_count": 7
        }
      ]
    },
    {
      "cell_type": "code",
      "metadata": {
        "id": "o3L4oQTWJLKq",
        "colab": {
          "base_uri": "https://localhost:8080/"
        },
        "outputId": "d8ea2c19-3404-4d6c-f915-7cff7feca544"
      },
      "source": [
        "bernoulli = tfd.Bernoulli(probs=0.7)\n",
        "print(bernoulli)\n",
        "\n",
        "bernouli = tfd.Bernoulli(logits=0.847)\n",
        "print(\"\\n\", bernouli)\n",
        "print(bernoulli.sample(3))\n",
        "print(bernoulli.prob(1))\n",
        "print(bernoulli.log_prob(1))\n",
        "\n",
        "batched_bernoulli = tfd.Bernoulli(probs=[0.4, 0.5])\n",
        "print(\"\\n\", batched_bernoulli)\n",
        "print(batched_bernoulli.batch_shape)\n",
        "print(batched_bernoulli.sample(3))\n",
        "print(batched_bernoulli.prob([1, 1]))\n",
        "print(batched_bernoulli.log_prob([1, 1]))"
      ],
      "execution_count": null,
      "outputs": [
        {
          "output_type": "stream",
          "name": "stdout",
          "text": [
            "tfp.distributions.Bernoulli(\"Bernoulli\", batch_shape=[], event_shape=[], dtype=int32)\n",
            "\n",
            " tfp.distributions.Bernoulli(\"Bernoulli\", batch_shape=[], event_shape=[], dtype=int32)\n",
            "tf.Tensor([1 1 1], shape=(3,), dtype=int32)\n",
            "tf.Tensor(0.7, shape=(), dtype=float32)\n",
            "tf.Tensor(-0.35667497, shape=(), dtype=float32)\n",
            "\n",
            " tfp.distributions.Bernoulli(\"Bernoulli\", batch_shape=[2], event_shape=[], dtype=int32)\n",
            "(2,)\n",
            "tf.Tensor(\n",
            "[[0 0]\n",
            " [0 0]\n",
            " [1 0]], shape=(3, 2), dtype=int32)\n",
            "tf.Tensor([0.4 0.5], shape=(2,), dtype=float32)\n",
            "tf.Tensor([-0.9162907 -0.6931472], shape=(2,), dtype=float32)\n"
          ]
        }
      ]
    },
    {
      "cell_type": "code",
      "metadata": {
        "id": "sjA3baBaJLKq",
        "colab": {
          "base_uri": "https://localhost:8080/"
        },
        "outputId": "60558c9b-60a7-40c6-849c-8f4e215b11f8"
      },
      "source": [
        "# Create a normal distribution from Tensorflow Distributions\n",
        "\n",
        "normal = tfd.Normal(loc=0, scale=1)\n",
        "normal"
      ],
      "execution_count": null,
      "outputs": [
        {
          "output_type": "execute_result",
          "data": {
            "text/plain": [
              "<tfp.distributions.Normal 'Normal' batch_shape=[] event_shape=[] dtype=float32>"
            ]
          },
          "metadata": {},
          "execution_count": 10
        }
      ]
    },
    {
      "cell_type": "code",
      "metadata": {
        "id": "IYMy8zX0JLKq",
        "colab": {
          "base_uri": "https://localhost:8080/"
        },
        "outputId": "66c80ae9-4576-4414-99b4-f9864210d258"
      },
      "source": [
        "# Sample from the chosen distribution...\n",
        "\n",
        "normal.sample()"
      ],
      "execution_count": null,
      "outputs": [
        {
          "output_type": "execute_result",
          "data": {
            "text/plain": [
              "<tf.Tensor: shape=(), dtype=float32, numpy=-0.8980837>"
            ]
          },
          "metadata": {},
          "execution_count": 4
        }
      ]
    },
    {
      "cell_type": "code",
      "metadata": {
        "id": "SIrclC_VJLKq",
        "colab": {
          "base_uri": "https://localhost:8080/"
        },
        "outputId": "0bca3ca3-8061-4142-b547-d144e9d3a8e7"
      },
      "source": [
        "# ... or sample multiple times\n",
        "\n",
        "normal.sample(10)"
      ],
      "execution_count": null,
      "outputs": [
        {
          "output_type": "execute_result",
          "data": {
            "text/plain": [
              "<tf.Tensor: shape=(10,), dtype=float32, numpy=\n",
              "array([ 0.33875433,  0.3449861 , -0.6605785 , -0.2854994 ,  0.43852386,\n",
              "        0.8288566 , -0.53591555, -0.5353483 , -1.0324248 , -2.942705  ],\n",
              "      dtype=float32)>"
            ]
          },
          "metadata": {},
          "execution_count": 5
        }
      ]
    },
    {
      "cell_type": "code",
      "metadata": {
        "id": "tSev8sB1JLKq",
        "colab": {
          "base_uri": "https://localhost:8080/"
        },
        "outputId": "63361f17-cffc-4a67-f910-5f5c0096c166"
      },
      "source": [
        "# Obtain value of probability's density\n",
        "\n",
        "normal.prob(0)"
      ],
      "execution_count": null,
      "outputs": [
        {
          "output_type": "execute_result",
          "data": {
            "text/plain": [
              "<tf.Tensor: shape=(), dtype=float32, numpy=0.3989423>"
            ]
          },
          "metadata": {},
          "execution_count": 6
        }
      ]
    },
    {
      "cell_type": "code",
      "metadata": {
        "id": "aJ8BUG8YJLKq",
        "colab": {
          "base_uri": "https://localhost:8080/"
        },
        "outputId": "ce4a1270-86a8-4b02-c456-717e413eb229"
      },
      "source": [
        "# Obtain value of logprobability\n",
        "\n",
        "normal.log_prob(0)"
      ],
      "execution_count": null,
      "outputs": [
        {
          "output_type": "execute_result",
          "data": {
            "text/plain": [
              "<tf.Tensor: shape=(), dtype=float32, numpy=-0.9189385>"
            ]
          },
          "metadata": {},
          "execution_count": 7
        }
      ]
    },
    {
      "cell_type": "code",
      "metadata": {
        "id": "VTpnQHYPJLKr",
        "colab": {
          "base_uri": "https://localhost:8080/"
        },
        "outputId": "e7afc6c2-8f27-44f4-8d66-2d11b57774f8"
      },
      "source": [
        "# Verify that this really is the log of the probability\n",
        "\n",
        "np.log(normal.prob(0))"
      ],
      "execution_count": null,
      "outputs": [
        {
          "output_type": "execute_result",
          "data": {
            "text/plain": [
              "-0.9189385"
            ]
          },
          "metadata": {},
          "execution_count": 8
        }
      ]
    },
    {
      "cell_type": "code",
      "metadata": {
        "id": "QxD0yv7uJLKr",
        "colab": {
          "base_uri": "https://localhost:8080/",
          "height": 268
        },
        "outputId": "cae1a18c-7679-4dcf-ebb7-f677fdb7fc36"
      },
      "source": [
        "# Plot a histogram, approximating the density\n",
        "\n",
        "plt.hist(normal.sample(10000), bins=100, density=True)\n",
        "plt.show()"
      ],
      "execution_count": null,
      "outputs": [
        {
          "output_type": "display_data",
          "data": {
            "text/plain": [
              "<Figure size 432x288 with 1 Axes>"
            ],
            "image/png": "[encoded data removed]"
          },
          "metadata": {
            "image/png": {
              "width": 376,
              "height": 251
            }
          }
        }
      ]
    },
    {
      "cell_type": "code",
      "source": [
        "# Do the same for the Bernoulli distribution\n",
        "\n",
        "bernoulli = tfd.Bernoulli(probs=0.7)\n",
        "plt.hist(bernoulli.sample(10000), bins=100, density=True)\n",
        "plt.show()"
      ],
      "metadata": {
        "id": "p6RrfK2f8oxb",
        "outputId": "4d5f99a6-5ca7-475d-dd29-275bbdf34472",
        "colab": {
          "base_uri": "https://localhost:8080/",
          "height": 268
        }
      },
      "execution_count": null,
      "outputs": [
        {
          "output_type": "display_data",
          "data": {
            "text/plain": [
              "<Figure size 432x288 with 1 Axes>"
            ],
            "image/png": "[encoded data removed]"
          },
          "metadata": {
            "image/png": {
              "width": 372,
              "height": 251
            }
          }
        }
      ]
    },
    {
      "cell_type": "code",
      "metadata": {
        "id": "XjLYUyZcJLKr",
        "colab": {
          "base_uri": "https://localhost:8080/",
          "height": 268
        },
        "outputId": "7780c189-f28f-45f8-8ed7-a7f6ae31d163"
      },
      "source": [
        "# Do the same for the exponential distribution\n",
        "\n",
        "exponential = tfd.Exponential(rate=1)\n",
        "plt.hist(exponential.sample(10000), bins=100, density=True)\n",
        "plt.show()"
      ],
      "execution_count": null,
      "outputs": [
        {
          "output_type": "display_data",
          "data": {
            "text/plain": [
              "<Figure size 432x288 with 1 Axes>"
            ],
            "image/png": "[encoded data removed]"
          },
          "metadata": {
            "image/png": {
              "width": 376,
              "height": 251
            }
          }
        }
      ]
    },
    {
      "cell_type": "code",
      "metadata": {
        "id": "FOnOgBUJJLKr",
        "colab": {
          "base_uri": "https://localhost:8080/"
        },
        "outputId": "b26f7075-d539-4b3d-a2c2-111f64adf237"
      },
      "source": [
        "# Sample as before\n",
        "\n",
        "exponential.sample(10)"
      ],
      "execution_count": null,
      "outputs": [
        {
          "output_type": "execute_result",
          "data": {
            "text/plain": [
              "<tf.Tensor: shape=(10,), dtype=float32, numpy=\n",
              "array([0.31796157, 0.9595855 , 0.6190708 , 1.3738598 , 1.6796894 ,\n",
              "       0.40142855, 1.6830153 , 1.78942   , 0.38126466, 0.55283946],\n",
              "      dtype=float32)>"
            ]
          },
          "metadata": {},
          "execution_count": 11
        }
      ]
    },
    {
      "cell_type": "code",
      "metadata": {
        "id": "ARyFsl2CJLKr",
        "colab": {
          "base_uri": "https://localhost:8080/"
        },
        "outputId": "0a50846c-977e-4f31-ead0-871d9b276972"
      },
      "source": [
        "# Create a Bernoulli distribution (discrete)\n",
        "\n",
        "bernoulli = tfd.Bernoulli(probs=0.8)\n",
        "bernoulli.sample(20)"
      ],
      "execution_count": null,
      "outputs": [
        {
          "output_type": "execute_result",
          "data": {
            "text/plain": [
              "<tf.Tensor: shape=(20,), dtype=int32, numpy=\n",
              "array([1, 1, 0, 0, 0, 1, 0, 1, 0, 1, 1, 1, 1, 1, 0, 1, 1, 0, 0, 1],\n",
              "      dtype=int32)>"
            ]
          },
          "metadata": {},
          "execution_count": 12
        }
      ]
    },
    {
      "cell_type": "code",
      "source": [
        "# Plot a histogram, approximating the density\n",
        "\n",
        "plt.hist(bernoulli.sample(10000), bins=100, density=True)\n",
        "plt.show()"
      ],
      "metadata": {
        "id": "zrjXtOrfO3Oh",
        "outputId": "802b8553-10c1-4d47-e24d-a36f220769de",
        "colab": {
          "base_uri": "https://localhost:8080/",
          "height": 268
        }
      },
      "execution_count": null,
      "outputs": [
        {
          "output_type": "display_data",
          "data": {
            "text/plain": [
              "<Figure size 432x288 with 1 Axes>"
            ],
            "image/png": "[encoded data removed]"
          },
          "metadata": {
            "image/png": {
              "width": 372,
              "height": 251
            }
          }
        }
      ]
    },
    {
      "cell_type": "markdown",
      "metadata": {
        "id": "qEl7Xg7kJLKr"
      },
      "source": [
        "#### A word of caution on discrete distributions"
      ]
    },
    {
      "cell_type": "code",
      "metadata": {
        "id": "7hywU7hWJLKr",
        "colab": {
          "base_uri": "https://localhost:8080/"
        },
        "outputId": "e558e69e-2434-40d8-868e-ef5c87111d4e"
      },
      "source": [
        "# Calculate Bernoulli prob and see that 0.5 and -1 do not give the correct probability!\n",
        "\n",
        "for k in [0,0.5,1,-1]:\n",
        "    print('prob result {} for k = {} '.format(bernoulli.prob(k), k))"
      ],
      "execution_count": null,
      "outputs": [
        {
          "output_type": "stream",
          "name": "stdout",
          "text": [
            "prob result 0.19999998807907104 for k = 0 \n",
            "prob result 0.3999999761581421 for k = 0.5 \n",
            "prob result 0.800000011920929 for k = 1 \n",
            "prob result 0.04999999701976776 for k = -1 \n"
          ]
        }
      ]
    },
    {
      "cell_type": "code",
      "metadata": {
        "id": "TpP6ZsAIJLKs"
      },
      "source": [
        "# Replicate the scores to see what is occurring under the hood\n",
        "\n",
        "def my_bernoulli(p_success, k):\n",
        "    return np.power(p_success,k)*np.power((1-p_success),(1-k))"
      ],
      "execution_count": null,
      "outputs": []
    },
    {
      "cell_type": "code",
      "metadata": {
        "id": "2b6BBy20JLKs",
        "colab": {
          "base_uri": "https://localhost:8080/"
        },
        "outputId": "6ab80bdd-51c6-4fa9-fc03-e58736fcd16c"
      },
      "source": [
        "# Evaluate it as before\n",
        "\n",
        "for k in [0,0.5,1,-1]:\n",
        "    print('prob result {} for k = {} '.format(my_bernoulli(p_success=0.8, k=k), k))"
      ],
      "execution_count": null,
      "outputs": [
        {
          "output_type": "stream",
          "name": "stdout",
          "text": [
            "prob result 0.19999999999999996 for k = 0 \n",
            "prob result 0.3999999999999999 for k = 0.5 \n",
            "prob result 0.8 for k = 1 \n",
            "prob result 0.049999999999999975 for k = -1 \n"
          ]
        }
      ]
    },
    {
      "cell_type": "markdown",
      "metadata": {
        "id": "G_wifaAqJLKs"
      },
      "source": [
        "#### Work with batch distributions"
      ]
    },
    {
      "cell_type": "code",
      "metadata": {
        "id": "6TTiltetJLKs",
        "colab": {
          "base_uri": "https://localhost:8080/"
        },
        "outputId": "79812a4e-73c8-45ab-bd9e-cbd131d9310d"
      },
      "source": [
        "# Create a batched Bernoulli distribution\n",
        "\n",
        "bernoulli_batch = tfd.Bernoulli(probs=[0.1, 0.25, 0.5, 0.75, 0.9])\n",
        "bernoulli_batch"
      ],
      "execution_count": null,
      "outputs": [
        {
          "output_type": "execute_result",
          "data": {
            "text/plain": [
              "<tfp.distributions.Bernoulli 'Bernoulli' batch_shape=[5] event_shape=[] dtype=int32>"
            ]
          },
          "metadata": {},
          "execution_count": 10
        }
      ]
    },
    {
      "cell_type": "code",
      "metadata": {
        "id": "EYSE0QPmJLKs",
        "colab": {
          "base_uri": "https://localhost:8080/"
        },
        "outputId": "310a00d8-98bd-4c8c-d642-c214e18cd565"
      },
      "source": [
        "# Sample from it, noting the shape\n",
        "\n",
        "bernoulli_batch.sample(5)"
      ],
      "execution_count": null,
      "outputs": [
        {
          "output_type": "execute_result",
          "data": {
            "text/plain": [
              "<tf.Tensor: shape=(5, 5), dtype=int32, numpy=\n",
              "array([[0, 1, 0, 0, 1],\n",
              "       [0, 0, 0, 1, 1],\n",
              "       [0, 0, 0, 1, 1],\n",
              "       [0, 0, 1, 1, 1],\n",
              "       [0, 0, 0, 1, 1]], dtype=int32)>"
            ]
          },
          "metadata": {},
          "execution_count": 11
        }
      ]
    },
    {
      "cell_type": "code",
      "metadata": {
        "id": "M5wSGXOsJLKs",
        "colab": {
          "base_uri": "https://localhost:8080/"
        },
        "outputId": "affd1cdf-c27f-4b1f-ecf6-605cb8e7c923"
      },
      "source": [
        "# Use a batch shape with higher rank\n",
        "\n",
        "probs = [[[0.5, 0.5], \n",
        "          [0.8, 0.3], \n",
        "          [0.25, 0.75]]]\n",
        "bernoulli_batch_2D = tfd.Bernoulli(probs=probs)\n",
        "bernoulli_batch_2D"
      ],
      "execution_count": null,
      "outputs": [
        {
          "output_type": "execute_result",
          "data": {
            "text/plain": [
              "<tfp.distributions.Bernoulli 'Bernoulli' batch_shape=[1, 3, 2] event_shape=[] dtype=int32>"
            ]
          },
          "metadata": {},
          "execution_count": 12
        }
      ]
    },
    {
      "cell_type": "code",
      "metadata": {
        "id": "whMhG6NLJLKs",
        "colab": {
          "base_uri": "https://localhost:8080/"
        },
        "outputId": "ef2fb64c-71fc-43a8-8521-a7c5ea628b6e"
      },
      "source": [
        "# Sample from this batch of distributions\n",
        "\n",
        "bernoulli_batch_2D.sample(5)"
      ],
      "execution_count": null,
      "outputs": [
        {
          "output_type": "execute_result",
          "data": {
            "text/plain": [
              "<tf.Tensor: shape=(5, 1, 3, 2), dtype=int32, numpy=\n",
              "array([[[[0, 0],\n",
              "         [1, 1],\n",
              "         [1, 1]]],\n",
              "\n",
              "\n",
              "       [[[0, 0],\n",
              "         [1, 0],\n",
              "         [0, 1]]],\n",
              "\n",
              "\n",
              "       [[[0, 0],\n",
              "         [1, 0],\n",
              "         [0, 1]]],\n",
              "\n",
              "\n",
              "       [[[0, 0],\n",
              "         [1, 1],\n",
              "         [0, 1]]],\n",
              "\n",
              "\n",
              "       [[[0, 1],\n",
              "         [1, 0],\n",
              "         [1, 1]]]], dtype=int32)>"
            ]
          },
          "metadata": {},
          "execution_count": 13
        }
      ]
    },
    {
      "cell_type": "code",
      "metadata": {
        "id": "kGA0tAB9JLKs",
        "colab": {
          "base_uri": "https://localhost:8080/"
        },
        "outputId": "224da2b3-3a6e-4f88-e310-4f42dbbcd27e"
      },
      "source": [
        "# Determine probabilities from this batch distribution\n",
        "\n",
        "bernoulli_batch_2D.prob([[[1, 0], \n",
        "                         [0, 0], \n",
        "                         [1, 1]]])"
      ],
      "execution_count": null,
      "outputs": [
        {
          "output_type": "execute_result",
          "data": {
            "text/plain": [
              "<tf.Tensor: shape=(1, 3, 2), dtype=float32, numpy=\n",
              "array([[[0.5       , 0.5       ],\n",
              "        [0.19999999, 0.7       ],\n",
              "        [0.25      , 0.75      ]]], dtype=float32)>"
            ]
          },
          "metadata": {},
          "execution_count": 14
        }
      ]
    },
    {
      "cell_type": "markdown",
      "metadata": {
        "id": "AQ2MT5mfJLKs"
      },
      "source": [
        "***\n",
        "<a id='multivariate_distributions'></a>\n",
        "## Multivariate Distributions\n"
      ]
    },
    {
      "cell_type": "code",
      "metadata": {
        "id": "koA2XJm2JLKs",
        "colab": {
          "base_uri": "https://localhost:8080/"
        },
        "outputId": "cc91ec52-50a7-48ef-c001-ee96041147c6"
      },
      "source": [
        "import tensorflow as tf\n",
        "import tensorflow_probability as tfp\n",
        "tfd = tfp.distributions\n",
        "\n",
        "mv_normal = tfd.MultivariateNormalDiag(\n",
        "    loc=[-1., 0.5], scale_diag=[1., 1.5])\n",
        "print(mv_normal)\n",
        "print(mv_normal.event_shape)\n",
        "print(mv_normal.sample(3))\n",
        "print(mv_normal.log_prob([-0.2, 1.8]))"
      ],
      "execution_count": null,
      "outputs": [
        {
          "output_type": "stream",
          "name": "stdout",
          "text": [
            "tfp.distributions.MultivariateNormalDiag(\"MultivariateNormalDiag\", batch_shape=[], event_shape=[2], dtype=float32)\n",
            "(2,)\n",
            "tf.Tensor(\n",
            "[[-2.5527053  -0.37686348]\n",
            " [-1.2047702   0.9566108 ]\n",
            " [-2.666495    1.5396085 ]], shape=(3, 2), dtype=float32)\n",
            "tf.Tensor(-2.9388978, shape=(), dtype=float32)\n"
          ]
        }
      ]
    },
    {
      "cell_type": "code",
      "metadata": {
        "id": "Ns1OEyCtJLKs",
        "colab": {
          "base_uri": "https://localhost:8080/"
        },
        "outputId": "27552552-f015-4900-e18f-bd72a8ff5d92"
      },
      "source": [
        "batched_normal = tfd.Normal(loc=[-1., 0.5], scale=[1., 1.5])\n",
        "print(batched_normal)\n",
        "print(batched_normal.sample(3))\n",
        "print(batched_normal.log_prob([-0.2, 1.8]))"
      ],
      "execution_count": null,
      "outputs": [
        {
          "output_type": "stream",
          "name": "stdout",
          "text": [
            "tfp.distributions.Normal(\"Normal\", batch_shape=[2], event_shape=[], dtype=float32)\n",
            "tf.Tensor(\n",
            "[[-1.7114489  -1.2469982 ]\n",
            " [-0.5888289   0.87927115]\n",
            " [-2.4869425   1.2380619 ]], shape=(3, 2), dtype=float32)\n",
            "tf.Tensor([-1.2389386 -1.699959 ], shape=(2,), dtype=float32)\n"
          ]
        }
      ]
    },
    {
      "cell_type": "code",
      "metadata": {
        "id": "2kKZZGuzJLKt",
        "colab": {
          "base_uri": "https://localhost:8080/"
        },
        "outputId": "805a564e-48ba-4b1d-cd00-a67eda523a31"
      },
      "source": [
        "batched_mv_normal = tfd.MultivariateNormalDiag(\n",
        "    loc=[[-1., 0.5], [2., 0.], [-0.5, 1.5]],\n",
        "    scale_diag=[[1., 1.5], [2., 0.5], [1., 1.]])\n",
        "print(batched_mv_normal)\n",
        "print(batched_mv_normal.sample(2))"
      ],
      "execution_count": null,
      "outputs": [
        {
          "output_type": "stream",
          "name": "stdout",
          "text": [
            "tfp.distributions.MultivariateNormalDiag(\"MultivariateNormalDiag\", batch_shape=[3], event_shape=[2], dtype=float32)\n",
            "tf.Tensor(\n",
            "[[[-2.0040107   0.07609653]\n",
            "  [ 5.974818   -0.6994035 ]\n",
            "  [ 0.05347824  0.63103175]]\n",
            "\n",
            " [[-2.4489522   1.3019043 ]\n",
            "  [ 0.95407605 -0.7685489 ]\n",
            "  [-0.8493643   2.0287406 ]]], shape=(2, 3, 2), dtype=float32)\n"
          ]
        }
      ]
    },
    {
      "cell_type": "code",
      "source": [
        "import tensorflow as tf\n",
        "import tensorflow_probability as tfp\n",
        "tfd = tfp.distributions\n",
        "\n",
        "batched_mv_normal = tfd.MultivariateNormalDiag(\n",
        "    loc=[[0.3, 0.8, 1.1], [2.3, -0.3, -1.]],\n",
        "    scale_diag=[[1.5, 1., 0.4], [2.5, 1.5, 0.5]])\n",
        "print(batched_mv_normal)\n",
        "print(batched_mv_normal.log_prob([0., -1., 1.]))"
      ],
      "metadata": {
        "id": "9qSOZ_s8823I",
        "outputId": "84a477c9-b897-4290-fcca-0a118a5fd741",
        "colab": {
          "base_uri": "https://localhost:8080/"
        }
      },
      "execution_count": null,
      "outputs": [
        {
          "output_type": "stream",
          "name": "stdout",
          "text": [
            "tfp.distributions.MultivariateNormalDiag(\"MultivariateNormalDiag\", batch_shape=[2], event_shape=[3], dtype=float32)\n",
            "tf.Tensor([ -3.9172401 -11.917513 ], shape=(2,), dtype=float32)\n"
          ]
        }
      ]
    },
    {
      "cell_type": "markdown",
      "metadata": {
        "id": "RtmUT-aiJLKt"
      },
      "source": [
        "#### Basic multivariate distributions"
      ]
    },
    {
      "cell_type": "code",
      "metadata": {
        "id": "Wx17KA4RJLKt",
        "colab": {
          "base_uri": "https://localhost:8080/"
        },
        "outputId": "364b0d9b-541f-4359-fb0e-88bd5c819ff0"
      },
      "source": [
        "# Define 2D multivariate Gaussian with diagonal covariance matrix\n",
        "\n",
        "normal_diag = tfd.MultivariateNormalDiag(\n",
        "    loc=[0, 1], scale_diag=[1, 2])\n",
        "normal_diag"
      ],
      "execution_count": null,
      "outputs": [
        {
          "output_type": "execute_result",
          "data": {
            "text/plain": [
              "<tfp.distributions.MultivariateNormalDiag 'MultivariateNormalDiag' batch_shape=[] event_shape=[2] dtype=float32>"
            ]
          },
          "metadata": {},
          "execution_count": 5
        }
      ]
    },
    {
      "cell_type": "code",
      "metadata": {
        "id": "ohd8UT8bJLKt",
        "colab": {
          "base_uri": "https://localhost:8080/"
        },
        "outputId": "b95c67b3-2238-48c3-8501-ad511df4947f"
      },
      "source": [
        "# Sample from it\n",
        "\n",
        "normal_diag.sample(10)"
      ],
      "execution_count": null,
      "outputs": [
        {
          "output_type": "execute_result",
          "data": {
            "text/plain": [
              "<tf.Tensor: shape=(10, 2), dtype=float32, numpy=\n",
              "array([[-0.30583796,  2.373655  ],\n",
              "       [ 0.1505477 , -1.0007048 ],\n",
              "       [ 0.3320727 , -1.0498343 ],\n",
              "       [-0.29854062,  4.028576  ],\n",
              "       [ 0.5110671 , -0.14100456],\n",
              "       [-1.5528204 ,  2.3301203 ],\n",
              "       [ 0.3162822 ,  0.06013983],\n",
              "       [-0.81161356,  3.261205  ],\n",
              "       [ 0.10818883,  1.7148066 ],\n",
              "       [-0.32564807, -1.331557  ]], dtype=float32)>"
            ]
          },
          "metadata": {},
          "execution_count": 6
        }
      ]
    },
    {
      "cell_type": "code",
      "metadata": {
        "id": "y0LGjSIpJLKt",
        "colab": {
          "base_uri": "https://localhost:8080/",
          "height": 268
        },
        "outputId": "5f3aa490-927f-49ec-d8ed-5a72117dd2d7"
      },
      "source": [
        "# Make a plot\n",
        "\n",
        "plt_sample = normal_diag.sample(10000)\n",
        "plt.scatter(plt_sample[:, 0], plt_sample[:, 1], marker='.', alpha=0.05)\n",
        "plt.axis('equal')\n",
        "plt.show()"
      ],
      "execution_count": null,
      "outputs": [
        {
          "output_type": "display_data",
          "data": {
            "image/png": "[encoded data removed]",
            "text/plain": [
              "<Figure size 432x288 with 1 Axes>"
            ]
          },
          "metadata": {
            "image/png": {
              "width": 385,
              "height": 251
            }
          }
        }
      ]
    },
    {
      "cell_type": "code",
      "metadata": {
        "id": "JE26RDwoJLKt",
        "colab": {
          "base_uri": "https://localhost:8080/",
          "height": 268
        },
        "outputId": "b65a65a4-56f4-4211-a2d0-99837e5c6d97"
      },
      "source": [
        "normal_diag = tfd.MultivariateNormalDiag(\n",
        "    loc=[0, 1], scale_diag=[1, 20])\n",
        "plt_sample = normal_diag.sample(10000)\n",
        "plt.scatter(plt_sample[:, 0], plt_sample[:, 1], marker='.', alpha=0.05)\n",
        "plt.axis('equal')\n",
        "plt.show()"
      ],
      "execution_count": null,
      "outputs": [
        {
          "output_type": "display_data",
          "data": {
            "image/png": "[encoded data removed]",
            "text/plain": [
              "<Figure size 432x288 with 1 Axes>"
            ]
          },
          "metadata": {
            "image/png": {
              "width": 381,
              "height": 251
            }
          }
        }
      ]
    },
    {
      "cell_type": "markdown",
      "metadata": {
        "id": "dgR0w3M1JLKt"
      },
      "source": [
        "#### Batches of multivariate distributions"
      ]
    },
    {
      "cell_type": "code",
      "metadata": {
        "id": "KXIyKemKJLKt",
        "colab": {
          "base_uri": "https://localhost:8080/"
        },
        "outputId": "a943ad61-7ed0-4a63-f6c0-ae62a1e8e75d"
      },
      "source": [
        "# Create three \"batches\" of multivariate normals\n",
        "\n",
        "normal_diag_batch = tfd.MultivariateNormalDiag(\n",
        "    loc=[[0, 0], [0, 0], [0, 0]],\n",
        "    scale_diag=[[1, 2], [2, 1], [2, 2]])\n",
        "normal_diag_batch"
      ],
      "execution_count": null,
      "outputs": [
        {
          "output_type": "execute_result",
          "data": {
            "text/plain": [
              "<tfp.distributions.MultivariateNormalDiag 'MultivariateNormalDiag' batch_shape=[3] event_shape=[2] dtype=float32>"
            ]
          },
          "metadata": {},
          "execution_count": 17
        }
      ]
    },
    {
      "cell_type": "code",
      "metadata": {
        "id": "tgvfW-WhJLKt",
        "colab": {
          "base_uri": "https://localhost:8080/"
        },
        "outputId": "2ac784c0-bd85-4e77-8e5d-39dc69a25224"
      },
      "source": [
        "# Sample from it\n",
        "\n",
        "samples = normal_diag_batch.sample(5)\n",
        "samples"
      ],
      "execution_count": null,
      "outputs": [
        {
          "output_type": "execute_result",
          "data": {
            "text/plain": [
              "<tf.Tensor: shape=(5, 3, 2), dtype=float32, numpy=\n",
              "array([[[-0.25055045,  3.20367   ],\n",
              "        [-0.16129418,  1.6900092 ],\n",
              "        [ 1.3925455 ,  0.8765621 ]],\n",
              "\n",
              "       [[-0.02178756,  1.4314214 ],\n",
              "        [-1.6163409 ,  1.4445796 ],\n",
              "        [ 0.6375263 , -0.30178973]],\n",
              "\n",
              "       [[-1.0427645 , -0.7854517 ],\n",
              "        [-2.2349977 , -0.5531866 ],\n",
              "        [ 2.1859207 ,  1.9198587 ]],\n",
              "\n",
              "       [[-1.836093  ,  3.6875417 ],\n",
              "        [ 2.9774365 , -0.3327268 ],\n",
              "        [ 3.6215873 ,  2.954134  ]],\n",
              "\n",
              "       [[-0.8985954 , -3.751107  ],\n",
              "        [ 1.9368321 , -0.7125852 ],\n",
              "        [ 0.73187786,  3.1459255 ]]], dtype=float32)>"
            ]
          },
          "metadata": {},
          "execution_count": 18
        }
      ]
    },
    {
      "cell_type": "code",
      "metadata": {
        "id": "7VAHptl9JLKt",
        "colab": {
          "base_uri": "https://localhost:8080/"
        },
        "outputId": "67662b1f-c721-4e62-e72c-491c363c19c6"
      },
      "source": [
        "# Compute log probs\n",
        "\n",
        "normal_diag_batch.log_prob(samples)"
      ],
      "execution_count": null,
      "outputs": [
        {
          "output_type": "execute_result",
          "data": {
            "text/plain": [
              "<tf.Tensor: shape=(5, 3), dtype=float32, numpy=\n",
              "array([[-3.8453496, -3.9623418, -3.5626144],\n",
              "       [-2.7873826, -3.900999 , -3.286361 ],\n",
              "       [-3.15182  , -3.308434 , -4.2821846],\n",
              "       [-5.916388 , -3.6945188, -5.9545217],\n",
              "       [-4.6936116, -3.253828 , -4.528233 ]], dtype=float32)>"
            ]
          },
          "metadata": {},
          "execution_count": 19
        }
      ]
    },
    {
      "cell_type": "code",
      "metadata": {
        "id": "hZD0qvQAJLKt",
        "colab": {
          "base_uri": "https://localhost:8080/"
        },
        "outputId": "16048bf2-c314-4206-88fd-0e4de20af118"
      },
      "source": [
        "# Create a sample for a plot -- notice the shape\n",
        "\n",
        "plt_sample_batch =normal_diag_batch.sample(10000)\n",
        "plt_sample_batch.shape"
      ],
      "execution_count": null,
      "outputs": [
        {
          "output_type": "execute_result",
          "data": {
            "text/plain": [
              "TensorShape([10000, 3, 2])"
            ]
          },
          "metadata": {},
          "execution_count": 20
        }
      ]
    },
    {
      "cell_type": "code",
      "metadata": {
        "id": "pLfbrjV7JLKt",
        "colab": {
          "base_uri": "https://localhost:8080/",
          "height": 229
        },
        "outputId": "0296cabf-4690-4e7f-fb31-a490f9f1b2db"
      },
      "source": [
        "# Plot samples from the batched multivariate Gaussian\n",
        "\n",
        "fig, axs = (plt.subplots(1, 3, sharex=True, sharey=True, figsize=(10, 3)))\n",
        "titles = ['cov_diag=[1, 2]', 'cov_diag=[2, 1]', 'cov_diag=[2, 2]']\n",
        "\n",
        "for i, (ax, title) in enumerate(zip(axs, titles)):\n",
        "    samples = plt_sample_batch[:, i, :] # take the ith batch [samples x event_shape]\n",
        "    ax.scatter(samples[:, 0], samples[:, 1], marker='.', alpha=0.05)\n",
        "    ax.set_title(title)\n",
        "plt.show()"
      ],
      "execution_count": null,
      "outputs": [
        {
          "output_type": "display_data",
          "data": {
            "image/png": "[encoded data removed]",
            "text/plain": [
              "<Figure size 720x216 with 3 Axes>"
            ]
          },
          "metadata": {
            "image/png": {
              "width": 608,
              "height": 212
            }
          }
        }
      ]
    },
    {
      "cell_type": "markdown",
      "metadata": {
        "id": "XFiLf_F6JLKu"
      },
      "source": [
        "\n",
        "\n",
        "***\n",
        "<a id='the_independent_distribution'></a>\n",
        "## The Independent Distribution"
      ]
    },
    {
      "cell_type": "code",
      "metadata": {
        "id": "0f0S6VwuJLKu",
        "colab": {
          "base_uri": "https://localhost:8080/"
        },
        "outputId": "b3419fdc-a20f-4004-d31f-0970109d4eef"
      },
      "source": [
        "import tensorflow as tf\n",
        "import tensorflow_probability as tfp\n",
        "tfd = tfp.distributions\n",
        "\n",
        "mv_normal = tfd.MultivariateNormalDiag(\n",
        "    loc=[-1., 0.5], scale_diag=[1., 1.5])\n",
        "print(mv_normal)\n",
        "print(mv_normal.log_prob([-0.2, 1.8]))"
      ],
      "execution_count": null,
      "outputs": [
        {
          "output_type": "stream",
          "name": "stdout",
          "text": [
            "tfp.distributions.MultivariateNormalDiag(\"MultivariateNormalDiag\", batch_shape=[], event_shape=[2], dtype=float32)\n",
            "tf.Tensor(-2.9388978, shape=(), dtype=float32)\n"
          ]
        }
      ]
    },
    {
      "cell_type": "code",
      "metadata": {
        "id": "nQlSsGDuJLKu",
        "colab": {
          "base_uri": "https://localhost:8080/"
        },
        "outputId": "45cb76ae-aa18-4ef3-a20f-bfc3ef445a28"
      },
      "source": [
        "batched_normal = tfd.Normal(\n",
        "    loc=[-1., 0.5], scale=[1., 1.5])\n",
        "print(batched_normal)\n",
        "print(batched_normal.log_prob([-0.2, 1.8]))"
      ],
      "execution_count": null,
      "outputs": [
        {
          "output_type": "stream",
          "name": "stdout",
          "text": [
            "tfp.distributions.Normal(\"Normal\", batch_shape=[2], event_shape=[], dtype=float32)\n",
            "tf.Tensor([-1.2389386 -1.699959 ], shape=(2,), dtype=float32)\n"
          ]
        }
      ]
    },
    {
      "cell_type": "code",
      "metadata": {
        "id": "fwV0oMBYJLKu",
        "colab": {
          "base_uri": "https://localhost:8080/"
        },
        "outputId": "90354909-6a82-47c1-96a9-c3e6506a15f5"
      },
      "source": [
        "batched_normal = tfd.Normal(loc=[-1., 0.5], scale=[1., 1.5])\n",
        "\n",
        "independent_normal = tfd.Independent(batched_normal, \n",
        "    reinterpreted_batch_ndims=1)\n",
        "print(independent_normal)\n",
        "print(independent_normal.log_prob([-0.2, 1.8]))"
      ],
      "execution_count": null,
      "outputs": [
        {
          "output_type": "stream",
          "name": "stdout",
          "text": [
            "tfp.distributions.Independent(\"IndependentNormal\", batch_shape=[], event_shape=[2], dtype=float32)\n",
            "tf.Tensor(-2.9388976, shape=(), dtype=float32)\n"
          ]
        }
      ]
    },
    {
      "cell_type": "code",
      "source": [
        "batched_normal = tfd.Normal(\n",
        "    loc=[[-1., 0.5], [0., 1.], [0.3, -0.1]],\n",
        "    scale=[[1., 1.5], [0.2, 0.8], [2., 1.]])\n",
        "print(batched_normal)\n",
        "\n",
        "independent_normal = tfd.Independent(batched_normal)\n",
        "print(independent_normal)"
      ],
      "metadata": {
        "id": "wwHzPjQPJLKu",
        "outputId": "ae93b0d1-75f8-448c-8aca-aec6bb6e4511",
        "colab": {
          "base_uri": "https://localhost:8080/"
        }
      },
      "execution_count": null,
      "outputs": [
        {
          "output_type": "stream",
          "name": "stdout",
          "text": [
            "tfp.distributions.Normal(\"Normal\", batch_shape=[3, 2], event_shape=[], dtype=float32)\n",
            "WARNING:tensorflow:From /usr/local/lib/python3.7/dist-packages/tensorflow_probability/python/distributions/distribution.py:342: calling _Independent.__init__ (from tensorflow_probability.python.distributions.independent) with reinterpreted_batch_ndims=None is deprecated and will be removed after 2022-03-01.\n",
            "Instructions for updating:\n",
            "Please pass an integer value for `reinterpreted_batch_ndims`. The current behavior corresponds to `reinterpreted_batch_ndims=tf.size(distribution.batch_shape_tensor()) - 1`.\n",
            "tfp.distributions.Independent(\"IndependentNormal\", batch_shape=[3], event_shape=[2], dtype=float32)\n"
          ]
        }
      ]
    },
    {
      "cell_type": "code",
      "source": [
        "independent_normal = tfd.Independent(batched_normal, \n",
        "    reinterpreted_batch_ndims=1)\n",
        "print(independent_normal)"
      ],
      "metadata": {
        "id": "QaUQD2-Z-k6U",
        "outputId": "31044d6e-3084-4769-9b5f-432711a0b2a4",
        "colab": {
          "base_uri": "https://localhost:8080/"
        }
      },
      "execution_count": null,
      "outputs": [
        {
          "output_type": "stream",
          "name": "stdout",
          "text": [
            "tfp.distributions.Independent(\"IndependentNormal\", batch_shape=[3], event_shape=[2], dtype=float32)\n"
          ]
        }
      ]
    },
    {
      "cell_type": "code",
      "source": [
        "independent_normal = tfd.Independent(batched_normal, \n",
        "    reinterpreted_batch_ndims=2)\n",
        "print(independent_normal)"
      ],
      "metadata": {
        "colab": {
          "base_uri": "https://localhost:8080/"
        },
        "id": "4uumISd-KgG_",
        "outputId": "22f0a7f7-b8c4-4e2d-dc2c-c1f5b17ccbf6"
      },
      "execution_count": null,
      "outputs": [
        {
          "output_type": "stream",
          "name": "stdout",
          "text": [
            "tfp.distributions.Independent(\"IndependentNormal\", batch_shape=[], event_shape=[3, 2], dtype=float32)\n"
          ]
        }
      ]
    },
    {
      "cell_type": "code",
      "source": [
        "import tensorflow_probability as tfp\n",
        "tfd = tfp.distributions\n",
        "\n",
        "probs = 0.5 * tf.ones((2, 4, 5))\n",
        "print(probs.shape)\n",
        "dist = tfd.Independent(tfd.Bernoulli(probs=probs))\n",
        "print(dist)\n",
        "dist.log_prob(np.zeros((4, 5)))"
      ],
      "metadata": {
        "colab": {
          "base_uri": "https://localhost:8080/"
        },
        "id": "GUOiBj8zK24d",
        "outputId": "d7e1c8fb-cc53-4622-e2dd-cb863a962c99"
      },
      "execution_count": null,
      "outputs": [
        {
          "output_type": "stream",
          "name": "stdout",
          "text": [
            "(2, 4, 5)\n",
            "tfp.distributions.Independent(\"IndependentBernoulli\", batch_shape=[2], event_shape=[4, 5], dtype=int32)\n"
          ]
        },
        {
          "output_type": "execute_result",
          "data": {
            "text/plain": [
              "<tf.Tensor: shape=(2,), dtype=float32, numpy=array([-13.862944, -13.862944], dtype=float32)>"
            ]
          },
          "metadata": {},
          "execution_count": 21
        }
      ]
    },
    {
      "cell_type": "code",
      "metadata": {
        "id": "3-3-NQsgJLKu"
      },
      "source": [
        "# Start by defining a batch of two univariate Gaussians, then\n",
        "# combine them into a bivariate Gaussian with independent components\n",
        "\n",
        "locs = [-1., 1]\n",
        "scales = [0.5, 1.]\n",
        "batch_of_normals = tfd.Normal(loc=locs, scale=scales)"
      ],
      "execution_count": null,
      "outputs": []
    },
    {
      "cell_type": "code",
      "metadata": {
        "id": "N49F__eJJLKu",
        "colab": {
          "base_uri": "https://localhost:8080/",
          "height": 408
        },
        "outputId": "6d37d16c-9511-4de6-81a9-1e7fae7c18d9"
      },
      "source": [
        "# Univariate density functions\n",
        "\n",
        "t = np.linspace(-4, 4, 10000)\n",
        "print(t.shape)\n",
        "# each column is a vector of densities for one distn\n",
        "densities = batch_of_normals.prob(np.repeat(t[:, np.newaxis], 2, axis=1))\n",
        "print(densities.shape)\n",
        "\n",
        "sns.lineplot(t, densities[:, 0], label='loc={}, scale={}'.format(locs[0], scales[0]))\n",
        "sns.lineplot(t, densities[:, 1], label='loc={}, scale={}'.format(locs[1], scales[1]))\n",
        "plt.ylabel('Probability density')\n",
        "plt.xlabel('Value')\n",
        "plt.legend()\n",
        "plt.show()"
      ],
      "execution_count": null,
      "outputs": [
        {
          "output_type": "stream",
          "name": "stdout",
          "text": [
            "(10000,)\n",
            "(10000, 2)\n"
          ]
        },
        {
          "output_type": "stream",
          "name": "stderr",
          "text": [
            "/usr/local/lib/python3.7/dist-packages/seaborn/_decorators.py:43: FutureWarning: Pass the following variables as keyword args: x, y. From version 0.12, the only valid positional argument will be `data`, and passing other arguments without an explicit keyword will result in an error or misinterpretation.\n",
            "  FutureWarning\n",
            "/usr/local/lib/python3.7/dist-packages/seaborn/_decorators.py:43: FutureWarning: Pass the following variables as keyword args: x, y. From version 0.12, the only valid positional argument will be `data`, and passing other arguments without an explicit keyword will result in an error or misinterpretation.\n",
            "  FutureWarning\n"
          ]
        },
        {
          "output_type": "display_data",
          "data": {
            "text/plain": [
              "<Figure size 432x288 with 1 Axes>"
            ],
            "image/png": "[encoded data removed]"
          },
          "metadata": {
            "image/png": {
              "width": 392,
              "height": 267
            }
          }
        }
      ]
    },
    {
      "cell_type": "code",
      "metadata": {
        "id": "zcg_x2w-JLKu",
        "colab": {
          "base_uri": "https://localhost:8080/"
        },
        "outputId": "e98752ff-4450-40de-d88b-d8f1c6617298"
      },
      "source": [
        "# Check their batch_shape and event_shape\n",
        "\n",
        "batch_of_normals"
      ],
      "execution_count": null,
      "outputs": [
        {
          "output_type": "execute_result",
          "data": {
            "text/plain": [
              "<tfp.distributions.Normal 'Normal' batch_shape=[2] event_shape=[] dtype=float32>"
            ]
          },
          "metadata": {},
          "execution_count": 25
        }
      ]
    },
    {
      "cell_type": "code",
      "metadata": {
        "id": "XH3S__mNJLKv"
      },
      "source": [
        "# Use Independent to convert the batch shape to the event shape\n",
        "\n",
        "bivariate_normal_from_Independent = tfd.Independent(batch_of_normals,\n",
        "    reinterpreted_batch_ndims=1)"
      ],
      "execution_count": null,
      "outputs": []
    },
    {
      "cell_type": "code",
      "metadata": {
        "id": "bPeQQqwbJLKv",
        "colab": {
          "base_uri": "https://localhost:8080/"
        },
        "outputId": "758cdad7-e7c7-4174-93cf-1f11e6d60dd1"
      },
      "source": [
        "# Note that dimension from batch_shape has shifted to event_shape\n",
        "\n",
        "bivariate_normal_from_Independent"
      ],
      "execution_count": null,
      "outputs": [
        {
          "output_type": "execute_result",
          "data": {
            "text/plain": [
              "<tfp.distributions.Independent 'IndependentNormal' batch_shape=[] event_shape=[2] dtype=float32>"
            ]
          },
          "metadata": {},
          "execution_count": 27
        }
      ]
    },
    {
      "cell_type": "code",
      "metadata": {
        "id": "N8gc6_e6JLKv",
        "colab": {
          "base_uri": "https://localhost:8080/",
          "height": 437
        },
        "outputId": "7098bc9f-0617-4724-e584-1cbe7c9f4c9a"
      },
      "source": [
        "# Create a plot showing joint density contours and marginal density functions\n",
        "\n",
        "samples = bivariate_normal_from_Independent.sample(10000)\n",
        "x1 = samples[:, 0]\n",
        "x2 = samples[:, 1]\n",
        "sns.jointplot(x=x1, y=x2, kind=\"kde\", space=0, color='b', fill=True)\n",
        "plt.show()"
      ],
      "execution_count": null,
      "outputs": [
        {
          "output_type": "display_data",
          "data": {
            "text/plain": [
              "<Figure size 432x432 with 3 Axes>"
            ],
            "image/png": "[encoded data removed]"
          },
          "metadata": {
            "image/png": {
              "width": 419,
              "height": 420
            }
          }
        }
      ]
    },
    {
      "cell_type": "code",
      "metadata": {
        "id": "0E-JyYGqJLKv",
        "colab": {
          "base_uri": "https://localhost:8080/"
        },
        "outputId": "9c569875-26d0-42f3-90d4-9cd346a5748a"
      },
      "source": [
        "# Use MultivariateNormalDiag to create the equivalent distribution\n",
        "# Note that diagonal covariance matrix => no correlation => independence (for the multivariate normal distribution)\n",
        "\n",
        "bivariate_normal_from_Multivariate = tfd.MultivariateNormalDiag(\n",
        "    loc=locs, scale_diag=scales)\n",
        "bivariate_normal_from_Multivariate"
      ],
      "execution_count": null,
      "outputs": [
        {
          "output_type": "execute_result",
          "data": {
            "text/plain": [
              "<tfp.distributions.MultivariateNormalDiag 'MultivariateNormalDiag' batch_shape=[] event_shape=[2] dtype=float32>"
            ]
          },
          "metadata": {},
          "execution_count": 30
        }
      ]
    },
    {
      "cell_type": "code",
      "metadata": {
        "id": "QYxc2F5zJLKv",
        "colab": {
          "base_uri": "https://localhost:8080/",
          "height": 437
        },
        "outputId": "4ce9cf0d-a778-407c-8e8c-602320af7b84"
      },
      "source": [
        "# Plot the joint density function of bivariate_normal_from_Multivariate\n",
        "# Refer back to bivariate_normal_from_Independent to show that the plot is the same\n",
        "# Summarise how Independent has been used\n",
        "\n",
        "samples = bivariate_normal_from_Multivariate.sample(10000)\n",
        "x1 = samples[:, 0]\n",
        "x2 = samples[:, 1]\n",
        "sns.jointplot(x=x1, y=x2, kind=\"kde\", space=0, color='b', fill=True)\n",
        "plt.show()"
      ],
      "execution_count": null,
      "outputs": [
        {
          "output_type": "display_data",
          "data": {
            "text/plain": [
              "<Figure size 432x432 with 3 Axes>"
            ],
            "image/png": "[encoded data removed]"
          },
          "metadata": {
            "image/png": {
              "width": 419,
              "height": 420
            }
          }
        }
      ]
    },
    {
      "cell_type": "markdown",
      "metadata": {
        "id": "hpYsXt25JLKv"
      },
      "source": [
        "#### Shifting batch dimensions to event dimensions using \n",
        "`reinterpreted_batch_ndims`"
      ]
    },
    {
      "cell_type": "code",
      "metadata": {
        "id": "jxK0I0IJJLKv"
      },
      "source": [
        "# Demonstrate use of reinterpreted_batch_ndims\n",
        "# By default all batch dims except the first are transferred to event dims\n",
        "\n",
        "loc_grid = [[-100., -100.],\n",
        "            [100., 100.],\n",
        "            [0., 0.]]\n",
        "scale_grid = [[1., 10.],\n",
        "              [1., 10.],\n",
        "              [1., 1.]]\n",
        "\n",
        "normals_batch_3by2_event_1 = tfd.Normal(loc=loc_grid, scale=scale_grid)"
      ],
      "execution_count": null,
      "outputs": []
    },
    {
      "cell_type": "code",
      "metadata": {
        "id": "rsPqQEsEJLKv",
        "colab": {
          "base_uri": "https://localhost:8080/"
        },
        "outputId": "761569be-ea6d-4eaa-dc07-2aec7109beaf"
      },
      "source": [
        "# Highlight batch_shape\n",
        "\n",
        "normals_batch_3by2_event_1"
      ],
      "execution_count": null,
      "outputs": [
        {
          "output_type": "execute_result",
          "data": {
            "text/plain": [
              "<tfp.distributions.Normal 'Normal' batch_shape=[3, 2] event_shape=[] dtype=float32>"
            ]
          },
          "metadata": {},
          "execution_count": 39
        }
      ]
    },
    {
      "cell_type": "code",
      "metadata": {
        "id": "zu31K4EmJLKw",
        "colab": {
          "base_uri": "https://localhost:8080/"
        },
        "outputId": "8b18b06c-577c-49e5-bbda-3e7e9b3e6c87"
      },
      "source": [
        "# We now have a batch of 3 bivariate normal distributions,\n",
        "# each parametrised by a column of our original parameter grid\n",
        "\n",
        "normals_batch_3_event_2 = tfd.Independent(normals_batch_3by2_event_1)\n",
        "normals_batch_3_event_2"
      ],
      "execution_count": null,
      "outputs": [
        {
          "output_type": "execute_result",
          "data": {
            "text/plain": [
              "<tfp.distributions.Independent 'IndependentNormal' batch_shape=[3] event_shape=[2] dtype=float32>"
            ]
          },
          "metadata": {},
          "execution_count": 40
        }
      ]
    },
    {
      "cell_type": "code",
      "metadata": {
        "id": "kWNHGimoJLKw",
        "colab": {
          "base_uri": "https://localhost:8080/"
        },
        "outputId": "2b58d6dd-edcb-4003-9504-142c36566658"
      },
      "source": [
        "# Evaluate log_prob\n",
        "\n",
        "normals_batch_3_event_2.log_prob(\n",
        "    value=[[-10., 10], [100., 100.], [1., 1.]])"
      ],
      "execution_count": null,
      "outputs": [
        {
          "output_type": "execute_result",
          "data": {
            "text/plain": [
              "<tf.Tensor: shape=(3,), dtype=float32, numpy=array([-4.1146406e+03, -4.1404624e+00, -2.8378770e+00], dtype=float32)>"
            ]
          },
          "metadata": {},
          "execution_count": 41
        }
      ]
    },
    {
      "cell_type": "code",
      "metadata": {
        "id": "o4NIrNCCJLKw",
        "colab": {
          "base_uri": "https://localhost:8080/"
        },
        "outputId": "6c477487-67b2-4426-dfcc-e5b55c906a7c"
      },
      "source": [
        "# Can reinterpret _all_ batch dimensions as event dimensions\n",
        "\n",
        "normals_batch_1_event_3by2 = tfd.Independent(\n",
        "    normals_batch_3by2_event_1, reinterpreted_batch_ndims=2)\n",
        "normals_batch_1_event_3by2"
      ],
      "execution_count": null,
      "outputs": [
        {
          "output_type": "execute_result",
          "data": {
            "text/plain": [
              "<tfp.distributions.Independent 'IndependentNormal' batch_shape=[] event_shape=[3, 2] dtype=float32>"
            ]
          },
          "metadata": {},
          "execution_count": 42
        }
      ]
    },
    {
      "cell_type": "code",
      "metadata": {
        "id": "y-GEWs29JLKw",
        "colab": {
          "base_uri": "https://localhost:8080/"
        },
        "outputId": "dde170a7-28e4-47e3-8307-848e49da7c7e"
      },
      "source": [
        "# Take log_probs \n",
        "\n",
        "normals_batch_1_event_3by2.log_prob(\n",
        "    value=[[-10., 10], [100., 100.], [1., 1.]])"
      ],
      "execution_count": null,
      "outputs": [
        {
          "output_type": "execute_result",
          "data": {
            "text/plain": [
              "<tf.Tensor: shape=(), dtype=float32, numpy=-4121.619>"
            ]
          },
          "metadata": {},
          "execution_count": 43
        }
      ]
    },
    {
      "cell_type": "markdown",
      "metadata": {
        "id": "2f4oTJO6JLKw"
      },
      "source": [
        "#### Using `Independent` to build a Naive Bayes classifier"
      ]
    },
    {
      "cell_type": "markdown",
      "metadata": {
        "id": "seJ_RFmUJLKw"
      },
      "source": [
        "#### Introduction to `newsgroups` data set"
      ]
    },
    {
      "cell_type": "markdown",
      "metadata": {
        "id": "y8VFr04FJLKw"
      },
      "source": [
        "In this tutorial, just load the dataset, fetch train/test splits, probably choose a subset of the data.\n",
        "\n",
        "Construct the class conditional feature distribution (with Independent, using the Naive Bayes assumption) and sample from it.\n",
        "\n",
        "We can just use the ML estimates for parameters, in later tutorials we will learn them."
      ]
    },
    {
      "cell_type": "code",
      "metadata": {
        "id": "5dnZlRsHJLKw"
      },
      "source": [
        "# Convenience function for retrieving the 20 newsgroups data set\n",
        "\n",
        "# Usenet was a forerunner to modern internet forums\n",
        "# Users could post and read articles\n",
        "# Newsgroup corresponded to a topic\n",
        "# Example topics in this data set: IBM computer hardware, baseball\n",
        "# Our objective is to use an article's contents to predict its newsgroup,\n",
        "# a 20-class classification problem.\n",
        "\n",
        "# 18000 newsgroups, posts on 20 topics\n",
        "from sklearn.datasets import fetch_20newsgroups\n",
        "from sklearn.feature_extraction.text import CountVectorizer"
      ],
      "execution_count": null,
      "outputs": []
    },
    {
      "cell_type": "code",
      "metadata": {
        "id": "1wc3dMgcJLKw"
      },
      "source": [
        "# Get the train data\n",
        "\n",
        "newsgroups_data = fetch_20newsgroups(data_home='20_Newsgroup_Data/',\n",
        "    subset='train')"
      ],
      "execution_count": null,
      "outputs": []
    },
    {
      "cell_type": "code",
      "metadata": {
        "id": "fVa9dFbKJLKw",
        "colab": {
          "base_uri": "https://localhost:8080/"
        },
        "outputId": "6b1d1096-3061-4071-cbb7-6f1530a32afb"
      },
      "source": [
        "# More information about the data set\n",
        "\n",
        "print(newsgroups_data['DESCR'])"
      ],
      "execution_count": null,
      "outputs": [
        {
          "output_type": "stream",
          "name": "stdout",
          "text": [
            ".. _20newsgroups_dataset:\n",
            "\n",
            "The 20 newsgroups text dataset\n",
            "------------------------------\n",
            "\n",
            "The 20 newsgroups dataset comprises around 18000 newsgroups posts on\n",
            "20 topics split in two subsets: one for training (or development)\n",
            "and the other one for testing (or for performance evaluation). The split\n",
            "between the train and test set is based upon a messages posted before\n",
            "and after a specific date.\n",
            "\n",
            "This module contains two loaders. The first one,\n",
            ":func:`sklearn.datasets.fetch_20newsgroups`,\n",
            "returns a list of the raw texts that can be fed to text feature\n",
            "extractors such as :class:`~sklearn.feature_extraction.text.CountVectorizer`\n",
            "with custom parameters so as to extract feature vectors.\n",
            "The second one, :func:`sklearn.datasets.fetch_20newsgroups_vectorized`,\n",
            "returns ready-to-use features, i.e., it is not necessary to use a feature\n",
            "extractor.\n",
            "\n",
            "**Data Set Characteristics:**\n",
            "\n",
            "    =================   ==========\n",
            "    Classes                     20\n",
            "    Samples total            18846\n",
            "    Dimensionality               1\n",
            "    Features                  text\n",
            "    =================   ==========\n",
            "\n",
            "Usage\n",
            "~~~~~\n",
            "\n",
            "The :func:`sklearn.datasets.fetch_20newsgroups` function is a data\n",
            "fetching / caching functions that downloads the data archive from\n",
            "the original `20 newsgroups website`_, extracts the archive contents\n",
            "in the ``~/scikit_learn_data/20news_home`` folder and calls the\n",
            ":func:`sklearn.datasets.load_files` on either the training or\n",
            "testing set folder, or both of them::\n",
            "\n",
            "  >>> from sklearn.datasets import fetch_20newsgroups\n",
            "  >>> newsgroups_train = fetch_20newsgroups(subset='train')\n",
            "\n",
            "  >>> from pprint import pprint\n",
            "  >>> pprint(list(newsgroups_train.target_names))\n",
            "  ['alt.atheism',\n",
            "   'comp.graphics',\n",
            "   'comp.os.ms-windows.misc',\n",
            "   'comp.sys.ibm.pc.hardware',\n",
            "   'comp.sys.mac.hardware',\n",
            "   'comp.windows.x',\n",
            "   'misc.forsale',\n",
            "   'rec.autos',\n",
            "   'rec.motorcycles',\n",
            "   'rec.sport.baseball',\n",
            "   'rec.sport.hockey',\n",
            "   'sci.crypt',\n",
            "   'sci.electronics',\n",
            "   'sci.med',\n",
            "   'sci.space',\n",
            "   'soc.religion.christian',\n",
            "   'talk.politics.guns',\n",
            "   'talk.politics.mideast',\n",
            "   'talk.politics.misc',\n",
            "   'talk.religion.misc']\n",
            "\n",
            "The real data lies in the ``filenames`` and ``target`` attributes. The target\n",
            "attribute is the integer index of the category::\n",
            "\n",
            "  >>> newsgroups_train.filenames.shape\n",
            "  (11314,)\n",
            "  >>> newsgroups_train.target.shape\n",
            "  (11314,)\n",
            "  >>> newsgroups_train.target[:10]\n",
            "  array([ 7,  4,  4,  1, 14, 16, 13,  3,  2,  4])\n",
            "\n",
            "It is possible to load only a sub-selection of the categories by passing the\n",
            "list of the categories to load to the\n",
            ":func:`sklearn.datasets.fetch_20newsgroups` function::\n",
            "\n",
            "  >>> cats = ['alt.atheism', 'sci.space']\n",
            "  >>> newsgroups_train = fetch_20newsgroups(subset='train', categories=cats)\n",
            "\n",
            "  >>> list(newsgroups_train.target_names)\n",
            "  ['alt.atheism', 'sci.space']\n",
            "  >>> newsgroups_train.filenames.shape\n",
            "  (1073,)\n",
            "  >>> newsgroups_train.target.shape\n",
            "  (1073,)\n",
            "  >>> newsgroups_train.target[:10]\n",
            "  array([0, 1, 1, 1, 0, 1, 1, 0, 0, 0])\n",
            "\n",
            "Converting text to vectors\n",
            "~~~~~~~~~~~~~~~~~~~~~~~~~~\n",
            "\n",
            "In order to feed predictive or clustering models with the text data,\n",
            "one first need to turn the text into vectors of numerical values suitable\n",
            "for statistical analysis. This can be achieved with the utilities of the\n",
            "``sklearn.feature_extraction.text`` as demonstrated in the following\n",
            "example that extract `TF-IDF`_ vectors of unigram tokens\n",
            "from a subset of 20news::\n",
            "\n",
            "  >>> from sklearn.feature_extraction.text import TfidfVectorizer\n",
            "  >>> categories = ['alt.atheism', 'talk.religion.misc',\n",
            "  ...               'comp.graphics', 'sci.space']\n",
            "  >>> newsgroups_train = fetch_20newsgroups(subset='train',\n",
            "  ...                                       categories=categories)\n",
            "  >>> vectorizer = TfidfVectorizer()\n",
            "  >>> vectors = vectorizer.fit_transform(newsgroups_train.data)\n",
            "  >>> vectors.shape\n",
            "  (2034, 34118)\n",
            "\n",
            "The extracted TF-IDF vectors are very sparse, with an average of 159 non-zero\n",
            "components by sample in a more than 30000-dimensional space\n",
            "(less than .5% non-zero features)::\n",
            "\n",
            "  >>> vectors.nnz / float(vectors.shape[0])\n",
            "  159.01327...\n",
            "\n",
            ":func:`sklearn.datasets.fetch_20newsgroups_vectorized` is a function which\n",
            "returns ready-to-use token counts features instead of file names.\n",
            "\n",
            ".. _`20 newsgroups website`: http://people.csail.mit.edu/jrennie/20Newsgroups/\n",
            ".. _`TF-IDF`: https://en.wikipedia.org/wiki/Tf-idf\n",
            "\n",
            "\n",
            "Filtering text for more realistic training\n",
            "~~~~~~~~~~~~~~~~~~~~~~~~~~~~~~~~~~~~~~~~~~\n",
            "\n",
            "It is easy for a classifier to overfit on particular things that appear in the\n",
            "20 Newsgroups data, such as newsgroup headers. Many classifiers achieve very\n",
            "high F-scores, but their results would not generalize to other documents that\n",
            "aren't from this window of time.\n",
            "\n",
            "For example, let's look at the results of a multinomial Naive Bayes classifier,\n",
            "which is fast to train and achieves a decent F-score::\n",
            "\n",
            "  >>> from sklearn.naive_bayes import MultinomialNB\n",
            "  >>> from sklearn import metrics\n",
            "  >>> newsgroups_test = fetch_20newsgroups(subset='test',\n",
            "  ...                                      categories=categories)\n",
            "  >>> vectors_test = vectorizer.transform(newsgroups_test.data)\n",
            "  >>> clf = MultinomialNB(alpha=.01)\n",
            "  >>> clf.fit(vectors, newsgroups_train.target)\n",
            "  MultinomialNB(alpha=0.01, class_prior=None, fit_prior=True)\n",
            "\n",
            "  >>> pred = clf.predict(vectors_test)\n",
            "  >>> metrics.f1_score(newsgroups_test.target, pred, average='macro')\n",
            "  0.88213...\n",
            "\n",
            "(The example :ref:`sphx_glr_auto_examples_text_plot_document_classification_20newsgroups.py` shuffles\n",
            "the training and test data, instead of segmenting by time, and in that case\n",
            "multinomial Naive Bayes gets a much higher F-score of 0.88. Are you suspicious\n",
            "yet of what's going on inside this classifier?)\n",
            "\n",
            "Let's take a look at what the most informative features are:\n",
            "\n",
            "  >>> import numpy as np\n",
            "  >>> def show_top10(classifier, vectorizer, categories):\n",
            "  ...     feature_names = vectorizer.get_feature_names_out()\n",
            "  ...     for i, category in enumerate(categories):\n",
            "  ...         top10 = np.argsort(classifier.coef_[i])[-10:]\n",
            "  ...         print(\"%s: %s\" % (category, \" \".join(feature_names[top10])))\n",
            "  ...\n",
            "  >>> show_top10(clf, vectorizer, newsgroups_train.target_names)\n",
            "  alt.atheism: edu it and in you that is of to the\n",
            "  comp.graphics: edu in graphics it is for and of to the\n",
            "  sci.space: edu it that is in and space to of the\n",
            "  talk.religion.misc: not it you in is that and to of the\n",
            "\n",
            "\n",
            "You can now see many things that these features have overfit to:\n",
            "\n",
            "- Almost every group is distinguished by whether headers such as\n",
            "  ``NNTP-Posting-Host:`` and ``Distribution:`` appear more or less often.\n",
            "- Another significant feature involves whether the sender is affiliated with\n",
            "  a university, as indicated either by their headers or their signature.\n",
            "- The word \"article\" is a significant feature, based on how often people quote\n",
            "  previous posts like this: \"In article [article ID], [name] <[e-mail address]>\n",
            "  wrote:\"\n",
            "- Other features match the names and e-mail addresses of particular people who\n",
            "  were posting at the time.\n",
            "\n",
            "With such an abundance of clues that distinguish newsgroups, the classifiers\n",
            "barely have to identify topics from text at all, and they all perform at the\n",
            "same high level.\n",
            "\n",
            "For this reason, the functions that load 20 Newsgroups data provide a\n",
            "parameter called **remove**, telling it what kinds of information to strip out\n",
            "of each file. **remove** should be a tuple containing any subset of\n",
            "``('headers', 'footers', 'quotes')``, telling it to remove headers, signature\n",
            "blocks, and quotation blocks respectively.\n",
            "\n",
            "  >>> newsgroups_test = fetch_20newsgroups(subset='test',\n",
            "  ...                                      remove=('headers', 'footers', 'quotes'),\n",
            "  ...                                      categories=categories)\n",
            "  >>> vectors_test = vectorizer.transform(newsgroups_test.data)\n",
            "  >>> pred = clf.predict(vectors_test)\n",
            "  >>> metrics.f1_score(pred, newsgroups_test.target, average='macro')\n",
            "  0.77310...\n",
            "\n",
            "This classifier lost over a lot of its F-score, just because we removed\n",
            "metadata that has little to do with topic classification.\n",
            "It loses even more if we also strip this metadata from the training data:\n",
            "\n",
            "  >>> newsgroups_train = fetch_20newsgroups(subset='train',\n",
            "  ...                                       remove=('headers', 'footers', 'quotes'),\n",
            "  ...                                       categories=categories)\n",
            "  >>> vectors = vectorizer.fit_transform(newsgroups_train.data)\n",
            "  >>> clf = MultinomialNB(alpha=.01)\n",
            "  >>> clf.fit(vectors, newsgroups_train.target)\n",
            "  MultinomialNB(alpha=0.01, class_prior=None, fit_prior=True)\n",
            "\n",
            "  >>> vectors_test = vectorizer.transform(newsgroups_test.data)\n",
            "  >>> pred = clf.predict(vectors_test)\n",
            "  >>> metrics.f1_score(newsgroups_test.target, pred, average='macro')\n",
            "  0.76995...\n",
            "\n",
            "Some other classifiers cope better with this harder version of the task. Try\n",
            "running :ref:`sphx_glr_auto_examples_model_selection_grid_search_text_feature_extraction.py` with and without\n",
            "the ``--filter`` option to compare the results.\n",
            "\n",
            ".. topic:: Data Considerations\n",
            "\n",
            "  The Cleveland Indians is a major league baseball team based in Cleveland,\n",
            "  Ohio, USA. In December 2020, it was reported that \"After several months of\n",
            "  discussion sparked by the death of George Floyd and a national reckoning over\n",
            "  race and colonialism, the Cleveland Indians have decided to change their\n",
            "  name.\" Team owner Paul Dolan \"did make it clear that the team will not make\n",
            "  its informal nickname -- the Tribe -- its new team name.\" \"It’s not going to\n",
            "  be a half-step away from the Indians,\" Dolan said.\"We will not have a Native\n",
            "  American-themed name.\"\n",
            "\n",
            "  https://www.mlb.com/news/cleveland-indians-team-name-change\n",
            "\n",
            ".. topic:: Recommendation\n",
            "\n",
            "  - When evaluating text classifiers on the 20 Newsgroups data, you\n",
            "    should strip newsgroup-related metadata. In scikit-learn, you can do this\n",
            "    by setting ``remove=('headers', 'footers', 'quotes')``. The F-score will be\n",
            "    lower because it is more realistic.\n",
            "  - This text dataset contains data which may be inappropriate for certain NLP\n",
            "    applications. An example is listed in the \"Data Considerations\" section\n",
            "    above. The challenge with using current text datasets in NLP for tasks such\n",
            "    as sentence completion, clustering, and other applications is that text\n",
            "    that is culturally biased and inflammatory will propagate biases. This\n",
            "    should be taken into consideration when using the dataset, reviewing the\n",
            "    output, and the bias should be documented.\n",
            "\n",
            ".. topic:: Examples\n",
            "\n",
            "   * :ref:`sphx_glr_auto_examples_model_selection_grid_search_text_feature_extraction.py`\n",
            "\n",
            "   * :ref:`sphx_glr_auto_examples_text_plot_document_classification_20newsgroups.py`\n",
            "\n"
          ]
        }
      ]
    },
    {
      "cell_type": "code",
      "metadata": {
        "id": "m2ht8jdRJLKx",
        "colab": {
          "base_uri": "https://localhost:8080/"
        },
        "outputId": "211e3459-0054-4a99-e142-d61e7c6c9f17"
      },
      "source": [
        "# Example article\n",
        "\n",
        "print(newsgroups_data['data'][0])"
      ],
      "execution_count": null,
      "outputs": [
        {
          "output_type": "stream",
          "name": "stdout",
          "text": [
            "From: lerxst@wam.umd.edu (where's my thing)\n",
            "Subject: WHAT car is this!?\n",
            "Nntp-Posting-Host: rac3.wam.umd.edu\n",
            "Organization: University of Maryland, College Park\n",
            "Lines: 15\n",
            "\n",
            " I was wondering if anyone out there could enlighten me on this car I saw\n",
            "the other day. It was a 2-door sports car, looked to be from the late 60s/\n",
            "early 70s. It was called a Bricklin. The doors were really small. In addition,\n",
            "the front bumper was separate from the rest of the body. This is \n",
            "all I know. If anyone can tellme a model name, engine specs, years\n",
            "of production, where this car is made, history, or whatever info you\n",
            "have on this funky looking car, please e-mail.\n",
            "\n",
            "Thanks,\n",
            "- IL\n",
            "   ---- brought to you by your neighborhood Lerxst ----\n",
            "\n",
            "\n",
            "\n",
            "\n",
            "\n"
          ]
        }
      ]
    },
    {
      "cell_type": "code",
      "metadata": {
        "id": "5bLeiU40JLKx",
        "colab": {
          "base_uri": "https://localhost:8080/"
        },
        "outputId": "22c83481-99de-4a62-ffaa-5a2818bd708f"
      },
      "source": [
        "# Associated label\n",
        "\n",
        "newsgroups_data['target'][0]"
      ],
      "execution_count": null,
      "outputs": [
        {
          "output_type": "execute_result",
          "data": {
            "text/plain": [
              "7"
            ]
          },
          "metadata": {},
          "execution_count": 7
        }
      ]
    },
    {
      "cell_type": "code",
      "metadata": {
        "id": "GqJOdud6JLKx",
        "colab": {
          "base_uri": "https://localhost:8080/",
          "height": 35
        },
        "outputId": "f8c5a63e-5bad-4863-8f92-42438d87fa6d"
      },
      "source": [
        "# Name of label\n",
        "\n",
        "newsgroups_data['target_names'][7]"
      ],
      "execution_count": null,
      "outputs": [
        {
          "output_type": "execute_result",
          "data": {
            "text/plain": [
              "'rec.autos'"
            ],
            "application/vnd.google.colaboratory.intrinsic+json": {
              "type": "string"
            }
          },
          "metadata": {},
          "execution_count": 8
        }
      ]
    },
    {
      "cell_type": "code",
      "metadata": {
        "id": "dA0O87AQJLKx",
        "outputId": "3e8ef302-4b96-4bd6-a83a-4186949b3065",
        "colab": {
          "base_uri": "https://localhost:8080/"
        }
      },
      "source": [
        "# Preprocessing boilerplate\n",
        "\n",
        "n_documents = len(newsgroups_data['data'])\n",
        "print(n_documents)\n",
        "\n",
        "count_vectorizer = CountVectorizer(input='content', binary=True,\n",
        "    max_df=0.25, min_df=1.01/n_documents) # ignore common words, words that appear once\n",
        "binary_bag_of_words = count_vectorizer.fit_transform(\n",
        "    newsgroups_data['data']) # input is a list of strings"
      ],
      "execution_count": null,
      "outputs": [
        {
          "output_type": "stream",
          "name": "stdout",
          "text": [
            "11314\n"
          ]
        }
      ]
    },
    {
      "cell_type": "code",
      "metadata": {
        "id": "f8wprfRHJLKx",
        "colab": {
          "base_uri": "https://localhost:8080/"
        },
        "outputId": "dde3ba2d-e890-4e3e-80fe-7b3a950d96a8"
      },
      "source": [
        "# Check shape\n",
        "\n",
        "binary_bag_of_words.shape"
      ],
      "execution_count": null,
      "outputs": [
        {
          "output_type": "execute_result",
          "data": {
            "text/plain": [
              "(11314, 56365)"
            ]
          },
          "metadata": {},
          "execution_count": 10
        }
      ]
    },
    {
      "cell_type": "code",
      "metadata": {
        "id": "k5lW2N1oJLKx",
        "colab": {
          "base_uri": "https://localhost:8080/"
        },
        "outputId": "6eaadfd9-f6ec-4659-ef6c-934c102f39ff"
      },
      "source": [
        "# Check that the fit has been successful\n",
        "\n",
        "count_vectorizer.inverse_transform(binary_bag_of_words[0, :])"
      ],
      "execution_count": null,
      "outputs": [
        {
          "output_type": "execute_result",
          "data": {
            "text/plain": [
              "[array(['lerxst', 'wam', 'umd', 'where', 'thing', 'car', 'rac3',\n",
              "        'maryland', 'college', 'park', '15', 'wondering', 'anyone',\n",
              "        'could', 'enlighten', 'saw', 'day', 'door', 'sports', 'looked',\n",
              "        'late', '60s', 'early', '70s', 'called', 'bricklin', 'doors',\n",
              "        'were', 'really', 'small', 'addition', 'front', 'bumper',\n",
              "        'separate', 'rest', 'body', 'tellme', 'model', 'name', 'engine',\n",
              "        'specs', 'years', 'production', 'made', 'history', 'whatever',\n",
              "        'info', 'funky', 'looking', 'please', 'mail', 'thanks', 'il',\n",
              "        'brought', 'neighborhood'], dtype='<U80')]"
            ]
          },
          "metadata": {},
          "execution_count": 11
        }
      ]
    },
    {
      "cell_type": "code",
      "metadata": {
        "id": "8jEPKUlgJLKx"
      },
      "source": [
        "# Dict that will be useful later \n",
        "\n",
        "inv_vocabulary = {value:key for key, value in count_vectorizer.vocabulary_.items()}"
      ],
      "execution_count": null,
      "outputs": []
    },
    {
      "cell_type": "markdown",
      "metadata": {
        "id": "IYN-2mTSJLKx"
      },
      "source": [
        "#### A Naive Bayes classifier for `newsgroup`"
      ]
    },
    {
      "cell_type": "markdown",
      "metadata": {
        "id": "atwOvIyLJLKx"
      },
      "source": [
        "Each feature vector $x$ is a list of indicators for whether a word appears in the article. $x_i$ is 1 if the $i$th word appears, and 0 otherwise. `inv_vocabulary` matches word indices $i$ to words.\n",
        "\n",
        "Each label $y$ is a value in $0, 1, \\ldots, 19$.\n",
        "\n",
        "The parts of a naive Bayes classifier for this problem can be summarised as:  \n",
        "\n",
        "\n",
        "- A probability distribution for the feature vector by class, $p(x|y = j)$ for each $j = 0, 1, \\ldots, 19$. These probability distributions are assumed to have independent components: we can factorize the joint probability as a product of marginal probabilities\n",
        "\\begin{equation}\n",
        "    p(x|y = j) = \\prod_{i=1}^d p(x_i|y = j)\n",
        "\\end{equation}\n",
        "These marginal probability distributions are Bernoulli distributions, each of which has a single parameter $\\theta_{ji} := p(x_i = 1|y = j)$. This parameter is the probability of observing word $i$ in an article of class $j$. \n",
        "\n",
        "- We will use the Laplace smoothed maximum likelihood estimate to compute these parameters. Laplace smoothing involves adding small counts to every feature for each class. Else, if a feature did not appear in the training set of a class, but then we observed it in our test data the log probability would be undefined.\n",
        "\n",
        "- A collection of class prior probabilities $p(y = j)$. These will be set by computing the class base rates in the training set.  \n",
        "\n",
        "\n",
        "- A function for computing the probability of class membership via Bayes' theorem:  \n",
        "\n",
        "\\begin{equation}\n",
        "    p(y = j|x) = \\frac{p(x|y = j)p(y = j)}{p(x)}\n",
        "\\end{equation}"
      ]
    },
    {
      "cell_type": "code",
      "metadata": {
        "id": "h_0oDNvIJLKx",
        "outputId": "2cd6fba1-f620-4fb1-d683-8494b4409ef5",
        "colab": {
          "base_uri": "https://localhost:8080/"
        }
      },
      "source": [
        "# Compute the parameter estimates (adjusted fraction of documents in class that contain word)\n",
        "\n",
        "n_classes = newsgroups_data['target'].max() + 1\n",
        "print(n_classes)\n",
        "y = newsgroups_data['target']\n",
        "n_words = binary_bag_of_words.shape[1]\n",
        "print(n_words)\n",
        "\n",
        "alpha = 1e-6 # parameters for Laplace smoothing\n",
        "\n",
        "theta = np.zeros([n_classes, n_words]) # stores parameter values - prob. word given class\n",
        "for c_k in range(n_classes): # 0, 1, ..., 19\n",
        "    class_mask = (y == c_k)\n",
        "    N = class_mask.sum() # number of articles in class\n",
        "    theta[c_k, :] = (binary_bag_of_words[class_mask, :].sum(axis=0) + alpha)/(N + alpha*2)"
      ],
      "execution_count": null,
      "outputs": [
        {
          "output_type": "stream",
          "name": "stdout",
          "text": [
            "20\n",
            "56365\n"
          ]
        }
      ]
    },
    {
      "cell_type": "code",
      "metadata": {
        "id": "E_27dheOJLKx",
        "colab": {
          "base_uri": "https://localhost:8080/"
        },
        "outputId": "726eff9e-d4a5-4dab-f070-372c089578cb"
      },
      "source": [
        "# Check whether the most probable word in each class is reasonable\n",
        "\n",
        "most_probable_word_ix = theta.argmax(axis=1) # most probable word for each class\n",
        "\n",
        "for j, ix in enumerate(most_probable_word_ix):\n",
        "    print('Most probable word in class {} is \"{}\".'.format(\n",
        "        newsgroups_data['target_names'][j], inv_vocabulary[ix]))"
      ],
      "execution_count": null,
      "outputs": [
        {
          "output_type": "stream",
          "name": "stdout",
          "text": [
            "Most probable word in class alt.atheism is \"people\".\n",
            "Most probable word in class comp.graphics is \"graphics\".\n",
            "Most probable word in class comp.os.ms-windows.misc is \"windows\".\n",
            "Most probable word in class comp.sys.ibm.pc.hardware is \"thanks\".\n",
            "Most probable word in class comp.sys.mac.hardware is \"mac\".\n",
            "Most probable word in class comp.windows.x is \"window\".\n",
            "Most probable word in class misc.forsale is \"sale\".\n",
            "Most probable word in class rec.autos is \"car\".\n",
            "Most probable word in class rec.motorcycles is \"dod\".\n",
            "Most probable word in class rec.sport.baseball is \"he\".\n",
            "Most probable word in class rec.sport.hockey is \"ca\".\n",
            "Most probable word in class sci.crypt is \"clipper\".\n",
            "Most probable word in class sci.electronics is \"use\".\n",
            "Most probable word in class sci.med is \"reply\".\n",
            "Most probable word in class sci.space is \"space\".\n",
            "Most probable word in class soc.religion.christian is \"god\".\n",
            "Most probable word in class talk.politics.guns is \"people\".\n",
            "Most probable word in class talk.politics.mideast is \"people\".\n",
            "Most probable word in class talk.politics.misc is \"people\".\n",
            "Most probable word in class talk.religion.misc is \"he\".\n"
          ]
        }
      ]
    },
    {
      "cell_type": "code",
      "metadata": {
        "id": "VP2SyLmnJLKx",
        "colab": {
          "base_uri": "https://localhost:8080/"
        },
        "outputId": "fc7e8c50-2ed2-4b25-ffdd-cc27283ff311"
      },
      "source": [
        "# Define a distribution for each class\n",
        "\n",
        "batch_of_bernoullis = tfd.Bernoulli(probs=theta)\n",
        "p_x_given_y = tfd.Independent(batch_of_bernoullis,\n",
        "    reinterpreted_batch_ndims=1)\n",
        "p_x_given_y"
      ],
      "execution_count": null,
      "outputs": [
        {
          "output_type": "execute_result",
          "data": {
            "text/plain": [
              "<tfp.distributions.Independent 'IndependentBernoulli' batch_shape=[20] event_shape=[56365] dtype=int32>"
            ]
          },
          "metadata": {},
          "execution_count": 18
        }
      ]
    },
    {
      "cell_type": "code",
      "metadata": {
        "id": "M3kgbflSJLKx",
        "colab": {
          "base_uri": "https://localhost:8080/"
        },
        "outputId": "021ac633-b9f1-4a3f-a964-8972ec44d283"
      },
      "source": [
        "# Take a sample of words from each class\n",
        "\n",
        "n_samples = 10\n",
        "sample = p_x_given_y.sample(n_samples)\n",
        "sample.shape"
      ],
      "execution_count": null,
      "outputs": [
        {
          "output_type": "execute_result",
          "data": {
            "text/plain": [
              "TensorShape([10, 20, 56365])"
            ]
          },
          "metadata": {},
          "execution_count": 19
        }
      ]
    },
    {
      "cell_type": "code",
      "metadata": {
        "id": "_HPY3tJKJLKx",
        "colab": {
          "base_uri": "https://localhost:8080/",
          "height": 35
        },
        "outputId": "0b0bcf93-bacd-4588-b1d2-2c6de9bd642d"
      },
      "source": [
        "# Choose a class\n",
        "\n",
        "chosen_class = 15\n",
        "newsgroups_data['target_names'][chosen_class]"
      ],
      "execution_count": null,
      "outputs": [
        {
          "output_type": "execute_result",
          "data": {
            "text/plain": [
              "'soc.religion.christian'"
            ],
            "application/vnd.google.colaboratory.intrinsic+json": {
              "type": "string"
            }
          },
          "metadata": {},
          "execution_count": 20
        }
      ]
    },
    {
      "cell_type": "code",
      "metadata": {
        "id": "lRl9u_8-JLKx",
        "colab": {
          "base_uri": "https://localhost:8080/"
        },
        "outputId": "66890788-57bf-4205-a91d-fee8686a619b"
      },
      "source": [
        "# Indicators for words that appear in the sample\n",
        "\n",
        "class_sample = sample[:, chosen_class, :]\n",
        "class_sample"
      ],
      "execution_count": null,
      "outputs": [
        {
          "output_type": "execute_result",
          "data": {
            "text/plain": [
              "<tf.Tensor: shape=(10, 56365), dtype=int32, numpy=\n",
              "array([[0, 0, 0, ..., 0, 0, 0],\n",
              "       [0, 0, 0, ..., 0, 0, 0],\n",
              "       [0, 0, 0, ..., 0, 0, 0],\n",
              "       ...,\n",
              "       [0, 0, 0, ..., 0, 0, 0],\n",
              "       [0, 0, 0, ..., 0, 0, 0],\n",
              "       [0, 0, 0, ..., 0, 0, 0]], dtype=int32)>"
            ]
          },
          "metadata": {},
          "execution_count": 21
        }
      ]
    },
    {
      "cell_type": "code",
      "metadata": {
        "id": "4NtdUvCNJLKx",
        "colab": {
          "base_uri": "https://localhost:8080/"
        },
        "outputId": "1dbb6064-02e5-4260-a692-7cfb49a06c3d"
      },
      "source": [
        "# Perform inverse transform to test quality of fit\n",
        "\n",
        "count_vectorizer.inverse_transform(class_sample)"
      ],
      "execution_count": null,
      "outputs": [
        {
          "output_type": "execute_result",
          "data": {
            "text/plain": [
              "[array(['14', '1992', '1993', '51', '542', '98', 'abstinence', 'ai',\n",
              "        'allowed', 'altogether', 'anger', 'another', 'appeal', 'apply',\n",
              "        'astrophysics', 'athena', 'au', 'babylon', 'because', 'been',\n",
              "        'best', 'bowermaster', 'buddhist', 'capital', 'christians',\n",
              "        'circa', 'claiming', 'comes', 'committed', 'conclusion',\n",
              "        'constant', 'contested', 'contra', 'corporation', 'countless',\n",
              "        'course', 'create', 'days', 'debated', 'details', 'did', 'doubt',\n",
              "        'down', 'each', 'end', 'evil', 'expect', 'explain', 'expressed',\n",
              "        'find', 'giaeb', 'god', 'gospel', 'grail', 'great', 'had',\n",
              "        'handle', 'he', 'his', 'however', 'incident', 'interesting',\n",
              "        'investigate', 'its', 'jason', 'jesus', 'justify', 'kulikauskas',\n",
              "        'lay', 'less', 'let', 'lives', 'look', 'maybe', 'mean', 'men',\n",
              "        'message', 'much', 'must', 'need', 'new', 'number', 'off', 'ogden',\n",
              "        'opposed', 'others', 'overwhelming', 'particularly', 'passages',\n",
              "        'playing', 'pleasure', 'points', 'pollsters', 'prayers', 'primacy',\n",
              "        'problem', 'promised', 'proved', 'providing', 'question', 'ran',\n",
              "        'reading', 'reply', 'rex', 'same', 'send', 'sexual', 'side',\n",
              "        'sixteenth', 'slaves', 'slot', 'souls', 'special', 'spoke',\n",
              "        'supportive', 'sweetie', 'taken', 'thee', 'their', 'things',\n",
              "        'thought', 'together', 'tone', 'topical', 'true', 'upon', 'voice',\n",
              "        'want', 'well', 'weren', 'whatever', 'word', 'write', 'writings'],\n",
              "       dtype='<U80'),\n",
              " array(['01', '03', '07', '1993', '31', '74', 'ai', 'although', 'amongst',\n",
              "        'answer', 'arguments', 'asking', 'austin', 'away', 'back',\n",
              "        'behaviour', 'books', 'bothers', 'bowermaster', 'bread', 'burton',\n",
              "        'calling', 'came', 'carpenter', 'cattle', 'center', 'comes',\n",
              "        'computer', 'condemnations', 'confect', 'confused', 'considering',\n",
              "        'consistent', 'contribution', 'copts', 'damage', 'days', 'deal',\n",
              "        'denied', 'deserts', 'died', 'discussion', 'doesn', 'dull',\n",
              "        'english', 'essence', 'established', 'even', 'exists', 'explained',\n",
              "        'failed', 'familiar', 'finish', 'food', 'form', 'friends', 'ft',\n",
              "        'genders', 'go', 'god', 'goes', 'grass', 'grown', 'had', 'hard',\n",
              "        'hearing', 'heed', 'his', 'hour', 'hundreds', 'issue', 'jacob',\n",
              "        'jesus', 'keep', 'knowledgeable', 'lake', 'love', 'ludicrous',\n",
              "        'making', 'many', 'matter', 'means', 'met', 'mind', 'mont',\n",
              "        'moved', 'mussack', 'myself', 'never', 'note', 'noticed', 'once',\n",
              "        'our', 'part', 'people', 'perfect', 'perhaps', 'physical',\n",
              "        'possible', 'priests', 'principles', 'probably', 'question',\n",
              "        'read', 'red', 'refuse', 'rejoices', 'remember', 'reply', 'rex',\n",
              "        'sabbath', 'sartre', 'serious', 'shellgate', 'sleep', 'sources',\n",
              "        'speaking', 'specify', 'spiritual', 'spouses', 'state', 'stops',\n",
              "        'swc', 'symbol', 'teaches', 'ted', 'tell', 'their', 'think',\n",
              "        'those', 'times', 'told', 'tracts', 'try', 'tuff', 'uiuc', 'under',\n",
              "        'validity', 'wall', 'way', 'were', 'whole', 'why', 'winter',\n",
              "        'worry'], dtype='<U80'),\n",
              " array(['15', '1993', '49', '5of5', 'abomination', 'animated',\n",
              "        'antichrist', 'arbitrary', 'aside', 'asleep', 'athos', 'avail',\n",
              "        'baptizing', 'became', 'been', 'begin', 'belief', 'believe',\n",
              "        'best', 'bible', 'birth', 'both', 'box', 'buehler', 'burning',\n",
              "        'centre', 'christianity', 'come', 'conceived', 'conclusion',\n",
              "        'create', 'david', 'day', 'did', 'directly', 'dismissing', 'does',\n",
              "        'down', 'earthquake', 'easier', 'every', 'explain', 'extreme',\n",
              "        'few', 'find', 'flashed', 'fnal', 'foundation', 'geneva',\n",
              "        'georgia', 'germany', 'god', 'good', 'gospel', 'ground', 'having',\n",
              "        'he', 'head', 'here', 'inerrant', 'intro', 'invaluable', 'jeff',\n",
              "        'joe', 'likelihood', 'live', 'lonestar', 'may', 'maybe',\n",
              "        'meaningful', 'meditating', 'members', 'men', 'moral', 'much',\n",
              "        'names', 'nephew', 'never', 'noticed', 'nuclear', 'obvious', 'our',\n",
              "        'own', 'pagan', 'paz', 'philosophies', 'pitiful', 'position',\n",
              "        'postulated', 'psychology', 'real', 'religious', 'rich', 'rutgers',\n",
              "        'said', 'say', 'says', 'seen', 'shoes', 'should', 'sins',\n",
              "        'someone', 'something', 'still', 'swanson', 'taught', 'teaching',\n",
              "        'tendency', 'testament', 'text', 'than', 'their', 'themselves',\n",
              "        'those', 'time', 'too', 'uga', 'unambiguous', 'unix', 'us',\n",
              "        'uunet', 'walked', 'way', 'were', 'whatever', 'where', 'whom',\n",
              "        'why', 'wondrous', 'word', 'york'], dtype='<U80'),\n",
              " array(['110', '128', '15', '1836', '1993', '24', 'acs', 'advance',\n",
              "        'alone', 'anonymously', 'answer', 'anthropologist', 'anybody',\n",
              "        'apr', 'arlut', 'ask', 'att', 'attempt', 'ave', 'away', 'back',\n",
              "        'backed', 'beforehand', 'beginning', 'believe', 'between', 'bible',\n",
              "        'box', 'bush', 'child', 'christ', 'christian', 'christianity',\n",
              "        'church', 'come', 'communion', 'complicated', 'concept',\n",
              "        'consciously', 'converting', 'council', 'current', 'defeat',\n",
              "        'deforestation', 'deserved', 'did', 'discovered', 'disturbed',\n",
              "        'diversity', 'educational', 'enough', 'eternal', 'evans',\n",
              "        'everything', 'evidence', 'exactly', 'experience', 'fire',\n",
              "        'francis', 'game', 'give', 'god', 'gods', 'good', 'goodness',\n",
              "        'great', 'hard', 'hcx1', 'he', 'hebrew', 'hell', 'hostile',\n",
              "        'identify', 'immediately', 'impotence', 'infj', 'instigated',\n",
              "        'involvement', 'isn', 'james', 'jewish', 'jews', 'later',\n",
              "        'legally', 'less', 'lives', 'living', 'logic', 'long', 'look',\n",
              "        'mac', 'major', 'makes', 'marks', 'may', 'meanings',\n",
              "        'misconfigured', 'mmalt', 'movement', 'mutual', 'never', 'notice',\n",
              "        'now', 'obscurity', 'observation', 'order', 'otherwise', 'own',\n",
              "        'page', 'paperbacks', 'people', 'pittsburgh', 'plausible', 'point',\n",
              "        'prestige', 'pretentions', 'pretty', 'process', 'qualified',\n",
              "        'questioning', 'really', 'recorded', 'regard', 'relationship',\n",
              "        'rest', 'right', 'righteous', 'see', 'serious', 'serve', 'sleazy',\n",
              "        'smell', 'sorry', 'studies', 'suggest', 'supportive', 'surprised',\n",
              "        'then', 'though', 'thread', 'times', 'tongue', 'treasury', 'truth',\n",
              "        'unbaptized', 'unintentionally', 'unto', 'us', 'via', 'whole',\n",
              "        'without', 'wondered', 'wonderful', 'words', 'world', 'writings'],\n",
              "       dtype='<U80'),\n",
              " array(['02', '03', '22102', '28376', 'acs', 'age', 'agree', 'another',\n",
              "        'anti', 'apr', 'areas', 'austin', 'authors', 'auto', 'beyond',\n",
              "        'book', 'bound', 'century', 'christianity', 'clear', 'clh',\n",
              "        'commitment', 'compare', 'crisis', 'defensive', 'dept',\n",
              "        'disagreed', 'dleonar', 'easter', 'eat', 'eject', 'empty',\n",
              "        'english', 'ersatz', 'esau', 'etc', 'evangelist', 'even',\n",
              "        'examine', 'exodus', 'false', 'far', 'fax', 'front', 'full',\n",
              "        'geneva', 'give', 'gives', 'gla', 'god', 'healthy', 'heart',\n",
              "        'helpful', 'historical', 'home', 'however', 'husband', 'hustle',\n",
              "        'independent', 'instance', 'internet', 'its', 'james', 'jesus',\n",
              "        'jim', 'jordan', 'ku', 'leather', 'literal', 'll', 'logos',\n",
              "        'makes', 'maridai', 'meaning', 'methods', 'minister', 'misled',\n",
              "        'moses', 'must', 'nature', 'nine', 'noticed', 'number', 'ones',\n",
              "        'opinions', 'order', 'paid', 'parents', 'permitted', 'place',\n",
              "        'point', 'political', 'pre', 'predestined', 'problem', 'question',\n",
              "        'quite', 'quoted', 'radical', 'rather', 'ready', 'receive',\n",
              "        'refer', 'reject', 'remarkable', 'ressurection', 'say',\n",
              "        'scientists', 'see', 'sense', 'should', 'silly', 'situations',\n",
              "        'socialist', 'statement', 'strenth', 'strict', 'such', 'summary',\n",
              "        'sysops', 'take', 'tell', 'thanks', 'therefore', 'thi', 'think',\n",
              "        'time', 'trying', 'uiuc', 'union', 'us', 'velasco', 'view', 'want',\n",
              "        'warm', 'warning', 'washington', 'way', 'were', 'willing',\n",
              "        'worship', 'written', 'wwc', 'xx155'], dtype='<U80'),\n",
              " array(['17', '1992', '58', 'absolutely', 'acs', 'administer', 'age',\n",
              "        'almost', 'aloud', 'am', 'another', 'answers', 'arizona', 'art',\n",
              "        'audience', 'away', 'become', 'becoming', 'been', 'being',\n",
              "        'believe', 'better', 'biblical', 'bill', 'ca', 'california',\n",
              "        'caralv', 'catechism', 'christian', 'christianity', 'congress',\n",
              "        'consciously', 'consequence', 'deleted', 'determine', 'discussion',\n",
              "        'earlier', 'editorial', 'elected', 'established', 'father',\n",
              "        'fiction', 'free', 'function', 'fundamental', 'go', 'god', 'grace',\n",
              "        'grows', 'had', 'he', 'heard', 'her', 'his', 'hypothetical',\n",
              "        'insufferable', 'into', 'james', 'jesus', 'joseph', 'judgement',\n",
              "        'kenneth', 'kids', 'killing', 'knowing', 'less', 'life', 'lord',\n",
              "        'madonna', 'making', 'manuscripts', 'matter', 'mean',\n",
              "        'measurement', 'message', 'moment', 'ncramer', 'ontario', 'ot',\n",
              "        'our', 'palm', 'part', 'patrick', 'person', 'petch', 'phenomena',\n",
              "        'phrases', 'plus', 'points', 'primarily', 'probably', 'public',\n",
              "        'purely', 'reasonably', 'redemption', 'regard', 'resurrection',\n",
              "        'rethink', 'rexlex', 'rtsg', 'save', 'savior', 'says', 'see',\n",
              "        'situation', 'sound', 'sounds', 'sources', 'specific', 'square',\n",
              "        'stanley', 'substance', 'suspect', 'taking', 'teachings', 'temper',\n",
              "        'than', 'thanks', 'them', 'these', 'thing', 'together', 'tool',\n",
              "        'uses', 'uu4', 'were', 'whom', 'why', 'wonder', 'yes', 'york'],\n",
              "       dtype='<U80'),\n",
              " array(['03', '11', '186', '25', '30', '32', '42', 'absolute', 'affirm',\n",
              "        'again', 'am', 'analogous', 'anybody', 'anyone', 'apostles', 'apr',\n",
              "        'attributes', 'augustine', 'awful', 'basis', 'becomes', 'being',\n",
              "        'beliefs', 'below', 'btw', 'called', 'carefully', 'cbnewsk',\n",
              "        'ceremonial', 'child', 'children', 'church', 'columbia', 'come',\n",
              "        'committed', 'conclusion', 'converted', 'corrected', 'cultural',\n",
              "        'daughter', 'death', 'denied', 'despite', 'detailed', 'did', 'die',\n",
              "        'disobedience', 'does', 'earth', 'easy', 'etc', 'eternally',\n",
              "        'even', 'expecting', 'explicitly', 'fact', 'faq', 'flew',\n",
              "        'foolishness', 'forward', 'general', 'given', 'god', 'had', 'here',\n",
              "        'illness', 'jerry', 'keep', 'lately', 'lives', 'll', 'logic',\n",
              "        'long', 'losing', 'man', 'many', 'mars', 'max', 'meaning',\n",
              "        'message', 'messiah', 'might', 'mmalt', 'mr', 'narrowness',\n",
              "        'never', 'offended', 'oulu', 'our', 'postings', 'problem',\n",
              "        'promised', 'rather', 'readers', 'reagan', 'really', 'recent',\n",
              "        'reformers', 'regard', 'religions', 'reproach', 'risen',\n",
              "        'sacrifice', 'save', 'say', 'says', 'see', 'self', 'since',\n",
              "        'sinful', 'skinned', 'slightly', 'solely', 'sooner', 'sort',\n",
              "        'still', 'stones', 'story', 'strategic', 'sunday', 'sydney',\n",
              "        'talked', 'than', 'think', 'thought', 'thus', 'together', 'us',\n",
              "        'usa', 'view', 'waiting', 'way', 'ways', 'whenever', 'while',\n",
              "        'why', 'word', 'worked', 'world', 'yourself', 'yourselves'],\n",
              "       dtype='<U80'),\n",
              " array(['13', '15', '33', '39', 'absolute', 'according', 'agressive',\n",
              "        'answer', 'atf', 'athos', 'atterlep', 'austin', 'aware', 'bank',\n",
              "        'based', 'bbs', 'because', 'become', 'been', 'being', 'besides',\n",
              "        'bradley', 'brendan', 'bring', 'called', 'cannot', 'case', 'cases',\n",
              "        'cc', 'chastised', 'christ', 'christian', 'claim', 'clearly',\n",
              "        'clh', 'come', 'comes', 'conscientious', 'conveys', 'correction',\n",
              "        'couldn', 'couple', 'deluding', 'describes', 'determine',\n",
              "        'deuterocanonicals', 'down', 'either', 'etc', 'etymologically',\n",
              "        'ever', 'example', 'fail', 'fallen', 'familiar', 'find', 'frame',\n",
              "        'go', 'god', 'grace', 'greeks', 'groups', 'hang', 'heaven',\n",
              "        'horse', 'indescribably', 'isn', 'jeesus', 'jesus', 'keeping',\n",
              "        'laughed', 'left', 'luke', 'made', 'man', 'many', 'mcovingt',\n",
              "        'michael', 'mine', 'mountain', 'much', 'needless', 'never', 'new',\n",
              "        'next', 'now', 'opposed', 'original', 'others', 'overrated',\n",
              "        'part', 'perfect', 'perhaps', 'pixie', 'poor', 'prayers', 'pro',\n",
              "        'programmer', 'putting', 'questions', 'quotes', 'read', 'reason',\n",
              "        'reflection', 'refutations', 'rejected', 'religion', 'remark',\n",
              "        'remember', 'returns', 'roles', 'rug', 'sacred', 'said', 'saints',\n",
              "        'salvation', 'see', 'sessions', 'sets', 'shall', 'similar',\n",
              "        'solved', 'spiritual', 'studies', 'surprised', 'testimony', 'than',\n",
              "        'thank', 'their', 'third', 'total', 'ucs', 'unbiblical',\n",
              "        'understanding', 'ungodly', 'until', 've', 'voodoo', 'want',\n",
              "        'while', 'whitsell', 'wicked', 'without', 'witness', 'wrote',\n",
              "        'yet'], dtype='<U80'),\n",
              " array(['10', '17', 'already', 'also', 'anger', 'answer', 'apr',\n",
              "        'assurance', 'attended', 'august', 'bear', 'becomes', 'been',\n",
              "        'before', 'believe', 'cannot', 'cardinal', 'carnegie', 'case',\n",
              "        'champions', 'chicago', 'christians', 'claims', 'closer', 'cold',\n",
              "        'copyrighted', 'cult', 'cultural', 'david', 'deacons',\n",
              "        'definition', 'digress', 'dirty', 'ebay', 'encourages',\n",
              "        'eventually', 'exceptions', 'eyes', 'faith', 'feasible', 'feeling',\n",
              "        'first', 'found', 'god', 'great', 'group', 'hard', 'heaven',\n",
              "        'heresy', 'highly', 'his', 'humans', 'hymn', 'idea', 'inject',\n",
              "        'interesting', 'involved', 'its', 'jesus', 'job', 'jr', 'kingdom',\n",
              "        'lately', 'logically', 'lots', 'make', 'manner', 'many', 'master',\n",
              "        'may', 'mean', 'means', 'moi', 'mother', 'nature', 'need', 'never',\n",
              "        'new', 'nine', 'nor', 'now', 'nyx', 'off', 'often', 'ohio', 'old',\n",
              "        'oriented', 'others', 'outside', 'own', 'pantheism', 'persecuted',\n",
              "        'plans', 'play', 'possibly', 'preach', 'president', 'problem',\n",
              "        'prophet', 'quit', 'quite', 'raiding', 'read', 'realize',\n",
              "        'recommend', 'renaissance', 'responses', 'roadie', 'robert',\n",
              "        'rushing', 'rutgers', 'sanhedrin', 'set', 'single', 'sinning',\n",
              "        'sometime', 'stanford', 'step', 'sure', 'targets', 'their',\n",
              "        'these', 'time', 'us', 'use', 'view', 'volcanic', 'way', 'ways',\n",
              "        'well', 'were', 'why', 'without', 'word', 'works', 'yours'],\n",
              "       dtype='<U80'),\n",
              " array(['14', '16', '3782', '508', 'above', 'actually', 'anyone', 'awe',\n",
              "        'before', 'bible', 'bitnet', 'buddhism', 'christian', 'civil',\n",
              "        'clin', 'col', 'come', 'complete', 'concordance', 'conversion',\n",
              "        'converted', 'course', 'day', 'defined', 'denial', 'deny',\n",
              "        'describe', 'desert', 'dispersion', 'distinguish', 'doing', 'down',\n",
              "        'easter', 'empty', 'eternal', 'even', 'everlasting', 'everyone',\n",
              "        'experience', 'explanation', 'felt', 'forever', 'fruit', 'given',\n",
              "        'grace', 'group', 'gvg47', 'hardly', 'head', 'heard', 'helps',\n",
              "        'however', 'human', 'humility', 'into', 'its', 'james', 'judge',\n",
              "        'lady', 'likely', 'lord', 'lot', 'lpa', 'make', 'many', 'may',\n",
              "        'mechanistic', 'mentioning', 'mind', 'missed', 'modern',\n",
              "        'monastery', 'moral', 'most', 'moved', 'music', 'must', 'n4tmi',\n",
              "        'newsgroup', 'non', 'now', 'off', 'old', 'orientation', 'origins',\n",
              "        'parent', 'passage', 'physical', 'plans', 'politician', 'possible',\n",
              "        'pray', 'preach', 'premises', 'proceeding', 'prophet', 'raises',\n",
              "        'rationality', 'reaching', 'realize', 'really', 'recall',\n",
              "        'rejecting', 'related', 'reply', 'requests', 'right', 'rigidity',\n",
              "        'rutgers', 'sdcc13', 'serve', 'short', 'should', 'show', 'signs',\n",
              "        'silent', 'snoopy', 'souls', 'soundness', 'spy', 'stood',\n",
              "        'suggesting', 'supporter', 'supports', 'sure', 'tells', 'thirst',\n",
              "        'those', 'time', 'too', 'tradition', 'true', 'used', 'very',\n",
              "        'warn', 'wary', 'well', 'were', 'whether', 'working', 'worry',\n",
              "        'writers'], dtype='<U80')]"
            ]
          },
          "metadata": {},
          "execution_count": 22
        }
      ]
    },
    {
      "cell_type": "markdown",
      "metadata": {
        "id": "5psJI4WqJLKx"
      },
      "source": [
        "***\n",
        "<a id='sampling_and_log_probs'></a>\n",
        "## Sampling and log probs"
      ]
    },
    {
      "cell_type": "code",
      "metadata": {
        "id": "eRtRs0UIJLKx",
        "colab": {
          "base_uri": "https://localhost:8080/"
        },
        "outputId": "38ef5482-e832-40fc-e213-420c58df1e3f"
      },
      "source": [
        "import tensorflow as tf\n",
        "import tensorflow_probability as tfp\n",
        "tfd = tfp.distributions\n",
        "\n",
        "exp = tfd.Exponential(rate=[[1., 1.5, 0.8], \n",
        "    [0.3, 0.4, 1.8]])\n",
        "print(exp)"
      ],
      "execution_count": null,
      "outputs": [
        {
          "output_type": "stream",
          "name": "stdout",
          "text": [
            "tfp.distributions.Exponential(\"Exponential\", batch_shape=[2, 3], event_shape=[], dtype=float32)\n"
          ]
        }
      ]
    },
    {
      "cell_type": "code",
      "metadata": {
        "id": "xVzZa6rUJLKy",
        "colab": {
          "base_uri": "https://localhost:8080/"
        },
        "outputId": "297e6252-ac14-46d5-e213-ea31af463920"
      },
      "source": [
        "ind_exp = tfd.Independent(exp)\n",
        "print(ind_exp)\n",
        "ind_exp.sample(4)"
      ],
      "execution_count": null,
      "outputs": [
        {
          "output_type": "stream",
          "name": "stdout",
          "text": [
            "WARNING:tensorflow:From /usr/local/lib/python3.7/dist-packages/tensorflow_probability/python/distributions/distribution.py:342: calling _Independent.__init__ (from tensorflow_probability.python.distributions.independent) with reinterpreted_batch_ndims=None is deprecated and will be removed after 2022-03-01.\n",
            "Instructions for updating:\n",
            "Please pass an integer value for `reinterpreted_batch_ndims`. The current behavior corresponds to `reinterpreted_batch_ndims=tf.size(distribution.batch_shape_tensor()) - 1`.\n",
            "tfp.distributions.Independent(\"IndependentExponential\", batch_shape=[2], event_shape=[3], dtype=float32)\n"
          ]
        },
        {
          "output_type": "execute_result",
          "data": {
            "text/plain": [
              "<tf.Tensor: shape=(4, 2, 3), dtype=float32, numpy=\n",
              "array([[[1.3093379 , 1.9058251 , 0.3236909 ],\n",
              "        [0.410396  , 2.647699  , 0.03387786]],\n",
              "\n",
              "       [[1.3583829 , 0.11267919, 0.99499923],\n",
              "        [1.0571889 , 4.650212  , 0.52372074]],\n",
              "\n",
              "       [[0.5549159 , 0.33595696, 6.028405  ],\n",
              "        [3.4965117 , 0.634714  , 0.41699496]],\n",
              "\n",
              "       [[1.5219631 , 1.4951361 , 1.0276942 ],\n",
              "        [1.6183738 , 1.4771553 , 0.5282957 ]]], dtype=float32)>"
            ]
          },
          "metadata": {},
          "execution_count": 4
        }
      ]
    },
    {
      "cell_type": "code",
      "metadata": {
        "scrolled": true,
        "id": "15s2N9ZdJLKy",
        "colab": {
          "base_uri": "https://localhost:8080/"
        },
        "outputId": "c919c1f7-ac91-4340-c637-be88fbda0dea"
      },
      "source": [
        "rates = [\n",
        "    [[[1., 1.5, 0.8], [0.3, 0.4, 1.8]]],\n",
        "    [[[0.2, 0.4, 1.4], [0.4, 1.1, 0.9]]]\n",
        "]\n",
        "exp = tfd.Exponential(rate=rates)\n",
        "print(exp)\n",
        "\n",
        "ind_exp = tfd.Independent(exp, reinterpreted_batch_ndims=2)\n",
        "print(ind_exp)\n",
        "\n",
        "ind_exp.sample([4, 2]).shape"
      ],
      "execution_count": null,
      "outputs": [
        {
          "output_type": "stream",
          "name": "stdout",
          "text": [
            "tfp.distributions.Exponential(\"Exponential\", batch_shape=[2, 1, 2, 3], event_shape=[], dtype=float32)\n",
            "tfp.distributions.Independent(\"IndependentExponential\", batch_shape=[2, 1], event_shape=[2, 3], dtype=float32)\n"
          ]
        },
        {
          "output_type": "execute_result",
          "data": {
            "text/plain": [
              "TensorShape([4, 2, 2, 1, 2, 3])"
            ]
          },
          "metadata": {},
          "execution_count": 5
        }
      ]
    },
    {
      "cell_type": "code",
      "metadata": {
        "id": "IUQDRZ23JLKy",
        "colab": {
          "base_uri": "https://localhost:8080/"
        },
        "outputId": "29762d1f-fc23-4961-c5a1-7ce5b6cfc370"
      },
      "source": [
        "ind_exp.log_prob(0.5)"
      ],
      "execution_count": null,
      "outputs": [
        {
          "output_type": "execute_result",
          "data": {
            "text/plain": [
              "<tf.Tensor: shape=(2, 1), dtype=float32, numpy=\n",
              "array([[-4.2501554],\n",
              "       [-5.3155975]], dtype=float32)>"
            ]
          },
          "metadata": {},
          "execution_count": 6
        }
      ]
    },
    {
      "cell_type": "code",
      "metadata": {
        "id": "9S6qjMjYJLKy",
        "colab": {
          "base_uri": "https://localhost:8080/"
        },
        "outputId": "80593449-00b5-42de-8787-bff500b528f2"
      },
      "source": [
        "ind_exp.log_prob([[0.3, 0.5, 0.8]]) # (1, 3)"
      ],
      "execution_count": null,
      "outputs": [
        {
          "output_type": "execute_result",
          "data": {
            "text/plain": [
              "<tf.Tensor: shape=(2, 1), dtype=float32, numpy=\n",
              "array([[-4.7701554],\n",
              "       [-5.885597 ]], dtype=float32)>"
            ]
          },
          "metadata": {},
          "execution_count": 7
        }
      ]
    },
    {
      "cell_type": "code",
      "metadata": {
        "id": "fJpVlZ7WJLKy",
        "colab": {
          "base_uri": "https://localhost:8080/"
        },
        "outputId": "d19041a9-37a2-47fa-b19f-46dbc95f7f58"
      },
      "source": [
        "print(tf.random.uniform((5, 1, 1, 2, 1)).shape)\n",
        "ind_exp.log_prob(tf.random.uniform((5, 1, 1, 2, 1)))"
      ],
      "execution_count": null,
      "outputs": [
        {
          "output_type": "stream",
          "name": "stdout",
          "text": [
            "(5, 1, 1, 2, 1)\n"
          ]
        },
        {
          "output_type": "execute_result",
          "data": {
            "text/plain": [
              "<tf.Tensor: shape=(5, 2, 1), dtype=float32, numpy=\n",
              "array([[[-4.1925216],\n",
              "        [-5.3520675]],\n",
              "\n",
              "       [[-3.7621822],\n",
              "        [-5.100956 ]],\n",
              "\n",
              "       [[-4.6871033],\n",
              "        [-5.6964664]],\n",
              "\n",
              "       [[-1.454212 ],\n",
              "        [-3.199241 ]],\n",
              "\n",
              "       [[-3.3473294],\n",
              "        [-4.7956257]]], dtype=float32)>"
            ]
          },
          "metadata": {},
          "execution_count": 8
        }
      ]
    },
    {
      "cell_type": "code",
      "source": [
        "loc = tf.zeros((2, 3, 1))\n",
        "print(loc.shape)\n",
        "\n",
        "scale_diag = tf.ones(4)\n",
        "print(scale_diag.shape)\n",
        "\n",
        "mv_normal = tfd.MultivariateNormalDiag(loc=loc, scale_diag=scale_diag)\n",
        "print(mv_normal)\n",
        "\n",
        "dist = tfd.Independent(mv_normal)\n",
        "print(dist)\n",
        "\n",
        "inp = tf.random.uniform((2, 1, 1, 4))\n",
        "print(inp.shape)\n",
        "\n",
        "print(dist.log_prob(inp).shape)"
      ],
      "metadata": {
        "colab": {
          "base_uri": "https://localhost:8080/"
        },
        "id": "ryzUIY_qRUqd",
        "outputId": "5d6d0dbd-e874-4f3f-f65d-9358bc693057"
      },
      "execution_count": null,
      "outputs": [
        {
          "output_type": "stream",
          "name": "stdout",
          "text": [
            "(2, 3, 1)\n",
            "(4,)\n",
            "tfp.distributions.MultivariateNormalDiag(\"MultivariateNormalDiag\", batch_shape=[2, 3], event_shape=[4], dtype=float32)\n",
            "tfp.distributions.Independent(\"IndependentMultivariateNormalDiag\", batch_shape=[2], event_shape=[3, 4], dtype=float32)\n",
            "(2, 1, 1, 4)\n",
            "(2, 2)\n"
          ]
        }
      ]
    },
    {
      "cell_type": "code",
      "metadata": {
        "id": "B5KSTZ4wJLKy",
        "colab": {
          "base_uri": "https://localhost:8080/"
        },
        "outputId": "7864c268-0356-4811-d8ff-d28153b886e0"
      },
      "source": [
        "# Make Multivariate Distribution\n",
        "\n",
        "normal_distributions = tfd.MultivariateNormalDiag(\n",
        "    loc=[[0.5, 1], [0.1, 0], [0, 0.2]],\n",
        "    scale_diag=[[2, 3], [1, 3], [4, 4]])\n",
        "normal_distributions"
      ],
      "execution_count": null,
      "outputs": [
        {
          "output_type": "execute_result",
          "data": {
            "text/plain": [
              "<tfp.distributions.MultivariateNormalDiag 'MultivariateNormalDiag' batch_shape=[3] event_shape=[2] dtype=float32>"
            ]
          },
          "metadata": {},
          "execution_count": 12
        }
      ]
    },
    {
      "cell_type": "code",
      "metadata": {
        "id": "cARi0qAyJLKy",
        "colab": {
          "base_uri": "https://localhost:8080/"
        },
        "outputId": "9696d980-57c6-4ec3-ce43-2ced5093b91c"
      },
      "source": [
        "# Sample\n",
        "\n",
        "normal_distributions.sample(5)"
      ],
      "execution_count": null,
      "outputs": [
        {
          "output_type": "execute_result",
          "data": {
            "text/plain": [
              "<tf.Tensor: shape=(5, 3, 2), dtype=float32, numpy=\n",
              "array([[[-1.7240651 , -3.7083402 ],\n",
              "        [ 0.46277824,  2.130966  ],\n",
              "        [-6.8767667 ,  5.1113667 ]],\n",
              "\n",
              "       [[ 1.6763327 ,  7.8116846 ],\n",
              "        [ 0.34241754, -1.2925682 ],\n",
              "        [-4.2199373 , -7.47408   ]],\n",
              "\n",
              "       [[ 4.9359    ,  5.0149426 ],\n",
              "        [-0.26780772, -4.475471  ],\n",
              "        [ 2.7528632 , -5.2830033 ]],\n",
              "\n",
              "       [[ 0.11250994,  3.4953682 ],\n",
              "        [ 0.6092803 , -0.5018116 ],\n",
              "        [ 0.22981344,  3.6751766 ]],\n",
              "\n",
              "       [[ 3.5321178 ,  0.847375  ],\n",
              "        [ 2.342365  ,  5.558059  ],\n",
              "        [ 5.221972  ,  0.8058547 ]]], dtype=float32)>"
            ]
          },
          "metadata": {},
          "execution_count": 13
        }
      ]
    },
    {
      "cell_type": "code",
      "metadata": {
        "id": "BoXkKiOMJLKy",
        "colab": {
          "base_uri": "https://localhost:8080/"
        },
        "outputId": "bddfc37e-780f-4bf6-ecbf-90859d10c786"
      },
      "source": [
        "# Multivariate Normal batched Distribution\n",
        "# We are broadcasting batch shapes of `loc` and `scal_diag` \n",
        "# against each other\n",
        "\n",
        "loc = [\n",
        "    [[0.3, 1.5, 1.], [0.2, 0.4, 2.8]],\n",
        "    [[2., 2.3, 8], [1.4, 1, 1.3]]\n",
        "] # (2, 2, 3)\n",
        "scale_diag = [0.4, 1., 0.7] # (3,)\n",
        "normal_distributions = tfd.MultivariateNormalDiag(\n",
        "    loc=loc, scale_diag=scale_diag)\n",
        "normal_distributions"
      ],
      "execution_count": null,
      "outputs": [
        {
          "output_type": "execute_result",
          "data": {
            "text/plain": [
              "<tfp.distributions.MultivariateNormalDiag 'MultivariateNormalDiag' batch_shape=[2, 2] event_shape=[3] dtype=float32>"
            ]
          },
          "metadata": {},
          "execution_count": 14
        }
      ]
    },
    {
      "cell_type": "code",
      "metadata": {
        "id": "m6HQ0xLjJLKz",
        "colab": {
          "base_uri": "https://localhost:8080/"
        },
        "outputId": "ae6adde4-f52f-4d9b-e745-b343a02682b5"
      },
      "source": [
        "# Use independent to move part of the batch shape\n",
        "\n",
        "ind_normal_distributions = tfd.Independent(normal_distributions,\n",
        "    reinterpreted_batch_ndims=1)\n",
        "ind_normal_distributions"
      ],
      "execution_count": null,
      "outputs": [
        {
          "output_type": "execute_result",
          "data": {
            "text/plain": [
              "<tfp.distributions.Independent 'IndependentMultivariateNormalDiag' batch_shape=[2] event_shape=[2, 3] dtype=float32>"
            ]
          },
          "metadata": {},
          "execution_count": 15
        }
      ]
    },
    {
      "cell_type": "code",
      "metadata": {
        "id": "GiSB2njrJLKz",
        "colab": {
          "base_uri": "https://localhost:8080/"
        },
        "outputId": "167a3378-f634-4e06-8fc2-ab194d537704"
      },
      "source": [
        "# Draw some samples\n",
        "\n",
        "samples = ind_normal_distributions.sample(5)\n",
        "samples.shape"
      ],
      "execution_count": null,
      "outputs": [
        {
          "output_type": "execute_result",
          "data": {
            "text/plain": [
              "TensorShape([5, 2, 2, 3])"
            ]
          },
          "metadata": {},
          "execution_count": 16
        }
      ]
    },
    {
      "cell_type": "code",
      "metadata": {
        "id": "teW-jV5pJLKz",
        "colab": {
          "base_uri": "https://localhost:8080/"
        },
        "outputId": "e4430e6f-4dbf-42e5-dfa0-8034b036da89"
      },
      "source": [
        "# `[B, E]` shaped input\n",
        "\n",
        "inp = tf.random.uniform((2, 2, 3))\n",
        "print(inp.shape)\n",
        "ind_normal_distributions.log_prob(inp)"
      ],
      "execution_count": null,
      "outputs": [
        {
          "output_type": "stream",
          "name": "stdout",
          "text": [
            "(2, 2, 3)\n"
          ]
        },
        {
          "output_type": "execute_result",
          "data": {
            "text/plain": [
              "<tf.Tensor: shape=(2,), dtype=float32, numpy=array([-11.309503, -71.06374 ], dtype=float32)>"
            ]
          },
          "metadata": {},
          "execution_count": 18
        }
      ]
    },
    {
      "cell_type": "code",
      "metadata": {
        "id": "-LocUCT8JLKz",
        "colab": {
          "base_uri": "https://localhost:8080/"
        },
        "outputId": "c1aa3c32-3e3f-4ef2-fcbf-0d8fec0bdf7f"
      },
      "source": [
        "# `[E]` shaped input (broadcasting over batch size)\n",
        "\n",
        "inp = tf.random.uniform((2, 3))\n",
        "print(inp.shape)\n",
        "ind_normal_distributions.log_prob(inp)"
      ],
      "execution_count": null,
      "outputs": [
        {
          "output_type": "stream",
          "name": "stdout",
          "text": [
            "(2, 3)\n"
          ]
        },
        {
          "output_type": "execute_result",
          "data": {
            "text/plain": [
              "<tf.Tensor: shape=(2,), dtype=float32, numpy=array([ -7.907941, -71.9095  ], dtype=float32)>"
            ]
          },
          "metadata": {},
          "execution_count": 20
        }
      ]
    },
    {
      "cell_type": "code",
      "metadata": {
        "id": "N6b8ZCvpJLKz",
        "colab": {
          "base_uri": "https://localhost:8080/"
        },
        "outputId": "cb8a0de8-82cb-476f-9229-c46398495078"
      },
      "source": [
        "#`[S, B, E]` shaped input (broadcasting over samples)\n",
        "\n",
        "inp = tf.random.uniform((9, 2, 2, 3))\n",
        "print(inp.shape)\n",
        "ind_normal_distributions.log_prob(inp)"
      ],
      "execution_count": null,
      "outputs": [
        {
          "output_type": "stream",
          "name": "stdout",
          "text": [
            "(9, 2, 2, 3)\n"
          ]
        },
        {
          "output_type": "execute_result",
          "data": {
            "text/plain": [
              "<tf.Tensor: shape=(9, 2), dtype=float32, numpy=\n",
              "array([[-11.06928  , -77.77469  ],\n",
              "       [-10.046589 , -78.74641  ],\n",
              "       [ -9.131994 , -70.24399  ],\n",
              "       [ -9.60695  , -63.195274 ],\n",
              "       [ -8.578897 , -72.902054 ],\n",
              "       [-10.648019 , -72.51292  ],\n",
              "       [ -8.15361  , -81.76257  ],\n",
              "       [ -7.3252773, -76.356285 ],\n",
              "       [ -7.5470533, -82.98932  ]], dtype=float32)>"
            ]
          },
          "metadata": {},
          "execution_count": 21
        }
      ]
    },
    {
      "cell_type": "code",
      "metadata": {
        "id": "Ryrf_It7JLKz",
        "colab": {
          "base_uri": "https://localhost:8080/"
        },
        "outputId": "98f25915-575e-495f-ca5f-fbff935f18c8"
      },
      "source": [
        "# `[S, b, e]` shaped input, where [b, e] is broadcastable over [B, E]\n",
        "\n",
        "inp = tf.random.uniform((5, 1, 2, 1))\n",
        "print(inp.shape)\n",
        "ind_normal_distributions.log_prob(inp)"
      ],
      "execution_count": null,
      "outputs": [
        {
          "output_type": "stream",
          "name": "stdout",
          "text": [
            "(5, 1, 2, 1)\n"
          ]
        },
        {
          "output_type": "execute_result",
          "data": {
            "text/plain": [
              "<tf.Tensor: shape=(5, 2), dtype=float32, numpy=\n",
              "array([[-10.2820215, -81.29259  ],\n",
              "       [-10.170188 , -81.42787  ],\n",
              "       [ -9.284064 , -73.43315  ],\n",
              "       [-11.014958 , -69.81329  ],\n",
              "       [-11.1937065, -85.75055  ]], dtype=float32)>"
            ]
          },
          "metadata": {},
          "execution_count": 22
        }
      ]
    },
    {
      "cell_type": "markdown",
      "metadata": {
        "id": "YVcqtYoWJLK0"
      },
      "source": [
        "#### Naive Bayes example\n",
        "\n",
        "Lets now use what we have learned and continue the Naive Bayes classifier we were building last tutorial."
      ]
    },
    {
      "cell_type": "code",
      "metadata": {
        "id": "CnXUsSdfJLK0"
      },
      "source": [
        "from sklearn.datasets import fetch_20newsgroups\n",
        "from sklearn.feature_extraction.text import CountVectorizer\n",
        "from sklearn.naive_bayes import BernoulliNB\n",
        "from sklearn.metrics import f1_score"
      ],
      "execution_count": null,
      "outputs": []
    },
    {
      "cell_type": "code",
      "metadata": {
        "id": "yIsjVMI8JLK0"
      },
      "source": [
        "# Making a function get_data which:\n",
        "#   1) Fetches the 20 newsgroup dataset\n",
        "#   2) Performs a word count on the articles and binarizes the result\n",
        "#   3) Returns the data as a numpy matrix with the labels\n",
        "\n",
        "def get_data(categories):\n",
        "    \n",
        "    newsgroups_train_data = fetch_20newsgroups(\n",
        "        data_home='20_Newsgroup_Data/',\n",
        "        subset='train', categories=categories)\n",
        "    newsgroups_test_data = fetch_20newsgroups(\n",
        "        data_home='20_Newsgroup_Data/',\n",
        "        subset='test', categories=categories)\n",
        "\n",
        "    n_documents = len(newsgroups_train_data['data'])\n",
        "    count_vectorizer = CountVectorizer(input='content', \n",
        "        binary=True, max_df=0.25, min_df=1.01/n_documents)\n",
        "    \n",
        "    train_binary_bag_of_words = count_vectorizer.fit_transform(\n",
        "        newsgroups_train_data['data'])\n",
        "    test_binary_bag_of_words = count_vectorizer.transform(\n",
        "        newsgroups_test_data['data']) \n",
        "\n",
        "    return (train_binary_bag_of_words.todense(), \n",
        "            newsgroups_train_data['target']), \\\n",
        "        (test_binary_bag_of_words.todense(), \n",
        "            newsgroups_test_data['target'])"
      ],
      "execution_count": null,
      "outputs": []
    },
    {
      "cell_type": "code",
      "metadata": {
        "id": "onf8ZtxWJLK0"
      },
      "source": [
        "# Defining a function to conduct Laplace smoothing. This adds a base \n",
        "# level of probability for a given feature to occur in every class.\n",
        "\n",
        "def laplace_smoothing(labels, binary_data, n_classes):\n",
        "    # Compute the parameter estimates (adjusted fraction of documents \n",
        "    # in class that contain word)\n",
        "    n_words = binary_data.shape[1]\n",
        "    alpha = 1 # parameters for Laplace smoothing\n",
        "    # stores parameter values - prob. word given class\n",
        "    theta = np.zeros([n_classes, n_words])\n",
        "    for c_k in range(n_classes): # 0, 1, ..., 19\n",
        "        class_mask = (labels == c_k)\n",
        "        N = class_mask.sum() # number of articles in class\n",
        "        theta[c_k, :] = (binary_data[class_mask, :].sum(axis=0) \n",
        "            + alpha)/(N + alpha*2)\n",
        "\n",
        "    return theta"
      ],
      "execution_count": null,
      "outputs": []
    },
    {
      "cell_type": "code",
      "metadata": {
        "id": "qIA2vpaUJLK0",
        "colab": {
          "base_uri": "https://localhost:8080/"
        },
        "outputId": "e6dbb339-975e-4609-bdc5-a7e60579b870"
      },
      "source": [
        "# Getting a subset of the 20 newsgroup dataset\n",
        "\n",
        "categories = ['alt.atheism', 'talk.religion.misc', 'comp.graphics', \n",
        "    'sci.space']\n",
        "\n",
        "(train_data, train_labels), (test_data, test_labels) = get_data(\n",
        "    categories=categories)\n",
        "print(train_data.shape)\n",
        "print(test_data.shape)\n",
        "smoothed_counts = laplace_smoothing(labels=train_labels, \n",
        "    binary_data=train_data, n_classes=len(categories))\n",
        "print(smoothed_counts.shape)"
      ],
      "execution_count": null,
      "outputs": [
        {
          "output_type": "stream",
          "name": "stdout",
          "text": [
            "(2034, 17495)\n",
            "(1353, 17495)\n",
            "(4, 17495)\n"
          ]
        }
      ]
    },
    {
      "cell_type": "markdown",
      "metadata": {
        "id": "NGn2-shtJLK0"
      },
      "source": [
        "To now make our NB classifier we need to build three functions:\n",
        "* Compute the class priors\n",
        "* Build our class conditional distributions\n",
        "* Put it all together and classify our data"
      ]
    },
    {
      "cell_type": "code",
      "metadata": {
        "id": "9hcV-kivJLK0"
      },
      "source": [
        "# Function which computes the prior probability of every class \n",
        "# based on frequency of occurence in the dataset\n",
        "\n",
        "def class_priors(n_classes, labels):\n",
        "    counts = np.zeros(n_classes)\n",
        "    for c_k in range(n_classes):\n",
        "        counts[c_k] = np.sum(np.where(labels==c_k, 1, 0))\n",
        "    priors = counts / np.sum(counts)\n",
        "    print('The class priors are {}'.format(priors))\n",
        "    return priors"
      ],
      "execution_count": null,
      "outputs": []
    },
    {
      "cell_type": "code",
      "metadata": {
        "id": "h01029SdJLK0",
        "colab": {
          "base_uri": "https://localhost:8080/"
        },
        "outputId": "9a8b59e6-725a-4988-c4a2-1cded20323fc"
      },
      "source": [
        "# Run the function \n",
        "\n",
        "priors = class_priors(n_classes=len(categories), labels=train_labels)"
      ],
      "execution_count": null,
      "outputs": [
        {
          "output_type": "stream",
          "name": "stdout",
          "text": [
            "The class priors are [0.2359882  0.28711898 0.29154376 0.18534907]\n"
          ]
        }
      ]
    },
    {
      "cell_type": "code",
      "metadata": {
        "id": "HkIjtvYZJLK0",
        "colab": {
          "base_uri": "https://localhost:8080/"
        },
        "outputId": "cb62ed88-d789-4a20-efd8-3e22c3ba1679"
      },
      "source": [
        "# Now we will do a function that given the feature occurence counts \n",
        "# returns a Bernoulli distribution of batch_shape=number of classes \n",
        "# and event_shape=number of features.\n",
        "\n",
        "def make_distribution(probs):\n",
        "    batch_of_bernoullis = tfd.Bernoulli(probs=probs)\n",
        "    dist = tfd.Independent(batch_of_bernoullis,\n",
        "        reinterpreted_batch_ndims=1)\n",
        "    return dist\n",
        "\n",
        "tf_dist = make_distribution(smoothed_counts)\n",
        "tf_dist"
      ],
      "execution_count": null,
      "outputs": [
        {
          "output_type": "execute_result",
          "data": {
            "text/plain": [
              "<tfp.distributions.Independent 'IndependentBernoulli' batch_shape=[4] event_shape=[17495] dtype=int32>"
            ]
          },
          "metadata": {},
          "execution_count": 9
        }
      ]
    },
    {
      "cell_type": "code",
      "metadata": {
        "id": "_1Mg4hfqJLK0"
      },
      "source": [
        "# The final function predict_sample which given the distribution, \n",
        "#  a test sample, and the class priors:\n",
        "#   1) Computes the class conditional probabilities given the sample\n",
        "#   2) Forms the joint likelihood\n",
        "#   3) Normalises the joint likelihood and returns the log prob\n",
        "\n",
        "def predict_sample(dist, sample, priors):\n",
        "    cond_probs = dist.log_prob(sample)\n",
        "    joint_likelihood = tf.add(\n",
        "        np.log(priors).astype('float32'), cond_probs)\n",
        "    norm_factor = tf.math.reduce_logsumexp(joint_likelihood, \n",
        "        axis=-1, keepdims=True)\n",
        "    log_prob = joint_likelihood - norm_factor\n",
        "    return log_prob"
      ],
      "execution_count": null,
      "outputs": []
    },
    {
      "cell_type": "markdown",
      "metadata": {
        "id": "MUXTlNViJLK0"
      },
      "source": [
        "#### Computing log_probs"
      ]
    },
    {
      "cell_type": "code",
      "metadata": {
        "id": "wraE9panJLK0",
        "colab": {
          "base_uri": "https://localhost:8080/"
        },
        "outputId": "c2bdbc7b-a8ec-4063-f282-152f60b434f2"
      },
      "source": [
        "# Predicting one example from our test data\n",
        "\n",
        "log_probs = predict_sample(tf_dist, test_data[0], priors)\n",
        "log_probs"
      ],
      "execution_count": null,
      "outputs": [
        {
          "output_type": "execute_result",
          "data": {
            "text/plain": [
              "<tf.Tensor: shape=(4,), dtype=float32, numpy=\n",
              "array([-6.1736267e+01, -1.5258789e-05, -1.1619888e+01, -6.3327835e+01],\n",
              "      dtype=float32)>"
            ]
          },
          "metadata": {},
          "execution_count": 11
        }
      ]
    },
    {
      "cell_type": "code",
      "metadata": {
        "id": "QsU1CugjJLK1",
        "colab": {
          "base_uri": "https://localhost:8080/"
        },
        "outputId": "b35b0a23-6ec0-4524-c41a-9c4f274c212b"
      },
      "source": [
        "# Loop over our test data and classify.\n",
        "\n",
        "probabilities = []\n",
        "for sample, label in zip(test_data, test_labels):\n",
        "    probabilities.append(tf.exp(\n",
        "        predict_sample(tf_dist, sample, priors)))\n",
        "\n",
        "probabilities = np.asarray(probabilities)\n",
        "print(probabilities.shape)\n",
        "\n",
        "predicted_classes = np.argmax(probabilities, axis=-1)\n",
        "print(predicted_classes.shape)\n",
        "\n",
        "print('f1 ', f1_score(\n",
        "    test_labels, predicted_classes, average='macro'))"
      ],
      "execution_count": null,
      "outputs": [
        {
          "output_type": "stream",
          "name": "stdout",
          "text": [
            "(1353, 4)\n",
            "(1353,)\n",
            "f1  0.7848499112849504\n"
          ]
        }
      ]
    },
    {
      "cell_type": "code",
      "metadata": {
        "id": "fbOOfz0lJLK1",
        "colab": {
          "base_uri": "https://localhost:8080/"
        },
        "outputId": "22c9333c-0d82-42eb-df53-5d4f3a569380"
      },
      "source": [
        "# Make a Bernoulli Naive Bayes classifier using \n",
        "# sklearn with the same level of alpha smoothing. \n",
        "\n",
        "clf = BernoulliNB(alpha=1)\n",
        "clf.fit(train_data, train_labels)\n",
        "pred = clf.predict(test_data)\n",
        "print('f1 from sklean ', f1_score(test_labels, pred, average='macro'))"
      ],
      "execution_count": null,
      "outputs": [
        {
          "output_type": "stream",
          "name": "stdout",
          "text": [
            "f1 from sklean  0.7848499112849504\n"
          ]
        }
      ]
    },
    {
      "cell_type": "markdown",
      "metadata": {
        "id": "6Z7qN8c-JLK1"
      },
      "source": [
        "***\n",
        "<a id='trainable_distributions'></a>\n",
        "## Trainable Distributions"
      ]
    },
    {
      "cell_type": "code",
      "metadata": {
        "id": "9qthEY0wJLK1",
        "colab": {
          "base_uri": "https://localhost:8080/"
        },
        "outputId": "5ba7ebdc-0a74-49bd-bc13-0946f4a2b305"
      },
      "source": [
        "import tensorflow as tf\n",
        "import tensorflow_probability as tfp\n",
        "tfd = tfp.distributions\n",
        "\n",
        "normal = tfd.Normal(loc=tf.Variable(0., name='loc'), scale=1.)\n",
        "print(normal.trainable_variables)\n",
        "\n",
        "def nll(x_train):\n",
        "    return -tf.reduce_mean(normal.log_prob(x_train))\n",
        "\n",
        "@tf.function\n",
        "def get_loss_and_grads(x_train):\n",
        "    with tf.GradientTape() as tape:\n",
        "        tape.watch(normal.trainable_variables)\n",
        "        loss = nll(x_train)\n",
        "    grads = tape.gradient(loss, normal.trainable_variables)\n",
        "    return loss, grads\n",
        "\n",
        "optimizer = tf.keras.optimizers.SGD(learning_rate=0.05)\n",
        "\n",
        "num_steps = 10\n",
        "x_samples = tf.random.uniform((1, 100))\n",
        "\n",
        "for _ in range(num_steps):\n",
        "    loss, grads = get_loss_and_grads(x_samples)\n",
        "    optimizer.apply_gradients(zip(grads, normal.trainable_variables))\n",
        "    print(\"loss=%f, loc=%s\" % (\n",
        "        loss.numpy(), normal.loc.numpy()))"
      ],
      "execution_count": 22,
      "outputs": [
        {
          "output_type": "stream",
          "name": "stdout",
          "text": [
            "(<tf.Variable 'loc:0' shape=() dtype=float32, numpy=0.0>,)\n",
            "loss=1.076749, loc=0.024093773\n",
            "loss=1.065429, loc=0.04698286\n",
            "loss=1.055213, loc=0.068727486\n",
            "loss=1.045993, loc=0.08938488\n",
            "loss=1.037672, loc=0.109009415\n",
            "loss=1.030162, loc=0.12765272\n",
            "loss=1.023384, loc=0.14536385\n",
            "loss=1.017267, loc=0.16218944\n",
            "loss=1.011747, loc=0.17817374\n",
            "loss=1.006765, loc=0.19335882\n"
          ]
        }
      ]
    },
    {
      "cell_type": "code",
      "metadata": {
        "id": "Eej3ee7HJLK1"
      },
      "source": [
        "from sklearn.datasets import fetch_20newsgroups\n",
        "from sklearn.feature_extraction.text import CountVectorizer\n",
        "from sklearn.naive_bayes import BernoulliNB\n",
        "from sklearn.metrics import f1_score"
      ],
      "execution_count": 12,
      "outputs": []
    },
    {
      "cell_type": "code",
      "metadata": {
        "id": "_s0QgnP0JLK1"
      },
      "source": [
        "# Define an exponential distribution\n",
        "\n",
        "exponential = tfd.Exponential(rate=0.3, name='exp')"
      ],
      "execution_count": 13,
      "outputs": []
    },
    {
      "cell_type": "code",
      "metadata": {
        "id": "H1TcnqhaJLK1",
        "colab": {
          "base_uri": "https://localhost:8080/",
          "height": 268
        },
        "outputId": "582e9e6a-608c-4ec1-bbde-3f8750db3414"
      },
      "source": [
        "# Plot\n",
        "\n",
        "plt.hist(exponential.sample(5000), bins=100, density=True)\n",
        "plt.show()"
      ],
      "execution_count": 14,
      "outputs": [
        {
          "output_type": "display_data",
          "data": {
            "text/plain": [
              "<Figure size 432x288 with 1 Axes>"
            ],
            "image/png": "[encoded data removed]"
          },
          "metadata": {
            "image/png": {
              "width": 383,
              "height": 251
            }
          }
        }
      ]
    },
    {
      "cell_type": "code",
      "metadata": {
        "id": "lFUmDFKRJLK1",
        "colab": {
          "base_uri": "https://localhost:8080/"
        },
        "outputId": "62032284-e217-4850-cfcb-8e1cfb288101"
      },
      "source": [
        "# Define an exponential distribution with a trainable rate parameter\n",
        "\n",
        "exp_train = tfd.Exponential(rate=tf.Variable(1., name='rate'),\n",
        "    name='exp_train')\n",
        "exp_train.trainable_variables"
      ],
      "execution_count": 15,
      "outputs": [
        {
          "output_type": "execute_result",
          "data": {
            "text/plain": [
              "(<tf.Variable 'rate:0' shape=() dtype=float32, numpy=1.0>,)"
            ]
          },
          "metadata": {},
          "execution_count": 15
        }
      ]
    },
    {
      "cell_type": "code",
      "metadata": {
        "id": "4lzIjnCvJLK1"
      },
      "source": [
        "# Define the negative log likelihood\n",
        "\n",
        "def nll(x_train, distribution):\n",
        "    return -tf.reduce_mean(distribution.log_prob(x_train))"
      ],
      "execution_count": 16,
      "outputs": []
    },
    {
      "cell_type": "code",
      "metadata": {
        "id": "Xe2cHl_iJLK1"
      },
      "source": [
        "# Define a function to compute the loss and gradients\n",
        "\n",
        "@tf.function\n",
        "def get_loss_and_grads(x_train, distribution):\n",
        "    with tf.GradientTape() as tape:\n",
        "        tape.watch(distribution.trainable_variables)\n",
        "        loss = nll(x_train, distribution)\n",
        "        grads = tape.gradient(loss, distribution.trainable_variables)\n",
        "    return loss, grads"
      ],
      "execution_count": 17,
      "outputs": []
    },
    {
      "cell_type": "code",
      "metadata": {
        "id": "irDLjfGqJLK1"
      },
      "source": [
        "# Optimize\n",
        "\n",
        "def exponential_dist_optimisation(data, distribution):\n",
        "\n",
        "    # Keep results for plotting\n",
        "    train_loss_results = []\n",
        "    train_rate_results = []\n",
        "    \n",
        "    optimizer = tf.keras.optimizers.SGD(learning_rate=0.05)\n",
        "\n",
        "    num_steps = 10\n",
        "\n",
        "    for i in range(num_steps):\n",
        "        loss, grads = get_loss_and_grads(data, distribution)\n",
        "        optimizer.apply_gradients(\n",
        "            zip(grads, distribution.trainable_variables))\n",
        "        \n",
        "        rate_value = distribution.rate.value()\n",
        "        train_loss_results.append(loss)\n",
        "        train_rate_results.append(rate_value)\n",
        "        \n",
        "        print(\"Step {:03d}: Loss: {:.3f}: Rate: {:.3f}\".format(\n",
        "            i, loss, rate_value))\n",
        "        \n",
        "    return train_loss_results, train_rate_results"
      ],
      "execution_count": 18,
      "outputs": []
    },
    {
      "cell_type": "code",
      "metadata": {
        "id": "9yc-G3FVJLK1",
        "colab": {
          "base_uri": "https://localhost:8080/"
        },
        "outputId": "fbbe183f-d9d6-4ffd-968b-c09900614ba6"
      },
      "source": [
        "# Get some data and train\n",
        "\n",
        "sampled_data = exponential.sample(5000)\n",
        "train_loss_results, train_rate_results = exponential_dist_optimisation(\n",
        "    data=sampled_data, distribution=exp_train)"
      ],
      "execution_count": 19,
      "outputs": [
        {
          "output_type": "stream",
          "name": "stdout",
          "text": [
            "Step 000: Loss: 3.448: Rate: 0.878\n",
            "Step 001: Loss: 3.156: Rate: 0.762\n",
            "Step 002: Loss: 2.899: Rate: 0.655\n",
            "Step 003: Loss: 2.682: Rate: 0.559\n",
            "Step 004: Loss: 2.509: Rate: 0.476\n",
            "Step 005: Loss: 2.384: Rate: 0.409\n",
            "Step 006: Loss: 2.304: Rate: 0.359\n",
            "Step 007: Loss: 2.262: Rate: 0.326\n",
            "Step 008: Loss: 2.245: Rate: 0.307\n",
            "Step 009: Loss: 2.239: Rate: 0.297\n"
          ]
        }
      ]
    },
    {
      "cell_type": "code",
      "metadata": {
        "id": "_tP7oL4qJLK1",
        "colab": {
          "base_uri": "https://localhost:8080/"
        },
        "outputId": "09232b96-e771-4bb7-f751-fa5e85e31dde"
      },
      "source": [
        "# Predicted value for the rate parameter\n",
        "\n",
        "pred_value = exp_train.rate.numpy()\n",
        "exact_value = exponential.rate.numpy()\n",
        "\n",
        "print(\"Exact rate: \", exact_value)\n",
        "print(\"Pred rate:  \", pred_value)"
      ],
      "execution_count": 23,
      "outputs": [
        {
          "output_type": "stream",
          "name": "stdout",
          "text": [
            "Exact rate:  0.3\n",
            "Pred rate:   0.2974237\n"
          ]
        }
      ]
    },
    {
      "cell_type": "code",
      "metadata": {
        "id": "9GKaAO4YJLK1",
        "colab": {
          "base_uri": "https://localhost:8080/",
          "height": 561
        },
        "outputId": "6492aec7-b40d-48bd-8fc5-eecabb5c312a"
      },
      "source": [
        "# Plot to see the convergence of the estimated and true parameters\n",
        "\n",
        "tensor_exact_value = tf.constant(exact_value, \n",
        "    shape=[len(train_rate_results)])\n",
        "\n",
        "fig, axes = plt.subplots(2, sharex=True, figsize=(12, 8))\n",
        "fig.suptitle('Convergence')\n",
        "\n",
        "axes[0].set_ylabel(\"Loss\", fontsize=14)\n",
        "axes[0].plot(train_loss_results)\n",
        "\n",
        "axes[1].set_ylabel(\"Rate\", fontsize=14)\n",
        "axes[1].set_xlabel(\"Epoch\", fontsize=14)\n",
        "axes[1].plot(train_rate_results, label='trainable rate variable')\n",
        "axes[1].plot(tensor_exact_value, label='exact rate')\n",
        "axes[1].legend()\n",
        "plt.show()"
      ],
      "execution_count": 24,
      "outputs": [
        {
          "output_type": "display_data",
          "data": {
            "text/plain": [
              "<Figure size 864x576 with 2 Axes>"
            ],
            "image/png": "[encoded data removed]"
          },
          "metadata": {
            "image/png": {
              "width": 729,
              "height": 544
            }
          }
        }
      ]
    },
    {
      "cell_type": "code",
      "metadata": {
        "id": "7XH7EXK2JLK2"
      },
      "source": [
        "# Making a function get_data which:\n",
        "#   1) Fetches the 20 newsgroup dataset\n",
        "#   2) Performs a word count on the articles and binarizes the result\n",
        "#   3) Returns the data as a numpy matrix with the labels\n",
        "\n",
        "def get_data(categories):\n",
        "\n",
        "    newsgroups_train_data = fetch_20newsgroups(\n",
        "        data_home='20_Newsgroup_Data/', subset='train', \n",
        "        categories=categories)\n",
        "    newsgroups_test_data = fetch_20newsgroups(\n",
        "        data_home='20_Newsgroup_Data/', subset='test', \n",
        "        categories=categories)\n",
        "\n",
        "    n_documents = len(newsgroups_train_data['data'])\n",
        "    count_vectorizer = CountVectorizer(input='content', binary=True, \n",
        "        max_df=0.25, min_df=1.01/n_documents) \n",
        "    train_binary_bag_of_words = count_vectorizer.fit_transform(\n",
        "        newsgroups_train_data['data']) \n",
        "    test_binary_bag_of_words = count_vectorizer.transform(\n",
        "        newsgroups_test_data['data']) \n",
        "\n",
        "    return (train_binary_bag_of_words.todense(), \n",
        "            newsgroups_train_data['target']), \\\n",
        "        (test_binary_bag_of_words.todense(), \n",
        "             newsgroups_test_data['target'])"
      ],
      "execution_count": null,
      "outputs": []
    },
    {
      "cell_type": "code",
      "metadata": {
        "id": "mg2az00_JLK2"
      },
      "source": [
        "# Defining a function to conduct laplace smoothing. This adds a base \n",
        "# level of probability for a given feature to occur in every class.\n",
        "\n",
        "def laplace_smoothing(labels, binary_data, n_classes):\n",
        "    # Compute the parameter estimates (adjusted fraction of documents \n",
        "    # in class that contain word)\n",
        "    n_words = binary_data.shape[1]\n",
        "    alpha = 1 # parameters for Laplace smoothing\n",
        "    theta = np.zeros([n_classes, n_words]) # stores parameter values - prob. word given class\n",
        "    for c_k in range(n_classes): # 0, 1, ..., 19\n",
        "        class_mask = (labels == c_k)\n",
        "        N = class_mask.sum() # number of articles in class\n",
        "        theta[c_k, :] = (binary_data[class_mask, :].sum(axis=0) \n",
        "            + alpha)/(N + alpha*2)\n",
        "\n",
        "    return theta"
      ],
      "execution_count": null,
      "outputs": []
    },
    {
      "cell_type": "code",
      "metadata": {
        "id": "elqEeSxBJLK2"
      },
      "source": [
        "# Now we will do a function that given the feature occurence counts \n",
        "# returns a Bernoulli distribution of batch_shape=number of classes \n",
        "# and event_shape=number of features.\n",
        "\n",
        "def make_distributions(probs):\n",
        "    # shape (n_classes, n_words)\n",
        "    batch_of_bernoullis = tfd.Bernoulli(probs=probs)\n",
        "    dist = tfd.Independent(batch_of_bernoullis, \n",
        "        reinterpreted_batch_ndims=1)\n",
        "    return dist"
      ],
      "execution_count": null,
      "outputs": []
    },
    {
      "cell_type": "code",
      "metadata": {
        "id": "v3hnXUNRJLK2"
      },
      "source": [
        "# Function which computes the prior probability of every class \n",
        "# based on frequency of occurence in the dataset\n",
        "\n",
        "def class_priors(n_classes, labels):\n",
        "    counts = np.zeros(n_classes)\n",
        "    for c_k in range(n_classes):\n",
        "        counts[c_k] = np.sum(np.where(labels==c_k, 1, 0))\n",
        "    priors = counts / np.sum(counts)\n",
        "    print('The class priors are {}'.format(priors))\n",
        "    return priors"
      ],
      "execution_count": null,
      "outputs": []
    },
    {
      "cell_type": "code",
      "metadata": {
        "id": "JwDcgouFJLK2"
      },
      "source": [
        "# The final function predict_sample which given the distribution, \n",
        "# a test sample, and the class priors:\n",
        "#   1) Computes the class conditional probabilities given the sample\n",
        "#   2) Forms the joint likelihood\n",
        "#   3) Normalises the joint likelihood and returns the log prob\n",
        "\n",
        "def predict_sample(dist, sample, priors):\n",
        "    cond_probs = dist.log_prob(sample)\n",
        "    joint_likelihood = tf.add(np.log(priors), cond_probs)\n",
        "    norm_factor = tf.math.reduce_logsumexp(joint_likelihood, \n",
        "        axis=-1, keepdims=True)\n",
        "    log_prob = joint_likelihood - norm_factor\n",
        "\n",
        "    return log_prob"
      ],
      "execution_count": null,
      "outputs": []
    },
    {
      "cell_type": "code",
      "metadata": {
        "id": "7iRIpHceJLK2"
      },
      "source": [
        "# Now we learn the distribution using gradient tape\n",
        "\n",
        "def make_distribution_withGT(data, labels, nb_classes):\n",
        "\n",
        "    class_data = []\n",
        "    train_vars = []\n",
        "    distributions = []\n",
        "    for c in range(nb_classes):\n",
        "        train_vars.append(tf.Variable(initial_value=np.random.uniform(\n",
        "            low=0.01, high=0.1, size=data.shape[-1])))\n",
        "        distributions.append(tfd.Bernoulli(probs=train_vars[c]))\n",
        "        class_mask = (labels == c)\n",
        "        class_data.append(data[class_mask, :])\n",
        "\n",
        "    for c_num in range(0,nb_classes):\n",
        "        optimizer = tf.keras.optimizers.Adam()\n",
        "        print('\\n%-------------------%')\n",
        "        print('Class ', c_num)\n",
        "        print('%-------------------%')\n",
        "\n",
        "        for i in range(0,100):\n",
        "            loss, grads = get_loss_and_grads(class_data[c_num],\n",
        "                distributions[c_num])\n",
        "            if(i%10==0):\n",
        "                print(\"iter: {} loss: {}\".format(i, loss))\n",
        "            optimizer.apply_gradients(zip(grads, \n",
        "                distributions[c_num].trainable_variables))\n",
        "            eta = 1e-3\n",
        "            clipped_probs = tf.clip_by_value(\n",
        "                distributions[c_num].trainable_variables, \n",
        "                clip_value_min=eta, clip_value_max=1)\n",
        "            train_vars[c_num] = tf.squeeze(clipped_probs)\n",
        "            \n",
        "    dist = tfd.Bernoulli(probs=train_vars)\n",
        "    dist = tfd.Independent(dist,reinterpreted_batch_ndims=1)\n",
        "\n",
        "    print(dist)\n",
        "\n",
        "    return dist"
      ],
      "execution_count": null,
      "outputs": []
    },
    {
      "cell_type": "code",
      "metadata": {
        "id": "aqtk2Zm6JLK2",
        "colab": {
          "base_uri": "https://localhost:8080/"
        },
        "outputId": "b134ecce-e526-455a-b7e3-ea5818e4209b"
      },
      "source": [
        "# Make the same Naive Bayes classifier we did last tutorial\n",
        "\n",
        "categories = ['alt.atheism', 'talk.religion.misc', \n",
        "    'comp.graphics', 'sci.space']\n",
        "\n",
        "(train_data, train_labels), (test_data, test_labels) = get_data(\n",
        "    categories)\n",
        "\n",
        "smoothed_counts = laplace_smoothing(labels=train_labels, \n",
        "    binary_data=train_data, n_classes=len(categories))\n",
        "\n",
        "priors = class_priors(n_classes=len(categories), labels=train_labels)\n",
        "tf_dist = make_distributions(smoothed_counts)"
      ],
      "execution_count": null,
      "outputs": [
        {
          "output_type": "stream",
          "text": [
            "The class priors are [0.2359882  0.28711898 0.29154376 0.18534907]\n"
          ],
          "name": "stdout"
        }
      ]
    },
    {
      "cell_type": "code",
      "metadata": {
        "id": "C5xEZDrWJLK2",
        "colab": {
          "base_uri": "https://localhost:8080/"
        },
        "outputId": "d2ce64e6-1d43-45f0-f5da-973d532cfdb2"
      },
      "source": [
        "# Now train the distributions with gradient tape\n",
        "\n",
        "GT_dist = make_distribution_withGT(data=train_data, \n",
        "    labels=train_labels, nb_classes=4)"
      ],
      "execution_count": null,
      "outputs": [
        {
          "output_type": "stream",
          "text": [
            "\n",
            "%-------------------%\n",
            "Class  0\n",
            "%-------------------%\n",
            "iter: 0 loss: 0.07902118553995806\n",
            "iter: 10 loss: 0.06963405523435504\n",
            "iter: 20 loss: 0.0608918949856193\n",
            "iter: 30 loss: 0.05280232907149842\n",
            "iter: 40 loss: 0.04531444360073686\n",
            "iter: 50 loss: 0.038378888070808095\n",
            "iter: 60 loss: 0.031958745063159995\n",
            "iter: 70 loss: 0.026020157848342787\n",
            "iter: 80 loss: 0.020530468789498553\n",
            "iter: 90 loss: 0.015433514738799906\n",
            "\n",
            "%-------------------%\n",
            "Class  1\n",
            "%-------------------%\n",
            "iter: 0 loss: 0.07153375532236596\n",
            "iter: 10 loss: 0.06221416573349597\n",
            "iter: 20 loss: 0.05343760927299277\n",
            "iter: 30 loss: 0.04527117494789355\n",
            "iter: 40 loss: 0.03769632026771998\n",
            "iter: 50 loss: 0.030690184418246468\n",
            "iter: 60 loss: 0.02422364519361238\n",
            "iter: 70 loss: 0.018255199269862615\n",
            "iter: 80 loss: 0.012753119626395833\n",
            "iter: 90 loss: 0.007662130580477463\n",
            "\n",
            "%-------------------%\n",
            "Class  2\n",
            "%-------------------%\n",
            "iter: 0 loss: 0.0786312311779793\n",
            "iter: 10 loss: 0.06951153062442243\n",
            "iter: 20 loss: 0.06110314541587953\n",
            "iter: 30 loss: 0.05342565583629309\n",
            "iter: 40 loss: 0.046438346240193\n",
            "iter: 50 loss: 0.040084629936340606\n",
            "iter: 60 loss: 0.034356973409932566\n",
            "iter: 70 loss: 0.029225191220468055\n",
            "iter: 80 loss: 0.02461574858119787\n",
            "iter: 90 loss: 0.020472846529098702\n",
            "\n",
            "%-------------------%\n",
            "Class  3\n",
            "%-------------------%\n",
            "iter: 0 loss: 0.07955792482290645\n",
            "iter: 10 loss: 0.07030623933463814\n",
            "iter: 20 loss: 0.061701889559887625\n",
            "iter: 30 loss: 0.05373139867204619\n",
            "iter: 40 loss: 0.046338181659233445\n",
            "iter: 50 loss: 0.03949233395070636\n",
            "iter: 60 loss: 0.033150770160246396\n",
            "iter: 70 loss: 0.02727274974649232\n",
            "iter: 80 loss: 0.02180244980636655\n",
            "iter: 90 loss: 0.016688894935262523\n",
            "tfp.distributions.Independent(\"IndependentBernoulli\", batch_shape=[4], event_shape=[17495], dtype=int32)\n"
          ],
          "name": "stdout"
        }
      ]
    },
    {
      "cell_type": "code",
      "metadata": {
        "id": "d100cO00JLK2",
        "colab": {
          "base_uri": "https://localhost:8080/"
        },
        "outputId": "3b877236-c19d-411c-a6e2-1deb470efa39"
      },
      "source": [
        "# Compare the two results\n",
        "\n",
        "for dist in [GT_dist,tf_dist]:\n",
        "    probabilities = []\n",
        "    for sample, label in zip(test_data, test_labels):\n",
        "        probabilities.append(predict_sample(dist, sample, priors))\n",
        "\n",
        "    probabilities = np.asarray(probabilities)\n",
        "    predicted_classes = np.argmax(probabilities, axis =-1)\n",
        "    print('f1 ', f1_score(test_labels, predicted_classes, average='macro'))"
      ],
      "execution_count": null,
      "outputs": [
        {
          "output_type": "stream",
          "text": [
            "f1  0.8261879834832313\n",
            "f1  0.7848499112849504\n"
          ],
          "name": "stdout"
        }
      ]
    }
  ]
}