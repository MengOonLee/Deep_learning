{
  "nbformat": 4,
  "nbformat_minor": 0,
  "metadata": {
    "kernelspec": {
      "display_name": "Python 3",
      "language": "python",
      "name": "python3"
    },
    "language_info": {
      "codemirror_mode": {
        "name": "ipython",
        "version": 3
      },
      "file_extension": ".py",
      "mimetype": "text/x-python",
      "name": "python",
      "nbconvert_exporter": "python",
      "pygments_lexer": "ipython3",
      "version": "3.8.5"
    },
    "colab": {
      "name": "Data_pipeline.ipynb",
      "provenance": [],
      "include_colab_link": true
    }
  },
  "cells": [
    {
      "cell_type": "markdown",
      "metadata": {
        "id": "view-in-github",
        "colab_type": "text"
      },
      "source": [
        "<a href=\"https://colab.research.google.com/github/MengOonLee/Deep_learning/blob/master/TensorFlow2/Tutorial/Data_pipeline.ipynb\" target=\"_parent\"><img src=\"https://colab.research.google.com/assets/colab-badge.svg\" alt=\"Open In Colab\"/></a>"
      ]
    },
    {
      "cell_type": "code",
      "metadata": {
        "id": "j0Oi8mZVhZ_z",
        "outputId": "ebbe8752-1fd9-45be-fe19-031ae74029af",
        "colab": {
          "base_uri": "https://localhost:8080/"
        }
      },
      "source": [
        "import tensorflow as tf\n",
        "print(tf.__version__)"
      ],
      "execution_count": 1,
      "outputs": [
        {
          "output_type": "stream",
          "text": [
            "2.3.0\n"
          ],
          "name": "stdout"
        }
      ]
    },
    {
      "cell_type": "markdown",
      "metadata": {
        "id": "xwp-WlWbhZ__"
      },
      "source": [
        "# Data Pipeline"
      ]
    },
    {
      "cell_type": "markdown",
      "metadata": {
        "id": "4cBJq_RLhaAB"
      },
      "source": [
        " ## Coding tutorials\n",
        " #### [1. Keras datasets](#coding_tutorial_1)\n",
        " #### [2. Dataset generators](#coding_tutorial_2)\n",
        " #### [3. Keras image data augmentation](#coding_tutorial_3)\n",
        " #### [4. The Dataset class](#coding_tutorial_4)\n",
        " #### [5. Training with Datasets](#coding_tutorial_5)"
      ]
    },
    {
      "cell_type": "markdown",
      "metadata": {
        "id": "PWJ8FsVQhaAE"
      },
      "source": [
        "***\n",
        "<a id=\"coding_tutorial_1\"></a>\n",
        "## Keras datasets\n",
        "\n",
        "For a list of Keras datasets and documentation on recommended usage, see [this link](https://keras.io/datasets/)."
      ]
    },
    {
      "cell_type": "code",
      "metadata": {
        "id": "-LHeafLIhaAG"
      },
      "source": [
        "import os\n",
        "import numpy as np\n",
        "%matplotlib inline\n",
        "import matplotlib.pyplot as plt"
      ],
      "execution_count": 2,
      "outputs": []
    },
    {
      "cell_type": "code",
      "metadata": {
        "id": "ZrzUeBfZmY65"
      },
      "source": [
        "data_dir = \"./data\"\n",
        "if not os.path.exists(data_dir):\n",
        "    os.makedirs(data_dir)"
      ],
      "execution_count": 3,
      "outputs": []
    },
    {
      "cell_type": "markdown",
      "metadata": {
        "id": "AgnvqE4bhaAM"
      },
      "source": [
        "#### Load the CIFAR-100 Dataset"
      ]
    },
    {
      "cell_type": "code",
      "metadata": {
        "id": "MHQxhuLGhaAN"
      },
      "source": [
        "from tensorflow.keras.datasets import cifar100"
      ],
      "execution_count": 4,
      "outputs": []
    },
    {
      "cell_type": "code",
      "metadata": {
        "scrolled": true,
        "id": "UvgpO_ithaAS",
        "outputId": "36c09c60-675a-4971-deb5-022d11faf5d2",
        "colab": {
          "base_uri": "https://localhost:8080/"
        }
      },
      "source": [
        "# Load the CIFAR-100 dataset\n",
        "\n",
        "(train_images, train_labels), (test_images, test_labels) = cifar100\\\n",
        "    .load_data(label_mode='fine')"
      ],
      "execution_count": 5,
      "outputs": [
        {
          "output_type": "stream",
          "text": [
            "Downloading data from https://www.cs.toronto.edu/~kriz/cifar-100-python.tar.gz\n",
            "169009152/169001437 [==============================] - 11s 0us/step\n"
          ],
          "name": "stdout"
        }
      ]
    },
    {
      "cell_type": "code",
      "metadata": {
        "id": "gUkc2wWUhaAZ"
      },
      "source": [
        "# Confirm that reloading the dataset does not require a download\n",
        "\n",
        "(train_images, train_labels), (test_images, test_labels) = cifar100\\\n",
        "    .load_data(label_mode='fine')"
      ],
      "execution_count": 6,
      "outputs": []
    },
    {
      "cell_type": "markdown",
      "metadata": {
        "id": "Rf61wNi8haAg"
      },
      "source": [
        "#### Examine the Dataset"
      ]
    },
    {
      "cell_type": "markdown",
      "metadata": {
        "id": "GSKmE8ToTupV"
      },
      "source": [
        "#### Import the data\n",
        "\n",
        "The additional files required for this tutorial can be downloaded from the following link:\n",
        "\n",
        "cifar100_fine_labels: https://drive.google.com/open?id=1WFW1cj8v_5z1pGvq6htQyFUPrJP-Z2v5\n",
        "\n",
        "cifar100_coarse_labels: https://drive.google.com/open?id=1Jmt7o-6sP85D7iRORk5tJqJMN3wCP12p\n",
        "\n",
        "You should store these files for use in this Colab notebook."
      ]
    },
    {
      "cell_type": "code",
      "metadata": {
        "id": "73Dcjdf2TsNk",
        "outputId": "f4a1ab1b-58d4-4925-86ac-333f622c3fe2",
        "colab": {
          "base_uri": "https://localhost:8080/"
        }
      },
      "source": [
        "%%bash\n",
        "\n",
        "fileid=\"1WFW1cj8v_5z1pGvq6htQyFUPrJP-Z2v5\"\n",
        "filename=\"./data/cifar100_fine_labels.json\"\n",
        "curl -c ./cookie -s -L \"https://drive.google.com/uc?export=download&id=${fileid}\" > /dev/null\n",
        "curl -Lb ./cookie \"https://drive.google.com/uc?export=download&confirm=`awk '/download/ {print $NF}' ./cookie`&id=${fileid}\" -o ${filename}\n",
        "\n",
        "fileid=\"1Jmt7o-6sP85D7iRORk5tJqJMN3wCP12p\"\n",
        "filename=\"./data/cifar100_coarse_labels.json\"\n",
        "curl -c ./cookie -s -L \"https://drive.google.com/uc?export=download&id=${fileid}\" > /dev/null\n",
        "curl -Lb ./cookie \"https://drive.google.com/uc?export=download&confirm=`awk '/download/ {print $NF}' ./cookie`&id=${fileid}\" -o ${filename}\n",
        "\n",
        "rm ./cookie"
      ],
      "execution_count": 7,
      "outputs": [
        {
          "output_type": "stream",
          "text": [
            "  % Total    % Received % Xferd  Average Speed   Time    Time     Time  Current\n",
            "                                 Dload  Upload   Total   Spent    Left  Speed\n",
            "\r  0     0    0     0    0     0      0      0 --:--:-- --:--:-- --:--:--     0\r  0     0    0     0    0     0      0      0 --:--:-- --:--:-- --:--:--     0\r100   408    0   408    0     0   1311      0 --:--:-- --:--:-- --:--:--  1307\n",
            "\r  0     0    0     0    0     0      0      0 --:--:-- --:--:-- --:--:--     0\n",
            "\r  0     0    0     0    0     0      0      0 --:--:-- --:--:-- --:--:--     0\n",
            "\r100  1436  100  1436    0     0   1311      0  0:00:01  0:00:01 --:--:--  1311\r100  1436  100  1436    0     0   1311      0  0:00:01  0:00:01 --:--:--     0\n",
            "  % Total    % Received % Xferd  Average Speed   Time    Time     Time  Current\n",
            "                                 Dload  Upload   Total   Spent    Left  Speed\n",
            "\r  0     0    0     0    0     0      0      0 --:--:-- --:--:-- --:--:--     0\r  0     0    0     0    0     0      0      0 --:--:-- --:--:-- --:--:--     0\r100   408    0   408    0     0   1093      0 --:--:-- --:--:-- --:--:--  1090\n",
            "\r  0     0    0     0    0     0      0      0 --:--:-- --:--:-- --:--:--     0\n",
            "\r  0     0    0     0    0     0      0      0 --:--:-- --:--:-- --:--:--     0\n",
            "\r100   475  100   475    0     0    441      0  0:00:01  0:00:01 --:--:--   441\r100   475  100   475    0     0    441      0  0:00:01  0:00:01 --:--:--     0\n"
          ],
          "name": "stderr"
        }
      ]
    },
    {
      "cell_type": "code",
      "metadata": {
        "id": "GqECp0NVhaAg",
        "outputId": "f2ac2696-2bc6-405b-b742-680a84a4054f",
        "colab": {
          "base_uri": "https://localhost:8080/"
        }
      },
      "source": [
        "# Examine the shape of the data.\n",
        "\n",
        "print(train_images.shape)\n",
        "print(train_labels.shape)\n",
        "print(test_images.shape)\n",
        "print(test_labels.shape)"
      ],
      "execution_count": 8,
      "outputs": [
        {
          "output_type": "stream",
          "text": [
            "(50000, 32, 32, 3)\n",
            "(50000, 1)\n",
            "(10000, 32, 32, 3)\n",
            "(10000, 1)\n"
          ],
          "name": "stdout"
        }
      ]
    },
    {
      "cell_type": "code",
      "metadata": {
        "id": "gGJe--0AhaAk",
        "outputId": "4f072207-917d-4ac0-b14f-6b6d190458df",
        "colab": {
          "base_uri": "https://localhost:8080/",
          "height": 283
        }
      },
      "source": [
        "# Examine one of the images and its corresponding label\n",
        "\n",
        "plt.imshow(train_images[500])\n",
        "print(train_labels[500])"
      ],
      "execution_count": 9,
      "outputs": [
        {
          "output_type": "stream",
          "text": [
            "[41]\n"
          ],
          "name": "stdout"
        },
        {
          "output_type": "display_data",
          "data": {
            "image/png": "[encoded data removed]",
            "text/plain": [
              "<Figure size 432x288 with 1 Axes>"
            ]
          },
          "metadata": {
            "tags": [],
            "needs_background": "light"
          }
        }
      ]
    },
    {
      "cell_type": "code",
      "metadata": {
        "id": "CaZS2ZqRhaAp"
      },
      "source": [
        "# Load the list of labels from a JSON file\n",
        "\n",
        "import json\n",
        "\n",
        "with open('data/cifar100_fine_labels.json', 'r') as fine_labels:\n",
        "    cifar100_fine_labels = json.load(fine_labels)"
      ],
      "execution_count": 10,
      "outputs": []
    },
    {
      "cell_type": "markdown",
      "metadata": {
        "id": "638jOdbUhaAu"
      },
      "source": [
        "The list of labels for the CIFAR-100 dataset are available [here](https://www.cs.toronto.edu/~kriz/cifar.html)."
      ]
    },
    {
      "cell_type": "code",
      "metadata": {
        "id": "hLAtBSiAhaAv",
        "outputId": "39d04095-b66b-47d3-ddaf-b1bbfb879063",
        "colab": {
          "base_uri": "https://localhost:8080/"
        }
      },
      "source": [
        "# Print a few of the labels\n",
        "\n",
        "cifar100_fine_labels[0:10]"
      ],
      "execution_count": 11,
      "outputs": [
        {
          "output_type": "execute_result",
          "data": {
            "text/plain": [
              "['apple',\n",
              " 'aquarium_fish',\n",
              " 'baby',\n",
              " 'bear',\n",
              " 'beaver',\n",
              " 'bed',\n",
              " 'bee',\n",
              " 'beetle',\n",
              " 'bicycle',\n",
              " 'bottle']"
            ]
          },
          "metadata": {
            "tags": []
          },
          "execution_count": 11
        }
      ]
    },
    {
      "cell_type": "code",
      "metadata": {
        "id": "EA-0YZVZhaAz",
        "outputId": "28c1ead9-33bc-470e-fe91-36aa35f00bd0",
        "colab": {
          "base_uri": "https://localhost:8080/"
        }
      },
      "source": [
        "# Print the corresponding label for the example above\n",
        "\n",
        "print(cifar100_fine_labels[41])"
      ],
      "execution_count": 12,
      "outputs": [
        {
          "output_type": "stream",
          "text": [
            "lawn_mower\n"
          ],
          "name": "stdout"
        }
      ]
    },
    {
      "cell_type": "markdown",
      "metadata": {
        "id": "aTVd9oefhaA4"
      },
      "source": [
        "#### Load the data using different label modes"
      ]
    },
    {
      "cell_type": "code",
      "metadata": {
        "id": "VMfLUaBKhaA4",
        "outputId": "3c1c04ff-c095-44ea-e3a4-65d98b72725b",
        "colab": {
          "base_uri": "https://localhost:8080/",
          "height": 149
        }
      },
      "source": [
        "# Display a few examples from category 87 (index 86) \n",
        "# and the list of labels\n",
        "\n",
        "examples = train_images[(train_labels.T == 86)[0]][:3]\n",
        "fig, ax = plt.subplots(1,3)\n",
        "ax[0].imshow(examples[0])\n",
        "ax[1].imshow(examples[1])\n",
        "ax[2].imshow(examples[2])\n",
        "plt.show()"
      ],
      "execution_count": 14,
      "outputs": [
        {
          "output_type": "display_data",
          "data": {
            "image/png": "[encoded data removed]",
            "text/plain": [
              "<Figure size 432x288 with 3 Axes>"
            ]
          },
          "metadata": {
            "tags": [],
            "needs_background": "light"
          }
        }
      ]
    },
    {
      "cell_type": "code",
      "metadata": {
        "id": "wuXemjRYhaA-"
      },
      "source": [
        "# Reload the data using the 'coarse' label mode\n",
        "\n",
        "(train_images, train_labels), (test_images, test_labels) = cifar100\\\n",
        "    .load_data(label_mode='coarse')"
      ],
      "execution_count": 15,
      "outputs": []
    },
    {
      "cell_type": "code",
      "metadata": {
        "id": "qIp_vgFShaBG",
        "outputId": "526e0077-734d-4bdd-b3bf-e1fad75f2a75",
        "colab": {
          "base_uri": "https://localhost:8080/",
          "height": 149
        }
      },
      "source": [
        "# Display three images from the dataset with the label 6 (index 5)\n",
        "\n",
        "examples = train_images[(train_labels.T == 5)[0]][:3]\n",
        "fig, ax = plt.subplots(1,3)\n",
        "ax[0].imshow(examples[0])\n",
        "ax[1].imshow(examples[1])\n",
        "ax[2].imshow(examples[2])\n",
        "plt.show()"
      ],
      "execution_count": 16,
      "outputs": [
        {
          "output_type": "display_data",
          "data": {
            "image/png": "[encoded data removed]",
            "text/plain": [
              "<Figure size 432x288 with 3 Axes>"
            ]
          },
          "metadata": {
            "tags": [],
            "needs_background": "light"
          }
        }
      ]
    },
    {
      "cell_type": "code",
      "metadata": {
        "id": "D9cNRdPYhaBL"
      },
      "source": [
        "# Load the list of coarse labels from a JSON file\n",
        "\n",
        "with open('data/cifar100_coarse_labels.json', 'r') as coarse_labels:\n",
        "    cifar100_coarse_labels = json.load(coarse_labels)"
      ],
      "execution_count": 17,
      "outputs": []
    },
    {
      "cell_type": "code",
      "metadata": {
        "scrolled": true,
        "id": "goHyipcjhaBQ",
        "outputId": "b25d7757-183b-42dd-ece0-25b476cef457",
        "colab": {
          "base_uri": "https://localhost:8080/"
        }
      },
      "source": [
        "# Print a few of the labels\n",
        "\n",
        "cifar100_coarse_labels[0:10]"
      ],
      "execution_count": 18,
      "outputs": [
        {
          "output_type": "execute_result",
          "data": {
            "text/plain": [
              "['aquatic mammals',\n",
              " 'fish',\n",
              " 'flowers',\n",
              " 'food containers',\n",
              " 'fruit and vegetables',\n",
              " 'household electrical device',\n",
              " 'household furniture',\n",
              " 'insects',\n",
              " 'large carnivores',\n",
              " 'large man-made outdoor things']"
            ]
          },
          "metadata": {
            "tags": []
          },
          "execution_count": 18
        }
      ]
    },
    {
      "cell_type": "code",
      "metadata": {
        "id": "64amm6m3haBT",
        "outputId": "b310746e-f8e4-47d8-dcf0-2c93e1cae087",
        "colab": {
          "base_uri": "https://localhost:8080/"
        }
      },
      "source": [
        "# Print the corresponding label for the example above\n",
        "\n",
        "print(cifar100_fine_labels[86])\n",
        "print(cifar100_coarse_labels[5])"
      ],
      "execution_count": 19,
      "outputs": [
        {
          "output_type": "stream",
          "text": [
            "telephone\n",
            "household electrical device\n"
          ],
          "name": "stdout"
        }
      ]
    },
    {
      "cell_type": "markdown",
      "metadata": {
        "id": "7sa08-SVhaBY"
      },
      "source": [
        "#### Load the IMDB Dataset"
      ]
    },
    {
      "cell_type": "code",
      "metadata": {
        "id": "LIq_qEAjhaBY"
      },
      "source": [
        "from tensorflow.keras.datasets import imdb"
      ],
      "execution_count": 20,
      "outputs": []
    },
    {
      "cell_type": "code",
      "metadata": {
        "id": "Jm1b7aw6haBb",
        "outputId": "33886e14-92bf-4e5c-9337-4e8bb2b00a99",
        "colab": {
          "base_uri": "https://localhost:8080/"
        }
      },
      "source": [
        "# Load the IMDB dataset\n",
        "\n",
        "(train_data, train_labels), (test_data, test_labels) = imdb\\\n",
        "    .load_data()"
      ],
      "execution_count": 21,
      "outputs": [
        {
          "output_type": "stream",
          "text": [
            "Downloading data from https://storage.googleapis.com/tensorflow/tf-keras-datasets/imdb.npz\n",
            "17465344/17464789 [==============================] - 0s 0us/step\n"
          ],
          "name": "stdout"
        }
      ]
    },
    {
      "cell_type": "code",
      "metadata": {
        "id": "Tpxc1o0chaBf",
        "outputId": "f25bb133-78a0-4425-e1a2-d75d62de82e1",
        "colab": {
          "base_uri": "https://localhost:8080/"
        }
      },
      "source": [
        "# Print an example from the training dataset, \n",
        "# along with its corresponding label\n",
        "\n",
        "print(train_data[0])\n",
        "print(train_labels[0])"
      ],
      "execution_count": 22,
      "outputs": [
        {
          "output_type": "stream",
          "text": [
            "[1, 14, 22, 16, 43, 530, 973, 1622, 1385, 65, 458, 4468, 66, 3941, 4, 173, 36, 256, 5, 25, 100, 43, 838, 112, 50, 670, 22665, 9, 35, 480, 284, 5, 150, 4, 172, 112, 167, 21631, 336, 385, 39, 4, 172, 4536, 1111, 17, 546, 38, 13, 447, 4, 192, 50, 16, 6, 147, 2025, 19, 14, 22, 4, 1920, 4613, 469, 4, 22, 71, 87, 12, 16, 43, 530, 38, 76, 15, 13, 1247, 4, 22, 17, 515, 17, 12, 16, 626, 18, 19193, 5, 62, 386, 12, 8, 316, 8, 106, 5, 4, 2223, 5244, 16, 480, 66, 3785, 33, 4, 130, 12, 16, 38, 619, 5, 25, 124, 51, 36, 135, 48, 25, 1415, 33, 6, 22, 12, 215, 28, 77, 52, 5, 14, 407, 16, 82, 10311, 8, 4, 107, 117, 5952, 15, 256, 4, 31050, 7, 3766, 5, 723, 36, 71, 43, 530, 476, 26, 400, 317, 46, 7, 4, 12118, 1029, 13, 104, 88, 4, 381, 15, 297, 98, 32, 2071, 56, 26, 141, 6, 194, 7486, 18, 4, 226, 22, 21, 134, 476, 26, 480, 5, 144, 30, 5535, 18, 51, 36, 28, 224, 92, 25, 104, 4, 226, 65, 16, 38, 1334, 88, 12, 16, 283, 5, 16, 4472, 113, 103, 32, 15, 16, 5345, 19, 178, 32]\n",
            "1\n"
          ],
          "name": "stdout"
        }
      ]
    },
    {
      "cell_type": "code",
      "metadata": {
        "id": "Xsfmd_QqhaBk"
      },
      "source": [
        "# Get the lengths of the input sequences\n",
        "\n",
        "sequence_lengths = [len(seq) for seq in train_data]"
      ],
      "execution_count": 23,
      "outputs": []
    },
    {
      "cell_type": "code",
      "metadata": {
        "id": "HxTg_K9lhaBo",
        "outputId": "54da4894-df12-49d9-fe94-b1f1171c858d",
        "colab": {
          "base_uri": "https://localhost:8080/"
        }
      },
      "source": [
        "# Determine the maximum and minimum sequence length\n",
        "\n",
        "print(np.max(sequence_lengths))\n",
        "print(np.min(sequence_lengths))"
      ],
      "execution_count": 24,
      "outputs": [
        {
          "output_type": "stream",
          "text": [
            "2494\n",
            "11\n"
          ],
          "name": "stdout"
        }
      ]
    },
    {
      "cell_type": "markdown",
      "metadata": {
        "id": "q76xgLEHhaBt"
      },
      "source": [
        "#### Using Keyword Arguments"
      ]
    },
    {
      "cell_type": "code",
      "metadata": {
        "id": "seXXALxPhaBu"
      },
      "source": [
        "# Load the data ignoring the 50 most frequent words, \n",
        "# use oov_char=2 (this is the default)\n",
        "\n",
        "(train_data, train_labels), (test_data, test_labels) = imdb\\\n",
        "    .load_data(skip_top=50, oov_char=2)\n",
        "\n",
        "# (train_data, train_labels), (test_data, test_labels) = imdb\\\n",
        "#     .load_data(num_words=1000, max_len=100)"
      ],
      "execution_count": 25,
      "outputs": []
    },
    {
      "cell_type": "code",
      "metadata": {
        "id": "E_7RK-yuhaBx"
      },
      "source": [
        "# Get the lengths of the input sequences\n",
        "\n",
        "sequence_lengths = [len(seq) for seq in train_data]"
      ],
      "execution_count": 26,
      "outputs": []
    },
    {
      "cell_type": "code",
      "metadata": {
        "id": "d6Kzx3nEhaB2",
        "outputId": "c6aa9d97-ef43-4d9e-8b23-6e25bd3d48c5",
        "colab": {
          "base_uri": "https://localhost:8080/"
        }
      },
      "source": [
        "# Determine the maximum and minimum sequence length\n",
        "\n",
        "print(np.max(sequence_lengths))\n",
        "print(np.min(sequence_lengths))"
      ],
      "execution_count": 27,
      "outputs": [
        {
          "output_type": "stream",
          "text": [
            "2494\n",
            "11\n"
          ],
          "name": "stdout"
        }
      ]
    },
    {
      "cell_type": "code",
      "metadata": {
        "id": "bVAxwvpNhaB5"
      },
      "source": [
        "# Define functions for filtering the sequences\n",
        "\n",
        "def remove_oov_char(element):\n",
        "    ''' Filter function for removing the oov_char. '''\n",
        "    return [word for word in element if word!=2]\n",
        "\n",
        "def filter_list(lst):\n",
        "    ''' Run remove_oov_char on elements in a list. '''\n",
        "    return [remove_oov_char(element) for element in lst]"
      ],
      "execution_count": null,
      "outputs": []
    },
    {
      "cell_type": "code",
      "metadata": {
        "id": "03mSP1BQhaB9"
      },
      "source": [
        "# Remove the oov_char from the sequences using \n",
        "# the filter_list function\n",
        "\n",
        "train_data = filter_list(train_data)\n",
        "test_data = filter_list(test_data)"
      ],
      "execution_count": null,
      "outputs": []
    },
    {
      "cell_type": "code",
      "metadata": {
        "id": "Li56msGRhaCA"
      },
      "source": [
        "# Get the lengths of the input sequences\n",
        "\n",
        "sequence_lengths = [len(seq) for seq in train_data]"
      ],
      "execution_count": null,
      "outputs": []
    },
    {
      "cell_type": "code",
      "metadata": {
        "id": "7bK8yBTfhaCD",
        "outputId": "2fa14d68-fe3e-4a10-9d01-60afe8844eb8"
      },
      "source": [
        "# Determine the maximum and minimum sequence length\n",
        "\n",
        "print(np.max(sequence_lengths))\n",
        "print(np.min(sequence_lengths))"
      ],
      "execution_count": null,
      "outputs": [
        {
          "output_type": "stream",
          "text": [
            "1648\n",
            "3\n"
          ],
          "name": "stdout"
        }
      ]
    },
    {
      "cell_type": "markdown",
      "metadata": {
        "id": "9jdrQ2I6haCG"
      },
      "source": [
        "***\n",
        "<a id=\"coding_tutorial_2\"></a>\n",
        "## Dataset generators"
      ]
    },
    {
      "cell_type": "code",
      "metadata": {
        "id": "Li0tJhkQhaCH"
      },
      "source": [
        "%matplotlib inline\n",
        "import matplotlib.pyplot as plt\n",
        "import os\n",
        "import numpy as np\n",
        "import pandas as pd"
      ],
      "execution_count": 28,
      "outputs": []
    },
    {
      "cell_type": "markdown",
      "metadata": {
        "id": "-GVfDxrvhaCK"
      },
      "source": [
        "#### Load the UCI Fertility Dataset\n",
        "\n",
        "We will be using a dataset available at https://archive.ics.uci.edu/ml/datasets/Fertility from UC Irvine."
      ]
    },
    {
      "cell_type": "markdown",
      "metadata": {
        "id": "NOLlI9Y3a9_4"
      },
      "source": [
        "#### Import the data\n",
        "\n",
        "The dataset required for this tutorial can be downloaded from the following link:\n",
        "\n",
        "https://drive.google.com/open?id=1OA0lwa5YLDs1njS377jbqPpMSlH5TzQV\n",
        "\n",
        "You should store this file for use in this Colab notebook."
      ]
    },
    {
      "cell_type": "code",
      "metadata": {
        "id": "cH5sTyYUbfic"
      },
      "source": [
        "data_dir = \"./data\"\n",
        "if not os.path.exists(data_dir):\n",
        "    os.makedirs(data_dir)"
      ],
      "execution_count": 30,
      "outputs": []
    },
    {
      "cell_type": "code",
      "metadata": {
        "id": "d5p23aarbHC_",
        "outputId": "e7e2af15-a71f-4be6-8f24-9388b538a78a",
        "colab": {
          "base_uri": "https://localhost:8080/"
        }
      },
      "source": [
        "%%bash\n",
        "\n",
        "fileid=\"1OA0lwa5YLDs1njS377jbqPpMSlH5TzQV\"\n",
        "filename=\"./data/fertility_diagnosis.txt\"\n",
        "curl -c ./cookie -s -L \"https://drive.google.com/uc?export=download&id=${fileid}\" > /dev/null\n",
        "curl -Lb ./cookie \"https://drive.google.com/uc?export=download&confirm=`awk '/download/ {print $NF}' ./cookie`&id=${fileid}\" -o ${filename}\n",
        "\n",
        "rm ./cookie"
      ],
      "execution_count": 31,
      "outputs": [
        {
          "output_type": "stream",
          "text": [
            "  % Total    % Received % Xferd  Average Speed   Time    Time     Time  Current\n",
            "                                 Dload  Upload   Total   Spent    Left  Speed\n",
            "\r  0     0    0     0    0     0      0      0 --:--:-- --:--:-- --:--:--     0\r  0     0    0     0    0     0      0      0 --:--:-- --:--:-- --:--:--     0\r100   408    0   408    0     0   1214      0 --:--:-- --:--:-- --:--:--  1214\n",
            "\r  0     0    0     0    0     0      0      0 --:--:-- --:--:-- --:--:--     0\n",
            "\r  0     0    0     0    0     0      0      0 --:--:-- --:--:-- --:--:--     0\n",
            "\r100  2941  100  2941    0     0   2833      0  0:00:01  0:00:01 --:--:--  2833\n"
          ],
          "name": "stderr"
        }
      ]
    },
    {
      "cell_type": "code",
      "metadata": {
        "id": "XIlGWFwohaCL"
      },
      "source": [
        "# Load the fertility dataset\n",
        "\n",
        "headers = ['Season', 'Age', 'Diseases', 'Trauma', 'Surgery', 'Fever', \n",
        "    'Alcohol', 'Smoking', 'Sitting', 'Output']\n",
        "fertility = pd.read_csv('data/fertility_diagnosis.txt', delimiter=',', \n",
        "    header=None, names=headers)"
      ],
      "execution_count": 32,
      "outputs": []
    },
    {
      "cell_type": "code",
      "metadata": {
        "id": "0ynOs8o8haCO",
        "outputId": "a76853c4-9f56-4458-fc08-17cd99b26f81",
        "colab": {
          "base_uri": "https://localhost:8080/"
        }
      },
      "source": [
        "# Print the shape of the DataFrame\n",
        "\n",
        "print(fertility.shape)"
      ],
      "execution_count": 33,
      "outputs": [
        {
          "output_type": "stream",
          "text": [
            "(100, 10)\n"
          ],
          "name": "stdout"
        }
      ]
    },
    {
      "cell_type": "code",
      "metadata": {
        "id": "M9xM_0JhhaCR",
        "outputId": "3085836e-eff7-455f-ab34-530023e91310",
        "colab": {
          "base_uri": "https://localhost:8080/",
          "height": 206
        }
      },
      "source": [
        "# Show the head of the DataFrame\n",
        "\n",
        "fertility.head()"
      ],
      "execution_count": 34,
      "outputs": [
        {
          "output_type": "execute_result",
          "data": {
            "text/html": [
              "<div>\n",
              "<style scoped>\n",
              "    .dataframe tbody tr th:only-of-type {\n",
              "        vertical-align: middle;\n",
              "    }\n",
              "\n",
              "    .dataframe tbody tr th {\n",
              "        vertical-align: top;\n",
              "    }\n",
              "\n",
              "    .dataframe thead th {\n",
              "        text-align: right;\n",
              "    }\n",
              "</style>\n",
              "<table border=\"1\" class=\"dataframe\">\n",
              "  <thead>\n",
              "    <tr style=\"text-align: right;\">\n",
              "      <th></th>\n",
              "      <th>Season</th>\n",
              "      <th>Age</th>\n",
              "      <th>Diseases</th>\n",
              "      <th>Trauma</th>\n",
              "      <th>Surgery</th>\n",
              "      <th>Fever</th>\n",
              "      <th>Alcohol</th>\n",
              "      <th>Smoking</th>\n",
              "      <th>Sitting</th>\n",
              "      <th>Output</th>\n",
              "    </tr>\n",
              "  </thead>\n",
              "  <tbody>\n",
              "    <tr>\n",
              "      <th>0</th>\n",
              "      <td>-0.33</td>\n",
              "      <td>0.69</td>\n",
              "      <td>0</td>\n",
              "      <td>1</td>\n",
              "      <td>1</td>\n",
              "      <td>0</td>\n",
              "      <td>0.8</td>\n",
              "      <td>0</td>\n",
              "      <td>0.88</td>\n",
              "      <td>N</td>\n",
              "    </tr>\n",
              "    <tr>\n",
              "      <th>1</th>\n",
              "      <td>-0.33</td>\n",
              "      <td>0.94</td>\n",
              "      <td>1</td>\n",
              "      <td>0</td>\n",
              "      <td>1</td>\n",
              "      <td>0</td>\n",
              "      <td>0.8</td>\n",
              "      <td>1</td>\n",
              "      <td>0.31</td>\n",
              "      <td>O</td>\n",
              "    </tr>\n",
              "    <tr>\n",
              "      <th>2</th>\n",
              "      <td>-0.33</td>\n",
              "      <td>0.50</td>\n",
              "      <td>1</td>\n",
              "      <td>0</td>\n",
              "      <td>0</td>\n",
              "      <td>0</td>\n",
              "      <td>1.0</td>\n",
              "      <td>-1</td>\n",
              "      <td>0.50</td>\n",
              "      <td>N</td>\n",
              "    </tr>\n",
              "    <tr>\n",
              "      <th>3</th>\n",
              "      <td>-0.33</td>\n",
              "      <td>0.75</td>\n",
              "      <td>0</td>\n",
              "      <td>1</td>\n",
              "      <td>1</td>\n",
              "      <td>0</td>\n",
              "      <td>1.0</td>\n",
              "      <td>-1</td>\n",
              "      <td>0.38</td>\n",
              "      <td>N</td>\n",
              "    </tr>\n",
              "    <tr>\n",
              "      <th>4</th>\n",
              "      <td>-0.33</td>\n",
              "      <td>0.67</td>\n",
              "      <td>1</td>\n",
              "      <td>1</td>\n",
              "      <td>0</td>\n",
              "      <td>0</td>\n",
              "      <td>0.8</td>\n",
              "      <td>-1</td>\n",
              "      <td>0.50</td>\n",
              "      <td>O</td>\n",
              "    </tr>\n",
              "  </tbody>\n",
              "</table>\n",
              "</div>"
            ],
            "text/plain": [
              "   Season   Age  Diseases  Trauma  ...  Alcohol  Smoking  Sitting  Output\n",
              "0   -0.33  0.69         0       1  ...      0.8        0     0.88       N\n",
              "1   -0.33  0.94         1       0  ...      0.8        1     0.31       O\n",
              "2   -0.33  0.50         1       0  ...      1.0       -1     0.50       N\n",
              "3   -0.33  0.75         0       1  ...      1.0       -1     0.38       N\n",
              "4   -0.33  0.67         1       1  ...      0.8       -1     0.50       O\n",
              "\n",
              "[5 rows x 10 columns]"
            ]
          },
          "metadata": {
            "tags": []
          },
          "execution_count": 34
        }
      ]
    },
    {
      "cell_type": "markdown",
      "metadata": {
        "id": "kpewphL7haCX"
      },
      "source": [
        "#### Process the data"
      ]
    },
    {
      "cell_type": "code",
      "metadata": {
        "id": "AaKHnUrfhaCY"
      },
      "source": [
        "# Map the 'Output' feature from 'N' to 0 and from 'O' to 1\n",
        "\n",
        "fertility['Output'] = fertility['Output'].map(lambda x : 0.0 if x=='N' else 1.0)"
      ],
      "execution_count": null,
      "outputs": []
    },
    {
      "cell_type": "code",
      "metadata": {
        "id": "l2wRf1ufhaCc",
        "outputId": "6a4b86ef-7c60-4969-cc0e-82d3b95d0fc2"
      },
      "source": [
        "# Show the head of the DataFrame\n",
        "\n",
        "fertility.head()"
      ],
      "execution_count": null,
      "outputs": [
        {
          "output_type": "execute_result",
          "data": {
            "text/html": [
              "<div>\n",
              "<style scoped>\n",
              "    .dataframe tbody tr th:only-of-type {\n",
              "        vertical-align: middle;\n",
              "    }\n",
              "\n",
              "    .dataframe tbody tr th {\n",
              "        vertical-align: top;\n",
              "    }\n",
              "\n",
              "    .dataframe thead th {\n",
              "        text-align: right;\n",
              "    }\n",
              "</style>\n",
              "<table border=\"1\" class=\"dataframe\">\n",
              "  <thead>\n",
              "    <tr style=\"text-align: right;\">\n",
              "      <th></th>\n",
              "      <th>Season</th>\n",
              "      <th>Age</th>\n",
              "      <th>Diseases</th>\n",
              "      <th>Trauma</th>\n",
              "      <th>Surgery</th>\n",
              "      <th>Fever</th>\n",
              "      <th>Alcohol</th>\n",
              "      <th>Smoking</th>\n",
              "      <th>Sitting</th>\n",
              "      <th>Output</th>\n",
              "    </tr>\n",
              "  </thead>\n",
              "  <tbody>\n",
              "    <tr>\n",
              "      <th>0</th>\n",
              "      <td>-0.33</td>\n",
              "      <td>0.69</td>\n",
              "      <td>0</td>\n",
              "      <td>1</td>\n",
              "      <td>1</td>\n",
              "      <td>0</td>\n",
              "      <td>0.8</td>\n",
              "      <td>0</td>\n",
              "      <td>0.88</td>\n",
              "      <td>0.0</td>\n",
              "    </tr>\n",
              "    <tr>\n",
              "      <th>1</th>\n",
              "      <td>-0.33</td>\n",
              "      <td>0.94</td>\n",
              "      <td>1</td>\n",
              "      <td>0</td>\n",
              "      <td>1</td>\n",
              "      <td>0</td>\n",
              "      <td>0.8</td>\n",
              "      <td>1</td>\n",
              "      <td>0.31</td>\n",
              "      <td>1.0</td>\n",
              "    </tr>\n",
              "    <tr>\n",
              "      <th>2</th>\n",
              "      <td>-0.33</td>\n",
              "      <td>0.50</td>\n",
              "      <td>1</td>\n",
              "      <td>0</td>\n",
              "      <td>0</td>\n",
              "      <td>0</td>\n",
              "      <td>1.0</td>\n",
              "      <td>-1</td>\n",
              "      <td>0.50</td>\n",
              "      <td>0.0</td>\n",
              "    </tr>\n",
              "    <tr>\n",
              "      <th>3</th>\n",
              "      <td>-0.33</td>\n",
              "      <td>0.75</td>\n",
              "      <td>0</td>\n",
              "      <td>1</td>\n",
              "      <td>1</td>\n",
              "      <td>0</td>\n",
              "      <td>1.0</td>\n",
              "      <td>-1</td>\n",
              "      <td>0.38</td>\n",
              "      <td>0.0</td>\n",
              "    </tr>\n",
              "    <tr>\n",
              "      <th>4</th>\n",
              "      <td>-0.33</td>\n",
              "      <td>0.67</td>\n",
              "      <td>1</td>\n",
              "      <td>1</td>\n",
              "      <td>0</td>\n",
              "      <td>0</td>\n",
              "      <td>0.8</td>\n",
              "      <td>-1</td>\n",
              "      <td>0.50</td>\n",
              "      <td>1.0</td>\n",
              "    </tr>\n",
              "  </tbody>\n",
              "</table>\n",
              "</div>"
            ],
            "text/plain": [
              "   Season   Age  Diseases  Trauma  Surgery  Fever  Alcohol  Smoking  Sitting  \\\n",
              "0   -0.33  0.69         0       1        1      0      0.8        0     0.88   \n",
              "1   -0.33  0.94         1       0        1      0      0.8        1     0.31   \n",
              "2   -0.33  0.50         1       0        0      0      1.0       -1     0.50   \n",
              "3   -0.33  0.75         0       1        1      0      1.0       -1     0.38   \n",
              "4   -0.33  0.67         1       1        0      0      0.8       -1     0.50   \n",
              "\n",
              "   Output  \n",
              "0     0.0  \n",
              "1     1.0  \n",
              "2     0.0  \n",
              "3     0.0  \n",
              "4     1.0  "
            ]
          },
          "metadata": {
            "tags": []
          },
          "execution_count": 7
        }
      ]
    },
    {
      "cell_type": "code",
      "metadata": {
        "id": "AXVN-S0NhaCh"
      },
      "source": [
        "# Convert the DataFrame so that the features are mapped to floats\n",
        "\n",
        "fertility = fertility.astype('float32')"
      ],
      "execution_count": null,
      "outputs": []
    },
    {
      "cell_type": "code",
      "metadata": {
        "id": "ZyqlEHm8haCj"
      },
      "source": [
        "# Shuffle the DataFrame\n",
        "\n",
        "fertility = fertility.sample(frac=1).reset_index(drop=True)"
      ],
      "execution_count": null,
      "outputs": []
    },
    {
      "cell_type": "code",
      "metadata": {
        "scrolled": true,
        "id": "ZwQxZk0thaCl",
        "outputId": "4d78fea6-7284-48e2-c078-04184dacc86a"
      },
      "source": [
        "# Show the head of the DataFrame\n",
        "\n",
        "fertility.head()"
      ],
      "execution_count": null,
      "outputs": [
        {
          "output_type": "execute_result",
          "data": {
            "text/html": [
              "<div>\n",
              "<style scoped>\n",
              "    .dataframe tbody tr th:only-of-type {\n",
              "        vertical-align: middle;\n",
              "    }\n",
              "\n",
              "    .dataframe tbody tr th {\n",
              "        vertical-align: top;\n",
              "    }\n",
              "\n",
              "    .dataframe thead th {\n",
              "        text-align: right;\n",
              "    }\n",
              "</style>\n",
              "<table border=\"1\" class=\"dataframe\">\n",
              "  <thead>\n",
              "    <tr style=\"text-align: right;\">\n",
              "      <th></th>\n",
              "      <th>Season</th>\n",
              "      <th>Age</th>\n",
              "      <th>Diseases</th>\n",
              "      <th>Trauma</th>\n",
              "      <th>Surgery</th>\n",
              "      <th>Fever</th>\n",
              "      <th>Alcohol</th>\n",
              "      <th>Smoking</th>\n",
              "      <th>Sitting</th>\n",
              "      <th>Output</th>\n",
              "    </tr>\n",
              "  </thead>\n",
              "  <tbody>\n",
              "    <tr>\n",
              "      <th>0</th>\n",
              "      <td>-0.33</td>\n",
              "      <td>0.56</td>\n",
              "      <td>1.0</td>\n",
              "      <td>0.0</td>\n",
              "      <td>0.0</td>\n",
              "      <td>0.0</td>\n",
              "      <td>1.0</td>\n",
              "      <td>-1.0</td>\n",
              "      <td>0.63</td>\n",
              "      <td>0.0</td>\n",
              "    </tr>\n",
              "    <tr>\n",
              "      <th>1</th>\n",
              "      <td>-0.33</td>\n",
              "      <td>0.75</td>\n",
              "      <td>1.0</td>\n",
              "      <td>1.0</td>\n",
              "      <td>1.0</td>\n",
              "      <td>0.0</td>\n",
              "      <td>0.6</td>\n",
              "      <td>1.0</td>\n",
              "      <td>0.25</td>\n",
              "      <td>0.0</td>\n",
              "    </tr>\n",
              "    <tr>\n",
              "      <th>2</th>\n",
              "      <td>1.00</td>\n",
              "      <td>0.94</td>\n",
              "      <td>1.0</td>\n",
              "      <td>1.0</td>\n",
              "      <td>1.0</td>\n",
              "      <td>0.0</td>\n",
              "      <td>0.2</td>\n",
              "      <td>-1.0</td>\n",
              "      <td>0.25</td>\n",
              "      <td>0.0</td>\n",
              "    </tr>\n",
              "    <tr>\n",
              "      <th>3</th>\n",
              "      <td>1.00</td>\n",
              "      <td>0.67</td>\n",
              "      <td>1.0</td>\n",
              "      <td>1.0</td>\n",
              "      <td>0.0</td>\n",
              "      <td>0.0</td>\n",
              "      <td>0.8</td>\n",
              "      <td>-1.0</td>\n",
              "      <td>0.25</td>\n",
              "      <td>0.0</td>\n",
              "    </tr>\n",
              "    <tr>\n",
              "      <th>4</th>\n",
              "      <td>-0.33</td>\n",
              "      <td>0.50</td>\n",
              "      <td>1.0</td>\n",
              "      <td>0.0</td>\n",
              "      <td>0.0</td>\n",
              "      <td>1.0</td>\n",
              "      <td>0.8</td>\n",
              "      <td>0.0</td>\n",
              "      <td>0.31</td>\n",
              "      <td>0.0</td>\n",
              "    </tr>\n",
              "  </tbody>\n",
              "</table>\n",
              "</div>"
            ],
            "text/plain": [
              "   Season   Age  Diseases  Trauma  Surgery  Fever  Alcohol  Smoking  Sitting  \\\n",
              "0   -0.33  0.56       1.0     0.0      0.0    0.0      1.0     -1.0     0.63   \n",
              "1   -0.33  0.75       1.0     1.0      1.0    0.0      0.6      1.0     0.25   \n",
              "2    1.00  0.94       1.0     1.0      1.0    0.0      0.2     -1.0     0.25   \n",
              "3    1.00  0.67       1.0     1.0      0.0    0.0      0.8     -1.0     0.25   \n",
              "4   -0.33  0.50       1.0     0.0      0.0    1.0      0.8      0.0     0.31   \n",
              "\n",
              "   Output  \n",
              "0     0.0  \n",
              "1     0.0  \n",
              "2     0.0  \n",
              "3     0.0  \n",
              "4     0.0  "
            ]
          },
          "metadata": {
            "tags": []
          },
          "execution_count": 10
        }
      ]
    },
    {
      "cell_type": "code",
      "metadata": {
        "id": "nRJDa_FNhaCp"
      },
      "source": [
        "# Convert the field Season to a one-hot encoded vector\n",
        "\n",
        "fertility = pd.get_dummies(fertility, prefix='Season', columns=['Season'])"
      ],
      "execution_count": null,
      "outputs": []
    },
    {
      "cell_type": "code",
      "metadata": {
        "id": "69RqZRfhhaCr",
        "outputId": "050bc608-1ea8-41e8-cc06-399ae8472f4e"
      },
      "source": [
        "# Show the head of the DataFrame\n",
        "\n",
        "fertility.head()"
      ],
      "execution_count": null,
      "outputs": [
        {
          "output_type": "execute_result",
          "data": {
            "text/html": [
              "<div>\n",
              "<style scoped>\n",
              "    .dataframe tbody tr th:only-of-type {\n",
              "        vertical-align: middle;\n",
              "    }\n",
              "\n",
              "    .dataframe tbody tr th {\n",
              "        vertical-align: top;\n",
              "    }\n",
              "\n",
              "    .dataframe thead th {\n",
              "        text-align: right;\n",
              "    }\n",
              "</style>\n",
              "<table border=\"1\" class=\"dataframe\">\n",
              "  <thead>\n",
              "    <tr style=\"text-align: right;\">\n",
              "      <th></th>\n",
              "      <th>Age</th>\n",
              "      <th>Diseases</th>\n",
              "      <th>Trauma</th>\n",
              "      <th>Surgery</th>\n",
              "      <th>Fever</th>\n",
              "      <th>Alcohol</th>\n",
              "      <th>Smoking</th>\n",
              "      <th>Sitting</th>\n",
              "      <th>Output</th>\n",
              "      <th>Season_-1.0</th>\n",
              "      <th>Season_-0.33000001311302185</th>\n",
              "      <th>Season_0.33000001311302185</th>\n",
              "      <th>Season_1.0</th>\n",
              "    </tr>\n",
              "  </thead>\n",
              "  <tbody>\n",
              "    <tr>\n",
              "      <th>0</th>\n",
              "      <td>0.56</td>\n",
              "      <td>1.0</td>\n",
              "      <td>0.0</td>\n",
              "      <td>0.0</td>\n",
              "      <td>0.0</td>\n",
              "      <td>1.0</td>\n",
              "      <td>-1.0</td>\n",
              "      <td>0.63</td>\n",
              "      <td>0.0</td>\n",
              "      <td>0</td>\n",
              "      <td>1</td>\n",
              "      <td>0</td>\n",
              "      <td>0</td>\n",
              "    </tr>\n",
              "    <tr>\n",
              "      <th>1</th>\n",
              "      <td>0.75</td>\n",
              "      <td>1.0</td>\n",
              "      <td>1.0</td>\n",
              "      <td>1.0</td>\n",
              "      <td>0.0</td>\n",
              "      <td>0.6</td>\n",
              "      <td>1.0</td>\n",
              "      <td>0.25</td>\n",
              "      <td>0.0</td>\n",
              "      <td>0</td>\n",
              "      <td>1</td>\n",
              "      <td>0</td>\n",
              "      <td>0</td>\n",
              "    </tr>\n",
              "    <tr>\n",
              "      <th>2</th>\n",
              "      <td>0.94</td>\n",
              "      <td>1.0</td>\n",
              "      <td>1.0</td>\n",
              "      <td>1.0</td>\n",
              "      <td>0.0</td>\n",
              "      <td>0.2</td>\n",
              "      <td>-1.0</td>\n",
              "      <td>0.25</td>\n",
              "      <td>0.0</td>\n",
              "      <td>0</td>\n",
              "      <td>0</td>\n",
              "      <td>0</td>\n",
              "      <td>1</td>\n",
              "    </tr>\n",
              "    <tr>\n",
              "      <th>3</th>\n",
              "      <td>0.67</td>\n",
              "      <td>1.0</td>\n",
              "      <td>1.0</td>\n",
              "      <td>0.0</td>\n",
              "      <td>0.0</td>\n",
              "      <td>0.8</td>\n",
              "      <td>-1.0</td>\n",
              "      <td>0.25</td>\n",
              "      <td>0.0</td>\n",
              "      <td>0</td>\n",
              "      <td>0</td>\n",
              "      <td>0</td>\n",
              "      <td>1</td>\n",
              "    </tr>\n",
              "    <tr>\n",
              "      <th>4</th>\n",
              "      <td>0.50</td>\n",
              "      <td>1.0</td>\n",
              "      <td>0.0</td>\n",
              "      <td>0.0</td>\n",
              "      <td>1.0</td>\n",
              "      <td>0.8</td>\n",
              "      <td>0.0</td>\n",
              "      <td>0.31</td>\n",
              "      <td>0.0</td>\n",
              "      <td>0</td>\n",
              "      <td>1</td>\n",
              "      <td>0</td>\n",
              "      <td>0</td>\n",
              "    </tr>\n",
              "  </tbody>\n",
              "</table>\n",
              "</div>"
            ],
            "text/plain": [
              "    Age  Diseases  Trauma  Surgery  Fever  Alcohol  Smoking  Sitting  Output  \\\n",
              "0  0.56       1.0     0.0      0.0    0.0      1.0     -1.0     0.63     0.0   \n",
              "1  0.75       1.0     1.0      1.0    0.0      0.6      1.0     0.25     0.0   \n",
              "2  0.94       1.0     1.0      1.0    0.0      0.2     -1.0     0.25     0.0   \n",
              "3  0.67       1.0     1.0      0.0    0.0      0.8     -1.0     0.25     0.0   \n",
              "4  0.50       1.0     0.0      0.0    1.0      0.8      0.0     0.31     0.0   \n",
              "\n",
              "   Season_-1.0  Season_-0.33000001311302185  Season_0.33000001311302185  \\\n",
              "0            0                            1                           0   \n",
              "1            0                            1                           0   \n",
              "2            0                            0                           0   \n",
              "3            0                            0                           0   \n",
              "4            0                            1                           0   \n",
              "\n",
              "   Season_1.0  \n",
              "0           0  \n",
              "1           0  \n",
              "2           1  \n",
              "3           1  \n",
              "4           0  "
            ]
          },
          "metadata": {
            "tags": []
          },
          "execution_count": 12
        }
      ]
    },
    {
      "cell_type": "code",
      "metadata": {
        "id": "1zB6FM2EhaCt"
      },
      "source": [
        "# Move the Output column such that it is the last column in the DataFrame\n",
        "\n",
        "fertility.columns = [col for col in fertility.columns if col != 'Output'] + ['Output']"
      ],
      "execution_count": null,
      "outputs": []
    },
    {
      "cell_type": "code",
      "metadata": {
        "id": "GMivX3lGhaCw",
        "outputId": "841e61fb-beba-48b1-89b1-a02b8f6e2670"
      },
      "source": [
        "# Show the head of the DataFrame\n",
        "\n",
        "fertility.head()"
      ],
      "execution_count": null,
      "outputs": [
        {
          "output_type": "execute_result",
          "data": {
            "text/html": [
              "<div>\n",
              "<style scoped>\n",
              "    .dataframe tbody tr th:only-of-type {\n",
              "        vertical-align: middle;\n",
              "    }\n",
              "\n",
              "    .dataframe tbody tr th {\n",
              "        vertical-align: top;\n",
              "    }\n",
              "\n",
              "    .dataframe thead th {\n",
              "        text-align: right;\n",
              "    }\n",
              "</style>\n",
              "<table border=\"1\" class=\"dataframe\">\n",
              "  <thead>\n",
              "    <tr style=\"text-align: right;\">\n",
              "      <th></th>\n",
              "      <th>Age</th>\n",
              "      <th>Diseases</th>\n",
              "      <th>Trauma</th>\n",
              "      <th>Surgery</th>\n",
              "      <th>Fever</th>\n",
              "      <th>Alcohol</th>\n",
              "      <th>Smoking</th>\n",
              "      <th>Sitting</th>\n",
              "      <th>Season_-1.0</th>\n",
              "      <th>Season_-0.33000001311302185</th>\n",
              "      <th>Season_0.33000001311302185</th>\n",
              "      <th>Season_1.0</th>\n",
              "      <th>Output</th>\n",
              "    </tr>\n",
              "  </thead>\n",
              "  <tbody>\n",
              "    <tr>\n",
              "      <th>0</th>\n",
              "      <td>0.56</td>\n",
              "      <td>1.0</td>\n",
              "      <td>0.0</td>\n",
              "      <td>0.0</td>\n",
              "      <td>0.0</td>\n",
              "      <td>1.0</td>\n",
              "      <td>-1.0</td>\n",
              "      <td>0.63</td>\n",
              "      <td>0.0</td>\n",
              "      <td>0</td>\n",
              "      <td>1</td>\n",
              "      <td>0</td>\n",
              "      <td>0</td>\n",
              "    </tr>\n",
              "    <tr>\n",
              "      <th>1</th>\n",
              "      <td>0.75</td>\n",
              "      <td>1.0</td>\n",
              "      <td>1.0</td>\n",
              "      <td>1.0</td>\n",
              "      <td>0.0</td>\n",
              "      <td>0.6</td>\n",
              "      <td>1.0</td>\n",
              "      <td>0.25</td>\n",
              "      <td>0.0</td>\n",
              "      <td>0</td>\n",
              "      <td>1</td>\n",
              "      <td>0</td>\n",
              "      <td>0</td>\n",
              "    </tr>\n",
              "    <tr>\n",
              "      <th>2</th>\n",
              "      <td>0.94</td>\n",
              "      <td>1.0</td>\n",
              "      <td>1.0</td>\n",
              "      <td>1.0</td>\n",
              "      <td>0.0</td>\n",
              "      <td>0.2</td>\n",
              "      <td>-1.0</td>\n",
              "      <td>0.25</td>\n",
              "      <td>0.0</td>\n",
              "      <td>0</td>\n",
              "      <td>0</td>\n",
              "      <td>0</td>\n",
              "      <td>1</td>\n",
              "    </tr>\n",
              "    <tr>\n",
              "      <th>3</th>\n",
              "      <td>0.67</td>\n",
              "      <td>1.0</td>\n",
              "      <td>1.0</td>\n",
              "      <td>0.0</td>\n",
              "      <td>0.0</td>\n",
              "      <td>0.8</td>\n",
              "      <td>-1.0</td>\n",
              "      <td>0.25</td>\n",
              "      <td>0.0</td>\n",
              "      <td>0</td>\n",
              "      <td>0</td>\n",
              "      <td>0</td>\n",
              "      <td>1</td>\n",
              "    </tr>\n",
              "    <tr>\n",
              "      <th>4</th>\n",
              "      <td>0.50</td>\n",
              "      <td>1.0</td>\n",
              "      <td>0.0</td>\n",
              "      <td>0.0</td>\n",
              "      <td>1.0</td>\n",
              "      <td>0.8</td>\n",
              "      <td>0.0</td>\n",
              "      <td>0.31</td>\n",
              "      <td>0.0</td>\n",
              "      <td>0</td>\n",
              "      <td>1</td>\n",
              "      <td>0</td>\n",
              "      <td>0</td>\n",
              "    </tr>\n",
              "  </tbody>\n",
              "</table>\n",
              "</div>"
            ],
            "text/plain": [
              "    Age  Diseases  Trauma  Surgery  Fever  Alcohol  Smoking  Sitting  \\\n",
              "0  0.56       1.0     0.0      0.0    0.0      1.0     -1.0     0.63   \n",
              "1  0.75       1.0     1.0      1.0    0.0      0.6      1.0     0.25   \n",
              "2  0.94       1.0     1.0      1.0    0.0      0.2     -1.0     0.25   \n",
              "3  0.67       1.0     1.0      0.0    0.0      0.8     -1.0     0.25   \n",
              "4  0.50       1.0     0.0      0.0    1.0      0.8      0.0     0.31   \n",
              "\n",
              "   Season_-1.0  Season_-0.33000001311302185  Season_0.33000001311302185  \\\n",
              "0          0.0                            0                           1   \n",
              "1          0.0                            0                           1   \n",
              "2          0.0                            0                           0   \n",
              "3          0.0                            0                           0   \n",
              "4          0.0                            0                           1   \n",
              "\n",
              "   Season_1.0  Output  \n",
              "0           0       0  \n",
              "1           0       0  \n",
              "2           0       1  \n",
              "3           0       1  \n",
              "4           0       0  "
            ]
          },
          "metadata": {
            "tags": []
          },
          "execution_count": 14
        }
      ]
    },
    {
      "cell_type": "code",
      "metadata": {
        "id": "BhZ1-N2ihaCz",
        "outputId": "34432f13-5522-4a4a-8a1c-89f7ac63a21d"
      },
      "source": [
        "# Convert the DataFrame to a numpy array.\n",
        "\n",
        "fertility = fertility.to_numpy()\n",
        "fertility"
      ],
      "execution_count": null,
      "outputs": [
        {
          "output_type": "execute_result",
          "data": {
            "text/plain": [
              "array([[0.56, 1.  , 0.  , ..., 1.  , 0.  , 0.  ],\n",
              "       [0.75, 1.  , 1.  , ..., 1.  , 0.  , 0.  ],\n",
              "       [0.94, 1.  , 1.  , ..., 0.  , 0.  , 1.  ],\n",
              "       ...,\n",
              "       [0.56, 0.  , 0.  , ..., 1.  , 0.  , 0.  ],\n",
              "       [0.58, 0.  , 0.  , ..., 0.  , 0.  , 1.  ],\n",
              "       [0.67, 0.  , 0.  , ..., 0.  , 0.  , 0.  ]], dtype=float32)"
            ]
          },
          "metadata": {
            "tags": []
          },
          "execution_count": 15
        }
      ]
    },
    {
      "cell_type": "markdown",
      "metadata": {
        "id": "5qaw2BjYhaC1"
      },
      "source": [
        "#### Split the Data"
      ]
    },
    {
      "cell_type": "code",
      "metadata": {
        "id": "e612AYyahaC3"
      },
      "source": [
        "# Split the dataset into training and validation set\n",
        "\n",
        "training = fertility[0:70]\n",
        "validation = fertility[70:100]"
      ],
      "execution_count": null,
      "outputs": []
    },
    {
      "cell_type": "code",
      "metadata": {
        "id": "Z8vBQHLqhaC7",
        "outputId": "8d56d56d-3328-4601-d23c-3d897aef6fcd"
      },
      "source": [
        "# Verify the shape of the training data\n",
        "\n",
        "print(training.shape)\n",
        "print(validation.shape)"
      ],
      "execution_count": null,
      "outputs": [
        {
          "output_type": "stream",
          "text": [
            "(70, 13)\n",
            "(30, 13)\n"
          ],
          "name": "stdout"
        }
      ]
    },
    {
      "cell_type": "code",
      "metadata": {
        "id": "0GlYDYVohaC9"
      },
      "source": [
        "# Separate the features and labels for the validation and training data\n",
        "\n",
        "training_features = training[:,0:-1]\n",
        "training_labels = training[:,-1]\n",
        "validation_features = validation[:,0:-1]\n",
        "validation_labels = validation[:,-1]"
      ],
      "execution_count": null,
      "outputs": []
    },
    {
      "cell_type": "markdown",
      "metadata": {
        "id": "ttEpRpcwhaC_"
      },
      "source": [
        "#### Create the Generator"
      ]
    },
    {
      "cell_type": "code",
      "metadata": {
        "id": "lSjVXicihaC_"
      },
      "source": [
        "# Create a function that returns a generator producing inputs and labels\n",
        "\n",
        "def get_generator(features, labels, batch_size=1):\n",
        "    for n in range(int(len(features)/batch_size)):\n",
        "        yield (features[n*batch_size: (n+1)*batch_size], \n",
        "            labels[n*batch_size: (n+1)*batch_size])"
      ],
      "execution_count": null,
      "outputs": []
    },
    {
      "cell_type": "code",
      "metadata": {
        "id": "VMiEgHFuhaDC"
      },
      "source": [
        "# Apply the function to our training features and labels with a batch size of 10\n",
        "\n",
        "train_generator = get_generator(training_features, training_labels, batch_size=10)"
      ],
      "execution_count": null,
      "outputs": []
    },
    {
      "cell_type": "code",
      "metadata": {
        "scrolled": true,
        "id": "3qqfSAXWhaDG",
        "outputId": "1bc341ce-1b68-4382-eb6a-e1d065b0ec36"
      },
      "source": [
        "# Test the generator using the next() function\n",
        "\n",
        "next(train_generator)"
      ],
      "execution_count": null,
      "outputs": [
        {
          "output_type": "execute_result",
          "data": {
            "text/plain": [
              "(array([[ 0.56,  1.  ,  0.  ,  0.  ,  0.  ,  1.  , -1.  ,  0.63,  0.  ,\n",
              "          0.  ,  1.  ,  0.  ],\n",
              "        [ 0.75,  1.  ,  1.  ,  1.  ,  0.  ,  0.6 ,  1.  ,  0.25,  0.  ,\n",
              "          0.  ,  1.  ,  0.  ],\n",
              "        [ 0.94,  1.  ,  1.  ,  1.  ,  0.  ,  0.2 , -1.  ,  0.25,  0.  ,\n",
              "          0.  ,  0.  ,  0.  ],\n",
              "        [ 0.67,  1.  ,  1.  ,  0.  ,  0.  ,  0.8 , -1.  ,  0.25,  0.  ,\n",
              "          0.  ,  0.  ,  0.  ],\n",
              "        [ 0.5 ,  1.  ,  0.  ,  0.  ,  1.  ,  0.8 ,  0.  ,  0.31,  0.  ,\n",
              "          0.  ,  1.  ,  0.  ],\n",
              "        [ 0.67,  1.  ,  1.  ,  0.  , -1.  ,  0.8 ,  0.  ,  0.31,  0.  ,\n",
              "          0.  ,  0.  ,  0.  ],\n",
              "        [ 0.53,  1.  ,  0.  ,  0.  ,  1.  ,  0.8 , -1.  ,  0.63,  0.  ,\n",
              "          1.  ,  0.  ,  0.  ],\n",
              "        [ 0.81,  1.  ,  1.  ,  1.  ,  0.  ,  1.  ,  1.  ,  0.38,  0.  ,\n",
              "          0.  ,  1.  ,  0.  ],\n",
              "        [ 0.69,  1.  ,  1.  ,  1.  , -1.  ,  1.  , -1.  ,  0.75,  0.  ,\n",
              "          0.  ,  1.  ,  0.  ],\n",
              "        [ 0.67,  1.  ,  1.  ,  0.  ,  0.  ,  0.8 , -1.  ,  0.5 ,  1.  ,\n",
              "          0.  ,  1.  ,  0.  ]], dtype=float32),\n",
              " array([0., 0., 1., 1., 0., 1., 0., 0., 0., 0.], dtype=float32))"
            ]
          },
          "metadata": {
            "tags": []
          },
          "execution_count": 24
        }
      ]
    },
    {
      "cell_type": "markdown",
      "metadata": {
        "id": "rm2ffnGVhaDJ"
      },
      "source": [
        "#### Build the model"
      ]
    },
    {
      "cell_type": "code",
      "metadata": {
        "id": "Tr6Du-4KhaDJ"
      },
      "source": [
        "# Create a model using Keras with 3 layers\n",
        "\n",
        "from tensorflow.keras import Model\n",
        "from tensorflow.keras.layers import Dense, Input, BatchNormalization\n",
        "\n",
        "input_shape = (12,)\n",
        "output_shape = (1,)\n",
        "\n",
        "model_input = Input(input_shape)\n",
        "batch_1 = BatchNormalization(momentum=0.8)(model_input)\n",
        "dense_1 = Dense(100, activation='relu')(batch_1)\n",
        "batch_2 = BatchNormalization(momentum=0.8)(dense_1)\n",
        "output = Dense(1, activation='sigmoid')(batch_2)\n",
        "\n",
        "model = Model([model_input], output)"
      ],
      "execution_count": null,
      "outputs": []
    },
    {
      "cell_type": "code",
      "metadata": {
        "id": "IfgcKE8UhaDN",
        "outputId": "a2c8693b-7c5c-46b4-bffc-b7e1ad4e4629"
      },
      "source": [
        "# Display the model summary to show the resultant structure\n",
        "\n",
        "model.summary()"
      ],
      "execution_count": null,
      "outputs": [
        {
          "output_type": "stream",
          "text": [
            "Model: \"model\"\n",
            "_________________________________________________________________\n",
            "Layer (type)                 Output Shape              Param #   \n",
            "=================================================================\n",
            "input_1 (InputLayer)         [(None, 12)]              0         \n",
            "_________________________________________________________________\n",
            "batch_normalization (BatchNo (None, 12)                48        \n",
            "_________________________________________________________________\n",
            "dense (Dense)                (None, 100)               1300      \n",
            "_________________________________________________________________\n",
            "batch_normalization_1 (Batch (None, 100)               400       \n",
            "_________________________________________________________________\n",
            "dense_1 (Dense)              (None, 1)                 101       \n",
            "=================================================================\n",
            "Total params: 1,849\n",
            "Trainable params: 1,625\n",
            "Non-trainable params: 224\n",
            "_________________________________________________________________\n"
          ],
          "name": "stdout"
        }
      ]
    },
    {
      "cell_type": "markdown",
      "metadata": {
        "id": "kUYrDLaAhaDY"
      },
      "source": [
        "#### Compile the model"
      ]
    },
    {
      "cell_type": "code",
      "metadata": {
        "id": "pUdmAnRZhaDZ"
      },
      "source": [
        "# Create the optimizer object\n",
        "\n",
        "optimizer = tf.keras.optimizers.Adam(learning_rate=1e-2)"
      ],
      "execution_count": null,
      "outputs": []
    },
    {
      "cell_type": "code",
      "metadata": {
        "id": "t2Fn78YchaDb"
      },
      "source": [
        "# Compile the model with loss function and metric\n",
        "\n",
        "model.compile(optimizer=optimizer, \n",
        "    loss='binary_crossentropy', metrics=['accuracy'])"
      ],
      "execution_count": null,
      "outputs": []
    },
    {
      "cell_type": "markdown",
      "metadata": {
        "id": "09uEqTpEhaDg"
      },
      "source": [
        "#### Train and evaluate the model using the generator"
      ]
    },
    {
      "cell_type": "code",
      "metadata": {
        "id": "gXwGCGeIhaDh"
      },
      "source": [
        "# Calculate the number of training steps per epoch for the given batch size.\n",
        "\n",
        "batch_size = 5\n",
        "train_steps = len(training) // batch_size"
      ],
      "execution_count": null,
      "outputs": []
    },
    {
      "cell_type": "code",
      "metadata": {
        "id": "rszYL-_EhaDj"
      },
      "source": [
        "# Set the epochs to 3\n",
        "\n",
        "epochs = 3"
      ],
      "execution_count": null,
      "outputs": []
    },
    {
      "cell_type": "code",
      "metadata": {
        "id": "u0iYqScZhaDm",
        "outputId": "da6bc15a-7717-44b6-ce62-4649dea8195b"
      },
      "source": [
        "# Train the model\n",
        "\n",
        "for epoch in range(epochs):\n",
        "    train_generator = get_generator(training_features, \n",
        "        training_labels, batch_size=batch_size)\n",
        "    validation_generator = get_generator(validation_features, \n",
        "        validation_labels, batch_size=30)\n",
        "    model.fit_generator(train_generator, steps_per_epoch=train_steps, \n",
        "        validation_data=validation_generator, validation_steps=1)"
      ],
      "execution_count": null,
      "outputs": [
        {
          "output_type": "stream",
          "text": [
            "14/14 [==============================] - 1s 36ms/step - loss: 0.6561 - accuracy: 0.6286 - val_loss: 0.2737 - val_accuracy: 0.8667\n",
            "14/14 [==============================] - 0s 29ms/step - loss: 0.1287 - accuracy: 0.9714 - val_loss: 0.1013 - val_accuracy: 0.9333\n",
            "14/14 [==============================] - 0s 29ms/step - loss: 0.0386 - accuracy: 1.0000 - val_loss: 0.1011 - val_accuracy: 0.9333\n"
          ],
          "name": "stdout"
        }
      ]
    },
    {
      "cell_type": "code",
      "metadata": {
        "scrolled": true,
        "id": "P0kQUErOhaDn",
        "outputId": "f94d1913-de24-44d0-98d2-491e0be42158"
      },
      "source": [
        "# Try to run the fit_generator function once more; observe what happens\n",
        "\n",
        "model.fit_generator(train_generator, steps_per_epoch=train_steps)"
      ],
      "execution_count": null,
      "outputs": [
        {
          "output_type": "stream",
          "text": [
            "WARNING:tensorflow:Your dataset iterator ran out of data; interrupting training. Make sure that your iterator can generate at least `steps_per_epoch * epochs` batches (in this case, 14 batches). You may need touse the repeat() function when building your dataset.\n"
          ],
          "name": "stdout"
        },
        {
          "output_type": "error",
          "ename": "ValueError",
          "evalue": "Empty training data.",
          "traceback": [
            "\u001b[0;31m---------------------------------------------------------------------------\u001b[0m",
            "\u001b[0;31mValueError\u001b[0m                                Traceback (most recent call last)",
            "\u001b[0;32m<ipython-input-33-6009e73e3e9e>\u001b[0m in \u001b[0;36m<module>\u001b[0;34m\u001b[0m\n\u001b[1;32m      1\u001b[0m \u001b[0;31m# Try to run the fit_generator function once more; observe what happens\u001b[0m\u001b[0;34m\u001b[0m\u001b[0;34m\u001b[0m\u001b[0;34m\u001b[0m\u001b[0m\n\u001b[1;32m      2\u001b[0m \u001b[0;34m\u001b[0m\u001b[0m\n\u001b[0;32m----> 3\u001b[0;31m \u001b[0mmodel\u001b[0m\u001b[0;34m.\u001b[0m\u001b[0mfit_generator\u001b[0m\u001b[0;34m(\u001b[0m\u001b[0mtrain_generator\u001b[0m\u001b[0;34m,\u001b[0m \u001b[0msteps_per_epoch\u001b[0m\u001b[0;34m=\u001b[0m\u001b[0mtrain_steps\u001b[0m\u001b[0;34m)\u001b[0m\u001b[0;34m\u001b[0m\u001b[0;34m\u001b[0m\u001b[0m\n\u001b[0m",
            "\u001b[0;32m/opt/conda/lib/python3.7/site-packages/tensorflow_core/python/keras/engine/training.py\u001b[0m in \u001b[0;36mfit_generator\u001b[0;34m(self, generator, steps_per_epoch, epochs, verbose, callbacks, validation_data, validation_steps, validation_freq, class_weight, max_queue_size, workers, use_multiprocessing, shuffle, initial_epoch)\u001b[0m\n\u001b[1;32m   1295\u001b[0m         \u001b[0mshuffle\u001b[0m\u001b[0;34m=\u001b[0m\u001b[0mshuffle\u001b[0m\u001b[0;34m,\u001b[0m\u001b[0;34m\u001b[0m\u001b[0;34m\u001b[0m\u001b[0m\n\u001b[1;32m   1296\u001b[0m         \u001b[0minitial_epoch\u001b[0m\u001b[0;34m=\u001b[0m\u001b[0minitial_epoch\u001b[0m\u001b[0;34m,\u001b[0m\u001b[0;34m\u001b[0m\u001b[0;34m\u001b[0m\u001b[0m\n\u001b[0;32m-> 1297\u001b[0;31m         steps_name='steps_per_epoch')\n\u001b[0m\u001b[1;32m   1298\u001b[0m \u001b[0;34m\u001b[0m\u001b[0m\n\u001b[1;32m   1299\u001b[0m   def evaluate_generator(self,\n",
            "\u001b[0;32m/opt/conda/lib/python3.7/site-packages/tensorflow_core/python/keras/engine/training_generator.py\u001b[0m in \u001b[0;36mmodel_iteration\u001b[0;34m(model, data, steps_per_epoch, epochs, verbose, callbacks, validation_data, validation_steps, validation_freq, class_weight, max_queue_size, workers, use_multiprocessing, shuffle, initial_epoch, mode, batch_size, steps_name, **kwargs)\u001b[0m\n\u001b[1;32m    299\u001b[0m         \u001b[0;32mbreak\u001b[0m\u001b[0;34m\u001b[0m\u001b[0;34m\u001b[0m\u001b[0m\n\u001b[1;32m    300\u001b[0m \u001b[0;34m\u001b[0m\u001b[0m\n\u001b[0;32m--> 301\u001b[0;31m     \u001b[0maggregator\u001b[0m\u001b[0;34m.\u001b[0m\u001b[0mfinalize\u001b[0m\u001b[0;34m(\u001b[0m\u001b[0;34m)\u001b[0m\u001b[0;34m\u001b[0m\u001b[0;34m\u001b[0m\u001b[0m\n\u001b[0m\u001b[1;32m    302\u001b[0m     \u001b[0mresults\u001b[0m \u001b[0;34m=\u001b[0m \u001b[0maggregator\u001b[0m\u001b[0;34m.\u001b[0m\u001b[0mresults\u001b[0m\u001b[0;34m\u001b[0m\u001b[0;34m\u001b[0m\u001b[0m\n\u001b[1;32m    303\u001b[0m     \u001b[0mepoch_logs\u001b[0m \u001b[0;34m=\u001b[0m \u001b[0mcbks\u001b[0m\u001b[0;34m.\u001b[0m\u001b[0mmake_logs\u001b[0m\u001b[0;34m(\u001b[0m\u001b[0mmodel\u001b[0m\u001b[0;34m,\u001b[0m \u001b[0mepoch_logs\u001b[0m\u001b[0;34m,\u001b[0m \u001b[0mresults\u001b[0m\u001b[0;34m,\u001b[0m \u001b[0mmode\u001b[0m\u001b[0;34m)\u001b[0m\u001b[0;34m\u001b[0m\u001b[0;34m\u001b[0m\u001b[0m\n",
            "\u001b[0;32m/opt/conda/lib/python3.7/site-packages/tensorflow_core/python/keras/engine/training_utils.py\u001b[0m in \u001b[0;36mfinalize\u001b[0;34m(self)\u001b[0m\n\u001b[1;32m    138\u001b[0m   \u001b[0;32mdef\u001b[0m \u001b[0mfinalize\u001b[0m\u001b[0;34m(\u001b[0m\u001b[0mself\u001b[0m\u001b[0;34m)\u001b[0m\u001b[0;34m:\u001b[0m\u001b[0;34m\u001b[0m\u001b[0;34m\u001b[0m\u001b[0m\n\u001b[1;32m    139\u001b[0m     \u001b[0;32mif\u001b[0m \u001b[0;32mnot\u001b[0m \u001b[0mself\u001b[0m\u001b[0;34m.\u001b[0m\u001b[0mresults\u001b[0m\u001b[0;34m:\u001b[0m\u001b[0;34m\u001b[0m\u001b[0;34m\u001b[0m\u001b[0m\n\u001b[0;32m--> 140\u001b[0;31m       \u001b[0;32mraise\u001b[0m \u001b[0mValueError\u001b[0m\u001b[0;34m(\u001b[0m\u001b[0;34m'Empty training data.'\u001b[0m\u001b[0;34m)\u001b[0m\u001b[0;34m\u001b[0m\u001b[0;34m\u001b[0m\u001b[0m\n\u001b[0m\u001b[1;32m    141\u001b[0m     \u001b[0mself\u001b[0m\u001b[0;34m.\u001b[0m\u001b[0mresults\u001b[0m\u001b[0;34m[\u001b[0m\u001b[0;36m0\u001b[0m\u001b[0;34m]\u001b[0m \u001b[0;34m/=\u001b[0m \u001b[0;34m(\u001b[0m\u001b[0mself\u001b[0m\u001b[0;34m.\u001b[0m\u001b[0mnum_samples\u001b[0m \u001b[0;32mor\u001b[0m \u001b[0mself\u001b[0m\u001b[0;34m.\u001b[0m\u001b[0msteps\u001b[0m\u001b[0;34m)\u001b[0m\u001b[0;34m\u001b[0m\u001b[0;34m\u001b[0m\u001b[0m\n\u001b[1;32m    142\u001b[0m \u001b[0;34m\u001b[0m\u001b[0m\n",
            "\u001b[0;31mValueError\u001b[0m: Empty training data."
          ]
        }
      ]
    },
    {
      "cell_type": "markdown",
      "metadata": {
        "id": "3-fqtd11haDq"
      },
      "source": [
        "#### Make an infinitely looping generator"
      ]
    },
    {
      "cell_type": "code",
      "metadata": {
        "id": "EMVW0cn6haDr"
      },
      "source": [
        "# Create a function that returns an infinitely looping generator\n",
        "\n",
        "def get_generator_cyclic(features, labels, batch_size=1):\n",
        "    while True:\n",
        "        for n in range(int(len(features)/batch_size)):\n",
        "            yield (features[n*batch_size: (n+1)*batch_size], \n",
        "                labels[n*batch_size: (n+1)*batch_size])\n",
        "        permuted = np.random.permutation(len(features))\n",
        "        features = features[permuted]\n",
        "        labels = labels[permuted]"
      ],
      "execution_count": null,
      "outputs": []
    },
    {
      "cell_type": "code",
      "metadata": {
        "id": "SlWgTbiMhaDv"
      },
      "source": [
        "# Create a generator using this function.\n",
        "\n",
        "train_generator_cyclic = get_generator_cyclic(training_features, \n",
        "    training_labels, batch_size=batch_size)"
      ],
      "execution_count": null,
      "outputs": []
    },
    {
      "cell_type": "code",
      "metadata": {
        "id": "eLH7308FhaDz"
      },
      "source": [
        "# Assert that the new cyclic generator does not raise a StopIteration\n",
        "\n",
        "for i in range(2*train_steps):\n",
        "    next(train_generator_cyclic)"
      ],
      "execution_count": null,
      "outputs": []
    },
    {
      "cell_type": "code",
      "metadata": {
        "id": "pcu6MbjwhaD2"
      },
      "source": [
        "# Generate a cyclic validation generator\n",
        "\n",
        "validation_generator_cyclic = get_generator_cyclic(validation_features, \n",
        "    validation_labels, batch_size=batch_size)"
      ],
      "execution_count": null,
      "outputs": []
    },
    {
      "cell_type": "code",
      "metadata": {
        "scrolled": true,
        "id": "7d-hqzGThaD4",
        "outputId": "ffc85cf1-45c5-4b4d-8319-819d90846284"
      },
      "source": [
        "# Train the model\n",
        "\n",
        "model.fit_generator(train_generator_cyclic, steps_per_epoch=train_steps, \n",
        "    validation_data=validation_generator_cyclic, validation_steps=1, epochs=3)"
      ],
      "execution_count": null,
      "outputs": [
        {
          "output_type": "stream",
          "text": [
            "Epoch 1/3\n",
            "14/14 [==============================] - 1s 39ms/step - loss: 0.4095 - accuracy: 0.8143 - val_loss: 0.3776 - val_accuracy: 0.8000\n",
            "Epoch 2/3\n",
            "14/14 [==============================] - 0s 35ms/step - loss: 0.2493 - accuracy: 0.9000 - val_loss: 0.0293 - val_accuracy: 1.0000\n",
            "Epoch 3/3\n",
            "14/14 [==============================] - 0s 35ms/step - loss: 0.1802 - accuracy: 0.9286 - val_loss: 0.0018 - val_accuracy: 1.0000\n"
          ],
          "name": "stdout"
        },
        {
          "output_type": "execute_result",
          "data": {
            "text/plain": [
              "<tensorflow.python.keras.callbacks.History at 0x7f54d07e5240>"
            ]
          },
          "metadata": {
            "tags": []
          },
          "execution_count": 42
        }
      ]
    },
    {
      "cell_type": "markdown",
      "metadata": {
        "id": "3IrooDuXhaD7"
      },
      "source": [
        "for _ in range(10000):\n",
        "\n",
        "    x_train, y_train = next(datagen)\n",
        "    \n",
        "    model.train_on_batch(x_train, y_train)"
      ]
    },
    {
      "cell_type": "markdown",
      "metadata": {
        "id": "uX3wHyf-haD7"
      },
      "source": [
        "#### Evaluate the model and get predictions"
      ]
    },
    {
      "cell_type": "code",
      "metadata": {
        "id": "AZPnBbc4haD7"
      },
      "source": [
        "# Let's obtain a validation data generator.\n",
        "\n",
        "validation_generator = get_generator(validation_features, \n",
        "    validation_labels, batch_size=30)"
      ],
      "execution_count": null,
      "outputs": []
    },
    {
      "cell_type": "code",
      "metadata": {
        "id": "OH7FnT8nhaD9",
        "outputId": "8c398e48-ab74-4314-c2ef-1b44c0c20f04"
      },
      "source": [
        "# Get predictions on the validation data\n",
        "\n",
        "predictions = model.predict_generator(validation_generator, steps=1)\n",
        "print(np.round(predictions.T[0]))"
      ],
      "execution_count": null,
      "outputs": [
        {
          "output_type": "stream",
          "text": [
            "[0. 1. 0. 0. 1. 0. 1. 1. 0. 0. 0. 0. 0. 1. 0. 0. 0. 0. 1. 1. 0. 1. 0. 0.\n",
            " 0. 1. 1. 0. 1. 0.]\n"
          ],
          "name": "stdout"
        }
      ]
    },
    {
      "cell_type": "code",
      "metadata": {
        "scrolled": true,
        "id": "MfDxaO80haD_",
        "outputId": "6a18dcea-7430-4fec-de36-e940429fb8b2"
      },
      "source": [
        "# Print the corresponding validation labels\n",
        "\n",
        "print(validation_labels)"
      ],
      "execution_count": null,
      "outputs": [
        {
          "output_type": "stream",
          "text": [
            "[0. 1. 0. 0. 1. 0. 1. 1. 0. 0. 0. 0. 0. 1. 0. 0. 0. 0. 1. 1. 0. 1. 0. 0.\n",
            " 0. 1. 1. 0. 1. 0.]\n"
          ],
          "name": "stdout"
        }
      ]
    },
    {
      "cell_type": "code",
      "metadata": {
        "id": "JYO0ctK8haEB"
      },
      "source": [
        "# Obtain a validation data generator\n",
        "\n",
        "validation_generator = get_generator(validation_features, \n",
        "    validation_labels, batch_size=30)"
      ],
      "execution_count": null,
      "outputs": []
    },
    {
      "cell_type": "code",
      "metadata": {
        "id": "EaJi2CvghaEE",
        "outputId": "3383bd38-2569-41b1-a083-1c19e9944d75"
      },
      "source": [
        "# Evaluate the model\n",
        "\n",
        "print(model.evaluate(validation_generator))"
      ],
      "execution_count": null,
      "outputs": [
        {
          "output_type": "stream",
          "text": [
            "1/1 [==============================] - 0s 6ms/step - loss: 0.0165 - accuracy: 1.0000\n",
            "[0.016530679538846016, 1.0]\n"
          ],
          "name": "stdout"
        }
      ]
    },
    {
      "cell_type": "code",
      "metadata": {
        "id": "IlldBcsghaEG",
        "outputId": "78ccd0b0-4430-4b0e-85e1-40e434a3e4bb"
      },
      "source": [
        "batch_size = 5\n",
        "steps = len(validation) // batch_size\n",
        "\n",
        "validation_generator = get_generator(validation_features, \n",
        "    validation_labels, batch_size=batch_size)\n",
        "model.evaluate_generator(validation_generator, steps=steps)"
      ],
      "execution_count": null,
      "outputs": [
        {
          "output_type": "execute_result",
          "data": {
            "text/plain": [
              "[0.01653056397723655, 1.0]"
            ]
          },
          "metadata": {
            "tags": []
          },
          "execution_count": 54
        }
      ]
    },
    {
      "cell_type": "markdown",
      "metadata": {
        "id": "MulkCc1FhaEN"
      },
      "source": [
        "***\n",
        "<a id=\"coding_tutorial_3\"></a>\n",
        "## Keras image data augmentation"
      ]
    },
    {
      "cell_type": "code",
      "metadata": {
        "id": "XpcAwaiChaEO"
      },
      "source": [
        "%matplotlib inline\n",
        "import matplotlib.pyplot as plt\n",
        "import numpy as np\n",
        "import os"
      ],
      "execution_count": null,
      "outputs": []
    },
    {
      "cell_type": "markdown",
      "metadata": {
        "id": "o8G8N_88haEQ"
      },
      "source": [
        "### Reference\n",
        "\n",
        "from tensorflow.keras.datasets import cifar10\n",
        "\n",
        "from tensorflow.keras.preprocessing.image import ImageDataGenerator\n",
        "\n",
        "(x_train, y_train), (x_test, y_test) = cifar10.load_data()\n",
        "\n",
        "image_data_gen = ImageDataGenerator(rescale=None, \n",
        "    horizontal_flip=True, height_shift_range=0.2, fill_mode='nearest',\n",
        "    featurewise_center=True)\n",
        "\n",
        "image_data_gen.fit(x_train)\n",
        "\n",
        "train_datagen = image_data_gen.flow(x_train, y_train, batch_size=16)\n",
        "\n",
        "model.fit_generator(train_datagen, epochs=20)"
      ]
    },
    {
      "cell_type": "markdown",
      "metadata": {
        "id": "Awp0hKRDhaER"
      },
      "source": [
        "#### Load the CIFAR-10 Dataset"
      ]
    },
    {
      "cell_type": "code",
      "metadata": {
        "id": "jhtPGirVhaES"
      },
      "source": [
        "from tensorflow.keras.datasets import cifar10"
      ],
      "execution_count": null,
      "outputs": []
    },
    {
      "cell_type": "code",
      "metadata": {
        "id": "GOd1YbsJhaEU",
        "outputId": "f3b6f6cf-1025-47c8-abf8-dda0bfa708fa"
      },
      "source": [
        "# Load the CIFAR-10 dataset\n",
        "\n",
        "(training_features, training_labels), (test_features, test_labels) = \\\n",
        "    cifar10.load_data()"
      ],
      "execution_count": null,
      "outputs": [
        {
          "output_type": "stream",
          "text": [
            "Downloading data from https://www.cs.toronto.edu/~kriz/cifar-10-python.tar.gz\n",
            "170500096/170498071 [==============================] - 3s 0us/step\n"
          ],
          "name": "stdout"
        }
      ]
    },
    {
      "cell_type": "code",
      "metadata": {
        "id": "KsAjqqnjhaEV"
      },
      "source": [
        "# Convert the labels to a one-hot encoding\n",
        "\n",
        "num_classes = 10\n",
        "\n",
        "training_labels = tf.keras.utils.to_categorical(training_labels, num_classes)\n",
        "test_labels = tf.keras.utils.to_categorical(test_labels, num_classes)"
      ],
      "execution_count": null,
      "outputs": []
    },
    {
      "cell_type": "markdown",
      "metadata": {
        "id": "GNrlxnRlhaEX"
      },
      "source": [
        "#### Create a generator function"
      ]
    },
    {
      "cell_type": "code",
      "metadata": {
        "id": "Ieho8OrohaEY"
      },
      "source": [
        "# Create a function that returns a data generator\n",
        "\n",
        "def get_generator(features, labels, batch_size=1):\n",
        "    for n in range(int(len(features)/batch_size)):\n",
        "        yield (features[n*batch_size:(n+1)*batch_size], \n",
        "            labels[n*batch_size:(n+1)*batch_size])"
      ],
      "execution_count": null,
      "outputs": []
    },
    {
      "cell_type": "code",
      "metadata": {
        "id": "4Kk4Z87MhaEa"
      },
      "source": [
        "# Use the function we created to get a training data generator with a batch size of 1\n",
        "\n",
        "training_generator = get_generator(training_features, training_labels)"
      ],
      "execution_count": null,
      "outputs": []
    },
    {
      "cell_type": "code",
      "metadata": {
        "id": "uUgGGmjOhaEb",
        "outputId": "858f2c8b-e1dd-4b6d-a775-d9a90bb0b56e"
      },
      "source": [
        "# Assess the shape of the items generated by training_generator using the `next` function to yield an item.\n",
        "\n",
        "image, label = next(training_generator)\n",
        "print(image.shape)\n",
        "print(label.shape)"
      ],
      "execution_count": null,
      "outputs": [
        {
          "output_type": "stream",
          "text": [
            "(1, 32, 32, 3)\n",
            "(1, 10)\n"
          ],
          "name": "stdout"
        }
      ]
    },
    {
      "cell_type": "code",
      "metadata": {
        "id": "uEqA1uDAhaEd",
        "outputId": "30415bf3-664a-4878-b904-276405f99165"
      },
      "source": [
        "# Test the training generator by obtaining an image using the `next` generator function, and then using imshow to plot it.\n",
        "# Print the corresponding label\n",
        "\n",
        "from matplotlib.pyplot import imshow\n",
        "\n",
        "image, label = next(training_generator)\n",
        "image_unbatched = image[0,:,:,:]\n",
        "imshow(image_unbatched)\n",
        "print(label)"
      ],
      "execution_count": null,
      "outputs": [
        {
          "output_type": "stream",
          "text": [
            "[[0. 0. 0. 0. 0. 0. 0. 0. 0. 1.]]\n"
          ],
          "name": "stdout"
        },
        {
          "output_type": "display_data",
          "data": {
            "image/png": "[encoded data removed]",
            "text/plain": [
              "<Figure size 432x288 with 1 Axes>"
            ]
          },
          "metadata": {
            "tags": [],
            "needs_background": "light"
          }
        }
      ]
    },
    {
      "cell_type": "code",
      "metadata": {
        "id": "lhNS0N5khaEf"
      },
      "source": [
        "# Reset the generator by re-running the `get_generator` function.\n",
        "\n",
        "train_generator = get_generator(training_features, training_labels)"
      ],
      "execution_count": null,
      "outputs": []
    },
    {
      "cell_type": "markdown",
      "metadata": {
        "id": "yh41TDl2haEh"
      },
      "source": [
        "#### Create a data augmention generator"
      ]
    },
    {
      "cell_type": "code",
      "metadata": {
        "id": "h1yMmgIPhaEh"
      },
      "source": [
        "from tensorflow.keras.preprocessing.image import ImageDataGenerator"
      ],
      "execution_count": 39,
      "outputs": []
    },
    {
      "cell_type": "code",
      "metadata": {
        "id": "oKyZQms7haEk"
      },
      "source": [
        "# Create a function to convert an image to monochrome\n",
        "\n",
        "def monochrome(x):\n",
        "    def func_bw(a):\n",
        "        average_colour = np.mean(a)\n",
        "        return [average_colour, average_colour, average_colour]\n",
        "    x = np.apply_along_axis(func_bw, -1, x)\n",
        "    return x"
      ],
      "execution_count": null,
      "outputs": []
    },
    {
      "cell_type": "code",
      "metadata": {
        "id": "mxuo_9aAhaEn"
      },
      "source": [
        "# Create an ImageDataGenerator object\n",
        "\n",
        "image_generator = ImageDataGenerator(\n",
        "    preprocessing_function=monochrome,\n",
        "    rotation_range=180,\n",
        "    rescale=(1/255.0))\n",
        "\n",
        "image_generator.fit(training_features)"
      ],
      "execution_count": null,
      "outputs": []
    },
    {
      "cell_type": "markdown",
      "metadata": {
        "id": "MRwjDb69haEq"
      },
      "source": [
        "Check [the documentation](https://keras.io/preprocessing/image/) for the full list of image data augmentation options. "
      ]
    },
    {
      "cell_type": "code",
      "metadata": {
        "id": "mRnwugLChaEr"
      },
      "source": [
        "# Create an iterable generator using the `flow` function\n",
        "\n",
        "image_generator_iterable = image_generator.flow(training_features,\n",
        "    training_labels, batch_size=1, shuffle=False)"
      ],
      "execution_count": null,
      "outputs": []
    },
    {
      "cell_type": "code",
      "metadata": {
        "scrolled": false,
        "id": "m2bR1hpHhaEs",
        "outputId": "2f10a853-5dd7-4f77-c8f6-e4c391f5c50d"
      },
      "source": [
        "# Show a sample from the generator and compare with the original\n",
        "\n",
        "image, label = next(image_generator_iterable)\n",
        "image_orig, label_orig = next(train_generator)\n",
        "figs, axes = plt.subplots(1,2)\n",
        "axes[0].imshow(image[0,:,:,:])\n",
        "axes[0].set_title('Transformed')\n",
        "axes[1].imshow(image_orig[0,:,:,:])\n",
        "axes[1].set_title('Original')\n",
        "plt.show()"
      ],
      "execution_count": null,
      "outputs": [
        {
          "output_type": "display_data",
          "data": {
            "image/png": "[encoded data removed]",
            "text/plain": [
              "<Figure size 432x288 with 2 Axes>"
            ]
          },
          "metadata": {
            "tags": [],
            "needs_background": "light"
          }
        }
      ]
    },
    {
      "cell_type": "markdown",
      "metadata": {
        "id": "AZN3SD04haEt"
      },
      "source": [
        "#### Flow from directory"
      ]
    },
    {
      "cell_type": "markdown",
      "metadata": {
        "id": "00kewhH1d-Yw"
      },
      "source": [
        "#### Import the data\n",
        "\n",
        "The dataset required for this tutorial can be downloaded from the following link:\n",
        "\n",
        "https://drive.google.com/open?id=11Y43ta5gT672L3sfJFR2DvPs-ralY5Pd\n",
        "\n",
        "You should store these files for use in this Colab notebook."
      ]
    },
    {
      "cell_type": "code",
      "metadata": {
        "id": "dW7NZ379eczt"
      },
      "source": [
        "data_dir = \"./data\"\n",
        "if not os.path.exists(data_dir):\n",
        "    os.makedirs(data_dir)"
      ],
      "execution_count": 46,
      "outputs": []
    },
    {
      "cell_type": "code",
      "metadata": {
        "id": "ZVokfPRQecz-",
        "outputId": "3b983c9b-fedc-4cce-a991-72fd29535098",
        "colab": {
          "base_uri": "https://localhost:8080/"
        }
      },
      "source": [
        "%%bash\n",
        "\n",
        "fileid=\"11Y43ta5gT672L3sfJFR2DvPs-ralY5Pd\"\n",
        "filename=\"./data/flowers-recognition-split.zip\"\n",
        "curl -c ./cookie -s -L \"https://drive.google.com/uc?export=download&id=${fileid}\" > /dev/null\n",
        "curl -Lb ./cookie \"https://drive.google.com/uc?export=download&confirm=`awk '/download/ {print $NF}' ./cookie`&id=${fileid}\" -o ${filename}\n",
        "\n",
        "unzip -qq ./data/flowers-recognition-split.zip -d ./data\n",
        "rm -rf ./cookie ./data/flowers-recognition-split.zip"
      ],
      "execution_count": 47,
      "outputs": [
        {
          "output_type": "stream",
          "text": [
            "  % Total    % Received % Xferd  Average Speed   Time    Time     Time  Current\n",
            "                                 Dload  Upload   Total   Spent    Left  Speed\n",
            "\r  0     0    0     0    0     0      0      0 --:--:-- --:--:-- --:--:--     0\r100   408    0   408    0     0   1421      0 --:--:-- --:--:-- --:--:--  1421\n",
            "\r  0     0    0     0    0     0      0      0 --:--:-- --:--:-- --:--:--     0\n",
            "\r  0     0    0     0    0     0      0      0 --:--:-- --:--:-- --:--:--     0\r  0     0    0     0    0     0      0      0 --:--:-- --:--:-- --:--:--     0\n",
            "\r100 32.8M    0 32.8M    0     0  20.1M      0 --:--:--  0:00:01 --:--:-- 20.1M\r100  112M    0  112M    0     0  41.8M      0 --:--:--  0:00:02 --:--:-- 76.0M\r100  214M    0  214M    0     0  59.1M      0 --:--:--  0:00:03 --:--:-- 91.0M\r100  226M    0  226M    0     0  60.7M      0 --:--:--  0:00:03 --:--:-- 92.3M\n"
          ],
          "name": "stderr"
        }
      ]
    },
    {
      "cell_type": "code",
      "metadata": {
        "id": "hS8Aj9o7haEu"
      },
      "source": [
        "# Inspect the directory structure\n",
        "\n",
        "train_path = 'data/flowers-recognition-split/train'\n",
        "val_path = 'data/flowers-recognition-split/val'"
      ],
      "execution_count": 48,
      "outputs": []
    },
    {
      "cell_type": "code",
      "metadata": {
        "id": "u0teFy5XhaEw"
      },
      "source": [
        "# Create an ImageDataGenerator object\n",
        "\n",
        "datagenerator = ImageDataGenerator(rescale=(1/255.0))"
      ],
      "execution_count": 49,
      "outputs": []
    },
    {
      "cell_type": "code",
      "metadata": {
        "id": "O8F4Hv6OhaEy"
      },
      "source": [
        "classes = ['daisy', 'dandelion', 'rose', 'sunflower', 'tulip']"
      ],
      "execution_count": 50,
      "outputs": []
    },
    {
      "cell_type": "code",
      "metadata": {
        "id": "43SCIXOohaEz",
        "outputId": "be27f7f6-bf62-4111-e517-32b3c75195c5",
        "colab": {
          "base_uri": "https://localhost:8080/"
        }
      },
      "source": [
        "# Create a training data generator\n",
        "\n",
        "train_generator = datagenerator.flow_from_directory(train_path,\n",
        "    batch_size=64, classes=classes, target_size=(16, 16))"
      ],
      "execution_count": 51,
      "outputs": [
        {
          "output_type": "stream",
          "text": [
            "Found 3027 images belonging to 5 classes.\n"
          ],
          "name": "stdout"
        }
      ]
    },
    {
      "cell_type": "code",
      "metadata": {
        "id": "oNduitYAhaE1",
        "outputId": "b0909010-59d7-4de1-b7f5-f659eecb6bd0",
        "colab": {
          "base_uri": "https://localhost:8080/"
        }
      },
      "source": [
        "# Create a validation data generator\n",
        "\n",
        "val_generator = datagenerator.flow_from_directory(val_path,\n",
        "    batch_size=64, classes=classes, target_size=(16,16))"
      ],
      "execution_count": 52,
      "outputs": [
        {
          "output_type": "stream",
          "text": [
            "Found 1296 images belonging to 5 classes.\n"
          ],
          "name": "stdout"
        }
      ]
    },
    {
      "cell_type": "code",
      "metadata": {
        "id": "eUzYyqoVhaE8",
        "outputId": "e5377ec4-bbbc-4873-b005-709d090cdb01"
      },
      "source": [
        "# Get and display an image and label from the training generator\n",
        "\n",
        "x = next(train_generator)\n",
        "imshow(x[0][4])\n",
        "print(x[1][4])"
      ],
      "execution_count": null,
      "outputs": [
        {
          "output_type": "stream",
          "text": [
            "[0. 1. 0. 0. 0.]\n"
          ],
          "name": "stdout"
        },
        {
          "output_type": "display_data",
          "data": {
            "image/png": "[encoded data removed]",
            "text/plain": [
              "<Figure size 432x288 with 1 Axes>"
            ]
          },
          "metadata": {
            "tags": [],
            "needs_background": "light"
          }
        }
      ]
    },
    {
      "cell_type": "code",
      "metadata": {
        "id": "hawvnO6-haE9",
        "outputId": "b21c0b5f-abdc-4b7d-c55c-398d49bc4159"
      },
      "source": [
        "# Reset the training generator\n",
        "\n",
        "train_generator = datagenerator.flow_from_directory(train_path,\n",
        "    batch_size=64, classes=classes, target_size=(16, 16))"
      ],
      "execution_count": null,
      "outputs": [
        {
          "output_type": "stream",
          "text": [
            "Found 3027 images belonging to 5 classes.\n"
          ],
          "name": "stdout"
        }
      ]
    },
    {
      "cell_type": "markdown",
      "metadata": {
        "id": "OSWrrJRGhaE_"
      },
      "source": [
        "#### Create a model to train"
      ]
    },
    {
      "cell_type": "code",
      "metadata": {
        "scrolled": false,
        "id": "YLteymJqhaE_"
      },
      "source": [
        "# Build a CNN model\n",
        "\n",
        "from tensorflow.keras.layers import Conv2D, MaxPooling2D, Input, Flatten, Dense\n",
        "\n",
        "model = tf.keras.Sequential()\n",
        "model.add(Input((16,16,3)))\n",
        "model.add(Conv2D(8, (8, 8), padding='same', activation='relu'))\n",
        "model.add(MaxPooling2D((4,4)))\n",
        "model.add(Conv2D(8, (8, 8), padding='same', activation='relu'))\n",
        "model.add(MaxPooling2D((2,2)))\n",
        "model.add(Conv2D(4, (4, 4), padding='same', activation='relu'))\n",
        "model.add(Flatten())\n",
        "model.add(Dense(16, activation='relu'))\n",
        "model.add(Dense(8, activation='relu'))\n",
        "model.add(Dense(5, activation='softmax'))"
      ],
      "execution_count": null,
      "outputs": []
    },
    {
      "cell_type": "code",
      "metadata": {
        "id": "a9ScUILYhaFB"
      },
      "source": [
        "# Create an optimizer object\n",
        "\n",
        "optimizer = tf.keras.optimizers.Adam(1e-3)"
      ],
      "execution_count": null,
      "outputs": []
    },
    {
      "cell_type": "code",
      "metadata": {
        "id": "TxqLi4jrhaFC"
      },
      "source": [
        "# Compile the model\n",
        "\n",
        "model.compile(optimizer=optimizer, \n",
        "    loss='categorical_crossentropy', metrics=['accuracy'])"
      ],
      "execution_count": null,
      "outputs": []
    },
    {
      "cell_type": "code",
      "metadata": {
        "id": "1KogBiFshaFE",
        "outputId": "cde14640-e82c-4029-ec10-7b1afba39d39"
      },
      "source": [
        "# Print the model summary\n",
        "\n",
        "model.summary()"
      ],
      "execution_count": null,
      "outputs": [
        {
          "output_type": "stream",
          "text": [
            "Model: \"sequential\"\n",
            "_________________________________________________________________\n",
            "Layer (type)                 Output Shape              Param #   \n",
            "=================================================================\n",
            "conv2d (Conv2D)              (None, 16, 16, 8)         1544      \n",
            "_________________________________________________________________\n",
            "max_pooling2d (MaxPooling2D) (None, 4, 4, 8)           0         \n",
            "_________________________________________________________________\n",
            "conv2d_1 (Conv2D)            (None, 4, 4, 8)           4104      \n",
            "_________________________________________________________________\n",
            "max_pooling2d_1 (MaxPooling2 (None, 2, 2, 8)           0         \n",
            "_________________________________________________________________\n",
            "conv2d_2 (Conv2D)            (None, 2, 2, 4)           516       \n",
            "_________________________________________________________________\n",
            "flatten (Flatten)            (None, 16)                0         \n",
            "_________________________________________________________________\n",
            "dense (Dense)                (None, 16)                272       \n",
            "_________________________________________________________________\n",
            "dense_1 (Dense)              (None, 8)                 136       \n",
            "_________________________________________________________________\n",
            "dense_2 (Dense)              (None, 5)                 45        \n",
            "=================================================================\n",
            "Total params: 6,617\n",
            "Trainable params: 6,617\n",
            "Non-trainable params: 0\n",
            "_________________________________________________________________\n"
          ],
          "name": "stdout"
        }
      ]
    },
    {
      "cell_type": "markdown",
      "metadata": {
        "id": "Aqwr_ORZhaFG"
      },
      "source": [
        "#### Train the model"
      ]
    },
    {
      "cell_type": "code",
      "metadata": {
        "id": "HDyE8_XchaFH",
        "outputId": "8726cb76-968e-4c21-9659-8ff90dc1a181"
      },
      "source": [
        "# Calculate the training generator and test generator steps per epoch\n",
        "\n",
        "train_steps_per_epoch = train_generator.n // train_generator.batch_size\n",
        "val_steps = val_generator.n // val_generator.batch_size\n",
        "print(train_steps_per_epoch, val_steps)"
      ],
      "execution_count": null,
      "outputs": [
        {
          "output_type": "stream",
          "text": [
            "47 20\n"
          ],
          "name": "stdout"
        }
      ]
    },
    {
      "cell_type": "code",
      "metadata": {
        "id": "yRmd7ZDDhaFI",
        "outputId": "420a6ceb-c694-4157-c467-50841fc84b05"
      },
      "source": [
        "# Fit the model\n",
        "\n",
        "model.fit_generator(train_generator, \n",
        "    steps_per_epoch=train_steps_per_epoch, epochs=5)"
      ],
      "execution_count": null,
      "outputs": [
        {
          "output_type": "stream",
          "text": [
            "Epoch 1/5\n",
            "47/47 [==============================] - 41s 868ms/step - loss: 1.5845 - accuracy: 0.2386\n",
            "Epoch 2/5\n",
            "47/47 [==============================] - 27s 574ms/step - loss: 1.5112 - accuracy: 0.3048\n",
            "Epoch 3/5\n",
            "47/47 [==============================] - 27s 570ms/step - loss: 1.4496 - accuracy: 0.3382\n",
            "Epoch 4/5\n",
            "47/47 [==============================] - 28s 585ms/step - loss: 1.4100 - accuracy: 0.3660\n",
            "Epoch 5/5\n",
            "47/47 [==============================] - 26s 559ms/step - loss: 1.3789 - accuracy: 0.3766\n"
          ],
          "name": "stdout"
        },
        {
          "output_type": "execute_result",
          "data": {
            "text/plain": [
              "<tensorflow.python.keras.callbacks.History at 0x7f7b8637eac8>"
            ]
          },
          "metadata": {
            "tags": []
          },
          "execution_count": 37
        }
      ]
    },
    {
      "cell_type": "markdown",
      "metadata": {
        "id": "Da9gQT5BhaFL"
      },
      "source": [
        "#### Evaluate the model"
      ]
    },
    {
      "cell_type": "code",
      "metadata": {
        "id": "wWkUOT4fhaFM",
        "outputId": "6f400610-eaa3-4785-8908-5fe2f9a4cb27"
      },
      "source": [
        "# Evaluate the model\n",
        "\n",
        "model.evaluate_generator(val_generator, steps=val_steps)"
      ],
      "execution_count": null,
      "outputs": [
        {
          "output_type": "execute_result",
          "data": {
            "text/plain": [
              "[1.4513398289680481, 0.3453125]"
            ]
          },
          "metadata": {
            "tags": []
          },
          "execution_count": 38
        }
      ]
    },
    {
      "cell_type": "markdown",
      "metadata": {
        "id": "yQRD2u5UhaFN"
      },
      "source": [
        "#### Predict using the generator"
      ]
    },
    {
      "cell_type": "code",
      "metadata": {
        "scrolled": true,
        "id": "de5vOjAjhaFN",
        "outputId": "6ab46476-5cc4-49c6-8a09-4879449d50aa"
      },
      "source": [
        "# Predict labels with the model\n",
        "\n",
        "predictions = model.predict_generator(val_generator, steps=1)\n",
        "print(np.round(predictions, 2))"
      ],
      "execution_count": null,
      "outputs": [
        {
          "output_type": "stream",
          "text": [
            "[[0.11 0.22 0.15 0.17 0.34]\n",
            " [0.03 0.22 0.07 0.52 0.16]\n",
            " [0.13 0.2  0.21 0.12 0.34]\n",
            " [0.32 0.39 0.13 0.01 0.15]\n",
            " [0.13 0.21 0.21 0.13 0.32]\n",
            " [0.35 0.32 0.19 0.01 0.13]\n",
            " [0.28 0.35 0.14 0.02 0.21]\n",
            " [0.03 0.2  0.06 0.57 0.15]\n",
            " [0.4  0.42 0.11 0.   0.06]\n",
            " [0.01 0.16 0.02 0.72 0.09]\n",
            " [0.24 0.23 0.24 0.04 0.25]\n",
            " [0.4  0.37 0.14 0.   0.08]\n",
            " [0.27 0.29 0.2  0.03 0.21]\n",
            " [0.27 0.29 0.19 0.03 0.22]\n",
            " [0.23 0.2  0.29 0.04 0.24]\n",
            " [0.07 0.29 0.09 0.26 0.3 ]\n",
            " [0.37 0.43 0.11 0.   0.09]\n",
            " [0.25 0.23 0.27 0.04 0.21]\n",
            " [0.09 0.28 0.12 0.23 0.29]\n",
            " [0.32 0.3  0.21 0.01 0.15]\n",
            " [0.35 0.36 0.17 0.01 0.12]\n",
            " [0.18 0.22 0.22 0.09 0.29]\n",
            " [0.06 0.34 0.08 0.26 0.26]\n",
            " [0.27 0.21 0.29 0.02 0.22]\n",
            " [0.13 0.23 0.16 0.16 0.33]\n",
            " [0.33 0.28 0.24 0.01 0.14]\n",
            " [0.1  0.23 0.14 0.23 0.31]\n",
            " [0.41 0.44 0.1  0.   0.06]\n",
            " [0.2  0.28 0.18 0.06 0.29]\n",
            " [0.11 0.23 0.15 0.18 0.33]\n",
            " [0.03 0.21 0.07 0.52 0.18]\n",
            " [0.05 0.28 0.08 0.35 0.23]\n",
            " [0.18 0.3  0.16 0.08 0.28]\n",
            " [0.4  0.43 0.1  0.   0.06]\n",
            " [0.22 0.31 0.15 0.05 0.26]\n",
            " [0.33 0.3  0.22 0.01 0.14]\n",
            " [0.35 0.38 0.14 0.01 0.12]\n",
            " [0.41 0.45 0.09 0.   0.05]\n",
            " [0.39 0.42 0.11 0.   0.08]\n",
            " [0.23 0.28 0.19 0.04 0.26]\n",
            " [0.04 0.29 0.07 0.4  0.2 ]\n",
            " [0.17 0.25 0.18 0.09 0.31]\n",
            " [0.2  0.23 0.22 0.08 0.26]\n",
            " [0.07 0.28 0.1  0.28 0.26]\n",
            " [0.4  0.39 0.13 0.   0.08]\n",
            " [0.18 0.27 0.17 0.08 0.3 ]\n",
            " [0.32 0.31 0.2  0.01 0.16]\n",
            " [0.17 0.25 0.18 0.09 0.31]\n",
            " [0.29 0.27 0.24 0.02 0.18]\n",
            " [0.18 0.23 0.21 0.07 0.31]\n",
            " [0.07 0.25 0.09 0.23 0.36]\n",
            " [0.1  0.29 0.11 0.17 0.33]\n",
            " [0.27 0.27 0.22 0.03 0.21]\n",
            " [0.08 0.24 0.11 0.25 0.32]\n",
            " [0.02 0.25 0.04 0.54 0.14]\n",
            " [0.28 0.25 0.25 0.02 0.2 ]\n",
            " [0.37 0.36 0.16 0.01 0.1 ]\n",
            " [0.04 0.28 0.07 0.37 0.23]\n",
            " [0.33 0.33 0.18 0.01 0.15]\n",
            " [0.37 0.41 0.12 0.01 0.09]\n",
            " [0.33 0.32 0.19 0.01 0.15]\n",
            " [0.33 0.34 0.18 0.01 0.14]\n",
            " [0.14 0.28 0.15 0.13 0.3 ]\n",
            " [0.37 0.35 0.17 0.01 0.11]]\n"
          ],
          "name": "stdout"
        }
      ]
    },
    {
      "cell_type": "markdown",
      "metadata": {
        "id": "3b7sr3v1haFP"
      },
      "source": [
        "***\n",
        "<a id=\"coding_tutorial_4\"></a>\n",
        "## The Dataset Class"
      ]
    },
    {
      "cell_type": "code",
      "metadata": {
        "id": "9EfjjJTihaFP"
      },
      "source": [
        "%matplotlib inline\n",
        "import matplotlib.pyplot as plt\n",
        "import numpy as np\n",
        "import os"
      ],
      "execution_count": null,
      "outputs": []
    },
    {
      "cell_type": "markdown",
      "metadata": {
        "id": "uhejCLoBhaFR"
      },
      "source": [
        "#### Create a simple dataset"
      ]
    },
    {
      "cell_type": "code",
      "metadata": {
        "id": "cdIiKePqhaFR",
        "outputId": "43c687a2-f78f-45a6-9061-83dbfbc2f450"
      },
      "source": [
        "dataset = tf.data.Dataset.from_tensor_slices(\n",
        "    [[1,2],[3,4],[5,6]])\n",
        "print(dataset)\n",
        "\n",
        "for elem in dataset:\n",
        "    print(elem.numpy())"
      ],
      "execution_count": null,
      "outputs": [
        {
          "output_type": "stream",
          "text": [
            "<TensorSliceDataset shapes: (2,), types: tf.int32>\n",
            "[1 2]\n",
            "[3 4]\n",
            "[5 6]\n"
          ],
          "name": "stdout"
        }
      ]
    },
    {
      "cell_type": "code",
      "metadata": {
        "id": "_2S9ceMKhaFc",
        "outputId": "3174350d-ce70-44f9-c0e2-58c4de3cf728"
      },
      "source": [
        "dataset = tf.data.Dataset.from_tensor_slices(\n",
        "    (tf.random.uniform([256,4], minval=1, maxval=10, dtype=tf.int32),\n",
        "    tf.random.normal([256])))\n",
        "\n",
        "print(dataset.element_spec)\n",
        "\n",
        "for elem in dataset.take(2):\n",
        "    print(elem)"
      ],
      "execution_count": null,
      "outputs": [
        {
          "output_type": "stream",
          "text": [
            "(TensorSpec(shape=(4,), dtype=tf.int32, name=None), TensorSpec(shape=(), dtype=tf.float32, name=None))\n",
            "(<tf.Tensor: id=611, shape=(4,), dtype=int32, numpy=array([6, 2, 4, 6], dtype=int32)>, <tf.Tensor: id=612, shape=(), dtype=float32, numpy=-1.0001634>)\n",
            "(<tf.Tensor: id=613, shape=(4,), dtype=int32, numpy=array([1, 9, 6, 4], dtype=int32)>, <tf.Tensor: id=614, shape=(), dtype=float32, numpy=1.3832257>)\n"
          ],
          "name": "stdout"
        }
      ]
    },
    {
      "cell_type": "code",
      "metadata": {
        "id": "NuY8FBxLhaFd"
      },
      "source": [
        "x = np.zeros((100,10,2,2))"
      ],
      "execution_count": null,
      "outputs": []
    },
    {
      "cell_type": "code",
      "metadata": {
        "id": "6tuzoM-ehaFg"
      },
      "source": [
        "# Create a dataset from the tensor x\n",
        "\n",
        "dataset1 = tf.data.Dataset.from_tensor_slices(x)"
      ],
      "execution_count": null,
      "outputs": []
    },
    {
      "cell_type": "code",
      "metadata": {
        "id": "AEjYys1ThaFh",
        "outputId": "bde26186-25ca-4005-cc7a-7a736590ce24"
      },
      "source": [
        "# Inspect the Dataset object\n",
        "\n",
        "print(dataset1)\n",
        "print(dataset1.element_spec)"
      ],
      "execution_count": null,
      "outputs": [
        {
          "output_type": "stream",
          "text": [
            "<TensorSliceDataset shapes: (10, 2, 2), types: tf.float64>\n",
            "TensorSpec(shape=(10, 2, 2), dtype=tf.float64, name=None)\n"
          ],
          "name": "stdout"
        }
      ]
    },
    {
      "cell_type": "code",
      "metadata": {
        "id": "keCXj3smhaFj"
      },
      "source": [
        "x2 = [np.zeros((10,2,2)), np.zeros((5,2,2))]"
      ],
      "execution_count": null,
      "outputs": []
    },
    {
      "cell_type": "code",
      "metadata": {
        "id": "WzzwP_FfhaFo",
        "outputId": "343063eb-d656-4dc8-e818-adf9ca7cb3f5"
      },
      "source": [
        "# Try creating a dataset from the tensor x2\n",
        "\n",
        "dataset2 = tf.data.Dataset.from_tensor_slices(x2)"
      ],
      "execution_count": null,
      "outputs": [
        {
          "output_type": "error",
          "ename": "ValueError",
          "evalue": "Can't convert non-rectangular Python sequence to Tensor.",
          "traceback": [
            "\u001b[0;31m---------------------------------------------------------------------------\u001b[0m",
            "\u001b[0;31mValueError\u001b[0m                                Traceback (most recent call last)",
            "\u001b[0;32m<ipython-input-8-e4370cf142de>\u001b[0m in \u001b[0;36m<module>\u001b[0;34m\u001b[0m\n\u001b[1;32m      1\u001b[0m \u001b[0;31m# Try creating a dataset from the tensor x2\u001b[0m\u001b[0;34m\u001b[0m\u001b[0;34m\u001b[0m\u001b[0;34m\u001b[0m\u001b[0m\n\u001b[1;32m      2\u001b[0m \u001b[0;34m\u001b[0m\u001b[0m\n\u001b[0;32m----> 3\u001b[0;31m \u001b[0mdataset2\u001b[0m \u001b[0;34m=\u001b[0m \u001b[0mtf\u001b[0m\u001b[0;34m.\u001b[0m\u001b[0mdata\u001b[0m\u001b[0;34m.\u001b[0m\u001b[0mDataset\u001b[0m\u001b[0;34m.\u001b[0m\u001b[0mfrom_tensor_slices\u001b[0m\u001b[0;34m(\u001b[0m\u001b[0mx2\u001b[0m\u001b[0;34m)\u001b[0m\u001b[0;34m\u001b[0m\u001b[0;34m\u001b[0m\u001b[0m\n\u001b[0m",
            "\u001b[0;32m/opt/conda/lib/python3.7/site-packages/tensorflow_core/python/data/ops/dataset_ops.py\u001b[0m in \u001b[0;36mfrom_tensor_slices\u001b[0;34m(tensors)\u001b[0m\n\u001b[1;32m    433\u001b[0m       \u001b[0mDataset\u001b[0m\u001b[0;34m:\u001b[0m \u001b[0mA\u001b[0m\u001b[0;31m \u001b[0m\u001b[0;31m`\u001b[0m\u001b[0mDataset\u001b[0m\u001b[0;31m`\u001b[0m\u001b[0;34m.\u001b[0m\u001b[0;34m\u001b[0m\u001b[0;34m\u001b[0m\u001b[0m\n\u001b[1;32m    434\u001b[0m     \"\"\"\n\u001b[0;32m--> 435\u001b[0;31m     \u001b[0;32mreturn\u001b[0m \u001b[0mTensorSliceDataset\u001b[0m\u001b[0;34m(\u001b[0m\u001b[0mtensors\u001b[0m\u001b[0;34m)\u001b[0m\u001b[0;34m\u001b[0m\u001b[0;34m\u001b[0m\u001b[0m\n\u001b[0m\u001b[1;32m    436\u001b[0m \u001b[0;34m\u001b[0m\u001b[0m\n\u001b[1;32m    437\u001b[0m   \u001b[0;32mclass\u001b[0m \u001b[0m_GeneratorState\u001b[0m\u001b[0;34m(\u001b[0m\u001b[0mobject\u001b[0m\u001b[0;34m)\u001b[0m\u001b[0;34m:\u001b[0m\u001b[0;34m\u001b[0m\u001b[0;34m\u001b[0m\u001b[0m\n",
            "\u001b[0;32m/opt/conda/lib/python3.7/site-packages/tensorflow_core/python/data/ops/dataset_ops.py\u001b[0m in \u001b[0;36m__init__\u001b[0;34m(self, element)\u001b[0m\n\u001b[1;32m   2352\u001b[0m   \u001b[0;32mdef\u001b[0m \u001b[0m__init__\u001b[0m\u001b[0;34m(\u001b[0m\u001b[0mself\u001b[0m\u001b[0;34m,\u001b[0m \u001b[0melement\u001b[0m\u001b[0;34m)\u001b[0m\u001b[0;34m:\u001b[0m\u001b[0;34m\u001b[0m\u001b[0;34m\u001b[0m\u001b[0m\n\u001b[1;32m   2353\u001b[0m     \u001b[0;34m\"\"\"See `Dataset.from_tensor_slices()` for details.\"\"\"\u001b[0m\u001b[0;34m\u001b[0m\u001b[0;34m\u001b[0m\u001b[0m\n\u001b[0;32m-> 2354\u001b[0;31m     \u001b[0melement\u001b[0m \u001b[0;34m=\u001b[0m \u001b[0mstructure\u001b[0m\u001b[0;34m.\u001b[0m\u001b[0mnormalize_element\u001b[0m\u001b[0;34m(\u001b[0m\u001b[0melement\u001b[0m\u001b[0;34m)\u001b[0m\u001b[0;34m\u001b[0m\u001b[0;34m\u001b[0m\u001b[0m\n\u001b[0m\u001b[1;32m   2355\u001b[0m     \u001b[0mbatched_spec\u001b[0m \u001b[0;34m=\u001b[0m \u001b[0mstructure\u001b[0m\u001b[0;34m.\u001b[0m\u001b[0mtype_spec_from_value\u001b[0m\u001b[0;34m(\u001b[0m\u001b[0melement\u001b[0m\u001b[0;34m)\u001b[0m\u001b[0;34m\u001b[0m\u001b[0;34m\u001b[0m\u001b[0m\n\u001b[1;32m   2356\u001b[0m     \u001b[0mself\u001b[0m\u001b[0;34m.\u001b[0m\u001b[0m_tensors\u001b[0m \u001b[0;34m=\u001b[0m \u001b[0mstructure\u001b[0m\u001b[0;34m.\u001b[0m\u001b[0mto_batched_tensor_list\u001b[0m\u001b[0;34m(\u001b[0m\u001b[0mbatched_spec\u001b[0m\u001b[0;34m,\u001b[0m \u001b[0melement\u001b[0m\u001b[0;34m)\u001b[0m\u001b[0;34m\u001b[0m\u001b[0;34m\u001b[0m\u001b[0m\n",
            "\u001b[0;32m/opt/conda/lib/python3.7/site-packages/tensorflow_core/python/data/util/structure.py\u001b[0m in \u001b[0;36mnormalize_element\u001b[0;34m(element)\u001b[0m\n\u001b[1;32m    109\u001b[0m         \u001b[0;32melse\u001b[0m\u001b[0;34m:\u001b[0m\u001b[0;34m\u001b[0m\u001b[0;34m\u001b[0m\u001b[0m\n\u001b[1;32m    110\u001b[0m           normalized_components.append(\n\u001b[0;32m--> 111\u001b[0;31m               ops.convert_to_tensor(t, name=\"component_%d\" % i))\n\u001b[0m\u001b[1;32m    112\u001b[0m   \u001b[0;32mreturn\u001b[0m \u001b[0mnest\u001b[0m\u001b[0;34m.\u001b[0m\u001b[0mpack_sequence_as\u001b[0m\u001b[0;34m(\u001b[0m\u001b[0melement\u001b[0m\u001b[0;34m,\u001b[0m \u001b[0mnormalized_components\u001b[0m\u001b[0;34m)\u001b[0m\u001b[0;34m\u001b[0m\u001b[0;34m\u001b[0m\u001b[0m\n\u001b[1;32m    113\u001b[0m \u001b[0;34m\u001b[0m\u001b[0m\n",
            "\u001b[0;32m/opt/conda/lib/python3.7/site-packages/tensorflow_core/python/framework/ops.py\u001b[0m in \u001b[0;36mconvert_to_tensor\u001b[0;34m(value, dtype, name, preferred_dtype, dtype_hint)\u001b[0m\n\u001b[1;32m   1182\u001b[0m   preferred_dtype = deprecation.deprecated_argument_lookup(\n\u001b[1;32m   1183\u001b[0m       \"dtype_hint\", dtype_hint, \"preferred_dtype\", preferred_dtype)\n\u001b[0;32m-> 1184\u001b[0;31m   \u001b[0;32mreturn\u001b[0m \u001b[0mconvert_to_tensor_v2\u001b[0m\u001b[0;34m(\u001b[0m\u001b[0mvalue\u001b[0m\u001b[0;34m,\u001b[0m \u001b[0mdtype\u001b[0m\u001b[0;34m,\u001b[0m \u001b[0mpreferred_dtype\u001b[0m\u001b[0;34m,\u001b[0m \u001b[0mname\u001b[0m\u001b[0;34m)\u001b[0m\u001b[0;34m\u001b[0m\u001b[0;34m\u001b[0m\u001b[0m\n\u001b[0m\u001b[1;32m   1185\u001b[0m \u001b[0;34m\u001b[0m\u001b[0m\n\u001b[1;32m   1186\u001b[0m \u001b[0;34m\u001b[0m\u001b[0m\n",
            "\u001b[0;32m/opt/conda/lib/python3.7/site-packages/tensorflow_core/python/framework/ops.py\u001b[0m in \u001b[0;36mconvert_to_tensor_v2\u001b[0;34m(value, dtype, dtype_hint, name)\u001b[0m\n\u001b[1;32m   1240\u001b[0m       \u001b[0mname\u001b[0m\u001b[0;34m=\u001b[0m\u001b[0mname\u001b[0m\u001b[0;34m,\u001b[0m\u001b[0;34m\u001b[0m\u001b[0;34m\u001b[0m\u001b[0m\n\u001b[1;32m   1241\u001b[0m       \u001b[0mpreferred_dtype\u001b[0m\u001b[0;34m=\u001b[0m\u001b[0mdtype_hint\u001b[0m\u001b[0;34m,\u001b[0m\u001b[0;34m\u001b[0m\u001b[0;34m\u001b[0m\u001b[0m\n\u001b[0;32m-> 1242\u001b[0;31m       as_ref=False)\n\u001b[0m\u001b[1;32m   1243\u001b[0m \u001b[0;34m\u001b[0m\u001b[0m\n\u001b[1;32m   1244\u001b[0m \u001b[0;34m\u001b[0m\u001b[0m\n",
            "\u001b[0;32m/opt/conda/lib/python3.7/site-packages/tensorflow_core/python/framework/ops.py\u001b[0m in \u001b[0;36minternal_convert_to_tensor\u001b[0;34m(value, dtype, name, as_ref, preferred_dtype, ctx, accept_composite_tensors)\u001b[0m\n\u001b[1;32m   1294\u001b[0m \u001b[0;34m\u001b[0m\u001b[0m\n\u001b[1;32m   1295\u001b[0m     \u001b[0;32mif\u001b[0m \u001b[0mret\u001b[0m \u001b[0;32mis\u001b[0m \u001b[0;32mNone\u001b[0m\u001b[0;34m:\u001b[0m\u001b[0;34m\u001b[0m\u001b[0;34m\u001b[0m\u001b[0m\n\u001b[0;32m-> 1296\u001b[0;31m       \u001b[0mret\u001b[0m \u001b[0;34m=\u001b[0m \u001b[0mconversion_func\u001b[0m\u001b[0;34m(\u001b[0m\u001b[0mvalue\u001b[0m\u001b[0;34m,\u001b[0m \u001b[0mdtype\u001b[0m\u001b[0;34m=\u001b[0m\u001b[0mdtype\u001b[0m\u001b[0;34m,\u001b[0m \u001b[0mname\u001b[0m\u001b[0;34m=\u001b[0m\u001b[0mname\u001b[0m\u001b[0;34m,\u001b[0m \u001b[0mas_ref\u001b[0m\u001b[0;34m=\u001b[0m\u001b[0mas_ref\u001b[0m\u001b[0;34m)\u001b[0m\u001b[0;34m\u001b[0m\u001b[0;34m\u001b[0m\u001b[0m\n\u001b[0m\u001b[1;32m   1297\u001b[0m \u001b[0;34m\u001b[0m\u001b[0m\n\u001b[1;32m   1298\u001b[0m     \u001b[0;32mif\u001b[0m \u001b[0mret\u001b[0m \u001b[0;32mis\u001b[0m \u001b[0mNotImplemented\u001b[0m\u001b[0;34m:\u001b[0m\u001b[0;34m\u001b[0m\u001b[0;34m\u001b[0m\u001b[0m\n",
            "\u001b[0;32m/opt/conda/lib/python3.7/site-packages/tensorflow_core/python/framework/constant_op.py\u001b[0m in \u001b[0;36m_constant_tensor_conversion_function\u001b[0;34m(v, dtype, name, as_ref)\u001b[0m\n\u001b[1;32m    284\u001b[0m                                          as_ref=False):\n\u001b[1;32m    285\u001b[0m   \u001b[0m_\u001b[0m \u001b[0;34m=\u001b[0m \u001b[0mas_ref\u001b[0m\u001b[0;34m\u001b[0m\u001b[0;34m\u001b[0m\u001b[0m\n\u001b[0;32m--> 286\u001b[0;31m   \u001b[0;32mreturn\u001b[0m \u001b[0mconstant\u001b[0m\u001b[0;34m(\u001b[0m\u001b[0mv\u001b[0m\u001b[0;34m,\u001b[0m \u001b[0mdtype\u001b[0m\u001b[0;34m=\u001b[0m\u001b[0mdtype\u001b[0m\u001b[0;34m,\u001b[0m \u001b[0mname\u001b[0m\u001b[0;34m=\u001b[0m\u001b[0mname\u001b[0m\u001b[0;34m)\u001b[0m\u001b[0;34m\u001b[0m\u001b[0;34m\u001b[0m\u001b[0m\n\u001b[0m\u001b[1;32m    287\u001b[0m \u001b[0;34m\u001b[0m\u001b[0m\n\u001b[1;32m    288\u001b[0m \u001b[0;34m\u001b[0m\u001b[0m\n",
            "\u001b[0;32m/opt/conda/lib/python3.7/site-packages/tensorflow_core/python/framework/constant_op.py\u001b[0m in \u001b[0;36mconstant\u001b[0;34m(value, dtype, shape, name)\u001b[0m\n\u001b[1;32m    225\u001b[0m   \"\"\"\n\u001b[1;32m    226\u001b[0m   return _constant_impl(value, dtype, shape, name, verify_shape=False,\n\u001b[0;32m--> 227\u001b[0;31m                         allow_broadcast=True)\n\u001b[0m\u001b[1;32m    228\u001b[0m \u001b[0;34m\u001b[0m\u001b[0m\n\u001b[1;32m    229\u001b[0m \u001b[0;34m\u001b[0m\u001b[0m\n",
            "\u001b[0;32m/opt/conda/lib/python3.7/site-packages/tensorflow_core/python/framework/constant_op.py\u001b[0m in \u001b[0;36m_constant_impl\u001b[0;34m(value, dtype, shape, name, verify_shape, allow_broadcast)\u001b[0m\n\u001b[1;32m    233\u001b[0m   \u001b[0mctx\u001b[0m \u001b[0;34m=\u001b[0m \u001b[0mcontext\u001b[0m\u001b[0;34m.\u001b[0m\u001b[0mcontext\u001b[0m\u001b[0;34m(\u001b[0m\u001b[0;34m)\u001b[0m\u001b[0;34m\u001b[0m\u001b[0;34m\u001b[0m\u001b[0m\n\u001b[1;32m    234\u001b[0m   \u001b[0;32mif\u001b[0m \u001b[0mctx\u001b[0m\u001b[0;34m.\u001b[0m\u001b[0mexecuting_eagerly\u001b[0m\u001b[0;34m(\u001b[0m\u001b[0;34m)\u001b[0m\u001b[0;34m:\u001b[0m\u001b[0;34m\u001b[0m\u001b[0;34m\u001b[0m\u001b[0m\n\u001b[0;32m--> 235\u001b[0;31m     \u001b[0mt\u001b[0m \u001b[0;34m=\u001b[0m \u001b[0mconvert_to_eager_tensor\u001b[0m\u001b[0;34m(\u001b[0m\u001b[0mvalue\u001b[0m\u001b[0;34m,\u001b[0m \u001b[0mctx\u001b[0m\u001b[0;34m,\u001b[0m \u001b[0mdtype\u001b[0m\u001b[0;34m)\u001b[0m\u001b[0;34m\u001b[0m\u001b[0;34m\u001b[0m\u001b[0m\n\u001b[0m\u001b[1;32m    236\u001b[0m     \u001b[0;32mif\u001b[0m \u001b[0mshape\u001b[0m \u001b[0;32mis\u001b[0m \u001b[0;32mNone\u001b[0m\u001b[0;34m:\u001b[0m\u001b[0;34m\u001b[0m\u001b[0;34m\u001b[0m\u001b[0m\n\u001b[1;32m    237\u001b[0m       \u001b[0;32mreturn\u001b[0m \u001b[0mt\u001b[0m\u001b[0;34m\u001b[0m\u001b[0;34m\u001b[0m\u001b[0m\n",
            "\u001b[0;32m/opt/conda/lib/python3.7/site-packages/tensorflow_core/python/framework/constant_op.py\u001b[0m in \u001b[0;36mconvert_to_eager_tensor\u001b[0;34m(value, ctx, dtype)\u001b[0m\n\u001b[1;32m     94\u001b[0m       \u001b[0mdtype\u001b[0m \u001b[0;34m=\u001b[0m \u001b[0mdtypes\u001b[0m\u001b[0;34m.\u001b[0m\u001b[0mas_dtype\u001b[0m\u001b[0;34m(\u001b[0m\u001b[0mdtype\u001b[0m\u001b[0;34m)\u001b[0m\u001b[0;34m.\u001b[0m\u001b[0mas_datatype_enum\u001b[0m\u001b[0;34m\u001b[0m\u001b[0;34m\u001b[0m\u001b[0m\n\u001b[1;32m     95\u001b[0m   \u001b[0mctx\u001b[0m\u001b[0;34m.\u001b[0m\u001b[0mensure_initialized\u001b[0m\u001b[0;34m(\u001b[0m\u001b[0;34m)\u001b[0m\u001b[0;34m\u001b[0m\u001b[0;34m\u001b[0m\u001b[0m\n\u001b[0;32m---> 96\u001b[0;31m   \u001b[0;32mreturn\u001b[0m \u001b[0mops\u001b[0m\u001b[0;34m.\u001b[0m\u001b[0mEagerTensor\u001b[0m\u001b[0;34m(\u001b[0m\u001b[0mvalue\u001b[0m\u001b[0;34m,\u001b[0m \u001b[0mctx\u001b[0m\u001b[0;34m.\u001b[0m\u001b[0mdevice_name\u001b[0m\u001b[0;34m,\u001b[0m \u001b[0mdtype\u001b[0m\u001b[0;34m)\u001b[0m\u001b[0;34m\u001b[0m\u001b[0;34m\u001b[0m\u001b[0m\n\u001b[0m\u001b[1;32m     97\u001b[0m \u001b[0;34m\u001b[0m\u001b[0m\n\u001b[1;32m     98\u001b[0m \u001b[0;34m\u001b[0m\u001b[0m\n",
            "\u001b[0;31mValueError\u001b[0m: Can't convert non-rectangular Python sequence to Tensor."
          ]
        }
      ]
    },
    {
      "cell_type": "code",
      "metadata": {
        "id": "sSib04SBhaFp"
      },
      "source": [
        "x2 = [np.zeros((10,1)), np.zeros((10,1)), np.zeros((10,1))]"
      ],
      "execution_count": null,
      "outputs": []
    },
    {
      "cell_type": "code",
      "metadata": {
        "id": "ICxvC8UQhaFr"
      },
      "source": [
        "# Create another dataset from the new x2 and inspect the Dataset object\n",
        "\n",
        "dataset2 = tf.data.Dataset.from_tensor_slices(x2)"
      ],
      "execution_count": null,
      "outputs": []
    },
    {
      "cell_type": "code",
      "metadata": {
        "id": "8ZBAJa7chaFt",
        "outputId": "d2444fba-f1f9-4dfc-c391-ed7590c9a653"
      },
      "source": [
        "# Print the element_spec\n",
        "\n",
        "print(dataset2.element_spec)"
      ],
      "execution_count": null,
      "outputs": [
        {
          "output_type": "stream",
          "text": [
            "TensorSpec(shape=(10, 1), dtype=tf.float64, name=None)\n"
          ],
          "name": "stdout"
        }
      ]
    },
    {
      "cell_type": "markdown",
      "metadata": {
        "id": "T5_eojOchaFu"
      },
      "source": [
        "#### Create a zipped dataset"
      ]
    },
    {
      "cell_type": "code",
      "metadata": {
        "id": "oSu4cNAXhaFu"
      },
      "source": [
        "# Combine the two datasets into one larger dataset\n",
        "\n",
        "dataset_zipped = tf.data.Dataset.zip((dataset1, dataset2))"
      ],
      "execution_count": null,
      "outputs": []
    },
    {
      "cell_type": "code",
      "metadata": {
        "id": "YLIYKRWXhaFw",
        "outputId": "62262cf5-5a13-4cff-b9a4-9d0731dff328"
      },
      "source": [
        "# Print the element_spec\n",
        "\n",
        "print(dataset_zipped.element_spec)"
      ],
      "execution_count": null,
      "outputs": [
        {
          "output_type": "stream",
          "text": [
            "(TensorSpec(shape=(10, 2, 2), dtype=tf.float64, name=None), TensorSpec(shape=(10, 1), dtype=tf.float64, name=None))\n"
          ],
          "name": "stdout"
        }
      ]
    },
    {
      "cell_type": "code",
      "metadata": {
        "id": "a3CGxehQhaFy"
      },
      "source": [
        "# Define a function to find the number of batches in a dataset\n",
        "\n",
        "def get_batches(dataset):\n",
        "    iter_dataset = iter(dataset)\n",
        "    i = 0\n",
        "    try:\n",
        "        while next(iter_dataset):\n",
        "            i = i+1\n",
        "    except:\n",
        "        return i"
      ],
      "execution_count": null,
      "outputs": []
    },
    {
      "cell_type": "code",
      "metadata": {
        "id": "Tq-gZKADhaFz",
        "outputId": "b7adbc6f-6424-42c5-db35-86b5013ed8c4"
      },
      "source": [
        "# Find the number of batches in the zipped Dataset\n",
        "\n",
        "get_batches(dataset_zipped)"
      ],
      "execution_count": null,
      "outputs": [
        {
          "output_type": "execute_result",
          "data": {
            "text/plain": [
              "3"
            ]
          },
          "metadata": {
            "tags": []
          },
          "execution_count": 15
        }
      ]
    },
    {
      "cell_type": "markdown",
      "metadata": {
        "id": "SBmSO5lJhaF1"
      },
      "source": [
        "#### Create a dataset from numpy arrays"
      ]
    },
    {
      "cell_type": "code",
      "metadata": {
        "id": "KOSpfv_WhaF1",
        "outputId": "3e1668d6-7e6e-4145-9cf0-34da9f26fa86"
      },
      "source": [
        "from tensorflow.keras.datasets import cifar10\n",
        "\n",
        "(x_train, y_train), (x_test, y_test) = cifar10.load_data()\n",
        "\n",
        "dataset = tf.data.Dataset.from_tensor_slices((x_train, y_train))\n",
        "\n",
        "print(dataset.element_spec)"
      ],
      "execution_count": null,
      "outputs": [
        {
          "output_type": "stream",
          "text": [
            "Downloading data from https://www.cs.toronto.edu/~kriz/cifar-10-python.tar.gz\n",
            "170500096/170498071 [==============================] - 3s 0us/step\n",
            "(TensorSpec(shape=(32, 32, 3), dtype=tf.uint8, name=None), TensorSpec(shape=(1,), dtype=tf.uint8, name=None))\n"
          ],
          "name": "stdout"
        }
      ]
    },
    {
      "cell_type": "code",
      "metadata": {
        "id": "U5QbOUgwhaF3",
        "outputId": "b5eb9a1d-225b-40de-b379-f9fc036809d1"
      },
      "source": [
        "from tensorflow.keras.preprocessing.image import ImageDataGenerator\n",
        "\n",
        "img_datagen = ImageDataGenerator(rescale=1/255., \n",
        "    width_shift_range=0.2, horizontal_flip=True)\n",
        "\n",
        "dataset = tf.data.Dataset.from_generator(img_datagen.flow, \n",
        "    args=[x_train, y_train], output_types=(tf.float32, tf.int32),\n",
        "    output_shapes=([32,32,32,3], [32,1]))\n",
        "\n",
        "print(dataset.element_spec)\n",
        "\n",
        "for elem in dataset.take(2):\n",
        "    print(elem)"
      ],
      "execution_count": null,
      "outputs": [
        {
          "output_type": "stream",
          "text": [
            "(TensorSpec(shape=(32, 32, 32, 3), dtype=tf.float32, name=None), TensorSpec(shape=(32, 1), dtype=tf.int32, name=None))\n",
            "(<tf.Tensor: id=698, shape=(32, 32, 32, 3), dtype=float32, numpy=\n",
            "array([[[[0.9929748 , 0.9929748 , 0.9929748 ],\n",
            "         [0.9995911 , 0.9995911 , 0.9995911 ],\n",
            "         [0.99648744, 0.99648744, 0.99648744],\n",
            "         ...,\n",
            "         [0.44256067, 0.4735243 , 0.40317732],\n",
            "         [0.40514836, 0.4317815 , 0.33227426],\n",
            "         [0.4156863 , 0.43529415, 0.35686275]],\n",
            "\n",
            "        [[0.98594946, 0.98594946, 0.98594946],\n",
            "         [0.99918216, 0.99918216, 0.99918216],\n",
            "         [0.9921569 , 0.9921569 , 0.9921569 ],\n",
            "         ...,\n",
            "         [0.41371524, 0.42981043, 0.380707  ],\n",
            "         [0.32777607, 0.3486107 , 0.28439757],\n",
            "         [0.3137255 , 0.34509805, 0.3019608 ]],\n",
            "\n",
            "        [[0.9894621 , 0.9894621 , 0.9894621 ],\n",
            "         [0.99918216, 0.99918216, 0.99918216],\n",
            "         [0.99052125, 0.99052125, 0.99052125],\n",
            "         ...,\n",
            "         [0.3995911 , 0.42785993, 0.40163574],\n",
            "         [0.3936249 , 0.42932796, 0.4156863 ],\n",
            "         [0.37254903, 0.41176474, 0.4156863 ]],\n",
            "\n",
            "        ...,\n",
            "\n",
            "        [[0.89224076, 0.9035965 , 0.93063855],\n",
            "         [0.91021293, 0.9176471 , 0.94035864],\n",
            "         [0.9153612 , 0.91846496, 0.9345601 ],\n",
            "         ...,\n",
            "         [0.68357974, 0.6474678 , 0.61486846],\n",
            "         [0.6945266 , 0.65302503, 0.6111146 ],\n",
            "         [0.69803923, 0.67058825, 0.6392157 ]],\n",
            "\n",
            "        [[0.88357973, 0.8988571 , 0.91846496],\n",
            "         [0.89534444, 0.90629137, 0.92549026],\n",
            "         [0.90792704, 0.9110307 , 0.92712593],\n",
            "         ...,\n",
            "         [0.75710404, 0.7457482 , 0.73439246],\n",
            "         [0.7181296 , 0.7090597 , 0.69917196],\n",
            "         [0.654902  , 0.63529414, 0.60784316]],\n",
            "\n",
            "        [[0.8839887 , 0.89534444, 0.91887385],\n",
            "         [0.9000839 , 0.90710914, 0.93022966],\n",
            "         [0.91887385, 0.91846496, 0.9380728 ],\n",
            "         ...,\n",
            "         [0.6889694 , 0.67410094, 0.6113558 ],\n",
            "         [0.67393327, 0.66813475, 0.6053896 ],\n",
            "         [0.63529414, 0.64705884, 0.58431375]]],\n",
            "\n",
            "\n",
            "       [[[0.1105932 , 0.25255895, 0.32942417],\n",
            "         [0.1137255 , 0.26353437, 0.3466766 ],\n",
            "         [0.11608092, 0.2690221 , 0.36000746],\n",
            "         ...,\n",
            "         [0.11371311, 0.26666668, 0.34511045],\n",
            "         [0.10823778, 0.26666668, 0.3505858 ],\n",
            "         [0.10980393, 0.26666668, 0.34901962]],\n",
            "\n",
            "        [[0.11215935, 0.26196823, 0.34511045],\n",
            "         [0.1137255 , 0.27137753, 0.36000746],\n",
            "         [0.11608092, 0.27450982, 0.36941674],\n",
            "         ...,\n",
            "         [0.13409783, 0.26510054, 0.34197813],\n",
            "         [0.1168578 , 0.2690221 , 0.36236286],\n",
            "         [0.1137255 , 0.27058825, 0.36862746]],\n",
            "\n",
            "        [[0.11451477, 0.26824522, 0.355309  ],\n",
            "         [0.11764707, 0.27922067, 0.37177217],\n",
            "         [0.12000249, 0.28470838, 0.37882602],\n",
            "         ...,\n",
            "         [0.16776387, 0.2854357 , 0.36310259],\n",
            "         [0.11529165, 0.26040208, 0.3576644 ],\n",
            "         [0.1137255 , 0.26666668, 0.36862746]],\n",
            "\n",
            "        ...,\n",
            "\n",
            "        [[0.12077937, 0.2839191 , 0.3505858 ],\n",
            "         [0.11529165, 0.27999753, 0.3443088 ],\n",
            "         [0.11843634, 0.29256392, 0.33646566],\n",
            "         ...,\n",
            "         [0.12941177, 0.29803923, 0.36078432],\n",
            "         [0.12705636, 0.2956838 , 0.35842893],\n",
            "         [0.1254902 , 0.29411766, 0.35686275]],\n",
            "\n",
            "        [[0.1137255 , 0.26431125, 0.32941177],\n",
            "         [0.1137255 , 0.26510054, 0.3317672 ],\n",
            "         [0.1137255 , 0.27373293, 0.33097795],\n",
            "         ...,\n",
            "         [0.11215935, 0.27686524, 0.3372549 ],\n",
            "         [0.1137255 , 0.2784314 , 0.3372549 ],\n",
            "         [0.1137255 , 0.2784314 , 0.3372549 ]],\n",
            "\n",
            "        [[0.11608092, 0.24941425, 0.31215936],\n",
            "         [0.1223579 , 0.25569123, 0.31843635],\n",
            "         [0.12313478, 0.25882354, 0.32392406],\n",
            "         ...,\n",
            "         [0.11764707, 0.26117897, 0.3200025 ],\n",
            "         [0.11529165, 0.2603897 , 0.31921324],\n",
            "         [0.1137255 , 0.25882354, 0.31764707]]],\n",
            "\n",
            "\n",
            "       [[[0.69727445, 0.6266862 , 0.63045484],\n",
            "         [0.70180786, 0.6312196 , 0.6313726 ],\n",
            "         [0.69442356, 0.6238353 , 0.62760395],\n",
            "         ...,\n",
            "         [0.6784314 , 0.6117647 , 0.58431375],\n",
            "         [0.6784314 , 0.6117647 , 0.58431375],\n",
            "         [0.6784314 , 0.6117647 , 0.58431375]],\n",
            "\n",
            "        [[0.74433327, 0.67374504, 0.67797256],\n",
            "         [0.74509805, 0.6745098 , 0.6822    ],\n",
            "         [0.73379225, 0.66320395, 0.6710471 ],\n",
            "         ...,\n",
            "         [0.69803923, 0.627451  , 0.62352943],\n",
            "         [0.69803923, 0.627451  , 0.62352943],\n",
            "         [0.69803923, 0.627451  , 0.62352943]],\n",
            "\n",
            "        [[0.7639411 , 0.70496464, 0.7132667 ],\n",
            "         [0.7684746 , 0.7058824 , 0.7137255 ],\n",
            "         [0.75355303, 0.6945765 , 0.70241964],\n",
            "         ...,\n",
            "         [0.7058824 , 0.627451  , 0.6509804 ],\n",
            "         [0.7058824 , 0.627451  , 0.6509804 ],\n",
            "         [0.7058824 , 0.627451  , 0.6509804 ]],\n",
            "\n",
            "        ...,\n",
            "\n",
            "        [[0.855055  , 0.8119177 , 0.80422753],\n",
            "         [0.854902  , 0.8117648 , 0.80392164],\n",
            "         [0.8624393 , 0.819302  , 0.8114589 ],\n",
            "         ...,\n",
            "         [0.05882353, 0.        , 0.00392157],\n",
            "         [0.05882353, 0.        , 0.00392157],\n",
            "         [0.05882353, 0.        , 0.00392157]],\n",
            "\n",
            "        [[0.8514393 , 0.8081491 , 0.7966903 ],\n",
            "         [0.8547491 , 0.81161183, 0.7960785 ],\n",
            "         [0.8662079 , 0.82307065, 0.8073844 ],\n",
            "         ...,\n",
            "         [0.07450981, 0.00392157, 0.02352941],\n",
            "         [0.07450981, 0.00392157, 0.02352941],\n",
            "         [0.07450981, 0.00392157, 0.02352941]],\n",
            "\n",
            "        [[0.8588236 , 0.81568635, 0.80030596],\n",
            "         [0.86636084, 0.8232236 , 0.8075373 ],\n",
            "         [0.874204  , 0.8310667 , 0.81538045],\n",
            "         ...,\n",
            "         [0.10980393, 0.01960784, 0.0509804 ],\n",
            "         [0.10980393, 0.01960784, 0.0509804 ],\n",
            "         [0.10980393, 0.01960784, 0.0509804 ]]],\n",
            "\n",
            "\n",
            "       ...,\n",
            "\n",
            "\n",
            "       [[[0.54901963, 0.61960787, 0.7490196 ],\n",
            "         [0.5520625 , 0.62265074, 0.7540911 ],\n",
            "         [0.56179863, 0.63238686, 0.77065605],\n",
            "         ...,\n",
            "         [0.6666667 , 0.7176471 , 0.8980393 ],\n",
            "         [0.66565245, 0.71663284, 0.897025  ],\n",
            "         [0.6617309 , 0.7127113 , 0.8920891 ]],\n",
            "\n",
            "        [[0.50980395, 0.57254905, 0.6627451 ],\n",
            "         [0.51284677, 0.5755919 , 0.6678166 ],\n",
            "         [0.52258295, 0.58532804, 0.68539584],\n",
            "         ...,\n",
            "         [0.669574  , 0.7205544 , 0.897025  ],\n",
            "         [0.6666667 , 0.7176471 , 0.8931034 ],\n",
            "         [0.66565245, 0.71663284, 0.89019614]],\n",
            "\n",
            "        [[0.48235297, 0.5372549 , 0.5921569 ],\n",
            "         [0.48438156, 0.5392835 , 0.59722835],\n",
            "         [0.4922247 , 0.54611236, 0.6158219 ],\n",
            "         ...,\n",
            "         [0.6617309 , 0.7127113 , 0.88918185],\n",
            "         [0.65882355, 0.70980394, 0.8862746 ],\n",
            "         [0.65882355, 0.70980394, 0.8862746 ]],\n",
            "\n",
            "        ...,\n",
            "\n",
            "        [[0.36078432, 0.3921569 , 0.3019608 ],\n",
            "         [0.3638272 , 0.39519975, 0.30398938],\n",
            "         [0.37254903, 0.4039216 , 0.31081823],\n",
            "         ...,\n",
            "         [0.3647059 , 0.39607847, 0.30588236],\n",
            "         [0.36369163, 0.39506418, 0.30486807],\n",
            "         [0.35977003, 0.3911426 , 0.3009465 ]],\n",
            "\n",
            "        [[0.3529412 , 0.38431376, 0.29411766],\n",
            "         [0.35496977, 0.38634232, 0.29614624],\n",
            "         [0.3617986 , 0.3931712 , 0.3029751 ],\n",
            "         ...,\n",
            "         [0.35686275, 0.38823533, 0.29803923],\n",
            "         [0.35584846, 0.38722104, 0.29702494],\n",
            "         [0.3519269 , 0.38329947, 0.29310337]],\n",
            "\n",
            "        [[0.34509805, 0.37647063, 0.28627452],\n",
            "         [0.34712663, 0.37951347, 0.2883031 ],\n",
            "         [0.35395548, 0.38823533, 0.29513195],\n",
            "         ...,\n",
            "         [0.34509805, 0.37647063, 0.28627452],\n",
            "         [0.34509805, 0.37647063, 0.28627452],\n",
            "         [0.34306946, 0.37444204, 0.28424594]]],\n",
            "\n",
            "\n",
            "       [[[0.98823535, 0.9843138 , 0.97647065],\n",
            "         [0.98823535, 0.9843138 , 0.97647065],\n",
            "         [0.9758544 , 0.9719328 , 0.9640897 ],\n",
            "         ...,\n",
            "         [0.96553224, 0.93725497, 0.9294118 ],\n",
            "         [0.94613445, 0.9341597 , 0.9201261 ],\n",
            "         [0.93808126, 0.9333334 , 0.9176471 ]],\n",
            "\n",
            "        [[1.        , 1.        , 0.9921569 ],\n",
            "         [1.        , 1.        , 0.9921569 ],\n",
            "         [0.9907143 , 0.9876191 , 0.97977597],\n",
            "         ...,\n",
            "         [0.9733754 , 0.9450981 , 0.93725497],\n",
            "         [0.95707285, 0.9450981 , 0.9310644 ],\n",
            "         [0.95294124, 0.9450981 , 0.9294118 ]],\n",
            "\n",
            "        [[1.        , 1.        , 0.9921569 ],\n",
            "         [1.        , 1.        , 0.9921569 ],\n",
            "         [0.9938095 , 0.9907143 , 0.9828712 ],\n",
            "         ...,\n",
            "         [0.96553224, 0.93725497, 0.9294118 ],\n",
            "         [0.9616107 , 0.94035023, 0.9294118 ],\n",
            "         [0.9576891 , 0.94117653, 0.9294118 ]],\n",
            "\n",
            "        ...,\n",
            "\n",
            "        [[0.59607846, 0.6117647 , 0.62352943],\n",
            "         [0.59607846, 0.6117647 , 0.62352943],\n",
            "         [0.6053642 , 0.62414575, 0.63591045],\n",
            "         ...,\n",
            "         [0.5403502 , 0.5568628 , 0.5411765 ],\n",
            "         [0.55355746, 0.55995804, 0.5411765 ],\n",
            "         [0.55067223, 0.5545938 , 0.53498596]],\n",
            "\n",
            "        [[0.6039216 , 0.62352943, 0.6392157 ],\n",
            "         [0.6039216 , 0.62352943, 0.6392157 ],\n",
            "         [0.61320734, 0.6328152 , 0.64850146],\n",
            "         ...,\n",
            "         [0.5568628 , 0.5647059 , 0.54984593],\n",
            "         [0.5197198 , 0.5244677 , 0.50878143],\n",
            "         [0.5376612 , 0.54158276, 0.5228012 ]],\n",
            "\n",
            "        [[0.62352943, 0.6392157 , 0.654902  ],\n",
            "         [0.62352943, 0.6392157 , 0.654902  ],\n",
            "         [0.58019596, 0.59588224, 0.6115685 ],\n",
            "         ...,\n",
            "         [0.5568628 , 0.56078434, 0.54984593],\n",
            "         [0.5475771 , 0.55149865, 0.5335434 ],\n",
            "         [0.557479  , 0.56140065, 0.54179275]]],\n",
            "\n",
            "\n",
            "       [[[1.        , 1.        , 1.        ],\n",
            "         [1.        , 1.        , 1.        ],\n",
            "         [1.        , 1.        , 1.        ],\n",
            "         ...,\n",
            "         [1.        , 1.        , 1.        ],\n",
            "         [1.        , 1.        , 1.        ],\n",
            "         [1.        , 1.        , 1.        ]],\n",
            "\n",
            "        [[0.9960785 , 0.9960785 , 0.9960785 ],\n",
            "         [0.9960785 , 0.9960785 , 0.9960785 ],\n",
            "         [0.9960785 , 0.9960785 , 0.9960785 ],\n",
            "         ...,\n",
            "         [1.        , 1.        , 1.        ],\n",
            "         [1.        , 1.        , 1.        ],\n",
            "         [1.        , 1.        , 1.        ]],\n",
            "\n",
            "        [[1.        , 1.        , 1.        ],\n",
            "         [1.        , 1.        , 1.        ],\n",
            "         [1.        , 1.        , 1.        ],\n",
            "         ...,\n",
            "         [1.        , 1.        , 1.        ],\n",
            "         [1.        , 1.        , 1.        ],\n",
            "         [1.        , 1.        , 1.        ]],\n",
            "\n",
            "        ...,\n",
            "\n",
            "        [[0.2599904 , 0.25283593, 0.27037776],\n",
            "         [0.24568148, 0.24175991, 0.2482257 ],\n",
            "         [0.24059306, 0.23460545, 0.23529413],\n",
            "         ...,\n",
            "         [0.31764707, 0.42352945, 0.5529412 ],\n",
            "         [0.31764707, 0.42352945, 0.5529412 ],\n",
            "         [0.31764707, 0.42352945, 0.5529412 ]],\n",
            "\n",
            "        [[0.26136777, 0.26460063, 0.30312765],\n",
            "         [0.2535246 , 0.25283593, 0.28606406],\n",
            "         [0.24705884, 0.24244858, 0.26460063],\n",
            "         ...,\n",
            "         [0.30588236, 0.40784317, 0.5372549 ],\n",
            "         [0.30588236, 0.40784317, 0.5372549 ],\n",
            "         [0.30588236, 0.40784317, 0.5372549 ]],\n",
            "\n",
            "        [[0.2627451 , 0.27705404, 0.3351889 ],\n",
            "         [0.26136777, 0.26783353, 0.32135817],\n",
            "         [0.2542133 , 0.25283593, 0.29714006],\n",
            "         ...,\n",
            "         [0.28235295, 0.36862746, 0.48235297],\n",
            "         [0.28235295, 0.36862746, 0.48235297],\n",
            "         [0.28235295, 0.36862746, 0.48235297]]]], dtype=float32)>, <tf.Tensor: id=699, shape=(32, 1), dtype=int32, numpy=\n",
            "array([[3],\n",
            "       [3],\n",
            "       [6],\n",
            "       [1],\n",
            "       [2],\n",
            "       [0],\n",
            "       [1],\n",
            "       [6],\n",
            "       [2],\n",
            "       [1],\n",
            "       [6],\n",
            "       [6],\n",
            "       [3],\n",
            "       [5],\n",
            "       [9],\n",
            "       [6],\n",
            "       [4],\n",
            "       [7],\n",
            "       [9],\n",
            "       [6],\n",
            "       [4],\n",
            "       [2],\n",
            "       [8],\n",
            "       [4],\n",
            "       [1],\n",
            "       [5],\n",
            "       [6],\n",
            "       [5],\n",
            "       [2],\n",
            "       [2],\n",
            "       [8],\n",
            "       [9]], dtype=int32)>)\n",
            "(<tf.Tensor: id=700, shape=(32, 32, 32, 3), dtype=float32, numpy=\n",
            "array([[[[0.5983517 , 0.63086325, 0.6602125 ],\n",
            "         [0.50486845, 0.54876494, 0.59810174],\n",
            "         [0.45540664, 0.50752604, 0.57925326],\n",
            "         ...,\n",
            "         [0.6117647 , 0.627451  , 0.654902  ],\n",
            "         [0.6117647 , 0.627451  , 0.654902  ],\n",
            "         [0.6117647 , 0.627451  , 0.654902  ]],\n",
            "\n",
            "        [[0.70651203, 0.7115726 , 0.71385056],\n",
            "         [0.63124293, 0.6473089 , 0.6734959 ],\n",
            "         [0.5492696 , 0.5711554 , 0.6221358 ],\n",
            "         ...,\n",
            "         [0.5294118 , 0.57254905, 0.62352943],\n",
            "         [0.5294118 , 0.57254905, 0.62352943],\n",
            "         [0.5294118 , 0.57254905, 0.62352943]],\n",
            "\n",
            "        [[0.74282014, 0.7239716 , 0.71056324],\n",
            "         [0.7177721 , 0.70676666, 0.71650815],\n",
            "         [0.6751395 , 0.6738755 , 0.70208585],\n",
            "         ...,\n",
            "         [0.4666667 , 0.53333336, 0.6039216 ],\n",
            "         [0.4666667 , 0.53333336, 0.6039216 ],\n",
            "         [0.4666667 , 0.53333336, 0.6039216 ]],\n",
            "\n",
            "        ...,\n",
            "\n",
            "        [[0.5796329 , 0.54433876, 0.55610347],\n",
            "         [0.5763456 , 0.5410515 , 0.55243653],\n",
            "         [0.6106258 , 0.5753317 , 0.58431375],\n",
            "         ...,\n",
            "         [0.61960787, 0.5803922 , 0.6117647 ],\n",
            "         [0.61960787, 0.5803922 , 0.6117647 ],\n",
            "         [0.61960787, 0.5803922 , 0.6117647 ]],\n",
            "\n",
            "        [[0.6156863 , 0.5803922 , 0.5921569 ],\n",
            "         [0.6156863 , 0.5803922 , 0.5921569 ],\n",
            "         [0.613788  , 0.5784939 , 0.59101796],\n",
            "         ...,\n",
            "         [0.6156863 , 0.5764706 , 0.60784316],\n",
            "         [0.6156863 , 0.5764706 , 0.60784316],\n",
            "         [0.6156863 , 0.5764706 , 0.60784316]],\n",
            "\n",
            "        [[0.6168253 , 0.5811515 , 0.6007593 ],\n",
            "         [0.6263121 , 0.5870964 , 0.60708386],\n",
            "         [0.6145474 , 0.5753317 , 0.5988611 ],\n",
            "         ...,\n",
            "         [0.6117647 , 0.57254905, 0.6039216 ],\n",
            "         [0.6117647 , 0.57254905, 0.6039216 ],\n",
            "         [0.6117647 , 0.57254905, 0.6039216 ]]],\n",
            "\n",
            "\n",
            "       [[[0.84192735, 0.9085941 , 0.9399666 ],\n",
            "         [0.83921576, 0.9058824 , 0.93725497],\n",
            "         [0.83921576, 0.9058824 , 0.93725497],\n",
            "         ...,\n",
            "         [0.82745105, 0.90196085, 0.9294118 ],\n",
            "         [0.82745105, 0.90196085, 0.9294118 ],\n",
            "         [0.82745105, 0.90196085, 0.9294118 ]],\n",
            "\n",
            "        [[0.84192735, 0.9085941 , 0.9399666 ],\n",
            "         [0.83921576, 0.9058824 , 0.93725497],\n",
            "         [0.83921576, 0.9058824 , 0.93725497],\n",
            "         ...,\n",
            "         [0.82745105, 0.90196085, 0.9294118 ],\n",
            "         [0.82745105, 0.90196085, 0.9294118 ],\n",
            "         [0.82745105, 0.90196085, 0.9294118 ]],\n",
            "\n",
            "        [[0.84192735, 0.9085941 , 0.9399666 ],\n",
            "         [0.83921576, 0.9058824 , 0.93725497],\n",
            "         [0.83921576, 0.9058824 , 0.93725497],\n",
            "         ...,\n",
            "         [0.8313726 , 0.9058824 , 0.9333334 ],\n",
            "         [0.8313726 , 0.9058824 , 0.9333334 ],\n",
            "         [0.8313726 , 0.9058824 , 0.9333334 ]],\n",
            "\n",
            "        ...,\n",
            "\n",
            "        [[0.86274517, 0.9294118 , 0.9568628 ],\n",
            "         [0.86274517, 0.9294118 , 0.9568628 ],\n",
            "         [0.86274517, 0.9294118 , 0.9568628 ],\n",
            "         ...,\n",
            "         [0.85098046, 0.9176471 , 0.9450981 ],\n",
            "         [0.85098046, 0.9176471 , 0.9450981 ],\n",
            "         [0.85098046, 0.9176471 , 0.9450981 ]],\n",
            "\n",
            "        [[0.86666673, 0.9333334 , 0.9607844 ],\n",
            "         [0.86666673, 0.9333334 , 0.9607844 ],\n",
            "         [0.86666673, 0.9333334 , 0.9607844 ],\n",
            "         ...,\n",
            "         [0.8470589 , 0.91372555, 0.94117653],\n",
            "         [0.8470589 , 0.91372555, 0.94117653],\n",
            "         [0.8470589 , 0.91372555, 0.94117653]],\n",
            "\n",
            "        [[0.86787665, 0.9333334 , 0.9607844 ],\n",
            "         [0.8705883 , 0.9333334 , 0.9607844 ],\n",
            "         [0.8705883 , 0.9333334 , 0.9607844 ],\n",
            "         ...,\n",
            "         [0.8470589 , 0.91372555, 0.94117653],\n",
            "         [0.8470589 , 0.91372555, 0.94117653],\n",
            "         [0.8470589 , 0.91372555, 0.94117653]]],\n",
            "\n",
            "\n",
            "       [[[0.02745098, 0.03137255, 0.03137255],\n",
            "         [0.02745098, 0.03137255, 0.03137255],\n",
            "         [0.02745098, 0.02863907, 0.02863907],\n",
            "         ...,\n",
            "         [0.25454468, 0.20356429, 0.18003488],\n",
            "         [0.24277997, 0.19179958, 0.16827017],\n",
            "         [0.22008136, 0.16910096, 0.14557154]],\n",
            "\n",
            "        [[0.02352941, 0.03529412, 0.01960784],\n",
            "         [0.02352941, 0.03529412, 0.01960784],\n",
            "         [0.02899637, 0.02982716, 0.01960784],\n",
            "         ...,\n",
            "         [0.24551345, 0.19453305, 0.16981556],\n",
            "         [0.23493683, 0.18395644, 0.16042703],\n",
            "         [0.22043866, 0.16945826, 0.14592884]],\n",
            "\n",
            "        [[0.13725491, 0.12156864, 0.10196079],\n",
            "         [0.13725491, 0.12156864, 0.10196079],\n",
            "         [0.1509223 , 0.13250254, 0.11562818],\n",
            "         ...,\n",
            "         [0.23137257, 0.18039216, 0.15567467],\n",
            "         [0.23410603, 0.18312564, 0.15959623],\n",
            "         [0.23529413, 0.18431373, 0.16078432]],\n",
            "\n",
            "        ...,\n",
            "\n",
            "        [[0.6392157 , 0.58431375, 0.5019608 ],\n",
            "         [0.6392157 , 0.58431375, 0.5019608 ],\n",
            "         [0.63648224, 0.5679129 , 0.480093  ],\n",
            "         ...,\n",
            "         [0.34901962, 0.29803923, 0.2627451 ],\n",
            "         [0.3408192 , 0.2898388 , 0.25454468],\n",
            "         [0.34272188, 0.2917415 , 0.25644737]],\n",
            "\n",
            "        [[0.7058824 , 0.64705884, 0.5882353 ],\n",
            "         [0.7058824 , 0.64705884, 0.5882353 ],\n",
            "         [0.7250167 , 0.66072625, 0.58550185],\n",
            "         ...,\n",
            "         [0.38276836, 0.33452144, 0.2913842 ],\n",
            "         [0.36399132, 0.3169325 , 0.27106175],\n",
            "         [0.35686275, 0.30707046, 0.2627451 ]],\n",
            "\n",
            "        [[0.76470596, 0.6901961 , 0.64705884],\n",
            "         [0.76470596, 0.6901961 , 0.64705884],\n",
            "         [0.73737115, 0.6683283 , 0.60879016],\n",
            "         ...,\n",
            "         [0.4141409 , 0.36316052, 0.30825856],\n",
            "         [0.40903124, 0.36078432, 0.30588236],\n",
            "         [0.39964274, 0.35258391, 0.29768193]]],\n",
            "\n",
            "\n",
            "       ...,\n",
            "\n",
            "\n",
            "       [[[0.87660533, 0.87268376, 0.8569975 ],\n",
            "         [0.87268376, 0.8687622 , 0.854902  ],\n",
            "         [0.8705883 , 0.86666673, 0.8530759 ],\n",
            "         ...,\n",
            "         [0.8000001 , 0.7843138 , 0.7960785 ],\n",
            "         [0.8000001 , 0.7843138 , 0.7960785 ],\n",
            "         [0.8000001 , 0.7843138 , 0.7960785 ]],\n",
            "\n",
            "        [[0.87660533, 0.8687622 , 0.8648406 ],\n",
            "         [0.87268376, 0.86666673, 0.86274517],\n",
            "         [0.8687622 , 0.8630145 , 0.85909295],\n",
            "         ...,\n",
            "         [0.8000001 , 0.79215693, 0.8078432 ],\n",
            "         [0.8000001 , 0.79215693, 0.8078432 ],\n",
            "         [0.8000001 , 0.79215693, 0.8078432 ]],\n",
            "\n",
            "        [[0.8648406 , 0.8569975 , 0.86091906],\n",
            "         [0.86091906, 0.8530759 , 0.8569975 ],\n",
            "         [0.8569975 , 0.84915435, 0.8530759 ],\n",
            "         ...,\n",
            "         [0.7568628 , 0.75294125, 0.77647066],\n",
            "         [0.7568628 , 0.75294125, 0.77647066],\n",
            "         [0.7568628 , 0.75294125, 0.77647066]],\n",
            "\n",
            "        ...,\n",
            "\n",
            "        [[0.3168986 , 0.38539138, 0.422781  ],\n",
            "         [0.29073492, 0.35949707, 0.39661726],\n",
            "         [0.28417903, 0.35084572, 0.3900614 ],\n",
            "         ...,\n",
            "         [0.23137257, 0.30980393, 0.3529412 ],\n",
            "         [0.23137257, 0.30980393, 0.3529412 ],\n",
            "         [0.23137257, 0.30980393, 0.3529412 ]],\n",
            "\n",
            "        [[0.2787008 , 0.34928906, 0.39425236],\n",
            "         [0.27450982, 0.34509805, 0.3921569 ],\n",
            "         [0.28181416, 0.3524024 , 0.39763513],\n",
            "         ...,\n",
            "         [0.22352943, 0.29803923, 0.32941177],\n",
            "         [0.22352943, 0.29803923, 0.32941177],\n",
            "         [0.22352943, 0.29803923, 0.32941177]],\n",
            "\n",
            "        [[0.27058825, 0.34117648, 0.38431376],\n",
            "         [0.26511002, 0.33569825, 0.3788355 ],\n",
            "         [0.26612785, 0.33671612, 0.37985337],\n",
            "         ...,\n",
            "         [0.227451  , 0.2901961 , 0.32156864],\n",
            "         [0.227451  , 0.2901961 , 0.32156864],\n",
            "         [0.227451  , 0.2901961 , 0.32156864]]],\n",
            "\n",
            "\n",
            "       [[[0.427451  , 0.40000004, 0.38431376],\n",
            "         [0.427451  , 0.40000004, 0.38431376],\n",
            "         [0.39157972, 0.3461931 , 0.3260229 ],\n",
            "         ...,\n",
            "         [0.44705886, 0.40055496, 0.31932667],\n",
            "         [0.44930083, 0.3921569 , 0.32213098],\n",
            "         [0.46667412, 0.40336666, 0.3299741 ]],\n",
            "\n",
            "        [[0.23529413, 0.17254902, 0.15686275],\n",
            "         [0.23529413, 0.17254902, 0.15686275],\n",
            "         [0.18148719, 0.10529036, 0.08287822],\n",
            "         ...,\n",
            "         [0.27618942, 0.21343692, 0.06834628],\n",
            "         [0.2767518 , 0.20000002, 0.07339253],\n",
            "         [0.29412508, 0.21120979, 0.08515725]],\n",
            "\n",
            "        [[0.28235295, 0.20392159, 0.1764706 ],\n",
            "         [0.28235295, 0.20392159, 0.1764706 ],\n",
            "         [0.23527189, 0.14114682, 0.10921193],\n",
            "         ...,\n",
            "         [0.33333334, 0.24929339, 0.1254902 ],\n",
            "         [0.32884946, 0.23248984, 0.12997411],\n",
            "         [0.3367    , 0.23417686, 0.1355753 ]],\n",
            "\n",
            "        ...,\n",
            "\n",
            "        [[0.54509807, 0.3529412 , 0.2509804 ],\n",
            "         [0.54509807, 0.3529412 , 0.2509804 ],\n",
            "         [0.5338883 , 0.3215538 , 0.20614131],\n",
            "         ...,\n",
            "         [0.8711507 , 0.7176471 , 0.5019608 ],\n",
            "         [0.87675184, 0.722131  , 0.5086867 ],\n",
            "         [0.87170553, 0.7367    , 0.5047577 ]],\n",
            "\n",
            "        [[0.5568628 , 0.35686275, 0.26666668],\n",
            "         [0.5568628 , 0.35686275, 0.26666668],\n",
            "         [0.5209915 , 0.3052978 , 0.20613389],\n",
            "         ...,\n",
            "         [0.8717129 , 0.7159675 , 0.4638698 ],\n",
            "         [0.87843144, 0.71988904, 0.4930078 ],\n",
            "         [0.8739475 , 0.73053646, 0.507562  ]],\n",
            "\n",
            "        [[0.50980395, 0.32941177, 0.25490198],\n",
            "         [0.50980395, 0.32941177, 0.25490198],\n",
            "         [0.4829005 , 0.29578245, 0.21678874],\n",
            "         ...,\n",
            "         [0.8481835 , 0.7103663 , 0.5008435 ],\n",
            "         [0.854902  , 0.7159675 , 0.5283019 ],\n",
            "         [0.85266006, 0.7266149 , 0.54509807]]],\n",
            "\n",
            "\n",
            "       [[[0.03137255, 0.10588236, 0.10980393],\n",
            "         [0.03137255, 0.10540269, 0.10884461],\n",
            "         [0.03137255, 0.10100147, 0.10100147],\n",
            "         ...,\n",
            "         [0.07394588, 0.18422946, 0.16462162],\n",
            "         [0.09468158, 0.20648843, 0.18736024],\n",
            "         [0.07058824, 0.16622916, 0.15150219]],\n",
            "\n",
            "        [[0.03137255, 0.09803922, 0.10588236],\n",
            "         [0.03377086, 0.09851889, 0.10732134],\n",
            "         [0.06057365, 0.11251336, 0.1286793 ],\n",
            "         ...,\n",
            "         [0.08475126, 0.19847675, 0.1788689 ],\n",
            "         [0.09812349, 0.20993035, 0.19080214],\n",
            "         [0.07202723, 0.16766813, 0.15246151]],\n",
            "\n",
            "        [[0.02352941, 0.08235294, 0.09411766],\n",
            "         [0.0288057 , 0.08619025, 0.10035327],\n",
            "         [0.08489385, 0.13626964, 0.16716252],\n",
            "         ...,\n",
            "         [0.07106791, 0.18527307, 0.16518556],\n",
            "         [0.07403015, 0.1892789 , 0.16670881],\n",
            "         [0.07154756, 0.16718847, 0.15246151]],\n",
            "\n",
            "        ...,\n",
            "\n",
            "        [[0.76470596, 0.79215693, 0.7843138 ],\n",
            "         [0.7579906 , 0.78400266, 0.7766392 ],\n",
            "         [0.70212936, 0.715897  , 0.7124551 ],\n",
            "         ...,\n",
            "         [0.22694539, 0.2515184 , 0.2417566 ],\n",
            "         [0.41757903, 0.41910225, 0.39461353],\n",
            "         [0.5995204 , 0.58191544, 0.5510225 ]],\n",
            "\n",
            "        [[0.7607844 , 0.7843138 , 0.7803922 ],\n",
            "         [0.7588657 , 0.7814358 , 0.77799386],\n",
            "         [0.74509805, 0.75982505, 0.7603047 ],\n",
            "         ...,\n",
            "         [0.17573813, 0.23608492, 0.2714633 ],\n",
            "         [0.27456814, 0.31434777, 0.31979257],\n",
            "         [0.4281575 , 0.44048616, 0.42920113]],\n",
            "\n",
            "        [[0.8078432 , 0.8235295 , 0.8352942 ],\n",
            "         [0.8073635 , 0.8230498 , 0.83433485],\n",
            "         [0.8044013 , 0.8196079 , 0.8279307 ],\n",
            "         ...,\n",
            "         [0.29795495, 0.3979971 , 0.42008755],\n",
            "         [0.33748177, 0.41848   , 0.42976505],\n",
            "         [0.438399  , 0.47482097, 0.48218444]]]], dtype=float32)>, <tf.Tensor: id=701, shape=(32, 1), dtype=int32, numpy=\n",
            "array([[0],\n",
            "       [0],\n",
            "       [2],\n",
            "       [8],\n",
            "       [0],\n",
            "       [1],\n",
            "       [9],\n",
            "       [0],\n",
            "       [0],\n",
            "       [3],\n",
            "       [4],\n",
            "       [0],\n",
            "       [4],\n",
            "       [2],\n",
            "       [0],\n",
            "       [2],\n",
            "       [2],\n",
            "       [1],\n",
            "       [7],\n",
            "       [5],\n",
            "       [5],\n",
            "       [3],\n",
            "       [7],\n",
            "       [7],\n",
            "       [1],\n",
            "       [7],\n",
            "       [2],\n",
            "       [6],\n",
            "       [4],\n",
            "       [8],\n",
            "       [4],\n",
            "       [1]], dtype=int32)>)\n"
          ],
          "name": "stdout"
        }
      ]
    },
    {
      "cell_type": "code",
      "metadata": {
        "id": "Za9ynOokhaF5",
        "outputId": "f2c08c5c-fa84-4bfe-dbd6-72b366a61f18"
      },
      "source": [
        "# Load the MNIST dataset\n",
        "\n",
        "(train_features, train_labels), (test_features, test_labels) = \\\n",
        "    tf.keras.datasets.mnist.load_data()\n",
        "\n",
        "print(type(train_features), type(train_labels))"
      ],
      "execution_count": null,
      "outputs": [
        {
          "output_type": "stream",
          "text": [
            "Downloading data from https://storage.googleapis.com/tensorflow/tf-keras-datasets/mnist.npz\n",
            "11493376/11490434 [==============================] - 0s 0us/step\n",
            "<class 'numpy.ndarray'> <class 'numpy.ndarray'>\n"
          ],
          "name": "stdout"
        }
      ]
    },
    {
      "cell_type": "code",
      "metadata": {
        "id": "38iTcPe_haF6"
      },
      "source": [
        "# Create a Dataset from the MNIST data\n",
        "\n",
        "mnist_dataset = tf.data.Dataset.from_tensor_slices(\n",
        "    (train_features, train_labels))"
      ],
      "execution_count": null,
      "outputs": []
    },
    {
      "cell_type": "code",
      "metadata": {
        "id": "wG5zUdlNhaF7",
        "outputId": "1a951724-9e46-471b-e7ae-57804d627685"
      },
      "source": [
        "# Inspect the Dataset object\n",
        "\n",
        "print(mnist_dataset.element_spec)"
      ],
      "execution_count": null,
      "outputs": [
        {
          "output_type": "stream",
          "text": [
            "(TensorSpec(shape=(28, 28), dtype=tf.uint8, name=None), TensorSpec(shape=(), dtype=tf.uint8, name=None))\n"
          ],
          "name": "stdout"
        }
      ]
    },
    {
      "cell_type": "code",
      "metadata": {
        "id": "fyzdKnHOhaF-",
        "outputId": "3efea48d-7d0d-493a-8cab-7e78aac1470c"
      },
      "source": [
        "# Inspect the length of an element using the take method\n",
        "\n",
        "element = next(iter(mnist_dataset.take(1)))\n",
        "print(len(element))"
      ],
      "execution_count": null,
      "outputs": [
        {
          "output_type": "stream",
          "text": [
            "2\n"
          ],
          "name": "stdout"
        }
      ]
    },
    {
      "cell_type": "code",
      "metadata": {
        "id": "e9RXjXFghaF_",
        "outputId": "9f50a150-ee2e-4dbd-dd7a-85177aafc806"
      },
      "source": [
        "# Examine the shapes of the data\n",
        "\n",
        "print(element[0].shape)\n",
        "print(element[1].shape)"
      ],
      "execution_count": null,
      "outputs": [
        {
          "output_type": "stream",
          "text": [
            "(28, 28)\n",
            "()\n"
          ],
          "name": "stdout"
        }
      ]
    },
    {
      "cell_type": "markdown",
      "metadata": {
        "id": "SzJe1CIvhaGB"
      },
      "source": [
        "#### Create a dataset from text data"
      ]
    },
    {
      "cell_type": "markdown",
      "metadata": {
        "id": "mW20P2KVhMsU"
      },
      "source": [
        "#### Import the data\n",
        "\n",
        "The dataset required for this tutorial can be downloaded from the following link:\n",
        "\n",
        "https://drive.google.com/open?id=1BAjGPFlpqsDdWof50Ng3Fmju5O8F1_uZ\n",
        "\n",
        "You should store these files for use in this Colab notebook."
      ]
    },
    {
      "cell_type": "code",
      "metadata": {
        "id": "8zSGZUSrh1Y5"
      },
      "source": [
        "data_dir = \"./data/shakespeare/\"\n",
        "if not os.path.exists(data_dir):\n",
        "    os.makedirs(data_dir)"
      ],
      "execution_count": 57,
      "outputs": []
    },
    {
      "cell_type": "code",
      "metadata": {
        "id": "LDKKcm0Wh1ZE",
        "outputId": "13bbb666-945a-4597-e485-893ebc852867",
        "colab": {
          "base_uri": "https://localhost:8080/"
        }
      },
      "source": [
        "%%bash\n",
        "\n",
        "fileid=\"1BAjGPFlpqsDdWof50Ng3Fmju5O8F1_uZ\"\n",
        "filename=\"./data/shakespeare/\"\n",
        "curl -c ./cookie -s -L \"https://drive.google.com/uc?export=download&id=${fileid}\" > /dev/null\n",
        "curl -Lb ./cookie \"https://drive.google.com/uc?export=download&confirm=`awk '/download/ {print $NF}' ./cookie`&id=${fileid}\" -o ${filename}\n",
        "\n",
        "# unzip -qq ./data/shakespeare.zip -d ./data\n",
        "# rm -rf ./cookie ./data/shakespeare.zip"
      ],
      "execution_count": 58,
      "outputs": [
        {
          "output_type": "stream",
          "text": [
            "  % Total    % Received % Xferd  Average Speed   Time    Time     Time  Current\n",
            "                                 Dload  Upload   Total   Spent    Left  Speed\n",
            "\r  0     0    0     0    0     0      0      0 --:--:-- --:--:-- --:--:--     0Warning: Failed to create the file ./data/shakespeare/: Is a directory\n",
            "\r100   141    0   141    0     0    552      0 --:--:-- --:--:-- --:--:--   552\n",
            "curl: (23) Failed writing body (0 != 141)\n"
          ],
          "name": "stderr"
        }
      ]
    },
    {
      "cell_type": "code",
      "metadata": {
        "id": "EKK73IjhhaGB",
        "outputId": "92028759-bac9-452a-d6e8-af20f1b54149"
      },
      "source": [
        "# Print the list of text files\n",
        "\n",
        "text_files = sorted([f.path for f in os.scandir('data/shakespeare')])\n",
        "\n",
        "print(text_files)"
      ],
      "execution_count": null,
      "outputs": [
        {
          "output_type": "stream",
          "text": [
            "['data/shakespeare/tempest.1.1.txt', 'data/shakespeare/tempest.1.2.txt', 'data/shakespeare/tempest.2.1.txt', 'data/shakespeare/tempest.2.2.txt', 'data/shakespeare/tempest.3.1.txt', 'data/shakespeare/tempest.3.2.txt', 'data/shakespeare/tempest.3.3.txt', 'data/shakespeare/tempest.4.1.txt', 'data/shakespeare/tempest.5.1.txt']\n"
          ],
          "name": "stdout"
        }
      ]
    },
    {
      "cell_type": "code",
      "metadata": {
        "id": "56Jwc9dEhaGD",
        "outputId": "34d05604-5b9e-4c74-d41e-954bb3d66d58"
      },
      "source": [
        "# Load the first file using python and print the first 5 lines.\n",
        "\n",
        "with open(text_files[0], 'r') as fil:\n",
        "    contents = [fil.readline() for i in range(5)]\n",
        "    for line in contents:\n",
        "        print(line)"
      ],
      "execution_count": null,
      "outputs": [
        {
          "output_type": "stream",
          "text": [
            "SCENE I. On a ship at sea: a tempestuous noise\n",
            "\n",
            "of thunder and lightning heard.\n",
            "\n",
            "Enter a Master and a Boatswain\n",
            "\n",
            "\n",
            "\n",
            "Master\n",
            "\n"
          ],
          "name": "stdout"
        }
      ]
    },
    {
      "cell_type": "code",
      "metadata": {
        "id": "tZkNIUYnhaGE"
      },
      "source": [
        "# Load the lines from the files into a dataset using TextLineDataset\n",
        "\n",
        "shakespeare_dataset = tf.data.TextLineDataset(text_files)"
      ],
      "execution_count": null,
      "outputs": []
    },
    {
      "cell_type": "code",
      "metadata": {
        "id": "DbK2AV4WhaGG",
        "outputId": "5a8705d2-5764-43ec-ba13-684a87097d6f"
      },
      "source": [
        "# Use the take method to get and print the first 5 lines of the dataset\n",
        "\n",
        "first_5_lines_dataset = iter(shakespeare_dataset.take(5))\n",
        "lines = [line for line in first_5_lines_dataset]\n",
        "for line in lines:\n",
        "    print(line)"
      ],
      "execution_count": null,
      "outputs": [
        {
          "output_type": "stream",
          "text": [
            "tf.Tensor(b'SCENE I. On a ship at sea: a tempestuous noise', shape=(), dtype=string)\n",
            "tf.Tensor(b'of thunder and lightning heard.', shape=(), dtype=string)\n",
            "tf.Tensor(b'Enter a Master and a Boatswain', shape=(), dtype=string)\n",
            "tf.Tensor(b'', shape=(), dtype=string)\n",
            "tf.Tensor(b'Master', shape=(), dtype=string)\n"
          ],
          "name": "stdout"
        }
      ]
    },
    {
      "cell_type": "code",
      "metadata": {
        "id": "Dxr_d64jhaGH",
        "outputId": "ea1985ec-8678-4958-8a2a-6cb453a3c78c"
      },
      "source": [
        "# Compute the number of lines in the first file\n",
        "\n",
        "lines = []\n",
        "with open(text_files[0], 'r') as fil:\n",
        "    line = fil.readline()\n",
        "    while line:\n",
        "        lines.append(line)\n",
        "        line = fil.readline()\n",
        "    print(len(lines))"
      ],
      "execution_count": null,
      "outputs": [
        {
          "output_type": "stream",
          "text": [
            "121\n"
          ],
          "name": "stdout"
        }
      ]
    },
    {
      "cell_type": "code",
      "metadata": {
        "id": "4xj3mOiUhaGJ",
        "outputId": "9e47c907-403b-47aa-d8cb-8853e63e32c0"
      },
      "source": [
        "# Compute the number of lines in the shakespeare dataset we created\n",
        "\n",
        "shakespeare_dataset_iterator = iter(shakespeare_dataset)\n",
        "lines = [line for line in shakespeare_dataset_iterator]\n",
        "print(len(lines))"
      ],
      "execution_count": null,
      "outputs": [
        {
          "output_type": "stream",
          "text": [
            "3134\n"
          ],
          "name": "stdout"
        }
      ]
    },
    {
      "cell_type": "markdown",
      "metadata": {
        "id": "lrXEQqa3haGK"
      },
      "source": [
        "#### Interleave lines from the text data files"
      ]
    },
    {
      "cell_type": "code",
      "metadata": {
        "scrolled": true,
        "id": "Xv7HQG9_haGK",
        "outputId": "cd5c4fd5-da00-45e3-d8b8-966b103d4ef2"
      },
      "source": [
        "# Create a dataset of the text file strings\n",
        "\n",
        "text_files_dataset = tf.data.Dataset.from_tensor_slices(text_files)\n",
        "files = [file for file in text_files_dataset]\n",
        "for file in files:\n",
        "    print(file)"
      ],
      "execution_count": null,
      "outputs": [
        {
          "output_type": "stream",
          "text": [
            "tf.Tensor(b'data/shakespeare/tempest.1.1.txt', shape=(), dtype=string)\n",
            "tf.Tensor(b'data/shakespeare/tempest.1.2.txt', shape=(), dtype=string)\n",
            "tf.Tensor(b'data/shakespeare/tempest.2.1.txt', shape=(), dtype=string)\n",
            "tf.Tensor(b'data/shakespeare/tempest.2.2.txt', shape=(), dtype=string)\n",
            "tf.Tensor(b'data/shakespeare/tempest.3.1.txt', shape=(), dtype=string)\n",
            "tf.Tensor(b'data/shakespeare/tempest.3.2.txt', shape=(), dtype=string)\n",
            "tf.Tensor(b'data/shakespeare/tempest.3.3.txt', shape=(), dtype=string)\n",
            "tf.Tensor(b'data/shakespeare/tempest.4.1.txt', shape=(), dtype=string)\n",
            "tf.Tensor(b'data/shakespeare/tempest.5.1.txt', shape=(), dtype=string)\n"
          ],
          "name": "stdout"
        }
      ]
    },
    {
      "cell_type": "code",
      "metadata": {
        "id": "rXEK2VNQhaGM",
        "outputId": "7fb559ac-3644-4b0b-a9c6-63c7842ae521"
      },
      "source": [
        "# Interleave the lines from the text files\n",
        "\n",
        "interleaved_shakespeare_dataset = text_files_dataset.interleave(\n",
        "    tf.data.TextLineDataset, cycle_length=9)\n",
        "print(interleaved_shakespeare_dataset.element_spec)"
      ],
      "execution_count": null,
      "outputs": [
        {
          "output_type": "stream",
          "text": [
            "TensorSpec(shape=(), dtype=tf.string, name=None)\n"
          ],
          "name": "stdout"
        }
      ]
    },
    {
      "cell_type": "code",
      "metadata": {
        "id": "ywdbkvVJhaGO",
        "outputId": "f4ea5917-1d8d-4bb1-a2b2-c91fe059286c"
      },
      "source": [
        "# Print the first 10 elements of the interleaved dataset\n",
        "\n",
        "lines = [line for line in iter(interleaved_shakespeare_dataset.take(10))]\n",
        "for line in lines:\n",
        "    print(line)"
      ],
      "execution_count": null,
      "outputs": [
        {
          "output_type": "stream",
          "text": [
            "tf.Tensor(b'SCENE I. On a ship at sea: a tempestuous noise', shape=(), dtype=string)\n",
            "tf.Tensor(b\"SCENE II. The island. Before PROSPERO'S cell.\", shape=(), dtype=string)\n",
            "tf.Tensor(b'SCENE I. Another part of the island.', shape=(), dtype=string)\n",
            "tf.Tensor(b'SCENE II. Another part of the island.', shape=(), dtype=string)\n",
            "tf.Tensor(b\"SCENE I. Before PROSPERO'S Cell.\", shape=(), dtype=string)\n",
            "tf.Tensor(b'SCENE II. Another part of the island.', shape=(), dtype=string)\n",
            "tf.Tensor(b'SCENE III. Another part of the island.', shape=(), dtype=string)\n",
            "tf.Tensor(b\"SCENE I. Before PROSPERO'S cell.\", shape=(), dtype=string)\n",
            "tf.Tensor(b\"SCENE I. Before PROSPERO'S cell.\", shape=(), dtype=string)\n",
            "tf.Tensor(b'of thunder and lightning heard.', shape=(), dtype=string)\n"
          ],
          "name": "stdout"
        }
      ]
    },
    {
      "cell_type": "markdown",
      "metadata": {
        "id": "c5CRpW_whaGQ"
      },
      "source": [
        "***\n",
        "<a id=\"coding_tutorial_5\"></a>\n",
        "## Training with Datasets"
      ]
    },
    {
      "cell_type": "code",
      "metadata": {
        "id": "KGob3se4haGQ"
      },
      "source": [
        "%matplotlib inline\n",
        "import matplotlib.pyplot as plt\n",
        "import numpy as np\n",
        "import os\n",
        "import pandas as pd"
      ],
      "execution_count": null,
      "outputs": []
    },
    {
      "cell_type": "markdown",
      "metadata": {
        "id": "sImBVH74haGR"
      },
      "source": [
        "#### Load the UCI Bank Marketing Dataset"
      ]
    },
    {
      "cell_type": "code",
      "metadata": {
        "id": "cRt2GoekhaGS"
      },
      "source": [
        "# Load the CSV file into a pandas DataFrame\n",
        "\n",
        "bank_dataframe = pd.read_csv('data/bank/bank-full.csv', delimiter=';')"
      ],
      "execution_count": null,
      "outputs": []
    },
    {
      "cell_type": "code",
      "metadata": {
        "scrolled": true,
        "id": "OKUSID04haGT",
        "outputId": "494446bf-45ff-44a9-ab8d-2fa36958a6a5"
      },
      "source": [
        "# Show the head of the DataFrame\n",
        "\n",
        "bank_dataframe.head()"
      ],
      "execution_count": null,
      "outputs": [
        {
          "output_type": "execute_result",
          "data": {
            "text/html": [
              "<div>\n",
              "<style scoped>\n",
              "    .dataframe tbody tr th:only-of-type {\n",
              "        vertical-align: middle;\n",
              "    }\n",
              "\n",
              "    .dataframe tbody tr th {\n",
              "        vertical-align: top;\n",
              "    }\n",
              "\n",
              "    .dataframe thead th {\n",
              "        text-align: right;\n",
              "    }\n",
              "</style>\n",
              "<table border=\"1\" class=\"dataframe\">\n",
              "  <thead>\n",
              "    <tr style=\"text-align: right;\">\n",
              "      <th></th>\n",
              "      <th>age</th>\n",
              "      <th>job</th>\n",
              "      <th>marital</th>\n",
              "      <th>education</th>\n",
              "      <th>default</th>\n",
              "      <th>balance</th>\n",
              "      <th>housing</th>\n",
              "      <th>loan</th>\n",
              "      <th>contact</th>\n",
              "      <th>day</th>\n",
              "      <th>month</th>\n",
              "      <th>duration</th>\n",
              "      <th>campaign</th>\n",
              "      <th>pdays</th>\n",
              "      <th>previous</th>\n",
              "      <th>poutcome</th>\n",
              "      <th>y</th>\n",
              "    </tr>\n",
              "  </thead>\n",
              "  <tbody>\n",
              "    <tr>\n",
              "      <th>0</th>\n",
              "      <td>58</td>\n",
              "      <td>management</td>\n",
              "      <td>married</td>\n",
              "      <td>tertiary</td>\n",
              "      <td>no</td>\n",
              "      <td>2143</td>\n",
              "      <td>yes</td>\n",
              "      <td>no</td>\n",
              "      <td>unknown</td>\n",
              "      <td>5</td>\n",
              "      <td>may</td>\n",
              "      <td>261</td>\n",
              "      <td>1</td>\n",
              "      <td>-1</td>\n",
              "      <td>0</td>\n",
              "      <td>unknown</td>\n",
              "      <td>no</td>\n",
              "    </tr>\n",
              "    <tr>\n",
              "      <th>1</th>\n",
              "      <td>44</td>\n",
              "      <td>technician</td>\n",
              "      <td>single</td>\n",
              "      <td>secondary</td>\n",
              "      <td>no</td>\n",
              "      <td>29</td>\n",
              "      <td>yes</td>\n",
              "      <td>no</td>\n",
              "      <td>unknown</td>\n",
              "      <td>5</td>\n",
              "      <td>may</td>\n",
              "      <td>151</td>\n",
              "      <td>1</td>\n",
              "      <td>-1</td>\n",
              "      <td>0</td>\n",
              "      <td>unknown</td>\n",
              "      <td>no</td>\n",
              "    </tr>\n",
              "    <tr>\n",
              "      <th>2</th>\n",
              "      <td>33</td>\n",
              "      <td>entrepreneur</td>\n",
              "      <td>married</td>\n",
              "      <td>secondary</td>\n",
              "      <td>no</td>\n",
              "      <td>2</td>\n",
              "      <td>yes</td>\n",
              "      <td>yes</td>\n",
              "      <td>unknown</td>\n",
              "      <td>5</td>\n",
              "      <td>may</td>\n",
              "      <td>76</td>\n",
              "      <td>1</td>\n",
              "      <td>-1</td>\n",
              "      <td>0</td>\n",
              "      <td>unknown</td>\n",
              "      <td>no</td>\n",
              "    </tr>\n",
              "    <tr>\n",
              "      <th>3</th>\n",
              "      <td>47</td>\n",
              "      <td>blue-collar</td>\n",
              "      <td>married</td>\n",
              "      <td>unknown</td>\n",
              "      <td>no</td>\n",
              "      <td>1506</td>\n",
              "      <td>yes</td>\n",
              "      <td>no</td>\n",
              "      <td>unknown</td>\n",
              "      <td>5</td>\n",
              "      <td>may</td>\n",
              "      <td>92</td>\n",
              "      <td>1</td>\n",
              "      <td>-1</td>\n",
              "      <td>0</td>\n",
              "      <td>unknown</td>\n",
              "      <td>no</td>\n",
              "    </tr>\n",
              "    <tr>\n",
              "      <th>4</th>\n",
              "      <td>33</td>\n",
              "      <td>unknown</td>\n",
              "      <td>single</td>\n",
              "      <td>unknown</td>\n",
              "      <td>no</td>\n",
              "      <td>1</td>\n",
              "      <td>no</td>\n",
              "      <td>no</td>\n",
              "      <td>unknown</td>\n",
              "      <td>5</td>\n",
              "      <td>may</td>\n",
              "      <td>198</td>\n",
              "      <td>1</td>\n",
              "      <td>-1</td>\n",
              "      <td>0</td>\n",
              "      <td>unknown</td>\n",
              "      <td>no</td>\n",
              "    </tr>\n",
              "  </tbody>\n",
              "</table>\n",
              "</div>"
            ],
            "text/plain": [
              "   age           job  marital  education default  balance housing loan  \\\n",
              "0   58    management  married   tertiary      no     2143     yes   no   \n",
              "1   44    technician   single  secondary      no       29     yes   no   \n",
              "2   33  entrepreneur  married  secondary      no        2     yes  yes   \n",
              "3   47   blue-collar  married    unknown      no     1506     yes   no   \n",
              "4   33       unknown   single    unknown      no        1      no   no   \n",
              "\n",
              "   contact  day month  duration  campaign  pdays  previous poutcome   y  \n",
              "0  unknown    5   may       261         1     -1         0  unknown  no  \n",
              "1  unknown    5   may       151         1     -1         0  unknown  no  \n",
              "2  unknown    5   may        76         1     -1         0  unknown  no  \n",
              "3  unknown    5   may        92         1     -1         0  unknown  no  \n",
              "4  unknown    5   may       198         1     -1         0  unknown  no  "
            ]
          },
          "metadata": {
            "tags": []
          },
          "execution_count": 4
        }
      ]
    },
    {
      "cell_type": "code",
      "metadata": {
        "id": "faNobGyshaGW",
        "outputId": "d353e059-9a53-427e-d1c7-acdf463e9bc3"
      },
      "source": [
        "# Print the shape of the DataFrame\n",
        "\n",
        "print(bank_dataframe.shape)"
      ],
      "execution_count": null,
      "outputs": [
        {
          "output_type": "stream",
          "text": [
            "(45211, 17)\n"
          ],
          "name": "stdout"
        }
      ]
    },
    {
      "cell_type": "code",
      "metadata": {
        "id": "rV-zDyNdhaGX"
      },
      "source": [
        "# Select features from the DataFrame\n",
        "\n",
        "features = ['age', 'job', 'marital', 'education', 'default', 'balance', 'housing',\n",
        "            'loan', 'contact', 'campaign', 'pdays', 'poutcome']\n",
        "labels = ['y']\n",
        "\n",
        "bank_dataframe = bank_dataframe.filter(features + labels)"
      ],
      "execution_count": null,
      "outputs": []
    },
    {
      "cell_type": "code",
      "metadata": {
        "scrolled": true,
        "id": "7qxNd34thaGY",
        "outputId": "71e802d1-08ff-48aa-e89b-72112fd710ca"
      },
      "source": [
        "# Show the head of the DataFrame\n",
        "\n",
        "bank_dataframe.head()"
      ],
      "execution_count": null,
      "outputs": [
        {
          "output_type": "execute_result",
          "data": {
            "text/html": [
              "<div>\n",
              "<style scoped>\n",
              "    .dataframe tbody tr th:only-of-type {\n",
              "        vertical-align: middle;\n",
              "    }\n",
              "\n",
              "    .dataframe tbody tr th {\n",
              "        vertical-align: top;\n",
              "    }\n",
              "\n",
              "    .dataframe thead th {\n",
              "        text-align: right;\n",
              "    }\n",
              "</style>\n",
              "<table border=\"1\" class=\"dataframe\">\n",
              "  <thead>\n",
              "    <tr style=\"text-align: right;\">\n",
              "      <th></th>\n",
              "      <th>age</th>\n",
              "      <th>job</th>\n",
              "      <th>marital</th>\n",
              "      <th>education</th>\n",
              "      <th>default</th>\n",
              "      <th>balance</th>\n",
              "      <th>housing</th>\n",
              "      <th>loan</th>\n",
              "      <th>contact</th>\n",
              "      <th>campaign</th>\n",
              "      <th>pdays</th>\n",
              "      <th>poutcome</th>\n",
              "      <th>y</th>\n",
              "    </tr>\n",
              "  </thead>\n",
              "  <tbody>\n",
              "    <tr>\n",
              "      <th>0</th>\n",
              "      <td>58</td>\n",
              "      <td>management</td>\n",
              "      <td>married</td>\n",
              "      <td>tertiary</td>\n",
              "      <td>no</td>\n",
              "      <td>2143</td>\n",
              "      <td>yes</td>\n",
              "      <td>no</td>\n",
              "      <td>unknown</td>\n",
              "      <td>1</td>\n",
              "      <td>-1</td>\n",
              "      <td>unknown</td>\n",
              "      <td>no</td>\n",
              "    </tr>\n",
              "    <tr>\n",
              "      <th>1</th>\n",
              "      <td>44</td>\n",
              "      <td>technician</td>\n",
              "      <td>single</td>\n",
              "      <td>secondary</td>\n",
              "      <td>no</td>\n",
              "      <td>29</td>\n",
              "      <td>yes</td>\n",
              "      <td>no</td>\n",
              "      <td>unknown</td>\n",
              "      <td>1</td>\n",
              "      <td>-1</td>\n",
              "      <td>unknown</td>\n",
              "      <td>no</td>\n",
              "    </tr>\n",
              "    <tr>\n",
              "      <th>2</th>\n",
              "      <td>33</td>\n",
              "      <td>entrepreneur</td>\n",
              "      <td>married</td>\n",
              "      <td>secondary</td>\n",
              "      <td>no</td>\n",
              "      <td>2</td>\n",
              "      <td>yes</td>\n",
              "      <td>yes</td>\n",
              "      <td>unknown</td>\n",
              "      <td>1</td>\n",
              "      <td>-1</td>\n",
              "      <td>unknown</td>\n",
              "      <td>no</td>\n",
              "    </tr>\n",
              "    <tr>\n",
              "      <th>3</th>\n",
              "      <td>47</td>\n",
              "      <td>blue-collar</td>\n",
              "      <td>married</td>\n",
              "      <td>unknown</td>\n",
              "      <td>no</td>\n",
              "      <td>1506</td>\n",
              "      <td>yes</td>\n",
              "      <td>no</td>\n",
              "      <td>unknown</td>\n",
              "      <td>1</td>\n",
              "      <td>-1</td>\n",
              "      <td>unknown</td>\n",
              "      <td>no</td>\n",
              "    </tr>\n",
              "    <tr>\n",
              "      <th>4</th>\n",
              "      <td>33</td>\n",
              "      <td>unknown</td>\n",
              "      <td>single</td>\n",
              "      <td>unknown</td>\n",
              "      <td>no</td>\n",
              "      <td>1</td>\n",
              "      <td>no</td>\n",
              "      <td>no</td>\n",
              "      <td>unknown</td>\n",
              "      <td>1</td>\n",
              "      <td>-1</td>\n",
              "      <td>unknown</td>\n",
              "      <td>no</td>\n",
              "    </tr>\n",
              "  </tbody>\n",
              "</table>\n",
              "</div>"
            ],
            "text/plain": [
              "   age           job  marital  education default  balance housing loan  \\\n",
              "0   58    management  married   tertiary      no     2143     yes   no   \n",
              "1   44    technician   single  secondary      no       29     yes   no   \n",
              "2   33  entrepreneur  married  secondary      no        2     yes  yes   \n",
              "3   47   blue-collar  married    unknown      no     1506     yes   no   \n",
              "4   33       unknown   single    unknown      no        1      no   no   \n",
              "\n",
              "   contact  campaign  pdays poutcome   y  \n",
              "0  unknown         1     -1  unknown  no  \n",
              "1  unknown         1     -1  unknown  no  \n",
              "2  unknown         1     -1  unknown  no  \n",
              "3  unknown         1     -1  unknown  no  \n",
              "4  unknown         1     -1  unknown  no  "
            ]
          },
          "metadata": {
            "tags": []
          },
          "execution_count": 7
        }
      ]
    },
    {
      "cell_type": "markdown",
      "metadata": {
        "id": "uMOyO0aZhaGa"
      },
      "source": [
        "#### Preprocess the data"
      ]
    },
    {
      "cell_type": "code",
      "metadata": {
        "id": "dIwMmt9KhaGa"
      },
      "source": [
        "# Convert the categorical features in the DataFrame to one-hot encodings\n",
        "\n",
        "from sklearn.preprocessing import LabelBinarizer\n",
        "\n",
        "encoder = LabelBinarizer()\n",
        "categorical_features = ['default', 'housing', 'job', 'loan', 'education', \n",
        "    'contact', 'poutcome']\n",
        "\n",
        "for feature in categorical_features:\n",
        "    bank_dataframe[feature] = tuple(encoder.fit_transform(bank_dataframe[feature]))"
      ],
      "execution_count": null,
      "outputs": []
    },
    {
      "cell_type": "code",
      "metadata": {
        "scrolled": true,
        "id": "vbwWaUKEhaGb",
        "outputId": "6471331d-6338-4d03-fb0d-3b90f1554ecf"
      },
      "source": [
        "# Show the head of the DataFrame\n",
        "\n",
        "bank_dataframe.head()"
      ],
      "execution_count": null,
      "outputs": [
        {
          "output_type": "execute_result",
          "data": {
            "text/html": [
              "<div>\n",
              "<style scoped>\n",
              "    .dataframe tbody tr th:only-of-type {\n",
              "        vertical-align: middle;\n",
              "    }\n",
              "\n",
              "    .dataframe tbody tr th {\n",
              "        vertical-align: top;\n",
              "    }\n",
              "\n",
              "    .dataframe thead th {\n",
              "        text-align: right;\n",
              "    }\n",
              "</style>\n",
              "<table border=\"1\" class=\"dataframe\">\n",
              "  <thead>\n",
              "    <tr style=\"text-align: right;\">\n",
              "      <th></th>\n",
              "      <th>age</th>\n",
              "      <th>job</th>\n",
              "      <th>marital</th>\n",
              "      <th>education</th>\n",
              "      <th>default</th>\n",
              "      <th>balance</th>\n",
              "      <th>housing</th>\n",
              "      <th>loan</th>\n",
              "      <th>contact</th>\n",
              "      <th>campaign</th>\n",
              "      <th>pdays</th>\n",
              "      <th>poutcome</th>\n",
              "      <th>y</th>\n",
              "    </tr>\n",
              "  </thead>\n",
              "  <tbody>\n",
              "    <tr>\n",
              "      <th>0</th>\n",
              "      <td>58</td>\n",
              "      <td>(0, 0, 0, 0, 1, 0, 0, 0, 0, 0, 0, 0)</td>\n",
              "      <td>married</td>\n",
              "      <td>(0, 0, 1, 0)</td>\n",
              "      <td>(0,)</td>\n",
              "      <td>2143</td>\n",
              "      <td>(1,)</td>\n",
              "      <td>(0,)</td>\n",
              "      <td>(0, 0, 1)</td>\n",
              "      <td>1</td>\n",
              "      <td>-1</td>\n",
              "      <td>(0, 0, 0, 1)</td>\n",
              "      <td>no</td>\n",
              "    </tr>\n",
              "    <tr>\n",
              "      <th>1</th>\n",
              "      <td>44</td>\n",
              "      <td>(0, 0, 0, 0, 0, 0, 0, 0, 0, 1, 0, 0)</td>\n",
              "      <td>single</td>\n",
              "      <td>(0, 1, 0, 0)</td>\n",
              "      <td>(0,)</td>\n",
              "      <td>29</td>\n",
              "      <td>(1,)</td>\n",
              "      <td>(0,)</td>\n",
              "      <td>(0, 0, 1)</td>\n",
              "      <td>1</td>\n",
              "      <td>-1</td>\n",
              "      <td>(0, 0, 0, 1)</td>\n",
              "      <td>no</td>\n",
              "    </tr>\n",
              "    <tr>\n",
              "      <th>2</th>\n",
              "      <td>33</td>\n",
              "      <td>(0, 0, 1, 0, 0, 0, 0, 0, 0, 0, 0, 0)</td>\n",
              "      <td>married</td>\n",
              "      <td>(0, 1, 0, 0)</td>\n",
              "      <td>(0,)</td>\n",
              "      <td>2</td>\n",
              "      <td>(1,)</td>\n",
              "      <td>(1,)</td>\n",
              "      <td>(0, 0, 1)</td>\n",
              "      <td>1</td>\n",
              "      <td>-1</td>\n",
              "      <td>(0, 0, 0, 1)</td>\n",
              "      <td>no</td>\n",
              "    </tr>\n",
              "    <tr>\n",
              "      <th>3</th>\n",
              "      <td>47</td>\n",
              "      <td>(0, 1, 0, 0, 0, 0, 0, 0, 0, 0, 0, 0)</td>\n",
              "      <td>married</td>\n",
              "      <td>(0, 0, 0, 1)</td>\n",
              "      <td>(0,)</td>\n",
              "      <td>1506</td>\n",
              "      <td>(1,)</td>\n",
              "      <td>(0,)</td>\n",
              "      <td>(0, 0, 1)</td>\n",
              "      <td>1</td>\n",
              "      <td>-1</td>\n",
              "      <td>(0, 0, 0, 1)</td>\n",
              "      <td>no</td>\n",
              "    </tr>\n",
              "    <tr>\n",
              "      <th>4</th>\n",
              "      <td>33</td>\n",
              "      <td>(0, 0, 0, 0, 0, 0, 0, 0, 0, 0, 0, 1)</td>\n",
              "      <td>single</td>\n",
              "      <td>(0, 0, 0, 1)</td>\n",
              "      <td>(0,)</td>\n",
              "      <td>1</td>\n",
              "      <td>(0,)</td>\n",
              "      <td>(0,)</td>\n",
              "      <td>(0, 0, 1)</td>\n",
              "      <td>1</td>\n",
              "      <td>-1</td>\n",
              "      <td>(0, 0, 0, 1)</td>\n",
              "      <td>no</td>\n",
              "    </tr>\n",
              "  </tbody>\n",
              "</table>\n",
              "</div>"
            ],
            "text/plain": [
              "   age                                   job  marital     education default  \\\n",
              "0   58  (0, 0, 0, 0, 1, 0, 0, 0, 0, 0, 0, 0)  married  (0, 0, 1, 0)    (0,)   \n",
              "1   44  (0, 0, 0, 0, 0, 0, 0, 0, 0, 1, 0, 0)   single  (0, 1, 0, 0)    (0,)   \n",
              "2   33  (0, 0, 1, 0, 0, 0, 0, 0, 0, 0, 0, 0)  married  (0, 1, 0, 0)    (0,)   \n",
              "3   47  (0, 1, 0, 0, 0, 0, 0, 0, 0, 0, 0, 0)  married  (0, 0, 0, 1)    (0,)   \n",
              "4   33  (0, 0, 0, 0, 0, 0, 0, 0, 0, 0, 0, 1)   single  (0, 0, 0, 1)    (0,)   \n",
              "\n",
              "   balance housing  loan    contact  campaign  pdays      poutcome   y  \n",
              "0     2143    (1,)  (0,)  (0, 0, 1)         1     -1  (0, 0, 0, 1)  no  \n",
              "1       29    (1,)  (0,)  (0, 0, 1)         1     -1  (0, 0, 0, 1)  no  \n",
              "2        2    (1,)  (1,)  (0, 0, 1)         1     -1  (0, 0, 0, 1)  no  \n",
              "3     1506    (1,)  (0,)  (0, 0, 1)         1     -1  (0, 0, 0, 1)  no  \n",
              "4        1    (0,)  (0,)  (0, 0, 1)         1     -1  (0, 0, 0, 1)  no  "
            ]
          },
          "metadata": {
            "tags": []
          },
          "execution_count": 9
        }
      ]
    },
    {
      "cell_type": "code",
      "metadata": {
        "id": "CXIuiANFhaGc"
      },
      "source": [
        "# Shuffle the DataFrame\n",
        "\n",
        "bank_dataframe = bank_dataframe.sample(frac=1).reset_index(drop=True)"
      ],
      "execution_count": null,
      "outputs": []
    },
    {
      "cell_type": "markdown",
      "metadata": {
        "id": "jrI8QPAghaGe"
      },
      "source": [
        "#### Create the Dataset object"
      ]
    },
    {
      "cell_type": "code",
      "metadata": {
        "id": "RyWS07bghaGf"
      },
      "source": [
        "# Convert the DataFrame to a Dataset\n",
        "\n",
        "bank_dataset = tf.data.Dataset.from_tensor_slices(dict(bank_dataframe))"
      ],
      "execution_count": null,
      "outputs": []
    },
    {
      "cell_type": "code",
      "metadata": {
        "id": "_Ykb1yAlhaGn",
        "outputId": "a6053fac-26ea-4338-c3f4-cd379c0afc32"
      },
      "source": [
        "# Inspect the Dataset object\n",
        "\n",
        "bank_dataset.element_spec"
      ],
      "execution_count": null,
      "outputs": [
        {
          "output_type": "execute_result",
          "data": {
            "text/plain": [
              "{'age': TensorSpec(shape=(), dtype=tf.int32, name=None),\n",
              " 'job': TensorSpec(shape=(12,), dtype=tf.int32, name=None),\n",
              " 'marital': TensorSpec(shape=(), dtype=tf.string, name=None),\n",
              " 'education': TensorSpec(shape=(4,), dtype=tf.int32, name=None),\n",
              " 'default': TensorSpec(shape=(1,), dtype=tf.int32, name=None),\n",
              " 'balance': TensorSpec(shape=(), dtype=tf.int32, name=None),\n",
              " 'housing': TensorSpec(shape=(1,), dtype=tf.int32, name=None),\n",
              " 'loan': TensorSpec(shape=(1,), dtype=tf.int32, name=None),\n",
              " 'contact': TensorSpec(shape=(3,), dtype=tf.int32, name=None),\n",
              " 'campaign': TensorSpec(shape=(), dtype=tf.int32, name=None),\n",
              " 'pdays': TensorSpec(shape=(), dtype=tf.int32, name=None),\n",
              " 'poutcome': TensorSpec(shape=(4,), dtype=tf.int32, name=None),\n",
              " 'y': TensorSpec(shape=(), dtype=tf.string, name=None)}"
            ]
          },
          "metadata": {
            "tags": []
          },
          "execution_count": 12
        }
      ]
    },
    {
      "cell_type": "markdown",
      "metadata": {
        "id": "_OULr3jShaGq"
      },
      "source": [
        "#### Filter the Dataset"
      ]
    },
    {
      "cell_type": "code",
      "metadata": {
        "id": "HJwAeSuwhaGr",
        "outputId": "631dc58a-0241-4318-e3bb-d86be46e6389"
      },
      "source": [
        "# First check that there are records in the dataset for non-married individuals\n",
        "\n",
        "def check_divorced():\n",
        "    bank_dataset_iterable = iter(bank_dataset)\n",
        "    for x in bank_dataset_iterable:\n",
        "        if x['marital'] != 'divorced':\n",
        "            print('Found a person with marital status: {}'.format(x['marital']))\n",
        "            return\n",
        "    print('No non-divorced people were found!')\n",
        "\n",
        "check_divorced()"
      ],
      "execution_count": null,
      "outputs": [
        {
          "output_type": "stream",
          "text": [
            "Found a person with marital status: b'married'\n"
          ],
          "name": "stdout"
        }
      ]
    },
    {
      "cell_type": "code",
      "metadata": {
        "id": "ixTiUgcShaGt"
      },
      "source": [
        "# Filter the Dataset to retain only entries with a 'divorced' marital status\n",
        "\n",
        "bank_dataset = bank_dataset.filter(lambda x : tf.equal(x['marital'], \n",
        "    tf.constant([b'divorced']))[0])"
      ],
      "execution_count": null,
      "outputs": []
    },
    {
      "cell_type": "code",
      "metadata": {
        "id": "ATDI5_73haGu",
        "outputId": "d93ba7a7-f239-414b-fc77-3992bca00a9d"
      },
      "source": [
        "# Check the records in the dataset again\n",
        "\n",
        "check_divorced()"
      ],
      "execution_count": null,
      "outputs": [
        {
          "output_type": "stream",
          "text": [
            "No non-divorced people were found!\n"
          ],
          "name": "stdout"
        }
      ]
    },
    {
      "cell_type": "markdown",
      "metadata": {
        "id": "DZQjW6MGhaGv"
      },
      "source": [
        "#### Map a function over the dataset"
      ]
    },
    {
      "cell_type": "code",
      "metadata": {
        "id": "__3Jjfl7haGw"
      },
      "source": [
        "# Convert the label ('y') to an integer instead of 'yes' or 'no'\n",
        "\n",
        "def map_label(x):\n",
        "    x['y'] = 0 if (x['y'] == tf.constant([b'no'], dtype=tf.string)) else 1\n",
        "    return x\n",
        "\n",
        "bank_dataset = bank_dataset.map(map_label)"
      ],
      "execution_count": null,
      "outputs": []
    },
    {
      "cell_type": "code",
      "metadata": {
        "id": "60G0f9YGhaGx",
        "outputId": "54e8c8a5-7c26-4e03-f7f5-4248b574513a"
      },
      "source": [
        "# Inspect the Dataset object\n",
        "\n",
        "bank_dataset.element_spec"
      ],
      "execution_count": null,
      "outputs": [
        {
          "output_type": "execute_result",
          "data": {
            "text/plain": [
              "{'age': TensorSpec(shape=(), dtype=tf.int32, name=None),\n",
              " 'job': TensorSpec(shape=(12,), dtype=tf.int32, name=None),\n",
              " 'marital': TensorSpec(shape=(), dtype=tf.string, name=None),\n",
              " 'education': TensorSpec(shape=(4,), dtype=tf.int32, name=None),\n",
              " 'default': TensorSpec(shape=(1,), dtype=tf.int32, name=None),\n",
              " 'balance': TensorSpec(shape=(), dtype=tf.int32, name=None),\n",
              " 'housing': TensorSpec(shape=(1,), dtype=tf.int32, name=None),\n",
              " 'loan': TensorSpec(shape=(1,), dtype=tf.int32, name=None),\n",
              " 'contact': TensorSpec(shape=(3,), dtype=tf.int32, name=None),\n",
              " 'campaign': TensorSpec(shape=(), dtype=tf.int32, name=None),\n",
              " 'pdays': TensorSpec(shape=(), dtype=tf.int32, name=None),\n",
              " 'poutcome': TensorSpec(shape=(4,), dtype=tf.int32, name=None),\n",
              " 'y': TensorSpec(shape=(), dtype=tf.int32, name=None)}"
            ]
          },
          "metadata": {
            "tags": []
          },
          "execution_count": 17
        }
      ]
    },
    {
      "cell_type": "code",
      "metadata": {
        "id": "tGpolkUJhaGy"
      },
      "source": [
        "# Remove the 'marital' column\n",
        "\n",
        "bank_dataset = bank_dataset.map(lambda x: \n",
        "    {key: val for key, val in x.items() if key != 'marital'})"
      ],
      "execution_count": null,
      "outputs": []
    },
    {
      "cell_type": "code",
      "metadata": {
        "id": "FTbrVE7chaG0",
        "outputId": "5608250b-5bed-480d-f52d-786cb04e8778"
      },
      "source": [
        "# Inspect the Dataset object\n",
        "\n",
        "bank_dataset.element_spec"
      ],
      "execution_count": null,
      "outputs": [
        {
          "output_type": "execute_result",
          "data": {
            "text/plain": [
              "{'age': TensorSpec(shape=(), dtype=tf.int32, name=None),\n",
              " 'job': TensorSpec(shape=(12,), dtype=tf.int32, name=None),\n",
              " 'education': TensorSpec(shape=(4,), dtype=tf.int32, name=None),\n",
              " 'default': TensorSpec(shape=(1,), dtype=tf.int32, name=None),\n",
              " 'balance': TensorSpec(shape=(), dtype=tf.int32, name=None),\n",
              " 'housing': TensorSpec(shape=(1,), dtype=tf.int32, name=None),\n",
              " 'loan': TensorSpec(shape=(1,), dtype=tf.int32, name=None),\n",
              " 'contact': TensorSpec(shape=(3,), dtype=tf.int32, name=None),\n",
              " 'campaign': TensorSpec(shape=(), dtype=tf.int32, name=None),\n",
              " 'pdays': TensorSpec(shape=(), dtype=tf.int32, name=None),\n",
              " 'poutcome': TensorSpec(shape=(4,), dtype=tf.int32, name=None),\n",
              " 'y': TensorSpec(shape=(), dtype=tf.int32, name=None)}"
            ]
          },
          "metadata": {
            "tags": []
          },
          "execution_count": 19
        }
      ]
    },
    {
      "cell_type": "markdown",
      "metadata": {
        "id": "HlYUoVylhaG1"
      },
      "source": [
        "#### Create input and output data tuples"
      ]
    },
    {
      "cell_type": "code",
      "metadata": {
        "id": "RIsxi_u0haG1"
      },
      "source": [
        "# Create an input and output tuple for the dataset\n",
        "\n",
        "def map_feature_label(x):\n",
        "    features = [[x['age']], [x['balance']], [x['campaign']], x['contact'], \n",
        "        x['default'], x['education'], x['housing'], x['job'], x['loan'], \n",
        "        [x['pdays']], x['poutcome']]\n",
        "    return (tf.concat(features, axis=0), x['y'])"
      ],
      "execution_count": null,
      "outputs": []
    },
    {
      "cell_type": "code",
      "metadata": {
        "scrolled": true,
        "id": "gIzfxziMhaG3"
      },
      "source": [
        "# Map this function over the dataset\n",
        "\n",
        "bank_dataset = bank_dataset.map(map_feature_label)"
      ],
      "execution_count": null,
      "outputs": []
    },
    {
      "cell_type": "code",
      "metadata": {
        "id": "8JKhkqaEhaHB",
        "outputId": "841a2436-068e-47ea-e090-60f309ffd26f"
      },
      "source": [
        "# Inspect the Dataset object\n",
        "\n",
        "bank_dataset.element_spec"
      ],
      "execution_count": null,
      "outputs": [
        {
          "output_type": "execute_result",
          "data": {
            "text/plain": [
              "(TensorSpec(shape=(30,), dtype=tf.int32, name=None),\n",
              " TensorSpec(shape=(), dtype=tf.int32, name=None))"
            ]
          },
          "metadata": {
            "tags": []
          },
          "execution_count": 22
        }
      ]
    },
    {
      "cell_type": "markdown",
      "metadata": {
        "id": "lTg7cxYVhaHC"
      },
      "source": [
        "#### Split into a training and a validation set"
      ]
    },
    {
      "cell_type": "code",
      "metadata": {
        "id": "rpa2OGmxhaHC",
        "outputId": "2dfa0a20-bea5-4dd6-e933-c37797aab7cd"
      },
      "source": [
        "# Determine the length of the Dataset\n",
        "\n",
        "dataset_length = 0\n",
        "for _ in bank_dataset:\n",
        "    dataset_length += 1\n",
        "print(dataset_length)"
      ],
      "execution_count": null,
      "outputs": [
        {
          "output_type": "stream",
          "text": [
            "5207\n"
          ],
          "name": "stdout"
        }
      ]
    },
    {
      "cell_type": "code",
      "metadata": {
        "id": "aiBen_r1haHD"
      },
      "source": [
        "# Make training and validation sets from the dataset\n",
        "\n",
        "training_elements = int(dataset_length*0.7)\n",
        "train_dataset = bank_dataset.take(training_elements)\n",
        "validation_dataset = bank_dataset.skip(training_elements)"
      ],
      "execution_count": null,
      "outputs": []
    },
    {
      "cell_type": "markdown",
      "metadata": {
        "id": "Aj7Zs8yhhaHG"
      },
      "source": [
        "#### Build a classification model\n",
        "\n",
        "Now let's build a model to classify the features."
      ]
    },
    {
      "cell_type": "code",
      "metadata": {
        "id": "RFJN8PaUhaHG"
      },
      "source": [
        "# Build a classifier model\n",
        "\n",
        "from tensorflow.keras.layers import Dense, Input, Concatenate, BatchNormalization\n",
        "from tensorflow.keras import Sequential\n",
        "\n",
        "model = Sequential()\n",
        "model.add(Input(shape=(30,)))\n",
        "model.add(BatchNormalization(momentum=0.8))\n",
        "model.add(Dense(400, activation='relu'))\n",
        "model.add(BatchNormalization(momentum=0.8))\n",
        "model.add(Dense(400, activation='relu'))\n",
        "model.add(BatchNormalization(momentum=0.8))\n",
        "model.add(Dense(1, activation='sigmoid'))"
      ],
      "execution_count": null,
      "outputs": []
    },
    {
      "cell_type": "code",
      "metadata": {
        "id": "uY92bQT-haHJ"
      },
      "source": [
        "# Compile the model\n",
        "\n",
        "optimizer = tf.keras.optimizers.Adam(1e-4)\n",
        "model.compile(optimizer=optimizer, \n",
        "    loss='binary_crossentropy', metrics=['accuracy'])"
      ],
      "execution_count": null,
      "outputs": []
    },
    {
      "cell_type": "code",
      "metadata": {
        "scrolled": true,
        "id": "g_p0gJvVhaHK",
        "outputId": "8a993544-5124-4e2c-98fb-90fd8bde8f63"
      },
      "source": [
        "# Show the model summary\n",
        "\n",
        "model.summary()"
      ],
      "execution_count": null,
      "outputs": [
        {
          "output_type": "stream",
          "text": [
            "Model: \"sequential\"\n",
            "_________________________________________________________________\n",
            "Layer (type)                 Output Shape              Param #   \n",
            "=================================================================\n",
            "batch_normalization (BatchNo (None, 30)                120       \n",
            "_________________________________________________________________\n",
            "dense (Dense)                (None, 400)               12400     \n",
            "_________________________________________________________________\n",
            "batch_normalization_1 (Batch (None, 400)               1600      \n",
            "_________________________________________________________________\n",
            "dense_1 (Dense)              (None, 400)               160400    \n",
            "_________________________________________________________________\n",
            "batch_normalization_2 (Batch (None, 400)               1600      \n",
            "_________________________________________________________________\n",
            "dense_2 (Dense)              (None, 1)                 401       \n",
            "=================================================================\n",
            "Total params: 176,521\n",
            "Trainable params: 174,861\n",
            "Non-trainable params: 1,660\n",
            "_________________________________________________________________\n"
          ],
          "name": "stdout"
        }
      ]
    },
    {
      "cell_type": "markdown",
      "metadata": {
        "id": "aALufpk6haHL"
      },
      "source": [
        "#### Train the model"
      ]
    },
    {
      "cell_type": "code",
      "metadata": {
        "id": "fIJanyhDhaHL"
      },
      "source": [
        "# Create batched training and validation datasets\n",
        "\n",
        "train_dataset = train_dataset.batch(20, drop_remainder=True)\n",
        "validation_dataset = validation_dataset.batch(100)"
      ],
      "execution_count": null,
      "outputs": []
    },
    {
      "cell_type": "code",
      "metadata": {
        "id": "9xNHeIlthaHN"
      },
      "source": [
        "# Shuffle the training data\n",
        "\n",
        "train_dataset = train_dataset.shuffle(1000)"
      ],
      "execution_count": null,
      "outputs": []
    },
    {
      "cell_type": "code",
      "metadata": {
        "scrolled": true,
        "id": "p7daJ6eOhaHO",
        "outputId": "1660c85a-63ad-4003-bbf2-76b8b9f0eb0e"
      },
      "source": [
        "# Fit the model\n",
        "\n",
        "history = model.fit(train_dataset, validation_data=validation_dataset,\n",
        "    epochs=5)"
      ],
      "execution_count": null,
      "outputs": [
        {
          "output_type": "stream",
          "text": [
            "Epoch 1/5\n",
            "182/182 [==============================] - 21s 113ms/step - loss: 0.6696 - accuracy: 0.6343 - val_loss: 0.0000e+00 - val_accuracy: 0.0000e+00\n",
            "Epoch 2/5\n",
            "182/182 [==============================] - 18s 97ms/step - loss: 0.4904 - accuracy: 0.8140 - val_loss: 0.4939 - val_accuracy: 0.8260\n",
            "Epoch 3/5\n",
            "182/182 [==============================] - 18s 97ms/step - loss: 0.3821 - accuracy: 0.8901 - val_loss: 0.4317 - val_accuracy: 0.8618\n",
            "Epoch 4/5\n",
            "182/182 [==============================] - 17s 96ms/step - loss: 0.3140 - accuracy: 0.9181 - val_loss: 0.4734 - val_accuracy: 0.8631\n",
            "Epoch 5/5\n",
            "182/182 [==============================] - 17s 95ms/step - loss: 0.2657 - accuracy: 0.9234 - val_loss: 0.3891 - val_accuracy: 0.8663\n"
          ],
          "name": "stdout"
        }
      ]
    },
    {
      "cell_type": "code",
      "metadata": {
        "id": "nE7zoUwLhaHQ",
        "outputId": "07d6c119-c523-411b-d846-ec07886846d1"
      },
      "source": [
        "# Plot the training and validation accuracy\n",
        "\n",
        "plt.plot(history.epoch, history.history['accuracy'], label='training')\n",
        "plt.plot(history.epoch, history.history['val_accuracy'], label='validation')\n",
        "plt.legend()\n",
        "plt.xlabel('Epoch')\n",
        "plt.ylabel('Accuracy')\n",
        "plt.show()"
      ],
      "execution_count": null,
      "outputs": [
        {
          "output_type": "display_data",
          "data": {
            "image/png": "[encoded data removed]",
            "text/plain": [
              "<Figure size 432x288 with 1 Axes>"
            ]
          },
          "metadata": {
            "tags": [],
            "needs_background": "light"
          }
        }
      ]
    },
    {
      "cell_type": "markdown",
      "metadata": {
        "id": "3EZoFyMshaHR"
      },
      "source": [
        "### Reference\n",
        "\n",
        "import tensorflow as tf\n",
        "from tensorflow.keras.datasets import cifar10\n",
        "\n",
        "(x_train, y_train), (x_test, y_test) = cifar10.load_data()\n",
        "\n",
        "dataset = tf.data.Dataset.from_tensor_slices((x_train, y_train))\n",
        "\n",
        "def rescale(image, label):\n",
        "    return image/255, label\n",
        "\n",
        "dataset = dataset.map(rescale)\n",
        "\n",
        "def label_filter(image, label):\n",
        "    return tf.squeeze(label) != 9\n",
        "\n",
        "dataset = dataset.filter(label_filter)\n",
        "\n",
        "dataset = dataset.shuffle(100)\n",
        "\n",
        "dataset = dataset.batch(16, drop_remainder=True)\n",
        "\n",
        "dataset = dataset.repeat(10)\n",
        "\n",
        "print(dataset.element_spec)\n",
        "\n",
        "history = model.fit(dataset)"
      ]
    }
  ]
}