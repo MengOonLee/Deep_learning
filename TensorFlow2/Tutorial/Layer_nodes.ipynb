{
  "nbformat": 4,
  "nbformat_minor": 0,
  "metadata": {
    "kernelspec": {
      "display_name": "Python 3",
      "language": "python",
      "name": "python3"
    },
    "language_info": {
      "codemirror_mode": {
        "name": "ipython",
        "version": 3
      },
      "file_extension": ".py",
      "mimetype": "text/x-python",
      "name": "python",
      "nbconvert_exporter": "python",
      "pygments_lexer": "ipython3",
      "version": "3.8.5"
    },
    "colab": {
      "name": "Layer_nodes.ipynb",
      "provenance": [],
      "include_colab_link": true
    },
    "accelerator": "GPU"
  },
  "cells": [
    {
      "cell_type": "markdown",
      "metadata": {
        "id": "view-in-github",
        "colab_type": "text"
      },
      "source": [
        "<a href=\"https://colab.research.google.com/github/MengOonLee/Deep_learning/blob/master/TensorFlow2/Tutorial/Layer_nodes.ipynb\" target=\"_parent\"><img src=\"https://colab.research.google.com/assets/colab-badge.svg\" alt=\"Open In Colab\"/></a>"
      ]
    },
    {
      "cell_type": "markdown",
      "metadata": {
        "id": "vV3cZ98UPkQP"
      },
      "source": [
        "# Layer nodes\n",
        "In this reading, we will be looking at the concept of layer nodes when creating a computational graph with shared layers."
      ]
    },
    {
      "cell_type": "code",
      "metadata": {
        "id": "VILwSDTWPkQR",
        "outputId": "48d2801d-93cf-4b22-c448-b705db45cc22",
        "colab": {
          "base_uri": "https://localhost:8080/"
        }
      },
      "source": [
        "import tensorflow as tf\n",
        "print(tf.__version__)"
      ],
      "execution_count": 1,
      "outputs": [
        {
          "output_type": "stream",
          "text": [
            "2.3.0\n"
          ],
          "name": "stdout"
        }
      ]
    },
    {
      "cell_type": "markdown",
      "metadata": {
        "id": "KH8oBcaTPkQe"
      },
      "source": [
        "## Creating a simple computational graph"
      ]
    },
    {
      "cell_type": "markdown",
      "metadata": {
        "id": "q6qwvbioPkQj"
      },
      "source": [
        "You have previously seen how to construct multiple input or output models, and also how to access model layers. Let's start by creating two inputs:"
      ]
    },
    {
      "cell_type": "code",
      "metadata": {
        "id": "LZqmaePWPkQk"
      },
      "source": [
        "# Create the input layers\n",
        "\n",
        "from tensorflow.keras.layers import Input\n",
        "\n",
        "a = Input(shape=(128, 128, 3), name=\"input_a\")\n",
        "b = Input(shape=(64, 64, 3), name=\"input_b\")"
      ],
      "execution_count": 2,
      "outputs": []
    },
    {
      "cell_type": "markdown",
      "metadata": {
        "id": "C4xf_jy1PkQr"
      },
      "source": [
        "Now, we create a 2D convolutional layer, and call it on one of the inputs."
      ]
    },
    {
      "cell_type": "code",
      "metadata": {
        "id": "tcGYK4pCPkQs",
        "outputId": "d33dbcf0-5c8f-4756-9003-0be1750fc010",
        "colab": {
          "base_uri": "https://localhost:8080/"
        }
      },
      "source": [
        "# Create and use the convolutional layer\n",
        "\n",
        "from tensorflow.keras.layers import Conv2D\n",
        "\n",
        "conv = Conv2D(32, (6, 6), padding='same')\n",
        "conv_out_a = conv(a)\n",
        "print(type(conv_out_a))"
      ],
      "execution_count": 3,
      "outputs": [
        {
          "output_type": "stream",
          "text": [
            "<class 'tensorflow.python.framework.ops.Tensor'>\n"
          ],
          "name": "stdout"
        }
      ]
    },
    {
      "cell_type": "markdown",
      "metadata": {
        "id": "fScmpCBCPkQy"
      },
      "source": [
        "The output of the layer is now a new Tensor, which captures the operation of calling the layer `conv` on the input `a`.\n",
        "\n",
        "By defining this new operation in our computational graph, we have added a _node_ to the `conv` layer. This node relates the input tensor to the output tensor."
      ]
    },
    {
      "cell_type": "markdown",
      "metadata": {
        "id": "JCHB2xibPkQ0"
      },
      "source": [
        "### Layer input and outputs"
      ]
    },
    {
      "cell_type": "markdown",
      "metadata": {
        "id": "lYCEYlAYPkQ1"
      },
      "source": [
        "We can retrieve the output of a layer using the `output` attribute, and we can also get the input by using the `input` attribute. \n",
        "\n",
        "Similarly, we can retrieve the input/output shape using `input_shape` and `output_shape`."
      ]
    },
    {
      "cell_type": "code",
      "metadata": {
        "id": "bkVkwlDHPkQ2",
        "outputId": "999c30f4-cb0c-4b0d-83fa-06055c4d724d",
        "colab": {
          "base_uri": "https://localhost:8080/"
        }
      },
      "source": [
        "# Print the input and output tensors\n",
        "\n",
        "print(conv.input)\n",
        "print(conv.output)"
      ],
      "execution_count": 4,
      "outputs": [
        {
          "output_type": "stream",
          "text": [
            "Tensor(\"input_a:0\", shape=(None, 128, 128, 3), dtype=float32)\n",
            "Tensor(\"conv2d/BiasAdd:0\", shape=(None, 128, 128, 32), dtype=float32)\n"
          ],
          "name": "stdout"
        }
      ]
    },
    {
      "cell_type": "code",
      "metadata": {
        "id": "2rzPJcx8PkQ8"
      },
      "source": [
        "# Verify the input and output shapes\n",
        "\n",
        "assert conv.input_shape == (None, 128, 128, 3)\n",
        "assert conv.output_shape == (None, 128, 128, 32)"
      ],
      "execution_count": 5,
      "outputs": []
    },
    {
      "cell_type": "markdown",
      "metadata": {
        "id": "LIsYFp1xPkRD"
      },
      "source": [
        "## Creating a new layer node"
      ]
    },
    {
      "cell_type": "markdown",
      "metadata": {
        "id": "ZhNuD_IvPkRE"
      },
      "source": [
        "Now, let's call this layer again on a different input:"
      ]
    },
    {
      "cell_type": "code",
      "metadata": {
        "id": "p1Uv8Ns0PkRF"
      },
      "source": [
        "# Call the layer a second time\n",
        "\n",
        "conv_out_b = conv(b)"
      ],
      "execution_count": 6,
      "outputs": []
    },
    {
      "cell_type": "markdown",
      "metadata": {
        "id": "dgn0VjdQPkRJ"
      },
      "source": [
        "When we call the same layer multiple times, that layer owns multiple nodes indexed as 0, 1, 2...\n",
        "\n",
        "Now, what happens if we call `input` and `output` for this layer?"
      ]
    },
    {
      "cell_type": "code",
      "metadata": {
        "id": "AHkXsuiAPkRK"
      },
      "source": [
        "# Check the input and output attributes\n",
        "\n",
        "assert conv.input.name == a.name\n",
        "assert conv.output.name == conv_out_a.name"
      ],
      "execution_count": 7,
      "outputs": []
    },
    {
      "cell_type": "markdown",
      "metadata": {
        "id": "PzQB1S5CPkRP"
      },
      "source": [
        "As you can see, the layer's input is identified as being `a` and its output as being `conved_a`, something is going wrong here. As long as a layer is only connected to one input, there is no confusion about what should be the input, and `.output` will return the one output of the layer, but when the layer is called on multiple inputs we end up in an ambiguous situation.\n",
        "\n",
        "Let's try to get the input/output shape:"
      ]
    },
    {
      "cell_type": "code",
      "metadata": {
        "id": "lc7h0FZcPkRR",
        "outputId": "87b2a9f7-c2e7-46ed-96f6-4da769859752",
        "colab": {
          "base_uri": "https://localhost:8080/",
          "height": 376
        }
      },
      "source": [
        "# Try accessing the input_shape\n",
        "\n",
        "print(conv.input_shape)"
      ],
      "execution_count": 8,
      "outputs": [
        {
          "output_type": "error",
          "ename": "AttributeError",
          "evalue": "ignored",
          "traceback": [
            "\u001b[0;31m---------------------------------------------------------------------------\u001b[0m",
            "\u001b[0;31mAttributeError\u001b[0m                            Traceback (most recent call last)",
            "\u001b[0;32m<ipython-input-8-3303fc9d23af>\u001b[0m in \u001b[0;36m<module>\u001b[0;34m()\u001b[0m\n\u001b[1;32m      1\u001b[0m \u001b[0;31m# Try accessing the input_shape\u001b[0m\u001b[0;34m\u001b[0m\u001b[0;34m\u001b[0m\u001b[0;34m\u001b[0m\u001b[0m\n\u001b[1;32m      2\u001b[0m \u001b[0;34m\u001b[0m\u001b[0m\n\u001b[0;32m----> 3\u001b[0;31m \u001b[0mprint\u001b[0m\u001b[0;34m(\u001b[0m\u001b[0mconv\u001b[0m\u001b[0;34m.\u001b[0m\u001b[0minput_shape\u001b[0m\u001b[0;34m)\u001b[0m\u001b[0;34m\u001b[0m\u001b[0;34m\u001b[0m\u001b[0m\n\u001b[0m",
            "\u001b[0;32m/usr/local/lib/python3.6/dist-packages/tensorflow/python/keras/engine/base_layer.py\u001b[0m in \u001b[0;36minput_shape\u001b[0;34m(self)\u001b[0m\n\u001b[1;32m   2132\u001b[0m     \u001b[0;32melse\u001b[0m\u001b[0;34m:\u001b[0m\u001b[0;34m\u001b[0m\u001b[0;34m\u001b[0m\u001b[0m\n\u001b[1;32m   2133\u001b[0m       raise AttributeError('The layer \"' + str(self.name) +\n\u001b[0;32m-> 2134\u001b[0;31m                            \u001b[0;34m' has multiple inbound nodes, '\u001b[0m\u001b[0;34m\u001b[0m\u001b[0;34m\u001b[0m\u001b[0m\n\u001b[0m\u001b[1;32m   2135\u001b[0m                            \u001b[0;34m'with different input shapes. Hence '\u001b[0m\u001b[0;34m\u001b[0m\u001b[0;34m\u001b[0m\u001b[0m\n\u001b[1;32m   2136\u001b[0m                            \u001b[0;34m'the notion of \"input shape\" is '\u001b[0m\u001b[0;34m\u001b[0m\u001b[0;34m\u001b[0m\u001b[0m\n",
            "\u001b[0;31mAttributeError\u001b[0m: The layer \"conv2d has multiple inbound nodes, with different input shapes. Hence the notion of \"input shape\" is ill-defined for the layer. Use `get_input_shape_at(node_index)` instead."
          ]
        }
      ]
    },
    {
      "cell_type": "code",
      "metadata": {
        "id": "qTcXhV7VPkRV",
        "outputId": "bca14d7c-1f07-404f-f0c4-e39648710b64",
        "colab": {
          "base_uri": "https://localhost:8080/",
          "height": 376
        }
      },
      "source": [
        "# Try accessing the output_shape\n",
        "\n",
        "print(conv.output_shape)"
      ],
      "execution_count": 9,
      "outputs": [
        {
          "output_type": "error",
          "ename": "AttributeError",
          "evalue": "ignored",
          "traceback": [
            "\u001b[0;31m---------------------------------------------------------------------------\u001b[0m",
            "\u001b[0;31mAttributeError\u001b[0m                            Traceback (most recent call last)",
            "\u001b[0;32m<ipython-input-9-594acfcf2bc5>\u001b[0m in \u001b[0;36m<module>\u001b[0;34m()\u001b[0m\n\u001b[1;32m      1\u001b[0m \u001b[0;31m# Try accessing the output_shape\u001b[0m\u001b[0;34m\u001b[0m\u001b[0;34m\u001b[0m\u001b[0;34m\u001b[0m\u001b[0m\n\u001b[1;32m      2\u001b[0m \u001b[0;34m\u001b[0m\u001b[0m\n\u001b[0;32m----> 3\u001b[0;31m \u001b[0mprint\u001b[0m\u001b[0;34m(\u001b[0m\u001b[0mconv\u001b[0m\u001b[0;34m.\u001b[0m\u001b[0moutput_shape\u001b[0m\u001b[0;34m)\u001b[0m\u001b[0;34m\u001b[0m\u001b[0;34m\u001b[0m\u001b[0m\n\u001b[0m",
            "\u001b[0;32m/usr/local/lib/python3.6/dist-packages/tensorflow/python/keras/engine/base_layer.py\u001b[0m in \u001b[0;36moutput_shape\u001b[0;34m(self)\u001b[0m\n\u001b[1;32m   2190\u001b[0m                            \u001b[0;34m'ill-defined for the layer. '\u001b[0m\u001b[0;34m\u001b[0m\u001b[0;34m\u001b[0m\u001b[0m\n\u001b[1;32m   2191\u001b[0m                            \u001b[0;34m'Use `get_output_shape_at(node_index)` '\u001b[0m\u001b[0;34m\u001b[0m\u001b[0;34m\u001b[0m\u001b[0m\n\u001b[0;32m-> 2192\u001b[0;31m                            'instead.' % self.name)\n\u001b[0m\u001b[1;32m   2193\u001b[0m \u001b[0;34m\u001b[0m\u001b[0m\n\u001b[1;32m   2194\u001b[0m   \u001b[0;34m@\u001b[0m\u001b[0mproperty\u001b[0m\u001b[0;34m\u001b[0m\u001b[0;34m\u001b[0m\u001b[0m\n",
            "\u001b[0;31mAttributeError\u001b[0m: The layer \"conv2d\" has multiple inbound nodes, with different output shapes. Hence the notion of \"output shape\" is ill-defined for the layer. Use `get_output_shape_at(node_index)` instead."
          ]
        }
      ]
    },
    {
      "cell_type": "markdown",
      "metadata": {
        "id": "_rsdIZZDPkRa"
      },
      "source": [
        "`input_shape` and `output_shape` did not return the shape of the two inputs and outputs, instead they returned an error."
      ]
    },
    {
      "cell_type": "markdown",
      "metadata": {
        "id": "aojGkcAhPkRb"
      },
      "source": [
        "### Indexing layer nodes"
      ]
    },
    {
      "cell_type": "markdown",
      "metadata": {
        "id": "KZeu_E8jPkRc"
      },
      "source": [
        "We have applied the same Conv2D layer to an input of shape (128, 128, 3), and then to an input of shape (64, 64, 3), therefore the layer has multiple input/output shapes, for this reason we now have to retrieve them by specifying the index of the node they belong to.\n",
        "\n",
        "To get the inputs/outputs shapes, we now have to use `get_input_shape_at` and `get_output_shape_at` with the correct index:"
      ]
    },
    {
      "cell_type": "code",
      "metadata": {
        "id": "kpUpYcmaPkRd"
      },
      "source": [
        "# Print the input and output shapes for each layer node\n",
        "\n",
        "assert conv.get_input_shape_at(0) == (None, 128, 128, 3)  # Tensor a\n",
        "assert conv.get_input_shape_at(1) == (None, 64, 64, 3)  # Tensor b\n",
        "\n",
        "assert conv.get_output_shape_at(0) == (None, 128, 128, 32)  # Tensor conv_out_a\n",
        "assert conv.get_output_shape_at(1) == (None, 64, 64, 32)  # Tensor conv_out_b"
      ],
      "execution_count": 10,
      "outputs": []
    },
    {
      "cell_type": "markdown",
      "metadata": {
        "id": "Vg8iCL4uPkRk"
      },
      "source": [
        "Likewise, we use `get_input_at` and `get_output_at` to fetch the inputs/outputs:"
      ]
    },
    {
      "cell_type": "code",
      "metadata": {
        "id": "X_nfSLjBPkRl"
      },
      "source": [
        "assert conv.get_input_at(0).name == a.name\n",
        "assert conv.get_input_at(1).name == b.name\n",
        "\n",
        "assert conv.get_output_at(0).name == conv_out_a.name\n",
        "assert conv.get_output_at(1).name == conv_out_b.name"
      ],
      "execution_count": 11,
      "outputs": []
    },
    {
      "cell_type": "markdown",
      "metadata": {
        "id": "gx6_6XiVPkRp"
      },
      "source": [
        "## Further reading and resources \n",
        "* https://keras.io/getting-started/functional-api-guide/#the-concept-of-layer-node"
      ]
    }
  ]
}