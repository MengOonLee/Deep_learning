{
  "nbformat": 4,
  "nbformat_minor": 0,
  "metadata": {
    "coursera": {
      "course_slug": "tensor-flow-2-1",
      "graded_item_id": "JaRY0",
      "launcher_item_id": "mJ8fg"
    },
    "kernelspec": {
      "display_name": "Python 3",
      "language": "python",
      "name": "python3"
    },
    "language_info": {
      "codemirror_mode": {
        "name": "ipython",
        "version": 3
      },
      "file_extension": ".py",
      "mimetype": "text/x-python",
      "name": "python",
      "nbconvert_exporter": "python",
      "pygments_lexer": "ipython3",
      "version": "3.8.5"
    },
    "colab": {
      "name": "Classify_EuroSAT_image.ipynb",
      "provenance": [],
      "include_colab_link": true
    },
    "accelerator": "GPU"
  },
  "cells": [
    {
      "cell_type": "markdown",
      "metadata": {
        "id": "view-in-github",
        "colab_type": "text"
      },
      "source": [
        "<a href=\"https://colab.research.google.com/github/MengOonLee/Deep_learning/blob/master/TensorFlow2/Tutorial/Classify_EuroSAT_image.ipynb\" target=\"_parent\"><img src=\"https://colab.research.google.com/assets/colab-badge.svg\" alt=\"Open In Colab\"/></a>"
      ]
    },
    {
      "cell_type": "markdown",
      "metadata": {
        "id": "225TULRb9BIf"
      },
      "source": [
        "# Saving and loading models, with application to the EuroSat dataset\n",
        "\n",
        "### Instructions\n",
        "\n",
        "In this notebook, you will create a neural network that classifies land uses and land covers from satellite imagery. You will save your model using Tensorflow's callbacks and reload it later. You will also load in a pre-trained neural network classifier and compare performance with it."
      ]
    },
    {
      "cell_type": "code",
      "metadata": {
        "id": "r59z_IJ39BIi",
        "outputId": "0e342cdf-753e-41be-e223-c9da79c67986",
        "colab": {
          "base_uri": "https://localhost:8080/"
        }
      },
      "source": [
        "#### PACKAGE IMPORTS ####\n",
        "\n",
        "# Run this cell first to import all required packages. \n",
        "# Do not make any imports elsewhere in the notebook.\n",
        "import os\n",
        "import numpy as np\n",
        "import pandas as pd\n",
        "%matplotlib inline\n",
        "import matplotlib.pyplot as plt\n",
        "\n",
        "import tensorflow as tf\n",
        "print(tf.__version__)"
      ],
      "execution_count": 1,
      "outputs": [
        {
          "output_type": "stream",
          "text": [
            "2.3.0\n"
          ],
          "name": "stdout"
        }
      ]
    },
    {
      "cell_type": "markdown",
      "metadata": {
        "id": "pGfJDwsd9BIr"
      },
      "source": [
        "![EuroSAT overview image](https://github.com/MengOonLee/Deep_learning/blob/master/TensorFlow2/Tutorial/image/eurosat/eurosat_overview.jpg?raw=1)\n",
        "\n",
        "#### The EuroSAT dataset\n",
        "\n",
        "In this assignment, you will use the [EuroSAT dataset](https://github.com/phelber/EuroSAT). It consists of 27000 labelled Sentinel-2 satellite images of different land uses: residential, industrial, highway, river, forest, pasture, herbaceous vegetation, annual crop, permanent crop and sea/lake. For a reference, see the following papers:\n",
        "- Eurosat: A novel dataset and deep learning benchmark for land use and land cover classification. Patrick Helber, Benjamin Bischke, Andreas Dengel, Damian Borth. IEEE Journal of Selected Topics in Applied Earth Observations and Remote Sensing, 2019.\n",
        "- Introducing EuroSAT: A Novel Dataset and Deep Learning Benchmark for Land Use and Land Cover Classification. Patrick Helber, Benjamin Bischke, Andreas Dengel. 2018 IEEE International Geoscience and Remote Sensing Symposium, 2018.\n",
        "\n",
        "Your goal is to construct a neural network that classifies a satellite image into one of these 10 classes, as well as applying some of the saving and loading techniques you have learned in the previous sessions."
      ]
    },
    {
      "cell_type": "markdown",
      "metadata": {
        "id": "_vmtr5lY9BIw"
      },
      "source": [
        "#### Import the data\n",
        "\n",
        "The dataset you will train your model on is a subset of the total data, with 4000 training images and 1000 testing images, with roughly equal numbers of each class. The train and test datasets required for this project can be downloaded from the following links:\n",
        "\n",
        "`x_train`: https://drive.google.com/open?id=1cUaIEd9-MLJHFGjLz5QziNvfBtYygplX\n",
        "\n",
        "`y_train`: https://drive.google.com/open?id=1hv24Ufiio9rBeSqgnNoM3dr5sVGwOmBy\n",
        "\n",
        "`x_test`: https://drive.google.com/open?id=1AH9lKHT5P2oQLz8SGMRPWs_M9wIM2ZRH\n",
        "\n",
        "`y_test`: https://drive.google.com/open?id=1i4_azocSDuU3TcDf3OSHO1vF0D5-xMU6\n",
        "\n",
        "The code to import the data is provided below."
      ]
    },
    {
      "cell_type": "code",
      "metadata": {
        "id": "85KlTo9R_MbZ"
      },
      "source": [
        "data_dir = './data'\n",
        "if not os.path.exists(data_dir):\n",
        "    os.makedirs(data_dir)"
      ],
      "execution_count": 2,
      "outputs": []
    },
    {
      "cell_type": "code",
      "metadata": {
        "scrolled": true,
        "id": "wx799GrS9BIy",
        "outputId": "7dc77bcc-4403-430d-f626-75c3d9e07053",
        "colab": {
          "base_uri": "https://localhost:8080/"
        }
      },
      "source": [
        "%%bash\n",
        "\n",
        "fileid=\"1cUaIEd9-MLJHFGjLz5QziNvfBtYygplX\"\n",
        "filename=\"./data/x_train.npy\"\n",
        "curl -c ./cookie -s -L \"https://drive.google.com/uc?export=download&id=${fileid}\" > /dev/null\n",
        "curl -Lb ./cookie \"https://drive.google.com/uc?export=download&confirm=`awk '/download/ {print $NF}' ./cookie`&id=${fileid}\" -o ${filename}\n",
        "\n",
        "fileid=\"1hv24Ufiio9rBeSqgnNoM3dr5sVGwOmBy\"\n",
        "filename=\"./data/y_train.npy\"\n",
        "curl -c ./cookie -s -L \"https://drive.google.com/uc?export=download&id=${fileid}\" > /dev/null\n",
        "curl -Lb ./cookie \"https://drive.google.com/uc?export=download&confirm=`awk '/download/ {print $NF}' ./cookie`&id=${fileid}\" -o ${filename}\n",
        "\n",
        "fileid=\"1AH9lKHT5P2oQLz8SGMRPWs_M9wIM2ZRH\"\n",
        "filename=\"./data/x_test.npy\"\n",
        "curl -c ./cookie -s -L \"https://drive.google.com/uc?export=download&id=${fileid}\" > /dev/null\n",
        "curl -Lb ./cookie \"https://drive.google.com/uc?export=download&confirm=`awk '/download/ {print $NF}' ./cookie`&id=${fileid}\" -o ${filename}\n",
        "\n",
        "fileid=\"1i4_azocSDuU3TcDf3OSHO1vF0D5-xMU6\"\n",
        "filename=\"./data/y_test.npy\"\n",
        "curl -c ./cookie -s -L \"https://drive.google.com/uc?export=download&id=${fileid}\" > /dev/null\n",
        "curl -Lb ./cookie \"https://drive.google.com/uc?export=download&confirm=`awk '/download/ {print $NF}' ./cookie`&id=${fileid}\" -o ${filename}\n",
        "\n",
        "rm ./cookie"
      ],
      "execution_count": 3,
      "outputs": [
        {
          "output_type": "stream",
          "text": [
            "  % Total    % Received % Xferd  Average Speed   Time    Time     Time  Current\n",
            "                                 Dload  Upload   Total   Spent    Left  Speed\n",
            "\r  0     0    0     0    0     0      0      0 --:--:-- --:--:-- --:--:--     0\r100   408    0   408    0     0   3961      0 --:--:-- --:--:-- --:--:--  3961\n",
            "\r  0     0    0     0    0     0      0      0 --:--:-- --:--:-- --:--:--     0\r  0     0    0     0    0     0      0      0 --:--:-- --:--:-- --:--:--     0\n",
            "\r  0     0    0     0    0     0      0      0 --:--:-- --:--:-- --:--:--     0\n",
            "\r100 34.1M    0 34.1M    0     0  29.2M      0 --:--:--  0:00:01 --:--:-- 29.2M\r100  176M    0  176M    0     0  78.8M      0 --:--:--  0:00:02 --:--:--  132M\r100  304M    0  304M    0     0  96.1M      0 --:--:--  0:00:03 --:--:--  135M\r100  375M    0  375M    0     0   104M      0 --:--:--  0:00:03 --:--:--  140M\n",
            "  % Total    % Received % Xferd  Average Speed   Time    Time     Time  Current\n",
            "                                 Dload  Upload   Total   Spent    Left  Speed\n",
            "\r  0     0    0     0    0     0      0      0 --:--:-- --:--:-- --:--:--     0\r100   408    0   408    0     0   1915      0 --:--:-- --:--:-- --:--:--  1915\n",
            "\r  0     0    0     0    0     0      0      0 --:--:-- --:--:-- --:--:--     0\n",
            "\r  0     0    0     0    0     0      0      0 --:--:-- --:--:-- --:--:--     0\n",
            "\r100 16128  100 16128    0     0  29977      0 --:--:-- --:--:-- --:--:-- 29977\n",
            "  % Total    % Received % Xferd  Average Speed   Time    Time     Time  Current\n",
            "                                 Dload  Upload   Total   Spent    Left  Speed\n",
            "\r  0     0    0     0    0     0      0      0 --:--:-- --:--:-- --:--:--     0\r  0     0    0     0    0     0      0      0 --:--:--  0:00:01 --:--:--     0\r100   408    0   408    0     0    294      0 --:--:--  0:00:01 --:--:--   294\n",
            "\r  0     0    0     0    0     0      0      0 --:--:--  0:00:01 --:--:--     0\n",
            "\r  0     0    0     0    0     0      0      0 --:--:--  0:00:01 --:--:--     0\n",
            "\r100  133k    0  133k    0     0  81210      0 --:--:--  0:00:01 --:--:-- 81210\r100 93.7M    0 93.7M    0     0  46.2M      0 --:--:--  0:00:02 --:--:--  269M\n",
            "  % Total    % Received % Xferd  Average Speed   Time    Time     Time  Current\n",
            "                                 Dload  Upload   Total   Spent    Left  Speed\n",
            "\r  0     0    0     0    0     0      0      0 --:--:-- --:--:-- --:--:--     0\r100   408    0   408    0     0    957      0 --:--:-- --:--:-- --:--:--   957\n",
            "\r  0     0    0     0    0     0      0      0 --:--:-- --:--:-- --:--:--     0\n",
            "\r  0     0    0     0    0     0      0      0 --:--:-- --:--:-- --:--:--     0\n",
            "\r100  4128  100  4128    0     0   5489      0 --:--:-- --:--:-- --:--:--  5489\n"
          ],
          "name": "stderr"
        }
      ]
    },
    {
      "cell_type": "code",
      "metadata": {
        "id": "hspfDc9M9BI4",
        "outputId": "7cf8c3d5-a207-4db9-b66a-cd841c18951b",
        "colab": {
          "base_uri": "https://localhost:8080/"
        }
      },
      "source": [
        "# Run this cell to import the Eurosat data\n",
        "def load_eurosat_data():\n",
        "    data_dir = 'data/'\n",
        "    x_train = np.load(os.path.join(data_dir, 'x_train.npy'))\n",
        "    y_train = np.load(os.path.join(data_dir, 'y_train.npy'))\n",
        "    x_test  = np.load(os.path.join(data_dir, 'x_test.npy'))\n",
        "    y_test  = np.load(os.path.join(data_dir, 'y_test.npy'))\n",
        "    return (x_train, y_train), (x_test, y_test)\n",
        "\n",
        "(x_train, y_train), (x_test, y_test) = load_eurosat_data()\n",
        "x_train = x_train / 255.0\n",
        "x_test = x_test / 255.0\n",
        "\n",
        "print(\"x_train shape: \", x_train.shape)\n",
        "print(\"y_train shape: \", y_train.shape)\n",
        "print(\"x_test shape: \", x_test.shape)\n",
        "print(\"y_test shape: \", y_test.shape)"
      ],
      "execution_count": 4,
      "outputs": [
        {
          "output_type": "stream",
          "text": [
            "x_train shape:  (4000, 64, 64, 3)\n",
            "y_train shape:  (4000, 1)\n",
            "x_test shape:  (1000, 64, 64, 3)\n",
            "y_test shape:  (1000, 1)\n"
          ],
          "name": "stdout"
        }
      ]
    },
    {
      "cell_type": "markdown",
      "metadata": {
        "id": "RchTyajg9BI-"
      },
      "source": [
        "#### Build the neural network model"
      ]
    },
    {
      "cell_type": "markdown",
      "metadata": {
        "id": "g3ntzoSt9BI_"
      },
      "source": [
        "You can now construct a model to fit to the data. Using the Sequential API, build your model according to the following specifications:\n",
        "\n",
        "* The model should use the input_shape in the function argument to set the input size in the first layer.\n",
        "* The first layer should be a Conv2D layer with 16 filters, a 3x3 kernel size, a ReLU activation function and 'SAME' padding. Name this layer 'conv_1'.\n",
        "* The second layer should also be a Conv2D layer with 8 filters, a 3x3 kernel size, a ReLU activation function and 'SAME' padding. Name this layer 'conv_2'.\n",
        "* The third layer should be a MaxPooling2D layer with a pooling window size of 8x8. Name this layer 'pool_1'.\n",
        "* The fourth layer should be a Flatten layer, named 'flatten'.\n",
        "* The fifth layer should be a Dense layer with 32 units, a ReLU activation. Name this layer 'dense_1'.\n",
        "* The sixth and final layer should be a Dense layer with 10 units and softmax activation. Name this layer 'dense_2'.\n",
        "\n",
        "In total, the network should have 6 layers."
      ]
    },
    {
      "cell_type": "code",
      "metadata": {
        "id": "C-Z4Dz7e9BJB"
      },
      "source": [
        "from tensorflow.keras.models import Sequential\n",
        "from tensorflow.keras.layers import Dense, Flatten, Conv2D, \\\n",
        "    MaxPooling2D\n",
        "\n",
        "def get_new_model(input_shape):\n",
        "    \"\"\"\n",
        "    This function should build a Sequential model according to the above specification. Ensure the \n",
        "    weights are initialised by providing the input_shape argument in the first layer, given by the\n",
        "    function argument.\n",
        "    Your function should also compile the model with the Adam optimiser, sparse categorical cross\n",
        "    entropy loss function, and a single accuracy metric.\n",
        "    \"\"\"\n",
        "    \n",
        "    model = Sequential([\n",
        "      Conv2D(16, kernel_size=(3, 3), activation='relu', padding='SAME', \n",
        "             input_shape=input_shape, name='conv_1'),\n",
        "      Conv2D(8, kernel_size=(3, 3), activation='relu', padding='SAME', \n",
        "             name='conv_2'),\n",
        "      MaxPooling2D(pool_size=(8, 8), name='pool_1'),\n",
        "      Flatten(name='flatten'),\n",
        "      Dense(units=32, activation='relu', name='dense_1'),\n",
        "      Dense(units=10, activation='softmax', name='dense_2')\n",
        "    ])\n",
        "    \n",
        "    model.compile(optimizer='adam', \n",
        "        loss='sparse_categorical_crossentropy', \n",
        "        metrics=['accuracy'])\n",
        "    \n",
        "    return model"
      ],
      "execution_count": 5,
      "outputs": []
    },
    {
      "cell_type": "markdown",
      "metadata": {
        "id": "lKbfU4Ug9BJG"
      },
      "source": [
        "#### Compile and evaluate the model"
      ]
    },
    {
      "cell_type": "code",
      "metadata": {
        "id": "y4ZP06Do9BJI"
      },
      "source": [
        "# Run your function to create the model\n",
        "\n",
        "model = get_new_model(x_train[0].shape)"
      ],
      "execution_count": 6,
      "outputs": []
    },
    {
      "cell_type": "code",
      "metadata": {
        "id": "tCrDIufk9BJO"
      },
      "source": [
        "# Run this cell to define a function to evaluate a model's test accuracy\n",
        "\n",
        "def get_test_accuracy(model, x_test, y_test):\n",
        "    \"\"\"Test model classification accuracy\"\"\"\n",
        "    test_loss, test_acc = model.evaluate(x=x_test, y=y_test, verbose=0)\n",
        "    print('accuracy: {acc:0.3f}'.format(acc=test_acc))"
      ],
      "execution_count": 7,
      "outputs": []
    },
    {
      "cell_type": "code",
      "metadata": {
        "id": "VpEG95iX9BJR",
        "outputId": "db8561bf-7835-4b63-e21f-ba12c332206d",
        "colab": {
          "base_uri": "https://localhost:8080/"
        }
      },
      "source": [
        "# Print the model summary and calculate its initialised test accuracy\n",
        "\n",
        "model.summary()\n",
        "get_test_accuracy(model, x_test, y_test)"
      ],
      "execution_count": 8,
      "outputs": [
        {
          "output_type": "stream",
          "text": [
            "Model: \"sequential\"\n",
            "_________________________________________________________________\n",
            "Layer (type)                 Output Shape              Param #   \n",
            "=================================================================\n",
            "conv_1 (Conv2D)              (None, 64, 64, 16)        448       \n",
            "_________________________________________________________________\n",
            "conv_2 (Conv2D)              (None, 64, 64, 8)         1160      \n",
            "_________________________________________________________________\n",
            "pool_1 (MaxPooling2D)        (None, 8, 8, 8)           0         \n",
            "_________________________________________________________________\n",
            "flatten (Flatten)            (None, 512)               0         \n",
            "_________________________________________________________________\n",
            "dense_1 (Dense)              (None, 32)                16416     \n",
            "_________________________________________________________________\n",
            "dense_2 (Dense)              (None, 10)                330       \n",
            "=================================================================\n",
            "Total params: 18,354\n",
            "Trainable params: 18,354\n",
            "Non-trainable params: 0\n",
            "_________________________________________________________________\n",
            "accuracy: 0.096\n"
          ],
          "name": "stdout"
        }
      ]
    },
    {
      "cell_type": "markdown",
      "metadata": {
        "id": "thvbfDr09BJW"
      },
      "source": [
        "#### Create checkpoints to save model during training, with a criterion\n",
        "\n",
        "You will now create three callbacks:\n",
        "- `checkpoint_every_epoch`: checkpoint that saves the model weights every epoch during training\n",
        "- `checkpoint_best_only`: checkpoint that saves only the weights with the highest validation accuracy. Use the testing data as the validation data.\n",
        "- `early_stopping`: early stopping object that ends training if the validation accuracy has not improved in 3 epochs."
      ]
    },
    {
      "cell_type": "code",
      "metadata": {
        "id": "2Utlz8-M9BJX"
      },
      "source": [
        "from tensorflow.keras.callbacks import ModelCheckpoint\n",
        "\n",
        "def get_checkpoint_every_epoch():\n",
        "    \"\"\"\n",
        "    This function should return a ModelCheckpoint object that:\n",
        "    - saves the weights only at the end of every epoch\n",
        "    - saves into a directory called 'checkpoints_every_epoch' inside the current working directory\n",
        "    - generates filenames in that directory like 'checkpoint_XXX' where\n",
        "      XXX is the epoch number formatted to have three digits, e.g. 001, 002, 003, etc.\n",
        "    \"\"\"\n",
        "    \n",
        "    checkpoint_every_epoch_path = \\\n",
        "        \"checkpoints_every_epoch/checkpoint_{epoch:03d}\"\n",
        "\n",
        "    return ModelCheckpoint(filepath=checkpoint_every_epoch_path, \n",
        "        frequency='epoch', save_weights_only=True, verbose=1)\n",
        "\n",
        "def get_checkpoint_best_only():\n",
        "    \"\"\"\n",
        "    This function should return a ModelCheckpoint object that:\n",
        "    - saves only the weights that generate the highest validation (testing) accuracy\n",
        "    - saves into a directory called 'checkpoints_best_only' inside the current working directory\n",
        "    - generates a file called 'checkpoints_best_only/checkpoint' \n",
        "    \"\"\"\n",
        "    \n",
        "    checkpoint_best_path = \"checkpoints_best_only/checkpoint\"\n",
        "\n",
        "    return ModelCheckpoint(filepath=checkpoint_best_path, \n",
        "        save_weights_only=True, save_freq='epoch', \n",
        "        monitor='val_accuracy', save_best_only=True, verbose=1)"
      ],
      "execution_count": 9,
      "outputs": []
    },
    {
      "cell_type": "code",
      "metadata": {
        "id": "jUqWny7G9BJc"
      },
      "source": [
        "from tensorflow.keras.callbacks import EarlyStopping\n",
        "\n",
        "def get_early_stopping():\n",
        "    \"\"\"\n",
        "    This function should return an EarlyStopping callback that stops training when\n",
        "    the validation (testing) accuracy has not improved in the last 3 epochs.\n",
        "    HINT: use the EarlyStopping callback with the correct 'monitor' and 'patience'\n",
        "    \"\"\"\n",
        "    \n",
        "    return EarlyStopping(monitor='val_accuracy', patience=3)"
      ],
      "execution_count": 10,
      "outputs": []
    },
    {
      "cell_type": "code",
      "metadata": {
        "id": "zxPRDKwX9BJg"
      },
      "source": [
        "# Run this cell to create the callbacks\n",
        "\n",
        "checkpoint_every_epoch = get_checkpoint_every_epoch()\n",
        "checkpoint_best_only = get_checkpoint_best_only()\n",
        "early_stopping = get_early_stopping()"
      ],
      "execution_count": 11,
      "outputs": []
    },
    {
      "cell_type": "markdown",
      "metadata": {
        "id": "UQu7sLsy9BJl"
      },
      "source": [
        "#### Train model using the callbacks\n",
        "\n",
        "Now, you will train the model using the three callbacks you created. If you created the callbacks correctly, three things should happen:\n",
        "- At the end of every epoch, the model weights are saved into a directory called `checkpoints_every_epoch`\n",
        "- At the end of every epoch, the model weights are saved into a directory called `checkpoints_best_only` **only** if those weights lead to the highest test accuracy\n",
        "- Training stops when the testing accuracy has not improved in three epochs.\n",
        "\n",
        "You should then have two directories:\n",
        "- A directory called `checkpoints_every_epoch` containing filenames that include `checkpoint_001`, `checkpoint_002`, etc with the `001`, `002` corresponding to the epoch\n",
        "- A directory called `checkpoints_best_only` containing filenames that include `checkpoint`, which contain only the weights leading to the highest testing accuracy"
      ]
    },
    {
      "cell_type": "code",
      "metadata": {
        "id": "jJMzIa3L9BJm",
        "outputId": "5a5cbcdc-4e3c-4755-e072-ebcc237c17e9",
        "colab": {
          "base_uri": "https://localhost:8080/"
        }
      },
      "source": [
        "# Train model using the callbacks you just created\n",
        "\n",
        "callbacks = [checkpoint_every_epoch, checkpoint_best_only, \n",
        "    early_stopping]\n",
        "model.fit(x_train, y_train, epochs=50, \n",
        "    validation_data=(x_test, y_test), callbacks=callbacks)"
      ],
      "execution_count": 12,
      "outputs": [
        {
          "output_type": "stream",
          "text": [
            "Epoch 1/50\n",
            "119/125 [===========================>..] - ETA: 0s - loss: 2.0451 - accuracy: 0.2201\n",
            "Epoch 00001: saving model to checkpoints_every_epoch/checkpoint_001\n",
            "\n",
            "Epoch 00001: val_accuracy improved from -inf to 0.35500, saving model to checkpoints_best_only/checkpoint\n",
            "125/125 [==============================] - 1s 6ms/step - loss: 2.0289 - accuracy: 0.2265 - val_loss: 1.7207 - val_accuracy: 0.3550\n",
            "Epoch 2/50\n",
            "116/125 [==========================>...] - ETA: 0s - loss: 1.5171 - accuracy: 0.4459\n",
            "Epoch 00002: saving model to checkpoints_every_epoch/checkpoint_002\n",
            "\n",
            "Epoch 00002: val_accuracy improved from 0.35500 to 0.46000, saving model to checkpoints_best_only/checkpoint\n",
            "125/125 [==============================] - 1s 5ms/step - loss: 1.5047 - accuracy: 0.4502 - val_loss: 1.4856 - val_accuracy: 0.4600\n",
            "Epoch 3/50\n",
            "116/125 [==========================>...] - ETA: 0s - loss: 1.2982 - accuracy: 0.5296\n",
            "Epoch 00003: saving model to checkpoints_every_epoch/checkpoint_003\n",
            "\n",
            "Epoch 00003: val_accuracy improved from 0.46000 to 0.54000, saving model to checkpoints_best_only/checkpoint\n",
            "125/125 [==============================] - 1s 5ms/step - loss: 1.2966 - accuracy: 0.5328 - val_loss: 1.2463 - val_accuracy: 0.5400\n",
            "Epoch 4/50\n",
            "117/125 [===========================>..] - ETA: 0s - loss: 1.1785 - accuracy: 0.5638\n",
            "Epoch 00004: saving model to checkpoints_every_epoch/checkpoint_004\n",
            "\n",
            "Epoch 00004: val_accuracy improved from 0.54000 to 0.54100, saving model to checkpoints_best_only/checkpoint\n",
            "125/125 [==============================] - 1s 4ms/step - loss: 1.1794 - accuracy: 0.5642 - val_loss: 1.2004 - val_accuracy: 0.5410\n",
            "Epoch 5/50\n",
            "113/125 [==========================>...] - ETA: 0s - loss: 1.1257 - accuracy: 0.5882\n",
            "Epoch 00005: saving model to checkpoints_every_epoch/checkpoint_005\n",
            "\n",
            "Epoch 00005: val_accuracy improved from 0.54100 to 0.56900, saving model to checkpoints_best_only/checkpoint\n",
            "125/125 [==============================] - 1s 5ms/step - loss: 1.1188 - accuracy: 0.5905 - val_loss: 1.1283 - val_accuracy: 0.5690\n",
            "Epoch 6/50\n",
            "115/125 [==========================>...] - ETA: 0s - loss: 1.0530 - accuracy: 0.6128\n",
            "Epoch 00006: saving model to checkpoints_every_epoch/checkpoint_006\n",
            "\n",
            "Epoch 00006: val_accuracy improved from 0.56900 to 0.60400, saving model to checkpoints_best_only/checkpoint\n",
            "125/125 [==============================] - 1s 5ms/step - loss: 1.0527 - accuracy: 0.6148 - val_loss: 1.0730 - val_accuracy: 0.6040\n",
            "Epoch 7/50\n",
            "115/125 [==========================>...] - ETA: 0s - loss: 0.9967 - accuracy: 0.6397\n",
            "Epoch 00007: saving model to checkpoints_every_epoch/checkpoint_007\n",
            "\n",
            "Epoch 00007: val_accuracy did not improve from 0.60400\n",
            "125/125 [==============================] - 1s 4ms/step - loss: 1.0017 - accuracy: 0.6385 - val_loss: 1.1482 - val_accuracy: 0.5820\n",
            "Epoch 8/50\n",
            "114/125 [==========================>...] - ETA: 0s - loss: 0.9752 - accuracy: 0.6428\n",
            "Epoch 00008: saving model to checkpoints_every_epoch/checkpoint_008\n",
            "\n",
            "Epoch 00008: val_accuracy improved from 0.60400 to 0.62400, saving model to checkpoints_best_only/checkpoint\n",
            "125/125 [==============================] - 1s 5ms/step - loss: 0.9712 - accuracy: 0.6428 - val_loss: 1.0255 - val_accuracy: 0.6240\n",
            "Epoch 9/50\n",
            "113/125 [==========================>...] - ETA: 0s - loss: 0.8981 - accuracy: 0.6845\n",
            "Epoch 00009: saving model to checkpoints_every_epoch/checkpoint_009\n",
            "\n",
            "Epoch 00009: val_accuracy improved from 0.62400 to 0.65600, saving model to checkpoints_best_only/checkpoint\n",
            "125/125 [==============================] - 1s 5ms/step - loss: 0.9073 - accuracy: 0.6810 - val_loss: 0.9689 - val_accuracy: 0.6560\n",
            "Epoch 10/50\n",
            "113/125 [==========================>...] - ETA: 0s - loss: 0.8722 - accuracy: 0.6911\n",
            "Epoch 00010: saving model to checkpoints_every_epoch/checkpoint_010\n",
            "\n",
            "Epoch 00010: val_accuracy improved from 0.65600 to 0.67100, saving model to checkpoints_best_only/checkpoint\n",
            "125/125 [==============================] - 1s 5ms/step - loss: 0.8668 - accuracy: 0.6950 - val_loss: 0.9364 - val_accuracy: 0.6710\n",
            "Epoch 11/50\n",
            "114/125 [==========================>...] - ETA: 0s - loss: 0.8343 - accuracy: 0.6946\n",
            "Epoch 00011: saving model to checkpoints_every_epoch/checkpoint_011\n",
            "\n",
            "Epoch 00011: val_accuracy improved from 0.67100 to 0.68300, saving model to checkpoints_best_only/checkpoint\n",
            "125/125 [==============================] - 1s 5ms/step - loss: 0.8329 - accuracy: 0.6975 - val_loss: 0.9341 - val_accuracy: 0.6830\n",
            "Epoch 12/50\n",
            "115/125 [==========================>...] - ETA: 0s - loss: 0.7844 - accuracy: 0.7209\n",
            "Epoch 00012: saving model to checkpoints_every_epoch/checkpoint_012\n",
            "\n",
            "Epoch 00012: val_accuracy improved from 0.68300 to 0.69000, saving model to checkpoints_best_only/checkpoint\n",
            "125/125 [==============================] - 1s 5ms/step - loss: 0.7803 - accuracy: 0.7235 - val_loss: 0.8477 - val_accuracy: 0.6900\n",
            "Epoch 13/50\n",
            "115/125 [==========================>...] - ETA: 0s - loss: 0.7679 - accuracy: 0.7277\n",
            "Epoch 00013: saving model to checkpoints_every_epoch/checkpoint_013\n",
            "\n",
            "Epoch 00013: val_accuracy did not improve from 0.69000\n",
            "125/125 [==============================] - 1s 4ms/step - loss: 0.7733 - accuracy: 0.7275 - val_loss: 0.8784 - val_accuracy: 0.6770\n",
            "Epoch 14/50\n",
            "112/125 [=========================>....] - ETA: 0s - loss: 0.7436 - accuracy: 0.7369\n",
            "Epoch 00014: saving model to checkpoints_every_epoch/checkpoint_014\n",
            "\n",
            "Epoch 00014: val_accuracy did not improve from 0.69000\n",
            "125/125 [==============================] - 1s 4ms/step - loss: 0.7384 - accuracy: 0.7400 - val_loss: 0.8662 - val_accuracy: 0.6710\n",
            "Epoch 15/50\n",
            "115/125 [==========================>...] - ETA: 0s - loss: 0.7379 - accuracy: 0.7361\n",
            "Epoch 00015: saving model to checkpoints_every_epoch/checkpoint_015\n",
            "\n",
            "Epoch 00015: val_accuracy improved from 0.69000 to 0.71000, saving model to checkpoints_best_only/checkpoint\n",
            "125/125 [==============================] - 1s 5ms/step - loss: 0.7340 - accuracy: 0.7383 - val_loss: 0.8052 - val_accuracy: 0.7100\n",
            "Epoch 16/50\n",
            "113/125 [==========================>...] - ETA: 0s - loss: 0.6978 - accuracy: 0.7508\n",
            "Epoch 00016: saving model to checkpoints_every_epoch/checkpoint_016\n",
            "\n",
            "Epoch 00016: val_accuracy did not improve from 0.71000\n",
            "125/125 [==============================] - 1s 4ms/step - loss: 0.7009 - accuracy: 0.7500 - val_loss: 0.8581 - val_accuracy: 0.6890\n",
            "Epoch 17/50\n",
            "125/125 [==============================] - ETA: 0s - loss: 0.6775 - accuracy: 0.7640\n",
            "Epoch 00017: saving model to checkpoints_every_epoch/checkpoint_017\n",
            "\n",
            "Epoch 00017: val_accuracy did not improve from 0.71000\n",
            "125/125 [==============================] - 1s 5ms/step - loss: 0.6775 - accuracy: 0.7640 - val_loss: 0.7887 - val_accuracy: 0.7050\n",
            "Epoch 18/50\n",
            "114/125 [==========================>...] - ETA: 0s - loss: 0.6569 - accuracy: 0.7615\n",
            "Epoch 00018: saving model to checkpoints_every_epoch/checkpoint_018\n",
            "\n",
            "Epoch 00018: val_accuracy did not improve from 0.71000\n",
            "125/125 [==============================] - 1s 5ms/step - loss: 0.6537 - accuracy: 0.7628 - val_loss: 0.7999 - val_accuracy: 0.7050\n"
          ],
          "name": "stdout"
        },
        {
          "output_type": "execute_result",
          "data": {
            "text/plain": [
              "<tensorflow.python.keras.callbacks.History at 0x7fd1305cdfd0>"
            ]
          },
          "metadata": {
            "tags": []
          },
          "execution_count": 12
        }
      ]
    },
    {
      "cell_type": "markdown",
      "metadata": {
        "id": "HLoJL-dA9BJ2"
      },
      "source": [
        "#### Create new instance of model and load on both sets of weights\n",
        "\n",
        "Now you will use the weights you just saved in a fresh model. You should create two functions, both of which take a freshly instantiated model instance:\n",
        "- `model_last_epoch` should contain the weights from the latest saved epoch\n",
        "- `model_best_epoch` should contain the weights from the saved epoch with the highest testing accuracy\n",
        "\n",
        "_Hint: use the_ `tf.train.latest_checkpoint` _function to get the filename of the latest saved checkpoint file. Check the docs_ [_here_](https://www.tensorflow.org/api_docs/python/tf/train/latest_checkpoint)."
      ]
    },
    {
      "cell_type": "code",
      "metadata": {
        "id": "We-cU1MD9BJ4"
      },
      "source": [
        "from tensorflow.train import latest_checkpoint\n",
        "\n",
        "def get_model_last_epoch(model):\n",
        "    \"\"\"\n",
        "    This function should create a new instance of the CNN you created earlier,\n",
        "    load on the weights from the last training epoch, and return this model.\n",
        "    \"\"\"\n",
        "    \n",
        "    model.load_weights(latest_checkpoint(\"./checkpoints_every_epoch\"))\n",
        "    \n",
        "    return model\n",
        "    \n",
        "def get_model_best_epoch(model):\n",
        "    \"\"\"\n",
        "    This function should create a new instance of the CNN you created earlier, load \n",
        "    on the weights leading to the highest validation accuracy, and return this model.\n",
        "    \"\"\"\n",
        "    \n",
        "    model.load_weights(latest_checkpoint(\"./checkpoints_best_only\"))\n",
        "    \n",
        "    return model"
      ],
      "execution_count": 13,
      "outputs": []
    },
    {
      "cell_type": "code",
      "metadata": {
        "id": "u1cwlsW69BJ7",
        "outputId": "36587703-271d-447d-e312-421689f1a359",
        "colab": {
          "base_uri": "https://localhost:8080/"
        }
      },
      "source": [
        "# Run this cell to create two models: one with the weights from the last training\n",
        "# epoch, and one with the weights leading to the highest validation (testing) accuracy.\n",
        "# Verify that the second has a higher validation (testing) accuarcy.\n",
        "\n",
        "model_last_epoch = get_model_last_epoch(get_new_model(x_train[0].shape))\n",
        "model_best_epoch = get_model_best_epoch(get_new_model(x_train[0].shape))\n",
        "print('Model with last epoch weights:')\n",
        "get_test_accuracy(model_last_epoch, x_test, y_test)\n",
        "print('')\n",
        "print('Model with best epoch weights:')\n",
        "get_test_accuracy(model_best_epoch, x_test, y_test)"
      ],
      "execution_count": 14,
      "outputs": [
        {
          "output_type": "stream",
          "text": [
            "Model with last epoch weights:\n",
            "accuracy: 0.705\n",
            "\n",
            "Model with best epoch weights:\n",
            "accuracy: 0.710\n"
          ],
          "name": "stdout"
        }
      ]
    },
    {
      "cell_type": "markdown",
      "metadata": {
        "id": "RPwubdSB9BKA"
      },
      "source": [
        "#### Load, from scratch, a model trained on the EuroSat dataset.\n",
        "\n",
        "In your workspace, you will find another model trained on the `EuroSAT` dataset in `.h5` format. This model is trained on a larger subset of the EuroSAT dataset and has a more complex architecture. The path to the model is `models/EuroSatNet.h5`. See how its testing accuracy compares to your model!"
      ]
    },
    {
      "cell_type": "code",
      "metadata": {
        "id": "ii1vGCxbGqiL"
      },
      "source": [
        "import os\n",
        "\n",
        "model_dir = \"./model\"\n",
        "if not os.path.exists(model_dir):\n",
        "    os.makedirs(model_dir)\n",
        "\n",
        "! wget -qO ./model/EuroSatNet.h5 \"https://github.com/MengOonLee/Deep_learning/raw/master/TensorFlow2/Tutorial/model/EuroSatNet.h5\""
      ],
      "execution_count": 15,
      "outputs": []
    },
    {
      "cell_type": "code",
      "metadata": {
        "id": "v_thdPOY9BKB"
      },
      "source": [
        "from tensorflow.keras.models import load_model\n",
        "\n",
        "def get_model_eurosatnet():\n",
        "    \"\"\"\n",
        "    This function should return the pretrained EuroSatNet.h5 model.\n",
        "    \"\"\"\n",
        "    model = load_model('./model/EuroSatNet.h5')\n",
        "    return model"
      ],
      "execution_count": 16,
      "outputs": []
    },
    {
      "cell_type": "code",
      "metadata": {
        "id": "E11GgGPC9BKE",
        "outputId": "0c6f7618-ddeb-4893-ef7a-eae1237efbf9",
        "colab": {
          "base_uri": "https://localhost:8080/"
        }
      },
      "source": [
        "# Run this cell to print a summary of the EuroSatNet model, \n",
        "# along with its validation accuracy.\n",
        "\n",
        "model_eurosatnet = get_model_eurosatnet()\n",
        "model_eurosatnet.summary()\n",
        "get_test_accuracy(model_eurosatnet, x_test, y_test)"
      ],
      "execution_count": 17,
      "outputs": [
        {
          "output_type": "stream",
          "text": [
            "Model: \"sequential_21\"\n",
            "_________________________________________________________________\n",
            "Layer (type)                 Output Shape              Param #   \n",
            "=================================================================\n",
            "conv_1 (Conv2D)              (None, 64, 64, 16)        448       \n",
            "_________________________________________________________________\n",
            "conv_2 (Conv2D)              (None, 64, 64, 16)        6416      \n",
            "_________________________________________________________________\n",
            "pool_1 (MaxPooling2D)        (None, 32, 32, 16)        0         \n",
            "_________________________________________________________________\n",
            "conv_3 (Conv2D)              (None, 32, 32, 16)        2320      \n",
            "_________________________________________________________________\n",
            "conv_4 (Conv2D)              (None, 32, 32, 16)        6416      \n",
            "_________________________________________________________________\n",
            "pool_2 (MaxPooling2D)        (None, 16, 16, 16)        0         \n",
            "_________________________________________________________________\n",
            "conv_5 (Conv2D)              (None, 16, 16, 16)        2320      \n",
            "_________________________________________________________________\n",
            "conv_6 (Conv2D)              (None, 16, 16, 16)        6416      \n",
            "_________________________________________________________________\n",
            "pool_3 (MaxPooling2D)        (None, 8, 8, 16)          0         \n",
            "_________________________________________________________________\n",
            "conv_7 (Conv2D)              (None, 8, 8, 16)          2320      \n",
            "_________________________________________________________________\n",
            "conv_8 (Conv2D)              (None, 8, 8, 16)          6416      \n",
            "_________________________________________________________________\n",
            "pool_4 (MaxPooling2D)        (None, 4, 4, 16)          0         \n",
            "_________________________________________________________________\n",
            "flatten (Flatten)            (None, 256)               0         \n",
            "_________________________________________________________________\n",
            "dense_1 (Dense)              (None, 32)                8224      \n",
            "_________________________________________________________________\n",
            "dense_2 (Dense)              (None, 10)                330       \n",
            "=================================================================\n",
            "Total params: 41,626\n",
            "Trainable params: 41,626\n",
            "Non-trainable params: 0\n",
            "_________________________________________________________________\n",
            "accuracy: 0.080\n"
          ],
          "name": "stdout"
        }
      ]
    },
    {
      "cell_type": "code",
      "metadata": {
        "id": "uutxc3e69BKI"
      },
      "source": [
        "# Clear directory\n",
        "\n",
        "! rm -rf checkpoints_every_epoch checkpoints_best_only"
      ],
      "execution_count": 18,
      "outputs": []
    },
    {
      "cell_type": "markdown",
      "metadata": {
        "id": "muyCKmvY9BKL"
      },
      "source": [
        "Congratulations for completing this programming assignment! You're now ready to move on to the capstone project for this course."
      ]
    }
  ]
}