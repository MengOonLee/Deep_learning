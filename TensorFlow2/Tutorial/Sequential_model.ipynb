{
 "cells": [
  {
   "cell_type": "markdown",
   "metadata": {},
   "source": [
    "# The Sequential model API\n",
    "\n",
    "## Coding tutorials\n",
    "#### [1. Building a Sequential model](#coding_tutorial_1)\n",
    "#### [2. Convolutional and pooling layers](#coding_tutorial_2)\n",
    "#### [3. The compile method](#coding_tutorial_3)\n",
    "#### [4. The fit method](#coding_tutorial_4)\n",
    "#### [5. The evaluate and predict methods](#coding_tutorial_5)"
   ]
  },
  {
   "cell_type": "code",
   "execution_count": 1,
   "metadata": {},
   "outputs": [
    {
     "name": "stdout",
     "output_type": "stream",
     "text": [
      "2.2.0\n"
     ]
    }
   ],
   "source": [
    "import tensorflow as tf\n",
    "print(tf.__version__)\n",
    "# Check GPU available\n",
    "gpus = tf.config.list_physical_devices('GPU')\n",
    "if gpus:\n",
    "    try:\n",
    "        for gpu in gpus:\n",
    "            tf.config.experimental.set_memory_growth(gpu, True)\n",
    "    except RuntimeError as e:\n",
    "        print(e)\n",
    "# config = tf.compat.v1.ConfigProto()\n",
    "# config.gpu_options.allow_growth = True\n",
    "# session = tf.compat.v1.InteractiveSession(config=config)\n",
    "# tf.config.list_physical_devices('GPU')"
   ]
  },
  {
   "cell_type": "markdown",
   "metadata": {},
   "source": [
    "***\n",
    "## Load the data"
   ]
  },
  {
   "cell_type": "code",
   "execution_count": 2,
   "metadata": {},
   "outputs": [
    {
     "name": "stdout",
     "output_type": "stream",
     "text": [
      "Train data shape: (60000, 28, 28)\n",
      "Train label at 0: 9\n"
     ]
    }
   ],
   "source": [
    "from tensorflow.keras.preprocessing import image\n",
    "\n",
    "# Load the Fashion-MNIST data\n",
    "fashion_mnist_data = tf.keras.datasets.fashion_mnist\n",
    "(train_images, train_labels), (test_images, test_labels) = fashion_mnist_data.load_data()\n",
    "\n",
    "# Print the shape of the training data\n",
    "print(\"Train data shape: {}\".format(train_images.shape))\n",
    "\n",
    "# Define the labels\n",
    "labels = ['T-shirt/top', 'Trouser', 'Pullover', 'Dress', 'Coat', \n",
    "    'Sandal', 'Shirt', 'Sneaker', 'Bag', 'Ankle boot']\n",
    "print(\"Train label at 0:\", train_labels[0])"
   ]
  },
  {
   "cell_type": "code",
   "execution_count": 3,
   "metadata": {},
   "outputs": [],
   "source": [
    "# Rescale the image values so that they lie in between 0 and 1\n",
    "train_images = train_images / 255.\n",
    "test_images = test_images / 255."
   ]
  },
  {
   "cell_type": "code",
   "execution_count": 4,
   "metadata": {},
   "outputs": [
    {
     "name": "stdout",
     "output_type": "stream",
     "text": [
      "label: Coat\n"
     ]
    },
    {
     "data": {
      "image/png": "[encoded data removed]",
      "text/plain": [
       "<Figure size 432x288 with 1 Axes>"
      ]
     },
     "metadata": {
      "needs_background": "light"
     },
     "output_type": "display_data"
    }
   ],
   "source": [
    "import matplotlib.pyplot as plt\n",
    "%matplotlib inline\n",
    "\n",
    "# Display one of the images\n",
    "i = 24\n",
    "img = train_images[i,:,:]\n",
    "print(f\"label: {labels[train_labels[i]]}\")\n",
    "plt.imshow(img)\n",
    "plt.show()"
   ]
  },
  {
   "cell_type": "markdown",
   "metadata": {},
   "source": [
    "***\n",
    "<a id=\"coding_tutorial_1\"></a>\n",
    "## Building a Sequential model\n",
    "\n",
    "#### Build a feedforward neural network model"
   ]
  },
  {
   "cell_type": "code",
   "execution_count": 19,
   "metadata": {},
   "outputs": [
    {
     "name": "stdout",
     "output_type": "stream",
     "text": [
      "Model: \"sequential_2\"\n",
      "_________________________________________________________________\n",
      "Layer (type)                 Output Shape              Param #   \n",
      "=================================================================\n",
      "flatten_2 (Flatten)          (None, 784)               0         \n",
      "_________________________________________________________________\n",
      "layer_1 (Dense)              (None, 16)                12560     \n",
      "_________________________________________________________________\n",
      "dense_3 (Dense)              (None, 16)                272       \n",
      "_________________________________________________________________\n",
      "dense_4 (Dense)              (None, 10)                170       \n",
      "=================================================================\n",
      "Total params: 13,002\n",
      "Trainable params: 13,002\n",
      "Non-trainable params: 0\n",
      "_________________________________________________________________\n"
     ]
    }
   ],
   "source": [
    "from tensorflow.keras.models import Sequential\n",
    "from tensorflow.keras.layers import Dense, Flatten\n",
    "\n",
    "# Build the sequential feedforward neural network model\n",
    "\n",
    "model = Sequential()\n",
    "model.add(Flatten(input_shape=(28,28)))\n",
    "model.add(Dense(16, activation='relu', name='layer_1'))\n",
    "model.add(Dense(16, activation='sigmoid'))\n",
    "model.add(Dense(10, activation='softmax'))\n",
    "\n",
    "# Print the model summary\n",
    "model.summary()"
   ]
  },
  {
   "cell_type": "code",
   "execution_count": 20,
   "metadata": {},
   "outputs": [
    {
     "data": {
      "text/plain": [
       "[<tf.Variable 'layer_1_1/kernel:0' shape=(784, 16) dtype=float32, numpy=\n",
       " array([[-8.00086483e-02,  3.92430127e-02,  6.03000224e-02, ...,\n",
       "         -5.54770231e-05,  8.10685158e-02,  2.75704637e-02],\n",
       "        [-7.32537881e-02, -1.30039155e-02,  2.04060748e-02, ...,\n",
       "          4.66277450e-02,  6.96682632e-02, -1.11760795e-02],\n",
       "        [ 5.73785603e-03,  2.93411314e-03,  7.01201558e-02, ...,\n",
       "         -3.78265642e-02,  7.08384663e-02,  7.97281265e-02],\n",
       "        ...,\n",
       "        [ 6.33529425e-02,  8.13919753e-02, -3.54018286e-02, ...,\n",
       "         -5.15392497e-02,  4.45084125e-02, -6.30342737e-02],\n",
       "        [ 5.70297688e-02,  6.92313313e-02, -8.60603079e-02, ...,\n",
       "          6.43066019e-02,  4.48812842e-02,  7.87836909e-02],\n",
       "        [ 2.59600282e-02, -6.78908080e-02,  4.97385710e-02, ...,\n",
       "          4.65915352e-02, -8.36766213e-02, -1.53309256e-02]], dtype=float32)>,\n",
       " <tf.Variable 'layer_1_1/bias:0' shape=(16,) dtype=float32, numpy=\n",
       " array([0., 0., 0., 0., 0., 0., 0., 0., 0., 0., 0., 0., 0., 0., 0., 0.],\n",
       "       dtype=float32)>,\n",
       " <tf.Variable 'dense_3/kernel:0' shape=(16, 16) dtype=float32, numpy=\n",
       " array([[ 3.48533392e-02, -3.53585780e-02,  1.60998851e-01,\n",
       "         -2.36408308e-01, -8.89960229e-02,  1.99077040e-01,\n",
       "          3.52915823e-02,  3.93057436e-01, -3.04255366e-01,\n",
       "         -1.53147876e-01,  4.15251285e-01,  1.32852584e-01,\n",
       "         -4.23525572e-02, -1.49216771e-01,  2.69865364e-01,\n",
       "         -2.64910430e-01],\n",
       "        [-2.53020465e-01,  8.42115581e-02,  2.55507529e-02,\n",
       "          3.41518790e-01, -2.67806351e-02, -4.25854355e-01,\n",
       "         -1.53522640e-01, -8.47860873e-02, -3.08816642e-01,\n",
       "          8.24120939e-02,  2.21192330e-01, -1.99741066e-01,\n",
       "         -3.16472471e-01, -7.50468969e-02,  9.75838304e-03,\n",
       "          3.52682471e-02],\n",
       "        [ 3.83143038e-01, -2.28960901e-01,  3.24335605e-01,\n",
       "          3.25711995e-01,  3.71976048e-01, -4.28917706e-02,\n",
       "          1.59444064e-01,  3.33542228e-02,  2.87453860e-01,\n",
       "          2.29567856e-01,  1.44429535e-01,  5.55605590e-02,\n",
       "          4.21228260e-01, -1.54049098e-02,  3.96352261e-01,\n",
       "          3.58952433e-01],\n",
       "        [-3.15312594e-01,  6.49349093e-02, -1.95202202e-01,\n",
       "         -1.46872997e-02,  2.74347156e-01,  1.15698427e-01,\n",
       "          8.81652534e-02,  3.44956309e-01, -1.69473469e-01,\n",
       "         -2.93768108e-01,  2.22571582e-01, -8.26655626e-02,\n",
       "          2.85296053e-01, -3.79466832e-01,  2.99288183e-01,\n",
       "          3.07067931e-02],\n",
       "        [-1.54450864e-01, -1.76896602e-01, -2.20721364e-02,\n",
       "         -1.94663912e-01, -3.36122036e-01, -2.19391242e-01,\n",
       "          2.51872271e-01, -3.27030152e-01, -1.03194386e-01,\n",
       "         -1.94828376e-01, -4.99583483e-02,  2.69741088e-01,\n",
       "          4.01633412e-01,  4.17814702e-01,  1.39594465e-01,\n",
       "         -4.05021280e-01],\n",
       "        [-3.66021991e-01,  7.93952048e-02,  2.70182699e-01,\n",
       "          3.22423846e-01,  1.82864636e-01,  1.29392773e-01,\n",
       "         -3.33018482e-01,  4.12974149e-01,  1.09475404e-01,\n",
       "         -2.52310097e-01,  1.37770176e-03,  1.77413195e-01,\n",
       "         -3.98710847e-01,  6.72453940e-02,  4.23865348e-01,\n",
       "         -2.01488793e-01],\n",
       "        [ 1.10617429e-01, -8.12795758e-03, -2.20688730e-01,\n",
       "         -1.68803334e-01,  1.60722047e-01, -1.78658277e-01,\n",
       "          3.77315968e-01,  3.94789279e-02,  3.70529920e-01,\n",
       "          2.29638964e-01,  1.57028705e-01,  1.60822302e-01,\n",
       "          2.77777910e-02,  9.88865793e-02,  1.40300691e-02,\n",
       "          4.27243203e-01],\n",
       "        [ 4.64338958e-02, -6.98003173e-02,  1.80418819e-01,\n",
       "          1.79360718e-01,  3.64995629e-01,  3.18692297e-01,\n",
       "         -1.61790073e-01, -5.88477850e-02, -1.42019302e-01,\n",
       "         -4.09571618e-01, -1.46355331e-01,  1.17244095e-01,\n",
       "          4.16134000e-02,  3.09575766e-01,  2.53111333e-01,\n",
       "          3.35046619e-01],\n",
       "        [-4.23142910e-01, -2.64857054e-01,  2.42561609e-01,\n",
       "          2.91981786e-01,  3.50799114e-01, -1.50570869e-02,\n",
       "          1.34390324e-01,  3.14111322e-01,  2.33574510e-02,\n",
       "          1.13741755e-02, -2.07919806e-01, -3.77250910e-01,\n",
       "         -1.51302606e-01, -1.07971013e-01,  2.26550370e-01,\n",
       "          1.79144293e-01],\n",
       "        [ 2.84748107e-01,  3.04078430e-01, -1.83874488e-01,\n",
       "          3.66740137e-01,  3.09508055e-01,  4.16674942e-01,\n",
       "         -1.96180075e-01, -2.64470428e-01,  3.15502375e-01,\n",
       "          1.34214371e-01,  3.36315483e-01, -1.59534097e-01,\n",
       "         -1.91142872e-01,  3.75875682e-01, -4.09906000e-01,\n",
       "         -3.68917733e-01],\n",
       "        [ 1.64491504e-01, -3.61478329e-03,  3.19448918e-01,\n",
       "          8.45298469e-02,  2.02976137e-01,  4.17109162e-01,\n",
       "         -3.73276442e-01,  4.30334061e-01, -1.84211656e-01,\n",
       "          3.12717706e-01, -3.31276655e-01, -4.05959815e-01,\n",
       "         -1.57695234e-01, -1.30868345e-01, -4.24026638e-01,\n",
       "          8.51978958e-02],\n",
       "        [ 2.49776840e-02,  8.70908797e-02, -8.37402642e-02,\n",
       "         -2.89098322e-01, -3.13126743e-01,  3.56903404e-01,\n",
       "          3.80302936e-01, -3.20902765e-02,  2.83499926e-01,\n",
       "          7.65483081e-02, -1.99334726e-01,  3.80529970e-01,\n",
       "         -3.36227238e-01,  2.16226965e-01, -3.25187564e-01,\n",
       "          3.12133402e-01],\n",
       "        [ 7.81008601e-03,  4.20524269e-01, -8.65185261e-02,\n",
       "          2.82505006e-01,  3.58058184e-01, -4.09005761e-01,\n",
       "         -4.23128039e-01,  1.40945762e-01, -2.03342021e-01,\n",
       "         -9.73813534e-02, -1.86485171e-01, -4.21937406e-01,\n",
       "         -3.88591230e-01,  2.93935686e-01,  1.05317503e-01,\n",
       "          2.83977121e-01],\n",
       "        [-1.78626150e-01, -3.53230476e-01,  2.47338742e-01,\n",
       "         -4.36339676e-02,  2.86980480e-01, -2.22854987e-01,\n",
       "          1.48653984e-04,  3.61564159e-02,  1.93766266e-01,\n",
       "          3.73815596e-02,  2.58841485e-01,  3.30649585e-01,\n",
       "         -3.14811468e-01, -2.46692911e-01,  2.64287680e-01,\n",
       "         -1.58505321e-01],\n",
       "        [ 1.75341755e-01,  3.64150673e-01, -3.22101772e-01,\n",
       "         -3.16279739e-01,  3.72819096e-01,  9.50217545e-02,\n",
       "         -3.33050072e-01,  2.00611651e-02,  4.07374829e-01,\n",
       "         -1.07754529e-01,  9.02207792e-02,  2.11660773e-01,\n",
       "         -3.61990958e-01, -2.65058696e-01,  2.87441462e-01,\n",
       "          2.70058423e-01],\n",
       "        [-3.59413296e-01, -2.09374234e-01,  1.99816138e-01,\n",
       "          3.22946995e-01,  2.98009962e-01, -1.51047915e-01,\n",
       "         -3.05752456e-02, -1.02046579e-01, -3.42494726e-01,\n",
       "          2.62444824e-01,  1.88072950e-01,  3.10021311e-01,\n",
       "          4.02103156e-01,  2.73964733e-01, -9.34502482e-02,\n",
       "          1.11343533e-01]], dtype=float32)>,\n",
       " <tf.Variable 'dense_3/bias:0' shape=(16,) dtype=float32, numpy=\n",
       " array([0., 0., 0., 0., 0., 0., 0., 0., 0., 0., 0., 0., 0., 0., 0., 0.],\n",
       "       dtype=float32)>,\n",
       " <tf.Variable 'dense_4/kernel:0' shape=(16, 10) dtype=float32, numpy=\n",
       " array([[ 0.05121452, -0.06041226, -0.46787488, -0.45536676,  0.26935625,\n",
       "          0.0348556 ,  0.3597018 , -0.28194028,  0.11965412,  0.1651215 ],\n",
       "        [-0.32186222, -0.08839291,  0.14454377, -0.04688883, -0.41330376,\n",
       "         -0.28466696,  0.10740215, -0.25350952, -0.19186935, -0.2048926 ],\n",
       "        [-0.1511868 , -0.116979  ,  0.07337338, -0.22327933, -0.05975199,\n",
       "         -0.41651136, -0.24227157, -0.09566894,  0.10614377, -0.34089318],\n",
       "        [-0.0050289 ,  0.22413534,  0.14840835,  0.15121704, -0.184706  ,\n",
       "          0.31205398,  0.36684978,  0.3137368 ,  0.27706063,  0.39555627],\n",
       "        [-0.24638616, -0.06918156, -0.37473047,  0.2431615 ,  0.17637295,\n",
       "         -0.08621407,  0.3104313 , -0.47800323,  0.15515935, -0.3044504 ],\n",
       "        [-0.37094286,  0.46821976,  0.33765513, -0.11366925, -0.40332076,\n",
       "          0.4605047 , -0.35998747,  0.10872692, -0.4586416 , -0.45690495],\n",
       "        [ 0.16506857, -0.08486933, -0.17039758, -0.02740523, -0.24981251,\n",
       "          0.3592853 , -0.45654702,  0.36113268, -0.3753165 ,  0.04060823],\n",
       "        [ 0.33943045,  0.3425002 , -0.36184004,  0.26846403, -0.10022265,\n",
       "         -0.05517939, -0.26486486,  0.03292447,  0.25769776, -0.39389554],\n",
       "        [ 0.04942173,  0.3985294 ,  0.19842702,  0.38859737, -0.01005584,\n",
       "          0.00787055, -0.26384276,  0.21561354, -0.14147866, -0.1815488 ],\n",
       "        [ 0.12296653, -0.28507608,  0.2503643 ,  0.11340111,  0.36954486,\n",
       "         -0.32797354, -0.4663738 , -0.38127485,  0.33645803, -0.42378923],\n",
       "        [-0.00308424, -0.45883918, -0.10850015,  0.36206877,  0.454233  ,\n",
       "         -0.0760439 ,  0.14693934, -0.3252509 ,  0.22642577, -0.03167707],\n",
       "        [ 0.40728956, -0.3465938 ,  0.15670508, -0.01642936,  0.0429008 ,\n",
       "         -0.09564319,  0.03627431, -0.35510483, -0.28002596, -0.07941908],\n",
       "        [-0.3330053 ,  0.08991599, -0.15394232, -0.42750055,  0.45635575,\n",
       "         -0.13997966,  0.22913057,  0.16661423, -0.3689075 , -0.297531  ],\n",
       "        [ 0.36282557,  0.06980407, -0.38528886, -0.01532206,  0.4287368 ,\n",
       "         -0.08620238, -0.1649253 ,  0.22321677, -0.14542592,  0.0416013 ],\n",
       "        [ 0.47484958,  0.10297292, -0.44974494, -0.272885  ,  0.11717129,\n",
       "          0.4688884 ,  0.22766787,  0.04562932,  0.17317808, -0.37800667],\n",
       "        [ 0.0164462 , -0.29597878, -0.024809  , -0.25708556, -0.4711527 ,\n",
       "          0.04943079, -0.13278517, -0.29526043,  0.32920384,  0.00656065]],\n",
       "       dtype=float32)>,\n",
       " <tf.Variable 'dense_4/bias:0' shape=(10,) dtype=float32, numpy=array([0., 0., 0., 0., 0., 0., 0., 0., 0., 0.], dtype=float32)>]"
      ]
     },
     "execution_count": 20,
     "metadata": {},
     "output_type": "execute_result"
    }
   ],
   "source": [
    "model.weights"
   ]
  },
  {
   "cell_type": "markdown",
   "metadata": {},
   "source": [
    "***\n",
    "<a id=\"coding_tutorial_3\"></a>\n",
    "## The compile method\n",
    "\n",
    "#### Compile the model"
   ]
  },
  {
   "cell_type": "code",
   "execution_count": 6,
   "metadata": {},
   "outputs": [
    {
     "name": "stdout",
     "output_type": "stream",
     "text": [
      "sparse_categorical_crossentropy\n",
      "<tensorflow.python.keras.optimizer_v2.adam.Adam object at 0x7f44569fec10>\n",
      "[]\n",
      "<tf.Variable 'learning_rate:0' shape=() dtype=float32, numpy=0.005>\n"
     ]
    }
   ],
   "source": [
    "# Define the model optimizer, loss function and metrics\n",
    "opt = tf.keras.optimizers.Adam(learning_rate=5e-3)\n",
    "acc = tf.keras.metrics.SparseCategoricalAccuracy()\n",
    "topk = tf.keras.metrics.SparseTopKCategoricalAccuracy()\n",
    "\n",
    "model.compile(optimizer=opt,\n",
    "    loss='sparse_categorical_crossentropy',\n",
    "    metrics=[acc, topk])\n",
    "\n",
    "# Print the resulting model attributes\n",
    "print(model.loss)\n",
    "print(model.optimizer)\n",
    "print(model.metrics)\n",
    "print(model.optimizer.lr)"
   ]
  },
  {
   "cell_type": "code",
   "execution_count": 7,
   "metadata": {},
   "outputs": [
    {
     "name": "stdout",
     "output_type": "stream",
     "text": [
      "Epoch 1/8\n",
      "1875/1875 - 4s - loss: 0.6096 - sparse_categorical_accuracy: 0.7942 - sparse_top_k_categorical_accuracy: 0.9912\n",
      "Epoch 2/8\n",
      "1875/1875 - 4s - loss: 0.4470 - sparse_categorical_accuracy: 0.8399 - sparse_top_k_categorical_accuracy: 0.9963\n",
      "Epoch 3/8\n",
      "1875/1875 - 4s - loss: 0.4233 - sparse_categorical_accuracy: 0.8480 - sparse_top_k_categorical_accuracy: 0.9963\n",
      "Epoch 4/8\n",
      "1875/1875 - 4s - loss: 0.4077 - sparse_categorical_accuracy: 0.8544 - sparse_top_k_categorical_accuracy: 0.9966\n",
      "Epoch 5/8\n",
      "1875/1875 - 4s - loss: 0.4015 - sparse_categorical_accuracy: 0.8557 - sparse_top_k_categorical_accuracy: 0.9969\n",
      "Epoch 6/8\n",
      "1875/1875 - 4s - loss: 0.3912 - sparse_categorical_accuracy: 0.8595 - sparse_top_k_categorical_accuracy: 0.9970\n",
      "Epoch 7/8\n",
      "1875/1875 - 4s - loss: 0.3903 - sparse_categorical_accuracy: 0.8596 - sparse_top_k_categorical_accuracy: 0.9969\n",
      "Epoch 8/8\n",
      "1875/1875 - 4s - loss: 0.3842 - sparse_categorical_accuracy: 0.8631 - sparse_top_k_categorical_accuracy: 0.9970\n"
     ]
    }
   ],
   "source": [
    "import numpy as np \n",
    "\n",
    "# Fit the model\n",
    "history = model.fit(train_images, train_labels,\n",
    "    epochs=8, batch_size=32, verbose=2)"
   ]
  },
  {
   "cell_type": "code",
   "execution_count": 8,
   "metadata": {},
   "outputs": [
    {
     "name": "stdout",
     "output_type": "stream",
     "text": [
      "       loss  sparse_categorical_accuracy  sparse_top_k_categorical_accuracy\n",
      "0  0.609553                     0.794167                           0.991200\n",
      "1  0.447030                     0.839917                           0.996317\n",
      "2  0.423309                     0.848017                           0.996350\n",
      "3  0.407675                     0.854400                           0.996650\n",
      "4  0.401496                     0.855667                           0.996867\n"
     ]
    },
    {
     "data": {
      "image/png": "[encoded data removed]",
      "text/plain": [
       "<Figure size 432x288 with 1 Axes>"
      ]
     },
     "metadata": {
      "needs_background": "light"
     },
     "output_type": "display_data"
    },
    {
     "data": {
      "image/png": "[encoded data removed]",
      "text/plain": [
       "<Figure size 432x288 with 1 Axes>"
      ]
     },
     "metadata": {
      "needs_background": "light"
     },
     "output_type": "display_data"
    },
    {
     "data": {
      "image/png": "[encoded data removed]",
      "text/plain": [
       "<Figure size 432x288 with 1 Axes>"
      ]
     },
     "metadata": {
      "needs_background": "light"
     },
     "output_type": "display_data"
    }
   ],
   "source": [
    "# Plot training history\n",
    "import pandas as pd\n",
    "\n",
    "# Load the history into a pandas Dataframe\n",
    "df = pd.DataFrame(history.history)\n",
    "print(df.head())\n",
    "\n",
    "# Make a plot for the loss\n",
    "loss_plot = df.plot(y=\"loss\", title=\"Loss vs Epochs\", legend=False)\n",
    "loss_plot.set(xlabel=\"Epochs\", ylabel=\"Loss\")\n",
    "plt.show()\n",
    "\n",
    "# Make a plot for the accuracy\n",
    "acc_plot = df.plot(y=\"sparse_categorical_accuracy\",\n",
    "    title=\"Accuracy vs Epochs\", legend=False)\n",
    "acc_plot.set(xlabel=\"Epochs\", ylabel=\"Accuracy\")\n",
    "plt.show()\n",
    "\n",
    "# Make a plot for the topK\n",
    "topk_plot = df.plot(y=\"sparse_top_k_categorical_accuracy\",\n",
    "    title=\"TopK vs Epochs\", legend=False)\n",
    "acc_plot.set(xlabel=\"Epochs\", ylabel=\"TopK\")\n",
    "plt.show()"
   ]
  },
  {
   "cell_type": "markdown",
   "metadata": {},
   "source": [
    "***\n",
    "<a id=\"coding_tutorial_5\"></a>\n",
    "## The evaluate and predict methods\n",
    "#### Evaluate the model on the test set"
   ]
  },
  {
   "cell_type": "code",
   "execution_count": 9,
   "metadata": {},
   "outputs": [
    {
     "name": "stdout",
     "output_type": "stream",
     "text": [
      "313/313 - 1s - loss: 0.4254 - sparse_categorical_accuracy: 0.8494 - sparse_top_k_categorical_accuracy: 0.9958\n"
     ]
    }
   ],
   "source": [
    "# Evaluate the model\n",
    "test_loss, test_acc, test_topk = model.evaluate(test_images, \n",
    "    test_labels, verbose=2)"
   ]
  },
  {
   "cell_type": "markdown",
   "metadata": {},
   "source": [
    "#### Make predictions from the model"
   ]
  },
  {
   "cell_type": "code",
   "execution_count": 12,
   "metadata": {},
   "outputs": [
    {
     "data": {
      "image/png": "[encoded data removed]",
      "text/plain": [
       "<Figure size 432x288 with 1 Axes>"
      ]
     },
     "metadata": {
      "needs_background": "light"
     },
     "output_type": "display_data"
    },
    {
     "name": "stdout",
     "output_type": "stream",
     "text": [
      "Label: Pullover\n",
      "Model predictions: Coat\n"
     ]
    }
   ],
   "source": [
    "# Choose a random test image\n",
    "\n",
    "random_idx = np.random.choice(test_images.shape[0])\n",
    "test_image = test_images[random_idx]\n",
    "plt.imshow(test_image)\n",
    "plt.show()\n",
    "print(f\"Label: {labels[test_labels[random_idx]]}\")\n",
    "\n",
    "# Get the model predictions\n",
    "pred = model.predict(test_image[np.newaxis,...])\n",
    "print(f\"Model predictions: {labels[np.argmax(pred)]}\")"
   ]
  },
  {
   "cell_type": "markdown",
   "metadata": {},
   "source": [
    "***\n",
    "<a id=\"coding_tutorial_2\"></a>\n",
    "## Convolution and pooling layers\n",
    "#### Build a convolutional neural network model"
   ]
  },
  {
   "cell_type": "code",
   "execution_count": 13,
   "metadata": {},
   "outputs": [
    {
     "name": "stdout",
     "output_type": "stream",
     "text": [
      "Model: \"sequential_1\"\n",
      "_________________________________________________________________\n",
      "Layer (type)                 Output Shape              Param #   \n",
      "=================================================================\n",
      "conv2d (Conv2D)              (None, 26, 26, 16)        160       \n",
      "_________________________________________________________________\n",
      "max_pooling2d (MaxPooling2D) (None, 8, 8, 16)          0         \n",
      "_________________________________________________________________\n",
      "flatten_1 (Flatten)          (None, 1024)              0         \n",
      "_________________________________________________________________\n",
      "dense_2 (Dense)              (None, 10)                10250     \n",
      "=================================================================\n",
      "Total params: 10,410\n",
      "Trainable params: 10,410\n",
      "Non-trainable params: 0\n",
      "_________________________________________________________________\n"
     ]
    }
   ],
   "source": [
    "from tensorflow.keras.models import Sequential\n",
    "from tensorflow.keras.layers import Conv2D, MaxPooling2D, Dense, Flatten\n",
    "\n",
    "# Build the Sequential convolutional neural network model\n",
    "\n",
    "model = Sequential([\n",
    "    Conv2D(16, (3,3), activation='relu', input_shape=(28,28,1)),\n",
    "    MaxPooling2D((3,3)),\n",
    "    Flatten(),\n",
    "    Dense(10, activation='softmax')])\n",
    "\n",
    "# Print the model summary\n",
    "model.summary()"
   ]
  },
  {
   "cell_type": "markdown",
   "metadata": {},
   "source": [
    "***\n",
    "<a id=\"coding_tutorial_3\"></a>\n",
    "## The compile method\n",
    "\n",
    "#### Compile the model"
   ]
  },
  {
   "cell_type": "code",
   "execution_count": 14,
   "metadata": {},
   "outputs": [
    {
     "name": "stdout",
     "output_type": "stream",
     "text": [
      "sparse_categorical_crossentropy\n",
      "<tensorflow.python.keras.optimizer_v2.adam.Adam object at 0x7f44380669a0>\n",
      "[]\n",
      "<tf.Variable 'learning_rate:0' shape=() dtype=float32, numpy=0.005>\n"
     ]
    }
   ],
   "source": [
    "# Define the model optimizer, loss function and metrics\n",
    "opt = tf.keras.optimizers.Adam(learning_rate=5e-3)\n",
    "acc = tf.keras.metrics.SparseCategoricalAccuracy()\n",
    "topk = tf.keras.metrics.SparseTopKCategoricalAccuracy()\n",
    "\n",
    "model.compile(optimizer=opt,\n",
    "    loss='sparse_categorical_crossentropy',\n",
    "    metrics=[acc, topk])\n",
    "\n",
    "# Print the resulting model attributes\n",
    "print(model.loss)\n",
    "print(model.optimizer)\n",
    "print(model.metrics)\n",
    "print(model.optimizer.lr)"
   ]
  },
  {
   "cell_type": "code",
   "execution_count": 15,
   "metadata": {},
   "outputs": [
    {
     "name": "stdout",
     "output_type": "stream",
     "text": [
      "Epoch 1/8\n",
      "1875/1875 - 4s - loss: 0.4438 - sparse_categorical_accuracy: 0.8414 - sparse_top_k_categorical_accuracy: 0.9952\n",
      "Epoch 2/8\n",
      "1875/1875 - 4s - loss: 0.3398 - sparse_categorical_accuracy: 0.8787 - sparse_top_k_categorical_accuracy: 0.9977\n",
      "Epoch 3/8\n",
      "1875/1875 - 4s - loss: 0.3120 - sparse_categorical_accuracy: 0.8882 - sparse_top_k_categorical_accuracy: 0.9985\n",
      "Epoch 4/8\n",
      "1875/1875 - 4s - loss: 0.2958 - sparse_categorical_accuracy: 0.8928 - sparse_top_k_categorical_accuracy: 0.9988\n",
      "Epoch 5/8\n",
      "1875/1875 - 4s - loss: 0.2863 - sparse_categorical_accuracy: 0.8949 - sparse_top_k_categorical_accuracy: 0.9991\n",
      "Epoch 6/8\n",
      "1875/1875 - 4s - loss: 0.2723 - sparse_categorical_accuracy: 0.9009 - sparse_top_k_categorical_accuracy: 0.9991\n",
      "Epoch 7/8\n",
      "1875/1875 - 4s - loss: 0.2660 - sparse_categorical_accuracy: 0.9025 - sparse_top_k_categorical_accuracy: 0.9994\n",
      "Epoch 8/8\n",
      "1875/1875 - 4s - loss: 0.2605 - sparse_categorical_accuracy: 0.9055 - sparse_top_k_categorical_accuracy: 0.9994\n"
     ]
    }
   ],
   "source": [
    "import numpy as np \n",
    "\n",
    "# Fit the model\n",
    "history = model.fit(train_images[...,np.newaxis], train_labels,\n",
    "    epochs=8, batch_size=32, verbose=2)"
   ]
  },
  {
   "cell_type": "code",
   "execution_count": 16,
   "metadata": {},
   "outputs": [
    {
     "name": "stdout",
     "output_type": "stream",
     "text": [
      "       loss  sparse_categorical_accuracy  sparse_top_k_categorical_accuracy\n",
      "0  0.443782                     0.841417                           0.995217\n",
      "1  0.339793                     0.878667                           0.997700\n",
      "2  0.311964                     0.888233                           0.998550\n",
      "3  0.295822                     0.892817                           0.998817\n",
      "4  0.286278                     0.894850                           0.999067\n"
     ]
    },
    {
     "data": {
      "image/png": "[encoded data removed]",
      "text/plain": [
       "<Figure size 432x288 with 1 Axes>"
      ]
     },
     "metadata": {
      "needs_background": "light"
     },
     "output_type": "display_data"
    },
    {
     "data": {
      "image/png": "[encoded data removed]",
      "text/plain": [
       "<Figure size 432x288 with 1 Axes>"
      ]
     },
     "metadata": {
      "needs_background": "light"
     },
     "output_type": "display_data"
    },
    {
     "data": {
      "image/png": "[encoded data removed]",
      "text/plain": [
       "<Figure size 432x288 with 1 Axes>"
      ]
     },
     "metadata": {
      "needs_background": "light"
     },
     "output_type": "display_data"
    }
   ],
   "source": [
    "# Plot training history\n",
    "import pandas as pd\n",
    "\n",
    "# Load the history into a pandas Dataframe\n",
    "df = pd.DataFrame(history.history)\n",
    "print(df.head())\n",
    "\n",
    "# Make a plot for the loss\n",
    "loss_plot = df.plot(y=\"loss\", title=\"Loss vs Epochs\", legend=False)\n",
    "loss_plot.set(xlabel=\"Epochs\", ylabel=\"Loss\")\n",
    "plt.show()\n",
    "\n",
    "# Make a plot for the accuracy\n",
    "acc_plot = df.plot(y=\"sparse_categorical_accuracy\",\n",
    "    title=\"Accuracy vs Epochs\", legend=False)\n",
    "acc_plot.set(xlabel=\"Epochs\", ylabel=\"Accuracy\")\n",
    "plt.show()\n",
    "\n",
    "# Make a plot for the topK\n",
    "topk_plot = df.plot(y=\"sparse_top_k_categorical_accuracy\",\n",
    "    title=\"TopK vs Epochs\", legend=False)\n",
    "acc_plot.set(xlabel=\"Epochs\", ylabel=\"TopK\")\n",
    "plt.show()"
   ]
  },
  {
   "cell_type": "markdown",
   "metadata": {},
   "source": [
    "***\n",
    "<a id=\"coding_tutorial_5\"></a>\n",
    "## The evaluate and predict methods\n",
    "#### Evaluate the model on the test set"
   ]
  },
  {
   "cell_type": "code",
   "execution_count": 17,
   "metadata": {},
   "outputs": [
    {
     "name": "stdout",
     "output_type": "stream",
     "text": [
      "313/313 - 2s - loss: 0.3225 - sparse_categorical_accuracy: 0.8850 - sparse_top_k_categorical_accuracy: 0.9979\n"
     ]
    }
   ],
   "source": [
    "# Evaluate the model\n",
    "test_loss, test_acc, test_topk = model.evaluate(test_images[...,np.newaxis], \n",
    "    test_labels, verbose=2)"
   ]
  },
  {
   "cell_type": "markdown",
   "metadata": {},
   "source": [
    "#### Make predictions from the model"
   ]
  },
  {
   "cell_type": "code",
   "execution_count": 18,
   "metadata": {},
   "outputs": [
    {
     "data": {
      "image/png": "[encoded data removed]",
      "text/plain": [
       "<Figure size 432x288 with 1 Axes>"
      ]
     },
     "metadata": {
      "needs_background": "light"
     },
     "output_type": "display_data"
    },
    {
     "name": "stdout",
     "output_type": "stream",
     "text": [
      "Label: Pullover\n",
      "Model predictions: Pullover\n"
     ]
    }
   ],
   "source": [
    "# Choose a random test image\n",
    "\n",
    "test_image = test_images[random_idx]\n",
    "plt.imshow(test_image)\n",
    "plt.show()\n",
    "print(f\"Label: {labels[test_labels[random_idx]]}\")\n",
    "\n",
    "# Get the model predictions\n",
    "pred = model.predict(test_image[np.newaxis,...,np.newaxis])\n",
    "print(f\"Model predictions: {labels[np.argmax(pred)]}\")"
   ]
  }
 ],
 "metadata": {
  "kernelspec": {
   "display_name": "Python 3",
   "language": "python",
   "name": "python3"
  },
  "language_info": {
   "codemirror_mode": {
    "name": "ipython",
    "version": 3
   },
   "file_extension": ".py",
   "mimetype": "text/x-python",
   "name": "python",
   "nbconvert_exporter": "python",
   "pygments_lexer": "ipython3",
   "version": "3.8.5"
  }
 },
 "nbformat": 4,
 "nbformat_minor": 4
}
