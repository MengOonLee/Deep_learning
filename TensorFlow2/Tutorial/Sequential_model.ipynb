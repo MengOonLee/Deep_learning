{
 "cells": [
  {
   "cell_type": "markdown",
   "metadata": {},
   "source": [
    "# The Sequential model API\n",
    "\n",
    "## Coding tutorials\n",
    "#### [1. Building a Sequential model](#coding_tutorial_1)\n",
    "#### [2. Convolutional and pooling layers](#coding_tutorial_2)\n",
    "#### [3. The compile method](#coding_tutorial_3)\n",
    "#### [4. The fit method](#coding_tutorial_4)\n",
    "#### [5. The evaluate and predict methods](#coding_tutorial_5)"
   ]
  },
  {
   "cell_type": "code",
   "execution_count": 1,
   "metadata": {},
   "outputs": [
    {
     "name": "stdout",
     "output_type": "stream",
     "text": [
      "2.2.0\n"
     ]
    }
   ],
   "source": [
    "import tensorflow as tf\n",
    "print(tf.__version__)\n",
    "# Check GPU available\n",
    "gpus = tf.config.list_physical_devices('GPU')\n",
    "if gpus:\n",
    "    try:\n",
    "        for gpu in gpus:\n",
    "            tf.config.experimental.set_memory_growth(gpu, True)\n",
    "    except RuntimeError as e:\n",
    "        print(e)"
   ]
  },
  {
   "cell_type": "markdown",
   "metadata": {},
   "source": [
    "***\n",
    "## Load the data"
   ]
  },
  {
   "cell_type": "code",
   "execution_count": 2,
   "metadata": {},
   "outputs": [
    {
     "name": "stdout",
     "output_type": "stream",
     "text": [
      "Train data shape: (60000, 28, 28)\n",
      "Train label at 0: 9\n"
     ]
    }
   ],
   "source": [
    "from tensorflow.keras.preprocessing import image\n",
    "\n",
    "# Load the Fashion-MNIST data\n",
    "fashion_mnist_data = tf.keras.datasets.fashion_mnist\n",
    "(train_images, train_labels), (test_images, test_labels) = fashion_mnist_data.load_data()\n",
    "\n",
    "# Print the shape of the training data\n",
    "print(\"Train data shape: {}\".format(train_images.shape))\n",
    "\n",
    "# Define the labels\n",
    "labels = ['T-shirt/top', 'Trouser', 'Pullover', 'Dress', 'Coat', \n",
    "    'Sandal', 'Shirt', 'Sneaker', 'Bag', 'Ankle boot']\n",
    "print(\"Train label at 0:\", train_labels[0])"
   ]
  },
  {
   "cell_type": "code",
   "execution_count": 3,
   "metadata": {},
   "outputs": [],
   "source": [
    "# Rescale the image values so that they lie in between 0 and 1\n",
    "train_images = train_images / 255.\n",
    "test_images = test_images / 255."
   ]
  },
  {
   "cell_type": "code",
   "execution_count": 4,
   "metadata": {},
   "outputs": [
    {
     "name": "stdout",
     "output_type": "stream",
     "text": [
      "label: Coat\n"
     ]
    },
    {
     "data": {
      "image/png": "[encoded data removed]",
      "text/plain": [
       "<Figure size 432x288 with 1 Axes>"
      ]
     },
     "metadata": {
      "needs_background": "light"
     },
     "output_type": "display_data"
    }
   ],
   "source": [
    "import matplotlib.pyplot as plt\n",
    "%matplotlib inline\n",
    "\n",
    "# Display one of the images\n",
    "i = 24\n",
    "img = train_images[i,:,:]\n",
    "print(f\"label: {labels[train_labels[i]]}\")\n",
    "plt.imshow(img)\n",
    "plt.show()"
   ]
  },
  {
   "cell_type": "markdown",
   "metadata": {},
   "source": [
    "***\n",
    "<a id=\"coding_tutorial_1\"></a>\n",
    "## Building a Sequential model\n",
    "\n",
    "#### Build a feedforward neural network model"
   ]
  },
  {
   "cell_type": "code",
   "execution_count": 5,
   "metadata": {},
   "outputs": [
    {
     "name": "stdout",
     "output_type": "stream",
     "text": [
      "Model: \"sequential\"\n",
      "_________________________________________________________________\n",
      "Layer (type)                 Output Shape              Param #   \n",
      "=================================================================\n",
      "flatten (Flatten)            (None, 784)               0         \n",
      "_________________________________________________________________\n",
      "layer_1 (Dense)              (None, 16)                12560     \n",
      "_________________________________________________________________\n",
      "dense (Dense)                (None, 16)                272       \n",
      "_________________________________________________________________\n",
      "dense_1 (Dense)              (None, 10)                170       \n",
      "=================================================================\n",
      "Total params: 13,002\n",
      "Trainable params: 13,002\n",
      "Non-trainable params: 0\n",
      "_________________________________________________________________\n"
     ]
    }
   ],
   "source": [
    "from tensorflow.keras.models import Sequential\n",
    "from tensorflow.keras.layers import Dense, Flatten\n",
    "\n",
    "# Build the sequential feedforward neural network model\n",
    "\n",
    "model = Sequential()\n",
    "model.add(Flatten(input_shape=(28,28)))\n",
    "model.add(Dense(16, activation='relu', name='layer_1'))\n",
    "model.add(Dense(16, activation='sigmoid'))\n",
    "model.add(Dense(10, activation='softmax'))\n",
    "\n",
    "# Print the model summary\n",
    "model.summary()"
   ]
  },
  {
   "cell_type": "code",
   "execution_count": 6,
   "metadata": {},
   "outputs": [
    {
     "data": {
      "text/plain": [
       "[<tf.Variable 'layer_1/kernel:0' shape=(784, 16) dtype=float32, numpy=\n",
       " array([[-0.04007703, -0.04645088,  0.01147873, ...,  0.07439575,\n",
       "         -0.02683991,  0.02115749],\n",
       "        [ 0.06235439, -0.00723403,  0.06793295, ...,  0.08441882,\n",
       "         -0.06749522, -0.07179968],\n",
       "        [-0.08350427,  0.03713949, -0.06227425, ...,  0.07643341,\n",
       "          0.05434182,  0.02572574],\n",
       "        ...,\n",
       "        [ 0.0234036 , -0.07620956, -0.05773832, ...,  0.06065176,\n",
       "          0.08233364,  0.00343005],\n",
       "        [ 0.05159368,  0.01036442,  0.00765173, ..., -0.02062424,\n",
       "         -0.02431526, -0.01937024],\n",
       "        [ 0.01714008, -0.06927022, -0.02799062, ...,  0.00581513,\n",
       "          0.00330699,  0.01186266]], dtype=float32)>,\n",
       " <tf.Variable 'layer_1/bias:0' shape=(16,) dtype=float32, numpy=\n",
       " array([0., 0., 0., 0., 0., 0., 0., 0., 0., 0., 0., 0., 0., 0., 0., 0.],\n",
       "       dtype=float32)>,\n",
       " <tf.Variable 'dense/kernel:0' shape=(16, 16) dtype=float32, numpy=\n",
       " array([[-0.00289252,  0.0469383 , -0.39725044, -0.06426385, -0.06697604,\n",
       "         -0.20345218, -0.2346129 , -0.18092889, -0.2937265 , -0.33701214,\n",
       "          0.39061245,  0.26654854, -0.27859116, -0.09491614, -0.23116463,\n",
       "         -0.38087004],\n",
       "        [-0.18403305, -0.28956735,  0.0162563 , -0.22218952,  0.11636677,\n",
       "         -0.2662412 , -0.4195215 , -0.03896347, -0.0503906 , -0.39657   ,\n",
       "         -0.01888517,  0.08004406,  0.3283836 ,  0.18661496,  0.1202068 ,\n",
       "         -0.04883087],\n",
       "        [ 0.07445595, -0.00269514, -0.13445473, -0.37949955,  0.2001113 ,\n",
       "         -0.03758585,  0.32265648,  0.3365647 ,  0.15856954, -0.2404792 ,\n",
       "         -0.15539011,  0.20640478,  0.19490436, -0.03552541, -0.04011601,\n",
       "          0.41582683],\n",
       "        [ 0.31477836, -0.10403433,  0.32021973,  0.3835689 , -0.21254478,\n",
       "          0.05992547, -0.366969  ,  0.35595408,  0.2654775 ,  0.08537921,\n",
       "         -0.19505736,  0.05636406,  0.33961377, -0.26942536,  0.09316531,\n",
       "         -0.23314567],\n",
       "        [ 0.19180009,  0.38270822,  0.04610559,  0.24487427,  0.26617613,\n",
       "          0.23998448,  0.08932957, -0.05969021, -0.38927457, -0.22769995,\n",
       "         -0.08125347,  0.06752589, -0.10621732,  0.28047535,  0.11952052,\n",
       "         -0.05156451],\n",
       "        [-0.3179583 ,  0.38690904, -0.20486757, -0.10446444, -0.20372875,\n",
       "          0.38934365, -0.3570411 ,  0.10945311, -0.0302577 ,  0.11117473,\n",
       "         -0.27162373, -0.03477198,  0.14636335, -0.33828714, -0.36527827,\n",
       "          0.2229068 ],\n",
       "        [-0.3672848 ,  0.3790159 , -0.32818785,  0.01088503, -0.33730647,\n",
       "          0.3882328 , -0.3995921 ,  0.22406104,  0.33797494, -0.34654248,\n",
       "         -0.30624592, -0.3592767 ,  0.01165891,  0.10848162, -0.3891291 ,\n",
       "         -0.2823764 ],\n",
       "        [-0.34099394,  0.22827592,  0.38487628, -0.08226842, -0.31115156,\n",
       "          0.3337278 ,  0.3198041 ,  0.05833644,  0.05739087,  0.0977309 ,\n",
       "          0.08224353, -0.31829083, -0.35868216, -0.3175097 ,  0.28116718,\n",
       "          0.05690691],\n",
       "        [ 0.26014927, -0.22563808,  0.30254367,  0.2262539 , -0.2255016 ,\n",
       "          0.41491088, -0.33531427, -0.07259458, -0.122208  ,  0.215076  ,\n",
       "          0.2504541 , -0.05662289,  0.43154165,  0.22839746, -0.05239889,\n",
       "          0.11723265],\n",
       "        [-0.05130363,  0.33439866, -0.10096455, -0.3672243 , -0.31483996,\n",
       "          0.10458896,  0.01123211, -0.1654031 ,  0.24256185, -0.1477536 ,\n",
       "         -0.17164004, -0.42213386,  0.1433042 ,  0.29070058,  0.38958582,\n",
       "          0.18485048],\n",
       "        [-0.4291168 , -0.31899077,  0.02455595,  0.15368465, -0.26806736,\n",
       "         -0.31110865,  0.12453011,  0.39913246,  0.21147504,  0.27254954,\n",
       "         -0.10804504,  0.27806452, -0.273288  ,  0.3481557 , -0.33383664,\n",
       "          0.03450438],\n",
       "        [ 0.00420046,  0.0978224 , -0.1979759 ,  0.27829352,  0.15990028,\n",
       "          0.02950788, -0.17391437,  0.19823846, -0.41164887, -0.3357998 ,\n",
       "          0.3010489 ,  0.28306726,  0.20790002,  0.09118399, -0.275149  ,\n",
       "         -0.23713687],\n",
       "        [ 0.18205377,  0.26267532,  0.17696854,  0.3963317 , -0.17991209,\n",
       "         -0.2913199 ,  0.27920523,  0.3848957 ,  0.05263963, -0.2267194 ,\n",
       "          0.00316477,  0.2151145 ,  0.03655574,  0.22487745,  0.40568462,\n",
       "         -0.38782096],\n",
       "        [ 0.11796471, -0.24925652,  0.3294544 ,  0.09063473, -0.21455412,\n",
       "         -0.22722825,  0.19344386, -0.39480463, -0.06257147, -0.40526122,\n",
       "          0.30897245,  0.10281065,  0.2859117 ,  0.3704051 ,  0.11707303,\n",
       "          0.31667307],\n",
       "        [-0.16177964,  0.294026  , -0.08044946, -0.43037444, -0.20682684,\n",
       "         -0.05733317, -0.3956043 ,  0.40135047, -0.12357849,  0.19623914,\n",
       "          0.4322951 ,  0.25363597,  0.11740544, -0.08821154,  0.0883632 ,\n",
       "         -0.05405268],\n",
       "        [-0.09891361,  0.3491126 , -0.07791144, -0.07536569,  0.3697994 ,\n",
       "          0.14519092, -0.03554752,  0.12178376,  0.1796315 ,  0.43067124,\n",
       "          0.07223311, -0.40571898,  0.20333996,  0.32435945,  0.387292  ,\n",
       "         -0.32781568]], dtype=float32)>,\n",
       " <tf.Variable 'dense/bias:0' shape=(16,) dtype=float32, numpy=\n",
       " array([0., 0., 0., 0., 0., 0., 0., 0., 0., 0., 0., 0., 0., 0., 0., 0.],\n",
       "       dtype=float32)>,\n",
       " <tf.Variable 'dense_1/kernel:0' shape=(16, 10) dtype=float32, numpy=\n",
       " array([[-0.12558073,  0.13277256,  0.2966246 , -0.10800284,  0.0910911 ,\n",
       "         -0.17276153, -0.09628272,  0.3727637 ,  0.0802601 ,  0.47536713],\n",
       "        [ 0.01821458,  0.31507236, -0.2160199 ,  0.37820846, -0.31061065,\n",
       "         -0.4665179 ,  0.34862822,  0.30507964, -0.03473476, -0.38054928],\n",
       "        [-0.41213748, -0.22417417,  0.22481579, -0.02971801,  0.04529017,\n",
       "          0.3509133 ,  0.41346377, -0.44207424, -0.30970836, -0.08730268],\n",
       "        [ 0.42812097,  0.15703106,  0.12070405,  0.35901177, -0.43158248,\n",
       "         -0.46670216,  0.11232245, -0.06486657, -0.38334295, -0.47120467],\n",
       "        [-0.34462625, -0.047207  ,  0.4356423 , -0.22821489,  0.45857275,\n",
       "          0.22457618,  0.28144675, -0.00867629, -0.20740384,  0.3288331 ],\n",
       "        [ 0.18915528,  0.2543016 , -0.03928411, -0.01177773,  0.11238486,\n",
       "          0.13346422,  0.2425263 , -0.41119292, -0.35938984, -0.03713706],\n",
       "        [-0.24212451, -0.06169882, -0.03968555, -0.19106212,  0.36948544,\n",
       "         -0.22162491, -0.3794831 ,  0.25602305,  0.16256744,  0.46404248],\n",
       "        [-0.02252328,  0.28588778,  0.06552064,  0.4417699 ,  0.10586256,\n",
       "         -0.34958458,  0.03337824, -0.28847414, -0.18943015, -0.03830382],\n",
       "        [ 0.12830675,  0.15046078, -0.30679727, -0.3855688 ,  0.04622567,\n",
       "          0.25029606,  0.40843576,  0.37328106,  0.410172  ,  0.20924783],\n",
       "        [ 0.31670552, -0.14148864, -0.01141718,  0.4702732 ,  0.17392194,\n",
       "          0.02777439,  0.12198073, -0.2468759 ,  0.41301185, -0.35757726],\n",
       "        [-0.12377158,  0.3706035 ,  0.3815676 ,  0.12501782, -0.4114718 ,\n",
       "          0.44859642, -0.14967394,  0.06983489, -0.4796912 , -0.3255616 ],\n",
       "        [-0.4122804 , -0.09194711, -0.32384375,  0.20414275,  0.26756257,\n",
       "          0.34235173,  0.03184831, -0.44098252,  0.369851  ,  0.18880546],\n",
       "        [-0.10113537,  0.24568844, -0.05249912,  0.02967572,  0.10640103,\n",
       "         -0.41190302, -0.40625244,  0.34850538, -0.33544075,  0.30252498],\n",
       "        [ 0.12751734,  0.37280655, -0.1178073 ,  0.31433642, -0.37510017,\n",
       "         -0.04775825,  0.4225161 ,  0.31701154,  0.15131313,  0.35790825],\n",
       "        [-0.33764994, -0.3771204 , -0.10629311, -0.21657687, -0.13734311,\n",
       "         -0.00451165, -0.25188395,  0.42612076, -0.29826048,  0.33660012],\n",
       "        [-0.22598219,  0.4764322 ,  0.15411413, -0.4437888 , -0.25059903,\n",
       "          0.02549094, -0.43687057, -0.02246773,  0.2835244 ,  0.05950481]],\n",
       "       dtype=float32)>,\n",
       " <tf.Variable 'dense_1/bias:0' shape=(10,) dtype=float32, numpy=array([0., 0., 0., 0., 0., 0., 0., 0., 0., 0.], dtype=float32)>]"
      ]
     },
     "execution_count": 6,
     "metadata": {},
     "output_type": "execute_result"
    }
   ],
   "source": [
    "model.weights"
   ]
  },
  {
   "cell_type": "markdown",
   "metadata": {},
   "source": [
    "***\n",
    "<a id=\"coding_tutorial_3\"></a>\n",
    "## The compile method\n",
    "\n",
    "#### Compile the model"
   ]
  },
  {
   "cell_type": "code",
   "execution_count": 9,
   "metadata": {},
   "outputs": [
    {
     "name": "stdout",
     "output_type": "stream",
     "text": [
      "sparse_categorical_crossentropy\n",
      "<tensorflow.python.keras.optimizer_v2.gradient_descent.SGD object at 0x7fabc9714eb0>\n",
      "[]\n",
      "<tf.Variable 'learning_rate:0' shape=() dtype=float32, numpy=0.01>\n"
     ]
    }
   ],
   "source": [
    "# Define the model optimizer, loss function and metrics\n",
    "model.compile(optimizer='sgd',\n",
    "    loss='sparse_categorical_crossentropy',\n",
    "    metrics=['accuracy', 'top_k_categorical_accuracy'])\n",
    "\n",
    "# Print the resulting model attributes\n",
    "print(model.loss)\n",
    "print(model.optimizer)\n",
    "print(model.metrics)\n",
    "print(model.optimizer.lr)"
   ]
  },
  {
   "cell_type": "code",
   "execution_count": 10,
   "metadata": {},
   "outputs": [
    {
     "name": "stdout",
     "output_type": "stream",
     "text": [
      "Epoch 1/8\n",
      "1875/1875 - 3s - loss: 1.6109 - accuracy: 0.4932 - top_k_categorical_accuracy: 0.4943\n",
      "Epoch 2/8\n",
      "1875/1875 - 3s - loss: 1.0312 - accuracy: 0.6716 - top_k_categorical_accuracy: 0.5969\n",
      "Epoch 3/8\n",
      "1875/1875 - 3s - loss: 0.8419 - accuracy: 0.7255 - top_k_categorical_accuracy: 0.5829\n",
      "Epoch 4/8\n",
      "1875/1875 - 3s - loss: 0.7252 - accuracy: 0.7608 - top_k_categorical_accuracy: 0.5530\n",
      "Epoch 5/8\n",
      "1875/1875 - 3s - loss: 0.6442 - accuracy: 0.7880 - top_k_categorical_accuracy: 0.5094\n",
      "Epoch 6/8\n",
      "1875/1875 - 4s - loss: 0.5888 - accuracy: 0.8058 - top_k_categorical_accuracy: 0.4940\n",
      "Epoch 7/8\n",
      "1875/1875 - 3s - loss: 0.5495 - accuracy: 0.8178 - top_k_categorical_accuracy: 0.5032\n",
      "Epoch 8/8\n",
      "1875/1875 - 4s - loss: 0.5213 - accuracy: 0.8258 - top_k_categorical_accuracy: 0.5115\n"
     ]
    }
   ],
   "source": [
    "import numpy as np \n",
    "\n",
    "# Fit the model\n",
    "history = model.fit(train_images, train_labels,\n",
    "    epochs=8, batch_size=32, verbose=2)"
   ]
  },
  {
   "cell_type": "code",
   "execution_count": 11,
   "metadata": {},
   "outputs": [
    {
     "name": "stdout",
     "output_type": "stream",
     "text": [
      "       loss  accuracy  top_k_categorical_accuracy\n",
      "0  1.610942  0.493167                    0.494300\n",
      "1  1.031184  0.671650                    0.596900\n",
      "2  0.841900  0.725483                    0.582917\n",
      "3  0.725170  0.760800                    0.553033\n",
      "4  0.644241  0.788000                    0.509433\n"
     ]
    },
    {
     "data": {
      "image/png": "[encoded data removed]",
      "text/plain": [
       "<Figure size 432x288 with 1 Axes>"
      ]
     },
     "metadata": {
      "needs_background": "light"
     },
     "output_type": "display_data"
    },
    {
     "data": {
      "image/png": "[encoded data removed]",
      "text/plain": [
       "<Figure size 432x288 with 1 Axes>"
      ]
     },
     "metadata": {
      "needs_background": "light"
     },
     "output_type": "display_data"
    },
    {
     "data": {
      "image/png": "[encoded data removed]",
      "text/plain": [
       "<Figure size 432x288 with 1 Axes>"
      ]
     },
     "metadata": {
      "needs_background": "light"
     },
     "output_type": "display_data"
    }
   ],
   "source": [
    "# Plot training history\n",
    "import pandas as pd\n",
    "\n",
    "# Load the history into a pandas Dataframe\n",
    "df = pd.DataFrame(history.history)\n",
    "print(df.head())\n",
    "\n",
    "# Make a plot for the loss\n",
    "loss_plot = df.plot(y=\"loss\", title=\"Loss vs Epochs\", legend=False)\n",
    "loss_plot.set(xlabel=\"Epochs\", ylabel=\"Loss\")\n",
    "plt.show()\n",
    "\n",
    "# Make a plot for the accuracy\n",
    "acc_plot = df.plot(y=\"accuracy\",\n",
    "    title=\"Accuracy vs Epochs\", legend=False)\n",
    "acc_plot.set(xlabel=\"Epochs\", ylabel=\"Accuracy\")\n",
    "plt.show()\n",
    "\n",
    "# Make a plot for the topK\n",
    "topk_plot = df.plot(y=\"top_k_categorical_accuracy\",\n",
    "    title=\"TopK vs Epochs\", legend=False)\n",
    "acc_plot.set(xlabel=\"Epochs\", ylabel=\"TopK\")\n",
    "plt.show()"
   ]
  },
  {
   "cell_type": "markdown",
   "metadata": {},
   "source": [
    "***\n",
    "<a id=\"coding_tutorial_5\"></a>\n",
    "## The evaluate and predict methods\n",
    "#### Evaluate the model on the test set"
   ]
  },
  {
   "cell_type": "code",
   "execution_count": 12,
   "metadata": {},
   "outputs": [
    {
     "name": "stdout",
     "output_type": "stream",
     "text": [
      "313/313 - 1s - loss: 0.5339 - accuracy: 0.8202 - top_k_categorical_accuracy: 0.5182\n"
     ]
    }
   ],
   "source": [
    "# Evaluate the model\n",
    "test_loss, test_acc, test_topk = model.evaluate(test_images, \n",
    "    test_labels, verbose=2)"
   ]
  },
  {
   "cell_type": "markdown",
   "metadata": {},
   "source": [
    "#### Make predictions from the model"
   ]
  },
  {
   "cell_type": "code",
   "execution_count": 18,
   "metadata": {},
   "outputs": [
    {
     "data": {
      "image/png": "[encoded data removed]",
      "text/plain": [
       "<Figure size 432x288 with 1 Axes>"
      ]
     },
     "metadata": {
      "needs_background": "light"
     },
     "output_type": "display_data"
    },
    {
     "name": "stdout",
     "output_type": "stream",
     "text": [
      "Label: Pullover\n",
      "Model predictions: Coat\n"
     ]
    }
   ],
   "source": [
    "# Choose a random test image\n",
    "\n",
    "random_idx = np.random.choice(test_images.shape[0])\n",
    "test_image = test_images[random_idx]\n",
    "plt.imshow(test_image)\n",
    "plt.show()\n",
    "print(f\"Label: {labels[test_labels[random_idx]]}\")\n",
    "\n",
    "# Get the model predictions\n",
    "pred = model.predict(test_image[np.newaxis,...])\n",
    "print(f\"Model predictions: {labels[np.argmax(pred)]}\")"
   ]
  },
  {
   "cell_type": "markdown",
   "metadata": {},
   "source": [
    "***\n",
    "<a id=\"coding_tutorial_2\"></a>\n",
    "## Convolution and pooling layers\n",
    "#### Build a convolutional neural network model"
   ]
  },
  {
   "cell_type": "code",
   "execution_count": 19,
   "metadata": {},
   "outputs": [
    {
     "name": "stdout",
     "output_type": "stream",
     "text": [
      "Model: \"sequential_1\"\n",
      "_________________________________________________________________\n",
      "Layer (type)                 Output Shape              Param #   \n",
      "=================================================================\n",
      "conv2d (Conv2D)              (None, 14, 14, 16)        160       \n",
      "_________________________________________________________________\n",
      "max_pooling2d (MaxPooling2D) (None, 4, 4, 16)          0         \n",
      "_________________________________________________________________\n",
      "flatten_1 (Flatten)          (None, 256)               0         \n",
      "_________________________________________________________________\n",
      "dense_2 (Dense)              (None, 64)                16448     \n",
      "_________________________________________________________________\n",
      "dense_3 (Dense)              (None, 10)                650       \n",
      "=================================================================\n",
      "Total params: 17,258\n",
      "Trainable params: 17,258\n",
      "Non-trainable params: 0\n",
      "_________________________________________________________________\n"
     ]
    }
   ],
   "source": [
    "from tensorflow.keras.models import Sequential\n",
    "from tensorflow.keras.layers import Conv2D, MaxPooling2D, Dense, Flatten\n",
    "\n",
    "# Build the Sequential convolutional neural network model\n",
    "\n",
    "model = Sequential([\n",
    "    Conv2D(16, kernel_size=3, padding='SAME', strides=2, \n",
    "        activation='relu', input_shape=(28,28,1), \n",
    "        data_format='channels_last'),\n",
    "    MaxPooling2D(pool_size=3, data_format='channels_last'),\n",
    "    Flatten(),\n",
    "    Dense(64, activation='relu'),\n",
    "    Dense(10, activation='softmax')])\n",
    "\n",
    "# Print the model summary\n",
    "model.summary()"
   ]
  },
  {
   "cell_type": "markdown",
   "metadata": {},
   "source": [
    "***\n",
    "<a id=\"coding_tutorial_3\"></a>\n",
    "## The compile method\n",
    "\n",
    "#### Compile the model"
   ]
  },
  {
   "cell_type": "code",
   "execution_count": 20,
   "metadata": {},
   "outputs": [
    {
     "name": "stdout",
     "output_type": "stream",
     "text": [
      "<tensorflow.python.keras.losses.SparseCategoricalCrossentropy object at 0x7fab886e7730>\n",
      "<tensorflow.python.keras.optimizer_v2.adam.Adam object at 0x7fab886e7850>\n",
      "[]\n",
      "<tf.Variable 'learning_rate:0' shape=() dtype=float32, numpy=0.001>\n"
     ]
    }
   ],
   "source": [
    "# Define the model optimizer, loss function and metrics\n",
    "from tensorflow.keras.optimizers import Adam\n",
    "from tensorflow.keras.losses import SparseCategoricalCrossentropy\n",
    "from tensorflow.keras.metrics import SparseCategoricalAccuracy, \\\n",
    "    SparseTopKCategoricalAccuracy\n",
    "\n",
    "model.compile(optimizer=Adam(learning_rate=1e-3),\n",
    "    loss=SparseCategoricalCrossentropy(),\n",
    "    metrics=[SparseCategoricalAccuracy(),\n",
    "        SparseTopKCategoricalAccuracy()])\n",
    "\n",
    "# Print the resulting model attributes\n",
    "print(model.loss)\n",
    "print(model.optimizer)\n",
    "print(model.metrics)\n",
    "print(model.optimizer.lr)"
   ]
  },
  {
   "cell_type": "code",
   "execution_count": 22,
   "metadata": {},
   "outputs": [
    {
     "name": "stdout",
     "output_type": "stream",
     "text": [
      "Epoch 1/8\n",
      "1875/1875 [==============================] - 5s 3ms/step - loss: 0.3097 - sparse_categorical_accuracy: 0.8857 - sparse_top_k_categorical_accuracy: 0.9985\n",
      "Epoch 2/8\n",
      "1875/1875 [==============================] - 5s 3ms/step - loss: 0.3010 - sparse_categorical_accuracy: 0.8881 - sparse_top_k_categorical_accuracy: 0.9986\n",
      "Epoch 3/8\n",
      "1875/1875 [==============================] - 5s 3ms/step - loss: 0.2948 - sparse_categorical_accuracy: 0.8902 - sparse_top_k_categorical_accuracy: 0.9986\n",
      "Epoch 4/8\n",
      "1875/1875 [==============================] - 5s 3ms/step - loss: 0.2874 - sparse_categorical_accuracy: 0.8931 - sparse_top_k_categorical_accuracy: 0.9988\n",
      "Epoch 5/8\n",
      "1875/1875 [==============================] - 5s 3ms/step - loss: 0.2820 - sparse_categorical_accuracy: 0.8942 - sparse_top_k_categorical_accuracy: 0.9988\n",
      "Epoch 6/8\n",
      "1875/1875 [==============================] - 5s 3ms/step - loss: 0.2773 - sparse_categorical_accuracy: 0.8962 - sparse_top_k_categorical_accuracy: 0.9989\n",
      "Epoch 7/8\n",
      "1875/1875 [==============================] - 5s 3ms/step - loss: 0.2716 - sparse_categorical_accuracy: 0.8995 - sparse_top_k_categorical_accuracy: 0.9990\n",
      "Epoch 8/8\n",
      "1875/1875 [==============================] - 5s 3ms/step - loss: 0.2655 - sparse_categorical_accuracy: 0.9018 - sparse_top_k_categorical_accuracy: 0.9990\n"
     ]
    }
   ],
   "source": [
    "import numpy as np \n",
    "\n",
    "# Fit the model\n",
    "history = model.fit(train_images[...,np.newaxis], train_labels,\n",
    "    epochs=8, batch_size=32)"
   ]
  },
  {
   "cell_type": "code",
   "execution_count": 23,
   "metadata": {},
   "outputs": [
    {
     "name": "stdout",
     "output_type": "stream",
     "text": [
      "       loss  sparse_categorical_accuracy  sparse_top_k_categorical_accuracy\n",
      "0  0.309706                     0.885717                           0.998483\n",
      "1  0.301004                     0.888067                           0.998633\n",
      "2  0.294811                     0.890183                           0.998633\n",
      "3  0.287417                     0.893050                           0.998783\n",
      "4  0.281965                     0.894217                           0.998833\n"
     ]
    },
    {
     "data": {
      "image/png": "[encoded data removed]",
      "text/plain": [
       "<Figure size 432x288 with 1 Axes>"
      ]
     },
     "metadata": {
      "needs_background": "light"
     },
     "output_type": "display_data"
    },
    {
     "data": {
      "image/png": "[encoded data removed]",
      "text/plain": [
       "<Figure size 432x288 with 1 Axes>"
      ]
     },
     "metadata": {
      "needs_background": "light"
     },
     "output_type": "display_data"
    },
    {
     "data": {
      "image/png": "[encoded data removed]",
      "text/plain": [
       "<Figure size 432x288 with 1 Axes>"
      ]
     },
     "metadata": {
      "needs_background": "light"
     },
     "output_type": "display_data"
    }
   ],
   "source": [
    "# Plot training history\n",
    "import pandas as pd\n",
    "\n",
    "# Load the history into a pandas Dataframe\n",
    "df = pd.DataFrame(history.history)\n",
    "print(df.head())\n",
    "\n",
    "# Make a plot for the loss\n",
    "loss_plot = df.plot(y=\"loss\", title=\"Loss vs Epochs\", legend=False)\n",
    "loss_plot.set(xlabel=\"Epochs\", ylabel=\"Loss\")\n",
    "plt.show()\n",
    "\n",
    "# Make a plot for the accuracy\n",
    "acc_plot = df.plot(y=\"sparse_categorical_accuracy\",\n",
    "    title=\"Accuracy vs Epochs\", legend=False)\n",
    "acc_plot.set(xlabel=\"Epochs\", ylabel=\"Accuracy\")\n",
    "plt.show()\n",
    "\n",
    "# Make a plot for the topK\n",
    "topk_plot = df.plot(y=\"sparse_top_k_categorical_accuracy\",\n",
    "    title=\"TopK vs Epochs\", legend=False)\n",
    "acc_plot.set(xlabel=\"Epochs\", ylabel=\"TopK\")\n",
    "plt.show()"
   ]
  },
  {
   "cell_type": "markdown",
   "metadata": {},
   "source": [
    "***\n",
    "<a id=\"coding_tutorial_5\"></a>\n",
    "## The evaluate and predict methods\n",
    "#### Evaluate the model on the test set"
   ]
  },
  {
   "cell_type": "code",
   "execution_count": 24,
   "metadata": {},
   "outputs": [
    {
     "name": "stdout",
     "output_type": "stream",
     "text": [
      "313/313 - 1s - loss: 0.3271 - sparse_categorical_accuracy: 0.8790 - sparse_top_k_categorical_accuracy: 0.9978\n"
     ]
    }
   ],
   "source": [
    "# Evaluate the model\n",
    "test_loss, test_acc, test_topk = model.evaluate(test_images[...,np.newaxis], \n",
    "    test_labels, verbose=2)"
   ]
  },
  {
   "cell_type": "markdown",
   "metadata": {},
   "source": [
    "#### Make predictions from the model"
   ]
  },
  {
   "cell_type": "code",
   "execution_count": 25,
   "metadata": {},
   "outputs": [
    {
     "data": {
      "image/png": "[encoded data removed]",
      "text/plain": [
       "<Figure size 432x288 with 1 Axes>"
      ]
     },
     "metadata": {
      "needs_background": "light"
     },
     "output_type": "display_data"
    },
    {
     "name": "stdout",
     "output_type": "stream",
     "text": [
      "Label: Pullover\n",
      "Model predictions: Coat\n"
     ]
    }
   ],
   "source": [
    "# Choose a random test image\n",
    "\n",
    "test_image = test_images[random_idx]\n",
    "plt.imshow(test_image)\n",
    "plt.show()\n",
    "print(f\"Label: {labels[test_labels[random_idx]]}\")\n",
    "\n",
    "# Get the model predictions\n",
    "pred = model.predict(test_image[np.newaxis,...,np.newaxis])\n",
    "print(f\"Model predictions: {labels[np.argmax(pred)]}\")"
   ]
  },
  {
   "cell_type": "code",
   "execution_count": null,
   "metadata": {},
   "outputs": [],
   "source": []
  }
 ],
 "metadata": {
  "kernelspec": {
   "display_name": "Python 3",
   "language": "python",
   "name": "python3"
  },
  "language_info": {
   "codemirror_mode": {
    "name": "ipython",
    "version": 3
   },
   "file_extension": ".py",
   "mimetype": "text/x-python",
   "name": "python",
   "nbconvert_exporter": "python",
   "pygments_lexer": "ipython3",
   "version": "3.8.5"
  }
 },
 "nbformat": 4,
 "nbformat_minor": 4
}
