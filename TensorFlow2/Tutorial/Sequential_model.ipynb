{
  "nbformat": 4,
  "nbformat_minor": 0,
  "metadata": {
    "kernelspec": {
      "display_name": "Python 3",
      "language": "python",
      "name": "python3"
    },
    "language_info": {
      "codemirror_mode": {
        "name": "ipython",
        "version": 3
      },
      "file_extension": ".py",
      "mimetype": "text/x-python",
      "name": "python",
      "nbconvert_exporter": "python",
      "pygments_lexer": "ipython3",
      "version": "3.8.5"
    },
    "colab": {
      "name": "Sequential_model.ipynb",
      "provenance": [],
      "include_colab_link": true
    },
    "accelerator": "GPU"
  },
  "cells": [
    {
      "cell_type": "markdown",
      "metadata": {
        "id": "view-in-github",
        "colab_type": "text"
      },
      "source": [
        "<a href=\"https://colab.research.google.com/github/MengOonLee/Deep_learning/blob/master/TensorFlow2/Tutorial/Sequential_model.ipynb\" target=\"_parent\"><img src=\"https://colab.research.google.com/assets/colab-badge.svg\" alt=\"Open In Colab\"/></a>"
      ]
    },
    {
      "cell_type": "markdown",
      "metadata": {
        "id": "Hq_7tgQdAXLB"
      },
      "source": [
        "# The Sequential model API\n",
        "\n",
        "## Coding tutorials\n",
        "#### [1. Building a Sequential model](#coding_tutorial_1)\n",
        "#### [2. Convolutional and pooling layers](#coding_tutorial_2)\n",
        "#### [3. The compile method](#coding_tutorial_3)\n",
        "#### [4. The fit method](#coding_tutorial_4)\n",
        "#### [5. The evaluate and predict methods](#coding_tutorial_5)"
      ]
    },
    {
      "cell_type": "code",
      "metadata": {
        "id": "Bqyxh2ekAXLB",
        "outputId": "1bab51db-3437-4ae2-d457-9cf2655b14c9",
        "colab": {
          "base_uri": "https://localhost:8080/"
        }
      },
      "source": [
        "import tensorflow as tf\n",
        "# Enable GPU dynamic memory allocation\n",
        "# gpus = tf.config.experimental.list_physical_devices('GPU')\n",
        "# for gpu in gpus:\n",
        "#     tf.config.experimental.set_memory_growth(gpu, True)\n",
        "print(tf.__version__)"
      ],
      "execution_count": 1,
      "outputs": [
        {
          "output_type": "stream",
          "text": [
            "2.3.0\n"
          ],
          "name": "stdout"
        }
      ]
    },
    {
      "cell_type": "markdown",
      "metadata": {
        "id": "HUS7ZDBuAXLF"
      },
      "source": [
        "***\n",
        "## Load the data"
      ]
    },
    {
      "cell_type": "code",
      "metadata": {
        "id": "1mx6ab8YAXLG",
        "outputId": "ca6ffab6-c8de-4a14-cab0-16fd0d227162",
        "colab": {
          "base_uri": "https://localhost:8080/"
        }
      },
      "source": [
        "from tensorflow.keras.preprocessing import image\n",
        "\n",
        "# Load the Fashion-MNIST data\n",
        "fashion_mnist_data = tf.keras.datasets.fashion_mnist\n",
        "(train_images, train_labels), (test_images, test_labels) = fashion_mnist_data.load_data()\n",
        "\n",
        "# Print the shape of the training data\n",
        "print(\"Train data shape: {}\".format(train_images.shape))\n",
        "\n",
        "# Define the labels\n",
        "labels = ['T-shirt/top', 'Trouser', 'Pullover', 'Dress', 'Coat', \n",
        "    'Sandal', 'Shirt', 'Sneaker', 'Bag', 'Ankle boot']\n",
        "print(\"Train label at 0:\", train_labels[0])"
      ],
      "execution_count": 2,
      "outputs": [
        {
          "output_type": "stream",
          "text": [
            "Downloading data from https://storage.googleapis.com/tensorflow/tf-keras-datasets/train-labels-idx1-ubyte.gz\n",
            "32768/29515 [=================================] - 0s 0us/step\n",
            "Downloading data from https://storage.googleapis.com/tensorflow/tf-keras-datasets/train-images-idx3-ubyte.gz\n",
            "26427392/26421880 [==============================] - 0s 0us/step\n",
            "Downloading data from https://storage.googleapis.com/tensorflow/tf-keras-datasets/t10k-labels-idx1-ubyte.gz\n",
            "8192/5148 [===============================================] - 0s 0us/step\n",
            "Downloading data from https://storage.googleapis.com/tensorflow/tf-keras-datasets/t10k-images-idx3-ubyte.gz\n",
            "4423680/4422102 [==============================] - 0s 0us/step\n",
            "Train data shape: (60000, 28, 28)\n",
            "Train label at 0: 9\n"
          ],
          "name": "stdout"
        }
      ]
    },
    {
      "cell_type": "code",
      "metadata": {
        "id": "poxD8ub_AXLI"
      },
      "source": [
        "# Rescale the image values so that they lie in between 0 and 1\n",
        "train_images = train_images / 255.\n",
        "test_images = test_images / 255."
      ],
      "execution_count": 3,
      "outputs": []
    },
    {
      "cell_type": "code",
      "metadata": {
        "id": "h4xrduj-AXLL",
        "outputId": "1e29766b-66da-4335-fee7-031d9e8e1fba",
        "colab": {
          "base_uri": "https://localhost:8080/",
          "height": 282
        }
      },
      "source": [
        "import matplotlib.pyplot as plt\n",
        "%matplotlib inline\n",
        "\n",
        "# Display one of the images\n",
        "i = 24\n",
        "img = train_images[i,:,:]\n",
        "print(f\"label: {labels[train_labels[i]]}\")\n",
        "plt.imshow(img)\n",
        "plt.show()"
      ],
      "execution_count": 4,
      "outputs": [
        {
          "output_type": "stream",
          "text": [
            "label: Coat\n"
          ],
          "name": "stdout"
        },
        {
          "output_type": "display_data",
          "data": {
            "image/png": "[encoded data removed]",
            "text/plain": [
              "<Figure size 432x288 with 1 Axes>"
            ]
          },
          "metadata": {
            "tags": [],
            "needs_background": "light"
          }
        }
      ]
    },
    {
      "cell_type": "markdown",
      "metadata": {
        "id": "PKaVJT8BAXLP"
      },
      "source": [
        "***\n",
        "<a id=\"coding_tutorial_1\"></a>\n",
        "## Building a Sequential model\n",
        "\n",
        "#### Build a feedforward neural network model"
      ]
    },
    {
      "cell_type": "code",
      "metadata": {
        "id": "S1f_GFVyAXLP",
        "outputId": "599e587e-14a6-4dba-8d89-0f9394cba059",
        "colab": {
          "base_uri": "https://localhost:8080/"
        }
      },
      "source": [
        "from tensorflow.keras.models import Sequential\n",
        "from tensorflow.keras.layers import Dense, Flatten\n",
        "\n",
        "# Build the sequential feedforward neural network model\n",
        "\n",
        "model = Sequential()\n",
        "model.add(Flatten(input_shape=(28,28)))\n",
        "model.add(Dense(16, activation='relu', name='layer_1'))\n",
        "model.add(Dense(16, activation='sigmoid'))\n",
        "model.add(Dense(10, activation='softmax'))\n",
        "\n",
        "# Print the model summary\n",
        "model.summary()"
      ],
      "execution_count": 5,
      "outputs": [
        {
          "output_type": "stream",
          "text": [
            "Model: \"sequential\"\n",
            "_________________________________________________________________\n",
            "Layer (type)                 Output Shape              Param #   \n",
            "=================================================================\n",
            "flatten (Flatten)            (None, 784)               0         \n",
            "_________________________________________________________________\n",
            "layer_1 (Dense)              (None, 16)                12560     \n",
            "_________________________________________________________________\n",
            "dense (Dense)                (None, 16)                272       \n",
            "_________________________________________________________________\n",
            "dense_1 (Dense)              (None, 10)                170       \n",
            "=================================================================\n",
            "Total params: 13,002\n",
            "Trainable params: 13,002\n",
            "Non-trainable params: 0\n",
            "_________________________________________________________________\n"
          ],
          "name": "stdout"
        }
      ]
    },
    {
      "cell_type": "code",
      "metadata": {
        "id": "kRkOunAAAXLS",
        "outputId": "779e8483-3872-48c2-9f7b-8d2a95266993",
        "colab": {
          "base_uri": "https://localhost:8080/"
        }
      },
      "source": [
        "model.weights"
      ],
      "execution_count": 6,
      "outputs": [
        {
          "output_type": "execute_result",
          "data": {
            "text/plain": [
              "[<tf.Variable 'layer_1/kernel:0' shape=(784, 16) dtype=float32, numpy=\n",
              " array([[-6.9233790e-02,  5.8522046e-02,  2.6419848e-02, ...,\n",
              "         -5.3504035e-03,  2.4988100e-02, -2.4945278e-02],\n",
              "        [-5.2435171e-02, -5.8341622e-03,  8.0525875e-05, ...,\n",
              "          3.9904863e-03,  1.5947402e-02, -2.0433992e-02],\n",
              "        [ 8.1912652e-02,  5.1083282e-02, -4.2355794e-02, ...,\n",
              "         -3.9651506e-02,  5.8342770e-02,  8.1238449e-02],\n",
              "        ...,\n",
              "        [ 8.6028099e-02,  2.6401356e-03,  6.7857057e-03, ...,\n",
              "          3.3484779e-02, -6.8532370e-02,  2.8012924e-02],\n",
              "        [-2.0256750e-02,  1.0446250e-02, -1.1034809e-02, ...,\n",
              "         -3.3293292e-03, -4.6585649e-02, -2.8197117e-02],\n",
              "        [ 6.3909858e-02, -5.9097633e-02, -2.1865666e-03, ...,\n",
              "         -8.6461678e-02, -7.2425880e-02,  7.1706027e-03]], dtype=float32)>,\n",
              " <tf.Variable 'layer_1/bias:0' shape=(16,) dtype=float32, numpy=\n",
              " array([0., 0., 0., 0., 0., 0., 0., 0., 0., 0., 0., 0., 0., 0., 0., 0.],\n",
              "       dtype=float32)>,\n",
              " <tf.Variable 'dense/kernel:0' shape=(16, 16) dtype=float32, numpy=\n",
              " array([[-1.69345438e-01,  3.65012974e-01,  1.87808365e-01,\n",
              "         -3.29169154e-01,  1.24946803e-01, -2.81841934e-01,\n",
              "         -4.22523379e-01,  2.20367581e-01, -3.81199270e-01,\n",
              "         -3.74608845e-01,  2.00808018e-01,  7.89381564e-02,\n",
              "         -3.11200827e-01,  5.00391722e-02, -2.97991484e-01,\n",
              "         -7.94682801e-02],\n",
              "        [-1.61211938e-01,  1.42740458e-01,  4.31844860e-01,\n",
              "          1.18877500e-01,  1.41605943e-01,  2.78217524e-01,\n",
              "         -1.45790517e-01,  2.14817554e-01,  1.01045370e-02,\n",
              "          2.60423213e-01, -3.41592848e-01, -3.32487315e-01,\n",
              "         -2.95305014e-01,  3.55357528e-02, -1.00511551e-01,\n",
              "          4.17631537e-01],\n",
              "        [-2.88169086e-02, -1.47254735e-01, -3.85588527e-01,\n",
              "          2.60939509e-01, -2.89779305e-01,  1.65222317e-01,\n",
              "         -8.85563493e-02,  1.43816084e-01, -2.23243535e-02,\n",
              "          1.95918471e-01,  3.16214174e-01,  3.71810764e-01,\n",
              "         -3.77341360e-01,  3.27640265e-01,  1.25632316e-01,\n",
              "          1.81793123e-01],\n",
              "        [ 7.18339980e-02,  2.61533111e-01, -2.60310233e-01,\n",
              "          3.05576116e-01,  8.56399834e-02,  4.01908427e-01,\n",
              "          2.24434406e-01,  5.88663518e-02,  1.84046477e-01,\n",
              "         -1.92779720e-01, -1.11199915e-01, -1.91603720e-01,\n",
              "         -3.90626669e-01, -1.30276799e-01,  1.83564872e-01,\n",
              "          2.92156845e-01],\n",
              "        [ 8.95946324e-02,  2.26684511e-02,  4.26501244e-01,\n",
              "          6.03059232e-02,  2.30964750e-01, -2.41177410e-01,\n",
              "          1.92279547e-01,  4.10996675e-02,  1.91908479e-02,\n",
              "         -1.05831623e-01,  2.13409811e-01, -2.55426466e-01,\n",
              "         -3.82854283e-01, -2.37023830e-02,  9.96083021e-03,\n",
              "          3.93023640e-01],\n",
              "        [ 3.74583632e-01,  3.08084697e-01,  8.78703296e-02,\n",
              "          3.83445948e-01,  9.13818777e-02,  1.35347337e-01,\n",
              "          6.10879362e-02,  3.29992145e-01,  1.07459992e-01,\n",
              "          1.09534174e-01, -1.42471194e-01,  4.19140130e-01,\n",
              "          3.64771783e-02, -2.95028985e-01, -4.02484834e-02,\n",
              "         -1.87579080e-01],\n",
              "        [-3.12435031e-01, -2.59855568e-01,  2.75174826e-01,\n",
              "         -3.15776348e-01,  4.16235358e-01, -3.39478552e-02,\n",
              "          1.86651945e-04, -3.68187934e-01,  2.06409127e-01,\n",
              "         -2.72705436e-01,  7.48664141e-03,  2.86489516e-01,\n",
              "         -3.25901538e-01,  3.10878128e-01,  5.43385744e-03,\n",
              "         -1.08202904e-01],\n",
              "        [-2.66745985e-02, -1.18699372e-02,  8.63412023e-03,\n",
              "          3.02990109e-01, -1.91267580e-01, -2.22667187e-01,\n",
              "         -6.32252991e-02, -1.14766479e-01,  1.02882296e-01,\n",
              "         -6.08101189e-02,  1.30571872e-01, -2.52730906e-01,\n",
              "         -3.71676147e-01, -3.64908159e-01,  2.94418186e-01,\n",
              "         -1.76083714e-01],\n",
              "        [ 6.80895746e-02,  1.27382308e-01, -2.81495661e-01,\n",
              "         -5.69934249e-02, -2.71497846e-01, -3.62321854e-01,\n",
              "         -2.44748831e-01, -1.43221527e-01, -2.89866745e-01,\n",
              "          1.74572080e-01, -2.40135938e-01, -1.78093314e-02,\n",
              "         -2.74332166e-01,  4.13612336e-01, -2.88590312e-01,\n",
              "         -6.62968159e-02],\n",
              "        [ 3.79770666e-01,  1.95185393e-01, -3.70098770e-01,\n",
              "         -1.77911520e-02,  3.16688418e-02,  1.76420182e-01,\n",
              "          1.65664583e-01,  3.92242223e-01, -7.60857761e-02,\n",
              "          1.85651213e-01,  1.82278425e-01, -2.23269075e-01,\n",
              "         -1.78913563e-01,  4.97800410e-02,  1.32848531e-01,\n",
              "          3.69376808e-01],\n",
              "        [-2.16241777e-02, -4.17043179e-01, -2.31101453e-01,\n",
              "         -2.14522213e-01, -2.81012416e-01,  2.20184624e-02,\n",
              "          1.98113292e-01, -2.61525214e-02, -1.83037221e-01,\n",
              "         -2.52256095e-01, -1.93743959e-01,  3.45412642e-01,\n",
              "         -3.95788491e-01,  2.05321938e-01,  3.85726243e-01,\n",
              "         -2.30166733e-01],\n",
              "        [-3.98009360e-01, -1.28430277e-01,  3.42308909e-01,\n",
              "         -2.29201555e-01, -3.97750229e-01,  3.75285238e-01,\n",
              "          1.63920254e-01, -3.69288981e-01, -3.55521858e-01,\n",
              "         -1.87026143e-01, -5.42364419e-02,  2.37682074e-01,\n",
              "          2.55821437e-01,  6.05831146e-02, -3.30280900e-01,\n",
              "          2.09315509e-01],\n",
              "        [-3.54416668e-01,  3.41084987e-01, -5.11457920e-02,\n",
              "          2.97797918e-02, -4.28958118e-01,  3.58785123e-01,\n",
              "         -7.35367239e-02, -6.77224398e-02,  2.40325063e-01,\n",
              "         -3.82463634e-02, -1.69723928e-01, -1.56588614e-01,\n",
              "         -3.43022883e-01, -2.27881342e-01,  3.35408062e-01,\n",
              "         -3.97956789e-01],\n",
              "        [-1.73380226e-01, -5.36033511e-03,  3.69268626e-01,\n",
              "         -3.13842893e-01, -3.82658631e-01,  2.59243459e-01,\n",
              "         -9.94509757e-02,  3.62345666e-01, -4.02086228e-01,\n",
              "          2.40998000e-01, -9.27914977e-02,  2.21036881e-01,\n",
              "         -7.54007995e-02, -3.78121436e-01,  6.41614199e-03,\n",
              "          1.87162429e-01],\n",
              "        [-7.62679875e-02, -3.14445496e-01,  3.65716189e-01,\n",
              "         -2.53482044e-01,  3.30653489e-02, -1.76008850e-01,\n",
              "         -1.73901975e-01, -3.05423737e-01, -3.94411385e-01,\n",
              "          3.80292624e-01, -2.48197705e-01, -3.30975801e-01,\n",
              "         -2.85151243e-01, -2.68924773e-01,  2.33419865e-01,\n",
              "          1.75639391e-02],\n",
              "        [-3.12643051e-01, -7.02841878e-02, -2.77805805e-01,\n",
              "          4.32711214e-01,  3.76193732e-01,  1.81845039e-01,\n",
              "         -2.96999872e-01,  1.49149299e-02, -1.09188914e-01,\n",
              "          1.91951960e-01,  4.24303502e-01,  2.89614528e-01,\n",
              "          3.23159397e-02,  3.54636699e-01,  3.05374354e-01,\n",
              "         -3.41453135e-01]], dtype=float32)>,\n",
              " <tf.Variable 'dense/bias:0' shape=(16,) dtype=float32, numpy=\n",
              " array([0., 0., 0., 0., 0., 0., 0., 0., 0., 0., 0., 0., 0., 0., 0., 0.],\n",
              "       dtype=float32)>,\n",
              " <tf.Variable 'dense_1/kernel:0' shape=(16, 10) dtype=float32, numpy=\n",
              " array([[ 0.31345302,  0.10503316,  0.2906649 , -0.00762373,  0.10873073,\n",
              "          0.4657417 , -0.02351227,  0.09004712,  0.1962651 ,  0.07774401],\n",
              "        [-0.13471058,  0.04413444,  0.12228817,  0.3893575 ,  0.43140322,\n",
              "          0.3693899 ,  0.46966112, -0.00246119,  0.33359468,  0.19874173],\n",
              "        [-0.37309563,  0.19161654,  0.15374225, -0.09380975, -0.10336554,\n",
              "         -0.05367342, -0.07531205, -0.11404914, -0.45964226, -0.10428339],\n",
              "        [-0.00899115,  0.36921787, -0.27753696,  0.47462243,  0.00439644,\n",
              "          0.19979489,  0.4088298 , -0.11859059,  0.2626592 ,  0.33183068],\n",
              "        [-0.04936355, -0.32165262,  0.2094835 , -0.20991245, -0.11125019,\n",
              "          0.26371056,  0.39869493,  0.4315024 , -0.44605458,  0.04161644],\n",
              "        [-0.21988365, -0.35622704, -0.12483123,  0.3988232 ,  0.0890137 ,\n",
              "          0.4272833 ,  0.4692142 ,  0.24027461,  0.44382948,  0.39973646],\n",
              "        [-0.03810212,  0.43144655, -0.09747937,  0.31097752,  0.00088775,\n",
              "         -0.45082578,  0.36311662, -0.3222869 ,  0.25112563, -0.46856847],\n",
              "        [-0.32053947, -0.2740145 ,  0.40841085, -0.10650489, -0.18508077,\n",
              "         -0.1882689 , -0.0380547 , -0.22439143,  0.37177622,  0.15397036],\n",
              "        [ 0.19584817,  0.27678376, -0.4545269 ,  0.1798529 , -0.44269547,\n",
              "         -0.14746183, -0.05494896, -0.04197747,  0.47264528,  0.20649868],\n",
              "        [ 0.26326954,  0.06251591, -0.22267619,  0.00288543, -0.28567165,\n",
              "          0.43341202, -0.4442484 ,  0.27309948,  0.2314195 ,  0.1261785 ],\n",
              "        [ 0.11755979,  0.08527535, -0.04953134, -0.46424443,  0.08548552,\n",
              "         -0.18685064,  0.10763282, -0.28356218,  0.04214859, -0.07636988],\n",
              "        [ 0.41848028,  0.30315685, -0.06420857, -0.32951206, -0.33556098,\n",
              "         -0.00714076,  0.17551589, -0.21988848,  0.39123827, -0.16432574],\n",
              "        [-0.07003197,  0.07605791, -0.47636175,  0.01282606, -0.4760531 ,\n",
              "         -0.17399594,  0.09138852,  0.18835539, -0.17163485,  0.38940185],\n",
              "        [ 0.25048393, -0.24474983, -0.44116956, -0.03059635, -0.17302334,\n",
              "         -0.3925618 ,  0.17275774, -0.3399927 , -0.13626722, -0.14239481],\n",
              "        [ 0.09339571, -0.4442199 ,  0.47742313, -0.18118128, -0.41192308,\n",
              "          0.01777247, -0.05926225,  0.44254518,  0.20457602,  0.39765894],\n",
              "        [ 0.31605035, -0.03845739, -0.10835388, -0.00386226, -0.3885179 ,\n",
              "         -0.37141266, -0.3603021 ,  0.3478589 , -0.35201073, -0.4750586 ]],\n",
              "       dtype=float32)>,\n",
              " <tf.Variable 'dense_1/bias:0' shape=(10,) dtype=float32, numpy=array([0., 0., 0., 0., 0., 0., 0., 0., 0., 0.], dtype=float32)>]"
            ]
          },
          "metadata": {
            "tags": []
          },
          "execution_count": 6
        }
      ]
    },
    {
      "cell_type": "markdown",
      "metadata": {
        "id": "5s0nTcKrAXLU"
      },
      "source": [
        "***\n",
        "<a id=\"coding_tutorial_3\"></a>\n",
        "## The compile method\n",
        "\n",
        "#### Compile the model"
      ]
    },
    {
      "cell_type": "code",
      "metadata": {
        "id": "bkjjz7_qAXLV",
        "outputId": "f17c80ed-31d2-4674-90c6-39faca335a5b",
        "colab": {
          "base_uri": "https://localhost:8080/"
        }
      },
      "source": [
        "# Define the model optimizer, loss function and metrics\n",
        "model.compile(optimizer='sgd',\n",
        "    loss='sparse_categorical_crossentropy',\n",
        "    metrics=['accuracy', 'top_k_categorical_accuracy'])\n",
        "\n",
        "# Print the resulting model attributes\n",
        "print(model.loss)\n",
        "print(model.optimizer)\n",
        "print(model.metrics)\n",
        "print(model.optimizer.lr)"
      ],
      "execution_count": 7,
      "outputs": [
        {
          "output_type": "stream",
          "text": [
            "sparse_categorical_crossentropy\n",
            "<tensorflow.python.keras.optimizer_v2.gradient_descent.SGD object at 0x7fa864f15b00>\n",
            "[]\n",
            "<tf.Variable 'learning_rate:0' shape=() dtype=float32, numpy=0.01>\n"
          ],
          "name": "stdout"
        }
      ]
    },
    {
      "cell_type": "code",
      "metadata": {
        "scrolled": true,
        "id": "jAW2tGegAXLX",
        "outputId": "b0efd9df-edec-46c5-a592-6ffabdc18257",
        "colab": {
          "base_uri": "https://localhost:8080/"
        }
      },
      "source": [
        "import numpy as np \n",
        "\n",
        "# Fit the model\n",
        "history = model.fit(train_images, train_labels,\n",
        "    epochs=8, batch_size=32, verbose=2)"
      ],
      "execution_count": 8,
      "outputs": [
        {
          "output_type": "stream",
          "text": [
            "Epoch 1/8\n",
            "1875/1875 - 3s - loss: 1.7580 - accuracy: 0.4346 - top_k_categorical_accuracy: 0.6198\n",
            "Epoch 2/8\n",
            "1875/1875 - 3s - loss: 1.1330 - accuracy: 0.6301 - top_k_categorical_accuracy: 0.5978\n",
            "Epoch 3/8\n",
            "1875/1875 - 3s - loss: 0.9022 - accuracy: 0.7020 - top_k_categorical_accuracy: 0.5967\n",
            "Epoch 4/8\n",
            "1875/1875 - 3s - loss: 0.7831 - accuracy: 0.7443 - top_k_categorical_accuracy: 0.5828\n",
            "Epoch 5/8\n",
            "1875/1875 - 3s - loss: 0.6950 - accuracy: 0.7787 - top_k_categorical_accuracy: 0.5519\n",
            "Epoch 6/8\n",
            "1875/1875 - 3s - loss: 0.6289 - accuracy: 0.7969 - top_k_categorical_accuracy: 0.5325\n",
            "Epoch 7/8\n",
            "1875/1875 - 3s - loss: 0.5832 - accuracy: 0.8079 - top_k_categorical_accuracy: 0.5280\n",
            "Epoch 8/8\n",
            "1875/1875 - 3s - loss: 0.5510 - accuracy: 0.8166 - top_k_categorical_accuracy: 0.5250\n"
          ],
          "name": "stdout"
        }
      ]
    },
    {
      "cell_type": "code",
      "metadata": {
        "id": "aLonidzqAXLa",
        "outputId": "925fd532-9730-4582-91b0-d6468e6527db",
        "colab": {
          "base_uri": "https://localhost:8080/",
          "height": 939
        }
      },
      "source": [
        "# Plot training history\n",
        "import pandas as pd\n",
        "\n",
        "# Load the history into a pandas Dataframe\n",
        "df = pd.DataFrame(history.history)\n",
        "print(df.head())\n",
        "\n",
        "# Make a plot for the loss\n",
        "loss_plot = df.plot(y=\"loss\", title=\"Loss vs Epochs\", legend=False)\n",
        "loss_plot.set(xlabel=\"Epochs\", ylabel=\"Loss\")\n",
        "plt.show()\n",
        "\n",
        "# Make a plot for the accuracy\n",
        "acc_plot = df.plot(y=\"accuracy\",\n",
        "    title=\"Accuracy vs Epochs\", legend=False)\n",
        "acc_plot.set(xlabel=\"Epochs\", ylabel=\"Accuracy\")\n",
        "plt.show()\n",
        "\n",
        "# Make a plot for the topK\n",
        "topk_plot = df.plot(y=\"top_k_categorical_accuracy\",\n",
        "    title=\"TopK vs Epochs\", legend=False)\n",
        "acc_plot.set(xlabel=\"Epochs\", ylabel=\"TopK\")\n",
        "plt.show()"
      ],
      "execution_count": 9,
      "outputs": [
        {
          "output_type": "stream",
          "text": [
            "       loss  accuracy  top_k_categorical_accuracy\n",
            "0  1.757991  0.434567                    0.619800\n",
            "1  1.132994  0.630067                    0.597833\n",
            "2  0.902155  0.701950                    0.596683\n",
            "3  0.783082  0.744283                    0.582800\n",
            "4  0.695008  0.778717                    0.551950\n"
          ],
          "name": "stdout"
        },
        {
          "output_type": "display_data",
          "data": {
            "image/png": "[encoded data removed]",
            "text/plain": [
              "<Figure size 432x288 with 1 Axes>"
            ]
          },
          "metadata": {
            "tags": [],
            "needs_background": "light"
          }
        },
        {
          "output_type": "display_data",
          "data": {
            "image/png": "[encoded data removed]",
            "text/plain": [
              "<Figure size 432x288 with 1 Axes>"
            ]
          },
          "metadata": {
            "tags": [],
            "needs_background": "light"
          }
        },
        {
          "output_type": "display_data",
          "data": {
            "image/png": "[encoded data removed]",
            "text/plain": [
              "<Figure size 432x288 with 1 Axes>"
            ]
          },
          "metadata": {
            "tags": [],
            "needs_background": "light"
          }
        }
      ]
    },
    {
      "cell_type": "markdown",
      "metadata": {
        "id": "ZLQkGOTmAXLc"
      },
      "source": [
        "***\n",
        "<a id=\"coding_tutorial_5\"></a>\n",
        "## The evaluate and predict methods\n",
        "#### Evaluate the model on the test set"
      ]
    },
    {
      "cell_type": "code",
      "metadata": {
        "id": "CxVJl3hIAXLd",
        "outputId": "60d30f05-c447-4586-ee09-962c529634a4",
        "colab": {
          "base_uri": "https://localhost:8080/"
        }
      },
      "source": [
        "# Evaluate the model\n",
        "test_loss, test_acc, test_topk = model.evaluate(test_images, \n",
        "    test_labels, verbose=2)"
      ],
      "execution_count": 10,
      "outputs": [
        {
          "output_type": "stream",
          "text": [
            "313/313 - 0s - loss: 0.5697 - accuracy: 0.8085 - top_k_categorical_accuracy: 0.5167\n"
          ],
          "name": "stdout"
        }
      ]
    },
    {
      "cell_type": "markdown",
      "metadata": {
        "id": "H47XBgvzAXLf"
      },
      "source": [
        "#### Make predictions from the model"
      ]
    },
    {
      "cell_type": "code",
      "metadata": {
        "id": "mrKbqih_AXLf",
        "outputId": "79399ae0-7477-4626-b519-31ba0adbe4f9",
        "colab": {
          "base_uri": "https://localhost:8080/",
          "height": 299
        }
      },
      "source": [
        "# Choose a random test image\n",
        "\n",
        "random_idx = np.random.choice(test_images.shape[0])\n",
        "test_image = test_images[random_idx]\n",
        "plt.imshow(test_image)\n",
        "plt.show()\n",
        "print(f\"Label: {labels[test_labels[random_idx]]}\")\n",
        "\n",
        "# Get the model predictions\n",
        "pred = model.predict(test_image[np.newaxis,...])\n",
        "print(f\"Model predictions: {labels[np.argmax(pred)]}\")"
      ],
      "execution_count": 11,
      "outputs": [
        {
          "output_type": "display_data",
          "data": {
            "image/png": "[encoded data removed]",
            "text/plain": [
              "<Figure size 432x288 with 1 Axes>"
            ]
          },
          "metadata": {
            "tags": [],
            "needs_background": "light"
          }
        },
        {
          "output_type": "stream",
          "text": [
            "Label: Bag\n",
            "Model predictions: Bag\n"
          ],
          "name": "stdout"
        }
      ]
    },
    {
      "cell_type": "markdown",
      "metadata": {
        "id": "LvhdyNYjAXLi"
      },
      "source": [
        "***\n",
        "<a id=\"coding_tutorial_2\"></a>\n",
        "## Convolution and pooling layers\n",
        "#### Build a convolutional neural network model"
      ]
    },
    {
      "cell_type": "code",
      "metadata": {
        "id": "oCbHDn-hAXLi",
        "outputId": "72d3a659-db49-4190-c5c9-37c99f130f1b",
        "colab": {
          "base_uri": "https://localhost:8080/"
        }
      },
      "source": [
        "from tensorflow.keras.models import Sequential\n",
        "from tensorflow.keras.layers import Conv2D, MaxPooling2D, Dense, Flatten\n",
        "\n",
        "# Build the Sequential convolutional neural network model\n",
        "\n",
        "model = Sequential([\n",
        "    Conv2D(16, kernel_size=3, padding='SAME', strides=2, \n",
        "        activation='relu', input_shape=(28,28,1), \n",
        "        data_format='channels_last'),\n",
        "    MaxPooling2D(pool_size=3, data_format='channels_last'),\n",
        "    Flatten(),\n",
        "    Dense(64, activation='relu'),\n",
        "    Dense(10, activation='softmax')])\n",
        "\n",
        "# Print the model summary\n",
        "model.summary()"
      ],
      "execution_count": 12,
      "outputs": [
        {
          "output_type": "stream",
          "text": [
            "Model: \"sequential_1\"\n",
            "_________________________________________________________________\n",
            "Layer (type)                 Output Shape              Param #   \n",
            "=================================================================\n",
            "conv2d (Conv2D)              (None, 14, 14, 16)        160       \n",
            "_________________________________________________________________\n",
            "max_pooling2d (MaxPooling2D) (None, 4, 4, 16)          0         \n",
            "_________________________________________________________________\n",
            "flatten_1 (Flatten)          (None, 256)               0         \n",
            "_________________________________________________________________\n",
            "dense_2 (Dense)              (None, 64)                16448     \n",
            "_________________________________________________________________\n",
            "dense_3 (Dense)              (None, 10)                650       \n",
            "=================================================================\n",
            "Total params: 17,258\n",
            "Trainable params: 17,258\n",
            "Non-trainable params: 0\n",
            "_________________________________________________________________\n"
          ],
          "name": "stdout"
        }
      ]
    },
    {
      "cell_type": "markdown",
      "metadata": {
        "id": "8FHC-BiRAXLm"
      },
      "source": [
        "***\n",
        "<a id=\"coding_tutorial_3\"></a>\n",
        "## The compile method\n",
        "\n",
        "#### Compile the model"
      ]
    },
    {
      "cell_type": "code",
      "metadata": {
        "id": "-Z77GwMeAXLm",
        "outputId": "57f63db0-f3ef-4b91-a6d9-f815336d571a",
        "colab": {
          "base_uri": "https://localhost:8080/"
        }
      },
      "source": [
        "# Define the model optimizer, loss function and metrics\n",
        "from tensorflow.keras.optimizers import Adam\n",
        "from tensorflow.keras.losses import SparseCategoricalCrossentropy\n",
        "from tensorflow.keras.metrics import SparseCategoricalAccuracy, \\\n",
        "    SparseTopKCategoricalAccuracy\n",
        "\n",
        "model.compile(optimizer=Adam(learning_rate=1e-3),\n",
        "    loss=SparseCategoricalCrossentropy(),\n",
        "    metrics=[SparseCategoricalAccuracy(),\n",
        "        SparseTopKCategoricalAccuracy()])\n",
        "\n",
        "# Print the resulting model attributes\n",
        "print(model.loss)\n",
        "print(model.optimizer)\n",
        "print(model.metrics)\n",
        "print(model.optimizer.lr)"
      ],
      "execution_count": 13,
      "outputs": [
        {
          "output_type": "stream",
          "text": [
            "<tensorflow.python.keras.losses.SparseCategoricalCrossentropy object at 0x7fa7d45a5ba8>\n",
            "<tensorflow.python.keras.optimizer_v2.adam.Adam object at 0x7fa7d433a3c8>\n",
            "[]\n",
            "<tf.Variable 'learning_rate:0' shape=() dtype=float32, numpy=0.001>\n"
          ],
          "name": "stdout"
        }
      ]
    },
    {
      "cell_type": "code",
      "metadata": {
        "id": "LrndiMgdAXLo",
        "outputId": "a6231274-1ca3-475a-aeac-9cdfa58bf651",
        "colab": {
          "base_uri": "https://localhost:8080/"
        }
      },
      "source": [
        "import numpy as np \n",
        "\n",
        "# Fit the model\n",
        "history = model.fit(train_images[...,np.newaxis], train_labels,\n",
        "    epochs=8, batch_size=32)"
      ],
      "execution_count": 14,
      "outputs": [
        {
          "output_type": "stream",
          "text": [
            "Epoch 1/8\n",
            "1875/1875 [==============================] - 4s 2ms/step - loss: 0.6229 - sparse_categorical_accuracy: 0.7763 - sparse_top_k_categorical_accuracy: 0.9886\n",
            "Epoch 2/8\n",
            "1875/1875 [==============================] - 4s 2ms/step - loss: 0.4320 - sparse_categorical_accuracy: 0.8433 - sparse_top_k_categorical_accuracy: 0.9973\n",
            "Epoch 3/8\n",
            "1875/1875 [==============================] - 4s 2ms/step - loss: 0.3959 - sparse_categorical_accuracy: 0.8547 - sparse_top_k_categorical_accuracy: 0.9977\n",
            "Epoch 4/8\n",
            "1875/1875 [==============================] - 4s 2ms/step - loss: 0.3735 - sparse_categorical_accuracy: 0.8625 - sparse_top_k_categorical_accuracy: 0.9978\n",
            "Epoch 5/8\n",
            "1875/1875 [==============================] - 4s 2ms/step - loss: 0.3552 - sparse_categorical_accuracy: 0.8685 - sparse_top_k_categorical_accuracy: 0.9982\n",
            "Epoch 6/8\n",
            "1875/1875 [==============================] - 4s 2ms/step - loss: 0.3428 - sparse_categorical_accuracy: 0.8720 - sparse_top_k_categorical_accuracy: 0.9982\n",
            "Epoch 7/8\n",
            "1875/1875 [==============================] - 4s 2ms/step - loss: 0.3325 - sparse_categorical_accuracy: 0.8756 - sparse_top_k_categorical_accuracy: 0.9984\n",
            "Epoch 8/8\n",
            "1875/1875 [==============================] - 4s 2ms/step - loss: 0.3214 - sparse_categorical_accuracy: 0.8797 - sparse_top_k_categorical_accuracy: 0.9985\n"
          ],
          "name": "stdout"
        }
      ]
    },
    {
      "cell_type": "code",
      "metadata": {
        "id": "qws6zw7TAXLr",
        "outputId": "4a73b38d-1174-48cf-9545-074c537007cc",
        "colab": {
          "base_uri": "https://localhost:8080/",
          "height": 939
        }
      },
      "source": [
        "# Plot training history\n",
        "import pandas as pd\n",
        "\n",
        "# Load the history into a pandas Dataframe\n",
        "df = pd.DataFrame(history.history)\n",
        "print(df.head())\n",
        "\n",
        "# Make a plot for the loss\n",
        "loss_plot = df.plot(y=\"loss\", title=\"Loss vs Epochs\", legend=False)\n",
        "loss_plot.set(xlabel=\"Epochs\", ylabel=\"Loss\")\n",
        "plt.show()\n",
        "\n",
        "# Make a plot for the accuracy\n",
        "acc_plot = df.plot(y=\"sparse_categorical_accuracy\",\n",
        "    title=\"Accuracy vs Epochs\", legend=False)\n",
        "acc_plot.set(xlabel=\"Epochs\", ylabel=\"Accuracy\")\n",
        "plt.show()\n",
        "\n",
        "# Make a plot for the topK\n",
        "topk_plot = df.plot(y=\"sparse_top_k_categorical_accuracy\",\n",
        "    title=\"TopK vs Epochs\", legend=False)\n",
        "acc_plot.set(xlabel=\"Epochs\", ylabel=\"TopK\")\n",
        "plt.show()"
      ],
      "execution_count": 15,
      "outputs": [
        {
          "output_type": "stream",
          "text": [
            "       loss  sparse_categorical_accuracy  sparse_top_k_categorical_accuracy\n",
            "0  0.622894                     0.776250                           0.988600\n",
            "1  0.432048                     0.843267                           0.997250\n",
            "2  0.395898                     0.854683                           0.997700\n",
            "3  0.373523                     0.862500                           0.997833\n",
            "4  0.355245                     0.868467                           0.998217\n"
          ],
          "name": "stdout"
        },
        {
          "output_type": "display_data",
          "data": {
            "image/png": "[encoded data removed]",
            "text/plain": [
              "<Figure size 432x288 with 1 Axes>"
            ]
          },
          "metadata": {
            "tags": [],
            "needs_background": "light"
          }
        },
        {
          "output_type": "display_data",
          "data": {
            "image/png": "[encoded data removed]",
            "text/plain": [
              "<Figure size 432x288 with 1 Axes>"
            ]
          },
          "metadata": {
            "tags": [],
            "needs_background": "light"
          }
        },
        {
          "output_type": "display_data",
          "data": {
            "image/png": "[encoded data removed]",
            "text/plain": [
              "<Figure size 432x288 with 1 Axes>"
            ]
          },
          "metadata": {
            "tags": [],
            "needs_background": "light"
          }
        }
      ]
    },
    {
      "cell_type": "markdown",
      "metadata": {
        "id": "iIIocr2OAXLt"
      },
      "source": [
        "***\n",
        "<a id=\"coding_tutorial_5\"></a>\n",
        "## The evaluate and predict methods\n",
        "#### Evaluate the model on the test set"
      ]
    },
    {
      "cell_type": "code",
      "metadata": {
        "id": "RX56m1KXAXLt",
        "outputId": "adc1e3e9-3ec4-446b-9594-02362251a01c",
        "colab": {
          "base_uri": "https://localhost:8080/"
        }
      },
      "source": [
        "# Evaluate the model\n",
        "test_loss, test_acc, test_topk = model.evaluate(test_images[...,np.newaxis], \n",
        "    test_labels, verbose=2)"
      ],
      "execution_count": 16,
      "outputs": [
        {
          "output_type": "stream",
          "text": [
            "313/313 - 1s - loss: 0.3782 - sparse_categorical_accuracy: 0.8587 - sparse_top_k_categorical_accuracy: 0.9978\n"
          ],
          "name": "stdout"
        }
      ]
    },
    {
      "cell_type": "markdown",
      "metadata": {
        "id": "04OC9qGiAXLv"
      },
      "source": [
        "#### Make predictions from the model"
      ]
    },
    {
      "cell_type": "code",
      "metadata": {
        "id": "9pcG97pbAXLw",
        "outputId": "a81dd1a2-0b02-4a4f-f597-021e0c61004d",
        "colab": {
          "base_uri": "https://localhost:8080/",
          "height": 299
        }
      },
      "source": [
        "# Choose a random test image\n",
        "\n",
        "test_image = test_images[random_idx]\n",
        "plt.imshow(test_image)\n",
        "plt.show()\n",
        "print(f\"Label: {labels[test_labels[random_idx]]}\")\n",
        "\n",
        "# Get the model predictions\n",
        "pred = model.predict(test_image[np.newaxis,...,np.newaxis])\n",
        "print(f\"Model predictions: {labels[np.argmax(pred)]}\")"
      ],
      "execution_count": 17,
      "outputs": [
        {
          "output_type": "display_data",
          "data": {
            "image/png": "[encoded data removed]",
            "text/plain": [
              "<Figure size 432x288 with 1 Axes>"
            ]
          },
          "metadata": {
            "tags": [],
            "needs_background": "light"
          }
        },
        {
          "output_type": "stream",
          "text": [
            "Label: Bag\n",
            "Model predictions: Bag\n"
          ],
          "name": "stdout"
        }
      ]
    }
  ]
}