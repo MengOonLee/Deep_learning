{
 "cells": [
  {
   "cell_type": "markdown",
   "metadata": {},
   "source": [
    "# The Sequential model API\n",
    "\n",
    "## Coding tutorials\n",
    "#### [1. Building a Sequential model](#coding_tutorial_1)\n",
    "#### [2. Convolutional and pooling layers](#coding_tutorial_2)\n",
    "#### [3. The compile method](#coding_tutorial_3)\n",
    "#### [4. The fit method](#coding_tutorial_4)\n",
    "#### [5. The evaluate and predict methods](#coding_tutorial_5)"
   ]
  },
  {
   "cell_type": "code",
   "execution_count": 1,
   "metadata": {},
   "outputs": [
    {
     "name": "stdout",
     "output_type": "stream",
     "text": [
      "2.2.0\n"
     ]
    }
   ],
   "source": [
    "import tensorflow as tf\n",
    "print(tf.__version__)\n",
    "# Check GPU available\n",
    "gpus = tf.config.list_physical_devices('GPU')\n",
    "if gpus:\n",
    "    try:\n",
    "        for gpu in gpus:\n",
    "            tf.config.experimental.set_memory_growth(gpu, True)\n",
    "    except RuntimeError as e:\n",
    "        print(e)"
   ]
  },
  {
   "cell_type": "markdown",
   "metadata": {},
   "source": [
    "***\n",
    "## Load the data"
   ]
  },
  {
   "cell_type": "code",
   "execution_count": 2,
   "metadata": {},
   "outputs": [
    {
     "name": "stdout",
     "output_type": "stream",
     "text": [
      "Train data shape: (60000, 28, 28)\n",
      "Train label at 0: 9\n"
     ]
    }
   ],
   "source": [
    "from tensorflow.keras.preprocessing import image\n",
    "\n",
    "# Load the Fashion-MNIST data\n",
    "fashion_mnist_data = tf.keras.datasets.fashion_mnist\n",
    "(train_images, train_labels), (test_images, test_labels) = fashion_mnist_data.load_data()\n",
    "\n",
    "# Print the shape of the training data\n",
    "print(\"Train data shape: {}\".format(train_images.shape))\n",
    "\n",
    "# Define the labels\n",
    "labels = ['T-shirt/top', 'Trouser', 'Pullover', 'Dress', 'Coat', \n",
    "    'Sandal', 'Shirt', 'Sneaker', 'Bag', 'Ankle boot']\n",
    "print(\"Train label at 0:\", train_labels[0])"
   ]
  },
  {
   "cell_type": "code",
   "execution_count": 3,
   "metadata": {},
   "outputs": [],
   "source": [
    "# Rescale the image values so that they lie in between 0 and 1\n",
    "train_images = train_images / 255.\n",
    "test_images = test_images / 255."
   ]
  },
  {
   "cell_type": "code",
   "execution_count": 4,
   "metadata": {},
   "outputs": [
    {
     "name": "stdout",
     "output_type": "stream",
     "text": [
      "label: Coat\n"
     ]
    },
    {
     "data": {
      "image/png": "[encoded data removed]",
      "text/plain": [
       "<Figure size 432x288 with 1 Axes>"
      ]
     },
     "metadata": {
      "needs_background": "light"
     },
     "output_type": "display_data"
    }
   ],
   "source": [
    "import matplotlib.pyplot as plt\n",
    "%matplotlib inline\n",
    "\n",
    "# Display one of the images\n",
    "i = 24\n",
    "img = train_images[i,:,:]\n",
    "print(f\"label: {labels[train_labels[i]]}\")\n",
    "plt.imshow(img)\n",
    "plt.show()"
   ]
  },
  {
   "cell_type": "markdown",
   "metadata": {},
   "source": [
    "***\n",
    "<a id=\"coding_tutorial_1\"></a>\n",
    "## Building a Sequential model\n",
    "\n",
    "#### Build a feedforward neural network model"
   ]
  },
  {
   "cell_type": "code",
   "execution_count": 33,
   "metadata": {},
   "outputs": [
    {
     "name": "stdout",
     "output_type": "stream",
     "text": [
      "Model: \"sequential_2\"\n",
      "_________________________________________________________________\n",
      "Layer (type)                 Output Shape              Param #   \n",
      "=================================================================\n",
      "flatten_2 (Flatten)          (None, 784)               0         \n",
      "_________________________________________________________________\n",
      "layer_1 (Dense)              (None, 16)                12560     \n",
      "_________________________________________________________________\n",
      "dense_4 (Dense)              (None, 16)                272       \n",
      "_________________________________________________________________\n",
      "dense_5 (Dense)              (None, 10)                170       \n",
      "=================================================================\n",
      "Total params: 13,002\n",
      "Trainable params: 13,002\n",
      "Non-trainable params: 0\n",
      "_________________________________________________________________\n"
     ]
    }
   ],
   "source": [
    "from tensorflow.keras.models import Sequential\n",
    "from tensorflow.keras.layers import Dense, Flatten\n",
    "\n",
    "# Build the sequential feedforward neural network model\n",
    "\n",
    "model = Sequential()\n",
    "model.add(Flatten(input_shape=(28,28)))\n",
    "model.add(Dense(16, activation='relu', name='layer_1'))\n",
    "model.add(Dense(16, activation='sigmoid'))\n",
    "model.add(Dense(10, activation='softmax'))\n",
    "\n",
    "# Print the model summary\n",
    "model.summary()"
   ]
  },
  {
   "cell_type": "code",
   "execution_count": 6,
   "metadata": {},
   "outputs": [
    {
     "data": {
      "text/plain": [
       "[<tf.Variable 'layer_1/kernel:0' shape=(784, 16) dtype=float32, numpy=\n",
       " array([[ 6.56010956e-03,  1.97050869e-02,  6.16535544e-05, ...,\n",
       "          2.84154266e-02, -3.02271135e-02, -2.08251998e-02],\n",
       "        [ 6.00523800e-02, -4.22012024e-02,  2.61028260e-02, ...,\n",
       "          5.55219948e-02, -5.04186824e-02, -5.26959114e-02],\n",
       "        [ 1.31844804e-02,  6.91634715e-02, -7.54638761e-03, ...,\n",
       "         -1.74939707e-02,  3.18592042e-02, -6.26391619e-02],\n",
       "        ...,\n",
       "        [ 9.54912603e-03, -3.68044451e-02, -2.56964602e-02, ...,\n",
       "          2.32030675e-02, -1.95161626e-02,  5.95196337e-02],\n",
       "        [ 7.77827948e-02,  7.11623430e-02, -1.06154755e-02, ...,\n",
       "         -8.20396543e-02, -1.02237687e-02,  3.15778852e-02],\n",
       "        [-8.24317336e-02,  5.65167516e-03,  1.19200572e-02, ...,\n",
       "         -5.22849597e-02, -8.18238482e-02,  7.17021525e-02]], dtype=float32)>,\n",
       " <tf.Variable 'layer_1/bias:0' shape=(16,) dtype=float32, numpy=\n",
       " array([0., 0., 0., 0., 0., 0., 0., 0., 0., 0., 0., 0., 0., 0., 0., 0.],\n",
       "       dtype=float32)>,\n",
       " <tf.Variable 'dense/kernel:0' shape=(16, 16) dtype=float32, numpy=\n",
       " array([[ 0.30494234,  0.11884168,  0.3153089 ,  0.06233796,  0.22032407,\n",
       "         -0.327494  , -0.22110292,  0.36629805, -0.19966881,  0.05445838,\n",
       "          0.14124605, -0.23349255,  0.00570247, -0.10224521,  0.23736927,\n",
       "          0.10212442],\n",
       "        [-0.20146877, -0.01714954,  0.3116884 , -0.3005802 ,  0.08133647,\n",
       "          0.41309038,  0.15574285,  0.16332802,  0.08196744, -0.01422694,\n",
       "          0.3309088 , -0.11188263, -0.17625281, -0.19613001,  0.33149716,\n",
       "          0.11125389],\n",
       "        [ 0.17121324,  0.21419981,  0.25101838,  0.2773749 , -0.17889622,\n",
       "         -0.33082333, -0.30423957, -0.16042835, -0.19620712,  0.17667434,\n",
       "          0.14599761, -0.32580295,  0.25895038,  0.09991494, -0.18337017,\n",
       "          0.15255997],\n",
       "        [-0.12277541, -0.33723608,  0.2665682 ,  0.07307568, -0.3527335 ,\n",
       "         -0.23356296,  0.23068705, -0.13374013, -0.09904453, -0.22580625,\n",
       "          0.28198943, -0.1598945 , -0.09216648,  0.22659853,  0.20125535,\n",
       "          0.30236062],\n",
       "        [ 0.33682093, -0.08305508,  0.35903713,  0.19554177,  0.37648574,\n",
       "          0.01886237, -0.41273195,  0.42557147, -0.05300903,  0.42604402,\n",
       "         -0.0062077 ,  0.18204305,  0.21378878, -0.01813504,  0.15246072,\n",
       "          0.22513482],\n",
       "        [ 0.13118562,  0.16932514,  0.15344152, -0.43162104,  0.25392434,\n",
       "          0.3396025 ,  0.04251382, -0.37062332, -0.2951156 ,  0.04599255,\n",
       "         -0.27794892, -0.18853238,  0.13533959, -0.05097204,  0.35327432,\n",
       "          0.23477343],\n",
       "        [-0.3292059 , -0.38058922,  0.282227  , -0.19123083,  0.03350949,\n",
       "          0.03662717, -0.09711564,  0.34619996, -0.41301894, -0.31217682,\n",
       "         -0.25203797,  0.35206035, -0.27398634,  0.34985676, -0.07351917,\n",
       "         -0.16760889],\n",
       "        [-0.28495282, -0.28846827, -0.03073022,  0.1716353 , -0.03539443,\n",
       "          0.04569924, -0.3143972 , -0.2889223 ,  0.06854597,  0.24366722,\n",
       "         -0.3248417 , -0.1504834 , -0.05382296, -0.03772625, -0.39645633,\n",
       "         -0.13774607],\n",
       "        [-0.2787863 , -0.26252326, -0.2802596 , -0.33179325,  0.17302033,\n",
       "          0.15155897,  0.10410848, -0.01181686, -0.3130047 ,  0.2816374 ,\n",
       "          0.1384317 , -0.1361885 ,  0.28946236, -0.09066427, -0.01983744,\n",
       "          0.23881426],\n",
       "        [-0.34569615, -0.22000302,  0.25781468, -0.39292186, -0.23527919,\n",
       "         -0.03157386,  0.16932192, -0.12131953,  0.12972227, -0.29723436,\n",
       "          0.08630624, -0.11716646,  0.17030093, -0.2694044 ,  0.15579596,\n",
       "          0.03325841],\n",
       "        [ 0.21572605, -0.32558635,  0.16495398, -0.16440386,  0.28717563,\n",
       "         -0.05338112, -0.3148343 , -0.23150624,  0.1179997 ,  0.2745401 ,\n",
       "          0.33620295,  0.20250383,  0.3694339 ,  0.02323779, -0.35351944,\n",
       "          0.07632634],\n",
       "        [-0.4273289 , -0.18467633,  0.27338663, -0.25341454,  0.3836203 ,\n",
       "          0.35011163,  0.20296088, -0.38985094,  0.040782  ,  0.3962477 ,\n",
       "          0.19757429, -0.22599715, -0.32805282,  0.22556302,  0.26430342,\n",
       "         -0.12060699],\n",
       "        [-0.14470866,  0.21180776,  0.11577109, -0.28545195, -0.11949861,\n",
       "         -0.13583422, -0.2665672 ,  0.4198397 , -0.33952063,  0.08032683,\n",
       "          0.01043615,  0.31386104,  0.2389715 , -0.03901839,  0.1390889 ,\n",
       "         -0.27120334],\n",
       "        [-0.3232125 ,  0.3018718 , -0.3647244 ,  0.19291404, -0.10702217,\n",
       "         -0.20678006,  0.24673018, -0.02754685, -0.20650195,  0.13080814,\n",
       "          0.21548471, -0.3928268 , -0.2670005 , -0.14554933, -0.09940678,\n",
       "         -0.01709357],\n",
       "        [-0.01981875, -0.28416848,  0.38074318, -0.202946  , -0.03412655,\n",
       "          0.00847286, -0.2668885 , -0.20913854,  0.24674681, -0.09983915,\n",
       "          0.18426505, -0.23352796, -0.07245541,  0.3981106 ,  0.05402067,\n",
       "          0.02426234],\n",
       "        [ 0.20167151,  0.24218181,  0.1627861 , -0.21220079,  0.41763404,\n",
       "          0.3397496 , -0.08062136,  0.2446802 ,  0.21355799, -0.21822661,\n",
       "         -0.19227777, -0.09000984, -0.3850548 ,  0.01851434,  0.15944323,\n",
       "          0.3364083 ]], dtype=float32)>,\n",
       " <tf.Variable 'dense/bias:0' shape=(16,) dtype=float32, numpy=\n",
       " array([0., 0., 0., 0., 0., 0., 0., 0., 0., 0., 0., 0., 0., 0., 0., 0.],\n",
       "       dtype=float32)>,\n",
       " <tf.Variable 'dense_1/kernel:0' shape=(16, 10) dtype=float32, numpy=\n",
       " array([[-0.42209104,  0.29470116,  0.00380671, -0.10334814, -0.27420533,\n",
       "          0.05491781, -0.09593832, -0.1206964 , -0.08399796, -0.04244944],\n",
       "        [-0.28108275, -0.45906377, -0.33327562,  0.02039278,  0.16852403,\n",
       "          0.35753393, -0.06226313, -0.41989535, -0.43921998,  0.30565858],\n",
       "        [-0.17942399,  0.25378597, -0.4131126 ,  0.2358163 , -0.01905239,\n",
       "         -0.22089773, -0.01924685, -0.12431103, -0.47214797, -0.18297324],\n",
       "        [ 0.44065726,  0.36779308,  0.14517063, -0.0350014 , -0.46604088,\n",
       "          0.05461246, -0.30455175, -0.06827208,  0.10623056,  0.23173833],\n",
       "        [-0.29810655, -0.26287347, -0.21865815, -0.16425496,  0.20623034,\n",
       "          0.03945005,  0.2301799 , -0.11007428, -0.25052297,  0.04751509],\n",
       "        [-0.387306  ,  0.01991653,  0.4619562 , -0.14220092, -0.002756  ,\n",
       "          0.14043999,  0.30068868, -0.05417553,  0.05518091, -0.35490853],\n",
       "        [-0.39493033,  0.03683931, -0.35705808, -0.2310199 ,  0.41327012,\n",
       "          0.2731222 ,  0.17317027, -0.12532339, -0.29499322,  0.4413858 ],\n",
       "        [-0.33987325,  0.47488838, -0.41455996, -0.36149988, -0.02627915,\n",
       "         -0.29969418,  0.34439582, -0.3673218 ,  0.41758716,  0.0494954 ],\n",
       "        [ 0.04044926,  0.13723671, -0.40125495, -0.15266678,  0.46444815,\n",
       "          0.37613428, -0.30018634,  0.25726467, -0.07868183,  0.3625633 ],\n",
       "        [ 0.28140825, -0.14503455,  0.10075283, -0.04735154, -0.14197561,\n",
       "         -0.39478487,  0.22658265, -0.2684471 , -0.02198008,  0.31386346],\n",
       "        [-0.1665045 ,  0.28274775,  0.09228808, -0.20405307,  0.16289145,\n",
       "          0.30378002, -0.1510593 ,  0.43284738,  0.30197775, -0.17958915],\n",
       "        [-0.47512993,  0.00866255,  0.16150379, -0.04913208, -0.07665426,\n",
       "         -0.11993498,  0.23198986, -0.40902287, -0.39908224,  0.22919697],\n",
       "        [ 0.0079537 ,  0.4211018 ,  0.42338067, -0.09622237,  0.08286601,\n",
       "          0.46101964, -0.21651238,  0.3546822 , -0.44143972,  0.20093346],\n",
       "        [ 0.4325369 , -0.368835  , -0.28718907,  0.20123684, -0.425195  ,\n",
       "          0.156699  ,  0.4654398 , -0.262657  , -0.2526179 ,  0.20930463],\n",
       "        [-0.45151892, -0.34266257, -0.04168952, -0.07596636,  0.26171577,\n",
       "         -0.19495943,  0.28135753, -0.2228891 , -0.29905236,  0.44215637],\n",
       "        [-0.4334836 ,  0.394127  ,  0.20489776,  0.01762462,  0.45998174,\n",
       "         -0.06912282,  0.14775014,  0.1002056 ,  0.1728276 , -0.05310428]],\n",
       "       dtype=float32)>,\n",
       " <tf.Variable 'dense_1/bias:0' shape=(10,) dtype=float32, numpy=array([0., 0., 0., 0., 0., 0., 0., 0., 0., 0.], dtype=float32)>]"
      ]
     },
     "execution_count": 6,
     "metadata": {},
     "output_type": "execute_result"
    }
   ],
   "source": [
    "model.weights"
   ]
  },
  {
   "cell_type": "markdown",
   "metadata": {},
   "source": [
    "***\n",
    "<a id=\"coding_tutorial_3\"></a>\n",
    "## The compile method\n",
    "\n",
    "#### Compile the model"
   ]
  },
  {
   "cell_type": "code",
   "execution_count": 34,
   "metadata": {},
   "outputs": [
    {
     "name": "stdout",
     "output_type": "stream",
     "text": [
      "categorical_crossentropy\n",
      "<tensorflow.python.keras.optimizer_v2.gradient_descent.SGD object at 0x7faaa0746e80>\n",
      "[]\n",
      "<tf.Variable 'learning_rate:0' shape=() dtype=float32, numpy=0.01>\n"
     ]
    }
   ],
   "source": [
    "# Define the model optimizer, loss function and metrics\n",
    "model.compile(optimizer='sgd',\n",
    "    loss='categorical_crossentropy',\n",
    "    metrics=['accuracy', 'top_k_categorical_accuracy'])\n",
    "\n",
    "# Print the resulting model attributes\n",
    "print(model.loss)\n",
    "print(model.optimizer)\n",
    "print(model.metrics)\n",
    "print(model.optimizer.lr)"
   ]
  },
  {
   "cell_type": "code",
   "execution_count": 10,
   "metadata": {},
   "outputs": [
    {
     "name": "stdout",
     "output_type": "stream",
     "text": [
      "Epoch 1/8\n",
      "1875/1875 - 3s - loss: 1.7906 - accuracy: 0.4578 - top_k_categorical_accuracy: 0.3257\n",
      "Epoch 2/8\n",
      "1875/1875 - 3s - loss: 1.0897 - accuracy: 0.6527 - top_k_categorical_accuracy: 0.3909\n",
      "Epoch 3/8\n",
      "1875/1875 - 3s - loss: 0.8673 - accuracy: 0.7102 - top_k_categorical_accuracy: 0.4145\n",
      "Epoch 4/8\n",
      "1875/1875 - 3s - loss: 0.7453 - accuracy: 0.7603 - top_k_categorical_accuracy: 0.4666\n",
      "Epoch 5/8\n",
      "1875/1875 - 4s - loss: 0.6626 - accuracy: 0.7887 - top_k_categorical_accuracy: 0.4609\n",
      "Epoch 6/8\n",
      "1875/1875 - 4s - loss: 0.6082 - accuracy: 0.8024 - top_k_categorical_accuracy: 0.4464\n",
      "Epoch 7/8\n",
      "1875/1875 - 4s - loss: 0.5713 - accuracy: 0.8108 - top_k_categorical_accuracy: 0.4510\n",
      "Epoch 8/8\n",
      "1875/1875 - 4s - loss: 0.5449 - accuracy: 0.8171 - top_k_categorical_accuracy: 0.4433\n"
     ]
    }
   ],
   "source": [
    "import numpy as np \n",
    "\n",
    "# Fit the model\n",
    "history = model.fit(train_images, train_labels,\n",
    "    epochs=8, batch_size=32, verbose=2)"
   ]
  },
  {
   "cell_type": "code",
   "execution_count": 12,
   "metadata": {},
   "outputs": [
    {
     "name": "stdout",
     "output_type": "stream",
     "text": [
      "       loss  accuracy  top_k_categorical_accuracy\n",
      "0  1.790555  0.457767                    0.325717\n",
      "1  1.089701  0.652733                    0.390883\n",
      "2  0.867283  0.710217                    0.414483\n",
      "3  0.745331  0.760283                    0.466583\n",
      "4  0.662642  0.788700                    0.460900\n"
     ]
    },
    {
     "data": {
      "image/png": "[encoded data removed]",
      "text/plain": [
       "<Figure size 432x288 with 1 Axes>"
      ]
     },
     "metadata": {
      "needs_background": "light"
     },
     "output_type": "display_data"
    },
    {
     "data": {
      "image/png": "[encoded data removed]",
      "text/plain": [
       "<Figure size 432x288 with 1 Axes>"
      ]
     },
     "metadata": {
      "needs_background": "light"
     },
     "output_type": "display_data"
    },
    {
     "data": {
      "image/png": "[encoded data removed]",
      "text/plain": [
       "<Figure size 432x288 with 1 Axes>"
      ]
     },
     "metadata": {
      "needs_background": "light"
     },
     "output_type": "display_data"
    }
   ],
   "source": [
    "# Plot training history\n",
    "import pandas as pd\n",
    "\n",
    "# Load the history into a pandas Dataframe\n",
    "df = pd.DataFrame(history.history)\n",
    "print(df.head())\n",
    "\n",
    "# Make a plot for the loss\n",
    "loss_plot = df.plot(y=\"loss\", title=\"Loss vs Epochs\", legend=False)\n",
    "loss_plot.set(xlabel=\"Epochs\", ylabel=\"Loss\")\n",
    "plt.show()\n",
    "\n",
    "# Make a plot for the accuracy\n",
    "acc_plot = df.plot(y=\"accuracy\",\n",
    "    title=\"Accuracy vs Epochs\", legend=False)\n",
    "acc_plot.set(xlabel=\"Epochs\", ylabel=\"Accuracy\")\n",
    "plt.show()\n",
    "\n",
    "# Make a plot for the topK\n",
    "topk_plot = df.plot(y=\"top_k_categorical_accuracy\",\n",
    "    title=\"TopK vs Epochs\", legend=False)\n",
    "acc_plot.set(xlabel=\"Epochs\", ylabel=\"TopK\")\n",
    "plt.show()"
   ]
  },
  {
   "cell_type": "markdown",
   "metadata": {},
   "source": [
    "***\n",
    "<a id=\"coding_tutorial_5\"></a>\n",
    "## The evaluate and predict methods\n",
    "#### Evaluate the model on the test set"
   ]
  },
  {
   "cell_type": "code",
   "execution_count": 13,
   "metadata": {},
   "outputs": [
    {
     "name": "stdout",
     "output_type": "stream",
     "text": [
      "313/313 - 1s - loss: 0.5624 - accuracy: 0.8063 - top_k_categorical_accuracy: 0.4523\n"
     ]
    }
   ],
   "source": [
    "# Evaluate the model\n",
    "test_loss, test_acc, test_topk = model.evaluate(test_images, \n",
    "    test_labels, verbose=2)"
   ]
  },
  {
   "cell_type": "markdown",
   "metadata": {},
   "source": [
    "#### Make predictions from the model"
   ]
  },
  {
   "cell_type": "code",
   "execution_count": 25,
   "metadata": {},
   "outputs": [
    {
     "data": {
      "image/png": "[encoded data removed]",
      "text/plain": [
       "<Figure size 432x288 with 1 Axes>"
      ]
     },
     "metadata": {
      "needs_background": "light"
     },
     "output_type": "display_data"
    },
    {
     "name": "stdout",
     "output_type": "stream",
     "text": [
      "Label: Bag\n",
      "Model predictions: T-shirt/top\n"
     ]
    }
   ],
   "source": [
    "# Choose a random test image\n",
    "\n",
    "random_idx = np.random.choice(test_images.shape[0])\n",
    "test_image = test_images[random_idx]\n",
    "plt.imshow(test_image)\n",
    "plt.show()\n",
    "print(f\"Label: {labels[test_labels[random_idx]]}\")\n",
    "\n",
    "# Get the model predictions\n",
    "pred = model.predict(test_image[np.newaxis,...])\n",
    "print(f\"Model predictions: {labels[np.argmax(pred)]}\")"
   ]
  },
  {
   "cell_type": "markdown",
   "metadata": {},
   "source": [
    "***\n",
    "<a id=\"coding_tutorial_2\"></a>\n",
    "## Convolution and pooling layers\n",
    "#### Build a convolutional neural network model"
   ]
  },
  {
   "cell_type": "code",
   "execution_count": 26,
   "metadata": {},
   "outputs": [
    {
     "name": "stdout",
     "output_type": "stream",
     "text": [
      "Model: \"sequential_1\"\n",
      "_________________________________________________________________\n",
      "Layer (type)                 Output Shape              Param #   \n",
      "=================================================================\n",
      "conv2d (Conv2D)              (None, 14, 14, 16)        160       \n",
      "_________________________________________________________________\n",
      "max_pooling2d (MaxPooling2D) (None, 4, 4, 16)          0         \n",
      "_________________________________________________________________\n",
      "flatten_1 (Flatten)          (None, 256)               0         \n",
      "_________________________________________________________________\n",
      "dense_2 (Dense)              (None, 64)                16448     \n",
      "_________________________________________________________________\n",
      "dense_3 (Dense)              (None, 10)                650       \n",
      "=================================================================\n",
      "Total params: 17,258\n",
      "Trainable params: 17,258\n",
      "Non-trainable params: 0\n",
      "_________________________________________________________________\n"
     ]
    }
   ],
   "source": [
    "from tensorflow.keras.models import Sequential\n",
    "from tensorflow.keras.layers import Conv2D, MaxPooling2D, Dense, Flatten\n",
    "\n",
    "# Build the Sequential convolutional neural network model\n",
    "\n",
    "model = Sequential([\n",
    "    Conv2D(16, kernel_size=3, padding='SAME', strides=2, \n",
    "        activation='relu', input_shape=(28,28,1), \n",
    "        data_format='channels_last'),\n",
    "    MaxPooling2D(pool_size=3, data_format='channels_last'),\n",
    "    Flatten(),\n",
    "    Dense(64, activation='relu'),\n",
    "    Dense(10, activation='softmax')])\n",
    "\n",
    "# Print the model summary\n",
    "model.summary()"
   ]
  },
  {
   "cell_type": "markdown",
   "metadata": {},
   "source": [
    "***\n",
    "<a id=\"coding_tutorial_3\"></a>\n",
    "## The compile method\n",
    "\n",
    "#### Compile the model"
   ]
  },
  {
   "cell_type": "code",
   "execution_count": 28,
   "metadata": {},
   "outputs": [
    {
     "name": "stdout",
     "output_type": "stream",
     "text": [
      "<tensorflow.python.keras.losses.SparseCategoricalCrossentropy object at 0x7faad821cd00>\n",
      "<tensorflow.python.keras.optimizer_v2.adam.Adam object at 0x7faad821ce80>\n",
      "[]\n",
      "<tf.Variable 'learning_rate:0' shape=() dtype=float32, numpy=0.005>\n"
     ]
    }
   ],
   "source": [
    "# Define the model optimizer, loss function and metrics\n",
    "from tensorflow.keras.optimizers import Adam\n",
    "from tensorflow.keras.losses import SparseCategoricalCrossentropy\n",
    "from tensorflow.keras.metrics import SparseCategoricalAccuracy, \\\n",
    "    SparseTopKCategoricalAccuracy\n",
    "\n",
    "model.compile(optimizer=Adam(learning_rate=1e-3),\n",
    "    loss=SparseCategoricalCrossentropy(),\n",
    "    metrics=[SparseCategoricalAccuracy(),\n",
    "        SparseTopKCategoricalAccuracy()])\n",
    "\n",
    "# Print the resulting model attributes\n",
    "print(model.loss)\n",
    "print(model.optimizer)\n",
    "print(model.metrics)\n",
    "print(model.optimizer.lr)"
   ]
  },
  {
   "cell_type": "code",
   "execution_count": 29,
   "metadata": {},
   "outputs": [
    {
     "name": "stdout",
     "output_type": "stream",
     "text": [
      "Epoch 1/8\n",
      "1875/1875 - 5s - loss: 0.5078 - sparse_categorical_accuracy: 0.8142 - sparse_top_k_categorical_accuracy: 0.9945\n",
      "Epoch 2/8\n",
      "1875/1875 - 4s - loss: 0.3828 - sparse_categorical_accuracy: 0.8563 - sparse_top_k_categorical_accuracy: 0.9976\n",
      "Epoch 3/8\n",
      "1875/1875 - 4s - loss: 0.3487 - sparse_categorical_accuracy: 0.8680 - sparse_top_k_categorical_accuracy: 0.9982\n",
      "Epoch 4/8\n",
      "1875/1875 - 4s - loss: 0.3284 - sparse_categorical_accuracy: 0.8769 - sparse_top_k_categorical_accuracy: 0.9985\n",
      "Epoch 5/8\n",
      "1875/1875 - 5s - loss: 0.3173 - sparse_categorical_accuracy: 0.8804 - sparse_top_k_categorical_accuracy: 0.9987\n",
      "Epoch 6/8\n",
      "1875/1875 - 5s - loss: 0.3070 - sparse_categorical_accuracy: 0.8856 - sparse_top_k_categorical_accuracy: 0.9988\n",
      "Epoch 7/8\n",
      "1875/1875 - 5s - loss: 0.2954 - sparse_categorical_accuracy: 0.8890 - sparse_top_k_categorical_accuracy: 0.9990\n",
      "Epoch 8/8\n",
      "1875/1875 - 5s - loss: 0.2878 - sparse_categorical_accuracy: 0.8913 - sparse_top_k_categorical_accuracy: 0.9990\n"
     ]
    }
   ],
   "source": [
    "import numpy as np \n",
    "\n",
    "# Fit the model\n",
    "history = model.fit(train_images[...,np.newaxis], train_labels,\n",
    "    epochs=8, batch_size=32, verbose=2)"
   ]
  },
  {
   "cell_type": "code",
   "execution_count": 30,
   "metadata": {},
   "outputs": [
    {
     "name": "stdout",
     "output_type": "stream",
     "text": [
      "       loss  sparse_categorical_accuracy  sparse_top_k_categorical_accuracy\n",
      "0  0.507814                     0.814200                           0.994483\n",
      "1  0.382807                     0.856317                           0.997617\n",
      "2  0.348719                     0.867967                           0.998233\n",
      "3  0.328355                     0.876850                           0.998550\n",
      "4  0.317323                     0.880383                           0.998733\n"
     ]
    },
    {
     "data": {
      "image/png": "[encoded data removed]",
      "text/plain": [
       "<Figure size 432x288 with 1 Axes>"
      ]
     },
     "metadata": {
      "needs_background": "light"
     },
     "output_type": "display_data"
    },
    {
     "data": {
      "image/png": "[encoded data removed]",
      "text/plain": [
       "<Figure size 432x288 with 1 Axes>"
      ]
     },
     "metadata": {
      "needs_background": "light"
     },
     "output_type": "display_data"
    },
    {
     "data": {
      "image/png": "[encoded data removed]",
      "text/plain": [
       "<Figure size 432x288 with 1 Axes>"
      ]
     },
     "metadata": {
      "needs_background": "light"
     },
     "output_type": "display_data"
    }
   ],
   "source": [
    "# Plot training history\n",
    "import pandas as pd\n",
    "\n",
    "# Load the history into a pandas Dataframe\n",
    "df = pd.DataFrame(history.history)\n",
    "print(df.head())\n",
    "\n",
    "# Make a plot for the loss\n",
    "loss_plot = df.plot(y=\"loss\", title=\"Loss vs Epochs\", legend=False)\n",
    "loss_plot.set(xlabel=\"Epochs\", ylabel=\"Loss\")\n",
    "plt.show()\n",
    "\n",
    "# Make a plot for the accuracy\n",
    "acc_plot = df.plot(y=\"sparse_categorical_accuracy\",\n",
    "    title=\"Accuracy vs Epochs\", legend=False)\n",
    "acc_plot.set(xlabel=\"Epochs\", ylabel=\"Accuracy\")\n",
    "plt.show()\n",
    "\n",
    "# Make a plot for the topK\n",
    "topk_plot = df.plot(y=\"sparse_top_k_categorical_accuracy\",\n",
    "    title=\"TopK vs Epochs\", legend=False)\n",
    "acc_plot.set(xlabel=\"Epochs\", ylabel=\"TopK\")\n",
    "plt.show()"
   ]
  },
  {
   "cell_type": "markdown",
   "metadata": {},
   "source": [
    "***\n",
    "<a id=\"coding_tutorial_5\"></a>\n",
    "## The evaluate and predict methods\n",
    "#### Evaluate the model on the test set"
   ]
  },
  {
   "cell_type": "code",
   "execution_count": 31,
   "metadata": {},
   "outputs": [
    {
     "name": "stdout",
     "output_type": "stream",
     "text": [
      "313/313 - 1s - loss: 0.3636 - sparse_categorical_accuracy: 0.8702 - sparse_top_k_categorical_accuracy: 0.9981\n"
     ]
    }
   ],
   "source": [
    "# Evaluate the model\n",
    "test_loss, test_acc, test_topk = model.evaluate(test_images[...,np.newaxis], \n",
    "    test_labels, verbose=2)"
   ]
  },
  {
   "cell_type": "markdown",
   "metadata": {},
   "source": [
    "#### Make predictions from the model"
   ]
  },
  {
   "cell_type": "code",
   "execution_count": 25,
   "metadata": {},
   "outputs": [
    {
     "data": {
      "image/png": "[encoded data removed]",
      "text/plain": [
       "<Figure size 432x288 with 1 Axes>"
      ]
     },
     "metadata": {
      "needs_background": "light"
     },
     "output_type": "display_data"
    },
    {
     "name": "stdout",
     "output_type": "stream",
     "text": [
      "Label: Pullover\n",
      "Model predictions: Pullover\n"
     ]
    }
   ],
   "source": [
    "# Choose a random test image\n",
    "\n",
    "test_image = test_images[random_idx]\n",
    "plt.imshow(test_image)\n",
    "plt.show()\n",
    "print(f\"Label: {labels[test_labels[random_idx]]}\")\n",
    "\n",
    "# Get the model predictions\n",
    "pred = model.predict(test_image[np.newaxis,...,np.newaxis])\n",
    "print(f\"Model predictions: {labels[np.argmax(pred)]}\")"
   ]
  },
  {
   "cell_type": "code",
   "execution_count": null,
   "metadata": {},
   "outputs": [],
   "source": []
  }
 ],
 "metadata": {
  "kernelspec": {
   "display_name": "Python 3",
   "language": "python",
   "name": "python3"
  },
  "language_info": {
   "codemirror_mode": {
    "name": "ipython",
    "version": 3
   },
   "file_extension": ".py",
   "mimetype": "text/x-python",
   "name": "python",
   "nbconvert_exporter": "python",
   "pygments_lexer": "ipython3",
   "version": "3.8.5"
  }
 },
 "nbformat": 4,
 "nbformat_minor": 4
}
