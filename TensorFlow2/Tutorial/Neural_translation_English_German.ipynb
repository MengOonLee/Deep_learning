{
  "nbformat": 4,
  "nbformat_minor": 0,
  "metadata": {
    "kernelspec": {
      "name": "python3",
      "display_name": "Python 3"
    },
    "colab": {
      "name": "Capstone Project.ipynb",
      "provenance": [],
      "collapsed_sections": [],
      "include_colab_link": true
    }
  },
  "cells": [
    {
      "cell_type": "markdown",
      "metadata": {
        "id": "view-in-github",
        "colab_type": "text"
      },
      "source": [
        "<a href=\"https://colab.research.google.com/github/MengOonLee/Deep_learning/blob/master/TensorFlow2/Tutorial/Neural_translation_English_German.ipynb\" target=\"_parent\"><img src=\"https://colab.research.google.com/assets/colab-badge.svg\" alt=\"Open In Colab\"/></a>"
      ]
    },
    {
      "cell_type": "markdown",
      "metadata": {
        "id": "vsX0L1sG1iZj"
      },
      "source": [
        "# Capstone Project\n",
        "## Neural translation model\n",
        "### Instructions\n",
        "\n",
        "In this notebook, you will create a neural network that translates from English to German. You will use concepts from throughout this course, including building more flexible model architectures, freezing layers, data processing pipeline and sequence modelling.\n",
        "\n",
        "This project is peer-assessed. Within this notebook you will find instructions in each section for how to complete the project. Pay close attention to the instructions as the peer review will be carried out according to a grading rubric that checks key parts of the project instructions. Feel free to add extra cells into the notebook as required.\n",
        "\n",
        "### How to submit\n",
        "\n",
        "When you have completed the Capstone project notebook, you will submit a pdf of the notebook for peer review. First ensure that the notebook has been fully executed from beginning to end, and all of the cell outputs are visible. This is important, as the grading rubric depends on the reviewer being able to view the outputs of your notebook. Save the notebook as a pdf (you could download the notebook with File -> Download .ipynb, open the notebook locally, and then File -> Download as -> PDF via LaTeX), and then submit this pdf for review.\n",
        "\n",
        "### Let's get started!\n",
        "\n",
        "We'll start by running some imports, and loading the dataset. For this project you are free to make further imports throughout the notebook as you wish. "
      ]
    },
    {
      "cell_type": "code",
      "metadata": {
        "id": "2VyTvxPN1iZn"
      },
      "source": [
        "import tensorflow as tf\n",
        "import tensorflow_hub as hub\n",
        "import unicodedata\n",
        "import re\n",
        "from IPython.display import Image\n",
        "import os"
      ],
      "execution_count": 2,
      "outputs": []
    },
    {
      "cell_type": "markdown",
      "metadata": {
        "id": "wuIi4lAR1iZt"
      },
      "source": [
        "![Flags overview image](https://github.com/MengOonLee/Deep_learning/blob/master/TensorFlow2/Tutorial/image/neural_translation/germany_uk_flags.png?raw=1)\n",
        "\n",
        "For the capstone project, you will use a language dataset from http://www.manythings.org/anki/ to build a neural translation model. This dataset consists of over 200,000 pairs of sentences in English and German. In order to make the training quicker, we will restrict to our dataset to 20,000 pairs. Feel free to change this if you wish - the size of the dataset used is not part of the grading rubric.\n",
        "\n",
        "Your goal is to develop a neural translation model from English to German, making use of a pre-trained English word embedding module."
      ]
    },
    {
      "cell_type": "markdown",
      "metadata": {
        "id": "pi9Dq6vv3FVO"
      },
      "source": [
        "#### Import the data\n",
        "\n",
        "The dataset is available for download as a zip file at the following link:\n",
        "\n",
        "https://drive.google.com/open?id=1KczOciG7sYY7SB9UlBeRP1T9659b121Q\n",
        "\n",
        "You should store the unzipped folder in local drive for use in this Colab notebook."
      ]
    },
    {
      "cell_type": "code",
      "metadata": {
        "id": "Nw99tEEQ3bKL"
      },
      "source": [
        "if not os.path.exists(\"./data\"):\n",
        "    os.makedirs(\"./data\")"
      ],
      "execution_count": 3,
      "outputs": []
    },
    {
      "cell_type": "code",
      "metadata": {
        "colab": {
          "base_uri": "https://localhost:8080/"
        },
        "id": "MAfYIl-cERc_",
        "outputId": "9e0e408d-0c41-4a21-8d15-837c85210492"
      },
      "source": [
        "%%bash\n",
        "\n",
        "fileid=\"1KczOciG7sYY7SB9UlBeRP1T9659b121Q\"\n",
        "filename=\"./data/deu.txt\"\n",
        "curl -c ./cookie -s -L \"https://drive.google.com/uc?export=download&id=${fileid}\" > /dev/null\n",
        "curl -Lb ./cookie \"https://drive.google.com/uc?export=download&confirm=`awk '/download/ {print $NF}' ./cookie`&id=${fileid}\" -o ${filename}"
      ],
      "execution_count": 4,
      "outputs": [
        {
          "output_type": "stream",
          "text": [
            "  % Total    % Received % Xferd  Average Speed   Time    Time     Time  Current\n",
            "                                 Dload  Upload   Total   Spent    Left  Speed\n",
            "\r  0     0    0     0    0     0      0      0 --:--:-- --:--:-- --:--:--     0\r100   408    0   408    0     0    370      0 --:--:--  0:00:01 --:--:--   370\r100   408    0   408    0     0    370      0 --:--:--  0:00:01 --:--:--   370\n",
            "\r  0     0    0     0    0     0      0      0 --:--:--  0:00:01 --:--:--     0\n",
            "\r  0     0    0     0    0     0      0      0 --:--:--  0:00:01 --:--:--     0\r  0     0    0     0    0     0      0      0 --:--:--  0:00:01 --:--:--     0\n",
            "\r100 29.9M    0 29.9M    0     0  14.6M      0 --:--:--  0:00:02 --:--:-- 14.6M\n"
          ],
          "name": "stderr"
        }
      ]
    },
    {
      "cell_type": "code",
      "metadata": {
        "id": "o8PetPpw1iZu"
      },
      "source": [
        "# Run this cell to load the dataset\n",
        "\n",
        "NUM_EXAMPLES = 20000\n",
        "data_examples = []\n",
        "with open('data/deu.txt', 'r', encoding='utf8') as f:\n",
        "    for line in f.readlines():\n",
        "        if len(data_examples) < NUM_EXAMPLES:\n",
        "            data_examples.append(line)\n",
        "        else:\n",
        "            break"
      ],
      "execution_count": 5,
      "outputs": []
    },
    {
      "cell_type": "code",
      "metadata": {
        "id": "JumLjJ631iZy"
      },
      "source": [
        "# These functions preprocess English and German sentences\n",
        "\n",
        "def unicode_to_ascii(s):\n",
        "    return ''.join(c for c in unicodedata.normalize('NFD', s) if unicodedata.category(c) != 'Mn')\n",
        "\n",
        "def preprocess_sentence(sentence):\n",
        "    sentence = sentence.lower().strip()\n",
        "    sentence = re.sub(r\"ü\", 'ue', sentence)\n",
        "    sentence = re.sub(r\"ä\", 'ae', sentence)\n",
        "    sentence = re.sub(r\"ö\", 'oe', sentence)\n",
        "    sentence = re.sub(r'ß', 'ss', sentence)\n",
        "    \n",
        "    sentence = unicode_to_ascii(sentence)\n",
        "    sentence = re.sub(r\"([?.!,])\", r\" \\1 \", sentence)\n",
        "    sentence = re.sub(r\"[^a-z?.!,']+\", \" \", sentence)\n",
        "    sentence = re.sub(r'[\" \"]+', \" \", sentence)\n",
        "    \n",
        "    return sentence.strip()"
      ],
      "execution_count": 6,
      "outputs": []
    },
    {
      "cell_type": "markdown",
      "metadata": {
        "id": "XFJap-TW1iZ2"
      },
      "source": [
        "#### The custom translation model\n",
        "The following is a schematic of the custom translation model architecture you will develop in this project.\n",
        "\n",
        "![Model Schematic](https://github.com/MengOonLee/Deep_learning/blob/master/TensorFlow2/Tutorial/image/neural_translation/neural_translation_model.png?raw=1)\n",
        "\n",
        "Key:\n",
        "![Model key](https://github.com/MengOonLee/Deep_learning/blob/master/TensorFlow2/Tutorial/image/neural_translation/neural_translation_model_key.png?raw=1)\n",
        "\n",
        "The custom model consists of an encoder RNN and a decoder RNN. The encoder takes words of an English sentence as input, and uses a pre-trained word embedding to embed the words into a 128-dimensional space. To indicate the end of the input sentence, a special end token (in the same 128-dimensional space) is passed in as an input. This token is a TensorFlow Variable that is learned in the training phase (unlike the pre-trained word embedding, which is frozen).\n",
        "\n",
        "The decoder RNN takes the internal state of the encoder network as its initial state. A start token is passed in as the first input, which is embedded using a learned German word embedding. The decoder RNN then makes a prediction for the next German word, which during inference is then passed in as the following input, and this process is repeated until the special `<end>` token is emitted from the decoder."
      ]
    },
    {
      "cell_type": "markdown",
      "metadata": {
        "id": "z70nu6_01iZ3"
      },
      "source": [
        "## 1. Text preprocessing\n",
        "* Create separate lists of English and German sentences, and preprocess them using the `preprocess_sentence` function provided for you above.\n",
        "* Add a special `\"<start>\"` and `\"<end>\"` token to the beginning and end of every German sentence.\n",
        "* Use the Tokenizer class from the `tf.keras.preprocessing.text` module to tokenize the German sentences, ensuring that no character filters are applied. _Hint: use the Tokenizer's \"filter\" keyword argument._\n",
        "* Print out at least 5 randomly chosen examples of (preprocessed) English and German sentence pairs. For the German sentence, print out the text (with start and end tokens) as well as the tokenized sequence.\n",
        "* Pad the end of the tokenized German sequences with zeros, and batch the complete set of sequences into one numpy array."
      ]
    },
    {
      "cell_type": "code",
      "metadata": {
        "scrolled": true,
        "id": "9G20C4bk1iZ4",
        "colab": {
          "base_uri": "https://localhost:8080/"
        },
        "outputId": "1943dd80-86ab-4ae5-8545-2266b0ba1259"
      },
      "source": [
        "def create_dataset(data):\n",
        "    \"\"\"\n",
        "    Return sentence pairs in the format: [English, German]\n",
        "    \"\"\"\n",
        "    sentence_pairs = [[preprocess_sentence(w) for w in l.split('\\t')][:2] \n",
        "        for l in data]\n",
        "\n",
        "    return zip(*sentence_pairs)\n",
        "\n",
        "en_sentence, ge_sentence = create_dataset(data_examples)\n",
        "# print(en_sentence[:10])\n",
        "# print(ge_sentence[:10])\n",
        "en_sentence[:10]"
      ],
      "execution_count": 38,
      "outputs": [
        {
          "output_type": "execute_result",
          "data": {
            "text/plain": [
              "('hi .',\n",
              " 'hi .',\n",
              " 'run !',\n",
              " 'wow !',\n",
              " 'wow !',\n",
              " 'fire !',\n",
              " 'help !',\n",
              " 'help !',\n",
              " 'stop !',\n",
              " 'wait !')"
            ]
          },
          "metadata": {
            "tags": []
          },
          "execution_count": 38
        }
      ]
    },
    {
      "cell_type": "code",
      "metadata": {
        "id": "Sxwl-1rB1iZ8",
        "colab": {
          "base_uri": "https://localhost:8080/"
        },
        "outputId": "b3f93d78-f873-4523-e611-c7b1d60e5715"
      },
      "source": [
        "t01 = [[preprocess_sentence(w) for w in l.split('\\t')][:2] for l in data_examples]\n",
        "t01"
      ],
      "execution_count": 28,
      "outputs": [
        {
          "output_type": "execute_result",
          "data": {
            "text/plain": [
              "[['hi .', 'hallo !'],\n",
              " ['hi .', 'gruess gott !'],\n",
              " ['run !', 'lauf !'],\n",
              " ['wow !', 'potzdonner !'],\n",
              " ['wow !', 'donnerwetter !'],\n",
              " ['fire !', 'feuer !'],\n",
              " ['help !', 'hilfe !'],\n",
              " ['help !', 'zu huelf !'],\n",
              " ['stop !', 'stopp !'],\n",
              " ['wait !', 'warte !'],\n",
              " ['go on .', 'mach weiter .'],\n",
              " ['hello !', 'hallo !'],\n",
              " ['i ran .', 'ich rannte .'],\n",
              " ['i see .', 'ich verstehe .'],\n",
              " ['i see .', 'aha .'],\n",
              " ['i try .', 'ich probiere es .'],\n",
              " ['i won !', 'ich hab gewonnen !'],\n",
              " ['i won !', 'ich habe gewonnen !'],\n",
              " ['smile .', 'laecheln !'],\n",
              " ['cheers !', 'zum wohl !'],\n",
              " ['eat up .', 'iss auf .'],\n",
              " ['freeze !', 'keine bewegung !'],\n",
              " ['freeze !', 'stehenbleiben !'],\n",
              " ['got it ?', 'kapiert ?'],\n",
              " ['got it ?', 'verstanden ?'],\n",
              " ['got it ?', 'einverstanden ?'],\n",
              " ['he ran .', 'er rannte .'],\n",
              " ['he ran .', 'er lief .'],\n",
              " ['hop in .', 'mach mit !'],\n",
              " ['hug me .', 'drueck mich !'],\n",
              " ['hug me .', 'nimm mich in den arm !'],\n",
              " ['hug me .', 'umarme mich !'],\n",
              " ['i fell .', 'ich fiel .'],\n",
              " ['i fell .', 'ich fiel hin .'],\n",
              " ['i fell .', 'ich stuerzte .'],\n",
              " ['i fell .', 'ich bin hingefallen .'],\n",
              " ['i fell .', 'ich bin gestuerzt .'],\n",
              " ['i know .', 'ich weiss .'],\n",
              " ['i lied .', 'ich habe gelogen .'],\n",
              " ['i lost .', 'ich habe verloren .'],\n",
              " ['i paid .', 'ich habe bezahlt .'],\n",
              " ['i paid .', 'ich zahlte .'],\n",
              " ['i sang .', 'ich sang .'],\n",
              " ['i swim .', 'ich schwimme .'],\n",
              " [\"i'm .\", 'ich bin jahre alt .'],\n",
              " [\"i'm .\", 'ich bin .'],\n",
              " [\"i'm ok .\", \"mir geht's gut .\"],\n",
              " [\"i'm ok .\", 'es geht mir gut .'],\n",
              " [\"i'm up .\", 'ich bin wach .'],\n",
              " [\"i'm up .\", 'ich bin auf .'],\n",
              " ['no way !', 'unmoeglich !'],\n",
              " ['no way !', 'das kommt nicht in frage !'],\n",
              " ['no way !', 'das gibt s doch nicht !'],\n",
              " ['no way !', 'ausgeschlossen !'],\n",
              " ['no way !', 'in keinster weise !'],\n",
              " ['really ?', 'wirklich ?'],\n",
              " ['really ?', 'echt ?'],\n",
              " ['really ?', 'im ernst ?'],\n",
              " ['thanks .', 'danke !'],\n",
              " ['try it .', 'versuch s !'],\n",
              " ['we try .', 'wir versuchen es .'],\n",
              " ['we won .', 'wir haben gewonnen .'],\n",
              " ['why me ?', 'warum ich ?'],\n",
              " ['ask tom .', 'frag tom !'],\n",
              " ['ask tom .', 'fragen sie tom !'],\n",
              " ['ask tom .', 'fragt tom !'],\n",
              " ['awesome !', 'fantastisch !'],\n",
              " ['be cool .', 'entspann dich !'],\n",
              " ['be fair .', 'sei nicht ungerecht !'],\n",
              " ['be fair .', 'sei fair !'],\n",
              " ['be nice .', 'sei nett !'],\n",
              " ['be nice .', 'seien sie nett !'],\n",
              " ['beat it .', 'geh weg !'],\n",
              " ['beat it .', 'hau ab !'],\n",
              " ['beat it .', 'verschwinde !'],\n",
              " ['beat it .', 'verdufte !'],\n",
              " ['beat it .', 'mach dich fort !'],\n",
              " ['beat it .', 'zieh leine !'],\n",
              " ['beat it .', 'mach dich vom acker !'],\n",
              " ['beat it .', 'verzieh dich !'],\n",
              " ['beat it .', 'verkruemele dich !'],\n",
              " ['beat it .', 'troll dich !'],\n",
              " ['beat it .', 'zisch ab !'],\n",
              " ['beat it .', 'pack dich !'],\n",
              " ['beat it .', 'mach ne fliege !'],\n",
              " ['beat it .', 'schwirr ab !'],\n",
              " ['beat it .', 'mach die sause !'],\n",
              " ['beat it .', 'scher dich weg !'],\n",
              " ['beat it .', 'scher dich fort !'],\n",
              " ['call me .', 'ruf mich an .'],\n",
              " ['come in .', 'komm herein .'],\n",
              " ['come in .', 'herein !'],\n",
              " ['come on !', 'komm !'],\n",
              " ['come on !', 'kommt !'],\n",
              " ['come on !', 'mach schon !'],\n",
              " ['come on !', 'macht schon !'],\n",
              " ['come on .', 'komm schon !'],\n",
              " ['get tom .', 'hol tom .'],\n",
              " ['get out !', 'raus !'],\n",
              " ['get out !', 'geht raus !'],\n",
              " ['get out .', 'geh raus .'],\n",
              " ['get out .', 'geht raus !'],\n",
              " ['go away !', 'geh weg !'],\n",
              " ['go away !', 'hau ab !'],\n",
              " ['go away !', 'verschwinde !'],\n",
              " ['go away !', 'verdufte !'],\n",
              " ['go away !', 'mach dich fort !'],\n",
              " ['go away !', 'zieh leine !'],\n",
              " ['go away !', 'mach dich vom acker !'],\n",
              " ['go away !', 'verzieh dich !'],\n",
              " ['go away !', 'verkruemele dich !'],\n",
              " ['go away !', 'troll dich !'],\n",
              " ['go away !', 'zisch ab !'],\n",
              " ['go away !', 'pack dich !'],\n",
              " ['go away !', 'mach ne fliege !'],\n",
              " ['go away !', 'schwirr ab !'],\n",
              " ['go away !', 'mach die sause !'],\n",
              " ['go away !', 'scher dich weg !'],\n",
              " ['go away !', 'scher dich fort !'],\n",
              " ['go away .', 'geh weg !'],\n",
              " ['go away .', 'verpiss dich !'],\n",
              " ['go away .', 'hau ab !'],\n",
              " ['go away .', 'verschwinde !'],\n",
              " ['go away .', 'verdufte !'],\n",
              " ['go away .', 'mach dich fort !'],\n",
              " ['go away .', 'zieh leine !'],\n",
              " ['go away .', 'mach dich vom acker !'],\n",
              " ['go away .', 'verzieh dich !'],\n",
              " ['go away .', 'verkruemele dich !'],\n",
              " ['go away .', 'troll dich !'],\n",
              " ['go away .', 'zisch ab !'],\n",
              " ['go away .', 'pack dich !'],\n",
              " ['go away .', 'mach ne fliege !'],\n",
              " ['go away .', 'schwirr ab !'],\n",
              " ['go away .', 'mach die sause !'],\n",
              " ['go away .', 'scher dich weg !'],\n",
              " ['go away .', 'scher dich fort !'],\n",
              " ['go away .', 'gehen sie weg .'],\n",
              " ['go home .', 'geh nach hause .'],\n",
              " ['go home .', 'geh heim .'],\n",
              " ['goodbye !', 'auf wiedersehen !'],\n",
              " ['goodbye !', 'leb wohl !'],\n",
              " ['goodbye !', 'tschuess !'],\n",
              " ['hang on !', 'nicht nachlassen !'],\n",
              " ['he came .', 'er kam .'],\n",
              " ['he runs .', 'er rennt .'],\n",
              " ['he runs .', 'er laeuft .'],\n",
              " ['help me .', 'hilf mir .'],\n",
              " ['help us .', 'hilf uns !'],\n",
              " ['help us .', 'helft uns !'],\n",
              " ['help us .', 'helfen sie uns !'],\n",
              " ['hi , tom .', 'hallo , tom !'],\n",
              " ['hit tom .', 'schlage tom !'],\n",
              " ['hit tom .', 'schlagt tom !'],\n",
              " ['hit tom .', 'schlagen sie tom !'],\n",
              " ['hold on .', 'warten sie kurz !'],\n",
              " ['hug tom .', 'umarme tom !'],\n",
              " ['hug tom .', 'umarmen sie tom !'],\n",
              " ['hug tom .', 'umarmt tom !'],\n",
              " ['hug tom .', 'drueckt tom !'],\n",
              " ['hug tom .', 'druecken sie tom !'],\n",
              " ['hug tom .', 'drueck tom !'],\n",
              " ['i agree .', 'ich bin einverstanden .'],\n",
              " ['i cried .', 'ich weinte .'],\n",
              " ['i cried .', 'ich habe geweint .'],\n",
              " ['i snore .', 'ich schnarche .'],\n",
              " [\"i'll go .\", 'ich gehe .'],\n",
              " [\"i'm bad .\", 'ich bin schlecht .'],\n",
              " [\"i'm fat .\", 'ich bin fett .'],\n",
              " [\"i'm fat .\", 'ich bin dick .'],\n",
              " [\"i'm hit !\", 'ich wurde getroffen !'],\n",
              " [\"i'm new .\", 'ich bin neu .'],\n",
              " [\"i'm old .\", 'ich bin alt .'],\n",
              " [\"i'm sad .\", 'ich bin traurig .'],\n",
              " [\"i'm shy .\", 'ich bin schuechtern .'],\n",
              " [\"i'm wet .\", 'ich bin nass .'],\n",
              " [\"it's ok .\", 'es ist in ordnung .'],\n",
              " [\"it's me !\", \"ich bin's .\"],\n",
              " [\"it's me .\", \"ich bin's .\"],\n",
              " ['keep it .', 'behalt es !'],\n",
              " ['keep it .', 'behalt ihn !'],\n",
              " ['keep it .', 'behalt sie !'],\n",
              " ['keep it .', 'behalten sie ihn !'],\n",
              " ['keep it .', 'behalten sie sie !'],\n",
              " ['keep it .', 'behalten sie es !'],\n",
              " ['keep it .', 'behaltet ihn !'],\n",
              " ['keep it .', 'behaltet sie !'],\n",
              " ['keep it .', 'behaltet es !'],\n",
              " ['kiss me .', 'kuesst mich .'],\n",
              " ['lock it .', 'schliess es ab .'],\n",
              " ['lock it .', 'schliesse sie ab .'],\n",
              " ['lock it .', 'schliess ihn ab .'],\n",
              " ['perfect !', 'perfekt !'],\n",
              " ['pull it .', 'zieh dran .'],\n",
              " ['push it .', 'drueck drauf .'],\n",
              " ['see you .', 'wir sehen uns .'],\n",
              " ['show me .', \"zeig's mir !\"],\n",
              " ['shut up !', \"halt's maul !\"],\n",
              " ['so long .', 'bis spaeter !'],\n",
              " ['stop it .', 'hoer auf .'],\n",
              " ['take it .', 'nimm es .'],\n",
              " ['take it .', 'nehmt es .'],\n",
              " ['take it .', 'nehmen sie es .'],\n",
              " ['tom ate .', 'tom ass .'],\n",
              " ['tom ate .', 'tom hat gegessen .'],\n",
              " ['tom ran .', 'tom rannte .'],\n",
              " ['tom ran .', 'tom ist gerannt .'],\n",
              " ['tom won .', 'tom hat gewonnen .'],\n",
              " ['wait up .', 'warte mal !'],\n",
              " ['wait up .', 'warten sie mal !'],\n",
              " ['wait up .', 'wartet mal !'],\n",
              " ['wake up !', 'wach auf !'],\n",
              " ['wake up !', 'wachen sie auf !'],\n",
              " ['wake up .', 'wach auf !'],\n",
              " ['wake up .', 'wachen sie auf !'],\n",
              " ['we lost .', 'wir haben verloren .'],\n",
              " ['welcome .', 'willkommen !'],\n",
              " ['who ate ?', 'wer hat gegessen ?'],\n",
              " ['who ate ?', 'wer ass ?'],\n",
              " ['who ran ?', 'wer rannte ?'],\n",
              " ['who ran ?', 'wer ist gerannt ?'],\n",
              " ['you run .', 'du laeufst .'],\n",
              " ['you run .', 'sie laufen .'],\n",
              " ['you won .', 'du hast gewonnen .'],\n",
              " ['am i fat ?', 'bin ich dick ?'],\n",
              " ['ask them .', 'frag sie .'],\n",
              " ['back off .', 'komm nicht naeher !'],\n",
              " ['be a man .', 'sei ein mann !'],\n",
              " ['be brave .', 'sei tapfer !'],\n",
              " ['be brave .', 'seien sie tapfer !'],\n",
              " ['be brave .', 'seid tapfer !'],\n",
              " ['be brief .', 'fassen sie sich kurz .'],\n",
              " ['be brief .', 'fass dich kurz .'],\n",
              " ['be brief .', 'fasst euch kurz .'],\n",
              " ['call tom .', 'ruf tom an !'],\n",
              " ['call tom .', 'rufe tom an !'],\n",
              " ['call tom .', 'rufen sie tom an !'],\n",
              " ['call tom .', 'ruft tom an !'],\n",
              " ['can i go ?', 'kann ich gehen ?'],\n",
              " ['cheer up !', 'kopf hoch !'],\n",
              " ['cool off !', 'reg dich ab !'],\n",
              " ['cuff him .', 'leg ihm handschellen an .'],\n",
              " ['cuff him .', 'legen sie ihm handschellen an .'],\n",
              " [\"don't go .\", 'geh nicht .'],\n",
              " ['find tom .', 'finde tom .'],\n",
              " ['find tom .', 'findet tom .'],\n",
              " ['find tom .', 'finden sie tom .'],\n",
              " ['fix this .', 'beheben sie das .'],\n",
              " ['fix this .', 'behebe das .'],\n",
              " ['fix this .', 'repariere das .'],\n",
              " ['fix this .', 'reparieren sie das .'],\n",
              " ['get away !', 'geh weg !'],\n",
              " ['get away !', 'verpiss dich !'],\n",
              " ['get away !', 'hau ab !'],\n",
              " ['get away !', 'verschwinde !'],\n",
              " ['get away !', 'verdufte !'],\n",
              " ['get away !', 'mach dich fort !'],\n",
              " ['get away !', 'zieh leine !'],\n",
              " ['get away !', 'mach dich vom acker !'],\n",
              " ['get away !', 'verzieh dich !'],\n",
              " ['get away !', 'verkruemele dich !'],\n",
              " ['get away !', 'troll dich !'],\n",
              " ['get away !', 'zisch ab !'],\n",
              " ['get away !', 'pack dich !'],\n",
              " ['get away !', 'mach ne fliege !'],\n",
              " ['get away !', 'schwirr ab !'],\n",
              " ['get away !', 'mach die sause !'],\n",
              " ['get away !', 'scher dich weg !'],\n",
              " ['get away !', 'scher dich fort !'],\n",
              " ['get down !', 'runter !'],\n",
              " ['get down !', 'hinlegen !'],\n",
              " ['get down !', 'in deckung !'],\n",
              " ['get down .', 'komm runter .'],\n",
              " ['get down .', 'kommen sie runter .'],\n",
              " ['get lost !', 'geh weg !'],\n",
              " ['get lost !', 'verpiss dich !'],\n",
              " ['get lost !', 'hau ab !'],\n",
              " ['get lost !', 'verschwinde !'],\n",
              " ['get lost !', 'verdufte !'],\n",
              " ['get lost !', 'mach dich fort !'],\n",
              " ['get lost !', 'zieh leine !'],\n",
              " ['get lost !', 'mach dich vom acker !'],\n",
              " ['get lost !', 'verzieh dich !'],\n",
              " ['get lost !', 'verkruemele dich !'],\n",
              " ['get lost !', 'troll dich !'],\n",
              " ['get lost !', 'zisch ab !'],\n",
              " ['get lost !', 'pack dich !'],\n",
              " ['get lost !', 'mach ne fliege !'],\n",
              " ['get lost !', 'schwirr ab !'],\n",
              " ['get lost !', 'mach die sause !'],\n",
              " ['get lost !', 'scher dich weg !'],\n",
              " ['get lost !', 'scher dich fort !'],\n",
              " ['get real !', 'jetzt mal ernsthaft !'],\n",
              " ['go ahead !', 'nur zu !'],\n",
              " ['go ahead .', 'mach weiter !'],\n",
              " ['grab tom .', 'hol tom .'],\n",
              " ['grab him .', 'greif ihn dir !'],\n",
              " ['have fun .', 'viel vergnuegen !'],\n",
              " ['have fun .', 'viel spass !'],\n",
              " ['have fun .', 'feier schoen !'],\n",
              " ['he spoke .', 'er sprach .'],\n",
              " ['he tries .', 'er versucht es .'],\n",
              " ['help tom .', 'hilf tom !'],\n",
              " ['help tom .', 'helft tom !'],\n",
              " ['help tom .', 'helfen sie tom !'],\n",
              " ['how cute !', 'was ist das nicht suess !'],\n",
              " ['how cute !', 'wie suess !'],\n",
              " ['how deep ?', 'wie tief ?'],\n",
              " ['how nice !', 'wie schoen !'],\n",
              " ['humor me .', 'tu mir den gefallen .'],\n",
              " ['humor me .', 'tun sie mir den gefallen .'],\n",
              " ['hurry up .', 'beeil dich !'],\n",
              " ['hurry up .', 'beeil dich .'],\n",
              " ['hurry up .', 'mach hin !'],\n",
              " ['i am fat .', 'ich bin dick .'],\n",
              " ['i can go .', 'ich kann gehen .'],\n",
              " ['i did it .', 'ich habe es geschafft .'],\n",
              " ['i did it .', \"ich hab's gemacht .\"],\n",
              " ['i get by .', 'ich komme klar .'],\n",
              " ['i get by .', 'ich komme zurecht .'],\n",
              " ['i get by .', 'ich komme ueber die runden .'],\n",
              " ['i get it .', 'ich verstehe .'],\n",
              " ['i got it .', 'ich habe es verstanden .'],\n",
              " ['i got it .', 'ich habe es bekommen .'],\n",
              " ['i got it .', \"ich hab's .\"],\n",
              " ['i helped .', 'ich half .'],\n",
              " ['i helped .', 'ich habe geholfen .'],\n",
              " ['i jumped .', 'ich bin gesprungen .'],\n",
              " ['i refuse .', 'ich weigere mich .'],\n",
              " ['i resign .', 'ich trete zurueck .'],\n",
              " ['i shaved .', 'ich rasierte mich .'],\n",
              " ['i shaved .', 'ich habe mich rasiert .'],\n",
              " ['i smiled .', 'ich laechelte .'],\n",
              " ['i stayed .', 'ich blieb .'],\n",
              " ['i stayed .', 'ich bin dageblieben .'],\n",
              " ['i use it .', 'ich benutze es .'],\n",
              " ['i waited .', 'ich habe gewartet .'],\n",
              " ['i yawned .', 'ich gaehnte .'],\n",
              " ['i yawned .', 'ich habe gegaehnt .'],\n",
              " [\"i'll pay .\", 'ich werde zahlen .'],\n",
              " [\"i'll try .\", 'ich werde es versuchen .'],\n",
              " [\"i'm back .\", 'ich bin wieder da .'],\n",
              " [\"i'm bald .\", 'ich bin glatzkoepfig .'],\n",
              " [\"i'm bald .\", 'ich habe eine glatze .'],\n",
              " [\"i'm busy .\", 'ich bin beschaeftigt .'],\n",
              " [\"i'm busy .\", 'ich habe zu tun .'],\n",
              " [\"i'm deaf .\", 'ich bin taub .'],\n",
              " [\"i'm fair .\", 'ich bin gerecht .'],\n",
              " [\"i'm fine .\", \"mir geht's gut .\"],\n",
              " [\"i'm fine .\", 'mir geht es gut .'],\n",
              " [\"i'm fine .\", 'es geht mir gut .'],\n",
              " [\"i'm free .\", 'ich bin frei .'],\n",
              " [\"i'm full .\", 'ich bin satt .'],\n",
              " [\"i'm game .\", 'ich bin dabei .'],\n",
              " [\"i'm game .\", 'ich mache mit .'],\n",
              " [\"i'm good .\", \"mir geht's gut .\"],\n",
              " [\"i'm here .\", 'ich bin hier .'],\n",
              " [\"i'm home .\", 'ich bin zu hause .'],\n",
              " [\"i'm late .\", 'ich komme zu spaet .'],\n",
              " [\"i'm lost .\", 'ich habe mich verirrt .'],\n",
              " [\"i'm mean .\", 'ich bin gemein .'],\n",
              " [\"i'm next .\", 'ich bin der naechste .'],\n",
              " [\"i'm okay .\", 'es geht mir gut .'],\n",
              " [\"i'm rich .\", 'ich bin reich .'],\n",
              " [\"i'm safe .\", 'ich bin sicher .'],\n",
              " [\"i'm sick .\", 'ich bin krank !'],\n",
              " [\"i'm sure .\", 'ich bin sicher .'],\n",
              " [\"i'm tall .\", 'ich bin gross .'],\n",
              " [\"i'm thin .\", 'ich bin duenn .'],\n",
              " [\"i'm tidy .\", 'ich bin ordentlich .'],\n",
              " [\"i'm ugly .\", 'ich bin haesslich .'],\n",
              " [\"i'm weak .\", 'ich bin schwach .'],\n",
              " [\"i'm well .\", 'mir geht es gut .'],\n",
              " ['it helps .', 'das hilft .'],\n",
              " ['it hurts .', 'es tut weh .'],\n",
              " ['it hurts .', 'es schmerzt .'],\n",
              " ['it works .', 'es klappt .'],\n",
              " ['it works .', 'es funktioniert .'],\n",
              " [\"it's tom .\", 'es ist tom .'],\n",
              " [\"it's his .\", 'es ist seins .'],\n",
              " [\"it's hot .\", 'es ist heiss .'],\n",
              " [\"it's hot .\", 'sie ist heiss .'],\n",
              " [\"it's hot .\", 'er ist heiss .'],\n",
              " [\"it's new .\", 'es ist neu .'],\n",
              " [\"it's sad .\", 'es ist traurig .'],\n",
              " ['keep out !', 'eintritt verboten !'],\n",
              " ['keep out .', 'komm nicht herein .'],\n",
              " ['keep out .', 'kein zutritt .'],\n",
              " ['kiss tom .', 'kuesse tom !'],\n",
              " ['kiss tom .', 'kuessen sie tom !'],\n",
              " ['kiss tom .', 'kuesst tom !'],\n",
              " ['leave us .', 'geh weg !'],\n",
              " ['leave us .', 'gehen sie weg .'],\n",
              " ['leave us .', 'lass uns allein .'],\n",
              " ['leave us .', 'lassen sie uns allein .'],\n",
              " [\"let's go !\", 'lass uns gehen !'],\n",
              " [\"let's go !\", \"auf geht's !\"],\n",
              " [\"let's go !\", 'gehen wir !'],\n",
              " [\"let's go !\", 'lasst uns gehen .'],\n",
              " [\"let's go !\", 'lass uns losgehen .'],\n",
              " [\"let's go !\", 'lasst uns losgehen .'],\n",
              " [\"let's go !\", 'auf , auf !'],\n",
              " ['look out !', 'vorsicht !'],\n",
              " ['marry me .', 'heirate mich .'],\n",
              " ['may i go ?', 'darf ich gehen ?'],\n",
              " ['save tom .', 'rette tom !'],\n",
              " ['save tom .', 'rettet tom !'],\n",
              " ['save tom .', 'retten sie tom !'],\n",
              " ['she came .', 'sie kam .'],\n",
              " ['she lied .', 'sie log .'],\n",
              " ['she runs .', 'sie rennt .'],\n",
              " ['sit down !', 'setz dich !'],\n",
              " ['sit down !', 'setzen sie sich !'],\n",
              " ['sit down .', 'setz dich !'],\n",
              " ['speak up !', 'sprich lauter !'],\n",
              " ['stand up !', 'stehen sie auf !'],\n",
              " ['stand up !', 'steht auf !'],\n",
              " ['stand up !', 'stehe auf !'],\n",
              " ['stop tom .', 'halte tom auf !'],\n",
              " ['stop tom .', 'halten sie tom auf !'],\n",
              " ['stop tom .', 'haltet tom auf !'],\n",
              " ['take tom .', 'nimm tom .'],\n",
              " ['taste it .', 'probier es mal .'],\n",
              " ['tell tom .', 'sag es tom .'],\n",
              " ['tell tom .', 'sagen sie es tom .'],\n",
              " ['tell tom .', 'erzaehl es tom .'],\n",
              " ['tell tom .', 'erzaehlen sie tom davon .'],\n",
              " ['tell tom .', 'sagt es tom .'],\n",
              " ['terrific !', 'hervorragend !'],\n",
              " ['terrific !', 'sagenhaft !'],\n",
              " ['terrific !', 'wunderbar !'],\n",
              " ['they won .', 'sie haben gewonnen .'],\n",
              " ['tom came .', 'tom kam .'],\n",
              " ['tom came .', 'tom ist gekommen .'],\n",
              " ['tom died .', 'tom ist gestorben .'],\n",
              " ['tom died .', 'tom starb .'],\n",
              " ['tom fell .', 'tom fiel .'],\n",
              " ['tom fell .', 'tom ist gefallen .'],\n",
              " ['tom knew .', 'tom wusste es .'],\n",
              " ['tom knew .', 'tom hat es gewusst .'],\n",
              " ['tom knew .', 'tom wusste bescheid .'],\n",
              " ['tom left .', 'tom ist gegangen .'],\n",
              " ['tom left .', 'tom ging .'],\n",
              " ['tom lied .', 'tom log .'],\n",
              " ['tom lies .', 'tom luegt .'],\n",
              " ['tom lost .', 'tom hat verloren .'],\n",
              " ['tom paid .', 'tom hat gezahlt .'],\n",
              " ['tom quit .', 'tom hat aufgehoert .'],\n",
              " ['tom swam .', 'tom schwamm .'],\n",
              " ['tom swam .', 'tom ist geschwommen .'],\n",
              " ['tom wept .', 'tom weinte .'],\n",
              " [\"tom's up .\", 'tom ist auf .'],\n",
              " ['too late .', 'zu spaet .'],\n",
              " ['touch it .', 'fass es an .'],\n",
              " ['trust me .', 'vertraue mir .'],\n",
              " ['trust me .', 'vertraut mir !'],\n",
              " ['trust me .', 'vertrauen sie mir !'],\n",
              " ['try hard .', 'versuch es richtig !'],\n",
              " ['use this .', 'nimm das hier !'],\n",
              " ['warn tom .', 'warnen sie tom .'],\n",
              " ['warn tom .', 'warne tom .'],\n",
              " ['watch me .', 'schau mir zu .'],\n",
              " ['watch us .', 'beobachte uns .'],\n",
              " ['watch us .', 'beobachten sie uns .'],\n",
              " ['watch us .', 'schau uns zu .'],\n",
              " ['watch us .', 'schaut uns zu .'],\n",
              " ['watch us .', 'schauen sie uns zu .'],\n",
              " ['watch us .', 'beobachtet uns .'],\n",
              " ['we agree .', 'wir stimmen zu .'],\n",
              " ['we agree .', 'wir sind einverstanden .'],\n",
              " ['we tried .', 'wir haben es versucht .'],\n",
              " ['we tried .', 'wir versuchten es .'],\n",
              " [\"we'll go .\", 'wir werden gehen .'],\n",
              " [\"we're ok .\", 'wir sind in ordnung .'],\n",
              " ['what for ?', 'wozu ?'],\n",
              " ['what fun !', 'was fuer ein spass !'],\n",
              " ['who am i ?', 'wer bin ich ?'],\n",
              " ['who came ?', 'wer ist gekommen ?'],\n",
              " ['who came ?', 'wer kam ?'],\n",
              " ['who died ?', 'wer ist gestorben ?'],\n",
              " ['who fell ?', 'wer fiel ?'],\n",
              " ['who fell ?', 'wer ist gefallen ?'],\n",
              " ['who quit ?', 'wer hat aufgehoert ?'],\n",
              " ['who quit ?', 'wer ist ausgeschieden ?'],\n",
              " ['who swam ?', 'wer schwamm ?'],\n",
              " ['who swam ?', 'wer ist geschwommen ?'],\n",
              " [\"who's he ?\", 'wer ist er ?'],\n",
              " ['write me .', 'schreib mir !'],\n",
              " ['write me .', 'schreiben sie mir !'],\n",
              " ['write me .', 'schreibt mir !'],\n",
              " ['you lost .', 'sie haben verloren .'],\n",
              " ['you lost .', 'du hast verloren .'],\n",
              " ['you lost .', 'ihr habt verloren .'],\n",
              " ['aim . fire !', 'zielen . feuer !'],\n",
              " ['am i late ?', 'bin ich zu spaet ?'],\n",
              " ['answer me .', 'antworten sie mir .'],\n",
              " ['birds fly .', 'voegel fliegen .'],\n",
              " ['bless you .', 'gesundheit .'],\n",
              " ['call home !', 'ruf zuhause an !'],\n",
              " ['call home !', 'rufen sie zuhause an !'],\n",
              " ['calm down !', 'beruhige dich !'],\n",
              " ['calm down .', 'beruhige dich !'],\n",
              " ['calm down .', 'beruhigen sie sich !'],\n",
              " ['calm down .', 'beruhigen sie sich .'],\n",
              " ['can i eat ?', 'kann ich essen ?'],\n",
              " ['can we go ?', 'koennen wir gehen ?'],\n",
              " ['catch tom .', 'fang tom !'],\n",
              " ['catch tom .', 'fange tom !'],\n",
              " ['catch tom .', 'fangen sie tom !'],\n",
              " ['catch tom .', 'fangt tom !'],\n",
              " ['chill out .', 'entspann dich .'],\n",
              " ['come back .', 'komm wieder !'],\n",
              " ['come here .', 'komm hierher .'],\n",
              " ['come here .', 'komm her !'],\n",
              " ['come home .', 'kommt heim !'],\n",
              " ['come home .', 'komm heim !'],\n",
              " ['come over !', 'komm hierher !'],\n",
              " ['come over .', 'komm her !'],\n",
              " ['come soon .', 'komm bald .'],\n",
              " ['come soon .', 'kommen sie bald .'],\n",
              " ['cool down .', 'beruhige dich !'],\n",
              " ['did i win ?', 'habe ich gewonnen ?'],\n",
              " ['do it now .', 'mach es jetzt !'],\n",
              " ['dogs bark .', 'hunde bellen .'],\n",
              " [\"don't ask .\", 'frag nicht .'],\n",
              " [\"don't cry .\", 'weine nicht !'],\n",
              " [\"don't cry .\", 'weint nicht .'],\n",
              " [\"don't cry .\", 'weinen sie nicht .'],\n",
              " [\"don't cry .\", 'weinen sie nicht !'],\n",
              " [\"don't cry .\", 'weint nicht !'],\n",
              " [\"don't die .\", 'stirb nicht !'],\n",
              " [\"don't lie .\", 'luege nicht .'],\n",
              " [\"don't run .\", 'lauf nicht .'],\n",
              " ['excuse me .', 'es tut mir leid .'],\n",
              " ['excuse me .', 'entschuldigung !'],\n",
              " ['excuse me .', 'entschuldigung .'],\n",
              " ['excuse me .', 'entschuldigen sie !'],\n",
              " ['fantastic !', 'fantastisch !'],\n",
              " ['fantastic !', 'ganz toll !'],\n",
              " ['feel this .', 'fuehl mal .'],\n",
              " ['follow me .', 'folge mir .'],\n",
              " ['forget it !', 'vergiss es !'],\n",
              " ['forget it !', 'daraus wird nichts .'],\n",
              " ['forget it .', 'vergiss es .'],\n",
              " ['forget it .', 'das kannst du knicken .'],\n",
              " ['go for it .', 'nur zu !'],\n",
              " ['go for it .', 'tue es .'],\n",
              " ['go get it .', \"hol's dir !\"],\n",
              " ['go inside .', 'geh rein !'],\n",
              " ['go inside .', 'komm rein .'],\n",
              " ['go to bed .', 'geh schlafen !'],\n",
              " ['go to bed .', 'geh ins bett !'],\n",
              " ['go to bed .', 'geht ins bett !'],\n",
              " ['go to bed .', 'legt euch schlafen !'],\n",
              " ['hands off .', 'haende weg !'],\n",
              " ['have some .', 'nimm dir davon .'],\n",
              " ['have some .', 'nehmen sie davon .'],\n",
              " ['he is ill .', 'er ist krank .'],\n",
              " ['he is old .', 'er ist alt .'],\n",
              " ['he smiled .', 'er laechelte .'],\n",
              " [\"he's a dj .\", 'er ist dj .'],\n",
              " [\"he's a dj .\", 'er ist plattenaufleger .'],\n",
              " [\"he's fast .\", 'er ist schnell .'],\n",
              " [\"he's good .\", 'er ist gut .'],\n",
              " [\"he's lazy .\", 'er ist traege .'],\n",
              " [\"he's rich .\", 'er ist reich .'],\n",
              " ['here i am .', 'hier bin ich .'],\n",
              " [\"here's .\", 'hier sind fuenf dollar .'],\n",
              " ['hold fire .', 'nicht schiessen !'],\n",
              " ['hold this .', 'halt das !'],\n",
              " ['hold this .', 'halt das mal .'],\n",
              " ['hold this .', 'halten sie das !'],\n",
              " ['hold this .', 'haltet das !'],\n",
              " ['how awful !', 'schrecklich !'],\n",
              " ['how is it ?', 'wie ist die lage ?'],\n",
              " ['how weird !', 'wie seltsam !'],\n",
              " ['humor tom .', 'lass tom doch seinen willen .'],\n",
              " ['humor tom .', 'lasst tom doch seinen willen .'],\n",
              " ['i am busy .', 'ich bin beschaeftigt .'],\n",
              " ['i am busy .', 'ich habe zu tun .'],\n",
              " ['i am fine .', 'mir geht es gut .'],\n",
              " ['i am fine .', 'es geht mir gut .'],\n",
              " ['i am here .', 'ich bin hier .'],\n",
              " ['i am okay .', 'es geht mir gut .'],\n",
              " ['i am sure .', 'ich bin sicher .'],\n",
              " ['i am tall .', 'ich bin gross .'],\n",
              " ['i am weak .', 'ich bin schwach .'],\n",
              " ['i am well .', 'mir geht es gut .'],\n",
              " ['i am well .', 'es geht mir gut .'],\n",
              " ['i can fly .', 'ich kann fliegen .'],\n",
              " ['i can run .', 'ich kann laufen .'],\n",
              " ['i can run .', 'ich kann rennen .'],\n",
              " ['i can ski .', 'ich kann ski fahren .'],\n",
              " ['i can win .', 'ich kann gewinnen .'],\n",
              " ['i cheated .', 'ich habe geschummelt .'],\n",
              " ['i fainted .', 'ich wurde ohnmaechtig .'],\n",
              " ['i fainted .', 'ich fiel in ohnmacht .'],\n",
              " ['i fear so .', 'ich fuerchte , ja .'],\n",
              " ['i gave up .', 'ich habe aufgegeben .'],\n",
              " ['i gave up .', 'ich gab auf .'],\n",
              " ['i get you .', 'ich verstehe , was du meinst .'],\n",
              " ['i giggled .', 'ich kicherte .'],\n",
              " ['i give in .', 'ich gebe nach .'],\n",
              " ['i give in .', 'ich fuege mich .'],\n",
              " ['i got mad .', 'ich wurde wuetend .'],\n",
              " ['i got mad .', 'ich wurde boese .'],\n",
              " ['i had fun .', 'ich hatte spass .'],\n",
              " ['i had fun .', 'ich habe mich amuesiert .'],\n",
              " ['i hit tom .', 'ich habe tom geschlagen .'],\n",
              " ['i hope so .', 'das hoffe ich .'],\n",
              " ['i hope so .', 'ich hoffe es .'],\n",
              " ['i hung up .', 'ich habe aufgelegt .'],\n",
              " ['i knew it .', 'ich wusste es .'],\n",
              " ['i knew it .', 'ich wusste das .'],\n",
              " ['i laughed .', 'ich lachte .'],\n",
              " ['i like it .', 'das gefaellt mir .'],\n",
              " ['i lost it .', 'ich habe ihn verloren .'],\n",
              " ['i love it !', 'ich liebe es !'],\n",
              " ['i love it .', 'ich liebe es .'],\n",
              " ['i made it .', 'ich habe es gemacht .'],\n",
              " ['i made it .', 'ich habe es geschafft .'],\n",
              " ['i may win .', 'vielleicht gewinne ich .'],\n",
              " ['i mean it !', 'ich meine es so !'],\n",
              " ['i mean it !', 'ich meine es ernst !'],\n",
              " ['i mean it .', 'ich meine es ernst .'],\n",
              " ['i mean it .', 'es ist ernst gemeint von mir .'],\n",
              " ['i met tom .', 'ich habe tom getroffen .'],\n",
              " ['i met tom .', 'ich traf tom .'],\n",
              " ['i met tom .', 'ich bin tom begegnet .'],\n",
              " ['i met him .', 'ich habe ihn getroffen .'],\n",
              " ['i miss it .', 'ich vermisse es .'],\n",
              " ['i miss it .', 'es fehlt mir .'],\n",
              " ['i promise .', \"ich versprech's .\"],\n",
              " ['i promise .', 'ich verspreche es .'],\n",
              " ['i said no .', 'ich sagte nein .'],\n",
              " ['i saw tom .', 'ich habe tom gesehen .'],\n",
              " ['i saw him .', 'ich habe ihn gesehen .'],\n",
              " ['i saw one .', 'ich habe einen gesehen .'],\n",
              " ['i saw you .', 'ich habe dich gesehen .'],\n",
              " ['i saw you .', 'ich habe euch gesehen .'],\n",
              " ['i see tom .', 'ich sehe tom .'],\n",
              " ['i took it .', 'ich nahm es .'],\n",
              " ['i took it .', 'ich habe es genommen .'],\n",
              " ['i want it .', 'ich moechte es .'],\n",
              " ['i want it .', 'ich will es .'],\n",
              " ['i was new .', 'ich war neu .'],\n",
              " ['i was shy .', 'ich war schuechtern .'],\n",
              " ['i will go .', 'ich gehe .'],\n",
              " ['i will go .', 'ich werde gehen .'],\n",
              " ['i woke up .', 'ich wachte auf .'],\n",
              " [\"i'd do it .\", 'ich wuerde es tun .'],\n",
              " [\"i'd leave .\", 'ich wuerde gehen .'],\n",
              " [\"i'll call .\", 'ich werde anrufen .'],\n",
              " [\"i'll come .\", 'ich werde kommen .'],\n",
              " [\"i'll cook .\", 'ich werde kochen .'],\n",
              " [\"i'll help .\", 'ich helfe .'],\n",
              " [\"i'll live .\", 'ich werde leben .'],\n",
              " [\"i'll obey .\", 'ich werde gehorchen .'],\n",
              " [\"i'll quit .\", 'ich werde aufhoeren .'],\n",
              " [\"i'll quit .\", 'ich werde abbrechen .'],\n",
              " [\"i'll sing .\", 'ich werde singen .'],\n",
              " [\"i'll stay .\", 'ich werde bleiben .'],\n",
              " [\"i'll stop .\", 'ich werde aufhoeren .'],\n",
              " [\"i'll talk .\", 'ich werde reden .'],\n",
              " [\"i'll wait .\", 'ich werde warten .'],\n",
              " [\"i'll walk .\", 'ich gehe zu fuss .'],\n",
              " [\"i'm a man .\", 'ich bin ein mann .'],\n",
              " [\"i'm angry .\", 'ich bin sauer .'],\n",
              " [\"i'm awake .\", 'ich bin wach .'],\n",
              " [\"i'm blind .\", 'ich bin blind .'],\n",
              " [\"i'm bored .\", 'ich bin gelangweilt .'],\n",
              " [\"i'm bored .\", 'mir ist langweilig .'],\n",
              " [\"i'm broke .\", 'ich bin knapp bei kasse .'],\n",
              " [\"i'm broke .\", 'ich bin pleite .'],\n",
              " [\"i'm cured .\", 'ich bin geheilt .'],\n",
              " [\"i'm drunk .\", 'ich bin betrunken .'],\n",
              " [\"i'm drunk .\", 'ich bin blau .'],\n",
              " [\"i'm dying .\", 'ich werde bald sterben .'],\n",
              " [\"i'm early .\", 'ich bin frueh dran .'],\n",
              " [\"i'm first .\", 'ich bin erster .'],\n",
              " [\"i'm first .\", 'ich bin erste .'],\n",
              " [\"i'm going .\", 'ich gehe jetzt .'],\n",
              " [\"i'm happy .\", 'ich bin gluecklich .'],\n",
              " [\"i'm happy .\", 'ich bin froh .'],\n",
              " [\"i'm lying .\", 'ich luege .'],\n",
              " [\"i'm needy .\", 'ich bin beduerftig .'],\n",
              " [\"i'm obese .\", 'ich bin fett .'],\n",
              " [\"i'm ready !\", 'ich bin soweit !'],\n",
              " [\"i'm ready .\", 'ich bin soweit .'],\n",
              " [\"i'm ready .\", 'ich bin so weit .'],\n",
              " [\"i'm right .\", 'ich habe recht .'],\n",
              " [\"i'm right .\", 'ich habe recht .'],\n",
              " [\"i'm sober .\", 'ich bin nuechtern .'],\n",
              " [\"i'm sorry .\", 'es tut mir leid .'],\n",
              " [\"i'm sorry .\", 'entschuldigung !'],\n",
              " [\"i'm stuck .\", 'ich stecke fest .'],\n",
              " [\"i'm tired .\", 'ich bin muede !'],\n",
              " [\"i'm tired .\", 'ich bin muede .'],\n",
              " [\"i'm tough .\", 'ich bin zaeh .'],\n",
              " [\"i'm upset .\", 'ich bin veraergert .'],\n",
              " [\"i'm upset .\", 'ich bin bestuerzt .'],\n",
              " [\"i'm yours .\", 'ich gehoere dir .'],\n",
              " [\"i've lost .\", 'ich habe verloren .'],\n",
              " ['ignore it .', 'beachte es gar nicht !'],\n",
              " ['ignore it .', 'beachten sie es gar nicht !'],\n",
              " ['is tom ok ?', 'ist tom okay ?'],\n",
              " ['is tom in ?', 'ist tom da ?'],\n",
              " ['is he tom ?', 'ist er tom ?'],\n",
              " ['is it bad ?', 'ist es schlimm ?'],\n",
              " ['is it far ?', 'ist das weit ?'],\n",
              " ['is it hot ?', 'ist es heiss ?'],\n",
              " ['is it new ?', 'ist es neu ?'],\n",
              " ['it burned .', 'es brannte .'],\n",
              " ['it burned .', 'es verbrannte .'],\n",
              " ['it snowed .', 'es hat geschneit .'],\n",
              " ['it worked .', 'es hat geklappt .'],\n",
              " ['it worked .', 'das hat funktioniert .'],\n",
              " [\"it's .\", 'es ist halb vier .'],\n",
              " [\"it's .\", 'es ist uhr .'],\n",
              " [\"it's .\", 'es ist sieben uhr fuenfundvierzig .'],\n",
              " [\"it's .\", 'es ist uhr .'],\n",
              " [\"it's .\", 'es ist viertel nach neun .'],\n",
              " [\"it's .\", 'es ist . uhr .'],\n",
              " [\"it's a tv .\", 'das ist ein fernseher .'],\n",
              " [\"it's cold .\", 'es ist kalt .'],\n",
              " [\"it's cool .\", 'es ist kuehl .'],\n",
              " [\"it's dark .\", 'es ist dunkel .'],\n",
              " [\"it's easy .\", 'das ist einfach .'],\n",
              " [\"it's easy .\", 'es ist einfach .'],\n",
              " [\"it's fair .\", 'es ist gerecht .'],\n",
              " [\"it's free .\", 'es ist frei .'],\n",
              " [\"it's hard .\", 'das ist hart .'],\n",
              " [\"it's here .\", 'es ist hier .'],\n",
              " [\"it's late .\", 'es ist spaet .'],\n",
              " [\"it's mine .\", 'es ist meins .'],\n",
              " [\"it's mine .\", 'sie gehoert mir .'],\n",
              " [\"it's mine .\", 'er gehoert mir .'],\n",
              " [\"it's okay .\", 'es ist in ordnung .'],\n",
              " [\"it's open .\", 'es ist geoeffnet .'],\n",
              " [\"it's ours .\", 'es ist unsers .'],\n",
              " [\"it's over .\", 'es ist vorbei .'],\n",
              " [\"it's sand .\", 'es ist sand .'],\n",
              " [\"it's true .\", 'es ist wahr .'],\n",
              " [\"it's work .\", 'es ist arbeit .'],\n",
              " [\"it's work .\", 'das ist meine arbeit .'],\n",
              " ['jump down .', 'spring runter !'],\n",
              " ['keep away .', 'bleib weg .'],\n",
              " ['keep away .', 'bleibt weg .'],\n",
              " ['keep away .', 'bleiben sie weg .'],\n",
              " ['keep back .', 'bleiben sie zurueck .'],\n",
              " ['keep cool .', 'bleib gelassen !'],\n",
              " ['keep that .', 'behalt s !'],\n",
              " ['keep them .', 'behalte sie .'],\n",
              " ['keep them .', 'behalten sie sie .'],\n",
              " ['keep them .', 'behaltet sie .'],\n",
              " ['keep them .', 'behalt sie !'],\n",
              " ['keep warm .', 'halt dich warm .'],\n",
              " ['keep warm .', 'haltet euch warm .'],\n",
              " ['keep warm .', 'halten sie sich warm .'],\n",
              " ['leave tom .', 'verlasse tom .'],\n",
              " ['leave tom .', 'verlassen sie tom .'],\n",
              " ['leave now .', 'geh jetzt !'],\n",
              " ['leave now .', 'geht jetzt !'],\n",
              " ['let it be .', 'lass es sein .'],\n",
              " ['let it be .', 'lass es bleiben .'],\n",
              " ['let me be .', 'lass mich in ruhe .'],\n",
              " ['let me go !', 'lassen sie mich gehen !'],\n",
              " ['let me go !', 'lass mich gehen !'],\n",
              " ['let me in .', 'lass mich herein .'],\n",
              " ['let us go .', 'lass uns gehen .'],\n",
              " ['let us go .', 'lassen sie uns gehen .'],\n",
              " [\"let's eat .\", 'essen wir etwas !'],\n",
              " [\"let's see .\", 'schauen wir mal .'],\n",
              " [\"let's try !\", 'lasst es uns versuchen !'],\n",
              " [\"let's try !\", 'lass es uns versuchen !'],\n",
              " [\"let's try !\", 'lass es uns probieren !'],\n",
              " ['lie still .', 'lieg still und beweg dich nicht .'],\n",
              " ['listen up .', 'hoer zu .'],\n",
              " ['look back !', 'schau nach hinten !'],\n",
              " ['look down .', 'guck runter .'],\n",
              " ['look here .', 'schau hier .'],\n",
              " ['look here .', 'schau her .'],\n",
              " ['loosen it .', 'dreh es auf .'],\n",
              " ['loosen up .', 'mach dich locker !'],\n",
              " ['move over .', 'rutsch mal ein stueck !'],\n",
              " ['nice shot !', 'guter schuss !'],\n",
              " ['of course !', 'natuerlich !'],\n",
              " ['of course !', 'selbstverstaendlich !'],\n",
              " ['of course !', 'auf jeden fall !'],\n",
              " ['of course !', 'na klar !'],\n",
              " ['of course !', 'aber sicher doch !'],\n",
              " ['please go .', 'bitte geh .'],\n",
              " ['please go .', 'bitte geht .'],\n",
              " ['please go .', 'bitte gehen sie .'],\n",
              " ['put it on .', 'setz es auf .'],\n",
              " ['put it on .', 'tu es drauf .'],\n",
              " ['put it on .', 'setz ihn auf .'],\n",
              " ['put it on .', 'zieh sie an .'],\n",
              " ['put it on .', 'setz sie auf .'],\n",
              " ['put it on .', 'setz sie dir auf .'],\n",
              " ['put it on .', 'zieh sie dir an .'],\n",
              " ['put it on .', 'setz ihn dir auf .'],\n",
              " ['read this .', 'lies das hier .'],\n",
              " ['say aah .', 'sag ah !'],\n",
              " ['say hello .', 'sag hallo .'],\n",
              " ['see below .', 'siehe unten .'],\n",
              " ['seize him !', 'fass ihn !'],\n",
              " ['seize him !', 'fassen sie ihn !'],\n",
              " ['seize him !', 'fasst ihn !'],\n",
              " ['seriously ?', 'wirklich ?'],\n",
              " ['seriously ?', 'echt ?'],\n",
              " ['seriously ?', 'ernsthaft ?'],\n",
              " ['seriously ?', 'im ernst ?'],\n",
              " ['she cried .', 'sie weinte .'],\n",
              " ['she tried .', \"sie hat's versucht .\"],\n",
              " ['she walks .', 'sie geht .'],\n",
              " ['she walks .', 'sie geht zu fuss .'],\n",
              " ['sign here .', 'unterschreibe hier .'],\n",
              " ['sign here .', 'unterschreiben sie hier .'],\n",
              " ['sign this .', 'unterschreiben sie das .'],\n",
              " ['sign this .', 'unterschreib das .'],\n",
              " ['sit by me .', 'setz dich zu mir !'],\n",
              " ['sit still .', 'sitz still .'],\n",
              " ['sit still .', 'sitzen sie still .'],\n",
              " ['sit there .', 'setz dich dorthin .'],\n",
              " ['sit tight .', 'harre aus !'],\n",
              " ['start now .', 'beginnen sie jetzt .'],\n",
              " ['start now .', 'fang jetzt an .'],\n",
              " ['stay away .', 'bleiben sie weg .'],\n",
              " ['stay back .', 'bleibt zurueck !'],\n",
              " ['stay calm .', 'bleib ruhig .'],\n",
              " ['stay calm .', 'bleiben sie ruhig .'],\n",
              " ['stay cool .', 'bleib ruhig .'],\n",
              " ['stay cool .', 'bleibt ruhig .'],\n",
              " ['stay cool .', 'bleiben sie ruhig .'],\n",
              " ['stay cool .', 'bleib cool .'],\n",
              " ['stay cool .', 'bleibt cool .'],\n",
              " ['stay down !', 'bleib unten !'],\n",
              " ['stay down .', 'bleib unten !'],\n",
              " ['stay thin .', 'bleiben sie duenn .'],\n",
              " ['stay thin .', 'bleib duenn .'],\n",
              " ['step back .', 'tritt zurueck !'],\n",
              " ['stop here .', 'hoer hier auf .'],\n",
              " ['stop here .', 'halte hier .'],\n",
              " ['stop here .', 'halte hier an .'],\n",
              " ['stop here .', 'bleib hier stehen .'],\n",
              " ['stop that !', 'lass das !'],\n",
              " ['stop that !', 'hoer auf damit !'],\n",
              " ['stop that !', 'hoer mal auf !'],\n",
              " ['stop that !', 'hoer mal auf damit !'],\n",
              " ['stop them .', 'stopp sie .'],\n",
              " ['stop them .', 'stoppen sie sie .'],\n",
              " ['take care !', 'pass auf dich auf !'],\n",
              " ['take care .', \"mach's gut .\"],\n",
              " ['take mine .', 'nimm meins .'],\n",
              " ['take mine .', 'nimm meine .'],\n",
              " ['take mine .', 'nimm meinen .'],\n",
              " ['take mine .', 'nehmt meins .'],\n",
              " ['take mine .', 'nehmt meine .'],\n",
              " ['take mine .', 'nehmt meinen .'],\n",
              " ['take mine .', 'nehmen sie meins .'],\n",
              " ['take mine .', 'nehmen sie meinen .'],\n",
              " ['take mine .', 'nehmen sie meine .'],\n",
              " ['take over .', 'uebernimm du .'],\n",
              " ['take over .', 'uebernehmt ihr .'],\n",
              " ['take over .', 'uebernehmen sie .'],\n",
              " ['take this .', 'nimm das .'],\n",
              " ['thank you .', 'danke !'],\n",
              " [\"that's ok .\", 'das ist o . k .'],\n",
              " [\"that's it .\", \"das war's .\"],\n",
              " [\"that's me .\", 'das bin ich !'],\n",
              " [\"that's me .\", 'ich bin jetzt fertig .'],\n",
              " ['then what ?', 'na und ?'],\n",
              " ['they fell .', 'sie fielen .'],\n",
              " ['they fell .', 'sie stuerzten .'],\n",
              " ['they lied .', 'sie haben gelogen .'],\n",
              " ['they lost .', 'sie verloren .'],\n",
              " ['they lost .', 'sie haben verloren .'],\n",
              " ['they swam .', 'sie schwammen .'],\n",
              " [\"time's up .\", 'die zeit ist um .'],\n",
              " ['tom bowed .', 'tom verneigte sich .'],\n",
              " ['tom cried .', 'tom weinte .'],\n",
              " ['tom dozed .', 'tom doeste .'],\n",
              " ['tom drove .', 'tom fuhr .'],\n",
              " ['tom froze .', 'tom erstarrte .'],\n",
              " ['tom is ok .', 'tom ist in ordnung .'],\n",
              " ['tom is in .', 'tom ist hier .'],\n",
              " ['tom is up .', 'tom ist auf .'],\n",
              " ['tom knits .', 'tom strickt .'],\n",
              " ['tom knows .', 'tom weiss es .'],\n",
              " ['tom moved .', 'tom bewegte sich .'],\n",
              " ['tom slept .', 'tom schlief .'],\n",
              " ['tom spoke .', 'tom hat gesprochen .'],\n",
              " ['tom spoke .', 'tom sprach .'],\n",
              " ['tom swims .', 'tom schwimmt .'],\n",
              " ['tom tried .', 'tom versuchte es .'],\n",
              " ['tom tried .', 'tom hat es versucht .'],\n",
              " ['tom tries .', 'tom versucht es .'],\n",
              " ['tom voted .', 'tom hat gewaehlt .'],\n",
              " ['tom voted .', 'tom waehlte .'],\n",
              " ['tom walks .', 'tom geht zu fuss .'],\n",
              " ['tom waved .', 'tom winkte .'],\n",
              " ['tom works .', 'tom arbeitet .'],\n",
              " [\"tom'll go .\", 'tom wird gehen .'],\n",
              " [\"tom's fat .\", 'tom ist dick .'],\n",
              " [\"tom's mad .\", 'tom ist wuetend .'],\n",
              " [\"tom's sad .\", 'tom ist traurig .'],\n",
              " [\"tom's shy .\", 'tom ist schuechtern .'],\n",
              " ['trust tom .', 'vertraue tom !'],\n",
              " ['trust tom .', 'vertrauen sie tom !'],\n",
              " ['trust tom .', 'vertraut tom !'],\n",
              " ['try again .', 'versuchen sie es noch einmal .'],\n",
              " ['try again .', 'versuch es noch einmal .'],\n",
              " ['try again .', 'versucht es noch mal .'],\n",
              " ['try it on .', 'probier es an !'],\n",
              " ['try it on .', 'probier sie an !'],\n",
              " ['try it on .', 'probier ihn an !'],\n",
              " ['unlock it .', 'schliess es auf .'],\n",
              " ['unlock it .', 'entsperr es .'],\n",
              " ['watch tom .', 'sieh tom zu !'],\n",
              " ['watch tom .', 'sehen sie tom zu !'],\n",
              " ['watch tom .', 'seht tom zu !'],\n",
              " ['we agreed .', 'wir waren uns einig .'],\n",
              " ['we agreed .', 'wir stimmten zu .'],\n",
              " ['we can go .', 'wir koennen gehen .'],\n",
              " ['we saw it .', 'wir sahen es .'],\n",
              " ['we saw it .', 'wir haben es gesehen .'],\n",
              " ['we talked .', 'wir haben uns unterhalten .'],\n",
              " ['we waited .', 'wir warteten .'],\n",
              " [\"we'll see .\", 'wir werden sehen .'],\n",
              " [\"we'll try .\", 'wir werden es versuchen .'],\n",
              " [\"we'll win .\", 'wir werden siegen .'],\n",
              " [\"we're hot .\", 'uns ist heiss .'],\n",
              " [\"we're sad .\", 'wir sind traurig .'],\n",
              " [\"we're shy .\", 'wir sind schuechtern .'],\n",
              " [\"we've won !\", 'wir haben gewonnen !'],\n",
              " [\"what's on ?\", 'was ist los ?'],\n",
              " [\"what's up ?\", 'was ist los ?'],\n",
              " [\"what's up ?\", \"na , wie geht's ?\"],\n",
              " ['who cares ?', 'wen kuemmert s ?'],\n",
              " ['who cares ?', 'wen kuemmert das schon ?'],\n",
              " ['who is he ?', 'wer ist er ?'],\n",
              " ['who spoke ?', 'wer hat gesprochen ?'],\n",
              " ['who spoke ?', 'wer sprach ?'],\n",
              " ['who stood ?', 'wer stand ?'],\n",
              " [\"who'll go ?\", 'wer geht ?'],\n",
              " [\"who'll go ?\", 'wer wird gehen ?'],\n",
              " [\"who's she ?\", 'wer ist sie ?'],\n",
              " ['wonderful !', 'wunderbar !'],\n",
              " ['wonderful !', 'herrlich !'],\n",
              " ['write tom .', 'schreibe tom !'],\n",
              " ['write tom .', 'schreiben sie tom !'],\n",
              " ['write tom .', 'schreibt tom !'],\n",
              " ['you drive .', 'du faehrst .'],\n",
              " ['you drive .', 'sie fahren .'],\n",
              " ['you idiot !', 'du idiot !'],\n",
              " ['you start .', 'du faengst an .'],\n",
              " ['you stink .', 'du stinkst .'],\n",
              " ['you stink .', 'ihr stinkt .'],\n",
              " ['you stink .', 'sie stinken .'],\n",
              " ['you tried .', \"du hast's versucht .\"],\n",
              " [\"you're ok .\", 'du bist okay .'],\n",
              " ['aim higher .', 'ziel hoeher !'],\n",
              " ['aim higher .', 'zielen sie hoeher !'],\n",
              " ['aim higher .', 'zielt hoeher !'],\n",
              " ['all aboard !', 'alle mann an bord !'],\n",
              " ['am i dying ?', 'sterbe ich ?'],\n",
              " ['am i early ?', 'bin ich frueh dran ?'],\n",
              " ['am i fired ?', 'bin ich gefeuert ?'],\n",
              " ['am i hired ?', 'bin ich eingestellt ?'],\n",
              " ['am i right ?', 'habe ich recht ?'],\n",
              " ['am i right ?', 'liege ich richtig ?'],\n",
              " ['am i weird ?', 'bin ich komisch ?'],\n",
              " ['am i wrong ?', 'hab ich nicht recht ?'],\n",
              " ['am i wrong ?', 'irre ich mich ?'],\n",
              " ['answer tom .', 'antworte tom !'],\n",
              " ['answer tom .', 'antworten sie tom !'],\n",
              " ['answer tom .', 'antwortet tom !'],\n",
              " ['are you ?', 'bist du ?'],\n",
              " ['are you ok ?', 'geht es dir gut ?'],\n",
              " ['are you ok ?', 'geht es euch gut ?'],\n",
              " ['are you ok ?', 'geht es ihnen gut ?'],\n",
              " ['are you in ?', 'bist du dabei ?'],\n",
              " ['are you up ?', 'bist du auf ?'],\n",
              " ['ask anyone .', 'frag irgendwen !'],\n",
              " ['ask around .', 'frag herum .'],\n",
              " ['ask around .', 'fragen sie herum .'],\n",
              " ['ask around .', 'fragt herum .'],\n",
              " ['be careful .', 'sei vorsichtig !'],\n",
              " ['be careful .', 'sieh dich vor !'],\n",
              " ['be careful .', 'gib obacht !'],\n",
              " ['be careful .', 'gib acht !'],\n",
              " ['be careful .', 'gib acht !'],\n",
              " ['be patient .', 'sei geduldig !'],\n",
              " ['be serious .', 'bleib mal auf dem boden der tatsachen !'],\n",
              " ['birds sing .', 'voegel singen .'],\n",
              " ['bring wine .', 'bring wein .'],\n",
              " ['can i come ?', 'kann ich kommen ?'],\n",
              " ['can i come ?', 'darf ich kommen ?'],\n",
              " ['can i help ?', 'kann ich helfen ?'],\n",
              " ...]"
            ]
          },
          "metadata": {
            "tags": []
          },
          "execution_count": 28
        }
      ]
    },
    {
      "cell_type": "code",
      "metadata": {
        "id": "WnIdqZFk1iaA"
      },
      "source": [
        ""
      ],
      "execution_count": null,
      "outputs": []
    },
    {
      "cell_type": "code",
      "metadata": {
        "id": "5UlnBdIK1iaE"
      },
      "source": [
        ""
      ],
      "execution_count": null,
      "outputs": []
    },
    {
      "cell_type": "code",
      "metadata": {
        "id": "ZGTaqt1t1iaI"
      },
      "source": [
        ""
      ],
      "execution_count": null,
      "outputs": []
    },
    {
      "cell_type": "code",
      "metadata": {
        "id": "fqiO7HuQ1iaL"
      },
      "source": [
        ""
      ],
      "execution_count": null,
      "outputs": []
    },
    {
      "cell_type": "markdown",
      "metadata": {
        "id": "foL7Ihs21iaP"
      },
      "source": [
        "## 2. Prepare the data with tf.data.Dataset objects"
      ]
    },
    {
      "cell_type": "markdown",
      "metadata": {
        "id": "-9rCEE4z1iaQ"
      },
      "source": [
        "#### Load the embedding layer\n",
        "As part of the dataset preproceessing for this project, you will use a pre-trained English word embedding module from TensorFlow Hub. The URL for the module is https://tfhub.dev/google/tf2-preview/nnlm-en-dim128-with-normalization/1.\n",
        "\n",
        "This embedding takes a batch of text tokens in a 1-D tensor of strings as input. It then embeds the separate tokens into a 128-dimensional space. \n",
        "\n",
        "The code to load and test the embedding layer is provided for you below.\n",
        "\n",
        "**NB:** this model can also be used as a sentence embedding module. The module will process each token by removing punctuation and splitting on spaces. It then averages the word embeddings over a sentence to give a single embedding vector. However, we will use it only as a word embedding module, and will pass each word in the input sentence as a separate token."
      ]
    },
    {
      "cell_type": "code",
      "metadata": {
        "id": "ywZgobCh1iaR"
      },
      "source": [
        "# Load embedding module from Tensorflow Hub\n",
        "\n",
        "embedding_layer = hub.KerasLayer(\"https://tfhub.dev/google/tf2-preview/nnlm-en-dim128/1\", \n",
        "                                 output_shape=[128], input_shape=[], dtype=tf.string)"
      ],
      "execution_count": null,
      "outputs": []
    },
    {
      "cell_type": "code",
      "metadata": {
        "id": "TiY8QEDp1iaV"
      },
      "source": [
        "# Test the layer\n",
        "\n",
        "embedding_layer(tf.constant([\"these\", \"aren't\", \"the\", \"droids\", \"you're\", \"looking\", \"for\"])).shape"
      ],
      "execution_count": null,
      "outputs": []
    },
    {
      "cell_type": "markdown",
      "metadata": {
        "id": "KjuzXc-z1iaY"
      },
      "source": [
        "You should now prepare the training and validation Datasets.\n",
        "\n",
        "* Create a random training and validation set split of the data, reserving e.g. 20% of the data for validation (NB: each English dataset example is a single sentence string, and each German dataset example is a sequence of padded integer tokens).\n",
        "* Load the training and validation sets into a tf.data.Dataset object, passing in a tuple of English and German data for both training and validation sets.\n",
        "* Create a function to map over the datasets that splits each English sentence at spaces. Apply this function to both Dataset objects using the map method. _Hint: look at the tf.strings.split function._\n",
        "* Create a function to map over the datasets that embeds each sequence of English words using the loaded embedding layer/model. Apply this function to both Dataset objects using the map method.\n",
        "* Create a function to filter out dataset examples where the English sentence is greater than or equal to than 13 (embedded) tokens in length. Apply this function to both Dataset objects using the filter method.\n",
        "* Create a function to map over the datasets that pads each English sequence of embeddings with some distinct padding value before the sequence, so that each sequence is length 13. Apply this function to both Dataset objects using the map method. _Hint: look at the tf.pad function. You can extract a Tensor shape using tf.shape; you might also find the tf.math.maximum function useful._\n",
        "* Batch both training and validation Datasets with a batch size of 16.\n",
        "* Print the `element_spec` property for the training and validation Datasets. \n",
        "* Using the Dataset `.take(1)` method, print the shape of the English data example from the training Dataset.\n",
        "* Using the Dataset `.take(1)` method, print the German data example Tensor from the validation Dataset."
      ]
    },
    {
      "cell_type": "code",
      "metadata": {
        "id": "Q-BUJOl_1iaZ"
      },
      "source": [
        ""
      ],
      "execution_count": null,
      "outputs": []
    },
    {
      "cell_type": "code",
      "metadata": {
        "id": "4w6rM8Bl1iad"
      },
      "source": [
        ""
      ],
      "execution_count": null,
      "outputs": []
    },
    {
      "cell_type": "code",
      "metadata": {
        "id": "D7bn3mRs1iaj"
      },
      "source": [
        ""
      ],
      "execution_count": null,
      "outputs": []
    },
    {
      "cell_type": "code",
      "metadata": {
        "id": "q0Fdso381ian"
      },
      "source": [
        ""
      ],
      "execution_count": null,
      "outputs": []
    },
    {
      "cell_type": "code",
      "metadata": {
        "id": "bGqlxuqZ1ias"
      },
      "source": [
        ""
      ],
      "execution_count": null,
      "outputs": []
    },
    {
      "cell_type": "code",
      "metadata": {
        "id": "MdqSXEoX1iav"
      },
      "source": [
        ""
      ],
      "execution_count": null,
      "outputs": []
    },
    {
      "cell_type": "markdown",
      "metadata": {
        "id": "isIYhjq01iay"
      },
      "source": [
        "## 3. Create the custom layer\n",
        "You will now create a custom layer to add the learned end token embedding to the encoder model:\n",
        "\n",
        "![Encoder schematic](https://github.com/MengOonLee/Deep_learning/blob/master/TensorFlow2/Tutorial/image/neural_translation/neural_translation_model_encoder.png?raw=1)"
      ]
    },
    {
      "cell_type": "markdown",
      "metadata": {
        "id": "M6gLIHG81iaz"
      },
      "source": [
        "You should now build the custom layer.\n",
        "* Using layer subclassing, create a custom layer that takes a batch of English data examples from one of the Datasets, and adds a learned embedded ‘end’ token to the end of each sequence. \n",
        "* This layer should create a TensorFlow Variable (that will be learned during training) that is 128-dimensional (the size of the embedding space). _Hint: you may find it helpful in the call method to use the tf.tile function to replicate the end token embedding across every element in the batch._\n",
        "* Using the Dataset `.take(1)` method, extract a batch of English data examples from the training Dataset and print the shape. Test the custom layer by calling the layer on the English data batch Tensor and print the resulting Tensor shape (the layer should increase the sequence length by one)."
      ]
    },
    {
      "cell_type": "code",
      "metadata": {
        "id": "yg9hjZz11ia0"
      },
      "source": [
        ""
      ],
      "execution_count": null,
      "outputs": []
    },
    {
      "cell_type": "code",
      "metadata": {
        "id": "4PwI32O11ia3"
      },
      "source": [
        ""
      ],
      "execution_count": null,
      "outputs": []
    },
    {
      "cell_type": "code",
      "metadata": {
        "id": "ebjK8PmL1ia6"
      },
      "source": [
        ""
      ],
      "execution_count": null,
      "outputs": []
    },
    {
      "cell_type": "markdown",
      "metadata": {
        "id": "OAd3i4_y1ia-"
      },
      "source": [
        "## 4. Build the encoder network\n",
        "The encoder network follows the schematic diagram above. You should now build the RNN encoder model.\n",
        "* Using the functional API, build the encoder network according to the following spec:\n",
        "    * The model will take a batch of sequences of embedded English words as input, as given by the Dataset objects.\n",
        "    * The next layer in the encoder will be the custom layer you created previously, to add a learned end token embedding to the end of the English sequence.\n",
        "    * This is followed by a Masking layer, with the `mask_value` set to the distinct padding value you used when you padded the English sequences with the Dataset preprocessing above.\n",
        "    * The final layer is an LSTM layer with 512 units, which also returns the hidden and cell states.\n",
        "    * The encoder is a multi-output model. There should be two output Tensors of this model: the hidden state and cell states of the LSTM layer. The output of the LSTM layer is unused.\n",
        "* Using the Dataset `.take(1)` method, extract a batch of English data examples from the training Dataset and test the encoder model by calling it on the English data Tensor, and print the shape of the resulting Tensor outputs.\n",
        "* Print the model summary for the encoder network."
      ]
    },
    {
      "cell_type": "code",
      "metadata": {
        "id": "6R2LqbfV1ia_"
      },
      "source": [
        ""
      ],
      "execution_count": null,
      "outputs": []
    },
    {
      "cell_type": "code",
      "metadata": {
        "id": "e5XW6NxL1ibC"
      },
      "source": [
        ""
      ],
      "execution_count": null,
      "outputs": []
    },
    {
      "cell_type": "code",
      "metadata": {
        "id": "jEk9ikVh1ibL"
      },
      "source": [
        ""
      ],
      "execution_count": null,
      "outputs": []
    },
    {
      "cell_type": "markdown",
      "metadata": {
        "id": "KvkzpCeZ1ibR"
      },
      "source": [
        "## 5. Build the decoder network\n",
        "The decoder network follows the schematic diagram below.\n",
        "\n",
        "![Decoder schematic](https://github.com/MengOonLee/Deep_learning/blob/master/TensorFlow2/Tutorial/image/neural_translation/neural_translation_model_decoder.png?raw=1)"
      ]
    },
    {
      "cell_type": "markdown",
      "metadata": {
        "id": "VPBK8WGL1ibS"
      },
      "source": [
        "You should now build the RNN decoder model.\n",
        "* Using Model subclassing, build the decoder network according to the following spec:\n",
        "    * The initializer should create the following layers:\n",
        "        * An Embedding layer with vocabulary size set to the number of unique German tokens, embedding dimension 128, and set to mask zero values in the input.\n",
        "        * An LSTM layer with 512 units, that returns its hidden and cell states, and also returns sequences.\n",
        "        * A Dense layer with number of units equal to the number of unique German tokens, and no activation function.\n",
        "    * The call method should include the usual `inputs` argument, as well as the additional keyword arguments `hidden_state` and `cell_state`. The default value for these keyword arguments should be `None`.\n",
        "    * The call method should pass the inputs through the Embedding layer, and then through the LSTM layer. If the `hidden_state` and `cell_state` arguments are provided, these should be used for the initial state of the LSTM layer. _Hint: use the_ `initial_state` _keyword argument when calling the LSTM layer on its input._\n",
        "    * The call method should pass the LSTM output sequence through the Dense layer, and return the resulting Tensor, along with the hidden and cell states of the LSTM layer.\n",
        "* Using the Dataset `.take(1)` method, extract a batch of English and German data examples from the training Dataset. Test the decoder model by first calling the encoder model on the English data Tensor to get the hidden and cell states, and then call the decoder model on the German data Tensor and hidden and cell states, and print the shape of the resulting decoder Tensor outputs.\n",
        "* Print the model summary for the decoder network."
      ]
    },
    {
      "cell_type": "code",
      "metadata": {
        "id": "l50qhnXD1ibT"
      },
      "source": [
        ""
      ],
      "execution_count": null,
      "outputs": []
    },
    {
      "cell_type": "code",
      "metadata": {
        "id": "vG5CRIXV1ibi"
      },
      "source": [
        ""
      ],
      "execution_count": null,
      "outputs": []
    },
    {
      "cell_type": "code",
      "metadata": {
        "id": "SvqqT_ET1ibl"
      },
      "source": [
        ""
      ],
      "execution_count": null,
      "outputs": []
    },
    {
      "cell_type": "markdown",
      "metadata": {
        "id": "pST9XGJ81ibo"
      },
      "source": [
        "## 6. Make a custom training loop\n",
        "You should now write a custom training loop to train your custom neural translation model.\n",
        "* Define a function that takes a Tensor batch of German data (as extracted from the training Dataset), and returns a tuple containing German inputs and outputs for the decoder model (refer to schematic diagram above).\n",
        "* Define a function that computes the forward and backward pass for your translation model. This function should take an English input, German input and German output as arguments, and should do the following:\n",
        "    * Pass the English input into the encoder, to get the hidden and cell states of the encoder LSTM.\n",
        "    * These hidden and cell states are then passed into the decoder, along with the German inputs, which returns a sequence of outputs (the hidden and cell state outputs of the decoder LSTM are unused in this function).\n",
        "    * The loss should then be computed between the decoder outputs and the German output function argument.\n",
        "    * The function returns the loss and gradients with respect to the encoder and decoder’s trainable variables.\n",
        "    * Decorate the function with `@tf.function`\n",
        "* Define and run a custom training loop for a number of epochs (for you to choose) that does the following:\n",
        "    * Iterates through the training dataset, and creates decoder inputs and outputs from the German sequences.\n",
        "    * Updates the parameters of the translation model using the gradients of the function above and an optimizer object.\n",
        "    * Every epoch, compute the validation loss on a number of batches from the validation and save the epoch training and validation losses.\n",
        "* Plot the learning curves for loss vs epoch for both training and validation sets.\n",
        "\n",
        "_Hint: This model is computationally demanding to train. The quality of the model or length of training is not a factor in the grading rubric. However, to obtain a better model we recommend using the GPU accelerator hardware on Colab._"
      ]
    },
    {
      "cell_type": "code",
      "metadata": {
        "id": "7hJHbWqs1ibr"
      },
      "source": [
        ""
      ],
      "execution_count": null,
      "outputs": []
    },
    {
      "cell_type": "code",
      "metadata": {
        "id": "Jvu4J4-u1ibu"
      },
      "source": [
        ""
      ],
      "execution_count": null,
      "outputs": []
    },
    {
      "cell_type": "code",
      "metadata": {
        "id": "Vl5H06811ibx"
      },
      "source": [
        ""
      ],
      "execution_count": null,
      "outputs": []
    },
    {
      "cell_type": "code",
      "metadata": {
        "id": "MVWOYJ3l1ib1"
      },
      "source": [
        ""
      ],
      "execution_count": null,
      "outputs": []
    },
    {
      "cell_type": "code",
      "metadata": {
        "id": "6VSmBdwT1ib4"
      },
      "source": [
        ""
      ],
      "execution_count": null,
      "outputs": []
    },
    {
      "cell_type": "code",
      "metadata": {
        "id": "dpacst2F1ib7"
      },
      "source": [
        ""
      ],
      "execution_count": null,
      "outputs": []
    },
    {
      "cell_type": "markdown",
      "metadata": {
        "id": "xM2gvBM11ib-"
      },
      "source": [
        "## 7. Use the model to translate\n",
        "Now it's time to put your model into practice! You should run your translation for five randomly sampled English sentences from the dataset. For each sentence, the process is as follows:\n",
        "* Preprocess and embed the English sentence according to the model requirements.\n",
        "* Pass the embedded sentence through the encoder to get the encoder hidden and cell states.\n",
        "* Starting with the special  `\"<start>\"` token, use this token and the final encoder hidden and cell states to get the one-step prediction from the decoder, as well as the decoder’s updated hidden and cell states.\n",
        "* Create a loop to get the next step prediction and updated hidden and cell states from the decoder, using the most recent hidden and cell states. Terminate the loop when the `\"<end>\"` token is emitted, or when the sentence has reached a maximum length.\n",
        "* Decode the output token sequence into German text and print the English text and the model's German translation."
      ]
    },
    {
      "cell_type": "code",
      "metadata": {
        "id": "bGnQtE7L1icA"
      },
      "source": [
        ""
      ],
      "execution_count": null,
      "outputs": []
    },
    {
      "cell_type": "code",
      "metadata": {
        "id": "ohleJRcJ1icD"
      },
      "source": [
        ""
      ],
      "execution_count": null,
      "outputs": []
    },
    {
      "cell_type": "code",
      "metadata": {
        "id": "Unk60cEy1icI"
      },
      "source": [
        ""
      ],
      "execution_count": null,
      "outputs": []
    }
  ]
}