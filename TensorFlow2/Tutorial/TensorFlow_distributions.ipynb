{
 "cells": [
  {
   "cell_type": "code",
   "execution_count": 1,
   "metadata": {},
   "outputs": [
    {
     "name": "stdout",
     "output_type": "stream",
     "text": [
      "TF version: 2.1.0\n",
      "TFP version: 0.9.0\n"
     ]
    }
   ],
   "source": [
    "import tensorflow as tf\n",
    "import tensorflow_probability as tfp\n",
    "tfd = tfp.distributions\n",
    "\n",
    "print(\"TF version:\", tf.__version__)\n",
    "print(\"TFP version:\", tfp.__version__)"
   ]
  },
  {
   "cell_type": "code",
   "execution_count": 2,
   "metadata": {},
   "outputs": [],
   "source": [
    "# Additional imports and setting fixed random seed to have reproducibility\n",
    "\n",
    "import matplotlib.pyplot as plt\n",
    "import numpy as np\n",
    "tf.random.set_seed(123)"
   ]
  },
  {
   "cell_type": "markdown",
   "metadata": {},
   "source": [
    "# Tensorflow Distributions"
   ]
  },
  {
   "cell_type": "markdown",
   "metadata": {},
   "source": [
    "## Coding Tutorials\n",
    "#### 1. [Univariate Distributions](#univariate_distributions)\n",
    "#### 2. [Multivariate Distributions](#multivariate_distributions)\n",
    "#### 3. [The Independent Distribution](#the_independent_distribution)\n",
    "#### 4. [Sampling and log probs](#sampling_and_log_probs)\n",
    "#### 5. [Trainable Distributions](#trainable_distributions)"
   ]
  },
  {
   "cell_type": "markdown",
   "metadata": {},
   "source": [
    "***\n",
    "## Univariate distributions\n",
    "<a id='univariate_distributions'></a>"
   ]
  },
  {
   "cell_type": "code",
   "execution_count": 6,
   "metadata": {},
   "outputs": [
    {
     "name": "stdout",
     "output_type": "stream",
     "text": [
      "tfp.distributions.Normal(\"Normal\", batch_shape=[], event_shape=[], dtype=float32)\n",
      "tf.Tensor([ 0.4394921 -1.2236581  0.5250175], shape=(3,), dtype=float32)\n",
      "tf.Tensor(0.35206532, shape=(), dtype=float32)\n",
      "tf.Tensor(-1.0439385, shape=(), dtype=float32)\n"
     ]
    }
   ],
   "source": [
    "import tensorflow as tf\n",
    "import tensorflow_probability as tfp\n",
    "tfd = tfp.distributions\n",
    "\n",
    "normal = tfd.Normal(loc=0., scale=1.)\n",
    "print(normal)\n",
    "\n",
    "print(normal.sample(3))\n",
    "print(normal.prob(0.5))\n",
    "print(normal.log_prob(0.5))"
   ]
  },
  {
   "cell_type": "code",
   "execution_count": 15,
   "metadata": {},
   "outputs": [
    {
     "name": "stdout",
     "output_type": "stream",
     "text": [
      "tfp.distributions.Bernoulli(\"Bernoulli\", batch_shape=[], event_shape=[], dtype=int32)\n",
      "tf.Tensor([0 0 1], shape=(3,), dtype=int32)\n",
      "tf.Tensor(0.7, shape=(), dtype=float32)\n",
      "tf.Tensor(-0.35667497, shape=(), dtype=float32)\n",
      "\n",
      " tfp.distributions.Bernoulli(\"Bernoulli\", batch_shape=[2], event_shape=[], dtype=int32)\n",
      "(2,)\n",
      "tf.Tensor(\n",
      "[[0 1]\n",
      " [0 1]\n",
      " [0 1]], shape=(3, 2), dtype=int32)\n",
      "tf.Tensor([0.4 0.5], shape=(2,), dtype=float32)\n"
     ]
    }
   ],
   "source": [
    "bernoulli = tfd.Bernoulli(probs=0.7)\n",
    "print(bernoulli)\n",
    "\n",
    "bernouli = tfd.Bernoulli(logits=0.847)\n",
    "print(bernoulli.sample(3))\n",
    "print(bernoulli.prob(1))\n",
    "print(bernoulli.log_prob(1))\n",
    "\n",
    "batched_bernoulli = tfd.Bernoulli(probs=[0.4, 0.5])\n",
    "print(\"\\n\", batched_bernoulli)\n",
    "print(batched_bernoulli.batch_shape)\n",
    "print(batched_bernoulli.sample(3))\n",
    "print(batched_bernoulli.prob([1, 1]))"
   ]
  },
  {
   "cell_type": "code",
   "execution_count": 3,
   "metadata": {},
   "outputs": [
    {
     "data": {
      "text/plain": [
       "<tfp.distributions.Normal 'Normal' batch_shape=[] event_shape=[] dtype=float32>"
      ]
     },
     "execution_count": 3,
     "metadata": {},
     "output_type": "execute_result"
    }
   ],
   "source": [
    "# Create a normal distribution from Tensorflow Distributions\n",
    "\n",
    "normal = tfd.Normal(loc=0, scale=1)\n",
    "normal"
   ]
  },
  {
   "cell_type": "code",
   "execution_count": 4,
   "metadata": {},
   "outputs": [
    {
     "data": {
      "text/plain": [
       "<tf.Tensor: shape=(), dtype=float32, numpy=-0.8980837>"
      ]
     },
     "execution_count": 4,
     "metadata": {},
     "output_type": "execute_result"
    }
   ],
   "source": [
    "# Sample from the chosen distribution...\n",
    "\n",
    "normal.sample()"
   ]
  },
  {
   "cell_type": "code",
   "execution_count": 5,
   "metadata": {},
   "outputs": [
    {
     "data": {
      "text/plain": [
       "<tf.Tensor: shape=(10,), dtype=float32, numpy=\n",
       "array([ 0.33875433,  0.3449861 , -0.6605785 , -0.2854994 ,  0.43852386,\n",
       "        0.8288566 , -0.53591555, -0.5353483 , -1.0324248 , -2.942705  ],\n",
       "      dtype=float32)>"
      ]
     },
     "execution_count": 5,
     "metadata": {},
     "output_type": "execute_result"
    }
   ],
   "source": [
    "# ... or sample multiple times\n",
    "\n",
    "normal.sample(10)"
   ]
  },
  {
   "cell_type": "code",
   "execution_count": 6,
   "metadata": {},
   "outputs": [
    {
     "data": {
      "text/plain": [
       "<tf.Tensor: shape=(), dtype=float32, numpy=0.3989423>"
      ]
     },
     "execution_count": 6,
     "metadata": {},
     "output_type": "execute_result"
    }
   ],
   "source": [
    "# Obtain value of probability's density\n",
    "\n",
    "normal.prob(0)"
   ]
  },
  {
   "cell_type": "code",
   "execution_count": 7,
   "metadata": {},
   "outputs": [
    {
     "data": {
      "text/plain": [
       "<tf.Tensor: shape=(), dtype=float32, numpy=-0.9189385>"
      ]
     },
     "execution_count": 7,
     "metadata": {},
     "output_type": "execute_result"
    }
   ],
   "source": [
    "# Obtain value of logprobability\n",
    "\n",
    "normal.log_prob(0)"
   ]
  },
  {
   "cell_type": "code",
   "execution_count": 8,
   "metadata": {},
   "outputs": [
    {
     "data": {
      "text/plain": [
       "-0.9189385"
      ]
     },
     "execution_count": 8,
     "metadata": {},
     "output_type": "execute_result"
    }
   ],
   "source": [
    "# Verify that this really is the log of the probability\n",
    "\n",
    "np.log(normal.prob(0))"
   ]
  },
  {
   "cell_type": "code",
   "execution_count": 9,
   "metadata": {},
   "outputs": [
    {
     "data": {
      "image/png": "[encoded data removed]",
      "text/plain": [
       "<Figure size 432x288 with 1 Axes>"
      ]
     },
     "metadata": {
      "needs_background": "light"
     },
     "output_type": "display_data"
    }
   ],
   "source": [
    "# Plot a histogram, approximating the density\n",
    "\n",
    "plt.hist(normal.sample(10000), bins=50, density=True)\n",
    "plt.show()"
   ]
  },
  {
   "cell_type": "code",
   "execution_count": 10,
   "metadata": {},
   "outputs": [
    {
     "data": {
      "image/png": "[encoded data removed]",
      "text/plain": [
       "<Figure size 432x288 with 1 Axes>"
      ]
     },
     "metadata": {
      "needs_background": "light"
     },
     "output_type": "display_data"
    }
   ],
   "source": [
    "# Do the same for the exponential distribution\n",
    "\n",
    "exponential = tfd.Exponential(rate=1)\n",
    "plt.hist(exponential.sample(10000), bins=50, density=True)\n",
    "plt.show()"
   ]
  },
  {
   "cell_type": "code",
   "execution_count": 11,
   "metadata": {},
   "outputs": [
    {
     "data": {
      "text/plain": [
       "<tf.Tensor: shape=(10,), dtype=float32, numpy=\n",
       "array([0.03463974, 0.35604942, 1.5253357 , 2.7293916 , 1.5241107 ,\n",
       "       1.5624828 , 0.32680708, 0.6846045 , 0.30692586, 2.707749  ],\n",
       "      dtype=float32)>"
      ]
     },
     "execution_count": 11,
     "metadata": {},
     "output_type": "execute_result"
    }
   ],
   "source": [
    "# Sample as before\n",
    "\n",
    "exponential.sample(10)"
   ]
  },
  {
   "cell_type": "code",
   "execution_count": 12,
   "metadata": {},
   "outputs": [
    {
     "data": {
      "text/plain": [
       "<tf.Tensor: shape=(20,), dtype=int32, numpy=\n",
       "array([1, 0, 1, 1, 1, 1, 0, 1, 1, 0, 1, 1, 1, 1, 1, 1, 1, 1, 0, 0],\n",
       "      dtype=int32)>"
      ]
     },
     "execution_count": 12,
     "metadata": {},
     "output_type": "execute_result"
    }
   ],
   "source": [
    "# Create a Bernoulli distribution (discrete)\n",
    "\n",
    "bernoulli = tfd.Bernoulli(probs=0.8)\n",
    "bernoulli.sample(20)"
   ]
  },
  {
   "cell_type": "markdown",
   "metadata": {},
   "source": [
    "#### A word of caution on discrete distributions"
   ]
  },
  {
   "cell_type": "code",
   "execution_count": 13,
   "metadata": {},
   "outputs": [
    {
     "name": "stdout",
     "output_type": "stream",
     "text": [
      "prob result 0.19999998807907104 for k = 0 \n",
      "prob result 0.3999999761581421 for k = 0.5 \n",
      "prob result 0.800000011920929 for k = 1 \n",
      "prob result 0.04999999701976776 for k = -1 \n"
     ]
    }
   ],
   "source": [
    "# Calculate Bernoulli prob and see that 0.5 and -1 do not give the correct probability!\n",
    "\n",
    "for k in [0,0.5,1,-1]:\n",
    "    print('prob result {} for k = {} '.format(bernoulli.prob(k), k))"
   ]
  },
  {
   "cell_type": "code",
   "execution_count": 14,
   "metadata": {},
   "outputs": [],
   "source": [
    "# Replicate the scores to see what is occurring under the hood\n",
    "\n",
    "def my_bernoulli(p_success, k):\n",
    "    return np.power(p_success,k)*np.power((1-p_success),(1-k))"
   ]
  },
  {
   "cell_type": "code",
   "execution_count": 15,
   "metadata": {},
   "outputs": [
    {
     "name": "stdout",
     "output_type": "stream",
     "text": [
      "prob result 0.19999999999999996 for k = 0 \n",
      "prob result 0.3999999999999999 for k = 0.5 \n",
      "prob result 0.8 for k = 1 \n",
      "prob result 0.049999999999999975 for k = -1 \n"
     ]
    }
   ],
   "source": [
    "# Evaluate it as before\n",
    "\n",
    "for k in [0,0.5,1,-1]:\n",
    "    print('prob result {} for k = {} '.format(my_bernoulli(p_success=0.8, k=k), k))"
   ]
  },
  {
   "cell_type": "markdown",
   "metadata": {},
   "source": [
    "#### Work with batch distributions"
   ]
  },
  {
   "cell_type": "code",
   "execution_count": 16,
   "metadata": {},
   "outputs": [
    {
     "data": {
      "text/plain": [
       "<tfp.distributions.Bernoulli 'Bernoulli' batch_shape=[5] event_shape=[] dtype=int32>"
      ]
     },
     "execution_count": 16,
     "metadata": {},
     "output_type": "execute_result"
    }
   ],
   "source": [
    "# Create a batched Bernoulli distribution\n",
    "\n",
    "bernoulli_batch = tfd.Bernoulli(probs=[0.1, 0.25, 0.5, 0.75, 0.9])\n",
    "bernoulli_batch"
   ]
  },
  {
   "cell_type": "code",
   "execution_count": 17,
   "metadata": {},
   "outputs": [
    {
     "data": {
      "text/plain": [
       "<tf.Tensor: shape=(5, 5), dtype=int32, numpy=\n",
       "array([[0, 0, 1, 0, 1],\n",
       "       [0, 0, 1, 0, 1],\n",
       "       [0, 0, 1, 1, 1],\n",
       "       [0, 0, 1, 1, 1],\n",
       "       [0, 0, 1, 1, 0]], dtype=int32)>"
      ]
     },
     "execution_count": 17,
     "metadata": {},
     "output_type": "execute_result"
    }
   ],
   "source": [
    "# Sample from it, noting the shape\n",
    "\n",
    "bernoulli_batch.sample(5)"
   ]
  },
  {
   "cell_type": "code",
   "execution_count": 18,
   "metadata": {},
   "outputs": [
    {
     "data": {
      "text/plain": [
       "<tfp.distributions.Bernoulli 'Bernoulli' batch_shape=[1, 3, 2] event_shape=[] dtype=int32>"
      ]
     },
     "execution_count": 18,
     "metadata": {},
     "output_type": "execute_result"
    }
   ],
   "source": [
    "# Use a batch shape with higher rank\n",
    "\n",
    "probs = [[[0.5, 0.5], \n",
    "          [0.8, 0.3], \n",
    "          [0.25, 0.75]]]\n",
    "bernoulli_batch_2D = tfd.Bernoulli(probs=probs)\n",
    "bernoulli_batch_2D"
   ]
  },
  {
   "cell_type": "code",
   "execution_count": 19,
   "metadata": {},
   "outputs": [
    {
     "data": {
      "text/plain": [
       "<tf.Tensor: shape=(5, 1, 3, 2), dtype=int32, numpy=\n",
       "array([[[[0, 1],\n",
       "         [1, 1],\n",
       "         [1, 1]]],\n",
       "\n",
       "\n",
       "       [[[1, 0],\n",
       "         [1, 0],\n",
       "         [0, 1]]],\n",
       "\n",
       "\n",
       "       [[[1, 0],\n",
       "         [1, 1],\n",
       "         [0, 1]]],\n",
       "\n",
       "\n",
       "       [[[1, 1],\n",
       "         [1, 0],\n",
       "         [0, 1]]],\n",
       "\n",
       "\n",
       "       [[[1, 0],\n",
       "         [1, 0],\n",
       "         [0, 1]]]], dtype=int32)>"
      ]
     },
     "execution_count": 19,
     "metadata": {},
     "output_type": "execute_result"
    }
   ],
   "source": [
    "# Sample from this batch of distributions\n",
    "\n",
    "bernoulli_batch_2D.sample(5)"
   ]
  },
  {
   "cell_type": "code",
   "execution_count": 20,
   "metadata": {},
   "outputs": [
    {
     "data": {
      "text/plain": [
       "<tf.Tensor: shape=(1, 3, 2), dtype=float32, numpy=\n",
       "array([[[0.5       , 0.5       ],\n",
       "        [0.19999999, 0.7       ],\n",
       "        [0.25      , 0.75      ]]], dtype=float32)>"
      ]
     },
     "execution_count": 20,
     "metadata": {},
     "output_type": "execute_result"
    }
   ],
   "source": [
    "# Determine probabilities from this batch distribution\n",
    "\n",
    "bernoulli_batch_2D.prob([[[1, 0], \n",
    "                         [0, 0], \n",
    "                         [1, 1]]])"
   ]
  },
  {
   "cell_type": "markdown",
   "metadata": {},
   "source": [
    "***\n",
    "<a id='multivariate_distributions'></a>\n",
    "## Multivariate Distributions\n"
   ]
  },
  {
   "cell_type": "code",
   "execution_count": 8,
   "metadata": {},
   "outputs": [
    {
     "name": "stdout",
     "output_type": "stream",
     "text": [
      "tfp.distributions.MultivariateNormalDiag(\"MultivariateNormalDiag\", batch_shape=[], event_shape=[2], dtype=float32)\n",
      "(2,)\n",
      "tf.Tensor(\n",
      "[[-2.1329477  -0.05145192]\n",
      " [ 1.6533237  -0.79068637]\n",
      " [ 0.97920084  2.695866  ]], shape=(3, 2), dtype=float32)\n",
      "tf.Tensor(-2.9388978, shape=(), dtype=float32)\n"
     ]
    }
   ],
   "source": [
    "import tensorflow as tf\n",
    "import tensorflow_probability as tfp\n",
    "tfd = tfp.distributions\n",
    "\n",
    "mv_normal = tfd.MultivariateNormalDiag(\n",
    "    loc=[-1., 0.5], scale_diag=[1., 1.5])\n",
    "print(mv_normal)\n",
    "print(mv_normal.event_shape)\n",
    "print(mv_normal.sample(3))\n",
    "print(mv_normal.log_prob([-0.2, 1.8]))"
   ]
  },
  {
   "cell_type": "code",
   "execution_count": 9,
   "metadata": {},
   "outputs": [
    {
     "name": "stdout",
     "output_type": "stream",
     "text": [
      "tfp.distributions.Normal(\"Normal\", batch_shape=[2], event_shape=[], dtype=float32)\n",
      "tf.Tensor(\n",
      "[[-0.24021429 -0.29179263]\n",
      " [-1.2446698   0.32066905]\n",
      " [-0.06671739 -2.1635075 ]], shape=(3, 2), dtype=float32)\n",
      "tf.Tensor([-1.2389386 -1.699959 ], shape=(2,), dtype=float32)\n"
     ]
    }
   ],
   "source": [
    "batched_normal = tfd.Normal(loc=[-1., 0.5], scale=[1., 1.5])\n",
    "print(batched_normal)\n",
    "print(batched_normal.sample(3))\n",
    "print(batched_normal.log_prob([-0.2, 1.8]))"
   ]
  },
  {
   "cell_type": "code",
   "execution_count": 11,
   "metadata": {},
   "outputs": [
    {
     "name": "stdout",
     "output_type": "stream",
     "text": [
      "tfp.distributions.MultivariateNormalDiag(\"MultivariateNormalDiag\", batch_shape=[3], event_shape=[2], dtype=float32)\n",
      "tf.Tensor(\n",
      "[[[ 0.9379679   0.28594485]\n",
      "  [-0.97005343 -0.02898904]\n",
      "  [-1.4361064  -0.03616452]]\n",
      "\n",
      " [[ 1.1636064   1.0744668 ]\n",
      "  [ 2.62013     0.11132202]\n",
      "  [-0.95681846  3.53867   ]]], shape=(2, 3, 2), dtype=float32)\n"
     ]
    }
   ],
   "source": [
    "batched_mv_normal = tfd.MultivariateNormalDiag(\n",
    "    loc=[[-1., 0.5], [2., 0.], [-0.5, 1.5]],\n",
    "    scale_diag=[[1., 1.5], [2., 0.5], [1., 1.]])\n",
    "print(batched_mv_normal)\n",
    "print(batched_mv_normal.sample(2))"
   ]
  },
  {
   "cell_type": "markdown",
   "metadata": {},
   "source": [
    "#### Basic multivariate distributions"
   ]
  },
  {
   "cell_type": "code",
   "execution_count": 3,
   "metadata": {},
   "outputs": [
    {
     "data": {
      "text/plain": [
       "<tfp.distributions.MultivariateNormalDiag 'MultivariateNormalDiag' batch_shape=[] event_shape=[2] dtype=float32>"
      ]
     },
     "execution_count": 3,
     "metadata": {},
     "output_type": "execute_result"
    }
   ],
   "source": [
    "# Define 2D multivariate Gaussian with diagonal covariance matrix\n",
    "\n",
    "normal_diag = tfd.MultivariateNormalDiag(\n",
    "    loc=[0, 1], scale_diag=[1, 2])\n",
    "normal_diag"
   ]
  },
  {
   "cell_type": "code",
   "execution_count": 4,
   "metadata": {},
   "outputs": [
    {
     "data": {
      "text/plain": [
       "<tf.Tensor: shape=(10, 2), dtype=float32, numpy=\n",
       "array([[-0.8980837 , -2.6518288 ],\n",
       "       [-0.44441807, -1.9765894 ],\n",
       "       [-0.7855463 ,  1.3923931 ],\n",
       "       [ 0.17604655, -2.050501  ],\n",
       "       [ 0.635294  ,  2.3362408 ],\n",
       "       [ 1.4230527 ,  1.0912329 ],\n",
       "       [-0.21692705, -2.416981  ],\n",
       "       [ 0.5174161 ,  0.76055366],\n",
       "       [-1.0614088 , -0.08182514],\n",
       "       [ 0.08606925, -1.5563867 ]], dtype=float32)>"
      ]
     },
     "execution_count": 4,
     "metadata": {},
     "output_type": "execute_result"
    }
   ],
   "source": [
    "# Sample from it\n",
    "\n",
    "normal_diag.sample(10)"
   ]
  },
  {
   "cell_type": "code",
   "execution_count": 5,
   "metadata": {},
   "outputs": [
    {
     "data": {
      "image/png": "[encoded data removed]",
      "text/plain": [
       "<Figure size 432x288 with 1 Axes>"
      ]
     },
     "metadata": {
      "needs_background": "light"
     },
     "output_type": "display_data"
    }
   ],
   "source": [
    "# Make a plot\n",
    "\n",
    "plt_sample = normal_diag.sample(10000)\n",
    "plt.scatter(plt_sample[:, 0], plt_sample[:, 1], marker='.', alpha=0.05)\n",
    "plt.axis('equal')\n",
    "plt.show()"
   ]
  },
  {
   "cell_type": "code",
   "execution_count": 6,
   "metadata": {},
   "outputs": [
    {
     "data": {
      "image/png": "[encoded data removed]",
      "text/plain": [
       "<Figure size 432x288 with 1 Axes>"
      ]
     },
     "metadata": {
      "needs_background": "light"
     },
     "output_type": "display_data"
    }
   ],
   "source": [
    "normal_diag = tfd.MultivariateNormalDiag(\n",
    "    loc=[0, 1], scale_diag=[1, 20])\n",
    "plt_sample = normal_diag.sample(10000)\n",
    "plt.scatter(plt_sample[:, 0], plt_sample[:, 1], marker='.', alpha=0.05)\n",
    "plt.axis('equal')\n",
    "plt.show()"
   ]
  },
  {
   "cell_type": "markdown",
   "metadata": {},
   "source": [
    "#### Batches of multivariate distributions"
   ]
  },
  {
   "cell_type": "code",
   "execution_count": 8,
   "metadata": {},
   "outputs": [
    {
     "data": {
      "text/plain": [
       "<tfp.distributions.MultivariateNormalDiag 'MultivariateNormalDiag' batch_shape=[3] event_shape=[2] dtype=float32>"
      ]
     },
     "execution_count": 8,
     "metadata": {},
     "output_type": "execute_result"
    }
   ],
   "source": [
    "# Create three \"batches\" of multivariate normals\n",
    "\n",
    "normal_diag_batch = tfd.MultivariateNormalDiag(\n",
    "    loc=[[0, 0], [0, 0], [0, 0]],\n",
    "    scale_diag=[[1, 2], [2, 1], [2, 2]])\n",
    "normal_diag_batch"
   ]
  },
  {
   "cell_type": "code",
   "execution_count": 9,
   "metadata": {},
   "outputs": [
    {
     "data": {
      "text/plain": [
       "<tf.Tensor: shape=(5, 3, 2), dtype=float32, numpy=\n",
       "array([[[-0.6383433 , -2.2985559 ],\n",
       "        [-1.7312855 , -1.3332063 ],\n",
       "        [-1.6465129 , -1.5238538 ]],\n",
       "\n",
       "       [[ 0.4257505 ,  5.785669  ],\n",
       "        [-0.68529975, -1.7522513 ],\n",
       "        [-0.35573658, -1.88765   ]],\n",
       "\n",
       "       [[ 0.11156012,  1.6149896 ],\n",
       "        [-0.64763886,  1.0598668 ],\n",
       "        [ 1.5587481 ,  0.00861878]],\n",
       "\n",
       "       [[ 0.43864295, -1.2682985 ],\n",
       "        [-2.6530807 ,  0.43822196],\n",
       "        [ 0.7100409 ,  2.602631  ]],\n",
       "\n",
       "       [[ 0.13832839,  1.582189  ],\n",
       "        [ 3.270198  , -0.41152912],\n",
       "        [ 0.01903997, -0.32847282]]], dtype=float32)>"
      ]
     },
     "execution_count": 9,
     "metadata": {},
     "output_type": "execute_result"
    }
   ],
   "source": [
    "# Sample from it\n",
    "\n",
    "samples = normal_diag_batch.sample(5)\n",
    "samples"
   ]
  },
  {
   "cell_type": "code",
   "execution_count": 10,
   "metadata": {},
   "outputs": [
    {
     "data": {
      "text/plain": [
       "<tf.Tensor: shape=(5, 3), dtype=float32, numpy=\n",
       "array([[-3.395185 , -3.7944124, -3.8533134],\n",
       "       [-6.8059015, -4.124921 , -3.6853929],\n",
       "       [-2.863271 , -3.1451125, -3.5278926],\n",
       "       [-2.8283005, -3.5068982, -4.133902 ],\n",
       "       [-2.8535068, -3.9524767, -3.2377036]], dtype=float32)>"
      ]
     },
     "execution_count": 10,
     "metadata": {},
     "output_type": "execute_result"
    }
   ],
   "source": [
    "# Compute log probs\n",
    "\n",
    "normal_diag_batch.log_prob(samples)"
   ]
  },
  {
   "cell_type": "code",
   "execution_count": 11,
   "metadata": {},
   "outputs": [
    {
     "data": {
      "text/plain": [
       "TensorShape([10000, 3, 2])"
      ]
     },
     "execution_count": 11,
     "metadata": {},
     "output_type": "execute_result"
    }
   ],
   "source": [
    "# Create a sample for a plot -- notice the shape\n",
    "\n",
    "plt_sample_batch =normal_diag_batch.sample(10000)\n",
    "plt_sample_batch.shape"
   ]
  },
  {
   "cell_type": "code",
   "execution_count": 12,
   "metadata": {},
   "outputs": [
    {
     "data": {
      "image/png": "[encoded data removed]",
      "text/plain": [
       "<Figure size 720x216 with 3 Axes>"
      ]
     },
     "metadata": {
      "needs_background": "light"
     },
     "output_type": "display_data"
    }
   ],
   "source": [
    "# Plot samples from the batched multivariate Gaussian\n",
    "\n",
    "fig, axs = (plt.subplots(1, 3, sharex=True, sharey=True, figsize=(10, 3)))\n",
    "titles = ['cov_diag=[1, 2]', 'cov_diag=[2, 1]', 'cov_diag=[2, 2]']\n",
    "\n",
    "for i, (ax, title) in enumerate(zip(axs, titles)):\n",
    "    samples = plt_sample_batch[:, i, :] # take the ith batch [samples x event_shape]\n",
    "    ax.scatter(samples[:, 0], samples[:, 1], marker='.', alpha=0.05)\n",
    "    ax.set_title(title)\n",
    "plt.show()"
   ]
  },
  {
   "cell_type": "markdown",
   "metadata": {},
   "source": [
    "\n",
    "\n",
    "***\n",
    "<a id='the_independent_distribution'></a>\n",
    "## The Independent Distribution"
   ]
  },
  {
   "cell_type": "code",
   "execution_count": 5,
   "metadata": {},
   "outputs": [
    {
     "name": "stdout",
     "output_type": "stream",
     "text": [
      "tfp.distributions.MultivariateNormalDiag(\"MultivariateNormalDiag\", batch_shape=[], event_shape=[2], dtype=float32)\n",
      "tf.Tensor(-2.9388978, shape=(), dtype=float32)\n"
     ]
    }
   ],
   "source": [
    "import tensorflow as tf\n",
    "import tensorflow_probability as tfp\n",
    "tfd = tfp.distributions\n",
    "\n",
    "mv_normal = tfd.MultivariateNormalDiag(\n",
    "    loc=[-1., 0.5], scale_diag=[1., 1.5])\n",
    "print(mv_normal)\n",
    "print(mv_normal.log_prob([-0.2, 1.8]))"
   ]
  },
  {
   "cell_type": "code",
   "execution_count": 6,
   "metadata": {},
   "outputs": [
    {
     "name": "stdout",
     "output_type": "stream",
     "text": [
      "tfp.distributions.Normal(\"Normal\", batch_shape=[2], event_shape=[], dtype=float32)\n",
      "tf.Tensor([-1.2389386 -1.699959 ], shape=(2,), dtype=float32)\n"
     ]
    }
   ],
   "source": [
    "batched_normal = tfd.Normal(\n",
    "    loc=[-1., 0.5], scale=[1., 1.5])\n",
    "print(batched_normal)\n",
    "print(batched_normal.log_prob([-0.2, 1.8]))"
   ]
  },
  {
   "cell_type": "code",
   "execution_count": 8,
   "metadata": {},
   "outputs": [
    {
     "name": "stdout",
     "output_type": "stream",
     "text": [
      "tfp.distributions.Independent(\"IndependentNormal\", batch_shape=[], event_shape=[2], dtype=float32)\n",
      "tf.Tensor(-2.9388976, shape=(), dtype=float32)\n"
     ]
    }
   ],
   "source": [
    "batched_normal = tfd.Normal(loc=[-1., 0.5], scale=[1., 1.5])\n",
    "\n",
    "independent_normal = tfd.Independent(batched_normal, \n",
    "    reinterpreted_batch_ndims=1)\n",
    "print(independent_normal)\n",
    "print(independent_normal.log_prob([-0.2, 1.8]))"
   ]
  },
  {
   "cell_type": "code",
   "execution_count": 14,
   "metadata": {},
   "outputs": [
    {
     "name": "stdout",
     "output_type": "stream",
     "text": [
      "tfp.distributions.Normal(\"Normal\", batch_shape=[3, 2], event_shape=[], dtype=float32)\n",
      "tfp.distributions.Independent(\"IndependentNormal\", batch_shape=[3], event_shape=[2], dtype=float32)\n"
     ]
    }
   ],
   "source": [
    "batched_normal = tfd.Normal(\n",
    "    loc=[[-1., 0.5], [0., 1.], [0.3, -0.1]],\n",
    "    scale=[[1., 1.5], [0.2, 0.8], [2., 1.]])\n",
    "print(batched_normal)\n",
    "\n",
    "independent_normal = tfd.Independent(batched_normal, \n",
    "    reinterpreted_batch_ndims=1)\n",
    "print(independent_normal)"
   ]
  },
  {
   "cell_type": "code",
   "execution_count": 3,
   "metadata": {},
   "outputs": [],
   "source": [
    "# Start by defining a batch of two univariate Gaussians, then\n",
    "# combine them into a bivariate Gaussian with independent components\n",
    "\n",
    "locs = [-1., 1]\n",
    "scales = [0.5, 1.]\n",
    "batch_of_normals = tfd.Normal(loc=locs, scale=scales)"
   ]
  },
  {
   "cell_type": "code",
   "execution_count": 4,
   "metadata": {},
   "outputs": [
    {
     "data": {
      "image/png": "[encoded data removed]",
      "text/plain": [
       "<Figure size 432x288 with 1 Axes>"
      ]
     },
     "metadata": {
      "needs_background": "light"
     },
     "output_type": "display_data"
    }
   ],
   "source": [
    "# Univariate density functions\n",
    "\n",
    "import seaborn as sns\n",
    "\n",
    "t = np.linspace(-4, 4, 10000)\n",
    "# each column is a vector of densities for one distn\n",
    "densities = batch_of_normals.prob(np.repeat(t[:, np.newaxis], 2, axis=1))\n",
    "\n",
    "sns.lineplot(t, densities[:, 0], label='loc={}, scale={}'.format(locs[0], scales[0]))\n",
    "sns.lineplot(t, densities[:, 1], label='loc={}, scale={}'.format(locs[1], scales[1]))\n",
    "plt.ylabel('Probability density')\n",
    "plt.xlabel('Value')\n",
    "plt.legend()\n",
    "plt.show()"
   ]
  },
  {
   "cell_type": "code",
   "execution_count": 5,
   "metadata": {},
   "outputs": [
    {
     "data": {
      "text/plain": [
       "<tfp.distributions.Normal 'Normal' batch_shape=[2] event_shape=[] dtype=float32>"
      ]
     },
     "execution_count": 5,
     "metadata": {},
     "output_type": "execute_result"
    }
   ],
   "source": [
    "# Check their batch_shape and event_shape\n",
    "\n",
    "batch_of_normals"
   ]
  },
  {
   "cell_type": "code",
   "execution_count": 6,
   "metadata": {},
   "outputs": [],
   "source": [
    "# Use Independent to convert the batch shape to the event shape\n",
    "\n",
    "bivariate_normal_from_Independent = tfd.Independent(batch_of_normals,\n",
    "    reinterpreted_batch_ndims=1)"
   ]
  },
  {
   "cell_type": "code",
   "execution_count": 7,
   "metadata": {},
   "outputs": [
    {
     "data": {
      "text/plain": [
       "<tfp.distributions.Independent 'IndependentNormal' batch_shape=[] event_shape=[2] dtype=float32>"
      ]
     },
     "execution_count": 7,
     "metadata": {},
     "output_type": "execute_result"
    }
   ],
   "source": [
    "# Note that dimension from batch_shape has shifted to event_shape\n",
    "\n",
    "bivariate_normal_from_Independent"
   ]
  },
  {
   "cell_type": "code",
   "execution_count": 11,
   "metadata": {},
   "outputs": [
    {
     "data": {
      "image/png": "[encoded data removed]",
      "text/plain": [
       "<Figure size 432x432 with 3 Axes>"
      ]
     },
     "metadata": {
      "needs_background": "light"
     },
     "output_type": "display_data"
    }
   ],
   "source": [
    "# Create a plot showing joint density contours and marginal density functions\n",
    "\n",
    "samples = bivariate_normal_from_Independent.sample(10000)\n",
    "x1 = samples[:, 0]\n",
    "x2 = samples[:, 1]\n",
    "sns.jointplot(x1, x2, kind=\"kde\", space=0, color='b', xlim=[-4, 4], ylim=[-4, 4])\n",
    "plt.show()"
   ]
  },
  {
   "cell_type": "code",
   "execution_count": 12,
   "metadata": {},
   "outputs": [
    {
     "data": {
      "text/plain": [
       "<tfp.distributions.MultivariateNormalDiag 'MultivariateNormalDiag' batch_shape=[] event_shape=[2] dtype=float32>"
      ]
     },
     "execution_count": 12,
     "metadata": {},
     "output_type": "execute_result"
    }
   ],
   "source": [
    "# Use MultivariateNormalDiag to create the equivalent distribution\n",
    "# Note that diagonal covariance matrix => no correlation => independence (for the multivariate normal distribution)\n",
    "\n",
    "bivariate_normal_from_Multivariate = tfd.MultivariateNormalDiag(\n",
    "    loc=locs, scale_diag=scales)\n",
    "bivariate_normal_from_Multivariate"
   ]
  },
  {
   "cell_type": "code",
   "execution_count": 13,
   "metadata": {},
   "outputs": [
    {
     "data": {
      "image/png": "[encoded data removed]",
      "text/plain": [
       "<Figure size 432x432 with 3 Axes>"
      ]
     },
     "metadata": {
      "needs_background": "light"
     },
     "output_type": "display_data"
    }
   ],
   "source": [
    "# Plot the joint density function of bivariate_normal_from_Multivariate\n",
    "# Refer back to bivariate_normal_from_Independent to show that the plot is the same\n",
    "# Summarise how Independent has been used\n",
    "\n",
    "samples = bivariate_normal_from_Multivariate.sample(10000)\n",
    "x1 = samples[:, 0]\n",
    "x2 = samples[:, 1]\n",
    "sns.jointplot(x1, x2, kind=\"kde\", space=0, color='b', xlim=[-4, 4], ylim=[-4, 4])\n",
    "plt.show()"
   ]
  },
  {
   "cell_type": "markdown",
   "metadata": {},
   "source": [
    "#### Shifting batch dimensions to event dimensions using \n",
    "`reinterpreted_batch_ndims`"
   ]
  },
  {
   "cell_type": "code",
   "execution_count": 14,
   "metadata": {},
   "outputs": [],
   "source": [
    "# Demonstrate use of reinterpreted_batch_ndims\n",
    "# By default all batch dims except the first are transferred to event dims\n",
    "\n",
    "loc_grid = [[-100., -100.],\n",
    "            [100., 100.],\n",
    "            [0., 0.]]\n",
    "scale_grid = [[1., 10.],\n",
    "              [1., 10.],\n",
    "              [1., 1.]]\n",
    "\n",
    "normals_batch_3by2_event_1 = tfd.Normal(loc=loc_grid, scale=scale_grid)"
   ]
  },
  {
   "cell_type": "code",
   "execution_count": 15,
   "metadata": {},
   "outputs": [
    {
     "data": {
      "text/plain": [
       "<tfp.distributions.Normal 'Normal' batch_shape=[3, 2] event_shape=[] dtype=float32>"
      ]
     },
     "execution_count": 15,
     "metadata": {},
     "output_type": "execute_result"
    }
   ],
   "source": [
    "# Highlight batch_shape\n",
    "\n",
    "normals_batch_3by2_event_1"
   ]
  },
  {
   "cell_type": "code",
   "execution_count": 16,
   "metadata": {},
   "outputs": [
    {
     "data": {
      "text/plain": [
       "<tfp.distributions.Independent 'IndependentNormal' batch_shape=[3] event_shape=[2] dtype=float32>"
      ]
     },
     "execution_count": 16,
     "metadata": {},
     "output_type": "execute_result"
    }
   ],
   "source": [
    "# We now have a batch of 3 bivariate normal distributions,\n",
    "# each parametrised by a column of our original parameter grid\n",
    "\n",
    "normals_batch_3_event_2 = tfd.Independent(normals_batch_3by2_event_1)\n",
    "normals_batch_3_event_2"
   ]
  },
  {
   "cell_type": "code",
   "execution_count": 17,
   "metadata": {},
   "outputs": [
    {
     "data": {
      "text/plain": [
       "<tf.Tensor: shape=(3,), dtype=float32, numpy=array([-4.1146406e+03, -4.1404624e+00, -2.8378770e+00], dtype=float32)>"
      ]
     },
     "execution_count": 17,
     "metadata": {},
     "output_type": "execute_result"
    }
   ],
   "source": [
    "# Evaluate log_prob\n",
    "\n",
    "normals_batch_3_event_2.log_prob(\n",
    "    value=[[-10., 10], [100., 100.], [1., 1.]])"
   ]
  },
  {
   "cell_type": "code",
   "execution_count": 19,
   "metadata": {},
   "outputs": [
    {
     "data": {
      "text/plain": [
       "<tfp.distributions.Independent 'IndependentNormal' batch_shape=[] event_shape=[3, 2] dtype=float32>"
      ]
     },
     "execution_count": 19,
     "metadata": {},
     "output_type": "execute_result"
    }
   ],
   "source": [
    "# Can reinterpret _all_ batch dimensions as event dimensions\n",
    "\n",
    "normals_batch_1_event_3by2 = tfd.Independent(\n",
    "    normals_batch_3by2_event_1, reinterpreted_batch_ndims=2)\n",
    "normals_batch_1_event_3by2"
   ]
  },
  {
   "cell_type": "code",
   "execution_count": 20,
   "metadata": {},
   "outputs": [
    {
     "data": {
      "text/plain": [
       "<tf.Tensor: shape=(), dtype=float32, numpy=-4121.619>"
      ]
     },
     "execution_count": 20,
     "metadata": {},
     "output_type": "execute_result"
    }
   ],
   "source": [
    "# Take log_probs \n",
    "\n",
    "normals_batch_1_event_3by2.log_prob(\n",
    "    value=[[-10., 10], [100., 100.], [1., 1.]])"
   ]
  },
  {
   "cell_type": "markdown",
   "metadata": {},
   "source": [
    "#### Using `Independent` to build a Naive Bayes classifier"
   ]
  },
  {
   "cell_type": "markdown",
   "metadata": {},
   "source": [
    "#### Introduction to `newsgroups` data set"
   ]
  },
  {
   "cell_type": "markdown",
   "metadata": {},
   "source": [
    "In this tutorial, just load the dataset, fetch train/test splits, probably choose a subset of the data.\n",
    "\n",
    "Construct the class conditional feature distribution (with Independent, using the Naive Bayes assumption) and sample from it.\n",
    "\n",
    "We can just use the ML estimates for parameters, in later tutorials we will learn them."
   ]
  },
  {
   "cell_type": "code",
   "execution_count": 3,
   "metadata": {},
   "outputs": [],
   "source": [
    "# Convenience function for retrieving the 20 newsgroups data set\n",
    "\n",
    "# Usenet was a forerunner to modern internet forums\n",
    "# Users could post and read articles\n",
    "# Newsgroup corresponded to a topic\n",
    "# Example topics in this data set: IBM computer hardware, baseball\n",
    "# Our objective is to use an article's contents to predict its newsgroup,\n",
    "# a 20-class classification problem.\n",
    "\n",
    "# 18000 newsgroups, posts on 20 topics\n",
    "from sklearn.datasets import fetch_20newsgroups\n",
    "from sklearn.feature_extraction.text import CountVectorizer\n"
   ]
  },
  {
   "cell_type": "code",
   "execution_count": 4,
   "metadata": {},
   "outputs": [],
   "source": [
    "# Get the train data\n",
    "\n",
    "newsgroups_data = fetch_20newsgroups(data_home='20_Newsgroup_Data/',\n",
    "    subset='train')"
   ]
  },
  {
   "cell_type": "code",
   "execution_count": 5,
   "metadata": {},
   "outputs": [
    {
     "name": "stdout",
     "output_type": "stream",
     "text": [
      ".. _20newsgroups_dataset:\n",
      "\n",
      "The 20 newsgroups text dataset\n",
      "------------------------------\n",
      "\n",
      "The 20 newsgroups dataset comprises around 18000 newsgroups posts on\n",
      "20 topics split in two subsets: one for training (or development)\n",
      "and the other one for testing (or for performance evaluation). The split\n",
      "between the train and test set is based upon a messages posted before\n",
      "and after a specific date.\n",
      "\n",
      "This module contains two loaders. The first one,\n",
      ":func:`sklearn.datasets.fetch_20newsgroups`,\n",
      "returns a list of the raw texts that can be fed to text feature\n",
      "extractors such as :class:`sklearn.feature_extraction.text.CountVectorizer`\n",
      "with custom parameters so as to extract feature vectors.\n",
      "The second one, :func:`sklearn.datasets.fetch_20newsgroups_vectorized`,\n",
      "returns ready-to-use features, i.e., it is not necessary to use a feature\n",
      "extractor.\n",
      "\n",
      "**Data Set Characteristics:**\n",
      "\n",
      "    =================   ==========\n",
      "    Classes                     20\n",
      "    Samples total            18846\n",
      "    Dimensionality               1\n",
      "    Features                  text\n",
      "    =================   ==========\n",
      "\n",
      "Usage\n",
      "~~~~~\n",
      "\n",
      "The :func:`sklearn.datasets.fetch_20newsgroups` function is a data\n",
      "fetching / caching functions that downloads the data archive from\n",
      "the original `20 newsgroups website`_, extracts the archive contents\n",
      "in the ``~/scikit_learn_data/20news_home`` folder and calls the\n",
      ":func:`sklearn.datasets.load_files` on either the training or\n",
      "testing set folder, or both of them::\n",
      "\n",
      "  >>> from sklearn.datasets import fetch_20newsgroups\n",
      "  >>> newsgroups_train = fetch_20newsgroups(subset='train')\n",
      "\n",
      "  >>> from pprint import pprint\n",
      "  >>> pprint(list(newsgroups_train.target_names))\n",
      "  ['alt.atheism',\n",
      "   'comp.graphics',\n",
      "   'comp.os.ms-windows.misc',\n",
      "   'comp.sys.ibm.pc.hardware',\n",
      "   'comp.sys.mac.hardware',\n",
      "   'comp.windows.x',\n",
      "   'misc.forsale',\n",
      "   'rec.autos',\n",
      "   'rec.motorcycles',\n",
      "   'rec.sport.baseball',\n",
      "   'rec.sport.hockey',\n",
      "   'sci.crypt',\n",
      "   'sci.electronics',\n",
      "   'sci.med',\n",
      "   'sci.space',\n",
      "   'soc.religion.christian',\n",
      "   'talk.politics.guns',\n",
      "   'talk.politics.mideast',\n",
      "   'talk.politics.misc',\n",
      "   'talk.religion.misc']\n",
      "\n",
      "The real data lies in the ``filenames`` and ``target`` attributes. The target\n",
      "attribute is the integer index of the category::\n",
      "\n",
      "  >>> newsgroups_train.filenames.shape\n",
      "  (11314,)\n",
      "  >>> newsgroups_train.target.shape\n",
      "  (11314,)\n",
      "  >>> newsgroups_train.target[:10]\n",
      "  array([ 7,  4,  4,  1, 14, 16, 13,  3,  2,  4])\n",
      "\n",
      "It is possible to load only a sub-selection of the categories by passing the\n",
      "list of the categories to load to the\n",
      ":func:`sklearn.datasets.fetch_20newsgroups` function::\n",
      "\n",
      "  >>> cats = ['alt.atheism', 'sci.space']\n",
      "  >>> newsgroups_train = fetch_20newsgroups(subset='train', categories=cats)\n",
      "\n",
      "  >>> list(newsgroups_train.target_names)\n",
      "  ['alt.atheism', 'sci.space']\n",
      "  >>> newsgroups_train.filenames.shape\n",
      "  (1073,)\n",
      "  >>> newsgroups_train.target.shape\n",
      "  (1073,)\n",
      "  >>> newsgroups_train.target[:10]\n",
      "  array([0, 1, 1, 1, 0, 1, 1, 0, 0, 0])\n",
      "\n",
      "Converting text to vectors\n",
      "~~~~~~~~~~~~~~~~~~~~~~~~~~\n",
      "\n",
      "In order to feed predictive or clustering models with the text data,\n",
      "one first need to turn the text into vectors of numerical values suitable\n",
      "for statistical analysis. This can be achieved with the utilities of the\n",
      "``sklearn.feature_extraction.text`` as demonstrated in the following\n",
      "example that extract `TF-IDF`_ vectors of unigram tokens\n",
      "from a subset of 20news::\n",
      "\n",
      "  >>> from sklearn.feature_extraction.text import TfidfVectorizer\n",
      "  >>> categories = ['alt.atheism', 'talk.religion.misc',\n",
      "  ...               'comp.graphics', 'sci.space']\n",
      "  >>> newsgroups_train = fetch_20newsgroups(subset='train',\n",
      "  ...                                       categories=categories)\n",
      "  >>> vectorizer = TfidfVectorizer()\n",
      "  >>> vectors = vectorizer.fit_transform(newsgroups_train.data)\n",
      "  >>> vectors.shape\n",
      "  (2034, 34118)\n",
      "\n",
      "The extracted TF-IDF vectors are very sparse, with an average of 159 non-zero\n",
      "components by sample in a more than 30000-dimensional space\n",
      "(less than .5% non-zero features)::\n",
      "\n",
      "  >>> vectors.nnz / float(vectors.shape[0])       # doctest: +ELLIPSIS\n",
      "  159.01327...\n",
      "\n",
      ":func:`sklearn.datasets.fetch_20newsgroups_vectorized` is a function which \n",
      "returns ready-to-use token counts features instead of file names.\n",
      "\n",
      ".. _`20 newsgroups website`: http://people.csail.mit.edu/jrennie/20Newsgroups/\n",
      ".. _`TF-IDF`: https://en.wikipedia.org/wiki/Tf-idf\n",
      "\n",
      "\n",
      "Filtering text for more realistic training\n",
      "~~~~~~~~~~~~~~~~~~~~~~~~~~~~~~~~~~~~~~~~~~\n",
      "\n",
      "It is easy for a classifier to overfit on particular things that appear in the\n",
      "20 Newsgroups data, such as newsgroup headers. Many classifiers achieve very\n",
      "high F-scores, but their results would not generalize to other documents that\n",
      "aren't from this window of time.\n",
      "\n",
      "For example, let's look at the results of a multinomial Naive Bayes classifier,\n",
      "which is fast to train and achieves a decent F-score::\n",
      "\n",
      "  >>> from sklearn.naive_bayes import MultinomialNB\n",
      "  >>> from sklearn import metrics\n",
      "  >>> newsgroups_test = fetch_20newsgroups(subset='test',\n",
      "  ...                                      categories=categories)\n",
      "  >>> vectors_test = vectorizer.transform(newsgroups_test.data)\n",
      "  >>> clf = MultinomialNB(alpha=.01)\n",
      "  >>> clf.fit(vectors, newsgroups_train.target)\n",
      "  MultinomialNB(alpha=0.01, class_prior=None, fit_prior=True)\n",
      "\n",
      "  >>> pred = clf.predict(vectors_test)\n",
      "  >>> metrics.f1_score(newsgroups_test.target, pred, average='macro')  # doctest: +ELLIPSIS\n",
      "  0.88213...\n",
      "\n",
      "(The example :ref:`sphx_glr_auto_examples_text_plot_document_classification_20newsgroups.py` shuffles\n",
      "the training and test data, instead of segmenting by time, and in that case\n",
      "multinomial Naive Bayes gets a much higher F-score of 0.88. Are you suspicious\n",
      "yet of what's going on inside this classifier?)\n",
      "\n",
      "Let's take a look at what the most informative features are:\n",
      "\n",
      "  >>> import numpy as np\n",
      "  >>> def show_top10(classifier, vectorizer, categories):\n",
      "  ...     feature_names = np.asarray(vectorizer.get_feature_names())\n",
      "  ...     for i, category in enumerate(categories):\n",
      "  ...         top10 = np.argsort(classifier.coef_[i])[-10:]\n",
      "  ...         print(\"%s: %s\" % (category, \" \".join(feature_names[top10])))\n",
      "  ...\n",
      "  >>> show_top10(clf, vectorizer, newsgroups_train.target_names)\n",
      "  alt.atheism: edu it and in you that is of to the\n",
      "  comp.graphics: edu in graphics it is for and of to the\n",
      "  sci.space: edu it that is in and space to of the\n",
      "  talk.religion.misc: not it you in is that and to of the\n",
      "\n",
      "\n",
      "You can now see many things that these features have overfit to:\n",
      "\n",
      "- Almost every group is distinguished by whether headers such as\n",
      "  ``NNTP-Posting-Host:`` and ``Distribution:`` appear more or less often.\n",
      "- Another significant feature involves whether the sender is affiliated with\n",
      "  a university, as indicated either by their headers or their signature.\n",
      "- The word \"article\" is a significant feature, based on how often people quote\n",
      "  previous posts like this: \"In article [article ID], [name] <[e-mail address]>\n",
      "  wrote:\"\n",
      "- Other features match the names and e-mail addresses of particular people who\n",
      "  were posting at the time.\n",
      "\n",
      "With such an abundance of clues that distinguish newsgroups, the classifiers\n",
      "barely have to identify topics from text at all, and they all perform at the\n",
      "same high level.\n",
      "\n",
      "For this reason, the functions that load 20 Newsgroups data provide a\n",
      "parameter called **remove**, telling it what kinds of information to strip out\n",
      "of each file. **remove** should be a tuple containing any subset of\n",
      "``('headers', 'footers', 'quotes')``, telling it to remove headers, signature\n",
      "blocks, and quotation blocks respectively.\n",
      "\n",
      "  >>> newsgroups_test = fetch_20newsgroups(subset='test',\n",
      "  ...                                      remove=('headers', 'footers', 'quotes'),\n",
      "  ...                                      categories=categories)\n",
      "  >>> vectors_test = vectorizer.transform(newsgroups_test.data)\n",
      "  >>> pred = clf.predict(vectors_test)\n",
      "  >>> metrics.f1_score(pred, newsgroups_test.target, average='macro')  # doctest: +ELLIPSIS\n",
      "  0.77310...\n",
      "\n",
      "This classifier lost over a lot of its F-score, just because we removed\n",
      "metadata that has little to do with topic classification.\n",
      "It loses even more if we also strip this metadata from the training data:\n",
      "\n",
      "  >>> newsgroups_train = fetch_20newsgroups(subset='train',\n",
      "  ...                                       remove=('headers', 'footers', 'quotes'),\n",
      "  ...                                       categories=categories)\n",
      "  >>> vectors = vectorizer.fit_transform(newsgroups_train.data)\n",
      "  >>> clf = MultinomialNB(alpha=.01)\n",
      "  >>> clf.fit(vectors, newsgroups_train.target)\n",
      "  MultinomialNB(alpha=0.01, class_prior=None, fit_prior=True)\n",
      "\n",
      "  >>> vectors_test = vectorizer.transform(newsgroups_test.data)\n",
      "  >>> pred = clf.predict(vectors_test)\n",
      "  >>> metrics.f1_score(newsgroups_test.target, pred, average='macro')  # doctest: +ELLIPSIS\n",
      "  0.76995...\n",
      "\n",
      "Some other classifiers cope better with this harder version of the task. Try\n",
      "running :ref:`sphx_glr_auto_examples_model_selection_grid_search_text_feature_extraction.py` with and without\n",
      "the ``--filter`` option to compare the results.\n",
      "\n",
      ".. topic:: Recommendation\n",
      "\n",
      "  When evaluating text classifiers on the 20 Newsgroups data, you\n",
      "  should strip newsgroup-related metadata. In scikit-learn, you can do this by\n",
      "  setting ``remove=('headers', 'footers', 'quotes')``. The F-score will be\n",
      "  lower because it is more realistic.\n",
      "\n",
      ".. topic:: Examples\n",
      "\n",
      "   * :ref:`sphx_glr_auto_examples_model_selection_grid_search_text_feature_extraction.py`\n",
      "\n",
      "   * :ref:`sphx_glr_auto_examples_text_plot_document_classification_20newsgroups.py`\n",
      "\n"
     ]
    }
   ],
   "source": [
    "# More information about the data set\n",
    "\n",
    "print(newsgroups_data['DESCR'])"
   ]
  },
  {
   "cell_type": "code",
   "execution_count": 6,
   "metadata": {},
   "outputs": [
    {
     "name": "stdout",
     "output_type": "stream",
     "text": [
      "From: lerxst@wam.umd.edu (where's my thing)\n",
      "Subject: WHAT car is this!?\n",
      "Nntp-Posting-Host: rac3.wam.umd.edu\n",
      "Organization: University of Maryland, College Park\n",
      "Lines: 15\n",
      "\n",
      " I was wondering if anyone out there could enlighten me on this car I saw\n",
      "the other day. It was a 2-door sports car, looked to be from the late 60s/\n",
      "early 70s. It was called a Bricklin. The doors were really small. In addition,\n",
      "the front bumper was separate from the rest of the body. This is \n",
      "all I know. If anyone can tellme a model name, engine specs, years\n",
      "of production, where this car is made, history, or whatever info you\n",
      "have on this funky looking car, please e-mail.\n",
      "\n",
      "Thanks,\n",
      "- IL\n",
      "   ---- brought to you by your neighborhood Lerxst ----\n",
      "\n",
      "\n",
      "\n",
      "\n",
      "\n"
     ]
    }
   ],
   "source": [
    "# Example article\n",
    "\n",
    "print(newsgroups_data['data'][0])"
   ]
  },
  {
   "cell_type": "code",
   "execution_count": 8,
   "metadata": {},
   "outputs": [
    {
     "data": {
      "text/plain": [
       "7"
      ]
     },
     "execution_count": 8,
     "metadata": {},
     "output_type": "execute_result"
    }
   ],
   "source": [
    "# Associated label\n",
    "\n",
    "newsgroups_data['target'][0]"
   ]
  },
  {
   "cell_type": "code",
   "execution_count": 9,
   "metadata": {},
   "outputs": [
    {
     "data": {
      "text/plain": [
       "'rec.autos'"
      ]
     },
     "execution_count": 9,
     "metadata": {},
     "output_type": "execute_result"
    }
   ],
   "source": [
    "# Name of label\n",
    "\n",
    "newsgroups_data['target_names'][7]"
   ]
  },
  {
   "cell_type": "code",
   "execution_count": 10,
   "metadata": {},
   "outputs": [],
   "source": [
    "# Preprocessing boilerplate\n",
    "\n",
    "n_documents = len(newsgroups_data['data'])\n",
    "\n",
    "count_vectorizer = CountVectorizer(input='content', binary=True,\n",
    "                                   max_df=0.25, min_df=1.01/n_documents) # ignore common words, words that appear once\n",
    "binary_bag_of_words = count_vectorizer.fit_transform(newsgroups_data['data']) # input is a list of strings\n"
   ]
  },
  {
   "cell_type": "code",
   "execution_count": 11,
   "metadata": {},
   "outputs": [
    {
     "data": {
      "text/plain": [
       "(11314, 56365)"
      ]
     },
     "execution_count": 11,
     "metadata": {},
     "output_type": "execute_result"
    }
   ],
   "source": [
    "# Check shape\n",
    "\n",
    "binary_bag_of_words.shape"
   ]
  },
  {
   "cell_type": "code",
   "execution_count": 12,
   "metadata": {},
   "outputs": [
    {
     "data": {
      "text/plain": [
       "[array(['lerxst', 'wam', 'umd', 'where', 'thing', 'car', 'rac3',\n",
       "        'maryland', 'college', 'park', '15', 'wondering', 'anyone',\n",
       "        'could', 'enlighten', 'saw', 'day', 'door', 'sports', 'looked',\n",
       "        'late', '60s', 'early', '70s', 'called', 'bricklin', 'doors',\n",
       "        'were', 'really', 'small', 'addition', 'front', 'bumper',\n",
       "        'separate', 'rest', 'body', 'tellme', 'model', 'name', 'engine',\n",
       "        'specs', 'years', 'production', 'made', 'history', 'whatever',\n",
       "        'info', 'funky', 'looking', 'please', 'mail', 'thanks', 'il',\n",
       "        'brought', 'neighborhood'], dtype='<U80')]"
      ]
     },
     "execution_count": 12,
     "metadata": {},
     "output_type": "execute_result"
    }
   ],
   "source": [
    "# Check that the fit has been successful\n",
    "\n",
    "count_vectorizer.inverse_transform(binary_bag_of_words[0, :])"
   ]
  },
  {
   "cell_type": "code",
   "execution_count": 13,
   "metadata": {},
   "outputs": [],
   "source": [
    "# Dict that will be useful later \n",
    "\n",
    "inv_vocabulary = {value:key for key, value in count_vectorizer.vocabulary_.items()}"
   ]
  },
  {
   "cell_type": "markdown",
   "metadata": {},
   "source": [
    "#### A Naive Bayes classifier for `newsgroup`"
   ]
  },
  {
   "cell_type": "markdown",
   "metadata": {},
   "source": [
    "Each feature vector $x$ is a list of indicators for whether a word appears in the article. $x_i$ is 1 if the $i$th word appears, and 0 otherwise. `inv_vocabulary` matches word indices $i$ to words.\n",
    "\n",
    "Each label $y$ is a value in $0, 1, \\ldots, 19$.\n",
    "\n",
    "The parts of a naive Bayes classifier for this problem can be summarised as:  \n",
    "\n",
    "\n",
    "- A probability distribution for the feature vector by class, $p(x|y = j)$ for each $j = 0, 1, \\ldots, 19$. These probability distributions are assumed to have independent components: we can factorize the joint probability as a product of marginal probabilities\n",
    "\\begin{equation}\n",
    "    p(x|y = j) = \\prod_{i=1}^d p(x_i|y = j)\n",
    "\\end{equation}\n",
    "These marginal probability distributions are Bernoulli distributions, each of which has a single parameter $\\theta_{ji} := p(x_i = 1|y = j)$. This parameter is the probability of observing word $i$ in an article of class $j$. \n",
    "\n",
    "- We will use the Laplace smoothed maximum likelihood estimate to compute these parameters. Laplace smoothing involves adding small counts to every feature for each class. Else, if a feature did not appear in the training set of a class, but then we observed it in our test data the log probability would be undefined.\n",
    "\n",
    "- A collection of class prior probabilities $p(y = j)$. These will be set by computing the class base rates in the training set.  \n",
    "\n",
    "\n",
    "- A function for computing the probability of class membership via Bayes' theorem:  \n",
    "\n",
    "\\begin{equation}\n",
    "    p(y = j|x) = \\frac{p(x|y = j)p(y = j)}{p(x)}\n",
    "\\end{equation}"
   ]
  },
  {
   "cell_type": "code",
   "execution_count": 14,
   "metadata": {},
   "outputs": [],
   "source": [
    "# Compute the parameter estimates (adjusted fraction of documents in class that contain word)\n",
    "\n",
    "n_classes = newsgroups_data['target'].max() + 1\n",
    "y = newsgroups_data['target']\n",
    "n_words = binary_bag_of_words.shape[1]\n",
    "\n",
    "alpha = 1e-6 # parameters for Laplace smoothing\n",
    "\n",
    "theta = np.zeros([n_classes, n_words]) # stores parameter values - prob. word given class\n",
    "for c_k in range(n_classes): # 0, 1, ..., 19\n",
    "    class_mask = (y == c_k)\n",
    "    N = class_mask.sum() # number of articles in class\n",
    "    theta[c_k, :] = (binary_bag_of_words[class_mask, :].sum(axis=0) + alpha)/(N + alpha*2)"
   ]
  },
  {
   "cell_type": "code",
   "execution_count": 15,
   "metadata": {},
   "outputs": [
    {
     "name": "stdout",
     "output_type": "stream",
     "text": [
      "Most probable word in class alt.atheism is \"people\".\n",
      "Most probable word in class comp.graphics is \"graphics\".\n",
      "Most probable word in class comp.os.ms-windows.misc is \"windows\".\n",
      "Most probable word in class comp.sys.ibm.pc.hardware is \"thanks\".\n",
      "Most probable word in class comp.sys.mac.hardware is \"mac\".\n",
      "Most probable word in class comp.windows.x is \"window\".\n",
      "Most probable word in class misc.forsale is \"sale\".\n",
      "Most probable word in class rec.autos is \"car\".\n",
      "Most probable word in class rec.motorcycles is \"dod\".\n",
      "Most probable word in class rec.sport.baseball is \"he\".\n",
      "Most probable word in class rec.sport.hockey is \"ca\".\n",
      "Most probable word in class sci.crypt is \"clipper\".\n",
      "Most probable word in class sci.electronics is \"use\".\n",
      "Most probable word in class sci.med is \"reply\".\n",
      "Most probable word in class sci.space is \"space\".\n",
      "Most probable word in class soc.religion.christian is \"god\".\n",
      "Most probable word in class talk.politics.guns is \"people\".\n",
      "Most probable word in class talk.politics.mideast is \"people\".\n",
      "Most probable word in class talk.politics.misc is \"people\".\n",
      "Most probable word in class talk.religion.misc is \"he\".\n"
     ]
    }
   ],
   "source": [
    "# Check whether the most probable word in each class is reasonable\n",
    "\n",
    "most_probable_word_ix = theta.argmax(axis=1) # most probable word for each class\n",
    "\n",
    "for j, ix in enumerate(most_probable_word_ix):\n",
    "    print('Most probable word in class {} is \"{}\".'.format(newsgroups_data['target_names'][j],\n",
    "                                                           inv_vocabulary[ix]))"
   ]
  },
  {
   "cell_type": "code",
   "execution_count": 16,
   "metadata": {},
   "outputs": [
    {
     "data": {
      "text/plain": [
       "<tfp.distributions.Independent 'IndependentBernoulli' batch_shape=[20] event_shape=[56365] dtype=int32>"
      ]
     },
     "execution_count": 16,
     "metadata": {},
     "output_type": "execute_result"
    }
   ],
   "source": [
    "# Define a distribution for each class\n",
    "\n",
    "batch_of_bernoullis = tfd.Bernoulli(probs=theta)\n",
    "p_x_given_y = tfd.Independent(batch_of_bernoullis,\n",
    "    reinterpreted_batch_ndims=1)\n",
    "p_x_given_y"
   ]
  },
  {
   "cell_type": "code",
   "execution_count": 17,
   "metadata": {},
   "outputs": [
    {
     "data": {
      "text/plain": [
       "TensorShape([10, 20, 56365])"
      ]
     },
     "execution_count": 17,
     "metadata": {},
     "output_type": "execute_result"
    }
   ],
   "source": [
    "# Take a sample of words from each class\n",
    "\n",
    "n_samples = 10\n",
    "sample = p_x_given_y.sample(n_samples)\n",
    "sample.shape"
   ]
  },
  {
   "cell_type": "code",
   "execution_count": 18,
   "metadata": {},
   "outputs": [
    {
     "data": {
      "text/plain": [
       "'soc.religion.christian'"
      ]
     },
     "execution_count": 18,
     "metadata": {},
     "output_type": "execute_result"
    }
   ],
   "source": [
    "# Choose a class\n",
    "\n",
    "chosen_class = 15\n",
    "newsgroups_data['target_names'][chosen_class]"
   ]
  },
  {
   "cell_type": "code",
   "execution_count": 19,
   "metadata": {},
   "outputs": [
    {
     "data": {
      "text/plain": [
       "<tf.Tensor: shape=(10, 56365), dtype=int32, numpy=\n",
       "array([[0, 0, 0, ..., 0, 0, 0],\n",
       "       [0, 0, 0, ..., 0, 0, 0],\n",
       "       [1, 0, 0, ..., 0, 0, 0],\n",
       "       ...,\n",
       "       [0, 0, 0, ..., 0, 0, 0],\n",
       "       [0, 0, 0, ..., 0, 0, 0],\n",
       "       [0, 0, 0, ..., 0, 0, 0]], dtype=int32)>"
      ]
     },
     "execution_count": 19,
     "metadata": {},
     "output_type": "execute_result"
    }
   ],
   "source": [
    "# Indicators for words that appear in the sample\n",
    "\n",
    "class_sample = sample[:, chosen_class, :]\n",
    "class_sample"
   ]
  },
  {
   "cell_type": "code",
   "execution_count": 20,
   "metadata": {},
   "outputs": [
    {
     "data": {
      "text/plain": [
       "[array(['14', '18', '25', '29', 'able', 'accepted', 'again', 'also',\n",
       "        'although', 'ancient', 'andrew', 'aquinas', 'aren', 'basic',\n",
       "        'become', 'been', 'beginning', 'beings', 'beliefs', 'believe',\n",
       "        'best', 'bless', 'books', 'borrow', 'brain', 'caught', 'center',\n",
       "        'certainly', 'children', 'choice', 'christians', 'clear', 'come',\n",
       "        'consider', 'consultant', 'convict', 'correct', 'covington',\n",
       "        'darius', 'development', 'different', 'divorced', 'doubt',\n",
       "        'during', 'ecclesiastical', 'effective', 'else', 'embrace',\n",
       "        'environmentalism', 'etc', 'even', 'everyone', 'fact', 'faith',\n",
       "        'faithfully', 'father', 'financial', 'finding', 'followed',\n",
       "        'forbidden', 'found', 'fun', 'furthermore', 'gaus', 'general',\n",
       "        'glory', 'good', 'groups', 'held', 'historically', 'home',\n",
       "        'however', 'inconceivable', 'infinite', 'institute', 'interpreted',\n",
       "        'into', 'ironic', 'isn', 'issues', 'john', 'johnson', 'josh',\n",
       "        'last', 'los', 'make', 'many', 'mcintyre', 'mean', 'messiah',\n",
       "        'nearly', 'need', 'net', 'nobody', 'normally', 'okay', 'opinions',\n",
       "        'own', 'pa', 'passing', 'paul', 'peace', 'people', 'pharaoh',\n",
       "        'pixie', 'place', 'praying', 'proposes', 'question', 'questioning',\n",
       "        'readers', 'real', 'recorded', 'related', 'reply', 'resigned',\n",
       "        'respond', 'revealed', 'roll', 'rotc', 'rutgers', 'said', 'saved',\n",
       "        'science', 'secondly', 'service', 'skies', 'something', 'sort',\n",
       "        'south', 'spouses', 'standard', 'stands', 'statement', 'subjects',\n",
       "        'surely', 'survivalist', 'take', 'talked', 'teaching', 'text',\n",
       "        'their', 'things', 'trying', 'universal', 'used', 'vbv', 'want',\n",
       "        'wanted', 'way', 'ways', 'were', 'whether', 'won', 'worship',\n",
       "        'wrong', 'young'], dtype='<U80'),\n",
       " array(['09', '10101', '17', '23', '25', '40', '5420', '_a',\n",
       "        '_particular_', 'aa888', 'absolve', 'alluding', 'along', 'am',\n",
       "        'ashley', 'atheist', 'athos', 'bach', 'because', 'been', 'best',\n",
       "        'blood', 'book', 'bureaucratic', 'cannot', 'caricature',\n",
       "        'certainty', 'change', 'churches', 'civilians', 'class',\n",
       "        'comparison', 'consistently', 'consisting', 'consulting', 'couple',\n",
       "        'delusion', 'descended', 'does', 'each', 'eden', 'eighteenth',\n",
       "        'emphasis', 'especially', 'etc', 'eternity', 'etymology',\n",
       "        'everyone', 'faq', 'fault', 'finally', 'find', 'force',\n",
       "        'fundamentalists', 'gsu0033', 'headaches', 'hidden', 'him', 'ie',\n",
       "        'interpreters', 'judgment', 'led', 'letter', 'live', 'lived', 'll',\n",
       "        'mail', 'many', 'mark', 'may', 'mmalt', 'monash', 'murray',\n",
       "        'muslims', 'nancy', 'new', 'none', 'nothing', 'obedience', 'old',\n",
       "        'older', 'open', 'our', 'passing', 'patience', 'people', 'picture',\n",
       "        'prophets', 'puzzle', 'r2d2', 'rarely', 'rather', 'really',\n",
       "        'receive', 'reply', 'rest', 'rum', 'rutgers', 'said', 'says',\n",
       "        'scriptures', 'seen', 'sentence', 'sin', 'since', 'sinners',\n",
       "        'slap', 'smack', 'small', 'something', 'sometimes', 'southern',\n",
       "        'st', 'start', 'statement', 'suggesting', 'sure', 'telling',\n",
       "        'thanks', 'theology', 'think', 'thinking', 'through', 'two', 'uga',\n",
       "        'use', 'usmi01', 'uw', 'viva', 'voice', 'well', 'were', 'wrong',\n",
       "        'xxx', 'yet'], dtype='<U80'),\n",
       " array(['00', '15426', '18833', '22', '334', '5of5', 'actually', 'ad',\n",
       "        'am', 'anyhting', 'apostacy', 'appreciated', 'apr', 'aras',\n",
       "        'arrogance', 'assert', 'australia', 'been', 'body', 'bother',\n",
       "        'carson', 'catholic', 'ceremony', 'children', 'christian',\n",
       "        'christianity', 'christopher', 'church', 'claim', 'clearest',\n",
       "        'clearly', 'come', 'common', 'confusing', 'contradictory',\n",
       "        'contribution', 'copyright', 'decree', 'difficulty', 'dismiss',\n",
       "        'earlier', 'either', 'essence', 'even', 'example', 'fails',\n",
       "        'faith', 'finabo', 'further', 'god', 'gov', 'grounded', 'happened',\n",
       "        'hell', 'him', 'his', 'history', 'home', 'hope', 'however',\n",
       "        'human', 'ibm', 'incorporate', 'inspired', 'intellectual',\n",
       "        'interim', 'john', 'johnsd2', 'least', 'leslie', 'life',\n",
       "        'literally', 'look', 'looked', 'love', 'luckily', 'magazine',\n",
       "        'man', 'martyred', 'mentioning', 'midst', 'mind', 'mindlink',\n",
       "        'mmalt', 'much', 'murder', 'never', 'noted', 'nothing', 'now',\n",
       "        'off', 'old', 'once', 'others', 'our', 'own', 'parties', 'person',\n",
       "        'personal', 'physics', 'prince', 'problem', 'punishing', 'quite',\n",
       "        'really', 'recognize', 'regarded', 'religion', 'results', 'return',\n",
       "        'says', 'science', 'self', 'send', 'sherman', 'shrine', 'similar',\n",
       "        'spanked', 'st', 'steps', 'struggle', 'such', 'suppose', 'talks',\n",
       "        'taught', 'tell', 'tells', 'thoughtful', 'time', 'trust', 'try',\n",
       "        'understanding', 've', 'waiting', 'want', 'wasn', 'wrong'],\n",
       "       dtype='<U80'),\n",
       " array(['0358', '2073', 'ability', 'according', 'almost', 'also',\n",
       "        'analogy', 'anthroposophy', 'apr', 'aquinas', 'athos', 'atlastele',\n",
       "        'barring', 'because', 'been', 'bnr', 'bound', 'busy', 'called',\n",
       "        'carolina', 'carpenter', 'chris', 'christianity', 'city', 'cmu',\n",
       "        'co', 'come', 'comes', 'commentary', 'compared', 'condemn',\n",
       "        'congregation', 'consider', 'consistency', 'contradict', 'course',\n",
       "        'cwru', 'dab', 'denied', 'did', 'discussion', 'ditucci',\n",
       "        'doctrinal', 'documents', 'elders', 'eng', 'especially', 'ever',\n",
       "        'fact', 'faith', 'fear', 'fellow', 'florida', 'follow', 'food',\n",
       "        'fools', 'geography', 'good', 'grave', 'gt7122b', 'harvest',\n",
       "        'having', 'held', 'hell', 'heretic', 'his', 'inclined',\n",
       "        'innocence', 'interactions', 'interesting', 'internal', 'isaac',\n",
       "        'kentucky', 'len', 'let', 'literally', 'long', 'mack', 'made',\n",
       "        'meet', 'men', 'nations', 'nature', 'need', 'net', 'now',\n",
       "        'observed', 'open', 'opinions', 'others', 'page', 'particular',\n",
       "        'phone', 'piss', 'place', 'plus', 'presuppositionalism',\n",
       "        'priesthood', 'process', 'prominent', 'prophesy', 'question',\n",
       "        'raised', 'realizes', 'reason', 'reasons', 'recently',\n",
       "        'recommended', 'remember', 'research', 'rob', 'same',\n",
       "        'sanctification', 'seems', 'selections', 'serious', 'since',\n",
       "        'skeptical', 'soil', 'sometimes', 'sorely', 'study', 'stuff',\n",
       "        'such', 'these', 'think', 'those', 'through', 'time', 'timothy',\n",
       "        'together', 'treatise', 'true', 'truly', 'two', 'ucsu', 'use',\n",
       "        'various', 'very', 'want', 'wasn', 'wedding', 'were', 'why',\n",
       "        'within', 'xii'], dtype='<U80'),\n",
       " array(['00', '1888', '45', 'actions', 'acts', 'am', 'assumed', 'believe',\n",
       "        'blindness', 'cannot', 'caralv', 'catholic', 'cc', 'centuries',\n",
       "        'certainly', 'churches', 'come', 'compromise', 'conception',\n",
       "        'condition', 'councils', 'course', 'create', 'cult', 'death',\n",
       "        'defense', 'definition', 'deleted', 'deter', 'discussing',\n",
       "        'disparate', 'does', 'dorothy', 'down', 'dsegard', 'during',\n",
       "        'either', 'eventually', 'evidence', 'excuse', 'exist', 'extent',\n",
       "        'far', 'forever', 'frequently', 'had', 'hard', 'he', 'health',\n",
       "        'humans', 'included', 'itself', 'jersey', 'jesus', 'kulikauskas',\n",
       "        'live', 'lutheran', 'man', 'many', 'may', 'mean', 'messiahs',\n",
       "        'mon', 'money', 'myself', 'never', 'new', 'news', 'notions', 'off',\n",
       "        'order', 'oriental', 'phd', 'place', 'polite', 'practices',\n",
       "        'property', 'put', 'qualms', 'questioning', 'race', 'rational',\n",
       "        'read', 'readings', 'reality', 'really', 'reasons', 'refer',\n",
       "        'refused', 'relationship', 'remember', 'response', 'right', 'sad',\n",
       "        'same', 'send', 'sheila', 'should', 'sleep', 'soul', 'sphere',\n",
       "        'st', 'stephen', 'such', 'suddenly', 'suffer', 'synonyms', 'tall',\n",
       "        'task', 'terrible', 'testimony', 'thanks', 'their', 'them', 'then',\n",
       "        'these', 'those', 'thought', 'today', 'totally', 'touch',\n",
       "        'tredysvr', 'two', 'under', 'until', 'us', 'usually', 'value',\n",
       "        'views', 'warns', 'well', 'were', 'whether', 'willing', 'without',\n",
       "        'word', 'wrong', 'yet'], dtype='<U80'),\n",
       " array(['11', '1271', '1352', '23', '245', '50', 'able', 'accusing',\n",
       "        'allen', 'also', 'ancient', 'anything', 'around', 'ask', 'asking',\n",
       "        'based', 'bearing', 'best', 'between', 'biblical', 'billion',\n",
       "        'book', 'bunches', 'called', 'cease', 'celebrate', 'check',\n",
       "        'christ', 'christian', 'claim', 'clear', 'come', 'comes',\n",
       "        'comments', 'conclusions', 'continued', 'course', 'criminal',\n",
       "        'curious', 'danger', 'day', 'denounced', 'deon', 'different',\n",
       "        'disobeyers', 'doctor', 'doctrinal', 'done', 'ecn', 'education',\n",
       "        'egyptian', 'either', 'even', 'exactly', 'expect', 'explanation',\n",
       "        'fact', 'facts', 'fidonet', 'find', 'flesh', 'geneva', 'goats',\n",
       "        'god', 'goes', 'gov', 'groups', 'growing', 'guess', 'guild', 'he',\n",
       "        'here', 'homosexuality', 'however', 'illegal', 'instead',\n",
       "        'interest', 'into', 'involved', 'island', 'jek', 'john', 'jr',\n",
       "        'kiefer', 'knows', 'last', 'least', 'less', 'letteren', 'line',\n",
       "        'little', 'live', 'lord', 'lutheran', 'lutherans', 'man', 'may',\n",
       "        'maybe', 'mind', 'moment', 'most', 'must', 'nebraska', 'need',\n",
       "        'newsgroup', 'nextwork', 'now', 'obscene', 'opinion', 'opinions',\n",
       "        'people', 'perception', 'person', 'pharvey', 'physics', 'picture',\n",
       "        'polk', 'praise', 'prefer', 'question', 'received', 'relationship',\n",
       "        'relevant', 'renewing', 'represents', 'research', 'resurrection',\n",
       "        'rules', 'rutgers', 'saying', 'show', 'sirach', 'state', 'stoney',\n",
       "        'stoning', 'stop', 'suggest', 'suppose', 'supreme', 'take', 'tell',\n",
       "        'tells', 'tends', 'their', 'them', 'those', 'trol', 'truly',\n",
       "        'trying', 'tsd', 'ultraviolet', 'unwarranted', 'version', 'virgin',\n",
       "        'wa', 'watch', 'ways', 'were', 'where', 'word', 'yes', 'yo',\n",
       "        'yourself', 'yourselves'], dtype='<U80'),\n",
       " array(['1983', '1st', '2000', '35', 'abundant', 'accept', 'acs', 'ak',\n",
       "        'am', 'another', 'argument', 'ask', 'attempting', 'authority',\n",
       "        'balance', 'basic', 'because', 'being', 'believe', 'beware',\n",
       "        'bibles', 'bothered', 'brevity', 'carrying', 'change', 'chaos',\n",
       "        'cheap', 'christians', 'clear', 'come', 'commandments',\n",
       "        'commission', 'compelling', 'confect', 'copy', 'course',\n",
       "        'crucifixion', 'cs', 'currently', 'david', 'depth', 'desert',\n",
       "        'despair', 'doing', 'egyptians', 'emphasize', 'entrusted',\n",
       "        'eternal', 'eternity', 'evidence', 'example', 'expressing',\n",
       "        'favor', 'first', 'free', 'galatians', 'geneva', 'got', 'gov',\n",
       "        'had', 'hate', 'head', 'heart', 'highly', 'his', 'historically',\n",
       "        'hmm', 'however', 'hurt', 'iii', 'information', 'interior',\n",
       "        'james', 'journey', 'jump', 'kid', 'lake', 'late', 'let',\n",
       "        'lightning', 'livermore', 'll', 'make', 'makes', 'male', 'matter',\n",
       "        'mention', 'mother', 'mozart', 'night', 'nothing', 'nut',\n",
       "        'obedience', 'ogden', 'otherwise', 'parishioners', 'parkin',\n",
       "        'peace', 'planned', 'possibly', 'power', 'probably', 'rather',\n",
       "        'reading', 'recommend', 'relativistic', 'respectively', 'rose',\n",
       "        'running', 'rutgers', 'said', 'salvation', 'say', 'seen', 'silent',\n",
       "        'simply', 'software', 'story', 'strongly', 'submission', 'such',\n",
       "        'suffer', 'technology', 'them', 'then', 'theories', 'thess',\n",
       "        'think', 'those', 'time', 'trouble', 'truth', 'umiacs',\n",
       "        'underneath', 'us', 've', 'way', 'were', 'why', 'wishes',\n",
       "        'witnesses', 'world', 'yesterday'], dtype='<U80'),\n",
       " array(['10', '138', '19', '1993', '24', '54', '_the', 'after', 'am',\n",
       "        'andy', 'answer', 'anyway', 'aren', 'argue', 'ascension', 'asking',\n",
       "        'ballard', 'believe', 'blaming', 'boast', 'boss', 'bunch',\n",
       "        'buried', 'cannot', 'carry', 'catholics', 'caused', 'christ',\n",
       "        'christian', 'church', 'city', 'come', 'comments', 'condition',\n",
       "        'confusion', 'consecrations', 'consulting', 'cover', 'david',\n",
       "        'day', 'debate', 'denial', 'depend', 'despite', 'discredited',\n",
       "        'ditucci', 'does', 'either', 'eliminated', 'else', 'emperor',\n",
       "        'event', 'example', 'except', 'expression', 'final', 'financially',\n",
       "        'foul', 'fraser', 'full', 'fully', 'given', 'go', 'god', 'good',\n",
       "        'grace', 'greek', 'guards', 'happily', 'her', 'here', 'him',\n",
       "        'himself', 'his', 'human', 'identical', 'important', 'impossible',\n",
       "        'intended', 'interesting', 'issues', 'jesus', 'johnson', 'jose',\n",
       "        'kille', 'kind', 'lee', 'life', 'likely', 'list', 'maintaining',\n",
       "        'make', 'man', 'may', 'mind', 'molas', 'mot', 'much', 'national',\n",
       "        'necessary', 'neighbour', 'never', 'next', 'nothing', 'old',\n",
       "        'opinion', 'opinions', 'perfectly', 'point', 'posessing',\n",
       "        'positive', 'poster', 'prayer', 'priest', 'problems', 'rash',\n",
       "        'read', 'religions', 'rfd', 'road', 'rutgers', 'sacred', 'saturn',\n",
       "        'scriptures', 'sola', 'son', 'sophistication', 'spanked', 'state',\n",
       "        'tarot', 'tell', 'temples', 'tend', 'text', 'theists', 'think',\n",
       "        'though', 'tim', 'time', 'tragic', 'tricky', 'true', 'truth',\n",
       "        'try', 'understanding', 'used', 'ways', 'were', 'willing'],\n",
       "       dtype='<U80'),\n",
       " array(['2006', '21', '25', '28510', '49', '59', '63', 'afraid', 'also',\n",
       "        'anyone', 'appease', 'apr', 'arose', 'assume', 'athena',\n",
       "        'attendance', 'became', 'benefit', 'bogart', 'breath', 'cannot',\n",
       "        'cast', 'christians', 'consultant', 'could', 'councils', 'couple',\n",
       "        'cse', 'day', 'described', 'descriptive', 'desire', 'desires',\n",
       "        'done', 'draw', 'eeap', 'familiar', 'fault', 'flashed', 'followed',\n",
       "        'forgive', 'former', 'frankly', 'geneva', 'george', 'god', 'got',\n",
       "        'gt7122b', 'helping', 'his', 'holy', 'humanity', 'ignorant',\n",
       "        'islam', 'jerusalem', 'judgment', 'karma', 'kille', 'knowledgable',\n",
       "        'leads', 'life', 'little', 'live', 'makes', 'man', 'mcovingt',\n",
       "        'meeting', 'mont', 'most', 'must', 'natural', 'near',\n",
       "        'nestorianism', 'normally', 'obligation', 'others', 'own',\n",
       "        'parents', 'part', 'particular', 'pax', 'people', 'phs431d',\n",
       "        'portugal', 'position', 'presence', 'reasonable', 'rejoices',\n",
       "        'renaissance', 'righteousness', 'rights', 'same', 'say', 'see',\n",
       "        'service', 'sexuality', 'sinning', 'somebody', 'someone',\n",
       "        'somewhere', 'strategic', 'subsequent', 'suggest', 'support',\n",
       "        'sure', 'suspect', 'talks', 'their', 'them', 'thing', 'thus',\n",
       "        'time', 'tuesday', 'uiuc', 'us', 'week', 'whoever', 'whose',\n",
       "        'wide', 'wish'], dtype='<U80'),\n",
       " array(['13', '21', '23', '30', 'actually', 'alan', 'almost', 'also', 'am',\n",
       "        'american', 'andrew', 'another', 'anyway', 'appear', 'armenians',\n",
       "        'attempts', 'been', 'before', 'beings', 'better', 'bible',\n",
       "        'bickering', 'book', 'both', 'bunnies', 'choosing', 'christ',\n",
       "        'christianity', 'city', 'clearly', 'clyde', 'contempt',\n",
       "        'contradicts', 'convert', 'course', 'current', 'deal', 'death',\n",
       "        'described', 'desiree_bradley', 'dinner', 'directed', 'dnet',\n",
       "        'does', 'emperor', 'end', 'ever', 'every', 'evil', 'exist', 'far',\n",
       "        'feel', 'fi', 'find', 'finland', 'flame', 'forget', 'forms',\n",
       "        'fortitude', 'freshman', 'gift', 'gla', 'goals', 'going', 'good',\n",
       "        'hard', 'harper', 'here', 'history', 'impossible', 'jayne', 'john',\n",
       "        'kind', 'labeled', 'last', 'least', 'led', 'level', 'likely',\n",
       "        'live', 'look', 'man', 'michael', 'mind', 'mmalt', 'moral',\n",
       "        'n4tmi', 'nehemiah', 'never', 'newsgroup', 'off', 'oppose',\n",
       "        'ought', 'our', 'paraphrasing', 'parts', 'patient', 'point',\n",
       "        'precise', 'presence', 'press', 'pretty', 'probably', 'protestant',\n",
       "        'psalm', 'question', 'recognize', 'reflect', 'reformation',\n",
       "        'reject', 'sacrificed', 'sarcasm', 'satisfiable', 'savior',\n",
       "        'science', 'security', 'see', 'selective', 'separate', 'should',\n",
       "        'shut', 'something', 'ssf', 'steven', 'talking', 'than', 'thing',\n",
       "        'things', 'think', 'those', 'thy', 'tomb', 'too', 'tool', 'try',\n",
       "        'uchicago', 'understand', 'unless', 'vacuum', 'want', 'wars',\n",
       "        'washed', 'way', 'well', 'were', 'whole', 'words', 'workable',\n",
       "        'worse', 'yet', 'young', 'yourselves'], dtype='<U80')]"
      ]
     },
     "execution_count": 20,
     "metadata": {},
     "output_type": "execute_result"
    }
   ],
   "source": [
    "# Perform inverse transform to test quality of fit\n",
    "\n",
    "count_vectorizer.inverse_transform(class_sample)"
   ]
  },
  {
   "cell_type": "markdown",
   "metadata": {},
   "source": [
    "***\n",
    "<a id='sampling_and_log_probs'></a>\n",
    "## Sampling and log probs"
   ]
  },
  {
   "cell_type": "code",
   "execution_count": 1,
   "metadata": {},
   "outputs": [
    {
     "name": "stdout",
     "output_type": "stream",
     "text": [
      "tfp.distributions.Exponential(\"Exponential\", batch_shape=[2, 3], event_shape=[], dtype=float32)\n"
     ]
    }
   ],
   "source": [
    "import tensorflow as tf\n",
    "import tensorflow_probability as tfp\n",
    "tfd = tfp.distributions\n",
    "\n",
    "exp = tfd.Exponential(rate=[[1., 1.5, 0.8], \n",
    "    [0.3, 0.4, 1.8]])\n",
    "print(exp)"
   ]
  },
  {
   "cell_type": "code",
   "execution_count": 3,
   "metadata": {},
   "outputs": [
    {
     "name": "stdout",
     "output_type": "stream",
     "text": [
      "tfp.distributions.Independent(\"IndependentExponential\", batch_shape=[2], event_shape=[3], dtype=float32)\n"
     ]
    },
    {
     "data": {
      "text/plain": [
       "<tf.Tensor: shape=(4, 2, 3), dtype=float32, numpy=\n",
       "array([[[1.0609474e+00, 1.1329856e+00, 3.7724080e+00],\n",
       "        [6.6762180e+00, 4.4536996e-01, 3.5465017e-01]],\n",
       "\n",
       "       [[2.6060892e-03, 8.9545566e-01, 2.4073102e+00],\n",
       "        [4.7254453e+00, 6.3271079e+00, 2.6803225e-01]],\n",
       "\n",
       "       [[3.6317617e-01, 5.7505113e-01, 3.7029932e+00],\n",
       "        [5.0473070e+00, 2.5412700e+00, 1.7018653e-01]],\n",
       "\n",
       "       [[2.3343949e-01, 9.5021057e-01, 1.8173948e-01],\n",
       "        [1.4788583e+01, 1.5347533e+00, 2.3349890e-02]]], dtype=float32)>"
      ]
     },
     "execution_count": 3,
     "metadata": {},
     "output_type": "execute_result"
    }
   ],
   "source": [
    "ind_exp = tfd.Independent(exp)\n",
    "print(ind_exp)\n",
    "ind_exp.sample(4)"
   ]
  },
  {
   "cell_type": "code",
   "execution_count": 5,
   "metadata": {
    "scrolled": true
   },
   "outputs": [
    {
     "name": "stdout",
     "output_type": "stream",
     "text": [
      "tfp.distributions.Exponential(\"Exponential\", batch_shape=[2, 1, 2, 3], event_shape=[], dtype=float32)\n",
      "tfp.distributions.Independent(\"IndependentExponential\", batch_shape=[2, 1], event_shape=[2, 3], dtype=float32)\n"
     ]
    },
    {
     "data": {
      "text/plain": [
       "<tf.Tensor: shape=(4, 2, 2, 1, 2, 3), dtype=float32, numpy=\n",
       "array([[[[[[4.7069031e-01, 1.1046965e-01, 2.3218772e-01],\n",
       "           [2.1936564e+00, 6.0738307e-01, 1.1278248e+00]]],\n",
       "\n",
       "\n",
       "         [[[9.9032850e+00, 4.8272047e+00, 5.6559688e-01],\n",
       "           [4.2504854e+00, 4.8855672e+00, 6.9823807e-01]]]],\n",
       "\n",
       "\n",
       "\n",
       "        [[[[6.1133474e-02, 5.9748930e-01, 1.7221004e+00],\n",
       "           [1.5327492e-01, 5.0373111e+00, 2.9620057e-01]]],\n",
       "\n",
       "\n",
       "         [[[2.0542101e+01, 1.6997614e+00, 1.3804214e+00],\n",
       "           [2.8067923e+00, 4.3130755e-01, 9.7502285e-01]]]]],\n",
       "\n",
       "\n",
       "\n",
       "\n",
       "       [[[[[3.0335021e+00, 5.4808617e-01, 1.8173903e+00],\n",
       "           [5.8952227e+00, 4.7125835e+00, 5.7458162e-01]]],\n",
       "\n",
       "\n",
       "         [[[1.6695343e+00, 4.7541845e-01, 1.1708654e+00],\n",
       "           [8.6659994e+00, 1.1609753e+00, 5.6807154e-01]]]],\n",
       "\n",
       "\n",
       "\n",
       "        [[[[5.3679898e-02, 1.5833305e-01, 8.2616024e-02],\n",
       "           [5.7098684e+00, 5.4509149e+00, 1.9728222e-01]]],\n",
       "\n",
       "\n",
       "         [[[1.9254662e+01, 5.8368168e+00, 1.0236678e-01],\n",
       "           [8.2732476e-02, 8.1552655e-02, 9.3969457e-02]]]]],\n",
       "\n",
       "\n",
       "\n",
       "\n",
       "       [[[[[1.5933548e-01, 1.7778854e-01, 2.5704119e+00],\n",
       "           [4.0978360e+00, 2.2247300e+00, 2.6056632e-01]]],\n",
       "\n",
       "\n",
       "         [[[2.9621773e+00, 4.0432757e-01, 1.3040140e+00],\n",
       "           [3.2489870e+00, 2.5474577e+00, 7.8927028e-01]]]],\n",
       "\n",
       "\n",
       "\n",
       "        [[[[2.0643905e-01, 1.8356606e+00, 2.4505936e-01],\n",
       "           [2.3843992e+00, 2.5258408e+00, 2.7645412e-01]]],\n",
       "\n",
       "\n",
       "         [[[1.6461061e+00, 4.2970136e-01, 1.1975446e+00],\n",
       "           [9.5617378e-01, 3.6475661e+00, 2.9802001e+00]]]]],\n",
       "\n",
       "\n",
       "\n",
       "\n",
       "       [[[[[5.8323491e-01, 2.3390920e-01, 5.6774288e-01],\n",
       "           [6.9090778e-01, 6.5469348e-01, 9.4770712e-01]]],\n",
       "\n",
       "\n",
       "         [[[1.1199561e+01, 2.4150276e+00, 1.6088231e-01],\n",
       "           [5.1211548e+00, 8.2859233e-02, 4.1409478e-01]]]],\n",
       "\n",
       "\n",
       "\n",
       "        [[[[1.2848748e+00, 1.7448620e-01, 2.6080647e-01],\n",
       "           [1.1379009e+00, 9.2330994e-03, 1.8998256e+00]]],\n",
       "\n",
       "\n",
       "         [[[3.3312194e+00, 5.7208419e-01, 1.2410189e+00],\n",
       "           [7.1928988e+00, 9.3433487e-01, 1.8796293e+00]]]]]],\n",
       "      dtype=float32)>"
      ]
     },
     "execution_count": 5,
     "metadata": {},
     "output_type": "execute_result"
    }
   ],
   "source": [
    "rates = [[[[1., 1.5, 0.8], [0.3, 0.4, 1.8]]],\n",
    "    [[[0.2, 0.4, 1.4], [0.4, 1.1, 0.9]]]]\n",
    "exp = tfd.Exponential(rate=rates)\n",
    "print(exp)\n",
    "\n",
    "ind_exp = tfd.Independent(exp, reinterpreted_batch_ndims=2)\n",
    "print(ind_exp)\n",
    "\n",
    "ind_exp.sample([4, 2])"
   ]
  },
  {
   "cell_type": "code",
   "execution_count": 6,
   "metadata": {},
   "outputs": [
    {
     "data": {
      "text/plain": [
       "<tf.Tensor: shape=(2, 1), dtype=float32, numpy=\n",
       "array([[-4.2501554],\n",
       "       [-5.3155975]], dtype=float32)>"
      ]
     },
     "execution_count": 6,
     "metadata": {},
     "output_type": "execute_result"
    }
   ],
   "source": [
    "ind_exp.log_prob(0.5)"
   ]
  },
  {
   "cell_type": "code",
   "execution_count": 7,
   "metadata": {},
   "outputs": [
    {
     "data": {
      "text/plain": [
       "<tf.Tensor: shape=(2, 1), dtype=float32, numpy=\n",
       "array([[-4.7701554],\n",
       "       [-5.885597 ]], dtype=float32)>"
      ]
     },
     "execution_count": 7,
     "metadata": {},
     "output_type": "execute_result"
    }
   ],
   "source": [
    "ind_exp.log_prob([[0.3, 0.5, 0.8]])"
   ]
  },
  {
   "cell_type": "code",
   "execution_count": 8,
   "metadata": {},
   "outputs": [
    {
     "data": {
      "text/plain": [
       "<tf.Tensor: shape=(5, 2, 1), dtype=float32, numpy=\n",
       "array([[[-4.598109 ],\n",
       "        [-5.6428385]],\n",
       "\n",
       "       [[-3.2125132],\n",
       "        [-4.8172007]],\n",
       "\n",
       "       [[-2.6961555],\n",
       "        [-4.1970334]],\n",
       "\n",
       "       [[-5.6878023],\n",
       "        [-6.1588306]],\n",
       "\n",
       "       [[-4.5123377],\n",
       "        [-5.089877 ]]], dtype=float32)>"
      ]
     },
     "execution_count": 8,
     "metadata": {},
     "output_type": "execute_result"
    }
   ],
   "source": [
    "ind_exp.log_prob(tf.random.uniform((5, 1, 1, 2, 1)))"
   ]
  },
  {
   "cell_type": "code",
   "execution_count": 3,
   "metadata": {},
   "outputs": [
    {
     "data": {
      "text/plain": [
       "<tfp.distributions.MultivariateNormalDiag 'MultivariateNormalDiag' batch_shape=[3] event_shape=[2] dtype=float32>"
      ]
     },
     "execution_count": 3,
     "metadata": {},
     "output_type": "execute_result"
    }
   ],
   "source": [
    "# Make Multivariate Distribution\n",
    "\n",
    "normal_distributions = tfd.MultivariateNormalDiag(\n",
    "    loc=[[0.5, 1], [0.1, 0], [0, 0.2]],\n",
    "    scale_diag=[[2, 3], [1, 3], [4, 4]])\n",
    "normal_distributions"
   ]
  },
  {
   "cell_type": "code",
   "execution_count": 4,
   "metadata": {},
   "outputs": [
    {
     "data": {
      "text/plain": [
       "<tf.Tensor: shape=(5, 3, 2), dtype=float32, numpy=\n",
       "array([[[-1.2961674 , -4.477743  ],\n",
       "        [-0.34441808, -4.4648843 ],\n",
       "        [-3.1421852 ,  0.9847862 ]],\n",
       "\n",
       "       [[ 0.8520931 , -3.5757518 ],\n",
       "        [ 0.73529404,  2.0043614 ],\n",
       "        [ 5.6922107 ,  0.38246575]],\n",
       "\n",
       "       [[ 0.0661459 , -4.1254716 ],\n",
       "        [ 0.61741614, -0.35916954],\n",
       "        [-4.245635  , -1.9636502 ]],\n",
       "\n",
       "       [[ 0.6721385 , -2.83458   ],\n",
       "        [-0.29498634,  1.5767398 ],\n",
       "        [-0.02867545, -3.6013174 ]],\n",
       "\n",
       "       [[-1.9095645 ,  1.0512418 ],\n",
       "        [ 0.13989209, -1.9639037 ],\n",
       "        [-2.5538137 ,  4.828182  ]]], dtype=float32)>"
      ]
     },
     "execution_count": 4,
     "metadata": {},
     "output_type": "execute_result"
    }
   ],
   "source": [
    "# Sample\n",
    "\n",
    "normal_distributions.sample(5)"
   ]
  },
  {
   "cell_type": "code",
   "execution_count": 5,
   "metadata": {},
   "outputs": [
    {
     "data": {
      "text/plain": [
       "<tfp.distributions.MultivariateNormalDiag 'MultivariateNormalDiag' batch_shape=[2, 2] event_shape=[3] dtype=float32>"
      ]
     },
     "execution_count": 5,
     "metadata": {},
     "output_type": "execute_result"
    }
   ],
   "source": [
    "# Multivariate Normal batched Distribution\n",
    "# We are broadcasting batch shapes of `loc` and `scal_diag` \n",
    "# against each other\n",
    "\n",
    "loc = [[[0.3, 1.5, 1.], [0.2, 0.4, 2.8]],\n",
    "        [[2., 2.3, 8], [1.4, 1, 1.3]]]\n",
    "scale_diag = [0.4, 1., 0.7]\n",
    "normal_distributions = tfd.MultivariateNormalDiag(\n",
    "    loc=loc, scale_diag=scale_diag)\n",
    "normal_distributions"
   ]
  },
  {
   "cell_type": "code",
   "execution_count": 6,
   "metadata": {},
   "outputs": [
    {
     "data": {
      "text/plain": [
       "<tfp.distributions.Independent 'IndependentMultivariateNormalDiag' batch_shape=[2] event_shape=[2, 3] dtype=float32>"
      ]
     },
     "execution_count": 6,
     "metadata": {},
     "output_type": "execute_result"
    }
   ],
   "source": [
    "# Use independent to move part of the batch shape\n",
    "\n",
    "ind_normal_distributions = tfd.Independent(normal_distributions,\n",
    "    reinterpreted_batch_ndims=1)\n",
    "ind_normal_distributions"
   ]
  },
  {
   "cell_type": "code",
   "execution_count": 7,
   "metadata": {},
   "outputs": [
    {
     "data": {
      "text/plain": [
       "TensorShape([5, 2, 2, 3])"
      ]
     },
     "execution_count": 7,
     "metadata": {},
     "output_type": "execute_result"
    }
   ],
   "source": [
    "# Draw some samples\n",
    "\n",
    "samples = ind_normal_distributions.sample(5)\n",
    "samples.shape"
   ]
  },
  {
   "cell_type": "code",
   "execution_count": 8,
   "metadata": {},
   "outputs": [
    {
     "data": {
      "text/plain": [
       "<tf.Tensor: shape=(2,), dtype=float32, numpy=array([-10.683702, -70.85609 ], dtype=float32)>"
      ]
     },
     "execution_count": 8,
     "metadata": {},
     "output_type": "execute_result"
    }
   ],
   "source": [
    "# `[B, E]` shaped input\n",
    "\n",
    "inp = tf.random.uniform((2, 2, 3))\n",
    "ind_normal_distributions.log_prob(inp)"
   ]
  },
  {
   "cell_type": "code",
   "execution_count": 9,
   "metadata": {},
   "outputs": [
    {
     "data": {
      "text/plain": [
       "<tf.Tensor: shape=(2,), dtype=float32, numpy=array([ -9.249443, -75.61279 ], dtype=float32)>"
      ]
     },
     "execution_count": 9,
     "metadata": {},
     "output_type": "execute_result"
    }
   ],
   "source": [
    "# `[E]` shaped input (broadcasting over batch size)\n",
    "\n",
    "inp = tf.random.uniform((2, 3))\n",
    "ind_normal_distributions.log_prob(inp)"
   ]
  },
  {
   "cell_type": "code",
   "execution_count": 10,
   "metadata": {},
   "outputs": [
    {
     "data": {
      "text/plain": [
       "<tf.Tensor: shape=(9, 2), dtype=float32, numpy=\n",
       "array([[-12.21836 , -70.394684],\n",
       "       [ -7.264469, -85.92087 ],\n",
       "       [ -7.722307, -77.85683 ],\n",
       "       [-10.986505, -77.435074],\n",
       "       [-11.681156, -67.48659 ],\n",
       "       [ -9.741246, -68.502914],\n",
       "       [ -9.467726, -76.27688 ],\n",
       "       [-11.667308, -75.85168 ],\n",
       "       [-10.043331, -82.41718 ]], dtype=float32)>"
      ]
     },
     "execution_count": 10,
     "metadata": {},
     "output_type": "execute_result"
    }
   ],
   "source": [
    "#`[S, B, E]` shaped input (broadcasting over samples)\n",
    "\n",
    "inp = tf.random.uniform((9, 2, 2, 3))\n",
    "ind_normal_distributions.log_prob(inp)"
   ]
  },
  {
   "cell_type": "code",
   "execution_count": 11,
   "metadata": {},
   "outputs": [
    {
     "data": {
      "text/plain": [
       "<tf.Tensor: shape=(5, 2), dtype=float32, numpy=\n",
       "array([[ -9.131046, -70.296005],\n",
       "       [-10.460278, -83.73175 ],\n",
       "       [-11.657809, -80.00502 ],\n",
       "       [-11.055916, -67.27801 ],\n",
       "       [-10.54241 , -82.90212 ]], dtype=float32)>"
      ]
     },
     "execution_count": 11,
     "metadata": {},
     "output_type": "execute_result"
    }
   ],
   "source": [
    "# `[S, b, e]` shaped input, where [b, e] is broadcastable over [B, E]\n",
    "\n",
    "inp = tf.random.uniform((5, 1, 2, 1))\n",
    "ind_normal_distributions.log_prob(inp)"
   ]
  },
  {
   "cell_type": "markdown",
   "metadata": {},
   "source": [
    "#### Naive Bayes example\n",
    "\n",
    "Lets now use what we have learned and continue the Naive Bayes classifier we were building last tutorial."
   ]
  },
  {
   "cell_type": "code",
   "execution_count": 3,
   "metadata": {},
   "outputs": [],
   "source": [
    "from sklearn.datasets import fetch_20newsgroups\n",
    "from sklearn.feature_extraction.text import CountVectorizer\n",
    "from sklearn.naive_bayes import BernoulliNB\n",
    "from sklearn.metrics import f1_score"
   ]
  },
  {
   "cell_type": "code",
   "execution_count": 4,
   "metadata": {},
   "outputs": [],
   "source": [
    "# Making a function get_data which:\n",
    "#   1) Fetches the 20 newsgroup dataset\n",
    "#   2) Performs a word count on the articles and binarizes the result\n",
    "#   3) Returns the data as a numpy matrix with the labels\n",
    "\n",
    "def get_data(categories):\n",
    "    \n",
    "    newsgroups_train_data = fetch_20newsgroups(\n",
    "        data_home='20_Newsgroup_Data/',\n",
    "        subset='train', categories=categories)\n",
    "    newsgroups_test_data = fetch_20newsgroups(\n",
    "        data_home='20_Newsgroup_Data/',\n",
    "        subset='test', categories=categories)\n",
    "\n",
    "    n_documents = len(newsgroups_train_data['data'])\n",
    "    count_vectorizer = CountVectorizer(input='content', \n",
    "        binary=True, max_df=0.25, min_df=1.01/n_documents)\n",
    "    \n",
    "    train_binary_bag_of_words = count_vectorizer.fit_transform(\n",
    "        newsgroups_train_data['data'])\n",
    "    test_binary_bag_of_words = count_vectorizer.transform(\n",
    "        newsgroups_test_data['data']) \n",
    "\n",
    "    return (train_binary_bag_of_words.todense(), \n",
    "            newsgroups_train_data['target']), \\\n",
    "        (test_binary_bag_of_words.todense(), \n",
    "            newsgroups_test_data['target'])"
   ]
  },
  {
   "cell_type": "code",
   "execution_count": 5,
   "metadata": {},
   "outputs": [],
   "source": [
    "# Defining a function to conduct Laplace smoothing. This adds a base \n",
    "# level of probability for a given feature to occur in every class.\n",
    "\n",
    "def laplace_smoothing(labels, binary_data, n_classes):\n",
    "    # Compute the parameter estimates (adjusted fraction of documents \n",
    "    # in class that contain word)\n",
    "    n_words = binary_data.shape[1]\n",
    "    alpha = 1 # parameters for Laplace smoothing\n",
    "    # stores parameter values - prob. word given class\n",
    "    theta = np.zeros([n_classes, n_words])\n",
    "    for c_k in range(n_classes): # 0, 1, ..., 19\n",
    "        class_mask = (labels == c_k)\n",
    "        N = class_mask.sum() # number of articles in class\n",
    "        theta[c_k, :] = (binary_data[class_mask, :].sum(axis=0) \n",
    "            + alpha)/(N + alpha*2)\n",
    "\n",
    "    return theta"
   ]
  },
  {
   "cell_type": "code",
   "execution_count": 6,
   "metadata": {},
   "outputs": [],
   "source": [
    "# Getting a subset of the 20 newsgroup dataset\n",
    "\n",
    "categories = ['alt.atheism', 'talk.religion.misc', 'comp.graphics', \n",
    "    'sci.space']\n",
    "\n",
    "(train_data, train_labels), (test_data, test_labels) = get_data(\n",
    "    categories=categories)\n",
    "smoothed_counts = laplace_smoothing(labels=train_labels, \n",
    "    binary_data=train_data, n_classes=len(categories))"
   ]
  },
  {
   "cell_type": "markdown",
   "metadata": {},
   "source": [
    "To now make our NB classifier we need to build three functions:\n",
    "* Compute the class priors\n",
    "* Build our class conditional distributions\n",
    "* Put it all together and classify our data"
   ]
  },
  {
   "cell_type": "code",
   "execution_count": 7,
   "metadata": {},
   "outputs": [],
   "source": [
    "# Function which computes the prior probability of every class \n",
    "# based on frequency of occurence in the dataset\n",
    "\n",
    "def class_priors(n_classes, labels):\n",
    "    counts = np.zeros(n_classes)\n",
    "    for c_k in range(n_classes):\n",
    "        counts[c_k] = np.sum(np.where(labels==c_k, 1, 0))\n",
    "    priors = counts / np.sum(counts)\n",
    "    print('The class priors are {}'.format(priors))\n",
    "    return priors"
   ]
  },
  {
   "cell_type": "code",
   "execution_count": 8,
   "metadata": {},
   "outputs": [
    {
     "name": "stdout",
     "output_type": "stream",
     "text": [
      "The class priors are [0.2359882  0.28711898 0.29154376 0.18534907]\n"
     ]
    }
   ],
   "source": [
    "# Run the function \n",
    "\n",
    "priors = class_priors(n_classes=len(categories), labels=train_labels)"
   ]
  },
  {
   "cell_type": "code",
   "execution_count": 9,
   "metadata": {},
   "outputs": [
    {
     "data": {
      "text/plain": [
       "<tfp.distributions.Independent 'IndependentBernoulli' batch_shape=[4] event_shape=[17495] dtype=int32>"
      ]
     },
     "execution_count": 9,
     "metadata": {},
     "output_type": "execute_result"
    }
   ],
   "source": [
    "# Now we will do a function that given the feature occurence counts \n",
    "# returns a Bernoulli distribution of batch_shape=number of classes \n",
    "# and event_shape=number of features.\n",
    "\n",
    "def make_distribution(probs):\n",
    "    batch_of_bernoullis = tfd.Bernoulli(probs=probs)\n",
    "    dist = tfd.Independent(batch_of_bernoullis,\n",
    "        reinterpreted_batch_ndims=1)\n",
    "    \n",
    "    return dist\n",
    "\n",
    "tf_dist = make_distribution(smoothed_counts)\n",
    "tf_dist"
   ]
  },
  {
   "cell_type": "code",
   "execution_count": 10,
   "metadata": {},
   "outputs": [],
   "source": [
    "# The final function predict_sample which given the distribution, \n",
    "#  a test sample, and the class priors:\n",
    "#   1) Computes the class conditional probabilities given the sample\n",
    "#   2) Forms the joint likelihood\n",
    "#   3) Normalises the joint likelihood and returns the log prob\n",
    "\n",
    "def predict_sample(dist, sample, priors):\n",
    "    cond_probs = dist.log_prob(sample)\n",
    "    joint_likelihood = tf.add(np.log(priors), cond_probs)\n",
    "    norm_factor = tf.math.reduce_logsumexp(joint_likelihood, \n",
    "        axis=-1, keepdims=True)\n",
    "    log_prob = joint_likelihood - norm_factor\n",
    "    \n",
    "    return log_prob"
   ]
  },
  {
   "cell_type": "markdown",
   "metadata": {},
   "source": [
    "#### Computing log_probs"
   ]
  },
  {
   "cell_type": "code",
   "execution_count": 11,
   "metadata": {},
   "outputs": [
    {
     "data": {
      "text/plain": [
       "<tf.Tensor: shape=(4,), dtype=float32, numpy=\n",
       "array([-6.1736160e+01, -1.5258789e-05, -1.1619934e+01, -6.3327240e+01],\n",
       "      dtype=float32)>"
      ]
     },
     "execution_count": 11,
     "metadata": {},
     "output_type": "execute_result"
    }
   ],
   "source": [
    "# Predicting one example from our test data\n",
    "\n",
    "log_probs = predict_sample(tf_dist, test_data[0], priors)\n",
    "log_probs"
   ]
  },
  {
   "cell_type": "code",
   "execution_count": 12,
   "metadata": {},
   "outputs": [
    {
     "name": "stdout",
     "output_type": "stream",
     "text": [
      "f1  0.7848499112849504\n"
     ]
    }
   ],
   "source": [
    "# Loop over our test data and classify.\n",
    "\n",
    "probabilities = []\n",
    "for sample, label in zip(test_data, test_labels):\n",
    "    probabilities.append(tf.exp(\n",
    "        predict_sample(tf_dist, sample, priors)))\n",
    "\n",
    "probabilities = np.asarray(probabilities)\n",
    "predicted_classes = np.argmax(probabilities, axis =-1)\n",
    "print('f1 ', f1_score(\n",
    "    test_labels, predicted_classes, average='macro'))"
   ]
  },
  {
   "cell_type": "code",
   "execution_count": 13,
   "metadata": {},
   "outputs": [
    {
     "name": "stdout",
     "output_type": "stream",
     "text": [
      "f1 from sklean  0.7848499112849504\n"
     ]
    }
   ],
   "source": [
    "# Make a Bernoulli Naive Bayes classifier using \n",
    "# sklearn with the same level of alpha smoothing. \n",
    "\n",
    "clf = BernoulliNB(alpha=1)\n",
    "clf.fit(train_data, train_labels)\n",
    "pred = clf.predict(test_data)\n",
    "print('f1 from sklean ', f1_score(test_labels, pred, average='macro'))"
   ]
  },
  {
   "cell_type": "markdown",
   "metadata": {},
   "source": [
    "***\n",
    "<a id='trainable_distributions'></a>\n",
    "## Trainable Distributions"
   ]
  },
  {
   "cell_type": "code",
   "execution_count": 3,
   "metadata": {},
   "outputs": [
    {
     "name": "stdout",
     "output_type": "stream",
     "text": [
      "(<tf.Variable 'loc:0' shape=() dtype=float32, numpy=0.0>,)\n",
      "1.0900378\n",
      "1.0766755\n",
      "1.0646161\n",
      "1.0537324\n",
      "1.0439099\n",
      "1.0350451\n",
      "1.0270447\n",
      "1.0198243\n",
      "1.0133078\n",
      "1.0074267\n"
     ]
    }
   ],
   "source": [
    "import tensorflow as tf\n",
    "import tensorflow_probability as tfp\n",
    "tfd = tfp.distributions\n",
    "\n",
    "normal = tfd.Normal(loc=tf.Variable(0., name='loc'), scale=1.)\n",
    "print(normal.trainable_variables)\n",
    "\n",
    "def nll(x_train):\n",
    "    return -tf.reduce_mean(normal.log_prob(x_train))\n",
    "\n",
    "@tf.function\n",
    "def get_loss_and_grads(x_train):\n",
    "    with tf.GradientTape() as tape:\n",
    "        tape.watch(normal.trainable_variables)\n",
    "        loss = nll(x_train)\n",
    "    grads = tape.gradient(loss, normal.trainable_variables)\n",
    "    return loss, grads\n",
    "\n",
    "optimizer = tf.keras.optimizers.SGD(learning_rate=0.05)\n",
    "\n",
    "num_steps = 10\n",
    "x_samples = tf.random.uniform((1, 100))\n",
    "\n",
    "for _ in range(num_steps):\n",
    "    loss, grads = get_loss_and_grads(x_samples)\n",
    "    optimizer.apply_gradients(zip(grads, normal.trainable_variables))\n",
    "    print(loss.numpy())"
   ]
  },
  {
   "cell_type": "code",
   "execution_count": 4,
   "metadata": {},
   "outputs": [],
   "source": [
    "from sklearn.datasets import fetch_20newsgroups\n",
    "from sklearn.feature_extraction.text import CountVectorizer\n",
    "from sklearn.naive_bayes import BernoulliNB\n",
    "from sklearn.metrics import f1_score"
   ]
  },
  {
   "cell_type": "code",
   "execution_count": 5,
   "metadata": {},
   "outputs": [],
   "source": [
    "# Define an exponential distribution\n",
    "\n",
    "exponential = tfd.Exponential(rate=0.3, name='exp')"
   ]
  },
  {
   "cell_type": "code",
   "execution_count": 6,
   "metadata": {},
   "outputs": [
    {
     "data": {
      "image/png": "[encoded data removed]",
      "text/plain": [
       "<Figure size 432x288 with 1 Axes>"
      ]
     },
     "metadata": {
      "needs_background": "light"
     },
     "output_type": "display_data"
    }
   ],
   "source": [
    "# Plot\n",
    "\n",
    "plt.hist(exponential.sample(5000), bins=100, density=True)\n",
    "plt.show()"
   ]
  },
  {
   "cell_type": "code",
   "execution_count": 7,
   "metadata": {},
   "outputs": [
    {
     "data": {
      "text/plain": [
       "(<tf.Variable 'rate:0' shape=() dtype=float32, numpy=1.0>,)"
      ]
     },
     "execution_count": 7,
     "metadata": {},
     "output_type": "execute_result"
    }
   ],
   "source": [
    "# Define an exponential distribution with a trainable rate parameter\n",
    "\n",
    "exp_train = tfd.Exponential(rate=tf.Variable(1., name='rate'),\n",
    "    name='exp_train')\n",
    "exp_train.trainable_variables"
   ]
  },
  {
   "cell_type": "code",
   "execution_count": 8,
   "metadata": {},
   "outputs": [],
   "source": [
    "# Define the negative log likelihood\n",
    "\n",
    "def nll(x_train, distribution):\n",
    "    return -tf.reduce_mean(distribution.log_prob(x_train))"
   ]
  },
  {
   "cell_type": "code",
   "execution_count": 9,
   "metadata": {},
   "outputs": [],
   "source": [
    "# Define a function to compute the loss and gradients\n",
    "\n",
    "@tf.function\n",
    "def get_loss_and_grads(x_train, distribution):\n",
    "    with tf.GradientTape() as tape:\n",
    "        tape.watch(distribution.trainable_variables)\n",
    "        loss = nll(x_train, distribution)\n",
    "        grads = tape.gradient(loss, distribution.trainable_variables)\n",
    "    return loss, grads"
   ]
  },
  {
   "cell_type": "code",
   "execution_count": 10,
   "metadata": {},
   "outputs": [],
   "source": [
    "# Optimize\n",
    "\n",
    "def exponential_dist_optimisation(data, distribution):\n",
    "\n",
    "    # Keep results for plotting\n",
    "    train_loss_results = []\n",
    "    train_rate_results = []\n",
    "    \n",
    "    optimizer = tf.keras.optimizers.SGD(learning_rate=0.05)\n",
    "\n",
    "    num_steps = 10\n",
    "\n",
    "    for i in range(num_steps):\n",
    "        loss, grads = get_loss_and_grads(data, distribution)\n",
    "        optimizer.apply_gradients(\n",
    "            zip(grads, distribution.trainable_variables))\n",
    "        \n",
    "        rate_value = distribution.rate.value()\n",
    "        train_loss_results.append(loss)\n",
    "        train_rate_results.append(rate_value)\n",
    "        \n",
    "        print(\"Step {:03d}: Loss: {:.3f}: Rate: {:.3f}\".format(\n",
    "            i, loss, rate_value))\n",
    "        \n",
    "    return train_loss_results, train_rate_results"
   ]
  },
  {
   "cell_type": "code",
   "execution_count": 11,
   "metadata": {},
   "outputs": [
    {
     "name": "stdout",
     "output_type": "stream",
     "text": [
      "Step 000: Loss: 3.309: Rate: 0.885\n",
      "Step 001: Loss: 3.050: Rate: 0.776\n",
      "Step 002: Loss: 2.821: Rate: 0.675\n",
      "Step 003: Loss: 2.626: Rate: 0.583\n",
      "Step 004: Loss: 2.469: Rate: 0.504\n",
      "Step 005: Loss: 2.352: Rate: 0.437\n",
      "Step 006: Loss: 2.274: Rate: 0.386\n",
      "Step 007: Loss: 2.229: Rate: 0.350\n",
      "Step 008: Loss: 2.208: Rate: 0.328\n",
      "Step 009: Loss: 2.200: Rate: 0.315\n"
     ]
    }
   ],
   "source": [
    "# Get some data and train\n",
    "\n",
    "sampled_data = exponential.sample(5000)\n",
    "train_loss_results, train_rate_results = exponential_dist_optimisation(\n",
    "    data=sampled_data, distribution=exp_train)"
   ]
  },
  {
   "cell_type": "code",
   "execution_count": 12,
   "metadata": {},
   "outputs": [
    {
     "name": "stdout",
     "output_type": "stream",
     "text": [
      "Exact rate:  0.3\n",
      "Pred rate:   0.31472635\n"
     ]
    }
   ],
   "source": [
    "# Predicted value for the rate parameter\n",
    "\n",
    "pred_value = exp_train.rate.numpy()\n",
    "exact_value = exponential.rate.numpy()\n",
    "\n",
    "print(\"Exact rate: \", exact_value)\n",
    "print(\"Pred rate:  \", pred_value)"
   ]
  },
  {
   "cell_type": "code",
   "execution_count": 13,
   "metadata": {},
   "outputs": [
    {
     "data": {
      "image/png": "[encoded data removed]",
      "text/plain": [
       "<Figure size 864x576 with 2 Axes>"
      ]
     },
     "metadata": {
      "needs_background": "light"
     },
     "output_type": "display_data"
    }
   ],
   "source": [
    "# Plot to see the convergence of the estimated and true parameters\n",
    "\n",
    "tensor_exact_value = tf.constant(exact_value, shape=[len(train_rate_results)])\n",
    "\n",
    "fig, axes = plt.subplots(2, sharex=True, figsize=(12, 8))\n",
    "fig.suptitle('Convergence')\n",
    "\n",
    "axes[0].set_ylabel(\"Loss\", fontsize=14)\n",
    "axes[0].plot(train_loss_results)\n",
    "\n",
    "axes[1].set_ylabel(\"Rate\", fontsize=14)\n",
    "axes[1].set_xlabel(\"Epoch\", fontsize=14)\n",
    "axes[1].plot(train_rate_results, label='trainable rate variable')\n",
    "axes[1].plot(tensor_exact_value, label='exact rate')\n",
    "axes[1].legend()\n",
    "plt.show()"
   ]
  },
  {
   "cell_type": "code",
   "execution_count": 14,
   "metadata": {},
   "outputs": [],
   "source": [
    "# Making a function get_data which:\n",
    "#   1) Fetches the 20 newsgroup dataset\n",
    "#   2) Performs a word count on the articles and binarizes the result\n",
    "#   3) Returns the data as a numpy matrix with the labels\n",
    "\n",
    "def get_data(categories):\n",
    "\n",
    "    newsgroups_train_data = fetch_20newsgroups(\n",
    "        data_home='20_Newsgroup_Data/', subset='train', \n",
    "        categories=categories)\n",
    "    newsgroups_test_data = fetch_20newsgroups(\n",
    "        data_home='20_Newsgroup_Data/', subset='test', \n",
    "        categories=categories)\n",
    "\n",
    "    n_documents = len(newsgroups_train_data['data'])\n",
    "    count_vectorizer = CountVectorizer(input='content', binary=True, \n",
    "        max_df=0.25, min_df=1.01/n_documents) \n",
    "    train_binary_bag_of_words = count_vectorizer.fit_transform(\n",
    "        newsgroups_train_data['data']) \n",
    "    test_binary_bag_of_words = count_vectorizer.transform(\n",
    "        newsgroups_test_data['data']) \n",
    "\n",
    "    return (train_binary_bag_of_words.todense(), \n",
    "            newsgroups_train_data['target']), \\\n",
    "        (test_binary_bag_of_words.todense(), \n",
    "             newsgroups_test_data['target'])"
   ]
  },
  {
   "cell_type": "code",
   "execution_count": 15,
   "metadata": {},
   "outputs": [],
   "source": [
    "# Defining a function to conduct laplace smoothing. This adds a base \n",
    "# level of probability for a given feature to occur in every class.\n",
    "\n",
    "def laplace_smoothing(labels, binary_data, n_classes):\n",
    "    # Compute the parameter estimates (adjusted fraction of documents \n",
    "    # in class that contain word)\n",
    "    n_words = binary_data.shape[1]\n",
    "    alpha = 1 # parameters for Laplace smoothing\n",
    "    theta = np.zeros([n_classes, n_words]) # stores parameter values - prob. word given class\n",
    "    for c_k in range(n_classes): # 0, 1, ..., 19\n",
    "        class_mask = (labels == c_k)\n",
    "        N = class_mask.sum() # number of articles in class\n",
    "        theta[c_k, :] = (binary_data[class_mask, :].sum(axis=0) \n",
    "            + alpha)/(N + alpha*2)\n",
    "\n",
    "    return theta"
   ]
  },
  {
   "cell_type": "code",
   "execution_count": 16,
   "metadata": {},
   "outputs": [],
   "source": [
    "# Now we will do a function that given the feature occurence counts \n",
    "# returns a Bernoulli distribution of batch_shape=number of classes \n",
    "# and event_shape=number of features.\n",
    "\n",
    "def make_distributions(probs):\n",
    "    # shape (n_classes, n_words)\n",
    "    batch_of_bernoullis = tfd.Bernoulli(probs=probs)\n",
    "    dist = tfd.Independent(batch_of_bernoullis, \n",
    "        reinterpreted_batch_ndims=1)\n",
    "    return dist"
   ]
  },
  {
   "cell_type": "code",
   "execution_count": 17,
   "metadata": {},
   "outputs": [],
   "source": [
    "# Function which computes the prior probability of every class \n",
    "# based on frequency of occurence in the dataset\n",
    "\n",
    "def class_priors(n_classes, labels):\n",
    "    counts = np.zeros(n_classes)\n",
    "    for c_k in range(n_classes):\n",
    "        counts[c_k] = np.sum(np.where(labels==c_k, 1, 0))\n",
    "    priors = counts / np.sum(counts)\n",
    "    print('The class priors are {}'.format(priors))\n",
    "    return priors"
   ]
  },
  {
   "cell_type": "code",
   "execution_count": 18,
   "metadata": {},
   "outputs": [],
   "source": [
    "# The final function predict_sample which given the distribution, \n",
    "# a test sample, and the class priors:\n",
    "#   1) Computes the class conditional probabilities given the sample\n",
    "#   2) Forms the joint likelihood\n",
    "#   3) Normalises the joint likelihood and returns the log prob\n",
    "\n",
    "def predict_sample(dist, sample, priors):\n",
    "    cond_probs = dist.log_prob(sample)\n",
    "    joint_likelihood = tf.add(np.log(priors), cond_probs)\n",
    "    norm_factor = tf.math.reduce_logsumexp(joint_likelihood, \n",
    "        axis=-1, keepdims=True)\n",
    "    log_prob = joint_likelihood - norm_factor\n",
    "\n",
    "    return log_prob"
   ]
  },
  {
   "cell_type": "code",
   "execution_count": 19,
   "metadata": {},
   "outputs": [],
   "source": [
    "# Now we learn the distribution using gradient tape\n",
    "\n",
    "def make_distribution_withGT(data, labels, nb_classes):\n",
    "\n",
    "    class_data = []\n",
    "    train_vars = []\n",
    "    distributions = []\n",
    "    for c in range(nb_classes):\n",
    "        train_vars.append(tf.Variable(initial_value=np.random.uniform(\n",
    "            low=0.01, high=0.1, size=data.shape[-1])))\n",
    "        distributions.append(tfd.Bernoulli(probs=train_vars[c]))\n",
    "        class_mask = (labels == c)\n",
    "        class_data.append(data[class_mask, :])\n",
    "\n",
    "    for c_num in range(0,nb_classes):\n",
    "        optimizer = tf.keras.optimizers.Adam()\n",
    "        print('\\n%-------------------%')\n",
    "        print('Class ', c_num)\n",
    "        print('%-------------------%')\n",
    "\n",
    "        for i in range(0,100):\n",
    "            loss, grads = get_loss_and_grads(class_data[c_num],\n",
    "                distributions[c_num])\n",
    "            if(i%10==0):\n",
    "                print(\"iter: {} loss: {}\".format(i, loss))\n",
    "            optimizer.apply_gradients(zip(grads, \n",
    "                distributions[c_num].trainable_variables))\n",
    "            eta = 1e-3\n",
    "            clipped_probs = tf.clip_by_value(\n",
    "                distributions[c_num].trainable_variables, \n",
    "                clip_value_min=eta, clip_value_max=1)\n",
    "            train_vars[c_num] = tf.squeeze(clipped_probs)\n",
    "            \n",
    "    dist = tfd.Bernoulli(probs=train_vars)\n",
    "    dist = tfd.Independent(dist,reinterpreted_batch_ndims=1)\n",
    "\n",
    "    print(dist)\n",
    "\n",
    "    return dist"
   ]
  },
  {
   "cell_type": "code",
   "execution_count": 20,
   "metadata": {},
   "outputs": [
    {
     "name": "stdout",
     "output_type": "stream",
     "text": [
      "The class priors are [0.2359882  0.28711898 0.29154376 0.18534907]\n"
     ]
    }
   ],
   "source": [
    "# Make the same Naive Bayes classifier we did last tutorial\n",
    "\n",
    "categories = ['alt.atheism', 'talk.religion.misc', \n",
    "    'comp.graphics', 'sci.space']\n",
    "\n",
    "(train_data, train_labels), (test_data, test_labels) = get_data(\n",
    "    categories)\n",
    "\n",
    "smoothed_counts = laplace_smoothing(labels=train_labels, \n",
    "    binary_data=train_data, n_classes=len(categories))\n",
    "\n",
    "priors = class_priors(n_classes=len(categories), labels=train_labels)\n",
    "tf_dist = make_distributions(smoothed_counts)"
   ]
  },
  {
   "cell_type": "code",
   "execution_count": 21,
   "metadata": {},
   "outputs": [
    {
     "name": "stdout",
     "output_type": "stream",
     "text": [
      "\n",
      "%-------------------%\n",
      "Class  0\n",
      "%-------------------%\n",
      "iter: 0 loss: 0.07893383505811877\n",
      "iter: 10 loss: 0.06950961424565315\n",
      "iter: 20 loss: 0.06076103822964398\n",
      "iter: 30 loss: 0.05268720132658726\n",
      "iter: 40 loss: 0.04522115563073091\n",
      "iter: 50 loss: 0.03830028969200684\n",
      "iter: 60 loss: 0.031890507207503256\n",
      "iter: 70 loss: 0.025953187261361414\n",
      "iter: 80 loss: 0.020457821368068438\n",
      "iter: 90 loss: 0.015353578435938707\n",
      "\n",
      "%-------------------%\n",
      "Class  1\n",
      "%-------------------%\n",
      "iter: 0 loss: 0.07179077365205898\n",
      "iter: 10 loss: 0.06244066710336413\n",
      "iter: 20 loss: 0.0536424411414668\n",
      "iter: 30 loss: 0.045450697909507655\n",
      "iter: 40 loss: 0.03784726894282388\n",
      "iter: 50 loss: 0.030809094742758957\n",
      "iter: 60 loss: 0.02431589786001977\n",
      "iter: 70 loss: 0.018329499168561955\n",
      "iter: 80 loss: 0.012801474767584654\n",
      "iter: 90 loss: 0.007688440048082792\n",
      "\n",
      "%-------------------%\n",
      "Class  2\n",
      "%-------------------%\n",
      "iter: 0 loss: 0.07796516230403333\n",
      "iter: 10 loss: 0.06893818041856108\n",
      "iter: 20 loss: 0.060610400300065946\n",
      "iter: 30 loss: 0.053016611073713096\n",
      "iter: 40 loss: 0.04613288071863426\n",
      "iter: 50 loss: 0.039885658731757874\n",
      "iter: 60 loss: 0.03424643117697028\n",
      "iter: 70 loss: 0.029159836974045984\n",
      "iter: 80 loss: 0.024585246490411144\n",
      "iter: 90 loss: 0.020470768722401955\n",
      "\n",
      "%-------------------%\n",
      "Class  3\n",
      "%-------------------%\n",
      "iter: 0 loss: 0.07945841313013786\n",
      "iter: 10 loss: 0.07020563692355622\n",
      "iter: 20 loss: 0.06161205892491948\n",
      "iter: 30 loss: 0.053655706506889424\n",
      "iter: 40 loss: 0.046289696253368255\n",
      "iter: 50 loss: 0.03947181660456467\n",
      "iter: 60 loss: 0.033155329227057245\n",
      "iter: 70 loss: 0.027288599716946926\n",
      "iter: 80 loss: 0.021826876164650264\n",
      "iter: 90 loss: 0.016722457240218695\n",
      "tfp.distributions.Independent(\"IndependentBernoulli\", batch_shape=[4], event_shape=[17495], dtype=int32)\n"
     ]
    }
   ],
   "source": [
    "# Now train the distributions with gradient tape\n",
    "\n",
    "GT_dist = make_distribution_withGT(data=train_data, \n",
    "    labels=train_labels, nb_classes=4)"
   ]
  },
  {
   "cell_type": "code",
   "execution_count": 22,
   "metadata": {},
   "outputs": [
    {
     "name": "stdout",
     "output_type": "stream",
     "text": [
      "f1  0.8236432097209768\n",
      "f1  0.7848499112849504\n"
     ]
    }
   ],
   "source": [
    "# Compare the two results\n",
    "\n",
    "for dist in [GT_dist,tf_dist]:\n",
    "    probabilities = []\n",
    "    for sample, label in zip(test_data, test_labels):\n",
    "        probabilities.append(predict_sample(dist, sample, priors))\n",
    "\n",
    "    probabilities = np.asarray(probabilities)\n",
    "    predicted_classes = np.argmax(probabilities, axis =-1)\n",
    "    print('f1 ', f1_score(test_labels, predicted_classes, average='macro'))"
   ]
  }
 ],
 "metadata": {
  "kernelspec": {
   "display_name": "Python 3",
   "language": "python",
   "name": "python3"
  },
  "language_info": {
   "codemirror_mode": {
    "name": "ipython",
    "version": 3
   },
   "file_extension": ".py",
   "mimetype": "text/x-python",
   "name": "python",
   "nbconvert_exporter": "python",
   "pygments_lexer": "ipython3",
   "version": "3.7.1"
  }
 },
 "nbformat": 4,
 "nbformat_minor": 4
}
