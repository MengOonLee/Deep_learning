{
  "nbformat": 4,
  "nbformat_minor": 0,
  "metadata": {
    "kernelspec": {
      "name": "python3",
      "display_name": "Python 3"
    },
    "colab": {
      "name": "Capstone Project.ipynb",
      "provenance": [],
      "collapsed_sections": [],
      "include_colab_link": true
    },
    "accelerator": "GPU"
  },
  "cells": [
    {
      "cell_type": "markdown",
      "metadata": {
        "id": "view-in-github",
        "colab_type": "text"
      },
      "source": [
        "<a href=\"https://colab.research.google.com/github/MengOonLee/Deep_learning/blob/master/TensorFlow2/Tutorial/Customising_TensorFlow2_models/Neural_translation/Neural_translation_English_German.ipynb\" target=\"_parent\"><img src=\"https://colab.research.google.com/assets/colab-badge.svg\" alt=\"Open In Colab\"/></a>"
      ]
    },
    {
      "cell_type": "markdown",
      "metadata": {
        "id": "vsX0L1sG1iZj"
      },
      "source": [
        "# Capstone Project\n",
        "## Neural translation model\n",
        "### Instructions\n",
        "\n",
        "In this notebook, you will create a neural network that translates from English to German. You will use concepts from throughout this course, including building more flexible model architectures, freezing layers, data processing pipeline and sequence modelling.\n",
        "\n",
        "This project is peer-assessed. Within this notebook you will find instructions in each section for how to complete the project. Pay close attention to the instructions as the peer review will be carried out according to a grading rubric that checks key parts of the project instructions. Feel free to add extra cells into the notebook as required.\n",
        "\n",
        "### How to submit\n",
        "\n",
        "When you have completed the Capstone project notebook, you will submit a pdf of the notebook for peer review. First ensure that the notebook has been fully executed from beginning to end, and all of the cell outputs are visible. This is important, as the grading rubric depends on the reviewer being able to view the outputs of your notebook. Save the notebook as a pdf (you could download the notebook with File -> Download .ipynb, open the notebook locally, and then File -> Download as -> PDF via LaTeX), and then submit this pdf for review.\n",
        "\n",
        "### Let's get started!\n",
        "\n",
        "We'll start by running some imports, and loading the dataset. For this project you are free to make further imports throughout the notebook as you wish. "
      ]
    },
    {
      "cell_type": "code",
      "metadata": {
        "id": "2VyTvxPN1iZn"
      },
      "source": [
        "import tensorflow as tf\n",
        "import tensorflow_hub as hub\n",
        "import unicodedata\n",
        "import re\n",
        "import os\n",
        "import numpy as np\n",
        "from time import time\n",
        "\n",
        "import matplotlib.pyplot as plt\n",
        "%matplotlib inline\n",
        "\n",
        "from tensorflow.keras.preprocessing.text import Tokenizer\n",
        "from tensorflow.keras.preprocessing.sequence import pad_sequences\n",
        "from sklearn.model_selection import train_test_split\n",
        "from tensorflow.keras.layers import Layer, Concatenate, Input, Masking, LSTM, \\\n",
        "    Embedding, Dense\n",
        "from tensorflow.keras.models import Model\n",
        "from tensorflow.keras.losses import SparseCategoricalCrossentropy\n",
        "from tensorflow.keras.optimizers import Adam\n",
        "from tensorflow.keras.metrics import Mean, SparseCategoricalAccuracy\n",
        "from tensorflow.train import Checkpoint, latest_checkpoint"
      ],
      "execution_count": 1,
      "outputs": []
    },
    {
      "cell_type": "markdown",
      "metadata": {
        "id": "wuIi4lAR1iZt"
      },
      "source": [
        "![Flags overview image](https://github.com/MengOonLee/Deep_learning/blob/master/TensorFlow2/Tutorial/image/neural_translation/germany_uk_flags.png?raw=1)\n",
        "\n",
        "For the capstone project, you will use a language dataset from http://www.manythings.org/anki/ to build a neural translation model. This dataset consists of over 200,000 pairs of sentences in English and German. In order to make the training quicker, we will restrict to our dataset to 20,000 pairs. Feel free to change this if you wish - the size of the dataset used is not part of the grading rubric.\n",
        "\n",
        "Your goal is to develop a neural translation model from English to German, making use of a pre-trained English word embedding module."
      ]
    },
    {
      "cell_type": "markdown",
      "metadata": {
        "id": "pi9Dq6vv3FVO"
      },
      "source": [
        "#### Import the data\n",
        "\n",
        "The dataset is available for download as a zip file at the following link:\n",
        "\n",
        "https://drive.google.com/open?id=1KczOciG7sYY7SB9UlBeRP1T9659b121Q\n",
        "\n",
        "You should store the unzipped folder in local drive for use in this Colab notebook."
      ]
    },
    {
      "cell_type": "code",
      "metadata": {
        "id": "dX21AuCFgxuV"
      },
      "source": [
        "os.makedirs(\"./data\", exist_ok=True)"
      ],
      "execution_count": 2,
      "outputs": []
    },
    {
      "cell_type": "code",
      "metadata": {
        "colab": {
          "base_uri": "https://localhost:8080/"
        },
        "id": "MAfYIl-cERc_",
        "outputId": "b890792e-f671-4478-c60a-69943afa2c88"
      },
      "source": [
        "%%bash\n",
        "\n",
        "fileid=\"1KczOciG7sYY7SB9UlBeRP1T9659b121Q\"\n",
        "filename=\"./data/deu.txt\"\n",
        "curl -c ./cookie -s -L \"https://drive.google.com/uc?export=download&id=${fileid}\" > /dev/null\n",
        "curl -Lb ./cookie \"https://drive.google.com/uc?export=download&confirm=`awk '/download/ {print $NF}' ./cookie`&id=${fileid}\" -o ${filename}"
      ],
      "execution_count": 3,
      "outputs": [
        {
          "output_type": "stream",
          "text": [
            "  % Total    % Received % Xferd  Average Speed   Time    Time     Time  Current\n",
            "                                 Dload  Upload   Total   Spent    Left  Speed\n",
            "\r  0     0    0     0    0     0      0      0 --:--:-- --:--:-- --:--:--     0\r  0     0    0     0    0     0      0      0 --:--:--  0:00:01 --:--:--     0\r100   408    0   408    0     0    310      0 --:--:--  0:00:01 --:--:--   310\n",
            "\r  0     0    0     0    0     0      0      0 --:--:--  0:00:01 --:--:--     0\n",
            "\r  0     0    0     0    0     0      0      0 --:--:--  0:00:01 --:--:--     0\n",
            "\r100 29.9M    0 29.9M    0     0  18.5M      0 --:--:--  0:00:01 --:--:-- 18.5M\n"
          ],
          "name": "stderr"
        }
      ]
    },
    {
      "cell_type": "code",
      "metadata": {
        "id": "o8PetPpw1iZu"
      },
      "source": [
        "# Run this cell to load the dataset\n",
        "\n",
        "NUM_EXAMPLES = 2000000\n",
        "data_examples = []\n",
        "with open('data/deu.txt', 'r', encoding='utf8') as f:\n",
        "    for line in f.readlines():\n",
        "        if len(data_examples) < NUM_EXAMPLES:\n",
        "            data_examples.append(line)\n",
        "        else:\n",
        "            break"
      ],
      "execution_count": 4,
      "outputs": []
    },
    {
      "cell_type": "code",
      "metadata": {
        "id": "JumLjJ631iZy"
      },
      "source": [
        "# These functions preprocess English and German sentences\n",
        "\n",
        "def unicode_to_ascii(s):\n",
        "    return ''.join(c for c in unicodedata.normalize('NFD', s) \n",
        "        if unicodedata.category(c) != 'Mn')\n",
        "\n",
        "def preprocess_sentence(sentence):\n",
        "    sentence = sentence.lower().strip()\n",
        "    sentence = re.sub(r\"ü\", 'ue', sentence)\n",
        "    sentence = re.sub(r\"ä\", 'ae', sentence)\n",
        "    sentence = re.sub(r\"ö\", 'oe', sentence)\n",
        "    sentence = re.sub(r'ß', 'ss', sentence)\n",
        "    \n",
        "    sentence = unicode_to_ascii(sentence)\n",
        "    sentence = re.sub(r\"([?.!,])\", r\" \\1 \", sentence)\n",
        "    sentence = re.sub(r\"[^a-z?.!,']+\", \" \", sentence)\n",
        "    sentence = re.sub(r'[\" \"]+', \" \", sentence)\n",
        "    \n",
        "    return sentence.strip()"
      ],
      "execution_count": 5,
      "outputs": []
    },
    {
      "cell_type": "markdown",
      "metadata": {
        "id": "XFJap-TW1iZ2"
      },
      "source": [
        "#### The custom translation model\n",
        "The following is a schematic of the custom translation model architecture you will develop in this project.\n",
        "\n",
        "![Model Schematic](https://github.com/MengOonLee/Deep_learning/blob/master/TensorFlow2/Tutorial/image/neural_translation/neural_translation_model.png?raw=1)\n",
        "\n",
        "Key:\n",
        "![Model key](https://github.com/MengOonLee/Deep_learning/blob/master/TensorFlow2/Tutorial/image/neural_translation/neural_translation_model_key.png?raw=1)\n",
        "\n",
        "The custom model consists of an encoder RNN and a decoder RNN. The encoder takes words of an English sentence as input, and uses a pre-trained word embedding to embed the words into a 128-dimensional space. To indicate the end of the input sentence, a special end token (in the same 128-dimensional space) is passed in as an input. This token is a TensorFlow Variable that is learned in the training phase (unlike the pre-trained word embedding, which is frozen).\n",
        "\n",
        "The decoder RNN takes the internal state of the encoder network as its initial state. A `<start>` token is passed in as the first input, which is embedded using a learned German word embedding. The decoder RNN then makes a prediction for the next German word, which during inference is then passed in as the following input, and this process is repeated until the special `<end>` token is emitted from the decoder."
      ]
    },
    {
      "cell_type": "markdown",
      "metadata": {
        "id": "z70nu6_01iZ3"
      },
      "source": [
        "## 1. Text preprocessing\n",
        "* Create separate lists of English and German sentences, and preprocess them using the `preprocess_sentence` function provided for you above.\n",
        "* Add a special `\"<start>\"` and `\"<end>\"` token to the beginning and end of every German sentence.\n",
        "* Use the Tokenizer class from the `tf.keras.preprocessing.text` module to tokenize the German sentences, ensuring that no character filters are applied. _Hint: use the Tokenizer's \"filter\" keyword argument._\n",
        "* Print out at least 5 randomly chosen examples of (preprocessed) English and German sentence pairs. For the German sentence, print out the text (with start and end tokens) as well as the tokenized sequence.\n",
        "* Pad the end of the tokenized German sequences with zeros, and batch the complete set of sequences into one numpy array."
      ]
    },
    {
      "cell_type": "code",
      "metadata": {
        "scrolled": true,
        "id": "9G20C4bk1iZ4",
        "colab": {
          "base_uri": "https://localhost:8080/"
        },
        "outputId": "635b67c6-5bae-483e-c359-9a24f0ae30ad"
      },
      "source": [
        "def create_sentence(data):\n",
        "    \"\"\"\n",
        "    Preprocess the data using the preprocess_sentence function\n",
        "    and return sentence pairs.\n",
        "    \"\"\"\n",
        "    sentence_pair = [[preprocess_sentence(w) for w in l.split('\\t')][:2] \n",
        "        for l in data]\n",
        "    return zip(*sentence_pair)\n",
        "\n",
        "# get pairs\n",
        "en_sentence, ge_sentence = create_sentence(data_examples)\n",
        "# show last 5 pairs\n",
        "for pair in zip(en_sentence[-5:], ge_sentence[-5:]):\n",
        "    print(pair)"
      ],
      "execution_count": 6,
      "outputs": [
        {
          "output_type": "stream",
          "text": [
            "(\"even if some sentences by non native speakers are good , it's really hard to trust that they are good , so members would be helping us much more by limiting their contributions to sentences in their own native languages .\", 'auch wenn saetze von nichtmuttersprachlern mitunter durchaus gut sind , kann man sich doch schwer darauf verlassen . eine groessere hilfe ist es daher , wenn man sich darauf beschraenkt , saetze in seiner muttersprache beizutragen .')\n",
            "(\"if someone who doesn't know your background says that you sound like a native speaker , it means they probably noticed something about your speaking that made them realize you weren't a native speaker . in other words , you don't really sound like a native speaker .\", 'wenn jemand , der deine herkunft nicht kennt , sagt , dass du wie ein muttersprachler sprichst , bedeutet das , dass man wahrscheinlich etwas an deiner sprechweise bemerkt hat , das erkennen liess , dass du kein muttersprachler bist . mit anderen worten , du hoerst dich nicht wirklich wie ein muttersprachler an .')\n",
            "(\"if someone who doesn't know your background says that you sound like a native speaker , it means they probably noticed something about your speaking that made them realize you weren't a native speaker . in other words , you don't really sound like a native speaker .\", 'wenn jemand fremdes dir sagt , dass du dich wie ein muttersprachler anhoerst , bedeutet das wahrscheinlich er hat etwas an deinem sprechen bemerkt , dass dich als nicht muttersprachler verraten hat . mit anderen worten du hoerst dich nicht wirklich wie ein muttersprachler an .')\n",
            "('it may be impossible to get a completely error free corpus due to the nature of this kind of collaborative effort . however , if we encourage members to contribute sentences in their own languages rather than experiment in languages they are learning , we might be able to minimize errors .', 'es ist wohl unmoeglich , einen vollkommen fehlerfreien korpus zu erreichen das liegt in der natur eines solchen gemeinschaftsprojekts . doch wenn wir unsere mitglieder dazu bringen koennen , nicht mit sprachen herumzuexperimentieren , die sie gerade lernen , sondern saetze in ihrer eigenen muttersprache beizutragen , dann gelingt es uns vielleicht , die zahl der fehler klein zu halten .')\n",
            "('doubtless there exists in this world precisely the right woman for any given man to marry and vice versa but when you consider that a human being has the opportunity of being acquainted with only a few hundred people , and out of the few hundred that there are but a dozen or less whom he knows intimately , and out of the dozen , one or two friends at most , it will easily be seen , when we remember the number of millions who inhabit this world , that probably , since the earth was created , the right man has never yet met the right woman .', 'ohne zweifel findet sich auf dieser welt zu jedem mann genau die richtige ehefrau und umgekehrt wenn man jedoch in betracht zieht , dass ein mensch nur gelegenheit hat , mit ein paar hundert anderen bekannt zu sein , von denen ihm nur ein dutzend oder weniger nahesteht , darunter hoechstens ein oder zwei freunde , dann erahnt man eingedenk der millionen einwohner dieser welt leicht , dass seit erschaffung ebenderselben wohl noch nie der richtige mann der richtigen frau begegnet ist .')\n"
          ],
          "name": "stdout"
        }
      ]
    },
    {
      "cell_type": "code",
      "metadata": {
        "id": "DhdUE_5ukdjv",
        "colab": {
          "base_uri": "https://localhost:8080/"
        },
        "outputId": "00811315-7429-4473-d476-728df884f641"
      },
      "source": [
        "def add_start_end(sentence):\n",
        "    \"\"\"\n",
        "    Adding a start and end token to the sentence so that the\n",
        "    model know when to start and stop predicting.\n",
        "    \"\"\"\n",
        "    return [\"<start> \" + s + \" <end>\" for s in sentence]\n",
        "\n",
        "ge_sentence_start_end = add_start_end(ge_sentence)\n",
        "# Print last 5 results\n",
        "for sentence in ge_sentence_start_end[-5:]:\n",
        "    print(sentence)"
      ],
      "execution_count": 7,
      "outputs": [
        {
          "output_type": "stream",
          "text": [
            "<start> auch wenn saetze von nichtmuttersprachlern mitunter durchaus gut sind , kann man sich doch schwer darauf verlassen . eine groessere hilfe ist es daher , wenn man sich darauf beschraenkt , saetze in seiner muttersprache beizutragen . <end>\n",
            "<start> wenn jemand , der deine herkunft nicht kennt , sagt , dass du wie ein muttersprachler sprichst , bedeutet das , dass man wahrscheinlich etwas an deiner sprechweise bemerkt hat , das erkennen liess , dass du kein muttersprachler bist . mit anderen worten , du hoerst dich nicht wirklich wie ein muttersprachler an . <end>\n",
            "<start> wenn jemand fremdes dir sagt , dass du dich wie ein muttersprachler anhoerst , bedeutet das wahrscheinlich er hat etwas an deinem sprechen bemerkt , dass dich als nicht muttersprachler verraten hat . mit anderen worten du hoerst dich nicht wirklich wie ein muttersprachler an . <end>\n",
            "<start> es ist wohl unmoeglich , einen vollkommen fehlerfreien korpus zu erreichen das liegt in der natur eines solchen gemeinschaftsprojekts . doch wenn wir unsere mitglieder dazu bringen koennen , nicht mit sprachen herumzuexperimentieren , die sie gerade lernen , sondern saetze in ihrer eigenen muttersprache beizutragen , dann gelingt es uns vielleicht , die zahl der fehler klein zu halten . <end>\n",
            "<start> ohne zweifel findet sich auf dieser welt zu jedem mann genau die richtige ehefrau und umgekehrt wenn man jedoch in betracht zieht , dass ein mensch nur gelegenheit hat , mit ein paar hundert anderen bekannt zu sein , von denen ihm nur ein dutzend oder weniger nahesteht , darunter hoechstens ein oder zwei freunde , dann erahnt man eingedenk der millionen einwohner dieser welt leicht , dass seit erschaffung ebenderselben wohl noch nie der richtige mann der richtigen frau begegnet ist . <end>\n"
          ],
          "name": "stdout"
        }
      ]
    },
    {
      "cell_type": "code",
      "metadata": {
        "id": "5UlnBdIK1iaE",
        "colab": {
          "base_uri": "https://localhost:8080/"
        },
        "outputId": "f72f4f11-18e5-4d39-d1b1-8fdbec58bb2a"
      },
      "source": [
        "def create_tokenizer(sentence):\n",
        "    \"\"\"\n",
        "    Create and return a Tokenizer.\n",
        "    \"\"\"\n",
        "    tokenizer = Tokenizer(filters='')\n",
        "    tokenizer.fit_on_texts(sentence)\n",
        "    return tokenizer\n",
        "\n",
        "# Build the German tokenizer vocabulary\n",
        "ge_tokenizer = create_tokenizer(ge_sentence_start_end)\n",
        "# Tokenize the German sentences\n",
        "ge_sequence = ge_tokenizer.texts_to_sequences(ge_sentence_start_end)\n",
        "# Print last 5 results\n",
        "for sequence in ge_sequence[-5:]:\n",
        "    print(sequence)"
      ],
      "execution_count": 8,
      "outputs": [
        {
          "output_type": "stream",
          "text": [
            "[1, 167, 63, 2571, 43, 33704, 9292, 4151, 74, 41, 4, 40, 90, 27, 188, 288, 353, 472, 3, 34, 2381, 220, 9, 14, 1676, 4, 63, 90, 27, 353, 11286, 4, 2571, 19, 218, 2335, 9634, 3, 2]\n",
            "[1, 63, 249, 4, 17, 114, 8088, 8, 504, 4, 207, 4, 20, 12, 30, 21, 1954, 1197, 4, 1027, 11, 4, 20, 90, 525, 62, 38, 400, 10908, 1719, 18, 4, 11, 1769, 444, 4, 20, 12, 123, 1954, 69, 3, 28, 341, 4180, 4, 12, 1433, 50, 8, 152, 30, 21, 1954, 38, 3, 2]\n",
            "[1, 63, 249, 13701, 52, 207, 4, 20, 12, 50, 30, 21, 1954, 10912, 4, 1027, 11, 525, 16, 18, 62, 38, 549, 168, 1719, 4, 20, 50, 49, 8, 1954, 1233, 18, 3, 28, 341, 4180, 12, 1433, 50, 8, 152, 30, 21, 1954, 38, 3, 2]\n",
            "[1, 14, 9, 270, 1015, 4, 42, 1419, 33705, 33706, 13, 983, 11, 431, 19, 17, 2301, 366, 1570, 33707, 3, 188, 63, 22, 322, 3297, 299, 403, 98, 4, 8, 28, 713, 33708, 4, 15, 10, 133, 228, 4, 926, 2571, 19, 372, 1023, 2335, 9634, 4, 361, 4560, 14, 60, 216, 4, 15, 2325, 17, 276, 784, 13, 457, 3, 2]\n",
            "[1, 203, 1407, 898, 27, 29, 136, 365, 13, 1008, 191, 349, 15, 883, 2847, 35, 9341, 63, 90, 2006, 19, 3453, 1663, 4, 20, 21, 542, 93, 1288, 18, 4, 28, 21, 226, 1348, 341, 1114, 13, 47, 4, 43, 1176, 105, 93, 21, 3189, 117, 818, 33709, 4, 10164, 4002, 21, 117, 215, 291, 4, 361, 33710, 90, 33711, 17, 1701, 4794, 136, 365, 409, 4, 20, 243, 33712, 33713, 270, 51, 94, 17, 883, 191, 17, 2414, 248, 1835, 9, 3, 2]\n"
          ],
          "name": "stdout"
        }
      ]
    },
    {
      "cell_type": "code",
      "metadata": {
        "id": "ZGTaqt1t1iaI",
        "colab": {
          "base_uri": "https://localhost:8080/"
        },
        "outputId": "6db4219d-e862-45e4-9f95-a2688bee1759"
      },
      "source": [
        "# Randomly select 5 examples of English and German sentence pairs\n",
        "num_samples = 5\n",
        "inx = np.random.choice(len(en_sentence), num_samples, replace=False)\n",
        "\n",
        "for n, i in enumerate(inx):\n",
        "    print(n, en_sentence[i])\n",
        "    print(n, ge_sentence_start_end[i], ge_sequence[i])"
      ],
      "execution_count": 9,
      "outputs": [
        {
          "output_type": "stream",
          "text": [
            "0 i'll ask around and tell you if i find out anything .\n",
            "0 <start> ich hoere mich mal um . ich sage dir bescheid , wenn ich etwas in erfahrung bringe . <end> [1, 5, 841, 31, 113, 54, 3, 5, 606, 52, 744, 4, 63, 5, 62, 19, 1275, 1484, 3, 2]\n",
            "1 tom and i are kind of busy right now .\n",
            "1 <start> tom und ich sind jetzt gerade ziemlich beschaeftigt . <end> [1, 6, 35, 5, 41, 128, 133, 373, 292, 3, 2]\n",
            "2 i tried to cheer her up , but all she wanted was to be alone .\n",
            "2 <start> ich versuchte sie aufzumuntern , aber sie wollte einfach nur allein sein . <end> [1, 5, 465, 10, 16677, 4, 121, 10, 135, 179, 93, 223, 47, 3, 2]\n",
            "3 you handled that well .\n",
            "3 <start> das hast du gut hinbekommen . <end> [1, 11, 53, 12, 74, 6259, 3, 2]\n",
            "4 tom is your enemy .\n",
            "4 <start> tom ist dein feind . <end> [1, 6, 9, 158, 1249, 3, 2]\n"
          ],
          "name": "stdout"
        }
      ]
    },
    {
      "cell_type": "code",
      "metadata": {
        "id": "m3-tjXZn6_RN",
        "colab": {
          "base_uri": "https://localhost:8080/"
        },
        "outputId": "2510f246-0856-49b7-ff8d-6858ffc32b9f"
      },
      "source": [
        "def post_pad(sequence):\n",
        "    \"\"\"\n",
        "    Pad each sequence to a maximum length.\n",
        "    \"\"\"\n",
        "    return pad_sequences(sequence, padding='post')\n",
        "\n",
        "ge_padded = post_pad(ge_sequence)\n",
        "# Print last 5 results\n",
        "for sequence in ge_padded[-5:]:\n",
        "    print(sequence)"
      ],
      "execution_count": 10,
      "outputs": [
        {
          "output_type": "stream",
          "text": [
            "[    1   167    63  2571    43 33704  9292  4151    74    41     4    40\n",
            "    90    27   188   288   353   472     3    34  2381   220     9    14\n",
            "  1676     4    63    90    27   353 11286     4  2571    19   218  2335\n",
            "  9634     3     2     0     0     0     0     0     0     0     0     0\n",
            "     0     0     0     0     0     0     0     0     0     0     0     0\n",
            "     0     0     0     0     0     0     0     0     0     0     0     0\n",
            "     0     0     0     0     0     0     0     0     0     0     0     0\n",
            "     0]\n",
            "[    1    63   249     4    17   114  8088     8   504     4   207     4\n",
            "    20    12    30    21  1954  1197     4  1027    11     4    20    90\n",
            "   525    62    38   400 10908  1719    18     4    11  1769   444     4\n",
            "    20    12   123  1954    69     3    28   341  4180     4    12  1433\n",
            "    50     8   152    30    21  1954    38     3     2     0     0     0\n",
            "     0     0     0     0     0     0     0     0     0     0     0     0\n",
            "     0     0     0     0     0     0     0     0     0     0     0     0\n",
            "     0]\n",
            "[    1    63   249 13701    52   207     4    20    12    50    30    21\n",
            "  1954 10912     4  1027    11   525    16    18    62    38   549   168\n",
            "  1719     4    20    50    49     8  1954  1233    18     3    28   341\n",
            "  4180    12  1433    50     8   152    30    21  1954    38     3     2\n",
            "     0     0     0     0     0     0     0     0     0     0     0     0\n",
            "     0     0     0     0     0     0     0     0     0     0     0     0\n",
            "     0     0     0     0     0     0     0     0     0     0     0     0\n",
            "     0]\n",
            "[    1    14     9   270  1015     4    42  1419 33705 33706    13   983\n",
            "    11   431    19    17  2301   366  1570 33707     3   188    63    22\n",
            "   322  3297   299   403    98     4     8    28   713 33708     4    15\n",
            "    10   133   228     4   926  2571    19   372  1023  2335  9634     4\n",
            "   361  4560    14    60   216     4    15  2325    17   276   784    13\n",
            "   457     3     2     0     0     0     0     0     0     0     0     0\n",
            "     0     0     0     0     0     0     0     0     0     0     0     0\n",
            "     0]\n",
            "[    1   203  1407   898    27    29   136   365    13  1008   191   349\n",
            "    15   883  2847    35  9341    63    90  2006    19  3453  1663     4\n",
            "    20    21   542    93  1288    18     4    28    21   226  1348   341\n",
            "  1114    13    47     4    43  1176   105    93    21  3189   117   818\n",
            " 33709     4 10164  4002    21   117   215   291     4   361 33710    90\n",
            " 33711    17  1701  4794   136   365   409     4    20   243 33712 33713\n",
            "   270    51    94    17   883   191    17  2414   248  1835     9     3\n",
            "     2]\n"
          ],
          "name": "stdout"
        }
      ]
    },
    {
      "cell_type": "markdown",
      "metadata": {
        "id": "foL7Ihs21iaP"
      },
      "source": [
        "## 2. Prepare the data with tf.data.Dataset objects"
      ]
    },
    {
      "cell_type": "markdown",
      "metadata": {
        "id": "-9rCEE4z1iaQ"
      },
      "source": [
        "#### Load the embedding layer\n",
        "As part of the dataset preproceessing for this project, you will use a pre-trained English word embedding module from TensorFlow Hub. The URL for the module is https://tfhub.dev/google/tf2-preview/nnlm-en-dim128-with-normalization/1.\n",
        "\n",
        "This embedding takes a batch of text tokens in a 1-D tensor of strings as input. It then embeds the separate tokens into a 128-dimensional space. \n",
        "\n",
        "The code to load and test the embedding layer is provided for you below.\n",
        "\n",
        "**NB:** This model can also be used as a sentence embedding module. The module will process each token by removing punctuation and splitting on spaces. It then averages the word embeddings over a sentence to give a single embedding vector. However, we will use it only as a word embedding module, and will pass each word in the input sentence as a separate token."
      ]
    },
    {
      "cell_type": "code",
      "metadata": {
        "id": "ywZgobCh1iaR"
      },
      "source": [
        "# Load embedding module from Tensorflow Hub\n",
        "embed_dim=128\n",
        "embedding_layer = hub.KerasLayer(\n",
        "    \"https://tfhub.dev/google/tf2-preview/nnlm-en-dim128/1\", \n",
        "    output_shape=(embed_dim), input_shape=(), dtype=tf.string)"
      ],
      "execution_count": 11,
      "outputs": []
    },
    {
      "cell_type": "code",
      "metadata": {
        "id": "TiY8QEDp1iaV",
        "colab": {
          "base_uri": "https://localhost:8080/"
        },
        "outputId": "b692b145-0243-43fd-bca4-bc796adf6f08"
      },
      "source": [
        "# Test the layer\n",
        "\n",
        "embedding_layer(tf.constant(\n",
        "    [\"these\", \"aren't\", \"the\", \"droids\", \"you're\", \"looking\", \"for\"])).shape"
      ],
      "execution_count": 12,
      "outputs": [
        {
          "output_type": "execute_result",
          "data": {
            "text/plain": [
              "TensorShape([7, 128])"
            ]
          },
          "metadata": {
            "tags": []
          },
          "execution_count": 12
        }
      ]
    },
    {
      "cell_type": "markdown",
      "metadata": {
        "id": "KjuzXc-z1iaY"
      },
      "source": [
        "You should now prepare the training and validation Datasets.\n",
        "\n",
        "* Create a random training and validation set split of the data, reserving e.g. 20% of the data for validation (NB: each English dataset example is a single sentence string, and each German dataset example is a sequence of padded integer tokens).\n",
        "* Load the training and validation sets into a tf.data.Dataset object, passing in a tuple of English and German data for both training and validation sets.\n",
        "* Create a function to map over the datasets that splits each English sentence at spaces. Apply this function to both Dataset objects using the map method. _Hint: look at the tf.strings.split function._\n",
        "* Create a function to map over the datasets that embeds each sequence of English words using the loaded embedding layer/model. Apply this function to both Dataset objects using the map method.\n",
        "* Create a function to filter out dataset examples where the English sentence is greater than or equal to than 13 (embedded) tokens in length. Apply this function to both Dataset objects using the filter method.\n",
        "* Create a function to map over the datasets that pads each English sequence of embeddings with some distinct padding value before the sequence, so that each sequence is length 13. Apply this function to both Dataset objects using the map method. _Hint: look at the tf.pad function. You can extract a Tensor shape using tf.shape; you might also find the tf.math.maximum function useful._\n",
        "* Batch both training and validation Datasets with a batch size of 16.\n",
        "* Print the `element_spec` property for the training and validation Datasets. \n",
        "* Using the Dataset `.take(1)` method, print the shape of the English data example from the training Dataset.\n",
        "* Using the Dataset `.take(1)` method, print the German data example Tensor from the validation Dataset."
      ]
    },
    {
      "cell_type": "code",
      "metadata": {
        "id": "Q-BUJOl_1iaZ",
        "colab": {
          "base_uri": "https://localhost:8080/"
        },
        "outputId": "5d001af9-7a85-4e1c-fb87-0328c91fcaa0"
      },
      "source": [
        "# Create a random training and validation sets using an 80-20 split\n",
        "en_train, en_valid, ge_train, ge_valid = train_test_split(\n",
        "    en_sentence, ge_padded, test_size=0.2)\n",
        "\n",
        "# Examine the shape of data\n",
        "print(\"The shape of training dataset:\")\n",
        "print(f\"English: {np.array(en_train).shape} \\t German: {ge_train.shape}\")\n",
        "print(\"The shape of validation dataset:\")\n",
        "print(f\"English: {np.array(en_valid).shape} \\t German: {ge_valid.shape}\")"
      ],
      "execution_count": 13,
      "outputs": [
        {
          "output_type": "stream",
          "text": [
            "The shape of training dataset:\n",
            "English: (160415,) \t German: (160415, 85)\n",
            "The shape of validation dataset:\n",
            "English: (40104,) \t German: (40104, 85)\n"
          ],
          "name": "stdout"
        }
      ]
    },
    {
      "cell_type": "code",
      "metadata": {
        "id": "4w6rM8Bl1iad",
        "colab": {
          "base_uri": "https://localhost:8080/"
        },
        "outputId": "449cf946-b09d-4e70-cfa2-1cd04341f63f"
      },
      "source": [
        "def create_dataset(inputs):\n",
        "    \"\"\"\n",
        "    Take a tuple of inputs (source, label) \n",
        "    to create a tf.data.Dataset object.\n",
        "    \"\"\"\n",
        "    dataset = tf.data.Dataset.from_tensor_slices(inputs)\n",
        "    dataset = dataset.shuffle(len(inputs[0]))\n",
        "    return dataset\n",
        "\n",
        "# Create Dataset object for both training and vailidation sets\n",
        "train_dataset = create_dataset((en_train, ge_train))\n",
        "valid_dataset = create_dataset((en_valid, ge_valid))\n",
        "\n",
        "# # Print the first 5 elements of the training dataset\n",
        "for x, y in train_dataset.take(5):\n",
        "    print(x.numpy(), y.numpy())"
      ],
      "execution_count": 14,
      "outputs": [
        {
          "output_type": "stream",
          "text": [
            "b'i can beat tom .' [   1    5   40    6 1833    3    2    0    0    0    0    0    0    0\n",
            "    0    0    0    0    0    0    0    0    0    0    0    0    0    0\n",
            "    0    0    0    0    0    0    0    0    0    0    0    0    0    0\n",
            "    0    0    0    0    0    0    0    0    0    0    0    0    0    0\n",
            "    0    0    0    0    0    0    0    0    0    0    0    0    0    0\n",
            "    0    0    0    0    0    0    0    0    0    0    0    0    0    0\n",
            "    0]\n",
            "b'the workmen arrived early , bringing their ladders .' [    1    15  1715   936   368    35  3552   129 10490    28     3     2\n",
            "     0     0     0     0     0     0     0     0     0     0     0     0\n",
            "     0     0     0     0     0     0     0     0     0     0     0     0\n",
            "     0     0     0     0     0     0     0     0     0     0     0     0\n",
            "     0     0     0     0     0     0     0     0     0     0     0     0\n",
            "     0     0     0     0     0     0     0     0     0     0     0     0\n",
            "     0     0     0     0     0     0     0     0     0     0     0     0\n",
            "     0]\n",
            "b'she smiled .' [   1   10   18 6501    3    2    0    0    0    0    0    0    0    0\n",
            "    0    0    0    0    0    0    0    0    0    0    0    0    0    0\n",
            "    0    0    0    0    0    0    0    0    0    0    0    0    0    0\n",
            "    0    0    0    0    0    0    0    0    0    0    0    0    0    0\n",
            "    0    0    0    0    0    0    0    0    0    0    0    0    0    0\n",
            "    0    0    0    0    0    0    0    0    0    0    0    0    0    0\n",
            "    0]\n",
            "b'i was confused at first .' [   1 1112   33    5 1332    3    2    0    0    0    0    0    0    0\n",
            "    0    0    0    0    0    0    0    0    0    0    0    0    0    0\n",
            "    0    0    0    0    0    0    0    0    0    0    0    0    0    0\n",
            "    0    0    0    0    0    0    0    0    0    0    0    0    0    0\n",
            "    0    0    0    0    0    0    0    0    0    0    0    0    0    0\n",
            "    0    0    0    0    0    0    0    0    0    0    0    0    0    0\n",
            "    0]\n",
            "b'are you cops ?' [  1 240  36  43  17 461   7   2   0   0   0   0   0   0   0   0   0   0\n",
            "   0   0   0   0   0   0   0   0   0   0   0   0   0   0   0   0   0   0\n",
            "   0   0   0   0   0   0   0   0   0   0   0   0   0   0   0   0   0   0\n",
            "   0   0   0   0   0   0   0   0   0   0   0   0   0   0   0   0   0   0\n",
            "   0   0   0   0   0   0   0   0   0   0   0   0   0]\n"
          ],
          "name": "stdout"
        }
      ]
    },
    {
      "cell_type": "code",
      "metadata": {
        "id": "D7bn3mRs1iaj",
        "colab": {
          "base_uri": "https://localhost:8080/"
        },
        "outputId": "8132d503-503e-46c4-b652-5729e4961bcc"
      },
      "source": [
        "def split_sentence(sentence):\n",
        "    \"\"\"\n",
        "    Split each sentence at spaces.\n",
        "    \"\"\"\n",
        "    return tf.strings.split(sentence, sep=' ')\n",
        "\n",
        "# Map the function over the both dataset objects. \n",
        "train_dataset = train_dataset.map(lambda x, _: (split_sentence(x), _))\n",
        "valid_dataset = valid_dataset.map(lambda x, _: (split_sentence(x), _))\n",
        "\n",
        "# # Print the first 5 elements of English sentence from the training dataset\n",
        "for x, _ in train_dataset.take(5):\n",
        "    print(x.numpy())"
      ],
      "execution_count": 15,
      "outputs": [
        {
          "output_type": "stream",
          "text": [
            "[b'tom' b\"didn't\" b'want' b'to' b'lose' b'his' b'wife' b'.']\n",
            "[b'tom' b'would' b'get' b'dizzy' b'doing' b'that' b'.']\n",
            "[b'i' b\"didn't\" b'do' b'anything' b'.']\n",
            "[b'stop' b'complaining' b'.']\n",
            "[b\"i'll\" b'buy' b'that' b'back' b'from' b'you' b'if' b\"that's\" b'what'\n",
            " b'you' b'want' b'.']\n"
          ],
          "name": "stdout"
        }
      ]
    },
    {
      "cell_type": "code",
      "metadata": {
        "id": "q0Fdso381ian",
        "colab": {
          "base_uri": "https://localhost:8080/"
        },
        "outputId": "7adc8bb7-14ca-4a88-c6fa-575a0900a943"
      },
      "source": [
        "def embed_word(sequence):\n",
        "    \"\"\"\n",
        "    Embeds each sequence of word using the loaded embedding layer.\n",
        "    \"\"\"\n",
        "    return embedding_layer(sequence)\n",
        "\n",
        "# Map the function over the both dataset objects. \n",
        "train_dataset = train_dataset.map(lambda x, _: (embed_word(x), _))\n",
        "valid_dataset = valid_dataset.map(lambda x, _: (embed_word(x), _))\n",
        "\n",
        "# Print the number of element for both datasets\n",
        "print(\"The number of element for training dataset: {}\".format(\n",
        "    train_dataset.cardinality().numpy()))\n",
        "print(\"The number of element for validation dataset: {}\".format(\n",
        "    valid_dataset.cardinality().numpy()))"
      ],
      "execution_count": 16,
      "outputs": [
        {
          "output_type": "stream",
          "text": [
            "The number of element for training dataset: 160415\n",
            "The number of element for validation dataset: 40104\n"
          ],
          "name": "stdout"
        }
      ]
    },
    {
      "cell_type": "code",
      "metadata": {
        "id": "bGqlxuqZ1ias",
        "colab": {
          "base_uri": "https://localhost:8080/"
        },
        "outputId": "f9bc8451-4c1c-47dd-f8a4-53aa6e70745e"
      },
      "source": [
        "def filter_token(sequence):\n",
        "    \"\"\"\n",
        "    Filter dataset where the sequence length < 13 tokens.\n",
        "    \"\"\"\n",
        "    return len(sequence)<13\n",
        "\n",
        "# Filter over the both Dataset objects.\n",
        "train_dataset = train_dataset.filter(lambda x, _: filter_token(x))\n",
        "valid_dataset = valid_dataset.filter(lambda x, _: filter_token(x))\n",
        "\n",
        "# Print the number of element for both datasets\n",
        "print(\"The number of element for training dataset: {}\".format(\n",
        "    train_dataset.reduce(0, lambda x, _: x + 1).numpy()))\n",
        "print(\"The number of element for validation dataset: {}\".format(\n",
        "    valid_dataset.reduce(0, lambda x, _: x + 1).numpy()))"
      ],
      "execution_count": 17,
      "outputs": [
        {
          "output_type": "stream",
          "text": [
            "The number of element for training dataset: 152659\n",
            "The number of element for validation dataset: 38183\n"
          ],
          "name": "stdout"
        }
      ]
    },
    {
      "cell_type": "code",
      "metadata": {
        "id": "-3Zlr2M0BBhH",
        "colab": {
          "base_uri": "https://localhost:8080/"
        },
        "outputId": "24970a6d-2fae-4ff9-8abc-d4922181aba6"
      },
      "source": [
        "def pre_pad(sequence):\n",
        "    \"\"\"\n",
        "    Pads each sequence with some distinct value before the sequence, \n",
        "    so that each sequence length=13.\n",
        "    \"\"\"\n",
        "    pad_size = tf.math.maximum(0, 13 - tf.shape(sequence)[0])\n",
        "    paddings = tf.concat(([[pad_size, 0]], [[0, 0]]), axis=0)\n",
        "    padded = tf.pad(sequence, paddings, \"CONSTANT\")\n",
        "    return tf.reshape(padded, (13, 128))\n",
        "\n",
        "# Map the function over the both Dataset objects. \n",
        "train_dataset = train_dataset.map(lambda x, _: (pre_pad(x), _))\n",
        "valid_dataset = valid_dataset.map(lambda x, _: (pre_pad(x), _))\n",
        "\n",
        "# Print the element_spec property for both datasets\n",
        "print(\"The element_spec property of training dataset: \\n {}\".format(\n",
        "    train_dataset.element_spec))\n",
        "print(\"The element_spec property of validation dataset: \\n {}\".format(\n",
        "    valid_dataset.element_spec))"
      ],
      "execution_count": 18,
      "outputs": [
        {
          "output_type": "stream",
          "text": [
            "The element_spec property of training dataset: \n",
            " (TensorSpec(shape=(13, 128), dtype=tf.float32, name=None), TensorSpec(shape=(85,), dtype=tf.int32, name=None))\n",
            "The element_spec property of validation dataset: \n",
            " (TensorSpec(shape=(13, 128), dtype=tf.float32, name=None), TensorSpec(shape=(85,), dtype=tf.int32, name=None))\n"
          ],
          "name": "stdout"
        }
      ]
    },
    {
      "cell_type": "code",
      "metadata": {
        "id": "tMslwlMYhNKW",
        "colab": {
          "base_uri": "https://localhost:8080/"
        },
        "outputId": "1d083bda-007a-4e8c-a6df-7ba5599b16fd"
      },
      "source": [
        "def create_batch(dataset, batch_size):\n",
        "  \"\"\"\n",
        "  Batch the dataset using the batch_size argument, and \n",
        "  setting drop_remainder to True.\n",
        "  \"\"\"\n",
        "  return dataset.batch(batch_size, drop_remainder=True)\n",
        "\n",
        "# Batch the both Datasets with a batch size of 16.\n",
        "batch_size=16\n",
        "train_dataset = create_batch(train_dataset, batch_size)\n",
        "valid_dataset = create_batch(valid_dataset, batch_size)\n",
        "\n",
        "# Print the element_spec property for both datasets\n",
        "print(\"The element_spec property of training dataset: \\n {}\".format(\n",
        "    train_dataset.element_spec))\n",
        "print(\"The element_spec property of validation dataset: \\n {}\".format(\n",
        "    valid_dataset.element_spec))"
      ],
      "execution_count": 19,
      "outputs": [
        {
          "output_type": "stream",
          "text": [
            "The element_spec property of training dataset: \n",
            " (TensorSpec(shape=(16, 13, 128), dtype=tf.float32, name=None), TensorSpec(shape=(16, 85), dtype=tf.int32, name=None))\n",
            "The element_spec property of validation dataset: \n",
            " (TensorSpec(shape=(16, 13, 128), dtype=tf.float32, name=None), TensorSpec(shape=(16, 85), dtype=tf.int32, name=None))\n"
          ],
          "name": "stdout"
        }
      ]
    },
    {
      "cell_type": "code",
      "metadata": {
        "id": "CwSocw5QhA9p",
        "colab": {
          "base_uri": "https://localhost:8080/"
        },
        "outputId": "174c0aee-cafc-441b-db47-105304e9e8e9"
      },
      "source": [
        "# Print the shape of the English data from the training dataset\n",
        "x_train_batch, _ = next(iter(train_dataset.take(1)))\n",
        "print(\"The shape of English data from the training dataset: {}\".format( \n",
        "    x_train_batch.shape))\n",
        "\n",
        "# Print the German data from the validation dataset\n",
        "_, y_valid_batch = next(iter(valid_dataset.take(1)))\n",
        "print(\"The German data from the validation dataset: \\n {}\".format( \n",
        "    y_valid_batch.numpy()))"
      ],
      "execution_count": 20,
      "outputs": [
        {
          "output_type": "stream",
          "text": [
            "The shape of English data from the training dataset: (16, 13, 128)\n",
            "The German data from the validation dataset: \n",
            " [[   1    5  565 ...    0    0    0]\n",
            " [   1 2730   36 ...    0    0    0]\n",
            " [   1    6 3617 ...    0    0    0]\n",
            " ...\n",
            " [   1    5  326 ...    0    0    0]\n",
            " [   1    5 1797 ...    0    0    0]\n",
            " [   1    6  449 ...    0    0    0]]\n"
          ],
          "name": "stdout"
        }
      ]
    },
    {
      "cell_type": "markdown",
      "metadata": {
        "id": "isIYhjq01iay"
      },
      "source": [
        "## 3. Create the custom layer\n",
        "You will now create a custom layer to add the learned end token embedding to the encoder model:\n",
        "\n",
        "![Encoder schematic](https://github.com/MengOonLee/Deep_learning/blob/master/TensorFlow2/Tutorial/image/neural_translation/neural_translation_model_encoder.png?raw=1)"
      ]
    },
    {
      "cell_type": "markdown",
      "metadata": {
        "id": "M6gLIHG81iaz"
      },
      "source": [
        "You should now build the custom layer.\n",
        "* Using layer subclassing, create a custom layer that takes a batch of English data examples from one of the Datasets, and adds a learned embedded ‘end’ token to the end of each sequence. \n",
        "* This layer should create a TensorFlow Variable (that will be learned during training) that is 128-dimensional (the size of the embedding space). _Hint: you may find it helpful in the call method to use the tf.tile function to replicate the end token embedding across every element in the batch._\n",
        "* Using the Dataset `.take(1)` method, extract a batch of English data examples from the training Dataset and print the shape. Test the custom layer by calling the layer on the English data batch Tensor and print the resulting Tensor shape (the layer should increase the sequence length by one)."
      ]
    },
    {
      "cell_type": "code",
      "metadata": {
        "id": "avionZuFghj8"
      },
      "source": [
        "# Create a custom layer to add a learned end token embedding \n",
        "# to the encoder model using Layer subclassing API \n",
        "# according to the above specification.\n",
        "\n",
        "class EndToken(Layer):\n",
        "    \"\"\"\n",
        "    Takes a batch of sequences from datasets, and adds \n",
        "    an embedded 'end' token to the end of each sequence.\n",
        "    \"\"\"\n",
        "    def __init__(self, **kwargs):\n",
        "        super(EndToken, self).__init__(**kwargs)\n",
        "        self.end_token = tf.Variable(embedding_layer(\n",
        "            tf.constant(['end'])), name='end_token')\n",
        "        \n",
        "    def call(self, inputs):\n",
        "        x = tf.expand_dims(self.end_token, axis=0)\n",
        "        x = tf.tile(x, (tf.shape(inputs)[0], 1, 1))\n",
        "        return Concatenate(axis=1)([inputs, x])\n",
        "\n",
        "# Instantiate the custom layer object\n",
        "end_token_layer = EndToken()"
      ],
      "execution_count": 21,
      "outputs": []
    },
    {
      "cell_type": "code",
      "metadata": {
        "id": "xm-vBbGh5Zar",
        "colab": {
          "base_uri": "https://localhost:8080/"
        },
        "outputId": "c7da2033-1ef3-469e-d3a4-b0bc0f5d2e8c"
      },
      "source": [
        "# Extract a batch of English data from the training Dataset.\n",
        "x_train_batch, _ = next(iter(train_dataset.take(1)))\n",
        "# Print the shape before the custom layer\n",
        "print(\"English tensor shape before the end_token_layer: {}\".format( \n",
        "    x_train_batch.shape))"
      ],
      "execution_count": 22,
      "outputs": [
        {
          "output_type": "stream",
          "text": [
            "English tensor shape before the end_token_layer: (16, 13, 128)\n"
          ],
          "name": "stdout"
        }
      ]
    },
    {
      "cell_type": "code",
      "metadata": {
        "id": "ebjK8PmL1ia6",
        "colab": {
          "base_uri": "https://localhost:8080/"
        },
        "outputId": "29108fda-61a2-4c4a-891f-b76b57818a98"
      },
      "source": [
        "# Test the custom layer on the English data and print the resulting shape\n",
        "print(\"English tensor shape after the end_token_layer: {}\".format( \n",
        "    end_token_layer(x_train_batch).shape))"
      ],
      "execution_count": 23,
      "outputs": [
        {
          "output_type": "stream",
          "text": [
            "English tensor shape after the end_token_layer: (16, 14, 128)\n"
          ],
          "name": "stdout"
        }
      ]
    },
    {
      "cell_type": "markdown",
      "metadata": {
        "id": "OAd3i4_y1ia-"
      },
      "source": [
        "## 4. Build the encoder network\n",
        "The encoder network follows the schematic diagram above. You should now build the RNN encoder model.\n",
        "* Using the functional API, build the encoder network according to the following spec:\n",
        "    * The model will take a batch of sequences of embedded English words as input, as given by the Dataset objects.\n",
        "    * The next layer in the encoder will be the custom layer you created previously, to add a learned end token embedding to the end of the English sequence.\n",
        "    * This is followed by a Masking layer, with the `mask_value` set to the distinct padding value you used when you padded the English sequences with the Dataset preprocessing above.\n",
        "    * The final layer is an LSTM layer with 512 units, which also returns the hidden and cell states.\n",
        "    * The encoder is a multi-output model. There should be two output Tensors of this model: the hidden state and cell states of the LSTM layer. The output of the LSTM layer is unused.\n",
        "* Using the Dataset `.take(1)` method, extract a batch of English data examples from the training Dataset and test the encoder model by calling it on the English data Tensor, and print the shape of the resulting Tensor outputs.\n",
        "* Print the model summary for the encoder network."
      ]
    },
    {
      "cell_type": "code",
      "metadata": {
        "id": "2MrOS1LoFyA9"
      },
      "source": [
        "# Build a RNN encoder model using the functional API\n",
        "# according to the above specification.\n",
        "\n",
        "# A batch of sequences of from dataset as input.\n",
        "inputs = Input(shape=(None, embed_dim))\n",
        "# Add end token embedding to the end of sequence using end_token_layer.\n",
        "x = end_token_layer(inputs)\n",
        "# Masking layer with the mask_value set to 0.0.\n",
        "x = Masking(mask_value=0.0)(x)\n",
        "# LSTM layer with 512 units returns hidden and cell states.\n",
        "output, hidden_state, cell_state = LSTM(units=512, return_state=True)(x)\n",
        "\n",
        "# Instantiate the RNN encoder model object.\n",
        "encoder = Model(inputs=inputs, outputs=[hidden_state, cell_state])"
      ],
      "execution_count": 24,
      "outputs": []
    },
    {
      "cell_type": "code",
      "metadata": {
        "id": "e5XW6NxL1ibC",
        "colab": {
          "base_uri": "https://localhost:8080/"
        },
        "outputId": "513605a6-9c68-4373-f1af-9a1952587b01"
      },
      "source": [
        "# Extract a batch of English data from the training dataset.\n",
        "x_train_batch, _ = next(iter(train_dataset.take(1)))\n",
        "\n",
        "# Test the encoder model on the English data and print the resulting shape.\n",
        "hidden_state, cell_state = encoder(x_train_batch)\n",
        "print(\"The shape of Encoder hidden state (batch_size, units): {}\".format( \n",
        "    hidden_state.shape))\n",
        "print(\"The shape of Encoder cell state (batch_size, units): {}\".format( \n",
        "    cell_state.shape))"
      ],
      "execution_count": 25,
      "outputs": [
        {
          "output_type": "stream",
          "text": [
            "The shape of Encoder hidden state (batch_size, units): (16, 512)\n",
            "The shape of Encoder cell state (batch_size, units): (16, 512)\n"
          ],
          "name": "stdout"
        }
      ]
    },
    {
      "cell_type": "code",
      "metadata": {
        "id": "2_2BO1_R7MqG",
        "colab": {
          "base_uri": "https://localhost:8080/"
        },
        "outputId": "5de8a248-7596-47b2-c96c-2645b3b3a118"
      },
      "source": [
        "# Print the trainable variables\n",
        "print(\"Trainable variables for the encoder model:\")\n",
        "for v in encoder.trainable_variables:\n",
        "    print(\"Name: {}, shape: {}\".format(v.name, v.shape))"
      ],
      "execution_count": 26,
      "outputs": [
        {
          "output_type": "stream",
          "text": [
            "Trainable variables for the encoder model:\n",
            "Name: end_token:0, shape: (1, 128)\n",
            "Name: lstm/lstm_cell/kernel:0, shape: (128, 2048)\n",
            "Name: lstm/lstm_cell/recurrent_kernel:0, shape: (512, 2048)\n",
            "Name: lstm/lstm_cell/bias:0, shape: (2048,)\n"
          ],
          "name": "stdout"
        }
      ]
    },
    {
      "cell_type": "code",
      "metadata": {
        "id": "jEk9ikVh1ibL",
        "colab": {
          "base_uri": "https://localhost:8080/"
        },
        "outputId": "ab30ecca-705f-40db-82f0-a08e51001cc2"
      },
      "source": [
        "# Print the model summary for the encoder model.\n",
        "encoder.summary()"
      ],
      "execution_count": 27,
      "outputs": [
        {
          "output_type": "stream",
          "text": [
            "Model: \"model\"\n",
            "_________________________________________________________________\n",
            "Layer (type)                 Output Shape              Param #   \n",
            "=================================================================\n",
            "input_1 (InputLayer)         [(None, None, 128)]       0         \n",
            "_________________________________________________________________\n",
            "end_token (EndToken)         (None, None, 128)         128       \n",
            "_________________________________________________________________\n",
            "masking (Masking)            (None, None, 128)         0         \n",
            "_________________________________________________________________\n",
            "lstm (LSTM)                  [(None, 512), (None, 512) 1312768   \n",
            "=================================================================\n",
            "Total params: 1,312,896\n",
            "Trainable params: 1,312,896\n",
            "Non-trainable params: 0\n",
            "_________________________________________________________________\n"
          ],
          "name": "stdout"
        }
      ]
    },
    {
      "cell_type": "markdown",
      "metadata": {
        "id": "KvkzpCeZ1ibR"
      },
      "source": [
        "## 5. Build the decoder network\n",
        "The decoder network follows the schematic diagram below.\n",
        "\n",
        "![Decoder schematic](https://github.com/MengOonLee/Deep_learning/blob/master/TensorFlow2/Tutorial/image/neural_translation/neural_translation_model_decoder.png?raw=1)"
      ]
    },
    {
      "cell_type": "markdown",
      "metadata": {
        "id": "VPBK8WGL1ibS"
      },
      "source": [
        "You should now build the RNN decoder model.\n",
        "* Using Model subclassing, build the decoder network according to the following spec:\n",
        "    * The initializer should create the following layers:\n",
        "        * An Embedding layer with vocabulary size set to the number of unique German tokens, embedding dimension 128, and set to mask zero values in the input.\n",
        "        * An LSTM layer with 512 units, that returns its hidden and cell states, and also returns sequences.\n",
        "        * A Dense layer with number of units equal to the number of unique German tokens, and no activation function.\n",
        "    * The call method should include the usual `inputs` argument, as well as the additional keyword arguments `hidden_state` and `cell_state`. The default value for these keyword arguments should be `None`.\n",
        "    * The call method should pass the inputs through the Embedding layer, and then through the LSTM layer. If the `hidden_state` and `cell_state` arguments are provided, these should be used for the initial state of the LSTM layer. _Hint: use the_ `initial_state` _keyword argument when calling the LSTM layer on its input._\n",
        "    * The call method should pass the LSTM output sequence through the Dense layer, and return the resulting Tensor, along with the hidden and cell states of the LSTM layer.\n",
        "* Using the Dataset `.take(1)` method, extract a batch of English and German data examples from the training Dataset. Test the decoder model by first calling the encoder model on the English data Tensor to get the hidden and cell states, and then call the decoder model on the German data Tensor and hidden and cell states, and print the shape of the resulting decoder Tensor outputs.\n",
        "* Print the model summary for the decoder network."
      ]
    },
    {
      "cell_type": "code",
      "metadata": {
        "id": "l50qhnXD1ibT"
      },
      "source": [
        "# Build an RNN decoder model using Model subclassing API\n",
        "# according to the above specification.\n",
        "\n",
        "class Decoder(Model):\n",
        "    \"\"\"\n",
        "    Take a batch of data from dataset through Embedding layer. It is \n",
        "    followed by LSTM layer with initial state from the RNN encoder model. \n",
        "    The LSTM output is passed through Dense layer, which returns the \n",
        "    resulting output along with the LSTM hidden and cell states.\n",
        "    \"\"\"\n",
        "    def __init__(self, **kwargs):\n",
        "        super(Decoder, self).__init__(**kwargs)\n",
        "        # Define layers\n",
        "        # Embedding layer with vocabulay size=number of unique German tokens, \n",
        "        # 128 embedding dimension, and mask zero values is True.\n",
        "        self.embedding = Embedding(input_dim=len(ge_tokenizer.word_index)+1, \n",
        "            output_dim=128, mask_zero=True)\n",
        "        # LSTM layer with 512 units returns \n",
        "        # sequences, hidden and cell states.\n",
        "        self.lstm = LSTM(units=512, return_state=True, return_sequences=True)\n",
        "        # Dense layer with units=number of unique German tokens\n",
        "        # and no activation function.\n",
        "        self.dense = Dense(units=len(ge_tokenizer.word_index)+1, \n",
        "            activation=None)\n",
        "\n",
        "    def call(self, inputs, hidden_state=None, cell_state=None):\n",
        "        # Define forward pass\n",
        "        x = self.embedding(inputs)\n",
        "        x, hidden_state, cell_state = self.lstm(x, \n",
        "            initial_state=[hidden_state, cell_state])\n",
        "        output = self.dense(x)\n",
        "        return output, hidden_state, cell_state\n",
        "\n",
        "# Instantiate the RNN decoder model object.\n",
        "decoder = Decoder()"
      ],
      "execution_count": 28,
      "outputs": []
    },
    {
      "cell_type": "code",
      "metadata": {
        "id": "vG5CRIXV1ibi",
        "colab": {
          "base_uri": "https://localhost:8080/"
        },
        "outputId": "6a57d34b-eaf6-4d2f-a5ef-f1f243621681"
      },
      "source": [
        "# Extract a batch of English and German data from the training dataset\n",
        "x_train_batch, y_train_batch = next(iter(train_dataset.take(1)))\n",
        "\n",
        "# First call the encoder model on the English data to get the \n",
        "# hidden and cell states\n",
        "hidden_state, cell_state = encoder(x_train_batch)\n",
        "\n",
        "# Then test the decoder model on the German data,\n",
        "# using the hidden and cell states from the encoder model, \n",
        "# and print the shape of resulting outputs.\n",
        "output, hidden_state, cell_state = decoder(y_train_batch, \n",
        "    hidden_state=hidden_state, cell_state=cell_state)\n",
        "print(\"The shape of Decoder outputs (batch_size*seq_length, vocab_size): {}\".format( \n",
        "    output.shape))\n",
        "print(\"The shape of Decoder hidden state (batch_size, units): {}\".format( \n",
        "    hidden_state.shape))\n",
        "print(\"The shape of Decoder cell state (batch_size, units): {}\".format( \n",
        "    cell_state.shape))"
      ],
      "execution_count": 29,
      "outputs": [
        {
          "output_type": "stream",
          "text": [
            "The shape of Decoder outputs (batch_size*seq_length, vocab_size): (16, 85, 33714)\n",
            "The shape of Decoder hidden state (batch_size, units): (16, 512)\n",
            "The shape of Decoder cell state (batch_size, units): (16, 512)\n"
          ],
          "name": "stdout"
        }
      ]
    },
    {
      "cell_type": "code",
      "metadata": {
        "id": "f_N-_5id7bHS",
        "colab": {
          "base_uri": "https://localhost:8080/"
        },
        "outputId": "f928e01d-517e-483a-eb60-b485a08f3a51"
      },
      "source": [
        "# Print the trainable variables\n",
        "print(\"Trainable variables for the decoder model:\")\n",
        "for v in decoder.trainable_variables:\n",
        "    print(\"Name: {}, shape: {}\".format(v.name, v.shape))"
      ],
      "execution_count": 30,
      "outputs": [
        {
          "output_type": "stream",
          "text": [
            "Trainable variables for the decoder model:\n",
            "Name: decoder/embedding/embeddings:0, shape: (33714, 128)\n",
            "Name: decoder/lstm_1/lstm_cell_1/kernel:0, shape: (128, 2048)\n",
            "Name: decoder/lstm_1/lstm_cell_1/recurrent_kernel:0, shape: (512, 2048)\n",
            "Name: decoder/lstm_1/lstm_cell_1/bias:0, shape: (2048,)\n",
            "Name: decoder/dense/kernel:0, shape: (512, 33714)\n",
            "Name: decoder/dense/bias:0, shape: (33714,)\n"
          ],
          "name": "stdout"
        }
      ]
    },
    {
      "cell_type": "code",
      "metadata": {
        "id": "SvqqT_ET1ibl",
        "colab": {
          "base_uri": "https://localhost:8080/"
        },
        "outputId": "e062a0d9-9b54-44b5-8e2f-ddfc163916f2"
      },
      "source": [
        "# Print the model summary for the decoder model.\n",
        "decoder.summary()"
      ],
      "execution_count": 31,
      "outputs": [
        {
          "output_type": "stream",
          "text": [
            "Model: \"decoder\"\n",
            "_________________________________________________________________\n",
            "Layer (type)                 Output Shape              Param #   \n",
            "=================================================================\n",
            "embedding (Embedding)        multiple                  4315392   \n",
            "_________________________________________________________________\n",
            "lstm_1 (LSTM)                multiple                  1312768   \n",
            "_________________________________________________________________\n",
            "dense (Dense)                multiple                  17295282  \n",
            "=================================================================\n",
            "Total params: 22,923,442\n",
            "Trainable params: 22,923,442\n",
            "Non-trainable params: 0\n",
            "_________________________________________________________________\n"
          ],
          "name": "stdout"
        }
      ]
    },
    {
      "cell_type": "markdown",
      "metadata": {
        "id": "pST9XGJ81ibo"
      },
      "source": [
        "## 6. Make a custom training loop\n",
        "You should now write a custom training loop to train your custom neural translation model.\n",
        "* Define a function that takes a Tensor batch of German data (as extracted from the training Dataset), and returns a tuple containing German inputs and outputs for the decoder model (refer to schematic diagram above).\n",
        "* Define a function that computes the forward and backward pass for your translation model. This function should take an English input, German input and German output as arguments, and should do the following:\n",
        "    * Pass the English input into the encoder, to get the hidden and cell states of the encoder LSTM.\n",
        "    * These hidden and cell states are then passed into the decoder, along with the German inputs, which returns a sequence of outputs (the hidden and cell state outputs of the decoder LSTM are unused in this function).\n",
        "    * The loss should then be computed between the decoder outputs and the German output function argument.\n",
        "    * The function returns the loss and gradients with respect to the encoder and decoder’s trainable variables.\n",
        "    * Decorate the function with `@tf.function`\n",
        "* Define and run a custom training loop for a number of epochs (for you to choose) that does the following:\n",
        "    * Iterates through the training dataset, and creates decoder inputs and outputs from the German sequences.\n",
        "    * Updates the parameters of the translation model using the gradients of the function above and an optimizer object.\n",
        "    * Every epoch, compute the validation loss on a number of batches from the validation and save the epoch training and validation losses.\n",
        "* Plot the learning curves for loss vs epoch for both training and validation sets.\n",
        "\n",
        "_Hint: This model is computationally demanding to train. The quality of the model or length of training is not a factor in the grading rubric. However, to obtain a better model we recommend using the GPU accelerator hardware on Colab._"
      ]
    },
    {
      "cell_type": "code",
      "metadata": {
        "id": "FCunqU2WVQAd",
        "colab": {
          "base_uri": "https://localhost:8080/"
        },
        "outputId": "d305916b-278a-4d1f-e6c8-dffabedc3bbe"
      },
      "source": [
        "def create_input_target(sequence):\n",
        "    \"\"\"\n",
        "    Take a sequence return a tuple of input and target.\n",
        "    \"\"\"\n",
        "    return sequence[:, :-1], sequence[:, 1:]\n",
        "\n",
        "# Extract a batch of German data from the training dataset.\n",
        "_, y_train_batch = next(iter(train_dataset.take(1)))\n",
        "\n",
        "# Create a tuple containing German input and output for the decoder model.\n",
        "labels_input, labels_target = create_input_target(y_train_batch)\n",
        "# Show the first 5 pairs\n",
        "for x, y in zip(labels_input[:5], labels_target[:5]):\n",
        "    print(\"Input: {} \\n Output: {}\".format(x, y))"
      ],
      "execution_count": 32,
      "outputs": [
        {
          "output_type": "stream",
          "text": [
            "Input: [  1 480   6 484   3   2   0   0   0   0   0   0   0   0   0   0   0   0\n",
            "   0   0   0   0   0   0   0   0   0   0   0   0   0   0   0   0   0   0\n",
            "   0   0   0   0   0   0   0   0   0   0   0   0   0   0   0   0   0   0\n",
            "   0   0   0   0   0   0   0   0   0   0   0   0   0   0   0   0   0   0\n",
            "   0   0   0   0   0   0   0   0   0   0   0   0] \n",
            " Output: [480   6 484   3   2   0   0   0   0   0   0   0   0   0   0   0   0   0\n",
            "   0   0   0   0   0   0   0   0   0   0   0   0   0   0   0   0   0   0\n",
            "   0   0   0   0   0   0   0   0   0   0   0   0   0   0   0   0   0   0\n",
            "   0   0   0   0   0   0   0   0   0   0   0   0   0   0   0   0   0   0\n",
            "   0   0   0   0   0   0   0   0   0   0   0   0]\n",
            "Input: [  1  17 343   4  17 896 454   4   9  68 302   3   2   0   0   0   0   0\n",
            "   0   0   0   0   0   0   0   0   0   0   0   0   0   0   0   0   0   0\n",
            "   0   0   0   0   0   0   0   0   0   0   0   0   0   0   0   0   0   0\n",
            "   0   0   0   0   0   0   0   0   0   0   0   0   0   0   0   0   0   0\n",
            "   0   0   0   0   0   0   0   0   0   0   0   0] \n",
            " Output: [ 17 343   4  17 896 454   4   9  68 302   3   2   0   0   0   0   0   0\n",
            "   0   0   0   0   0   0   0   0   0   0   0   0   0   0   0   0   0   0\n",
            "   0   0   0   0   0   0   0   0   0   0   0   0   0   0   0   0   0   0\n",
            "   0   0   0   0   0   0   0   0   0   0   0   0   0   0   0   0   0   0\n",
            "   0   0   0   0   0   0   0   0   0   0   0   0]\n",
            "Input: [    1    17   191  5012    34  2522    29    15 12473     3     2     0\n",
            "     0     0     0     0     0     0     0     0     0     0     0     0\n",
            "     0     0     0     0     0     0     0     0     0     0     0     0\n",
            "     0     0     0     0     0     0     0     0     0     0     0     0\n",
            "     0     0     0     0     0     0     0     0     0     0     0     0\n",
            "     0     0     0     0     0     0     0     0     0     0     0     0\n",
            "     0     0     0     0     0     0     0     0     0     0     0     0] \n",
            " Output: [   17   191  5012    34  2522    29    15 12473     3     2     0     0\n",
            "     0     0     0     0     0     0     0     0     0     0     0     0\n",
            "     0     0     0     0     0     0     0     0     0     0     0     0\n",
            "     0     0     0     0     0     0     0     0     0     0     0     0\n",
            "     0     0     0     0     0     0     0     0     0     0     0     0\n",
            "     0     0     0     0     0     0     0     0     0     0     0     0\n",
            "     0     0     0     0     0     0     0     0     0     0     0     0]\n",
            "Input: [   1   11  151 1347  406    3    2    0    0    0    0    0    0    0\n",
            "    0    0    0    0    0    0    0    0    0    0    0    0    0    0\n",
            "    0    0    0    0    0    0    0    0    0    0    0    0    0    0\n",
            "    0    0    0    0    0    0    0    0    0    0    0    0    0    0\n",
            "    0    0    0    0    0    0    0    0    0    0    0    0    0    0\n",
            "    0    0    0    0    0    0    0    0    0    0    0    0    0    0] \n",
            " Output: [  11  151 1347  406    3    2    0    0    0    0    0    0    0    0\n",
            "    0    0    0    0    0    0    0    0    0    0    0    0    0    0\n",
            "    0    0    0    0    0    0    0    0    0    0    0    0    0    0\n",
            "    0    0    0    0    0    0    0    0    0    0    0    0    0    0\n",
            "    0    0    0    0    0    0    0    0    0    0    0    0    0    0\n",
            "    0    0    0    0    0    0    0    0    0    0    0    0    0    0]\n",
            "Input: [   1   14    9   61 2038    3    2    0    0    0    0    0    0    0\n",
            "    0    0    0    0    0    0    0    0    0    0    0    0    0    0\n",
            "    0    0    0    0    0    0    0    0    0    0    0    0    0    0\n",
            "    0    0    0    0    0    0    0    0    0    0    0    0    0    0\n",
            "    0    0    0    0    0    0    0    0    0    0    0    0    0    0\n",
            "    0    0    0    0    0    0    0    0    0    0    0    0    0    0] \n",
            " Output: [  14    9   61 2038    3    2    0    0    0    0    0    0    0    0\n",
            "    0    0    0    0    0    0    0    0    0    0    0    0    0    0\n",
            "    0    0    0    0    0    0    0    0    0    0    0    0    0    0\n",
            "    0    0    0    0    0    0    0    0    0    0    0    0    0    0\n",
            "    0    0    0    0    0    0    0    0    0    0    0    0    0    0\n",
            "    0    0    0    0    0    0    0    0    0    0    0    0    0    0]\n"
          ],
          "name": "stdout"
        }
      ]
    },
    {
      "cell_type": "code",
      "metadata": {
        "id": "Jvu4J4-u1ibu"
      },
      "source": [
        "# Define a categorical cross entropy loss object\n",
        "loss_object = SparseCategoricalCrossentropy(from_logits=True)\n",
        "\n",
        "# Define the encoder and decoder trainable variables\n",
        "variables = encoder.trainable_variables \\\n",
        "    + decoder.trainable_variables\n",
        "\n",
        "# Define a function to compute the forward and backward pass \n",
        "# for the translation model according to the above specification.\n",
        "# Use the @tf.function decorator\n",
        "@tf.function\n",
        "def gradients(inputs, labels_input, labels_target):\n",
        "    \"\"\"\n",
        "    Compute a loss and gradient of the encoder and decoder models, \n",
        "    corresponding to the encoder input, decoder input and decoder output.\n",
        "    \"\"\"\n",
        "    with tf.GradientTape() as tape:\n",
        "        # Pass inputs into the encoder to get hidden and cell states.\n",
        "        hidden_state, cell_state = encoder(inputs)\n",
        "        # Pass the hidden and cell states into the decoder, \n",
        "        # along with labels input to get prediction.\n",
        "        prediction, _, _ = decoder(labels_input, \n",
        "            hidden_state=hidden_state, cell_state=cell_state)\n",
        "        # Compute loss between the labels target and prediction\n",
        "        loss = loss_object(labels_target, prediction)\n",
        "    # Compute gradients with respect to the trainable variables\n",
        "    gradient = tape.gradient(loss, variables)\n",
        "    return loss, gradient, prediction"
      ],
      "execution_count": 33,
      "outputs": []
    },
    {
      "cell_type": "code",
      "metadata": {
        "id": "Vl5H06811ibx"
      },
      "source": [
        "# Define and run a custom training loop for a number of epochs\n",
        "# according to the above specification\n",
        "\n",
        "# Define the Adam optimizer.\n",
        "optimizer = Adam(learning_rate=0.001)\n",
        "\n",
        "# Generate a checkpoint object.\n",
        "checkpoint_dir = \"./training_checkpoints\"\n",
        "os.makedirs(checkpoint_dir, exist_ok=True)\n",
        "checkpoint_prefix = os.path.join(checkpoint_dir, \"ckpt\")\n",
        "checkpoint = Checkpoint(optimizer=optimizer, \n",
        "    encoder=encoder, decoder=decoder)\n",
        "\n",
        "# Create lists to accumulate the metric values\n",
        "train_loss = []\n",
        "train_accuracy = []\n",
        "valid_loss = []\n",
        "valid_accuracy = []\n",
        "valid_loss_min = np.Inf\n",
        "\n",
        "start_time = time()\n",
        "num_epochs = 20\n",
        "for epoch in range(num_epochs):\n",
        "    # Compute training loss and accuracy on the training dataset\n",
        "    train_batch_loss_avg = Mean()\n",
        "    train_batch_accuracy = SparseCategoricalAccuracy()\n",
        "    # Iterate through the training dataset\n",
        "    for inputs, labels in train_dataset:\n",
        "        # Create labels input and target from the labels\n",
        "        labels_input, labels_target = create_input_target(labels)\n",
        "        # Compute loss, gradient and prediction using \n",
        "        # the gradients function above\n",
        "        loss, gradient, prediction = gradients(\n",
        "            inputs, labels_input, labels_target)\n",
        "        # Update the variables of the model using the optimizer object\n",
        "        optimizer.apply_gradients(zip(gradient, variables))\n",
        "        # Compute average train loss\n",
        "        train_batch_loss_avg(loss)\n",
        "        # Compute accuracy between labels_target and prediction\n",
        "        train_batch_accuracy(labels_target, prediction)\n",
        "        \n",
        "    # Compute validation loss and accuracy on the validation dataset\n",
        "    valid_batch_loss_avg = Mean()\n",
        "    valid_batch_accuracy = SparseCategoricalAccuracy()\n",
        "    for inputs, labels in valid_dataset:\n",
        "        # Create labels input and target from the labels\n",
        "        labels_input, labels_target = create_input_target(labels)\n",
        "        # Pass inputs into the encoder to get hidden and cell states.\n",
        "        hidden_state, cell_state = encoder(inputs)\n",
        "        # Pass the hidden and cell states into the decoder, \n",
        "        # along with decoder input to get prediction.\n",
        "        prediction, _, _ = decoder(labels_input, \n",
        "            hidden_state=hidden_state, cell_state=cell_state)\n",
        "        # Compute loss between the labels target and prediction\n",
        "        loss = loss_object(labels_target, prediction)\n",
        "        # Compute average valid loss\n",
        "        valid_batch_loss_avg(loss)\n",
        "        # Compute accuracy between labels target and prediction\n",
        "        valid_batch_accuracy(labels_target, prediction)\n",
        "            \n",
        "    # Return a list of losses values per epoch.\n",
        "    train_epoch_loss = train_batch_loss_avg.result().numpy()\n",
        "    train_epoch_accuracy = train_batch_accuracy.result().numpy()\n",
        "    print(\"Epoch {:03d}: Train loss: {:.3f}, Train accuracy: {:.3f}\".format(\n",
        "        epoch, train_epoch_loss, train_epoch_accuracy))\n",
        "    valid_epoch_loss = valid_batch_loss_avg.result().numpy()\n",
        "    valid_epoch_accuracy = valid_batch_accuracy.result().numpy()\n",
        "    print(\"Epoch {:03d}: Valid loss: {:.3f}, Valid accuracy: {:.3f}\".format(\n",
        "        epoch, valid_epoch_loss, valid_epoch_accuracy))\n",
        "    \n",
        "    # Save only the weights that generate the lowest validation loss.\n",
        "    if valid_epoch_loss <= valid_loss_min:\n",
        "        print(\"Validation loss decreased. Saving checkpoint\")\n",
        "        checkpoint.save(file_prefix=checkpoint_prefix)\n",
        "        valid_loss_min = valid_epoch_loss\n",
        "    \n",
        "    # Save the training and validation losses and accuracy every epoch\n",
        "    train_loss.append(train_epoch_loss)\n",
        "    train_accuracy.append(train_epoch_accuracy)\n",
        "    valid_loss.append(valid_epoch_loss)\n",
        "    valid_accuracy.append(valid_epoch_accuracy)\n",
        "\n",
        "print(\"Duration :{:.3f}\".format(time() - start_time))"
      ],
      "execution_count": null,
      "outputs": []
    },
    {
      "cell_type": "code",
      "metadata": {
        "id": "dpacst2F1ib7"
      },
      "source": [
        "# Plot the learning curves for loss vs epoch and \n",
        "# accuracy vs epoch for both training and validation sets.\n",
        "fig = plt.figure(figsize=(20, 10))\n",
        "# Loss vs epoch\n",
        "plt.subplot(121)\n",
        "plt.plot(train_loss)\n",
        "plt.plot(valid_loss)\n",
        "plt.title(\"Loss vs epochs\")\n",
        "plt.ylabel(\"Loss\")\n",
        "plt.xlabel(\"Epoch\")\n",
        "plt.legend([\"Training\", \"Validation\"], loc=\"upper right\")\n",
        "\n",
        "# Accuracy vs epoch\n",
        "plt.subplot(122)\n",
        "plt.plot(train_accuracy)\n",
        "plt.plot(valid_accuracy)\n",
        "plt.title(\"Accuracy vs epochs\")\n",
        "plt.ylabel(\"Accuracy\")\n",
        "plt.xlabel(\"Epoch\")\n",
        "plt.legend([\"Training\", \"Validation\"], loc=\"lower right\")\n",
        "plt.show()"
      ],
      "execution_count": null,
      "outputs": []
    },
    {
      "cell_type": "markdown",
      "metadata": {
        "id": "xM2gvBM11ib-"
      },
      "source": [
        "## 7. Use the model to translate\n",
        "Now it's time to put your model into practice! You should run your translation for five randomly sampled English sentences from the dataset. For each sentence, the process is as follows:\n",
        "* Preprocess and embed the English sentence according to the model requirements.\n",
        "* Pass the embedded sentence through the encoder to get the encoder hidden and cell states.\n",
        "* Starting with the special  `\"<start>\"` token, use this token and the final encoder hidden and cell states to get the one-step prediction from the decoder, as well as the decoder’s updated hidden and cell states.\n",
        "* Create a loop to get the next step prediction and updated hidden and cell states from the decoder, using the most recent hidden and cell states. Terminate the loop when the `\"<end>\"` token is emitted, or when the sentence has reached a maximum length.\n",
        "* Decode the output token sequence into German text and print the English text and the model's German translation."
      ]
    },
    {
      "cell_type": "code",
      "metadata": {
        "id": "yAubu7cRxJrd"
      },
      "source": [
        "# Restore the checkpoint that saves only the weights that generate the \n",
        "# lowest validation loss in checkpoint_dir.\n",
        "checkpoint.restore(latest_checkpoint('./training_checkpoints'))"
      ],
      "execution_count": null,
      "outputs": []
    },
    {
      "cell_type": "code",
      "metadata": {
        "id": "ejV8YqJamelT"
      },
      "source": [
        "# 5 randomly sampled of English sentences from the dataset\n",
        "num_samples = 5\n",
        "inx = np.random.choice(len(en_sentence), num_samples, replace=False)\n",
        "\n",
        "for inputs, labels in zip(np.array(en_sentence)[inx], \n",
        "    np.array(ge_sentence)[inx]):\n",
        "    # Preprocess and embed the inputs sentence \n",
        "    # according to the above requirement.\n",
        "    x = split_sentence(inputs)\n",
        "    x = embed_word(x)\n",
        "    if filter_token(x):\n",
        "        x = pre_pad(x)\n",
        "    else:\n",
        "        continue\n",
        "    x = tf.expand_dims(x, axis=0)\n",
        "    # Pass the embedded sentence through the encoder\n",
        "    # to get hidden and cell states.\n",
        "    hidden_state, cell_state = encoder(x)\n",
        "    # Compute prediction result and accuracy\n",
        "    predicts = \"\"\n",
        "    accuracy = SparseCategoricalAccuracy()\n",
        "    # Tokenize the labels sentence\n",
        "    y = ge_tokenizer.texts_to_sequences([labels])\n",
        "    y = pad_sequences(y, maxlen=ge_padded.shape[1], padding='post')\n",
        "    # Starting with the special \"<start>\" token\n",
        "    dec_input = tf.expand_dims([ge_tokenizer.word_index[\"<start>\"]], 0)\n",
        "    # Create a loop to get prediction, hidden and cell states\n",
        "    # until reach a maximum length\n",
        "    for t in range(ge_padded.shape[1]):\n",
        "        prediction, hidden_state, cell_state = decoder(dec_input, \n",
        "            hidden_state=hidden_state, cell_state=cell_state)\n",
        "        # Decode the output token sequence into German text\n",
        "        predict_id = tf.argmax(tf.squeeze(prediction)).numpy()\n",
        "        predict_word = ge_tokenizer.index_word[predict_id]\n",
        "        # Terminate the loop when the \"<end>\" token in emitted\n",
        "        if predict_word!=\"<end>\":\n",
        "            predicts += predict_word + \" \"\n",
        "            dec_input = tf.expand_dims([predict_id], 0)\n",
        "        else:\n",
        "            break\n",
        "        # Compute accuracy between labels and prediction\n",
        "        accuracy(y[:, t], tf.squeeze(prediction))\n",
        "\n",
        "    # Print the English, German texts and the predicted German translation\n",
        "    print(\"Input: {}\".format(inputs))\n",
        "    print(\"True translation: {}\".format(labels))\n",
        "    print(\"Predict translation: {}\".format(predicts))\n",
        "    print(\"Accuracy: {}\\n\".format(accuracy.result().numpy()))"
      ],
      "execution_count": null,
      "outputs": []
    }
  ]
}