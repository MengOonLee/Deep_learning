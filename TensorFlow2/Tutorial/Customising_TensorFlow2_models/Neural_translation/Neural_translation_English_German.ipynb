{
  "nbformat": 4,
  "nbformat_minor": 0,
  "metadata": {
    "kernelspec": {
      "name": "python3",
      "display_name": "Python 3"
    },
    "colab": {
      "name": "Capstone Project.ipynb",
      "provenance": [],
      "collapsed_sections": [],
      "include_colab_link": true
    }
  },
  "cells": [
    {
      "cell_type": "markdown",
      "metadata": {
        "id": "view-in-github",
        "colab_type": "text"
      },
      "source": [
        "<a href=\"https://colab.research.google.com/github/MengOonLee/Deep_learning/blob/master/TensorFlow2/Tutorial/Customising_TensorFlow2_models/Neural_translation/Neural_translation_English_German.ipynb\" target=\"_parent\"><img src=\"https://colab.research.google.com/assets/colab-badge.svg\" alt=\"Open In Colab\"/></a>"
      ]
    },
    {
      "cell_type": "markdown",
      "metadata": {
        "id": "vsX0L1sG1iZj"
      },
      "source": [
        "# Capstone Project\n",
        "## Neural translation model\n",
        "### Instructions\n",
        "\n",
        "In this notebook, you will create a neural network that translates from English to German. You will use concepts from throughout this course, including building more flexible model architectures, freezing layers, data processing pipeline and sequence modelling.\n",
        "\n",
        "This project is peer-assessed. Within this notebook you will find instructions in each section for how to complete the project. Pay close attention to the instructions as the peer review will be carried out according to a grading rubric that checks key parts of the project instructions. Feel free to add extra cells into the notebook as required.\n",
        "\n",
        "### How to submit\n",
        "\n",
        "When you have completed the Capstone project notebook, you will submit a pdf of the notebook for peer review. First ensure that the notebook has been fully executed from beginning to end, and all of the cell outputs are visible. This is important, as the grading rubric depends on the reviewer being able to view the outputs of your notebook. Save the notebook as a pdf (you could download the notebook with File -> Download .ipynb, open the notebook locally, and then File -> Download as -> PDF via LaTeX), and then submit this pdf for review.\n",
        "\n",
        "### Let's get started!\n",
        "\n",
        "We'll start by running some imports, and loading the dataset. For this project you are free to make further imports throughout the notebook as you wish. "
      ]
    },
    {
      "cell_type": "code",
      "metadata": {
        "id": "2VyTvxPN1iZn"
      },
      "source": [
        "import tensorflow as tf\n",
        "import tensorflow_hub as hub\n",
        "import unicodedata\n",
        "import re\n",
        "import os\n",
        "import numpy as np\n",
        "\n",
        "import matplotlib.pyplot as plt\n",
        "%matplotlib inline\n",
        "\n",
        "from tensorflow.keras.preprocessing.text import Tokenizer\n",
        "from tensorflow.keras.preprocessing.sequence import pad_sequences\n",
        "from sklearn.model_selection import train_test_split\n",
        "from tensorflow.keras.layers import Layer, Input, Masking, LSTM, \\\n",
        "    Embedding, Dense\n",
        "from tensorflow.keras.models import Model\n",
        "from tensorflow.keras.utils import plot_model\n",
        "from tensorflow.keras.losses import SparseCategoricalCrossentropy\n",
        "from tensorflow.keras.optimizers import Adam\n",
        "from tensorflow.keras.metrics import Mean\n",
        "# from tensorflow.keras.callbacks import ModelCheckpoint\n",
        "# from tensorflow.train import latest_checkpoint"
      ],
      "execution_count": 1,
      "outputs": []
    },
    {
      "cell_type": "markdown",
      "metadata": {
        "id": "wuIi4lAR1iZt"
      },
      "source": [
        "![Flags overview image](https://github.com/MengOonLee/Deep_learning/blob/master/TensorFlow2/Tutorial/image/neural_translation/germany_uk_flags.png?raw=1)\n",
        "\n",
        "For the capstone project, you will use a language dataset from http://www.manythings.org/anki/ to build a neural translation model. This dataset consists of over 200,000 pairs of sentences in English and German. In order to make the training quicker, we will restrict to our dataset to 20,000 pairs. Feel free to change this if you wish - the size of the dataset used is not part of the grading rubric.\n",
        "\n",
        "Your goal is to develop a neural translation model from English to German, making use of a pre-trained English word embedding module."
      ]
    },
    {
      "cell_type": "markdown",
      "metadata": {
        "id": "pi9Dq6vv3FVO"
      },
      "source": [
        "#### Import the data\n",
        "\n",
        "The dataset is available for download as a zip file at the following link:\n",
        "\n",
        "https://drive.google.com/open?id=1KczOciG7sYY7SB9UlBeRP1T9659b121Q\n",
        "\n",
        "You should store the unzipped folder in local drive for use in this Colab notebook."
      ]
    },
    {
      "cell_type": "code",
      "metadata": {
        "id": "dX21AuCFgxuV"
      },
      "source": [
        "os.makedirs(\"./data\", exist_ok=True)"
      ],
      "execution_count": 2,
      "outputs": []
    },
    {
      "cell_type": "code",
      "metadata": {
        "colab": {
          "base_uri": "https://localhost:8080/"
        },
        "id": "MAfYIl-cERc_",
        "outputId": "727f8174-7b48-4e87-c3cb-2de9e82a5985"
      },
      "source": [
        "%%bash\n",
        "\n",
        "fileid=\"1KczOciG7sYY7SB9UlBeRP1T9659b121Q\"\n",
        "filename=\"./data/deu.txt\"\n",
        "curl -c ./cookie -s -L \"https://drive.google.com/uc?export=download&id=${fileid}\" > /dev/null\n",
        "curl -Lb ./cookie \"https://drive.google.com/uc?export=download&confirm=`awk '/download/ {print $NF}' ./cookie`&id=${fileid}\" -o ${filename}"
      ],
      "execution_count": 3,
      "outputs": [
        {
          "output_type": "stream",
          "text": [
            "  % Total    % Received % Xferd  Average Speed   Time    Time     Time  Current\n",
            "                                 Dload  Upload   Total   Spent    Left  Speed\n",
            "\r  0     0    0     0    0     0      0      0 --:--:-- --:--:-- --:--:--     0\r  0     0    0     0    0     0      0      0 --:--:-- --:--:-- --:--:--     0\r100   408    0   408    0     0    740      0 --:--:-- --:--:-- --:--:--   739\n",
            "\r  0     0    0     0    0     0      0      0 --:--:-- --:--:-- --:--:--     0\n",
            "\r  0     0    0     0    0     0      0      0 --:--:-- --:--:-- --:--:--     0\n",
            "\r  0     0    0     0    0     0      0      0 --:--:--  0:00:01 --:--:--     0\r100 29.9M    0 29.9M    0     0  21.1M      0 --:--:--  0:00:01 --:--:--  235M\n"
          ],
          "name": "stderr"
        }
      ]
    },
    {
      "cell_type": "code",
      "metadata": {
        "id": "o8PetPpw1iZu"
      },
      "source": [
        "# Run this cell to load the dataset\n",
        "\n",
        "NUM_EXAMPLES = 20000\n",
        "data_examples = []\n",
        "with open('data/deu.txt', 'r', encoding='utf8') as f:\n",
        "    for line in f.readlines():\n",
        "        if len(data_examples) < NUM_EXAMPLES:\n",
        "            data_examples.append(line)\n",
        "        else:\n",
        "            break"
      ],
      "execution_count": 4,
      "outputs": []
    },
    {
      "cell_type": "code",
      "metadata": {
        "id": "JumLjJ631iZy"
      },
      "source": [
        "# These functions preprocess English and German sentences\n",
        "\n",
        "def unicode_to_ascii(s):\n",
        "    return ''.join(c for c in unicodedata.normalize('NFD', s) \n",
        "        if unicodedata.category(c) != 'Mn')\n",
        "\n",
        "def preprocess_sentence(sentence):\n",
        "    sentence = sentence.lower().strip()\n",
        "    sentence = re.sub(r\"ü\", 'ue', sentence)\n",
        "    sentence = re.sub(r\"ä\", 'ae', sentence)\n",
        "    sentence = re.sub(r\"ö\", 'oe', sentence)\n",
        "    sentence = re.sub(r'ß', 'ss', sentence)\n",
        "    \n",
        "    sentence = unicode_to_ascii(sentence)\n",
        "    sentence = re.sub(r\"([?.!,])\", r\" \\1 \", sentence)\n",
        "    sentence = re.sub(r\"[^a-z?.!,']+\", \" \", sentence)\n",
        "    sentence = re.sub(r'[\" \"]+', \" \", sentence)\n",
        "    \n",
        "    return sentence.strip()"
      ],
      "execution_count": 5,
      "outputs": []
    },
    {
      "cell_type": "markdown",
      "metadata": {
        "id": "XFJap-TW1iZ2"
      },
      "source": [
        "#### The custom translation model\n",
        "The following is a schematic of the custom translation model architecture you will develop in this project.\n",
        "\n",
        "![Model Schematic](https://github.com/MengOonLee/Deep_learning/blob/master/TensorFlow2/Tutorial/image/neural_translation/neural_translation_model.png?raw=1)\n",
        "\n",
        "Key:\n",
        "![Model key](https://github.com/MengOonLee/Deep_learning/blob/master/TensorFlow2/Tutorial/image/neural_translation/neural_translation_model_key.png?raw=1)\n",
        "\n",
        "The custom model consists of an encoder RNN and a decoder RNN. The encoder takes words of an English sentence as input, and uses a pre-trained word embedding to embed the words into a 128-dimensional space. To indicate the end of the input sentence, a special end token (in the same 128-dimensional space) is passed in as an input. This token is a TensorFlow Variable that is learned in the training phase (unlike the pre-trained word embedding, which is frozen).\n",
        "\n",
        "The decoder RNN takes the internal state of the encoder network as its initial state. A `<start>` token is passed in as the first input, which is embedded using a learned German word embedding. The decoder RNN then makes a prediction for the next German word, which during inference is then passed in as the following input, and this process is repeated until the special `<end>` token is emitted from the decoder."
      ]
    },
    {
      "cell_type": "markdown",
      "metadata": {
        "id": "z70nu6_01iZ3"
      },
      "source": [
        "## 1. Text preprocessing\n",
        "* Create separate lists of English and German sentences, and preprocess them using the `preprocess_sentence` function provided for you above.\n",
        "* Add a special `\"<start>\"` and `\"<end>\"` token to the beginning and end of every German sentence.\n",
        "* Use the Tokenizer class from the `tf.keras.preprocessing.text` module to tokenize the German sentences, ensuring that no character filters are applied. _Hint: use the Tokenizer's \"filter\" keyword argument._\n",
        "* Print out at least 5 randomly chosen examples of (preprocessed) English and German sentence pairs. For the German sentence, print out the text (with start and end tokens) as well as the tokenized sequence.\n",
        "* Pad the end of the tokenized German sequences with zeros, and batch the complete set of sequences into one numpy array."
      ]
    },
    {
      "cell_type": "code",
      "metadata": {
        "scrolled": true,
        "id": "9G20C4bk1iZ4",
        "colab": {
          "base_uri": "https://localhost:8080/"
        },
        "outputId": "e11fbdc0-afe4-4a44-88f1-c3ddb80b4c17"
      },
      "source": [
        "def create_sentence(data):\n",
        "    \"\"\"\n",
        "    Preprocess the data using the preprocess_sentence function\n",
        "    and return sentence pairs.\n",
        "    \"\"\"\n",
        "    sentence_pair = [[preprocess_sentence(w) for w in l.split('\\t')][:2] \n",
        "        for l in data]\n",
        "    return zip(*sentence_pair)\n",
        "\n",
        "# get pairs\n",
        "en_sentence, ge_sentence = create_sentence(data_examples)\n",
        "# show last 5 pairs\n",
        "for pair in zip(en_sentence[-5:], ge_sentence[-5:]):\n",
        "    print(pair)"
      ],
      "execution_count": 6,
      "outputs": [
        {
          "output_type": "stream",
          "text": [
            "(\"i've been working .\", 'ich war arbeiten .')\n",
            "(\"i've bought a car .\", 'ich habe ein auto gekauft .')\n",
            "(\"i've come for tom .\", 'ich bin fuer tom gekommen .')\n",
            "(\"i've done nothing .\", 'ich habe nichts getan .')\n",
            "(\"i've eaten enough .\", 'ich habe genug gegessen .')\n"
          ],
          "name": "stdout"
        }
      ]
    },
    {
      "cell_type": "code",
      "metadata": {
        "id": "DhdUE_5ukdjv",
        "colab": {
          "base_uri": "https://localhost:8080/"
        },
        "outputId": "0c51955b-8b07-493c-ebda-7e4229dc39c2"
      },
      "source": [
        "def add_start_end(sentence):\n",
        "    \"\"\"\n",
        "    Adding a start and end token to the sentence so that the\n",
        "    model know when to start and stop predicting.\n",
        "    \"\"\"\n",
        "    return [\"<start> \" + s + \" <end>\" for s in sentence]\n",
        "\n",
        "ge_sentence = add_start_end(ge_sentence)\n",
        "ge_sentence[-5:]"
      ],
      "execution_count": 7,
      "outputs": [
        {
          "output_type": "execute_result",
          "data": {
            "text/plain": [
              "['<start> ich war arbeiten . <end>',\n",
              " '<start> ich habe ein auto gekauft . <end>',\n",
              " '<start> ich bin fuer tom gekommen . <end>',\n",
              " '<start> ich habe nichts getan . <end>',\n",
              " '<start> ich habe genug gegessen . <end>']"
            ]
          },
          "metadata": {
            "tags": []
          },
          "execution_count": 7
        }
      ]
    },
    {
      "cell_type": "code",
      "metadata": {
        "id": "5UlnBdIK1iaE",
        "colab": {
          "base_uri": "https://localhost:8080/"
        },
        "outputId": "2470f159-6355-4c19-b195-ffce103c265e"
      },
      "source": [
        "def create_tokenizer(sentence):\n",
        "    \"\"\"\n",
        "    Create and return a Tokenizer.\n",
        "    \"\"\"\n",
        "    tokenizer = Tokenizer(filters='')\n",
        "    tokenizer.fit_on_texts(sentence)\n",
        "    return tokenizer\n",
        "\n",
        "# Build the German tokenizer vocabulary\n",
        "ge_tokenizer = create_tokenizer(ge_sentence)\n",
        "# Tokenize the German sentences\n",
        "ge_sequence = ge_tokenizer.texts_to_sequences(ge_sentence)\n",
        "ge_sequence[-5:]"
      ],
      "execution_count": 8,
      "outputs": [
        {
          "output_type": "execute_result",
          "data": {
            "text/plain": [
              "[[1, 4, 24, 252, 3, 2],\n",
              " [1, 4, 18, 19, 82, 280, 3, 2],\n",
              " [1, 4, 15, 77, 5, 276, 3, 2],\n",
              " [1, 4, 18, 108, 182, 3, 2],\n",
              " [1, 4, 18, 480, 217, 3, 2]]"
            ]
          },
          "metadata": {
            "tags": []
          },
          "execution_count": 8
        }
      ]
    },
    {
      "cell_type": "code",
      "metadata": {
        "id": "ZGTaqt1t1iaI",
        "colab": {
          "base_uri": "https://localhost:8080/"
        },
        "outputId": "2318c655-ee01-46eb-a1c7-46d307cbe453"
      },
      "source": [
        "# Randomly select 5 examples of English and German sentence pairs\n",
        "num_samples = 5\n",
        "inx = np.random.choice(len(en_sentence), num_samples, replace=False)\n",
        "\n",
        "for n, i in enumerate(inx):\n",
        "    print(n, en_sentence[i])\n",
        "    print(n, ge_sentence[i], ge_sequence[i])"
      ],
      "execution_count": 9,
      "outputs": [
        {
          "output_type": "stream",
          "text": [
            "0 tom needs this .\n",
            "0 <start> tom braucht das . <end> [1, 5, 197, 11, 3, 2]\n",
            "1 tom is powerful .\n",
            "1 <start> tom ist maechtig . <end> [1, 5, 6, 2029, 3, 2]\n",
            "2 i mean it !\n",
            "2 <start> ich meine es ernst ! <end> [1, 4, 60, 10, 247, 9, 2]\n",
            "3 you wouldn't lie .\n",
            "3 <start> sie loegen nicht . <end> [1, 8, 5400, 12, 3, 2]\n",
            "4 i forget his name .\n",
            "4 <start> ich komm im moment nicht auf seinen namen . <end> [1, 4, 74, 104, 1001, 12, 29, 455, 661, 3, 2]\n"
          ],
          "name": "stdout"
        }
      ]
    },
    {
      "cell_type": "code",
      "metadata": {
        "id": "m3-tjXZn6_RN",
        "colab": {
          "base_uri": "https://localhost:8080/"
        },
        "outputId": "92c33bb9-03ec-438b-f35d-8caf347f1b38"
      },
      "source": [
        "def post_pad(sequence):\n",
        "    \"\"\"\n",
        "    Pad each sequence to a maximum length.\n",
        "    \"\"\"\n",
        "    return pad_sequences(sequence, padding='post')\n",
        "\n",
        "ge_padded = post_pad(ge_sequence)\n",
        "ge_padded[-5:]"
      ],
      "execution_count": 10,
      "outputs": [
        {
          "output_type": "execute_result",
          "data": {
            "text/plain": [
              "array([[  1,   4,  24, 252,   3,   2,   0,   0,   0,   0,   0,   0,   0,\n",
              "          0],\n",
              "       [  1,   4,  18,  19,  82, 280,   3,   2,   0,   0,   0,   0,   0,\n",
              "          0],\n",
              "       [  1,   4,  15,  77,   5, 276,   3,   2,   0,   0,   0,   0,   0,\n",
              "          0],\n",
              "       [  1,   4,  18, 108, 182,   3,   2,   0,   0,   0,   0,   0,   0,\n",
              "          0],\n",
              "       [  1,   4,  18, 480, 217,   3,   2,   0,   0,   0,   0,   0,   0,\n",
              "          0]], dtype=int32)"
            ]
          },
          "metadata": {
            "tags": []
          },
          "execution_count": 10
        }
      ]
    },
    {
      "cell_type": "markdown",
      "metadata": {
        "id": "foL7Ihs21iaP"
      },
      "source": [
        "## 2. Prepare the data with tf.data.Dataset objects"
      ]
    },
    {
      "cell_type": "markdown",
      "metadata": {
        "id": "-9rCEE4z1iaQ"
      },
      "source": [
        "#### Load the embedding layer\n",
        "As part of the dataset preproceessing for this project, you will use a pre-trained English word embedding module from TensorFlow Hub. The URL for the module is https://tfhub.dev/google/tf2-preview/nnlm-en-dim128-with-normalization/1.\n",
        "\n",
        "This embedding takes a batch of text tokens in a 1-D tensor of strings as input. It then embeds the separate tokens into a 128-dimensional space. \n",
        "\n",
        "The code to load and test the embedding layer is provided for you below.\n",
        "\n",
        "**NB:** This model can also be used as a sentence embedding module. The module will process each token by removing punctuation and splitting on spaces. It then averages the word embeddings over a sentence to give a single embedding vector. However, we will use it only as a word embedding module, and will pass each word in the input sentence as a separate token."
      ]
    },
    {
      "cell_type": "code",
      "metadata": {
        "id": "ywZgobCh1iaR"
      },
      "source": [
        "# Load embedding module from Tensorflow Hub\n",
        "embed_dim=128\n",
        "embedding_layer = hub.KerasLayer(\"https://tfhub.dev/google/tf2-preview/nnlm-en-dim128/1\", \n",
        "    output_shape=(embed_dim), input_shape=(), dtype=tf.string)"
      ],
      "execution_count": 11,
      "outputs": []
    },
    {
      "cell_type": "code",
      "metadata": {
        "id": "TiY8QEDp1iaV",
        "colab": {
          "base_uri": "https://localhost:8080/"
        },
        "outputId": "489472fe-0f2c-4adf-e891-7a5aa698cad6"
      },
      "source": [
        "# Test the layer\n",
        "\n",
        "embedding_layer(tf.constant([\"these\", \"aren't\", \"the\", \"droids\", \"you're\", \"looking\", \"for\"])).shape"
      ],
      "execution_count": 12,
      "outputs": [
        {
          "output_type": "execute_result",
          "data": {
            "text/plain": [
              "TensorShape([7, 128])"
            ]
          },
          "metadata": {
            "tags": []
          },
          "execution_count": 12
        }
      ]
    },
    {
      "cell_type": "markdown",
      "metadata": {
        "id": "KjuzXc-z1iaY"
      },
      "source": [
        "You should now prepare the training and validation Datasets.\n",
        "\n",
        "* Create a random training and validation set split of the data, reserving e.g. 20% of the data for validation (NB: each English dataset example is a single sentence string, and each German dataset example is a sequence of padded integer tokens).\n",
        "* Load the training and validation sets into a tf.data.Dataset object, passing in a tuple of English and German data for both training and validation sets.\n",
        "* Create a function to map over the datasets that splits each English sentence at spaces. Apply this function to both Dataset objects using the map method. _Hint: look at the tf.strings.split function._\n",
        "* Create a function to map over the datasets that embeds each sequence of English words using the loaded embedding layer/model. Apply this function to both Dataset objects using the map method.\n",
        "* Create a function to filter out dataset examples where the English sentence is greater than or equal to than 13 (embedded) tokens in length. Apply this function to both Dataset objects using the filter method.\n",
        "* Create a function to map over the datasets that pads each English sequence of embeddings with some distinct padding value before the sequence, so that each sequence is length 13. Apply this function to both Dataset objects using the map method. _Hint: look at the tf.pad function. You can extract a Tensor shape using tf.shape; you might also find the tf.math.maximum function useful._\n",
        "* Batch both training and validation Datasets with a batch size of 16.\n",
        "* Print the `element_spec` property for the training and validation Datasets. \n",
        "* Using the Dataset `.take(1)` method, print the shape of the English data example from the training Dataset.\n",
        "* Using the Dataset `.take(1)` method, print the German data example Tensor from the validation Dataset."
      ]
    },
    {
      "cell_type": "code",
      "metadata": {
        "id": "Q-BUJOl_1iaZ",
        "colab": {
          "base_uri": "https://localhost:8080/"
        },
        "outputId": "5e25c129-e035-4e1d-9911-df09695ad828"
      },
      "source": [
        "# Create a random training and validation sets using an 80-20 split\n",
        "en_train, en_valid, ge_train, ge_valid = train_test_split(\n",
        "    en_sentence, ge_padded, test_size=0.2)\n",
        "\n",
        "# Examine the shape of data\n",
        "print(\"The shape of training dataset:\")\n",
        "print(f\"English: {np.array(en_train).shape} \\t German: {ge_train.shape}\")\n",
        "print(\"The shape of validation dataset:\")\n",
        "print(f\"English: {np.array(en_valid).shape} \\t German: {ge_valid.shape}\")"
      ],
      "execution_count": 13,
      "outputs": [
        {
          "output_type": "stream",
          "text": [
            "The shape of training dataset:\n",
            "English: (16000,) \t German: (16000, 14)\n",
            "The shape of validation dataset:\n",
            "English: (4000,) \t German: (4000, 14)\n"
          ],
          "name": "stdout"
        }
      ]
    },
    {
      "cell_type": "code",
      "metadata": {
        "id": "4w6rM8Bl1iad",
        "colab": {
          "base_uri": "https://localhost:8080/"
        },
        "outputId": "8d23599d-8593-40db-920e-2719368e6be5"
      },
      "source": [
        "def create_dataset(inputs):\n",
        "    \"\"\"\n",
        "    Take a tuple of inputs (source, label) \n",
        "    to create a tf.data.Dataset object.\n",
        "    \"\"\"\n",
        "    dataset = tf.data.Dataset.from_tensor_slices(inputs)\n",
        "    dataset = dataset.shuffle(len(inputs[0]))\n",
        "    return dataset\n",
        "\n",
        "# Create Dataset object for both training and vailidation sets\n",
        "train_dataset = create_dataset((en_train, ge_train))\n",
        "valid_dataset = create_dataset((en_valid, ge_valid))\n",
        "\n",
        "# # Print the first 5 elements of the training dataset\n",
        "for x, y in train_dataset.take(5):\n",
        "    print(x.numpy(), y.numpy())"
      ],
      "execution_count": 14,
      "outputs": [
        {
          "output_type": "stream",
          "text": [
            "b'you should eat .' [  1   8 565 154   3   2   0   0   0   0   0   0   0   0]\n",
            "b\"everyone's asleep .\" [  1  78 260   3   2   0   0   0   0   0   0   0   0   0]\n",
            "b'i smell gas .' [   1    4 1845  820    3    2    0    0    0    0    0    0    0    0]\n",
            "b'tom sounded mad .' [   1    5 1429  245    3    2    0    0    0    0    0    0    0    0]\n",
            "b\"you're so lazy .\" [  1  27  73 221  70 523   9   2   0   0   0   0   0   0]\n"
          ],
          "name": "stdout"
        }
      ]
    },
    {
      "cell_type": "code",
      "metadata": {
        "id": "D7bn3mRs1iaj",
        "colab": {
          "base_uri": "https://localhost:8080/"
        },
        "outputId": "0dee816d-b70d-49c1-fa01-f1aa2c193d1b"
      },
      "source": [
        "def split_sentence(sentence):\n",
        "    \"\"\"\n",
        "    Split each sentence at spaces.\n",
        "    \"\"\"\n",
        "    return tf.strings.split(sentence, sep=' ')\n",
        "\n",
        "# Map the function over the both dataset objects. \n",
        "train_dataset = train_dataset.map(lambda x, _: (split_sentence(x), _))\n",
        "valid_dataset = valid_dataset.map(lambda x, _: (split_sentence(x), _))\n",
        "\n",
        "# # Print the first 5 elements of English sentence from the training dataset\n",
        "for x, _ in train_dataset.take(5):\n",
        "    print(x.numpy())"
      ],
      "execution_count": 15,
      "outputs": [
        {
          "output_type": "stream",
          "text": [
            "[b\"we're\" b'early' b'.']\n",
            "[b'i' b'love' b'sports' b'.']\n",
            "[b'is' b'it' b'damaged' b'?']\n",
            "[b'i' b'looked' b'down' b'.']\n",
            "[b\"he's\" b'a' b'grouch' b'.']\n"
          ],
          "name": "stdout"
        }
      ]
    },
    {
      "cell_type": "code",
      "metadata": {
        "id": "q0Fdso381ian"
      },
      "source": [
        "def embed_word(sequence):\n",
        "    \"\"\"\n",
        "    Embeds each sequence of word using the loaded embedding layer.\n",
        "    \"\"\"\n",
        "    return embedding_layer(sequence)\n",
        "\n",
        "# Map the function over the both dataset objects. \n",
        "train_dataset = train_dataset.map(lambda x, _: (embed_word(x), _))\n",
        "valid_dataset = valid_dataset.map(lambda x, _: (embed_word(x), _))\n",
        "\n",
        "# Print the number of element for both datasets\n",
        "# print(\"The number of element for training dataset: {}\".format(\n",
        "#     train_dataset.reduce(0, lambda x, _: x + 1).numpy()))\n",
        "# print(\"The number of element for validation dataset: {}\".format(\n",
        "#     valid_dataset.reduce(0, lambda x, _: x + 1).numpy()))"
      ],
      "execution_count": 16,
      "outputs": []
    },
    {
      "cell_type": "code",
      "metadata": {
        "id": "bGqlxuqZ1ias"
      },
      "source": [
        "def filter_token(sequence):\n",
        "    \"\"\"\n",
        "    Filter dataset where the sequence length < 13 tokens.\n",
        "    \"\"\"\n",
        "    return len(sequence)<13\n",
        "\n",
        "# Filter over the both Dataset objects.\n",
        "train_dataset = train_dataset.filter(lambda x, _: filter_token(x))\n",
        "valid_dataset = valid_dataset.filter(lambda x, _: filter_token(x))\n",
        "\n",
        "# Print the number of element for both datasets\n",
        "# print(\"The number of element for training dataset: {}\".format(\n",
        "#     train_dataset.reduce(0, lambda x, _: x + 1).numpy()))\n",
        "# print(\"The number of element for validation dataset: {}\".format(\n",
        "#     valid_dataset.reduce(0, lambda x, _: x + 1).numpy()))"
      ],
      "execution_count": 17,
      "outputs": []
    },
    {
      "cell_type": "code",
      "metadata": {
        "id": "-3Zlr2M0BBhH",
        "colab": {
          "base_uri": "https://localhost:8080/"
        },
        "outputId": "62922465-1470-4f64-cc52-fbd49a567c65"
      },
      "source": [
        "def pre_pad(sequence):\n",
        "    \"\"\"\n",
        "    Pads each sequence with some distinct value before the sequence, \n",
        "    so that each sequence length=13.\n",
        "    \"\"\"\n",
        "    pad_size = tf.math.maximum(0, 13 - tf.shape(sequence)[0])\n",
        "    paddings = tf.concat(([[pad_size, 0]], [[0, 0]]), axis=0)\n",
        "    padded = tf.pad(sequence, paddings, \"CONSTANT\")\n",
        "    return tf.reshape(padded, (13, 128))\n",
        "\n",
        "# Map the function over the both Dataset objects. \n",
        "train_dataset = train_dataset.map(lambda x, _: (pre_pad(x), _))\n",
        "valid_dataset = valid_dataset.map(lambda x, _: (pre_pad(x), _))\n",
        "\n",
        "# Print the element_spec property for both datasets\n",
        "print(\"The element_spec property of training dataset: \\n {}\".format(\n",
        "    train_dataset.element_spec))\n",
        "print(\"The element_spec property of validation dataset: \\n {}\".format(\n",
        "    valid_dataset.element_spec))"
      ],
      "execution_count": 18,
      "outputs": [
        {
          "output_type": "stream",
          "text": [
            "The element_spec property of training dataset: \n",
            " (TensorSpec(shape=(13, 128), dtype=tf.float32, name=None), TensorSpec(shape=(14,), dtype=tf.int32, name=None))\n",
            "The element_spec property of validation dataset: \n",
            " (TensorSpec(shape=(13, 128), dtype=tf.float32, name=None), TensorSpec(shape=(14,), dtype=tf.int32, name=None))\n"
          ],
          "name": "stdout"
        }
      ]
    },
    {
      "cell_type": "code",
      "metadata": {
        "id": "tMslwlMYhNKW",
        "colab": {
          "base_uri": "https://localhost:8080/"
        },
        "outputId": "0d089b6c-5022-47f4-b371-d324130b8202"
      },
      "source": [
        "def create_batch(dataset, batch_size):\n",
        "  \"\"\"\n",
        "  Batch the dataset using the batch_size argument, and \n",
        "  setting drop_remainder to True.\n",
        "  \"\"\"\n",
        "  return dataset.batch(batch_size, drop_remainder=True)\n",
        "\n",
        "# Batch the both Datasets with a batch size of 16.\n",
        "batch_size=16\n",
        "train_dataset = create_batch(train_dataset, batch_size)\n",
        "valid_dataset = create_batch(valid_dataset, batch_size)\n",
        "\n",
        "# Print the element_spec property for both datasets\n",
        "print(\"The element_spec property of training dataset: \\n {}\".format(\n",
        "    train_dataset.element_spec))\n",
        "print(\"The element_spec property of validation dataset: \\n {}\".format(\n",
        "    valid_dataset.element_spec))"
      ],
      "execution_count": 19,
      "outputs": [
        {
          "output_type": "stream",
          "text": [
            "The element_spec property of training dataset: \n",
            " (TensorSpec(shape=(16, 13, 128), dtype=tf.float32, name=None), TensorSpec(shape=(16, 14), dtype=tf.int32, name=None))\n",
            "The element_spec property of validation dataset: \n",
            " (TensorSpec(shape=(16, 13, 128), dtype=tf.float32, name=None), TensorSpec(shape=(16, 14), dtype=tf.int32, name=None))\n"
          ],
          "name": "stdout"
        }
      ]
    },
    {
      "cell_type": "code",
      "metadata": {
        "id": "CwSocw5QhA9p",
        "colab": {
          "base_uri": "https://localhost:8080/"
        },
        "outputId": "3159d089-a578-4ac4-c25c-c65e0d1d5fff"
      },
      "source": [
        "# Print the shape of the English data from the training dataset\n",
        "x_train_batch, _ = next(iter(train_dataset.take(1)))\n",
        "print(\"The shape of English data from the training dataset: {}\".format( \n",
        "    x_train_batch.shape))\n",
        "\n",
        "# Print the German data from the validation dataset\n",
        "_, y_valid_batch = next(iter(valid_dataset.take(1)))\n",
        "print(\"The German data from the validation dataset: \\n {}\".format( \n",
        "    y_valid_batch.numpy()))"
      ],
      "execution_count": 20,
      "outputs": [
        {
          "output_type": "stream",
          "text": [
            "The shape of English data from the training dataset: (16, 13, 128)\n",
            "The German data from the validation dataset: \n",
            " [[   1   30    5   31   90    7    2    0    0    0    0    0    0    0]\n",
            " [   1    4   30  124   12   90    3    2    0    0    0    0    0    0]\n",
            " [   1  153   29   25    5   20 5075    3    2    0    0    0    0    0]\n",
            " [   1  253   27   10  332    7    2    0    0    0    0    0    0    0]\n",
            " [   1    4   18   10   12  347    3    2    0    0    0    0    0    0]\n",
            " [   1  911   17   33  471    7    2    0    0    0    0    0    0    0]\n",
            " [   1    5  110  321   41    3    2    0    0    0    0    0    0    0]\n",
            " [   1    4   30   44   12 5594    3    2    0    0    0    0    0    0]\n",
            " [   1   11    6   50  254    3    2    0    0    0    0    0    0    0]\n",
            " [   1    5    6 3368    3    2    0    0    0    0    0    0    0    0]\n",
            " [   1   11    6  436  282    3    2    0    0    0    0    0    0    0]\n",
            " [   1    4   15  276   25  135   28   20  114    3    2    0    0    0]\n",
            " [   1   73   27   46  856    7    2    0    0    0    0    0    0    0]\n",
            " [   1   31    6  457    3    2    0    0    0    0    0    0    0    0]\n",
            " [   1   17 4118    3    2    0    0    0    0    0    0    0    0    0]\n",
            " [   1   89   55  372 2252    3    2    0    0    0    0    0    0    0]]\n"
          ],
          "name": "stdout"
        }
      ]
    },
    {
      "cell_type": "markdown",
      "metadata": {
        "id": "isIYhjq01iay"
      },
      "source": [
        "## 3. Create the custom layer\n",
        "You will now create a custom layer to add the learned end token embedding to the encoder model:\n",
        "\n",
        "![Encoder schematic](https://github.com/MengOonLee/Deep_learning/blob/master/TensorFlow2/Tutorial/image/neural_translation/neural_translation_model_encoder.png?raw=1)"
      ]
    },
    {
      "cell_type": "markdown",
      "metadata": {
        "id": "M6gLIHG81iaz"
      },
      "source": [
        "You should now build the custom layer.\n",
        "* Using layer subclassing, create a custom layer that takes a batch of English data examples from one of the Datasets, and adds a learned embedded ‘end’ token to the end of each sequence. \n",
        "* This layer should create a TensorFlow Variable (that will be learned during training) that is 128-dimensional (the size of the embedding space). _Hint: you may find it helpful in the call method to use the tf.tile function to replicate the end token embedding across every element in the batch._\n",
        "* Using the Dataset `.take(1)` method, extract a batch of English data examples from the training Dataset and print the shape. Test the custom layer by calling the layer on the English data batch Tensor and print the resulting Tensor shape (the layer should increase the sequence length by one)."
      ]
    },
    {
      "cell_type": "code",
      "metadata": {
        "id": "avionZuFghj8"
      },
      "source": [
        "# Create a custom layer to add a learned end token embedding \n",
        "# to the encoder model using Layer subclassing API \n",
        "# according to the above specification.\n",
        "\n",
        "class EndToken(Layer):\n",
        "    \"\"\"\n",
        "    Takes a batch of sequences from datasets, and adds \n",
        "    an embedded 'end' token to the end of each sequence.\n",
        "    \"\"\"\n",
        "    def __init__(self, embed_dim, **kwargs):\n",
        "        super(EndToken, self).__init__(**kwargs)\n",
        "        self.embedding = Embedding(input_dim=1,\n",
        "            output_dim=embed_dim, name='end')\n",
        "        \n",
        "    def call(self, inputs):\n",
        "        end_token = self.embedding(\n",
        "            tf.zeros(shape=(1, 1), dtype=tf.int32))\n",
        "        end_tokens = tf.tile(end_token, \n",
        "            (tf.shape(inputs)[0], 1, 1))\n",
        "        return tf.concat([inputs, end_tokens], axis=1)\n",
        "\n",
        "# Instantiate the custom layer object\n",
        "end_token_layer = EndToken(embed_dim)"
      ],
      "execution_count": 39,
      "outputs": []
    },
    {
      "cell_type": "code",
      "metadata": {
        "id": "xm-vBbGh5Zar",
        "colab": {
          "base_uri": "https://localhost:8080/"
        },
        "outputId": "3baafef1-5785-470d-8fc6-949c9e22d64e"
      },
      "source": [
        "# Extract a batch of English data from the training Dataset.\n",
        "x_train_batch, _ = next(iter(train_dataset.take(1)))\n",
        "# Print the shape before the custom layer\n",
        "print(\"English tensor shape before the end_token_layer: {}\".format( \n",
        "    x_train_batch.shape))"
      ],
      "execution_count": 40,
      "outputs": [
        {
          "output_type": "stream",
          "text": [
            "English tensor shape before the end_token_layer: (16, 13, 128)\n"
          ],
          "name": "stdout"
        }
      ]
    },
    {
      "cell_type": "code",
      "metadata": {
        "id": "ebjK8PmL1ia6",
        "colab": {
          "base_uri": "https://localhost:8080/"
        },
        "outputId": "23e13e3f-f05c-4ec4-c4fa-476c3f418a6e"
      },
      "source": [
        "# Test the custom layer on the English data and print the resulting shape\n",
        "print(\"English tensor shape after the end_token_layer: {}\".format( \n",
        "    end_token_layer(x_train_batch).shape))"
      ],
      "execution_count": 41,
      "outputs": [
        {
          "output_type": "stream",
          "text": [
            "English tensor shape after the end_token_layer: (16, 14, 128)\n"
          ],
          "name": "stdout"
        }
      ]
    },
    {
      "cell_type": "code",
      "metadata": {
        "id": "YzY5K01foAgn",
        "colab": {
          "base_uri": "https://localhost:8080/"
        },
        "outputId": "bd5643cd-321d-4cf4-db6d-d017668f73dc"
      },
      "source": [
        "# Print the trainable variables\n",
        "print(\"Trainable variables for the end_token_layer:\")\n",
        "for v in end_token_layer.trainable_variables:\n",
        "    print(\"Name: {}, shape: {}\".format(v.name, v.shape))"
      ],
      "execution_count": 42,
      "outputs": [
        {
          "output_type": "stream",
          "text": [
            "Trainable variables for the end_token_layer:\n",
            "Name: end_token_3/end/embeddings:0, shape: (1, 128)\n"
          ],
          "name": "stdout"
        }
      ]
    },
    {
      "cell_type": "markdown",
      "metadata": {
        "id": "OAd3i4_y1ia-"
      },
      "source": [
        "## 4. Build the encoder network\n",
        "The encoder network follows the schematic diagram above. You should now build the RNN encoder model.\n",
        "* Using the functional API, build the encoder network according to the following spec:\n",
        "    * The model will take a batch of sequences of embedded English words as input, as given by the Dataset objects.\n",
        "    * The next layer in the encoder will be the custom layer you created previously, to add a learned end token embedding to the end of the English sequence.\n",
        "    * This is followed by a Masking layer, with the `mask_value` set to the distinct padding value you used when you padded the English sequences with the Dataset preprocessing above.\n",
        "    * The final layer is an LSTM layer with 512 units, which also returns the hidden and cell states.\n",
        "    * The encoder is a multi-output model. There should be two output Tensors of this model: the hidden state and cell states of the LSTM layer. The output of the LSTM layer is unused.\n",
        "* Using the Dataset `.take(1)` method, extract a batch of English data examples from the training Dataset and test the encoder model by calling it on the English data Tensor, and print the shape of the resulting Tensor outputs.\n",
        "* Print the model summary for the encoder network."
      ]
    },
    {
      "cell_type": "code",
      "metadata": {
        "id": "2MrOS1LoFyA9"
      },
      "source": [
        "# Build a RNN encoder model using the functional API\n",
        "# according to the above specification.\n",
        "\n",
        "# A batch of sequences of from dataset as input.\n",
        "input = Input(shape=(13, None))\n",
        "# Add end token embedding to the end of sequence using end_token_layer.\n",
        "x = end_token_layer(input)\n",
        "# Masking layer with the mask_value set to 0.0.\n",
        "x = Masking(mask_value=0.0)(x)\n",
        "# LSTM layer with 512 units returns hidden and cell states.\n",
        "x, h, c = LSTM(units=512, return_state=True)(x)\n",
        "\n",
        "# Instantiate the RNN encoder model object.\n",
        "encoder_model = Model(inputs=input, outputs=[h, c])"
      ],
      "execution_count": 25,
      "outputs": []
    },
    {
      "cell_type": "code",
      "metadata": {
        "id": "e5XW6NxL1ibC",
        "colab": {
          "base_uri": "https://localhost:8080/"
        },
        "outputId": "15457867-9780-432a-f37d-fd5a1406f8ac"
      },
      "source": [
        "# Extract a batch of English data from the training dataset.\n",
        "x_train_batch, _ = next(iter(train_dataset.take(1)))\n",
        "\n",
        "# Test the encoder_model on the English data and print the resulting shape.\n",
        "enc_hidden, enc_cell = encoder_model(x_train_batch)\n",
        "print(\"The shape of Encoder hidden state (batch_size, units): {}\".format( \n",
        "    enc_hidden.shape))\n",
        "print(\"The shape of Encoder cell state (batch_size, units): {}\".format( \n",
        "    enc_cell.shape))"
      ],
      "execution_count": 26,
      "outputs": [
        {
          "output_type": "stream",
          "text": [
            "The shape of Encoder hidden state (batch_size, units): (16, 512)\n",
            "The shape of Encoder cell state (batch_size, units): (16, 512)\n"
          ],
          "name": "stdout"
        }
      ]
    },
    {
      "cell_type": "code",
      "metadata": {
        "id": "2_2BO1_R7MqG",
        "colab": {
          "base_uri": "https://localhost:8080/"
        },
        "outputId": "d2fb7143-49ae-46eb-de70-99d6029b08c6"
      },
      "source": [
        "# Print the trainable variables\n",
        "print(\"Trainable variables for the encoder_model:\")\n",
        "for v in encoder_model.trainable_variables:\n",
        "    print(\"Name: {}, shape: {}\".format(v.name, v.shape))"
      ],
      "execution_count": 27,
      "outputs": [
        {
          "output_type": "stream",
          "text": [
            "Trainable variables for the encoder_model:\n",
            "Name: end_token/end/embeddings:0, shape: (1, 128)\n",
            "Name: lstm/lstm_cell/kernel:0, shape: (128, 2048)\n",
            "Name: lstm/lstm_cell/recurrent_kernel:0, shape: (512, 2048)\n",
            "Name: lstm/lstm_cell/bias:0, shape: (2048,)\n"
          ],
          "name": "stdout"
        }
      ]
    },
    {
      "cell_type": "code",
      "metadata": {
        "id": "jEk9ikVh1ibL",
        "colab": {
          "base_uri": "https://localhost:8080/"
        },
        "outputId": "0cad9ee7-79c8-44bb-f216-c217fe3bd14b"
      },
      "source": [
        "# Print the model summary for the encoder_model.\n",
        "encoder_model.summary()"
      ],
      "execution_count": 28,
      "outputs": [
        {
          "output_type": "stream",
          "text": [
            "Model: \"model\"\n",
            "_________________________________________________________________\n",
            "Layer (type)                 Output Shape              Param #   \n",
            "=================================================================\n",
            "input_1 (InputLayer)         [(None, 13, None)]        0         \n",
            "_________________________________________________________________\n",
            "end_token (EndToken)         (None, 14, 128)           128       \n",
            "_________________________________________________________________\n",
            "masking (Masking)            (None, 14, 128)           0         \n",
            "_________________________________________________________________\n",
            "lstm (LSTM)                  [(None, 512), (None, 512) 1312768   \n",
            "=================================================================\n",
            "Total params: 1,312,896\n",
            "Trainable params: 1,312,896\n",
            "Non-trainable params: 0\n",
            "_________________________________________________________________\n"
          ],
          "name": "stdout"
        }
      ]
    },
    {
      "cell_type": "code",
      "metadata": {
        "id": "M9vcSXtu4hLp",
        "colab": {
          "base_uri": "https://localhost:8080/",
          "height": 422
        },
        "outputId": "b592bc66-9813-4c7f-9bd9-c80d76d965c0"
      },
      "source": [
        "# Plot the encoder_model.\n",
        "plot_model(encoder_model, 'encoder_model.png', show_shapes=True)"
      ],
      "execution_count": 29,
      "outputs": [
        {
          "output_type": "execute_result",
          "data": {
            "image/png": "[encoded data removed]",
            "text/plain": [
              "<IPython.core.display.Image object>"
            ]
          },
          "metadata": {
            "tags": []
          },
          "execution_count": 29
        }
      ]
    },
    {
      "cell_type": "markdown",
      "metadata": {
        "id": "KvkzpCeZ1ibR"
      },
      "source": [
        "## 5. Build the decoder network\n",
        "The decoder network follows the schematic diagram below.\n",
        "\n",
        "![Decoder schematic](https://github.com/MengOonLee/Deep_learning/blob/master/TensorFlow2/Tutorial/image/neural_translation/neural_translation_model_decoder.png?raw=1)"
      ]
    },
    {
      "cell_type": "markdown",
      "metadata": {
        "id": "VPBK8WGL1ibS"
      },
      "source": [
        "You should now build the RNN decoder model.\n",
        "* Using Model subclassing, build the decoder network according to the following spec:\n",
        "    * The initializer should create the following layers:\n",
        "        * An Embedding layer with vocabulary size set to the number of unique German tokens, embedding dimension 128, and set to mask zero values in the input.\n",
        "        * An LSTM layer with 512 units, that returns its hidden and cell states, and also returns sequences.\n",
        "        * A Dense layer with number of units equal to the number of unique German tokens, and no activation function.\n",
        "    * The call method should include the usual `inputs` argument, as well as the additional keyword arguments `hidden_state` and `cell_state`. The default value for these keyword arguments should be `None`.\n",
        "    * The call method should pass the inputs through the Embedding layer, and then through the LSTM layer. If the `hidden_state` and `cell_state` arguments are provided, these should be used for the initial state of the LSTM layer. _Hint: use the_ `initial_state` _keyword argument when calling the LSTM layer on its input._\n",
        "    * The call method should pass the LSTM output sequence through the Dense layer, and return the resulting Tensor, along with the hidden and cell states of the LSTM layer.\n",
        "* Using the Dataset `.take(1)` method, extract a batch of English and German data examples from the training Dataset. Test the decoder model by first calling the encoder model on the English data Tensor to get the hidden and cell states, and then call the decoder model on the German data Tensor and hidden and cell states, and print the shape of the resulting decoder Tensor outputs.\n",
        "* Print the model summary for the decoder network."
      ]
    },
    {
      "cell_type": "code",
      "metadata": {
        "id": "l50qhnXD1ibT"
      },
      "source": [
        "# Build an RNN decoder model using Model subclassing API\n",
        "# according to the above specification.\n",
        "\n",
        "class Decoder(Model):\n",
        "    \"\"\"\n",
        "    Take a batch of data from dataset through Embedding layer. It is \n",
        "    followed by LSTM layer with initial state from the RNN encoder model. \n",
        "    The LSTM output is passed through Dense layer, which returns the \n",
        "    resulting output along with the LSTM hidden and cell states.\n",
        "    \"\"\"\n",
        "    def __init__(self, **kwargs):\n",
        "        super(Decoder, self).__init__(**kwargs)\n",
        "        # Define layers\n",
        "        # Embedding layer with vocabulay size=number of unique German tokens, \n",
        "        # 128 embedding dimension, and mask zero values is True.\n",
        "        self.embedding = Embedding(input_dim=len(ge_tokenizer.word_index)+1, \n",
        "            output_dim=128, mask_zero=True)\n",
        "        # LSTM layer with 512 units returns \n",
        "        # sequences, hidden and cell states.\n",
        "        self.lstm = LSTM(units=512, return_state=True, return_sequences=True)\n",
        "        # Dense layer with units=number of unique German tokens\n",
        "        # and no activation function.\n",
        "        self.dense = Dense(units=len(ge_tokenizer.word_index)+1, \n",
        "            activation=None)\n",
        "\n",
        "    def call(self, x, states=None):\n",
        "        # Define forward pass\n",
        "        x = self.embedding(x)\n",
        "        if states is None:\n",
        "            states = self.lstm.get_initial_state(x)\n",
        "        x, h, c = self.lstm(x, initial_state=states)\n",
        "        x = tf.reshape(x, (-1, x.shape[-1]))\n",
        "        x = self.dense(x)\n",
        "        return x, h, c\n",
        "\n",
        "# Instantiate the RNN decoder model object.\n",
        "decoder_model = Decoder()"
      ],
      "execution_count": 89,
      "outputs": []
    },
    {
      "cell_type": "code",
      "metadata": {
        "id": "ejV8YqJamelT",
        "outputId": "6d5f8ea3-032b-469d-d86c-ae47b94d3a6a",
        "colab": {
          "base_uri": "https://localhost:8080/"
        }
      },
      "source": [
        "# 5 randomly sampled of English sentences from the dataset\n",
        "num_samples = 5\n",
        "inx = np.random.choice(len(en_sentence), num_samples, replace=False)\n",
        "\n",
        "for sentence in np.array(en_sentence)[inx]:\n",
        "    # Preprocess and embed the English sentence \n",
        "    # according to the above requirement.\n",
        "    x = split_sentence(sentence)\n",
        "    x = embed_word(x)\n",
        "    if filter_token(x):\n",
        "        x = pre_pad(x)\n",
        "    else:\n",
        "        continue\n",
        "    x = tf.expand_dims(x, axis=0)\n",
        "    # Pass the embedded sentence through the encoder\n",
        "    # to get the encoder hidden and cell states.\n",
        "    enc_hidden, enc_cell = encoder_model(x)\n",
        "    dec_hidden, dec_cell = enc_hidden, enc_cell\n",
        "    # Starting with the special \"<start>\" token\n",
        "    dec_input = tf.expand_dims([ge_tokenizer.word_index['<start>']], 0)\n",
        "    # One-step prediction, updated hidden and cell states from the decoder\n",
        "    predict, dec_hidden, dec_cell = decoder_model(dec_input, \n",
        "            states=[dec_hidden, dec_cell])\n",
        "    # print(predict.shape)\n",
        "    print(predict[0].shape)\n",
        "    predict_id = tf.argmax(predict[0]).numpy()\n",
        "    print(predict_id.shape)\n",
        "    result = ge_tokenizer.index_word[predict_id]\n",
        "    print(result)"
      ],
      "execution_count": 92,
      "outputs": [
        {
          "output_type": "stream",
          "text": [
            "(5744,)\n",
            "()\n",
            "verwundet\n",
            "(5744,)\n",
            "()\n",
            "hemdlos\n",
            "(5744,)\n",
            "()\n",
            "ekstatisch\n",
            "(5744,)\n",
            "()\n",
            "koenntest\n",
            "(5744,)\n",
            "()\n",
            "nutzlos\n"
          ],
          "name": "stdout"
        }
      ]
    },
    {
      "cell_type": "code",
      "metadata": {
        "id": "vG5CRIXV1ibi",
        "colab": {
          "base_uri": "https://localhost:8080/"
        },
        "outputId": "d15e9df2-f90b-4325-dfb8-0287714b663c"
      },
      "source": [
        "# Extract a batch of English and German data from the training dataset\n",
        "x_train_batch, y_train_batch = next(iter(train_dataset.take(1)))\n",
        "\n",
        "# First call the encoder_model on the English data to get the \n",
        "# hidden and cell states\n",
        "enc_hidden, enc_cell = encoder_model(x_train_batch)\n",
        "\n",
        "# Then test the decoder_model on the German data,\n",
        "# the hidden and cell states from the encoder model, \n",
        "# and print the shape of resulting outputs.\n",
        "dec_output, dec_hidden, dec_cell = decoder_model(y_train_batch, \n",
        "    states=[enc_hidden, enc_cell])\n",
        "print(\"The shape of Decoder outputs (batch_size, vocab_size): {}\".format( \n",
        "    dec_output.shape))\n",
        "print(\"The shape of Decoder hidden state (batch_size, units): {}\".format( \n",
        "    dec_hidden.shape))\n",
        "print(\"The shape of Decoder cell state (batch_size, units): {}\".format( \n",
        "    dec_cell.shape))"
      ],
      "execution_count": 57,
      "outputs": [
        {
          "output_type": "stream",
          "text": [
            "The shape of Decoder outputs (batch_size, vocab_size): (224, 5744)\n",
            "The shape of Decoder hidden state (batch_size, units): (16, 512)\n",
            "The shape of Decoder cell state (batch_size, units): (16, 512)\n"
          ],
          "name": "stdout"
        }
      ]
    },
    {
      "cell_type": "code",
      "metadata": {
        "id": "f_N-_5id7bHS",
        "colab": {
          "base_uri": "https://localhost:8080/"
        },
        "outputId": "e619f2ff-e108-4f31-cfac-da76d86c0697"
      },
      "source": [
        "# Print the trainable variables\n",
        "print(\"Trainable variables for the decoder_model:\")\n",
        "for v in decoder_model.trainable_variables:\n",
        "    print(\"Name: {}, shape: {}\".format(v.name, v.shape))"
      ],
      "execution_count": 32,
      "outputs": [
        {
          "output_type": "stream",
          "text": [
            "Trainable variables for the decoder_model:\n",
            "Name: decoder/embedding/embeddings:0, shape: (5744, 128)\n",
            "Name: decoder/lstm_1/lstm_cell_1/kernel:0, shape: (128, 2048)\n",
            "Name: decoder/lstm_1/lstm_cell_1/recurrent_kernel:0, shape: (512, 2048)\n",
            "Name: decoder/lstm_1/lstm_cell_1/bias:0, shape: (2048,)\n",
            "Name: decoder/dense/kernel:0, shape: (512, 5744)\n",
            "Name: decoder/dense/bias:0, shape: (5744,)\n"
          ],
          "name": "stdout"
        }
      ]
    },
    {
      "cell_type": "code",
      "metadata": {
        "id": "SvqqT_ET1ibl",
        "colab": {
          "base_uri": "https://localhost:8080/"
        },
        "outputId": "8596b7b5-f89b-4f04-93d4-f035c4ae2fa4"
      },
      "source": [
        "# Print the model summary for the decoder_model.\n",
        "decoder_model.summary()"
      ],
      "execution_count": 33,
      "outputs": [
        {
          "output_type": "stream",
          "text": [
            "Model: \"decoder\"\n",
            "_________________________________________________________________\n",
            "Layer (type)                 Output Shape              Param #   \n",
            "=================================================================\n",
            "embedding (Embedding)        multiple                  735232    \n",
            "_________________________________________________________________\n",
            "lstm_1 (LSTM)                multiple                  1312768   \n",
            "_________________________________________________________________\n",
            "dense (Dense)                multiple                  2946672   \n",
            "=================================================================\n",
            "Total params: 4,994,672\n",
            "Trainable params: 4,994,672\n",
            "Non-trainable params: 0\n",
            "_________________________________________________________________\n"
          ],
          "name": "stdout"
        }
      ]
    },
    {
      "cell_type": "markdown",
      "metadata": {
        "id": "pST9XGJ81ibo"
      },
      "source": [
        "## 6. Make a custom training loop\n",
        "You should now write a custom training loop to train your custom neural translation model.\n",
        "* Define a function that takes a Tensor batch of German data (as extracted from the training Dataset), and returns a tuple containing German inputs and outputs for the decoder model (refer to schematic diagram above).\n",
        "* Define a function that computes the forward and backward pass for your translation model. This function should take an English input, German input and German output as arguments, and should do the following:\n",
        "    * Pass the English input into the encoder, to get the hidden and cell states of the encoder LSTM.\n",
        "    * These hidden and cell states are then passed into the decoder, along with the German inputs, which returns a sequence of outputs (the hidden and cell state outputs of the decoder LSTM are unused in this function).\n",
        "    * The loss should then be computed between the decoder outputs and the German output function argument.\n",
        "    * The function returns the loss and gradients with respect to the encoder and decoder’s trainable variables.\n",
        "    * Decorate the function with `@tf.function`\n",
        "* Define and run a custom training loop for a number of epochs (for you to choose) that does the following:\n",
        "    * Iterates through the training dataset, and creates decoder inputs and outputs from the German sequences.\n",
        "    * Updates the parameters of the translation model using the gradients of the function above and an optimizer object.\n",
        "    * Every epoch, compute the validation loss on a number of batches from the validation and save the epoch training and validation losses.\n",
        "* Plot the learning curves for loss vs epoch for both training and validation sets.\n",
        "\n",
        "_Hint: This model is computationally demanding to train. The quality of the model or length of training is not a factor in the grading rubric. However, to obtain a better model we recommend using the GPU accelerator hardware on Colab._"
      ]
    },
    {
      "cell_type": "code",
      "metadata": {
        "id": "FCunqU2WVQAd",
        "colab": {
          "base_uri": "https://localhost:8080/"
        },
        "outputId": "18adb6c9-160c-49f4-be32-9f2181d5dfc5"
      },
      "source": [
        "# def create_input_target(sequence):\n",
        "#     \"\"\"\n",
        "#     Take a sequence from dataset, and return \n",
        "#     a tuple of input and target.\n",
        "#     \"\"\"\n",
        "#     sequence_pair = [(sequence[:, t], sequence[:, t+1]) \n",
        "#         for t in range(sequence.shape[1]-1)]\n",
        "#     return zip(*sequence_pair)\n",
        "\n",
        "def create_input_target(sequence):\n",
        "    \"\"\"\n",
        "    Take a sequence from dataset, and return \n",
        "    a tuple of input and target.\n",
        "    \"\"\"\n",
        "    input = [sequence[:, t] for t in range(sequence.shape[1]-1)]\n",
        "    target = [sequence[:, t+1] for t in range(sequence.shape[1]-1)]\n",
        "    return input, target\n",
        "\n",
        "# Extract a batch of German data from the training dataset.\n",
        "_, y_train_batch = next(iter(train_dataset.take(1)))\n",
        "\n",
        "# Create a tuple containing German input and target for the decoder model.\n",
        "dec_input, dec_target = create_input_target(y_train_batch)\n",
        "# Show the first 5 pairs\n",
        "for x, y in zip(dec_input[:5], dec_target[:5]):\n",
        "    print(\"Input: {} \\n Target: {}\".format(x, y))"
      ],
      "execution_count": null,
      "outputs": [
        {
          "output_type": "stream",
          "text": [
            "Input: [1 1 1 1 1 1 1 1 1 1 1 1 1 1 1 1] \n",
            " Target: [   4   17   43   11   42    5   38  546    4   58 1526    4   95   10\n",
            "   74   86]\n",
            "Input: [   4   17   43   11   42    5   38  546    4   58 1526    4   95   10\n",
            "   74   86] \n",
            " Target: [ 110  201    6    6  549   30   16    8   51   13 3340   15    6    6\n",
            "   55   17]\n",
            "Input: [ 110  201    6    6  549   30   16    8   51   13 3340   15    6    6\n",
            "   55   17] \n",
            " Target: [  57 4647  338  249  151   12    5    5 2128  315    9  259   10   77\n",
            "    9   10]\n",
            "Input: [  57 4647  338  249  151   12    5    5 2128  315    9  259   10   77\n",
            "    9   10] \n",
            " Target: [141   3   7   3 124 260 182  29   3   7   2   3 625  22   2  29]\n",
            "Input: [141   3   7   3 124 260 182  29   3   7   2   3 625  22   2  29] \n",
            " Target: [3 2 2 2 3 3 7 9 2 2 0 2 7 3 0 3]\n"
          ],
          "name": "stdout"
        }
      ]
    },
    {
      "cell_type": "code",
      "metadata": {
        "id": "xaxens1t18R2"
      },
      "source": [
        "# Define the Adam optimizer and loss function \n",
        "optimizer = Adam(learning_rate=0.001)\n",
        "loss_object = SparseCategoricalCrossentropy(from_logits=True)\n",
        "# Define the encoder and decoder's trainable variables\n",
        "parameters = encoder_model.trainable_variables \\\n",
        "    + decoder_model.trainable_variables\n",
        "\n",
        "def loss_function(target, predict):\n",
        "    mask = tf.math.logical_not(tf.math.equal(target, 0))\n",
        "    loss = loss_object(target, predict)\n",
        "    mask = tf.cast(mask, dtype=loss.dtype)\n",
        "    loss *= mask\n",
        "    return tf.reduce_mean(loss)"
      ],
      "execution_count": null,
      "outputs": []
    },
    {
      "cell_type": "code",
      "metadata": {
        "id": "Jvu4J4-u1ibu"
      },
      "source": [
        "# Define a function to compute the forward and backward pass \n",
        "# for the translation model according to the above specification.\n",
        "# Use the @tf.function decorator\n",
        "@tf.function\n",
        "def gradients(enc_input, dec_input, dec_target):\n",
        "    \"\"\"\n",
        "    Compute a loss and gradient of the encoder and decoder models, \n",
        "    corresponding to the encoder input, decoder input and decoder target.\n",
        "    \"\"\"\n",
        "    with tf.GradientTape() as tape:\n",
        "        # Pass enc_input into the encoder to get \n",
        "        # enc_hidden and enc_cell states of the encoder LSTM.\n",
        "        enc_hidden, enc_cell = encoder_model(enc_input)\n",
        "        # Pass enc_hidden and enc_cell states into the decoder, \n",
        "        # along with dec_input to get dec_predict\n",
        "        dec_predict, _, _ = decoder_model(dec_input, \n",
        "            states=[enc_hidden, enc_cell])\n",
        "        # Compute loss between dec_target and dec_predict\n",
        "        loss = loss_function(dec_target, dec_predict)\n",
        "    # Compute gradients with respect to the trainable variables\n",
        "    grads = tape.gradient(loss, parameters)\n",
        "    return loss, grads"
      ],
      "execution_count": null,
      "outputs": []
    },
    {
      "cell_type": "code",
      "metadata": {
        "id": "12VY66RyTmiR"
      },
      "source": [
        "# Generate a ModelCheckpoint object that save only the weights that generate\n",
        "# the lowest validation loss.\n",
        "checkpoint_dir = \"./training_checkpoints\"\n",
        "if not os.path.exists(checkpoint_dir):\n",
        "    os.makedirs(checkpoint_dir)\n",
        "checkpoint_prefix = os.path.join(checkpoint_dir, \"ckpt\")\n",
        "checkpoint = \n",
        "\n",
        "# checkpoint_callback = ModelCheckpoint(filepath=checkpoint_dir, \n",
        "    # save_weights_only=True, save_best_only=True, save_freq='epoch', \n",
        "    # monitor='val_loss', verbose=1)"
      ],
      "execution_count": null,
      "outputs": []
    },
    {
      "cell_type": "code",
      "metadata": {
        "id": "ZThMqa_UXqdO"
      },
      "source": [
        "for x, y in train_dataset.take(1):\n",
        "    dec_input, dec_target = create_input_target(y)\n",
        "    enc_hidden, enc_cell = encoder_model(x)\n",
        "    dec_predict, _, _ = decoder_model(dec_input, \n",
        "        states=[enc_hidden, enc_cell])\n",
        "    print(dec_predict)"
      ],
      "execution_count": null,
      "outputs": []
    },
    {
      "cell_type": "code",
      "metadata": {
        "id": "Vl5H06811ibx"
      },
      "source": [
        "# Define and run a custom training loop for a number of epochs\n",
        "# according to the above specification\n",
        "\n",
        "# Create lists to accumulate the metric values\n",
        "train_losses = []\n",
        "valid_losses = []\n",
        "\n",
        "num_epochs = 10\n",
        "for epoch in range(num_epochs):\n",
        "    train_epoch_loss_avg = Mean()\n",
        "    valid_epoch_loss_avg = Mean()\n",
        "    # Iterate through the training dataset\n",
        "    for x, y in train_dataset:\n",
        "        # Create decoder inputs and outputs from the German sequences\n",
        "        dec_input, dec_target = create_input_target(y)\n",
        "        # Compute loss and gradients using the gradients function above\n",
        "        loss, grads = gradients(x, dec_input, dec_target)\n",
        "        # Update the parameters of the model using the optimizer object\n",
        "        optimizer.apply_gradients(zip(grads, parameters))\n",
        "# optimizer.apply_gradients([(grad, var) \n",
        "#     for (grad, var) in zip(grads, train_variables) \n",
        "#     if grad is not None])\n",
        "        # Compute average epoch train loss\n",
        "        train_epoch_loss_avg(loss)\n",
        "        \n",
        "    # Compute the validation loss on the validation dataset\n",
        "    for x, y in valid_dataset:\n",
        "        # Create decoder inputs and outputs from the German sequences\n",
        "        dec_input, dec_target = create_input_target(y)\n",
        "        # Pass x into the encoder to get \n",
        "        # enc_hidden and enc_cell states of the encoder LSTM.\n",
        "        enc_hidden, enc_cell = encoder_model(x)\n",
        "        # Pass enc_hidden and enc_cell states into the decoder, \n",
        "        # along with dec_input to get dec_predict\n",
        "        dec_predict, _, _ = decoder_model(dec_input, \n",
        "            states=[enc_hidden, enc_cell])\n",
        "        # Compute loss between dec_target and dec_predict\n",
        "        loss = loss_function(dec_target, dec_predict)\n",
        "        # Compute average epoch valid loss\n",
        "        valid_epoch_loss_avg(loss)\n",
        "            \n",
        "    # Return a list of losses values per epoch.\n",
        "    print(\"Epoch {:03d}: Train loss: {:.3f}, Valid loss: {:.3f}\".format(\n",
        "        epoch, train_epoch_loss_avg.result(), \n",
        "        valid_epoch_loss_avg.result()))\n",
        "    \n",
        "    # Save the epoch training and validation losses every epoch\n",
        "    train_losses.append(train_epoch_loss_avg.result().numpy())\n",
        "    valid_losses.append(valid_epoch_loss_avg.result().numpy())"
      ],
      "execution_count": null,
      "outputs": []
    },
    {
      "cell_type": "code",
      "metadata": {
        "id": "dpacst2F1ib7"
      },
      "source": [
        "# Plot the learning curves for loss vs epoch \n",
        "# for both training and validation sets.\n",
        "fig = plt.figure(figsize=(15, 5))\n",
        "plt.plot(train_loss_results)\n",
        "plt.plot(valid_loss_results)\n",
        "plt.title(\"Loss vs epochs\")\n",
        "plt.ylabel(\"Loss\")\n",
        "plt.xlabel(\"Epoch\")\n",
        "plt.legend([\"Training\", \"Validation\"], loc=\"upper right\")\n",
        "plt.show()"
      ],
      "execution_count": null,
      "outputs": []
    },
    {
      "cell_type": "markdown",
      "metadata": {
        "id": "xM2gvBM11ib-"
      },
      "source": [
        "## 7. Use the model to translate\n",
        "Now it's time to put your model into practice! You should run your translation for five randomly sampled English sentences from the dataset. For each sentence, the process is as follows:\n",
        "* Preprocess and embed the English sentence according to the model requirements.\n",
        "* Pass the embedded sentence through the encoder to get the encoder hidden and cell states.\n",
        "* Starting with the special  `\"<start>\"` token, use this token and the final encoder hidden and cell states to get the one-step prediction from the decoder, as well as the decoder’s updated hidden and cell states.\n",
        "* Create a loop to get the next step prediction and updated hidden and cell states from the decoder, using the most recent hidden and cell states. Terminate the loop when the `\"<end>\"` token is emitted, or when the sentence has reached a maximum length.\n",
        "* Decode the output token sequence into German text and print the English text and the model's German translation."
      ]
    },
    {
      "cell_type": "code",
      "metadata": {
        "id": "sDIdIvl2AL1W"
      },
      "source": [
        "# Re-build the RNN decoder model and load the saved weights\n",
        "\n",
        "decoder = Decoder(vocab_size=len(ge_tokenizer.word_index) + 1)\n",
        "decoder.load_weights(latest_checkpoint('./training_checkpoints'))"
      ],
      "execution_count": null,
      "outputs": []
    },
    {
      "cell_type": "code",
      "metadata": {
        "id": "GkyYF_VHis_s",
        "colab": {
          "base_uri": "https://localhost:8080/",
          "height": 231
        },
        "outputId": "0c2495e8-b84b-4350-bc27-8e763f1b6773"
      },
      "source": [
        "# 5 randomly sampled of English sentences from the dataset\n",
        "num_samples = 5\n",
        "inx = np.random.choice(len(en_sentence), num_samples, replace=False)\n",
        "\n",
        "for sentence in np.array(en_sentence)[inx]:\n",
        "    # Preprocess and embed the English sentence \n",
        "    # according to the above requirement.\n",
        "    x = split_sentence(sentence)\n",
        "    x = embed_word(x)\n",
        "    if filter_token(x):\n",
        "        x = pre_pad(x)\n",
        "    else:\n",
        "        continue\n",
        "    x = tf.expand_dims(x, axis=0)\n",
        "    # Pass the embedded sentence through the encoder\n",
        "    # to get the encoder hidden and cell states.\n",
        "    enc_hidden, enc_cell = encoder_model(x)\n",
        "    dec_hidden, dec_cell = enc_hidden, enc_cell\n",
        "    # Starting with the special \"<start>\" token\n",
        "    dec_input = tf.expand_dims([ge_tokenizer.word_index['<start>']], 0)\n",
        "    # One-step prediction, updated hidden and cell states from the decoder\n",
        "    predict, dec_hidden, dec_cell = decoder_model(dec_input, \n",
        "            states=[dec_hidden, dec_cell])\n",
        "    print(predict[0].shape)\n",
        "    predict_id = tf.argmax(predict[0]).numpy()\n",
        "    print(predict_id.shape)\n",
        "    result = ge_tokenizer.index_word[predict_id]"
      ],
      "execution_count": 55,
      "outputs": [
        {
          "output_type": "stream",
          "text": [
            "(1, 5744)\n",
            "(5744,)\n"
          ],
          "name": "stdout"
        },
        {
          "output_type": "error",
          "ename": "TypeError",
          "evalue": "ignored",
          "traceback": [
            "\u001b[0;31m---------------------------------------------------------------------------\u001b[0m",
            "\u001b[0;31mTypeError\u001b[0m                                 Traceback (most recent call last)",
            "\u001b[0;32m<ipython-input-55-e3987d72f72e>\u001b[0m in \u001b[0;36m<module>\u001b[0;34m()\u001b[0m\n\u001b[1;32m     25\u001b[0m     \u001b[0mpredict_id\u001b[0m \u001b[0;34m=\u001b[0m \u001b[0mtf\u001b[0m\u001b[0;34m.\u001b[0m\u001b[0margmax\u001b[0m\u001b[0;34m(\u001b[0m\u001b[0mpredict\u001b[0m\u001b[0;34m[\u001b[0m\u001b[0;36m0\u001b[0m\u001b[0;34m]\u001b[0m\u001b[0;34m)\u001b[0m\u001b[0;34m.\u001b[0m\u001b[0mnumpy\u001b[0m\u001b[0;34m(\u001b[0m\u001b[0;34m)\u001b[0m\u001b[0;34m\u001b[0m\u001b[0;34m\u001b[0m\u001b[0m\n\u001b[1;32m     26\u001b[0m     \u001b[0mprint\u001b[0m\u001b[0;34m(\u001b[0m\u001b[0mpredict_id\u001b[0m\u001b[0;34m.\u001b[0m\u001b[0mshape\u001b[0m\u001b[0;34m)\u001b[0m\u001b[0;34m\u001b[0m\u001b[0;34m\u001b[0m\u001b[0m\n\u001b[0;32m---> 27\u001b[0;31m     \u001b[0mresult\u001b[0m \u001b[0;34m=\u001b[0m \u001b[0mge_tokenizer\u001b[0m\u001b[0;34m.\u001b[0m\u001b[0mindex_word\u001b[0m\u001b[0;34m[\u001b[0m\u001b[0mpredict_id\u001b[0m\u001b[0;34m]\u001b[0m\u001b[0;34m\u001b[0m\u001b[0;34m\u001b[0m\u001b[0m\n\u001b[0m",
            "\u001b[0;31mTypeError\u001b[0m: unhashable type: 'numpy.ndarray'"
          ]
        }
      ]
    },
    {
      "cell_type": "code",
      "metadata": {
        "id": "ohleJRcJ1icD"
      },
      "source": [
        ""
      ],
      "execution_count": null,
      "outputs": []
    },
    {
      "cell_type": "code",
      "metadata": {
        "id": "Unk60cEy1icI"
      },
      "source": [
        ""
      ],
      "execution_count": null,
      "outputs": []
    }
  ]
}