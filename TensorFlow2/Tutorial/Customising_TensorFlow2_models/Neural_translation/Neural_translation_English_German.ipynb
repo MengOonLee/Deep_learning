{
  "nbformat": 4,
  "nbformat_minor": 0,
  "metadata": {
    "kernelspec": {
      "name": "python3",
      "display_name": "Python 3"
    },
    "colab": {
      "name": "Capstone Project.ipynb",
      "provenance": [],
      "collapsed_sections": [],
      "include_colab_link": true
    }
  },
  "cells": [
    {
      "cell_type": "markdown",
      "metadata": {
        "id": "view-in-github",
        "colab_type": "text"
      },
      "source": [
        "<a href=\"https://colab.research.google.com/github/MengOonLee/Deep_learning/blob/master/TensorFlow2/Tutorial/Customising_TensorFlow2_models/Neural_translation/Neural_translation_English_German.ipynb\" target=\"_parent\"><img src=\"https://colab.research.google.com/assets/colab-badge.svg\" alt=\"Open In Colab\"/></a>"
      ]
    },
    {
      "cell_type": "markdown",
      "metadata": {
        "id": "vsX0L1sG1iZj"
      },
      "source": [
        "# Capstone Project\n",
        "## Neural translation model\n",
        "### Instructions\n",
        "\n",
        "In this notebook, you will create a neural network that translates from English to German. You will use concepts from throughout this course, including building more flexible model architectures, freezing layers, data processing pipeline and sequence modelling.\n",
        "\n",
        "This project is peer-assessed. Within this notebook you will find instructions in each section for how to complete the project. Pay close attention to the instructions as the peer review will be carried out according to a grading rubric that checks key parts of the project instructions. Feel free to add extra cells into the notebook as required.\n",
        "\n",
        "### How to submit\n",
        "\n",
        "When you have completed the Capstone project notebook, you will submit a pdf of the notebook for peer review. First ensure that the notebook has been fully executed from beginning to end, and all of the cell outputs are visible. This is important, as the grading rubric depends on the reviewer being able to view the outputs of your notebook. Save the notebook as a pdf (you could download the notebook with File -> Download .ipynb, open the notebook locally, and then File -> Download as -> PDF via LaTeX), and then submit this pdf for review.\n",
        "\n",
        "### Let's get started!\n",
        "\n",
        "We'll start by running some imports, and loading the dataset. For this project you are free to make further imports throughout the notebook as you wish. "
      ]
    },
    {
      "cell_type": "code",
      "metadata": {
        "id": "2VyTvxPN1iZn"
      },
      "source": [
        "import tensorflow as tf\n",
        "import tensorflow_hub as hub\n",
        "import unicodedata\n",
        "import re\n",
        "import os\n",
        "import numpy as np\n",
        "import matplotlib.pyplot as plt\n",
        "%matplotlib inline\n",
        "\n",
        "from tensorflow.keras.preprocessing.text import Tokenizer\n",
        "from tensorflow.keras.preprocessing.sequence import pad_sequences\n",
        "from sklearn.model_selection import train_test_split\n",
        "from tensorflow.keras.layers import Layer, Input, Masking, LSTM, \\\n",
        "    Embedding, Dense\n",
        "from tensorflow.keras.models import Model\n",
        "from tensorflow.keras.utils import plot_model\n",
        "from tensorflow.keras.losses import SparseCategoricalCrossentropy\n",
        "from tensorflow.keras.optimizers import Adam\n",
        "# from tensorflow.keras.metrics import Mean\n",
        "# from tensorflow.keras.callbacks import ModelCheckpoint\n",
        "# from tensorflow.train import latest_checkpoint"
      ],
      "execution_count": 1,
      "outputs": []
    },
    {
      "cell_type": "markdown",
      "metadata": {
        "id": "wuIi4lAR1iZt"
      },
      "source": [
        "![Flags overview image](https://github.com/MengOonLee/Deep_learning/blob/master/TensorFlow2/Tutorial/image/neural_translation/germany_uk_flags.png?raw=1)\n",
        "\n",
        "For the capstone project, you will use a language dataset from http://www.manythings.org/anki/ to build a neural translation model. This dataset consists of over 200,000 pairs of sentences in English and German. In order to make the training quicker, we will restrict to our dataset to 20,000 pairs. Feel free to change this if you wish - the size of the dataset used is not part of the grading rubric.\n",
        "\n",
        "Your goal is to develop a neural translation model from English to German, making use of a pre-trained English word embedding module."
      ]
    },
    {
      "cell_type": "markdown",
      "metadata": {
        "id": "pi9Dq6vv3FVO"
      },
      "source": [
        "#### Import the data\n",
        "\n",
        "The dataset is available for download as a zip file at the following link:\n",
        "\n",
        "https://drive.google.com/open?id=1KczOciG7sYY7SB9UlBeRP1T9659b121Q\n",
        "\n",
        "You should store the unzipped folder in local drive for use in this Colab notebook."
      ]
    },
    {
      "cell_type": "code",
      "metadata": {
        "id": "dX21AuCFgxuV"
      },
      "source": [
        "os.makedirs(\"./data\", exist_ok=True)"
      ],
      "execution_count": 2,
      "outputs": []
    },
    {
      "cell_type": "code",
      "metadata": {
        "colab": {
          "base_uri": "https://localhost:8080/"
        },
        "id": "MAfYIl-cERc_",
        "outputId": "05edd729-2da7-4015-db52-d8e66956edae"
      },
      "source": [
        "%%bash\n",
        "\n",
        "fileid=\"1KczOciG7sYY7SB9UlBeRP1T9659b121Q\"\n",
        "filename=\"./data/deu.txt\"\n",
        "curl -c ./cookie -s -L \"https://drive.google.com/uc?export=download&id=${fileid}\" > /dev/null\n",
        "curl -Lb ./cookie \"https://drive.google.com/uc?export=download&confirm=`awk '/download/ {print $NF}' ./cookie`&id=${fileid}\" -o ${filename}"
      ],
      "execution_count": 3,
      "outputs": [
        {
          "output_type": "stream",
          "text": [
            "  % Total    % Received % Xferd  Average Speed   Time    Time     Time  Current\n",
            "                                 Dload  Upload   Total   Spent    Left  Speed\n",
            "\r  0     0    0     0    0     0      0      0 --:--:-- --:--:-- --:--:--     0\r  0     0    0     0    0     0      0      0 --:--:-- --:--:-- --:--:--     0\r100   408    0   408    0     0    812      0 --:--:-- --:--:-- --:--:--   811\n",
            "\r  0     0    0     0    0     0      0      0 --:--:-- --:--:-- --:--:--     0\n",
            "\r  0     0    0     0    0     0      0      0 --:--:-- --:--:-- --:--:--     0\n",
            "\r100 61388    0 61388    0     0  55155      0 --:--:--  0:00:01 --:--:-- 55155\r100 29.9M    0 29.9M    0     0  24.7M      0 --:--:--  0:00:01 --:--:--  307M\n"
          ],
          "name": "stderr"
        }
      ]
    },
    {
      "cell_type": "code",
      "metadata": {
        "id": "o8PetPpw1iZu"
      },
      "source": [
        "# Run this cell to load the dataset\n",
        "\n",
        "NUM_EXAMPLES = 20000\n",
        "data_examples = []\n",
        "with open('data/deu.txt', 'r', encoding='utf8') as f:\n",
        "    for line in f.readlines():\n",
        "        if len(data_examples) < NUM_EXAMPLES:\n",
        "            data_examples.append(line)\n",
        "        else:\n",
        "            break"
      ],
      "execution_count": 4,
      "outputs": []
    },
    {
      "cell_type": "code",
      "metadata": {
        "id": "JumLjJ631iZy"
      },
      "source": [
        "# These functions preprocess English and German sentences\n",
        "\n",
        "def unicode_to_ascii(s):\n",
        "    return ''.join(c for c in unicodedata.normalize('NFD', s) \n",
        "        if unicodedata.category(c) != 'Mn')\n",
        "\n",
        "def preprocess_sentence(sentence):\n",
        "    sentence = sentence.lower().strip()\n",
        "    sentence = re.sub(r\"ü\", 'ue', sentence)\n",
        "    sentence = re.sub(r\"ä\", 'ae', sentence)\n",
        "    sentence = re.sub(r\"ö\", 'oe', sentence)\n",
        "    sentence = re.sub(r'ß', 'ss', sentence)\n",
        "    \n",
        "    sentence = unicode_to_ascii(sentence)\n",
        "    sentence = re.sub(r\"([?.!,])\", r\" \\1 \", sentence)\n",
        "    sentence = re.sub(r\"[^a-z?.!,']+\", \" \", sentence)\n",
        "    sentence = re.sub(r'[\" \"]+', \" \", sentence)\n",
        "    \n",
        "    return sentence.strip()"
      ],
      "execution_count": 5,
      "outputs": []
    },
    {
      "cell_type": "markdown",
      "metadata": {
        "id": "XFJap-TW1iZ2"
      },
      "source": [
        "#### The custom translation model\n",
        "The following is a schematic of the custom translation model architecture you will develop in this project.\n",
        "\n",
        "![Model Schematic](https://github.com/MengOonLee/Deep_learning/blob/master/TensorFlow2/Tutorial/image/neural_translation/neural_translation_model.png?raw=1)\n",
        "\n",
        "Key:\n",
        "![Model key](https://github.com/MengOonLee/Deep_learning/blob/master/TensorFlow2/Tutorial/image/neural_translation/neural_translation_model_key.png?raw=1)\n",
        "\n",
        "The custom model consists of an encoder RNN and a decoder RNN. The encoder takes words of an English sentence as input, and uses a pre-trained word embedding to embed the words into a 128-dimensional space. To indicate the end of the input sentence, a special end token (in the same 128-dimensional space) is passed in as an input. This token is a TensorFlow Variable that is learned in the training phase (unlike the pre-trained word embedding, which is frozen).\n",
        "\n",
        "The decoder RNN takes the internal state of the encoder network as its initial state. A `<start>` token is passed in as the first input, which is embedded using a learned German word embedding. The decoder RNN then makes a prediction for the next German word, which during inference is then passed in as the following input, and this process is repeated until the special `<end>` token is emitted from the decoder."
      ]
    },
    {
      "cell_type": "markdown",
      "metadata": {
        "id": "z70nu6_01iZ3"
      },
      "source": [
        "## 1. Text preprocessing\n",
        "* Create separate lists of English and German sentences, and preprocess them using the `preprocess_sentence` function provided for you above.\n",
        "* Add a special `\"<start>\"` and `\"<end>\"` token to the beginning and end of every German sentence.\n",
        "* Use the Tokenizer class from the `tf.keras.preprocessing.text` module to tokenize the German sentences, ensuring that no character filters are applied. _Hint: use the Tokenizer's \"filter\" keyword argument._\n",
        "* Print out at least 5 randomly chosen examples of (preprocessed) English and German sentence pairs. For the German sentence, print out the text (with start and end tokens) as well as the tokenized sequence.\n",
        "* Pad the end of the tokenized German sequences with zeros, and batch the complete set of sequences into one numpy array."
      ]
    },
    {
      "cell_type": "code",
      "metadata": {
        "scrolled": true,
        "id": "9G20C4bk1iZ4",
        "colab": {
          "base_uri": "https://localhost:8080/"
        },
        "outputId": "590f92a3-ee52-40d6-a64d-22d7b8561a25"
      },
      "source": [
        "def create_sentence(data):\n",
        "    \"\"\"\n",
        "    Clean the input and return sentence pairs.\n",
        "    \"\"\"\n",
        "    sentence_pairs = [[preprocess_sentence(w) for w in l.split('\\t')][:2] \n",
        "        for l in data]\n",
        "    return zip(*sentence_pairs)\n",
        "\n",
        "# get pairs\n",
        "en_sentence, ge_sentence = create_sentence(data_examples)\n",
        "# show last 5 pairs\n",
        "for pair in zip(en_sentence[-5:], ge_sentence[-5:]):\n",
        "    print(pair)"
      ],
      "execution_count": 6,
      "outputs": [
        {
          "output_type": "stream",
          "text": [
            "(\"i've been working .\", 'ich war arbeiten .')\n",
            "(\"i've bought a car .\", 'ich habe ein auto gekauft .')\n",
            "(\"i've come for tom .\", 'ich bin fuer tom gekommen .')\n",
            "(\"i've done nothing .\", 'ich habe nichts getan .')\n",
            "(\"i've eaten enough .\", 'ich habe genug gegessen .')\n"
          ],
          "name": "stdout"
        }
      ]
    },
    {
      "cell_type": "code",
      "metadata": {
        "id": "DhdUE_5ukdjv",
        "colab": {
          "base_uri": "https://localhost:8080/"
        },
        "outputId": "60180b58-fc46-4edc-8e00-bdbf5dfbd808"
      },
      "source": [
        "def add_start_end(sentence):\n",
        "    \"\"\"\n",
        "    Adding a start and end token to the sentence so that the\n",
        "    model know when to start and stop predicting.\n",
        "    \"\"\"\n",
        "    return [\"<start> \" + s + \" <end>\" for s in sentence]\n",
        "\n",
        "ge_sentence = add_start_end(ge_sentence)\n",
        "ge_sentence[-5:]"
      ],
      "execution_count": 7,
      "outputs": [
        {
          "output_type": "execute_result",
          "data": {
            "text/plain": [
              "['<start> ich war arbeiten . <end>',\n",
              " '<start> ich habe ein auto gekauft . <end>',\n",
              " '<start> ich bin fuer tom gekommen . <end>',\n",
              " '<start> ich habe nichts getan . <end>',\n",
              " '<start> ich habe genug gegessen . <end>']"
            ]
          },
          "metadata": {
            "tags": []
          },
          "execution_count": 7
        }
      ]
    },
    {
      "cell_type": "code",
      "metadata": {
        "id": "5UlnBdIK1iaE",
        "colab": {
          "base_uri": "https://localhost:8080/"
        },
        "outputId": "516efa04-e52b-4386-e743-feb4b1cccf35"
      },
      "source": [
        "def create_tokenizer(sentence):\n",
        "    \"\"\"\n",
        "    Create and return a Tokenizer.\n",
        "    \"\"\"\n",
        "    tokenizer = Tokenizer(filters='')\n",
        "    tokenizer.fit_on_texts(sentence)\n",
        "    return tokenizer\n",
        "\n",
        "# Build the German tokenizer vocabulary\n",
        "ge_tokenizer = create_tokenizer(ge_sentence)\n",
        "# Tokenize the German sentences\n",
        "ge_sequence = ge_tokenizer.texts_to_sequences(ge_sentence)\n",
        "ge_sequence[-5:]"
      ],
      "execution_count": 8,
      "outputs": [
        {
          "output_type": "execute_result",
          "data": {
            "text/plain": [
              "[[1, 4, 24, 252, 3, 2],\n",
              " [1, 4, 18, 19, 82, 280, 3, 2],\n",
              " [1, 4, 15, 77, 5, 276, 3, 2],\n",
              " [1, 4, 18, 108, 182, 3, 2],\n",
              " [1, 4, 18, 480, 217, 3, 2]]"
            ]
          },
          "metadata": {
            "tags": []
          },
          "execution_count": 8
        }
      ]
    },
    {
      "cell_type": "code",
      "metadata": {
        "id": "ZGTaqt1t1iaI",
        "colab": {
          "base_uri": "https://localhost:8080/"
        },
        "outputId": "100ba3db-4be4-47ec-a06a-8f3ba2f46af1"
      },
      "source": [
        "# Randomly select 5 examples of English and German sentence pairs\n",
        "num_samples = 5\n",
        "inx = np.random.choice(len(en_sentence), num_samples, replace=False)\n",
        "\n",
        "for n, i in enumerate(inx):\n",
        "    print(n, en_sentence[i])\n",
        "    print(n, ge_sentence[i], ge_sequence[i])"
      ],
      "execution_count": 9,
      "outputs": [
        {
          "output_type": "stream",
          "text": [
            "0 we can't do that .\n",
            "0 <start> wir koennen das nicht . <end> [1, 17, 81, 11, 12, 3, 2]\n",
            "1 i won't be quiet .\n",
            "1 <start> ich werde keine ruhe geben . <end> [1, 4, 39, 103, 378, 317, 3, 2]\n",
            "2 we've made it .\n",
            "2 <start> wir haben es geschafft . <end> [1, 17, 35, 10, 487, 3, 2]\n",
            "3 stay with tom .\n",
            "3 <start> bleib bei tom ! <end> [1, 270, 186, 5, 9, 2]\n",
            "4 i am very tall .\n",
            "4 <start> ich bin sehr gross . <end> [1, 4, 15, 56, 167, 3, 2]\n"
          ],
          "name": "stdout"
        }
      ]
    },
    {
      "cell_type": "code",
      "metadata": {
        "id": "m3-tjXZn6_RN",
        "colab": {
          "base_uri": "https://localhost:8080/"
        },
        "outputId": "15c0753d-eaee-431c-a07d-31f909e273ff"
      },
      "source": [
        "def post_pad(sequence):\n",
        "    \"\"\"\n",
        "    Pad each sequence to a maximum length.\n",
        "    \"\"\"\n",
        "    return pad_sequences(sequence, padding='post')\n",
        "\n",
        "ge_padded = post_pad(ge_sequence)\n",
        "ge_padded[-5:]"
      ],
      "execution_count": 10,
      "outputs": [
        {
          "output_type": "execute_result",
          "data": {
            "text/plain": [
              "array([[  1,   4,  24, 252,   3,   2,   0,   0,   0,   0,   0,   0,   0,\n",
              "          0],\n",
              "       [  1,   4,  18,  19,  82, 280,   3,   2,   0,   0,   0,   0,   0,\n",
              "          0],\n",
              "       [  1,   4,  15,  77,   5, 276,   3,   2,   0,   0,   0,   0,   0,\n",
              "          0],\n",
              "       [  1,   4,  18, 108, 182,   3,   2,   0,   0,   0,   0,   0,   0,\n",
              "          0],\n",
              "       [  1,   4,  18, 480, 217,   3,   2,   0,   0,   0,   0,   0,   0,\n",
              "          0]], dtype=int32)"
            ]
          },
          "metadata": {
            "tags": []
          },
          "execution_count": 10
        }
      ]
    },
    {
      "cell_type": "markdown",
      "metadata": {
        "id": "foL7Ihs21iaP"
      },
      "source": [
        "## 2. Prepare the data with tf.data.Dataset objects"
      ]
    },
    {
      "cell_type": "markdown",
      "metadata": {
        "id": "-9rCEE4z1iaQ"
      },
      "source": [
        "#### Load the embedding layer\n",
        "As part of the dataset preproceessing for this project, you will use a pre-trained English word embedding module from TensorFlow Hub. The URL for the module is https://tfhub.dev/google/tf2-preview/nnlm-en-dim128-with-normalization/1.\n",
        "\n",
        "This embedding takes a batch of text tokens in a 1-D tensor of strings as input. It then embeds the separate tokens into a 128-dimensional space. \n",
        "\n",
        "The code to load and test the embedding layer is provided for you below.\n",
        "\n",
        "**NB:** This model can also be used as a sentence embedding module. The module will process each token by removing punctuation and splitting on spaces. It then averages the word embeddings over a sentence to give a single embedding vector. However, we will use it only as a word embedding module, and will pass each word in the input sentence as a separate token."
      ]
    },
    {
      "cell_type": "code",
      "metadata": {
        "id": "ywZgobCh1iaR"
      },
      "source": [
        "# Load embedding module from Tensorflow Hub\n",
        "embedding_layer = hub.KerasLayer(\"https://tfhub.dev/google/tf2-preview/nnlm-en-dim128/1\", \n",
        "    output_shape=(128), input_shape=(), dtype=tf.string)"
      ],
      "execution_count": 11,
      "outputs": []
    },
    {
      "cell_type": "code",
      "metadata": {
        "id": "TiY8QEDp1iaV",
        "colab": {
          "base_uri": "https://localhost:8080/"
        },
        "outputId": "5cb68164-6175-4e45-8740-4280af664670"
      },
      "source": [
        "# Test the layer\n",
        "\n",
        "embedding_layer(tf.constant([\"these\", \"aren't\", \"the\", \"droids\", \"you're\", \"looking\", \"for\"])).shape"
      ],
      "execution_count": 12,
      "outputs": [
        {
          "output_type": "execute_result",
          "data": {
            "text/plain": [
              "TensorShape([7, 128])"
            ]
          },
          "metadata": {
            "tags": []
          },
          "execution_count": 12
        }
      ]
    },
    {
      "cell_type": "markdown",
      "metadata": {
        "id": "KjuzXc-z1iaY"
      },
      "source": [
        "You should now prepare the training and validation Datasets.\n",
        "\n",
        "* Create a random training and validation set split of the data, reserving e.g. 20% of the data for validation (NB: each English dataset example is a single sentence string, and each German dataset example is a sequence of padded integer tokens).\n",
        "* Load the training and validation sets into a tf.data.Dataset object, passing in a tuple of English and German data for both training and validation sets.\n",
        "* Create a function to map over the datasets that splits each English sentence at spaces. Apply this function to both Dataset objects using the map method. _Hint: look at the tf.strings.split function._\n",
        "* Create a function to map over the datasets that embeds each sequence of English words using the loaded embedding layer/model. Apply this function to both Dataset objects using the map method.\n",
        "* Create a function to filter out dataset examples where the English sentence is greater than or equal to than 13 (embedded) tokens in length. Apply this function to both Dataset objects using the filter method.\n",
        "* Create a function to map over the datasets that pads each English sequence of embeddings with some distinct padding value before the sequence, so that each sequence is length 13. Apply this function to both Dataset objects using the map method. _Hint: look at the tf.pad function. You can extract a Tensor shape using tf.shape; you might also find the tf.math.maximum function useful._\n",
        "* Batch both training and validation Datasets with a batch size of 16.\n",
        "* Print the `element_spec` property for the training and validation Datasets. \n",
        "* Using the Dataset `.take(1)` method, print the shape of the English data example from the training Dataset.\n",
        "* Using the Dataset `.take(1)` method, print the German data example Tensor from the validation Dataset."
      ]
    },
    {
      "cell_type": "code",
      "metadata": {
        "id": "Q-BUJOl_1iaZ",
        "colab": {
          "base_uri": "https://localhost:8080/"
        },
        "outputId": "d9b072bc-4f5d-4a99-8545-c515bbd4cab4"
      },
      "source": [
        "# Create a random training and validation sets using an 80-20 split\n",
        "en_train, en_valid, ge_train, ge_valid = train_test_split(\n",
        "    en_sentence, ge_padded, test_size=0.2)\n",
        "\n",
        "# Examine the shape of data\n",
        "print(\"The shape of training dataset:\")\n",
        "print(f\"English: {np.array(en_train).shape} \\t German: {ge_train.shape}\")\n",
        "print(\"The shape of validation dataset:\")\n",
        "print(f\"English: {np.array(en_valid).shape} \\t German: {ge_valid.shape}\")"
      ],
      "execution_count": 13,
      "outputs": [
        {
          "output_type": "stream",
          "text": [
            "The shape of training dataset:\n",
            "English: (16000,) \t German: (16000, 14)\n",
            "The shape of validation dataset:\n",
            "English: (4000,) \t German: (4000, 14)\n"
          ],
          "name": "stdout"
        }
      ]
    },
    {
      "cell_type": "code",
      "metadata": {
        "id": "4w6rM8Bl1iad",
        "colab": {
          "base_uri": "https://localhost:8080/"
        },
        "outputId": "e6a8b155-7103-44b7-d076-2ec03f7ed134"
      },
      "source": [
        "def create_dataset(inputs):\n",
        "    \"\"\"\n",
        "    Take a tuple of inputs (source, label) \n",
        "    to create a tf.data.Dataset object.\n",
        "    \"\"\"\n",
        "    return tf.data.Dataset.from_tensor_slices(inputs)\n",
        "\n",
        "# Create Dataset object for both training and vailidation sets\n",
        "train_dataset = create_dataset((en_train, ge_train))\n",
        "valid_dataset = create_dataset((en_valid, ge_valid))\n",
        "\n",
        "# # Print the first 5 elements of the training dataset\n",
        "for x, y in train_dataset.take(5):\n",
        "    print(x.numpy(), y.numpy())"
      ],
      "execution_count": 14,
      "outputs": [
        {
          "output_type": "stream",
          "text": [
            "b\"you've done it !\" [  1  27 140  10 182   9   2   0   0   0   0   0   0   0]\n",
            "b'did tom protest ?' [   1   16    5 4160    7    2    0    0    0    0    0    0    0    0]\n",
            "b\"i'm sorry .\" [   1 1459    9    2    0    0    0    0    0    0    0    0    0    0]\n",
            "b'tom got up early .' [  1   5 311 391  29   3   2   0   0   0   0   0   0   0]\n",
            "b'who responded ?' [  1  43  16 945   7   2   0   0   0   0   0   0   0   0]\n"
          ],
          "name": "stdout"
        }
      ]
    },
    {
      "cell_type": "code",
      "metadata": {
        "id": "D7bn3mRs1iaj",
        "colab": {
          "base_uri": "https://localhost:8080/"
        },
        "outputId": "f5c47787-5874-4179-84fb-3bb483f5ce9a"
      },
      "source": [
        "def split_sentence(sentence):\n",
        "    \"\"\"\n",
        "    Split each sentence at spaces.\n",
        "    \"\"\"\n",
        "    return tf.strings.split(sentence, sep=' ')\n",
        "\n",
        "# Map the function over the both dataset objects. \n",
        "train_dataset = train_dataset.map(lambda x, _: (split_sentence(x), _))\n",
        "valid_dataset = valid_dataset.map(lambda x, _: (split_sentence(x), _))\n",
        "\n",
        "# # Print the first 5 elements of English sentence from the training dataset\n",
        "for x, _ in train_dataset.take(5):\n",
        "    print(x.numpy())"
      ],
      "execution_count": 15,
      "outputs": [
        {
          "output_type": "stream",
          "text": [
            "[b\"you've\" b'done' b'it' b'!']\n",
            "[b'did' b'tom' b'protest' b'?']\n",
            "[b\"i'm\" b'sorry' b'.']\n",
            "[b'tom' b'got' b'up' b'early' b'.']\n",
            "[b'who' b'responded' b'?']\n"
          ],
          "name": "stdout"
        }
      ]
    },
    {
      "cell_type": "code",
      "metadata": {
        "id": "q0Fdso381ian"
      },
      "source": [
        "def embed_word(sequence):\n",
        "    \"\"\"\n",
        "    Embeds each sequence of word using the loaded embedding layer.\n",
        "    \"\"\"\n",
        "    return embedding_layer(sequence)\n",
        "\n",
        "# Map the function over the both dataset objects. \n",
        "train_dataset = train_dataset.map(lambda x, _: (embed_word(x), _))\n",
        "valid_dataset = valid_dataset.map(lambda x, _: (embed_word(x), _))\n",
        "\n",
        "# Print the number of element for both datasets\n",
        "# print(\"The number of element for training dataset: {}\".format(\n",
        "#     train_dataset.reduce(0, lambda x, _: x + 1).numpy()))\n",
        "# print(\"The number of element for validation dataset: {}\".format(\n",
        "#     valid_dataset.reduce(0, lambda x, _: x + 1).numpy()))"
      ],
      "execution_count": 16,
      "outputs": []
    },
    {
      "cell_type": "code",
      "metadata": {
        "id": "bGqlxuqZ1ias"
      },
      "source": [
        "def filter_token(sequence):\n",
        "    \"\"\"\n",
        "    Filter dataset where the sequence length < 13 tokens.\n",
        "    \"\"\"\n",
        "    return len(sequence)<13\n",
        "\n",
        "# Filter over the both Dataset objects.\n",
        "train_dataset = train_dataset.filter(lambda x, _: filter_token(x))\n",
        "valid_dataset = valid_dataset.filter(lambda x, _: filter_token(x))\n",
        "\n",
        "# Print the number of element for both datasets\n",
        "# print(\"The number of element for training dataset: {}\".format(\n",
        "#     train_dataset.reduce(0, lambda x, _: x + 1).numpy()))\n",
        "# print(\"The number of element for validation dataset: {}\".format(\n",
        "#     valid_dataset.reduce(0, lambda x, _: x + 1).numpy()))"
      ],
      "execution_count": 17,
      "outputs": []
    },
    {
      "cell_type": "code",
      "metadata": {
        "id": "-3Zlr2M0BBhH",
        "colab": {
          "base_uri": "https://localhost:8080/"
        },
        "outputId": "d73beaca-61a5-4fe5-bb9e-96eb9bbf602c"
      },
      "source": [
        "def pre_pad(sequence):\n",
        "    \"\"\"\n",
        "    Pads each sequence with some distinct value before the sequence, \n",
        "    so that each sequence length=13.\n",
        "    \"\"\"\n",
        "    pad_size = tf.math.maximum(0, 13 - tf.shape(sequence)[0])\n",
        "    paddings = tf.concat(([[pad_size, 0]], [[0, 0]]), axis=0)\n",
        "    padded = tf.pad(sequence, paddings, \"CONSTANT\")\n",
        "    return tf.reshape(padded, (13, 128))\n",
        "\n",
        "# Map the function over the both Dataset objects. \n",
        "train_dataset = train_dataset.map(lambda x, _: (pre_pad(x), _))\n",
        "valid_dataset = valid_dataset.map(lambda x, _: (pre_pad(x), _))\n",
        "\n",
        "# Print the element_spec property for both datasets\n",
        "print(\"The element_spec property of training dataset: \\n {}\".format(\n",
        "    train_dataset.element_spec))\n",
        "print(\"The element_spec property of validation dataset: \\n {}\".format(\n",
        "    valid_dataset.element_spec))"
      ],
      "execution_count": 18,
      "outputs": [
        {
          "output_type": "stream",
          "text": [
            "The element_spec property of training dataset: (TensorSpec(shape=(13, 128), dtype=tf.float32, name=None), TensorSpec(shape=(14,), dtype=tf.int32, name=None))\n",
            "The element_spec property of validation dataset: (TensorSpec(shape=(13, 128), dtype=tf.float32, name=None), TensorSpec(shape=(14,), dtype=tf.int32, name=None))\n"
          ],
          "name": "stdout"
        }
      ]
    },
    {
      "cell_type": "code",
      "metadata": {
        "id": "tMslwlMYhNKW",
        "colab": {
          "base_uri": "https://localhost:8080/"
        },
        "outputId": "84573388-6e71-4ecc-93aa-87712b075525"
      },
      "source": [
        "def create_batch(dataset, batch_size):\n",
        "  \"\"\"\n",
        "  Batch the dataset using the batch_size argument, and \n",
        "  setting drop_remainder to True.\n",
        "  \"\"\"\n",
        "  return dataset.batch(batch_size, drop_remainder=True)\n",
        "\n",
        "# Batch the both Datasets with a batch size of 16.\n",
        "train_dataset = create_batch(train_dataset, batch_size=16)\n",
        "valid_dataset = create_batch(valid_dataset, batch_size=16)\n",
        "\n",
        "# Print the element_spec property for both datasets\n",
        "print(\"The element_spec property of training dataset: \\n {}\".format(\n",
        "    train_dataset.element_spec))\n",
        "print(\"The element_spec property of validation dataset: \\n {}\".format(\n",
        "    valid_dataset.element_spec))"
      ],
      "execution_count": 19,
      "outputs": [
        {
          "output_type": "stream",
          "text": [
            "The element_spec property of training dataset: (TensorSpec(shape=(16, 13, 128), dtype=tf.float32, name=None), TensorSpec(shape=(16, 14), dtype=tf.int32, name=None))\n",
            "The element_spec property of validation dataset: (TensorSpec(shape=(16, 13, 128), dtype=tf.float32, name=None), TensorSpec(shape=(16, 14), dtype=tf.int32, name=None))\n"
          ],
          "name": "stdout"
        }
      ]
    },
    {
      "cell_type": "code",
      "metadata": {
        "id": "CwSocw5QhA9p",
        "colab": {
          "base_uri": "https://localhost:8080/"
        },
        "outputId": "08e501eb-0c08-4291-a026-835f2956d288"
      },
      "source": [
        "# Print the shape of the English data from the training dataset\n",
        "x_train_batch, _ = next(iter(train_dataset.take(1)))\n",
        "print(\"The shape of English data from the training dataset: {}\".format( \n",
        "    x_train_batch.shape))\n",
        "\n",
        "# Print the German data from the validation dataset\n",
        "_, y_valid_batch = next(iter(valid_dataset.take(1)))\n",
        "print(\"The German data from the validation dataset: \\n {}\".format( \n",
        "    y_valid_batch.numpy()))"
      ],
      "execution_count": 21,
      "outputs": [
        {
          "output_type": "stream",
          "text": [
            "The shape of English data from the training dataset: (16, 13, 128)\n",
            "The German data from the validation dataset: \n",
            " [[   1   27 1063   10 1414    3    2    0    0    0    0    0    0    0]\n",
            " [   1    8   35   52  826    3    2    0    0    0    0    0    0    0]\n",
            " [   1    4  241   25  286    9    2    0    0    0    0    0    0    0]\n",
            " [   1    8 3350   36    3    2    0    0    0    0    0    0    0    0]\n",
            " [   1  374   22   12   25   95    9    2    0    0    0    0    0    0]\n",
            " [   1    5    6  370    3    2    0    0    0    0    0    0    0    0]\n",
            " [   1   17  173    5   90    3    2    0    0    0    0    0    0    0]\n",
            " [   1  108  220    9    2    0    0    0    0    0    0    0    0    0]\n",
            " [   1 5069   26 5070    9    2    0    0    0    0    0    0    0    0]\n",
            " [   1    5  448  595    3    2    0    0    0    0    0    0    0    0]\n",
            " [   1   13  246   21 1403    3    2    0    0    0    0    0    0    0]\n",
            " [   1    5    6  644    3    2    0    0    0    0    0    0    0    0]\n",
            " [   1   14  387   12    3    2    0    0    0    0    0    0    0    0]\n",
            " [   1   11    6  480    3    2    0    0    0    0    0    0    0    0]\n",
            " [   1    4   15  156 1392    3    2    0    0    0    0    0    0    0]\n",
            " [   1    4   85   37  498    3    2    0    0    0    0    0    0    0]]\n"
          ],
          "name": "stdout"
        }
      ]
    },
    {
      "cell_type": "markdown",
      "metadata": {
        "id": "isIYhjq01iay"
      },
      "source": [
        "## 3. Create the custom layer\n",
        "You will now create a custom layer to add the learned end token embedding to the encoder model:\n",
        "\n",
        "![Encoder schematic](https://github.com/MengOonLee/Deep_learning/blob/master/TensorFlow2/Tutorial/image/neural_translation/neural_translation_model_encoder.png?raw=1)"
      ]
    },
    {
      "cell_type": "markdown",
      "metadata": {
        "id": "M6gLIHG81iaz"
      },
      "source": [
        "You should now build the custom layer.\n",
        "* Using layer subclassing, create a custom layer that takes a batch of English data examples from one of the Datasets, and adds a learned embedded ‘end’ token to the end of each sequence. \n",
        "* This layer should create a TensorFlow Variable (that will be learned during training) that is 128-dimensional (the size of the embedding space). _Hint: you may find it helpful in the call method to use the tf.tile function to replicate the end token embedding across every element in the batch._\n",
        "* Using the Dataset `.take(1)` method, extract a batch of English data examples from the training Dataset and print the shape. Test the custom layer by calling the layer on the English data batch Tensor and print the resulting Tensor shape (the layer should increase the sequence length by one)."
      ]
    },
    {
      "cell_type": "code",
      "metadata": {
        "id": "avionZuFghj8"
      },
      "source": [
        "# Create a custom layer to add a learned end token embedding \n",
        "# to the encoder model using Layer subclassing API \n",
        "# according to the above specification.\n",
        "\n",
        "class EndToken(Layer):\n",
        "    \"\"\"\n",
        "    Takes a batch of sequences from datasets, and adds \n",
        "    an embedded 'end' token to the end of each sequence.\n",
        "    \"\"\"\n",
        "    def __init__(self, **kwargs):\n",
        "        super(EndToken, self).__init__(**kwargs)\n",
        "\n",
        "    def build(self, input_shape):\n",
        "        embedding = Embedding(input_dim=1,\n",
        "            output_dim=input_shape[-1], name='end')\n",
        "        end_token = embedding(\n",
        "            tf.zeros(shape=(1, 1), dtype=tf.int32))\n",
        "        self.end_tokens = tf.tile(end_token, \n",
        "            (input_shape[0], 1, 1))\n",
        "        \n",
        "    def call(self, inputs):\n",
        "        return tf.concat([inputs, self.end_tokens], axis=1)\n",
        "\n",
        "# Instantiate the custom layer object\n",
        "end_token_layer = EndToken()"
      ],
      "execution_count": 31,
      "outputs": []
    },
    {
      "cell_type": "code",
      "metadata": {
        "id": "xm-vBbGh5Zar",
        "colab": {
          "base_uri": "https://localhost:8080/"
        },
        "outputId": "6e1425a9-3981-40b9-d4c2-303c96a22c45"
      },
      "source": [
        "# Extract a batch of English data from the training Dataset.\n",
        "x_train_batch, _ = next(iter(train_dataset.take(1)))\n",
        "# Print the shape before the custom layer\n",
        "print(\"English tensor shape before the end_token_layer: {}\".format( \n",
        "    x_train_batch.shape))"
      ],
      "execution_count": 24,
      "outputs": [
        {
          "output_type": "stream",
          "text": [
            "English tensor shape before the end_token_layer: (16, 13, 128)\n"
          ],
          "name": "stdout"
        }
      ]
    },
    {
      "cell_type": "code",
      "metadata": {
        "id": "ebjK8PmL1ia6",
        "colab": {
          "base_uri": "https://localhost:8080/"
        },
        "outputId": "38704d15-2eba-44c2-a956-eb500eb003e0"
      },
      "source": [
        "# Test the custom layer on the English data and print the resulting shape\n",
        "print(\"English tensor shape after the end_token_layer: {}\".format( \n",
        "    end_token_layer(x_train_batch).shape))"
      ],
      "execution_count": 34,
      "outputs": [
        {
          "output_type": "stream",
          "text": [
            "English tensor shape after the end_token_layer: (16, 14, 128)\n"
          ],
          "name": "stdout"
        }
      ]
    },
    {
      "cell_type": "markdown",
      "metadata": {
        "id": "OAd3i4_y1ia-"
      },
      "source": [
        "## 4. Build the encoder network\n",
        "The encoder network follows the schematic diagram above. You should now build the RNN encoder model.\n",
        "* Using the functional API, build the encoder network according to the following spec:\n",
        "    * The model will take a batch of sequences of embedded English words as input, as given by the Dataset objects.\n",
        "    * The next layer in the encoder will be the custom layer you created previously, to add a learned end token embedding to the end of the English sequence.\n",
        "    * This is followed by a Masking layer, with the `mask_value` set to the distinct padding value you used when you padded the English sequences with the Dataset preprocessing above.\n",
        "    * The final layer is an LSTM layer with 512 units, which also returns the hidden and cell states.\n",
        "    * The encoder is a multi-output model. There should be two output Tensors of this model: the hidden state and cell states of the LSTM layer. The output of the LSTM layer is unused.\n",
        "* Using the Dataset `.take(1)` method, extract a batch of English data examples from the training Dataset and test the encoder model by calling it on the English data Tensor, and print the shape of the resulting Tensor outputs.\n",
        "* Print the model summary for the encoder network."
      ]
    },
    {
      "cell_type": "code",
      "metadata": {
        "id": "2MrOS1LoFyA9"
      },
      "source": [
        "# Build a RNN encoder model using the functional API\n",
        "# according to the above specification.\n",
        "\n",
        "# A batch of sequences of from dataset as input.\n",
        "input = Input(shape=(13, None), batch_size=16)\n",
        "# Add end token embedding to the end of sequence using end_token_layer.\n",
        "x = end_token_layer(input)\n",
        "# Masking layer with the mask_value set to 0.0.\n",
        "x = Masking(mask_value=0.0)(x)\n",
        "# LSTM layer with 512 units returns hidden and cell states.\n",
        "x, h, c = LSTM(units=512, return_state=True)(x)\n",
        "\n",
        "# Instantiate the RNN encoder model object.\n",
        "encoder_model = Model(inputs=input, outputs=[h, c])"
      ],
      "execution_count": 35,
      "outputs": []
    },
    {
      "cell_type": "code",
      "metadata": {
        "id": "e5XW6NxL1ibC",
        "colab": {
          "base_uri": "https://localhost:8080/"
        },
        "outputId": "ae7e0972-324e-469f-d835-55882c7daacc"
      },
      "source": [
        "# Extract a batch of English data from the training dataset.\n",
        "x_train_batch, _ = next(iter(train_dataset.take(1)))\n",
        "\n",
        "# Test the encoder_model on the English data and print the resulting shape.\n",
        "enc_hidden, enc_cell = encoder_model(x_train_batch)\n",
        "print(\"The shape of Encoder hidden state: (batch_size, units)\".format( \n",
        "    enc_hidden.shape))\n",
        "print(\"The shape of Encoder cell state: (batch_size, units)\".format( \n",
        "    enc_cell.shape))\n",
        "\n",
        "# Print the number of trainable variables\n",
        "print('Number of trainable variables in the encoder_model:', \n",
        "    len(encoder_model.trainable_variables))"
      ],
      "execution_count": 36,
      "outputs": [
        {
          "output_type": "stream",
          "text": [
            "The shape of Encoder hidden state: (batch_size, units)\n",
            "The shape of Encoder cell state: (batch_size, units)\n",
            "Number of trainable variables in the encoder_model: 3\n"
          ],
          "name": "stdout"
        }
      ]
    },
    {
      "cell_type": "code",
      "metadata": {
        "id": "jEk9ikVh1ibL",
        "colab": {
          "base_uri": "https://localhost:8080/"
        },
        "outputId": "1bc486ea-4e28-4830-ae78-e2851d0c55c9"
      },
      "source": [
        "# Print the model summary for the encoder_model\n",
        "encoder_model.summary()"
      ],
      "execution_count": 37,
      "outputs": [
        {
          "output_type": "stream",
          "text": [
            "Model: \"model_1\"\n",
            "_________________________________________________________________\n",
            "Layer (type)                 Output Shape              Param #   \n",
            "=================================================================\n",
            "input_2 (InputLayer)         [(16, 13, None)]          0         \n",
            "_________________________________________________________________\n",
            "end_token_2 (EndToken)       (16, 14, 128)             0         \n",
            "_________________________________________________________________\n",
            "masking_1 (Masking)          (16, 14, 128)             0         \n",
            "_________________________________________________________________\n",
            "lstm_1 (LSTM)                [(16, 512), (16, 512), (1 1312768   \n",
            "=================================================================\n",
            "Total params: 1,312,768\n",
            "Trainable params: 1,312,768\n",
            "Non-trainable params: 0\n",
            "_________________________________________________________________\n"
          ],
          "name": "stdout"
        }
      ]
    },
    {
      "cell_type": "code",
      "metadata": {
        "id": "M9vcSXtu4hLp",
        "colab": {
          "base_uri": "https://localhost:8080/",
          "height": 422
        },
        "outputId": "7f18b4aa-1629-414d-98ae-685d392974bb"
      },
      "source": [
        "# Plot the encoder_model\n",
        "plot_model(encoder_model, 'encoder_model.png', show_shapes=True)"
      ],
      "execution_count": 38,
      "outputs": [
        {
          "output_type": "execute_result",
          "data": {
            "image/png": "[encoded data removed]",
            "text/plain": [
              "<IPython.core.display.Image object>"
            ]
          },
          "metadata": {
            "tags": []
          },
          "execution_count": 38
        }
      ]
    },
    {
      "cell_type": "markdown",
      "metadata": {
        "id": "KvkzpCeZ1ibR"
      },
      "source": [
        "## 5. Build the decoder network\n",
        "The decoder network follows the schematic diagram below.\n",
        "\n",
        "![Decoder schematic](https://github.com/MengOonLee/Deep_learning/blob/master/TensorFlow2/Tutorial/image/neural_translation/neural_translation_model_decoder.png?raw=1)"
      ]
    },
    {
      "cell_type": "markdown",
      "metadata": {
        "id": "VPBK8WGL1ibS"
      },
      "source": [
        "You should now build the RNN decoder model.\n",
        "* Using Model subclassing, build the decoder network according to the following spec:\n",
        "    * The initializer should create the following layers:\n",
        "        * An Embedding layer with vocabulary size set to the number of unique German tokens, embedding dimension 128, and set to mask zero values in the input.\n",
        "        * An LSTM layer with 512 units, that returns its hidden and cell states, and also returns sequences.\n",
        "        * A Dense layer with number of units equal to the number of unique German tokens, and no activation function.\n",
        "    * The call method should include the usual `inputs` argument, as well as the additional keyword arguments `hidden_state` and `cell_state`. The default value for these keyword arguments should be `None`.\n",
        "    * The call method should pass the inputs through the Embedding layer, and then through the LSTM layer. If the `hidden_state` and `cell_state` arguments are provided, these should be used for the initial state of the LSTM layer. _Hint: use the_ `initial_state` _keyword argument when calling the LSTM layer on its input._\n",
        "    * The call method should pass the LSTM output sequence through the Dense layer, and return the resulting Tensor, along with the hidden and cell states of the LSTM layer.\n",
        "* Using the Dataset `.take(1)` method, extract a batch of English and German data examples from the training Dataset. Test the decoder model by first calling the encoder model on the English data Tensor to get the hidden and cell states, and then call the decoder model on the German data Tensor and hidden and cell states, and print the shape of the resulting decoder Tensor outputs.\n",
        "* Print the model summary for the decoder network."
      ]
    },
    {
      "cell_type": "code",
      "metadata": {
        "id": "TMrLal51tao2"
      },
      "source": [
        "class Decoder(Model):\n",
        "    def __init__(self, vocab_size, **kwargs):\n",
        "        super(Decoder, self).__init__(**kwargs)\n",
        "        self.embedding = Embedding(input_dim=vocab_size, \n",
        "            output_dim=128, mask_zero=True)\n",
        "        self.lstm = LSTM(units=512, return_state=True, return_sequences=True)\n",
        "        self.dense = Dense(units=vocab_size, activation=None)\n",
        "\n",
        "    def call(self, inputs, states=None):\n",
        "        x = inputs\n",
        "        x = self.embedding(inputs)\n",
        "        if states is None:\n",
        "            states = self.lstm.get_initial_state(x)\n",
        "        x, _, _ = self.lstm(x, initial_state=states)\n",
        "        outputs = self.dense(x)\n",
        "        return outputs\n",
        "\n",
        "# Instantiate the RNN decoder model object with\n",
        "# vocabulary size set to the number of unique German tokens\n",
        "decoder = Decoder(vocab_size=len(ge_tokenizer.word_index) + 1)\n",
        "\n",
        "optimizer = Adam(learning_rate=0.001)\n",
        "loss = SparseCategoricalCrossentropy(from_logits=True)\n",
        "decoder.compile(optimizer=optimizer, loss=loss)\n",
        "\n",
        "history = decoder.fit(train_dataset, epochs=5)"
      ],
      "execution_count": null,
      "outputs": []
    },
    {
      "cell_type": "code",
      "metadata": {
        "id": "l50qhnXD1ibT"
      },
      "source": [
        "# Build an RNN decoder model using Model subclassing API\n",
        "# according to the above specification.\n",
        "\n",
        "class Decoder(Model):\n",
        "    \"\"\"\n",
        "    Takes a batch of German data Tensor from the Dataset through an Embedding \n",
        "    layer. It is followed by an LSTM layer with initial state are provided by \n",
        "    the hidden and cell states from the RNN encoder model on the English data \n",
        "    Tensor. The LSTM output sequence is passed through the final Dense layer, \n",
        "    which returns the resulting Tensor, along with the hidden and cell states \n",
        "    of the LSTM layer.\n",
        "    \"\"\"\n",
        "    def __init__(self, vocab_size, **kwargs):\n",
        "        super(Decoder, self).__init__(**kwargs)\n",
        "        # Define layers\n",
        "        # An Embedding layer with vocabulary size set to the number of unique\n",
        "        # German tokens, embedding dimension 128, and set to mask zero values.\n",
        "        self.embedding = Embedding(input_dim=vocab_size, \n",
        "            output_dim=128, mask_zero=True)\n",
        "        # An LSTM layer with 512 units returns \n",
        "        # sequences, hidden and cell states.\n",
        "        self.lstm = LSTM(units=512, return_state=True, return_sequences=True)\n",
        "        # A Dense layer with number of units equal to the number of unique\n",
        "        # German tokens and no activation function.\n",
        "        self.dense = Dense(units=vocab_size, activation=None)\n",
        "\n",
        "    def call(self, inputs, states=None):\n",
        "        # Define forward pass\n",
        "        x = self.embedding(inputs)\n",
        "        if states is None:\n",
        "            states = self.lstm.get_initial_state(x)\n",
        "        x, _, _ = self.lstm(x, initial_state=states)\n",
        "        outputs = self.dense(x)\n",
        "        return outputs\n",
        "\n",
        "# Instantiate the RNN decoder model object with\n",
        "# vocabulary size set to the number of unique German tokens\n",
        "decoder = Decoder(vocab_size=len(ge_tokenizer.word_index) + 1)"
      ],
      "execution_count": null,
      "outputs": []
    },
    {
      "cell_type": "code",
      "metadata": {
        "id": "vG5CRIXV1ibi",
        "colab": {
          "base_uri": "https://localhost:8080/"
        },
        "outputId": "a201dcc5-7510-41a4-b715-37a77210db8f"
      },
      "source": [
        "# Extract a batch of English and German data examples \n",
        "# from the training Dataset\n",
        "en_train_batch, ge_train_batch = next(iter(train_dataset.take(1)))\n",
        "\n",
        "# First call the encoder model on the English data Tensor\n",
        "# to get the hidden and cell states\n",
        "enc_hidden, enc_cell = encoder(en_train_batch)\n",
        "\n",
        "# Then test the decoder model on the German data Tensor,\n",
        "# the hidden and cell states from the encoder model, \n",
        "# and print the shape of the resulting decoder Tensor outputs.\n",
        "dec_outputs = decoder(ge_train_batch, states=[enc_hidden, enc_cell])\n",
        "print(\"The shape of Decoder outputs: (batch_size, sequence_length, vocab_size))\", \n",
        "    dec_outputs.shape)\n",
        "\n",
        "# Print the number of trainable variables\n",
        "print('Number of trainable variables in the RNN decoder_model:', \n",
        "    len(decoder.trainable_variables))"
      ],
      "execution_count": null,
      "outputs": [
        {
          "output_type": "stream",
          "text": [
            "The shape of Decoder outputs: (batch_size, sequence_length, vocab_size)) (16, 14, 5744)\n",
            "Number of trainable variables in the RNN decoder_model: 6\n"
          ],
          "name": "stdout"
        }
      ]
    },
    {
      "cell_type": "code",
      "metadata": {
        "id": "SvqqT_ET1ibl",
        "colab": {
          "base_uri": "https://localhost:8080/"
        },
        "outputId": "2869658e-25ca-46c3-8b39-4f811049d545"
      },
      "source": [
        "# Print the model summary for the decoder network.\n",
        "decoder.summary()"
      ],
      "execution_count": null,
      "outputs": [
        {
          "output_type": "stream",
          "text": [
            "Model: \"decoder\"\n",
            "_________________________________________________________________\n",
            "Layer (type)                 Output Shape              Param #   \n",
            "=================================================================\n",
            "embedding (Embedding)        multiple                  735232    \n",
            "_________________________________________________________________\n",
            "lstm_12 (LSTM)               multiple                  1312768   \n",
            "_________________________________________________________________\n",
            "dense (Dense)                multiple                  2946672   \n",
            "=================================================================\n",
            "Total params: 4,994,672\n",
            "Trainable params: 4,994,672\n",
            "Non-trainable params: 0\n",
            "_________________________________________________________________\n"
          ],
          "name": "stdout"
        }
      ]
    },
    {
      "cell_type": "markdown",
      "metadata": {
        "id": "pST9XGJ81ibo"
      },
      "source": [
        "## 6. Make a custom training loop\n",
        "You should now write a custom training loop to train your custom neural translation model.\n",
        "* Define a function that takes a Tensor batch of German data (as extracted from the training Dataset), and returns a tuple containing German inputs and outputs for the decoder model (refer to schematic diagram above).\n",
        "* Define a function that computes the forward and backward pass for your translation model. This function should take an English input, German input and German output as arguments, and should do the following:\n",
        "    * Pass the English input into the encoder, to get the hidden and cell states of the encoder LSTM.\n",
        "    * These hidden and cell states are then passed into the decoder, along with the German inputs, which returns a sequence of outputs (the hidden and cell state outputs of the decoder LSTM are unused in this function).\n",
        "    * The loss should then be computed between the decoder outputs and the German output function argument.\n",
        "    * The function returns the loss and gradients with respect to the encoder and decoder’s trainable variables.\n",
        "    * Decorate the function with `@tf.function`\n",
        "* Define and run a custom training loop for a number of epochs (for you to choose) that does the following:\n",
        "    * Iterates through the training dataset, and creates decoder inputs and outputs from the German sequences.\n",
        "    * Updates the parameters of the translation model using the gradients of the function above and an optimizer object.\n",
        "    * Every epoch, compute the validation loss on a number of batches from the validation and save the epoch training and validation losses.\n",
        "* Plot the learning curves for loss vs epoch for both training and validation sets.\n",
        "\n",
        "_Hint: This model is computationally demanding to train. The quality of the model or length of training is not a factor in the grading rubric. However, to obtain a better model we recommend using the GPU accelerator hardware on Colab._"
      ]
    },
    {
      "cell_type": "code",
      "metadata": {
        "id": "7hJHbWqs1ibr",
        "colab": {
          "base_uri": "https://localhost:8080/"
        },
        "outputId": "ef50ec97-2a95-412f-d1ea-f21cb59c68c5"
      },
      "source": [
        "def split_inputs_targets(sequences):\n",
        "    \"\"\"\n",
        "    Takes an array of token sequences, and returns \n",
        "    a tuple of decoder inputs and targets.\n",
        "    \"\"\"\n",
        "    dec_inputs = sequences[:, :-1]\n",
        "    dec_targets = sequences[:, 1:]\n",
        "    return dec_inputs, dec_targets\n",
        "\n",
        "# Extract a Tensor batch of German data from the training Dataset.\n",
        "_, ge_train_batch = next(iter(train_dataset.take(1)))\n",
        "\n",
        "# Create a tuple containing German inputs and targets \n",
        "# for the decoder model.\n",
        "dec_inputs, dec_targets = split_inputs_targets(ge_train_batch)\n",
        "\n",
        "# Print the decoder inputs.\n",
        "print(\"The decoder inputs:\\n\", dec_inputs.numpy())\n",
        "# Print the decoder targets.\n",
        "print(\"The decoder targets:\\n\", dec_targets.numpy())"
      ],
      "execution_count": null,
      "outputs": [
        {
          "output_type": "stream",
          "text": [
            "The decoder inputs:\n",
            " [[   1   99    6  128    3    2    0    0    0    0    0    0    0]\n",
            " [   1    5   16   34 1506    3    2    0    0    0    0    0    0]\n",
            " [   1    5  423   22   36    3    2    0    0    0    0    0    0]\n",
            " [   1    4   30  307    3    2    0    0    0    0    0    0    0]\n",
            " [   1    5   16   10 4487    3    2    0    0    0    0    0    0]\n",
            " [   1  137   53  107   12  226    3    2    0    0    0    0    0]\n",
            " [   1   11    6   70  585    3    2    0    0    0    0    0    0]\n",
            " [   1    5 2504    3    2    0    0    0    0    0    0    0    0]\n",
            " [   1   13   32  844    9    2    0    0    0    0    0    0    0]\n",
            " [   1    5   30   12  309    3    2    0    0    0    0    0    0]\n",
            " [   1    4   30   12  309    3    2    0    0    0    0    0    0]\n",
            " [   1  492    8   21    3    2    0    0    0    0    0    0    0]\n",
            " [   1    4   18  692    3    2    0    0    0    0    0    0    0]\n",
            " [   1 2506  359  102    3    2    0    0    0    0    0    0    0]\n",
            " [   1    8 4002    3    2    0    0    0    0    0    0    0    0]\n",
            " [   1   95    4    7    2    0    0    0    0    0    0    0    0]]\n",
            "The decoder targets:\n",
            " [[  99    6  128    3    2    0    0    0    0    0    0    0    0]\n",
            " [   5   16   34 1506    3    2    0    0    0    0    0    0    0]\n",
            " [   5  423   22   36    3    2    0    0    0    0    0    0    0]\n",
            " [   4   30  307    3    2    0    0    0    0    0    0    0    0]\n",
            " [   5   16   10 4487    3    2    0    0    0    0    0    0    0]\n",
            " [ 137   53  107   12  226    3    2    0    0    0    0    0    0]\n",
            " [  11    6   70  585    3    2    0    0    0    0    0    0    0]\n",
            " [   5 2504    3    2    0    0    0    0    0    0    0    0    0]\n",
            " [  13   32  844    9    2    0    0    0    0    0    0    0    0]\n",
            " [   5   30   12  309    3    2    0    0    0    0    0    0    0]\n",
            " [   4   30   12  309    3    2    0    0    0    0    0    0    0]\n",
            " [ 492    8   21    3    2    0    0    0    0    0    0    0    0]\n",
            " [   4   18  692    3    2    0    0    0    0    0    0    0    0]\n",
            " [2506  359  102    3    2    0    0    0    0    0    0    0    0]\n",
            " [   8 4002    3    2    0    0    0    0    0    0    0    0    0]\n",
            " [  95    4    7    2    0    0    0    0    0    0    0    0    0]]\n"
          ],
          "name": "stdout"
        }
      ]
    },
    {
      "cell_type": "code",
      "metadata": {
        "id": "3D_bRscRYC6E"
      },
      "source": [
        "class CustomTraining(Decoder):\n",
        "    @tf.function\n",
        "    def train_step(self, inputs, labels):\n",
        "        # Create decoder inputs and outputs from the labels\n",
        "        dec_inputs, dec_targets = split_inputs_targets(labels)\n",
        "        # Pass enc_inputs into the encoder to get \n",
        "        # enc_hidden and enc_cell states of the encoder LSTM.\n",
        "        enc_hidden, enc_cell = encoder(enc_inputs)\n",
        "        # Pass enc_hidden and enc_cell states into the decoder, \n",
        "        # along with dec_inputs to get dec_outputs\n",
        "        dec_preds = decoder(dec_inputs, states=[enc_hidden, enc_cell])\n",
        "        # Compute loss between dec_targets and dec_outputs\n",
        "        loss = loss_object(y_true=dec_targets, y_pred=dec_preds)\n",
        "        # Compute gradient with respect to the trainable variables\n",
        "        grad = tape.gradient(loss, train_variables)\n",
        "    return loss, grad"
      ],
      "execution_count": null,
      "outputs": []
    },
    {
      "cell_type": "code",
      "metadata": {
        "id": "Jvu4J4-u1ibu"
      },
      "source": [
        "# Define the Adam optimizer and categorical cross entropy loss \n",
        "optimizer = Adam(learning_rate=0.001)\n",
        "loss_object = SparseCategoricalCrossentropy(from_logits=True)\n",
        "# Define the encoder and decoder's trainable variables\n",
        "train_variables = encoder.trainable_variables \\\n",
        "    + decoder.trainable_variables\n",
        "\n",
        "# Define a function to compute the forward and backward pass \n",
        "# for the translation model according to the above specification.\n",
        "# Use the @tf.function decorator\n",
        "@tf.function\n",
        "def get_loss_and_grad(enc_inputs, dec_inputs, dec_targets):\n",
        "    \"\"\"\n",
        "    Compute a loss and gradient of the encoder and decoder models, \n",
        "    corresponding to the encoder inputs, decoder inputs and targets.\n",
        "    \"\"\"\n",
        "    with tf.GradientTape() as tape:\n",
        "        # Pass enc_inputs into the encoder to get \n",
        "        # enc_hidden and enc_cell states of the encoder LSTM.\n",
        "        enc_hidden, enc_cell = encoder(enc_inputs)\n",
        "        # Pass enc_hidden and enc_cell states into the decoder, \n",
        "        # along with dec_inputs to get dec_outputs\n",
        "        dec_preds = decoder(dec_inputs, states=[enc_hidden, enc_cell])\n",
        "        # Compute loss between dec_targets and dec_outputs\n",
        "        loss = loss_object(y_true=dec_targets, y_pred=dec_preds)\n",
        "        # Compute gradient with respect to the trainable variables\n",
        "        grad = tape.gradient(loss, train_variables)\n",
        "    return loss, grad"
      ],
      "execution_count": null,
      "outputs": []
    },
    {
      "cell_type": "code",
      "metadata": {
        "id": "12VY66RyTmiR"
      },
      "source": [
        "# Generate a ModelCheckpoint object that save only the weights that generate\n",
        "# the lowest validation loss.\n",
        "checkpoint_dir = \"./training_checkpoints\"\n",
        "if not os.path.exists(checkpoint_dir):\n",
        "    os.makedirs(checkpoint_dir)\n",
        "checkpoint_prefix = os.path.join(checkpoint_dir, \"ckpt\")\n",
        "checkpoint = \n",
        "\n",
        "# checkpoint_callback = ModelCheckpoint(filepath=checkpoint_dir, \n",
        "    # save_weights_only=True, save_best_only=True, save_freq='epoch', \n",
        "    # monitor='val_loss', verbose=1)"
      ],
      "execution_count": null,
      "outputs": []
    },
    {
      "cell_type": "code",
      "metadata": {
        "id": "Vl5H06811ibx"
      },
      "source": [
        "# Define a custom training loop for a number of epochs\n",
        "# according to the above specification\n",
        "\n",
        "def train_step(train_dataset, valid_dataset, num_epochs):\n",
        "    \"\"\"\n",
        "    Implement a custom training loop and return \n",
        "    a list of loss values per epoch.\n",
        "    \"\"\"\n",
        "    # Create lists to accumulate the metric values\n",
        "    train_loss_results = []\n",
        "    valid_loss_results = []\n",
        "\n",
        "    for epoch in range(num_epochs):\n",
        "        train_epoch_loss_avg = Mean()\n",
        "        valid_epoch_loss_avg = Mean()\n",
        "        # Iterate through the training dataset\n",
        "        for inputs, labels in train_dataset:\n",
        "            # Create decoder inputs and outputs from the labels\n",
        "            dec_inputs, dec_targets = split_inputs_targets(labels)\n",
        "            # Compute loss and gradients using the gradients function above\n",
        "            loss, grads = get_loss_and_grad(inputs, dec_inputs, dec_targets)\n",
        "            # Update the parameters of the model using an optimizer object\n",
        "            # optimizer.apply_gradients(zip(grads, train_variables))\n",
        "            optimizer.apply_gradients([(grad, var) \n",
        "                for (grad, var) in zip(grads, train_variables) \n",
        "                if grad is not None])\n",
        "            # Compute average epoch train loss\n",
        "            train_epoch_loss_avg(loss)\n",
        "        \n",
        "        # Compute the validation loss on the validation dataset\n",
        "        for inputs, labels in valid_dataset:\n",
        "            # Create decoder inputs and outputs from the German sequences\n",
        "            dec_inputs, dec_targets = split_inputs_targets(labels)\n",
        "            # Pass enc_inputs into the encoder to get \n",
        "            # enc_hidden and enc_cell states of the encoder LSTM.\n",
        "            enc_hidden, enc_cell = encoder(inputs)\n",
        "            # Pass enc_hidden and enc_cell states into the decoder, \n",
        "            # along with dec_inputs to get dec_outputs\n",
        "            dec_preds = decoder(dec_inputs, states=[enc_hidden, enc_cell])\n",
        "            # Compute loss between dec_targets and dec_outputs\n",
        "            loss = loss_object(y_true=dec_targets, y_pred=dec_preds)\n",
        "            # Compute epoch avg valid loss\n",
        "            valid_epoch_loss_avg(loss)\n",
        "            callbacks=[checkpoint_callback]\n",
        "        \n",
        "        print(\"Epoch {:03d}: Train loss: {:.3f}, Valid loss: {:.3f}\".format(\n",
        "            epoch, train_epoch_loss_avg.result(), \n",
        "            valid_epoch_loss_avg.result()))\n",
        "        \n",
        "        # Save the epoch training and validation losses every epoch\n",
        "        train_loss_results.append(train_epoch_loss_avg.result().numpy())\n",
        "        valid_loss_results.append(valid_epoch_loss_avg.result().numpy())\n",
        "    \n",
        "    return train_loss_results, valid_loss_results"
      ],
      "execution_count": null,
      "outputs": []
    },
    {
      "cell_type": "code",
      "metadata": {
        "id": "MVWOYJ3l1ib1",
        "colab": {
          "base_uri": "https://localhost:8080/"
        },
        "outputId": "feb1e38d-55da-48ed-f921-d826f287ff01"
      },
      "source": [
        "# Execute the custom training process\n",
        "train_loss = train_step(train_dataset, valid_dataset, num_epochs=10)"
      ],
      "execution_count": null,
      "outputs": [
        {
          "output_type": "stream",
          "text": [
            "Epoch 000: Train Loss: 1.729, Valid Loss: 1.390\n",
            "Epoch 001: Train Loss: 1.211, Valid Loss: 1.184\n"
          ],
          "name": "stdout"
        }
      ]
    },
    {
      "cell_type": "code",
      "metadata": {
        "id": "dpacst2F1ib7"
      },
      "source": [
        "# Plot the learning curves for loss vs epoch \n",
        "# for both training and validation sets.\n",
        "fig = plt.figure(figsize=(15, 5))\n",
        "plt.plot(train_loss_results)\n",
        "plt.plot(valid_loss_results)\n",
        "plt.title(\"Loss vs epochs\")\n",
        "plt.ylabel(\"Loss\")\n",
        "plt.xlabel(\"Epoch\")\n",
        "plt.legend([\"Training\", \"Validation\"], loc=\"upper right\")\n",
        "plt.show()"
      ],
      "execution_count": null,
      "outputs": []
    },
    {
      "cell_type": "markdown",
      "metadata": {
        "id": "xM2gvBM11ib-"
      },
      "source": [
        "## 7. Use the model to translate\n",
        "Now it's time to put your model into practice! You should run your translation for five randomly sampled English sentences from the dataset. For each sentence, the process is as follows:\n",
        "* Preprocess and embed the English sentence according to the model requirements.\n",
        "* Pass the embedded sentence through the encoder to get the encoder hidden and cell states.\n",
        "* Starting with the special  `\"<start>\"` token, use this token and the final encoder hidden and cell states to get the one-step prediction from the decoder, as well as the decoder’s updated hidden and cell states.\n",
        "* Create a loop to get the next step prediction and updated hidden and cell states from the decoder, using the most recent hidden and cell states. Terminate the loop when the `\"<end>\"` token is emitted, or when the sentence has reached a maximum length.\n",
        "* Decode the output token sequence into German text and print the English text and the model's German translation."
      ]
    },
    {
      "cell_type": "code",
      "metadata": {
        "id": "sDIdIvl2AL1W"
      },
      "source": [
        "# Re-build the RNN decoder model and load the saved weights\n",
        "\n",
        "decoder = Decoder(vocab_size=len(ge_tokenizer.word_index) + 1)\n",
        "decoder.load_weights(latest_checkpoint('./training_checkpoints'))"
      ],
      "execution_count": null,
      "outputs": []
    },
    {
      "cell_type": "code",
      "metadata": {
        "id": "GkyYF_VHis_s",
        "colab": {
          "base_uri": "https://localhost:8080/"
        },
        "outputId": "b63f956e-73be-467b-8097-f02436a72d5c"
      },
      "source": [
        "# 5 randomly samples of English sentences from the dataset\n",
        "\n",
        "num_samples = 5\n",
        "inx = np.random.choice(len(en_sentence), num_samples, replace=False)\n",
        "for sentence in np.array(en_sentence)[inx]:\n",
        "    print(sentence)"
      ],
      "execution_count": null,
      "outputs": [
        {
          "output_type": "stream",
          "text": [
            "i believe in god .\n",
            "you know enough .\n",
            "get away !\n",
            "this tastes good .\n",
            "what's up ?\n"
          ],
          "name": "stdout"
        }
      ]
    },
    {
      "cell_type": "code",
      "metadata": {
        "id": "bGnQtE7L1icA",
        "colab": {
          "base_uri": "https://localhost:8080/",
          "height": 129
        },
        "outputId": "e013a240-8e15-423a-f05b-9cced8ee029a"
      },
      "source": [
        "# Randomly select 5 samples of English sentences from the dataset\n",
        "inx = np.random.choice(len(en_sentence), 5, replace=False)\n",
        "\n",
        "for n, i in enumerate(inx):\n",
        "    # For each sentence\n",
        "    x = en_sentence[i]\n",
        "    # Preprocess and embed the English sentence \n",
        "    # according to the model requirements.\n",
        "    x = tf.strings.split(x, sep=' ')\n",
        "    x = embedding_layer(x)\n",
        "    x = x if len(x)<13 else \n",
        "        continue\n",
        "    print(n, x)\n",
        "    # pad_size = tf.math.maximum(0, 13 - tf.shape(x)[0])\n",
        "    # paddings = tf.concat(([[pad_size, 0]], [[0, 0]]), axis=0)\n",
        "    # padded = tf.pad(x, paddings, \"CONSTANT\")\n",
        "    # x = tf.reshape(padded, (13, 128))\n",
        "    # Pass the "
      ],
      "execution_count": null,
      "outputs": [
        {
          "output_type": "error",
          "ename": "SyntaxError",
          "evalue": "ignored",
          "traceback": [
            "\u001b[0;36m  File \u001b[0;32m\"<ipython-input-55-bfae7444463f>\"\u001b[0;36m, line \u001b[0;32m11\u001b[0m\n\u001b[0;31m    x = x if len(x)<13 else pass\u001b[0m\n\u001b[0m                               ^\u001b[0m\n\u001b[0;31mSyntaxError\u001b[0m\u001b[0;31m:\u001b[0m invalid syntax\n"
          ]
        }
      ]
    },
    {
      "cell_type": "code",
      "metadata": {
        "id": "ohleJRcJ1icD"
      },
      "source": [
        ""
      ],
      "execution_count": null,
      "outputs": []
    },
    {
      "cell_type": "code",
      "metadata": {
        "id": "Unk60cEy1icI"
      },
      "source": [
        ""
      ],
      "execution_count": null,
      "outputs": []
    }
  ]
}