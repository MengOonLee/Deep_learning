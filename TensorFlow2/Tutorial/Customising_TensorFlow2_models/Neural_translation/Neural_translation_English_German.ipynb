{
  "nbformat": 4,
  "nbformat_minor": 0,
  "metadata": {
    "kernelspec": {
      "name": "python3",
      "display_name": "Python 3"
    },
    "colab": {
      "name": "Capstone Project.ipynb",
      "provenance": [],
      "collapsed_sections": [],
      "include_colab_link": true
    }
  },
  "cells": [
    {
      "cell_type": "markdown",
      "metadata": {
        "id": "view-in-github",
        "colab_type": "text"
      },
      "source": [
        "<a href=\"https://colab.research.google.com/github/MengOonLee/Deep_learning/blob/master/TensorFlow2/Tutorial/Customising_TensorFlow2_models/Neural_translation/Neural_translation_English_German.ipynb\" target=\"_parent\"><img src=\"https://colab.research.google.com/assets/colab-badge.svg\" alt=\"Open In Colab\"/></a>"
      ]
    },
    {
      "cell_type": "markdown",
      "metadata": {
        "id": "vsX0L1sG1iZj"
      },
      "source": [
        "# Capstone Project\n",
        "## Neural translation model\n",
        "### Instructions\n",
        "\n",
        "In this notebook, you will create a neural network that translates from English to German. You will use concepts from throughout this course, including building more flexible model architectures, freezing layers, data processing pipeline and sequence modelling.\n",
        "\n",
        "This project is peer-assessed. Within this notebook you will find instructions in each section for how to complete the project. Pay close attention to the instructions as the peer review will be carried out according to a grading rubric that checks key parts of the project instructions. Feel free to add extra cells into the notebook as required.\n",
        "\n",
        "### How to submit\n",
        "\n",
        "When you have completed the Capstone project notebook, you will submit a pdf of the notebook for peer review. First ensure that the notebook has been fully executed from beginning to end, and all of the cell outputs are visible. This is important, as the grading rubric depends on the reviewer being able to view the outputs of your notebook. Save the notebook as a pdf (you could download the notebook with File -> Download .ipynb, open the notebook locally, and then File -> Download as -> PDF via LaTeX), and then submit this pdf for review.\n",
        "\n",
        "### Let's get started!\n",
        "\n",
        "We'll start by running some imports, and loading the dataset. For this project you are free to make further imports throughout the notebook as you wish. "
      ]
    },
    {
      "cell_type": "code",
      "metadata": {
        "id": "2VyTvxPN1iZn"
      },
      "source": [
        "import tensorflow as tf\n",
        "import tensorflow_hub as hub\n",
        "import unicodedata\n",
        "import re\n",
        "import os\n",
        "import numpy as np\n",
        "import matplotlib.pyplot as plt\n",
        "%matplotlib inline\n",
        "\n",
        "from tensorflow.keras.preprocessing.text import Tokenizer\n",
        "from tensorflow.keras.preprocessing.sequence import pad_sequences\n",
        "from sklearn.model_selection import train_test_split\n",
        "from tensorflow.keras.layers import Layer, Input, Masking, LSTM, \\\n",
        "    Embedding, Dense\n",
        "from tensorflow.keras.models import Model\n",
        "from tensorflow.keras.utils import plot_model\n",
        "from tensorflow.keras.losses import SparseCategoricalCrossentropy\n",
        "from tensorflow.keras.optimizers import Adam\n",
        "from tensorflow.keras.metrics import Mean"
      ],
      "execution_count": 1,
      "outputs": []
    },
    {
      "cell_type": "markdown",
      "metadata": {
        "id": "wuIi4lAR1iZt"
      },
      "source": [
        "![Flags overview image](https://github.com/MengOonLee/Deep_learning/blob/master/TensorFlow2/Tutorial/image/neural_translation/germany_uk_flags.png?raw=1)\n",
        "\n",
        "For the capstone project, you will use a language dataset from http://www.manythings.org/anki/ to build a neural translation model. This dataset consists of over 200,000 pairs of sentences in English and German. In order to make the training quicker, we will restrict to our dataset to 20,000 pairs. Feel free to change this if you wish - the size of the dataset used is not part of the grading rubric.\n",
        "\n",
        "Your goal is to develop a neural translation model from English to German, making use of a pre-trained English word embedding module."
      ]
    },
    {
      "cell_type": "markdown",
      "metadata": {
        "id": "pi9Dq6vv3FVO"
      },
      "source": [
        "#### Import the data\n",
        "\n",
        "The dataset is available for download as a zip file at the following link:\n",
        "\n",
        "https://drive.google.com/open?id=1KczOciG7sYY7SB9UlBeRP1T9659b121Q\n",
        "\n",
        "You should store the unzipped folder in local drive for use in this Colab notebook."
      ]
    },
    {
      "cell_type": "code",
      "metadata": {
        "id": "Nw99tEEQ3bKL"
      },
      "source": [
        "if not os.path.exists(\"./data\"):\n",
        "    os.makedirs(\"./data\")"
      ],
      "execution_count": 2,
      "outputs": []
    },
    {
      "cell_type": "code",
      "metadata": {
        "colab": {
          "base_uri": "https://localhost:8080/"
        },
        "id": "MAfYIl-cERc_",
        "outputId": "84b1d069-0c7c-4dbd-a6db-b8eb39ccee1e"
      },
      "source": [
        "%%bash\n",
        "\n",
        "fileid=\"1KczOciG7sYY7SB9UlBeRP1T9659b121Q\"\n",
        "filename=\"./data/deu.txt\"\n",
        "curl -c ./cookie -s -L \"https://drive.google.com/uc?export=download&id=${fileid}\" > /dev/null\n",
        "curl -Lb ./cookie \"https://drive.google.com/uc?export=download&confirm=`awk '/download/ {print $NF}' ./cookie`&id=${fileid}\" -o ${filename}"
      ],
      "execution_count": 3,
      "outputs": [
        {
          "output_type": "stream",
          "text": [
            "  % Total    % Received % Xferd  Average Speed   Time    Time     Time  Current\n",
            "                                 Dload  Upload   Total   Spent    Left  Speed\n",
            "\r  0     0    0     0    0     0      0      0 --:--:-- --:--:-- --:--:--     0\r  0     0    0     0    0     0      0      0 --:--:--  0:00:01 --:--:--     0\r100   408    0   408    0     0    333      0 --:--:--  0:00:01 --:--:--   333\r100   408    0   408    0     0    333      0 --:--:--  0:00:01 --:--:--   333\n",
            "\r  0     0    0     0    0     0      0      0 --:--:--  0:00:01 --:--:--     0\n",
            "\r  0     0    0     0    0     0      0      0 --:--:--  0:00:01 --:--:--     0\n",
            "\r100 29.9M    0 29.9M    0     0  16.9M      0 --:--:--  0:00:01 --:--:-- 16.9M\n"
          ],
          "name": "stderr"
        }
      ]
    },
    {
      "cell_type": "code",
      "metadata": {
        "id": "o8PetPpw1iZu"
      },
      "source": [
        "# Run this cell to load the dataset\n",
        "\n",
        "NUM_EXAMPLES = 20000\n",
        "data_examples = []\n",
        "with open('data/deu.txt', 'r', encoding='utf8') as f:\n",
        "    for line in f.readlines():\n",
        "        if len(data_examples) < NUM_EXAMPLES:\n",
        "            data_examples.append(line)\n",
        "        else:\n",
        "            break"
      ],
      "execution_count": 4,
      "outputs": []
    },
    {
      "cell_type": "code",
      "metadata": {
        "id": "JumLjJ631iZy"
      },
      "source": [
        "# These functions preprocess English and German sentences\n",
        "\n",
        "def unicode_to_ascii(s):\n",
        "    return ''.join(c for c in unicodedata.normalize('NFD', s) \n",
        "        if unicodedata.category(c) != 'Mn')\n",
        "\n",
        "def preprocess_sentence(sentence):\n",
        "    sentence = sentence.lower().strip()\n",
        "    sentence = re.sub(r\"ü\", 'ue', sentence)\n",
        "    sentence = re.sub(r\"ä\", 'ae', sentence)\n",
        "    sentence = re.sub(r\"ö\", 'oe', sentence)\n",
        "    sentence = re.sub(r'ß', 'ss', sentence)\n",
        "    \n",
        "    sentence = unicode_to_ascii(sentence)\n",
        "    sentence = re.sub(r\"([?.!,])\", r\" \\1 \", sentence)\n",
        "    sentence = re.sub(r\"[^a-z?.!,']+\", \" \", sentence)\n",
        "    sentence = re.sub(r'[\" \"]+', \" \", sentence)\n",
        "    \n",
        "    return sentence.strip()"
      ],
      "execution_count": 5,
      "outputs": []
    },
    {
      "cell_type": "markdown",
      "metadata": {
        "id": "XFJap-TW1iZ2"
      },
      "source": [
        "#### The custom translation model\n",
        "The following is a schematic of the custom translation model architecture you will develop in this project.\n",
        "\n",
        "![Model Schematic](https://github.com/MengOonLee/Deep_learning/blob/master/TensorFlow2/Tutorial/image/neural_translation/neural_translation_model.png?raw=1)\n",
        "\n",
        "Key:\n",
        "![Model key](https://github.com/MengOonLee/Deep_learning/blob/master/TensorFlow2/Tutorial/image/neural_translation/neural_translation_model_key.png?raw=1)\n",
        "\n",
        "The custom model consists of an encoder RNN and a decoder RNN. The encoder takes words of an English sentence as input, and uses a pre-trained word embedding to embed the words into a 128-dimensional space. To indicate the end of the input sentence, a special end token (in the same 128-dimensional space) is passed in as an input. This token is a TensorFlow Variable that is learned in the training phase (unlike the pre-trained word embedding, which is frozen).\n",
        "\n",
        "The decoder RNN takes the internal state of the encoder network as its initial state. A `<start>` token is passed in as the first input, which is embedded using a learned German word embedding. The decoder RNN then makes a prediction for the next German word, which during inference is then passed in as the following input, and this process is repeated until the special `<end>` token is emitted from the decoder."
      ]
    },
    {
      "cell_type": "markdown",
      "metadata": {
        "id": "z70nu6_01iZ3"
      },
      "source": [
        "## 1. Text preprocessing\n",
        "* Create separate lists of English and German sentences, and preprocess them using the `preprocess_sentence` function provided for you above.\n",
        "* Add a special `\"<start>\"` and `\"<end>\"` token to the beginning and end of every German sentence.\n",
        "* Use the Tokenizer class from the `tf.keras.preprocessing.text` module to tokenize the German sentences, ensuring that no character filters are applied. _Hint: use the Tokenizer's \"filter\" keyword argument._\n",
        "* Print out at least 5 randomly chosen examples of (preprocessed) English and German sentence pairs. For the German sentence, print out the text (with start and end tokens) as well as the tokenized sequence.\n",
        "* Pad the end of the tokenized German sequences with zeros, and batch the complete set of sequences into one numpy array."
      ]
    },
    {
      "cell_type": "code",
      "metadata": {
        "scrolled": true,
        "id": "9G20C4bk1iZ4",
        "colab": {
          "base_uri": "https://localhost:8080/"
        },
        "outputId": "bcee73ff-24c9-4cbe-af3c-065b9b54d4f6"
      },
      "source": [
        "def create_sentence(data):\n",
        "    \"\"\"\n",
        "    Clean the input and return sentence pairs.\n",
        "    \"\"\"\n",
        "    sentence_pairs = [[preprocess_sentence(w) for w in l.split('\\t')][:2] \n",
        "        for l in data]\n",
        "    return zip(*sentence_pairs)\n",
        "\n",
        "# get pairs\n",
        "en_sentence, ge_sentence = create_sentence(data_examples)\n",
        "# show last 5 pairs\n",
        "for pair in zip(en_sentence[-5:], ge_sentence[-5:]):\n",
        "    print(pair)"
      ],
      "execution_count": 6,
      "outputs": [
        {
          "output_type": "stream",
          "text": [
            "(\"i've been working .\", 'ich war arbeiten .')\n",
            "(\"i've bought a car .\", 'ich habe ein auto gekauft .')\n",
            "(\"i've come for tom .\", 'ich bin fuer tom gekommen .')\n",
            "(\"i've done nothing .\", 'ich habe nichts getan .')\n",
            "(\"i've eaten enough .\", 'ich habe genug gegessen .')\n"
          ],
          "name": "stdout"
        }
      ]
    },
    {
      "cell_type": "code",
      "metadata": {
        "id": "DhdUE_5ukdjv",
        "colab": {
          "base_uri": "https://localhost:8080/"
        },
        "outputId": "f062f884-3450-43d8-8fbf-69f3b48463a3"
      },
      "source": [
        "def add_start_end(sentences):\n",
        "    \"\"\"\n",
        "    Adding a start and end token to the sentence so that the\n",
        "    model know when to start and stop predicting.\n",
        "    \"\"\"\n",
        "    return [\"<start> \" + s + \" <end>\" for s in sentences]\n",
        "\n",
        "ge_sentence = add_start_end(ge_sentence)\n",
        "ge_sentence[-5:]"
      ],
      "execution_count": 7,
      "outputs": [
        {
          "output_type": "execute_result",
          "data": {
            "text/plain": [
              "['<start> ich war arbeiten . <end>',\n",
              " '<start> ich habe ein auto gekauft . <end>',\n",
              " '<start> ich bin fuer tom gekommen . <end>',\n",
              " '<start> ich habe nichts getan . <end>',\n",
              " '<start> ich habe genug gegessen . <end>']"
            ]
          },
          "metadata": {
            "tags": []
          },
          "execution_count": 7
        }
      ]
    },
    {
      "cell_type": "code",
      "metadata": {
        "id": "5UlnBdIK1iaE",
        "colab": {
          "base_uri": "https://localhost:8080/"
        },
        "outputId": "052e8fc2-af86-426f-f068-5d595254c8ae"
      },
      "source": [
        "def create_tokenizer(sentences):\n",
        "    \"\"\"\n",
        "    Create and return a Tokenizer.\n",
        "    \"\"\"\n",
        "    tokenizer = Tokenizer(filters='')\n",
        "    tokenizer.fit_on_texts(sentences)\n",
        "    return tokenizer\n",
        "\n",
        "# Build the German tokenizer vocabulary\n",
        "ge_tokenizer = create_tokenizer(ge_sentence)\n",
        "# Tokenize the German sentences\n",
        "ge_sequence = ge_tokenizer.texts_to_sequences(ge_sentence)\n",
        "ge_sequence[-5:]"
      ],
      "execution_count": 8,
      "outputs": [
        {
          "output_type": "execute_result",
          "data": {
            "text/plain": [
              "[[1, 4, 24, 252, 3, 2],\n",
              " [1, 4, 18, 19, 82, 280, 3, 2],\n",
              " [1, 4, 15, 77, 5, 276, 3, 2],\n",
              " [1, 4, 18, 108, 182, 3, 2],\n",
              " [1, 4, 18, 480, 217, 3, 2]]"
            ]
          },
          "metadata": {
            "tags": []
          },
          "execution_count": 8
        }
      ]
    },
    {
      "cell_type": "code",
      "metadata": {
        "id": "ZGTaqt1t1iaI",
        "colab": {
          "base_uri": "https://localhost:8080/"
        },
        "outputId": "3288befa-bf53-4fe2-a2d8-ba1546cf4792"
      },
      "source": [
        "# Randomly select 5 examples of English and German sentence pairs\n",
        "inx = np.random.choice(len(en_sentence), 5, replace=False)\n",
        "\n",
        "for n, i in enumerate(inx):\n",
        "    print(n, en_sentence[i])\n",
        "    print(n, ge_sentence[i], ge_sequence[i])"
      ],
      "execution_count": 9,
      "outputs": [
        {
          "output_type": "stream",
          "text": [
            "0 i love cake .\n",
            "0 <start> ich liebe kuchen . <end> [1, 4, 61, 828, 3, 2]\n",
            "1 i'm really fast .\n",
            "1 <start> ich bin sehr schnell . <end> [1, 4, 15, 56, 127, 3, 2]\n",
            "2 i'm not guilty .\n",
            "2 <start> ich bin nicht schuldig . <end> [1, 4, 15, 12, 564, 3, 2]\n",
            "3 keep paddling .\n",
            "3 <start> paddel weiter ! <end> [1, 3650, 126, 9, 2]\n",
            "4 do what you like .\n",
            "4 <start> tu , was dir beliebt . <end> [1, 266, 25, 38, 52, 831, 3, 2]\n"
          ],
          "name": "stdout"
        }
      ]
    },
    {
      "cell_type": "code",
      "metadata": {
        "id": "m3-tjXZn6_RN",
        "colab": {
          "base_uri": "https://localhost:8080/"
        },
        "outputId": "f5fe0fc5-98f5-4a5c-9bb7-af5e0fe55e2e"
      },
      "source": [
        "def post_pad(sequences):\n",
        "    \"\"\"\n",
        "    Pad each sequence to a maximum length.\n",
        "    \"\"\"\n",
        "    return pad_sequences(sequences, padding='post')\n",
        "\n",
        "ge_padded = post_pad(ge_sequence)\n",
        "ge_padded[-5:]"
      ],
      "execution_count": 10,
      "outputs": [
        {
          "output_type": "execute_result",
          "data": {
            "text/plain": [
              "array([[  1,   4,  24, 252,   3,   2,   0,   0,   0,   0,   0,   0,   0,\n",
              "          0],\n",
              "       [  1,   4,  18,  19,  82, 280,   3,   2,   0,   0,   0,   0,   0,\n",
              "          0],\n",
              "       [  1,   4,  15,  77,   5, 276,   3,   2,   0,   0,   0,   0,   0,\n",
              "          0],\n",
              "       [  1,   4,  18, 108, 182,   3,   2,   0,   0,   0,   0,   0,   0,\n",
              "          0],\n",
              "       [  1,   4,  18, 480, 217,   3,   2,   0,   0,   0,   0,   0,   0,\n",
              "          0]], dtype=int32)"
            ]
          },
          "metadata": {
            "tags": []
          },
          "execution_count": 10
        }
      ]
    },
    {
      "cell_type": "markdown",
      "metadata": {
        "id": "foL7Ihs21iaP"
      },
      "source": [
        "## 2. Prepare the data with tf.data.Dataset objects"
      ]
    },
    {
      "cell_type": "markdown",
      "metadata": {
        "id": "-9rCEE4z1iaQ"
      },
      "source": [
        "#### Load the embedding layer\n",
        "As part of the dataset preproceessing for this project, you will use a pre-trained English word embedding module from TensorFlow Hub. The URL for the module is https://tfhub.dev/google/tf2-preview/nnlm-en-dim128-with-normalization/1.\n",
        "\n",
        "This embedding takes a batch of text tokens in a 1-D tensor of strings as input. It then embeds the separate tokens into a 128-dimensional space. \n",
        "\n",
        "The code to load and test the embedding layer is provided for you below.\n",
        "\n",
        "**NB:** This model can also be used as a sentence embedding module. The module will process each token by removing punctuation and splitting on spaces. It then averages the word embeddings over a sentence to give a single embedding vector. However, we will use it only as a word embedding module, and will pass each word in the input sentence as a separate token."
      ]
    },
    {
      "cell_type": "code",
      "metadata": {
        "id": "ywZgobCh1iaR"
      },
      "source": [
        "# Load embedding module from Tensorflow Hub\n",
        "embedding_layer = hub.KerasLayer(\"https://tfhub.dev/google/tf2-preview/nnlm-en-dim128/1\", \n",
        "    output_shape=(128), input_shape=(), dtype=tf.string)"
      ],
      "execution_count": 11,
      "outputs": []
    },
    {
      "cell_type": "code",
      "metadata": {
        "id": "TiY8QEDp1iaV",
        "colab": {
          "base_uri": "https://localhost:8080/"
        },
        "outputId": "2ade8a60-3340-43ef-b00e-d86a25ec4bb9"
      },
      "source": [
        "# Test the layer\n",
        "\n",
        "embedding_layer(tf.constant([\"these\", \"aren't\", \"the\", \"droids\", \"you're\", \"looking\", \"for\"])).shape"
      ],
      "execution_count": 12,
      "outputs": [
        {
          "output_type": "execute_result",
          "data": {
            "text/plain": [
              "TensorShape([7, 128])"
            ]
          },
          "metadata": {
            "tags": []
          },
          "execution_count": 12
        }
      ]
    },
    {
      "cell_type": "markdown",
      "metadata": {
        "id": "KjuzXc-z1iaY"
      },
      "source": [
        "You should now prepare the training and validation Datasets.\n",
        "\n",
        "* Create a random training and validation set split of the data, reserving e.g. 20% of the data for validation (NB: each English dataset example is a single sentence string, and each German dataset example is a sequence of padded integer tokens).\n",
        "* Load the training and validation sets into a tf.data.Dataset object, passing in a tuple of English and German data for both training and validation sets.\n",
        "* Create a function to map over the datasets that splits each English sentence at spaces. Apply this function to both Dataset objects using the map method. _Hint: look at the tf.strings.split function._\n",
        "* Create a function to map over the datasets that embeds each sequence of English words using the loaded embedding layer/model. Apply this function to both Dataset objects using the map method.\n",
        "* Create a function to filter out dataset examples where the English sentence is greater than or equal to than 13 (embedded) tokens in length. Apply this function to both Dataset objects using the filter method.\n",
        "* Create a function to map over the datasets that pads each English sequence of embeddings with some distinct padding value before the sequence, so that each sequence is length 13. Apply this function to both Dataset objects using the map method. _Hint: look at the tf.pad function. You can extract a Tensor shape using tf.shape; you might also find the tf.math.maximum function useful._\n",
        "* Batch both training and validation Datasets with a batch size of 16.\n",
        "* Print the `element_spec` property for the training and validation Datasets. \n",
        "* Using the Dataset `.take(1)` method, print the shape of the English data example from the training Dataset.\n",
        "* Using the Dataset `.take(1)` method, print the German data example Tensor from the validation Dataset."
      ]
    },
    {
      "cell_type": "code",
      "metadata": {
        "id": "Q-BUJOl_1iaZ",
        "colab": {
          "base_uri": "https://localhost:8080/"
        },
        "outputId": "fb43e0e4-0f29-4f10-9104-c63fb6a0a498"
      },
      "source": [
        "# Create a random training and validation sets using an 80-20 split\n",
        "en_train, en_valid, ge_train, ge_valid = train_test_split(\n",
        "    en_sentence, ge_padded, test_size=0.2)\n",
        "\n",
        "# Examine the shape of data\n",
        "print(\"The shape of training dataset:\")\n",
        "print(f\"English: {np.array(en_train).shape} \\t German: {ge_train.shape}\")\n",
        "print(\"The shape of validation dataset:\")\n",
        "print(f\"English: {np.array(en_valid).shape} \\t German: {ge_valid.shape}\")\n"
      ],
      "execution_count": 13,
      "outputs": [
        {
          "output_type": "stream",
          "text": [
            "The shape of training dataset:\n",
            "English: (16000,) \t German: (16000, 14)\n",
            "The shape of validation dataset:\n",
            "English: (4000,) \t German: (4000, 14)\n"
          ],
          "name": "stdout"
        }
      ]
    },
    {
      "cell_type": "code",
      "metadata": {
        "id": "4w6rM8Bl1iad",
        "colab": {
          "base_uri": "https://localhost:8080/"
        },
        "outputId": "9936ad92-5f1e-4e76-944c-ed3f724e6b0f"
      },
      "source": [
        "def create_dataset(input, target):\n",
        "    \"\"\"\n",
        "    Takes an input language, and a corresponding target language \n",
        "    to create a tf.data.Dataset object with these input and target.\n",
        "    \"\"\"\n",
        "    return tf.data.Dataset.from_tensor_slices((input, target))\n",
        "\n",
        "# Create Dataset object for both training and vailidation sets\n",
        "train_dataset = create_dataset(en_train, ge_train)\n",
        "valid_dataset = create_dataset(en_valid, ge_valid)\n",
        "\n",
        "# # Print the first 5 elements of the Dataset\n",
        "for elem in iter(train_dataset.take(5)):\n",
        "    print(elem[0].numpy(), elem[1].numpy())"
      ],
      "execution_count": 14,
      "outputs": [
        {
          "output_type": "stream",
          "text": [
            "b'read the article .' [   1  677   53 3076    9    2    0    0    0    0    0    0    0    0]\n",
            "b\"i'm doing ok .\" [   1   21   59   10 3429   49    3    2    0    0    0    0    0    0]\n",
            "b\"they're crazy .\" [  1  26  35   8  12 144  78   9   2   0   0   0   0   0]\n",
            "b'black suits you .' [  1 505 287  52  49   3   2   0   0   0   0   0   0   0]\n",
            "b\"you're not alone .\" [  1  13  32  12 524   3   2   0   0   0   0   0   0   0]\n"
          ],
          "name": "stdout"
        }
      ]
    },
    {
      "cell_type": "code",
      "metadata": {
        "id": "D7bn3mRs1iaj",
        "colab": {
          "base_uri": "https://localhost:8080/"
        },
        "outputId": "a2fb8d6c-26e7-4e6d-f9e8-2792347605ba"
      },
      "source": [
        "def map_split(x, _):\n",
        "    \"\"\"\n",
        "    Splits each English sentence at spaces.\n",
        "    \"\"\"\n",
        "    return (tf.strings.split(x, sep=' '), _)\n",
        "\n",
        "# Map the function over the both Dataset objects. \n",
        "train_dataset = train_dataset.map(map_split)\n",
        "valid_dataset = valid_dataset.map(map_split)\n",
        "\n",
        "# # Print the first 5 elements of the Dataset\n",
        "for elem in iter(train_dataset.take(5)):\n",
        "    print(elem[0].numpy(), elem[1].numpy())"
      ],
      "execution_count": 15,
      "outputs": [
        {
          "output_type": "stream",
          "text": [
            "[b'read' b'the' b'article' b'.'] [   1  677   53 3076    9    2    0    0    0    0    0    0    0    0]\n",
            "[b\"i'm\" b'doing' b'ok' b'.'] [   1   21   59   10 3429   49    3    2    0    0    0    0    0    0]\n",
            "[b\"they're\" b'crazy' b'.'] [  1  26  35   8  12 144  78   9   2   0   0   0   0   0]\n",
            "[b'black' b'suits' b'you' b'.'] [  1 505 287  52  49   3   2   0   0   0   0   0   0   0]\n",
            "[b\"you're\" b'not' b'alone' b'.'] [  1  13  32  12 524   3   2   0   0   0   0   0   0   0]\n"
          ],
          "name": "stdout"
        }
      ]
    },
    {
      "cell_type": "code",
      "metadata": {
        "id": "q0Fdso381ian",
        "colab": {
          "base_uri": "https://localhost:8080/"
        },
        "outputId": "27db5e73-df8e-407f-8d2a-cbe1854c5637"
      },
      "source": [
        "def map_embed(x, _):\n",
        "    \"\"\"\n",
        "    Embeds each sequence of English words using the loaded embedding layer.\n",
        "    \"\"\"\n",
        "    return (embedding_layer(x), _)\n",
        "\n",
        "# Map the function over the both Dataset objects. \n",
        "train_dataset = train_dataset.map(map_embed)\n",
        "valid_dataset = valid_dataset.map(map_embed)\n",
        "\n",
        "# Print the element_spec property for both Datasets\n",
        "print(\"The training Dataset's element_spec property:\")\n",
        "print(train_dataset.element_spec)\n",
        "print(\"The validation Dataset's element_spec property:\")\n",
        "print(valid_dataset.element_spec)"
      ],
      "execution_count": 16,
      "outputs": [
        {
          "output_type": "stream",
          "text": [
            "The training Dataset's element_spec property:\n",
            "(TensorSpec(shape=(None, 128), dtype=tf.float32, name=None), TensorSpec(shape=(14,), dtype=tf.int32, name=None))\n",
            "The validation Dataset's element_spec property:\n",
            "(TensorSpec(shape=(None, 128), dtype=tf.float32, name=None), TensorSpec(shape=(14,), dtype=tf.int32, name=None))\n"
          ],
          "name": "stdout"
        }
      ]
    },
    {
      "cell_type": "code",
      "metadata": {
        "id": "bGqlxuqZ1ias",
        "colab": {
          "base_uri": "https://localhost:8080/"
        },
        "outputId": "5c797e8f-de8e-481d-e3ba-71f45e4988a2"
      },
      "source": [
        "def filter_length(x, _):\n",
        "    \"\"\"\n",
        "    Filter out dataset examples where the English sentence is \n",
        "    greater than or equal to 13 (embedded) tokens in length.\n",
        "    \"\"\"\n",
        "    return len(x)<13\n",
        "\n",
        "# Filter over the both Dataset objects.\n",
        "train_dataset = train_dataset.filter(filter_length)\n",
        "valid_dataset = valid_dataset.filter(filter_length)\n",
        "\n",
        "# Print the element_spec property for both Datasets\n",
        "print(\"The training Dataset's element_spec property:\")\n",
        "print(train_dataset.element_spec)\n",
        "print(\"The validation Dataset's element_spec property:\")\n",
        "print(valid_dataset.element_spec)"
      ],
      "execution_count": 17,
      "outputs": [
        {
          "output_type": "stream",
          "text": [
            "The training Dataset's element_spec property:\n",
            "(TensorSpec(shape=(None, 128), dtype=tf.float32, name=None), TensorSpec(shape=(14,), dtype=tf.int32, name=None))\n",
            "The validation Dataset's element_spec property:\n",
            "(TensorSpec(shape=(None, 128), dtype=tf.float32, name=None), TensorSpec(shape=(14,), dtype=tf.int32, name=None))\n"
          ],
          "name": "stdout"
        }
      ]
    },
    {
      "cell_type": "code",
      "metadata": {
        "id": "-3Zlr2M0BBhH",
        "colab": {
          "base_uri": "https://localhost:8080/"
        },
        "outputId": "acaa6c5f-9eda-4e0a-b742-ec8463f30084"
      },
      "source": [
        "def map_pad_embedding(x, _):\n",
        "    \"\"\"\n",
        "    Pads each English sequence of embeddings with some distinct\n",
        "    padding value before the sequence, so that each sequence is\n",
        "    length 13.\n",
        "    \"\"\"\n",
        "    pad_size = tf.math.maximum(0, 13 - tf.shape(x)[0])\n",
        "    paddings = tf.concat(([[pad_size, 0]], [[0, 0]]), axis=0)\n",
        "    padded = tf.pad(x, paddings, \"CONSTANT\")\n",
        "    return (tf.reshape(padded, (13, 128)), _)\n",
        "\n",
        "# Map the function over the both Dataset objects. \n",
        "train_dataset = train_dataset.map(map_pad_embedding)\n",
        "valid_dataset = valid_dataset.map(map_pad_embedding)\n",
        "\n",
        "# Print the element_spec property for both Datasets\n",
        "print(\"The training Dataset's element_spec property:\")\n",
        "print(train_dataset.element_spec)\n",
        "print(\"The validation Dataset's element_spec property:\")\n",
        "print(valid_dataset.element_spec)"
      ],
      "execution_count": 18,
      "outputs": [
        {
          "output_type": "stream",
          "text": [
            "The training Dataset's element_spec property:\n",
            "(TensorSpec(shape=(13, 128), dtype=tf.float32, name=None), TensorSpec(shape=(14,), dtype=tf.int32, name=None))\n",
            "The validation Dataset's element_spec property:\n",
            "(TensorSpec(shape=(13, 128), dtype=tf.float32, name=None), TensorSpec(shape=(14,), dtype=tf.int32, name=None))\n"
          ],
          "name": "stdout"
        }
      ]
    },
    {
      "cell_type": "code",
      "metadata": {
        "id": "tMslwlMYhNKW",
        "colab": {
          "base_uri": "https://localhost:8080/"
        },
        "outputId": "a6f569e1-42b2-4b19-d9f1-5b8f415fc743"
      },
      "source": [
        "def create_batch(dataset, batch_size):\n",
        "  \"\"\"\n",
        "  Batch the dataset using the batch_size argument, \n",
        "  setting drop_remainder to True.\n",
        "  \"\"\"\n",
        "  return dataset.batch(batch_size, drop_remainder=True)\n",
        "\n",
        "# Batch the both Datasets with a batch size of 16.\n",
        "train_dataset = create_batch(train_dataset, 16)\n",
        "valid_dataset = create_batch(valid_dataset, 16)\n",
        "\n",
        "# Print the element_spec property for both Datasets\n",
        "print(\"The training Dataset's element_spec property:\")\n",
        "print(train_dataset.element_spec)\n",
        "print(\"The validation Dataset's element_spec property:\")\n",
        "print(valid_dataset.element_spec)"
      ],
      "execution_count": 19,
      "outputs": [
        {
          "output_type": "stream",
          "text": [
            "The training Dataset's element_spec property:\n",
            "(TensorSpec(shape=(16, 13, 128), dtype=tf.float32, name=None), TensorSpec(shape=(16, 14), dtype=tf.int32, name=None))\n",
            "The validation Dataset's element_spec property:\n",
            "(TensorSpec(shape=(16, 13, 128), dtype=tf.float32, name=None), TensorSpec(shape=(16, 14), dtype=tf.int32, name=None))\n"
          ],
          "name": "stdout"
        }
      ]
    },
    {
      "cell_type": "code",
      "metadata": {
        "id": "CwSocw5QhA9p",
        "colab": {
          "base_uri": "https://localhost:8080/"
        },
        "outputId": "b83aa1d9-82cb-4bb3-d861-159dc641dd6f"
      },
      "source": [
        "# Print the shape of the English data example from the training Dataset\n",
        "en_train_batch, _ = next(iter(train_dataset.take(1)))\n",
        "print(\"The shape of English data example from the training Dataset:\", \n",
        "    en_train_batch.shape)\n",
        "\n",
        "# Print the German data example Tensor from the validation Dataset\n",
        "_, ge_valid_batch = next(iter(valid_dataset.take(1)))\n",
        "print(\"The German data example Tensor from the validation Dataset:\\n\", \n",
        "    ge_valid_batch.numpy())"
      ],
      "execution_count": 20,
      "outputs": [
        {
          "output_type": "stream",
          "text": [
            "The shape of English data example from the training Dataset: (16, 13, 128)\n",
            "The German data example Tensor from the validation Dataset:\n",
            " [[   1    4  213   22   56 2575    3    2    0    0    0    0    0    0]\n",
            " [   1   30    8  112   92    7    2    0    0    0    0    0    0    0]\n",
            " [   1  673  334  780    9    2    0    0    0    0    0    0    0    0]\n",
            " [   1  134    4   21   11 5431    7    2    0    0    0    0    0    0]\n",
            " [   1    5  241  125    3    2    0    0    0    0    0    0    0    0]\n",
            " [   1    5   16 2084    3    2    0    0    0    0    0    0    0    0]\n",
            " [   1    5   16   34 4499    3    2    0    0    0    0    0    0    0]\n",
            " [   1    5   48  108  698   35    3    2    0    0    0    0    0    0]\n",
            " [   1    5 1824   65  814    3    2    0    0    0    0    0    0    0]\n",
            " [   1    5  308   65    3    2    0    0    0    0    0    0    0    0]\n",
            " [   1    8 3090   22    3    2    0    0    0    0    0    0    0    0]\n",
            " [   1 5460    7    2    0    0    0    0    0    0    0    0    0    0]\n",
            " [   1    4  180  824    3    2    0    0    0    0    0    0    0    0]\n",
            " [   1 1080  106 3971    3    2    0    0    0    0    0    0    0    0]\n",
            " [   1 1298    4  392  644    7    2    0    0    0    0    0    0    0]\n",
            " [   1    5 2920   34   12    3    2    0    0    0    0    0    0    0]]\n"
          ],
          "name": "stdout"
        }
      ]
    },
    {
      "cell_type": "markdown",
      "metadata": {
        "id": "isIYhjq01iay"
      },
      "source": [
        "## 3. Create the custom layer\n",
        "You will now create a custom layer to add the learned end token embedding to the encoder model:\n",
        "\n",
        "![Encoder schematic](https://github.com/MengOonLee/Deep_learning/blob/master/TensorFlow2/Tutorial/image/neural_translation/neural_translation_model_encoder.png?raw=1)"
      ]
    },
    {
      "cell_type": "markdown",
      "metadata": {
        "id": "M6gLIHG81iaz"
      },
      "source": [
        "You should now build the custom layer.\n",
        "* Using layer subclassing, create a custom layer that takes a batch of English data examples from one of the Datasets, and adds a learned embedded ‘end’ token to the end of each sequence. \n",
        "* This layer should create a TensorFlow Variable (that will be learned during training) that is 128-dimensional (the size of the embedding space). _Hint: you may find it helpful in the call method to use the tf.tile function to replicate the end token embedding across every element in the batch._\n",
        "* Using the Dataset `.take(1)` method, extract a batch of English data examples from the training Dataset and print the shape. Test the custom layer by calling the layer on the English data batch Tensor and print the resulting Tensor shape (the layer should increase the sequence length by one)."
      ]
    },
    {
      "cell_type": "code",
      "metadata": {
        "id": "avionZuFghj8",
        "colab": {
          "base_uri": "https://localhost:8080/"
        },
        "outputId": "f7f2ecb6-cca7-49d7-99dc-81c5f4fad100"
      },
      "source": [
        "# Create a custom layer to add a learned end token embedding \n",
        "# to the encoder model using Layer subclassing API \n",
        "# according to the above specification.\n",
        "\n",
        "class EndToken(Layer):\n",
        "    \"\"\"\n",
        "    Takes a batch of English data examples from Datasets, and adds \n",
        "    a learned embedded 'end' token to the end of each sequence.\n",
        "    \"\"\"\n",
        "    def __init__(self, **kwargs):\n",
        "        super(EndToken, self).__init__(**kwargs)\n",
        "        \n",
        "    def build(self, input_shape):\n",
        "        self.end_var = self.add_weight(shape=(input_shape[-1],), \n",
        "            initializer=\"random_normal\", name=\"end\")\n",
        "        # self.end_token = tf.tile(self.end_var, (input_shape[0], 1))\n",
        "\n",
        "    def call(self, inputs):\n",
        "        return self.end_var\n",
        "        # return tf.concat([inputs, self.end_token], axis=1)\n",
        "\n",
        "# Instantiate the custom layer object\n",
        "end_token = EndToken()\n",
        "end_token(en_train_batch)\n",
        "end_token.trainable_variables"
      ],
      "execution_count": 46,
      "outputs": [
        {
          "output_type": "execute_result",
          "data": {
            "text/plain": [
              "[<tf.Variable 'end_token_9/end:0' shape=(128,) dtype=float32, numpy=\n",
              " array([-4.22076173e-02,  2.62377802e-02, -2.49393079e-02, -5.87892942e-02,\n",
              "         4.06863913e-03,  6.80565462e-02, -1.32284939e-01, -6.91651776e-02,\n",
              "         1.00331707e-02, -5.53480946e-02,  1.75081994e-02,  5.31358086e-02,\n",
              "        -8.71938616e-02,  9.59187374e-03, -9.95273888e-02,  4.49895635e-02,\n",
              "         3.85218523e-02, -1.28584644e-02,  3.59058492e-02, -3.58383022e-02,\n",
              "        -5.62324002e-03,  6.71292767e-02,  1.00955777e-01, -9.73976031e-03,\n",
              "         1.64765790e-02,  5.14289029e-02,  6.91589341e-02, -5.68033941e-02,\n",
              "         2.17283261e-03, -5.25258295e-02,  2.23529171e-02, -2.36906111e-02,\n",
              "        -6.72826618e-02,  9.25394222e-02,  5.58651388e-02,  8.00540950e-03,\n",
              "         5.69629557e-02,  8.79428983e-02,  1.25540188e-02,  1.68147087e-02,\n",
              "        -7.35148266e-02,  3.30088213e-02, -3.78754847e-02, -7.99248070e-02,\n",
              "         4.02071849e-02, -8.28499570e-02, -1.11380359e-02,  4.60318588e-02,\n",
              "        -2.86451820e-03,  3.30726500e-03, -7.84756839e-02, -1.74477175e-02,\n",
              "        -2.22792663e-02,  8.95708799e-02, -3.19281816e-02,  6.02413975e-02,\n",
              "         2.88559143e-02, -1.34993587e-02,  1.71263646e-02,  6.24378286e-02,\n",
              "         1.28612937e-02,  1.02034509e-01, -3.81067470e-02,  1.16306022e-01,\n",
              "        -2.67834519e-03, -5.49507104e-02,  3.96050289e-02,  4.74164560e-02,\n",
              "        -4.64356281e-02,  2.70658676e-02,  2.07302477e-02,  4.99757640e-02,\n",
              "        -7.56081287e-03, -5.76177128e-02, -8.46331194e-02, -4.32938412e-02,\n",
              "         2.13838611e-02,  2.26318873e-02,  1.36465381e-03,  8.63485560e-02,\n",
              "         9.82061699e-02, -5.17597198e-02,  1.13442531e-02, -2.08828542e-02,\n",
              "        -5.74925244e-02,  2.98934337e-03, -3.97863379e-03,  7.58248493e-02,\n",
              "        -1.07641578e-01, -1.37660867e-02,  5.75756729e-02, -2.28347359e-04,\n",
              "        -1.11022346e-01,  1.79970022e-02,  5.91954105e-02, -2.97533418e-03,\n",
              "        -3.93011719e-02,  8.46366398e-04,  4.90648160e-03,  3.06340065e-02,\n",
              "         4.69970182e-02,  4.75793891e-02,  4.17816900e-02,  6.45112768e-02,\n",
              "        -8.16499591e-02,  4.38198773e-03, -3.02648749e-02,  2.50654109e-02,\n",
              "        -4.34939042e-02,  8.87611061e-02, -9.21842549e-03,  2.80408617e-02,\n",
              "         4.58162986e-02, -4.99299802e-02, -4.85888496e-03, -3.50225084e-02,\n",
              "         6.75487593e-02,  9.25059896e-03,  2.08274610e-02,  2.25170399e-03,\n",
              "         9.33203697e-02,  8.39788541e-02,  1.92327108e-02, -8.39698696e-05,\n",
              "        -6.95885494e-02,  1.05850426e-02,  1.12695746e-01, -2.20725313e-02],\n",
              "       dtype=float32)>]"
            ]
          },
          "metadata": {
            "tags": []
          },
          "execution_count": 46
        }
      ]
    },
    {
      "cell_type": "code",
      "metadata": {
        "id": "xm-vBbGh5Zar",
        "colab": {
          "base_uri": "https://localhost:8080/"
        },
        "outputId": "cc389c87-d78e-4dac-f55a-08daf1738cbb"
      },
      "source": [
        "# Extract a batch of English data examples from the training Dataset.\n",
        "en_train_batch, _ = next(iter(train_dataset.take(1)))\n",
        "# Print the shape before the custom layer\n",
        "print(\"English data batch Tensor shape before the custom end_token layer:\", \n",
        "    en_train_batch.shape)"
      ],
      "execution_count": 22,
      "outputs": [
        {
          "output_type": "stream",
          "text": [
            "English data batch Tensor shape before the custom end_token layer: (16, 13, 128)\n"
          ],
          "name": "stdout"
        }
      ]
    },
    {
      "cell_type": "code",
      "metadata": {
        "id": "ebjK8PmL1ia6",
        "colab": {
          "base_uri": "https://localhost:8080/",
          "height": 408
        },
        "outputId": "bbf117c6-a31a-4cf3-b914-ec6148d02a5a"
      },
      "source": [
        "# Test the custom layer on the English data batch Tensor \n",
        "# and print the resulting Tensor shape\n",
        "print(\"English data batch Tensor shape after the custom end_token layer:\", \n",
        "    end_token(en_train_batch).shape)\n",
        "\n",
        "# Print the number of trainable variables\n",
        "print('Number of trainable variables in the end_token layer:', \n",
        "    len(end_token.trainable_variables))"
      ],
      "execution_count": 37,
      "outputs": [
        {
          "output_type": "error",
          "ename": "ValueError",
          "evalue": "ignored",
          "traceback": [
            "\u001b[0;31m---------------------------------------------------------------------------\u001b[0m",
            "\u001b[0;31mValueError\u001b[0m                                Traceback (most recent call last)",
            "\u001b[0;32m<ipython-input-37-abe81e63acbe>\u001b[0m in \u001b[0;36m<module>\u001b[0;34m()\u001b[0m\n\u001b[1;32m      2\u001b[0m \u001b[0;31m# and print the resulting Tensor shape\u001b[0m\u001b[0;34m\u001b[0m\u001b[0;34m\u001b[0m\u001b[0;34m\u001b[0m\u001b[0m\n\u001b[1;32m      3\u001b[0m print(\"English data batch Tensor shape after the custom end_token layer:\", \n\u001b[0;32m----> 4\u001b[0;31m     end_token(en_train_batch).shape)\n\u001b[0m\u001b[1;32m      5\u001b[0m \u001b[0;34m\u001b[0m\u001b[0m\n\u001b[1;32m      6\u001b[0m \u001b[0;31m# Print the number of trainable variables\u001b[0m\u001b[0;34m\u001b[0m\u001b[0;34m\u001b[0m\u001b[0;34m\u001b[0m\u001b[0m\n",
            "\u001b[0;32m/usr/local/lib/python3.6/dist-packages/tensorflow/python/keras/engine/base_layer.py\u001b[0m in \u001b[0;36m__call__\u001b[0;34m(self, *args, **kwargs)\u001b[0m\n\u001b[1;32m   1006\u001b[0m       \u001b[0;32mwith\u001b[0m \u001b[0mops\u001b[0m\u001b[0;34m.\u001b[0m\u001b[0mname_scope_v2\u001b[0m\u001b[0;34m(\u001b[0m\u001b[0mname_scope\u001b[0m\u001b[0;34m)\u001b[0m\u001b[0;34m:\u001b[0m\u001b[0;34m\u001b[0m\u001b[0;34m\u001b[0m\u001b[0m\n\u001b[1;32m   1007\u001b[0m         \u001b[0;32mif\u001b[0m \u001b[0;32mnot\u001b[0m \u001b[0mself\u001b[0m\u001b[0;34m.\u001b[0m\u001b[0mbuilt\u001b[0m\u001b[0;34m:\u001b[0m\u001b[0;34m\u001b[0m\u001b[0;34m\u001b[0m\u001b[0m\n\u001b[0;32m-> 1008\u001b[0;31m           \u001b[0mself\u001b[0m\u001b[0;34m.\u001b[0m\u001b[0m_maybe_build\u001b[0m\u001b[0;34m(\u001b[0m\u001b[0minputs\u001b[0m\u001b[0;34m)\u001b[0m\u001b[0;34m\u001b[0m\u001b[0;34m\u001b[0m\u001b[0m\n\u001b[0m\u001b[1;32m   1009\u001b[0m \u001b[0;34m\u001b[0m\u001b[0m\n\u001b[1;32m   1010\u001b[0m         with autocast_variable.enable_auto_cast_variables(\n",
            "\u001b[0;32m/usr/local/lib/python3.6/dist-packages/tensorflow/python/keras/engine/base_layer.py\u001b[0m in \u001b[0;36m_maybe_build\u001b[0;34m(self, inputs)\u001b[0m\n\u001b[1;32m   2708\u001b[0m         \u001b[0;31m# operations.\u001b[0m\u001b[0;34m\u001b[0m\u001b[0;34m\u001b[0m\u001b[0;34m\u001b[0m\u001b[0m\n\u001b[1;32m   2709\u001b[0m         \u001b[0;32mwith\u001b[0m \u001b[0mtf_utils\u001b[0m\u001b[0;34m.\u001b[0m\u001b[0mmaybe_init_scope\u001b[0m\u001b[0;34m(\u001b[0m\u001b[0mself\u001b[0m\u001b[0;34m)\u001b[0m\u001b[0;34m:\u001b[0m\u001b[0;34m\u001b[0m\u001b[0;34m\u001b[0m\u001b[0m\n\u001b[0;32m-> 2710\u001b[0;31m           \u001b[0mself\u001b[0m\u001b[0;34m.\u001b[0m\u001b[0mbuild\u001b[0m\u001b[0;34m(\u001b[0m\u001b[0minput_shapes\u001b[0m\u001b[0;34m)\u001b[0m  \u001b[0;31m# pylint:disable=not-callable\u001b[0m\u001b[0;34m\u001b[0m\u001b[0;34m\u001b[0m\u001b[0m\n\u001b[0m\u001b[1;32m   2711\u001b[0m       \u001b[0;31m# We must set also ensure that the layer is marked as built, and the build\u001b[0m\u001b[0;34m\u001b[0m\u001b[0;34m\u001b[0m\u001b[0;34m\u001b[0m\u001b[0m\n\u001b[1;32m   2712\u001b[0m       \u001b[0;31m# shape is stored since user defined build functions may not be calling\u001b[0m\u001b[0;34m\u001b[0m\u001b[0;34m\u001b[0m\u001b[0;34m\u001b[0m\u001b[0m\n",
            "\u001b[0;32m<ipython-input-36-ccb2d97dda1b>\u001b[0m in \u001b[0;36mbuild\u001b[0;34m(self, input_shape)\u001b[0m\n\u001b[1;32m     13\u001b[0m     \u001b[0;32mdef\u001b[0m \u001b[0mbuild\u001b[0m\u001b[0;34m(\u001b[0m\u001b[0mself\u001b[0m\u001b[0;34m,\u001b[0m \u001b[0minput_shape\u001b[0m\u001b[0;34m)\u001b[0m\u001b[0;34m:\u001b[0m\u001b[0;34m\u001b[0m\u001b[0;34m\u001b[0m\u001b[0m\n\u001b[1;32m     14\u001b[0m         self.end_var = self.add_weight(shape=(None, input_shape[-1]), \n\u001b[0;32m---> 15\u001b[0;31m             initializer=\"random_normal\", name=\"end\")\n\u001b[0m\u001b[1;32m     16\u001b[0m         \u001b[0mself\u001b[0m\u001b[0;34m.\u001b[0m\u001b[0mend_token\u001b[0m \u001b[0;34m=\u001b[0m \u001b[0mtf\u001b[0m\u001b[0;34m.\u001b[0m\u001b[0mtile\u001b[0m\u001b[0;34m(\u001b[0m\u001b[0mself\u001b[0m\u001b[0;34m.\u001b[0m\u001b[0mend_var\u001b[0m\u001b[0;34m,\u001b[0m \u001b[0;34m(\u001b[0m\u001b[0minput_shape\u001b[0m\u001b[0;34m[\u001b[0m\u001b[0;36m0\u001b[0m\u001b[0;34m]\u001b[0m\u001b[0;34m,\u001b[0m \u001b[0;36m1\u001b[0m\u001b[0;34m,\u001b[0m \u001b[0;36m1\u001b[0m\u001b[0;34m)\u001b[0m\u001b[0;34m)\u001b[0m\u001b[0;34m\u001b[0m\u001b[0;34m\u001b[0m\u001b[0m\n\u001b[1;32m     17\u001b[0m \u001b[0;34m\u001b[0m\u001b[0m\n",
            "\u001b[0;32m/usr/local/lib/python3.6/dist-packages/tensorflow/python/keras/engine/base_layer.py\u001b[0m in \u001b[0;36madd_weight\u001b[0;34m(self, name, shape, dtype, initializer, regularizer, trainable, constraint, use_resource, synchronization, aggregation, **kwargs)\u001b[0m\n\u001b[1;32m    637\u001b[0m         \u001b[0msynchronization\u001b[0m\u001b[0;34m=\u001b[0m\u001b[0msynchronization\u001b[0m\u001b[0;34m,\u001b[0m\u001b[0;34m\u001b[0m\u001b[0;34m\u001b[0m\u001b[0m\n\u001b[1;32m    638\u001b[0m         \u001b[0maggregation\u001b[0m\u001b[0;34m=\u001b[0m\u001b[0maggregation\u001b[0m\u001b[0;34m,\u001b[0m\u001b[0;34m\u001b[0m\u001b[0;34m\u001b[0m\u001b[0m\n\u001b[0;32m--> 639\u001b[0;31m         caching_device=caching_device)\n\u001b[0m\u001b[1;32m    640\u001b[0m     \u001b[0;32mif\u001b[0m \u001b[0mregularizer\u001b[0m \u001b[0;32mis\u001b[0m \u001b[0;32mnot\u001b[0m \u001b[0;32mNone\u001b[0m\u001b[0;34m:\u001b[0m\u001b[0;34m\u001b[0m\u001b[0;34m\u001b[0m\u001b[0m\n\u001b[1;32m    641\u001b[0m       \u001b[0;31m# TODO(fchollet): in the future, this should be handled at the\u001b[0m\u001b[0;34m\u001b[0m\u001b[0;34m\u001b[0m\u001b[0;34m\u001b[0m\u001b[0m\n",
            "\u001b[0;32m/usr/local/lib/python3.6/dist-packages/tensorflow/python/training/tracking/base.py\u001b[0m in \u001b[0;36m_add_variable_with_custom_getter\u001b[0;34m(self, name, shape, dtype, initializer, getter, overwrite, **kwargs_for_getter)\u001b[0m\n\u001b[1;32m    808\u001b[0m         \u001b[0mdtype\u001b[0m\u001b[0;34m=\u001b[0m\u001b[0mdtype\u001b[0m\u001b[0;34m,\u001b[0m\u001b[0;34m\u001b[0m\u001b[0;34m\u001b[0m\u001b[0m\n\u001b[1;32m    809\u001b[0m         \u001b[0minitializer\u001b[0m\u001b[0;34m=\u001b[0m\u001b[0minitializer\u001b[0m\u001b[0;34m,\u001b[0m\u001b[0;34m\u001b[0m\u001b[0;34m\u001b[0m\u001b[0m\n\u001b[0;32m--> 810\u001b[0;31m         **kwargs_for_getter)\n\u001b[0m\u001b[1;32m    811\u001b[0m \u001b[0;34m\u001b[0m\u001b[0m\n\u001b[1;32m    812\u001b[0m     \u001b[0;31m# If we set an initializer and the variable processed it, tracking will not\u001b[0m\u001b[0;34m\u001b[0m\u001b[0;34m\u001b[0m\u001b[0;34m\u001b[0m\u001b[0m\n",
            "\u001b[0;32m/usr/local/lib/python3.6/dist-packages/tensorflow/python/keras/engine/base_layer_utils.py\u001b[0m in \u001b[0;36mmake_variable\u001b[0;34m(name, shape, dtype, initializer, trainable, caching_device, validate_shape, constraint, use_resource, collections, synchronization, aggregation, partitioner)\u001b[0m\n\u001b[1;32m    140\u001b[0m       \u001b[0msynchronization\u001b[0m\u001b[0;34m=\u001b[0m\u001b[0msynchronization\u001b[0m\u001b[0;34m,\u001b[0m\u001b[0;34m\u001b[0m\u001b[0;34m\u001b[0m\u001b[0m\n\u001b[1;32m    141\u001b[0m       \u001b[0maggregation\u001b[0m\u001b[0;34m=\u001b[0m\u001b[0maggregation\u001b[0m\u001b[0;34m,\u001b[0m\u001b[0;34m\u001b[0m\u001b[0;34m\u001b[0m\u001b[0m\n\u001b[0;32m--> 142\u001b[0;31m       shape=variable_shape if variable_shape else None)\n\u001b[0m\u001b[1;32m    143\u001b[0m \u001b[0;34m\u001b[0m\u001b[0m\n\u001b[1;32m    144\u001b[0m \u001b[0;34m\u001b[0m\u001b[0m\n",
            "\u001b[0;32m/usr/local/lib/python3.6/dist-packages/tensorflow/python/ops/variables.py\u001b[0m in \u001b[0;36m__call__\u001b[0;34m(cls, *args, **kwargs)\u001b[0m\n\u001b[1;32m    258\u001b[0m   \u001b[0;32mdef\u001b[0m \u001b[0m__call__\u001b[0m\u001b[0;34m(\u001b[0m\u001b[0mcls\u001b[0m\u001b[0;34m,\u001b[0m \u001b[0;34m*\u001b[0m\u001b[0margs\u001b[0m\u001b[0;34m,\u001b[0m \u001b[0;34m**\u001b[0m\u001b[0mkwargs\u001b[0m\u001b[0;34m)\u001b[0m\u001b[0;34m:\u001b[0m\u001b[0;34m\u001b[0m\u001b[0;34m\u001b[0m\u001b[0m\n\u001b[1;32m    259\u001b[0m     \u001b[0;32mif\u001b[0m \u001b[0mcls\u001b[0m \u001b[0;32mis\u001b[0m \u001b[0mVariableV1\u001b[0m\u001b[0;34m:\u001b[0m\u001b[0;34m\u001b[0m\u001b[0;34m\u001b[0m\u001b[0m\n\u001b[0;32m--> 260\u001b[0;31m       \u001b[0;32mreturn\u001b[0m \u001b[0mcls\u001b[0m\u001b[0;34m.\u001b[0m\u001b[0m_variable_v1_call\u001b[0m\u001b[0;34m(\u001b[0m\u001b[0;34m*\u001b[0m\u001b[0margs\u001b[0m\u001b[0;34m,\u001b[0m \u001b[0;34m**\u001b[0m\u001b[0mkwargs\u001b[0m\u001b[0;34m)\u001b[0m\u001b[0;34m\u001b[0m\u001b[0;34m\u001b[0m\u001b[0m\n\u001b[0m\u001b[1;32m    261\u001b[0m     \u001b[0;32melif\u001b[0m \u001b[0mcls\u001b[0m \u001b[0;32mis\u001b[0m \u001b[0mVariable\u001b[0m\u001b[0;34m:\u001b[0m\u001b[0;34m\u001b[0m\u001b[0;34m\u001b[0m\u001b[0m\n\u001b[1;32m    262\u001b[0m       \u001b[0;32mreturn\u001b[0m \u001b[0mcls\u001b[0m\u001b[0;34m.\u001b[0m\u001b[0m_variable_v2_call\u001b[0m\u001b[0;34m(\u001b[0m\u001b[0;34m*\u001b[0m\u001b[0margs\u001b[0m\u001b[0;34m,\u001b[0m \u001b[0;34m**\u001b[0m\u001b[0mkwargs\u001b[0m\u001b[0;34m)\u001b[0m\u001b[0;34m\u001b[0m\u001b[0;34m\u001b[0m\u001b[0m\n",
            "\u001b[0;32m/usr/local/lib/python3.6/dist-packages/tensorflow/python/ops/variables.py\u001b[0m in \u001b[0;36m_variable_v1_call\u001b[0;34m(cls, initial_value, trainable, collections, validate_shape, caching_device, name, variable_def, dtype, expected_shape, import_scope, constraint, use_resource, synchronization, aggregation, shape)\u001b[0m\n\u001b[1;32m    219\u001b[0m         \u001b[0msynchronization\u001b[0m\u001b[0;34m=\u001b[0m\u001b[0msynchronization\u001b[0m\u001b[0;34m,\u001b[0m\u001b[0;34m\u001b[0m\u001b[0;34m\u001b[0m\u001b[0m\n\u001b[1;32m    220\u001b[0m         \u001b[0maggregation\u001b[0m\u001b[0;34m=\u001b[0m\u001b[0maggregation\u001b[0m\u001b[0;34m,\u001b[0m\u001b[0;34m\u001b[0m\u001b[0;34m\u001b[0m\u001b[0m\n\u001b[0;32m--> 221\u001b[0;31m         shape=shape)\n\u001b[0m\u001b[1;32m    222\u001b[0m \u001b[0;34m\u001b[0m\u001b[0m\n\u001b[1;32m    223\u001b[0m   def _variable_v2_call(cls,\n",
            "\u001b[0;32m/usr/local/lib/python3.6/dist-packages/tensorflow/python/ops/variables.py\u001b[0m in \u001b[0;36m<lambda>\u001b[0;34m(**kwargs)\u001b[0m\n\u001b[1;32m    197\u001b[0m                         shape=None):\n\u001b[1;32m    198\u001b[0m     \u001b[0;34m\"\"\"Call on Variable class. Useful to force the signature.\"\"\"\u001b[0m\u001b[0;34m\u001b[0m\u001b[0;34m\u001b[0m\u001b[0m\n\u001b[0;32m--> 199\u001b[0;31m     \u001b[0mprevious_getter\u001b[0m \u001b[0;34m=\u001b[0m \u001b[0;32mlambda\u001b[0m \u001b[0;34m**\u001b[0m\u001b[0mkwargs\u001b[0m\u001b[0;34m:\u001b[0m \u001b[0mdefault_variable_creator\u001b[0m\u001b[0;34m(\u001b[0m\u001b[0;32mNone\u001b[0m\u001b[0;34m,\u001b[0m \u001b[0;34m**\u001b[0m\u001b[0mkwargs\u001b[0m\u001b[0;34m)\u001b[0m\u001b[0;34m\u001b[0m\u001b[0;34m\u001b[0m\u001b[0m\n\u001b[0m\u001b[1;32m    200\u001b[0m     \u001b[0;32mfor\u001b[0m \u001b[0m_\u001b[0m\u001b[0;34m,\u001b[0m \u001b[0mgetter\u001b[0m \u001b[0;32min\u001b[0m \u001b[0mops\u001b[0m\u001b[0;34m.\u001b[0m\u001b[0mget_default_graph\u001b[0m\u001b[0;34m(\u001b[0m\u001b[0;34m)\u001b[0m\u001b[0;34m.\u001b[0m\u001b[0m_variable_creator_stack\u001b[0m\u001b[0;34m:\u001b[0m  \u001b[0;31m# pylint: disable=protected-access\u001b[0m\u001b[0;34m\u001b[0m\u001b[0;34m\u001b[0m\u001b[0m\n\u001b[1;32m    201\u001b[0m       \u001b[0mprevious_getter\u001b[0m \u001b[0;34m=\u001b[0m \u001b[0m_make_getter\u001b[0m\u001b[0;34m(\u001b[0m\u001b[0mgetter\u001b[0m\u001b[0;34m,\u001b[0m \u001b[0mprevious_getter\u001b[0m\u001b[0;34m)\u001b[0m\u001b[0;34m\u001b[0m\u001b[0;34m\u001b[0m\u001b[0m\n",
            "\u001b[0;32m/usr/local/lib/python3.6/dist-packages/tensorflow/python/ops/variable_scope.py\u001b[0m in \u001b[0;36mdefault_variable_creator\u001b[0;34m(next_creator, **kwargs)\u001b[0m\n\u001b[1;32m   2616\u001b[0m         \u001b[0msynchronization\u001b[0m\u001b[0;34m=\u001b[0m\u001b[0msynchronization\u001b[0m\u001b[0;34m,\u001b[0m\u001b[0;34m\u001b[0m\u001b[0;34m\u001b[0m\u001b[0m\n\u001b[1;32m   2617\u001b[0m         \u001b[0maggregation\u001b[0m\u001b[0;34m=\u001b[0m\u001b[0maggregation\u001b[0m\u001b[0;34m,\u001b[0m\u001b[0;34m\u001b[0m\u001b[0;34m\u001b[0m\u001b[0m\n\u001b[0;32m-> 2618\u001b[0;31m         shape=shape)\n\u001b[0m\u001b[1;32m   2619\u001b[0m   \u001b[0;32melse\u001b[0m\u001b[0;34m:\u001b[0m\u001b[0;34m\u001b[0m\u001b[0;34m\u001b[0m\u001b[0m\n\u001b[1;32m   2620\u001b[0m     return variables.RefVariable(\n",
            "\u001b[0;32m/usr/local/lib/python3.6/dist-packages/tensorflow/python/ops/variables.py\u001b[0m in \u001b[0;36m__call__\u001b[0;34m(cls, *args, **kwargs)\u001b[0m\n\u001b[1;32m    262\u001b[0m       \u001b[0;32mreturn\u001b[0m \u001b[0mcls\u001b[0m\u001b[0;34m.\u001b[0m\u001b[0m_variable_v2_call\u001b[0m\u001b[0;34m(\u001b[0m\u001b[0;34m*\u001b[0m\u001b[0margs\u001b[0m\u001b[0;34m,\u001b[0m \u001b[0;34m**\u001b[0m\u001b[0mkwargs\u001b[0m\u001b[0;34m)\u001b[0m\u001b[0;34m\u001b[0m\u001b[0;34m\u001b[0m\u001b[0m\n\u001b[1;32m    263\u001b[0m     \u001b[0;32melse\u001b[0m\u001b[0;34m:\u001b[0m\u001b[0;34m\u001b[0m\u001b[0;34m\u001b[0m\u001b[0m\n\u001b[0;32m--> 264\u001b[0;31m       \u001b[0;32mreturn\u001b[0m \u001b[0msuper\u001b[0m\u001b[0;34m(\u001b[0m\u001b[0mVariableMetaclass\u001b[0m\u001b[0;34m,\u001b[0m \u001b[0mcls\u001b[0m\u001b[0;34m)\u001b[0m\u001b[0;34m.\u001b[0m\u001b[0m__call__\u001b[0m\u001b[0;34m(\u001b[0m\u001b[0;34m*\u001b[0m\u001b[0margs\u001b[0m\u001b[0;34m,\u001b[0m \u001b[0;34m**\u001b[0m\u001b[0mkwargs\u001b[0m\u001b[0;34m)\u001b[0m\u001b[0;34m\u001b[0m\u001b[0;34m\u001b[0m\u001b[0m\n\u001b[0m\u001b[1;32m    265\u001b[0m \u001b[0;34m\u001b[0m\u001b[0m\n\u001b[1;32m    266\u001b[0m \u001b[0;34m\u001b[0m\u001b[0m\n",
            "\u001b[0;32m/usr/local/lib/python3.6/dist-packages/tensorflow/python/ops/resource_variable_ops.py\u001b[0m in \u001b[0;36m__init__\u001b[0;34m(self, initial_value, trainable, collections, validate_shape, caching_device, name, dtype, variable_def, import_scope, constraint, distribute_strategy, synchronization, aggregation, shape)\u001b[0m\n\u001b[1;32m   1583\u001b[0m           \u001b[0maggregation\u001b[0m\u001b[0;34m=\u001b[0m\u001b[0maggregation\u001b[0m\u001b[0;34m,\u001b[0m\u001b[0;34m\u001b[0m\u001b[0;34m\u001b[0m\u001b[0m\n\u001b[1;32m   1584\u001b[0m           \u001b[0mshape\u001b[0m\u001b[0;34m=\u001b[0m\u001b[0mshape\u001b[0m\u001b[0;34m,\u001b[0m\u001b[0;34m\u001b[0m\u001b[0;34m\u001b[0m\u001b[0m\n\u001b[0;32m-> 1585\u001b[0;31m           distribute_strategy=distribute_strategy)\n\u001b[0m\u001b[1;32m   1586\u001b[0m \u001b[0;34m\u001b[0m\u001b[0m\n\u001b[1;32m   1587\u001b[0m   def _init_from_args(self,\n",
            "\u001b[0;32m/usr/local/lib/python3.6/dist-packages/tensorflow/python/ops/resource_variable_ops.py\u001b[0m in \u001b[0;36m_init_from_args\u001b[0;34m(self, initial_value, trainable, collections, caching_device, name, dtype, constraint, synchronization, aggregation, distribute_strategy, shape)\u001b[0m\n\u001b[1;32m   1710\u001b[0m           \u001b[0;32mwith\u001b[0m \u001b[0mops\u001b[0m\u001b[0;34m.\u001b[0m\u001b[0mname_scope\u001b[0m\u001b[0;34m(\u001b[0m\u001b[0;34m\"Initializer\"\u001b[0m\u001b[0;34m)\u001b[0m\u001b[0;34m,\u001b[0m \u001b[0mdevice_context_manager\u001b[0m\u001b[0;34m(\u001b[0m\u001b[0;32mNone\u001b[0m\u001b[0;34m)\u001b[0m\u001b[0;34m:\u001b[0m\u001b[0;34m\u001b[0m\u001b[0;34m\u001b[0m\u001b[0m\n\u001b[1;32m   1711\u001b[0m             \u001b[0;32mif\u001b[0m \u001b[0minit_from_fn\u001b[0m\u001b[0;34m:\u001b[0m\u001b[0;34m\u001b[0m\u001b[0;34m\u001b[0m\u001b[0m\n\u001b[0;32m-> 1712\u001b[0;31m               \u001b[0minitial_value\u001b[0m \u001b[0;34m=\u001b[0m \u001b[0minitial_value\u001b[0m\u001b[0;34m(\u001b[0m\u001b[0;34m)\u001b[0m\u001b[0;34m\u001b[0m\u001b[0;34m\u001b[0m\u001b[0m\n\u001b[0m\u001b[1;32m   1713\u001b[0m             \u001b[0;32mif\u001b[0m \u001b[0misinstance\u001b[0m\u001b[0;34m(\u001b[0m\u001b[0minitial_value\u001b[0m\u001b[0;34m,\u001b[0m \u001b[0mtrackable\u001b[0m\u001b[0;34m.\u001b[0m\u001b[0mCheckpointInitialValue\u001b[0m\u001b[0;34m)\u001b[0m\u001b[0;34m:\u001b[0m\u001b[0;34m\u001b[0m\u001b[0;34m\u001b[0m\u001b[0m\n\u001b[1;32m   1714\u001b[0m               \u001b[0mself\u001b[0m\u001b[0;34m.\u001b[0m\u001b[0m_maybe_initialize_trackable\u001b[0m\u001b[0;34m(\u001b[0m\u001b[0;34m)\u001b[0m\u001b[0;34m\u001b[0m\u001b[0;34m\u001b[0m\u001b[0m\n",
            "\u001b[0;32m/usr/local/lib/python3.6/dist-packages/tensorflow/python/keras/initializers/initializers_v2.py\u001b[0m in \u001b[0;36m__call__\u001b[0;34m(self, shape, dtype, **kwargs)\u001b[0m\n\u001b[1;32m    303\u001b[0m     \"\"\"\n\u001b[1;32m    304\u001b[0m     return super(RandomNormal, self).__call__(\n\u001b[0;32m--> 305\u001b[0;31m         shape, dtype=_get_dtype(dtype), **kwargs)\n\u001b[0m\u001b[1;32m    306\u001b[0m \u001b[0;34m\u001b[0m\u001b[0m\n\u001b[1;32m    307\u001b[0m \u001b[0;34m\u001b[0m\u001b[0m\n",
            "\u001b[0;32m/usr/local/lib/python3.6/dist-packages/tensorflow/python/ops/init_ops_v2.py\u001b[0m in \u001b[0;36m__call__\u001b[0;34m(self, shape, dtype, **kwargs)\u001b[0m\n\u001b[1;32m    418\u001b[0m       \u001b[0mshape\u001b[0m \u001b[0;34m=\u001b[0m \u001b[0mkwargs\u001b[0m\u001b[0;34m[\u001b[0m\u001b[0m_PARTITION_SHAPE\u001b[0m\u001b[0;34m]\u001b[0m\u001b[0;34m\u001b[0m\u001b[0;34m\u001b[0m\u001b[0m\n\u001b[1;32m    419\u001b[0m     return self._random_generator.random_normal(shape, self.mean, self.stddev,\n\u001b[0;32m--> 420\u001b[0;31m                                                 dtype)\n\u001b[0m\u001b[1;32m    421\u001b[0m \u001b[0;34m\u001b[0m\u001b[0m\n\u001b[1;32m    422\u001b[0m   \u001b[0;32mdef\u001b[0m \u001b[0mget_config\u001b[0m\u001b[0;34m(\u001b[0m\u001b[0mself\u001b[0m\u001b[0;34m)\u001b[0m\u001b[0;34m:\u001b[0m\u001b[0;34m\u001b[0m\u001b[0;34m\u001b[0m\u001b[0m\n",
            "\u001b[0;32m/usr/local/lib/python3.6/dist-packages/tensorflow/python/ops/init_ops_v2.py\u001b[0m in \u001b[0;36mrandom_normal\u001b[0;34m(self, shape, mean, stddev, dtype)\u001b[0m\n\u001b[1;32m   1071\u001b[0m       \u001b[0mop\u001b[0m \u001b[0;34m=\u001b[0m \u001b[0mrandom_ops\u001b[0m\u001b[0;34m.\u001b[0m\u001b[0mrandom_normal\u001b[0m\u001b[0;34m\u001b[0m\u001b[0;34m\u001b[0m\u001b[0m\n\u001b[1;32m   1072\u001b[0m     return op(\n\u001b[0;32m-> 1073\u001b[0;31m         shape=shape, mean=mean, stddev=stddev, dtype=dtype, seed=self.seed)\n\u001b[0m\u001b[1;32m   1074\u001b[0m \u001b[0;34m\u001b[0m\u001b[0m\n\u001b[1;32m   1075\u001b[0m   \u001b[0;32mdef\u001b[0m \u001b[0mrandom_uniform\u001b[0m\u001b[0;34m(\u001b[0m\u001b[0mself\u001b[0m\u001b[0;34m,\u001b[0m \u001b[0mshape\u001b[0m\u001b[0;34m,\u001b[0m \u001b[0mminval\u001b[0m\u001b[0;34m,\u001b[0m \u001b[0mmaxval\u001b[0m\u001b[0;34m,\u001b[0m \u001b[0mdtype\u001b[0m\u001b[0;34m)\u001b[0m\u001b[0;34m:\u001b[0m\u001b[0;34m\u001b[0m\u001b[0;34m\u001b[0m\u001b[0m\n",
            "\u001b[0;32m/usr/local/lib/python3.6/dist-packages/tensorflow/python/util/dispatch.py\u001b[0m in \u001b[0;36mwrapper\u001b[0;34m(*args, **kwargs)\u001b[0m\n\u001b[1;32m    199\u001b[0m     \u001b[0;34m\"\"\"Call target, and fall back on dispatchers if there is a TypeError.\"\"\"\u001b[0m\u001b[0;34m\u001b[0m\u001b[0;34m\u001b[0m\u001b[0m\n\u001b[1;32m    200\u001b[0m     \u001b[0;32mtry\u001b[0m\u001b[0;34m:\u001b[0m\u001b[0;34m\u001b[0m\u001b[0;34m\u001b[0m\u001b[0m\n\u001b[0;32m--> 201\u001b[0;31m       \u001b[0;32mreturn\u001b[0m \u001b[0mtarget\u001b[0m\u001b[0;34m(\u001b[0m\u001b[0;34m*\u001b[0m\u001b[0margs\u001b[0m\u001b[0;34m,\u001b[0m \u001b[0;34m**\u001b[0m\u001b[0mkwargs\u001b[0m\u001b[0;34m)\u001b[0m\u001b[0;34m\u001b[0m\u001b[0;34m\u001b[0m\u001b[0m\n\u001b[0m\u001b[1;32m    202\u001b[0m     \u001b[0;32mexcept\u001b[0m \u001b[0;34m(\u001b[0m\u001b[0mTypeError\u001b[0m\u001b[0;34m,\u001b[0m \u001b[0mValueError\u001b[0m\u001b[0;34m)\u001b[0m\u001b[0;34m:\u001b[0m\u001b[0;34m\u001b[0m\u001b[0;34m\u001b[0m\u001b[0m\n\u001b[1;32m    203\u001b[0m       \u001b[0;31m# Note: convert_to_eager_tensor currently raises a ValueError, not a\u001b[0m\u001b[0;34m\u001b[0m\u001b[0;34m\u001b[0m\u001b[0;34m\u001b[0m\u001b[0m\n",
            "\u001b[0;32m/usr/local/lib/python3.6/dist-packages/tensorflow/python/ops/random_ops.py\u001b[0m in \u001b[0;36mrandom_normal\u001b[0;34m(shape, mean, stddev, dtype, seed, name)\u001b[0m\n\u001b[1;32m     88\u001b[0m   \"\"\"\n\u001b[1;32m     89\u001b[0m   \u001b[0;32mwith\u001b[0m \u001b[0mops\u001b[0m\u001b[0;34m.\u001b[0m\u001b[0mname_scope\u001b[0m\u001b[0;34m(\u001b[0m\u001b[0mname\u001b[0m\u001b[0;34m,\u001b[0m \u001b[0;34m\"random_normal\"\u001b[0m\u001b[0;34m,\u001b[0m \u001b[0;34m[\u001b[0m\u001b[0mshape\u001b[0m\u001b[0;34m,\u001b[0m \u001b[0mmean\u001b[0m\u001b[0;34m,\u001b[0m \u001b[0mstddev\u001b[0m\u001b[0;34m]\u001b[0m\u001b[0;34m)\u001b[0m \u001b[0;32mas\u001b[0m \u001b[0mname\u001b[0m\u001b[0;34m:\u001b[0m\u001b[0;34m\u001b[0m\u001b[0;34m\u001b[0m\u001b[0m\n\u001b[0;32m---> 90\u001b[0;31m     \u001b[0mshape_tensor\u001b[0m \u001b[0;34m=\u001b[0m \u001b[0mtensor_util\u001b[0m\u001b[0;34m.\u001b[0m\u001b[0mshape_tensor\u001b[0m\u001b[0;34m(\u001b[0m\u001b[0mshape\u001b[0m\u001b[0;34m)\u001b[0m\u001b[0;34m\u001b[0m\u001b[0;34m\u001b[0m\u001b[0m\n\u001b[0m\u001b[1;32m     91\u001b[0m     \u001b[0mmean_tensor\u001b[0m \u001b[0;34m=\u001b[0m \u001b[0mops\u001b[0m\u001b[0;34m.\u001b[0m\u001b[0mconvert_to_tensor\u001b[0m\u001b[0;34m(\u001b[0m\u001b[0mmean\u001b[0m\u001b[0;34m,\u001b[0m \u001b[0mdtype\u001b[0m\u001b[0;34m=\u001b[0m\u001b[0mdtype\u001b[0m\u001b[0;34m,\u001b[0m \u001b[0mname\u001b[0m\u001b[0;34m=\u001b[0m\u001b[0;34m\"mean\"\u001b[0m\u001b[0;34m)\u001b[0m\u001b[0;34m\u001b[0m\u001b[0;34m\u001b[0m\u001b[0m\n\u001b[1;32m     92\u001b[0m     \u001b[0mstddev_tensor\u001b[0m \u001b[0;34m=\u001b[0m \u001b[0mops\u001b[0m\u001b[0;34m.\u001b[0m\u001b[0mconvert_to_tensor\u001b[0m\u001b[0;34m(\u001b[0m\u001b[0mstddev\u001b[0m\u001b[0;34m,\u001b[0m \u001b[0mdtype\u001b[0m\u001b[0;34m=\u001b[0m\u001b[0mdtype\u001b[0m\u001b[0;34m,\u001b[0m \u001b[0mname\u001b[0m\u001b[0;34m=\u001b[0m\u001b[0;34m\"stddev\"\u001b[0m\u001b[0;34m)\u001b[0m\u001b[0;34m\u001b[0m\u001b[0;34m\u001b[0m\u001b[0m\n",
            "\u001b[0;32m/usr/local/lib/python3.6/dist-packages/tensorflow/python/framework/tensor_util.py\u001b[0m in \u001b[0;36mshape_tensor\u001b[0;34m(shape)\u001b[0m\n\u001b[1;32m   1033\u001b[0m       \u001b[0;31m# not convertible to Tensors because of mixed content.\u001b[0m\u001b[0;34m\u001b[0m\u001b[0;34m\u001b[0m\u001b[0;34m\u001b[0m\u001b[0m\n\u001b[1;32m   1034\u001b[0m       \u001b[0mshape\u001b[0m \u001b[0;34m=\u001b[0m \u001b[0mtuple\u001b[0m\u001b[0;34m(\u001b[0m\u001b[0mmap\u001b[0m\u001b[0;34m(\u001b[0m\u001b[0mtensor_shape\u001b[0m\u001b[0;34m.\u001b[0m\u001b[0mdimension_value\u001b[0m\u001b[0;34m,\u001b[0m \u001b[0mshape\u001b[0m\u001b[0;34m)\u001b[0m\u001b[0;34m)\u001b[0m\u001b[0;34m\u001b[0m\u001b[0;34m\u001b[0m\u001b[0m\n\u001b[0;32m-> 1035\u001b[0;31m   \u001b[0;32mreturn\u001b[0m \u001b[0mops\u001b[0m\u001b[0;34m.\u001b[0m\u001b[0mconvert_to_tensor\u001b[0m\u001b[0;34m(\u001b[0m\u001b[0mshape\u001b[0m\u001b[0;34m,\u001b[0m \u001b[0mdtype\u001b[0m\u001b[0;34m=\u001b[0m\u001b[0mdtype\u001b[0m\u001b[0;34m,\u001b[0m \u001b[0mname\u001b[0m\u001b[0;34m=\u001b[0m\u001b[0;34m\"shape\"\u001b[0m\u001b[0;34m)\u001b[0m\u001b[0;34m\u001b[0m\u001b[0;34m\u001b[0m\u001b[0m\n\u001b[0m\u001b[1;32m   1036\u001b[0m \u001b[0;34m\u001b[0m\u001b[0m\n\u001b[1;32m   1037\u001b[0m \u001b[0;34m\u001b[0m\u001b[0m\n",
            "\u001b[0;32m/usr/local/lib/python3.6/dist-packages/tensorflow/python/profiler/trace.py\u001b[0m in \u001b[0;36mwrapped\u001b[0;34m(*args, **kwargs)\u001b[0m\n\u001b[1;32m    161\u001b[0m         \u001b[0;32mwith\u001b[0m \u001b[0mTrace\u001b[0m\u001b[0;34m(\u001b[0m\u001b[0mtrace_name\u001b[0m\u001b[0;34m,\u001b[0m \u001b[0;34m**\u001b[0m\u001b[0mtrace_kwargs\u001b[0m\u001b[0;34m)\u001b[0m\u001b[0;34m:\u001b[0m\u001b[0;34m\u001b[0m\u001b[0;34m\u001b[0m\u001b[0m\n\u001b[1;32m    162\u001b[0m           \u001b[0;32mreturn\u001b[0m \u001b[0mfunc\u001b[0m\u001b[0;34m(\u001b[0m\u001b[0;34m*\u001b[0m\u001b[0margs\u001b[0m\u001b[0;34m,\u001b[0m \u001b[0;34m**\u001b[0m\u001b[0mkwargs\u001b[0m\u001b[0;34m)\u001b[0m\u001b[0;34m\u001b[0m\u001b[0;34m\u001b[0m\u001b[0m\n\u001b[0;32m--> 163\u001b[0;31m       \u001b[0;32mreturn\u001b[0m \u001b[0mfunc\u001b[0m\u001b[0;34m(\u001b[0m\u001b[0;34m*\u001b[0m\u001b[0margs\u001b[0m\u001b[0;34m,\u001b[0m \u001b[0;34m**\u001b[0m\u001b[0mkwargs\u001b[0m\u001b[0;34m)\u001b[0m\u001b[0;34m\u001b[0m\u001b[0;34m\u001b[0m\u001b[0m\n\u001b[0m\u001b[1;32m    164\u001b[0m \u001b[0;34m\u001b[0m\u001b[0m\n\u001b[1;32m    165\u001b[0m     \u001b[0;32mreturn\u001b[0m \u001b[0mwrapped\u001b[0m\u001b[0;34m\u001b[0m\u001b[0;34m\u001b[0m\u001b[0m\n",
            "\u001b[0;32m/usr/local/lib/python3.6/dist-packages/tensorflow/python/framework/ops.py\u001b[0m in \u001b[0;36mconvert_to_tensor\u001b[0;34m(value, dtype, name, as_ref, preferred_dtype, dtype_hint, ctx, accepted_result_types)\u001b[0m\n\u001b[1;32m   1538\u001b[0m \u001b[0;34m\u001b[0m\u001b[0m\n\u001b[1;32m   1539\u001b[0m     \u001b[0;32mif\u001b[0m \u001b[0mret\u001b[0m \u001b[0;32mis\u001b[0m \u001b[0;32mNone\u001b[0m\u001b[0;34m:\u001b[0m\u001b[0;34m\u001b[0m\u001b[0;34m\u001b[0m\u001b[0m\n\u001b[0;32m-> 1540\u001b[0;31m       \u001b[0mret\u001b[0m \u001b[0;34m=\u001b[0m \u001b[0mconversion_func\u001b[0m\u001b[0;34m(\u001b[0m\u001b[0mvalue\u001b[0m\u001b[0;34m,\u001b[0m \u001b[0mdtype\u001b[0m\u001b[0;34m=\u001b[0m\u001b[0mdtype\u001b[0m\u001b[0;34m,\u001b[0m \u001b[0mname\u001b[0m\u001b[0;34m=\u001b[0m\u001b[0mname\u001b[0m\u001b[0;34m,\u001b[0m \u001b[0mas_ref\u001b[0m\u001b[0;34m=\u001b[0m\u001b[0mas_ref\u001b[0m\u001b[0;34m)\u001b[0m\u001b[0;34m\u001b[0m\u001b[0;34m\u001b[0m\u001b[0m\n\u001b[0m\u001b[1;32m   1541\u001b[0m \u001b[0;34m\u001b[0m\u001b[0m\n\u001b[1;32m   1542\u001b[0m     \u001b[0;32mif\u001b[0m \u001b[0mret\u001b[0m \u001b[0;32mis\u001b[0m \u001b[0mNotImplemented\u001b[0m\u001b[0;34m:\u001b[0m\u001b[0;34m\u001b[0m\u001b[0;34m\u001b[0m\u001b[0m\n",
            "\u001b[0;32m/usr/local/lib/python3.6/dist-packages/tensorflow/python/framework/constant_op.py\u001b[0m in \u001b[0;36m_constant_tensor_conversion_function\u001b[0;34m(v, dtype, name, as_ref)\u001b[0m\n\u001b[1;32m    337\u001b[0m                                          as_ref=False):\n\u001b[1;32m    338\u001b[0m   \u001b[0m_\u001b[0m \u001b[0;34m=\u001b[0m \u001b[0mas_ref\u001b[0m\u001b[0;34m\u001b[0m\u001b[0;34m\u001b[0m\u001b[0m\n\u001b[0;32m--> 339\u001b[0;31m   \u001b[0;32mreturn\u001b[0m \u001b[0mconstant\u001b[0m\u001b[0;34m(\u001b[0m\u001b[0mv\u001b[0m\u001b[0;34m,\u001b[0m \u001b[0mdtype\u001b[0m\u001b[0;34m=\u001b[0m\u001b[0mdtype\u001b[0m\u001b[0;34m,\u001b[0m \u001b[0mname\u001b[0m\u001b[0;34m=\u001b[0m\u001b[0mname\u001b[0m\u001b[0;34m)\u001b[0m\u001b[0;34m\u001b[0m\u001b[0;34m\u001b[0m\u001b[0m\n\u001b[0m\u001b[1;32m    340\u001b[0m \u001b[0;34m\u001b[0m\u001b[0m\n\u001b[1;32m    341\u001b[0m \u001b[0;34m\u001b[0m\u001b[0m\n",
            "\u001b[0;32m/usr/local/lib/python3.6/dist-packages/tensorflow/python/framework/constant_op.py\u001b[0m in \u001b[0;36mconstant\u001b[0;34m(value, dtype, shape, name)\u001b[0m\n\u001b[1;32m    263\u001b[0m   \"\"\"\n\u001b[1;32m    264\u001b[0m   return _constant_impl(value, dtype, shape, name, verify_shape=False,\n\u001b[0;32m--> 265\u001b[0;31m                         allow_broadcast=True)\n\u001b[0m\u001b[1;32m    266\u001b[0m \u001b[0;34m\u001b[0m\u001b[0m\n\u001b[1;32m    267\u001b[0m \u001b[0;34m\u001b[0m\u001b[0m\n",
            "\u001b[0;32m/usr/local/lib/python3.6/dist-packages/tensorflow/python/framework/constant_op.py\u001b[0m in \u001b[0;36m_constant_impl\u001b[0;34m(value, dtype, shape, name, verify_shape, allow_broadcast)\u001b[0m\n\u001b[1;32m    274\u001b[0m       \u001b[0;32mwith\u001b[0m \u001b[0mtrace\u001b[0m\u001b[0;34m.\u001b[0m\u001b[0mTrace\u001b[0m\u001b[0;34m(\u001b[0m\u001b[0;34m\"tf.constant\"\u001b[0m\u001b[0;34m)\u001b[0m\u001b[0;34m:\u001b[0m\u001b[0;34m\u001b[0m\u001b[0;34m\u001b[0m\u001b[0m\n\u001b[1;32m    275\u001b[0m         \u001b[0;32mreturn\u001b[0m \u001b[0m_constant_eager_impl\u001b[0m\u001b[0;34m(\u001b[0m\u001b[0mctx\u001b[0m\u001b[0;34m,\u001b[0m \u001b[0mvalue\u001b[0m\u001b[0;34m,\u001b[0m \u001b[0mdtype\u001b[0m\u001b[0;34m,\u001b[0m \u001b[0mshape\u001b[0m\u001b[0;34m,\u001b[0m \u001b[0mverify_shape\u001b[0m\u001b[0;34m)\u001b[0m\u001b[0;34m\u001b[0m\u001b[0;34m\u001b[0m\u001b[0m\n\u001b[0;32m--> 276\u001b[0;31m     \u001b[0;32mreturn\u001b[0m \u001b[0m_constant_eager_impl\u001b[0m\u001b[0;34m(\u001b[0m\u001b[0mctx\u001b[0m\u001b[0;34m,\u001b[0m \u001b[0mvalue\u001b[0m\u001b[0;34m,\u001b[0m \u001b[0mdtype\u001b[0m\u001b[0;34m,\u001b[0m \u001b[0mshape\u001b[0m\u001b[0;34m,\u001b[0m \u001b[0mverify_shape\u001b[0m\u001b[0;34m)\u001b[0m\u001b[0;34m\u001b[0m\u001b[0;34m\u001b[0m\u001b[0m\n\u001b[0m\u001b[1;32m    277\u001b[0m \u001b[0;34m\u001b[0m\u001b[0m\n\u001b[1;32m    278\u001b[0m   \u001b[0mg\u001b[0m \u001b[0;34m=\u001b[0m \u001b[0mops\u001b[0m\u001b[0;34m.\u001b[0m\u001b[0mget_default_graph\u001b[0m\u001b[0;34m(\u001b[0m\u001b[0;34m)\u001b[0m\u001b[0;34m\u001b[0m\u001b[0;34m\u001b[0m\u001b[0m\n",
            "\u001b[0;32m/usr/local/lib/python3.6/dist-packages/tensorflow/python/framework/constant_op.py\u001b[0m in \u001b[0;36m_constant_eager_impl\u001b[0;34m(ctx, value, dtype, shape, verify_shape)\u001b[0m\n\u001b[1;32m    299\u001b[0m \u001b[0;32mdef\u001b[0m \u001b[0m_constant_eager_impl\u001b[0m\u001b[0;34m(\u001b[0m\u001b[0mctx\u001b[0m\u001b[0;34m,\u001b[0m \u001b[0mvalue\u001b[0m\u001b[0;34m,\u001b[0m \u001b[0mdtype\u001b[0m\u001b[0;34m,\u001b[0m \u001b[0mshape\u001b[0m\u001b[0;34m,\u001b[0m \u001b[0mverify_shape\u001b[0m\u001b[0;34m)\u001b[0m\u001b[0;34m:\u001b[0m\u001b[0;34m\u001b[0m\u001b[0;34m\u001b[0m\u001b[0m\n\u001b[1;32m    300\u001b[0m   \u001b[0;34m\"\"\"Implementation of eager constant.\"\"\"\u001b[0m\u001b[0;34m\u001b[0m\u001b[0;34m\u001b[0m\u001b[0m\n\u001b[0;32m--> 301\u001b[0;31m   \u001b[0mt\u001b[0m \u001b[0;34m=\u001b[0m \u001b[0mconvert_to_eager_tensor\u001b[0m\u001b[0;34m(\u001b[0m\u001b[0mvalue\u001b[0m\u001b[0;34m,\u001b[0m \u001b[0mctx\u001b[0m\u001b[0;34m,\u001b[0m \u001b[0mdtype\u001b[0m\u001b[0;34m)\u001b[0m\u001b[0;34m\u001b[0m\u001b[0;34m\u001b[0m\u001b[0m\n\u001b[0m\u001b[1;32m    302\u001b[0m   \u001b[0;32mif\u001b[0m \u001b[0mshape\u001b[0m \u001b[0;32mis\u001b[0m \u001b[0;32mNone\u001b[0m\u001b[0;34m:\u001b[0m\u001b[0;34m\u001b[0m\u001b[0;34m\u001b[0m\u001b[0m\n\u001b[1;32m    303\u001b[0m     \u001b[0;32mreturn\u001b[0m \u001b[0mt\u001b[0m\u001b[0;34m\u001b[0m\u001b[0;34m\u001b[0m\u001b[0m\n",
            "\u001b[0;32m/usr/local/lib/python3.6/dist-packages/tensorflow/python/framework/constant_op.py\u001b[0m in \u001b[0;36mconvert_to_eager_tensor\u001b[0;34m(value, ctx, dtype)\u001b[0m\n\u001b[1;32m     96\u001b[0m       \u001b[0mdtype\u001b[0m \u001b[0;34m=\u001b[0m \u001b[0mdtypes\u001b[0m\u001b[0;34m.\u001b[0m\u001b[0mas_dtype\u001b[0m\u001b[0;34m(\u001b[0m\u001b[0mdtype\u001b[0m\u001b[0;34m)\u001b[0m\u001b[0;34m.\u001b[0m\u001b[0mas_datatype_enum\u001b[0m\u001b[0;34m\u001b[0m\u001b[0;34m\u001b[0m\u001b[0m\n\u001b[1;32m     97\u001b[0m   \u001b[0mctx\u001b[0m\u001b[0;34m.\u001b[0m\u001b[0mensure_initialized\u001b[0m\u001b[0;34m(\u001b[0m\u001b[0;34m)\u001b[0m\u001b[0;34m\u001b[0m\u001b[0;34m\u001b[0m\u001b[0m\n\u001b[0;32m---> 98\u001b[0;31m   \u001b[0;32mreturn\u001b[0m \u001b[0mops\u001b[0m\u001b[0;34m.\u001b[0m\u001b[0mEagerTensor\u001b[0m\u001b[0;34m(\u001b[0m\u001b[0mvalue\u001b[0m\u001b[0;34m,\u001b[0m \u001b[0mctx\u001b[0m\u001b[0;34m.\u001b[0m\u001b[0mdevice_name\u001b[0m\u001b[0;34m,\u001b[0m \u001b[0mdtype\u001b[0m\u001b[0;34m)\u001b[0m\u001b[0;34m\u001b[0m\u001b[0;34m\u001b[0m\u001b[0m\n\u001b[0m\u001b[1;32m     99\u001b[0m \u001b[0;34m\u001b[0m\u001b[0m\n\u001b[1;32m    100\u001b[0m \u001b[0;34m\u001b[0m\u001b[0m\n",
            "\u001b[0;31mValueError\u001b[0m: Attempt to convert a value (None) with an unsupported type (<class 'NoneType'>) to a Tensor."
          ]
        }
      ]
    },
    {
      "cell_type": "markdown",
      "metadata": {
        "id": "OAd3i4_y1ia-"
      },
      "source": [
        "## 4. Build the encoder network\n",
        "The encoder network follows the schematic diagram above. You should now build the RNN encoder model.\n",
        "* Using the functional API, build the encoder network according to the following spec:\n",
        "    * The model will take a batch of sequences of embedded English words as input, as given by the Dataset objects.\n",
        "    * The next layer in the encoder will be the custom layer you created previously, to add a learned end token embedding to the end of the English sequence.\n",
        "    * This is followed by a Masking layer, with the `mask_value` set to the distinct padding value you used when you padded the English sequences with the Dataset preprocessing above.\n",
        "    * The final layer is an LSTM layer with 512 units, which also returns the hidden and cell states.\n",
        "    * The encoder is a multi-output model. There should be two output Tensors of this model: the hidden state and cell states of the LSTM layer. The output of the LSTM layer is unused.\n",
        "* Using the Dataset `.take(1)` method, extract a batch of English data examples from the training Dataset and test the encoder model by calling it on the English data Tensor, and print the shape of the resulting Tensor outputs.\n",
        "* Print the model summary for the encoder network."
      ]
    },
    {
      "cell_type": "code",
      "metadata": {
        "id": "2MrOS1LoFyA9"
      },
      "source": [
        "# Build a RNN encoder model using the functional API\n",
        "# according to the above specification.\n",
        "\n",
        "# A batch of sequences of embedded English words from Dataset object as input.\n",
        "inputs = Input(batch_shape=train_dataset.element_spec[0].shape)\n",
        "# Add a learned end token embedding to the end of \n",
        "# the English sequence using the end_token layer.\n",
        "h = end_token(inputs)\n",
        "# A Masking layer with the mask_value=0.0.\n",
        "h = Masking(mask_value=0.0)(h)\n",
        "# A LSTM layer with 512 units returns the hidden and cell states.\n",
        "_, hidden, cell = LSTM(units=512, return_state=True)(h)\n",
        "\n",
        "# Create the RNN encoder model object\n",
        "encoder = Model(inputs=inputs, outputs=[hidden, cell])"
      ],
      "execution_count": 24,
      "outputs": []
    },
    {
      "cell_type": "code",
      "metadata": {
        "id": "e5XW6NxL1ibC",
        "colab": {
          "base_uri": "https://localhost:8080/"
        },
        "outputId": "4acbb468-322c-4c79-8142-e452e41bcd7d"
      },
      "source": [
        "# Extract a batch of English data examples from the training Dataset.\n",
        "en_train_batch, _ = next(iter(train_dataset.take(1)))\n",
        "\n",
        "# Test the encoder model on the English data tensor, \n",
        "# and print the shape of the resulting Tensor outputs.\n",
        "enc_hidden, enc_cell = encoder(en_train_batch)\n",
        "print(\"The shape of Encoder hidden state output: (batch_size, units)\", \n",
        "    enc_hidden.shape)\n",
        "print(\"The shape of Encoder cell state output: (batch_size, units)\", \n",
        "    enc_cell.shape)\n",
        "\n",
        "# Print the number of trainable variables\n",
        "print('Number of trainable variables in the RNN encoder_model:', \n",
        "    len(encoder.trainable_variables))"
      ],
      "execution_count": 25,
      "outputs": [
        {
          "output_type": "stream",
          "text": [
            "The shape of Encoder hidden state output: (batch_size, units) (16, 512)\n",
            "The shape of Encoder cell state output: (batch_size, units) (16, 512)\n",
            "Number of trainable variables in the RNN encoder_model: 4\n"
          ],
          "name": "stdout"
        }
      ]
    },
    {
      "cell_type": "code",
      "metadata": {
        "id": "jEk9ikVh1ibL",
        "colab": {
          "base_uri": "https://localhost:8080/"
        },
        "outputId": "de8f5390-54d8-44f6-b0b6-58dfa8cf4e78"
      },
      "source": [
        "# Print the model summary for the encoder network\n",
        "encoder.summary()"
      ],
      "execution_count": 26,
      "outputs": [
        {
          "output_type": "stream",
          "text": [
            "Model: \"model\"\n",
            "_________________________________________________________________\n",
            "Layer (type)                 Output Shape              Param #   \n",
            "=================================================================\n",
            "input_1 (InputLayer)         [(16, 13, 128)]           0         \n",
            "_________________________________________________________________\n",
            "end_token (EndToken)         (16, 14, 128)             128       \n",
            "_________________________________________________________________\n",
            "masking (Masking)            (16, 14, 128)             0         \n",
            "_________________________________________________________________\n",
            "lstm (LSTM)                  [(16, 512), (16, 512), (1 1312768   \n",
            "=================================================================\n",
            "Total params: 1,312,896\n",
            "Trainable params: 1,312,896\n",
            "Non-trainable params: 0\n",
            "_________________________________________________________________\n"
          ],
          "name": "stdout"
        }
      ]
    },
    {
      "cell_type": "code",
      "metadata": {
        "id": "M9vcSXtu4hLp",
        "colab": {
          "base_uri": "https://localhost:8080/",
          "height": 422
        },
        "outputId": "1e0c2e22-0a52-4eaa-e7ef-19c824ec7ac9"
      },
      "source": [
        "# Plot the Encoder RNN model\n",
        "plot_model(encoder, 'encoder.png', show_shapes=True)"
      ],
      "execution_count": 27,
      "outputs": [
        {
          "output_type": "execute_result",
          "data": {
            "image/png": "[encoded data removed]",
            "text/plain": [
              "<IPython.core.display.Image object>"
            ]
          },
          "metadata": {
            "tags": []
          },
          "execution_count": 27
        }
      ]
    },
    {
      "cell_type": "markdown",
      "metadata": {
        "id": "KvkzpCeZ1ibR"
      },
      "source": [
        "## 5. Build the decoder network\n",
        "The decoder network follows the schematic diagram below.\n",
        "\n",
        "![Decoder schematic](https://github.com/MengOonLee/Deep_learning/blob/master/TensorFlow2/Tutorial/image/neural_translation/neural_translation_model_decoder.png?raw=1)"
      ]
    },
    {
      "cell_type": "markdown",
      "metadata": {
        "id": "VPBK8WGL1ibS"
      },
      "source": [
        "You should now build the RNN decoder model.\n",
        "* Using Model subclassing, build the decoder network according to the following spec:\n",
        "    * The initializer should create the following layers:\n",
        "        * An Embedding layer with vocabulary size set to the number of unique German tokens, embedding dimension 128, and set to mask zero values in the input.\n",
        "        * An LSTM layer with 512 units, that returns its hidden and cell states, and also returns sequences.\n",
        "        * A Dense layer with number of units equal to the number of unique German tokens, and no activation function.\n",
        "    * The call method should include the usual `inputs` argument, as well as the additional keyword arguments `hidden_state` and `cell_state`. The default value for these keyword arguments should be `None`.\n",
        "    * The call method should pass the inputs through the Embedding layer, and then through the LSTM layer. If the `hidden_state` and `cell_state` arguments are provided, these should be used for the initial state of the LSTM layer. _Hint: use the_ `initial_state` _keyword argument when calling the LSTM layer on its input._\n",
        "    * The call method should pass the LSTM output sequence through the Dense layer, and return the resulting Tensor, along with the hidden and cell states of the LSTM layer.\n",
        "* Using the Dataset `.take(1)` method, extract a batch of English and German data examples from the training Dataset. Test the decoder model by first calling the encoder model on the English data Tensor to get the hidden and cell states, and then call the decoder model on the German data Tensor and hidden and cell states, and print the shape of the resulting decoder Tensor outputs.\n",
        "* Print the model summary for the decoder network."
      ]
    },
    {
      "cell_type": "code",
      "metadata": {
        "id": "l50qhnXD1ibT"
      },
      "source": [
        "# Build an RNN decoder model using Model subclassing API\n",
        "# according to the above specification.\n",
        "\n",
        "class Decoder(Model):\n",
        "    \"\"\"\n",
        "    Takes a batch of German data Tensor from the Dataset through an \n",
        "    Embedding layer with vocab_size set to number of unique German \n",
        "    token. It is followed by an LSTM layer with initial state are \n",
        "    provided by the hidden and cell states from the RNN encoder model on \n",
        "    the English data Tensor. The LSTM output sequence is passed through \n",
        "    the final Dense layer, which returns the resulting Tensor, along with \n",
        "    the hidden and cell states of the LSTM layer.\n",
        "    \"\"\"\n",
        "    def __init__(self, vocab_size, **kwargs):\n",
        "        super(Decoder, self).__init__(**kwargs)\n",
        "        # Define layers\n",
        "        self.embedding = Embedding(input_dim=vocab_size, \n",
        "            output_dim=128, mask_zero=True)\n",
        "        self.lstm = LSTM(units=512, return_state=True, \n",
        "            return_sequences=True)\n",
        "        self.dense = Dense(units=vocab_size, activation=None)\n",
        "\n",
        "    def call(self, inputs, states=None):\n",
        "        # Define forward pass\n",
        "        h = self.embedding(inputs)\n",
        "        if states is None:\n",
        "            states = self.lstm.get_initial_state(x)\n",
        "        h, _, _ = self.lstm(h, initial_state=states)\n",
        "        outputs = self.dense(h)\n",
        "        return outputs\n",
        "\n",
        "# Vocabulary size set to the number of unique German tokens\n",
        "vocab_size = len(ge_tokenizer.word_index) + 1\n",
        "# Instantiate the RNN decoder model object\n",
        "decoder = Decoder(vocab_size=vocab_size)"
      ],
      "execution_count": 28,
      "outputs": []
    },
    {
      "cell_type": "code",
      "metadata": {
        "id": "vG5CRIXV1ibi",
        "colab": {
          "base_uri": "https://localhost:8080/"
        },
        "outputId": "e546c510-24bc-4a4f-e64e-07c0fd59e812"
      },
      "source": [
        "# Extract a batch of English and German data examples \n",
        "# from the training Dataset\n",
        "en_train_batch, ge_train_batch = next(iter(train_dataset.take(1)))\n",
        "\n",
        "# First call the encoder model on the English data Tensor\n",
        "# to get the hidden and cell states\n",
        "enc_hidden, enc_cell = encoder(en_train_batch)\n",
        "\n",
        "# Then test the decoder model on the German data Tensor,\n",
        "# the hidden and cell states from the encoder model, \n",
        "# and print the shape of the resulting decoder Tensor outputs.\n",
        "dec_outputs = decoder(ge_train_batch, \n",
        "    states=[enc_hidden, enc_cell])\n",
        "print(\"The shape of Decoder outputs: (batch_size, sequence_length, units)\", \n",
        "    dec_outputs.shape)\n",
        "\n",
        "# Print the number of trainable variables\n",
        "print('Number of trainable variables in the RNN decoder_model:', \n",
        "    len(decoder.trainable_variables))"
      ],
      "execution_count": 29,
      "outputs": [
        {
          "output_type": "stream",
          "text": [
            "The shape of Decoder outputs: (batch_size, sequence_length, units) (16, 14, 5744)\n",
            "Number of trainable variables in the RNN decoder_model: 6\n"
          ],
          "name": "stdout"
        }
      ]
    },
    {
      "cell_type": "code",
      "metadata": {
        "id": "SvqqT_ET1ibl",
        "colab": {
          "base_uri": "https://localhost:8080/"
        },
        "outputId": "f1d03452-1fd0-4204-8bd4-6225e3459357"
      },
      "source": [
        "# Print the model summary for the decoder network.\n",
        "decoder.summary()"
      ],
      "execution_count": 30,
      "outputs": [
        {
          "output_type": "stream",
          "text": [
            "Model: \"decoder\"\n",
            "_________________________________________________________________\n",
            "Layer (type)                 Output Shape              Param #   \n",
            "=================================================================\n",
            "embedding (Embedding)        multiple                  735232    \n",
            "_________________________________________________________________\n",
            "lstm_1 (LSTM)                multiple                  1312768   \n",
            "_________________________________________________________________\n",
            "dense (Dense)                multiple                  2946672   \n",
            "=================================================================\n",
            "Total params: 4,994,672\n",
            "Trainable params: 4,994,672\n",
            "Non-trainable params: 0\n",
            "_________________________________________________________________\n"
          ],
          "name": "stdout"
        }
      ]
    },
    {
      "cell_type": "markdown",
      "metadata": {
        "id": "pST9XGJ81ibo"
      },
      "source": [
        "## 6. Make a custom training loop\n",
        "You should now write a custom training loop to train your custom neural translation model.\n",
        "* Define a function that takes a Tensor batch of German data (as extracted from the training Dataset), and returns a tuple containing German inputs and outputs for the decoder model (refer to schematic diagram above).\n",
        "* Define a function that computes the forward and backward pass for your translation model. This function should take an English input, German input and German output as arguments, and should do the following:\n",
        "    * Pass the English input into the encoder, to get the hidden and cell states of the encoder LSTM.\n",
        "    * These hidden and cell states are then passed into the decoder, along with the German inputs, which returns a sequence of outputs (the hidden and cell state outputs of the decoder LSTM are unused in this function).\n",
        "    * The loss should then be computed between the decoder outputs and the German output function argument.\n",
        "    * The function returns the loss and gradients with respect to the encoder and decoder’s trainable variables.\n",
        "    * Decorate the function with `@tf.function`\n",
        "* Define and run a custom training loop for a number of epochs (for you to choose) that does the following:\n",
        "    * Iterates through the training dataset, and creates decoder inputs and outputs from the German sequences.\n",
        "    * Updates the parameters of the translation model using the gradients of the function above and an optimizer object.\n",
        "    * Every epoch, compute the validation loss on a number of batches from the validation and save the epoch training and validation losses.\n",
        "* Plot the learning curves for loss vs epoch for both training and validation sets.\n",
        "\n",
        "_Hint: This model is computationally demanding to train. The quality of the model or length of training is not a factor in the grading rubric. However, to obtain a better model we recommend using the GPU accelerator hardware on Colab._"
      ]
    },
    {
      "cell_type": "code",
      "metadata": {
        "id": "7hJHbWqs1ibr",
        "colab": {
          "base_uri": "https://localhost:8080/"
        },
        "outputId": "054563ad-3cbe-4e0b-9091-595663815bb6"
      },
      "source": [
        "def split_inputs_targets(sequences):\n",
        "    \"\"\"\n",
        "    Takes an array of token sequences, and returns \n",
        "    a tuple of decoder inputs and targets.\n",
        "    \"\"\"\n",
        "    dec_inputs = sequences[:, :-1]\n",
        "    dec_targets = sequences[:, 1:]\n",
        "    return dec_inputs, dec_targets\n",
        "\n",
        "# Extract a Tensor batch of German data from the training Dataset.\n",
        "_, ge_train_batch = next(iter(train_dataset.take(1)))\n",
        "\n",
        "# Create a tuple containing German inputs and targets \n",
        "# for the decoder model.\n",
        "dec_inputs, dec_targets = split_inputs_targets(ge_train_batch)\n",
        "\n",
        "# Print the decoder inputs.\n",
        "print(\"The decoder inputs:\\n\", dec_inputs.numpy())\n",
        "# Print the decoder targets.\n",
        "print(\"The decoder targets:\\n\", dec_targets.numpy())"
      ],
      "execution_count": 31,
      "outputs": [
        {
          "output_type": "stream",
          "text": [
            "The decoder inputs:\n",
            " [[   1  677   53 3076    9    2    0    0    0    0    0    0    0]\n",
            " [   1   21   59   10 3429   49    3    2    0    0    0    0    0]\n",
            " [   1   26   35    8   12  144   78    9    2    0    0    0    0]\n",
            " [   1  505  287   52   49    3    2    0    0    0    0    0    0]\n",
            " [   1   13   32   12  524    3    2    0    0    0    0    0    0]\n",
            " [   1    5  416   12    3    2    0    0    0    0    0    0    0]\n",
            " [   1   17  228   98    3    2    0    0    0    0    0    0    0]\n",
            " [   1    5   16 1817    3    2    0    0    0    0    0    0    0]\n",
            " [   1    4   30  507   12  504    3    2    0    0    0    0    0]\n",
            " [   1   11    6   12 1666    3    2    0    0    0    0    0    0]\n",
            " [   1   15    4   20  219    7    2    0    0    0    0    0    0]\n",
            " [   1    5   16  223 1309    3    2    0    0    0    0    0    0]\n",
            " [   1  140   27    5  390    7    2    0    0    0    0    0    0]\n",
            " [   1   21  353  121  415    3    2    0    0    0    0    0    0]\n",
            " [   1   14   30   10   12   86    3    2    0    0    0    0    0]\n",
            " [   1   14 1675   46   47 2829    3    2    0    0    0    0    0]]\n",
            "The decoder targets:\n",
            " [[ 677   53 3076    9    2    0    0    0    0    0    0    0    0]\n",
            " [  21   59   10 3429   49    3    2    0    0    0    0    0    0]\n",
            " [  26   35    8   12  144   78    9    2    0    0    0    0    0]\n",
            " [ 505  287   52   49    3    2    0    0    0    0    0    0    0]\n",
            " [  13   32   12  524    3    2    0    0    0    0    0    0    0]\n",
            " [   5  416   12    3    2    0    0    0    0    0    0    0    0]\n",
            " [  17  228   98    3    2    0    0    0    0    0    0    0    0]\n",
            " [   5   16 1817    3    2    0    0    0    0    0    0    0    0]\n",
            " [   4   30  507   12  504    3    2    0    0    0    0    0    0]\n",
            " [  11    6   12 1666    3    2    0    0    0    0    0    0    0]\n",
            " [  15    4   20  219    7    2    0    0    0    0    0    0    0]\n",
            " [   5   16  223 1309    3    2    0    0    0    0    0    0    0]\n",
            " [ 140   27    5  390    7    2    0    0    0    0    0    0    0]\n",
            " [  21  353  121  415    3    2    0    0    0    0    0    0    0]\n",
            " [  14   30   10   12   86    3    2    0    0    0    0    0    0]\n",
            " [  14 1675   46   47 2829    3    2    0    0    0    0    0    0]]\n"
          ],
          "name": "stdout"
        }
      ]
    },
    {
      "cell_type": "code",
      "metadata": {
        "id": "Jvu4J4-u1ibu"
      },
      "source": [
        "# Define the Adam optimizer and categorical cross entropy loss \n",
        "optimizer = Adam(learning_rate=0.001)\n",
        "loss_object = SparseCategoricalCrossentropy(from_logits=True)\n",
        "# Define the encoder and decoder's trainable variables\n",
        "train_variables = encoder.trainable_variables + \\\n",
        "    decoder.trainable_variables\n",
        "\n",
        "# Define a function that computes the forward and backward pass \n",
        "# for the translation model according to the above specification.\n",
        "# Use the @tf.function decorator\n",
        "@tf.function\n",
        "def get_loss_and_grad(enc_inputs, dec_inputs, dec_targets):\n",
        "    \"\"\"\n",
        "    Compute a loss and gradient of the encoder and decoder models, \n",
        "    corresponding to the encoder inputs, decoder inputs and targets.\n",
        "    \"\"\"\n",
        "    with tf.GradientTape() as tape:\n",
        "        # Pass enc_inputs into the encoder to get \n",
        "        # enc_hidden and enc_cell states of the encoder LSTM.\n",
        "        enc_hidden, enc_cell = encoder(enc_inputs)\n",
        "        # Pass enc_hidden and enc_cell states into the decoder, \n",
        "        # along with dec_inputs to get dec_outputs\n",
        "        dec_outputs = decoder(dec_inputs, \n",
        "            states=[enc_hidden, enc_cell])\n",
        "        # Compute loss between dec_targets and dec_outputs\n",
        "        loss = loss_object(y_true=dec_targets, y_pred=dec_outputs)\n",
        "        # Compute gradient with respect to the trainable variables\n",
        "        grad = tape.gradient(loss, train_variables)\n",
        "    return loss, grad"
      ],
      "execution_count": 32,
      "outputs": []
    },
    {
      "cell_type": "code",
      "metadata": {
        "id": "Vl5H06811ibx"
      },
      "source": [
        "# Define a custom training loop for a number of epochs\n",
        "# according to the above specification\n",
        "\n",
        "def train_step(num_epochs, dataset):\n",
        "    \"\"\"\n",
        "    Implement a custom training loop and return \n",
        "    a list of loss values per epoch.\n",
        "    \"\"\"\n",
        "    # Keep results for plotting\n",
        "    train_loss = []\n",
        "\n",
        "    for epoch in range(num_epochs):\n",
        "        epoch_loss_avg = Mean()\n",
        "        # Training loop\n",
        "        for x, y in dataset:\n",
        "            dec_inputs, dec_targets = split_inputs_targets(y)\n",
        "            # Optimize the model\n",
        "            loss, grad = get_loss_and_grad(x, dec_inputs, dec_targets)\n",
        "            optimizer.apply_gradients(zip(grad, train_variables))\n",
        "            # Compute current avg loss\n",
        "            epoch_loss_avg(loss)\n",
        "\n",
        "        # End epoch\n",
        "        train_loss.append(epoch_loss_avg.result())\n",
        "        print(\"Epoch {:03d}: Loss: {.3f}\".format(epoch, \n",
        "            epoch_loss_avg.result()))\n",
        "        \n",
        "    return train_loss"
      ],
      "execution_count": 33,
      "outputs": []
    },
    {
      "cell_type": "code",
      "metadata": {
        "id": "MVWOYJ3l1ib1",
        "colab": {
          "base_uri": "https://localhost:8080/",
          "height": 564
        },
        "outputId": "eb6d684a-90e9-4faf-c10c-79415156e4fd"
      },
      "source": [
        "# Execute the training process\n",
        "train_loss = train_step(1, train_dataset)"
      ],
      "execution_count": 34,
      "outputs": [
        {
          "output_type": "stream",
          "text": [
            "WARNING:tensorflow:Gradients do not exist for variables ['end_token/end:0'] when minimizing the loss.\n"
          ],
          "name": "stdout"
        },
        {
          "output_type": "stream",
          "text": [
            "WARNING:tensorflow:Gradients do not exist for variables ['end_token/end:0'] when minimizing the loss.\n"
          ],
          "name": "stderr"
        },
        {
          "output_type": "stream",
          "text": [
            "WARNING:tensorflow:Gradients do not exist for variables ['end_token/end:0'] when minimizing the loss.\n"
          ],
          "name": "stdout"
        },
        {
          "output_type": "stream",
          "text": [
            "WARNING:tensorflow:Gradients do not exist for variables ['end_token/end:0'] when minimizing the loss.\n"
          ],
          "name": "stderr"
        },
        {
          "output_type": "stream",
          "text": [
            "WARNING:tensorflow:Gradients do not exist for variables ['end_token/end:0'] when minimizing the loss.\n"
          ],
          "name": "stdout"
        },
        {
          "output_type": "stream",
          "text": [
            "WARNING:tensorflow:Gradients do not exist for variables ['end_token/end:0'] when minimizing the loss.\n"
          ],
          "name": "stderr"
        },
        {
          "output_type": "stream",
          "text": [
            "WARNING:tensorflow:Gradients do not exist for variables ['end_token/end:0'] when minimizing the loss.\n"
          ],
          "name": "stdout"
        },
        {
          "output_type": "stream",
          "text": [
            "WARNING:tensorflow:Gradients do not exist for variables ['end_token/end:0'] when minimizing the loss.\n"
          ],
          "name": "stderr"
        },
        {
          "output_type": "stream",
          "text": [
            "WARNING:tensorflow:Gradients do not exist for variables ['end_token/end:0'] when minimizing the loss.\n"
          ],
          "name": "stdout"
        },
        {
          "output_type": "stream",
          "text": [
            "WARNING:tensorflow:Gradients do not exist for variables ['end_token/end:0'] when minimizing the loss.\n"
          ],
          "name": "stderr"
        },
        {
          "output_type": "stream",
          "text": [
            "WARNING:tensorflow:Gradients do not exist for variables ['end_token/end:0'] when minimizing the loss.\n"
          ],
          "name": "stdout"
        },
        {
          "output_type": "stream",
          "text": [
            "WARNING:tensorflow:Gradients do not exist for variables ['end_token/end:0'] when minimizing the loss.\n"
          ],
          "name": "stderr"
        },
        {
          "output_type": "error",
          "ename": "KeyboardInterrupt",
          "evalue": "ignored",
          "traceback": [
            "\u001b[0;31m---------------------------------------------------------------------------\u001b[0m",
            "\u001b[0;31mKeyboardInterrupt\u001b[0m                         Traceback (most recent call last)",
            "\u001b[0;32m<ipython-input-34-72a34c03c481>\u001b[0m in \u001b[0;36m<module>\u001b[0;34m()\u001b[0m\n\u001b[1;32m      1\u001b[0m \u001b[0;31m# Execute the training process\u001b[0m\u001b[0;34m\u001b[0m\u001b[0;34m\u001b[0m\u001b[0;34m\u001b[0m\u001b[0m\n\u001b[0;32m----> 2\u001b[0;31m \u001b[0mtrain_loss\u001b[0m \u001b[0;34m=\u001b[0m \u001b[0mtrain_step\u001b[0m\u001b[0;34m(\u001b[0m\u001b[0;36m1\u001b[0m\u001b[0;34m,\u001b[0m \u001b[0mtrain_dataset\u001b[0m\u001b[0;34m)\u001b[0m\u001b[0;34m\u001b[0m\u001b[0;34m\u001b[0m\u001b[0m\n\u001b[0m",
            "\u001b[0;32m<ipython-input-33-dedb8f4ae51b>\u001b[0m in \u001b[0;36mtrain_step\u001b[0;34m(num_epochs, dataset)\u001b[0m\n\u001b[1;32m     13\u001b[0m         \u001b[0mepoch_loss_avg\u001b[0m \u001b[0;34m=\u001b[0m \u001b[0mMean\u001b[0m\u001b[0;34m(\u001b[0m\u001b[0;34m)\u001b[0m\u001b[0;34m\u001b[0m\u001b[0;34m\u001b[0m\u001b[0m\n\u001b[1;32m     14\u001b[0m         \u001b[0;31m# Training loop\u001b[0m\u001b[0;34m\u001b[0m\u001b[0;34m\u001b[0m\u001b[0;34m\u001b[0m\u001b[0m\n\u001b[0;32m---> 15\u001b[0;31m         \u001b[0;32mfor\u001b[0m \u001b[0mx\u001b[0m\u001b[0;34m,\u001b[0m \u001b[0my\u001b[0m \u001b[0;32min\u001b[0m \u001b[0mdataset\u001b[0m\u001b[0;34m:\u001b[0m\u001b[0;34m\u001b[0m\u001b[0;34m\u001b[0m\u001b[0m\n\u001b[0m\u001b[1;32m     16\u001b[0m             \u001b[0mdec_inputs\u001b[0m\u001b[0;34m,\u001b[0m \u001b[0mdec_targets\u001b[0m \u001b[0;34m=\u001b[0m \u001b[0msplit_inputs_targets\u001b[0m\u001b[0;34m(\u001b[0m\u001b[0my\u001b[0m\u001b[0;34m)\u001b[0m\u001b[0;34m\u001b[0m\u001b[0;34m\u001b[0m\u001b[0m\n\u001b[1;32m     17\u001b[0m             \u001b[0;31m# Optimize the model\u001b[0m\u001b[0;34m\u001b[0m\u001b[0;34m\u001b[0m\u001b[0;34m\u001b[0m\u001b[0m\n",
            "\u001b[0;32m/usr/local/lib/python3.6/dist-packages/tensorflow/python/data/ops/iterator_ops.py\u001b[0m in \u001b[0;36m__next__\u001b[0;34m(self)\u001b[0m\n\u001b[1;32m    745\u001b[0m   \u001b[0;32mdef\u001b[0m \u001b[0m__next__\u001b[0m\u001b[0;34m(\u001b[0m\u001b[0mself\u001b[0m\u001b[0;34m)\u001b[0m\u001b[0;34m:\u001b[0m\u001b[0;34m\u001b[0m\u001b[0;34m\u001b[0m\u001b[0m\n\u001b[1;32m    746\u001b[0m     \u001b[0;32mtry\u001b[0m\u001b[0;34m:\u001b[0m\u001b[0;34m\u001b[0m\u001b[0;34m\u001b[0m\u001b[0m\n\u001b[0;32m--> 747\u001b[0;31m       \u001b[0;32mreturn\u001b[0m \u001b[0mself\u001b[0m\u001b[0;34m.\u001b[0m\u001b[0m_next_internal\u001b[0m\u001b[0;34m(\u001b[0m\u001b[0;34m)\u001b[0m\u001b[0;34m\u001b[0m\u001b[0;34m\u001b[0m\u001b[0m\n\u001b[0m\u001b[1;32m    748\u001b[0m     \u001b[0;32mexcept\u001b[0m \u001b[0merrors\u001b[0m\u001b[0;34m.\u001b[0m\u001b[0mOutOfRangeError\u001b[0m\u001b[0;34m:\u001b[0m\u001b[0;34m\u001b[0m\u001b[0;34m\u001b[0m\u001b[0m\n\u001b[1;32m    749\u001b[0m       \u001b[0;32mraise\u001b[0m \u001b[0mStopIteration\u001b[0m\u001b[0;34m\u001b[0m\u001b[0;34m\u001b[0m\u001b[0m\n",
            "\u001b[0;32m/usr/local/lib/python3.6/dist-packages/tensorflow/python/data/ops/iterator_ops.py\u001b[0m in \u001b[0;36m_next_internal\u001b[0;34m(self)\u001b[0m\n\u001b[1;32m    731\u001b[0m           \u001b[0mself\u001b[0m\u001b[0;34m.\u001b[0m\u001b[0m_iterator_resource\u001b[0m\u001b[0;34m,\u001b[0m\u001b[0;34m\u001b[0m\u001b[0;34m\u001b[0m\u001b[0m\n\u001b[1;32m    732\u001b[0m           \u001b[0moutput_types\u001b[0m\u001b[0;34m=\u001b[0m\u001b[0mself\u001b[0m\u001b[0;34m.\u001b[0m\u001b[0m_flat_output_types\u001b[0m\u001b[0;34m,\u001b[0m\u001b[0;34m\u001b[0m\u001b[0;34m\u001b[0m\u001b[0m\n\u001b[0;32m--> 733\u001b[0;31m           output_shapes=self._flat_output_shapes)\n\u001b[0m\u001b[1;32m    734\u001b[0m \u001b[0;34m\u001b[0m\u001b[0m\n\u001b[1;32m    735\u001b[0m       \u001b[0;32mtry\u001b[0m\u001b[0;34m:\u001b[0m\u001b[0;34m\u001b[0m\u001b[0;34m\u001b[0m\u001b[0m\n",
            "\u001b[0;32m/usr/local/lib/python3.6/dist-packages/tensorflow/python/ops/gen_dataset_ops.py\u001b[0m in \u001b[0;36miterator_get_next\u001b[0;34m(iterator, output_types, output_shapes, name)\u001b[0m\n\u001b[1;32m   2574\u001b[0m       _result = pywrap_tfe.TFE_Py_FastPathExecute(\n\u001b[1;32m   2575\u001b[0m         \u001b[0m_ctx\u001b[0m\u001b[0;34m,\u001b[0m \u001b[0;34m\"IteratorGetNext\"\u001b[0m\u001b[0;34m,\u001b[0m \u001b[0mname\u001b[0m\u001b[0;34m,\u001b[0m \u001b[0miterator\u001b[0m\u001b[0;34m,\u001b[0m \u001b[0;34m\"output_types\"\u001b[0m\u001b[0;34m,\u001b[0m \u001b[0moutput_types\u001b[0m\u001b[0;34m,\u001b[0m\u001b[0;34m\u001b[0m\u001b[0;34m\u001b[0m\u001b[0m\n\u001b[0;32m-> 2576\u001b[0;31m         \"output_shapes\", output_shapes)\n\u001b[0m\u001b[1;32m   2577\u001b[0m       \u001b[0;32mreturn\u001b[0m \u001b[0m_result\u001b[0m\u001b[0;34m\u001b[0m\u001b[0;34m\u001b[0m\u001b[0m\n\u001b[1;32m   2578\u001b[0m     \u001b[0;32mexcept\u001b[0m \u001b[0m_core\u001b[0m\u001b[0;34m.\u001b[0m\u001b[0m_NotOkStatusException\u001b[0m \u001b[0;32mas\u001b[0m \u001b[0me\u001b[0m\u001b[0;34m:\u001b[0m\u001b[0;34m\u001b[0m\u001b[0;34m\u001b[0m\u001b[0m\n",
            "\u001b[0;31mKeyboardInterrupt\u001b[0m: "
          ]
        }
      ]
    },
    {
      "cell_type": "code",
      "metadata": {
        "id": "6VSmBdwT1ib4",
        "outputId": "3c3cf1a1-4683-47dd-97b0-e810d712f084",
        "colab": {
          "base_uri": "https://localhost:8080/"
        }
      },
      "source": [
        "train_variables"
      ],
      "execution_count": 35,
      "outputs": [
        {
          "output_type": "execute_result",
          "data": {
            "text/plain": [
              "[<tf.Variable 'end_token/end:0' shape=(1, 1, 128) dtype=float32, numpy=\n",
              " array([[[ 3.60508449e-03,  3.32776383e-02, -2.18666829e-02,\n",
              "           4.90608774e-02,  2.97714006e-02, -2.89873034e-02,\n",
              "           7.29605928e-02,  1.34019842e-02, -1.49647146e-02,\n",
              "           2.25972123e-02,  2.23468412e-02,  2.51673199e-02,\n",
              "          -1.55287553e-02,  2.89713088e-02,  1.69046037e-02,\n",
              "          -8.93733501e-02, -6.70382604e-02,  2.63220519e-02,\n",
              "          -4.43839096e-03, -8.42819083e-03,  2.94174049e-02,\n",
              "           1.54674873e-02,  7.45686993e-05, -3.44239436e-02,\n",
              "           9.17189696e-04,  3.02985054e-03, -6.63999021e-02,\n",
              "           1.95319857e-02,  1.15739815e-02, -3.70398094e-03,\n",
              "          -1.15530990e-01,  1.95093192e-02,  5.10204397e-02,\n",
              "           4.50718664e-02,  1.10462867e-01, -5.95373772e-02,\n",
              "          -1.29670752e-02, -1.14497924e-02,  2.71223187e-02,\n",
              "          -1.05020106e-01,  1.58477842e-03,  3.73966061e-02,\n",
              "          -1.30177019e-02,  2.06384938e-02,  1.01064043e-02,\n",
              "          -8.70753452e-02, -1.61993094e-02, -7.40021169e-02,\n",
              "          -1.47439269e-02, -2.52671279e-02, -3.31305154e-02,\n",
              "          -2.01438162e-02,  1.11033078e-02,  1.02647310e-02,\n",
              "           9.95684694e-03,  2.77688894e-02,  4.81028855e-02,\n",
              "          -3.08134016e-02, -8.00026283e-02, -1.23051321e-02,\n",
              "           4.80145635e-03, -1.07585257e-02, -8.17956682e-03,\n",
              "          -6.66807815e-02, -2.95577496e-02, -3.98252122e-02,\n",
              "           1.01769447e-01, -4.29283231e-02,  3.10525997e-03,\n",
              "           4.47282866e-02,  6.06435072e-03, -3.63498740e-02,\n",
              "           3.68764922e-02,  1.31655321e-01,  8.71009368e-04,\n",
              "           6.56318897e-03,  1.21232783e-02,  6.73300922e-02,\n",
              "          -1.62471291e-02, -4.84005474e-02,  3.69367236e-03,\n",
              "           1.16149142e-01, -3.81211080e-02,  2.73091234e-02,\n",
              "          -3.14940810e-02, -3.24403606e-02, -1.56071009e-02,\n",
              "           3.20387520e-02,  4.70485538e-02,  6.59274636e-03,\n",
              "           1.51212169e-02,  2.37235911e-02,  1.01344049e-01,\n",
              "          -1.21576581e-02,  6.46922588e-02, -8.43184348e-03,\n",
              "          -6.37413934e-02,  2.62149307e-03,  2.42380463e-02,\n",
              "          -3.60103436e-02,  1.17729716e-01,  2.38598580e-03,\n",
              "          -1.65849477e-02,  6.35955706e-02, -5.72749376e-02,\n",
              "           4.09502201e-02,  5.16378060e-02,  2.62201466e-02,\n",
              "           8.68646353e-02,  2.70610098e-02,  1.19089857e-02,\n",
              "           5.68701588e-02,  5.64332493e-02, -2.60491055e-02,\n",
              "          -3.68432328e-02,  8.86840671e-02, -5.60510755e-02,\n",
              "          -2.60566808e-02,  1.09779714e-02, -1.24001242e-02,\n",
              "           2.11928301e-02, -2.28140615e-02,  1.63097251e-02,\n",
              "           5.49589396e-02,  3.89253348e-02,  2.46617775e-02,\n",
              "           1.14706457e-01, -8.69385377e-02]]], dtype=float32)>,\n",
              " <tf.Variable 'lstm/lstm_cell/kernel:0' shape=(128, 2048) dtype=float32, numpy=\n",
              " array([[-0.01364357,  0.04541694, -0.0301047 , ...,  0.00988616,\n",
              "          0.04105353, -0.001246  ],\n",
              "        [ 0.05214559,  0.04113521, -0.03417934, ...,  0.01979422,\n",
              "          0.02134707, -0.03501596],\n",
              "        [-0.03152803, -0.0051338 ,  0.00977162, ...,  0.02044909,\n",
              "         -0.00135589,  0.00274577],\n",
              "        ...,\n",
              "        [ 0.01627442,  0.03335525, -0.04824112, ..., -0.03013639,\n",
              "         -0.05135049,  0.04394704],\n",
              "        [ 0.01835735, -0.04350417,  0.03571747, ..., -0.00612275,\n",
              "         -0.01050752, -0.01620971],\n",
              "        [-0.05070387, -0.01605262,  0.02240109, ...,  0.05089156,\n",
              "         -0.00793611, -0.00451319]], dtype=float32)>,\n",
              " <tf.Variable 'lstm/lstm_cell/recurrent_kernel:0' shape=(512, 2048) dtype=float32, numpy=\n",
              " array([[-0.02811499,  0.0518422 ,  0.03216044, ...,  0.01767048,\n",
              "          0.03548734,  0.01740513],\n",
              "        [-0.00421888, -0.00447697,  0.01928324, ...,  0.00606928,\n",
              "         -0.01795546, -0.03386224],\n",
              "        [ 0.00936297, -0.02095632, -0.03426414, ..., -0.00883122,\n",
              "         -0.00599135, -0.00848204],\n",
              "        ...,\n",
              "        [-0.03850673, -0.01373505,  0.04795888, ..., -0.02035152,\n",
              "          0.02950976,  0.00234211],\n",
              "        [ 0.0326699 ,  0.00621229, -0.03026466, ..., -0.03052214,\n",
              "          0.02074517,  0.00363244],\n",
              "        [ 0.01267857, -0.01016773,  0.00561044, ...,  0.04409415,\n",
              "          0.01698481,  0.00321949]], dtype=float32)>,\n",
              " <tf.Variable 'lstm/lstm_cell/bias:0' shape=(2048,) dtype=float32, numpy=\n",
              " array([0.00404117, 0.00287452, 0.00505245, ..., 0.00257514, 0.00319315,\n",
              "        0.00207164], dtype=float32)>,\n",
              " <tf.Variable 'decoder/embedding/embeddings:0' shape=(5744, 128) dtype=float32, numpy=\n",
              " array([[ 0.00693794,  0.02815292, -0.0380728 , ...,  0.03629461,\n",
              "          0.03742779,  0.04265673],\n",
              "        [ 0.05207553,  0.04455885, -0.00832341, ...,  0.03408431,\n",
              "         -0.00841947, -0.00862864],\n",
              "        [-0.01031681,  0.04224729,  0.04843474, ...,  0.03606573,\n",
              "          0.02477345, -0.03679099],\n",
              "        ...,\n",
              "        [ 0.01105231, -0.01052713, -0.02387687, ..., -0.02955076,\n",
              "          0.04646801,  0.02081683],\n",
              "        [ 0.04936479, -0.02184151,  0.00810836, ...,  0.01477542,\n",
              "         -0.04816312, -0.03017161],\n",
              "        [-0.00336723,  0.04957923, -0.02998201, ...,  0.02786082,\n",
              "          0.01199119,  0.0195534 ]], dtype=float32)>,\n",
              " <tf.Variable 'decoder/lstm_1/lstm_cell_1/kernel:0' shape=(128, 2048) dtype=float32, numpy=\n",
              " array([[-0.04362523, -0.01296818,  0.02802354, ...,  0.03723316,\n",
              "         -0.00901245,  0.02119285],\n",
              "        [ 0.05075628,  0.0121352 ,  0.03186796, ...,  0.00331619,\n",
              "         -0.0481561 , -0.03191583],\n",
              "        [ 0.03631905, -0.00948377,  0.02009779, ...,  0.00013846,\n",
              "          0.03273764,  0.05059401],\n",
              "        ...,\n",
              "        [ 0.0038108 ,  0.04672695,  0.0507159 , ..., -0.02698301,\n",
              "          0.00871051,  0.00631904],\n",
              "        [ 0.00103577,  0.04624332, -0.05124824, ..., -0.00685685,\n",
              "         -0.02499629, -0.03106743],\n",
              "        [-0.04198274,  0.03274906,  0.00630578, ..., -0.02805099,\n",
              "         -0.03343724, -0.04195847]], dtype=float32)>,\n",
              " <tf.Variable 'decoder/lstm_1/lstm_cell_1/recurrent_kernel:0' shape=(512, 2048) dtype=float32, numpy=\n",
              " array([[ 0.00189314, -0.0375076 , -0.0005851 , ...,  0.01640761,\n",
              "          0.02975073,  0.06022106],\n",
              "        [ 0.01083247,  0.01565547,  0.02322439, ...,  0.02850865,\n",
              "         -0.0337944 , -0.02882743],\n",
              "        [ 0.00073303, -0.03957584,  0.04783867, ...,  0.0268339 ,\n",
              "         -0.00172491,  0.02987565],\n",
              "        ...,\n",
              "        [ 0.02908914,  0.01729278,  0.02966571, ..., -0.01161243,\n",
              "          0.01023201, -0.02888903],\n",
              "        [ 0.02303105, -0.00945874, -0.00413692, ..., -0.02211248,\n",
              "         -0.02111735, -0.01551542],\n",
              "        [-0.02392052,  0.00727292, -0.01809176, ...,  0.00792696,\n",
              "         -0.00479083,  0.02799644]], dtype=float32)>,\n",
              " <tf.Variable 'decoder/lstm_1/lstm_cell_1/bias:0' shape=(2048,) dtype=float32, numpy=\n",
              " array([0.0031058 , 0.00478154, 0.002892  , ..., 0.00309271, 0.00052673,\n",
              "        0.00459623], dtype=float32)>,\n",
              " <tf.Variable 'decoder/dense/kernel:0' shape=(512, 5744) dtype=float32, numpy=\n",
              " array([[-0.02138128,  0.02602107,  0.01689323, ...,  0.00577585,\n",
              "         -0.00716856,  0.03010017],\n",
              "        [-0.0046355 ,  0.01087875,  0.00180341, ...,  0.01198965,\n",
              "         -0.00578582, -0.00166067],\n",
              "        [-0.02771896,  0.0133745 ,  0.01992657, ...,  0.01574807,\n",
              "          0.02665486,  0.00017063],\n",
              "        ...,\n",
              "        [ 0.00307828,  0.02783181, -0.01500895, ...,  0.00032096,\n",
              "          0.02444829,  0.00012541],\n",
              "        [-0.03049289,  0.0150949 , -0.01998165, ..., -0.02384917,\n",
              "         -0.02278106,  0.0316619 ],\n",
              "        [-0.0048069 ,  0.02883592, -0.03516597, ..., -0.01840258,\n",
              "          0.02337156,  0.0260558 ]], dtype=float32)>,\n",
              " <tf.Variable 'decoder/dense/bias:0' shape=(5744,) dtype=float32, numpy=\n",
              " array([ 0.00599509, -0.00593494,  0.0059998 , ..., -0.00593905,\n",
              "        -0.005934  , -0.00593588], dtype=float32)>]"
            ]
          },
          "metadata": {
            "tags": []
          },
          "execution_count": 35
        }
      ]
    },
    {
      "cell_type": "code",
      "metadata": {
        "id": "dpacst2F1ib7"
      },
      "source": [
        ""
      ],
      "execution_count": null,
      "outputs": []
    },
    {
      "cell_type": "markdown",
      "metadata": {
        "id": "xM2gvBM11ib-"
      },
      "source": [
        "## 7. Use the model to translate\n",
        "Now it's time to put your model into practice! You should run your translation for five randomly sampled English sentences from the dataset. For each sentence, the process is as follows:\n",
        "* Preprocess and embed the English sentence according to the model requirements.\n",
        "* Pass the embedded sentence through the encoder to get the encoder hidden and cell states.\n",
        "* Starting with the special  `\"<start>\"` token, use this token and the final encoder hidden and cell states to get the one-step prediction from the decoder, as well as the decoder’s updated hidden and cell states.\n",
        "* Create a loop to get the next step prediction and updated hidden and cell states from the decoder, using the most recent hidden and cell states. Terminate the loop when the `\"<end>\"` token is emitted, or when the sentence has reached a maximum length.\n",
        "* Decode the output token sequence into German text and print the English text and the model's German translation."
      ]
    },
    {
      "cell_type": "code",
      "metadata": {
        "id": "bGnQtE7L1icA"
      },
      "source": [
        ""
      ],
      "execution_count": null,
      "outputs": []
    },
    {
      "cell_type": "code",
      "metadata": {
        "id": "ohleJRcJ1icD"
      },
      "source": [
        ""
      ],
      "execution_count": null,
      "outputs": []
    },
    {
      "cell_type": "code",
      "metadata": {
        "id": "Unk60cEy1icI"
      },
      "source": [
        ""
      ],
      "execution_count": null,
      "outputs": []
    }
  ]
}