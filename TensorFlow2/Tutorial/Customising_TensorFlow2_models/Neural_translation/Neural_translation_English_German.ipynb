{
  "nbformat": 4,
  "nbformat_minor": 0,
  "metadata": {
    "kernelspec": {
      "name": "python3",
      "display_name": "Python 3"
    },
    "colab": {
      "name": "Capstone Project.ipynb",
      "provenance": [],
      "collapsed_sections": [],
      "include_colab_link": true
    }
  },
  "cells": [
    {
      "cell_type": "markdown",
      "metadata": {
        "id": "view-in-github",
        "colab_type": "text"
      },
      "source": [
        "<a href=\"https://colab.research.google.com/github/MengOonLee/Deep_learning/blob/master/TensorFlow2/Tutorial/Customising_TensorFlow2_models/Neural_translation/Neural_translation_English_German.ipynb\" target=\"_parent\"><img src=\"https://colab.research.google.com/assets/colab-badge.svg\" alt=\"Open In Colab\"/></a>"
      ]
    },
    {
      "cell_type": "markdown",
      "metadata": {
        "id": "vsX0L1sG1iZj"
      },
      "source": [
        "# Capstone Project\n",
        "## Neural translation model\n",
        "### Instructions\n",
        "\n",
        "In this notebook, you will create a neural network that translates from English to German. You will use concepts from throughout this course, including building more flexible model architectures, freezing layers, data processing pipeline and sequence modelling.\n",
        "\n",
        "This project is peer-assessed. Within this notebook you will find instructions in each section for how to complete the project. Pay close attention to the instructions as the peer review will be carried out according to a grading rubric that checks key parts of the project instructions. Feel free to add extra cells into the notebook as required.\n",
        "\n",
        "### How to submit\n",
        "\n",
        "When you have completed the Capstone project notebook, you will submit a pdf of the notebook for peer review. First ensure that the notebook has been fully executed from beginning to end, and all of the cell outputs are visible. This is important, as the grading rubric depends on the reviewer being able to view the outputs of your notebook. Save the notebook as a pdf (you could download the notebook with File -> Download .ipynb, open the notebook locally, and then File -> Download as -> PDF via LaTeX), and then submit this pdf for review.\n",
        "\n",
        "### Let's get started!\n",
        "\n",
        "We'll start by running some imports, and loading the dataset. For this project you are free to make further imports throughout the notebook as you wish. "
      ]
    },
    {
      "cell_type": "code",
      "metadata": {
        "id": "2VyTvxPN1iZn"
      },
      "source": [
        "import tensorflow as tf\n",
        "import tensorflow_hub as hub\n",
        "import unicodedata\n",
        "import re\n",
        "import os\n",
        "import numpy as np\n",
        "import matplotlib.pyplot as plt\n",
        "%matplotlib inline\n",
        "\n",
        "from tensorflow.keras.preprocessing.text import Tokenizer\n",
        "from tensorflow.keras.preprocessing.sequence import pad_sequences\n",
        "from sklearn.model_selection import train_test_split\n",
        "from tensorflow.keras.layers import Layer, Input, Masking, LSTM, \\\n",
        "    Embedding, Dense\n",
        "from tensorflow.keras.models import Model\n",
        "from tensorflow.keras.utils import plot_model\n",
        "from tensorflow.keras.losses import SparseCategoricalCrossentropy\n",
        "from tensorflow.keras.optimizers import Adam\n",
        "from tensorflow.keras.metrics import Mean"
      ],
      "execution_count": 1,
      "outputs": []
    },
    {
      "cell_type": "markdown",
      "metadata": {
        "id": "wuIi4lAR1iZt"
      },
      "source": [
        "![Flags overview image](https://github.com/MengOonLee/Deep_learning/blob/master/TensorFlow2/Tutorial/image/neural_translation/germany_uk_flags.png?raw=1)\n",
        "\n",
        "For the capstone project, you will use a language dataset from http://www.manythings.org/anki/ to build a neural translation model. This dataset consists of over 200,000 pairs of sentences in English and German. In order to make the training quicker, we will restrict to our dataset to 20,000 pairs. Feel free to change this if you wish - the size of the dataset used is not part of the grading rubric.\n",
        "\n",
        "Your goal is to develop a neural translation model from English to German, making use of a pre-trained English word embedding module."
      ]
    },
    {
      "cell_type": "markdown",
      "metadata": {
        "id": "pi9Dq6vv3FVO"
      },
      "source": [
        "#### Import the data\n",
        "\n",
        "The dataset is available for download as a zip file at the following link:\n",
        "\n",
        "https://drive.google.com/open?id=1KczOciG7sYY7SB9UlBeRP1T9659b121Q\n",
        "\n",
        "You should store the unzipped folder in local drive for use in this Colab notebook."
      ]
    },
    {
      "cell_type": "code",
      "metadata": {
        "id": "Nw99tEEQ3bKL"
      },
      "source": [
        "if not os.path.exists(\"./data\"):\n",
        "    os.makedirs(\"./data\")"
      ],
      "execution_count": 2,
      "outputs": []
    },
    {
      "cell_type": "code",
      "metadata": {
        "colab": {
          "base_uri": "https://localhost:8080/"
        },
        "id": "MAfYIl-cERc_",
        "outputId": "8b2d50ef-114d-4d43-d3fe-7e09a06fcbb4"
      },
      "source": [
        "%%bash\n",
        "\n",
        "fileid=\"1KczOciG7sYY7SB9UlBeRP1T9659b121Q\"\n",
        "filename=\"./data/deu.txt\"\n",
        "curl -c ./cookie -s -L \"https://drive.google.com/uc?export=download&id=${fileid}\" > /dev/null\n",
        "curl -Lb ./cookie \"https://drive.google.com/uc?export=download&confirm=`awk '/download/ {print $NF}' ./cookie`&id=${fileid}\" -o ${filename}"
      ],
      "execution_count": 3,
      "outputs": [
        {
          "output_type": "stream",
          "text": [
            "  % Total    % Received % Xferd  Average Speed   Time    Time     Time  Current\n",
            "                                 Dload  Upload   Total   Spent    Left  Speed\n",
            "\r  0     0    0     0    0     0      0      0 --:--:-- --:--:-- --:--:--     0\r  0     0    0     0    0     0      0      0 --:--:--  0:00:01 --:--:--     0\r100   408    0   408    0     0    296      0 --:--:--  0:00:01 --:--:--   296\n",
            "\r  0     0    0     0    0     0      0      0 --:--:--  0:00:01 --:--:--     0\n",
            "\r  0     0    0     0    0     0      0      0 --:--:--  0:00:01 --:--:--     0\n",
            "\r100 6147k    0 6147k    0     0  3735k      0 --:--:--  0:00:01 --:--:-- 3735k\r100 29.9M    0 29.9M    0     0  16.4M      0 --:--:--  0:00:01 --:--:--  140M\n"
          ],
          "name": "stderr"
        }
      ]
    },
    {
      "cell_type": "code",
      "metadata": {
        "id": "o8PetPpw1iZu"
      },
      "source": [
        "# Run this cell to load the dataset\n",
        "\n",
        "NUM_EXAMPLES = 20000\n",
        "data_examples = []\n",
        "with open('data/deu.txt', 'r', encoding='utf8') as f:\n",
        "    for line in f.readlines():\n",
        "        if len(data_examples) < NUM_EXAMPLES:\n",
        "            data_examples.append(line)\n",
        "        else:\n",
        "            break"
      ],
      "execution_count": 4,
      "outputs": []
    },
    {
      "cell_type": "code",
      "metadata": {
        "id": "JumLjJ631iZy"
      },
      "source": [
        "# These functions preprocess English and German sentences\n",
        "\n",
        "def unicode_to_ascii(s):\n",
        "    return ''.join(c for c in unicodedata.normalize('NFD', s) \n",
        "        if unicodedata.category(c) != 'Mn')\n",
        "\n",
        "def preprocess_sentence(sentence):\n",
        "    sentence = sentence.lower().strip()\n",
        "    sentence = re.sub(r\"ü\", 'ue', sentence)\n",
        "    sentence = re.sub(r\"ä\", 'ae', sentence)\n",
        "    sentence = re.sub(r\"ö\", 'oe', sentence)\n",
        "    sentence = re.sub(r'ß', 'ss', sentence)\n",
        "    \n",
        "    sentence = unicode_to_ascii(sentence)\n",
        "    sentence = re.sub(r\"([?.!,])\", r\" \\1 \", sentence)\n",
        "    sentence = re.sub(r\"[^a-z?.!,']+\", \" \", sentence)\n",
        "    sentence = re.sub(r'[\" \"]+', \" \", sentence)\n",
        "    \n",
        "    return sentence.strip()"
      ],
      "execution_count": 5,
      "outputs": []
    },
    {
      "cell_type": "markdown",
      "metadata": {
        "id": "XFJap-TW1iZ2"
      },
      "source": [
        "#### The custom translation model\n",
        "The following is a schematic of the custom translation model architecture you will develop in this project.\n",
        "\n",
        "![Model Schematic](https://github.com/MengOonLee/Deep_learning/blob/master/TensorFlow2/Tutorial/image/neural_translation/neural_translation_model.png?raw=1)\n",
        "\n",
        "Key:\n",
        "![Model key](https://github.com/MengOonLee/Deep_learning/blob/master/TensorFlow2/Tutorial/image/neural_translation/neural_translation_model_key.png?raw=1)\n",
        "\n",
        "The custom model consists of an encoder RNN and a decoder RNN. The encoder takes words of an English sentence as input, and uses a pre-trained word embedding to embed the words into a 128-dimensional space. To indicate the end of the input sentence, a special end token (in the same 128-dimensional space) is passed in as an input. This token is a TensorFlow Variable that is learned in the training phase (unlike the pre-trained word embedding, which is frozen).\n",
        "\n",
        "The decoder RNN takes the internal state of the encoder network as its initial state. A `<start>` token is passed in as the first input, which is embedded using a learned German word embedding. The decoder RNN then makes a prediction for the next German word, which during inference is then passed in as the following input, and this process is repeated until the special `<end>` token is emitted from the decoder."
      ]
    },
    {
      "cell_type": "markdown",
      "metadata": {
        "id": "z70nu6_01iZ3"
      },
      "source": [
        "## 1. Text preprocessing\n",
        "* Create separate lists of English and German sentences, and preprocess them using the `preprocess_sentence` function provided for you above.\n",
        "* Add a special `\"<start>\"` and `\"<end>\"` token to the beginning and end of every German sentence.\n",
        "* Use the Tokenizer class from the `tf.keras.preprocessing.text` module to tokenize the German sentences, ensuring that no character filters are applied. _Hint: use the Tokenizer's \"filter\" keyword argument._\n",
        "* Print out at least 5 randomly chosen examples of (preprocessed) English and German sentence pairs. For the German sentence, print out the text (with start and end tokens) as well as the tokenized sequence.\n",
        "* Pad the end of the tokenized German sequences with zeros, and batch the complete set of sequences into one numpy array."
      ]
    },
    {
      "cell_type": "code",
      "metadata": {
        "scrolled": true,
        "id": "9G20C4bk1iZ4",
        "colab": {
          "base_uri": "https://localhost:8080/"
        },
        "outputId": "7d118be7-d584-4b40-bf95-229b70590aa5"
      },
      "source": [
        "def create_sentence(data):\n",
        "    \"\"\"\n",
        "    Clean the input and return sentence pairs.\n",
        "    \"\"\"\n",
        "    sentence_pairs = [[preprocess_sentence(w) for w in l.split('\\t')][:2] \n",
        "        for l in data]\n",
        "    return zip(*sentence_pairs)\n",
        "\n",
        "# get pairs\n",
        "en_sentence, ge_sentence = create_sentence(data_examples)\n",
        "# show last 5 pairs\n",
        "for pair in zip(en_sentence[-5:], ge_sentence[-5:]):\n",
        "    print(pair)"
      ],
      "execution_count": 6,
      "outputs": [
        {
          "output_type": "stream",
          "text": [
            "(\"i've been working .\", 'ich war arbeiten .')\n",
            "(\"i've bought a car .\", 'ich habe ein auto gekauft .')\n",
            "(\"i've come for tom .\", 'ich bin fuer tom gekommen .')\n",
            "(\"i've done nothing .\", 'ich habe nichts getan .')\n",
            "(\"i've eaten enough .\", 'ich habe genug gegessen .')\n"
          ],
          "name": "stdout"
        }
      ]
    },
    {
      "cell_type": "code",
      "metadata": {
        "id": "DhdUE_5ukdjv",
        "colab": {
          "base_uri": "https://localhost:8080/"
        },
        "outputId": "1d6fa88c-a76a-4bdc-d001-232c6fddff3a"
      },
      "source": [
        "def add_start_end(sentences):\n",
        "    \"\"\"\n",
        "    Adding a start and end token to the sentence so that the\n",
        "    model know when to start and stop predicting.\n",
        "    \"\"\"\n",
        "    return [\"<start> \" + s + \" <end>\" for s in sentences]\n",
        "\n",
        "ge_sentence = add_start_end(ge_sentence)\n",
        "ge_sentence[-5:]"
      ],
      "execution_count": 7,
      "outputs": [
        {
          "output_type": "execute_result",
          "data": {
            "text/plain": [
              "['<start> ich war arbeiten . <end>',\n",
              " '<start> ich habe ein auto gekauft . <end>',\n",
              " '<start> ich bin fuer tom gekommen . <end>',\n",
              " '<start> ich habe nichts getan . <end>',\n",
              " '<start> ich habe genug gegessen . <end>']"
            ]
          },
          "metadata": {
            "tags": []
          },
          "execution_count": 7
        }
      ]
    },
    {
      "cell_type": "code",
      "metadata": {
        "id": "5UlnBdIK1iaE",
        "colab": {
          "base_uri": "https://localhost:8080/"
        },
        "outputId": "002a7228-72c9-4975-eb4e-7d4538f08af1"
      },
      "source": [
        "def create_tokenizer(sentences):\n",
        "    \"\"\"\n",
        "    Create and return a Tokenizer.\n",
        "    \"\"\"\n",
        "    tokenizer = Tokenizer(filters='')\n",
        "    tokenizer.fit_on_texts(sentences)\n",
        "    return tokenizer\n",
        "\n",
        "# Build the German tokenizer vocabulary\n",
        "ge_tokenizer = create_tokenizer(ge_sentence)\n",
        "# Tokenize the German sentences\n",
        "ge_sequence = ge_tokenizer.texts_to_sequences(ge_sentence)\n",
        "ge_sequence[-5:]"
      ],
      "execution_count": 8,
      "outputs": [
        {
          "output_type": "execute_result",
          "data": {
            "text/plain": [
              "[[1, 4, 24, 252, 3, 2],\n",
              " [1, 4, 18, 19, 82, 280, 3, 2],\n",
              " [1, 4, 15, 77, 5, 276, 3, 2],\n",
              " [1, 4, 18, 108, 182, 3, 2],\n",
              " [1, 4, 18, 480, 217, 3, 2]]"
            ]
          },
          "metadata": {
            "tags": []
          },
          "execution_count": 8
        }
      ]
    },
    {
      "cell_type": "code",
      "metadata": {
        "id": "ZGTaqt1t1iaI",
        "colab": {
          "base_uri": "https://localhost:8080/"
        },
        "outputId": "3e42c14d-e38a-4259-cbbf-2b7d09b4d4e1"
      },
      "source": [
        "# Randomly select 5 examples of English and German sentence pairs\n",
        "inx = np.random.choice(len(en_sentence), 5, replace=False)\n",
        "\n",
        "for n, i in enumerate(inx):\n",
        "    print(n, en_sentence[i])\n",
        "    print(n, ge_sentence[i], ge_sequence[i])"
      ],
      "execution_count": 9,
      "outputs": [
        {
          "output_type": "stream",
          "text": [
            "0 we'll starve .\n",
            "0 <start> wir werden verhungern . <end> [1, 17, 69, 839, 3, 2]\n",
            "1 the sky was gray .\n",
            "1 <start> der himmel war grau . <end> [1, 47, 1073, 24, 2151, 3, 2]\n",
            "2 tom is silly .\n",
            "2 <start> tom ist albern . <end> [1, 5, 6, 3498, 3, 2]\n",
            "3 it's for us .\n",
            "3 <start> es ist fuer uns . <end> [1, 10, 6, 77, 31, 3, 2]\n",
            "4 all aboard !\n",
            "4 <start> alle mann an bord ! <end> [1, 78, 193, 36, 1098, 9, 2]\n"
          ],
          "name": "stdout"
        }
      ]
    },
    {
      "cell_type": "code",
      "metadata": {
        "id": "m3-tjXZn6_RN",
        "colab": {
          "base_uri": "https://localhost:8080/"
        },
        "outputId": "6c43f761-66f2-47e0-a1de-0f3ed6ddf7b4"
      },
      "source": [
        "def post_pad(sequences):\n",
        "    \"\"\"\n",
        "    Pad each sequence to a maximum length.\n",
        "    \"\"\"\n",
        "    return pad_sequences(sequences, padding='post')\n",
        "\n",
        "ge_padded = post_pad(ge_sequence)\n",
        "ge_padded[-5:]"
      ],
      "execution_count": 10,
      "outputs": [
        {
          "output_type": "execute_result",
          "data": {
            "text/plain": [
              "array([[  1,   4,  24, 252,   3,   2,   0,   0,   0,   0,   0,   0,   0,\n",
              "          0],\n",
              "       [  1,   4,  18,  19,  82, 280,   3,   2,   0,   0,   0,   0,   0,\n",
              "          0],\n",
              "       [  1,   4,  15,  77,   5, 276,   3,   2,   0,   0,   0,   0,   0,\n",
              "          0],\n",
              "       [  1,   4,  18, 108, 182,   3,   2,   0,   0,   0,   0,   0,   0,\n",
              "          0],\n",
              "       [  1,   4,  18, 480, 217,   3,   2,   0,   0,   0,   0,   0,   0,\n",
              "          0]], dtype=int32)"
            ]
          },
          "metadata": {
            "tags": []
          },
          "execution_count": 10
        }
      ]
    },
    {
      "cell_type": "markdown",
      "metadata": {
        "id": "foL7Ihs21iaP"
      },
      "source": [
        "## 2. Prepare the data with tf.data.Dataset objects"
      ]
    },
    {
      "cell_type": "markdown",
      "metadata": {
        "id": "-9rCEE4z1iaQ"
      },
      "source": [
        "#### Load the embedding layer\n",
        "As part of the dataset preproceessing for this project, you will use a pre-trained English word embedding module from TensorFlow Hub. The URL for the module is https://tfhub.dev/google/tf2-preview/nnlm-en-dim128-with-normalization/1.\n",
        "\n",
        "This embedding takes a batch of text tokens in a 1-D tensor of strings as input. It then embeds the separate tokens into a 128-dimensional space. \n",
        "\n",
        "The code to load and test the embedding layer is provided for you below.\n",
        "\n",
        "**NB:** This model can also be used as a sentence embedding module. The module will process each token by removing punctuation and splitting on spaces. It then averages the word embeddings over a sentence to give a single embedding vector. However, we will use it only as a word embedding module, and will pass each word in the input sentence as a separate token."
      ]
    },
    {
      "cell_type": "code",
      "metadata": {
        "id": "ywZgobCh1iaR"
      },
      "source": [
        "# Load embedding module from Tensorflow Hub\n",
        "# 128 dimensional embedding space\n",
        "embed_dim=128\n",
        "embedding_layer = hub.KerasLayer(\"https://tfhub.dev/google/tf2-preview/nnlm-en-dim128/1\", \n",
        "    output_shape=(embed_dim), input_shape=(), dtype=tf.string)"
      ],
      "execution_count": 11,
      "outputs": []
    },
    {
      "cell_type": "code",
      "metadata": {
        "id": "TiY8QEDp1iaV",
        "colab": {
          "base_uri": "https://localhost:8080/"
        },
        "outputId": "83b1a484-ebd8-483c-d6e0-c79c156e4c9f"
      },
      "source": [
        "# Test the layer\n",
        "\n",
        "embedding_layer(tf.constant([\"these\", \"aren't\", \"the\", \"droids\", \"you're\", \"looking\", \"for\"])).shape"
      ],
      "execution_count": 12,
      "outputs": [
        {
          "output_type": "execute_result",
          "data": {
            "text/plain": [
              "TensorShape([7, 128])"
            ]
          },
          "metadata": {
            "tags": []
          },
          "execution_count": 12
        }
      ]
    },
    {
      "cell_type": "markdown",
      "metadata": {
        "id": "KjuzXc-z1iaY"
      },
      "source": [
        "You should now prepare the training and validation Datasets.\n",
        "\n",
        "* Create a random training and validation set split of the data, reserving e.g. 20% of the data for validation (NB: each English dataset example is a single sentence string, and each German dataset example is a sequence of padded integer tokens).\n",
        "* Load the training and validation sets into a tf.data.Dataset object, passing in a tuple of English and German data for both training and validation sets.\n",
        "* Create a function to map over the datasets that splits each English sentence at spaces. Apply this function to both Dataset objects using the map method. _Hint: look at the tf.strings.split function._\n",
        "* Create a function to map over the datasets that embeds each sequence of English words using the loaded embedding layer/model. Apply this function to both Dataset objects using the map method.\n",
        "* Create a function to filter out dataset examples where the English sentence is greater than or equal to than 13 (embedded) tokens in length. Apply this function to both Dataset objects using the filter method.\n",
        "* Create a function to map over the datasets that pads each English sequence of embeddings with some distinct padding value before the sequence, so that each sequence is length 13. Apply this function to both Dataset objects using the map method. _Hint: look at the tf.pad function. You can extract a Tensor shape using tf.shape; you might also find the tf.math.maximum function useful._\n",
        "* Batch both training and validation Datasets with a batch size of 16.\n",
        "* Print the `element_spec` property for the training and validation Datasets. \n",
        "* Using the Dataset `.take(1)` method, print the shape of the English data example from the training Dataset.\n",
        "* Using the Dataset `.take(1)` method, print the German data example Tensor from the validation Dataset."
      ]
    },
    {
      "cell_type": "code",
      "metadata": {
        "id": "Q-BUJOl_1iaZ",
        "colab": {
          "base_uri": "https://localhost:8080/"
        },
        "outputId": "ce6f8f39-1f7b-4579-eb8e-6e3855094556"
      },
      "source": [
        "# Create a random training and validation sets using an 80-20 split\n",
        "en_train, en_valid, ge_train, ge_valid = train_test_split(\n",
        "    en_sentence, ge_padded, test_size=0.2)\n",
        "\n",
        "# Examine the shape of data\n",
        "print(\"The shape of training dataset:\")\n",
        "print(f\"English: {np.array(en_train).shape} \\t German: {ge_train.shape}\")\n",
        "print(\"The shape of validation dataset:\")\n",
        "print(f\"English: {np.array(en_valid).shape} \\t German: {ge_valid.shape}\")\n"
      ],
      "execution_count": 13,
      "outputs": [
        {
          "output_type": "stream",
          "text": [
            "The shape of training dataset:\n",
            "English: (16000,) \t German: (16000, 14)\n",
            "The shape of validation dataset:\n",
            "English: (4000,) \t German: (4000, 14)\n"
          ],
          "name": "stdout"
        }
      ]
    },
    {
      "cell_type": "code",
      "metadata": {
        "id": "4w6rM8Bl1iad",
        "colab": {
          "base_uri": "https://localhost:8080/"
        },
        "outputId": "1b4bc61f-9608-4805-9457-06d6e0d450c5"
      },
      "source": [
        "def create_dataset(input, target):\n",
        "    \"\"\"\n",
        "    Takes an input language, and a corresponding target language \n",
        "    to create a tf.data.Dataset object with these input and target.\n",
        "    \"\"\"\n",
        "    return tf.data.Dataset.from_tensor_slices((input, target))\n",
        "\n",
        "# Create Dataset object for both training and vailidation sets\n",
        "train_dataset = create_dataset(en_train, ge_train)\n",
        "valid_dataset = create_dataset(en_valid, ge_valid)\n",
        "\n",
        "# # Print the first 5 elements of the Dataset\n",
        "for elem in iter(train_dataset.take(5)):\n",
        "    print(elem[0].numpy(), elem[1].numpy())"
      ],
      "execution_count": 14,
      "outputs": [
        {
          "output_type": "stream",
          "text": [
            "b'was tom asleep ?' [  1  16   5 597   7   2   0   0   0   0   0   0   0   0]\n",
            "b'i hate this .' [  1   4 122  53   3   2   0   0   0   0   0   0   0   0]\n",
            "b'this is fine .' [  1  11   6  46 225   3   2   0   0   0   0   0   0   0]\n",
            "b'you are good .' [ 1 13 32 49  3  2  0  0  0  0  0  0  0  0]\n",
            "b'i found tom there .' [  1   4  18   5 141 116   3   2   0   0   0   0   0   0]\n"
          ],
          "name": "stdout"
        }
      ]
    },
    {
      "cell_type": "code",
      "metadata": {
        "id": "D7bn3mRs1iaj",
        "colab": {
          "base_uri": "https://localhost:8080/"
        },
        "outputId": "00a780c6-76ca-49af-e82d-a988019643ee"
      },
      "source": [
        "def map_split(x, _):\n",
        "    \"\"\"\n",
        "    Splits each English sentence at spaces.\n",
        "    \"\"\"\n",
        "    return (tf.strings.split(x, sep=' '), _)\n",
        "\n",
        "# Map the function over the both Dataset objects. \n",
        "train_dataset = train_dataset.map(map_split)\n",
        "valid_dataset = valid_dataset.map(map_split)\n",
        "\n",
        "# # Print the first 5 elements of the Dataset\n",
        "for elem in iter(train_dataset.take(5)):\n",
        "    print(elem[0].numpy(), elem[1].numpy())"
      ],
      "execution_count": 15,
      "outputs": [
        {
          "output_type": "stream",
          "text": [
            "[b'was' b'tom' b'asleep' b'?'] [  1  16   5 597   7   2   0   0   0   0   0   0   0   0]\n",
            "[b'i' b'hate' b'this' b'.'] [  1   4 122  53   3   2   0   0   0   0   0   0   0   0]\n",
            "[b'this' b'is' b'fine' b'.'] [  1  11   6  46 225   3   2   0   0   0   0   0   0   0]\n",
            "[b'you' b'are' b'good' b'.'] [ 1 13 32 49  3  2  0  0  0  0  0  0  0  0]\n",
            "[b'i' b'found' b'tom' b'there' b'.'] [  1   4  18   5 141 116   3   2   0   0   0   0   0   0]\n"
          ],
          "name": "stdout"
        }
      ]
    },
    {
      "cell_type": "code",
      "metadata": {
        "id": "q0Fdso381ian",
        "colab": {
          "base_uri": "https://localhost:8080/"
        },
        "outputId": "eb79a565-f4e6-4d58-a96a-aff941d46ff7"
      },
      "source": [
        "def map_embed(x, _):\n",
        "    \"\"\"\n",
        "    Embeds each sequence of English words using the loaded embedding layer.\n",
        "    \"\"\"\n",
        "    return (embedding_layer(x), _)\n",
        "\n",
        "# Map the function over the both Dataset objects. \n",
        "train_dataset = train_dataset.map(map_embed)\n",
        "valid_dataset = valid_dataset.map(map_embed)\n",
        "\n",
        "# Print the element_spec property for both Datasets\n",
        "print(\"The training Dataset's element_spec property:\")\n",
        "print(train_dataset.element_spec)\n",
        "print(\"The validation Dataset's element_spec property:\")\n",
        "print(valid_dataset.element_spec)"
      ],
      "execution_count": 16,
      "outputs": [
        {
          "output_type": "stream",
          "text": [
            "The training Dataset's element_spec property:\n",
            "(TensorSpec(shape=(None, 128), dtype=tf.float32, name=None), TensorSpec(shape=(14,), dtype=tf.int32, name=None))\n",
            "The validation Dataset's element_spec property:\n",
            "(TensorSpec(shape=(None, 128), dtype=tf.float32, name=None), TensorSpec(shape=(14,), dtype=tf.int32, name=None))\n"
          ],
          "name": "stdout"
        }
      ]
    },
    {
      "cell_type": "code",
      "metadata": {
        "id": "bGqlxuqZ1ias",
        "colab": {
          "base_uri": "https://localhost:8080/"
        },
        "outputId": "faadc76a-47e7-4670-83ce-ea70216d07e8"
      },
      "source": [
        "def filter_length(x, _):\n",
        "    \"\"\"\n",
        "    Filter out dataset examples where the English sentence is \n",
        "    greater than or equal to 13 (embedded) tokens in length.\n",
        "    \"\"\"\n",
        "    return len(x)<13\n",
        "\n",
        "# Filter over the both Dataset objects.\n",
        "train_dataset = train_dataset.filter(filter_length)\n",
        "valid_dataset = valid_dataset.filter(filter_length)\n",
        "\n",
        "# Print the element_spec property for both Datasets\n",
        "print(\"The training Dataset's element_spec property:\")\n",
        "print(train_dataset.element_spec)\n",
        "print(\"The validation Dataset's element_spec property:\")\n",
        "print(valid_dataset.element_spec)"
      ],
      "execution_count": 17,
      "outputs": [
        {
          "output_type": "stream",
          "text": [
            "The training Dataset's element_spec property:\n",
            "(TensorSpec(shape=(None, 128), dtype=tf.float32, name=None), TensorSpec(shape=(14,), dtype=tf.int32, name=None))\n",
            "The validation Dataset's element_spec property:\n",
            "(TensorSpec(shape=(None, 128), dtype=tf.float32, name=None), TensorSpec(shape=(14,), dtype=tf.int32, name=None))\n"
          ],
          "name": "stdout"
        }
      ]
    },
    {
      "cell_type": "code",
      "metadata": {
        "id": "-3Zlr2M0BBhH",
        "colab": {
          "base_uri": "https://localhost:8080/"
        },
        "outputId": "9f832c77-3823-45b5-d470-212571940b89"
      },
      "source": [
        "def map_pad_embedding(x, _):\n",
        "    \"\"\"\n",
        "    Pads each English sequence of embeddings with some distinct\n",
        "    padding value before the sequence, so that each sequence is\n",
        "    length 13.\n",
        "    \"\"\"\n",
        "    pad_size = tf.math.maximum(0, 13 - tf.shape(x)[0])\n",
        "    paddings = tf.concat(([[pad_size, 0]], [[0, 0]]), axis=0)\n",
        "    padded = tf.pad(x, paddings, \"CONSTANT\")\n",
        "    return (tf.reshape(padded, (13, 128)), _)\n",
        "\n",
        "# Map the function over the both Dataset objects. \n",
        "train_dataset = train_dataset.map(map_pad_embedding)\n",
        "valid_dataset = valid_dataset.map(map_pad_embedding)\n",
        "\n",
        "# Print the element_spec property for both Datasets\n",
        "print(\"The training Dataset's element_spec property:\")\n",
        "print(train_dataset.element_spec)\n",
        "print(\"The validation Dataset's element_spec property:\")\n",
        "print(valid_dataset.element_spec)"
      ],
      "execution_count": 18,
      "outputs": [
        {
          "output_type": "stream",
          "text": [
            "The training Dataset's element_spec property:\n",
            "(TensorSpec(shape=(13, 128), dtype=tf.float32, name=None), TensorSpec(shape=(14,), dtype=tf.int32, name=None))\n",
            "The validation Dataset's element_spec property:\n",
            "(TensorSpec(shape=(13, 128), dtype=tf.float32, name=None), TensorSpec(shape=(14,), dtype=tf.int32, name=None))\n"
          ],
          "name": "stdout"
        }
      ]
    },
    {
      "cell_type": "code",
      "metadata": {
        "id": "tMslwlMYhNKW",
        "colab": {
          "base_uri": "https://localhost:8080/"
        },
        "outputId": "a174d9e2-00dd-4deb-be7a-4aa20120e30c"
      },
      "source": [
        "def create_batch(dataset, batch_size):\n",
        "  \"\"\"\n",
        "  Batch the dataset using the batch_size argument, \n",
        "  setting drop_remainder to True.\n",
        "  \"\"\"\n",
        "  return dataset.batch(batch_size, drop_remainder=True)\n",
        "\n",
        "# Batch the both Datasets with a batch size of 16.\n",
        "batch_size=16\n",
        "train_dataset = create_batch(train_dataset, batch_size)\n",
        "valid_dataset = create_batch(valid_dataset, batch_size)\n",
        "\n",
        "# Print the element_spec property for both Datasets\n",
        "print(\"The training Dataset's element_spec property:\")\n",
        "print(train_dataset.element_spec)\n",
        "print(\"The validation Dataset's element_spec property:\")\n",
        "print(valid_dataset.element_spec)"
      ],
      "execution_count": 19,
      "outputs": [
        {
          "output_type": "stream",
          "text": [
            "The training Dataset's element_spec property:\n",
            "(TensorSpec(shape=(16, 13, 128), dtype=tf.float32, name=None), TensorSpec(shape=(16, 14), dtype=tf.int32, name=None))\n",
            "The validation Dataset's element_spec property:\n",
            "(TensorSpec(shape=(16, 13, 128), dtype=tf.float32, name=None), TensorSpec(shape=(16, 14), dtype=tf.int32, name=None))\n"
          ],
          "name": "stdout"
        }
      ]
    },
    {
      "cell_type": "code",
      "metadata": {
        "id": "CwSocw5QhA9p",
        "colab": {
          "base_uri": "https://localhost:8080/"
        },
        "outputId": "9153f562-87b0-403f-ff1f-1513333492d8"
      },
      "source": [
        "# Print the shape of the English data example from the training Dataset\n",
        "en_train_batch, _ = next(iter(train_dataset.take(1)))\n",
        "print(\"The shape of English data example from the training Dataset:\", \n",
        "    en_train_batch.shape)\n",
        "\n",
        "# Print the German data example Tensor from the validation Dataset\n",
        "_, ge_valid_batch = next(iter(valid_dataset.take(1)))\n",
        "print(\"The German data example Tensor from the validation Dataset:\\n\", \n",
        "    ge_valid_batch.numpy())"
      ],
      "execution_count": 20,
      "outputs": [
        {
          "output_type": "stream",
          "text": [
            "The shape of English data example from the training Dataset: (16, 13, 128)\n",
            "The German data example Tensor from the validation Dataset:\n",
            " [[   1  976    5    9    2    0    0    0    0    0    0    0    0    0]\n",
            " [   1   23    8  138    7    2    0    0    0    0    0    0    0    0]\n",
            " [   1    4  604 1223  123    3    2    0    0    0    0    0    0    0]\n",
            " [   1    5    6   12 1269    3    2    0    0    0    0    0    0    0]\n",
            " [   1  996   24  293    3    2    0    0    0    0    0    0    0    0]\n",
            " [   1   79   10 1387    9    2    0    0    0    0    0    0    0    0]\n",
            " [   1   13   32   50 2097    3    2    0    0    0    0    0    0    0]\n",
            " [   1   14    6  167    3    2    0    0    0    0    0    0    0    0]\n",
            " [   1   10    6  166  676    3    2    0    0    0    0    0    0    0]\n",
            " [   1   58   13  899    7    2    0    0    0    0    0    0    0    0]\n",
            " [   1    4   66   71 1267    3    2    0    0    0    0    0    0    0]\n",
            " [   1    4   89   50   82  433    3    2    0    0    0    0    0    0]\n",
            " [   1 1485   11  129    9    2    0    0    0    0    0    0    0    0]\n",
            " [   1    6   11  106   82    7    2    0    0    0    0    0    0    0]\n",
            " [   1   11    6  924    3    2    0    0    0    0    0    0    0    0]\n",
            " [   1   10  496   72    3    2    0    0    0    0    0    0    0    0]]\n"
          ],
          "name": "stdout"
        }
      ]
    },
    {
      "cell_type": "markdown",
      "metadata": {
        "id": "isIYhjq01iay"
      },
      "source": [
        "## 3. Create the custom layer\n",
        "You will now create a custom layer to add the learned end token embedding to the encoder model:\n",
        "\n",
        "![Encoder schematic](https://github.com/MengOonLee/Deep_learning/blob/master/TensorFlow2/Tutorial/image/neural_translation/neural_translation_model_encoder.png?raw=1)"
      ]
    },
    {
      "cell_type": "markdown",
      "metadata": {
        "id": "M6gLIHG81iaz"
      },
      "source": [
        "You should now build the custom layer.\n",
        "* Using layer subclassing, create a custom layer that takes a batch of English data examples from one of the Datasets, and adds a learned embedded ‘end’ token to the end of each sequence. \n",
        "* This layer should create a TensorFlow Variable (that will be learned during training) that is 128-dimensional (the size of the embedding space). _Hint: you may find it helpful in the call method to use the tf.tile function to replicate the end token embedding across every element in the batch._\n",
        "* Using the Dataset `.take(1)` method, extract a batch of English data examples from the training Dataset and print the shape. Test the custom layer by calling the layer on the English data batch Tensor and print the resulting Tensor shape (the layer should increase the sequence length by one)."
      ]
    },
    {
      "cell_type": "code",
      "metadata": {
        "id": "avionZuFghj8"
      },
      "source": [
        "# Create a custom layer to add a learned end token embedding \n",
        "# to the encoder model using Layer subclassing API \n",
        "# according to the above specification.\n",
        "\n",
        "class EndToken(Layer):\n",
        "    \"\"\"\n",
        "    Takes a batch of English data examples from Datasets, and adds \n",
        "    a learned embedded 'end' token to the end of each sequence.\n",
        "    \"\"\"\n",
        "    def __init__(self, embed_dim, **kwargs):\n",
        "        super(EndToken, self).__init__(**kwargs)\n",
        "        self.embedding = Embedding(input_dim=1,\n",
        "            output_dim=embed_dim, name='end')\n",
        "        \n",
        "    def build(self, input_shape):\n",
        "        self.end_token_replicate = tf.tile(\n",
        "            self.embedding(tf.constant([[0]])), \n",
        "            (input_shape[0], 1, 1))\n",
        "\n",
        "    def call(self, inputs):\n",
        "        return tf.concat([inputs, self.end_token_replicate], \n",
        "            axis=1)\n",
        "\n",
        "# Instantiate the custom layer object\n",
        "# 128 dimensional embedding space\n",
        "embed_dim=128\n",
        "end_token = EndToken(embed_dim)"
      ],
      "execution_count": 21,
      "outputs": []
    },
    {
      "cell_type": "code",
      "metadata": {
        "id": "xm-vBbGh5Zar",
        "colab": {
          "base_uri": "https://localhost:8080/"
        },
        "outputId": "612361aa-b134-4322-b94d-172a3335094f"
      },
      "source": [
        "# Extract a batch of English data examples from the training Dataset.\n",
        "en_train_batch, _ = next(iter(train_dataset.take(1)))\n",
        "# Print the shape before the custom layer\n",
        "print(\"English data batch Tensor shape before the custom end_token layer:\", \n",
        "    en_train_batch.shape)"
      ],
      "execution_count": 22,
      "outputs": [
        {
          "output_type": "stream",
          "text": [
            "English data batch Tensor shape before the custom end_token layer: (16, 13, 128)\n"
          ],
          "name": "stdout"
        }
      ]
    },
    {
      "cell_type": "code",
      "metadata": {
        "id": "ebjK8PmL1ia6",
        "colab": {
          "base_uri": "https://localhost:8080/"
        },
        "outputId": "ec99ed01-80d3-4e09-be12-1f61813d5d3f"
      },
      "source": [
        "# Test the custom layer on the English data batch Tensor \n",
        "# and print the resulting Tensor shape\n",
        "print(\"English data batch Tensor shape after the custom end_token layer:\", \n",
        "    end_token(en_train_batch).shape)\n",
        "\n",
        "# Print the number of trainable variables\n",
        "print('Number of trainable variables in the end_token layer:', \n",
        "    len(end_token.trainable_variables))"
      ],
      "execution_count": 23,
      "outputs": [
        {
          "output_type": "stream",
          "text": [
            "English data batch Tensor shape after the custom end_token layer: (16, 14, 128)\n",
            "Number of trainable variables in the end_token layer: 1\n"
          ],
          "name": "stdout"
        }
      ]
    },
    {
      "cell_type": "markdown",
      "metadata": {
        "id": "OAd3i4_y1ia-"
      },
      "source": [
        "## 4. Build the encoder network\n",
        "The encoder network follows the schematic diagram above. You should now build the RNN encoder model.\n",
        "* Using the functional API, build the encoder network according to the following spec:\n",
        "    * The model will take a batch of sequences of embedded English words as input, as given by the Dataset objects.\n",
        "    * The next layer in the encoder will be the custom layer you created previously, to add a learned end token embedding to the end of the English sequence.\n",
        "    * This is followed by a Masking layer, with the `mask_value` set to the distinct padding value you used when you padded the English sequences with the Dataset preprocessing above.\n",
        "    * The final layer is an LSTM layer with 512 units, which also returns the hidden and cell states.\n",
        "    * The encoder is a multi-output model. There should be two output Tensors of this model: the hidden state and cell states of the LSTM layer. The output of the LSTM layer is unused.\n",
        "* Using the Dataset `.take(1)` method, extract a batch of English data examples from the training Dataset and test the encoder model by calling it on the English data Tensor, and print the shape of the resulting Tensor outputs.\n",
        "* Print the model summary for the encoder network."
      ]
    },
    {
      "cell_type": "code",
      "metadata": {
        "id": "2MrOS1LoFyA9"
      },
      "source": [
        "# Build a RNN encoder model using the functional API\n",
        "# according to the above specification.\n",
        "\n",
        "# Extract a batch of English data examples from the training Dataset.\n",
        "en_train_batch, _ = next(iter(train_dataset.take(1)))\n",
        "\n",
        "# A batch of sequences of embedded English words from Dataset object as input.\n",
        "inputs = Input(batch_shape=en_train_batch.shape)\n",
        "# Add a learned end token embedding to the end of \n",
        "# the English sequence using the end_token layer.\n",
        "h = end_token(inputs)\n",
        "# A Masking layer with the mask_value=0.0.\n",
        "h = Masking(mask_value=0.0)(h)\n",
        "# A LSTM layer with 512 units returns the hidden and cell states.\n",
        "lstm_units=512\n",
        "_, hidden, cell = LSTM(units=lstm_units, return_state=True)(h)\n",
        "\n",
        "# Create the RNN encoder model object\n",
        "encoder = Model(inputs=inputs, outputs=[hidden, cell])"
      ],
      "execution_count": 24,
      "outputs": []
    },
    {
      "cell_type": "code",
      "metadata": {
        "id": "e5XW6NxL1ibC",
        "colab": {
          "base_uri": "https://localhost:8080/"
        },
        "outputId": "01124302-7d8d-4df6-b4a2-23d424830e59"
      },
      "source": [
        "# Extract a batch of English data examples from the training Dataset.\n",
        "en_train_batch, _ = next(iter(train_dataset.take(1)))\n",
        "\n",
        "# Test the encoder model on the English data tensor, \n",
        "# and print the shape of the resulting Tensor outputs.\n",
        "enc_hidden, enc_cell = encoder(en_train_batch)\n",
        "print(\"The shape of Encoder hidden state output: (batch_size, units)\", \n",
        "    enc_hidden.shape)\n",
        "print(\"The shape of Encoder cell state output: (batch_size, units)\", \n",
        "    enc_cell.shape)\n",
        "\n",
        "# Print the number of trainable variables\n",
        "print('Number of trainable variables in the RNN encoder_model:', \n",
        "    len(encoder.trainable_variables))"
      ],
      "execution_count": 25,
      "outputs": [
        {
          "output_type": "stream",
          "text": [
            "The shape of Encoder hidden state output: (batch_size, units) (16, 512)\n",
            "The shape of Encoder cell state output: (batch_size, units) (16, 512)\n",
            "Number of trainable variables in the RNN encoder_model: 4\n"
          ],
          "name": "stdout"
        }
      ]
    },
    {
      "cell_type": "code",
      "metadata": {
        "id": "jEk9ikVh1ibL",
        "colab": {
          "base_uri": "https://localhost:8080/"
        },
        "outputId": "6940874e-9aa5-4b99-ac7e-81bd421cbdf4"
      },
      "source": [
        "# Print the model summary for the encoder network\n",
        "encoder.summary()"
      ],
      "execution_count": 26,
      "outputs": [
        {
          "output_type": "stream",
          "text": [
            "Model: \"model\"\n",
            "_________________________________________________________________\n",
            "Layer (type)                 Output Shape              Param #   \n",
            "=================================================================\n",
            "input_1 (InputLayer)         [(16, 13, 128)]           0         \n",
            "_________________________________________________________________\n",
            "end_token (EndToken)         (16, 14, 128)             128       \n",
            "_________________________________________________________________\n",
            "masking (Masking)            (16, 14, 128)             0         \n",
            "_________________________________________________________________\n",
            "lstm (LSTM)                  [(16, 512), (16, 512), (1 1312768   \n",
            "=================================================================\n",
            "Total params: 1,312,896\n",
            "Trainable params: 1,312,896\n",
            "Non-trainable params: 0\n",
            "_________________________________________________________________\n"
          ],
          "name": "stdout"
        }
      ]
    },
    {
      "cell_type": "code",
      "metadata": {
        "id": "M9vcSXtu4hLp",
        "colab": {
          "base_uri": "https://localhost:8080/",
          "height": 422
        },
        "outputId": "ce37128e-c99b-489b-c952-47d7b79b5ba9"
      },
      "source": [
        "# Plot the Encoder RNN model\n",
        "plot_model(encoder, 'encoder.png', show_shapes=True)"
      ],
      "execution_count": 27,
      "outputs": [
        {
          "output_type": "execute_result",
          "data": {
            "image/png": "[encoded data removed]",
            "text/plain": [
              "<IPython.core.display.Image object>"
            ]
          },
          "metadata": {
            "tags": []
          },
          "execution_count": 27
        }
      ]
    },
    {
      "cell_type": "markdown",
      "metadata": {
        "id": "KvkzpCeZ1ibR"
      },
      "source": [
        "## 5. Build the decoder network\n",
        "The decoder network follows the schematic diagram below.\n",
        "\n",
        "![Decoder schematic](https://github.com/MengOonLee/Deep_learning/blob/master/TensorFlow2/Tutorial/image/neural_translation/neural_translation_model_decoder.png?raw=1)"
      ]
    },
    {
      "cell_type": "markdown",
      "metadata": {
        "id": "VPBK8WGL1ibS"
      },
      "source": [
        "You should now build the RNN decoder model.\n",
        "* Using Model subclassing, build the decoder network according to the following spec:\n",
        "    * The initializer should create the following layers:\n",
        "        * An Embedding layer with vocabulary size set to the number of unique German tokens, embedding dimension 128, and set to mask zero values in the input.\n",
        "        * An LSTM layer with 512 units, that returns its hidden and cell states, and also returns sequences.\n",
        "        * A Dense layer with number of units equal to the number of unique German tokens, and no activation function.\n",
        "    * The call method should include the usual `inputs` argument, as well as the additional keyword arguments `hidden_state` and `cell_state`. The default value for these keyword arguments should be `None`.\n",
        "    * The call method should pass the inputs through the Embedding layer, and then through the LSTM layer. If the `hidden_state` and `cell_state` arguments are provided, these should be used for the initial state of the LSTM layer. _Hint: use the_ `initial_state` _keyword argument when calling the LSTM layer on its input._\n",
        "    * The call method should pass the LSTM output sequence through the Dense layer, and return the resulting Tensor, along with the hidden and cell states of the LSTM layer.\n",
        "* Using the Dataset `.take(1)` method, extract a batch of English and German data examples from the training Dataset. Test the decoder model by first calling the encoder model on the English data Tensor to get the hidden and cell states, and then call the decoder model on the German data Tensor and hidden and cell states, and print the shape of the resulting decoder Tensor outputs.\n",
        "* Print the model summary for the decoder network."
      ]
    },
    {
      "cell_type": "code",
      "metadata": {
        "id": "l50qhnXD1ibT"
      },
      "source": [
        "# Build an RNN decoder model using Model subclassing API\n",
        "# according to the above specification.\n",
        "\n",
        "class Decoder(Model):\n",
        "    \"\"\"\n",
        "    Takes a batch of German data Tensor from the Dataset through an \n",
        "    Embedding layer with vocab_size set to number of unique German \n",
        "    token. It is followed by an LSTM layer with initial state are \n",
        "    provided by the hidden and cell states from the RNN encoder model on \n",
        "    the English data Tensor. The LSTM output sequence is passed through \n",
        "    the final Dense layer, which returns the resulting Tensor, along with \n",
        "    the hidden and cell states of the LSTM layer.\n",
        "    \"\"\"\n",
        "    def __init__(self, vocab_size, embed_dim, lstm_units, **kwargs):\n",
        "        super(Decoder, self).__init__(**kwargs)\n",
        "        # Define layers\n",
        "        self.embedding = Embedding(input_dim=vocab_size, \n",
        "            output_dim=embed_dim, mask_zero=True)\n",
        "        self.lstm = LSTM(units=lstm_units, return_state=True, \n",
        "            return_sequences=True)\n",
        "        self.dense = Dense(units=vocab_size, activation=None)\n",
        "\n",
        "    def call(self, inputs, states=None):\n",
        "        # Define forward pass\n",
        "        h = self.embedding(inputs)\n",
        "        if states is None:\n",
        "            states = self.lstm.get_initial_state(x)\n",
        "        h, _, _ = self.lstm(h, initial_state=states)\n",
        "        outputs = self.dense(h)\n",
        "        return outputs\n",
        "\n",
        "# Vocabulary size set to the number of unique German tokens\n",
        "vocab_size = len(ge_tokenizer.word_index) + 1\n",
        "# 128 dimensional embedding space\n",
        "embed_dim=128\n",
        "# LSTM layer with 512 units\n",
        "lstm_units=512\n",
        "# Instantiate the RNN decoder model object\n",
        "decoder = Decoder(vocab_size, embed_dim, lstm_units)"
      ],
      "execution_count": 28,
      "outputs": []
    },
    {
      "cell_type": "code",
      "metadata": {
        "id": "vG5CRIXV1ibi",
        "colab": {
          "base_uri": "https://localhost:8080/"
        },
        "outputId": "15009e7a-dbe0-4eb0-de77-35cc4c7c05e9"
      },
      "source": [
        "# Extract a batch of English and German data examples \n",
        "# from the training Dataset\n",
        "en_train_batch, ge_train_batch = next(iter(train_dataset.take(1)))\n",
        "\n",
        "# First call the encoder model on the English data Tensor\n",
        "# to get the hidden and cell states\n",
        "enc_hidden, enc_cell = encoder(en_train_batch)\n",
        "\n",
        "# Then test the decoder model on the German data Tensor,\n",
        "# the hidden and cell states from the encoder model, \n",
        "# and print the shape of the resulting decoder Tensor outputs.\n",
        "dec_outputs = decoder(ge_train_batch, \n",
        "    states=[enc_hidden, enc_cell])\n",
        "print(\"The shape of Decoder outputs: (batch_size, sequence_length, units)\", \n",
        "    dec_outputs.shape)\n",
        "\n",
        "# Print the number of trainable variables\n",
        "print('Number of trainable variables in the RNN decoder_model:', \n",
        "    len(decoder.trainable_variables))"
      ],
      "execution_count": 29,
      "outputs": [
        {
          "output_type": "stream",
          "text": [
            "The shape of Decoder outputs: (batch_size, sequence_length, units) (16, 14, 5744)\n",
            "Number of trainable variables in the RNN decoder_model: 6\n"
          ],
          "name": "stdout"
        }
      ]
    },
    {
      "cell_type": "code",
      "metadata": {
        "id": "SvqqT_ET1ibl",
        "colab": {
          "base_uri": "https://localhost:8080/"
        },
        "outputId": "eb453f1d-953e-406c-ab35-fb7b7351f6f7"
      },
      "source": [
        "# Print the model summary for the decoder network.\n",
        "decoder.summary()"
      ],
      "execution_count": 30,
      "outputs": [
        {
          "output_type": "stream",
          "text": [
            "Model: \"decoder\"\n",
            "_________________________________________________________________\n",
            "Layer (type)                 Output Shape              Param #   \n",
            "=================================================================\n",
            "embedding (Embedding)        multiple                  735232    \n",
            "_________________________________________________________________\n",
            "lstm_1 (LSTM)                multiple                  1312768   \n",
            "_________________________________________________________________\n",
            "dense (Dense)                multiple                  2946672   \n",
            "=================================================================\n",
            "Total params: 4,994,672\n",
            "Trainable params: 4,994,672\n",
            "Non-trainable params: 0\n",
            "_________________________________________________________________\n"
          ],
          "name": "stdout"
        }
      ]
    },
    {
      "cell_type": "markdown",
      "metadata": {
        "id": "pST9XGJ81ibo"
      },
      "source": [
        "## 6. Make a custom training loop\n",
        "You should now write a custom training loop to train your custom neural translation model.\n",
        "* Define a function that takes a Tensor batch of German data (as extracted from the training Dataset), and returns a tuple containing German inputs and outputs for the decoder model (refer to schematic diagram above).\n",
        "* Define a function that computes the forward and backward pass for your translation model. This function should take an English input, German input and German output as arguments, and should do the following:\n",
        "    * Pass the English input into the encoder, to get the hidden and cell states of the encoder LSTM.\n",
        "    * These hidden and cell states are then passed into the decoder, along with the German inputs, which returns a sequence of outputs (the hidden and cell state outputs of the decoder LSTM are unused in this function).\n",
        "    * The loss should then be computed between the decoder outputs and the German output function argument.\n",
        "    * The function returns the loss and gradients with respect to the encoder and decoder’s trainable variables.\n",
        "    * Decorate the function with `@tf.function`\n",
        "* Define and run a custom training loop for a number of epochs (for you to choose) that does the following:\n",
        "    * Iterates through the training dataset, and creates decoder inputs and outputs from the German sequences.\n",
        "    * Updates the parameters of the translation model using the gradients of the function above and an optimizer object.\n",
        "    * Every epoch, compute the validation loss on a number of batches from the validation and save the epoch training and validation losses.\n",
        "* Plot the learning curves for loss vs epoch for both training and validation sets.\n",
        "\n",
        "_Hint: This model is computationally demanding to train. The quality of the model or length of training is not a factor in the grading rubric. However, to obtain a better model we recommend using the GPU accelerator hardware on Colab._"
      ]
    },
    {
      "cell_type": "code",
      "metadata": {
        "id": "7hJHbWqs1ibr",
        "colab": {
          "base_uri": "https://localhost:8080/"
        },
        "outputId": "0a252f7a-d7c5-4d2f-88df-ffd23491c34b"
      },
      "source": [
        "def split_inputs_targets(sequences):\n",
        "    \"\"\"\n",
        "    Takes an array of token sequences, and returns \n",
        "    a tuple of decoder inputs and targets.\n",
        "    \"\"\"\n",
        "    dec_inputs = sequences[:, :-1]\n",
        "    dec_targets = sequences[:, 1:]\n",
        "    return dec_inputs, dec_targets\n",
        "\n",
        "# Extract a Tensor batch of German data from the training Dataset.\n",
        "_, ge_train_batch = next(iter(train_dataset.take(1)))\n",
        "\n",
        "# Create a tuple containing German inputs and targets \n",
        "# for the decoder model.\n",
        "dec_inputs, dec_targets = split_inputs_targets(ge_train_batch)\n",
        "\n",
        "# Print the decoder inputs.\n",
        "print(\"The decoder inputs:\\n\", dec_inputs.numpy())\n",
        "# Print the decoder targets.\n",
        "print(\"The decoder targets:\\n\", dec_targets.numpy())"
      ],
      "execution_count": 31,
      "outputs": [
        {
          "output_type": "stream",
          "text": [
            "The decoder inputs:\n",
            " [[   1   16    5  597    7    2    0    0    0    0    0    0    0]\n",
            " [   1    4  122   53    3    2    0    0    0    0    0    0    0]\n",
            " [   1   11    6   46  225    3    2    0    0    0    0    0    0]\n",
            " [   1   13   32   49    3    2    0    0    0    0    0    0    0]\n",
            " [   1    4   18    5  141  116    3    2    0    0    0    0    0]\n",
            " [   1    4  468   33    3    2    0    0    0    0    0    0    0]\n",
            " [   1   17 1701   10    3    2    0    0    0    0    0    0    0]\n",
            " [   1    4   15 1560    3    2    0    0    0    0    0    0    0]\n",
            " [   1    5    6  141  324    3    2    0    0    0    0    0    0]\n",
            " [   1    4   66   40 1554    3    2    0    0    0    0    0    0]\n",
            " [   1  111   10   29  402  542    3    2    0    0    0    0    0]\n",
            " [   1    5   16   11  182    3    2    0    0    0    0    0    0]\n",
            " [   1   99    6 1441    3    2    0    0    0    0    0    0    0]\n",
            " [   1 1011   11  325    7    2    0    0    0    0    0    0    0]\n",
            " [   1    4   39  409  222    3    2    0    0    0    0    0    0]\n",
            " [   1    4   39  154 2729    3    2    0    0    0    0    0    0]]\n",
            "The decoder targets:\n",
            " [[  16    5  597    7    2    0    0    0    0    0    0    0    0]\n",
            " [   4  122   53    3    2    0    0    0    0    0    0    0    0]\n",
            " [  11    6   46  225    3    2    0    0    0    0    0    0    0]\n",
            " [  13   32   49    3    2    0    0    0    0    0    0    0    0]\n",
            " [   4   18    5  141  116    3    2    0    0    0    0    0    0]\n",
            " [   4  468   33    3    2    0    0    0    0    0    0    0    0]\n",
            " [  17 1701   10    3    2    0    0    0    0    0    0    0    0]\n",
            " [   4   15 1560    3    2    0    0    0    0    0    0    0    0]\n",
            " [   5    6  141  324    3    2    0    0    0    0    0    0    0]\n",
            " [   4   66   40 1554    3    2    0    0    0    0    0    0    0]\n",
            " [ 111   10   29  402  542    3    2    0    0    0    0    0    0]\n",
            " [   5   16   11  182    3    2    0    0    0    0    0    0    0]\n",
            " [  99    6 1441    3    2    0    0    0    0    0    0    0    0]\n",
            " [1011   11  325    7    2    0    0    0    0    0    0    0    0]\n",
            " [   4   39  409  222    3    2    0    0    0    0    0    0    0]\n",
            " [   4   39  154 2729    3    2    0    0    0    0    0    0    0]]\n"
          ],
          "name": "stdout"
        }
      ]
    },
    {
      "cell_type": "code",
      "metadata": {
        "id": "Jvu4J4-u1ibu"
      },
      "source": [
        "# Define the Adam optimizer and categorical cross entropy loss \n",
        "optimizer = Adam(learning_rate=0.001)\n",
        "loss_object = SparseCategoricalCrossentropy(from_logits=True)\n",
        "# Define the encoder and decoder's trainable variables\n",
        "train_variables = encoder.trainable_variables \\\n",
        "    + decoder.trainable_variables\n",
        "\n",
        "# Define a function that computes the forward and backward pass \n",
        "# for the translation model according to the above specification.\n",
        "# Use the @tf.function decorator\n",
        "@tf.function\n",
        "def get_loss_and_grad(enc_inputs, dec_inputs, dec_targets):\n",
        "    \"\"\"\n",
        "    Compute a loss and gradient of the encoder and decoder models, \n",
        "    corresponding to the encoder inputs, decoder inputs and targets.\n",
        "    \"\"\"\n",
        "    with tf.GradientTape() as tape:\n",
        "        # Pass enc_inputs into the encoder to get \n",
        "        # enc_hidden and enc_cell states of the encoder LSTM.\n",
        "        enc_hidden, enc_cell = encoder(enc_inputs)\n",
        "        # Pass enc_hidden and enc_cell states into the decoder, \n",
        "        # along with dec_inputs to get dec_outputs\n",
        "        dec_outputs = decoder(dec_inputs, \n",
        "            states=[enc_hidden, enc_cell])\n",
        "        # Compute loss between dec_targets and dec_outputs\n",
        "        loss = loss_object(y_true=dec_targets, y_pred=dec_outputs)\n",
        "        # Compute gradient with respect to the trainable variables\n",
        "        grad = tape.gradient(loss, train_variables)\n",
        "    return loss, grad"
      ],
      "execution_count": 32,
      "outputs": []
    },
    {
      "cell_type": "code",
      "metadata": {
        "id": "Vl5H06811ibx"
      },
      "source": [
        "# Define a custom training loop for a number of epochs\n",
        "# according to the above specification\n",
        "\n",
        "def train_step(num_epochs, dataset):\n",
        "    \"\"\"\n",
        "    Implement a custom training loop and return \n",
        "    a list of loss values per epoch.\n",
        "    \"\"\"\n",
        "    # Keep results for plotting\n",
        "    train_loss = []\n",
        "\n",
        "    for epoch in range(num_epochs):\n",
        "        epoch_loss_avg = Mean()\n",
        "        # Training loop\n",
        "        for x, y in dataset:\n",
        "            dec_inputs, dec_targets = split_inputs_targets(y)\n",
        "            # Optimize the model\n",
        "            loss, gradients = get_loss_and_grad(x, dec_inputs, dec_targets)\n",
        "            optimizer.apply_gradients([(grad, var) \n",
        "                for (grad, var) in zip(gradients, train_variables) \n",
        "                if grad is not None])\n",
        "            # Compute current avg loss\n",
        "            epoch_loss_avg(loss)\n",
        "\n",
        "        # End epoch\n",
        "        train_loss.append(epoch_loss_avg.result())\n",
        "        print(\"Epoch {:03d}: Loss: {:.3f}\".format(epoch, \n",
        "            epoch_loss_avg.result()))\n",
        "        \n",
        "    return train_loss"
      ],
      "execution_count": 36,
      "outputs": []
    },
    {
      "cell_type": "code",
      "metadata": {
        "id": "MVWOYJ3l1ib1",
        "colab": {
          "base_uri": "https://localhost:8080/"
        },
        "outputId": "c992d416-c5a9-4572-8b35-39bc06747089"
      },
      "source": [
        "# Execute the training process\n",
        "train_loss = train_step(10, train_dataset)"
      ],
      "execution_count": 39,
      "outputs": [
        {
          "output_type": "stream",
          "text": [
            "Epoch 000: Loss: 2.583\n",
            "Epoch 001: Loss: 1.838\n",
            "Epoch 002: Loss: 1.214\n",
            "Epoch 003: Loss: 0.770\n",
            "Epoch 004: Loss: 0.504\n",
            "Epoch 005: Loss: 0.350\n",
            "Epoch 006: Loss: 0.258\n",
            "Epoch 007: Loss: 0.198\n",
            "Epoch 008: Loss: 0.157\n",
            "Epoch 009: Loss: 0.130\n"
          ],
          "name": "stdout"
        }
      ]
    },
    {
      "cell_type": "code",
      "metadata": {
        "id": "qlhM33vry6Ld",
        "outputId": "c9056df8-e114-4181-d16b-19f989e6d3c8",
        "colab": {
          "base_uri": "https://localhost:8080/"
        }
      },
      "source": [
        "train_variables"
      ],
      "execution_count": 40,
      "outputs": [
        {
          "output_type": "execute_result",
          "data": {
            "text/plain": [
              "[<tf.Variable 'end_token/end/embeddings:0' shape=(1, 128) dtype=float32, numpy=\n",
              " array([[ 3.12900878e-02,  2.14754231e-02, -6.92326948e-03,\n",
              "          4.73564006e-02,  4.87034805e-02, -3.83514389e-02,\n",
              "          1.05912574e-02, -8.45072418e-03,  5.91878965e-03,\n",
              "          4.76514436e-02, -4.60974947e-02, -1.34797022e-03,\n",
              "         -3.53027135e-04,  1.26782805e-03,  3.98176201e-02,\n",
              "         -1.56571381e-02, -2.57774126e-02,  4.90021817e-02,\n",
              "          1.27523877e-02, -6.38474151e-03,  4.11606096e-02,\n",
              "          2.01963522e-02, -4.12106626e-02, -2.16991659e-02,\n",
              "         -4.46912646e-02, -2.94525865e-02,  2.35789306e-02,\n",
              "          4.52072285e-02, -4.71632965e-02, -1.57035366e-02,\n",
              "          4.27693985e-02,  7.85585493e-03,  4.39479090e-02,\n",
              "         -2.18966138e-02, -3.63912955e-02,  1.71024241e-02,\n",
              "          1.01164803e-02, -1.10272765e-02,  5.93695790e-03,\n",
              "          5.51493093e-03, -9.64953750e-03, -1.27276070e-02,\n",
              "         -4.24649231e-02,  1.83427334e-03, -3.95485051e-02,\n",
              "         -3.55404019e-02, -5.43941185e-03, -2.58522518e-02,\n",
              "         -2.70502213e-02, -2.04440244e-02, -6.65450096e-03,\n",
              "         -9.72688198e-03, -5.05501032e-03,  3.97287346e-02,\n",
              "         -3.03040631e-02,  3.22569646e-02,  2.38080062e-02,\n",
              "         -3.25328484e-02, -1.68491006e-02, -3.72658372e-02,\n",
              "         -1.41594298e-02,  1.74545161e-02,  7.76015595e-03,\n",
              "          2.13442780e-02, -4.70301174e-02, -1.43706314e-02,\n",
              "          1.92257650e-02, -3.18307765e-02,  1.67935602e-02,\n",
              "          4.92381342e-02,  2.87334435e-02, -4.38623503e-03,\n",
              "         -1.91350579e-02, -3.97937521e-02,  5.26551157e-03,\n",
              "          4.87754010e-02,  3.95301618e-02, -3.65143046e-02,\n",
              "         -3.05557847e-02,  4.68480475e-02,  3.14704515e-02,\n",
              "          2.16388218e-02, -9.74135473e-03, -2.74136551e-02,\n",
              "          3.80656011e-02,  3.25474031e-02, -1.89711694e-02,\n",
              "         -3.13154832e-02,  3.87309454e-02,  2.81597860e-02,\n",
              "          2.82156952e-02,  3.84279229e-02,  4.95376438e-03,\n",
              "          4.76849936e-02, -1.16028562e-02, -3.69060859e-02,\n",
              "         -4.31333184e-02, -2.02124957e-02,  2.31437571e-02,\n",
              "         -1.71520710e-02, -1.30641945e-02, -1.90375000e-03,\n",
              "          4.29366566e-02, -4.14357409e-02, -2.83200871e-02,\n",
              "          3.83865125e-02, -6.50900602e-03,  1.81888007e-02,\n",
              "         -1.85610056e-02,  5.89829683e-03,  3.55536006e-02,\n",
              "         -8.47757980e-03,  3.40732075e-02, -9.75614786e-03,\n",
              "         -2.58180629e-02, -3.31600197e-02,  3.38435285e-02,\n",
              "         -1.36869662e-02, -4.20452952e-02, -2.10885294e-02,\n",
              "          4.24152501e-02,  3.12128104e-02, -5.66355884e-05,\n",
              "         -1.88815594e-03, -2.43899953e-02,  4.15742882e-02,\n",
              "         -3.10036074e-02, -3.09497844e-02]], dtype=float32)>,\n",
              " <tf.Variable 'lstm/lstm_cell/kernel:0' shape=(128, 2048) dtype=float32, numpy=\n",
              " array([[-0.43127272, -0.22387598, -0.19353662, ..., -0.07668883,\n",
              "         -0.55995804, -0.07950521],\n",
              "        [ 0.07688721, -0.11267082, -0.18261857, ...,  0.08590106,\n",
              "          0.32550427, -0.39735183],\n",
              "        [-0.18524542, -0.09582526,  0.11651859, ...,  0.2049782 ,\n",
              "          0.11413389,  0.00486443],\n",
              "        ...,\n",
              "        [ 0.15975243,  0.03471098, -0.12532736, ...,  0.07765485,\n",
              "          0.34781882,  0.01831708],\n",
              "        [-0.09246838,  0.36253554,  0.15643883, ...,  0.12632437,\n",
              "          0.07768761,  0.08130257],\n",
              "        [-0.1799863 ,  0.04518165,  0.16843142, ..., -0.2034129 ,\n",
              "         -0.19432402,  0.28304788]], dtype=float32)>,\n",
              " <tf.Variable 'lstm/lstm_cell/recurrent_kernel:0' shape=(512, 2048) dtype=float32, numpy=\n",
              " array([[-0.21664502, -0.131702  ,  0.04264356, ..., -0.04463876,\n",
              "         -0.35344398,  0.06622674],\n",
              "        [ 0.10777187, -0.2042033 , -0.0610887 , ...,  0.17192338,\n",
              "          0.14930564,  0.09910414],\n",
              "        [-0.00752009, -0.20287718, -0.12039159, ...,  0.13124532,\n",
              "          0.07096675, -0.07218597],\n",
              "        ...,\n",
              "        [ 0.12574951,  0.01480427, -0.09215212, ...,  0.29081273,\n",
              "          0.19307287,  0.45343676],\n",
              "        [-0.01075215,  0.07804731,  0.13812317, ...,  0.1844343 ,\n",
              "          0.2537737 ,  0.17298082],\n",
              "        [-0.11652732, -0.19638431, -0.16776802, ...,  0.05155566,\n",
              "          0.02510912,  0.09375481]], dtype=float32)>,\n",
              " <tf.Variable 'lstm/lstm_cell/bias:0' shape=(2048,) dtype=float32, numpy=\n",
              " array([-0.33405983, -0.16431423, -0.1126627 , ..., -0.2858682 ,\n",
              "        -0.31029812, -0.34696853], dtype=float32)>,\n",
              " <tf.Variable 'decoder/embedding/embeddings:0' shape=(5744, 128) dtype=float32, numpy=\n",
              " array([[ 0.01035643,  0.03537232,  0.00998974, ..., -0.00505067,\n",
              "          0.02107378,  0.00120058],\n",
              "        [ 0.08783383, -0.08718317,  0.02069832, ...,  0.01362319,\n",
              "          0.02562846, -0.01054226],\n",
              "        [-0.5258129 ,  0.5823601 ,  0.33526346, ..., -0.2455743 ,\n",
              "          0.08817043,  0.17786044],\n",
              "        ...,\n",
              "        [ 0.13897285, -0.11627101, -0.06150752, ...,  0.15566246,\n",
              "          0.06723584,  0.09947212],\n",
              "        [ 0.04514631, -0.01745319,  0.02788975, ..., -0.03068272,\n",
              "         -0.03307687,  0.01608837],\n",
              "        [-0.15312341, -0.02534154,  0.08159085, ..., -0.10473724,\n",
              "          0.10776508, -0.17500913]], dtype=float32)>,\n",
              " <tf.Variable 'decoder/lstm_1/lstm_cell_1/kernel:0' shape=(128, 2048) dtype=float32, numpy=\n",
              " array([[ 0.09478803, -0.03756302, -0.02545038, ...,  0.05209054,\n",
              "         -0.00745132, -0.20793788],\n",
              "        [ 0.2144505 ,  0.08561193,  0.01970199, ...,  0.09303555,\n",
              "         -0.70935214,  0.30077645],\n",
              "        [ 0.08766573,  0.18001723,  0.01722732, ...,  0.12134291,\n",
              "         -0.07795096, -0.15008523],\n",
              "        ...,\n",
              "        [-0.02217134, -0.0330362 , -0.02030547, ..., -0.17311677,\n",
              "          0.44638598, -0.30302703],\n",
              "        [ 0.0935025 ,  0.26086646, -0.09546009, ..., -0.21686858,\n",
              "         -0.16737333,  0.21230985],\n",
              "        [-0.10830979, -0.09461931,  0.08555818, ...,  0.04534969,\n",
              "         -0.5122662 , -0.05194471]], dtype=float32)>,\n",
              " <tf.Variable 'decoder/lstm_1/lstm_cell_1/recurrent_kernel:0' shape=(512, 2048) dtype=float32, numpy=\n",
              " array([[ 0.19499433,  0.1075313 , -0.01337066, ..., -0.06001564,\n",
              "         -0.14011271, -0.0856543 ],\n",
              "        [-0.08471679, -0.21452953,  0.1025313 , ..., -0.1007089 ,\n",
              "          0.09855908, -0.02887838],\n",
              "        [-0.13764587, -0.15892036, -0.25094068, ..., -0.08979538,\n",
              "          0.00879375, -0.22965951],\n",
              "        ...,\n",
              "        [ 0.20369966,  0.01540958,  0.11151897, ...,  0.39280394,\n",
              "          0.16473128,  0.12305682],\n",
              "        [ 0.1383078 ,  0.00961113,  0.02170334, ...,  0.27221152,\n",
              "         -0.10710151,  0.3383771 ],\n",
              "        [-0.2464702 ,  0.14585933, -0.15526713, ...,  0.110483  ,\n",
              "          0.2418576 , -0.13960342]], dtype=float32)>,\n",
              " <tf.Variable 'decoder/lstm_1/lstm_cell_1/bias:0' shape=(2048,) dtype=float32, numpy=\n",
              " array([0.21405508, 0.14643303, 0.075826  , ..., 0.42632854, 0.13703646,\n",
              "        0.26226902], dtype=float32)>,\n",
              " <tf.Variable 'decoder/dense/kernel:0' shape=(512, 5744) dtype=float32, numpy=\n",
              " array([[-0.0816521 ,  0.0740543 ,  0.12089451, ..., -0.13345024,\n",
              "          0.08107819,  0.15840285],\n",
              "        [ 0.2200668 ,  0.12827618,  0.31601086, ...,  0.08690111,\n",
              "          0.1516494 ,  0.38320544],\n",
              "        [ 0.26110536,  0.23992302,  0.00988778, ...,  0.40578204,\n",
              "          0.23948209,  0.2193214 ],\n",
              "        ...,\n",
              "        [-0.16849348, -0.1052226 , -0.18764289, ..., -0.01870047,\n",
              "         -0.07835928, -0.15326865],\n",
              "        [-0.13631664, -0.10439517,  0.18497738, ..., -0.06483725,\n",
              "         -0.08473282, -0.1300166 ],\n",
              "        [-0.03016431, -0.05177553,  0.14194304, ..., -0.33182427,\n",
              "         -0.06769208,  0.04947432]], dtype=float32)>,\n",
              " <tf.Variable 'decoder/dense/bias:0' shape=(5744,) dtype=float32, numpy=\n",
              " array([ 9.429191 , -5.9022264, -1.8132937, ..., -3.461367 , -5.9007864,\n",
              "        -3.6158915], dtype=float32)>]"
            ]
          },
          "metadata": {
            "tags": []
          },
          "execution_count": 40
        }
      ]
    },
    {
      "cell_type": "code",
      "metadata": {
        "id": "6VSmBdwT1ib4",
        "colab": {
          "base_uri": "https://localhost:8080/"
        },
        "outputId": "7609713d-08b1-4c40-c926-c57e845133f6"
      },
      "source": [
        "train_variables"
      ],
      "execution_count": 38,
      "outputs": [
        {
          "output_type": "execute_result",
          "data": {
            "text/plain": [
              "[<tf.Variable 'end_token/end/embeddings:0' shape=(1, 128) dtype=float32, numpy=\n",
              " array([[ 3.12900878e-02,  2.14754231e-02, -6.92326948e-03,\n",
              "          4.73564006e-02,  4.87034805e-02, -3.83514389e-02,\n",
              "          1.05912574e-02, -8.45072418e-03,  5.91878965e-03,\n",
              "          4.76514436e-02, -4.60974947e-02, -1.34797022e-03,\n",
              "         -3.53027135e-04,  1.26782805e-03,  3.98176201e-02,\n",
              "         -1.56571381e-02, -2.57774126e-02,  4.90021817e-02,\n",
              "          1.27523877e-02, -6.38474151e-03,  4.11606096e-02,\n",
              "          2.01963522e-02, -4.12106626e-02, -2.16991659e-02,\n",
              "         -4.46912646e-02, -2.94525865e-02,  2.35789306e-02,\n",
              "          4.52072285e-02, -4.71632965e-02, -1.57035366e-02,\n",
              "          4.27693985e-02,  7.85585493e-03,  4.39479090e-02,\n",
              "         -2.18966138e-02, -3.63912955e-02,  1.71024241e-02,\n",
              "          1.01164803e-02, -1.10272765e-02,  5.93695790e-03,\n",
              "          5.51493093e-03, -9.64953750e-03, -1.27276070e-02,\n",
              "         -4.24649231e-02,  1.83427334e-03, -3.95485051e-02,\n",
              "         -3.55404019e-02, -5.43941185e-03, -2.58522518e-02,\n",
              "         -2.70502213e-02, -2.04440244e-02, -6.65450096e-03,\n",
              "         -9.72688198e-03, -5.05501032e-03,  3.97287346e-02,\n",
              "         -3.03040631e-02,  3.22569646e-02,  2.38080062e-02,\n",
              "         -3.25328484e-02, -1.68491006e-02, -3.72658372e-02,\n",
              "         -1.41594298e-02,  1.74545161e-02,  7.76015595e-03,\n",
              "          2.13442780e-02, -4.70301174e-02, -1.43706314e-02,\n",
              "          1.92257650e-02, -3.18307765e-02,  1.67935602e-02,\n",
              "          4.92381342e-02,  2.87334435e-02, -4.38623503e-03,\n",
              "         -1.91350579e-02, -3.97937521e-02,  5.26551157e-03,\n",
              "          4.87754010e-02,  3.95301618e-02, -3.65143046e-02,\n",
              "         -3.05557847e-02,  4.68480475e-02,  3.14704515e-02,\n",
              "          2.16388218e-02, -9.74135473e-03, -2.74136551e-02,\n",
              "          3.80656011e-02,  3.25474031e-02, -1.89711694e-02,\n",
              "         -3.13154832e-02,  3.87309454e-02,  2.81597860e-02,\n",
              "          2.82156952e-02,  3.84279229e-02,  4.95376438e-03,\n",
              "          4.76849936e-02, -1.16028562e-02, -3.69060859e-02,\n",
              "         -4.31333184e-02, -2.02124957e-02,  2.31437571e-02,\n",
              "         -1.71520710e-02, -1.30641945e-02, -1.90375000e-03,\n",
              "          4.29366566e-02, -4.14357409e-02, -2.83200871e-02,\n",
              "          3.83865125e-02, -6.50900602e-03,  1.81888007e-02,\n",
              "         -1.85610056e-02,  5.89829683e-03,  3.55536006e-02,\n",
              "         -8.47757980e-03,  3.40732075e-02, -9.75614786e-03,\n",
              "         -2.58180629e-02, -3.31600197e-02,  3.38435285e-02,\n",
              "         -1.36869662e-02, -4.20452952e-02, -2.10885294e-02,\n",
              "          4.24152501e-02,  3.12128104e-02, -5.66355884e-05,\n",
              "         -1.88815594e-03, -2.43899953e-02,  4.15742882e-02,\n",
              "         -3.10036074e-02, -3.09497844e-02]], dtype=float32)>,\n",
              " <tf.Variable 'lstm/lstm_cell/kernel:0' shape=(128, 2048) dtype=float32, numpy=\n",
              " array([[-0.11401615, -0.09091944,  0.00502582, ...,  0.05409783,\n",
              "         -0.18616036, -0.02986881],\n",
              "        [ 0.04256425,  0.077576  ,  0.02034099, ...,  0.08195224,\n",
              "          0.0406376 , -0.24827664],\n",
              "        [ 0.10544229, -0.01512246, -0.04682751, ...,  0.12026177,\n",
              "         -0.06206784,  0.13457458],\n",
              "        ...,\n",
              "        [ 0.1568611 ,  0.03184175,  0.06475122, ...,  0.03490192,\n",
              "          0.04962925, -0.02831212],\n",
              "        [-0.03031617,  0.13026088,  0.00341608, ...,  0.00392096,\n",
              "         -0.10418562, -0.13573053],\n",
              "        [-0.1166857 ,  0.02509283, -0.0664877 , ..., -0.09132443,\n",
              "          0.11660137,  0.1250997 ]], dtype=float32)>,\n",
              " <tf.Variable 'lstm/lstm_cell/recurrent_kernel:0' shape=(512, 2048) dtype=float32, numpy=\n",
              " array([[-4.8137709e-02, -7.0047155e-03, -2.7585456e-02, ...,\n",
              "         -5.7070295e-04, -1.8318917e-01, -4.5868126e-03],\n",
              "        [ 5.4823998e-02, -8.3962753e-02, -6.2724985e-02, ...,\n",
              "          7.4501537e-02,  3.7130248e-02,  2.4192361e-03],\n",
              "        [ 9.7507145e-06,  1.4820964e-02, -1.9888733e-02, ...,\n",
              "          3.7917323e-02, -1.2142236e-02,  7.8041274e-03],\n",
              "        ...,\n",
              "        [ 2.8814636e-02, -3.9496988e-02, -1.3048330e-02, ...,\n",
              "          8.2881950e-02,  6.6369273e-02,  1.7427637e-01],\n",
              "        [-2.8646193e-02, -6.9174479e-04,  9.3434215e-02, ...,\n",
              "          2.8511472e-02,  6.6774711e-02,  2.2320367e-02],\n",
              "        [-1.6836357e-01,  3.3114556e-02, -4.8397012e-02, ...,\n",
              "         -3.4034912e-02, -4.4215340e-02, -6.8067394e-02]], dtype=float32)>,\n",
              " <tf.Variable 'lstm/lstm_cell/bias:0' shape=(2048,) dtype=float32, numpy=\n",
              " array([-0.08473782, -0.08532911, -0.03490546, ...,  0.004245  ,\n",
              "        -0.12502004, -0.0373482 ], dtype=float32)>,\n",
              " <tf.Variable 'decoder/embedding/embeddings:0' shape=(5744, 128) dtype=float32, numpy=\n",
              " array([[ 0.01035643,  0.03537232,  0.00998974, ..., -0.00505067,\n",
              "          0.02107378,  0.00120058],\n",
              "        [ 0.09669678, -0.09537783,  0.02627211, ..., -0.03203812,\n",
              "         -0.00158203, -0.04595171],\n",
              "        [-0.3844288 ,  0.2793177 ,  0.21724229, ..., -0.24217215,\n",
              "          0.2411249 ,  0.13893941],\n",
              "        ...,\n",
              "        [ 0.0395609 , -0.02656126, -0.06562679, ...,  0.05447038,\n",
              "         -0.01460725, -0.00728894],\n",
              "        [ 0.04514631, -0.01745319,  0.02788975, ..., -0.03068272,\n",
              "         -0.03307687,  0.01608837],\n",
              "        [ 0.03131876,  0.0214631 ,  0.03544682, ...,  0.01782262,\n",
              "         -0.04535422, -0.01512616]], dtype=float32)>,\n",
              " <tf.Variable 'decoder/lstm_1/lstm_cell_1/kernel:0' shape=(128, 2048) dtype=float32, numpy=\n",
              " array([[-0.00473131,  0.07267359,  0.09177563, ...,  0.0936059 ,\n",
              "         -0.01663445, -0.11041269],\n",
              "        [ 0.12772034,  0.04111953, -0.03742297, ..., -0.08266629,\n",
              "         -0.5083624 ,  0.23970796],\n",
              "        [ 0.07873374,  0.11125035, -0.00207948, ...,  0.01719304,\n",
              "         -0.27324602,  0.20469007],\n",
              "        ...,\n",
              "        [ 0.10037454, -0.03121891, -0.12386695, ..., -0.00586142,\n",
              "          0.32785806, -0.3439228 ],\n",
              "        [ 0.04991376,  0.06235937, -0.10949862, ..., -0.12392911,\n",
              "         -0.3461722 ,  0.1536179 ],\n",
              "        [ 0.08047331,  0.03589411,  0.02132543, ..., -0.07791305,\n",
              "         -0.2817705 ,  0.06534202]], dtype=float32)>,\n",
              " <tf.Variable 'decoder/lstm_1/lstm_cell_1/recurrent_kernel:0' shape=(512, 2048) dtype=float32, numpy=\n",
              " array([[ 0.0368497 ,  0.00398737, -0.04395724, ..., -0.08363223,\n",
              "          0.0290478 , -0.07048379],\n",
              "        [-0.01344586, -0.08451331, -0.00435091, ..., -0.02748975,\n",
              "          0.01147767, -0.0228041 ],\n",
              "        [-0.06193959, -0.08192176,  0.00751837, ..., -0.11969504,\n",
              "         -0.02739173, -0.10267957],\n",
              "        ...,\n",
              "        [-0.00267623,  0.00440272,  0.1114432 , ...,  0.12335475,\n",
              "          0.04950047, -0.00166496],\n",
              "        [ 0.03097946, -0.09957967,  0.07546555, ...,  0.06821685,\n",
              "         -0.01128286,  0.17556064],\n",
              "        [-0.08020308,  0.01047488, -0.01799674, ...,  0.09114899,\n",
              "          0.07766498, -0.03616287]], dtype=float32)>,\n",
              " <tf.Variable 'decoder/lstm_1/lstm_cell_1/bias:0' shape=(2048,) dtype=float32, numpy=\n",
              " array([ 0.08074583,  0.02637014,  0.01320357, ...,  0.28587234,\n",
              "        -0.00279547,  0.16069202], dtype=float32)>,\n",
              " <tf.Variable 'decoder/dense/kernel:0' shape=(512, 5744) dtype=float32, numpy=\n",
              " array([[-7.40959793e-02,  7.33833462e-02,  3.37374471e-02, ...,\n",
              "         -3.36371176e-03,  8.06104392e-02,  5.81884235e-02],\n",
              "        [ 2.52068937e-02,  1.17011294e-01,  4.29013856e-02, ...,\n",
              "          6.30040616e-02,  1.40514463e-01,  7.33257011e-02],\n",
              "        [ 1.85569618e-02,  2.20553562e-01, -1.86069664e-02, ...,\n",
              "          1.67312384e-01,  2.20885128e-01,  3.85637991e-02],\n",
              "        ...,\n",
              "        [-6.78566918e-02, -7.58099183e-02, -1.27416030e-01, ...,\n",
              "         -5.18621132e-02, -4.85713072e-02, -3.10431011e-02],\n",
              "        [-3.19223627e-02, -9.54167396e-02,  8.43225792e-02, ...,\n",
              "         -4.18208838e-02, -7.34380260e-02, -6.61452562e-02],\n",
              "        [-9.19032693e-02, -3.44150886e-02, -1.27151795e-02, ...,\n",
              "         -1.70541123e-01, -5.46666756e-02,  7.20470853e-05]], dtype=float32)>,\n",
              " <tf.Variable 'decoder/dense/bias:0' shape=(5744,) dtype=float32, numpy=\n",
              " array([ 2.9867992 , -2.309798  , -0.19157438, ..., -1.4336213 ,\n",
              "        -2.3084266 , -1.3836178 ], dtype=float32)>]"
            ]
          },
          "metadata": {
            "tags": []
          },
          "execution_count": 38
        }
      ]
    },
    {
      "cell_type": "code",
      "metadata": {
        "id": "dpacst2F1ib7"
      },
      "source": [
        ""
      ],
      "execution_count": null,
      "outputs": []
    },
    {
      "cell_type": "markdown",
      "metadata": {
        "id": "xM2gvBM11ib-"
      },
      "source": [
        "## 7. Use the model to translate\n",
        "Now it's time to put your model into practice! You should run your translation for five randomly sampled English sentences from the dataset. For each sentence, the process is as follows:\n",
        "* Preprocess and embed the English sentence according to the model requirements.\n",
        "* Pass the embedded sentence through the encoder to get the encoder hidden and cell states.\n",
        "* Starting with the special  `\"<start>\"` token, use this token and the final encoder hidden and cell states to get the one-step prediction from the decoder, as well as the decoder’s updated hidden and cell states.\n",
        "* Create a loop to get the next step prediction and updated hidden and cell states from the decoder, using the most recent hidden and cell states. Terminate the loop when the `\"<end>\"` token is emitted, or when the sentence has reached a maximum length.\n",
        "* Decode the output token sequence into German text and print the English text and the model's German translation."
      ]
    },
    {
      "cell_type": "code",
      "metadata": {
        "id": "bGnQtE7L1icA"
      },
      "source": [
        ""
      ],
      "execution_count": null,
      "outputs": []
    },
    {
      "cell_type": "code",
      "metadata": {
        "id": "ohleJRcJ1icD"
      },
      "source": [
        ""
      ],
      "execution_count": null,
      "outputs": []
    },
    {
      "cell_type": "code",
      "metadata": {
        "id": "Unk60cEy1icI"
      },
      "source": [
        ""
      ],
      "execution_count": null,
      "outputs": []
    }
  ]
}