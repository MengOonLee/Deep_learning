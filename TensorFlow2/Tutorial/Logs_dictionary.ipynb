{
  "nbformat": 4,
  "nbformat_minor": 0,
  "metadata": {
    "kernelspec": {
      "display_name": "Python 3",
      "language": "python",
      "name": "python3"
    },
    "language_info": {
      "codemirror_mode": {
        "name": "ipython",
        "version": 3
      },
      "file_extension": ".py",
      "mimetype": "text/x-python",
      "name": "python",
      "nbconvert_exporter": "python",
      "pygments_lexer": "ipython3",
      "version": "3.8.5"
    },
    "colab": {
      "name": "Logs_dictionary.ipynb",
      "provenance": [],
      "include_colab_link": true
    },
    "accelerator": "GPU"
  },
  "cells": [
    {
      "cell_type": "markdown",
      "metadata": {
        "id": "view-in-github",
        "colab_type": "text"
      },
      "source": [
        "<a href=\"https://colab.research.google.com/github/MengOonLee/Deep_learning/blob/master/TensorFlow2/Tutorial/Logs_dictionary.ipynb\" target=\"_parent\"><img src=\"https://colab.research.google.com/assets/colab-badge.svg\" alt=\"Open In Colab\"/></a>"
      ]
    },
    {
      "cell_type": "markdown",
      "metadata": {
        "id": "VVVr65yyRbvK"
      },
      "source": [
        "# Using the logs dictionary\n",
        "\n",
        "In this reading, we will learn how to take advantage of the `logs` dictionary in Keras to define our own callbacks and check the progress of a model.\n",
        "\n",
        "The `logs` dictionary stores the loss value, along with all of the metrics we are using at the end of a batch or epoch.\n",
        "\n",
        "We can incorporate information from the `logs` dictionary into our own custom callbacks.\n",
        "\n",
        "Let's see this in action in the context of a model we will construct and fit to the `sklearn` diabetes dataset that we have been using in this module.\n",
        "\n",
        "Let's first import the dataset, and split it into the training and test sets."
      ]
    },
    {
      "cell_type": "code",
      "metadata": {
        "id": "-F0KEpXLRbvM",
        "outputId": "ffa1dc2b-42ce-4f12-a9f3-48b1e8fd88a4",
        "colab": {
          "base_uri": "https://localhost:8080/"
        }
      },
      "source": [
        "#### Package imports ####\n",
        "\n",
        "import numpy as np\n",
        "import pandas as pd\n",
        "import matplotlib.pyplot as plt\n",
        "%matplotlib inline\n",
        "\n",
        "from sklearn.datasets import load_diabetes\n",
        "from sklearn.model_selection import train_test_split\n",
        "\n",
        "import tensorflow as tf\n",
        "print(tf.__version__)\n",
        "        \n",
        "from tensorflow.keras.models import Sequential\n",
        "from tensorflow.keras.layers import Dense, BatchNormalization\n",
        "from tensorflow.keras.callbacks import Callback\n",
        "from tensorflow.keras.backend import get_value, set_value"
      ],
      "execution_count": 1,
      "outputs": [
        {
          "output_type": "stream",
          "text": [
            "2.3.0\n"
          ],
          "name": "stdout"
        }
      ]
    },
    {
      "cell_type": "code",
      "metadata": {
        "id": "lxeQ2PrJRbvd"
      },
      "source": [
        "# Load the diabetes dataset\n",
        "diabetes_dataset = load_diabetes()\n",
        "# Save the input and target variables\n",
        "data = diabetes_dataset['data']\n",
        "target = diabetes_dataset['target']\n",
        "# Split the data set into training and test sets\n",
        "train_data, test_data, train_target, test_target = train_test_split(\n",
        "    data, target, test_size=0.1)"
      ],
      "execution_count": 2,
      "outputs": []
    },
    {
      "cell_type": "markdown",
      "metadata": {
        "id": "2WH3rrMNRbvl"
      },
      "source": [
        "We plot training and validation loss and accuracy to observe how the accuracy of our model improves over time."
      ]
    },
    {
      "cell_type": "code",
      "metadata": {
        "id": "Src7osmGRbvm"
      },
      "source": [
        "# Plot the learning curves\n",
        "def plot_history(history):\n",
        "    frame = pd.DataFrame(history.history)\n",
        "    epochs = np.arange(len(frame))\n",
        "    fig = plt.figure(figsize=(12,4))\n",
        "    # Loss plot\n",
        "    ax = fig.add_subplot(121)\n",
        "    ax.plot(epochs, frame['loss'], label='Train')\n",
        "    ax.set_xlabel('Epochs')\n",
        "    ax.set_ylabel('Loss')\n",
        "    ax.set_title('Loss vs Epochs')\n",
        "    ax.legend()\n",
        "    # Accuracy plot\n",
        "    ax = fig.add_subplot(122)\n",
        "    ax.plot(epochs, frame['mae'], label='Train')\n",
        "    ax.set_xlabel('Epochs')\n",
        "    ax.set_ylabel('Mean Absolute Error')\n",
        "    ax.set_title('Mean Absolute Error vs Epochs')\n",
        "    ax.legend()\n",
        "    plt.show()"
      ],
      "execution_count": 3,
      "outputs": []
    },
    {
      "cell_type": "markdown",
      "metadata": {
        "id": "NqG24qZCRbvs"
      },
      "source": [
        "Now we construct our model."
      ]
    },
    {
      "cell_type": "code",
      "metadata": {
        "id": "t3cXdl3TRbvt",
        "outputId": "1fb1e261-233c-45a5-abf6-d03bd475a91a",
        "colab": {
          "base_uri": "https://localhost:8080/"
        }
      },
      "source": [
        "# Build the model\n",
        "def get_model():\n",
        "    model = Sequential([\n",
        "        Dense(128, activation='relu', \n",
        "            input_shape=(train_data.shape[1],)),\n",
        "        Dense(64, activation='relu'),\n",
        "        BatchNormalization(),\n",
        "        Dense(64, activation='relu'),\n",
        "        Dense(64, activation='relu'),\n",
        "        Dense(1)])\n",
        "    return model\n",
        "\n",
        "# Print the model summary\n",
        "model = get_model()\n",
        "model.summary()"
      ],
      "execution_count": 4,
      "outputs": [
        {
          "output_type": "stream",
          "text": [
            "Model: \"sequential\"\n",
            "_________________________________________________________________\n",
            "Layer (type)                 Output Shape              Param #   \n",
            "=================================================================\n",
            "dense (Dense)                (None, 128)               1408      \n",
            "_________________________________________________________________\n",
            "dense_1 (Dense)              (None, 64)                8256      \n",
            "_________________________________________________________________\n",
            "batch_normalization (BatchNo (None, 64)                256       \n",
            "_________________________________________________________________\n",
            "dense_2 (Dense)              (None, 64)                4160      \n",
            "_________________________________________________________________\n",
            "dense_3 (Dense)              (None, 64)                4160      \n",
            "_________________________________________________________________\n",
            "dense_4 (Dense)              (None, 1)                 65        \n",
            "=================================================================\n",
            "Total params: 18,305\n",
            "Trainable params: 18,177\n",
            "Non-trainable params: 128\n",
            "_________________________________________________________________\n"
          ],
          "name": "stdout"
        }
      ]
    },
    {
      "cell_type": "markdown",
      "metadata": {
        "id": "znnmoVozRbvz"
      },
      "source": [
        "We now compile the model, with\n",
        "* Mean squared error as the loss function,\n",
        "* the Adam optimizer, and\n",
        "* Mean absolute error (`mae`) as a metric."
      ]
    },
    {
      "cell_type": "code",
      "metadata": {
        "id": "IJT13tLBRbv0"
      },
      "source": [
        "# Compile the model\n",
        "model.compile(\n",
        "    optimizer='adam',\n",
        "    loss='mse',\n",
        "    metrics=['mae'])"
      ],
      "execution_count": 5,
      "outputs": []
    },
    {
      "cell_type": "markdown",
      "metadata": {
        "id": "hcA-LdiJRbv5"
      },
      "source": [
        "### Defining a custom callback\n",
        "\n",
        "Now we define our custom callback using the `logs` dictionary to access the loss and metric values."
      ]
    },
    {
      "cell_type": "code",
      "metadata": {
        "id": "rveaw2FGRbv6"
      },
      "source": [
        "# Create the custom callback\n",
        "class LossAndMetricCallback(Callback):\n",
        "    # Print the loss after every second batch in the training set\n",
        "    def on_train_batch_end(self, batch, logs=None):\n",
        "        if batch%2==0:\n",
        "            print('\\n After batch {}, the loss is {:7.2f}.'.format(\n",
        "                batch, logs['loss']))\n",
        "            \n",
        "    # Print the loss after each batch in the test set\n",
        "    def on_test_batch_end(self, batch, logs=None):\n",
        "        print('\\n After batch {}, the loss is {:7.2f}.'.format(\n",
        "            batch, logs['loss']))\n",
        "        \n",
        "    # Print the loss and mean absolute error after each epoch\n",
        "    def on_epoch_end(self, epoch, logs=None):\n",
        "        print('Epoch {}: Average loss is {:7.2f}, mean absolute error is {:7.2f}'.format(\n",
        "            epoch, logs['loss'], logs['mae']))\n",
        "        \n",
        "    # Notify the user when prediction has finished on each batch\n",
        "    def on_predict_batch_end(self, batch, logs=None):\n",
        "        print('Finished prediction on batch {}!'.format(batch))"
      ],
      "execution_count": 6,
      "outputs": []
    },
    {
      "cell_type": "markdown",
      "metadata": {
        "id": "rJURHJUqRbwA"
      },
      "source": [
        "We now fit model to the data, and specify that we would like to use our custom callback `LossAndMetricCallback()`. We can also use our callback in the `evaluate` function...and also the predict function."
      ]
    },
    {
      "cell_type": "code",
      "metadata": {
        "scrolled": true,
        "id": "xNXDP6MvRbwB",
        "outputId": "57e8c1b8-8f08-4659-da8d-f8201555f3ff",
        "colab": {
          "base_uri": "https://localhost:8080/",
          "height": 1000
        }
      },
      "source": [
        "# Train the model\n",
        "history = model.fit(train_data, train_target, epochs=20, \n",
        "    batch_size=100, callbacks=[LossAndMetricCallback()], verbose=False)\n",
        "# Plot the history\n",
        "plot_history(history)\n",
        "\n",
        "# Evaluate the model\n",
        "model_eval = model.evaluate(test_data, test_target, batch_size=10,\n",
        "    callbacks=[LossAndMetricCallback()], verbose=False)\n",
        "print(model_eval,'\\n')\n",
        "\n",
        "# Get predictions from the model\n",
        "model_pred = model.predict(test_data, batch_size=10,\n",
        "    callbacks=[LossAndMetricCallback()], verbose=False)\n",
        "print(model_pred)"
      ],
      "execution_count": 7,
      "outputs": [
        {
          "output_type": "stream",
          "text": [
            "\n",
            " After batch 0, the loss is 27802.02.\n",
            "\n",
            " After batch 2, the loss is 28415.57.\n",
            "Epoch 0: Average loss is 29203.08, mean absolute error is  152.45\n",
            "\n",
            " After batch 0, the loss is 27125.49.\n",
            "\n",
            " After batch 2, the loss is 28934.99.\n",
            "Epoch 1: Average loss is 29118.80, mean absolute error is  152.21\n",
            "\n",
            " After batch 0, the loss is 32397.21.\n",
            "\n",
            " After batch 2, the loss is 29248.84.\n",
            "Epoch 2: Average loss is 29016.22, mean absolute error is  151.89\n",
            "\n",
            " After batch 0, the loss is 29020.08.\n",
            "\n",
            " After batch 2, the loss is 28933.79.\n",
            "Epoch 3: Average loss is 28854.33, mean absolute error is  151.38\n",
            "\n",
            " After batch 0, the loss is 32930.10.\n",
            "\n",
            " After batch 2, the loss is 28487.40.\n",
            "Epoch 4: Average loss is 28620.01, mean absolute error is  150.64\n",
            "\n",
            " After batch 0, the loss is 28309.75.\n",
            "\n",
            " After batch 2, the loss is 27664.19.\n",
            "Epoch 5: Average loss is 28285.72, mean absolute error is  149.61\n",
            "\n",
            " After batch 0, the loss is 26653.40.\n",
            "\n",
            " After batch 2, the loss is 27796.52.\n",
            "Epoch 6: Average loss is 27837.70, mean absolute error is  148.23\n",
            "\n",
            " After batch 0, the loss is 27645.15.\n",
            "\n",
            " After batch 2, the loss is 25893.51.\n",
            "Epoch 7: Average loss is 27236.59, mean absolute error is  146.38\n",
            "\n",
            " After batch 0, the loss is 22452.16.\n",
            "\n",
            " After batch 2, the loss is 26181.20.\n",
            "Epoch 8: Average loss is 26439.53, mean absolute error is  143.90\n",
            "\n",
            " After batch 0, the loss is 26562.71.\n",
            "\n",
            " After batch 2, the loss is 25479.67.\n",
            "Epoch 9: Average loss is 25453.92, mean absolute error is  140.71\n",
            "\n",
            " After batch 0, the loss is 24574.29.\n",
            "\n",
            " After batch 2, the loss is 23678.54.\n",
            "Epoch 10: Average loss is 24237.10, mean absolute error is  136.67\n",
            "\n",
            " After batch 0, the loss is 23838.47.\n",
            "\n",
            " After batch 2, the loss is 23908.71.\n",
            "Epoch 11: Average loss is 22780.50, mean absolute error is  131.67\n",
            "\n",
            " After batch 0, the loss is 22802.05.\n",
            "\n",
            " After batch 2, the loss is 21502.69.\n",
            "Epoch 12: Average loss is 21085.56, mean absolute error is  125.69\n",
            "\n",
            " After batch 0, the loss is 20396.42.\n",
            "\n",
            " After batch 2, the loss is 19647.66.\n",
            "Epoch 13: Average loss is 19128.84, mean absolute error is  118.50\n",
            "\n",
            " After batch 0, the loss is 14781.66.\n",
            "\n",
            " After batch 2, the loss is 16952.86.\n",
            "Epoch 14: Average loss is 16980.03, mean absolute error is  110.14\n",
            "\n",
            " After batch 0, the loss is 14604.42.\n",
            "\n",
            " After batch 2, the loss is 14495.89.\n",
            "Epoch 15: Average loss is 14774.17, mean absolute error is  100.75\n",
            "\n",
            " After batch 0, the loss is 11716.79.\n",
            "\n",
            " After batch 2, the loss is 11820.55.\n",
            "Epoch 16: Average loss is 12577.77, mean absolute error is   91.32\n",
            "\n",
            " After batch 0, the loss is 10969.46.\n",
            "\n",
            " After batch 2, the loss is 10072.42.\n",
            "Epoch 17: Average loss is 10420.07, mean absolute error is   81.25\n",
            "\n",
            " After batch 0, the loss is 8203.55.\n",
            "\n",
            " After batch 2, the loss is 8760.50.\n",
            "Epoch 18: Average loss is 8502.30, mean absolute error is   72.00\n",
            "\n",
            " After batch 0, the loss is 8370.52.\n",
            "\n",
            " After batch 2, the loss is 7579.61.\n",
            "Epoch 19: Average loss is 7164.69, mean absolute error is   65.48\n"
          ],
          "name": "stdout"
        },
        {
          "output_type": "display_data",
          "data": {
            "image/png": "[encoded data removed]",
            "text/plain": [
              "<Figure size 864x288 with 2 Axes>"
            ]
          },
          "metadata": {
            "tags": [],
            "needs_background": "light"
          }
        },
        {
          "output_type": "stream",
          "text": [
            "\n",
            " After batch 0, the loss is 24689.61.\n",
            "\n",
            " After batch 1, the loss is 18628.94.\n",
            "\n",
            " After batch 2, the loss is 16518.65.\n",
            "\n",
            " After batch 3, the loss is 19015.20.\n",
            "\n",
            " After batch 4, the loss is 19722.42.\n",
            "[19722.416015625, 121.95606231689453] \n",
            "\n",
            "Finished prediction on batch 0!\n",
            "Finished prediction on batch 1!\n",
            "Finished prediction on batch 2!\n",
            "Finished prediction on batch 3!\n",
            "Finished prediction on batch 4!\n",
            "[[52.388405]\n",
            " [22.954905]\n",
            " [12.544161]\n",
            " [50.5256  ]\n",
            " [21.908512]\n",
            " [30.217337]\n",
            " [20.31851 ]\n",
            " [24.20364 ]\n",
            " [13.273981]\n",
            " [19.940912]\n",
            " [42.329834]\n",
            " [20.620487]\n",
            " [17.177341]\n",
            " [20.961508]\n",
            " [19.338877]\n",
            " [23.840729]\n",
            " [13.387592]\n",
            " [33.922974]\n",
            " [19.473782]\n",
            " [13.597789]\n",
            " [26.001852]\n",
            " [18.222637]\n",
            " [45.514805]\n",
            " [12.033669]\n",
            " [16.997921]\n",
            " [55.974236]\n",
            " [13.767186]\n",
            " [21.043037]\n",
            " [51.697094]\n",
            " [23.440498]\n",
            " [15.870481]\n",
            " [46.0253  ]\n",
            " [34.79394 ]\n",
            " [18.120943]\n",
            " [40.07299 ]\n",
            " [23.496777]\n",
            " [19.026443]\n",
            " [14.02095 ]\n",
            " [55.65161 ]\n",
            " [49.69997 ]\n",
            " [21.581846]\n",
            " [45.115967]\n",
            " [12.377827]\n",
            " [16.74456 ]\n",
            " [54.75807 ]]\n"
          ],
          "name": "stdout"
        }
      ]
    },
    {
      "cell_type": "markdown",
      "metadata": {
        "id": "vVM8pLGgRbwE"
      },
      "source": [
        "### Application - learning rate scheduler\n",
        "Let's now look at a more sophisticated custom callback.\n",
        "\n",
        "We are going to define a callback to change the learning rate of the optimiser of a model during training. We will do this by specifying the epochs and new learning rates where we would like it to be changed.\n",
        "\n",
        "First we define the auxillary function that returns the learning rate for each epoch based on our schedule."
      ]
    },
    {
      "cell_type": "code",
      "metadata": {
        "id": "HWrZ19SXRbwF"
      },
      "source": [
        "# Define the learning rate schedule. The tuples below are \n",
        "# (start_epoch, new_learning_rate)\n",
        "lr_schedule = [(4, 0.03), (7, 0.02), (11, 0.005), (15, 0.007)]\n",
        "\n",
        "def get_new_epoch_lr(epoch, lr):\n",
        "    # Checks to see if the input epoch is listed in the learning rate\n",
        "    # schedule and if so, returns index in lr_schedule\n",
        "    epoch_in_sched = [i for i in range(len(lr_schedule)) \n",
        "        if lr_schedule[i][0]==int(epoch)]\n",
        "    if len(epoch_in_sched)>0:\n",
        "        # If it is, return the learning rate corresponding to the epoch\n",
        "        return lr_schedule[epoch_in_sched[0]][1]\n",
        "    else:\n",
        "        # Otherwise, return the existing learning rate\n",
        "        return lr"
      ],
      "execution_count": 8,
      "outputs": []
    },
    {
      "cell_type": "markdown",
      "metadata": {
        "id": "YzQ-cbVGRbwK"
      },
      "source": [
        "Let's now define the callback itself."
      ]
    },
    {
      "cell_type": "code",
      "metadata": {
        "id": "Vfq_Jt30RbwL"
      },
      "source": [
        "# Define the custom callback\n",
        "class LRScheduler(Callback):\n",
        "    \n",
        "    def __init__(self, new_lr):\n",
        "        super(LRScheduler, self).__init__()\n",
        "        # Add the new learning rate function to our callback\n",
        "        self.new_lr = new_lr\n",
        "        \n",
        "    def on_epoch_begin(self, epoch, logs=None):\n",
        "        # Make sure that the optimizer we have chosen has a learning\n",
        "        # rate, and raise an error if not\n",
        "        if not hasattr(self.model.optimizer, 'lr'):\n",
        "            raise ValueError(\"Error: Optimizer does not have a learning rate.\")\n",
        "            \n",
        "        # Get the current learning rate\n",
        "        curr_rate = float(get_value(self.model.optimizer.lr))\n",
        "        \n",
        "        # Call the auxillary function to get the scheduled learning rate for the current epoch\n",
        "        scheduled_rate = self.new_lr(epoch, curr_rate)\n",
        "        \n",
        "        # Set the learning rate to the scheduled learning rate\n",
        "        set_value(self.model.optimizer.lr, scheduled_rate)\n",
        "        print(\"Learning rate for epoch {} is {:7.3f}\".format(\n",
        "            epoch, scheduled_rate))"
      ],
      "execution_count": 9,
      "outputs": []
    },
    {
      "cell_type": "markdown",
      "metadata": {
        "id": "jPDmzjeWRbwP"
      },
      "source": [
        "Let's now train the model again with our new callback"
      ]
    },
    {
      "cell_type": "code",
      "metadata": {
        "id": "eYfawIW2RbwQ",
        "outputId": "c33db3b2-f5c8-4ad9-8d90-7157014c9700",
        "colab": {
          "base_uri": "https://localhost:8080/",
          "height": 642
        }
      },
      "source": [
        "# Build the same model as before\n",
        "new_model = Sequential([\n",
        "    Dense(128, activation='relu', input_shape=(train_data.shape[1],)),\n",
        "    Dense(64, activation='relu'),\n",
        "    BatchNormalization(),\n",
        "    Dense(64, activation='relu'),\n",
        "    Dense(64, activation='relu'),\n",
        "    Dense(1)])\n",
        "\n",
        "# Compile the model\n",
        "new_model.compile(loss='mse', optimizer='adam', metrics=['mae', 'mse'])\n",
        "\n",
        "# Fit the model with our learning rate scheduler callback\n",
        "new_history = new_model.fit(train_data, train_target, epochs=20,\n",
        "    batch_size=100, callbacks=[LRScheduler(get_new_epoch_lr)],\n",
        "    verbose=False)\n",
        "# Plot the history\n",
        "plot_history(new_history)"
      ],
      "execution_count": 10,
      "outputs": [
        {
          "output_type": "stream",
          "text": [
            "Learning rate for epoch 0 is   0.001\n",
            "Learning rate for epoch 1 is   0.001\n",
            "Learning rate for epoch 2 is   0.001\n",
            "Learning rate for epoch 3 is   0.001\n",
            "Learning rate for epoch 4 is   0.030\n",
            "Learning rate for epoch 5 is   0.030\n",
            "Learning rate for epoch 6 is   0.030\n",
            "Learning rate for epoch 7 is   0.020\n",
            "Learning rate for epoch 8 is   0.020\n",
            "Learning rate for epoch 9 is   0.020\n",
            "Learning rate for epoch 10 is   0.020\n",
            "Learning rate for epoch 11 is   0.005\n",
            "Learning rate for epoch 12 is   0.005\n",
            "Learning rate for epoch 13 is   0.005\n",
            "Learning rate for epoch 14 is   0.005\n",
            "Learning rate for epoch 15 is   0.007\n",
            "Learning rate for epoch 16 is   0.007\n",
            "Learning rate for epoch 17 is   0.007\n",
            "Learning rate for epoch 18 is   0.007\n",
            "Learning rate for epoch 19 is   0.007\n"
          ],
          "name": "stdout"
        },
        {
          "output_type": "display_data",
          "data": {
            "image/png": "[encoded data removed]",
            "text/plain": [
              "<Figure size 864x288 with 2 Axes>"
            ]
          },
          "metadata": {
            "tags": [],
            "needs_background": "light"
          }
        }
      ]
    },
    {
      "cell_type": "markdown",
      "metadata": {
        "id": "mfzOPQomRbwU"
      },
      "source": [
        "### Further reading and resources\n",
        "* https://www.tensorflow.org/guide/keras/custom_callback\n",
        "* https://www.tensorflow.org/api_docs/python/tf/keras/callbacks/Callback"
      ]
    }
  ]
}