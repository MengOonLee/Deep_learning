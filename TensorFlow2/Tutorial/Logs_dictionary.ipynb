{
 "cells": [
  {
   "cell_type": "markdown",
   "metadata": {},
   "source": [
    "# Using the logs dictionary\n",
    "\n",
    "In this reading, we will learn how to take advantage of the `logs` dictionary in Keras to define our own callbacks and check the progress of a model.\n",
    "\n",
    "The `logs` dictionary stores the loss value, along with all of the metrics we are using at the end of a batch or epoch.\n",
    "\n",
    "We can incorporate information from the `logs` dictionary into our own custom callbacks.\n",
    "\n",
    "Let's see this in action in the context of a model we will construct and fit to the `sklearn` diabetes dataset that we have been using in this module.\n",
    "\n",
    "Let's first import the dataset, and split it into the training and test sets."
   ]
  },
  {
   "cell_type": "code",
   "execution_count": 1,
   "metadata": {},
   "outputs": [
    {
     "name": "stdout",
     "output_type": "stream",
     "text": [
      "2.2.0\n"
     ]
    }
   ],
   "source": [
    "#### Package imports ####\n",
    "\n",
    "import numpy as np\n",
    "import pandas as pd\n",
    "import matplotlib.pyplot as plt\n",
    "%matplotlib inline\n",
    "import seaborn as sns\n",
    "\n",
    "from sklearn.datasets import load_diabetes\n",
    "from sklearn.model_selection import train_test_split\n",
    "\n",
    "import tensorflow as tf\n",
    "gpus = tf.config.list_physical_devices('GPU')\n",
    "if gpus:\n",
    "    try:\n",
    "        for gpu in gpus:\n",
    "            tf.config.experimental.set_memory_growth(gpu, True)\n",
    "    except RuntimeError as e:\n",
    "        print(e)\n",
    "print(tf.__version__)\n",
    "        \n",
    "from tensorflow.keras.models import Sequential\n",
    "from tensorflow.keras.layers import Dense, BatchNormalization\n",
    "from tensorflow.keras.callbacks import Callback\n",
    "from tensorflow.keras.backend import get_value, set_value"
   ]
  },
  {
   "cell_type": "code",
   "execution_count": 2,
   "metadata": {},
   "outputs": [],
   "source": [
    "# Load the diabetes dataset\n",
    "diabetes_dataset = load_diabetes()\n",
    "# Save the input and target variables\n",
    "data = diabetes_dataset['data']\n",
    "target = diabetes_dataset['target']\n",
    "# Split the data set into training and test sets\n",
    "train_data, test_data, train_target, test_target = train_test_split(\n",
    "    data, target, test_size=0.1)"
   ]
  },
  {
   "cell_type": "markdown",
   "metadata": {},
   "source": [
    "We plot training and validation loss and accuracy to observe how the accuracy of our model improves over time."
   ]
  },
  {
   "cell_type": "code",
   "execution_count": 3,
   "metadata": {},
   "outputs": [],
   "source": [
    "# Plot the learning curves\n",
    "def plot_history(history):\n",
    "    frame = pd.DataFrame(history.history)\n",
    "    epochs = np.arange(len(frame))\n",
    "    fig = plt.figure(figsize=(12,4))\n",
    "    # Loss plot\n",
    "    ax = fig.add_subplot(121)\n",
    "    ax.plot(epochs, frame['loss'], label='Train')\n",
    "    ax.set_xlabel('Epochs')\n",
    "    ax.set_ylabel('Loss')\n",
    "    ax.set_title('Loss vs Epochs')\n",
    "    ax.legend()\n",
    "    # Accuracy plot\n",
    "    ax = fig.add_subplot(122)\n",
    "    ax.plot(epochs, frame['mae'], label='Train')\n",
    "    ax.set_xlabel('Epochs')\n",
    "    ax.set_ylabel('Mean Absolute Error')\n",
    "    ax.set_title('Mean Absolute Error vs Epochs')\n",
    "    ax.legend()\n",
    "    plt.show()"
   ]
  },
  {
   "cell_type": "markdown",
   "metadata": {},
   "source": [
    "Now we construct our model."
   ]
  },
  {
   "cell_type": "code",
   "execution_count": 4,
   "metadata": {},
   "outputs": [
    {
     "name": "stdout",
     "output_type": "stream",
     "text": [
      "Model: \"sequential\"\n",
      "_________________________________________________________________\n",
      "Layer (type)                 Output Shape              Param #   \n",
      "=================================================================\n",
      "dense (Dense)                (None, 128)               1408      \n",
      "_________________________________________________________________\n",
      "dense_1 (Dense)              (None, 64)                8256      \n",
      "_________________________________________________________________\n",
      "batch_normalization (BatchNo (None, 64)                256       \n",
      "_________________________________________________________________\n",
      "dense_2 (Dense)              (None, 64)                4160      \n",
      "_________________________________________________________________\n",
      "dense_3 (Dense)              (None, 64)                4160      \n",
      "_________________________________________________________________\n",
      "dense_4 (Dense)              (None, 1)                 65        \n",
      "=================================================================\n",
      "Total params: 18,305\n",
      "Trainable params: 18,177\n",
      "Non-trainable params: 128\n",
      "_________________________________________________________________\n"
     ]
    }
   ],
   "source": [
    "# Build the model\n",
    "def get_model():\n",
    "    model = Sequential([\n",
    "        Dense(128, activation='relu', \n",
    "            input_shape=(train_data.shape[1],)),\n",
    "        Dense(64, activation='relu'),\n",
    "        BatchNormalization(),\n",
    "        Dense(64, activation='relu'),\n",
    "        Dense(64, activation='relu'),\n",
    "        Dense(1)])\n",
    "    return model\n",
    "\n",
    "# Print the model summary\n",
    "model = get_model()\n",
    "model.summary()"
   ]
  },
  {
   "cell_type": "markdown",
   "metadata": {},
   "source": [
    "We now compile the model, with\n",
    "* Mean squared error as the loss function,\n",
    "* the Adam optimizer, and\n",
    "* Mean absolute error (`mae`) as a metric."
   ]
  },
  {
   "cell_type": "code",
   "execution_count": 5,
   "metadata": {},
   "outputs": [],
   "source": [
    "# Compile the model\n",
    "model.compile(\n",
    "    optimizer='adam',\n",
    "    loss='mse',\n",
    "    metrics=['mae'])"
   ]
  },
  {
   "cell_type": "markdown",
   "metadata": {},
   "source": [
    "### Defining a custom callback\n",
    "\n",
    "Now we define our custom callback using the `logs` dictionary to access the loss and metric values."
   ]
  },
  {
   "cell_type": "code",
   "execution_count": 6,
   "metadata": {},
   "outputs": [],
   "source": [
    "# Create the custom callback\n",
    "class LossAndMetricCallback(Callback):\n",
    "    # Print the loss after every second batch in the training set\n",
    "    def on_train_batch_end(self, batch, logs=None):\n",
    "        if batch%2==0:\n",
    "            print('\\n After batch {}, the loss is {:7.2f}.'.format(\n",
    "                batch, logs['loss']))\n",
    "            \n",
    "    # Print the loss after each batch in the test set\n",
    "    def on_test_batch_end(self, batch, logs=None):\n",
    "        print('\\n After batch {}, the loss is {:7.2f}.'.format(\n",
    "            batch, logs['loss']))\n",
    "        \n",
    "    # Print the loss and mean absolute error after each epoch\n",
    "    def on_epoch_end(self, epoch, logs=None):\n",
    "        print('Epoch {}: Average loss is {:7.2f}, mean absolute error is {:7.2f}'.format(\n",
    "            epoch, logs['loss'], logs['mae']))\n",
    "        \n",
    "    # Notify the user when prediction has finished on each batch\n",
    "    def on_predict_batch_end(self, batch, logs=None):\n",
    "        print('Finished prediction on batch {}!'.format(batch))"
   ]
  },
  {
   "cell_type": "markdown",
   "metadata": {},
   "source": [
    "We now fit model to the data, and specify that we would like to use our custom callback `LossAndMetricCallback()`. We can also use our callback in the `evaluate` function...and also the predict function."
   ]
  },
  {
   "cell_type": "code",
   "execution_count": 7,
   "metadata": {
    "scrolled": true
   },
   "outputs": [
    {
     "name": "stdout",
     "output_type": "stream",
     "text": [
      "\n",
      " After batch 0, the loss is 26217.78.\n",
      "\n",
      " After batch 2, the loss is 28891.66.\n",
      "Epoch 0: Average loss is 28759.23, mean absolute error is  151.29\n",
      "\n",
      " After batch 0, the loss is 26451.90.\n",
      "\n",
      " After batch 2, the loss is 28358.56.\n",
      "Epoch 1: Average loss is 28630.03, mean absolute error is  150.90\n",
      "\n",
      " After batch 0, the loss is 30420.22.\n",
      "\n",
      " After batch 2, the loss is 28811.27.\n",
      "Epoch 2: Average loss is 28463.27, mean absolute error is  150.38\n",
      "\n",
      " After batch 0, the loss is 29382.33.\n",
      "\n",
      " After batch 2, the loss is 27486.72.\n",
      "Epoch 3: Average loss is 28224.61, mean absolute error is  149.67\n",
      "\n",
      " After batch 0, the loss is 29308.54.\n",
      "\n",
      " After batch 2, the loss is 28110.59.\n",
      "Epoch 4: Average loss is 27901.62, mean absolute error is  148.69\n",
      "\n",
      " After batch 0, the loss is 27805.13.\n",
      "\n",
      " After batch 2, the loss is 27316.24.\n",
      "Epoch 5: Average loss is 27471.77, mean absolute error is  147.39\n",
      "\n",
      " After batch 0, the loss is 28502.82.\n",
      "\n",
      " After batch 2, the loss is 25615.62.\n",
      "Epoch 6: Average loss is 26909.66, mean absolute error is  145.71\n",
      "\n",
      " After batch 0, the loss is 29988.78.\n",
      "\n",
      " After batch 2, the loss is 27255.72.\n",
      "Epoch 7: Average loss is 26185.94, mean absolute error is  143.50\n",
      "\n",
      " After batch 0, the loss is 23422.79.\n",
      "\n",
      " After batch 2, the loss is 25326.73.\n",
      "Epoch 8: Average loss is 25278.66, mean absolute error is  140.73\n",
      "\n",
      " After batch 0, the loss is 27595.17.\n",
      "\n",
      " After batch 2, the loss is 24879.60.\n",
      "Epoch 9: Average loss is 24197.42, mean absolute error is  137.28\n",
      "\n",
      " After batch 0, the loss is 23702.87.\n",
      "\n",
      " After batch 2, the loss is 22660.09.\n",
      "Epoch 10: Average loss is 22825.12, mean absolute error is  132.99\n",
      "\n",
      " After batch 0, the loss is 23139.27.\n",
      "\n",
      " After batch 2, the loss is 22592.18.\n",
      "Epoch 11: Average loss is 21260.35, mean absolute error is  127.73\n",
      "\n",
      " After batch 0, the loss is 20155.23.\n",
      "\n",
      " After batch 2, the loss is 19941.04.\n",
      "Epoch 12: Average loss is 19367.34, mean absolute error is  121.34\n",
      "\n",
      " After batch 0, the loss is 17836.72.\n",
      "\n",
      " After batch 2, the loss is 17553.42.\n",
      "Epoch 13: Average loss is 17296.81, mean absolute error is  113.68\n",
      "\n",
      " After batch 0, the loss is 14346.51.\n",
      "\n",
      " After batch 2, the loss is 15135.07.\n",
      "Epoch 14: Average loss is 15051.66, mean absolute error is  104.58\n",
      "\n",
      " After batch 0, the loss is 11770.10.\n",
      "\n",
      " After batch 2, the loss is 13624.19.\n",
      "Epoch 15: Average loss is 12782.42, mean absolute error is   94.05\n",
      "\n",
      " After batch 0, the loss is 10773.79.\n",
      "\n",
      " After batch 2, the loss is 11086.92.\n",
      "Epoch 16: Average loss is 10532.11, mean absolute error is   82.57\n",
      "\n",
      " After batch 0, the loss is 7460.58.\n",
      "\n",
      " After batch 2, the loss is 8362.81.\n",
      "Epoch 17: Average loss is 8450.72, mean absolute error is   72.19\n",
      "\n",
      " After batch 0, the loss is 8105.58.\n",
      "\n",
      " After batch 2, the loss is 7157.38.\n",
      "Epoch 18: Average loss is 7032.25, mean absolute error is   64.58\n",
      "\n",
      " After batch 0, the loss is 8165.76.\n",
      "\n",
      " After batch 2, the loss is 6056.60.\n",
      "Epoch 19: Average loss is 6108.30, mean absolute error is   60.48\n"
     ]
    },
    {
     "data": {
      "image/png": "[encoded data removed]",
      "text/plain": [
       "<Figure size 864x288 with 2 Axes>"
      ]
     },
     "metadata": {
      "needs_background": "light"
     },
     "output_type": "display_data"
    },
    {
     "name": "stdout",
     "output_type": "stream",
     "text": [
      "\n",
      " After batch 0, the loss is 19135.16.\n",
      "\n",
      " After batch 1, the loss is 15771.69.\n",
      "\n",
      " After batch 2, the loss is 18542.78.\n",
      "\n",
      " After batch 3, the loss is 17423.78.\n",
      "\n",
      " After batch 4, the loss is 17935.48.\n",
      "[17935.478515625, 115.8428726196289] \n",
      "\n",
      "Finished prediction on batch 0!\n",
      "Finished prediction on batch 1!\n",
      "Finished prediction on batch 2!\n",
      "Finished prediction on batch 3!\n",
      "Finished prediction on batch 4!\n",
      "[[44.43159  ]\n",
      " [46.802395 ]\n",
      " [78.675    ]\n",
      " [53.84929  ]\n",
      " [16.090336 ]\n",
      " [44.45174  ]\n",
      " [43.385406 ]\n",
      " [81.16643  ]\n",
      " [ 9.898555 ]\n",
      " [86.127426 ]\n",
      " [23.34342  ]\n",
      " [11.265415 ]\n",
      " [12.610947 ]\n",
      " [ 9.651411 ]\n",
      " [15.0066   ]\n",
      " [11.600004 ]\n",
      " [58.355    ]\n",
      " [16.43754  ]\n",
      " [57.090076 ]\n",
      " [79.19923  ]\n",
      " [41.850906 ]\n",
      " [36.34214  ]\n",
      " [19.726128 ]\n",
      " [84.31252  ]\n",
      " [70.51153  ]\n",
      " [65.47261  ]\n",
      " [11.346525 ]\n",
      " [86.39688  ]\n",
      " [68.407265 ]\n",
      " [43.127728 ]\n",
      " [50.566372 ]\n",
      " [43.06852  ]\n",
      " [11.067583 ]\n",
      " [10.4368515]\n",
      " [33.22752  ]\n",
      " [11.457342 ]\n",
      " [49.86556  ]\n",
      " [59.549614 ]\n",
      " [12.943654 ]\n",
      " [11.226515 ]\n",
      " [55.680096 ]\n",
      " [14.285378 ]\n",
      " [59.053543 ]\n",
      " [66.02946  ]\n",
      " [82.6811   ]]\n"
     ]
    }
   ],
   "source": [
    "# Train the model\n",
    "history = model.fit(train_data, train_target, epochs=20, \n",
    "    batch_size=100, callbacks=[LossAndMetricCallback()], verbose=False)\n",
    "# Plot the history\n",
    "plot_history(history)\n",
    "\n",
    "# Evaluate the model\n",
    "model_eval = model.evaluate(test_data, test_target, batch_size=10,\n",
    "    callbacks=[LossAndMetricCallback()], verbose=False)\n",
    "print(model_eval,'\\n')\n",
    "\n",
    "# Get predictions from the model\n",
    "model_pred = model.predict(test_data, batch_size=10,\n",
    "    callbacks=[LossAndMetricCallback()], verbose=False)\n",
    "print(model_pred)"
   ]
  },
  {
   "cell_type": "markdown",
   "metadata": {},
   "source": [
    "### Application - learning rate scheduler\n",
    "Let's now look at a more sophisticated custom callback.\n",
    "\n",
    "We are going to define a callback to change the learning rate of the optimiser of a model during training. We will do this by specifying the epochs and new learning rates where we would like it to be changed.\n",
    "\n",
    "First we define the auxillary function that returns the learning rate for each epoch based on our schedule."
   ]
  },
  {
   "cell_type": "code",
   "execution_count": 8,
   "metadata": {},
   "outputs": [],
   "source": [
    "# Define the learning rate schedule. The tuples below are \n",
    "# (start_epoch, new_learning_rate)\n",
    "lr_schedule = [(4, 0.03), (7, 0.02), (11, 0.005), (15, 0.007)]\n",
    "\n",
    "def get_new_epoch_lr(epoch, lr):\n",
    "    # Checks to see if the input epoch is listed in the learning rate\n",
    "    # schedule and if so, returns index in lr_schedule\n",
    "    epoch_in_sched = [i for i in range(len(lr_schedule)) \n",
    "        if lr_schedule[i][0]==int(epoch)]\n",
    "    if len(epoch_in_sched)>0:\n",
    "        # If it is, return the learning rate corresponding to the epoch\n",
    "        return lr_schedule[epoch_in_sched[0]][1]\n",
    "    else:\n",
    "        # Otherwise, return the existing learning rate\n",
    "        return lr"
   ]
  },
  {
   "cell_type": "markdown",
   "metadata": {},
   "source": [
    "Let's now define the callback itself."
   ]
  },
  {
   "cell_type": "code",
   "execution_count": 9,
   "metadata": {},
   "outputs": [],
   "source": [
    "# Define the custom callback\n",
    "class LRScheduler(Callback):\n",
    "    \n",
    "    def __init__(self, new_lr):\n",
    "        super(LRScheduler, self).__init__()\n",
    "        # Add the new learning rate function to our callback\n",
    "        self.new_lr = new_lr\n",
    "        \n",
    "    def on_epoch_begin(self, epoch, logs=None):\n",
    "        # Make sure that the optimizer we have chosen has a learning\n",
    "        # rate, and raise an error if not\n",
    "        if not hasattr(self.model.optimizer, 'lr'):\n",
    "            raise ValueError(\"Error: Optimizer does not have a learning rate.\")\n",
    "            \n",
    "        # Get the current learning rate\n",
    "        curr_rate = float(get_value(self.model.optimizer.lr))\n",
    "        \n",
    "        # Call the auxillary function to get the scheduled learning rate for the current epoch\n",
    "        scheduled_rate = self.new_lr(epoch, curr_rate)\n",
    "        \n",
    "        # Set the learning rate to the scheduled learning rate\n",
    "        set_value(self.model.optimizer.lr, scheduled_rate)\n",
    "        print(\"Learning rate for epoch {} is {:7.3f}\".format(\n",
    "            epoch, scheduled_rate))"
   ]
  },
  {
   "cell_type": "markdown",
   "metadata": {},
   "source": [
    "Let's now train the model again with our new callback"
   ]
  },
  {
   "cell_type": "code",
   "execution_count": 10,
   "metadata": {},
   "outputs": [
    {
     "name": "stdout",
     "output_type": "stream",
     "text": [
      "Learning rate for epoch 0 is   0.001\n",
      "Learning rate for epoch 1 is   0.001\n",
      "Learning rate for epoch 2 is   0.001\n",
      "Learning rate for epoch 3 is   0.001\n",
      "Learning rate for epoch 4 is   0.030\n",
      "Learning rate for epoch 5 is   0.030\n",
      "Learning rate for epoch 6 is   0.030\n",
      "Learning rate for epoch 7 is   0.020\n",
      "Learning rate for epoch 8 is   0.020\n",
      "Learning rate for epoch 9 is   0.020\n",
      "Learning rate for epoch 10 is   0.020\n",
      "Learning rate for epoch 11 is   0.005\n",
      "Learning rate for epoch 12 is   0.005\n",
      "Learning rate for epoch 13 is   0.005\n",
      "Learning rate for epoch 14 is   0.005\n",
      "Learning rate for epoch 15 is   0.007\n",
      "Learning rate for epoch 16 is   0.007\n",
      "Learning rate for epoch 17 is   0.007\n",
      "Learning rate for epoch 18 is   0.007\n",
      "Learning rate for epoch 19 is   0.007\n"
     ]
    },
    {
     "data": {
      "image/png": "[encoded data removed]",
      "text/plain": [
       "<Figure size 864x288 with 2 Axes>"
      ]
     },
     "metadata": {
      "needs_background": "light"
     },
     "output_type": "display_data"
    }
   ],
   "source": [
    "# Build the same model as before\n",
    "new_model = Sequential([\n",
    "    Dense(128, activation='relu', input_shape=(train_data.shape[1],)),\n",
    "    Dense(64, activation='relu'),\n",
    "    BatchNormalization(),\n",
    "    Dense(64, activation='relu'),\n",
    "    Dense(64, activation='relu'),\n",
    "    Dense(1)])\n",
    "\n",
    "# Compile the model\n",
    "new_model.compile(loss='mse', optimizer='adam', metrics=['mae', 'mse'])\n",
    "\n",
    "# Fit the model with our learning rate scheduler callback\n",
    "new_history = new_model.fit(train_data, train_target, epochs=20,\n",
    "    batch_size=100, callbacks=[LRScheduler(get_new_epoch_lr)],\n",
    "    verbose=False)\n",
    "# Plot the history\n",
    "plot_history(new_history)"
   ]
  },
  {
   "cell_type": "markdown",
   "metadata": {},
   "source": [
    "### Further reading and resources\n",
    "* https://www.tensorflow.org/guide/keras/custom_callback\n",
    "* https://www.tensorflow.org/api_docs/python/tf/keras/callbacks/Callback"
   ]
  }
 ],
 "metadata": {
  "kernelspec": {
   "display_name": "Python 3",
   "language": "python",
   "name": "python3"
  },
  "language_info": {
   "codemirror_mode": {
    "name": "ipython",
    "version": 3
   },
   "file_extension": ".py",
   "mimetype": "text/x-python",
   "name": "python",
   "nbconvert_exporter": "python",
   "pygments_lexer": "ipython3",
   "version": "3.8.5"
  }
 },
 "nbformat": 4,
 "nbformat_minor": 4
}
