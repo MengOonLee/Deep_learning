{
 "cells": [
  {
   "cell_type": "markdown",
   "metadata": {
    "id": "l7DCCZSj3ViV"
   },
   "source": [
    "# Capstone Project\n",
    "\n",
    "## Image classifier for the SVHN dataset\n",
    "\n",
    "### Instructions\n",
    "\n",
    "In this notebook, you will create a neural network that classifies real-world images digits. You will use concepts from throughout this course in building, training, testing, validating and saving your Tensorflow classifier model.\n",
    "\n",
    "This project is peer-assessed. Within this notebook you will find instructions in each section for how to complete the project. Pay close attention to the instructions as the peer review will be carried out according to a grading rubric that checks key parts of the project instructions. Feel free to add extra cells into the notebook as required.\n",
    "\n",
    "### How to submit\n",
    "\n",
    "When you have completed the Capstone project notebook, you will submit a pdf of the notebook for peer review. First ensure that the notebook has been fully executed from beginning to end, and all of the cell outputs are visible. This is important, as the grading rubric depends on the reviewer being able to view the outputs of your notebook. Save the notebook as a pdf (File -> Download as -> PDF via LaTeX). You should then submit this pdf for review.\n",
    "\n",
    "### Let's get started!\n",
    "\n",
    "We'll start by running some imports, and loading the dataset. For this project you are free to make further imports throughout the notebook as you wish."
   ]
  },
  {
   "cell_type": "code",
   "execution_count": 1,
   "metadata": {
    "id": "0KrDxmjUD8dT",
    "outputId": "6f995130-db87-4c93-e1b8-e32f9b902ec8"
   },
   "outputs": [
    {
     "name": "stdout",
     "output_type": "stream",
     "text": [
      "No broken requirements found.\n"
     ]
    }
   ],
   "source": [
    "%%bash\n",
    "pip install --no-cache-dir -qU pip wheel\n",
    "pip install --no-cache-dir -qU numpy pandas matplotlib seaborn scikit-learn\n",
    "pip install --no-cache-dir -qU tensorflow-gpu\n",
    "pip check"
   ]
  },
  {
   "cell_type": "code",
   "execution_count": 3,
   "metadata": {
    "id": "dQkuAQI9D8dV",
    "outputId": "8a2634c8-1cfc-49e3-bec1-0cd46d2e4a2c"
   },
   "outputs": [],
   "source": [
    "import os\n",
    "import numpy as np\n",
    "import pandas as pd\n",
    "import scipy as sp\n",
    "\n",
    "%matplotlib inline\n",
    "%config InlineBackend.figure_format = 'retina'\n",
    "import matplotlib.pyplot as plt\n",
    "\n",
    "import seaborn as sns\n",
    "sns.set_style('whitegrid')\n",
    "sns.set(font='DejaVu Sans')\n",
    "\n",
    "import tensorflow as tf\n",
    "tf.keras.utils.set_random_seed(42)\n",
    "tf.get_logger().setLevel('ERROR')"
   ]
  },
  {
   "cell_type": "markdown",
   "metadata": {
    "id": "wGDqJWMb3ViY"
   },
   "source": [
    "![SVHN overview image](https://github.com/MengOonLee/Deep_learning/blob/master/TensorFlow2/image/svhn/svhn_examples.jpg?raw=1)\n",
    "\n",
    "For the capstone project, you will use the [SVHN dataset](http://ufldl.stanford.edu/housenumbers/). This is an  image dataset of over 600,000 digit images in all, and is a harder dataset than MNIST as the numbers appear in the context of natural scene images. SVHN is obtained from house numbers in Google Street View images. In this capstone project, you will develop feedforward/MLP and convolutional neural newtwork classifier models for the Street View House Numbers (SVHN) dataset.\n",
    "\n",
    "* Y. Netzer, T. Wang, A. Coates, A. Bissacco, B. Wu and A. Y. Ng. \"Reading Digits in Natural Images with Unsupervised Feature Learning\". NIPS Workshop on Deep Learning and Unsupervised Feature Learning, 2011.\n",
    "\n",
    "Your goal is to develop an end-to-end workflow for building, training, validating, evaluating and saving a neural network that classifies a real-world image of digits into one of ten classes."
   ]
  },
  {
   "cell_type": "code",
   "execution_count": 2,
   "metadata": {
    "id": "SmUb6YnMpOr6"
   },
   "outputs": [],
   "source": [
    "os.makedirs('./data', exist_ok=True)"
   ]
  },
  {
   "cell_type": "code",
   "execution_count": 4,
   "metadata": {
    "id": "QRo-7a0C3Vim"
   },
   "outputs": [],
   "source": [
    "# Run this cell to load the dataset\n",
    "\n",
    "train = sp.io.loadmat('./data/train_32x32.mat')\n",
    "test = sp.io.loadmat('./data/test_32x32.mat')"
   ]
  },
  {
   "cell_type": "markdown",
   "metadata": {
    "id": "-ZFhmIq-3Vit"
   },
   "source": [
    "Both `train` and `test` are dictionaries with keys `X` and `y` for the input images and labels respectively."
   ]
  },
  {
   "cell_type": "markdown",
   "metadata": {
    "id": "V9YAlNAn3Viu"
   },
   "source": [
    "## 1. Inspect and preprocess the dataset\n",
    "* Extract the training and testing images and labels separately from the train and test dictionaries loaded for you.\n",
    "* Select a random sample of images and corresponding labels from the dataset (at least 10), and display them in a figure.\n",
    "* Convert the training and test images to grayscale by taking the average across all colour channels for each pixel. _Hint: retain the channel dimension, which will now have size 1._\n",
    "* Select a random sample of the grayscale images and corresponding labels from the dataset (at least 10), and display them in a figure."
   ]
  },
  {
   "cell_type": "code",
   "execution_count": 13,
   "metadata": {
    "colab": {
     "base_uri": "https://localhost:8080/"
    },
    "id": "cnaZrUDG3Viv",
    "outputId": "d24c25b1-bb56-4035-c4e7-bf8c08930d16",
    "tags": []
   },
   "outputs": [
    {
     "name": "stdout",
     "output_type": "stream",
     "text": [
      "Train_images shape:  (73257, 32, 32, 3)\n",
      "Train_labels shape:  (73257,)\n",
      "Test_images shape:  (26032, 32, 32, 3)\n",
      "Test_labels shape:  (26032,)\n"
     ]
    }
   ],
   "source": [
    "def load_svhn_data(train_data, test_data):\n",
    "    \"\"\"\n",
    "    This function takes in the train_data and test_data as loaded in the\n",
    "    cell above. Then, it extracts the images and labels separately, and \n",
    "    scales the images so that their values lie in the range [0, 1].\n",
    "    This function returns a tuple (train_images, train_labels), \n",
    "    (test_images, test_labels) of the train and test dataset.\n",
    "    \"\"\"\n",
    "    \n",
    "    train_images = np.moveaxis(train_data['X'], -1, 0)\n",
    "    train_images = train_images / 255.0\n",
    "    test_images = np.moveaxis(test_data['X'], -1, 0)\n",
    "    test_images = test_images / 255.0\n",
    "    # Change the label of 10 to 0\n",
    "    train_labels = np.squeeze(train_data['y'])\n",
    "    train_labels = np.where(train_labels==10, 0, train_labels)\n",
    "    test_labels = np.squeeze(test_data['y'])\n",
    "    test_labels = np.where(test_labels==10, 0, test_labels)\n",
    "    \n",
    "    return (train_images, train_labels), (test_images, test_labels)\n",
    "    \n",
    "(train_images, train_labels), (test_images, test_labels) = \\\n",
    "    load_svhn_data(train, test)\n",
    "\n",
    "print(\"Train_images shape: \", train_images.shape)\n",
    "print(\"Train_labels shape: \", train_labels.shape)\n",
    "print(\"Test_images shape: \", test_images.shape)\n",
    "print(\"Test_labels shape: \", test_labels.shape)"
   ]
  },
  {
   "cell_type": "code",
   "execution_count": 14,
   "metadata": {
    "colab": {
     "base_uri": "https://localhost:8080/",
     "height": 262
    },
    "id": "6SvKw2X63Vi0",
    "outputId": "02ea8949-2b31-488a-f1b2-0de415b39af7",
    "tags": []
   },
   "outputs": [
    {
     "data": {
      "image/png": "[encoded data removed]",
      "text/plain": [
       "<Figure size 1000x400 with 10 Axes>"
      ]
     },
     "metadata": {
      "image/png": {
       "height": 342,
       "width": 795
      }
     },
     "output_type": "display_data"
    }
   ],
   "source": [
    "def plot_images(images, labels, cmap=None):\n",
    "    \"\"\"\n",
    "    This function takes 10 random images and corresponding labels and display\n",
    "    them in a figure.\n",
    "    \"\"\"\n",
    "    \n",
    "    fig = plt.figure(figsize=(10, 4))\n",
    "    for i in range(10):\n",
    "        ax = fig.add_subplot(2, 5, i+1)\n",
    "        ax.set_axis_off()\n",
    "        ax.imshow(np.squeeze(images[i]), cmap=cmap)\n",
    "        ax.set_title(labels[i])\n",
    "    plt.show()\n",
    "\n",
    "# Choose random 10 samples of train dataset\n",
    "rand_idx = np.random.choice(train_labels.shape[0], 10)\n",
    "images, labels = train_images[rand_idx], train_labels[rand_idx]\n",
    "\n",
    "# Plot the images and labels\n",
    "plot_images(images, labels)"
   ]
  },
  {
   "cell_type": "code",
   "execution_count": 15,
   "metadata": {
    "colab": {
     "base_uri": "https://localhost:8080/"
    },
    "id": "UC36dkRY3Vi6",
    "outputId": "466b82c8-6350-4d78-9e0f-710b0055f7ab",
    "tags": []
   },
   "outputs": [
    {
     "name": "stdout",
     "output_type": "stream",
     "text": [
      "Grayscale train_images shape:  (73257, 32, 32, 1)\n",
      "Grayscale test_images shape:  (26032, 32, 32, 1)\n"
     ]
    }
   ],
   "source": [
    "def rgb2gray(image):\n",
    "    \"\"\"\n",
    "    This function converts the image to grayscale by taking the \n",
    "    average across all colour channels for each pixel, and retains the\n",
    "    channel dimension, which have size 1.\n",
    "    \"\"\"\n",
    "    image = np.mean(image, axis=-1)\n",
    "    \n",
    "    return image[..., np.newaxis]\n",
    "\n",
    "# Convert the RGB images of train and test to grayscale\n",
    "train_images_gray = rgb2gray(train_images)\n",
    "test_images_gray = rgb2gray(test_images)\n",
    "\n",
    "print(\"Grayscale train_images shape: \", train_images_gray.shape)\n",
    "print(\"Grayscale test_images shape: \", test_images_gray.shape)"
   ]
  },
  {
   "cell_type": "code",
   "execution_count": 16,
   "metadata": {
    "colab": {
     "base_uri": "https://localhost:8080/",
     "height": 262
    },
    "id": "xi6RjOat3VjA",
    "outputId": "72102123-ba8d-4be6-9cf8-0a4a6718a262",
    "tags": []
   },
   "outputs": [
    {
     "data": {
      "image/png": "[encoded data removed]",
      "text/plain": [
       "<Figure size 1000x400 with 10 Axes>"
      ]
     },
     "metadata": {
      "image/png": {
       "height": 342,
       "width": 795
      }
     },
     "output_type": "display_data"
    }
   ],
   "source": [
    "# Display the random samples of the grayscale images \n",
    "# and corresponding labels\n",
    "images, labels = train_images_gray[rand_idx], train_labels[rand_idx]\n",
    "plot_images(images, labels, cmap='gray')"
   ]
  },
  {
   "cell_type": "markdown",
   "metadata": {
    "id": "dsZOKGIs3VjF"
   },
   "source": [
    "## 2. MLP neural network classifier\n",
    "* Build an MLP classifier model using the Sequential API. Your model should use only Flatten and Dense layers, with the final layer having a 10-way softmax output. \n",
    "* You should design and build the model yourself. Feel free to experiment with different MLP architectures. _Hint: to achieve a reasonable accuracy you won't need to use more than 4 or 5 layers._\n",
    "* Print out the model summary (using the summary() method)\n",
    "* Compile and train the model (we recommend a maximum of 30 epochs), making use of both training and validation sets during the training run. \n",
    "* Your model should track at least one appropriate metric, and use at least two callbacks during training, one of which should be a ModelCheckpoint callback.\n",
    "* As a guide, you should aim to achieve a final categorical cross entropy training loss of less than 1.0 (the validation loss might be higher).\n",
    "* Plot the learning curves for loss vs epoch and accuracy vs epoch for both training and validation sets.\n",
    "* Compute and display the loss and accuracy of the trained model on the test set."
   ]
  },
  {
   "cell_type": "code",
   "execution_count": 18,
   "metadata": {
    "colab": {
     "base_uri": "https://localhost:8080/"
    },
    "id": "wpmq4R0E3VjG",
    "outputId": "eaa17690-9701-418e-dd22-15c9741c9f4c",
    "tags": []
   },
   "outputs": [
    {
     "name": "stdout",
     "output_type": "stream",
     "text": [
      "Model: \"sequential_1\"\n",
      "_________________________________________________________________\n",
      " Layer (type)                Output Shape              Param #   \n",
      "=================================================================\n",
      " flatten_1 (Flatten)         (None, 1024)              0         \n",
      "                                                                 \n",
      " dense_3 (Dense)             (None, 256)               262400    \n",
      "                                                                 \n",
      " dense_4 (Dense)             (None, 64)                16448     \n",
      "                                                                 \n",
      " dense_5 (Dense)             (None, 10)                650       \n",
      "                                                                 \n",
      "=================================================================\n",
      "Total params: 279,498\n",
      "Trainable params: 279,498\n",
      "Non-trainable params: 0\n",
      "_________________________________________________________________\n"
     ]
    }
   ],
   "source": [
    "# Build a MLP classifier\n",
    "def get_MLP_model(input_shape):\n",
    "    \"\"\"\n",
    "    This function should build a Sequential MLP model according to the\n",
    "    above specification. Ensure the weights are initialised by\n",
    "    providing the input_shape argument in the first layer. \n",
    "    This function also compile the model with the Adam optimiser, \n",
    "    sparse categorical cross entropy loss function, \n",
    "    and a single accuracy metric.\n",
    "    \"\"\"\n",
    "    model = tf.keras.Sequential([\n",
    "        tf.keras.layers.Flatten(input_shape=input_shape),\n",
    "        tf.keras.layers.Dense(units=256, activation='relu'),\n",
    "        tf.keras.layers.Dense(units=64, activation='relu'),\n",
    "        tf.keras.layers.Dense(units=10, activation='softmax')])\n",
    "    \n",
    "    return model\n",
    "\n",
    "# Run the function to create the classifier model\n",
    "MLP_classifier = get_MLP_model(train_images_gray[0].shape)\n",
    "\n",
    "# Print out the model summary\n",
    "MLP_classifier.summary()"
   ]
  },
  {
   "cell_type": "code",
   "execution_count": null,
   "metadata": {
    "id": "4ncR0-Y7D8db"
   },
   "outputs": [],
   "source": [
    "from tensorflow.keras.callbacks import Callback, ReduceLROnPlateau, EarlyStopping, \\\n",
    "    ModelCheckpoint\n",
    "\n",
    "# Create a custom callback to access the loss and metric values.\n",
    "class LossAndMetricCallback(tf.keras.callbacks.Callback):\n",
    "    \n",
    "    # Print the loss and accuracy after each epoch\n",
    "    def on_epoch_end(self, epoch, logs=None):\n",
    "        print(\"Epoch {}: train loss={:.3f}, valid loss={:.3f}, valid accuracy={:.3f}\"\\\n",
    "            .format(epoch, logs['loss'], logs['val_loss'], logs['val_accuracy']))\n",
    "\n",
    "def get_callbacks(checkpoint_path):\n",
    "    \"\"\"\n",
    "    This function should create and return a list of callbacks.\n",
    "    \"\"\"\n",
    "    \n",
    "    loss_and_metric = LossAndMetricCallback()\n",
    "    lr_reduction = tf.keras.callbacks.ReduceLROnPlateau(\n",
    "        monitor='val_loss', factor=0.9, patience=1, verbose=0)\n",
    "    early_stopping = tf.keras.callbacks.EarlyStopping(\n",
    "        monitor='val_loss', patience=5, verbose=0)\n",
    "    checkpoint_best = tf.keras.callbacks.ModelCheckpoint(\n",
    "        filepath=checkpoint_path,\n",
    "        save_freq='epoch', save_weights_only=True, save_best_only=True,\n",
    "        monitor='val_accuracy', verbose=0)\n",
    "    return [loss_and_metric, lr_reduction, early_stopping, checkpoint_best]"
   ]
  },
  {
   "cell_type": "code",
   "execution_count": null,
   "metadata": {
    "id": "Ogo-Lk9oD8dc"
   },
   "outputs": [],
   "source": [
    "def train_model(model, train_images, train_labels, callbacks, epochs):\n",
    "    \"\"\"\n",
    "    This function compiles the model using the Adam optimiser (with default settings),\n",
    "    the cross-entropy loss function and accuracy as the only metric. Train the model \n",
    "    for the number of epochs on the train_images and train_labels with \n",
    "    15% data reserved for validation. This function should use the callbacks \n",
    "    during training and return the training history, as returned by model.fit.\n",
    "    \"\"\"\n",
    "    \n",
    "    # Compile the model\n",
    "    model.compile(\n",
    "        optimizer='adam',\n",
    "        loss='sparse_categorical_crossentropy',\n",
    "        metrics=['accuracy'])\n",
    "    # Train the model\n",
    "    history = model.fit(x=train_images, y=train_labels, validation_split=0.15,\n",
    "        batch_size=64, epochs=epochs, verbose=False, callbacks=callbacks)\n",
    "    \n",
    "    return history"
   ]
  },
  {
   "cell_type": "code",
   "execution_count": null,
   "metadata": {
    "id": "6bPalqX8D8dc",
    "outputId": "40cdb978-06f8-4d6f-e732-1aa69e57577f",
    "scrolled": true,
    "tags": []
   },
   "outputs": [],
   "source": [
    "MLP_checkpoints_best_path = 'MLP_checkpoints/checkpoint_{epoch:02d}'\n",
    "history = train_model(MLP_classifier, train_images_gray, train_labels, epochs=30,\n",
    "    callbacks=get_callbacks(checkpoint_best_path))"
   ]
  },
  {
   "cell_type": "code",
   "execution_count": null,
   "metadata": {
    "id": "iR4dqMLr3VjS",
    "scrolled": true,
    "tags": []
   },
   "outputs": [],
   "source": [
    "def plot_history(history):\n",
    "    \"\"\"\n",
    "    This function plots the learning curves for loss vs epoch and accuray vs epoch\n",
    "    for both training and validation.\n",
    "    \"\"\"\n",
    "    \n",
    "    # Load the model history into a pandas Dataframe.\n",
    "    df = pd.DataFrame(history.history)\n",
    "    epoch = np.arange(1, len(df)+1)\n",
    "    fig = plt.figure(figsize=(12, 4))\n",
    "    \n",
    "    # Loss plot\n",
    "    ax = fig.add_subplot(121)\n",
    "    ax.plot(epoch, df['loss'], label='Training')\n",
    "    ax.plot(epoch, df['val_loss'], label='Validation')\n",
    "    ax.set_xlabel('Epoch')\n",
    "    ax.set_ylabel('Loss')\n",
    "    ax.set_title(\"Loss vs Epoch\")\n",
    "    ax.legend()\n",
    "    \n",
    "    # Accuracy plot\n",
    "    ax = fig.add_subplot(122)\n",
    "    ax.plot(epoch, df['accuracy'], label='Training')\n",
    "    ax.plot(epoch, df['val_accuracy'], label='Validation')\n",
    "    ax.set_xlabel('Epoch')\n",
    "    ax.set_ylabel('Accuracy')\n",
    "    ax.set_title(\"Accuracy vs Epoch\")\n",
    "    ax.legend()\n",
    "    plt.show()"
   ]
  },
  {
   "cell_type": "code",
   "execution_count": null,
   "metadata": {
    "id": "8iai-qQMD8dd",
    "outputId": "5d2b7dbc-2a00-4f5c-fedd-f4d67b46da3a"
   },
   "outputs": [],
   "source": [
    "# Finally, we plot training and validation loss and accuracy to \n",
    "# observe how the performance of model improves over epochs.\n",
    "\n",
    "plot_history(history)"
   ]
  },
  {
   "cell_type": "code",
   "execution_count": null,
   "metadata": {
    "id": "6J5HyywY3VjP",
    "scrolled": true,
    "tags": []
   },
   "outputs": [],
   "source": [
    "# Compute and display the loss and accuracy of model on the test set\n",
    "def evaluate_model(model, test_images, test_labels):\n",
    "    \"\"\"\n",
    "    This function should evaluate the model on the test_images and test_labels.\n",
    "    This function should return a tuple (test_loss, test_accuracy)\n",
    "    \"\"\"\n",
    "    \n",
    "    test_loss, test_accuracy = model.evaluate(\n",
    "        x=test_images, y=test_labels, verbose=0)\n",
    "    \n",
    "    return (test_loss, test_accuracy)"
   ]
  },
  {
   "cell_type": "code",
   "execution_count": null,
   "metadata": {
    "id": "MicFJxwXD8de",
    "outputId": "4285281b-6897-442f-87fb-cd685ce9442d"
   },
   "outputs": [],
   "source": [
    "# Evaluate the model on the test set\n",
    "\n",
    "test_loss, test_accuracy = evaluate_model(\n",
    "    MLP_classifier, test_images_gray, test_labels)\n",
    "print(\"Test loss: {:0.4f} \\nTest accuracy: {:0.4f}\".format(\n",
    "    test_loss, test_accuracy))"
   ]
  },
  {
   "cell_type": "code",
   "execution_count": null,
   "metadata": {
    "id": "LQaqjFno3VjX"
   },
   "outputs": [],
   "source": [
    "# Plot the confusion matrix and print classification report\n",
    "from sklearn.metrics import confusion_matrix, classification_report\n",
    "\n",
    "def plot_confusion_matrix(model, test_images, test_labels):\n",
    "    \"\"\"\n",
    "    This function computes and displays the confusion matrix and \n",
    "    classification report of model on the test set.\n",
    "    \"\"\"\n",
    "    # Get prediction labels\n",
    "    pred_labels = np.argmax(model.predict(test_images), axis=1)\n",
    "\n",
    "    # Calculate the confusion matrix\n",
    "    cf_matrix = confusion_matrix(test_labels, pred_labels)\n",
    "\n",
    "    fig, ax = plt.subplots(figsize=(10, 10))\n",
    "    sns.heatmap(cf_matrix/np.sum(cf_matrix, axis=1), ax=ax, \n",
    "        annot=True, cmap='Reds', fmt='.1%', square=True);\n",
    "    plt.title(\"Confusion matrix(%) for test set\")\n",
    "    plt.xlabel('Predicted label')\n",
    "    plt.ylabel('True label')\n",
    "    plt.show()\n",
    "\n",
    "    cls_report = classification_report(test_labels, pred_labels, \n",
    "        digits=4)\n",
    "    print(cls_report)"
   ]
  },
  {
   "cell_type": "code",
   "execution_count": null,
   "metadata": {
    "colab": {
     "base_uri": "https://localhost:8080/",
     "height": 1000
    },
    "id": "Fw2ZTUAE3Vjc",
    "outputId": "93112cad-4117-4019-e905-0beeb7fcb900",
    "scrolled": true,
    "tags": []
   },
   "outputs": [],
   "source": [
    "# Visualize the normalized confusion matrix and classification report\n",
    "plot_confusion_matrix(MLP_classifier, test_images_gray, test_labels)"
   ]
  },
  {
   "cell_type": "markdown",
   "metadata": {
    "id": "5anRRr4c3Vjh"
   },
   "source": [
    "## 3. CNN neural network classifier\n",
    "* Build a CNN classifier model using the Sequential API. Your model should use the Conv2D, MaxPool2D, BatchNormalization, Flatten, Dense and Dropout layers. The final layer should again have a 10-way softmax output. \n",
    "* You should design and build the model yourself. Feel free to experiment with different CNN architectures. _Hint: to achieve a reasonable accuracy you won't need to use more than 2 or 3 convolutional layers and 2 fully connected layers.)_\n",
    "* The CNN model should use fewer trainable parameters than your MLP model.\n",
    "* Compile and train the model (we recommend a maximum of 30 epochs), making use of both training and validation sets during the training run.\n",
    "* Your model should track at least one appropriate metric, and use at least two callbacks during training, one of which should be a ModelCheckpoint callback.\n",
    "* You should aim to beat the MLP model performance with fewer parameters!\n",
    "* Plot the learning curves for loss vs epoch and accuracy vs epoch for both training and validation sets.\n",
    "* Compute and display the loss and accuracy of the trained model on the test set."
   ]
  },
  {
   "cell_type": "code",
   "execution_count": null,
   "metadata": {
    "colab": {
     "base_uri": "https://localhost:8080/"
    },
    "id": "Gh5xpJLZ3Vji",
    "outputId": "26554de0-ed6c-4ccb-d6d2-585112bfec5d"
   },
   "outputs": [],
   "source": [
    "from tensorflow.keras.models import Sequential\n",
    "from tensorflow.keras.layers import Conv2D, MaxPooling2D, \\\n",
    "    BatchNormalization, Flatten, Dense, Dropout\n",
    "from tensorflow.keras import regularizers\n",
    "\n",
    "# Build a CNN classifier\n",
    "def get_CNN_classifier():\n",
    "    \"\"\"\n",
    "    This function should build a Sequential CNN model according to \n",
    "    the above specification. Ensure the weights are initialised by\n",
    "    providing the input_shape argument in the first layer. \n",
    "    This function also compile the model with the Adam optimiser, \n",
    "    sparse categorical cross entropy loss function, \n",
    "    and a single accuracy metric.\n",
    "    \"\"\"\n",
    "    model = Sequential([\n",
    "        Conv2D(16, kernel_size=3, activation='relu', padding='SAME',\n",
    "            input_shape=train_images[0].shape),\n",
    "        BatchNormalization(),\n",
    "        MaxPooling2D(pool_size=2),\n",
    "        Conv2D(32, kernel_size=3, activation='relu', padding='SAME'),\n",
    "        BatchNormalization(),\n",
    "        MaxPooling2D(pool_size=2),\n",
    "        Flatten(),\n",
    "        Dropout(0.3),\n",
    "        Dense(64, activation='relu',\n",
    "            kernel_regularizer=regularizers.l1(3e-4)),\n",
    "        Dense(10, activation='softmax')])\n",
    "    \n",
    "    model.compile(\n",
    "        optimizer='adam',\n",
    "        loss='sparse_categorical_crossentropy',\n",
    "        metrics=['accuracy'])\n",
    "    \n",
    "    return model\n",
    "\n",
    "# Run the function to create the classifier model\n",
    "CNN_model = get_CNN_classifier()\n",
    "\n",
    "# Print out the model summary\n",
    "CNN_model.summary()"
   ]
  },
  {
   "cell_type": "code",
   "execution_count": null,
   "metadata": {
    "colab": {
     "base_uri": "https://localhost:8080/",
     "height": 1000
    },
    "id": "Xho58YOA3Vjn",
    "outputId": "9ca15609-5d91-49a0-d3a5-bc3a2aa18740",
    "scrolled": true
   },
   "outputs": [],
   "source": [
    "# Train model using the created callbacks\n",
    "checkpoint_best_path = \"CNN_checkpoints_best_only/checkpoint\"\n",
    "checkpoint_best_only = get_checkpoint_best_only(checkpoint_best_path)\n",
    "reduce_lr = get_reduce_lr()\n",
    "\n",
    "callbacks = [checkpoint_best_only, reduce_lr]\n",
    "\n",
    "# Train the model, with test data reserved for validation\n",
    "history = CNN_model.fit(x=train_images, y=train_labels,\n",
    "    validation_data=(test_images, test_labels), \n",
    "    batch_size=64, epochs=30, callbacks=callbacks)\n",
    "\n",
    "# Finally, we plot training and validation loss and accuracy to \n",
    "# observe how the performance of model improves over time.\n",
    "plot_history(history)\n",
    "\n",
    "# Evaluate the model on the test set\n",
    "get_test_loss_accuracy(CNN_model, test_images, test_labels)\n",
    "\n",
    "# Visualize the normalized confusion matrix and classification report\n",
    "plot_confusion_matrix(CNN_model, test_images, test_labels)"
   ]
  },
  {
   "cell_type": "markdown",
   "metadata": {
    "id": "-Ne10_ho3Vjr"
   },
   "source": [
    "## 4. Get model predictions\n",
    "* Load the best weights for the MLP and CNN models that you saved during the training run.\n",
    "* Randomly select 5 images and corresponding labels from the test set and display the images with their labels.\n",
    "* Alongside the image and label, show each model’s predictive distribution as a bar chart, and the final model prediction given by the label with maximum probability."
   ]
  },
  {
   "cell_type": "code",
   "execution_count": null,
   "metadata": {
    "id": "GAbvMC2t3Vjt",
    "outputId": "9a1fd20d-3e86-46b1-9aae-02a3dc190e7c"
   },
   "outputs": [],
   "source": [
    "# Load the best weights for MLP and CNN models\n",
    "\n",
    "# Create a new instance of the model\n",
    "# del MLP_classifier\n",
    "MLP_classifier = get_MLP_model(train_images_gray[0].shape)\n",
    "\n",
    "# del CNN_model\n",
    "# CNN_model = get_CNN_classifier()\n",
    "\n",
    "# Load the weights with the highest validation accuracy\n",
    "MLP_classifier.load_weights(\"MLP_checkpoints/checkpoint\");\n",
    "# CNN_model.load_weights(\"CNN_checkpoints_best_only/checkpoint\");"
   ]
  },
  {
   "cell_type": "code",
   "execution_count": null,
   "metadata": {
    "colab": {
     "base_uri": "https://localhost:8080/",
     "height": 876
    },
    "id": "c3CR4ekr3Vjw",
    "outputId": "fe431cf2-299a-4856-bcf4-2e2c87fac965"
   },
   "outputs": [],
   "source": [
    "# Model's predictive distribution on randomly selected test images\n",
    "    \n",
    "num_test_images = test_images.shape[0]\n",
    "random_idx = np.random.choice(num_test_images, 5)\n",
    "random_test_images = test_images[random_idx, ...]\n",
    "random_test_images_gray = test_images_gray[random_idx, ...]\n",
    "random_test_labels = test_labels[random_idx, ...]\n",
    "\n",
    "MLP_pred = MLP_model.predict(random_test_images_gray)\n",
    "CNN_pred = CNN_model.predict(random_test_images)\n",
    "\n",
    "fig, axes = plt.subplots(5, 3, figsize=(16, 16))\n",
    "fig.subplots_adjust(hspace=0.3, wspace=0.3)\n",
    "\n",
    "for i, (pred1, pred2, image, label) in enumerate(\n",
    "    zip(MLP_pred, CNN_pred, random_test_images, random_test_labels)):\n",
    "    axes[i, 0].imshow(np.squeeze(image))\n",
    "    axes[i, 0].get_xaxis().set_visible(False)\n",
    "    axes[i, 0].get_yaxis().set_visible(False)\n",
    "    axes[i, 0].text(10., -1.5, f\"Label {label}\")\n",
    "    axes[i, 1].bar(np.arange(len(pred1)), pred1)\n",
    "    axes[i, 1].set_xticks(np.arange(len(pred1)))\n",
    "    axes[i, 1].set_title(f\"Predictive distribution. MLP prediction: {np.argmax(pred1)}\")\n",
    "    axes[i, 2].bar(np.arange(len(pred2)), pred2)\n",
    "    axes[i, 2].set_xticks(np.arange(len(pred2)))\n",
    "    axes[i, 2].set_title(f\"Predictive distribution. CNN prediction: {np.argmax(pred2)}\")\n",
    "plt.show()"
   ]
  },
  {
   "cell_type": "code",
   "execution_count": null,
   "metadata": {
    "id": "MfQHFiRt3Vj1"
   },
   "outputs": [],
   "source": [
    "# Clear directory\n",
    "! rm -rf MLP_checkpoints_best_only CNN_checkpoints_best_only"
   ]
  }
 ],
 "metadata": {
  "colab": {
   "include_colab_link": true,
   "name": "Classify_SVHN_image.ipynb",
   "provenance": []
  },
  "gpuClass": "standard",
  "kernelspec": {
   "display_name": "Python 3 (ipykernel)",
   "language": "python",
   "name": "python3"
  },
  "language_info": {
   "codemirror_mode": {
    "name": "ipython",
    "version": 3
   },
   "file_extension": ".py",
   "mimetype": "text/x-python",
   "name": "python",
   "nbconvert_exporter": "python",
   "pygments_lexer": "ipython3",
   "version": "3.8.10"
  }
 },
 "nbformat": 4,
 "nbformat_minor": 4
}
