{
 "cells": [
  {
   "cell_type": "code",
   "execution_count": null,
   "metadata": {},
   "outputs": [],
   "source": [
    "%%bash\n",
    "pip install --no-cache-dir -qU pip wheel\n",
    "pip install --no-cache-dir -qU numpy pandas matplotlib seaborn scikit-learn\n",
    "pip install --no-cache-dir -qU tensorflow-gpu\n",
    "pip check"
   ]
  },
  {
   "cell_type": "markdown",
   "metadata": {
    "id": "YiJFHhDF9Ucx"
   },
   "source": [
    "# Saving model architecture only\n",
    "\n",
    "In this reading you will learn how to save a model's architecture, but not its weights."
   ]
  },
  {
   "cell_type": "code",
   "execution_count": 2,
   "metadata": {
    "colab": {
     "base_uri": "https://localhost:8080/"
    },
    "id": "xaW4tp7Z9Ucz",
    "outputId": "722ffddd-b3db-444c-9bf5-ab182025a9ef"
   },
   "outputs": [],
   "source": [
    "import os\n",
    "import numpy as np\n",
    "import pandas as pd\n",
    "import json\n",
    "\n",
    "%matplotlib inline\n",
    "%config InlineBackend.figure_format = 'retina'\n",
    "import matplotlib.pyplot as plt\n",
    "\n",
    "import seaborn as sns\n",
    "sns.set_style('whitegrid')\n",
    "sns.set(font='DejaVu Sans')\n",
    "\n",
    "import tensorflow as tf\n",
    "tf.keras.utils.set_random_seed(42)\n",
    "tf.get_logger().setLevel('ERROR')"
   ]
  },
  {
   "cell_type": "markdown",
   "metadata": {
    "id": "Z_4WHJ8F9Uc9"
   },
   "source": [
    "In previous videos and notebooks you have learned how to save a model's weights, as well as the entire model - weights and architecture."
   ]
  },
  {
   "cell_type": "markdown",
   "metadata": {
    "id": "zP2lw9x89UdC"
   },
   "source": [
    "### Accessing a model's configuration\n",
    "\n",
    "A model's *configuration* refers to its architecture. TensorFlow has a convenient way to retrieve a model's architecture as a dictionary. We start by creating a simple fully connected feedforward neural network with 1 hidden layer."
   ]
  },
  {
   "cell_type": "code",
   "execution_count": 4,
   "metadata": {
    "id": "lgXNgVZH9UdD"
   },
   "outputs": [
    {
     "name": "stdout",
     "output_type": "stream",
     "text": [
      "Model: \"sequential_1\"\n",
      "_________________________________________________________________\n",
      " Layer (type)                Output Shape              Param #   \n",
      "=================================================================\n",
      " dense_1 (Dense)             (None, 32, 32, 32)        128       \n",
      "                                                                 \n",
      " dense_2 (Dense)             (None, 32, 32, 10)        330       \n",
      "                                                                 \n",
      "=================================================================\n",
      "Total params: 458\n",
      "Trainable params: 458\n",
      "Non-trainable params: 0\n",
      "_________________________________________________________________\n"
     ]
    }
   ],
   "source": [
    "# Build the model\n",
    "model = tf.keras.Sequential([\n",
    "    tf.keras.layers.Dense(units=32, activation='relu', \n",
    "        input_shape=(32, 32, 3), name='dense_1'),\n",
    "    tf.keras.layers.Dense(units=10, activation='softmax', \n",
    "        name='dense_2')\n",
    "])\n",
    "model.summary()"
   ]
  },
  {
   "cell_type": "markdown",
   "metadata": {
    "id": "TJcAEJZT9UdJ"
   },
   "source": [
    "A TensorFlow model has an inbuilt method `get_config` which returns the model's architecture as a dictionary:"
   ]
  },
  {
   "cell_type": "code",
   "execution_count": 5,
   "metadata": {
    "colab": {
     "base_uri": "https://localhost:8080/"
    },
    "collapsed": true,
    "id": "Jgtuygvm9UdL",
    "jupyter": {
     "outputs_hidden": true
    },
    "outputId": "c88697de-555b-4f99-c4ec-fe2a6d9c000e",
    "scrolled": true,
    "tags": []
   },
   "outputs": [
    {
     "data": {
      "text/plain": [
       "{'name': 'sequential_1',\n",
       " 'layers': [{'class_name': 'InputLayer',\n",
       "   'config': {'batch_input_shape': (None, 32, 32, 3),\n",
       "    'dtype': 'float32',\n",
       "    'sparse': False,\n",
       "    'ragged': False,\n",
       "    'name': 'dense_1_input'}},\n",
       "  {'class_name': 'Dense',\n",
       "   'config': {'name': 'dense_1',\n",
       "    'trainable': True,\n",
       "    'dtype': 'float32',\n",
       "    'batch_input_shape': (None, 32, 32, 3),\n",
       "    'units': 32,\n",
       "    'activation': 'relu',\n",
       "    'use_bias': True,\n",
       "    'kernel_initializer': {'class_name': 'GlorotUniform',\n",
       "     'config': {'seed': None}},\n",
       "    'bias_initializer': {'class_name': 'Zeros', 'config': {}},\n",
       "    'kernel_regularizer': None,\n",
       "    'bias_regularizer': None,\n",
       "    'activity_regularizer': None,\n",
       "    'kernel_constraint': None,\n",
       "    'bias_constraint': None}},\n",
       "  {'class_name': 'Dense',\n",
       "   'config': {'name': 'dense_2',\n",
       "    'trainable': True,\n",
       "    'dtype': 'float32',\n",
       "    'units': 10,\n",
       "    'activation': 'softmax',\n",
       "    'use_bias': True,\n",
       "    'kernel_initializer': {'class_name': 'GlorotUniform',\n",
       "     'config': {'seed': None}},\n",
       "    'bias_initializer': {'class_name': 'Zeros', 'config': {}},\n",
       "    'kernel_regularizer': None,\n",
       "    'bias_regularizer': None,\n",
       "    'activity_regularizer': None,\n",
       "    'kernel_constraint': None,\n",
       "    'bias_constraint': None}}]}"
      ]
     },
     "execution_count": 5,
     "metadata": {},
     "output_type": "execute_result"
    }
   ],
   "source": [
    "# Get the model config\n",
    "config_dict = model.get_config()\n",
    "config_dict"
   ]
  },
  {
   "cell_type": "markdown",
   "metadata": {
    "id": "hxiJ_t6N9UdQ"
   },
   "source": [
    "### Creating a new model from the config\n",
    "\n",
    "A new TensorFlow model can be created from this config dictionary. This model will have reinitialized weights, which are not the same as the original model."
   ]
  },
  {
   "cell_type": "code",
   "execution_count": 6,
   "metadata": {
    "id": "gm1f2gAa9UdR"
   },
   "outputs": [
    {
     "name": "stdout",
     "output_type": "stream",
     "text": [
      "Model: \"sequential_1\"\n",
      "_________________________________________________________________\n",
      " Layer (type)                Output Shape              Param #   \n",
      "=================================================================\n",
      " dense_1 (Dense)             (None, 32, 32, 32)        128       \n",
      "                                                                 \n",
      " dense_2 (Dense)             (None, 32, 32, 10)        330       \n",
      "                                                                 \n",
      "=================================================================\n",
      "Total params: 458\n",
      "Trainable params: 458\n",
      "Non-trainable params: 0\n",
      "_________________________________________________________________\n"
     ]
    }
   ],
   "source": [
    "# Create a model from the config dictionary\n",
    "model_same_config = tf.keras.Sequential.from_config(config_dict)\n",
    "model_same_config.summary()"
   ]
  },
  {
   "cell_type": "markdown",
   "metadata": {
    "id": "OuHyoj3l9UdX"
   },
   "source": [
    "We can check explicitly that the config of both models is the same, but the weights are not: "
   ]
  },
  {
   "cell_type": "code",
   "execution_count": 7,
   "metadata": {
    "colab": {
     "base_uri": "https://localhost:8080/"
    },
    "id": "gd6zl8dD9UdY",
    "outputId": "2e8a5d59-ab4b-448a-e46c-88c3b42b287d"
   },
   "outputs": [
    {
     "name": "stdout",
     "output_type": "stream",
     "text": [
      "Same config: True\n",
      "Same value for first weight matrix: False\n"
     ]
    }
   ],
   "source": [
    "# Check the new model is the same architecture\n",
    "print('Same config:', model.get_config()['layers'] == \\\n",
    "    model_same_config.get_config()['layers'])\n",
    "print('Same value for first weight matrix:', np.allclose(\n",
    "    model.weights[0].numpy(), model_same_config.weights[0].numpy()))"
   ]
  },
  {
   "cell_type": "markdown",
   "metadata": {
    "id": "gnNzZDlO9Udf"
   },
   "source": [
    "For models that are not `Sequential` models, use `tf.keras.Model.from_config` instead of `tf.keras.Sequential.from_config`."
   ]
  },
  {
   "cell_type": "markdown",
   "metadata": {
    "id": "8dnaexx69Udg"
   },
   "source": [
    "### Other file formats: JSON and YAML\n",
    "It is also possible to obtain a model's config in JSON or YAML formats. This follows the same pattern:"
   ]
  },
  {
   "cell_type": "code",
   "execution_count": 8,
   "metadata": {
    "colab": {
     "base_uri": "https://localhost:8080/"
    },
    "id": "81NDCq_B9Udg",
    "outputId": "32dd083a-413e-471e-c895-bbd505239435",
    "tags": []
   },
   "outputs": [
    {
     "data": {
      "text/plain": [
       "'{\"class_name\": \"Sequential\", \"config\": {\"name\": \"sequential_1\", \"layers\": [{\"class_name\": \"InputLayer\", \"config\": {\"batch_input_shape\": [null, 32, 32, 3], \"dtype\": \"float32\", \"sparse\": false, \"ragged\": false, \"name\": \"dense_1_input\"}}, {\"class_name\": \"Dense\", \"config\": {\"name\": \"dense_1\", \"trainable\": true, \"dtype\": \"float32\", \"batch_input_shape\": [null, 32, 32, 3], \"units\": 32, \"activation\": \"relu\", \"use_bias\": true, \"kernel_initializer\": {\"class_name\": \"GlorotUniform\", \"config\": {\"seed\": null}}, \"bias_initializer\": {\"class_name\": \"Zeros\", \"config\": {}}, \"kernel_regularizer\": null, \"bias_regularizer\": null, \"activity_regularizer\": null, \"kernel_constraint\": null, \"bias_constraint\": null}}, {\"class_name\": \"Dense\", \"config\": {\"name\": \"dense_2\", \"trainable\": true, \"dtype\": \"float32\", \"units\": 10, \"activation\": \"softmax\", \"use_bias\": true, \"kernel_initializer\": {\"class_name\": \"GlorotUniform\", \"config\": {\"seed\": null}}, \"bias_initializer\": {\"class_name\": \"Zeros\", \"config\": {}}, \"kernel_regularizer\": null, \"bias_regularizer\": null, \"activity_regularizer\": null, \"kernel_constraint\": null, \"bias_constraint\": null}}]}, \"keras_version\": \"2.11.0\", \"backend\": \"tensorflow\"}'"
      ]
     },
     "execution_count": 8,
     "metadata": {},
     "output_type": "execute_result"
    }
   ],
   "source": [
    "# Convert the model to JSON\n",
    "json_string = model.to_json()\n",
    "json_string"
   ]
  },
  {
   "cell_type": "markdown",
   "metadata": {
    "id": "uZ51Mlkl9Udl"
   },
   "source": [
    "The JSON format can easily be written out and saved as a file:"
   ]
  },
  {
   "cell_type": "code",
   "execution_count": 9,
   "metadata": {
    "id": "SSyz1zpd9Udm"
   },
   "outputs": [],
   "source": [
    "# Write out JSON config file\n",
    "with open('config.json', 'w') as f:\n",
    "    json.dump(json_string, f)\n",
    "del json_string"
   ]
  },
  {
   "cell_type": "code",
   "execution_count": 10,
   "metadata": {
    "id": "-yUkIuyN9Udr"
   },
   "outputs": [],
   "source": [
    "# Read in JSON config file again\n",
    "with open('config.json', 'r') as f:\n",
    "    json_string = json.load(f)"
   ]
  },
  {
   "cell_type": "code",
   "execution_count": 11,
   "metadata": {
    "id": "8apJPNlj9Udv"
   },
   "outputs": [
    {
     "name": "stdout",
     "output_type": "stream",
     "text": [
      "Model: \"sequential_1\"\n",
      "_________________________________________________________________\n",
      " Layer (type)                Output Shape              Param #   \n",
      "=================================================================\n",
      " dense_1 (Dense)             (None, 32, 32, 32)        128       \n",
      "                                                                 \n",
      " dense_2 (Dense)             (None, 32, 32, 10)        330       \n",
      "                                                                 \n",
      "=================================================================\n",
      "Total params: 458\n",
      "Trainable params: 458\n",
      "Non-trainable params: 0\n",
      "_________________________________________________________________\n"
     ]
    }
   ],
   "source": [
    "# Reinitialize the model\n",
    "model_same_config = tf.keras.models.model_from_json(json_string)\n",
    "model_same_config.summary()"
   ]
  },
  {
   "cell_type": "code",
   "execution_count": 12,
   "metadata": {
    "colab": {
     "base_uri": "https://localhost:8080/"
    },
    "id": "e-OpX9a19Udz",
    "outputId": "be16787e-52a1-43c6-aefa-5d5613a99111"
   },
   "outputs": [
    {
     "name": "stdout",
     "output_type": "stream",
     "text": [
      "Same config: True\n",
      "Same value for first weight matrix: False\n"
     ]
    }
   ],
   "source": [
    "# Check the new model is the same architecture, but different weights\n",
    "print('Same config:', model.get_config()['layers'] == \\\n",
    "    model_same_config.get_config()['layers'])\n",
    "print('Same value for first weight matrix:', np.allclose(\n",
    "    model.weights[0].numpy(), model_same_config.weights[0].numpy()))"
   ]
  },
  {
   "cell_type": "code",
   "execution_count": 13,
   "metadata": {
    "id": "kfXyCKTE9Ud4"
   },
   "outputs": [],
   "source": [
    "# Clear file\n",
    "! rm config.json"
   ]
  },
  {
   "cell_type": "markdown",
   "metadata": {
    "id": "_vdL07rz9UeE"
   },
   "source": [
    "### Further reading and resources\n",
    "* https://www.tensorflow.org/guide/keras/save_and_serialize#architecture-only_saving\n",
    "* https://keras.io/getting-started/faq/#how-can-i-save-a-keras-model"
   ]
  }
 ],
 "metadata": {
  "accelerator": "GPU",
  "colab": {
   "include_colab_link": true,
   "name": "Saving_model_architecture.ipynb",
   "provenance": []
  },
  "kernelspec": {
   "display_name": "Python 3 (ipykernel)",
   "language": "python",
   "name": "python3"
  },
  "language_info": {
   "codemirror_mode": {
    "name": "ipython",
    "version": 3
   },
   "file_extension": ".py",
   "mimetype": "text/x-python",
   "name": "python",
   "nbconvert_exporter": "python",
   "pygments_lexer": "ipython3",
   "version": "3.8.10"
  }
 },
 "nbformat": 4,
 "nbformat_minor": 4
}
