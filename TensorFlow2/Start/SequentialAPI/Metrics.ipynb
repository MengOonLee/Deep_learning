{
 "cells": [
  {
   "cell_type": "markdown",
   "metadata": {
    "id": "gK55Pq_iSySn"
   },
   "source": [
    "# Metrics in Keras\n",
    "\n",
    "In this reading we will be exploring the different metrics in Keras that may be used to judge the performance of a model."
   ]
  },
  {
   "cell_type": "markdown",
   "metadata": {
    "id": "yMb7d1sPSyS0"
   },
   "source": [
    "One of the most common metrics used for classification problems in Keras is `accuracy`.\n",
    "\n",
    "We will begin with a simple example of a model that uses accuracy as a metric."
   ]
  },
  {
   "cell_type": "code",
   "execution_count": 2,
   "metadata": {
    "id": "7fbLvBRdSyS3",
    "tags": []
   },
   "outputs": [
    {
     "name": "stdout",
     "output_type": "stream",
     "text": [
      "Model: \"sequential_1\"\n",
      "_________________________________________________________________\n",
      " Layer (type)                Output Shape              Param #   \n",
      "=================================================================\n",
      " flatten_1 (Flatten)         (None, 784)               0         \n",
      "                                                                 \n",
      " dense_3 (Dense)             (None, 32)                25120     \n",
      "                                                                 \n",
      " dense_4 (Dense)             (None, 32)                1056      \n",
      "                                                                 \n",
      " dense_5 (Dense)             (None, 10)                330       \n",
      "                                                                 \n",
      "=================================================================\n",
      "Total params: 26506 (103.54 KB)\n",
      "Trainable params: 26506 (103.54 KB)\n",
      "Non-trainable params: 0 (0.00 Byte)\n",
      "_________________________________________________________________\n"
     ]
    }
   ],
   "source": [
    "import tensorflow as tf\n",
    "tf.keras.utils.set_random_seed(42)\n",
    "\n",
    "# Build the model\n",
    "model = tf.keras.Sequential()\n",
    "model.add(tf.keras.layers.Flatten(input_shape=(28, 28)))\n",
    "model.add(tf.keras.layers.Dense(units=32, activation=tf.keras.activations.relu))\n",
    "model.add(tf.keras.layers.Dense(units=32, activation=tf.keras.activations.tanh))\n",
    "model.add(tf.keras.layers.Dense(units=10, activation=tf.keras.activations.softmax))\n",
    "\n",
    "# Compile the model\n",
    "model.compile(\n",
    "    optimizer=tf.keras.optimizers.Adam(),\n",
    "    loss=tf.keras.losses.SparseCategoricalCrossentropy(),\n",
    "    metrics=[tf.keras.metrics.SparseCategoricalAccuracy()])\n",
    "\n",
    "model.summary()"
   ]
  },
  {
   "cell_type": "markdown",
   "metadata": {
    "id": "_8I8cSJqSyS9"
   },
   "source": [
    "We now have a model that uses accuracy as a metric to judge its performance.\n",
    "\n",
    "But how is this metric actually calculated? We will break our discussion into two cases."
   ]
  },
  {
   "cell_type": "markdown",
   "metadata": {
    "id": "HgblunXkSyTA"
   },
   "source": [
    "### Case 1 - Binary Classification with sigmoid activation function\n",
    "Suppose we are training a model for a binary classification problem with a sigmoid activation function (softmax activation functions are covered in the next case).\n",
    "\n",
    "Given a training example with input $x^{(i)}$, the model will output a float between 0 and 1. Based on whether this float is less than or greater than our \"threshold\" (which by default is set at 0.5), we round the float to get the predicted classification $y_{pred}$ from the model.\n",
    "\n",
    "The accuray metric compares the value of $y_{pred}$ on each training example with the true output, the one-hot coded vector $y_{true}^{(i)}$ from our training data.\n",
    "\n",
    "Let $$\\delta(y_{pred}^{(i)}, y_{true}^{(i)}) =\n",
    "\\begin{cases} 1 & y_{pred}=y_{true} \\\\\n",
    "0 & y_{pred} \\neq y_{true} \\end{cases}$$\n",
    "\n",
    "The accuracy metric computes the mean of\n",
    "$\\delta(y_{pred}^{(i)}, y_{true}^{(i)})$ over all training examples.\n",
    "\n",
    "$$accuracy = \\frac{1}{N} \\sum_{i=1}^N\n",
    "\\delta(y_{pred}^{(i)}, y_{true}^{(i)})$$\n",
    "\n",
    "This is implemented in the backend of Keras as follows.\n",
    "Note: We have set $y_{true}$ and $y_{pred}$ ourselves for the purposes of this example."
   ]
  },
  {
   "cell_type": "code",
   "execution_count": 3,
   "metadata": {
    "colab": {
     "base_uri": "https://localhost:8080/"
    },
    "id": "MVctmRYYSyTA",
    "outputId": "fd5bacfc-6b2f-43d5-e3bb-ac2cad7778ac"
   },
   "outputs": [
    {
     "data": {
      "text/plain": [
       "<tf.Tensor: shape=(), dtype=float32, numpy=0.6666667>"
      ]
     },
     "execution_count": 3,
     "metadata": {},
     "output_type": "execute_result"
    }
   ],
   "source": [
    "import tensorflow as tf\n",
    "tf.keras.utils.set_random_seed(42)\n",
    "\n",
    "# Sigmoid activation function\n",
    "y_true = tf.constant(value=[0.0, 1.0, 1.0])\n",
    "y_pred = tf.constant(value=[0.4, 0.8, 0.3])\n",
    "accuracy = tf.keras.backend.mean(tf.keras.backend.equal(\n",
    "    y_true, tf.keras.backend.round(y_pred)))\n",
    "accuracy"
   ]
  },
  {
   "cell_type": "markdown",
   "metadata": {
    "id": "jfTJQzDfSyTG"
   },
   "source": [
    "### Case 2 - Categorical Classification\n",
    "Now suppose we are training a model for a classification problem which should sort data into $m > 2$ different classes using a softmax activation function in the last layer.\n",
    "\n",
    "Given a training example with input $x^{(i)}$, the model will output a tensor of probabilities $p_1, p_2, \\dots p_m$, giving the likelihood (according to the model) that $x^{(i)}$ falls into each class.\n",
    "\n",
    "The accuracy metric works by determining the largest argument in the $y_{pred}^{(i)}$ tensor, and compares its index to the index of the maximum value of $y_{true}^{(i)}$ to determine $\\delta(y_{pred}^{(i)}, y_{true}^{(i)})$. It then computes thte accuracy in the same way as for the binary classification case.\n",
    "\n",
    "$$accuracy = \\frac{1}{N} \\sum_{i=1}^N\n",
    "\\delta(y_{pred}^{(i)}, y_{true}^{(i)})$$\n",
    "\n",
    "In the backend of Keras, the accuracy metric is implemented slightly differently depending on whether we have a binary classification problem ($m = 2$) or a categorical classification problem. Note that the accuracy for binary classification problems is the same, no matter if we use a sigmoid or softmax activation function to obtain the output."
   ]
  },
  {
   "cell_type": "code",
   "execution_count": 4,
   "metadata": {
    "colab": {
     "base_uri": "https://localhost:8080/"
    },
    "id": "-X56yzp_SyTI",
    "outputId": "5ce7f280-9eea-4de3-c170-4d29056da677"
   },
   "outputs": [
    {
     "data": {
      "text/plain": [
       "<tf.Tensor: shape=(), dtype=float32, numpy=0.5>"
      ]
     },
     "execution_count": 4,
     "metadata": {},
     "output_type": "execute_result"
    }
   ],
   "source": [
    "import tensorflow as tf\n",
    "tf.keras.utils.set_random_seed(42)\n",
    "\n",
    "# Binary classification with softmax\n",
    "y_true = tf.constant(value=[\n",
    "    [0.0, 1.0], [1.0, 0.0],\n",
    "    [1.0, 0.0], [0.0, 1.0]\n",
    "])\n",
    "y_pred = tf.constant(value=[\n",
    "    [0.4, 0.6], [0.3, 0.7],\n",
    "    [0.05, 0.95], [0.33, 0.67]\n",
    "])\n",
    "accuracy = tf.keras.backend.mean(tf.keras.backend.equal(\n",
    "    y_true, tf.keras.backend.round(y_pred)\n",
    "))\n",
    "accuracy"
   ]
  },
  {
   "cell_type": "code",
   "execution_count": 5,
   "metadata": {
    "colab": {
     "base_uri": "https://localhost:8080/"
    },
    "id": "XbjF9KMRSyTN",
    "outputId": "8ef2726f-f783-46ed-e464-53678de6321c"
   },
   "outputs": [
    {
     "data": {
      "text/plain": [
       "<tf.Tensor: shape=(), dtype=float32, numpy=0.6666667>"
      ]
     },
     "execution_count": 5,
     "metadata": {},
     "output_type": "execute_result"
    }
   ],
   "source": [
    "import tensorflow as tf\n",
    "tf.keras.utils.set_random_seed(42)\n",
    "\n",
    "# Categorical classification with m>2\n",
    "y_true = tf.constant(value=[\n",
    "    [0.0, 1.0, 0.0, 0.0],\n",
    "    [1.0, 0.0, 0.0, 0.0],\n",
    "    [0.0, 0.0, 1.0, 0.0]\n",
    "])\n",
    "y_pred = tf.constant(value=[\n",
    "    [0.4, 0.6, 0.0, 0.0],\n",
    "    [0.3, 0.2, 0.1, 0.4],\n",
    "    [0.05, 0.35, 0.5, 0.1]\n",
    "])\n",
    "accuracy = tf.keras.backend.mean(tf.keras.backend.equal(\n",
    "    tf.keras.backend.argmax(y_true, axis=-1),\n",
    "    tf.keras.backend.argmax(y_pred, axis=-1)\n",
    "))\n",
    "accuracy"
   ]
  },
  {
   "cell_type": "markdown",
   "metadata": {
    "id": "_Lmq-0lKSyTT"
   },
   "source": [
    "## Other examples of metrics\n",
    "We will now look at some other metrics in Keras. A full list is\n",
    "available at <https://keras.io/metrics/>\n",
    "\n",
    "### Binary accuracy and categorical accuracy\n",
    "The `binary_accuracy` and `categorical_accuracy` metrics are, by default, identical to the Case 1 and 2 respectively of the `accuracy` metric explained above.\n",
    "\n",
    "However, using `binary_accuracy` allows you to use the optional `threshold` argument, which sets the minimum value of $y_{pred}$ which will be rounded to 1. As mentioned above, it is set as \n",
    "`threshold = 0.5` by default.\n",
    "\n",
    "Below we give some examples of how to compile a model with `binary_accuracy` with and without a threshold."
   ]
  },
  {
   "cell_type": "code",
   "execution_count": 6,
   "metadata": {
    "id": "HF7aZjg4SyTV"
   },
   "outputs": [],
   "source": [
    "import tensorflow as tf\n",
    "tf.keras.utils.set_random_seed(42)\n",
    "\n",
    "# Compile the model with default threshold (=0.5)\n",
    "model.compile(\n",
    "    optimizer=tf.keras.optimizers.Adam(),\n",
    "    loss=tf.keras.losses.BinaryCrossentropy(),\n",
    "    metrics=[tf.keras.metrics.BinaryAccuracy()]\n",
    ")\n",
    "\n",
    "# The threshold can be specified as follows\n",
    "model.compile(\n",
    "    optimizer=tf.keras.optimizers.Adam(),\n",
    "    loss=tf.keras.losses.BinaryCrossentropy(),\n",
    "    metrics=[tf.keras.metrics.BinaryAccuracy(threshold=0.5)]\n",
    ")"
   ]
  },
  {
   "cell_type": "markdown",
   "metadata": {
    "id": "VvROzGaeSyTZ"
   },
   "source": [
    "### Sparse categorical accuracy\n",
    "\n",
    "This is a very similar metric to categorical accuracy with one major difference - the label $y_{true}$ of each training example is not expected to be a one-hot encoded vector, but to be a tensor consisting of a single integer. This integer is then compared to the index of the maximum argument of $y_{pred}$ to determine \n",
    "$\\delta(y_{pred}^{(i)}, y_{true}^{(i)})$."
   ]
  },
  {
   "cell_type": "code",
   "execution_count": 7,
   "metadata": {
    "id": "2wCOw2FKSyTa"
   },
   "outputs": [],
   "source": [
    "import tensorflow as tf\n",
    "tf.keras.utils.set_random_seed(42)\n",
    "\n",
    "# Two examples of compiling a model with a sparse categorical accuracy metric\n",
    "model.compile(\n",
    "    optimizer=tf.keras.optimizers.Adam(),\n",
    "    loss=tf.keras.losses.SparseCategoricalCrossentropy(),\n",
    "    metrics=[tf.keras.metrics.SparseCategoricalAccuracy()]\n",
    ")"
   ]
  },
  {
   "cell_type": "markdown",
   "metadata": {
    "id": "Amzk_Ef9SyTe"
   },
   "source": [
    "### (Sparse) Top $k$-categorical accuracy\n",
    "In top $k$-categorical accuracy, instead of computing how often the model correctly predicts the label of a training example, the metric computes how often the model has $y_{true}$ in the top $k$ of its predictions. By default, $k=5$.\n",
    "\n",
    "As before, the main difference between top $k$-categorical accuracy and its sparse version is that the former assumes $y_{true}$ is a one-hot encoded vector, whereas the sparse version assumes $y_{true}$ is an integer."
   ]
  },
  {
   "cell_type": "code",
   "execution_count": 8,
   "metadata": {
    "id": "polAIeO_SyTg"
   },
   "outputs": [],
   "source": [
    "import tensorflow as tf\n",
    "tf.keras.utils.set_random_seed(42)\n",
    "\n",
    "# Compile a model with a top-k categorical accuracy metric with default k(=5)\n",
    "model.compile(\n",
    "    optimizer=tf.keras.optimizers.Adam(),\n",
    "    loss=tf.keras.losses.CategoricalCrossentropy(),\n",
    "    metrics=[tf.keras.metrics.TopKCategoricalAccuracy()]\n",
    ")\n",
    "\n",
    "# Specify k instead with the sparse top-k categorical accuracy\n",
    "model.compile(\n",
    "    optimizer=tf.keras.optimizers.Adam(),\n",
    "    loss=tf.keras.losses.SparseCategoricalCrossentropy(),\n",
    "    metrics=[tf.keras.metrics.SparseTopKCategoricalAccuracy(k=5)]\n",
    ")"
   ]
  },
  {
   "cell_type": "markdown",
   "metadata": {
    "id": "AXmRE6NDSyTl"
   },
   "source": [
    "## Custom metrics\n",
    "It is also possible to define your own custom metric in Keras.\n",
    "You will need to make sure that your metric takes in (at least) two arguments called `y_true` and `y_pred` and then output a single tensor value."
   ]
  },
  {
   "cell_type": "code",
   "execution_count": 9,
   "metadata": {
    "id": "OH4fnX1WSyTm"
   },
   "outputs": [],
   "source": [
    "import tensorflow as tf\n",
    "tf.keras.utils.set_random_seed(42)\n",
    "\n",
    "# Define a custom metric\n",
    "def mean_pred(y_true, y_pred):\n",
    "    return tf.keras.backend.mean(y_pred)"
   ]
  },
  {
   "cell_type": "markdown",
   "metadata": {
    "id": "XTQMlBy-SyTq"
   },
   "source": [
    "We can then use this metric when we compile our model as follows."
   ]
  },
  {
   "cell_type": "code",
   "execution_count": 10,
   "metadata": {
    "id": "Cg2VBUPJSyTr"
   },
   "outputs": [],
   "source": [
    "model.compile(\n",
    "    optimizer=tf.keras.optimizers.Adam(),\n",
    "    loss=tf.keras.losses.SparseCategoricalCrossentropy(),\n",
    "    metrics=[mean_pred]\n",
    ")"
   ]
  },
  {
   "cell_type": "markdown",
   "metadata": {
    "id": "o6c1CLMsSyTw"
   },
   "source": [
    "## Multiple metrics\n",
    "Finally, it is possible to use multiple metrics to judge the performance of your model.\n",
    "\n",
    "Here's an example:"
   ]
  },
  {
   "cell_type": "code",
   "execution_count": 11,
   "metadata": {
    "id": "1tFdvA8SSyTy"
   },
   "outputs": [],
   "source": [
    "import tensorflow as tf\n",
    "tf.keras.utils.set_random_seed(42)\n",
    "\n",
    "# Compile the model with multiple metrics\n",
    "model.compile(\n",
    "    optimizer=tf.keras.optimizers.Adam(),\n",
    "    loss=tf.keras.losses.SparseCategoricalCrossentropy(),\n",
    "    metrics=[mean_pred, tf.keras.metrics.SparseCategoricalAccuracy(), \n",
    "        tf.keras.metrics.SparseTopKCategoricalAccuracy(k=5)]\n",
    ")"
   ]
  },
  {
   "cell_type": "markdown",
   "metadata": {
    "id": "7SnzeLDCSyT3"
   },
   "source": [
    "### Sources and Further Reading\n",
    "* The metrics page on the Keras website: https://keras.io/metrics/\n",
    "* The source code for the metrics: https://github.com/keras-team/keras/blob/master/keras/metrics.py"
   ]
  }
 ],
 "metadata": {
  "accelerator": "GPU",
  "colab": {
   "include_colab_link": true,
   "name": "Metrics.ipynb",
   "provenance": []
  },
  "kernelspec": {
   "display_name": "venv",
   "language": "python",
   "name": "venv"
  },
  "language_info": {
   "codemirror_mode": {
    "name": "ipython",
    "version": 3
   },
   "file_extension": ".py",
   "mimetype": "text/x-python",
   "name": "python",
   "nbconvert_exporter": "python",
   "pygments_lexer": "ipython3",
   "version": "3.11.0rc1"
  }
 },
 "nbformat": 4,
 "nbformat_minor": 4
}
