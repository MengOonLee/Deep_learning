{
  "nbformat": 4,
  "nbformat_minor": 0,
  "metadata": {
    "colab": {
      "provenance": [],
      "name": "Sampling.ipynb",
      "authorship_tag": "ABX9TyOUR/17EkglRyLEgPS2fu3p",
      "include_colab_link": true
    },
    "kernelspec": {
      "name": "python3",
      "display_name": "Python 3"
    },
    "language_info": {
      "name": "python"
    }
  },
  "cells": [
    {
      "cell_type": "markdown",
      "metadata": {
        "id": "view-in-github",
        "colab_type": "text"
      },
      "source": [
        "<a href=\"https://colab.research.google.com/github/MengOonLee/Deep_learning/blob/master/Diffusion/Sampling.ipynb\" target=\"_parent\"><img src=\"https://colab.research.google.com/assets/colab-badge.svg\" alt=\"Open In Colab\"/></a>"
      ]
    },
    {
      "cell_type": "markdown",
      "source": [
        "# Lab 1, Sampling"
      ],
      "metadata": {
        "id": "MSwZH6BX53Z2"
      }
    },
    {
      "cell_type": "code",
      "source": [
        "# %%writefile diffusion_utilities.py\n",
        "import numpy as np\n",
        "import torch\n",
        "\n",
        "class ResidualConvBlock(torch.nn.Module):\n",
        ""
      ],
      "metadata": {
        "id": "T9JKdwZw6gpK"
      },
      "execution_count": null,
      "outputs": []
    },
    {
      "cell_type": "markdown",
      "source": [
        "# Setting Things Up"
      ],
      "metadata": {
        "id": "9VcZYaOO7HeD"
      }
    },
    {
      "cell_type": "code",
      "source": [
        "# hyperparameters\n",
        "import torch\n",
        "\n",
        "# diffusion hyperparameters\n",
        "timesteps = 500\n",
        "beta1 = 1e-4\n",
        "beta2 = 0.02\n",
        "\n",
        "# network hyperparameters\n",
        "device = torch.device(\"cuda:0\" if torch.cuda.is_available()\n",
        "    else torch.device('cpu'))\n",
        "n_feat = 64 # 64 hidden dimension feature\n",
        "n_cfeat = 5 # context vector is of size 5\n",
        "height = 16 # 16x16 image\n",
        "save_dir= './weights/'"
      ],
      "metadata": {
        "id": "pY5rCIfX6BLx"
      },
      "execution_count": 2,
      "outputs": []
    },
    {
      "cell_type": "code",
      "source": [],
      "metadata": {
        "id": "jil9tMm38KZ2"
      },
      "execution_count": null,
      "outputs": []
    }
  ]
}