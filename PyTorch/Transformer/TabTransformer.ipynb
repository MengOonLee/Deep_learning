{
  "nbformat": 4,
  "nbformat_minor": 0,
  "metadata": {
    "colab": {
      "provenance": [],
      "authorship_tag": "ABX9TyNAy/7sBZj6TwIsuA/Qn1+F",
      "include_colab_link": true
    },
    "kernelspec": {
      "name": "python3",
      "display_name": "Python 3"
    },
    "language_info": {
      "name": "python"
    }
  },
  "cells": [
    {
      "cell_type": "markdown",
      "metadata": {
        "id": "view-in-github",
        "colab_type": "text"
      },
      "source": [
        "<a href=\"https://colab.research.google.com/github/MengOonLee/Deep_learning/blob/master/PyTorch/Transformer/TabTransformer.ipynb\" target=\"_parent\"><img src=\"https://colab.research.google.com/assets/colab-badge.svg\" alt=\"Open In Colab\"/></a>"
      ]
    },
    {
      "cell_type": "code",
      "execution_count": null,
      "metadata": {
        "id": "6izs0S_H6sJr"
      },
      "outputs": [],
      "source": [
        "import pandas as pd\n",
        "\n",
        "csv_headers = [\n",
        "    'age', 'workclass', 'fnlwgt', 'education', 'education_num', 'marital_status',\n",
        "    'occupation', 'relationship', 'race', 'gender', 'capital_gain', 'capital_loss',\n",
        "    'hours_per_week', 'native_country', 'income_bracket'\n",
        "]\n",
        "\n",
        "def create_X_y(df):\n",
        "    df = df.copy()\n",
        "    df.drop(columns=['fnlwgt', 'education_num'], inplace=True)\n",
        "    df.dropna(inplace=True)\n",
        "    df['income_bracket'] = df['income_bracket'].astype('str')\\\n",
        "        .str.replace('.', '').str.strip()\n",
        "    X, y = df.drop(columns=['income_bracket']), df['income_bracket']\n",
        "    y = y.map({'<=50K': 0, '>50K': 1}).astype('float32')\n",
        "\n",
        "    numeric_headers = ['capital_gain', 'capital_loss', 'hours_per_week']\n",
        "    X_num = X[numeric_headers].astype('float32')\n",
        "\n",
        "    categoric_headers = [n for n in X.columns if n not in numeric_headers]\n",
        "    for col in categoric_headers:\n",
        "        X[col] = X[col].astype('str').str.strip()\n",
        "    X_cat = X[categoric_headers]\n",
        "\n",
        "    return X_num, X_cat, y\n",
        "\n",
        "url = 'https://archive.ics.uci.edu/ml/machine-learning-databases/adult/adult.data'\n",
        "df_train = pd.read_csv(url, header=None, names=csv_headers)\n",
        "X_num_train, X_cat_train, y_train = create_X_y(df=df_train)\n",
        "\n",
        "url = 'https://archive.ics.uci.edu/ml/machine-learning-databases/adult/adult.test'\n",
        "df_test = pd.read_csv(url, header=0, names=csv_headers)\n",
        "X_num_test, X_cat_test, y_test = create_X_y(df=df_test)\n",
        "\n",
        "cat_maps = {}\n",
        "for col in X_cat_train.columns:\n",
        "    cat_maps[col] = {val: i+1 for i, val in\n",
        "        enumerate(sorted(X_cat_train[col].unique()))}\n",
        "    cat_maps[col]['__UNK__'] = 0\n",
        "    X_cat_train[col] = X_cat_train[col].map(cat_maps[col])\n",
        "    X_cat_test[col] = X_cat_test[col].map(cat_maps[col])"
      ]
    },
    {
      "cell_type": "code",
      "source": [
        "import torch\n",
        "\n",
        "class TabularDataset(torch.utils.data.Dataset):\n",
        "    def __init__(self, X_num, X_cat, y):\n",
        "        self.X_num = torch.tensor(data=X_num.values, dtype=torch.float32)\n",
        "        self.X_cat = torch.tensor(data=X_cat.values, dtype=torch.long)\n",
        "        self.y = torch.tensor(data=y.values, dtype=torch.float32)\n",
        "\n",
        "    def __len__(self):\n",
        "        return len(self.y)\n",
        "\n",
        "    def __getitem__(self, idx):\n",
        "        return self.X_num[idx], self.X_cat[idx], self.y[idx]\n",
        "\n",
        "ds_train = TabularDataset(X_num=X_num_train, X_cat=X_cat_train, y=y_train)\n",
        "ds_test = TabularDataset(X_num=X_num_test, X_cat=X_cat_test, y=y_test)\n",
        "\n",
        "dl_train = torch.utils.data.DataLoader(dataset=ds_train,\n",
        "    batch_size=256, shuffle=True)\n",
        "dl_test = torch.utils.data.DataLoader(dataset=ds_test, batch_size=256)"
      ],
      "metadata": {
        "id": "QPFSPKBFXEp4",
        "outputId": "852f1ff0-2d62-409b-d148-50e63912f98a",
        "colab": {
          "base_uri": "https://localhost:8080/"
        }
      },
      "execution_count": 3,
      "outputs": [
        {
          "output_type": "execute_result",
          "data": {
            "text/plain": [
              "<torch.utils.data.dataloader.DataLoader at 0x78fad1f2cef0>"
            ]
          },
          "metadata": {},
          "execution_count": 3
        }
      ]
    },
    {
      "cell_type": "code",
      "source": [
        "import torch\n",
        "\n",
        "mean, std = X_num_train.values.mean(axis=0), X_num_train.values.std(axis=0)"
      ],
      "metadata": {
        "id": "Fc0EfoIhSMOJ"
      },
      "execution_count": null,
      "outputs": []
    }
  ]
}