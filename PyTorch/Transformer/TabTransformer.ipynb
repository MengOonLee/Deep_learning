{
  "nbformat": 4,
  "nbformat_minor": 0,
  "metadata": {
    "colab": {
      "provenance": [],
      "authorship_tag": "ABX9TyPDqB7vXHDJJPosvEFRiaKq",
      "include_colab_link": true
    },
    "kernelspec": {
      "name": "python3",
      "display_name": "Python 3"
    },
    "language_info": {
      "name": "python"
    }
  },
  "cells": [
    {
      "cell_type": "markdown",
      "metadata": {
        "id": "view-in-github",
        "colab_type": "text"
      },
      "source": [
        "<a href=\"https://colab.research.google.com/github/MengOonLee/Deep_learning/blob/master/PyTorch/Transformer/TabTransformer.ipynb\" target=\"_parent\"><img src=\"https://colab.research.google.com/assets/colab-badge.svg\" alt=\"Open In Colab\"/></a>"
      ]
    },
    {
      "cell_type": "code",
      "execution_count": 1,
      "metadata": {
        "id": "6izs0S_H6sJr"
      },
      "outputs": [],
      "source": [
        "import pandas as pd\n",
        "\n",
        "csv_headers = [\n",
        "    'age', 'workclass', 'fnlwgt', 'education', 'education_num', 'marital_status',\n",
        "    'occupation', 'relationship', 'race', 'gender', 'capital_gain', 'capital_loss',\n",
        "    'hours_per_week', 'native_country', 'income_bracket'\n",
        "]\n",
        "\n",
        "def create_X_y(df):\n",
        "    df.drop(columns=['fnlwgt', 'education_num'], inplace=True)\n",
        "    X, y = df.drop(columns=['income_bracket']), df['income_bracket']\n",
        "    y = y.astype('str').str.replace('.', '', regex=False).str.strip()\n",
        "\n",
        "    numeric_headers = ['capital_gain', 'capital_loss', 'hours_per_week']\n",
        "    X[numeric_headers] = X[numeric_headers].astype('float32')\n",
        "\n",
        "    categoric_headers = [n for n in X.columns if n not in numeric_headers]\n",
        "    for col in categoric_headers:\n",
        "        X[col] = X[col].astype('str').str.strip()\n",
        "\n",
        "    return X, y\n",
        "\n",
        "url = 'https://archive.ics.uci.edu/ml/machine-learning-databases/adult/adult.data'\n",
        "df_train = pd.read_csv(url, header=None, names=csv_headers)\n",
        "X_train, y_train = create_X_y(df=df_train)\n",
        "\n",
        "url = 'https://archive.ics.uci.edu/ml/machine-learning-databases/adult/adult.test'\n",
        "df_test = pd.read_csv(url, header=0, names=csv_headers)\n",
        "X_test, y_test = create_X_y(df=df_test)"
      ]
    },
    {
      "cell_type": "code",
      "source": [],
      "metadata": {
        "id": "u0jU3cBt93RQ"
      },
      "execution_count": null,
      "outputs": []
    }
  ]
}