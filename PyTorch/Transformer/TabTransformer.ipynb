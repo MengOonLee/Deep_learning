{
 "cells": [
  {
   "cell_type": "code",
   "execution_count": 1,
   "metadata": {
    "scrolled": true
   },
   "outputs": [],
   "source": [
    "import pandas as pd\n",
    "\n",
    "CSV_HEADERS = ['age', 'workclass', 'fnlwgt', 'education', 'education_num', 'marital_status',\n",
    "    'occupation', 'relationship', 'race', 'gender', 'capital_gain', 'capital_loss',\n",
    "    'hours_per_week', 'native_country', 'income_bracket']\n",
    "\n",
    "train_url = 'https://archive.ics.uci.edu/ml/machine-learning-databases/adult/adult.data'\n",
    "df_train = pd.read_csv(train_url, header=None, names=CSV_HEADERS)\n",
    "\n",
    "test_url = 'https://archive.ics.uci.edu/ml/machine-learning-databases/adult/adult.test'\n",
    "df_test = pd.read_csv(test_url, header=None, names=CSV_HEADERS, skiprows=1)\n",
    "\n",
    "def load_data(df):\n",
    "    df = df.copy().drop(columns=['fnlwgt', 'education_num'])\\\n",
    "        .reset_index(drop=True)\n",
    "    \n",
    "    numeric_cols = ['capital_gain', 'capital_loss', 'hours_per_week']\n",
    "    X_num = df[numeric_cols].astype('float32')\n",
    "\n",
    "    categoric_cols = [c for c in df.columns if c not in numeric_cols]\n",
    "    X_cat = df[categoric_cols].astype(str).apply(lambda s: s.str.strip())\n",
    "    y = X_cat['income_bracket'].str.replace('.', '')\n",
    "    X_cat = X_cat.drop(columns=['income_bracket'])\n",
    "    \n",
    "    return X_num, X_cat, y\n",
    "\n",
    "X_num_train, X_cat_train, y_train = load_data(df=df_train)\n",
    "X_num_test, X_cat_test, y_test = load_data(df=df_test)"
   ]
  },
  {
   "cell_type": "code",
   "execution_count": 2,
   "metadata": {},
   "outputs": [],
   "source": [
    "from sklearn import preprocessing\n",
    "\n",
    "lb = preprocessing.LabelBinarizer()\n",
    "lb.fit(y=y_train)\n",
    "y_train = lb.transform(y=y_train).squeeze()\n",
    "y_test = lb.transform(y=y_test).squeeze()\n",
    "\n",
    "scaler = preprocessing.StandardScaler()\n",
    "scaler.fit(X=X_num_train)\n",
    "X_num_train = scaler.fit_transform(X=X_num_train)\n",
    "X_num_test = scaler.transform(X=X_num_test)\n",
    "\n",
    "encoder = preprocessing.OrdinalEncoder(unknown_value=-1,\n",
    "    handle_unknown='use_encoded_value')\n",
    "encoder.fit(X=X_cat_train)\n",
    "X_cat_train = encoder.transform(X=X_cat_train)\n",
    "X_cat_test = encoder.transform(X=X_cat_test)\n",
    "\n",
    "num_features = X_num_train.shape[1]\n",
    "cat_cardinalities = (X_cat_train.max(axis=0) + 1).astype(int).tolist()"
   ]
  },
  {
   "cell_type": "code",
   "execution_count": 3,
   "metadata": {},
   "outputs": [],
   "source": [
    "import torch\n",
    "torch.manual_seed(seed=42)\n",
    "\n",
    "class CensusDataset(torch.utils.data.Dataset):\n",
    "    def __init__(self, X_num, X_cat, y):\n",
    "        self.X_num = torch.tensor(data=X_num, dtype=torch.float32)\n",
    "        self.X_cat = torch.tensor(data=X_cat, dtype=torch.long)\n",
    "        self.y = torch.tensor(data=y, dtype=torch.float32)\n",
    "\n",
    "    def __len__(self):\n",
    "        return len(self.y)\n",
    "\n",
    "    def __getitem__(self, idx):\n",
    "        return self.X_num[idx], self.X_cat[idx], self.y[idx]\n",
    "\n",
    "ds_train = CensusDataset(X_num=X_num_train, X_cat=X_cat_train, y=y_train)\n",
    "dl_train = torch.utils.data.DataLoader(dataset=ds_train, batch_size=256, shuffle=True)\n",
    "\n",
    "ds_temp = CensusDataset(X_num=X_num_test, X_cat=X_cat_test, y=y_test)\n",
    "ds_val, ds_test = torch.utils.data.random_split(dataset=ds_temp, lengths=[0.5, 0.5],\n",
    "    generator=torch.Generator().manual_seed(42))\n",
    "dl_val = torch.utils.data.DataLoader(dataset=ds_val, batch_size=256)\n",
    "dl_test = torch.utils.data.DataLoader(dataset=ds_test, batch_size=256)"
   ]
  },
  {
   "cell_type": "code",
   "execution_count": 44,
   "metadata": {},
   "outputs": [
    {
     "name": "stdout",
     "output_type": "stream",
     "text": [
      "tensor([[ 0.1485, -0.2167, -0.0354,  ...,  1.1485,  0.7259, -0.2937],\n",
      "        [-0.1459, -0.2167, -2.2222,  ...,  1.1485,  0.7259, -0.2937],\n",
      "        [-0.1459, -0.2167, -0.0354,  ...,  1.1485,  0.7259, -0.2937],\n",
      "        ...,\n",
      "        [-0.1459, -0.2167, -0.0354,  ...,  1.1485,  0.7259, -0.2937],\n",
      "        [-0.1459, -0.2167, -1.6552,  ...,  1.1485,  0.7259, -0.2937],\n",
      "        [ 1.8884, -0.2167, -0.0354,  ...,  1.1485,  0.7259, -0.2937]],\n",
      "       grad_fn=<CatBackward0>)\n"
     ]
    }
   ],
   "source": [
    "import torch\n",
    "torch.manual_seed(seed=42)\n",
    "\n",
    "class CensusClassifier(torch.nn.Module):\n",
    "    def __init__(self, cat_cardinalities):\n",
    "        super().__init__()\n",
    "        self.emb_layers = torch.nn.ModuleList(modules=[\n",
    "            torch.nn.Embedding(num_embeddings=c+1, embedding_dim=min(8, (c+1)//2))\n",
    "            for c in cat_cardinalities\n",
    "        ])\n",
    "        emb_out_dim = sum(e.embedding_dim for e in self.emb_layers)\n",
    "\n",
    "    def forward(self, x_num, x_cat):\n",
    "        x_emb = [emb(x_cat[:, i]) for i, emb in enumerate(self.emb_layers)]\n",
    "        x_emb = torch.cat(tensors=x_emb, dim=1)\n",
    "        x = torch.cat(tensors=[x_num, x_emb], dim=1)\n",
    "        print(x)\n",
    "        # return self.fc(x)\n",
    "\n",
    "model = CensusClassifier(cat_cardinalities=cat_cardinalities)\n",
    "x_num = torch.tensor(data=X_num_train, dtype=torch.float32)\n",
    "x_cat = torch.tensor(data=X_cat_train, dtype=torch.long)\n",
    "model(x_num=x_num, x_cat=x_cat)"
   ]
  }
 ],
 "metadata": {
  "colab": {
   "authorship_tag": "ABX9TyMbMvq4d9pTIow2y0AY9YRq",
   "include_colab_link": true,
   "provenance": []
  },
  "kernelspec": {
   "display_name": "Python 3 (ipykernel)",
   "language": "python",
   "name": "python3"
  },
  "language_info": {
   "codemirror_mode": {
    "name": "ipython",
    "version": 3
   },
   "file_extension": ".py",
   "mimetype": "text/x-python",
   "name": "python",
   "nbconvert_exporter": "python",
   "pygments_lexer": "ipython3",
   "version": "3.12.3"
  }
 },
 "nbformat": 4,
 "nbformat_minor": 4
}
