{
  "nbformat": 4,
  "nbformat_minor": 0,
  "metadata": {
    "colab": {
      "provenance": [],
      "authorship_tag": "ABX9TyN8QxOIUXFz8XZ6AhbkxZ4c",
      "include_colab_link": true
    },
    "kernelspec": {
      "name": "python3",
      "display_name": "Python 3"
    },
    "language_info": {
      "name": "python"
    }
  },
  "cells": [
    {
      "cell_type": "markdown",
      "metadata": {
        "id": "view-in-github",
        "colab_type": "text"
      },
      "source": [
        "<a href=\"https://colab.research.google.com/github/MengOonLee/Deep_learning/blob/master/PyTorch/Transformer/TabTransformer.ipynb\" target=\"_parent\"><img src=\"https://colab.research.google.com/assets/colab-badge.svg\" alt=\"Open In Colab\"/></a>"
      ]
    },
    {
      "cell_type": "code",
      "execution_count": 6,
      "metadata": {
        "id": "6izs0S_H6sJr",
        "colab": {
          "base_uri": "https://localhost:8080/"
        },
        "outputId": "715b660d-2bb2-4208-8785-9300f16df748"
      },
      "outputs": [
        {
          "output_type": "stream",
          "name": "stdout",
          "text": [
            "<class 'pandas.core.frame.DataFrame'>\n",
            "RangeIndex: 32561 entries, 0 to 32560\n",
            "Data columns (total 13 columns):\n",
            " #   Column          Non-Null Count  Dtype \n",
            "---  ------          --------------  ----- \n",
            " 0   age             32561 non-null  int64 \n",
            " 1   workclass       32561 non-null  object\n",
            " 2   education       32561 non-null  object\n",
            " 3   marital_status  32561 non-null  object\n",
            " 4   occupation      32561 non-null  object\n",
            " 5   relationship    32561 non-null  object\n",
            " 6   race            32561 non-null  object\n",
            " 7   gender          32561 non-null  object\n",
            " 8   capital_gain    32561 non-null  int64 \n",
            " 9   capital_loss    32561 non-null  int64 \n",
            " 10  hours_per_week  32561 non-null  int64 \n",
            " 11  native_country  32561 non-null  object\n",
            " 12  income_bracket  32561 non-null  object\n",
            "dtypes: int64(4), object(9)\n",
            "memory usage: 3.2+ MB\n",
            "<class 'pandas.core.frame.DataFrame'>\n",
            "RangeIndex: 16282 entries, 0 to 16281\n",
            "Data columns (total 15 columns):\n",
            " #   Column          Non-Null Count  Dtype  \n",
            "---  ------          --------------  -----  \n",
            " 0   age             16282 non-null  object \n",
            " 1   workclass       16281 non-null  object \n",
            " 2   fnlwgt          16281 non-null  float64\n",
            " 3   education       16281 non-null  object \n",
            " 4   education_num   16281 non-null  float64\n",
            " 5   marital_status  16281 non-null  object \n",
            " 6   occupation      16281 non-null  object \n",
            " 7   relationship    16281 non-null  object \n",
            " 8   race            16281 non-null  object \n",
            " 9   gender          16281 non-null  object \n",
            " 10  capital_gain    16281 non-null  float64\n",
            " 11  capital_loss    16281 non-null  float64\n",
            " 12  hours_per_week  16281 non-null  float64\n",
            " 13  native_country  16281 non-null  object \n",
            " 14  income_bracket  16281 non-null  object \n",
            "dtypes: float64(5), object(10)\n",
            "memory usage: 1.9+ MB\n"
          ]
        }
      ],
      "source": [
        "import pandas as pd\n",
        "\n",
        "csv_headers = [\n",
        "    'age', 'workclass', 'fnlwgt', 'education', 'education_num', 'marital_status',\n",
        "    'occupation', 'relationship', 'race', 'gender', 'capital_gain', 'capital_loss',\n",
        "    'hours_per_week', 'native_country', 'income_bracket'\n",
        "]\n",
        "\n",
        "url = 'https://archive.ics.uci.edu/ml/machine-learning-databases/adult/adult.data'\n",
        "df_train = pd.read_csv(url, header=None, names=csv_headers)\n",
        "df_train.drop(columns=['fnlwgt', 'education_num'], inplace=True)\n",
        "df_train.info()\n",
        "\n",
        "url = 'https://archive.ics.uci.edu/ml/machine-learning-databases/adult/adult.test'\n",
        "df_test = pd.read_csv(url, header=None, names=csv_headers)\n",
        "df_test.drop(columns=['fnlwgt', 'education_num'], inplace=True)\n",
        "df_test.info()"
      ]
    },
    {
      "cell_type": "code",
      "source": [],
      "metadata": {
        "id": "u0jU3cBt93RQ"
      },
      "execution_count": null,
      "outputs": []
    }
  ]
}