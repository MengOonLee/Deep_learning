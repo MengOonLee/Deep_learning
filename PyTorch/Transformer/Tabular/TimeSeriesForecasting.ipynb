{
  "nbformat": 4,
  "nbformat_minor": 0,
  "metadata": {
    "colab": {
      "provenance": [],
      "authorship_tag": "ABX9TyNcF4upOz8tFWS3ZxXlvo2H",
      "include_colab_link": true
    },
    "kernelspec": {
      "name": "python3",
      "display_name": "Python 3"
    },
    "language_info": {
      "name": "python"
    }
  },
  "cells": [
    {
      "cell_type": "markdown",
      "metadata": {
        "id": "view-in-github",
        "colab_type": "text"
      },
      "source": [
        "<a href=\"https://colab.research.google.com/github/MengOonLee/Deep_learning/blob/master/PyTorch/Transformer/Tabular/TimeSeriesForecasting.ipynb\" target=\"_parent\"><img src=\"https://colab.research.google.com/assets/colab-badge.svg\" alt=\"Open In Colab\"/></a>"
      ]
    },
    {
      "cell_type": "code",
      "source": [
        "import numpy as np\n",
        "\n",
        "T = 1000\n",
        "num_entities = 3\n",
        "num_features = 2\n",
        "\n",
        "data_dict = {}\n",
        "for eid in range(num_entities):\n",
        "    t = np.linspace(0, 100, T)\n",
        "    f1 = np.sin(t / 5 + eid) + 0.1 * np.random.randn(T)\n",
        "    f2 = np.cos(t / 7 + eid) + 0.1 * np.random.randn(T)\n",
        "    data_dict[eid] = np.stack([f1, f2], axis=1)\n",
        "\n",
        "data_dict"
      ],
      "metadata": {
        "colab": {
          "base_uri": "https://localhost:8080/"
        },
        "id": "4qB5X4SC4giM",
        "outputId": "dbfe13e2-4dfd-430c-ebd4-94ee83d6248f"
      },
      "execution_count": 1,
      "outputs": [
        {
          "output_type": "execute_result",
          "data": {
            "text/plain": [
              "{0: array([[-0.0765127 ,  0.87576799],\n",
              "        [ 0.22701714,  1.15407886],\n",
              "        [ 0.21003928,  0.81589682],\n",
              "        ...,\n",
              "        [ 0.9730543 , -0.14715295],\n",
              "        [ 0.82721587, -0.12586493],\n",
              "        [ 0.80328767, -0.12444039]]),\n",
              " 1: array([[ 0.86245742,  0.52030746],\n",
              "        [ 0.71166298,  0.71256778],\n",
              "        [ 1.01541365,  0.55924303],\n",
              "        ...,\n",
              "        [ 0.86152229, -0.95095153],\n",
              "        [ 0.95050247, -0.87563827],\n",
              "        [ 0.76681366, -0.78759677]]),\n",
              " 2: array([[ 0.90032458, -0.5913432 ],\n",
              "        [ 0.94378123, -0.28401772],\n",
              "        [ 0.85348878, -0.41803798],\n",
              "        ...,\n",
              "        [ 0.00426563, -0.83925596],\n",
              "        [ 0.10996014, -0.83784581],\n",
              "        [-0.1812202 , -0.8404028 ]])}"
            ]
          },
          "metadata": {},
          "execution_count": 1
        }
      ]
    },
    {
      "cell_type": "code",
      "source": [
        "import torch\n",
        "torch.manual_seed(seed=42)\n",
        "\n",
        "class TimeSeriesDataset(torch.utils.data.Dataset):\n",
        "    def __init__(self, data_dict, input_window, output_window):\n",
        "        self.series = []\n",
        "        self.entity_ids = []\n",
        "        self.input_window = input_window\n",
        "        self.output_window = output_window\n",
        "\n",
        "        for eid, data in data_dict.items():\n",
        "            for i in range(len(data) - input_window - output_window):\n",
        "                x = data[i : i + input_window]\n",
        "                y = data[i + input_window : i + input_window + output_window]\n",
        "                self.series.append((x, y))\n",
        "                self.entity_ids.append(eid)\n",
        "\n",
        "        self.num_entities = len(data_dict)\n",
        "\n",
        "    def __len__(self):\n",
        "        return len(self.series)\n",
        "\n",
        "    def __getitem__(self, idx):\n",
        "        x, y = self.series[idx]\n",
        "        entity_id = self.entity_ids[idx]\n",
        "        return (\n",
        "            torch.tensor(data=x, dtype=torch.float32),\n",
        "            torch.tensor(data=y, dtype=torch.float32),\n",
        "            torch.tensor(data=entity_id, dtype=torch.long)\n",
        "        )\n",
        "\n",
        "input_window = 48\n",
        "output_window = 24\n",
        "ds_train = TimeSeriesDataset(data_dict=data_dict,\n",
        "    input_window=input_window, output_window=output_window)\n",
        "dl_train = torch.utils.data.DataLoader(dataset=ds_train,\n",
        "    batch_size=32, shuffle=True)\n",
        "len(dl_train.dataset)"
      ],
      "metadata": {
        "id": "l0bWpuDK5ge3",
        "outputId": "173e25c5-0f9b-40d4-fd9b-32a2b8130baa",
        "colab": {
          "base_uri": "https://localhost:8080/"
        }
      },
      "execution_count": 2,
      "outputs": [
        {
          "output_type": "execute_result",
          "data": {
            "text/plain": [
              "2784"
            ]
          },
          "metadata": {},
          "execution_count": 2
        }
      ]
    },
    {
      "cell_type": "code",
      "source": [
        "import torch\n",
        "torch.manual_seed(seed=42)\n",
        "\n",
        "class PositionalEncoding(torch.nn.Module):\n",
        "    def __init__(self, d_model, max_len=5000):\n",
        "        super().__init__()\n",
        "        pe = torch.zeros(max_len, d_model)\n",
        "        position = torch.arange(0, max_len, dtype=torch.float32).unsqueeze(1)\n",
        "        div_term = torch.exp(torch.arange(0, d_model, 2).float() * (-np.log(10000.0) / d_model))\n",
        "        pe[:, 0::2] = torch.sin(position * div_term)\n",
        "        pe[:, 1::2] = torch.cos(position * div_term)\n",
        "        self.register_buffer('pe', pe.unsqueeze(0))\n",
        "\n",
        "    def forward(self, x):\n",
        "        return x + self.pe[:, :x.size(1)]\n",
        "\n",
        "class TimeSeriesForecast(torch.nn.Module):\n",
        "    def __init__(self, num_entities, feature_size, entity_emb_dim=8, d_model=64,\n",
        "            nhead=8, num_layers=3, dropout=0.1):\n",
        "        super().__init__()\n",
        "        self.entity_embedding = torch.nn.Embedding(num_embeddings=num_entities,\n",
        "            embedding_dim=entity_emb_dim)\n",
        "        self.input_proj = torch.nn.Linear(in_features=feature_size + entity_emb_dim,\n",
        "            out_features=d_model)\n",
        "        self.pos_encoder = PositionalEncoding(d_model=d_model)\n",
        "        self.transformer = torch.nn.TransformerEncoder(num_layers=num_layers,\n",
        "            encoder_layer=torch.nn.TransformerEncoderLayer(\n",
        "                d_model=d_model, nhead=nhead, dim_feedforward=d_model*4,\n",
        "                dropout=dropout, batch_first=True))\n",
        "        self.decoder = torch.nn.Linear(in_features=d_model,\n",
        "            out_features=feature_size * output_window)\n",
        "        self.output_window = output_window\n",
        "        self.feature_size = feature_size\n",
        "\n",
        "    def forward(self, src, entity_id):\n",
        "        B, T, F = src.shape\n",
        "        entity_emb = self.entity_embedding(entity_id)\n",
        "        entity_emb_expanded = entity_emb.unsqueeze(1).expand(-1, T, -1)\n",
        "        src = torch.cat([src, entity_emb_expanded], dim=-1)\n",
        "\n",
        "        src = self.input_proj(src)\n",
        "        src = self.pos_encoder(src)\n",
        "        enc_output = self.transformer(src)\n",
        "        out = self.decoder(enc_output[:, -1, :])\n",
        "        out = out.view(B, self.output_window, self.feature_size)\n",
        "        return out\n",
        "\n",
        "model = TimeSeriesForecast(num_entities=num_entities, feature_size=num_features)"
      ],
      "metadata": {
        "id": "X81heHVf6HhD"
      },
      "execution_count": 3,
      "outputs": []
    },
    {
      "cell_type": "code",
      "source": [
        "import torch\n",
        "torch.manual_seed(seed=42)\n",
        "\n",
        "def train_model(model, dl_train, epochs=20, lr=1e-3):\n",
        "    optimizer = torch.optim.Adam(model.parameters(), lr=lr)\n",
        "    criterion = torch.nn.MSELoss()\n",
        "\n",
        "    for epoch in range(epochs):\n",
        "        model.train()\n",
        "        total_loss = 0\n",
        "        for x, y, eid in dl_train:\n",
        "            optimizer.zero_grad()\n",
        "            preds = model(x, eid)\n",
        "            loss = criterion(preds, y)\n",
        "            loss.backward()\n",
        "            optimizer.step()\n",
        "            total_loss += loss.item()\n",
        "        avg_loss = total_loss / len(dl_train)\n",
        "        print(f\"Epoch {epoch+1}/{epochs}, Loss: {avg_loss:.4f}\")\n",
        "\n",
        "train_model(model, dl_train, epochs=20)"
      ],
      "metadata": {
        "id": "bLwDlqPUACgL",
        "colab": {
          "base_uri": "https://localhost:8080/"
        },
        "outputId": "7495e2ca-970e-4d93-898d-fbfbbdbcce6e"
      },
      "execution_count": 4,
      "outputs": [
        {
          "output_type": "stream",
          "name": "stdout",
          "text": [
            "Epoch 1/20, Loss: 0.1973\n",
            "Epoch 2/20, Loss: 0.0341\n",
            "Epoch 3/20, Loss: 0.0236\n",
            "Epoch 4/20, Loss: 0.0199\n",
            "Epoch 5/20, Loss: 0.0190\n",
            "Epoch 6/20, Loss: 0.0171\n",
            "Epoch 7/20, Loss: 0.0163\n",
            "Epoch 8/20, Loss: 0.0161\n",
            "Epoch 9/20, Loss: 0.0154\n",
            "Epoch 10/20, Loss: 0.0154\n",
            "Epoch 11/20, Loss: 0.0143\n",
            "Epoch 12/20, Loss: 0.0141\n",
            "Epoch 13/20, Loss: 0.0141\n",
            "Epoch 14/20, Loss: 0.0137\n",
            "Epoch 15/20, Loss: 0.0135\n",
            "Epoch 16/20, Loss: 0.0133\n",
            "Epoch 17/20, Loss: 0.0131\n",
            "Epoch 18/20, Loss: 0.0133\n",
            "Epoch 19/20, Loss: 0.0130\n",
            "Epoch 20/20, Loss: 0.0127\n"
          ]
        }
      ]
    },
    {
      "cell_type": "code",
      "source": [
        "import torch\n",
        "torch.manual_seed(seed=42)\n",
        "\n",
        "def forecast(model, src, entity_id, pred_len):\n",
        "    model.eval()\n",
        "    with torch.no_grad():\n",
        "        src = src.unsqueeze(0)\n",
        "        entity_id = torch.tensor(data=[entity_id])\n",
        "        preds = model(src, entity_id)\n",
        "        return preds.squeeze(0).numpy()\n",
        "\n",
        "i, id = 888, 1\n",
        "x = torch.tensor(data=data_dict[id][i : i + input_window],\n",
        "    dtype=torch.float32)\n",
        "y = data_dict[id][i + input_window : i + input_window + output_window]\n",
        "y_pred = forecast(model, x, entity_id=id, pred_len=output_window)\n",
        "print(\"y:\", y)\n",
        "print(\"y_pred:\", y_pred)"
      ],
      "metadata": {
        "colab": {
          "base_uri": "https://localhost:8080/"
        },
        "id": "RYGEKgzzv0BY",
        "outputId": "c5a9be73-8e7f-4b2c-f756-494c80419e60"
      },
      "execution_count": 5,
      "outputs": [
        {
          "output_type": "stream",
          "name": "stdout",
          "text": [
            "y: [[ 0.7378014  -0.17062459]\n",
            " [ 0.65562839 -0.24468778]\n",
            " [ 0.89521209 -0.2739831 ]\n",
            " [ 0.68381718 -0.14895508]\n",
            " [ 0.87311345 -0.14708252]\n",
            " [ 0.92700592 -0.19747057]\n",
            " [ 0.91405703 -0.38856502]\n",
            " [ 0.91661291 -0.38129252]\n",
            " [ 0.82505147 -0.4227525 ]\n",
            " [ 0.90593572 -0.35584178]\n",
            " [ 0.94643129 -0.48437101]\n",
            " [ 1.000572   -0.22627509]\n",
            " [ 0.82967447 -0.36167518]\n",
            " [ 0.76791075 -0.4530884 ]\n",
            " [ 0.79016893 -0.46903305]\n",
            " [ 0.91928953 -0.39238212]\n",
            " [ 1.03942509 -0.67764835]\n",
            " [ 0.88154492 -0.21819894]\n",
            " [ 1.03736087 -0.47095549]\n",
            " [ 0.88872913 -0.45829651]\n",
            " [ 1.11862327 -0.39913975]\n",
            " [ 1.0395548  -0.47683268]\n",
            " [ 1.05676926 -0.48334432]\n",
            " [ 0.98548474 -0.55166493]]\n",
            "y_pred: [[ 0.79458326 -0.22347859]\n",
            " [ 0.8102378  -0.28484443]\n",
            " [ 0.8000269  -0.21767141]\n",
            " [ 0.8296937  -0.24198294]\n",
            " [ 0.85036206 -0.27875715]\n",
            " [ 0.82830435 -0.2864824 ]\n",
            " [ 0.8296084  -0.308783  ]\n",
            " [ 0.88359874 -0.3198858 ]\n",
            " [ 0.86437696 -0.31511402]\n",
            " [ 0.9145154  -0.29322132]\n",
            " [ 0.8847406  -0.38443005]\n",
            " [ 0.9229697  -0.3525533 ]\n",
            " [ 0.91900754 -0.38937104]\n",
            " [ 0.94096965 -0.3582697 ]\n",
            " [ 0.959898   -0.39362645]\n",
            " [ 0.94533795 -0.4442471 ]\n",
            " [ 0.9542569  -0.42863882]\n",
            " [ 0.9650185  -0.4207858 ]\n",
            " [ 0.97064775 -0.42122352]\n",
            " [ 0.9402302  -0.44998956]\n",
            " [ 0.97352695 -0.49612328]\n",
            " [ 1.0159284  -0.45832998]\n",
            " [ 0.98500574 -0.44798902]\n",
            " [ 0.99169874 -0.4597987 ]]\n"
          ]
        }
      ]
    }
  ]
}