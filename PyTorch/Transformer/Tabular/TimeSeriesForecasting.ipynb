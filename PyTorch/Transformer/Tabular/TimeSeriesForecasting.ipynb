{
  "nbformat": 4,
  "nbformat_minor": 0,
  "metadata": {
    "colab": {
      "provenance": [],
      "authorship_tag": "ABX9TyNcF4upOz8tFWS3ZxXlvo2H",
      "include_colab_link": true
    },
    "kernelspec": {
      "name": "python3",
      "display_name": "Python 3"
    },
    "language_info": {
      "name": "python"
    }
  },
  "cells": [
    {
      "cell_type": "markdown",
      "metadata": {
        "id": "view-in-github",
        "colab_type": "text"
      },
      "source": [
        "<a href=\"https://colab.research.google.com/github/MengOonLee/Deep_learning/blob/master/PyTorch/Transformer/Tabular/TimeSeriesForecasting.ipynb\" target=\"_parent\"><img src=\"https://colab.research.google.com/assets/colab-badge.svg\" alt=\"Open In Colab\"/></a>"
      ]
    },
    {
      "cell_type": "code",
      "source": [
        "import numpy as np\n",
        "\n",
        "T = 1000\n",
        "num_entities = 3\n",
        "num_features = 2\n",
        "\n",
        "data_dict = {}\n",
        "for eid in range(num_entities):\n",
        "    t = np.linspace(0, 100, T)\n",
        "    f1 = np.sin(t / 5 + eid) + 0.1 * np.random.randn(T)\n",
        "    f2 = np.cos(t / 7 + eid) + 0.1 * np.random.randn(T)\n",
        "    data_dict[eid] = np.stack([f1, f2], axis=1)\n",
        "\n",
        "data_dict"
      ],
      "metadata": {
        "colab": {
          "base_uri": "https://localhost:8080/"
        },
        "id": "4qB5X4SC4giM",
        "outputId": "481bbeff-aba8-40e5-afe6-ded7443307a2"
      },
      "execution_count": 1,
      "outputs": [
        {
          "output_type": "execute_result",
          "data": {
            "text/plain": [
              "{0: array([[-0.07128091,  0.93790153],\n",
              "        [ 0.20601548,  0.94605575],\n",
              "        [ 0.00167567,  1.06531155],\n",
              "        ...,\n",
              "        [ 0.98205582, -0.13919762],\n",
              "        [ 0.94552301, -0.04329776],\n",
              "        [ 0.96030832, -0.05028652]]),\n",
              " 1: array([[ 0.85276768,  0.6288676 ],\n",
              "        [ 0.64769861,  0.62390474],\n",
              "        [ 0.87543808,  0.57842596],\n",
              "        ...,\n",
              "        [ 0.9046985 , -0.96573103],\n",
              "        [ 1.08769967, -0.76288693],\n",
              "        [ 0.93924716, -0.95458607]]),\n",
              " 2: array([[ 0.91502969, -0.29877488],\n",
              "        [ 0.89600783, -0.33235187],\n",
              "        [ 0.86294203, -0.38180884],\n",
              "        ...,\n",
              "        [ 0.06144888, -0.70264627],\n",
              "        [-0.16449508, -0.74815663],\n",
              "        [ 0.06712878, -0.77144457]])}"
            ]
          },
          "metadata": {},
          "execution_count": 1
        }
      ]
    },
    {
      "cell_type": "code",
      "source": [
        "import torch\n",
        "torch.manual_seed(seed=42)\n",
        "\n",
        "class TimeSeriesDataset(torch.utils.data.Dataset):\n",
        "    def __init__(self, data_dict, input_window, output_window):\n",
        "        self.series = []\n",
        "        self.entity_ids = []\n",
        "        self.input_window = input_window\n",
        "        self.output_window = output_window\n",
        "\n",
        "        for eid, data in data_dict.items():\n",
        "            for i in range(len(data) - input_window - output_window):\n",
        "                x = data[i : i + input_window]\n",
        "                y = data[i + input_window : i + input_window + output_window]\n",
        "                self.series.append((x, y))\n",
        "                self.entity_ids.append(eid)\n",
        "\n",
        "        self.num_entities = len(data_dict)\n",
        "\n",
        "    def __len__(self):\n",
        "        return len(self.series)\n",
        "\n",
        "    def __getitem__(self, idx):\n",
        "        x, y = self.series[idx]\n",
        "        entity_id = self.entity_ids[idx]\n",
        "        return (\n",
        "            torch.tensor(data=x, dtype=torch.float32),\n",
        "            torch.tensor(data=y, dtype=torch.float32),\n",
        "            torch.tensor(data=entity_id, dtype=torch.long)\n",
        "        )\n",
        "\n",
        "input_window = 48\n",
        "output_window = 24\n",
        "ds_train = TimeSeriesDataset(data_dict=data_dict,\n",
        "    input_window=input_window, output_window=output_window)\n",
        "dl_train = torch.utils.data.DataLoader(dataset=ds_train,\n",
        "    batch_size=32, shuffle=True)\n",
        "len(dl_train.dataset)"
      ],
      "metadata": {
        "id": "l0bWpuDK5ge3",
        "outputId": "b6d885f7-d8c8-4d98-c891-3f0d16c65cb8",
        "colab": {
          "base_uri": "https://localhost:8080/"
        }
      },
      "execution_count": 2,
      "outputs": [
        {
          "output_type": "execute_result",
          "data": {
            "text/plain": [
              "2784"
            ]
          },
          "metadata": {},
          "execution_count": 2
        }
      ]
    },
    {
      "cell_type": "code",
      "source": [
        "import torch\n",
        "torch.manual_seed(seed=42)\n",
        "\n",
        "class PositionalEncoding(torch.nn.Module):\n",
        "    def __init__(self, d_model, max_len=5000):\n",
        "        super().__init__()\n",
        "        pe = torch.zeros(max_len, d_model)\n",
        "        position = torch.arange(0, max_len, dtype=torch.float32).unsqueeze(1)\n",
        "        div_term = torch.exp(torch.arange(0, d_model, 2).float() * (-np.log(10000.0) / d_model))\n",
        "        pe[:, 0::2] = torch.sin(position * div_term)\n",
        "        pe[:, 1::2] = torch.cos(position * div_term)\n",
        "        self.register_buffer('pe', pe.unsqueeze(0))\n",
        "\n",
        "    def forward(self, x):\n",
        "        return x + self.pe[:, :x.size(1)]\n",
        "\n",
        "class TimeSeriesForecast(torch.nn.Module):\n",
        "    def __init__(self, num_entities, feature_size, entity_emb_dim=8, d_model=64,\n",
        "            nhead=8, num_layers=3, dropout=0.1):\n",
        "        super().__init__()\n",
        "        self.entity_embedding = torch.nn.Embedding(num_embeddings=num_entities,\n",
        "            embedding_dim=entity_emb_dim)\n",
        "        self.input_proj = torch.nn.Linear(in_features=feature_size + entity_emb_dim,\n",
        "            out_features=d_model)\n",
        "        self.pos_encoder = PositionalEncoding(d_model=d_model)\n",
        "        self.transformer = torch.nn.TransformerEncoder(num_layers=num_layers,\n",
        "            encoder_layer=torch.nn.TransformerEncoderLayer(\n",
        "                d_model=d_model, nhead=nhead, dim_feedforward=d_model*4,\n",
        "                dropout=dropout, batch_first=True))\n",
        "        self.decoder = torch.nn.Linear(in_features=d_model,\n",
        "            out_features=feature_size * output_window)\n",
        "        self.output_window = output_window\n",
        "        self.feature_size = feature_size\n",
        "\n",
        "    def forward(self, src, entity_id):\n",
        "        B, T, F = src.shape\n",
        "        entity_emb = self.entity_embedding(entity_id)\n",
        "        entity_emb_expanded = entity_emb.unsqueeze(1).expand(-1, T, -1)\n",
        "        src = torch.cat([src, entity_emb_expanded], dim=-1)\n",
        "\n",
        "        src = self.input_proj(src)\n",
        "        src = self.pos_encoder(src)\n",
        "        enc_output = self.transformer(src)\n",
        "        out = self.decoder(enc_output[:, -1, :])\n",
        "        out = out.view(B, self.output_window, self.feature_size)\n",
        "        return out\n",
        "\n",
        "model = TimeSeriesForecast(num_entities=num_entities, feature_size=num_features)"
      ],
      "metadata": {
        "id": "X81heHVf6HhD"
      },
      "execution_count": 12,
      "outputs": []
    },
    {
      "cell_type": "code",
      "source": [
        "import torch\n",
        "torch.manual_seed(seed=42)\n",
        "\n",
        "def train_model(model, dl_train, epochs=20, lr=1e-3):\n",
        "    optimizer = torch.optim.Adam(model.parameters(), lr=lr)\n",
        "    criterion = torch.nn.MSELoss()\n",
        "\n",
        "    for epoch in range(epochs):\n",
        "        model.train()\n",
        "        total_loss = 0\n",
        "        for x, y, eid in dl_train:\n",
        "            optimizer.zero_grad()\n",
        "            preds = model(x, eid)\n",
        "            loss = criterion(preds, y)\n",
        "            loss.backward()\n",
        "            optimizer.step()\n",
        "            total_loss += loss.item()\n",
        "        avg_loss = total_loss / len(dl_train)\n",
        "        print(f\"Epoch {epoch+1}/{epochs}, Loss: {avg_loss:.4f}\")\n",
        "\n",
        "train_model(model, dl_train, epochs=20)"
      ],
      "metadata": {
        "id": "bLwDlqPUACgL",
        "outputId": "9fee0469-7472-483b-e531-7e5d2840a783",
        "colab": {
          "base_uri": "https://localhost:8080/"
        }
      },
      "execution_count": 13,
      "outputs": [
        {
          "output_type": "stream",
          "name": "stdout",
          "text": [
            "Epoch 1/10, Loss: 0.1958\n",
            "Epoch 2/10, Loss: 0.0353\n",
            "Epoch 3/10, Loss: 0.0231\n",
            "Epoch 4/10, Loss: 0.0195\n",
            "Epoch 5/10, Loss: 0.0181\n",
            "Epoch 6/10, Loss: 0.0168\n",
            "Epoch 7/10, Loss: 0.0164\n",
            "Epoch 8/10, Loss: 0.0156\n",
            "Epoch 9/10, Loss: 0.0154\n",
            "Epoch 10/10, Loss: 0.0149\n"
          ]
        }
      ]
    },
    {
      "cell_type": "code",
      "source": [
        "import torch\n",
        "torch.manual_seed(seed=42)\n",
        "\n",
        "def forecast(model, src, entity_id, pred_len):\n",
        "    model.eval()\n",
        "    with torch.no_grad():\n",
        "        src = src.unsqueeze(0)\n",
        "        entity_id = torch.tensor(data=[entity_id])\n",
        "        preds = model(src, entity_id)\n",
        "        return preds.squeeze(0).numpy()\n",
        "\n",
        "i, id = 888, 1\n",
        "x = torch.tensor(data=data_dict[id][i : i + input_window],\n",
        "    dtype=torch.float32)\n",
        "y = data_dict[id][i + input_window : i + input_window + output_window]\n",
        "y_pred = forecast(model, x, entity_id=id, pred_len=output_window)\n",
        "print(\"y:\", y)\n",
        "print(\"y_pred:\", y_pred)"
      ],
      "metadata": {
        "id": "RYGEKgzzv0BY",
        "outputId": "134ced52-f80d-4e72-d64e-ff1c0a8e8e27",
        "colab": {
          "base_uri": "https://localhost:8080/"
        }
      },
      "execution_count": 31,
      "outputs": [
        {
          "output_type": "stream",
          "name": "stdout",
          "text": [
            "y: [[ 0.77091201 -0.13375599]\n",
            " [ 0.75352538 -0.12422246]\n",
            " [ 0.91731976 -0.27321802]\n",
            " [ 0.80422489 -0.30810425]\n",
            " [ 0.73318738 -0.42620719]\n",
            " [ 0.83282173 -0.26848276]\n",
            " [ 0.72980904 -0.38207294]\n",
            " [ 0.79906559 -0.10571329]\n",
            " [ 0.8199129  -0.56774012]\n",
            " [ 0.84259372 -0.20982637]\n",
            " [ 0.9824768  -0.39180723]\n",
            " [ 0.77390561 -0.28363771]\n",
            " [ 0.68105386 -0.42982536]\n",
            " [ 0.97853799 -0.46495799]\n",
            " [ 0.93230588 -0.66800758]\n",
            " [ 0.9558214  -0.38904966]\n",
            " [ 0.91957769 -0.64779903]\n",
            " [ 0.92163031 -0.60056508]\n",
            " [ 0.92840276 -0.57289515]\n",
            " [ 0.86390194 -0.5240665 ]\n",
            " [ 0.97676027 -0.6245762 ]\n",
            " [ 0.82367513 -0.39934494]\n",
            " [ 1.07931982 -0.36649008]\n",
            " [ 1.12059914 -0.65808368]]\n",
            "y_pred: [[ 0.7346154  -0.2775444 ]\n",
            " [ 0.7617782  -0.27883735]\n",
            " [ 0.7337716  -0.3463002 ]\n",
            " [ 0.73953146 -0.34721524]\n",
            " [ 0.76058406 -0.3877237 ]\n",
            " [ 0.75093335 -0.34155047]\n",
            " [ 0.8083109  -0.36562157]\n",
            " [ 0.79522675 -0.35184228]\n",
            " [ 0.7815093  -0.39119858]\n",
            " [ 0.8243122  -0.37632406]\n",
            " [ 0.81537294 -0.4079032 ]\n",
            " [ 0.825135   -0.431915  ]\n",
            " [ 0.80610317 -0.43921226]\n",
            " [ 0.85187906 -0.45817155]\n",
            " [ 0.8608096  -0.44364956]\n",
            " [ 0.85575956 -0.5140791 ]\n",
            " [ 0.85165966 -0.48479152]\n",
            " [ 0.86998314 -0.51964897]\n",
            " [ 0.8953898  -0.50839007]\n",
            " [ 0.9254363  -0.5193864 ]\n",
            " [ 0.9163656  -0.5475858 ]\n",
            " [ 0.90776855 -0.50313246]\n",
            " [ 0.89405566 -0.5245271 ]\n",
            " [ 0.919069   -0.51287603]]\n"
          ]
        }
      ]
    }
  ]
}