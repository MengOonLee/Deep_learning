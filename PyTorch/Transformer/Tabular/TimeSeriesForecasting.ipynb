{
  "nbformat": 4,
  "nbformat_minor": 0,
  "metadata": {
    "colab": {
      "provenance": [],
      "authorship_tag": "ABX9TyPrmH7cLp503nhl7DKf1CgY",
      "include_colab_link": true
    },
    "kernelspec": {
      "name": "python3",
      "display_name": "Python 3"
    },
    "language_info": {
      "name": "python"
    }
  },
  "cells": [
    {
      "cell_type": "markdown",
      "metadata": {
        "id": "view-in-github",
        "colab_type": "text"
      },
      "source": [
        "<a href=\"https://colab.research.google.com/github/MengOonLee/Deep_learning/blob/master/PyTorch/Transformer/Tabular/TimeSeriesForecasting.ipynb\" target=\"_parent\"><img src=\"https://colab.research.google.com/assets/colab-badge.svg\" alt=\"Open In Colab\"/></a>"
      ]
    },
    {
      "cell_type": "code",
      "source": [
        "import numpy as np\n",
        "\n",
        "T = 1000\n",
        "num_entities = 3\n",
        "num_features = 2\n",
        "\n",
        "data_dict = {}\n",
        "for eid in range(num_entities):\n",
        "    t = np.linspace(0, 100, T)\n",
        "    f1 = np.sin(t / 5 + eid) + 0.1 * np.random.randn(T)\n",
        "    f2 = np.cos(t / 7 + eid) + 0.1 * np.random.randn(T)\n",
        "    data_dict[eid] = np.stack([f1, f2], axis=1)\n",
        "\n",
        "data_dict"
      ],
      "metadata": {
        "colab": {
          "base_uri": "https://localhost:8080/"
        },
        "id": "4qB5X4SC4giM",
        "outputId": "7410962b-d2b3-4f57-b738-9e6845cee5c7"
      },
      "execution_count": 1,
      "outputs": [
        {
          "output_type": "execute_result",
          "data": {
            "text/plain": [
              "{0: array([[ 0.18338777,  1.06641224],\n",
              "        [ 0.0691479 ,  0.80338625],\n",
              "        [ 0.04630641,  1.13123291],\n",
              "        ...,\n",
              "        [ 0.77620789, -0.10298175],\n",
              "        [ 0.89491539, -0.22480243],\n",
              "        [ 0.85298878, -0.03042633]]),\n",
              " 1: array([[ 0.8455896 ,  0.47465939],\n",
              "        [ 0.7771595 ,  0.42744481],\n",
              "        [ 0.84012823,  0.66833162],\n",
              "        ...,\n",
              "        [ 0.86921874, -0.94184081],\n",
              "        [ 0.87139039, -0.81069245],\n",
              "        [ 0.99900522, -0.82725451]]),\n",
              " 2: array([[ 1.05307743, -0.38169608],\n",
              "        [ 0.9158915 , -0.36339498],\n",
              "        [ 0.99801587, -0.20528155],\n",
              "        ...,\n",
              "        [-0.0245328 , -0.85650579],\n",
              "        [ 0.04056166, -0.92190291],\n",
              "        [-0.05096422, -0.7117244 ]])}"
            ]
          },
          "metadata": {},
          "execution_count": 1
        }
      ]
    },
    {
      "cell_type": "code",
      "source": [
        "import torch\n",
        "\n",
        "class TimeSeriesDataset(torch.utils.data.Dataset):\n",
        "    def __init__(self, data_dict, input_window, output_window):\n",
        "        self.series = []\n",
        "        self.entity_ids = []\n",
        "        self.input_window = input_window\n",
        "        self.output_window = output_window\n",
        "\n",
        "        for eid, data in data_dict.items():\n",
        "            for i in range(len(data) - input_window - output_window):\n",
        "                x = data[i : i + input_window]\n",
        "                y = data[i + input_window : i + input_window + output_window]\n",
        "                self.series.append((x, y))\n",
        "                self.entity_ids.append(eid)\n",
        "\n",
        "        self.num_entities = len(data_dict)\n",
        "\n",
        "    def __len__(self):\n",
        "        return len(self.series)\n",
        "\n",
        "    def __getitem__(self, idx):\n",
        "        x, y = self.series[idx]\n",
        "        entity_id = self.entity_ids[idx]\n",
        "        return (\n",
        "            torch.tensor(data=x, dtype=torch.float32),\n",
        "            torch.tensor(data=y, dtype=torch.float32),\n",
        "            torch.tensor(data=entity_id, dtype=torch.long)\n",
        "        )\n",
        "\n",
        "input_window = 48\n",
        "output_window = 24\n",
        "ds_train = TimeSeriesDataset(data_dict=data_dict,\n",
        "    input_window=input_window, output_window=output_window)\n",
        "dl_train = torch.utils.data.DataLoader(dataset=ds_train,\n",
        "    batch_size=32, shuffle=True)\n",
        "len(dl_train.dataset)"
      ],
      "metadata": {
        "id": "l0bWpuDK5ge3",
        "outputId": "f1806263-e212-4aa9-de80-ce9c0e450eef",
        "colab": {
          "base_uri": "https://localhost:8080/"
        }
      },
      "execution_count": 2,
      "outputs": [
        {
          "output_type": "execute_result",
          "data": {
            "text/plain": [
              "2784"
            ]
          },
          "metadata": {},
          "execution_count": 2
        }
      ]
    },
    {
      "cell_type": "code",
      "source": [
        "import torch\n",
        "\n",
        "class PositionalEncoding(torch.nn.Module):\n",
        "    def __init__(self):\n",
        "        super().__init__()\n",
        "\n",
        "class TimeSeriesForecast(torch.nn.Module):\n",
        "    def __init__(self, num_entities, feature_size, entity_emb_dim=8, d_model=64,\n",
        "            nhead=8, num_layers=3, dropout=0.1):\n",
        "        super().__init__()\n",
        "        self.entity_embedding = torch.nn.Embedding(num_entities, entity_emb_dim)\n",
        "        self.input_proj = torch.nn.Linear(feature_size + entity_emb_dim, d_model)\n",
        "        self.pos_encoder = PositionalEncoding(d_model)\n",
        "\n",
        "    def forward(self, src, entity_id):\n",
        "        B, T, F = src.shape\n",
        "        entity_emb = self.entity_embedding(entity_id)\n",
        "        entity_emb_expanded = entity_emb.unsqueeze(1).expand(-1, T, -1)\n",
        "        src = torch.cat([src, entity_emb_expanded], dim=-1)\n",
        "\n",
        "        src = self.input_proj(src)\n",
        "        src = self.pos_encoder(src)\n",
        "\n",
        "        return src\n",
        "\n",
        "model = TimeSeriesForecast(num_entities=num_entities, feature_size=num_features)\n",
        "\n",
        "for x, y, eid in dl_train:\n",
        "    preds = model(x, eid)\n",
        "    print(preds.shape)"
      ],
      "metadata": {
        "id": "X81heHVf6HhD",
        "outputId": "2cf14a8a-bd87-406b-dbf7-aed614dcf56a",
        "colab": {
          "base_uri": "https://localhost:8080/"
        }
      },
      "execution_count": 10,
      "outputs": [
        {
          "output_type": "stream",
          "name": "stdout",
          "text": [
            "torch.Size([32, 48, 64])\n",
            "torch.Size([32, 48, 64])\n",
            "torch.Size([32, 48, 64])\n",
            "torch.Size([32, 48, 64])\n",
            "torch.Size([32, 48, 64])\n",
            "torch.Size([32, 48, 64])\n",
            "torch.Size([32, 48, 64])\n",
            "torch.Size([32, 48, 64])\n",
            "torch.Size([32, 48, 64])\n",
            "torch.Size([32, 48, 64])\n",
            "torch.Size([32, 48, 64])\n",
            "torch.Size([32, 48, 64])\n",
            "torch.Size([32, 48, 64])\n",
            "torch.Size([32, 48, 64])\n",
            "torch.Size([32, 48, 64])\n",
            "torch.Size([32, 48, 64])\n",
            "torch.Size([32, 48, 64])\n",
            "torch.Size([32, 48, 64])\n",
            "torch.Size([32, 48, 64])\n",
            "torch.Size([32, 48, 64])\n",
            "torch.Size([32, 48, 64])\n",
            "torch.Size([32, 48, 64])\n",
            "torch.Size([32, 48, 64])\n",
            "torch.Size([32, 48, 64])\n",
            "torch.Size([32, 48, 64])\n",
            "torch.Size([32, 48, 64])\n",
            "torch.Size([32, 48, 64])\n",
            "torch.Size([32, 48, 64])\n",
            "torch.Size([32, 48, 64])\n",
            "torch.Size([32, 48, 64])\n",
            "torch.Size([32, 48, 64])\n",
            "torch.Size([32, 48, 64])\n",
            "torch.Size([32, 48, 64])\n",
            "torch.Size([32, 48, 64])\n",
            "torch.Size([32, 48, 64])\n",
            "torch.Size([32, 48, 64])\n",
            "torch.Size([32, 48, 64])\n",
            "torch.Size([32, 48, 64])\n",
            "torch.Size([32, 48, 64])\n",
            "torch.Size([32, 48, 64])\n",
            "torch.Size([32, 48, 64])\n",
            "torch.Size([32, 48, 64])\n",
            "torch.Size([32, 48, 64])\n",
            "torch.Size([32, 48, 64])\n",
            "torch.Size([32, 48, 64])\n",
            "torch.Size([32, 48, 64])\n",
            "torch.Size([32, 48, 64])\n",
            "torch.Size([32, 48, 64])\n",
            "torch.Size([32, 48, 64])\n",
            "torch.Size([32, 48, 64])\n",
            "torch.Size([32, 48, 64])\n",
            "torch.Size([32, 48, 64])\n",
            "torch.Size([32, 48, 64])\n",
            "torch.Size([32, 48, 64])\n",
            "torch.Size([32, 48, 64])\n",
            "torch.Size([32, 48, 64])\n",
            "torch.Size([32, 48, 64])\n",
            "torch.Size([32, 48, 64])\n",
            "torch.Size([32, 48, 64])\n",
            "torch.Size([32, 48, 64])\n",
            "torch.Size([32, 48, 64])\n",
            "torch.Size([32, 48, 64])\n",
            "torch.Size([32, 48, 64])\n",
            "torch.Size([32, 48, 64])\n",
            "torch.Size([32, 48, 64])\n",
            "torch.Size([32, 48, 64])\n",
            "torch.Size([32, 48, 64])\n",
            "torch.Size([32, 48, 64])\n",
            "torch.Size([32, 48, 64])\n",
            "torch.Size([32, 48, 64])\n",
            "torch.Size([32, 48, 64])\n",
            "torch.Size([32, 48, 64])\n",
            "torch.Size([32, 48, 64])\n",
            "torch.Size([32, 48, 64])\n",
            "torch.Size([32, 48, 64])\n",
            "torch.Size([32, 48, 64])\n",
            "torch.Size([32, 48, 64])\n",
            "torch.Size([32, 48, 64])\n",
            "torch.Size([32, 48, 64])\n",
            "torch.Size([32, 48, 64])\n",
            "torch.Size([32, 48, 64])\n",
            "torch.Size([32, 48, 64])\n",
            "torch.Size([32, 48, 64])\n",
            "torch.Size([32, 48, 64])\n",
            "torch.Size([32, 48, 64])\n",
            "torch.Size([32, 48, 64])\n",
            "torch.Size([32, 48, 64])\n"
          ]
        }
      ]
    },
    {
      "cell_type": "code",
      "source": [],
      "metadata": {
        "id": "bLwDlqPUACgL"
      },
      "execution_count": null,
      "outputs": []
    }
  ]
}