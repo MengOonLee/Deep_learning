{
  "nbformat": 4,
  "nbformat_minor": 0,
  "metadata": {
    "colab": {
      "provenance": [],
      "authorship_tag": "ABX9TyPTPZvYuVAtkFxP5m8CCONG",
      "include_colab_link": true
    },
    "kernelspec": {
      "name": "python3",
      "display_name": "Python 3"
    },
    "language_info": {
      "name": "python"
    }
  },
  "cells": [
    {
      "cell_type": "markdown",
      "metadata": {
        "id": "view-in-github",
        "colab_type": "text"
      },
      "source": [
        "<a href=\"https://colab.research.google.com/github/MengOonLee/Deep_learning/blob/master/PyTorch/Transformer/Tabular/TimeSeriesForecasting.ipynb\" target=\"_parent\"><img src=\"https://colab.research.google.com/assets/colab-badge.svg\" alt=\"Open In Colab\"/></a>"
      ]
    },
    {
      "cell_type": "code",
      "execution_count": null,
      "metadata": {
        "id": "Nojp6YfB4AYB"
      },
      "outputs": [],
      "source": [
        "%%bash\n",
        "pip install -qU torch"
      ]
    },
    {
      "cell_type": "code",
      "source": [
        "import numpy as np\n",
        "\n",
        "T = 1000\n",
        "num_entities = 3\n",
        "num_features = 2\n",
        "\n",
        "data_dict = {}\n",
        "for eid in range(num_entities):\n",
        "    t = np.linspace(0, 100, T)\n",
        "    f1 = np.sin(t / 5 + eid) + 0.1 * np.random.randn(T)\n",
        "    f2 = np.cos(t / 7 + eid) + 0.1 * np.random.randn(T)\n",
        "    data_dict[eid] = np.stack([f1, f2], axis=1)\n",
        "\n",
        "data_dict"
      ],
      "metadata": {
        "id": "4qB5X4SC4giM"
      },
      "execution_count": null,
      "outputs": []
    }
  ]
}