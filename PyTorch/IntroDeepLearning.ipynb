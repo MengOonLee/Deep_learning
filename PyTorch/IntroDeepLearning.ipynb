{
 "cells": [
  {
   "cell_type": "markdown",
   "id": "20044f8b-20c3-4ae0-8968-ecc6f2199a11",
   "metadata": {},
   "source": [
    "# Introduction to Deep Learning with PyTorch"
   ]
  },
  {
   "cell_type": "markdown",
   "id": "a1aadb5b-542f-4009-a873-0179523b723e",
   "metadata": {},
   "source": [
    "## Introduction to PyTorch"
   ]
  },
  {
   "cell_type": "markdown",
   "id": "c282c750-e072-4e70-80ec-47e501dbf49c",
   "metadata": {},
   "source": [
    "### Tensors"
   ]
  },
  {
   "cell_type": "code",
   "execution_count": 17,
   "id": "32adda0c-2e92-484a-9bc1-7e2c15a268c3",
   "metadata": {},
   "outputs": [
    {
     "name": "stdout",
     "output_type": "stream",
     "text": [
      "Tensor shape: torch.Size([2, 3])\n",
      "Tensor dtype: torch.int64\n",
      "Tensor device: cpu\n",
      "tensor([[1, 2, 3],\n",
      "        [4, 5, 6]])\n"
     ]
    }
   ],
   "source": [
    "import numpy as np\n",
    "import torch\n",
    "\n",
    "array = [[1, 2, 3], [4, 5, 6]]\n",
    "tensor = torch.tensor(array)\n",
    "print(\"Tensor shape:\", tensor.shape)\n",
    "print(\"Tensor dtype:\", tensor.dtype)\n",
    "print(\"Tensor device:\", tensor.device)\n",
    "\n",
    "np_array = np.array(array)\n",
    "np_tensor = torch.from_numpy(np_array)\n",
    "print(np_tensor)"
   ]
  },
  {
   "cell_type": "code",
   "execution_count": 7,
   "id": "245c00a3-81b5-41ec-8374-e148dcde3a34",
   "metadata": {
    "collapsed": true,
    "jupyter": {
     "outputs_hidden": true
    },
    "scrolled": true
   },
   "outputs": [
    {
     "name": "stdout",
     "output_type": "stream",
     "text": [
      "tensor([[3, 3],\n",
      "        [5, 5]])\n",
      "tensor([[2, 2],\n",
      "        [6, 6]])\n"
     ]
    },
    {
     "ename": "RuntimeError",
     "evalue": "The size of tensor a (2) must match the size of tensor b (3) at non-singleton dimension 1",
     "output_type": "error",
     "traceback": [
      "\u001b[0;31m---------------------------------------------------------------------------\u001b[0m",
      "\u001b[0;31mRuntimeError\u001b[0m                              Traceback (most recent call last)",
      "Cell \u001b[0;32mIn[7], line 9\u001b[0m\n\u001b[1;32m      7\u001b[0m \u001b[38;5;28mprint\u001b[39m(a \u001b[38;5;241m+\u001b[39m b)\n\u001b[1;32m      8\u001b[0m \u001b[38;5;28mprint\u001b[39m(a \u001b[38;5;241m*\u001b[39m b)\n\u001b[0;32m----> 9\u001b[0m \u001b[38;5;28mprint\u001b[39m(\u001b[43ma\u001b[49m\u001b[43m \u001b[49m\u001b[38;5;241;43m+\u001b[39;49m\u001b[43m \u001b[49m\u001b[43mc\u001b[49m)\n",
      "\u001b[0;31mRuntimeError\u001b[0m: The size of tensor a (2) must match the size of tensor b (3) at non-singleton dimension 1"
     ]
    }
   ],
   "source": [
    "import torch\n",
    "\n",
    "a = torch.tensor([[1, 1], [2, 2]])\n",
    "b = torch.tensor([[2, 2], [3, 3]])\n",
    "c = torch.tensor([[2, 2, 4], [3, 3, 5]])\n",
    "\n",
    "print(a + b)\n",
    "print(a * b)\n",
    "print(a + c)"
   ]
  },
  {
   "cell_type": "code",
   "execution_count": 16,
   "id": "affe6696-bcde-46c6-8d18-b198b5238b70",
   "metadata": {},
   "outputs": [
    {
     "name": "stdout",
     "output_type": "stream",
     "text": [
      "tensor([1, 2, 3, 4])\n",
      "Device: cpu\n",
      "Dtype: torch.int64\n"
     ]
    }
   ],
   "source": [
    "# Import PyTorch\n",
    "import torch\n",
    "\n",
    "list_a = [1, 2, 3, 4]\n",
    "\n",
    "# Create a tensor from list_a\n",
    "tensor_a = torch.tensor(list_a)\n",
    "print(tensor_a)\n",
    "# Display the tensor device\n",
    "print(\"Device:\", tensor_a.device)\n",
    "# Display the tensor data type\n",
    "print(\"Dtype:\", tensor_a.dtype)"
   ]
  },
  {
   "cell_type": "code",
   "execution_count": 10,
   "id": "654a42df-e35a-4ba9-84cc-d730786d80d4",
   "metadata": {},
   "outputs": [
    {
     "name": "stdout",
     "output_type": "stream",
     "text": [
      "tensor([[ 1,  1,  1],\n",
      "        [ 4,  7, 28],\n",
      "        [22, 17, 46]])\n"
     ]
    }
   ],
   "source": [
    "import numpy as np\n",
    "import torch\n",
    "\n",
    "array_a = np.array([\n",
    "    [1, 1, 1],\n",
    "    [2, 3, 4],\n",
    "    [4, 5, 6]\n",
    "])\n",
    "\n",
    "array_b = np.array([\n",
    "    [7, 5, 4],\n",
    "    [2, 2, 8],\n",
    "    [6, 3, 8]\n",
    "])\n",
    "\n",
    "# Create two tensors from the arrays\n",
    "tensor_a = torch.from_numpy(array_a)\n",
    "tensor_b = torch.from_numpy(array_b)\n",
    "\n",
    "# Subtract tensor_b from tensor_a \n",
    "tensor_c = tensor_a - tensor_b\n",
    "\n",
    "# Multiply each element of tensor_a with each element of tensor_b\n",
    "tensor_d = tensor_a * tensor_b\n",
    "\n",
    "# Add tensor_c with tensor_d\n",
    "tensor_e = tensor_c + tensor_d\n",
    "print(tensor_e)"
   ]
  },
  {
   "cell_type": "markdown",
   "id": "110ff913-f061-475c-8266-81a0ec00ba7f",
   "metadata": {},
   "source": [
    "### Neural Network"
   ]
  },
  {
   "cell_type": "code",
   "execution_count": 15,
   "id": "a934bda3-4185-4db3-8609-13bc172eba89",
   "metadata": {},
   "outputs": [
    {
     "name": "stdout",
     "output_type": "stream",
     "text": [
      "Weight: Parameter containing:\n",
      "tensor([[ 0.2944, -0.4310, -0.4302],\n",
      "        [-0.1530,  0.4387,  0.4528]], requires_grad=True)\n",
      "Bias: Parameter containing:\n",
      "tensor([-0.2241, -0.3048], requires_grad=True)\n",
      "Output: tensor([[-0.2166, -0.2651]], grad_fn=<AddmmBackward0>)\n"
     ]
    }
   ],
   "source": [
    "import torch\n",
    "\n",
    "# Create input_tensor with three features\n",
    "input_tensor = torch.tensor([[0.3471, 0.4547, -0.2356]])\n",
    "\n",
    "# Define first linear layer\n",
    "linear_layer = torch.nn.Linear(in_features=3, out_features=2)\n",
    "print(\"Weight:\", linear_layer.weight)\n",
    "print(\"Bias:\", linear_layer.bias)\n",
    "\n",
    "# Pass input through linear layer\n",
    "output = linear_layer(input_tensor)\n",
    "print(\"Output:\", output)"
   ]
  },
  {
   "cell_type": "code",
   "execution_count": 18,
   "id": "65302eef-2cc6-48d8-a1d7-0ae42e081f1a",
   "metadata": {},
   "outputs": [
    {
     "name": "stdout",
     "output_type": "stream",
     "text": [
      "tensor([[ 0.3791, -0.1998,  0.0790,  0.3923,  0.1201]],\n",
      "       grad_fn=<AddmmBackward0>)\n"
     ]
    }
   ],
   "source": [
    "import torch\n",
    "\n",
    "input_tensor = torch.tensor([\n",
    "    [-0.0014, 0.4038, 1.0305, 0.7521, 0.7489, -0.3968, 0.0113, -1.3844, 0.8705, -0.9743]\n",
    "])\n",
    "\n",
    "# Create network with three linear layers\n",
    "model = torch.nn.Sequential(\n",
    "    torch.nn.Linear(in_features=10, out_features=18),\n",
    "    torch.nn.Linear(in_features=18, out_features=20),\n",
    "    torch.nn.Linear(in_features=20, out_features=5)\n",
    ")\n",
    "\n",
    "# Pass input_tensor to model to obtain output\n",
    "output_tensor = model(input_tensor)\n",
    "print(output_tensor)"
   ]
  },
  {
   "cell_type": "code",
   "execution_count": 5,
   "id": "bd06201f-7fac-4fda-b80a-2dfcde4e1dc0",
   "metadata": {},
   "outputs": [
    {
     "name": "stdout",
     "output_type": "stream",
     "text": [
      "tensor([[-0.1347]], grad_fn=<AddmmBackward0>)\n"
     ]
    }
   ],
   "source": [
    "import torch\n",
    "\n",
    "input_tensor = torch.tensor([[2, 3, 6, 7, 9, 3, 2, 1]], dtype=torch.float32)\n",
    "\n",
    "# Implement a small neural network with exactly two linear layer\n",
    "model = torch.nn.Sequential(\n",
    "    torch.nn.Linear(in_features=8, out_features=4),\n",
    "    torch.nn.Linear(in_features=4, out_features=1)\n",
    ")\n",
    "\n",
    "output = model(input_tensor)\n",
    "print(output)"
   ]
  },
  {
   "cell_type": "markdown",
   "id": "8ab3c48e-4b9c-429f-8fba-f54f0b35f36b",
   "metadata": {},
   "source": [
    "### Activation Functions"
   ]
  },
  {
   "cell_type": "code",
   "execution_count": 6,
   "id": "e2e59118-7cbe-4852-b1ba-ca6e44cecbaa",
   "metadata": {},
   "outputs": [
    {
     "name": "stdout",
     "output_type": "stream",
     "text": [
      "Output sigmoid: tensor([[0.9975]])\n",
      "Output softmax: tensor([[0.1392, 0.8420, 0.0188]])\n"
     ]
    }
   ],
   "source": [
    "import torch\n",
    "\n",
    "input = torch.tensor([[6.0]])\n",
    "sigmoid = torch.nn.Sigmoid()\n",
    "output = sigmoid(input)\n",
    "print(\"Output sigmoid:\", output)\n",
    "\n",
    "# Create an input tensor\n",
    "input = torch.tensor([[4.3, 6.1, 2.3]])\n",
    "# Apply softmax along the last dimension\n",
    "probabilities = torch.nn.Softmax(dim=-1)\n",
    "output = probabilities(input)\n",
    "\n",
    "print(\"Output softmax:\", output)"
   ]
  },
  {
   "cell_type": "code",
   "execution_count": 8,
   "id": "00b2df1a-477b-4d17-88ab-f82b60c10529",
   "metadata": {},
   "outputs": [
    {
     "name": "stdout",
     "output_type": "stream",
     "text": [
      "Output sigmoid: tensor([0.3701], grad_fn=<SigmoidBackward0>)\n"
     ]
    }
   ],
   "source": [
    "import torch\n",
    "\n",
    "input = torch.rand(6)\n",
    "model = torch.nn.Sequential(\n",
    "    torch.nn.Linear(in_features=6, out_features=4), # First linear layer\n",
    "    torch.nn.Linear(in_features=4, out_features=1), # Second linear layer\n",
    "    torch.nn.Sigmoid() # Sigmoid activation function\n",
    ")\n",
    "output = model(input)\n",
    "print(\"Output sigmoid:\", output)"
   ]
  },
  {
   "cell_type": "code",
   "execution_count": 9,
   "id": "7e0c0e52-6bf5-403a-bb98-480e32b2197c",
   "metadata": {},
   "outputs": [
    {
     "name": "stdout",
     "output_type": "stream",
     "text": [
      "Probability: tensor([[0.6900]])\n"
     ]
    }
   ],
   "source": [
    "import torch\n",
    "\n",
    "score = torch.tensor([[0.8]])\n",
    "# Create a sigmoid function and apply it on the score tensor\n",
    "sigmoid = torch.nn.Sigmoid()\n",
    "probability = sigmoid(score)\n",
    "print(\"Probability:\", probability)"
   ]
  },
  {
   "cell_type": "markdown",
   "id": "7e9aeb5d-a316-40d3-823f-b47979713f40",
   "metadata": {},
   "source": [
    "## Training Neural Network"
   ]
  },
  {
   "cell_type": "markdown",
   "id": "73816640-b445-41c0-acc7-c576c92c45d6",
   "metadata": {},
   "source": [
    "### Forward pass"
   ]
  },
  {
   "cell_type": "code",
   "execution_count": null,
   "id": "b6032f29-c709-47d1-a013-f21eeaa79814",
   "metadata": {},
   "outputs": [],
   "source": []
  }
 ],
 "metadata": {
  "kernelspec": {
   "display_name": "venv",
   "language": "python",
   "name": "venv"
  },
  "language_info": {
   "codemirror_mode": {
    "name": "ipython",
    "version": 3
   },
   "file_extension": ".py",
   "mimetype": "text/x-python",
   "name": "python",
   "nbconvert_exporter": "python",
   "pygments_lexer": "ipython3",
   "version": "3.8.10"
  }
 },
 "nbformat": 4,
 "nbformat_minor": 5
}
