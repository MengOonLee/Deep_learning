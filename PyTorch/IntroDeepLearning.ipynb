{
 "cells": [
  {
   "cell_type": "markdown",
   "id": "20044f8b-20c3-4ae0-8968-ecc6f2199a11",
   "metadata": {},
   "source": [
    "# Introduction to Deep Learning with PyTorch"
   ]
  },
  {
   "cell_type": "markdown",
   "id": "a1aadb5b-542f-4009-a873-0179523b723e",
   "metadata": {},
   "source": [
    "## Introduction to PyTorch"
   ]
  },
  {
   "cell_type": "markdown",
   "id": "c282c750-e072-4e70-80ec-47e501dbf49c",
   "metadata": {},
   "source": [
    "### Tensors"
   ]
  },
  {
   "cell_type": "code",
   "execution_count": 2,
   "id": "32adda0c-2e92-484a-9bc1-7e2c15a268c3",
   "metadata": {},
   "outputs": [
    {
     "name": "stdout",
     "output_type": "stream",
     "text": [
      "Tensor shape: torch.Size([2, 3])\n",
      "Tensor dtype: torch.int64\n",
      "Tensor device: cuda:0\n",
      "Input tensor: tensor([[1, 2, 3],\n",
      "        [4, 5, 6]], device='cuda:0')\n"
     ]
    }
   ],
   "source": [
    "import numpy as np\n",
    "import torch\n",
    "\n",
    "array = [[1, 2, 3], [4, 5, 6]]    \n",
    "tensor = torch.tensor(array)\n",
    "if torch.cuda.is_available():\n",
    "    tensor = tensor.cuda()\n",
    "    \n",
    "print(\"Tensor shape:\", tensor.shape)\n",
    "print(\"Tensor dtype:\", tensor.dtype)\n",
    "print(\"Tensor device:\", tensor.device)\n",
    "\n",
    "np_array = np.array(array)\n",
    "np_tensor = torch.from_numpy(np_array)\n",
    "if torch.cuda.is_available():\n",
    "    np_tensor = np_tensor.cuda()\n",
    "\n",
    "print(\"Input tensor:\", np_tensor)"
   ]
  },
  {
   "cell_type": "code",
   "execution_count": 3,
   "id": "245c00a3-81b5-41ec-8374-e148dcde3a34",
   "metadata": {},
   "outputs": [
    {
     "name": "stdout",
     "output_type": "stream",
     "text": [
      "tensor([[3, 3],\n",
      "        [5, 5]], device='cuda:0')\n",
      "tensor([[2, 2],\n",
      "        [6, 6]], device='cuda:0')\n"
     ]
    },
    {
     "ename": "RuntimeError",
     "evalue": "The size of tensor a (2) must match the size of tensor b (3) at non-singleton dimension 1",
     "output_type": "error",
     "traceback": [
      "\u001b[0;31m---------------------------------------------------------------------------\u001b[0m",
      "\u001b[0;31mRuntimeError\u001b[0m                              Traceback (most recent call last)",
      "Cell \u001b[0;32mIn[3], line 14\u001b[0m\n\u001b[1;32m     12\u001b[0m \u001b[38;5;28mprint\u001b[39m(a \u001b[38;5;241m+\u001b[39m b)\n\u001b[1;32m     13\u001b[0m \u001b[38;5;28mprint\u001b[39m(a \u001b[38;5;241m*\u001b[39m b)\n\u001b[0;32m---> 14\u001b[0m \u001b[38;5;28mprint\u001b[39m(\u001b[43ma\u001b[49m\u001b[43m \u001b[49m\u001b[38;5;241;43m+\u001b[39;49m\u001b[43m \u001b[49m\u001b[43mc\u001b[49m)\n",
      "\u001b[0;31mRuntimeError\u001b[0m: The size of tensor a (2) must match the size of tensor b (3) at non-singleton dimension 1"
     ]
    }
   ],
   "source": [
    "import torch\n",
    "\n",
    "a = torch.tensor([[1, 1], [2, 2]])\n",
    "b = torch.tensor([[2, 2], [3, 3]])\n",
    "c = torch.tensor([[2, 2, 4], [3, 3, 5]])\n",
    "\n",
    "if torch.cuda.is_available():\n",
    "    a = a.cuda()\n",
    "    b = b.cuda()\n",
    "    c = c.cuda()\n",
    "\n",
    "print(a + b)\n",
    "print(a * b)\n",
    "print(a + c)"
   ]
  },
  {
   "cell_type": "code",
   "execution_count": 4,
   "id": "affe6696-bcde-46c6-8d18-b198b5238b70",
   "metadata": {},
   "outputs": [
    {
     "name": "stdout",
     "output_type": "stream",
     "text": [
      "tensor([1, 2, 3, 4], device='cuda:0')\n",
      "Device: cuda:0\n",
      "Dtype: torch.int64\n"
     ]
    }
   ],
   "source": [
    "# Import PyTorch\n",
    "import torch\n",
    "\n",
    "list_a = [1, 2, 3, 4]\n",
    "\n",
    "# Create a tensor from list_a\n",
    "tensor_a = torch.tensor(list_a)\n",
    "if torch.cuda.is_available():\n",
    "    tensor_a = tensor_a.cuda()\n",
    "print(tensor_a)\n",
    "\n",
    "# Display the tensor device\n",
    "print(\"Device:\", tensor_a.device)\n",
    "# Display the tensor data type\n",
    "print(\"Dtype:\", tensor_a.dtype)"
   ]
  },
  {
   "cell_type": "code",
   "execution_count": 5,
   "id": "654a42df-e35a-4ba9-84cc-d730786d80d4",
   "metadata": {},
   "outputs": [
    {
     "name": "stdout",
     "output_type": "stream",
     "text": [
      "tensor([[ 1,  1,  1],\n",
      "        [ 4,  7, 28],\n",
      "        [22, 17, 46]], device='cuda:0')\n"
     ]
    }
   ],
   "source": [
    "import numpy as np\n",
    "import torch\n",
    "\n",
    "# Create two tensors from the arrays\n",
    "array_a = np.array([\n",
    "    [1, 1, 1],\n",
    "    [2, 3, 4],\n",
    "    [4, 5, 6]\n",
    "])\n",
    "array_b = np.array([\n",
    "    [7, 5, 4],\n",
    "    [2, 2, 8],\n",
    "    [6, 3, 8]\n",
    "])\n",
    "tensor_a = torch.from_numpy(array_a)\n",
    "tensor_b = torch.from_numpy(array_b)\n",
    "if torch.cuda.is_available():\n",
    "    tensor_a = tensor_a.cuda()\n",
    "    tensor_b = tensor_b.cuda()\n",
    "\n",
    "# Subtract tensor_b from tensor_a \n",
    "tensor_c = tensor_a - tensor_b\n",
    "# Multiply each element of tensor_a with each element of tensor_b\n",
    "tensor_d = tensor_a * tensor_b\n",
    "# Add tensor_c with tensor_d\n",
    "tensor_e = tensor_c + tensor_d\n",
    "print(tensor_e)"
   ]
  },
  {
   "cell_type": "markdown",
   "id": "110ff913-f061-475c-8266-81a0ec00ba7f",
   "metadata": {},
   "source": [
    "### Neural network"
   ]
  },
  {
   "cell_type": "code",
   "execution_count": 6,
   "id": "a934bda3-4185-4db3-8609-13bc172eba89",
   "metadata": {},
   "outputs": [
    {
     "name": "stdout",
     "output_type": "stream",
     "text": [
      "Weight: Parameter containing:\n",
      "tensor([[ 0.3953, -0.1266, -0.5211],\n",
      "        [ 0.5255, -0.4329,  0.2503]], requires_grad=True)\n",
      "Bias: Parameter containing:\n",
      "tensor([0.5610, 0.3169], requires_grad=True)\n",
      "Output: tensor([[0.7634, 0.2436]], device='cuda:0', grad_fn=<AddmmBackward0>)\n"
     ]
    }
   ],
   "source": [
    "import torch\n",
    "\n",
    "# Create input_tensor with three features\n",
    "input_tensor = torch.tensor([[0.3471, 0.4547, -0.2356]])\n",
    "\n",
    "# Define first linear layer\n",
    "linear_layer = torch.nn.Linear(in_features=3, out_features=2)\n",
    "print(\"Weight:\", linear_layer.weight)\n",
    "print(\"Bias:\", linear_layer.bias)\n",
    "\n",
    "if torch.cuda.is_available():\n",
    "    input_tensor = input_tensor.cuda()\n",
    "    linear_layer = linear_layer.cuda()\n",
    "\n",
    "# Pass input through linear layer\n",
    "output = linear_layer(input_tensor)\n",
    "print(\"Output:\", output)"
   ]
  },
  {
   "cell_type": "code",
   "execution_count": 7,
   "id": "65302eef-2cc6-48d8-a1d7-0ae42e081f1a",
   "metadata": {},
   "outputs": [
    {
     "name": "stdout",
     "output_type": "stream",
     "text": [
      "tensor([[ 0.0126,  0.0104, -0.0756, -0.1790,  0.0743]], device='cuda:0',\n",
      "       grad_fn=<AddmmBackward0>)\n"
     ]
    }
   ],
   "source": [
    "import torch\n",
    "\n",
    "input_tensor = torch.tensor([\n",
    "    [-0.0014, 0.4038, 1.0305, 0.7521, 0.7489, -0.3968, 0.0113, -1.3844, 0.8705, -0.9743]\n",
    "])\n",
    "\n",
    "# Create network with three linear layers\n",
    "model = torch.nn.Sequential(\n",
    "    torch.nn.Linear(in_features=10, out_features=18),\n",
    "    torch.nn.Linear(in_features=18, out_features=20),\n",
    "    torch.nn.Linear(in_features=20, out_features=5)\n",
    ")\n",
    "\n",
    "if torch.cuda.is_available():\n",
    "    input_tensor = input_tensor.cuda()\n",
    "    model = model.cuda()\n",
    "\n",
    "# Pass input_tensor to model to obtain output\n",
    "output_tensor = model(input_tensor)\n",
    "print(output_tensor)"
   ]
  },
  {
   "cell_type": "code",
   "execution_count": 8,
   "id": "bd06201f-7fac-4fda-b80a-2dfcde4e1dc0",
   "metadata": {},
   "outputs": [
    {
     "name": "stdout",
     "output_type": "stream",
     "text": [
      "tensor([[0.1250]], device='cuda:0', grad_fn=<AddmmBackward0>)\n"
     ]
    }
   ],
   "source": [
    "import torch\n",
    "\n",
    "input_tensor = torch.tensor([[2, 3, 6, 7, 9, 3, 2, 1]], dtype=torch.float32)\n",
    "\n",
    "# Implement a small neural network with exactly two linear layer\n",
    "model = torch.nn.Sequential(\n",
    "    torch.nn.Linear(in_features=8, out_features=4),\n",
    "    torch.nn.Linear(in_features=4, out_features=1)\n",
    ")\n",
    "\n",
    "if torch.cuda.is_available():\n",
    "    input_tensor = input_tensor.cuda()\n",
    "    model = model.cuda()\n",
    "\n",
    "output = model(input_tensor)\n",
    "print(output)"
   ]
  },
  {
   "cell_type": "markdown",
   "id": "8ab3c48e-4b9c-429f-8fba-f54f0b35f36b",
   "metadata": {},
   "source": [
    "### Activation functions"
   ]
  },
  {
   "cell_type": "code",
   "execution_count": 11,
   "id": "e2e59118-7cbe-4852-b1ba-ca6e44cecbaa",
   "metadata": {},
   "outputs": [
    {
     "name": "stdout",
     "output_type": "stream",
     "text": [
      "Output sigmoid: tensor([[0.9975]], device='cuda:0')\n"
     ]
    }
   ],
   "source": [
    "import torch\n",
    "\n",
    "input = torch.tensor([[6.0]])\n",
    "sigmoid = torch.nn.Sigmoid()\n",
    "\n",
    "if torch.cuda.is_available():\n",
    "    input = input.cuda()\n",
    "    sigmoid = sigmoid.cuda()\n",
    "\n",
    "output = sigmoid(input)\n",
    "print(\"Output sigmoid:\", output)"
   ]
  },
  {
   "cell_type": "code",
   "execution_count": 12,
   "id": "00b2df1a-477b-4d17-88ab-f82b60c10529",
   "metadata": {},
   "outputs": [
    {
     "name": "stdout",
     "output_type": "stream",
     "text": [
      "Output sigmoid: tensor([0.4675], device='cuda:0', grad_fn=<SigmoidBackward0>)\n"
     ]
    }
   ],
   "source": [
    "import torch\n",
    "\n",
    "input = torch.rand(size=(6,))\n",
    "\n",
    "model = torch.nn.Sequential(\n",
    "    torch.nn.Linear(in_features=6, out_features=4), # First linear layer\n",
    "    torch.nn.Linear(in_features=4, out_features=1), # Second linear layer\n",
    "    torch.nn.Sigmoid() # Sigmoid activation function\n",
    ")\n",
    "\n",
    "if torch.cuda.is_available():\n",
    "    input = input.cuda()\n",
    "    model = model.cuda()\n",
    "\n",
    "output = model(input)\n",
    "print(\"Output sigmoid:\", output)"
   ]
  },
  {
   "cell_type": "code",
   "execution_count": 13,
   "id": "5eb882e5-0a2c-498f-8c1d-d91ca374d29a",
   "metadata": {},
   "outputs": [
    {
     "name": "stdout",
     "output_type": "stream",
     "text": [
      "Output softmax: tensor([[0.1392, 0.8420, 0.0188]], device='cuda:0')\n"
     ]
    }
   ],
   "source": [
    "import torch\n",
    "\n",
    "# Create an input tensor\n",
    "input = torch.tensor([[4.3, 6.1, 2.3]])\n",
    "# Apply softmax along the last dimension\n",
    "probabilities = torch.nn.Softmax(dim=-1)\n",
    "\n",
    "if torch.cuda.is_available():\n",
    "    input = input.cuda()\n",
    "    probabilities = probabilities.cuda()\n",
    "\n",
    "output = probabilities(input)\n",
    "print(\"Output softmax:\", output)"
   ]
  },
  {
   "cell_type": "code",
   "execution_count": 14,
   "id": "7e0c0e52-6bf5-403a-bb98-480e32b2197c",
   "metadata": {},
   "outputs": [
    {
     "name": "stdout",
     "output_type": "stream",
     "text": [
      "Probability sigmoid: tensor([[0.6900]], device='cuda:0')\n"
     ]
    }
   ],
   "source": [
    "import torch\n",
    "\n",
    "score = torch.tensor([[0.8]])\n",
    "# Create a sigmoid function and apply it on the score tensor\n",
    "sigmoid = torch.nn.Sigmoid()\n",
    "\n",
    "if torch.cuda.is_available():\n",
    "    score = score.cuda()\n",
    "    sigmoid = sigmoid.cuda()\n",
    "\n",
    "probability = sigmoid(score)\n",
    "print(\"Probability sigmoid:\", probability)"
   ]
  },
  {
   "cell_type": "code",
   "execution_count": 15,
   "id": "9b1dd7aa-2641-40b5-b6b2-7a51e254d4fc",
   "metadata": {},
   "outputs": [
    {
     "name": "stdout",
     "output_type": "stream",
     "text": [
      "Probabilities softmax: tensor([[1.2828e-01, 1.1698e-04, 5.7492e-01, 3.4961e-02, 1.5669e-01, 1.0503e-01]],\n",
      "       device='cuda:0')\n"
     ]
    }
   ],
   "source": [
    "import torch\n",
    "\n",
    "scores = torch.tensor([[1.0, -6.0, 2.5, -0.3, 1.2, 0.8]])\n",
    "# Create a softmax function and apply it on the score tensor\n",
    "softmax = torch.nn.Softmax(dim=-1)\n",
    "\n",
    "if torch.cuda.is_available():\n",
    "    scores = scores.cuda()\n",
    "    softmax = softmax.cuda()\n",
    "\n",
    "probabilities = softmax(scores)\n",
    "print(\"Probabilities softmax:\", probabilities)"
   ]
  },
  {
   "cell_type": "markdown",
   "id": "7e9aeb5d-a316-40d3-823f-b47979713f40",
   "metadata": {},
   "source": [
    "## Training Neural Network"
   ]
  },
  {
   "cell_type": "markdown",
   "id": "73816640-b445-41c0-acc7-c576c92c45d6",
   "metadata": {},
   "source": [
    "### Forward pass"
   ]
  },
  {
   "cell_type": "code",
   "execution_count": 1,
   "id": "b6032f29-c709-47d1-a013-f21eeaa79814",
   "metadata": {},
   "outputs": [
    {
     "name": "stdout",
     "output_type": "stream",
     "text": [
      "Output shape: torch.Size([5, 1])\n",
      "Output: tensor([[0.5893],\n",
      "        [0.6004],\n",
      "        [0.6618],\n",
      "        [0.5699],\n",
      "        [0.5741]], device='cuda:0', grad_fn=<SigmoidBackward0>)\n"
     ]
    }
   ],
   "source": [
    "import torch\n",
    "\n",
    "# Create input data of shape 5x6\n",
    "input = torch.tensor([\n",
    "    [-0.4421, 1.5207, 2.0607, -0.3647, 0.4691, 0.0946],\n",
    "    [-0.9155, -0.0475, -1.3645, 0.6336, -0.19520, -0.3398],\n",
    "    [0.7406, 1.6763, -0.8511, 0.2432, 0.1123, -0.0633],\n",
    "    [-1.6630, -0.0718, -0.1285, 0.5396, -0.0288, -0.8622],\n",
    "    [-0.7413, 1.7920, -0.0883, -0.6685, 0.4745, -0.4245]\n",
    "])\n",
    "\n",
    "# Create binary classification model\n",
    "model = torch.nn.Sequential(\n",
    "    torch.nn.Linear(in_features=6, out_features=4), # First linear layer\n",
    "    torch.nn.Linear(in_features=4, out_features=1), # Second linear layer\n",
    "    torch.nn.Sigmoid() # Sigmoid activation function\n",
    ")\n",
    "\n",
    "if torch.cuda.is_available():\n",
    "    input = input.cuda()\n",
    "    model = model.cuda()\n",
    "\n",
    "# Pass input data through model\n",
    "output = model(input)\n",
    "print(\"Output shape:\", output.shape)\n",
    "print(\"Output:\", output)"
   ]
  },
  {
   "cell_type": "code",
   "execution_count": 2,
   "id": "96081c7c-7f63-4a7a-9b38-0acbc1fd64e8",
   "metadata": {},
   "outputs": [
    {
     "name": "stdout",
     "output_type": "stream",
     "text": [
      "Output shape: torch.Size([5, 3])\n",
      "Output: tensor([[0.2114, 0.3633, 0.4253],\n",
      "        [0.3579, 0.4361, 0.2060],\n",
      "        [0.1713, 0.4706, 0.3581],\n",
      "        [0.3933, 0.3662, 0.2406],\n",
      "        [0.2584, 0.4002, 0.3413]], device='cuda:0', grad_fn=<SoftmaxBackward0>)\n"
     ]
    }
   ],
   "source": [
    "import torch\n",
    "\n",
    "# Create input data of shape 5x6\n",
    "input = torch.tensor([\n",
    "    [-0.4421, 1.5207, 2.0607, -0.3647, 0.4691, 0.0946],\n",
    "    [-0.9155, -0.0475, -1.3645, 0.6336, -0.19520, -0.3398],\n",
    "    [0.7406, 1.6763, -0.8511, 0.2432, 0.1123, -0.0633],\n",
    "    [-1.6630, -0.0718, -0.1285, 0.5396, -0.0288, -0.8622],\n",
    "    [-0.7413, 1.7920, -0.0883, -0.6685, 0.4745, -0.4245]\n",
    "])\n",
    "\n",
    "# Specify model has three classes\n",
    "n_classes = 3\n",
    "\n",
    "# Create multiclass classification model\n",
    "model = torch.nn.Sequential(\n",
    "    torch.nn.Linear(in_features=6, out_features=4), # First linear layer\n",
    "    torch.nn.Linear(in_features=4, out_features=n_classes), # Second linear layer\n",
    "    torch.nn.Softmax(dim=-1) # Softmax activation\n",
    ")\n",
    "\n",
    "if torch.cuda.is_available():\n",
    "    input = input.cuda()\n",
    "    model = model.cuda()\n",
    "\n",
    "# Pass input data through model\n",
    "output = model(input)\n",
    "print(\"Output shape:\", output.shape)\n",
    "print(\"Output:\", output)"
   ]
  },
  {
   "cell_type": "code",
   "execution_count": 3,
   "id": "99a89209-4bd0-46c5-b8ba-fa0b2da7af14",
   "metadata": {},
   "outputs": [
    {
     "name": "stdout",
     "output_type": "stream",
     "text": [
      "Output shape: torch.Size([5, 1])\n",
      "Output: tensor([[ 0.5293],\n",
      "        [-0.4981],\n",
      "        [-0.0318],\n",
      "        [-0.2674],\n",
      "        [ 0.2802]], device='cuda:0', grad_fn=<AddmmBackward0>)\n"
     ]
    }
   ],
   "source": [
    "import torch\n",
    "\n",
    "# Create input data of shape 5x6\n",
    "input = torch.tensor([\n",
    "    [-0.4421, 1.5207, 2.0607, -0.3647, 0.4691, 0.0946],\n",
    "    [-0.9155, -0.0475, -1.3645, 0.6336, -0.19520, -0.3398],\n",
    "    [0.7406, 1.6763, -0.8511, 0.2432, 0.1123, -0.0633],\n",
    "    [-1.6630, -0.0718, -0.1285, 0.5396, -0.0288, -0.8622],\n",
    "    [-0.7413, 1.7920, -0.0883, -0.6685, 0.4745, -0.4245]\n",
    "])\n",
    "\n",
    "# Create regression model\n",
    "model = torch.nn.Sequential(\n",
    "    torch.nn.Linear(in_features=6, out_features=4), # First linear layer\n",
    "    torch.nn.Linear(in_features=4, out_features=1) # Second linear layer\n",
    ")\n",
    "\n",
    "if torch.cuda.is_available():\n",
    "    input = input.cuda()\n",
    "    model = model.cuda()\n",
    "\n",
    "# Pass input data through model\n",
    "output = model(input)\n",
    "# Return output\n",
    "print(\"Output shape:\", output.shape)\n",
    "print(\"Output:\", output)"
   ]
  },
  {
   "cell_type": "code",
   "execution_count": 4,
   "id": "a61ce7c3-3aaf-4886-a795-c499464dea5f",
   "metadata": {},
   "outputs": [
    {
     "name": "stdout",
     "output_type": "stream",
     "text": [
      "Output shape: torch.Size([1, 1])\n",
      "Output: tensor([[0.5632]], device='cuda:0', grad_fn=<SigmoidBackward0>)\n"
     ]
    }
   ],
   "source": [
    "import torch\n",
    "\n",
    "input = torch.Tensor([[3, 4, 6, 2, 3, 6, 8, 9]])\n",
    "\n",
    "# Implement a small neural network for binary classification\n",
    "model = torch.nn.Sequential(\n",
    "    torch.nn.Linear(in_features=8, out_features=1),\n",
    "    torch.nn.Sigmoid()\n",
    ")\n",
    "\n",
    "if torch.cuda.is_available():\n",
    "    input = input.cuda()\n",
    "    model = model.cuda()\n",
    "\n",
    "output = model(input)\n",
    "print(\"Output shape:\", output.shape)\n",
    "print(\"Output:\", output)"
   ]
  },
  {
   "cell_type": "code",
   "execution_count": 6,
   "id": "d5ce5981-1a7d-4d9f-841b-f1579879fc6c",
   "metadata": {},
   "outputs": [
    {
     "name": "stdout",
     "output_type": "stream",
     "text": [
      "Output shape: torch.Size([1, 4])\n",
      "Output: tensor([[0.0736, 0.4231, 0.1553, 0.3479]], device='cuda:0',\n",
      "       grad_fn=<SoftmaxBackward0>)\n"
     ]
    }
   ],
   "source": [
    "import torch\n",
    "\n",
    "input = torch.Tensor([[3, 4, 6, 7, 10, 12, 2, 3, 6, 8, 9]])\n",
    "\n",
    "# Implement a neural network with exactly four linear layers\n",
    "model = torch.nn.Sequential(\n",
    "    torch.nn.Linear(in_features=11, out_features=20),\n",
    "    torch.nn.Linear(in_features=20, out_features=12),\n",
    "    torch.nn.Linear(in_features=12, out_features=6),\n",
    "    torch.nn.Linear(in_features=6, out_features=4),\n",
    "    torch.nn.Softmax(dim=-1)\n",
    ")\n",
    "\n",
    "if torch.cuda.is_available():\n",
    "    input = input.cuda()\n",
    "    model = model.cuda()\n",
    "\n",
    "output = model(input)\n",
    "print(\"Output shape:\", output.shape)\n",
    "print(\"Output:\", output)"
   ]
  },
  {
   "cell_type": "markdown",
   "id": "2890370c-2061-486f-b16f-95bd6f5eb840",
   "metadata": {},
   "source": [
    "### Loss functions"
   ]
  },
  {
   "cell_type": "code",
   "execution_count": 8,
   "id": "bd375029-8bdb-41aa-a28f-15719ddf7f6f",
   "metadata": {},
   "outputs": [
    {
     "name": "stdout",
     "output_type": "stream",
     "text": [
      "One hot encoding for 1st class: tensor([1, 0, 0])\n",
      "One hot encoding for 2nd class: tensor([0, 1, 0])\n",
      "One hot encoding for 3rd class: tensor([0, 0, 1])\n"
     ]
    }
   ],
   "source": [
    "import torch\n",
    "\n",
    "print(\"One hot encoding for 1st class:\",\n",
    "    torch.nn.functional.one_hot(input=torch.tensor(0), num_classes=3))\n",
    "print(\"One hot encoding for 2nd class:\",\n",
    "    torch.nn.functional.one_hot(input=torch.tensor(1), num_classes=3))\n",
    "print(\"One hot encoding for 3rd class:\",\n",
    "    torch.nn.functional.one_hot(input=torch.tensor(2), num_classes=3))"
   ]
  },
  {
   "cell_type": "code",
   "execution_count": 5,
   "id": "29b2c6b8-70e3-437e-b9ad-93c87f866a57",
   "metadata": {},
   "outputs": [
    {
     "name": "stdout",
     "output_type": "stream",
     "text": [
      "Loss: tensor(0.8131, device='cuda:0', dtype=torch.float64)\n"
     ]
    }
   ],
   "source": [
    "import torch\n",
    "\n",
    "scores = torch.tensor([[-0.1211, 0.1059]])\n",
    "one_hot_target = torch.tensor([[1, 0]])\n",
    "\n",
    "if torch.cuda.is_available():\n",
    "    scores = scores.cuda()\n",
    "    one_hot_target = one_hot_target.cuda()\n",
    "\n",
    "criterion = torch.nn.CrossEntropyLoss()\n",
    "\n",
    "loss = criterion(input=scores.double(), target=one_hot_target.double())\n",
    "print(\"Loss:\", loss)"
   ]
  },
  {
   "cell_type": "code",
   "execution_count": 12,
   "id": "8524b006-a105-4fa1-baf2-93b9dd65af4d",
   "metadata": {},
   "outputs": [
    {
     "name": "stdout",
     "output_type": "stream",
     "text": [
      "One-hot numpy: [0 1 0]\n",
      "One-hot pytorch: tensor([0, 1, 0])\n"
     ]
    }
   ],
   "source": [
    "import numpy as np\n",
    "import torch\n",
    "\n",
    "y = 1\n",
    "num_classes = 3\n",
    "\n",
    "# Create the one-hot encoded vector using NumPy\n",
    "one_hot_numpy = np.array([0, 1, 0])\n",
    "print(\"One-hot numpy:\", one_hot_numpy)\n",
    "\n",
    "# Create the one-hot encoded vector using PyTorch\n",
    "one_hot_pytorch = torch.nn.functional.one_hot(\n",
    "    input=torch.tensor(y), num_classes=num_classes)\n",
    "print(\"One-hot pytorch:\", one_hot_pytorch)"
   ]
  },
  {
   "cell_type": "code",
   "execution_count": 4,
   "id": "8f139227-be34-4a73-9210-18d825c3c378",
   "metadata": {},
   "outputs": [
    {
     "name": "stdout",
     "output_type": "stream",
     "text": [
      "One-hot label: tensor([[0, 0, 1, 0]])\n",
      "Loss: tensor(-5.9979, device='cuda:0', dtype=torch.float64)\n"
     ]
    }
   ],
   "source": [
    "import torch\n",
    "\n",
    "y = [2]\n",
    "scores = torch.tensor([[0.1, 6.0, -2.0, 3.2]])\n",
    "\n",
    "# Create a one-hot encoded vector of the label y\n",
    "one_hot_label = torch.nn.functional.one_hot(\n",
    "    torch.tensor(y), num_classes=scores.shape[1])\n",
    "print(\"One-hot label:\", one_hot_label)\n",
    "\n",
    "if torch.cuda.is_available():\n",
    "    scores = scores.cuda()\n",
    "    one_hot_label = scores.cuda()\n",
    "\n",
    "# Create the cross entropy loss function\n",
    "criterion = torch.nn.CrossEntropyLoss()\n",
    "\n",
    "# Calculate the cross entropy loss\n",
    "loss = criterion(input=scores.double(), target=one_hot_label.double())\n",
    "print(\"Loss:\", loss)"
   ]
  },
  {
   "cell_type": "markdown",
   "id": "ebefaffb-0b55-4e93-8df0-e715366c609b",
   "metadata": {},
   "source": [
    "### Update parameters"
   ]
  },
  {
   "cell_type": "code",
   "execution_count": null,
   "id": "4349792c-6966-4336-8f77-516ba14618ce",
   "metadata": {},
   "outputs": [],
   "source": [
    "import torch\n",
    "\n",
    "# Create the model and run a forward pass\n",
    "model = torch.nn.Sequential(\n",
    "    torch.nn.Linear(in_features=16, out_features=8),\n",
    "    torch.nn.Linear(in_features=8, out_features=4),\n",
    "    torch.nn.Linear(in_features=4, out_features=2)\n",
    ")\n",
    "\n",
    "if torch.cuda.is_available():\n",
    "    sample = sample.cuda()\n",
    "    model = model.cuda()\n",
    "\n",
    "pred = model(sample)\n",
    "\n",
    "# Calculate the loss and compute the gradients\n",
    "criterion = torch.nn.CrossEntropyLoss()\n",
    "# Calculate the loss\n",
    "loss = criterion(input=pred, target=target)\n",
    "# Compute the gradients of the loss\n",
    "loss.backward()\n",
    "# Display gradients of the weight and bias tensors in order\n",
    "print(weight.grad)\n",
    "print(bias.grad)\n",
    "\n",
    "# Access the weight of the first linear layer\n",
    "weight_0 = model[0].weight\n",
    "# Access the bias of the second linear layer\n",
    "bias_1 = model[2].bias\n",
    "# Access each layer's gradients\n",
    "model[0].weight.grad, model[0].bias.grad\n",
    "model[1].weight.grad, model[1].bias.grad\n",
    "model[2].weight.grad, model[2].bias.grad\n",
    "\n",
    "# Learning rate is typically small\n",
    "lr = 0.001\n",
    "# Update the weights\n",
    "weight = model[0].weight\n",
    "weight_grad = model[0].weight.grad\n",
    "weight = weight - lr * weight_grad\n",
    "# Update the biases\n",
    "bias = model[0].bias\n",
    "bias_grad = model[0].bias.grad\n",
    "bias = bias - lr * bias_grad\n",
    "\n",
    "# Create the optimizer\n",
    "optimizer = torch.optim.SGD(\n",
    "    params=model.parameters(), lr=0.001)\n",
    "# Update the model's parameters using the optimizer\n",
    "optimizer.step()"
   ]
  },
  {
   "cell_type": "markdown",
   "id": "4ce0f47f-5bfd-4412-8154-49204de4bd5b",
   "metadata": {},
   "source": [
    "### Training loop"
   ]
  },
  {
   "cell_type": "code",
   "execution_count": null,
   "id": "1f7933c8-c0df-4380-89e4-c77104b82303",
   "metadata": {},
   "outputs": [],
   "source": [
    "import torch\n",
    "\n",
    "# Create the dataset and the dataloader\n",
    "dataset = torch.utils.data.TensorDataset(\n",
    "    torch.tensor(features).float(), torch.tensor(target).float())\n",
    "dataloader = torch.utils.data.DataLoader(dataset=dataset, batch_size=4, shuffle=True)\n",
    "\n",
    "# Create the model\n",
    "model = torch.nn.Sequential(\n",
    "    torch.nn.Linear(in_features=4, out_features=2),\n",
    "    torch.nn.Linear(in_features=2, out_features=1)\n",
    ")\n",
    "\n",
    "if torch.cuda.is_available():\n",
    "    dataloader = dataloader.cuda()\n",
    "    model = model.cuda()\n",
    "\n",
    "# Create the loss and optimizer\n",
    "criterion = torch.nn.MSELoss()\n",
    "optimizer = torch.optim.SGD(params=model.parameters(), lr=0.001)\n",
    "\n",
    "# Loop through the dataset multiple times\n",
    "for epoch in range(num_epochs):\n",
    "    for data in dataloader:\n",
    "        # Set the gradients to zero\n",
    "        optimizer.zero_grad()\n",
    "        # Get feature and target from the data loader\n",
    "        feature, target = data\n",
    "        # Run a forward pass\n",
    "        pred = model(feature)\n",
    "        # Compute loss and gradients\n",
    "        loss = criterion(input=pred, target=target)\n",
    "        loss.backward()\n",
    "        # Update the parameters\n",
    "        optimizer.step()"
   ]
  },
  {
   "cell_type": "code",
   "execution_count": 6,
   "id": "08846e47-6e9a-43c2-b721-319da02b5e07",
   "metadata": {},
   "outputs": [
    {
     "name": "stdout",
     "output_type": "stream",
     "text": [
      "MSE numpy: 81.0\n",
      "MSE pytorch: tensor(81., device='cuda:0')\n"
     ]
    }
   ],
   "source": [
    "import numpy as np\n",
    "import torch\n",
    "\n",
    "y = np.array(1)\n",
    "y_hat = np.array(10)\n",
    "\n",
    "# Calculate the MSELoss using Numpy\n",
    "mse_numpy = np.mean((y_hat - y)**2)\n",
    "print(\"MSE numpy:\", mse_numpy)\n",
    "\n",
    "if torch.cuda.is_available():\n",
    "    y = torch.tensor(y).float().cuda()\n",
    "    y_hat = torch.tensor(y_hat).float().cuda()\n",
    "\n",
    "# Create the MSELoss function\n",
    "criterion = torch.nn.MSELoss()\n",
    "\n",
    "# Calculate the MSELoss using the created loss function\n",
    "mse_pytorch = criterion(\n",
    "    input=y_hat, target=y\n",
    ")\n",
    "print(\"MSE pytorch:\", mse_pytorch)"
   ]
  },
  {
   "cell_type": "code",
   "execution_count": null,
   "id": "bb05a335-f013-46f5-98ac-75ce3af6ade6",
   "metadata": {},
   "outputs": [],
   "source": [
    "import torch\n",
    "\n",
    "# Create the dataset and the dataloader\n",
    "dataset = torch.utils.data.TensorDataset(\n",
    "    torch.tensor(features).float(),\n",
    "    torch.tensor(target).float()\n",
    ")\n",
    "dataloader = torch.utils.data.DataLoader(\n",
    "    dataset=dataset, batch_size=4, shuffle=True\n",
    ")\n",
    "# Create the loss and optimizer\n",
    "criterion = torch.nn.MSELoss()\n",
    "optimizer = torch.optim.SGD(\n",
    "    params=model.parameters(), lr=0.001\n",
    ")\n",
    "# Loop over the number of epochs and then the dataloader\n",
    "for i in range(num_epochs):\n",
    "    for data in dataloader:\n",
    "        # Set the gradients to zero\n",
    "        optimizer.zero_grad()\n",
    "        # Run a forwarad pass\n",
    "        feature, target = data\n",
    "        prediction = model(feature)\n",
    "        # Calculate the loss\n",
    "        loss = criterion(input=prediction, target=target)\n",
    "        # Compute the gradients\n",
    "        loss.backward()\n",
    "        # Update the model's parameters\n",
    "        optimizer.step()"
   ]
  }
 ],
 "metadata": {
  "kernelspec": {
   "display_name": "venv",
   "language": "python",
   "name": "venv"
  },
  "language_info": {
   "codemirror_mode": {
    "name": "ipython",
    "version": 3
   },
   "file_extension": ".py",
   "mimetype": "text/x-python",
   "name": "python",
   "nbconvert_exporter": "python",
   "pygments_lexer": "ipython3",
   "version": "3.11.0rc1"
  }
 },
 "nbformat": 4,
 "nbformat_minor": 5
}
