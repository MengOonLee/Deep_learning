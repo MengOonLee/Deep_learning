{
  "cells": [
    {
      "cell_type": "markdown",
      "metadata": {
        "id": "view-in-github",
        "colab_type": "text"
      },
      "source": [
        "<a href=\"https://colab.research.google.com/github/MengOonLee/Deep_learning/blob/master/PyTorch/IntroDL.ipynb\" target=\"_parent\"><img src=\"https://colab.research.google.com/assets/colab-badge.svg\" alt=\"Open In Colab\"/></a>"
      ]
    },
    {
      "cell_type": "markdown",
      "id": "20044f8b-20c3-4ae0-8968-ecc6f2199a11",
      "metadata": {
        "id": "20044f8b-20c3-4ae0-8968-ecc6f2199a11"
      },
      "source": [
        "# Introduction to Deep Learning with PyTorch"
      ]
    },
    {
      "cell_type": "markdown",
      "id": "a1aadb5b-542f-4009-a873-0179523b723e",
      "metadata": {
        "id": "a1aadb5b-542f-4009-a873-0179523b723e"
      },
      "source": [
        "## Introduction to PyTorch"
      ]
    },
    {
      "cell_type": "markdown",
      "id": "c282c750-e072-4e70-80ec-47e501dbf49c",
      "metadata": {
        "id": "c282c750-e072-4e70-80ec-47e501dbf49c"
      },
      "source": [
        "### Tensors"
      ]
    },
    {
      "cell_type": "code",
      "execution_count": null,
      "id": "32adda0c-2e92-484a-9bc1-7e2c15a268c3",
      "metadata": {
        "id": "32adda0c-2e92-484a-9bc1-7e2c15a268c3",
        "outputId": "03609f08-7780-49c3-da9c-f1f30fce2f8c"
      },
      "outputs": [
        {
          "name": "stdout",
          "output_type": "stream",
          "text": [
            "Tensor shape: torch.Size([2, 3])\n",
            "Tensor dtype: torch.int32\n",
            "Tensor device: cuda:0\n",
            "tensor([[ 1,  1,  1],\n",
            "        [ 4,  7, 28],\n",
            "        [22, 17, 46]], device='cuda:0', dtype=torch.int32)\n"
          ]
        }
      ],
      "source": [
        "import numpy as np\n",
        "np.random.seed(seed=42)\n",
        "import torch\n",
        "torch.manual_seed(seed=42)\n",
        "\n",
        "# Create a tensor from numpy array\n",
        "array = np.array([\n",
        "    [1, 2, 3],\n",
        "    [4, 5, 6]\n",
        "], dtype=np.int32)\n",
        "tensor = torch.tensor(array)\n",
        "if torch.cuda.is_available():\n",
        "    tensor = tensor.cuda()\n",
        "\n",
        "# Display the tensor shape, data type, device\n",
        "print(\"Tensor shape:\", tensor.shape)\n",
        "print(\"Tensor dtype:\", tensor.dtype)\n",
        "print(\"Tensor device:\", tensor.device)\n",
        "\n",
        "# Create two tensors from the arrays\n",
        "array_a = np.array([\n",
        "    [1, 1, 1],\n",
        "    [2, 3, 4],\n",
        "    [4, 5, 6]\n",
        "], dtype=np.int32)\n",
        "array_b = np.array([\n",
        "    [7, 5, 4],\n",
        "    [2, 2, 8],\n",
        "    [6, 3, 8]\n",
        "], dtype=np.int32)\n",
        "tensor_a = torch.tensor(array_a)\n",
        "tensor_b = torch.tensor(array_b)\n",
        "if torch.cuda.is_available():\n",
        "    tensor_a = tensor_a.cuda()\n",
        "    tensor_b = tensor_b.cuda()\n",
        "\n",
        "# Subtract tensor_b from tensor_a\n",
        "tensor_c = tensor_a - tensor_b\n",
        "# Multiply each element of tensor_a with each element of tensor_b\n",
        "tensor_d = tensor_a * tensor_b\n",
        "# Add tensor_c with tensor_d\n",
        "tensor_e = tensor_c + tensor_d\n",
        "print(tensor_e)"
      ]
    },
    {
      "cell_type": "markdown",
      "id": "110ff913-f061-475c-8266-81a0ec00ba7f",
      "metadata": {
        "id": "110ff913-f061-475c-8266-81a0ec00ba7f"
      },
      "source": [
        "### Neural network"
      ]
    },
    {
      "cell_type": "code",
      "execution_count": null,
      "id": "a934bda3-4185-4db3-8609-13bc172eba89",
      "metadata": {
        "id": "a934bda3-4185-4db3-8609-13bc172eba89",
        "outputId": "b9f2826e-d0f1-49e9-e0ea-5883354b1b12"
      },
      "outputs": [
        {
          "name": "stdout",
          "output_type": "stream",
          "text": [
            "Weight: Parameter containing:\n",
            "tensor([[ 0.4414,  0.4792, -0.1353],\n",
            "        [ 0.5304, -0.1265,  0.1165]], requires_grad=True)\n",
            "Bias: Parameter containing:\n",
            "tensor([-0.2811,  0.3391], requires_grad=True)\n",
            "Output: tensor([[0.1219, 0.4382]], device='cuda:0', grad_fn=<AddmmBackward0>)\n"
          ]
        }
      ],
      "source": [
        "import numpy as np\n",
        "np.random.seed(seed=42)\n",
        "import torch\n",
        "torch.manual_seed(seed=42)\n",
        "\n",
        "# Create input tensor with three features\n",
        "input = np.array([\n",
        "    [0.3471, 0.4547, -0.2356]\n",
        "], dtype=np.float32)\n",
        "input = torch.tensor(input)\n",
        "\n",
        "# Define first linear layer\n",
        "linear_layer = torch.nn.Linear(in_features=3, out_features=2)\n",
        "print(\"Weight:\", linear_layer.weight)\n",
        "print(\"Bias:\", linear_layer.bias)\n",
        "\n",
        "if torch.cuda.is_available():\n",
        "    input = input.cuda()\n",
        "    linear_layer = linear_layer.cuda()\n",
        "\n",
        "# Pass input through linear layer\n",
        "output = linear_layer(input)\n",
        "print(\"Output:\", output)"
      ]
    },
    {
      "cell_type": "code",
      "execution_count": null,
      "id": "65302eef-2cc6-48d8-a1d7-0ae42e081f1a",
      "metadata": {
        "id": "65302eef-2cc6-48d8-a1d7-0ae42e081f1a",
        "outputId": "7b055b17-66d2-409c-90ec-0eb7bb32902a"
      },
      "outputs": [
        {
          "name": "stdout",
          "output_type": "stream",
          "text": [
            "Output: tensor([[-0.5441,  0.2479,  0.2832, -0.2926, -0.3359]], device='cuda:0',\n",
            "       grad_fn=<AddmmBackward0>)\n"
          ]
        }
      ],
      "source": [
        "import numpy as np\n",
        "np.random.seed(seed=42)\n",
        "import torch\n",
        "torch.manual_seed(seed=42)\n",
        "\n",
        "input = np.array([\n",
        "    [-0.0014, 0.4038, 1.0305, 0.7521, 0.7489, -0.3968, 0.0113, -1.3844, 0.8705, -0.9743]\n",
        "], dtype=np.float32)\n",
        "input = torch.tensor(input)\n",
        "\n",
        "# Implement a small neural network with three linear layers\n",
        "model = torch.nn.Sequential(\n",
        "    torch.nn.Linear(in_features=10, out_features=18),\n",
        "    torch.nn.Linear(in_features=18, out_features=20),\n",
        "    torch.nn.Linear(in_features=20, out_features=5)\n",
        ")\n",
        "\n",
        "if torch.cuda.is_available():\n",
        "    input = input.cuda()\n",
        "    model = model.cuda()\n",
        "\n",
        "# Pass input_tensor to model to obtain output\n",
        "output = model(input)\n",
        "print(\"Output:\", output)"
      ]
    },
    {
      "cell_type": "markdown",
      "id": "8ab3c48e-4b9c-429f-8fba-f54f0b35f36b",
      "metadata": {
        "id": "8ab3c48e-4b9c-429f-8fba-f54f0b35f36b"
      },
      "source": [
        "### Activation functions"
      ]
    },
    {
      "cell_type": "code",
      "execution_count": null,
      "id": "bdef7945-7898-4f1d-970a-a4496f26b269",
      "metadata": {
        "id": "bdef7945-7898-4f1d-970a-a4496f26b269",
        "outputId": "8f19e0fc-5325-4c07-db34-a0e0f2c1b2f0"
      },
      "outputs": [
        {
          "name": "stdout",
          "output_type": "stream",
          "text": [
            "Probability sigmoid: tensor([[0.6900]], device='cuda:0')\n"
          ]
        }
      ],
      "source": [
        "import numpy as np\n",
        "np.random.seed(seed=42)\n",
        "import torch\n",
        "torch.manual_seed(seed=42)\n",
        "\n",
        "# Create a score tensor\n",
        "score = np.array([[0.8]], dtype=np.float32)\n",
        "score = torch.tensor(score)\n",
        "# Apply sigmoid on the score tensor\n",
        "sigmoid = torch.nn.Sigmoid()\n",
        "\n",
        "if torch.cuda.is_available():\n",
        "    score = score.cuda()\n",
        "    sigmoid = sigmoid.cuda()\n",
        "\n",
        "probability = sigmoid(score)\n",
        "print(\"Probability sigmoid:\", probability)"
      ]
    },
    {
      "cell_type": "code",
      "execution_count": null,
      "id": "5eb882e5-0a2c-498f-8c1d-d91ca374d29a",
      "metadata": {
        "id": "5eb882e5-0a2c-498f-8c1d-d91ca374d29a",
        "outputId": "ac282a3f-477f-4545-9d26-929488cae705"
      },
      "outputs": [
        {
          "name": "stdout",
          "output_type": "stream",
          "text": [
            "Probabilities softmax: tensor([[1.2828e-01, 1.1698e-04, 5.7492e-01, 3.4961e-02, 1.5669e-01, 1.0503e-01]],\n",
            "       device='cuda:0')\n"
          ]
        }
      ],
      "source": [
        "import numpy as np\n",
        "np.random.seed(seed=42)\n",
        "import torch\n",
        "torch.manual_seed(seed=42)\n",
        "\n",
        "# Create a score tensor\n",
        "scores = np.array([\n",
        "    [1.0, -6.0, 2.5, -0.3, 1.2, 0.8]\n",
        "], dtype=np.float32)\n",
        "scores = torch.tensor(scores)\n",
        "# Apply softmax on the score tensor along the last dimension\n",
        "softmax = torch.nn.Softmax(dim=-1)\n",
        "\n",
        "if torch.cuda.is_available():\n",
        "    scores = scores.cuda()\n",
        "    softmax = softmax.cuda()\n",
        "\n",
        "probabilities = softmax(scores)\n",
        "print(\"Probabilities softmax:\", probabilities)"
      ]
    },
    {
      "cell_type": "markdown",
      "id": "7e9aeb5d-a316-40d3-823f-b47979713f40",
      "metadata": {
        "id": "7e9aeb5d-a316-40d3-823f-b47979713f40"
      },
      "source": [
        "## Training Neural Network"
      ]
    },
    {
      "cell_type": "markdown",
      "id": "73816640-b445-41c0-acc7-c576c92c45d6",
      "metadata": {
        "id": "73816640-b445-41c0-acc7-c576c92c45d6"
      },
      "source": [
        "### Forward pass"
      ]
    },
    {
      "cell_type": "code",
      "execution_count": null,
      "id": "b6032f29-c709-47d1-a013-f21eeaa79814",
      "metadata": {
        "id": "b6032f29-c709-47d1-a013-f21eeaa79814",
        "outputId": "0e15bcde-8cf1-4694-b36f-662eb5b4fc84"
      },
      "outputs": [
        {
          "name": "stdout",
          "output_type": "stream",
          "text": [
            "Probability shape: torch.Size([5, 1])\n",
            "Probability: tensor([[0.5257],\n",
            "        [0.5925],\n",
            "        [0.6498],\n",
            "        [0.5418],\n",
            "        [0.5037]], device='cuda:0', grad_fn=<SigmoidBackward0>)\n"
          ]
        }
      ],
      "source": [
        "import numpy as np\n",
        "np.random.seed(seed=42)\n",
        "import torch\n",
        "torch.manual_seed(seed=42)\n",
        "\n",
        "# Create input data of shape 5x6\n",
        "input = np.array([\n",
        "    [-0.4421, 1.5207, 2.0607, -0.3647, 0.4691, 0.0946],\n",
        "    [-0.9155, -0.0475, -1.3645, 0.6336, -0.19520, -0.3398],\n",
        "    [0.7406, 1.6763, -0.8511, 0.2432, 0.1123, -0.0633],\n",
        "    [-1.6630, -0.0718, -0.1285, 0.5396, -0.0288, -0.8622],\n",
        "    [-0.7413, 1.7920, -0.0883, -0.6685, 0.4745, -0.4245]\n",
        "], dtype=np.float32)\n",
        "input = torch.tensor(input)\n",
        "\n",
        "# Implement a small neural network for binary classification\n",
        "model = torch.nn.Sequential(\n",
        "    torch.nn.Linear(in_features=6, out_features=4), # First linear layer\n",
        "    torch.nn.Linear(in_features=4, out_features=1), # Second linear layer\n",
        "    torch.nn.Sigmoid() # Sigmoid activation function\n",
        ")\n",
        "\n",
        "if torch.cuda.is_available():\n",
        "    input = input.cuda()\n",
        "    model = model.cuda()\n",
        "\n",
        "# Pass input data through model\n",
        "probability = model(input)\n",
        "# Return probability\n",
        "print(\"Probability shape:\", probability.shape)\n",
        "print(\"Probability:\", probability)"
      ]
    },
    {
      "cell_type": "code",
      "execution_count": null,
      "id": "96081c7c-7f63-4a7a-9b38-0acbc1fd64e8",
      "metadata": {
        "id": "96081c7c-7f63-4a7a-9b38-0acbc1fd64e8",
        "outputId": "e49db843-3848-40e0-b7c6-6a42381bd75c"
      },
      "outputs": [
        {
          "name": "stdout",
          "output_type": "stream",
          "text": [
            "Probabilities shape: torch.Size([5, 3])\n",
            "Probabilities: tensor([[0.2277, 0.1865, 0.5858],\n",
            "        [0.4008, 0.3053, 0.2938],\n",
            "        [0.3929, 0.2855, 0.3216],\n",
            "        [0.3409, 0.2591, 0.4000],\n",
            "        [0.2445, 0.2576, 0.4979]], device='cuda:0', grad_fn=<SoftmaxBackward0>)\n"
          ]
        }
      ],
      "source": [
        "import numpy as np\n",
        "np.random.seed(seed=42)\n",
        "import torch\n",
        "torch.manual_seed(seed=42)\n",
        "\n",
        "# Create input data of shape 5x6\n",
        "input = np.array([\n",
        "    [-0.4421, 1.5207, 2.0607, -0.3647, 0.4691, 0.0946],\n",
        "    [-0.9155, -0.0475, -1.3645, 0.6336, -0.19520, -0.3398],\n",
        "    [0.7406, 1.6763, -0.8511, 0.2432, 0.1123, -0.0633],\n",
        "    [-1.6630, -0.0718, -0.1285, 0.5396, -0.0288, -0.8622],\n",
        "    [-0.7413, 1.7920, -0.0883, -0.6685, 0.4745, -0.4245]\n",
        "], dtype=np.float32)\n",
        "input = torch.tensor(input)\n",
        "\n",
        "# Specify model has three classes\n",
        "n_classes = 3\n",
        "\n",
        "# Implement a small neural network for multiclass classification model\n",
        "model = torch.nn.Sequential(\n",
        "    torch.nn.Linear(in_features=6, out_features=4), # First linear layer\n",
        "    torch.nn.Linear(in_features=4, out_features=n_classes), # Second linear layer\n",
        "    torch.nn.Softmax(dim=-1) # Softmax activation\n",
        ")\n",
        "\n",
        "if torch.cuda.is_available():\n",
        "    input = input.cuda()\n",
        "    model = model.cuda()\n",
        "\n",
        "# Pass input data through model\n",
        "probabilities = model(input)\n",
        "# Return probabilities\n",
        "print(\"Probabilities shape:\", probabilities.shape)\n",
        "print(\"Probabilities:\", probabilities)"
      ]
    },
    {
      "cell_type": "markdown",
      "id": "2890370c-2061-486f-b16f-95bd6f5eb840",
      "metadata": {
        "id": "2890370c-2061-486f-b16f-95bd6f5eb840"
      },
      "source": [
        "### Loss functions"
      ]
    },
    {
      "cell_type": "code",
      "execution_count": null,
      "id": "8f139227-be34-4a73-9210-18d825c3c378",
      "metadata": {
        "id": "8f139227-be34-4a73-9210-18d825c3c378",
        "outputId": "4964b877-ec72-45cd-c31b-b528755ab882"
      },
      "outputs": [
        {
          "name": "stdout",
          "output_type": "stream",
          "text": [
            "One hot encoding for 2nd class: tensor([[0, 0, 1, 0]], device='cuda:0')\n",
            "Loss: tensor(8.0619, device='cuda:0')\n"
          ]
        }
      ],
      "source": [
        "import numpy as np\n",
        "np.random.seed(seed=42)\n",
        "import torch\n",
        "torch.manual_seed(seed=42)\n",
        "\n",
        "y = torch.tensor([2])\n",
        "scores = np.array([\n",
        "    [0.1, 6.0, -2.0, 3.2]\n",
        "], dtype=np.float32)\n",
        "scores = torch.tensor(scores)\n",
        "if torch.cuda.is_available():\n",
        "    y = y.cuda()\n",
        "    scores = scores.cuda()\n",
        "\n",
        "# Create a one-hot encoded vector of the label y\n",
        "one_hot_target = torch.nn.functional.one_hot(\n",
        "    input=y, num_classes=scores.shape[1])\n",
        "print(\"One hot encoding for 2nd class:\", one_hot_target)\n",
        "\n",
        "# Create the cross entropy loss function\n",
        "criterion = torch.nn.CrossEntropyLoss()\n",
        "\n",
        "# Calculate the cross entropy loss\n",
        "loss = criterion(input=scores, target=one_hot_target.float())\n",
        "print(\"Loss:\", loss)"
      ]
    },
    {
      "cell_type": "markdown",
      "id": "ebefaffb-0b55-4e93-8df0-e715366c609b",
      "metadata": {
        "id": "ebefaffb-0b55-4e93-8df0-e715366c609b"
      },
      "source": [
        "### Update parameters"
      ]
    },
    {
      "cell_type": "code",
      "execution_count": null,
      "id": "4349792c-6966-4336-8f77-516ba14618ce",
      "metadata": {
        "id": "4349792c-6966-4336-8f77-516ba14618ce"
      },
      "outputs": [],
      "source": [
        "import torch\n",
        "torch.manual_seed(seed=42)\n",
        "\n",
        "# Create the model and run a forward pass\n",
        "model = torch.nn.Sequential(\n",
        "    torch.nn.Linear(in_features=16, out_features=8),\n",
        "    torch.nn.Linear(in_features=8, out_features=4),\n",
        "    torch.nn.Linear(in_features=4, out_features=2)\n",
        ")\n",
        "if torch.cuda.is_available():\n",
        "    sample = sample.cuda()\n",
        "    model = model.cuda()\n",
        "\n",
        "pred = model(sample)\n",
        "# Calculate the loss and compute the gradients\n",
        "criterion = torch.nn.CrossEntropyLoss()\n",
        "# Calculate the loss\n",
        "loss = criterion(input=pred, target=target)\n",
        "# Compute the gradients of the loss\n",
        "loss.backward()\n",
        "\n",
        "# Learning rate is typically small\n",
        "lr = 0.001\n",
        "# Update the weights of the first linear layer\n",
        "weight = model[0].weight\n",
        "weight_grad = model[0].weight.grad\n",
        "weight = weight - lr * weight_grad\n",
        "# Update the biases of the first linear layer\n",
        "bias = model[0].bias\n",
        "bias_grad = model[0].bias.grad\n",
        "bias = bias - lr * bias_grad\n",
        "\n",
        "# Create the optimizer\n",
        "optimizer = torch.optim.SGD(\n",
        "    params=model.parameters(), lr=0.001)\n",
        "# Update the model's parameters using the optimizer\n",
        "optimizer.step()"
      ]
    },
    {
      "cell_type": "markdown",
      "id": "4ce0f47f-5bfd-4412-8154-49204de4bd5b",
      "metadata": {
        "id": "4ce0f47f-5bfd-4412-8154-49204de4bd5b"
      },
      "source": [
        "### Training loop"
      ]
    },
    {
      "cell_type": "code",
      "execution_count": null,
      "id": "08846e47-6e9a-43c2-b721-319da02b5e07",
      "metadata": {
        "id": "08846e47-6e9a-43c2-b721-319da02b5e07",
        "outputId": "4de80a70-40bc-4041-c650-05155cab6ebe"
      },
      "outputs": [
        {
          "name": "stdout",
          "output_type": "stream",
          "text": [
            "MSE numpy: 81.0\n",
            "MSE pytorch: tensor(81., device='cuda:0')\n"
          ]
        }
      ],
      "source": [
        "import numpy as np\n",
        "np.random.seed(seed=42)\n",
        "import torch\n",
        "torch.manual_seed(seed=42)\n",
        "\n",
        "y = np.array(1, dtype=np.float32)\n",
        "y_hat = np.array(10, dtype=np.float32)\n",
        "# Calculate the MSELoss using Numpy\n",
        "mse_numpy = np.mean((y_hat - y)**2)\n",
        "print(\"MSE numpy:\", mse_numpy)\n",
        "\n",
        "y = torch.tensor(y)\n",
        "y_hat = torch.tensor(y_hat)\n",
        "if torch.cuda.is_available():\n",
        "    y = y.cuda()\n",
        "    y_hat = y_hat.cuda()\n",
        "\n",
        "# Create the MSELoss function\n",
        "criterion = torch.nn.MSELoss()\n",
        "# Calculate the MSELoss using the created loss function\n",
        "mse_pytorch = criterion(input=y_hat, target=y)\n",
        "print(\"MSE pytorch:\", mse_pytorch)"
      ]
    },
    {
      "cell_type": "code",
      "execution_count": null,
      "id": "1f7933c8-c0df-4380-89e4-c77104b82303",
      "metadata": {
        "id": "1f7933c8-c0df-4380-89e4-c77104b82303"
      },
      "outputs": [],
      "source": [
        "import torch\n",
        "torch.manual_seed(seed=42)\n",
        "\n",
        "# Create the dataset and the dataloader\n",
        "dataset = torch.utils.data.TensorDataset(\n",
        "    torch.tensor(features).float(), torch.tensor(target).float()\n",
        ")\n",
        "dataloader = torch.utils.data.DataLoader(\n",
        "    dataset=dataset, batch_size=4, shuffle=True\n",
        ")\n",
        "# Create the model\n",
        "model = torch.nn.Sequential(\n",
        "    torch.nn.Linear(in_features=4, out_features=2),\n",
        "    torch.nn.Linear(in_features=2, out_features=1)\n",
        ")\n",
        "if torch.cuda.is_available():\n",
        "    model = model.cuda()\n",
        "\n",
        "# Create the loss and optimizer\n",
        "criterion = torch.nn.MSELoss()\n",
        "optimizer = torch.optim.SGD(\n",
        "    params=model.parameters(), lr=0.001\n",
        ")\n",
        "# Loop over the number of epochs and then the dataloader\n",
        "for epoch in range(num_epochs):\n",
        "    for data in dataloader:\n",
        "        # Set the gradients to zero\n",
        "        optimizer.zero_grad()\n",
        "        # Get feature and target from the dataloader\n",
        "        feature, target = data\n",
        "        if torch.cuda.is_available():\n",
        "            feature = feature.cuda()\n",
        "            target = target.cuda()\n",
        "        # Run a forward pass\n",
        "        pred = model(feature)\n",
        "        # Compute loss and gradients\n",
        "        loss = criterion(input=pred, target=target)\n",
        "        loss.backward()\n",
        "        # Update the parameters\n",
        "        optimizer.step()"
      ]
    },
    {
      "cell_type": "markdown",
      "id": "474c1d34-b5d4-4eac-9089-b6697d3e7f6a",
      "metadata": {
        "id": "474c1d34-b5d4-4eac-9089-b6697d3e7f6a"
      },
      "source": [
        "## Hyperparameters"
      ]
    },
    {
      "cell_type": "markdown",
      "id": "0ab6ed75-8d2e-41a7-8eb0-3e1112bc5d03",
      "metadata": {
        "id": "0ab6ed75-8d2e-41a7-8eb0-3e1112bc5d03"
      },
      "source": [
        "### Activation functions"
      ]
    },
    {
      "cell_type": "code",
      "execution_count": null,
      "id": "974f0b99-f8e3-46cf-8fe4-ee47c87b2a36",
      "metadata": {
        "id": "974f0b99-f8e3-46cf-8fe4-ee47c87b2a36",
        "outputId": "123f31fe-6cc3-4d4b-fc85-7def1143d068"
      },
      "outputs": [
        {
          "name": "stdout",
          "output_type": "stream",
          "text": [
            "Gradient: tensor(0.0500)\n"
          ]
        }
      ],
      "source": [
        "import torch\n",
        "torch.manual_seed(seed=42)\n",
        "\n",
        "# Apply leaky ReLU function on x, and calculate gradients\n",
        "x = torch.tensor(-3.0, dtype=torch.float32,\n",
        "    requires_grad=True)\n",
        "# Create a leakly ReLU function with PyTorch\n",
        "leaky_relu = torch.nn.LeakyReLU(\n",
        "    negative_slope=0.05)\n",
        "\n",
        "y = leaky_relu(x)\n",
        "y.backward()\n",
        "# Print the gradient of the leaky ReLU function for x\n",
        "print(\"Gradient:\", x.grad)"
      ]
    },
    {
      "cell_type": "markdown",
      "id": "ba3c855e-33cb-462b-9781-80158966dbd2",
      "metadata": {
        "id": "ba3c855e-33cb-462b-9781-80158966dbd2"
      },
      "source": [
        "### Number of parameters"
      ]
    },
    {
      "cell_type": "code",
      "execution_count": null,
      "id": "91d4735f-3f71-4a76-852d-a527343729f5",
      "metadata": {
        "id": "91d4735f-3f71-4a76-852d-a527343729f5",
        "outputId": "1761d7db-2173-4452-b9d8-b91d474af035"
      },
      "outputs": [
        {
          "name": "stdout",
          "output_type": "stream",
          "text": [
            "Total parameters: 164\n",
            "Output: tensor([[-0.0624, -0.5327]], device='cuda:0', grad_fn=<AddmmBackward0>)\n"
          ]
        }
      ],
      "source": [
        "import numpy as np\n",
        "np.random.seed(seed=42)\n",
        "import torch\n",
        "torch.manual_seed(seed=42)\n",
        "\n",
        "def calculate_capacity(model):\n",
        "    total = 0\n",
        "    # Calculate the number of parameters in the model\n",
        "    for p in model.parameters():\n",
        "        total += p.numel()\n",
        "    return total\n",
        "\n",
        "input = np.array([\n",
        "    [3, 4, 6, 2, 3, 6, 8, 9]\n",
        "], dtype=np.float32)\n",
        "input = torch.tensor(input)\n",
        "# Create a neural network\n",
        "n_features = 8\n",
        "n_classes = 2\n",
        "model = torch.nn.Sequential(\n",
        "    torch.nn.Linear(in_features=n_features, out_features=8),\n",
        "    torch.nn.Linear(in_features=8, out_features=6),\n",
        "    torch.nn.Linear(in_features=6, out_features=4),\n",
        "    torch.nn.Linear(in_features=4, out_features=n_classes)\n",
        ")\n",
        "if torch.cuda.is_available():\n",
        "    input = input.cuda()\n",
        "    model = model.cuda()\n",
        "\n",
        "print(\"Total parameters:\", calculate_capacity(model))\n",
        "\n",
        "output = model(input)\n",
        "print(\"Output:\", output)"
      ]
    },
    {
      "cell_type": "markdown",
      "id": "ab56c207-6808-40c1-ae4e-118401a7915e",
      "metadata": {
        "id": "ab56c207-6808-40c1-ae4e-118401a7915e"
      },
      "source": [
        "### Layer initialization & transfer learning"
      ]
    },
    {
      "cell_type": "code",
      "execution_count": null,
      "id": "ac393d83-e176-4bd1-98bb-a532322f25fc",
      "metadata": {
        "id": "ac393d83-e176-4bd1-98bb-a532322f25fc",
        "outputId": "feb917b0-dcbb-41c5-80d5-344bbc126e9b"
      },
      "outputs": [
        {
          "name": "stdout",
          "output_type": "stream",
          "text": [
            "Model layer1 min weight: tensor(0.0010, device='cuda:0', grad_fn=<MinBackward1>)\n",
            "Model layer1 max weight: tensor(0.9985, device='cuda:0', grad_fn=<MaxBackward1>)\n"
          ]
        }
      ],
      "source": [
        "import torch\n",
        "torch.manual_seed(seed=42)\n",
        "\n",
        "layer0 = torch.nn.Linear(in_features=16, out_features=32)\n",
        "layer1 = torch.nn.Linear(in_features=32, out_features=64)\n",
        "\n",
        "# Use uniform initialization for layer0 and layer1 weights\n",
        "torch.nn.init.uniform_(layer0.weight)\n",
        "torch.nn.init.uniform_(layer1.weight)\n",
        "\n",
        "model = torch.nn.Sequential(layer0, layer1)\n",
        "\n",
        "if torch.cuda.is_available():\n",
        "    model = model.cuda()\n",
        "\n",
        "print(\"Model layer1 min weight:\", model[1].weight.min())\n",
        "print(\"Model layer1 max weight:\", model[1].weight.max())"
      ]
    },
    {
      "cell_type": "code",
      "execution_count": null,
      "id": "6148bc98-1fd3-4304-bbfe-ee0008f83cfe",
      "metadata": {
        "id": "6148bc98-1fd3-4304-bbfe-ee0008f83cfe",
        "outputId": "1545617c-2deb-4293-8995-892be4917377"
      },
      "outputs": [
        {
          "name": "stdout",
          "output_type": "stream",
          "text": [
            "model: Sequential(\n",
            "  (0): Linear(in_features=64, out_features=128, bias=True)\n",
            "  (1): Linear(in_features=128, out_features=256, bias=True)\n",
            ")\n"
          ]
        }
      ],
      "source": [
        "import torch\n",
        "torch.manual_seed(seed=42)\n",
        "\n",
        "model = torch.nn.Sequential(\n",
        "    torch.nn.Linear(in_features=64, out_features=128),\n",
        "    torch.nn.Linear(in_features=128, out_features=256)\n",
        ")\n",
        "if torch.cuda.is_available():\n",
        "    model = model.cuda()\n",
        "\n",
        "for name, param in model.named_parameters():\n",
        "    # Check if the parameters belong to the first layer\n",
        "    if name=='0.weight' or name=='0.bias':\n",
        "        # Freeze the parameters\n",
        "        param.requires_grad = False\n",
        "    # Check if the parameters belong to the second layer\n",
        "    if name=='1.weight' or name=='1.bias':\n",
        "        # Freeze the parameters\n",
        "        param.requires_grad = False\n",
        "\n",
        "torch.save(obj=model, f='model.pth')\n",
        "\n",
        "model = torch.load(f='model.pth')\n",
        "print(\"model:\", model)"
      ]
    },
    {
      "cell_type": "markdown",
      "id": "4936cd97-d151-40ce-93e9-a8bdf6fe1b96",
      "metadata": {
        "id": "4936cd97-d151-40ce-93e9-a8bdf6fe1b96"
      },
      "source": [
        "## Evaluating Models"
      ]
    },
    {
      "cell_type": "markdown",
      "id": "0e682f87-c6cc-4572-8760-42d3423fbb5c",
      "metadata": {
        "id": "0e682f87-c6cc-4572-8760-42d3423fbb5c"
      },
      "source": [
        "### TensorDataset"
      ]
    },
    {
      "cell_type": "code",
      "execution_count": null,
      "id": "45c889ea-f80d-4f03-b59f-8325b7075236",
      "metadata": {
        "scrolled": true,
        "id": "45c889ea-f80d-4f03-b59f-8325b7075236",
        "outputId": "063c7c86-5160-4bc8-df7c-6348a7e3220d"
      },
      "outputs": [
        {
          "name": "stdout",
          "output_type": "stream",
          "text": [
            "Input sample: tensor([0.8872, 0.4722, 0.1196, 0.7132, 0.7608, 0.5613, 0.7710, 0.4938],\n",
            "       device='cuda:0')\n",
            "Label sample: tensor([0.7556], device='cuda:0')\n",
            "Batch inputs: tensor([[0.0651, 0.9489, 0.9656, 0.8084, 0.3046, 0.0977, 0.6842, 0.4402],\n",
            "        [0.3042, 0.5248, 0.4319, 0.2912, 0.6119, 0.1395, 0.2921, 0.3664]],\n",
            "       device='cuda:0')\n",
            "Batch labels: tensor([[0.0314],\n",
            "        [0.0254]], device='cuda:0')\n",
            "Batch inputs: tensor([[0.4561, 0.7852, 0.1997, 0.5142, 0.5924, 0.0465, 0.6075, 0.1705],\n",
            "        [0.3745, 0.9507, 0.7320, 0.5987, 0.1560, 0.1560, 0.0581, 0.8662]],\n",
            "       device='cuda:0')\n",
            "Batch labels: tensor([[0.1079],\n",
            "        [0.5227]], device='cuda:0')\n",
            "Batch inputs: tensor([[0.5467, 0.1849, 0.9696, 0.7751, 0.9395, 0.8948, 0.5979, 0.9219],\n",
            "        [0.0885, 0.1960, 0.0452, 0.3253, 0.3887, 0.2713, 0.8287, 0.3568]],\n",
            "       device='cuda:0')\n",
            "Batch labels: tensor([[0.3144],\n",
            "        [0.5086]], device='cuda:0')\n",
            "Batch inputs: tensor([[0.6011, 0.7081, 0.0206, 0.9699, 0.8324, 0.2123, 0.1818, 0.1834],\n",
            "        [0.8631, 0.6233, 0.3309, 0.0636, 0.3110, 0.3252, 0.7296, 0.6376]],\n",
            "       device='cuda:0')\n",
            "Batch labels: tensor([[0.4275],\n",
            "        [0.4104]], device='cuda:0')\n",
            "Batch inputs: tensor([[0.8872, 0.4722, 0.1196, 0.7132, 0.7608, 0.5613, 0.7710, 0.4938],\n",
            "        [0.1220, 0.4952, 0.0344, 0.9093, 0.2588, 0.6625, 0.3117, 0.5201]],\n",
            "       device='cuda:0')\n",
            "Batch labels: tensor([[0.7556],\n",
            "        [0.6364]], device='cuda:0')\n",
            "Batch inputs: tensor([[0.0055, 0.8155, 0.7069, 0.7290, 0.7713, 0.0740, 0.3585, 0.1159],\n",
            "        [0.2809, 0.5427, 0.1409, 0.8022, 0.0746, 0.9869, 0.7722, 0.1987]],\n",
            "       device='cuda:0')\n",
            "Batch labels: tensor([[0.2493],\n",
            "        [0.9076]], device='cuda:0')\n"
          ]
        }
      ],
      "source": [
        "import numpy as np\n",
        "np.random.seed(seed=42)\n",
        "import torch\n",
        "torch.manual_seed(seed=42)\n",
        "\n",
        "features = np.array(np.random.rand(12, 8), dtype=np.float32)\n",
        "target = np.array(np.random.rand(12, 1), dtype=np.float32)\n",
        "\n",
        "# Convert arrays to PyTorch tensors\n",
        "features = torch.tensor(features)\n",
        "target = torch.tensor(target)\n",
        "if torch.cuda.is_available():\n",
        "    features = features.cuda()\n",
        "    target = target.cuda()\n",
        "\n",
        "# Create a TensorDataset from two tensors\n",
        "dataset = torch.utils.data.TensorDataset(features, target)\n",
        "# Access an individual sample\n",
        "sample = dataset[-1]\n",
        "input_sample, label_sample = sample\n",
        "print(\"Input sample:\", input_sample)\n",
        "print(\"Label sample:\", label_sample)\n",
        "\n",
        "# Create a DataLoader\n",
        "dataloader = torch.utils.data.DataLoader(\n",
        "    dataset=dataset, batch_size=2, shuffle=True\n",
        ")\n",
        "# Iterate over the dataloader\n",
        "for batch_inputs, batch_labels in dataloader:\n",
        "    print(\"Batch inputs:\", batch_inputs)\n",
        "    print(\"Batch labels:\", batch_labels)"
      ]
    },
    {
      "cell_type": "code",
      "execution_count": null,
      "id": "b4dfe2a7-63b5-43a3-99ce-a183ab28fb15",
      "metadata": {
        "id": "b4dfe2a7-63b5-43a3-99ce-a183ab28fb15",
        "outputId": "7e17db38-ccd1-454c-ed0a-1b1c34b0a946"
      },
      "outputs": [
        {
          "name": "stdout",
          "output_type": "stream",
          "text": [
            "Dataset: (tensor([0.3224, 0.6560, 0.5887, 0.4714], device='cuda:0'), tensor(1., device='cuda:0'))\n",
            "X: tensor([[0.4755, 0.7001, 0.3965, 0.5092],\n",
            "        [0.5497, 0.3670, 0.5538, 0.6479]], device='cuda:0') \n",
            "y: tensor([0., 1.], device='cuda:0')\n",
            "Probability: tensor([[0.6648],\n",
            "        [0.6542],\n",
            "        [0.6631],\n",
            "        ...,\n",
            "        [0.6503],\n",
            "        [0.6594],\n",
            "        [0.6577]], device='cuda:0', grad_fn=<SigmoidBackward0>)\n"
          ]
        }
      ],
      "source": [
        "import pandas as pd\n",
        "import numpy as np\n",
        "np.random.seed(seed=42)\n",
        "import torch\n",
        "torch.manual_seed(seed=42)\n",
        "\n",
        "dataframe = pd.read_csv('data/water_potability.csv')\n",
        "# Define input features\n",
        "features = dataframe[['ph', 'Sulfate', 'Conductivity', 'Organic_carbon']]\n",
        "features = np.array(features, dtype=np.float32)\n",
        "# Define target features (ground truth)\n",
        "target = dataframe['Potability']\n",
        "target = np.array(target, dtype=np.float32)\n",
        "\n",
        "# Load the different columns into two PyTorch tensors\n",
        "features = torch.tensor(features)\n",
        "target = torch.tensor(target)\n",
        "if torch.cuda.is_available():\n",
        "    features = features.cuda()\n",
        "    target = target.cuda()\n",
        "\n",
        "# Instantiate dataset class\n",
        "dataset = torch.utils.data.TensorDataset(features, target)\n",
        "print(\"Dataset:\", dataset[-1])\n",
        "\n",
        "# Create a dataloader using the above dataset\n",
        "dataloader = torch.utils.data.DataLoader(\n",
        "    dataset=dataset, batch_size=2, shuffle=True\n",
        ")\n",
        "x, y = next(iter(dataloader))\n",
        "print(\"X:\", x, \"\\ny:\", y)\n",
        "\n",
        "# Create a model using the nn.Sequential API\n",
        "model = torch.nn.Sequential(\n",
        "    torch.nn.Linear(in_features=4, out_features=2),\n",
        "    torch.nn.Linear(in_features=2, out_features=1),\n",
        "    torch.nn.Sigmoid()\n",
        ")\n",
        "if torch.cuda.is_available():\n",
        "    model = model.cuda()\n",
        "\n",
        "proba = model(features)\n",
        "print(\"Probability:\", proba)"
      ]
    },
    {
      "cell_type": "markdown",
      "id": "5b3a3d7b-50d1-429c-9ef8-3e44169feaf9",
      "metadata": {
        "id": "5b3a3d7b-50d1-429c-9ef8-3e44169feaf9"
      },
      "source": [
        "### Evaluation"
      ]
    },
    {
      "cell_type": "code",
      "execution_count": null,
      "id": "236561da-c14a-46dc-be36-927f45e102b0",
      "metadata": {
        "id": "236561da-c14a-46dc-be36-927f45e102b0"
      },
      "outputs": [],
      "source": [
        "import torch\n",
        "\n",
        "if torch.cuda.is_available():\n",
        "    model = model.cuda()\n",
        "\n",
        "criterion = torch.nn.CrossEntropyLoss()\n",
        "optimizer = torch.optim.SGD(\n",
        "    params=model.parameters(), lr=0.001\n",
        ")\n",
        "\n",
        "training_loss = 0.0\n",
        "for i, data in enumerate(trainloader, 0):\n",
        "    # Run the forward pass\n",
        "    optimizer.zero_grad()\n",
        "    features, labels = data\n",
        "    outputs = model(features)\n",
        "    # Calculate the loss\n",
        "    loss = criterion(outputs, labels)\n",
        "    # Calculate the gradients\n",
        "    loss.backward()\n",
        "    optimizer.step()\n",
        "    # Calculate and sum the loss\n",
        "    training_loss += loss.item()\n",
        "epoch_loss = training_loss / len(trainloader)\n",
        "\n",
        "validation_loss = 0.0\n",
        "# Put model in evaluation mode\n",
        "model.eval()\n",
        "# Speed up the forward pass\n",
        "with torch.no_grad():\n",
        "    for i, data in enumerate(validationloader, 0):\n",
        "        # Run the forward pass\n",
        "        features, labels = data\n",
        "        outputs = model(features)\n",
        "        # Calculate the loss\n",
        "        loss = criterion(outputs, labels)\n",
        "        validation_loss += loss.item()\n",
        "epoch_loss = validation_loss / len(validationloader)\n",
        "model.train()"
      ]
    },
    {
      "cell_type": "code",
      "execution_count": null,
      "id": "ddc7737d-9e5a-4e54-a9fa-a9504734029e",
      "metadata": {
        "id": "ddc7737d-9e5a-4e54-a9fa-a9504734029e"
      },
      "outputs": [],
      "source": [
        "import torch\n",
        "import torchmetrics\n",
        "\n",
        "if torch.cuda.is_available():\n",
        "    model = model.cuda()\n",
        "\n",
        "# Create accuracy metric using torch metrics\n",
        "metric = torchmetrics.Accuracy(\n",
        "    task='multiclass', num_classes=3\n",
        ")\n",
        "for i, data in enumerate(dataloader, 0):\n",
        "    features, labels = data\n",
        "    outputs = model(features)\n",
        "    # Calculate accuracy over the batch\n",
        "    acc = metric(output, labels.argmax(dim=-1))\n",
        "# Calculate accuracy over the whole epoch\n",
        "acc = metric.compute()\n",
        "print(f\"Accuracy on all data: {acc}\")\n",
        "# Reset the metric for the next epoch (training or validataion)\n",
        "metric.reset()"
      ]
    },
    {
      "cell_type": "code",
      "execution_count": null,
      "id": "26db7d55-7179-4847-a3c7-a79469d68195",
      "metadata": {
        "id": "26db7d55-7179-4847-a3c7-a79469d68195"
      },
      "outputs": [],
      "source": [
        "import torch\n",
        "\n",
        "if torch.cuda.is_available():\n",
        "    model = model.cuda()\n",
        "\n",
        "# Set the model to evaluation mode\n",
        "model.eval()\n",
        "validation_loss = 0.0\n",
        "\n",
        "with torch.no_grad():\n",
        "    for data in validationloader:\n",
        "        outputs = model(data[0])\n",
        "        loss = criterion(outputs, data[1])\n",
        "        # Sum the current loss to the validation_loss variable\n",
        "        validation_loss += loss.item()\n",
        "\n",
        "# Calculate the mean loss value\n",
        "validation_loss_epoch =  validation_loss / len(validationloader)\n",
        "print(validation_loss_epoch)\n",
        "\n",
        "# Set the model back to training mode\n",
        "model.train()"
      ]
    },
    {
      "cell_type": "code",
      "execution_count": null,
      "id": "0f54764f-f9ac-4734-8355-9d1d94e5564d",
      "metadata": {
        "id": "0f54764f-f9ac-4734-8355-9d1d94e5564d"
      },
      "outputs": [],
      "source": [
        "import torch\n",
        "import torchmetrics\n",
        "\n",
        "if torch.cuda.is_available():\n",
        "    model = model.cuda()\n",
        "\n",
        "# Create accuracy metric using torch metrics\n",
        "metric = torchmetrics.Accuracy(\n",
        "    task='multiclass', num_classes=3\n",
        ")\n",
        "for data in dataloader:\n",
        "    features, labels = data\n",
        "    outputs = model(features)\n",
        "    # Calculate accuracy over the batch\n",
        "    acc = metric(\n",
        "        outputs.softmax(dim=-1),\n",
        "        labels.argmax(dim=-1)\n",
        "    )\n",
        "\n",
        "# Calculate accuracy over the whole epoch\n",
        "acc = metric.compute()\n",
        "# Reset the metric for the next epoch\n",
        "metric.reset()"
      ]
    },
    {
      "cell_type": "markdown",
      "id": "6151bf81-e307-44ab-90b2-4b67eafffcaa",
      "metadata": {
        "id": "6151bf81-e307-44ab-90b2-4b67eafffcaa"
      },
      "source": [
        "### Overfitting"
      ]
    },
    {
      "cell_type": "code",
      "execution_count": null,
      "id": "c7eaba63-f6ca-4840-b63e-12d11be90bdc",
      "metadata": {
        "id": "c7eaba63-f6ca-4840-b63e-12d11be90bdc",
        "outputId": "ee57466f-b13a-4d23-909e-89ef8b796482"
      },
      "outputs": [
        {
          "name": "stdout",
          "output_type": "stream",
          "text": [
            "tensor([[0.0000, 0.0000, 0.0000, 0.0626]], device='cuda:0',\n",
            "       grad_fn=<NativeDropoutBackward0>)\n"
          ]
        }
      ],
      "source": [
        "import torch\n",
        "\n",
        "model = torch.nn.Sequential(\n",
        "    torch.nn.Linear(in_features=8, out_features=4),\n",
        "    torch.nn.ReLU(),\n",
        "    torch.nn.Dropout(p=0.5)\n",
        ")\n",
        "features = torch.randn(size=(1, 8))\n",
        "\n",
        "if torch.cuda.is_available():\n",
        "    model = model.cuda()\n",
        "    features = features.cuda()\n",
        "\n",
        "print(model(features))\n",
        "\n",
        "optimizer = torch.optim.SGD(\n",
        "    params=model.parameters(),\n",
        "    lr=1e-3, weight_decay=1e-4)"
      ]
    },
    {
      "cell_type": "code",
      "execution_count": null,
      "id": "fd2ad054-de02-4754-ba77-b6697b528d92",
      "metadata": {
        "id": "fd2ad054-de02-4754-ba77-b6697b528d92"
      },
      "outputs": [],
      "source": [
        "import torch\n",
        "\n",
        "# Create a small neural network, set the dropout probability to 0.8\n",
        "model = torch.nn.Sequential(\n",
        "    torch.nn.Linear(in_features=3072, out_features=16),\n",
        "    torch.nn.ReLU(),\n",
        "    torch.nn.Dropout(p=0.8))\n",
        ")\n",
        "\n",
        "if torch.cuda.is_available():\n",
        "    model = model.cuda()\n",
        "    input_tensor = input_tensor.cuda()\n",
        "\n",
        "model(input_tensor)"
      ]
    },
    {
      "cell_type": "markdown",
      "id": "e8bf0d67-7330-4723-a002-9e12eae635d3",
      "metadata": {
        "id": "e8bf0d67-7330-4723-a002-9e12eae635d3"
      },
      "source": [
        "### Hyperparameter search"
      ]
    },
    {
      "cell_type": "code",
      "execution_count": null,
      "id": "d17a8c6a-3841-4ab0-8887-3902f3d0a32f",
      "metadata": {
        "id": "d17a8c6a-3841-4ab0-8887-3902f3d0a32f"
      },
      "outputs": [],
      "source": [
        "import numpy as np\n",
        "import torch\n",
        "\n",
        "if torch.cuda.is_available():\n",
        "    model = model.cuda()\n",
        "\n",
        "criterion = torch.nn.CrossEntropyLoss()\n",
        "values = []\n",
        "for idx in range(10):\n",
        "    # Randomly sample a learning rate factor between 0.01 and 0.0001\n",
        "    factor = np.random.uniform(2, 4)\n",
        "    lr = 10 ** -factor\n",
        "    # Randomly sample a momentum between 0.85 and 0.99\n",
        "    momentum = np.random.uniform(0.85, 0.99)\n",
        "    values.append((lr, momentum))\n",
        "\n",
        "optimizer = torch.optim.SGD(\n",
        "    params=model.parameters(),\n",
        "    lr=1e-3, weight_decay=1e-4\n",
        ")\n",
        "\n",
        "features, labels = next(iter(trainloader))\n",
        "for i in range(1e3):\n",
        "    outputs = model(features)\n",
        "    loss = criterion(outputs, labels)\n",
        "    loss.backward()\n",
        "    optimizer.step()"
      ]
    }
  ],
  "metadata": {
    "kernelspec": {
      "display_name": "venv",
      "language": "python",
      "name": "venv"
    },
    "language_info": {
      "codemirror_mode": {
        "name": "ipython",
        "version": 3
      },
      "file_extension": ".py",
      "mimetype": "text/x-python",
      "name": "python",
      "nbconvert_exporter": "python",
      "pygments_lexer": "ipython3",
      "version": "3.11.0rc1"
    },
    "colab": {
      "provenance": [],
      "include_colab_link": true
    }
  },
  "nbformat": 4,
  "nbformat_minor": 5
}