{
 "cells": [
  {
   "cell_type": "markdown",
   "id": "112ff025",
   "metadata": {
    "colab_type": "text",
    "id": "view-in-github"
   },
   "source": [
    "<a href=\"https://colab.research.google.com/github/MengOonLee/Deep_learning/blob/master/PyTorch/IntroDL.ipynb\" target=\"_parent\"><img src=\"https://colab.research.google.com/assets/colab-badge.svg\" alt=\"Open In Colab\"/></a>"
   ]
  },
  {
   "cell_type": "markdown",
   "id": "20044f8b-20c3-4ae0-8968-ecc6f2199a11",
   "metadata": {
    "id": "20044f8b-20c3-4ae0-8968-ecc6f2199a11"
   },
   "source": [
    "# Introduction to Deep Learning with PyTorch"
   ]
  },
  {
   "cell_type": "markdown",
   "id": "a1aadb5b-542f-4009-a873-0179523b723e",
   "metadata": {
    "id": "a1aadb5b-542f-4009-a873-0179523b723e"
   },
   "source": [
    "## Introduction to PyTorch"
   ]
  },
  {
   "cell_type": "markdown",
   "id": "c282c750-e072-4e70-80ec-47e501dbf49c",
   "metadata": {
    "id": "c282c750-e072-4e70-80ec-47e501dbf49c"
   },
   "source": [
    "### Tensors"
   ]
  },
  {
   "cell_type": "code",
   "execution_count": 2,
   "id": "32adda0c-2e92-484a-9bc1-7e2c15a268c3",
   "metadata": {
    "colab": {
     "base_uri": "https://localhost:8080/"
    },
    "id": "32adda0c-2e92-484a-9bc1-7e2c15a268c3",
    "outputId": "3669e205-0749-4b6a-f718-65eb8213bb20"
   },
   "outputs": [
    {
     "name": "stdout",
     "output_type": "stream",
     "text": [
      "Tensor shape: torch.Size([2, 3])\n",
      "Tensor dtype: torch.int32\n",
      "Tensor device: cuda:0\n",
      "tensor([[ 1,  1,  1],\n",
      "        [ 4,  7, 28],\n",
      "        [22, 17, 46]], device='cuda:0', dtype=torch.int32)\n"
     ]
    }
   ],
   "source": [
    "import numpy as np\n",
    "np.random.seed(seed=42)\n",
    "import torch\n",
    "torch.manual_seed(seed=42)\n",
    "\n",
    "# Create a tensor from numpy array\n",
    "array = np.array([\n",
    "    [1, 2, 3],\n",
    "    [4, 5, 6]\n",
    "], dtype=np.int32)\n",
    "tensor = torch.tensor(array)\n",
    "if torch.cuda.is_available():\n",
    "    tensor = tensor.cuda()\n",
    "\n",
    "# Display the tensor shape, data type, device\n",
    "print(\"Tensor shape:\", tensor.shape)\n",
    "print(\"Tensor dtype:\", tensor.dtype)\n",
    "print(\"Tensor device:\", tensor.device)\n",
    "\n",
    "# Create two tensors from the arrays\n",
    "array_a = np.array([\n",
    "    [1, 1, 1],\n",
    "    [2, 3, 4],\n",
    "    [4, 5, 6]\n",
    "], dtype=np.int32)\n",
    "array_b = np.array([\n",
    "    [7, 5, 4],\n",
    "    [2, 2, 8],\n",
    "    [6, 3, 8]\n",
    "], dtype=np.int32)\n",
    "tensor_a = torch.tensor(array_a)\n",
    "tensor_b = torch.tensor(array_b)\n",
    "if torch.cuda.is_available():\n",
    "    tensor_a = tensor_a.cuda()\n",
    "    tensor_b = tensor_b.cuda()\n",
    "\n",
    "# Subtract tensor_b from tensor_a\n",
    "tensor_c = tensor_a - tensor_b\n",
    "# Multiply each element of tensor_a with each element of tensor_b\n",
    "tensor_d = tensor_a * tensor_b\n",
    "# Add tensor_c with tensor_d\n",
    "tensor_e = tensor_c + tensor_d\n",
    "print(tensor_e)"
   ]
  },
  {
   "cell_type": "markdown",
   "id": "110ff913-f061-475c-8266-81a0ec00ba7f",
   "metadata": {
    "id": "110ff913-f061-475c-8266-81a0ec00ba7f"
   },
   "source": [
    "### Neural network"
   ]
  },
  {
   "cell_type": "code",
   "execution_count": 2,
   "id": "65302eef-2cc6-48d8-a1d7-0ae42e081f1a",
   "metadata": {
    "colab": {
     "base_uri": "https://localhost:8080/"
    },
    "id": "65302eef-2cc6-48d8-a1d7-0ae42e081f1a",
    "outputId": "7822e754-6cc8-4c21-c6d1-010a63f4821e"
   },
   "outputs": [
    {
     "name": "stdout",
     "output_type": "stream",
     "text": [
      "Weight: Parameter containing:\n",
      "tensor([[-0.1103, -0.1057,  0.1378, -0.1948,  0.0273,  0.1975,  0.0383,  0.0608,\n",
      "         -0.1302, -0.0031,  0.0123,  0.0549,  0.0869,  0.1943, -0.1707,  0.0067,\n",
      "         -0.1117, -0.1769, -0.0179, -0.1968],\n",
      "        [ 0.1561,  0.0259, -0.1205,  0.1169, -0.2116, -0.0865, -0.0436, -0.1900,\n",
      "         -0.1422, -0.0365,  0.1697,  0.2159,  0.1423, -0.1335, -0.1463,  0.1951,\n",
      "          0.0791,  0.0059,  0.0303, -0.1797],\n",
      "        [-0.0747,  0.2152, -0.0551, -0.0112, -0.1857, -0.1251, -0.0046, -0.1389,\n",
      "         -0.0277,  0.0910, -0.2187,  0.0664, -0.1479, -0.1091,  0.0858,  0.1778,\n",
      "         -0.0611, -0.0918, -0.2022, -0.1153],\n",
      "        [-0.1958, -0.0512,  0.0456, -0.2095,  0.1952,  0.1403, -0.2189, -0.1068,\n",
      "          0.0729, -0.0459, -0.0244, -0.1010,  0.1796, -0.1250,  0.1854,  0.0144,\n",
      "          0.0449,  0.1744, -0.0368, -0.1273],\n",
      "        [-0.0362,  0.1814, -0.1659,  0.0508, -0.2198,  0.1172,  0.0826,  0.0095,\n",
      "          0.0960,  0.0003,  0.1237, -0.1770, -0.0328,  0.0992,  0.2227,  0.1139,\n",
      "         -0.1626,  0.1720, -0.0499, -0.0477]], requires_grad=True)\n",
      "Bias: Parameter containing:\n",
      "tensor([-0.2032, -0.0352,  0.1582,  0.0312, -0.1302], requires_grad=True)\n",
      "Output: tensor([[-0.5441,  0.2479,  0.2832, -0.2926, -0.3359]],\n",
      "       grad_fn=<AddmmBackward0>)\n"
     ]
    }
   ],
   "source": [
    "import numpy as np\n",
    "np.random.seed(seed=42)\n",
    "import torch\n",
    "torch.manual_seed(seed=42)\n",
    "\n",
    "# Create input tensor\n",
    "input = np.array([\n",
    "    [-0.0014, 0.4038, 1.0305, 0.7521, 0.7489, -0.3968, 0.0113, -1.3844, 0.8705, -0.9743]\n",
    "], dtype=np.float32)\n",
    "input = torch.tensor(input)\n",
    "\n",
    "# Implement a small neural network with three linear layers\n",
    "model = torch.nn.Sequential(\n",
    "    torch.nn.Linear(in_features=10, out_features=18),\n",
    "    torch.nn.Linear(in_features=18, out_features=20),\n",
    "    torch.nn.Linear(in_features=20, out_features=5)\n",
    ")\n",
    "if torch.cuda.is_available():\n",
    "    input = input.cuda()\n",
    "    model = model.cuda()\n",
    "\n",
    "print(\"Weight:\", model[2].weight)\n",
    "print(\"Bias:\", model[2].bias)\n",
    "\n",
    "# Pass input_tensor to model to obtain output\n",
    "output = model(input)\n",
    "print(\"Output:\", output)"
   ]
  },
  {
   "cell_type": "markdown",
   "id": "7e9aeb5d-a316-40d3-823f-b47979713f40",
   "metadata": {
    "id": "7e9aeb5d-a316-40d3-823f-b47979713f40"
   },
   "source": [
    "## Training Neural Network"
   ]
  },
  {
   "cell_type": "markdown",
   "id": "73816640-b445-41c0-acc7-c576c92c45d6",
   "metadata": {
    "id": "73816640-b445-41c0-acc7-c576c92c45d6"
   },
   "source": [
    "### Activation functions"
   ]
  },
  {
   "cell_type": "code",
   "execution_count": null,
   "id": "96081c7c-7f63-4a7a-9b38-0acbc1fd64e8",
   "metadata": {
    "id": "96081c7c-7f63-4a7a-9b38-0acbc1fd64e8",
    "outputId": "e49db843-3848-40e0-b7c6-6a42381bd75c"
   },
   "outputs": [
    {
     "name": "stdout",
     "output_type": "stream",
     "text": [
      "Probabilities shape: torch.Size([5, 3])\n",
      "Probabilities: tensor([[0.2277, 0.1865, 0.5858],\n",
      "        [0.4008, 0.3053, 0.2938],\n",
      "        [0.3929, 0.2855, 0.3216],\n",
      "        [0.3409, 0.2591, 0.4000],\n",
      "        [0.2445, 0.2576, 0.4979]], device='cuda:0', grad_fn=<SoftmaxBackward0>)\n"
     ]
    }
   ],
   "source": [
    "import numpy as np\n",
    "np.random.seed(seed=42)\n",
    "import torch\n",
    "torch.manual_seed(seed=42)\n",
    "\n",
    "# Create input data of shape 5x6\n",
    "input = np.array([\n",
    "    [-0.4421, 1.5207, 2.0607, -0.3647, 0.4691, 0.0946],\n",
    "    [-0.9155, -0.0475, -1.3645, 0.6336, -0.19520, -0.3398],\n",
    "    [0.7406, 1.6763, -0.8511, 0.2432, 0.1123, -0.0633],\n",
    "    [-1.6630, -0.0718, -0.1285, 0.5396, -0.0288, -0.8622],\n",
    "    [-0.7413, 1.7920, -0.0883, -0.6685, 0.4745, -0.4245]\n",
    "], dtype=np.float32)\n",
    "input = torch.tensor(input)\n",
    "\n",
    "# Specify model has three classes\n",
    "n_classes = 3\n",
    "# Implement a small neural network for multiclass classification model\n",
    "model = torch.nn.Sequential(\n",
    "    torch.nn.Linear(in_features=6, out_features=4), # First linear layer\n",
    "    torch.nn.Linear(in_features=4, out_features=n_classes), # Second linear layer\n",
    "    # Apply softmax activation on the score tensor along the last dimension\n",
    "    torch.nn.Softmax(dim=-1)\n",
    ")\n",
    "if torch.cuda.is_available():\n",
    "    input = input.cuda()\n",
    "    model = model.cuda()\n",
    "\n",
    "# Pass input data through model\n",
    "probabilities = model(input)\n",
    "# Return probabilities\n",
    "print(\"Probabilities shape:\", probabilities.shape)\n",
    "print(\"Probabilities:\", probabilities)"
   ]
  },
  {
   "cell_type": "markdown",
   "id": "2890370c-2061-486f-b16f-95bd6f5eb840",
   "metadata": {
    "id": "2890370c-2061-486f-b16f-95bd6f5eb840"
   },
   "source": [
    "### Loss functions"
   ]
  },
  {
   "cell_type": "code",
   "execution_count": null,
   "id": "8f139227-be34-4a73-9210-18d825c3c378",
   "metadata": {
    "id": "8f139227-be34-4a73-9210-18d825c3c378",
    "outputId": "4964b877-ec72-45cd-c31b-b528755ab882"
   },
   "outputs": [
    {
     "name": "stdout",
     "output_type": "stream",
     "text": [
      "One hot encoding for 2nd class: tensor([[0, 0, 1, 0]], device='cuda:0')\n",
      "Loss: tensor(8.0619, device='cuda:0')\n"
     ]
    }
   ],
   "source": [
    "import numpy as np\n",
    "np.random.seed(seed=42)\n",
    "import torch\n",
    "torch.manual_seed(seed=42)\n",
    "\n",
    "y = torch.tensor([2])\n",
    "scores = np.array([\n",
    "    [0.1, 6.0, -2.0, 3.2]\n",
    "], dtype=np.float32)\n",
    "scores = torch.tensor(scores)\n",
    "if torch.cuda.is_available():\n",
    "    y = y.cuda()\n",
    "    scores = scores.cuda()\n",
    "\n",
    "# Create a one-hot encoded vector of the label y\n",
    "one_hot_target = torch.nn.functional.one_hot(\n",
    "    input=y, num_classes=scores.shape[1])\n",
    "print(\"One hot encoding for 2nd class:\", one_hot_target)\n",
    "\n",
    "# Create the cross entropy loss function\n",
    "criterion = torch.nn.CrossEntropyLoss()\n",
    "\n",
    "# Calculate the cross entropy loss\n",
    "loss = criterion(input=scores, target=one_hot_target.float())\n",
    "print(\"Loss:\", loss)"
   ]
  },
  {
   "cell_type": "markdown",
   "id": "ebefaffb-0b55-4e93-8df0-e715366c609b",
   "metadata": {
    "id": "ebefaffb-0b55-4e93-8df0-e715366c609b"
   },
   "source": [
    "### Update parameters"
   ]
  },
  {
   "cell_type": "code",
   "execution_count": null,
   "id": "4349792c-6966-4336-8f77-516ba14618ce",
   "metadata": {
    "id": "4349792c-6966-4336-8f77-516ba14618ce"
   },
   "outputs": [],
   "source": [
    "import torch\n",
    "torch.manual_seed(seed=42)\n",
    "\n",
    "# Create the model and run a forward pass\n",
    "model = torch.nn.Sequential(\n",
    "    torch.nn.Linear(in_features=16, out_features=8),\n",
    "    torch.nn.Linear(in_features=8, out_features=4),\n",
    "    torch.nn.Linear(in_features=4, out_features=2)\n",
    ")\n",
    "if torch.cuda.is_available():\n",
    "    sample = sample.cuda()\n",
    "    model = model.cuda()\n",
    "\n",
    "pred = model(sample)\n",
    "# Calculate the loss and compute the gradients\n",
    "criterion = torch.nn.CrossEntropyLoss()\n",
    "# Calculate the loss\n",
    "loss = criterion(input=pred, target=target)\n",
    "# Compute the gradients of the loss\n",
    "loss.backward()\n",
    "\n",
    "# Learning rate is typically small\n",
    "lr = 0.001\n",
    "# Update the weights of the first linear layer\n",
    "weight = model[0].weight\n",
    "weight_grad = model[0].weight.grad\n",
    "weight = weight - lr * weight_grad\n",
    "# Update the biases of the first linear layer\n",
    "bias = model[0].bias\n",
    "bias_grad = model[0].bias.grad\n",
    "bias = bias - lr * bias_grad\n",
    "\n",
    "# Create the optimizer\n",
    "optimizer = torch.optim.SGD(\n",
    "    params=model.parameters(), lr=0.001\n",
    ")\n",
    "# Update the model's parameters using the optimizer\n",
    "optimizer.step()"
   ]
  },
  {
   "cell_type": "markdown",
   "id": "4ce0f47f-5bfd-4412-8154-49204de4bd5b",
   "metadata": {
    "id": "4ce0f47f-5bfd-4412-8154-49204de4bd5b"
   },
   "source": [
    "### Training loop"
   ]
  },
  {
   "cell_type": "code",
   "execution_count": null,
   "id": "1f7933c8-c0df-4380-89e4-c77104b82303",
   "metadata": {
    "id": "1f7933c8-c0df-4380-89e4-c77104b82303"
   },
   "outputs": [],
   "source": [
    "import torch\n",
    "torch.manual_seed(seed=42)\n",
    "\n",
    "# Create the dataset and the dataloader\n",
    "dataset = torch.utils.data.TensorDataset(\n",
    "    torch.tensor(features).float(), torch.tensor(target).float()\n",
    ")\n",
    "dataloader = torch.utils.data.DataLoader(\n",
    "    dataset=dataset, batch_size=4, shuffle=True\n",
    ")\n",
    "# Create the model\n",
    "model = torch.nn.Sequential(\n",
    "    torch.nn.Linear(in_features=4, out_features=2),\n",
    "    torch.nn.Linear(in_features=2, out_features=1)\n",
    ")\n",
    "if torch.cuda.is_available():\n",
    "    model = model.cuda()\n",
    "\n",
    "# Create the loss and optimizer\n",
    "criterion = torch.nn.MSELoss()\n",
    "optimizer = torch.optim.SGD(\n",
    "    params=model.parameters(), lr=0.001\n",
    ")\n",
    "# Loop over the number of epochs and then the dataloader\n",
    "for epoch in range(num_epochs):\n",
    "    for feature, target in dataloader:\n",
    "        # Set the gradients to zero\n",
    "        optimizer.zero_grad()\n",
    "        # Get feature and target from the dataloader\n",
    "        if torch.cuda.is_available():\n",
    "            feature = feature.cuda()\n",
    "            target = target.cuda()\n",
    "        # Run a forward pass\n",
    "        pred = model(feature)\n",
    "        # Compute loss and gradients\n",
    "        loss = criterion(input=pred, target=target)\n",
    "        loss.backward()\n",
    "        # Update the parameters\n",
    "        optimizer.step()"
   ]
  },
  {
   "cell_type": "markdown",
   "id": "474c1d34-b5d4-4eac-9089-b6697d3e7f6a",
   "metadata": {
    "id": "474c1d34-b5d4-4eac-9089-b6697d3e7f6a"
   },
   "source": [
    "## Hyperparameters"
   ]
  },
  {
   "cell_type": "markdown",
   "id": "0ab6ed75-8d2e-41a7-8eb0-3e1112bc5d03",
   "metadata": {
    "id": "0ab6ed75-8d2e-41a7-8eb0-3e1112bc5d03"
   },
   "source": [
    "### Activation functions"
   ]
  },
  {
   "cell_type": "code",
   "execution_count": null,
   "id": "974f0b99-f8e3-46cf-8fe4-ee47c87b2a36",
   "metadata": {
    "id": "974f0b99-f8e3-46cf-8fe4-ee47c87b2a36",
    "outputId": "123f31fe-6cc3-4d4b-fc85-7def1143d068"
   },
   "outputs": [
    {
     "name": "stdout",
     "output_type": "stream",
     "text": [
      "Gradient: tensor(0.0500)\n"
     ]
    }
   ],
   "source": [
    "import torch\n",
    "torch.manual_seed(seed=42)\n",
    "\n",
    "# Apply leaky ReLU function on x, and calculate gradients\n",
    "x = torch.tensor(-3.0, dtype=torch.float32,\n",
    "    requires_grad=True)\n",
    "# Create a leakly ReLU function with PyTorch\n",
    "leaky_relu = torch.nn.LeakyReLU(\n",
    "    negative_slope=0.05)\n",
    "\n",
    "y = leaky_relu(x)\n",
    "y.backward()\n",
    "# Print the gradient of the leaky ReLU function for x\n",
    "print(\"Gradient:\", x.grad)"
   ]
  },
  {
   "cell_type": "markdown",
   "id": "ba3c855e-33cb-462b-9781-80158966dbd2",
   "metadata": {
    "id": "ba3c855e-33cb-462b-9781-80158966dbd2"
   },
   "source": [
    "### Number of parameters"
   ]
  },
  {
   "cell_type": "code",
   "execution_count": null,
   "id": "91d4735f-3f71-4a76-852d-a527343729f5",
   "metadata": {
    "id": "91d4735f-3f71-4a76-852d-a527343729f5",
    "outputId": "1761d7db-2173-4452-b9d8-b91d474af035"
   },
   "outputs": [
    {
     "name": "stdout",
     "output_type": "stream",
     "text": [
      "Total parameters: 164\n",
      "Output: tensor([[-0.0624, -0.5327]], device='cuda:0', grad_fn=<AddmmBackward0>)\n"
     ]
    }
   ],
   "source": [
    "import numpy as np\n",
    "np.random.seed(seed=42)\n",
    "import torch\n",
    "torch.manual_seed(seed=42)\n",
    "\n",
    "def calculate_capacity(model):\n",
    "    total = 0\n",
    "    # Calculate the number of parameters in the model\n",
    "    for p in model.parameters():\n",
    "        total += p.numel()\n",
    "    return total\n",
    "\n",
    "input = np.array([\n",
    "    [3, 4, 6, 2, 3, 6, 8, 9]\n",
    "], dtype=np.float32)\n",
    "input = torch.tensor(input)\n",
    "# Create a neural network\n",
    "n_features = 8\n",
    "n_classes = 2\n",
    "model = torch.nn.Sequential(\n",
    "    torch.nn.Linear(in_features=n_features, out_features=8),\n",
    "    torch.nn.Linear(in_features=8, out_features=6),\n",
    "    torch.nn.Linear(in_features=6, out_features=4),\n",
    "    torch.nn.Linear(in_features=4, out_features=n_classes)\n",
    ")\n",
    "if torch.cuda.is_available():\n",
    "    input = input.cuda()\n",
    "    model = model.cuda()\n",
    "\n",
    "print(\"Total parameters:\", calculate_capacity(model))\n",
    "\n",
    "output = model(input)\n",
    "print(\"Output:\", output)"
   ]
  },
  {
   "cell_type": "markdown",
   "id": "ab56c207-6808-40c1-ae4e-118401a7915e",
   "metadata": {
    "id": "ab56c207-6808-40c1-ae4e-118401a7915e"
   },
   "source": [
    "### Layer initialization & transfer learning"
   ]
  },
  {
   "cell_type": "code",
   "execution_count": 42,
   "id": "6148bc98-1fd3-4304-bbfe-ee0008f83cfe",
   "metadata": {
    "colab": {
     "base_uri": "https://localhost:8080/"
    },
    "id": "6148bc98-1fd3-4304-bbfe-ee0008f83cfe",
    "outputId": "912d0228-794d-46e6-d962-a68b920be27d"
   },
   "outputs": [
    {
     "name": "stdout",
     "output_type": "stream",
     "text": [
      "Model layer1 min weight: tensor(2.6405e-05, device='cuda:0')\n",
      "Model layer1 max weight: tensor(0.9999, device='cuda:0')\n"
     ]
    }
   ],
   "source": [
    "import torch\n",
    "torch.manual_seed(seed=42)\n",
    "\n",
    "model = torch.nn.Sequential(\n",
    "    torch.nn.Linear(in_features=64, out_features=128),\n",
    "    torch.nn.Linear(in_features=128, out_features=256)\n",
    ")\n",
    "# Use uniform initialization for layer0 and layer1 weights\n",
    "torch.nn.init.uniform_(model[0].weight)\n",
    "torch.nn.init.uniform_(model[1].weight)\n",
    "\n",
    "if torch.cuda.is_available():\n",
    "    model = model.cuda()\n",
    "\n",
    "for name, param in model.named_parameters():\n",
    "    # Check if the parameters belong to the first layer\n",
    "    if name=='0.weight' or name=='0.bias':\n",
    "        # Freeze the parameters\n",
    "        param.requires_grad = False\n",
    "    # Check if the parameters belong to the second layer\n",
    "    if name=='1.weight' or name=='1.bias':\n",
    "        # Freeze the parameters\n",
    "        param.requires_grad = False\n",
    "\n",
    "torch.save(obj=model, f='model.pth')\n",
    "model = torch.load(f='model.pth')\n",
    "print(\"Model layer1 min weight:\", model[1].weight.min())\n",
    "print(\"Model layer1 max weight:\", model[1].weight.max())"
   ]
  },
  {
   "cell_type": "markdown",
   "id": "4936cd97-d151-40ce-93e9-a8bdf6fe1b96",
   "metadata": {
    "id": "4936cd97-d151-40ce-93e9-a8bdf6fe1b96"
   },
   "source": [
    "## Evaluating Models"
   ]
  },
  {
   "cell_type": "markdown",
   "id": "0e682f87-c6cc-4572-8760-42d3423fbb5c",
   "metadata": {
    "id": "0e682f87-c6cc-4572-8760-42d3423fbb5c"
   },
   "source": [
    "### TensorDataset"
   ]
  },
  {
   "cell_type": "code",
   "execution_count": 1,
   "id": "236561da-c14a-46dc-be36-927f45e102b0",
   "metadata": {
    "colab": {
     "base_uri": "https://localhost:8080/",
     "height": 281
    },
    "id": "236561da-c14a-46dc-be36-927f45e102b0",
    "outputId": "18254f7e-5838-4e97-990b-77bf325180d6"
   },
   "outputs": [
    {
     "name": "stdout",
     "output_type": "stream",
     "text": [
      "Dataset: (tensor([0.3224, 0.6560, 0.5887, 0.4714], device='cuda:0'), tensor([1.], device='cuda:0'))\n",
      "X shape: torch.Size([11, 4]) \n",
      "y shape: torch.Size([11, 1])\n"
     ]
    },
    {
     "data": {
      "image/png": "[encoded data removed]",
      "text/plain": [
       "<Figure size 1500x500 with 2 Axes>"
      ]
     },
     "metadata": {},
     "output_type": "display_data"
    }
   ],
   "source": [
    "import os\n",
    "import numpy as np\n",
    "np.random.seed(seed=42)\n",
    "import pandas as pd\n",
    "from sklearn import metrics\n",
    "import torch\n",
    "torch.manual_seed(seed=42)\n",
    "%matplotlib Inline\n",
    "import matplotlib.pyplot as plt\n",
    "import seaborn as sns\n",
    "\n",
    "os.makedirs('data', exist_ok=True)\n",
    "df = pd.read_csv('./data/water_potability.csv')\n",
    "# Define input features\n",
    "features = df[['ph', 'Sulfate', 'Conductivity', 'Organic_carbon']]\n",
    "features = np.array(features, dtype=np.float32)\n",
    "# Define target features (ground truth)\n",
    "target = df['Potability']\n",
    "target = np.array(target, dtype=np.float32)\n",
    "# Load the different columns into two PyTorch tensors\n",
    "features = torch.tensor(features)\n",
    "target = torch.tensor(target).view(-1, 1)\n",
    "if torch.cuda.is_available():\n",
    "    features = features.cuda()\n",
    "    target = target.cuda()\n",
    "# Instantiate dataset class\n",
    "dataset = torch.utils.data.TensorDataset(features, target)\n",
    "print(\"Dataset:\", dataset[-1])\n",
    "\n",
    "# Create a dataloader using the above dataset\n",
    "indices = np.arange(target.shape[0])\n",
    "np.random.shuffle(indices)\n",
    "trainloader = torch.utils.data.DataLoader(\n",
    "    dataset=dataset, batch_size=64, shuffle=False,\n",
    "    sampler=torch.utils.data.SubsetRandomSampler(indices=indices[:2000])\n",
    ")\n",
    "validloader = torch.utils.data.DataLoader(\n",
    "    dataset=dataset, batch_size=64, shuffle=False,\n",
    "    sampler=torch.utils.data.SubsetRandomSampler(indices=indices[2000:])\n",
    ")\n",
    "x, y = next(iter(validloader))\n",
    "print(\"X shape:\", x.shape, \"\\ny shape:\", y.shape)\n",
    "\n",
    "# Create a small neural network, set the dropout probability to 0.3\n",
    "model = torch.nn.Sequential(\n",
    "    torch.nn.Linear(in_features=4, out_features=2),\n",
    "    torch.nn.ReLU(),\n",
    "    torch.nn.Dropout(p=0.3),\n",
    "    torch.nn.Linear(in_features=2, out_features=1),\n",
    "    torch.nn.Sigmoid()\n",
    ")\n",
    "criterion = torch.nn.BCELoss()\n",
    "optimizer = torch.optim.SGD(params=model.parameters(),\n",
    "    lr=1e-3, weight_decay=1e-4)\n",
    "if torch.cuda.is_available():\n",
    "    model = model.cuda()\n",
    "\n",
    "history = {\n",
    "    'train_loss':[],\n",
    "    'train_acc':[],\n",
    "    'valid_loss':[],\n",
    "    'valid_acc':[]\n",
    "}\n",
    "for epoch in range(100):\n",
    "    train_loss, train_acc = 0.0, 0.0\n",
    "    for x, y in trainloader:\n",
    "        # Run the forward pass\n",
    "        optimizer.zero_grad()\n",
    "        if torch.cuda.is_available():\n",
    "            x = x.cuda()\n",
    "            y = y.cuda()\n",
    "        y_pred = model(x)\n",
    "        # Calculate accuracy over the batch\n",
    "        train_acc += metrics.accuracy_score(\n",
    "            y_true=y.cpu().numpy(),\n",
    "            y_pred=y_pred.softmax(dim=-1).cpu().detach().numpy()\n",
    "        )\n",
    "        # Calculate the loss\n",
    "        loss = criterion(input=y_pred, target=y)\n",
    "        # Calculate the gradients\n",
    "        loss.backward()\n",
    "        optimizer.step()\n",
    "        # Calculate and sum the loss\n",
    "        train_loss += loss.item()\n",
    "    train_loss = train_loss / len(trainloader)\n",
    "    # Calculate accuracy over the whole epoch\n",
    "    train_acc = train_acc / len(trainloader)\n",
    "\n",
    "    valid_loss, valid_acc = 0.0, 0.0\n",
    "    # Set the model in evaluation mode\n",
    "    model.eval()\n",
    "    # Speed up the forward pass\n",
    "    with torch.no_grad():\n",
    "        for x, y in validloader:\n",
    "            if torch.cuda.is_available():\n",
    "                x = x.cuda()\n",
    "                y = y.cuda()\n",
    "            # Run the forward pass\n",
    "            y_pred = model(x)\n",
    "            # Calculate accuracy over the batch\n",
    "            valid_acc += metrics.accuracy_score(\n",
    "                y_true=y.cpu().numpy(),\n",
    "                y_pred=y_pred.softmax(dim=-1).cpu().detach().numpy()\n",
    "            )\n",
    "            # Calculate the loss\n",
    "            loss = criterion(input=y_pred, target=y)\n",
    "            # Sum the current loss to the validation_loss variable\n",
    "            valid_loss += loss.item()\n",
    "    # Calculate the mean loss value\n",
    "    valid_loss = valid_loss / len(validloader)\n",
    "    # Calculate accuracy over the whole epoch\n",
    "    valid_acc = valid_acc / len(validloader)\n",
    "    # Set the model back to training model\n",
    "    model.train()\n",
    "\n",
    "    history['train_loss'].append(train_loss)\n",
    "    history['train_acc'].append(train_acc)\n",
    "    history['valid_loss'].append(valid_loss)\n",
    "    history['valid_acc'].append(valid_acc)\n",
    "\n",
    "df_history = pd.DataFrame(history)\n",
    "fig, axes = plt.subplots(nrows=1, ncols=2, figsize=(15, 5))\n",
    "for ax, m in zip(axes, ['loss', 'acc']):\n",
    "    sns.lineplot(ax=ax, data=df_history, label='train',\n",
    "        x=df_history.index, y=f'train_{m}')\n",
    "    try:\n",
    "        sns.lineplot(ax=ax, data=df_history, label='valid',\n",
    "            x=df_history.index, y=f'valid_{m}')\n",
    "    except Exception:\n",
    "        pass\n",
    "    ax.legend(loc='best')\n",
    "    ax.set_xlabel(xlabel='epoch')\n",
    "    ax.set_ylabel(ylabel=f'{m}')\n",
    "    ax.set_title(label=f'{m} vs. epoch')\n",
    "fig.tight_layout()\n",
    "plt.show()"
   ]
  },
  {
   "cell_type": "markdown",
   "id": "e8bf0d67-7330-4723-a002-9e12eae635d3",
   "metadata": {
    "id": "e8bf0d67-7330-4723-a002-9e12eae635d3"
   },
   "source": [
    "### Hyperparameter search"
   ]
  },
  {
   "cell_type": "code",
   "execution_count": null,
   "id": "d17a8c6a-3841-4ab0-8887-3902f3d0a32f",
   "metadata": {
    "id": "d17a8c6a-3841-4ab0-8887-3902f3d0a32f"
   },
   "outputs": [],
   "source": [
    "import numpy as np\n",
    "np.random.seed(seed=42)\n",
    "import torch\n",
    "torch.manual_seed(seed=42)\n",
    "\n",
    "values = []\n",
    "for idx in range(10):\n",
    "    # Randomly sample a learning rate factor between 0.01 and 0.0001\n",
    "    factor = np.random.uniform(2, 4)\n",
    "    lr = 10 ** -factor\n",
    "    # Randomly sample a momentum between 0.85 and 0.99\n",
    "    momentum = np.random.uniform(0.85, 0.99)\n",
    "    values.append((lr, momentum))"
   ]
  }
 ],
 "metadata": {
  "colab": {
   "include_colab_link": true,
   "provenance": []
  },
  "kernelspec": {
   "display_name": "Python 3 (ipykernel)",
   "language": "python",
   "name": "python3"
  },
  "language_info": {
   "codemirror_mode": {
    "name": "ipython",
    "version": 3
   },
   "file_extension": ".py",
   "mimetype": "text/x-python",
   "name": "python",
   "nbconvert_exporter": "python",
   "pygments_lexer": "ipython3",
   "version": "3.11.0rc1"
  }
 },
 "nbformat": 4,
 "nbformat_minor": 5
}
