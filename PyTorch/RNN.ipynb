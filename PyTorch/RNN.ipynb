{
  "nbformat": 4,
  "nbformat_minor": 0,
  "metadata": {
    "colab": {
      "provenance": [],
      "authorship_tag": "ABX9TyM4xPC3+PHT7D1e1JFsdPIH",
      "include_colab_link": true
    },
    "kernelspec": {
      "name": "python3",
      "display_name": "Python 3"
    },
    "language_info": {
      "name": "python"
    }
  },
  "cells": [
    {
      "cell_type": "markdown",
      "metadata": {
        "id": "view-in-github",
        "colab_type": "text"
      },
      "source": [
        "<a href=\"https://colab.research.google.com/github/MengOonLee/Deep_learning/blob/master/PyTorch/RNN.ipynb\" target=\"_parent\"><img src=\"https://colab.research.google.com/assets/colab-badge.svg\" alt=\"Open In Colab\"/></a>"
      ]
    },
    {
      "cell_type": "markdown",
      "source": [
        "# Recurrent Neural Neetworks"
      ],
      "metadata": {
        "id": "Vst3Gw6kOlgY"
      }
    },
    {
      "cell_type": "markdown",
      "source": [
        "this is a math\n",
        "\n",
        "\\begin{equation} \\label{eq:eq01}\n",
        "y = a x + b \\tag{1}\n",
        "\\end{equation}\n",
        "\n",
        "where \\eqref{eq:eq01}"
      ],
      "metadata": {
        "id": "9bqxJw5wQHuf"
      }
    },
    {
      "cell_type": "code",
      "execution_count": null,
      "metadata": {
        "id": "CNPFNk50LtET"
      },
      "outputs": [],
      "source": []
    },
    {
      "cell_type": "code",
      "source": [],
      "metadata": {
        "id": "Qy5UnjjhOjmR"
      },
      "execution_count": null,
      "outputs": []
    }
  ]
}