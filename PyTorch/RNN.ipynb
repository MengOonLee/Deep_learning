{
  "nbformat": 4,
  "nbformat_minor": 0,
  "metadata": {
    "colab": {
      "provenance": [],
      "authorship_tag": "ABX9TyM3kdxVWZW1wtOniyU9JV6w",
      "include_colab_link": true
    },
    "kernelspec": {
      "name": "python3",
      "display_name": "Python 3"
    },
    "language_info": {
      "name": "python"
    }
  },
  "cells": [
    {
      "cell_type": "markdown",
      "metadata": {
        "id": "view-in-github",
        "colab_type": "text"
      },
      "source": [
        "<a href=\"https://colab.research.google.com/github/MengOonLee/Deep_learning/blob/master/PyTorch/RNN.ipynb\" target=\"_parent\"><img src=\"https://colab.research.google.com/assets/colab-badge.svg\" alt=\"Open In Colab\"/></a>"
      ]
    },
    {
      "cell_type": "markdown",
      "source": [
        "# Recurrent Neural Neetworks"
      ],
      "metadata": {
        "id": "Vst3Gw6kOlgY"
      }
    },
    {
      "cell_type": "markdown",
      "source": [
        "this is a math\n",
        "\n",
        "\\begin{equation}\n",
        " y = a x + b\n",
        " \\label{eq:sample} \\tag{a}\n",
        "\\end{equation}\n",
        "\n",
        "where \\eqref{eq:sample}"
      ],
      "metadata": {
        "id": "9bqxJw5wQHuf"
      }
    },
    {
      "cell_type": "code",
      "execution_count": null,
      "metadata": {
        "id": "CNPFNk50LtET"
      },
      "outputs": [],
      "source": []
    },
    {
      "cell_type": "code",
      "source": [],
      "metadata": {
        "id": "Qy5UnjjhOjmR"
      },
      "execution_count": null,
      "outputs": []
    }
  ]
}