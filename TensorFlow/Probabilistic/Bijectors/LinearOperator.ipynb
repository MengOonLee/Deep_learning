{
  "cells": [
    {
      "cell_type": "markdown",
      "metadata": {
        "id": "view-in-github",
        "colab_type": "text"
      },
      "source": [
        "<a href=\"https://colab.research.google.com/github/MengOonLee/Deep_learning/blob/master/TensorFlow/Probabilistic/Bijectors/LinearOperator.ipynb\" target=\"_parent\"><img src=\"https://colab.research.google.com/assets/colab-badge.svg\" alt=\"Open In Colab\"/></a>"
      ]
    },
    {
      "cell_type": "markdown",
      "metadata": {
        "id": "G_B2e2Wo5dXz"
      },
      "source": [
        "# Scale bijectors and LinearOperator"
      ]
    },
    {
      "cell_type": "markdown",
      "metadata": {
        "id": "1ysaYGkF5dX0"
      },
      "source": [
        "This reading is an introduction to scale bijectors, as well as the `LinearOperator` class, which can be used with them."
      ]
    },
    {
      "cell_type": "code",
      "execution_count": null,
      "metadata": {
        "id": "iQHZ9LZJ5dX1",
        "outputId": "b9900b57-2d9f-4d34-c8c2-8926ce882b3c",
        "colab": {
          "base_uri": "https://localhost:8080/"
        }
      },
      "outputs": [
        {
          "output_type": "stream",
          "name": "stdout",
          "text": [
            "TF version: 2.18.0\n",
            "TFP version: 0.25.0\n"
          ]
        }
      ],
      "source": [
        "import tensorflow as tf\n",
        "import tensorflow_probability as tfp\n",
        "tf.keras.utils.set_random_seed(seed=42)\n",
        "\n",
        "print(\"TF version:\", tf.__version__)\n",
        "print(\"TFP version:\", tfp.__version__)"
      ]
    },
    {
      "cell_type": "markdown",
      "metadata": {
        "id": "wnQc6zQP5dX2"
      },
      "source": [
        "## Introduction\n",
        "\n",
        "You have now seen how bijectors can be used to transform tensors and tensor spaces. Until now, you've only seen this in the scalar case, where the bijector acts on a single value. When the tensors you fed into the bijectors had multiple components, the bijector acted on each component individually by applying batch operations to scalar values. For probability distributions, this corresponds to a scalar event space.\n",
        "\n",
        "However, bijectors can also act on higher-dimensional space. You've seen, for example, the multivariate normal distribution, for which samples are tensors with more than one component. You'll need higher-dimensional bijectors to work with such distributions. In this reading, you'll see how bijectors can be used to generalise scale transformations to higher dimensions. You'll also see the `LinearOperator` class, which you can use to construct highly general scale bijectors. In this reading, you'll walk through the code, and we'll use figure examples to demonstrate these transformations.\n",
        "\n",
        "This reading contains many images, as this allows you to visualise how a space is transformed. For this reason, the examples are limited to two dimensions, since these allow easy plots. However, these ideas generalise naturally to higher dimensions. Let's start by creating a point that is randomly distributed across the unit square $[0, 1] \\times [0, 1]$:"
      ]
    },
    {
      "cell_type": "code",
      "execution_count": null,
      "metadata": {
        "id": "vHuN57pu5dX3",
        "outputId": "4ac55cc4-6cb2-41a1-f9eb-c51e3c291daa",
        "colab": {
          "base_uri": "https://localhost:8080/"
        }
      },
      "outputs": [
        {
          "output_type": "execute_result",
          "data": {
            "text/plain": [
              "<tf.Tensor: shape=(2,), dtype=float32, numpy=array([0.0123955 , 0.01632404], dtype=float32)>"
            ]
          },
          "metadata": {},
          "execution_count": 1
        }
      ],
      "source": [
        "import tensorflow as tf\n",
        "import tensorflow_probability as tfp\n",
        "tf.keras.utils.set_random_seed(seed=42)\n",
        "\n",
        "# Create the base distribution and a single sample\n",
        "\n",
        "uniform = tfp.distributions.Uniform(name='uniform2d', low=[0., 0.], high=[1., 1.])\n",
        "x = uniform.sample()\n",
        "x"
      ]
    },
    {
      "cell_type": "markdown",
      "metadata": {
        "id": "vdINtAGx5dX4"
      },
      "source": [
        "We will be applying linear transformations to this data. To get a feel for how these transformations work, we show ten example sample points, and plot them, as well as the domain of the underlying distribution:\n",
        "\n",
        "![](https://github.com/MengOonLee/Deep_learning/blob/master/TensorFlow/Probabilistic/Bijectors/figures/x.png?raw=1)\n",
        "\n",
        "Each of the ten points is hence represented by a two-dimensional vector. Let $\\mathbf{x} = [x_1, x_2]^T$ be one of these points. Then scale bijectors are linear transformations of $\\mathbf{x}$, which can be represented by a $2 \\times 2$ matrix $B$. The forward bijection to $\\mathbf{y} = [y_1, y_2]^T$ is\n",
        "\n",
        "$$\n",
        "\\mathbf{y}\n",
        "=\n",
        "\\begin{bmatrix}\n",
        "y_1 \\\\ y_2\n",
        "\\end{bmatrix}\n",
        "= B \\mathbf{x}\n",
        "= \\begin{bmatrix}\n",
        "b_{11} & b_{12} \\\\\n",
        "b_{21} & b_{22} \\\\\n",
        "\\end{bmatrix}\n",
        "\\begin{bmatrix}\n",
        "x_1 \\\\ x_2\n",
        "\\end{bmatrix}\n",
        "$$\n",
        "\n",
        "This is important to remember: any two-dimensional scale bijector can be represented by a $2 \\times 2$ matrix. For this reason, we'll sometimes use the term \"matrix\" to refer to the bijector itself. You'll be seeing how these points and domain are transformed under different bijectors  in two dimensions."
      ]
    },
    {
      "cell_type": "markdown",
      "metadata": {
        "id": "D9YG1ozl5dX4"
      },
      "source": [
        "## The `ScaleMatvec` bijectors"
      ]
    },
    {
      "cell_type": "markdown",
      "metadata": {
        "id": "zitTUB3R5dX5"
      },
      "source": [
        "### The `ScaleMatvecDiag` bijector\n",
        "\n",
        "We'll start with a simple scale bijector created using the `ScaleMatvecDiag` class:"
      ]
    },
    {
      "cell_type": "code",
      "execution_count": null,
      "metadata": {
        "id": "ufdGmB935dX5",
        "outputId": "6f2093cb-ec6a-4644-fe82-6ace02b874e4",
        "colab": {
          "base_uri": "https://localhost:8080/"
        }
      },
      "outputs": [
        {
          "output_type": "execute_result",
          "data": {
            "text/plain": [
              "<tfp.bijectors.ScaleMatvecDiag 'scale_matvec_diag' batch_shape=[] forward_min_event_ndims=1 inverse_min_event_ndims=1 dtype_x=float32 dtype_y=float32>"
            ]
          },
          "metadata": {},
          "execution_count": 2
        }
      ],
      "source": [
        "import tensorflow as tf\n",
        "import tensorflow_probability as tfp\n",
        "tf.keras.utils.set_random_seed(seed=42)\n",
        "\n",
        "# Create the ScaleMatvecDiag bijector\n",
        "\n",
        "bijector = tfp.bijectors.ScaleMatvecDiag(scale_diag=[1.5, -0.5])\n",
        "bijector"
      ]
    },
    {
      "cell_type": "markdown",
      "metadata": {
        "id": "Np6S0c6D5dX7"
      },
      "source": [
        "which creates a bijector represented by the diagonal matrix\n",
        "$$ B =\n",
        "\\begin{bmatrix}\n",
        "1.5 & 0 \\\\\n",
        "0 & -0.5 \\\\\n",
        "\\end{bmatrix}.\n",
        "$$\n",
        "\n",
        "We can apply this to the data using `y = bijector(x)` for each of the ten points. This transforms the data as follows:\n",
        "\n",
        "![](https://github.com/MengOonLee/Deep_learning/blob/master/TensorFlow/Probabilistic/Bijectors/figures/diag_1.png?raw=1)\n",
        "\n",
        "You can see what happened here: the first coordinate is multiplied by 1.5 while the second is multipled by -0.5, flipping it through the horizontal axis."
      ]
    },
    {
      "cell_type": "code",
      "execution_count": null,
      "metadata": {
        "id": "mOPha06v5dX8",
        "outputId": "5b1975a7-31dd-45f6-9226-3638efd3ac79",
        "colab": {
          "base_uri": "https://localhost:8080/"
        }
      },
      "outputs": [
        {
          "output_type": "execute_result",
          "data": {
            "text/plain": [
              "<tf.Tensor: shape=(2,), dtype=float32, numpy=array([ 0.01859325, -0.00816202], dtype=float32)>"
            ]
          },
          "metadata": {},
          "execution_count": 3
        }
      ],
      "source": [
        "# Apply the bijector to the sample point\n",
        "\n",
        "bijector.forward(x=x)"
      ]
    },
    {
      "cell_type": "markdown",
      "metadata": {
        "id": "nPJDbGlK5dX8"
      },
      "source": [
        "### The `ScaleMatvecTriL` bijector\n",
        "\n",
        "In the previous example, the bijector matrix was diagonal, which essentially performs an independent scale operation on each of the two dimensions. The domain under the bijection remains rectangular. However, not all scale tarnsformations have to be like this. With a non-diagonal matrix, the domain will transform to a quadrilateral. One way to do this is by using the `tfb.ScaleMatvecTriL` class, which implements a bijection based on a lower-triangular matrix. For example, to implement the lower-triangular matrix\n",
        "$$ B =\n",
        "\\begin{bmatrix}\n",
        "-1 & 0 \\\\\n",
        "-1 & -1 \\\\\n",
        "\\end{bmatrix}\n",
        "$$\n",
        "you can use the `tfb.ScaleMatvecTriL` bijector as follows:"
      ]
    },
    {
      "cell_type": "code",
      "execution_count": null,
      "metadata": {
        "id": "dA3v6zXT5dX9",
        "outputId": "0fd85b65-db15-404d-e0dc-600dae6126ea",
        "colab": {
          "base_uri": "https://localhost:8080/"
        }
      },
      "outputs": [
        {
          "output_type": "execute_result",
          "data": {
            "text/plain": [
              "<tfp.bijectors.ScaleMatvecTriL 'scale_matvec_tril' batch_shape=[] forward_min_event_ndims=1 inverse_min_event_ndims=1 dtype_x=float32 dtype_y=float32>"
            ]
          },
          "metadata": {},
          "execution_count": 4
        }
      ],
      "source": [
        "import tensorflow as tf\n",
        "import tensorflow_probability as tfp\n",
        "tf.keras.utils.set_random_seed(seed=42)\n",
        "\n",
        "# Create the ScaleMatvecTriL bijector\n",
        "\n",
        "bijector = tfp.bijectors.ScaleMatvecTriL(scale_tril=[[-1., 0.], [-1., -1.]])\n",
        "bijector"
      ]
    },
    {
      "cell_type": "code",
      "execution_count": null,
      "metadata": {
        "id": "l-VfAVQE5dX9",
        "outputId": "5e69bc69-6ac8-4030-d5c4-537c14766ea0",
        "colab": {
          "base_uri": "https://localhost:8080/"
        }
      },
      "outputs": [
        {
          "output_type": "execute_result",
          "data": {
            "text/plain": [
              "<tf.Tensor: shape=(2,), dtype=float32, numpy=array([-0.0123955 , -0.02871954], dtype=float32)>"
            ]
          },
          "metadata": {},
          "execution_count": 5
        }
      ],
      "source": [
        "# Apply the bijector to the sample x\n",
        "\n",
        "bijector.forward(x=x)"
      ]
    },
    {
      "cell_type": "markdown",
      "metadata": {
        "id": "7Adt5xVM5dX9"
      },
      "source": [
        "A graphical overview of this change is:\n",
        "\n",
        "![](https://github.com/MengOonLee/Deep_learning/blob/master/TensorFlow/Probabilistic/Bijectors/figures/lower_triangular.png?raw=1)"
      ]
    },
    {
      "cell_type": "markdown",
      "metadata": {
        "id": "tslM4k3Z5dX9"
      },
      "source": [
        "## Inverse and composition\n",
        "\n",
        "Scale transformations always map the point $[0, 0]$ to itself and are only one particular class of bijectors. As you saw before, you can create more complicated bijections by composing one with another. This works just like you would expect. For example, you can compose a scale transformation with a shift to the left (by one unit) as follows:"
      ]
    },
    {
      "cell_type": "code",
      "execution_count": null,
      "metadata": {
        "id": "A9vQB4SC5dX9",
        "outputId": "b153a3b8-c875-49c4-c846-fa49aadf1ddd",
        "colab": {
          "base_uri": "https://localhost:8080/"
        }
      },
      "outputs": [
        {
          "output_type": "execute_result",
          "data": {
            "text/plain": [
              "<tfp.bijectors.Chain 'chain_of_shift_of_scale_matvec_tril' batch_shape=[] forward_min_event_ndims=1 inverse_min_event_ndims=1 dtype_x=float32 dtype_y=float32 bijectors=[<tfp.bijectors.Shift 'shift' batch_shape=[2] forward_min_event_ndims=0 inverse_min_event_ndims=0 dtype_x=float32 dtype_y=float32>, <tfp.bijectors.ScaleMatvecTriL 'scale_matvec_tril' batch_shape=[] forward_min_event_ndims=1 inverse_min_event_ndims=1 dtype_x=float32 dtype_y=float32>]>"
            ]
          },
          "metadata": {},
          "execution_count": 6
        }
      ],
      "source": [
        "import tensorflow as tf\n",
        "import tensorflow_probability as tfp\n",
        "tf.keras.utils.set_random_seed(seed=42)\n",
        "\n",
        "# Create a scale and shift bijector\n",
        "\n",
        "bijector = tfp.bijectors.Chain(bijectors=[\n",
        "    tfp.bijectors.Shift(shift=[-1., 0.]),\n",
        "    tfp.bijectors.ScaleMatvecTriL(scale_tril=[[-1., 0.], [-1., -1.]])\n",
        "])\n",
        "bijector"
      ]
    },
    {
      "cell_type": "code",
      "execution_count": null,
      "metadata": {
        "id": "dC8G1df15dX-",
        "outputId": "7df20d54-9015-4e39-fc01-a3cd8efecc14",
        "colab": {
          "base_uri": "https://localhost:8080/"
        }
      },
      "outputs": [
        {
          "output_type": "execute_result",
          "data": {
            "text/plain": [
              "<tf.Tensor: shape=(2,), dtype=float32, numpy=array([-1.0123955 , -0.02871954], dtype=float32)>"
            ]
          },
          "metadata": {},
          "execution_count": 7
        }
      ],
      "source": [
        "# Apply the bijector to the sample x\n",
        "\n",
        "bijector.forward(x=x)"
      ]
    },
    {
      "cell_type": "markdown",
      "metadata": {
        "id": "3V7VlaLu5dX-"
      },
      "source": [
        "which has the expected result:\n",
        "\n",
        "![](https://github.com/MengOonLee/Deep_learning/blob/master/TensorFlow/Probabilistic/Bijectors/figures/scale_and_shift.png?raw=1)\n",
        "\n",
        "Furthermore, bijectors are always invertible (with just a few special cases, see e.g. [`Absolute Value`](https://www.tensorflow.org/probability/api_docs/python/tfp/bijectors/AbsoluteValue)), and these scale transformations are no exception. For example, running"
      ]
    },
    {
      "cell_type": "code",
      "execution_count": null,
      "metadata": {
        "id": "OUipXgQS5dX-",
        "colab": {
          "base_uri": "https://localhost:8080/"
        },
        "outputId": "151090e8-8bce-41bd-a2bf-0c4b5a6aa385"
      },
      "outputs": [
        {
          "output_type": "execute_result",
          "data": {
            "text/plain": [
              "<tf.Tensor: shape=(2,), dtype=float32, numpy=array([0.0123955 , 0.01632404], dtype=float32)>"
            ]
          },
          "metadata": {},
          "execution_count": 8
        }
      ],
      "source": [
        "import tensorflow as tf\n",
        "import tensorflow_probability as tfp\n",
        "tf.keras.utils.set_random_seed(seed=42)\n",
        "\n",
        "# Apply the inverse transformation to the image of x\n",
        "\n",
        "bijector = tfp.bijectors.ScaleMatvecTriL(scale_tril=[[-1., 0.], [-1., -1.]])\n",
        "y = bijector.inverse(y=bijector.forward(x=x))\n",
        "y"
      ]
    },
    {
      "cell_type": "markdown",
      "metadata": {
        "id": "T3b2W7OE5dX_"
      },
      "source": [
        "recovers `x`:\n",
        "\n",
        "![](https://github.com/MengOonLee/Deep_learning/blob/master/TensorFlow/Probabilistic/Bijectors/figures/inverse.png?raw=1)\n",
        "\n",
        "so that the original and transformed data is the same."
      ]
    },
    {
      "cell_type": "code",
      "execution_count": null,
      "metadata": {
        "id": "OtohQ1Dh5dX_",
        "outputId": "e3e2cf7f-e2d9-4ad2-c6cf-901992fdaba7",
        "colab": {
          "base_uri": "https://localhost:8080/"
        }
      },
      "outputs": [
        {
          "output_type": "execute_result",
          "data": {
            "text/plain": [
              "<tf.Tensor: shape=(), dtype=bool, numpy=True>"
            ]
          },
          "metadata": {},
          "execution_count": 9
        }
      ],
      "source": [
        "import tensorflow as tf\n",
        "tf.keras.utils.set_random_seed(seed=42)\n",
        "\n",
        "# Check that all y and x values are the same\n",
        "\n",
        "tf.math.reduce_all(input_tensor=(y==x))"
      ]
    },
    {
      "cell_type": "markdown",
      "metadata": {
        "id": "htz2NWrp5dX_"
      },
      "source": [
        "## The `LinearOperator` class and `ScaleMatvecLinearOperator` bijector\n",
        "\n",
        "The examples you just saw used the `ScaleMatvecDiag` and `ScaleMatvecTriL` bijectors, whose transformations can be represented by diagonal and lower-triangular matrices respectively. These are convenient since it's easy to check whether such matrices are invertible (a requirement for a bijector). However, this comes at a cost of generality: there are acceptable bijectors whose matrices are not diagonal or lower-triangular. To construct these more general bijectors, you can use the `ScaleMatvecLinearOperator` class, which operates on instances of `tf.linalg.LinearOperator`.\n",
        "\n",
        "The `LinearOperator` is a class that allows the creation and manipulation of linear operators in TensorFlow. It's rare to call the class directly, but its subclasses represent many of the common linear operators. It's programmed in a way to have computational advantages when working with big linear operators, although we won't discuss these here. What matters now is that we can use these linear operators to define bijectors using the `ScaleMatvecLinearOperator` class. Let's see how this works."
      ]
    },
    {
      "cell_type": "markdown",
      "metadata": {
        "id": "IBkHnLIq5dX_"
      },
      "source": [
        "### The `LinearOperatorDiag` class\n",
        "\n",
        "First, let's use this framework to recreate our first bijector, represented by the diagonal matrix\n",
        "\n",
        "$$ B =\n",
        "\\begin{bmatrix}\n",
        "1.5 & 0 \\\\\n",
        "0 & -0.5 \\\\\n",
        "\\end{bmatrix}.\n",
        "$$\n",
        "\n",
        "You can do this using the `ScaleMatvecLinearOperator` as follows. First, we'll create the linear operator that represents the scale transformation using"
      ]
    },
    {
      "cell_type": "code",
      "execution_count": null,
      "metadata": {
        "id": "IIzDvBJ15dX_",
        "colab": {
          "base_uri": "https://localhost:8080/"
        },
        "outputId": "157990a9-cc88-4ec3-9d91-16000f1f4a1a"
      },
      "outputs": [
        {
          "output_type": "execute_result",
          "data": {
            "text/plain": [
              "<tf.Tensor: shape=(2, 2), dtype=float32, numpy=\n",
              "array([[ 1.5,  0. ],\n",
              "       [ 0. , -0.5]], dtype=float32)>"
            ]
          },
          "metadata": {},
          "execution_count": 3
        }
      ],
      "source": [
        "import tensorflow as tf\n",
        "tf.keras.utils.set_random_seed(seed=42)\n",
        "\n",
        "scale = tf.linalg.LinearOperatorDiag(diag=[1.5, -0.5])\n",
        "scale.to_dense()"
      ]
    },
    {
      "cell_type": "markdown",
      "metadata": {
        "id": "MAK6RLr35dYA"
      },
      "source": [
        "where `LinearOperatorDiag` is one of the subclasses of `LinearOperator`. As the name suggests, it implements a diagonal matrix. We then use this to create the bijector using the `tfb.ScaleMatvecLinearOperator`:"
      ]
    },
    {
      "cell_type": "code",
      "execution_count": null,
      "metadata": {
        "id": "t9miRNLb5dYA",
        "colab": {
          "base_uri": "https://localhost:8080/"
        },
        "outputId": "f2bfaf02-0008-4bd1-b154-ca2e518dd60d"
      },
      "outputs": [
        {
          "output_type": "execute_result",
          "data": {
            "text/plain": [
              "<tfp.bijectors.ScaleMatvecLinearOperator 'scale_matvec_linear_operator' batch_shape=[] forward_min_event_ndims=1 inverse_min_event_ndims=1 dtype_x=float32 dtype_y=float32>"
            ]
          },
          "metadata": {},
          "execution_count": 11
        }
      ],
      "source": [
        "import tensorflow as tf\n",
        "import tensorflow_probability as tfp\n",
        "tf.keras.utils.set_random_seed(seed=42)\n",
        "\n",
        "# Create the ScaleMatvecLinearOperator bijector\n",
        "\n",
        "bijector = tfp.bijectors.ScaleMatvecLinearOperator(scale=scale)\n",
        "bijector"
      ]
    },
    {
      "cell_type": "markdown",
      "metadata": {
        "id": "drnbMJkI5dYA"
      },
      "source": [
        "This bijector is the same as the first one above:\n",
        "\n",
        "![](https://github.com/MengOonLee/Deep_learning/blob/master/TensorFlow/Probabilistic/Bijectors/figures/linear_operator_diag.png?raw=1)"
      ]
    },
    {
      "cell_type": "code",
      "execution_count": null,
      "metadata": {
        "id": "F89sEzjA5dYA",
        "outputId": "99fcec53-95d0-4499-e987-84eb4b186f95",
        "colab": {
          "base_uri": "https://localhost:8080/"
        }
      },
      "outputs": [
        {
          "output_type": "execute_result",
          "data": {
            "text/plain": [
              "<tf.Tensor: shape=(2,), dtype=float32, numpy=array([ 0.01859325, -0.00816202], dtype=float32)>"
            ]
          },
          "metadata": {},
          "execution_count": 12
        }
      ],
      "source": [
        "# Apply the bijector to the sample x\n",
        "\n",
        "bijector.forward(x=x)"
      ]
    },
    {
      "cell_type": "markdown",
      "metadata": {
        "id": "3dxfzw5G5dYA"
      },
      "source": [
        "### The `LinearOperatorFullMatrix` class\n",
        "\n",
        "We can also use this framework to create a bijector represented by a custom matrix. Suppose we have the matrix\n",
        "\n",
        "$$ B =\n",
        "\\begin{bmatrix}\n",
        "0.5 & 1.5 \\\\\n",
        "1.5 & 0.5 \\\\\n",
        "\\end{bmatrix}\n",
        "$$\n",
        "\n",
        "which is neither diagonal nor lower-triangular. We can implement a bijector for it using the `ScaleMatvecLinearOperator` class by using another subclass of `LinearOperator`, namely the `LinearOperatorFullMatrix`, as follows:"
      ]
    },
    {
      "cell_type": "code",
      "execution_count": null,
      "metadata": {
        "id": "IagBD0FM5dYB",
        "colab": {
          "base_uri": "https://localhost:8080/"
        },
        "outputId": "37e85809-c7b3-4c22-fb7e-58895a3bec60"
      },
      "outputs": [
        {
          "output_type": "execute_result",
          "data": {
            "text/plain": [
              "<tfp.bijectors.ScaleMatvecLinearOperator 'scale_matvec_linear_operator' batch_shape=[] forward_min_event_ndims=1 inverse_min_event_ndims=1 dtype_x=float32 dtype_y=float32>"
            ]
          },
          "metadata": {},
          "execution_count": 13
        }
      ],
      "source": [
        "import tensorflow as tf\n",
        "import tensorflow_probability as tfp\n",
        "tf.keras.utils.set_random_seed(seed=42)\n",
        "\n",
        "# Create a ScaleMatvecLinearOperator bijector\n",
        "\n",
        "B = [[0.5, 1.5], [1.5, 0.5]]\n",
        "scale = tf.linalg.LinearOperatorFullMatrix(matrix=B)\n",
        "bijector = tfp.bijectors.ScaleMatvecLinearOperator(scale=scale)\n",
        "bijector"
      ]
    },
    {
      "cell_type": "markdown",
      "metadata": {
        "id": "PmXDC6A55dYB"
      },
      "source": [
        "which leads to the following transformation:\n",
        "\n",
        "![](https://github.com/MengOonLee/Deep_learning/blob/master/TensorFlow/Probabilistic/Bijectors/figures/linear_operator_full.png?raw=1)"
      ]
    },
    {
      "cell_type": "code",
      "execution_count": null,
      "metadata": {
        "id": "UHqfVwF-5dYC",
        "outputId": "767f48d5-e416-429d-b865-c9e1c2bc00d6",
        "colab": {
          "base_uri": "https://localhost:8080/"
        }
      },
      "outputs": [
        {
          "output_type": "execute_result",
          "data": {
            "text/plain": [
              "<tf.Tensor: shape=(2,), dtype=float32, numpy=array([0.03068382, 0.02675527], dtype=float32)>"
            ]
          },
          "metadata": {},
          "execution_count": 14
        }
      ],
      "source": [
        "# Apply the bijector to the sample x\n",
        "\n",
        "bijector.forward(x=x)"
      ]
    },
    {
      "cell_type": "markdown",
      "metadata": {
        "id": "_evm0TfO5dYC"
      },
      "source": [
        "### Batch operations and broadcasting\n",
        "\n",
        "As you've seen before, it's important to be very careful with shapes in TensorFlow Probability. That's because there are three possible components to a shape: the event shape (dimensionality of the random variable), sample shape (dimensionality of the samples drawn) and batch shape (multiple distributions can be considered in one object). This subtlety is especially important for bijectors, but can be harnassed to make powerful, and very computationally efficient, transformations of spaces. Let's examine this a little bit in this section.\n",
        "\n",
        "In the previous examples, we applied a bijector to a two-dimensional data point $\\mathbf{x}$ to create a two-dimensional data point $\\mathbf{y}$. This was done using $\\mathbf{y} = B \\mathbf{x}$ where $B$ is the $2 \\times 2$ matrix that represents the scale bijector. This is simply matrix multiplication. To implement this, we created a tensor `x` with `x.shape == [2]` and a bijector using a matrix of shape `B.shape == [2, 2]`. This generalises straightforwardly to higher dimensions: if $\\mathbf{x}$ is $n$-dimensional, the bijection matrix must be of shape $n \\times n$ for some $n>0$. In this case, $\\mathbf{y}$ is $n$-dimensional.\n",
        "\n",
        "But what if you wanted to apply the same bijection to ten $\\mathbf{x}$ values at once? You can then arrange all these samples into a single tensor `x` with `x.shape == [10, 2]` and create a bijector as usual, with a matrix of shape `B.shape == [2, 2]`."
      ]
    },
    {
      "cell_type": "code",
      "execution_count": null,
      "metadata": {
        "id": "Fe_PwAb05dYC",
        "outputId": "8b3482c6-7f44-4d53-fc89-368be6fdddb0",
        "colab": {
          "base_uri": "https://localhost:8080/"
        }
      },
      "outputs": [
        {
          "output_type": "execute_result",
          "data": {
            "text/plain": [
              "TensorShape([10, 2])"
            ]
          },
          "metadata": {},
          "execution_count": 1
        }
      ],
      "source": [
        "import tensorflow as tf\n",
        "import tensorflow_probability as tfp\n",
        "tf.keras.utils.set_random_seed(seed=42)\n",
        "\n",
        "# Create 10 samples from the uniform distribution\n",
        "\n",
        "uniform = tfp.distributions.Uniform(name='uniform2d', low=[0., 0.], high=[1., 1.])\n",
        "x = uniform.sample(sample_shape=10)\n",
        "x.shape"
      ]
    },
    {
      "cell_type": "code",
      "execution_count": null,
      "metadata": {
        "id": "ZXh_lf0i5dYC",
        "outputId": "aebd1295-3240-48c1-ddfa-d88b2388547a",
        "colab": {
          "base_uri": "https://localhost:8080/"
        }
      },
      "outputs": [
        {
          "output_type": "execute_result",
          "data": {
            "text/plain": [
              "<tf.Tensor: shape=(2, 2), dtype=float32, numpy=\n",
              "array([[ 1.5,  0. ],\n",
              "       [ 0. , -0.5]], dtype=float32)>"
            ]
          },
          "metadata": {},
          "execution_count": 2
        }
      ],
      "source": [
        "import tensorflow as tf\n",
        "tf.keras.utils.set_random_seed(seed=42)\n",
        "\n",
        "# Recreate the diagonal matrix transformation with LinearOperatorDiag\n",
        "\n",
        "scale = tf.linalg.LinearOperatorDiag(diag=[1.5, -0.5])\n",
        "scale.to_dense()"
      ]
    },
    {
      "cell_type": "code",
      "execution_count": null,
      "metadata": {
        "id": "ZYzaptVX5dYD",
        "colab": {
          "base_uri": "https://localhost:8080/"
        },
        "outputId": "0673c30a-615e-4afd-c9d6-110fbb1b4b9c"
      },
      "outputs": [
        {
          "output_type": "execute_result",
          "data": {
            "text/plain": [
              "<tfp.bijectors.ScaleMatvecLinearOperator 'scale_matvec_linear_operator' batch_shape=[] forward_min_event_ndims=1 inverse_min_event_ndims=1 dtype_x=float32 dtype_y=float32>"
            ]
          },
          "metadata": {},
          "execution_count": 5
        }
      ],
      "source": [
        "import tensorflow as tf\n",
        "import tensorflow_probability as tfp\n",
        "tf.keras.utils.set_random_seed(seed=42)\n",
        "\n",
        "# Create the ScaleMatvecLinearOperator bijector\n",
        "\n",
        "bijector = tfp.bijectors.ScaleMatvecLinearOperator(scale=scale)\n",
        "bijector"
      ]
    },
    {
      "cell_type": "code",
      "execution_count": null,
      "metadata": {
        "id": "I6G7t_OP5dYD",
        "outputId": "2b789a6b-e1ab-4524-844a-b47a917ccb04",
        "colab": {
          "base_uri": "https://localhost:8080/"
        }
      },
      "outputs": [
        {
          "output_type": "execute_result",
          "data": {
            "text/plain": [
              "TensorShape([10, 2])"
            ]
          },
          "metadata": {},
          "execution_count": 6
        }
      ],
      "source": [
        "# Apply the bijector to the 10 samples\n",
        "\n",
        "y = bijector.forward(x=x)\n",
        "y.shape"
      ]
    },
    {
      "cell_type": "markdown",
      "metadata": {
        "id": "mnMEnTE65dYD"
      },
      "source": [
        "This gives us the same plot we had before:\n",
        "\n",
        "![](https://github.com/MengOonLee/Deep_learning/blob/master/TensorFlow/Probabilistic/Bijectors/figures/diag_1.png?raw=1)\n",
        "\n",
        "For matrix multiplication to work, we need `B.shape[-1] == x.shape[-1]`, and the output tensor has last dimension `y.shape[-1] == B.shape[-2]`. For invertibility, we also need the matrix `B` to be square. Any dimensions except for the last one on `x` become sample/batch dimensions: the operation is broadcast across these dimensions as we are used to. It's probably easiest to understand through a table of values, where `s`, `b`, `m`, and `n` are positive integers and `m != n`:\n",
        "\n",
        "| `B.shape` | `x.shape` | `y.shape` |\n",
        "| ----- | ----- | ----- |\n",
        "| `(2, 2)` | `(2)` | `(2)` |\n",
        "| `(n, n)` | `(m)` | `ERROR` |\n",
        "| `(n, n)` | `(n)` | `(n)` |\n",
        "| `(n, n)` | `(s, n)` | `(s, n)` |\n",
        "| `(b, n, n)` | `(n)` | `(b, n)` |\n",
        "| `(b, n, n)` | `(b, n)` | `(b, n)` |\n",
        "| `(b, n, n)` | `(s, 1, n)` | `(s, b, n)` |  \n",
        "\n",
        "These rules and the ability to broadcast make batch operations easy."
      ]
    },
    {
      "cell_type": "markdown",
      "metadata": {
        "id": "slLvXUg85dYD"
      },
      "source": [
        "We can also easily apply multiple bijectors. Suppose we want to apply both these bijectors:\n",
        "\n",
        "$$\n",
        "\\begin{align}\n",
        "B_1 =\n",
        "\\begin{bmatrix}\n",
        "1 & 0 \\\\\n",
        "0 & -1 \\\\\n",
        "\\end{bmatrix}\n",
        "& \\qquad\n",
        "B_2 =\n",
        "\\begin{bmatrix}\n",
        "-1 & 0 \\\\\n",
        "0 & 1 \\\\\n",
        "\\end{bmatrix}.\n",
        "\\end{align}\n",
        "$$\n",
        "\n",
        "We can do this using the batched bijector"
      ]
    },
    {
      "cell_type": "code",
      "execution_count": null,
      "metadata": {
        "id": "JWCm00_k5dYD",
        "outputId": "6c665200-1d87-48e7-d2d3-a0e3d6c6b9fc",
        "colab": {
          "base_uri": "https://localhost:8080/"
        }
      },
      "outputs": [
        {
          "output_type": "stream",
          "name": "stdout",
          "text": [
            "bijector shape: (2, 2, 2)\n"
          ]
        }
      ],
      "source": [
        "import tensorflow as tf\n",
        "import tensorflow_probability as tfp\n",
        "tf.keras.utils.set_random_seed(seed=42)\n",
        "\n",
        "# Create a batched ScaleMatvecLinearOperator bijector\n",
        "\n",
        "diag = tf.stack(values=(\n",
        "    tf.constant(value=[1., -1.]),\n",
        "    tf.constant(value=[-1., 1.])\n",
        "))  # (2, 2)\n",
        "scale = tf.linalg.LinearOperatorDiag(diag=diag)  # (2, 2, 2)\n",
        "bijector = tfp.bijectors.ScaleMatvecLinearOperator(scale=scale)\n",
        "print('bijector shape:', scale.shape)"
      ]
    },
    {
      "cell_type": "markdown",
      "metadata": {
        "id": "Qli-mLM15dYE"
      },
      "source": [
        "and we can broadcast the samples across both bijectors in the batch, as well as broadcasting the bijectors across all samples. For this, we need to include a batch dimension in the samples Tensor."
      ]
    },
    {
      "cell_type": "code",
      "execution_count": null,
      "metadata": {
        "id": "9w32fgr75dYE",
        "outputId": "71c32972-c13f-45b7-9058-a632cfbd7851",
        "colab": {
          "base_uri": "https://localhost:8080/"
        }
      },
      "outputs": [
        {
          "output_type": "stream",
          "name": "stdout",
          "text": [
            "X shape: (10, 1, 2)\n"
          ]
        }
      ],
      "source": [
        "import tensorflow as tf\n",
        "tf.keras.utils.set_random_seed(seed=42)\n",
        "\n",
        "# Add a singleton batch dimension to x\n",
        "\n",
        "x = tf.expand_dims(input=x, axis=1)\n",
        "print('X shape:', x.shape)"
      ]
    },
    {
      "cell_type": "code",
      "execution_count": null,
      "metadata": {
        "id": "n8baT5td5dYE",
        "outputId": "40b06973-f4e9-404e-8907-56f4664a1b52",
        "colab": {
          "base_uri": "https://localhost:8080/"
        }
      },
      "outputs": [
        {
          "output_type": "stream",
          "name": "stdout",
          "text": [
            "y shape: (10, 2, 2)\n"
          ]
        }
      ],
      "source": [
        "# Apply the batched bijector to x\n",
        "\n",
        "y = bijector.forward(x=x)\n",
        "print('y shape:', y.shape)  # (S, B, E) shape semantics"
      ]
    },
    {
      "cell_type": "markdown",
      "metadata": {
        "id": "1Dw2QaHi5dYE"
      },
      "source": [
        "which gives two batches of forward values for each sample:\n",
        "\n",
        "![](https://github.com/MengOonLee/Deep_learning/blob/master/TensorFlow/Probabilistic/Bijectors/figures/linear_operator_batch.png?raw=1)"
      ]
    },
    {
      "cell_type": "markdown",
      "metadata": {
        "id": "CvxmUDIQ5dYE"
      },
      "source": [
        "## Conclusion\n",
        "\n",
        "In this reading, you saw how to construct scale bijectors in two dimensions using the various `ScaleMatvec` classes. You also had a quick introduction to the general `LinearOperators` class and some of its subclasses. Finally, you saw how batching makes large computations clean and efficient. Be careful to keep track of the tensor shapes, as broadcasting and the difference between batch shapes and event shapes makes errors easy. Finally, note that these bijectors are still amenable to composition (via `Chain` or simply feeding one into another) and inversion, which retains the same syntax you're used to. Enjoy using this powerful tool!"
      ]
    },
    {
      "cell_type": "markdown",
      "metadata": {
        "id": "-h56kvhZ5dYF"
      },
      "source": [
        "### Further reading and resources\n",
        "\n",
        "* `ScaleMatvec` bijectors:\n",
        "  * https://www.tensorflow.org/probability/api_docs/python/tfp/bijectors/ScaleMatvecDiag\\n\",\n",
        "  * https://www.tensorflow.org/probability/api_docs/python/tfp/bijectors/ScaleMatvecLinearOperator\\n\",\n",
        "  * https://www.tensorflow.org/probability/api_docs/python/tfp/bijectors/ScaleMatvecLU\\n\",\n",
        "  * https://www.tensorflow.org/probability/api_docs/python/tfp/bijectors/ScaleMatvecTriL\\n\",\n",
        "* `LinearOperator` class (see also subclasses)\n",
        "  * https://www.tensorflow.org/api_docs/python/tf/linalg/LinearOperator"
      ]
    }
  ],
  "metadata": {
    "kernelspec": {
      "display_name": "Python 3",
      "language": "python",
      "name": "python3"
    },
    "language_info": {
      "codemirror_mode": {
        "name": "ipython",
        "version": 3
      },
      "file_extension": ".py",
      "mimetype": "text/x-python",
      "name": "python",
      "nbconvert_exporter": "python",
      "pygments_lexer": "ipython3",
      "version": "3.7.1"
    },
    "colab": {
      "provenance": [],
      "include_colab_link": true
    }
  },
  "nbformat": 4,
  "nbformat_minor": 0
}