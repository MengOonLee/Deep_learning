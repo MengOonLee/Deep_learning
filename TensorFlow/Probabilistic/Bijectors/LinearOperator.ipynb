{
  "cells": [
    {
      "cell_type": "markdown",
      "metadata": {
        "id": "view-in-github",
        "colab_type": "text"
      },
      "source": [
        "<a href=\"https://colab.research.google.com/github/MengOonLee/Deep_learning/blob/master/TensorFlow/Probabilistic/Bijectors/LinearOperator.ipynb\" target=\"_parent\"><img src=\"https://colab.research.google.com/assets/colab-badge.svg\" alt=\"Open In Colab\"/></a>"
      ]
    },
    {
      "cell_type": "markdown",
      "metadata": {
        "id": "wlFpGQst4fIL"
      },
      "source": [
        "# Scale bijectors and LinearOperator"
      ]
    },
    {
      "cell_type": "markdown",
      "metadata": {
        "id": "dlBRMKVO4fIS"
      },
      "source": [
        "This reading is an introduction to scale bijectors, as well as the `LinearOperator` class, which can be used with them."
      ]
    },
    {
      "cell_type": "code",
      "execution_count": 1,
      "metadata": {
        "id": "J-T8vG-54fIV",
        "outputId": "ca829f1c-07d0-4c8b-e707-f5ee189507e3",
        "colab": {
          "base_uri": "https://localhost:8080/"
        }
      },
      "outputs": [
        {
          "output_type": "stream",
          "name": "stdout",
          "text": [
            "TF version: 2.18.0\n",
            "TFP version: 0.25.0\n"
          ]
        }
      ],
      "source": [
        "import tensorflow as tf\n",
        "import tensorflow_probability as tfp\n",
        "tf.keras.utils.set_random_seed(seed=42)\n",
        "\n",
        "print(\"TF version:\", tf.__version__)\n",
        "print(\"TFP version:\", tfp.__version__)"
      ]
    },
    {
      "cell_type": "markdown",
      "metadata": {
        "id": "lgWgiTkj4fIZ"
      },
      "source": [
        "## Introduction\n",
        "\n",
        "You have now seen how bijectors can be used to transform tensors and tensor spaces. Until now, you've only seen this in the scalar case, where the bijector acts on a single value. When the tensors you fed into the bijectors had multiple components, the bijector acted on each component individually by applying batch operations to scalar values. For probability distributions, this corresponds to a scalar event space.\n",
        "\n",
        "However, bijectors can also act on higher-dimensional space. You've seen, for example, the multivariate normal distribution, for which samples are tensors with more than one component. You'll need higher-dimensional bijectors to work with such distributions. In this reading, you'll see how bijectors can be used to generalise scale transformations to higher dimensions. You'll also see the `LinearOperator` class, which you can use to construct highly general scale bijectors. In this reading, you'll walk through the code, and we'll use figure examples to demonstrate these transformations.\n",
        "\n",
        "This reading contains many images, as this allows you to visualise how a space is transformed. For this reason, the examples are limited to two dimensions, since these allow easy plots. However, these ideas generalise naturally to higher dimensions. Let's start by creating a point that is randomly distributed across the unit square $[0, 1] \\times [0, 1]$:"
      ]
    },
    {
      "cell_type": "code",
      "execution_count": null,
      "metadata": {
        "id": "95gLTaQt4fIb",
        "outputId": "3caa9004-53ab-41e0-ab53-b77a490600a2"
      },
      "outputs": [
        {
          "data": {
            "text/plain": [
              "<tf.Tensor: shape=(2,), dtype=float32, numpy=array([0.6645621 , 0.44100678], dtype=float32)>"
            ]
          },
          "execution_count": 1,
          "metadata": {},
          "output_type": "execute_result"
        }
      ],
      "source": [
        "import tensorflow as tf\n",
        "tf.random.set_seed(seed=42)\n",
        "import tensorflow_probability as tfp\n",
        "\n",
        "# Create the base distribution and a single sample\n",
        "\n",
        "uniform = tfp.distributions.Uniform(low=[0.0, 0.0], high=[1.0, 1.0],\n",
        "    name='uniform2d')\n",
        "x = uniform.sample()\n",
        "x"
      ]
    },
    {
      "cell_type": "markdown",
      "metadata": {
        "id": "2Wot0E6Y4fId"
      },
      "source": [
        "We will be applying linear transformations to this data. To get a feel for how these transformations work, we show ten example sample points, and plot them, as well as the domain of the underlying distribution:\n",
        "\n",
        "![](https://github.com/MengOonLee/Deep_learning/blob/master/TensorFlow/Probabilistic/Bijectors/figures/x.png?raw=1)\n",
        "\n",
        "Each of the ten points is hence represented by a two-dimensional vector. Let $\\mathbf{x} = [x_1, x_2]^T$ be one of these points. Then scale bijectors are linear transformations of $\\mathbf{x}$, which can be represented by a $2 \\times 2$ matrix $B$. The forward bijection to $\\mathbf{y} = [y_1, y_2]^T$ is\n",
        "\n",
        "$$\n",
        "\\mathbf{y}\n",
        "=\n",
        "\\begin{bmatrix}\n",
        "y_1 \\\\ y_2\n",
        "\\end{bmatrix}\n",
        "= B \\mathbf{x}\n",
        "= \\begin{bmatrix}\n",
        "b_{11} & b_{12} \\\\\n",
        "b_{21} & b_{22} \\\\\n",
        "\\end{bmatrix}\n",
        "\\begin{bmatrix}\n",
        "x_1 \\\\ x_2\n",
        "\\end{bmatrix}\n",
        "$$\n",
        "\n",
        "This is important to remember: any two-dimensional scale bijector can be represented by a $2 \\times 2$ matrix. For this reason, we'll sometimes use the term \"matrix\" to refer to the bijector itself. You'll be seeing how these points and domain are transformed under different bijectors  in two dimensions."
      ]
    },
    {
      "cell_type": "markdown",
      "metadata": {
        "id": "oXwqesCT4fId"
      },
      "source": [
        "## The `ScaleMatvec` bijectors"
      ]
    },
    {
      "cell_type": "markdown",
      "metadata": {
        "id": "MAdlqVGD4fIe"
      },
      "source": [
        "### The `ScaleMatvecDiag` bijector\n",
        "\n",
        "We'll start with a simple scale bijector created using the `ScaleMatvecDiag` class:"
      ]
    },
    {
      "cell_type": "code",
      "execution_count": null,
      "metadata": {
        "id": "GnM-0PK54fIf"
      },
      "outputs": [],
      "source": [
        "import tensorflow_probability as tfp\n",
        "\n",
        "# Create the ScaleMatvecDiag bijector\n",
        "\n",
        "bijector = tfp.bijectors.ScaleMatvecDiag(scale_diag=[1.5, -0.5])"
      ]
    },
    {
      "cell_type": "markdown",
      "metadata": {
        "id": "K9-0tEzx4fIh"
      },
      "source": [
        "which creates a bijector represented by the diagonal matrix\n",
        "$$ B =\n",
        "\\begin{bmatrix}\n",
        "1.5 & 0 \\\\\n",
        "0 & -0.5 \\\\\n",
        "\\end{bmatrix}.\n",
        "$$\n",
        "\n",
        "We can apply this to the data using `y = bijector(x)` for each of the ten points. This transforms the data as follows:\n",
        "\n",
        "![](https://github.com/MengOonLee/Deep_learning/blob/master/TensorFlow/Probabilistic/Bijectors/figures/diag_1.png?raw=1)\n",
        "\n",
        "You can see what happened here: the first coordinate is multiplied by 1.5 while the second is multipled by -0.5, flipping it through the horizontal axis."
      ]
    },
    {
      "cell_type": "code",
      "execution_count": null,
      "metadata": {
        "id": "xX9gsAp-4fIh",
        "outputId": "674f3a4e-b9d5-4a83-ab77-234cfa7adb49"
      },
      "outputs": [
        {
          "data": {
            "text/plain": [
              "<tf.Tensor: shape=(2,), dtype=float32, numpy=array([ 0.99684316, -0.22050339], dtype=float32)>"
            ]
          },
          "execution_count": 3,
          "metadata": {},
          "output_type": "execute_result"
        }
      ],
      "source": [
        "# Apply the bijector to the sample point\n",
        "\n",
        "y = bijector.forward(x=x)\n",
        "y"
      ]
    },
    {
      "cell_type": "markdown",
      "metadata": {
        "id": "yUN1LNNu4fIi"
      },
      "source": [
        "### The `ScaleMatvecTriL` bijector\n",
        "\n",
        "In the previous example, the bijector matrix was diagonal, which essentially performs an independent scale operation on each of the two dimensions. The domain under the bijection remains rectangular. However, not all scale tarnsformations have to be like this. With a non-diagonal matrix, the domain will transform to a quadrilateral. One way to do this is by using the `tfb.ScaleMatvecTriL` class, which implements a bijection based on a lower-triangular matrix. For example, to implement the lower-triangular matrix\n",
        "$$ B =\n",
        "\\begin{bmatrix}\n",
        "-1 & 0 \\\\\n",
        "-1 & -1 \\\\\n",
        "\\end{bmatrix}\n",
        "$$\n",
        "you can use the `tfb.ScaleMatvecTriL` bijector as follows:"
      ]
    },
    {
      "cell_type": "code",
      "execution_count": null,
      "metadata": {
        "id": "FhmVSI934fIj"
      },
      "outputs": [],
      "source": [
        "import tensorflow_probability as tfp\n",
        "\n",
        "# Create the ScaleMatvecTriL bijector\n",
        "\n",
        "bijector = tfp.bijectors.ScaleMatvecTriL(scale_tril=[\n",
        "    [-1., 0.], [-1., -1.]\n",
        "])"
      ]
    },
    {
      "cell_type": "code",
      "execution_count": null,
      "metadata": {
        "id": "FxNWG7UZ4fIj",
        "outputId": "b30530dd-81eb-42b3-bfe3-df6a91c97edb"
      },
      "outputs": [
        {
          "data": {
            "text/plain": [
              "<tf.Tensor: shape=(2,), dtype=float32, numpy=array([-0.6645621, -1.1055689], dtype=float32)>"
            ]
          },
          "execution_count": 5,
          "metadata": {},
          "output_type": "execute_result"
        }
      ],
      "source": [
        "# Apply the bijector to the sample x\n",
        "\n",
        "y = bijector.forward(x=x)\n",
        "y"
      ]
    },
    {
      "cell_type": "markdown",
      "metadata": {
        "id": "oxlbL9_94fIk"
      },
      "source": [
        "A graphical overview of this change is:\n",
        "\n",
        "![](https://github.com/MengOonLee/Deep_learning/blob/master/TensorFlow/Probabilistic/Bijectors/figures/lower_triangular.png?raw=1)"
      ]
    },
    {
      "cell_type": "markdown",
      "metadata": {
        "id": "cSR8prnw4fIk"
      },
      "source": [
        "## Inverse and composition\n",
        "\n",
        "Scale transformations always map the point $[0, 0]$ to itself and are only one particular class of bijectors. As you saw before, you can create more complicated bijections by composing one with another. This works just like you would expect. For example, you can compose a scale transformation with a shift to the left (by one unit) as follows:"
      ]
    },
    {
      "cell_type": "code",
      "execution_count": null,
      "metadata": {
        "id": "bpkr5Rtb4fIl"
      },
      "outputs": [],
      "source": [
        "import tensorflow_probability as tfp\n",
        "\n",
        "# Create a scale and shift bijector\n",
        "\n",
        "bijector = tfp.bijectors.Chain(bijectors=[\n",
        "    tfp.bijectors.Shift(shift=[-1., 0.]),\n",
        "    tfp.bijectors.ScaleMatvecTriL(scale_tril=[\n",
        "        [-1., 0.], [-1., -1.]\n",
        "    ])\n",
        "])"
      ]
    },
    {
      "cell_type": "code",
      "execution_count": null,
      "metadata": {
        "id": "3i8MIHAk4fIm",
        "outputId": "67b3d6d6-609c-4497-b982-c08b17f9e424"
      },
      "outputs": [
        {
          "data": {
            "text/plain": [
              "<tf.Tensor: shape=(2,), dtype=float32, numpy=array([-1.6645621, -1.1055689], dtype=float32)>"
            ]
          },
          "execution_count": 7,
          "metadata": {},
          "output_type": "execute_result"
        }
      ],
      "source": [
        "# Apply the bijector to the sample x\n",
        "\n",
        "y = bijector.forward(x=x)\n",
        "y"
      ]
    },
    {
      "cell_type": "markdown",
      "metadata": {
        "id": "Jf95-GTO4fIm"
      },
      "source": [
        "which has the expected result:\n",
        "\n",
        "![](https://github.com/MengOonLee/Deep_learning/blob/master/TensorFlow/Probabilistic/Bijectors/figures/scale_and_shift.png?raw=1)\n",
        "\n",
        "Furthermore, bijectors are always invertible (with just a few special cases, see e.g. [`Absolute Value`](https://www.tensorflow.org/probability/api_docs/python/tfp/bijectors/AbsoluteValue)), and these scale transformations are no exception. For example, running"
      ]
    },
    {
      "cell_type": "code",
      "execution_count": null,
      "metadata": {
        "id": "GdqdGRVm4fIn"
      },
      "outputs": [],
      "source": [
        "import tensorflow_probability as tfp\n",
        "\n",
        "# Apply the inverse transformation to the image of x\n",
        "\n",
        "bijector = tfp.bijectors.ScaleMatvecTriL(scale_tril=[\n",
        "    [-1., 0.], [-1., -1.]\n",
        "])\n",
        "y = bijector.inverse(y=bijector.forward(x=x))"
      ]
    },
    {
      "cell_type": "markdown",
      "metadata": {
        "id": "s6Mumd-o4fIn"
      },
      "source": [
        "recovers `x`:\n",
        "\n",
        "![](https://github.com/MengOonLee/Deep_learning/blob/master/TensorFlow/Probabilistic/Bijectors/figures/inverse.png?raw=1)\n",
        "\n",
        "so that the original and transformed data is the same."
      ]
    },
    {
      "cell_type": "code",
      "execution_count": null,
      "metadata": {
        "id": "pVGJ3D7H4fIn",
        "outputId": "95afdc22-ebfb-4293-f4a7-8a8613b727c2"
      },
      "outputs": [
        {
          "data": {
            "text/plain": [
              "<tf.Tensor: shape=(), dtype=bool, numpy=True>"
            ]
          },
          "execution_count": 9,
          "metadata": {},
          "output_type": "execute_result"
        }
      ],
      "source": [
        "import tensorflow as tf\n",
        "tf.random.set_seed(seed=42)\n",
        "\n",
        "# Check that all y and x values are the same\n",
        "\n",
        "tf.math.reduce_all(input_tensor=y==x)"
      ]
    },
    {
      "cell_type": "markdown",
      "metadata": {
        "id": "OMEH1mGn4fIo"
      },
      "source": [
        "## The `LinearOperator` class and `ScaleMatvecLinearOperator` bijector\n",
        "\n",
        "The examples you just saw used the `ScaleMatvecDiag` and `ScaleMatvecTriL` bijectors, whose transformations can be represented by diagonal and lower-triangular matrices respectively. These are convenient since it's easy to check whether such matrices are invertible (a requirement for a bijector). However, this comes at a cost of generality: there are acceptable bijectors whose matrices are not diagonal or lower-triangular. To construct these more general bijectors, you can use the `ScaleMatvecLinearOperator` class, which operates on instances of `tf.linalg.LinearOperator`.\n",
        "\n",
        "The `LinearOperator` is a class that allows the creation and manipulation of linear operators in TensorFlow. It's rare to call the class directly, but its subclasses represent many of the common linear operators. It's programmed in a way to have computational advantages when working with big linear operators, although we won't discuss these here. What matters now is that we can use these linear operators to define bijectors using the `ScaleMatvecLinearOperator` class. Let's see how this works."
      ]
    },
    {
      "cell_type": "markdown",
      "metadata": {
        "id": "_WLNCDvU4fIo"
      },
      "source": [
        "### The `LinearOperatorDiag` class\n",
        "\n",
        "First, let's use this framework to recreate our first bijector, represented by the diagonal matrix\n",
        "\n",
        "$$ B =\n",
        "\\begin{bmatrix}\n",
        "1.5 & 0 \\\\\n",
        "0 & -0.5 \\\\\n",
        "\\end{bmatrix}.\n",
        "$$\n",
        "\n",
        "You can do this using the `ScaleMatvecLinearOperator` as follows. First, we'll create the linear operator that represents the scale transformation using"
      ]
    },
    {
      "cell_type": "code",
      "execution_count": null,
      "metadata": {
        "id": "uWSxLWp54fIo"
      },
      "outputs": [],
      "source": [
        "import tensorflow as tf\n",
        "tf.random.set_seed(seed=42)\n",
        "\n",
        "scale = tf.linalg.LinearOperatorDiag(diag=[1.5, -0.5])"
      ]
    },
    {
      "cell_type": "markdown",
      "metadata": {
        "id": "RhbvO0gi4fIo"
      },
      "source": [
        "where `LinearOperatorDiag` is one of the subclasses of `LinearOperator`. As the name suggests, it implements a diagonal matrix. We then use this to create the bijector using the `tfb.ScaleMatvecLinearOperator`:"
      ]
    },
    {
      "cell_type": "code",
      "execution_count": null,
      "metadata": {
        "id": "ryTorInk4fIo"
      },
      "outputs": [],
      "source": [
        "import tensorflow_probability as tfp\n",
        "\n",
        "# Create the ScaleMatvecLinearOperator bijector\n",
        "\n",
        "bijector = tfp.bijectors.ScaleMatvecLinearOperator(scale=scale)"
      ]
    },
    {
      "cell_type": "markdown",
      "metadata": {
        "id": "MX1TRf_I4fIo"
      },
      "source": [
        "This bijector is the same as the first one above:\n",
        "\n",
        "![](https://github.com/MengOonLee/Deep_learning/blob/master/TensorFlow/Probabilistic/Bijectors/figures/linear_operator_diag.png?raw=1)"
      ]
    },
    {
      "cell_type": "code",
      "execution_count": null,
      "metadata": {
        "id": "lcP8TcFt4fIp",
        "outputId": "e4e308ac-ed00-4579-fecc-edcc9dc40d8a"
      },
      "outputs": [
        {
          "data": {
            "text/plain": [
              "<tf.Tensor: shape=(2,), dtype=float32, numpy=array([ 0.99684316, -0.22050339], dtype=float32)>"
            ]
          },
          "execution_count": 12,
          "metadata": {},
          "output_type": "execute_result"
        }
      ],
      "source": [
        "# Apply the bijector to the sample x\n",
        "\n",
        "y = bijector.forward(x=x)\n",
        "y"
      ]
    },
    {
      "cell_type": "markdown",
      "metadata": {
        "id": "5AYBnv3D4fIp"
      },
      "source": [
        "### The `LinearOperatorFullMatrix` class\n",
        "\n",
        "We can also use this framework to create a bijector represented by a custom matrix. Suppose we have the matrix\n",
        "\n",
        "$$ B =\n",
        "\\begin{bmatrix}\n",
        "0.5 & 1.5 \\\\\n",
        "1.5 & 0.5 \\\\\n",
        "\\end{bmatrix}\n",
        "$$\n",
        "\n",
        "which is neither diagonal nor lower-triangular. We can implement a bijector for it using the `ScaleMatvecLinearOperator` class by using another subclass of `LinearOperator`, namely the `LinearOperatorFullMatrix`, as follows:"
      ]
    },
    {
      "cell_type": "code",
      "execution_count": null,
      "metadata": {
        "id": "JmmmvzZP4fIp"
      },
      "outputs": [],
      "source": [
        "import tensorflow as tf\n",
        "tf.random.set_seed(seed=42)\n",
        "import tensorflow_probability as tfp\n",
        "\n",
        "# Create a ScaleMatvecLinearOperator bijector\n",
        "\n",
        "B = [[0.5, 1.5],\n",
        "     [1.5, 0.5]]\n",
        "scale = tf.linalg.LinearOperatorFullMatrix(matrix=B)\n",
        "bijector = tfp.bijectors.ScaleMatvecLinearOperator(scale=scale)"
      ]
    },
    {
      "cell_type": "markdown",
      "metadata": {
        "id": "1z0XZsVl4fIq"
      },
      "source": [
        "which leads to the following transformation:\n",
        "\n",
        "![](https://github.com/MengOonLee/Deep_learning/blob/master/TensorFlow/Probabilistic/Bijectors/figures/linear_operator_full.png?raw=1)"
      ]
    },
    {
      "cell_type": "code",
      "execution_count": null,
      "metadata": {
        "id": "2HUd328i4fIq",
        "outputId": "80f9838c-1990-4cc3-c5be-1410d8b0d134"
      },
      "outputs": [
        {
          "data": {
            "text/plain": [
              "<tf.Tensor: shape=(2,), dtype=float32, numpy=array([0.9937912, 1.2173465], dtype=float32)>"
            ]
          },
          "execution_count": 14,
          "metadata": {},
          "output_type": "execute_result"
        }
      ],
      "source": [
        "# Apply the bijector to the sample x\n",
        "\n",
        "y = bijector.forward(x=x)\n",
        "y"
      ]
    },
    {
      "cell_type": "markdown",
      "metadata": {
        "id": "Lu005yLe4fIr"
      },
      "source": [
        "### Batch operations and broadcasting\n",
        "\n",
        "As you've seen before, it's important to be very careful with shapes in TensorFlow Probability. That's because there are three possible components to a shape: the event shape (dimensionality of the random variable), sample shape (dimensionality of the samples drawn) and batch shape (multiple distributions can be considered in one object). This subtlety is especially important for bijectors, but can be harnassed to make powerful, and very computationally efficient, transformations of spaces. Let's examine this a little bit in this section.\n",
        "\n",
        "In the previous examples, we applied a bijector to a two-dimensional data point $\\mathbf{x}$ to create a two-dimensional data point $\\mathbf{y}$. This was done using $\\mathbf{y} = B \\mathbf{x}$ where $B$ is the $2 \\times 2$ matrix that represents the scale bijector. This is simply matrix multiplication. To implement this, we created a tensor `x` with `x.shape == [2]` and a bijector using a matrix of shape `B.shape == [2, 2]`. This generalises straightforwardly to higher dimensions: if $\\mathbf{x}$ is $n$-dimensional, the bijection matrix must be of shape $n \\times n$ for some $n>0$. In this case, $\\mathbf{y}$ is $n$-dimensional.\n",
        "\n",
        "But what if you wanted to apply the same bijection to ten $\\mathbf{x}$ values at once? You can then arrange all these samples into a single tensor `x` with `x.shape == [10, 2]` and create a bijector as usual, with a matrix of shape `B.shape == [2, 2]`."
      ]
    },
    {
      "cell_type": "code",
      "execution_count": null,
      "metadata": {
        "id": "Vz5bc-0J4fIr",
        "outputId": "c1476eae-6a3b-4656-db0c-630a97ac4e66"
      },
      "outputs": [
        {
          "data": {
            "text/plain": [
              "<tf.Tensor: shape=(10, 2), dtype=float32, numpy=\n",
              "array([[0.6645621 , 0.44100678],\n",
              "       [0.3528825 , 0.46448255],\n",
              "       [0.03366041, 0.68467236],\n",
              "       [0.74011743, 0.8724445 ],\n",
              "       [0.22632635, 0.22319686],\n",
              "       [0.3103881 , 0.7223358 ],\n",
              "       [0.13318717, 0.5480639 ],\n",
              "       [0.5746088 , 0.8996835 ],\n",
              "       [0.00946367, 0.5212307 ],\n",
              "       [0.6345445 , 0.1993283 ]], dtype=float32)>"
            ]
          },
          "execution_count": 1,
          "metadata": {},
          "output_type": "execute_result"
        }
      ],
      "source": [
        "import tensorflow as tf\n",
        "tf.random.set_seed(seed=42)\n",
        "import tensorflow_probability as tfp\n",
        "\n",
        "# Create 10 samples from the uniform distribution\n",
        "\n",
        "uniform = tfp.distributions.Uniform(low=[0.0, 0.0], high=[1.0, 1.0],\n",
        "    name='uniform2d')\n",
        "x = uniform.sample(sample_shape=(10,))\n",
        "x"
      ]
    },
    {
      "cell_type": "code",
      "execution_count": null,
      "metadata": {
        "id": "m9GqL_q54fIs",
        "outputId": "32679e44-1c24-46c1-e125-675473ba1ce8"
      },
      "outputs": [
        {
          "data": {
            "text/plain": [
              "<tf.Tensor: shape=(2, 2), dtype=float32, numpy=\n",
              "array([[ 1.5,  0. ],\n",
              "       [ 0. , -0.5]], dtype=float32)>"
            ]
          },
          "execution_count": 2,
          "metadata": {},
          "output_type": "execute_result"
        }
      ],
      "source": [
        "import tensorflow as tf\n",
        "tf.random.set_seed(seed=42)\n",
        "\n",
        "# Recreate the diagonal matrix transformation with LinearOperatorDiag\n",
        "\n",
        "scale = tf.linalg.LinearOperatorDiag(diag=[1.5, -0.5])\n",
        "scale.to_dense()"
      ]
    },
    {
      "cell_type": "code",
      "execution_count": null,
      "metadata": {
        "id": "AZ8MtLRb4fIs"
      },
      "outputs": [],
      "source": [
        "import tensorflow_probability as tfp\n",
        "\n",
        "# Create the ScaleMatvecLinearOperator bijector\n",
        "\n",
        "bijector = tfp.bijectors.ScaleMatvecLinearOperator(scale=scale)"
      ]
    },
    {
      "cell_type": "code",
      "execution_count": null,
      "metadata": {
        "id": "Ho7lYmWD4fIs",
        "outputId": "18034946-7e19-4cef-aab0-3116b4709a75"
      },
      "outputs": [
        {
          "data": {
            "text/plain": [
              "<tf.Tensor: shape=(10, 2), dtype=float32, numpy=\n",
              "array([[ 0.99684316, -0.22050339],\n",
              "       [ 0.52932376, -0.23224127],\n",
              "       [ 0.05049062, -0.34233618],\n",
              "       [ 1.1101761 , -0.43622226],\n",
              "       [ 0.33948952, -0.11159843],\n",
              "       [ 0.46558213, -0.3611679 ],\n",
              "       [ 0.19978076, -0.27403194],\n",
              "       [ 0.8619132 , -0.44984174],\n",
              "       [ 0.0141955 , -0.26061535],\n",
              "       [ 0.95181674, -0.09966415]], dtype=float32)>"
            ]
          },
          "execution_count": 4,
          "metadata": {},
          "output_type": "execute_result"
        }
      ],
      "source": [
        "# Apply the bijector to the 10 samples\n",
        "\n",
        "y = bijector.forward(x=x)\n",
        "y"
      ]
    },
    {
      "cell_type": "markdown",
      "metadata": {
        "id": "LPVGkkz44fIt"
      },
      "source": [
        "This gives us the same plot we had before:\n",
        "\n",
        "![](https://github.com/MengOonLee/Deep_learning/blob/master/TensorFlow/Probabilistic/Bijectors/figures/diag_1.png?raw=1)\n",
        "\n",
        "For matrix multiplication to work, we need `B.shape[-1] == x.shape[-1]`, and the output tensor has last dimension `y.shape[-1] == B.shape[-2]`. For invertibility, we also need the matrix `B` to be square. Any dimensions except for the last one on `x` become sample/batch dimensions: the operation is broadcast across these dimensions as we are used to. It's probably easiest to understand through a table of values, where `s`, `b`, `m`, and `n` are positive integers and `m != n`:\n",
        "\n",
        "| `B.shape` | `x.shape` | `y.shape` |\n",
        "| ----- | ----- | ----- |\n",
        "| `(2, 2)` | `(2)` | `(2)` |\n",
        "| `(n, n)` | `(m)` | `ERROR` |\n",
        "| `(n, n)` | `(n)` | `(n)` |\n",
        "| `(n, n)` | `(s, n)` | `(s, n)` |\n",
        "| `(b, n, n)` | `(n)` | `(b, n)` |\n",
        "| `(b, n, n)` | `(b, n)` | `(b, n)` |\n",
        "| `(b, n, n)` | `(s, 1, n)` | `(s, b, n)` |  \n",
        "\n",
        "These rules and the ability to broadcast make batch operations easy."
      ]
    },
    {
      "cell_type": "markdown",
      "metadata": {
        "id": "pC32LAFf4fIt"
      },
      "source": [
        "We can also easily apply multiple bijectors. Suppose we want to apply both these bijectors:\n",
        "\n",
        "$$\n",
        "\\begin{align}\n",
        "B_1 =\n",
        "\\begin{bmatrix}\n",
        "1 & 0 \\\\\n",
        "0 & -1 \\\\\n",
        "\\end{bmatrix}\n",
        "& \\qquad\n",
        "B_2 =\n",
        "\\begin{bmatrix}\n",
        "-1 & 0 \\\\\n",
        "0 & 1 \\\\\n",
        "\\end{bmatrix}.\n",
        "\\end{align}\n",
        "$$\n",
        "\n",
        "We can do this using the batched bijector"
      ]
    },
    {
      "cell_type": "code",
      "execution_count": null,
      "metadata": {
        "id": "4EPR1Z424fIt",
        "outputId": "0246a2ea-354f-44aa-a1f9-5300c097f6de"
      },
      "outputs": [
        {
          "name": "stdout",
          "output_type": "stream",
          "text": [
            "bijector shape: (2, 2, 2)\n"
          ]
        }
      ],
      "source": [
        "import tensorflow as tf\n",
        "tf.random.set_seed(seed=42)\n",
        "import tensorflow_probability as tfp\n",
        "\n",
        "# Create a batched ScaleMatvecLinearOperator bijector\n",
        "\n",
        "diag = tf.stack(values=(\n",
        "    tf.constant(value=[1, -1.]),\n",
        "    tf.constant(value=[-1, 1.])\n",
        "))  # (2, 2)\n",
        "scale = tf.linalg.LinearOperatorDiag(diag=diag)  # (2, 2, 2)\n",
        "bijector = tfp.bijectors.ScaleMatvecLinearOperator(scale=scale)\n",
        "print('bijector shape:', scale.shape)"
      ]
    },
    {
      "cell_type": "markdown",
      "metadata": {
        "id": "bOJ570xd4fIu"
      },
      "source": [
        "and we can broadcast the samples across both bijectors in the batch, as well as broadcasting the bijectors across all samples. For this, we need to include a batch dimension in the samples Tensor."
      ]
    },
    {
      "cell_type": "code",
      "execution_count": null,
      "metadata": {
        "id": "HNhczQSM4fIu",
        "outputId": "5e3a2da9-6584-4a75-a003-9442213889b0"
      },
      "outputs": [
        {
          "name": "stdout",
          "output_type": "stream",
          "text": [
            "X shape: (10, 1, 2)\n"
          ]
        }
      ],
      "source": [
        "import tensorflow as tf\n",
        "tf.random.set_seed(seed=42)\n",
        "\n",
        "# Add a singleton batch dimension to x\n",
        "\n",
        "x = tf.expand_dims(input=x, axis=1)\n",
        "print('X shape:', x.shape)"
      ]
    },
    {
      "cell_type": "code",
      "execution_count": null,
      "metadata": {
        "id": "6FSnAzTm4fIu",
        "outputId": "495e895f-ac63-49e2-d54b-ce1d8e0ee4f0"
      },
      "outputs": [
        {
          "name": "stdout",
          "output_type": "stream",
          "text": [
            "y shape: (10, 2, 2)\n"
          ]
        }
      ],
      "source": [
        "# Apply the batched bijector to x\n",
        "\n",
        "y = bijector.forward(x=x)\n",
        "print('y shape:', y.shape)  # (S, B, E) shape semantics"
      ]
    },
    {
      "cell_type": "markdown",
      "metadata": {
        "id": "I9XtAAfe4fIv"
      },
      "source": [
        "which gives two batches of forward values for each sample:\n",
        "\n",
        "![](https://github.com/MengOonLee/Deep_learning/blob/master/TensorFlow/Probabilistic/Bijectors/figures/linear_operator_batch.png?raw=1)"
      ]
    },
    {
      "cell_type": "markdown",
      "metadata": {
        "id": "DYI_yMF24fIv"
      },
      "source": [
        "## Conclusion\n",
        "\n",
        "In this reading, you saw how to construct scale bijectors in two dimensions using the various `ScaleMatvec` classes. You also had a quick introduction to the general `LinearOperators` class and some of its subclasses. Finally, you saw how batching makes large computations clean and efficient. Be careful to keep track of the tensor shapes, as broadcasting and the difference between batch shapes and event shapes makes errors easy. Finally, note that these bijectors are still amenable to composition (via `Chain` or simply feeding one into another) and inversion, which retains the same syntax you're used to. Enjoy using this powerful tool!"
      ]
    },
    {
      "cell_type": "markdown",
      "metadata": {
        "id": "csV7G0k54fIv"
      },
      "source": [
        "### Further reading and resources\n",
        "\n",
        "* `ScaleMatvec` bijectors:\n",
        "  * https://www.tensorflow.org/probability/api_docs/python/tfp/bijectors/ScaleMatvecDiag\\n\",\n",
        "  * https://www.tensorflow.org/probability/api_docs/python/tfp/bijectors/ScaleMatvecLinearOperator\\n\",\n",
        "  * https://www.tensorflow.org/probability/api_docs/python/tfp/bijectors/ScaleMatvecLU\\n\",\n",
        "  * https://www.tensorflow.org/probability/api_docs/python/tfp/bijectors/ScaleMatvecTriL\\n\",\n",
        "* `LinearOperator` class (see also subclasses)\n",
        "  * https://www.tensorflow.org/api_docs/python/tf/linalg/LinearOperator"
      ]
    }
  ],
  "metadata": {
    "kernelspec": {
      "display_name": "Python 3",
      "language": "python",
      "name": "python3"
    },
    "language_info": {
      "codemirror_mode": {
        "name": "ipython",
        "version": 3
      },
      "file_extension": ".py",
      "mimetype": "text/x-python",
      "name": "python",
      "nbconvert_exporter": "python",
      "pygments_lexer": "ipython3",
      "version": "3.7.1"
    },
    "colab": {
      "provenance": [],
      "include_colab_link": true
    }
  },
  "nbformat": 4,
  "nbformat_minor": 0
}