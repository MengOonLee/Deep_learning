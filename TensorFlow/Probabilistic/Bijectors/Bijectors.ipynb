{
  "cells": [
    {
      "cell_type": "markdown",
      "metadata": {
        "id": "view-in-github",
        "colab_type": "text"
      },
      "source": [
        "<a href=\"https://colab.research.google.com/github/MengOonLee/Deep_learning/blob/master/TensorFlow/Probabilistic/Bijectors/Bijectors.ipynb\" target=\"_parent\"><img src=\"https://colab.research.google.com/assets/colab-badge.svg\" alt=\"Open In Colab\"/></a>"
      ]
    },
    {
      "cell_type": "code",
      "source": [
        "%%bash\n",
        "pip install --no-cache-dir -qU \\\n",
        " tensorflow-probability[tf]"
      ],
      "metadata": {
        "id": "Aew-ew4vHXgf"
      },
      "execution_count": 1,
      "outputs": []
    },
    {
      "cell_type": "markdown",
      "metadata": {
        "id": "_NVU_U5FMOt7"
      },
      "source": [
        "# Bijectors and normalising flows"
      ]
    },
    {
      "cell_type": "markdown",
      "metadata": {
        "id": "Wb_SzVgFMOt8"
      },
      "source": [
        " ## Coding tutorials\n",
        " #### [1. Bijectors](#coding_tutorial_1)\n",
        " #### [2. The TransformedDistribution class](#coding_tutorial_2)\n",
        " #### [3. Subclassing bijectors](#coding_tutorial_3)\n",
        " #### [4. Normalising flows](#coding_tutorial_4)"
      ]
    },
    {
      "cell_type": "markdown",
      "metadata": {
        "id": "3yvGGyqyMOt9"
      },
      "source": [
        "***\n",
        "<a id=\"coding_tutorial_1\"></a>\n",
        "## Bijectors"
      ]
    },
    {
      "cell_type": "code",
      "execution_count": 1,
      "metadata": {
        "id": "-TxQfTfDMOt9",
        "collapsed": true
      },
      "outputs": [],
      "source": [
        "import tensorflow as tf\n",
        "tf.keras.utils.set_random_seed(seed=42)\n",
        "import tensorflow_probability as tfp\n",
        "\n",
        "# Define base distribution\n",
        "normal_distrib = tfp.distributions.Normal(loc=0., scale=1.)\n",
        "\n",
        "# Sample from base distribution\n",
        "z = normal_distrib.sample(sample_shape=(10000,))"
      ]
    },
    {
      "cell_type": "markdown",
      "metadata": {
        "id": "_8dDzBZ0MOt-"
      },
      "source": [
        "### Scale and shift bijector"
      ]
    },
    {
      "cell_type": "code",
      "execution_count": 2,
      "metadata": {
        "id": "Dzb59pEaMOt_"
      },
      "outputs": [],
      "source": [
        "import tensorflow as tf\n",
        "tf.keras.utils.set_random_seed(seed=42)\n",
        "import tensorflow_probability as tfp\n",
        "import matplotlib.pyplot as plt\n",
        "import seaborn as sns\n",
        "\n",
        "# Define scale and shift to define chain bijector\n",
        "scale = 4.5\n",
        "shift = 7.\n",
        "scale_and_shift = tfp.bijectors.Chain([\n",
        "    tfp.bijectors.Shift(shift=shift),\n",
        "    tfp.bijectors.Scale(scale=scale)\n",
        "])\n",
        "\n",
        "# Apply the forward transformation\n",
        "x = scale_and_shift.forward(x=z)"
      ]
    },
    {
      "cell_type": "markdown",
      "source": [
        "### Plot"
      ],
      "metadata": {
        "id": "j6cYvRhlfDGo"
      }
    },
    {
      "cell_type": "code",
      "source": [
        "import matplotlib.pyplot as plt\n",
        "import seaborn as sns\n",
        "\n",
        "# Plot z, x density\n",
        "fig = plt.figure(figsize=(8, 3))\n",
        "sns.histplot(label=\"z\", color=\"blue\", x=z, stat=\"density\", alpha=0.5)\n",
        "sns.histplot(label=\"x\", color=\"red\", x=x, stat=\"density\", alpha=0.5)\n",
        "plt.legend(loc=\"best\")\n",
        "fig.show()"
      ],
      "metadata": {
        "id": "uws69hzue_7o",
        "outputId": "d3fdef26-6363-4776-86c8-0744d7fba4da",
        "colab": {
          "base_uri": "https://localhost:8080/",
          "height": 291
        }
      },
      "execution_count": 3,
      "outputs": [
        {
          "output_type": "display_data",
          "data": {
            "text/plain": [
              "<Figure size 800x300 with 1 Axes>"
            ],
            "image/png": "[encoded data removed]"
          },
          "metadata": {}
        }
      ]
    },
    {
      "cell_type": "markdown",
      "metadata": {
        "id": "IEn1vRX2MOuC"
      },
      "source": [
        "#### Inverse transformation"
      ]
    },
    {
      "cell_type": "code",
      "execution_count": null,
      "metadata": {
        "id": "gEv_eTcsMOuC",
        "colab": {
          "base_uri": "https://localhost:8080/"
        },
        "outputId": "7e018324-5e7c-4568-e51a-20b0a4a462eb"
      },
      "outputs": [
        {
          "output_type": "stream",
          "name": "stdout",
          "text": [
            "tf.Tensor(0.0, shape=(), dtype=float32)\n"
          ]
        }
      ],
      "source": [
        "import tensorflow as tf\n",
        "tf.keras.utils.set_random_seed(seed=42)\n",
        "import tensorflow_probability as tfp\n",
        "\n",
        "# Apply inverse transformation\n",
        "inv_x = scale_and_shift.inverse(y=x)\n",
        "\n",
        "# Check inverse transformation\n",
        "print(tf.norm(tensor=(inv_x - z)))"
      ]
    },
    {
      "cell_type": "markdown",
      "metadata": {
        "id": "dbHbnkE7MOuD"
      },
      "source": [
        "#### Log probability"
      ]
    },
    {
      "cell_type": "code",
      "execution_count": null,
      "metadata": {
        "id": "I8u7vMB3MOuD",
        "colab": {
          "base_uri": "https://localhost:8080/"
        },
        "outputId": "fd9f65d7-af81-42a8-93d4-fe321ab3fd4e"
      },
      "outputs": [
        {
          "output_type": "stream",
          "name": "stdout",
          "text": [
            "tf.Tensor(0.0, shape=(), dtype=float32)\n"
          ]
        }
      ],
      "source": [
        "import tensorflow as tf\n",
        "tf.keras.utils.set_random_seed(seed=42)\n",
        "import tensorflow_probability as tfp\n",
        "\n",
        "# Compute log prob for x\n",
        "log_prob_x0 = normal_distrib.log_prob(value=z) \\\n",
        "    - scale_and_shift.forward_log_det_jacobian(x=z, event_ndims=0)\n",
        "\n",
        "# We can also use the inverse transformation\n",
        "x_inv = scale_and_shift.inverse(y=x)\n",
        "log_prob_x1 = normal_distrib.log_prob(value=x_inv) \\\n",
        "    + scale_and_shift.inverse_log_det_jacobian(y=x, event_ndims=0)\n",
        "\n",
        "# Check log prob\n",
        "print(tf.norm(tensor=(log_prob_x0 - log_prob_x1)))"
      ]
    },
    {
      "cell_type": "markdown",
      "metadata": {
        "id": "ygsDZP1nMOuE"
      },
      "source": [
        "### Broadcasting"
      ]
    },
    {
      "cell_type": "code",
      "execution_count": null,
      "metadata": {
        "id": "kdPwtQZzMOuE"
      },
      "outputs": [],
      "source": [
        "x = tf.random.normal(shape=(100, 1))"
      ]
    },
    {
      "cell_type": "code",
      "execution_count": null,
      "metadata": {
        "id": "MoiKkL03MOuE"
      },
      "outputs": [],
      "source": [
        "# Softfloor bijector\n",
        "\n"
      ]
    },
    {
      "cell_type": "code",
      "execution_count": null,
      "metadata": {
        "id": "eVu2oK07MOuE"
      },
      "outputs": [],
      "source": [
        "# Softfloor bijector using broadcasting\n",
        "\n"
      ]
    },
    {
      "cell_type": "code",
      "execution_count": null,
      "metadata": {
        "id": "nn6CoxMeMOuF"
      },
      "outputs": [],
      "source": [
        "# Softfloor bijector using broadcasting\n",
        "\n"
      ]
    },
    {
      "cell_type": "code",
      "execution_count": null,
      "metadata": {
        "id": "pIlh7z7uMOuF"
      },
      "outputs": [],
      "source": [
        "# Plot routine\n",
        "\n",
        "def _plot(nparams, bijector, params, x):\n",
        "    bijector_params = tuple(getattr(bijector, name) for name in params)\n",
        "    upper_params = [name[0].upper() + name[1:] for name in params]\n",
        "    fig = plt.figure(figsize=(14, 5))\n",
        "    lines = plt.plot(np.tile(x, nparams), bijector.forward(x))\n",
        "    for l in zip(lines, *bijector_params):\n",
        "        labels = \": {:.2f}, \".join(upper_params) + ': {:.2f}'\n",
        "        l[0].set_label(labels.format(*l[1:]))\n",
        "    plt.legend()\n",
        "    plt.show()"
      ]
    },
    {
      "cell_type": "code",
      "execution_count": null,
      "metadata": {
        "id": "zLSyDZlAMOuF"
      },
      "outputs": [],
      "source": [
        "# Plot\n",
        "\n",
        "x = np.linspace(-2, 2, 2000)[..., np.newaxis]"
      ]
    },
    {
      "cell_type": "code",
      "execution_count": null,
      "metadata": {
        "id": "XZKLngN5MOuG"
      },
      "outputs": [],
      "source": [
        "# Gumbel bijector using broadcasting\n",
        "\n"
      ]
    },
    {
      "cell_type": "code",
      "execution_count": null,
      "metadata": {
        "id": "TKUjfmKTMOuG"
      },
      "outputs": [],
      "source": [
        "# Plot\n",
        "\n",
        "x = np.linspace(-10, 10, 2000, dtype=np.float32)[..., np.newaxis]"
      ]
    },
    {
      "cell_type": "markdown",
      "metadata": {
        "id": "ry5F-8VkMOuG"
      },
      "source": [
        "***\n",
        "<a id=\"coding_tutorial_2\"></a>\n",
        "## The TransformedDistribution class"
      ]
    },
    {
      "cell_type": "markdown",
      "metadata": {
        "id": "lFlFWPnqMOuH"
      },
      "source": [
        "### TransformedDistribution"
      ]
    },
    {
      "cell_type": "code",
      "execution_count": null,
      "metadata": {
        "id": "Ab3Mz6dKMOuH"
      },
      "outputs": [],
      "source": [
        "# Parameters\n",
        "\n",
        "n = 10000\n",
        "loc = 0\n",
        "scale = 0.5"
      ]
    },
    {
      "cell_type": "code",
      "execution_count": null,
      "metadata": {
        "id": "1K6V9sRgMOuI"
      },
      "outputs": [],
      "source": [
        "# Normal distribution\n",
        "\n",
        "normal = tfd.Normal(loc=loc, scale=scale)"
      ]
    },
    {
      "cell_type": "code",
      "execution_count": null,
      "metadata": {
        "id": "UFg18clLMOuI"
      },
      "outputs": [],
      "source": [
        "# Display event and batch shape\n",
        "\n",
        "print('batch shape: ', normal.batch_shape)\n",
        "print('event shape: ', normal.event_shape)"
      ]
    },
    {
      "cell_type": "code",
      "execution_count": null,
      "metadata": {
        "id": "89nfjtuaMOuJ"
      },
      "outputs": [],
      "source": [
        "# Exponential bijector\n",
        "\n"
      ]
    },
    {
      "cell_type": "code",
      "execution_count": null,
      "metadata": {
        "id": "WRK0bp35MOuJ"
      },
      "outputs": [],
      "source": [
        "# Log normal transformed distribution using exp and normal bijectors\n",
        "\n"
      ]
    },
    {
      "cell_type": "code",
      "execution_count": null,
      "metadata": {
        "id": "rbJEvMW0MOuJ"
      },
      "outputs": [],
      "source": [
        "# Display event and batch shape\n",
        "\n"
      ]
    },
    {
      "cell_type": "code",
      "execution_count": null,
      "metadata": {
        "id": "JVdgXneMMOuJ"
      },
      "outputs": [],
      "source": [
        "# Base distribution\n",
        "\n"
      ]
    },
    {
      "cell_type": "markdown",
      "metadata": {
        "id": "f-6GlePHMOuh"
      },
      "source": [
        "#### Plots"
      ]
    },
    {
      "cell_type": "code",
      "execution_count": null,
      "metadata": {
        "id": "6VQixWgsMOuh"
      },
      "outputs": [],
      "source": [
        "# Plot z density\n",
        "\n"
      ]
    },
    {
      "cell_type": "code",
      "execution_count": null,
      "metadata": {
        "id": "gL6OQ9KFMOuh"
      },
      "outputs": [],
      "source": [
        "# Transformed distribution\n",
        "\n"
      ]
    },
    {
      "cell_type": "code",
      "execution_count": null,
      "metadata": {
        "id": "WibWQywqMOuh"
      },
      "outputs": [],
      "source": [
        "# Plot x density\n",
        "\n"
      ]
    },
    {
      "cell_type": "code",
      "execution_count": null,
      "metadata": {
        "id": "xk2vBp3MMOui"
      },
      "outputs": [],
      "source": [
        "# Define log normal distribution\n",
        "\n"
      ]
    },
    {
      "cell_type": "code",
      "execution_count": null,
      "metadata": {
        "id": "xIFFPqJfMOui"
      },
      "outputs": [],
      "source": [
        "# Sample log_normal\n",
        "\n"
      ]
    },
    {
      "cell_type": "code",
      "execution_count": null,
      "metadata": {
        "id": "vVO3yRxmMOui"
      },
      "outputs": [],
      "source": [
        "# Plot l density\n",
        "\n"
      ]
    },
    {
      "cell_type": "markdown",
      "metadata": {
        "id": "qOZn0E4sMOui"
      },
      "source": [
        "#### Log probability"
      ]
    },
    {
      "cell_type": "code",
      "execution_count": null,
      "metadata": {
        "id": "FXcrgnDcMOui"
      },
      "outputs": [],
      "source": [
        "# Log prob of LogNormal\n",
        "\n"
      ]
    },
    {
      "cell_type": "code",
      "execution_count": null,
      "metadata": {
        "id": "s-9fOvh6MOui"
      },
      "outputs": [],
      "source": [
        "# Log prob of log normal transformed distribution\n",
        "\n"
      ]
    },
    {
      "cell_type": "code",
      "execution_count": null,
      "metadata": {
        "id": "fqEIKKPaMOui"
      },
      "outputs": [],
      "source": [
        "# Check log probs\n",
        "\n"
      ]
    },
    {
      "cell_type": "markdown",
      "metadata": {
        "id": "61u3tdN1MOuj"
      },
      "source": [
        "### Event shape and batch shape"
      ]
    },
    {
      "cell_type": "code",
      "execution_count": null,
      "metadata": {
        "id": "f2eQEz6PMOuj"
      },
      "outputs": [],
      "source": [
        "# Set a scaling lower triangular matrix\n",
        "\n"
      ]
    },
    {
      "cell_type": "code",
      "execution_count": null,
      "metadata": {
        "id": "TNd2KlVLMOuj"
      },
      "outputs": [],
      "source": [
        "# View of scale_low_tri\n",
        "\n"
      ]
    },
    {
      "cell_type": "code",
      "execution_count": null,
      "metadata": {
        "id": "wMlIkdUEMOuj"
      },
      "outputs": [],
      "source": [
        "# Define scale linear operator\n",
        "\n"
      ]
    },
    {
      "cell_type": "code",
      "execution_count": null,
      "metadata": {
        "id": "KQtTgU4nMOuj"
      },
      "outputs": [],
      "source": [
        "# Define scale linear operator transformed distribution with a batch and event shape\n",
        "\n"
      ]
    },
    {
      "cell_type": "code",
      "execution_count": null,
      "metadata": {
        "id": "wxyUnCvfMOuj"
      },
      "outputs": [],
      "source": [
        "# Display event and batch shape\n",
        "\n"
      ]
    },
    {
      "cell_type": "code",
      "execution_count": null,
      "metadata": {
        "id": "t2htXTt0MOuj"
      },
      "outputs": [],
      "source": [
        "# Sample\n",
        "\n"
      ]
    },
    {
      "cell_type": "code",
      "execution_count": null,
      "metadata": {
        "id": "DrpifFEBMOuj"
      },
      "outputs": [],
      "source": [
        "# Define a MultivariateNormalLinearOperator distribution\n",
        "\n"
      ]
    },
    {
      "cell_type": "code",
      "execution_count": null,
      "metadata": {
        "id": "Vfq1R-EFMOuk"
      },
      "outputs": [],
      "source": [
        "# Display event and batch shape\n",
        "\n"
      ]
    },
    {
      "cell_type": "code",
      "execution_count": null,
      "metadata": {
        "id": "KHP_olDQMOuk"
      },
      "outputs": [],
      "source": [
        "# Sample\n",
        "\n"
      ]
    },
    {
      "cell_type": "code",
      "execution_count": null,
      "metadata": {
        "id": "bBe3MklKMOuk"
      },
      "outputs": [],
      "source": [
        "# Check\n",
        "\n"
      ]
    },
    {
      "cell_type": "markdown",
      "metadata": {
        "id": "cZyb3hHuMOuk"
      },
      "source": [
        "***\n",
        "<a id=\"coding_tutorial_3\"></a>\n",
        "## Subclassing bijectors"
      ]
    },
    {
      "cell_type": "code",
      "execution_count": null,
      "metadata": {
        "id": "L061kfNGMOuk"
      },
      "outputs": [],
      "source": [
        "# Define a new bijector: Cubic\n",
        "\n",
        "class Cubic(tfb.Bijector):\n",
        "\n",
        "    def __init__(self, a, b, validate_args=False, name='Cubic'):\n",
        "        self.a = tf.cast(a, tf.float32)\n",
        "        self.b = tf.cast(b, tf.float32)\n",
        "        if validate_args:\n",
        "            assert tf.reduce_mean(tf.cast(tf.math.greater_equal(tf.abs(self.a), 1e-5), tf.float32)) == 1.0\n",
        "            assert tf.reduce_mean(tf.cast(tf.math.greater_equal(tf.abs(self.b), 1e-5), tf.float32)) == 1.0\n",
        "        super(Cubic, self).__init__(\n",
        "            validate_args=validate_args, forward_min_event_ndims=0, name=name)\n"
      ]
    },
    {
      "cell_type": "code",
      "execution_count": null,
      "metadata": {
        "id": "oq5dK6UtMOuk"
      },
      "outputs": [],
      "source": [
        "# Cubic bijector\n",
        "\n"
      ]
    },
    {
      "cell_type": "code",
      "execution_count": null,
      "metadata": {
        "id": "YG8U66wqMOuk"
      },
      "outputs": [],
      "source": [
        "# Apply forward transformation\n",
        "\n"
      ]
    },
    {
      "cell_type": "code",
      "execution_count": null,
      "metadata": {
        "id": "5Jwxy6tLMOul"
      },
      "outputs": [],
      "source": [
        "# Check inverse\n",
        "\n"
      ]
    },
    {
      "cell_type": "markdown",
      "metadata": {
        "id": "4vzLWDbNMOul"
      },
      "source": [
        "#### Function plots"
      ]
    },
    {
      "cell_type": "code",
      "execution_count": null,
      "metadata": {
        "id": "MuphXj-ZMOul"
      },
      "outputs": [],
      "source": [
        "# Plot the forward transformation\n",
        "\n",
        "x = np.linspace(-10, 10, 500).reshape(-1, 1)"
      ]
    },
    {
      "cell_type": "code",
      "execution_count": null,
      "metadata": {
        "id": "8qlUlYckMOul"
      },
      "outputs": [],
      "source": [
        "# Display shape\n",
        "\n"
      ]
    },
    {
      "cell_type": "code",
      "execution_count": null,
      "metadata": {
        "id": "kHILav8FMOul"
      },
      "outputs": [],
      "source": [
        "# Plot the inverse\n",
        "\n"
      ]
    },
    {
      "cell_type": "code",
      "execution_count": null,
      "metadata": {
        "id": "EF7BL3FpMOul"
      },
      "outputs": [],
      "source": [
        "# Plot the forward log Jacobian determinant\n",
        "\n"
      ]
    },
    {
      "cell_type": "code",
      "execution_count": null,
      "metadata": {
        "id": "Qif_uEEQMOul"
      },
      "outputs": [],
      "source": [
        "# Plot the inverse log Jacobian determinant\n",
        "\n"
      ]
    },
    {
      "cell_type": "markdown",
      "metadata": {
        "id": "orTprG3GMOum"
      },
      "source": [
        "#### TransformedDistribution and plots"
      ]
    },
    {
      "cell_type": "code",
      "execution_count": null,
      "metadata": {
        "id": "6u31B6OWMOum"
      },
      "outputs": [],
      "source": [
        "# Create a transformed distribution with Cubic\n",
        "\n"
      ]
    },
    {
      "cell_type": "code",
      "execution_count": null,
      "metadata": {
        "id": "NJ9YkMKIMOum"
      },
      "outputs": [],
      "source": [
        "# Sample cubed_normal\n",
        "\n"
      ]
    },
    {
      "cell_type": "code",
      "execution_count": null,
      "metadata": {
        "id": "iP--6r-HMOum"
      },
      "outputs": [],
      "source": [
        "# Plot histograms\n",
        "\n",
        "plt.figure(figsize=(12, 4))\n",
        "plt.subplot(1, 2, 1)\n",
        "plt.hist(g[..., 0], bins=50, density=True)\n",
        "plt.subplot(1, 2, 2)\n",
        "plt.hist(g[..., 1], bins=50, density=True)\n",
        "plt.show()"
      ]
    },
    {
      "cell_type": "code",
      "execution_count": null,
      "metadata": {
        "id": "90_cqNXJMOum"
      },
      "outputs": [],
      "source": [
        "# Make contour plot\n",
        "\n",
        "xx = np.linspace(-0.5, 0.5, 100)\n",
        "yy = np.linspace(-0.5, 0.5, 100)\n",
        "X, Y = np.meshgrid(xx, yy)\n",
        "\n",
        "fig,ax=plt.subplots(1,1)\n",
        "Z = cubed_normal.prob(np.dstack((X, Y)))\n",
        "cp = ax.contourf(X, Y, Z)\n",
        "fig.colorbar(cp) # Add a colorbar to a plot\n",
        "ax.set_title('Filled Contours Plot')\n",
        "ax.set_xlabel('x')\n",
        "ax.set_ylabel('y')\n",
        "plt.show()"
      ]
    },
    {
      "cell_type": "code",
      "execution_count": null,
      "metadata": {
        "id": "V8lnqZspMOum"
      },
      "outputs": [],
      "source": [
        "# Create a transformed distribution with the inverse of Cube\n",
        "\n"
      ]
    },
    {
      "cell_type": "code",
      "execution_count": null,
      "metadata": {
        "id": "Z5PWEsmsMOum"
      },
      "outputs": [],
      "source": [
        "# Samble inv_cubed_normal\n",
        "\n"
      ]
    },
    {
      "cell_type": "code",
      "execution_count": null,
      "metadata": {
        "id": "sFnVnqlQMOun"
      },
      "outputs": [],
      "source": [
        "# Make contour plot\n",
        "\n",
        "xx = np.linspace(-3.0, 3.0, 100)\n",
        "yy = np.linspace(-2.0, 2.0, 100)\n",
        "X, Y = np.meshgrid(xx, yy)\n",
        "\n",
        "fig,ax=plt.subplots(1,1)\n",
        "Z = inv_cubed_normal.prob(np.dstack((X, Y)))\n",
        "cp = ax.contourf(X, Y, Z)\n",
        "fig.colorbar(cp) # Add a colorbar to a plot\n",
        "ax.set_title('Filled Contours Plot')\n",
        "ax.set_xlabel('x')\n",
        "ax.set_ylabel('y')\n",
        "plt.show()"
      ]
    },
    {
      "cell_type": "code",
      "execution_count": null,
      "metadata": {
        "id": "KT1f3LekMOun"
      },
      "outputs": [],
      "source": [
        "# Plot histograms\n",
        "\n",
        "plt.figure(figsize=(12, 4))\n",
        "plt.subplot(1, 2, 1)\n",
        "plt.hist(g[..., 0], bins=50, density=True)\n",
        "plt.subplot(1, 2, 2)\n",
        "plt.hist(g[..., 1], bins=50, density=True)\n",
        "plt.show()"
      ]
    },
    {
      "cell_type": "markdown",
      "metadata": {
        "id": "q2F6OUQBMOun"
      },
      "source": [
        "#### Training the bijector"
      ]
    },
    {
      "cell_type": "code",
      "execution_count": null,
      "metadata": {
        "id": "pTk16a6XMOun"
      },
      "outputs": [],
      "source": [
        "# Create a mixture of four Gaussians\n",
        "\n"
      ]
    },
    {
      "cell_type": "code",
      "execution_count": null,
      "metadata": {
        "id": "D7HaOnT4MOun"
      },
      "outputs": [],
      "source": [
        "# Create the dataset\n",
        "\n",
        "x_train = mix_gauss.sample(10000)\n",
        "x_train = tf.data.Dataset.from_tensor_slices(x_train)\n",
        "x_train = x_train.batch(128)\n",
        "\n",
        "x_valid = mix_gauss.sample(1000)\n",
        "x_valid = tf.data.Dataset.from_tensor_slices(x_valid)\n",
        "x_valid = x_valid.batch(128)\n",
        "\n",
        "print(x_train.element_spec)\n",
        "print(x_valid.element_spec)"
      ]
    },
    {
      "cell_type": "code",
      "execution_count": null,
      "metadata": {
        "id": "U-pIEUaPMOun"
      },
      "outputs": [],
      "source": [
        "# Plot the data distribution\n",
        "\n"
      ]
    },
    {
      "cell_type": "code",
      "execution_count": null,
      "metadata": {
        "id": "CeWXhMpvMOuo"
      },
      "outputs": [],
      "source": [
        "# Make a trainable bijector\n",
        "\n"
      ]
    },
    {
      "cell_type": "code",
      "execution_count": null,
      "metadata": {
        "id": "YtESgcNpMOuo"
      },
      "outputs": [],
      "source": [
        "# Make a trainable transformed distribution\n",
        "\n"
      ]
    },
    {
      "cell_type": "code",
      "execution_count": null,
      "metadata": {
        "id": "H5Hh2OkHMOuo"
      },
      "outputs": [],
      "source": [
        "# Plot the data and learned distributions\n",
        "\n"
      ]
    },
    {
      "cell_type": "code",
      "execution_count": null,
      "metadata": {
        "id": "QyiqYU9QMOuo"
      },
      "outputs": [],
      "source": [
        "# Train the bijector\n",
        "\n",
        "num_epochs = 10\n",
        "opt = tf.keras.optimizers.Adam()\n",
        "train_losses = []\n",
        "valid_losses = []\n",
        "\n",
        "for epoch in range(num_epochs):\n",
        "    print(\"Epoch {}...\".format(epoch))\n",
        "    train_loss = tf.keras.metrics.Mean()\n",
        "    val_loss = tf.keras.metrics.Mean()\n",
        "    for train_batch in x_train:\n",
        "        with tf.GradientTape() as tape:\n",
        "            tape.watch(trainable_inv_cubic.trainable_variables)\n",
        "            loss = -trainable_dist.log_prob(train_batch)\n",
        "        train_loss(loss)\n",
        "        grads = tape.gradient(loss, trainable_inv_cubic.trainable_variables)\n",
        "        opt.apply_gradients(zip(grads, trainable_inv_cubic.trainable_variables))\n",
        "    train_losses.append(train_loss.result().numpy())\n",
        "\n",
        "    # Validation\n",
        "    for valid_batch in x_valid:\n",
        "        loss = -trainable_dist.log_prob(valid_batch)\n",
        "        val_loss(loss)\n",
        "    valid_losses.append(val_loss.result().numpy())"
      ]
    },
    {
      "cell_type": "code",
      "execution_count": null,
      "metadata": {
        "id": "Z5kfimX8MOuo"
      },
      "outputs": [],
      "source": [
        "# Plot the learning curves\n",
        "\n",
        "plt.plot(train_losses, label='train')\n",
        "plt.plot(valid_losses, label='valid')\n",
        "plt.legend()\n",
        "plt.xlabel(\"Epochs\")\n",
        "plt.ylabel(\"Negative log likelihood\")\n",
        "plt.title(\"Training and validation loss curves\")\n",
        "plt.show()"
      ]
    },
    {
      "cell_type": "code",
      "execution_count": null,
      "metadata": {
        "id": "HpOaD41bMOuo"
      },
      "outputs": [],
      "source": [
        "# Plot the data and learned distributions\n",
        "\n"
      ]
    },
    {
      "cell_type": "code",
      "execution_count": null,
      "metadata": {
        "id": "wU1MYTfQMOuo"
      },
      "outputs": [],
      "source": [
        "# Display trainable variables\n",
        "\n"
      ]
    },
    {
      "cell_type": "markdown",
      "metadata": {
        "id": "lHqODdf9MOuo"
      },
      "source": [
        "***\n",
        "<a id=\"coding_tutorial_4\"></a>\n",
        "## Normalising flows"
      ]
    },
    {
      "cell_type": "code",
      "execution_count": null,
      "metadata": {
        "id": "e9tr9CUpMOup"
      },
      "outputs": [],
      "source": [
        "# Load dataset\n",
        "\n",
        "from sklearn import datasets\n",
        "from sklearn.preprocessing import StandardScaler\n",
        "n_samples = 1000\n",
        "noisy_moons = datasets.make_moons(n_samples=n_samples, noise=.05)\n",
        "X, y = noisy_moons\n",
        "X_data = StandardScaler().fit_transform(X)\n",
        "xlim, ylim = [-2, 2], [-2, 2]"
      ]
    },
    {
      "cell_type": "code",
      "execution_count": null,
      "metadata": {
        "id": "jcCMIHraMOup"
      },
      "outputs": [],
      "source": [
        "# Plot with labels\n",
        "\n",
        "y_label = y.astype(np.bool)\n",
        "X_train, Y_train = X_data[..., 0], X_data[..., 1]\n",
        "plt.scatter(X_train[y_label], Y_train[y_label], s=10, color='blue')\n",
        "plt.scatter(X_train[y_label == False], Y_train[y_label == False], s=10, color='red')\n",
        "plt.legend(['label: 1', 'label: 0'])\n",
        "plt.xlim(xlim)\n",
        "plt.ylim(ylim)"
      ]
    },
    {
      "cell_type": "code",
      "execution_count": null,
      "metadata": {
        "id": "zxehPswQMOup"
      },
      "outputs": [],
      "source": [
        "# Define base distribution\n",
        "\n"
      ]
    },
    {
      "cell_type": "code",
      "execution_count": null,
      "metadata": {
        "id": "sZHvlnuuMOup"
      },
      "outputs": [],
      "source": [
        "# Define the trainable distribution\n",
        "\n"
      ]
    },
    {
      "cell_type": "code",
      "execution_count": null,
      "metadata": {
        "id": "gCj6KoTrMOup"
      },
      "outputs": [],
      "source": [
        "from mpl_toolkits.axes_grid1 import make_axes_locatable\n",
        "from tensorflow.compat.v1 import logging\n",
        "logging.set_verbosity(logging.ERROR)"
      ]
    },
    {
      "cell_type": "code",
      "execution_count": null,
      "metadata": {
        "id": "_5EORh_vMOup"
      },
      "outputs": [],
      "source": [
        "# Define a plot contour routine\n",
        "\n",
        "def plot_contour_prob(dist, rows=1, title=[''], scale_fig=4):\n",
        "    cols = int(len(dist) / rows)\n",
        "    xx = np.linspace(-5.0, 5.0, 100)\n",
        "    yy = np.linspace(-5.0, 5.0, 100)\n",
        "    X, Y = np.meshgrid(xx, yy)\n",
        "\n",
        "    fig, ax = plt.subplots(rows, cols, figsize=(scale_fig * cols, scale_fig * rows))\n",
        "    fig.tight_layout(pad=4.5)\n",
        "\n",
        "    i = 0\n",
        "    for r in range(rows):\n",
        "        for c in range(cols):\n",
        "            Z = dist[i].prob(np.dstack((X, Y)))\n",
        "            if len(dist) == 1:\n",
        "                axi = ax\n",
        "            elif rows == 1:\n",
        "                axi = ax[c]\n",
        "            else:\n",
        "                axi = ax[r, c]\n",
        "\n",
        "            # Plot contour\n",
        "            p = axi.contourf(X, Y, Z)\n",
        "\n",
        "            # Add a colorbar\n",
        "            divider = make_axes_locatable(axi)\n",
        "            cax = divider.append_axes(\"right\", size=\"5%\", pad=0.1)\n",
        "            cbar = fig.colorbar(p, cax=cax)\n",
        "\n",
        "            # Set title and labels\n",
        "            axi.set_title('Filled Contours Plot: ' + str(title[i]))\n",
        "            axi.set_xlabel('x')\n",
        "            axi.set_ylabel('y')\n",
        "\n",
        "            i += 1\n",
        "    plt.show()"
      ]
    },
    {
      "cell_type": "code",
      "execution_count": null,
      "metadata": {
        "id": "ZkzSn6_hMOup"
      },
      "outputs": [],
      "source": [
        "# Plot contour\n",
        "\n"
      ]
    },
    {
      "cell_type": "code",
      "execution_count": null,
      "metadata": {
        "id": "cyKhGMC0MOuq"
      },
      "outputs": [],
      "source": [
        "from tensorflow.keras.layers import Input\n",
        "from tensorflow.keras import Model"
      ]
    },
    {
      "cell_type": "code",
      "execution_count": null,
      "metadata": {
        "id": "Zgtm006HMOuq"
      },
      "outputs": [],
      "source": [
        "# Make samples\n",
        "\n"
      ]
    },
    {
      "cell_type": "code",
      "execution_count": null,
      "metadata": {
        "id": "yfYIG4TqMOuq"
      },
      "outputs": [],
      "source": [
        "# Define a scatter plot routine for the bijectors\n",
        "\n",
        "def _plot(results, rows=1, legend=False):\n",
        "    cols = int(len(results) / rows)\n",
        "    f, arr = plt.subplots(rows, cols, figsize=(4 * cols, 4 * rows))\n",
        "    i = 0\n",
        "    for r in range(rows):\n",
        "        for c in range(cols):\n",
        "            res = results[i]\n",
        "            X, Y = res[..., 0].numpy(), res[..., 1].numpy()\n",
        "            if rows == 1:\n",
        "                p = arr[c]\n",
        "            else:\n",
        "                p = arr[r, c]\n",
        "            p.scatter(X, Y, s=10, color='red')\n",
        "            p.set_xlim([-5, 5])\n",
        "            p.set_ylim([-5, 5])\n",
        "            p.set_title(names[i])\n",
        "\n",
        "            i += 1"
      ]
    },
    {
      "cell_type": "code",
      "execution_count": null,
      "metadata": {
        "id": "gk2QfF-4MOuq"
      },
      "outputs": [],
      "source": [
        "# Plot\n",
        "\n"
      ]
    },
    {
      "cell_type": "markdown",
      "metadata": {
        "id": "Z1h50ZggMOuq"
      },
      "source": [
        "#### Training a MaskedAutoregressiveFlow bijector"
      ]
    },
    {
      "cell_type": "code",
      "execution_count": null,
      "metadata": {
        "id": "TogDqJRNMOuq"
      },
      "outputs": [],
      "source": [
        "from tensorflow.keras.callbacks import LambdaCallback"
      ]
    },
    {
      "cell_type": "code",
      "execution_count": null,
      "metadata": {
        "id": "HS5lZvZ0MOur"
      },
      "outputs": [],
      "source": [
        "# Define a training routine\n",
        "\n",
        "def train_dist_routine(trainable_distribution, n_epochs=200, batch_size=None, n_disp=100):\n",
        "    x_ = Input(shape=(2,), dtype=tf.float32)\n",
        "    log_prob_ = trainable_distribution.log_prob(x_)\n",
        "    model = Model(x_, log_prob_)\n",
        "\n",
        "    model.compile(optimizer=tf.optimizers.Adam(),\n",
        "                  loss=lambda _, log_prob: -log_prob)\n",
        "\n",
        "    ns = X_data.shape[0]\n",
        "    if batch_size is None:\n",
        "        batch_size = ns\n",
        "\n",
        "    # Display the loss every n_disp epoch\n",
        "    epoch_callback = LambdaCallback(\n",
        "        on_epoch_end=lambda epoch, logs:\n",
        "                        print('\\n Epoch {}/{}'.format(epoch+1, n_epochs, logs),\n",
        "                              '\\n\\t ' + (': {:.4f}, '.join(logs.keys()) + ': {:.4f}').format(*logs.values()))\n",
        "                                       if epoch % n_disp == 0 else False\n",
        "    )\n",
        "\n",
        "\n",
        "    history = model.fit(x=X_data,\n",
        "                        y=np.zeros((ns, 0), dtype=np.float32),\n",
        "                        batch_size=batch_size,\n",
        "                        epochs=n_epochs,\n",
        "                        validation_split=0.2,\n",
        "                        shuffle=True,\n",
        "                        verbose=False,\n",
        "                        callbacks=[epoch_callback])\n",
        "    return history"
      ]
    },
    {
      "cell_type": "code",
      "execution_count": null,
      "metadata": {
        "id": "-BwVhsEIMOur"
      },
      "outputs": [],
      "source": [
        "# Train the distribution\n",
        "\n"
      ]
    },
    {
      "cell_type": "code",
      "execution_count": null,
      "metadata": {
        "id": "K303OhtFMOur"
      },
      "outputs": [],
      "source": [
        "# Get losses\n",
        "\n",
        "train_losses = history.history['loss']\n",
        "valid_losses = history.history['val_loss']"
      ]
    },
    {
      "cell_type": "code",
      "execution_count": null,
      "metadata": {
        "id": "8XH64Ef-MOur"
      },
      "outputs": [],
      "source": [
        "# Plot loss vs epoch\n",
        "\n",
        "plt.plot(train_losses, label='train')\n",
        "plt.plot(valid_losses, label='valid')\n",
        "plt.legend()\n",
        "plt.xlabel(\"Epochs\")\n",
        "plt.ylabel(\"Negative log likelihood\")\n",
        "plt.title(\"Training and validation loss curves\")\n",
        "plt.show()"
      ]
    },
    {
      "cell_type": "code",
      "execution_count": null,
      "metadata": {
        "id": "OvEzlJVdMOur"
      },
      "outputs": [],
      "source": [
        "# Make samples\n",
        "\n"
      ]
    },
    {
      "cell_type": "code",
      "execution_count": null,
      "metadata": {
        "id": "TizQz6HdMOur"
      },
      "outputs": [],
      "source": [
        "# Plot\n",
        "\n"
      ]
    },
    {
      "cell_type": "code",
      "execution_count": null,
      "metadata": {
        "id": "hXg0CD90MOur"
      },
      "outputs": [],
      "source": [
        "# Define a plot routine\n",
        "\n",
        "def visualize_training_data(samples):\n",
        "    f, arr = plt.subplots(1, 2, figsize=(15, 6))\n",
        "    names = ['Data', 'Trainable']\n",
        "    samples = [tf.constant(X_data), samples[-1]]\n",
        "\n",
        "    for i in range(2):\n",
        "        res = samples[i]\n",
        "        X, Y = res[..., 0].numpy(), res[..., 1].numpy()\n",
        "        arr[i].scatter(X, Y, s=10, color='red')\n",
        "        arr[i].set_xlim([-2, 2])\n",
        "        arr[i].set_ylim([-2, 2])\n",
        "        arr[i].set_title(names[i])\n",
        "\n",
        "visualize_training_data(samples)"
      ]
    },
    {
      "cell_type": "code",
      "execution_count": null,
      "metadata": {
        "id": "5fxonnU_MOur"
      },
      "outputs": [],
      "source": [
        "# Plot contour\n",
        "\n"
      ]
    },
    {
      "cell_type": "markdown",
      "metadata": {
        "id": "qqp5uBgwMOus"
      },
      "source": [
        "#### Training a chain of MaskedAutoregressiveFlow bijectors"
      ]
    },
    {
      "cell_type": "code",
      "execution_count": null,
      "metadata": {
        "id": "dEICKoa6MOus"
      },
      "outputs": [],
      "source": [
        "# Define a more expressive model\n",
        "\n"
      ]
    },
    {
      "cell_type": "code",
      "execution_count": null,
      "metadata": {
        "id": "WVK7-QqcMOus"
      },
      "outputs": [],
      "source": [
        "# Define the trainable distribution\n",
        "\n"
      ]
    },
    {
      "cell_type": "code",
      "execution_count": null,
      "metadata": {
        "id": "7NuXkPu0MOus"
      },
      "outputs": [],
      "source": [
        "# Make samples\n",
        "\n",
        "def make_samples():\n",
        "    x = base_distribution.sample((1000, 2))\n",
        "    samples = [x]\n",
        "    names = [base_distribution.name]\n",
        "    for bijector in reversed(trainable_distribution.bijector.bijectors):\n",
        "        x = bijector.forward(x)\n",
        "        samples.append(x)\n",
        "        names.append(bijector.name)\n",
        "    return names, samples\n",
        "\n",
        "names, samples = make_samples()"
      ]
    },
    {
      "cell_type": "code",
      "execution_count": null,
      "metadata": {
        "id": "_H5fjhW5MOus"
      },
      "outputs": [],
      "source": [
        "# Plot\n",
        "\n"
      ]
    },
    {
      "cell_type": "code",
      "execution_count": null,
      "metadata": {
        "id": "pwREqHdDMOus"
      },
      "outputs": [],
      "source": [
        "# Plot\n",
        "\n"
      ]
    },
    {
      "cell_type": "code",
      "execution_count": null,
      "metadata": {
        "id": "kNziASkpMOus"
      },
      "outputs": [],
      "source": [
        "# Train the distribution\n",
        "\n"
      ]
    },
    {
      "cell_type": "code",
      "execution_count": null,
      "metadata": {
        "id": "xGgWvPKSMOus"
      },
      "outputs": [],
      "source": [
        "# Get losses\n",
        "\n",
        "train_losses = history.history['loss']\n",
        "valid_losses = history.history['val_loss']"
      ]
    },
    {
      "cell_type": "code",
      "execution_count": null,
      "metadata": {
        "id": "ABBjesKeMOus"
      },
      "outputs": [],
      "source": [
        "# Plot loss vs epoch\n",
        "\n",
        "plt.plot(train_losses, label='train')\n",
        "plt.plot(valid_losses, label='valid')\n",
        "plt.legend()\n",
        "plt.xlabel(\"Epochs\")\n",
        "plt.ylabel(\"Negative log likelihood\")\n",
        "plt.title(\"Training and validation loss curves\")\n",
        "plt.show()"
      ]
    },
    {
      "cell_type": "code",
      "execution_count": null,
      "metadata": {
        "id": "Jdqm7f2MMOut"
      },
      "outputs": [],
      "source": [
        "# Make samples and plot\n",
        "\n"
      ]
    },
    {
      "cell_type": "code",
      "execution_count": null,
      "metadata": {
        "id": "nSN7aI1uMOut"
      },
      "outputs": [],
      "source": [
        "# Plot\n",
        "\n"
      ]
    },
    {
      "cell_type": "code",
      "execution_count": null,
      "metadata": {
        "id": "EwCMj1lqMOut"
      },
      "outputs": [],
      "source": [
        "# Plot\n",
        "\n"
      ]
    }
  ],
  "metadata": {
    "kernelspec": {
      "display_name": "Python 3",
      "name": "python3"
    },
    "language_info": {
      "codemirror_mode": {
        "name": "ipython",
        "version": 3
      },
      "file_extension": ".py",
      "mimetype": "text/x-python",
      "name": "python",
      "nbconvert_exporter": "python",
      "pygments_lexer": "ipython3",
      "version": "3.7.1"
    },
    "colab": {
      "provenance": [],
      "gpuType": "T4",
      "include_colab_link": true
    },
    "accelerator": "GPU"
  },
  "nbformat": 4,
  "nbformat_minor": 0
}