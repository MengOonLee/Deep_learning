{
 "cells": [
  {
   "cell_type": "code",
   "execution_count": null,
   "metadata": {},
   "outputs": [],
   "source": [
    "import numpy as np\n",
    "import pandas as pd\n",
    "import matplotlib.pyplot as plt\n",
    "import tensorflow as tf\n",
    "import tensorflow_probability as tfp\n",
    "tfd = tfp.distributions\n",
    "tfb = tfp.bijectors\n",
    "tfpl = tfp.layers"
   ]
  },
  {
   "cell_type": "markdown",
   "metadata": {},
   "source": [
    "# Bijectors and normalising flows"
   ]
  },
  {
   "cell_type": "markdown",
   "metadata": {},
   "source": [
    " ## Coding tutorials\n",
    " #### [1. Bijectors](#coding_tutorial_1)\n",
    " #### [2. The TransformedDistribution class](#coding_tutorial_2)\n",
    " #### [3. Subclassing bijectors](#coding_tutorial_3)\n",
    " #### [4. Normalising flows](#coding_tutorial_4)"
   ]
  },
  {
   "cell_type": "markdown",
   "metadata": {},
   "source": [
    "***\n",
    "<a id=\"coding_tutorial_1\"></a>\n",
    "## Bijectors"
   ]
  },
  {
   "cell_type": "code",
   "execution_count": 1,
   "metadata": {},
   "outputs": [
    {
     "name": "stdout",
     "output_type": "stream",
     "text": [
      "x: tf.Tensor([ 1.1344042 -2.3139892 -1.3672998], shape=(3,), dtype=float32)\n",
      "z: tf.Tensor([ 0.06720211 -1.6569946  -1.1836499 ], shape=(3,), dtype=float32)\n",
      "log_prob x: tf.Tensor([-1.6143438 -2.9849012 -2.3125992], shape=(3,), dtype=float32)\n"
     ]
    }
   ],
   "source": [
    "import tensorflow as tf\n",
    "tf.random.set_seed(seed=42)\n",
    "import tensorflow_probability as tfp\n",
    "\n",
    "normal_distrib = tfp.distributions.Normal(loc=0., scale=1.)\n",
    "z = normal_distrib.sample(sample_shape=(3,))\n",
    "\n",
    "scale_and_shift = tfp.bijectors.Chain(bijectors=[\n",
    "    tfp.bijectors.Shift(shift=1.),\n",
    "    tfp.bijectors.Scale(scale=2.)\n",
    "])\n",
    "\n",
    "x = scale_and_shift.forward(x=z)\n",
    "print('x:', x)\n",
    "z = scale_and_shift.inverse(y=x)\n",
    "print('z:', z)\n",
    "\n",
    "log_prob_x = normal_distrib.log_prob(value=z)\\\n",
    "    - scale_and_shift.forward_log_det_jacobian(x=z, event_ndims=0)\n",
    "print('log_prob x:', log_prob_x)"
   ]
  },
  {
   "cell_type": "code",
   "execution_count": 1,
   "metadata": {},
   "outputs": [],
   "source": [
    "import tensorflow as tf\n",
    "tf.random.set_seed(seed=42)\n",
    "import tensorflow_probability as tfp\n",
    "\n",
    "# Define base distribution\n",
    "\n",
    "normal = tfp.distributions.Normal(loc=0., scale=1.)"
   ]
  },
  {
   "cell_type": "code",
   "execution_count": 2,
   "metadata": {},
   "outputs": [],
   "source": [
    "# Sample from base distribution\n",
    "\n",
    "n = 10000\n",
    "z = normal.sample(sample_shape=(n,))"
   ]
  },
  {
   "cell_type": "markdown",
   "metadata": {},
   "source": [
    "### Scale and shift bijector"
   ]
  },
  {
   "cell_type": "code",
   "execution_count": 3,
   "metadata": {},
   "outputs": [],
   "source": [
    "# Define scale and shift\n",
    "\n",
    "scale = 4.5\n",
    "shift = 7"
   ]
  },
  {
   "cell_type": "code",
   "execution_count": 4,
   "metadata": {},
   "outputs": [],
   "source": [
    "import tensorflow as tf\n",
    "tf.random.set_seed(seed=42)\n",
    "import tensorflow_probability as tfp\n",
    "\n",
    "# Define chain bijector\n",
    "\n",
    "scale_and_shift = tfp.bijectors.Chain(bijectors=[\n",
    "    tfp.bijectors.Shift(shift=shift),\n",
    "    tfp.bijectors.Scale(scale=scale)\n",
    "])"
   ]
  },
  {
   "cell_type": "code",
   "execution_count": 5,
   "metadata": {},
   "outputs": [],
   "source": [
    "import tensorflow as tf\n",
    "tf.random.set_seed(seed=42)\n",
    "import tensorflow_probability as tfp\n",
    "\n",
    "# We can also use call methods\n",
    "\n",
    "scale_transf = tfp.bijectors.Scale(scale=scale)\n",
    "shift_transf = tfp.bijectors.Shift(shift=shift)\n",
    "scale_and_shift = shift_transf(scale_transf)"
   ]
  },
  {
   "cell_type": "code",
   "execution_count": 5,
   "metadata": {},
   "outputs": [],
   "source": [
    "# Apply the forward transformation\n",
    "\n",
    "x = scale_and_shift.forward(x=z)"
   ]
  },
  {
   "cell_type": "code",
   "execution_count": 6,
   "metadata": {},
   "outputs": [
    {
     "data": {
      "text/plain": [
       "<tf.Tensor: shape=(), dtype=float32, numpy=0.0>"
      ]
     },
     "execution_count": 6,
     "metadata": {},
     "output_type": "execute_result"
    }
   ],
   "source": [
    "import tensorflow as tf\n",
    "tf.random.set_seed(seed=42)\n",
    "\n",
    "# Check the forward transformation\n",
    "\n",
    "tf.norm(tensor=x-(scale*z+shift))"
   ]
  },
  {
   "cell_type": "markdown",
   "metadata": {},
   "source": [
    "#### Plots"
   ]
  },
  {
   "cell_type": "code",
   "execution_count": 8,
   "metadata": {},
   "outputs": [
    {
     "data": {
      "image/png": "[encoded data removed]",
      "text/plain": [
       "<Figure size 432x288 with 1 Axes>"
      ]
     },
     "metadata": {
      "needs_background": "light"
     },
     "output_type": "display_data"
    }
   ],
   "source": [
    "import matplotlib.pyplot as plt\n",
    "\n",
    "# Plot z density\n",
    "\n",
    "fig = plt.figure()\n",
    "plt.hist(x=z, bins=60, density=True)\n",
    "fig.show()"
   ]
  },
  {
   "cell_type": "code",
   "execution_count": 9,
   "metadata": {},
   "outputs": [
    {
     "data": {
      "image/png": "[encoded data removed]",
      "text/plain": [
       "<Figure size 432x288 with 1 Axes>"
      ]
     },
     "metadata": {
      "needs_background": "light"
     },
     "output_type": "display_data"
    }
   ],
   "source": [
    "import matplotlib.pyplot as plt\n",
    "\n",
    "# Plot x density\n",
    "\n",
    "fig = plt.figure()\n",
    "plt.hist(x=x, bins=60, density=True)\n",
    "fig.show()"
   ]
  },
  {
   "cell_type": "markdown",
   "metadata": {},
   "source": [
    "#### Inverse transformation"
   ]
  },
  {
   "cell_type": "code",
   "execution_count": 10,
   "metadata": {},
   "outputs": [],
   "source": [
    "# Apply inverse transformation\n",
    "\n",
    "inv_x = scale_and_shift.inverse(y=x)"
   ]
  },
  {
   "cell_type": "code",
   "execution_count": 11,
   "metadata": {},
   "outputs": [
    {
     "data": {
      "text/plain": [
       "<tf.Tensor: shape=(), dtype=float32, numpy=0.0>"
      ]
     },
     "execution_count": 11,
     "metadata": {},
     "output_type": "execute_result"
    }
   ],
   "source": [
    "import tensorflow as tf\n",
    "tf.random.set_seed(seed=42)\n",
    "\n",
    "# Check inverse transformation\n",
    "\n",
    "tf.norm(tensor=inv_x-z)"
   ]
  },
  {
   "cell_type": "markdown",
   "metadata": {},
   "source": [
    "#### Log probability"
   ]
  },
  {
   "cell_type": "code",
   "execution_count": 12,
   "metadata": {},
   "outputs": [
    {
     "name": "stdout",
     "output_type": "stream",
     "text": [
      "tf.Tensor([-2.4766338 -2.7780252 -2.4740348 ... -2.448865  -4.363263  -5.6196175], shape=(10000,), dtype=float32)\n"
     ]
    }
   ],
   "source": [
    "# Compute log prob for x\n",
    "\n",
    "log_prob_x = normal.log_prob(value=z)\\\n",
    "    - scale_and_shift.forward_log_det_jacobian(x=z, event_ndims=0)\n",
    "print(log_prob_x)"
   ]
  },
  {
   "cell_type": "code",
   "execution_count": 13,
   "metadata": {},
   "outputs": [
    {
     "name": "stdout",
     "output_type": "stream",
     "text": [
      "tf.Tensor([-2.4766338 -2.7780252 -2.4740348 ... -2.448865  -4.363263  -5.6196175], shape=(10000,), dtype=float32)\n"
     ]
    }
   ],
   "source": [
    "# We can also use the inverse transformation\n",
    "\n",
    "log_prob_x = normal.log_prob(value=scale_and_shift.inverse(y=x))\\\n",
    "    + scale_and_shift.inverse_log_det_jacobian(y=x, event_ndims=0)\n",
    "print(log_prob_x)"
   ]
  },
  {
   "cell_type": "markdown",
   "metadata": {},
   "source": [
    "### Broadcasting"
   ]
  },
  {
   "cell_type": "code",
   "execution_count": 14,
   "metadata": {},
   "outputs": [],
   "source": [
    "import tensorflow as tf\n",
    "tf.random.set_seed(seed=42)\n",
    "\n",
    "x = tf.random.normal(shape=(100, 1))"
   ]
  },
  {
   "cell_type": "code",
   "execution_count": 15,
   "metadata": {},
   "outputs": [
    {
     "name": "stdout",
     "output_type": "stream",
     "text": [
      "(100, 1)\n"
     ]
    }
   ],
   "source": [
    "import tensorflow as tf\n",
    "tf.random.set_seed(seed=42)\n",
    "import tensorflow_probability as tfp\n",
    "\n",
    "# Softfloor bijector\n",
    "\n",
    "softfloor = tfp.bijectors.Softfloor(temperature=0.01)\n",
    "y = softfloor.forward(x=x)\n",
    "print(y.shape)"
   ]
  },
  {
   "cell_type": "code",
   "execution_count": 16,
   "metadata": {},
   "outputs": [
    {
     "name": "stdout",
     "output_type": "stream",
     "text": [
      "(100, 2)\n"
     ]
    }
   ],
   "source": [
    "import tensorflow as tf\n",
    "tf.random.set_seed(seed=42)\n",
    "import tensorflow_probability as tfp\n",
    "\n",
    "# Softfloor bijector using broadcasting\n",
    "\n",
    "softfloor = tfp.bijectors.Softfloor(temperature=[0.2, 1.])\n",
    "y = softfloor.forward(x=x)\n",
    "print(y.shape)"
   ]
  },
  {
   "cell_type": "code",
   "execution_count": 17,
   "metadata": {},
   "outputs": [],
   "source": [
    "import tensorflow as tf\n",
    "tf.random.set_seed(seed=42)\n",
    "import tensorflow_probability as tfp\n",
    "\n",
    "# Softfloor bijector using broadcasting\n",
    "\n",
    "softfloor = tfp.bijectors.Softfloor(temperature=[0.01, 0.1, 1.])"
   ]
  },
  {
   "cell_type": "code",
   "execution_count": 20,
   "metadata": {},
   "outputs": [],
   "source": [
    "import matplotlib.pyplot as plt\n",
    "\n",
    "# Plot routine\n",
    "\n",
    "def _plot(nparams, bijector, params, x):\n",
    "    bijector_params = tuple(getattr(bijector, name)\n",
    "        for name in params)\n",
    "    upper_params = [name[0].upper() + name[1:] for name in params]\n",
    "    plt.figure(figsize=(14, 5))\n",
    "    lines = plt.plot(np.tile(A=x, reps=nparams),\n",
    "        bijector.forward(x=x))\n",
    "    for l in zip(lines, *bijector_params):\n",
    "        labels = ': {:.2f}, '.join(upper_params) + ': {:.2f}'\n",
    "        l[0].set_label(labels.format(*l[1:]))\n",
    "    plt.legend()\n",
    "    plt.show()"
   ]
  },
  {
   "cell_type": "code",
   "execution_count": 21,
   "metadata": {},
   "outputs": [
    {
     "data": {
      "image/png": "[encoded data removed]",
      "text/plain": [
       "<Figure size 1008x360 with 1 Axes>"
      ]
     },
     "metadata": {
      "needs_background": "light"
     },
     "output_type": "display_data"
    }
   ],
   "source": [
    "import numpy as np\n",
    "\n",
    "# Plot\n",
    "\n",
    "x = np.linspace(start=-2, stop=2, num=2000)[..., np.newaxis]\n",
    "_plot(nparams=3, bijector=softfloor, params=['temperature'], x=x)"
   ]
  },
  {
   "cell_type": "code",
   "execution_count": 22,
   "metadata": {},
   "outputs": [],
   "source": [
    "import tensorflow as tf\n",
    "tf.random.set_seed(seed=42)\n",
    "import tensorflow_probability as tfp\n",
    "\n",
    "# Gumbel bijector using broadcasting\n",
    "\n",
    "exps = tfp.bijectors.GumbelCDF(loc=[0.5, 1, 1.5, 2, 3],\n",
    "    scale=[1, 2, 2, 3, 4])"
   ]
  },
  {
   "cell_type": "code",
   "execution_count": 23,
   "metadata": {},
   "outputs": [
    {
     "data": {
      "image/png": "[encoded data removed]",
      "text/plain": [
       "<Figure size 1008x360 with 1 Axes>"
      ]
     },
     "metadata": {
      "needs_background": "light"
     },
     "output_type": "display_data"
    }
   ],
   "source": [
    "import numpy as np\n",
    "\n",
    "# Plot\n",
    "\n",
    "x = np.linspace(start=-10, stop=10, num=2000,\n",
    "    dtype=np.float32)[..., np.newaxis]\n",
    "_plot(nparams=5, bijector=exps, params=['loc', 'scale'], x=x)"
   ]
  },
  {
   "cell_type": "markdown",
   "metadata": {},
   "source": [
    "***\n",
    "<a id=\"coding_tutorial_2\"></a>\n",
    "## The TransformedDistribution class"
   ]
  },
  {
   "cell_type": "markdown",
   "metadata": {},
   "source": [
    "### TransformedDistribution"
   ]
  },
  {
   "cell_type": "code",
   "execution_count": 1,
   "metadata": {},
   "outputs": [
    {
     "name": "stdout",
     "output_type": "stream",
     "text": [
      "log prob x: tf.Tensor([-1.3000249 -0.4313218 -1.2893912], shape=(3,), dtype=float32)\n",
      "log prob x: tf.Tensor([-1.3000249  -0.43132186 -1.2893912 ], shape=(3,), dtype=float32)\n",
      "log prob x: tf.Tensor([-1.3000249  -0.43132186 -1.2893912 ], shape=(3,), dtype=float32)\n"
     ]
    }
   ],
   "source": [
    "import tensorflow as tf\n",
    "tf.random.set_seed(seed=42)\n",
    "import tensorflow_probability as tfp\n",
    "\n",
    "# Base dist.        Transformation        Data dist.\n",
    "# Z ~ P0      <=>      x = f(z)     <=>    x ~ P1\n",
    "\n",
    "# log_prob_x = base_dist.log_prob(bijector.inverse(y=x))\n",
    "#     + bijector.inverse_log_det_jacobian(y=x, event_ndims=0)\n",
    "# x_sample = bijector.forward(x=base_dist.sample())\n",
    "\n",
    "normal_distrib = tfp.distributions.Normal(loc=0., scale=1.)\n",
    "z = normal_distrib.sample(sample_shape=(3,))\n",
    "\n",
    "bijector = tfp.bijectors.Chain(bijectors=[\n",
    "    tfp.bijectors.Shift(shift=1.),\n",
    "    tfp.bijectors.Exp()\n",
    "])\n",
    "x = bijector.forward(x=z)\n",
    "\n",
    "log_prob_x = normal_distrib.log_prob(value=z)\\\n",
    "    - bijector.forward_log_det_jacobian(x=z, event_ndims=0)\n",
    "print('log prob x:', log_prob_x)\n",
    "\n",
    "log_prob_x = normal_distrib.log_prob(value=bijector.inverse(y=x))\\\n",
    "    + bijector.inverse_log_det_jacobian(y=x, event_ndims=0)\n",
    "print('log prob x:', log_prob_x)\n",
    "\n",
    "transform_distrib = tfp.distributions.TransformedDistribution(\n",
    "    distribution=normal_distrib, bijector=bijector)\n",
    "log_prob_x = transform_distrib.log_prob(value=x)\n",
    "print('log prob x:', log_prob_x)"
   ]
  },
  {
   "cell_type": "code",
   "execution_count": 2,
   "metadata": {},
   "outputs": [
    {
     "name": "stdout",
     "output_type": "stream",
     "text": [
      "base dist: tfp.distributions.Normal(\"Normal\", batch_shape=[], event_shape=[], dtype=float32)\n",
      "transform dist: tfp.distributions.TransformedDistribution(\"scale_matvec_trilNormal\", batch_shape=[3], event_shape=[2], dtype=float32)\n",
      "multivariate dist: tfp.distributions.MultivariateNormalTriL(\"MultivariateNormalTriL\", batch_shape=[3], event_shape=[2], dtype=float32)\n"
     ]
    }
   ],
   "source": [
    "import tensorflow as tf\n",
    "tf.random.set_seed(seed=42)\n",
    "import tensorflow_probability as tfp\n",
    "\n",
    "normal_distrib = tfp.distributions.Normal(loc=0., scale=1.)\n",
    "print('base dist:', normal_distrib)\n",
    "\n",
    "scale_tril = [\n",
    "    [[1., 0.], [1., 1.]],\n",
    "    [[0.5, 0.], [-1., 0.5]],\n",
    "    [[1., 0.5], [-0.5, 1.]]\n",
    "] # (3, 2, 2)\n",
    "bijector = tfp.bijectors.ScaleMatvecTriL(scale_tril=scale_tril)\n",
    "\n",
    "transform_distrib = tfp.distributions.TransformedDistribution(\n",
    "    distribution=normal_distrib, bijector=bijector,\n",
    "    batch_shape=[3], event_shape=[2])\n",
    "print('transform dist:', transform_distrib)\n",
    "\n",
    "mvn_distrib = tfp.distributions.MultivariateNormalTriL(\n",
    "    loc=0., scale_tril=scale_tril)\n",
    "print('multivariate dist:', mvn_distrib)"
   ]
  },
  {
   "cell_type": "code",
   "execution_count": 1,
   "metadata": {},
   "outputs": [],
   "source": [
    "# Parameters\n",
    "\n",
    "n = 10000\n",
    "loc = 0.\n",
    "scale = 0.5"
   ]
  },
  {
   "cell_type": "code",
   "execution_count": 2,
   "metadata": {},
   "outputs": [
    {
     "data": {
      "text/plain": [
       "<tfp.distributions.Normal 'Normal' batch_shape=[] event_shape=[] dtype=float32>"
      ]
     },
     "execution_count": 2,
     "metadata": {},
     "output_type": "execute_result"
    }
   ],
   "source": [
    "import tensorflow as tf\n",
    "tf.random.set_seed(seed=42)\n",
    "import tensorflow_probability as tfp\n",
    "\n",
    "# Normal distribution\n",
    "\n",
    "normal = tfp.distributions.Normal(loc=loc, scale=scale)\n",
    "normal"
   ]
  },
  {
   "cell_type": "code",
   "execution_count": 3,
   "metadata": {},
   "outputs": [
    {
     "name": "stdout",
     "output_type": "stream",
     "text": [
      "batch shape:  ()\n",
      "event shape:  ()\n"
     ]
    }
   ],
   "source": [
    "# Display event and batch shape\n",
    "\n",
    "print('batch shape: ', normal.batch_shape)\n",
    "print('event shape: ', normal.event_shape)"
   ]
  },
  {
   "cell_type": "code",
   "execution_count": 4,
   "metadata": {},
   "outputs": [],
   "source": [
    "import tensorflow_probability as tfp\n",
    "\n",
    "# Exponential bijector\n",
    "\n",
    "exp = tfp.bijectors.Exp()"
   ]
  },
  {
   "cell_type": "code",
   "execution_count": 5,
   "metadata": {},
   "outputs": [
    {
     "data": {
      "text/plain": [
       "<tfp.distributions.TransformedDistribution 'expNormal' batch_shape=[] event_shape=[] dtype=float32>"
      ]
     },
     "execution_count": 5,
     "metadata": {},
     "output_type": "execute_result"
    }
   ],
   "source": [
    "import tensorflow_probability as tfp\n",
    "\n",
    "# Log normal transformed distribution using exp and normal bijectors\n",
    "\n",
    "log_normal_td = tfp.distributions.TransformedDistribution(\n",
    "    distribution=normal, bijector=exp)\n",
    "log_normal_td"
   ]
  },
  {
   "cell_type": "code",
   "execution_count": 6,
   "metadata": {},
   "outputs": [
    {
     "name": "stdout",
     "output_type": "stream",
     "text": [
      "batch shape:  ()\n",
      "event shape:  ()\n"
     ]
    }
   ],
   "source": [
    "# Display event and batch shape\n",
    "\n",
    "print('batch shape: ', log_normal_td.batch_shape)\n",
    "print('event shape: ', log_normal_td.event_shape)"
   ]
  },
  {
   "cell_type": "code",
   "execution_count": 7,
   "metadata": {},
   "outputs": [
    {
     "data": {
      "text/plain": [
       "TensorShape([10000])"
      ]
     },
     "execution_count": 7,
     "metadata": {},
     "output_type": "execute_result"
    }
   ],
   "source": [
    "# Base distribution\n",
    "\n",
    "z = normal.sample(sample_shape=(n,))\n",
    "z.shape"
   ]
  },
  {
   "cell_type": "markdown",
   "metadata": {},
   "source": [
    "#### Plots"
   ]
  },
  {
   "cell_type": "code",
   "execution_count": 9,
   "metadata": {},
   "outputs": [
    {
     "data": {
      "image/png": "[encoded data removed]",
      "text/plain": [
       "<Figure size 432x288 with 1 Axes>"
      ]
     },
     "metadata": {
      "needs_background": "light"
     },
     "output_type": "display_data"
    }
   ],
   "source": [
    "import matplotlib.pyplot as plt\n",
    "\n",
    "# Plot z density\n",
    "\n",
    "fig = plt.figure()\n",
    "plt.hist(x=z, bins=100, density=True)\n",
    "fig.show()"
   ]
  },
  {
   "cell_type": "code",
   "execution_count": 10,
   "metadata": {},
   "outputs": [
    {
     "data": {
      "text/plain": [
       "TensorShape([10000])"
      ]
     },
     "execution_count": 10,
     "metadata": {},
     "output_type": "execute_result"
    }
   ],
   "source": [
    "# Transformed distribution\n",
    "\n",
    "x = log_normal_td.sample(sample_shape=(n,))\n",
    "x.shape"
   ]
  },
  {
   "cell_type": "code",
   "execution_count": 11,
   "metadata": {},
   "outputs": [
    {
     "data": {
      "image/png": "[encoded data removed]",
      "text/plain": [
       "<Figure size 432x288 with 1 Axes>"
      ]
     },
     "metadata": {
      "needs_background": "light"
     },
     "output_type": "display_data"
    }
   ],
   "source": [
    "import matplotlib.pyplot as plt\n",
    "\n",
    "# Plot x density\n",
    "\n",
    "fig = plt.figure()\n",
    "plt.hist(x=x, bins=100, density=True)\n",
    "fig.show()"
   ]
  },
  {
   "cell_type": "code",
   "execution_count": 12,
   "metadata": {},
   "outputs": [
    {
     "data": {
      "text/plain": [
       "<tfp.distributions.LogNormal 'LogNormal' batch_shape=[] event_shape=[] dtype=float32>"
      ]
     },
     "execution_count": 12,
     "metadata": {},
     "output_type": "execute_result"
    }
   ],
   "source": [
    "import tensorflow_probability as tfp\n",
    "\n",
    "# Define log normal distribution\n",
    "\n",
    "log_normal = tfp.distributions.LogNormal(loc=loc, scale=scale)\n",
    "log_normal"
   ]
  },
  {
   "cell_type": "code",
   "execution_count": 13,
   "metadata": {},
   "outputs": [
    {
     "data": {
      "text/plain": [
       "TensorShape([10000])"
      ]
     },
     "execution_count": 13,
     "metadata": {},
     "output_type": "execute_result"
    }
   ],
   "source": [
    "# Sample log_normal\n",
    "\n",
    "l = log_normal.sample(sample_shape=(n,))\n",
    "l.shape"
   ]
  },
  {
   "cell_type": "code",
   "execution_count": 14,
   "metadata": {},
   "outputs": [
    {
     "data": {
      "image/png": "[encoded data removed]",
      "text/plain": [
       "<Figure size 432x288 with 1 Axes>"
      ]
     },
     "metadata": {
      "needs_background": "light"
     },
     "output_type": "display_data"
    }
   ],
   "source": [
    "import matplotlib.pyplot as plt\n",
    "\n",
    "# Plot l density\n",
    "\n",
    "fig = plt.figure()\n",
    "plt.hist(x=l, bins=100, density=True)\n",
    "fig.show()"
   ]
  },
  {
   "cell_type": "markdown",
   "metadata": {},
   "source": [
    "#### Log probability"
   ]
  },
  {
   "cell_type": "code",
   "execution_count": 15,
   "metadata": {},
   "outputs": [
    {
     "data": {
      "text/plain": [
       "TensorShape([10000])"
      ]
     },
     "execution_count": 15,
     "metadata": {},
     "output_type": "execute_result"
    }
   ],
   "source": [
    "# Log prob of LogNormal\n",
    "\n",
    "log_prob = log_normal.log_prob(value=x)\n",
    "log_prob.shape"
   ]
  },
  {
   "cell_type": "code",
   "execution_count": 16,
   "metadata": {},
   "outputs": [
    {
     "data": {
      "text/plain": [
       "TensorShape([10000])"
      ]
     },
     "execution_count": 16,
     "metadata": {},
     "output_type": "execute_result"
    }
   ],
   "source": [
    "# Log prob of log normal transformed distribution\n",
    "\n",
    "log_prob_td = log_normal_td.log_prob(value=x)\n",
    "log_prob_td.shape"
   ]
  },
  {
   "cell_type": "code",
   "execution_count": 17,
   "metadata": {},
   "outputs": [
    {
     "data": {
      "text/plain": [
       "<tf.Tensor: shape=(), dtype=float32, numpy=6.922083e-06>"
      ]
     },
     "execution_count": 17,
     "metadata": {},
     "output_type": "execute_result"
    }
   ],
   "source": [
    "import tensorflow as tf\n",
    "\n",
    "# Check log probs\n",
    "\n",
    "tf.norm(tensor=log_prob-log_prob_td)"
   ]
  },
  {
   "cell_type": "markdown",
   "metadata": {},
   "source": [
    "### Event shape and batch shape"
   ]
  },
  {
   "cell_type": "code",
   "execution_count": 3,
   "metadata": {},
   "outputs": [],
   "source": [
    "import tensorflow as tf\n",
    "tf.random.set_seed(seed=42)\n",
    "\n",
    "# Set a scaling lower triangular matrix\n",
    "\n",
    "tril = tf.random.normal(shape=(2, 4, 4))\n",
    "scale_low_tril = tf.linalg.LinearOperatorLowerTriangular(tril=tril)"
   ]
  },
  {
   "cell_type": "code",
   "execution_count": 4,
   "metadata": {},
   "outputs": [
    {
     "data": {
      "text/plain": [
       "<tf.Tensor: shape=(2, 4, 4), dtype=float32, numpy=\n",
       "array([[[ 0.3274685 ,  0.        ,  0.        ,  0.        ],\n",
       "        [-2.3880599 , -1.0392479 ,  0.        ,  0.        ],\n",
       "        [ 1.6994323 ,  0.28893656, -1.5066116 ,  0.        ],\n",
       "        [-0.59722406, -1.9171132 , -0.62044144,  0.8504023 ]],\n",
       "\n",
       "       [[-0.40604794,  0.        ,  0.        ,  0.        ],\n",
       "        [-0.22561555, -0.7616443 ,  0.        ,  0.        ],\n",
       "        [ 0.77852213, -0.47338897,  0.97772694,  0.        ],\n",
       "        [ 0.20573747, -0.5256233 ,  0.32410017,  0.02545409]]],\n",
       "      dtype=float32)>"
      ]
     },
     "execution_count": 4,
     "metadata": {},
     "output_type": "execute_result"
    }
   ],
   "source": [
    "# View of scale_low_tri\n",
    "\n",
    "scale_low_tril.to_dense()"
   ]
  },
  {
   "cell_type": "code",
   "execution_count": 5,
   "metadata": {},
   "outputs": [],
   "source": [
    "import tensorflow_probability as tfp\n",
    "\n",
    "# Define scale linear operator\n",
    "\n",
    "scale_lin_op = tfp.bijectors.ScaleMatvecLinearOperator(\n",
    "    scale=scale_low_tril)"
   ]
  },
  {
   "cell_type": "code",
   "execution_count": 6,
   "metadata": {},
   "outputs": [
    {
     "data": {
      "text/plain": [
       "<tfp.distributions.TransformedDistribution 'scale_matvec_linear_operatorNormal' batch_shape=[2] event_shape=[4] dtype=float32>"
      ]
     },
     "execution_count": 6,
     "metadata": {},
     "output_type": "execute_result"
    }
   ],
   "source": [
    "import tensorflow_probability as tfp\n",
    "\n",
    "# Define scale linear operator transformed distribution with a batch and event shape\n",
    "\n",
    "mvn = tfp.distributions.TransformedDistribution(distribution=normal,\n",
    "    bijector=scale_lin_op, batch_shape=[2], event_shape=[4])\n",
    "mvn"
   ]
  },
  {
   "cell_type": "code",
   "execution_count": 7,
   "metadata": {},
   "outputs": [
    {
     "name": "stdout",
     "output_type": "stream",
     "text": [
      "batch shape:  (2,)\n",
      "event shape:  (4,)\n"
     ]
    }
   ],
   "source": [
    "# Display event and batch shape\n",
    "\n",
    "print('batch shape: ', mvn.batch_shape)\n",
    "print('event shape: ', mvn.event_shape)"
   ]
  },
  {
   "cell_type": "code",
   "execution_count": 8,
   "metadata": {},
   "outputs": [
    {
     "name": "stdout",
     "output_type": "stream",
     "text": [
      "(10000, 2, 4)\n"
     ]
    }
   ],
   "source": [
    "# Sample\n",
    "\n",
    "y1 = mvn.sample(sample_shape=(n,))\n",
    "print(y1.shape)"
   ]
  },
  {
   "cell_type": "code",
   "execution_count": 9,
   "metadata": {},
   "outputs": [
    {
     "data": {
      "text/plain": [
       "<tfp.distributions.MultivariateNormalLinearOperator 'MultivariateNormalLinearOperator' batch_shape=[2] event_shape=[4] dtype=float32>"
      ]
     },
     "execution_count": 9,
     "metadata": {},
     "output_type": "execute_result"
    }
   ],
   "source": [
    "import tensorflow_probability as tfp\n",
    "\n",
    "# Define a MultivariateNormalLinearOperator distribution\n",
    "\n",
    "mvn2 = tfp.distributions.MultivariateNormalLinearOperator(loc=0,\n",
    "    scale=scale_low_tril)\n",
    "mvn2"
   ]
  },
  {
   "cell_type": "code",
   "execution_count": 10,
   "metadata": {},
   "outputs": [
    {
     "name": "stdout",
     "output_type": "stream",
     "text": [
      "batch shape:  (2,)\n",
      "event shape:  (4,)\n"
     ]
    }
   ],
   "source": [
    "# Display event and batch shape\n",
    "\n",
    "print('batch shape: ', mvn2.batch_shape)\n",
    "print('event shape: ', mvn2.event_shape)"
   ]
  },
  {
   "cell_type": "code",
   "execution_count": 11,
   "metadata": {},
   "outputs": [
    {
     "name": "stdout",
     "output_type": "stream",
     "text": [
      "(10000, 2, 4)\n"
     ]
    }
   ],
   "source": [
    "# Sample\n",
    "\n",
    "y2 = mvn2.sample(sample_shape=(n,))\n",
    "print(y2.shape)"
   ]
  },
  {
   "cell_type": "code",
   "execution_count": 12,
   "metadata": {},
   "outputs": [
    {
     "data": {
      "text/plain": [
       "<tf.Tensor: shape=(), dtype=float32, numpy=0.74997157>"
      ]
     },
     "execution_count": 12,
     "metadata": {},
     "output_type": "execute_result"
    }
   ],
   "source": [
    "import tensorflow as tf\n",
    "tf.random.set_seed(seed=42)\n",
    "\n",
    "# Check\n",
    "\n",
    "xn = normal.sample(sample_shape=(n, 2, 4))\n",
    "tf.norm(tensor=(mvn.log_prob(value=xn) - mvn2.log_prob(value=xn)))\\\n",
    "    / tf.norm(tensor=mvn.log_prob(value=xn))"
   ]
  },
  {
   "cell_type": "markdown",
   "metadata": {},
   "source": [
    "***\n",
    "<a id=\"coding_tutorial_3\"></a>\n",
    "## Subclassing bijectors"
   ]
  },
  {
   "cell_type": "code",
   "execution_count": 1,
   "metadata": {},
   "outputs": [],
   "source": [
    "import tensorflow as tf\n",
    "tf.random.set_seed(seed=42)\n",
    "import tensorflow_probability as tfp\n",
    "\n",
    "class MySigmoid(tfp.bijectors.Bijector):\n",
    "    def __init__(self, validate_args=False, name='sigmoid'):\n",
    "        super().__init__(validate_args=validate_args,\n",
    "            forward_min_event_ndims=0, name=name)\n",
    "        \n",
    "    def _forward(self, x):\n",
    "        return tf.math.sigmoid(x=x)\n",
    "    \n",
    "    def _inverse(self, y):\n",
    "        return tf.math.log(x=y) - tf.math.log(x=1-y)\n",
    "    \n",
    "    def _inverse_log_det_jacobian(self, y):\n",
    "        return -tf.math.log(x=y) - tf.math.log(1-y)\n",
    "    \n",
    "    def _forward_log_det_jacobian(self, x):\n",
    "        return -self._inverse_log_det_jacobian(y=self._forward(x=x))\n",
    "    \n",
    "class MyShift(tfp.bijectors.Bijector):\n",
    "    def __init__(self, shift, validate_args=False, name='shift'):\n",
    "        super().__init__(validate_args=validate_args,\n",
    "            forward_min_event_ndims=0, name=name,\n",
    "            is_constant_jacobian=True)\n",
    "        self.shift = shift\n",
    "        \n",
    "    def _forward(self, x):\n",
    "        return x + self.shift\n",
    "    \n",
    "    def _inverse(self, y):\n",
    "        return y - self.shift\n",
    "    \n",
    "    def _forward_log_det_jacobian(self, x):\n",
    "        return tf.constant(0., x.dtype)"
   ]
  },
  {
   "cell_type": "code",
   "execution_count": 1,
   "metadata": {},
   "outputs": [],
   "source": [
    "import tensorflow as tf\n",
    "tf.random.set_seed(seed=42)\n",
    "import tensorflow_probability as tfp\n",
    "\n",
    "# Define a new bijector: Cubic\n",
    "\n",
    "class Cubic(tfp.bijectors.Bijector):\n",
    "\n",
    "    def __init__(self, a, b, validate_args=False, name='Cubic'):\n",
    "        self.a = tf.cast(x=a, dtype=tf.float32)\n",
    "        self.b = tf.cast(x=b, dtype=tf.float32)\n",
    "        if validate_args:\n",
    "            assert tf.math.reduce_mean(input_tensor=tf.cast(\n",
    "                x=tf.math.greater_equal(tf.math.abs(x=self.a), 1e-5), \n",
    "                dtype=tf.float32)) == 1.0\n",
    "            assert tf.math.reduce_mean(input_tensor=tf.cast(\n",
    "                x=tf.math.greater_equal(tf.math.abs(x=self.b), 1e-5),\n",
    "                dtype=tf.float32)) == 1.0\n",
    "        super().__init__(validate_args=validate_args,\n",
    "            forward_min_event_ndims=0, name=name)\n",
    "\n",
    "    def _forward(self, x):\n",
    "        x = tf.cast(x=x, dtype=tf.float32)\n",
    "        return tf.squeeze(input=tf.math.pow(\n",
    "            x=self.a * x + self.b, y=3))\n",
    "    \n",
    "    def _inverse(self, y):\n",
    "        y = tf.cast(x=y, dtype=tf.float32)\n",
    "        return (tf.math.sign(x=y) * tf.math.pow(\n",
    "            x=tf.math.abs(x=y), y=1/3) - self.b) / self.a\n",
    "    \n",
    "    def _forward_log_det_jacobian(self, x):\n",
    "        x = tf.cast(x=x, dtype=tf.float32)\n",
    "        return tf.math.log(3. * tf.math.abs(x=self.a))\\\n",
    "            + 2. * tf.math.log(tf.math.abs(self.a * x + self.b))"
   ]
  },
  {
   "cell_type": "code",
   "execution_count": 2,
   "metadata": {},
   "outputs": [],
   "source": [
    "# Cubic bijector\n",
    "\n",
    "cubic = Cubic(a=[1.0, -2.0], b=[-1.0, 0.4], validate_args=True)"
   ]
  },
  {
   "cell_type": "code",
   "execution_count": 3,
   "metadata": {},
   "outputs": [
    {
     "name": "stdout",
     "output_type": "stream",
     "text": [
      "tf.Tensor(\n",
      "[[   0.        -46.655994]\n",
      " [   8.       -438.97598 ]], shape=(2, 2), dtype=float32)\n"
     ]
    }
   ],
   "source": [
    "import tensorflow as tf\n",
    "tf.random.set_seed(seed=42)\n",
    "\n",
    "# Apply forward transformation\n",
    "\n",
    "x = tf.constant(value=[[1, 2], [3, 4]], dtype=tf.float32)\n",
    "y = cubic.forward(x=x)\n",
    "print(y)"
   ]
  },
  {
   "cell_type": "code",
   "execution_count": 4,
   "metadata": {},
   "outputs": [
    {
     "data": {
      "text/plain": [
       "<tf.Tensor: shape=(), dtype=float32, numpy=0.0>"
      ]
     },
     "execution_count": 4,
     "metadata": {},
     "output_type": "execute_result"
    }
   ],
   "source": [
    "import tensorflow as tf\n",
    "tf.random.set_seed(seed=42)\n",
    "\n",
    "# Check inverse\n",
    "tf.norm(tensor=(x - cubic.inverse(y=y)))"
   ]
  },
  {
   "cell_type": "markdown",
   "metadata": {},
   "source": [
    "#### Function plots"
   ]
  },
  {
   "cell_type": "code",
   "execution_count": 6,
   "metadata": {},
   "outputs": [
    {
     "data": {
      "image/png": "[encoded data removed]",
      "text/plain": [
       "<Figure size 432x288 with 1 Axes>"
      ]
     },
     "metadata": {
      "needs_background": "light"
     },
     "output_type": "display_data"
    }
   ],
   "source": [
    "import numpy as np\n",
    "import matplotlib.pyplot as plt\n",
    "\n",
    "# Plot the forward transformation\n",
    "\n",
    "x = np.linspace(start=-10, stop=10, num=500).reshape(-1, 1)\n",
    "\n",
    "plt.figure()\n",
    "plt.plot(x, cubic.forward(x=x))\n",
    "plt.show()"
   ]
  },
  {
   "cell_type": "code",
   "execution_count": 7,
   "metadata": {},
   "outputs": [
    {
     "name": "stdout",
     "output_type": "stream",
     "text": [
      "(500, 2)\n"
     ]
    }
   ],
   "source": [
    "# Display shape\n",
    "\n",
    "print(cubic.forward(x=x).shape)"
   ]
  },
  {
   "cell_type": "code",
   "execution_count": 8,
   "metadata": {},
   "outputs": [
    {
     "data": {
      "image/png": "[encoded data removed]",
      "text/plain": [
       "<Figure size 432x288 with 1 Axes>"
      ]
     },
     "metadata": {
      "needs_background": "light"
     },
     "output_type": "display_data"
    }
   ],
   "source": [
    "import matplotlib.pyplot as plt\n",
    "\n",
    "# Plot the inverse\n",
    "\n",
    "plt.figure()\n",
    "plt.plot(x, cubic.inverse(y=x))\n",
    "plt.show()"
   ]
  },
  {
   "cell_type": "code",
   "execution_count": 9,
   "metadata": {},
   "outputs": [
    {
     "data": {
      "image/png": "[encoded data removed]",
      "text/plain": [
       "<Figure size 432x288 with 1 Axes>"
      ]
     },
     "metadata": {
      "needs_background": "light"
     },
     "output_type": "display_data"
    }
   ],
   "source": [
    "import matplotlib.pyplot as plt\n",
    "\n",
    "# Plot the forward log Jacobian determinant\n",
    "\n",
    "plt.figure()\n",
    "plt.plot(x, cubic.forward_log_det_jacobian(x, event_ndims=0))\n",
    "plt.show()"
   ]
  },
  {
   "cell_type": "code",
   "execution_count": 10,
   "metadata": {},
   "outputs": [
    {
     "data": {
      "image/png": "[encoded data removed]",
      "text/plain": [
       "<Figure size 432x288 with 1 Axes>"
      ]
     },
     "metadata": {
      "needs_background": "light"
     },
     "output_type": "display_data"
    }
   ],
   "source": [
    "import matplotlib.pyplot as plt\n",
    "\n",
    "# Plot the inverse log Jacobian determinant\n",
    "\n",
    "plt.figure()\n",
    "plt.plot(x, cubic.inverse_log_det_jacobian(y=x, event_ndims=0))\n",
    "plt.show()"
   ]
  },
  {
   "cell_type": "markdown",
   "metadata": {},
   "source": [
    "#### TransformedDistribution and plots"
   ]
  },
  {
   "cell_type": "code",
   "execution_count": 11,
   "metadata": {},
   "outputs": [
    {
     "data": {
      "text/plain": [
       "<tfp.distributions.TransformedDistribution 'CubicNormal' batch_shape=[] event_shape=[2] dtype=float32>"
      ]
     },
     "execution_count": 11,
     "metadata": {},
     "output_type": "execute_result"
    }
   ],
   "source": [
    "import tensorflow_probability as tfp\n",
    "\n",
    "# Create a transformed distribution with Cubic\n",
    "\n",
    "normal = tfp.distributions.Normal(loc=0., scale=1.,)\n",
    "cubed_normal = tfp.distributions.TransformedDistribution(\n",
    "    distribution=normal, bijector=cubic, event_shape=[2]\n",
    ")\n",
    "cubed_normal"
   ]
  },
  {
   "cell_type": "code",
   "execution_count": 12,
   "metadata": {},
   "outputs": [
    {
     "data": {
      "text/plain": [
       "TensorShape([1000, 2])"
      ]
     },
     "execution_count": 12,
     "metadata": {},
     "output_type": "execute_result"
    }
   ],
   "source": [
    "# Sample cubed_normal\n",
    "\n",
    "n = 1000\n",
    "g = cubed_normal.sample(sample_shape=(n,))\n",
    "g.shape"
   ]
  },
  {
   "cell_type": "code",
   "execution_count": 13,
   "metadata": {},
   "outputs": [
    {
     "data": {
      "image/png": "[encoded data removed]",
      "text/plain": [
       "<Figure size 864x288 with 2 Axes>"
      ]
     },
     "metadata": {
      "needs_background": "light"
     },
     "output_type": "display_data"
    }
   ],
   "source": [
    "import matplotlib.pyplot as plt\n",
    "\n",
    "# Plot histograms\n",
    "\n",
    "plt.figure(figsize=(12, 4))\n",
    "plt.subplot(1, 2, 1)\n",
    "plt.hist(x=g[..., 0], bins=50, density=True)\n",
    "plt.subplot(1, 2, 2)\n",
    "plt.hist(x=g[..., 1], bins=50, density=True)\n",
    "plt.show()"
   ]
  },
  {
   "cell_type": "code",
   "execution_count": 14,
   "metadata": {},
   "outputs": [
    {
     "data": {
      "image/png": "[encoded data removed]",
      "text/plain": [
       "<Figure size 432x288 with 2 Axes>"
      ]
     },
     "metadata": {
      "needs_background": "light"
     },
     "output_type": "display_data"
    }
   ],
   "source": [
    "import numpy as np\n",
    "import matplotlib.pyplot as plt\n",
    "\n",
    "# Make contour plot\n",
    "\n",
    "xx = np.linspace(start=-0.5, stop=0.5, num=100)\n",
    "yy = np.linspace(start=-0.5, stop=0.5, num=100)\n",
    "X, Y = np.meshgrid(xx, yy)\n",
    "\n",
    "fig, ax = plt.subplots(nrows=1, ncols=1)\n",
    "Z = cubed_normal.prob(value=np.dstack(tup=(X, Y)))\n",
    "cp = ax.contourf(X, Y, Z)\n",
    "fig.colorbar(cp) # Add a colorbar to a plot\n",
    "ax.set_title(label='Filled Contours Plot')\n",
    "ax.set_xlabel(xlabel='x')\n",
    "ax.set_ylabel(ylabel='y')\n",
    "fig.show()"
   ]
  },
  {
   "cell_type": "code",
   "execution_count": 15,
   "metadata": {},
   "outputs": [
    {
     "data": {
      "text/plain": [
       "<tfp.distributions.TransformedDistribution 'invert_CubicNormal' batch_shape=[] event_shape=[2] dtype=float32>"
      ]
     },
     "execution_count": 15,
     "metadata": {},
     "output_type": "execute_result"
    }
   ],
   "source": [
    "import tensorflow_probability as tfp\n",
    "\n",
    "# Create a transformed distribution with the inverse of Cube\n",
    "\n",
    "inverse_cubic = tfp.bijectors.Invert(bijector=cubic)\n",
    "inv_cubed_normal = tfp.distributions.TransformedDistribution(\n",
    "    distribution=normal, bijector=inverse_cubic, event_shape=[2]\n",
    ")\n",
    "inv_cubed_normal"
   ]
  },
  {
   "cell_type": "code",
   "execution_count": 16,
   "metadata": {},
   "outputs": [
    {
     "data": {
      "text/plain": [
       "TensorShape([1000, 2])"
      ]
     },
     "execution_count": 16,
     "metadata": {},
     "output_type": "execute_result"
    }
   ],
   "source": [
    "# Samble inv_cubed_normal\n",
    "\n",
    "n = 1000\n",
    "g = inv_cubed_normal.sample(sample_shape=(n,))\n",
    "g.shape"
   ]
  },
  {
   "cell_type": "code",
   "execution_count": 17,
   "metadata": {},
   "outputs": [
    {
     "data": {
      "image/png": "[encoded data removed]",
      "text/plain": [
       "<Figure size 864x288 with 2 Axes>"
      ]
     },
     "metadata": {
      "needs_background": "light"
     },
     "output_type": "display_data"
    }
   ],
   "source": [
    "import matplotlib.pyplot as plt\n",
    "\n",
    "# Plot histograms\n",
    "\n",
    "plt.figure(figsize=(12, 4))\n",
    "plt.subplot(1, 2, 1)\n",
    "plt.hist(x=g[..., 0], bins=50, density=True)\n",
    "plt.subplot(1, 2, 2)\n",
    "plt.hist(x=g[..., 1], bins=50, density=True)\n",
    "plt.show()"
   ]
  },
  {
   "cell_type": "code",
   "execution_count": 18,
   "metadata": {},
   "outputs": [
    {
     "data": {
      "image/png": "[encoded data removed]",
      "text/plain": [
       "<Figure size 432x288 with 2 Axes>"
      ]
     },
     "metadata": {
      "needs_background": "light"
     },
     "output_type": "display_data"
    }
   ],
   "source": [
    "import numpy as np\n",
    "import matplotlib.pyplot as plt\n",
    "\n",
    "# Make contour plot\n",
    "\n",
    "xx = np.linspace(start=-3.0, stop=3.0, num=100)\n",
    "yy = np.linspace(start=-2.0, stop=2.0, num=100)\n",
    "X, Y = np.meshgrid(xx, yy)\n",
    "\n",
    "fig, ax = plt.subplots(nrows=1, ncols=1)\n",
    "Z = inv_cubed_normal.prob(value=np.dstack(tup=(X, Y)))\n",
    "cp = ax.contourf(X, Y, Z)\n",
    "fig.colorbar(cp) # Add a colorbar to a plot\n",
    "ax.set_title(label='Filled Contours Plot')\n",
    "ax.set_xlabel(xlabel='x')\n",
    "ax.set_ylabel(ylabel='y')\n",
    "fig.show()"
   ]
  },
  {
   "cell_type": "markdown",
   "metadata": {},
   "source": [
    "#### Training the bijector"
   ]
  },
  {
   "cell_type": "code",
   "execution_count": 19,
   "metadata": {},
   "outputs": [
    {
     "data": {
      "text/plain": [
       "<tfp.distributions.Mixture 'Mixture' batch_shape=[] event_shape=[] dtype=float32>"
      ]
     },
     "execution_count": 19,
     "metadata": {},
     "output_type": "execute_result"
    }
   ],
   "source": [
    "import tensorflow as tf\n",
    "tf.random.set_seed(seed=42)\n",
    "import tensorflow_probability as tfp\n",
    "\n",
    "# Create a mixture of four Gaussians\n",
    "\n",
    "probs = [0.45, 0.55]\n",
    "mix_gauss = tfp.distributions.Mixture(\n",
    "    cat=tfp.distributions.Categorical(probs=probs),\n",
    "    components=[\n",
    "        tfp.distributions.Normal(loc=2.3, scale=0.4),\n",
    "        tfp.distributions.Normal(loc=-0.8, scale=0.4)\n",
    "    ]\n",
    ")\n",
    "mix_gauss"
   ]
  },
  {
   "cell_type": "code",
   "execution_count": 20,
   "metadata": {},
   "outputs": [
    {
     "name": "stdout",
     "output_type": "stream",
     "text": [
      "TensorSpec(shape=(None,), dtype=tf.float32, name=None)\n",
      "TensorSpec(shape=(None,), dtype=tf.float32, name=None)\n"
     ]
    }
   ],
   "source": [
    "import tensorflow as tf\n",
    "\n",
    "# Create the dataset\n",
    "\n",
    "x_train = mix_gauss.sample(sample_shape=10000)\n",
    "x_train = tf.data.Dataset.from_tensor_slices(tensors=x_train)\n",
    "x_train = x_train.batch(batch_size=128)\n",
    "\n",
    "x_valid = mix_gauss.sample(sample_shape=1000)\n",
    "x_valid = tf.data.Dataset.from_tensor_slices(tensors=x_valid)\n",
    "x_valid = x_valid.batch(batch_size=128)\n",
    "\n",
    "print(x_train.element_spec)\n",
    "print(x_valid.element_spec)"
   ]
  },
  {
   "cell_type": "code",
   "execution_count": 21,
   "metadata": {},
   "outputs": [
    {
     "data": {
      "image/png": "[encoded data removed]",
      "text/plain": [
       "<Figure size 432x288 with 1 Axes>"
      ]
     },
     "metadata": {
      "needs_background": "light"
     },
     "output_type": "display_data"
    }
   ],
   "source": [
    "import numpy as np\n",
    "import matplotlib.pyplot as plt\n",
    "\n",
    "# Plot the data distribution\n",
    "\n",
    "x = np.linspace(start=-5.0, stop=5.0, num=100)\n",
    "plt.figure()\n",
    "plt.plot(x, mix_gauss.prob(value=x))\n",
    "plt.title(label='Data distribution')\n",
    "plt.show()"
   ]
  },
  {
   "cell_type": "code",
   "execution_count": 22,
   "metadata": {},
   "outputs": [
    {
     "data": {
      "text/plain": [
       "(<tf.Variable 'Variable:0' shape=() dtype=float32, numpy=0.25>,\n",
       " <tf.Variable 'Variable:0' shape=() dtype=float32, numpy=-0.1>)"
      ]
     },
     "execution_count": 22,
     "metadata": {},
     "output_type": "execute_result"
    }
   ],
   "source": [
    "import tensorflow as tf\n",
    "tf.random.set_seed(seed=42)\n",
    "import tensorflow_probability as tfp\n",
    "\n",
    "# Make a trainable bijector\n",
    "\n",
    "trainable_inv_cubic = tfp.bijectors.Invert(bijector=Cubic(\n",
    "    a=tf.Variable(initial_value=0.25),\n",
    "    b=tf.Variable(initial_value=-0.1)))\n",
    "trainable_inv_cubic.trainable_variables"
   ]
  },
  {
   "cell_type": "code",
   "execution_count": 23,
   "metadata": {},
   "outputs": [
    {
     "data": {
      "text/plain": [
       "<tfp.distributions.TransformedDistribution 'invert_CubicNormal' batch_shape=[] event_shape=[] dtype=float32>"
      ]
     },
     "execution_count": 23,
     "metadata": {},
     "output_type": "execute_result"
    }
   ],
   "source": [
    "import tensorflow_probability as tfp\n",
    "\n",
    "# Make a trainable transformed distribution\n",
    "\n",
    "trainable_dist = tfp.distributions.TransformedDistribution(\n",
    "    distribution=normal, bijector=trainable_inv_cubic\n",
    ")\n",
    "trainable_dist"
   ]
  },
  {
   "cell_type": "code",
   "execution_count": 24,
   "metadata": {},
   "outputs": [
    {
     "data": {
      "image/png": "[encoded data removed]",
      "text/plain": [
       "<Figure size 864x288 with 1 Axes>"
      ]
     },
     "metadata": {
      "needs_background": "light"
     },
     "output_type": "display_data"
    }
   ],
   "source": [
    "import numpy as np\n",
    "import matplotlib.pyplot as plt\n",
    "\n",
    "# Plot the data and learned distributions\n",
    "\n",
    "x = np.linspace(start=-5.0, stop=5.0, num=100)\n",
    "\n",
    "plt.figure(figsize=(12, 4))\n",
    "plt.plot(x, mix_gauss.prob(value=x), label='data')\n",
    "plt.plot(x, trainable_dist.prob(value=x), label='trainable')\n",
    "plt.title(label='Data and trainable distributions')\n",
    "plt.legend()\n",
    "plt.show()"
   ]
  },
  {
   "cell_type": "code",
   "execution_count": 25,
   "metadata": {},
   "outputs": [
    {
     "name": "stdout",
     "output_type": "stream",
     "text": [
      "Epoch 0, Loss: train=2.8696703910827637, valid=2.4837427139282227\n",
      "Epoch 1, Loss: train=2.2001571655273438, valid=1.9528859853744507\n",
      "Epoch 2, Loss: train=1.763717770576477, valid=1.609009027481079\n",
      "Epoch 3, Loss: train=1.4880692958831787, valid=1.4040839672088623\n",
      "Epoch 4, Loss: train=1.3343921899795532, valid=1.3002811670303345\n",
      "Epoch 5, Loss: train=1.2640005350112915, valid=1.2578423023223877\n",
      "Epoch 6, Loss: train=1.2386945486068726, valid=1.244080662727356\n",
      "Epoch 7, Loss: train=1.231675386428833, valid=1.2403817176818848\n",
      "Epoch 8, Loss: train=1.2301331758499146, valid=1.2394617795944214\n",
      "Epoch 9, Loss: train=1.2298473119735718, valid=1.2392210960388184\n"
     ]
    }
   ],
   "source": [
    "import tensorflow as tf\n",
    "tf.random.set_seed(seed=42)\n",
    "\n",
    "# Train the bijector\n",
    "\n",
    "num_epochs = 10\n",
    "opt = tf.keras.optimizers.Adam()\n",
    "train_losses = []\n",
    "valid_losses = []\n",
    "\n",
    "for epoch in range(num_epochs):\n",
    "    train_loss = tf.keras.metrics.Mean()\n",
    "    val_loss = tf.keras.metrics.Mean()\n",
    "    for train_batch in x_train:\n",
    "        with tf.GradientTape() as tape:\n",
    "            tape.watch(trainable_inv_cubic.trainable_variables)\n",
    "            loss = -trainable_dist.log_prob(value=train_batch)\n",
    "        train_loss(loss)\n",
    "        grads = tape.gradient(target=loss,\n",
    "            sources=trainable_inv_cubic.trainable_variables)\n",
    "        opt.apply_gradients(grads_and_vars=zip(\n",
    "            grads, trainable_inv_cubic.trainable_variables))\n",
    "    train_losses.append(train_loss.result().numpy())\n",
    "        \n",
    "    # Validation\n",
    "    for valid_batch in x_valid:\n",
    "        loss = -trainable_dist.log_prob(valid_batch)\n",
    "        val_loss(loss)\n",
    "    valid_losses.append(val_loss.result().numpy())\n",
    "    \n",
    "    print(\"Epoch {}, Loss: train={}, valid={}\".format(\n",
    "        epoch, train_loss.result(), val_loss.result()))"
   ]
  },
  {
   "cell_type": "code",
   "execution_count": 26,
   "metadata": {},
   "outputs": [
    {
     "data": {
      "image/png": "[encoded data removed]",
      "text/plain": [
       "<Figure size 432x288 with 1 Axes>"
      ]
     },
     "metadata": {
      "needs_background": "light"
     },
     "output_type": "display_data"
    }
   ],
   "source": [
    "import matplotlib.pyplot as plt\n",
    "\n",
    "# Plot the learning curves\n",
    "\n",
    "plt.figure()\n",
    "plt.plot(train_losses, label='train')\n",
    "plt.plot(valid_losses, label='valid')\n",
    "plt.legend()\n",
    "plt.xlabel(xlabel='Epochs')\n",
    "plt.ylabel(ylabel='Negative log likelihood')\n",
    "plt.title(label='Training and validation loss curves')\n",
    "plt.show()"
   ]
  },
  {
   "cell_type": "code",
   "execution_count": 27,
   "metadata": {},
   "outputs": [
    {
     "data": {
      "image/png": "[encoded data removed]",
      "text/plain": [
       "<Figure size 864x288 with 1 Axes>"
      ]
     },
     "metadata": {
      "needs_background": "light"
     },
     "output_type": "display_data"
    }
   ],
   "source": [
    "import numpy as np\n",
    "import matplotlib.pyplot as plt\n",
    "\n",
    "# Plot the data and learned distributions\n",
    "\n",
    "x = np.linspace(start=-5.0, stop=5.0, num=100)\n",
    "\n",
    "plt.figure(figsize=(12, 4))\n",
    "plt.plot(x, mix_gauss.prob(value=x), label='data')\n",
    "plt.plot(x, trainable_dist.prob(value=x), label='learned')\n",
    "plt.title(label='Data and learned distributions')\n",
    "plt.legend()\n",
    "plt.show()"
   ]
  },
  {
   "cell_type": "code",
   "execution_count": 28,
   "metadata": {},
   "outputs": [
    {
     "data": {
      "text/plain": [
       "(<tf.Variable 'Variable:0' shape=() dtype=float32, numpy=0.565452>,\n",
       " <tf.Variable 'Variable:0' shape=() dtype=float32, numpy=-0.42197803>)"
      ]
     },
     "execution_count": 28,
     "metadata": {},
     "output_type": "execute_result"
    }
   ],
   "source": [
    "# Display trainable variables\n",
    "\n",
    "trainable_inv_cubic.trainable_variables"
   ]
  },
  {
   "cell_type": "markdown",
   "metadata": {},
   "source": [
    "***\n",
    "<a id=\"coding_tutorial_4\"></a>\n",
    "## Normalising flows"
   ]
  },
  {
   "cell_type": "code",
   "execution_count": 1,
   "metadata": {},
   "outputs": [
    {
     "name": "stdout",
     "output_type": "stream",
     "text": [
      "Output made shape: (2, 3, 2)\n",
      "maf: tfp.distributions.TransformedDistribution(\"masked_autoregressive_flowNormal\", batch_shape=[], event_shape=[3], dtype=float32)\n"
     ]
    }
   ],
   "source": [
    "import tensorflow as tf\n",
    "tf.random.set_seed(seed=42)\n",
    "import tensorflow_probability as tfp\n",
    "\n",
    "# z ~ N(0, I)\n",
    "# x[i] = z[i] * scale(x[0:i-1]) + loc(x[0:i-1]), i=0,...,D-1\n",
    "\n",
    "made = tfp.bijectors.AutoregressiveNetwork(params=2, event_shape=[3],\n",
    "    hidden_units=[16, 16], activation=tf.keras.activations.sigmoid)\n",
    "\n",
    "print('Output made shape:', made(tf.random.normal(\n",
    "    shape=(2, 3))).shape)\n",
    "\n",
    "maf_bijector = tfp.bijectors.MaskedAutoregressiveFlow(\n",
    "    shift_and_log_scale_fn=made)\n",
    "\n",
    "def forward(z):\n",
    "    x = tf.zeros_like(z)\n",
    "    for _ in range(D):\n",
    "        shift, log_scale = shift_and_log_scale_fn(x)\n",
    "        x = z * tf.math.exp(x=log_scale) + shift\n",
    "    return x\n",
    "\n",
    "def inverse(x):\n",
    "    shift, log_scale = shift_and_log_scale_fn(x)\n",
    "    return (x - shift) / tf.math.exp(x=log_scale)\n",
    "\n",
    "normal = tfp.distributions.Normal(loc=0., scale=1.)\n",
    "maf = tfp.distributions.TransformedDistribution(\n",
    "    distribution=normal, bijector=maf_bijector, event_shape=[3])\n",
    "print('maf:', maf)"
   ]
  },
  {
   "cell_type": "code",
   "execution_count": 2,
   "metadata": {},
   "outputs": [
    {
     "data": {
      "text/plain": [
       "<tfp.distributions.TransformedDistribution 'masked_autoregressive_flowNormal' batch_shape=[] event_shape=[3] dtype=float32>"
      ]
     },
     "execution_count": 2,
     "metadata": {},
     "output_type": "execute_result"
    }
   ],
   "source": [
    "import tensorflow as tf\n",
    "tf.random.set_seed(seed=42)\n",
    "import tensorflow_probability as tfp\n",
    "\n",
    "# z ~ N(0, I)\n",
    "# x[i] = z[i] + loc(x[0:i-1]), i=0,...,D-1\n",
    "\n",
    "made = tfp.bijectors.AutoregressiveNetwork(params=2, event_shape=[3],\n",
    "    hidden_units=[16, 16], activation=tf.keras.activations.sigmoid)\n",
    "\n",
    "maf_bijector = tfp.bijectors.MaskedAutoregressiveFlow(\n",
    "    shift_and_log_scale_fn=lambda y: (made(y)[..., 0], None),\n",
    "    is_constant_jacobian=True\n",
    ")\n",
    "maf_bijector._made = made\n",
    "\n",
    "normal = tfp.distributions.Normal(loc=0., scale=1.)\n",
    "maf = tfp.distributions.TransformedDistribution(\n",
    "    distribution=normal, bijector=maf_bijector, event_shape=[3])\n",
    "maf"
   ]
  },
  {
   "cell_type": "code",
   "execution_count": 3,
   "metadata": {},
   "outputs": [
    {
     "data": {
      "text/plain": [
       "<tfp.distributions.TransformedDistribution 'invert_masked_autoregressive_flowNormal' batch_shape=[] event_shape=[3] dtype=float32>"
      ]
     },
     "execution_count": 3,
     "metadata": {},
     "output_type": "execute_result"
    }
   ],
   "source": [
    "import tensorflow as tf\n",
    "tf.random.set_seed(seed=42)\n",
    "import tensorflow_probability as tfp\n",
    "\n",
    "# z ~ N(0, I)\n",
    "# z[i] = (x[i] - loc(x[0:i-1])) / scale(x[0:i-1]), i=0,...,D-1\n",
    "\n",
    "made = tfp.bijectors.AutoregressiveNetwork(params=2, event_shape=[3],\n",
    "    hidden_units=(16, 16), activation=tf.keras.activations.sigmoid)\n",
    "\n",
    "iaf_bijector = tfp.bijectors.Invert(bijector=\n",
    "    tfp.bijectors.MaskedAutoregressiveFlow(\n",
    "        shift_and_log_scale_fn=made))\n",
    "\n",
    "normal = tfp.distributions.Normal(loc=0., scale=1.)\n",
    "iaf = tfp.distributions.TransformedDistribution(\n",
    "    distribution=normal, bijector=iaf_bijector, event_shape=[3])\n",
    "iaf"
   ]
  },
  {
   "cell_type": "code",
   "execution_count": 2,
   "metadata": {},
   "outputs": [
    {
     "name": "stdout",
     "output_type": "stream",
     "text": [
      "(<tf.Tensor: shape=(1,), dtype=float32, numpy=array([0.22713283], dtype=float32)>, <tf.Tensor: shape=(1,), dtype=float32, numpy=array([-0.05992416], dtype=float32)>)\n",
      "\n",
      "\n",
      "(<tf.Tensor: shape=(1,), dtype=float32, numpy=array([0.03299494], dtype=float32)>, None)\n"
     ]
    },
    {
     "data": {
      "text/plain": [
       "<tfp.distributions.TransformedDistribution 'real_nvpMultivariateNormalDiag' batch_shape=[] event_shape=[3] dtype=float32>"
      ]
     },
     "execution_count": 2,
     "metadata": {},
     "output_type": "execute_result"
    }
   ],
   "source": [
    "import tensorflow as tf\n",
    "tf.random.set_seed(seed=42)\n",
    "import tensorflow_probability as tfp\n",
    "\n",
    "# z ~ N(0, I)\n",
    "# x[0:d] = z[0:d]\n",
    "# x[d:D] = z[d:D]*scale(z[0:d]) + loc(z[0:d])\n",
    "\n",
    "shift_and_log_scale_fn = tfp.bijectors.real_nvp_default_template(\n",
    "    hidden_layers=(32, 32), activation=tf.nn.relu)\n",
    "print(shift_and_log_scale_fn(tf.random.normal(shape=(2,)), 1))\n",
    "\n",
    "shift_and_log_scale_fn = tfp.bijectors.real_nvp_default_template(\n",
    "    hidden_layers=(32, 32), activation=tf.nn.relu, shift_only=True)\n",
    "print('\\n')\n",
    "print(shift_and_log_scale_fn(tf.random.normal(shape=(2,)), 1))\n",
    "\n",
    "shift_and_log_scale_fn = tfp.bijectors.real_nvp_default_template(\n",
    "    hidden_layers=(32, 32), activation=tf.nn.relu)\n",
    "\n",
    "realnvp_bijector = tfp.bijectors.RealNVP(num_masked=2,\n",
    "    shift_and_log_scale_fn=shift_and_log_scale_fn)\n",
    "\n",
    "realnvp_bijector = tfp.bijectors.RealNVP(fraction_masked=0.5,\n",
    "    shift_and_log_scale_fn=shift_and_log_scale_fn)\n",
    "\n",
    "def forward(z):\n",
    "    x = tf.zeros_like(z)\n",
    "    x[0:d] = z[0:d]\n",
    "    shift, log_scale = shift_and_log_scale_fn(z[0:d])\n",
    "    x[d:D] = z[d:D]*tf.math.exp(x=log_scale) + shift\n",
    "    return x\n",
    "\n",
    "def inverse(x):\n",
    "    z = tf.zeros_like(x)\n",
    "    z[0:d] = x[0:d]\n",
    "    shift, log_scale = shift_and_log_scale_fn(x[0:d])\n",
    "    z[d:D] = (x[d:D] - shift) * tf.math.exp(-log_scale)\n",
    "    return z\n",
    "\n",
    "mvn = tfp.distributions.MultivariateNormalDiag(loc=[0., 0., 0.])\n",
    "realnvp = tfp.distributions.TransformedDistribution(\n",
    "    distribution=mvn, bijector=realnvp_bijector)\n",
    "realnvp"
   ]
  },
  {
   "cell_type": "code",
   "execution_count": 1,
   "metadata": {},
   "outputs": [
    {
     "data": {
      "text/plain": [
       "<tfp.distributions.TransformedDistribution 'chain_of_real_nvp_of_permute_of_real_nvp_of_permute_of_real_nvpMultivariateNormalDiag' batch_shape=[] event_shape=[3] dtype=float32>"
      ]
     },
     "execution_count": 1,
     "metadata": {},
     "output_type": "execute_result"
    }
   ],
   "source": [
    "import tensorflow as tf\n",
    "tf.random.set_seed(seed=42)\n",
    "import tensorflow_probability as tfp\n",
    "\n",
    "permute = tfp.bijectors.Permute(permutation=[1, 2, 0])\n",
    "\n",
    "realnvp1 = tfp.bijectors.RealNVP(fraction_masked=0.5,\n",
    "    shift_and_log_scale_fn=tfp.bijectors.real_nvp_default_template(\n",
    "        hidden_layers=[32, 32]))\n",
    "realnvp2 = tfp.bijectors.RealNVP(fraction_masked=0.5,\n",
    "    shift_and_log_scale_fn=tfp.bijectors.real_nvp_default_template(\n",
    "        hidden_layers=[32, 32]))\n",
    "realnvp3 = tfp.bijectors.RealNVP(fraction_masked=0.5,\n",
    "    shift_and_log_scale_fn=tfp.bijectors.real_nvp_default_template(\n",
    "        hidden_layers=[32, 32]))\n",
    "\n",
    "chained_bijector = tfp.bijectors.Chain(bijectors=[\n",
    "    realnvp3, permute, realnvp2, permute, realnvp1])\n",
    "\n",
    "mvn = tfp.distributions.MultivariateNormalDiag(loc=[0., 0., 0.])\n",
    "realnvp = tfp.distributions.TransformedDistribution(\n",
    "    distribution=mvn, bijector=chained_bijector)\n",
    "realnvp"
   ]
  },
  {
   "cell_type": "code",
   "execution_count": null,
   "metadata": {},
   "outputs": [],
   "source": [
    "# Load dataset\n",
    "\n",
    "from sklearn import datasets\n",
    "from sklearn.preprocessing import StandardScaler\n",
    "n_samples = 1000\n",
    "noisy_moons = datasets.make_moons(n_samples=n_samples, noise=.05)\n",
    "X, y = noisy_moons\n",
    "X_data = StandardScaler().fit_transform(X)\n",
    "xlim, ylim = [-2, 2], [-2, 2]"
   ]
  },
  {
   "cell_type": "code",
   "execution_count": null,
   "metadata": {},
   "outputs": [],
   "source": [
    "# Plot with labels\n",
    "\n",
    "y_label = y.astype(np.bool)\n",
    "X_train, Y_train = X_data[..., 0], X_data[..., 1]\n",
    "plt.scatter(X_train[y_label], Y_train[y_label], s=10, color='blue')\n",
    "plt.scatter(X_train[y_label == False], Y_train[y_label == False], s=10, color='red')\n",
    "plt.legend(['label: 1', 'label: 0'])\n",
    "plt.xlim(xlim)\n",
    "plt.ylim(ylim)"
   ]
  },
  {
   "cell_type": "code",
   "execution_count": null,
   "metadata": {},
   "outputs": [],
   "source": [
    "# Define base distribution\n",
    "\n"
   ]
  },
  {
   "cell_type": "code",
   "execution_count": null,
   "metadata": {},
   "outputs": [],
   "source": [
    "# Define the trainable distribution\n",
    "\n"
   ]
  },
  {
   "cell_type": "code",
   "execution_count": null,
   "metadata": {},
   "outputs": [],
   "source": [
    "from mpl_toolkits.axes_grid1 import make_axes_locatable\n",
    "from tensorflow.compat.v1 import logging\n",
    "logging.set_verbosity(logging.ERROR)"
   ]
  },
  {
   "cell_type": "code",
   "execution_count": null,
   "metadata": {},
   "outputs": [],
   "source": [
    "# Define a plot contour routine\n",
    "\n",
    "def plot_contour_prob(dist, rows=1, title=[''], scale_fig=4):\n",
    "    cols = int(len(dist) / rows)\n",
    "    xx = np.linspace(-5.0, 5.0, 100)\n",
    "    yy = np.linspace(-5.0, 5.0, 100)\n",
    "    X, Y = np.meshgrid(xx, yy)\n",
    "\n",
    "    fig, ax = plt.subplots(rows, cols, figsize=(scale_fig * cols, scale_fig * rows))\n",
    "    fig.tight_layout(pad=4.5)\n",
    "\n",
    "    i = 0\n",
    "    for r in range(rows):\n",
    "        for c in range(cols):\n",
    "            Z = dist[i].prob(np.dstack((X, Y)))\n",
    "            if len(dist) == 1:\n",
    "                axi = ax\n",
    "            elif rows == 1:\n",
    "                axi = ax[c]\n",
    "            else:\n",
    "                axi = ax[r, c]\n",
    "\n",
    "            # Plot contour\n",
    "            p = axi.contourf(X, Y, Z)\n",
    "\n",
    "            # Add a colorbar\n",
    "            divider = make_axes_locatable(axi)\n",
    "            cax = divider.append_axes(\"right\", size=\"5%\", pad=0.1)\n",
    "            cbar = fig.colorbar(p, cax=cax)\n",
    "\n",
    "            # Set title and labels\n",
    "            axi.set_title('Filled Contours Plot: ' + str(title[i]))\n",
    "            axi.set_xlabel('x')\n",
    "            axi.set_ylabel('y')\n",
    "\n",
    "            i += 1\n",
    "    plt.show()"
   ]
  },
  {
   "cell_type": "code",
   "execution_count": null,
   "metadata": {},
   "outputs": [],
   "source": [
    "# Plot contour\n",
    "\n"
   ]
  },
  {
   "cell_type": "code",
   "execution_count": null,
   "metadata": {},
   "outputs": [],
   "source": [
    "from tensorflow.keras.layers import Input\n",
    "from tensorflow.keras import Model"
   ]
  },
  {
   "cell_type": "code",
   "execution_count": null,
   "metadata": {},
   "outputs": [],
   "source": [
    "# Make samples\n",
    "\n"
   ]
  },
  {
   "cell_type": "code",
   "execution_count": null,
   "metadata": {},
   "outputs": [],
   "source": [
    "# Define a scatter plot routine for the bijectors\n",
    "\n",
    "def _plot(results, rows=1, legend=False):\n",
    "    cols = int(len(results) / rows)\n",
    "    f, arr = plt.subplots(rows, cols, figsize=(4 * cols, 4 * rows))\n",
    "    i = 0\n",
    "    for r in range(rows):\n",
    "        for c in range(cols):\n",
    "            res = results[i]\n",
    "            X, Y = res[..., 0].numpy(), res[..., 1].numpy()\n",
    "            if rows == 1:\n",
    "                p = arr[c]\n",
    "            else:\n",
    "                p = arr[r, c]\n",
    "            p.scatter(X, Y, s=10, color='red')\n",
    "            p.set_xlim([-5, 5])\n",
    "            p.set_ylim([-5, 5])\n",
    "            p.set_title(names[i])\n",
    "            \n",
    "            i += 1"
   ]
  },
  {
   "cell_type": "code",
   "execution_count": null,
   "metadata": {},
   "outputs": [],
   "source": [
    "# Plot\n",
    "\n"
   ]
  },
  {
   "cell_type": "markdown",
   "metadata": {},
   "source": [
    "#### Training a MaskedAutoregressiveFlow bijector"
   ]
  },
  {
   "cell_type": "code",
   "execution_count": null,
   "metadata": {},
   "outputs": [],
   "source": [
    "from tensorflow.keras.callbacks import LambdaCallback"
   ]
  },
  {
   "cell_type": "code",
   "execution_count": null,
   "metadata": {},
   "outputs": [],
   "source": [
    "# Define a training routine\n",
    "\n",
    "def train_dist_routine(trainable_distribution, n_epochs=200, batch_size=None, n_disp=100):\n",
    "    x_ = Input(shape=(2,), dtype=tf.float32)\n",
    "    log_prob_ = trainable_distribution.log_prob(x_)\n",
    "    model = Model(x_, log_prob_)\n",
    "\n",
    "    model.compile(optimizer=tf.optimizers.Adam(),\n",
    "                  loss=lambda _, log_prob: -log_prob)\n",
    "\n",
    "    ns = X_data.shape[0]\n",
    "    if batch_size is None:\n",
    "        batch_size = ns\n",
    "\n",
    "    # Display the loss every n_disp epoch\n",
    "    epoch_callback = LambdaCallback(\n",
    "        on_epoch_end=lambda epoch, logs: \n",
    "                        print('\\n Epoch {}/{}'.format(epoch+1, n_epochs, logs),\n",
    "                              '\\n\\t ' + (': {:.4f}, '.join(logs.keys()) + ': {:.4f}').format(*logs.values()))\n",
    "                                       if epoch % n_disp == 0 else False \n",
    "    )\n",
    "\n",
    "\n",
    "    history = model.fit(x=X_data,\n",
    "                        y=np.zeros((ns, 0), dtype=np.float32),\n",
    "                        batch_size=batch_size,\n",
    "                        epochs=n_epochs,\n",
    "                        validation_split=0.2,\n",
    "                        shuffle=True,\n",
    "                        verbose=False,\n",
    "                        callbacks=[epoch_callback])\n",
    "    return history"
   ]
  },
  {
   "cell_type": "code",
   "execution_count": null,
   "metadata": {},
   "outputs": [],
   "source": [
    "# Train the distribution\n",
    "\n"
   ]
  },
  {
   "cell_type": "code",
   "execution_count": null,
   "metadata": {},
   "outputs": [],
   "source": [
    "# Get losses\n",
    "\n",
    "train_losses = history.history['loss']\n",
    "valid_losses = history.history['val_loss']"
   ]
  },
  {
   "cell_type": "code",
   "execution_count": null,
   "metadata": {},
   "outputs": [],
   "source": [
    "# Plot loss vs epoch\n",
    "\n",
    "plt.plot(train_losses, label='train')\n",
    "plt.plot(valid_losses, label='valid')\n",
    "plt.legend()\n",
    "plt.xlabel(\"Epochs\")\n",
    "plt.ylabel(\"Negative log likelihood\")\n",
    "plt.title(\"Training and validation loss curves\")\n",
    "plt.show()"
   ]
  },
  {
   "cell_type": "code",
   "execution_count": null,
   "metadata": {},
   "outputs": [],
   "source": [
    "# Make samples\n",
    "\n"
   ]
  },
  {
   "cell_type": "code",
   "execution_count": null,
   "metadata": {},
   "outputs": [],
   "source": [
    "# Plot\n",
    "\n"
   ]
  },
  {
   "cell_type": "code",
   "execution_count": null,
   "metadata": {},
   "outputs": [],
   "source": [
    "# Define a plot routine\n",
    "\n",
    "def visualize_training_data(samples):\n",
    "    f, arr = plt.subplots(1, 2, figsize=(15, 6))\n",
    "    names = ['Data', 'Trainable']\n",
    "    samples = [tf.constant(X_data), samples[-1]]\n",
    "\n",
    "    for i in range(2):\n",
    "        res = samples[i]\n",
    "        X, Y = res[..., 0].numpy(), res[..., 1].numpy()\n",
    "        arr[i].scatter(X, Y, s=10, color='red')\n",
    "        arr[i].set_xlim([-2, 2])\n",
    "        arr[i].set_ylim([-2, 2])\n",
    "        arr[i].set_title(names[i])\n",
    "\n",
    "visualize_training_data(samples)"
   ]
  },
  {
   "cell_type": "code",
   "execution_count": null,
   "metadata": {},
   "outputs": [],
   "source": [
    "# Plot contour\n",
    "\n"
   ]
  },
  {
   "cell_type": "markdown",
   "metadata": {},
   "source": [
    "#### Training a chain of MaskedAutoregressiveFlow bijectors"
   ]
  },
  {
   "cell_type": "code",
   "execution_count": null,
   "metadata": {},
   "outputs": [],
   "source": [
    "# Define a more expressive model\n",
    "\n"
   ]
  },
  {
   "cell_type": "code",
   "execution_count": null,
   "metadata": {},
   "outputs": [],
   "source": [
    "# Define the trainable distribution\n",
    "\n"
   ]
  },
  {
   "cell_type": "code",
   "execution_count": null,
   "metadata": {},
   "outputs": [],
   "source": [
    "# Make samples\n",
    "\n",
    "def make_samples():\n",
    "    x = base_distribution.sample((1000, 2))\n",
    "    samples = [x]\n",
    "    names = [base_distribution.name]\n",
    "    for bijector in reversed(trainable_distribution.bijector.bijectors):\n",
    "        x = bijector.forward(x)\n",
    "        samples.append(x)\n",
    "        names.append(bijector.name)\n",
    "    return names, samples\n",
    "\n",
    "names, samples = make_samples()"
   ]
  },
  {
   "cell_type": "code",
   "execution_count": null,
   "metadata": {},
   "outputs": [],
   "source": [
    "# Plot\n",
    "\n"
   ]
  },
  {
   "cell_type": "code",
   "execution_count": null,
   "metadata": {},
   "outputs": [],
   "source": [
    "# Plot\n",
    "\n"
   ]
  },
  {
   "cell_type": "code",
   "execution_count": null,
   "metadata": {},
   "outputs": [],
   "source": [
    "# Train the distribution\n",
    "\n"
   ]
  },
  {
   "cell_type": "code",
   "execution_count": null,
   "metadata": {},
   "outputs": [],
   "source": [
    "# Get losses\n",
    "\n",
    "train_losses = history.history['loss']\n",
    "valid_losses = history.history['val_loss']"
   ]
  },
  {
   "cell_type": "code",
   "execution_count": null,
   "metadata": {},
   "outputs": [],
   "source": [
    "# Plot loss vs epoch\n",
    "\n",
    "plt.plot(train_losses, label='train')\n",
    "plt.plot(valid_losses, label='valid')\n",
    "plt.legend()\n",
    "plt.xlabel(\"Epochs\")\n",
    "plt.ylabel(\"Negative log likelihood\")\n",
    "plt.title(\"Training and validation loss curves\")\n",
    "plt.show()"
   ]
  },
  {
   "cell_type": "code",
   "execution_count": null,
   "metadata": {},
   "outputs": [],
   "source": [
    "# Make samples and plot\n",
    "\n"
   ]
  },
  {
   "cell_type": "code",
   "execution_count": null,
   "metadata": {},
   "outputs": [],
   "source": [
    "# Plot\n",
    "\n"
   ]
  },
  {
   "cell_type": "code",
   "execution_count": null,
   "metadata": {},
   "outputs": [],
   "source": [
    "# Plot\n",
    "\n"
   ]
  }
 ],
 "metadata": {
  "kernelspec": {
   "display_name": "Python 3",
   "language": "python",
   "name": "python3"
  },
  "language_info": {
   "codemirror_mode": {
    "name": "ipython",
    "version": 3
   },
   "file_extension": ".py",
   "mimetype": "text/x-python",
   "name": "python",
   "nbconvert_exporter": "python",
   "pygments_lexer": "ipython3",
   "version": "3.7.1"
  }
 },
 "nbformat": 4,
 "nbformat_minor": 2
}
