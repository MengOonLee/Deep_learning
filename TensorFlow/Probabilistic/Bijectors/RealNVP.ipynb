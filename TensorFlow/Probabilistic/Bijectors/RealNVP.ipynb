{
  "cells": [
    {
      "cell_type": "markdown",
      "metadata": {
        "id": "view-in-github",
        "colab_type": "text"
      },
      "source": [
        "<a href=\"https://colab.research.google.com/github/MengOonLee/Deep_learning/blob/master/TensorFlow/Probabilistic/Bijectors/RealNVP.ipynb\" target=\"_parent\"><img src=\"https://colab.research.google.com/assets/colab-badge.svg\" alt=\"Open In Colab\"/></a>"
      ]
    },
    {
      "cell_type": "markdown",
      "metadata": {
        "id": "eBFX3sHaqjlj"
      },
      "source": [
        "# Programming Assignment"
      ]
    },
    {
      "cell_type": "markdown",
      "metadata": {
        "id": "X82lmJrUqjll"
      },
      "source": [
        "## RealNVP for the LSUN bedroom dataset"
      ]
    },
    {
      "cell_type": "markdown",
      "metadata": {
        "id": "4h9RBa6Nqjlm"
      },
      "source": [
        "### Instructions\n",
        "\n",
        "In this notebook, you will develop the RealNVP normalising flow architecture from scratch, including the affine coupling layers, checkerboard and channel-wise masking, and combining into a multiscale architecture. You will train the normalising flow on a subset of the LSUN bedroom dataset.\n",
        "\n",
        "Some code cells are provided for you in the notebook. You should avoid editing provided code, and make sure to execute the cells in order to avoid unexpected errors. Some cells begin with the line:\n",
        "\n",
        "`#### GRADED CELL ####`\n",
        "\n",
        "Don't move or edit this first line - this is what the automatic grader looks for to recognise graded cells. These cells require you to write your own code to complete them, and are automatically graded when you submit the notebook. Don't edit the function name or signature provided in these cells, otherwise the automatic grader might not function properly.\n",
        "\n",
        "### How to submit\n",
        "\n",
        "Complete all the tasks you are asked for in the worksheet. When you have finished and are happy with your code, press the **Submit Assignment** button at the top of this notebook.\n",
        "\n",
        "### Let's get started!\n",
        "\n",
        "We'll start running some imports, and loading the dataset. Do not edit the existing imports in the following cell. If you would like to make further Tensorflow imports, you should add them here."
      ]
    },
    {
      "cell_type": "code",
      "source": [
        "!pip uninstall -y tensorflow tensorflow-probability"
      ],
      "metadata": {
        "id": "7ac08dQ5qlxT"
      },
      "execution_count": null,
      "outputs": []
    },
    {
      "cell_type": "code",
      "source": [
        "!pip install tensorflow==2.12.0 tensorflow-probability==0.15.0"
      ],
      "metadata": {
        "id": "UfoXcJF6qsJQ"
      },
      "execution_count": null,
      "outputs": []
    },
    {
      "cell_type": "code",
      "execution_count": null,
      "metadata": {
        "id": "HaWFhFOjqjln"
      },
      "outputs": [],
      "source": [
        "#### PACKAGE IMPORTS ####\n",
        "\n",
        "# Run this cell first to import all required packages. Do not make any imports elsewhere in the notebook\n",
        "\n",
        "import tensorflow as tf\n",
        "import tensorflow_probability as tfp\n",
        "import numpy as np\n",
        "import matplotlib.pyplot as plt\n",
        "\n",
        "from tensorflow.keras import Model, Input\n",
        "from tensorflow.keras.layers import Conv2D, BatchNormalization\n",
        "from tensorflow.keras.optimizers import Adam\n",
        "\n",
        "tfd = tfp.distributions\n",
        "tfb = tfp.bijectors\n",
        "\n",
        "# If you would like to make further imports from tensorflow, add them here\n",
        "\n",
        "tf.random.set_seed(seed=42)"
      ]
    },
    {
      "cell_type": "markdown",
      "metadata": {
        "id": "e1qwaB_fqjlp"
      },
      "source": [
        "<table><tr>\n",
        "<td> <img src=\"https://github.com/MengOonLee/Deep_learning/blob/master/TensorFlow/Probabilistic/Bijectors/figures/bedroom1.jpg?raw=1\" alt=\"bedroom 1\" style=\"height: 210px;\"/>  </td>\n",
        "<td> <img src=\"https://github.com/MengOonLee/Deep_learning/blob/master/TensorFlow/Probabilistic/Bijectors/figures/bedroom2.jpg?raw=1\" alt=\"bedroom 2\" style=\"height: 210px;\"/> </td>\n",
        "    <td> <img src=\"https://github.com/MengOonLee/Deep_learning/blob/master/TensorFlow/Probabilistic/Bijectors/figures/bedroom3.jpg?raw=1\" alt=\"bedroom 3\" style=\"height: 210px;\"/> </td>\n",
        "</tr></table>\n",
        "  \n",
        "#### The LSUN Bedroom Dataset\n",
        "\n",
        "In this assignment, you will use a subset of the [LSUN dataset](https://www.yf.io/p/lsun). This is a large-scale image dataset with 10 scene and 20 object categories. A subset of the LSUN bedroom dataset has been provided, and has already been downsampled and preprocessed into smaller, fixed-size images.\n",
        "\n",
        "* F. Yu, A. Seff, Y. Zhang, S. Song, T. Funkhouser and J. Xia. \"LSUN: Construction of a Large-scale Image Dataset using Deep Learning with Humans in the Loop\". [arXiv:1506.03365](https://arxiv.org/abs/1506.03365), 10 Jun 2015\n",
        "\n",
        "Your goal is to develop the RealNVP normalising flow architecture using bijector subclassing, and use it to train a generative model of the LSUN bedroom data subset. For full details on the RealNVP model, refer to the original paper:\n",
        "\n",
        "* L. Dinh, J. Sohl-Dickstein and S. Bengio. \"Density estimation using Real NVP\". [arXiv:1605.08803](https://arxiv.org/abs/1605.08803), 27 Feb 2017."
      ]
    },
    {
      "cell_type": "markdown",
      "metadata": {
        "id": "qPp0mzhIqjlp"
      },
      "source": [
        "#### Load the dataset\n",
        "\n",
        "The following functions will be useful for loading and preprocessing the dataset. The subset you will use for this assignment consists of 10,000 training images, 1000 validation images and 1000 test images.\n",
        "\n",
        "The images have been downsampled to 32 x 32 x 3 in order to simplify the training process."
      ]
    },
    {
      "cell_type": "code",
      "source": [
        "%%bash\n",
        "unzip Files.zip -d /content/\n",
        "mv Files data"
      ],
      "metadata": {
        "colab": {
          "base_uri": "https://localhost:8080/"
        },
        "id": "mS_E7GRXPTh-",
        "outputId": "ca87de4b-8c5f-4426-ecf0-35137d55d859"
      },
      "execution_count": null,
      "outputs": [
        {
          "output_type": "stream",
          "name": "stdout",
          "text": [
            "Archive:  Files.zip\n",
            "  inflating: /content/Files/test.npy  \n",
            "  inflating: /content/Files/train.npy  \n",
            "  inflating: /content/Files/val.npy  \n"
          ]
        }
      ]
    },
    {
      "cell_type": "code",
      "execution_count": null,
      "metadata": {
        "id": "8tAZ4ifqqjlq"
      },
      "outputs": [],
      "source": [
        "# Functions for loading and preprocessing the images\n",
        "import numpy as np\n",
        "import tensorflow as tf\n",
        "tf.keras.utils.set_random_seed(seed=42)\n",
        "\n",
        "def load_image(img):\n",
        "    img = tf.image.random_flip_left_right(image=img)\n",
        "    return img, img\n",
        "\n",
        "def load_dataset(split):\n",
        "    train_list_ds = tf.data.Dataset.from_tensor_slices(\n",
        "        tensors=np.load(file='./data/{}.npy'.format(split)))\n",
        "    train_ds = train_list_ds.map(map_func=load_image)\n",
        "    return train_ds"
      ]
    },
    {
      "cell_type": "code",
      "execution_count": null,
      "metadata": {
        "id": "YREur0h0qjlq"
      },
      "outputs": [],
      "source": [
        "# Load the training, validation and testing datasets splits\n",
        "train_ds = load_dataset('train')\n",
        "val_ds = load_dataset('val')\n",
        "test_ds = load_dataset('test')"
      ]
    },
    {
      "cell_type": "code",
      "execution_count": null,
      "metadata": {
        "id": "rYyWZRdTqjlq"
      },
      "outputs": [],
      "source": [
        "# Shuffle the datasets\n",
        "train_ds = train_ds.shuffle(buffer_size=len(train_ds))\n",
        "val_ds = val_ds.shuffle(buffer_size=len(val_ds))\n",
        "test_ds = test_ds.shuffle(buffer_size=len(test_ds))"
      ]
    },
    {
      "cell_type": "code",
      "execution_count": null,
      "metadata": {
        "scrolled": true,
        "colab": {
          "base_uri": "https://localhost:8080/",
          "height": 835
        },
        "id": "lrZbUcP1qjlr",
        "outputId": "fe2ec4f3-c3d2-40ae-b61f-5bd43720e910"
      },
      "outputs": [
        {
          "output_type": "display_data",
          "data": {
            "text/plain": [
              "<Figure size 1400x1400 with 16 Axes>"
            ],
            "image/png": "[encoded data removed]"
          },
          "metadata": {}
        }
      ],
      "source": [
        "# Display a few examples\n",
        "import matplotlib.pyplot as plt\n",
        "\n",
        "n_img = 4\n",
        "fig, axs = plt.subplots(nrows=n_img, ncols=n_img, figsize=(14, 14))\n",
        "for k, image in enumerate(train_ds.take(count=n_img**2)):\n",
        "    i = k // n_img\n",
        "    j = k % n_img\n",
        "    axs[i, j].imshow(X=image[0])\n",
        "    axs[i, j].axis('off')\n",
        "fig.subplots_adjust(wspace=0.01, hspace=0.03)\n",
        "fig.tight_layout()\n",
        "fig.show()"
      ]
    },
    {
      "cell_type": "code",
      "execution_count": null,
      "metadata": {
        "id": "NgzoZAqTqjls"
      },
      "outputs": [],
      "source": [
        "# Batch the Dataset objects\n",
        "batch_size = 128\n",
        "train_ds = train_ds.batch(batch_size=batch_size)\n",
        "val_ds = val_ds.batch(batch_size=batch_size)\n",
        "test_ds = test_ds.batch(batch_size=batch_size)"
      ]
    },
    {
      "cell_type": "markdown",
      "metadata": {
        "id": "eYWdxmDVqjls"
      },
      "source": [
        "### Affine coupling layer\n",
        "\n",
        "We will begin the development of the RealNVP architecture with the core bijector that is called the _affine coupling layer_. This bijector can be described as follows: suppose that $x$ is a $D$-dimensional input, and let $d<D$. Then the output $y$ of the affine coupling layer is given by the following equations:\n",
        "\n",
        "$$\n",
        "\\begin{align*}\n",
        "y_{1:d} &= x_{1:d} \\tag{1}\\\\\n",
        "    y_{d+1:D} &= x_{d+1:D}\\odot \\exp(s(x_{1:d})) + t(x_{1:d}), \\tag{2}\n",
        "\\end{align*}\n",
        "$$\n",
        "\n",
        "where $s$ and $t$ are functions from $\\mathbb{R}^d\\rightarrow\\mathbb{R}^{D-d}$, and define the log-scale and shift operations on the vector $x_{d+1:D}$ respectively.\n",
        "\n",
        "The log of the Jacobian determinant for this layer is given by $\\sum_{j}s(x_{1:d})_j$.\n",
        "\n",
        "The inverse operation can be easily computed as\n",
        "\n",
        "$$\n",
        "\\begin{align*}\n",
        "x_{1:d} &= y_{1:d}\\tag{3}\\\\\n",
        "x_{d+1:D} &= \\left(y_{d+1:D} - t(y_{1:d})\\right)\\odot \\exp(-s(y_{1:d})),\\tag{4}\n",
        "\\end{align*}\n",
        "$$\n",
        "\n",
        "In practice, we will implement equations $(1)$ to $(4)$ using a binary mask $b$:\n",
        "\n",
        "$$\n",
        "\\begin{align*}\n",
        "\\text{Forward pass:}\\qquad y &= b\\odot x + (1-b)\\odot\\left(x\\odot\\exp(s(b\\odot x)) + t(b\\odot x)\\right),\\tag{5}\\\\\n",
        "\\text{Inverse pass:}\\qquad x &= b\\odot y + (1-b)\\odot\\left(y - t(b\\odot y)) \\odot\\exp( -s(b\\odot y)\\right).\\tag{6}\n",
        "\\end{align*}\n",
        "$$"
      ]
    },
    {
      "cell_type": "markdown",
      "metadata": {
        "id": "uQSGitNSqjls"
      },
      "source": [
        "Our inputs $x$ will be a batch of 3-dimensional Tensors with `height`, `width` and `channels` dimensions. As in the original architecture, we will use both spatial 'checkerboard' masks and channel-wise masks:\n",
        "\n",
        "![Checkerboard and binary masks](https://github.com/MengOonLee/Deep_learning/blob/master/TensorFlow/Probabilistic/Bijectors/figures/binary_masks.png?raw=1)\n",
        "\n",
        "<center>Figure 1. Spatial checkerboard mask (left) and channel-wise mask (right). From the original paper.</center>"
      ]
    },
    {
      "cell_type": "markdown",
      "metadata": {
        "id": "fSVdsIO_qjlt"
      },
      "source": [
        "#### Custom model for log-scale and shift\n",
        "\n",
        "You should now create a custom model for the shift and log-scale parameters that are used in the affine coupling layer bijector. We will use a convolutional residual network, with two residual blocks and a final convolutional layer. Using the functional API, build the model according to the following specifications:\n",
        "\n",
        "* The function takes the `input_shape` and `filters` as arguments\n",
        "* The model should use the `input_shape` in the function argument to set the shape in the Input layer (call this layer `h0`).\n",
        "* The first hidden layer should be a Conv2D layer with number of filters set by the `filters` argument, and a ReLU activation\n",
        "* The second hidden layer should be a BatchNormalization layer\n",
        "* The third hidden layer should be a Conv2D layer with the same number of filters as the input `h0` to the model, and a ReLU activation\n",
        "* The fourth hidden layer should be a BatchNormalization layer\n",
        "* The fifth hidden layer should be the sum of the fourth hidden layer output and the inputs `h0`. Call this layer `h1`\n",
        "* The sixth hidden layer should be a Conv2D layer with filters set by the `filters` argument, and a ReLU activation\n",
        "* The seventh hidden layer should be a BatchNormalization layer\n",
        "* The eighth hidden layer should be a Conv2D layer with the same number of filters as `h1` (and `h0`), and a ReLU activation\n",
        "* The ninth hidden layer should be a BatchNormalization layer\n",
        "* The tenth hidden layer should be the sum of the ninth hidden layer output and `h1`\n",
        "* The eleventh hidden layer should be a Conv2D layer with the number of filters equal to twice the number of channels of the model input, and a linear activation. Call this layer `h2`\n",
        "* The twelfth hidden layer should split `h2` into two equal-sized Tensors along the final channel axis. These two Tensors are the shift and log-scale Tensors, and should each have the same shape as the model input\n",
        "* The final layer should then apply the `tanh` nonlinearity to the log_scale Tensor. The outputs to the model should then be the list of Tensors `[shift, log_scale]`\n",
        "\n",
        "All Conv2D layers should use a 3x3 kernel size, `\"SAME\"` padding and an $l2$ kernel regularizer with regularisation coefficient of `5e-5`.\n",
        "\n",
        "_Hint: use_ `tf.split` _with arguments_ `num_or_size_splits=2, axis=-1` _to create the output Tensors_.\n",
        "\n",
        "In total, the network should have 14 layers (including the `Input` layer)."
      ]
    },
    {
      "cell_type": "code",
      "execution_count": null,
      "metadata": {
        "id": "bK_7kuVjqjlt"
      },
      "outputs": [],
      "source": [
        "#### GRADED CELL ####\n",
        "\n",
        "# Complete the following function.\n",
        "# Make sure to not change the function name or arguments.\n",
        "import tensorflow as tf\n",
        "import tensorflow_probability as tfp\n",
        "import tf_keras\n",
        "tf_keras.utils.set_random_seed(seed=42)\n",
        "\n",
        "def get_conv_resnet(input_shape, filters):\n",
        "    \"\"\"\n",
        "    This function should build a CNN ResNet model according to the above specification,\n",
        "    using the functional API. The function takes input_shape as an argument, which should be\n",
        "    used to specify the shape in the Input layer, as well as a filters argument, which\n",
        "    should be used to specify the number of filters in (some of) the convolutional layers.\n",
        "    Your function should return the model.\n",
        "    \"\"\"\n",
        "\n",
        "    h0 = tf_keras.Input(shape=input_shape)\n",
        "    r = tf_keras.layers.Conv2D(filters=filters, kernel_size=[3, 3],\n",
        "        padding='SAME', activation=tf.keras.activations.relu,\n",
        "        kernel_regularizer=tf.keras.regularizers.l2(l2=5e-5))(inputs=h0)\n",
        "    r = tf_keras.layers.BatchNormalization()(inputs=r)\n",
        "    r = tf_keras.layers.Conv2D(filters=input_shape[-1], kernel_size=[3, 3],\n",
        "        padding='SAME', activation=tf.keras.activations.relu,\n",
        "        kernel_regularizer=tf.keras.regularizers.l2(l2=5e-5))(inputs=r)\n",
        "    r = tf_keras.layers.BatchNormalization()(inputs=r)\n",
        "    h1 = tf.math.add(x=h0, y=r)\n",
        "\n",
        "    r = tf_keras.layers.Conv2D(filters=filters, kernel_size=[3, 3],\n",
        "        padding='SAME', activation=tf.keras.activations.relu,\n",
        "        kernel_regularizer=tf.keras.regularizers.l2(l2=5e-5))(inputs=h1)\n",
        "    r = tf_keras.layers.BatchNormalization()(inputs=r)\n",
        "    r = tf_keras.layers.Conv2D(filters=input_shape[-1], kernel_size=[3, 3],\n",
        "        padding='SAME', activation=tf.keras.activations.relu,\n",
        "        kernel_regularizer=tf.keras.regularizers.l2(l2=5e-5))(inputs=r)\n",
        "    r = tf_keras.layers.BatchNormalization()(inputs=r)\n",
        "    r = tf.math.add(x=h1, y=r)\n",
        "\n",
        "    h2 = tf_keras.layers.Conv2D(filters=2*input_shape[-1], kernel_size=[3, 3],\n",
        "        padding='SAME', activation=tf.keras.activations.linear,\n",
        "        kernel_regularizer=tf.keras.regularizers.l2(l2=5e-5))(inputs=r)\n",
        "\n",
        "    shift, log_scale = tf.split(value=h2, num_or_size_splits=2, axis=-1)\n",
        "    log_scale = tf.math.tanh(log_scale)\n",
        "\n",
        "    return tf_keras.Model(inputs=h0, outputs=[shift, log_scale])"
      ]
    },
    {
      "cell_type": "code",
      "execution_count": null,
      "metadata": {
        "scrolled": true,
        "colab": {
          "base_uri": "https://localhost:8080/"
        },
        "id": "oLBaBhQ9qjlu",
        "outputId": "c25d742e-36ec-489e-8e5b-5d9c8eeae08e",
        "collapsed": true
      },
      "outputs": [
        {
          "output_type": "stream",
          "name": "stdout",
          "text": [
            "Model: \"model\"\n",
            "__________________________________________________________________________________________________\n",
            " Layer (type)                Output Shape                 Param #   Connected to                  \n",
            "==================================================================================================\n",
            " input_1 (InputLayer)        [(None, 32, 32, 3)]          0         []                            \n",
            "                                                                                                  \n",
            " conv2d (Conv2D)             (None, 32, 32, 32)           896       ['input_1[0][0]']             \n",
            "                                                                                                  \n",
            " batch_normalization (Batch  (None, 32, 32, 32)           128       ['conv2d[0][0]']              \n",
            " Normalization)                                                                                   \n",
            "                                                                                                  \n",
            " conv2d_1 (Conv2D)           (None, 32, 32, 3)            867       ['batch_normalization[0][0]'] \n",
            "                                                                                                  \n",
            " batch_normalization_1 (Bat  (None, 32, 32, 3)            12        ['conv2d_1[0][0]']            \n",
            " chNormalization)                                                                                 \n",
            "                                                                                                  \n",
            " tf.math.add (TFOpLambda)    (None, 32, 32, 3)            0         ['input_1[0][0]',             \n",
            "                                                                     'batch_normalization_1[0][0]'\n",
            "                                                                    ]                             \n",
            "                                                                                                  \n",
            " conv2d_2 (Conv2D)           (None, 32, 32, 32)           896       ['tf.math.add[0][0]']         \n",
            "                                                                                                  \n",
            " batch_normalization_2 (Bat  (None, 32, 32, 32)           128       ['conv2d_2[0][0]']            \n",
            " chNormalization)                                                                                 \n",
            "                                                                                                  \n",
            " conv2d_3 (Conv2D)           (None, 32, 32, 3)            867       ['batch_normalization_2[0][0]'\n",
            "                                                                    ]                             \n",
            "                                                                                                  \n",
            " batch_normalization_3 (Bat  (None, 32, 32, 3)            12        ['conv2d_3[0][0]']            \n",
            " chNormalization)                                                                                 \n",
            "                                                                                                  \n",
            " tf.math.add_1 (TFOpLambda)  (None, 32, 32, 3)            0         ['tf.math.add[0][0]',         \n",
            "                                                                     'batch_normalization_3[0][0]'\n",
            "                                                                    ]                             \n",
            "                                                                                                  \n",
            " conv2d_4 (Conv2D)           (None, 32, 32, 6)            168       ['tf.math.add_1[0][0]']       \n",
            "                                                                                                  \n",
            " tf.split (TFOpLambda)       [(None, 32, 32, 3),          0         ['conv2d_4[0][0]']            \n",
            "                              (None, 32, 32, 3)]                                                  \n",
            "                                                                                                  \n",
            " tf.math.tanh (TFOpLambda)   (None, 32, 32, 3)            0         ['tf.split[0][1]']            \n",
            "                                                                                                  \n",
            "==================================================================================================\n",
            "Total params: 3974 (15.52 KB)\n",
            "Trainable params: 3834 (14.98 KB)\n",
            "Non-trainable params: 140 (560.00 Byte)\n",
            "__________________________________________________________________________________________________\n"
          ]
        }
      ],
      "source": [
        "# Test your function and print the model summary\n",
        "conv_resnet = get_conv_resnet(input_shape=[32, 32, 3], filters=32)\n",
        "conv_resnet.summary()"
      ]
    },
    {
      "cell_type": "markdown",
      "metadata": {
        "id": "v-EbdHCVqjlu"
      },
      "source": [
        "You can also inspect your model architecture graphically by running the following cell. It should look something like the following:\n",
        "\n",
        "![ResNet plot](https://github.com/MengOonLee/Deep_learning/blob/master/TensorFlow/Probabilistic/Bijectors/figures/model_plot.png?raw=1)"
      ]
    },
    {
      "cell_type": "code",
      "execution_count": null,
      "metadata": {
        "colab": {
          "base_uri": "https://localhost:8080/",
          "height": 51
        },
        "id": "86CVbcWdqjlu",
        "outputId": "58a91434-b565-4e5a-af11-057fa554deef"
      },
      "outputs": [
        {
          "output_type": "execute_result",
          "data": {
            "image/png": "[encoded data removed]",
            "text/plain": [
              "<IPython.core.display.Image object>"
            ]
          },
          "metadata": {},
          "execution_count": 9
        }
      ],
      "source": [
        "# Plot the model graph\n",
        "import tf_keras\n",
        "\n",
        "tf_keras.utils.plot_model(conv_resnet, show_layer_names=False, rankdir='LR')"
      ]
    },
    {
      "cell_type": "code",
      "execution_count": null,
      "metadata": {
        "colab": {
          "base_uri": "https://localhost:8080/"
        },
        "id": "1sXOO25Qqjlv",
        "outputId": "c64c9e72-5f68-4a48-bd7a-bd2040315f85"
      },
      "outputs": [
        {
          "output_type": "stream",
          "name": "stdout",
          "text": [
            "(1, 32, 32, 3) (1, 32, 32, 3)\n"
          ]
        }
      ],
      "source": [
        "# Check the output shapes are as expected\n",
        "import tensorflow as tf\n",
        "tf.keras.utils.set_random_seed(seed=42)\n",
        "\n",
        "x = tf.random.normal(shape=[1, 32, 32, 3], dtype=tf.float32)\n",
        "y = conv_resnet(inputs=x)\n",
        "print(y[0].shape, y[1].shape)"
      ]
    },
    {
      "cell_type": "markdown",
      "metadata": {
        "id": "swqDUt6Aqjlv"
      },
      "source": [
        "#### Binary masks\n",
        "\n",
        "Now that you have a shift and log-scale model built, we will now implement the affine coupling layer. We will first need functions to create the binary masks $b$ as described above. The following function creates the spatial 'checkerboard' mask.\n",
        "\n",
        "It takes a rank-2 `shape` as input, which correspond to the `height` and `width` dimensions, as well as an `orientation` argument (an integer equal to `0` or `1`) that determines which way round the zeros and ones are entered into the Tensor."
      ]
    },
    {
      "cell_type": "code",
      "execution_count": null,
      "metadata": {
        "id": "EerDcg_7qjlv"
      },
      "outputs": [],
      "source": [
        "# Function to create the checkerboard mask\n",
        "import tensorflow as tf\n",
        "tf.keras.utils.set_random_seed(seed=42)\n",
        "\n",
        "def checkerboard_binary_mask(shape, orientation=0):\n",
        "    height, width = shape[0], shape[1]\n",
        "    height_range = tf.range(height)\n",
        "    width_range = tf.range(width)\n",
        "    height_odd_inx = tf.cast(x=tf.math.floormod(x=height_range, y=2), dtype=tf.bool)\n",
        "    width_odd_inx = tf.cast(x=tf.math.floormod(x=width_range, y=2), dtype=tf.bool)\n",
        "    odd_rows = tf.tile(input=tf.expand_dims(input=height_odd_inx, axis=-1),\n",
        "        multiples=[1, width])\n",
        "    odd_cols = tf.tile(input=tf.expand_dims(input=width_odd_inx, axis=0),\n",
        "        multiples=[height, 1])\n",
        "    checkerboard_mask = tf.math.logical_xor(x=odd_rows, y=odd_cols)\n",
        "    if orientation == 1:\n",
        "        checkerboard_mask = tf.math.logical_not(x=checkerboard_mask)\n",
        "    return tf.cast(x=tf.expand_dims(input=checkerboard_mask, axis=-1),\n",
        "        dtype=tf.float32)"
      ]
    },
    {
      "cell_type": "markdown",
      "metadata": {
        "id": "48qLcZDuqjlw"
      },
      "source": [
        "This function creates a rank-3 Tensor to mask the `height`, `width` and `channels` dimensions of the input. We can take a look at this checkerboard mask for some example inputs below. In order to make the Tensors easier to inspect, we will squeeze out the single channel dimension (which is always 1 for this mask)."
      ]
    },
    {
      "cell_type": "code",
      "execution_count": null,
      "metadata": {
        "colab": {
          "base_uri": "https://localhost:8080/"
        },
        "id": "1XXxbvRNqjlw",
        "outputId": "1003a962-0a10-458e-b219-cfd3a44967eb"
      },
      "outputs": [
        {
          "output_type": "execute_result",
          "data": {
            "text/plain": [
              "<tf.Tensor: shape=(4, 4), dtype=float32, numpy=\n",
              "array([[0., 1., 0., 1.],\n",
              "       [1., 0., 1., 0.],\n",
              "       [0., 1., 0., 1.],\n",
              "       [1., 0., 1., 0.]], dtype=float32)>"
            ]
          },
          "metadata": {},
          "execution_count": 16
        }
      ],
      "source": [
        "# Run the checkerboard_binary_mask function to see an example\n",
        "# NB: we squeeze the shape for easier viewing. The full shape is (4, 4, 1)\n",
        "import tensorflow as tf\n",
        "tf.keras.utils.set_random_seed(seed=42)\n",
        "\n",
        "tf.squeeze(input=checkerboard_binary_mask(shape=(4, 4), orientation=0))"
      ]
    },
    {
      "cell_type": "code",
      "execution_count": null,
      "metadata": {
        "scrolled": true,
        "colab": {
          "base_uri": "https://localhost:8080/"
        },
        "id": "sN9nB_Seqjlx",
        "outputId": "84cb2333-1516-476b-d6bf-5b52eda7d3c8"
      },
      "outputs": [
        {
          "output_type": "execute_result",
          "data": {
            "text/plain": [
              "<tf.Tensor: shape=(4, 4), dtype=float32, numpy=\n",
              "array([[1., 0., 1., 0.],\n",
              "       [0., 1., 0., 1.],\n",
              "       [1., 0., 1., 0.],\n",
              "       [0., 1., 0., 1.]], dtype=float32)>"
            ]
          },
          "metadata": {},
          "execution_count": 17
        }
      ],
      "source": [
        "# The `orientation` should be 0 or 1, and determines which way round the binary entries are\n",
        "import tensorflow as tf\n",
        "tf.keras.utils.set_random_seed(seed=42)\n",
        "\n",
        "tf.squeeze(input=checkerboard_binary_mask(shape=(4, 4), orientation=1))"
      ]
    },
    {
      "cell_type": "markdown",
      "metadata": {
        "id": "pgZQ_lnRqjlx"
      },
      "source": [
        "You should now complete the following function to create a channel-wise mask. This function takes a single integer `num_channels` as an input, as well as an `orientation` argument, similar to above. You can assume that the `num_channels` integer is even.\n",
        "\n",
        "The function should return a rank-3 Tensor with singleton entries for `height` and `width`. In the channel axis, the first `num_channels // 2` entries should be zero (for `orientation=0`) and the final `num_channels // 2` entries should be one (for `orientation=0`). The zeros and ones should be reversed for `orientation=1`. The `dtype` of the returned Tensor should be `tf.float32`."
      ]
    },
    {
      "cell_type": "code",
      "execution_count": null,
      "metadata": {
        "id": "SGCKh3U8qjlx"
      },
      "outputs": [],
      "source": [
        "#### GRADED CELL ####\n",
        "\n",
        "# Complete the following function.\n",
        "# Make sure to not change the function name or arguments.\n",
        "\n",
        "def channel_binary_mask(num_channels, orientation=0):\n",
        "    \"\"\"\n",
        "    This function takes an integer num_channels and orientation (0 or 1) as\n",
        "    arguments. It should create a channel-wise binary mask with\n",
        "    dtype=tf.float32, according to the above specification.\n",
        "    The function should then return the binary mask.\n",
        "    \"\"\"\n",
        "\n",
        "    channel_range = tf.range(num_channels)\n",
        "    channel_mask = tf.math.greater_equal(channel_range,\n",
        "        num_channels // 2)\n",
        "    if orientation == 1:\n",
        "        channel_mask = tf.math.logical_not(channel_mask)\n",
        "    return tf.cast(x=tf.reshape(tensor=channel_mask,\n",
        "        shape=[1, 1, num_channels]), dtype=tf.float32)"
      ]
    },
    {
      "cell_type": "code",
      "execution_count": null,
      "metadata": {
        "colab": {
          "base_uri": "https://localhost:8080/"
        },
        "id": "ZipbfnbWqjlx",
        "outputId": "d9ac9302-5c0f-4781-db0d-4a61399c42fb"
      },
      "outputs": [
        {
          "output_type": "execute_result",
          "data": {
            "text/plain": [
              "<tf.Tensor: shape=(1, 1, 6), dtype=float32, numpy=array([[[0., 0., 0., 1., 1., 1.]]], dtype=float32)>"
            ]
          },
          "metadata": {},
          "execution_count": 15
        }
      ],
      "source": [
        "# Run your function to see an example channel-wise binary mask\n",
        "\n",
        "channel_binary_mask(num_channels=6, orientation=0)"
      ]
    },
    {
      "cell_type": "code",
      "execution_count": null,
      "metadata": {
        "id": "Vjq_B3ttqjly"
      },
      "outputs": [],
      "source": [
        "#### GRADED CELL ####\n",
        "\n",
        "# Complete the following functions.\n",
        "# Make sure to not change the function names or arguments.\n",
        "\n",
        "def forward(x, b, shift_and_log_scale_fn):\n",
        "    \"\"\"\n",
        "    This function takes the input Tensor x, binary mask b and callable\n",
        "    shift_and_log_scale_fn as arguments.\n",
        "    This function should implement the forward transformation in equation (5)\n",
        "    and return the output Tensor y, which will have the same shape as x\n",
        "    \"\"\"\n",
        "\n",
        "    shift, log_scale = shift_and_log_scale_fn(b*x)\n",
        "    return b*x + (1 - b)*(x*tf.math.exp(x=log_scale) + shift)\n",
        "\n",
        "def inverse(y, b, shift_and_log_scale_fn):\n",
        "    \"\"\"\n",
        "    This function takes the input Tensor y, binary mask b and callable\n",
        "    shift_and_log_scale_fn as arguments.\n",
        "    This function should implement the forward transformation in equation (5)\n",
        "    and return the output Tensor x, which will have the same shape as y\n",
        "    \"\"\"\n",
        "\n",
        "    shift, log_scale = shift_and_log_scale_fn(b*y)\n",
        "    return b*y + (1 - b)*(y - shift)*tf.math.exp(x=-log_scale)"
      ]
    },
    {
      "cell_type": "markdown",
      "metadata": {
        "id": "81MDvr05qjly"
      },
      "source": [
        "The new bijector class also requires the `log_det_jacobian` methods to be implemented. Recall that the log of the Jacobian determinant of the forward transformation is given by $\\sum_{j}s(x_{1:d})_j$, where $s$ is the log-scale function of the affine coupling layer.\n",
        "\n",
        "You should now complete the following functions to define the `forward_log_det_jacobian` and `inverse_log_det_jacobian` methods of the affine coupling layer bijector.\n",
        "\n",
        "* Both functions `forward_log_det_jacobian` and `inverse_log_det_jacobian` takes an input Tensor `x` (or `y`), a rank-3 binary mask `b`, and the `shift_and_log_scale_fn` callable\n",
        "* These arguments are the same as the description for the `forward` and `inverse` functions\n",
        "* The `forward_log_det_jacobian` function should implement the log of the Jacobian determinant for the transformation $(5)$\n",
        "* The `inverse_log_det_jacobian` function should implement the log of the Jacobian determinant for the transformation $(6)$\n",
        "* Both functions should reduce sum over the last three axes of the input Tensor (`height`, `width` and `channels`)"
      ]
    },
    {
      "cell_type": "code",
      "execution_count": null,
      "metadata": {
        "id": "d7kQDU8Rqjlz"
      },
      "outputs": [],
      "source": [
        "#### GRADED CELL ####\n",
        "\n",
        "# Complete the following functions.\n",
        "# Make sure to not change the function names or arguments.\n",
        "\n",
        "def forward_log_det_jacobian(x, b, shift_and_log_scale_fn):\n",
        "    \"\"\"\n",
        "    This function takes the input Tensor x, binary mask b and callable\n",
        "    shift_and_log_scale_fn as arguments.\n",
        "    This function should compute and return the log of the Jacobian determinant\n",
        "    of the forward transformation in equation (5)\n",
        "    \"\"\"\n",
        "\n",
        "    shift, log_scale = shift_and_log_scale_fn(x*b)\n",
        "    return tf.math.reduce_sum(input_tensor=log_scale*(1-b),\n",
        "        axis=[-3, -2, -1])\n",
        "\n",
        "\n",
        "def inverse_log_det_jacobian(y, b, shift_and_log_scale_fn):\n",
        "    \"\"\"\n",
        "    This function takes the input Tensor y, binary mask b and callable\n",
        "    shift_and_log_scale_fn as arguments.\n",
        "    This function should compute and return the log of the Jacobian determinant\n",
        "    of the forward transformation in equation (6)\n",
        "    \"\"\"\n",
        "\n",
        "    shift, log_scale = shift_and_log_scale_fn(y*b)\n",
        "    return tf.math.reduce_sum(input_tensor=-log_scale*(1-b),\n",
        "        axis=[-3, -2, -1])"
      ]
    },
    {
      "cell_type": "markdown",
      "metadata": {
        "id": "5Tjc8UIHqjlz"
      },
      "source": [
        "You are now ready to create the coupling layer bijector, using bijector subclassing. You should complete the class below to define the `AffineCouplingLayer`.\n",
        "\n",
        "* You should complete the initialiser `__init__`, and the internal class method `_get_mask`\n",
        "* The `_forward`, `_inverse`, `_forward_log_det_jacobian` and `_inverse_log_det_jacobian` methods are completed for you using the functions you have written above. Do not modify these methods\n",
        "* The initialiser takes the `shift_and_log_scale_fn` callable, `mask_type` string (either `\"checkerboard\"` or `\"channel\"`, `orientation` (integer, either `0` or `1`) as required arguments, and allows for extra keyword arguments\n",
        "  * The required arguments should be set as class attributes in the initialiser (note that the `shift_and_log_scale_fn` attribute is being used in the `_forward`, `_inverse`, `_forward_log_det_jacobian` and `_inverse_log_det_jacobian` methods)\n",
        "  * The initialiser should call the base class initialiser, and pass in any extra keyword arguments\n",
        "  * The class should have a required number of event dimensions equal to 3\n",
        "* The internal method `_get_mask` takes a `shape` as an argument, which is the shape of an input Tensor\n",
        "  * This method should use the `checkerboard_binary_mask` and `channel_binary_mask` functions above, as well as the `mask_type` and `orientation` arguments passed to the initialiser to compute and return the required binary mask\n",
        "  * This method is used in each of the `_forward`, `_inverse`, `_forward_log_det_jacobian` and `_inverse_log_det_jacobian` methods"
      ]
    },
    {
      "cell_type": "code",
      "execution_count": null,
      "metadata": {
        "id": "Y9m-I6Q7qjlz"
      },
      "outputs": [],
      "source": [
        "#### GRADED CELL ####\n",
        "\n",
        "# Complete the following class.\n",
        "# Make sure to not change the class or method names or arguments.\n",
        "\n",
        "class AffineCouplingLayer(tfb.Bijector):\n",
        "    \"\"\"\n",
        "    Class to implement the affine coupling layer.\n",
        "    Complete the __init__ and _get_mask methods according to the instructions above.\n",
        "    \"\"\"\n",
        "\n",
        "    def __init__(self, shift_and_log_scale_fn, mask_type, orientation, **kwargs):\n",
        "        \"\"\"\n",
        "        The class initialiser takes the shift_and_log_scale_fn callable, mask_type,\n",
        "        orientation and possibly extra keywords arguments. It should call the\n",
        "        base class initialiser, passing any extra keyword arguments along.\n",
        "        It should also set the required arguments as class attributes.\n",
        "        \"\"\"\n",
        "\n",
        "        super(AffineCouplingLayer, self).__init__(\n",
        "            forward_min_event_ndims=3, **kwargs)\n",
        "        self.shift_and_log_scale_fn = shift_and_log_scale_fn\n",
        "        self.mask_type = mask_type\n",
        "        self.orientation = orientation\n",
        "\n",
        "    def _get_mask(self, shape):\n",
        "        \"\"\"\n",
        "        This internal method should use the binary mask functions above to compute\n",
        "        and return the binary mask, according to the arguments passed in to the\n",
        "        initialiser.\n",
        "        \"\"\"\n",
        "\n",
        "        height, width, channels = shape[-3], shape[-2], shape[-1]\n",
        "        if self.mask_type=='checkerboard':\n",
        "            mask = checkerboard_binary_mask(shape=(height, width),\n",
        "                orientation=self.orientation)\n",
        "        elif self.mask_type=='channel':\n",
        "            mask = channel_binary_mask(num_channels=channels,\n",
        "                orientation=self.orientation)\n",
        "        return mask\n",
        "\n",
        "    def _forward(self, x):\n",
        "        b = self._get_mask(shape=x.shape)\n",
        "        return forward(x=x, b=b,\n",
        "            shift_and_log_scale_fn=self.shift_and_log_scale_fn)\n",
        "\n",
        "    def _inverse(self, y):\n",
        "        b = self._get_mask(shape=y.shape)\n",
        "        return inverse(y=y, b=b,\n",
        "            shift_and_log_scale_fn=self.shift_and_log_scale_fn)\n",
        "\n",
        "    def _forward_log_det_jacobian(self, x):\n",
        "        b = self._get_mask(shape=x.shape)\n",
        "        return forward_log_det_jacobian(x=x, b=b,\n",
        "            shift_and_log_scale_fn=self.shift_and_log_scale_fn)\n",
        "\n",
        "    def _inverse_log_det_jacobian(self, y):\n",
        "        b = self._get_mask(shape=y.shape)\n",
        "        return inverse_log_det_jacobian(y=y, b=b,\n",
        "            shift_and_log_scale_fn=self.shift_and_log_scale_fn)"
      ]
    },
    {
      "cell_type": "code",
      "execution_count": null,
      "metadata": {
        "id": "e4Y1SG9Sqjl0"
      },
      "outputs": [],
      "source": [
        "# Test your function by creating an instance of the AffineCouplingLayer class\n",
        "\n",
        "affine_coupling_layer = AffineCouplingLayer(\n",
        "    shift_and_log_scale_fn=conv_resnet, mask_type='channel',\n",
        "    orientation=1, name='affine_coupling_layer')"
      ]
    },
    {
      "cell_type": "code",
      "execution_count": null,
      "metadata": {
        "colab": {
          "base_uri": "https://localhost:8080/"
        },
        "id": "Xh9N482pqjl0",
        "outputId": "439d4c4b-a46f-45e9-f8ef-e41a39bacbf0"
      },
      "outputs": [
        {
          "output_type": "execute_result",
          "data": {
            "text/plain": [
              "TensorShape([16, 32, 32, 3])"
            ]
          },
          "metadata": {},
          "execution_count": 20
        }
      ],
      "source": [
        "# The following should return a Tensor of the same shape as the input\n",
        "\n",
        "affine_coupling_layer.forward(\n",
        "    x=tf.random.normal(shape=(16, 32, 32, 3))).shape"
      ]
    },
    {
      "cell_type": "code",
      "execution_count": null,
      "metadata": {
        "colab": {
          "base_uri": "https://localhost:8080/"
        },
        "id": "19SDFgJ6qjl0",
        "outputId": "81d8f8b7-0832-4a8a-cdb5-0bce127a9a83"
      },
      "outputs": [
        {
          "output_type": "execute_result",
          "data": {
            "text/plain": [
              "TensorShape([16])"
            ]
          },
          "metadata": {},
          "execution_count": 21
        }
      ],
      "source": [
        "# The following should compute a log_det_jacobian for each event in the batch\n",
        "\n",
        "affine_coupling_layer.forward_log_det_jacobian(\n",
        "    x=tf.random.normal(shape=(16, 32, 32, 3)), event_ndims=3).shape"
      ]
    },
    {
      "cell_type": "markdown",
      "metadata": {
        "id": "6MlC-0nfqjl1"
      },
      "source": [
        "#### Combining the affine coupling layers\n",
        "\n",
        "In the affine coupling layer, part of the input remains unchanged in the transformation $(5)$. In order to allow transformation of all of the input, several coupling layers are composed, with the orientation of the mask being reversed in subsequent layers.\n",
        "\n",
        "<img src=\"https://github.com/MengOonLee/Deep_learning/blob/master/TensorFlow/Probabilistic/Bijectors/figures/alternating_masks.png?raw=1\" alt=\"Coupling layers\" style=\"height: 240px;\"/>\n",
        "\n",
        "<center>Figure 2. RealNVP alternates the orientation of masks from one affine coupling layer to the next. From the original paper.</center>\n",
        "\n",
        "Our model design will be similar to the original architecture; we will compose three affine coupling layers with checkerboard masking, followed by a batch normalization bijector (`tfb.BatchNormalization` is a built-in bijector), followed by a squeezing operation, followed by three more affine coupling layers with channel-wise masking and a final batch normalization bijector.\n",
        "\n",
        "The squeezing operation divides the spatial dimensions into 2x2 squares, and reshapes a Tensor of shape `(H, W, C)` into a Tensor of shape `(H // 2, W // 2, 4 * C)` as shown in Figure 1.\n",
        "\n",
        "The squeezing operation is also a bijective operation, and has been provided for you in the class below."
      ]
    },
    {
      "cell_type": "code",
      "execution_count": null,
      "metadata": {
        "id": "KCtFrwQZqjl1"
      },
      "outputs": [],
      "source": [
        "# Bijector class for the squeezing operation\n",
        "\n",
        "class Squeeze(tfb.Bijector):\n",
        "\n",
        "    def __init__(self, name='Squeeze', **kwargs):\n",
        "        super(Squeeze, self).__init__(forward_min_event_ndims=3,\n",
        "            is_constant_jacobian=True, name=name, **kwargs)\n",
        "\n",
        "    def _forward(self, x):\n",
        "        input_shape = x.shape\n",
        "        height, width, channels = input_shape[-3], input_shape[-2], input_shape[-1]\n",
        "        y = tfb.Reshape(\n",
        "            event_shape_in=(height, width, channels),\n",
        "            event_shape_out=(height // 2, 2, width // 2, 2, channels)\n",
        "        )(value=x)\n",
        "        y = tfb.Transpose(perm=[0, 2, 1, 3, 4])(value=y)\n",
        "        y = tfb.Reshape(\n",
        "            event_shape_in=(height // 2, width // 2, 2, 2, channels),\n",
        "            event_shape_out=(height // 2, width // 2, 4 * channels)\n",
        "        )(value=y)\n",
        "        return y\n",
        "\n",
        "    def _inverse(self, y):\n",
        "        input_shape = y.shape\n",
        "        height, width, channels = input_shape[-3], input_shape[-2], input_shape[-1]\n",
        "        x = tfb.Reshape(\n",
        "            event_shape_in=(height, width, channels),\n",
        "            event_shape_out=(height, width, 2, 2, channels // 4)\n",
        "        )(value=y)\n",
        "        x = tfb.Transpose(perm=[0, 2, 1, 3, 4])(value=x)\n",
        "        x = tfb.Reshape(\n",
        "            event_shape_in=(height, 2, width, 2, channels // 4),\n",
        "            event_shape_out=(2 * height, 2 * width, channels // 4)\n",
        "        )(value=x)\n",
        "        return x\n",
        "\n",
        "    def _forward_log_det_jacobian(self, x):\n",
        "        return tf.constant(value=0., dtype=x.dtype)\n",
        "\n",
        "    def _inverse_log_det_jacobian(self, y):\n",
        "        return tf.constant(value=0., dtype=y.dtype)\n",
        "\n",
        "    def _forward_event_shape_tensor(self, input_shape):\n",
        "        height, width, channels = input_shape[-3], input_shape[-2], input_shape[-1]\n",
        "        return height // 2, width // 2, 4 * channels\n",
        "\n",
        "    def _inverse_event_shape_tensor(self, output_shape):\n",
        "        height, width, channels = output_shape[-3], output_shape[-2], output_shape[-1]\n",
        "        return height * 2, width * 2, channels // 4"
      ]
    },
    {
      "cell_type": "markdown",
      "metadata": {
        "id": "xBcabOfmqjl2"
      },
      "source": [
        "You can see the effect of the squeezing operation on some example inputs in the cells below. In the forward transformation, each spatial dimension is halved, whilst the channel dimension is multiplied by 4. The opposite happens in the inverse transformation."
      ]
    },
    {
      "cell_type": "code",
      "execution_count": null,
      "metadata": {
        "colab": {
          "base_uri": "https://localhost:8080/"
        },
        "id": "jlS22MRzqjl2",
        "outputId": "4323e43d-b8f4-463f-e767-dd130db904d0"
      },
      "outputs": [
        {
          "output_type": "execute_result",
          "data": {
            "text/plain": [
              "TensorShape([10, 16, 16, 12])"
            ]
          },
          "metadata": {},
          "execution_count": 23
        }
      ],
      "source": [
        "# Test the Squeeze bijector\n",
        "\n",
        "squeeze = Squeeze()\n",
        "squeeze.forward(x=tf.ones(shape=(10, 32, 32, 3))).shape"
      ]
    },
    {
      "cell_type": "code",
      "execution_count": null,
      "metadata": {
        "colab": {
          "base_uri": "https://localhost:8080/"
        },
        "id": "xxsl8M3ZqjmA",
        "outputId": "0b95fe8f-396e-47dd-95be-acf2586f608d"
      },
      "outputs": [
        {
          "output_type": "execute_result",
          "data": {
            "text/plain": [
              "TensorShape([10, 8, 8, 24])"
            ]
          },
          "metadata": {},
          "execution_count": 24
        }
      ],
      "source": [
        "# Test the inverse operation\n",
        "\n",
        "squeeze.inverse(y=tf.ones(shape=(10, 4, 4, 96))).shape"
      ]
    },
    {
      "cell_type": "markdown",
      "metadata": {
        "id": "4XX6-VBHqjmB"
      },
      "source": [
        "We can now construct a block of coupling layers according to the architecture described above. You should complete the following function to chain together the bijectors that we have constructed, to form a bijector that performs the following operations in the forward transformation:\n",
        "\n",
        "* Three `AffineCouplingLayer` bijectors with `\"checkerboard\"` masking with orientations `0, 1, 0` respectively\n",
        "* A `BatchNormalization` bijector\n",
        "* A `Squeeze` bijector\n",
        "* Three more `AffineCouplingLayer` bijectors with `\"channel\"` masking with orientations `0, 1, 0` respectively\n",
        "* Another `BatchNormalization` bijector\n",
        "\n",
        "The function takes the following arguments:\n",
        "* `shift_and_log_scale_fns`: a list or tuple of six conv_resnet models\n",
        "  * The first three models in this list are used in the three coupling layers with checkerboard masking\n",
        "  * The last three models in this list are used in the three coupling layers with channel masking\n",
        "* `squeeze`: an instance of the `Squeeze` bijector\n",
        "\n",
        "_NB: at this point, we would like to point out that we are following the exposition in the original paper, and think of the forward transformation as acting on the input image. Note that this is in contrast to the convention of using the forward transformation for sampling, and the inverse transformation for computing log probs._"
      ]
    },
    {
      "cell_type": "code",
      "execution_count": null,
      "metadata": {
        "id": "xnBUh9znqjmB"
      },
      "outputs": [],
      "source": [
        "#### GRADED CELL ####\n",
        "\n",
        "# Complete the following function.\n",
        "# Make sure to not change the function name or arguments.\n",
        "\n",
        "def realnvp_block(shift_and_log_scale_fns, squeeze):\n",
        "    \"\"\"\n",
        "    This function takes a list or tuple of six conv_resnet models, and an\n",
        "    instance of the Squeeze bijector.\n",
        "    The function should construct the chain of bijectors described above,\n",
        "    using the conv_resnet models in the coupling layers.\n",
        "    The function should then return the chained bijector.\n",
        "    \"\"\"\n",
        "\n",
        "    bijectors = []\n",
        "\n",
        "    for f, o in zip(shift_and_log_scale_fns[:3], [0, 1, 0]):\n",
        "        bijectors.append(AffineCouplingLayer(\n",
        "            shift_and_log_scale_fn=f, mask_type='checkerboard',\n",
        "            orientation=o))\n",
        "    # bijectors.append(tfb.BatchNormalization())\n",
        "\n",
        "    bijectors.append(squeeze)\n",
        "\n",
        "    for f, o in zip(shift_and_log_scale_fns[3:], [0, 1, 0]):\n",
        "        bijectors.append(AffineCouplingLayer(\n",
        "            shift_and_log_scale_fn=f, mask_type='channel',\n",
        "            orientation=o))\n",
        "    # bijectors.append(tfb.BatchNormalization())\n",
        "\n",
        "    return tfb.Chain(bijectors=list(reversed(bijectors)))"
      ]
    },
    {
      "cell_type": "code",
      "execution_count": null,
      "metadata": {
        "id": "APHBgA-qqjmC"
      },
      "outputs": [],
      "source": [
        "# Run your function to create an instance of the bijector\n",
        "\n",
        "checkerboard_fns = []\n",
        "for _ in range(3):\n",
        "    checkerboard_fns.append(get_conv_resnet(input_shape=(32, 32, 3),\n",
        "        filters=512))\n",
        "channel_fns = []\n",
        "for _ in range(3):\n",
        "    channel_fns.append(get_conv_resnet(input_shape=(16, 16, 12),\n",
        "        filters=512))\n",
        "\n",
        "block = realnvp_block(\n",
        "    shift_and_log_scale_fns=checkerboard_fns+channel_fns,\n",
        "    squeeze=squeeze)"
      ]
    },
    {
      "cell_type": "code",
      "execution_count": null,
      "metadata": {
        "colab": {
          "base_uri": "https://localhost:8080/"
        },
        "id": "LeY12c4oqjmC",
        "outputId": "ad4a585b-9a17-4349-a36a-cff34c6c88a9"
      },
      "outputs": [
        {
          "output_type": "execute_result",
          "data": {
            "text/plain": [
              "TensorShape([10, 16, 16, 12])"
            ]
          },
          "metadata": {},
          "execution_count": 27
        }
      ],
      "source": [
        "# Test the bijector on a dummy input\n",
        "\n",
        "block.forward(x=tf.random.normal(shape=(10, 32, 32, 3))).shape"
      ]
    },
    {
      "cell_type": "markdown",
      "metadata": {
        "id": "oCdeWg1rqjmC"
      },
      "source": [
        "#### Multiscale architecture\n",
        "\n",
        "The final component of the RealNVP is the multiscale architecture. The squeeze operation reduces the spatial dimensions but increases the channel dimensions. After one of the blocks of coupling-squeeze-coupling that you have implemented above, half of the dimensions are factored out as latent variables, while the other half is further processed through subsequent layers. This results in latent variables that represent different scales of features in the model.\n",
        "\n",
        "<img src=\"https://github.com/MengOonLee/Deep_learning/blob/master/TensorFlow/Probabilistic/Bijectors/figures/multiscale.png?raw=1\" alt=\"Multiscale architecture\" style=\"height: 320px;\"/>\n",
        "\n",
        "<center>Figure 3. RealNVP creates latent variables at different scales by factoring out half of the dimensions at each scale. From the original paper.</center>\n",
        "\n",
        "The final scale does not use the squeezing operation, and instead applies four affine coupling layers with alternating checkerboard masks.\n",
        "\n",
        "The multiscale architecture for two latent variable scales is implemented for you in the following bijector."
      ]
    },
    {
      "cell_type": "code",
      "execution_count": null,
      "metadata": {
        "id": "ueGWbNeNqjmD"
      },
      "outputs": [],
      "source": [
        "# Bijector to implement the multiscale architecture\n",
        "\n",
        "class RealNVPMultiScale(tfb.Bijector):\n",
        "\n",
        "    def __init__(self, **kwargs):\n",
        "        super(RealNVPMultiScale, self).__init__(\n",
        "            forward_min_event_ndims=3, **kwargs)\n",
        "\n",
        "        # First level\n",
        "        shape1 = (32, 32, 3)  # Input shape\n",
        "        shape2 = (16, 16, 12)  # Shape after the squeeze operation\n",
        "        shape3 = (16, 16, 6)  # Shape after factoring out the latent variable\n",
        "        self.conv_resnet1 = get_conv_resnet(input_shape=shape1,\n",
        "            filters=64)\n",
        "        self.conv_resnet2 = get_conv_resnet(input_shape=shape1,\n",
        "            filters=64)\n",
        "        self.conv_resnet3 = get_conv_resnet(input_shape=shape1,\n",
        "            filters=64)\n",
        "        self.conv_resnet4 = get_conv_resnet(input_shape=shape2,\n",
        "            filters=128)\n",
        "        self.conv_resnet5 = get_conv_resnet(input_shape=shape2,\n",
        "            filters=128)\n",
        "        self.conv_resnet6 = get_conv_resnet(input_shape=shape2,\n",
        "            filters=128)\n",
        "        self.squeeze = Squeeze()\n",
        "        self.block1 = realnvp_block(shift_and_log_scale_fns=[\n",
        "            self.conv_resnet1, self.conv_resnet2, self.conv_resnet3,\n",
        "            self.conv_resnet4, self.conv_resnet5, self.conv_resnet6],\n",
        "            squeeze=self.squeeze)\n",
        "\n",
        "        # Second level\n",
        "        self.conv_resnet7 = get_conv_resnet(input_shape=shape3,\n",
        "            filters=128)\n",
        "        self.conv_resnet8 = get_conv_resnet(input_shape=shape3,\n",
        "            filters=128)\n",
        "        self.conv_resnet9 = get_conv_resnet(input_shape=shape3,\n",
        "            filters=128)\n",
        "        self.conv_resnet10 = get_conv_resnet(input_shape=shape3,\n",
        "            filters=128)\n",
        "        self.coupling_layer1 = AffineCouplingLayer(\n",
        "            shift_and_log_scale_fn=self.conv_resnet7,\n",
        "            mask_type='checkerboard', orientation=0)\n",
        "        self.coupling_layer2 = AffineCouplingLayer(\n",
        "            shift_and_log_scale_fn=self.conv_resnet8,\n",
        "            mask_type='checkerboard', orientation=1)\n",
        "        self.coupling_layer3 = AffineCouplingLayer(\n",
        "            shift_and_log_scale_fn=self.conv_resnet9,\n",
        "            mask_type='checkerboard', orientation=0)\n",
        "        self.coupling_layer4 = AffineCouplingLayer(\n",
        "            shift_and_log_scale_fn=self.conv_resnet10,\n",
        "            mask_type='checkerboard', orientation=1)\n",
        "        self.block2 = tfb.Chain(bijectors=[self.coupling_layer4,\n",
        "            self.coupling_layer3, self.coupling_layer2,\n",
        "            self.coupling_layer1])\n",
        "\n",
        "    def _forward(self, x):\n",
        "        h1 = self.block1.forward(x=x)\n",
        "        z1, h2 = tf.split(value=h1, num_or_size_splits=2, axis=-1)\n",
        "        z2 = self.block2.forward(x=h2)\n",
        "        return tf.concat(values=[z1, z2], axis=-1)\n",
        "\n",
        "    def _inverse(self, y):\n",
        "        z1, z2 = tf.split(value=y, num_or_size_splits=2, axis=-1)\n",
        "        h2 = self.block2.inverse(y=z2)\n",
        "        h1 = tf.concat(values=[z1, h2], axis=-1)\n",
        "        return self.block1.inverse(y=h1)\n",
        "\n",
        "    def _forward_log_det_jacobian(self, x):\n",
        "        log_det1 = self.block1.forward_log_det_jacobian(x=x,\n",
        "            event_ndims=3)\n",
        "        h1 = self.block1.forward(x=x)\n",
        "        _, h2 = tf.split(value=h1, num_or_size_splits=2, axis=-1)\n",
        "        log_det2 = self.block2.forward_log_det_jacobian(x=h2,\n",
        "            event_ndims=3)\n",
        "        return log_det1 + log_det2\n",
        "\n",
        "    def _inverse_log_det_jacobian(self, y):\n",
        "        z1, z2 = tf.split(value=y, num_or_size_splits=2, axis=-1)\n",
        "        h2 = self.block2.inverse(y=z2)\n",
        "        log_det2 = self.block2.inverse_log_det_jacobian(y=z2,\n",
        "            event_ndims=3)\n",
        "        h1 = tf.concat(values=[z1, h2], axis=-1)\n",
        "        log_det1 = self.block1.inverse_log_det_jacobian(y=h1,\n",
        "            event_ndims=3)\n",
        "        return log_det1 + log_det2\n",
        "\n",
        "    def _forward_event_shape_tensor(self, input_shape):\n",
        "        height, width, channels = input_shape[-3], input_shape[-2], input_shape[-1]\n",
        "        return height // 4, width // 4, 16 * channels\n",
        "\n",
        "    def _inverse_event_shape_tensor(self, output_shape):\n",
        "        height, width, channels = output_shape[-3], output_shape[-2], output_shape[-1]\n",
        "        return 4 * height, 4 * width, channels // 16"
      ]
    },
    {
      "cell_type": "code",
      "execution_count": null,
      "metadata": {
        "id": "qZSevRtvqjmD"
      },
      "outputs": [],
      "source": [
        "# Create an instance of the multiscale architecture\n",
        "\n",
        "multiscale_bijector = RealNVPMultiScale()"
      ]
    },
    {
      "cell_type": "markdown",
      "metadata": {
        "id": "WSYf6dlnqjmE"
      },
      "source": [
        "#### Data preprocessing bijector\n",
        "\n",
        "We will also preprocess the image data before sending it through the RealNVP model. To do this, for a Tensor $x$ of pixel values in $[0, 1]^D$, we transform $x$ according to the following:\n",
        "\n",
        "$$\n",
        "T(x) = \\text{logit}\\left(\\alpha + (1 - 2\\alpha)x\\right),\\tag{7}\n",
        "$$\n",
        "\n",
        "where $\\alpha$ is a parameter, and the logit function is the inverse of the sigmoid function, and is given by\n",
        "\n",
        "$$\n",
        "\\text{logit}(p) = \\log (p) - \\log (1 - p).\n",
        "$$\n",
        "\n",
        "You should now complete the following function to construct this bijector from in-built bijectors from the bijectors module.\n",
        "\n",
        "* The function takes the parameter `alpha` as an input, which you can assume to take a small positive value ($\\ll0.5$)\n",
        "* The function should construct and return a bijector that computes $(7)$ in the forward pass"
      ]
    },
    {
      "cell_type": "code",
      "execution_count": null,
      "metadata": {
        "id": "ImTsbYJGqjmE"
      },
      "outputs": [],
      "source": [
        "#### GRADED CELL ####\n",
        "\n",
        "# Complete the following function.\n",
        "# Make sure to not change the function name or arguments.\n",
        "\n",
        "def get_preprocess_bijector(alpha):\n",
        "    \"\"\"\n",
        "    This function should create a chained bijector that computes the\n",
        "    transformation T in equation (7) above.\n",
        "    This can be computed using in-built bijectors from the bijectors module.\n",
        "    Your function should then return the chained bijector.\n",
        "    \"\"\"\n",
        "\n",
        "    bijectors = [\n",
        "        tfb.Invert(bijector=tfb.Sigmoid()),\n",
        "        tfb.Shift(shift=alpha),\n",
        "        tfb.Scale(scale=(1-2*alpha))\n",
        "    ]\n",
        "    return tfb.Chain(bijectors=bijectors)"
      ]
    },
    {
      "cell_type": "code",
      "execution_count": null,
      "metadata": {
        "id": "pXF8iMLjqjmE"
      },
      "outputs": [],
      "source": [
        "# Create an instance of the preprocess bijector\n",
        "\n",
        "preprocess = get_preprocess_bijector(alpha=0.05)"
      ]
    },
    {
      "cell_type": "markdown",
      "metadata": {
        "id": "a6jvgCSqqjmF"
      },
      "source": [
        "#### Train the RealNVP model\n",
        "\n",
        "Finally, we will use our RealNVP model to train\n",
        "\n",
        "We will use the following model class to help with the training process."
      ]
    },
    {
      "cell_type": "code",
      "execution_count": null,
      "metadata": {
        "id": "wQqHWhp_qjmF"
      },
      "outputs": [],
      "source": [
        "# Helper class for training\n",
        "\n",
        "class RealNVPModel(Model):\n",
        "\n",
        "    def __init__(self, **kwargs):\n",
        "        super(RealNVPModel, self).__init__(**kwargs)\n",
        "        self.preprocess = get_preprocess_bijector(alpha=0.05)\n",
        "        self.realnvp_multiscale = RealNVPMultiScale()\n",
        "        self.bijector = tfb.Chain(bijectors=[\n",
        "            self.realnvp_multiscale, self.preprocess\n",
        "        ])\n",
        "\n",
        "    def build(self, input_shape):\n",
        "        output_shape = self.bijector(tf.expand_dims(input=tf.zeros(\n",
        "            shape=input_shape[1:]), axis=0)).shape\n",
        "        self.base = tfd.Independent(distribution=tfd.Normal(\n",
        "            loc=tf.zeros(shape=output_shape[1:]), scale=1.),\n",
        "            reinterpreted_batch_ndims=3)\n",
        "        self._bijector_variables = (list(self.bijector.variables))\n",
        "        self.flow = tfd.TransformedDistribution(\n",
        "            distribution=self.base,\n",
        "            bijector=tfb.Invert(bijector=self.bijector)\n",
        "        )\n",
        "        super(RealNVPModel, self).build(input_shape)\n",
        "\n",
        "    def call(self, inputs, training=None, **kwargs):\n",
        "        return self.flow\n",
        "\n",
        "    def sample(self, batch_size):\n",
        "        sample = self.base.sample(sample_shape=batch_size)\n",
        "        return self.bijector.inverse(y=sample)"
      ]
    },
    {
      "cell_type": "code",
      "execution_count": null,
      "metadata": {
        "id": "UQgOpZMNqjmF"
      },
      "outputs": [],
      "source": [
        "# Create an instance of the RealNVPModel class\n",
        "\n",
        "tf.random.set_seed(seed=42)\n",
        "realnvp_model = RealNVPModel()\n",
        "realnvp_model.build(input_shape=(1, 32, 32, 3))"
      ]
    },
    {
      "cell_type": "code",
      "execution_count": null,
      "metadata": {
        "colab": {
          "base_uri": "https://localhost:8080/"
        },
        "id": "qfbcPCn7qjmG",
        "outputId": "3a070337-d7ef-47e4-d094-59ac61dbb4a5"
      },
      "outputs": [
        {
          "output_type": "stream",
          "name": "stdout",
          "text": [
            "Total trainable variables:\n",
            "315150\n"
          ]
        }
      ],
      "source": [
        "# Compute the number of variables in the model\n",
        "\n",
        "print(\"Total trainable variables:\")\n",
        "print(sum([np.prod(a=v.shape)\n",
        "    for v in realnvp_model.trainable_variables]))"
      ]
    },
    {
      "cell_type": "markdown",
      "metadata": {
        "id": "Z4h1FX2lqjmG"
      },
      "source": [
        "Note that the model's `call` method returns the `TransformedDistribution` object. Also, we have set up our datasets to return the input image twice as a 2-tuple. This is so we can train our model with negative log-likelihood as normal."
      ]
    },
    {
      "cell_type": "code",
      "execution_count": null,
      "metadata": {
        "id": "8eY6lFRmqjmH"
      },
      "outputs": [],
      "source": [
        "# Define the negative log-likelihood loss function\n",
        "\n",
        "def nll(y_true, y_pred):\n",
        "    return -y_pred.log_prob(value=y_true)"
      ]
    },
    {
      "cell_type": "markdown",
      "metadata": {
        "id": "E76XEPJGqjmH"
      },
      "source": [
        "It is recommended to use the GPU accelerator hardware on Colab to train this model, as it can take some time to train. Note that it is not required to train the model in order to pass this assignment. For optimal results, a larger model should be trained for longer."
      ]
    },
    {
      "cell_type": "code",
      "execution_count": null,
      "metadata": {
        "scrolled": true,
        "colab": {
          "base_uri": "https://localhost:8080/"
        },
        "id": "vTeZHWJsqjmH",
        "outputId": "18a34170-476c-484f-bf28-c799a75f7f0b"
      },
      "outputs": [
        {
          "output_type": "stream",
          "name": "stdout",
          "text": [
            "Epoch 1/3\n",
            "100/100 [==============================] - 1789s 18s/step - loss: 6208.1006 - val_loss: 44.4482\n",
            "Epoch 2/3\n",
            "100/100 [==============================] - 1763s 18s/step - loss: -814.7933 - val_loss: -1336.7942\n",
            "Epoch 3/3\n",
            "100/100 [==============================] - 1736s 17s/step - loss: -2027.3098 - val_loss: -2542.4038\n"
          ]
        },
        {
          "output_type": "execute_result",
          "data": {
            "text/plain": [
              "<keras.callbacks.History at 0x7f7967330850>"
            ]
          },
          "metadata": {},
          "execution_count": 36
        }
      ],
      "source": [
        "# Compile and train the model\n",
        "\n",
        "tf.random.set_seed(seed=42)\n",
        "realnvp_model.compile(loss=nll, optimizer=Adam())\n",
        "realnvp_model.fit(x=train_ds, validation_data=val_ds, epochs=3,\n",
        "    steps_per_epoch=100, validation_steps=1)"
      ]
    },
    {
      "cell_type": "code",
      "execution_count": null,
      "metadata": {
        "id": "i6Qro-d8qjmI",
        "outputId": "f98844c5-7dea-4302-9602-da96b0573c30",
        "colab": {
          "base_uri": "https://localhost:8080/"
        }
      },
      "outputs": [
        {
          "output_type": "stream",
          "name": "stdout",
          "text": [
            "79/79 [==============================] - 262s 3s/step - loss: -2505.0049\n"
          ]
        },
        {
          "output_type": "execute_result",
          "data": {
            "text/plain": [
              "-2505.0048828125"
            ]
          },
          "metadata": {},
          "execution_count": 37
        }
      ],
      "source": [
        "# Evaluate the model\n",
        "\n",
        "realnvp_model.evaluate(x=test_ds)"
      ]
    },
    {
      "cell_type": "markdown",
      "metadata": {
        "id": "MniZKiRVqjmI"
      },
      "source": [
        "#### Generate some samples"
      ]
    },
    {
      "cell_type": "code",
      "execution_count": null,
      "metadata": {
        "id": "OutlaUmhqjmI"
      },
      "outputs": [],
      "source": [
        "# Sample from the model\n",
        "\n",
        "samples = realnvp_model.sample(batch_size=8).numpy()"
      ]
    },
    {
      "cell_type": "code",
      "execution_count": null,
      "metadata": {
        "id": "5XLCGxIKqjmJ",
        "outputId": "6c2fad2a-4c89-4d8d-9198-4b97296bb20e",
        "colab": {
          "base_uri": "https://localhost:8080/",
          "height": 425
        }
      },
      "outputs": [
        {
          "output_type": "display_data",
          "data": {
            "text/plain": [
              "<Figure size 1400x700 with 8 Axes>"
            ],
            "image/png": "[encoded data removed]"
          },
          "metadata": {}
        }
      ],
      "source": [
        "# Display the samples\n",
        "\n",
        "n_img = 8\n",
        "f, axs = plt.subplots(nrows=2, ncols=n_img // 2, figsize=(14, 7))\n",
        "\n",
        "for k, image in enumerate(samples):\n",
        "    i = k % 2\n",
        "    j = k // 2\n",
        "    axs[i, j].imshow(np.clip(a=image, a_min=0., a_max=1.))\n",
        "    axs[i, j].axis('off')\n",
        "f.subplots_adjust(wspace=0.01, hspace=0.03)\n",
        "plt.show()"
      ]
    },
    {
      "cell_type": "markdown",
      "metadata": {
        "id": "y1ogj7DpqjmJ"
      },
      "source": [
        "Congratulations on completing this programming assignment! In the next week of the course we will look at the variational autoencoder."
      ]
    }
  ],
  "metadata": {
    "celltoolbar": "Raw Cell Format",
    "coursera": {
      "course_slug": "probabilistic-deep-learning-with-tensorflow2",
      "graded_item_id": "qXCvM",
      "launcher_item_id": "wGJ88"
    },
    "kernelspec": {
      "display_name": "Python 3",
      "name": "python3"
    },
    "language_info": {
      "codemirror_mode": {
        "name": "ipython",
        "version": 3
      },
      "file_extension": ".py",
      "mimetype": "text/x-python",
      "name": "python",
      "nbconvert_exporter": "python",
      "pygments_lexer": "ipython3",
      "version": "3.7.1"
    },
    "colab": {
      "provenance": [],
      "gpuType": "T4",
      "include_colab_link": true
    }
  },
  "nbformat": 4,
  "nbformat_minor": 0
}