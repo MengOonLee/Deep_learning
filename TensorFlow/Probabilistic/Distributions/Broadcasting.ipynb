{
  "cells": [
    {
      "cell_type": "markdown",
      "metadata": {
        "id": "view-in-github",
        "colab_type": "text"
      },
      "source": [
        "<a href=\"https://colab.research.google.com/github/MengOonLee/Deep_learning/blob/master/TensorFlow/Probabilistic/Distributions/Broadcasting.ipynb\" target=\"_parent\"><img src=\"https://colab.research.google.com/assets/colab-badge.svg\" alt=\"Open In Colab\"/></a>"
      ]
    },
    {
      "cell_type": "markdown",
      "metadata": {
        "id": "5GDgapeMZl-l"
      },
      "source": [
        "# Broadcasting rules"
      ]
    },
    {
      "cell_type": "markdown",
      "metadata": {
        "id": "-OGQZczSZl-s"
      },
      "source": [
        "This reading will introduce you to numpy's broadcasting rules and show how you can use broadcasting when specifying batches of distributions in TensorFlow, as well as with the `prob` and `log_prob` methods.\n",
        "\n",
        "Broadcasting will also be discussed and demonstrated in the following videos."
      ]
    },
    {
      "cell_type": "code",
      "execution_count": 1,
      "metadata": {
        "colab": {
          "base_uri": "https://localhost:8080/"
        },
        "id": "vbMpG0aNZl-v",
        "outputId": "233f6a76-3655-4cee-c921-2982bc7c7d20"
      },
      "outputs": [
        {
          "output_type": "stream",
          "name": "stdout",
          "text": [
            "TF version: 2.18.0\n",
            "TFP version: 0.25.0\n"
          ]
        }
      ],
      "source": [
        "import tensorflow as tf\n",
        "import tensorflow_probability as tfp\n",
        "\n",
        "print(\"TF version:\", tf.__version__)\n",
        "print(\"TFP version:\", tfp.__version__)"
      ]
    },
    {
      "cell_type": "markdown",
      "metadata": {
        "id": "nSUt2NEsZl-y"
      },
      "source": [
        "## Operations on arrays of different sizes in numpy"
      ]
    },
    {
      "cell_type": "markdown",
      "metadata": {
        "id": "TF6YYMgCZl-z"
      },
      "source": [
        "Numpy operations can be applied to arrays that are not of the same shape, but only if the shapes satisfy certain conditions.\n",
        "\n",
        "As a demonstration of this, let us add together two arrays of different shapes:"
      ]
    },
    {
      "cell_type": "code",
      "execution_count": 2,
      "metadata": {
        "colab": {
          "base_uri": "https://localhost:8080/"
        },
        "id": "nCW9yVb0Zl-0",
        "outputId": "7f95959f-d614-4f95-c9af-c2bd75c25c33"
      },
      "outputs": [
        {
          "output_type": "execute_result",
          "data": {
            "text/plain": [
              "array([[1., 2., 3.],\n",
              "       [2., 3., 4.],\n",
              "       [3., 4., 5.],\n",
              "       [4., 5., 6.]])"
            ]
          },
          "metadata": {},
          "execution_count": 2
        }
      ],
      "source": [
        "# Add two arrays with different shapes\n",
        "import numpy as np\n",
        "\n",
        "a = np.array([[1.], [2.], [3.], [4.]])  # shape (4, 1)\n",
        "b = np.array([0., 1., 2.])  # shape (3,)\n",
        "\n",
        "a + b"
      ]
    },
    {
      "cell_type": "markdown",
      "metadata": {
        "id": "pGvR6flRZl-6"
      },
      "source": [
        "This is the addition\n",
        "\n",
        "    [ [1.],    +  [0., 1., 2.]  \n",
        "      [2.],  \n",
        "      [3.],  \n",
        "      [4.] ]\n",
        "\n",
        "To execute it, numpy:\n",
        "1. Aligned the shapes of `a` and `b` on the last axis and prepended 1s to the shape with fewer axes:\n",
        "        a: 4 x 1     --->    a: 4 x 1\n",
        "        b:     3     --->    b: 1 x 3\n",
        "        \n",
        "\n",
        "2. Checked that the sizes of the axes matched or were equal to 1:\n",
        "        a: 4 x 1  \n",
        "        b: 1 x 3\n",
        "`a` and `b` satisfied this criterion.\n",
        "\n",
        "\n",
        "3. Stretched both arrays on their 1-valued axes so that their shapes matched, then added them together.  \n",
        "`a` was replicated 3 times in the second axis, while `b` was replicated 4 times in the first axis.\n",
        "\n",
        "This meant that the addition in the final step was\n",
        "\n",
        "    [ [1., 1., 1.],    +  [ [0., 1., 2.],  \n",
        "      [2., 2., 2.],         [0., 1., 2.],  \n",
        "      [3., 3., 3.],         [0., 1., 2.],  \n",
        "      [4., 4., 4.] ]        [0., 1., 2.] ]\n",
        "      \n",
        "Addition was then carried out element-by-element, as you can verify by referring back to the output of the code cell above.  \n",
        "This resulted in an output with shape 4 x 3.\n",
        "\n",
        "\n",
        "## Numpy's broadcasting rule\n",
        "\n",
        "Broadcasting rules describe how values should be transmitted when the inputs to an operation do not match.  \n",
        "In numpy, the broadcasting rule is very simple:\n",
        "> Prepend 1s to the smaller shape,   \n",
        "check that the axes of both arrays have sizes that are equal or 1,  \n",
        "then stretch the arrays in their size-1 axes.\n",
        "\n",
        "A crucial aspect of this rule is that it does not require the input arrays have the same number of axes.  \n",
        "Another consequence of it is that a broadcasting output will have the largest size of its inputs in each axis.  \n",
        "Take the following multiplication as an example:\n",
        "\n",
        "        a: 3 x 7 x 1  \n",
        "        b:     1 x 5  \n",
        "    a * b: 3 x 7 x 5\n",
        "\n",
        "You can see that the output shape is the maximum of the sizes in each axis.\n",
        "\n",
        "Numpy's broadcasting rule also does not require that one of the arrays has to be bigger in all axes.  \n",
        "This is seen in the following example, where `a` is smaller than `b` in its third axis but is bigger in its second axis."
      ]
    },
    {
      "cell_type": "code",
      "execution_count": 3,
      "metadata": {
        "colab": {
          "base_uri": "https://localhost:8080/"
        },
        "id": "erExh7acZl-6",
        "outputId": "68738c20-c441-47c2-e062-841416ecbe62"
      },
      "outputs": [
        {
          "output_type": "execute_result",
          "data": {
            "text/plain": [
              "array([[[2.e-02, 2.e-02],\n",
              "        [2.e-01, 2.e-01]],\n",
              "\n",
              "       [[3.e+00, 3.e+00],\n",
              "        [3.e+01, 3.e+01]]])"
            ]
          },
          "metadata": {},
          "execution_count": 3
        }
      ],
      "source": [
        "# Multiply two arrays with different shapes\n",
        "import numpy as np\n",
        "\n",
        "a = np.array([[[0.01], [0.1]], [[1.], [10.]]]) # shape (2, 2, 1)\n",
        "b = np.array([[[2., 2.]], [[3., 3.]]]) # shape (2, 1, 2)\n",
        "\n",
        "a * b # shape (2, 2, 2)"
      ]
    },
    {
      "cell_type": "markdown",
      "metadata": {
        "id": "7rj8EVqpZl-8"
      },
      "source": [
        "Broadcasting behaviour also points to an efficient way to compute an outer product in numpy:"
      ]
    },
    {
      "cell_type": "code",
      "execution_count": 4,
      "metadata": {
        "colab": {
          "base_uri": "https://localhost:8080/"
        },
        "id": "u0B30eKKZl-8",
        "outputId": "1d20f60f-f4c0-46d3-fb1a-87a74c5f9bc4"
      },
      "outputs": [
        {
          "output_type": "execute_result",
          "data": {
            "text/plain": [
              "array([[-0., -1., -2., -3.],\n",
              "       [ 0.,  0.,  0.,  0.],\n",
              "       [ 0.,  1.,  2.,  3.]])"
            ]
          },
          "metadata": {},
          "execution_count": 4
        }
      ],
      "source": [
        "# Use broadcasting to compute an outer product\n",
        "import numpy as np\n",
        "\n",
        "a = np.array([-1., 0., 1.])\n",
        "b = np.array([0., 1., 2., 3.])\n",
        "\n",
        "a[:, np.newaxis] * b  # outer product ab^T, where a and b are column vectors"
      ]
    },
    {
      "cell_type": "markdown",
      "metadata": {
        "id": "e8pkykeJZl-9"
      },
      "source": [
        "The idea of numpy stretching the arrays in their size-1 axes is useful and is functionally correct. But this is not what numpy literally does behind the scenes, since that would be an inefficient use of memory. Instead, numpy carries out the operation by looping over singleton (size-1) dimensions.\n",
        "\n",
        "To give you some practise with broadcasting, try predicting the output shapes for the following operations:"
      ]
    },
    {
      "cell_type": "code",
      "execution_count": 5,
      "metadata": {
        "id": "qpmfRsuEZl-9"
      },
      "outputs": [],
      "source": [
        "# Define three arrays with different shapes\n",
        "import numpy as np\n",
        "\n",
        "a = [[1.], [2.], [3.]]\n",
        "b = np.zeros(shape=(10, 1, 1))\n",
        "c = np.ones(shape=(4))"
      ]
    },
    {
      "cell_type": "code",
      "execution_count": 6,
      "metadata": {
        "colab": {
          "base_uri": "https://localhost:8080/"
        },
        "id": "0rLZ7QbjZl--",
        "outputId": "27af6da2-b13b-41ca-e1ae-34f9a3a77b38"
      },
      "outputs": [
        {
          "output_type": "execute_result",
          "data": {
            "text/plain": [
              "(10, 3, 1)"
            ]
          },
          "metadata": {},
          "execution_count": 6
        }
      ],
      "source": [
        "# Predict the shape before executing this cell\n",
        "\n",
        "(a + b).shape"
      ]
    },
    {
      "cell_type": "code",
      "execution_count": 7,
      "metadata": {
        "colab": {
          "base_uri": "https://localhost:8080/"
        },
        "id": "FDOPOwAhZl--",
        "outputId": "2884af89-56c2-45aa-b646-066426539058"
      },
      "outputs": [
        {
          "output_type": "execute_result",
          "data": {
            "text/plain": [
              "(3, 4)"
            ]
          },
          "metadata": {},
          "execution_count": 7
        }
      ],
      "source": [
        "# Predict the shape before executing this cell\n",
        "\n",
        "(a*c).shape"
      ]
    },
    {
      "cell_type": "code",
      "execution_count": 8,
      "metadata": {
        "colab": {
          "base_uri": "https://localhost:8080/"
        },
        "id": "qiw2chS6Zl--",
        "outputId": "bf7cd20d-9784-4992-ba0c-423f00f2dffe"
      },
      "outputs": [
        {
          "output_type": "execute_result",
          "data": {
            "text/plain": [
              "(10, 3, 4)"
            ]
          },
          "metadata": {},
          "execution_count": 8
        }
      ],
      "source": [
        "# Predict the shape before executing this cell\n",
        "\n",
        "(a*b + c).shape"
      ]
    },
    {
      "cell_type": "markdown",
      "metadata": {
        "id": "u3ek9hNFZl-_"
      },
      "source": [
        "## Broadcasting for univariate TensorFlow Distributions"
      ]
    },
    {
      "cell_type": "markdown",
      "metadata": {
        "id": "d9Oz4AauZl-_"
      },
      "source": [
        "The broadcasting rule for TensorFlow is the same as that for numpy. For example, TensorFlow also allows you to specify the parameters of Distribution objects using broadcasting.\n",
        "\n",
        "What is meant by this can be understood through an example with the univariate normal distribution. Say that we wish to specify a parameter grid for six Gaussians. The parameter combinations to be used, `(loc, scale)`, are:  \n",
        "\n",
        "    (0, 1)  \n",
        "    (0, 10)  \n",
        "    (0, 100)  \n",
        "    (1, 1)  \n",
        "    (1, 10)  \n",
        "    (1, 100)\n",
        "    \n",
        "A laborious way of doing this is to explicitly pass each parameter to `tfd.Normal`:"
      ]
    },
    {
      "cell_type": "code",
      "execution_count": 9,
      "metadata": {
        "id": "hUMj-fvZZl-_"
      },
      "outputs": [],
      "source": [
        "# Define a batch of Normal distributions without broadcasting\n",
        "import tensorflow_probability as tfp\n",
        "\n",
        "batch_of_normals = tfp.distributions.Normal(\n",
        "    loc=[0., 0., 0., 1., 1., 1.],\n",
        "    scale=[1., 10., 100., 1., 10., 100.])"
      ]
    },
    {
      "cell_type": "code",
      "execution_count": 10,
      "metadata": {
        "colab": {
          "base_uri": "https://localhost:8080/"
        },
        "id": "YFrxxYmAZl_A",
        "outputId": "c5703a36-e04a-4ff8-8c5c-035831ef0187"
      },
      "outputs": [
        {
          "output_type": "execute_result",
          "data": {
            "text/plain": [
              "<tfp.distributions.Normal 'Normal' batch_shape=[6] event_shape=[] dtype=float32>"
            ]
          },
          "metadata": {},
          "execution_count": 10
        }
      ],
      "source": [
        "# Print the distribution and notice the batch and event shapes\n",
        "\n",
        "batch_of_normals"
      ]
    },
    {
      "cell_type": "code",
      "execution_count": 11,
      "metadata": {
        "colab": {
          "base_uri": "https://localhost:8080/"
        },
        "id": "gI77-1gbZl_A",
        "outputId": "10d55f4d-2944-4b93-a280-ea563e316164"
      },
      "outputs": [
        {
          "output_type": "execute_result",
          "data": {
            "text/plain": [
              "<tf.Tensor: shape=(6,), dtype=float32, numpy=array([0., 0., 0., 1., 1., 1.], dtype=float32)>"
            ]
          },
          "metadata": {},
          "execution_count": 11
        }
      ],
      "source": [
        "# Check the parameter values for loc\n",
        "\n",
        "batch_of_normals.loc"
      ]
    },
    {
      "cell_type": "code",
      "execution_count": 12,
      "metadata": {
        "colab": {
          "base_uri": "https://localhost:8080/"
        },
        "id": "XYXY9r-3Zl_B",
        "outputId": "5ada5487-f102-4b9e-aa32-aafcda3b075f"
      },
      "outputs": [
        {
          "output_type": "execute_result",
          "data": {
            "text/plain": [
              "<tf.Tensor: shape=(6,), dtype=float32, numpy=array([  1.,  10., 100.,   1.,  10., 100.], dtype=float32)>"
            ]
          },
          "metadata": {},
          "execution_count": 12
        }
      ],
      "source": [
        "# Check the parameter values for scale\n",
        "\n",
        "batch_of_normals.scale"
      ]
    },
    {
      "cell_type": "markdown",
      "metadata": {
        "id": "Fhn7yNFCZl_B"
      },
      "source": [
        "A more succinct way to create a batch of distributions for this parameter grid is to use broadcasting.  \n",
        "Consider what would happen if we were to broadcast these arrays according the rule discussed earlier:\n",
        "    \n",
        "    loc = [ [0.],\n",
        "            [1.] ]\n",
        "    scale = [1., 10., 100.]\n",
        "    \n",
        "The shapes would be stretched according to\n",
        "\n",
        "    loc:   2 x 1 ---> 2 x 3\n",
        "    scale: 1 x 3 ---> 2 x 3\n",
        "    \n",
        "resulting in\n",
        "\n",
        "    loc = [ [0., 0., 0.],\n",
        "            [1., 1., 1.] ]\n",
        "    scale = [ [1., 10., 100.],\n",
        "              [1., 10., 100.] ]\n",
        "              \n",
        "which are compatible with the `loc` and `scale` arguments of `tfd.Normal`.  \n",
        "Sure enough, this is precisely what TensorFlow does:"
      ]
    },
    {
      "cell_type": "code",
      "execution_count": 13,
      "metadata": {
        "id": "RRUswBd1Zl_B"
      },
      "outputs": [],
      "source": [
        "# Define a batch of Normal distributions with broadcasting\n",
        "import tensorflow_probability as tfp\n",
        "\n",
        "loc = [[0.], [1.]]\n",
        "scale = [1., 10., 100.]\n",
        "\n",
        "another_batch_of_normals = tfp.distributions.Normal(loc=loc, scale=scale)"
      ]
    },
    {
      "cell_type": "code",
      "execution_count": 14,
      "metadata": {
        "colab": {
          "base_uri": "https://localhost:8080/"
        },
        "id": "xBn7Av9rZl_B",
        "outputId": "4e9ab3fe-e26a-4cf9-b290-0085e937f5e2"
      },
      "outputs": [
        {
          "output_type": "execute_result",
          "data": {
            "text/plain": [
              "<tfp.distributions.Normal 'Normal' batch_shape=[2, 3] event_shape=[] dtype=float32>"
            ]
          },
          "metadata": {},
          "execution_count": 14
        }
      ],
      "source": [
        "# Print the distribution and notice the batch and event shapes\n",
        "\n",
        "another_batch_of_normals"
      ]
    },
    {
      "cell_type": "code",
      "execution_count": 15,
      "metadata": {
        "colab": {
          "base_uri": "https://localhost:8080/"
        },
        "id": "UzNuHlhKZl_C",
        "outputId": "e6e9e123-5beb-45a3-ac1a-953828162010"
      },
      "outputs": [
        {
          "output_type": "execute_result",
          "data": {
            "text/plain": [
              "<tf.Tensor: shape=(2, 1), dtype=float32, numpy=\n",
              "array([[0.],\n",
              "       [1.]], dtype=float32)>"
            ]
          },
          "metadata": {},
          "execution_count": 15
        }
      ],
      "source": [
        "# The stored loc parameter values are what you pass in, not what is used after broadcasting\n",
        "\n",
        "another_batch_of_normals.loc"
      ]
    },
    {
      "cell_type": "code",
      "execution_count": 16,
      "metadata": {
        "colab": {
          "base_uri": "https://localhost:8080/"
        },
        "id": "OKuuElA1Zl_C",
        "outputId": "f1380f00-4053-4e8f-8e14-d5e8f7ffccd4"
      },
      "outputs": [
        {
          "output_type": "execute_result",
          "data": {
            "text/plain": [
              "<tf.Tensor: shape=(3,), dtype=float32, numpy=array([  1.,  10., 100.], dtype=float32)>"
            ]
          },
          "metadata": {},
          "execution_count": 16
        }
      ],
      "source": [
        "# The stored scale parameter values are what you pass in, not what is used after broadcasting\n",
        "\n",
        "another_batch_of_normals.scale"
      ]
    },
    {
      "cell_type": "markdown",
      "metadata": {
        "id": "Rkz1mqjTZl_C"
      },
      "source": [
        "In summary, TensorFlow broadcasts parameter arrays: it stretches them according to the broadcasting rule, then creates a distribution on an element-by-element basis."
      ]
    },
    {
      "cell_type": "markdown",
      "metadata": {
        "id": "wQ8DsLKQZl_C"
      },
      "source": [
        "#### Broadcasting with `prob` and `log_prob` methods"
      ]
    },
    {
      "cell_type": "markdown",
      "metadata": {
        "id": "e0y46n6SZl_D"
      },
      "source": [
        "When using `prob` and  `log_prob` with broadcasting, we follow the same principles as before. Let's make a new batch of normals as before but with means which are centered at different locations to help distinguish the results we get."
      ]
    },
    {
      "cell_type": "code",
      "execution_count": 17,
      "metadata": {
        "colab": {
          "base_uri": "https://localhost:8080/"
        },
        "id": "fOqSXX4HZl_D",
        "outputId": "dbba63f4-6516-4c06-faeb-4a2d8f5160f2"
      },
      "outputs": [
        {
          "output_type": "execute_result",
          "data": {
            "text/plain": [
              "<tfp.distributions.Normal 'Normal' batch_shape=[2, 3] event_shape=[] dtype=float32>"
            ]
          },
          "metadata": {},
          "execution_count": 17
        }
      ],
      "source": [
        "# Define a batch of Normal distributions with broadcasting\n",
        "import tensorflow as tf\n",
        "import tensorflow_probability as tfp\n",
        "tf.random.set_seed(seed=42)\n",
        "\n",
        "loc = [[0.], [10.]]\n",
        "scale = [1., 1., 1.]\n",
        "\n",
        "another_batch_of_normals = tfp.distributions.Normal(loc=loc, scale=scale)\n",
        "another_batch_of_normals"
      ]
    },
    {
      "cell_type": "markdown",
      "metadata": {
        "id": "eNuXLRchZl_E"
      },
      "source": [
        "We can feed in samples of any shape as long as it can be broadcast agasint our batch shape for this example."
      ]
    },
    {
      "cell_type": "code",
      "execution_count": 18,
      "metadata": {
        "colab": {
          "base_uri": "https://localhost:8080/"
        },
        "id": "1pschgifZl_E",
        "outputId": "f31d3fc6-e517-4af0-b15e-c3a870cc5092"
      },
      "outputs": [
        {
          "output_type": "execute_result",
          "data": {
            "text/plain": [
              "<tf.Tensor: shape=(2, 3), dtype=float32, numpy=\n",
              "array([[3.1989583e-01, 3.1989583e-01, 3.1989583e-01],\n",
              "       [5.7441017e-21, 5.7441017e-21, 5.7441017e-21]], dtype=float32)>"
            ]
          },
          "metadata": {},
          "execution_count": 18
        }
      ],
      "source": [
        "# Use broadcasting along the second axis with the prob method\n",
        "import tensorflow as tf\n",
        "tf.random.set_seed(seed=42)\n",
        "\n",
        "sample = tf.random.uniform(shape=(2, 1))\n",
        "another_batch_of_normals.prob(value=sample)"
      ]
    },
    {
      "cell_type": "markdown",
      "metadata": {
        "id": "hrj3caZ-Zl_E"
      },
      "source": [
        "Or boradcasting along the first axis instead:"
      ]
    },
    {
      "cell_type": "code",
      "execution_count": 19,
      "metadata": {
        "colab": {
          "base_uri": "https://localhost:8080/"
        },
        "id": "fO4XI8iQZl_F",
        "outputId": "79f27d01-191a-4948-cc86-bdbeeb5d64ba"
      },
      "outputs": [
        {
          "output_type": "execute_result",
          "data": {
            "text/plain": [
              "<tf.Tensor: shape=(2, 3), dtype=float32, numpy=\n",
              "array([[3.1989583e-01, 3.6197433e-01, 3.7486044e-01],\n",
              "       [4.7472477e-20, 5.7441017e-21, 2.4643045e-21]], dtype=float32)>"
            ]
          },
          "metadata": {},
          "execution_count": 19
        }
      ],
      "source": [
        "# Use broadcasting along the first axis with the prob method\n",
        "import tensorflow as tf\n",
        "tf.random.set_seed(seed=42)\n",
        "\n",
        "sample = tf.random.uniform(shape=(1, 3))\n",
        "another_batch_of_normals.prob(value=sample)"
      ]
    },
    {
      "cell_type": "markdown",
      "metadata": {
        "id": "iyIddNPiZl_F"
      },
      "source": [
        "Or even both axes:"
      ]
    },
    {
      "cell_type": "code",
      "execution_count": 20,
      "metadata": {
        "colab": {
          "base_uri": "https://localhost:8080/"
        },
        "id": "kajhgdZeZl_F",
        "outputId": "f500fc08-c9f9-4889-affc-8640cad76cc2"
      },
      "outputs": [
        {
          "output_type": "execute_result",
          "data": {
            "text/plain": [
              "<tf.Tensor: shape=(2, 3), dtype=float32, numpy=\n",
              "array([[3.1989583e-01, 3.1989583e-01, 3.1989583e-01],\n",
              "       [4.7472477e-20, 4.7472477e-20, 4.7472477e-20]], dtype=float32)>"
            ]
          },
          "metadata": {},
          "execution_count": 20
        }
      ],
      "source": [
        "# Use broadcasting along both axes with the prob method\n",
        "import tensorflow as tf\n",
        "tf.random.set_seed(seed=42)\n",
        "\n",
        "sample = tf.random.uniform(shape=(1, 1))\n",
        "another_batch_of_normals.prob(value=sample)"
      ]
    },
    {
      "cell_type": "markdown",
      "metadata": {
        "id": "BuX9I9JvZl_F"
      },
      "source": [
        "`log_prob` works in the exact same way with broadcasting. We can replace `prob` with `log_prob` in any of the previous examples:"
      ]
    },
    {
      "cell_type": "code",
      "execution_count": 21,
      "metadata": {
        "colab": {
          "base_uri": "https://localhost:8080/"
        },
        "id": "9Fjb7NxhZl_F",
        "outputId": "9e408092-3453-41d3-f063-38ee4c61eed3"
      },
      "outputs": [
        {
          "output_type": "execute_result",
          "data": {
            "text/plain": [
              "<tf.Tensor: shape=(2, 3), dtype=float32, numpy=\n",
              "array([[ -1.1397599,  -1.016182 ,  -0.9812015],\n",
              "       [-44.494137 , -46.606113 , -47.452377 ]], dtype=float32)>"
            ]
          },
          "metadata": {},
          "execution_count": 21
        }
      ],
      "source": [
        "# Use broadcasting along the first axis with the log_prob method\n",
        "import tensorflow as tf\n",
        "tf.random.set_seed(seed=42)\n",
        "\n",
        "sample = tf.random.uniform(shape=(1, 3))\n",
        "another_batch_of_normals.log_prob(value=sample)"
      ]
    },
    {
      "cell_type": "markdown",
      "metadata": {
        "id": "2neVK79qZl_G"
      },
      "source": [
        "## Broadcasting for multivariate TensorFlow distributions"
      ]
    },
    {
      "cell_type": "markdown",
      "metadata": {
        "id": "m0ONDduEZl_G"
      },
      "source": [
        "Broadcasting behaviour for multivariate distributions is only a little more sophisticated than it is for univariate distributions.\n",
        "\n",
        "Recall that `MultivariateNormalDiag` has two parameter arguments: `loc` and `scale_diag`. When specifying a single distribution, these arguments are vectors of the same length:"
      ]
    },
    {
      "cell_type": "code",
      "execution_count": 23,
      "metadata": {
        "colab": {
          "base_uri": "https://localhost:8080/"
        },
        "id": "cwZSOj6_Zl_G",
        "outputId": "7bd6033c-3297-4120-fb55-b879a68d98cd"
      },
      "outputs": [
        {
          "output_type": "execute_result",
          "data": {
            "text/plain": [
              "<tfp.distributions.MultivariateNormalDiag 'MultivariateNormalDiag' batch_shape=[] event_shape=[2] dtype=float32>"
            ]
          },
          "metadata": {},
          "execution_count": 23
        }
      ],
      "source": [
        "# Define a multivariate Gaussian distribution without broadcasting\n",
        "import tensorflow as tf\n",
        "import tensorflow_probability as tfd\n",
        "tf.random.set_seed(seed=42)\n",
        "\n",
        "single_mvt_normal = tfp.distributions.MultivariateNormalDiag(\n",
        "    loc=[0.], scale_diag=[1., 0.5])\n",
        "single_mvt_normal"
      ]
    },
    {
      "cell_type": "code",
      "execution_count": 24,
      "metadata": {
        "colab": {
          "base_uri": "https://localhost:8080/"
        },
        "id": "CiMjsppfZl_G",
        "outputId": "c0599898-f3a4-40ae-f4d2-51a69a8c9e31"
      },
      "outputs": [
        {
          "output_type": "execute_result",
          "data": {
            "text/plain": [
              "<tf.Tensor: shape=(1,), dtype=float32, numpy=array([0.], dtype=float32)>"
            ]
          },
          "metadata": {},
          "execution_count": 24
        }
      ],
      "source": [
        "# Print the loc parameter\n",
        "\n",
        "single_mvt_normal.loc"
      ]
    },
    {
      "cell_type": "code",
      "execution_count": 25,
      "metadata": {
        "colab": {
          "base_uri": "https://localhost:8080/"
        },
        "id": "-tAq9FQ3Zl_H",
        "outputId": "b09a34ac-0694-4703-9d9a-d114d450f1f9"
      },
      "outputs": [
        {
          "output_type": "execute_result",
          "data": {
            "text/plain": [
              "<tf.Tensor: shape=(2, 2), dtype=float32, numpy=\n",
              "array([[1.  , 0.  ],\n",
              "       [0.  , 0.25]], dtype=float32)>"
            ]
          },
          "metadata": {},
          "execution_count": 25
        }
      ],
      "source": [
        "# Print the covariance matrix - the diagonal is scale_diag^2\n",
        "\n",
        "single_mvt_normal.covariance()"
      ]
    },
    {
      "cell_type": "markdown",
      "metadata": {
        "id": "UXB2IFz_Zl_I"
      },
      "source": [
        "The size of the final axis of the inputs determines the event shape for each distribution in the batch.  This means that if we pass\n",
        "    \n",
        "    loc = [ [0., 0.],\n",
        "            [1., 1.] ]\n",
        "    scale_diag = [1., 0.5]\n",
        "    \n",
        "such that\n",
        "\n",
        "    loc:        2 x 2\n",
        "    scale_diag: 1 x 2\n",
        "                    ^ final dimension is interpreted as event dimension\n",
        "                ^ other dimensions are interpreted as batch dimensions  \n",
        "then a batch of two bivariate normal distributions will be created."
      ]
    },
    {
      "cell_type": "code",
      "execution_count": 26,
      "metadata": {
        "id": "mHf92nEUZl_I"
      },
      "outputs": [],
      "source": [
        "# Define a multivariate Gaussian distribution with broadcasting\n",
        "import tensorflow as tf\n",
        "import tensorflow_probability as tfp\n",
        "tf.random.set_seed(seed=42)\n",
        "\n",
        "loc = [[0.], [1.]]\n",
        "scale_diag = [1., 0.5]\n",
        "\n",
        "batch_of_mvt_normals = tfp.distributions.MultivariateNormalDiag(\n",
        "    loc=loc, scale_diag=scale_diag)"
      ]
    },
    {
      "cell_type": "code",
      "execution_count": 27,
      "metadata": {
        "colab": {
          "base_uri": "https://localhost:8080/"
        },
        "id": "swLSOQZwZl_I",
        "outputId": "c7f4a386-e674-4f80-b8a4-c24d49a83ef8"
      },
      "outputs": [
        {
          "output_type": "execute_result",
          "data": {
            "text/plain": [
              "<tfp.distributions.MultivariateNormalDiag 'MultivariateNormalDiag' batch_shape=[2] event_shape=[2] dtype=float32>"
            ]
          },
          "metadata": {},
          "execution_count": 27
        }
      ],
      "source": [
        "# Print the distribution - note the event_shape and batch_shape\n",
        "\n",
        "batch_of_mvt_normals"
      ]
    },
    {
      "cell_type": "code",
      "execution_count": 28,
      "metadata": {
        "colab": {
          "base_uri": "https://localhost:8080/"
        },
        "id": "Qtng5Jy1Zl_I",
        "outputId": "fd5589fd-1d9a-44a1-8322-661a0f4b63e7"
      },
      "outputs": [
        {
          "output_type": "execute_result",
          "data": {
            "text/plain": [
              "{'loc': ListWrapper([ListWrapper([0.0]), ListWrapper([1.0])]),\n",
              " 'scale_diag': ListWrapper([1.0, 0.5]),\n",
              " 'validate_args': False,\n",
              " 'allow_nan_stats': True,\n",
              " 'experimental_use_kahan_sum': False,\n",
              " 'name': 'MultivariateNormalDiag'}"
            ]
          },
          "metadata": {},
          "execution_count": 28
        }
      ],
      "source": [
        "# Print the distribution parameters\n",
        "# There is a batch of two distributions with different means and same covariance\n",
        "\n",
        "batch_of_mvt_normals.parameters"
      ]
    },
    {
      "cell_type": "markdown",
      "metadata": {
        "id": "eeX_Hoq4Zl_J"
      },
      "source": [
        "Knowing that, for multivariate distributions, TensorFlow\n",
        "\n",
        "- interprets the final axis of an array of parameters as the event shape,\n",
        "\n",
        "\n",
        "- and broadcasts over the remaining axes,  \n",
        "\n",
        "can you predict what the batch and event shapes will if we pass the arguments\n",
        "\n",
        "\n",
        "    loc = [ [ 1.,  1.,  1.],\n",
        "            [-1., -1., -1.] ] # shape (2, 3)\n",
        "    scale_diag = [ [[0.1, 0.1, 0.1]],\n",
        "                   [[10., 10., 10.]] ] # shape (2, 1, 3)\n",
        "                   \n",
        "to `MultivariateNormalDiag`?"
      ]
    },
    {
      "cell_type": "markdown",
      "metadata": {
        "id": "p0f6vo0OZl_J"
      },
      "source": [
        "Solution:\n",
        "\n",
        "Align the parameter array shapes on their last axis, prepending 1s where necessary:  \n",
        "    \n",
        "           loc: 1 x 2 x 3  \n",
        "    scale_diag: 2 x 1 x 3  \n",
        "\n",
        "The final axis has size 3, so `event_shape = (3)`. The remaining axes are broadcast over to yield  \n",
        "    \n",
        "           loc: 2 x 2 x 3  \n",
        "    scale_diag: 2 x 2 x 3  \n",
        "\n",
        "so `batch_shape = (2, 2)`.\n",
        "\n",
        "Let's see if this is correct!"
      ]
    },
    {
      "cell_type": "code",
      "execution_count": 29,
      "metadata": {
        "id": "BLUxbBWmZl_J"
      },
      "outputs": [],
      "source": [
        "# Define a multivariate Gaussian distribution with broadcasting\n",
        "import tensorflow as tf\n",
        "import tensorflow_probability as tfp\n",
        "tf.random.set_seed(seed=42)\n",
        "\n",
        "loc = [[ 1.], [-1.]] # shape (2, 1)\n",
        "scale_diag = [[[0.1, 0.1, 0.1]], [[10., 10., 10.]]] # shape (2, 1, 3)\n",
        "\n",
        "another_batch_of_mvt_normals = tfp.distributions.MultivariateNormalDiag(\n",
        "    loc=loc, scale_diag=scale_diag)"
      ]
    },
    {
      "cell_type": "code",
      "execution_count": 30,
      "metadata": {
        "colab": {
          "base_uri": "https://localhost:8080/"
        },
        "id": "SZwYBIuVZl_K",
        "outputId": "ba899e71-b09d-4919-86ab-cc9f5aa8d583"
      },
      "outputs": [
        {
          "output_type": "execute_result",
          "data": {
            "text/plain": [
              "<tfp.distributions.MultivariateNormalDiag 'MultivariateNormalDiag' batch_shape=[2, 2] event_shape=[3] dtype=float32>"
            ]
          },
          "metadata": {},
          "execution_count": 30
        }
      ],
      "source": [
        "# Print the distribution and note batch and event shapes - bingo!\n",
        "\n",
        "another_batch_of_mvt_normals"
      ]
    },
    {
      "cell_type": "code",
      "execution_count": 31,
      "metadata": {
        "colab": {
          "base_uri": "https://localhost:8080/"
        },
        "id": "UqE40Yf4Zl_K",
        "outputId": "87e3325c-d3c8-4c7a-8ef8-e21abdb38107"
      },
      "outputs": [
        {
          "output_type": "execute_result",
          "data": {
            "text/plain": [
              "{'loc': ListWrapper([ListWrapper([1.0]), ListWrapper([-1.0])]),\n",
              " 'scale_diag': ListWrapper([ListWrapper([ListWrapper([0.1, 0.1, 0.1])]), ListWrapper([ListWrapper([10.0, 10.0, 10.0])])]),\n",
              " 'validate_args': False,\n",
              " 'allow_nan_stats': True,\n",
              " 'experimental_use_kahan_sum': False,\n",
              " 'name': 'MultivariateNormalDiag'}"
            ]
          },
          "metadata": {},
          "execution_count": 31
        }
      ],
      "source": [
        "# Print the distribution parameters\n",
        "\n",
        "another_batch_of_mvt_normals.parameters"
      ]
    },
    {
      "cell_type": "markdown",
      "metadata": {
        "id": "Vgp0TBljZl_K"
      },
      "source": [
        "As we did before lets also look at broadcasting when we have batches of multivariate distributions."
      ]
    },
    {
      "cell_type": "code",
      "execution_count": 32,
      "metadata": {
        "colab": {
          "base_uri": "https://localhost:8080/"
        },
        "id": "YzUT0cp0Zl_K",
        "outputId": "9d43b16f-d07e-4bf0-a7f3-961846c83cb6"
      },
      "outputs": [
        {
          "output_type": "execute_result",
          "data": {
            "text/plain": [
              "<tfp.distributions.Normal 'Normal' batch_shape=[3, 6] event_shape=[] dtype=float32>"
            ]
          },
          "metadata": {},
          "execution_count": 32
        }
      ],
      "source": [
        "# Define a batch of Normal distributions with broadcasting\n",
        "import tensorflow as tf\n",
        "import tensorflow_probability as tfp\n",
        "tf.random.set_seed(seed=42)\n",
        "\n",
        "loc = [[0.], [1.], [0.]]\n",
        "scale = [1., 10., 100., 1., 10, 100.]\n",
        "\n",
        "another_batch_of_normals = tfp.distributions.Normal(loc=loc, scale=scale)\n",
        "another_batch_of_normals"
      ]
    },
    {
      "cell_type": "markdown",
      "metadata": {
        "id": "i7FDqLIxZl_L"
      },
      "source": [
        "And to refresh our memory of `Independent` we'll use it below to roll the rightmost batch shape into the event shape."
      ]
    },
    {
      "cell_type": "code",
      "execution_count": 34,
      "metadata": {
        "colab": {
          "base_uri": "https://localhost:8080/"
        },
        "id": "07tVuhpbZl_L",
        "outputId": "4d95d46c-62c2-48ce-b0fe-ddb02bf1c0ec"
      },
      "outputs": [
        {
          "output_type": "execute_result",
          "data": {
            "text/plain": [
              "<tfp.distributions.Independent 'IndependentNormal' batch_shape=[3] event_shape=[6] dtype=float32>"
            ]
          },
          "metadata": {},
          "execution_count": 34
        }
      ],
      "source": [
        "# Create a multivariate Independent distribution\n",
        "import tensorflow as tf\n",
        "import tensorflow_probability as tfp\n",
        "tf.random.set_seed(seed=42)\n",
        "\n",
        "another_batch_of_mvt_normals = tfp.distributions.Independent(\n",
        "    distribution=another_batch_of_normals,\n",
        "    reinterpreted_batch_ndims=1)\n",
        "another_batch_of_mvt_normals"
      ]
    },
    {
      "cell_type": "markdown",
      "metadata": {
        "id": "168651XNZl_L"
      },
      "source": [
        "Now, onto the broadcasting:"
      ]
    },
    {
      "cell_type": "code",
      "execution_count": 35,
      "metadata": {
        "colab": {
          "base_uri": "https://localhost:8080/"
        },
        "id": "SGGGEbqXZl_L",
        "outputId": "3de24089-cc21-4beb-f8b9-14a7be53e687"
      },
      "outputs": [
        {
          "output_type": "execute_result",
          "data": {
            "text/plain": [
              "<tf.Tensor: shape=(3,), dtype=float32, numpy=array([2.5805955e-09, 2.9402489e-09, 3.5549474e-09], dtype=float32)>"
            ]
          },
          "metadata": {},
          "execution_count": 35
        }
      ],
      "source": [
        "# Use broadcasting with the prob method\n",
        "# B shaped input (broadcast over event)\n",
        "import tensorflow as tf\n",
        "tf.random.set_seed(seed=42)\n",
        "\n",
        "sample = tf.random.uniform(shape=(3, 1))\n",
        "another_batch_of_mvt_normals.prob(value=sample)"
      ]
    },
    {
      "cell_type": "code",
      "execution_count": 36,
      "metadata": {
        "colab": {
          "base_uri": "https://localhost:8080/"
        },
        "id": "9-FMavYSZl_M",
        "outputId": "53b6c095-93c2-4628-c3da-a3b912ec4048"
      },
      "outputs": [
        {
          "output_type": "execute_result",
          "data": {
            "text/plain": [
              "<tf.Tensor: shape=(3,), dtype=float32, numpy=array([2.8991622e-09, 3.2812235e-09, 2.8991622e-09], dtype=float32)>"
            ]
          },
          "metadata": {},
          "execution_count": 36
        }
      ],
      "source": [
        "# Use broadcasting with the prob method\n",
        "# E shaped input (broadcast over batch)\n",
        "import tensorflow as tf\n",
        "tf.random.set_seed(seed=42)\n",
        "\n",
        "sample = tf.random.uniform(shape=(1, 6))\n",
        "another_batch_of_mvt_normals.prob(value=sample)"
      ]
    },
    {
      "cell_type": "code",
      "execution_count": 37,
      "metadata": {
        "colab": {
          "base_uri": "https://localhost:8080/"
        },
        "id": "k2NiJhnlZl_M",
        "outputId": "8a334e84-f6a2-4b88-8cc4-71e03b07c682"
      },
      "outputs": [
        {
          "output_type": "execute_result",
          "data": {
            "text/plain": [
              "<tf.Tensor: shape=(2, 3), dtype=float32, numpy=\n",
              "array([[2.8991622e-09, 2.8752789e-09, 2.6618117e-09],\n",
              "       [2.8392129e-09, 2.7802218e-09, 2.2349427e-09]], dtype=float32)>"
            ]
          },
          "metadata": {},
          "execution_count": 37
        }
      ],
      "source": [
        "# Use broadcasting with the prob method\n",
        "# [S,B,E] shaped input (broadcast over samples)\n",
        "import tensorflow as tf\n",
        "tf.random.set_seed(seed=42)\n",
        "\n",
        "sample = tf.random.uniform(shape=(2, 3, 6))\n",
        "another_batch_of_mvt_normals.prob(value=sample)"
      ]
    },
    {
      "cell_type": "code",
      "execution_count": 38,
      "metadata": {
        "colab": {
          "base_uri": "https://localhost:8080/"
        },
        "id": "FhDF1zc-Zl_M",
        "outputId": "ef46b29b-d514-48b1-97b9-e05561711ecb"
      },
      "outputs": [
        {
          "output_type": "execute_result",
          "data": {
            "text/plain": [
              "<tf.Tensor: shape=(2, 3), dtype=float32, numpy=\n",
              "array([[2.8991622e-09, 3.2812235e-09, 2.8991622e-09],\n",
              "       [2.9772862e-09, 2.8752789e-09, 2.9772862e-09]], dtype=float32)>"
            ]
          },
          "metadata": {},
          "execution_count": 38
        }
      ],
      "source": [
        "# [S,b,e] shaped input where [b,e] can be broadcast agaisnt [B,E]\n",
        "import tensorflow as tf\n",
        "tf.random.set_seed(seed=42)\n",
        "\n",
        "sample = tf.random.uniform(shape=(2, 1, 6))\n",
        "another_batch_of_mvt_normals.prob(value=sample)"
      ]
    },
    {
      "cell_type": "markdown",
      "metadata": {
        "id": "HgyhnvoTZl_M"
      },
      "source": [
        "As a final example with `log_prob` instead of `prob`"
      ]
    },
    {
      "cell_type": "code",
      "execution_count": 39,
      "metadata": {
        "colab": {
          "base_uri": "https://localhost:8080/"
        },
        "id": "O3lzAolVZl_N",
        "outputId": "ed26fbbf-da6c-48a8-8a1d-cf4e950662b8"
      },
      "outputs": [
        {
          "output_type": "execute_result",
          "data": {
            "text/plain": [
              "<tf.Tensor: shape=(2, 3), dtype=float32, numpy=\n",
              "array([[-19.775246, -19.644772, -19.454926],\n",
              "       [-19.547066, -20.272385, -19.802654]], dtype=float32)>"
            ]
          },
          "metadata": {},
          "execution_count": 39
        }
      ],
      "source": [
        "# Use broadcasting with the log_prob method\n",
        "# [S,b,e] shaped input where [b,e] can be broadcast agaisnt [B,E]\n",
        "import tensorflow as tf\n",
        "tf.random.set_seed(seed=42)\n",
        "\n",
        "sample = tf.random.uniform(shape=(2, 3, 1))\n",
        "another_batch_of_mvt_normals.log_prob(value=sample)"
      ]
    },
    {
      "cell_type": "markdown",
      "metadata": {
        "id": "ELf_rB8aZl_N"
      },
      "source": [
        "You should now feel confident specifying batches of distributions using broadcasting. As you may have already guessed, broadcasting is especially useful when specifying grids of hyperparameters.\n",
        "\n",
        "If you don't feel entirely comfortable with broadcasting quite yet, don't worry: re-read this notebook, go through the further reading provided below, and experiment with broadcasting in both numpy and TensorFlow, and you'll be broadcasting in no time."
      ]
    },
    {
      "cell_type": "markdown",
      "metadata": {
        "id": "MtSK2xEfZl_N"
      },
      "source": [
        "### Further reading and resources\n",
        "* Numpy documentation on broadcasting: https://numpy.org/devdocs/user/theory.broadcasting.html\n",
        "* https://www.tensorflow.org/xla/broadcasting"
      ]
    }
  ],
  "metadata": {
    "kernelspec": {
      "display_name": "Python 3",
      "language": "python",
      "name": "python3"
    },
    "language_info": {
      "codemirror_mode": {
        "name": "ipython",
        "version": 3
      },
      "file_extension": ".py",
      "mimetype": "text/x-python",
      "name": "python",
      "nbconvert_exporter": "python",
      "pygments_lexer": "ipython3",
      "version": "3.7.1"
    },
    "colab": {
      "provenance": [],
      "include_colab_link": true
    }
  },
  "nbformat": 4,
  "nbformat_minor": 0
}