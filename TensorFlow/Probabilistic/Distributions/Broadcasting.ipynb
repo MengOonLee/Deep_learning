{
  "nbformat": 4,
  "nbformat_minor": 0,
  "metadata": {
    "kernelspec": {
      "display_name": "Python 3",
      "name": "python3"
    },
    "language_info": {
      "codemirror_mode": {
        "name": "ipython",
        "version": 3
      },
      "file_extension": ".py",
      "mimetype": "text/x-python",
      "name": "python",
      "nbconvert_exporter": "python",
      "pygments_lexer": "ipython3",
      "version": "3.7.1"
    },
    "colab": {
      "name": "Broadcasting_rules.ipynb",
      "provenance": [],
      "include_colab_link": true
    }
  },
  "cells": [
    {
      "cell_type": "markdown",
      "metadata": {
        "id": "view-in-github",
        "colab_type": "text"
      },
      "source": [
        "<a href=\"https://colab.research.google.com/github/MengOonLee/Deep_learning/blob/master/TensorFlow/Probabilistic/Distributions/Broadcasting.ipynb\" target=\"_parent\"><img src=\"https://colab.research.google.com/assets/colab-badge.svg\" alt=\"Open In Colab\"/></a>"
      ]
    },
    {
      "cell_type": "markdown",
      "metadata": {
        "id": "TXjzWUNqbL7x"
      },
      "source": [
        "# Broadcasting rules"
      ]
    },
    {
      "cell_type": "markdown",
      "metadata": {
        "id": "_g7i4tmHbL7y"
      },
      "source": [
        "This reading will introduce you to numpy's broadcasting rules and show how you can use broadcasting when specifying batches of distributions in TensorFlow, as well as with the `prob` and `log_prob` methods.\n",
        "\n",
        "Broadcasting will also be discussed and demonstrated in the following videos."
      ]
    },
    {
      "cell_type": "markdown",
      "metadata": {
        "id": "5PHjA2snbL71"
      },
      "source": [
        "## Operations on arrays of different sizes in numpy"
      ]
    },
    {
      "cell_type": "markdown",
      "metadata": {
        "id": "DZaF-keybL71"
      },
      "source": [
        "Numpy operations can be applied to arrays that are not of the same shape, but only if the shapes satisfy certain conditions.\n",
        "\n",
        "As a demonstration of this, let us add together two arrays of different shapes:"
      ]
    },
    {
      "cell_type": "code",
      "metadata": {
        "id": "LvZhBwmebL71",
        "colab": {
          "base_uri": "https://localhost:8080/"
        },
        "outputId": "fe166644-fc2f-4ef5-a984-c4a5b4a70cff"
      },
      "source": [
        "import numpy as np\n",
        "\n",
        "# Add two arrays with different shapes\n",
        "# shape (4, 1)\n",
        "a = np.array([[1], [2], [3], [4]])\n",
        "print(\"a shape:\", a.shape)\n",
        "# shape (3,)\n",
        "b = np.array([0, 1, 2])\n",
        "print(\"b shape:\", b.shape)\n",
        "# shape (4, 3)\n",
        "c = a + b\n",
        "print(\"a + b shape:\", c.shape)"
      ],
      "execution_count": null,
      "outputs": [
        {
          "output_type": "stream",
          "name": "stdout",
          "text": [
            "a shape: (4, 1)\n",
            "b shape: (3,)\n",
            "a + b shape: (4, 3)\n"
          ]
        }
      ]
    },
    {
      "cell_type": "markdown",
      "metadata": {
        "id": "KhzSph1mbL71"
      },
      "source": [
        "This is the addition\n",
        "\n",
        "    [ [1.],    +  [0., 1., 2.]  \n",
        "      [2.],  \n",
        "      [3.],  \n",
        "      [4.] ]\n",
        "\n",
        "To execute it, numpy:\n",
        "1. Aligned the shapes of `a` and `b` on the last axis and prepended 1s to the shape with fewer axes:\n",
        "        a: 4 x 1     --->    a: 4 x 1\n",
        "        b:     3     --->    b: 1 x 3\n",
        "        \n",
        "\n",
        "2. Checked that the sizes of the axes matched or were equal to 1:\n",
        "        a: 4 x 1  \n",
        "        b: 1 x 3\n",
        "`a` and `b` satisfied this criterion.\n",
        "\n",
        "\n",
        "3. Stretched both arrays on their 1-valued axes so that their shapes matched, then added them together.  \n",
        "`a` was replicated 3 times in the second axis, while `b` was replicated 4 times in the first axis.\n",
        "\n",
        "This meant that the addition in the final step was\n",
        "\n",
        "    [ [1., 1., 1.],    +  [ [0., 1., 2.],  \n",
        "      [2., 2., 2.],         [0., 1., 2.],  \n",
        "      [3., 3., 3.],         [0., 1., 2.],  \n",
        "      [4., 4., 4.] ]        [0., 1., 2.] ]\n",
        "      \n",
        "Addition was then carried out element-by-element, as you can verify by referring back to the output of the code cell above.  \n",
        "This resulted in an output with shape 4 x 3.\n",
        "\n",
        "\n",
        "## Numpy's broadcasting rule\n",
        "\n",
        "Broadcasting rules describe how values should be transmitted when the inputs to an operation do not match.  \n",
        "In numpy, the broadcasting rule is very simple:\n",
        "> Prepend 1s to the smaller shape,   \n",
        "check that the axes of both arrays have sizes that are equal or 1,  \n",
        "then stretch the arrays in their size-1 axes.\n",
        "\n",
        "A crucial aspect of this rule is that it does not require the input arrays have the same number of axes.  \n",
        "Another consequence of it is that a broadcasting output will have the largest size of its inputs in each axis.  \n",
        "Take the following multiplication as an example:\n",
        "\n",
        "        a: 3 x 7 x 1  \n",
        "        b:     1 x 5  \n",
        "    a * b: 3 x 7 x 5\n",
        "\n",
        "You can see that the output shape is the maximum of the sizes in each axis.\n",
        "\n",
        "Numpy's broadcasting rule also does not require that one of the arrays has to be bigger in all axes.  \n",
        "This is seen in the following example, where `a` is smaller than `b` in its third axis but is bigger in its second axis."
      ]
    },
    {
      "cell_type": "code",
      "metadata": {
        "id": "r9jO02cRbL71",
        "colab": {
          "base_uri": "https://localhost:8080/"
        },
        "outputId": "6a7c9bbf-f18b-4d3a-addb-29eb335c0082"
      },
      "source": [
        "import numpy as np\n",
        "\n",
        "# Multiply two arrays with different shapes\n",
        "# shape (2, 2, 1)\n",
        "a = np.array([[[0.01], [0.1]], [[1.00], [10.]]])\n",
        "print(\"a shape:\", a.shape)\n",
        "# shape (2, 1, 2)\n",
        "b = np.array([[[2., 2.]], [[3., 3.]]])\n",
        "print(\"b shape:\", b.shape)\n",
        "# shape (2, 2, 2)\n",
        "c = a * b\n",
        "print(\"a * b shape:\", c.shape)"
      ],
      "execution_count": null,
      "outputs": [
        {
          "output_type": "stream",
          "name": "stdout",
          "text": [
            "a shape: (2, 2, 1)\n",
            "b shape: (2, 1, 2)\n",
            "a * b shape: (2, 2, 2)\n"
          ]
        }
      ]
    },
    {
      "cell_type": "markdown",
      "metadata": {
        "id": "HT64qJUbbL71"
      },
      "source": [
        "Broadcasting behaviour also points to an efficient way to compute an outer product in numpy:"
      ]
    },
    {
      "cell_type": "code",
      "metadata": {
        "id": "Ihs2plz9bL71",
        "colab": {
          "base_uri": "https://localhost:8080/"
        },
        "outputId": "b0c709d2-f074-4c5f-dbc6-f0470b9a38e9"
      },
      "source": [
        "import numpy as np\n",
        "# Use broadcasting to compute an outer product\n",
        "a = np.array([-1, 0, 1])\n",
        "print(\"a shape:\", a.shape)\n",
        "b = np.array([0, 1, 2, 3])\n",
        "print(\"b shape:\", b.shape)\n",
        "# outer product ab^T, where a and b are column vectors\n",
        "c = a[:, np.newaxis] * b\n",
        "print(\"ab^T shape:\", c.shape)"
      ],
      "execution_count": null,
      "outputs": [
        {
          "output_type": "stream",
          "name": "stdout",
          "text": [
            "a shape: (3,)\n",
            "b shape: (4,)\n",
            "ab^T shape: (3, 4)\n"
          ]
        }
      ]
    },
    {
      "cell_type": "markdown",
      "metadata": {
        "id": "SXschlJBbL71"
      },
      "source": [
        "The idea of numpy stretching the arrays in their size-1 axes is useful and is functionally correct. But this is not what numpy literally does behind the scenes, since that would be an inefficient use of memory. Instead, numpy carries out the operation by looping over singleton (size-1) dimensions.\n",
        "\n",
        "To give you some practise with broadcasting, try predicting the output shapes for the following operations:"
      ]
    },
    {
      "cell_type": "code",
      "metadata": {
        "id": "2omTD-MxbL71",
        "outputId": "4ee052a9-788a-4adb-ed85-7b1be7e0bdea",
        "colab": {
          "base_uri": "https://localhost:8080/"
        }
      },
      "source": [
        "import numpy as np\n",
        "\n",
        "# Define three arrays with different shapes\n",
        "a = np.array([[1], [2], [3]])\n",
        "print(\"a shape:\", a.shape)\n",
        "b = np.zeros(shape=(10, 1, 1))\n",
        "print(\"b shape:\", b.shape)\n",
        "c = np.ones(shape=(4))\n",
        "print(\"c shape:\", c.shape)\n",
        "\n",
        "# Predict the shape before executing this cell\n",
        "print(\"a + b shape:\", (a + b).shape)\n",
        "print(\"a*c shape:\", (a*c).shape)\n",
        "print(\"a*b + c shape:\", (a*b + c).shape)"
      ],
      "execution_count": null,
      "outputs": [
        {
          "output_type": "stream",
          "name": "stdout",
          "text": [
            "a shape: (3, 1)\n",
            "b shape: (10, 1, 1)\n",
            "c shape: (4,)\n",
            "a + b shape: (10, 3, 1)\n",
            "a*c shape: (3, 4)\n",
            "a*b + c shape: (10, 3, 4)\n"
          ]
        }
      ]
    },
    {
      "cell_type": "markdown",
      "metadata": {
        "id": "IcKchEh3bL72"
      },
      "source": [
        "## Broadcasting for univariate TensorFlow Distributions"
      ]
    },
    {
      "cell_type": "markdown",
      "metadata": {
        "id": "48EH1rCAbL72"
      },
      "source": [
        "The broadcasting rule for TensorFlow is the same as that for numpy. For example, TensorFlow also allows you to specify the parameters of Distribution objects using broadcasting.\n",
        "\n",
        "What is meant by this can be understood through an example with the univariate normal distribution. Say that we wish to specify a parameter grid for six Gaussians. The parameter combinations to be used, `(loc, scale)`, are:  \n",
        "\n",
        "    (0, 1)  \n",
        "    (0, 10)  \n",
        "    (0, 100)  \n",
        "    (1, 1)  \n",
        "    (1, 10)  \n",
        "    (1, 100)\n",
        "    \n",
        "A laborious way of doing this is to explicitly pass each parameter to `tfd.Normal`:"
      ]
    },
    {
      "cell_type": "code",
      "metadata": {
        "id": "Xrrv3YbDbL72",
        "colab": {
          "base_uri": "https://localhost:8080/",
          "height": 330
        },
        "outputId": "4ccde76b-e224-4525-c616-0fe93b9a11c7"
      },
      "source": [
        "import tensorflow as tf\n",
        "tf.keras.utils.set_random_seed(seed=42)\n",
        "tf.get_logger().setLevel(\"ERROR\")\n",
        "import tensorflow_probability as tfp\n",
        "%matplotlib inline\n",
        "import matplotlib.pyplot as plt\n",
        "import seaborn as sns\n",
        "\n",
        "# Define a batch of Normal distributions without broadcasting\n",
        "locs = [0, 0, 0, 5, 5, 5]\n",
        "scales = [1, 2, 3, 1, 2, 3]\n",
        "normals = tfp.distributions.Normal(\n",
        "    loc=locs, scale=scales)\n",
        "# Print the distribution and notice the batch and event shapes\n",
        "print(\"Normal distribution:\", normals)\n",
        "# Check the parameter values for loc\n",
        "print(\"Loc:\", normals.loc)\n",
        "# Check the parameter values for scale\n",
        "print(\"Scale:\", normals.scale)\n",
        "\n",
        "samples = normals.sample(sample_shape=10000)\n",
        "print(\"Samples shape:\", samples.shape)\n",
        "pdf = normals.prob(value=samples)\n",
        "plt.figure(figsize=(12, 3))\n",
        "for i, p in enumerate(zip(locs, scales)):\n",
        "    sns.lineplot(x=samples[:, i], y=pdf[:, i],\n",
        "        label=f\"loc={p[0]}, scale={p[1]}\")\n",
        "plt.show()"
      ],
      "execution_count": 12,
      "outputs": [
        {
          "output_type": "stream",
          "name": "stdout",
          "text": [
            "Normal distribution: tfp.distributions.Normal(\"Normal\", batch_shape=[6], event_shape=[], dtype=float32)\n",
            "Loc: tf.Tensor([0. 0. 0. 5. 5. 5.], shape=(6,), dtype=float32)\n",
            "Scale: tf.Tensor([1. 2. 3. 1. 2. 3.], shape=(6,), dtype=float32)\n",
            "Samples shape: (10000, 6)\n"
          ]
        },
        {
          "output_type": "display_data",
          "data": {
            "text/plain": [
              "<Figure size 1200x300 with 1 Axes>"
            ],
            "image/png": "[encoded data removed]"
          },
          "metadata": {}
        }
      ]
    },
    {
      "cell_type": "markdown",
      "metadata": {
        "id": "njErcwT9bL72"
      },
      "source": [
        "A more succinct way to create a batch of distributions for this parameter grid is to use broadcasting.  \n",
        "Consider what would happen if we were to broadcast these arrays according the rule discussed earlier:\n",
        "    \n",
        "    loc = [ [0.],\n",
        "            [1.] ]\n",
        "    scale = [1., 10., 100.]\n",
        "    \n",
        "The shapes would be stretched according to\n",
        "\n",
        "    loc:   2 x 1 ---> 2 x 3\n",
        "    scale: 1 x 3 ---> 2 x 3\n",
        "    \n",
        "resulting in\n",
        "\n",
        "    loc = [ [0., 0., 0.],\n",
        "            [1., 1., 1.] ]\n",
        "    scale = [ [1., 10., 100.],\n",
        "              [1., 10., 100.] ]\n",
        "              \n",
        "which are compatible with the `loc` and `scale` arguments of `tfd.Normal`.  \n",
        "Sure enough, this is precisely what TensorFlow does:"
      ]
    },
    {
      "cell_type": "code",
      "source": [
        "locs = np.array([[0], [5]])\n",
        "locs[0].item()"
      ],
      "metadata": {
        "id": "Mox2OqJrOOWN",
        "outputId": "bcd9c6a0-4c6e-4b7d-defa-6b4774582155",
        "colab": {
          "base_uri": "https://localhost:8080/"
        }
      },
      "execution_count": 7,
      "outputs": [
        {
          "output_type": "execute_result",
          "data": {
            "text/plain": [
              "0"
            ]
          },
          "metadata": {},
          "execution_count": 7
        }
      ]
    },
    {
      "cell_type": "code",
      "metadata": {
        "id": "GGXrFPQSbL72",
        "colab": {
          "base_uri": "https://localhost:8080/",
          "height": 382
        },
        "outputId": "77445975-1cc4-4481-ba7e-7a21341da32f"
      },
      "source": [
        "import numpy as np\n",
        "import tensorflow as tf\n",
        "tf.keras.utils.set_random_seed(seed=42)\n",
        "tf.get_logger().setLevel(\"ERROR\")\n",
        "import tensorflow_probability as tfp\n",
        "%matplotlib inline\n",
        "import matplotlib.pyplot as plt\n",
        "import seaborn as sns\n",
        "\n",
        "# Define a batch of Normal distributions with broadcasting\n",
        "locs = np.array([[0.], [5.]])\n",
        "scales = np.array([1., 2., 3.])\n",
        "normals = tfp.distributions.Normal(loc=locs, scale=scales)\n",
        "# Print the distribution and notice the batch and event shapes\n",
        "print(\"Normal distribution:\", normals)\n",
        "# The stored loc parameter values are what you pass in,\n",
        "# not what is used after broadcasting\n",
        "print(\"Loc:\", normals.loc)\n",
        "# The stored scale parameter values are what you pass in,\n",
        "# not what is used after broadcasting\n",
        "print(\"Scale:\", normals.scale)\n",
        "\n",
        "samples = normals.sample(sample_shape=10000)\n",
        "print(\"Samples shape:\", samples.shape)\n",
        "pdf = normals.prob(value=samples)\n",
        "print(\"pdf shape:\", pdf.shape)\n",
        "plt.figure(figsize=(12, 3))\n",
        "for i, s in enumerate(scales):\n",
        "    sns.lineplot(x=samples[:, 0, i], y=pdf[:, 0, i],\n",
        "        label=f\"loc={locs[0].item()}, scale={scales[i].item()}\")\n",
        "    sns.lineplot(x=samples[:, 1, i], y=pdf[:, 1, i],\n",
        "        label=f\"loc={locs[1].item()}, scale={scales[i].item()}\")\n",
        "plt.show()"
      ],
      "execution_count": 13,
      "outputs": [
        {
          "output_type": "stream",
          "name": "stdout",
          "text": [
            "Normal distribution: tfp.distributions.Normal(\"Normal\", batch_shape=[2, 3], event_shape=[], dtype=float64)\n",
            "Loc: tf.Tensor(\n",
            "[[0.]\n",
            " [5.]], shape=(2, 1), dtype=float64)\n",
            "Scale: tf.Tensor([1. 2. 3.], shape=(3,), dtype=float64)\n",
            "Samples shape: (10000, 2, 3)\n",
            "pdf shape: (10000, 2, 3)\n"
          ]
        },
        {
          "output_type": "display_data",
          "data": {
            "text/plain": [
              "<Figure size 1200x300 with 1 Axes>"
            ],
            "image/png": "[encoded data removed]"
          },
          "metadata": {}
        }
      ]
    },
    {
      "cell_type": "markdown",
      "metadata": {
        "id": "a4J6AknubL73"
      },
      "source": [
        "In summary, TensorFlow broadcasts parameter arrays: it stretches them according to the broadcasting rule, then creates a distribution on an element-by-element basis."
      ]
    },
    {
      "cell_type": "markdown",
      "metadata": {
        "id": "--014D6QbL73"
      },
      "source": [
        "#### Broadcasting with `prob` and `log_prob` methods"
      ]
    },
    {
      "cell_type": "markdown",
      "metadata": {
        "id": "NK3ZE8gdbL73"
      },
      "source": [
        "When using `prob` and  `log_prob` with broadcasting, we follow the same principles as before. Let's make a new batch of normals as before but with means which are centered at different locations to help distinguish the results we get."
      ]
    },
    {
      "cell_type": "markdown",
      "metadata": {
        "id": "umwvH5s2bL73"
      },
      "source": [
        "We can feed in samples of any shape as long as it can be broadcast agasint our batch shape for this example."
      ]
    },
    {
      "cell_type": "markdown",
      "metadata": {
        "id": "5A1wnzHWbL73"
      },
      "source": [
        "`log_prob` works in the exact same way with broadcasting. We can replace `prob` with `log_prob` in any of the previous examples:"
      ]
    },
    {
      "cell_type": "code",
      "metadata": {
        "id": "l_hgB282bL73",
        "colab": {
          "base_uri": "https://localhost:8080/"
        },
        "outputId": "9de960cb-85fc-4f43-a9f9-2246e3b46965"
      },
      "source": [
        "import tensorflow as tf\n",
        "tf.keras.utils.set_random_seed(seed=42)\n",
        "tf.get_logger().setLevel(\"ERROR\")\n",
        "import tensorflow_probability as tfp\n",
        "\n",
        "# Define a batch of Normal distributions with broadcasting\n",
        "locs = [[0], [10]]\n",
        "scales = [1, 1, 1]\n",
        "\n",
        "normals = tfp.distributions.Normal(loc=locs, scale=scales)\n",
        "print(\"Normal distributions:\", normals)\n",
        "# Use broadcasting along the second axis with the prob method\n",
        "samples = tf.random.uniform(shape=(2, 1))\n",
        "print(\"Samples shape:\", samples.shape)\n",
        "print(\"Prob shape:\", normals.prob(value=samples).shape)\n",
        "\n",
        "# Use broadcasting along the first axis with the prob method\n",
        "samples = tf.random.uniform(shape=(1, 3))\n",
        "print(\"Samples shape:\", samples.shape)\n",
        "print(\"Prob shape:\", normals.prob(value=samples).shape)\n",
        "\n",
        "# Use broadcasting along both axes with the prob method\n",
        "samples = tf.random.uniform(shape=(1, 1))\n",
        "print(\"Samples shape:\", samples.shape)\n",
        "print(\"Prob shape:\", normals.prob(value=samples).shape)\n",
        "\n",
        "# Use broadcasting along the first axis with the log_prob method\n",
        "samples = tf.random.uniform(shape=(1, 3))\n",
        "print(\"Samples shape:\", samples.shape)\n",
        "print(\"Log prob shape:\", normals.log_prob(value=samples).shape)"
      ],
      "execution_count": null,
      "outputs": [
        {
          "output_type": "stream",
          "name": "stdout",
          "text": [
            "Normal distributions: tfp.distributions.Normal(\"Normal\", batch_shape=[2, 3], event_shape=[], dtype=float32)\n",
            "Samples shape: (2, 1)\n",
            "Prob shape: (2, 3)\n",
            "Samples shape: (1, 3)\n",
            "Prob shape: (2, 3)\n",
            "Samples shape: (1, 1)\n",
            "Prob shape: (2, 3)\n",
            "Samples shape: (1, 3)\n",
            "Log prob shape: (2, 3)\n"
          ]
        }
      ]
    },
    {
      "cell_type": "markdown",
      "metadata": {
        "id": "6a5HhsiNbL74"
      },
      "source": [
        "## Broadcasting for multivariate TensorFlow distributions"
      ]
    },
    {
      "cell_type": "markdown",
      "metadata": {
        "id": "ccCXkHewbL74"
      },
      "source": [
        "Broadcasting behaviour for multivariate distributions is only a little more sophisticated than it is for univariate distributions.\n",
        "\n",
        "Recall that `MultivariateNormalDiag` has two parameter arguments: `loc` and `scale_diag`. When specifying a single distribution, these arguments are vectors of the same length:"
      ]
    },
    {
      "cell_type": "code",
      "metadata": {
        "id": "2dPbMbZNbL74",
        "colab": {
          "base_uri": "https://localhost:8080/"
        },
        "outputId": "97d7b197-8444-4cda-9043-889c5b2060f4"
      },
      "source": [
        "# Define a multivariate Gaussian distribution without broadcasting\n",
        "\n",
        "single_mvt_normal = tfd.MultivariateNormalDiag(\n",
        "    loc=[0., 0.], scale_diag=[1., 0.5])\n",
        "single_mvt_normal"
      ],
      "execution_count": null,
      "outputs": [
        {
          "output_type": "execute_result",
          "data": {
            "text/plain": [
              "<tfp.distributions.MultivariateNormalDiag 'MultivariateNormalDiag' batch_shape=[] event_shape=[2] dtype=float32>"
            ]
          },
          "metadata": {},
          "execution_count": 26
        }
      ]
    },
    {
      "cell_type": "code",
      "metadata": {
        "id": "BEZAhnHkbL74",
        "colab": {
          "base_uri": "https://localhost:8080/"
        },
        "outputId": "f6addac3-3f03-46ec-99a3-b7a3fb6442ea"
      },
      "source": [
        "# Print the loc parameter\n",
        "\n",
        "single_mvt_normal.loc"
      ],
      "execution_count": null,
      "outputs": [
        {
          "output_type": "execute_result",
          "data": {
            "text/plain": [
              "<tf.Tensor: shape=(2,), dtype=float32, numpy=array([0., 0.], dtype=float32)>"
            ]
          },
          "metadata": {},
          "execution_count": 27
        }
      ]
    },
    {
      "cell_type": "code",
      "metadata": {
        "id": "Oz9DrYxzbL74",
        "colab": {
          "base_uri": "https://localhost:8080/"
        },
        "outputId": "db521fd7-fb09-4b72-c3ca-7d35dae92ccc"
      },
      "source": [
        "# Print the covariance matrix - the diagonal is scale_diag^2\n",
        "\n",
        "single_mvt_normal.covariance()"
      ],
      "execution_count": null,
      "outputs": [
        {
          "output_type": "execute_result",
          "data": {
            "text/plain": [
              "<tf.Tensor: shape=(2, 2), dtype=float32, numpy=\n",
              "array([[1.  , 0.  ],\n",
              "       [0.  , 0.25]], dtype=float32)>"
            ]
          },
          "metadata": {},
          "execution_count": 28
        }
      ]
    },
    {
      "cell_type": "markdown",
      "metadata": {
        "id": "QKzkUDxXbL74"
      },
      "source": [
        "The size of the final axis of the inputs determines the event shape for each distribution in the batch.  This means that if we pass\n",
        "    \n",
        "    loc = [ [0., 0.],\n",
        "            [1., 1.] ]\n",
        "    scale_diag = [1., 0.5]\n",
        "    \n",
        "such that\n",
        "\n",
        "    loc:        2 x 2\n",
        "    scale_diag: 1 x 2\n",
        "                    ^ final dimension is interpreted as event dimension\n",
        "                ^ other dimensions are interpreted as batch dimensions  \n",
        "then a batch of two bivariate normal distributions will be created."
      ]
    },
    {
      "cell_type": "code",
      "metadata": {
        "id": "U7M1rdwZbL74"
      },
      "source": [
        "# Define a multivariate Gaussian distribution with broadcasting\n",
        "\n",
        "loc = [ [0., 0.],\n",
        "        [1., 1.] ]\n",
        "scale_diag = [1., 0.5]\n",
        "\n",
        "batch_of_mvt_normals = tfd.MultivariateNormalDiag(\n",
        "    loc=loc, scale_diag=scale_diag)"
      ],
      "execution_count": null,
      "outputs": []
    },
    {
      "cell_type": "code",
      "metadata": {
        "id": "r1zMLu6fbL74",
        "colab": {
          "base_uri": "https://localhost:8080/"
        },
        "outputId": "a37a2d0e-6c01-4bdb-9ba1-f9225716657a"
      },
      "source": [
        "# Print the distribution - note the event_shape and batch_shape\n",
        "\n",
        "batch_of_mvt_normals"
      ],
      "execution_count": null,
      "outputs": [
        {
          "output_type": "execute_result",
          "data": {
            "text/plain": [
              "<tfp.distributions.MultivariateNormalDiag 'MultivariateNormalDiag' batch_shape=[2] event_shape=[2] dtype=float32>"
            ]
          },
          "metadata": {},
          "execution_count": 30
        }
      ]
    },
    {
      "cell_type": "code",
      "metadata": {
        "id": "esqdoXFdbL75",
        "colab": {
          "base_uri": "https://localhost:8080/"
        },
        "outputId": "0b44738f-81ad-45ec-9720-309e3285d718"
      },
      "source": [
        "# Print the distribution parameters\n",
        "# There is a batch of two distributions with different means and same covariance\n",
        "\n",
        "batch_of_mvt_normals.parameters"
      ],
      "execution_count": null,
      "outputs": [
        {
          "output_type": "execute_result",
          "data": {
            "text/plain": [
              "{'allow_nan_stats': True,\n",
              " 'experimental_use_kahan_sum': False,\n",
              " 'loc': ListWrapper([ListWrapper([0.0, 0.0]), ListWrapper([1.0, 1.0])]),\n",
              " 'name': 'MultivariateNormalDiag',\n",
              " 'scale_diag': ListWrapper([1.0, 0.5]),\n",
              " 'scale_identity_multiplier': None,\n",
              " 'validate_args': False}"
            ]
          },
          "metadata": {},
          "execution_count": 31
        }
      ]
    },
    {
      "cell_type": "markdown",
      "metadata": {
        "id": "I24W8kwSbL75"
      },
      "source": [
        "Knowing that, for multivariate distributions, TensorFlow\n",
        "\n",
        "- interprets the final axis of an array of parameters as the event shape,\n",
        "\n",
        "\n",
        "- and broadcasts over the remaining axes,  \n",
        "\n",
        "can you predict what the batch and event shapes will if we pass the arguments\n",
        "\n",
        "\n",
        "    loc = [ [ 1.,  1.,  1.],\n",
        "            [-1., -1., -1.] ] # shape (2, 3)\n",
        "    scale_diag = [ [[0.1, 0.1, 0.1]],\n",
        "                   [[10., 10., 10.]] ] # shape (2, 1, 3)\n",
        "                   \n",
        "to `MultivariateNormalDiag`?"
      ]
    },
    {
      "cell_type": "markdown",
      "metadata": {
        "id": "wnpWwQG1bL75"
      },
      "source": [
        "Solution:\n",
        "\n",
        "Align the parameter array shapes on their last axis, prepending 1s where necessary:  \n",
        "    \n",
        "           loc: 1 x 2 x 3  \n",
        "    scale_diag: 2 x 1 x 3  \n",
        "\n",
        "The final axis has size 3, so `event_shape = (3)`. The remaining axes are broadcast over to yield  \n",
        "    \n",
        "           loc: 2 x 2 x 3  \n",
        "    scale_diag: 2 x 2 x 3  \n",
        "\n",
        "so `batch_shape = (2, 2)`.\n",
        "\n",
        "Let's see if this is correct!"
      ]
    },
    {
      "cell_type": "code",
      "metadata": {
        "id": "yJw2fJRwbL75"
      },
      "source": [
        "# Define a multivariate Gaussian distribution with broadcasting\n",
        "\n",
        "loc = [ [ 1.,  1.,  1.],\n",
        "        [-1., -1., -1.] ]  # shape (2, 3)\n",
        "scale_diag = [ [[0.1, 0.1, 0.1]],\n",
        "               [[10., 10., 10.]] ]  # shape (2, 1, 3)\n",
        "\n",
        "another_batch_of_mvt_normals = tfd.MultivariateNormalDiag(\n",
        "    loc=loc, scale_diag=scale_diag)"
      ],
      "execution_count": null,
      "outputs": []
    },
    {
      "cell_type": "code",
      "metadata": {
        "id": "xatdV6SJbL75",
        "colab": {
          "base_uri": "https://localhost:8080/"
        },
        "outputId": "7a3b745d-a9db-4bcc-f74f-22e8465bc878"
      },
      "source": [
        "# Print the distribution and note batch and event shapes - bingo!\n",
        "\n",
        "another_batch_of_mvt_normals"
      ],
      "execution_count": null,
      "outputs": [
        {
          "output_type": "execute_result",
          "data": {
            "text/plain": [
              "<tfp.distributions.MultivariateNormalDiag 'MultivariateNormalDiag' batch_shape=[2, 2] event_shape=[3] dtype=float32>"
            ]
          },
          "metadata": {},
          "execution_count": 33
        }
      ]
    },
    {
      "cell_type": "code",
      "metadata": {
        "id": "zLgIGy1lbL75",
        "colab": {
          "base_uri": "https://localhost:8080/"
        },
        "outputId": "3d64f8fa-c300-4634-9fd6-817cce6d0ed9"
      },
      "source": [
        "# Print the distribution parameters\n",
        "\n",
        "another_batch_of_mvt_normals.parameters"
      ],
      "execution_count": null,
      "outputs": [
        {
          "output_type": "execute_result",
          "data": {
            "text/plain": [
              "{'allow_nan_stats': True,\n",
              " 'experimental_use_kahan_sum': False,\n",
              " 'loc': ListWrapper([ListWrapper([1.0, 1.0, 1.0]), ListWrapper([-1.0, -1.0, -1.0])]),\n",
              " 'name': 'MultivariateNormalDiag',\n",
              " 'scale_diag': ListWrapper([ListWrapper([ListWrapper([0.1, 0.1, 0.1])]), ListWrapper([ListWrapper([10.0, 10.0, 10.0])])]),\n",
              " 'scale_identity_multiplier': None,\n",
              " 'validate_args': False}"
            ]
          },
          "metadata": {},
          "execution_count": 34
        }
      ]
    },
    {
      "cell_type": "markdown",
      "metadata": {
        "id": "KJ0twEgVbL75"
      },
      "source": [
        "As we did before lets also look at broadcasting when we have batches of multivariate distributions."
      ]
    },
    {
      "cell_type": "code",
      "metadata": {
        "id": "jXsT_WcbbL75",
        "colab": {
          "base_uri": "https://localhost:8080/"
        },
        "outputId": "35279d24-ff5f-486d-a02d-4b44bfbdeba6"
      },
      "source": [
        "# Define a batch of Normal distributions with broadcasting\n",
        "\n",
        "loc = [[0.],\n",
        "       [1.],\n",
        "       [0.]]\n",
        "scale = [1., 10., 100., 1., 10, 100.]\n",
        "\n",
        "another_batch_of_normals = tfd.Normal(loc=loc, scale=scale)\n",
        "another_batch_of_normals"
      ],
      "execution_count": null,
      "outputs": [
        {
          "output_type": "execute_result",
          "data": {
            "text/plain": [
              "<tfp.distributions.Normal 'Normal' batch_shape=[3, 6] event_shape=[] dtype=float32>"
            ]
          },
          "metadata": {},
          "execution_count": 35
        }
      ]
    },
    {
      "cell_type": "markdown",
      "metadata": {
        "id": "rNdxO4wBbL75"
      },
      "source": [
        "And to refresh our memory of `Independent` we'll use it below to roll the rightmost batch shape into the event shape."
      ]
    },
    {
      "cell_type": "code",
      "metadata": {
        "id": "ybTmNlDLbL75",
        "colab": {
          "base_uri": "https://localhost:8080/"
        },
        "outputId": "050f417a-9965-401c-9ec1-ef3085b504da"
      },
      "source": [
        "# Create a multivariate Independent distribution\n",
        "\n",
        "another_batch_of_mvt_normals = tfd.Independent(another_batch_of_normals)\n",
        "another_batch_of_mvt_normals"
      ],
      "execution_count": null,
      "outputs": [
        {
          "output_type": "stream",
          "name": "stdout",
          "text": [
            "WARNING:tensorflow:From /usr/local/lib/python3.7/dist-packages/tensorflow_probability/python/distributions/distribution.py:342: calling _Independent.__init__ (from tensorflow_probability.python.distributions.independent) with reinterpreted_batch_ndims=None is deprecated and will be removed after 2022-03-01.\n",
            "Instructions for updating:\n",
            "Please pass an integer value for `reinterpreted_batch_ndims`. The current behavior corresponds to `reinterpreted_batch_ndims=tf.size(distribution.batch_shape_tensor()) - 1`.\n"
          ]
        },
        {
          "output_type": "execute_result",
          "data": {
            "text/plain": [
              "<tfp.distributions.Independent 'IndependentNormal' batch_shape=[3] event_shape=[6] dtype=float32>"
            ]
          },
          "metadata": {},
          "execution_count": 36
        }
      ]
    },
    {
      "cell_type": "markdown",
      "metadata": {
        "id": "QLz5HiLgbL75"
      },
      "source": [
        "Now, onto the broadcasting:"
      ]
    },
    {
      "cell_type": "code",
      "metadata": {
        "id": "O-sJjKYrbL75",
        "colab": {
          "base_uri": "https://localhost:8080/"
        },
        "outputId": "72a1461e-2a77-4b40-ed44-d05037fd4870"
      },
      "source": [
        "# Use broadcasting with the prob method\n",
        "# B shaped input (broadcast over event)\n",
        "\n",
        "sample = tf.random.uniform((3, 1))\n",
        "print(sample.shape)\n",
        "another_batch_of_mvt_normals.prob(sample)"
      ],
      "execution_count": null,
      "outputs": [
        {
          "output_type": "stream",
          "name": "stdout",
          "text": [
            "(3, 1)\n"
          ]
        },
        {
          "output_type": "execute_result",
          "data": {
            "text/plain": [
              "<tf.Tensor: shape=(3,), dtype=float32, numpy=array([3.3172243e-09, 3.8893173e-09, 4.0102601e-09], dtype=float32)>"
            ]
          },
          "metadata": {},
          "execution_count": 37
        }
      ]
    },
    {
      "cell_type": "code",
      "metadata": {
        "id": "BIimQR9GbL75",
        "colab": {
          "base_uri": "https://localhost:8080/"
        },
        "outputId": "4097c31e-791a-4d89-eaa3-8b180f8f5ae4"
      },
      "source": [
        "# Use broadcasting with the prob method\n",
        "# E shaped input (broadcast over batch)\n",
        "\n",
        "sample = tf.random.uniform((1, 6))\n",
        "print(sample.shape)\n",
        "another_batch_of_mvt_normals.prob(sample)"
      ],
      "execution_count": null,
      "outputs": [
        {
          "output_type": "stream",
          "name": "stdout",
          "text": [
            "(1, 6)\n"
          ]
        },
        {
          "output_type": "execute_result",
          "data": {
            "text/plain": [
              "<tf.Tensor: shape=(3,), dtype=float32, numpy=array([3.4671173e-09, 2.7088185e-09, 3.4671173e-09], dtype=float32)>"
            ]
          },
          "metadata": {},
          "execution_count": 38
        }
      ]
    },
    {
      "cell_type": "code",
      "metadata": {
        "id": "u76cdXxCbL75",
        "colab": {
          "base_uri": "https://localhost:8080/"
        },
        "outputId": "ba542d5b-338a-4a5b-affb-69af7d6e4a81"
      },
      "source": [
        "# Use broadcasting with the prob method\n",
        "# [S,B,E] shaped input (broadcast over samples)\n",
        "\n",
        "sample = tf.random.uniform((2, 3, 6))\n",
        "print(sample.shape)\n",
        "another_batch_of_mvt_normals.prob(sample)"
      ],
      "execution_count": null,
      "outputs": [
        {
          "output_type": "stream",
          "name": "stdout",
          "text": [
            "(2, 3, 6)\n"
          ]
        },
        {
          "output_type": "execute_result",
          "data": {
            "text/plain": [
              "<tf.Tensor: shape=(2, 3), dtype=float32, numpy=\n",
              "array([[3.1960448e-09, 3.0272245e-09, 3.5608652e-09],\n",
              "       [2.8983826e-09, 3.3423679e-09, 2.3424143e-09]], dtype=float32)>"
            ]
          },
          "metadata": {},
          "execution_count": 39
        }
      ]
    },
    {
      "cell_type": "code",
      "metadata": {
        "id": "q1YY9b1bbL75",
        "colab": {
          "base_uri": "https://localhost:8080/"
        },
        "outputId": "0379ddf3-740e-4968-b802-20cee5997fd7"
      },
      "source": [
        "# [S,b,e] shaped input where [b,e] can be broadcast agaisnt [B,E]\n",
        "sample = tf.random.uniform((2, 1, 6))\n",
        "print(sample.shape)\n",
        "another_batch_of_mvt_normals.prob(sample)"
      ],
      "execution_count": null,
      "outputs": [
        {
          "output_type": "stream",
          "name": "stdout",
          "text": [
            "(2, 1, 6)\n"
          ]
        },
        {
          "output_type": "execute_result",
          "data": {
            "text/plain": [
              "<tf.Tensor: shape=(2, 3), dtype=float32, numpy=\n",
              "array([[2.7085552e-09, 2.8052627e-09, 2.7085552e-09],\n",
              "       [3.3958252e-09, 2.8343161e-09, 3.3958252e-09]], dtype=float32)>"
            ]
          },
          "metadata": {},
          "execution_count": 40
        }
      ]
    },
    {
      "cell_type": "markdown",
      "metadata": {
        "id": "7_qlpdbzbL75"
      },
      "source": [
        "As a final example with `log_prob` instead of `prob`"
      ]
    },
    {
      "cell_type": "code",
      "metadata": {
        "id": "Dj9aSadibL75",
        "colab": {
          "base_uri": "https://localhost:8080/"
        },
        "outputId": "3e32698e-30c2-4ff0-af0e-43917e848566"
      },
      "source": [
        "# Use broadcasting with the log_prob method\n",
        "# [S,b,e] shaped input where [b,e] can be broadcast agaisnt [B,E]\n",
        "\n",
        "sample = tf.random.uniform((2, 3, 1))\n",
        "print(sample.shape)\n",
        "another_batch_of_mvt_normals.log_prob(sample)"
      ],
      "execution_count": null,
      "outputs": [
        {
          "output_type": "stream",
          "name": "stdout",
          "text": [
            "(2, 3, 1)\n"
          ]
        },
        {
          "output_type": "execute_result",
          "data": {
            "text/plain": [
              "<tf.Tensor: shape=(2, 3), dtype=float32, numpy=\n",
              "array([[-19.331501, -19.396187, -19.390804],\n",
              "       [-19.535685, -19.801262, -19.495478]], dtype=float32)>"
            ]
          },
          "metadata": {},
          "execution_count": 41
        }
      ]
    },
    {
      "cell_type": "markdown",
      "metadata": {
        "id": "czZnGzvhbL75"
      },
      "source": [
        "You should now feel confident specifying batches of distributions using broadcasting. As you may have already guessed, broadcasting is especially useful when specifying grids of hyperparameters.\n",
        "\n",
        "If you don't feel entirely comfortable with broadcasting quite yet, don't worry: re-read this notebook, go through the further reading provided below, and experiment with broadcasting in both numpy and TensorFlow, and you'll be broadcasting in no time."
      ]
    },
    {
      "cell_type": "markdown",
      "metadata": {
        "id": "JSKqZbtUbL75"
      },
      "source": [
        "### Further reading and resources\n",
        "* Numpy documentation on broadcasting: https://numpy.org/devdocs/user/theory.broadcasting.html\n",
        "* https://www.tensorflow.org/xla/broadcasting"
      ]
    }
  ]
}