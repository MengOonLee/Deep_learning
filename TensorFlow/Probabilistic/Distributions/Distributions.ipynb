{
  "cells": [
    {
      "cell_type": "markdown",
      "metadata": {
        "id": "view-in-github",
        "colab_type": "text"
      },
      "source": [
        "<a href=\"https://colab.research.google.com/github/MengOonLee/Deep_learning/blob/master/TensorFlow/Probabilistic/Distributions/Distributions.ipynb\" target=\"_parent\"><img src=\"https://colab.research.google.com/assets/colab-badge.svg\" alt=\"Open In Colab\"/></a>"
      ]
    },
    {
      "cell_type": "code",
      "execution_count": null,
      "metadata": {
        "id": "yU0Om4EoEOlO",
        "outputId": "3bc58fa6-480d-4074-93d9-49da3a502c05",
        "colab": {
          "base_uri": "https://localhost:8080/"
        }
      },
      "outputs": [
        {
          "output_type": "stream",
          "name": "stdout",
          "text": [
            "TF version: 2.18.0\n",
            "TFP version: 0.25.0\n"
          ]
        }
      ],
      "source": [
        "import tensorflow as tf\n",
        "import tensorflow_probability as tfp\n",
        "\n",
        "print(\"TF version:\", tf.__version__)\n",
        "print(\"TFP version:\", tfp.__version__)"
      ]
    },
    {
      "cell_type": "code",
      "execution_count": null,
      "metadata": {
        "id": "Ub_z8VehEOlP"
      },
      "outputs": [],
      "source": [
        "# Additional imports and setting fixed random seed to have reproducibility\n",
        "\n",
        "import matplotlib.pyplot as plt\n",
        "import numpy as np\n",
        "tf.keras.utils.set_random_seed(seed=42)"
      ]
    },
    {
      "cell_type": "markdown",
      "metadata": {
        "id": "Fvoij2fLEOlQ"
      },
      "source": [
        "# Tensorflow Distributions"
      ]
    },
    {
      "cell_type": "markdown",
      "metadata": {
        "id": "e-3yMMUwEOlR"
      },
      "source": [
        "## Coding Tutorials\n",
        "#### 1. [Univariate Distributions](#univariate_distributions)\n",
        "#### 2. [Multivariate Distributions](#multivariate_distributions)\n",
        "#### 3. [The Independent Distribution](#the_independent_distribution)\n",
        "#### 4. [Sampling and log probs](#sampling_and_log_probs)\n",
        "#### 5. [Trainable Distributions](#trainable_distributions)"
      ]
    },
    {
      "cell_type": "markdown",
      "metadata": {
        "id": "cxFLP_hoEOlR"
      },
      "source": [
        "***\n",
        "## Univariate distributions\n",
        "<a id='univariate_distributions'></a>"
      ]
    },
    {
      "cell_type": "code",
      "execution_count": null,
      "metadata": {
        "id": "TSBv69iUEOlS",
        "outputId": "c4b5b00b-9262-4692-a3f3-a2ebc92fe084",
        "colab": {
          "base_uri": "https://localhost:8080/"
        }
      },
      "outputs": [
        {
          "output_type": "stream",
          "name": "stdout",
          "text": [
            "tfp.distributions.Normal(\"Normal\", batch_shape=[], event_shape=[], dtype=float32)\n",
            "tf.Tensor([ 0.3274685 -0.8426258  0.3194337], shape=(3,), dtype=float32)\n",
            "tf.Tensor(0.35206532, shape=(), dtype=float32)\n",
            "tf.Tensor(-1.0439385, shape=(), dtype=float32)\n"
          ]
        }
      ],
      "source": [
        "import tensorflow as tf\n",
        "import tensorflow_probability as tfp\n",
        "tf.keras.utils.set_random_seed(seed=42)\n",
        "\n",
        "normal = tfp.distributions.Normal(loc=0., scale=1.)\n",
        "print(normal)\n",
        "\n",
        "print(normal.sample(sample_shape=3))\n",
        "print(normal.prob(value=0.5))\n",
        "print(normal.log_prob(value=0.5))"
      ]
    },
    {
      "cell_type": "code",
      "execution_count": null,
      "metadata": {
        "id": "Kh5CMbY7EOlT",
        "outputId": "49b2746b-550b-494e-a172-ff7d2d370bdd",
        "colab": {
          "base_uri": "https://localhost:8080/"
        }
      },
      "outputs": [
        {
          "output_type": "stream",
          "name": "stdout",
          "text": [
            "tfp.distributions.Bernoulli(\"Bernoulli\", batch_shape=[], event_shape=[], dtype=int32)\n",
            "tf.Tensor([1 1 0], shape=(3,), dtype=int32)\n",
            "tf.Tensor(0.7, shape=(), dtype=float32)\n",
            "tf.Tensor(-0.35667497, shape=(), dtype=float32)\n",
            "tfp.distributions.Bernoulli(\"Bernoulli\", batch_shape=[2], event_shape=[], dtype=int32)\n",
            "(2,)\n",
            "tf.Tensor(\n",
            "[[1 1]\n",
            " [0 1]\n",
            " [1 0]], shape=(3, 2), dtype=int32)\n",
            "tf.Tensor([0.4 0.5], shape=(2,), dtype=float32)\n"
          ]
        }
      ],
      "source": [
        "import tensorflow as tf\n",
        "import tensorflow_probability as tfp\n",
        "tf.keras.utils.set_random_seed(seed=42)\n",
        "\n",
        "bernoulli = tfp.distributions.Bernoulli(probs=0.7)\n",
        "print(bernoulli)\n",
        "\n",
        "bernouli = tfp.distributions.Bernoulli(logits=0.847)\n",
        "print(bernoulli.sample(sample_shape=3))\n",
        "print(bernoulli.prob(value=1))\n",
        "print(bernoulli.log_prob(value=1))\n",
        "\n",
        "batched_bernoulli = tfp.distributions.Bernoulli(probs=[0.4, 0.5])\n",
        "print(batched_bernoulli)\n",
        "print(batched_bernoulli.batch_shape)\n",
        "print(batched_bernoulli.sample(sample_shape=3))\n",
        "print(batched_bernoulli.prob(value=[1, 1]))"
      ]
    },
    {
      "cell_type": "code",
      "execution_count": 1,
      "metadata": {
        "id": "F-BVvrPHEOlT",
        "outputId": "dc0209af-6e69-4663-f56e-1ae1a9157acf",
        "colab": {
          "base_uri": "https://localhost:8080/"
        }
      },
      "outputs": [
        {
          "output_type": "execute_result",
          "data": {
            "text/plain": [
              "<tfp.distributions.Normal 'Normal' batch_shape=[] event_shape=[] dtype=float32>"
            ]
          },
          "metadata": {},
          "execution_count": 1
        }
      ],
      "source": [
        "# Create a normal distribution from Tensorflow Distributions\n",
        "import tensorflow as tf\n",
        "import tensorflow_probability as tfp\n",
        "tf.keras.utils.set_random_seed(seed=42)\n",
        "\n",
        "normal = tfp.distributions.Normal(loc=0, scale=1)\n",
        "normal"
      ]
    },
    {
      "cell_type": "code",
      "execution_count": 2,
      "metadata": {
        "id": "D23R2jT-EOlU",
        "outputId": "b2d02973-4bd6-4cc3-cebb-0f168b6a87d0",
        "colab": {
          "base_uri": "https://localhost:8080/"
        }
      },
      "outputs": [
        {
          "output_type": "execute_result",
          "data": {
            "text/plain": [
              "<tf.Tensor: shape=(), dtype=float32, numpy=0.32746851444244385>"
            ]
          },
          "metadata": {},
          "execution_count": 2
        }
      ],
      "source": [
        "# Sample from the chosen distribution...\n",
        "\n",
        "normal.sample()"
      ]
    },
    {
      "cell_type": "code",
      "execution_count": 3,
      "metadata": {
        "id": "DOELj5RJEOlV",
        "outputId": "a0b56721-7d73-46a5-cb38-11b71d597a86",
        "colab": {
          "base_uri": "https://localhost:8080/"
        }
      },
      "outputs": [
        {
          "output_type": "execute_result",
          "data": {
            "text/plain": [
              "<tf.Tensor: shape=(10,), dtype=float32, numpy=\n",
              "array([ 8.4224582e-02, -8.6090374e-01,  3.7812304e-01, -5.1962738e-03,\n",
              "       -4.9453196e-01,  6.1781919e-01, -3.3082047e-01, -1.3840806e-03,\n",
              "       -4.2373410e-01, -1.3872087e+00], dtype=float32)>"
            ]
          },
          "metadata": {},
          "execution_count": 3
        }
      ],
      "source": [
        "# ... or sample multiple times\n",
        "\n",
        "normal.sample(sample_shape=10)"
      ]
    },
    {
      "cell_type": "code",
      "execution_count": 4,
      "metadata": {
        "id": "KAR8itWfEOlV",
        "outputId": "4e959213-63ea-4026-ee24-45b1cc2c3621",
        "colab": {
          "base_uri": "https://localhost:8080/"
        }
      },
      "outputs": [
        {
          "output_type": "execute_result",
          "data": {
            "text/plain": [
              "<tf.Tensor: shape=(), dtype=float32, numpy=0.3989422917366028>"
            ]
          },
          "metadata": {},
          "execution_count": 4
        }
      ],
      "source": [
        "# Obtain value of probability's density\n",
        "\n",
        "normal.prob(value=0)"
      ]
    },
    {
      "cell_type": "code",
      "execution_count": 5,
      "metadata": {
        "id": "03vUIvvMEOlW",
        "outputId": "1ae53d6d-81c2-4dab-9a7b-3da4a4d43b8c",
        "colab": {
          "base_uri": "https://localhost:8080/"
        }
      },
      "outputs": [
        {
          "output_type": "execute_result",
          "data": {
            "text/plain": [
              "<tf.Tensor: shape=(), dtype=float32, numpy=-0.9189385175704956>"
            ]
          },
          "metadata": {},
          "execution_count": 5
        }
      ],
      "source": [
        "# Obtain value of logprobability\n",
        "\n",
        "normal.log_prob(value=0)"
      ]
    },
    {
      "cell_type": "code",
      "execution_count": 6,
      "metadata": {
        "id": "yxIvFTySEOlW",
        "outputId": "ecc4c36b-f5cc-4ad5-cad0-5893dd6d4278",
        "colab": {
          "base_uri": "https://localhost:8080/"
        }
      },
      "outputs": [
        {
          "output_type": "execute_result",
          "data": {
            "text/plain": [
              "np.float32(-0.9189385)"
            ]
          },
          "metadata": {},
          "execution_count": 6
        }
      ],
      "source": [
        "# Verify that this really is the log of the probability\n",
        "import numpy as np\n",
        "\n",
        "np.log(normal.prob(value=0))"
      ]
    },
    {
      "cell_type": "code",
      "execution_count": 7,
      "metadata": {
        "id": "L_mQQIghEOlX",
        "outputId": "280a897a-9dd1-4819-a5f8-5d013d51f404",
        "colab": {
          "base_uri": "https://localhost:8080/",
          "height": 291
        }
      },
      "outputs": [
        {
          "output_type": "display_data",
          "data": {
            "text/plain": [
              "<Figure size 900x300 with 1 Axes>"
            ],
            "image/png": "[encoded data removed]"
          },
          "metadata": {}
        }
      ],
      "source": [
        "# Plot a histogram, approximating the density\n",
        "import matplotlib.pyplot as plt\n",
        "\n",
        "plt.figure(figsize=(9, 3))\n",
        "plt.hist(x=normal.sample(sample_shape=10000), bins=50, density=True)\n",
        "plt.show()"
      ]
    },
    {
      "cell_type": "code",
      "execution_count": 8,
      "metadata": {
        "id": "P674p8-cEOlX",
        "outputId": "86362c06-92cb-4157-c3a5-0b2a16e66519",
        "colab": {
          "base_uri": "https://localhost:8080/",
          "height": 291
        }
      },
      "outputs": [
        {
          "output_type": "display_data",
          "data": {
            "text/plain": [
              "<Figure size 900x300 with 1 Axes>"
            ],
            "image/png": "[encoded data removed]"
          },
          "metadata": {}
        }
      ],
      "source": [
        "# Do the same for the exponential distribution\n",
        "import tensorflow as tf\n",
        "import tensorflow_probability as tfp\n",
        "import matplotlib.pyplot as plt\n",
        "tf.keras.utils.set_random_seed(seed=42)\n",
        "\n",
        "exponential = tfp.distributions.Exponential(rate=1)\n",
        "plt.figure(figsize=(9, 3))\n",
        "plt.hist(x=exponential.sample(sample_shape=10000), bins=50, density=True)\n",
        "plt.show()"
      ]
    },
    {
      "cell_type": "code",
      "execution_count": 9,
      "metadata": {
        "id": "wG8dGJVuEOlY",
        "outputId": "ae18518d-b17e-496a-bb2d-88ad45f2b4c2",
        "colab": {
          "base_uri": "https://localhost:8080/"
        }
      },
      "outputs": [
        {
          "output_type": "execute_result",
          "data": {
            "text/plain": [
              "<tf.Tensor: shape=(10,), dtype=float32, numpy=\n",
              "array([2.1462562 , 1.3011539 , 0.04947   , 0.6993898 , 1.082343  ,\n",
              "       0.62250125, 0.7877366 , 0.94240695, 0.03540716, 0.0604223 ],\n",
              "      dtype=float32)>"
            ]
          },
          "metadata": {},
          "execution_count": 9
        }
      ],
      "source": [
        "# Sample as before\n",
        "\n",
        "exponential.sample(sample_shape=10)"
      ]
    },
    {
      "cell_type": "code",
      "execution_count": 10,
      "metadata": {
        "id": "0WQKMB-cEOlY",
        "outputId": "e2751c82-001c-4e6d-85ec-8160ce18e478",
        "colab": {
          "base_uri": "https://localhost:8080/"
        }
      },
      "outputs": [
        {
          "output_type": "execute_result",
          "data": {
            "text/plain": [
              "<tf.Tensor: shape=(20,), dtype=int32, numpy=\n",
              "array([1, 1, 0, 0, 1, 1, 1, 0, 1, 1, 1, 1, 1, 1, 1, 1, 1, 0, 0, 1],\n",
              "      dtype=int32)>"
            ]
          },
          "metadata": {},
          "execution_count": 10
        }
      ],
      "source": [
        "# Create a Bernoulli distribution (discrete)\n",
        "import tensorflow as tf\n",
        "import tensorflow_probability as tfp\n",
        "tf.keras.utils.set_random_seed(seed=42)\n",
        "\n",
        "bernoulli = tfp.distributions.Bernoulli(probs=0.8)\n",
        "bernoulli.sample(sample_shape=20)"
      ]
    },
    {
      "cell_type": "markdown",
      "metadata": {
        "id": "jhKpeWgjEOlY"
      },
      "source": [
        "#### A word of caution on discrete distributions"
      ]
    },
    {
      "cell_type": "code",
      "execution_count": 12,
      "metadata": {
        "id": "dSZMPzvpEOlZ",
        "outputId": "bd31cdb7-7202-4d97-85f3-5ebfff0555c8",
        "colab": {
          "base_uri": "https://localhost:8080/"
        }
      },
      "outputs": [
        {
          "output_type": "stream",
          "name": "stdout",
          "text": [
            "prob result 0.20 for k = 0.0\n",
            "prob result 0.40 for k = 0.5\n",
            "prob result 0.80 for k = 1.0\n",
            "prob result 0.05 for k = -1.0\n"
          ]
        }
      ],
      "source": [
        "# Calculate Bernoulli prob and see that 0.5 and -1 do not give the correct probability!\n",
        "\n",
        "for k in [0, 0.5, 1, -1]:\n",
        "    print('prob result %.2f for k = %.1f'%(bernoulli.prob(value=k), k))"
      ]
    },
    {
      "cell_type": "code",
      "execution_count": 13,
      "metadata": {
        "id": "h65WvHLlEOlZ"
      },
      "outputs": [],
      "source": [
        "# Replicate the scores to see what is occurring under the hood\n",
        "import numpy as np\n",
        "\n",
        "def my_bernoulli(p_success, k):\n",
        "    return np.power(p_success, k)*np.power((1-p_success), (1-k))"
      ]
    },
    {
      "cell_type": "code",
      "execution_count": 14,
      "metadata": {
        "id": "-ENj6RV7EOlZ",
        "outputId": "3a380bbc-9e46-417a-a8bd-7ab83c857d8a",
        "colab": {
          "base_uri": "https://localhost:8080/"
        }
      },
      "outputs": [
        {
          "output_type": "stream",
          "name": "stdout",
          "text": [
            "prob result 0.20 for k = 0.0\n",
            "prob result 0.40 for k = 0.5\n",
            "prob result 0.80 for k = 1.0\n",
            "prob result 0.05 for k = -1.0\n"
          ]
        }
      ],
      "source": [
        "# Evaluate it as before\n",
        "\n",
        "for k in [0, 0.5, 1, -1]:\n",
        "    print('prob result %.2f for k = %.1f'%(\n",
        "        my_bernoulli(p_success=0.8, k=k), k))"
      ]
    },
    {
      "cell_type": "markdown",
      "metadata": {
        "id": "uepFnyPqEOlZ"
      },
      "source": [
        "#### Work with batch distributions"
      ]
    },
    {
      "cell_type": "code",
      "execution_count": 15,
      "metadata": {
        "id": "B0jxeySaEOlZ",
        "outputId": "65ac0485-eaf9-46ae-8086-ef3da4b49bab",
        "colab": {
          "base_uri": "https://localhost:8080/"
        }
      },
      "outputs": [
        {
          "output_type": "execute_result",
          "data": {
            "text/plain": [
              "<tfp.distributions.Bernoulli 'Bernoulli' batch_shape=[5] event_shape=[] dtype=int32>"
            ]
          },
          "metadata": {},
          "execution_count": 15
        }
      ],
      "source": [
        "# Create a batched Bernoulli distribution\n",
        "import tensorflow as tf\n",
        "import tensorflow_probability as tfp\n",
        "tf.keras.utils.set_random_seed(seed=42)\n",
        "\n",
        "bernoulli_batch = tfp.distributions.Bernoulli(\n",
        "    probs=[0.1, 0.25, 0.5, 0.75, 0.9])\n",
        "bernoulli_batch"
      ]
    },
    {
      "cell_type": "code",
      "execution_count": 16,
      "metadata": {
        "id": "kCMBzYQiEOla",
        "outputId": "16f63ca3-ca8b-4ce4-a1a1-55a0c67dd493",
        "colab": {
          "base_uri": "https://localhost:8080/"
        }
      },
      "outputs": [
        {
          "output_type": "execute_result",
          "data": {
            "text/plain": [
              "<tf.Tensor: shape=(4, 5), dtype=int32, numpy=\n",
              "array([[1, 1, 0, 0, 1],\n",
              "       [0, 0, 0, 1, 1],\n",
              "       [0, 0, 1, 1, 1],\n",
              "       [0, 0, 0, 0, 1]], dtype=int32)>"
            ]
          },
          "metadata": {},
          "execution_count": 16
        }
      ],
      "source": [
        "# Sample from it, noting the shape\n",
        "\n",
        "bernoulli_batch.sample(sample_shape=4)"
      ]
    },
    {
      "cell_type": "code",
      "execution_count": 17,
      "metadata": {
        "id": "JoKlmrHhEOla",
        "outputId": "87476e1c-c5ec-4e0b-b5c2-21f41b971a7f",
        "colab": {
          "base_uri": "https://localhost:8080/"
        }
      },
      "outputs": [
        {
          "output_type": "execute_result",
          "data": {
            "text/plain": [
              "<tfp.distributions.Bernoulli 'Bernoulli' batch_shape=[1, 3, 2] event_shape=[] dtype=int32>"
            ]
          },
          "metadata": {},
          "execution_count": 17
        }
      ],
      "source": [
        "# Use a batch shape with higher rank\n",
        "import tensorflow as tf\n",
        "import tensorflow_probability as tfp\n",
        "tf.keras.utils.set_random_seed(seed=42)\n",
        "\n",
        "probs = [[[0.5, 0.5], [0.8, 0.2], [0.25, 0.75]]]\n",
        "bernoulli_batch_2D = tfp.distributions.Bernoulli(probs=probs)\n",
        "bernoulli_batch_2D"
      ]
    },
    {
      "cell_type": "code",
      "execution_count": 18,
      "metadata": {
        "id": "-tDLbAGCEOla",
        "outputId": "d52dba58-8700-4332-c80a-5c70bcb332f5",
        "colab": {
          "base_uri": "https://localhost:8080/"
        }
      },
      "outputs": [
        {
          "output_type": "execute_result",
          "data": {
            "text/plain": [
              "<tf.Tensor: shape=(2, 1, 3, 2), dtype=int32, numpy=\n",
              "array([[[[1, 1],\n",
              "         [0, 0],\n",
              "         [0, 1]]],\n",
              "\n",
              "\n",
              "       [[[0, 0],\n",
              "         [1, 0],\n",
              "         [0, 1]]]], dtype=int32)>"
            ]
          },
          "metadata": {},
          "execution_count": 18
        }
      ],
      "source": [
        "# Sample from this batch of distributions\n",
        "\n",
        "bernoulli_batch_2D.sample(sample_shape=2)"
      ]
    },
    {
      "cell_type": "code",
      "execution_count": 19,
      "metadata": {
        "id": "tfhCqN0FEOlb",
        "outputId": "e1277df9-b1e0-41ab-e46a-862d25b6c308",
        "colab": {
          "base_uri": "https://localhost:8080/"
        }
      },
      "outputs": [
        {
          "output_type": "execute_result",
          "data": {
            "text/plain": [
              "<tf.Tensor: shape=(1, 3, 2), dtype=float32, numpy=\n",
              "array([[[0.5       , 0.5       ],\n",
              "        [0.19999999, 0.8       ],\n",
              "        [0.25      , 0.75      ]]], dtype=float32)>"
            ]
          },
          "metadata": {},
          "execution_count": 19
        }
      ],
      "source": [
        "# Determine probabilities from this batch distribution\n",
        "\n",
        "bernoulli_batch_2D.prob(\n",
        "    value=[[[1, 0], [0, 0], [1, 1]]])"
      ]
    },
    {
      "cell_type": "markdown",
      "metadata": {
        "id": "dwMu5ppVEOlb"
      },
      "source": [
        "***\n",
        "<a id='multivariate_distributions'></a>\n",
        "## Multivariate Distributions\n"
      ]
    },
    {
      "cell_type": "code",
      "execution_count": 20,
      "metadata": {
        "id": "evW1J-4hEOlb",
        "outputId": "5b83e272-63b5-41ba-dfd1-ab43191054f7",
        "colab": {
          "base_uri": "https://localhost:8080/"
        }
      },
      "outputs": [
        {
          "output_type": "stream",
          "name": "stdout",
          "text": [
            "tfp.distributions.MultivariateNormalDiag(\"MultivariateNormalDiag\", batch_shape=[], event_shape=[2], dtype=float32)\n",
            "(2,)\n",
            "tf.Tensor(\n",
            "[[-0.6725315  -0.76393867]\n",
            " [-0.6805663  -1.6113279 ]\n",
            " [-3.3880599  -1.0588717 ]], shape=(3, 2), dtype=float32)\n",
            "tf.Tensor(-2.9388978, shape=(), dtype=float32)\n"
          ]
        }
      ],
      "source": [
        "import tensorflow as tf\n",
        "import tensorflow_probability as tfp\n",
        "tf.keras.utils.set_random_seed(seed=42)\n",
        "\n",
        "mv_normal = tfp.distributions.MultivariateNormalDiag(\n",
        "    loc=[-1., 0.5], scale_diag=[1., 1.5])\n",
        "print(mv_normal)\n",
        "print(mv_normal.event_shape)\n",
        "print(mv_normal.sample(sample_shape=3))\n",
        "print(mv_normal.log_prob(value=[-0.2, 1.8]))"
      ]
    },
    {
      "cell_type": "code",
      "execution_count": 21,
      "metadata": {
        "id": "FgzfeMpnEOlb",
        "outputId": "374184fb-0d0b-4aa0-8fb2-c8cbe0885506",
        "colab": {
          "base_uri": "https://localhost:8080/"
        }
      },
      "outputs": [
        {
          "output_type": "stream",
          "name": "stdout",
          "text": [
            "tfp.distributions.Normal(\"Normal\", batch_shape=[2], event_shape=[], dtype=float32)\n",
            "tf.Tensor(\n",
            "[[-0.6725315  -0.76393867]\n",
            " [-0.6805663  -1.6113279 ]\n",
            " [-3.3880599  -1.0588717 ]], shape=(3, 2), dtype=float32)\n",
            "tf.Tensor([-1.2389386 -1.699959 ], shape=(2,), dtype=float32)\n"
          ]
        }
      ],
      "source": [
        "import tensorflow as tf\n",
        "import tensorflow_probability as tfp\n",
        "tf.keras.utils.set_random_seed(seed=42)\n",
        "\n",
        "batched_normal = tfp.distributions.Normal(\n",
        "    loc=[-1., 0.5], scale=[1., 1.5])\n",
        "print(batched_normal)\n",
        "print(batched_normal.sample(sample_shape=3))\n",
        "print(batched_normal.log_prob(value=[-0.2, 1.8]))"
      ]
    },
    {
      "cell_type": "code",
      "execution_count": 22,
      "metadata": {
        "id": "9Yfcpti-EOlc",
        "outputId": "b5046d2d-46ee-4dbe-d896-47a08daf3837",
        "colab": {
          "base_uri": "https://localhost:8080/"
        }
      },
      "outputs": [
        {
          "output_type": "stream",
          "name": "stdout",
          "text": [
            "tfp.distributions.MultivariateNormalDiag(\"MultivariateNormalDiag\", batch_shape=[3], event_shape=[2], dtype=float32)\n",
            "tf.Tensor(\n",
            "[[[-0.6725315  -1.6113279 ]\n",
            "  [ 0.3147484  -1.1940299 ]\n",
            "  [-0.18056631  0.46075213]]\n",
            "\n",
            " [[-1.5573232   0.9334048 ]\n",
            "  [ 3.079414   -0.7533058 ]\n",
            "  [ 1.1994323   1.2354525 ]]], shape=(2, 3, 2), dtype=float32)\n"
          ]
        }
      ],
      "source": [
        "import tensorflow as tf\n",
        "import tensorflow_probability as tfp\n",
        "tf.keras.utils.set_random_seed(seed=42)\n",
        "\n",
        "batched_mv_normal = tfp.distributions.MultivariateNormalDiag(\n",
        "    loc=[[-1., 0.5], [2., 0.], [-0.5, 1.5]],\n",
        "    scale_diag=[[1., 1.5], [2., 0.5], [1., 1.]])\n",
        "print(batched_mv_normal)\n",
        "print(batched_mv_normal.sample(sample_shape=2))"
      ]
    },
    {
      "cell_type": "markdown",
      "metadata": {
        "id": "q_uqvQvYEOlc"
      },
      "source": [
        "#### Basic multivariate distributions"
      ]
    },
    {
      "cell_type": "code",
      "execution_count": 23,
      "metadata": {
        "id": "vXJMhklIEOlc",
        "outputId": "cd62c3b2-1a2c-47df-aed4-978b1bb501de",
        "colab": {
          "base_uri": "https://localhost:8080/"
        }
      },
      "outputs": [
        {
          "output_type": "execute_result",
          "data": {
            "text/plain": [
              "<tfp.distributions.MultivariateNormalDiag 'MultivariateNormalDiag' batch_shape=[] event_shape=[2] dtype=float32>"
            ]
          },
          "metadata": {},
          "execution_count": 23
        }
      ],
      "source": [
        "# Define 2D multivariate Gaussian with diagonal covariance matrix\n",
        "import tensorflow as tf\n",
        "import tensorflow_probability as tfp\n",
        "tf.keras.utils.set_random_seed(seed=42)\n",
        "\n",
        "normal_diag = tfp.distributions.MultivariateNormalDiag(\n",
        "    loc=[0, 1], scale_diag=[1, 2])\n",
        "normal_diag"
      ]
    },
    {
      "cell_type": "code",
      "execution_count": 24,
      "metadata": {
        "id": "wx31J0LxEOlc",
        "outputId": "af6e3eac-843d-48ab-bf29-5617eeca5ac7",
        "colab": {
          "base_uri": "https://localhost:8080/"
        }
      },
      "outputs": [
        {
          "output_type": "execute_result",
          "data": {
            "text/plain": [
              "<tf.Tensor: shape=(3, 2), dtype=float32, numpy=\n",
              "array([[ 0.3274685, -0.6852516],\n",
              "       [ 0.3194337, -1.8151038],\n",
              "       [-2.3880599, -1.0784957]], dtype=float32)>"
            ]
          },
          "metadata": {},
          "execution_count": 24
        }
      ],
      "source": [
        "# Sample from it\n",
        "\n",
        "normal_diag.sample(sample_shape=3)"
      ]
    },
    {
      "cell_type": "code",
      "execution_count": 27,
      "metadata": {
        "id": "KiWLNK35EOld",
        "outputId": "e3bf7618-67ce-49a2-ae5d-13e840cecb5a",
        "colab": {
          "base_uri": "https://localhost:8080/",
          "height": 291
        }
      },
      "outputs": [
        {
          "output_type": "display_data",
          "data": {
            "text/plain": [
              "<Figure size 300x300 with 1 Axes>"
            ],
            "image/png": "[encoded data removed]"
          },
          "metadata": {}
        }
      ],
      "source": [
        "# Make a plot\n",
        "import matplotlib.pyplot as plt\n",
        "\n",
        "plt_sample = normal_diag.sample(sample_shape=10000)\n",
        "plt.figure(figsize=(3, 3))\n",
        "plt.scatter(x=plt_sample[:, 0], y=plt_sample[:, 1],\n",
        "    marker='.', alpha=0.5)\n",
        "plt.axis('equal')\n",
        "plt.show()"
      ]
    },
    {
      "cell_type": "code",
      "execution_count": 28,
      "metadata": {
        "id": "ncs3TcZ2EOld",
        "outputId": "84e400ab-8120-482d-cc5a-63f3ff27d72b",
        "colab": {
          "base_uri": "https://localhost:8080/",
          "height": 296
        }
      },
      "outputs": [
        {
          "output_type": "display_data",
          "data": {
            "text/plain": [
              "<Figure size 300x300 with 1 Axes>"
            ],
            "image/png": "[encoded data removed]"
          },
          "metadata": {}
        }
      ],
      "source": [
        "import tensorflow as tf\n",
        "import tensorflow_probability as tfp\n",
        "tf.keras.utils.set_random_seed(seed=42)\n",
        "import matplotlib.pyplot as plt\n",
        "\n",
        "normal_diag = tfp.distributions.MultivariateNormalDiag(\n",
        "    loc=[0, 1], scale_diag=[1, 20])\n",
        "plt_sample = normal_diag.sample(sample_shape=10000)\n",
        "plt.figure(figsize=(3, 3))\n",
        "plt.scatter(x=plt_sample[:, 0], y=plt_sample[:, 1],\n",
        "    marker='.', alpha=0.5)\n",
        "plt.axis('equal')\n",
        "plt.show()"
      ]
    },
    {
      "cell_type": "markdown",
      "metadata": {
        "id": "AsqoHWOfEOld"
      },
      "source": [
        "#### Batches of multivariate distributions"
      ]
    },
    {
      "cell_type": "code",
      "execution_count": 29,
      "metadata": {
        "id": "zerfq9w8EOld",
        "outputId": "356ac7fb-2535-4a7d-ba1e-2e96058b09ce",
        "colab": {
          "base_uri": "https://localhost:8080/"
        }
      },
      "outputs": [
        {
          "output_type": "execute_result",
          "data": {
            "text/plain": [
              "<tfp.distributions.MultivariateNormalDiag 'MultivariateNormalDiag' batch_shape=[3] event_shape=[2] dtype=float32>"
            ]
          },
          "metadata": {},
          "execution_count": 29
        }
      ],
      "source": [
        "# Create three \"batches\" of multivariate normals\n",
        "import tensorflow as tf\n",
        "import tensorflow_probability as tfp\n",
        "tf.keras.utils.set_random_seed(seed=42)\n",
        "\n",
        "normal_diag_batch = tfp.distributions.MultivariateNormalDiag(\n",
        "    loc=0, scale_diag=[[1, 2], [2, 1], [2, 2]])\n",
        "normal_diag_batch"
      ]
    },
    {
      "cell_type": "code",
      "execution_count": 30,
      "metadata": {
        "id": "p9KOnJlWEOld",
        "outputId": "850268b5-033e-4c91-df3f-44802032ac6b",
        "colab": {
          "base_uri": "https://localhost:8080/"
        }
      },
      "outputs": [
        {
          "output_type": "execute_result",
          "data": {
            "text/plain": [
              "<tf.Tensor: shape=(2, 3, 2), dtype=float32, numpy=\n",
              "array([[[ 0.3274685, -2.8151038],\n",
              "        [-1.6852516, -2.3880599],\n",
              "        [ 0.6388674, -2.0784957]],\n",
              "\n",
              "       [[-0.5573232,  0.5778731],\n",
              "        [ 1.079414 , -1.5066116],\n",
              "        [ 3.3988645, -0.5290949]]], dtype=float32)>"
            ]
          },
          "metadata": {},
          "execution_count": 30
        }
      ],
      "source": [
        "# Sample from it\n",
        "\n",
        "samples = normal_diag_batch.sample(sample_shape=2)\n",
        "samples"
      ]
    },
    {
      "cell_type": "code",
      "execution_count": 31,
      "metadata": {
        "id": "4lQuPsqQEOle",
        "outputId": "ad0c0260-31ba-4ea2-b594-bf33578b322f",
        "colab": {
          "base_uri": "https://localhost:8080/"
        }
      },
      "outputs": [
        {
          "output_type": "execute_result",
          "data": {
            "text/plain": [
              "<tf.Tensor: shape=(2, 3), dtype=float32, numpy=\n",
              "array([[-3.5752432, -5.737448 , -3.8152084],\n",
              "       [-2.728071 , -3.8116055, -4.703199 ]], dtype=float32)>"
            ]
          },
          "metadata": {},
          "execution_count": 31
        }
      ],
      "source": [
        "# Compute log probs\n",
        "\n",
        "normal_diag_batch.log_prob(value=samples)"
      ]
    },
    {
      "cell_type": "code",
      "execution_count": 32,
      "metadata": {
        "id": "WJWg-TZqEOle",
        "outputId": "225dfafb-b089-4aa1-804e-7fe9e72b711f",
        "colab": {
          "base_uri": "https://localhost:8080/"
        }
      },
      "outputs": [
        {
          "output_type": "execute_result",
          "data": {
            "text/plain": [
              "TensorShape([10000, 3, 2])"
            ]
          },
          "metadata": {},
          "execution_count": 32
        }
      ],
      "source": [
        "# Create a sample for a plot -- notice the shape\n",
        "\n",
        "plt_sample_batch = normal_diag_batch.sample(sample_shape=10000)\n",
        "plt_sample_batch.shape"
      ]
    },
    {
      "cell_type": "code",
      "execution_count": 34,
      "metadata": {
        "id": "Lx8qvzkfEOlf",
        "outputId": "adabcf00-5326-4315-fbcd-8e0cbf824e6a",
        "colab": {
          "base_uri": "https://localhost:8080/",
          "height": 314
        }
      },
      "outputs": [
        {
          "output_type": "display_data",
          "data": {
            "text/plain": [
              "<Figure size 900x300 with 3 Axes>"
            ],
            "image/png": "[encoded data removed]"
          },
          "metadata": {}
        }
      ],
      "source": [
        "# Plot samples from the batched multivariate Gaussian\n",
        "import matplotlib.pyplot as plt\n",
        "\n",
        "fig, axs = plt.subplots(nrows=1, ncols=3,\n",
        "    sharex=True, sharey=True, figsize=(9, 3))\n",
        "titles = ['cov_diag=[1, 2]', 'cov_diag=[2, 1]', 'cov_diag=[2, 2]']\n",
        "\n",
        "for i, (ax, title) in enumerate(zip(axs, titles)):\n",
        "    samples = plt_sample_batch[:, i, :] # take the ith batch [samples x event_shape]\n",
        "    ax.scatter(x=samples[:, 0], y=samples[:, 1], marker='.', alpha=0.5)\n",
        "    ax.set_title(label=title)\n",
        "plt.show()"
      ]
    },
    {
      "cell_type": "markdown",
      "metadata": {
        "id": "KRvXQximEOlf"
      },
      "source": [
        "\n",
        "\n",
        "***\n",
        "<a id='the_independent_distribution'></a>\n",
        "## The Independent Distribution"
      ]
    },
    {
      "cell_type": "code",
      "execution_count": 35,
      "metadata": {
        "id": "KaatJpkLEOlf",
        "outputId": "a46e6d12-0df7-4982-c311-641814c84f50",
        "colab": {
          "base_uri": "https://localhost:8080/"
        }
      },
      "outputs": [
        {
          "output_type": "stream",
          "name": "stdout",
          "text": [
            "tfp.distributions.MultivariateNormalDiag(\"MultivariateNormalDiag\", batch_shape=[], event_shape=[2], dtype=float32)\n",
            "tf.Tensor(-2.9388978, shape=(), dtype=float32)\n"
          ]
        }
      ],
      "source": [
        "import tensorflow as tf\n",
        "import tensorflow_probability as tfp\n",
        "tf.keras.utils.set_random_seed(seed=42)\n",
        "\n",
        "mv_normal = tfp.distributions.MultivariateNormalDiag(\n",
        "    loc=[-1, 0.5], scale_diag=[1, 1.5])\n",
        "print(mv_normal)\n",
        "print(mv_normal.log_prob(value=[-0.2, 1.8]))"
      ]
    },
    {
      "cell_type": "code",
      "execution_count": 36,
      "metadata": {
        "id": "PraZCL7DEOlg",
        "outputId": "44f07858-4ae0-4fb5-c31e-9a2bd64486b1",
        "colab": {
          "base_uri": "https://localhost:8080/"
        }
      },
      "outputs": [
        {
          "output_type": "stream",
          "name": "stdout",
          "text": [
            "tfp.distributions.Normal(\"Normal\", batch_shape=[2], event_shape=[], dtype=float32)\n",
            "tf.Tensor([-1.2389386 -1.699959 ], shape=(2,), dtype=float32)\n"
          ]
        }
      ],
      "source": [
        "import tensorflow as tf\n",
        "import tensorflow_probability as tfp\n",
        "tf.keras.utils.set_random_seed(seed=42)\n",
        "\n",
        "batched_normal = tfp.distributions.Normal(\n",
        "    loc=[-1, 0.5], scale=[1, 1.5])\n",
        "print(batched_normal)\n",
        "print(batched_normal.log_prob(value=[-0.2, 1.8]))"
      ]
    },
    {
      "cell_type": "code",
      "execution_count": 37,
      "metadata": {
        "id": "NCd6wVlyEOlg",
        "outputId": "ec02cec5-e52b-4aa5-ffa0-7a653c9acd67",
        "colab": {
          "base_uri": "https://localhost:8080/"
        }
      },
      "outputs": [
        {
          "output_type": "stream",
          "name": "stdout",
          "text": [
            "tfp.distributions.Independent(\"IndependentNormal\", batch_shape=[], event_shape=[2], dtype=float32)\n",
            "tf.Tensor(-2.9388976, shape=(), dtype=float32)\n"
          ]
        }
      ],
      "source": [
        "import tensorflow as tf\n",
        "import tensorflow_probability as tfp\n",
        "tf.keras.utils.set_random_seed(seed=42)\n",
        "\n",
        "batched_normal = tfp.distributions.Normal(\n",
        "    loc=[-1, 0.5], scale=[1, 1.5])\n",
        "\n",
        "independent_normal = tfp.distributions.Independent(\n",
        "    distribution=batched_normal, reinterpreted_batch_ndims=1)\n",
        "print(independent_normal)\n",
        "print(independent_normal.log_prob(value=[-0.2, 1.8]))"
      ]
    },
    {
      "cell_type": "code",
      "execution_count": 38,
      "metadata": {
        "id": "S5y3eHnhEOlg",
        "outputId": "bf524599-c963-4efe-dc61-3f2989c82d2a",
        "colab": {
          "base_uri": "https://localhost:8080/"
        }
      },
      "outputs": [
        {
          "output_type": "stream",
          "name": "stdout",
          "text": [
            "tfp.distributions.Normal(\"Normal\", batch_shape=[3, 2], event_shape=[], dtype=float32)\n",
            "tfp.distributions.Independent(\"IndependentNormal\", batch_shape=[3], event_shape=[2], dtype=float32)\n"
          ]
        }
      ],
      "source": [
        "import tensorflow as tf\n",
        "import tensorflow_probability as tfp\n",
        "tf.keras.utils.set_random_seed(seed=42)\n",
        "\n",
        "batched_normal = tfp.distributions.Normal(\n",
        "    loc=[[-1, 0.5], [0, 1], [0.3, -0.1]],\n",
        "    scale=[[1, 1.5], [0.2, 0.8], [2, 1]])\n",
        "print(batched_normal)\n",
        "\n",
        "independent_normal = tfp.distributions.Independent(\n",
        "    distribution=batched_normal, reinterpreted_batch_ndims=1)\n",
        "print(independent_normal)"
      ]
    },
    {
      "cell_type": "code",
      "execution_count": 39,
      "metadata": {
        "id": "t12RDr4YEOlh",
        "outputId": "cd570806-d10f-4c4b-d2a0-1dcc947a0a61",
        "colab": {
          "base_uri": "https://localhost:8080/"
        }
      },
      "outputs": [
        {
          "output_type": "execute_result",
          "data": {
            "text/plain": [
              "<tfp.distributions.Normal 'Normal' batch_shape=[2] event_shape=[] dtype=float32>"
            ]
          },
          "metadata": {},
          "execution_count": 39
        }
      ],
      "source": [
        "# Start by defining a batch of two univariate Gaussians, then\n",
        "# combine them into a bivariate Gaussian with independent components\n",
        "import tensorflow as tf\n",
        "import tensorflow_probability as tfp\n",
        "tf.keras.utils.set_random_seed(seed=42)\n",
        "\n",
        "locs = [-1, 1]\n",
        "scales = [0.5, 1]\n",
        "batch_of_normals = tfp.distributions.Normal(loc=locs, scale=scales)\n",
        "batch_of_normals"
      ]
    },
    {
      "cell_type": "code",
      "execution_count": 42,
      "metadata": {
        "id": "e5Ot0cPzEOlh",
        "outputId": "05f46321-62f9-4916-aa93-38f9ba3b7759",
        "colab": {
          "base_uri": "https://localhost:8080/",
          "height": 311
        }
      },
      "outputs": [
        {
          "output_type": "display_data",
          "data": {
            "text/plain": [
              "<Figure size 900x300 with 1 Axes>"
            ],
            "image/png": "[encoded data removed]"
          },
          "metadata": {}
        }
      ],
      "source": [
        "# Univariate density functions\n",
        "import numpy as np\n",
        "import matplotlib.pyplot as plt\n",
        "import seaborn as sns\n",
        "np.random.seed(seed=42)\n",
        "\n",
        "t = np.linspace(start=-4, stop=4, num=10000, dtype=np.float32)\n",
        "# each column is a vector of densities for one distn\n",
        "densities = batch_of_normals.prob(value=np.repeat(\n",
        "    a=t[..., np.newaxis], repeats=2, axis=1))\n",
        "\n",
        "plt.figure(figsize=(9, 3))\n",
        "sns.lineplot(x=t, y=densities[:, 0],\n",
        "    label='loc=%.1f, scale=%.1f'%(locs[0], scales[0]))\n",
        "sns.lineplot(x=t, y=densities[:, 1],\n",
        "    label='loc=%.1f, scale=%.1f'%(locs[1], scales[1]))\n",
        "plt.ylabel(ylabel='Probability density')\n",
        "plt.xlabel(xlabel='Value')\n",
        "plt.legend()\n",
        "plt.show()"
      ]
    },
    {
      "cell_type": "code",
      "execution_count": null,
      "metadata": {
        "id": "Q1MVj_riEOlh",
        "outputId": "aea30ae6-bbd7-429d-c5df-d4a5cf5e4462",
        "colab": {
          "base_uri": "https://localhost:8080/"
        }
      },
      "outputs": [
        {
          "output_type": "execute_result",
          "data": {
            "text/plain": [
              "<tfp.distributions.Normal 'Normal' batch_shape=[2] event_shape=[] dtype=float32>"
            ]
          },
          "metadata": {},
          "execution_count": 30
        }
      ],
      "source": [
        "# Check their batch_shape and event_shape\n",
        "\n",
        "batch_of_normals"
      ]
    },
    {
      "cell_type": "code",
      "execution_count": null,
      "metadata": {
        "id": "fcDx1LKDEOlh"
      },
      "outputs": [],
      "source": [
        "# Use Independent to convert the batch shape to the event shape\n",
        "import tensorflow as tf\n",
        "import tensorflow_probability as tfp\n",
        "tf.random.set_seed(seed=42)\n",
        "\n",
        "bivariate_normal_from_Independent = tfp.distributions.Independent(\n",
        "    distribution=batch_of_normals,\n",
        "    reinterpreted_batch_ndims=1)"
      ]
    },
    {
      "cell_type": "code",
      "execution_count": null,
      "metadata": {
        "id": "pqPUPwgVEOli",
        "outputId": "1b2d0858-9120-4b5b-c3cb-92ea0c88b5ee",
        "colab": {
          "base_uri": "https://localhost:8080/"
        }
      },
      "outputs": [
        {
          "output_type": "execute_result",
          "data": {
            "text/plain": [
              "<tfp.distributions.Independent 'IndependentNormal' batch_shape=[] event_shape=[2] dtype=float32>"
            ]
          },
          "metadata": {},
          "execution_count": 32
        }
      ],
      "source": [
        "# Note that dimension from batch_shape has shifted to event_shape\n",
        "\n",
        "bivariate_normal_from_Independent"
      ]
    },
    {
      "cell_type": "code",
      "execution_count": null,
      "metadata": {
        "id": "iKX-eNjdEOli",
        "outputId": "7041ce13-0f65-4167-9dad-3b3109043cc3",
        "colab": {
          "base_uri": "https://localhost:8080/",
          "height": 626
        }
      },
      "outputs": [
        {
          "output_type": "display_data",
          "data": {
            "text/plain": [
              "<Figure size 600x600 with 3 Axes>"
            ],
            "image/png": "[encoded data removed]"
          },
          "metadata": {}
        }
      ],
      "source": [
        "# Create a plot showing joint density contours and marginal density functions\n",
        "import matplotlib.pyplot as plt\n",
        "import seaborn as sns\n",
        "\n",
        "samples = bivariate_normal_from_Independent.sample(sample_shape=10000)\n",
        "x1 = samples[:, 0]\n",
        "x2 = samples[:, 1]\n",
        "sns.jointplot(x=x1, y=x2, kind='kde', space=0, color='b')\n",
        "plt.show()"
      ]
    },
    {
      "cell_type": "code",
      "execution_count": null,
      "metadata": {
        "id": "vxRYU1qpEOlj",
        "outputId": "a196690b-f4f7-47eb-8ccb-6b99489ab9af",
        "colab": {
          "base_uri": "https://localhost:8080/"
        }
      },
      "outputs": [
        {
          "output_type": "execute_result",
          "data": {
            "text/plain": [
              "<tfp.distributions.MultivariateNormalDiag 'MultivariateNormalDiag' batch_shape=[] event_shape=[2] dtype=float32>"
            ]
          },
          "metadata": {},
          "execution_count": 35
        }
      ],
      "source": [
        "# Use MultivariateNormalDiag to create the equivalent distribution\n",
        "# Note that diagonal covariance matrix => no correlation => independence (for the multivariate normal distribution)\n",
        "import tensorflow as tf\n",
        "import tensorflow_probability as tfp\n",
        "tf.random.set_seed(seed=42)\n",
        "\n",
        "bivariate_normal_from_Multivariate = tfp.distributions.MultivariateNormalDiag(\n",
        "    loc=locs, scale_diag=scales)\n",
        "bivariate_normal_from_Multivariate"
      ]
    },
    {
      "cell_type": "code",
      "execution_count": null,
      "metadata": {
        "id": "L83CwrW9EOlj",
        "outputId": "32a9cd1d-b4d0-4792-96a2-f635e2a3a282",
        "colab": {
          "base_uri": "https://localhost:8080/",
          "height": 626
        }
      },
      "outputs": [
        {
          "output_type": "display_data",
          "data": {
            "text/plain": [
              "<Figure size 600x600 with 3 Axes>"
            ],
            "image/png": "[encoded data removed]"
          },
          "metadata": {}
        }
      ],
      "source": [
        "# Plot the joint density function of bivariate_normal_from_Multivariate\n",
        "# Refer back to bivariate_normal_from_Independent to show that the plot is the same\n",
        "# Summarise how Independent has been used\n",
        "import matplotlib.pyplot as plt\n",
        "import seaborn as sns\n",
        "\n",
        "samples = bivariate_normal_from_Multivariate.sample(sample_shape=10000)\n",
        "x1 = samples[:, 0]\n",
        "x2 = samples[:, 1]\n",
        "sns.jointplot(x=x1, y=x2, kind='kde', space=0, color='b')\n",
        "plt.show()"
      ]
    },
    {
      "cell_type": "markdown",
      "metadata": {
        "id": "6c0ho899EOlj"
      },
      "source": [
        "#### Shifting batch dimensions to event dimensions using\n",
        "`reinterpreted_batch_ndims`"
      ]
    },
    {
      "cell_type": "code",
      "execution_count": null,
      "metadata": {
        "id": "PeAGwebKEOlk"
      },
      "outputs": [],
      "source": [
        "# Demonstrate use of reinterpreted_batch_ndims\n",
        "# By default all batch dims except the first are transferred to event dims\n",
        "import tensorflow as tf\n",
        "import tensorflow_probability as tfp\n",
        "tf.random.set_seed(seed=42)\n",
        "\n",
        "loc_grid = [[-100.], [100.], [0.]]\n",
        "scale_grid = [[1., 10.], [1., 10.], [1., 1.]]\n",
        "\n",
        "normals_batch_3by2_event_1 = tfp.distributions.Normal(\n",
        "    loc=loc_grid, scale=scale_grid)"
      ]
    },
    {
      "cell_type": "code",
      "execution_count": null,
      "metadata": {
        "id": "l1D8P-pBEOlk",
        "outputId": "bcd0e2a9-99f7-4186-da19-09d61cf90f88",
        "colab": {
          "base_uri": "https://localhost:8080/"
        }
      },
      "outputs": [
        {
          "output_type": "execute_result",
          "data": {
            "text/plain": [
              "<tfp.distributions.Normal 'Normal' batch_shape=[3, 2] event_shape=[] dtype=float32>"
            ]
          },
          "metadata": {},
          "execution_count": 39
        }
      ],
      "source": [
        "# Highlight batch_shape\n",
        "\n",
        "normals_batch_3by2_event_1"
      ]
    },
    {
      "cell_type": "code",
      "execution_count": null,
      "metadata": {
        "id": "jFybegxBEOlk",
        "outputId": "87b2fcc0-61c5-4e2a-f784-36f4bc04c485",
        "colab": {
          "base_uri": "https://localhost:8080/"
        }
      },
      "outputs": [
        {
          "output_type": "execute_result",
          "data": {
            "text/plain": [
              "<tfp.distributions.Independent 'IndependentNormal' batch_shape=[3] event_shape=[2] dtype=float32>"
            ]
          },
          "metadata": {},
          "execution_count": 40
        }
      ],
      "source": [
        "# We now have a batch of 3 bivariate normal distributions,\n",
        "# each parametrised by a column of our original parameter grid\n",
        "import tensorflow as tf\n",
        "import tensorflow_probability as tfp\n",
        "tf.random.set_seed(seed=42)\n",
        "\n",
        "normals_batch_3_event_2 = tfp.distributions.Independent(\n",
        "    distribution=normals_batch_3by2_event_1,\n",
        "    reinterpreted_batch_ndims=1)\n",
        "normals_batch_3_event_2"
      ]
    },
    {
      "cell_type": "code",
      "execution_count": null,
      "metadata": {
        "id": "WoElUFahEOlk",
        "outputId": "27ef1a78-1def-4029-8ef8-58b24e79585d",
        "colab": {
          "base_uri": "https://localhost:8080/"
        }
      },
      "outputs": [
        {
          "output_type": "execute_result",
          "data": {
            "text/plain": [
              "<tf.Tensor: shape=(3,), dtype=float32, numpy=array([-4.1146406e+03, -2.0004139e+04, -2.8378770e+00], dtype=float32)>"
            ]
          },
          "metadata": {},
          "execution_count": 41
        }
      ],
      "source": [
        "# Evaluate log_prob\n",
        "\n",
        "normals_batch_3_event_2.log_prob(value=[\n",
        "    [-10., 10.], [-100., 100.], [-1., 1.]])"
      ]
    },
    {
      "cell_type": "code",
      "execution_count": null,
      "metadata": {
        "id": "EeUKFOYFEOll",
        "outputId": "5165afc8-8263-4c82-8230-8b6c44a7b904",
        "colab": {
          "base_uri": "https://localhost:8080/"
        }
      },
      "outputs": [
        {
          "output_type": "execute_result",
          "data": {
            "text/plain": [
              "<tfp.distributions.Independent 'IndependentNormal' batch_shape=[] event_shape=[3, 2] dtype=float32>"
            ]
          },
          "metadata": {},
          "execution_count": 42
        }
      ],
      "source": [
        "# Can reinterpret _all_ batch dimensions as event dimensions\n",
        "import tensorflow as tf\n",
        "import tensorflow_probability as tfp\n",
        "tf.random.set_seed(seed=42)\n",
        "\n",
        "normals_batch_1_event_3by2 = tfp.distributions.Independent(\n",
        "    distribution=normals_batch_3by2_event_1,\n",
        "    reinterpreted_batch_ndims=2)\n",
        "normals_batch_1_event_3by2"
      ]
    },
    {
      "cell_type": "code",
      "execution_count": null,
      "metadata": {
        "id": "jG7Hk8IJEOll",
        "outputId": "6474e0c8-1242-4ed5-f2de-87bd2b80b1af",
        "colab": {
          "base_uri": "https://localhost:8080/"
        }
      },
      "outputs": [
        {
          "output_type": "execute_result",
          "data": {
            "text/plain": [
              "<tf.Tensor: shape=(), dtype=float32, numpy=-24121.615234375>"
            ]
          },
          "metadata": {},
          "execution_count": 43
        }
      ],
      "source": [
        "# Take log_probs\n",
        "\n",
        "normals_batch_1_event_3by2.log_prob(value=[\n",
        "    [-10., 10.], [-100., 100.], [-1., 1.]])"
      ]
    },
    {
      "cell_type": "markdown",
      "metadata": {
        "id": "eocrE5g6EOll"
      },
      "source": [
        "#### Using `Independent` to build a Naive Bayes classifier"
      ]
    },
    {
      "cell_type": "markdown",
      "metadata": {
        "id": "qMWpzxTZEOll"
      },
      "source": [
        "#### Introduction to `newsgroups` data set"
      ]
    },
    {
      "cell_type": "markdown",
      "metadata": {
        "id": "DnI_1cD-EOll"
      },
      "source": [
        "In this tutorial, just load the dataset, fetch train/test splits, probably choose a subset of the data.\n",
        "\n",
        "Construct the class conditional feature distribution (with Independent, using the Naive Bayes assumption) and sample from it.\n",
        "\n",
        "We can just use the ML estimates for parameters, in later tutorials we will learn them."
      ]
    },
    {
      "cell_type": "code",
      "execution_count": null,
      "metadata": {
        "id": "5ONkM-m9EOlm"
      },
      "outputs": [],
      "source": [
        "# Convenience function for retrieving the 20 newsgroups data set\n",
        "\n",
        "# Usenet was a forerunner to modern internet forums\n",
        "# Users could post and read articles\n",
        "# Newsgroup corresponded to a topic\n",
        "# Example topics in this data set: IBM computer hardware, baseball\n",
        "# Our objective is to use an article's contents to predict its newsgroup,\n",
        "# a 20-class classification problem.\n",
        "\n",
        "# 18000 newsgroups, posts on 20 topics\n",
        "# Get the train data\n",
        "from sklearn import datasets\n",
        "\n",
        "newsgroups_data = datasets.fetch_20newsgroups(\n",
        "    data_home='20_Newsgroup_Data/', subset='train')"
      ]
    },
    {
      "cell_type": "code",
      "execution_count": null,
      "metadata": {
        "collapsed": true,
        "id": "eB32IZ6-EOlm",
        "outputId": "fef7c342-5ea0-4be2-d9c0-9f412c5f9293",
        "colab": {
          "base_uri": "https://localhost:8080/"
        }
      },
      "outputs": [
        {
          "output_type": "stream",
          "name": "stdout",
          "text": [
            ".. _20newsgroups_dataset:\n",
            "\n",
            "The 20 newsgroups text dataset\n",
            "------------------------------\n",
            "\n",
            "The 20 newsgroups dataset comprises around 18000 newsgroups posts on\n",
            "20 topics split in two subsets: one for training (or development)\n",
            "and the other one for testing (or for performance evaluation). The split\n",
            "between the train and test set is based upon a messages posted before\n",
            "and after a specific date.\n",
            "\n",
            "This module contains two loaders. The first one,\n",
            ":func:`sklearn.datasets.fetch_20newsgroups`,\n",
            "returns a list of the raw texts that can be fed to text feature\n",
            "extractors such as :class:`~sklearn.feature_extraction.text.CountVectorizer`\n",
            "with custom parameters so as to extract feature vectors.\n",
            "The second one, :func:`sklearn.datasets.fetch_20newsgroups_vectorized`,\n",
            "returns ready-to-use features, i.e., it is not necessary to use a feature\n",
            "extractor.\n",
            "\n",
            "**Data Set Characteristics:**\n",
            "\n",
            "=================   ==========\n",
            "Classes                     20\n",
            "Samples total            18846\n",
            "Dimensionality               1\n",
            "Features                  text\n",
            "=================   ==========\n",
            "\n",
            ".. dropdown:: Usage\n",
            "\n",
            "  The :func:`sklearn.datasets.fetch_20newsgroups` function is a data\n",
            "  fetching / caching functions that downloads the data archive from\n",
            "  the original `20 newsgroups website <http://people.csail.mit.edu/jrennie/20Newsgroups/>`__,\n",
            "  extracts the archive contents\n",
            "  in the ``~/scikit_learn_data/20news_home`` folder and calls the\n",
            "  :func:`sklearn.datasets.load_files` on either the training or\n",
            "  testing set folder, or both of them::\n",
            "\n",
            "    >>> from sklearn.datasets import fetch_20newsgroups\n",
            "    >>> newsgroups_train = fetch_20newsgroups(subset='train')\n",
            "\n",
            "    >>> from pprint import pprint\n",
            "    >>> pprint(list(newsgroups_train.target_names))\n",
            "    ['alt.atheism',\n",
            "     'comp.graphics',\n",
            "     'comp.os.ms-windows.misc',\n",
            "     'comp.sys.ibm.pc.hardware',\n",
            "     'comp.sys.mac.hardware',\n",
            "     'comp.windows.x',\n",
            "     'misc.forsale',\n",
            "     'rec.autos',\n",
            "     'rec.motorcycles',\n",
            "     'rec.sport.baseball',\n",
            "     'rec.sport.hockey',\n",
            "     'sci.crypt',\n",
            "     'sci.electronics',\n",
            "     'sci.med',\n",
            "     'sci.space',\n",
            "     'soc.religion.christian',\n",
            "     'talk.politics.guns',\n",
            "     'talk.politics.mideast',\n",
            "     'talk.politics.misc',\n",
            "     'talk.religion.misc']\n",
            "\n",
            "  The real data lies in the ``filenames`` and ``target`` attributes. The target\n",
            "  attribute is the integer index of the category::\n",
            "\n",
            "    >>> newsgroups_train.filenames.shape\n",
            "    (11314,)\n",
            "    >>> newsgroups_train.target.shape\n",
            "    (11314,)\n",
            "    >>> newsgroups_train.target[:10]\n",
            "    array([ 7,  4,  4,  1, 14, 16, 13,  3,  2,  4])\n",
            "\n",
            "  It is possible to load only a sub-selection of the categories by passing the\n",
            "  list of the categories to load to the\n",
            "  :func:`sklearn.datasets.fetch_20newsgroups` function::\n",
            "\n",
            "    >>> cats = ['alt.atheism', 'sci.space']\n",
            "    >>> newsgroups_train = fetch_20newsgroups(subset='train', categories=cats)\n",
            "\n",
            "    >>> list(newsgroups_train.target_names)\n",
            "    ['alt.atheism', 'sci.space']\n",
            "    >>> newsgroups_train.filenames.shape\n",
            "    (1073,)\n",
            "    >>> newsgroups_train.target.shape\n",
            "    (1073,)\n",
            "    >>> newsgroups_train.target[:10]\n",
            "    array([0, 1, 1, 1, 0, 1, 1, 0, 0, 0])\n",
            "\n",
            ".. dropdown:: Converting text to vectors\n",
            "\n",
            "  In order to feed predictive or clustering models with the text data,\n",
            "  one first need to turn the text into vectors of numerical values suitable\n",
            "  for statistical analysis. This can be achieved with the utilities of the\n",
            "  ``sklearn.feature_extraction.text`` as demonstrated in the following\n",
            "  example that extract `TF-IDF <https://en.wikipedia.org/wiki/Tf-idf>`__ vectors\n",
            "  of unigram tokens from a subset of 20news::\n",
            "\n",
            "    >>> from sklearn.feature_extraction.text import TfidfVectorizer\n",
            "    >>> categories = ['alt.atheism', 'talk.religion.misc',\n",
            "    ...               'comp.graphics', 'sci.space']\n",
            "    >>> newsgroups_train = fetch_20newsgroups(subset='train',\n",
            "    ...                                       categories=categories)\n",
            "    >>> vectorizer = TfidfVectorizer()\n",
            "    >>> vectors = vectorizer.fit_transform(newsgroups_train.data)\n",
            "    >>> vectors.shape\n",
            "    (2034, 34118)\n",
            "\n",
            "  The extracted TF-IDF vectors are very sparse, with an average of 159 non-zero\n",
            "  components by sample in a more than 30000-dimensional space\n",
            "  (less than .5% non-zero features)::\n",
            "\n",
            "    >>> vectors.nnz / float(vectors.shape[0])\n",
            "    159.01327...\n",
            "\n",
            "  :func:`sklearn.datasets.fetch_20newsgroups_vectorized` is a function which\n",
            "  returns ready-to-use token counts features instead of file names.\n",
            "\n",
            ".. dropdown:: Filtering text for more realistic training\n",
            "\n",
            "  It is easy for a classifier to overfit on particular things that appear in the\n",
            "  20 Newsgroups data, such as newsgroup headers. Many classifiers achieve very\n",
            "  high F-scores, but their results would not generalize to other documents that\n",
            "  aren't from this window of time.\n",
            "\n",
            "  For example, let's look at the results of a multinomial Naive Bayes classifier,\n",
            "  which is fast to train and achieves a decent F-score::\n",
            "\n",
            "    >>> from sklearn.naive_bayes import MultinomialNB\n",
            "    >>> from sklearn import metrics\n",
            "    >>> newsgroups_test = fetch_20newsgroups(subset='test',\n",
            "    ...                                      categories=categories)\n",
            "    >>> vectors_test = vectorizer.transform(newsgroups_test.data)\n",
            "    >>> clf = MultinomialNB(alpha=.01)\n",
            "    >>> clf.fit(vectors, newsgroups_train.target)\n",
            "    MultinomialNB(alpha=0.01, class_prior=None, fit_prior=True)\n",
            "\n",
            "    >>> pred = clf.predict(vectors_test)\n",
            "    >>> metrics.f1_score(newsgroups_test.target, pred, average='macro')\n",
            "    0.88213...\n",
            "\n",
            "  (The example :ref:`sphx_glr_auto_examples_text_plot_document_classification_20newsgroups.py` shuffles\n",
            "  the training and test data, instead of segmenting by time, and in that case\n",
            "  multinomial Naive Bayes gets a much higher F-score of 0.88. Are you suspicious\n",
            "  yet of what's going on inside this classifier?)\n",
            "\n",
            "  Let's take a look at what the most informative features are:\n",
            "\n",
            "    >>> import numpy as np\n",
            "    >>> def show_top10(classifier, vectorizer, categories):\n",
            "    ...     feature_names = vectorizer.get_feature_names_out()\n",
            "    ...     for i, category in enumerate(categories):\n",
            "    ...         top10 = np.argsort(classifier.coef_[i])[-10:]\n",
            "    ...         print(\"%s: %s\" % (category, \" \".join(feature_names[top10])))\n",
            "    ...\n",
            "    >>> show_top10(clf, vectorizer, newsgroups_train.target_names)\n",
            "    alt.atheism: edu it and in you that is of to the\n",
            "    comp.graphics: edu in graphics it is for and of to the\n",
            "    sci.space: edu it that is in and space to of the\n",
            "    talk.religion.misc: not it you in is that and to of the\n",
            "\n",
            "\n",
            "  You can now see many things that these features have overfit to:\n",
            "\n",
            "  - Almost every group is distinguished by whether headers such as\n",
            "    ``NNTP-Posting-Host:`` and ``Distribution:`` appear more or less often.\n",
            "  - Another significant feature involves whether the sender is affiliated with\n",
            "    a university, as indicated either by their headers or their signature.\n",
            "  - The word \"article\" is a significant feature, based on how often people quote\n",
            "    previous posts like this: \"In article [article ID], [name] <[e-mail address]>\n",
            "    wrote:\"\n",
            "  - Other features match the names and e-mail addresses of particular people who\n",
            "    were posting at the time.\n",
            "\n",
            "  With such an abundance of clues that distinguish newsgroups, the classifiers\n",
            "  barely have to identify topics from text at all, and they all perform at the\n",
            "  same high level.\n",
            "\n",
            "  For this reason, the functions that load 20 Newsgroups data provide a\n",
            "  parameter called **remove**, telling it what kinds of information to strip out\n",
            "  of each file. **remove** should be a tuple containing any subset of\n",
            "  ``('headers', 'footers', 'quotes')``, telling it to remove headers, signature\n",
            "  blocks, and quotation blocks respectively.\n",
            "\n",
            "    >>> newsgroups_test = fetch_20newsgroups(subset='test',\n",
            "    ...                                      remove=('headers', 'footers', 'quotes'),\n",
            "    ...                                      categories=categories)\n",
            "    >>> vectors_test = vectorizer.transform(newsgroups_test.data)\n",
            "    >>> pred = clf.predict(vectors_test)\n",
            "    >>> metrics.f1_score(pred, newsgroups_test.target, average='macro')\n",
            "    0.77310...\n",
            "\n",
            "  This classifier lost over a lot of its F-score, just because we removed\n",
            "  metadata that has little to do with topic classification.\n",
            "  It loses even more if we also strip this metadata from the training data:\n",
            "\n",
            "    >>> newsgroups_train = fetch_20newsgroups(subset='train',\n",
            "    ...                                       remove=('headers', 'footers', 'quotes'),\n",
            "    ...                                       categories=categories)\n",
            "    >>> vectors = vectorizer.fit_transform(newsgroups_train.data)\n",
            "    >>> clf = MultinomialNB(alpha=.01)\n",
            "    >>> clf.fit(vectors, newsgroups_train.target)\n",
            "    MultinomialNB(alpha=0.01, class_prior=None, fit_prior=True)\n",
            "\n",
            "    >>> vectors_test = vectorizer.transform(newsgroups_test.data)\n",
            "    >>> pred = clf.predict(vectors_test)\n",
            "    >>> metrics.f1_score(newsgroups_test.target, pred, average='macro')\n",
            "    0.76995...\n",
            "\n",
            "  Some other classifiers cope better with this harder version of the task. Try the\n",
            "  :ref:`sphx_glr_auto_examples_model_selection_plot_grid_search_text_feature_extraction.py`\n",
            "  example with and without the `remove` option to compare the results.\n",
            "\n",
            ".. rubric:: Data Considerations\n",
            "\n",
            "The Cleveland Indians is a major league baseball team based in Cleveland,\n",
            "Ohio, USA. In December 2020, it was reported that \"After several months of\n",
            "discussion sparked by the death of George Floyd and a national reckoning over\n",
            "race and colonialism, the Cleveland Indians have decided to change their\n",
            "name.\" Team owner Paul Dolan \"did make it clear that the team will not make\n",
            "its informal nickname -- the Tribe -- its new team name.\" \"It's not going to\n",
            "be a half-step away from the Indians,\" Dolan said.\"We will not have a Native\n",
            "American-themed name.\"\n",
            "\n",
            "https://www.mlb.com/news/cleveland-indians-team-name-change\n",
            "\n",
            ".. rubric:: Recommendation\n",
            "\n",
            "- When evaluating text classifiers on the 20 Newsgroups data, you\n",
            "  should strip newsgroup-related metadata. In scikit-learn, you can do this\n",
            "  by setting ``remove=('headers', 'footers', 'quotes')``. The F-score will be\n",
            "  lower because it is more realistic.\n",
            "- This text dataset contains data which may be inappropriate for certain NLP\n",
            "  applications. An example is listed in the \"Data Considerations\" section\n",
            "  above. The challenge with using current text datasets in NLP for tasks such\n",
            "  as sentence completion, clustering, and other applications is that text\n",
            "  that is culturally biased and inflammatory will propagate biases. This\n",
            "  should be taken into consideration when using the dataset, reviewing the\n",
            "  output, and the bias should be documented.\n",
            "\n",
            ".. rubric:: Examples\n",
            "\n",
            "* :ref:`sphx_glr_auto_examples_model_selection_plot_grid_search_text_feature_extraction.py`\n",
            "* :ref:`sphx_glr_auto_examples_text_plot_document_classification_20newsgroups.py`\n",
            "* :ref:`sphx_glr_auto_examples_text_plot_hashing_vs_dict_vectorizer.py`\n",
            "* :ref:`sphx_glr_auto_examples_text_plot_document_clustering.py`\n",
            "\n"
          ]
        }
      ],
      "source": [
        "# More information about the data set\n",
        "\n",
        "print(newsgroups_data['DESCR'])"
      ]
    },
    {
      "cell_type": "code",
      "execution_count": null,
      "metadata": {
        "collapsed": true,
        "id": "JsFZjHe0EOlm",
        "outputId": "05a411ac-4ace-4ceb-8001-6d97a4258ec4",
        "colab": {
          "base_uri": "https://localhost:8080/"
        }
      },
      "outputs": [
        {
          "output_type": "stream",
          "name": "stdout",
          "text": [
            "From: lerxst@wam.umd.edu (where's my thing)\n",
            "Subject: WHAT car is this!?\n",
            "Nntp-Posting-Host: rac3.wam.umd.edu\n",
            "Organization: University of Maryland, College Park\n",
            "Lines: 15\n",
            "\n",
            " I was wondering if anyone out there could enlighten me on this car I saw\n",
            "the other day. It was a 2-door sports car, looked to be from the late 60s/\n",
            "early 70s. It was called a Bricklin. The doors were really small. In addition,\n",
            "the front bumper was separate from the rest of the body. This is \n",
            "all I know. If anyone can tellme a model name, engine specs, years\n",
            "of production, where this car is made, history, or whatever info you\n",
            "have on this funky looking car, please e-mail.\n",
            "\n",
            "Thanks,\n",
            "- IL\n",
            "   ---- brought to you by your neighborhood Lerxst ----\n",
            "\n",
            "\n",
            "\n",
            "\n",
            "\n"
          ]
        }
      ],
      "source": [
        "# Example article\n",
        "\n",
        "print(newsgroups_data['data'][0])"
      ]
    },
    {
      "cell_type": "code",
      "execution_count": null,
      "metadata": {
        "id": "zSP1cSNSEOlm",
        "outputId": "e6ddbfd6-13b7-43a9-eca3-43bacbd40d37",
        "colab": {
          "base_uri": "https://localhost:8080/"
        }
      },
      "outputs": [
        {
          "output_type": "execute_result",
          "data": {
            "text/plain": [
              "np.int64(7)"
            ]
          },
          "metadata": {},
          "execution_count": 4
        }
      ],
      "source": [
        "# Associated label\n",
        "\n",
        "newsgroups_data['target'][0]"
      ]
    },
    {
      "cell_type": "code",
      "execution_count": null,
      "metadata": {
        "id": "2xeikjBCEOlm",
        "outputId": "ee477014-045c-4f43-dac3-9d26344c4e91",
        "colab": {
          "base_uri": "https://localhost:8080/",
          "height": 36
        }
      },
      "outputs": [
        {
          "output_type": "execute_result",
          "data": {
            "text/plain": [
              "'rec.autos'"
            ],
            "application/vnd.google.colaboratory.intrinsic+json": {
              "type": "string"
            }
          },
          "metadata": {},
          "execution_count": 5
        }
      ],
      "source": [
        "# Name of label\n",
        "\n",
        "newsgroups_data['target_names'][7]"
      ]
    },
    {
      "cell_type": "code",
      "execution_count": null,
      "metadata": {
        "id": "UFnb_NIHEOln"
      },
      "outputs": [],
      "source": [
        "# Preprocessing boilerplate\n",
        "from sklearn.feature_extraction import text\n",
        "\n",
        "n_documents = len(newsgroups_data['data'])\n",
        "\n",
        "count_vectorizer = text.CountVectorizer(input='content', binary=True,\n",
        "    max_df=0.25, min_df=1.01/n_documents) # ignore common words, words that appear once\n",
        "binary_bag_of_words = count_vectorizer.fit_transform(\n",
        "    raw_documents=newsgroups_data['data']) # input is a list of strings"
      ]
    },
    {
      "cell_type": "code",
      "execution_count": null,
      "metadata": {
        "id": "KADs2NGuEOln",
        "outputId": "6c4a13bb-4729-45f8-e221-0e81e256c51d",
        "colab": {
          "base_uri": "https://localhost:8080/"
        }
      },
      "outputs": [
        {
          "output_type": "execute_result",
          "data": {
            "text/plain": [
              "(11314, 56365)"
            ]
          },
          "metadata": {},
          "execution_count": 7
        }
      ],
      "source": [
        "# Check shape\n",
        "\n",
        "binary_bag_of_words.shape"
      ]
    },
    {
      "cell_type": "code",
      "execution_count": null,
      "metadata": {
        "id": "JkMSfaTeEOln",
        "outputId": "3fd03358-0061-42da-e721-3b6e8190067f",
        "colab": {
          "base_uri": "https://localhost:8080/"
        }
      },
      "outputs": [
        {
          "output_type": "execute_result",
          "data": {
            "text/plain": [
              "[array(['lerxst', 'wam', 'umd', 'where', 'thing', 'car', 'rac3',\n",
              "        'maryland', 'college', 'park', '15', 'wondering', 'anyone',\n",
              "        'could', 'enlighten', 'saw', 'day', 'door', 'sports', 'looked',\n",
              "        'late', '60s', 'early', '70s', 'called', 'bricklin', 'doors',\n",
              "        'were', 'really', 'small', 'addition', 'front', 'bumper',\n",
              "        'separate', 'rest', 'body', 'tellme', 'model', 'name', 'engine',\n",
              "        'specs', 'years', 'production', 'made', 'history', 'whatever',\n",
              "        'info', 'funky', 'looking', 'please', 'mail', 'thanks', 'il',\n",
              "        'brought', 'neighborhood'], dtype='<U80')]"
            ]
          },
          "metadata": {},
          "execution_count": 8
        }
      ],
      "source": [
        "# Check that the fit has been successful\n",
        "\n",
        "count_vectorizer.inverse_transform(X=binary_bag_of_words[0, :])"
      ]
    },
    {
      "cell_type": "code",
      "execution_count": null,
      "metadata": {
        "id": "AWqN-NWfEOlo"
      },
      "outputs": [],
      "source": [
        "# Dict that will be useful later\n",
        "\n",
        "inv_vocabulary = {value:key for key, value\n",
        "    in count_vectorizer.vocabulary_.items()}"
      ]
    },
    {
      "cell_type": "markdown",
      "metadata": {
        "id": "OnN6IvF2EOlo"
      },
      "source": [
        "#### A Naive Bayes classifier for `newsgroup`"
      ]
    },
    {
      "cell_type": "markdown",
      "metadata": {
        "id": "lPIETJSOEOlo"
      },
      "source": [
        "Each feature vector $x$ is a list of indicators for whether a word appears in the article. $x_i$ is 1 if the $i$th word appears, and 0 otherwise. `inv_vocabulary` matches word indices $i$ to words.\n",
        "\n",
        "Each label $y$ is a value in $0, 1, \\ldots, 19$.\n",
        "\n",
        "The parts of a naive Bayes classifier for this problem can be summarised as:  \n",
        "\n",
        "\n",
        "- A probability distribution for the feature vector by class, $p(x|y = j)$ for each $j = 0, 1, \\ldots, 19$. These probability distributions are assumed to have independent components: we can factorize the joint probability as a product of marginal probabilities\n",
        "\\begin{equation}\n",
        "    p(x|y = j) = \\prod_{i=1}^d p(x_i|y = j)\n",
        "\\end{equation}\n",
        "These marginal probability distributions are Bernoulli distributions, each of which has a single parameter $\\theta_{ji} := p(x_i = 1|y = j)$. This parameter is the probability of observing word $i$ in an article of class $j$.\n",
        "\n",
        "- We will use the Laplace smoothed maximum likelihood estimate to compute these parameters. Laplace smoothing involves adding small counts to every feature for each class. Else, if a feature did not appear in the training set of a class, but then we observed it in our test data the log probability would be undefined.\n",
        "\n",
        "- A collection of class prior probabilities $p(y = j)$. These will be set by computing the class base rates in the training set.  \n",
        "\n",
        "\n",
        "- A function for computing the probability of class membership via Bayes' theorem:  \n",
        "\n",
        "\\begin{equation}\n",
        "    p(y = j|x) = \\frac{p(x|y = j)p(y = j)}{p(x)}\n",
        "\\end{equation}"
      ]
    },
    {
      "cell_type": "code",
      "execution_count": null,
      "metadata": {
        "id": "VwgjyX38EOlo"
      },
      "outputs": [],
      "source": [
        "# Compute the parameter estimates (adjusted fraction of documents in class that contain word)\n",
        "import numpy as np\n",
        "\n",
        "n_classes = newsgroups_data['target'].max() + 1\n",
        "y = newsgroups_data['target']\n",
        "n_words = binary_bag_of_words.shape[1]\n",
        "\n",
        "alpha = 1e-6 # parameters for Laplace smoothing\n",
        "\n",
        "theta = np.zeros(shape=(n_classes, n_words)) # stores parameter values - prob. word given class\n",
        "for c_k in range(n_classes): # 0, 1, ..., 19\n",
        "    class_mask = (y == c_k)\n",
        "    N = class_mask.sum() # number of articles in class\n",
        "    theta[c_k, :] = (binary_bag_of_words[class_mask, :].sum(axis=0)\n",
        "        + alpha)/(N + alpha*2)"
      ]
    },
    {
      "cell_type": "code",
      "execution_count": null,
      "metadata": {
        "id": "2v4s3WPnEOlo",
        "outputId": "88bc66d1-141c-4ac2-8cd7-e394f845c601",
        "colab": {
          "base_uri": "https://localhost:8080/"
        },
        "collapsed": true
      },
      "outputs": [
        {
          "output_type": "stream",
          "name": "stdout",
          "text": [
            "Most probable word in class alt.atheism is \"people\".\n",
            "Most probable word in class comp.graphics is \"graphics\".\n",
            "Most probable word in class comp.os.ms-windows.misc is \"windows\".\n",
            "Most probable word in class comp.sys.ibm.pc.hardware is \"thanks\".\n",
            "Most probable word in class comp.sys.mac.hardware is \"mac\".\n",
            "Most probable word in class comp.windows.x is \"window\".\n",
            "Most probable word in class misc.forsale is \"sale\".\n",
            "Most probable word in class rec.autos is \"car\".\n",
            "Most probable word in class rec.motorcycles is \"dod\".\n",
            "Most probable word in class rec.sport.baseball is \"he\".\n",
            "Most probable word in class rec.sport.hockey is \"ca\".\n",
            "Most probable word in class sci.crypt is \"clipper\".\n",
            "Most probable word in class sci.electronics is \"use\".\n",
            "Most probable word in class sci.med is \"reply\".\n",
            "Most probable word in class sci.space is \"space\".\n",
            "Most probable word in class soc.religion.christian is \"god\".\n",
            "Most probable word in class talk.politics.guns is \"people\".\n",
            "Most probable word in class talk.politics.mideast is \"people\".\n",
            "Most probable word in class talk.politics.misc is \"people\".\n",
            "Most probable word in class talk.religion.misc is \"he\".\n"
          ]
        }
      ],
      "source": [
        "# Check whether the most probable word in each class is reasonable\n",
        "\n",
        "most_probable_word_ix = theta.argmax(axis=1) # most probable word for each class\n",
        "\n",
        "for j, ix in enumerate(most_probable_word_ix):\n",
        "    print('Most probable word in class {} is \"{}\".'.format(\n",
        "        newsgroups_data['target_names'][j], inv_vocabulary[ix]))"
      ]
    },
    {
      "cell_type": "code",
      "execution_count": null,
      "metadata": {
        "id": "MbuJKX3yEOlp",
        "outputId": "15a711d8-1302-4707-8660-f8f9170b7e07",
        "colab": {
          "base_uri": "https://localhost:8080/"
        }
      },
      "outputs": [
        {
          "output_type": "execute_result",
          "data": {
            "text/plain": [
              "<tfp.distributions.Independent 'IndependentBernoulli' batch_shape=[20] event_shape=[56365] dtype=int32>"
            ]
          },
          "metadata": {},
          "execution_count": 26
        }
      ],
      "source": [
        "# Define a distribution for each class\n",
        "import tensorflow as tf\n",
        "import tensorflow_probability as tfp\n",
        "tf.random.set_seed(seed=42)\n",
        "\n",
        "batch_of_bernoullis = tfp.distributions.Bernoulli(probs=theta)\n",
        "p_x_given_y = tfp.distributions.Independent(\n",
        "    distribution=batch_of_bernoullis,\n",
        "    reinterpreted_batch_ndims=1)\n",
        "p_x_given_y"
      ]
    },
    {
      "cell_type": "code",
      "execution_count": null,
      "metadata": {
        "id": "aw9tpf1KEOlp",
        "outputId": "77d01ca1-8807-4fe0-dc09-f79539c802b5",
        "colab": {
          "base_uri": "https://localhost:8080/"
        }
      },
      "outputs": [
        {
          "output_type": "execute_result",
          "data": {
            "text/plain": [
              "TensorShape([3, 20, 56365])"
            ]
          },
          "metadata": {},
          "execution_count": 33
        }
      ],
      "source": [
        "# Take a sample of words from each class\n",
        "\n",
        "n_samples = 3\n",
        "sample = p_x_given_y.sample(sample_shape=n_samples)\n",
        "sample.shape"
      ]
    },
    {
      "cell_type": "code",
      "execution_count": null,
      "metadata": {
        "id": "IyXSufXREOlp",
        "outputId": "18ba9d4f-0a47-4135-8892-dafa93440e42",
        "colab": {
          "base_uri": "https://localhost:8080/",
          "height": 36
        }
      },
      "outputs": [
        {
          "output_type": "execute_result",
          "data": {
            "text/plain": [
              "'soc.religion.christian'"
            ],
            "application/vnd.google.colaboratory.intrinsic+json": {
              "type": "string"
            }
          },
          "metadata": {},
          "execution_count": 34
        }
      ],
      "source": [
        "# Choose a class\n",
        "\n",
        "chosen_class = 15\n",
        "newsgroups_data['target_names'][chosen_class]"
      ]
    },
    {
      "cell_type": "code",
      "execution_count": null,
      "metadata": {
        "id": "di0Hk16xEOlp",
        "outputId": "edd850fb-33b3-4272-8a2f-f5aca6f194ea",
        "colab": {
          "base_uri": "https://localhost:8080/"
        }
      },
      "outputs": [
        {
          "output_type": "execute_result",
          "data": {
            "text/plain": [
              "<tf.Tensor: shape=(3, 56365), dtype=int32, numpy=\n",
              "array([[1, 0, 0, ..., 0, 0, 0],\n",
              "       [0, 0, 0, ..., 0, 0, 0],\n",
              "       [0, 0, 0, ..., 0, 0, 0]], dtype=int32)>"
            ]
          },
          "metadata": {},
          "execution_count": 35
        }
      ],
      "source": [
        "# Indicators for words that appear in the sample\n",
        "\n",
        "class_sample = sample[:, chosen_class, :]\n",
        "class_sample"
      ]
    },
    {
      "cell_type": "code",
      "execution_count": null,
      "metadata": {
        "id": "EUioACErEOlp",
        "outputId": "d9ce302c-13ac-4f3e-b6ef-7bff659052ca",
        "collapsed": true,
        "colab": {
          "base_uri": "https://localhost:8080/"
        }
      },
      "outputs": [
        {
          "output_type": "execute_result",
          "data": {
            "text/plain": [
              "[array(['00', '13', 'able', 'ac', 'act', 'adam', 'advanced', 'after',\n",
              "        'also', 'am', 'andrew', 'anything', 'apple', 'assumed', 'athena',\n",
              "        'atlastele', 'believe', 'believing', 'brings', 'call', 'car',\n",
              "        'care', 'causal', 'century', 'champions', 'change', 'christ',\n",
              "        'christians', 'church', 'clh', 'colour', 'combine', 'conflicts',\n",
              "        'criticism', 'cs', 'daily', 'data', 'decided', 'deeds', 'did',\n",
              "        'dimming', 'direct', 'doubly', 'driving', 'everything', 'evils',\n",
              "        'example', 'except', 'explanation', 'explicitly', 'exploitation',\n",
              "        'faith', 'feel', 'few', 'forever', 'further', 'geoff', 'great',\n",
              "        'greatest', 'he', 'heart', 'homosexuals', 'husband', 'imnsho',\n",
              "        'imo', 'individual', 'inherently', 'intimidating', 'invites',\n",
              "        'jbuddenberg', 'jeezus', 'jerryb', 'joe', 'jungles', 'latin',\n",
              "        'lewis', 'lifting', 'make', 'martyn', 'mean', 'meaningful',\n",
              "        'message', 'mind', 'moment', 'monopoly', 'morals', 'mot', 'now',\n",
              "        'oblivious', 'off', 'offered', 'oh', 'oriental', 'over',\n",
              "        'pantheism', 'people', 'please', 'policy', 'problem', 'produce',\n",
              "        'prostitutes', 'provide', 'radio', 'real', 'recognisable',\n",
              "        'rejecting', 'religions', 'robertson', 'said', 'say', 'says',\n",
              "        'secrecy', 'secret', 'server', 'shrine', 'silent', 'st', 'state',\n",
              "        'stated', 'still', 'sure', 'talk', 'tammy', 'tell', 'test',\n",
              "        'their', 'therefore', 'these', 'think', 'time', 'trust', 'try',\n",
              "        'twist', 'universal', 'us', 'used', 've', 'view', 'waco', 'way',\n",
              "        'well', 'why', 'william', 'writings', 'yet'], dtype='<U80'),\n",
              " array(['1400', '19', '_some_', 'address', 'also', 'am', 'anything',\n",
              "        'anyway', 'apparent', 'apple', 'athos', 'author', 'beautiful',\n",
              "        'believe', 'bless', 'cases', 'christian', 'christians', 'college',\n",
              "        'columbia', 'comes', 'convenience', 'conversations', 'converted',\n",
              "        'cost', 'could', 'course', 'covered', 'deletia', 'discussed',\n",
              "        'distinguish', 'doctrine', 'dr', 'drifting', 'effective', 'either',\n",
              "        'engineering', 'epistles', 'faith', 'familiar', 'feminine', 'find',\n",
              "        'five', 'forsaking', 'frightening', 'frustrating', 'gboro',\n",
              "        'genesis', 'good', 'gospel', 'grade', 'greek', 'guidance', 'had',\n",
              "        'having', 'he', 'here', 'history', 'hymn', 'idiocy', 'impact',\n",
              "        'intercourse', 'jn', 'knew', 'knowledge', 'less', 'let', 'light',\n",
              "        'limited', 'living', 'make', 'mankind', 'mark', 'married',\n",
              "        'matter', 'mind', 'mohammad', 'much', 'need', 'ofm', 'okay',\n",
              "        'order', 'our', 'point', 'politics', 'power', 'preparing',\n",
              "        'primary', 'printing', 'purposes', 'puts', 'race', 'rallying',\n",
              "        'rationalizations', 'regarding', 'religion', 'reply', 'research',\n",
              "        'return', 'revdak', 'rolfe', 'run', 'sadistic', 'says', 'scenic',\n",
              "        'see', 'seeing', 'sermon', 'shared', 'should', 'showing', 'sight',\n",
              "        'silver', 'simplistic', 'since', 'sinner', 'software', 'something',\n",
              "        'standard', 'startling', 'stuck', 'suggest', 'supernatural',\n",
              "        'talking', 'tellabs', 'then', 'things', 'think', 'thought',\n",
              "        'treat', 'unisa', 'unprovable', 'use', 'validity', 'were', 'why',\n",
              "        'wide', 'without', 'yet', 'youngstown'], dtype='<U80'),\n",
              " array(['05', '17', '1993', 'also', 'aries', 'asking', 'athos', 'baker',\n",
              "        'basic', 'beast', 'body', 'borrowed', 'brown', 'careful', 'choice',\n",
              "        'cmu', 'come', 'concerned', 'convention', 'convincing', 'could',\n",
              "        'dangerous', 'day', 'debate', 'defined', 'describe', 'did',\n",
              "        'different', 'down', 'dying', 'eashtar', 'elements', 'established',\n",
              "        'events', 'excellent', 'familiar', 'few', 'first', 'found',\n",
              "        'gathered', 'god', 'having', 'hebrew', 'him', 'holy', 'hour',\n",
              "        'however', 'humans', 'infallible', 'irrelevant', 'join', 'known',\n",
              "        'laboratory', 'listed', 'made', 'male', 'matters',\n",
              "        'moorcockpratchettdenislearydelasoulu2iainmbanksneworderheathersbatmanpjorourke',\n",
              "        'necessarily', 'noted', 'nowadays', 'oh', 'paul', 'people',\n",
              "        'persist', 'phil', 'plague', 'presents', 'press', 'protestant',\n",
              "        'read', 'really', 'renewals', 'reply', 'revelation', 'rutgers',\n",
              "        'said', 'screen', 'see', 'seems', 'she', 'short', 'should', 'spot',\n",
              "        'statues', 'still', 'strict', 'suggesting', 'sundays', 'sydney',\n",
              "        'tend', 'than', 'them', 'then', 'things', 'time', 'topic',\n",
              "        'traditional', 'tried', 'undermining', 'unlike', 'upon', 'use',\n",
              "        'using', 'verification', 'vi', 'whether', 'withhold', 'woman'],\n",
              "       dtype='<U80')]"
            ]
          },
          "metadata": {},
          "execution_count": 36
        }
      ],
      "source": [
        "# Perform inverse transform to test quality of fit\n",
        "\n",
        "count_vectorizer.inverse_transform(X=class_sample)"
      ]
    },
    {
      "cell_type": "markdown",
      "metadata": {
        "id": "z9R6cBaSEOlq"
      },
      "source": [
        "***\n",
        "<a id='sampling_and_log_probs'></a>\n",
        "## Sampling and log probs"
      ]
    },
    {
      "cell_type": "code",
      "execution_count": null,
      "metadata": {
        "id": "YUhFwZRcEOlq",
        "outputId": "47faa394-6365-4878-c38e-d40fc355c8da",
        "colab": {
          "base_uri": "https://localhost:8080/"
        }
      },
      "outputs": [
        {
          "output_type": "stream",
          "name": "stdout",
          "text": [
            "tfp.distributions.Exponential(\"Exponential\", batch_shape=[2, 3], event_shape=[], dtype=float32)\n"
          ]
        }
      ],
      "source": [
        "import tensorflow as tf\n",
        "import tensorflow_probability as tfp\n",
        "tf.random.set_seed(seed=42)\n",
        "\n",
        "exp = tfp.distributions.Exponential(rate=[\n",
        "    [1., 1.5, 0.8], [0.3, 0.4, 1.8]])\n",
        "print(exp)"
      ]
    },
    {
      "cell_type": "code",
      "execution_count": null,
      "metadata": {
        "id": "awJlbHbHEOlq",
        "outputId": "878fe3c5-af7b-4929-b18d-6b2fe30c7e76",
        "colab": {
          "base_uri": "https://localhost:8080/"
        }
      },
      "outputs": [
        {
          "output_type": "stream",
          "name": "stdout",
          "text": [
            "tfp.distributions.Independent(\"IndependentExponential\", batch_shape=[2], event_shape=[3], dtype=float32)\n"
          ]
        },
        {
          "output_type": "execute_result",
          "data": {
            "text/plain": [
              "<tf.Tensor: shape=(2, 2, 3), dtype=float32, numpy=\n",
              "array([[[4.390422  , 2.7434108 , 0.16488166],\n",
              "        [0.350755  , 2.5880651 , 0.47506964]],\n",
              "\n",
              "       [[0.4321561 , 0.13574268, 0.583718  ],\n",
              "        [3.170536  , 1.0395374 , 0.5139488 ]]], dtype=float32)>"
            ]
          },
          "metadata": {},
          "execution_count": 38
        }
      ],
      "source": [
        "import tensorflow as tf\n",
        "import tensorflow_probability as tfp\n",
        "tf.random.set_seed(seed=42)\n",
        "\n",
        "ind_exp = tfp.distributions.Independent(\n",
        "    distribution=exp,\n",
        "    reinterpreted_batch_ndims=1)\n",
        "print(ind_exp)\n",
        "ind_exp.sample(sample_shape=2)"
      ]
    },
    {
      "cell_type": "code",
      "execution_count": null,
      "metadata": {
        "scrolled": true,
        "id": "P6DA4uaDEOlq",
        "outputId": "f3185e6f-212b-4214-dbe8-00d96b363057",
        "colab": {
          "base_uri": "https://localhost:8080/"
        }
      },
      "outputs": [
        {
          "output_type": "stream",
          "name": "stdout",
          "text": [
            "tfp.distributions.Exponential(\"Exponential\", batch_shape=[2, 1, 2, 3], event_shape=[], dtype=float32)\n",
            "tfp.distributions.Independent(\"IndependentExponential\", batch_shape=[2, 1], event_shape=[2, 3], dtype=float32)\n"
          ]
        },
        {
          "output_type": "execute_result",
          "data": {
            "text/plain": [
              "<tf.Tensor: shape=(1, 2, 2, 1, 2, 3), dtype=float32, numpy=\n",
              "array([[[[[[4.390422  , 2.7434108 , 0.16488166],\n",
              "           [0.350755  , 2.5880651 , 0.47506964]]],\n",
              "\n",
              "\n",
              "         [[[2.1607804 , 0.509035  , 0.33355314],\n",
              "           [2.377902  , 0.3780136 , 1.0278976 ]]]],\n",
              "\n",
              "\n",
              "\n",
              "        [[[[1.3008142 , 0.48861936, 0.7021911 ],\n",
              "           [1.7356492 , 0.56099427, 0.03281716]]],\n",
              "\n",
              "\n",
              "         [[[1.0566992 , 1.0262859 , 1.4059678 ],\n",
              "           [4.470804  , 1.1790168 , 3.7518804 ]]]]]], dtype=float32)>"
            ]
          },
          "metadata": {},
          "execution_count": 40
        }
      ],
      "source": [
        "import tensorflow as tf\n",
        "import tensorflow_probability as tfp\n",
        "tf.random.set_seed(seed=42)\n",
        "\n",
        "rates = [\n",
        "    [[[1., 1.5, 0.8], [0.3, 0.4, 1.8]]],\n",
        "    [[[0.2, 0.4, 1.4], [0.4, 1.1, 0.9]]]\n",
        "]\n",
        "exp = tfp.distributions.Exponential(rate=rates)\n",
        "print(exp)\n",
        "\n",
        "ind_exp = tfp.distributions.Independent(\n",
        "    distribution=exp,\n",
        "    reinterpreted_batch_ndims=2)\n",
        "print(ind_exp)\n",
        "\n",
        "ind_exp.sample(sample_shape=[1, 2])"
      ]
    },
    {
      "cell_type": "code",
      "execution_count": null,
      "metadata": {
        "id": "FWczsIVVEOlr",
        "outputId": "7996b85b-5d10-4f11-a96c-cd2bf402a609",
        "colab": {
          "base_uri": "https://localhost:8080/"
        }
      },
      "outputs": [
        {
          "output_type": "execute_result",
          "data": {
            "text/plain": [
              "<tf.Tensor: shape=(2, 1), dtype=float32, numpy=\n",
              "array([[-4.2501554],\n",
              "       [-5.3155975]], dtype=float32)>"
            ]
          },
          "metadata": {},
          "execution_count": 41
        }
      ],
      "source": [
        "ind_exp.log_prob(value=0.5)"
      ]
    },
    {
      "cell_type": "code",
      "execution_count": null,
      "metadata": {
        "id": "DivqcogfEOlr",
        "outputId": "e83b19d7-af3e-4655-9150-bf71437ead11",
        "colab": {
          "base_uri": "https://localhost:8080/"
        }
      },
      "outputs": [
        {
          "output_type": "execute_result",
          "data": {
            "text/plain": [
              "<tf.Tensor: shape=(2, 1), dtype=float32, numpy=\n",
              "array([[-4.7701554],\n",
              "       [-5.885597 ]], dtype=float32)>"
            ]
          },
          "metadata": {},
          "execution_count": 42
        }
      ],
      "source": [
        "ind_exp.log_prob(value=[[0.3, 0.5, 0.8]])"
      ]
    },
    {
      "cell_type": "code",
      "execution_count": null,
      "metadata": {
        "id": "_U8DtRbhEOlr",
        "outputId": "36253325-5bd3-429e-9d4c-6eed146f1c2d",
        "colab": {
          "base_uri": "https://localhost:8080/"
        }
      },
      "outputs": [
        {
          "output_type": "execute_result",
          "data": {
            "text/plain": [
              "<tf.Tensor: shape=(2, 2, 1), dtype=float32, numpy=\n",
              "array([[[-4.6457276],\n",
              "        [-5.5031376]],\n",
              "\n",
              "       [[-3.6758742],\n",
              "        [-4.936121 ]]], dtype=float32)>"
            ]
          },
          "metadata": {},
          "execution_count": 43
        }
      ],
      "source": [
        "import tensorflow as tf\n",
        "tf.random.set_seed(seed=42)\n",
        "\n",
        "ind_exp.log_prob(value=tf.random.uniform(shape=(2, 1, 1, 2, 1)))"
      ]
    },
    {
      "cell_type": "code",
      "execution_count": null,
      "metadata": {
        "id": "SnKdI8kEEOls",
        "outputId": "a319ec0f-8504-4315-eb86-ea4b6110a256",
        "colab": {
          "base_uri": "https://localhost:8080/"
        }
      },
      "outputs": [
        {
          "output_type": "execute_result",
          "data": {
            "text/plain": [
              "<tfp.distributions.MultivariateNormalDiag 'MultivariateNormalDiag' batch_shape=[3] event_shape=[2] dtype=float32>"
            ]
          },
          "metadata": {},
          "execution_count": 44
        }
      ],
      "source": [
        "# Make Multivariate Distribution\n",
        "import tensorflow as tf\n",
        "import tensorflow_probability as tfp\n",
        "tf.random.set_seed(seed=42)\n",
        "\n",
        "normal_distributions = tfp.distributions.MultivariateNormalDiag(\n",
        "    loc=[[0.5, 1.], [0.1, 0.], [0., 0.2]],\n",
        "    scale_diag=[[2., 3.], [1., 3.], [4., 4.]])\n",
        "normal_distributions"
      ]
    },
    {
      "cell_type": "code",
      "execution_count": null,
      "metadata": {
        "id": "98G_o7YVEOls",
        "outputId": "b698a2bf-a5dc-413c-8650-7b02be00e324",
        "colab": {
          "base_uri": "https://localhost:8080/"
        }
      },
      "outputs": [
        {
          "output_type": "execute_result",
          "data": {
            "text/plain": [
              "<tf.Tensor: shape=(2, 3, 2), dtype=float32, numpy=\n",
              "array([[[ 1.154937  , -3.2226558 ],\n",
              "        [-0.7426258 , -7.16418   ],\n",
              "        [ 1.2777348 , -3.9569914 ]],\n",
              "\n",
              "       [[-0.61464643,  1.8668096 ],\n",
              "        [ 0.639707  , -4.5198345 ],\n",
              "        [ 6.797729  , -0.85818976]]], dtype=float32)>"
            ]
          },
          "metadata": {},
          "execution_count": 45
        }
      ],
      "source": [
        "# Sample\n",
        "\n",
        "normal_distributions.sample(sample_shape=2)"
      ]
    },
    {
      "cell_type": "code",
      "execution_count": null,
      "metadata": {
        "id": "bq4lPzt5EOls",
        "outputId": "799b5da1-c353-455c-a07c-767837a04404",
        "colab": {
          "base_uri": "https://localhost:8080/"
        }
      },
      "outputs": [
        {
          "output_type": "execute_result",
          "data": {
            "text/plain": [
              "<tfp.distributions.MultivariateNormalDiag 'MultivariateNormalDiag' batch_shape=[2, 2] event_shape=[3] dtype=float32>"
            ]
          },
          "metadata": {},
          "execution_count": 46
        }
      ],
      "source": [
        "# Multivariate Normal batched Distribution\n",
        "# We are broadcasting batch shapes of `loc` and `scal_diag`\n",
        "# against each other\n",
        "import tensorflow as tf\n",
        "import tensorflow_probability as tfp\n",
        "tf.random.set_seed(seed=42)\n",
        "\n",
        "loc = [\n",
        "    [[0.3, 1.5, 1.], [0.2, 0.4, 2.8]],\n",
        "    [[2., 2.3, 8.], [1.4, 1., 1.3]]\n",
        "]\n",
        "scale_diag = [0.4, 1., 0.7]\n",
        "normal_distributions = tfp.distributions.MultivariateNormalDiag(\n",
        "    loc=loc, scale_diag=scale_diag)\n",
        "normal_distributions"
      ]
    },
    {
      "cell_type": "code",
      "execution_count": null,
      "metadata": {
        "id": "v3gXemB3EOls",
        "outputId": "0f7d4edb-4ca2-4f1e-8dac-32cb3025c5b4",
        "colab": {
          "base_uri": "https://localhost:8080/"
        }
      },
      "outputs": [
        {
          "output_type": "execute_result",
          "data": {
            "text/plain": [
              "<tfp.distributions.Independent 'IndependentMultivariateNormalDiag' batch_shape=[2] event_shape=[2, 3] dtype=float32>"
            ]
          },
          "metadata": {},
          "execution_count": 47
        }
      ],
      "source": [
        "# Use independent to move part of the batch shape\n",
        "import tensorflow as tf\n",
        "import tensorflow_probability as tfp\n",
        "tf.random.set_seed(seed=42)\n",
        "\n",
        "ind_normal_distributions = tfp.distributions.Independent(\n",
        "    distribution=normal_distributions,\n",
        "    reinterpreted_batch_ndims=1)\n",
        "ind_normal_distributions"
      ]
    },
    {
      "cell_type": "code",
      "execution_count": null,
      "metadata": {
        "id": "5nOGO3b5EOlt",
        "outputId": "b9a5652a-2426-4ccf-8a1e-0d0924672043",
        "colab": {
          "base_uri": "https://localhost:8080/"
        }
      },
      "outputs": [
        {
          "output_type": "execute_result",
          "data": {
            "text/plain": [
              "TensorShape([2, 2, 2, 3])"
            ]
          },
          "metadata": {},
          "execution_count": 48
        }
      ],
      "source": [
        "# Draw some samples\n",
        "\n",
        "samples = ind_normal_distributions.sample(sample_shape=2)\n",
        "samples.shape"
      ]
    },
    {
      "cell_type": "code",
      "execution_count": null,
      "metadata": {
        "id": "aKGkvf5KEOlt",
        "outputId": "bff6c224-116d-48cd-8a8f-bda48de32a11",
        "colab": {
          "base_uri": "https://localhost:8080/"
        }
      },
      "outputs": [
        {
          "output_type": "execute_result",
          "data": {
            "text/plain": [
              "<tf.Tensor: shape=(2,), dtype=float32, numpy=array([ -9.222699, -75.51625 ], dtype=float32)>"
            ]
          },
          "metadata": {},
          "execution_count": 53
        }
      ],
      "source": [
        "# `[B, E]` shaped input\n",
        "import tensorflow as tf\n",
        "tf.random.set_seed(seed=42)\n",
        "\n",
        "inp = tf.random.uniform(shape=(2, 2, 3))\n",
        "ind_normal_distributions.log_prob(value=inp)"
      ]
    },
    {
      "cell_type": "code",
      "execution_count": null,
      "metadata": {
        "id": "GbOcsq91EOlt",
        "outputId": "74ce20d6-13b8-45e0-99c5-141329bd22a3",
        "colab": {
          "base_uri": "https://localhost:8080/"
        }
      },
      "outputs": [
        {
          "output_type": "execute_result",
          "data": {
            "text/plain": [
              "<tf.Tensor: shape=(2,), dtype=float32, numpy=array([ -9.222699, -73.52882 ], dtype=float32)>"
            ]
          },
          "metadata": {},
          "execution_count": 50
        }
      ],
      "source": [
        "# `[E]` shaped input (broadcasting over batch size)\n",
        "import tensorflow as tf\n",
        "tf.random.set_seed(seed=42)\n",
        "\n",
        "inp = tf.random.uniform(shape=(2, 3))\n",
        "ind_normal_distributions.log_prob(value=inp)"
      ]
    },
    {
      "cell_type": "code",
      "execution_count": null,
      "metadata": {
        "id": "k_it1hheEOlu",
        "outputId": "c2fa4c78-e5cc-440f-fe08-2a4da1f32901",
        "colab": {
          "base_uri": "https://localhost:8080/"
        }
      },
      "outputs": [
        {
          "output_type": "execute_result",
          "data": {
            "text/plain": [
              "<tf.Tensor: shape=(3, 2), dtype=float32, numpy=\n",
              "array([[ -9.222699, -75.51625 ],\n",
              "       [-10.597289, -68.01531 ],\n",
              "       [ -9.994885, -64.986275]], dtype=float32)>"
            ]
          },
          "metadata": {},
          "execution_count": 54
        }
      ],
      "source": [
        "#`[S, B, E]` shaped input (broadcasting over samples)\n",
        "import tensorflow as tf\n",
        "tf.random.set_seed(seed=42)\n",
        "\n",
        "inp = tf.random.uniform(shape=(3, 2, 2, 3))\n",
        "ind_normal_distributions.log_prob(value=inp)"
      ]
    },
    {
      "cell_type": "code",
      "execution_count": null,
      "metadata": {
        "id": "F8LLI2EoEOlu",
        "outputId": "f3674fb6-c2e0-4a29-c6ef-f9e0e44a9c7c",
        "colab": {
          "base_uri": "https://localhost:8080/"
        }
      },
      "outputs": [
        {
          "output_type": "execute_result",
          "data": {
            "text/plain": [
              "<tf.Tensor: shape=(3, 2), dtype=float32, numpy=\n",
              "array([[ -9.707594, -68.568054],\n",
              "       [ -9.848323, -76.604   ],\n",
              "       [-10.557857, -84.411476]], dtype=float32)>"
            ]
          },
          "metadata": {},
          "execution_count": 55
        }
      ],
      "source": [
        "# `[S, b, e]` shaped input, where [b, e] is broadcastable over [B, E]\n",
        "import tensorflow as tf\n",
        "tf.random.set_seed(seed=42)\n",
        "\n",
        "inp = tf.random.uniform(shape=(3, 1, 2, 1))\n",
        "ind_normal_distributions.log_prob(value=inp)"
      ]
    },
    {
      "cell_type": "markdown",
      "metadata": {
        "id": "G-R5KITkEOlv"
      },
      "source": [
        "#### Naive Bayes example\n",
        "\n",
        "Lets now use what we have learned and continue the Naive Bayes classifier we were building last tutorial."
      ]
    },
    {
      "cell_type": "code",
      "execution_count": null,
      "metadata": {
        "id": "TBGwx7u4EOlv"
      },
      "outputs": [],
      "source": [
        "# Making a function get_data which:\n",
        "#   1) Fetches the 20 newsgroup dataset\n",
        "#   2) Performs a word count on the articles and binarizes the result\n",
        "#   3) Returns the data as a numpy matrix with the labels\n",
        "from sklearn import datasets\n",
        "from sklearn.feature_extraction import text\n",
        "\n",
        "def get_data(categories):\n",
        "    newsgroups_train_data = datasets.fetch_20newsgroups(\n",
        "        data_home='20_Newsgroup_Data/',\n",
        "        subset='train', categories=categories)\n",
        "    newsgroups_test_data = datasets.fetch_20newsgroups(\n",
        "        data_home='20_Newsgroup_Data/',\n",
        "        subset='test', categories=categories)\n",
        "\n",
        "    n_documents = len(newsgroups_train_data['data'])\n",
        "    count_vectorizer = text.CountVectorizer(input='content',\n",
        "        binary=True, max_df=0.25, min_df=1.01/n_documents)\n",
        "\n",
        "    train_binary_bag_of_words = count_vectorizer.fit_transform(\n",
        "        raw_documents=newsgroups_train_data['data'])\n",
        "    test_binary_bag_of_words = count_vectorizer.transform(\n",
        "        raw_documents=newsgroups_test_data['data'])\n",
        "\n",
        "    return (train_binary_bag_of_words.todense(),\n",
        "            newsgroups_train_data['target']), \\\n",
        "        (test_binary_bag_of_words.todense(),\n",
        "            newsgroups_test_data['target'])"
      ]
    },
    {
      "cell_type": "code",
      "execution_count": null,
      "metadata": {
        "id": "obM-O9lcEOlv"
      },
      "outputs": [],
      "source": [
        "# Defining a function to conduct Laplace smoothing. This adds a base\n",
        "# level of probability for a given feature to occur in every class.\n",
        "import numpy as np\n",
        "\n",
        "def laplace_smoothing(labels, binary_data, n_classes):\n",
        "    # Compute the parameter estimates (adjusted fraction of documents\n",
        "    # in class that contain word)\n",
        "    n_words = binary_data.shape[1]\n",
        "    alpha = 1 # parameters for Laplace smoothing\n",
        "    # stores parameter values - prob. word given class\n",
        "    theta = np.zeros(shape=(n_classes, n_words))\n",
        "    for c_k in range(n_classes): # 0, 1, ..., 19\n",
        "        class_mask = (labels == c_k)\n",
        "        N = class_mask.sum() # number of articles in class\n",
        "        theta[c_k, :] = (binary_data[class_mask, :].sum(axis=0)\n",
        "            + alpha)/(N + alpha*2)\n",
        "\n",
        "    return theta"
      ]
    },
    {
      "cell_type": "code",
      "execution_count": null,
      "metadata": {
        "id": "fNz5KnpbEOlv"
      },
      "outputs": [],
      "source": [
        "# Getting a subset of the 20 newsgroup dataset\n",
        "\n",
        "categories = ['alt.atheism', 'talk.religion.misc', 'comp.graphics',\n",
        "    'sci.space']\n",
        "\n",
        "(train_data, train_labels), (test_data, test_labels) = get_data(\n",
        "    categories=categories)\n",
        "smoothed_counts = laplace_smoothing(labels=train_labels,\n",
        "    binary_data=train_data, n_classes=len(categories))"
      ]
    },
    {
      "cell_type": "markdown",
      "metadata": {
        "id": "XAqHbHmGEOlw"
      },
      "source": [
        "To now make our NB classifier we need to build three functions:\n",
        "* Compute the class priors\n",
        "* Build our class conditional distributions\n",
        "* Put it all together and classify our data"
      ]
    },
    {
      "cell_type": "code",
      "execution_count": null,
      "metadata": {
        "id": "DMfF9edLEOlw"
      },
      "outputs": [],
      "source": [
        "# Function which computes the prior probability of every class\n",
        "# based on frequency of occurence in the dataset\n",
        "import numpy as np\n",
        "\n",
        "def class_priors(n_classes, labels):\n",
        "    counts = np.zeros(shape=n_classes)\n",
        "    for c_k in range(n_classes):\n",
        "        counts[c_k] = np.sum(np.where(labels==c_k, 1, 0))\n",
        "    priors = counts / np.sum(counts)\n",
        "    print('The class priors are {}'.format(priors))\n",
        "    return priors"
      ]
    },
    {
      "cell_type": "code",
      "execution_count": null,
      "metadata": {
        "id": "vAo7APT0EOlw",
        "outputId": "6c3b6f33-a91e-4659-a8e0-2ead2fea532a",
        "colab": {
          "base_uri": "https://localhost:8080/"
        }
      },
      "outputs": [
        {
          "output_type": "stream",
          "name": "stdout",
          "text": [
            "The class priors are [0.2359882  0.28711898 0.29154376 0.18534907]\n"
          ]
        }
      ],
      "source": [
        "# Run the function\n",
        "\n",
        "priors = class_priors(n_classes=len(categories), labels=train_labels)"
      ]
    },
    {
      "cell_type": "code",
      "execution_count": null,
      "metadata": {
        "id": "K4UVMLl3EOlw",
        "outputId": "cb971d5f-3022-4481-c210-4dcb8865f5e6",
        "colab": {
          "base_uri": "https://localhost:8080/"
        }
      },
      "outputs": [
        {
          "output_type": "execute_result",
          "data": {
            "text/plain": [
              "<tfp.distributions.Independent 'IndependentBernoulli' batch_shape=[4] event_shape=[17495] dtype=int32>"
            ]
          },
          "metadata": {},
          "execution_count": 6
        }
      ],
      "source": [
        "# Now we will do a function that given the feature occurence counts\n",
        "# returns a Bernoulli distribution of batch_shape=number of classes\n",
        "# and event_shape=number of features.\n",
        "import tensorflow as tf\n",
        "import tensorflow_probability as tfp\n",
        "tf.random.set_seed(seed=42)\n",
        "\n",
        "def make_distribution(probs):\n",
        "    batch_of_bernoullis = tfp.distributions.Bernoulli(probs=probs)\n",
        "    dist = tfp.distributions.Independent(\n",
        "        distribution=batch_of_bernoullis,\n",
        "        reinterpreted_batch_ndims=1)\n",
        "\n",
        "    return dist\n",
        "\n",
        "tf_dist = make_distribution(smoothed_counts)\n",
        "tf_dist"
      ]
    },
    {
      "cell_type": "code",
      "execution_count": null,
      "metadata": {
        "id": "v9mQRQOQEOlw"
      },
      "outputs": [],
      "source": [
        "# The final function predict_sample which given the distribution,\n",
        "#  a test sample, and the class priors:\n",
        "#   1) Computes the class conditional probabilities given the sample\n",
        "#   2) Forms the joint likelihood\n",
        "#   3) Normalises the joint likelihood and returns the log prob\n",
        "import tensorflow as tf\n",
        "tf.random.set_seed(seed=42)\n",
        "\n",
        "def predict_sample(dist, sample, priors):\n",
        "    cond_probs = dist.log_prob(value=sample)\n",
        "    priors = tf.math.log(x=tf.convert_to_tensor(\n",
        "        value=priors, dtype=tf.float32))\n",
        "    joint_likelihood = tf.math.add(x=priors, y=cond_probs)\n",
        "    norm_factor = tf.math.reduce_logsumexp(\n",
        "        input_tensor=joint_likelihood, axis=-1, keepdims=True)\n",
        "    log_prob = joint_likelihood - norm_factor\n",
        "\n",
        "    return log_prob"
      ]
    },
    {
      "cell_type": "markdown",
      "metadata": {
        "id": "mjWGiGXsEOlx"
      },
      "source": [
        "#### Computing log_probs"
      ]
    },
    {
      "cell_type": "code",
      "execution_count": null,
      "metadata": {
        "id": "E-qex0hqEOlx",
        "outputId": "fb8617f5-5d36-4d9d-fe14-ae8b9740a1a4",
        "colab": {
          "base_uri": "https://localhost:8080/"
        }
      },
      "outputs": [
        {
          "output_type": "execute_result",
          "data": {
            "text/plain": [
              "<tf.Tensor: shape=(4,), dtype=float32, numpy=\n",
              "array([-6.1736267e+01, -1.5258789e-05, -1.1619873e+01, -6.3327835e+01],\n",
              "      dtype=float32)>"
            ]
          },
          "metadata": {},
          "execution_count": 8
        }
      ],
      "source": [
        "# Predicting one example from our test data\n",
        "\n",
        "log_probs = predict_sample(dist=tf_dist,\n",
        "    sample=test_data[0], priors=priors)\n",
        "log_probs"
      ]
    },
    {
      "cell_type": "code",
      "execution_count": null,
      "metadata": {
        "id": "0t0WA-OVEOlx",
        "colab": {
          "base_uri": "https://localhost:8080/"
        },
        "outputId": "1912358d-24f7-438f-b812-7815c138677a"
      },
      "outputs": [
        {
          "output_type": "stream",
          "name": "stdout",
          "text": [
            "f1: 0.7848499112849505\n"
          ]
        }
      ],
      "source": [
        "# Loop over our test data and classify.\n",
        "import tensorflow as tf\n",
        "tf.random.set_seed(seed=42)\n",
        "import numpy as np\n",
        "from sklearn import metrics\n",
        "\n",
        "probabilities = []\n",
        "for sample, label in zip(test_data, test_labels):\n",
        "    probabilities.append(tf.math.exp(x=predict_sample(\n",
        "        dist=tf_dist, sample=sample, priors=priors)))\n",
        "\n",
        "probabilities = np.asarray(a=probabilities)\n",
        "predicted_classes = np.argmax(a=probabilities, axis=-1)\n",
        "print('f1:', metrics.f1_score(y_true=test_labels,\n",
        "    y_pred=predicted_classes, average='macro'))"
      ]
    },
    {
      "cell_type": "code",
      "execution_count": null,
      "metadata": {
        "id": "7EG9GcTtEOlx",
        "outputId": "6fdaf08d-4914-4445-dc75-e59f88f6c5d4",
        "colab": {
          "base_uri": "https://localhost:8080/"
        }
      },
      "outputs": [
        {
          "output_type": "stream",
          "name": "stdout",
          "text": [
            "f1 from sklean 0.7848499112849505\n"
          ]
        }
      ],
      "source": [
        "# Make a Bernoulli Naive Bayes classifier using\n",
        "# sklearn with the same level of alpha smoothing.\n",
        "from sklearn import naive_bayes, metrics\n",
        "\n",
        "clf = naive_bayes.BernoulliNB(alpha=1.)\n",
        "clf.fit(X=np.asarray(a=train_data), y=train_labels)\n",
        "pred = clf.predict(X=np.asarray(a=test_data))\n",
        "print('f1 from sklean', metrics.f1_score(\n",
        "    y_true=test_labels, y_pred=pred, average='macro'))"
      ]
    },
    {
      "cell_type": "markdown",
      "metadata": {
        "id": "fbzLkp4REOly"
      },
      "source": [
        "***\n",
        "<a id='trainable_distributions'></a>\n",
        "## Trainable Distributions"
      ]
    },
    {
      "cell_type": "code",
      "execution_count": null,
      "metadata": {
        "id": "JvfvKoZNEOly",
        "outputId": "7de9ce22-935f-43b7-8eae-e730ba81aebb",
        "colab": {
          "base_uri": "https://localhost:8080/"
        }
      },
      "outputs": [
        {
          "output_type": "stream",
          "name": "stdout",
          "text": [
            "(<tf.Variable 'loc:0' shape=() dtype=float32, numpy=0.0>,)\n",
            "loss=1.761671, loc=0.04283759\n",
            "loss=1.725887, loc=0.0835333\n",
            "loss=1.693592, loc=0.12219423\n",
            "loss=1.664446, loc=0.1589221\n",
            "loss=1.638142, loc=0.19381359\n",
            "loss=1.614402, loc=0.22696051\n",
            "loss=1.592977, loc=0.2584501\n",
            "loss=1.573641, loc=0.2883652\n",
            "loss=1.556190, loc=0.31678453\n",
            "loss=1.540441, loc=0.3437829\n"
          ]
        }
      ],
      "source": [
        "import tensorflow as tf\n",
        "import tensorflow_probability as tfp\n",
        "tf.random.set_seed(seed=42)\n",
        "\n",
        "normal = tfp.distributions.Normal(\n",
        "    loc=tf.Variable(initial_value=0., name='loc'), scale=1.)\n",
        "print(normal.trainable_variables)\n",
        "\n",
        "def nll(x):\n",
        "    return -tf.math.reduce_mean(\n",
        "        input_tensor=normal.log_prob(value=x))\n",
        "\n",
        "@tf.function\n",
        "def get_loss_and_grads(x):\n",
        "    with tf.GradientTape() as tape:\n",
        "        tape.watch(tensor=normal.trainable_variables)\n",
        "        loss = nll(x=x)\n",
        "    grads = tape.gradient(target=loss,\n",
        "        sources=normal.trainable_variables)\n",
        "    return loss, grads\n",
        "\n",
        "optimizer = tf.keras.optimizers.SGD(learning_rate=0.05)\n",
        "\n",
        "x = tf.random.normal(shape=(100,), mean=1.)\n",
        "for _ in range(10):\n",
        "    loss, grads = get_loss_and_grads(x=x)\n",
        "    optimizer.apply_gradients(grads_and_vars=zip(\n",
        "        grads, normal.trainable_variables))\n",
        "    print(\"loss=%f, loc=%s\"%(loss.numpy(), normal.loc.numpy()))"
      ]
    },
    {
      "cell_type": "code",
      "execution_count": null,
      "metadata": {
        "id": "mgGjhJpkEOly"
      },
      "outputs": [],
      "source": [
        "# Define an exponential distribution\n",
        "import tensorflow as tf\n",
        "import tensorflow_probability as tfp\n",
        "tf.random.set_seed(seed=42)\n",
        "\n",
        "exponential = tfp.distributions.Exponential(rate=0.3, name='exp')"
      ]
    },
    {
      "cell_type": "code",
      "execution_count": null,
      "metadata": {
        "id": "vd7KImJqEOly",
        "outputId": "973510b2-9160-434d-face-51bcd10da4bf",
        "colab": {
          "base_uri": "https://localhost:8080/",
          "height": 430
        }
      },
      "outputs": [
        {
          "output_type": "display_data",
          "data": {
            "text/plain": [
              "<Figure size 640x480 with 1 Axes>"
            ],
            "image/png": "[encoded data removed]"
          },
          "metadata": {}
        }
      ],
      "source": [
        "# Plot\n",
        "import matplotlib.pyplot as plt\n",
        "\n",
        "plt.hist(x=exponential.sample(sample_shape=5000),\n",
        "    bins=100, density=True)\n",
        "plt.show()"
      ]
    },
    {
      "cell_type": "code",
      "execution_count": null,
      "metadata": {
        "id": "QPOBe9w8EOly",
        "outputId": "bf75576b-d9f8-4a47-a6ea-c06c9d8dc4d9",
        "colab": {
          "base_uri": "https://localhost:8080/"
        }
      },
      "outputs": [
        {
          "output_type": "execute_result",
          "data": {
            "text/plain": [
              "(<tf.Variable 'rate:0' shape=() dtype=float32, numpy=1.0>,)"
            ]
          },
          "metadata": {},
          "execution_count": 4
        }
      ],
      "source": [
        "# Define an exponential distribution with a trainable rate parameter\n",
        "import tensorflow as tf\n",
        "import tensorflow_probability as tfp\n",
        "tf.random.set_seed(seed=42)\n",
        "\n",
        "exp_train = tfp.distributions.Exponential(\n",
        "    rate=tf.Variable(initial_value=1., name='rate'),\n",
        "    name='exp_train')\n",
        "exp_train.trainable_variables"
      ]
    },
    {
      "cell_type": "code",
      "execution_count": null,
      "metadata": {
        "id": "OI61CFVaEOly"
      },
      "outputs": [],
      "source": [
        "# Define the negative log likelihood\n",
        "import tensorflow as tf\n",
        "tf.random.set_seed(seed=42)\n",
        "\n",
        "def nll(x_train, distribution):\n",
        "    return -tf.math.reduce_mean(\n",
        "        input_tensor=distribution.log_prob(value=x_train))"
      ]
    },
    {
      "cell_type": "code",
      "execution_count": null,
      "metadata": {
        "id": "4sQmTzZ2EOly"
      },
      "outputs": [],
      "source": [
        "# Define a function to compute the loss and gradients\n",
        "import tensorflow as tf\n",
        "tf.random.set_seed(seed=42)\n",
        "\n",
        "@tf.function\n",
        "def get_loss_and_grads(x_train, distribution):\n",
        "    with tf.GradientTape() as tape:\n",
        "        tape.watch(tensor=distribution.trainable_variables)\n",
        "        loss = nll(x_train=x_train, distribution=distribution)\n",
        "        grads = tape.gradient(target=loss,\n",
        "            sources=distribution.trainable_variables)\n",
        "    return loss, grads"
      ]
    },
    {
      "cell_type": "code",
      "execution_count": null,
      "metadata": {
        "id": "Ah72hWn6EOly"
      },
      "outputs": [],
      "source": [
        "# Optimize\n",
        "import tensorflow as tf\n",
        "tf.random.set_seed(seed=42)\n",
        "\n",
        "def exponential_dist_optimisation(data, distribution):\n",
        "\n",
        "    # Keep results for plotting\n",
        "    train_loss_results = []\n",
        "    train_rate_results = []\n",
        "\n",
        "    optimizer = tf.keras.optimizers.SGD(learning_rate=0.05)\n",
        "\n",
        "    num_steps = 10\n",
        "    for i in range(num_steps):\n",
        "        loss, grads = get_loss_and_grads(x_train=data,\n",
        "            distribution=distribution)\n",
        "        optimizer.apply_gradients(grads_and_vars=zip(\n",
        "            grads, distribution.trainable_variables))\n",
        "\n",
        "        rate_value = distribution.rate.value()\n",
        "        train_loss_results.append(loss)\n",
        "        train_rate_results.append(rate_value)\n",
        "\n",
        "        print(\"Step {:03d}: Loss: {:.3f}: Rate: {:.3f}\".format(\n",
        "            i, loss, rate_value))\n",
        "\n",
        "    return train_loss_results, train_rate_results"
      ]
    },
    {
      "cell_type": "code",
      "execution_count": null,
      "metadata": {
        "id": "y_aZbqXAEOlz",
        "outputId": "f03774cf-1584-4b3e-c21e-fbf0dc7f81d2",
        "colab": {
          "base_uri": "https://localhost:8080/"
        }
      },
      "outputs": [
        {
          "output_type": "stream",
          "name": "stdout",
          "text": [
            "Step 000: Loss: 3.308: Rate: 0.885\n",
            "Step 001: Loss: 3.049: Rate: 0.776\n",
            "Step 002: Loss: 2.820: Rate: 0.675\n",
            "Step 003: Loss: 2.625: Rate: 0.584\n",
            "Step 004: Loss: 2.469: Rate: 0.504\n",
            "Step 005: Loss: 2.352: Rate: 0.438\n",
            "Step 006: Loss: 2.274: Rate: 0.387\n",
            "Step 007: Loss: 2.229: Rate: 0.351\n",
            "Step 008: Loss: 2.208: Rate: 0.328\n",
            "Step 009: Loss: 2.200: Rate: 0.315\n"
          ]
        }
      ],
      "source": [
        "# Get some data and train\n",
        "\n",
        "sampled_data = exponential.sample(sample_shape=5000)\n",
        "train_loss_results, train_rate_results = exponential_dist_optimisation(\n",
        "    data=sampled_data, distribution=exp_train)"
      ]
    },
    {
      "cell_type": "code",
      "execution_count": null,
      "metadata": {
        "id": "sQnnCSSvEOlz",
        "outputId": "6f4c16f9-e526-4172-e98f-b6f762faaf2e",
        "colab": {
          "base_uri": "https://localhost:8080/"
        }
      },
      "outputs": [
        {
          "output_type": "stream",
          "name": "stdout",
          "text": [
            "Exact rate: 0.3\n",
            "Pred rate: 0.31494382\n"
          ]
        }
      ],
      "source": [
        "# Predicted value for the rate parameter\n",
        "\n",
        "pred_value = exp_train.rate.numpy()\n",
        "exact_value = exponential.rate.numpy()\n",
        "\n",
        "print(\"Exact rate:\", exact_value)\n",
        "print(\"Pred rate:\", pred_value)"
      ]
    },
    {
      "cell_type": "code",
      "execution_count": null,
      "metadata": {
        "id": "vDchmmhFEOlz",
        "outputId": "3b435ac5-6142-41b7-cd8e-579cd09f3292",
        "colab": {
          "base_uri": "https://localhost:8080/",
          "height": 636
        }
      },
      "outputs": [
        {
          "output_type": "display_data",
          "data": {
            "text/plain": [
              "<Figure size 1200x800 with 2 Axes>"
            ],
            "image/png": "[encoded data removed]"
          },
          "metadata": {}
        }
      ],
      "source": [
        "# Plot to see the convergence of the estimated and true parameters\n",
        "import tensorflow as tf\n",
        "tf.random.set_seed(seed=42)\n",
        "import matplotlib.pyplot as plt\n",
        "\n",
        "tensor_exact_value = tf.constant(value=exact_value,\n",
        "    shape=[len(train_rate_results)])\n",
        "\n",
        "fig, axes = plt.subplots(nrows=2, sharex=True, figsize=(12, 8))\n",
        "fig.suptitle(t='Convergence')\n",
        "\n",
        "axes[0].set_ylabel(ylabel=\"Loss\", fontsize=14)\n",
        "axes[0].plot(train_loss_results)\n",
        "\n",
        "axes[1].set_ylabel(ylabel=\"Rate\", fontsize=14)\n",
        "axes[1].set_xlabel(xlabel=\"Epoch\", fontsize=14)\n",
        "axes[1].plot(train_rate_results, label='trainable rate variable')\n",
        "axes[1].plot(tensor_exact_value, label='exact rate')\n",
        "axes[1].legend()\n",
        "plt.show()"
      ]
    },
    {
      "cell_type": "code",
      "execution_count": null,
      "metadata": {
        "id": "cB7-FXRwEOlz"
      },
      "outputs": [],
      "source": [
        "# Making a function get_data which:\n",
        "#   1) Fetches the 20 newsgroup dataset\n",
        "#   2) Performs a word count on the articles and binarizes the result\n",
        "#   3) Returns the data as a numpy matrix with the labels\n",
        "\n",
        "from sklearn import datasets\n",
        "from sklearn.feature_extraction import text\n",
        "\n",
        "def get_data(categories):\n",
        "\n",
        "    newsgroups_train_data = datasets.fetch_20newsgroups(\n",
        "        data_home='20_Newsgroup_Data/', subset='train',\n",
        "        categories=categories)\n",
        "    newsgroups_test_data = datasets.fetch_20newsgroups(\n",
        "        data_home='20_Newsgroup_Data/', subset='test',\n",
        "        categories=categories)\n",
        "\n",
        "    n_documents = len(newsgroups_train_data['data'])\n",
        "    count_vectorizer = text.CountVectorizer(input='content',\n",
        "        binary=True, max_df=0.25, min_df=1.01/n_documents)\n",
        "    train_binary_bag_of_words = count_vectorizer.fit_transform(\n",
        "        raw_documents=newsgroups_train_data['data'])\n",
        "    test_binary_bag_of_words = count_vectorizer.transform(\n",
        "        raw_documents=newsgroups_test_data['data'])\n",
        "\n",
        "    return (train_binary_bag_of_words.todense(),\n",
        "            newsgroups_train_data['target']), \\\n",
        "        (test_binary_bag_of_words.todense(),\n",
        "             newsgroups_test_data['target'])"
      ]
    },
    {
      "cell_type": "code",
      "execution_count": null,
      "metadata": {
        "id": "dHi0tSEkEOl5"
      },
      "outputs": [],
      "source": [
        "# Defining a function to conduct laplace smoothing. This adds a base\n",
        "# level of probability for a given feature to occur in every class.\n",
        "import numpy as np\n",
        "\n",
        "def laplace_smoothing(labels, binary_data, n_classes):\n",
        "    # Compute the parameter estimates (adjusted fraction of documents\n",
        "    # in class that contain word)\n",
        "    n_words = binary_data.shape[1]\n",
        "    alpha = 1 # parameters for Laplace smoothing\n",
        "    theta = np.zeros(shape=(n_classes, n_words)) # stores parameter values - prob. word given class\n",
        "    for c_k in range(n_classes): # 0, 1, ..., 19\n",
        "        class_mask = (labels == c_k)\n",
        "        N = class_mask.sum() # number of articles in class\n",
        "        theta[c_k, :] = (binary_data[class_mask, :].sum(axis=0)\n",
        "            + alpha)/(N + alpha*2)\n",
        "\n",
        "    return theta"
      ]
    },
    {
      "cell_type": "code",
      "execution_count": null,
      "metadata": {
        "id": "7hw-U2r-EOl5"
      },
      "outputs": [],
      "source": [
        "# Now we will do a function that given the feature occurence counts\n",
        "# returns a Bernoulli distribution of batch_shape=number of classes\n",
        "# and event_shape=number of features.\n",
        "import tensorflow as tf\n",
        "import tensorflow_probability as tfp\n",
        "tf.random.set_seed(seed=42)\n",
        "\n",
        "def make_distributions(probs):\n",
        "    # shape (n_classes, n_words)\n",
        "    batch_of_bernoullis = tfp.distributions.Bernoulli(probs=probs)\n",
        "    dist = tfp.distributions.Independent(\n",
        "        distribution=batch_of_bernoullis,\n",
        "        reinterpreted_batch_ndims=1)\n",
        "    return dist"
      ]
    },
    {
      "cell_type": "code",
      "execution_count": null,
      "metadata": {
        "id": "Pqp2NCnHEOl6"
      },
      "outputs": [],
      "source": [
        "# Function which computes the prior probability of every class\n",
        "# based on frequency of occurence in the dataset\n",
        "import numpy as np\n",
        "\n",
        "def class_priors(n_classes, labels):\n",
        "    counts = np.zeros(shape=n_classes)\n",
        "    for c_k in range(n_classes):\n",
        "        counts[c_k] = np.sum(a=np.where(labels==c_k, 1, 0))\n",
        "    priors = counts / np.sum(a=counts)\n",
        "    print('The class priors are {}'.format(priors))\n",
        "    return priors"
      ]
    },
    {
      "cell_type": "code",
      "execution_count": null,
      "metadata": {
        "id": "E8xoG7kTEOl6"
      },
      "outputs": [],
      "source": [
        "# The final function predict_sample which given the distribution,\n",
        "# a test sample, and the class priors:\n",
        "#   1) Computes the class conditional probabilities given the sample\n",
        "#   2) Forms the joint likelihood\n",
        "#   3) Normalises the joint likelihood and returns the log prob\n",
        "import tensorflow as tf\n",
        "tf.random.set_seed(seed=42)\n",
        "\n",
        "def predict_sample(dist, sample, priors):\n",
        "    cond_probs = dist.log_prob(value=sample)\n",
        "    priors = tf.math.log(x=tf.convert_to_tensor(\n",
        "        value=priors, dtype=tf.float32))\n",
        "    joint_likelihood = tf.math.add(x=priors, y=cond_probs)\n",
        "    norm_factor = tf.math.reduce_logsumexp(\n",
        "        input_tensor=joint_likelihood, axis=-1, keepdims=True)\n",
        "    log_prob = joint_likelihood - norm_factor\n",
        "\n",
        "    return log_prob"
      ]
    },
    {
      "cell_type": "code",
      "execution_count": null,
      "metadata": {
        "id": "VTUFaFPjPDw4"
      },
      "outputs": [],
      "source": [
        "# Define the negative log likelihood\n",
        "import tensorflow as tf\n",
        "tf.random.set_seed(seed=42)\n",
        "\n",
        "def nll(x_train, distribution):\n",
        "    return -tf.math.reduce_mean(\n",
        "        input_tensor=distribution.log_prob(value=x_train))"
      ]
    },
    {
      "cell_type": "code",
      "execution_count": null,
      "metadata": {
        "id": "EC1uM10lPDw8"
      },
      "outputs": [],
      "source": [
        "# Define a function to compute the loss and gradients\n",
        "import tensorflow as tf\n",
        "tf.random.set_seed(seed=42)\n",
        "\n",
        "@tf.function\n",
        "def get_loss_and_grads(x_train, distribution):\n",
        "    with tf.GradientTape() as tape:\n",
        "        tape.watch(tensor=distribution.trainable_variables)\n",
        "        loss = nll(x_train=x_train, distribution=distribution)\n",
        "        grads = tape.gradient(target=loss,\n",
        "            sources=distribution.trainable_variables)\n",
        "    return loss, grads"
      ]
    },
    {
      "cell_type": "code",
      "execution_count": null,
      "metadata": {
        "id": "UubCvF37EOl6"
      },
      "outputs": [],
      "source": [
        "# Now we learn the distribution using gradient tape\n",
        "import tensorflow as tf\n",
        "import tensorflow_probability as tfp\n",
        "tf.random.set_seed(seed=42)\n",
        "import numpy as np\n",
        "np.random.seed(seed=42)\n",
        "\n",
        "def make_distribution_withGT(data, labels, nb_classes):\n",
        "\n",
        "    class_data = []\n",
        "    train_vars = []\n",
        "    distributions = []\n",
        "    for c in range(nb_classes):\n",
        "        train_vars.append(tf.Variable(\n",
        "            initial_value=np.random.uniform(\n",
        "                low=0.01, high=0.1, size=data.shape[-1])))\n",
        "        distributions.append(tfp.distributions.Bernoulli(\n",
        "            probs=train_vars[c]))\n",
        "        class_mask = (labels == c)\n",
        "        class_data.append(data[class_mask, :])\n",
        "\n",
        "    for c_num in range(0, nb_classes):\n",
        "        optimizer = tf.keras.optimizers.Adam()\n",
        "        print('\\n%-------------------%')\n",
        "        print('Class ', c_num)\n",
        "        print('%-------------------%')\n",
        "\n",
        "        for i in range(0, 100):\n",
        "            loss, grads = get_loss_and_grads(\n",
        "                x_train=class_data[c_num],\n",
        "                distribution=distributions[c_num])\n",
        "            if (i%10==0):\n",
        "                print(\"iter: {} loss: {}\".format(i, loss))\n",
        "            optimizer.apply_gradients(grads_and_vars=zip(grads,\n",
        "                distributions[c_num].trainable_variables))\n",
        "            eta = 1e-3\n",
        "            clipped_probs = tf.clip_by_value(\n",
        "                t=distributions[c_num].trainable_variables,\n",
        "                clip_value_min=eta, clip_value_max=1)\n",
        "            train_vars[c_num] = tf.squeeze(input=clipped_probs)\n",
        "\n",
        "    dist = tfp.distributions.Bernoulli(probs=train_vars)\n",
        "    dist = tfp.distributions.Independent(\n",
        "        distribution=dist,\n",
        "        reinterpreted_batch_ndims=1)\n",
        "\n",
        "    print(dist)\n",
        "\n",
        "    return dist"
      ]
    },
    {
      "cell_type": "code",
      "execution_count": null,
      "metadata": {
        "id": "9sRfhdpxEOl6",
        "outputId": "0d76d95d-6869-494d-8e23-78d5a8daf4a0",
        "colab": {
          "base_uri": "https://localhost:8080/"
        }
      },
      "outputs": [
        {
          "output_type": "stream",
          "name": "stdout",
          "text": [
            "The class priors are [0.2359882  0.28711898 0.29154376 0.18534907]\n"
          ]
        }
      ],
      "source": [
        "# Make the same Naive Bayes classifier we did last tutorial\n",
        "\n",
        "categories = ['alt.atheism', 'talk.religion.misc',\n",
        "    'comp.graphics', 'sci.space']\n",
        "\n",
        "(train_data, train_labels), (test_data, test_labels) = get_data(\n",
        "    categories=categories)\n",
        "\n",
        "smoothed_counts = laplace_smoothing(labels=train_labels,\n",
        "    binary_data=train_data, n_classes=len(categories))\n",
        "\n",
        "priors = class_priors(n_classes=len(categories), labels=train_labels)\n",
        "tf_dist = make_distributions(probs=smoothed_counts)"
      ]
    },
    {
      "cell_type": "code",
      "execution_count": null,
      "metadata": {
        "id": "2hDdSkk1EOl6",
        "outputId": "a8e10238-8980-4f5a-9cf0-18a5848aba3b",
        "colab": {
          "base_uri": "https://localhost:8080/"
        }
      },
      "outputs": [
        {
          "output_type": "stream",
          "name": "stdout",
          "text": [
            "\n",
            "%-------------------%\n",
            "Class  0\n",
            "%-------------------%\n",
            "iter: 0 loss: 0.07835053235006466\n",
            "iter: 10 loss: 0.06897089579289356\n",
            "iter: 20 loss: 0.06023701178895163\n",
            "iter: 30 loss: 0.05216424609393508\n",
            "iter: 40 loss: 0.04470313647470218\n",
            "iter: 50 loss: 0.0378127914989113\n",
            "iter: 60 loss: 0.03143985627526183\n",
            "iter: 70 loss: 0.02554176570560483\n",
            "iter: 80 loss: 0.02007881277078188\n",
            "iter: 90 loss: 0.015002491980007663\n",
            "\n",
            "%-------------------%\n",
            "Class  1\n",
            "%-------------------%\n",
            "iter: 0 loss: 0.07166072984019078\n",
            "iter: 10 loss: 0.06230591593900578\n",
            "iter: 20 loss: 0.053503216110530265\n",
            "iter: 30 loss: 0.04532156493886884\n",
            "iter: 40 loss: 0.03773636211961931\n",
            "iter: 50 loss: 0.03070405532612139\n",
            "iter: 60 loss: 0.024192194193259037\n",
            "iter: 70 loss: 0.01818462703668011\n",
            "iter: 80 loss: 0.012655136847223912\n",
            "iter: 90 loss: 0.007545535612992827\n",
            "\n",
            "%-------------------%\n",
            "Class  2\n",
            "%-------------------%\n",
            "iter: 0 loss: 0.07816187727520028\n",
            "iter: 10 loss: 0.06908668162672829\n",
            "iter: 20 loss: 0.060729729357409445\n",
            "iter: 30 loss: 0.05311098961411023\n",
            "iter: 40 loss: 0.04618928501882784\n",
            "iter: 50 loss: 0.03990960046579494\n",
            "iter: 60 loss: 0.034237961153142434\n",
            "iter: 70 loss: 0.029141025245239018\n",
            "iter: 80 loss: 0.02456182242141396\n",
            "iter: 90 loss: 0.02043395239883373\n",
            "\n",
            "%-------------------%\n",
            "Class  3\n",
            "%-------------------%\n",
            "iter: 0 loss: 0.07975630477374747\n",
            "iter: 10 loss: 0.07048946553399775\n",
            "iter: 20 loss: 0.06186355493297028\n",
            "iter: 30 loss: 0.0538699843425911\n",
            "iter: 40 loss: 0.04645441727816138\n",
            "iter: 50 loss: 0.03958247314431816\n",
            "iter: 60 loss: 0.03321653331494401\n",
            "iter: 70 loss: 0.027313582505754132\n",
            "iter: 80 loss: 0.021838414264662584\n",
            "iter: 90 loss: 0.016731023101088663\n",
            "tfp.distributions.Independent(\"IndependentBernoulli\", batch_shape=[4], event_shape=[17495], dtype=int32)\n"
          ]
        }
      ],
      "source": [
        "# Now train the distributions with gradient tape\n",
        "\n",
        "GT_dist = make_distribution_withGT(data=train_data,\n",
        "    labels=train_labels, nb_classes=4)"
      ]
    },
    {
      "cell_type": "code",
      "execution_count": null,
      "metadata": {
        "id": "aCS8BMmGEOl7",
        "outputId": "91f0db67-4cbb-4338-d49d-5fdeeb988471",
        "colab": {
          "base_uri": "https://localhost:8080/"
        }
      },
      "outputs": [
        {
          "output_type": "stream",
          "name": "stdout",
          "text": [
            "f1  0.834607151100081\n",
            "f1  0.7848499112849505\n"
          ]
        }
      ],
      "source": [
        "# Compare the two results\n",
        "import numpy as np\n",
        "from sklearn import metrics\n",
        "\n",
        "for dist in [GT_dist, tf_dist]:\n",
        "    probabilities = []\n",
        "    for sample, label in zip(test_data, test_labels):\n",
        "        probabilities.append(predict_sample(\n",
        "            dist=dist, sample=sample, priors=priors))\n",
        "\n",
        "    probabilities = np.asarray(a=probabilities)\n",
        "    predicted_classes = np.argmax(a=probabilities, axis=-1)\n",
        "    print('f1 ', metrics.f1_score(y_true=test_labels,\n",
        "        y_pred=predicted_classes, average='macro'))"
      ]
    }
  ],
  "metadata": {
    "kernelspec": {
      "display_name": "Python 3",
      "language": "python",
      "name": "python3"
    },
    "language_info": {
      "codemirror_mode": {
        "name": "ipython",
        "version": 3
      },
      "file_extension": ".py",
      "mimetype": "text/x-python",
      "name": "python",
      "nbconvert_exporter": "python",
      "pygments_lexer": "ipython3",
      "version": "3.7.1"
    },
    "colab": {
      "provenance": [],
      "include_colab_link": true
    }
  },
  "nbformat": 4,
  "nbformat_minor": 0
}