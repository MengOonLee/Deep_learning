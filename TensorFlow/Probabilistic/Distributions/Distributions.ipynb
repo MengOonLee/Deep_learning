{
  "cells": [
    {
      "cell_type": "markdown",
      "metadata": {
        "id": "view-in-github",
        "colab_type": "text"
      },
      "source": [
        "<a href=\"https://colab.research.google.com/github/MengOonLee/Deep_learning/blob/master/TensorFlow/Probabilistic/Distributions/Distributions.ipynb\" target=\"_parent\"><img src=\"https://colab.research.google.com/assets/colab-badge.svg\" alt=\"Open In Colab\"/></a>"
      ]
    },
    {
      "cell_type": "code",
      "execution_count": 1,
      "metadata": {
        "id": "yU0Om4EoEOlO",
        "outputId": "3bc58fa6-480d-4074-93d9-49da3a502c05",
        "colab": {
          "base_uri": "https://localhost:8080/"
        }
      },
      "outputs": [
        {
          "output_type": "stream",
          "name": "stdout",
          "text": [
            "TF version: 2.18.0\n",
            "TFP version: 0.25.0\n"
          ]
        }
      ],
      "source": [
        "import tensorflow as tf\n",
        "import tensorflow_probability as tfp\n",
        "\n",
        "print(\"TF version:\", tf.__version__)\n",
        "print(\"TFP version:\", tfp.__version__)"
      ]
    },
    {
      "cell_type": "code",
      "execution_count": 2,
      "metadata": {
        "id": "Ub_z8VehEOlP"
      },
      "outputs": [],
      "source": [
        "# Additional imports and setting fixed random seed to have reproducibility\n",
        "\n",
        "import matplotlib.pyplot as plt\n",
        "import numpy as np\n",
        "tf.random.set_seed(seed=42)"
      ]
    },
    {
      "cell_type": "markdown",
      "metadata": {
        "id": "Fvoij2fLEOlQ"
      },
      "source": [
        "# Tensorflow Distributions"
      ]
    },
    {
      "cell_type": "markdown",
      "metadata": {
        "id": "e-3yMMUwEOlR"
      },
      "source": [
        "## Coding Tutorials\n",
        "#### 1. [Univariate Distributions](#univariate_distributions)\n",
        "#### 2. [Multivariate Distributions](#multivariate_distributions)\n",
        "#### 3. [The Independent Distribution](#the_independent_distribution)\n",
        "#### 4. [Sampling and log probs](#sampling_and_log_probs)\n",
        "#### 5. [Trainable Distributions](#trainable_distributions)"
      ]
    },
    {
      "cell_type": "markdown",
      "metadata": {
        "id": "cxFLP_hoEOlR"
      },
      "source": [
        "***\n",
        "## Univariate distributions\n",
        "<a id='univariate_distributions'></a>"
      ]
    },
    {
      "cell_type": "code",
      "execution_count": 1,
      "metadata": {
        "id": "TSBv69iUEOlS",
        "outputId": "c4b5b00b-9262-4692-a3f3-a2ebc92fe084",
        "colab": {
          "base_uri": "https://localhost:8080/"
        }
      },
      "outputs": [
        {
          "output_type": "stream",
          "name": "stdout",
          "text": [
            "tfp.distributions.Normal(\"Normal\", batch_shape=[], event_shape=[], dtype=float32)\n",
            "tf.Tensor([ 0.3274685 -0.8426258  0.3194337], shape=(3,), dtype=float32)\n",
            "tf.Tensor(0.35206532, shape=(), dtype=float32)\n",
            "tf.Tensor(-1.0439385, shape=(), dtype=float32)\n"
          ]
        }
      ],
      "source": [
        "import tensorflow as tf\n",
        "import tensorflow_probability as tfp\n",
        "tf.random.set_seed(seed=42)\n",
        "\n",
        "normal = tfp.distributions.Normal(loc=0., scale=1.)\n",
        "print(normal)\n",
        "\n",
        "print(normal.sample(sample_shape=3))\n",
        "print(normal.prob(value=0.5))\n",
        "print(normal.log_prob(value=0.5))"
      ]
    },
    {
      "cell_type": "code",
      "execution_count": 2,
      "metadata": {
        "id": "Kh5CMbY7EOlT",
        "outputId": "49b2746b-550b-494e-a172-ff7d2d370bdd",
        "colab": {
          "base_uri": "https://localhost:8080/"
        }
      },
      "outputs": [
        {
          "output_type": "stream",
          "name": "stdout",
          "text": [
            "tfp.distributions.Bernoulli(\"Bernoulli\", batch_shape=[], event_shape=[], dtype=int32)\n",
            "tf.Tensor([1 1 0], shape=(3,), dtype=int32)\n",
            "tf.Tensor(0.7, shape=(), dtype=float32)\n",
            "tf.Tensor(-0.35667497, shape=(), dtype=float32)\n",
            "tfp.distributions.Bernoulli(\"Bernoulli\", batch_shape=[2], event_shape=[], dtype=int32)\n",
            "(2,)\n",
            "tf.Tensor(\n",
            "[[1 1]\n",
            " [0 1]\n",
            " [1 0]], shape=(3, 2), dtype=int32)\n",
            "tf.Tensor([0.4 0.5], shape=(2,), dtype=float32)\n"
          ]
        }
      ],
      "source": [
        "import tensorflow as tf\n",
        "import tensorflow_probability as tfp\n",
        "tf.random.set_seed(seed=42)\n",
        "\n",
        "bernoulli = tfp.distributions.Bernoulli(probs=0.7)\n",
        "print(bernoulli)\n",
        "\n",
        "bernouli = tfp.distributions.Bernoulli(logits=0.847)\n",
        "print(bernoulli.sample(sample_shape=3))\n",
        "print(bernoulli.prob(value=1))\n",
        "print(bernoulli.log_prob(value=1))\n",
        "\n",
        "batched_bernoulli = tfp.distributions.Bernoulli(probs=[0.4, 0.5])\n",
        "print(batched_bernoulli)\n",
        "print(batched_bernoulli.batch_shape)\n",
        "print(batched_bernoulli.sample(sample_shape=3))\n",
        "print(batched_bernoulli.prob(value=[1, 1]))"
      ]
    },
    {
      "cell_type": "code",
      "execution_count": 3,
      "metadata": {
        "id": "F-BVvrPHEOlT",
        "outputId": "4c7c74cb-c0b6-4574-fe82-0100c9be7d4a",
        "colab": {
          "base_uri": "https://localhost:8080/"
        }
      },
      "outputs": [
        {
          "output_type": "execute_result",
          "data": {
            "text/plain": [
              "<tfp.distributions.Normal 'Normal' batch_shape=[] event_shape=[] dtype=float32>"
            ]
          },
          "metadata": {},
          "execution_count": 3
        }
      ],
      "source": [
        "# Create a normal distribution from Tensorflow Distributions\n",
        "import tensorflow as tf\n",
        "import tensorflow_probability as tfp\n",
        "tf.random.set_seed(seed=42)\n",
        "\n",
        "normal = tfp.distributions.Normal(loc=0, scale=1)\n",
        "normal"
      ]
    },
    {
      "cell_type": "code",
      "execution_count": 4,
      "metadata": {
        "id": "D23R2jT-EOlU",
        "outputId": "d85ee9d8-3c59-4961-a9a3-24f679e6e530",
        "colab": {
          "base_uri": "https://localhost:8080/"
        }
      },
      "outputs": [
        {
          "output_type": "execute_result",
          "data": {
            "text/plain": [
              "<tf.Tensor: shape=(), dtype=float32, numpy=0.32746851444244385>"
            ]
          },
          "metadata": {},
          "execution_count": 4
        }
      ],
      "source": [
        "# Sample from the chosen distribution...\n",
        "\n",
        "normal.sample()"
      ]
    },
    {
      "cell_type": "code",
      "execution_count": 5,
      "metadata": {
        "id": "DOELj5RJEOlV",
        "outputId": "844840d9-c490-4ce5-df6c-5dcfb8ef5151",
        "colab": {
          "base_uri": "https://localhost:8080/"
        }
      },
      "outputs": [
        {
          "output_type": "execute_result",
          "data": {
            "text/plain": [
              "<tf.Tensor: shape=(10,), dtype=float32, numpy=\n",
              "array([ 8.4224582e-02, -8.6090374e-01,  3.7812304e-01, -5.1962738e-03,\n",
              "       -4.9453196e-01,  6.1781919e-01, -3.3082047e-01, -1.3840806e-03,\n",
              "       -4.2373410e-01, -1.3872087e+00], dtype=float32)>"
            ]
          },
          "metadata": {},
          "execution_count": 5
        }
      ],
      "source": [
        "# ... or sample multiple times\n",
        "\n",
        "normal.sample(sample_shape=10)"
      ]
    },
    {
      "cell_type": "code",
      "execution_count": 6,
      "metadata": {
        "id": "KAR8itWfEOlV",
        "outputId": "8f3da59f-2096-40ef-9974-3f09bae13c98",
        "colab": {
          "base_uri": "https://localhost:8080/"
        }
      },
      "outputs": [
        {
          "output_type": "execute_result",
          "data": {
            "text/plain": [
              "<tf.Tensor: shape=(), dtype=float32, numpy=0.3989422917366028>"
            ]
          },
          "metadata": {},
          "execution_count": 6
        }
      ],
      "source": [
        "# Obtain value of probability's density\n",
        "\n",
        "normal.prob(value=0)"
      ]
    },
    {
      "cell_type": "code",
      "execution_count": 7,
      "metadata": {
        "id": "03vUIvvMEOlW",
        "outputId": "4b2133a0-8ea7-4779-f28e-44107ba8ab8c",
        "colab": {
          "base_uri": "https://localhost:8080/"
        }
      },
      "outputs": [
        {
          "output_type": "execute_result",
          "data": {
            "text/plain": [
              "<tf.Tensor: shape=(), dtype=float32, numpy=-0.9189385175704956>"
            ]
          },
          "metadata": {},
          "execution_count": 7
        }
      ],
      "source": [
        "# Obtain value of logprobability\n",
        "\n",
        "normal.log_prob(value=0)"
      ]
    },
    {
      "cell_type": "code",
      "execution_count": 8,
      "metadata": {
        "id": "yxIvFTySEOlW",
        "outputId": "ded8b9da-3d33-4ddc-cf5b-b4c4cf36d4ec",
        "colab": {
          "base_uri": "https://localhost:8080/"
        }
      },
      "outputs": [
        {
          "output_type": "execute_result",
          "data": {
            "text/plain": [
              "np.float32(-0.9189385)"
            ]
          },
          "metadata": {},
          "execution_count": 8
        }
      ],
      "source": [
        "# Verify that this really is the log of the probability\n",
        "import numpy as np\n",
        "\n",
        "np.log(normal.prob(value=0))"
      ]
    },
    {
      "cell_type": "code",
      "execution_count": 9,
      "metadata": {
        "id": "L_mQQIghEOlX",
        "outputId": "50074314-dca8-4019-87d1-3f908eae33aa",
        "colab": {
          "base_uri": "https://localhost:8080/",
          "height": 430
        }
      },
      "outputs": [
        {
          "output_type": "display_data",
          "data": {
            "text/plain": [
              "<Figure size 640x480 with 1 Axes>"
            ],
            "image/png": "[encoded data removed]"
          },
          "metadata": {}
        }
      ],
      "source": [
        "# Plot a histogram, approximating the density\n",
        "import matplotlib.pyplot as plt\n",
        "\n",
        "plt.hist(x=normal.sample(sample_shape=10000), bins=50, density=True)\n",
        "plt.show()"
      ]
    },
    {
      "cell_type": "code",
      "execution_count": 10,
      "metadata": {
        "id": "P674p8-cEOlX",
        "outputId": "c32032b1-12c2-4609-8edf-9c0d21eeb004",
        "colab": {
          "base_uri": "https://localhost:8080/",
          "height": 430
        }
      },
      "outputs": [
        {
          "output_type": "display_data",
          "data": {
            "text/plain": [
              "<Figure size 640x480 with 1 Axes>"
            ],
            "image/png": "[encoded data removed]"
          },
          "metadata": {}
        }
      ],
      "source": [
        "# Do the same for the exponential distribution\n",
        "import tensorflow as tf\n",
        "import tensorflow_probability as tfp\n",
        "tf.random.set_seed(seed=42)\n",
        "import matplotlib.pyplot as plt\n",
        "\n",
        "exponential = tfp.distributions.Exponential(rate=1)\n",
        "plt.hist(x=exponential.sample(sample_shape=10000), bins=50, density=True)\n",
        "plt.show()"
      ]
    },
    {
      "cell_type": "code",
      "execution_count": 11,
      "metadata": {
        "id": "wG8dGJVuEOlY",
        "outputId": "3a93fca8-3197-49f4-a96a-ae5009e7a951",
        "colab": {
          "base_uri": "https://localhost:8080/"
        }
      },
      "outputs": [
        {
          "output_type": "execute_result",
          "data": {
            "text/plain": [
              "<tf.Tensor: shape=(10,), dtype=float32, numpy=\n",
              "array([2.1462562 , 1.3011539 , 0.04947   , 0.6993898 , 1.082343  ,\n",
              "       0.62250125, 0.7877366 , 0.94240695, 0.03540716, 0.0604223 ],\n",
              "      dtype=float32)>"
            ]
          },
          "metadata": {},
          "execution_count": 11
        }
      ],
      "source": [
        "# Sample as before\n",
        "\n",
        "exponential.sample(sample_shape=10)"
      ]
    },
    {
      "cell_type": "code",
      "execution_count": 12,
      "metadata": {
        "id": "0WQKMB-cEOlY",
        "outputId": "73c980cf-31f4-4884-fcee-64bc818fd348",
        "colab": {
          "base_uri": "https://localhost:8080/"
        }
      },
      "outputs": [
        {
          "output_type": "execute_result",
          "data": {
            "text/plain": [
              "<tf.Tensor: shape=(20,), dtype=int32, numpy=\n",
              "array([1, 1, 0, 0, 1, 1, 1, 0, 1, 1, 1, 1, 1, 1, 1, 1, 1, 0, 0, 1],\n",
              "      dtype=int32)>"
            ]
          },
          "metadata": {},
          "execution_count": 12
        }
      ],
      "source": [
        "# Create a Bernoulli distribution (discrete)\n",
        "import tensorflow as tf\n",
        "import tensorflow_probability as tfp\n",
        "tf.random.set_seed(seed=42)\n",
        "\n",
        "bernoulli = tfp.distributions.Bernoulli(probs=0.8)\n",
        "bernoulli.sample(sample_shape=20)"
      ]
    },
    {
      "cell_type": "markdown",
      "metadata": {
        "id": "jhKpeWgjEOlY"
      },
      "source": [
        "#### A word of caution on discrete distributions"
      ]
    },
    {
      "cell_type": "code",
      "execution_count": 13,
      "metadata": {
        "id": "dSZMPzvpEOlZ",
        "outputId": "d87eafd0-d5f6-4cb9-899c-8a6e7be738ca",
        "colab": {
          "base_uri": "https://localhost:8080/"
        }
      },
      "outputs": [
        {
          "output_type": "stream",
          "name": "stdout",
          "text": [
            "prob result 0.19999998807907104 for k = 0 \n",
            "prob result 0.3999999761581421 for k = 0.5 \n",
            "prob result 0.800000011920929 for k = 1 \n",
            "prob result 0.04999999701976776 for k = -1 \n"
          ]
        }
      ],
      "source": [
        "# Calculate Bernoulli prob and see that 0.5 and -1 do not give the correct probability!\n",
        "\n",
        "for k in [0, 0.5, 1, -1]:\n",
        "    print('prob result {} for k = {} '.format(bernoulli.prob(value=k), k))"
      ]
    },
    {
      "cell_type": "code",
      "execution_count": null,
      "metadata": {
        "id": "h65WvHLlEOlZ"
      },
      "outputs": [],
      "source": [
        "# Replicate the scores to see what is occurring under the hood\n",
        "import numpy as np\n",
        "\n",
        "def my_bernoulli(p_success, k):\n",
        "    return np.power(x1=p_success, x2=k)*np.power(x1=(1-p_success), x2=(1-k))"
      ]
    },
    {
      "cell_type": "code",
      "execution_count": null,
      "metadata": {
        "id": "-ENj6RV7EOlZ",
        "outputId": "b5936d43-c8a5-426d-c9a1-5413a92412d0"
      },
      "outputs": [
        {
          "name": "stdout",
          "output_type": "stream",
          "text": [
            "prob result 0.19999999999999996 for k = 0 \n",
            "prob result 0.3999999999999999 for k = 0.5 \n",
            "prob result 0.8 for k = 1 \n",
            "prob result 0.049999999999999975 for k = -1 \n"
          ]
        }
      ],
      "source": [
        "# Evaluate it as before\n",
        "\n",
        "for k in [0, 0.5, 1, -1]:\n",
        "    print('prob result {} for k = {} '.format(\n",
        "        my_bernoulli(p_success=0.8, k=k), k))"
      ]
    },
    {
      "cell_type": "markdown",
      "metadata": {
        "id": "uepFnyPqEOlZ"
      },
      "source": [
        "#### Work with batch distributions"
      ]
    },
    {
      "cell_type": "code",
      "execution_count": null,
      "metadata": {
        "id": "B0jxeySaEOlZ",
        "outputId": "4a2ae2ce-770d-4639-89ea-87ac3282bf01"
      },
      "outputs": [
        {
          "data": {
            "text/plain": [
              "<tfp.distributions.Bernoulli 'Bernoulli' batch_shape=[5] event_shape=[] dtype=int32>"
            ]
          },
          "execution_count": 16,
          "metadata": {},
          "output_type": "execute_result"
        }
      ],
      "source": [
        "# Create a batched Bernoulli distribution\n",
        "import tensorflow as tf\n",
        "import tensorflow_probability as tfp\n",
        "tf.random.set_seed(seed=42)\n",
        "\n",
        "bernoulli_batch = tfp.distributions.Bernoulli(\n",
        "    probs=[0.1, 0.25, 0.5, 0.75, 0.9])\n",
        "bernoulli_batch"
      ]
    },
    {
      "cell_type": "code",
      "execution_count": null,
      "metadata": {
        "id": "kCMBzYQiEOla",
        "outputId": "fc4c863c-2bf5-48c9-f41d-f1176bb82b68"
      },
      "outputs": [
        {
          "data": {
            "text/plain": [
              "<tf.Tensor: shape=(5, 5), dtype=int32, numpy=\n",
              "array([[0, 0, 1, 0, 1],\n",
              "       [0, 0, 1, 0, 1],\n",
              "       [0, 0, 1, 1, 1],\n",
              "       [0, 0, 1, 1, 1],\n",
              "       [0, 0, 1, 1, 0]], dtype=int32)>"
            ]
          },
          "execution_count": 17,
          "metadata": {},
          "output_type": "execute_result"
        }
      ],
      "source": [
        "# Sample from it, noting the shape\n",
        "\n",
        "bernoulli_batch.sample(sample_shape=5)"
      ]
    },
    {
      "cell_type": "code",
      "execution_count": null,
      "metadata": {
        "id": "JoKlmrHhEOla",
        "outputId": "fa3ee141-de4c-4cb8-9149-507694f01bb0"
      },
      "outputs": [
        {
          "data": {
            "text/plain": [
              "<tfp.distributions.Bernoulli 'Bernoulli' batch_shape=[1, 3, 2] event_shape=[] dtype=int32>"
            ]
          },
          "execution_count": 18,
          "metadata": {},
          "output_type": "execute_result"
        }
      ],
      "source": [
        "# Use a batch shape with higher rank\n",
        "import tensorflow as tf\n",
        "import tensorflow_probability as tfp\n",
        "tf.random.set_seed(seed=42)\n",
        "\n",
        "probs = [[\n",
        "    [0.5, 0.5],\n",
        "    [0.8, 0.3],\n",
        "    [0.25, 0.75]\n",
        "]]\n",
        "bernoulli_batch_2D = tfp.distributions.Bernoulli(probs=probs)\n",
        "bernoulli_batch_2D"
      ]
    },
    {
      "cell_type": "code",
      "execution_count": null,
      "metadata": {
        "id": "-tDLbAGCEOla",
        "outputId": "b08750b7-1d33-4577-fb6e-41464779ff7c"
      },
      "outputs": [
        {
          "data": {
            "text/plain": [
              "<tf.Tensor: shape=(5, 1, 3, 2), dtype=int32, numpy=\n",
              "array([[[[0, 1],\n",
              "         [1, 1],\n",
              "         [1, 1]]],\n",
              "\n",
              "\n",
              "       [[[1, 0],\n",
              "         [1, 0],\n",
              "         [0, 1]]],\n",
              "\n",
              "\n",
              "       [[[1, 0],\n",
              "         [1, 1],\n",
              "         [0, 1]]],\n",
              "\n",
              "\n",
              "       [[[1, 1],\n",
              "         [1, 0],\n",
              "         [0, 1]]],\n",
              "\n",
              "\n",
              "       [[[1, 0],\n",
              "         [1, 0],\n",
              "         [0, 1]]]], dtype=int32)>"
            ]
          },
          "execution_count": 19,
          "metadata": {},
          "output_type": "execute_result"
        }
      ],
      "source": [
        "# Sample from this batch of distributions\n",
        "\n",
        "bernoulli_batch_2D.sample(sample_shape=5)"
      ]
    },
    {
      "cell_type": "code",
      "execution_count": null,
      "metadata": {
        "id": "tfhCqN0FEOlb",
        "outputId": "21fa93fe-0e0d-40d1-8131-ef7aad4f7bc9"
      },
      "outputs": [
        {
          "data": {
            "text/plain": [
              "<tf.Tensor: shape=(1, 3, 2), dtype=float32, numpy=\n",
              "array([[[0.5       , 0.5       ],\n",
              "        [0.19999999, 0.7       ],\n",
              "        [0.25      , 0.75      ]]], dtype=float32)>"
            ]
          },
          "execution_count": 20,
          "metadata": {},
          "output_type": "execute_result"
        }
      ],
      "source": [
        "# Determine probabilities from this batch distribution\n",
        "\n",
        "bernoulli_batch_2D.prob(value=[[\n",
        "    [1, 0], [0, 0], [1, 1]\n",
        "]])"
      ]
    },
    {
      "cell_type": "markdown",
      "metadata": {
        "id": "dwMu5ppVEOlb"
      },
      "source": [
        "***\n",
        "<a id='multivariate_distributions'></a>\n",
        "## Multivariate Distributions\n"
      ]
    },
    {
      "cell_type": "code",
      "execution_count": null,
      "metadata": {
        "id": "evW1J-4hEOlb",
        "outputId": "fc059f39-136c-4d32-92c9-e18f05422689"
      },
      "outputs": [
        {
          "name": "stdout",
          "output_type": "stream",
          "text": [
            "tfp.distributions.MultivariateNormalDiag(\"MultivariateNormalDiag\", batch_shape=[], event_shape=[2], dtype=float32)\n",
            "(2,)\n",
            "tf.Tensor(\n",
            "[[-2.1329477  -0.05145192]\n",
            " [ 1.6533237  -0.79068637]\n",
            " [ 0.97920084  2.695866  ]], shape=(3, 2), dtype=float32)\n",
            "tf.Tensor(-2.9388978, shape=(), dtype=float32)\n"
          ]
        }
      ],
      "source": [
        "import tensorflow as tf\n",
        "import tensorflow_probability as tfp\n",
        "tf.random.set_seed(seed=42)\n",
        "\n",
        "mv_normal = tfp.distributions.MultivariateNormalDiag(\n",
        "    loc=[-1., 0.5], scale_diag=[1., 1.5])\n",
        "print(mv_normal)\n",
        "print(mv_normal.event_shape)\n",
        "print(mv_normal.sample(sample_shape=3))\n",
        "print(mv_normal.log_prob(value=[-0.2, 1.8]))"
      ]
    },
    {
      "cell_type": "code",
      "execution_count": null,
      "metadata": {
        "id": "FgzfeMpnEOlb",
        "outputId": "fb1419f5-c59a-4e98-9f28-086bc0086955"
      },
      "outputs": [
        {
          "name": "stdout",
          "output_type": "stream",
          "text": [
            "tfp.distributions.Normal(\"Normal\", batch_shape=[2], event_shape=[], dtype=float32)\n",
            "tf.Tensor(\n",
            "[[-0.24021429 -0.29179263]\n",
            " [-1.2446698   0.32066905]\n",
            " [-0.06671739 -2.1635075 ]], shape=(3, 2), dtype=float32)\n",
            "tf.Tensor([-1.2389386 -1.699959 ], shape=(2,), dtype=float32)\n"
          ]
        }
      ],
      "source": [
        "import tensorflow as tf\n",
        "import tensorflow_probability as tfp\n",
        "tf.random.set_seed(seed=42)\n",
        "\n",
        "batched_normal = tfp.distributions.Normal(\n",
        "    loc=[-1., 0.5], scale=[1., 1.5])\n",
        "print(batched_normal)\n",
        "print(batched_normal.sample(sample_shape=3))\n",
        "print(batched_normal.log_prob(value=[-0.2, 1.8]))"
      ]
    },
    {
      "cell_type": "code",
      "execution_count": null,
      "metadata": {
        "id": "9Yfcpti-EOlc",
        "outputId": "f76404bc-7d6b-412c-cdf4-48baee3a523e"
      },
      "outputs": [
        {
          "name": "stdout",
          "output_type": "stream",
          "text": [
            "tfp.distributions.MultivariateNormalDiag(\"MultivariateNormalDiag\", batch_shape=[3], event_shape=[2], dtype=float32)\n",
            "tf.Tensor(\n",
            "[[[ 0.9379679   0.28594485]\n",
            "  [-0.97005343 -0.02898904]\n",
            "  [-1.4361064  -0.03616452]]\n",
            "\n",
            " [[ 1.1636064   1.0744668 ]\n",
            "  [ 2.62013     0.11132202]\n",
            "  [-0.95681846  3.53867   ]]], shape=(2, 3, 2), dtype=float32)\n"
          ]
        }
      ],
      "source": [
        "import tensorflow as tf\n",
        "import tensorflow_probability as tfp\n",
        "tf.random.set_seed(seed=42)\n",
        "\n",
        "batched_mv_normal = tfp.distributions.MultivariateNormalDiag(\n",
        "    loc=[[-1., 0.5], [2., 0.], [-0.5, 1.5]],\n",
        "    scale_diag=[[1., 1.5], [2., 0.5], [1., 1.]])\n",
        "print(batched_mv_normal)\n",
        "print(batched_mv_normal.sample(sample_shape=2))"
      ]
    },
    {
      "cell_type": "markdown",
      "metadata": {
        "id": "q_uqvQvYEOlc"
      },
      "source": [
        "#### Basic multivariate distributions"
      ]
    },
    {
      "cell_type": "code",
      "execution_count": null,
      "metadata": {
        "id": "vXJMhklIEOlc",
        "outputId": "9850d8db-ce00-4944-c156-28cef7e6b3c6"
      },
      "outputs": [
        {
          "data": {
            "text/plain": [
              "<tfp.distributions.MultivariateNormalDiag 'MultivariateNormalDiag' batch_shape=[] event_shape=[2] dtype=float32>"
            ]
          },
          "execution_count": 3,
          "metadata": {},
          "output_type": "execute_result"
        }
      ],
      "source": [
        "# Define 2D multivariate Gaussian with diagonal covariance matrix\n",
        "import tensorflow as tf\n",
        "import tensorflow_probability as tfp\n",
        "tf.random.set_seed(seed=42)\n",
        "\n",
        "normal_diag = tfp.distributions.MultivariateNormalDiag(\n",
        "    loc=[0, 1], scale_diag=[1, 2])\n",
        "normal_diag"
      ]
    },
    {
      "cell_type": "code",
      "execution_count": null,
      "metadata": {
        "id": "wx31J0LxEOlc",
        "outputId": "8f63ee76-191f-43dc-b5b8-38e37d88c378"
      },
      "outputs": [
        {
          "data": {
            "text/plain": [
              "<tf.Tensor: shape=(10, 2), dtype=float32, numpy=\n",
              "array([[-0.8980837 , -2.6518288 ],\n",
              "       [-0.44441807, -1.9765894 ],\n",
              "       [-0.7855463 ,  1.3923931 ],\n",
              "       [ 0.17604655, -2.050501  ],\n",
              "       [ 0.635294  ,  2.3362408 ],\n",
              "       [ 1.4230527 ,  1.0912329 ],\n",
              "       [-0.21692705, -2.416981  ],\n",
              "       [ 0.5174161 ,  0.76055366],\n",
              "       [-1.0614088 , -0.08182514],\n",
              "       [ 0.08606925, -1.5563867 ]], dtype=float32)>"
            ]
          },
          "execution_count": 4,
          "metadata": {},
          "output_type": "execute_result"
        }
      ],
      "source": [
        "# Sample from it\n",
        "\n",
        "normal_diag.sample(sample_shape=10)"
      ]
    },
    {
      "cell_type": "code",
      "execution_count": null,
      "metadata": {
        "id": "KiWLNK35EOld",
        "outputId": "6a9b5e71-c2dc-46a5-d6c5-53bbb59c07fa"
      },
      "outputs": [
        {
          "data": {
            "image/png": "[encoded data removed]",
            "text/plain": [
              "<Figure size 432x288 with 1 Axes>"
            ]
          },
          "metadata": {
            "needs_background": "light"
          },
          "output_type": "display_data"
        }
      ],
      "source": [
        "# Make a plot\n",
        "import matplotlib.pyplot as plt\n",
        "\n",
        "plt_sample = normal_diag.sample(sample_shape=10000)\n",
        "plt.scatter(x=plt_sample[:, 0], y=plt_sample[:, 1], marker='.', alpha=0.05)\n",
        "plt.axis('equal')\n",
        "plt.show()"
      ]
    },
    {
      "cell_type": "code",
      "execution_count": null,
      "metadata": {
        "id": "ncs3TcZ2EOld",
        "outputId": "a3f03543-eea6-46bd-a7b5-8fffd375039d"
      },
      "outputs": [
        {
          "data": {
            "image/png": "[encoded data removed]",
            "text/plain": [
              "<Figure size 432x288 with 1 Axes>"
            ]
          },
          "metadata": {
            "needs_background": "light"
          },
          "output_type": "display_data"
        }
      ],
      "source": [
        "import tensorflow as tf\n",
        "import tensorflow_probability as tfp\n",
        "tf.random.set_seed(seed=42)\n",
        "\n",
        "normal_diag = tfp.distributions.MultivariateNormalDiag(\n",
        "    loc=[0, 1], scale_diag=[1, 20])\n",
        "plt_sample = normal_diag.sample(sample_shape=10000)\n",
        "plt.scatter(x=plt_sample[:, 0], y=plt_sample[:, 1], marker='.', alpha=0.05)\n",
        "plt.axis('equal')\n",
        "plt.show()"
      ]
    },
    {
      "cell_type": "markdown",
      "metadata": {
        "id": "AsqoHWOfEOld"
      },
      "source": [
        "#### Batches of multivariate distributions"
      ]
    },
    {
      "cell_type": "code",
      "execution_count": null,
      "metadata": {
        "id": "zerfq9w8EOld",
        "outputId": "acb71f09-3149-4e66-d86a-f6d241eeec53"
      },
      "outputs": [
        {
          "data": {
            "text/plain": [
              "<tfp.distributions.MultivariateNormalDiag 'MultivariateNormalDiag' batch_shape=[3] event_shape=[2] dtype=float32>"
            ]
          },
          "execution_count": 7,
          "metadata": {},
          "output_type": "execute_result"
        }
      ],
      "source": [
        "# Create three \"batches\" of multivariate normals\n",
        "import tensorflow as tf\n",
        "import tensorflow_probability as tfp\n",
        "tf.random.set_seed(seed=42)\n",
        "\n",
        "normal_diag_batch = tfp.distributions.MultivariateNormalDiag(\n",
        "    loc=[[0, 0], [0, 0], [0, 0]],\n",
        "    scale_diag=[[1, 2], [2, 1], [2, 2]])\n",
        "normal_diag_batch"
      ]
    },
    {
      "cell_type": "code",
      "execution_count": null,
      "metadata": {
        "id": "p9KOnJlWEOld",
        "outputId": "04a61de9-7989-45f1-bb6c-35e66594f648"
      },
      "outputs": [
        {
          "data": {
            "text/plain": [
              "<tf.Tensor: shape=(5, 3, 2), dtype=float32, numpy=\n",
              "array([[[-0.6383433 , -2.2985559 ],\n",
              "        [-1.7312855 , -1.3332063 ],\n",
              "        [-1.6465129 , -1.5238538 ]],\n",
              "\n",
              "       [[ 0.4257505 ,  5.785669  ],\n",
              "        [-0.68529975, -1.7522513 ],\n",
              "        [-0.35573658, -1.88765   ]],\n",
              "\n",
              "       [[ 0.11156012,  1.6149896 ],\n",
              "        [-0.64763886,  1.0598668 ],\n",
              "        [ 1.5587481 ,  0.00861878]],\n",
              "\n",
              "       [[ 0.43864295, -1.2682985 ],\n",
              "        [-2.6530807 ,  0.43822196],\n",
              "        [ 0.7100409 ,  2.602631  ]],\n",
              "\n",
              "       [[ 0.13832839,  1.582189  ],\n",
              "        [ 3.270198  , -0.41152912],\n",
              "        [ 0.01903997, -0.32847282]]], dtype=float32)>"
            ]
          },
          "execution_count": 8,
          "metadata": {},
          "output_type": "execute_result"
        }
      ],
      "source": [
        "# Sample from it\n",
        "\n",
        "samples = normal_diag_batch.sample(sample_shape=5)\n",
        "samples"
      ]
    },
    {
      "cell_type": "code",
      "execution_count": null,
      "metadata": {
        "id": "4lQuPsqQEOle",
        "outputId": "eeed2035-1720-4c4a-dc64-9689cd3246df"
      },
      "outputs": [
        {
          "data": {
            "text/plain": [
              "<tf.Tensor: shape=(5, 3), dtype=float32, numpy=\n",
              "array([[-3.395185 , -3.7944124, -3.8533134],\n",
              "       [-6.8059015, -4.124921 , -3.6853929],\n",
              "       [-2.863271 , -3.1451125, -3.5278926],\n",
              "       [-2.8283005, -3.5068982, -4.133902 ],\n",
              "       [-2.8535068, -3.9524767, -3.2377036]], dtype=float32)>"
            ]
          },
          "execution_count": 9,
          "metadata": {},
          "output_type": "execute_result"
        }
      ],
      "source": [
        "# Compute log probs\n",
        "\n",
        "normal_diag_batch.log_prob(value=samples)"
      ]
    },
    {
      "cell_type": "code",
      "execution_count": null,
      "metadata": {
        "id": "WJWg-TZqEOle",
        "outputId": "3be15c97-a74e-47b1-8e5e-da1de2dd4b90"
      },
      "outputs": [
        {
          "data": {
            "text/plain": [
              "TensorShape([10000, 3, 2])"
            ]
          },
          "execution_count": 10,
          "metadata": {},
          "output_type": "execute_result"
        }
      ],
      "source": [
        "# Create a sample for a plot -- notice the shape\n",
        "\n",
        "plt_sample_batch =normal_diag_batch.sample(sample_shape=10000)\n",
        "plt_sample_batch.shape"
      ]
    },
    {
      "cell_type": "code",
      "execution_count": null,
      "metadata": {
        "id": "Lx8qvzkfEOlf",
        "outputId": "4b966ad1-4459-44d9-af4d-8acb671317fa"
      },
      "outputs": [
        {
          "data": {
            "image/png": "[encoded data removed]",
            "text/plain": [
              "<Figure size 720x216 with 3 Axes>"
            ]
          },
          "metadata": {
            "needs_background": "light"
          },
          "output_type": "display_data"
        }
      ],
      "source": [
        "# Plot samples from the batched multivariate Gaussian\n",
        "import matplotlib.pyplot as plt\n",
        "\n",
        "fig, axs = (plt.subplots(nrows=1, ncols=3,\n",
        "    sharex=True, sharey=True, figsize=(10, 3)))\n",
        "titles = ['cov_diag=[1, 2]', 'cov_diag=[2, 1]', 'cov_diag=[2, 2]']\n",
        "\n",
        "for i, (ax, title) in enumerate(zip(axs, titles)):\n",
        "    samples = plt_sample_batch[:, i, :] # take the ith batch [samples x event_shape]\n",
        "    ax.scatter(x=samples[:, 0], y=samples[:, 1], marker='.', alpha=0.05)\n",
        "    ax.set_title(label=title)\n",
        "plt.show()"
      ]
    },
    {
      "cell_type": "markdown",
      "metadata": {
        "id": "KRvXQximEOlf"
      },
      "source": [
        "\n",
        "\n",
        "***\n",
        "<a id='the_independent_distribution'></a>\n",
        "## The Independent Distribution"
      ]
    },
    {
      "cell_type": "code",
      "execution_count": null,
      "metadata": {
        "id": "KaatJpkLEOlf",
        "outputId": "d98ced6f-fb01-47c5-8ac3-3f9dfdc973a1"
      },
      "outputs": [
        {
          "name": "stdout",
          "output_type": "stream",
          "text": [
            "tfp.distributions.MultivariateNormalDiag(\"MultivariateNormalDiag\", batch_shape=[], event_shape=[2], dtype=float32)\n",
            "tf.Tensor(-2.9388978, shape=(), dtype=float32)\n"
          ]
        }
      ],
      "source": [
        "import tensorflow as tf\n",
        "import tensorflow_probability as tfp\n",
        "tf.random.set_seed(seed=42)\n",
        "\n",
        "mv_normal = tfp.distributions.MultivariateNormalDiag(\n",
        "    loc=[-1., 0.5], scale_diag=[1., 1.5])\n",
        "print(mv_normal)\n",
        "print(mv_normal.log_prob(value=[-0.2, 1.8]))"
      ]
    },
    {
      "cell_type": "code",
      "execution_count": null,
      "metadata": {
        "id": "PraZCL7DEOlg",
        "outputId": "9c558c01-be1a-4515-bde9-f7f2c00d6360"
      },
      "outputs": [
        {
          "name": "stdout",
          "output_type": "stream",
          "text": [
            "tfp.distributions.Normal(\"Normal\", batch_shape=[2], event_shape=[], dtype=float32)\n",
            "tf.Tensor([-1.2389386 -1.699959 ], shape=(2,), dtype=float32)\n"
          ]
        }
      ],
      "source": [
        "import tensorflow as tf\n",
        "import tensorflow_probability as tfp\n",
        "tf.random.set_seed(seed=42)\n",
        "\n",
        "batched_normal = tfp.distributions.Normal(\n",
        "    loc=[-1., 0.5], scale=[1., 1.5])\n",
        "print(batched_normal)\n",
        "print(batched_normal.log_prob(value=[-0.2, 1.8]))"
      ]
    },
    {
      "cell_type": "code",
      "execution_count": null,
      "metadata": {
        "id": "NCd6wVlyEOlg",
        "outputId": "e5d0d722-4e45-410b-9800-9d4537cd7b33"
      },
      "outputs": [
        {
          "name": "stdout",
          "output_type": "stream",
          "text": [
            "tfp.distributions.Independent(\"IndependentNormal\", batch_shape=[], event_shape=[2], dtype=float32)\n",
            "tf.Tensor(-2.9388976, shape=(), dtype=float32)\n"
          ]
        }
      ],
      "source": [
        "import tensorflow as tf\n",
        "import tensorflow_probability as tfp\n",
        "tf.random.set_seed(seed=42)\n",
        "\n",
        "batched_normal = tfp.distributions.Normal(\n",
        "    loc=[-1., 0.5], scale=[1., 1.5])\n",
        "\n",
        "independent_normal = tfp.distributions.Independent(\n",
        "    distributions=batched_normal, reinterpreted_batch_ndims=1)\n",
        "print(independent_normal)\n",
        "print(independent_normal.log_prob(value=[-0.2, 1.8]))"
      ]
    },
    {
      "cell_type": "code",
      "execution_count": null,
      "metadata": {
        "id": "S5y3eHnhEOlg",
        "outputId": "15caf87d-9f32-4d97-ef41-2cbbf2b77db7"
      },
      "outputs": [
        {
          "name": "stdout",
          "output_type": "stream",
          "text": [
            "tfp.distributions.Normal(\"Normal\", batch_shape=[3, 2], event_shape=[], dtype=float32)\n",
            "tfp.distributions.Independent(\"IndependentNormal\", batch_shape=[3], event_shape=[2], dtype=float32)\n"
          ]
        }
      ],
      "source": [
        "import tensorflow as tf\n",
        "import tensorflow_probability as tfp\n",
        "tf.random.set_seed(seed=42)\n",
        "\n",
        "batched_normal = tfp.distributions.Normal(\n",
        "    loc=[[-1., 0.5], [0., 1.], [0.3, -0.1]],\n",
        "    scale=[[1., 1.5], [0.2, 0.8], [2., 1.]])\n",
        "print(batched_normal)\n",
        "\n",
        "independent_normal = tfp.distributions.Independent(\n",
        "    distribution=batched_normal,\n",
        "    reinterpreted_batch_ndims=1)\n",
        "print(independent_normal)"
      ]
    },
    {
      "cell_type": "code",
      "execution_count": null,
      "metadata": {
        "id": "t12RDr4YEOlh"
      },
      "outputs": [],
      "source": [
        "# Start by defining a batch of two univariate Gaussians, then\n",
        "# combine them into a bivariate Gaussian with independent components\n",
        "import tensorflow as tf\n",
        "import tensorflow_probability as tfp\n",
        "tf.random.set_seed(seed=42)\n",
        "\n",
        "locs = [-1., 1.]\n",
        "scales = [0.5, 1.]\n",
        "batch_of_normals = tfp.distributions.Normal(loc=locs, scale=scales)"
      ]
    },
    {
      "cell_type": "code",
      "execution_count": null,
      "metadata": {
        "id": "e5Ot0cPzEOlh",
        "outputId": "f8d59e95-3cbc-4ad8-dbb3-8e75f9c7bf05"
      },
      "outputs": [
        {
          "data": {
            "image/png": "[encoded data removed]",
            "text/plain": [
              "<Figure size 432x288 with 1 Axes>"
            ]
          },
          "metadata": {
            "needs_background": "light"
          },
          "output_type": "display_data"
        }
      ],
      "source": [
        "# Univariate density functions\n",
        "import numpy as np\n",
        "np.random.seed(seed=42)\n",
        "import matplotlib.pyplot as plt\n",
        "import seaborn as sns\n",
        "\n",
        "t = np.linspace(start=-4, stop=4, num=10000)\n",
        "# each column is a vector of densities for one distn\n",
        "densities = batch_of_normals.prob(value=np.repeat(\n",
        "    a=t[:, np.newaxis], repeats=2, axis=1))\n",
        "\n",
        "sns.lineplot(x=t, y=densities[:, 0],\n",
        "    label='loc={}, scale={}'.format(locs[0], scales[0]))\n",
        "sns.lineplot(x=t, y=densities[:, 1],\n",
        "    label='loc={}, scale={}'.format(locs[1], scales[1]))\n",
        "plt.ylabel(ylabel='Probability density')\n",
        "plt.xlabel(xlabel='Value')\n",
        "plt.legend()\n",
        "plt.show()"
      ]
    },
    {
      "cell_type": "code",
      "execution_count": null,
      "metadata": {
        "id": "Q1MVj_riEOlh",
        "outputId": "abca3625-b900-482e-c222-0bfedd00902e"
      },
      "outputs": [
        {
          "data": {
            "text/plain": [
              "<tfp.distributions.Normal 'Normal' batch_shape=[2] event_shape=[] dtype=float32>"
            ]
          },
          "execution_count": 9,
          "metadata": {},
          "output_type": "execute_result"
        }
      ],
      "source": [
        "# Check their batch_shape and event_shape\n",
        "\n",
        "batch_of_normals"
      ]
    },
    {
      "cell_type": "code",
      "execution_count": null,
      "metadata": {
        "id": "fcDx1LKDEOlh"
      },
      "outputs": [],
      "source": [
        "# Use Independent to convert the batch shape to the event shape\n",
        "import tensorflow as tf\n",
        "import tensorflow_probability as tfp\n",
        "tf.random.set_seed(seed=42)\n",
        "\n",
        "bivariate_normal_from_Independent = tfp.distributions.Independent(\n",
        "    distribution=batch_of_normals,\n",
        "    reinterpreted_batch_ndims=1)"
      ]
    },
    {
      "cell_type": "code",
      "execution_count": null,
      "metadata": {
        "id": "pqPUPwgVEOli",
        "outputId": "f641bdb0-dfa2-4c13-c3d6-edd779ae347c"
      },
      "outputs": [
        {
          "data": {
            "text/plain": [
              "<tfp.distributions.Independent 'IndependentNormal' batch_shape=[] event_shape=[2] dtype=float32>"
            ]
          },
          "execution_count": 11,
          "metadata": {},
          "output_type": "execute_result"
        }
      ],
      "source": [
        "# Note that dimension from batch_shape has shifted to event_shape\n",
        "\n",
        "bivariate_normal_from_Independent"
      ]
    },
    {
      "cell_type": "code",
      "execution_count": null,
      "metadata": {
        "id": "iKX-eNjdEOli",
        "outputId": "cd254d79-78cf-4e69-92ae-3c94944877f8"
      },
      "outputs": [
        {
          "data": {
            "image/png": "[encoded data removed]",
            "text/plain": [
              "<Figure size 432x432 with 3 Axes>"
            ]
          },
          "metadata": {
            "needs_background": "light"
          },
          "output_type": "display_data"
        }
      ],
      "source": [
        "# Create a plot showing joint density contours and marginal density functions\n",
        "import matplotlib.pyplot as plt\n",
        "import seaborn as sns\n",
        "\n",
        "samples = bivariate_normal_from_Independent.sample(sample_shape=10000)\n",
        "x1 = samples[:, 0]\n",
        "x2 = samples[:, 1]\n",
        "sns.jointplot(x=x1, y=x2, kind=\"kde\", space=0, color='b',\n",
        "    xlim=[-4, 4], ylim=[-4, 4])\n",
        "plt.show()"
      ]
    },
    {
      "cell_type": "code",
      "execution_count": null,
      "metadata": {
        "id": "vxRYU1qpEOlj",
        "outputId": "92412c7f-da0b-4e6d-af14-576ab2a9f6b9"
      },
      "outputs": [
        {
          "data": {
            "text/plain": [
              "<tfp.distributions.MultivariateNormalDiag 'MultivariateNormalDiag' batch_shape=[] event_shape=[2] dtype=float32>"
            ]
          },
          "execution_count": 13,
          "metadata": {},
          "output_type": "execute_result"
        }
      ],
      "source": [
        "# Use MultivariateNormalDiag to create the equivalent distribution\n",
        "# Note that diagonal covariance matrix => no correlation => independence (for the multivariate normal distribution)\n",
        "import tensorflow as tf\n",
        "import tensorflow_probability as tfp\n",
        "tf.random.set_seed(seed=42)\n",
        "\n",
        "bivariate_normal_from_Multivariate = tfp.distributions.MultivariateNormalDiag(\n",
        "    loc=locs, scale_diag=scales)\n",
        "bivariate_normal_from_Multivariate"
      ]
    },
    {
      "cell_type": "code",
      "execution_count": null,
      "metadata": {
        "id": "L83CwrW9EOlj",
        "outputId": "65763702-8c0b-44d6-ddd7-0690440ecaa1"
      },
      "outputs": [
        {
          "data": {
            "image/png": "[encoded data removed]",
            "text/plain": [
              "<Figure size 432x432 with 3 Axes>"
            ]
          },
          "metadata": {
            "needs_background": "light"
          },
          "output_type": "display_data"
        }
      ],
      "source": [
        "# Plot the joint density function of bivariate_normal_from_Multivariate\n",
        "# Refer back to bivariate_normal_from_Independent to show that the plot is the same\n",
        "# Summarise how Independent has been used\n",
        "import matplotlib.pyplot as plt\n",
        "import seaborn as sns\n",
        "\n",
        "samples = bivariate_normal_from_Multivariate.sample(sample_shape=10000)\n",
        "x1 = samples[:, 0]\n",
        "x2 = samples[:, 1]\n",
        "sns.jointplot(x=x1, x=x2, kind=\"kde\", space=0, color='b',\n",
        "    xlim=[-4, 4], ylim=[-4, 4])\n",
        "plt.show()"
      ]
    },
    {
      "cell_type": "markdown",
      "metadata": {
        "id": "6c0ho899EOlj"
      },
      "source": [
        "#### Shifting batch dimensions to event dimensions using\n",
        "`reinterpreted_batch_ndims`"
      ]
    },
    {
      "cell_type": "code",
      "execution_count": null,
      "metadata": {
        "id": "PeAGwebKEOlk"
      },
      "outputs": [],
      "source": [
        "# Demonstrate use of reinterpreted_batch_ndims\n",
        "# By default all batch dims except the first are transferred to event dims\n",
        "import tensorflow as tf\n",
        "import tensorflow_probability as tfp\n",
        "tf.random.set_seed(seed=42)\n",
        "\n",
        "loc_grid = [\n",
        "    [-100., -100.],\n",
        "    [100., 100.],\n",
        "    [0., 0.]\n",
        "]\n",
        "scale_grid = [\n",
        "    [1., 10.],\n",
        "    [1., 10.],\n",
        "    [1., 1.]\n",
        "]\n",
        "\n",
        "normals_batch_3by2_event_1 = tfp.distributions.Normal(loc=loc_grid, scale=scale_grid)"
      ]
    },
    {
      "cell_type": "code",
      "execution_count": null,
      "metadata": {
        "id": "l1D8P-pBEOlk",
        "outputId": "94a2463c-c35e-407b-ff75-07d395553389"
      },
      "outputs": [
        {
          "data": {
            "text/plain": [
              "<tfp.distributions.Normal 'Normal' batch_shape=[3, 2] event_shape=[] dtype=float32>"
            ]
          },
          "execution_count": 16,
          "metadata": {},
          "output_type": "execute_result"
        }
      ],
      "source": [
        "# Highlight batch_shape\n",
        "\n",
        "normals_batch_3by2_event_1"
      ]
    },
    {
      "cell_type": "code",
      "execution_count": null,
      "metadata": {
        "id": "jFybegxBEOlk",
        "outputId": "09f0a0c4-bcd7-4834-92b6-6a26bf8523f7"
      },
      "outputs": [
        {
          "data": {
            "text/plain": [
              "<tfp.distributions.Independent 'IndependentNormal' batch_shape=[3] event_shape=[2] dtype=float32>"
            ]
          },
          "execution_count": 17,
          "metadata": {},
          "output_type": "execute_result"
        }
      ],
      "source": [
        "# We now have a batch of 3 bivariate normal distributions,\n",
        "# each parametrised by a column of our original parameter grid\n",
        "import tensorflow as tf\n",
        "import tensorflow_probability as tfp\n",
        "tf.random.set_seed(seed=42)\n",
        "\n",
        "normals_batch_3_event_2 = tfp.distributions.Independent(\n",
        "    distribution=normals_batch_3by2_event_1)\n",
        "normals_batch_3_event_2"
      ]
    },
    {
      "cell_type": "code",
      "execution_count": null,
      "metadata": {
        "id": "WoElUFahEOlk",
        "outputId": "ffe3a0c0-7f4a-4606-c408-cb9721f311e7"
      },
      "outputs": [
        {
          "data": {
            "text/plain": [
              "<tf.Tensor: shape=(3,), dtype=float32, numpy=array([-4.1146406e+03, -4.1404624e+00, -2.8378770e+00], dtype=float32)>"
            ]
          },
          "execution_count": 18,
          "metadata": {},
          "output_type": "execute_result"
        }
      ],
      "source": [
        "# Evaluate log_prob\n",
        "\n",
        "normals_batch_3_event_2.log_prob(value=[\n",
        "    [-10., 10.], [100., 100.], [1., 1.]])"
      ]
    },
    {
      "cell_type": "code",
      "execution_count": null,
      "metadata": {
        "id": "EeUKFOYFEOll",
        "outputId": "e939d2c2-3919-4c79-e054-53f9a7dd8b6d"
      },
      "outputs": [
        {
          "data": {
            "text/plain": [
              "<tfp.distributions.Independent 'IndependentNormal' batch_shape=[] event_shape=[3, 2] dtype=float32>"
            ]
          },
          "execution_count": 19,
          "metadata": {},
          "output_type": "execute_result"
        }
      ],
      "source": [
        "# Can reinterpret _all_ batch dimensions as event dimensions\n",
        "import tensorflow as tf\n",
        "import tensorflow_probability as tfp\n",
        "tf.random.set_seed(seed=42)\n",
        "\n",
        "normals_batch_1_event_3by2 = tfp.distributions.Independent(\n",
        "    distribution=normals_batch_3by2_event_1,\n",
        "    reinterpreted_batch_ndims=2)\n",
        "normals_batch_1_event_3by2"
      ]
    },
    {
      "cell_type": "code",
      "execution_count": null,
      "metadata": {
        "id": "jG7Hk8IJEOll",
        "outputId": "75309cd3-3fc9-4989-f2f7-7a69015d55dc"
      },
      "outputs": [
        {
          "data": {
            "text/plain": [
              "<tf.Tensor: shape=(), dtype=float32, numpy=-4121.619>"
            ]
          },
          "execution_count": 20,
          "metadata": {},
          "output_type": "execute_result"
        }
      ],
      "source": [
        "# Take log_probs\n",
        "\n",
        "normals_batch_1_event_3by2.log_prob(value=[\n",
        "    [-10., 10.], [100., 100.], [1., 1.]])"
      ]
    },
    {
      "cell_type": "markdown",
      "metadata": {
        "id": "eocrE5g6EOll"
      },
      "source": [
        "#### Using `Independent` to build a Naive Bayes classifier"
      ]
    },
    {
      "cell_type": "markdown",
      "metadata": {
        "id": "qMWpzxTZEOll"
      },
      "source": [
        "#### Introduction to `newsgroups` data set"
      ]
    },
    {
      "cell_type": "markdown",
      "metadata": {
        "id": "DnI_1cD-EOll"
      },
      "source": [
        "In this tutorial, just load the dataset, fetch train/test splits, probably choose a subset of the data.\n",
        "\n",
        "Construct the class conditional feature distribution (with Independent, using the Naive Bayes assumption) and sample from it.\n",
        "\n",
        "We can just use the ML estimates for parameters, in later tutorials we will learn them."
      ]
    },
    {
      "cell_type": "code",
      "execution_count": null,
      "metadata": {
        "id": "DQsRfs5-EOll"
      },
      "outputs": [],
      "source": [
        "# Convenience function for retrieving the 20 newsgroups data set\n",
        "\n",
        "# Usenet was a forerunner to modern internet forums\n",
        "# Users could post and read articles\n",
        "# Newsgroup corresponded to a topic\n",
        "# Example topics in this data set: IBM computer hardware, baseball\n",
        "# Our objective is to use an article's contents to predict its newsgroup,\n",
        "# a 20-class classification problem.\n",
        "\n",
        "# 18000 newsgroups, posts on 20 topics\n",
        "from sklearn.datasets import fetch_20newsgroups\n",
        "from sklearn.feature_extraction.text import CountVectorizer"
      ]
    },
    {
      "cell_type": "code",
      "execution_count": null,
      "metadata": {
        "id": "5ONkM-m9EOlm"
      },
      "outputs": [],
      "source": [
        "# Get the train data\n",
        "from sklearn import datasets\n",
        "\n",
        "newsgroups_data = datasets.fetch_20newsgroups(\n",
        "    data_home='20_Newsgroup_Data/', subset='train')"
      ]
    },
    {
      "cell_type": "code",
      "execution_count": null,
      "metadata": {
        "collapsed": true,
        "id": "eB32IZ6-EOlm",
        "outputId": "32558519-570b-4d45-8f08-0652f755508f"
      },
      "outputs": [
        {
          "name": "stdout",
          "output_type": "stream",
          "text": [
            ".. _20newsgroups_dataset:\n",
            "\n",
            "The 20 newsgroups text dataset\n",
            "------------------------------\n",
            "\n",
            "The 20 newsgroups dataset comprises around 18000 newsgroups posts on\n",
            "20 topics split in two subsets: one for training (or development)\n",
            "and the other one for testing (or for performance evaluation). The split\n",
            "between the train and test set is based upon a messages posted before\n",
            "and after a specific date.\n",
            "\n",
            "This module contains two loaders. The first one,\n",
            ":func:`sklearn.datasets.fetch_20newsgroups`,\n",
            "returns a list of the raw texts that can be fed to text feature\n",
            "extractors such as :class:`sklearn.feature_extraction.text.CountVectorizer`\n",
            "with custom parameters so as to extract feature vectors.\n",
            "The second one, :func:`sklearn.datasets.fetch_20newsgroups_vectorized`,\n",
            "returns ready-to-use features, i.e., it is not necessary to use a feature\n",
            "extractor.\n",
            "\n",
            "**Data Set Characteristics:**\n",
            "\n",
            "    =================   ==========\n",
            "    Classes                     20\n",
            "    Samples total            18846\n",
            "    Dimensionality               1\n",
            "    Features                  text\n",
            "    =================   ==========\n",
            "\n",
            "Usage\n",
            "~~~~~\n",
            "\n",
            "The :func:`sklearn.datasets.fetch_20newsgroups` function is a data\n",
            "fetching / caching functions that downloads the data archive from\n",
            "the original `20 newsgroups website`_, extracts the archive contents\n",
            "in the ``~/scikit_learn_data/20news_home`` folder and calls the\n",
            ":func:`sklearn.datasets.load_files` on either the training or\n",
            "testing set folder, or both of them::\n",
            "\n",
            "  >>> from sklearn.datasets import fetch_20newsgroups\n",
            "  >>> newsgroups_train = fetch_20newsgroups(subset='train')\n",
            "\n",
            "  >>> from pprint import pprint\n",
            "  >>> pprint(list(newsgroups_train.target_names))\n",
            "  ['alt.atheism',\n",
            "   'comp.graphics',\n",
            "   'comp.os.ms-windows.misc',\n",
            "   'comp.sys.ibm.pc.hardware',\n",
            "   'comp.sys.mac.hardware',\n",
            "   'comp.windows.x',\n",
            "   'misc.forsale',\n",
            "   'rec.autos',\n",
            "   'rec.motorcycles',\n",
            "   'rec.sport.baseball',\n",
            "   'rec.sport.hockey',\n",
            "   'sci.crypt',\n",
            "   'sci.electronics',\n",
            "   'sci.med',\n",
            "   'sci.space',\n",
            "   'soc.religion.christian',\n",
            "   'talk.politics.guns',\n",
            "   'talk.politics.mideast',\n",
            "   'talk.politics.misc',\n",
            "   'talk.religion.misc']\n",
            "\n",
            "The real data lies in the ``filenames`` and ``target`` attributes. The target\n",
            "attribute is the integer index of the category::\n",
            "\n",
            "  >>> newsgroups_train.filenames.shape\n",
            "  (11314,)\n",
            "  >>> newsgroups_train.target.shape\n",
            "  (11314,)\n",
            "  >>> newsgroups_train.target[:10]\n",
            "  array([ 7,  4,  4,  1, 14, 16, 13,  3,  2,  4])\n",
            "\n",
            "It is possible to load only a sub-selection of the categories by passing the\n",
            "list of the categories to load to the\n",
            ":func:`sklearn.datasets.fetch_20newsgroups` function::\n",
            "\n",
            "  >>> cats = ['alt.atheism', 'sci.space']\n",
            "  >>> newsgroups_train = fetch_20newsgroups(subset='train', categories=cats)\n",
            "\n",
            "  >>> list(newsgroups_train.target_names)\n",
            "  ['alt.atheism', 'sci.space']\n",
            "  >>> newsgroups_train.filenames.shape\n",
            "  (1073,)\n",
            "  >>> newsgroups_train.target.shape\n",
            "  (1073,)\n",
            "  >>> newsgroups_train.target[:10]\n",
            "  array([0, 1, 1, 1, 0, 1, 1, 0, 0, 0])\n",
            "\n",
            "Converting text to vectors\n",
            "~~~~~~~~~~~~~~~~~~~~~~~~~~\n",
            "\n",
            "In order to feed predictive or clustering models with the text data,\n",
            "one first need to turn the text into vectors of numerical values suitable\n",
            "for statistical analysis. This can be achieved with the utilities of the\n",
            "``sklearn.feature_extraction.text`` as demonstrated in the following\n",
            "example that extract `TF-IDF`_ vectors of unigram tokens\n",
            "from a subset of 20news::\n",
            "\n",
            "  >>> from sklearn.feature_extraction.text import TfidfVectorizer\n",
            "  >>> categories = ['alt.atheism', 'talk.religion.misc',\n",
            "  ...               'comp.graphics', 'sci.space']\n",
            "  >>> newsgroups_train = fetch_20newsgroups(subset='train',\n",
            "  ...                                       categories=categories)\n",
            "  >>> vectorizer = TfidfVectorizer()\n",
            "  >>> vectors = vectorizer.fit_transform(newsgroups_train.data)\n",
            "  >>> vectors.shape\n",
            "  (2034, 34118)\n",
            "\n",
            "The extracted TF-IDF vectors are very sparse, with an average of 159 non-zero\n",
            "components by sample in a more than 30000-dimensional space\n",
            "(less than .5% non-zero features)::\n",
            "\n",
            "  >>> vectors.nnz / float(vectors.shape[0])       # doctest: +ELLIPSIS\n",
            "  159.01327...\n",
            "\n",
            ":func:`sklearn.datasets.fetch_20newsgroups_vectorized` is a function which \n",
            "returns ready-to-use token counts features instead of file names.\n",
            "\n",
            ".. _`20 newsgroups website`: http://people.csail.mit.edu/jrennie/20Newsgroups/\n",
            ".. _`TF-IDF`: https://en.wikipedia.org/wiki/Tf-idf\n",
            "\n",
            "\n",
            "Filtering text for more realistic training\n",
            "~~~~~~~~~~~~~~~~~~~~~~~~~~~~~~~~~~~~~~~~~~\n",
            "\n",
            "It is easy for a classifier to overfit on particular things that appear in the\n",
            "20 Newsgroups data, such as newsgroup headers. Many classifiers achieve very\n",
            "high F-scores, but their results would not generalize to other documents that\n",
            "aren't from this window of time.\n",
            "\n",
            "For example, let's look at the results of a multinomial Naive Bayes classifier,\n",
            "which is fast to train and achieves a decent F-score::\n",
            "\n",
            "  >>> from sklearn.naive_bayes import MultinomialNB\n",
            "  >>> from sklearn import metrics\n",
            "  >>> newsgroups_test = fetch_20newsgroups(subset='test',\n",
            "  ...                                      categories=categories)\n",
            "  >>> vectors_test = vectorizer.transform(newsgroups_test.data)\n",
            "  >>> clf = MultinomialNB(alpha=.01)\n",
            "  >>> clf.fit(vectors, newsgroups_train.target)\n",
            "  MultinomialNB(alpha=0.01, class_prior=None, fit_prior=True)\n",
            "\n",
            "  >>> pred = clf.predict(vectors_test)\n",
            "  >>> metrics.f1_score(newsgroups_test.target, pred, average='macro')  # doctest: +ELLIPSIS\n",
            "  0.88213...\n",
            "\n",
            "(The example :ref:`sphx_glr_auto_examples_text_plot_document_classification_20newsgroups.py` shuffles\n",
            "the training and test data, instead of segmenting by time, and in that case\n",
            "multinomial Naive Bayes gets a much higher F-score of 0.88. Are you suspicious\n",
            "yet of what's going on inside this classifier?)\n",
            "\n",
            "Let's take a look at what the most informative features are:\n",
            "\n",
            "  >>> import numpy as np\n",
            "  >>> def show_top10(classifier, vectorizer, categories):\n",
            "  ...     feature_names = np.asarray(vectorizer.get_feature_names())\n",
            "  ...     for i, category in enumerate(categories):\n",
            "  ...         top10 = np.argsort(classifier.coef_[i])[-10:]\n",
            "  ...         print(\"%s: %s\" % (category, \" \".join(feature_names[top10])))\n",
            "  ...\n",
            "  >>> show_top10(clf, vectorizer, newsgroups_train.target_names)\n",
            "  alt.atheism: edu it and in you that is of to the\n",
            "  comp.graphics: edu in graphics it is for and of to the\n",
            "  sci.space: edu it that is in and space to of the\n",
            "  talk.religion.misc: not it you in is that and to of the\n",
            "\n",
            "\n",
            "You can now see many things that these features have overfit to:\n",
            "\n",
            "- Almost every group is distinguished by whether headers such as\n",
            "  ``NNTP-Posting-Host:`` and ``Distribution:`` appear more or less often.\n",
            "- Another significant feature involves whether the sender is affiliated with\n",
            "  a university, as indicated either by their headers or their signature.\n",
            "- The word \"article\" is a significant feature, based on how often people quote\n",
            "  previous posts like this: \"In article [article ID], [name] <[e-mail address]>\n",
            "  wrote:\"\n",
            "- Other features match the names and e-mail addresses of particular people who\n",
            "  were posting at the time.\n",
            "\n",
            "With such an abundance of clues that distinguish newsgroups, the classifiers\n",
            "barely have to identify topics from text at all, and they all perform at the\n",
            "same high level.\n",
            "\n",
            "For this reason, the functions that load 20 Newsgroups data provide a\n",
            "parameter called **remove**, telling it what kinds of information to strip out\n",
            "of each file. **remove** should be a tuple containing any subset of\n",
            "``('headers', 'footers', 'quotes')``, telling it to remove headers, signature\n",
            "blocks, and quotation blocks respectively.\n",
            "\n",
            "  >>> newsgroups_test = fetch_20newsgroups(subset='test',\n",
            "  ...                                      remove=('headers', 'footers', 'quotes'),\n",
            "  ...                                      categories=categories)\n",
            "  >>> vectors_test = vectorizer.transform(newsgroups_test.data)\n",
            "  >>> pred = clf.predict(vectors_test)\n",
            "  >>> metrics.f1_score(pred, newsgroups_test.target, average='macro')  # doctest: +ELLIPSIS\n",
            "  0.77310...\n",
            "\n",
            "This classifier lost over a lot of its F-score, just because we removed\n",
            "metadata that has little to do with topic classification.\n",
            "It loses even more if we also strip this metadata from the training data:\n",
            "\n",
            "  >>> newsgroups_train = fetch_20newsgroups(subset='train',\n",
            "  ...                                       remove=('headers', 'footers', 'quotes'),\n",
            "  ...                                       categories=categories)\n",
            "  >>> vectors = vectorizer.fit_transform(newsgroups_train.data)\n",
            "  >>> clf = MultinomialNB(alpha=.01)\n",
            "  >>> clf.fit(vectors, newsgroups_train.target)\n",
            "  MultinomialNB(alpha=0.01, class_prior=None, fit_prior=True)\n",
            "\n",
            "  >>> vectors_test = vectorizer.transform(newsgroups_test.data)\n",
            "  >>> pred = clf.predict(vectors_test)\n",
            "  >>> metrics.f1_score(newsgroups_test.target, pred, average='macro')  # doctest: +ELLIPSIS\n",
            "  0.76995...\n",
            "\n",
            "Some other classifiers cope better with this harder version of the task. Try\n",
            "running :ref:`sphx_glr_auto_examples_model_selection_grid_search_text_feature_extraction.py` with and without\n",
            "the ``--filter`` option to compare the results.\n",
            "\n",
            ".. topic:: Recommendation\n",
            "\n",
            "  When evaluating text classifiers on the 20 Newsgroups data, you\n",
            "  should strip newsgroup-related metadata. In scikit-learn, you can do this by\n",
            "  setting ``remove=('headers', 'footers', 'quotes')``. The F-score will be\n",
            "  lower because it is more realistic.\n",
            "\n",
            ".. topic:: Examples\n",
            "\n",
            "   * :ref:`sphx_glr_auto_examples_model_selection_grid_search_text_feature_extraction.py`\n",
            "\n",
            "   * :ref:`sphx_glr_auto_examples_text_plot_document_classification_20newsgroups.py`\n",
            "\n"
          ]
        }
      ],
      "source": [
        "# More information about the data set\n",
        "\n",
        "print(newsgroups_data['DESCR'])"
      ]
    },
    {
      "cell_type": "code",
      "execution_count": null,
      "metadata": {
        "collapsed": true,
        "id": "JsFZjHe0EOlm",
        "outputId": "f9b15076-60b8-4146-9d74-aa31bb9d0c8b"
      },
      "outputs": [
        {
          "name": "stdout",
          "output_type": "stream",
          "text": [
            "From: lerxst@wam.umd.edu (where's my thing)\n",
            "Subject: WHAT car is this!?\n",
            "Nntp-Posting-Host: rac3.wam.umd.edu\n",
            "Organization: University of Maryland, College Park\n",
            "Lines: 15\n",
            "\n",
            " I was wondering if anyone out there could enlighten me on this car I saw\n",
            "the other day. It was a 2-door sports car, looked to be from the late 60s/\n",
            "early 70s. It was called a Bricklin. The doors were really small. In addition,\n",
            "the front bumper was separate from the rest of the body. This is \n",
            "all I know. If anyone can tellme a model name, engine specs, years\n",
            "of production, where this car is made, history, or whatever info you\n",
            "have on this funky looking car, please e-mail.\n",
            "\n",
            "Thanks,\n",
            "- IL\n",
            "   ---- brought to you by your neighborhood Lerxst ----\n",
            "\n",
            "\n",
            "\n",
            "\n",
            "\n"
          ]
        }
      ],
      "source": [
        "# Example article\n",
        "\n",
        "print(newsgroups_data['data'][0])"
      ]
    },
    {
      "cell_type": "code",
      "execution_count": null,
      "metadata": {
        "id": "zSP1cSNSEOlm",
        "outputId": "b24e4afe-444b-41ca-cfc2-6be657991095"
      },
      "outputs": [
        {
          "data": {
            "text/plain": [
              "7"
            ]
          },
          "execution_count": 25,
          "metadata": {},
          "output_type": "execute_result"
        }
      ],
      "source": [
        "# Associated label\n",
        "\n",
        "newsgroups_data['target'][0]"
      ]
    },
    {
      "cell_type": "code",
      "execution_count": null,
      "metadata": {
        "id": "2xeikjBCEOlm",
        "outputId": "f51c88e0-8314-46c9-a7cb-1066bc45af61"
      },
      "outputs": [
        {
          "data": {
            "text/plain": [
              "'rec.autos'"
            ]
          },
          "execution_count": 26,
          "metadata": {},
          "output_type": "execute_result"
        }
      ],
      "source": [
        "# Name of label\n",
        "\n",
        "newsgroups_data['target_names'][7]"
      ]
    },
    {
      "cell_type": "code",
      "execution_count": null,
      "metadata": {
        "id": "UFnb_NIHEOln"
      },
      "outputs": [],
      "source": [
        "# Preprocessing boilerplate\n",
        "from sklearn.feature_extraction import text\n",
        "\n",
        "n_documents = len(newsgroups_data['data'])\n",
        "\n",
        "count_vectorizer = text.CountVectorizer(input='content', binary=True,\n",
        "    max_df=0.25, min_df=1.01/n_documents) # ignore common words, words that appear once\n",
        "binary_bag_of_words = count_vectorizer.fit_transform(\n",
        "    raw_documents=newsgroups_data['data']) # input is a list of strings"
      ]
    },
    {
      "cell_type": "code",
      "execution_count": null,
      "metadata": {
        "id": "KADs2NGuEOln",
        "outputId": "7f68c288-8262-4ba3-c619-d49197df3e0e"
      },
      "outputs": [
        {
          "data": {
            "text/plain": [
              "(11314, 56365)"
            ]
          },
          "execution_count": 28,
          "metadata": {},
          "output_type": "execute_result"
        }
      ],
      "source": [
        "# Check shape\n",
        "\n",
        "binary_bag_of_words.shape"
      ]
    },
    {
      "cell_type": "code",
      "execution_count": null,
      "metadata": {
        "id": "JkMSfaTeEOln",
        "outputId": "724766da-8261-40f2-e6e0-076e47ae5004"
      },
      "outputs": [
        {
          "data": {
            "text/plain": [
              "[array(['lerxst', 'wam', 'umd', 'where', 'thing', 'car', 'rac3',\n",
              "        'maryland', 'college', 'park', '15', 'wondering', 'anyone',\n",
              "        'could', 'enlighten', 'saw', 'day', 'door', 'sports', 'looked',\n",
              "        'late', '60s', 'early', '70s', 'called', 'bricklin', 'doors',\n",
              "        'were', 'really', 'small', 'addition', 'front', 'bumper',\n",
              "        'separate', 'rest', 'body', 'tellme', 'model', 'name', 'engine',\n",
              "        'specs', 'years', 'production', 'made', 'history', 'whatever',\n",
              "        'info', 'funky', 'looking', 'please', 'mail', 'thanks', 'il',\n",
              "        'brought', 'neighborhood'], dtype='<U80')]"
            ]
          },
          "execution_count": 29,
          "metadata": {},
          "output_type": "execute_result"
        }
      ],
      "source": [
        "# Check that the fit has been successful\n",
        "\n",
        "count_vectorizer.inverse_transform(X=binary_bag_of_words[0, :])"
      ]
    },
    {
      "cell_type": "code",
      "execution_count": null,
      "metadata": {
        "id": "AWqN-NWfEOlo"
      },
      "outputs": [],
      "source": [
        "# Dict that will be useful later\n",
        "\n",
        "inv_vocabulary = {value:key for key, value\n",
        "    in count_vectorizer.vocabulary_.items()}"
      ]
    },
    {
      "cell_type": "markdown",
      "metadata": {
        "id": "OnN6IvF2EOlo"
      },
      "source": [
        "#### A Naive Bayes classifier for `newsgroup`"
      ]
    },
    {
      "cell_type": "markdown",
      "metadata": {
        "id": "lPIETJSOEOlo"
      },
      "source": [
        "Each feature vector $x$ is a list of indicators for whether a word appears in the article. $x_i$ is 1 if the $i$th word appears, and 0 otherwise. `inv_vocabulary` matches word indices $i$ to words.\n",
        "\n",
        "Each label $y$ is a value in $0, 1, \\ldots, 19$.\n",
        "\n",
        "The parts of a naive Bayes classifier for this problem can be summarised as:  \n",
        "\n",
        "\n",
        "- A probability distribution for the feature vector by class, $p(x|y = j)$ for each $j = 0, 1, \\ldots, 19$. These probability distributions are assumed to have independent components: we can factorize the joint probability as a product of marginal probabilities\n",
        "\\begin{equation}\n",
        "    p(x|y = j) = \\prod_{i=1}^d p(x_i|y = j)\n",
        "\\end{equation}\n",
        "These marginal probability distributions are Bernoulli distributions, each of which has a single parameter $\\theta_{ji} := p(x_i = 1|y = j)$. This parameter is the probability of observing word $i$ in an article of class $j$.\n",
        "\n",
        "- We will use the Laplace smoothed maximum likelihood estimate to compute these parameters. Laplace smoothing involves adding small counts to every feature for each class. Else, if a feature did not appear in the training set of a class, but then we observed it in our test data the log probability would be undefined.\n",
        "\n",
        "- A collection of class prior probabilities $p(y = j)$. These will be set by computing the class base rates in the training set.  \n",
        "\n",
        "\n",
        "- A function for computing the probability of class membership via Bayes' theorem:  \n",
        "\n",
        "\\begin{equation}\n",
        "    p(y = j|x) = \\frac{p(x|y = j)p(y = j)}{p(x)}\n",
        "\\end{equation}"
      ]
    },
    {
      "cell_type": "code",
      "execution_count": null,
      "metadata": {
        "id": "VwgjyX38EOlo"
      },
      "outputs": [],
      "source": [
        "# Compute the parameter estimates (adjusted fraction of documents in class that contain word)\n",
        "import numpy as np\n",
        "\n",
        "n_classes = newsgroups_data['target'].max() + 1\n",
        "y = newsgroups_data['target']\n",
        "n_words = binary_bag_of_words.shape[1]\n",
        "\n",
        "alpha = 1e-6 # parameters for Laplace smoothing\n",
        "\n",
        "theta = np.zeros(shape=[n_classes, n_words]) # stores parameter values - prob. word given class\n",
        "for c_k in range(n_classes): # 0, 1, ..., 19\n",
        "    class_mask = (y == c_k)\n",
        "    N = class_mask.sum() # number of articles in class\n",
        "    theta[c_k, :] = (binary_bag_of_words[class_mask, :].sum(axis=0) + alpha)/(N + alpha*2)"
      ]
    },
    {
      "cell_type": "code",
      "execution_count": null,
      "metadata": {
        "id": "2v4s3WPnEOlo",
        "outputId": "b56957a5-91f4-4e0c-bd09-965fda5af64c"
      },
      "outputs": [
        {
          "name": "stdout",
          "output_type": "stream",
          "text": [
            "Most probable word in class alt.atheism is \"people\".\n",
            "Most probable word in class comp.graphics is \"graphics\".\n",
            "Most probable word in class comp.os.ms-windows.misc is \"windows\".\n",
            "Most probable word in class comp.sys.ibm.pc.hardware is \"thanks\".\n",
            "Most probable word in class comp.sys.mac.hardware is \"mac\".\n",
            "Most probable word in class comp.windows.x is \"window\".\n",
            "Most probable word in class misc.forsale is \"sale\".\n",
            "Most probable word in class rec.autos is \"car\".\n",
            "Most probable word in class rec.motorcycles is \"dod\".\n",
            "Most probable word in class rec.sport.baseball is \"he\".\n",
            "Most probable word in class rec.sport.hockey is \"ca\".\n",
            "Most probable word in class sci.crypt is \"clipper\".\n",
            "Most probable word in class sci.electronics is \"use\".\n",
            "Most probable word in class sci.med is \"reply\".\n",
            "Most probable word in class sci.space is \"space\".\n",
            "Most probable word in class soc.religion.christian is \"god\".\n",
            "Most probable word in class talk.politics.guns is \"people\".\n",
            "Most probable word in class talk.politics.mideast is \"people\".\n",
            "Most probable word in class talk.politics.misc is \"people\".\n",
            "Most probable word in class talk.religion.misc is \"he\".\n"
          ]
        }
      ],
      "source": [
        "# Check whether the most probable word in each class is reasonable\n",
        "\n",
        "most_probable_word_ix = theta.argmax(axis=1) # most probable word for each class\n",
        "\n",
        "for j, ix in enumerate(most_probable_word_ix):\n",
        "    print('Most probable word in class {} is \"{}\".'.format(\n",
        "        newsgroups_data['target_names'][j], inv_vocabulary[ix]))"
      ]
    },
    {
      "cell_type": "code",
      "execution_count": null,
      "metadata": {
        "id": "MbuJKX3yEOlp",
        "outputId": "493c4f6d-cf34-4c85-a43e-1d7e334f96b1"
      },
      "outputs": [
        {
          "data": {
            "text/plain": [
              "<tfp.distributions.Independent 'IndependentBernoulli' batch_shape=[20] event_shape=[56365] dtype=int32>"
            ]
          },
          "execution_count": 33,
          "metadata": {},
          "output_type": "execute_result"
        }
      ],
      "source": [
        "# Define a distribution for each class\n",
        "import tensorflow as tf\n",
        "import tensorflow_probability as tfp\n",
        "tf.random.set_seed(seed=42)\n",
        "\n",
        "batch_of_bernoullis = tfp.distributions.Bernoulli(probs=theta)\n",
        "p_x_given_y = tfp.distributions.Independent(\n",
        "    distribution=batch_of_bernoullis,\n",
        "    reinterpreted_batch_ndims=1)\n",
        "p_x_given_y"
      ]
    },
    {
      "cell_type": "code",
      "execution_count": null,
      "metadata": {
        "id": "aw9tpf1KEOlp",
        "outputId": "db86f8ac-dc79-47f1-d94e-dc34e95baeed"
      },
      "outputs": [
        {
          "data": {
            "text/plain": [
              "TensorShape([10, 20, 56365])"
            ]
          },
          "execution_count": 34,
          "metadata": {},
          "output_type": "execute_result"
        }
      ],
      "source": [
        "# Take a sample of words from each class\n",
        "\n",
        "n_samples = 10\n",
        "sample = p_x_given_y.sample(sample_shape=n_samples)\n",
        "sample.shape"
      ]
    },
    {
      "cell_type": "code",
      "execution_count": null,
      "metadata": {
        "id": "IyXSufXREOlp",
        "outputId": "a17341e9-77a9-470b-e71e-e7cbbe59af76"
      },
      "outputs": [
        {
          "data": {
            "text/plain": [
              "'soc.religion.christian'"
            ]
          },
          "execution_count": 35,
          "metadata": {},
          "output_type": "execute_result"
        }
      ],
      "source": [
        "# Choose a class\n",
        "\n",
        "chosen_class = 15\n",
        "newsgroups_data['target_names'][chosen_class]"
      ]
    },
    {
      "cell_type": "code",
      "execution_count": null,
      "metadata": {
        "id": "di0Hk16xEOlp",
        "outputId": "3b17b5d1-c532-438a-ac1a-d2d2b69b88af"
      },
      "outputs": [
        {
          "data": {
            "text/plain": [
              "<tf.Tensor: shape=(10, 56365), dtype=int32, numpy=\n",
              "array([[0, 0, 0, ..., 0, 0, 0],\n",
              "       [0, 0, 0, ..., 0, 0, 0],\n",
              "       [0, 0, 0, ..., 0, 0, 0],\n",
              "       ...,\n",
              "       [0, 0, 0, ..., 0, 0, 0],\n",
              "       [1, 0, 0, ..., 0, 0, 0],\n",
              "       [0, 0, 0, ..., 0, 0, 0]], dtype=int32)>"
            ]
          },
          "execution_count": 36,
          "metadata": {},
          "output_type": "execute_result"
        }
      ],
      "source": [
        "# Indicators for words that appear in the sample\n",
        "\n",
        "class_sample = sample[:, chosen_class, :]\n",
        "class_sample"
      ]
    },
    {
      "cell_type": "code",
      "execution_count": null,
      "metadata": {
        "id": "EUioACErEOlp",
        "outputId": "43132f19-1061-45b6-f3e3-ba9ad30ee024",
        "collapsed": true
      },
      "outputs": [
        {
          "data": {
            "text/plain": [
              "[array(['03', '09', '5of5', 'able', 'add', 'advocate', 'agony', 'alone',\n",
              "        'altogether', 'andy', 'aside', 'assume', 'been', 'before',\n",
              "        'better', 'bible', 'biblical', 'blood', 'boundary', 'cgsvax',\n",
              "        'changers', 'changes', 'christ', 'christian', 'chuck', 'clear',\n",
              "        'closed', 'create', 'deplorable', 'did', 'encounters',\n",
              "        'engineering', 'entirely', 'eventually', 'exhibit', 'existence',\n",
              "        'expressions', 'fell', 'fenholt', 'foard', 'form', 'garnet',\n",
              "        'germane', 'giving', 'god', 'grounds', 'group', 'guarding', 'hast',\n",
              "        'he', 'heart', 'him', 'his', 'homeland', 'however', 'idea',\n",
              "        'involved', 'jerry', 'jews', 'july', 'killed', 'language', 'later',\n",
              "        'lives', 'made', 'mail', 'many', 'mark', 'mateo', 'may', 'mention',\n",
              "        'messengers', 'might', 'moderate', 'mserv', 'muslim', 'night',\n",
              "        'nor', 'note', 'nothing', 'now', 'objection', 'occurred',\n",
              "        'offence', 'oh', 'opposition', 'others', 'own', 'particular',\n",
              "        'people', 'person', 'place', 'played', 'politician', 'possibly',\n",
              "        'previous', 'problems', 'promised', 'protestant', 'provine',\n",
              "        'pythagorean', 'questions', 'rather', 'read', 'reason',\n",
              "        'recognize', 'refer', 'religion', 'resentful', 'responses', 'rom',\n",
              "        'rose', 'rutgers', 'say', 'see', 'seen', 'since', 'steve', 'stint',\n",
              "        'such', 'supposed', 'take', 'talking', 'tasks', 'technical', 'tek',\n",
              "        'terrible', 'text', 'than', 'their', 'thing', 'things', 'think',\n",
              "        'those', 'thought', 'today', 'treat', 'trinity', 'understanding',\n",
              "        'use', 'uses', 'violence', 'wants', 'watching', 'well', 'where',\n",
              "        'why', 'woman', 'works', 'years'], dtype='<U80'),\n",
              " array(['14', '1993', '22', 'aa888', 'ak', 'ambiguous', 'another',\n",
              "        'anything', 'assumption', 'attained', 'babylonian', 'because',\n",
              "        'believe', 'body', 'bread', 'break', 'carnegie', 'claim',\n",
              "        'claimants', 'comments', 'content', 'contradict', 'damascus',\n",
              "        'death', 'denis', 'determined', 'devote', 'didn', 'discussion',\n",
              "        'disobedience', 'dotsonm', 'dt', 'effectively', 'effort',\n",
              "        'entirely', 'every', 'faith', 'feels', 'find', 'foster', 'founded',\n",
              "        'god', 'good', 'having', 'he', 'him', 'history', 'hoc', 'human',\n",
              "        'inner', 'its', 'kenneth', 'kids', 'left', 'lighting', 'll',\n",
              "        'looked', 'loose', 'lord', 'mail', 'may', 'mean', 'messiahs',\n",
              "        'mot', 'much', 'must', 'ncr', 'necessary', 'numbers', 'off',\n",
              "        'offend', 'our', 'outside', 'own', 'past', 'phone', 'please',\n",
              "        'possible', 'possibly', 'post', 'president', 'principles', 'proof',\n",
              "        'protective', 'proverbs', 'rather', 'readers', 'really', 'records',\n",
              "        'reduced', 'relativism', 'reproduce', 'resentful', 'revealed',\n",
              "        'rexlex', 'ride', 'sahs', 'satan', 'say', 'scientist', 'seen',\n",
              "        'sees', 'sense', 'share', 'sig', 'sil', 'simply', 'sit', 'solving',\n",
              "        'somehow', 'specifically', 'spiritual', 'stations', 'succumbing',\n",
              "        'superiority', 'tell', 'than', 'them', 'therefore', 'these',\n",
              "        'tomorrow', 'training', 'truth', 'two', 'ultimately',\n",
              "        'understanding', 'upon', 'use', 'waco', 'watson', 'way', 'ways',\n",
              "        'week', 'while', 'why', 'withdraw', 'won', 'working', 'wrote',\n",
              "        'york', 'youngstown'], dtype='<U80'),\n",
              " array(['10', '1993', '99', '_me_', 'ability', 'above', 'accept',\n",
              "        'acknowledge', 'advice', 'ai', 'also', 'amateur', 'argument',\n",
              "        'athens', 'attempts', 'been', 'better', 'biosphere', 'blood',\n",
              "        'bouncing', 'brothers', 'ca', 'called', 'caused', 'christian',\n",
              "        'clarified', 'cliche', 'confession', 'congregations', 'contrast',\n",
              "        'could', 'counts', 'days', 'dcs', 'deluding', 'desire',\n",
              "        'destruction', 'double', 'each', 'else', 'eola', 'epistles',\n",
              "        'establishing', 'even', 'every', 'ex', 'explained', 'family',\n",
              "        'fate', 'feel', 'fellowship', 'find', 'forgotten', 'freely',\n",
              "        'geneva', 'great', 'greater', 'group', 'hair', 'he', 'him', 'his',\n",
              "        'hit', 'honestly', 'ideas', 'imbecile', 'institution', 'invalid',\n",
              "        'involving', 'life', 'lift', 'longer', 'loving', 'made', 'male',\n",
              "        'mandate', 'marry', 'masses', 'matt', 'may', 'messenger', 'minute',\n",
              "        'missed', 'modern', 'most', 'mot', 'mysteries', 'near', 'ours',\n",
              "        'pass', 'passion', 'people', 'person', 'pgh', 'philosophical',\n",
              "        'philosophy', 'point', 'positions', 'possibilities', 'practice',\n",
              "        'prayers', 'problems', 'provide', 'pucc', 'question', 'real',\n",
              "        'regulation', 'riches', 'rise', 'satanic', 'say', 'says', 'social',\n",
              "        'songs', 'span', 'state', 'statement', 'stating', 'std', 'stole',\n",
              "        'student', 'studies', 'such', 'tellabs', 'testament', 'than',\n",
              "        'therefore', 'thinking', 'though', 'tiny', 'two', 'universe', 'us',\n",
              "        've', 'very', 'virgilio', 'want', 'wanted', 'wants', 'way',\n",
              "        'whatever', 'without', 'writing', 'years'], dtype='<U80'),\n",
              " array(['14', '15', '73', 'actions', 'ad', 'admit', 'agony', 'alone', 'am',\n",
              "        'ambiguous', 'ask', 'atlastele', 'basic', 'beacuse', 'belief',\n",
              "        'both', 'burns', 'ca', 'call', 'cannot', 'casting', 'catholic',\n",
              "        'christian', 'christians', 'churches', 'claim', 'claremont',\n",
              "        'class', 'combine', 'computer', 'concerning', 'concerns',\n",
              "        'conclusion', 'confess', 'contrary', 'corresponding', 'cover',\n",
              "        'cute', 'david', 'declare', 'deed', 'depth', 'did', 'differences',\n",
              "        'domain', 'earning', 'ecn', 'english', 'equivalent', 'etc',\n",
              "        'exactly', 'far', 'fsu', 'god', 'granted', 'had', 'haven', 'he',\n",
              "        'head', 'here', 'him', 'home', 'humanity', 'humor', 'into',\n",
              "        'jewish', 'john', 'joseph', 'joshua', 'jprzybyl', 'judaism',\n",
              "        'keep', 'ken', 'kentucky', 'lab', 'later', 'left', 'local', 'ltd',\n",
              "        'made', 'male', 'many', 'marine', 'mean', 'meaningful', 'much',\n",
              "        'nih', 'norway', 'oregon', 'own', 'passage', 'people', 'perhaps',\n",
              "        'persecutions', 'postulate', 'probably', 'promises', 'rather',\n",
              "        'reference', 'regularly', 'reply', 'representations', 'scientific',\n",
              "        'scribes', 'scripture', 'self', 'seperate', 'solomon', 'spoke',\n",
              "        'statement', 'stops', 'talks', 'technology', 'than', 'thanks',\n",
              "        'their', 'them', 'therefore', 'think', 'true', 'trying', 'unomaha',\n",
              "        'until', 'uses', 'wasn', 'weight', 'weirdness', 'well', 'where',\n",
              "        'withstanding', 'won', 'worships', 'wrong'], dtype='<U80'),\n",
              " array(['05', '10', '21', '29266', '33', '96', 'account', 'address',\n",
              "        'after', 'ago', 'agree', 'also', 'apr', 'att', 'austin', 'back',\n",
              "        'being', 'believe', 'believes', 'bible', 'bless', 'body', 'both',\n",
              "        'bothers', 'broadway', 'called', 'changed', 'chris', 'christian',\n",
              "        'church', 'clarify', 'clh', 'computer', 'conclusion', 'creation',\n",
              "        'death', 'dei', 'did', 'discussing', 'discussions', 'early',\n",
              "        'effort', 'else', 'excommunicated', 'faith', 'false', 'fl',\n",
              "        'forget', 'found', 'frightening', 'fsspr', 'fundamental', 'geneva',\n",
              "        'god', 'good', 'grace', 'guild', 'had', 'hardly', 'having',\n",
              "        'hominem', 'information', 'issue', 'jewish', 'john', 'justify',\n",
              "        'little', 'long', 'look', 'made', 'make', 'making', 'marv',\n",
              "        'mentioning', 'messages', 'minimal', 'netters', 'nice', 'nj',\n",
              "        'obviously', 'ohio', 'ones', 'opinions', 'pa', 'pain', 'people',\n",
              "        'perceptions', 'phase', 'point', 'press', 'presume', 'problem',\n",
              "        'promoting', 'pronouncements', 'proper', 'psalm', 'put', 'quality',\n",
              "        'random', 'read', 'resurrected', 'revolutionary', 'righteous',\n",
              "        'same', 'say', 'seem', 'sends', 'server', 'shows', 'sit', 'sort',\n",
              "        'starters', 'such', 'summer', 'super', 'suppose', 'syria',\n",
              "        'system', 'talk', 'teaching', 'think', 'thomas', 'three', 'time',\n",
              "        'together', 'translation', 'trauma', 'uncharitable', 'unto',\n",
              "        'used', 'validated', 'victories', 'vulgata', 'wants', 'well',\n",
              "        'were', 'while', 'wish', 'worth', 'wycliffe', 'yes'], dtype='<U80'),\n",
              " array(['08', '13', '34', '42', '55', 'aaronc', 'accepted', 'accepting',\n",
              "        'according', 'account', 'address', 'after', 'allows', 'ambiguous',\n",
              "        'among', 'anglican', 'anyone', 'argument', 'around', 'atheists',\n",
              "        'basis', 'because', 'bliss', 'brotherman', 'bunny', 'came',\n",
              "        'carnegie', 'central', 'ceremonial', 'choose', 'christ',\n",
              "        'christian', 'christie', 'connection', 'correction', 'cs', 'cwru',\n",
              "        'decades', 'deserved', 'die', 'difference', 'disciplines', 'each',\n",
              "        'ended', 'errors', 'established', 'ever', 'faith', 'fertility',\n",
              "        'first', 'former', 'friend', 'full', 'glass', 'god', 'going',\n",
              "        'had', 'hard', 'he', 'help', 'hide', 'hills', 'hold', 'idea',\n",
              "        'included', 'inherited', 'interesting', 'ironic', 'isn', 'israel',\n",
              "        'laws', 'leo', 'let', 'll', 'look', 'made', 'marriage', 'meant',\n",
              "        'meet', 'millions', 'mp', 'ms', 'muslims', 'must', 'necessary',\n",
              "        'neighbor', 'nonsense', 'now', 'obey', 'old', 'part', 'passion',\n",
              "        'paul', 'penetration', 'personal', 'pilate', 'plain', 'point',\n",
              "        'preaching', 'question', 'reach', 'read', 'referee', 'regarded',\n",
              "        'religious', 'reply', 'research', 'revealed', 'rintintin', 'ruler',\n",
              "        'rutgers', 'satisfy', 'say', 'seen', 'sense', 'several', 'sexes',\n",
              "        'should', 'sociology', 'sort', 'spot', 'spring', 'sunday',\n",
              "        'surely', 'syllable', 'teaching', 'their', 'them', 'though',\n",
              "        'through', 'time', 'trunking_fixed', 'trying', 'tsd',\n",
              "        'unqualified', 'use', 'uxa', 'warmly', 'way', 'why', 'wish',\n",
              "        'witt'], dtype='<U80'),\n",
              " array(['05', '113', '17', '1993', '22', '33', '68', 'able', 'accurate',\n",
              "        'against', 'allow', 'am', 'american', 'annihilation', 'answers',\n",
              "        'atheist', 'att', 'bad', 'became', 'been', 'before', 'being',\n",
              "        'believe', 'bible', 'book', 'brought', 'chest', 'children',\n",
              "        'christ', 'class', 'connection', 'considered', 'construct',\n",
              "        'consultant', 'damn', 'decided', 'difference', 'dismay',\n",
              "        'distinction', 'doctrine_', 'doctrines', 'doens', 'doing',\n",
              "        'easier', 'eeap', 'embroiled', 'emphasis', 'eng', 'entering',\n",
              "        'every', 'facts', 'faith', 'false', 'feeling', 'first',\n",
              "        'fostering', 'fraser', 'garden', 'gatech', 'georgia', 'give',\n",
              "        'gmt', 'god', 'he', 'her', 'him', 'improved', 'indicates',\n",
              "        'interpreters', 'intrinsically', 'iterations', 'keep', 'language',\n",
              "        'leaders', 'least', 'legal', 'longer', 'lot', 'lovey', 'ma',\n",
              "        'many', 'might', 'military', 'mind', 'moreover', 'much', 'must',\n",
              "        'myself', 'n7104', 'nebraska', 'nickel', 'obvious', 'off',\n",
              "        'oppress', 'order', 'our', 'own', 'paradise', 'past', 'perry',\n",
              "        'programs', 'pure', 'rather', 'real', 'recently', 'reduced',\n",
              "        'rock', 'rule', 'rutgers', 'said', 'scripture', 'see', 'sent',\n",
              "        'shaken', 'siemon', 'simply', 'sin', 'source', 'spain', 'split',\n",
              "        'sps', 'stephen', 'stuff', 'such', 'superstar', 'suspicion',\n",
              "        'tbrent', 'terms', 'than', 'themselves', 'then', 'think', 'those',\n",
              "        'time', 'virgilio', 'virgin', 'way', 'ways', 'webb', 'welcome',\n",
              "        'were', 'whatever', 'whom', 'whose', 'won', 'word', 'wrote'],\n",
              "       dtype='<U80'),\n",
              " array(['10', '12', '16', '45', '512', '5of5', '756', '823', 'abstinence',\n",
              "        'accepted', 'acns', 'also', 'always', 'am', 'among', 'approaches',\n",
              "        'argument', 'association', 'assumes', 'atheist', 'attend', 'badly',\n",
              "        'belief', 'believe', 'book', 'books', 'capacity', 'cat',\n",
              "        'changing', 'christ', 'christians', 'church', 'context', 'cows',\n",
              "        'crowd', 'delab', 'directly', 'divorce', 'doctrine', 'document',\n",
              "        'early', 'endorsement', 'entity', 'especially', 'evidence',\n",
              "        'faith', 'felt', 'fence', 'follow', 'force', 'fortunately',\n",
              "        'gazing', 'give', 'god', 'good', 'grade', 'hell', 'however',\n",
              "        'husband', 'inanimate', 'interested', 'jesus', 'john', 'judge',\n",
              "        'judgment', 'justified', 'kind', 'knight', 'landing', 'law',\n",
              "        'leaders', 'lies', 'little', 'make', 'makes', 'manner', 'maryland',\n",
              "        'mass', 'means', 'medical', 'messiah', 'money', 'mystery', 'need',\n",
              "        'net', 'new', 'newsgroup', 'nothing', 'nt', 'onto', 'our',\n",
              "        'paragraphs', 'peace', 'people', 'phrases', 'pihatie', 'point',\n",
              "        'probably', 'problem', 'prophesies', 'publisher', 'references',\n",
              "        'related', 'rely', 'revolve', 'righteousness', 'rise', 'role',\n",
              "        'rom', 'ruling', 'rutgers', 'say', 'sign', 'sin', 'someone',\n",
              "        'soon', 'st', 'started', 'such', 'sunday', 'surface', 'tails',\n",
              "        'technology', 'testimony', 'their', 'them', 'then', 'thinking',\n",
              "        'thought', 'time', 'topic', 'trigger', 'uga', 'upenn', 'want',\n",
              "        'were', 'women', 'yourself'], dtype='<U80'),\n",
              " array(['00', '02', '1373', '1500', '22', '25', '51', '601', '75', '_all_',\n",
              "        'account', 'accused', 'active', 'africa', 'after', 'alone', 'also',\n",
              "        'always', 'am', 'amateur', 'andy', 'answer', 'answered', 'beating',\n",
              "        'been', 'believe', 'blessing', 'blessings', 'born', 'bother',\n",
              "        'bothering', 'brought', 'carderock', 'certain', 'christ',\n",
              "        'christian', 'church', 'claim', 'cmu', 'concise', 'continue',\n",
              "        'crew', 'dead', 'destroyed', 'discovery', 'disturbed', 'dsegard',\n",
              "        'eeap', 'email', 'empowers', 'even', 'ever', 'existence', 'feel',\n",
              "        'find', 'fruit', 'given', 'god', 'going', 'grown', 'hair',\n",
              "        'happens', 'having', 'he', 'held', 'hell_2', 'hello', 'help',\n",
              "        'here', 'holy', 'ideological', 'ignore', 'important', 'including',\n",
              "        'incorporate', 'jayne', 'jeezus', 'joe', 'johnson', 'judgement',\n",
              "        'learn', 'less', 'let', 'likely', 'logic', 'lord', 'love',\n",
              "        'making', 'mandated', 'meaning', 'members', 'mention', 'mess',\n",
              "        'misunderstanding', 'model', 'moral', 'most', 'music', 'must',\n",
              "        'mysticism', 'nothing', 'nt', 'operate', 'organized', 'original',\n",
              "        'outside', 'overall', 'paganism', 'peace', 'people', 'person',\n",
              "        'pore', 'practically', 'preaching', 'presenting', 'prophets',\n",
              "        'questioning', 'reading', 'referenced', 'remarkably', 'said',\n",
              "        'salvation', 'saved', 'say', 'saying', 'says', 'seems',\n",
              "        'seriously', 'show', 'slightly', 'sounds', 'summer', 'taken',\n",
              "        'teaching', 'their', 'these', 'think', 'those', 'time', 'today',\n",
              "        'trying', 'uga', 'undecided', 'uxa', 'were', 'whether', 'without',\n",
              "        'witness', 'yet'], dtype='<U80'),\n",
              " array(['03', '1990', '35', '56', '649', 'accept', 'actual', 'address',\n",
              "        'also', 'ambiguous', 'assume', 'attack', 'au', 'awareness', 'bad',\n",
              "        'because', 'before', 'beginning', 'being', 'boiling', 'born',\n",
              "        'called', 'cannot', 'caralv', 'causality', 'certain', 'christians',\n",
              "        'christmas', 'chuck', 'circa', 'clay', 'comments', 'common',\n",
              "        'connection', 'conservative', 'contradicts', 'cool', 'could',\n",
              "        'crop', 'crusaders', 'damage', 'death', 'decision', 'disorganized',\n",
              "        'dlecoint', 'done', 'drawer', 'drive', 'each', 'early', 'easy',\n",
              "        'ensure', 'exactly', 'except', 'explain', 'expressed', 'false',\n",
              "        'far', 'fervent', 'forever', 'forgiving', 'give', 'go', 'god',\n",
              "        'good', 'here', 'him', 'however', 'humans', 'illogic',\n",
              "        'indicating', 'intentions', 'interest', 'isa', 'ishtar',\n",
              "        'isolation', 'jodfishe', 'kinds', 'learned', 'least', 'legal',\n",
              "        'letter', 'living', 'loaded', 'lord', 'made', 'matter', 'may',\n",
              "        'mean', 'million', 'mmh', 'much', 'name', 'net', 'normally', 'ns',\n",
              "        'obedience', 'obey', 'offenders', 'opinion', 'p5', 'parents',\n",
              "        'part', 'particularly', 'pass', 'perception', 'person', 'ph',\n",
              "        'physical', 'planted', 'point', 'possibility', 'prophets', 'quite',\n",
              "        'quran', 'rage', 'reading', 'real', 'reason', 'reformation',\n",
              "        'relationship', 'religious', 'require', 'restrains', 'resurrected',\n",
              "        'resurrection', 'right', 'said', 'say', 'security', 'see', 'since',\n",
              "        'situations', 'slow', 'someone', 'son', 'spoken', 'square',\n",
              "        'stuff', 'submission', 'such', 'super', 'sure', 'teach', 'tend',\n",
              "        'terrance', 'thank', 'theologically', 'therefore', 'thing',\n",
              "        'things', 'those', 'thought', 'told', 'true', 'universe', 'use',\n",
              "        'valid', 'views', 'vows', 'walks', 'washington', 'where', 'whole',\n",
              "        'without', 'withstanding', 'won', 'word', 'worship', 'written',\n",
              "        'young'], dtype='<U80')]"
            ]
          },
          "execution_count": 37,
          "metadata": {},
          "output_type": "execute_result"
        }
      ],
      "source": [
        "# Perform inverse transform to test quality of fit\n",
        "\n",
        "count_vectorizer.inverse_transform(X=class_sample)"
      ]
    },
    {
      "cell_type": "markdown",
      "metadata": {
        "id": "z9R6cBaSEOlq"
      },
      "source": [
        "***\n",
        "<a id='sampling_and_log_probs'></a>\n",
        "## Sampling and log probs"
      ]
    },
    {
      "cell_type": "code",
      "execution_count": null,
      "metadata": {
        "id": "YUhFwZRcEOlq",
        "outputId": "1d01c09b-aa64-4b28-a359-b4b34c81b1f6"
      },
      "outputs": [
        {
          "name": "stdout",
          "output_type": "stream",
          "text": [
            "tfp.distributions.Exponential(\"Exponential\", batch_shape=[2, 3], event_shape=[], dtype=float32)\n"
          ]
        }
      ],
      "source": [
        "import tensorflow as tf\n",
        "import tensorflow_probability as tfp\n",
        "tf.random.set_seed(seed=42)\n",
        "\n",
        "exp = tfp.distributions.Exponential(rate=[\n",
        "    [1., 1.5, 0.8],\n",
        "    [0.3, 0.4, 1.8]\n",
        "])\n",
        "print(exp)"
      ]
    },
    {
      "cell_type": "code",
      "execution_count": null,
      "metadata": {
        "id": "awJlbHbHEOlq",
        "outputId": "1ef41650-c66f-4df0-c85d-ab110c860edf"
      },
      "outputs": [
        {
          "name": "stdout",
          "output_type": "stream",
          "text": [
            "tfp.distributions.Independent(\"IndependentExponential\", batch_shape=[2], event_shape=[3], dtype=float32)\n"
          ]
        },
        {
          "data": {
            "text/plain": [
              "<tf.Tensor: shape=(4, 2, 3), dtype=float32, numpy=\n",
              "array([[[2.0702589 , 0.3715358 , 1.5078305 ],\n",
              "        [2.0160003 , 0.8194701 , 0.13169341]],\n",
              "\n",
              "       [[1.1786911 , 0.4869406 , 0.5312396 ],\n",
              "        [7.0400877 , 2.5339499 , 0.7816141 ]],\n",
              "\n",
              "       [[1.4829985 , 0.43582234, 0.17628318],\n",
              "        [4.1703377 , 1.7739688 , 0.21836655]],\n",
              "\n",
              "       [[0.82059306, 0.47652078, 0.27015528],\n",
              "        [0.36073983, 1.1289716 , 0.38374943]]], dtype=float32)>"
            ]
          },
          "execution_count": 4,
          "metadata": {},
          "output_type": "execute_result"
        }
      ],
      "source": [
        "import tensorflow as tf\n",
        "import tensorflow_probability as tfp\n",
        "tf.random.set_seed(seed=42)\n",
        "\n",
        "ind_exp = tfp.distributions.Independent(\n",
        "    distribution=exp)\n",
        "print(ind_exp)\n",
        "ind_exp.sample(sample_shape=4)"
      ]
    },
    {
      "cell_type": "code",
      "execution_count": null,
      "metadata": {
        "scrolled": true,
        "id": "P6DA4uaDEOlq",
        "outputId": "982577bd-7a62-4556-df90-f81acfcd8829",
        "collapsed": true
      },
      "outputs": [
        {
          "name": "stdout",
          "output_type": "stream",
          "text": [
            "tfp.distributions.Exponential(\"Exponential\", batch_shape=[2, 1, 2, 3], event_shape=[], dtype=float32)\n",
            "tfp.distributions.Independent(\"IndependentExponential\", batch_shape=[2, 1], event_shape=[2, 3], dtype=float32)\n"
          ]
        },
        {
          "data": {
            "text/plain": [
              "<tf.Tensor: shape=(4, 2, 2, 1, 2, 3), dtype=float32, numpy=\n",
              "array([[[[[[1.1688496e-01, 1.3940759e+00, 3.2367122e-01],\n",
              "           [1.2607672e+00, 1.0991330e+00, 1.4211791e+00]]],\n",
              "\n",
              "\n",
              "         [[[1.4345082e+00, 1.1746719e+00, 3.4733622e+00],\n",
              "           [1.4778179e+00, 1.5964347e-01, 9.2086816e-01]]]],\n",
              "\n",
              "\n",
              "\n",
              "        [[[[4.4359408e-02, 1.8396074e-01, 1.3666283e-01],\n",
              "           [2.7013462e+00, 2.8146152e+00, 5.9221864e-01]]],\n",
              "\n",
              "\n",
              "         [[[4.5716897e-01, 6.2978739e-01, 7.5584583e-02],\n",
              "           [1.7116343e+00, 7.2525924e-01, 5.7885551e-01]]]]],\n",
              "\n",
              "\n",
              "\n",
              "\n",
              "       [[[[[3.3041403e-01, 5.8074724e-02, 2.2947935e-02],\n",
              "           [3.4400508e+00, 5.5257030e+00, 3.0603623e-01]]],\n",
              "\n",
              "\n",
              "         [[[8.0691500e+00, 1.3249278e+00, 4.2386916e-02],\n",
              "           [2.0978230e-01, 2.8369925e+00, 1.4586096e+00]]]],\n",
              "\n",
              "\n",
              "\n",
              "        [[[[3.9800149e-01, 3.6222330e-01, 9.2653744e-03],\n",
              "           [4.6853161e+00, 7.5854087e+00, 6.8124211e-01]]],\n",
              "\n",
              "\n",
              "         [[[7.5648105e-01, 1.8424749e-01, 8.1986779e-01],\n",
              "           [4.3242759e-01, 2.7034166e+00, 2.5018249e+00]]]]],\n",
              "\n",
              "\n",
              "\n",
              "\n",
              "       [[[[[8.9532828e-01, 7.1689349e-01, 5.2105627e+00],\n",
              "           [9.0140638e+00, 4.5176692e+00, 6.3983858e-01]]],\n",
              "\n",
              "\n",
              "         [[[5.2885950e-01, 2.2031799e-01, 2.8849939e-02],\n",
              "           [1.4886047e+00, 1.0492454e+00, 7.7475689e-02]]]],\n",
              "\n",
              "\n",
              "\n",
              "        [[[[7.0389166e-02, 4.8274419e-01, 4.7624154e+00],\n",
              "           [9.6900082e-01, 4.7881370e+00, 5.4234976e-01]]],\n",
              "\n",
              "\n",
              "         [[[1.7481548e+00, 8.7444019e-01, 1.1354183e+00],\n",
              "           [7.4817371e-01, 1.4490616e+00, 2.1744950e-01]]]]],\n",
              "\n",
              "\n",
              "\n",
              "\n",
              "       [[[[[8.6168693e-03, 1.6827587e+00, 1.9140803e+00],\n",
              "           [2.8835251e+00, 1.2695047e+00, 3.9713532e-02]]],\n",
              "\n",
              "\n",
              "         [[[2.0598729e+00, 3.3735161e+00, 2.2672127e-01],\n",
              "           [2.5368249e+00, 1.3206773e+00, 3.2338989e-01]]]],\n",
              "\n",
              "\n",
              "\n",
              "        [[[[6.6579473e-01, 6.5350765e-04, 4.5358086e+00],\n",
              "           [1.6281170e+00, 1.4521955e+00, 4.8970833e-02]]],\n",
              "\n",
              "\n",
              "         [[[2.3806493e+00, 2.9533033e+00, 1.3786428e-01],\n",
              "           [2.6713786e+00, 1.3725498e-01, 1.5592963e+00]]]]]],\n",
              "      dtype=float32)>"
            ]
          },
          "execution_count": 5,
          "metadata": {},
          "output_type": "execute_result"
        }
      ],
      "source": [
        "import tensorflow as tf\n",
        "import tensorflow_probability as tfp\n",
        "tf.random.set_seed(seed=42)\n",
        "\n",
        "rates = [\n",
        "    [[[1., 1.5, 0.8], [0.3, 0.4, 1.8]]],\n",
        "    [[[0.2, 0.4, 1.4], [0.4, 1.1, 0.9]]]\n",
        "]\n",
        "exp = tfp.distributions.Exponential(rate=rates)\n",
        "print(exp)\n",
        "\n",
        "ind_exp = tfp.distributions.Independent(\n",
        "    distribution=exp,\n",
        "    reinterpreted_batch_ndims=2)\n",
        "print(ind_exp)\n",
        "\n",
        "ind_exp.sample(sample_shape=[4, 2])"
      ]
    },
    {
      "cell_type": "code",
      "execution_count": null,
      "metadata": {
        "id": "FWczsIVVEOlr",
        "outputId": "fb3a8b9a-b2a1-4446-d0c7-429adaddc830"
      },
      "outputs": [
        {
          "data": {
            "text/plain": [
              "<tf.Tensor: shape=(2, 1), dtype=float32, numpy=\n",
              "array([[-4.2501554],\n",
              "       [-5.3155975]], dtype=float32)>"
            ]
          },
          "execution_count": 6,
          "metadata": {},
          "output_type": "execute_result"
        }
      ],
      "source": [
        "ind_exp.log_prob(value=0.5)"
      ]
    },
    {
      "cell_type": "code",
      "execution_count": null,
      "metadata": {
        "id": "DivqcogfEOlr",
        "outputId": "e04ede1f-ed13-471d-c387-4350e66ed970"
      },
      "outputs": [
        {
          "data": {
            "text/plain": [
              "<tf.Tensor: shape=(2, 1), dtype=float32, numpy=\n",
              "array([[-4.7701554],\n",
              "       [-5.885597 ]], dtype=float32)>"
            ]
          },
          "execution_count": 7,
          "metadata": {},
          "output_type": "execute_result"
        }
      ],
      "source": [
        "ind_exp.log_prob(value=[[0.3, 0.5, 0.8]])"
      ]
    },
    {
      "cell_type": "code",
      "execution_count": null,
      "metadata": {
        "id": "_U8DtRbhEOlr",
        "outputId": "5fc6d996-26db-442b-cd17-120b8ec4d4c3",
        "collapsed": true
      },
      "outputs": [
        {
          "data": {
            "text/plain": [
              "<tf.Tensor: shape=(5, 2, 1), dtype=float32, numpy=\n",
              "array([[[-4.4304047],\n",
              "        [-5.5007524]],\n",
              "\n",
              "       [[-4.1906886],\n",
              "        [-5.4167533]],\n",
              "\n",
              "       [[-5.283875 ],\n",
              "        [-5.831998 ]],\n",
              "\n",
              "       [[-4.255939 ],\n",
              "        [-5.101289 ]],\n",
              "\n",
              "       [[-4.2809563],\n",
              "        [-5.345421 ]]], dtype=float32)>"
            ]
          },
          "execution_count": 8,
          "metadata": {},
          "output_type": "execute_result"
        }
      ],
      "source": [
        "import tensorflow as tf\n",
        "tf.random.set_seed(seed=42)\n",
        "\n",
        "ind_exp.log_prob(value=tf.random.uniform(shape=(5, 1, 1, 2, 1)))"
      ]
    },
    {
      "cell_type": "code",
      "execution_count": null,
      "metadata": {
        "id": "SnKdI8kEEOls",
        "outputId": "78eedbe7-f5d9-4e93-eee7-85dd50294b49"
      },
      "outputs": [
        {
          "data": {
            "text/plain": [
              "<tfp.distributions.MultivariateNormalDiag 'MultivariateNormalDiag' batch_shape=[3] event_shape=[2] dtype=float32>"
            ]
          },
          "execution_count": 9,
          "metadata": {},
          "output_type": "execute_result"
        }
      ],
      "source": [
        "# Make Multivariate Distribution\n",
        "import tensorflow as tf\n",
        "import tensorflow_probability as tfp\n",
        "tf.random.set_seed(seed=42)\n",
        "\n",
        "normal_distributions = tfp.distributions.MultivariateNormalDiag(\n",
        "    loc=[[0.5, 1], [0.1, 0], [0, 0.2]],\n",
        "    scale_diag=[[2, 3], [1, 3], [4, 4]])\n",
        "normal_distributions"
      ]
    },
    {
      "cell_type": "code",
      "execution_count": null,
      "metadata": {
        "id": "98G_o7YVEOls",
        "outputId": "cc4f439b-ad8f-43de-a146-d76ef69bf820"
      },
      "outputs": [
        {
          "data": {
            "text/plain": [
              "<tf.Tensor: shape=(5, 3, 2), dtype=float32, numpy=\n",
              "array([[[-0.77668655, -2.4478338 ],\n",
              "        [-0.7656427 , -3.999619  ],\n",
              "        [-3.2930257 , -2.8477075 ]],\n",
              "\n",
              "       [[ 1.351501  ,  9.678503  ],\n",
              "        [-0.24264988, -5.256754  ],\n",
              "        [-0.71147317, -3.5753    ]],\n",
              "\n",
              "       [[ 0.7231202 ,  3.4224844 ],\n",
              "        [-0.22381943,  3.1796002 ],\n",
              "        [ 3.1174963 ,  0.21723756]],\n",
              "\n",
              "       [[ 1.377286  , -0.9024477 ],\n",
              "        [-1.2265403 ,  1.3146659 ],\n",
              "        [ 1.4200819 ,  5.405262  ]],\n",
              "\n",
              "       [[ 0.77665675,  3.3732834 ],\n",
              "        [ 1.7350991 , -1.2345874 ],\n",
              "        [ 0.03807994, -0.45694566]]], dtype=float32)>"
            ]
          },
          "execution_count": 10,
          "metadata": {},
          "output_type": "execute_result"
        }
      ],
      "source": [
        "# Sample\n",
        "\n",
        "normal_distributions.sample(sample_shape=5)"
      ]
    },
    {
      "cell_type": "code",
      "execution_count": null,
      "metadata": {
        "id": "bq4lPzt5EOls",
        "outputId": "e58567bf-7f05-4bf0-be09-366a05b1a696"
      },
      "outputs": [
        {
          "data": {
            "text/plain": [
              "<tfp.distributions.MultivariateNormalDiag 'MultivariateNormalDiag' batch_shape=[2, 2] event_shape=[3] dtype=float32>"
            ]
          },
          "execution_count": 11,
          "metadata": {},
          "output_type": "execute_result"
        }
      ],
      "source": [
        "# Multivariate Normal batched Distribution\n",
        "# We are broadcasting batch shapes of `loc` and `scal_diag`\n",
        "# against each other\n",
        "import tensorflow as tf\n",
        "import tensorflow_probability as tfp\n",
        "tf.random.set_seed(seed=42)\n",
        "\n",
        "loc = [\n",
        "    [[0.3, 1.5, 1.], [0.2, 0.4, 2.8]],\n",
        "    [[2., 2.3, 8], [1.4, 1, 1.3]]\n",
        "]\n",
        "scale_diag = [0.4, 1., 0.7]\n",
        "normal_distributions = tfp.distributions.MultivariateNormalDiag(\n",
        "    loc=loc, scale_diag=scale_diag)\n",
        "normal_distributions"
      ]
    },
    {
      "cell_type": "code",
      "execution_count": null,
      "metadata": {
        "id": "v3gXemB3EOls",
        "outputId": "41c1eafc-f491-4c1a-86a6-346f038802ee"
      },
      "outputs": [
        {
          "data": {
            "text/plain": [
              "<tfp.distributions.Independent 'IndependentMultivariateNormalDiag' batch_shape=[2] event_shape=[2, 3] dtype=float32>"
            ]
          },
          "execution_count": 12,
          "metadata": {},
          "output_type": "execute_result"
        }
      ],
      "source": [
        "# Use independent to move part of the batch shape\n",
        "import tensorflow as tf\n",
        "import tensorflow_probability as tfp\n",
        "tf.random.set_seed(seed=42)\n",
        "\n",
        "ind_normal_distributions = tfp.distributions.Independent(\n",
        "    distribution=normal_distributions,\n",
        "    reinterpreted_batch_ndims=1)\n",
        "ind_normal_distributions"
      ]
    },
    {
      "cell_type": "code",
      "execution_count": null,
      "metadata": {
        "id": "5nOGO3b5EOlt",
        "outputId": "afa711fd-284f-41bd-d396-41461b096126"
      },
      "outputs": [
        {
          "data": {
            "text/plain": [
              "TensorShape([5, 2, 2, 3])"
            ]
          },
          "execution_count": 13,
          "metadata": {},
          "output_type": "execute_result"
        }
      ],
      "source": [
        "# Draw some samples\n",
        "\n",
        "samples = ind_normal_distributions.sample(sample_shape=5)\n",
        "samples.shape"
      ]
    },
    {
      "cell_type": "code",
      "execution_count": null,
      "metadata": {
        "id": "aKGkvf5KEOlt",
        "outputId": "13c8fb58-1ae7-4f0f-82ca-51568cd8c789"
      },
      "outputs": [
        {
          "data": {
            "text/plain": [
              "<tf.Tensor: shape=(2,), dtype=float32, numpy=array([-12.346934, -75.82132 ], dtype=float32)>"
            ]
          },
          "execution_count": 14,
          "metadata": {},
          "output_type": "execute_result"
        }
      ],
      "source": [
        "# `[B, E]` shaped input\n",
        "import tensorflow as tf\n",
        "tf.random.set_seed(seed=42)\n",
        "\n",
        "inp = tf.random.uniform(shape=(2, 2, 3))\n",
        "ind_normal_distributions.log_prob(value=inp)"
      ]
    },
    {
      "cell_type": "code",
      "execution_count": null,
      "metadata": {
        "id": "GbOcsq91EOlt",
        "outputId": "2c788074-cc9f-42d5-aa01-0eb7b40d187f"
      },
      "outputs": [
        {
          "data": {
            "text/plain": [
              "<tf.Tensor: shape=(2,), dtype=float32, numpy=array([-12.441522, -73.21494 ], dtype=float32)>"
            ]
          },
          "execution_count": 15,
          "metadata": {},
          "output_type": "execute_result"
        }
      ],
      "source": [
        "# `[E]` shaped input (broadcasting over batch size)\n",
        "import tensorflow as tf\n",
        "tf.random.set_seed(seed=42)\n",
        "\n",
        "inp = tf.random.uniform(shape=(2, 3))\n",
        "ind_normal_distributions.log_prob(value=inp)"
      ]
    },
    {
      "cell_type": "code",
      "execution_count": null,
      "metadata": {
        "id": "k_it1hheEOlu",
        "outputId": "4ee0a26e-53ae-4119-cd6e-da86a22d51a4"
      },
      "outputs": [
        {
          "data": {
            "text/plain": [
              "<tf.Tensor: shape=(9, 2), dtype=float32, numpy=\n",
              "array([[-10.139837, -71.34117 ],\n",
              "       [ -9.772417, -72.8571  ],\n",
              "       [-12.456754, -68.5202  ],\n",
              "       [ -9.006897, -71.11014 ],\n",
              "       [ -9.342809, -81.18157 ],\n",
              "       [ -9.947431, -68.748116],\n",
              "       [ -7.176448, -66.988945],\n",
              "       [-11.469181, -80.726776],\n",
              "       [-10.869421, -64.40857 ]], dtype=float32)>"
            ]
          },
          "execution_count": 16,
          "metadata": {},
          "output_type": "execute_result"
        }
      ],
      "source": [
        "#`[S, B, E]` shaped input (broadcasting over samples)\n",
        "import tensorflow as tf\n",
        "tf.random.set_seed(seed=42)\n",
        "\n",
        "inp = tf.random.uniform(shape=(9, 2, 2, 3))\n",
        "ind_normal_distributions.log_prob(value=inp)"
      ]
    },
    {
      "cell_type": "code",
      "execution_count": null,
      "metadata": {
        "id": "F8LLI2EoEOlu",
        "outputId": "b775fd9f-f57a-4644-c979-6e98fed968cf"
      },
      "outputs": [
        {
          "data": {
            "text/plain": [
              "<tf.Tensor: shape=(5, 2), dtype=float32, numpy=\n",
              "array([[ -9.286251, -63.888245],\n",
              "       [-10.366593, -83.21844 ],\n",
              "       [-10.17972 , -78.43152 ],\n",
              "       [ -9.265926, -67.43485 ],\n",
              "       [ -9.444034, -73.98662 ]], dtype=float32)>"
            ]
          },
          "execution_count": 17,
          "metadata": {},
          "output_type": "execute_result"
        }
      ],
      "source": [
        "# `[S, b, e]` shaped input, where [b, e] is broadcastable over [B, E]\n",
        "import tensorflow as tf\n",
        "tf.random.set_seed(seed=42)\n",
        "\n",
        "inp = tf.random.uniform(shape=(5, 1, 2, 1))\n",
        "ind_normal_distributions.log_prob(value=inp)"
      ]
    },
    {
      "cell_type": "markdown",
      "metadata": {
        "id": "G-R5KITkEOlv"
      },
      "source": [
        "#### Naive Bayes example\n",
        "\n",
        "Lets now use what we have learned and continue the Naive Bayes classifier we were building last tutorial."
      ]
    },
    {
      "cell_type": "code",
      "execution_count": null,
      "metadata": {
        "id": "KF7Bb7GjEOlv"
      },
      "outputs": [],
      "source": [
        "from sklearn.datasets import fetch_20newsgroups\n",
        "from sklearn.feature_extraction.text import CountVectorizer\n",
        "from sklearn.naive_bayes import BernoulliNB\n",
        "from sklearn.metrics import f1_score"
      ]
    },
    {
      "cell_type": "code",
      "execution_count": null,
      "metadata": {
        "id": "TBGwx7u4EOlv"
      },
      "outputs": [],
      "source": [
        "# Making a function get_data which:\n",
        "#   1) Fetches the 20 newsgroup dataset\n",
        "#   2) Performs a word count on the articles and binarizes the result\n",
        "#   3) Returns the data as a numpy matrix with the labels\n",
        "from sklearn import datasets\n",
        "from sklearn.feature_extraction import text\n",
        "\n",
        "def get_data(categories):\n",
        "    newsgroups_train_data = datasets.fetch_20newsgroups(\n",
        "        data_home='20_Newsgroup_Data/',\n",
        "        subset='train', categories=categories)\n",
        "    newsgroups_test_data = datasets.fetch_20newsgroups(\n",
        "        data_home='20_Newsgroup_Data/',\n",
        "        subset='test', categories=categories)\n",
        "\n",
        "    n_documents = len(newsgroups_train_data['data'])\n",
        "    count_vectorizer = text.CountVectorizer(input='content',\n",
        "        binary=True, max_df=0.25, min_df=1.01/n_documents)\n",
        "\n",
        "    train_binary_bag_of_words = count_vectorizer.fit_transform(\n",
        "        raw_documents=newsgroups_train_data['data'])\n",
        "    test_binary_bag_of_words = count_vectorizer.transform(\n",
        "        raw_documents=newsgroups_test_data['data'])\n",
        "\n",
        "    return (train_binary_bag_of_words.todense(),\n",
        "            newsgroups_train_data['target']), \\\n",
        "        (test_binary_bag_of_words.todense(),\n",
        "            newsgroups_test_data['target'])"
      ]
    },
    {
      "cell_type": "code",
      "execution_count": null,
      "metadata": {
        "id": "obM-O9lcEOlv"
      },
      "outputs": [],
      "source": [
        "# Defining a function to conduct Laplace smoothing. This adds a base\n",
        "# level of probability for a given feature to occur in every class.\n",
        "import numpy as np\n",
        "\n",
        "def laplace_smoothing(labels, binary_data, n_classes):\n",
        "    # Compute the parameter estimates (adjusted fraction of documents\n",
        "    # in class that contain word)\n",
        "    n_words = binary_data.shape[1]\n",
        "    alpha = 1 # parameters for Laplace smoothing\n",
        "    # stores parameter values - prob. word given class\n",
        "    theta = np.zeros(shape=[n_classes, n_words])\n",
        "    for c_k in range(n_classes): # 0, 1, ..., 19\n",
        "        class_mask = (labels == c_k)\n",
        "        N = class_mask.sum() # number of articles in class\n",
        "        theta[c_k, :] = (binary_data[class_mask, :].sum(axis=0) + alpha)\\\n",
        "            /(N + alpha*2)\n",
        "\n",
        "    return theta"
      ]
    },
    {
      "cell_type": "code",
      "execution_count": null,
      "metadata": {
        "id": "fNz5KnpbEOlv"
      },
      "outputs": [],
      "source": [
        "# Getting a subset of the 20 newsgroup dataset\n",
        "\n",
        "categories = ['alt.atheism', 'talk.religion.misc', 'comp.graphics',\n",
        "    'sci.space']\n",
        "\n",
        "(train_data, train_labels), (test_data, test_labels) = get_data(\n",
        "    categories=categories)\n",
        "smoothed_counts = laplace_smoothing(labels=train_labels,\n",
        "    binary_data=train_data, n_classes=len(categories))"
      ]
    },
    {
      "cell_type": "markdown",
      "metadata": {
        "id": "XAqHbHmGEOlw"
      },
      "source": [
        "To now make our NB classifier we need to build three functions:\n",
        "* Compute the class priors\n",
        "* Build our class conditional distributions\n",
        "* Put it all together and classify our data"
      ]
    },
    {
      "cell_type": "code",
      "execution_count": null,
      "metadata": {
        "id": "DMfF9edLEOlw"
      },
      "outputs": [],
      "source": [
        "# Function which computes the prior probability of every class\n",
        "# based on frequency of occurence in the dataset\n",
        "import numpy as np\n",
        "\n",
        "def class_priors(n_classes, labels):\n",
        "    counts = np.zeros(shape=n_classes)\n",
        "    for c_k in range(n_classes):\n",
        "        counts[c_k] = np.sum(np.where(labels==c_k, 1, 0))\n",
        "    priors = counts / np.sum(counts)\n",
        "    print('The class priors are {}'.format(priors))\n",
        "    return priors"
      ]
    },
    {
      "cell_type": "code",
      "execution_count": null,
      "metadata": {
        "id": "vAo7APT0EOlw",
        "outputId": "4880b973-3663-4b30-cfdb-227370f37754"
      },
      "outputs": [
        {
          "name": "stdout",
          "output_type": "stream",
          "text": [
            "The class priors are [0.2359882  0.28711898 0.29154376 0.18534907]\n"
          ]
        }
      ],
      "source": [
        "# Run the function\n",
        "\n",
        "priors = class_priors(n_classes=len(categories), labels=train_labels)"
      ]
    },
    {
      "cell_type": "code",
      "execution_count": null,
      "metadata": {
        "id": "K4UVMLl3EOlw",
        "outputId": "db0c4570-628b-49b6-93fb-6b13d7c0b01d"
      },
      "outputs": [
        {
          "data": {
            "text/plain": [
              "<tfp.distributions.Independent 'IndependentBernoulli' batch_shape=[4] event_shape=[17495] dtype=int32>"
            ]
          },
          "execution_count": 24,
          "metadata": {},
          "output_type": "execute_result"
        }
      ],
      "source": [
        "# Now we will do a function that given the feature occurence counts\n",
        "# returns a Bernoulli distribution of batch_shape=number of classes\n",
        "# and event_shape=number of features.\n",
        "import tensorflow as tf\n",
        "import tensorflow_probability as tfp\n",
        "tf.random.set_seed(seed=42)\n",
        "\n",
        "def make_distribution(probs):\n",
        "    batch_of_bernoullis = tfp.distributions.Bernoulli(probs=probs)\n",
        "    dist = tfp.distributions.Independent(\n",
        "        distribution=batch_of_bernoullis,\n",
        "        reinterpreted_batch_ndims=1)\n",
        "\n",
        "    return dist\n",
        "\n",
        "tf_dist = make_distribution(smoothed_counts)\n",
        "tf_dist"
      ]
    },
    {
      "cell_type": "code",
      "execution_count": null,
      "metadata": {
        "id": "v9mQRQOQEOlw"
      },
      "outputs": [],
      "source": [
        "# The final function predict_sample which given the distribution,\n",
        "#  a test sample, and the class priors:\n",
        "#   1) Computes the class conditional probabilities given the sample\n",
        "#   2) Forms the joint likelihood\n",
        "#   3) Normalises the joint likelihood and returns the log prob\n",
        "import tensorflow as tf\n",
        "import tensorflow_probability as tfp\n",
        "tf.random.set_seed(seed=42)\n",
        "\n",
        "def predict_sample(dist, sample, priors):\n",
        "    cond_probs = dist.log_prob(value=sample)\n",
        "    joint_likelihood = tf.math.add(x=np.log(priors), y=cond_probs)\n",
        "    norm_factor = tf.math.reduce_logsumexp(input_tensor=joint_likelihood,\n",
        "        axis=-1, keepdims=True)\n",
        "    log_prob = joint_likelihood - norm_factor\n",
        "\n",
        "    return log_prob"
      ]
    },
    {
      "cell_type": "markdown",
      "metadata": {
        "id": "mjWGiGXsEOlx"
      },
      "source": [
        "#### Computing log_probs"
      ]
    },
    {
      "cell_type": "code",
      "execution_count": null,
      "metadata": {
        "id": "E-qex0hqEOlx",
        "outputId": "be13c364-34ba-4a34-edc2-c0420631f2a3"
      },
      "outputs": [
        {
          "data": {
            "text/plain": [
              "<tf.Tensor: shape=(4,), dtype=float32, numpy=\n",
              "array([-6.1736160e+01, -1.5258789e-05, -1.1619934e+01, -6.3327240e+01],\n",
              "      dtype=float32)>"
            ]
          },
          "execution_count": 26,
          "metadata": {},
          "output_type": "execute_result"
        }
      ],
      "source": [
        "# Predicting one example from our test data\n",
        "\n",
        "log_probs = predict_sample(dist=tf_dist, sample=test_data[0], priors=priors)\n",
        "log_probs"
      ]
    },
    {
      "cell_type": "code",
      "execution_count": null,
      "metadata": {
        "id": "0t0WA-OVEOlx",
        "outputId": "fa60f779-282d-4dac-c959-9772d5527fec"
      },
      "outputs": [
        {
          "name": "stdout",
          "output_type": "stream",
          "text": [
            "f1  0.7848499112849504\n"
          ]
        }
      ],
      "source": [
        "# Loop over our test data and classify.\n",
        "import tensorflow as tf\n",
        "tf.random.set_seed(seed=42)\n",
        "import numpy as np\n",
        "from sklearn import metrics\n",
        "\n",
        "probabilities = []\n",
        "for sample, label in zip(test_data, test_labels):\n",
        "    probabilities.append(tf.math.exp(x=predict_sample(\n",
        "        dist=tf_dist, sample=sample, priors=priors)))\n",
        "\n",
        "probabilities = np.asarray(a=probabilities)\n",
        "predicted_classes = np.argmax(a=probabilities, axis =-1)\n",
        "print('f1:', metrics.f1_score(y_true=test_labels, y_pred=predicted_classes,\n",
        "    average='macro'))"
      ]
    },
    {
      "cell_type": "code",
      "execution_count": null,
      "metadata": {
        "id": "7EG9GcTtEOlx",
        "outputId": "09a2346f-1be5-4948-9e9b-3a657e111eac"
      },
      "outputs": [
        {
          "name": "stdout",
          "output_type": "stream",
          "text": [
            "f1 from sklean  0.7848499112849504\n"
          ]
        }
      ],
      "source": [
        "# Make a Bernoulli Naive Bayes classifier using\n",
        "# sklearn with the same level of alpha smoothing.\n",
        "from sklearn import naive_bayes, metrics\n",
        "\n",
        "clf = naive_bayes.BernoulliNB(alpha=1.)\n",
        "clf.fit(X=train_data, y=train_labels)\n",
        "pred = clf.predict(X=test_data)\n",
        "print('f1 from sklean', metrics.f1_score(\n",
        "    y_true=test_labels, y_pred=pred, average='macro'))"
      ]
    },
    {
      "cell_type": "markdown",
      "metadata": {
        "id": "fbzLkp4REOly"
      },
      "source": [
        "***\n",
        "<a id='trainable_distributions'></a>\n",
        "## Trainable Distributions"
      ]
    },
    {
      "cell_type": "code",
      "execution_count": null,
      "metadata": {
        "id": "JvfvKoZNEOly",
        "outputId": "80de83a6-041e-4cc1-8cee-0eda975a4a21"
      },
      "outputs": [
        {
          "name": "stdout",
          "output_type": "stream",
          "text": [
            "(<tf.Variable 'loc:0' shape=() dtype=float32, numpy=0.0>,)\n",
            "loss=1.090038, loc=0.026177166\n",
            "loss=1.076676, loc=0.051045474\n",
            "loss=1.064616, loc=0.07467037\n",
            "loss=1.053732, loc=0.09711401\n",
            "loss=1.043910, loc=0.11843548\n",
            "loss=1.035045, loc=0.13869087\n",
            "loss=1.027045, loc=0.15793349\n",
            "loss=1.019824, loc=0.17621398\n",
            "loss=1.013308, loc=0.19358045\n",
            "loss=1.007427, loc=0.2100786\n"
          ]
        }
      ],
      "source": [
        "import tensorflow as tf\n",
        "import tensorflow_probability as tfp\n",
        "tf.random.set_seed(seed=42)\n",
        "\n",
        "normal = tfp.distributions.Normal(\n",
        "    loc=tf.Variable(initial_value=0., name='loc'), scale=1.)\n",
        "print(normal.trainable_variables)\n",
        "\n",
        "def nll(x_train):\n",
        "    return -tf.math.reduce_mean(input_tensor=normal.log_prob(value=x_train))\n",
        "\n",
        "@tf.function\n",
        "def get_loss_and_grads(x_train):\n",
        "    with tf.GradientTape() as tape:\n",
        "        tape.watch(tensor=normal.trainable_variables)\n",
        "        loss = nll(x_train=x_train)\n",
        "    grads = tape.gradient(target=loss, sources=normal.trainable_variables)\n",
        "    return loss, grads\n",
        "\n",
        "optimizer = tf.keras.optimizers.SGD(learning_rate=0.05)\n",
        "\n",
        "num_steps = 10\n",
        "x_samples = tf.random.uniform(shape=(1, 100))\n",
        "\n",
        "for _ in range(num_steps):\n",
        "    loss, grads = get_loss_and_grads(x_train=x_samples)\n",
        "    optimizer.apply_gradients(grads_and_vars=zip(\n",
        "        grads, normal.trainable_variables))\n",
        "    print(\"loss=%f, loc=%s\"%(loss.numpy(), normal.loc.numpy()))"
      ]
    },
    {
      "cell_type": "code",
      "execution_count": null,
      "metadata": {
        "id": "YsvQvppUEOly"
      },
      "outputs": [],
      "source": [
        "from sklearn.datasets import fetch_20newsgroups\n",
        "from sklearn.feature_extraction.text import CountVectorizer\n",
        "from sklearn.naive_bayes import BernoulliNB\n",
        "from sklearn.metrics import f1_score"
      ]
    },
    {
      "cell_type": "code",
      "execution_count": null,
      "metadata": {
        "id": "mgGjhJpkEOly"
      },
      "outputs": [],
      "source": [
        "# Define an exponential distribution\n",
        "import tensorflow as tf\n",
        "import tensorflow_probability as tfp\n",
        "tf.random.set_seed(seed=42)\n",
        "\n",
        "exponential = tfp.distributions.Exponential(rate=0.3, name='exp')"
      ]
    },
    {
      "cell_type": "code",
      "execution_count": null,
      "metadata": {
        "id": "vd7KImJqEOly",
        "outputId": "133b4af2-bf08-4b27-80f0-fcc011507ddf"
      },
      "outputs": [
        {
          "data": {
            "image/png": "[encoded data removed]",
            "text/plain": [
              "<Figure size 432x288 with 1 Axes>"
            ]
          },
          "metadata": {
            "needs_background": "light"
          },
          "output_type": "display_data"
        }
      ],
      "source": [
        "# Plot\n",
        "import maplotlib.pyplot as plt\n",
        "\n",
        "plt.hist(x=exponential.sample(sample_shape=5000), bins=100, density=True)\n",
        "plt.show()"
      ]
    },
    {
      "cell_type": "code",
      "execution_count": null,
      "metadata": {
        "id": "QPOBe9w8EOly",
        "outputId": "238792a5-3ae9-4338-b283-b612887b25e4"
      },
      "outputs": [
        {
          "data": {
            "text/plain": [
              "(<tf.Variable 'rate:0' shape=() dtype=float32, numpy=1.0>,)"
            ]
          },
          "execution_count": 7,
          "metadata": {},
          "output_type": "execute_result"
        }
      ],
      "source": [
        "# Define an exponential distribution with a trainable rate parameter\n",
        "import tensorflow as tf\n",
        "import tensorflow_probability as tfp\n",
        "tf.random.set_seed(seed=42)\n",
        "\n",
        "exp_train = tfp.distributions.Exponential(\n",
        "    rate=tf.Variable(initial_value=1., name='rate'),\n",
        "    name='exp_train')\n",
        "exp_train.trainable_variables"
      ]
    },
    {
      "cell_type": "code",
      "execution_count": null,
      "metadata": {
        "id": "OI61CFVaEOly"
      },
      "outputs": [],
      "source": [
        "# Define the negative log likelihood\n",
        "import tensorflow as tf\n",
        "tf.random.set_seed(seed=42)\n",
        "\n",
        "def nll(x_train, distribution):\n",
        "    return -tf.math.reduce_mean(\n",
        "        input_tensor=distribution.log_prob(value=x_train))"
      ]
    },
    {
      "cell_type": "code",
      "execution_count": null,
      "metadata": {
        "id": "4sQmTzZ2EOly"
      },
      "outputs": [],
      "source": [
        "# Define a function to compute the loss and gradients\n",
        "import tensorflow as tf\n",
        "tf.random.set_seed(seed=42)\n",
        "\n",
        "@tf.function\n",
        "def get_loss_and_grads(x_train, distribution):\n",
        "    with tf.GradientTape() as tape:\n",
        "        tape.watch(tensor=distribution.trainable_variables)\n",
        "        loss = nll(x_train=x_train, distribution=distribution)\n",
        "        grads = tape.gradient(target=loss,\n",
        "            sources=distribution.trainable_variables)\n",
        "    return loss, grads"
      ]
    },
    {
      "cell_type": "code",
      "execution_count": null,
      "metadata": {
        "id": "Ah72hWn6EOly"
      },
      "outputs": [],
      "source": [
        "# Optimize\n",
        "import tensorflow as tf\n",
        "tf.random.set_seed(seed=42)\n",
        "\n",
        "def exponential_dist_optimisation(data, distribution):\n",
        "\n",
        "    # Keep results for plotting\n",
        "    train_loss_results = []\n",
        "    train_rate_results = []\n",
        "\n",
        "    optimizer = tf.keras.optimizers.SGD(learning_rate=0.05)\n",
        "\n",
        "    num_steps = 10\n",
        "\n",
        "    for i in range(num_steps):\n",
        "        loss, grads = get_loss_and_grads(x_train=data,\n",
        "            distribution=distribution)\n",
        "        optimizer.apply_gradients(grads_and_vars=zip(\n",
        "            grads, distribution.trainable_variables))\n",
        "\n",
        "        rate_value = distribution.rate.value()\n",
        "        train_loss_results.append(loss)\n",
        "        train_rate_results.append(rate_value)\n",
        "\n",
        "        print(\"Step {:03d}: Loss: {:.3f}: Rate: {:.3f}\".format(\n",
        "            i, loss, rate_value))\n",
        "\n",
        "    return train_loss_results, train_rate_results"
      ]
    },
    {
      "cell_type": "code",
      "execution_count": null,
      "metadata": {
        "id": "y_aZbqXAEOlz",
        "outputId": "5a04576e-365f-4c17-d237-9e7f6f6814a3"
      },
      "outputs": [
        {
          "name": "stdout",
          "output_type": "stream",
          "text": [
            "Step 000: Loss: 3.309: Rate: 0.885\n",
            "Step 001: Loss: 3.050: Rate: 0.776\n",
            "Step 002: Loss: 2.821: Rate: 0.675\n",
            "Step 003: Loss: 2.626: Rate: 0.583\n",
            "Step 004: Loss: 2.469: Rate: 0.504\n",
            "Step 005: Loss: 2.352: Rate: 0.437\n",
            "Step 006: Loss: 2.274: Rate: 0.386\n",
            "Step 007: Loss: 2.229: Rate: 0.350\n",
            "Step 008: Loss: 2.208: Rate: 0.328\n",
            "Step 009: Loss: 2.200: Rate: 0.315\n"
          ]
        }
      ],
      "source": [
        "# Get some data and train\n",
        "\n",
        "sampled_data = exponential.sample(sample_shape=5000)\n",
        "train_loss_results, train_rate_results = exponential_dist_optimisation(\n",
        "    data=sampled_data, distribution=exp_train)"
      ]
    },
    {
      "cell_type": "code",
      "execution_count": null,
      "metadata": {
        "id": "sQnnCSSvEOlz",
        "outputId": "d99cc77f-452f-438a-b2e5-c91c9c4367da"
      },
      "outputs": [
        {
          "name": "stdout",
          "output_type": "stream",
          "text": [
            "Exact rate:  0.3\n",
            "Pred rate:   0.31472635\n"
          ]
        }
      ],
      "source": [
        "# Predicted value for the rate parameter\n",
        "\n",
        "pred_value = exp_train.rate.numpy()\n",
        "exact_value = exponential.rate.numpy()\n",
        "\n",
        "print(\"Exact rate:\", exact_value)\n",
        "print(\"Pred rate:\", pred_value)"
      ]
    },
    {
      "cell_type": "code",
      "execution_count": null,
      "metadata": {
        "id": "vDchmmhFEOlz",
        "outputId": "2d5445aa-4c87-4627-9851-8275eff15128"
      },
      "outputs": [
        {
          "data": {
            "image/png": "[encoded data removed]",
            "text/plain": [
              "<Figure size 864x576 with 2 Axes>"
            ]
          },
          "metadata": {
            "needs_background": "light"
          },
          "output_type": "display_data"
        }
      ],
      "source": [
        "# Plot to see the convergence of the estimated and true parameters\n",
        "import tensorflow as tf\n",
        "tf.random.set_seed(seed=42)\n",
        "import matplotlib.pyplot as plt\n",
        "\n",
        "tensor_exact_value = tf.constant(value=exact_value,\n",
        "    shape=[len(train_rate_results)])\n",
        "\n",
        "fig, axes = plt.subplots(nrows=2, sharex=True, figsize=(12, 8))\n",
        "fig.suptitle(t='Convergence')\n",
        "\n",
        "axes[0].set_ylabel(ylabel=\"Loss\", fontsize=14)\n",
        "axes[0].plot(train_loss_results)\n",
        "\n",
        "axes[1].set_ylabel(ylabel=\"Rate\", fontsize=14)\n",
        "axes[1].set_xlabel(xlabel=\"Epoch\", fontsize=14)\n",
        "axes[1].plot(train_rate_results, label='trainable rate variable')\n",
        "axes[1].plot(tensor_exact_value, label='exact rate')\n",
        "axes[1].legend()\n",
        "plt.show()"
      ]
    },
    {
      "cell_type": "code",
      "execution_count": null,
      "metadata": {
        "id": "cB7-FXRwEOlz"
      },
      "outputs": [],
      "source": [
        "# Making a function get_data which:\n",
        "#   1) Fetches the 20 newsgroup dataset\n",
        "#   2) Performs a word count on the articles and binarizes the result\n",
        "#   3) Returns the data as a numpy matrix with the labels\n",
        "\n",
        "from sklearn import datasets\n",
        "from sklearn.feature_extraction import text\n",
        "\n",
        "def get_data(categories):\n",
        "\n",
        "    newsgroups_train_data = datasets.fetch_20newsgroups(\n",
        "        data_home='20_Newsgroup_Data/', subset='train',\n",
        "        categories=categories)\n",
        "    newsgroups_test_data = datasets.fetch_20newsgroups(\n",
        "        data_home='20_Newsgroup_Data/', subset='test',\n",
        "        categories=categories)\n",
        "\n",
        "    n_documents = len(newsgroups_train_data['data'])\n",
        "    count_vectorizer = text.CountVectorizer(input='content', binary=True,\n",
        "        max_df=0.25, min_df=1.01/n_documents)\n",
        "    train_binary_bag_of_words = count_vectorizer.fit_transform(\n",
        "        raw_documents=newsgroups_train_data['data'])\n",
        "    test_binary_bag_of_words = count_vectorizer.transform(\n",
        "        raw_documents=newsgroups_test_data['data'])\n",
        "\n",
        "    return (train_binary_bag_of_words.todense(),\n",
        "            newsgroups_train_data['target']), \\\n",
        "        (test_binary_bag_of_words.todense(),\n",
        "             newsgroups_test_data['target'])"
      ]
    },
    {
      "cell_type": "code",
      "execution_count": null,
      "metadata": {
        "id": "dHi0tSEkEOl5"
      },
      "outputs": [],
      "source": [
        "# Defining a function to conduct laplace smoothing. This adds a base\n",
        "# level of probability for a given feature to occur in every class.\n",
        "import numpy as np\n",
        "\n",
        "def laplace_smoothing(labels, binary_data, n_classes):\n",
        "    # Compute the parameter estimates (adjusted fraction of documents\n",
        "    # in class that contain word)\n",
        "    n_words = binary_data.shape[1]\n",
        "    alpha = 1 # parameters for Laplace smoothing\n",
        "    theta = np.zeros(shape=[n_classes, n_words]) # stores parameter values - prob. word given class\n",
        "    for c_k in range(n_classes): # 0, 1, ..., 19\n",
        "        class_mask = (labels == c_k)\n",
        "        N = class_mask.sum() # number of articles in class\n",
        "        theta[c_k, :] = (binary_data[class_mask, :].sum(axis=0)\n",
        "            + alpha)/(N + alpha*2)\n",
        "\n",
        "    return theta"
      ]
    },
    {
      "cell_type": "code",
      "execution_count": null,
      "metadata": {
        "id": "7hw-U2r-EOl5"
      },
      "outputs": [],
      "source": [
        "# Now we will do a function that given the feature occurence counts\n",
        "# returns a Bernoulli distribution of batch_shape=number of classes\n",
        "# and event_shape=number of features.\n",
        "import tensorflow as tf\n",
        "import tensorflow_probability as tfp\n",
        "tf.random.set_seed(seed=42)\n",
        "\n",
        "def make_distributions(probs):\n",
        "    # shape (n_classes, n_words)\n",
        "    batch_of_bernoullis = tfp.distributions.Bernoulli(probs=probs)\n",
        "    dist = tfp.distributions.Independent(\n",
        "        distribution=batch_of_bernoullis,\n",
        "        reinterpreted_batch_ndims=1)\n",
        "    return dist"
      ]
    },
    {
      "cell_type": "code",
      "execution_count": null,
      "metadata": {
        "id": "Pqp2NCnHEOl6"
      },
      "outputs": [],
      "source": [
        "# Function which computes the prior probability of every class\n",
        "# based on frequency of occurence in the dataset\n",
        "import numpy as np\n",
        "\n",
        "def class_priors(n_classes, labels):\n",
        "    counts = np.zeros(shape=n_classes)\n",
        "    for c_k in range(n_classes):\n",
        "        counts[c_k] = np.sum(a=np.where(labels==c_k, 1, 0))\n",
        "    priors = counts / np.sum(a=counts)\n",
        "    print('The class priors are {}'.format(priors))\n",
        "    return priors"
      ]
    },
    {
      "cell_type": "code",
      "execution_count": null,
      "metadata": {
        "id": "E8xoG7kTEOl6"
      },
      "outputs": [],
      "source": [
        "# The final function predict_sample which given the distribution,\n",
        "# a test sample, and the class priors:\n",
        "#   1) Computes the class conditional probabilities given the sample\n",
        "#   2) Forms the joint likelihood\n",
        "#   3) Normalises the joint likelihood and returns the log prob\n",
        "import tensorflow as tf\n",
        "tf.random.set_seed(seed=42)\n",
        "\n",
        "def predict_sample(dist, sample, priors):\n",
        "    cond_probs = dist.log_prob(value=sample)\n",
        "    joint_likelihood = tf.math.add(x=np.log(priors), y=cond_probs)\n",
        "    norm_factor = tf.math.reduce_logsumexp(input_tensor=joint_likelihood,\n",
        "        axis=-1, keepdims=True)\n",
        "    log_prob = joint_likelihood - norm_factor\n",
        "\n",
        "    return log_prob"
      ]
    },
    {
      "cell_type": "code",
      "execution_count": null,
      "metadata": {
        "id": "UubCvF37EOl6"
      },
      "outputs": [],
      "source": [
        "# Now we learn the distribution using gradient tape\n",
        "import tensorflow as tf\n",
        "import tensorflow_probability as tfp\n",
        "tf.random.set_seed(seed=42)\n",
        "\n",
        "def make_distribution_withGT(data, labels, nb_classes):\n",
        "\n",
        "    class_data = []\n",
        "    train_vars = []\n",
        "    distributions = []\n",
        "    for c in range(nb_classes):\n",
        "        train_vars.append(tf.Variable(initial_value=np.random.uniform(\n",
        "            low=0.01, high=0.1, size=data.shape[-1])))\n",
        "        distributions.append(tfp.distributions.Bernoulli(probs=train_vars[c]))\n",
        "        class_mask = (labels == c)\n",
        "        class_data.append(data[class_mask, :])\n",
        "\n",
        "    for c_num in range(0, nb_classes):\n",
        "        optimizer = tf.keras.optimizers.Adam()\n",
        "        print('\\n%-------------------%')\n",
        "        print('Class ', c_num)\n",
        "        print('%-------------------%')\n",
        "\n",
        "        for i in range(0, 100):\n",
        "            loss, grads = get_loss_and_grads(x_train=class_data[c_num],\n",
        "                distribution=distributions[c_num])\n",
        "            if (i%10==0):\n",
        "                print(\"iter: {} loss: {}\".format(i, loss))\n",
        "            optimizer.apply_gradients(grads_and_vars=zip(grads,\n",
        "                distributions[c_num].trainable_variables))\n",
        "            eta = 1e-3\n",
        "            clipped_probs = tf.clip_by_value(\n",
        "                t=distributions[c_num].trainable_variables,\n",
        "                clip_value_min=eta, clip_value_max=1)\n",
        "            train_vars[c_num] = tf.squeeze(input=clipped_probs)\n",
        "\n",
        "    dist = tfp.distributions.Bernoulli(probs=train_vars)\n",
        "    dist = tfp.distributions.Independent(\n",
        "        distribution=dist, reinterpreted_batch_ndims=1)\n",
        "\n",
        "    print(dist)\n",
        "\n",
        "    return dist"
      ]
    },
    {
      "cell_type": "code",
      "execution_count": null,
      "metadata": {
        "id": "9sRfhdpxEOl6",
        "outputId": "f90626e2-a977-453f-9f32-516ef105a6ee"
      },
      "outputs": [
        {
          "name": "stdout",
          "output_type": "stream",
          "text": [
            "The class priors are [0.2359882  0.28711898 0.29154376 0.18534907]\n"
          ]
        }
      ],
      "source": [
        "# Make the same Naive Bayes classifier we did last tutorial\n",
        "\n",
        "categories = ['alt.atheism', 'talk.religion.misc',\n",
        "    'comp.graphics', 'sci.space']\n",
        "\n",
        "(train_data, train_labels), (test_data, test_labels) = get_data(\n",
        "    categories=categories)\n",
        "\n",
        "smoothed_counts = laplace_smoothing(labels=train_labels,\n",
        "    binary_data=train_data, n_classes=len(categories))\n",
        "\n",
        "priors = class_priors(n_classes=len(categories), labels=train_labels)\n",
        "tf_dist = make_distributions(probs=smoothed_counts)"
      ]
    },
    {
      "cell_type": "code",
      "execution_count": null,
      "metadata": {
        "id": "2hDdSkk1EOl6",
        "outputId": "69efe0f7-65a0-435a-872e-84c6849a9a2a"
      },
      "outputs": [
        {
          "name": "stdout",
          "output_type": "stream",
          "text": [
            "\n",
            "%-------------------%\n",
            "Class  0\n",
            "%-------------------%\n",
            "iter: 0 loss: 0.07855682454284572\n",
            "iter: 10 loss: 0.06915748980472317\n",
            "iter: 20 loss: 0.060414216659008035\n",
            "iter: 30 loss: 0.052321800626098695\n",
            "iter: 40 loss: 0.044833687481894376\n",
            "iter: 50 loss: 0.037904426174938444\n",
            "iter: 60 loss: 0.031501897781803546\n",
            "iter: 70 loss: 0.02557889304241362\n",
            "iter: 80 loss: 0.02009203311509877\n",
            "iter: 90 loss: 0.015000961760091396\n",
            "\n",
            "%-------------------%\n",
            "Class  1\n",
            "%-------------------%\n",
            "iter: 0 loss: 0.0716369820925325\n",
            "iter: 10 loss: 0.06230347958735803\n",
            "iter: 20 loss: 0.053508155189019\n",
            "iter: 30 loss: 0.04531840243416014\n",
            "iter: 40 loss: 0.03771533580185697\n",
            "iter: 50 loss: 0.030699342336575407\n",
            "iter: 60 loss: 0.024221137936198033\n",
            "iter: 70 loss: 0.01824969985609451\n",
            "iter: 80 loss: 0.012742350222394545\n",
            "iter: 90 loss: 0.007640409577321614\n",
            "\n",
            "%-------------------%\n",
            "Class  2\n",
            "%-------------------%\n",
            "iter: 0 loss: 0.0783094403400362\n",
            "iter: 10 loss: 0.0692229134891275\n",
            "iter: 20 loss: 0.060853778487910355\n",
            "iter: 30 loss: 0.05323390530394342\n",
            "iter: 40 loss: 0.04631591886696785\n",
            "iter: 50 loss: 0.040055262326332323\n",
            "iter: 60 loss: 0.03439428319431741\n",
            "iter: 70 loss: 0.02929254819686816\n",
            "iter: 80 loss: 0.024704155866421326\n",
            "iter: 90 loss: 0.020575767098492157\n",
            "\n",
            "%-------------------%\n",
            "Class  3\n",
            "%-------------------%\n",
            "iter: 0 loss: 0.07964582973719142\n",
            "iter: 10 loss: 0.0704097960141537\n",
            "iter: 20 loss: 0.06181414435036984\n",
            "iter: 30 loss: 0.05385792695664912\n",
            "iter: 40 loss: 0.046479979437806754\n",
            "iter: 50 loss: 0.039643312977235605\n",
            "iter: 60 loss: 0.033303537203902105\n",
            "iter: 70 loss: 0.027419584045920632\n",
            "iter: 80 loss: 0.021949339275242938\n",
            "iter: 90 loss: 0.016851786978412223\n",
            "tfp.distributions.Independent(\"IndependentBernoulli\", batch_shape=[4], event_shape=[17495], dtype=int32)\n"
          ]
        }
      ],
      "source": [
        "# Now train the distributions with gradient tape\n",
        "\n",
        "GT_dist = make_distribution_withGT(data=train_data,\n",
        "    labels=train_labels, nb_classes=4)"
      ]
    },
    {
      "cell_type": "code",
      "execution_count": null,
      "metadata": {
        "id": "aCS8BMmGEOl7",
        "outputId": "80659005-1e6b-4d59-fcd0-c765ff977c5c"
      },
      "outputs": [
        {
          "name": "stdout",
          "output_type": "stream",
          "text": [
            "f1  0.8236432097209768\n",
            "f1  0.7848499112849504\n"
          ]
        }
      ],
      "source": [
        "# Compare the two results\n",
        "import numpy as np\n",
        "from sklearn import metrics\n",
        "\n",
        "for dist in [GT_dist, tf_dist]:\n",
        "    probabilities = []\n",
        "    for sample, label in zip(test_data, test_labels):\n",
        "        probabilities.append(predict_sample(\n",
        "            dist=dist, sample=sample, priors=priors))\n",
        "\n",
        "    probabilities = np.asarray(a=probabilities)\n",
        "    predicted_classes = np.argmax(a=probabilities, axis =-1)\n",
        "    print('f1 ', metrics.f1_score(y_true=test_labels,\n",
        "        y_pred=predicted_classes, average='macro'))"
      ]
    }
  ],
  "metadata": {
    "kernelspec": {
      "display_name": "Python 3",
      "language": "python",
      "name": "python3"
    },
    "language_info": {
      "codemirror_mode": {
        "name": "ipython",
        "version": 3
      },
      "file_extension": ".py",
      "mimetype": "text/x-python",
      "name": "python",
      "nbconvert_exporter": "python",
      "pygments_lexer": "ipython3",
      "version": "3.7.1"
    },
    "colab": {
      "provenance": [],
      "include_colab_link": true
    }
  },
  "nbformat": 4,
  "nbformat_minor": 0
}