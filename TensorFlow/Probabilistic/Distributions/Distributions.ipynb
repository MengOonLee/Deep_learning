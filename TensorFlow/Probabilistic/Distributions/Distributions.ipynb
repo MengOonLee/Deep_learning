{
  "nbformat": 4,
  "nbformat_minor": 0,
  "metadata": {
    "kernelspec": {
      "display_name": "Python 3",
      "name": "python3"
    },
    "language_info": {
      "codemirror_mode": {
        "name": "ipython",
        "version": 3
      },
      "file_extension": ".py",
      "mimetype": "text/x-python",
      "name": "python",
      "nbconvert_exporter": "python",
      "pygments_lexer": "ipython3",
      "version": "3.7.1"
    },
    "colab": {
      "name": "TensorFlow_distributions.ipynb",
      "provenance": [],
      "include_colab_link": true
    }
  },
  "cells": [
    {
      "cell_type": "markdown",
      "metadata": {
        "id": "view-in-github",
        "colab_type": "text"
      },
      "source": [
        "<a href=\"https://colab.research.google.com/github/MengOonLee/Deep_learning/blob/master/TensorFlow/Probabilistic/Distributions/Distributions.ipynb\" target=\"_parent\"><img src=\"https://colab.research.google.com/assets/colab-badge.svg\" alt=\"Open In Colab\"/></a>"
      ]
    },
    {
      "cell_type": "markdown",
      "metadata": {
        "id": "pw4DfEfnJLKp"
      },
      "source": [
        "# Tensorflow Distributions"
      ]
    },
    {
      "cell_type": "markdown",
      "metadata": {
        "id": "AMCzcN1-JLKp"
      },
      "source": [
        "## Coding Tutorials\n",
        "#### 1. [Univariate Distributions](#univariate_distributions)\n",
        "#### 2. [Multivariate Distributions](#multivariate_distributions)\n",
        "#### 3. [The Independent Distribution](#the_independent_distribution)\n",
        "#### 4. [Sampling and log probs](#sampling_and_log_probs)\n",
        "#### 5. [Trainable Distributions](#trainable_distributions)"
      ]
    },
    {
      "cell_type": "markdown",
      "metadata": {
        "id": "qM53TAYMJLKp"
      },
      "source": [
        "***\n",
        "## Univariate distributions\n",
        "<a id='univariate_distributions'></a>"
      ]
    },
    {
      "cell_type": "code",
      "metadata": {
        "id": "DQOqFgpSJLKp",
        "colab": {
          "base_uri": "https://localhost:8080/",
          "height": 282
        },
        "outputId": "205ec14f-067e-4111-acf5-03f8a8680dfe"
      },
      "source": [
        "import tensorflow as tf\n",
        "tf.keras.utils.set_random_seed(seed=42)\n",
        "tf.get_logger().setLevel(\"ERROR\")\n",
        "import tensorflow_probability as tfp\n",
        "%matplotlib inline\n",
        "import matplotlib.pyplot as plt\n",
        "import seaborn as sns\n",
        "\n",
        "# Create a normal distribution from Tensorflow Distributions\n",
        "normal = tfp.distributions.Normal(\n",
        "    loc=[-0.8, 0, 1.9],\n",
        "    scale=[1.25, 0.6, 2.8]\n",
        ")\n",
        "print(\"Batch shape:\", normal.batch_shape)\n",
        "# Sample multiple times from the chosen distribution...\n",
        "samples = normal.sample(sample_shape=10000)\n",
        "print(\"Samples shape:\", samples.shape)\n",
        "# Obtain value of probability's density\n",
        "print(\"Prob shape:\", normal.prob(value=samples).shape)\n",
        "# Obtain value of log_probability\n",
        "print(\"Log prob shape:\", normal.log_prob(value=samples).shape)\n",
        "\n",
        "# Plot a histogram, approximating the density\n",
        "fig, axes = plt.subplots(nrows=1, ncols=3, figsize=(12, 3))\n",
        "for i, ax in enumerate(axes):\n",
        "    sns.histplot(ax=ax, x=samples[:, i], bins=100, stat=\"density\")\n",
        "fig.tight_layout()\n",
        "plt.show()"
      ],
      "execution_count": null,
      "outputs": [
        {
          "output_type": "stream",
          "name": "stdout",
          "text": [
            "Batch shape: (3,)\n",
            "Samples shape: (10000, 3)\n",
            "Prob shape: (10000, 3)\n",
            "Log prob shape: (10000, 3)\n"
          ]
        },
        {
          "output_type": "display_data",
          "data": {
            "text/plain": [
              "<Figure size 1200x300 with 3 Axes>"
            ],
            "image/png": "[encoded data removed]"
          },
          "metadata": {}
        }
      ]
    },
    {
      "cell_type": "markdown",
      "metadata": {
        "id": "G_wifaAqJLKs"
      },
      "source": [
        "#### Work with batch distributions"
      ]
    },
    {
      "cell_type": "code",
      "metadata": {
        "id": "o3L4oQTWJLKq",
        "colab": {
          "base_uri": "https://localhost:8080/",
          "height": 282
        },
        "outputId": "49a5293f-ca64-4aba-c4aa-07d5fee31d3b"
      },
      "source": [
        "import tensorflow as tf\n",
        "tf.keras.utils.set_random_seed(seed=42)\n",
        "tf.get_logger().setLevel(\"ERROR\")\n",
        "import tensorflow_probability as tfp\n",
        "%matplotlib inline\n",
        "import matplotlib.pyplot as plt\n",
        "import seaborn as sns\n",
        "\n",
        "# Create a batched Bernoulli distribution (discrete)\n",
        "bernoulli = tfp.distributions.Bernoulli(\n",
        "    probs=[0.25, 0.5, 0.75]\n",
        ")\n",
        "print(\"Batch shape:\", bernoulli.batch_shape)\n",
        "# Sample from this batch of distributions\n",
        "samples = bernoulli.sample(sample_shape=10000)\n",
        "print(\"Samples shape:\", samples.shape)\n",
        "# Determine probabilities from this batch distribution\n",
        "print(\"Prob shape:\", bernoulli.prob(value=samples).shape)\n",
        "print(\"Log prob shape:\", bernoulli.log_prob(value=samples).shape)\n",
        "\n",
        "# Plot a histogram, approximating the density\n",
        "fig, axes = plt.subplots(nrows=1, ncols=3, figsize=(12, 3))\n",
        "for i, ax in enumerate(axes):\n",
        "    sns.histplot(ax=ax, x=samples[:, i], bins=100, stat=\"density\")\n",
        "fig.tight_layout()\n",
        "plt.show()"
      ],
      "execution_count": null,
      "outputs": [
        {
          "output_type": "stream",
          "name": "stdout",
          "text": [
            "Batch shape: (3,)\n",
            "Samples shape: (10000, 3)\n",
            "Prob shape: (10000, 3)\n",
            "Log prob shape: (10000, 3)\n"
          ]
        },
        {
          "output_type": "display_data",
          "data": {
            "text/plain": [
              "<Figure size 1200x300 with 3 Axes>"
            ],
            "image/png": "[encoded data removed]"
          },
          "metadata": {}
        }
      ]
    },
    {
      "cell_type": "markdown",
      "metadata": {
        "id": "AQ2MT5mfJLKs"
      },
      "source": [
        "***\n",
        "<a id='multivariate_distributions'></a>\n",
        "## Multivariate Distributions\n"
      ]
    },
    {
      "cell_type": "markdown",
      "metadata": {
        "id": "dgR0w3M1JLKt"
      },
      "source": [
        "#### Batches of multivariate distributions"
      ]
    },
    {
      "cell_type": "code",
      "metadata": {
        "id": "KXIyKemKJLKt",
        "colab": {
          "base_uri": "https://localhost:8080/",
          "height": 321
        },
        "outputId": "753d04e2-a4f2-4722-ef0e-ce1a8a494919"
      },
      "source": [
        "import tensorflow as tf\n",
        "tf.keras.utils.set_random_seed(seed=42)\n",
        "tf.get_logger().setLevel(\"ERROR\")\n",
        "import tensorflow_probability as tfp\n",
        "%matplotlib inline\n",
        "import matplotlib.pyplot as plt\n",
        "import seaborn as sns\n",
        "\n",
        "# Define 2D multivariate Gaussian with diagonal covariance matrix\n",
        "# Create three \"batches\" of multivariate normals\n",
        "mv_normal = tfp.distributions.MultivariateNormalDiag(\n",
        "    loc=[[-1, 0.5], [2, 0], [-0.5, 1.5]],\n",
        "    scale_diag=[[1, 2], [2, 1], [2, 2]]\n",
        ")\n",
        "print(\"Batch shape:\", mv_normal.batch_shape)\n",
        "print(\"Event shape:\", mv_normal.event_shape)\n",
        "# Sample from it\n",
        "# Create a sample for a plot -- notice the shape\n",
        "samples = mv_normal.sample(sample_shape=10000)\n",
        "print(\"Samples:\", samples.shape)\n",
        "# Compute log probs\n",
        "print(\"Log_prob:\", mv_normal.log_prob(value=samples).shape)\n",
        "\n",
        "# Plot samples from the batched multivariate Gaussian\n",
        "fig, axes = plt.subplots(nrows=1, ncols=3,\n",
        "    sharex=True, sharey=True, figsize=(10, 3))\n",
        "titles = [\"Sample1\", \"Sample2\", \"Sample3\"]\n",
        "for i, (ax, title) in enumerate(zip(axes, titles)):\n",
        "    # take the ith batch [samples x event_shape]\n",
        "    data = samples[:, i, :]\n",
        "    sns.scatterplot(ax=ax, x=data[:, 0], y=data[:, 1],\n",
        "        marker='.', alpha=0.05)\n",
        "    ax.set_title(title)\n",
        "fig.tight_layout()\n",
        "plt.show()"
      ],
      "execution_count": 1,
      "outputs": [
        {
          "output_type": "stream",
          "name": "stdout",
          "text": [
            "Batch shape: (3,)\n",
            "Event shape: (2,)\n",
            "Samples: (10000, 3, 2)\n",
            "Log_prob: (10000, 3)\n"
          ]
        },
        {
          "output_type": "display_data",
          "data": {
            "text/plain": [
              "<Figure size 1000x300 with 3 Axes>"
            ],
            "image/png": "[encoded data removed]"
          },
          "metadata": {}
        }
      ]
    },
    {
      "cell_type": "markdown",
      "metadata": {
        "id": "XFiLf_F6JLKu"
      },
      "source": [
        "\n",
        "\n",
        "***\n",
        "<a id='the_independent_distribution'></a>\n",
        "## The Independent Distribution"
      ]
    },
    {
      "cell_type": "code",
      "metadata": {
        "id": "0f0S6VwuJLKu",
        "colab": {
          "base_uri": "https://localhost:8080/"
        },
        "outputId": "7467d053-6893-4b21-d450-3489b82dba35"
      },
      "source": [
        "import tensorflow as tf\n",
        "import tensorflow_probability as tfp\n",
        "tfd = tfp.distributions\n",
        "\n",
        "mv_normal = tfd.MultivariateNormalDiag(\n",
        "    loc=[-1., 0.5], scale_diag=[1., 1.5])\n",
        "print(mv_normal)\n",
        "print(mv_normal.log_prob([-0.2, 1.8]))"
      ],
      "execution_count": null,
      "outputs": [
        {
          "output_type": "stream",
          "name": "stdout",
          "text": [
            "tfp.distributions.MultivariateNormalDiag(\"MultivariateNormalDiag\", batch_shape=[], event_shape=[2], dtype=float32)\n",
            "tf.Tensor(-2.9388978, shape=(), dtype=float32)\n"
          ]
        }
      ]
    },
    {
      "cell_type": "code",
      "metadata": {
        "id": "nQlSsGDuJLKu",
        "colab": {
          "base_uri": "https://localhost:8080/"
        },
        "outputId": "f173cc3c-2da9-4124-d4fe-e4b172271e48"
      },
      "source": [
        "batched_normal = tfd.Normal(\n",
        "    loc=[-1., 0.5], scale=[1., 1.5])\n",
        "print(batched_normal)\n",
        "print(batched_normal.log_prob([-0.2, 1.8]))"
      ],
      "execution_count": null,
      "outputs": [
        {
          "output_type": "stream",
          "name": "stdout",
          "text": [
            "tfp.distributions.Normal(\"Normal\", batch_shape=[2], event_shape=[], dtype=float32)\n",
            "tf.Tensor([-1.2389386 -1.699959 ], shape=(2,), dtype=float32)\n"
          ]
        }
      ]
    },
    {
      "cell_type": "code",
      "metadata": {
        "id": "fwV0oMBYJLKu",
        "colab": {
          "base_uri": "https://localhost:8080/"
        },
        "outputId": "65029d83-2faa-422d-c4b6-50876af5e26d"
      },
      "source": [
        "batched_normal = tfd.Normal(loc=[-1., 0.5], scale=[1., 1.5])\n",
        "\n",
        "independent_normal = tfd.Independent(batched_normal,\n",
        "    reinterpreted_batch_ndims=1)\n",
        "print(independent_normal)\n",
        "print(independent_normal.log_prob([-0.2, 1.8]))"
      ],
      "execution_count": null,
      "outputs": [
        {
          "output_type": "stream",
          "name": "stdout",
          "text": [
            "tfp.distributions.Independent(\"IndependentNormal\", batch_shape=[], event_shape=[2], dtype=float32)\n",
            "tf.Tensor(-2.9388976, shape=(), dtype=float32)\n"
          ]
        }
      ]
    },
    {
      "cell_type": "code",
      "source": [
        "batched_normal = tfd.Normal(\n",
        "    loc=[[-1., 0.5], [0., 1.], [0.3, -0.1]],\n",
        "    scale=[[1., 1.5], [0.2, 0.8], [2., 1.]])\n",
        "print(batched_normal)\n",
        "\n",
        "independent_normal = tfd.Independent(batched_normal)\n",
        "print(independent_normal)"
      ],
      "metadata": {
        "id": "wwHzPjQPJLKu",
        "outputId": "6e3aa1e0-0efa-4f5b-bf85-2c354100bdaa",
        "colab": {
          "base_uri": "https://localhost:8080/"
        }
      },
      "execution_count": null,
      "outputs": [
        {
          "output_type": "stream",
          "name": "stdout",
          "text": [
            "tfp.distributions.Normal(\"Normal\", batch_shape=[3, 2], event_shape=[], dtype=float32)\n",
            "WARNING:tensorflow:From /usr/local/lib/python3.7/dist-packages/tensorflow_probability/python/distributions/distribution.py:342: calling _Independent.__init__ (from tensorflow_probability.python.distributions.independent) with reinterpreted_batch_ndims=None is deprecated and will be removed after 2022-03-01.\n",
            "Instructions for updating:\n",
            "Please pass an integer value for `reinterpreted_batch_ndims`. The current behavior corresponds to `reinterpreted_batch_ndims=tf.size(distribution.batch_shape_tensor()) - 1`.\n",
            "tfp.distributions.Independent(\"IndependentNormal\", batch_shape=[3], event_shape=[2], dtype=float32)\n"
          ]
        }
      ]
    },
    {
      "cell_type": "code",
      "source": [
        "independent_normal = tfd.Independent(batched_normal,\n",
        "    reinterpreted_batch_ndims=1)\n",
        "print(independent_normal)"
      ],
      "metadata": {
        "id": "QaUQD2-Z-k6U",
        "outputId": "c8a2e244-3e1f-47c8-bb73-e50072d5153c",
        "colab": {
          "base_uri": "https://localhost:8080/"
        }
      },
      "execution_count": null,
      "outputs": [
        {
          "output_type": "stream",
          "name": "stdout",
          "text": [
            "tfp.distributions.Independent(\"IndependentNormal\", batch_shape=[3], event_shape=[2], dtype=float32)\n"
          ]
        }
      ]
    },
    {
      "cell_type": "code",
      "source": [
        "independent_normal = tfd.Independent(batched_normal,\n",
        "    reinterpreted_batch_ndims=2)\n",
        "print(independent_normal)"
      ],
      "metadata": {
        "colab": {
          "base_uri": "https://localhost:8080/"
        },
        "id": "4uumISd-KgG_",
        "outputId": "17c43baf-02e7-4e72-a52f-b04f9c67f332"
      },
      "execution_count": null,
      "outputs": [
        {
          "output_type": "stream",
          "name": "stdout",
          "text": [
            "tfp.distributions.Independent(\"IndependentNormal\", batch_shape=[], event_shape=[3, 2], dtype=float32)\n"
          ]
        }
      ]
    },
    {
      "cell_type": "code",
      "source": [
        "import tensorflow_probability as tfp\n",
        "tfd = tfp.distributions\n",
        "\n",
        "probs = 0.5 * tf.ones((2, 4, 5))\n",
        "print(probs.shape)\n",
        "dist = tfd.Independent(tfd.Bernoulli(probs=probs))\n",
        "print(dist)\n",
        "dist.log_prob(np.zeros((4, 5)))"
      ],
      "metadata": {
        "colab": {
          "base_uri": "https://localhost:8080/"
        },
        "id": "GUOiBj8zK24d",
        "outputId": "47196f82-4f14-433c-d221-0d7fac672754"
      },
      "execution_count": null,
      "outputs": [
        {
          "output_type": "stream",
          "name": "stdout",
          "text": [
            "(2, 4, 5)\n",
            "tfp.distributions.Independent(\"IndependentBernoulli\", batch_shape=[2], event_shape=[4, 5], dtype=int32)\n"
          ]
        },
        {
          "output_type": "execute_result",
          "data": {
            "text/plain": [
              "<tf.Tensor: shape=(2,), dtype=float32, numpy=array([-13.862944, -13.862944], dtype=float32)>"
            ]
          },
          "metadata": {},
          "execution_count": 45
        }
      ]
    },
    {
      "cell_type": "code",
      "metadata": {
        "id": "3-3-NQsgJLKu"
      },
      "source": [
        "# Start by defining a batch of two univariate Gaussians, then\n",
        "# combine them into a bivariate Gaussian with independent components\n",
        "\n",
        "locs = [-1., 1]\n",
        "scales = [0.5, 1.]\n",
        "batch_of_normals = tfd.Normal(loc=locs, scale=scales)"
      ],
      "execution_count": null,
      "outputs": []
    },
    {
      "cell_type": "code",
      "metadata": {
        "id": "N49F__eJJLKu",
        "colab": {
          "base_uri": "https://localhost:8080/",
          "height": 319
        },
        "outputId": "8c712c90-b60a-4f72-83ca-75a2f28f9e91"
      },
      "source": [
        "# Univariate density functions\n",
        "\n",
        "t = np.linspace(-4, 4, 10000)\n",
        "print(t.shape)\n",
        "# each column is a vector of densities for one distn\n",
        "densities = batch_of_normals.prob(np.repeat(t[:, np.newaxis], 2, axis=1))\n",
        "print(densities.shape)\n",
        "\n",
        "sns.lineplot(t, densities[:, 0], label='loc={}, scale={}'.format(locs[0], scales[0]))\n",
        "sns.lineplot(t, densities[:, 1], label='loc={}, scale={}'.format(locs[1], scales[1]))\n",
        "plt.ylabel('Probability density')\n",
        "plt.xlabel('Value')\n",
        "plt.legend()\n",
        "plt.show()"
      ],
      "execution_count": null,
      "outputs": [
        {
          "output_type": "stream",
          "name": "stdout",
          "text": [
            "(10000,)\n",
            "(10000, 2)\n"
          ]
        },
        {
          "output_type": "display_data",
          "data": {
            "text/plain": [
              "<Figure size 432x288 with 1 Axes>"
            ],
            "image/png": "[encoded data removed]"
          },
          "metadata": {
            "image/png": {
              "width": 392,
              "height": 267
            }
          }
        }
      ]
    },
    {
      "cell_type": "code",
      "metadata": {
        "id": "zcg_x2w-JLKu",
        "colab": {
          "base_uri": "https://localhost:8080/"
        },
        "outputId": "de2eb647-7307-454d-9f1a-dcf4589a933b"
      },
      "source": [
        "# Check their batch_shape and event_shape\n",
        "\n",
        "batch_of_normals"
      ],
      "execution_count": null,
      "outputs": [
        {
          "output_type": "execute_result",
          "data": {
            "text/plain": [
              "<tfp.distributions.Normal 'Normal' batch_shape=[2] event_shape=[] dtype=float32>"
            ]
          },
          "metadata": {},
          "execution_count": 48
        }
      ]
    },
    {
      "cell_type": "code",
      "metadata": {
        "id": "XH3S__mNJLKv"
      },
      "source": [
        "# Use Independent to convert the batch shape to the event shape\n",
        "\n",
        "bivariate_normal_from_Independent = tfd.Independent(batch_of_normals,\n",
        "    reinterpreted_batch_ndims=1)"
      ],
      "execution_count": null,
      "outputs": []
    },
    {
      "cell_type": "code",
      "metadata": {
        "id": "bPeQQqwbJLKv",
        "colab": {
          "base_uri": "https://localhost:8080/"
        },
        "outputId": "c9572e68-8f65-4255-b736-79c2547cac8b"
      },
      "source": [
        "# Note that dimension from batch_shape has shifted to event_shape\n",
        "\n",
        "bivariate_normal_from_Independent"
      ],
      "execution_count": null,
      "outputs": [
        {
          "output_type": "execute_result",
          "data": {
            "text/plain": [
              "<tfp.distributions.Independent 'IndependentNormal' batch_shape=[] event_shape=[2] dtype=float32>"
            ]
          },
          "metadata": {},
          "execution_count": 50
        }
      ]
    },
    {
      "cell_type": "code",
      "metadata": {
        "id": "N8gc6_e6JLKv",
        "colab": {
          "base_uri": "https://localhost:8080/",
          "height": 437
        },
        "outputId": "288811bf-d96e-4b31-8a3e-2ba9657d4bf8"
      },
      "source": [
        "# Create a plot showing joint density contours and marginal density functions\n",
        "\n",
        "samples = bivariate_normal_from_Independent.sample(10000)\n",
        "x1 = samples[:, 0]\n",
        "x2 = samples[:, 1]\n",
        "sns.jointplot(x=x1, y=x2, kind=\"kde\", space=0, color='b', fill=True)\n",
        "plt.show()"
      ],
      "execution_count": null,
      "outputs": [
        {
          "output_type": "display_data",
          "data": {
            "text/plain": [
              "<Figure size 432x432 with 3 Axes>"
            ],
            "image/png": "[encoded data removed]"
          },
          "metadata": {
            "image/png": {
              "width": 419,
              "height": 420
            }
          }
        }
      ]
    },
    {
      "cell_type": "code",
      "metadata": {
        "id": "0E-JyYGqJLKv",
        "colab": {
          "base_uri": "https://localhost:8080/"
        },
        "outputId": "3eb06fae-c2ff-4893-8d57-31176af87c94"
      },
      "source": [
        "# Use MultivariateNormalDiag to create the equivalent distribution\n",
        "# Note that diagonal covariance matrix => no correlation => independence (for the multivariate normal distribution)\n",
        "\n",
        "bivariate_normal_from_Multivariate = tfd.MultivariateNormalDiag(\n",
        "    loc=locs, scale_diag=scales)\n",
        "bivariate_normal_from_Multivariate"
      ],
      "execution_count": null,
      "outputs": [
        {
          "output_type": "execute_result",
          "data": {
            "text/plain": [
              "<tfp.distributions.MultivariateNormalDiag 'MultivariateNormalDiag' batch_shape=[] event_shape=[2] dtype=float32>"
            ]
          },
          "metadata": {},
          "execution_count": 52
        }
      ]
    },
    {
      "cell_type": "code",
      "metadata": {
        "id": "QYxc2F5zJLKv",
        "colab": {
          "base_uri": "https://localhost:8080/",
          "height": 437
        },
        "outputId": "b186fb2a-15e0-45ac-b988-c7278c057d7e"
      },
      "source": [
        "# Plot the joint density function of bivariate_normal_from_Multivariate\n",
        "# Refer back to bivariate_normal_from_Independent to show that the plot is the same\n",
        "# Summarise how Independent has been used\n",
        "\n",
        "samples = bivariate_normal_from_Multivariate.sample(10000)\n",
        "x1 = samples[:, 0]\n",
        "x2 = samples[:, 1]\n",
        "sns.jointplot(x=x1, y=x2, kind=\"kde\", space=0, color='b', fill=True)\n",
        "plt.show()"
      ],
      "execution_count": null,
      "outputs": [
        {
          "output_type": "display_data",
          "data": {
            "text/plain": [
              "<Figure size 432x432 with 3 Axes>"
            ],
            "image/png": "[encoded data removed]"
          },
          "metadata": {
            "image/png": {
              "width": 419,
              "height": 420
            }
          }
        }
      ]
    },
    {
      "cell_type": "markdown",
      "metadata": {
        "id": "hpYsXt25JLKv"
      },
      "source": [
        "#### Shifting batch dimensions to event dimensions using\n",
        "`reinterpreted_batch_ndims`"
      ]
    },
    {
      "cell_type": "code",
      "metadata": {
        "id": "jxK0I0IJJLKv"
      },
      "source": [
        "# Demonstrate use of reinterpreted_batch_ndims\n",
        "# By default all batch dims except the first are transferred to event dims\n",
        "\n",
        "loc_grid = [[-100., -100.],\n",
        "            [100., 100.],\n",
        "            [0., 0.]]\n",
        "scale_grid = [[1., 10.],\n",
        "              [1., 10.],\n",
        "              [1., 1.]]\n",
        "\n",
        "normals_batch_3by2_event_1 = tfd.Normal(loc=loc_grid, scale=scale_grid)"
      ],
      "execution_count": null,
      "outputs": []
    },
    {
      "cell_type": "code",
      "metadata": {
        "id": "rsPqQEsEJLKv",
        "colab": {
          "base_uri": "https://localhost:8080/"
        },
        "outputId": "b8eee33a-0aff-4bb1-9277-e4fae4717c95"
      },
      "source": [
        "# Highlight batch_shape\n",
        "\n",
        "normals_batch_3by2_event_1"
      ],
      "execution_count": null,
      "outputs": [
        {
          "output_type": "execute_result",
          "data": {
            "text/plain": [
              "<tfp.distributions.Normal 'Normal' batch_shape=[3, 2] event_shape=[] dtype=float32>"
            ]
          },
          "metadata": {},
          "execution_count": 55
        }
      ]
    },
    {
      "cell_type": "code",
      "metadata": {
        "id": "zu31K4EmJLKw",
        "colab": {
          "base_uri": "https://localhost:8080/"
        },
        "outputId": "65786007-4e4a-4ff1-8dde-e698e4ccf4a8"
      },
      "source": [
        "# We now have a batch of 3 bivariate normal distributions,\n",
        "# each parametrised by a column of our original parameter grid\n",
        "\n",
        "normals_batch_3_event_2 = tfd.Independent(normals_batch_3by2_event_1)\n",
        "normals_batch_3_event_2"
      ],
      "execution_count": null,
      "outputs": [
        {
          "output_type": "execute_result",
          "data": {
            "text/plain": [
              "<tfp.distributions.Independent 'IndependentNormal' batch_shape=[3] event_shape=[2] dtype=float32>"
            ]
          },
          "metadata": {},
          "execution_count": 56
        }
      ]
    },
    {
      "cell_type": "code",
      "metadata": {
        "id": "kWNHGimoJLKw",
        "colab": {
          "base_uri": "https://localhost:8080/"
        },
        "outputId": "2e0a9cef-9fd9-4ded-f982-57ab2c3c8ccd"
      },
      "source": [
        "# Evaluate log_prob\n",
        "\n",
        "normals_batch_3_event_2.log_prob(\n",
        "    value=[[-10., 10], [100., 100.], [1., 1.]])"
      ],
      "execution_count": null,
      "outputs": [
        {
          "output_type": "execute_result",
          "data": {
            "text/plain": [
              "<tf.Tensor: shape=(3,), dtype=float32, numpy=array([-4.1146406e+03, -4.1404624e+00, -2.8378770e+00], dtype=float32)>"
            ]
          },
          "metadata": {},
          "execution_count": 57
        }
      ]
    },
    {
      "cell_type": "code",
      "metadata": {
        "id": "o4NIrNCCJLKw",
        "colab": {
          "base_uri": "https://localhost:8080/"
        },
        "outputId": "bb900a86-52ce-4f50-f348-23460292789e"
      },
      "source": [
        "# Can reinterpret _all_ batch dimensions as event dimensions\n",
        "\n",
        "normals_batch_1_event_3by2 = tfd.Independent(\n",
        "    normals_batch_3by2_event_1, reinterpreted_batch_ndims=2)\n",
        "normals_batch_1_event_3by2"
      ],
      "execution_count": null,
      "outputs": [
        {
          "output_type": "execute_result",
          "data": {
            "text/plain": [
              "<tfp.distributions.Independent 'IndependentNormal' batch_shape=[] event_shape=[3, 2] dtype=float32>"
            ]
          },
          "metadata": {},
          "execution_count": 58
        }
      ]
    },
    {
      "cell_type": "code",
      "metadata": {
        "id": "y-GEWs29JLKw",
        "colab": {
          "base_uri": "https://localhost:8080/"
        },
        "outputId": "71073f00-9722-4ca7-e8c9-3ad835ee8757"
      },
      "source": [
        "# Take log_probs\n",
        "\n",
        "normals_batch_1_event_3by2.log_prob(\n",
        "    value=[[-10., 10], [100., 100.], [1., 1.]])"
      ],
      "execution_count": null,
      "outputs": [
        {
          "output_type": "execute_result",
          "data": {
            "text/plain": [
              "<tf.Tensor: shape=(), dtype=float32, numpy=-4121.619>"
            ]
          },
          "metadata": {},
          "execution_count": 59
        }
      ]
    },
    {
      "cell_type": "markdown",
      "metadata": {
        "id": "2f4oTJO6JLKw"
      },
      "source": [
        "#### Using `Independent` to build a Naive Bayes classifier"
      ]
    },
    {
      "cell_type": "markdown",
      "metadata": {
        "id": "seJ_RFmUJLKw"
      },
      "source": [
        "#### Introduction to `newsgroups` data set"
      ]
    },
    {
      "cell_type": "markdown",
      "metadata": {
        "id": "y8VFr04FJLKw"
      },
      "source": [
        "In this tutorial, just load the dataset, fetch train/test splits, probably choose a subset of the data.\n",
        "\n",
        "Construct the class conditional feature distribution (with Independent, using the Naive Bayes assumption) and sample from it.\n",
        "\n",
        "We can just use the ML estimates for parameters, in later tutorials we will learn them."
      ]
    },
    {
      "cell_type": "code",
      "metadata": {
        "id": "5dnZlRsHJLKw"
      },
      "source": [
        "# Convenience function for retrieving the 20 newsgroups data set\n",
        "\n",
        "# Usenet was a forerunner to modern internet forums\n",
        "# Users could post and read articles\n",
        "# Newsgroup corresponded to a topic\n",
        "# Example topics in this data set: IBM computer hardware, baseball\n",
        "# Our objective is to use an article's contents to predict its newsgroup,\n",
        "# a 20-class classification problem.\n",
        "\n",
        "# 18000 newsgroups, posts on 20 topics\n",
        "from sklearn.datasets import fetch_20newsgroups\n",
        "from sklearn.feature_extraction.text import CountVectorizer"
      ],
      "execution_count": null,
      "outputs": []
    },
    {
      "cell_type": "code",
      "metadata": {
        "id": "1wc3dMgcJLKw"
      },
      "source": [
        "# Get the train data\n",
        "\n",
        "newsgroups_data = fetch_20newsgroups(data_home='20_Newsgroup_Data/',\n",
        "    subset='train')"
      ],
      "execution_count": null,
      "outputs": []
    },
    {
      "cell_type": "code",
      "metadata": {
        "id": "fVa9dFbKJLKw",
        "colab": {
          "base_uri": "https://localhost:8080/"
        },
        "outputId": "e2cbf67f-a66c-473e-fea8-b7e016ce7648"
      },
      "source": [
        "# More information about the data set\n",
        "\n",
        "print(newsgroups_data['DESCR'])"
      ],
      "execution_count": null,
      "outputs": [
        {
          "output_type": "stream",
          "name": "stdout",
          "text": [
            ".. _20newsgroups_dataset:\n",
            "\n",
            "The 20 newsgroups text dataset\n",
            "------------------------------\n",
            "\n",
            "The 20 newsgroups dataset comprises around 18000 newsgroups posts on\n",
            "20 topics split in two subsets: one for training (or development)\n",
            "and the other one for testing (or for performance evaluation). The split\n",
            "between the train and test set is based upon a messages posted before\n",
            "and after a specific date.\n",
            "\n",
            "This module contains two loaders. The first one,\n",
            ":func:`sklearn.datasets.fetch_20newsgroups`,\n",
            "returns a list of the raw texts that can be fed to text feature\n",
            "extractors such as :class:`~sklearn.feature_extraction.text.CountVectorizer`\n",
            "with custom parameters so as to extract feature vectors.\n",
            "The second one, :func:`sklearn.datasets.fetch_20newsgroups_vectorized`,\n",
            "returns ready-to-use features, i.e., it is not necessary to use a feature\n",
            "extractor.\n",
            "\n",
            "**Data Set Characteristics:**\n",
            "\n",
            "    =================   ==========\n",
            "    Classes                     20\n",
            "    Samples total            18846\n",
            "    Dimensionality               1\n",
            "    Features                  text\n",
            "    =================   ==========\n",
            "\n",
            "Usage\n",
            "~~~~~\n",
            "\n",
            "The :func:`sklearn.datasets.fetch_20newsgroups` function is a data\n",
            "fetching / caching functions that downloads the data archive from\n",
            "the original `20 newsgroups website`_, extracts the archive contents\n",
            "in the ``~/scikit_learn_data/20news_home`` folder and calls the\n",
            ":func:`sklearn.datasets.load_files` on either the training or\n",
            "testing set folder, or both of them::\n",
            "\n",
            "  >>> from sklearn.datasets import fetch_20newsgroups\n",
            "  >>> newsgroups_train = fetch_20newsgroups(subset='train')\n",
            "\n",
            "  >>> from pprint import pprint\n",
            "  >>> pprint(list(newsgroups_train.target_names))\n",
            "  ['alt.atheism',\n",
            "   'comp.graphics',\n",
            "   'comp.os.ms-windows.misc',\n",
            "   'comp.sys.ibm.pc.hardware',\n",
            "   'comp.sys.mac.hardware',\n",
            "   'comp.windows.x',\n",
            "   'misc.forsale',\n",
            "   'rec.autos',\n",
            "   'rec.motorcycles',\n",
            "   'rec.sport.baseball',\n",
            "   'rec.sport.hockey',\n",
            "   'sci.crypt',\n",
            "   'sci.electronics',\n",
            "   'sci.med',\n",
            "   'sci.space',\n",
            "   'soc.religion.christian',\n",
            "   'talk.politics.guns',\n",
            "   'talk.politics.mideast',\n",
            "   'talk.politics.misc',\n",
            "   'talk.religion.misc']\n",
            "\n",
            "The real data lies in the ``filenames`` and ``target`` attributes. The target\n",
            "attribute is the integer index of the category::\n",
            "\n",
            "  >>> newsgroups_train.filenames.shape\n",
            "  (11314,)\n",
            "  >>> newsgroups_train.target.shape\n",
            "  (11314,)\n",
            "  >>> newsgroups_train.target[:10]\n",
            "  array([ 7,  4,  4,  1, 14, 16, 13,  3,  2,  4])\n",
            "\n",
            "It is possible to load only a sub-selection of the categories by passing the\n",
            "list of the categories to load to the\n",
            ":func:`sklearn.datasets.fetch_20newsgroups` function::\n",
            "\n",
            "  >>> cats = ['alt.atheism', 'sci.space']\n",
            "  >>> newsgroups_train = fetch_20newsgroups(subset='train', categories=cats)\n",
            "\n",
            "  >>> list(newsgroups_train.target_names)\n",
            "  ['alt.atheism', 'sci.space']\n",
            "  >>> newsgroups_train.filenames.shape\n",
            "  (1073,)\n",
            "  >>> newsgroups_train.target.shape\n",
            "  (1073,)\n",
            "  >>> newsgroups_train.target[:10]\n",
            "  array([0, 1, 1, 1, 0, 1, 1, 0, 0, 0])\n",
            "\n",
            "Converting text to vectors\n",
            "~~~~~~~~~~~~~~~~~~~~~~~~~~\n",
            "\n",
            "In order to feed predictive or clustering models with the text data,\n",
            "one first need to turn the text into vectors of numerical values suitable\n",
            "for statistical analysis. This can be achieved with the utilities of the\n",
            "``sklearn.feature_extraction.text`` as demonstrated in the following\n",
            "example that extract `TF-IDF`_ vectors of unigram tokens\n",
            "from a subset of 20news::\n",
            "\n",
            "  >>> from sklearn.feature_extraction.text import TfidfVectorizer\n",
            "  >>> categories = ['alt.atheism', 'talk.religion.misc',\n",
            "  ...               'comp.graphics', 'sci.space']\n",
            "  >>> newsgroups_train = fetch_20newsgroups(subset='train',\n",
            "  ...                                       categories=categories)\n",
            "  >>> vectorizer = TfidfVectorizer()\n",
            "  >>> vectors = vectorizer.fit_transform(newsgroups_train.data)\n",
            "  >>> vectors.shape\n",
            "  (2034, 34118)\n",
            "\n",
            "The extracted TF-IDF vectors are very sparse, with an average of 159 non-zero\n",
            "components by sample in a more than 30000-dimensional space\n",
            "(less than .5% non-zero features)::\n",
            "\n",
            "  >>> vectors.nnz / float(vectors.shape[0])\n",
            "  159.01327...\n",
            "\n",
            ":func:`sklearn.datasets.fetch_20newsgroups_vectorized` is a function which\n",
            "returns ready-to-use token counts features instead of file names.\n",
            "\n",
            ".. _`20 newsgroups website`: http://people.csail.mit.edu/jrennie/20Newsgroups/\n",
            ".. _`TF-IDF`: https://en.wikipedia.org/wiki/Tf-idf\n",
            "\n",
            "\n",
            "Filtering text for more realistic training\n",
            "~~~~~~~~~~~~~~~~~~~~~~~~~~~~~~~~~~~~~~~~~~\n",
            "\n",
            "It is easy for a classifier to overfit on particular things that appear in the\n",
            "20 Newsgroups data, such as newsgroup headers. Many classifiers achieve very\n",
            "high F-scores, but their results would not generalize to other documents that\n",
            "aren't from this window of time.\n",
            "\n",
            "For example, let's look at the results of a multinomial Naive Bayes classifier,\n",
            "which is fast to train and achieves a decent F-score::\n",
            "\n",
            "  >>> from sklearn.naive_bayes import MultinomialNB\n",
            "  >>> from sklearn import metrics\n",
            "  >>> newsgroups_test = fetch_20newsgroups(subset='test',\n",
            "  ...                                      categories=categories)\n",
            "  >>> vectors_test = vectorizer.transform(newsgroups_test.data)\n",
            "  >>> clf = MultinomialNB(alpha=.01)\n",
            "  >>> clf.fit(vectors, newsgroups_train.target)\n",
            "  MultinomialNB(alpha=0.01, class_prior=None, fit_prior=True)\n",
            "\n",
            "  >>> pred = clf.predict(vectors_test)\n",
            "  >>> metrics.f1_score(newsgroups_test.target, pred, average='macro')\n",
            "  0.88213...\n",
            "\n",
            "(The example :ref:`sphx_glr_auto_examples_text_plot_document_classification_20newsgroups.py` shuffles\n",
            "the training and test data, instead of segmenting by time, and in that case\n",
            "multinomial Naive Bayes gets a much higher F-score of 0.88. Are you suspicious\n",
            "yet of what's going on inside this classifier?)\n",
            "\n",
            "Let's take a look at what the most informative features are:\n",
            "\n",
            "  >>> import numpy as np\n",
            "  >>> def show_top10(classifier, vectorizer, categories):\n",
            "  ...     feature_names = vectorizer.get_feature_names_out()\n",
            "  ...     for i, category in enumerate(categories):\n",
            "  ...         top10 = np.argsort(classifier.coef_[i])[-10:]\n",
            "  ...         print(\"%s: %s\" % (category, \" \".join(feature_names[top10])))\n",
            "  ...\n",
            "  >>> show_top10(clf, vectorizer, newsgroups_train.target_names)\n",
            "  alt.atheism: edu it and in you that is of to the\n",
            "  comp.graphics: edu in graphics it is for and of to the\n",
            "  sci.space: edu it that is in and space to of the\n",
            "  talk.religion.misc: not it you in is that and to of the\n",
            "\n",
            "\n",
            "You can now see many things that these features have overfit to:\n",
            "\n",
            "- Almost every group is distinguished by whether headers such as\n",
            "  ``NNTP-Posting-Host:`` and ``Distribution:`` appear more or less often.\n",
            "- Another significant feature involves whether the sender is affiliated with\n",
            "  a university, as indicated either by their headers or their signature.\n",
            "- The word \"article\" is a significant feature, based on how often people quote\n",
            "  previous posts like this: \"In article [article ID], [name] <[e-mail address]>\n",
            "  wrote:\"\n",
            "- Other features match the names and e-mail addresses of particular people who\n",
            "  were posting at the time.\n",
            "\n",
            "With such an abundance of clues that distinguish newsgroups, the classifiers\n",
            "barely have to identify topics from text at all, and they all perform at the\n",
            "same high level.\n",
            "\n",
            "For this reason, the functions that load 20 Newsgroups data provide a\n",
            "parameter called **remove**, telling it what kinds of information to strip out\n",
            "of each file. **remove** should be a tuple containing any subset of\n",
            "``('headers', 'footers', 'quotes')``, telling it to remove headers, signature\n",
            "blocks, and quotation blocks respectively.\n",
            "\n",
            "  >>> newsgroups_test = fetch_20newsgroups(subset='test',\n",
            "  ...                                      remove=('headers', 'footers', 'quotes'),\n",
            "  ...                                      categories=categories)\n",
            "  >>> vectors_test = vectorizer.transform(newsgroups_test.data)\n",
            "  >>> pred = clf.predict(vectors_test)\n",
            "  >>> metrics.f1_score(pred, newsgroups_test.target, average='macro')\n",
            "  0.77310...\n",
            "\n",
            "This classifier lost over a lot of its F-score, just because we removed\n",
            "metadata that has little to do with topic classification.\n",
            "It loses even more if we also strip this metadata from the training data:\n",
            "\n",
            "  >>> newsgroups_train = fetch_20newsgroups(subset='train',\n",
            "  ...                                       remove=('headers', 'footers', 'quotes'),\n",
            "  ...                                       categories=categories)\n",
            "  >>> vectors = vectorizer.fit_transform(newsgroups_train.data)\n",
            "  >>> clf = MultinomialNB(alpha=.01)\n",
            "  >>> clf.fit(vectors, newsgroups_train.target)\n",
            "  MultinomialNB(alpha=0.01, class_prior=None, fit_prior=True)\n",
            "\n",
            "  >>> vectors_test = vectorizer.transform(newsgroups_test.data)\n",
            "  >>> pred = clf.predict(vectors_test)\n",
            "  >>> metrics.f1_score(newsgroups_test.target, pred, average='macro')\n",
            "  0.76995...\n",
            "\n",
            "Some other classifiers cope better with this harder version of the task. Try\n",
            "running :ref:`sphx_glr_auto_examples_model_selection_grid_search_text_feature_extraction.py` with and without\n",
            "the ``--filter`` option to compare the results.\n",
            "\n",
            ".. topic:: Data Considerations\n",
            "\n",
            "  The Cleveland Indians is a major league baseball team based in Cleveland,\n",
            "  Ohio, USA. In December 2020, it was reported that \"After several months of\n",
            "  discussion sparked by the death of George Floyd and a national reckoning over\n",
            "  race and colonialism, the Cleveland Indians have decided to change their\n",
            "  name.\" Team owner Paul Dolan \"did make it clear that the team will not make\n",
            "  its informal nickname -- the Tribe -- its new team name.\" \"It’s not going to\n",
            "  be a half-step away from the Indians,\" Dolan said.\"We will not have a Native\n",
            "  American-themed name.\"\n",
            "\n",
            "  https://www.mlb.com/news/cleveland-indians-team-name-change\n",
            "\n",
            ".. topic:: Recommendation\n",
            "\n",
            "  - When evaluating text classifiers on the 20 Newsgroups data, you\n",
            "    should strip newsgroup-related metadata. In scikit-learn, you can do this\n",
            "    by setting ``remove=('headers', 'footers', 'quotes')``. The F-score will be\n",
            "    lower because it is more realistic.\n",
            "  - This text dataset contains data which may be inappropriate for certain NLP\n",
            "    applications. An example is listed in the \"Data Considerations\" section\n",
            "    above. The challenge with using current text datasets in NLP for tasks such\n",
            "    as sentence completion, clustering, and other applications is that text\n",
            "    that is culturally biased and inflammatory will propagate biases. This\n",
            "    should be taken into consideration when using the dataset, reviewing the\n",
            "    output, and the bias should be documented.\n",
            "\n",
            ".. topic:: Examples\n",
            "\n",
            "   * :ref:`sphx_glr_auto_examples_model_selection_grid_search_text_feature_extraction.py`\n",
            "\n",
            "   * :ref:`sphx_glr_auto_examples_text_plot_document_classification_20newsgroups.py`\n",
            "\n"
          ]
        }
      ]
    },
    {
      "cell_type": "code",
      "metadata": {
        "id": "m2ht8jdRJLKx",
        "colab": {
          "base_uri": "https://localhost:8080/"
        },
        "outputId": "ad28ed8a-c4e1-4a65-f21a-c2238a054713"
      },
      "source": [
        "# Example article\n",
        "\n",
        "print(newsgroups_data['data'][0])"
      ],
      "execution_count": null,
      "outputs": [
        {
          "output_type": "stream",
          "name": "stdout",
          "text": [
            "From: lerxst@wam.umd.edu (where's my thing)\n",
            "Subject: WHAT car is this!?\n",
            "Nntp-Posting-Host: rac3.wam.umd.edu\n",
            "Organization: University of Maryland, College Park\n",
            "Lines: 15\n",
            "\n",
            " I was wondering if anyone out there could enlighten me on this car I saw\n",
            "the other day. It was a 2-door sports car, looked to be from the late 60s/\n",
            "early 70s. It was called a Bricklin. The doors were really small. In addition,\n",
            "the front bumper was separate from the rest of the body. This is \n",
            "all I know. If anyone can tellme a model name, engine specs, years\n",
            "of production, where this car is made, history, or whatever info you\n",
            "have on this funky looking car, please e-mail.\n",
            "\n",
            "Thanks,\n",
            "- IL\n",
            "   ---- brought to you by your neighborhood Lerxst ----\n",
            "\n",
            "\n",
            "\n",
            "\n",
            "\n"
          ]
        }
      ]
    },
    {
      "cell_type": "code",
      "metadata": {
        "id": "5bLeiU40JLKx",
        "colab": {
          "base_uri": "https://localhost:8080/"
        },
        "outputId": "0c0fce85-89a7-4c7c-fa97-75e8f830ef55"
      },
      "source": [
        "# Associated label\n",
        "\n",
        "newsgroups_data['target'][0]"
      ],
      "execution_count": null,
      "outputs": [
        {
          "output_type": "execute_result",
          "data": {
            "text/plain": [
              "7"
            ]
          },
          "metadata": {},
          "execution_count": 64
        }
      ]
    },
    {
      "cell_type": "code",
      "metadata": {
        "id": "GqJOdud6JLKx",
        "colab": {
          "base_uri": "https://localhost:8080/",
          "height": 35
        },
        "outputId": "b5409b11-9fe6-4de4-e46e-4ff926e5b5c0"
      },
      "source": [
        "# Name of label\n",
        "\n",
        "newsgroups_data['target_names'][7]"
      ],
      "execution_count": null,
      "outputs": [
        {
          "output_type": "execute_result",
          "data": {
            "text/plain": [
              "'rec.autos'"
            ],
            "application/vnd.google.colaboratory.intrinsic+json": {
              "type": "string"
            }
          },
          "metadata": {},
          "execution_count": 65
        }
      ]
    },
    {
      "cell_type": "code",
      "metadata": {
        "id": "dA0O87AQJLKx",
        "outputId": "2094f368-8378-4eb2-c7c6-b956648a0293",
        "colab": {
          "base_uri": "https://localhost:8080/"
        }
      },
      "source": [
        "# Preprocessing boilerplate\n",
        "\n",
        "n_documents = len(newsgroups_data['data'])\n",
        "print(n_documents)\n",
        "\n",
        "count_vectorizer = CountVectorizer(input='content', binary=True,\n",
        "    max_df=0.25, min_df=1.01/n_documents) # ignore common words, words that appear once\n",
        "binary_bag_of_words = count_vectorizer.fit_transform(\n",
        "    newsgroups_data['data']) # input is a list of strings"
      ],
      "execution_count": null,
      "outputs": [
        {
          "output_type": "stream",
          "name": "stdout",
          "text": [
            "11314\n"
          ]
        }
      ]
    },
    {
      "cell_type": "code",
      "metadata": {
        "id": "f8wprfRHJLKx",
        "colab": {
          "base_uri": "https://localhost:8080/"
        },
        "outputId": "6234ca29-2e6c-490c-be61-8d3c5afa5648"
      },
      "source": [
        "# Check shape\n",
        "\n",
        "binary_bag_of_words.shape"
      ],
      "execution_count": null,
      "outputs": [
        {
          "output_type": "execute_result",
          "data": {
            "text/plain": [
              "(11314, 56365)"
            ]
          },
          "metadata": {},
          "execution_count": 67
        }
      ]
    },
    {
      "cell_type": "code",
      "metadata": {
        "id": "k5lW2N1oJLKx",
        "colab": {
          "base_uri": "https://localhost:8080/"
        },
        "outputId": "12d3bac5-1414-4e71-b093-c5be95547a81"
      },
      "source": [
        "# Check that the fit has been successful\n",
        "\n",
        "count_vectorizer.inverse_transform(binary_bag_of_words[0, :])"
      ],
      "execution_count": null,
      "outputs": [
        {
          "output_type": "execute_result",
          "data": {
            "text/plain": [
              "[array(['lerxst', 'wam', 'umd', 'where', 'thing', 'car', 'rac3',\n",
              "        'maryland', 'college', 'park', '15', 'wondering', 'anyone',\n",
              "        'could', 'enlighten', 'saw', 'day', 'door', 'sports', 'looked',\n",
              "        'late', '60s', 'early', '70s', 'called', 'bricklin', 'doors',\n",
              "        'were', 'really', 'small', 'addition', 'front', 'bumper',\n",
              "        'separate', 'rest', 'body', 'tellme', 'model', 'name', 'engine',\n",
              "        'specs', 'years', 'production', 'made', 'history', 'whatever',\n",
              "        'info', 'funky', 'looking', 'please', 'mail', 'thanks', 'il',\n",
              "        'brought', 'neighborhood'], dtype='<U80')]"
            ]
          },
          "metadata": {},
          "execution_count": 68
        }
      ]
    },
    {
      "cell_type": "code",
      "metadata": {
        "id": "8jEPKUlgJLKx"
      },
      "source": [
        "# Dict that will be useful later\n",
        "\n",
        "inv_vocabulary = {value:key for key, value in count_vectorizer.vocabulary_.items()}"
      ],
      "execution_count": null,
      "outputs": []
    },
    {
      "cell_type": "markdown",
      "metadata": {
        "id": "IYN-2mTSJLKx"
      },
      "source": [
        "#### A Naive Bayes classifier for `newsgroup`"
      ]
    },
    {
      "cell_type": "markdown",
      "metadata": {
        "id": "atwOvIyLJLKx"
      },
      "source": [
        "Each feature vector $x$ is a list of indicators for whether a word appears in the article. $x_i$ is 1 if the $i$th word appears, and 0 otherwise. `inv_vocabulary` matches word indices $i$ to words.\n",
        "\n",
        "Each label $y$ is a value in $0, 1, \\ldots, 19$.\n",
        "\n",
        "The parts of a naive Bayes classifier for this problem can be summarised as:  \n",
        "\n",
        "\n",
        "- A probability distribution for the feature vector by class, $p(x|y = j)$ for each $j = 0, 1, \\ldots, 19$. These probability distributions are assumed to have independent components: we can factorize the joint probability as a product of marginal probabilities\n",
        "\\begin{equation}\n",
        "    p(x|y = j) = \\prod_{i=1}^d p(x_i|y = j)\n",
        "\\end{equation}\n",
        "These marginal probability distributions are Bernoulli distributions, each of which has a single parameter $\\theta_{ji} := p(x_i = 1|y = j)$. This parameter is the probability of observing word $i$ in an article of class $j$.\n",
        "\n",
        "- We will use the Laplace smoothed maximum likelihood estimate to compute these parameters. Laplace smoothing involves adding small counts to every feature for each class. Else, if a feature did not appear in the training set of a class, but then we observed it in our test data the log probability would be undefined.\n",
        "\n",
        "- A collection of class prior probabilities $p(y = j)$. These will be set by computing the class base rates in the training set.  \n",
        "\n",
        "\n",
        "- A function for computing the probability of class membership via Bayes' theorem:  \n",
        "\n",
        "\\begin{equation}\n",
        "    p(y = j|x) = \\frac{p(x|y = j)p(y = j)}{p(x)}\n",
        "\\end{equation}"
      ]
    },
    {
      "cell_type": "code",
      "metadata": {
        "id": "h_0oDNvIJLKx",
        "outputId": "02999a1f-10a1-4ac8-b9f9-35b4e59434bd",
        "colab": {
          "base_uri": "https://localhost:8080/"
        }
      },
      "source": [
        "# Compute the parameter estimates (adjusted fraction of documents in class that contain word)\n",
        "\n",
        "n_classes = newsgroups_data['target'].max() + 1\n",
        "print(n_classes)\n",
        "y = newsgroups_data['target']\n",
        "n_words = binary_bag_of_words.shape[1]\n",
        "print(n_words)\n",
        "\n",
        "alpha = 1e-6 # parameters for Laplace smoothing\n",
        "\n",
        "theta = np.zeros([n_classes, n_words]) # stores parameter values - prob. word given class\n",
        "for c_k in range(n_classes): # 0, 1, ..., 19\n",
        "    class_mask = (y == c_k)\n",
        "    N = class_mask.sum() # number of articles in class\n",
        "    theta[c_k, :] = (binary_bag_of_words[class_mask, :].sum(axis=0) + alpha)/(N + alpha*2)"
      ],
      "execution_count": null,
      "outputs": [
        {
          "output_type": "stream",
          "name": "stdout",
          "text": [
            "20\n",
            "56365\n"
          ]
        }
      ]
    },
    {
      "cell_type": "code",
      "metadata": {
        "id": "E_27dheOJLKx",
        "colab": {
          "base_uri": "https://localhost:8080/"
        },
        "outputId": "cda9b80d-9747-4d89-fc0e-c8e14c669f73"
      },
      "source": [
        "# Check whether the most probable word in each class is reasonable\n",
        "\n",
        "most_probable_word_ix = theta.argmax(axis=1) # most probable word for each class\n",
        "\n",
        "for j, ix in enumerate(most_probable_word_ix):\n",
        "    print('Most probable word in class {} is \"{}\".'.format(\n",
        "        newsgroups_data['target_names'][j], inv_vocabulary[ix]))"
      ],
      "execution_count": null,
      "outputs": [
        {
          "output_type": "stream",
          "name": "stdout",
          "text": [
            "Most probable word in class alt.atheism is \"people\".\n",
            "Most probable word in class comp.graphics is \"graphics\".\n",
            "Most probable word in class comp.os.ms-windows.misc is \"windows\".\n",
            "Most probable word in class comp.sys.ibm.pc.hardware is \"thanks\".\n",
            "Most probable word in class comp.sys.mac.hardware is \"mac\".\n",
            "Most probable word in class comp.windows.x is \"window\".\n",
            "Most probable word in class misc.forsale is \"sale\".\n",
            "Most probable word in class rec.autos is \"car\".\n",
            "Most probable word in class rec.motorcycles is \"dod\".\n",
            "Most probable word in class rec.sport.baseball is \"he\".\n",
            "Most probable word in class rec.sport.hockey is \"ca\".\n",
            "Most probable word in class sci.crypt is \"clipper\".\n",
            "Most probable word in class sci.electronics is \"use\".\n",
            "Most probable word in class sci.med is \"reply\".\n",
            "Most probable word in class sci.space is \"space\".\n",
            "Most probable word in class soc.religion.christian is \"god\".\n",
            "Most probable word in class talk.politics.guns is \"people\".\n",
            "Most probable word in class talk.politics.mideast is \"people\".\n",
            "Most probable word in class talk.politics.misc is \"people\".\n",
            "Most probable word in class talk.religion.misc is \"he\".\n"
          ]
        }
      ]
    },
    {
      "cell_type": "code",
      "metadata": {
        "id": "VP2SyLmnJLKx",
        "colab": {
          "base_uri": "https://localhost:8080/"
        },
        "outputId": "7058c743-222a-422f-a6f4-e130a08e9962"
      },
      "source": [
        "# Define a distribution for each class\n",
        "\n",
        "batch_of_bernoullis = tfd.Bernoulli(probs=theta)\n",
        "p_x_given_y = tfd.Independent(batch_of_bernoullis,\n",
        "    reinterpreted_batch_ndims=1)\n",
        "p_x_given_y"
      ],
      "execution_count": null,
      "outputs": [
        {
          "output_type": "execute_result",
          "data": {
            "text/plain": [
              "<tfp.distributions.Independent 'IndependentBernoulli' batch_shape=[20] event_shape=[56365] dtype=int32>"
            ]
          },
          "metadata": {},
          "execution_count": 72
        }
      ]
    },
    {
      "cell_type": "code",
      "metadata": {
        "id": "M3kgbflSJLKx",
        "colab": {
          "base_uri": "https://localhost:8080/"
        },
        "outputId": "4fb7bb8e-61e5-471a-b1fb-34d301fadc13"
      },
      "source": [
        "# Take a sample of words from each class\n",
        "\n",
        "n_samples = 10\n",
        "sample = p_x_given_y.sample(n_samples)\n",
        "sample.shape"
      ],
      "execution_count": null,
      "outputs": [
        {
          "output_type": "execute_result",
          "data": {
            "text/plain": [
              "TensorShape([10, 20, 56365])"
            ]
          },
          "metadata": {},
          "execution_count": 73
        }
      ]
    },
    {
      "cell_type": "code",
      "metadata": {
        "id": "_HPY3tJKJLKx",
        "colab": {
          "base_uri": "https://localhost:8080/",
          "height": 35
        },
        "outputId": "2161f44e-9fcc-4509-b398-3debdec63047"
      },
      "source": [
        "# Choose a class\n",
        "\n",
        "chosen_class = 15\n",
        "newsgroups_data['target_names'][chosen_class]"
      ],
      "execution_count": null,
      "outputs": [
        {
          "output_type": "execute_result",
          "data": {
            "text/plain": [
              "'soc.religion.christian'"
            ],
            "application/vnd.google.colaboratory.intrinsic+json": {
              "type": "string"
            }
          },
          "metadata": {},
          "execution_count": 74
        }
      ]
    },
    {
      "cell_type": "code",
      "metadata": {
        "id": "lRl9u_8-JLKx",
        "colab": {
          "base_uri": "https://localhost:8080/"
        },
        "outputId": "9e8cd7a5-96d3-46dd-ef5a-ad82f2a4f56b"
      },
      "source": [
        "# Indicators for words that appear in the sample\n",
        "\n",
        "class_sample = sample[:, chosen_class, :]\n",
        "class_sample"
      ],
      "execution_count": null,
      "outputs": [
        {
          "output_type": "execute_result",
          "data": {
            "text/plain": [
              "<tf.Tensor: shape=(10, 56365), dtype=int32, numpy=\n",
              "array([[0, 0, 0, ..., 0, 0, 0],\n",
              "       [0, 0, 0, ..., 0, 0, 0],\n",
              "       [0, 0, 0, ..., 0, 0, 0],\n",
              "       ...,\n",
              "       [0, 0, 0, ..., 0, 0, 0],\n",
              "       [0, 0, 0, ..., 0, 0, 0],\n",
              "       [0, 0, 0, ..., 0, 0, 0]], dtype=int32)>"
            ]
          },
          "metadata": {},
          "execution_count": 75
        }
      ]
    },
    {
      "cell_type": "code",
      "metadata": {
        "id": "4NtdUvCNJLKx",
        "colab": {
          "base_uri": "https://localhost:8080/"
        },
        "outputId": "fb3d2ef2-21e6-48bb-a888-37731080b893"
      },
      "source": [
        "# Perform inverse transform to test quality of fit\n",
        "\n",
        "count_vectorizer.inverse_transform(class_sample)"
      ],
      "execution_count": null,
      "outputs": [
        {
          "output_type": "execute_result",
          "data": {
            "text/plain": [
              "[array(['19', '20', '26', '28', '38', '_particular_', 'access', 'acts',\n",
              "        'after', 'against', 'already', 'also', 'andy', 'another',\n",
              "        'appropriate', 'arguments', 'around', 'atheists', 'atterlep',\n",
              "        'bad', 'been', 'bit', 'book', 'born', 'capital', 'catholic',\n",
              "        'catholics', 'celibate', 'challenge', 'christ', 'christian',\n",
              "        'christians', 'cls', 'collection', 'come', 'comedy', 'comes',\n",
              "        'communities', 'compared', 'confess', 'covington', 'creed',\n",
              "        'cross', 'demand', 'descendants', 'did', 'ditucci', 'does',\n",
              "        'ecstasy', 'editor', 'eighteenth', 'est', 'every', 'exactly',\n",
              "        'excitement', 'faith', 'far', 'father', 'feel', 'forever', 'frame',\n",
              "        'generic', 'go', 'god', 'good', 'greatness', 'hand', 'he', 'heard',\n",
              "        'hot', 'humor', 'importance', 'impression', 'intent', 'interest',\n",
              "        'into', 'jealousy', 'jek', 'jesus', 'justify', 'kee', 'keep',\n",
              "        'lately', 'lay', 'learn', 'left', 'life', 'linked', 'literally',\n",
              "        'loss', 'lost', 'mark', 'matters', 'may', 'maybe', 'medallion',\n",
              "        'mi', 'milk', 'months', 'need', 'oakland', 'obedience', 'oneself',\n",
              "        'opinion', 'order', 'org', 'others', 'parent', 'parishes',\n",
              "        'participants', 'point', 'pope', 'prayer', 'presents', 'process',\n",
              "        'procession', 'raised', 'readers', 'realize', 'reduced', 'respect',\n",
              "        'right', 'roman', 'rose', 'say', 'scenario', 'screamed', 'see',\n",
              "        'shine', 'should', 'somebody', 'speaks', 'special_build', 'sps',\n",
              "        'stand', 'submission', 'successor', 'suffered', 'summaries',\n",
              "        'supreme', 'suspend', 'tell', 'their', 'theistic', 'them', 'think',\n",
              "        'tiered', 'today', 'translators', 'true', 'understandable', 'univ',\n",
              "        'us', 'way', 'while', 'without', 'wrong', 'yet', 'yourselves'],\n",
              "       dtype='<U80'),\n",
              " array(['03', '11', '17', '408', '99', 'aaron', 'able', 'accepting',\n",
              "        'accomplish', 'after', 'also', 'another', 'apostles', 'applies',\n",
              "        'apr', 'arian', 'athos', 'attempting', 'avid', 'away', 'bbs',\n",
              "        'beaverton', 'because', 'behaviour', 'being', 'beliefs', 'believe',\n",
              "        'blindly', 'called', 'came', 'cannot', 'casual', 'churches', 'clh',\n",
              "        'comes', 'coming', 'compuserve', 'concept', 'conclusion',\n",
              "        'condescending', 'contradiction', 'dave', 'death', 'defeated',\n",
              "        'disagrees', 'dismiss', 'disputed', 'distorted', 'doesn', 'doubly',\n",
              "        'drums', 'ecclesiastes', 'effort', 'essays', 'evidence', 'exactly',\n",
              "        'fakes', 'fellowship', 'findings', 'fit', 'gatech', 'god', 'great',\n",
              "        'happiness', 'hearing', 'held', 'however', 'hurry', 'independent',\n",
              "        'infer', 'info', 'innocent', 'innovative', 'its', 'john', 'jr',\n",
              "        'keep', 'larry', 'laws', 'letters', 'line', 'logic', 'mean',\n",
              "        'midway', 'mit', 'moore', 'much', 'off', 'offended', 'open',\n",
              "        'opposite', 'ot', 'our', 'overcome', 'pantheism', 'people',\n",
              "        'person', 'physical', 'please', 'positively', 'power', 'pre',\n",
              "        'produce', 'purposes', 'put', 'question', 'questions', 'really',\n",
              "        'reasonable', 'regarded', 'resurrection', 'roman', 'rutgers',\n",
              "        'said', 'schedule', 'scholars', 'seal', 'seen', 'several',\n",
              "        'simply', 'sin', 'stated', 'their', 'then', 'time', 'too', 'true',\n",
              "        'try', 'trying', 'turkish', 'umn', 'unclean', 'usually',\n",
              "        'vengeance', 'wailing', 'wants', 'were', 'wish'], dtype='<U80'),\n",
              " array(['05', '14', '1993', '25', '27', 'across', 'advanced', 'after',\n",
              "        'against', 'also', 'always', 'am', 'analogy', 'angels',\n",
              "        'applications', 'apr', 'arguments', 'arise', 'art', 'astray',\n",
              "        'authority', 'battle', 'become', 'been', 'between', 'biblical',\n",
              "        'burnaby', 'case', 'cause', 'chanted', 'christ', 'claiming',\n",
              "        'clear', 'comes', 'comm', 'commands', 'could', 'course', 'cwru',\n",
              "        'deaths', 'developing', 'discuss', 'done', 'encouraged',\n",
              "        'european', 'exactly', 'false', 'far', 'fully', 'geneva',\n",
              "        'gentile', 'goats', 'gods', 'good', 'got', 'gradual', 'great',\n",
              "        'happen', 'happened', 'haya', 'he', 'heavenly', 'hell', 'him',\n",
              "        'himself', 'intricate', 'its', 'jprzybyl', 'judged', 'knowledge',\n",
              "        'last', 'laws', 'leaves', 'lexington', 'literature', 'love',\n",
              "        'made', 'makes', 'may', 'mean', 'mere', 'messiah', 'messiahs',\n",
              "        'monash', 'mundane', 'must', 'need', 'nor', 'nt', 'opinion', 'our',\n",
              "        'own', 'paranoid', 'part', 'pass', 'patriarchs', 'percieved',\n",
              "        'persist', 'places', 'plague', 'please', 'pointless', 'publish',\n",
              "        'qucdn', 'query', 'questionaire', 'quite', 'real', 'reasons',\n",
              "        'recall', 'referred', 'regarding', 'religion', 'religious',\n",
              "        'reply', 'republican', 'run', 'science', 'scientist', 'seem',\n",
              "        'seems', 'semester', 'sense', 'short', 'significant', 'sin',\n",
              "        'situation', 'someone', 'somewhat', 'spiritual', 'square',\n",
              "        'standard', 'state', 'such', 'taught', 'tells', 'their', 'them',\n",
              "        'under', 'useful', 've', 'women', 'works', 'worn', 'written',\n",
              "        'years', 'yes'], dtype='<U80'),\n",
              " array(['00', '04', '10', '13', '21', '91', 'accepting', 'acns',\n",
              "        'activities', 'agony', 'also', 'am', 'ambitions', 'anyhting',\n",
              "        'astrophysics', 'athena', 'audience', 'autumn', 'back', 'base',\n",
              "        'becomes', 'before', 'behind', 'biblical', 'born', 'broadway',\n",
              "        'called', 'cc', 'certainly', 'choices', 'christian',\n",
              "        'christianity', 'christians', 'claims', 'clh', 'cling',\n",
              "        'cooperation', 'creative', 'david', 'deforestation', 'desiree',\n",
              "        'dg', 'did', 'different', 'discuss', 'divine', 'doctrine', 'does',\n",
              "        'dog', 'dramatic', 'earlier', 'earning', 'esteeming', 'expect',\n",
              "        'fedex', 'forgiveness', 'give', 'god', 'grew', 'growing',\n",
              "        'gsu0033', 'guild', 'gvg47', 'had', 'hand', 'he', 'hebrews',\n",
              "        'heterosexual', 'himself', 'holy', 'horrors', 'hours', 'include',\n",
              "        'introspection', 'je', 'jesus', 'jodfishe', 'john', 'jordan',\n",
              "        'judge', 'keeps', 'key', 'known', 'learn', 'led', 'life', 'lis',\n",
              "        'll', 'lot', 'maintaining', 'masters', 'maybe', 'michael',\n",
              "        'microsystems', 'musician', 'never', 'news', 'orthodox', 'ouch',\n",
              "        'parent', 'parents', 'part', 'people', 'perceptions', 'perfect',\n",
              "        'phobias', 'phony', 'polluted', 'pray', 'proud', 'rather',\n",
              "        'rational', 'reasons', 'receive', 'risen', 'romans', 'said', 'say',\n",
              "        'scholars', 'scientist', 'second', 'she', 'shouldn', 'since',\n",
              "        'small', 'snsc', 'sold', 'soul', 'spread', 'suit', 'sure', 'tears',\n",
              "        'therapist', 'think', 'thus', 'time', 'times', 'totally', 'trl',\n",
              "        'turns', 'under', 'unless', 'way', 'week', 'where', 'whose',\n",
              "        'world', 'worn', 'wrongdoings'], dtype='<U80'),\n",
              " array(['01', '15', '16', '1820', '1993', '20', '24', 'abusing', 'africa',\n",
              "        'angry', 'answered', 'answers', 'anytime', 'apostles', 'argued',\n",
              "        'assumption', 'athens', 'behavior', 'being', 'beliefs', 'believe',\n",
              "        'blindly', 'buddism', 'call', 'celebrated', 'christs', 'clear',\n",
              "        'clearly', 'close', 'computing', 'contrary', 'crave', 'dated',\n",
              "        'deleted', 'discovering', 'discuss', 'distribute', 'does', 'early',\n",
              "        'eloquent', 'ethical', 'every', 'excuse', 'faiths', 'filled',\n",
              "        'fnal', 'functioning', 'georgia', 'give', 'god', 'got', 'group',\n",
              "        'guild', 'hath', 'heath', 'hell', 'his', 'history', 'honours',\n",
              "        'however', 'ideas', 'ii', 'impressive', 'infinite', 'institutions',\n",
              "        'intermediate', 'into', 'issues', 'july', 'keep', 'link', 'little',\n",
              "        'll', 'makes', 'male', 'married', 'math', 'matter', 'may', 'means',\n",
              "        'menlo', 'moslims', 'most', 'movie', 'new', 'non', 'opinion',\n",
              "        'people', 'physical', 'point', 'possible', 'post', 'presents',\n",
              "        'pressure', 'promulgated', 'prospect', 'put', 'question',\n",
              "        'raiding', 'real', 'really', 'recently', 'relate', 'reply',\n",
              "        'saints', 'say', 'see', 'seeing', 'sent', 'since', 'situation',\n",
              "        'speaking', 'spot', 'st', 'stephens', 'stopped', 'straight',\n",
              "        'surprised', 'taught', 'texts', 'thanks', 'think', 'those',\n",
              "        'today', 'tove', 'understanding', 've', 'very', 'violates',\n",
              "        'wants', 'warn', 'warning', 'warnings', 'whenever', 'whole',\n",
              "        'wife', 'william', 'woman', 'working'], dtype='<U80'),\n",
              " array(['08', '1993', '20', '21', '23', '80', 'acad1', 'action', 'alive',\n",
              "        'amateur', 'among', 'angels', 'approval', 'atheists', 'athens',\n",
              "        'attitude', 'authorship', 'back', 'beautiful', 'beaverton',\n",
              "        'begin', 'belong', 'between', 'broader', 'canada', 'ceremony',\n",
              "        'certainty', 'children', 'china', 'christianity', 'christians',\n",
              "        'come', 'commandments', 'common', 'contained', 'context', 'course',\n",
              "        'criticize', 'crucified', 'deletions', 'deliver', 'didn', 'doubt',\n",
              "        'due', 'earth', 'easily', 'enough', 'everything', 'evidence',\n",
              "        'experience', 'false', 'father', 'feeble', 'feeling', 'form',\n",
              "        'fulfill', 'function', 'god', 'greek', 'grew', 'group', 'hayes',\n",
              "        'high', 'him', 'his', 'history', 'ignored', 'insistence', 'intent',\n",
              "        'isn', 'james', 'jeesus', 'jeremiah', 'jesus', 'jewish', 'jews',\n",
              "        'jointly', 'june', 'kill', 'last', 'lay', 'legal', 'life',\n",
              "        'locked', 'lot', 'married', 'mental', 'mercy', 'might', 'mit',\n",
              "        'model', 'moses', 'much', 'must', 'myth', 'nations', 'newgroups',\n",
              "        'notes', 'number', 'obedience', 'once', 'opt', 'own', 'parts',\n",
              "        'paul', 'perfectly', 'petch', 'phs431d', 'played', 'please',\n",
              "        'possibly', 'punished', 'rarely', 'rather', 'read', 'really',\n",
              "        'reign', 'religions', 'rise', 'rolfe', 'rutgers', 'same', 'say',\n",
              "        'saying', 'says', 'seeking', 'seems', 'sees', 'series', 'shortly',\n",
              "        'should', 'show', 'smith', 'stand', 'such', 'suggest', 'take',\n",
              "        'talking', 'telling', 'terms', 'than', 'therefore', 'thinks',\n",
              "        'those', 'thousands', 'today', 'transaction', 'travis', 'trying',\n",
              "        'types', 'until', 'us', 'utterly', 've', 'viewed', 'walker',\n",
              "        'want', 'warning', 'warns', 'wasn', 'why', 'wind', 'world', 'yet'],\n",
              "       dtype='<U80'),\n",
              " array(['0358', '15', '1979', '42', 'above', 'acts', 'alive', 'always',\n",
              "        'am', 'another', 'anybody', 'argument', 'ask', 'assume',\n",
              "        'authorities', 'basic', 'because', 'become', 'bishops', 'book',\n",
              "        'catholics', 'certainly', 'cf', 'claim', 'cmu', 'come', 'common',\n",
              "        'community', 'concerned', 'consensus', 'contact', 'contains',\n",
              "        'control', 'controversial', 'cut', 'david', 'deserving',\n",
              "        'differences', 'disciple', 'disclaimer', 'doctrine', 'doesn',\n",
              "        'doing', 'dr', 'driving', 'drove', 'eeap', 'else', 'escape',\n",
              "        'exhibition', 'expected', 'eye', 'fact', 'feelings', 'fit',\n",
              "        'forcing', 'formulae', 'forsaking', 'given', 'god', 'going',\n",
              "        'guess', 'guidance', 'happily', 'having', 'he', 'her', 'here',\n",
              "        'him', 'holy', 'into', 'ishtar', 'isn', 'items', 'johnsd2', 'kind',\n",
              "        'least', 'little', 'lord', 'love', 'luke', 'mary', 'may', 'meant',\n",
              "        'ministries', 'must', 'n7104', 'needless', 'negation', 'nih',\n",
              "        'nothing', 'osiris', 'our', 'own', 'pantheism', 'part', 'peace',\n",
              "        'peacefully', 'person', 'problem', 'radio', 'reading', 'real',\n",
              "        'reedr', 'referred', 'reinforce', 'relevant', 'reliable',\n",
              "        'religious', 'repository', 'resources', 'risc1', 'sabbath', 'same',\n",
              "        'says', 'scripture', 'second', 'see', 'seeing', 'seperation',\n",
              "        'shortly', 'should', 'slc', 'something', 'spirit', 'spoke',\n",
              "        'states', 'still', 'such', 'sweetheart', 'tell', 'thanks', 'their',\n",
              "        'then', 'theology', 'these', 'trajan', 'turn', 'uncle', 'us',\n",
              "        'vaxc', 've', 'whatever', 'without', 'won', 'word', 'writing',\n",
              "        'years'], dtype='<U80'),\n",
              " array(['408', '542', '713', '96', 'absolute', 'accept', 'agree', 'am',\n",
              "        'amounts', 'apr', 'ask', 'assuming', 'atheist', 'authenticating',\n",
              "        'baptism', 'been', 'believe', 'believed', 'believers', 'beloved',\n",
              "        'between', 'biblical', 'bitnet', 'bothered', 'brookline',\n",
              "        'brought', 'brush', 'cgsvax', 'claim', 'closes', 'coming',\n",
              "        'concern', 'congregation', 'cooperate', 'cut', 'dead',\n",
              "        'development', 'didn', 'disagree', 'doing', 'dominate', 'drugs',\n",
              "        'dtr', 'editorial', 'enjoy', 'entirely', 'eugene', 'ever',\n",
              "        'excellent', 'fordham', 'friends', 'glory', 'god', 'gospel', 'had',\n",
              "        'heads', 'hello', 'hoped', 'hour', 'human', 'intends',\n",
              "        'interprets', 'jew', 'judged', 'kept', 'knows', 'letters', 'life',\n",
              "        'lives', 'lot', 'majority', 'manufacturing', 'mat', 'microsoft',\n",
              "        'mid', 'millions', 'natural', 'nothing', 'notice', 'nunez',\n",
              "        'objects', 'off', 'opinions', 'others', 'own', 'point', 'practice',\n",
              "        'publically', 'question', 'qumran', 'rather', 'realm', 'recent',\n",
              "        'relate', 'reminded', 'richard', 'rsv', 'rutgers', 'school',\n",
              "        'scripture', 'self', 'services', 'should', 'situations', 'sperm',\n",
              "        'stairs', 'stole', 'swings', 'synagogue', 'taught', 'tell',\n",
              "        'themselves', 'theology', 'these', 'think', 'those', 'time', 'try',\n",
              "        'ucs', 'unattended', 'unbaptized', 'universe', 'until', 'us',\n",
              "        'used', 'want', 'were', 'worldview', 'wouldn', 'write'],\n",
              "       dtype='<U80'),\n",
              " array(['03', '1983', '1993', '24', '28', 'ab4z', 'accurate', 'across',\n",
              "        'apathy', 'aplenty', 'april', 'arose', 'athiests', 'attack',\n",
              "        'attorney', 'back', 'bearing', 'beauty', 'bedroom', 'been',\n",
              "        'before', 'body', 'both', 'boundary', 'casualties', 'che',\n",
              "        'christmas', 'church', 'cited', 'claim', 'classical', 'clear',\n",
              "        'cogito', 'cognitive', 'community', 'complained', 'condemned',\n",
              "        'contrary', 'deleted', 'denies', 'didn', 'disagrees', 'discuss',\n",
              "        'discussion', 'early', 'element', 'entirety', 'es', 'especially',\n",
              "        'even', 'face', 'faith', 'far', 'final', 'find', 'form',\n",
              "        'generation', 'giaeb', 'giving', 'got', 'grade', 'happened',\n",
              "        'having', 'he', 'held', 'him', 'himself', 'human', 'humanism',\n",
              "        'humble', 'intended', 'jesus', 'jews', 'joe', 'joshua', 'lands',\n",
              "        'lives', 'look', 'mail', 'make', 'matthew', 'measure', 'medieval',\n",
              "        'mi', 'might', 'mls', 'monash', 'moving', 'muslim', 'must',\n",
              "        'nature', 'oh', 'opposed', 'part', 'parts', 'performed',\n",
              "        'portions', 'powerfully', 'presence', 'professors', 'prophet',\n",
              "        'purdue', 'raised', 'randerso', 'read', 'really', 'recent',\n",
              "        'regular', 'religion', 'resent', 'righteous', 'romans', 'sean',\n",
              "        'seen', 'seriously', 'she', 'shiva', 'smcm', 'someone', 'son',\n",
              "        'sorts', 'still', 'struck', 'succeed', 'systems', 'take',\n",
              "        'talking', 'thanks', 'them', 'then', 'theology', 'thing',\n",
              "        'through', 'times', 'until', 'upenn', 'upon', 'used', 'voices',\n",
              "        'where', 'whether', 'why', 'wondered', 'worldly', 'yes'],\n",
              "       dtype='<U80'),\n",
              " array(['01', '127', '16', '1993', '37696', '38', '393', '933999',\n",
              "        'abstinence', 'access', 'actually', 'ad', 'admit', 'against', 'am',\n",
              "        'anti', 'anyone', 'appear', 'athos', 'back', 'basic', 'basically',\n",
              "        'behind', 'beliefs', 'boeing', 'book', 'both', 'buddhist',\n",
              "        'california', 'canon', 'catholics', 'chan', 'check', 'child',\n",
              "        'christians', 'church', 'claim', 'claremont', 'class', 'clear',\n",
              "        'colorado', 'coming', 'consciousness', 'considering', 'consult',\n",
              "        'couched', 'counter', 'course', 'covington', 'davidians',\n",
              "        'dictated', 'didn', 'distinguish', 'does', 'dog', 'drives',\n",
              "        'earth', 'etc', 'even', 'exclusion', 'factors', 'florida',\n",
              "        'galileo', 'gerry', 'girl', 'god', 'great', 'greek', 'hand', 'he',\n",
              "        'hence', 'historically', 'instead', 'intent', 'john', 'joseph',\n",
              "        'kingdom', 'large', 'latter', 'laws', 'least', 'legal', 'lexicon',\n",
              "        'mail', 'many', 'matter', 'mean', 'meaning', 'means', 'michael',\n",
              "        'namely', 'nancy', 'nations', 'newly', 'number', 'opinion', 'our',\n",
              "        'papal', 'people', 'piss', 'point', 'practicing', 'premise',\n",
              "        'probability', 'probably', 'puts', 'range', 'rarely', 'really',\n",
              "        'religion', 'resp', 'resurrection', 'rome', 'said', 'say',\n",
              "        'secular', 'sees', 'set', 'simon', 'solved', 'specifically',\n",
              "        'spoke_', 'state', 'statistics', 'step', 'study', 'sure', 'surely',\n",
              "        'than', 'these', 'think', 'those', 'thus', 'trampled', 'treating',\n",
              "        'understand', 'understanding', 'universe', 'used', 've', 'velasco',\n",
              "        'way', 'wealth', 'whether', 'wilcox', 'willed', 'won', 'world',\n",
              "        'yet', 'yours'], dtype='<U80')]"
            ]
          },
          "metadata": {},
          "execution_count": 76
        }
      ]
    },
    {
      "cell_type": "markdown",
      "metadata": {
        "id": "5psJI4WqJLKx"
      },
      "source": [
        "***\n",
        "<a id='sampling_and_log_probs'></a>\n",
        "## Sampling and log probs"
      ]
    },
    {
      "cell_type": "code",
      "metadata": {
        "id": "eRtRs0UIJLKx",
        "colab": {
          "base_uri": "https://localhost:8080/"
        },
        "outputId": "594610a2-951e-4f87-f1ea-af757438ab70"
      },
      "source": [
        "import tensorflow as tf\n",
        "import tensorflow_probability as tfp\n",
        "tfd = tfp.distributions\n",
        "\n",
        "exp = tfd.Exponential(rate=[[1., 1.5, 0.8],\n",
        "    [0.3, 0.4, 1.8]])\n",
        "print(exp)"
      ],
      "execution_count": null,
      "outputs": [
        {
          "output_type": "stream",
          "name": "stdout",
          "text": [
            "tfp.distributions.Exponential(\"Exponential\", batch_shape=[2, 3], event_shape=[], dtype=float32)\n"
          ]
        }
      ]
    },
    {
      "cell_type": "code",
      "metadata": {
        "id": "xVzZa6rUJLKy",
        "colab": {
          "base_uri": "https://localhost:8080/"
        },
        "outputId": "ff46eef1-49c2-4de7-f741-047edadfd15c"
      },
      "source": [
        "ind_exp = tfd.Independent(exp)\n",
        "print(ind_exp)\n",
        "ind_exp.sample(4)"
      ],
      "execution_count": null,
      "outputs": [
        {
          "output_type": "stream",
          "name": "stdout",
          "text": [
            "tfp.distributions.Independent(\"IndependentExponential\", batch_shape=[2], event_shape=[3], dtype=float32)\n"
          ]
        },
        {
          "output_type": "execute_result",
          "data": {
            "text/plain": [
              "<tf.Tensor: shape=(4, 2, 3), dtype=float32, numpy=\n",
              "array([[[2.5002031 , 0.15172158, 4.9000163 ],\n",
              "        [0.33312798, 2.1559024 , 0.06900347]],\n",
              "\n",
              "       [[0.4158712 , 0.8248239 , 0.9838752 ],\n",
              "        [9.955382  , 0.21584663, 0.05393133]],\n",
              "\n",
              "       [[2.0060952 , 0.924484  , 1.978281  ],\n",
              "        [1.9934334 , 9.479193  , 0.18704863]],\n",
              "\n",
              "       [[0.34175396, 0.7107496 , 0.8920651 ],\n",
              "        [3.8072941 , 2.4762235 , 0.55219793]]], dtype=float32)>"
            ]
          },
          "metadata": {},
          "execution_count": 78
        }
      ]
    },
    {
      "cell_type": "code",
      "metadata": {
        "scrolled": true,
        "id": "15s2N9ZdJLKy",
        "colab": {
          "base_uri": "https://localhost:8080/"
        },
        "outputId": "261716a8-078d-433f-c21d-704e0f749631"
      },
      "source": [
        "rates = [\n",
        "    [[[1., 1.5, 0.8], [0.3, 0.4, 1.8]]],\n",
        "    [[[0.2, 0.4, 1.4], [0.4, 1.1, 0.9]]]\n",
        "]\n",
        "exp = tfd.Exponential(rate=rates)\n",
        "print(exp)\n",
        "\n",
        "ind_exp = tfd.Independent(exp, reinterpreted_batch_ndims=2)\n",
        "print(ind_exp)\n",
        "\n",
        "ind_exp.sample([4, 2]).shape"
      ],
      "execution_count": null,
      "outputs": [
        {
          "output_type": "stream",
          "name": "stdout",
          "text": [
            "tfp.distributions.Exponential(\"Exponential\", batch_shape=[2, 1, 2, 3], event_shape=[], dtype=float32)\n",
            "tfp.distributions.Independent(\"IndependentExponential\", batch_shape=[2, 1], event_shape=[2, 3], dtype=float32)\n"
          ]
        },
        {
          "output_type": "execute_result",
          "data": {
            "text/plain": [
              "TensorShape([4, 2, 2, 1, 2, 3])"
            ]
          },
          "metadata": {},
          "execution_count": 79
        }
      ]
    },
    {
      "cell_type": "code",
      "metadata": {
        "id": "IUQDRZ23JLKy",
        "colab": {
          "base_uri": "https://localhost:8080/"
        },
        "outputId": "5e83e469-1da0-4f68-a818-4fe47f285fcf"
      },
      "source": [
        "ind_exp.log_prob(0.5)"
      ],
      "execution_count": null,
      "outputs": [
        {
          "output_type": "execute_result",
          "data": {
            "text/plain": [
              "<tf.Tensor: shape=(2, 1), dtype=float32, numpy=\n",
              "array([[-4.2501554],\n",
              "       [-5.3155975]], dtype=float32)>"
            ]
          },
          "metadata": {},
          "execution_count": 80
        }
      ]
    },
    {
      "cell_type": "code",
      "metadata": {
        "id": "9S6qjMjYJLKy",
        "colab": {
          "base_uri": "https://localhost:8080/"
        },
        "outputId": "2a93e4e6-ad92-480a-e302-71a464ca68db"
      },
      "source": [
        "ind_exp.log_prob([[0.3, 0.5, 0.8]]) # (1, 3)"
      ],
      "execution_count": null,
      "outputs": [
        {
          "output_type": "execute_result",
          "data": {
            "text/plain": [
              "<tf.Tensor: shape=(2, 1), dtype=float32, numpy=\n",
              "array([[-4.7701554],\n",
              "       [-5.885597 ]], dtype=float32)>"
            ]
          },
          "metadata": {},
          "execution_count": 81
        }
      ]
    },
    {
      "cell_type": "code",
      "metadata": {
        "id": "fJpVlZ7WJLKy",
        "colab": {
          "base_uri": "https://localhost:8080/"
        },
        "outputId": "00a6cebb-8f31-4128-eb9a-cc9aa77b37c6"
      },
      "source": [
        "print(tf.random.uniform((5, 1, 1, 2, 1)).shape)\n",
        "ind_exp.log_prob(tf.random.uniform((5, 1, 1, 2, 1)))"
      ],
      "execution_count": null,
      "outputs": [
        {
          "output_type": "stream",
          "name": "stdout",
          "text": [
            "(5, 1, 1, 2, 1)\n"
          ]
        },
        {
          "output_type": "execute_result",
          "data": {
            "text/plain": [
              "<tf.Tensor: shape=(5, 2, 1), dtype=float32, numpy=\n",
              "array([[[-5.427427 ],\n",
              "        [-6.008941 ]],\n",
              "\n",
              "       [[-4.9606094],\n",
              "        [-6.1190734]],\n",
              "\n",
              "       [[-4.102475 ],\n",
              "        [-4.883188 ]],\n",
              "\n",
              "       [[-3.6928136],\n",
              "        [-5.2201333]],\n",
              "\n",
              "       [[-6.2263966],\n",
              "        [-6.7563105]]], dtype=float32)>"
            ]
          },
          "metadata": {},
          "execution_count": 82
        }
      ]
    },
    {
      "cell_type": "code",
      "source": [
        "loc = tf.zeros((2, 3, 1))\n",
        "print(loc.shape)\n",
        "\n",
        "scale_diag = tf.ones(4)\n",
        "print(scale_diag.shape)\n",
        "\n",
        "mv_normal = tfd.MultivariateNormalDiag(loc=loc, scale_diag=scale_diag)\n",
        "print(mv_normal)\n",
        "\n",
        "dist = tfd.Independent(mv_normal)\n",
        "print(dist)\n",
        "\n",
        "inp = tf.random.uniform((2, 1, 1, 4))\n",
        "print(inp.shape)\n",
        "\n",
        "print(dist.log_prob(inp).shape)"
      ],
      "metadata": {
        "colab": {
          "base_uri": "https://localhost:8080/"
        },
        "id": "ryzUIY_qRUqd",
        "outputId": "41651373-e965-4dc2-ca01-f49bc52a9116"
      },
      "execution_count": null,
      "outputs": [
        {
          "output_type": "stream",
          "name": "stdout",
          "text": [
            "(2, 3, 1)\n",
            "(4,)\n",
            "tfp.distributions.MultivariateNormalDiag(\"MultivariateNormalDiag\", batch_shape=[2, 3], event_shape=[4], dtype=float32)\n",
            "tfp.distributions.Independent(\"IndependentMultivariateNormalDiag\", batch_shape=[2], event_shape=[3, 4], dtype=float32)\n",
            "(2, 1, 1, 4)\n",
            "(2, 2)\n"
          ]
        }
      ]
    },
    {
      "cell_type": "code",
      "metadata": {
        "id": "B5KSTZ4wJLKy",
        "colab": {
          "base_uri": "https://localhost:8080/"
        },
        "outputId": "88c97322-17a9-4173-e0ae-bfecebf64ead"
      },
      "source": [
        "# Make Multivariate Distribution\n",
        "\n",
        "normal_distributions = tfd.MultivariateNormalDiag(\n",
        "    loc=[[0.5, 1], [0.1, 0], [0, 0.2]],\n",
        "    scale_diag=[[2, 3], [1, 3], [4, 4]])\n",
        "normal_distributions"
      ],
      "execution_count": null,
      "outputs": [
        {
          "output_type": "execute_result",
          "data": {
            "text/plain": [
              "<tfp.distributions.MultivariateNormalDiag 'MultivariateNormalDiag' batch_shape=[3] event_shape=[2] dtype=float32>"
            ]
          },
          "metadata": {},
          "execution_count": 84
        }
      ]
    },
    {
      "cell_type": "code",
      "metadata": {
        "id": "cARi0qAyJLKy",
        "colab": {
          "base_uri": "https://localhost:8080/"
        },
        "outputId": "98494e36-f2bc-4ef7-daf4-04c664d2fa22"
      },
      "source": [
        "# Sample\n",
        "\n",
        "normal_distributions.sample(5)"
      ],
      "execution_count": null,
      "outputs": [
        {
          "output_type": "execute_result",
          "data": {
            "text/plain": [
              "<tf.Tensor: shape=(5, 3, 2), dtype=float32, numpy=\n",
              "array([[[ 0.9987421 , -6.502554  ],\n",
              "        [-0.44828096,  2.0975454 ],\n",
              "        [-0.9748101 , -6.0678463 ]],\n",
              "\n",
              "       [[ 3.1304932 ,  0.48263532],\n",
              "        [ 0.2544517 ,  8.668421  ],\n",
              "        [ 4.442313  ,  5.4530296 ]],\n",
              "\n",
              "       [[-1.4927169 , -1.8015218 ],\n",
              "        [-0.8676732 , -2.9671726 ],\n",
              "        [ 2.4952335 ,  0.03024885]],\n",
              "\n",
              "       [[ 0.16481516,  3.609578  ],\n",
              "        [-2.1173162 ,  2.9790373 ],\n",
              "        [ 5.2328033 ,  7.4691987 ]],\n",
              "\n",
              "       [[ 1.6936435 , -2.5880928 ],\n",
              "        [ 0.93843746,  0.19607228],\n",
              "        [ 4.287509  ,  3.7968068 ]]], dtype=float32)>"
            ]
          },
          "metadata": {},
          "execution_count": 85
        }
      ]
    },
    {
      "cell_type": "code",
      "metadata": {
        "id": "BoXkKiOMJLKy",
        "colab": {
          "base_uri": "https://localhost:8080/"
        },
        "outputId": "195fda91-06f2-45f7-87c6-d9f9384c1293"
      },
      "source": [
        "# Multivariate Normal batched Distribution\n",
        "# We are broadcasting batch shapes of `loc` and `scal_diag`\n",
        "# against each other\n",
        "\n",
        "loc = [\n",
        "    [[0.3, 1.5, 1.], [0.2, 0.4, 2.8]],\n",
        "    [[2., 2.3, 8], [1.4, 1, 1.3]]\n",
        "] # (2, 2, 3)\n",
        "scale_diag = [0.4, 1., 0.7] # (3,)\n",
        "normal_distributions = tfd.MultivariateNormalDiag(\n",
        "    loc=loc, scale_diag=scale_diag)\n",
        "normal_distributions"
      ],
      "execution_count": null,
      "outputs": [
        {
          "output_type": "execute_result",
          "data": {
            "text/plain": [
              "<tfp.distributions.MultivariateNormalDiag 'MultivariateNormalDiag' batch_shape=[2, 2] event_shape=[3] dtype=float32>"
            ]
          },
          "metadata": {},
          "execution_count": 86
        }
      ]
    },
    {
      "cell_type": "code",
      "metadata": {
        "id": "m6HQ0xLjJLKz",
        "colab": {
          "base_uri": "https://localhost:8080/"
        },
        "outputId": "32852ab4-8390-4fbd-b28d-cf97a4caa9cd"
      },
      "source": [
        "# Use independent to move part of the batch shape\n",
        "\n",
        "ind_normal_distributions = tfd.Independent(normal_distributions,\n",
        "    reinterpreted_batch_ndims=1)\n",
        "ind_normal_distributions"
      ],
      "execution_count": null,
      "outputs": [
        {
          "output_type": "execute_result",
          "data": {
            "text/plain": [
              "<tfp.distributions.Independent 'IndependentMultivariateNormalDiag' batch_shape=[2] event_shape=[2, 3] dtype=float32>"
            ]
          },
          "metadata": {},
          "execution_count": 87
        }
      ]
    },
    {
      "cell_type": "code",
      "metadata": {
        "id": "GiSB2njrJLKz",
        "colab": {
          "base_uri": "https://localhost:8080/"
        },
        "outputId": "da4f82dc-818d-4455-9362-6b77af797d32"
      },
      "source": [
        "# Draw some samples\n",
        "\n",
        "samples = ind_normal_distributions.sample(5)\n",
        "samples.shape"
      ],
      "execution_count": null,
      "outputs": [
        {
          "output_type": "execute_result",
          "data": {
            "text/plain": [
              "TensorShape([5, 2, 2, 3])"
            ]
          },
          "metadata": {},
          "execution_count": 88
        }
      ]
    },
    {
      "cell_type": "code",
      "metadata": {
        "id": "teW-jV5pJLKz",
        "colab": {
          "base_uri": "https://localhost:8080/"
        },
        "outputId": "bff216cb-898a-4314-be6d-6cad3053ae91"
      },
      "source": [
        "# `[B, E]` shaped input\n",
        "\n",
        "inp = tf.random.uniform((2, 2, 3))\n",
        "print(inp.shape)\n",
        "ind_normal_distributions.log_prob(inp)"
      ],
      "execution_count": null,
      "outputs": [
        {
          "output_type": "stream",
          "name": "stdout",
          "text": [
            "(2, 2, 3)\n"
          ]
        },
        {
          "output_type": "execute_result",
          "data": {
            "text/plain": [
              "<tf.Tensor: shape=(2,), dtype=float32, numpy=array([-12.419059, -82.02532 ], dtype=float32)>"
            ]
          },
          "metadata": {},
          "execution_count": 89
        }
      ]
    },
    {
      "cell_type": "code",
      "metadata": {
        "id": "-LocUCT8JLKz",
        "colab": {
          "base_uri": "https://localhost:8080/"
        },
        "outputId": "ccfa77df-ef49-49ec-fce8-f95d733a3d2b"
      },
      "source": [
        "# `[E]` shaped input (broadcasting over batch size)\n",
        "\n",
        "inp = tf.random.uniform((2, 3))\n",
        "print(inp.shape)\n",
        "ind_normal_distributions.log_prob(inp)"
      ],
      "execution_count": null,
      "outputs": [
        {
          "output_type": "stream",
          "name": "stdout",
          "text": [
            "(2, 3)\n"
          ]
        },
        {
          "output_type": "execute_result",
          "data": {
            "text/plain": [
              "<tf.Tensor: shape=(2,), dtype=float32, numpy=array([ -9.445604, -65.97212 ], dtype=float32)>"
            ]
          },
          "metadata": {},
          "execution_count": 90
        }
      ]
    },
    {
      "cell_type": "code",
      "metadata": {
        "id": "N6b8ZCvpJLKz",
        "colab": {
          "base_uri": "https://localhost:8080/"
        },
        "outputId": "d5a59438-1b3c-438f-bab9-de82602777fd"
      },
      "source": [
        "#`[S, B, E]` shaped input (broadcasting over samples)\n",
        "\n",
        "inp = tf.random.uniform((9, 2, 2, 3))\n",
        "print(inp.shape)\n",
        "ind_normal_distributions.log_prob(inp)"
      ],
      "execution_count": null,
      "outputs": [
        {
          "output_type": "stream",
          "name": "stdout",
          "text": [
            "(9, 2, 2, 3)\n"
          ]
        },
        {
          "output_type": "execute_result",
          "data": {
            "text/plain": [
              "<tf.Tensor: shape=(9, 2), dtype=float32, numpy=\n",
              "array([[-11.802884 , -66.6842   ],\n",
              "       [-10.892239 , -69.06108  ],\n",
              "       [-10.300762 , -67.938705 ],\n",
              "       [-10.726097 , -73.99431  ],\n",
              "       [ -7.8572454, -71.06328  ],\n",
              "       [ -8.484354 , -73.95415  ],\n",
              "       [ -9.769709 , -69.40845  ],\n",
              "       [-10.823758 , -65.55975  ],\n",
              "       [-12.73931  , -73.27627  ]], dtype=float32)>"
            ]
          },
          "metadata": {},
          "execution_count": 91
        }
      ]
    },
    {
      "cell_type": "code",
      "metadata": {
        "id": "Ryrf_It7JLKz",
        "colab": {
          "base_uri": "https://localhost:8080/"
        },
        "outputId": "80a58691-e14f-4d74-d54c-6d6a6dfab339"
      },
      "source": [
        "# `[S, b, e]` shaped input, where [b, e] is broadcastable over [B, E]\n",
        "\n",
        "inp = tf.random.uniform((5, 1, 2, 1))\n",
        "print(inp.shape)\n",
        "ind_normal_distributions.log_prob(inp)"
      ],
      "execution_count": null,
      "outputs": [
        {
          "output_type": "stream",
          "name": "stdout",
          "text": [
            "(5, 1, 2, 1)\n"
          ]
        },
        {
          "output_type": "execute_result",
          "data": {
            "text/plain": [
              "<tf.Tensor: shape=(5, 2), dtype=float32, numpy=\n",
              "array([[ -9.802013 , -76.48693  ],\n",
              "       [-12.070822 , -88.559044 ],\n",
              "       [-10.83156  , -76.84837  ],\n",
              "       [ -9.2477255, -72.58198  ],\n",
              "       [-10.17664  , -69.594185 ]], dtype=float32)>"
            ]
          },
          "metadata": {},
          "execution_count": 92
        }
      ]
    },
    {
      "cell_type": "markdown",
      "metadata": {
        "id": "YVcqtYoWJLK0"
      },
      "source": [
        "#### Naive Bayes example\n",
        "\n",
        "Lets now use what we have learned and continue the Naive Bayes classifier we were building last tutorial."
      ]
    },
    {
      "cell_type": "code",
      "metadata": {
        "id": "CnXUsSdfJLK0"
      },
      "source": [
        "from sklearn.datasets import fetch_20newsgroups\n",
        "from sklearn.feature_extraction.text import CountVectorizer\n",
        "from sklearn.naive_bayes import BernoulliNB\n",
        "from sklearn.metrics import f1_score"
      ],
      "execution_count": null,
      "outputs": []
    },
    {
      "cell_type": "code",
      "metadata": {
        "id": "yIsjVMI8JLK0"
      },
      "source": [
        "# Making a function get_data which:\n",
        "#   1) Fetches the 20 newsgroup dataset\n",
        "#   2) Performs a word count on the articles and binarizes the result\n",
        "#   3) Returns the data as a numpy matrix with the labels\n",
        "\n",
        "def get_data(categories):\n",
        "\n",
        "    newsgroups_train_data = fetch_20newsgroups(\n",
        "        data_home='20_Newsgroup_Data/',\n",
        "        subset='train', categories=categories)\n",
        "    newsgroups_test_data = fetch_20newsgroups(\n",
        "        data_home='20_Newsgroup_Data/',\n",
        "        subset='test', categories=categories)\n",
        "\n",
        "    n_documents = len(newsgroups_train_data['data'])\n",
        "    count_vectorizer = CountVectorizer(input='content',\n",
        "        binary=True, max_df=0.25, min_df=1.01/n_documents)\n",
        "\n",
        "    train_binary_bag_of_words = count_vectorizer.fit_transform(\n",
        "        newsgroups_train_data['data'])\n",
        "    test_binary_bag_of_words = count_vectorizer.transform(\n",
        "        newsgroups_test_data['data'])\n",
        "\n",
        "    return (train_binary_bag_of_words.todense(),\n",
        "            newsgroups_train_data['target']), \\\n",
        "        (test_binary_bag_of_words.todense(),\n",
        "            newsgroups_test_data['target'])"
      ],
      "execution_count": null,
      "outputs": []
    },
    {
      "cell_type": "code",
      "metadata": {
        "id": "onf8ZtxWJLK0"
      },
      "source": [
        "# Defining a function to conduct Laplace smoothing. This adds a base\n",
        "# level of probability for a given feature to occur in every class.\n",
        "\n",
        "def laplace_smoothing(labels, binary_data, n_classes):\n",
        "    # Compute the parameter estimates (adjusted fraction of documents\n",
        "    # in class that contain word)\n",
        "    n_words = binary_data.shape[1]\n",
        "    alpha = 1 # parameters for Laplace smoothing\n",
        "    # stores parameter values - prob. word given class\n",
        "    theta = np.zeros([n_classes, n_words])\n",
        "    for c_k in range(n_classes): # 0, 1, ..., 19\n",
        "        class_mask = (labels == c_k)\n",
        "        N = class_mask.sum() # number of articles in class\n",
        "        theta[c_k, :] = (binary_data[class_mask, :].sum(axis=0)\n",
        "            + alpha)/(N + alpha*2)\n",
        "\n",
        "    return theta"
      ],
      "execution_count": null,
      "outputs": []
    },
    {
      "cell_type": "code",
      "metadata": {
        "id": "qIA2vpaUJLK0",
        "colab": {
          "base_uri": "https://localhost:8080/"
        },
        "outputId": "e01a7133-db6d-439f-ccc9-55c01dfcc640"
      },
      "source": [
        "# Getting a subset of the 20 newsgroup dataset\n",
        "\n",
        "categories = ['alt.atheism', 'talk.religion.misc', 'comp.graphics',\n",
        "    'sci.space']\n",
        "\n",
        "(train_data, train_labels), (test_data, test_labels) = get_data(\n",
        "    categories=categories)\n",
        "print(train_data.shape)\n",
        "print(test_data.shape)\n",
        "smoothed_counts = laplace_smoothing(labels=train_labels,\n",
        "    binary_data=train_data, n_classes=len(categories))\n",
        "print(smoothed_counts.shape)"
      ],
      "execution_count": null,
      "outputs": [
        {
          "output_type": "stream",
          "name": "stdout",
          "text": [
            "(2034, 17495)\n",
            "(1353, 17495)\n",
            "(4, 17495)\n"
          ]
        }
      ]
    },
    {
      "cell_type": "markdown",
      "metadata": {
        "id": "NGn2-shtJLK0"
      },
      "source": [
        "To now make our NB classifier we need to build three functions:\n",
        "* Compute the class priors\n",
        "* Build our class conditional distributions\n",
        "* Put it all together and classify our data"
      ]
    },
    {
      "cell_type": "code",
      "metadata": {
        "id": "9hcV-kivJLK0"
      },
      "source": [
        "# Function which computes the prior probability of every class\n",
        "# based on frequency of occurence in the dataset\n",
        "\n",
        "def class_priors(n_classes, labels):\n",
        "    counts = np.zeros(n_classes)\n",
        "    for c_k in range(n_classes):\n",
        "        counts[c_k] = np.sum(np.where(labels==c_k, 1, 0))\n",
        "    priors = counts / np.sum(counts)\n",
        "    print('The class priors are {}'.format(priors))\n",
        "    return priors"
      ],
      "execution_count": null,
      "outputs": []
    },
    {
      "cell_type": "code",
      "metadata": {
        "id": "h01029SdJLK0",
        "colab": {
          "base_uri": "https://localhost:8080/"
        },
        "outputId": "d2e58ab4-6712-4385-e619-a2f297ec2271"
      },
      "source": [
        "# Run the function\n",
        "\n",
        "priors = class_priors(n_classes=len(categories), labels=train_labels)"
      ],
      "execution_count": null,
      "outputs": [
        {
          "output_type": "stream",
          "name": "stdout",
          "text": [
            "The class priors are [0.2359882  0.28711898 0.29154376 0.18534907]\n"
          ]
        }
      ]
    },
    {
      "cell_type": "code",
      "metadata": {
        "id": "HkIjtvYZJLK0",
        "colab": {
          "base_uri": "https://localhost:8080/"
        },
        "outputId": "6f34ddd0-f2cc-4178-b6a9-5fd0aca90fe6"
      },
      "source": [
        "# Now we will do a function that given the feature occurence counts\n",
        "# returns a Bernoulli distribution of batch_shape=number of classes\n",
        "# and event_shape=number of features.\n",
        "\n",
        "def make_distribution(probs):\n",
        "    batch_of_bernoullis = tfd.Bernoulli(probs=probs)\n",
        "    dist = tfd.Independent(batch_of_bernoullis,\n",
        "        reinterpreted_batch_ndims=1)\n",
        "    return dist\n",
        "\n",
        "tf_dist = make_distribution(smoothed_counts)\n",
        "tf_dist"
      ],
      "execution_count": null,
      "outputs": [
        {
          "output_type": "execute_result",
          "data": {
            "text/plain": [
              "<tfp.distributions.Independent 'IndependentBernoulli' batch_shape=[4] event_shape=[17495] dtype=int32>"
            ]
          },
          "metadata": {},
          "execution_count": 99
        }
      ]
    },
    {
      "cell_type": "code",
      "metadata": {
        "id": "_1Mg4hfqJLK0"
      },
      "source": [
        "# The final function predict_sample which given the distribution,\n",
        "#  a test sample, and the class priors:\n",
        "#   1) Computes the class conditional probabilities given the sample\n",
        "#   2) Forms the joint likelihood\n",
        "#   3) Normalises the joint likelihood and returns the log prob\n",
        "\n",
        "def predict_sample(dist, sample, priors):\n",
        "    cond_probs = dist.log_prob(sample)\n",
        "    joint_likelihood = tf.add(\n",
        "        np.log(priors).astype('float32'), cond_probs)\n",
        "    norm_factor = tf.math.reduce_logsumexp(joint_likelihood,\n",
        "        axis=-1, keepdims=True)\n",
        "    log_prob = joint_likelihood - norm_factor\n",
        "    return log_prob"
      ],
      "execution_count": null,
      "outputs": []
    },
    {
      "cell_type": "markdown",
      "metadata": {
        "id": "MUXTlNViJLK0"
      },
      "source": [
        "#### Computing log_probs"
      ]
    },
    {
      "cell_type": "code",
      "metadata": {
        "id": "wraE9panJLK0",
        "colab": {
          "base_uri": "https://localhost:8080/"
        },
        "outputId": "2092579d-0817-4dec-d565-90aeecb70089"
      },
      "source": [
        "# Predicting one example from our test data\n",
        "\n",
        "log_probs = predict_sample(tf_dist, test_data[0], priors)\n",
        "log_probs"
      ],
      "execution_count": null,
      "outputs": [
        {
          "output_type": "execute_result",
          "data": {
            "text/plain": [
              "<tf.Tensor: shape=(4,), dtype=float32, numpy=\n",
              "array([-6.1736267e+01, -1.5258789e-05, -1.1619888e+01, -6.3327835e+01],\n",
              "      dtype=float32)>"
            ]
          },
          "metadata": {},
          "execution_count": 101
        }
      ]
    },
    {
      "cell_type": "code",
      "metadata": {
        "id": "QsU1CugjJLK1",
        "colab": {
          "base_uri": "https://localhost:8080/"
        },
        "outputId": "b2b66928-231b-4107-ec65-7381d3da3545"
      },
      "source": [
        "# Loop over our test data and classify.\n",
        "\n",
        "probabilities = []\n",
        "for sample, label in zip(test_data, test_labels):\n",
        "    probabilities.append(tf.exp(\n",
        "        predict_sample(tf_dist, sample, priors)))\n",
        "\n",
        "probabilities = np.asarray(probabilities)\n",
        "print(probabilities.shape)\n",
        "\n",
        "predicted_classes = np.argmax(probabilities, axis=-1)\n",
        "print(predicted_classes.shape)\n",
        "\n",
        "print('f1 ', f1_score(\n",
        "    test_labels, predicted_classes, average='macro'))"
      ],
      "execution_count": null,
      "outputs": [
        {
          "output_type": "stream",
          "name": "stdout",
          "text": [
            "(1353, 4)\n",
            "(1353,)\n",
            "f1  0.7848499112849504\n"
          ]
        }
      ]
    },
    {
      "cell_type": "code",
      "metadata": {
        "id": "fbOOfz0lJLK1",
        "colab": {
          "base_uri": "https://localhost:8080/"
        },
        "outputId": "e843096b-253e-4b9a-8476-c9c700857268"
      },
      "source": [
        "# Make a Bernoulli Naive Bayes classifier using\n",
        "# sklearn with the same level of alpha smoothing.\n",
        "\n",
        "clf = BernoulliNB(alpha=1)\n",
        "clf.fit(train_data, train_labels)\n",
        "pred = clf.predict(test_data)\n",
        "print('f1 from sklean ', f1_score(test_labels, pred, average='macro'))"
      ],
      "execution_count": null,
      "outputs": [
        {
          "output_type": "stream",
          "name": "stdout",
          "text": [
            "f1 from sklean  0.7848499112849504\n"
          ]
        }
      ]
    },
    {
      "cell_type": "markdown",
      "metadata": {
        "id": "6Z7qN8c-JLK1"
      },
      "source": [
        "***\n",
        "<a id='trainable_distributions'></a>\n",
        "## Trainable Distributions"
      ]
    },
    {
      "cell_type": "code",
      "metadata": {
        "id": "9qthEY0wJLK1",
        "colab": {
          "base_uri": "https://localhost:8080/"
        },
        "outputId": "431a964c-9df7-4edc-eccb-29c13e542218"
      },
      "source": [
        "import tensorflow as tf\n",
        "import tensorflow_probability as tfp\n",
        "tfd = tfp.distributions\n",
        "\n",
        "normal = tfd.Normal(loc=tf.Variable(0., name='loc'), scale=1.)\n",
        "print(normal.trainable_variables)\n",
        "\n",
        "def nll(x_train):\n",
        "    return -tf.reduce_mean(normal.log_prob(x_train))\n",
        "\n",
        "@tf.function\n",
        "def get_loss_and_grads(x_train):\n",
        "    with tf.GradientTape() as tape:\n",
        "        tape.watch(normal.trainable_variables)\n",
        "        loss = nll(x_train)\n",
        "    grads = tape.gradient(loss, normal.trainable_variables)\n",
        "    return loss, grads\n",
        "\n",
        "optimizer = tf.keras.optimizers.SGD(learning_rate=0.05)\n",
        "\n",
        "num_steps = 10\n",
        "x_samples = tf.random.uniform((1, 100))\n",
        "\n",
        "for _ in range(num_steps):\n",
        "    loss, grads = get_loss_and_grads(x_samples)\n",
        "    optimizer.apply_gradients(zip(grads, normal.trainable_variables))\n",
        "    print(\"loss=%f, loc=%s\" % (\n",
        "        loss.numpy(), normal.loc.numpy()))"
      ],
      "execution_count": null,
      "outputs": [
        {
          "output_type": "stream",
          "name": "stdout",
          "text": [
            "(<tf.Variable 'loc:0' shape=() dtype=float32, numpy=0.0>,)\n",
            "loss=1.099537, loc=0.026454745\n",
            "loss=1.085890, loc=0.051586755\n",
            "loss=1.073573, loc=0.07546216\n",
            "loss=1.062458, loc=0.0981438\n",
            "loss=1.052426, loc=0.11969136\n",
            "loss=1.043372, loc=0.14016153\n",
            "loss=1.035201, loc=0.1596082\n",
            "loss=1.027827, loc=0.17808254\n",
            "loss=1.021171, loc=0.19563316\n",
            "loss=1.015165, loc=0.21230625\n"
          ]
        }
      ]
    },
    {
      "cell_type": "code",
      "metadata": {
        "id": "Eej3ee7HJLK1"
      },
      "source": [
        "from sklearn.datasets import fetch_20newsgroups\n",
        "from sklearn.feature_extraction.text import CountVectorizer\n",
        "from sklearn.naive_bayes import BernoulliNB\n",
        "from sklearn.metrics import f1_score"
      ],
      "execution_count": null,
      "outputs": []
    },
    {
      "cell_type": "code",
      "metadata": {
        "id": "_s0QgnP0JLK1"
      },
      "source": [
        "# Define an exponential distribution\n",
        "\n",
        "exponential = tfd.Exponential(rate=0.3, name='exp')"
      ],
      "execution_count": null,
      "outputs": []
    },
    {
      "cell_type": "code",
      "metadata": {
        "id": "H1TcnqhaJLK1",
        "colab": {
          "base_uri": "https://localhost:8080/",
          "height": 268
        },
        "outputId": "d10b9de4-4d9c-4cff-d56d-82e7bb64290c"
      },
      "source": [
        "# Plot\n",
        "\n",
        "plt.hist(exponential.sample(5000), bins=100, density=True)\n",
        "plt.show()"
      ],
      "execution_count": null,
      "outputs": [
        {
          "output_type": "display_data",
          "data": {
            "text/plain": [
              "<Figure size 432x288 with 1 Axes>"
            ],
            "image/png": "[encoded data removed]"
          },
          "metadata": {
            "image/png": {
              "width": 383,
              "height": 251
            }
          }
        }
      ]
    },
    {
      "cell_type": "code",
      "metadata": {
        "id": "lFUmDFKRJLK1",
        "colab": {
          "base_uri": "https://localhost:8080/"
        },
        "outputId": "ed07f480-36cc-44d9-bc63-9ead707bf133"
      },
      "source": [
        "# Define an exponential distribution with a trainable rate parameter\n",
        "\n",
        "exp_train = tfd.Exponential(rate=tf.Variable(1., name='rate'),\n",
        "    name='exp_train')\n",
        "exp_train.trainable_variables"
      ],
      "execution_count": null,
      "outputs": [
        {
          "output_type": "execute_result",
          "data": {
            "text/plain": [
              "(<tf.Variable 'rate:0' shape=() dtype=float32, numpy=1.0>,)"
            ]
          },
          "metadata": {},
          "execution_count": 108
        }
      ]
    },
    {
      "cell_type": "code",
      "metadata": {
        "id": "4lzIjnCvJLK1"
      },
      "source": [
        "# Define the negative log likelihood\n",
        "\n",
        "def nll(x_train, distribution):\n",
        "    return -tf.reduce_mean(distribution.log_prob(x_train))"
      ],
      "execution_count": null,
      "outputs": []
    },
    {
      "cell_type": "code",
      "metadata": {
        "id": "Xe2cHl_iJLK1"
      },
      "source": [
        "# Define a function to compute the loss and gradients\n",
        "\n",
        "@tf.function\n",
        "def get_loss_and_grads(x_train, distribution):\n",
        "    with tf.GradientTape() as tape:\n",
        "        tape.watch(distribution.trainable_variables)\n",
        "        loss = nll(x_train, distribution)\n",
        "        grads = tape.gradient(loss, distribution.trainable_variables)\n",
        "    return loss, grads"
      ],
      "execution_count": null,
      "outputs": []
    },
    {
      "cell_type": "code",
      "metadata": {
        "id": "irDLjfGqJLK1"
      },
      "source": [
        "# Optimize\n",
        "\n",
        "def exponential_dist_optimisation(data, distribution):\n",
        "\n",
        "    # Keep results for plotting\n",
        "    train_loss_results = []\n",
        "    train_rate_results = []\n",
        "\n",
        "    optimizer = tf.keras.optimizers.SGD(learning_rate=0.05)\n",
        "\n",
        "    num_steps = 10\n",
        "\n",
        "    for i in range(num_steps):\n",
        "        loss, grads = get_loss_and_grads(data, distribution)\n",
        "        optimizer.apply_gradients(\n",
        "            zip(grads, distribution.trainable_variables))\n",
        "\n",
        "        rate_value = distribution.rate.value()\n",
        "        train_loss_results.append(loss)\n",
        "        train_rate_results.append(rate_value)\n",
        "\n",
        "        print(\"Step {:03d}: Loss: {:.3f}: Rate: {:.3f}\".format(\n",
        "            i, loss, rate_value))\n",
        "\n",
        "    return train_loss_results, train_rate_results"
      ],
      "execution_count": null,
      "outputs": []
    },
    {
      "cell_type": "code",
      "metadata": {
        "id": "9yc-G3FVJLK1",
        "colab": {
          "base_uri": "https://localhost:8080/"
        },
        "outputId": "c66c86fb-75fc-4aed-d188-5e3ee307d0ed"
      },
      "source": [
        "# Get some data and train\n",
        "\n",
        "sampled_data = exponential.sample(5000)\n",
        "train_loss_results, train_rate_results = exponential_dist_optimisation(\n",
        "    data=sampled_data, distribution=exp_train)"
      ],
      "execution_count": null,
      "outputs": [
        {
          "output_type": "stream",
          "name": "stdout",
          "text": [
            "Step 000: Loss: 3.370: Rate: 0.882\n",
            "Step 001: Loss: 3.097: Rate: 0.770\n",
            "Step 002: Loss: 2.856: Rate: 0.666\n",
            "Step 003: Loss: 2.651: Rate: 0.573\n",
            "Step 004: Loss: 2.487: Rate: 0.492\n",
            "Step 005: Loss: 2.367: Rate: 0.425\n",
            "Step 006: Loss: 2.288: Rate: 0.374\n",
            "Step 007: Loss: 2.244: Rate: 0.339\n",
            "Step 008: Loss: 2.224: Rate: 0.318\n",
            "Step 009: Loss: 2.217: Rate: 0.307\n"
          ]
        }
      ]
    },
    {
      "cell_type": "code",
      "metadata": {
        "id": "_tP7oL4qJLK1",
        "colab": {
          "base_uri": "https://localhost:8080/"
        },
        "outputId": "ed4d7dec-3d25-46eb-874b-30ac354c7f4d"
      },
      "source": [
        "# Predicted value for the rate parameter\n",
        "\n",
        "pred_value = exp_train.rate.numpy()\n",
        "exact_value = exponential.rate.numpy()\n",
        "\n",
        "print(\"Exact rate: \", exact_value)\n",
        "print(\"Pred rate:  \", pred_value)"
      ],
      "execution_count": null,
      "outputs": [
        {
          "output_type": "stream",
          "name": "stdout",
          "text": [
            "Exact rate:  0.3\n",
            "Pred rate:   0.30681136\n"
          ]
        }
      ]
    },
    {
      "cell_type": "code",
      "metadata": {
        "id": "9GKaAO4YJLK1",
        "colab": {
          "base_uri": "https://localhost:8080/",
          "height": 561
        },
        "outputId": "165f3b93-1970-458a-8661-9dfbe444e9c9"
      },
      "source": [
        "# Plot to see the convergence of the estimated and true parameters\n",
        "\n",
        "tensor_exact_value = tf.constant(exact_value,\n",
        "    shape=[len(train_rate_results)])\n",
        "\n",
        "fig, axes = plt.subplots(2, sharex=True, figsize=(12, 8))\n",
        "fig.suptitle('Convergence')\n",
        "\n",
        "axes[0].set_ylabel(\"Loss\", fontsize=14)\n",
        "axes[0].plot(train_loss_results)\n",
        "\n",
        "axes[1].set_ylabel(\"Rate\", fontsize=14)\n",
        "axes[1].set_xlabel(\"Epoch\", fontsize=14)\n",
        "axes[1].plot(train_rate_results, label='trainable rate variable')\n",
        "axes[1].plot(tensor_exact_value, label='exact rate')\n",
        "axes[1].legend()\n",
        "plt.show()"
      ],
      "execution_count": null,
      "outputs": [
        {
          "output_type": "display_data",
          "data": {
            "text/plain": [
              "<Figure size 864x576 with 2 Axes>"
            ],
            "image/png": "[encoded data removed]"
          },
          "metadata": {
            "image/png": {
              "width": 729,
              "height": 544
            }
          }
        }
      ]
    },
    {
      "cell_type": "code",
      "metadata": {
        "id": "7XH7EXK2JLK2"
      },
      "source": [
        "# Making a function get_data which:\n",
        "#   1) Fetches the 20 newsgroup dataset\n",
        "#   2) Performs a word count on the articles and binarizes the result\n",
        "#   3) Returns the data as a numpy matrix with the labels\n",
        "\n",
        "def get_data(categories):\n",
        "\n",
        "    newsgroups_train_data = fetch_20newsgroups(\n",
        "        data_home='20_Newsgroup_Data/', subset='train',\n",
        "        categories=categories)\n",
        "    newsgroups_test_data = fetch_20newsgroups(\n",
        "        data_home='20_Newsgroup_Data/', subset='test',\n",
        "        categories=categories)\n",
        "\n",
        "    n_documents = len(newsgroups_train_data['data'])\n",
        "    count_vectorizer = CountVectorizer(input='content', binary=True,\n",
        "        max_df=0.25, min_df=1.01/n_documents)\n",
        "    train_binary_bag_of_words = count_vectorizer.fit_transform(\n",
        "        newsgroups_train_data['data'])\n",
        "    test_binary_bag_of_words = count_vectorizer.transform(\n",
        "        newsgroups_test_data['data'])\n",
        "\n",
        "    return (train_binary_bag_of_words.todense(),\n",
        "            newsgroups_train_data['target']), \\\n",
        "        (test_binary_bag_of_words.todense(),\n",
        "            newsgroups_test_data['target'])"
      ],
      "execution_count": null,
      "outputs": []
    },
    {
      "cell_type": "code",
      "metadata": {
        "id": "mg2az00_JLK2"
      },
      "source": [
        "# Defining a function to conduct laplace smoothing. This adds a base\n",
        "# level of probability for a given feature to occur in every class.\n",
        "\n",
        "def laplace_smoothing(labels, binary_data, n_classes):\n",
        "    # Compute the parameter estimates (adjusted fraction of documents\n",
        "    # in class that contain word)\n",
        "    n_words = binary_data.shape[1]\n",
        "    # parameters for Laplace smoothing\n",
        "    alpha = 1\n",
        "    # stores parameter values - prob. word given class\n",
        "    theta = np.zeros([n_classes, n_words])\n",
        "    for c_k in range(n_classes): # 0, 1, ..., 19\n",
        "        class_mask = (labels == c_k)\n",
        "        N = class_mask.sum() # number of articles in class\n",
        "        theta[c_k, :] = (binary_data[class_mask, :].sum(axis=0)\n",
        "            + alpha)/(N + alpha*2)\n",
        "\n",
        "    return theta"
      ],
      "execution_count": null,
      "outputs": []
    },
    {
      "cell_type": "code",
      "metadata": {
        "id": "elqEeSxBJLK2"
      },
      "source": [
        "# Now we will do a function that given the feature occurence counts\n",
        "# returns a Bernoulli distribution of batch_shape=number of classes\n",
        "# and event_shape=number of features.\n",
        "\n",
        "def make_distributions(probs):\n",
        "    # shape (n_classes, n_words)\n",
        "    batch_of_bernoullis = tfd.Bernoulli(probs=probs)\n",
        "    dist = tfd.Independent(batch_of_bernoullis,\n",
        "        reinterpreted_batch_ndims=1)\n",
        "    return dist"
      ],
      "execution_count": null,
      "outputs": []
    },
    {
      "cell_type": "code",
      "metadata": {
        "id": "v3hnXUNRJLK2"
      },
      "source": [
        "# Function which computes the prior probability of every class\n",
        "# based on frequency of occurence in the dataset\n",
        "\n",
        "def class_priors(n_classes, labels):\n",
        "    counts = np.zeros(n_classes)\n",
        "    for c_k in range(n_classes):\n",
        "        counts[c_k] = np.sum(np.where(labels==c_k, 1, 0))\n",
        "    priors = counts / np.sum(counts)\n",
        "    print('The class priors are {}'.format(priors))\n",
        "    return priors"
      ],
      "execution_count": null,
      "outputs": []
    },
    {
      "cell_type": "code",
      "metadata": {
        "id": "JwDcgouFJLK2"
      },
      "source": [
        "# The final function predict_sample which given the distribution,\n",
        "# a test sample, and the class priors:\n",
        "#   1) Computes the class conditional probabilities given the sample\n",
        "#   2) Forms the joint likelihood\n",
        "#   3) Normalises the joint likelihood and returns the log prob\n",
        "\n",
        "def predict_sample(dist, sample, priors):\n",
        "    cond_probs = dist.log_prob(sample)\n",
        "    joint_likelihood = tf.add(\n",
        "        np.log(priors).astype('float32'), cond_probs)\n",
        "    norm_factor = tf.math.reduce_logsumexp(joint_likelihood,\n",
        "        axis=-1, keepdims=True)\n",
        "    log_prob = joint_likelihood - norm_factor\n",
        "\n",
        "    return log_prob"
      ],
      "execution_count": null,
      "outputs": []
    },
    {
      "cell_type": "code",
      "metadata": {
        "id": "7iRIpHceJLK2"
      },
      "source": [
        "# Now we learn the distribution using gradient tape\n",
        "\n",
        "def make_distribution_withGT(data, labels, nb_classes):\n",
        "\n",
        "    class_data = []\n",
        "    train_vars = []\n",
        "    distributions = []\n",
        "    for c in range(nb_classes):\n",
        "        train_vars.append(tf.Variable(initial_value=np.random.uniform(\n",
        "            low=0.01, high=0.1, size=data.shape[-1])))\n",
        "        distributions.append(tfd.Bernoulli(probs=train_vars[c]))\n",
        "        class_mask = (labels == c)\n",
        "        class_data.append(data[class_mask, :])\n",
        "\n",
        "    for c_num in range(0, nb_classes):\n",
        "        optimizer = tf.keras.optimizers.Adam()\n",
        "        print('\\n%-------------------%')\n",
        "        print('Class ', c_num)\n",
        "        print('%-------------------%')\n",
        "\n",
        "        for i in range(0, 100):\n",
        "            loss, grads = get_loss_and_grads(class_data[c_num],\n",
        "                distributions[c_num])\n",
        "            if(i%10==0):\n",
        "                print(\"iter: {} loss: {}\".format(i, loss))\n",
        "            optimizer.apply_gradients(zip(grads,\n",
        "                distributions[c_num].trainable_variables))\n",
        "            eta = 1e-3\n",
        "            clipped_probs = tf.clip_by_value(\n",
        "                distributions[c_num].trainable_variables,\n",
        "                clip_value_min=eta, clip_value_max=1)\n",
        "            train_vars[c_num] = tf.squeeze(clipped_probs)\n",
        "\n",
        "    dist = tfd.Bernoulli(probs=train_vars)\n",
        "    dist = tfd.Independent(dist, reinterpreted_batch_ndims=1)\n",
        "    print(dist)\n",
        "\n",
        "    return dist"
      ],
      "execution_count": null,
      "outputs": []
    },
    {
      "cell_type": "code",
      "metadata": {
        "id": "aqtk2Zm6JLK2",
        "colab": {
          "base_uri": "https://localhost:8080/"
        },
        "outputId": "60a1dfb0-6b77-4909-b5d0-f2266c92e373"
      },
      "source": [
        "# Make the same Naive Bayes classifier we did last tutorial\n",
        "\n",
        "categories = ['alt.atheism', 'talk.religion.misc',\n",
        "    'comp.graphics', 'sci.space']\n",
        "\n",
        "(train_data, train_labels), (test_data, test_labels) = get_data(\n",
        "    categories)\n",
        "\n",
        "smoothed_counts = laplace_smoothing(labels=train_labels,\n",
        "    binary_data=train_data, n_classes=len(categories))\n",
        "\n",
        "priors = class_priors(n_classes=len(categories),\n",
        "    labels=train_labels)\n",
        "tf_dist = make_distributions(smoothed_counts)\n",
        "print(tf_dist)"
      ],
      "execution_count": null,
      "outputs": [
        {
          "output_type": "stream",
          "name": "stdout",
          "text": [
            "The class priors are [0.2359882  0.28711898 0.29154376 0.18534907]\n",
            "tfp.distributions.Independent(\"IndependentBernoulli\", batch_shape=[4], event_shape=[17495], dtype=int32)\n"
          ]
        }
      ]
    },
    {
      "cell_type": "code",
      "metadata": {
        "id": "C5xEZDrWJLK2",
        "colab": {
          "base_uri": "https://localhost:8080/"
        },
        "outputId": "99ec6337-3547-4553-b695-24ace82fc77f"
      },
      "source": [
        "# Now train the distributions with gradient tape\n",
        "\n",
        "GT_dist = make_distribution_withGT(data=train_data,\n",
        "    labels=train_labels, nb_classes=4)"
      ],
      "execution_count": null,
      "outputs": [
        {
          "output_type": "stream",
          "name": "stdout",
          "text": [
            "\n",
            "%-------------------%\n",
            "Class  0\n",
            "%-------------------%\n",
            "iter: 0 loss: 0.07852591755111582\n",
            "iter: 10 loss: 0.06916185699234849\n",
            "iter: 20 loss: 0.060432337202760734\n",
            "iter: 30 loss: 0.052370340256652444\n",
            "iter: 40 loss: 0.044922184323267576\n",
            "iter: 50 loss: 0.03802310051771475\n",
            "iter: 60 loss: 0.03162663809275966\n",
            "iter: 70 loss: 0.025706826447779725\n",
            "iter: 80 loss: 0.020228533617685805\n",
            "iter: 90 loss: 0.015139006604859876\n",
            "\n",
            "%-------------------%\n",
            "Class  1\n",
            "%-------------------%\n",
            "iter: 0 loss: 0.07132396010776325\n",
            "iter: 10 loss: 0.06200110870730263\n",
            "iter: 20 loss: 0.05323224798344054\n",
            "iter: 30 loss: 0.04508195649771275\n",
            "iter: 40 loss: 0.03751459080289972\n",
            "iter: 50 loss: 0.030499545122657463\n",
            "iter: 60 loss: 0.024017306287726338\n",
            "iter: 70 loss: 0.018041716807340367\n",
            "iter: 80 loss: 0.012525383658394637\n",
            "iter: 90 loss: 0.007424641769834617\n",
            "\n",
            "%-------------------%\n",
            "Class  2\n",
            "%-------------------%\n",
            "iter: 0 loss: 0.07860530164225447\n",
            "iter: 10 loss: 0.06950506232148151\n",
            "iter: 20 loss: 0.06113109673593187\n",
            "iter: 30 loss: 0.05349175785086605\n",
            "iter: 40 loss: 0.04654962057004396\n",
            "iter: 50 loss: 0.040255504009700335\n",
            "iter: 60 loss: 0.034563674796518305\n",
            "iter: 70 loss: 0.02942837062814901\n",
            "iter: 80 loss: 0.024824716737738662\n",
            "iter: 90 loss: 0.02067515544600386\n",
            "\n",
            "%-------------------%\n",
            "Class  3\n",
            "%-------------------%\n",
            "iter: 0 loss: 0.07983720397773784\n",
            "iter: 10 loss: 0.07058092584845074\n",
            "iter: 20 loss: 0.061967354766718975\n",
            "iter: 30 loss: 0.05399682110603035\n",
            "iter: 40 loss: 0.046611362202747746\n",
            "iter: 50 loss: 0.039757108112255704\n",
            "iter: 60 loss: 0.033398113028724086\n",
            "iter: 70 loss: 0.02749916377922631\n",
            "iter: 80 loss: 0.022008013618863762\n",
            "iter: 90 loss: 0.016880200790775134\n",
            "tfp.distributions.Independent(\"IndependentBernoulli\", batch_shape=[4], event_shape=[17495], dtype=int32)\n"
          ]
        }
      ]
    },
    {
      "cell_type": "code",
      "metadata": {
        "id": "d100cO00JLK2",
        "colab": {
          "base_uri": "https://localhost:8080/"
        },
        "outputId": "9458806c-f407-476a-8136-5aabcb4da9dd"
      },
      "source": [
        "# Compare the two results\n",
        "\n",
        "for dist in [GT_dist, tf_dist]:\n",
        "    probabilities = []\n",
        "    for sample, label in zip(test_data, test_labels):\n",
        "        probabilities.append(predict_sample(dist, sample, priors))\n",
        "\n",
        "    probabilities = np.asarray(probabilities)\n",
        "    predicted_classes = np.argmax(probabilities, axis=-1)\n",
        "    print('f1 ', f1_score(test_labels, predicted_classes,\n",
        "        average='macro'))"
      ],
      "execution_count": null,
      "outputs": [
        {
          "output_type": "stream",
          "name": "stdout",
          "text": [
            "f1  0.8277298945934904\n",
            "f1  0.7848499112849504\n"
          ]
        }
      ]
    }
  ]
}