{
  "cells": [
    {
      "cell_type": "markdown",
      "metadata": {
        "id": "view-in-github",
        "colab_type": "text"
      },
      "source": [
        "<a href=\"https://colab.research.google.com/github/MengOonLee/Deep_learning/blob/master/TensorFlow/Probabilistic/Bayesian/MNIST.ipynb\" target=\"_parent\"><img src=\"https://colab.research.google.com/assets/colab-badge.svg\" alt=\"Open In Colab\"/></a>"
      ]
    },
    {
      "cell_type": "markdown",
      "metadata": {
        "id": "uOj-hhnuKVgh"
      },
      "source": [
        "# Programming Assignment"
      ]
    },
    {
      "cell_type": "markdown",
      "metadata": {
        "id": "_TowuSboKVgo"
      },
      "source": [
        "## Bayesian convolutional neural network"
      ]
    },
    {
      "cell_type": "markdown",
      "metadata": {
        "id": "2ED_Yxf5KVgq"
      },
      "source": [
        "### Instructions\n",
        "\n",
        "In this notebook, you will create a Bayesian convolutional neural network to classify the famous MNIST handwritten digits. This will be a probabilistic model, designed to capture both aleatoric and epistemic uncertainty. You will test the uncertainty quantifications against a corrupted version of the dataset.\n",
        "\n",
        "Some code cells are provided for you in the notebook. You should avoid editing provided code, and make sure to execute the cells in order to avoid unexpected errors. Some cells begin with the line:\n",
        "\n",
        "`#### GRADED CELL ####`\n",
        "\n",
        "Don't move or edit this first line - this is what the automatic grader looks for to recognise graded cells. These cells require you to write your own code to complete them, and are automatically graded when you submit the notebook. Don't edit the function name or signature provided in these cells, otherwise the automatic grader might not function properly.\n",
        "\n",
        "### How to submit\n",
        "\n",
        "Complete all the tasks you are asked for in the worksheet. When you have finished and are happy with your code, press the **Submit Assignment** button at the top of this notebook.\n",
        "\n",
        "### Let's get started!\n",
        "\n",
        "We'll start running some imports, and loading the dataset. Do not edit the existing imports in the following cell. If you would like to make further Tensorflow imports, you should add them here."
      ]
    },
    {
      "cell_type": "code",
      "execution_count": null,
      "metadata": {
        "id": "c1IQ3IrRKVgr"
      },
      "outputs": [],
      "source": [
        "#### PACKAGE IMPORTS ####\n",
        "\n",
        "# Run this cell first to import all required packages. Do not make any imports elsewhere in the notebook\n",
        "\n",
        "import tensorflow as tf\n",
        "import tensorflow_probability as tfp\n",
        "import os\n",
        "import numpy as np\n",
        "import matplotlib.pyplot as plt\n",
        "\n",
        "from tensorflow.keras.models import Sequential\n",
        "from tensorflow.keras.layers import Dense, Flatten, Conv2D, MaxPooling2D\n",
        "from tensorflow.keras.losses import SparseCategoricalCrossentropy\n",
        "from tensorflow.keras.optimizers import RMSprop\n",
        "\n",
        "tfd = tfp.distributions\n",
        "tfpl = tfp.layers\n",
        "\n",
        "# If you would like to make further imports from tensorflow, add them here\n"
      ]
    },
    {
      "cell_type": "markdown",
      "metadata": {
        "id": "yAt1giUcKVgt"
      },
      "source": [
        "![MNIST and MNIST-corrupted overview image](https://github.com/MengOonLee/Deep_learning/blob/master/TensorFlow/Probabilistic/Bayesian/figures/mnist_corrupted.png?raw=1)\n",
        "\n",
        "#### The MNIST and MNIST-C datasets\n",
        "\n",
        "In this assignment, you will use the [MNIST](http://yann.lecun.com/exdb/mnist/) and [MNIST-C](https://github.com/google-research/mnist-c) datasets, which both consist of a training set of 60,000 handwritten digits with corresponding labels, and a test set of 10,000 images. The images have been normalised and centred. The MNIST-C dataset is a corrupted version of the MNIST dataset, to test out-of-distribution robustness of computer vision models.\n",
        "\n",
        "- Y. LeCun, L. Bottou, Y. Bengio, and P. Haffner. \"Gradient-based learning applied to document recognition.\" Proceedings of the IEEE, 86(11):2278-2324, November 1998.\n",
        "- N. Mu and J. Gilmeer. \"MNIST-C: A Robustness Benchmark for Computer Vision\" https://arxiv.org/abs/1906.02337\n",
        "\n",
        "Your goal is to construct a neural network that classifies images of handwritten digits into one of 10 classes."
      ]
    },
    {
      "cell_type": "markdown",
      "metadata": {
        "id": "CvBMiC5qKVgu"
      },
      "source": [
        "#### Load the datasets\n",
        "\n",
        "We'll start by importing two datasets. The first is the MNIST dataset of handwritten digits, and the second is the MNIST-C dataset, which is a corrupted version of the MNIST dataset. This dataset is available on [TensorFlow datasets](https://www.tensorflow.org/datasets/catalog/mnist_corrupted). We'll be using the dataset with \"spatters\". We will load and inspect the datasets below. We'll use the notation `_c` to denote `corrupted`. The images are the same as in the original MNIST, but are \"corrupted\" by some grey spatters."
      ]
    },
    {
      "cell_type": "code",
      "execution_count": 1,
      "metadata": {
        "id": "wgCv3LSKKVgv"
      },
      "outputs": [],
      "source": [
        "# Function to load training and testing data, with labels in integer and one-hot form\n",
        "import os\n",
        "import numpy as np\n",
        "import tensorflow as tf\n",
        "tf.keras.utils.set_random_seed(seed=42)\n",
        "\n",
        "def load_data(name):\n",
        "    data_dir = name\n",
        "    x_train = 1 - np.load(file=os.path.join(data_dir, 'x_train.npy')) / 255.\n",
        "    x_train = x_train.astype(np.float32)\n",
        "    y_train = np.load(file=os.path.join(data_dir, 'y_train.npy'))\n",
        "    y_train_oh = tf.keras.utils.to_categorical(x=y_train)\n",
        "    x_test = 1 - np.load(file=os.path.join(data_dir, 'x_test.npy')) / 255.\n",
        "    x_test = x_test.astype(np.float32)\n",
        "    y_test = np.load(file=os.path.join(data_dir, 'y_test.npy'))\n",
        "    y_test_oh = tf.keras.utils.to_categorical(x=y_test)\n",
        "    return (x_train, y_train, y_train_oh), (x_test, y_test, y_test_oh)"
      ]
    },
    {
      "cell_type": "code",
      "execution_count": 2,
      "metadata": {
        "id": "jUPTqbq4KVgw"
      },
      "outputs": [],
      "source": [
        "# Function to inspect dataset digits\n",
        "import matplotlib.pyplot as plt\n",
        "\n",
        "def inspect_images(data, num_images):\n",
        "    fig, ax = plt.subplots(nrows=1, ncols=num_images, figsize=(2*num_images, 2))\n",
        "    for i in range(num_images):\n",
        "        ax[i].imshow(X=data[i, ..., 0], cmap='gray')\n",
        "        ax[i].axis('off')\n",
        "    plt.show()"
      ]
    },
    {
      "cell_type": "code",
      "execution_count": 3,
      "metadata": {
        "colab": {
          "base_uri": "https://localhost:8080/",
          "height": 113
        },
        "id": "Pl70qfpyKVgx",
        "outputId": "a7f1dde1-041c-417d-a1d4-e98e043dec84"
      },
      "outputs": [
        {
          "output_type": "display_data",
          "data": {
            "text/plain": [
              "<Figure size 1600x200 with 8 Axes>"
            ],
            "image/png": "[encoded data removed]"
          },
          "metadata": {}
        }
      ],
      "source": [
        "# Load and inspect the MNIST dataset\n",
        "\n",
        "(x_train, y_train, y_train_oh), (x_test, y_test, y_test_oh) = \\\n",
        "    load_data(name='MNIST')\n",
        "inspect_images(data=x_train, num_images=8)"
      ]
    },
    {
      "cell_type": "code",
      "execution_count": 4,
      "metadata": {
        "colab": {
          "base_uri": "https://localhost:8080/",
          "height": 113
        },
        "id": "Vv7Nfc6NKVgz",
        "outputId": "8383f3a9-32e4-483e-e1fc-3de7ddea9bd0"
      },
      "outputs": [
        {
          "output_type": "display_data",
          "data": {
            "text/plain": [
              "<Figure size 1600x200 with 8 Axes>"
            ],
            "image/png": "[encoded data removed]"
          },
          "metadata": {}
        }
      ],
      "source": [
        "# Load and inspect the MNIST-C dataset\n",
        "\n",
        "(x_c_train, y_c_train, y_c_train_oh), (x_c_test, y_c_test, y_c_test_oh) = \\\n",
        "    load_data(name='MNIST_corrupted')\n",
        "inspect_images(data=x_c_train, num_images=8)"
      ]
    },
    {
      "cell_type": "markdown",
      "metadata": {
        "id": "gK-DRA-dKVg0"
      },
      "source": [
        "#### Create the deterministic model\n",
        "\n",
        "We will first train a standard deterministic CNN classifier model as a base model before implementing the probabilistic and Bayesian neural networks. You should now build the deterministic model using the Sequential API according to the following specifications:\n",
        "\n",
        "* The first layer should be Conv2D layer with 8 filters, 5x5 kernel size, ReLU activation and `'VALID'` padding.\n",
        "    * This layer should set the `input_shape` according to the function argument\n",
        "* The second layer should be a MaxPooling2D layer with a 6x6 window size.\n",
        "* The third layer should be a Flatten layer\n",
        "* The final layer should be a Dense layer with 10 units and softmax activation\n",
        "\n",
        "In total, the network should have 4 layers.\n",
        "\n",
        "The model should then be compiled with the loss function, optimiser and list of metrics supplied in the function arguments."
      ]
    },
    {
      "cell_type": "code",
      "execution_count": 5,
      "metadata": {
        "id": "LtLuyraVKVg0"
      },
      "outputs": [],
      "source": [
        "#### GRADED CELL ####\n",
        "\n",
        "# Complete the following function.\n",
        "# Make sure to not change the function name or arguments.\n",
        "import tf_keras\n",
        "import tensorflow as tf\n",
        "tf.keras.utils.set_random_seed(seed=42)\n",
        "\n",
        "def get_deterministic_model(input_shape, loss, optimizer, metrics):\n",
        "    \"\"\"\n",
        "    This function should build and compile a CNN model according to the above specification.\n",
        "    The function takes input_shape, loss, optimizer and metrics as arguments, which should be\n",
        "    used to define and compile the model.\n",
        "    Your function should return the compiled model.\n",
        "    \"\"\"\n",
        "\n",
        "    model = tf_keras.Sequential(layers=[\n",
        "        tf_keras.Input(shape=input_shape),\n",
        "        tf_keras.layers.Conv2D(filters=8, kernel_size=(5, 5), padding='VALID',\n",
        "            activation=tf.keras.activations.relu),\n",
        "        tf_keras.layers.MaxPooling2D(pool_size=(6, 6)),\n",
        "        tf_keras.layers.Flatten(),\n",
        "        tf_keras.layers.Dense(units=10, activation=tf.keras.activations.softmax)\n",
        "    ])\n",
        "    model.compile(loss=loss, optimizer=optimizer, metrics=metrics)\n",
        "    return model"
      ]
    },
    {
      "cell_type": "code",
      "execution_count": 6,
      "metadata": {
        "id": "YQUTfPzzKVg1"
      },
      "outputs": [],
      "source": [
        "# Run your function to get the benchmark model\n",
        "\n",
        "deterministic_model = get_deterministic_model(input_shape=(28, 28, 1),\n",
        "    loss=tf_keras.losses.SparseCategoricalCrossentropy(),\n",
        "    optimizer=tf_keras.optimizers.RMSprop(),\n",
        "    metrics=[tf_keras.metrics.SparseCategoricalAccuracy()]\n",
        ")"
      ]
    },
    {
      "cell_type": "code",
      "execution_count": 7,
      "metadata": {
        "colab": {
          "base_uri": "https://localhost:8080/"
        },
        "id": "LC-iEVuBKVg2",
        "outputId": "39e3018d-57a4-4ea0-faf9-6398baeabb69"
      },
      "outputs": [
        {
          "output_type": "stream",
          "name": "stdout",
          "text": [
            "Model: \"sequential\"\n",
            "_________________________________________________________________\n",
            " Layer (type)                Output Shape              Param #   \n",
            "=================================================================\n",
            " conv2d (Conv2D)             (None, 24, 24, 8)         208       \n",
            "                                                                 \n",
            " max_pooling2d (MaxPooling2  (None, 4, 4, 8)           0         \n",
            " D)                                                              \n",
            "                                                                 \n",
            " flatten (Flatten)           (None, 128)               0         \n",
            "                                                                 \n",
            " dense (Dense)               (None, 10)                1290      \n",
            "                                                                 \n",
            "=================================================================\n",
            "Total params: 1498 (5.85 KB)\n",
            "Trainable params: 1498 (5.85 KB)\n",
            "Non-trainable params: 0 (0.00 Byte)\n",
            "_________________________________________________________________\n"
          ]
        }
      ],
      "source": [
        "# Print the model summary\n",
        "\n",
        "deterministic_model.summary()"
      ]
    },
    {
      "cell_type": "code",
      "execution_count": null,
      "metadata": {
        "colab": {
          "base_uri": "https://localhost:8080/"
        },
        "id": "Sgnv4jC7KVg3",
        "outputId": "a381dea1-f186-468a-e3a7-8bfad34fad36"
      },
      "outputs": [
        {
          "output_type": "stream",
          "name": "stdout",
          "text": [
            "Epoch 1/5\n",
            "1875/1875 [==============================] - 22s 12ms/step - loss: 0.5555 - sparse_categorical_accuracy: 0.8511\n",
            "Epoch 2/5\n",
            "1875/1875 [==============================] - 22s 12ms/step - loss: 0.1409 - sparse_categorical_accuracy: 0.9574\n",
            "Epoch 3/5\n",
            "1875/1875 [==============================] - 21s 11ms/step - loss: 0.1100 - sparse_categorical_accuracy: 0.9656\n",
            "Epoch 4/5\n",
            "1875/1875 [==============================] - 22s 12ms/step - loss: 0.0966 - sparse_categorical_accuracy: 0.9700\n",
            "Epoch 5/5\n",
            " 137/1875 [=>............................] - ETA: 18s - loss: 0.0873 - sparse_categorical_accuracy: 0.9760"
          ]
        }
      ],
      "source": [
        "# Train the model\n",
        "\n",
        "deterministic_model.fit(x=x_train, y=y_train, epochs=5)"
      ]
    },
    {
      "cell_type": "code",
      "execution_count": null,
      "metadata": {
        "id": "h3M2jYdTKVg3"
      },
      "outputs": [],
      "source": [
        "# Evaluate the model\n",
        "\n",
        "print('Accuracy on MNIST test set: ', str(deterministic_model.evaluate(\n",
        "    x=x_test, y=y_test, verbose=False)[1]))\n",
        "print('Accuracy on corrupted MNIST test set: ', str(deterministic_model.evaluate(\n",
        "    x=x_c_test, y=y_c_test, verbose=False)[1]))"
      ]
    },
    {
      "cell_type": "markdown",
      "metadata": {
        "id": "dM3Oh1u0KVg4"
      },
      "source": [
        "As you might expect, the pointwise performance on the corrupted MNIST set is worse. This makes sense, since this dataset is slightly different, and noisier, than the uncorrupted version. Furthermore, the model was trained on the uncorrupted MNIST data, so has no experience with the spatters."
      ]
    },
    {
      "cell_type": "markdown",
      "metadata": {
        "id": "csPLLDbUKVg4"
      },
      "source": [
        "### Probabilistic CNN model\n",
        "\n",
        "You'll start by turning this deterministic network into a probabilistic one, by letting the model output a distribution instead of a deterministic tensor. This model will capture the aleatoric uncertainty on the image labels. You will do this by adding a probabilistic layer to the end of the model and training using the negative loglikelihood.\n",
        "\n",
        "You should first define the negative loss likelihood loss function below. This function has arguments `y_true` for the correct label (as a one-hot vector), and `y_pred` as the model prediction (a `OneHotCategorical` distribution). It should return the negative log-likelihood of each sample in `y_true` given the predicted distribution `y_pred`. If `y_true` is of shape `[B, E]` and `y_pred` has batch shape `[B]` and event shape `[E]`, the output should be a Tensor of shape `[B]`."
      ]
    },
    {
      "cell_type": "code",
      "execution_count": null,
      "metadata": {
        "id": "HCEWLs65KVg4"
      },
      "outputs": [],
      "source": [
        "#### GRADED CELL ####\n",
        "\n",
        "# Complete the following functions.\n",
        "# Make sure to not change the function name or arguments.\n",
        "\n",
        "def nll(y_true, y_pred):\n",
        "    \"\"\"\n",
        "    This function should return the negative log-likelihood of each sample\n",
        "    in y_true given the predicted distribution y_pred. If y_true is of shape\n",
        "    [B, E] and y_pred has batch shape [B] and event_shape [E], the output\n",
        "    should be a Tensor of shape [B].\n",
        "    \"\"\"\n",
        "    return -y_pred.log_prob(value=y_true)"
      ]
    },
    {
      "cell_type": "markdown",
      "metadata": {
        "id": "oAMzB8_6KVg5"
      },
      "source": [
        "You should now build your probabilistic model according to the following specification:\n",
        "\n",
        "* The first three layers are the same as for the deterministic model above\n",
        "* The fourth layer should be a Dense layer with no activation function, and the correct number of units needed to parameterise the probabilistic layer that follows\n",
        "* The final layer should be a probabilistic layer that outputs a `OneHotCategorical` distribution with an event shape of `[10]`, corresponding to the 10 digits\n",
        "* The `convert_to_tensor_fn` in the categorical layer should be set to the mode\n",
        "\n",
        "In total, your model should have 5 layers.\n",
        "\n",
        "The model should then be compiled with the loss function, optimiser and list of metrics supplied in the function arguments."
      ]
    },
    {
      "cell_type": "code",
      "execution_count": null,
      "metadata": {
        "scrolled": true,
        "id": "V-GQTDkFKVg5"
      },
      "outputs": [],
      "source": [
        "#### GRADED CELL ####\n",
        "\n",
        "# Complete the following functions.\n",
        "# Make sure to not change the function name or arguments.\n",
        "import tf_keras\n",
        "import tensorflow as tf\n",
        "import tensorflow_probability as tfp\n",
        "tf.keras.utils.set_random_seed(seed=42)\n",
        "\n",
        "def get_probabilistic_model(input_shape, loss, optimizer, metrics):\n",
        "    \"\"\"\n",
        "    This function should return the probabilistic model according to the\n",
        "    above specification.\n",
        "    The function takes input_shape, loss, optimizer and metrics as arguments, which should be\n",
        "    used to define and compile the model.\n",
        "    Your function should return the compiled model.\n",
        "    \"\"\"\n",
        "\n",
        "    event_size = 10\n",
        "    model = tf_keras.Sequential(layers=[\n",
        "        tf_keras.Input(shape=input_shape),\n",
        "        tf_keras.layers.Conv2D(filters=8, kernel_size=(5, 5), padding='VALID',\n",
        "            activation=tf.keras.activations.relu),\n",
        "        tf_keras.layers.MaxPooling2D(pool_size=(6, 6)),\n",
        "        tf_keras.layers.Flatten(),\n",
        "        tf_keras.layers.Dense(units=tfp.layers.OneHotCategorical.params_size(\n",
        "            event_size=event_size)),\n",
        "        tfp.layers.OneHotCategorical(event_size=event_size,\n",
        "            convert_to_tensor_fn=tfp.distributions.Distribution.mode)\n",
        "    ])\n",
        "    model.compile(loss=loss, optimizer=optimizer, metrics=metrics)\n",
        "    return model"
      ]
    },
    {
      "cell_type": "code",
      "execution_count": null,
      "metadata": {
        "id": "L_zN-nn5KVg5"
      },
      "outputs": [],
      "source": [
        "# Run your function to get the probabilistic model\n",
        "\n",
        "probabilistic_model = get_probabilistic_model(input_shape=(28, 28, 1),\n",
        "    loss=nll, optimizer=tf_keras.optimizers.RMSprop(),\n",
        "    metrics=[tf_keras.metrics.CategoricalAccuracy()]\n",
        ")"
      ]
    },
    {
      "cell_type": "code",
      "execution_count": null,
      "metadata": {
        "id": "PbS2iNW2KVg6"
      },
      "outputs": [],
      "source": [
        "# Print the model summary\n",
        "\n",
        "probabilistic_model.summary()"
      ]
    },
    {
      "cell_type": "markdown",
      "metadata": {
        "id": "6w_eZQH-KVg7"
      },
      "source": [
        "Now, you can train the probabilistic model on the MNIST data using the code below.\n",
        "\n",
        "Note that the target data now uses the one-hot version of the labels, instead of the sparse version. This is to match the categorical distribution you added at the end."
      ]
    },
    {
      "cell_type": "code",
      "execution_count": null,
      "metadata": {
        "id": "qS-XTanZKVg7"
      },
      "outputs": [],
      "source": [
        "# Train the model\n",
        "\n",
        "probabilistic_model.fit(x=x_train, y=y_train_oh, epochs=5)"
      ]
    },
    {
      "cell_type": "code",
      "execution_count": null,
      "metadata": {
        "id": "qie3jsWAKVg7"
      },
      "outputs": [],
      "source": [
        "# Evaluate the model\n",
        "\n",
        "print('Accuracy on MNIST test set: ', str(probabilistic_model.evaluate(\n",
        "    x=x_test, y=y_test_oh, verbose=False)[1]))\n",
        "print('Accuracy on corrupted MNIST test set: ', str(probabilistic_model.evaluate(\n",
        "    x=x_c_test, y=y_c_test_oh, verbose=False)[1]))"
      ]
    },
    {
      "cell_type": "markdown",
      "metadata": {
        "id": "E2aIbeGaKVg7"
      },
      "source": [
        "Note that the test accuracy of the probabilistic model is identical to the deterministic model. This is because the model architectures for both are equivalent; the only difference being that the probabilistic model returns a distribution object. Since we have also set the same random seed for both models, the trained variables are in fact identical, as the following cell shows."
      ]
    },
    {
      "cell_type": "code",
      "execution_count": null,
      "metadata": {
        "id": "B1fM-izQKVg7"
      },
      "outputs": [],
      "source": [
        "# Check all the weights of the deterministic and probabilistic models are identical\n",
        "import numpy as np\n",
        "\n",
        "for deterministic_variable, probabilistic_variable in zip(\n",
        "        deterministic_model.weights, probabilistic_model.weights):\n",
        "    print(np.allclose(a=deterministic_variable.numpy(),\n",
        "        b=probabilistic_variable.numpy()))"
      ]
    },
    {
      "cell_type": "markdown",
      "metadata": {
        "id": "EHBukJIxKVg8"
      },
      "source": [
        "#### Analyse the model predictions\n",
        "\n",
        "We will now do some deeper analysis by looking at the probabilities the model assigns to each class instead of its single prediction.\n",
        "\n",
        "The function below will be useful to help us analyse the probabilistic model predictions."
      ]
    },
    {
      "cell_type": "code",
      "execution_count": null,
      "metadata": {
        "id": "DWIEjBGIKVg8"
      },
      "outputs": [],
      "source": [
        "# Function to make plots of the probabilities that the model estimates for an image\n",
        "import numpy as np\n",
        "import matplotlib.pyplot as plt\n",
        "np.random.seed(seed=42)\n",
        "\n",
        "def analyse_model_prediction(data, true_labels, model, image_num, run_ensemble=False):\n",
        "    if run_ensemble:\n",
        "        ensemble_size = 200\n",
        "    else:\n",
        "        ensemble_size = 1\n",
        "    image = data[image_num]\n",
        "    true_label = true_labels[image_num, 0]\n",
        "    predicted_probabilities = np.empty(shape=(ensemble_size, 10))\n",
        "    for i in range(ensemble_size):\n",
        "        predicted_probabilities[i] = model(inputs=\n",
        "            image[np.newaxis, ...]).mean().numpy().squeeze()\n",
        "    model_prediction = model(inputs=image[np.newaxis, ...])\n",
        "    fig, (ax1, ax2) = plt.subplots(nrows=1, ncols=2, figsize=(10, 2),\n",
        "        gridspec_kw={'width_ratios': [2, 4]})\n",
        "\n",
        "    # Show the image and the true label\n",
        "    ax1.imshow(X=image[..., 0], cmap='gray')\n",
        "    ax1.axis('off')\n",
        "    ax1.set_title(label='True label: {}'.format(str(true_label)))\n",
        "\n",
        "    # Show a 95% prediction interval of model predicted probabilities\n",
        "    pct_2p5 = np.array([np.percentile(a=predicted_probabilities[:, i],\n",
        "        q=2.5) for i in range(10)])\n",
        "    pct_97p5 = np.array([np.percentile(a=predicted_probabilities[:, i],\n",
        "        q=97.5) for i in range(10)])\n",
        "    bar = ax2.bar(x=np.arange(10), height=pct_97p5, color='red')\n",
        "    bar[int(true_label)].set_color('green')\n",
        "    ax2.bar(x=np.arange(10), height=pct_2p5-0.02, color='white',\n",
        "        linewidth=1, edgecolor='white')\n",
        "    ax2.set_xticks(ticks=np.arange(10))\n",
        "    ax2.set_ylim([0, 1])\n",
        "    ax2.set_ylabel(ylabel='Probability')\n",
        "    ax2.set_title(label='Model estimated probabilities')\n",
        "    plt.show()"
      ]
    },
    {
      "cell_type": "code",
      "execution_count": null,
      "metadata": {
        "scrolled": true,
        "id": "CwRyQ6PgKVg8"
      },
      "outputs": [],
      "source": [
        "# Prediction examples on MNIST\n",
        "\n",
        "for i in [0, 1577]:\n",
        "    analyse_model_prediction(data=x_test, true_labels=y_test,\n",
        "        model=probabilistic_model, image_num=i)"
      ]
    },
    {
      "cell_type": "markdown",
      "metadata": {
        "id": "F3wqPTvVKVg9"
      },
      "source": [
        "The model is very confident that the first image is a 6, which is correct. For the second image, the model struggles, assigning nonzero probabilities to many different classes.\n",
        "\n",
        "Run the code below to do the same for 2 images from the corrupted MNIST test set."
      ]
    },
    {
      "cell_type": "code",
      "execution_count": null,
      "metadata": {
        "id": "OUh19h_gKVg9"
      },
      "outputs": [],
      "source": [
        "# Prediction examples on MNIST-C\n",
        "\n",
        "for i in [0, 3710]:\n",
        "    analyse_model_prediction(data=x_c_test, true_labels=y_c_test,\n",
        "        model=probabilistic_model, image_num=i)"
      ]
    },
    {
      "cell_type": "markdown",
      "metadata": {
        "id": "1GhUE4UjKVg9"
      },
      "source": [
        "The first is the same 6 as you saw above, but the second image is different. Notice how the model can still say with high certainty that the first image is a 6, but struggles for the second, assigning an almost uniform distribution to all possible labels.\n",
        "\n",
        "Finally, have a look at an image for which the model is very sure on MNIST data but very unsure on corrupted MNIST data:"
      ]
    },
    {
      "cell_type": "code",
      "execution_count": null,
      "metadata": {
        "id": "6Ejlhq_zKVg-"
      },
      "outputs": [],
      "source": [
        "# Prediction examples from both datasets\n",
        "\n",
        "for i in [9241]:\n",
        "    analyse_model_prediction(data=x_test, true_labels=y_test,\n",
        "        model=probabilistic_model, image_num=i)\n",
        "    analyse_model_prediction(data=x_c_test, true_labels=y_c_test,\n",
        "        model=probabilistic_model, image_num=i)"
      ]
    },
    {
      "cell_type": "markdown",
      "metadata": {
        "id": "GEAbE9VBKVg-"
      },
      "source": [
        "It's not surprising what's happening here: the spatters cover up most of the number. You would hope a model indicates that it's unsure here, since there's very little information to go by. This is exactly what's happened."
      ]
    },
    {
      "cell_type": "markdown",
      "metadata": {
        "id": "wVU9ExA_KVg-"
      },
      "source": [
        "#### Uncertainty quantification using entropy\n",
        "\n",
        "We can also make some analysis of the model's uncertainty across the full test set, instead of for individual values. One way to do this is to calculate the [entropy](https://en.wikipedia.org/wiki/Entropy_%28information_theory%29) of the distribution. The entropy is the expected information (or informally, the expected 'surprise') of a random variable, and is a measure of the uncertainty of the random variable. The entropy of the estimated probabilities for sample $i$ is defined as\n",
        "\n",
        "$$\n",
        "H_i = -\\sum_{j=1}^{10} p_{ij} \\text{log}_{2}(p_{ij})\n",
        "$$\n",
        "\n",
        "where $p_{ij}$ is the probability that the model assigns to sample $i$ corresponding to label $j$. The entropy as above is measured in _bits_. If the natural logarithm is used instead, the entropy is measured in _nats_.\n",
        "\n",
        "The key point is that the higher the value, the more unsure the model is. Let's see the distribution of the entropy of the model's predictions across the MNIST and corrupted MNIST test sets. The plots will be split between predictions the model gets correct and incorrect."
      ]
    },
    {
      "cell_type": "code",
      "execution_count": null,
      "metadata": {
        "id": "W6-kCXZMKVg_"
      },
      "outputs": [],
      "source": [
        "# Functions to plot the distribution of the information entropy across samples,\n",
        "# split into whether the model prediction is correct or incorrect\n",
        "import numpy as np\n",
        "np.random.seed(seed=42)\n",
        "import matplotlib.pyplot as plt\n",
        "\n",
        "def get_correct_indices(model, x, labels):\n",
        "    y_model = model(inputs=x)\n",
        "    correct = np.argmax(a=y_model.mean(), axis=1)==np.squeeze(a=labels)\n",
        "    correct_indices = [i for i in range(x.shape[0]) if correct[i]]\n",
        "    incorrect_indices = [i for i in range(x.shape[0]) if not correct[i]]\n",
        "    return correct_indices, incorrect_indices\n",
        "\n",
        "def plot_entropy_distribution(model, x, labels):\n",
        "    indices = get_correct_indices(model=model, x=x, labels=labels)\n",
        "    probs = model(inputs=x).mean().numpy()\n",
        "    entropy = -np.sum(a=probs * np.log2(probs), axis=1)\n",
        "    fig, axes = plt.subplots(nrows=1, ncols=2, figsize=(9, 3))\n",
        "    for i, category in zip(range(2), ['Correct', 'Incorrect']):\n",
        "        entropy_category = entropy[indices[i]]\n",
        "        mean_entropy = np.mean(a=entropy_category)\n",
        "        num_samples = entropy_category.shape[0]\n",
        "        title = category + f'ly labelled (%.1f%% of total)'%(\n",
        "            num_samples / x.shape[0] * 100)\n",
        "        axes[i].hist(x=entropy_category,\n",
        "            weights=(1/num_samples)*np.ones(shape=num_samples))\n",
        "        axes[i].annotate(text=f'Mean: %.3f bits'%(mean_entropy), xy=(0.4, 0.9),\n",
        "            ha='center')\n",
        "        axes[i].set_xlabel(xlabel='Entropy (bits)')\n",
        "        axes[i].set_ylim([0, 1])\n",
        "        axes[i].set_ylabel(ylabel='Probability')\n",
        "        axes[i].set_title(label=title)\n",
        "    plt.show()"
      ]
    },
    {
      "cell_type": "code",
      "execution_count": null,
      "metadata": {
        "id": "6UBX6eoaKVg_"
      },
      "outputs": [],
      "source": [
        "# Entropy plots for the MNIST dataset\n",
        "\n",
        "print('MNIST test set:')\n",
        "plot_entropy_distribution(model=probabilistic_model, x=x_test, labels=y_test)"
      ]
    },
    {
      "cell_type": "code",
      "execution_count": null,
      "metadata": {
        "id": "6tj9EnE5KVg_"
      },
      "outputs": [],
      "source": [
        "# Entropy plots for the MNIST-C dataset\n",
        "\n",
        "print('Corrupted MNIST test set:')\n",
        "plot_entropy_distribution(model=probabilistic_model, x=x_c_test, labels=y_c_test)"
      ]
    },
    {
      "cell_type": "markdown",
      "metadata": {
        "id": "ddQhkCb7KVhA"
      },
      "source": [
        "There are two main conclusions:\n",
        "- The model is more unsure on the predictions it got wrong: this means it \"knows\" when the prediction may be wrong.\n",
        "- The model is more unsure for the corrupted MNIST test than for the uncorrupted version. Futhermore, this is more pronounced for correct predictions than for those it labels incorrectly.\n",
        "\n",
        "In this way, the model seems to \"know\" when it is unsure. This is a great property to have in a machine learning model, and is one of the advantages of probabilistic modelling."
      ]
    },
    {
      "cell_type": "markdown",
      "metadata": {
        "id": "TjVWiFQ1KVhA"
      },
      "source": [
        "### Bayesian CNN model\n",
        "\n",
        "The probabilistic model you just created considered only aleatoric uncertainty, assigning probabilities to each image instead of deterministic labels. The model still had deterministic weights. However, as you've seen, there is also 'epistemic' uncertainty over the weights, due to uncertainty about the parameters that explain the training data.\n",
        "\n",
        "You'll now be adding weight uncertainty to the model you just created. Your new model will again have the following layers:\n",
        "- 2D convolution\n",
        "- Max pooling\n",
        "- Flatten\n",
        "- Dense\n",
        "- OneHotCategorical\n",
        "\n",
        "but where the convolutional and dense layers include weight uncertainty. You'll embed weight uncertainty as follows:\n",
        "- The 2D convolution layer will be replaced by a `Convolution2DReparameterization` layer\n",
        "- The Dense layer will be replaced by a `DenseVariational` layer."
      ]
    },
    {
      "cell_type": "markdown",
      "metadata": {
        "id": "aa-IY9t8KVhA"
      },
      "source": [
        "You should start by creating the convolutional layer in the function below. The function should return an instance of the `Convolution2DReparameterization` layer, according to the following specification:\n",
        "\n",
        "* The function takes the `input_shape` and `divergence_fn` as arguments\n",
        "* The layer should set the input shape in its constructor using the `input_shape` argument\n",
        "* This layer should have 8 filters, a kernel size of `(5, 5)`, a ReLU activation, and `\"VALID\"` padding\n",
        "* The prior for both the kernel and bias should be the standard `default_multivariate_normal_fn`, as seen in the coding tutorial\n",
        "* The posterior for each parameter in both the kernel and bias should be an independent normal distribution with trainable mean and variance (_hint: use the_ `default_mean_field_normal_fn`_)_\n",
        "* The divergence function should be set using the `divergence_fn` argument for both the kernel and the bias\n",
        "\n",
        "_HINT: Review the arguments you used in the coding tutorial on Reparameterization layers._"
      ]
    },
    {
      "cell_type": "code",
      "execution_count": null,
      "metadata": {
        "id": "dyWmH-1aKVhA"
      },
      "outputs": [],
      "source": [
        "#### GRADED CELL ####\n",
        "\n",
        "# Complete the following functions.\n",
        "# Make sure to not change the function name or arguments.\n",
        "import tf_keras\n",
        "import tensorflow as tf\n",
        "import tensorflow_probability as tfp\n",
        "tf.keras.utils.set_random_seed(seed=42)\n",
        "\n",
        "def get_convolutional_reparameterization_layer(divergence_fn):\n",
        "    \"\"\"\n",
        "    This function should create an instance of a Convolution2DReparameterization\n",
        "    layer according to the above specification.\n",
        "    The function takes the input_shape and divergence_fn as arguments, which should\n",
        "    be used to define the layer.\n",
        "    Your function should then return the layer instance.\n",
        "    \"\"\"\n",
        "\n",
        "    return tfp.layers.Convolution2DReparameterization(filters=8, kernel_size=(5, 5),\n",
        "        padding='VALID', activation=tf.keras.activations.relu,\n",
        "        kernel_prior_fn=tfp.layers.default_multivariate_normal_fn,\n",
        "        bias_prior_fn=tfp.layers.default_multivariate_normal_fn,\n",
        "        kernel_posterior_fn=tfp.layers.default_mean_field_normal_fn(),\n",
        "        bias_posterior_fn=tfp.layers.default_mean_field_normal_fn(),\n",
        "        kernel_divergence_fn=divergence_fn, bias_divergence_fn=divergence_fn\n",
        "    )"
      ]
    },
    {
      "cell_type": "markdown",
      "metadata": {
        "id": "cLbo4bLQKVhB"
      },
      "source": [
        "You'll use this function to create your model a little bit later on."
      ]
    },
    {
      "cell_type": "markdown",
      "metadata": {
        "id": "mWCXNb0LKVhB"
      },
      "source": [
        "#### Custom prior\n",
        "\n",
        "For the parameters of the `DenseVariational` layer, we will use a custom prior: the \"spike and slab\" (also called a *scale mixture prior*) distribution. This distribution has a density that is the weighted sum of two normally distributed ones: one with a standard deviation of 1 and one with a standard deviation of 10. In this way, it has a sharp spike around 0 (from the normal distribution with standard deviation 1), but is also more spread out towards far away values (from the normal distribution with standard deviation 10). The reason for using such a prior is that it is like a standard unit normal, but makes values far away from 0 more likely, allowing the model to explore a larger weight space. Run the code below to create a \"spike and slab\" distribution and plot its probability density function, compared with a standard unit normal."
      ]
    },
    {
      "cell_type": "code",
      "execution_count": null,
      "metadata": {
        "id": "UlKkkbtwKVhB"
      },
      "outputs": [],
      "source": [
        "# Function to define the spike and slab distribution\n",
        "import tf_keras\n",
        "import tensorflow as tf\n",
        "import tensorflow_probability as tfp\n",
        "tf.keras.utils.set_random_seed(seed=42)\n",
        "\n",
        "def spike_and_slab(event_shape, dtype):\n",
        "    return tfp.distributions.Mixture(name='spike_and_slab',\n",
        "        cat=tfp.distributions.Categorical(probs=[0.5, 0.5]),\n",
        "        components=[\n",
        "            tfp.distributions.Independent(distribution=tfp.distributions.Normal(\n",
        "                loc=tf.zeros(shape=event_shape, dtype=dtype),\n",
        "                scale=1.0*tf.ones(shape=event_shape, dtype=dtype)),\n",
        "            reinterpreted_batch_ndims=1),\n",
        "            tfp.distributions.Independent(distribution=tfp.distributions.Normal(\n",
        "                loc=tf.zeros(shape=event_shape, dtype=dtype),\n",
        "                scale=10.0*tf.ones(shape=event_shape, dtype=dtype)),\n",
        "            reinterpreted_batch_ndims=1)\n",
        "    ])"
      ]
    },
    {
      "cell_type": "code",
      "execution_count": null,
      "metadata": {
        "id": "4sMTlvMKKVhC"
      },
      "outputs": [],
      "source": [
        "# Plot the spike and slab distribution pdf\n",
        "import tensorflow_probability as tfp\n",
        "import numpy as np\n",
        "import matplotlib.pyplot as plt\n",
        "\n",
        "x_plot = np.linspace(start=-5, stop=5, num=1000)[..., np.newaxis]\n",
        "plt.figure(figsize=(6, 3))\n",
        "plt.plot(x_plot, tfp.distributions.Normal(loc=0, scale=1).prob(value=x_plot),\n",
        "    label='unit normal', linestyle='--')\n",
        "plt.plot(x_plot, spike_and_slab(event_shape=1, dtype=tf.float32).prob(value=x_plot),\n",
        "    label='spike and slab')\n",
        "plt.xlabel(xlabel='x')\n",
        "plt.ylabel(ylabel='Density')\n",
        "plt.legend()\n",
        "plt.show()"
      ]
    },
    {
      "cell_type": "markdown",
      "metadata": {
        "id": "PRrvlwn1KVhC"
      },
      "source": [
        "You should now complete the function below to create the prior distribution for the `DenseVariational` layer, using the spike and slab distribution above.\n",
        "\n",
        "* The function has the required signature for the `make_prior_fn` argument of the `DenseVariational` layer\n",
        "* The prior will have no trainable parameters\n",
        "* It should use the spike and slab distribution for both the kernel and the bias, setting the `dtype` according to the function argument\n",
        "* The distribution should have the correct event shape, according to the `kernel_size` and `bias_size` arguments\n",
        "* The function should return a callable, that returns the spike and slab distribution\n",
        "\n",
        "_Hints:_\n",
        "* _Refer to the lecture video and/or coding tutorial to review the_ `DenseVariational` _layer arguments_\n",
        "* _Use the_ `Sequential` _API with a_ `DistributionLambda` _layer to create the callable that is returned by the function_"
      ]
    },
    {
      "cell_type": "code",
      "execution_count": null,
      "metadata": {
        "id": "GYWVHnObKVhD"
      },
      "outputs": [],
      "source": [
        "#### GRADED CELL ####\n",
        "\n",
        "# Complete the following functions.\n",
        "# Make sure to not change the function name or arguments.\n",
        "import tf_keras\n",
        "import tensorflow as tf\n",
        "import tensorflow_probability as tfp\n",
        "tf.keras.utils.set_random_seed(seed=42)\n",
        "\n",
        "def get_prior(kernel_size, bias_size, dtype=None):\n",
        "    \"\"\"\n",
        "    This function should create the prior distribution, consisting of the\n",
        "    \"spike and slab\" distribution that is described above.\n",
        "    The distribution should be created using the kernel_size, bias_size and dtype\n",
        "    function arguments above.\n",
        "    The function should then return a callable, that returns the prior distribution.\n",
        "    \"\"\"\n",
        "\n",
        "    n = kernel_size + bias_size\n",
        "    return tf_keras.Sequential(layers=[\n",
        "        tfp.layers.DistributionLambda(make_distribution_fn=lambda _:\n",
        "            spike_and_slab(event_shape=n, dtype=dtype))\n",
        "    ])"
      ]
    },
    {
      "cell_type": "markdown",
      "metadata": {
        "id": "BHb6ID2KKVhD"
      },
      "source": [
        "You'll use this function when you create the `DenseVariational` layer later on."
      ]
    },
    {
      "cell_type": "markdown",
      "metadata": {
        "id": "P8pV0O1TKVhD"
      },
      "source": [
        "You should now complete the function below to create the variational posterior distribution for the `DenseVariational` layer. This distribution will be an independent Gaussian with trainable mean and standard deviation for each parameter in the layer.\n",
        "\n",
        "* The function has the required signature for the `make_posterior_fn` argument of the `DenseVariational` layer\n",
        "* The posterior will have 2 trainable variables for each layer parameter, one for the mean and one for the standard deviation\n",
        "* The distribution should have the correct event shape, according to the `kernel_size` and `bias_size` arguments\n",
        "* The function should return a callable, that returns the trainable independent Gaussian distribution\n",
        "\n",
        "_Hints:_\n",
        "* _Refer to the lecture video and/or coding tutorial to review the_ `DenseVariational` _layer arguments_\n",
        "* _Use the_ `Sequential` _API with a_ `VariableLayer` and an `IndependentNormal` _layer to create the callable that is returned by the function_"
      ]
    },
    {
      "cell_type": "code",
      "execution_count": null,
      "metadata": {
        "id": "zOzKgKkdKVhD"
      },
      "outputs": [],
      "source": [
        "#### GRADED CELL ####\n",
        "\n",
        "# Complete the following functions.\n",
        "# Make sure to not change the function name or arguments.\n",
        "import tf_keras\n",
        "import tensorflow as tf\n",
        "import tensorflow_probability as tfp\n",
        "tf.keras.utils.set_random_seed(seed=42)\n",
        "\n",
        "def get_posterior(kernel_size, bias_size, dtype=None):\n",
        "    \"\"\"\n",
        "    This function should create the posterior distribution as specified above.\n",
        "    The distribution should be created using the kernel_size, bias_size and dtype\n",
        "    function arguments above.\n",
        "    The function should then return a callable, that returns the posterior distribution.\n",
        "    \"\"\"\n",
        "\n",
        "    n = kernel_size + bias_size\n",
        "    return tf_keras.Sequential(layers=[\n",
        "        tfp.layers.VariableLayer(dtype=dtype,\n",
        "            shape=tfp.layers.IndependentNormal.params_size(event_shape=n)),\n",
        "        tfp.layers.IndependentNormal(event_shape=n)\n",
        "    ])"
      ]
    },
    {
      "cell_type": "markdown",
      "metadata": {
        "id": "uPUiJwUmKVhE"
      },
      "source": [
        "You should now use your `prior` and `posterior` functions to complete the function below to create the `DenseVariational` layer.\n",
        "\n",
        "* The function has `prior_fn`, `posterior_fn` and `kl_weight` arguments, to be used in the constructor of the `DenseVariational` layer\n",
        "* The layer should have the correct number of units in order to parameterize a `OneHotCategorical` layer with 10 categories\n",
        "* The `make_prior_fn`, `make_posterior_fn` and `kl_weight` arguments should be set with the corresponding function arguments\n",
        "* An exact KL-divergence is unavailable for this choice of prior and posterior, so the layer should not attempt to use an analytical expression for this\n",
        "* Your function should then return an instance of the `DenseVariational` layer"
      ]
    },
    {
      "cell_type": "code",
      "execution_count": null,
      "metadata": {
        "id": "SMFXcjBHKVhE"
      },
      "outputs": [],
      "source": [
        "#### GRADED CELL ####\n",
        "\n",
        "# Complete the following functions.\n",
        "# Make sure to not change the function name or arguments.\n",
        "import tf_keras\n",
        "import tensorflow as tf\n",
        "import tensorflow_probability as tfp\n",
        "tf.keras.utils.set_random_seed(seed=42)\n",
        "\n",
        "def get_dense_variational_layer(prior_fn, posterior_fn, kl_weight):\n",
        "    \"\"\"\n",
        "    This function should create an instance of a DenseVariational layer according\n",
        "    to the above specification.\n",
        "    The function takes the prior_fn, posterior_fn and kl_weight as arguments, which should\n",
        "    be used to define the layer.\n",
        "    Your function should then return the layer instance.\n",
        "    \"\"\"\n",
        "\n",
        "    event_size = 10\n",
        "    return tfp.layers.DenseVariational(\n",
        "        units=tfp.layers.OneHotCategorical.params_size(event_size=event_size),\n",
        "        make_prior_fn=prior_fn, make_posterior_fn=posterior_fn,\n",
        "        kl_weight=kl_weight, kl_use_exact=False)"
      ]
    },
    {
      "cell_type": "markdown",
      "metadata": {
        "id": "ymlwp1JXKVhE"
      },
      "source": [
        "Now, you're ready to use the functions you defined to create the convolutional reparameterization and dense variational layers, and use them in your Bayesian convolutional neural network model."
      ]
    },
    {
      "cell_type": "code",
      "execution_count": null,
      "metadata": {
        "id": "NuD1jeAOKVhE"
      },
      "outputs": [],
      "source": [
        "# Create the layers\n",
        "import tensorflow as tf\n",
        "import tensorflow_probability as tfp\n",
        "tf.keras.utils.set_random_seed(seed=42)\n",
        "\n",
        "divergence_fn = lambda q, p, _ : tfp.distributions.kl_divergence(\n",
        "    distribution_a=q, distribution_b=p) / x_train.shape[0]\n",
        "convolutional_reparameterization_layer = get_convolutional_reparameterization_layer(\n",
        "    divergence_fn=divergence_fn)\n",
        "dense_variational_layer = get_dense_variational_layer(prior_fn=get_prior,\n",
        "    posterior_fn=get_posterior, kl_weight=1/x_train.shape[0])"
      ]
    },
    {
      "cell_type": "code",
      "execution_count": null,
      "metadata": {
        "id": "Jz5bm-4IKVhF"
      },
      "outputs": [],
      "source": [
        "# Build and compile the Bayesian CNN model\n",
        "import tf_keras\n",
        "import tensorflow as tf\n",
        "import tensorflow_probability as tfp\n",
        "tf.keras.utils.set_random_seed(seed=42)\n",
        "\n",
        "event_size = 10\n",
        "bayesian_model = tf_keras.Sequential(layers=[\n",
        "    tf_keras.Input(shape=(28, 28, 1)),\n",
        "    convolutional_reparameterization_layer,\n",
        "    tf_keras.layers.MaxPooling2D(pool_size=(6, 6)),\n",
        "    tf_keras.layers.Flatten(),\n",
        "    dense_variational_layer,\n",
        "    tfp.layers.OneHotCategorical(event_size=event_size,\n",
        "        convert_to_tensor_fn=tfp.distributions.Distribution.mode)\n",
        "])\n",
        "bayesian_model.compile(\n",
        "    loss=nll,\n",
        "    optimizer=tf_keras.optimizers.RMSprop(),\n",
        "    metrics=[tf_keras.metrics.CategoricalAccuracy()]\n",
        ")"
      ]
    },
    {
      "cell_type": "code",
      "execution_count": null,
      "metadata": {
        "id": "BZ7Q2BF-KVhF"
      },
      "outputs": [],
      "source": [
        "# Print the model summary\n",
        "\n",
        "bayesian_model.summary()"
      ]
    },
    {
      "cell_type": "code",
      "execution_count": null,
      "metadata": {
        "id": "MLNtMLolKVhF"
      },
      "outputs": [],
      "source": [
        "# Train the model\n",
        "\n",
        "bayesian_model.fit(x=x_train, y=y_train_oh, epochs=10)"
      ]
    },
    {
      "cell_type": "code",
      "execution_count": null,
      "metadata": {
        "id": "UtcxX-9pKVhG"
      },
      "outputs": [],
      "source": [
        "# Evaluate the model\n",
        "\n",
        "print('Accuracy on MNIST test set: ', str(bayesian_model.evaluate(\n",
        "    x=x_test, y=y_test_oh, verbose=False)[1]))\n",
        "print('Accuracy on corrupted MNIST test set: ', str(bayesian_model.evaluate(\n",
        "    x=x_c_test, y=y_c_test_oh, verbose=False)[1]))"
      ]
    },
    {
      "cell_type": "markdown",
      "metadata": {
        "id": "zCMFeq1QKVhG"
      },
      "source": [
        "#### Analyse the model predictions\n",
        "\n",
        "Now that the model has trained, run the code below to create the same plots as before, starting with an analysis of the predicted probabilities for the same images.\n",
        "\n",
        "This model now has weight uncertainty, so running the forward pass multiple times will not generate the same estimated probabilities. For this reason, the estimated probabilities do not have single values. The plots are adjusted to show a 95% prediction interval for the model's estimated probabilities."
      ]
    },
    {
      "cell_type": "code",
      "execution_count": null,
      "metadata": {
        "scrolled": true,
        "id": "46mtDpRBKVhG"
      },
      "outputs": [],
      "source": [
        "# Prediction examples on MNIST\n",
        "\n",
        "for i in [0, 1577]:\n",
        "    analyse_model_prediction(data=x_test, true_labels=y_test,\n",
        "        model=bayesian_model, image_num=i, run_ensemble=True)"
      ]
    },
    {
      "cell_type": "markdown",
      "metadata": {
        "id": "MVgn2tXsKVhG"
      },
      "source": [
        "For the first image, the model assigns a probability of almost one for the 6 label. Furthermore, it is confident in this probability: this probability remains close to one for every sample from the posterior weight distribution (as seen by the horizontal green line having very small height, indicating a narrow prediction interval). This means that the epistemic uncertainty on this probability is very low.\n",
        "\n",
        "For the second image, the epistemic uncertainty on the probabilities is much larger, which indicates that the estimated probabilities may be unreliable. In this way, the model indicates whether estimates may be inaccurate."
      ]
    },
    {
      "cell_type": "code",
      "execution_count": null,
      "metadata": {
        "id": "zKDACeTgKVhG"
      },
      "outputs": [],
      "source": [
        "# Prediction examples on MNIST-C\n",
        "\n",
        "for i in [0, 3710]:\n",
        "    analyse_model_prediction(data=x_c_test, true_labels=y_c_test,\n",
        "        model=bayesian_model, image_num=i, run_ensemble=True)"
      ]
    },
    {
      "cell_type": "markdown",
      "metadata": {
        "id": "hWPuvua2KVhG"
      },
      "source": [
        "Even with the spatters, the Bayesian model is confident in predicting the correct label for the first image above. The model struggles with the second image, which is reflected in the range of probabilities output by the network."
      ]
    },
    {
      "cell_type": "code",
      "execution_count": null,
      "metadata": {
        "id": "WHWN3vltKVhH"
      },
      "outputs": [],
      "source": [
        "# Prediction examples from both datasets\n",
        "\n",
        "for i in [9241]:\n",
        "    analyse_model_prediction(data=x_test, true_labels=y_test,\n",
        "        model=bayesian_model, image_num=i, run_ensemble=True)\n",
        "    analyse_model_prediction(data=x_c_test, true_labels=y_c_test,\n",
        "        model=bayesian_model, image_num=i, run_ensemble=True)"
      ]
    },
    {
      "cell_type": "markdown",
      "metadata": {
        "id": "XmyjwXovKVhH"
      },
      "source": [
        "Similar to before, the model struggles with the second number, as it is mostly covered up by the spatters. However, this time is clear to see the epistemic uncertainty in the model."
      ]
    },
    {
      "cell_type": "markdown",
      "metadata": {
        "id": "bEA1vS4XKVhH"
      },
      "source": [
        "#### Uncertainty quantification using entropy\n",
        "\n",
        "We also again plot the distribution of distribution entropy across the different test sets below. In these plots, no consideration has been made for the epistemic uncertainty, and the conclusions are broadly similar to those for the previous model."
      ]
    },
    {
      "cell_type": "code",
      "execution_count": null,
      "metadata": {
        "id": "AuZZSFM0KVhH"
      },
      "outputs": [],
      "source": [
        "# Entropy plots for the MNIST dataset\n",
        "\n",
        "print('MNIST test set:')\n",
        "plot_entropy_distribution(model=bayesian_model, x=x_test, labels=y_test)"
      ]
    },
    {
      "cell_type": "code",
      "execution_count": null,
      "metadata": {
        "id": "Ll-HGt40KVhI"
      },
      "outputs": [],
      "source": [
        "# Entropy plots for the MNIST-C dataset\n",
        "\n",
        "print('Corrupted MNIST test set:')\n",
        "plot_entropy_distribution(model=bayesian_model, x=x_c_test, labels=y_c_test)"
      ]
    },
    {
      "cell_type": "markdown",
      "metadata": {
        "id": "v9mVl9ShKVhI"
      },
      "source": [
        "Congratulations on completing this programming assignment! In the next week of the course we will look at the bijectors module and normalising flows."
      ]
    }
  ],
  "metadata": {
    "coursera": {
      "course_slug": "probabilistic-deep-learning-with-tensorflow2",
      "graded_item_id": "QPF47",
      "launcher_item_id": "psszg"
    },
    "kernelspec": {
      "display_name": "Python 3",
      "language": "python",
      "name": "python3"
    },
    "language_info": {
      "codemirror_mode": {
        "name": "ipython",
        "version": 3
      },
      "file_extension": ".py",
      "mimetype": "text/x-python",
      "name": "python",
      "nbconvert_exporter": "python",
      "pygments_lexer": "ipython3",
      "version": "3.7.1"
    },
    "colab": {
      "provenance": [],
      "include_colab_link": true
    }
  },
  "nbformat": 4,
  "nbformat_minor": 0
}