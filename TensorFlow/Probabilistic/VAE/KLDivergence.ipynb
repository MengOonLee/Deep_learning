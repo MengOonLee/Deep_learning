{
  "cells": [
    {
      "cell_type": "markdown",
      "metadata": {
        "id": "view-in-github",
        "colab_type": "text"
      },
      "source": [
        "<a href=\"https://colab.research.google.com/github/MengOonLee/Deep_learning/blob/master/TensorFlow/Probabilistic/VAE/KLDivergence.ipynb\" target=\"_parent\"><img src=\"https://colab.research.google.com/assets/colab-badge.svg\" alt=\"Open In Colab\"/></a>"
      ]
    },
    {
      "cell_type": "markdown",
      "metadata": {
        "id": "xw6iPVIHeyQt"
      },
      "source": [
        "# Kullback-Leibler divergence"
      ]
    },
    {
      "cell_type": "markdown",
      "metadata": {
        "id": "Yr3p16mNeyQv"
      },
      "source": [
        "This reading will review the definition of the Kullback-Leibler (or KL) divergence, look at some of its important properties, see how it can be computed in practice with TensorFlow Probability."
      ]
    },
    {
      "cell_type": "code",
      "execution_count": 1,
      "metadata": {
        "id": "-fuq6WOLeyQv",
        "outputId": "2d01e29e-a40c-43b4-b2ef-80e74836061f",
        "colab": {
          "base_uri": "https://localhost:8080/"
        }
      },
      "outputs": [
        {
          "output_type": "stream",
          "name": "stdout",
          "text": [
            "TF version: 2.18.0\n",
            "TFP version: 0.25.0\n"
          ]
        }
      ],
      "source": [
        "import tensorflow as tf\n",
        "import tensorflow_probability as tfp\n",
        "print(\"TF version:\", tf.__version__)\n",
        "print(\"TFP version:\", tfp.__version__)"
      ]
    },
    {
      "cell_type": "markdown",
      "metadata": {
        "id": "wjg6_8yYeyQw"
      },
      "source": [
        "## Introduction\n",
        "\n",
        "As you have already seen, the KL divergence is used in variational inference to score the dissimilarity between two distributions. In this reading, we will examine KL divergence more closely. We will see the definition of the KL divergence and some important properties, as well as how it can be computed using `tfd.kl_divergence` and Monte Carlo estimation."
      ]
    },
    {
      "cell_type": "markdown",
      "metadata": {
        "id": "RRcslJ5_eyQx"
      },
      "source": [
        "## Definition of the Kullback-Leibler divergence\n",
        "\n",
        "Given two probability density or mass functions $q(x)$ and $p(x)$, the Kullback-Leibler divergence between them is defined as\n",
        "\n",
        "\\begin{equation}\n",
        "    D_{KL}\\big[q(x) \\ || \\ p(x)\\big] =\\begin{cases}\n",
        "        \\text{E}_{X\\sim q(X)}\\big[\\log q(X) - \\log p(X)\\big]\n",
        "            &\\text{if } p(x) = 0 \\implies q(x) = 0,\\\\\n",
        "        \\infty &\\text{otherwise.}\n",
        "        \\end{cases}\n",
        "\\end{equation}\n",
        "\n",
        "The condition $p(x) = 0 \\implies q(x) = 0$ - _absolute continuity_ - ensures that the $\\log$ in the expectation is well-defined for all $x$ in the support of $q$.\n",
        "\n",
        "As was mentioned, the KL divergence is a score for the disagreement of two distributions in their placement of probability mass. A smaller score indicates a greater degree of agreement."
      ]
    },
    {
      "cell_type": "markdown",
      "metadata": {
        "id": "tTX2PEkzeyQx"
      },
      "source": [
        "## Properties"
      ]
    },
    {
      "cell_type": "markdown",
      "metadata": {
        "id": "rC3fFo6zeyQx"
      },
      "source": [
        "The Kullback-Leibler divergence is asymmetric. In general,\n",
        "\n",
        "\\begin{equation}\n",
        "    D_{KL}\\big[q(x) \\ || \\ p(x)\\big] \\neq D_{KL}\\big[p(x) \\ || \\ q(x) \\big]\n",
        "\\end{equation}\n",
        "\n",
        "In variational inference, $q(x)$ is the approximating distribution, while $p(x)$ is the distribution being approximated. The other KL divergence - $D_{KL}[p(x) \\ || \\ q(x)]$ - is also sometimes used as a loss function, for reasons that will become clear later in this reading.\n",
        "\n"
      ]
    },
    {
      "cell_type": "markdown",
      "metadata": {
        "id": "ykMtqe2meyQx"
      },
      "source": [
        "### Gibbs' inequality\n",
        "\n",
        "A crucial property of the KL divergence is that for all $q(x)$ and $p(x)$,\n",
        "\n",
        "\\begin{equation}\n",
        "    D_{KL}\\big[q(x) \\ || \\ p(x)\\big] \\geq 0,\n",
        "\\end{equation}\n",
        "\n",
        "with equality if and only if $q(x) = p(x)$ almost everywhere. This property is very useful when we are trying to learn a $q(x)$ that is similar to a $p(x)$: if $D_{KL}[q(x) \\ || \\ p(x)] = 0$, then we know that $q(x)$ is identical to $p(x)$."
      ]
    },
    {
      "cell_type": "markdown",
      "metadata": {
        "id": "zw_zAkdWeyQy"
      },
      "source": [
        "### What causes KL divergence to increase?\n",
        "\n",
        "As an example, take $q(x)$ and $p(x)$ to be probability mass functions, and let $\\mathcal{X}$ be $q$'s support. Provided $q(x)$ is absolutely continuous with respect to $p(x)$, we have\n",
        "\n",
        "\\begin{equation}\n",
        "    D_{KL}\\big[q(x) \\ || \\ p(x)\\big] = \\sum_{x \\in \\mathcal{X}} q(x) \\log \\frac{q(x)}{p(x)}.\n",
        "\\end{equation}\n",
        "\n",
        "Values of $x$ that $p(x)$ assigns mass to but $q(x)$ does not feature in this sum. Superficially, this may suggest that divergence is not increased if $q(x)$ fails to place mass where $p(x)$ does. However, $q(x)$ is a probability mass function, so will inevitably place more mass than $p(x)$ at some other value(s) of $x$. At those other locations, $\\log q(x)/p(x) > 0$, so the divergence is increased.\n",
        "\n",
        "On the other hand, if $q(x)$ places probability mass where $p(x)$ does not, then $D_{KL}\\big[q(x) \\ || \\ p(x)\\big]$ is $+\\infty$, the KL divergence severely penalizes $q(x)$ for locating probability mass where $p(x)$ does not!\n",
        "\n",
        "From this combination of effects, we can conclude that\n",
        "\n",
        "\\begin{equation}\n",
        "    \\text{support}(q(x)) \\subseteq \\text{support}(p(x)) \\implies D_{KL}\\big[q(x) \\ || \\ p(x)\\big] < \\infty,\n",
        "\\end{equation}\n",
        "\n",
        "while\n",
        "\n",
        "\\begin{equation}\n",
        "    \\text{support}(p(x)) \\subset \\text{support}(q(x)) \\implies D_{KL}\\big[q(x) \\ || \\ p(x)\\big] = \\infty\n",
        "\\end{equation}\n",
        "\n",
        "Consequently, the KL divergence favours distributions $q(x)$ that have a support contained in the target distribution's (i.e. $p(x)$'s).\n",
        "\n",
        "The diagram below illustrates how the KL divergence is affected by the support of two bivariate density functions $q(x)$ and $p(x)$. The hatched regions indicate the support of either function."
      ]
    },
    {
      "cell_type": "code",
      "execution_count": 2,
      "metadata": {
        "id": "XdEWQUVmeyQz",
        "outputId": "e2fc9209-1705-469a-82ca-1764b2bd80f6",
        "colab": {
          "base_uri": "https://localhost:8080/",
          "height": 407
        }
      },
      "outputs": [
        {
          "output_type": "display_data",
          "data": {
            "text/plain": [
              "<Figure size 800x400 with 2 Axes>"
            ],
            "image/png": "[encoded data removed]"
          },
          "metadata": {}
        }
      ],
      "source": [
        "import matplotlib.pyplot as plt\n",
        "from matplotlib.patches import Ellipse\n",
        "\n",
        "_, axs = plt.subplots(nrows=1, ncols=2, sharex=True, sharey=True, figsize=(8, 4))\n",
        "\n",
        "delta = 45.0  # degrees\n",
        "\n",
        "q_ell_inf = Ellipse(xy=(0, 0), width=2, height=1.5, angle=45,\n",
        "    ec='blue', fc='none', alpha=0.5, label='q(x)', hatch='/')\n",
        "q_ell_fin = Ellipse(xy=(0, 0), width=0.5, height=0.75, angle=45,\n",
        "    ec='blue', fc='none', alpha=0.5, label='q(x)', hatch='/')\n",
        "p_ell_inf = Ellipse(xy=(0, 0), width=1, height=1, angle=45,\n",
        "    ec='red', fc='none', alpha=0.5, label='p(x)', hatch='\\\\')\n",
        "p_ell_fin = Ellipse(xy=(0, 0), width=1, height=1, angle=45,\n",
        "    ec='red', fc='none', alpha=0.5, label='p(x)', hatch='\\\\')\n",
        "\n",
        "# KL divergence is infinite\n",
        "for ell in [q_ell_inf, p_ell_inf]:\n",
        "    axs[0].add_artist(a=ell)\n",
        "axs[0].legend([q_ell_inf, p_ell_inf],\n",
        "    ['Support of q', 'Support of p'], loc='lower right')\n",
        "axs[0].get_xaxis().set_ticks([])\n",
        "axs[0].get_yaxis().set_ticks([])\n",
        "\n",
        "# KL divergence is finite\n",
        "for ell in [q_ell_fin, p_ell_fin]:\n",
        "    axs[1].add_artist(ell)\n",
        "axs[1].legend([q_ell_fin, p_ell_fin],\n",
        "    ['Support of q', 'Support of p'], loc='lower right')\n",
        "axs[1].get_xaxis().set_ticks([])\n",
        "axs[1].get_yaxis().set_ticks([])\n",
        "\n",
        "axs[0].set_title(label=r'$D_{KL}[q(x) \\ || \\ p(x)] = +\\infty$')\n",
        "axs[1].set_title(label=r'$D_{KL}[q(x) \\ || \\ p(x)]$ is finite but non-zero')\n",
        "plt.xlim(-1, 1)\n",
        "plt.ylim(-1, 1)\n",
        "plt.tight_layout()\n",
        "plt.show()"
      ]
    },
    {
      "cell_type": "markdown",
      "metadata": {
        "id": "FbNyQ9U5eyQ0"
      },
      "source": [
        "## Computing KL divergence in TensorFlow\n",
        "\n",
        "For some choices of $q(x)$ and $p(x)$, the KL divergence can be evaluated to a closed-form expression.\n",
        "\n",
        "`tfd.kl_divergence` computes the KL divergence between two distributions analytically, provided the divergence in question has been implemented in the TensorFlow Probability library.\n",
        "\n",
        "Below is an example that uses `tfd.kl_divergence` to compute $D_{KL}\\big[q(x) \\ || \\ p(x)\\big]$ when $q(x)$ and $p(x)$ are univariate normal distributions."
      ]
    },
    {
      "cell_type": "code",
      "execution_count": 3,
      "metadata": {
        "id": "419F7oVueyQ0",
        "outputId": "261a0837-93ec-4265-8ab9-6712639fa49f",
        "colab": {
          "base_uri": "https://localhost:8080/"
        }
      },
      "outputs": [
        {
          "output_type": "execute_result",
          "data": {
            "text/plain": [
              "<tf.Tensor: shape=(), dtype=float32, numpy=0.8068528175354004>"
            ]
          },
          "metadata": {},
          "execution_count": 3
        }
      ],
      "source": [
        "# Simple example\n",
        "import tensorflow as tf\n",
        "tf.keras.utils.set_random_seed(seed=42)\n",
        "import tensorflow_probability as tfp\n",
        "\n",
        "mu_q, mu_p = 0., 0.\n",
        "sigma_q, sigma_p = 1., 0.5\n",
        "distribution_q = tfp.distributions.Normal(loc=mu_q, scale=sigma_q)\n",
        "distribution_p = tfp.distributions.Normal(loc=mu_p, scale=sigma_p)\n",
        "\n",
        "# D_{KL}[q || p]\n",
        "tfp.distributions.kl_divergence(distribution_a=distribution_q,\n",
        "    distribution_b=distribution_p)"
      ]
    },
    {
      "cell_type": "markdown",
      "metadata": {
        "id": "l3-2Ze4weyQ1"
      },
      "source": [
        "Let's check this value. The KL divergence between two univariate normal distributions can be derived directly from the definition of the KL divergence as\n",
        "\n",
        "\\begin{equation}\n",
        "    D_{KL}\\big[q(x) \\ || \\ p(x)\\big] = \\frac{1}{2}\\bigg(\\frac{\\sigma_q^2}{\\sigma_p^2} + \\frac{(\\mu_q - \\mu_p)^2}{\\sigma_p^2}  + 2\\log \\frac{\\sigma_p}{\\sigma_q} - 1\\bigg)\n",
        "\\end{equation}\n",
        "\n",
        "The value of this function should be equal to that returned by `kl_divergence(distribution_q, distribution_p)`."
      ]
    },
    {
      "cell_type": "code",
      "execution_count": 4,
      "metadata": {
        "id": "1iGffYayeyQ1",
        "outputId": "d5f3f429-78ff-467e-e9bc-2d43973c8a54",
        "colab": {
          "base_uri": "https://localhost:8080/"
        }
      },
      "outputs": [
        {
          "output_type": "execute_result",
          "data": {
            "text/plain": [
              "np.float64(0.8068528194400546)"
            ]
          },
          "metadata": {},
          "execution_count": 4
        }
      ],
      "source": [
        "# Analytical expression for KL divergence between two univariate Normals\n",
        "import numpy as np\n",
        "\n",
        "0.5*((sigma_q/sigma_p)**2 + ((mu_q - mu_p)/sigma_p)**2\n",
        "    + 2*np.log(sigma_p/sigma_q) - 1)"
      ]
    },
    {
      "cell_type": "markdown",
      "metadata": {
        "id": "Y2LEcMbqeyQ1"
      },
      "source": [
        "Sure enough, it is.\n",
        "\n",
        "If a batch of distributions is passed to `kl_divergence`, then a batch of divergences will be returned. `kl_divergence` also supports broadcasting."
      ]
    },
    {
      "cell_type": "code",
      "execution_count": 5,
      "metadata": {
        "id": "hOsXKquTeyQ1",
        "outputId": "7f36cc72-0cb4-4e75-d8e3-6a0021438d55",
        "colab": {
          "base_uri": "https://localhost:8080/"
        }
      },
      "outputs": [
        {
          "output_type": "execute_result",
          "data": {
            "text/plain": [
              "<tfp.distributions.Normal 'Normal' batch_shape=[2] event_shape=[] dtype=float32>"
            ]
          },
          "metadata": {},
          "execution_count": 5
        }
      ],
      "source": [
        "# Batch example with broadcasting\n",
        "import tensorflow as tf\n",
        "tf.keras.utils.set_random_seed(seed=42)\n",
        "import tensorflow_probability as tfp\n",
        "\n",
        "distribution_p = tfp.distributions.Normal(loc=0., scale=1.)\n",
        "distributions_q = tfp.distributions.Normal(loc=[0., 2.], scale=[0.5, 1.])\n",
        "\n",
        "# Notice the batch_shape\n",
        "distributions_q"
      ]
    },
    {
      "cell_type": "code",
      "execution_count": 6,
      "metadata": {
        "id": "RCepP60xeyQ2",
        "outputId": "75cf23ca-6208-49ac-ee70-863e2122d1cf",
        "colab": {
          "base_uri": "https://localhost:8080/",
          "height": 307
        }
      },
      "outputs": [
        {
          "output_type": "display_data",
          "data": {
            "text/plain": [
              "<Figure size 800x300 with 2 Axes>"
            ],
            "image/png": "[encoded data removed]"
          },
          "metadata": {}
        }
      ],
      "source": [
        "# [D_{KL}[q_1 || p], D_{KL}[q_2 || p]\n",
        "import tensorflow as tf\n",
        "tf.keras.utils.set_random_seed(seed=42)\n",
        "import tensorflow_probability as tfp\n",
        "import matplotlib.pyplot as plt\n",
        "import seaborn as sns\n",
        "\n",
        "kl_divergences = tfp.distributions.kl_divergence(\n",
        "    distribution_a=distributions_q, distribution_b=distribution_p)\n",
        "\n",
        "fig, axes = plt.subplots(nrows=1, ncols=2, figsize=(8, 3))\n",
        "x = tf.linspace(start=-5., stop=5., num=100)\n",
        "pdf_p = distribution_p.prob(value=x)\n",
        "pdfs_q = distributions_q.prob(value=tf.repeat(\n",
        "    input=x[..., tf.newaxis], repeats=2, axis=1))\n",
        "for i, ax in enumerate(axes.flatten()):\n",
        "    sns.lineplot(ax=ax, x=x, y=pdf_p, label='$p(x)$')\n",
        "    sns.lineplot(ax=ax, x=x, y=pdfs_q[..., i], label='$q(x)$')\n",
        "    ax.legend()\n",
        "    ax.set_xlabel(xlabel='$x$')\n",
        "    ax.set_ylabel(ylabel='Probability density')\n",
        "    ax.set_title(label='$D_{KL}[q \\ || \\ p]$=%.4f'%(kl_divergences[i]))\n",
        "fig.tight_layout()\n",
        "fig.show()"
      ]
    },
    {
      "cell_type": "markdown",
      "metadata": {
        "id": "AQOxrU9beyQ2"
      },
      "source": [
        "`kl_divergence` provides a convenient way of computing the KL divergence for many TensorFlow distributions. As a rule of thumb, it will evaluate successfully provided you pass in two distributions of the same parametric family."
      ]
    },
    {
      "cell_type": "code",
      "execution_count": 7,
      "metadata": {
        "id": "-wo4DJCxeyQ2",
        "outputId": "5437fb07-fe62-4817-d103-a790082971b8",
        "colab": {
          "base_uri": "https://localhost:8080/"
        }
      },
      "outputs": [
        {
          "output_type": "execute_result",
          "data": {
            "text/plain": [
              "<tf.Tensor: shape=(), dtype=float32, numpy=0.09615421295166016>"
            ]
          },
          "metadata": {},
          "execution_count": 7
        }
      ],
      "source": [
        "# An example with another distribution\n",
        "import tensorflow as tf\n",
        "tf.keras.utils.set_random_seed(seed=42)\n",
        "import tensorflow_probability as tfp\n",
        "\n",
        "beta_q = tfp.distributions.Beta(concentration0=3, concentration1=12)\n",
        "beta_p = tfp.distributions.Beta(concentration0=3, concentration1=9)\n",
        "\n",
        "tfp.distributions.kl_divergence(distribution_a=beta_q, distribution_b=beta_p)"
      ]
    },
    {
      "cell_type": "code",
      "execution_count": 8,
      "metadata": {
        "id": "uozlG0ageyQ3",
        "outputId": "6f0aa5e6-c9dc-4c83-e78b-9ac223108f30",
        "colab": {
          "base_uri": "https://localhost:8080/"
        }
      },
      "outputs": [
        {
          "output_type": "execute_result",
          "data": {
            "text/plain": [
              "<tf.Tensor: shape=(), dtype=float32, numpy=0.14384105801582336>"
            ]
          },
          "metadata": {},
          "execution_count": 8
        }
      ],
      "source": [
        "# An example with a multivariate distribution\n",
        "import numpy as np\n",
        "import tensorflow as tf\n",
        "tf.keras.utils.set_random_seed(seed=42)\n",
        "import tensorflow_probability as tfp\n",
        "\n",
        "cov_q = np.array([[1., 0.5], [0.5, 1.]], dtype=np.float32)\n",
        "cov_p = np.array([[1., 0.], [0., 1.]], dtype=np.float32)\n",
        "mvtnormal_q = tfp.distributions.MultivariateNormalTriL(loc=0.,\n",
        "    scale_tril=tf.linalg.cholesky(input=cov_q))\n",
        "mvtnormal_p = tfp.distributions.MultivariateNormalTriL(loc=0.,\n",
        "    scale_tril=tf.linalg.cholesky(input=cov_p))\n",
        "\n",
        "tfp.distributions.kl_divergence(distribution_a=mvtnormal_q,\n",
        "    distribution_b=mvtnormal_p)"
      ]
    },
    {
      "cell_type": "markdown",
      "metadata": {
        "id": "9lRQpuUmeyQ3"
      },
      "source": [
        "To see a complete list of distributions for which a KL method is defined, refer to `help(tfd.kl_divergence)`.\n",
        "\n",
        "If you pass `kl_divergence` a pair distributions for which a KL divergence method is not implemented, an error will be raised:"
      ]
    },
    {
      "cell_type": "code",
      "execution_count": 9,
      "metadata": {
        "id": "e567LLWIeyQ3",
        "outputId": "eac8cdaa-ba26-4437-fece-3f3334a29b37",
        "colab": {
          "base_uri": "https://localhost:8080/"
        }
      },
      "outputs": [
        {
          "output_type": "stream",
          "name": "stdout",
          "text": [
            "No KL(distribution_a || distribution_b) registered for distribution_a type Uniform and distribution_b type Beta\n"
          ]
        }
      ],
      "source": [
        "# uniform_q and beta_p are both uniform distributions with support [0, 1]\n",
        "import tensorflow_probability as tfp\n",
        "\n",
        "uniform_q = tfp.distributions.Uniform(low=0., high=1.)\n",
        "beta_p = tfp.distributions.Beta(concentration0=0., concentration1=0.)\n",
        "\n",
        "# kl_divergence has no method for computing their divergence\n",
        "try:\n",
        "    tfp.distributions.kl_divergence(distribution_a=uniform_q,\n",
        "        distribution_b=beta_p)\n",
        "except Exception as e:\n",
        "    print(e)"
      ]
    },
    {
      "cell_type": "markdown",
      "metadata": {
        "id": "zKhhFl3JeyQ4"
      },
      "source": [
        "### When `kl_divergence` fails\n",
        "\n",
        "If you do not have a closed-form expression for your KL divergence, and it is not implemented in `tfd.kl_divergence`, then you can make a Monte Carlo estimate of it. Simply sample $n$ values $x_1, \\ldots, x_n$ from $q$, then evaluate the estimate\n",
        "\n",
        "\\begin{equation}\n",
        "    \\frac{1}{n}\\sum_{i=1}^n \\log\\big[q(x_i)\\big] - \\log\\big[p(x_i)\\big]\n",
        "\\end{equation}\n",
        "\n",
        "In general, the Monte Carlo estimator is unbiased and its variance is inversely proportional to $n$.\n",
        "\n",
        "To show how the variance of the Monte Carlo estimator varies with $n$, let's attempt to estimate $D_{KL}\\big[q \\ | \\ p\\big]$ when $q$ and $p$ are univariate normal distributions. We'll make many estimates for several values of $n$, then plot their absolute error as a function of $n$.\n",
        "\n",
        "We'll start by evaluating the exact value $D_{KL}\\big[q \\ | \\ p\\big]$ using `kl_divergence`. Bear in mind that the Monte Carlo estimate will only be useful in situations where this not possible!"
      ]
    },
    {
      "cell_type": "code",
      "execution_count": null,
      "metadata": {
        "id": "34b0wz-2eyQ4",
        "outputId": "a70e3b40-66d2-4939-a4b6-8625b5b769be"
      },
      "outputs": [
        {
          "data": {
            "text/plain": [
              "0.8068528"
            ]
          },
          "execution_count": 12,
          "metadata": {},
          "output_type": "execute_result"
        }
      ],
      "source": [
        "# Evaluate the exact KL divergence\n",
        "import tensorflow_probability as tfp\n",
        "\n",
        "distribution_q = tfp.distributions.Normal(loc=0., scale=1.)\n",
        "distribution_p = tfp.distributions.Normal(loc=0., scale=0.5)\n",
        "\n",
        "exact_kl_divergence = tfp.distributions.kl_divergence(\n",
        "    distribution_a=distribution_q,\n",
        "    distribution_b=distribution_p).numpy() # D_{KL}[q || p]\n",
        "exact_kl_divergence"
      ]
    },
    {
      "cell_type": "markdown",
      "metadata": {
        "id": "3NdkRSaneyQ4"
      },
      "source": [
        "Next, we'll define a function for making a Monte Carlo estimate for a given $q$, $p$, and $n$."
      ]
    },
    {
      "cell_type": "code",
      "execution_count": null,
      "metadata": {
        "id": "4weTPfqNeyQ4"
      },
      "outputs": [],
      "source": [
        "# Function to estimate the KL divergence with Monte Carlo samples\n",
        "import numpy as np\n",
        "\n",
        "def monte_carlo_estimate_of_kl_divergence(n, q_sampler,\n",
        "    q_density, p_density):\n",
        "    '''\n",
        "        Computes a Monte Carlo estimate of D_{KL}[q || p] using\n",
        "        n samples from q_sampler.\n",
        "\n",
        "        q_sampler is a function that receives a positive integer\n",
        "        and returns as many samples from q.\n",
        "\n",
        "        Given samples x_1, ..., x_n from q_sampler, the Monte Carlo\n",
        "        estimate is\n",
        "\n",
        "            \\frac{1}{n}\\sum_{i=1}^n \\log(q(x_i)) - \\log(p(x_i))\n",
        "\n",
        "        where q and p are density/mass functions.\n",
        "    '''\n",
        "    x = q_sampler(n)\n",
        "    KL_estimate = np.mean(np.log(q_density(x))\n",
        "        - np.log(p_density(x)))\n",
        "\n",
        "    return KL_estimate"
      ]
    },
    {
      "cell_type": "markdown",
      "metadata": {
        "id": "y46gatsueyQ5"
      },
      "source": [
        "The code below shows how this function can be used to make a single estimate."
      ]
    },
    {
      "cell_type": "code",
      "execution_count": null,
      "metadata": {
        "id": "9YPvPDnpeyQ5",
        "outputId": "d6173955-59b7-44cc-f8a2-2828be173f4f"
      },
      "outputs": [
        {
          "data": {
            "text/plain": [
              "0.817494"
            ]
          },
          "execution_count": 14,
          "metadata": {},
          "output_type": "execute_result"
        }
      ],
      "source": [
        "# Single MC estimate\n",
        "\n",
        "n = 1000 # number of samples used in MC estimate\n",
        "q_sampler = distribution_q.sample\n",
        "q_density = distribution_q.prob\n",
        "p_density = distribution_p.prob\n",
        "\n",
        "monte_carlo_estimate_of_kl_divergence(n=n, q_sampler=q_sampler,\n",
        "    q_density=q_density, p_density=p_density)"
      ]
    },
    {
      "cell_type": "markdown",
      "metadata": {
        "id": "iwx-Jr6KeyQ5"
      },
      "source": [
        "To see how the estimator's variance decreases with increasing $n$, let's evaluate a few hundred estimates for each point in a grid of $n$ values."
      ]
    },
    {
      "cell_type": "code",
      "execution_count": null,
      "metadata": {
        "id": "zMKaccfaeyQ5"
      },
      "outputs": [],
      "source": [
        "# Create a grid of 8 points\n",
        "import numpy as np\n",
        "\n",
        "n_grid = 10**np.arange(1, 8)\n",
        "samples_per_grid_point = 100  # Number of MC estimates to make for each value of n"
      ]
    },
    {
      "cell_type": "code",
      "execution_count": null,
      "metadata": {
        "id": "GmDNSj7keyQ5"
      },
      "outputs": [],
      "source": [
        "# Array to store results\n",
        "import numpy as np\n",
        "\n",
        "kl_estimates = np.zeros(shape=[samples_per_grid_point, len(n_grid), 2])"
      ]
    },
    {
      "cell_type": "code",
      "execution_count": null,
      "metadata": {
        "id": "kwAmBfUYeyQ6"
      },
      "outputs": [],
      "source": [
        "# Make 100 MC estimates for each value of n, store the results in kl_estimates\n",
        "\n",
        "for sample_num in range(samples_per_grid_point):\n",
        "    for grid_num, n in enumerate(n_grid):\n",
        "        kl_estimates[sample_num, grid_num, 0] = n\n",
        "        kl_estimates[sample_num, grid_num, 1] = \\\n",
        "            monte_carlo_estimate_of_kl_divergence(n=n,\n",
        "                q_sampler=q_sampler, q_density=q_density,\n",
        "                p_density=p_density\n",
        "            )"
      ]
    },
    {
      "cell_type": "code",
      "execution_count": null,
      "metadata": {
        "id": "sen3G7MfeyQ9"
      },
      "outputs": [],
      "source": [
        "# Compute RMSE of estimates (this is approximately equal to the standard deviation of the MC estimator)\n",
        "import numpy as np\n",
        "\n",
        "rmse_of_kl_estimates = np.sqrt(np.mean((\n",
        "    kl_estimates[:, :, 1] - exact_kl_divergence)**2, axis=0))"
      ]
    },
    {
      "cell_type": "code",
      "execution_count": null,
      "metadata": {
        "id": "lmoj7TBOeyQ9"
      },
      "outputs": [],
      "source": [
        "# Compute absolute error of the MC estimates\n",
        "\n",
        "abs_error_of_kl_estimates = abs(kl_estimates[:, :, 1].flatten()\n",
        "    - exact_kl_divergence)"
      ]
    },
    {
      "cell_type": "code",
      "execution_count": null,
      "metadata": {
        "id": "XjVFhj-ceyQ9",
        "outputId": "5b931c26-e067-4fa3-e7ee-111904d749e8"
      },
      "outputs": [
        {
          "data": {
            "image/png": "[encoded data removed]",
            "text/plain": [
              "<Figure size 1080x360 with 1 Axes>"
            ]
          },
          "metadata": {
            "needs_background": "light"
          },
          "output_type": "display_data"
        }
      ],
      "source": [
        "# Plot the results\n",
        "import matplotlib.pyplot as plt\n",
        "\n",
        "_, ax = plt.subplots(nrows=1, ncols=1, figsize=(15, 5))\n",
        "plt.xlabel(xlabel=r'Number of samples in Monte Carlo estimate, $n$')\n",
        "ax.scatter(x=kl_estimates[:, :, 0], y=abs_error_of_kl_estimates,\n",
        "    marker='.', color='red', alpha=0.1,\n",
        "    label='Absolute error of Monte Carlo estimates')\n",
        "ax.plot(n_grid, rmse_of_kl_estimates, color='k',\n",
        "    label='RMSE of Monte Carlo estimates')\n",
        "ax.set_xscale('log');\n",
        "ax.set_yscale('log');\n",
        "ax.set_ylim([1e-6, 10])\n",
        "ax.legend();\n",
        "plt.show();"
      ]
    },
    {
      "cell_type": "markdown",
      "metadata": {
        "id": "JDOp3-PdeyQ9"
      },
      "source": [
        "You can see that the gradient of the estimates' RMSE, an estimate of the MC estimator's standard devation, with respect to $n$ is $-\\frac{1}{2}$. This is unsurprising: the estimator's variance is inversely proportional to $n$, so its log standard deviation is a linear function of $\\log n$ with gradient $-\\frac{1}{2}$. As $n$ increases, the Monte Carlo estimates approach the exact value of the KL divergence."
      ]
    },
    {
      "cell_type": "markdown",
      "metadata": {
        "id": "nQturDEzeyQ-"
      },
      "source": [
        "### Summary\n",
        "\n",
        "You should now feel confident about how the Kullback-Leibler divergence is motivated and defined, what its key properties and why it is used in variational inference, and how it can be computed or estimated in TensorFlow."
      ]
    },
    {
      "cell_type": "markdown",
      "metadata": {
        "id": "n21bXIGyeyQ-"
      },
      "source": [
        "### Further reading and resources\n",
        "\n",
        "* TensorFlow documentation on `tfd.kl_divergence`: https://www.tensorflow.org/probability/api_docs/python/tfp/distributions/kl_divergence"
      ]
    },
    {
      "cell_type": "markdown",
      "metadata": {
        "id": "UJ1JWrrMeyQ-"
      },
      "source": [
        "## Appendix\n",
        "\n",
        "#### Information gain, relative entropy, and Bayesian inference\n",
        "\n",
        "This section provides further context for the Kullback-Leibler divergence. It is not essential, but it will give you a more complete understanding of what the divergence measures.\n",
        "\n",
        "The Kullback-Leibler divergence has its origins in information theory. The Shannon entropy, defined as\n",
        "\n",
        "\\begin{equation}\n",
        "    H(P) := E_{X \\sim P(x)}[-\\log P(X) ]\n",
        "\\end{equation}\n",
        "\n",
        "is the greatest lower bound on the average number of nats ($\\log 2$ nats are equal to $1$ bit) required to losslessly encode an observation sampled from from $P(x)$. This is an informal statement of a result known as the _source coding theorem_. $-\\log P(x)$ is the number of bits used to encode $x$ in the lossless encoding scheme.\n",
        "\n",
        "Say that a lossless compression algorithm instead encodes observations using a scheme that would be optimal for distribution $Q(x)$. Then the average number of of bits required to encode an observation sampled from $P(x)$ would be\n",
        "\n",
        "\\begin{equation}\n",
        "    H(P, Q) := E_{X \\sim P(x)}[-\\log Q(X)]\n",
        "\\end{equation}\n",
        "\n",
        "This is quantity is referred to as the _cross-entropy_ between $P$ and $Q$. Since $H(P)$ is the minimum average information for encoding observations from $P(x)$ by definition, it follows that $H(P, Q) \\geq H(P)$.\n",
        "\n",
        "The Kullback-Leibler divergence is defined as the average additional information required to encode observations from $P(x)$ using an optimal code for $Q(x)$:\n",
        "\n",
        "\\begin{align}\n",
        "    D_{KL}(P \\ || \\ Q) &:= E_{X \\sim P(x)}[-\\log Q(X)] - E_{X \\sim P(x)}[-\\log P(X)] \\\\\n",
        "                       &= H(P, Q) - H(P)\n",
        "\\end{align}\n",
        "\n",
        "The KL divergence therefore tells us how inefficient the optimal coding scheme for $Q$ is when applied to data source $P$.\n",
        "\n",
        "That KL divergence is the difference between a cross-entropy and a Shannon entropy sheds light on why the KL divergence has another moniker - _relative entropy_.\n",
        "\n",
        "Alternatively, we might consider encoding observations in the context of Bayesian inference. Let $P(y)$ be the prior and $P(y|x)$ be the posterior. Then the Kullback-Leibler divergence\n",
        "\n",
        "\\begin{equation}\n",
        "    D_{KL}(P(y|x) \\ || \\ P(y)) = E_{Y \\sim P(y|x)}[-\\log P(Y)] - E_{Y \\sim P(y|x)}[-\\log P(Y|x)]\n",
        "\\end{equation}\n",
        "\n",
        "is the average number of bits saved if observations are encoded using an optimal code for the posterior rather than the prior. In this sense, the KL divergence tells us how much information is gained by conditioning on $X$."
      ]
    }
  ],
  "metadata": {
    "kernelspec": {
      "display_name": "Python 3",
      "language": "python",
      "name": "python3"
    },
    "language_info": {
      "codemirror_mode": {
        "name": "ipython",
        "version": 3
      },
      "file_extension": ".py",
      "mimetype": "text/x-python",
      "name": "python",
      "nbconvert_exporter": "python",
      "pygments_lexer": "ipython3",
      "version": "3.7.1"
    },
    "colab": {
      "provenance": [],
      "include_colab_link": true
    }
  },
  "nbformat": 4,
  "nbformat_minor": 0
}