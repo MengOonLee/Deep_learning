{
  "cells": [
    {
      "cell_type": "markdown",
      "metadata": {
        "id": "view-in-github",
        "colab_type": "text"
      },
      "source": [
        "<a href=\"https://colab.research.google.com/github/MengOonLee/Deep_learning/blob/master/TensorFlow/Intro.ipynb\" target=\"_parent\"><img src=\"https://colab.research.google.com/assets/colab-badge.svg\" alt=\"Open In Colab\"/></a>"
      ]
    },
    {
      "cell_type": "markdown",
      "metadata": {
        "id": "juxNknyiLVQH"
      },
      "source": [
        "# Introduction to TensorFlow 2"
      ]
    },
    {
      "cell_type": "code",
      "source": [
        "import tensorflow as tf\n",
        "import pandas as pd\n",
        "\n",
        "csv_headers = [\n",
        "    'age', 'workclass', 'fnlwgt', 'education', 'education_num', 'marital_status',\n",
        "    'occupation', 'relationship', 'race', 'gender', 'capital_gain', 'capital_loss',\n",
        "    'hours_per_week', 'native_country', 'income_bracket'\n",
        "]\n",
        "numeric_headers = ['capital_gain', 'capital_loss', 'hours_per_week']\n",
        "target_header = 'income_bracket'\n",
        "\n",
        "file = 'https://archive.ics.uci.edu/ml/machine-learning-databases/adult/adult.data'\n",
        "df_train = pd.read_csv(tf.keras.utils.get_file(origin=file), header=None,\n",
        "    names=csv_headers)\n",
        "df_train.drop(columns=['fnlwgt', 'education_num'], inplace=True)\n",
        "df_train['age'] = df_train['age'].astype(int)\n",
        "for name in numeric_headers:\n",
        "    df_train[name] = df_train[name].astype('float32')\n",
        "X_train, y_train = df_train, df_train.pop(target_header)\n",
        "\n",
        "file = 'https://archive.ics.uci.edu/ml/machine-learning-databases/adult/adult.test'\n",
        "df_test = pd.read_csv(tf.keras.utils.get_file(origin=file), header=None,\n",
        "    names=csv_headers)\n",
        "df_test.drop(columns=['fnlwgt', 'education_num'], inplace=True)\n",
        "df_test = df_test[1:].copy()\n",
        "df_test['income_bracket'] = df_test['income_bracket'].apply(\n",
        "    lambda x: x.replace('.', ''))\n",
        "df_test['age'] = df_test['age'].astype(int)\n",
        "for name in numeric_headers:\n",
        "    df_test[name] = df_test[name].astype('float32')\n",
        "X_test, y_test = df_test, df_test.pop(target_header)"
      ],
      "metadata": {
        "id": "axMpxMx46bbH"
      },
      "execution_count": 1,
      "outputs": []
    },
    {
      "cell_type": "code",
      "source": [
        "import tensorflow as tf\n",
        "\n",
        "inputs = {}\n",
        "for name, column in X_train.items():\n",
        "    dtype = column.dtype\n",
        "    if dtype == object:\n",
        "        dtype = tf.string\n",
        "    else:\n",
        "        dtype = dtype\n",
        "\n",
        "    inputs[name] = tf.keras.Input(name=name, shape=[1,], dtype=dtype)\n",
        "\n",
        "numeric_inputs = {name: input for name, input in inputs.items() if input.dtype=='float32'}\n",
        "normalizer = tf.keras.layers.Normalization(axis=-1)\n",
        "normalizer.adapt(data=X_train[numeric_inputs.keys()].values)\n",
        "numeric_features = tf.keras.layers.Concatenate(axis=-1)(list(numeric_inputs.values()))\n",
        "numeric_features = normalizer(numeric_features)\n",
        "\n",
        "# category_inputs = {"
      ],
      "metadata": {
        "colab": {
          "base_uri": "https://localhost:8080/"
        },
        "id": "v6CGVA4mMJ0u",
        "outputId": "bbdc507e-e1ca-48b6-ff94-95d2ba3daff5"
      },
      "execution_count": 2,
      "outputs": [
        {
          "output_type": "execute_result",
          "data": {
            "text/plain": [
              "(None, 3)"
            ]
          },
          "metadata": {},
          "execution_count": 2
        }
      ]
    },
    {
      "cell_type": "code",
      "source": [],
      "metadata": {
        "id": "YEaUn8rka3bS"
      },
      "execution_count": null,
      "outputs": []
    },
    {
      "cell_type": "code",
      "source": [
        "import tensorflow as tf\n",
        "\n",
        "target_lookup = tf.keras.layers.StringLookup(output_mode='int',\n",
        "    num_oov_indices=0, vocabulary=sorted(y_train.unique()))\n",
        "\n",
        "def get_dataset(X, y, shuffle=False):\n",
        "    X = {k: v.values[:, tf.newaxis] for k, v in X.items()}\n",
        "    y = {y.name: target_lookup(y.values[:, tf.newaxis])}\n",
        "    ds = tf.data.Dataset.from_tensor_slices(tensors=(X, y)).cache()\n",
        "    if shuffle:\n",
        "        ds = ds.shuffle(buffer_size=len(y))\n",
        "    ds = ds.batch(batch_size=128).prefetch(buffer_size=tf.data.AUTOTUNE)\n",
        "    return ds\n",
        "\n",
        "ds_train = get_dataset(X=X_train, y=y_train, shuffle=True)\n",
        "ds_test = get_dataset(X=X_test, y=y_test)"
      ],
      "metadata": {
        "id": "62dxx4k7W4r2"
      },
      "execution_count": null,
      "outputs": []
    },
    {
      "cell_type": "code",
      "source": [
        "import tensorflow as tf\n",
        "import keras\n",
        "\n",
        "inputs, numeric_features, category_features = {}, [], []\n",
        "for name, spec in ds_train.element_spec[0].items():\n",
        "    if spec.dtype==tf.float32:\n",
        "        inputs[name] = tf.keras.Input(name=name, shape=[1,], dtype=tf.float32)\n",
        "        normalizer = tf.keras.layers.Normalization(axis=-1)\n",
        "        normalizer.adapt(data=ds_train.map(lambda x, _: x[name]))\n",
        "        numeric_features.append(normalizer(inputs[name]))\n",
        "    else:\n",
        "        if spec.dtype==tf.string:\n",
        "            inputs[name] = tf.keras.Input(name=name, shape=[1,], dtype=tf.string)\n",
        "            lookup = tf.keras.layers.StringLookup(output_mode='int')\n",
        "            lookup.adapt(data=ds_train.map(lambda x, _: x[name]))\n",
        "        else:\n",
        "            inputs[name] = tf.keras.Input(name=name, shape=[1,], dtype=tf.int64)\n",
        "            lookup = tf.keras.layers.IntegerLookup(output_mode='int')\n",
        "            lookup.adapt(data=ds_train.map(lambda x, _: x[name]))\n",
        "        embedding = tf.keras.Sequential(layers=[\n",
        "            lookup,\n",
        "            tf.keras.layers.Embedding(input_dim=lookup.vocabulary_size(),\n",
        "                output_dim=4)\n",
        "        ])\n",
        "        category_features.append(embedding(inputs[name]))\n",
        "\n",
        "numeric_features = tf.keras.ops.stack(x=numeric_features, axis=1)\n",
        "category_features = tf.keras.ops.stack(x=category_features, axis=1)\n",
        "numeric_features.shape, category_features.shape"
      ],
      "metadata": {
        "id": "Hd84jgto7u1l",
        "outputId": "b5864cd2-a01f-4997-cad4-3ec4ef430a7d",
        "colab": {
          "base_uri": "https://localhost:8080/"
        }
      },
      "execution_count": null,
      "outputs": [
        {
          "output_type": "execute_result",
          "data": {
            "text/plain": [
              "((None, 3, 1), (None, 9, 1, 4))"
            ]
          },
          "metadata": {},
          "execution_count": 12
        }
      ]
    },
    {
      "cell_type": "code",
      "source": [
        "import tensorflow as tf\n",
        "\n",
        "inputs = {}\n",
        "for name, column in X_train.items():\n",
        "    dtype = column.dtype\n",
        "    if dtype == object:\n",
        "        dtype = tf.string\n",
        "    else:\n",
        "        dtype = dtype\n",
        "\n",
        "    inputs[name] = tf.keras.Input(name=name, shape=[1,], dtype=dtype)\n",
        "\n",
        "numeric_inputs = {n: i for n, i in inputs.items() if i.dtype==tf.float32}\n",
        "normalizer = keras.layers.Normalization(axis=-1)\n",
        "normalizer.adapt(data=X_train[numeric_inputs.keys()].values)\n",
        "numeric_inputs = keras.layers.Concatenate(axis=-1)(list(numeric_inputs.values()))\n",
        "numeric_features = normalizer(numeric_inputs)\n",
        "numeric_features = keras.layers.LayerNormalization()(numeric_features)\n",
        "numeric_features.shape"
      ],
      "metadata": {
        "id": "nKeRYgXI0PQo",
        "outputId": "318f7ad9-d4b6-4cbf-8ea5-15196b8333e9",
        "colab": {
          "base_uri": "https://localhost:8080/"
        }
      },
      "execution_count": null,
      "outputs": [
        {
          "output_type": "execute_result",
          "data": {
            "text/plain": [
              "(None, 3)"
            ]
          },
          "metadata": {},
          "execution_count": 45
        }
      ]
    },
    {
      "cell_type": "code",
      "source": [
        "category_inputs = {n: i for n, i in inputs.items() if i.dtype!=tf.float32}\n",
        "category_features = []\n",
        "for n, i in category_inputs.items():\n",
        "    vocab = sorted(set(X_train[n]))\n",
        "    if i.dtype==tf.string:\n",
        "        lookup = keras.layers.StringLookup(vocabulary=vocab, output_mode='int')\n",
        "    else:\n",
        "        lookup = keras.layers.IntegerLookup(vocabulary=vocab, output_mode='int')\n",
        "    embedding = keras.Sequential(layers=[\n",
        "        lookup,\n",
        "        keras.layers.Embedding(input_dim=lookup.vocabulary_size(),\n",
        "            output_dim=4)\n",
        "    ])\n",
        "    category_features.append(embedding(i))\n",
        "# category_features = keras.layers.Concatenate(axis=-1)(category_features)\n",
        "category_features = keras.ops.stack(category_features, axis=1)\n",
        "category_features.shape"
      ],
      "metadata": {
        "id": "qMizvfPoDujb",
        "outputId": "0a9578c5-95be-4370-a882-4794b119965f",
        "colab": {
          "base_uri": "https://localhost:8080/"
        }
      },
      "execution_count": null,
      "outputs": [
        {
          "output_type": "execute_result",
          "data": {
            "text/plain": [
              "(None, 9, 1, 4)"
            ]
          },
          "metadata": {},
          "execution_count": 46
        }
      ]
    },
    {
      "cell_type": "code",
      "source": [
        "import tf_keras\n",
        "import tensorflow as tf\n",
        "tf.keras.utils.set_random_seed(seed=42)\n",
        "import tensorflow_probability as tfp\n",
        "import os\n",
        "import pandas as pd\n",
        "import matplotlib.pyplot as plt\n",
        "import seaborn as sns\n",
        "\n",
        "def df_to_ds(df, shuffle=False):\n",
        "    x = {k: v.values[:, tf.newaxis] for k, v in df.items()}\n",
        "    y = {\"target\": x.pop(\"target\"), \"thalach\": x.pop(\"thalach\")}\n",
        "    ds = tf.data.Dataset.from_tensor_slices(tensors=(x, y)).cache()\n",
        "    if shuffle:\n",
        "        ds = ds.shuffle(buffer_size=len(df))\n",
        "    ds = ds.batch(batch_size=64).prefetch(buffer_size=tf.data.AUTOTUNE)\n",
        "    return ds\n",
        "\n",
        "ds_train = df_to_ds(df=df_train, shuffle=True)\n",
        "ds_test = df_to_ds(df=df_test, shuffle=False)\n",
        "\n",
        "inputs = {}\n",
        "for name, spec in ds_train.element_spec[0].items():\n",
        "    inputs[name] = tf_keras.Input(name=name, shape=(1,), dtype=spec.dtype)\n",
        "\n",
        "features = []\n",
        "for name in [\"sex\", \"cp\", \"fbs\", \"restecg\", \"exang\", \"slope\", \"ca\", \"thal\"]:\n",
        "    dtype = ds_train.element_spec[0][name].dtype\n",
        "    if dtype==\"string\":\n",
        "        lookup = tf_keras.layers.StringLookup(output_mode=\"int\")\n",
        "    else:\n",
        "        lookup = tf_keras.layers.IntegerLookup(output_mode=\"int\")\n",
        "    lookup.adapt(data=ds_train.map(lambda x, _: x[name]))\n",
        "    embedding = tf_keras.Sequential(layers=[\n",
        "        lookup,\n",
        "        tf_keras.layers.Embedding(input_dim=lookup.vocabulary_size(),\n",
        "            output_dim=round(lookup.vocabulary_size()/2)),\n",
        "        tf_keras.layers.Flatten()\n",
        "    ])\n",
        "    features.append(embedding(inputs[name]))\n",
        "\n",
        "for name in [\"age\", \"trestbps\", \"chol\", \"oldpeak\"]:\n",
        "    normalizer = tf_keras.layers.Normalization(axis=None)\n",
        "    normalizer.adapt(data=ds_train.map(lambda x, _: x[name]))\n",
        "    features.append(normalizer(inputs[name]))\n",
        "\n",
        "features = tf_keras.layers.Concatenate(axis=-1)(features)\n",
        "\n",
        "net = tf_keras.Sequential(layers=[\n",
        "    tf_keras.layers.Dense(units=32, activation=tf.keras.activations.relu,\n",
        "        kernel_regularizer=tf.keras.regularizers.L2(l2=1e-6)),\n",
        "    tf_keras.layers.Dropout(rate=0.2),\n",
        "    tf_keras.layers.Dense(units=64, activation=tf.keras.activations.relu,\n",
        "        kernel_regularizer=tf.keras.regularizers.L2(l2=1e-6)),\n",
        "    tf_keras.layers.Dropout(rate=0.2)\n",
        "])\n",
        "\n",
        "h = net(inputs=features)\n",
        "h_thalach = tf_keras.layers.Dense(units=tfp.layers.IndependentNormal\\\n",
        "    .params_size(event_shape=(1,)))(inputs=h)\n",
        "\n",
        "outputs = {\n",
        "    \"target\": tf_keras.layers.Dense(name=\"target\", units=1,\n",
        "        activation=tf.keras.activations.sigmoid)(inputs=h),\n",
        "    # \"thalach\": tf.keras.layers.Dense(name=\"thalach\", units=1,\n",
        "    #     activation=tf.keras.activations.linear)(inputs=h)\n",
        "    \"thalach\": tfp.layers.IndependentNormal(name=\"thalach\",\n",
        "        event_shape=(1,), convert_to_tensor_fn=tfp.distributions\\\n",
        "        .Distribution.sample)(inputs=h_thalach)\n",
        "}\n",
        "\n",
        "model = tf_keras.Model(inputs=inputs, outputs=outputs)\n",
        "model.compile(\n",
        "    loss = {\n",
        "        \"target\": tf.keras.losses.BinaryCrossentropy(),\n",
        "        # \"thalach\": tf.keras.losses.MeanSquaredError()\n",
        "        \"thalach\": lambda y_true, y_pred: -y_pred.log_prob(value=y_true)\n",
        "    },\n",
        "    optimizer = tf.keras.optimizers.Adam(learning_rate=0.001),\n",
        "    metrics = {\n",
        "        \"target\": [\n",
        "            tf.keras.metrics.BinaryAccuracy(name=\"acc\")\n",
        "        ],\n",
        "        \"thalach\": [\n",
        "            tf.keras.metrics.MeanAbsoluteError(name=\"mae\")\n",
        "        ]\n",
        "    }\n",
        ")\n",
        "\n",
        "# os.makedirs(\"models\", exist_ok=True)\n",
        "# ckptPath = \"models/training.weights.h5\"\n",
        "# ckptSave = tf.keras.callbacks.ModelCheckpoint(monitor=\"val_loss\",\n",
        "#     mode=\"min\", save_best_only=True, save_weights_only=True,\n",
        "#     filepath=ckptPath)\n",
        "# reduceLR = tf.keras.callbacks.ReduceLROnPlateau(monitor=\"loss\",\n",
        "#     mode=\"min\", patience=5, factor=0.9)\n",
        "\n",
        "# history = model.fit(x=ds_train, validation_data=ds_test, epochs=100,\n",
        "#     callbacks=[ckptSave, reduceLR], verbose=False)\n",
        "# df_history = pd.DataFrame(history.history)\n",
        "# df_history[\"epoch\"] = df_history.index + 1\n",
        "\n",
        "# fig, axes = plt.subplots(nrows=3, ncols=1, sharex=True, figsize=(9, 9))\n",
        "# fig.suptitle(t=\"Training Metrics\")\n",
        "# axes[0].set_title(label=\"loss vs.epoch\")\n",
        "# axes[0].set_ylabel(ylabel=\"loss\")\n",
        "# for l in [\"target\", \"thalach\"]:\n",
        "#     sns.lineplot(ax=axes[0], label=f\"{l}_loss\", data=df_history,\n",
        "#         x=\"epoch\", y=f\"{l}_loss\")\n",
        "#     sns.lineplot(ax=axes[0], label=f\"val_{l}_loss\", data=df_history,\n",
        "#         x=\"epoch\", y=f\"val_{l}_loss\")\n",
        "# axes[0].legend(loc=\"best\")\n",
        "\n",
        "# for ax, m in zip(axes[1:], [\"target_acc\", \"thalach_mae\"]):\n",
        "#     ax.set_title(label=f\"{m} vs.epoch\")\n",
        "#     ax.set_ylabel(ylabel=m)\n",
        "#     sns.lineplot(ax=ax, label=m, data=df_history,\n",
        "#         x=\"epoch\", y=m)\n",
        "#     sns.lineplot(ax=ax, label=f\"val_{m}\", data=df_history,\n",
        "#         x=\"epoch\", y=f\"val_{m}\")\n",
        "#     ax.legend(loc=\"best\")\n",
        "\n",
        "# axes[2].set_xlabel(xlabel=\"epoch\")\n",
        "# fig.tight_layout()\n",
        "# fig.show()\n",
        "\n",
        "# model.load_weights(ckptPath)\n",
        "# print(\"Test result:\")\n",
        "# model.evaluate(x=ds_test, return_dict=True, verbose=False)"
      ],
      "metadata": {
        "id": "jXGHB6ihedMw"
      },
      "execution_count": null,
      "outputs": []
    },
    {
      "cell_type": "code",
      "source": [
        "import tensorflow as tf\n",
        "\n",
        "x_sample = {k: v.values[:, tf.newaxis] for k, v in df_test[0::10].items()}\n",
        "y_sample = {\"target\": x_sample.pop(\"target\"),\n",
        "    \"thalach\": x_sample.pop(\"thalach\")}\n",
        "y_pred = model(inputs=x_sample)\n",
        "\n",
        "target_true = target_encoder.inverse_transform(\n",
        "    y=y_sample[\"target\"].squeeze())\n",
        "target_pred = tf.cast(y_pred[\"target\"] > 0.5, tf.int64)\n",
        "target_pred = target_encoder.inverse_transform(\n",
        "    y=tf.squeeze(target_pred))\n",
        "acc = tf.keras.metrics.BinaryAccuracy()(\n",
        "    y_true=target_true, y_pred=target_pred)\n",
        "print(\"target accuracy:\", acc)\n",
        "\n",
        "thalach_true = thalach_scaler.inverse_transform(\n",
        "    X=y_sample[\"thalach\"])\n",
        "thalach_pred = thalach_scaler.inverse_transform(\n",
        "    X=y_pred[\"thalach\"])\n",
        "mae = tf.keras.metrics.MeanAbsoluteError()(\n",
        "    y_true=thalach_true, y_pred=thalach_pred)\n",
        "print(\"thalach mae:\", mae)"
      ],
      "metadata": {
        "id": "yjLv5dIjTc61",
        "colab": {
          "base_uri": "https://localhost:8080/"
        },
        "outputId": "a3bb8cd4-4502-4bdd-8974-069ce36738e9"
      },
      "execution_count": null,
      "outputs": [
        {
          "output_type": "stream",
          "name": "stdout",
          "text": [
            "target accuracy: tf.Tensor(0.90909094, shape=(), dtype=float32)\n",
            "thalach mae: tf.Tensor(6.954035, shape=(), dtype=float32)\n"
          ]
        }
      ]
    },
    {
      "cell_type": "markdown",
      "source": [
        "## Customize training"
      ],
      "metadata": {
        "id": "zksDM2dgy3S3"
      }
    },
    {
      "cell_type": "code",
      "execution_count": null,
      "metadata": {
        "colab": {
          "base_uri": "https://localhost:8080/",
          "height": 276
        },
        "id": "9cNXDPvgqMEi",
        "outputId": "1f3bf6f4-6e6e-42cf-d72e-e2f4a3d451f8"
      },
      "outputs": [
        {
          "output_type": "stream",
          "name": "stdout",
          "text": [
            "Downloading data from https://storage.googleapis.com/tensorflow/tf-keras-datasets/mnist.npz\n",
            "\u001b[1m11490434/11490434\u001b[0m \u001b[32m━━━━━━━━━━━━━━━━━━━━\u001b[0m\u001b[37m\u001b[0m \u001b[1m1s\u001b[0m 0us/step\n"
          ]
        },
        {
          "output_type": "display_data",
          "data": {
            "text/plain": [
              "<Figure size 1000x200 with 3 Axes>"
            ],
            "image/png": "[encoded data removed]"
          },
          "metadata": {}
        },
        {
          "output_type": "execute_result",
          "data": {
            "text/plain": [
              "(TensorSpec(shape=(None, 28, 28), dtype=tf.uint8, name=None),\n",
              " TensorSpec(shape=(None,), dtype=tf.uint8, name=None))"
            ]
          },
          "metadata": {},
          "execution_count": 1
        }
      ],
      "source": [
        "import tensorflow as tf\n",
        "import matplotlib.pyplot as plt\n",
        "\n",
        "(x_train, y_train), (x_test, y_test) = tf.keras.datasets.mnist.load_data()\n",
        "x_plt = x_test[8:3*13:13]\n",
        "y_plt = y_test[8:3*13:13]\n",
        "fig, axes =  plt.subplots(nrows=1, ncols=3, figsize=(10, 2))\n",
        "for ax, x, y in zip(axes, x_plt, y_plt):\n",
        "    ax.set_title(label=f\"label: {y}\")\n",
        "    ax.imshow(X=x, cmap=\"gray\")\n",
        "    ax.axis(\"off\")\n",
        "fig.tight_layout()\n",
        "plt.show()\n",
        "\n",
        "def get_ds(x, y, shuffle=False):\n",
        "    ds = tf.data.Dataset.from_tensor_slices(tensors=(x, y)).cache()\n",
        "    if shuffle:\n",
        "        ds = ds.shuffle(buffer_size=len(y))\n",
        "    ds = ds.batch(batch_size=32)\n",
        "    ds = ds.prefetch(buffer_size=tf.data.AUTOTUNE)\n",
        "    return ds\n",
        "\n",
        "ds_train = get_ds(x=x_train, y=y_train, shuffle=True)\n",
        "ds_test = get_ds(x=x_test, y=y_test)\n",
        "ds_test.element_spec"
      ]
    },
    {
      "cell_type": "code",
      "execution_count": null,
      "metadata": {
        "colab": {
          "base_uri": "https://localhost:8080/",
          "height": 569
        },
        "id": "KgwRYucet9Kt",
        "outputId": "90b7e528-a776-4ba1-b930-b59817250454"
      },
      "outputs": [
        {
          "output_type": "stream",
          "name": "stdout",
          "text": [
            "Training duration: 52s\n"
          ]
        },
        {
          "output_type": "display_data",
          "data": {
            "text/plain": [
              "<Figure size 900x600 with 2 Axes>"
            ],
            "image/png": "[encoded data removed]"
          },
          "metadata": {}
        }
      ],
      "source": [
        "import keras\n",
        "import tensorflow as tf\n",
        "tf.keras.utils.set_random_seed(seed=42)\n",
        "import os\n",
        "import time\n",
        "import pandas as pd\n",
        "import matplotlib.pyplot as plt\n",
        "import seaborn as sns\n",
        "\n",
        "@keras.saving.register_keras_serializable()\n",
        "class PreprocessingLayer(tf.keras.layers.Layer):\n",
        "    def __init__(self, **kwargs):\n",
        "        super().__init__(**kwargs)\n",
        "        self.preprocess = tf.keras.Sequential(layers=[\n",
        "            tf.keras.layers.Rescaling(scale=1./255),\n",
        "            tf.keras.layers.Reshape(target_shape=(784,))\n",
        "        ])\n",
        "\n",
        "    @tf.function\n",
        "    def call(self, inputs):\n",
        "        return self.preprocess(inputs=inputs)\n",
        "\n",
        "x = tf.keras.Input(name=\"Images\", shape=(28, 28), dtype=tf.float32)\n",
        "h = PreprocessingLayer(name=\"preprocessing\")(inputs=x)\n",
        "h = tf.keras.layers.Dense(units=64,\n",
        "    activation=tf.keras.activations.relu,\n",
        "    kernel_regularizer=tf.keras.regularizers.L2(l2=1e-5))(inputs=h)\n",
        "h = tf.keras.layers.Dropout(rate=0.2)(inputs=h)\n",
        "y = tf.keras.layers.Dense(units=10,\n",
        "    activation=tf.keras.activations.softmax)(inputs=h)\n",
        "model = tf.keras.Model(inputs=x, outputs=y)\n",
        "loss_fn = tf.keras.losses.SparseCategoricalCrossentropy()\n",
        "model.optimizer = tf.keras.optimizers.Adam(learning_rate=0.001)\n",
        "metrics = [\n",
        "    tf.keras.metrics.Mean(name=\"loss\"),\n",
        "    tf.keras.metrics.SparseCategoricalAccuracy(name=\"acc\")\n",
        "]\n",
        "\n",
        "os.makedirs(\"models\", exist_ok=True)\n",
        "ckptPath = \"models/training.weights.h5\"\n",
        "ckptModel = tf.keras.callbacks.ModelCheckpoint(monitor=\"test_acc\",\n",
        "    mode=\"max\", save_best_only=True, save_weights_only=True, filepath=ckptPath)\n",
        "reduceLR = tf.keras.callbacks.ReduceLROnPlateau(monitor=\"test_loss\",\n",
        "    mode=\"min\", patience=1, factor=0.9)\n",
        "callbacks = tf.keras.callbacks.CallbackList(model=model, add_history=True,\n",
        "    callbacks=[ckptModel, reduceLR])\n",
        "\n",
        "@tf.function(reduce_retracing=True)\n",
        "def train_step(data):\n",
        "    x, y = data\n",
        "    with tf.GradientTape() as tape:\n",
        "        y_pred = model(inputs=x, training=True)\n",
        "        loss = loss_fn(y_true=y, y_pred=y_pred)\n",
        "    vars = model.trainable_variables\n",
        "    grads = tape.gradient(target=loss, sources=vars)\n",
        "    model.optimizer.apply_gradients(grads_and_vars=zip(grads, vars))\n",
        "    for m in metrics:\n",
        "        if m.name==\"loss\":\n",
        "            m.update_state(values=loss)\n",
        "        else:\n",
        "            m.update_state(y_true=y, y_pred=y_pred)\n",
        "    return {f\"train_{m.name}\": m.result() for m in metrics}\n",
        "\n",
        "@tf.function(reduce_retracing=True)\n",
        "def test_step(data):\n",
        "    x, y = data\n",
        "    y_pred = model(inputs=x, training=False)\n",
        "    loss = loss_fn(y_true=y, y_pred=y_pred)\n",
        "    for m in metrics:\n",
        "        if m.name==\"loss\":\n",
        "            m.update_state(values=loss)\n",
        "        else:\n",
        "            m.update_state(y_true=y, y_pred=y_pred)\n",
        "    return {f\"test_{m.name}\": m.result() for m in metrics}\n",
        "\n",
        "start_time = time.time()\n",
        "history, logs = [], {}\n",
        "callbacks.on_train_begin(logs=logs)\n",
        "for epoch in range(10):\n",
        "    callbacks.on_epoch_begin(epoch=epoch, logs=logs)\n",
        "\n",
        "    for data in ds_train:\n",
        "        logs = train_step(data=data)\n",
        "    for m in metrics:\n",
        "        m.reset_state()\n",
        "\n",
        "    for data in ds_test:\n",
        "        logs_test = test_step(data=data)\n",
        "    logs.update(logs_test)\n",
        "    for m in metrics:\n",
        "        m.reset_state()\n",
        "\n",
        "    callbacks.on_epoch_end(epoch=epoch, logs=logs)\n",
        "    history.append({k: v.numpy() for k, v in logs.items()})\n",
        "callbacks.on_train_end(logs=logs)\n",
        "print(\"Training duration: %2.fs\"%(time.time() - start_time))\n",
        "\n",
        "df_history = pd.DataFrame(history)\n",
        "df_history[\"epoch\"] = df_history.index + 1\n",
        "fig, axes = plt.subplots(nrows=2, ncols=1, sharex=True, figsize=(9, 6))\n",
        "fig.suptitle(t=\"Training Metrics\")\n",
        "for ax, m in zip(axes, metrics):\n",
        "    ax.set_title(label=f\"{m.name} vs. epoch\")\n",
        "    ax.set_ylabel(ylabel=m.name)\n",
        "    sns.lineplot(ax=ax, label=\"train\", data=df_history,\n",
        "        x=\"epoch\", y=f\"train_{m.name}\")\n",
        "    sns.lineplot(ax=ax, label=\"test\", data=df_history,\n",
        "        x=\"epoch\", y=f\"test_{m.name}\")\n",
        "    ax.legend(loc=\"best\")\n",
        "axes[1].set_xlabel(xlabel=\"epoch\")\n",
        "fig.tight_layout()\n",
        "fig.show()"
      ]
    },
    {
      "cell_type": "code",
      "execution_count": null,
      "metadata": {
        "id": "R4onVmklt9Ku",
        "colab": {
          "base_uri": "https://localhost:8080/",
          "height": 607
        },
        "outputId": "0ca8a8c1-d311-43bc-ef52-6d24473cd2d8"
      },
      "outputs": [
        {
          "output_type": "display_data",
          "data": {
            "text/plain": [
              "<Figure size 1000x600 with 6 Axes>"
            ],
            "image/png": "[encoded data removed]"
          },
          "metadata": {}
        }
      ],
      "source": [
        "import numpy as np\n",
        "import matplotlib.pyplot as plt\n",
        "\n",
        "x_plt = x_test[8:3*13:13]\n",
        "y_plt = y_test[8:3*13:13]\n",
        "model.load_weights(ckptPath)\n",
        "probs = model(inputs=x_plt)\n",
        "\n",
        "fig, axes = plt.subplots(nrows=3, ncols=2, figsize=(10, 6))\n",
        "fig.subplots_adjust(hspace=0.3, wspace=-0.2)\n",
        "for ax, x, y, prob in zip(axes, x_plt, y_plt, probs):\n",
        "    ax[0].set_title(label=f\"True: {y}\")\n",
        "    ax[0].imshow(X=x, cmap=\"gray\")\n",
        "    ax[0].axis(\"off\")\n",
        "    ax[1].set_title(label=f\"Pred: {tf.math.argmax(input=prob)}\")\n",
        "    ax[1].bar(x=np.arange(len(prob)), height=prob)\n",
        "    ax[1].set_xticks(ticks=np.arange(len(prob)))\n",
        "fig.tight_layout()\n",
        "plt.show()"
      ]
    }
  ],
  "metadata": {
    "colab": {
      "name": "Introduction.ipynb",
      "provenance": [],
      "include_colab_link": true
    },
    "kernelspec": {
      "display_name": "Python 3",
      "name": "python3"
    },
    "language_info": {
      "codemirror_mode": {
        "name": "ipython",
        "version": 3
      },
      "file_extension": ".py",
      "mimetype": "text/x-python",
      "name": "python",
      "nbconvert_exporter": "python",
      "pygments_lexer": "ipython3",
      "version": "3.11.0rc1"
    }
  },
  "nbformat": 4,
  "nbformat_minor": 0
}