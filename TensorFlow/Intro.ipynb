{
 "cells": [
  {
   "cell_type": "markdown",
   "metadata": {
    "colab_type": "text",
    "id": "view-in-github"
   },
   "source": [
    "<a href=\"https://colab.research.google.com/github/MengOonLee/Deep_learning/blob/master/TensorFlow/Intro.ipynb\" target=\"_parent\"><img src=\"https://colab.research.google.com/assets/colab-badge.svg\" alt=\"Open In Colab\"/></a>"
   ]
  },
  {
   "cell_type": "markdown",
   "metadata": {
    "id": "juxNknyiLVQH"
   },
   "source": [
    "# Introduction to TensorFlow 2"
   ]
  },
  {
   "cell_type": "code",
   "execution_count": 2,
   "metadata": {
    "colab": {
     "base_uri": "https://localhost:8080/"
    },
    "id": "8hxUfcUM3kPB",
    "outputId": "cffcad7a-ab18-4015-ff73-17dafe96dd32"
   },
   "outputs": [
    {
     "data": {
      "text/plain": [
       "[PhysicalDevice(name='/physical_device:CPU:0', device_type='CPU'),\n",
       " PhysicalDevice(name='/physical_device:GPU:0', device_type='GPU')]"
      ]
     },
     "execution_count": 2,
     "metadata": {},
     "output_type": "execute_result"
    }
   ],
   "source": [
    "import os\n",
    "os.environ['TF_CPP_MIN_LOG_LEVEL'] = '2'\n",
    "import time\n",
    "import numpy as np\n",
    "import pandas as pd\n",
    "%matplotlib inline\n",
    "import matplotlib.pyplot as plt\n",
    "import seaborn as sns\n",
    "import keras\n",
    "import tensorflow as tf\n",
    "tf.keras.utils.set_random_seed(seed=42)\n",
    "tf.get_logger().setLevel('ERROR')\n",
    "tf.config.list_physical_devices()"
   ]
  },
  {
   "cell_type": "code",
   "execution_count": 3,
   "metadata": {
    "colab": {
     "base_uri": "https://localhost:8080/"
    },
    "id": "s9Mlx1kE0_1a",
    "outputId": "12be0666-2f07-4cce-9622-78d381dfc010"
   },
   "outputs": [
    {
     "data": {
      "text/plain": [
       "(TensorSpec(shape=(None, 784), dtype=tf.float32, name=None),\n",
       " TensorSpec(shape=(None,), dtype=tf.uint8, name=None))"
      ]
     },
     "execution_count": 3,
     "metadata": {},
     "output_type": "execute_result"
    }
   ],
   "source": [
    "(x_train, y_train), (x_test, y_test) = tf.keras.datasets.mnist.load_data()\n",
    "\n",
    "inputs = tf.keras.Input(shape=(28, 28), dtype=tf.float32)\n",
    "h = tf.keras.layers.Rescaling(scale=1./255)(inputs)\n",
    "outputs = tf.keras.layers.Reshape(target_shape=(784,))(h)\n",
    "preprocessing_model = tf.keras.Model(inputs=inputs, outputs=outputs)\n",
    "\n",
    "def get_ds(x, y, shuffle=False):\n",
    "    ds = tf.data.Dataset.from_tensor_slices(tensors=(x, y))\n",
    "    if shuffle:\n",
    "        ds = ds.shuffle(buffer_size=len(y))\n",
    "    ds = ds.batch(batch_size=64)\n",
    "    ds = ds.map(map_func=lambda x, y: (preprocessing_model(x), y),\n",
    "        num_parallel_calls=tf.data.AUTOTUNE)\n",
    "    ds = ds.cache().prefetch(buffer_size=tf.data.AUTOTUNE)\n",
    "    return ds\n",
    "\n",
    "ds_train = get_ds(x=x_train, y=y_train, shuffle=True)\n",
    "ds_test = get_ds(x=x_test, y=y_test)\n",
    "ds_test.element_spec"
   ]
  },
  {
   "cell_type": "code",
   "execution_count": 5,
   "metadata": {
    "id": "5A_-bmeYCWbh",
    "scrolled": true
   },
   "outputs": [],
   "source": [
    "@keras.saving.register_keras_serializable()\n",
    "class CustomModel(tf.keras.Model):\n",
    "    def __init__(self, *args, **kwargs):\n",
    "        super().__init__(*args, **kwargs)\n",
    "        self.dense_1 = tf.keras.layers.Dense(units=64,\n",
    "            activation=tf.keras.activations.relu,\n",
    "            kernel_regularizer=tf.keras.regularizers.L2(l2=1e-5))\n",
    "        self.dropout = tf.keras.layers.Dropout(rate=0.2)\n",
    "        self.dense_2 = tf.keras.layers.Dense(units=10,\n",
    "            activation=tf.keras.activations.softmax)\n",
    "\n",
    "    def call(self, inputs, training=False):\n",
    "        h = self.dense_1(inputs=inputs)\n",
    "        h = self.dropout(inputs=h, training=training)\n",
    "        return self.dense_2(inputs=h)\n",
    "\n",
    "training_model = CustomModel()\n",
    "training_model.optimizer = tf.keras.optimizers.Adam()"
   ]
  },
  {
   "cell_type": "code",
   "execution_count": 6,
   "metadata": {},
   "outputs": [],
   "source": [
    "loss_fn = tf.keras.losses.SparseCategoricalCrossentropy()\n",
    "metrics = [\n",
    "    tf.keras.metrics.Mean(name='loss'),\n",
    "    tf.keras.metrics.SparseCategoricalAccuracy(name='accuracy')\n",
    "]\n",
    "\n",
    "@tf.function\n",
    "def train_step(model, x, y):\n",
    "    \n",
    "    with tf.GradientTape() as tape:\n",
    "        y_pred = model(inputs=x, training=True)\n",
    "        loss = loss_fn(y_true=y, y_pred=y_pred)\n",
    "\n",
    "    trainable_vars = model.trainable_variables\n",
    "    grads = tape.gradient(target=loss, sources=trainable_vars)\n",
    "    model.optimizer.apply_gradients(grads_and_vars=zip(grads, trainable_vars))\n",
    "    \n",
    "    for m in metrics:\n",
    "        if m.name=='loss':\n",
    "            m.update_state(values=loss)\n",
    "        else:\n",
    "            m.update_state(y_true=y, y_pred=y_pred)\n",
    "\n",
    "    return {m.name: m.result() for m in metrics}\n",
    "\n",
    "@tf.function\n",
    "def test_step(model, x, y):\n",
    "\n",
    "    y_pred = model(inputs=x, training=False)\n",
    "    loss = loss_fn(y_true=y, y_pred=y_pred)\n",
    "\n",
    "    for m in metrics:\n",
    "        if m.name=='loss':\n",
    "            m.update_state(values=loss)\n",
    "        else:\n",
    "            m.update_state(y_true=y, y_pred=y_pred)\n",
    "\n",
    "    return {f'{m.name}': m.result() for m in metrics}"
   ]
  },
  {
   "cell_type": "code",
   "execution_count": 7,
   "metadata": {},
   "outputs": [
    {
     "data": {
      "text/html": [
       "<pre style=\"white-space:pre;overflow-x:auto;line-height:normal;font-family:Menlo,'DejaVu Sans Mono',consolas,'Courier New',monospace\"><span style=\"font-weight: bold\">Model: \"custom_model_1\"</span>\n",
       "</pre>\n"
      ],
      "text/plain": [
       "\u001b[1mModel: \"custom_model_1\"\u001b[0m\n"
      ]
     },
     "metadata": {},
     "output_type": "display_data"
    },
    {
     "data": {
      "text/html": [
       "<pre style=\"white-space:pre;overflow-x:auto;line-height:normal;font-family:Menlo,'DejaVu Sans Mono',consolas,'Courier New',monospace\">┏━━━━━━━━━━━━━━━━━━━━━━━━━━━━━━━━━┳━━━━━━━━━━━━━━━━━━━━━━━━┳━━━━━━━━━━━━━━━┓\n",
       "┃<span style=\"font-weight: bold\"> Layer (type)                    </span>┃<span style=\"font-weight: bold\"> Output Shape           </span>┃<span style=\"font-weight: bold\">       Param # </span>┃\n",
       "┡━━━━━━━━━━━━━━━━━━━━━━━━━━━━━━━━━╇━━━━━━━━━━━━━━━━━━━━━━━━╇━━━━━━━━━━━━━━━┩\n",
       "│ dense_2 (<span style=\"color: #0087ff; text-decoration-color: #0087ff\">Dense</span>)                 │ (<span style=\"color: #00af00; text-decoration-color: #00af00\">64</span>, <span style=\"color: #00af00; text-decoration-color: #00af00\">64</span>)               │        <span style=\"color: #00af00; text-decoration-color: #00af00\">50,240</span> │\n",
       "├─────────────────────────────────┼────────────────────────┼───────────────┤\n",
       "│ dropout_1 (<span style=\"color: #0087ff; text-decoration-color: #0087ff\">Dropout</span>)             │ (<span style=\"color: #00af00; text-decoration-color: #00af00\">64</span>, <span style=\"color: #00af00; text-decoration-color: #00af00\">64</span>)               │             <span style=\"color: #00af00; text-decoration-color: #00af00\">0</span> │\n",
       "├─────────────────────────────────┼────────────────────────┼───────────────┤\n",
       "│ dense_3 (<span style=\"color: #0087ff; text-decoration-color: #0087ff\">Dense</span>)                 │ (<span style=\"color: #00af00; text-decoration-color: #00af00\">64</span>, <span style=\"color: #00af00; text-decoration-color: #00af00\">10</span>)               │           <span style=\"color: #00af00; text-decoration-color: #00af00\">650</span> │\n",
       "└─────────────────────────────────┴────────────────────────┴───────────────┘\n",
       "</pre>\n"
      ],
      "text/plain": [
       "┏━━━━━━━━━━━━━━━━━━━━━━━━━━━━━━━━━┳━━━━━━━━━━━━━━━━━━━━━━━━┳━━━━━━━━━━━━━━━┓\n",
       "┃\u001b[1m \u001b[0m\u001b[1mLayer (type)                   \u001b[0m\u001b[1m \u001b[0m┃\u001b[1m \u001b[0m\u001b[1mOutput Shape          \u001b[0m\u001b[1m \u001b[0m┃\u001b[1m \u001b[0m\u001b[1m      Param #\u001b[0m\u001b[1m \u001b[0m┃\n",
       "┡━━━━━━━━━━━━━━━━━━━━━━━━━━━━━━━━━╇━━━━━━━━━━━━━━━━━━━━━━━━╇━━━━━━━━━━━━━━━┩\n",
       "│ dense_2 (\u001b[38;5;33mDense\u001b[0m)                 │ (\u001b[38;5;34m64\u001b[0m, \u001b[38;5;34m64\u001b[0m)               │        \u001b[38;5;34m50,240\u001b[0m │\n",
       "├─────────────────────────────────┼────────────────────────┼───────────────┤\n",
       "│ dropout_1 (\u001b[38;5;33mDropout\u001b[0m)             │ (\u001b[38;5;34m64\u001b[0m, \u001b[38;5;34m64\u001b[0m)               │             \u001b[38;5;34m0\u001b[0m │\n",
       "├─────────────────────────────────┼────────────────────────┼───────────────┤\n",
       "│ dense_3 (\u001b[38;5;33mDense\u001b[0m)                 │ (\u001b[38;5;34m64\u001b[0m, \u001b[38;5;34m10\u001b[0m)               │           \u001b[38;5;34m650\u001b[0m │\n",
       "└─────────────────────────────────┴────────────────────────┴───────────────┘\n"
      ]
     },
     "metadata": {},
     "output_type": "display_data"
    },
    {
     "data": {
      "text/html": [
       "<pre style=\"white-space:pre;overflow-x:auto;line-height:normal;font-family:Menlo,'DejaVu Sans Mono',consolas,'Courier New',monospace\"><span style=\"font-weight: bold\"> Total params: </span><span style=\"color: #00af00; text-decoration-color: #00af00\">50,890</span> (198.79 KB)\n",
       "</pre>\n"
      ],
      "text/plain": [
       "\u001b[1m Total params: \u001b[0m\u001b[38;5;34m50,890\u001b[0m (198.79 KB)\n"
      ]
     },
     "metadata": {},
     "output_type": "display_data"
    },
    {
     "data": {
      "text/html": [
       "<pre style=\"white-space:pre;overflow-x:auto;line-height:normal;font-family:Menlo,'DejaVu Sans Mono',consolas,'Courier New',monospace\"><span style=\"font-weight: bold\"> Trainable params: </span><span style=\"color: #00af00; text-decoration-color: #00af00\">50,890</span> (198.79 KB)\n",
       "</pre>\n"
      ],
      "text/plain": [
       "\u001b[1m Trainable params: \u001b[0m\u001b[38;5;34m50,890\u001b[0m (198.79 KB)\n"
      ]
     },
     "metadata": {},
     "output_type": "display_data"
    },
    {
     "data": {
      "text/html": [
       "<pre style=\"white-space:pre;overflow-x:auto;line-height:normal;font-family:Menlo,'DejaVu Sans Mono',consolas,'Courier New',monospace\"><span style=\"font-weight: bold\"> Non-trainable params: </span><span style=\"color: #00af00; text-decoration-color: #00af00\">0</span> (0.00 B)\n",
       "</pre>\n"
      ],
      "text/plain": [
       "\u001b[1m Non-trainable params: \u001b[0m\u001b[38;5;34m0\u001b[0m (0.00 B)\n"
      ]
     },
     "metadata": {},
     "output_type": "display_data"
    },
    {
     "name": "stdout",
     "output_type": "stream",
     "text": [
      "Training duration: 35.19s\n"
     ]
    }
   ],
   "source": [
    "reduce_lr = tf.keras.callbacks.ReduceLROnPlateau(monitor='loss',\n",
    "    patience=1, factor=0.9)\n",
    "callbacks = tf.keras.callbacks.CallbackList(model=training_model,\n",
    "    add_history=True, callbacks=[reduce_lr])\n",
    "\n",
    "history = {\n",
    "    'loss': [], 'val_loss': [],\n",
    "    'accuracy': [], 'val_accuracy': []\n",
    "}\n",
    "num_epochs = 10\n",
    "start_time = time.time()\n",
    "logs = {}\n",
    "callbacks.on_train_begin(logs=logs)\n",
    "for epoch in range(num_epochs):\n",
    "    callbacks.on_epoch_begin(epoch=epoch, logs=logs)\n",
    "\n",
    "    for x, y in ds_train:        \n",
    "        logs = train_step(model=training_model, x=x, y=y)\n",
    "        \n",
    "    for m in metrics:\n",
    "        history[m.name].append(logs[m.name].numpy())\n",
    "        m.reset_state()\n",
    "\n",
    "    for x, y in ds_test:\n",
    "        logs = test_step(model=training_model, x=x, y=y)\n",
    "    \n",
    "    for m in metrics:\n",
    "        history[f'val_{m.name}'].append(logs[m.name].numpy())\n",
    "        m.reset_state()\n",
    "        \n",
    "    callbacks.on_epoch_end(epoch=epoch, logs=logs)\n",
    "callbacks.on_train_end(logs=logs)\n",
    "training_model.summary()\n",
    "\n",
    "print('Training duration: %.2fs'%(time.time() - start_time))"
   ]
  },
  {
   "cell_type": "code",
   "execution_count": 8,
   "metadata": {
    "scrolled": true
   },
   "outputs": [
    {
     "data": {
      "image/png": "[encoded data removed]",
      "text/plain": [
       "<Figure size 1200x400 with 2 Axes>"
      ]
     },
     "metadata": {},
     "output_type": "display_data"
    },
    {
     "name": "stdout",
     "output_type": "stream",
     "text": [
      "Test loss: 0.09, Test accuracy: 0.97\n"
     ]
    }
   ],
   "source": [
    "df_history = pd.DataFrame(history)\n",
    "df_history['epoch'] = df_history.index + 1\n",
    "\n",
    "fig, axes = plt.subplots(nrows=1, ncols=2, figsize=(12, 4))\n",
    "for ax, m in zip(axes, [\"loss\", \"accuracy\"]):\n",
    "    g = sns.lineplot(ax=ax, data=df_history, label='train',\n",
    "        x='epoch', y=f'{m}')\n",
    "    g = sns.lineplot(ax=ax, data=df_history, label='val',\n",
    "        x='epoch', y=f'val_{m}')\n",
    "    ax.legend(loc=\"best\")\n",
    "    ax.set_xlabel(xlabel=\"epoch\")\n",
    "    ax.set_ylabel(ylabel=f\"{m}\")\n",
    "    ax.set_title(label=f\"{m} vs. epoch\")\n",
    "fig.tight_layout()\n",
    "plt.show()\n",
    "\n",
    "for batch, (x, y) in enumerate(ds_test):\n",
    "    logs = test_step(model=training_model, x=x, y=y)\n",
    "print(f'Test loss: {logs[\"loss\"]:.2f}, Test accuracy: {logs[\"accuracy\"]:.2f}')"
   ]
  },
  {
   "cell_type": "code",
   "execution_count": 9,
   "metadata": {
    "colab": {
     "base_uri": "https://localhost:8080/"
    },
    "id": "zDBcdVlb3kPF",
    "outputId": "015d1738-0682-4cef-f29f-1328ac2c8226"
   },
   "outputs": [
    {
     "name": "stdout",
     "output_type": "stream",
     "text": [
      "y_true: 9 y_pred: 9\n"
     ]
    }
   ],
   "source": [
    "inputs = preprocessing_model.input\n",
    "outputs = training_model(preprocessing_model(inputs))\n",
    "inference_model = tf.keras.Model(inputs=inputs, outputs=outputs)\n",
    "os.makedirs('models', exist_ok=True)\n",
    "inference_model.save('models/model.keras')\n",
    "\n",
    "idx = 99\n",
    "x_pred = np.reshape(a=x_test[idx], newshape=(1, 28, 28))\n",
    "inference_model = tf.keras.models.load_model('models/model.keras')\n",
    "y_pred = inference_model(x_pred)\n",
    "print('y_true:', y_test[idx], 'y_pred:', np.argmax(y_pred))"
   ]
  }
 ],
 "metadata": {
  "accelerator": "GPU",
  "colab": {
   "gpuType": "T4",
   "include_colab_link": true,
   "name": "Introduction.ipynb",
   "provenance": []
  },
  "kernelspec": {
   "display_name": "Python 3 (ipykernel)",
   "language": "python",
   "name": "python3"
  },
  "language_info": {
   "codemirror_mode": {
    "name": "ipython",
    "version": 3
   },
   "file_extension": ".py",
   "mimetype": "text/x-python",
   "name": "python",
   "nbconvert_exporter": "python",
   "pygments_lexer": "ipython3",
   "version": "3.11.0rc1"
  }
 },
 "nbformat": 4,
 "nbformat_minor": 4
}
