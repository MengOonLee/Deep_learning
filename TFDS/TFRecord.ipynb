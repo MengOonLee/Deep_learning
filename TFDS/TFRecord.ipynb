{
  "nbformat": 4,
  "nbformat_minor": 0,
  "metadata": {
    "colab": {
      "provenance": [],
      "authorship_tag": "ABX9TyPZYHRunNR0xXMCvJSA4M6r",
      "include_colab_link": true
    },
    "kernelspec": {
      "name": "python3",
      "display_name": "Python 3"
    },
    "language_info": {
      "name": "python"
    }
  },
  "cells": [
    {
      "cell_type": "markdown",
      "metadata": {
        "id": "view-in-github",
        "colab_type": "text"
      },
      "source": [
        "<a href=\"https://colab.research.google.com/github/MengOonLee/Deep_learning/blob/master/TFDS/TFRecord.ipynb\" target=\"_parent\"><img src=\"https://colab.research.google.com/assets/colab-badge.svg\" alt=\"Open In Colab\"/></a>"
      ]
    },
    {
      "cell_type": "code",
      "execution_count": 4,
      "metadata": {
        "id": "r-HirUwoQSNe",
        "outputId": "78674c75-32bc-4d4a-ca6d-8f914801baff",
        "colab": {
          "base_uri": "https://localhost:8080/"
        }
      },
      "outputs": [
        {
          "output_type": "execute_result",
          "data": {
            "text/plain": [
              "(<tf.Tensor: shape=(9,), dtype=int64, numpy=array([0, 1, 2, 3, 4, 5, 6, 7, 8])>,\n",
              " <tf.Tensor: shape=(), dtype=int64, numpy=9>)"
            ]
          },
          "metadata": {},
          "execution_count": 4
        }
      ],
      "source": [
        "import tensorflow as tf\n",
        "tf.keras.utils.set_random_seed(seed=42)\n",
        "tf.get_logger().setLevel(\"ERROR\")\n",
        "\n",
        "ds = tf.data.Dataset.range(100)\n",
        "ds = ds.window(size=10, shift=1)\n",
        "ds = ds.flat_map(lambda w: w.batch(\n",
        "    batch_size=10, drop_remainder=True))\n",
        "ds = ds.map(lambda w: (w[:-1], w[-1]))\n",
        "\n",
        "next(iter(ds))"
      ]
    }
  ]
}