{
 "cells": [
  {
   "cell_type": "markdown",
   "metadata": {
    "colab_type": "text",
    "id": "view-in-github"
   },
   "source": [
    "<a href=\"https://colab.research.google.com/github/https-deeplearning-ai/tensorflow-2-public/blob/adding_C3/C3/W1/ungraded_labs/C3_W1_Lab_1_tfds_hello_world.ipynb\" target=\"_parent\"><img src=\"https://colab.research.google.com/assets/colab-badge.svg\" alt=\"Open In Colab\"/></a>"
   ]
  },
  {
   "cell_type": "markdown",
   "metadata": {
    "id": "RB_xWPLAO0sV"
   },
   "source": [
    "# TFDS Data Pipelines"
   ]
  },
  {
   "cell_type": "code",
   "execution_count": null,
   "metadata": {
    "id": "zX4Kg8DUTKWO"
   },
   "outputs": [],
   "source": [
    "#@title Licensed under the Apache License, Version 2.0 (the \"License\");\n",
    "# you may not use this file except in compliance with the License.\n",
    "# You may obtain a copy of the License at\n",
    "#\n",
    "# https://www.apache.org/licenses/LICENSE-2.0\n",
    "#\n",
    "# Unless required by applicable law or agreed to in writing, software\n",
    "# distributed under the License is distributed on an \"AS IS\" BASIS,\n",
    "# WITHOUT WARRANTIES OR CONDITIONS OF ANY KIND, either express or implied.\n",
    "# See the License for the specific language governing permissions and\n",
    "# limitations under the License."
   ]
  },
  {
   "cell_type": "markdown",
   "metadata": {
    "id": "To7phQPNO0sY"
   },
   "source": [
    "In this notebook we will take a look at the simple data pipelines scenario of TensorFlow Datasets (TFDS). We'll use TFDS to perform the extract, transform, and load processes for the MNIST dataset."
   ]
  },
  {
   "cell_type": "markdown",
   "metadata": {
    "id": "xH42FxIbO0sZ"
   },
   "source": [
    "## Setup\n",
    "\n",
    "We'll start by importing TensorFlow, TensorFlow Datasets, and Matplotlib."
   ]
  },
  {
   "cell_type": "code",
   "execution_count": 1,
   "metadata": {},
   "outputs": [
    {
     "name": "stdout",
     "output_type": "stream",
     "text": [
      "No broken requirements found.\n"
     ]
    }
   ],
   "source": [
    "%%bash\n",
    "pip install -qU pip wheel\n",
    "pip install -qU tensorflow-gpu tensorflow-datasets\n",
    "pip install -qU numpy pandas matplotlib seaborn\n",
    "pip check"
   ]
  },
  {
   "cell_type": "code",
   "execution_count": null,
   "metadata": {
    "id": "qkngr8bGO0sZ"
   },
   "outputs": [],
   "source": [
    "try:\n",
    "    %tensorflow_version 2.x\n",
    "except Exception:\n",
    "    pass"
   ]
  },
  {
   "cell_type": "code",
   "execution_count": null,
   "metadata": {
    "id": "TTBSvHcSLBzc"
   },
   "outputs": [],
   "source": [
    "import warnings\n",
    "warnings.filterwarnings('ignore')\n",
    "\n",
    "%matplotlib inline\n",
    "%config InlineBackend.figure_format = 'retina'\n",
    "import matplotlib.pyplot as plt\n",
    "\n",
    "import seaborn as sns\n",
    "sns.set_style('whitegrid')\n",
    "sns.set(font='DejaVu Sans')\n",
    "\n",
    "import numpy as np\n",
    "import pandas as pd\n",
    "\n",
    "import tensorflow as tf\n",
    "import tensorflow_datasets as tfds\n",
    "\n",
    "print(\"\\u2022 Using TensorFlow Version:\", tf.__version__)"
   ]
  },
  {
   "cell_type": "code",
   "execution_count": null,
   "metadata": {},
   "outputs": [],
   "source": [
    "# Limiting GPU memory growth\n",
    "gpus = tf.config.list_physical_devices('GPU')\n",
    "if gpus:\n",
    "    try:\n",
    "        # Memory growth needs to be the same across GPUs\n",
    "        for gpu in gpus:\n",
    "            tf.config.experimental.set_memory_growth(gpu, True)\n",
    "        logical_gpus = tf.config.list_logical_devices('GPU')\n",
    "        print(len(gpus), \"Physical GPUs,\", len(logical_gpus), \"Logical GPUs\")\n",
    "    except RuntimeError as e:\n",
    "        # Memory growth must be set before GPUs have been initialized\n",
    "        print(e)"
   ]
  },
  {
   "cell_type": "markdown",
   "metadata": {
    "id": "7Zyae8k2O0sa"
   },
   "source": [
    "## Extract - Transform - Load (ETL)\n",
    "\n",
    "Now we'll run the **ETL** code. First, to perform the **Extract** process we use `tfts.load`. This handles everything from downloading the raw data to parsing and splitting it, giving us a dataset. Next, we perform the **Transform** process. In this simple example, our transform process will just consist of shuffling the dataset. Finally, we **Load** one record by using the `take(1)` method. In this case, each record consists of an image and its corresponding label. After loading the record we proceed to plot the image and print its corresponding label. "
   ]
  },
  {
   "cell_type": "code",
   "execution_count": null,
   "metadata": {
    "scrolled": true,
    "tags": []
   },
   "outputs": [],
   "source": [
    "tfds.list_builders()"
   ]
  },
  {
   "cell_type": "code",
   "execution_count": null,
   "metadata": {
    "scrolled": true,
    "tags": []
   },
   "outputs": [],
   "source": [
    "# Pick dataset\n",
    "mnist_builder = tfds.builder('mnist')\n",
    "# Download\n",
    "mnist_builder.download_and_prepare()\n",
    "# Extract dataset\n",
    "mnist_builder.as_dataset(split=tfds.Split.TRAIN)"
   ]
  },
  {
   "cell_type": "code",
   "execution_count": null,
   "metadata": {
    "scrolled": true,
    "tags": []
   },
   "outputs": [],
   "source": [
    "dataset, info = tfds.load(name='mnist', with_info=True)\n",
    "info"
   ]
  },
  {
   "cell_type": "code",
   "execution_count": null,
   "metadata": {},
   "outputs": [],
   "source": [
    "print('Number of training examples:', info.splits['train'].num_examples)"
   ]
  },
  {
   "cell_type": "code",
   "execution_count": null,
   "metadata": {},
   "outputs": [],
   "source": [
    "# Construct a tf.data.Dataset from MNIST\n",
    "dataset = tfds.load(name='mnist')\n",
    "# Inspecting shapes and datatypes\n",
    "dataset"
   ]
  },
  {
   "cell_type": "code",
   "execution_count": null,
   "metadata": {
    "scrolled": true,
    "tags": []
   },
   "outputs": [],
   "source": [
    "# EXTRACT\n",
    "# Construct a tf.data.Dataset by downloading and extracting\n",
    "dataset = tfds.load(name='mnist', split='test')\n",
    "# Checking if the dataset is an instance of tf.data.Dataset\n",
    "assert isinstance(dataset, tf.data.Dataset)\n",
    "\n",
    "def scale(elem):\n",
    "    elem['image'] = tf.cast(elem['image'], tf.float32)\n",
    "    elem['image'] /= 255.0\n",
    "    return elem\n",
    "\n",
    "# TRANSFORM\n",
    "dataset = dataset.map(scale)\n",
    "dataset = dataset.shuffle(100) # number samples\n",
    "# dataset = dataset.repeat(1) # number epochs\n",
    "# dataset = dataset.batch(1) # batch size\n",
    "\n",
    "# LOAD\n",
    "iterator = dataset.take(10).cache().repeat(1) # To fetch 10 samples from the dataset\n",
    "# for data in iterator:\n",
    "#     image = data['image'].numpy().squeeze()\n",
    "#     label = data['label'].numpy()\n",
    "    \n",
    "#     print(\"Label: {}\".format(label))\n",
    "#     plt.imshow(image, cmap=plt.cm.binary)\n",
    "#     plt.show()\n",
    "for data in iterator:\n",
    "    print(data)"
   ]
  },
  {
   "cell_type": "code",
   "execution_count": null,
   "metadata": {
    "scrolled": true,
    "tags": []
   },
   "outputs": [],
   "source": [
    "dataset = tfds.load(name='mnist', as_supervised=True)\n",
    "# Inspecting shapes of a batch\n",
    "# tuples of data and label\n",
    "for image, label in dataset['train'].take(1):\n",
    "    print(image.shape, label.shape)"
   ]
  },
  {
   "cell_type": "markdown",
   "metadata": {},
   "source": [
    "## Fashion MNIST"
   ]
  },
  {
   "cell_type": "code",
   "execution_count": null,
   "metadata": {
    "scrolled": true,
    "tags": []
   },
   "outputs": [],
   "source": [
    "(x_train, y_train), (x_test, y_test) = \\\n",
    "    tf.keras.datasets.fashion_mnist.load_data()\n",
    "\n",
    "print(\"x_train shape:\", x_train.shape)\n",
    "print(\"y_train shape:\", y_train.shape)"
   ]
  },
  {
   "cell_type": "code",
   "execution_count": null,
   "metadata": {
    "scrolled": true,
    "tags": []
   },
   "outputs": [],
   "source": [
    "(x_train, y_train), (x_test, y_test) = \\\n",
    "    tfds.as_numpy(tfds.load(name='fashion_mnist', split=['train', 'test'],\n",
    "        batch_size=-1, as_supervised=True))\n",
    "x_train = x_train / 255.0\n",
    "x_test = x_test / 255.0\n",
    "# Reserve 10,0000 samples for validation\n",
    "x_valid = x_train[-10000:]\n",
    "y_valid = y_train[-10000:]\n",
    "x_train = x_train[:-10000]\n",
    "y_train = y_train[:-10000]\n",
    "print(\"x_train shape:\", x_train.shape)\n",
    "print(\"x_valid shape:\", x_valid.shape)\n",
    "print(\"x_test shape:\", x_test.shape)\n",
    "\n",
    "inputs = tf.keras.Input(shape=(28, 28, 1))\n",
    "h = tf.keras.layers.Flatten()(inputs)\n",
    "h = tf.keras.layers.Dense(128, activation=tf.nn.relu)(h)\n",
    "h = tf.keras.layers.Dropout(0.2)(h)\n",
    "outputs = tf.keras.layers.Dense(10, activation=tf.nn.softmax)(h)\n",
    "\n",
    "model = tf.keras.Model(inputs=inputs, outputs=outputs)\n",
    "model.summary()\n",
    "\n",
    "model.compile(loss=tf.keras.losses.SparseCategoricalCrossentropy(),\n",
    "    optimizer=tf.keras.optimizers.Adam(),\n",
    "    metrics=[tf.keras.metrics.SparseCategoricalAccuracy()])\n",
    "\n",
    "history = model.fit(x_train, y_train, validation_data=(x_valid, y_valid),\n",
    "    epochs=5, batch_size=64, verbose=0)\n",
    "history_df = pd.DataFrame(history.history, index=history.epoch)\n",
    "_, axs = plt.subplots(nrows=1, ncols=2, figsize=(15, 5))\n",
    "for metric, ax in zip(['loss', 'sparse_categorical_accuracy'], axs):\n",
    "    sns.lineplot(ax=ax, data=history_df, x=history_df.index,\n",
    "        y=metric, label='Train')\n",
    "    sns.lineplot(ax=ax, data=history_df, x=history_df.index,\n",
    "        y='val_' + metric, label='Valid')\n",
    "    ax.set_xlabel('epoch')\n",
    "    ax.set_title(metric)\n",
    "plt.show()\n",
    "\n",
    "result = model.evaluate(x_test, y_test, \n",
    "    batch_size=128, verbose=0)\n",
    "print(f\"Test loss: {result[0]:.4f} \\n\"\n",
    "    f\"Test accuracy: {result[1]:.4f}\")\n",
    "\n",
    "predict = model.predict(x_test[:3])\n",
    "print(f\"Predict: {np.argmax(predict, axis=1)}\\n\"\n",
    "    f\"Confidence: {100*np.max(predict, axis=1)}\")"
   ]
  },
  {
   "cell_type": "markdown",
   "metadata": {},
   "source": [
    "## Horses or Humans"
   ]
  },
  {
   "cell_type": "code",
   "execution_count": null,
   "metadata": {
    "scrolled": true,
    "tags": []
   },
   "outputs": [],
   "source": [
    "_, info = tfds.load(name='horses_or_humans', with_info=True)\n",
    "info"
   ]
  },
  {
   "cell_type": "code",
   "execution_count": null,
   "metadata": {
    "scrolled": true,
    "tags": []
   },
   "outputs": [],
   "source": [
    "inputs = tf.keras.Input(shape=(300, 300, 3))\n",
    "h = tf.keras.layers.Conv2D(16, (3, 3), activation=tf.nn.relu)(inputs)\n",
    "h = tf.keras.layers.MaxPooling2D(2, 2)(h)\n",
    "h = tf.keras.layers.Conv2D(32, (3, 3), activation=tf.nn.relu)(h)\n",
    "h = tf.keras.layers.MaxPooling2D(2, 2)(h)\n",
    "h = tf.keras.layers.Conv2D(64, (3, 3), activation=tf.nn.relu)(h)\n",
    "h = tf.keras.layers.MaxPooling2D(2, 2)(h)\n",
    "h = tf.keras.layers.Conv2D(64, (3, 3), activation=tf.nn.relu)(h)\n",
    "h = tf.keras.layers.MaxPooling2D(2, 2)(h)\n",
    "h = tf.keras.layers.Conv2D(64, (3, 3), activation=tf.nn.relu)(h)\n",
    "h = tf.keras.layers.MaxPooling2D(2, 2)(h)\n",
    "h = tf.keras.layers.Flatten()(h)\n",
    "h = tf.keras.layers.Dense(512, activation=tf.nn.relu)(h)\n",
    "outputs = tf.keras.layers.Dense(1, activation=tf.nn.sigmoid)(h)\n",
    "\n",
    "model = tf.keras.Model(inputs=inputs, outputs=outputs)\n",
    "model.compile(optimizer=tf.keras.optimizers.Adam(), \n",
    "    loss=tf.keras.losses.BinaryCrossentropy(),\n",
    "    metrics=[tf.keras.metrics.Accuracy()])\n",
    "model.summary()\n",
    "\n",
    "train_data = tfds.load(name='horses_or_humans', split='train', \n",
    "    as_supervised=True)\n",
    "valid_data = tfds.load(name='horses_or_humans', split='test',\n",
    "    as_supervised=True)\n",
    "\n",
    "train_batch = train_data.shuffle(100).batch(32).cache()\n",
    "valid_batch = valid_data.batch(32).cache()\n",
    "\n",
    "history = model.fit(train_batch, validation_data=valid_batch,\n",
    "    validation_steps=1, epochs=10, verbose=0)\n",
    "\n",
    "history_df = pd.DataFrame(history.history, index=history.epoch)\n",
    "_, axs = plt.subplots(nrows=1, ncols=2, figsize=(15, 5))\n",
    "for metric, ax in zip(['loss', 'accuracy'], axs):\n",
    "    sns.lineplot(ax=ax, data=history_df, x=history_df.index, \n",
    "        y=metric, label='Train')\n",
    "    sns.lineplot(ax=ax, data=history_df, x=history_df.index,\n",
    "        y='val_' + metric, label='Valid')\n",
    "    ax.set_xlabel('epoch')\n",
    "    ax.set_title(metric)\n",
    "plt.show()\n",
    "\n",
    "result = model.evaluate(valid_batch, verbose=0)\n",
    "print(f\"Test loss: {result[0]:.4f} \\n\"\n",
    "    f\"Test accuracy: {result[1]:.4f}\")"
   ]
  },
  {
   "cell_type": "code",
   "execution_count": null,
   "metadata": {},
   "outputs": [],
   "source": []
  }
 ],
 "metadata": {
  "accelerator": "GPU",
  "colab": {
   "collapsed_sections": [],
   "include_colab_link": true,
   "name": "C3_W1_Lab_1_tfds_hello_world.ipynb",
   "provenance": [],
   "toc_visible": true
  },
  "kernelspec": {
   "display_name": "Python 3 (ipykernel)",
   "language": "python",
   "name": "python3"
  },
  "language_info": {
   "codemirror_mode": {
    "name": "ipython",
    "version": 3
   },
   "file_extension": ".py",
   "mimetype": "text/x-python",
   "name": "python",
   "nbconvert_exporter": "python",
   "pygments_lexer": "ipython3",
   "version": "3.8.10"
  }
 },
 "nbformat": 4,
 "nbformat_minor": 4
}
