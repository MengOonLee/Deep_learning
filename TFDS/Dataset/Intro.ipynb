{
 "cells": [
  {
   "cell_type": "markdown",
   "metadata": {
    "id": "RB_xWPLAO0sV"
   },
   "source": [
    "# TFDS Hello World"
   ]
  },
  {
   "cell_type": "markdown",
   "metadata": {
    "id": "To7phQPNO0sY"
   },
   "source": [
    "In this notebook we will take a look at the simple Hello World scenario of TensorFlow Datasets (TFDS). We'll use TFDS to perform the extract, transform, and load processes for the MNIST dataset."
   ]
  },
  {
   "cell_type": "markdown",
   "metadata": {
    "id": "xH42FxIbO0sZ"
   },
   "source": [
    "## Setup\n",
    "\n",
    "We'll start by importing TensorFlow, TensorFlow Datasets, and Matplotlib."
   ]
  },
  {
   "cell_type": "code",
   "execution_count": 1,
   "metadata": {
    "id": "qkngr8bGO0sZ"
   },
   "outputs": [
    {
     "name": "stdout",
     "output_type": "stream",
     "text": [
      "No broken requirements found.\n"
     ]
    }
   ],
   "source": [
    "%%bash\n",
    "pip install --no-cache-dir -qU pip wheel\n",
    "pip install --no-cache-dir -qU numpy pandas matplotlib seaborn scikit-learn\n",
    "pip install --no-cache-dir -qU tensorflow tensorflow-datasets\n",
    "pip check"
   ]
  },
  {
   "cell_type": "code",
   "execution_count": 1,
   "metadata": {
    "id": "TTBSvHcSLBzc"
   },
   "outputs": [
    {
     "name": "stdout",
     "output_type": "stream",
     "text": [
      "• Using TensorFlow Version: 2.11.0\n"
     ]
    }
   ],
   "source": [
    "import os\n",
    "os.environ['TF_CPP_MIN_LOG_LEVEL'] = '2'\n",
    "\n",
    "import warnings\n",
    "warnings.filterwarnings('ignore')\n",
    "\n",
    "import numpy as np\n",
    "np.random.seed(42)\n",
    "\n",
    "import pandas as pd\n",
    "import json\n",
    "\n",
    "%matplotlib inline\n",
    "%config InlineBackend.figure_format = 'retina'\n",
    "import matplotlib.pyplot as plt\n",
    "\n",
    "import seaborn as sns\n",
    "sns.set_style('whitegrid')\n",
    "sns.set(font='DejaVu Sans')\n",
    "\n",
    "import tensorflow as tf\n",
    "tf.keras.utils.set_random_seed(42)\n",
    "tf.get_logger().setLevel('ERROR')\n",
    "\n",
    "import tensorflow_datasets as tfds\n",
    "\n",
    "print(\"\\u2022 Using TensorFlow Version:\", tf.__version__)"
   ]
  },
  {
   "cell_type": "markdown",
   "metadata": {
    "id": "7Zyae8k2O0sa"
   },
   "source": [
    "## Extract - Transform - Load (ETL)\n",
    "\n",
    "Now we'll run the **ETL** code. First, to perform the **Extract** process we use `tfts.load`. This handles everything from downloading the raw data to parsing and splitting it, giving us a dataset. Next, we perform the **Transform** process. In this simple example, our transform process will just consist of shuffling the dataset. Finally, we **Load** one record by using the `take(1)` method. In this case, each record consists of an image and its corresponding label. After loading the record we proceed to plot the image and print its corresponding label. "
   ]
  },
  {
   "cell_type": "code",
   "execution_count": null,
   "metadata": {},
   "outputs": [],
   "source": [
    "# Construct a tf.data.Dataset by downloading and extracting\n",
    "# Extract\n",
    "dataset = tfds.load(name=\"mnist\", split=tfds.Split.TRAIN)\n",
    "# Transform\n",
    "dataset = dataset.shuffle(NUM_SAMPLES) # buffer size\n",
    "dataset = dataset.repeat(NUM_EPOCHS)\n",
    "dataset = dataset.map(lambda x: ...)\n",
    "dataset = dataset.batch(BATCH_SIZE)\n",
    "# Load\n",
    "iterator = dataset.take(10) # To fetch 10 samples from the dataset\n",
    "for data in iterator:\n",
    "    # Acess data and use it"
   ]
  },
  {
   "cell_type": "code",
   "execution_count": 2,
   "metadata": {},
   "outputs": [
    {
     "name": "stdout",
     "output_type": "stream",
     "text": [
      "['abstract_reasoning', 'accentdb', 'aeslc', 'aflw2k3d', 'ag_news_subset', 'ai2_arc', 'ai2_arc_with_ir', 'amazon_us_reviews', 'anli', 'answer_equivalence']\n"
     ]
    }
   ],
   "source": [
    "print(tfds.list_builders()[:10])"
   ]
  },
  {
   "cell_type": "code",
   "execution_count": 3,
   "metadata": {},
   "outputs": [
    {
     "name": "stdout",
     "output_type": "stream",
     "text": [
      "<PrefetchDataset element_spec={'image': TensorSpec(shape=(28, 28, 1), dtype=tf.uint8, name=None), 'label': TensorSpec(shape=(), dtype=tf.int64, name=None)}>\n"
     ]
    }
   ],
   "source": [
    "# Construct a tf.data.Dataset from MNIST\n",
    "dataset = tfds.load(name=\"mnist\", split=tfds.Split.TRAIN)\n",
    "# Inspecting shapes and datatypes\n",
    "print(dataset)\n",
    "# Checking if the dataset is an instance of tf.data.Dataset\n",
    "assert isinstance(dataset, tf.data.Dataset)"
   ]
  },
  {
   "cell_type": "code",
   "execution_count": 4,
   "metadata": {
    "collapsed": true,
    "jupyter": {
     "outputs_hidden": true
    },
    "scrolled": true,
    "tags": []
   },
   "outputs": [
    {
     "name": "stdout",
     "output_type": "stream",
     "text": [
      "tfds.core.DatasetInfo(\n",
      "    name='mnist',\n",
      "    full_name='mnist/3.0.1',\n",
      "    description=\"\"\"\n",
      "    The MNIST database of handwritten digits.\n",
      "    \"\"\",\n",
      "    homepage='http://yann.lecun.com/exdb/mnist/',\n",
      "    data_path='/home/meng/tensorflow_datasets/mnist/3.0.1',\n",
      "    file_format=tfrecord,\n",
      "    download_size=11.06 MiB,\n",
      "    dataset_size=21.00 MiB,\n",
      "    features=FeaturesDict({\n",
      "        'image': Image(shape=(28, 28, 1), dtype=uint8),\n",
      "        'label': ClassLabel(shape=(), dtype=int64, num_classes=10),\n",
      "    }),\n",
      "    supervised_keys=('image', 'label'),\n",
      "    disable_shuffling=False,\n",
      "    splits={\n",
      "        'test': <SplitInfo num_examples=10000, num_shards=1>,\n",
      "        'train': <SplitInfo num_examples=60000, num_shards=1>,\n",
      "    },\n",
      "    citation=\"\"\"@article{lecun2010mnist,\n",
      "      title={MNIST handwritten digit database},\n",
      "      author={LeCun, Yann and Cortes, Corinna and Burges, CJ},\n",
      "      journal={ATT Labs [Online]. Available: http://yann.lecun.com/exdb/mnist},\n",
      "      volume={2},\n",
      "      year={2010}\n",
      "    }\"\"\",\n",
      ")\n",
      "Data dir:  /home/meng/tensorflow_datasets/mnist/3.0.1\n",
      "Image features:  Image(shape=(28, 28, 1), dtype=uint8)\n",
      "Label features:  ClassLabel(shape=(), dtype=int64, num_classes=10)\n",
      "Number of training examples  60000\n",
      "Number of test examples  10000\n"
     ]
    }
   ],
   "source": [
    "mnist, info = tfds.load(name=\"mnist\", with_info=True)\n",
    "print(info)\n",
    "print(\"Data dir: \", info.data_dir)\n",
    "print(\"Image features: \", info.features['image'])\n",
    "print(\"Label features: \", info.features['label'])\n",
    "print(\"Number of training examples \", info.splits['train'].num_examples)\n",
    "print(\"Number of test examples \", info.splits['test'].num_examples)"
   ]
  },
  {
   "cell_type": "code",
   "execution_count": 5,
   "metadata": {},
   "outputs": [
    {
     "name": "stdout",
     "output_type": "stream",
     "text": [
      "(28, 28, 1) ()\n"
     ]
    }
   ],
   "source": [
    "dataset = tfds.load(name=\"mnist\", as_supervised=True)\n",
    "# Inspecting shapes of a batch\n",
    "for image, label in dataset['train'].take(1):\n",
    "    print(image.shape, label.shape)"
   ]
  },
  {
   "cell_type": "code",
   "execution_count": 9,
   "metadata": {
    "id": "bw9EmV8LO0sb"
   },
   "outputs": [
    {
     "data": {
      "image/png": "[encoded data removed]",
      "text/plain": [
       "<Figure size 300x300 with 1 Axes>"
      ]
     },
     "metadata": {
      "image/png": {
       "height": 272,
       "width": 250
      }
     },
     "output_type": "display_data"
    }
   ],
   "source": [
    "# EXTRACT\n",
    "dataset = tfds.load(name=\"mnist\", split=tfds.Split.TRAIN)\n",
    "\n",
    "# TRANSFORM\n",
    "dataset.shuffle(100)\n",
    "\n",
    "# LOAD\n",
    "for data in dataset.take(1):\n",
    "    image = data[\"image\"].numpy().squeeze()\n",
    "    label = data[\"label\"].numpy()\n",
    "    \n",
    "    plt.figure(figsize=(3, 3))\n",
    "    plt.imshow(image, cmap=plt.cm.binary)\n",
    "    plt.title(f\"Label: {label}\")\n",
    "    plt.axis('off')\n",
    "    plt.show()"
   ]
  },
  {
   "cell_type": "markdown",
   "metadata": {},
   "source": [
    "### DatasetBuilder"
   ]
  },
  {
   "cell_type": "code",
   "execution_count": 7,
   "metadata": {},
   "outputs": [
    {
     "data": {
      "text/plain": [
       "<PrefetchDataset element_spec={'image': TensorSpec(shape=(28, 28, 1), dtype=tf.uint8, name=None), 'label': TensorSpec(shape=(), dtype=tf.int64, name=None)}>"
      ]
     },
     "execution_count": 7,
     "metadata": {},
     "output_type": "execute_result"
    }
   ],
   "source": [
    "# Pick dataset\n",
    "mnist_builder = tfds.builder(name=\"mnist\")\n",
    "# Download\n",
    "mnist_builder.download_and_prepare()\n",
    "# Extract dataset\n",
    "mnist_builder.as_dataset(split=tfds.Split.TRAIN)"
   ]
  },
  {
   "cell_type": "markdown",
   "metadata": {},
   "source": [
    "## TFDS in Keras"
   ]
  },
  {
   "cell_type": "code",
   "execution_count": null,
   "metadata": {},
   "outputs": [],
   "source": [
    "(train_images, train_labels), (test_images, test_labels) = \\\n",
    "    tfds.as_numpy(dataset=tfds.load(name=\"fashion_mnist\",\n",
    "        split=['train', 'test'], batch_size=1, as_supervised=True)\n",
    "    )\n",
    "\n",
    "model = tf.keras.Sequential([\n",
    "    tf.keras.layers.Flatten(input_shape=(28, 28, 1)),\n",
    "    tf.keras.layers.Dense(units=128, activation=tf.keras.activations.relu()),\n",
    "    tf.keras.layers.Dropout(rate=0.2),\n",
    "    tf.keras.layers.Dense(units=10, activation=tf.keras.activations.softmax())\n",
    "])\n",
    "\n",
    "model.compile(\n",
    "    optimizer=tf.keras.optimizers.Adam(),\n",
    "    loss=tf.keras.losses.SparseCategoricalCrossentropy(),\n",
    "    metrics=[tf.keras.metrics.SparseCategoricalAccuracy()]\n",
    ")\n",
    "\n",
    "history = model.fit(x=train_images, y=train_labels, epochs=5)"
   ]
  }
 ],
 "metadata": {
  "accelerator": "GPU",
  "colab": {
   "collapsed_sections": [],
   "include_colab_link": true,
   "name": "C3_W1_Lab_1_tfds_hello_world.ipynb",
   "provenance": [],
   "toc_visible": true
  },
  "kernelspec": {
   "display_name": "Python 3 (ipykernel)",
   "language": "python",
   "name": "python3"
  },
  "language_info": {
   "codemirror_mode": {
    "name": "ipython",
    "version": 3
   },
   "file_extension": ".py",
   "mimetype": "text/x-python",
   "name": "python",
   "nbconvert_exporter": "python",
   "pygments_lexer": "ipython3",
   "version": "3.8.10"
  }
 },
 "nbformat": 4,
 "nbformat_minor": 4
}
