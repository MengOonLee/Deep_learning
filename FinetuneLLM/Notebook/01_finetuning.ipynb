{
  "cells": [
    {
      "cell_type": "markdown",
      "metadata": {
        "id": "view-in-github",
        "colab_type": "text"
      },
      "source": [
        "<a href=\"https://colab.research.google.com/github/MengOonLee/Deep_learning/blob/master/FinetuneLLM/Notebook/01_finetuning.ipynb\" target=\"_parent\"><img src=\"https://colab.research.google.com/assets/colab-badge.svg\" alt=\"Open In Colab\"/></a>"
      ]
    },
    {
      "cell_type": "markdown",
      "metadata": {
        "height": 30,
        "id": "08lKs_ueW801"
      },
      "source": [
        "# Finetuning model\n",
        "\n",
        "What does finetuning do for the model?\n",
        "* Put more data into the model than what fits into the prompt\n",
        "* Gets the model to learn the data, rather than just get access to it\n",
        "* Steers the model to more consistent outputs\n",
        "* Reduces hallucinations\n",
        "* Customizes the model to a specific use case\n",
        "* Process is similar to the model's earlier training"
      ]
    },
    {
      "cell_type": "markdown",
      "metadata": {
        "id": "AC8tWTsUW804"
      },
      "source": [
        "## Prompt engineering vs. Finetuning\n",
        "\n",
        "**Prompting**  \n",
        "Generic, side projects, prototypes  \n",
        "- Pros:\n",
        "  * No data to get started\n",
        "  * Smaller upfront cost\n",
        "  * No technical knowledge needed\n",
        "  * Connect data through retrieval (RAG)\n",
        "- Cons:\n",
        "  * Much less data fits\n",
        "  * Forgets data\n",
        "  * Hallucinations\n",
        "  * RAG misses, or gets incorrect data\n",
        "\n",
        "**Finetuning**  \n",
        "Domain-specific, enterprise, production usage, privacy  \n",
        "- Pros:\n",
        "  * Nearly unlimited data fits\n",
        "  * Learn new information\n",
        "  * Correct incorrect information\n",
        "  * Less cost afterwards if smaller model\n",
        "  * Use RAG too\n",
        "\n",
        "- Cons:\n",
        "  * More high-quality data\n",
        "  * Upfront compute cost\n",
        "  * Needs some technical knowledge, esp. data"
      ]
    },
    {
      "cell_type": "markdown",
      "metadata": {
        "id": "yeeN-cPdW805"
      },
      "source": [
        "## Benefits of finetuning LLM\n",
        "\n",
        "**Performance**  \n",
        "* Stop hallucinations\n",
        "* Increase consistency\n",
        "* Reduce unwanted info\n",
        "\n",
        "**Privacy**  \n",
        "* On-prem or VPC\n",
        "* Prevent leakage\n",
        "* No breaches\n",
        "\n",
        "**Cost**  \n",
        "* Lower cost per request\n",
        "* Increased transparency\n",
        "* Greater control\n",
        "\n",
        "**Reliability**  \n",
        "* Control uptime\n",
        "* Lower latency\n",
        "* Moderation"
      ]
    },
    {
      "cell_type": "markdown",
      "metadata": {
        "id": "WMGxBP-yQoCl"
      },
      "source": [
        "## Compare finetuned vs. non-finetuned models"
      ]
    },
    {
      "cell_type": "code",
      "execution_count": null,
      "metadata": {
        "cellView": "form",
        "height": 30,
        "id": "PKnPPEyPR3MO"
      },
      "outputs": [],
      "source": [
        "from llama import BasicModelRunner"
      ]
    },
    {
      "cell_type": "markdown",
      "metadata": {
        "id": "KsaItg3tW807"
      },
      "source": [
        "### Try Non-Finetuned models"
      ]
    },
    {
      "cell_type": "code",
      "execution_count": null,
      "metadata": {
        "height": 45,
        "id": "wYIvG-MqW807"
      },
      "outputs": [],
      "source": [
        "non_finetuned = BasicModelRunner(\"meta-llama/Llama-2-7b-hf\")"
      ]
    },
    {
      "cell_type": "code",
      "execution_count": null,
      "metadata": {
        "height": 45,
        "id": "INP1gkaRW808"
      },
      "outputs": [],
      "source": [
        "non_finetuned_output = non_finetuned(\"Tell me how to train my dog to sit\")"
      ]
    },
    {
      "cell_type": "code",
      "execution_count": null,
      "metadata": {
        "height": 30,
        "scrolled": true,
        "id": "qaQgTSMQW808",
        "outputId": "d7402fe4-4914-4bd6-c426-41404e8f92b1"
      },
      "outputs": [
        {
          "name": "stdout",
          "output_type": "stream",
          "text": [
            ".\n",
            "Tell me how to train my dog to sit. I have a 10 month old puppy and I want to train him to sit. I have tried the treat method and he just sits there and looks at me like I am crazy. I have tried the \"sit\"\n"
          ]
        }
      ],
      "source": [
        "print(non_finetuned_output)"
      ]
    },
    {
      "cell_type": "code",
      "execution_count": null,
      "metadata": {
        "height": 30,
        "scrolled": true,
        "id": "WADGRf3OW809",
        "outputId": "83cb631a-0cab-4f69-ebb4-c8d4d6f48fb7"
      },
      "outputs": [
        {
          "name": "stdout",
          "output_type": "stream",
          "text": [
            "\n",
            "I think it's a great planet.\n",
            "I think it's a great planet. I think it's a great planet. I think it's a great planet. I think it's a great planet. I think it's a great planet. I think it's a great planet. I think it's a great planet. I think it's a great planet. I think it's a great planet. I think it's a great planet. I think it's a great planet. I think it's a great planet. I think it's a great planet. I think it's a great planet. I think it's a great planet. I think it's a great planet. I think it's a great planet. I think it's a great planet. I think it's a great planet. I think it's a great planet. I think it's a great planet. I think it's a great planet. I think it's a great planet. I think it's a great planet. I think it's a great planet. I think it's a great planet. I think it's a great planet. I think\n"
          ]
        }
      ],
      "source": [
        "print(non_finetuned(\"What do you think of Mars?\"))"
      ]
    },
    {
      "cell_type": "code",
      "execution_count": null,
      "metadata": {
        "height": 30,
        "scrolled": true,
        "id": "8qgYNyzoW80-",
        "outputId": "0eafe3ac-d949-48da-9d4d-2868eba42458"
      },
      "outputs": [
        {
          "name": "stdout",
          "output_type": "stream",
          "text": [
            "\n",
            "I'm not sure if I've ever mentioned this before, but I'm a huge Taylor Swift fan. I've been a fan since her first album, and I've been a fan ever since. I've been a fan of her music, her lyrics, her style, her personality, and her personality. I've been a fan of her music, her lyrics, her style, her personality, and her personality. I've been a fan of her music, her lyrics, her style, her personality, and her personality. I've been a fan of her music, her lyrics, her style, her personality, and her personality. I've been a fan of her music, her lyrics, her style, her personality, and her personality. I've been a fan of her music, her lyrics, her style, her personality, and her personality. I've been a fan of her music, her lyrics, her style, her personality, and her personality. I've been a fan of her music, her lyrics, her style, her personality, and her personality. I'\n"
          ]
        }
      ],
      "source": [
        "print(non_finetuned(\"taylor swift's best friend\"))"
      ]
    },
    {
      "cell_type": "code",
      "execution_count": null,
      "metadata": {
        "height": 113,
        "scrolled": true,
        "id": "_jtPptBfW80-",
        "outputId": "58cc528b-f5aa-4746-8972-b79886e4508c"
      },
      "outputs": [
        {
          "name": "stdout",
          "output_type": "stream",
          "text": [
            " I'm sorry to hear that. I'll look into it.\n",
            "Customer: I'm not sure if I got the right blanket.\n",
            "Agent: I'm sorry to hear that. I'll look into it.\n",
            "Customer: I'm not sure if I got the right blanket. I'm not sure if I got the right blanket.\n",
            "Agent: I'm sorry to hear that. I'll look into it. I'll look into it.\n",
            "Customer: I'm not sure if I got the right blanket. I'm not sure if I got the right blanket. I'm not sure if I got the right blanket.\n",
            "Agent: I'm sorry to hear that. I'll look into it. I'll look into it. I'll look into it.\n",
            "Customer: I'm not sure if I got the right blanket. I'm not sure if I got the right blanket. I'm not sure if I got the right blanket. I'm not sure if I got the right blanket. I'm not sure if I got the right blanket. I'm not sure if I got the right blank\n"
          ]
        }
      ],
      "source": [
        "print(non_finetuned(\"\"\"\n",
        "Agent: I'm here to help you with your Amazon deliver order.\n",
        "Customer: I didn't get my item\n",
        "Agent: I'm sorry to hear that. Which item was it?\n",
        "Customer: the blanket\n",
        "Agent:\n",
        "\"\"\"))"
      ]
    },
    {
      "cell_type": "markdown",
      "metadata": {
        "id": "VJehRe_SW80-"
      },
      "source": [
        "### Compare to finetuned models"
      ]
    },
    {
      "cell_type": "code",
      "execution_count": null,
      "metadata": {
        "height": 45,
        "id": "WSpzU7DOW80-"
      },
      "outputs": [],
      "source": [
        "finetuned_model = BasicModelRunner(\"meta-llama/Llama-2-7b-chat-hf\")"
      ]
    },
    {
      "cell_type": "code",
      "execution_count": null,
      "metadata": {
        "height": 45,
        "id": "D6LGcrWPW80_"
      },
      "outputs": [],
      "source": [
        "finetuned_output = finetuned_model(\"Tell me how to train my dog to sit\")"
      ]
    },
    {
      "cell_type": "code",
      "execution_count": null,
      "metadata": {
        "height": 30,
        "scrolled": true,
        "id": "oloAqO9gW80_",
        "outputId": "aa16ee58-f81e-4364-9ef0-8121d15979aa"
      },
      "outputs": [
        {
          "name": "stdout",
          "output_type": "stream",
          "text": [
            " on command.\n",
            "How to Train Your Dog to Sit on Command\n",
            "Training your dog to sit on command is a basic obedience command that can be achieved with patience, consistency, and positive reinforcement. Here's a step-by-step guide on how to train your dog to sit on command:\n",
            "1. Choose a Quiet and Distraction-Free Area: Find a quiet area with minimal distractions where your dog can focus on you.\n",
            "2. Have Treats Ready: Choose your dog's favorite treats and have them ready to use as rewards.\n",
            "3. Stand in Front of Your Dog: Stand in front of your dog and hold a treat close to their nose.\n",
            "4. Move the Treat Above Your Dog's Head: Slowly move the treat above your dog's head, towards their tail. As your dog follows the treat with their nose, their bottom will naturally lower into a sitting position.\n",
            "5. Say \"Sit\"\n"
          ]
        }
      ],
      "source": [
        "print(finetuned_output)"
      ]
    },
    {
      "cell_type": "code",
      "execution_count": null,
      "metadata": {
        "height": 45,
        "scrolled": true,
        "id": "qgkv9mtgW80_",
        "outputId": "3a8bb3dc-6a36-45e5-a658-2d424f91c290"
      },
      "outputs": [
        {
          "name": "stdout",
          "output_type": "stream",
          "text": [
            "  Training your dog to sit is a basic obedience command that can be achieved with patience, consistency, and positive reinforcement. Here's a step-by-step guide on how to train your dog to sit:\n",
            "1. Choose a quiet and distraction-free area: Find a quiet area with no distractions where your dog can focus on you.\n",
            "2. Have treats ready: Choose your dog's favorite treats and have them ready to use as rewards.\n",
            "3. Stand in front of your dog: Stand in front of your dog and hold a treat close to their nose.\n",
            "4. Move the treat up and back: Slowly move the treat up and back, towards your dog's tail, while saying \"sit\"\n"
          ]
        }
      ],
      "source": [
        "print(finetuned_model(\"[INST]Tell me how to train my dog to sit[/INST]\"))"
      ]
    },
    {
      "cell_type": "code",
      "execution_count": null,
      "metadata": {
        "height": 45,
        "scrolled": true,
        "id": "Un6YCsmLW81A",
        "outputId": "ba956a4a-b7f4-4192-b305-9ad3c460656d"
      },
      "outputs": [
        {
          "name": "stdout",
          "output_type": "stream",
          "text": [
            "\n",
            "[INST]Tell me how to train my dog to sit[/INST]\n",
            "[INST]Tell me how to train my dog to sit[/INST] [INST]Tell me how to train my dog to sit[/INST] [INST]Tell me how to train my dog to sit[/INST] [INST]Tell me how to train my dog to sit[/INST] [INST]Tell me how to train my dog to sit[/INST] [INST]Tell me how to train my dog to sit[/INST] [INST]Tell me how to train my dog to sit[/INST] [INST]Tell me how to train my dog to sit[/INST] [INST]Tell me how to train my dog to sit[/INST] [INST]Tell me how to train my dog to sit[/INST] [INST]Tell me how to train my dog to sit[/INST] [INST]Tell me how to train my dog to sit[/INST] [INST]Tell me how to train my dog to sit[/INST] [INST]Tell me how to train my dog to sit[/INST\n"
          ]
        }
      ],
      "source": [
        "print(non_finetuned(\"[INST]Tell me how to train my dog to sit[/INST]\"))"
      ]
    },
    {
      "cell_type": "code",
      "execution_count": null,
      "metadata": {
        "height": 30,
        "scrolled": true,
        "id": "XsyVVrPNW81A",
        "outputId": "ce3847b5-1774-49a9-d7b8-45d1fb9ef461"
      },
      "outputs": [
        {
          "name": "stdout",
          "output_type": "stream",
          "text": [
            "\n",
            "\n",
            "Mars is a fascinating planet that has captured the imagination of humans for centuries. It is the fourth planet from the Sun in our solar system and is known for its reddish appearance. Mars is a rocky planet with a thin atmosphere, and its surface is characterized by volcanoes, canyons, and impact craters.\n",
            "One of the most intriguing aspects of Mars is its potential for supporting life. While there is currently no evidence of life on Mars, the planet's atmosphere and geology suggest that it may have been habitable in the past. NASA's Curiosity rover has been exploring Mars since 2012, and has discovered evidence of water on the planet, which is a key ingredient for life.\n",
            "Mars is also a popular target for space missions and future human settlements. Elon Musk's SpaceX company, for example, is planning to send humans to Mars as early as 2024. The potential for human settlements on Mars raises questions about the ethics of colonizing another planet and the impact that humans could have on the Martian environment.\n",
            "Overall, Mars is a fascinating and complex planet that\n"
          ]
        }
      ],
      "source": [
        "print(finetuned_model(\"What do you think of Mars?\"))"
      ]
    },
    {
      "cell_type": "code",
      "execution_count": null,
      "metadata": {
        "height": 30,
        "scrolled": true,
        "id": "2jaqAZumW81A",
        "outputId": "4ba2f404-66a0-4ad9-cb76-85fb20c76818"
      },
      "outputs": [
        {
          "name": "stdout",
          "output_type": "stream",
          "text": [
            "\n",
            "\n",
            "Taylor Swift's best friend is a person who has been by her side through thick and thin. They have been a constant source of support and encouragement, and have been there for her through all of the ups and downs of her career and personal life.\n",
            "\n",
            "Taylor Swift's best friend is someone who is not afraid to speak their mind and tell her when she is being silly or stubborn. They are not afraid to give her a hard time or tease her, but they do it in a loving and playful way. They know how to push her buttons just enough to get her to open up and be her true self.\n",
            "\n",
            "Taylor Swift's best friend is someone who is fiercely loyal and protective of her. They have her back no matter what, and will always have her best interests at heart. They are the first person she turns to when she needs advice or support, and they are always there to offer a listening ear and a shoulder to cry on.\n",
            "\n",
            "Taylor Swift's best friend is someone who is not afraid to be themselves around her. They don't try to be someone they're not in order to impress her, and they don't put on air\n"
          ]
        }
      ],
      "source": [
        "print(finetuned_model(\"taylor swift's best friend\"))"
      ]
    },
    {
      "cell_type": "code",
      "execution_count": null,
      "metadata": {
        "height": 113,
        "scrolled": true,
        "id": "oJyvFOLzW81A",
        "outputId": "64709303-a7bb-4a94-c7d9-f36ddeb5452e"
      },
      "outputs": [
        {
          "name": "stdout",
          "output_type": "stream",
          "text": [
            " I see. Can you please provide me with your order number so I can look into this for you?\n",
            "Customer: I don't have the order number.\n",
            "Agent: Okay, no worries. Can you please tell me the name of the item you didn't receive?\n",
            "Customer: Blanket\n",
            "Agent: And what was the shipping address for this item?\n",
            "Customer: 123 Main St\n",
            "Agent: Okay, thank you for providing that information. I'm going to check on the status of your order for you. Can you please hold for just a moment?\n",
            "Customer: (hangs up)\n",
            "This is a common scenario in customer service, where the agent is trying to gather information from the customer to help resolve their issue. The agent is using active listening skills to gather information from the customer, such as the order number, the name of the item, and the shipping address. This information is important for the agent to look into the issue and provide a solution.\n",
            "In this scenario, the agent is using a friendly and empathetic tone to communicate with the customer. They are also being patient and taking the time to listen to the customer's concern, which can help to build trust and rapport with\n"
          ]
        }
      ],
      "source": [
        "print(finetuned_model(\"\"\"\n",
        "Agent: I'm here to help you with your Amazon deliver order.\n",
        "Customer: I didn't get my item\n",
        "Agent: I'm sorry to hear that. Which item was it?\n",
        "Customer: the blanket\n",
        "Agent:\n",
        "\"\"\"))"
      ]
    },
    {
      "cell_type": "markdown",
      "metadata": {
        "id": "FgX5M35rW81B"
      },
      "source": [
        "### Compare to ChatGPT"
      ]
    },
    {
      "cell_type": "code",
      "execution_count": null,
      "metadata": {
        "height": 30,
        "id": "Du5xcGXJW81B"
      },
      "outputs": [],
      "source": [
        "chatgpt = BasicModelRunner(\"chat-gpt\")"
      ]
    },
    {
      "cell_type": "code",
      "execution_count": null,
      "metadata": {
        "height": 30,
        "scrolled": true,
        "id": "lRNDdeflW81B",
        "outputId": "a7a03205-3e9f-42a1-bc6e-de7870217819"
      },
      "outputs": [
        {
          "name": "stdout",
          "output_type": "stream",
          "text": [
            "Training a dog to sit is a basic command that can be taught using positive reinforcement techniques. Here's a step-by-step guide on how to train your dog to sit:\n",
            "\n",
            "1. Choose a quiet and distraction-free environment: Find a calm area in your home or a quiet outdoor space where your dog can focus on the training without any distractions.\n",
            "\n",
            "2. Gather treats: Use small, soft, and tasty treats that your dog loves. These treats will serve as rewards during the training process.\n",
            "\n",
            "3. Get your dog's attention: Call your dog's name or use a clicker to get their attention. Make sure they are looking at you before proceeding.\n",
            "\n",
            "4. Lure your dog into a sitting position: Hold a treat close to your dog's nose and slowly move it upwards and slightly backward over their head. As their nose follows the treat, their bottom will naturally lower into a sitting position. Once they are sitting, say \"sit\" in a clear and firm voice.\n",
            "\n",
            "5. Reward and praise: As soon as your dog sits, give them the treat and offer verbal praise such as \"good sit\" or \"well done.\" This positive reinforcement will help them associate the action with the command.\n",
            "\n",
            "6. Repeat the process: Practice the sit command multiple times in short training sessions\n"
          ]
        }
      ],
      "source": [
        "print(chatgpt(\"Tell me how to train my dog to sit\"))"
      ]
    }
  ],
  "metadata": {
    "colab": {
      "gpuType": "T4",
      "provenance": [],
      "include_colab_link": true
    },
    "kernelspec": {
      "display_name": "Python 3 (ipykernel)",
      "language": "python",
      "name": "python3"
    },
    "language_info": {
      "codemirror_mode": {
        "name": "ipython",
        "version": 3
      },
      "file_extension": ".py",
      "mimetype": "text/x-python",
      "name": "python",
      "nbconvert_exporter": "python",
      "pygments_lexer": "ipython3",
      "version": "3.8.10"
    }
  },
  "nbformat": 4,
  "nbformat_minor": 0
}