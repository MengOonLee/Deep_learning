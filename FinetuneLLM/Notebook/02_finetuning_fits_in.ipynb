{
  "cells": [
    {
      "cell_type": "markdown",
      "metadata": {
        "id": "view-in-github",
        "colab_type": "text"
      },
      "source": [
        "<a href=\"https://colab.research.google.com/github/MengOonLee/Deep_learning/blob/master/FinetuneLLM/Notebook/02_finetuning_fits_in.ipynb\" target=\"_parent\"><img src=\"https://colab.research.google.com/assets/colab-badge.svg\" alt=\"Open In Colab\"/></a>"
      ]
    },
    {
      "cell_type": "markdown",
      "source": [
        "# Finetuning Fits In"
      ],
      "metadata": {
        "id": "tlhf1jwodsqP"
      }
    },
    {
      "cell_type": "markdown",
      "source": [
        "## Finetuning after pretraining\n",
        "\n",
        "Finetuning usually refers to training further\n",
        "* Self-supervised unlabeled/labeled data\n",
        "* Much less data needed\n",
        "* Behavior change\n",
        "  - Learning to respond more consistently\n",
        "  - Learning to focus, e.g. moderation\n",
        "* Gain knowledge\n",
        "  - Increasing knowledge of new specific concepts\n",
        "  - Correcting old incorrect information\n",
        "* Task clarity is key indicator of success\n",
        "  - Extraction: data in, less data out\n",
        "  - Expansion: data in, more data out\n"
      ],
      "metadata": {
        "id": "bPbcL10qeJCE"
      }
    },
    {
      "cell_type": "markdown",
      "metadata": {
        "id": "FbWoGOis4KoG"
      },
      "source": [
        "## Finetuning data: compare to pretraining and basic preparation"
      ]
    },
    {
      "cell_type": "code",
      "execution_count": null,
      "metadata": {
        "height": 132,
        "id": "_LQ5_lop4KJq"
      },
      "outputs": [],
      "source": [
        "import jsonlines\n",
        "import itertools\n",
        "import pandas as pd\n",
        "from pprint import pprint\n",
        "\n",
        "import datasets\n",
        "from datasets import load_dataset"
      ]
    },
    {
      "cell_type": "markdown",
      "metadata": {
        "id": "KVzTLJwPWe4Y"
      },
      "source": [
        "### Look at pretraining data set"
      ]
    },
    {
      "cell_type": "markdown",
      "metadata": {
        "id": "_-Rr3Cp1We4Z"
      },
      "source": [
        "**Sorry**, \"The Pile\" dataset is currently relocating to a new home and so we can't show you the same example that is in the video. Here is another dataset, the [\"Common Crawl\"](https://huggingface.co/datasets/c4) dataset."
      ]
    },
    {
      "cell_type": "code",
      "execution_count": null,
      "metadata": {
        "height": 96,
        "id": "IiW9GUZ1We4Z"
      },
      "outputs": [],
      "source": [
        "# pretrained_dataset = load_dataset(\"EleutherAI/pile\", split=\"train\",\n",
        "    # streaming=True)\n",
        "\n",
        "pretrained_dataset = load_dataset(\"c4\", \"en\",\n",
        "    split=\"train\", streaming=True)"
      ]
    },
    {
      "cell_type": "code",
      "execution_count": null,
      "metadata": {
        "height": 98,
        "id": "Pqs3muKxWe4Z"
      },
      "outputs": [],
      "source": [
        "n = 5\n",
        "print(\"Pretrained dataset:\")\n",
        "top_n = itertools.islice(pretrained_dataset, n)\n",
        "for i in top_n:\n",
        "    print(i)"
      ]
    },
    {
      "cell_type": "markdown",
      "metadata": {
        "id": "Gh6CHx93We4a"
      },
      "source": [
        "### Contrast with company finetuning dataset you will be using"
      ]
    },
    {
      "cell_type": "code",
      "execution_count": null,
      "metadata": {
        "height": 64,
        "id": "YLsODfu-We4a"
      },
      "outputs": [],
      "source": [
        "filename = \"lamini_docs.jsonl\"\n",
        "instruction_dataset_df = pd.read_json(filename, lines=True)\n",
        "instruction_dataset_df"
      ]
    },
    {
      "cell_type": "markdown",
      "metadata": {
        "id": "dSoAKQXdWe4a"
      },
      "source": [
        "### Various ways of formatting your data"
      ]
    },
    {
      "cell_type": "code",
      "execution_count": null,
      "metadata": {
        "height": 64,
        "id": "BVlWT8WtWe4b"
      },
      "outputs": [],
      "source": [
        "examples = instruction_dataset_df.to_dict()\n",
        "text = examples[\"question\"][0] + examples[\"answer\"][0]\n",
        "text"
      ]
    },
    {
      "cell_type": "code",
      "execution_count": null,
      "metadata": {
        "height": 149,
        "id": "7dtXfE3rWe4b"
      },
      "outputs": [],
      "source": [
        "if \"question\" in examples and \"answer\" in examples:\n",
        "    text = examples[\"question\"][0] + examples[\"answer\"][0]\n",
        "elif \"instruction\" in examples and \"response\" in examples:\n",
        "    text = examples[\"instruction\"][0] + examples[\"response\"][0]\n",
        "elif \"input\" in examples and \"output\" in examples:\n",
        "    text = examples[\"input\"][0] + examples[\"output\"][0]\n",
        "else:\n",
        "    text = examples[\"text\"][0]"
      ]
    },
    {
      "cell_type": "code",
      "execution_count": null,
      "metadata": {
        "height": 98,
        "id": "Zclrg7yUWe4b"
      },
      "outputs": [],
      "source": [
        "prompt_template_qa = \"\"\"\n",
        "### Question:\n",
        "{question}\n",
        "\n",
        "### Answer:\n",
        "{answer}\n",
        "\"\"\""
      ]
    },
    {
      "cell_type": "code",
      "execution_count": null,
      "metadata": {
        "height": 113,
        "id": "HINdWkzXWe4c"
      },
      "outputs": [],
      "source": [
        "question = examples[\"question\"][0]\n",
        "answer = examples[\"answer\"][0]\n",
        "\n",
        "text_with_prompt_template = prompt_template_qa.format(\n",
        "    question=question, answer=answer)\n",
        "text_with_prompt_template"
      ]
    },
    {
      "cell_type": "code",
      "execution_count": null,
      "metadata": {
        "height": 81,
        "id": "iae5x49JWe4c"
      },
      "outputs": [],
      "source": [
        "prompt_template_q = \"\"\"\n",
        "### Question:\n",
        "{question}\n",
        "\n",
        "### Answer:\n",
        "\"\"\""
      ]
    },
    {
      "cell_type": "code",
      "execution_count": null,
      "metadata": {
        "height": 232,
        "id": "tncFszEdWe4c"
      },
      "outputs": [],
      "source": [
        "num_examples = len(examples[\"question\"])\n",
        "finetuning_dataset_text_only = []\n",
        "finetuning_dataset_question_answer = []\n",
        "for i in range(num_examples):\n",
        "  question = examples[\"question\"][i]\n",
        "  answer = examples[\"answer\"][i]\n",
        "\n",
        "  text_with_prompt_template_qa = prompt_template_qa.format(\n",
        "      question=question, answer=answer)\n",
        "  finetuning_dataset_text_only.append({\n",
        "      \"text\": text_with_prompt_template_qa\n",
        "  })\n",
        "\n",
        "  text_with_prompt_template_q = prompt_template_q.format(question=question)\n",
        "  finetuning_dataset_question_answer.append({\n",
        "      \"question\": text_with_prompt_template_q,\n",
        "      \"answer\": answer\n",
        "  })"
      ]
    },
    {
      "cell_type": "code",
      "execution_count": null,
      "metadata": {
        "height": 30,
        "id": "_J2Ac9CTWe4d"
      },
      "outputs": [],
      "source": [
        "pprint(finetuning_dataset_text_only[0])"
      ]
    },
    {
      "cell_type": "code",
      "execution_count": null,
      "metadata": {
        "height": 30,
        "id": "Mhrws4qHWe4d"
      },
      "outputs": [],
      "source": [
        "pprint(finetuning_dataset_question_answer[0])"
      ]
    },
    {
      "cell_type": "markdown",
      "metadata": {
        "id": "xjLg2UCMWe4d"
      },
      "source": [
        "### Common ways of storing your data"
      ]
    },
    {
      "cell_type": "code",
      "execution_count": null,
      "metadata": {
        "height": 62,
        "id": "vWWAzJg4We4d"
      },
      "outputs": [],
      "source": [
        "with jsonlines.open(f'lamini_docs_processed.jsonl', 'w') as writer:\n",
        "    writer.write_all(finetuning_dataset_question_answer)"
      ]
    },
    {
      "cell_type": "code",
      "execution_count": null,
      "metadata": {
        "height": 64,
        "id": "-SCoq6oTWe4d"
      },
      "outputs": [],
      "source": [
        "finetuning_dataset_name = \"lamini/lamini_docs\"\n",
        "finetuning_dataset = load_dataset(finetuning_dataset_name)\n",
        "print(finetuning_dataset)"
      ]
    }
  ],
  "metadata": {
    "colab": {
      "provenance": [],
      "include_colab_link": true
    },
    "kernelspec": {
      "display_name": "Python 3 (ipykernel)",
      "language": "python",
      "name": "python3"
    },
    "language_info": {
      "codemirror_mode": {
        "name": "ipython",
        "version": 3
      },
      "file_extension": ".py",
      "mimetype": "text/x-python",
      "name": "python",
      "nbconvert_exporter": "python",
      "pygments_lexer": "ipython3",
      "version": "3.9.17"
    }
  },
  "nbformat": 4,
  "nbformat_minor": 0
}