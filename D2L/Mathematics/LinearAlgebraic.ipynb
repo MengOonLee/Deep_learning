{
 "cells": [
  {
   "cell_type": "markdown",
   "id": "6abf5fae-0cb4-48c9-9f37-60c340b9874d",
   "metadata": {},
   "source": [
    "# Geometry and Linear Algebraic Operations"
   ]
  },
  {
   "cell_type": "markdown",
   "id": "fb291571-0759-4353-b5a6-0dbc4e6cc023",
   "metadata": {},
   "source": [
    "## Dot Products and Angles"
   ]
  },
  {
   "cell_type": "code",
   "execution_count": 1,
   "id": "750f1e10-3c3f-4583-98ef-72106b733b78",
   "metadata": {},
   "outputs": [
    {
     "data": {
      "text/plain": [
       "tensor(0.4190)"
      ]
     },
     "execution_count": 1,
     "metadata": {},
     "output_type": "execute_result"
    }
   ],
   "source": [
    "import torch\n",
    "torch.manual_seed(seed=42)\n",
    "\n",
    "def angle(v, w):\n",
    "    return torch.acos(v.dot(w) / (torch.norm(v) * torch.norm(w)))\n",
    "\n",
    "v = torch.tensor([0, 1, 2], dtype=torch.float32)\n",
    "w = torch.tensor([2.0, 3.0, 4.0])\n",
    "angle(v, w)"
   ]
  }
 ],
 "metadata": {
  "kernelspec": {
   "display_name": "Python 3 (ipykernel)",
   "language": "python",
   "name": "python3"
  },
  "language_info": {
   "codemirror_mode": {
    "name": "ipython",
    "version": 3
   },
   "file_extension": ".py",
   "mimetype": "text/x-python",
   "name": "python",
   "nbconvert_exporter": "python",
   "pygments_lexer": "ipython3",
   "version": "3.11.0rc1"
  }
 },
 "nbformat": 4,
 "nbformat_minor": 5
}
